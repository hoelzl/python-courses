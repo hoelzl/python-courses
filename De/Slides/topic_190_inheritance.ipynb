{
 "cells": [
  {
   "cell_type": "markdown",
   "id": "bdcc5415",
   "metadata": {
    "lang": "de",
    "slideshow": {
     "slide_type": "slide"
    }
   },
   "source": [
    "<img src=\"img/python-logo-notext.svg\"\n",
    "     style=\"display:block;margin:auto;width:10%\"/>\n",
    "<br>\n",
    "<div style=\"text-align:center; font-size:200%;\"><b>Objektorientierung Teil 2: Vererbung</b></div>\n",
    "<br/>\n",
    "<div style=\"text-align:center;\">Dr. Matthias Hölzl</div>"
   ]
  },
  {
   "cell_type": "markdown",
   "id": "517a8a35",
   "metadata": {
    "lang": "de",
    "slideshow": {
     "slide_type": "slide"
    }
   },
   "source": [
    "\n",
    " # Objektorientierung Teil 2\n",
    "\n",
    " - Wir haben im vorherigen Kapitel Klassen kennengelernt, einen der grundlegenden Baustein der objektorientierten Programmierung\n",
    " - In diesem Kapitel werden wir Vererbung betrachten."
   ]
  },
  {
   "cell_type": "markdown",
   "id": "0a33acfb",
   "metadata": {
    "lang": "de",
    "slideshow": {
     "slide_type": "subslide"
    }
   },
   "source": [
    " ## Vererbung"
   ]
  },
  {
   "cell_type": "code",
   "execution_count": null,
   "id": "9fb68a8e",
   "metadata": {
    "tags": [
     "keep"
    ]
   },
   "outputs": [],
   "source": [
    "import random\n",
    "from typing import Tuple\n",
    "\n",
    "\n",
    "class Point:\n",
    "    def __init__(self, x=0, y=0):\n",
    "        self.x = x\n",
    "        self.y = y\n",
    "\n",
    "    def __repr__(self):\n",
    "        return f\"Point({self.x:.1f}, {self.y:.1f})\"\n",
    "\n",
    "    def move(self, dx=0, dy=0):\n",
    "        self.x += dx\n",
    "        self.y += dy\n",
    "\n",
    "    def randomize(self):\n",
    "        self.x = random.gauss(2, 4)\n",
    "        self.y = random.gauss(3, 2)"
   ]
  },
  {
   "cell_type": "code",
   "execution_count": null,
   "id": "772fe7ab",
   "metadata": {
    "tags": [
     "keep"
    ]
   },
   "outputs": [],
   "source": [
    "p = Point(0, 0)\n",
    "p"
   ]
  },
  {
   "cell_type": "code",
   "execution_count": null,
   "id": "c3ce6c1c",
   "metadata": {
    "tags": [
     "keep"
    ]
   },
   "outputs": [],
   "source": [
    "assert p.x == 0.0\n",
    "assert p.y == 0.0"
   ]
  },
  {
   "cell_type": "code",
   "execution_count": null,
   "id": "53437b41",
   "metadata": {
    "tags": [
     "keep"
    ]
   },
   "outputs": [],
   "source": [
    "p.move(2, 3)\n",
    "p"
   ]
  },
  {
   "cell_type": "code",
   "execution_count": null,
   "id": "d7ad4c76",
   "metadata": {
    "tags": [
     "keep"
    ]
   },
   "outputs": [],
   "source": [
    "assert p.x == 2.0\n",
    "assert p.y == 3.0"
   ]
  },
  {
   "cell_type": "code",
   "execution_count": null,
   "id": "bf7579ce",
   "metadata": {
    "tags": [
     "keep"
    ]
   },
   "outputs": [],
   "source": [
    "p.randomize()\n",
    "p"
   ]
  },
  {
   "cell_type": "markdown",
   "id": "b385660f",
   "metadata": {
    "lang": "de",
    "slideshow": {
     "slide_type": "subslide"
    }
   },
   "source": [
    "Wie können wir farbige Punkte einführen, ohne die komplette Funktionalität von `Point` neu implementieren zu müssen?"
   ]
  },
  {
   "cell_type": "code",
   "execution_count": null,
   "id": "e64dfd80",
   "metadata": {},
   "outputs": [],
   "source": [
    "class ColorPoint(Point):\n",
    "    def __init__(self, x=0, y=0, color=\"black\"):\n",
    "        super().__init__(x, y)\n",
    "        self.color = color\n",
    "\n",
    "    def __repr__(self):\n",
    "        return f\"ColorPoint({self.x:.1f}, {self.y:.1f}, {self.color!r})\"\n",
    "\n",
    "    def randomize(self):\n",
    "        super().randomize()\n",
    "        self.color = random.choice([\"black\", \"red\", \"green\", \"blue\", \"yellow\", \"white\"])"
   ]
  },
  {
   "cell_type": "code",
   "execution_count": null,
   "id": "14e229ce",
   "metadata": {
    "lines_to_next_cell": 2
   },
   "outputs": [],
   "source": [
    "cp = ColorPoint(2, 3, \"red\")\n",
    "cp"
   ]
  },
  {
   "cell_type": "code",
   "execution_count": null,
   "id": "d6af73ff",
   "metadata": {},
   "outputs": [],
   "source": [
    "assert cp.x == 2.0\n",
    "assert cp.y == 3.0\n",
    "assert cp.color == \"red\""
   ]
  },
  {
   "cell_type": "code",
   "execution_count": null,
   "id": "1965a323",
   "metadata": {
    "lines_to_next_cell": 2
   },
   "outputs": [],
   "source": [
    "cp.move(2, 3)\n",
    "cp"
   ]
  },
  {
   "cell_type": "code",
   "execution_count": null,
   "id": "759a904b",
   "metadata": {},
   "outputs": [],
   "source": [
    "assert cp.x == 4.0\n",
    "assert cp.y == 6.0\n",
    "assert cp.color == \"red\""
   ]
  },
  {
   "cell_type": "code",
   "execution_count": null,
   "id": "78278530",
   "metadata": {
    "lines_to_next_cell": 2
   },
   "outputs": [],
   "source": [
    "cp.randomize()\n",
    "cp"
   ]
  },
  {
   "cell_type": "markdown",
   "id": "3bb75d47",
   "metadata": {
    "lang": "de",
    "slideshow": {
     "slide_type": "subslide"
    }
   },
   "source": [
    "\n",
    " ## Mini-Workshop\n",
    "\n",
    " - Notebook `workshop_190_inheritance`\n",
    " - Abschnitt \"Vererbung\"\n"
   ]
  },
  {
   "cell_type": "markdown",
   "id": "4411ca78",
   "metadata": {
    "lang": "de",
    "slideshow": {
     "slide_type": "slide"
    }
   },
   "source": [
    "## Abstrakte Klassen\n",
    "\n",
    "- Klassen von denen keine direkte Instanz erzeugt werden kann\n",
    "- Haben die Klasse `abc.ABC` als Basisklasse\n",
    "    - (Eigentlich ist eine Metaklasse verantwortlich für das Verhalten)\n",
    "- Erlauben die Verwendung des `@abstractmethod` Dekorators um abstrakte Methoden zu definieren\n",
    "    - Der Rumpf einer abstrakten Methode ist oft `...`\n",
    "- Abstrakte Klassen, die nur abstrakte Methoden haben nennt man Interfaces\n",
    "    - Interfaces beschreiben Anforderungen an ihre Unterklassen"
   ]
  },
  {
   "cell_type": "code",
   "execution_count": null,
   "id": "1db84cdb",
   "metadata": {},
   "outputs": [],
   "source": [
    "..."
   ]
  },
  {
   "cell_type": "code",
   "execution_count": null,
   "id": "8eda761e",
   "metadata": {
    "slideshow": {
     "slide_type": "subslide"
    }
   },
   "outputs": [],
   "source": [
    "from abc import ABC, abstractmethod\n",
    "\n",
    "class MyBase(ABC):\n",
    "    @abstractmethod\n",
    "    def my_method(self):\n",
    "        ..."
   ]
  },
  {
   "cell_type": "code",
   "execution_count": null,
   "id": "eed469b1",
   "metadata": {},
   "outputs": [],
   "source": [
    "class MyClass(MyBase):\n",
    "    def my_method(self):\n",
    "        super().my_method()\n",
    "        print(\"my_method()\")"
   ]
  },
  {
   "cell_type": "code",
   "execution_count": null,
   "id": "e229d51e",
   "metadata": {},
   "outputs": [],
   "source": [
    "mc = MyClass()\n",
    "mc.my_method()"
   ]
  },
  {
   "cell_type": "markdown",
   "id": "1bb06296",
   "metadata": {
    "lang": "de",
    "slideshow": {
     "slide_type": "subslide"
    }
   },
   "source": [
    "- Abstrakte Methoden können eine Implementierung haben\n",
    "- Klassen, die von einer abstrakten Klasse erben aber nicht alle abstrakten Methoden überschreiben sind selber abstrakt."
   ]
  },
  {
   "cell_type": "code",
   "execution_count": null,
   "id": "bf1e89e9",
   "metadata": {},
   "outputs": [],
   "source": [
    "from abc import ABC, abstractmethod\n",
    "\n",
    "class MyBase(ABC):\n",
    "    @abstractmethod\n",
    "    def my_method(self):\n",
    "        print(\"Hi!\")"
   ]
  },
  {
   "cell_type": "code",
   "execution_count": null,
   "id": "a8044559",
   "metadata": {
    "lines_to_next_cell": 2
   },
   "outputs": [],
   "source": [
    "class MyClass(MyBase):\n",
    "    pass"
   ]
  },
  {
   "cell_type": "code",
   "execution_count": null,
   "id": "047130e6",
   "metadata": {
    "lines_to_next_cell": 2
   },
   "outputs": [],
   "source": [
    "# mc = MyClass()"
   ]
  },
  {
   "cell_type": "code",
   "execution_count": null,
   "id": "179ff97a",
   "metadata": {},
   "outputs": [],
   "source": [
    "class YourClass(MyBase):\n",
    "    def my_method(self):\n",
    "        super().my_method()\n",
    "        print(\"Hello!\")"
   ]
  },
  {
   "cell_type": "code",
   "execution_count": null,
   "id": "b4a0d884",
   "metadata": {
    "lines_to_next_cell": 2
   },
   "outputs": [],
   "source": [
    "yc = YourClass()\n",
    "yc.my_method()"
   ]
  },
  {
   "cell_type": "markdown",
   "id": "1494d372",
   "metadata": {
    "lang": "de",
    "lines_to_next_cell": 2,
    "slideshow": {
     "slide_type": "subslide"
    }
   },
   "source": [
    "# Workshop\n",
    "\n",
    "Siehe `workshop_950_rpg_dice` bis `Factory für RPG-Würfel`."
   ]
  },
  {
   "cell_type": "markdown",
   "id": "da92d7b5",
   "metadata": {
    "lang": "de"
   },
   "source": [
    "## RPG-Würfel\n",
    "\n",
    "In Rollenspielen werden Konflikte zwischen Spielern oft durch Würfeln\n",
    "entschieden. Dabei werden oft mehrere Würfel gleichzeitig verwendet. Außerdem\n",
    "werden nicht nur die bekannten 6-seitigen Würfel verwendet, sondern auch\n",
    "4-seitige, 8-seitige, 20-seitige Würfel, etc.\n",
    "\n",
    "Die Anzahl und Art der Würfel wird dabei durch folgende Notation beschrieben:\n",
    "\n",
    "```text\n",
    "<Anzahl der Würfel> d <Seiten pro Würfel>\n",
    "```\n",
    "\n",
    "Zum Beispiel wird das Würfeln mit zwei 6-seitigen Würfeln als `2d6`\n",
    "beschrieben. Manchmal werden auch komplexere Formeln verwendet: \n",
    "`3d20 + 2d6 - 4` bedeutet, dass gleichzeitig drei 20-seitige Würfel und zwei 6-seitige\n",
    "Würfel geworfen werden und die Gesamtsumme der Augenzahlen dann um 4\n",
    "verringert wird.\n",
    "\n",
    "In manchen Spielen wird das Werfen der niedrigsten oder höchsten Augenzahl\n",
    "besonders behandelt (\"katastrophale Niederlage\", \"kritischer Erfolg\").\n",
    "\n",
    "In den folgenden Aufgaben sollen Sie derartige RPG-Würfel in Python\n",
    "implementieren. Um Ihre Implementierung testen zu können empfiehlt es sich\n",
    "sie in einem IDE zu realisieren. \n",
    "\n",
    "Schreiben Sie Tests für jede Funktionalität, die Sie implementieren.\n",
    "Wie können Sie beim Testen mit der Zufälligkeit beim Würfeln umgehen?\n",
    "Was sind Stärken bzw. Schwächen der von Ihnen gewählten Teststrategie?"
   ]
  },
  {
   "cell_type": "markdown",
   "id": "80aa3ac4",
   "metadata": {
    "lang": "de"
   },
   "source": [
    "# Protokolle\n",
    "\n",
    "Durch Protokolle unterstützt Python strukturelles Subtyping, bei dem Subtyp-Beziehungen aus der Struktur der Klassen erschlossen werden (im Gegensatz zum nominalen Subtyping bei dem die Beziehungen explizit deklariert werden müssen)."
   ]
  },
  {
   "cell_type": "code",
   "execution_count": null,
   "id": "fab8d08e",
   "metadata": {},
   "outputs": [],
   "source": [
    "from typing import Protocol, runtime_checkable, SupportsInt"
   ]
  },
  {
   "cell_type": "code",
   "execution_count": null,
   "id": "87ed40f3",
   "metadata": {},
   "outputs": [],
   "source": [
    "class MyNumber:\n",
    "    def __int__(self):\n",
    "        return 0"
   ]
  },
  {
   "cell_type": "code",
   "execution_count": null,
   "id": "f441b184",
   "metadata": {},
   "outputs": [],
   "source": [
    "my_number = MyNumber()\n",
    "int(my_number)"
   ]
  },
  {
   "cell_type": "code",
   "execution_count": null,
   "id": "e477f37a",
   "metadata": {},
   "outputs": [],
   "source": [
    "isinstance(MyNumber, SupportsInt)"
   ]
  },
  {
   "cell_type": "code",
   "execution_count": null,
   "id": "d364e375",
   "metadata": {},
   "outputs": [],
   "source": [
    "@runtime_checkable\n",
    "class SupportsCastSpell(Protocol):\n",
    "    def cast_spell(self, name):\n",
    "        ..."
   ]
  },
  {
   "cell_type": "code",
   "execution_count": null,
   "id": "2dc15e21",
   "metadata": {},
   "outputs": [],
   "source": [
    "@runtime_checkable\n",
    "class SupportsHit(Protocol):\n",
    "    def hit(self, who, how):\n",
    "        ..."
   ]
  },
  {
   "cell_type": "code",
   "execution_count": null,
   "id": "6eb5a74d",
   "metadata": {},
   "outputs": [],
   "source": [
    "class Mage:\n",
    "    def __init__(self, name=\"The Mage\"):\n",
    "        self.name = name\n",
    "    def cast_spell(self, spell):\n",
    "        print(f\"{self.name} casts a {spell} spell.\")"
   ]
  },
  {
   "cell_type": "code",
   "execution_count": null,
   "id": "3c2242e4",
   "metadata": {},
   "outputs": [],
   "source": [
    "class Fighter:\n",
    "    @property\n",
    "    def name(self):\n",
    "        return \"The Fighter\"\n",
    "    def hit(self, opponent, weapon):\n",
    "        print(f\"{self.name} attacks {opponent} with {weapon}.\")"
   ]
  },
  {
   "cell_type": "code",
   "execution_count": null,
   "id": "e7e739b5",
   "metadata": {},
   "outputs": [],
   "source": [
    "class Bard:\n",
    "    def __init__(self, name=\"The Bard\"):\n",
    "        self.name = name"
   ]
  },
  {
   "cell_type": "code",
   "execution_count": null,
   "id": "ca43c6d5",
   "metadata": {},
   "outputs": [],
   "source": [
    "p1 = Mage()\n",
    "p2 = Fighter()\n",
    "p3 = Bard()"
   ]
  },
  {
   "cell_type": "code",
   "execution_count": null,
   "id": "6cac5596",
   "metadata": {},
   "outputs": [],
   "source": [
    "isinstance(p1, SupportsCastSpell)"
   ]
  },
  {
   "cell_type": "code",
   "execution_count": null,
   "id": "5e9004ba",
   "metadata": {},
   "outputs": [],
   "source": [
    "isinstance(p2, SupportsCastSpell)"
   ]
  },
  {
   "cell_type": "code",
   "execution_count": null,
   "id": "a4472327",
   "metadata": {},
   "outputs": [],
   "source": [
    "isinstance(p3, SupportsCastSpell)"
   ]
  },
  {
   "cell_type": "code",
   "execution_count": null,
   "id": "c002ba94",
   "metadata": {},
   "outputs": [],
   "source": [
    "isinstance(p1, SupportsHit)"
   ]
  },
  {
   "cell_type": "code",
   "execution_count": null,
   "id": "e7028860",
   "metadata": {},
   "outputs": [],
   "source": [
    "isinstance(p2, SupportsHit)"
   ]
  },
  {
   "cell_type": "code",
   "execution_count": null,
   "id": "b99cfeba",
   "metadata": {},
   "outputs": [],
   "source": [
    "isinstance(p3, SupportsHit)"
   ]
  },
  {
   "cell_type": "code",
   "execution_count": null,
   "id": "dcff2004",
   "metadata": {},
   "outputs": [],
   "source": [
    "@runtime_checkable\n",
    "class HasName(Protocol):\n",
    "    @property\n",
    "    def name(self):\n",
    "        ..."
   ]
  },
  {
   "cell_type": "code",
   "execution_count": null,
   "id": "ca9dd4cb",
   "metadata": {},
   "outputs": [],
   "source": [
    "isinstance(p1, HasName)"
   ]
  },
  {
   "cell_type": "code",
   "execution_count": null,
   "id": "0afeadf9",
   "metadata": {},
   "outputs": [],
   "source": [
    "isinstance(p2, HasName)"
   ]
  },
  {
   "cell_type": "code",
   "execution_count": null,
   "id": "343fb4f8",
   "metadata": {},
   "outputs": [],
   "source": [
    "isinstance(p3, HasName)"
   ]
  },
  {
   "cell_type": "markdown",
   "id": "1f98ca28",
   "metadata": {
    "lang": "de",
    "slideshow": {
     "slide_type": "subslide"
    }
   },
   "source": [
    "\n",
    " ## Mini-Workshop\n",
    "\n",
    " - Notebook `workshop_190_inheritance`\n",
    " - Abschnitt \"Protokolle\"\n"
   ]
  },
  {
   "cell_type": "markdown",
   "id": "a32fcef6",
   "metadata": {
    "lang": "de"
   },
   "source": [
    "## Single Dispatch Funktionen\n",
    "\n",
    "Single Dispatch Funktionen erlauben die definition von \"Methoden\" außerhalb von Klassen, d.h., man kann Funktionen definieren, die polymorph in ihrem ersten Argument sind.\n",
    "\n",
    "Dieser Mechanismus erlaubt die flexible Erweiterung von bereits existierenden Klassen."
   ]
  },
  {
   "cell_type": "code",
   "execution_count": null,
   "id": "2ab4e4d1",
   "metadata": {},
   "outputs": [],
   "source": [
    "from functools import singledispatch"
   ]
  },
  {
   "cell_type": "code",
   "execution_count": null,
   "id": "ae2b77de",
   "metadata": {},
   "outputs": [],
   "source": [
    "@singledispatch\n",
    "def attack(player: HasName, opponent):\n",
    "    print(f\"{player.name} just stares at the carnage.\")"
   ]
  },
  {
   "cell_type": "code",
   "execution_count": null,
   "id": "a837beba",
   "metadata": {},
   "outputs": [],
   "source": [
    "@attack.register\n",
    "def _(player: Mage, opponent):\n",
    "    player.cast_spell(\"fireball\")"
   ]
  },
  {
   "cell_type": "code",
   "execution_count": null,
   "id": "c3b4f5fa",
   "metadata": {},
   "outputs": [],
   "source": [
    "@attack.register\n",
    "def _(player: Fighter, opponent):\n",
    "    player.hit(opponent, \"sword\")"
   ]
  },
  {
   "cell_type": "code",
   "execution_count": null,
   "id": "1255aab9",
   "metadata": {},
   "outputs": [],
   "source": [
    "attack(p1, \"The Baddie\")"
   ]
  },
  {
   "cell_type": "code",
   "execution_count": null,
   "id": "53fbf3fc",
   "metadata": {},
   "outputs": [],
   "source": [
    "attack(p2, \"The Baddie\")"
   ]
  },
  {
   "cell_type": "code",
   "execution_count": null,
   "id": "949a7460",
   "metadata": {},
   "outputs": [],
   "source": [
    "attack(p3, \"The Baddie\")"
   ]
  },
  {
   "cell_type": "markdown",
   "id": "c2794e24",
   "metadata": {
    "lang": "de",
    "lines_to_next_cell": 2,
    "slideshow": {
     "slide_type": "slide"
    }
   },
   "source": [
    "## Mehrfachvererbung"
   ]
  },
  {
   "cell_type": "code",
   "execution_count": null,
   "id": "2a0ef6bd",
   "metadata": {
    "tags": [
     "keep"
    ]
   },
   "outputs": [],
   "source": [
    "class A:\n",
    "    \"\"\"Superclass of everything\"\"\"\n",
    "    def __init__(self, arg_a=\"arg_a\", **kwargs):\n",
    "        super().__init__(**kwargs)\n",
    "        print(f\"__init__(A, {arg_a})\")\n",
    "    \n",
    "    def f(self):\n",
    "        print(f\"f(A) on {self!r}\")\n",
    "\n",
    "    def g(self):\n",
    "        print(f\"g(A) on {self!r}\")"
   ]
  },
  {
   "cell_type": "code",
   "execution_count": null,
   "id": "7cc2535c",
   "metadata": {
    "tags": [
     "keep"
    ]
   },
   "outputs": [],
   "source": [
    "class B(A):\n",
    "    def __init__(self, arg_b=\"arg_b\", **kwargs):\n",
    "        super().__init__(**kwargs)\n",
    "        print(f\"__init__(B, {arg_b})\")\n",
    "\n",
    "    def f(self):\n",
    "        print(f\"f(B) on {self!r}\")\n",
    "        super().f()\n",
    "\n",
    "    def g(self):\n",
    "        print(f\"g(B) on {self!r}\")\n",
    "        A.g(self)"
   ]
  },
  {
   "cell_type": "code",
   "execution_count": null,
   "id": "cc32930f",
   "metadata": {
    "tags": [
     "keep"
    ]
   },
   "outputs": [],
   "source": [
    "class C(A):\n",
    "    def __init__(self, arg_c=\"arg_c\", **kwargs):\n",
    "        super().__init__(**kwargs)\n",
    "        print(f\"__init__(C, {arg_c})\")\n",
    "    \n",
    "    def f(self):\n",
    "        print(f\"f(C) on {self!r}\")\n",
    "        super().f()\n",
    "\n",
    "    def g(self):\n",
    "        print(f\"g(C) on {self!r}\")\n",
    "        A.g(self)"
   ]
  },
  {
   "cell_type": "code",
   "execution_count": null,
   "id": "1a874d17",
   "metadata": {
    "tags": [
     "keep"
    ]
   },
   "outputs": [],
   "source": [
    "class D(B, C):\n",
    "    def __init__(self, arg_d=\"arg_d\", **kwargs):\n",
    "        super().__init__(**kwargs)\n",
    "        print(f\"__init__(D, {arg_d})\")\n",
    "    \n",
    "    def f(self):\n",
    "        print(f\"f(D) on {self!r}\")\n",
    "        super().f()\n",
    "\n",
    "    def g(self):\n",
    "        print(f\"g(D) on {self!r}\")\n",
    "        B.g(self)\n",
    "        C.g(self)"
   ]
  },
  {
   "cell_type": "code",
   "execution_count": null,
   "id": "3814d922",
   "metadata": {},
   "outputs": [],
   "source": [
    "d = D()\n",
    "d.f()"
   ]
  },
  {
   "cell_type": "code",
   "execution_count": null,
   "id": "26a45e61",
   "metadata": {},
   "outputs": [],
   "source": [
    "d.g()"
   ]
  },
  {
   "cell_type": "code",
   "execution_count": null,
   "id": "ff257da3",
   "metadata": {},
   "outputs": [],
   "source": [
    "type(d).mro()"
   ]
  },
  {
   "cell_type": "code",
   "execution_count": null,
   "id": "6d6bc310",
   "metadata": {
    "tags": [
     "keep"
    ]
   },
   "outputs": [],
   "source": []
  }
 ],
 "metadata": {
  "kernelspec": {
   "display_name": "Python 3 (ipykernel)",
   "language": "python",
   "name": "python3"
  }
 },
 "nbformat": 4,
 "nbformat_minor": 5
}
