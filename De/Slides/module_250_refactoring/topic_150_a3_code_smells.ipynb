{
 "cells": [
  {
   "cell_type": "markdown",
   "id": "1d63c13aac16f1fb",
   "metadata": {
    "lang": "de",
    "slideshow": {
     "slide_type": "slide"
    }
   },
   "source": [
    "<img src=\"../../img/python-logo-no-text.svg\"\n",
    "     style=\"display:block;margin:auto;width:10%\"/>\n",
    "<br>\n",
    "<div style=\"text-align:center; font-size:200%;\">\n",
    " <b>Refactoring: Code Smells</b>\n",
    "</div>\n",
    "<br/>\n",
    "<div style=\"text-align:center;\">Dr. Matthias Hölzl</div>\n",
    "<br/>\n",
    "<div style=\"text-align:center;\">module_250_refactoring/topic_150_a3_code_smells</div>"
   ]
  },
  {
   "cell_type": "markdown",
   "id": "e941b53b970e9d6b",
   "metadata": {
    "lang": "de",
    "slideshow": {
     "slide_type": "slide"
    }
   },
   "source": [
    "\n",
    "# Refactoring: Code Smells"
   ]
  }
 ],
 "metadata": {},
 "nbformat": 4,
 "nbformat_minor": 5
}
