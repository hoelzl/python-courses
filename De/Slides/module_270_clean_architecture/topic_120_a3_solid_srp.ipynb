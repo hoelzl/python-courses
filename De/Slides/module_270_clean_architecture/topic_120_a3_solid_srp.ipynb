{
 "cells": [
  {
   "cell_type": "markdown",
   "id": "f601f11271b9669f",
   "metadata": {
    "lang": "de",
    "slideshow": {
     "slide_type": "slide"
    }
   },
   "source": [
    "<img src=\"../../img/python-logo-no-text.svg\"\n",
    "     style=\"display:block;margin:auto;width:10%\"/>\n",
    "<br>\n",
    "<div style=\"text-align:center; font-size:200%;\">\n",
    "  <b>SOLID: Single Responsibility Principle</b>\n",
    "</div>\n",
    "<br/>\n",
    "<div style=\"text-align:center;\">Dr. Matthias Hölzl</div>\n",
    "<br/>\n",
    "<div style=\"text-align:center;\">module_270_clean_architecture/topic_120_a3_solid_srp</div>"
   ]
  },
  {
   "cell_type": "markdown",
   "id": "f5e1e47afbe5ad97",
   "metadata": {
    "lang": "de",
    "slideshow": {
     "slide_type": "slide"
    }
   },
   "source": [
    "\n",
    "# SOLID: Single Responsibility Principle"
   ]
  }
 ],
 "metadata": {},
 "nbformat": 4,
 "nbformat_minor": 5
}
