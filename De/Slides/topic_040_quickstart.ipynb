{
 "cells": [
  {
   "cell_type": "markdown",
   "id": "3bf52e3b",
   "metadata": {
    "lang": "de",
    "slideshow": {
     "slide_type": "slide"
    }
   },
   "source": [
    "<img src=\"img/python-logo-notext.svg\"\n",
    "     style=\"display:block;margin:auto;width:10%\"/>\n",
    "<br>\n",
    "<div style=\"text-align:center; font-size:200%;\"><b>Quickstart</b></div>\n",
    "<br/>\n",
    "<div style=\"text-align:center;\">Dr. Matthias Hölzl</div>"
   ]
  },
  {
   "cell_type": "markdown",
   "id": "b9552afa",
   "metadata": {
    "lang": "de",
    "slideshow": {
     "slide_type": "slide"
    }
   },
   "source": [
    "## Variablen und Datentypen\n",
    "\n",
    "Zahlen und Arithmetik:"
   ]
  },
  {
   "cell_type": "code",
   "execution_count": null,
   "id": "408ea558",
   "metadata": {},
   "outputs": [],
   "source": [
    "17 + 4 + 1"
   ]
  },
  {
   "cell_type": "code",
   "execution_count": null,
   "id": "77d5b61c",
   "metadata": {},
   "outputs": [],
   "source": [
    "1.5 + 7.4"
   ]
  },
  {
   "cell_type": "code",
   "execution_count": null,
   "id": "2cc0c4c6",
   "metadata": {},
   "outputs": [],
   "source": [
    "1 + 2 * 3"
   ]
  },
  {
   "cell_type": "markdown",
   "id": "fbd99763",
   "metadata": {
    "lang": "de",
    "slideshow": {
     "slide_type": "subslide"
    }
   },
   "source": [
    "## Zeichenketten"
   ]
  },
  {
   "cell_type": "code",
   "execution_count": null,
   "id": "ffa6bd12",
   "metadata": {},
   "outputs": [],
   "source": [
    "\"This is a string\""
   ]
  },
  {
   "cell_type": "code",
   "execution_count": null,
   "id": "55ecc11f",
   "metadata": {},
   "outputs": [],
   "source": [
    "# fmt: off\n",
    "'This is also a string'\n",
    "# fmt: on"
   ]
  },
  {
   "cell_type": "code",
   "execution_count": null,
   "id": "e5ce93ce",
   "metadata": {},
   "outputs": [],
   "source": [
    "str(1 + 2)"
   ]
  },
  {
   "cell_type": "code",
   "execution_count": null,
   "id": "57f82363",
   "metadata": {
    "slideshow": {
     "slide_type": "subslide"
    }
   },
   "outputs": [],
   "source": [
    "\"3\" + \"abc\""
   ]
  },
  {
   "cell_type": "code",
   "execution_count": null,
   "id": "722481c1",
   "metadata": {},
   "outputs": [],
   "source": [
    "\"literal strings \" \"can be concatenated \" \"by juxtaposition\""
   ]
  },
  {
   "cell_type": "markdown",
   "id": "7e61ae4d",
   "metadata": {
    "lang": "de",
    "slideshow": {
     "slide_type": "subslide"
    }
   },
   "source": [
    "### Variablen"
   ]
  },
  {
   "cell_type": "code",
   "execution_count": null,
   "id": "62e2b3c5",
   "metadata": {},
   "outputs": [],
   "source": [
    "answer = 42"
   ]
  },
  {
   "cell_type": "code",
   "execution_count": null,
   "id": "187dbcca",
   "metadata": {},
   "outputs": [],
   "source": [
    "my_value = answer + 2"
   ]
  },
  {
   "cell_type": "markdown",
   "id": "7a581d6c",
   "metadata": {
    "lang": "de",
    "slideshow": {
     "slide_type": "subslide"
    }
   },
   "source": [
    "## Anzeige von Werten mit der `print()` Funktion\n",
    "Um mehrere Werte anzuzeigen kann man die `print()`-Funktion verwenden:\n",
    "\n",
    "`print(...)` gibt den in Klammern eingeschlossenen Text auf dem Bildschirm\n",
    "aus."
   ]
  },
  {
   "cell_type": "code",
   "execution_count": null,
   "id": "45b8bc72",
   "metadata": {},
   "outputs": [],
   "source": [
    "print(123)"
   ]
  },
  {
   "cell_type": "code",
   "execution_count": null,
   "id": "0a7f1de5",
   "metadata": {},
   "outputs": [],
   "source": [
    "print(answer)\n",
    "print(my_value)"
   ]
  },
  {
   "cell_type": "code",
   "execution_count": null,
   "id": "e2431c64",
   "metadata": {
    "slideshow": {
     "slide_type": "subslide"
    }
   },
   "outputs": [],
   "source": [
    "print(\"Hello, world!\")"
   ]
  },
  {
   "cell_type": "markdown",
   "id": "616edd92",
   "metadata": {
    "lang": "de",
    "slideshow": {
     "slide_type": "slide"
    }
   },
   "source": [
    "## Jupyter Notebooks: Anzeige von Werten\n",
    "\n",
    "- Jupyter Notebooks geben den letzten Wert jeder Zelle auf dem Bildschirm aus\n",
    "- Das passiert in \"normalen\" Python-Programmen nicht!\n",
    "  - Wenn sie als Programme ausgeführt werden\n",
    "  - Der interaktive Interpreter verhält sich ähnlich wie Notebooks"
   ]
  },
  {
   "cell_type": "code",
   "execution_count": null,
   "id": "6ef0c5ab",
   "metadata": {
    "slideshow": {
     "slide_type": "subslide"
    }
   },
   "outputs": [],
   "source": [
    "123"
   ]
  },
  {
   "cell_type": "markdown",
   "id": "eb40c400",
   "metadata": {
    "lang": "de"
   },
   "source": [
    "Um die Ausgabe des letzten Wertes einer Zelle in Jupyter zu unterbinden\n",
    "kann man die Zeile mit einem Strichpunkt beenden:"
   ]
  },
  {
   "cell_type": "code",
   "execution_count": null,
   "id": "bed516fd",
   "metadata": {},
   "outputs": [],
   "source": [
    "answer"
   ]
  },
  {
   "cell_type": "code",
   "execution_count": null,
   "id": "ca40c0d5",
   "metadata": {
    "lines_to_next_cell": 2
   },
   "outputs": [],
   "source": [
    "# fmt: off\n",
    "answer;\n",
    "# fmt: on"
   ]
  },
  {
   "cell_type": "markdown",
   "id": "62bdeb2c",
   "metadata": {
    "lang": "de",
    "slideshow": {
     "slide_type": "subslide"
    }
   },
   "source": [
    "\n",
    "### Zusätzliche Funktionalitäten der `print()` Funktion"
   ]
  },
  {
   "cell_type": "code",
   "execution_count": null,
   "id": "48e4c1bb",
   "metadata": {
    "slideshow": {
     "slide_type": "subslide"
    }
   },
   "outputs": [],
   "source": [
    "print(\"answer =\", answer, \"my_value =\", my_value)"
   ]
  },
  {
   "cell_type": "code",
   "execution_count": null,
   "id": "07ecc8b1",
   "metadata": {},
   "outputs": [],
   "source": [
    "print(\"a\", \"b\", \"c\", sep=\"-\", end=\"+++\")\n",
    "print(\"d\", \"e\")"
   ]
  },
  {
   "cell_type": "code",
   "execution_count": null,
   "id": "72afea8a",
   "metadata": {},
   "outputs": [],
   "source": [
    "print(\"a\", end=\", \")\n",
    "print(\"b\", end=\", \")\n",
    "print(\"c\")"
   ]
  },
  {
   "cell_type": "markdown",
   "id": "8b62f143",
   "metadata": {
    "lang": "de",
    "slideshow": {
     "slide_type": "subslide"
    }
   },
   "source": [
    "\n",
    "## Typen"
   ]
  },
  {
   "cell_type": "code",
   "execution_count": null,
   "id": "76e05927",
   "metadata": {},
   "outputs": [],
   "source": [
    "type(123)"
   ]
  },
  {
   "cell_type": "code",
   "execution_count": null,
   "id": "27e92806",
   "metadata": {},
   "outputs": [],
   "source": [
    "type(\"Foo\")"
   ]
  },
  {
   "cell_type": "code",
   "execution_count": null,
   "id": "da4481dd",
   "metadata": {},
   "outputs": [],
   "source": [
    "answer = 42\n",
    "print(type(answer))\n",
    "answer = \"Hallo!\"\n",
    "print(type(answer))"
   ]
  },
  {
   "cell_type": "markdown",
   "id": "48fb8605",
   "metadata": {
    "lang": "de",
    "slideshow": {
     "slide_type": "subslide"
    }
   },
   "source": [
    "### Vordefinierte Funktionen"
   ]
  },
  {
   "cell_type": "code",
   "execution_count": null,
   "id": "99031e9c",
   "metadata": {},
   "outputs": [],
   "source": [
    "print(\"Hello, world!\")"
   ]
  },
  {
   "cell_type": "code",
   "execution_count": null,
   "id": "6ae13df7",
   "metadata": {},
   "outputs": [],
   "source": [
    "int(\"123\")"
   ]
  },
  {
   "cell_type": "code",
   "execution_count": null,
   "id": "61e2e70e",
   "metadata": {},
   "outputs": [],
   "source": [
    "int(3.8)"
   ]
  },
  {
   "cell_type": "code",
   "execution_count": null,
   "id": "bbddb8ab",
   "metadata": {},
   "outputs": [],
   "source": [
    "round(4.4)"
   ]
  },
  {
   "cell_type": "code",
   "execution_count": null,
   "id": "d1c5683d",
   "metadata": {},
   "outputs": [],
   "source": [
    "round(4.6)"
   ]
  },
  {
   "cell_type": "code",
   "execution_count": null,
   "id": "64bacc07",
   "metadata": {
    "lines_to_next_cell": 2,
    "tags": [
     "keep"
    ]
   },
   "outputs": [],
   "source": [
    "print(round(0.5), round(1.5), round(2.5), round(3.5))"
   ]
  },
  {
   "cell_type": "markdown",
   "id": "b64cdc14",
   "metadata": {
    "lang": "de",
    "lines_to_next_cell": 2,
    "slideshow": {
     "slide_type": "subslide"
    }
   },
   "source": [
    "## Funktionen"
   ]
  },
  {
   "cell_type": "code",
   "execution_count": null,
   "id": "10e65b2c",
   "metadata": {},
   "outputs": [],
   "source": [
    "def add_1(n):\n",
    "    return n + 1"
   ]
  },
  {
   "cell_type": "code",
   "execution_count": null,
   "id": "e7959010",
   "metadata": {},
   "outputs": [],
   "source": [
    "x = add_1(10)\n",
    "add_1(20) + x + x"
   ]
  },
  {
   "cell_type": "code",
   "execution_count": null,
   "id": "4d89e10d",
   "metadata": {},
   "outputs": [],
   "source": [
    "add_1(5) + add_1(7)"
   ]
  },
  {
   "cell_type": "code",
   "execution_count": null,
   "id": "7978fe09",
   "metadata": {},
   "outputs": [],
   "source": [
    "def my_round(n):\n",
    "    return int(n + 0.5)"
   ]
  },
  {
   "cell_type": "code",
   "execution_count": null,
   "id": "bd37c47d",
   "metadata": {
    "lines_to_next_cell": 2,
    "tags": [
     "keep"
    ]
   },
   "outputs": [],
   "source": [
    "print(my_round(0.5), my_round(1.5), my_round(2.5), my_round(3.5))"
   ]
  },
  {
   "cell_type": "markdown",
   "id": "3dfc048c",
   "metadata": {
    "lang": "de",
    "lines_to_next_cell": 2,
    "slideshow": {
     "slide_type": "subslide"
    }
   },
   "source": [
    "### Mini-Workshop\n",
    "\n",
    "Schreiben Sie eine Funktion `greeting(name)`, die eine Begrüßung in der Form\n",
    "\"Hallo *name*!\" auf dem Bildschirm ausgibt, z.B.\n",
    "```python\n",
    ">>> greeting(\"Max\")\n",
    "Hallo Max!\n",
    ">>>\n",
    "```"
   ]
  },
  {
   "cell_type": "code",
   "execution_count": null,
   "id": "4b1b92b3",
   "metadata": {},
   "outputs": [],
   "source": [
    "def greeting(name):\n",
    "    print(\"Hallo \", name, \"!\", sep=\"\")"
   ]
  },
  {
   "cell_type": "code",
   "execution_count": null,
   "id": "0a631719",
   "metadata": {},
   "outputs": [],
   "source": [
    "greeting(\"Max\")"
   ]
  },
  {
   "cell_type": "markdown",
   "id": "35103674",
   "metadata": {
    "lang": "de",
    "slideshow": {
     "slide_type": "subslide"
    }
   },
   "source": [
    "### Methoden"
   ]
  },
  {
   "cell_type": "code",
   "execution_count": null,
   "id": "7e416f6e",
   "metadata": {},
   "outputs": [],
   "source": [
    "\"Foo\".lower()"
   ]
  },
  {
   "cell_type": "code",
   "execution_count": null,
   "id": "3d417a22",
   "metadata": {},
   "outputs": [],
   "source": [
    "# 5.bit_length()"
   ]
  },
  {
   "cell_type": "code",
   "execution_count": null,
   "id": "544dfc29",
   "metadata": {
    "lines_to_next_cell": 2
   },
   "outputs": [],
   "source": [
    "number = 5\n",
    "number.bit_length()"
   ]
  },
  {
   "cell_type": "markdown",
   "id": "89a4b197",
   "metadata": {
    "lang": "de",
    "lines_to_next_cell": 2,
    "slideshow": {
     "slide_type": "subslide"
    }
   },
   "source": [
    "### Mehrere Parameter, Default Argumente"
   ]
  },
  {
   "cell_type": "code",
   "execution_count": null,
   "id": "b6f2f22b",
   "metadata": {},
   "outputs": [],
   "source": [
    "def add2(a, b):\n",
    "    return a + b"
   ]
  },
  {
   "cell_type": "code",
   "execution_count": null,
   "id": "1137a5b3",
   "metadata": {},
   "outputs": [],
   "source": [
    "def add3(a, b=0, c=0):\n",
    "    return a + b + c"
   ]
  },
  {
   "cell_type": "code",
   "execution_count": null,
   "id": "23f66a35",
   "metadata": {},
   "outputs": [],
   "source": [
    "print(add3(2))\n",
    "print(add3(2, 3))\n",
    "print(add3(2, 3, 4))\n",
    "print(add3(1, c=3))"
   ]
  },
  {
   "cell_type": "markdown",
   "id": "d32aabc6",
   "metadata": {
    "lang": "de",
    "slideshow": {
     "slide_type": "subslide"
    }
   },
   "source": [
    "### Verschachtelte Funktionsaufrufe"
   ]
  },
  {
   "cell_type": "code",
   "execution_count": null,
   "id": "36803535",
   "metadata": {},
   "outputs": [],
   "source": [
    "add3(add_1(2), add3(1, 2, add3(1, 2)))"
   ]
  },
  {
   "cell_type": "markdown",
   "id": "1a5f1e65",
   "metadata": {
    "lang": "de",
    "slideshow": {
     "slide_type": "subslide"
    }
   },
   "source": [
    "### Typannotationen"
   ]
  },
  {
   "cell_type": "code",
   "execution_count": null,
   "id": "60d5be03",
   "metadata": {},
   "outputs": [],
   "source": [
    "def mult(a: int, b: float):\n",
    "    return a * b"
   ]
  },
  {
   "cell_type": "code",
   "execution_count": null,
   "id": "72549109",
   "metadata": {},
   "outputs": [],
   "source": [
    "mult(3, 2.0)"
   ]
  },
  {
   "cell_type": "code",
   "execution_count": null,
   "id": "a651b556",
   "metadata": {},
   "outputs": [],
   "source": [
    "# Type annotations are only for documentation purposes:\n",
    "mult(\"a\", 3)"
   ]
  },
  {
   "cell_type": "markdown",
   "id": "d5a8d5fe",
   "metadata": {
    "lang": "de",
    "slideshow": {
     "slide_type": "subslide"
    }
   },
   "source": [
    "## Listen und Tupel"
   ]
  },
  {
   "cell_type": "code",
   "execution_count": null,
   "id": "d551f9bc",
   "metadata": {},
   "outputs": [],
   "source": [
    "numbers = [1, 2, 3, 4]"
   ]
  },
  {
   "cell_type": "code",
   "execution_count": null,
   "id": "020e442c",
   "metadata": {},
   "outputs": [],
   "source": [
    "print(numbers)\n",
    "print(numbers[0], numbers[3])\n",
    "print(\"Länge:\", len(numbers))"
   ]
  },
  {
   "cell_type": "code",
   "execution_count": null,
   "id": "b1404f8e",
   "metadata": {
    "slideshow": {
     "slide_type": "subslide"
    }
   },
   "outputs": [],
   "source": [
    "numbers + numbers"
   ]
  },
  {
   "cell_type": "code",
   "execution_count": null,
   "id": "c306e8f9",
   "metadata": {},
   "outputs": [],
   "source": [
    "[1] * 3"
   ]
  },
  {
   "cell_type": "code",
   "execution_count": null,
   "id": "8a0bdfeb",
   "metadata": {},
   "outputs": [],
   "source": [
    "5 in [5, 6, 7]"
   ]
  },
  {
   "cell_type": "code",
   "execution_count": null,
   "id": "089ba887",
   "metadata": {},
   "outputs": [],
   "source": [
    "3 in [5, 6, 7]"
   ]
  },
  {
   "cell_type": "code",
   "execution_count": null,
   "id": "95bce21b",
   "metadata": {
    "slideshow": {
     "slide_type": "subslide"
    }
   },
   "outputs": [],
   "source": [
    "my_list = [1, 2, 3]\n",
    "my_list[1] = 5\n",
    "my_list"
   ]
  },
  {
   "cell_type": "code",
   "execution_count": null,
   "id": "9e9df4a7",
   "metadata": {},
   "outputs": [],
   "source": [
    "my_list.append(7)\n",
    "my_list"
   ]
  },
  {
   "cell_type": "code",
   "execution_count": null,
   "id": "b2411c1d",
   "metadata": {},
   "outputs": [],
   "source": [
    "my_list.insert(1, 9)\n",
    "my_list"
   ]
  },
  {
   "cell_type": "code",
   "execution_count": null,
   "id": "525637c9",
   "metadata": {},
   "outputs": [],
   "source": [
    "my_list.pop()\n",
    "my_list"
   ]
  },
  {
   "cell_type": "code",
   "execution_count": null,
   "id": "1b41c8c1",
   "metadata": {},
   "outputs": [],
   "source": [
    "my_list.pop(1)\n",
    "my_list"
   ]
  },
  {
   "cell_type": "code",
   "execution_count": null,
   "id": "0b31b6da",
   "metadata": {},
   "outputs": [],
   "source": [
    "del my_list[1]\n",
    "my_list"
   ]
  },
  {
   "cell_type": "markdown",
   "id": "54e08f43",
   "metadata": {
    "lang": "de",
    "slideshow": {
     "slide_type": "subslide"
    }
   },
   "source": [
    "## Mini-Workshop\n",
    "\n",
    "- Notebook `workshop_100_lists_part2`\n",
    "- Abschnitt \"Farben\"\n"
   ]
  },
  {
   "cell_type": "markdown",
   "id": "653f5e80",
   "metadata": {
    "lang": "de",
    "slideshow": {
     "slide_type": "slide"
    }
   },
   "source": [
    "## Tupel\n",
    "\n",
    "Tupel sind ähnlich zu Listen, allerdings sind Tupel nach ihrer Konstruktion\n",
    "unveränderlich. Funktionen und Methoden für Listen, die die Liste nicht destruktiv\n",
    "modifizieren sind in der Regel auch auf Tupel anwendbar."
   ]
  },
  {
   "cell_type": "code",
   "execution_count": null,
   "id": "7d2a544a",
   "metadata": {},
   "outputs": [],
   "source": [
    "my_tuple = 1, 2, 3"
   ]
  },
  {
   "cell_type": "code",
   "execution_count": null,
   "id": "7e1b39dd",
   "metadata": {},
   "outputs": [],
   "source": [
    "my_tuple[0]"
   ]
  },
  {
   "cell_type": "code",
   "execution_count": null,
   "id": "ae0aef0e",
   "metadata": {
    "lines_to_next_cell": 2
   },
   "outputs": [],
   "source": [
    "# my_tuple[0] = 1"
   ]
  },
  {
   "cell_type": "markdown",
   "id": "fc0eb5a1",
   "metadata": {
    "lang": "de",
    "slideshow": {
     "slide_type": "slide"
    }
   },
   "source": [
    "## Boole'sche Werte und `if`-Anweisungen"
   ]
  },
  {
   "cell_type": "code",
   "execution_count": null,
   "id": "a9ad7ef5",
   "metadata": {},
   "outputs": [],
   "source": [
    "True"
   ]
  },
  {
   "cell_type": "code",
   "execution_count": null,
   "id": "133f3329",
   "metadata": {},
   "outputs": [],
   "source": [
    "False"
   ]
  },
  {
   "cell_type": "code",
   "execution_count": null,
   "id": "df660888",
   "metadata": {},
   "outputs": [],
   "source": [
    "value = False"
   ]
  },
  {
   "cell_type": "code",
   "execution_count": null,
   "id": "17ca1186",
   "metadata": {},
   "outputs": [],
   "source": [
    "if value:\n",
    "    print(\"Wahr\")\n",
    "else:\n",
    "    print(\"Falsch\")"
   ]
  },
  {
   "cell_type": "code",
   "execution_count": null,
   "id": "6e5ffa15",
   "metadata": {
    "slideshow": {
     "slide_type": "subslide"
    },
    "tags": [
     "keep"
    ]
   },
   "outputs": [],
   "source": [
    "def print_size(n):\n",
    "    if n < 10:\n",
    "        print(\"Very small\")\n",
    "    elif n < 15:\n",
    "        print(\"Pretty small\")\n",
    "    elif n < 30:\n",
    "        print(\"Average\")\n",
    "    else:\n",
    "        print(\"Large\")"
   ]
  },
  {
   "cell_type": "code",
   "execution_count": null,
   "id": "b4ed9e00",
   "metadata": {
    "lines_to_next_cell": 2,
    "slideshow": {
     "slide_type": "subslide"
    },
    "tags": [
     "keep"
    ]
   },
   "outputs": [],
   "source": [
    "print_size(1)\n",
    "print_size(10)\n",
    "print_size(20)\n",
    "print_size(100)"
   ]
  },
  {
   "cell_type": "markdown",
   "id": "580aa589",
   "metadata": {
    "lang": "de",
    "lines_to_next_cell": 2,
    "slideshow": {
     "slide_type": "subslide"
    }
   },
   "source": [
    "### Mini-Workshop\n",
    "\n",
    "Schreiben Sie eine Funktion `fits_in_line(text: str, line_length: int = 72)`,\n",
    "die `True` oder `False` zurückgibt, je nachdem ob `text` in einer Zeile der\n",
    "Länge `line_length` ausgegeben werden kann oder nicht:\n",
    "```python\n",
    ">>> fits_in_line(\"Hallo\")\n",
    "True\n",
    ">>> fits_in_line(\"Hallo\", 3)\n",
    "False\n",
    ">>>\n",
    "```\n",
    "\n",
    "Schreiben Sie eine Funktion `print_line(text: str, line_length:int = 72)`,\n",
    "die\n",
    "* `text` auf dem Bildschirm ausgibt, falls das in einer Zeile der Länge\n",
    "  `line_length` möglich ist\n",
    "* `...` ausgibt, falls das nicht möglich ist.\n",
    "\n",
    "```python\n",
    ">>> print_line(\"Hallo\")\n",
    "Hallo\n",
    ">>> print_line(\"Hallo\", 3)\n",
    "...\n",
    ">>>\n",
    "```"
   ]
  },
  {
   "cell_type": "code",
   "execution_count": null,
   "id": "8af6862f",
   "metadata": {},
   "outputs": [],
   "source": [
    "def fits_in_line(text: str, line_length: int = 72):\n",
    "    return len(text) <= line_length"
   ]
  },
  {
   "cell_type": "code",
   "execution_count": null,
   "id": "7ddf2439",
   "metadata": {},
   "outputs": [],
   "source": [
    "fits_in_line(\"Hallo\")"
   ]
  },
  {
   "cell_type": "code",
   "execution_count": null,
   "id": "0d3f1fda",
   "metadata": {},
   "outputs": [],
   "source": [
    "fits_in_line(\"Hallo\", 3)"
   ]
  },
  {
   "cell_type": "code",
   "execution_count": null,
   "id": "498f270d",
   "metadata": {},
   "outputs": [],
   "source": [
    "def print_line(text: str, line_length: int = 72):\n",
    "    if fits_in_line(text, line_length=line_length):\n",
    "        print(text)\n",
    "    else:\n",
    "        print(\"...\")"
   ]
  },
  {
   "cell_type": "code",
   "execution_count": null,
   "id": "dd55be85",
   "metadata": {},
   "outputs": [],
   "source": [
    "print_line(\"Hallo\")"
   ]
  },
  {
   "cell_type": "code",
   "execution_count": null,
   "id": "7817b43e",
   "metadata": {},
   "outputs": [],
   "source": [
    "print_line(\"Hallo\", 3)"
   ]
  },
  {
   "cell_type": "markdown",
   "id": "99a98a3c",
   "metadata": {
    "lang": "de",
    "slideshow": {
     "slide_type": "subslide"
    }
   },
   "source": [
    "## `for`-Schleifen"
   ]
  },
  {
   "cell_type": "code",
   "execution_count": null,
   "id": "e1ce88de",
   "metadata": {
    "slideshow": {
     "slide_type": "subslide"
    }
   },
   "outputs": [],
   "source": [
    "for char in \"abc\":\n",
    "    print(char, end=\"|\")"
   ]
  },
  {
   "cell_type": "code",
   "execution_count": null,
   "id": "c2ac515a",
   "metadata": {
    "lines_to_next_cell": 2
   },
   "outputs": [],
   "source": [
    "result = 0\n",
    "for n in [1, 2, 3, 4]:\n",
    "    result += n\n",
    "result"
   ]
  },
  {
   "cell_type": "markdown",
   "id": "f51dbece",
   "metadata": {
    "lang": "de",
    "lines_to_next_cell": 2,
    "slideshow": {
     "slide_type": "subslide"
    }
   },
   "source": [
    "### Mini-Workshop\n",
    "\n",
    "Schreiben Sie eine Funktion `print_all(items: list)`, die die Elemente der\n",
    "Liste `items` auf dem Bildschirm ausgibt, jeweils ein Element pro Zeile:\n",
    "\n",
    "```python\n",
    ">>> print_all([1, 2, 3])\n",
    "1\n",
    "2\n",
    "3\n",
    ">>>\n",
    "```\n",
    "Was passiert, wenn Sie die Funktion mit einem String als Argument aufrufen,\n",
    "z.B. `print_all(\"abc\")`"
   ]
  },
  {
   "cell_type": "code",
   "execution_count": null,
   "id": "29943abb",
   "metadata": {},
   "outputs": [],
   "source": [
    "def print_all(items: list):\n",
    "    for item in items:\n",
    "        print(item)"
   ]
  },
  {
   "cell_type": "code",
   "execution_count": null,
   "id": "97201256",
   "metadata": {},
   "outputs": [],
   "source": [
    "print_all([1, 2, 3])"
   ]
  },
  {
   "cell_type": "code",
   "execution_count": null,
   "id": "4eed2429",
   "metadata": {},
   "outputs": [],
   "source": [
    "print_all(\"abc\")"
   ]
  },
  {
   "cell_type": "markdown",
   "id": "2f532e1b",
   "metadata": {
    "lang": "de",
    "slideshow": {
     "slide_type": "subslide"
    }
   },
   "source": [
    "### Ranges"
   ]
  },
  {
   "cell_type": "code",
   "execution_count": null,
   "id": "ff43cde7",
   "metadata": {
    "slideshow": {
     "slide_type": "subslide"
    }
   },
   "outputs": [],
   "source": [
    "for i in range(3):\n",
    "    print(i, end=\", \")"
   ]
  },
  {
   "cell_type": "code",
   "execution_count": null,
   "id": "629230c5",
   "metadata": {
    "lines_to_next_cell": 2
   },
   "outputs": [],
   "source": [
    "for i in range(1, 6, 2):\n",
    "    print(i, end=\", \")"
   ]
  },
  {
   "cell_type": "markdown",
   "id": "c2319f94",
   "metadata": {
    "lang": "de",
    "lines_to_next_cell": 2,
    "slideshow": {
     "slide_type": "subslide"
    }
   },
   "source": [
    "### Mini-Workshop\n",
    "\n",
    "Schreiben Sie eine Funktion `print_squares(n: int)`, die die Quadrate der\n",
    "Zahlen von 1 bis n ausgibt, jeweils ein Element pro Zeile:\n",
    "\n",
    "```python\n",
    ">>> print_square(3)\n",
    "1**2 = 1\n",
    "2**2 = 4\n",
    "3**2 = 9\n",
    ">>>\n",
    "```"
   ]
  },
  {
   "cell_type": "code",
   "execution_count": null,
   "id": "b55c345f",
   "metadata": {},
   "outputs": [],
   "source": [
    "def print_squares(n: int):\n",
    "    for i in range(1, n + 1):\n",
    "        print(i, \"**2 = \", i * i, sep=\"\")"
   ]
  },
  {
   "cell_type": "code",
   "execution_count": null,
   "id": "074114bd",
   "metadata": {},
   "outputs": [],
   "source": [
    "print_squares(3)"
   ]
  },
  {
   "cell_type": "markdown",
   "id": "1740d3cb",
   "metadata": {
    "lang": "de",
    "slideshow": {
     "slide_type": "subslide"
    }
   },
   "source": [
    "## Dictionaries"
   ]
  },
  {
   "cell_type": "code",
   "execution_count": null,
   "id": "12dda57c",
   "metadata": {
    "tags": [
     "keep"
    ]
   },
   "outputs": [],
   "source": [
    "translations = {\"snake\": \"Schlange\", \"bat\": \"Fledermaus\", \"horse\": \"Hose\"}"
   ]
  },
  {
   "cell_type": "code",
   "execution_count": null,
   "id": "64e22411",
   "metadata": {},
   "outputs": [],
   "source": [
    "print(translations[\"snake\"])\n",
    "print(translations.get(\"bat\", \"<unbekannt>\"))\n",
    "print(translations.get(\"monkey\", \"<unbekannt>\"))"
   ]
  },
  {
   "cell_type": "code",
   "execution_count": null,
   "id": "91acec5f",
   "metadata": {},
   "outputs": [],
   "source": [
    "# Error:\n",
    "# translations['monkey']"
   ]
  },
  {
   "cell_type": "code",
   "execution_count": null,
   "id": "f6a9447a",
   "metadata": {
    "slideshow": {
     "slide_type": "subslide"
    }
   },
   "outputs": [],
   "source": [
    "translations[\"horse\"] = \"Pferd\"\n",
    "translations[\"horse\"]"
   ]
  },
  {
   "cell_type": "code",
   "execution_count": null,
   "id": "cbf3087b",
   "metadata": {
    "slideshow": {
     "slide_type": "subslide"
    }
   },
   "outputs": [],
   "source": [
    "for key in translations.keys():\n",
    "    print(key, end=\" \")"
   ]
  },
  {
   "cell_type": "code",
   "execution_count": null,
   "id": "f4e0c80a",
   "metadata": {
    "slideshow": {
     "slide_type": "subslide"
    }
   },
   "outputs": [],
   "source": [
    "for key in translations:\n",
    "    print(key, end=\" \")"
   ]
  },
  {
   "cell_type": "code",
   "execution_count": null,
   "id": "8dfca2f5",
   "metadata": {},
   "outputs": [],
   "source": [
    "for val in translations.values():\n",
    "    print(val, end=\" \")"
   ]
  },
  {
   "cell_type": "code",
   "execution_count": null,
   "id": "aafd1aa3",
   "metadata": {
    "slideshow": {
     "slide_type": "subslide"
    }
   },
   "outputs": [],
   "source": [
    "for item in translations.items():\n",
    "    print(item, end=\" \")"
   ]
  },
  {
   "cell_type": "code",
   "execution_count": null,
   "id": "934bb568",
   "metadata": {},
   "outputs": [],
   "source": [
    "for key, val in translations.items():\n",
    "    print(\"Key:\", key, \"\\tValue:\", val)"
   ]
  },
  {
   "cell_type": "markdown",
   "id": "56b4895d",
   "metadata": {
    "lang": "de",
    "slideshow": {
     "slide_type": "subslide"
    }
   },
   "source": [
    "### Hinweise für den nächsten Workshop"
   ]
  },
  {
   "cell_type": "code",
   "execution_count": null,
   "id": "aa10b092",
   "metadata": {
    "tags": [
     "keep"
    ]
   },
   "outputs": [],
   "source": [
    "advice = \"Don't worry be happy\""
   ]
  },
  {
   "cell_type": "code",
   "execution_count": null,
   "id": "6eb671dc",
   "metadata": {
    "tags": [
     "keep"
    ]
   },
   "outputs": [],
   "source": [
    "words = advice.split()"
   ]
  },
  {
   "cell_type": "code",
   "execution_count": null,
   "id": "9c5d816f",
   "metadata": {
    "tags": [
     "keep"
    ]
   },
   "outputs": [],
   "source": [
    "\" \".join(words)"
   ]
  },
  {
   "cell_type": "code",
   "execution_count": null,
   "id": "293ef115",
   "metadata": {
    "tags": [
     "keep"
    ]
   },
   "outputs": [],
   "source": [
    "smilies = {\"worry\": \"\\U0001f61f\", \"happy\": \"\\U0001f600\"}"
   ]
  },
  {
   "cell_type": "markdown",
   "id": "c14c276d",
   "metadata": {
    "lang": "de",
    "slideshow": {
     "slide_type": "subslide"
    }
   },
   "source": [
    "### Mini-Workshop\n",
    "\n",
    "Schreiben Sie eine Funktion `replace_words(text: str, replacements: dict)`, die alle\n",
    "Wörter, die in `dict` als Key vorkommen durch ihren Wert in `dict` ersetzen.\n",
    "\n",
    "```python\n",
    ">>> replace_words(advice, smilies)\n",
    "\"Don't 😟 be 😀\"\n",
    "```\n",
    "#### Hinweise\n",
    "\n",
    "- Splitten Sie `text` in eine Liste `words` aus einzelnen Wörtern\n",
    "\n",
    "- Erzeugen Sie eine neue leere Liste `new_words`\n",
    "\n",
    "- Iterieren Sie über `words` und fügen Sie jedes Wort, das nicht im Wörterbuch\n",
    "  vorkommt unverändert an `new_words` an; fügen Sie für jedes Wort, das im Wörterbuch\n",
    "  vorkommt seine Übersetzung an\n",
    "\n",
    "- Fügen Sie `new_words` mit der `join()`-Methode zu einem String zusammen"
   ]
  },
  {
   "cell_type": "code",
   "execution_count": null,
   "id": "a7c733ba",
   "metadata": {},
   "outputs": [],
   "source": [
    "def replace_words(text: str, replacements: dict):\n",
    "    new_words = []\n",
    "    for word in text.lower().split():\n",
    "        replacement = replacements.get(word)\n",
    "        if replacement is not None:\n",
    "            new_words.append(replacement)\n",
    "        else:\n",
    "            new_words.append(word)\n",
    "    return \" \".join(new_words)"
   ]
  },
  {
   "cell_type": "code",
   "execution_count": null,
   "id": "adf02e2e",
   "metadata": {},
   "outputs": [],
   "source": [
    "replace_words(advice, smilies)"
   ]
  },
  {
   "cell_type": "code",
   "execution_count": null,
   "id": "efb6ea7f",
   "metadata": {},
   "outputs": [],
   "source": [
    "def replace_words_2(text: str, replacements: dict):\n",
    "    return \" \".join(replacements.get(word, word) for word in text.split())"
   ]
  },
  {
   "cell_type": "code",
   "execution_count": null,
   "id": "9bf2e177",
   "metadata": {},
   "outputs": [],
   "source": [
    "replace_words_2(advice, smilies)"
   ]
  },
  {
   "cell_type": "code",
   "execution_count": null,
   "id": "54082f4a",
   "metadata": {},
   "outputs": [],
   "source": [
    "def make_translator(replacements: dict):\n",
    "    def translate(word):\n",
    "        return replacements.get(word, word)\n",
    "\n",
    "    return translate"
   ]
  },
  {
   "cell_type": "code",
   "execution_count": null,
   "id": "270b26ac",
   "metadata": {},
   "outputs": [],
   "source": [
    "def apply_function_to_words(text, fun):\n",
    "    return \" \".join(fun(word) for word in text.split())"
   ]
  },
  {
   "cell_type": "code",
   "execution_count": null,
   "id": "14583045",
   "metadata": {},
   "outputs": [],
   "source": [
    "def replace_words_3(text: str, replacements: dict):\n",
    "    return apply_function_to_words(text, make_translator(replacements))"
   ]
  },
  {
   "cell_type": "code",
   "execution_count": null,
   "id": "8beb2ab4",
   "metadata": {},
   "outputs": [],
   "source": [
    "replace_words_3(advice, smilies)"
   ]
  },
  {
   "cell_type": "markdown",
   "id": "6294f755",
   "metadata": {
    "lang": "de",
    "slideshow": {
     "slide_type": "slide"
    }
   },
   "source": [
    "## Mengen"
   ]
  },
  {
   "cell_type": "code",
   "execution_count": null,
   "id": "58d7eb76",
   "metadata": {},
   "outputs": [],
   "source": [
    "numbers = {3, 5, 4, 9, 4, 1, 5, 4, 3}\n",
    "numbers"
   ]
  },
  {
   "cell_type": "code",
   "execution_count": null,
   "id": "31fde9b9",
   "metadata": {},
   "outputs": [],
   "source": [
    "type(numbers)"
   ]
  },
  {
   "cell_type": "code",
   "execution_count": null,
   "id": "d7dce647",
   "metadata": {},
   "outputs": [],
   "source": [
    "numbers.add(3)"
   ]
  },
  {
   "cell_type": "code",
   "execution_count": null,
   "id": "8bccfeb4",
   "metadata": {},
   "outputs": [],
   "source": [
    "numbers"
   ]
  },
  {
   "cell_type": "code",
   "execution_count": null,
   "id": "312b2968",
   "metadata": {},
   "outputs": [],
   "source": [
    "numbers.union({42})"
   ]
  },
  {
   "cell_type": "code",
   "execution_count": null,
   "id": "441bad06",
   "metadata": {},
   "outputs": [],
   "source": [
    "numbers"
   ]
  },
  {
   "cell_type": "code",
   "execution_count": null,
   "id": "2d5f3227",
   "metadata": {},
   "outputs": [],
   "source": [
    "numbers | {42}"
   ]
  },
  {
   "cell_type": "code",
   "execution_count": null,
   "id": "8bd2fc5c",
   "metadata": {},
   "outputs": [],
   "source": [
    "numbers"
   ]
  },
  {
   "cell_type": "code",
   "execution_count": null,
   "id": "a1f40145",
   "metadata": {},
   "outputs": [],
   "source": [
    "numbers & {2, 3, 4}"
   ]
  },
  {
   "cell_type": "code",
   "execution_count": null,
   "id": "890023c9",
   "metadata": {},
   "outputs": [],
   "source": [
    "numbers - {2, 3, 4}"
   ]
  },
  {
   "cell_type": "code",
   "execution_count": null,
   "id": "6a624a6e",
   "metadata": {},
   "outputs": [],
   "source": [
    "numbers.add(5)"
   ]
  },
  {
   "cell_type": "code",
   "execution_count": null,
   "id": "3b278915",
   "metadata": {},
   "outputs": [],
   "source": [
    "numbers"
   ]
  },
  {
   "cell_type": "code",
   "execution_count": null,
   "id": "391c302b",
   "metadata": {},
   "outputs": [],
   "source": [
    "numbers.remove(5)"
   ]
  },
  {
   "cell_type": "code",
   "execution_count": null,
   "id": "f15c0f31",
   "metadata": {},
   "outputs": [],
   "source": [
    "numbers"
   ]
  },
  {
   "cell_type": "code",
   "execution_count": null,
   "id": "307be700",
   "metadata": {},
   "outputs": [],
   "source": [
    "numbers.discard(5)"
   ]
  },
  {
   "cell_type": "code",
   "execution_count": null,
   "id": "9a74cb4f",
   "metadata": {},
   "outputs": [],
   "source": [
    "numbers"
   ]
  },
  {
   "cell_type": "code",
   "execution_count": null,
   "id": "f9795ab0",
   "metadata": {},
   "outputs": [],
   "source": [
    "3 in numbers"
   ]
  },
  {
   "cell_type": "code",
   "execution_count": null,
   "id": "2e7946b3",
   "metadata": {},
   "outputs": [],
   "source": [
    "2 not in numbers"
   ]
  },
  {
   "cell_type": "code",
   "execution_count": null,
   "id": "8e8fdc3b",
   "metadata": {},
   "outputs": [],
   "source": [
    "{2, 3} <= {1, 2, 3, 4}"
   ]
  },
  {
   "cell_type": "code",
   "execution_count": null,
   "id": "e2e5295c",
   "metadata": {},
   "outputs": [],
   "source": [
    "{2, 5} <= {1, 2}"
   ]
  },
  {
   "cell_type": "code",
   "execution_count": null,
   "id": "40bae68d",
   "metadata": {},
   "outputs": [],
   "source": [
    "type({})  # Empty dictionary!"
   ]
  },
  {
   "cell_type": "code",
   "execution_count": null,
   "id": "72aeb100",
   "metadata": {},
   "outputs": [],
   "source": [
    "set()"
   ]
  },
  {
   "cell_type": "code",
   "execution_count": null,
   "id": "9726dfb2",
   "metadata": {},
   "outputs": [],
   "source": [
    "type(set())"
   ]
  },
  {
   "cell_type": "code",
   "execution_count": null,
   "id": "b6003e58",
   "metadata": {
    "tags": [
     "keep"
    ]
   },
   "outputs": [],
   "source": [
    "philosophy = (\n",
    "    \"Half a bee , philosophically , must ipso facto half not be . \"\n",
    "    \"But can it be an entire bee , if half of it is not a bee , \"\n",
    "    \"due to some ancient injury .\"\n",
    ")\n",
    "philosophy"
   ]
  },
  {
   "cell_type": "code",
   "execution_count": null,
   "id": "6b79e5dd",
   "metadata": {},
   "outputs": [],
   "source": [
    "words = philosophy.lower().split()\n",
    "words"
   ]
  },
  {
   "cell_type": "code",
   "execution_count": null,
   "id": "9d23f5e5",
   "metadata": {},
   "outputs": [],
   "source": [
    "len(words)"
   ]
  },
  {
   "cell_type": "code",
   "execution_count": null,
   "id": "02a6a81f",
   "metadata": {},
   "outputs": [],
   "source": [
    "word_set = set(words)"
   ]
  },
  {
   "cell_type": "code",
   "execution_count": null,
   "id": "bf121c39",
   "metadata": {},
   "outputs": [],
   "source": [
    "len(word_set)"
   ]
  },
  {
   "cell_type": "code",
   "execution_count": null,
   "id": "ac9019d3",
   "metadata": {},
   "outputs": [],
   "source": [
    "word_set - {\".\", \",\"}"
   ]
  },
  {
   "cell_type": "code",
   "execution_count": null,
   "id": "4c4bbdb8",
   "metadata": {
    "lines_to_next_cell": 2,
    "tags": [
     "keep"
    ]
   },
   "outputs": [],
   "source": [
    "dickens = \"It was the best of times , it was the worst of times\""
   ]
  },
  {
   "cell_type": "markdown",
   "id": "ff441e79",
   "metadata": {
    "lang": "de",
    "lines_to_next_cell": 2,
    "slideshow": {
     "slide_type": "subslide"
    }
   },
   "source": [
    "### Mini-Workshop\n",
    "\n",
    "Schreiben Sie eine Funktion `count_unique_words(text: str)`, die die Anzahle der in\n",
    "einem Text vorkommenden Wörter (ohne Wiederholungen und Satzzeichen) zählt. Testen Sie\n",
    "die Funktion mit dem in `dickens` gespeicherten String.\n",
    "\n",
    "```python\n",
    ">>> count_unique_words(dickens)\n",
    "8\n",
    ">>>\n",
    "```"
   ]
  },
  {
   "cell_type": "code",
   "execution_count": null,
   "id": "1bcab53a",
   "metadata": {},
   "outputs": [],
   "source": [
    "def count_unique_words(text: str):\n",
    "    word_set = set(text.lower().split()) - {\",\", \".\"}\n",
    "    return len(word_set)"
   ]
  },
  {
   "cell_type": "code",
   "execution_count": null,
   "id": "441b6ef5",
   "metadata": {},
   "outputs": [],
   "source": [
    "count_unique_words(dickens)"
   ]
  }
 ],
 "metadata": {
  "kernelspec": {
   "display_name": "Python 3 (ipykernel)",
   "language": "python",
   "name": "python3"
  }
 },
 "nbformat": 4,
 "nbformat_minor": 5
}
