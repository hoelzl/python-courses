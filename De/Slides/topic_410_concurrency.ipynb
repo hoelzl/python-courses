{
 "cells": [
  {
   "cell_type": "markdown",
   "id": "bfccbcf5",
   "metadata": {
    "lang": "de",
    "slideshow": {
     "slide_type": "slide"
    }
   },
   "source": [
    "<img src=\"img/python-logo-notext.svg\"\n",
    "     style=\"display:block;margin:auto;width:10%\"/>\n",
    "<br>\n",
    "<div style=\"text-align:center; font-size:200%;\"><b>Nebenläufigkeit</b></div>\n",
    "<br/>\n",
    "<div style=\"text-align:center;\">Dr. Matthias Hölzl</div>"
   ]
  },
  {
   "cell_type": "markdown",
   "id": "5090432d",
   "metadata": {
    "lang": "de",
    "slideshow": {
     "slide_type": "slide"
    }
   },
   "source": [
    "\n",
    "# Nebenläufigkeit\n",
    "\n",
    "Definition von Leslie Lamport (in *Time, Clocks, and the Ordering of Events*, 1976):\n",
    "\n",
    "<blockquote>\n",
    "Zwei Ereignisse sind *nebenläufig*, wenn keines das andere kausal beeinflussen kann.\n",
    "</blockquote>\n",
    "\n",
    "D.h., nebenläufige Ereignisse können in beliebiger Reihenfolge ausgeführt werden."
   ]
  },
  {
   "cell_type": "markdown",
   "id": "76793a66",
   "metadata": {
    "lang": "de",
    "slideshow": {
     "slide_type": "subslide"
    }
   },
   "source": [
    "\n",
    "## Wann ist Nebenläufigkeit sinnvoll?\n",
    "\n",
    "- Zum Verringern von Latenz und Erhöhen von Durchsatz\n",
    "- Zum Ausnutzen mehrerer Prozessoren/Rechenkerne\n",
    "- Zur Durchführung von Hintergrundaktivitäten"
   ]
  },
  {
   "cell_type": "markdown",
   "id": "76baaa8e",
   "metadata": {
    "lang": "de",
    "slideshow": {
     "slide_type": "subslide"
    }
   },
   "source": [
    "\n",
    "Wie kann Nebenläufigkeit realisiert werden?\n",
    "\n",
    "- Interleaving (Zeitscheiben)\n",
    "- Asynchrone Verarbeitung (Sonderfall von Interleaving)\n",
    "- Parallele Verarbeitung"
   ]
  },
  {
   "cell_type": "markdown",
   "id": "f9df1a8c",
   "metadata": {
    "lang": "de",
    "slideshow": {
     "slide_type": "subslide"
    }
   },
   "source": [
    "\n",
    "Wie kann Nebenläufigkeit realisiert werden?\n",
    "\n",
    "- Interleaving (Zeitscheiben): Coroutines, ...\n",
    "- Asynchrone Verarbeitung: Event-Loop, Async, ...\n",
    "- Parallele Verarbeitung: Threads, Processes, Futures, ...\n",
    "\n",
    "Aber: In Python bewirken Threads in der Regel eher ein Interleaving als echte\n",
    "parallele Verarbeitung!"
   ]
  },
  {
   "cell_type": "markdown",
   "id": "860f6a19",
   "metadata": {
    "lang": "de",
    "slideshow": {
     "slide_type": "subslide"
    }
   },
   "source": [
    "\n",
    "## Threads\n",
    "\n",
    "Threads werden durch die Klasse `threading.Thread` gekapselt:\n",
    "\n",
    "- `target` Initarg bestimmt die Funktion, die ausgeführt wird\n",
    "- `Thread.start()` startet den Thread\n",
    "- `Thread."
   ]
  },
  {
   "cell_type": "markdown",
   "id": "a399eb73",
   "metadata": {
    "lang": "de",
    "slideshow": {
     "slide_type": "subslide"
    }
   },
   "source": [
    "\n",
    "### Hintergrundverarbeitung"
   ]
  },
  {
   "cell_type": "code",
   "execution_count": 1,
   "id": "436180d7",
   "metadata": {},
   "outputs": [],
   "source": [
    "def wait_and_print():\n",
    "    from time import sleep\n",
    "    print(\"Starting...\")\n",
    "    sleep(10)\n",
    "    print(\"Stopping...\")"
   ]
  },
  {
   "cell_type": "code",
   "execution_count": 2,
   "id": "2132dfbd",
   "metadata": {},
   "outputs": [],
   "source": [
    "from threading import Thread\n",
    "\n",
    "my_thread = Thread(target=wait_and_print)"
   ]
  },
  {
   "cell_type": "code",
   "execution_count": 3,
   "id": "0dee6e58",
   "metadata": {},
   "outputs": [
    {
     "name": "stdout",
     "output_type": "stream",
     "text": [
      "Starting...\n"
     ]
    }
   ],
   "source": [
    "my_thread.start()"
   ]
  },
  {
   "cell_type": "code",
   "execution_count": 4,
   "id": "a497cad1",
   "metadata": {},
   "outputs": [
    {
     "name": "stdout",
     "output_type": "stream",
     "text": [
      "Hello, from main Thread!\n",
      "My thread is alive: True\n"
     ]
    }
   ],
   "source": [
    "print(\"Hello, from main Thread!\")\n",
    "print(\"My thread is alive:\", my_thread.is_alive())"
   ]
  },
  {
   "cell_type": "code",
   "execution_count": 5,
   "id": "d65a1bc6",
   "metadata": {},
   "outputs": [
    {
     "name": "stdout",
     "output_type": "stream",
     "text": [
      "Stopping...\n",
      "This should run only after my_thread is done.\n",
      "My thread is alive: False\n"
     ]
    }
   ],
   "source": [
    "my_thread.join()\n",
    "print(\"This should run only after my_thread is done.\")\n",
    "print(\"My thread is alive:\", my_thread.is_alive())"
   ]
  },
  {
   "cell_type": "markdown",
   "id": "47a25119",
   "metadata": {
    "lang": "de",
    "slideshow": {
     "slide_type": "subslide"
    }
   },
   "source": [
    "\n",
    "### Verringern von Latenz und Erhöhen von Durchsatz"
   ]
  },
  {
   "cell_type": "code",
   "execution_count": 6,
   "id": "1a90397d",
   "metadata": {},
   "outputs": [],
   "source": [
    "from time import sleep\n",
    "from random import random\n",
    "import timeit\n",
    "\n",
    "\n",
    "def simulate_processing_time(delta_time=0.1):\n",
    "    sleep(random() * delta_time + delta_time)"
   ]
  },
  {
   "cell_type": "code",
   "execution_count": 7,
   "id": "81e9c3ca",
   "metadata": {},
   "outputs": [],
   "source": [
    "def process_request(data, results, delta_time=0.1):\n",
    "    simulate_processing_time(delta_time)\n",
    "    # Is this correct?\n",
    "    results.append(f\"->{data}\")"
   ]
  },
  {
   "cell_type": "code",
   "execution_count": 8,
   "id": "d0bac1cc",
   "metadata": {},
   "outputs": [],
   "source": [
    "def process_requests_sequentially(num_requests):\n",
    "    results = []\n",
    "    for i in range(num_requests):\n",
    "        process_request(i, results)\n",
    "    return results"
   ]
  },
  {
   "cell_type": "code",
   "execution_count": 9,
   "id": "804cdb9d",
   "metadata": {},
   "outputs": [
    {
     "data": {
      "text/plain": [
       "['->0', '->1', '->2', '->3', '->4']"
      ]
     },
     "execution_count": 9,
     "metadata": {},
     "output_type": "execute_result"
    }
   ],
   "source": [
    "process_requests_sequentially(5)"
   ]
  },
  {
   "cell_type": "code",
   "execution_count": 10,
   "id": "a0ea638e",
   "metadata": {},
   "outputs": [
    {
     "data": {
      "text/plain": [
       "8.317811999993864"
      ]
     },
     "execution_count": 10,
     "metadata": {},
     "output_type": "execute_result"
    }
   ],
   "source": [
    "timeit.timeit(lambda: process_requests_sequentially(5), globals=globals(), number=10)"
   ]
  },
  {
   "cell_type": "code",
   "execution_count": 11,
   "id": "04c8b9b4",
   "metadata": {},
   "outputs": [
    {
     "data": {
      "text/plain": [
       "15.901626099999703"
      ]
     },
     "execution_count": 11,
     "metadata": {},
     "output_type": "execute_result"
    }
   ],
   "source": [
    "timeit.timeit(lambda: process_requests_sequentially(10), globals=globals(), number=10)"
   ]
  },
  {
   "cell_type": "code",
   "execution_count": 12,
   "id": "f0e55ebc",
   "metadata": {},
   "outputs": [],
   "source": [
    "from threading import Thread\n",
    "\n",
    "\n",
    "def process_requests_concurrently(num_requests):\n",
    "    results = []\n",
    "    threads = []\n",
    "    for i in range(num_requests):\n",
    "        thread = Thread(target=lambda: process_request(i, results))\n",
    "        threads.append(thread)\n",
    "        thread.start()\n",
    "    for thread in threads:\n",
    "        thread.join()\n",
    "    return results"
   ]
  },
  {
   "cell_type": "code",
   "execution_count": 13,
   "id": "1ef34a6b",
   "metadata": {},
   "outputs": [
    {
     "data": {
      "text/plain": [
       "['->0', '->1', '->2', '->4', '->3']"
      ]
     },
     "execution_count": 13,
     "metadata": {},
     "output_type": "execute_result"
    }
   ],
   "source": [
    "process_requests_concurrently(5)"
   ]
  },
  {
   "cell_type": "code",
   "execution_count": 14,
   "id": "a86971b5",
   "metadata": {},
   "outputs": [
    {
     "data": {
      "text/plain": [
       "1.9156025999982376"
      ]
     },
     "execution_count": 14,
     "metadata": {},
     "output_type": "execute_result"
    }
   ],
   "source": [
    "timeit.timeit(lambda: process_requests_concurrently(5), globals=globals(), number=10)"
   ]
  },
  {
   "cell_type": "code",
   "execution_count": 15,
   "id": "b5a1eb83",
   "metadata": {},
   "outputs": [
    {
     "data": {
      "text/plain": [
       "1.9869801999957417"
      ]
     },
     "execution_count": 15,
     "metadata": {},
     "output_type": "execute_result"
    }
   ],
   "source": [
    "timeit.timeit(lambda: process_requests_concurrently(10), globals=globals(), number=10)"
   ]
  },
  {
   "cell_type": "code",
   "execution_count": 16,
   "id": "b5c97db4",
   "metadata": {},
   "outputs": [
    {
     "data": {
      "text/plain": [
       "2.186324099995545"
      ]
     },
     "execution_count": 16,
     "metadata": {},
     "output_type": "execute_result"
    }
   ],
   "source": [
    "timeit.timeit(lambda: process_requests_concurrently(100), globals=globals(), number=10)"
   ]
  },
  {
   "cell_type": "code",
   "execution_count": 17,
   "id": "a9f8e97f",
   "metadata": {},
   "outputs": [],
   "source": [
    "class MyThread(Thread):\n",
    "    # Note `run()`is overridden, not `start()`!\n",
    "    def run(self) -> None:\n",
    "        # noinspection PyUnresolvedReferences\n",
    "        process_request(*self._args, **self._kwargs)"
   ]
  },
  {
   "cell_type": "code",
   "execution_count": 18,
   "id": "0c243b96",
   "metadata": {},
   "outputs": [],
   "source": [
    "def process_requests_concurrently_2(num_requests):\n",
    "    results = []\n",
    "    threads = [MyThread(args=(i, results)) for i in range(num_requests)]\n",
    "    for thread in threads:\n",
    "        thread.start()\n",
    "    for thread in threads:\n",
    "        thread.join()\n",
    "    return results"
   ]
  },
  {
   "cell_type": "code",
   "execution_count": 19,
   "id": "d908797a",
   "metadata": {},
   "outputs": [
    {
     "data": {
      "text/plain": [
       "['->3', '->2', '->1', '->4', '->0']"
      ]
     },
     "execution_count": 19,
     "metadata": {},
     "output_type": "execute_result"
    }
   ],
   "source": [
    "process_requests_concurrently_2(5)"
   ]
  },
  {
   "cell_type": "code",
   "execution_count": 20,
   "id": "c2b8c1cb",
   "metadata": {},
   "outputs": [
    {
     "data": {
      "text/plain": [
       "1.9329856999975163"
      ]
     },
     "execution_count": 20,
     "metadata": {},
     "output_type": "execute_result"
    }
   ],
   "source": [
    "timeit.timeit(lambda: process_requests_concurrently_2(5), globals=globals(), number=10)"
   ]
  },
  {
   "cell_type": "code",
   "execution_count": 21,
   "id": "f5c219a6",
   "metadata": {},
   "outputs": [
    {
     "data": {
      "text/plain": [
       "1.9880924000026425"
      ]
     },
     "execution_count": 21,
     "metadata": {},
     "output_type": "execute_result"
    }
   ],
   "source": [
    "timeit.timeit(lambda: process_requests_concurrently_2(10), globals=globals(), number=10)"
   ]
  },
  {
   "cell_type": "code",
   "execution_count": 22,
   "id": "cf9ed240",
   "metadata": {},
   "outputs": [
    {
     "data": {
      "text/plain": [
       "2.1880644999982906"
      ]
     },
     "execution_count": 22,
     "metadata": {},
     "output_type": "execute_result"
    }
   ],
   "source": [
    "timeit.timeit(lambda: process_requests_concurrently_2(100), globals=globals(),\n",
    "              number=10)"
   ]
  },
  {
   "cell_type": "markdown",
   "id": "8404b6a8",
   "metadata": {
    "lang": "de",
    "slideshow": {
     "slide_type": "subslide"
    }
   },
   "source": [
    "\n",
    "### Mehrere Threads und das GIL"
   ]
  },
  {
   "cell_type": "code",
   "execution_count": 23,
   "id": "5e766f82",
   "metadata": {},
   "outputs": [],
   "source": [
    "def perform_computation(data, results, num_iterations=1_000_000):\n",
    "    result = 0\n",
    "    for i in range(num_iterations):\n",
    "        result += 1\n",
    "    results.append(f\"->{data}: {result}\")"
   ]
  },
  {
   "cell_type": "code",
   "execution_count": 24,
   "id": "982fea01",
   "metadata": {},
   "outputs": [],
   "source": [
    "def perform_computations_sequentially(num_requests):\n",
    "    results = []\n",
    "    for i in range(num_requests):\n",
    "        perform_computation(i, results)\n",
    "    return results"
   ]
  },
  {
   "cell_type": "code",
   "execution_count": 25,
   "id": "6d63d18e",
   "metadata": {},
   "outputs": [
    {
     "data": {
      "text/plain": [
       "['->0: 1000000',\n",
       " '->1: 1000000',\n",
       " '->2: 1000000',\n",
       " '->3: 1000000',\n",
       " '->4: 1000000']"
      ]
     },
     "execution_count": 25,
     "metadata": {},
     "output_type": "execute_result"
    }
   ],
   "source": [
    "perform_computations_sequentially(5)"
   ]
  },
  {
   "cell_type": "code",
   "execution_count": 26,
   "id": "edf9d03e",
   "metadata": {},
   "outputs": [
    {
     "data": {
      "text/plain": [
       "2.7833215999999084"
      ]
     },
     "execution_count": 26,
     "metadata": {},
     "output_type": "execute_result"
    }
   ],
   "source": [
    "timeit.timeit(lambda: perform_computations_sequentially(5), globals=globals(),\n",
    "              number=10)"
   ]
  },
  {
   "cell_type": "code",
   "execution_count": 27,
   "id": "e02d27fc",
   "metadata": {},
   "outputs": [
    {
     "data": {
      "text/plain": [
       "5.543484400004672"
      ]
     },
     "execution_count": 27,
     "metadata": {},
     "output_type": "execute_result"
    }
   ],
   "source": [
    "timeit.timeit(lambda: perform_computations_sequentially(10), globals=globals(),\n",
    "              number=10)"
   ]
  },
  {
   "cell_type": "code",
   "execution_count": 28,
   "id": "10c1f0b5",
   "metadata": {},
   "outputs": [],
   "source": [
    "def perform_computations_concurrently(num_requests):\n",
    "    results = []\n",
    "    threads = []\n",
    "    for i in range(num_requests):\n",
    "        thread = Thread(target=lambda: perform_computation(i, results))\n",
    "        threads.append(thread)\n",
    "        thread.start()\n",
    "    for thread in threads:\n",
    "        thread.join()\n",
    "    return results"
   ]
  },
  {
   "cell_type": "code",
   "execution_count": 29,
   "id": "d0cf6dbc",
   "metadata": {},
   "outputs": [
    {
     "data": {
      "text/plain": [
       "['->0: 1000000',\n",
       " '->1: 1000000',\n",
       " '->2: 1000000',\n",
       " '->3: 1000000',\n",
       " '->4: 1000000']"
      ]
     },
     "execution_count": 29,
     "metadata": {},
     "output_type": "execute_result"
    }
   ],
   "source": [
    "perform_computations_concurrently(5)"
   ]
  },
  {
   "cell_type": "code",
   "execution_count": 30,
   "id": "f28537ff",
   "metadata": {},
   "outputs": [
    {
     "data": {
      "text/plain": [
       "2.7456697000015993"
      ]
     },
     "execution_count": 30,
     "metadata": {},
     "output_type": "execute_result"
    }
   ],
   "source": [
    "timeit.timeit(lambda: perform_computations_concurrently(5), globals=globals(),\n",
    "              number=10)"
   ]
  },
  {
   "cell_type": "code",
   "execution_count": 31,
   "id": "20c07ce1",
   "metadata": {
    "lines_to_next_cell": 2
   },
   "outputs": [
    {
     "data": {
      "text/plain": [
       "5.464458499998727"
      ]
     },
     "execution_count": 31,
     "metadata": {},
     "output_type": "execute_result"
    }
   ],
   "source": [
    "timeit.timeit(lambda: perform_computations_concurrently(10), globals=globals(),\n",
    "              number=10)"
   ]
  },
  {
   "cell_type": "markdown",
   "id": "191103d6",
   "metadata": {
    "lang": "de",
    "slideshow": {
     "slide_type": "subslide"
    }
   },
   "source": [
    "\n",
    "In Python wird immer nur *ein* Python Thread ausgeführt, alle anderen Threads\n",
    "existieren zwar, warten aber \"bis sie an der Reihe sind\". Daher bringt Multithreading\n",
    "nur dann Vorteile, wenn z.B. auf Ein/Ausgabe-Operationen gewartet wird, nicht wenn\n",
    "mehrere Berechnungen beschleunigt werden sollen!"
   ]
  },
  {
   "cell_type": "markdown",
   "id": "d4d2f905",
   "metadata": {
    "lang": "de",
    "slideshow": {
     "slide_type": "subslide"
    }
   },
   "source": [
    "## Workshop\n",
    "\n",
    "- Notebook `workshop_410_concurrency`\n",
    "- Abschnitt \"Parallele Requests\""
   ]
  },
  {
   "cell_type": "markdown",
   "id": "d0f5d449",
   "metadata": {
    "lang": "de",
    "slideshow": {
     "slide_type": "subslide"
    }
   },
   "source": [
    "\n",
    "### Synchronisieren von Threads\n",
    "\n",
    "Die nebenläufige Programmierung führt zu Problemen, die es in sequentiellen Programmen\n",
    "nicht gibt:"
   ]
  },
  {
   "cell_type": "code",
   "execution_count": 32,
   "id": "db5b15b2",
   "metadata": {},
   "outputs": [],
   "source": [
    "def add_ones():\n",
    "    global _result\n",
    "    for i in range(10_000):\n",
    "        tmp = _result + 1\n",
    "        # if random() > 0.99:\n",
    "        #     simulate_processing_time(0)\n",
    "        _result = tmp"
   ]
  },
  {
   "cell_type": "code",
   "execution_count": 33,
   "id": "0a2311f4",
   "metadata": {},
   "outputs": [
    {
     "name": "stdout",
     "output_type": "stream",
     "text": [
      "\n",
      "_result = 1000000\n"
     ]
    }
   ],
   "source": [
    "from threading import Thread\n",
    "\n",
    "_result = 0\n",
    "_threads = [Thread(target=add_ones) for _ in range(100)]\n",
    "for _thread in _threads:\n",
    "    _thread.start()\n",
    "for _thread in _threads:\n",
    "    _thread.join()\n",
    "print(f\"\\n_result = {_result}\")"
   ]
  },
  {
   "cell_type": "code",
   "execution_count": 34,
   "id": "aec7e475",
   "metadata": {},
   "outputs": [],
   "source": [
    "def append_one():\n",
    "    global _result_list\n",
    "    for i in range(100_000):\n",
    "        _result_list.append(1)"
   ]
  },
  {
   "cell_type": "code",
   "execution_count": 35,
   "id": "20720db0",
   "metadata": {},
   "outputs": [
    {
     "name": "stdout",
     "output_type": "stream",
     "text": [
      "\n",
      "Length of _result_list: 10000000\n"
     ]
    }
   ],
   "source": [
    "from threading import Thread\n",
    "\n",
    "_result_list = []\n",
    "_threads = [Thread(target=append_one) for _ in range(100)]\n",
    "for _thread in _threads:\n",
    "    _thread.start()\n",
    "for _thread in _threads:\n",
    "    _thread.join()\n",
    "print(f\"\\nLength of _result_list: {len(_result_list)}\")"
   ]
  },
  {
   "cell_type": "markdown",
   "id": "db545d51",
   "metadata": {
    "lang": "de",
    "slideshow": {
     "slide_type": "subslide"
    }
   },
   "source": [
    "\n",
    "#### Barrieren (Barriers)\n",
    "\n",
    "Mit Barrieren (Barriers) kann eine fixe Anzahl an Threads synchronisiert werden:"
   ]
  },
  {
   "cell_type": "code",
   "execution_count": 36,
   "id": "b7025710",
   "metadata": {},
   "outputs": [],
   "source": [
    "from threading import Barrier, Thread\n",
    "\n",
    "_barrier = Barrier(2, timeout=5)"
   ]
  },
  {
   "cell_type": "code",
   "execution_count": 37,
   "id": "65607a9e",
   "metadata": {},
   "outputs": [],
   "source": [
    "def server1():\n",
    "    print(\"Server is starting!\")\n",
    "    simulate_processing_time(1.0)\n",
    "    print(\"Server started up!\")\n",
    "    _barrier.wait()\n",
    "    print(\"Server is serving!\")"
   ]
  },
  {
   "cell_type": "code",
   "execution_count": 38,
   "id": "5fbdd11f",
   "metadata": {},
   "outputs": [],
   "source": [
    "def client1():\n",
    "    print(\"Client is starting!\")\n",
    "    _barrier.wait()\n",
    "    print(\"Client is accessing server!\")"
   ]
  },
  {
   "cell_type": "code",
   "execution_count": 39,
   "id": "2a4981d3",
   "metadata": {},
   "outputs": [
    {
     "name": "stdout",
     "output_type": "stream",
     "text": [
      "Client is starting!\n"
     ]
    }
   ],
   "source": [
    "_c = Thread(target=client1)\n",
    "_c.start()"
   ]
  },
  {
   "cell_type": "code",
   "execution_count": 40,
   "id": "005b5117",
   "metadata": {},
   "outputs": [
    {
     "name": "stdout",
     "output_type": "stream",
     "text": [
      "Server is starting!\n"
     ]
    }
   ],
   "source": [
    "_s = Thread(target=server1)\n",
    "_s.start()"
   ]
  },
  {
   "cell_type": "code",
   "execution_count": 41,
   "id": "a8b3e398",
   "metadata": {},
   "outputs": [
    {
     "name": "stdout",
     "output_type": "stream",
     "text": [
      "Server started up!\n",
      "Server is serving!\n",
      "Client is accessing server!\n"
     ]
    }
   ],
   "source": [
    "_c.join()\n",
    "_s.join()"
   ]
  },
  {
   "cell_type": "code",
   "execution_count": 42,
   "id": "2ee612f6",
   "metadata": {},
   "outputs": [
    {
     "name": "stdout",
     "output_type": "stream",
     "text": [
      "Server is starting!\n"
     ]
    }
   ],
   "source": [
    "_s = Thread(target=server1)\n",
    "_s.start()"
   ]
  },
  {
   "cell_type": "code",
   "execution_count": 43,
   "id": "7e52bfeb",
   "metadata": {},
   "outputs": [
    {
     "name": "stdout",
     "output_type": "stream",
     "text": [
      "Client is starting!\n"
     ]
    }
   ],
   "source": [
    "_c = Thread(target=client1)\n",
    "_c.start()"
   ]
  },
  {
   "cell_type": "code",
   "execution_count": 44,
   "id": "10144d35",
   "metadata": {},
   "outputs": [
    {
     "name": "stdout",
     "output_type": "stream",
     "text": [
      "Server started up!\n",
      "Server is serving!\n",
      "Client is accessing server!\n"
     ]
    }
   ],
   "source": [
    "_s.join()\n",
    "_c.join()"
   ]
  },
  {
   "cell_type": "markdown",
   "id": "692e2be4",
   "metadata": {
    "lang": "de",
    "slideshow": {
     "slide_type": "subslide"
    }
   },
   "source": [
    "\n",
    "#### Locks\n",
    "\n",
    "Locks sind ein low-level Synchronisierungsmechanismus, mit dem man erzwingen kann,\n",
    "dass nur ein Thread eine Resource nutzt:"
   ]
  },
  {
   "cell_type": "code",
   "execution_count": 45,
   "id": "34ece1fd",
   "metadata": {},
   "outputs": [],
   "source": [
    "from threading import Lock, Thread\n",
    "\n",
    "_result_lock = Lock()"
   ]
  },
  {
   "cell_type": "code",
   "execution_count": 46,
   "id": "2dff737b",
   "metadata": {},
   "outputs": [],
   "source": [
    "def add_ones_locked():\n",
    "    global _result\n",
    "    for i in range(10_000):\n",
    "        with _result_lock:\n",
    "            tmp = _result + 1\n",
    "            if random() > 0.99:\n",
    "                simulate_processing_time(0)\n",
    "            _result = tmp"
   ]
  },
  {
   "cell_type": "code",
   "execution_count": 47,
   "id": "731e7954",
   "metadata": {},
   "outputs": [
    {
     "name": "stdout",
     "output_type": "stream",
     "text": [
      "\n",
      "_result = 1000000\n"
     ]
    }
   ],
   "source": [
    "_result = 0\n",
    "_threads = [Thread(target=add_ones_locked) for _ in range(100)]\n",
    "for _thread in _threads:\n",
    "    _thread.start()\n",
    "for _thread in _threads:\n",
    "    _thread.join()\n",
    "print(f\"\\n_result = {_result}\")"
   ]
  },
  {
   "cell_type": "code",
   "execution_count": 48,
   "id": "87619a85",
   "metadata": {},
   "outputs": [],
   "source": [
    "def server2():\n",
    "    _barrier.wait()\n",
    "    print(\"Server is serving\")\n",
    "    print(\"Server is still serving\")\n",
    "    print(\"Server is serving even more data\")"
   ]
  },
  {
   "cell_type": "code",
   "execution_count": 49,
   "id": "e3bc35e6",
   "metadata": {},
   "outputs": [],
   "source": [
    "def client2():\n",
    "    _barrier.wait()\n",
    "    print(\"Client is accessing server\")\n",
    "    print(\"Client is still accessing server\")\n",
    "    print(\"Client is taking really long to access the server\")"
   ]
  },
  {
   "cell_type": "code",
   "execution_count": 50,
   "id": "fe0d3fa1",
   "metadata": {},
   "outputs": [],
   "source": [
    "def run_tasks(task1, task2):\n",
    "    thread1 = Thread(target=task2)\n",
    "    thread1.start()\n",
    "\n",
    "    thread2 = Thread(target=task1)\n",
    "    thread2.start()\n",
    "\n",
    "    thread1.join()\n",
    "    thread2.join()"
   ]
  },
  {
   "cell_type": "code",
   "execution_count": 51,
   "id": "20ce8ff5",
   "metadata": {},
   "outputs": [
    {
     "name": "stdout",
     "output_type": "stream",
     "text": [
      "Server is servingClient is accessing server\n",
      "Client is still accessing server\n",
      "Client is taking really long to access the server\n",
      "\n",
      "Server is still serving\n",
      "Server is serving even more data\n"
     ]
    }
   ],
   "source": [
    "run_tasks(server2, client2)"
   ]
  },
  {
   "cell_type": "code",
   "execution_count": 52,
   "id": "8f39c62d",
   "metadata": {},
   "outputs": [],
   "source": [
    "from threading import Lock\n",
    "\n",
    "_print_lock = Lock()"
   ]
  },
  {
   "cell_type": "code",
   "execution_count": 53,
   "id": "73beaf58",
   "metadata": {},
   "outputs": [],
   "source": [
    "def server3():\n",
    "    _barrier.wait()\n",
    "    try:\n",
    "        _print_lock.acquire()\n",
    "        simulate_processing_time()\n",
    "        print(\"Server is serving\")\n",
    "        print(\"Server is still serving\")\n",
    "        print(\"Server is serving even more data\")\n",
    "    finally:\n",
    "        _print_lock.release()"
   ]
  },
  {
   "cell_type": "code",
   "execution_count": 54,
   "id": "e5dc7cb2",
   "metadata": {},
   "outputs": [],
   "source": [
    "def client3():\n",
    "    _barrier.wait()\n",
    "    if _print_lock.acquire(blocking=False):\n",
    "        print(\"Client is accessing server\")\n",
    "        print(\"Client is still accessing server\")\n",
    "        print(\"Client is taking really long to access the server\")\n",
    "        _print_lock.release()\n",
    "    else:\n",
    "        print(\"WARNING: Could not acquire lock!!!\")"
   ]
  },
  {
   "cell_type": "code",
   "execution_count": 55,
   "id": "09a2081a",
   "metadata": {},
   "outputs": [
    {
     "name": "stdout",
     "output_type": "stream",
     "text": [
      "WARNING: Could not acquire lock!!!\n",
      "Server is serving\n",
      "Server is still serving\n",
      "Server is serving even more data\n"
     ]
    }
   ],
   "source": [
    "run_tasks(server3, client3)"
   ]
  },
  {
   "cell_type": "code",
   "execution_count": 56,
   "id": "cede1f90",
   "metadata": {},
   "outputs": [
    {
     "name": "stdout",
     "output_type": "stream",
     "text": [
      "Client is accessing server\n",
      "Client is still accessing server\n",
      "Client is taking really long to access the server\n",
      "Server is serving\n",
      "Server is still serving\n",
      "Server is serving even more data\n"
     ]
    }
   ],
   "source": [
    "run_tasks(client3, server3)"
   ]
  },
  {
   "cell_type": "code",
   "execution_count": 57,
   "id": "f0854f6e",
   "metadata": {},
   "outputs": [],
   "source": [
    "def server4():\n",
    "    _barrier.wait()\n",
    "    with _print_lock:\n",
    "        print(\"Server is serving\")\n",
    "        print(\"Server is still serving\")\n",
    "        print(\"Server is serving even more data\")"
   ]
  },
  {
   "cell_type": "code",
   "execution_count": 58,
   "id": "bdad9033",
   "metadata": {},
   "outputs": [],
   "source": [
    "def client4():\n",
    "    _barrier.wait()\n",
    "    with _print_lock:\n",
    "        print(\"Client is accessing server\")\n",
    "        print(\"Client is still accessing server\")\n",
    "        print(\"Client is taking really long to access the server\")"
   ]
  },
  {
   "cell_type": "code",
   "execution_count": 59,
   "id": "a2a430e5",
   "metadata": {},
   "outputs": [
    {
     "name": "stdout",
     "output_type": "stream",
     "text": [
      "Server is serving\n",
      "Server is still serving\n",
      "Server is serving even more data\n",
      "Client is accessing server\n",
      "Client is still accessing server\n",
      "Client is taking really long to access the server\n"
     ]
    }
   ],
   "source": [
    "run_tasks(server4, client4)"
   ]
  },
  {
   "cell_type": "code",
   "execution_count": 60,
   "id": "f63ef0df",
   "metadata": {},
   "outputs": [
    {
     "name": "stdout",
     "output_type": "stream",
     "text": [
      "Client is accessing server\n",
      "Client is still accessing server\n",
      "Client is taking really long to access the server\n",
      "Server is serving\n",
      "Server is still serving\n",
      "Server is serving even more data\n"
     ]
    }
   ],
   "source": [
    "run_tasks(client4, server4)"
   ]
  },
  {
   "cell_type": "markdown",
   "id": "8bf6a9ad",
   "metadata": {
    "lang": "de",
    "slideshow": {
     "slide_type": "subslide"
    }
   },
   "source": [
    "\n",
    "#### Condition Variables\n",
    "\n",
    "Condition Variables sind ein Synchronisierungsmechanismus, der auf Locks basiert, aber\n",
    "einen zusätzlichen Mechanismus zur Koordination von Threads bietet: `notify()` (und\n",
    "`notify_all()`):\n",
    "\n",
    "Typischerweise verwendet man Condition Variables, wenn sich mehrere Threads einen\n",
    "gemeinsamen Zustand teilen und sowohl lesend als auch schreibend darauf zugreifen\n",
    "müssen:\n",
    "\n",
    "- Threads, die den Zustand lesen wollen, verwenden `wait()` und warten damit bis der\n",
    "  gewünschte Zustand erreicht ist\n",
    "- Threads, die den Zustand schreiben, verwenden `notify()` oder `notify_all()` um\n",
    "  eventuell wartende Threads über die Änderung zu benachrichtigen"
   ]
  },
  {
   "cell_type": "code",
   "execution_count": 61,
   "id": "3b800bcc",
   "metadata": {},
   "outputs": [],
   "source": [
    "from threading import Condition, Thread"
   ]
  },
  {
   "cell_type": "code",
   "execution_count": 62,
   "id": "a8922bd0",
   "metadata": {},
   "outputs": [],
   "source": [
    "def consumer(consumer_id, cv, items):\n",
    "    print(f\"Consumer {consumer_id} started...\", flush=True)\n",
    "    with cv:\n",
    "        print(f\"Consumer {consumer_id} waiting...\", flush=True)\n",
    "        wait_succeeded = True\n",
    "        while True:\n",
    "            while not items and wait_succeeded:\n",
    "                wait_succeeded = cv.wait(timeout=1.0)\n",
    "            if not wait_succeeded:\n",
    "                print(f\"Consumer {consumer_id} timed out...\", flush=True)\n",
    "                break\n",
    "            print(f\"Consumer {consumer_id} starts consuming...\", flush=True)\n",
    "            item = items.pop()\n",
    "            simulate_processing_time(0.1)\n",
    "            print(f\"Consumer {consumer_id} ends consuming item {item}...\", flush=True)"
   ]
  },
  {
   "cell_type": "code",
   "execution_count": 63,
   "id": "dfa6b6cc",
   "metadata": {},
   "outputs": [],
   "source": [
    "def producer(producer_id, cv, num_items, items):\n",
    "    from random import randint\n",
    "    print(f\"Producer {producer_id} started...\", flush=True)\n",
    "    for _ in range(num_items):\n",
    "        with cv:\n",
    "            item = randint(100, 999)\n",
    "            print(f\"Producer {producer_id} is producing item {item}\", flush=True)\n",
    "            items.append(item)\n",
    "            cv.notify()\n",
    "            simulate_processing_time(0.05)"
   ]
  },
  {
   "cell_type": "code",
   "execution_count": 64,
   "id": "66cf43a4",
   "metadata": {},
   "outputs": [],
   "source": [
    "def run_producer_consumer(num_items, num_producers=1, num_consumers=1):\n",
    "    threads = []\n",
    "    items = []\n",
    "    cv = Condition()\n",
    "    for i in range(num_consumers):\n",
    "        threads.append(Thread(target=consumer, args=(i + 1, cv, items)))\n",
    "    for i in range(num_producers):\n",
    "        threads.append(Thread(target=producer, args=(i + 1, cv, num_items, items)))\n",
    "    for thread in threads:\n",
    "        thread.start()\n",
    "    for thread in threads:\n",
    "        thread.join()"
   ]
  },
  {
   "cell_type": "code",
   "execution_count": 65,
   "id": "ac5b9480",
   "metadata": {},
   "outputs": [
    {
     "name": "stdout",
     "output_type": "stream",
     "text": [
      "Consumer 1 started...\n",
      "Producer 1 started...\n",
      "Consumer 1 waiting...\n",
      "Producer 1 is producing item 453\n",
      "Producer 1 is producing item 857\n",
      "Consumer 1 starts consuming...\n",
      "Consumer 1 ends consuming item 857...\n",
      "Consumer 1 starts consuming...\n",
      "Consumer 1 ends consuming item 453...\n",
      "Consumer 1 timed out...\n"
     ]
    }
   ],
   "source": [
    "run_producer_consumer(2)"
   ]
  },
  {
   "cell_type": "code",
   "execution_count": 66,
   "id": "bd806297",
   "metadata": {},
   "outputs": [
    {
     "name": "stdout",
     "output_type": "stream",
     "text": [
      "Consumer 1 started...\n",
      "Consumer 2 started...\n",
      "Consumer 3 started...\n",
      "Consumer 1 waiting...\n",
      "Producer 1 started...\n",
      "Consumer 2 waiting...\n",
      "Consumer 3 waiting...\n",
      "Producer 1 is producing item 906\n",
      "Consumer 1 starts consuming...\n",
      "Consumer 1 ends consuming item 906...\n",
      "Producer 1 is producing item 338\n",
      "Producer 1 is producing item 714\n",
      "Producer 1 is producing item 334\n",
      "Producer 1 is producing item 232\n",
      "Producer 1 is producing item 283\n",
      "Consumer 1 starts consuming...\n",
      "Consumer 1 ends consuming item 283...\n",
      "Consumer 1 starts consuming...\n",
      "Consumer 1 ends consuming item 232...\n",
      "Consumer 1 starts consuming...\n",
      "Consumer 1 ends consuming item 334...\n",
      "Consumer 1 starts consuming...\n",
      "Consumer 1 ends consuming item 714...\n",
      "Consumer 1 starts consuming...\n",
      "Consumer 1 ends consuming item 338...\n",
      "Consumer 2 timed out...\n",
      "Consumer 3 timed out...\n",
      "Consumer 1 timed out...\n"
     ]
    }
   ],
   "source": [
    "run_producer_consumer(6, num_producers=1, num_consumers=3)"
   ]
  },
  {
   "cell_type": "code",
   "execution_count": 67,
   "id": "84e6b7d7",
   "metadata": {
    "lines_to_next_cell": 2
   },
   "outputs": [
    {
     "name": "stdout",
     "output_type": "stream",
     "text": [
      "Consumer 1 started...\n",
      "Consumer 2 started...\n",
      "Consumer 3 started...\n",
      "Consumer 1 waiting...\n",
      "Consumer 4 started...\n",
      "Producer 1 started...\n",
      "Producer 2 started...\n",
      "Producer 3 started...\n",
      "Consumer 2 waiting...\n",
      "Consumer 3 waiting...\n",
      "Consumer 4 waiting...\n",
      "Producer 2 is producing item 524\n",
      "Producer 2 is producing item 714\n",
      "Producer 2 is producing item 414\n",
      "Producer 2 is producing item 139\n",
      "Producer 1 is producing item 240\n",
      "Producer 1 is producing item 794\n",
      "Producer 3 is producing item 733\n",
      "Producer 3 is producing item 447\n",
      "Consumer 1 starts consuming...\n",
      "Consumer 1 ends consuming item 447...\n",
      "Consumer 1 starts consuming...\n",
      "Consumer 1 ends consuming item 733...\n",
      "Consumer 1 starts consuming...\n",
      "Consumer 1 ends consuming item 794...\n",
      "Consumer 1 starts consuming...\n",
      "Consumer 1 ends consuming item 240...\n",
      "Consumer 1 starts consuming...\n",
      "Consumer 1 ends consuming item 139...\n",
      "Consumer 1 starts consuming...\n",
      "Consumer 1 ends consuming item 414...\n",
      "Consumer 1 starts consuming...\n",
      "Consumer 1 ends consuming item 714...\n",
      "Consumer 1 starts consuming...\n",
      "Consumer 1 ends consuming item 524...\n",
      "Producer 1 is producing item 180\n",
      "Producer 1 is producing item 382\n",
      "Producer 3 is producing item 700\n",
      "Producer 3 is producing item 352\n",
      "Consumer 3 starts consuming...\n",
      "Consumer 3 ends consuming item 352...\n",
      "Consumer 3 starts consuming...\n",
      "Consumer 3 ends consuming item 700...\n",
      "Consumer 3 starts consuming...\n",
      "Consumer 3 ends consuming item 382...\n",
      "Consumer 3 starts consuming...\n",
      "Consumer 3 ends consuming item 180...\n",
      "Consumer 3 timed out...\n",
      "Consumer 2 timed out...\n",
      "Consumer 4 timed out...\n",
      "Consumer 1 timed out...\n"
     ]
    }
   ],
   "source": [
    "run_producer_consumer(4, num_producers=3, num_consumers=4)"
   ]
  },
  {
   "cell_type": "code",
   "execution_count": 68,
   "id": "1076a8fd",
   "metadata": {},
   "outputs": [],
   "source": [
    "from queue import Queue, Empty"
   ]
  },
  {
   "cell_type": "code",
   "execution_count": 69,
   "id": "589516a9",
   "metadata": {},
   "outputs": [],
   "source": [
    "def producer(producer_id, q, num_items):\n",
    "    print(f\"Producer {producer_id} started...\")\n",
    "    for i in range(num_items):\n",
    "        print(f\"Producer {producer_id} produced item {producer_id}/{i}...\")\n",
    "        q.put(f\"Item {producer_id}/{i}\")\n",
    "        simulate_processing_time(0.1)"
   ]
  },
  {
   "cell_type": "code",
   "execution_count": 70,
   "id": "7663dac9",
   "metadata": {},
   "outputs": [],
   "source": [
    "def consumer(consumer_id, q, timeout=1.0):\n",
    "    print(f\"Consumer {consumer_id} started...\")\n",
    "    try:\n",
    "        while True:\n",
    "            item = q.get(block=True, timeout=timeout)\n",
    "            print(f\"Consumer {consumer_id} starting processing of item {item}...\")\n",
    "            simulate_processing_time(0.2)\n",
    "            print(f\"Consumer {consumer_id} done processing item {item}...\")\n",
    "    except Empty:\n",
    "        print(f\"Consumer {consumer_id} timed out...\")"
   ]
  },
  {
   "cell_type": "code",
   "execution_count": 71,
   "id": "1e57477b",
   "metadata": {},
   "outputs": [],
   "source": [
    "from threading import Thread\n",
    "def run_producer_consumer_queue(num_items, num_producers=1, num_consumers=1):\n",
    "    processes = []\n",
    "    q = Queue()\n",
    "    for i in range(num_consumers):\n",
    "        processes.append(Thread(target=consumer, args=(i + 1, q)))\n",
    "    for i in range(num_producers):\n",
    "        processes.append(Thread(target=producer, args=(i + 1, q, num_items)))\n",
    "    for process in processes:\n",
    "        process.start()\n",
    "    for process in processes:\n",
    "        process.join()"
   ]
  },
  {
   "cell_type": "code",
   "execution_count": 72,
   "id": "52281730",
   "metadata": {},
   "outputs": [
    {
     "name": "stdout",
     "output_type": "stream",
     "text": [
      "Consumer 1 started...Producer 1 started...\n",
      "Producer 1 produced item 1/0...\n",
      "\n",
      "Consumer 1 starting processing of item Item 1/0...\n",
      "Producer 1 produced item 1/1...\n",
      "Consumer 1 done processing item Item 1/0...\n",
      "Consumer 1 starting processing of item Item 1/1...\n",
      "Producer 1 produced item 1/2...\n",
      "Producer 1 produced item 1/3...\n",
      "Consumer 1 done processing item Item 1/1...\n",
      "Consumer 1 starting processing of item Item 1/2...\n",
      "Consumer 1 done processing item Item 1/2...\n",
      "Consumer 1 starting processing of item Item 1/3...\n",
      "Consumer 1 done processing item Item 1/3...\n",
      "Consumer 1 timed out...\n"
     ]
    }
   ],
   "source": [
    "run_producer_consumer_queue(4)"
   ]
  },
  {
   "cell_type": "code",
   "execution_count": 73,
   "id": "0b4f233d",
   "metadata": {},
   "outputs": [
    {
     "name": "stdout",
     "output_type": "stream",
     "text": [
      "Consumer 1 started...\n",
      "Consumer 2 started...\n",
      "Consumer 3 started...\n",
      "Producer 1 started...\n",
      "Producer 1 produced item 1/0...\n",
      "Consumer 1 starting processing of item Item 1/0...\n",
      "Producer 1 produced item 1/1...\n",
      "Consumer 2 starting processing of item Item 1/1...\n",
      "Producer 1 produced item 1/2...\n",
      "Consumer 3 starting processing of item Item 1/2...\n",
      "Consumer 1 done processing item Item 1/0...\n",
      "Producer 1 produced item 1/3...\n",
      "Consumer 1 starting processing of item Item 1/3...\n",
      "Consumer 2 done processing item Item 1/1...\n",
      "Producer 1 produced item 1/4...\n",
      "Consumer 2 starting processing of item Item 1/4...\n",
      "Consumer 3 done processing item Item 1/2...\n",
      "Consumer 1 done processing item Item 1/3...\n",
      "Producer 1 produced item 1/5...\n",
      "Consumer 3 starting processing of item Item 1/5...\n",
      "Consumer 2 done processing item Item 1/4...\n",
      "Consumer 3 done processing item Item 1/5...\n",
      "Consumer 1 timed out...\n",
      "Consumer 2 timed out...\n",
      "Consumer 3 timed out...\n"
     ]
    }
   ],
   "source": [
    "run_producer_consumer_queue(6, num_producers=1, num_consumers=3)"
   ]
  },
  {
   "cell_type": "code",
   "execution_count": 74,
   "id": "5753e088",
   "metadata": {},
   "outputs": [
    {
     "name": "stdout",
     "output_type": "stream",
     "text": [
      "Consumer 1 started...\n",
      "Consumer 2 started...\n",
      "Consumer 3 started...\n",
      "Producer 1 started...\n",
      "Producer 1 produced item 1/0...\n",
      "Consumer 1 starting processing of item Item 1/0...\n",
      "Producer 2 started...\n",
      "Producer 2 produced item 2/0...\n",
      "Consumer 2 starting processing of item Item 2/0...\n",
      "Producer 3 started...\n",
      "Producer 3 produced item 3/0...\n",
      "Consumer 3 starting processing of item Item 3/0...\n",
      "Producer 4 started...\n",
      "Producer 4 produced item 4/0...\n",
      "Producer 4 produced item 4/1...\n",
      "Producer 2 produced item 2/1...\n",
      "Producer 3 produced item 3/1...\n",
      "Producer 1 produced item 1/1...\n",
      "Consumer 1 done processing item Item 1/0...\n",
      "Consumer 1 starting processing of item Item 4/0...\n",
      "Consumer 2 done processing item Item 2/0...\n",
      "Consumer 2 starting processing of item Item 4/1...\n",
      "Consumer 3 done processing item Item 3/0...\n",
      "Consumer 3 starting processing of item Item 2/1...\n",
      "Consumer 1 done processing item Item 4/0...\n",
      "Consumer 1 starting processing of item Item 3/1...\n",
      "Consumer 3 done processing item Item 2/1...\n",
      "Consumer 3 starting processing of item Item 1/1...\n",
      "Consumer 2 done processing item Item 4/1...\n",
      "Consumer 1 done processing item Item 3/1...\n",
      "Consumer 3 done processing item Item 1/1...\n",
      "Consumer 2 timed out...\n",
      "Consumer 1 timed out...\n",
      "Consumer 3 timed out...\n"
     ]
    }
   ],
   "source": [
    "run_producer_consumer_queue(2, num_producers=4, num_consumers=3)"
   ]
  }
 ],
 "metadata": {
  "kernelspec": {
   "display_name": "Python 3 (ipykernel)",
   "language": "python",
   "name": "python3"
  },
  "language_info": {
   "codemirror_mode": {
    "name": "ipython",
    "version": 3
   },
   "file_extension": ".py",
   "mimetype": "text/x-python",
   "name": "python",
   "nbconvert_exporter": "python",
   "pygments_lexer": "ipython3",
   "version": "3.10.5"
  }
 },
 "nbformat": 4,
 "nbformat_minor": 5
}
