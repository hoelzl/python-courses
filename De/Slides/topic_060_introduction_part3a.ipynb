{
 "cells": [
  {
   "cell_type": "markdown",
   "id": "a73f64ca",
   "metadata": {
    "lang": "de",
    "slideshow": {
     "slide_type": "slide"
    }
   },
   "source": [
    "<img src=\"img/python-logo-notext.svg\"\n",
    "     style=\"display:block;margin:auto;width:10%\"/>\n",
    "<br>\n",
    "<div style=\"text-align:center; font-size:200%;\"><b>Einführung in Python: Grundlagen Teil 3</b></div>\n",
    "<br/>\n",
    "<div style=\"text-align:center;\">Dr. Matthias Hölzl</div>"
   ]
  },
  {
   "cell_type": "markdown",
   "id": "d21bfdb4",
   "metadata": {
    "lang": "de",
    "slideshow": {
     "slide_type": "slide"
    },
    "title": "\"slideshow\":"
   },
   "source": [
    "# Umwandlung in Strings\n",
    "\n",
    "Python bietet zwei Funktionen an, mit denen beliebige Werte in Strings umgewandelt\n",
    "werden können:\n",
    "\n",
    "- `repr` für eine \"programmnahe\" Darstellung (wie könnte der Wert im Programm erzeugt werden)\n",
    "- `str` für eine \"benutzerfreundliche\" Darstellung"
   ]
  },
  {
   "cell_type": "code",
   "execution_count": null,
   "id": "98148307",
   "metadata": {},
   "outputs": [],
   "source": [
    "print(str(\"Hallo!\"))"
   ]
  },
  {
   "cell_type": "code",
   "execution_count": null,
   "id": "6e125a95",
   "metadata": {},
   "outputs": [],
   "source": [
    "print(repr(\"Hallo!\"))"
   ]
  },
  {
   "cell_type": "markdown",
   "id": "0d22ba5a",
   "metadata": {
    "lang": "de",
    "slideshow": {
     "slide_type": "subslide"
    },
    "title": "\"slideshow\":"
   },
   "source": [
    "Für manche Datentypen liefern `str` und `repr` den gleichen String zurück:"
   ]
  },
  {
   "cell_type": "code",
   "execution_count": null,
   "id": "81b49f7d",
   "metadata": {},
   "outputs": [],
   "source": [
    "print(str([\"a\", \"b\", \"c\"]))\n",
    "print(repr([\"a\", \"b\", \"c\"]))"
   ]
  },
  {
   "cell_type": "markdown",
   "id": "76323f52",
   "metadata": {
    "lang": "de",
    "slideshow": {
     "slide_type": "slide"
    }
   },
   "source": [
    "# Benutzerdefinierte Datentypen\n",
    "\n",
    "In Python können benutzerdefinierte Datentypen (Klassen) definiert werden:"
   ]
  },
  {
   "cell_type": "code",
   "execution_count": null,
   "id": "c04f7d4c",
   "metadata": {},
   "outputs": [],
   "source": [
    "class PointV0:\n",
    "    pass"
   ]
  },
  {
   "cell_type": "markdown",
   "id": "80f9fe17",
   "metadata": {
    "lang": "de"
   },
   "source": [
    "\n",
    "Klassennamen werden in Pascal-Case (d.h. groß und mit Großbuchstaben zur\n",
    "Trennung von Namensbestandteilen) geschrieben, z.B. `MyVerySpecialClass`."
   ]
  },
  {
   "cell_type": "markdown",
   "id": "ce6ef4c8",
   "metadata": {
    "lang": "de",
    "slideshow": {
     "slide_type": "subslide"
    }
   },
   "source": [
    "Instanzen von benutzerdefinierten Klassen werden erzeugt, indem man den\n",
    "Klassennamen als Funktion aufruft.  Manche der Python Operatoren und\n",
    "Funktionen können verwendet werden ohne, dass zusätzliche Implementierungsarbeit nötig ist:"
   ]
  },
  {
   "cell_type": "code",
   "execution_count": null,
   "id": "f79a62d8",
   "metadata": {
    "slideshow": {
     "slide_type": "subslide"
    }
   },
   "outputs": [],
   "source": [
    "p1 = PointV0()\n",
    "p1"
   ]
  },
  {
   "cell_type": "code",
   "execution_count": null,
   "id": "46d30715",
   "metadata": {},
   "outputs": [],
   "source": [
    "print(p1)"
   ]
  },
  {
   "cell_type": "code",
   "execution_count": null,
   "id": "350f637f",
   "metadata": {},
   "outputs": [],
   "source": [
    "p2 = PointV0()\n",
    "p1 == p2"
   ]
  },
  {
   "cell_type": "code",
   "execution_count": null,
   "id": "a1872bc7",
   "metadata": {},
   "outputs": [],
   "source": [
    "# Fehler\n",
    "# p1 < p2"
   ]
  },
  {
   "cell_type": "markdown",
   "id": "9a6a79c9",
   "metadata": {
    "lang": "de",
    "slideshow": {
     "slide_type": "subslide"
    }
   },
   "source": [
    "\n",
    "Ähnlich wie Dictionaries neue Einträge zugewiesen werden können, kann man\n",
    "benutzerdefinierten Datentypen neue *Attribute* zuweisen, allerdings verwendet\n",
    "man die `.`-Notation statt der Indexing Notation `[]`:"
   ]
  },
  {
   "cell_type": "code",
   "execution_count": null,
   "id": "679f3c92",
   "metadata": {},
   "outputs": [],
   "source": [
    "# Möglich, aber nicht gut... / Possible but not good...\n",
    "p1.x = 1.0\n",
    "p1.y = 2.0\n",
    "print(p1.x)\n",
    "print(p1.y)"
   ]
  },
  {
   "cell_type": "code",
   "execution_count": null,
   "id": "fb54c12a",
   "metadata": {},
   "outputs": [],
   "source": [
    "# Error!\n",
    "# p2.x"
   ]
  },
  {
   "cell_type": "markdown",
   "id": "d4bc7f7f",
   "metadata": {
    "lang": "de",
    "slideshow": {
     "slide_type": "subslide"
    }
   },
   "source": [
    "\n",
    "Im Gegensatz zu Dictionaries werden Instanzen von Klassen typischerweise\n",
    "*nicht* nach der Erzeugung beliebige Attribute zugewiesen!\n",
    "\n",
    "Statt dessen sollen allen Instanzen die gleiche Form haben. Deswegen werden\n",
    "die Attribute eines Objekts bei seiner Konstruktion initialisiert. Das geht\n",
    "über die `__init__()` Methode.\n",
    "\n",
    "Die `__init__()`-Methode hat immer\n",
    "(mindestens) einen Parameter, der per Konvention `self` heißt:"
   ]
  },
  {
   "cell_type": "code",
   "execution_count": null,
   "id": "6b9cb636",
   "metadata": {
    "slideshow": {
     "slide_type": "subslide"
    }
   },
   "outputs": [],
   "source": [
    "class PointV1:\n",
    "    def __init__(self):\n",
    "        self.x = 0.0\n",
    "        self.y = 0.0"
   ]
  },
  {
   "cell_type": "code",
   "execution_count": null,
   "id": "a8c46404",
   "metadata": {},
   "outputs": [],
   "source": [
    "def print_point(name, p):\n",
    "    print(f\"{name}: x = {p.x}, y = {p.y}\")"
   ]
  },
  {
   "cell_type": "code",
   "execution_count": null,
   "id": "fe1f377e",
   "metadata": {},
   "outputs": [],
   "source": [
    "p1 = PointV1()\n",
    "p2 = PointV1()\n",
    "print_point(\"p1\", p1)\n",
    "print_point(\"p2\", p2)"
   ]
  },
  {
   "cell_type": "code",
   "execution_count": null,
   "id": "3cca1ee9",
   "metadata": {},
   "outputs": [],
   "source": [
    "p1 == p2"
   ]
  },
  {
   "cell_type": "markdown",
   "id": "08f724c0",
   "metadata": {
    "lang": "de",
    "slideshow": {
     "slide_type": "subslide"
    }
   },
   "source": [
    "\n",
    "Die Werte von Attributen können verändert werden:"
   ]
  },
  {
   "cell_type": "code",
   "execution_count": null,
   "id": "efce8e95",
   "metadata": {},
   "outputs": [],
   "source": [
    "p1.x = 1.0\n",
    "p1.y = 2.0\n",
    "print_point(\"p1\", p1)\n",
    "print_point(\"p2\", p2)"
   ]
  },
  {
   "cell_type": "markdown",
   "id": "cba0b531",
   "metadata": {
    "lang": "de",
    "slideshow": {
     "slide_type": "subslide"
    }
   },
   "source": [
    "\n",
    "In vielen Fällen wäre es besser, bei der Konstruktion eines Objekts Werte für\n",
    "die Attribute anzugeben. Das ist möglich, indem man der `__init__()`-Methode\n",
    "zusätzliche Parameter gibt."
   ]
  },
  {
   "cell_type": "code",
   "execution_count": null,
   "id": "bfcc3329",
   "metadata": {
    "slideshow": {
     "slide_type": "subslide"
    }
   },
   "outputs": [],
   "source": [
    "class PointV2:\n",
    "    def __init__(self, x, y):\n",
    "        self.x = x\n",
    "        self.y = y"
   ]
  },
  {
   "cell_type": "code",
   "execution_count": null,
   "id": "0c50c108",
   "metadata": {
    "lines_to_next_cell": 2
   },
   "outputs": [],
   "source": [
    "p1 = PointV2(2.0, 3.0)\n",
    "p2 = PointV2(0.0, 0.0)\n",
    "print_point(\"p1\", p1)\n",
    "print_point(\"p2\", p2)"
   ]
  },
  {
   "cell_type": "markdown",
   "id": "0067077b",
   "metadata": {
    "lang": "de",
    "lines_to_next_cell": 2,
    "slideshow": {
     "slide_type": "subslide"
    }
   },
   "source": [
    "## Mini-Workshop\n",
    "\n",
    "- Notebook `workshop_062_objects`\n",
    "- Abschnitt \"Kraftfahrzeuge (Teil 1)\""
   ]
  },
  {
   "cell_type": "markdown",
   "id": "5d6fb9ea",
   "metadata": {
    "lang": "de",
    "slideshow": {
     "slide_type": "subslide"
    }
   },
   "source": [
    "## Methoden\n",
    "\n",
    "Klassen können Methoden enthalten. Methoden sind Funktionen, die\n",
    "\"zu einem Objekt gehören\". Wir werden im Abschnitt zu Vererbung sehen,\n",
    "welche Möglichkeiten sich dadurch bieten.\n",
    "\n",
    "Methoden werden mit der \"Dot-Notation\" aufgerufen: `my_object.method()`.\n",
    "\n",
    "Die Syntax von Methodendefinitionen entspricht Funktionsdefinitionen,\n",
    "steht aber im Rumpf einer Klassendefinition.\n",
    "\n",
    "Im Gegensatz zu vielen anderen Sprachen hat\n",
    "Python bei der Definition keinen impliziten `this` Parameter; das Objekt auf\n",
    "dem die Methode aufgerufen wird muss als erster Parameter angegeben werden.\n",
    "Per Konvention hat dieser Parameter den Namen `self`, wie bei der\n",
    "`__init__()`-Methode.\n",
    "\n",
    "Die Definition einer Methode, die mit `my_object.method()` aufgerufen\n",
    "werden kann erfolgt also folgendermaßen:"
   ]
  },
  {
   "cell_type": "code",
   "execution_count": null,
   "id": "321602ab",
   "metadata": {
    "slideshow": {
     "slide_type": "subslide"
    },
    "tags": [
     "keep"
    ]
   },
   "outputs": [],
   "source": [
    "class MyClass:\n",
    "    def method(self):\n",
    "        print(F\"Called method on {self}\")"
   ]
  },
  {
   "cell_type": "code",
   "execution_count": null,
   "id": "447660cd",
   "metadata": {
    "tags": [
     "keep"
    ]
   },
   "outputs": [],
   "source": [
    "my_object = MyClass()\n",
    "my_object.method()"
   ]
  },
  {
   "cell_type": "markdown",
   "id": "2e4bd841",
   "metadata": {
    "lang": "de",
    "slideshow": {
     "slide_type": "subslide"
    }
   },
   "source": [
    "Wir können eine Methode zum Verschieben eines Punktes zu unserer `Point` Klasse hinzufügen:"
   ]
  },
  {
   "cell_type": "code",
   "execution_count": null,
   "id": "7f598db9",
   "metadata": {},
   "outputs": [],
   "source": [
    "class PointV3:\n",
    "    def __init__(self, x, y):\n",
    "        self.x = x\n",
    "        self.y = y\n",
    "\n",
    "    def move(self, dx=0.0, dy=0.0):\n",
    "        self.x += dx\n",
    "        self.y += dy"
   ]
  },
  {
   "cell_type": "code",
   "execution_count": null,
   "id": "ef29642b",
   "metadata": {
    "slideshow": {
     "slide_type": "subslide"
    }
   },
   "outputs": [],
   "source": [
    "p = PointV3(2, 3)\n",
    "print_point(\"p\", p)"
   ]
  },
  {
   "cell_type": "code",
   "execution_count": null,
   "id": "b2c4944d",
   "metadata": {},
   "outputs": [],
   "source": [
    "p.move(3, 5)\n",
    "print_point(\"p\", p)"
   ]
  },
  {
   "cell_type": "markdown",
   "id": "d6954414",
   "metadata": {
    "lang": "de",
    "lines_to_next_cell": 2,
    "slideshow": {
     "slide_type": "subslide"
    }
   },
   "source": [
    "## Mini-Workshop\n",
    "\n",
    "- Notebook `workshop_062_objects`\n",
    "- Abschnitt \"Kraftfahrzeuge (Teil 2)\""
   ]
  },
  {
   "cell_type": "markdown",
   "id": "1022e1c5",
   "metadata": {
    "lang": "de",
    "slideshow": {
     "slide_type": "slide"
    }
   },
   "source": [
    "## Das Python-Objektmodell\n",
    "\n",
    "Mit Dunder-Methoden können benutzerdefinierten Datentypen benutzerfreundlicher\n",
    "gestaltet werden:"
   ]
  },
  {
   "cell_type": "code",
   "execution_count": null,
   "id": "abc676f2",
   "metadata": {},
   "outputs": [],
   "source": [
    "print(str(p1))\n",
    "print(repr(p1))"
   ]
  },
  {
   "cell_type": "markdown",
   "id": "d2b81a12",
   "metadata": {
    "lang": "de"
   },
   "source": [
    "Durch Definition der Methode `__repr__(self)` kann der von `repr`\n",
    "zurückgegebene String für benutzerdefinierte Klassen angepasst werden: Der\n",
    "Funktionsaufruf `repr(x)` überprüft, ob `x` eine Methode `__repr__` hat und\n",
    "ruft diese auf, falls sie existiert."
   ]
  },
  {
   "cell_type": "code",
   "execution_count": null,
   "id": "b8936ca6",
   "metadata": {
    "slideshow": {
     "slide_type": "subslide"
    }
   },
   "outputs": [],
   "source": [
    "class PointV4:\n",
    "    def __init__(self, x, y):\n",
    "        self.x = x\n",
    "        self.y = y\n",
    "\n",
    "    def __repr__(self):\n",
    "        return \"PointV4(\" + repr(self.x) + \", \" + repr(self.y) + \")\"\n",
    "\n",
    "    def move(self, dx=0, dy=0):\n",
    "        self.x += dx\n",
    "        self.y += dy"
   ]
  },
  {
   "cell_type": "code",
   "execution_count": null,
   "id": "2296304b",
   "metadata": {
    "slideshow": {
     "slide_type": "subslide"
    }
   },
   "outputs": [],
   "source": [
    "p1 = PointV4(2, 5)\n",
    "print(repr(p1))"
   ]
  },
  {
   "cell_type": "markdown",
   "id": "3846702d",
   "metadata": {
    "lang": "de",
    "slideshow": {
     "slide_type": "subslide"
    }
   },
   "source": [
    "\n",
    "Entsprechend kann eine `__str__()` Methode definiert werden, die von `str()`\n",
    "verwendet wird. Die Funktion `str()` delegiert an `__repr__()`, falls keine\n",
    "`__str__()`-Methode definiert ist:\n"
   ]
  },
  {
   "cell_type": "code",
   "execution_count": null,
   "id": "d8cbfd3a",
   "metadata": {},
   "outputs": [],
   "source": [
    "print(str(p1))"
   ]
  },
  {
   "cell_type": "code",
   "execution_count": null,
   "id": "cfe948e8",
   "metadata": {},
   "outputs": [],
   "source": [
    "print(p1)"
   ]
  },
  {
   "cell_type": "markdown",
   "id": "65f38572",
   "metadata": {
    "lang": "de",
    "slideshow": {
     "slide_type": "subslide"
    }
   },
   "source": [
    "Python bietet viele Dunder-Methoden an: siehe das\n",
    "[Python Datenmodell](https://docs.python.org/3/reference/datamodel.html)\n",
    "in der Dokumentation."
   ]
  },
  {
   "cell_type": "code",
   "execution_count": null,
   "id": "9f06ac3d",
   "metadata": {
    "slideshow": {
     "slide_type": "subslide"
    }
   },
   "outputs": [],
   "source": [
    "class Point:\n",
    "    def __init__(self, x=0, y=0):\n",
    "        self.x = x\n",
    "        self.y = y\n",
    "\n",
    "    def __repr__(self):\n",
    "        return f\"Point({self.x!r}, {self.y!r})\"\n",
    "\n",
    "    def __eq__(self, rhs: object) -> bool:\n",
    "        if isinstance(rhs, Point):\n",
    "            return self.x == rhs.x and self.y == rhs.y\n",
    "        return False\n",
    "\n",
    "    def __add__(self, rhs):\n",
    "        return Point(self.x + rhs.x, self.y + rhs.y)\n",
    "\n",
    "    def __sub__(self, rhs):\n",
    "        return Point(self.x - rhs.x, self.y - rhs.y)\n",
    "\n",
    "    def __mul__(self, rhs):\n",
    "        return Point(rhs * self.x, rhs * self.y)\n",
    "\n",
    "    def __rmul__(self, lhs):\n",
    "        return Point(lhs * self.x, lhs * self.y)\n",
    "\n",
    "    def move(self, dx=0, dy=0):\n",
    "        self.x += dx\n",
    "        self.y += dy"
   ]
  },
  {
   "cell_type": "code",
   "execution_count": null,
   "id": "d9bd8811",
   "metadata": {
    "slideshow": {
     "slide_type": "subslide"
    }
   },
   "outputs": [],
   "source": [
    "p1 = Point(1, 2)\n",
    "p2 = Point(2, 4)\n",
    "p3 = Point(2, 4)"
   ]
  },
  {
   "cell_type": "code",
   "execution_count": null,
   "id": "3b9c1b18",
   "metadata": {},
   "outputs": [],
   "source": [
    "p1 == p2"
   ]
  },
  {
   "cell_type": "code",
   "execution_count": null,
   "id": "7e5f6dbc",
   "metadata": {},
   "outputs": [],
   "source": [
    "p2 == p3"
   ]
  },
  {
   "cell_type": "code",
   "execution_count": null,
   "id": "ba066257",
   "metadata": {
    "slideshow": {
     "slide_type": "subslide"
    }
   },
   "outputs": [],
   "source": [
    "p3 = p1 + p2\n",
    "p3"
   ]
  },
  {
   "cell_type": "code",
   "execution_count": null,
   "id": "a67ed5de",
   "metadata": {},
   "outputs": [],
   "source": [
    "p3 = p1 - Point(3, 2)\n",
    "p3"
   ]
  },
  {
   "cell_type": "code",
   "execution_count": null,
   "id": "8c119421",
   "metadata": {
    "slideshow": {
     "slide_type": "subslide"
    }
   },
   "outputs": [],
   "source": [
    "print(p1)\n",
    "print(p1 * 3)\n",
    "print(3 * p1)"
   ]
  },
  {
   "cell_type": "code",
   "execution_count": null,
   "id": "d110a477",
   "metadata": {
    "lines_to_next_cell": 2,
    "slideshow": {
     "slide_type": "subslide"
    }
   },
   "outputs": [],
   "source": [
    "print(p2)\n",
    "p2 += p1\n",
    "p2"
   ]
  },
  {
   "cell_type": "markdown",
   "id": "ab20d693",
   "metadata": {
    "lang": "de",
    "lines_to_next_cell": 2,
    "slideshow": {
     "slide_type": "subslide"
    }
   },
   "source": [
    "\n",
    " ## Mini-Workshop\n",
    "\n",
    "- Notebook `workshop_062_objects`\n",
    "- Abschnitt \"Kraftfahrzeuge (Teil 3)\""
   ]
  },
  {
   "cell_type": "markdown",
   "id": "1c0b4915",
   "metadata": {
    "lang": "de",
    "slideshow": {
     "slide_type": "slide"
    }
   },
   "source": [
    "## Dataclasses\n",
    "\n",
    "Definition einer Klasse, in der Attribute besser sichtbar sind, Repräsentation\n",
    "und Gleichheit vordefiniert sind, etc.\n",
    "\n",
    "Die [Dokumentation](https://docs.python.org/3/library/dataclasses.html)\n",
    "beinhaltet weitere Möglichkeiten."
   ]
  },
  {
   "cell_type": "code",
   "execution_count": null,
   "id": "7c5eb408",
   "metadata": {
    "slideshow": {
     "slide_type": "subslide"
    }
   },
   "outputs": [],
   "source": [
    "from dataclasses import dataclass"
   ]
  },
  {
   "cell_type": "code",
   "execution_count": null,
   "id": "4355110d",
   "metadata": {
    "slideshow": {
     "slide_type": "subslide"
    }
   },
   "outputs": [],
   "source": [
    "@dataclass\n",
    "class DataPoint:\n",
    "    x: float\n",
    "    y: float"
   ]
  },
  {
   "cell_type": "code",
   "execution_count": null,
   "id": "bb2ce16c",
   "metadata": {},
   "outputs": [],
   "source": [
    "dp = DataPoint(2, 3)\n",
    "dp"
   ]
  },
  {
   "cell_type": "code",
   "execution_count": null,
   "id": "185859e2",
   "metadata": {},
   "outputs": [],
   "source": [
    "dp1 = DataPoint(1, 1)\n",
    "dp2 = DataPoint(1, 1)\n",
    "print(dp1 == dp2)\n",
    "print(dp1 is dp2)"
   ]
  },
  {
   "cell_type": "code",
   "execution_count": null,
   "id": "16016205",
   "metadata": {
    "slideshow": {
     "slide_type": "subslide"
    }
   },
   "outputs": [],
   "source": [
    "@dataclass\n",
    "class Point3D:\n",
    "    x: float\n",
    "    y: float\n",
    "    z: float = 0.0\n",
    "\n",
    "    def move(self, dx=0.0, dy=0.0, dz=0.0):\n",
    "        self.x += dx\n",
    "        self.y += dy\n",
    "        self.z += dz"
   ]
  },
  {
   "cell_type": "code",
   "execution_count": null,
   "id": "74e4eaa5",
   "metadata": {},
   "outputs": [],
   "source": [
    "p3d = Point3D(1.0, 2.0)\n",
    "p3d"
   ]
  },
  {
   "cell_type": "code",
   "execution_count": null,
   "id": "dfe0146f",
   "metadata": {},
   "outputs": [],
   "source": [
    "p3d.move(dy=1.0, dz=5.0)\n",
    "p3d"
   ]
  },
  {
   "cell_type": "markdown",
   "id": "a0b284c1",
   "metadata": {
    "lang": "de",
    "slideshow": {
     "slide_type": "subslide"
    }
   },
   "source": [
    "Dataclasses erzwingen, dass Default-Werte unveränderlich sind (zumindest für einige Typen...):"
   ]
  },
  {
   "cell_type": "code",
   "execution_count": null,
   "id": "8918d8dc",
   "metadata": {},
   "outputs": [],
   "source": [
    "from dataclasses import dataclass, field"
   ]
  },
  {
   "cell_type": "code",
   "execution_count": null,
   "id": "80feb850",
   "metadata": {},
   "outputs": [],
   "source": [
    "@dataclass\n",
    "class DefaultDemo:\n",
    "    # items: list = []\n",
    "    items: list = field(default_factory=list)"
   ]
  },
  {
   "cell_type": "code",
   "execution_count": null,
   "id": "b6c0b9e7",
   "metadata": {},
   "outputs": [],
   "source": [
    "d1 = DefaultDemo()\n",
    "d2 = DefaultDemo()"
   ]
  },
  {
   "cell_type": "code",
   "execution_count": null,
   "id": "58b84209",
   "metadata": {},
   "outputs": [],
   "source": [
    "d1.items.append(1234)\n",
    "print(d1)\n",
    "print(d2)"
   ]
  },
  {
   "cell_type": "markdown",
   "id": "192efa73",
   "metadata": {
    "lang": "de",
    "slideshow": {
     "slide_type": "subslide"
    }
   },
   "source": [
    "Der Test auf unveränderliche Defaults funktioniert aber nur für einige Typen aus der Standardbibliothek, nicht für benutzerdefinierte Typen:"
   ]
  },
  {
   "cell_type": "code",
   "execution_count": null,
   "id": "2c100c0a",
   "metadata": {},
   "outputs": [],
   "source": [
    "@dataclass\n",
    "class BadDefault:\n",
    "    point: Point3D = Point3D(0.0, 0.0)"
   ]
  },
  {
   "cell_type": "code",
   "execution_count": null,
   "id": "cae66744",
   "metadata": {},
   "outputs": [],
   "source": [
    "bd1 = BadDefault()\n",
    "bd2 = BadDefault()\n",
    "bd1, bd2"
   ]
  },
  {
   "cell_type": "code",
   "execution_count": null,
   "id": "38875a6f",
   "metadata": {
    "lines_to_next_cell": 2
   },
   "outputs": [],
   "source": [
    "bd1.point.move(1.0, 2.0)\n",
    "bd1, bd2"
   ]
  },
  {
   "cell_type": "markdown",
   "id": "fd32d86d",
   "metadata": {
    "lang": "de",
    "slideshow": {
     "slide_type": "subslide"
    }
   },
   "source": [
    "\n",
    "Es ist möglich, koplexere Initialisierungen vorzunehmen:\n",
    "\n",
    "- Die `__post_init__()` Methode kann Code zur Initialisierung von Objekten\n",
    "  enthalten, der nach der generierten `__init__()` Methode ausgeführt wird.\n",
    "- Der Typ `InitVar[T]` deklariert, dass ein Klassen-Attribut als Argument an\n",
    "  `__post_init__()` übergeben und nicht als Instanz-Attribut verwendet wird.\n",
    "- Das Keyword-Argument `init=False` für `field()` bewirkt, dass ein Attribut\n",
    "  nicht in der generierten `__init__()` Methode initialisiert wird."
   ]
  },
  {
   "cell_type": "code",
   "execution_count": null,
   "id": "971125af",
   "metadata": {
    "lines_to_next_cell": 1
   },
   "outputs": [],
   "source": [
    "from dataclasses import dataclass, field, InitVar"
   ]
  },
  {
   "cell_type": "code",
   "execution_count": null,
   "id": "9e848d07",
   "metadata": {
    "lines_to_next_cell": 1
   },
   "outputs": [],
   "source": [
    "@dataclass\n",
    "class DependentInit:\n",
    "    x: InitVar[float] = 0.0\n",
    "    y: InitVar[float] = 0.0\n",
    "    z: InitVar[float] = 0.0\n",
    "    point: Point3D = field(init=False)\n",
    "        \n",
    "    def __post_init__(self, x, y, z):\n",
    "        self.point = Point3D(x, y, z)"
   ]
  },
  {
   "cell_type": "code",
   "execution_count": null,
   "id": "714192f8",
   "metadata": {},
   "outputs": [],
   "source": [
    "bd1 = DependentInit()\n",
    "bd2 = DependentInit(1.0, 2.0, 3.0)\n",
    "bd1, bd2"
   ]
  },
  {
   "cell_type": "code",
   "execution_count": null,
   "id": "38f7c4a3",
   "metadata": {
    "lines_to_next_cell": 1
   },
   "outputs": [],
   "source": [
    "bd1.point.move(3.0, 5.0)\n",
    "bd1, bd2"
   ]
  },
  {
   "cell_type": "markdown",
   "id": "de7dc2e9",
   "metadata": {
    "lang": "de",
    "slideshow": {
     "slide_type": "subslide"
    }
   },
   "source": [
    "## Workshop\n",
    "\n",
    "- Notebook `workshop_062_objects`\n",
    "- Abschnitt \"Einkaufsliste\""
   ]
  },
  {
   "cell_type": "markdown",
   "id": "3f41a2c3",
   "metadata": {
    "lang": "de",
    "slideshow": {
     "slide_type": "slide"
    }
   },
   "source": [
    "Es ist möglich einen Klasse zu definieren, deren Instanzen sich wie Listen verhalten. Um die Implementierung zu vereinfachen delegieren wir die Verwaltung der Elemente an eine Liste, die als Attribut gespeichert ist. Diese Form der Komposition findet man häufig in der objektorientierten Programmierung."
   ]
  },
  {
   "cell_type": "code",
   "execution_count": null,
   "id": "8cd1ae31",
   "metadata": {},
   "outputs": [],
   "source": [
    "class MyBadList:\n",
    "    def __init__(self, elements=None):\n",
    "        if elements is None:\n",
    "            elements = []\n",
    "        self.elements = elements\n",
    "\n",
    "    def __getitem__(self, n):\n",
    "        if isinstance(n, slice):\n",
    "            return MyBadList(self.elements[n])\n",
    "        return self.elements[n]\n",
    "\n",
    "    def __len__(self):\n",
    "        return len(self.elements)\n",
    "\n",
    "    def __repr__(self):\n",
    "        return f\"MyBadList({self.elements!r})\"\n",
    "\n",
    "    def append(self, element):\n",
    "        self.elements.append(element)"
   ]
  },
  {
   "cell_type": "code",
   "execution_count": null,
   "id": "310b0b33",
   "metadata": {
    "slideshow": {
     "slide_type": "subslide"
    }
   },
   "outputs": [],
   "source": [
    "my_list_1 = MyBadList()\n",
    "my_list_2 = MyBadList()\n",
    "my_list_3 = MyBadList([1, 2, 3])\n",
    "print(my_list_1)\n",
    "print(my_list_2)\n",
    "print(my_list_3)"
   ]
  },
  {
   "cell_type": "code",
   "execution_count": null,
   "id": "21ef0002",
   "metadata": {
    "slideshow": {
     "slide_type": "subslide"
    }
   },
   "outputs": [],
   "source": [
    "my_list_1.append(\"a\")\n",
    "my_list_1.append(\"b\")\n",
    "my_list_1.append(\"c\")\n",
    "print(my_list_1)\n",
    "print(my_list_2)\n",
    "print(my_list_3)"
   ]
  },
  {
   "cell_type": "code",
   "execution_count": null,
   "id": "41aa2d9d",
   "metadata": {},
   "outputs": [],
   "source": [
    "print(len(my_list_1))\n",
    "print(my_list_1[0])\n",
    "# print(my_list_1[10])"
   ]
  },
  {
   "cell_type": "code",
   "execution_count": null,
   "id": "f9e15425",
   "metadata": {},
   "outputs": [],
   "source": [
    "for elt in my_list_1:\n",
    "    print(elt)"
   ]
  },
  {
   "cell_type": "code",
   "execution_count": null,
   "id": "b6138218",
   "metadata": {
    "lines_to_next_cell": 2
   },
   "outputs": [],
   "source": [
    "my_list_1[1:]"
   ]
  },
  {
   "cell_type": "code",
   "execution_count": null,
   "id": "b08ed471",
   "metadata": {
    "tags": [
     "keep"
    ]
   },
   "outputs": [],
   "source": []
  }
 ],
 "metadata": {
  "kernelspec": {
   "display_name": "Python 3 (ipykernel)",
   "language": "python",
   "name": "python3"
  }
 },
 "nbformat": 4,
 "nbformat_minor": 5
}
