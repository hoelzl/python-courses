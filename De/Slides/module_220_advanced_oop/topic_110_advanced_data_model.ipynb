{
 "cells": [
  {
   "cell_type": "markdown",
   "id": "06aa8799483ebb56",
   "metadata": {
    "lang": "de",
    "slideshow": {
     "slide_type": "slide"
    }
   },
   "source": [
    "<img src=\"../../img/python-logo-no-text.svg\"\n",
    "     style=\"display:block;margin:auto;width:10%\"/>\n",
    "<br>\n",
    "<div style=\"text-align:center; font-size:200%;\">\n",
    "  <b>Mehr zum Datenmodell</b>\n",
    "</div>\n",
    "<br/>\n",
    "<div style=\"text-align:center;\">Dr. Matthias Hölzl</div>\n",
    "<br/>\n",
    "<div style=\"text-align:center;\">module_220_advanced_oop/topic_110_advanced_data_model</div>"
   ]
  },
  {
   "cell_type": "markdown",
   "id": "912b41000211103c",
   "metadata": {
    "lang": "de"
   },
   "source": [
    "\n",
    " ## Workshop\n",
    "\n",
    " - Notebook `064x-Workshop Todo-Liste V2`\n",
    " - Abschnitt \"Grundlegende Funktionalität\"\n",
    " - Implementieren Sie die `__iter__()` Methode."
   ]
  }
 ],
 "metadata": {
  "kernelspec": {
   "display_name": "Python 3 (ipykernel)",
   "language": "python",
   "name": "python3"
  }
 },
 "nbformat": 4,
 "nbformat_minor": 5
}
