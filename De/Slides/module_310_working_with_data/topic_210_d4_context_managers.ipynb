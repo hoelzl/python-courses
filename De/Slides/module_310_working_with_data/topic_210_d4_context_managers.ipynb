{
 "cells": [
  {
   "cell_type": "code",
   "execution_count": null,
   "id": "6b4e03423667dbb7",
   "metadata": {
    "tags": [
     "keep"
    ]
   },
   "outputs": [],
   "source": []
  },
  {
   "cell_type": "markdown",
   "id": "cc77d0c1ba1930a0",
   "metadata": {
    "lang": "de",
    "slideshow": {
     "slide_type": "slide"
    }
   },
   "source": [
    "<img src=\"../../img/python-logo-no-text.svg\"\n",
    "     style=\"display:block;margin:auto;width:10%\"/>\n",
    "<br>\n",
    "<div style=\"text-align:center; font-size:200%;\">\n",
    "  <b>Context Manager</b>\n",
    "</div>\n",
    "<br/>\n",
    "<div style=\"text-align:center;\">Dr. Matthias Hölzl</div>\n",
    "<br/>\n",
    "<div style=\"text-align:center;\">module_310_working_with_data/topic_210_d4_context_managers</div>"
   ]
  },
  {
   "cell_type": "markdown",
   "id": "4e57f7eca3af64ca",
   "metadata": {
    "lang": "de"
   },
   "source": [
    "\n",
    " # Context Managers\n",
    "\n",
    " Context Manager sind Objekte, die häufig verwendete `try-except-finally`\n",
    " Patterns für `with`-Blöcke kapseln."
   ]
  },
  {
   "cell_type": "code",
   "execution_count": null,
   "id": "3b428776ae040321",
   "metadata": {},
   "outputs": [],
   "source": [
    "from contextlib import AbstractContextManager\n",
    "import sys\n",
    "\n",
    "\n",
    "class ProgressNotifier(AbstractContextManager):\n",
    "    def __init__(self, entry_message, width=72):\n",
    "        self.entry_message = entry_message\n",
    "        self.width = width\n",
    "        self.num_completed_items = 0\n",
    "\n",
    "    def __enter__(self):\n",
    "        print(f\"{self.entry_message}\")\n",
    "        sys.stdout.flush()\n",
    "        return self\n",
    "\n",
    "    def __exit__(self, exc_type, exc_value, traceback):\n",
    "        if exc_type:\n",
    "            print(\"failed!\")\n",
    "        else:\n",
    "            print(\"done.\")\n",
    "\n",
    "    def item_completed(self):\n",
    "        self.num_completed_items += 1\n",
    "        print(\".\", end=\"\\n\" if self.num_completed_items % self.width == 0 else \"\")\n",
    "        sys.stdout.flush()\n",
    "\n",
    "    def item_skipped(self):\n",
    "        self.num_completed_items += 1\n",
    "        print(\"-\", end=\"\\n\" if self.num_completed_items % self.width == 0 else \"\")\n",
    "        sys.stdout.flush()\n",
    "\n",
    "\n",
    "def progress(entry_message):\n",
    "    return ProgressNotifier(entry_message)"
   ]
  },
  {
   "cell_type": "code",
   "execution_count": null,
   "id": "f341f77abce9fdf2",
   "metadata": {},
   "outputs": [],
   "source": [
    "import random\n",
    "\n",
    "\n",
    "def download_items(n):\n",
    "    with progress(\"Downloading articles\") as p:\n",
    "        for i in range(n):\n",
    "            r = random.random()\n",
    "            if r < 0.001:\n",
    "                raise IOError(\"Download failed\")\n",
    "            elif r < 0.1:\n",
    "                p.item_skipped()\n",
    "            else:\n",
    "                p.item_completed()"
   ]
  },
  {
   "cell_type": "code",
   "execution_count": null,
   "id": "b9beac2a0637d7b8",
   "metadata": {},
   "outputs": [],
   "source": [
    "try:\n",
    "    download_items(500)\n",
    "    print(\"Finished successfully\")\n",
    "except IOError:\n",
    "    print(\"Caught IOError\")"
   ]
  }
 ],
 "metadata": {
  "kernelspec": {
   "display_name": "Python 3 (ipykernel)",
   "language": "python",
   "name": "python3"
  }
 },
 "nbformat": 4,
 "nbformat_minor": 5
}
