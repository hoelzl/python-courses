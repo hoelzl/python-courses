{
 "cells": [
  {
   "cell_type": "markdown",
   "id": "289a5d74",
   "metadata": {
    "lang": "de",
    "slideshow": {
     "slide_type": "slide"
    }
   },
   "source": [
    "<img src=\"img/python-logo-notext.svg\"\n",
    "     style=\"display:block;margin:auto;width:10%\"/>\n",
    "<br>\n",
    "<div style=\"text-align:center; font-size:200%;\"><b>Decorators</b></div>\n",
    "<br/>\n",
    "<div style=\"text-align:center;\">Dr. Matthias Hölzl</div>"
   ]
  },
  {
   "cell_type": "markdown",
   "id": "631ffd91",
   "metadata": {
    "lang": "de",
    "slideshow": {
     "slide_type": "slide"
    }
   },
   "source": [
    "## Decorators\n",
    "\n",
    "Siehe [PEP 318](https://peps.python.org/pep-0318/)"
   ]
  },
  {
   "cell_type": "code",
   "execution_count": null,
   "id": "c3b77c50",
   "metadata": {
    "lines_to_next_cell": 1
   },
   "outputs": [],
   "source": [
    "def log_exec(fun):\n",
    "\tdef logged_fun(*args, **kwargs):\n",
    "\t\tprint(f\"Calling {fun.__name__} on {args}, {kwargs}.\")\n",
    "\t\treturn fun(*args, **kwargs)\n",
    "\treturn logged_fun"
   ]
  },
  {
   "cell_type": "code",
   "execution_count": null,
   "id": "e69c578e",
   "metadata": {},
   "outputs": [],
   "source": [
    "@log_exec\n",
    "def say_hi(name=\"world\"):\n",
    "\tprint(f\"Hi {name}!\")"
   ]
  },
  {
   "cell_type": "code",
   "execution_count": null,
   "id": "9361916b",
   "metadata": {},
   "outputs": [],
   "source": [
    "say_hi()"
   ]
  },
  {
   "cell_type": "code",
   "execution_count": null,
   "id": "59d88c9c",
   "metadata": {
    "lines_to_next_cell": 1
   },
   "outputs": [],
   "source": [
    "say_hi(\"Joe\")"
   ]
  },
  {
   "cell_type": "code",
   "execution_count": null,
   "id": "c9ac042b",
   "metadata": {},
   "outputs": [],
   "source": [
    "@log_exec\n",
    "def my_dict(id, **kwargs):\n",
    "\treturn dict(id=id, **kwargs)"
   ]
  },
  {
   "cell_type": "code",
   "execution_count": null,
   "id": "03b03d2e",
   "metadata": {},
   "outputs": [],
   "source": [
    "my_dict(123)"
   ]
  },
  {
   "cell_type": "code",
   "execution_count": null,
   "id": "bfee4433",
   "metadata": {},
   "outputs": [],
   "source": [
    "my_dict(123, foo=234, bar=345)"
   ]
  },
  {
   "cell_type": "code",
   "execution_count": null,
   "id": "bb722cd6",
   "metadata": {},
   "outputs": [],
   "source": [
    "d = dict(foo=234, bar=345)"
   ]
  },
  {
   "cell_type": "code",
   "execution_count": null,
   "id": "08b019b5",
   "metadata": {},
   "outputs": [],
   "source": [
    "my_dict(1, **d)"
   ]
  },
  {
   "cell_type": "code",
   "execution_count": null,
   "id": "75fc52ef",
   "metadata": {
    "tags": [
     "keep"
    ]
   },
   "outputs": [],
   "source": []
  }
 ],
 "metadata": {
  "kernelspec": {
   "display_name": "Python 3 (ipykernel)",
   "language": "python",
   "name": "python3"
  }
 },
 "nbformat": 4,
 "nbformat_minor": 5
}
