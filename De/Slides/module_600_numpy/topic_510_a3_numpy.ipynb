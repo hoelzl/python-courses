{
 "cells": [
  {
   "cell_type": "markdown",
   "id": "daec5e221f89f0b6",
   "metadata": {
    "lang": "de",
    "slideshow": {
     "slide_type": "slide"
    }
   },
   "source": [
    "<img src=\"data:image/png;base64,iVBORw0KGgoAAAANSUhEUgAAAG8AAABuCAYAAAApmU3FAAAEtmlUWHRYTUw6Y29tLmFkb2JlLnht\n",
    "cAAAAAAAPD94cGFja2V0IGJlZ2luPSLvu78iIGlkPSJXNU0wTXBDZWhpSHpyZVN6TlRjemtjOWQi\n",
    "Pz4KPHg6eG1wbWV0YSB4bWxuczp4PSJhZG9iZTpuczptZXRhLyIgeDp4bXB0az0iWE1QIENvcmUg\n",
    "NS41LjAiPgogPHJkZjpSREYgeG1sbnM6cmRmPSJodHRwOi8vd3d3LnczLm9yZy8xOTk5LzAyLzIy\n",
    "LXJkZi1zeW50YXgtbnMjIj4KICA8cmRmOkRlc2NyaXB0aW9uIHJkZjphYm91dD0iIgogICAgeG1s\n",
    "bnM6ZXhpZj0iaHR0cDovL25zLmFkb2JlLmNvbS9leGlmLzEuMC8iCiAgICB4bWxuczp0aWZmPSJo\n",
    "dHRwOi8vbnMuYWRvYmUuY29tL3RpZmYvMS4wLyIKICAgIHhtbG5zOnBob3Rvc2hvcD0iaHR0cDov\n",
    "L25zLmFkb2JlLmNvbS9waG90b3Nob3AvMS4wLyIKICAgIHhtbG5zOnhtcD0iaHR0cDovL25zLmFk\n",
    "b2JlLmNvbS94YXAvMS4wLyIKICAgIHhtbG5zOnhtcE1NPSJodHRwOi8vbnMuYWRvYmUuY29tL3hh\n",
    "cC8xLjAvbW0vIgogICAgeG1sbnM6c3RFdnQ9Imh0dHA6Ly9ucy5hZG9iZS5jb20veGFwLzEuMC9z\n",
    "VHlwZS9SZXNvdXJjZUV2ZW50IyIKICAgZXhpZjpQaXhlbFhEaW1lbnNpb249IjExMSIKICAgZXhp\n",
    "ZjpQaXhlbFlEaW1lbnNpb249IjExMCIKICAgZXhpZjpDb2xvclNwYWNlPSIxIgogICB0aWZmOklt\n",
    "YWdlV2lkdGg9IjExMSIKICAgdGlmZjpJbWFnZUxlbmd0aD0iMTEwIgogICB0aWZmOlJlc29sdXRp\n",
    "b25Vbml0PSIyIgogICB0aWZmOlhSZXNvbHV0aW9uPSI3Mi4wIgogICB0aWZmOllSZXNvbHV0aW9u\n",
    "PSI3Mi4wIgogICBwaG90b3Nob3A6Q29sb3JNb2RlPSIzIgogICBwaG90b3Nob3A6SUNDUHJvZmls\n",
    "ZT0ic1JHQiBJRUM2MTk2Ni0yLjEiCiAgIHhtcDpNb2RpZnlEYXRlPSIyMDIwLTAyLTEzVDE2OjQ4\n",
    "OjM2KzAxOjAwIgogICB4bXA6TWV0YWRhdGFEYXRlPSIyMDIwLTAyLTEzVDE2OjQ4OjM2KzAxOjAw\n",
    "Ij4KICAgPHhtcE1NOkhpc3Rvcnk+CiAgICA8cmRmOlNlcT4KICAgICA8cmRmOmxpCiAgICAgIHN0\n",
    "RXZ0OmFjdGlvbj0icHJvZHVjZWQiCiAgICAgIHN0RXZ0OnNvZnR3YXJlQWdlbnQ9IkFmZmluaXR5\n",
    "IERlc2lnbmVyIDEuNy4zIgogICAgICBzdEV2dDp3aGVuPSIyMDIwLTAyLTEzVDE2OjQ4OjM2KzAx\n",
    "OjAwIi8+CiAgICA8L3JkZjpTZXE+CiAgIDwveG1wTU06SGlzdG9yeT4KICA8L3JkZjpEZXNjcmlw\n",
    "dGlvbj4KIDwvcmRmOlJERj4KPC94OnhtcG1ldGE+Cjw/eHBhY2tldCBlbmQ9InIiPz63ZYCCAAAB\n",
    "gWlDQ1BzUkdCIElFQzYxOTY2LTIuMQAAKJF1kc8rRFEUxz9miDCNYmFh8dKwQoMSG4uZ/Cosxii/\n",
    "Nm+eeTNq3szrvZk02SpbRYmNXwv+ArbKWikiJSsLa2KDnvM8NZI5t3PP537vPad7zwVfPKMZdmUY\n",
    "jGzeio1ElJnZOaX6ER8BgoQJqJptTkwNxylrbzdUuPGq061V/ty/VreYtDWoqBEe1EwrLzwqPL6c\n",
    "N13eFG7S0uqi8LFwhyUXFL529YTHTy6nPP5w2YrHouBrEFZSvzjxi7W0ZQjLywkZmYL2cx/3JfXJ\n",
    "7PSUxFbxFmxijBBBYYwhovTRzYDMfXTSQ5esKJMf/s6fJCe5mswmRSyWSJEmT4eoBamelKiLnpSR\n",
    "oej2/29fbb23x6teH4GqB8d5aYPqDfhcd5z3fcf5PAD/PZxlS/m5Peh/FX29pIV2IbgKJ+clLbEF\n",
    "p2vQfGeqlvot+cV9ug7PRxCYhcZLqJ33evazz+EtxFfkqy5gewfa5Xxw4QtXymffaj9hFAAAAAlw\n",
    "SFlzAAALEwAACxMBAJqcGAAAIABJREFUeJzlfXu0b1V13jfX/l2UkAAXiq/EWkg0RqUaBO5BEB+A\n",
    "WKtG6qtWeZnRtCYmgThUvJfRdDQOBAtc2mSEGJuhJn2oNcPwGFZSgmmAG84JAgKS4QPIQ2OVIgIR\n",
    "kbP3mv1jrW+ub+177uUROIfENca5557923vttefzm4+1f4a/R2PpfX+wCfB/6o4XmuHpDuwDYG94\n",
    "3gfue8PSPoDXY74PAAPsO4DfBeAuuH8HwF0wuwue7wLwHbjfCUvXA37j8gfflDfy+R7usI1ewK7G\n",
    "0taLDDYcDM+HAX4oYIcC+WA4ngAA7hPMBgAOdwBe6W78fwLgdTYHcgZMH9fkcwDu9wC+A+5XAX4l\n",
    "HCvL5/2r+x/r5/y7jMcd85a2XbwZ7qcC+LcAngnPgA0AMjxnmBWmuDvgXp7AEpAn8HEsJXge42+4\n",
    "F4bWa8v59XOzem0dZuV4Hh+ApRUAvwXg48vnvkVOenyMxw3zlrZd/NNw/BLS8GZ43hNAIao1BrhP\n",
    "hfAuGgPv/7bUtJDHybjQSqsM9TI/f8OLMpoV5lpo71fhfjaA310+762rjx0VHt7YcOYtbb14APw/\n",
    "AHYG4Ina4NMIS9Q4B+AwS4WBYRKt0p4MyeUnLapmoTGHn9NUUlvNeoZ3x0RjPQPufwXg/cvnv+3D\n",
    "60qkXYwNZd7Stkuejjz9D6ThyJD+PAFpCLPmnmFpUc1gHe5ACoIKgyB/k1FJTKM3xtJ02tBrKjUw\n",
    "tDNXjfV2rk8fhg0/v3z+22RR6z82jHlL2y55CoDrAH8qcg/y3Au4MBt2YlrxZ5XBXnygT+MMjPjO\n",
    "ZnH+GdD8GzXWrAKbVE8VkFNQEYJkZp+F+xuXz3/b3z5qRHmYY0OYt7T1ogFp+CPk6SWFeFMjWIwC\n",
    "Skx8XPkbDazU84KwlprWzU1lZxpz0dz4HLO50LRVGRpgZrX8TmkF03Tk8gUnb4gGzim2PsPSL8Hz\n",
    "S4pvQTFl1gjpOQOwWw32e3D/IOB/6PD7GuKk9Nd/lPHho1zCh6F95t4+h/faFXPItY6i5TzXpzKf\n",
    "GTCtHg7kdz0WJHooY4M07+IvwfCsnTSgEPT7gJ0J+PnXfOCEUIstZ/z+QfD8EcCODlNIwpMRadH+\n",
    "n6uvUpNM9NihTAkbwr+hHR8W5bjOE/cbAM/fA9LBy9tPvPWxp1w/1l3zls689KcAPKuBAxS/FmbQ\n",
    "zrjmA687VxkHAMtnv/42IP0zAF+J2DotGrRPi+a7GL8V0ybocaomcyi/PUtIgP4ar2FdzsA0NoZb\n",
    "qnOGOd8Tnn/lMSTZLsf6m808Pa1QvHIgZ1g1AA6/BZb+064uXT7n9ffB/Vfi+jw1rXA035THerwy\n",
    "K5AoKuMkflQtpp9k0E4/aalqoBemamhS5njto0ylhzTWn3nue9e0SDsEr+gyXXnNWa/1XV8MwOxK\n",
    "5MnDjwFNU+bprzTIMQ0hNPbj6akxK9bnTStpHQInTW2ePP7YltM++pOPiB5/h7H+zFNixqGB0P7r\n",
    "D3b58jlvuBuGv21xW2rapXDeJ0l7iX8LBlHbqKFjM5VqGTT/GdfIOQ3wbH5kBHnkYyM0L6TbyYD2\n",
    "4Qse7PIt7/mfB8GGHwngEUBCgErn9/gZ/5uFSWjnpEHSYdbmVpNr1pAnNd8oPHmvh0WHR2FsgOYl\n",
    "78ICAD6twvMq3P2YLe/91NN2P4Gf2IJqAQ5e0WZ3qve/89SHCpGoBpoPo7kU5jOjA2tpNxfGlucS\n",
    "O74+YwM0L7vnqeUjCenLUvaBpd9Zet+nn7DWpVve+6kluG9rlQY0eM+Umqmv85YWAyT1RWZULVNf\n",
    "F0E7E9XU6LGZyC75zZBk/YsOiwc/5VEelqqgGzyPsKH4O28EeKXDPr/lvZ86HcCO5XPe8N0t7/nk\n",
    "gYCfBPdtSMOmIKrGekDlUZ5pHHOSqiVDQ6oMDyLXSbSp9b6aI63rLxUOF3xkcKx/HXfdmec+eanM\n",
    "5JK7nCTOipPwXAB/CEt5y3s+eS8s7dOZyqzpNEkYIwMZDcQwpZXrZ/Rb02rVzkFCi6mFEWloZjUL\n",
    "uDEAuRy3xDiPHFz/fMeGABavIMMJ77uaGhoC9Jxqa0Pzb6yIa+qr0yoBIG0elOpCnZtZE0B8GEow\n",
    "DrRrVDOT3CeY5pJEX39Srvsdzcwh5ibCBE1XdflGia20YFoub+dS0wL+s56X+nlMtDLCCxEGZZiW\n",
    "hSRn6vF3ERCnP1znse7Mcy+9C5TUIEQgwrFnQjkLkdmofStdgB3aKNobGj37LO4nzCK6JIiJFFgV\n",
    "FmpdvcYkK2NpKBmieXJ7HcYGmM2pl9ZgkPgoVhriGgnC5y0Olsq10aOC5hej4sCAWq5vGeimpXls\n",
    "xVqGFU7EWgcjAiuFYneHw2vMur5jA0pC5s1PqUZQuxRF1thK+1aiilCD7TxJ2CDEZqI6j81carmo\n",
    "TIZoYAKkKmFtroj35uZVwQpm/1+fsQGhgt0F+EoLkGexVaC+DJiEBABCe9pkaFpnpUhqYu48HwBL\n",
    "B3btFWFGJTfJtczBEOF/lK5QUHIaaqhg1exjQ3zeujNv+ezX7wCwZT3uteVd//3nkFc/1CHNAC1j\n",
    "0zr1i+5NeCAJ7yo0BgNbED2P5TfyRijeBlXS12uwvcIgOc+ZSQaaKaU/Y1amlXzanEY5GMWkAj8Y\n",
    "ZnM9R2vZqwckrUWTnTMwbEIgWogZlbjOvSYVKsii6fRJTXU9/Uuv2gTg2e2AmHqa4HLsfqT0NfvJ\n",
    "z3zvkTzeI2be0taL/gmAFwD4EcD38pz3CB8QNbBqTtT5R85Q4qkOtksdTf2Ipq26Vr00+5znJ8Dz\n",
    "i5qpBKKaEAG/oEzXBHWZ130M80gNNjcgLcpzaryow+zpyPnGFn9KImKo2j1NwUS/5fhvYpo+gyH9\n",
    "N6T0OXv2Zx+SA31YzFvadslzkafTYDjO8/QMmDVj0bXIsebFzEaF85GqYkklz9oQagzHdJYy2q0x\n",
    "wazMC0k6M/Ofs/ipSoMk3oHCFOkzHuzDDc+rpVBAgJInwAWgUHNZlVBBIzN530kySWPtPOMYRwB4\n",
    "MobhVOR8Kgxf8FuO/1l7zmWffzB+PCTmLW296KcA/Cry+EZ3T5Y2ITqVE3srrVTEA9ExgwE0xqnk\n",
    "A/DKAEWTXe1NiqkkUszhHbEjRLCESDzrCHOVmxWIuayhyDzV7rRZ0M/1dTW/mWWY34u1Rs0WJUky\n",
    "hPmsP0Xgng9g2W865gKkdKY993/vcrPLgwKWpW2XnAazm+H+ZqRFsnkPiDNRO7RUF9vRI+huaC0W\n",
    "O60CzhhsjQxFxFGM8yDxWDU9adGIaJU48WQsrgoTtOJe40P2gFptKrKUyrF54G1SPO7mUZ/Ke6fW\n",
    "tMTPh6Ektdlvw2ec6ArQaJB9APAumH3Cbz52l3XC3TJvaetF5wDYDs8p6mXOHTq5Pmiu8HmqWZOp\n",
    "ma2utQBlkWmoi2fCl5IM0VhJWelxDs1fMl6DVWZWjexKPgI+wtQVs12sKBkx1tuKH2Uuk+uf+1lp\n",
    "pIoRjVAtPsS4Kv5fsMBClGGamvkv87wW7h/aFX/WNJtLWy9eAPnDMDslNElQGptenf6LD2KMjypx\n",
    "tR1PC6gBSKb2kNTSaSzoL1Jn1KxZlgVDIcA0NkKQwMEsxmqV4SRK5EfJoLKZxYZF067a09btTCKo\n",
    "0awQ5LY6VGiGoWlgqpYkz0KRaSqfASJ0BsB/1r/wsm/a8z+3bc6ntTXP0llAOqXFRnG8oLA8VdNS\n",
    "Vh3mJczpPL1Ua2eay9SgmAum1NHkkNH0ozQt0XPJuI0mVh6c9yUz6V+8AhptgIo8p7d1eC4+XEtO\n",
    "XaUjt7/Dt5Oq2maB8jyhmXIvjhAKNFNKC1TQ6lb/wste+qDMW9p26cHw6fQwWyGZU0VcxVx2N2cQ\n",
    "PG/0mZswhda6BYvt7juVdupc02qbs0tAo80BZaBIddTrhGA2NEJV0112IjUA07RNLEeUoxTQ9DFe\n",
    "WS/jxWo1hmrgOsBEoAVhNh8jiaYygZB+bbfMW9p2scHzhQAWXFTEbZVAJZMucVkEwd7MU0dINGaE\n",
    "mVMgUn0XyyoEHurjorIdpgTR/cw+mLgZeq1QjYxTKqGs7PcrlkRQL58nykv1+V3vMbVzZ7ucwqpM\n",
    "UzmdoYIKb3QQzEDPsEYpqtDiKL/5uFfuknlwfzs8H9mYUbuZxdwZWwd0oXyIIK7U4whcaMLU9HRz\n",
    "eDOjMZcjup6VgXwgvQcRZAT6aASJ0hAJS186iSZhdo6uR4QjGKv+G3IO+nZ4Pi5Nfao0YDVfa4cE\n",
    "LDxOS8C5p/H9azJvaetF+8HzOVGnmka0doXysNwPHg+VhjUemGiTU1szF3NU2ZlVl9jMW0tCwOc6\n",
    "r2p7hAre5gsi8wmHdj4tQzAacg1ijYY1BDJMKoShJmHL0Cbi/MmaeeZzMDTIUwUt1LihziXuIwlj\n",
    "i+97oX/hZSfsxDwAr0da7A+vm/bVRDWSCFDxtkitXishwyyuUadTgpJwFIaYYwZCyCyb/9Asz7Sb\n",
    "Bd9KYBZPkYYGGQQYmACyZjabiQ2hCCwgXdl5ujMIRUtBk06XQS0jIEvCKPrJCOyBTvsbuj1pDebZ\n",
    "axRVlcfPwazYE6caFLtW6cBpwggWZoleMoeL73wTmu0PM6rVcGEGGRuwXvxuWIYJGDbB81iSx1Uo\n",
    "zQzclWRm8Vw2LJRATUs7nyrWJExvmNK2xcvQC2wgXQfGSTatCA1oNlF9ZeVD0GQKIXmpX390itVs\n",
    "ed+n9wT8WBLLp7FpWP3tObfEcOcjKqHClXlPhDhXfGcSUxupJjEt4QuGZi41YzNvoaD5oykXrbe0\n",
    "6PKv7r2AEJC1JAN9GgVKgImJC6BFKWu6a+U3f+HuYJ7jhxroIAPQJ+qDJmjAJqWegdPUBIfmMw37\n",
    "AnaIitIxAPYMems3sRJZQYQGw47mo8BFUmMk2CYzuz0ALueiI3znc9RfMfaKdjxv6xO/2e2FMPRz\n",
    "1vCnnKoMErChg3Nr7MvKhPtt/cnYjNnlSAnYJD6a9NAYOdamzEqx3qAP8HKgMe81ZS0JDm/pIfqP\n",
    "eWNsgAPmLtE+VyDCDAcJQyIGQqsPEYlqMUXA7CFl9yofQs1y+EoLKbeaj6Rv8067lbo0+anN26Fe\n",
    "yO96r7SogGIA4F/pGOX5yQ0zoAnjRDch1omt+cMafaH8m0E7Ndi9MG9p60UGz6/2PNYgvEqsEpSp\n",
    "LDJTt0JRGud+kAuIWlldTCR1yUlv53BOoAGhPJZjBACRlSdjUyM2rwPi/OLnNOCmkJBpMxVRJmpI\n",
    "MNV10OfHtjAHHB/tJ7FDIpaLa9GupwmdRrFimIVD4mLCDdWflI7y64/elAAcbGnT07pMAaVOW73Z\n",
    "EtehTTWHEJ8DMWEm51eNC5RIAqqJFOK6EI+f5zESyEHI3cRlDMDL+1x0syUagTSeUs1IA0pTkyLa\n",
    "qlFtrdevXPgLl80E4NAODSexPjS7QwVvAzu7s1gSQdFAu74h2L3gfngC8AyP+MmDwxEuKEgwiZnI\n",
    "oFhY7n9Dru2y8MLIebqL85LIEdPVefOIYqqHnshdeGJ9bFeRqWkIQI2nCeR6w0QrwJgxrSsLATA7\n",
    "u+PbLcfvA7MXt8Ba/CkZMQzSWs+YlWkwEX5eT6aPYwM9ln5iAfcnGayP39Ls5TV8OB8BWwBWzUaH\n",
    "nOjkO6kUTSDQQBAUruhtQlTd1ZSF7xDtjHQa47oGcFwyQy6C4socCkggOfU3uS8ok9nRgsF1AnC/\n",
    "Co5PdWTK+U0wPHEnwEJGKWPU6hDkaSot3mihvjeu2y+55wN6U5b6XJ0iHfo++sQOneXGJI3/mAmx\n",
    "AQ3V5fZDn8bqt27yiLixmkma6nnch5pvZes56muvQivFZ3DNaiki1qoE5prYOa2Zm2YlbgDw6pUL\n",
    "3ynEAmB2SnM3aDSdB9vamhHgSxirrznRYyzowvZPgD/JmeDtHnbmz8qCZwxV/8HfDGylKKsxEc3g\n",
    "fN4u3yemMF4nlXsiaPAPlEqH50qvYq7DelDbg2FTM8XhRyqj0tBnepJaAoIGfBnA8SsXvrPFdgD8\n",
    "pmNOgOFFYDhkQhemuvi8I4W2Mneeu233apoIIbn7fgnuB4APTM1R6Qy4LhNxMRGDCfoLPyPMzFPf\n",
    "rxEmgMldQaJdloMIsoYc1VRHpcPLG5FomlvFm+ZbQBj3IYRGpGYeO8FySV/NUnSwDPffgOfDVi58\n",
    "57c6xt1y/N5I6deDaewYMDT/FiBQ6McffemPXk9hXXDtwdj9F7DhgCKxRIaE/VRXJaS3vF0XB1VH\n",
    "qy8oXdPUKKiRRQdA8fbAZs2UpiTINcGqz/W4m9ellDY9r1UNs6H4QEW1FJBAyxA0twnRbq9pwPJW\n",
    "ps/B/d+tXPjOP8NaI+f/iGQ/iuw1IS0WbBiKpnVIl5ZlRKcsVgVrHAvDXOitRemU9l8grz6ptB2o\n",
    "TxATGnvGrRJWu4plIT5jfqOsCINoH48HoYTp80KofqadyqGB3PJn3Y8Hg6g9VZvYHjgfLn7H7Btw\n",
    "fAbApUC6fOXCd6z5dj//4nEJjv8M+M9h8mak4vmtCUxknKgIEkrlXJjOdghqIbCz0PsEjHm/BVLR\n",
    "vI6ovtODtGNm4NbeLh5TbmlGJgCQmGMtnoapSwCQYelr8PwXgN0Oz7fD7K8Af6CthUAJMNkn7gGk\n",
    "ir+1oXaGdY7HKbVNSLUoCn8ANvw/AN8A8KWV3/z5uXeeMe4VewD4r0h4Y6EJetPfIdrUEOQglksz\n",
    "TzTnzG+yd5XghY26AJBs/wXcD2iV4txu0nG6SvicYRFbAXBrksZrWVCcB9uxWJqA4Vb4tB2eP7p8\n",
    "wanf3R3BHg/Dv/iKAYZ/AeAMTNMhzS2gPN+waIzScABoTCATeYznpxqGgGCtCoFBqhEZsLRfeYWs\n",
    "2RNCAl1UOfyeMqT+bUCX0KW50tTaTv8XiSztENfBcBZ8+vTy9pN7yP04HP7F4/aCpVORp9PhdlAD\n",
    "EIqIKw0m8Z0BSmoBNlnNsFifOovwoTJ8IUKgKLT8f7GApW8jT3t1BVTaVUV+mrkgpI662moDFVrR\n",
    "ZjosNLf6xDwBw/AJ5Omk5e0nP7Bbgt36WoPj2UjpqQD+Edw3qa8Ln7xYAKurAqYaIu2C/m5y75+R\n",
    "xwAgT3vA7BmwdCA8HwjgQLg/Dcy0s0o+DDWwJt1nYEVjNEuAMVTKxVrRtC4WBaRELnMWMpDp4bL8\n",
    "jgXc7wTs6bH4OVzv8p2KzrwRJikqym3xSowIrg2A/wbcf3lX2ua3n/DDcH8F3P85gFdhSE9ppRNF\n",
    "sYKIV1clTuR5NF1o66af0fgt1wLpODYm0DoshkJI+u089oRG1SICuoiXp1Y1j1dEyr1ppZgO0zQa\n",
    "aa3YgoicG04Ndyxg9u0mhYKGIoshMVDEdSSIossZKtQ4K2fV2g8tX3DKL67JtNtedxhS+jXk/DJ4\n",
    "3iPMM32Hmhb2oOi7U0ZaAAVSQORgdcOH1hR5zWJRN4IAARY4ZwgKWpYj6AW00EJACIWAvmwcWwMu\n",
    "QwKuTWNb3oda7UJfPlv2b1XNkws7rRHg0pkXQXHsPiYRyVQyXetw7l+DpXfvxLTbT9gHwFkoX4RR\n",
    "uBPhgtwvbsv1oPkM9oOQoMq8ObKLG3tjqhKGWhfPVCV+FLRHLaegJ12P9UIUAizaxmegxiUqhstn\n",
    "uc3lst7yHHcsANxZ8o6y6aNDSJVBXfZCCShmkk45pcKDQJxBzF9cvuDke2eMezLMrgTwzK5NgPPx\n",
    "4RYJmBxRP9xUY9Ms4QnkWhKN/khNJC1EEFilXyxLlzRGAxqrouFRRKXgcK6ZBSsLateR2fVwFFwZ\n",
    "zpBRhvLcerwo0h0LAN8ugEO+SEIz+J2ZRNOmSOmkoEVZHOcRphe/tGP5gpP/oGPcrT+zL+CXwf2Z\n",
    "gUJpWiiB9K9Tbg8ENLMXcafJGivT1io30UcpWOEPG4KzfGbWgMJ8h5TGcXm2PiL30LrKtGkqjbWj\n",
    "Jjkga8lFq8kwVt/p64Pu9q0En+4MBjHumL8ag1II1NZzmjCaqGpC9c14ob0RoH+kY9xtrxswDJdi\n",
    "ys+PhyUImGfY1VxqtkQDYK41KumpgQEOJocJyghCumNimgIhVwZyz0HkQ2XOiJUpUFPzjWRaZLFQ\n",
    "zaSXOQZZv5pOBTkqbFXzElABC9M1hgL9g8piOkmAcN6cXJtnNBasmgi7HzZ8sqck3oBpPLKLIwfZ\n",
    "vcNANsydEHyetVDfxnP1Nz9T4k/in6PBNzXfM69+Z0oQL7PGFGZEGLsF4+u5C/nqAQbwleQlkSLm\n",
    "VTW1s25MkjgTH99K8PzVDmzk3BjVDXX+ufkeGOLteZGzEwRaNPZPlrefeM9swjM6BpBZ08xEa72N\n",
    "95//n0HxnFkkRgfRhSGGHq6vFRMGgEDTyHk7BURoKEya0spiwsO6uIAs5aS3+QKJkt402QYMw18m\n",
    "pGEZebyvI1j7o03UESv3Gth1JgtYCH/p13b0uO11rwT8BYHq4vz6QLx1wO46V0BsIZzC/W4blyDk\n",
    "WKcgOYIE9enh66oQae1xlFdakVFKM01vxT1TLeUQnHhDnJoLzt7ckJpJ9b2ct1igr9uhV9+Ulj/4\n",
    "plUAV3WZFd0xoxl+QJx6bsejoCmV8ngwA/J0PfpxcixwsakndHBOhaTeN8ykCJKO+JvmGmJWvfdN\n",
    "ASzQGNglJyp9Ax2KT5s34ur9wxx7M6lMKJNJfL7AAxJGwFr2SunY3+9SgDFVnq5oDEqifSqp9WZE\n",
    "f3GMNlhU2oSRAJCG/9stIqVntUR/tfe6NzsyN7UgSUiuplkbc3ZiHnpBMjTwQIZGwL5mSNMj2MUi\n",
    "yBECADQBoECr1lHAIheZm5nk/8NXo6BP0s1zq3bMM15lfZc05qXhisZVgeBRVYDEb/Q3JFqIaCOU\n",
    "nlMWc1fHvDwd1CVdqRV8IKKxCGAZpOaWodCM/NyUdRqUZMuwmOEQPPVR4kuj3ua6T6DXPIKfeHPS\n",
    "fI66lkGEkMdHdo95KGKPgkla702/+31I6Y8a89yvQ/ny22abI7OAtkDd/xYpKzKbN1KmGh8s3vDj\n",
    "t/3MZjj2bcGzEE/TV3QJaq7Y+kaidGhUND0YMglqI9Pq85lJ3CYok9pIN9Jp1Ow3nzPiSgF19OFz\n",
    "v6sKMBc0bUqKBAM/j2sut8N23B/MWz73LRMs/Z82GdC+uUoXK46XQEXjriTZhsiG74TgDmrghLGY\n",
    "iTlSLbKSWxzHpnV8yEmkn0SMPKAAhjnhVCMDLddniFwi56wCM6kJFqao1g5KL2o5BG3Wv8dVRCIc\n",
    "JJUCk1mTMUfskygmM5hXz/5YOFCF13yIMIlomhgtDLwBfYpu/XJ0oUfO+4VvzD5rBec9vQSuSRav\n",
    "64k+FN6mmqbIO3b3Q2icSnI8q65bwoa2A6jXHn6mQhGJ+TrXKAham5LpUuiS3AXMiMCwMVefs8x1\n",
    "Jwy/z0cL5i2f+5ZPw+y64oemxkQ6UWk/6Fr4qDnKxMhs5J0/s2QN+ub2m3NrVVmddWR/rIUF/FsZ\n",
    "qyCmi9vE5ykQYtigoQQ1idLO8yaGRPO38KKh4PkboCZBx/W7bzvUazNTyaGC1hIT77Ety4EfNKgD\n",
    "3M9sNTn1bWhMUCIFKqLHFScf/hPw7utf0AhkqaG6CHB5L5F0EltbCCaZk+uZ5N4hsZAsiAlheJ0w\n",
    "vGNcbhkTNWls7VBfpfGfZlE81xcEKHOsjxk9NxrPn8tFcFK6CrMUY8e85fPe+r/g+erS4azZjdSY\n",
    "GYvNTYIiEW3N7xEYwNF9U4sGoWqidX+CnsuHzlMzR3ywrmXQRYgg73KhZgnxBvF9LGdpBkY1Xv3R\n",
    "HM1Sc8ISiL/TZ1P0Teuim0cIqjQQLzfisRHu77At13Tgode8Ms7s0lGdJnJRs4ckoQn7eWPV0m5Q\n",
    "CFzMjsRt6j+AhiTVVDIpQPMSx/U2FAaa/9yuiWwImhVQwKM51KCWmN7QGAI69BmmoAFmbkPWQlMM\n",
    "VFAmrqrDHNhuW665eUbEnZm3fN5b/xjwDwBoTOs2XpAp9ccnRCcyH2JuuvoAU/yo9egqJJAbSGbS\n",
    "3z1Ybr6QhKT0x1rElFVaYlhIcD2188NyaIoqt/NCKyhg3uI30on5x8izyrwmAqvxnPp0BuYqjO4f\n",
    "AXzrnE9rMg8Als8/cSty/p0OXWljT7xPE+hfj8jPw8ije+kOmaRARcERTIgukqdxnprnTtO8wvCM\n",
    "9ooMa2YptGvs51V/C/Smscs00fzJ/+daT589jwMpH9pOou4jwikTkDQBns+2Lde83ZZW5lu2ds28\n",
    "uuB/A/dLupvoj/rEWCQX1kIOs/JqqI55Qu8ABmqeDU0zgXaPJJoffnBViGZFswiK6HcDHBFooEl4\n",
    "aCzavES2fI400+5AvqjCQBJInMqmJK4hsk2VftpAO8z83jRmpOE0W1p53675sxvmLZ9/4gTPbwL8\n",
    "XHBbTZiuhO6Vv2ivtepeb5jl1VA6KImguRCkN1Vgopn6PBccawxhvEn/BbTYLszXDHIHUhbkGmGD\n",
    "mPqowtc5dN84n4OVDsfOn2lBNWpyMyTNzwvKzAA+jsWm59mWa3b53bkcu33T7fIFp9wP4N1bTv/Y\n",
    "J2DpvyCPz+/MpCR1Tb4lK76MHrLIGBbXtIQ0mlkmTJ/7A/VD04yJg5hQdnsRQDCvyevDp6HPuJDA\n",
    "4wNVe8UsEq3SpLKqDjRzP9hsF2zVWAIwmzFXqxXT9BcwuxzAdjtsxy0PxrSHxDyO5e0nX7vl9N89\n",
    "BEgvhftbAX8VgKdQIt3Lq33L/lMBDRHIayAKRCGSqkImAD3TFDoHEwW0kDGT9L2oBho+gWHYEeBh\n",
    "sWi9MBQSZUDsfvW2VgIJIuMQskWLcRXR8hmAZqYZzxZmOdwfwDR9F8C9SOkGW1r+y4fKMB0P+QXh\n",
    "y9tPygCuqD/YctrHnuh5/DEz7GlW3nhbHrq+PTaXLVaFFvmvu8l0E2UMYRglUomrCDE6r6qTV+bT\n",
    "XBWze4U97/Lffvhk+fsxHvGr+ZcvOPl+AF992Be6l6B+WDTzq8XOMCVjCyOUOdos1OUE0cy4zv0P\n",
    "eOwGbT5GQ512Za/2AAAGk0lEQVR2OO4ZGKH/UShOfxdZixpzAQ3QRIqL6aq5v/2HNdb96fwrr34F\n",
    "3C/baRNI53/q79i5RGbl5gcJRgABQESh4HW3I093xHxd2kv8FNegIQGArg2ReV7W/SLQnmjuT7cX\n",
    "XrXjsaVeP9b/62imsTl7LbQqDGeQ2qW9rOQkycDYl+C9CdXCMXAggAM7eE4NjS1WRM4AWDW3es9x\n",
    "td2b3+MwocVzPSredz3JCGyE2eQGQaBVxiMGm2bmEQ2SR6uhN3PK7mOgbhARwKNF4C6LgYY0x1W5\n",
    "t68RlqDX1s7k13lih5CvuxVbf+Ypk9SfsUJBItGE6WZ65hKZ+1ToD8yakrw3icyBRnNT6lNs9JXU\n",
    "NveyvUtrl5C5w+dKqLDOYwMAC9NT1jSA2580Oa1EjJTS2ALmlErHlTID9Th7JSN88AZgmDXRF5Jq\n",
    "Wajrz0G/b0IFjvFdtGesv+atv8/TLEPEc9REOYd5zAgnagDNrjNDM5nRGzk086iM7zrMpMkpdqJK\n",
    "vbKbU2NRQ7z4lOerSd0A1dsYs6lMYgaCCFELrgos6F/4uZpLVhk08cuhQMhQvy2lfqbfIMJMUNsj\n",
    "cTeGRY4LDW0bFhm32NTuP6/9rcNYf+YBaBCdYEUaf0ikaI+QGhlfREPma8CulXXdr85qNFAB0GpD\n",
    "lgGOohK+imH4VeR8oB161b4YV/fGlI9DnkohNFJh6NdfKgQ/AGZTW/uGRZ/MjRqcNW2wVEQs59q+\n",
    "gIoyB9m0QfOmYCVJrKjZGGvmcKgvIcAEGFZhdrQdcuU1XKkdevV3AVzuf/aiQ5HzRUjp+NB83XK8\n",
    "QWNjMiwVrLXyDNC1FnK/OZFp9t7XAdJdVf+eo1c1qTw/kGdq8yxq/S8N71fGdUs+bMf3AbwdZndj\n",
    "sUkajAQo/UCECu5TfZVHe/goflauRlGTCBGI/dkKSHgNzaXWzroYTyr9+jIAfU2w++/tbtl22I6/\n",
    "wTRd0Xp5INmetCFmcwN8nt/XvZ4wsiJSzQYEkqOdQ7MaxUuaSumvpK/TnpfwaeIvQ+MBwO+1Q/7k\n",
    "9gdfut8Qr9HXtdInr/PYAObZtyNmA1qKS7c/aexGLQlGQNJqEo8FcrWdi6xw6ZWEZEyMgOWH/fqX\n",
    "7P3gS7cf7RLpIWAJbSHrNzbCbH4Znr8evfpEfFrCGdQMQpjkLTaMzIYyCYIy69BOLrO+Z5MhhrvB\n",
    "84t3u+xrj0wAjgqB0op/ue/du7v+sRjrzjx7zmUO2MVdjyT7Q7gnnuYsDe0ryRTSR2c0FKrLXRgC\n",
    "VOSq/nGU6reWobJv9+uO/qFdLtz9l5Hzc7rNpYCGLd94lEn1oGNj4jzDeRiG73WxlrYR6LtTmDCm\n",
    "BmkQP++P0ewJMygEL9oyr2kwCozZMwH/rK8ccZBO6StHJP/8Ue9GSmfvFEMyP+r5S3b4n/75Y0ix\n",
    "Ncf6Z1Pr8D9/5RkYxw/0mxGtT5kB0jAk8eFik/SPiG8EehPLlxPoFuac+1ogEwEAanvgfUjpapjd\n",
    "gGl6KoAjYPbj8ebZiCnRwg/D6ba0csFjRqxdjI1j3s3HLmB2NWCHRygQucO6rD53KIyaSOiIJgKF\n",
    "As3EMl/qKHOPYvKY01TgpALSNRMxeSCC1HKnfwzgWFtaXne4uUHpMcCed/mI7McC/tnQgvCD9f8B\n",
    "asTfjWML4COrwmBZ0l1R2/NWr1NNBXrww7+jIq/t+DO/GUjX/wbu/3IjGAdsIPMAwA6+/F64vwZm\n",
    "H44QAOjLQpF+8p7w1AYWUMlUoCWcu9hLEWZifNfQbAAXVvA5h7THq8bBrgKwZEesfPPRpcpDHxtm\n",
    "NufDb3z5v4bZmQD+cSMS0IUCWkvr+lG8wfcI0tFMJzvRtD+FrRgRuM+Tzt7/EOWaZZidBc//3pZW\n",
    "NrRF7XHDPADwm47ZBPeTYHYGzH5izdoc2x9iP1xq7RDUIiagqc3Zm0YpwGGCW30cINoOFZLvIaWP\n",
    "w/Ov25bl+XtlNmQ8rpjH4Te+fADwZri/A8DhAPbYSdvU5AHS1ETtmyQmNOkFTTMhGNCFGLw2Kh7+\n",
    "ZQC/hewftSNW7lp7xRszHpfM0+E3vOSJsHQ4zI6C+4uR8xEw7BMJaIYE829GjpeX1oCeGsgsjVbY\n",
    "yeSUvg/3GwFcC7NrMY7XArjJjljx3Sxxw8bjnnnz4dcdnWA4GJZ+GsD+yHlfmG0GsBmeNwPYF47N\n",
    "SGkzxtXN1UfdDUv3IOe7Ybgb7vfUdNY9MLsbwF8j588DuMkO/9PV3d3/8TT+P2x6AX5Riia7AAAA\n",
    "AElFTkSuQmCC\n",
    "\"\n",
    "     style=\"display:block;margin:auto;width:10%\"/>\n",
    "<br>\n",
    "<div style=\"text-align:center; font-size:200%;\">\n",
    " <b>NumPy</b>\n",
    "</div>\n",
    "<br/>\n",
    "<div style=\"text-align:center;\">Dr. Matthias Hölzl</div>\n",
    "<br/>\n",
    "<!-- <div style=\"text-align:center;\">module_600_numpy/topic_510_a3_numpy</div> -->"
   ]
  },
  {
   "cell_type": "markdown",
   "id": "aaa217514f5ceb66",
   "metadata": {
    "lang": "de",
    "slideshow": {
     "slide_type": "slide"
    }
   },
   "source": [
    "\n",
    "# Einführung in NumPy"
   ]
  },
  {
   "cell_type": "markdown",
   "id": "59b3744f330e2a76",
   "metadata": {
    "slideshow": {
     "slide_type": "slide"
    }
   },
   "source": [
    "## Listen als Vektoren und Matrizen\n",
    "\n",
    "Wir können Python Listen verwenden um Vektoren darzustellen:"
   ]
  },
  {
   "cell_type": "code",
   "execution_count": null,
   "id": "103d5ca0e563ef3c",
   "metadata": {},
   "outputs": [],
   "source": [
    "vector1 = [3, 2, 4]\n",
    "vector2 = [8, 9, 7]"
   ]
  },
  {
   "cell_type": "markdown",
   "id": "07bb36d942e8f7bc",
   "metadata": {},
   "source": [
    "\n",
    "Es wäre dann möglich, Vektoroperationen auf derartigen Listen zu\n",
    "implementieren:"
   ]
  },
  {
   "cell_type": "code",
   "execution_count": null,
   "id": "3a87b0d4e3a89f68",
   "metadata": {
    "slideshow": {
     "slide_type": "subslide"
    }
   },
   "outputs": [],
   "source": [
    "def vector_sum(v1, v2):\n",
    "    assert len(v1) == len(v2)\n",
    "    result = [0] * len(v1)\n",
    "    for i in range(len(v1)):\n",
    "        result[i] = v1[i] + v2[i]\n",
    "    return result"
   ]
  },
  {
   "cell_type": "code",
   "execution_count": null,
   "id": "a3d018dba0b5094a",
   "metadata": {},
   "outputs": [],
   "source": [
    "vector_sum(vector1, vector2)"
   ]
  },
  {
   "cell_type": "markdown",
   "id": "443c5c84acf66aba",
   "metadata": {
    "slideshow": {
     "slide_type": "subslide"
    }
   },
   "source": [
    "\n",
    "Matrizen könnten dann als \"Listen von Listen\" dargestellt werden:"
   ]
  },
  {
   "cell_type": "code",
   "execution_count": null,
   "id": "5d520f15e534ffbe",
   "metadata": {},
   "outputs": [],
   "source": [
    "matrix = [[1, 2, 3],\n",
    "          [2, 3, 4],\n",
    "          [3, 4, 5]]"
   ]
  },
  {
   "cell_type": "markdown",
   "id": "35bd767980eb906f",
   "metadata": {
    "slideshow": {
     "slide_type": "subslide"
    }
   },
   "source": [
    "Diese Implementierungsvariante hat jedoch einige Nachteile:\n",
    "- Performanz\n",
    "    - Speicher\n",
    "    - Geschwindigkeit\n",
    "    - Parallelisierbarkeit\n",
    "- Interface\n",
    "    - Zu allgemein\n",
    "    - `*`, `+` auf Listen entspricht nicht den Erwartungen\n",
    "    - ...\n",
    "- ..."
   ]
  },
  {
   "cell_type": "markdown",
   "id": "e99747ed84d0fd25",
   "metadata": {
    "slideshow": {
     "slide_type": "slide"
    }
   },
   "source": [
    "# NumPy\n",
    "\n",
    "NumPy ist eine Bibliothek, die einen Datentyp für $n$-dimensionale Tensoren (`ndarray`) sowie effiziente Operationen darauf bereitstellt.\n",
    "- Vektoren\n",
    "- Matrizen\n",
    "- Grundoperationen für Lineare Algebra\n",
    "- Tensoren für Deep Learning\n",
    "\n",
    "Fast alle anderen mathematischen und Data-Science-orientierten Bibliotheken für Python bauen auf NumPy auf (Pandas, SciPy, Statsmodels, TensorFlow, ...)."
   ]
  },
  {
   "cell_type": "markdown",
   "id": "ff8c9b5da84232f6",
   "metadata": {
    "slideshow": {
     "slide_type": "slide"
    }
   },
   "source": [
    "## Überblick"
   ]
  },
  {
   "cell_type": "code",
   "execution_count": null,
   "id": "9189f60d213fe786",
   "metadata": {},
   "outputs": [],
   "source": [
    "import numpy as np"
   ]
  },
  {
   "cell_type": "code",
   "execution_count": null,
   "id": "d65f3562f4b8f041",
   "metadata": {},
   "outputs": [],
   "source": [
    "v1 = np.array([3, 2, 4])\n",
    "v2 = np.array([8, 9, 7])"
   ]
  },
  {
   "cell_type": "code",
   "execution_count": null,
   "id": "bc6eec37c8fa569b",
   "metadata": {},
   "outputs": [],
   "source": [
    "type(v1)"
   ]
  },
  {
   "cell_type": "code",
   "execution_count": null,
   "id": "c9368110fae18c7f",
   "metadata": {
    "slideshow": {
     "slide_type": ""
    }
   },
   "outputs": [],
   "source": [
    "v1.dtype"
   ]
  },
  {
   "cell_type": "code",
   "execution_count": null,
   "id": "2251def6a3a89789",
   "metadata": {
    "slideshow": {
     "slide_type": "subslide"
    }
   },
   "outputs": [],
   "source": [
    "v1 + v2"
   ]
  },
  {
   "cell_type": "code",
   "execution_count": null,
   "id": "681d6715ba018d9e",
   "metadata": {},
   "outputs": [],
   "source": [
    "v1 * v2 # Elementweises (Hadamard) Produkt"
   ]
  },
  {
   "cell_type": "code",
   "execution_count": null,
   "id": "69f2229a84251d80",
   "metadata": {},
   "outputs": [],
   "source": [
    "v1.dot(v2)"
   ]
  },
  {
   "cell_type": "code",
   "execution_count": null,
   "id": "bee8da31d7abeee6",
   "metadata": {},
   "outputs": [],
   "source": [
    "v1 @ v2"
   ]
  },
  {
   "cell_type": "code",
   "execution_count": null,
   "id": "ac0f8c0ed330514c",
   "metadata": {
    "slideshow": {
     "slide_type": "subslide"
    }
   },
   "outputs": [],
   "source": [
    "v1.sum()"
   ]
  },
  {
   "cell_type": "code",
   "execution_count": null,
   "id": "3b17fcded8fa1f3a",
   "metadata": {},
   "outputs": [],
   "source": [
    "v1.mean()"
   ]
  },
  {
   "cell_type": "code",
   "execution_count": null,
   "id": "5dcb64ff2a187aa3",
   "metadata": {},
   "outputs": [],
   "source": [
    "v1.max()"
   ]
  },
  {
   "cell_type": "code",
   "execution_count": null,
   "id": "9a53cbc11a76316b",
   "metadata": {},
   "outputs": [],
   "source": [
    "v1.argmax(), v1[v1.argmax()]"
   ]
  },
  {
   "cell_type": "code",
   "execution_count": null,
   "id": "fdf69a5a404442be",
   "metadata": {
    "slideshow": {
     "slide_type": "subslide"
    }
   },
   "outputs": [],
   "source": [
    "m1 = np.array([[1, 2, 3],\n",
    "               [4, 5, 6]])\n",
    "m2 = np.array([[1, 0],\n",
    "               [0, 1],\n",
    "               [2, 3]])"
   ]
  },
  {
   "cell_type": "code",
   "execution_count": null,
   "id": "2c83a831120ef29d",
   "metadata": {},
   "outputs": [],
   "source": [
    " # m1 + m2"
   ]
  },
  {
   "cell_type": "code",
   "execution_count": null,
   "id": "de92341950589845",
   "metadata": {},
   "outputs": [],
   "source": [
    "m1.T"
   ]
  },
  {
   "cell_type": "code",
   "execution_count": null,
   "id": "def0b33dce3e1f1a",
   "metadata": {},
   "outputs": [],
   "source": [
    "m1.T + m2"
   ]
  },
  {
   "cell_type": "code",
   "execution_count": null,
   "id": "fe97a3aa05598684",
   "metadata": {},
   "outputs": [],
   "source": [
    "m1.dot(m2)"
   ]
  },
  {
   "cell_type": "code",
   "execution_count": null,
   "id": "1ebb74741e879b3e",
   "metadata": {},
   "outputs": [],
   "source": [
    "m1 @ m2"
   ]
  },
  {
   "cell_type": "markdown",
   "id": "76773c98671e8814",
   "metadata": {
    "slideshow": {
     "slide_type": "slide"
    }
   },
   "source": [
    "## Erzeugen von NumPy Arrays\n",
    "\n",
    "### Aus Python Listen\n",
    "\n",
    "Durch geschachtelte Listen lassen sich Vektoren, Matrizen und Tensoren erzeugen:"
   ]
  },
  {
   "cell_type": "code",
   "execution_count": null,
   "id": "f85fc49d804c28d6",
   "metadata": {
    "slideshow": {
     "slide_type": "subslide"
    }
   },
   "outputs": [],
   "source": [
    "vector = np.array([1, 2, 3, 4])\n",
    "vector"
   ]
  },
  {
   "cell_type": "code",
   "execution_count": null,
   "id": "8b94d28c3140e1ef",
   "metadata": {},
   "outputs": [],
   "source": [
    "vector.shape"
   ]
  },
  {
   "cell_type": "code",
   "execution_count": null,
   "id": "b58b781a21c62c39",
   "metadata": {
    "slideshow": {
     "slide_type": "subslide"
    }
   },
   "outputs": [],
   "source": [
    "matrix = np.array([[1, 2, 3], [4, 5, 6]])\n",
    "matrix"
   ]
  },
  {
   "cell_type": "code",
   "execution_count": null,
   "id": "0028fb6fc010111c",
   "metadata": {},
   "outputs": [],
   "source": [
    "matrix.shape"
   ]
  },
  {
   "cell_type": "code",
   "execution_count": null,
   "id": "47d652f4c0172887",
   "metadata": {},
   "outputs": [],
   "source": [
    "np.shape(matrix)"
   ]
  },
  {
   "cell_type": "code",
   "execution_count": null,
   "id": "c5d4e878c4aebcc0",
   "metadata": {
    "slideshow": {
     "slide_type": "subslide"
    }
   },
   "outputs": [],
   "source": [
    "tensor = np.array([[[1, 2], [3, 4]],\n",
    "                   [[5, 6], [7, 8]]])\n",
    "tensor"
   ]
  },
  {
   "cell_type": "code",
   "execution_count": null,
   "id": "2e04c132b66bf8b5",
   "metadata": {},
   "outputs": [],
   "source": [
    "tensor.shape"
   ]
  },
  {
   "cell_type": "markdown",
   "id": "caee606c604b61b7",
   "metadata": {
    "slideshow": {
     "slide_type": "subslide"
    }
   },
   "source": [
    "### Als Intervall bzw. Folge"
   ]
  },
  {
   "cell_type": "code",
   "execution_count": null,
   "id": "479292695389f356",
   "metadata": {},
   "outputs": [],
   "source": [
    "np.arange(10)"
   ]
  },
  {
   "cell_type": "code",
   "execution_count": null,
   "id": "69881bc4be2a5e61",
   "metadata": {},
   "outputs": [],
   "source": [
    "np.arange(10.0)"
   ]
  },
  {
   "cell_type": "code",
   "execution_count": null,
   "id": "9194816b52193939",
   "metadata": {},
   "outputs": [],
   "source": [
    "np.arange(2, 10)"
   ]
  },
  {
   "cell_type": "code",
   "execution_count": null,
   "id": "7ce4581ca7bb383f",
   "metadata": {},
   "outputs": [],
   "source": [
    "np.arange(3., 23., 5.)"
   ]
  },
  {
   "cell_type": "code",
   "execution_count": null,
   "id": "b5e41608e0d113cd",
   "metadata": {
    "slideshow": {
     "slide_type": "subslide"
    }
   },
   "outputs": [],
   "source": [
    "np.linspace(0, 10, 5)"
   ]
  },
  {
   "cell_type": "code",
   "execution_count": null,
   "id": "e209c3aaeb718f44",
   "metadata": {},
   "outputs": [],
   "source": [
    "np.linspace(0.1, 1, 10)"
   ]
  },
  {
   "cell_type": "code",
   "execution_count": null,
   "id": "fcda9e57b1a4a14c",
   "metadata": {},
   "outputs": [],
   "source": [
    "np.arange(0.1, 1.1, 0.1)"
   ]
  },
  {
   "cell_type": "markdown",
   "id": "bdf64e6d1bd67288",
   "metadata": {
    "slideshow": {
     "slide_type": "subslide"
    }
   },
   "source": [
    "### Konstant 0 oder 1"
   ]
  },
  {
   "cell_type": "code",
   "execution_count": null,
   "id": "d8653e911afe8b12",
   "metadata": {},
   "outputs": [],
   "source": [
    "np.zeros(3)"
   ]
  },
  {
   "cell_type": "code",
   "execution_count": null,
   "id": "b731ec9cf5c084de",
   "metadata": {},
   "outputs": [],
   "source": [
    "np.zeros((3,))"
   ]
  },
  {
   "cell_type": "code",
   "execution_count": null,
   "id": "8af81b5387aa91a2",
   "metadata": {},
   "outputs": [],
   "source": [
    "np.zeros((3, 3))"
   ]
  },
  {
   "cell_type": "code",
   "execution_count": null,
   "id": "aad265883b99a9c5",
   "metadata": {
    "slideshow": {
     "slide_type": "subslide"
    }
   },
   "outputs": [],
   "source": [
    "np.ones(2)"
   ]
  },
  {
   "cell_type": "code",
   "execution_count": null,
   "id": "1791202beacd4ef9",
   "metadata": {},
   "outputs": [],
   "source": [
    "np.ones((4, 5))"
   ]
  },
  {
   "cell_type": "markdown",
   "id": "69a84cbd0d5576fc",
   "metadata": {
    "slideshow": {
     "slide_type": "subslide"
    }
   },
   "source": [
    "### Als Identitätsmatrix"
   ]
  },
  {
   "cell_type": "code",
   "execution_count": null,
   "id": "224ad6feea224a66",
   "metadata": {},
   "outputs": [],
   "source": [
    "np.eye(4)"
   ]
  },
  {
   "cell_type": "markdown",
   "id": "9daf30fb26b5d91c",
   "metadata": {},
   "source": [
    "### Als uninitialisierte Matrix"
   ]
  },
  {
   "cell_type": "code",
   "execution_count": null,
   "id": "75673fd170d22bc3",
   "metadata": {},
   "outputs": [],
   "source": [
    "np.empty((4, 5))"
   ]
  },
  {
   "cell_type": "markdown",
   "id": "ce0885eb531d126f",
   "metadata": {
    "slideshow": {
     "slide_type": "subslide"
    }
   },
   "source": [
    "### Aus Zufallsverteilung\n",
    "\n",
    "Numpy bietet eine große Anzahl von möglichen [Generatoren und\n",
    "Verteilungen](https://docs.scipy.org/doc/numpy/reference/random/index.html)\n",
    "zum Erzeugen von Vektoren und Arrays mit zufälligen Elementen."
   ]
  },
  {
   "cell_type": "markdown",
   "id": "7fd3f8aca40013c1",
   "metadata": {},
   "source": [
    "#### Setzen des Seed-Wertes"
   ]
  },
  {
   "cell_type": "code",
   "execution_count": null,
   "id": "e1afd305cc2ef00a",
   "metadata": {},
   "outputs": [],
   "source": [
    "np.random.seed(101)"
   ]
  },
  {
   "cell_type": "markdown",
   "id": "847318ccbeb433b6",
   "metadata": {
    "slideshow": {
     "slide_type": "subslide"
    }
   },
   "source": [
    "#### Gleichverteilt in [0, 1)"
   ]
  },
  {
   "cell_type": "code",
   "execution_count": null,
   "id": "345aa718d1783cf1",
   "metadata": {},
   "outputs": [],
   "source": [
    "# Kompatibilität mit Matlab\n",
    "np.random.seed(101)\n",
    "np.random.rand(10)"
   ]
  },
  {
   "cell_type": "code",
   "execution_count": null,
   "id": "58b33b01623d5443",
   "metadata": {},
   "outputs": [],
   "source": [
    "np.random.rand(4, 5)"
   ]
  },
  {
   "cell_type": "code",
   "execution_count": null,
   "id": "bd0c318dc7389d81",
   "metadata": {},
   "outputs": [],
   "source": [
    "# Fehler\n",
    "# np.random.rand((4, 5))"
   ]
  },
  {
   "cell_type": "code",
   "execution_count": null,
   "id": "38dd3f017fd738d1",
   "metadata": {
    "slideshow": {
     "slide_type": "subslide"
    }
   },
   "outputs": [],
   "source": [
    "np.random.seed(101)\n",
    "np.random.random(10)"
   ]
  },
  {
   "cell_type": "code",
   "execution_count": null,
   "id": "fa5e6a4ce59fcba5",
   "metadata": {},
   "outputs": [],
   "source": [
    "np.random.random((4, 5))"
   ]
  },
  {
   "cell_type": "markdown",
   "id": "5033b628d0a60021",
   "metadata": {
    "slideshow": {
     "slide_type": "subslide"
    }
   },
   "source": [
    "#### Normalverteilte Zufallszahlen"
   ]
  },
  {
   "cell_type": "code",
   "execution_count": null,
   "id": "c15f45f2c68c9a15",
   "metadata": {},
   "outputs": [],
   "source": [
    "# Kompatibilität mit Matlab\n",
    "np.random.seed(101)\n",
    "np.random.randn(10)"
   ]
  },
  {
   "cell_type": "code",
   "execution_count": null,
   "id": "6eb29d1af5ebdbaf",
   "metadata": {},
   "outputs": [],
   "source": [
    "np.random.randn(4, 5)"
   ]
  },
  {
   "cell_type": "code",
   "execution_count": null,
   "id": "9f17f32f1f98860f",
   "metadata": {},
   "outputs": [],
   "source": [
    "# Fehler\n",
    "# np.random.randn((4, 5))"
   ]
  },
  {
   "cell_type": "code",
   "execution_count": null,
   "id": "249843e786f27905",
   "metadata": {
    "slideshow": {
     "slide_type": "subslide"
    }
   },
   "outputs": [],
   "source": [
    "np.random.seed(101)\n",
    "np.random.standard_normal(10)"
   ]
  },
  {
   "cell_type": "code",
   "execution_count": null,
   "id": "1083a944e66d717d",
   "metadata": {},
   "outputs": [],
   "source": [
    "np.random.standard_normal((4, 5))"
   ]
  },
  {
   "cell_type": "code",
   "execution_count": null,
   "id": "adf84618a80d6169",
   "metadata": {},
   "outputs": [],
   "source": [
    "np.random.seed(101)\n",
    "np.random.normal(10.0, 1.0, 10)"
   ]
  },
  {
   "cell_type": "code",
   "execution_count": null,
   "id": "f9f101e73bc231e8",
   "metadata": {
    "slideshow": {
     "slide_type": "subslide"
    }
   },
   "outputs": [],
   "source": [
    "np.random.normal(0.0, 1.0, (4, 5))"
   ]
  },
  {
   "cell_type": "code",
   "execution_count": null,
   "id": "c4ca343f25a9d4de",
   "metadata": {},
   "outputs": [],
   "source": [
    "np.random.normal(10.0, 0.2, (2, 5))"
   ]
  },
  {
   "cell_type": "markdown",
   "id": "e97b3bf02e5623bb",
   "metadata": {
    "slideshow": {
     "slide_type": "subslide"
    }
   },
   "source": [
    "#### Multivariate Normalverteilung\n"
   ]
  },
  {
   "cell_type": "code",
   "execution_count": null,
   "id": "13f1d6b125e6d77d",
   "metadata": {},
   "outputs": [],
   "source": [
    "means = np.array([0.0, 2.0, 1.0])\n",
    "cov = np.array([[2.0, -1.0, 0.0],\n",
    "                [-1.0, 2.0, -1.0],\n",
    "                [0.0, -1.0, 2.0]])\n",
    "np.random.multivariate_normal(means, cov, (3,))"
   ]
  },
  {
   "cell_type": "markdown",
   "id": "5803a163eb87ecd9",
   "metadata": {
    "slideshow": {
     "slide_type": "subslide"
    }
   },
   "source": [
    "#### Andere Verteilungen"
   ]
  },
  {
   "cell_type": "code",
   "execution_count": null,
   "id": "e212db5e4de15862",
   "metadata": {},
   "outputs": [],
   "source": [
    "np.random.binomial(10, 0.2, 88)"
   ]
  },
  {
   "cell_type": "code",
   "execution_count": null,
   "id": "19c637d7536c4303",
   "metadata": {},
   "outputs": [],
   "source": [
    "np.random.multinomial(20, [1/6.0] * 6, 10)"
   ]
  },
  {
   "cell_type": "markdown",
   "id": "391f58e7c10c1687",
   "metadata": {},
   "source": [
    "\n",
    "Die\n",
    "[Dokumentation](https://docs.scipy.org/doc/numpy/reference/random/generator.html)\n",
    "enthält eine Liste aller Verteilungen und ihrer Parameter."
   ]
  },
  {
   "cell_type": "markdown",
   "id": "b25732831ee0a6ca",
   "metadata": {
    "slideshow": {
     "slide_type": "subslide"
    }
   },
   "source": [
    "## Mini-Workshop\n",
    "\n",
    "- Notebook `ws_110_numpy`\n",
    "- Abschnitt \"Erzeugen von NumPy Arrays\"\n"
   ]
  },
  {
   "cell_type": "markdown",
   "id": "7bf6a4f0f32e7c06",
   "metadata": {
    "slideshow": {
     "slide_type": "slide"
    }
   },
   "source": [
    "## Exkurs: Lösen von Gleichungssystemen\n",
    "\n",
    "Wie können wir das folgende Gleichungssystem mit NumPy darstellen und lösen:\n",
    "\n",
    "$$\n",
    "2x_0 + x_1 + x_2 = 4\\\\\n",
    "x_0 + 3x_1 + 2x_2 = 5\\\\\n",
    "x_0 = 6\n",
    "$$"
   ]
  },
  {
   "cell_type": "code",
   "execution_count": 25,
   "id": "55af381b1b931969",
   "metadata": {
    "slideshow": {
     "slide_type": "subslide"
    }
   },
   "outputs": [],
   "source": [
    "import numpy as np\n",
    "\n",
    "a = np.array([[2., 1., 1.],\n",
    "              [1., 3., 2.],\n",
    "              [1., 0., 0.]])\n",
    "b = np.array([4., 5., 6.])"
   ]
  },
  {
   "cell_type": "code",
   "execution_count": 26,
   "id": "118fc0333eb8954c",
   "metadata": {},
   "outputs": [
    {
     "data": {
      "text/plain": [
       "array([  6.,  15., -23.])"
      ]
     },
     "execution_count": 26,
     "metadata": {},
     "output_type": "execute_result"
    }
   ],
   "source": [
    "x = np.linalg.solve(a, b)\n",
    "x"
   ]
  },
  {
   "cell_type": "code",
   "execution_count": 27,
   "id": "a27cc8295d30bcf5",
   "metadata": {
    "slideshow": {
     "slide_type": "subslide"
    }
   },
   "outputs": [
    {
     "data": {
      "text/plain": [
       "(array([4., 5., 6.]), array([4., 5., 6.]))"
      ]
     },
     "execution_count": 27,
     "metadata": {},
     "output_type": "execute_result"
    }
   ],
   "source": [
    "# Test:\n",
    "a @ x, b"
   ]
  },
  {
   "cell_type": "markdown",
   "id": "4623d960fb90fd97",
   "metadata": {},
   "source": [
    "\n",
    "SciPy bietet spezielle Lösungsverfahren wie LU-Faktorisierung,\n",
    "Cholesky-Faktorisierung, etc. an."
   ]
  },
  {
   "cell_type": "code",
   "execution_count": 28,
   "id": "d9a04b03e32be673",
   "metadata": {
    "slideshow": {
     "slide_type": "-"
    }
   },
   "outputs": [],
   "source": [
    "import scipy.linalg as linalg\n",
    "lu = linalg.lu_factor(a)"
   ]
  },
  {
   "cell_type": "code",
   "execution_count": 29,
   "id": "980426d25e5838fd",
   "metadata": {},
   "outputs": [
    {
     "data": {
      "text/plain": [
       "(array([[ 2. ,  1. ,  1. ],\n",
       "        [ 0.5,  2.5,  1.5],\n",
       "        [ 0.5, -0.2, -0.2]]),\n",
       " array([0, 1, 2], dtype=int32))"
      ]
     },
     "execution_count": 29,
     "metadata": {},
     "output_type": "execute_result"
    }
   ],
   "source": [
    "lu"
   ]
  },
  {
   "cell_type": "code",
   "execution_count": 30,
   "id": "4a928fbd542e7e6c",
   "metadata": {
    "slideshow": {
     "slide_type": "subslide"
    }
   },
   "outputs": [],
   "source": [
    "x = linalg.lu_solve(lu, b)"
   ]
  },
  {
   "cell_type": "code",
   "execution_count": 31,
   "id": "63e6ceb28ad474fa",
   "metadata": {},
   "outputs": [
    {
     "data": {
      "text/plain": [
       "array([  6.,  15., -23.])"
      ]
     },
     "execution_count": 31,
     "metadata": {},
     "output_type": "execute_result"
    }
   ],
   "source": [
    "x"
   ]
  },
  {
   "cell_type": "code",
   "execution_count": 32,
   "id": "adeab22043e630ce",
   "metadata": {},
   "outputs": [
    {
     "data": {
      "text/plain": [
       "array([4., 5., 6.])"
      ]
     },
     "execution_count": 32,
     "metadata": {},
     "output_type": "execute_result"
    }
   ],
   "source": [
    "a @ x"
   ]
  },
  {
   "cell_type": "code",
   "execution_count": null,
   "id": "1e00df7ff4ae49f5",
   "metadata": {
    "slideshow": {
     "slide_type": "subslide"
    }
   },
   "outputs": [],
   "source": [
    "# Hermite'sche Matrix, positiv definit\n",
    "a = np.array([[10., -1., 2., 0.],\n",
    "             [-1., 11., -1., 3.],\n",
    "             [2., -1., 10., -1.],\n",
    "             [0., 3., -1., 8.]])\n",
    "b= np.array([6., 25., -11., 15.])"
   ]
  },
  {
   "cell_type": "code",
   "execution_count": null,
   "id": "525b7f4e5a46a6f1",
   "metadata": {
    "slideshow": {
     "slide_type": "subslide"
    }
   },
   "outputs": [],
   "source": [
    "cholesky = linalg.cholesky(a)"
   ]
  },
  {
   "cell_type": "code",
   "execution_count": null,
   "id": "206656fb44940018",
   "metadata": {},
   "outputs": [],
   "source": [
    "cholesky"
   ]
  },
  {
   "cell_type": "code",
   "execution_count": null,
   "id": "bc78cd669877af69",
   "metadata": {
    "slideshow": {
     "slide_type": "subslide"
    }
   },
   "outputs": [],
   "source": [
    "cholesky.T.conj() @ cholesky"
   ]
  },
  {
   "cell_type": "code",
   "execution_count": null,
   "id": "8956aff11f9ba45b",
   "metadata": {
    "slideshow": {
     "slide_type": "subslide"
    }
   },
   "outputs": [],
   "source": [
    "y = np.linalg.solve(cholesky.T.conj(), b)"
   ]
  },
  {
   "cell_type": "code",
   "execution_count": null,
   "id": "19c441ba5732fa87",
   "metadata": {},
   "outputs": [],
   "source": [
    "x = np.linalg.solve(cholesky, y)"
   ]
  },
  {
   "cell_type": "code",
   "execution_count": null,
   "id": "d739b6f5f23b9183",
   "metadata": {},
   "outputs": [],
   "source": [
    "x"
   ]
  },
  {
   "cell_type": "code",
   "execution_count": null,
   "id": "c26c34d5d866f3b7",
   "metadata": {},
   "outputs": [],
   "source": [
    "a @ x"
   ]
  },
  {
   "cell_type": "markdown",
   "id": "69b2d8bd2a168468",
   "metadata": {
    "slideshow": {
     "slide_type": "slide"
    }
   },
   "source": [
    "## Mini-Workshop\n",
    "\n",
    "- Notebook `ws_110_numpy`\n",
    "- Abschnitt \"Gleichungssysteme\""
   ]
  },
  {
   "cell_type": "markdown",
   "id": "afd26243eaec2c6c",
   "metadata": {
    "slideshow": {
     "slide_type": "slide"
    }
   },
   "source": [
    "## Attribute von Arrays"
   ]
  },
  {
   "cell_type": "code",
   "execution_count": null,
   "id": "cbb98d9c8235d4bf",
   "metadata": {},
   "outputs": [],
   "source": [
    "int_array = np.arange(36)\n",
    "float_array = np.arange(36.0)"
   ]
  },
  {
   "cell_type": "code",
   "execution_count": null,
   "id": "3e2a3241a1c2dfe3",
   "metadata": {},
   "outputs": [],
   "source": [
    "int_array.dtype"
   ]
  },
  {
   "cell_type": "code",
   "execution_count": null,
   "id": "9b0b2a6b0af1afe5",
   "metadata": {},
   "outputs": [],
   "source": [
    "float_array.dtype"
   ]
  },
  {
   "cell_type": "code",
   "execution_count": null,
   "id": "2110e5a130b2dc39",
   "metadata": {
    "slideshow": {
     "slide_type": "subslide"
    }
   },
   "outputs": [],
   "source": [
    "int_array.shape"
   ]
  },
  {
   "cell_type": "code",
   "execution_count": null,
   "id": "359463662e4cd958",
   "metadata": {},
   "outputs": [],
   "source": [
    "int_array.size"
   ]
  },
  {
   "cell_type": "code",
   "execution_count": null,
   "id": "f1ab61a876e6f9dc",
   "metadata": {},
   "outputs": [],
   "source": [
    "int_array.itemsize"
   ]
  },
  {
   "cell_type": "code",
   "execution_count": null,
   "id": "a35107a448b37023",
   "metadata": {},
   "outputs": [],
   "source": [
    "float_array.itemsize"
   ]
  },
  {
   "cell_type": "code",
   "execution_count": null,
   "id": "a2c418947666f71b",
   "metadata": {
    "slideshow": {
     "slide_type": "subslide"
    }
   },
   "outputs": [],
   "source": [
    "np.info(int_array)"
   ]
  },
  {
   "cell_type": "code",
   "execution_count": null,
   "id": "6fc6139ef0fadfb8",
   "metadata": {
    "slideshow": {
     "slide_type": "subslide"
    }
   },
   "outputs": [],
   "source": [
    "np.info(float_array)"
   ]
  },
  {
   "cell_type": "markdown",
   "id": "9e5f6feabdceffa9",
   "metadata": {
    "slideshow": {
     "slide_type": "slide"
    }
   },
   "source": [
    "## Ändern von Shape und Größe"
   ]
  },
  {
   "cell_type": "code",
   "execution_count": null,
   "id": "8bfd59edac35ab65",
   "metadata": {},
   "outputs": [],
   "source": [
    "float_array.shape"
   ]
  },
  {
   "cell_type": "code",
   "execution_count": null,
   "id": "a80b557a2548a1f4",
   "metadata": {},
   "outputs": [],
   "source": [
    "float_matrix = float_array.reshape((6, 6))"
   ]
  },
  {
   "cell_type": "code",
   "execution_count": null,
   "id": "18ee53b7d479c98b",
   "metadata": {},
   "outputs": [],
   "source": [
    "float_matrix"
   ]
  },
  {
   "cell_type": "code",
   "execution_count": null,
   "id": "43766c12346eec8c",
   "metadata": {},
   "outputs": [],
   "source": [
    "float_matrix.shape"
   ]
  },
  {
   "cell_type": "code",
   "execution_count": null,
   "id": "dcfe86c3ebc9c293",
   "metadata": {
    "slideshow": {
     "slide_type": "subslide"
    }
   },
   "outputs": [],
   "source": [
    "float_array.shape"
   ]
  },
  {
   "cell_type": "code",
   "execution_count": null,
   "id": "2524d668048e4f37",
   "metadata": {},
   "outputs": [],
   "source": [
    "float_array.reshape(3, 12)"
   ]
  },
  {
   "cell_type": "code",
   "execution_count": null,
   "id": "600939a908c378fb",
   "metadata": {},
   "outputs": [],
   "source": [
    "# Fehler\n",
    "# float_array.reshape(4, 8)"
   ]
  },
  {
   "cell_type": "code",
   "execution_count": null,
   "id": "b3a8156489d33ecd",
   "metadata": {
    "slideshow": {
     "slide_type": "subslide"
    }
   },
   "outputs": [],
   "source": [
    "float_array.reshape((4, 9), order='F')"
   ]
  },
  {
   "cell_type": "code",
   "execution_count": null,
   "id": "ba5587e9c7bd239c",
   "metadata": {},
   "outputs": [],
   "source": [
    "float_array.reshape((9, 4)).T"
   ]
  },
  {
   "cell_type": "code",
   "execution_count": null,
   "id": "9e179113cb849922",
   "metadata": {
    "slideshow": {
     "slide_type": "subslide"
    }
   },
   "outputs": [],
   "source": [
    "np.resize(float_array, (4, 8))"
   ]
  },
  {
   "cell_type": "code",
   "execution_count": null,
   "id": "d80228a5aea94a39",
   "metadata": {},
   "outputs": [],
   "source": [
    "float_array.shape"
   ]
  },
  {
   "cell_type": "code",
   "execution_count": null,
   "id": "f4cfa4dbbbe9315a",
   "metadata": {
    "slideshow": {
     "slide_type": "subslide"
    }
   },
   "outputs": [],
   "source": [
    "np.resize(float_array, (8, 10))"
   ]
  },
  {
   "cell_type": "markdown",
   "id": "a54387bffb5b52d4",
   "metadata": {
    "slideshow": {
     "slide_type": "subslide"
    }
   },
   "source": [
    "## Mini-Workshop\n",
    "\n",
    "- Notebook `050x-NumPy`\n",
    "- Abschnitt \"Erzeugen von NumPy Arrays 2\"\n"
   ]
  },
  {
   "cell_type": "markdown",
   "id": "ae4707ecb6c62248",
   "metadata": {
    "slideshow": {
     "slide_type": "slide"
    }
   },
   "source": [
    "## Broadcasting von Operationen\n",
    "\n",
    "Viele Operationen mit Skalaren werden Elementweise auf NumPy Arrays angewendet:"
   ]
  },
  {
   "cell_type": "code",
   "execution_count": null,
   "id": "306c12658d7f9b78",
   "metadata": {},
   "outputs": [],
   "source": [
    "arr = np.arange(8)\n",
    "arr"
   ]
  },
  {
   "cell_type": "code",
   "execution_count": null,
   "id": "20f0fa50d502e8b3",
   "metadata": {},
   "outputs": [],
   "source": [
    "arr + 5"
   ]
  },
  {
   "cell_type": "code",
   "execution_count": null,
   "id": "596cb4f9cbb84917",
   "metadata": {},
   "outputs": [],
   "source": [
    "arr * 2"
   ]
  },
  {
   "cell_type": "code",
   "execution_count": null,
   "id": "e31938dc50cbbdc7",
   "metadata": {
    "slideshow": {
     "slide_type": "subslide"
    }
   },
   "outputs": [],
   "source": [
    "arr ** 2"
   ]
  },
  {
   "cell_type": "code",
   "execution_count": null,
   "id": "d8b8fd52a89173f6",
   "metadata": {},
   "outputs": [],
   "source": [
    "2 ** arr"
   ]
  },
  {
   "cell_type": "code",
   "execution_count": null,
   "id": "6b8f36f9d9236e28",
   "metadata": {},
   "outputs": [],
   "source": [
    "arr > 5"
   ]
  },
  {
   "cell_type": "markdown",
   "id": "1d2efd70560a672b",
   "metadata": {
    "slideshow": {
     "slide_type": "slide"
    }
   },
   "source": [
    "## Minimum, Maximum, Summe, ..."
   ]
  },
  {
   "cell_type": "code",
   "execution_count": null,
   "id": "263d25e1b19dfcd0",
   "metadata": {},
   "outputs": [],
   "source": [
    "np.random.seed(101)\n",
    "vec = np.random.rand(10)\n",
    "vec"
   ]
  },
  {
   "cell_type": "code",
   "execution_count": null,
   "id": "762790a3b826cf49",
   "metadata": {},
   "outputs": [],
   "source": [
    "vec.max()"
   ]
  },
  {
   "cell_type": "code",
   "execution_count": null,
   "id": "397469ad0d3f2ed9",
   "metadata": {},
   "outputs": [],
   "source": [
    "vec.argmax()"
   ]
  },
  {
   "cell_type": "code",
   "execution_count": null,
   "id": "655ede7721b0c990",
   "metadata": {
    "slideshow": {
     "slide_type": "subslide"
    }
   },
   "outputs": [],
   "source": [
    "vec.min()"
   ]
  },
  {
   "cell_type": "code",
   "execution_count": null,
   "id": "1e73572f986dd0dd",
   "metadata": {},
   "outputs": [],
   "source": [
    "vec.argmin()"
   ]
  },
  {
   "cell_type": "code",
   "execution_count": null,
   "id": "945d777266461d58",
   "metadata": {
    "slideshow": {
     "slide_type": "subslide"
    }
   },
   "outputs": [],
   "source": [
    "np.random.seed(101)\n",
    "arr = np.random.rand(2, 5)\n",
    "arr"
   ]
  },
  {
   "cell_type": "code",
   "execution_count": null,
   "id": "9d21d633ac133643",
   "metadata": {},
   "outputs": [],
   "source": [
    "arr.max()"
   ]
  },
  {
   "cell_type": "code",
   "execution_count": null,
   "id": "be47e420ab8b2381",
   "metadata": {},
   "outputs": [],
   "source": [
    "arr.argmax()"
   ]
  },
  {
   "cell_type": "code",
   "execution_count": null,
   "id": "b98affc9b0d63e35",
   "metadata": {
    "slideshow": {
     "slide_type": "subslide"
    }
   },
   "outputs": [],
   "source": [
    "arr.min()"
   ]
  },
  {
   "cell_type": "code",
   "execution_count": null,
   "id": "9a537fe9620111c9",
   "metadata": {},
   "outputs": [],
   "source": [
    "arr.argmin()"
   ]
  },
  {
   "cell_type": "markdown",
   "id": "9a77f92da6b1fd52",
   "metadata": {
    "slideshow": {
     "slide_type": "subslide"
    }
   },
   "source": [
    "## Mini-Workshop\n",
    "\n",
    "- Notebook `050x-NumPy`\n",
    "- Abschnitt \"Extrema\"\n"
   ]
  },
  {
   "cell_type": "code",
   "execution_count": null,
   "id": "bcd9109112557bdc",
   "metadata": {
    "slideshow": {
     "slide_type": "subslide"
    }
   },
   "outputs": [],
   "source": [
    "arr.reshape(arr.size)[arr.argmin()]"
   ]
  },
  {
   "cell_type": "code",
   "execution_count": null,
   "id": "abd7cfbdbac211de",
   "metadata": {},
   "outputs": [],
   "source": [
    "arr[np.unravel_index(arr.argmin(), arr.shape)]"
   ]
  },
  {
   "cell_type": "code",
   "execution_count": null,
   "id": "990d489294efc86d",
   "metadata": {
    "slideshow": {
     "slide_type": "subslide"
    }
   },
   "outputs": [],
   "source": [
    "arr"
   ]
  },
  {
   "cell_type": "code",
   "execution_count": null,
   "id": "1758288fa308c69e",
   "metadata": {},
   "outputs": [],
   "source": [
    "arr.sum()"
   ]
  },
  {
   "cell_type": "code",
   "execution_count": null,
   "id": "8fd128be5880a39b",
   "metadata": {},
   "outputs": [],
   "source": [
    "arr.sum(axis=0)"
   ]
  },
  {
   "cell_type": "code",
   "execution_count": null,
   "id": "bca5f972eefc5c6a",
   "metadata": {},
   "outputs": [],
   "source": [
    "arr.sum(axis=1)"
   ]
  },
  {
   "cell_type": "code",
   "execution_count": null,
   "id": "e99f2e1e3d3c3200",
   "metadata": {
    "slideshow": {
     "slide_type": "subslide"
    }
   },
   "outputs": [],
   "source": [
    "arr.mean()"
   ]
  },
  {
   "cell_type": "code",
   "execution_count": null,
   "id": "e4e3c4835e0a4a72",
   "metadata": {},
   "outputs": [],
   "source": [
    "arr.mean(axis=0)"
   ]
  },
  {
   "cell_type": "code",
   "execution_count": null,
   "id": "b6d55f8073b178ab",
   "metadata": {},
   "outputs": [],
   "source": [
    "arr.mean(axis=1)"
   ]
  },
  {
   "cell_type": "markdown",
   "id": "f5a6b38dc4757d35",
   "metadata": {
    "slideshow": {
     "slide_type": "subslide"
    }
   },
   "source": [
    "## Mini-Workshop\n",
    "\n",
    "- Notebook `050x-NumPy`\n",
    "- Abschnitt \"Mittelwert\"\n"
   ]
  },
  {
   "cell_type": "markdown",
   "id": "1aa685ca9819f90b",
   "metadata": {
    "slideshow": {
     "slide_type": "slide"
    }
   },
   "source": [
    "## Exkurs: Einfache Monte Carlo Simulation\n",
    "\n",
    "Mit der folgenden Monte Carlo Simulation kann eine Approximation von $\\pi$ berechnet werden.\n",
    "\n",
    "Die Grundidee ist zu berechnen, welcher Anteil an zufällig gezogenen Paaren aus Zahlen $(x, y)$, mit $x, y \\sim SV[0, 1)$  (d.h., unabhängig und stetig auf $[0, 1)$ verteilt) eine $\\ell^2$ Norm kleiner als 1 hat. Diese Zahl ist eine\n",
    "Approximation von $\\pi/4$.\n",
    "\n",
    "Die folgende naive Implementiertung is in (fast) reinem Python geschrieben und verwendet NumPy nur zur Berechnung der Zufallszahlen."
   ]
  },
  {
   "cell_type": "code",
   "execution_count": null,
   "id": "5c8265ecc4614fde",
   "metadata": {
    "slideshow": {
     "slide_type": "subslide"
    }
   },
   "outputs": [],
   "source": [
    "def mc_pi_1(n):\n",
    "    num_in_circle = 0\n",
    "    for i in range(n):\n",
    "        xy = np.random.random(2)\n",
    "        if (xy ** 2).sum() < 1:\n",
    "            num_in_circle += 1\n",
    "    return num_in_circle * 4 / n"
   ]
  },
  {
   "cell_type": "code",
   "execution_count": null,
   "id": "5f8477f4600f364d",
   "metadata": {
    "lines_to_next_cell": 1,
    "slideshow": {
     "slide_type": "subslide"
    }
   },
   "outputs": [],
   "source": [
    "def test(mc_pi):\n",
    "    np.random.seed(64)\n",
    "    for n in [100, 10_000, 100_000, 1_000_000]:\n",
    "        %time print(f\"𝜋 ≈ {mc_pi(n)} ({n} iterations).\")\n",
    "        \"ignore me...\""
   ]
  },
  {
   "cell_type": "code",
   "execution_count": null,
   "id": "8f79185af2313d0c",
   "metadata": {},
   "outputs": [],
   "source": [
    "test(mc_pi_1)"
   ]
  },
  {
   "cell_type": "markdown",
   "id": "0d3d00ee5a0d6366",
   "metadata": {},
   "source": [
    "Durch Just-in-Time Übersetzung mit Numba kann die Performance erheblich gesteigert werden:"
   ]
  },
  {
   "cell_type": "code",
   "execution_count": null,
   "id": "736d9b3fcd5faa19",
   "metadata": {},
   "outputs": [],
   "source": [
    "import numba\n",
    "mc_pi_1_nb = numba.jit(mc_pi_1)"
   ]
  },
  {
   "cell_type": "code",
   "execution_count": null,
   "id": "e9aa7ad477e3527b",
   "metadata": {},
   "outputs": [],
   "source": [
    "test(mc_pi_1_nb)"
   ]
  },
  {
   "cell_type": "markdown",
   "id": "ec71492e8ab76806",
   "metadata": {},
   "source": [
    "Die folgende Implementierung verwendet die Vektorisierungs-Features von NumPy:"
   ]
  },
  {
   "cell_type": "code",
   "execution_count": null,
   "id": "98c62ec302e27035",
   "metadata": {
    "slideshow": {
     "slide_type": "subslide"
    }
   },
   "outputs": [],
   "source": [
    "def mc_pi_2(n):\n",
    "    x = np.random.random(n)\n",
    "    y = np.random.random(n)\n",
    "    return ((x ** 2 + y ** 2) < 1).sum() * 4 / n"
   ]
  },
  {
   "cell_type": "code",
   "execution_count": null,
   "id": "77bd98a77ec755bf",
   "metadata": {
    "slideshow": {
     "slide_type": "subslide"
    }
   },
   "outputs": [],
   "source": [
    "test(mc_pi_2)"
   ]
  },
  {
   "cell_type": "code",
   "execution_count": null,
   "id": "d9651d03052ffb23",
   "metadata": {},
   "outputs": [],
   "source": [
    "# # %time mc_pi_2(100_000_000)"
   ]
  },
  {
   "cell_type": "markdown",
   "id": "65e05e18c41760a3",
   "metadata": {},
   "source": [
    "Auch bei dieser Version können mit Numba Performance-Steigerungen erzielt werden, aber in deutlich geringerem Ausmaß:"
   ]
  },
  {
   "cell_type": "code",
   "execution_count": null,
   "id": "9f9dc69dc502a066",
   "metadata": {},
   "outputs": [],
   "source": [
    "mc_pi_2_nb = numba.jit(mc_pi_2)"
   ]
  },
  {
   "cell_type": "code",
   "execution_count": null,
   "id": "8f630a0cf260cf51",
   "metadata": {},
   "outputs": [],
   "source": [
    "test(mc_pi_2_nb)"
   ]
  },
  {
   "cell_type": "code",
   "execution_count": null,
   "id": "af1785dcc9067106",
   "metadata": {},
   "outputs": [],
   "source": [
    "# # %time mc_pi_2_nb(100_000_000)"
   ]
  },
  {
   "cell_type": "markdown",
   "id": "77b694d6cfe010b2",
   "metadata": {
    "slideshow": {
     "slide_type": "subslide"
    }
   },
   "source": [
    "## Mini-Workshop\n",
    "\n",
    "- Notebook `050x-NumPy`\n",
    "- Abschnitt \"Roulette\"\n"
   ]
  },
  {
   "cell_type": "markdown",
   "id": "46e7a74003561947",
   "metadata": {
    "slideshow": {
     "slide_type": "slide"
    }
   },
   "source": [
    "## Indizieren von NumPy Arrays"
   ]
  },
  {
   "cell_type": "code",
   "execution_count": null,
   "id": "59b2f6a95dfb42d0",
   "metadata": {},
   "outputs": [],
   "source": [
    "vec = np.arange(10)"
   ]
  },
  {
   "cell_type": "code",
   "execution_count": null,
   "id": "ea2d3856483a62c9",
   "metadata": {},
   "outputs": [],
   "source": [
    "vec"
   ]
  },
  {
   "cell_type": "code",
   "execution_count": null,
   "id": "0bb67215bc32b798",
   "metadata": {},
   "outputs": [],
   "source": [
    "vec[3]"
   ]
  },
  {
   "cell_type": "code",
   "execution_count": null,
   "id": "320475bfbb21c495",
   "metadata": {
    "slideshow": {
     "slide_type": "subslide"
    }
   },
   "outputs": [],
   "source": [
    "vec[3:8]"
   ]
  },
  {
   "cell_type": "code",
   "execution_count": null,
   "id": "58d10395bafa21f5",
   "metadata": {},
   "outputs": [],
   "source": [
    "vec[-1]"
   ]
  },
  {
   "cell_type": "code",
   "execution_count": null,
   "id": "5a944bc2468aab1c",
   "metadata": {
    "slideshow": {
     "slide_type": "subslide"
    }
   },
   "outputs": [],
   "source": [
    "arr = np.arange(24).reshape(4, 6)"
   ]
  },
  {
   "cell_type": "code",
   "execution_count": null,
   "id": "4270be19efe1c674",
   "metadata": {},
   "outputs": [],
   "source": [
    "arr"
   ]
  },
  {
   "cell_type": "code",
   "execution_count": null,
   "id": "6d83111f2c587ec5",
   "metadata": {},
   "outputs": [],
   "source": [
    "arr[1]"
   ]
  },
  {
   "cell_type": "code",
   "execution_count": null,
   "id": "ac2b404413ffa93e",
   "metadata": {},
   "outputs": [],
   "source": [
    "arr[1][2]"
   ]
  },
  {
   "cell_type": "code",
   "execution_count": null,
   "id": "00992e75721c586d",
   "metadata": {},
   "outputs": [],
   "source": [
    "arr[1, 2]"
   ]
  },
  {
   "cell_type": "code",
   "execution_count": null,
   "id": "7b38d6dfb25667ec",
   "metadata": {
    "slideshow": {
     "slide_type": "subslide"
    }
   },
   "outputs": [],
   "source": [
    "arr"
   ]
  },
  {
   "cell_type": "code",
   "execution_count": null,
   "id": "f08d68a9c63b8063",
   "metadata": {},
   "outputs": [],
   "source": [
    "arr[1:3]"
   ]
  },
  {
   "cell_type": "code",
   "execution_count": null,
   "id": "0521712d9ef85d3f",
   "metadata": {},
   "outputs": [],
   "source": [
    "arr[1:3][2:4]"
   ]
  },
  {
   "cell_type": "code",
   "execution_count": null,
   "id": "247c4af77817cf31",
   "metadata": {},
   "outputs": [],
   "source": [
    "arr[1:3, 2:4]"
   ]
  },
  {
   "cell_type": "code",
   "execution_count": null,
   "id": "c2fd867d5128fd1b",
   "metadata": {
    "slideshow": {
     "slide_type": "subslide"
    }
   },
   "outputs": [],
   "source": [
    "arr[:, 2:4]"
   ]
  },
  {
   "cell_type": "code",
   "execution_count": null,
   "id": "7ceaa0f48d2b9225",
   "metadata": {},
   "outputs": [],
   "source": [
    "# Vorsicht!\n",
    "arr[: 2:4]"
   ]
  },
  {
   "cell_type": "code",
   "execution_count": null,
   "id": "761d31c4a2fa6d21",
   "metadata": {},
   "outputs": [],
   "source": [
    "arr[:, 1:6:2]"
   ]
  },
  {
   "cell_type": "code",
   "execution_count": null,
   "id": "2642976c0f6ecc88",
   "metadata": {},
   "outputs": [],
   "source": [
    "arr"
   ]
  },
  {
   "cell_type": "code",
   "execution_count": null,
   "id": "462523466a2636aa",
   "metadata": {},
   "outputs": [],
   "source": [
    "arr[[1, 3]]"
   ]
  },
  {
   "cell_type": "markdown",
   "id": "0b46ce78e09b18a2",
   "metadata": {
    "slideshow": {
     "slide_type": "slide"
    }
   },
   "source": [
    "## Broadcasting auf Slices\n",
    "\n",
    "In NumPy Arrays werden Operationen oftmals auf Elemente (oder Unterarrays) \"gebroadcastet\":"
   ]
  },
  {
   "cell_type": "code",
   "execution_count": null,
   "id": "c2714ba4a1c59ca8",
   "metadata": {},
   "outputs": [],
   "source": [
    "arr = np.ones((3, 3))"
   ]
  },
  {
   "cell_type": "code",
   "execution_count": null,
   "id": "68ca19c3af649561",
   "metadata": {},
   "outputs": [],
   "source": [
    "arr[1:, 1:] = 2.0"
   ]
  },
  {
   "cell_type": "code",
   "execution_count": null,
   "id": "7ec95c0eb343aa54",
   "metadata": {},
   "outputs": [],
   "source": [
    "arr"
   ]
  },
  {
   "cell_type": "code",
   "execution_count": null,
   "id": "a374bccf86471da8",
   "metadata": {
    "slideshow": {
     "slide_type": "subslide"
    }
   },
   "outputs": [],
   "source": [
    "lst = [1, 2, 3]\n",
    "vec = np.array([1, 2, 3])"
   ]
  },
  {
   "cell_type": "code",
   "execution_count": null,
   "id": "fe9897bb24c7478e",
   "metadata": {},
   "outputs": [],
   "source": [
    "lst[:] = [99]"
   ]
  },
  {
   "cell_type": "code",
   "execution_count": null,
   "id": "c0924b88cf34fd76",
   "metadata": {},
   "outputs": [],
   "source": [
    "vec[:] = [99]"
   ]
  },
  {
   "cell_type": "code",
   "execution_count": null,
   "id": "0b4aef08eb1f008c",
   "metadata": {},
   "outputs": [],
   "source": [
    "lst"
   ]
  },
  {
   "cell_type": "code",
   "execution_count": null,
   "id": "fb586599053d0704",
   "metadata": {},
   "outputs": [],
   "source": [
    "vec"
   ]
  },
  {
   "cell_type": "code",
   "execution_count": null,
   "id": "bbabf6e25b9dba4b",
   "metadata": {},
   "outputs": [],
   "source": [
    "vec[:] = 11\n",
    "vec"
   ]
  },
  {
   "cell_type": "markdown",
   "id": "3808d41a87c69a8d",
   "metadata": {
    "slideshow": {
     "slide_type": "subslide"
    }
   },
   "source": [
    "### Vorsicht beim `lst[:]` Idiom! "
   ]
  },
  {
   "cell_type": "code",
   "execution_count": null,
   "id": "f29264aba79c622f",
   "metadata": {},
   "outputs": [],
   "source": [
    "lst1 = list(range(10))\n",
    "lst2 = lst1[:]\n",
    "vec1 = np.arange(10)\n",
    "vec2 = vec1[:]"
   ]
  },
  {
   "cell_type": "code",
   "execution_count": null,
   "id": "cafb37f4dd920fa6",
   "metadata": {},
   "outputs": [],
   "source": [
    "lst1[:] = [22] * 10\n",
    "lst1"
   ]
  },
  {
   "cell_type": "code",
   "execution_count": null,
   "id": "3b66148a7b49a877",
   "metadata": {},
   "outputs": [],
   "source": [
    "lst2"
   ]
  },
  {
   "cell_type": "code",
   "execution_count": null,
   "id": "373c73180302b995",
   "metadata": {
    "slideshow": {
     "slide_type": "subslide"
    }
   },
   "outputs": [],
   "source": [
    "vec1[:] = 22\n",
    "vec1"
   ]
  },
  {
   "cell_type": "code",
   "execution_count": null,
   "id": "36d10d70bb08ff15",
   "metadata": {},
   "outputs": [],
   "source": [
    "vec2"
   ]
  },
  {
   "cell_type": "code",
   "execution_count": null,
   "id": "17819f718af29f19",
   "metadata": {
    "slideshow": {
     "slide_type": "subslide"
    }
   },
   "outputs": [],
   "source": [
    "vec1 = np.arange(10)\n",
    "vec2 = vec1.copy()"
   ]
  },
  {
   "cell_type": "code",
   "execution_count": null,
   "id": "b7d552f3359a598f",
   "metadata": {},
   "outputs": [],
   "source": [
    "vec1[:] = 22\n",
    "vec1"
   ]
  },
  {
   "cell_type": "code",
   "execution_count": null,
   "id": "fd52cd4360472979",
   "metadata": {},
   "outputs": [],
   "source": [
    "vec2"
   ]
  },
  {
   "cell_type": "markdown",
   "id": "4fe9add1",
   "metadata": {},
   "source": [
    "## Exkurs: Lineare Algebra\n",
    "\n",
    "Im Modul `numpy.linalg` sind viele Funktionen der linearen Algebra verfügbar."
   ]
  },
  {
   "cell_type": "code",
   "execution_count": null,
   "id": "3f4b15c5",
   "metadata": {},
   "outputs": [],
   "source": [
    "import numpy as np\n",
    "m = np.array([[-6, 3], [4, 5]])"
   ]
  },
  {
   "cell_type": "code",
   "execution_count": null,
   "id": "9421d420",
   "metadata": {},
   "outputs": [],
   "source": [
    "eigenvals, eigenvecs = np.linalg.eig(m)"
   ]
  },
  {
   "cell_type": "code",
   "execution_count": null,
   "id": "9cf51d1e",
   "metadata": {},
   "outputs": [
    {
     "data": {
      "text/plain": [
       "array([-7.,  6.])"
      ]
     },
     "metadata": {},
     "output_type": "display_data"
    }
   ],
   "source": [
    "eigenvals"
   ]
  },
  {
   "cell_type": "code",
   "execution_count": null,
   "id": "50354a45",
   "metadata": {},
   "outputs": [
    {
     "data": {
      "text/plain": [
       "array([[-0.9486833 , -0.24253563],\n",
       "       [ 0.31622777, -0.9701425 ]])"
      ]
     },
     "metadata": {},
     "output_type": "display_data"
    }
   ],
   "source": [
    "eigenvecs"
   ]
  },
  {
   "cell_type": "code",
   "execution_count": null,
   "id": "3aa4cad5",
   "metadata": {},
   "outputs": [
    {
     "data": {
      "text/plain": [
       "array([ 6.64078309, -2.21359436])"
      ]
     },
     "metadata": {},
     "output_type": "display_data"
    }
   ],
   "source": [
    "m @ eigenvecs[:, 0]"
   ]
  },
  {
   "cell_type": "code",
   "execution_count": null,
   "id": "5bb42011",
   "metadata": {},
   "outputs": [
    {
     "data": {
      "text/plain": [
       "array([ 6.64078309, -2.21359436])"
      ]
     },
     "metadata": {},
     "output_type": "display_data"
    }
   ],
   "source": [
    "eigenvals[0] * eigenvecs[:, 0]"
   ]
  },
  {
   "cell_type": "code",
   "execution_count": null,
   "id": "211c0eec",
   "metadata": {},
   "outputs": [
    {
     "data": {
      "text/plain": [
       "array([-1.45521375, -5.820855  ])"
      ]
     },
     "metadata": {},
     "output_type": "display_data"
    }
   ],
   "source": [
    "m @ eigenvecs[:, 1]"
   ]
  },
  {
   "cell_type": "code",
   "execution_count": null,
   "id": "c7920240",
   "metadata": {},
   "outputs": [
    {
     "data": {
      "text/plain": [
       "array([-1.45521375, -5.820855  ])"
      ]
     },
     "metadata": {},
     "output_type": "display_data"
    }
   ],
   "source": [
    "eigenvals[1] * eigenvecs[:, 1]"
   ]
  },
  {
   "cell_type": "markdown",
   "id": "dab880def915e91e",
   "metadata": {
    "slideshow": {
     "slide_type": "slide"
    }
   },
   "source": [
    "## Bedingte Selektion\n",
    "\n",
    "NumPy Arrays können als Index auch ein NumPy Array von Boole'schen Werten erhalten, das den gleichen Shape hat wie das Array.\n",
    "\n",
    "Dadurch werden die Elemente selektiert, an deren Position der Boole'sche Vektor den Wert `True` hat und als Vektor zurückgegeben."
   ]
  },
  {
   "cell_type": "code",
   "execution_count": null,
   "id": "fbccdc594a6040c3",
   "metadata": {},
   "outputs": [],
   "source": [
    "vec = np.arange(8)\n",
    "bool_vec = (vec % 2 == 0)"
   ]
  },
  {
   "cell_type": "code",
   "execution_count": null,
   "id": "87822058c490db80",
   "metadata": {},
   "outputs": [],
   "source": [
    "vec[bool_vec]"
   ]
  },
  {
   "cell_type": "code",
   "execution_count": null,
   "id": "6725295152ef2261",
   "metadata": {
    "slideshow": {
     "slide_type": "subslide"
    }
   },
   "outputs": [],
   "source": [
    "arr = np.arange(8).reshape(2, 4)\n",
    "bool_arr = (arr % 2 == 0)\n",
    "bool_arr"
   ]
  },
  {
   "cell_type": "code",
   "execution_count": null,
   "id": "f9d6d2f471796ab7",
   "metadata": {},
   "outputs": [],
   "source": [
    "arr[bool_arr]"
   ]
  },
  {
   "cell_type": "code",
   "execution_count": null,
   "id": "85e4f42d8235dc89",
   "metadata": {},
   "outputs": [],
   "source": [
    "# Fehler!\n",
    "# arr[bool_vec]"
   ]
  },
  {
   "cell_type": "code",
   "execution_count": null,
   "id": "ea2a617d6e978238",
   "metadata": {
    "slideshow": {
     "slide_type": "subslide"
    }
   },
   "outputs": [],
   "source": [
    "vec[vec % 2 > 0]"
   ]
  },
  {
   "cell_type": "code",
   "execution_count": null,
   "id": "9f6f23e4c8551411",
   "metadata": {},
   "outputs": [],
   "source": [
    "arr[arr < 5]"
   ]
  },
  {
   "cell_type": "markdown",
   "id": "a2dfdca299b0344b",
   "metadata": {
    "slideshow": {
     "slide_type": "subslide"
    }
   },
   "source": [
    "### Boole'sche Operationen auf NumPy Arrays"
   ]
  },
  {
   "cell_type": "code",
   "execution_count": null,
   "id": "9cf0d4041971da6e",
   "metadata": {},
   "outputs": [],
   "source": [
    "bool_vec"
   ]
  },
  {
   "cell_type": "code",
   "execution_count": null,
   "id": "528d460c11f286cd",
   "metadata": {},
   "outputs": [],
   "source": [
    "neg_vec = np.logical_not(bool_vec)"
   ]
  },
  {
   "cell_type": "code",
   "execution_count": null,
   "id": "713dd374ebe81eb1",
   "metadata": {},
   "outputs": [],
   "source": [
    "bool_vec & neg_vec"
   ]
  },
  {
   "cell_type": "code",
   "execution_count": null,
   "id": "e11e2b7c8ee21caa",
   "metadata": {},
   "outputs": [],
   "source": [
    "bool_vec | neg_vec"
   ]
  },
  {
   "cell_type": "markdown",
   "id": "73a2712385711372",
   "metadata": {
    "slideshow": {
     "slide_type": "slide"
    }
   },
   "source": [
    "## Universelle NumPy Operationen\n",
    "\n",
    "NumPy bietet viele \"universelle\" Funktionen an, die auf NumPy Arrays, Listen und Zahlen angewendet werden können:"
   ]
  },
  {
   "cell_type": "code",
   "execution_count": null,
   "id": "9beab5b06274908c",
   "metadata": {},
   "outputs": [],
   "source": [
    "vec1 = np.random.randn(5)\n",
    "vec2 = np.random.randn(5)\n",
    "list1 = list(vec1)\n",
    "list2 = list(vec2)"
   ]
  },
  {
   "cell_type": "code",
   "execution_count": null,
   "id": "7b4f9fbcc9c85094",
   "metadata": {},
   "outputs": [],
   "source": [
    "vec1"
   ]
  },
  {
   "cell_type": "code",
   "execution_count": null,
   "id": "a1bc06fce30ae638",
   "metadata": {},
   "outputs": [],
   "source": [
    "list1"
   ]
  },
  {
   "cell_type": "code",
   "execution_count": null,
   "id": "5dfce73256261632",
   "metadata": {
    "slideshow": {
     "slide_type": "subslide"
    }
   },
   "outputs": [],
   "source": [
    "np.sin(vec1)"
   ]
  },
  {
   "cell_type": "code",
   "execution_count": null,
   "id": "a5712adf99b5b0e1",
   "metadata": {},
   "outputs": [],
   "source": [
    "np.sin(list1)"
   ]
  },
  {
   "cell_type": "code",
   "execution_count": null,
   "id": "dba455b6ff1e3432",
   "metadata": {},
   "outputs": [],
   "source": [
    "import math\n",
    "np.sin(math.pi)"
   ]
  },
  {
   "cell_type": "code",
   "execution_count": null,
   "id": "6fafba74583587c4",
   "metadata": {
    "slideshow": {
     "slide_type": "subslide"
    }
   },
   "outputs": [],
   "source": [
    "np.sum(vec1)"
   ]
  },
  {
   "cell_type": "code",
   "execution_count": null,
   "id": "361d6574b34458a2",
   "metadata": {},
   "outputs": [],
   "source": [
    "np.sum(list1)"
   ]
  },
  {
   "cell_type": "code",
   "execution_count": null,
   "id": "dc7eba500ce942ff",
   "metadata": {
    "slideshow": {
     "slide_type": "subslide"
    }
   },
   "outputs": [],
   "source": [
    "np.mean(vec1)"
   ]
  },
  {
   "cell_type": "code",
   "execution_count": null,
   "id": "c890c8ea57dea4f8",
   "metadata": {},
   "outputs": [],
   "source": [
    "np.median(vec1)"
   ]
  },
  {
   "cell_type": "code",
   "execution_count": null,
   "id": "2a7e02c53cec8dd9",
   "metadata": {},
   "outputs": [],
   "source": [
    "np.std(vec1)"
   ]
  },
  {
   "cell_type": "code",
   "execution_count": null,
   "id": "35fdf6916e440e63",
   "metadata": {
    "slideshow": {
     "slide_type": "subslide"
    }
   },
   "outputs": [],
   "source": [
    "np.greater(vec1, vec2)"
   ]
  },
  {
   "cell_type": "code",
   "execution_count": null,
   "id": "f4ddde6bd35e0095",
   "metadata": {},
   "outputs": [],
   "source": [
    "np.greater(list1, list2)"
   ]
  },
  {
   "cell_type": "code",
   "execution_count": null,
   "id": "5199faf1b98137c7",
   "metadata": {},
   "outputs": [],
   "source": [
    "np.greater(vec1, list2)"
   ]
  },
  {
   "cell_type": "code",
   "execution_count": null,
   "id": "788b598f440b01ed",
   "metadata": {
    "slideshow": {
     "slide_type": "-"
    }
   },
   "outputs": [],
   "source": [
    "np.maximum(vec1, vec2)"
   ]
  },
  {
   "cell_type": "code",
   "execution_count": null,
   "id": "7a8ff276a9eb950c",
   "metadata": {},
   "outputs": [],
   "source": [
    "np.maximum(list1, list2)"
   ]
  },
  {
   "cell_type": "code",
   "execution_count": null,
   "id": "d2fffe7de471650e",
   "metadata": {},
   "outputs": [],
   "source": [
    "np.maximum(list1, vec2)"
   ]
  },
  {
   "cell_type": "markdown",
   "id": "50b332c49d975787",
   "metadata": {},
   "source": [
    "Eine vollständige Liste sowie weitere Dokumentation findet man [hier](https://docs.scipy.org/doc/numpy/reference/ufuncs.html)."
   ]
  },
  {
   "cell_type": "code",
   "execution_count": null,
   "id": "6b4e03423667dbb7",
   "metadata": {},
   "outputs": [],
   "source": []
  }
 ],
 "metadata": {
  "kernelspec": {
   "display_name": "Python 3.10.6 ('cam')",
   "language": "python",
   "name": "python3"
  },
  "language_info": {
   "codemirror_mode": {
    "name": "ipython",
    "version": 3
   },
   "file_extension": ".py",
   "mimetype": "text/x-python",
   "name": "python",
   "nbconvert_exporter": "python",
   "pygments_lexer": "ipython3",
   "version": "3.10.6"
  },
  "vscode": {
   "interpreter": {
    "hash": "326a88f113b7eda0c60eba924a32e7efb57d867a8bbcb7bb201fc315e657872d"
   }
  }
 },
 "nbformat": 4,
 "nbformat_minor": 5
}
