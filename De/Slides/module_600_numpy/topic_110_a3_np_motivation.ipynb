{
 "cells": [
  {
   "cell_type": "markdown",
   "id": "279f905fa66ef263",
   "metadata": {
    "lang": "de",
    "slideshow": {
     "slide_type": "slide"
    }
   },
   "source": [
    "<img src=\"../../img/python-logo-no-text.svg\"\n",
    "     style=\"display:block;margin:auto;width:10%\"/>\n",
    "<br>\n",
    "<div style=\"text-align:center; font-size:200%;\">\n",
    "  <b>Motivation für NumPy</b>\n",
    "</div>\n",
    "<br/>\n",
    "<div style=\"text-align:center;\">Dr. Matthias Hölzl</div>\n",
    "<br/>\n",
    "<div style=\"text-align:center;\">module_600_numpy/topic_110_a3_np_motivation</div>"
   ]
  },
  {
   "cell_type": "markdown",
   "id": "900697da8759c8a6",
   "metadata": {
    "lang": "de",
    "slideshow": {
     "slide_type": "slide"
    }
   },
   "source": [
    "\n",
    "# Vektoren und Arrays in Python"
   ]
  },
  {
   "cell_type": "code",
   "execution_count": null,
   "id": "103d5ca0e563ef3c",
   "metadata": {},
   "outputs": [],
   "source": [
    "vector1 = [3, 2, 4]\n",
    "vector2 = [8, 9, 7]"
   ]
  },
  {
   "cell_type": "code",
   "execution_count": null,
   "id": "9e962173b83d9e66",
   "metadata": {
    "lines_to_next_cell": 1
   },
   "outputs": [],
   "source": [
    "vector1 + vector2"
   ]
  },
  {
   "cell_type": "code",
   "execution_count": null,
   "id": "3a87b0d4e3a89f68",
   "metadata": {},
   "outputs": [],
   "source": [
    "def vector_sum(v1, v2):\n",
    "    assert len(v1) == len(v2)\n",
    "    result = [0] * len(v1)\n",
    "    for i in range(len(v1)):\n",
    "        result[i] = v1[i] + v2[i]\n",
    "    return result"
   ]
  },
  {
   "cell_type": "code",
   "execution_count": null,
   "id": "a3d018dba0b5094a",
   "metadata": {},
   "outputs": [],
   "source": [
    "vector_sum(vector1, vector2)"
   ]
  },
  {
   "cell_type": "code",
   "execution_count": null,
   "id": "631d549c623580b7",
   "metadata": {},
   "outputs": [],
   "source": [
    "matrix = [[1, 2, 3],\n",
    "          [4, 5, 6],\n",
    "          [7, 8, 9]]"
   ]
  },
  {
   "cell_type": "code",
   "execution_count": null,
   "id": "e0572929026f7e7a",
   "metadata": {},
   "outputs": [],
   "source": [
    "ndarray = [matrix, matrix, matrix]"
   ]
  },
  {
   "cell_type": "code",
   "execution_count": null,
   "id": "7730a8302ee1cf87",
   "metadata": {},
   "outputs": [],
   "source": [
    "ndarray"
   ]
  },
  {
   "cell_type": "code",
   "execution_count": null,
   "id": "f2bf74ed2ce57692",
   "metadata": {},
   "outputs": [],
   "source": [
    "vector1[1]"
   ]
  },
  {
   "cell_type": "code",
   "execution_count": null,
   "id": "fae9dc84c54ef7a4",
   "metadata": {},
   "outputs": [],
   "source": [
    "matrix[1][0]"
   ]
  },
  {
   "cell_type": "code",
   "execution_count": null,
   "id": "af80a2056ba95007",
   "metadata": {},
   "outputs": [],
   "source": [
    "ndarray[1][0][2]"
   ]
  },
  {
   "cell_type": "code",
   "execution_count": null,
   "id": "6b4e03423667dbb7",
   "metadata": {},
   "outputs": [],
   "source": []
  }
 ],
 "metadata": {
  "kernelspec": {
   "display_name": "Python 3 (ipykernel)",
   "language": "python",
   "name": "python3"
  }
 },
 "nbformat": 4,
 "nbformat_minor": 5
}
