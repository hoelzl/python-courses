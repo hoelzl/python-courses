{
 "cells": [
  {
   "cell_type": "markdown",
   "id": "adb166aa",
   "metadata": {
    "lang": "de",
    "slideshow": {
     "slide_type": "slide"
    }
   },
   "source": [
    "<img src=\"img/python-logo-notext.svg\"\n",
    "     style=\"display:block;margin:auto;width:10%\"/>\n",
    "<br>\n",
    "<div style=\"text-align:center; font-size:200%;\"><b>Setuptools und Installation</b></div>\n",
    "<br/>\n",
    "<div style=\"text-align:center;\">Dr. Matthias Hölzl</div>"
   ]
  },
  {
   "cell_type": "markdown",
   "id": "47eb5bf7",
   "metadata": {
    "lang": "de",
    "slideshow": {
     "slide_type": "slide"
    }
   },
   "source": [
    "\n",
    " # Setuptools: Distribution von Python Packeten\n",
    "\n",
    " - Setuptools sind das Standard-Tool um installierbare Python-Pakete zu erzeugen.\n",
    " - Das Wort \"Packages\" ist in der Python Welt überladen:\n",
    "     - Sammlung von Python Dateien wie im Kapitel über Module und Packages beschrieben.\n",
    "     - Distribution einer installierbaren Version einer Bibliothek (\"wheel\"), die dann importiert werden kann."
   ]
  },
  {
   "cell_type": "markdown",
   "id": "cab0eeb7",
   "metadata": {
    "lang": "de",
    "slideshow": {
     "slide_type": "subslide"
    }
   },
   "source": [
    "\n",
    " ### Beispiel: Erstellen einer Anwendung mit Bibliothek\n",
    "\n",
    " - Hinzufügen von `setup.cfg` und `pyproject.toml`-Dateien mit Information über die zu installierenden Packages und Skripte\n",
    " - Hinzufügen einiger Hilfsdateien (`README.md`, `LICENSE`)\n",
    " - Erstellen der Distribution mit `python -m build` (Benötigt das PyPA `build` [package](https://github.com/pypa/build))\n",
    " - Installation mit `pip` und dem generierten Wheel\n",
    " - Installation während der Entwicklung: `pip install -e .`"
   ]
  },
  {
   "cell_type": "markdown",
   "id": "f02ad63a",
   "metadata": {
    "lang": "de",
    "slideshow": {
     "slide_type": "subslide"
    }
   },
   "source": [
    "## Workshop\n",
    "\n",
    "- `Workshop_136_todo_list_v3`\n",
    "- Abschnitt \"Packaging\""
   ]
  }
 ],
 "metadata": {
  "kernelspec": {
   "display_name": "Python 3 (ipykernel)",
   "language": "python",
   "name": "python3"
  }
 },
 "nbformat": 4,
 "nbformat_minor": 5
}
