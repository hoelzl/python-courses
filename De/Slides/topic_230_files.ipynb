{
 "cells": [
  {
   "cell_type": "markdown",
   "id": "5cf77bca",
   "metadata": {
    "lang": "de",
    "slideshow": {
     "slide_type": "slide"
    }
   },
   "source": [
    "<img src=\"img/python-logo-notext.svg\"\n",
    "     style=\"display:block;margin:auto;width:10%\"/>\n",
    "<br>\n",
    "<div style=\"text-align:center; font-size:200%;\"><b>Dateien</b></div>\n",
    "<br/>\n",
    "<div style=\"text-align:center;\">Dr. Matthias Hölzl</div>"
   ]
  },
  {
   "cell_type": "markdown",
   "id": "2703ddb1",
   "metadata": {
    "lang": "de",
    "lines_to_next_cell": 2,
    "slideshow": {
     "slide_type": "slide"
    }
   },
   "source": [
    "\n",
    "# Dateien\n",
    "\n",
    "Bislang gehen am Ende der Programmausführung alle Daten, die wir berechnet haben verloren.\n",
    "\n",
    "Die einfachste Varianten Daten zu persistieren ist sie in einer Datei zu speichern:"
   ]
  },
  {
   "cell_type": "code",
   "execution_count": null,
   "id": "1be29616",
   "metadata": {
    "lines_to_next_cell": 2
   },
   "outputs": [],
   "source": [
    "import os"
   ]
  },
  {
   "cell_type": "code",
   "execution_count": null,
   "id": "23279079",
   "metadata": {
    "lines_to_next_cell": 2
   },
   "outputs": [],
   "source": [
    "os.getcwd()"
   ]
  },
  {
   "cell_type": "markdown",
   "id": "354b1cfe",
   "metadata": {
    "lang": "de",
    "slideshow": {
     "slide_type": "subslide"
    }
   },
   "source": [
    "\n",
    " - Mit `open()` kann eine Datei zum Lesen oder Schreiben geöffnet werden.\n",
    " - Der `mode` Parameter gibt an, ob die Datei zum Lesen oder Schreiben geöffnet\n",
    "   wird:\n",
    "   - `r`: Lesen\n",
    "   - `w`: Schreiben. Der Inhalt der Datei wird gelöscht\n",
    "   - `a`: Schreiben. Die neuen Daten werden ans Ende der Datei geschrieben.\n",
    "   - `x`: Schreiben. Die Datei darf nicht existieren.\n",
    "   - `r+`: Lesen und Schreiben.\n",
    " - Wird ans Ende von `mode` der Buchstabe `b` angehängt, so wird die Datei als\n",
    "   Binärdatei behandelt.\n",
    " - Mit den Methoden `tell()` und `seek()` kann die Position in der Datei\n",
    "   abgefragt oder verändert werden."
   ]
  },
  {
   "cell_type": "code",
   "execution_count": null,
   "id": "65e61869",
   "metadata": {
    "lines_to_next_cell": 2,
    "slideshow": {
     "slide_type": "subslide"
    }
   },
   "outputs": [],
   "source": [
    "file = open(\"my-data-file.txt\", \"w\")\n",
    "file.write(\"The first line.\\n\")\n",
    "file.write(\"The second line.\\n\")\n",
    "file.close()"
   ]
  },
  {
   "cell_type": "code",
   "execution_count": null,
   "id": "5a978462",
   "metadata": {
    "lines_to_next_cell": 2
   },
   "outputs": [],
   "source": [
    "file = open(\"my-data-file.txt\", \"r\")\n",
    "contents = file.read()\n",
    "print(contents)\n",
    "file.close()\n",
    "contents"
   ]
  },
  {
   "cell_type": "code",
   "execution_count": null,
   "id": "3241ee50",
   "metadata": {
    "lines_to_next_cell": 2
   },
   "outputs": [],
   "source": [
    "file = open(\"my-data-file.txt\", mode=\"w\")\n",
    "file.write(\"Another line.\\n\")\n",
    "file.write(\"Yet another line.\\n\")\n",
    "file.close()"
   ]
  },
  {
   "cell_type": "code",
   "execution_count": null,
   "id": "944caa61",
   "metadata": {
    "lines_to_next_cell": 2
   },
   "outputs": [],
   "source": [
    "file = open(\"my-data-file.txt\", mode=\"r\")\n",
    "contents = file.read()\n",
    "print(contents)\n",
    "file.close()"
   ]
  },
  {
   "cell_type": "code",
   "execution_count": null,
   "id": "7be27603",
   "metadata": {
    "lines_to_next_cell": 2
   },
   "outputs": [],
   "source": [
    "file = open(\"my-data-file.txt\", mode=\"a\")\n",
    "file.write(\"Let's try this again.\\n\")\n",
    "file.write(\"Until we succeed.\\n\")\n",
    "file.close()"
   ]
  },
  {
   "cell_type": "code",
   "execution_count": null,
   "id": "20995382",
   "metadata": {
    "lines_to_next_cell": 2
   },
   "outputs": [],
   "source": [
    "file = open(\"my-data-file.txt\", \"r\")\n",
    "contents = file.read()\n",
    "print(contents)\n",
    "file.close()"
   ]
  },
  {
   "cell_type": "markdown",
   "id": "34bd3206",
   "metadata": {
    "lang": "de",
    "slideshow": {
     "slide_type": "subslide"
    }
   },
   "source": [
    "\n",
    " Dateien müssen immer mit `close` geschlossen werden, auch wenn der\n",
    " Programmteil, in dem die Datei verwendet wird durch eine Exception verlassen\n",
    " wird. Das könnte mit `try ... finally` erfolgen.\n",
    "\n",
    " Python bietet dafür ein eleganteres Konstrukt:"
   ]
  },
  {
   "cell_type": "code",
   "execution_count": null,
   "id": "cf753a01",
   "metadata": {
    "lines_to_next_cell": 2
   },
   "outputs": [],
   "source": [
    "with open(\"my-data-file.txt\", \"r\") as file:\n",
    "    contents = file.read()\n",
    "print(contents)"
   ]
  },
  {
   "cell_type": "code",
   "execution_count": null,
   "id": "91a1b360",
   "metadata": {
    "lines_to_next_cell": 2
   },
   "outputs": [],
   "source": [
    "with open(\"my-data-file.txt\", \"r+\") as file:\n",
    "    print(f\"File position before reading: {file.tell()}\")\n",
    "    contents = file.read()\n",
    "    print(f\"File position after reading: {file.tell()}\")\n",
    "    file.write(\"Another line.\\nAnd another.\")\n",
    "    print(f\"File position after writing: {file.tell()}\")"
   ]
  },
  {
   "cell_type": "code",
   "execution_count": null,
   "id": "986cf003",
   "metadata": {
    "lines_to_next_cell": 2
   },
   "outputs": [],
   "source": [
    "with open(\"my-data-file.txt\", \"r+\") as file:\n",
    "    print(f\"File has {len(file.readlines())} lines.\")\n",
    "    file.seek(40)\n",
    "    file.write(\"overwrite a part of the file, yes?\")\n",
    "    file.seek(0)\n",
    "    print(file.read())"
   ]
  },
  {
   "cell_type": "markdown",
   "id": "edf1e369",
   "metadata": {
    "lang": "de",
    "slideshow": {
     "slide_type": "subslide"
    }
   },
   "source": [
    "\n",
    " ## Mini-Workshop\n",
    "\n",
    " - Notebook `workshop_230_files`\n",
    " - Abschnitt \"Lesen und Schreiben in Dateien\"\n"
   ]
  },
  {
   "cell_type": "markdown",
   "id": "c1d262f4",
   "metadata": {
    "lang": "de",
    "slideshow": {
     "slide_type": "slide"
    }
   },
   "source": [
    "\n",
    "## Objektorientierter Umgang mit Dateien: Pathlib\n",
    "\n",
    "Das `pathlib`-Modul bietet mit der Klasse `Path` einen sehr eleganten\n",
    "objektorientierten Ansatz zum Umgang mit Dateien:"
   ]
  },
  {
   "cell_type": "code",
   "execution_count": null,
   "id": "4cd9f10d",
   "metadata": {},
   "outputs": [],
   "source": [
    "from pathlib import Path"
   ]
  },
  {
   "cell_type": "code",
   "execution_count": null,
   "id": "113c921d",
   "metadata": {},
   "outputs": [],
   "source": [
    "my_path = Path()\n",
    "print(\"relative path:\", my_path)\n",
    "print(\"absolute path:\", my_path.absolute())\n",
    "my_path"
   ]
  },
  {
   "cell_type": "code",
   "execution_count": null,
   "id": "b0ffcfa2",
   "metadata": {},
   "outputs": [],
   "source": [
    "my_file = my_path / \"README.md\"\n",
    "print(\"Name:         \", my_file.name)\n",
    "print(\"Parent:       \", my_file.parent.absolute())\n",
    "print(\"Suffix:       \", my_file.suffix)\n",
    "print(\"Change suffix:\", my_file.with_suffix(\".txt\"))\n",
    "print(\"Exists?       \", my_file.exists())"
   ]
  },
  {
   "cell_type": "code",
   "execution_count": null,
   "id": "8fcb496c",
   "metadata": {
    "slideshow": {
     "slide_type": "subslide"
    }
   },
   "outputs": [],
   "source": [
    "tmp_dir = Path.home() / \"Tmp\"\n",
    "print(tmp_dir.absolute())\n",
    "print(tmp_dir.exists())"
   ]
  },
  {
   "cell_type": "code",
   "execution_count": null,
   "id": "a56caf13",
   "metadata": {},
   "outputs": [],
   "source": [
    "assert not tmp_dir.exists()\n",
    "my_dir = tmp_dir / \"subdir1/subdir2\" / \"subdir3\"\n",
    "my_dir.mkdir(parents=True, exist_ok=False)\n",
    "my_dir.exists()"
   ]
  },
  {
   "cell_type": "code",
   "execution_count": null,
   "id": "cd0ac716",
   "metadata": {
    "slideshow": {
     "slide_type": "subslide"
    }
   },
   "outputs": [],
   "source": [
    "my_file = my_dir / \"test.txt\"\n",
    "with my_file.open(\"w\", encoding=\"utf-8\") as file:\n",
    "    file.write(\"Hello, world\")\n",
    "print(\"Exists?\", my_file.exists())\n",
    "print(list(my_dir.glob(\"*\")))\n",
    "my_file.unlink()\n",
    "print(\"Exists?\", my_file.exists())\n",
    "print(list(my_dir.glob(\"*\")))\n",
    "my_file.unlink(missing_ok=True)"
   ]
  },
  {
   "cell_type": "code",
   "execution_count": null,
   "id": "87967b1e",
   "metadata": {},
   "outputs": [],
   "source": [
    "if my_dir.exists():\n",
    "    my_dir.rmdir()\n",
    "print(\"Exists?\", my_dir.exists())"
   ]
  },
  {
   "cell_type": "code",
   "execution_count": null,
   "id": "55618240",
   "metadata": {
    "lines_to_next_cell": 2
   },
   "outputs": [],
   "source": [
    "import shutil\n",
    "\n",
    "shutil.rmtree(tmp_dir, ignore_errors=True)"
   ]
  },
  {
   "cell_type": "code",
   "execution_count": null,
   "id": "8a5fea79",
   "metadata": {},
   "outputs": [],
   "source": [
    "tmp_dir.exists()"
   ]
  }
 ],
 "metadata": {
  "kernelspec": {
   "display_name": "Python 3 (ipykernel)",
   "language": "python",
   "name": "python3"
  }
 },
 "nbformat": 4,
 "nbformat_minor": 5
}
