{
 "cells": [
  {
   "cell_type": "markdown",
   "id": "cfbcc78d",
   "metadata": {
    "lang": "de",
    "slideshow": {
     "slide_type": "slide"
    }
   },
   "source": [
    "<img src=\"img/python-logo-notext.svg\"\n",
    "     style=\"display:block;margin:auto;width:10%\"/>\n",
    "<br>\n",
    "<div style=\"text-align:center; font-size:200%;\"><b>Module und Packages</b></div>\n",
    "<br/>\n",
    "<div style=\"text-align:center;\">Dr. Matthias Hölzl</div>"
   ]
  },
  {
   "cell_type": "markdown",
   "id": "e9106a04",
   "metadata": {
    "lang": "de",
    "slideshow": {
     "slide_type": "slide"
    }
   },
   "source": [
    "\n",
    " - Der Python Interpreter bietet nur einen kleinen Teil der für die meisten\n",
    "   Programme benötigten Funktionalität\n",
    "   - Kein Interaktion mit dem Betriebssystem\n",
    "   - Kein Netzwerkfunktionalität\n",
    "   - Keine GUI\n",
    "   - ...\n",
    " - Durch *Module* und *Packages* kann diese Funktionalität bei Bedarf geladen\n",
    "   werden."
   ]
  },
  {
   "cell_type": "code",
   "execution_count": null,
   "id": "dfbdcfbd",
   "metadata": {
    "lines_to_next_cell": 2,
    "slideshow": {
     "slide_type": "subslide"
    }
   },
   "outputs": [],
   "source": [
    "# Importieren eines Moduls/Packages\n",
    "import os"
   ]
  },
  {
   "cell_type": "code",
   "execution_count": null,
   "id": "32148ece",
   "metadata": {
    "lines_to_next_cell": 2
   },
   "outputs": [],
   "source": [
    "# Verwenden der Funktionalität\n",
    "os.getcwd()"
   ]
  },
  {
   "cell_type": "markdown",
   "id": "bbb15604",
   "metadata": {
    "lang": "de",
    "slideshow": {
     "slide_type": "subslide"
    }
   },
   "source": [
    "\n",
    " Python bietet viele Standardmodule an, die mit dem Interpreter installiert\n",
    " werden:\n",
    "\n",
    " - abc: Abstract base classes\n",
    " - argparse: Kommandozeilenargumente\n",
    " - asyncio: Asynchrone Programmierung\n",
    " - collections: Container-Datentypen\n",
    " - ...\n",
    "\n",
    " [Hier](https://docs.python.org/3/py-modindex.html) ist eine vollständigere Liste."
   ]
  },
  {
   "cell_type": "code",
   "execution_count": null,
   "id": "4b2bb345",
   "metadata": {
    "lines_to_next_cell": 2
   },
   "outputs": [],
   "source": [
    "import os\n",
    "\n",
    "{\"num-cpus\": os.cpu_count(), \"pid\": os.getpid()}"
   ]
  },
  {
   "cell_type": "code",
   "execution_count": null,
   "id": "cfe2cfd6",
   "metadata": {
    "lines_to_next_cell": 2
   },
   "outputs": [],
   "source": [
    "import ast\n",
    "\n",
    "ast.dump(ast.parse(\"print(123)\"), False)"
   ]
  },
  {
   "cell_type": "markdown",
   "id": "2fbc0185",
   "metadata": {
    "lang": "de",
    "slideshow": {
     "slide_type": "subslide"
    }
   },
   "source": [
    "\n",
    " ## Benutzerdefinierte Module\n",
    "\n",
    " Ein benutzerdefiniertes Modul ist eine Datei mit Python-Code.\n",
    "\n",
    " Wie wir schon gesehen haben:\n",
    " - Wenn sich ein Python-Modul im Suchpfad befindet, kann es mit `import` geladen werden.\n",
    " - Jupyter Notebooks lassen sich nicht (ohne zusätzliche Pakete) als Module laden."
   ]
  },
  {
   "cell_type": "code",
   "execution_count": null,
   "id": "5e85d0b5",
   "metadata": {
    "lines_to_next_cell": 2,
    "slideshow": {
     "slide_type": "subslide"
    }
   },
   "outputs": [],
   "source": [
    "# Welche Python-Dateien gibt es im aktuellen Verzeichnis?\n",
    "for filename in os.listdir(os.getcwd()):\n",
    "    if filename[-3:] == \".py\":\n",
    "        print(filename)"
   ]
  },
  {
   "cell_type": "code",
   "execution_count": null,
   "id": "d355f7c8",
   "metadata": {
    "lines_to_next_cell": 2,
    "tags": [
     "keep"
    ]
   },
   "outputs": [],
   "source": [
    "# Anzeigen des Quellcodes von `my_test_module.py`\n",
    "# %pycat my_test_module.py"
   ]
  },
  {
   "cell_type": "code",
   "execution_count": null,
   "id": "bef48f46",
   "metadata": {
    "lines_to_next_cell": 2
   },
   "outputs": [],
   "source": [
    "# Andere Möglichkeit, den Inhalt von `my_test_module.py` anzuzeigen.\n",
    "with open(\"my_test_module.py\", \"r\") as file:\n",
    "    text = file.read()\n",
    "\n",
    "print(text)"
   ]
  },
  {
   "cell_type": "code",
   "execution_count": null,
   "id": "54380284",
   "metadata": {
    "lines_to_next_cell": 2,
    "tags": [
     "keep"
    ]
   },
   "outputs": [],
   "source": [
    "# Top-level code wird ausgeführt"
   ]
  },
  {
   "cell_type": "code",
   "execution_count": null,
   "id": "ea31b2c4",
   "metadata": {
    "lines_to_next_cell": 2,
    "tags": [
     "keep"
    ]
   },
   "outputs": [],
   "source": [
    "# get_ipython().run_line_magic('load_ext', 'autoreload')\n",
    "# get_ipython().run_line_magic('autoreload', '2')"
   ]
  },
  {
   "cell_type": "code",
   "execution_count": null,
   "id": "a6ca94fd",
   "metadata": {
    "lines_to_next_cell": 2
   },
   "outputs": [],
   "source": [
    "# Top-level code wird NICHT mehr ausgeführt\n",
    "import my_test_module"
   ]
  },
  {
   "cell_type": "code",
   "execution_count": null,
   "id": "fc38f332",
   "metadata": {
    "lines_to_next_cell": 2
   },
   "outputs": [],
   "source": [
    "my_test_module.add1(2)"
   ]
  },
  {
   "cell_type": "code",
   "execution_count": null,
   "id": "b1ea7496",
   "metadata": {
    "lines_to_next_cell": 2
   },
   "outputs": [],
   "source": [
    "# add1"
   ]
  },
  {
   "cell_type": "code",
   "execution_count": null,
   "id": "24ab2fd3",
   "metadata": {},
   "outputs": [],
   "source": [
    "import my_test_module as mm"
   ]
  },
  {
   "cell_type": "code",
   "execution_count": null,
   "id": "01e83387",
   "metadata": {
    "lines_to_next_cell": 2
   },
   "outputs": [],
   "source": [
    "mm.add1(1)"
   ]
  },
  {
   "cell_type": "code",
   "execution_count": null,
   "id": "28495ca0",
   "metadata": {
    "lines_to_next_cell": 2
   },
   "outputs": [],
   "source": [
    "mm.perform_complex_computation(17)"
   ]
  },
  {
   "cell_type": "code",
   "execution_count": null,
   "id": "1795c612",
   "metadata": {
    "lines_to_next_cell": 2
   },
   "outputs": [],
   "source": [
    "from my_test_module import multiply_by_2"
   ]
  },
  {
   "cell_type": "code",
   "execution_count": null,
   "id": "53325200",
   "metadata": {
    "lines_to_next_cell": 2
   },
   "outputs": [],
   "source": [
    "multiply_by_2(2)"
   ]
  },
  {
   "cell_type": "code",
   "execution_count": null,
   "id": "ff8b8ffd",
   "metadata": {
    "lines_to_next_cell": 2
   },
   "outputs": [],
   "source": [
    "from my_test_module import multiply_by_2 as mult2"
   ]
  },
  {
   "cell_type": "code",
   "execution_count": null,
   "id": "08a64624",
   "metadata": {
    "lines_to_next_cell": 2
   },
   "outputs": [],
   "source": [
    "mult2(4)"
   ]
  },
  {
   "cell_type": "code",
   "execution_count": null,
   "id": "0f8419e0",
   "metadata": {
    "lines_to_next_cell": 2
   },
   "outputs": [],
   "source": [
    "# Im Regelfall besser vermeiden:\n",
    "from my_test_module import *"
   ]
  },
  {
   "cell_type": "code",
   "execution_count": null,
   "id": "97b58011",
   "metadata": {
    "lines_to_next_cell": 2
   },
   "outputs": [],
   "source": [
    "multiply_by_2(3)"
   ]
  },
  {
   "cell_type": "code",
   "execution_count": null,
   "id": "f4a8b253",
   "metadata": {
    "lines_to_next_cell": 2
   },
   "outputs": [],
   "source": [
    "add1(3)"
   ]
  },
  {
   "cell_type": "code",
   "execution_count": null,
   "id": "5afbc1b5",
   "metadata": {
    "lines_to_next_cell": 2
   },
   "outputs": [],
   "source": [
    "# Anzeigen aller definierten Namen:\n",
    "dir(my_test_module)"
   ]
  },
  {
   "cell_type": "code",
   "execution_count": null,
   "id": "ee834051",
   "metadata": {
    "lines_to_next_cell": 2
   },
   "outputs": [],
   "source": [
    "[name for name in dir(my_test_module) if name[0] != \"_\"]"
   ]
  },
  {
   "cell_type": "markdown",
   "id": "7efa2511",
   "metadata": {
    "lang": "de",
    "slideshow": {
     "slide_type": "subslide"
    }
   },
   "source": [
    "\n",
    " ## Beispiel: `HttpServer`\n",
    "\n",
    "Der Python Interpreter hat keinen eingebauten HTTP Server. Mittels der\n",
    "Standardbibliothek ist es aber nicht schwer einen zu schreiben."
   ]
  },
  {
   "cell_type": "markdown",
   "id": "6a13b7df",
   "metadata": {
    "lang": "de",
    "slideshow": {
     "slide_type": "subslide"
    }
   },
   "source": [
    "\n",
    " ### Beispiel: `ModuleTest`\n",
    "\n",
    "Das `ModuleTest` Beispiel zeigt, wie ein Programm aus mehreren Modulen\n",
    "bestehen kann."
   ]
  },
  {
   "cell_type": "code",
   "execution_count": null,
   "id": "f23b8e01",
   "metadata": {
    "lines_to_next_cell": 2,
    "tags": [
     "keep"
    ]
   },
   "outputs": [],
   "source": [
    "__name__"
   ]
  },
  {
   "cell_type": "markdown",
   "id": "2ffcd560",
   "metadata": {
    "lang": "de",
    "slideshow": {
     "slide_type": "slide"
    }
   },
   "source": [
    "\n",
    " ## Packages\n",
    "\n",
    " - Methode um Module mit zu strukturieren: `a.b.c`, `a.b.x`\n",
    " - Ein Package ist eine Zusammenfassung von mehreren Modulen\n",
    " - `b` ist Sub-Package von `a`, `c` und `x` sind Submodule von `b`"
   ]
  },
  {
   "cell_type": "code",
   "execution_count": null,
   "id": "e7a4c0bb",
   "metadata": {
    "lines_to_next_cell": 2
   },
   "outputs": [],
   "source": [
    "from html.parser import HTMLParser\n",
    "import html.entities"
   ]
  },
  {
   "cell_type": "code",
   "execution_count": null,
   "id": "8f993dc9",
   "metadata": {
    "lines_to_next_cell": 2
   },
   "outputs": [],
   "source": [
    "HTMLParser()"
   ]
  },
  {
   "cell_type": "code",
   "execution_count": null,
   "id": "ce902997",
   "metadata": {
    "lines_to_next_cell": 2
   },
   "outputs": [],
   "source": [
    "html.entities.entitydefs[\"Psi\"]"
   ]
  },
  {
   "cell_type": "markdown",
   "id": "11a68759",
   "metadata": {
    "lang": "de",
    "slideshow": {
     "slide_type": "subslide"
    }
   },
   "source": [
    "\n",
    " ### Struktur von Packages\n",
    "\n",
    " - Hierarchie durch Verzeichnisse und Python Dateien\n",
    "   - Z.B. Verzeichnis `html` mit Unterverzeichnissen `parser`, `entities`\n",
    " - Benötigt eine `__init__.py` Datei in jedem Verzeichnis, aus dem Code importiert werden soll\n",
    " - Die `__init__.py` Datei kann leer sein (und ist oft leer)"
   ]
  },
  {
   "cell_type": "markdown",
   "id": "020bb111",
   "metadata": {
    "lang": "de",
    "slideshow": {
     "slide_type": "subslide"
    }
   },
   "source": [
    "\n",
    " <img src=\"img/package-structure.png\" alt=\"Package structure\"\n",
    "      style=\"display:block;margin:auto;width:40%\"></img>"
   ]
  },
  {
   "cell_type": "markdown",
   "id": "1d08ab4d",
   "metadata": {
    "lang": "de",
    "slideshow": {
     "slide_type": "subslide"
    }
   },
   "source": [
    "\n",
    " <img src=\"img/package-structure.png\" alt=\"Package structure\"\n",
    "      style=\"display:block;margin:auto;width:40%\"></img>"
   ]
  },
  {
   "cell_type": "markdown",
   "id": "8620c091",
   "metadata": {
    "lang": "de",
    "slideshow": {
     "slide_type": "subslide"
    }
   },
   "source": [
    "\n",
    " ### Finden von Packages\n",
    "\n",
    " - Python sucht in `sys.path` nach dem Package-Verzeichnis.\n",
    " - Dieser kann durch die Environment-Variable `PYTHONPATH` oder direkt von\n",
    "   Python aus beeinflusst werden.\n",
    " - In den meisten Fällen ist es besser, keine komplizierten Operationen an\n",
    "   `sys.path` vorzunehmen."
   ]
  },
  {
   "cell_type": "markdown",
   "id": "c7c12e9c",
   "metadata": {
    "lang": "de",
    "slideshow": {
     "slide_type": "subslide"
    }
   },
   "source": [
    "\n",
    " ### Das `import` statement\n",
    "\n",
    " `import a.b.c`:\n",
    "\n",
    " - `a` und `b` müssen Packages (Verzeichnisse) sein\n",
    " - `c` kann ein Modul oder ein Package sein\n",
    "\n",
    " `from a.b.c import d`\n",
    " - `a` und `b` müssen Packages sein\n",
    " - `c` kann ein Modul oder ein Package sein\n",
    " - `d` kann ein Modul, ein Package oder ein Name (d.h. eine Variable, eine Funktion, eine Klasse, usw.) sein"
   ]
  },
  {
   "cell_type": "markdown",
   "id": "fd476fcf",
   "metadata": {
    "lang": "de",
    "slideshow": {
     "slide_type": "subslide"
    }
   },
   "source": [
    "\n",
    " ### Referenzen innerhalb eines Packages\n",
    "\n",
    " - `from . import a` importiert `a` aus dem aktuellen Package\n",
    " - `from .. import a` importiert `a` aus dem übergeordneten Package\n",
    " - `from .foo import a` importiert `a` aus dem \"Geschwistermodul\" `foo`"
   ]
  },
  {
   "cell_type": "markdown",
   "id": "5f536c42",
   "metadata": {
    "lang": "de",
    "slideshow": {
     "slide_type": "subslide"
    }
   },
   "source": [
    "\n",
    " ## Beispiel: `MessageQueue`\n",
    "\n",
    " Das `MessageQueue` Beispiel zeigt, wie ein Programm aus mehreren Packages bestehen kann."
   ]
  },
  {
   "cell_type": "markdown",
   "id": "6a6ac9e6",
   "metadata": {
    "lang": "de",
    "slideshow": {
     "slide_type": "slide"
    }
   },
   "source": [
    "\n",
    " # Pytest: Testen in Python\n",
    "\n",
    " - Python bietet mehrere eingebaute Pakete zum Schreiben von Unit-Tests und Dokumentationstests an (`unittest` und `doctest`).\n",
    " - Viele Projekte verwenden trotzdem das `pytest` Paket, da es viel \"Boilerplate\" beim Schreiben von Tests vermeidet.\n",
    " - `pytest` kann `unittest` und `doctest`-Tests ausführen."
   ]
  },
  {
   "cell_type": "markdown",
   "id": "c0463a03",
   "metadata": {
    "lang": "de",
    "slideshow": {
     "slide_type": "subslide"
    }
   },
   "source": [
    "\n",
    " ## Installation von Pytest\n",
    "\n",
    " Pytest ist in der Anaconda-Installation vorinstalliert\n",
    "\n",
    " Beim Verwenden der Standard Python Distribution kann es mit\n",
    " ```shell\n",
    " pip install pytest\n",
    " ```\n",
    " installiert werden"
   ]
  },
  {
   "cell_type": "markdown",
   "id": "9db4a318",
   "metadata": {
    "lang": "de",
    "slideshow": {
     "slide_type": "subslide"
    }
   },
   "source": [
    "\n",
    " ## Schreiben von Tests\n",
    "\n",
    " - Pytest kann sehr flexibel konfiguriert werden\n",
    " - Wir verwenden nur die einfachsten Features und verlassen uns auf die automatische Konfiguration\n",
    " - Tests für ein Paket werden in einem Unter-Package `test` geschrieben\n",
    " - Tests für die Datei `foo.py` sind in der Datei `test/foo_test.py`\n",
    " - Jeder Test ist eine Funktion, deren Name mit `test` beginnt\n",
    " - Assertions werden mit der `assert` Anweisung geschrieben"
   ]
  },
  {
   "cell_type": "markdown",
   "id": "6189964c",
   "metadata": {
    "lang": "de",
    "slideshow": {
     "slide_type": "subslide"
    }
   },
   "source": [
    "\n",
    " ## Beispiel Testen von `MessageQueueDist`\n",
    "\n",
    " Siehe `Examples/MessageQueueDist`"
   ]
  },
  {
   "cell_type": "markdown",
   "id": "975fa295",
   "metadata": {
    "lang": "de",
    "slideshow": {
     "slide_type": "subslide"
    }
   },
   "source": [
    "## Workshop\n",
    "\n",
    "- `Workshop_136_todo_list_v3`\n",
    "- Bis Abschnitt \"Laden und Speichern\""
   ]
  },
  {
   "cell_type": "code",
   "execution_count": null,
   "id": "39e39d17",
   "metadata": {
    "tags": [
     "keep"
    ]
   },
   "outputs": [],
   "source": []
  }
 ],
 "metadata": {
  "kernelspec": {
   "display_name": "Python 3 (ipykernel)",
   "language": "python",
   "name": "python3"
  }
 },
 "nbformat": 4,
 "nbformat_minor": 5
}
