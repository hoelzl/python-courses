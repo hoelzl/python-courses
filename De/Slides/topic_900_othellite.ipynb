{
 "cells": [
  {
   "cell_type": "markdown",
   "id": "c8e8c82a",
   "metadata": {
    "lang": "de",
    "slideshow": {
     "slide_type": "slide"
    }
   },
   "source": [
    "<img src=\"img/python-logo-notext.svg\"\n",
    "     style=\"display:block;margin:auto;width:10%\"/>\n",
    "<br>\n",
    "<div style=\"text-align:center; font-size:200%;\"><b>Fallstudie: Othellite</b></div>\n",
    "<br/>\n",
    "<div style=\"text-align:center;\">Dr. Matthias Hölzl</div>"
   ]
  },
  {
   "cell_type": "code",
   "execution_count": null,
   "id": "6ea3e5fd",
   "metadata": {
    "tags": [
     "keep"
    ]
   },
   "outputs": [],
   "source": [
    "from collections.abc import Sequence\n",
    "from enum import Enum\n",
    "from dataclasses import dataclass, field\n",
    "import reprlib\n",
    "from typing import Union\n",
    "from random import sample\n",
    "\n",
    "try:\n",
    "    import numpy as np\n",
    "except ModuleNotFoundError:\n",
    "    print(\"NumPy not found, some (minor) examples may not work\")"
   ]
  },
  {
   "cell_type": "markdown",
   "id": "a0de363b",
   "metadata": {
    "lang": "de"
   },
   "source": [
    "\n",
    "# Othellite\n",
    "\n",
    "Im Folgenden wollen wir eine vereinfachte Variante des Spiels Reversi (auch\n",
    "unter dem Handelsnamen Othello bekannt) implementieren. Das Spiel wird auf\n",
    "einem Brett mit 8x8 Feldern gespielt, auf die Spieler schwarze oder\n",
    "weiße Spielsteine legen können. Die genauen Regeln sind\n",
    "[im Wikipedia Artikel](https://de.wikipedia.org/wiki/Othello_(Spiel))\n",
    "beschrieben."
   ]
  },
  {
   "cell_type": "markdown",
   "id": "17811d77",
   "metadata": {
    "lang": "de"
   },
   "source": [
    "\n",
    "Wir definieren eine Enumeration, die den Zustand eines einzelnen Feldes auf\n",
    "dem Brett beschreibt:"
   ]
  },
  {
   "cell_type": "code",
   "execution_count": null,
   "id": "641b5423",
   "metadata": {},
   "outputs": [],
   "source": [
    "class Field(Enum):\n",
    "    EMPTY = \"\\N{Open Box}\"\n",
    "    LIGHT = \"\\N{Medium White Circle}\"\n",
    "    DARK = \"\\N{Medium Black Circle}\""
   ]
  },
  {
   "cell_type": "code",
   "execution_count": null,
   "id": "5d527be1",
   "metadata": {
    "lines_to_next_cell": 2,
    "tags": [
     "keep"
    ]
   },
   "outputs": [],
   "source": [
    "print(\"Fields:           \", list(Field))\n",
    "print(\"Empty field:      \", Field.DARK)\n",
    "print(\"Light field:      \", Field.LIGHT)\n",
    "print(\"Dark field:       \", Field.DARK)\n",
    "print(\"Light field value:\", Field.LIGHT.value)\n",
    "print(\"Light field name: \", Field.LIGHT.name)"
   ]
  },
  {
   "cell_type": "markdown",
   "id": "2d666191",
   "metadata": {
    "lang": "de",
    "lines_to_next_cell": 2
   },
   "source": [
    "\n",
    "## Mini-Workshop\n",
    "\n",
    "Definieren Sie eine Funktion `is_occupied(f: Field) -> bool`,\n",
    "die genau dann `True` zurückgibt, wenn `field` nicht leer ist."
   ]
  },
  {
   "cell_type": "code",
   "execution_count": null,
   "id": "54dc2a5e",
   "metadata": {
    "tags": [
     "keep"
    ]
   },
   "outputs": [],
   "source": [
    "def is_occupied(f: Field) -> bool:\n",
    "    return f is not Field.EMPTY"
   ]
  },
  {
   "cell_type": "code",
   "execution_count": null,
   "id": "4adca67b",
   "metadata": {
    "lines_to_next_cell": 2,
    "tags": [
     "keep"
    ]
   },
   "outputs": [],
   "source": [
    "assert is_occupied(Field.DARK)\n",
    "assert is_occupied(Field.LIGHT)\n",
    "assert not is_occupied(Field.EMPTY)"
   ]
  },
  {
   "cell_type": "markdown",
   "id": "b6837922",
   "metadata": {
    "lang": "de",
    "lines_to_next_cell": 2
   },
   "source": [
    "\n",
    "## Mini-Workshop\n",
    "\n",
    "Definieren Sie eine Enumeration `Player`, die analog zu `Field` die beiden\n",
    "Spieler beschreibt. Drucken Sie ähnlich wie für `Field` die möglichen Werte\n",
    "sowie Value und Namen für einen Enum-Wert aus."
   ]
  },
  {
   "cell_type": "code",
   "execution_count": null,
   "id": "256b4b06",
   "metadata": {},
   "outputs": [],
   "source": [
    "class Player(Enum):\n",
    "    LIGHT = 0\n",
    "    DARK = 1"
   ]
  },
  {
   "cell_type": "code",
   "execution_count": null,
   "id": "dd79ff16",
   "metadata": {},
   "outputs": [],
   "source": [
    "print(\"Players:           \", list(Player))\n",
    "print(\"Light player:      \", Player.LIGHT)\n",
    "print(\"Dark player:       \", Player.DARK)\n",
    "print(\"Light player value:\", Player.LIGHT.value)\n",
    "print(\"Light player name: \", Player.LIGHT.name)"
   ]
  },
  {
   "cell_type": "markdown",
   "id": "fca2f222",
   "metadata": {
    "lang": "de"
   },
   "source": [
    "\n",
    "## Mini-Workshop\n",
    "\n",
    "Definieren Sie eine Funktion\n",
    "`is_field_owned_by_opponent(p: Player, f: Field) -> bool`,\n",
    "die genau dann `True` zurückgibt, wenn der Spielstein auf Feld `f` dem\n",
    "Gegner gehört, d.h., wenn `f` belegt ist und der Stein auf `f` nicht die\n",
    "gleiche Farbe hat wie der Spieler.\n",
    "\n",
    "Überprüfen Sie, dass Ihre Implementierung die angegebenen Assertions erfüllt.\n",
    "\n",
    "Implementieren Sie eine entsprechende Methode `is_field_owned_by_player()`."
   ]
  },
  {
   "cell_type": "code",
   "execution_count": null,
   "id": "6699d95a",
   "metadata": {},
   "outputs": [],
   "source": [
    "def is_field_owned_by_opponent(p: Player, f: Field) -> bool:\n",
    "    if p is Player.DARK:\n",
    "        return f is Field.LIGHT\n",
    "    else:\n",
    "        return f is Field.DARK"
   ]
  },
  {
   "cell_type": "code",
   "execution_count": null,
   "id": "5af98ed7",
   "metadata": {
    "tags": [
     "keep"
    ]
   },
   "outputs": [],
   "source": [
    "assert is_field_owned_by_opponent(Player.LIGHT, Field.DARK)\n",
    "assert is_field_owned_by_opponent(Player.DARK, Field.LIGHT)\n",
    "assert not is_field_owned_by_opponent(Player.DARK, Field.DARK)\n",
    "assert not is_field_owned_by_opponent(Player.DARK, Field.EMPTY)\n",
    "assert not is_field_owned_by_opponent(Player.LIGHT, Field.LIGHT)\n",
    "assert not is_field_owned_by_opponent(Player.LIGHT, Field.EMPTY)"
   ]
  },
  {
   "cell_type": "code",
   "execution_count": null,
   "id": "de64d498",
   "metadata": {},
   "outputs": [],
   "source": [
    "def is_field_owned_by_player(p: Player, f: Field) -> bool:\n",
    "    if p is Player.DARK:\n",
    "        return f is Field.DARK\n",
    "    else:\n",
    "        return f is Field.LIGHT"
   ]
  },
  {
   "cell_type": "code",
   "execution_count": null,
   "id": "1e39bc8c",
   "metadata": {
    "tags": [
     "keep"
    ]
   },
   "outputs": [],
   "source": [
    "assert is_field_owned_by_player(Player.LIGHT, Field.LIGHT)\n",
    "assert is_field_owned_by_player(Player.DARK, Field.DARK)\n",
    "assert not is_field_owned_by_player(Player.DARK, Field.LIGHT)\n",
    "assert not is_field_owned_by_player(Player.DARK, Field.EMPTY)\n",
    "assert not is_field_owned_by_player(Player.LIGHT, Field.DARK)\n",
    "assert not is_field_owned_by_player(Player.LIGHT, Field.EMPTY)"
   ]
  },
  {
   "cell_type": "markdown",
   "id": "bafd1cc4",
   "metadata": {
    "lang": "de"
   },
   "source": [
    "\n",
    "Wir wollen auf die einzelnen Felder eines 8x8 Spielfelds mittels eines\n",
    "zweidimensionalen Index-Werts zugreifen: `board[0, 0]` steht für das linke\n",
    "obere Feld, `board[0, 1]` für das Feld rechts daneben, usw.\n",
    "\n",
    "Das ist einfach, wenn wir ein zweidimensionales Array als zugrunde liegende\n",
    "Datenstruktur verwenden können, z.B. das `ndarray` von NumPy. In diesem Fall\n",
    "delegieren wir einfach `__getitem__()` und `__setitem__()` an die\n",
    "entsprechenden Methoden des NumPy Arrays.\n",
    "\n",
    "Die mittleren 4 Felder des Spielfelds initialisieren wir mit diagonal\n",
    "angeordneten Steinen.\n",
    "\n",
    "<!--\n",
    "We want to be able to access the individual fields of the 8x8 board using\n",
    "a 2-dimensional index notation: `board[0, 0]` for the field in the upper\n",
    "left corner, `board[0, 1]` for the field to the right of the upper left\n",
    "corner, etc.\n",
    "\n",
    "This is easy when using a two-dimensional array, such as NumPy's `ndarray`.\n",
    "We simply need to delegate the `__getitem__()` and `__setitem__()` methods\n",
    "to the NumPy array:\n",
    "-->"
   ]
  },
  {
   "cell_type": "code",
   "execution_count": null,
   "id": "131179c1",
   "metadata": {},
   "outputs": [],
   "source": [
    "@dataclass()\n",
    "class NumPyBoard:\n",
    "    _fields: np.array = field(default_factory=lambda: np.array([[Field.EMPTY] * 8] * 8))\n",
    "\n",
    "    def __post_init__(self):\n",
    "        self[3, 3] = Field.DARK\n",
    "        self[3, 4] = Field.LIGHT\n",
    "        self[4, 3] = Field.LIGHT\n",
    "        self[4, 4] = Field.DARK\n",
    "\n",
    "    def __getitem__(self, item) -> Union[Field, np.ndarray]:\n",
    "        return self._fields[item]\n",
    "\n",
    "    def __setitem__(self, key, value) -> None:\n",
    "        self._fields[key] = value\n",
    "\n",
    "    def __iter__(self):\n",
    "        return iter(self._fields)\n",
    "\n",
    "    def __repr__(self) -> str:\n",
    "        name = type(self).__name__\n",
    "        return f\"{name}({reprlib.repr(self._fields)})\"\n",
    "\n",
    "    def __str__(self) -> str:\n",
    "        result = \"\"\n",
    "        prefix = \"|\"\n",
    "        for row_index in range(8):\n",
    "            result += prefix\n",
    "            for col in range(8):\n",
    "                result += str(self[row_index, col].value) + \"|\"\n",
    "            prefix = \"\\n|\"\n",
    "        return result"
   ]
  },
  {
   "cell_type": "code",
   "execution_count": null,
   "id": "b9597093",
   "metadata": {},
   "outputs": [],
   "source": [
    "npb = NumPyBoard()\n",
    "npb[0, 0] = Field.DARK\n",
    "npb[0, 1] = Field.LIGHT\n",
    "print(npb)"
   ]
  },
  {
   "cell_type": "markdown",
   "id": "0b7e687f",
   "metadata": {
    "lang": "de"
   },
   "source": [
    "\n",
    "Dadurch, dass der Index an das NumPy Array weitergereicht wird, stehen auch\n",
    "mächtigere Zugriffsvarianten, wie z.B. Slicing zur Verfügung:"
   ]
  },
  {
   "cell_type": "code",
   "execution_count": null,
   "id": "62627df2",
   "metadata": {
    "lines_to_next_cell": 2,
    "tags": [
     "keep"
    ]
   },
   "outputs": [],
   "source": [
    "npb[0, 2:] = Field.DARK\n",
    "npb[1:3, 1:3] = Field.LIGHT\n",
    "print(npb)"
   ]
  },
  {
   "cell_type": "markdown",
   "id": "8dd184fe",
   "metadata": {
    "lang": "de",
    "lines_to_next_cell": 2
   },
   "source": [
    "## Mini-Workshop Compute Linear Index\n",
    "\n",
    "Wenn wir eine Python Liste als Speicher für das Spielfeld verwenden wollen,\n",
    "müssen wir die Umrechnung von zweidimensionalen Index-Werten in einen\n",
    "eindimensionalen Index selber vornehmen.\n",
    "\n",
    "Das geht indem wir für eine Position `(r, c)` den Wert `r * 8 + c` berechnen.\n",
    "Für den Fall, dass einer der Indices nicht `>= 0` und `< 8` ist soll eine\n",
    "geeignete Exception ausgelöst werden.\n",
    "\n",
    "Implementieren Sie eine Funktion `compute_linear_index()` die diese Aufgabe\n",
    "übernimmt."
   ]
  },
  {
   "cell_type": "code",
   "execution_count": null,
   "id": "cd0ab991",
   "metadata": {
    "lines_to_next_cell": 2
   },
   "outputs": [],
   "source": [
    "def compute_linear_index(index):\n",
    "    \"\"\"\n",
    "    Compute the linear index for the given (possibly complex) index.\n",
    "\n",
    "    If `index` is already a linear index or sliced it is returned unchanged.\n",
    "    If it is a pair of numbers, each between 0 and 7, the corresponding\n",
    "    linear index into an 8x8 grid is computed, using the usual conventions\n",
    "    for multidimensional indexing, i.e., the first index is the row, the\n",
    "    second index the column.\n",
    "\n",
    "    (For a real application this function should probably be extended to\n",
    "    convert 2-dimensional slices into 1-dimensional slices as well, but that\n",
    "    is too complex for this example.)\n",
    "\n",
    "    :param index: A linear index, a pair of indices or a linear slice\n",
    "    :return: A linear index or slice\n",
    "    \"\"\"\n",
    "    try:\n",
    "        row, column = index\n",
    "        if 0 <= row <= 7:\n",
    "            raise ValueError(f\"Row index {row} out of range.\")\n",
    "        if 0 <= column <= 7:\n",
    "            raise ValueError(\"Column index out of range.\")\n",
    "        return row * 8 + column\n",
    "    except TypeError:\n",
    "        return index"
   ]
  },
  {
   "cell_type": "markdown",
   "id": "40989da5",
   "metadata": {
    "lang": "de",
    "lines_to_next_cell": 2
   },
   "source": [
    "\n",
    "## Mini-Workshop\n",
    "\n",
    "Implementieren Sie eine Klasse `Board`, die ein 8x8 Othellite Brett\n",
    "repräsentiert, das den Zustand des Bretts in einer Liste speichert.\n",
    "Sie können sich bei der Implementierung an der Klasse `NumPyBoard`\n",
    "orientieren, und `compute_linear_index` zur Berechnung von Index-Werten\n",
    "verwenden."
   ]
  },
  {
   "cell_type": "code",
   "execution_count": null,
   "id": "2d139653",
   "metadata": {},
   "outputs": [],
   "source": [
    "@dataclass(repr=False)\n",
    "class Board:\n",
    "    _fields: list[Field] = field(default_factory=lambda: [Field.EMPTY] * 64)\n",
    "\n",
    "    def __post_init__(self):\n",
    "        self[3, 3] = Field.DARK\n",
    "        self[3, 4] = Field.LIGHT\n",
    "        self[4, 3] = Field.LIGHT\n",
    "        self[4, 4] = Field.DARK\n",
    "\n",
    "    def __getitem__(self, index) -> Field:\n",
    "        return self._fields[compute_linear_index(index)]\n",
    "\n",
    "    def __setitem__(self, index, value):\n",
    "        self._fields[compute_linear_index(index)] = value\n",
    "\n",
    "    def __iter__(self):\n",
    "        return iter(self._fields)\n",
    "\n",
    "    def __repr__(self) -> str:\n",
    "        name = type(self).__name__\n",
    "        return f\"{name}({reprlib.repr(self._fields)})\"\n",
    "\n",
    "    def __str__(self) -> str:\n",
    "        result = \"\"\n",
    "        prefix = \"|\"\n",
    "        for row in range(8):\n",
    "            result += prefix\n",
    "            for col in range(8):\n",
    "                result += str(self[row, col].value) + \"|\"\n",
    "            prefix = \"\\n|\"\n",
    "        return result"
   ]
  },
  {
   "cell_type": "code",
   "execution_count": null,
   "id": "d6aa4d30",
   "metadata": {},
   "outputs": [],
   "source": [
    "board = Board()\n",
    "board[0, 0] = Field.DARK\n",
    "board[0, 2] = Field.DARK\n",
    "board[0, 1] = Field.LIGHT\n",
    "print(str(board))\n",
    "board[:3]"
   ]
  },
  {
   "cell_type": "markdown",
   "id": "eabe53f8",
   "metadata": {
    "lang": "de"
   },
   "source": [
    "\n",
    "Wir definieren eine weitere Enumeration für \"Himmelsrichtungen\". Die\n",
    "Schlüssel der Enumeration sollen Abkürzungen für die Kompassrichtungen (N,\n",
    "NE, E, ...) sein. Als Wert soll jeweils der zur Bewegung in diese Richtung\n",
    "benötigte \"Offset\" verwendet werden:\n",
    "\n",
    "- `(-1, 0)` für eine Bewegung in Richtung Norden,\n",
    "- `(0, 1)` für eine Bewegung in Richtung Osten,\n",
    "- `(1, 0)` für eine Bewegung in Richtung Süden,\n",
    "- `(0, -1)` für eine Bewegung in Richtung Westen,\n",
    "- `(-1, 1)` für eine Bewegung in Richtung Nord-Osten,\n",
    "- `(1, 1)` für eine Bewegung in Richtung Süd-Osten,\n",
    "- `(-1, -1)` für eine Bewegung in Richtung Nord-Westen,\n",
    "- `(1, -1` für eine Bewegung in Richtung Süd-Westen.\n",
    "\n",
    "<!--\n",
    "We define yet another enumeration, this time for directions.\n",
    "The keys of this enumeration should be the compass directions (N, NE, E, ...),\n",
    "the values should be the (x, y) offset to move to this field in a\n",
    "right-handed coordinate system, i.e.,\n",
    "- `(-1, 0)` for moving north,\n",
    "- `(0, 1)` for moving east,\n",
    "- `(1, 0)` for moving south,\n",
    "- `(0, -1)` for moving west,\n",
    "- `(-1, 1)` for moving north-east,\n",
    "- `(1, 1)` for moving south-east,\n",
    "- `(-1, -1)` for moving north-west,\n",
    "- `(1, -1` for moving south-west.\n",
    "-->"
   ]
  },
  {
   "cell_type": "markdown",
   "id": "b39d5e2d",
   "metadata": {
    "lang": "de"
   },
   "source": [
    "\n",
    "## Mini-Workshop\n",
    "\n",
    "Definieren Sie eine Enumeration `Directions`, wie gerade beschrieben."
   ]
  },
  {
   "cell_type": "code",
   "execution_count": null,
   "id": "eef261ba",
   "metadata": {},
   "outputs": [],
   "source": [
    "class DirectionV0(Enum):\n",
    "    N = (-1, 0)\n",
    "    NE = (-1, 1)\n",
    "    E = (0, 1)\n",
    "    SE = (1, 1)\n",
    "    S = (1, 0)\n",
    "    SW = (1, -1)\n",
    "    W = (0, -1)\n",
    "    NW = (-1, -1)"
   ]
  },
  {
   "cell_type": "markdown",
   "id": "e5bf3549",
   "metadata": {
    "lang": "de"
   },
   "source": [
    "Es ist bei Enumerationen möglich, mehrere Schlüssel für den gleichen Wert\n",
    "zu definieren (also gewissermaßen Synonyme anzugeben).\n",
    "\n",
    "```python\n",
    "class Synonyms(Enum):\n",
    "    DRINK = 0\n",
    "    BEVERAGE = 0\n",
    "    FOOD = 1\n",
    "    BIG = 2\n",
    "    LARGE = 2\n",
    "    SMALL = 3\n",
    "```"
   ]
  },
  {
   "cell_type": "code",
   "execution_count": null,
   "id": "0fa696a0",
   "metadata": {
    "lines_to_next_cell": 2,
    "tags": [
     "keep"
    ]
   },
   "outputs": [],
   "source": [
    "print(Synonyms.DRINK is Synonyms.BEVERAGE)\n",
    "print(Synonyms.DRINK is not Synonyms.FOOD)\n",
    "print(Synonyms.BIG is Synonyms.LARGE)\n",
    "print(Synonyms.BIG is not Synonyms.SMALL)"
   ]
  },
  {
   "cell_type": "markdown",
   "id": "f4e0a822",
   "metadata": {
    "lang": "de",
    "lines_to_next_cell": 2
   },
   "source": [
    "\n",
    "Erweitern Sie die Enumeration `Directions` so, dass auch die vollständigen\n",
    "Namen der Kompassrichtungen (`NORTH`, `NORTH_EAST`, ...) verwendet werden\n",
    "können."
   ]
  },
  {
   "cell_type": "code",
   "execution_count": null,
   "id": "1a7bf8a7",
   "metadata": {},
   "outputs": [],
   "source": [
    "class Direction(Enum):\n",
    "    # Abbreviated names\n",
    "    N = (-1, 0)\n",
    "    NE = (-1, 1)\n",
    "    E = (0, 1)\n",
    "    SE = (1, 1)\n",
    "    S = (1, 0)\n",
    "    SW = (1, -1)\n",
    "    W = (0, -1)\n",
    "    NW = (-1, -1)\n",
    "    # Full names as aliases\n",
    "    NORTH = (-1, 0)\n",
    "    NORTH_EAST = (-1, 1)\n",
    "    EAST = (0, 1)\n",
    "    SOUTH_EAST = (1, 1)\n",
    "    SOUTH = (1, 0)\n",
    "    SOUTH_WEST = (1, -1)\n",
    "    WEST = (0, -1)\n",
    "    NORTH_WEST = (-1, -1)"
   ]
  },
  {
   "cell_type": "markdown",
   "id": "f99c14bc",
   "metadata": {
    "lang": "de"
   },
   "source": [
    "\n",
    "## Mini-Workshop\n",
    "\n",
    "Überprüfen Sie, dass die Abkürzungen und die vollständigen Name die\n",
    "gleichen Werte repräsentieren.\n",
    "<!--\n",
    "Ensure that the abbreviated names and the full names denote the\n",
    "same values.\n",
    "-->"
   ]
  },
  {
   "cell_type": "code",
   "execution_count": null,
   "id": "212838fe",
   "metadata": {},
   "outputs": [],
   "source": [
    "assert Direction.N is Direction.NORTH\n",
    "assert Direction.NE is Direction.NORTH_EAST\n",
    "assert Direction.E is Direction.EAST\n",
    "assert Direction.SE is Direction.SOUTH_EAST\n",
    "assert Direction.S is Direction.SOUTH\n",
    "assert Direction.SW is Direction.SOUTH_WEST\n",
    "assert Direction.W is Direction.WEST\n",
    "assert Direction.NW is Direction.NORTH_WEST"
   ]
  },
  {
   "cell_type": "code",
   "execution_count": null,
   "id": "d0456000",
   "metadata": {},
   "outputs": [],
   "source": [
    "print(\"Direction[0:3]: \", list(Direction)[:3])\n",
    "print(\"Direction values:\", [d.value for d in Direction])\n",
    "print(\"Direction names: \", [d.name for d in Direction])"
   ]
  },
  {
   "cell_type": "code",
   "execution_count": null,
   "id": "ac396577",
   "metadata": {
    "tags": [
     "keep"
    ]
   },
   "outputs": [],
   "source": [
    "Index = tuple[int, int]"
   ]
  },
  {
   "cell_type": "markdown",
   "id": "0bd9a9e9",
   "metadata": {
    "lang": "de"
   },
   "source": [
    "## Mini-Workshop\n",
    "\n",
    "Schreiben Sie eine Funktion `is_valid_index(index: Index) -> bool`,\n",
    "die genau dann `True` zurückgibt, wenn `index` ein gültiger Index für\n",
    "ein Othellite Brett ist, andernfalls `False`. Überprüfen Sie, ob Ihre\n",
    "Implementierung die Assertions erfüllt"
   ]
  },
  {
   "cell_type": "code",
   "execution_count": null,
   "id": "0ee07a17",
   "metadata": {},
   "outputs": [],
   "source": [
    "def is_valid_index(index: Index) -> bool:\n",
    "    row, column = index\n",
    "    return 0 <= row < 8 and 0 <= column < 8"
   ]
  },
  {
   "cell_type": "code",
   "execution_count": null,
   "id": "9cd7a31e",
   "metadata": {
    "lines_to_next_cell": 2,
    "tags": [
     "keep"
    ]
   },
   "outputs": [],
   "source": [
    "assert is_valid_index((0, 7))\n",
    "assert not is_valid_index((8, 1))\n",
    "assert not is_valid_index((1, 8))\n",
    "assert not is_valid_index((6, -1))\n",
    "assert not is_valid_index((-2, 4))"
   ]
  },
  {
   "cell_type": "markdown",
   "id": "394646ef",
   "metadata": {
    "lang": "de",
    "lines_to_next_cell": 2
   },
   "source": [
    "## Mini-Workshop\n",
    "\n",
    "Schreiben Sie eine Funktion\n",
    "`assert_valid_index(index: Index) -> None:`, die eine Exception vom\n",
    "Typ `IndexError` mit einer geeigneten Fehlermeldung auslöst, wenn `index`\n",
    "kein gültiger Index für ein Othellite-Brett ist. Überprüfen Sie, dass die\n",
    "Funktion für korrekte Argumente keinen Exception auslöst, dass sie aber für\n",
    "verschiedene Fehlerfälle eine Exception auslöst."
   ]
  },
  {
   "cell_type": "code",
   "execution_count": null,
   "id": "08f520c8",
   "metadata": {},
   "outputs": [],
   "source": [
    "def assert_valid_index(index: Index) -> None:\n",
    "    def assert_component_in_range(value: int, component: str):\n",
    "        if value < 0 or value >= 8:\n",
    "            raise IndexError(f\"{component} component of index {index} out or range.\")\n",
    "\n",
    "    x, y = index\n",
    "    assert_component_in_range(x, \"First\")\n",
    "    assert_component_in_range(y, \"Second\")"
   ]
  },
  {
   "cell_type": "code",
   "execution_count": null,
   "id": "dff24697",
   "metadata": {},
   "outputs": [],
   "source": [
    "assert_valid_index((2, 0))"
   ]
  },
  {
   "cell_type": "code",
   "execution_count": null,
   "id": "8ef221d3",
   "metadata": {},
   "outputs": [],
   "source": [
    "try:\n",
    "    assert_valid_index((-1, 3))\n",
    "except IndexError as err:\n",
    "    print(err)"
   ]
  },
  {
   "cell_type": "code",
   "execution_count": null,
   "id": "d9abe672",
   "metadata": {
    "lines_to_next_cell": 2
   },
   "outputs": [],
   "source": [
    "try:\n",
    "    assert_valid_index((1, 8))\n",
    "except IndexError as err:\n",
    "    print(err)"
   ]
  },
  {
   "cell_type": "markdown",
   "id": "b804c533",
   "metadata": {
    "lang": "de",
    "lines_to_next_cell": 2
   },
   "source": [
    "\n",
    "Schreiben Sie eine Funktion\n",
    "`next_index_in_direction(index: Index, direction: Direction)`,\n",
    "die zwei Werte zurückgibt, falls `index` ein gültiger Index ist:\n",
    "- den nächsten Index in Richtung `direction` und\n",
    "- `True` oder `False`, je nachdem ob der nächste Index gültig ist oder nicht.\n",
    "Falls `index` kein gültiger Index ist soll eine Exception vom Typ\n",
    "`IndexError` ausgelöst werden.\n",
    "\n",
    "*Hinweis:* Die Werte, die zu den Komponenten von `index` addiert werden\n",
    "müssen können Sie mittels `d_row, d_column = direction.value` berechnen.\n",
    "\n",
    "Überprüfen Sie, ob Ihre Implementierung die angegebenen Assertions erfüllt."
   ]
  },
  {
   "cell_type": "code",
   "execution_count": null,
   "id": "9a8d2d2e",
   "metadata": {},
   "outputs": [],
   "source": [
    "def next_index_in_direction(index: Index, direction: Direction):\n",
    "    assert_valid_index(index)\n",
    "    row, column = index\n",
    "    d_row, d_column = direction.value\n",
    "    next_index = (row + d_row, column + d_column)\n",
    "    return next_index, is_valid_index(next_index)"
   ]
  },
  {
   "cell_type": "code",
   "execution_count": null,
   "id": "f1424cf4",
   "metadata": {
    "tags": [
     "keep"
    ]
   },
   "outputs": [],
   "source": [
    "assert next_index_in_direction((0, 0), Direction.N) == ((-1, 0), False)\n",
    "assert next_index_in_direction((0, 0), Direction.NE) == ((-1, 1), False)\n",
    "assert next_index_in_direction((0, 0), Direction.E) == ((0, 1), True)\n",
    "assert next_index_in_direction((0, 0), Direction.SE) == ((1, 1), True)\n",
    "assert next_index_in_direction((0, 0), Direction.S) == ((1, 0), True)\n",
    "assert next_index_in_direction((0, 0), Direction.SW) == ((1, -1), False)\n",
    "assert next_index_in_direction((0, 0), Direction.W) == ((0, -1), False)\n",
    "assert next_index_in_direction((0, 0), Direction.NW) == ((-1, -1), False)"
   ]
  },
  {
   "cell_type": "code",
   "execution_count": null,
   "id": "27d476fb",
   "metadata": {
    "tags": [
     "keep"
    ]
   },
   "outputs": [],
   "source": [
    "assert next_index_in_direction((4, 5), Direction.N) == ((3, 5), True)\n",
    "assert next_index_in_direction((4, 5), Direction.NE) == ((3, 6), True)\n",
    "assert next_index_in_direction((4, 5), Direction.E) == ((4, 6), True)\n",
    "assert next_index_in_direction((4, 5), Direction.SE) == ((5, 6), True)\n",
    "assert next_index_in_direction((4, 5), Direction.S) == ((5, 5), True)\n",
    "assert next_index_in_direction((4, 5), Direction.SW) == ((5, 4), True)\n",
    "assert next_index_in_direction((4, 5), Direction.W) == ((4, 4), True)\n",
    "assert next_index_in_direction((4, 5), Direction.NW) == ((3, 4), True)"
   ]
  },
  {
   "cell_type": "code",
   "execution_count": null,
   "id": "81b1094d",
   "metadata": {
    "tags": [
     "keep"
    ]
   },
   "outputs": [],
   "source": [
    "assert next_index_in_direction((7, 7), Direction.N) == ((6, 7), True)\n",
    "assert next_index_in_direction((7, 7), Direction.NE) == ((6, 8), False)\n",
    "assert next_index_in_direction((7, 7), Direction.E) == ((7, 8), False)\n",
    "assert next_index_in_direction((7, 7), Direction.SE) == ((8, 8), False)\n",
    "assert next_index_in_direction((7, 7), Direction.S) == ((8, 7), False)\n",
    "assert next_index_in_direction((7, 7), Direction.SW) == ((8, 6), False)\n",
    "assert next_index_in_direction((7, 7), Direction.W) == ((7, 6), True)\n",
    "assert next_index_in_direction((7, 7), Direction.NW) == ((6, 6), True)"
   ]
  },
  {
   "cell_type": "code",
   "execution_count": null,
   "id": "73ed8cdd",
   "metadata": {
    "tags": [
     "keep"
    ]
   },
   "outputs": [],
   "source": [
    "try:\n",
    "    next_index_in_direction((7, 8), Direction.S)\n",
    "except IndexError as err:\n",
    "    print(err)"
   ]
  },
  {
   "cell_type": "markdown",
   "id": "09ec51d5",
   "metadata": {
    "lang": "de"
   },
   "source": [
    "\n",
    "Wir wollen unsere Klasse `Board` jetzt um eine Methode\n",
    "\n",
    "```\n",
    "_fields_flipped_in_direction(self, p: Player, index: Index,\n",
    "                             d: Direction) -> set[Index]\n",
    "```\n",
    "\n",
    "erweitern, die die Indizes aller Felder zurückgibt, die der Spieler ausgehend\n",
    "vom Feld `index` in Richtung `d` umdrehen kann."
   ]
  },
  {
   "cell_type": "code",
   "execution_count": null,
   "id": "b0be6707",
   "metadata": {},
   "outputs": [],
   "source": [
    "# This is very specific to the use in `Board`...\n",
    "def _find_rightmost(seq: Sequence):\n",
    "    for i in range(len(seq) - 1, -1, -1):\n",
    "        if seq[i]:\n",
    "            return i\n",
    "    return 0"
   ]
  },
  {
   "cell_type": "code",
   "execution_count": null,
   "id": "e3151218",
   "metadata": {
    "tags": [
     "keep"
    ]
   },
   "outputs": [],
   "source": [
    "assert _find_rightmost([True, False, True, False]) == 2\n",
    "assert _find_rightmost([False, False, False]) == 0"
   ]
  },
  {
   "cell_type": "code",
   "execution_count": null,
   "id": "4dfd48ca",
   "metadata": {},
   "outputs": [],
   "source": [
    "@dataclass(repr=False)\n",
    "class Board:\n",
    "    _fields: list[Field] = field(default_factory=lambda: [Field.EMPTY] * 64)\n",
    "\n",
    "    def __post_init__(self):\n",
    "        self[3, 3] = Field.DARK\n",
    "        self[3, 4] = Field.LIGHT\n",
    "        self[4, 3] = Field.LIGHT\n",
    "        self[4, 4] = Field.DARK\n",
    "\n",
    "    def __getitem__(self, index) -> Field:\n",
    "        return self._fields[compute_linear_index(index)]\n",
    "\n",
    "    def __setitem__(self, index, value):\n",
    "        self._fields[compute_linear_index(index)] = value\n",
    "\n",
    "    def __iter__(self):\n",
    "        return iter(self._fields)\n",
    "\n",
    "    def __repr__(self) -> str:\n",
    "        name = type(self).__name__\n",
    "        return f\"{name}({reprlib.repr(self._fields)})\"\n",
    "\n",
    "    def __str__(self) -> str:\n",
    "        result = \"\"\n",
    "        prefix = \"|\"\n",
    "        for row in range(8):\n",
    "            result += prefix\n",
    "            for col in range(8):\n",
    "                result += str(self[row, col].value) + \"|\"\n",
    "            prefix = \"\\n|\"\n",
    "        return result\n",
    "\n",
    "    def _indices_that_can_be_flipped(\n",
    "        self, player: Player, occupied_indices: list[Index]\n",
    "    ) -> set[Index]:\n",
    "        is_self_owned_field = [\n",
    "            is_field_owned_by_player(player, self[index]) for index in occupied_indices\n",
    "        ]\n",
    "        stop_index = _find_rightmost(is_self_owned_field)\n",
    "        return set(\n",
    "            index\n",
    "            for index in occupied_indices[:stop_index]\n",
    "            if is_field_owned_by_opponent(player, self[index])\n",
    "        )\n",
    "\n",
    "    def _indices_to_flip_in_direction(\n",
    "        self, p: Player, index: Index, d: Direction\n",
    "    ) -> set[Index]:\n",
    "        next_index, is_valid = next_index_in_direction(index, d)\n",
    "        occupied_indices = []\n",
    "        while is_valid:\n",
    "            if not is_occupied(self[next_index]):\n",
    "                break\n",
    "            occupied_indices.append(next_index)\n",
    "            next_index, is_valid = next_index_in_direction(next_index, d)\n",
    "        return self._indices_that_can_be_flipped(p, occupied_indices)"
   ]
  },
  {
   "cell_type": "code",
   "execution_count": null,
   "id": "44f43fe9",
   "metadata": {
    "tags": [
     "keep"
    ]
   },
   "outputs": [],
   "source": [
    "def assert_flips_direction(player, index, directions):\n",
    "    board = Board()\n",
    "    board[index] = Field.LIGHT if player == Player.LIGHT else Field.DARK\n",
    "    print(f\"Player {player} at {index} flips {directions}.\")\n",
    "    print(board)\n",
    "\n",
    "    for d in set(Direction) - directions:\n",
    "        # noinspection PyProtectedMember\n",
    "        result = board._indices_to_flip_in_direction(player, index, d)\n",
    "        assert result == set(), f\"Fields flipped in {d} are not empty.\"\n",
    "\n",
    "    for d in directions:\n",
    "        # noinspection PyProtectedMember\n",
    "        result = board._indices_to_flip_in_direction(player, index, d)\n",
    "        assert result != set(), f\"Fields flipped in {d} are empty.\""
   ]
  },
  {
   "cell_type": "code",
   "execution_count": null,
   "id": "e73b348d",
   "metadata": {
    "tags": [
     "keep"
    ]
   },
   "outputs": [],
   "source": [
    "assert_flips_direction(Player.LIGHT, (0, 0), set())\n",
    "assert_flips_direction(Player.LIGHT, (2, 3), {Direction.S})\n",
    "assert_flips_direction(Player.LIGHT, (3, 2), {Direction.E})\n",
    "assert_flips_direction(Player.LIGHT, (4, 5), {Direction.W})\n",
    "assert_flips_direction(Player.LIGHT, (5, 2), set())\n",
    "assert_flips_direction(Player.LIGHT, (5, 3), set())\n",
    "assert_flips_direction(Player.LIGHT, (5, 4), {Direction.N})\n",
    "assert_flips_direction(Player.LIGHT, (6, 4), set())"
   ]
  },
  {
   "cell_type": "code",
   "execution_count": null,
   "id": "129b1001",
   "metadata": {
    "tags": [
     "keep"
    ]
   },
   "outputs": [],
   "source": [
    "assert_flips_direction(Player.DARK, (0, 0), set())\n",
    "assert_flips_direction(Player.DARK, (2, 4), {Direction.S})\n",
    "assert_flips_direction(Player.DARK, (3, 5), {Direction.W})\n",
    "assert_flips_direction(Player.DARK, (4, 2), {Direction.E})\n",
    "assert_flips_direction(Player.DARK, (5, 2), set())\n",
    "assert_flips_direction(Player.DARK, (5, 3), {Direction.N})\n",
    "assert_flips_direction(Player.DARK, (5, 4), set())\n",
    "assert_flips_direction(Player.DARK, (6, 4), set())"
   ]
  },
  {
   "cell_type": "markdown",
   "id": "c1d95a0e",
   "metadata": {
    "lang": "de"
   },
   "source": [
    "\n",
    "## Mini-Workshop\n",
    "\n",
    "Erweitern Sie die Klasse `Board` um eine Methode\n",
    "`is_valid_move(self, player: Player, index: Index) -> bool`\n",
    "die genau dann `True` zurückgibt, wenn `index` eine gültiger Index für\n",
    "den nächsten Zug des Spielers `player` ist.\n",
    "\n",
    "Ein Index ist gültig, wenn\n",
    "- Er nicht schon besetzt ist,\n",
    "- Mindestens ein Stein des Gegenspielers durch den Zug umgedreht wird\n"
   ]
  },
  {
   "cell_type": "code",
   "execution_count": null,
   "id": "065c97cc",
   "metadata": {},
   "outputs": [],
   "source": [
    "@dataclass(repr=False)\n",
    "class Board:\n",
    "    _fields: list[Field] = field(default_factory=lambda: [Field.EMPTY] * 64)\n",
    "\n",
    "    def __post_init__(self):\n",
    "        self[3, 3] = Field.DARK\n",
    "        self[3, 4] = Field.LIGHT\n",
    "        self[4, 3] = Field.LIGHT\n",
    "        self[4, 4] = Field.DARK\n",
    "\n",
    "    def __getitem__(self, index) -> Field:\n",
    "        return self._fields[compute_linear_index(index)]\n",
    "\n",
    "    def __setitem__(self, index, value):\n",
    "        self._fields[compute_linear_index(index)] = value\n",
    "\n",
    "    def __iter__(self):\n",
    "        return iter(self._fields)\n",
    "\n",
    "    def __repr__(self) -> str:\n",
    "        name = type(self).__name__\n",
    "        return f\"{name}({reprlib.repr(self._fields)})\"\n",
    "\n",
    "    def __str__(self) -> str:\n",
    "        result = \"\"\n",
    "        prefix = \"|\"\n",
    "        for row in range(8):\n",
    "            result += prefix\n",
    "            for col in range(8):\n",
    "                result += str(self[row, col].value) + \"|\"\n",
    "            prefix = \"\\n|\"\n",
    "        return result\n",
    "\n",
    "    def _indices_that_can_be_flipped(\n",
    "        self, player: Player, occupied_indices: list[Index]\n",
    "    ) -> set[Index]:\n",
    "        is_self_owned_field = [\n",
    "            is_field_owned_by_player(player, self[index]) for index in occupied_indices\n",
    "        ]\n",
    "        stop_index = _find_rightmost(is_self_owned_field)\n",
    "        return set(\n",
    "            index\n",
    "            for index in occupied_indices[:stop_index]\n",
    "            if is_field_owned_by_opponent(player, self[index])\n",
    "        )\n",
    "\n",
    "    def _indices_to_flip_in_direction(\n",
    "        self, p: Player, index: Index, d: Direction\n",
    "    ) -> set[Index]:\n",
    "        next_index, is_valid = next_index_in_direction(index, d)\n",
    "        occupied_indices = []\n",
    "        while is_valid:\n",
    "            if not is_occupied(self[next_index]):\n",
    "                break\n",
    "            occupied_indices.append(next_index)\n",
    "            next_index, is_valid = next_index_in_direction(next_index, d)\n",
    "        return self._indices_that_can_be_flipped(p, occupied_indices)\n",
    "\n",
    "    def is_valid_move(self, player: Player, index: Index) -> bool:\n",
    "        if is_occupied(self[index]):\n",
    "            return False\n",
    "        for d in Direction:\n",
    "            if self._indices_to_flip_in_direction(player, index, d):\n",
    "                return True\n",
    "        return False"
   ]
  },
  {
   "cell_type": "code",
   "execution_count": null,
   "id": "2828cf9b",
   "metadata": {
    "tags": [
     "keep"
    ]
   },
   "outputs": [],
   "source": [
    "def assert_valid_moves(player, valid_indices):\n",
    "    board = Board()\n",
    "    for row in range(8):\n",
    "        for col in range(8):\n",
    "            index = (row, col)\n",
    "            result = board.is_valid_move(player, index)\n",
    "            if index in valid_indices:\n",
    "                assert result, f\"Index {index} should be valid.\"\n",
    "            else:\n",
    "                assert not result, f\"Index {index} is valid?\""
   ]
  },
  {
   "cell_type": "code",
   "execution_count": null,
   "id": "cbd05b71",
   "metadata": {
    "tags": [
     "keep"
    ]
   },
   "outputs": [],
   "source": [
    "print(Board())"
   ]
  },
  {
   "cell_type": "code",
   "execution_count": null,
   "id": "8430ef67",
   "metadata": {
    "tags": [
     "keep"
    ]
   },
   "outputs": [],
   "source": [
    "valid_moves_for_light_player = {(2, 3), (3, 2), (4, 5), (5, 4)}\n",
    "assert_valid_moves(Player.LIGHT, valid_moves_for_light_player)"
   ]
  },
  {
   "cell_type": "code",
   "execution_count": null,
   "id": "f1f0e523",
   "metadata": {
    "tags": [
     "keep"
    ]
   },
   "outputs": [],
   "source": [
    "valid_move_for_dark_player = {(2, 4), (3, 5), (4, 2), (5, 3)}\n",
    "assert_valid_moves(Player.DARK, valid_move_for_dark_player)"
   ]
  },
  {
   "cell_type": "markdown",
   "id": "08a4bd47",
   "metadata": {
    "lang": "de"
   },
   "source": [
    "\n",
    "## Mini-Workshop\n",
    "\n",
    "Erweitern Sie die Klasse `Board` um eine Methode\n",
    "`find_valid_moves(self, player: Player) -> set[Index]`,\n",
    "die alle für den Spieler `player` möglichen Züge zurückgibt.\n",
    "\n",
    "*Hinweis:* Das können Sie leicht mittels *Generate and Test* erreichen:\n",
    "Erzeugen Sie alle möglichen Züge und testen Sie dann für jeden Zug, ob\n",
    "er möglich ist."
   ]
  },
  {
   "cell_type": "code",
   "execution_count": null,
   "id": "ae010062",
   "metadata": {},
   "outputs": [],
   "source": [
    "@dataclass(repr=False)\n",
    "class Board:\n",
    "    _fields: list[Field] = field(default_factory=lambda: [Field.EMPTY] * 64)\n",
    "\n",
    "    def __post_init__(self):\n",
    "        self[3, 3] = Field.DARK\n",
    "        self[3, 4] = Field.LIGHT\n",
    "        self[4, 3] = Field.LIGHT\n",
    "        self[4, 4] = Field.DARK\n",
    "\n",
    "    def __getitem__(self, index) -> Field:\n",
    "        return self._fields[compute_linear_index(index)]\n",
    "\n",
    "    def __setitem__(self, index, value):\n",
    "        self._fields[compute_linear_index(index)] = value\n",
    "\n",
    "    def __iter__(self):\n",
    "        return iter(self._fields)\n",
    "\n",
    "    def __repr__(self) -> str:\n",
    "        name = type(self).__name__\n",
    "        return f\"{name}({reprlib.repr(self._fields)})\"\n",
    "\n",
    "    def __str__(self) -> str:\n",
    "        result = \"\"\n",
    "        prefix = \"|\"\n",
    "        for row in range(8):\n",
    "            result += prefix\n",
    "            for col in range(8):\n",
    "                result += str(self[row, col].value) + \"|\"\n",
    "            prefix = \"\\n|\"\n",
    "        return result\n",
    "\n",
    "    def _indices_that_can_be_flipped(\n",
    "        self, player: Player, occupied_indices: list[Index]\n",
    "    ) -> set[Index]:\n",
    "        is_self_owned_field = [\n",
    "            is_field_owned_by_player(player, self[index]) for index in occupied_indices\n",
    "        ]\n",
    "        stop_index = _find_rightmost(is_self_owned_field)\n",
    "        return set(\n",
    "            index\n",
    "            for index in occupied_indices[:stop_index]\n",
    "            if is_field_owned_by_opponent(player, self[index])\n",
    "        )\n",
    "\n",
    "    def _indices_to_flip_in_direction(\n",
    "        self, p: Player, index: Index, d: Direction\n",
    "    ) -> set[Index]:\n",
    "        next_index, is_valid = next_index_in_direction(index, d)\n",
    "        occupied_indices = []\n",
    "        while is_valid:\n",
    "            if not is_occupied(self[next_index]):\n",
    "                break\n",
    "            occupied_indices.append(next_index)\n",
    "            next_index, is_valid = next_index_in_direction(next_index, d)\n",
    "        return self._indices_that_can_be_flipped(p, occupied_indices)\n",
    "\n",
    "    def is_valid_move(self, player: Player, index: Index) -> bool:\n",
    "        if is_occupied(self[index]):\n",
    "            return False\n",
    "        for d in Direction:\n",
    "            if self._indices_to_flip_in_direction(player, index, d):\n",
    "                return True\n",
    "        return False\n",
    "\n",
    "    def find_valid_moves(self, player: Player) -> set[Index]:\n",
    "        result = set()\n",
    "        for row in range(8):\n",
    "            for column in range(8):\n",
    "                move = (row, column)\n",
    "                if self.is_valid_move(player, move):\n",
    "                    result.add(move)\n",
    "        return result"
   ]
  },
  {
   "cell_type": "code",
   "execution_count": null,
   "id": "90001014",
   "metadata": {
    "lines_to_next_cell": 2,
    "tags": [
     "keep"
    ]
   },
   "outputs": [],
   "source": [
    "board = Board()\n",
    "assert board.find_valid_moves(Player.LIGHT) == valid_moves_for_light_player\n",
    "assert board.find_valid_moves(Player.DARK) == valid_move_for_dark_player"
   ]
  },
  {
   "cell_type": "markdown",
   "id": "780740fd",
   "metadata": {
    "lang": "de",
    "lines_to_next_cell": 2
   },
   "source": [
    "\n",
    "## Mini-Workshop\n",
    "\n",
    "Schreiben Sie eine Methode\n",
    "`play_move(self, player: Player, index: Index) -> None`,\n",
    "die den Zug von `player` auf das Feld `index` ausführt.\n",
    "Falls der Zug ungültig ist, soll eine Exception ausgelöst werden.\n",
    "Falls der Zug gültig ist, sollen alle Felder, die durch den Zug\n",
    "umgedreht werden von dieser Methode auf den korrekten Wert gesetzt werden.\n",
    "\n",
    "Schreiben Sie dazu geeignete Hilfsmethoden, damit `play_move` nicht zu\n",
    "viele Verantwortlichkeiten hat."
   ]
  },
  {
   "cell_type": "code",
   "execution_count": null,
   "id": "6033cdb0",
   "metadata": {},
   "outputs": [],
   "source": [
    "@dataclass(repr=False)\n",
    "class Board:\n",
    "    _fields: list[Field] = field(default_factory=lambda: [Field.EMPTY] * 64)\n",
    "\n",
    "    def __post_init__(self):\n",
    "        self[3, 3] = Field.DARK\n",
    "        self[3, 4] = Field.LIGHT\n",
    "        self[4, 3] = Field.LIGHT\n",
    "        self[4, 4] = Field.DARK\n",
    "\n",
    "    def __getitem__(self, index) -> Field:\n",
    "        return self._fields[compute_linear_index(index)]\n",
    "\n",
    "    def __setitem__(self, index, value):\n",
    "        self._fields[compute_linear_index(index)] = value\n",
    "\n",
    "    def __iter__(self):\n",
    "        return iter(self._fields)\n",
    "\n",
    "    def __repr__(self) -> str:\n",
    "        name = type(self).__name__\n",
    "        return f\"{name}({reprlib.repr(self._fields)})\"\n",
    "\n",
    "    def __str__(self) -> str:\n",
    "        result = \"\"\n",
    "        prefix = \"|\"\n",
    "        for row in range(8):\n",
    "            result += prefix\n",
    "            for col in range(8):\n",
    "                result += str(self[row, col].value) + \"|\"\n",
    "            prefix = \"\\n|\"\n",
    "        return result\n",
    "\n",
    "    def _indices_that_can_be_flipped(\n",
    "        self, player: Player, occupied_indices: list[Index]\n",
    "    ) -> set[Index]:\n",
    "        is_self_owned_field = [\n",
    "            is_field_owned_by_player(player, self[index]) for index in occupied_indices\n",
    "        ]\n",
    "        stop_index = _find_rightmost(is_self_owned_field)\n",
    "        return set(\n",
    "            index\n",
    "            for index in occupied_indices[:stop_index]\n",
    "            if is_field_owned_by_opponent(player, self[index])\n",
    "        )\n",
    "\n",
    "    def _indices_to_flip_in_direction(\n",
    "        self, p: Player, index: Index, d: Direction\n",
    "    ) -> set[Index]:\n",
    "        next_index, is_valid = next_index_in_direction(index, d)\n",
    "        occupied_indices = []\n",
    "        while is_valid:\n",
    "            if not is_occupied(self[next_index]):\n",
    "                break\n",
    "            occupied_indices.append(next_index)\n",
    "            next_index, is_valid = next_index_in_direction(next_index, d)\n",
    "        return self._indices_that_can_be_flipped(p, occupied_indices)\n",
    "\n",
    "    def is_valid_move(self, player: Player, index: Index) -> bool:\n",
    "        if is_occupied(self[index]):\n",
    "            return False\n",
    "        for d in Direction:\n",
    "            if self._indices_to_flip_in_direction(player, index, d):\n",
    "                return True\n",
    "        return False\n",
    "\n",
    "    def find_valid_moves(self, player: Player) -> set[Index]:\n",
    "        result = set()\n",
    "        for row in range(8):\n",
    "            for column in range(8):\n",
    "                move = (row, column)\n",
    "                if self.is_valid_move(player, move):\n",
    "                    result.add(move)\n",
    "        return result\n",
    "\n",
    "    def play_move(self, player: Player, index: Index) -> None:\n",
    "        if self.is_valid_move(player, index):\n",
    "            field = Field.LIGHT if player is Player.LIGHT else Field.DARK\n",
    "            self[index] = field\n",
    "            flipped_indices = self.find_flipped_indices(player, index)\n",
    "            self.flip_indices(field, flipped_indices)\n",
    "        else:\n",
    "            raise ValueError(f\"{index} is not a valid move\")\n",
    "\n",
    "    def find_flipped_indices(self, player: Player, index: Index) -> set[Index]:\n",
    "        result = set()\n",
    "        for d in Direction:\n",
    "            result |= self._indices_to_flip_in_direction(player, index, d)\n",
    "        return result\n",
    "\n",
    "    def flip_indices(self, field: Field, flipped_indices: set[Index]) -> None:\n",
    "        for index in flipped_indices:\n",
    "            self[index] = field"
   ]
  },
  {
   "cell_type": "code",
   "execution_count": null,
   "id": "2d8c720f",
   "metadata": {
    "tags": [
     "keep"
    ]
   },
   "outputs": [],
   "source": [
    "def play_some_random_moves(n: int = 10):\n",
    "    board = Board()\n",
    "    player = Player.DARK\n",
    "    for _ in range(n):\n",
    "        print(board)\n",
    "        moves = board.find_valid_moves(player)\n",
    "        if moves:\n",
    "            move = sample(list(moves), 1)[0]\n",
    "            print(f\"Player {player} plays {move}.\")\n",
    "            board.play_move(player, move)\n",
    "        else:\n",
    "            print(f\"{player} has no more valid moves.\")\n",
    "        player = Player.LIGHT if player == Player.DARK else Player.DARK\n",
    "    print(board)"
   ]
  },
  {
   "cell_type": "code",
   "execution_count": null,
   "id": "1bfc7aa5",
   "metadata": {
    "tags": [
     "keep"
    ]
   },
   "outputs": [],
   "source": [
    "play_some_random_moves()"
   ]
  }
 ],
 "metadata": {
  "kernelspec": {
   "display_name": "Python 3 (ipykernel)",
   "language": "python",
   "name": "python3"
  }
 },
 "nbformat": 4,
 "nbformat_minor": 5
}
