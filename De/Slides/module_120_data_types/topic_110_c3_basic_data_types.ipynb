{
 "cells": [
  {
   "cell_type": "markdown",
   "id": "1354d4f432ecf344",
   "metadata": {
    "lang": "de",
    "slideshow": {
     "slide_type": "slide"
    }
   },
   "source": [
    "<img src=\"../../img/python-logo-no-text.svg\"\n",
    "     style=\"display:block;margin:auto;width:10%\"/>\n",
    "<br>\n",
    "<div style=\"text-align:center; font-size:200%;\">\n",
    "  <b>Grundlegende Datentypen</b>\n",
    "</div>\n",
    "<br/>\n",
    "<div style=\"text-align:center;\">Dr. Matthias Hölzl</div>\n",
    "<br/>\n",
    "<div style=\"text-align:center;\">module_120_data_types/topic_110_c3_basic_data_types</div>"
   ]
  },
  {
   "cell_type": "markdown",
   "id": "4ba4bfae434fe697",
   "metadata": {
    "lang": "de",
    "slideshow": {
     "slide_type": "slide"
    }
   },
   "source": [
    "## Variablen und Datentypen\n",
    "\n",
    "Zahlen und Arithmetik:"
   ]
  },
  {
   "cell_type": "code",
   "execution_count": null,
   "id": "ad85990c9d0ebec8",
   "metadata": {},
   "outputs": [],
   "source": [
    "17 + 4 + 1"
   ]
  },
  {
   "cell_type": "code",
   "execution_count": null,
   "id": "e7cb031f3a0023df",
   "metadata": {},
   "outputs": [],
   "source": [
    "1.5 + 7.4"
   ]
  },
  {
   "cell_type": "code",
   "execution_count": null,
   "id": "7ef9033476cdf5b1",
   "metadata": {},
   "outputs": [],
   "source": [
    "1 + 2 * 3"
   ]
  },
  {
   "cell_type": "markdown",
   "id": "9893eb0654e9ba3b",
   "metadata": {
    "lang": "de",
    "slideshow": {
     "slide_type": "subslide"
    }
   },
   "source": [
    "## Zeichenketten"
   ]
  },
  {
   "cell_type": "code",
   "execution_count": null,
   "id": "8aae356c0c0e45d9",
   "metadata": {},
   "outputs": [],
   "source": [
    "\"This is a string\""
   ]
  },
  {
   "cell_type": "code",
   "execution_count": null,
   "id": "ec4ffe937946461f",
   "metadata": {},
   "outputs": [],
   "source": [
    "# fmt: off\n",
    "'This is also a string'\n",
    "# fmt: on"
   ]
  },
  {
   "cell_type": "code",
   "execution_count": null,
   "id": "3853e1c0f2697f84",
   "metadata": {},
   "outputs": [],
   "source": [
    "str(1 + 2)"
   ]
  },
  {
   "cell_type": "code",
   "execution_count": null,
   "id": "939faac9444464bd",
   "metadata": {
    "slideshow": {
     "slide_type": "subslide"
    }
   },
   "outputs": [],
   "source": [
    "\"3\" + \"abc\""
   ]
  },
  {
   "cell_type": "code",
   "execution_count": null,
   "id": "33acf1042701f73b",
   "metadata": {},
   "outputs": [],
   "source": [
    "\"literal strings \" \"can be concatenated \" \"by juxtaposition\""
   ]
  },
  {
   "cell_type": "markdown",
   "id": "1387f9a4096270f3",
   "metadata": {
    "lang": "de",
    "slideshow": {
     "slide_type": "subslide"
    }
   },
   "source": [
    "### Variablen"
   ]
  },
  {
   "cell_type": "code",
   "execution_count": null,
   "id": "09ced9699b38c5ca",
   "metadata": {},
   "outputs": [],
   "source": [
    "answer = 42"
   ]
  },
  {
   "cell_type": "code",
   "execution_count": null,
   "id": "79900f998d676bdc",
   "metadata": {},
   "outputs": [],
   "source": [
    "my_value = answer + 2"
   ]
  },
  {
   "cell_type": "markdown",
   "id": "2991adadae1aec72",
   "metadata": {
    "lang": "de",
    "slideshow": {
     "slide_type": "subslide"
    }
   },
   "source": [
    "## Anzeige von Werten mit der `print()` Funktion\n",
    "Um mehrere Werte anzuzeigen kann man die `print()`-Funktion verwenden:\n",
    "\n",
    "`print(...)` gibt den in Klammern eingeschlossenen Text auf dem Bildschirm\n",
    "aus."
   ]
  },
  {
   "cell_type": "code",
   "execution_count": null,
   "id": "fbeac1b6cd016dba",
   "metadata": {},
   "outputs": [],
   "source": [
    "print(123)"
   ]
  },
  {
   "cell_type": "code",
   "execution_count": null,
   "id": "eea360cddef67e08",
   "metadata": {},
   "outputs": [],
   "source": [
    "print(answer)\n",
    "print(my_value)"
   ]
  },
  {
   "cell_type": "code",
   "execution_count": null,
   "id": "9f8851bc99da63bc",
   "metadata": {
    "slideshow": {
     "slide_type": "subslide"
    }
   },
   "outputs": [],
   "source": [
    "print(\"Hello, world!\")"
   ]
  },
  {
   "cell_type": "code",
   "execution_count": null,
   "id": "5c9421bb2069b2f4",
   "metadata": {
    "slideshow": {
     "slide_type": "subslide"
    }
   },
   "outputs": [],
   "source": [
    "answer = 42\n",
    "my_value = 10\n",
    "print(\"answer =\", answer, \"my_value =\", my_value)"
   ]
  },
  {
   "cell_type": "code",
   "execution_count": null,
   "id": "da976180346b97f8",
   "metadata": {},
   "outputs": [],
   "source": [
    "print(\"a\", \"b\", \"c\", sep=\"-\", end=\"+++\")\n",
    "print(\"d\", \"e\")"
   ]
  },
  {
   "cell_type": "code",
   "execution_count": null,
   "id": "6f25f3d99d8923d4",
   "metadata": {},
   "outputs": [],
   "source": [
    "print(\"a\", end=\", \")\n",
    "print(\"b\", end=\", \")\n",
    "print(\"c\")"
   ]
  },
  {
   "cell_type": "markdown",
   "id": "fb0779122ab2ced2",
   "metadata": {
    "lang": "de",
    "slideshow": {
     "slide_type": "subslide"
    }
   },
   "source": [
    "\n",
    "## Typen"
   ]
  },
  {
   "cell_type": "code",
   "execution_count": null,
   "id": "3288ea49c50e4080",
   "metadata": {},
   "outputs": [],
   "source": [
    "type(123)"
   ]
  },
  {
   "cell_type": "code",
   "execution_count": null,
   "id": "9359842f42322c91",
   "metadata": {},
   "outputs": [],
   "source": [
    "type(\"Foo\")"
   ]
  },
  {
   "cell_type": "code",
   "execution_count": null,
   "id": "1225e17b19195fee",
   "metadata": {},
   "outputs": [],
   "source": [
    "answer = 42\n",
    "print(type(answer))\n",
    "answer = \"Hallo!\"\n",
    "print(type(answer))"
   ]
  },
  {
   "cell_type": "markdown",
   "id": "58020326fe0b702b",
   "metadata": {
    "lang": "de",
    "slideshow": {
     "slide_type": "subslide"
    }
   },
   "source": [
    "### Vordefinierte Funktionen"
   ]
  },
  {
   "cell_type": "code",
   "execution_count": null,
   "id": "ec5ab8d3312acfa7",
   "metadata": {},
   "outputs": [],
   "source": [
    "print(\"Hello, world!\")"
   ]
  },
  {
   "cell_type": "code",
   "execution_count": null,
   "id": "36952f65c4cb18aa",
   "metadata": {},
   "outputs": [],
   "source": [
    "int(\"123\")"
   ]
  },
  {
   "cell_type": "code",
   "execution_count": null,
   "id": "194dc5d3d7404d80",
   "metadata": {},
   "outputs": [],
   "source": [
    "int(3.8)"
   ]
  },
  {
   "cell_type": "code",
   "execution_count": null,
   "id": "46b5902996931f39",
   "metadata": {},
   "outputs": [],
   "source": [
    "round(4.4)"
   ]
  },
  {
   "cell_type": "code",
   "execution_count": null,
   "id": "1820a2d6e71079c2",
   "metadata": {},
   "outputs": [],
   "source": [
    "round(4.6)"
   ]
  },
  {
   "cell_type": "code",
   "execution_count": null,
   "id": "a3aa6936e8155633",
   "metadata": {
    "lines_to_next_cell": 2,
    "tags": [
     "keep"
    ]
   },
   "outputs": [],
   "source": [
    "print(round(0.5), round(1.5), round(2.5), round(3.5))"
   ]
  },
  {
   "cell_type": "markdown",
   "id": "5b995611ff78c4c2",
   "metadata": {
    "lang": "de",
    "slideshow": {
     "slide_type": "subslide"
    }
   },
   "source": [
    "\n",
    "### Zusicherungen\n",
    "\n",
    "Zusicherungen (Assertions) sind eine gute Möglichkeit sicherzustellen, dass\n",
    "eine Eigenschaft erfüllt is:"
   ]
  },
  {
   "cell_type": "code",
   "execution_count": null,
   "id": "6b4331dc4249553b",
   "metadata": {},
   "outputs": [],
   "source": [
    "assert 1 == 1"
   ]
  },
  {
   "cell_type": "code",
   "execution_count": null,
   "id": "9c1fbafe7f86852b",
   "metadata": {
    "lines_to_next_cell": 2
   },
   "outputs": [],
   "source": [
    "assert 1 != 2"
   ]
  },
  {
   "cell_type": "markdown",
   "id": "d941ef6b99c9c3ce",
   "metadata": {
    "lang": "de",
    "lines_to_next_cell": 2,
    "slideshow": {
     "slide_type": "subslide"
    }
   },
   "source": [
    "### Mini-Workshop\n",
    "\n",
    "Gegeben seien die folgenden Anweisungen:"
   ]
  },
  {
   "cell_type": "code",
   "execution_count": null,
   "id": "1dec6ba07bb0379c",
   "metadata": {
    "tags": [
     "keep"
    ]
   },
   "outputs": [],
   "source": [
    "my_int = 1\n",
    "my_float = 1.0"
   ]
  },
  {
   "cell_type": "markdown",
   "id": "9eaea07f3c38c9e7",
   "metadata": {
    "lang": "de"
   },
   "source": [
    "\n",
    "Schreiben Sie für jede der folgenden Eigenschaften eine Assertion, die\n",
    "Assertion, die entweder die Eigenschaft oder ihre Negation zusichert und\n",
    "keinen Fehler auslöst:\n",
    "- `my_int == 1`\n",
    "- `my_float == my_int`\n",
    "- `my_float == \"1.0\"`"
   ]
  },
  {
   "cell_type": "code",
   "execution_count": null,
   "id": "9b36d31155e8faad",
   "metadata": {},
   "outputs": [],
   "source": [
    "assert my_int == 1\n",
    "assert my_float == my_int\n",
    "assert my_float != \"1.0\""
   ]
  },
  {
   "cell_type": "markdown",
   "id": "f69da9fc88eeea69",
   "metadata": {
    "lang": "de",
    "lines_to_next_cell": 2,
    "slideshow": {
     "slide_type": "slide"
    }
   },
   "source": [
    "\n",
    "### Der Wert `None`\n",
    "\n",
    "`None` ist ein Wert, der von Python verwendet wird, um das Fehlen eines\n",
    "sinnvollen Wertes anzuzeigen. Jupyter druckt `None` nicht als Wert einer Zelle\n",
    "aus:"
   ]
  },
  {
   "cell_type": "code",
   "execution_count": null,
   "id": "876504d6d3774aa5",
   "metadata": {},
   "outputs": [],
   "source": [
    "None"
   ]
  },
  {
   "cell_type": "code",
   "execution_count": null,
   "id": "41e84868b4a59129",
   "metadata": {},
   "outputs": [],
   "source": [
    "print(None)"
   ]
  },
  {
   "cell_type": "code",
   "execution_count": null,
   "id": "e7aa7d82022bd035",
   "metadata": {},
   "outputs": [],
   "source": [
    "type(None)"
   ]
  },
  {
   "cell_type": "code",
   "execution_count": null,
   "id": "ecb429b02b302586",
   "metadata": {},
   "outputs": [],
   "source": [
    "x = print(\"Hello, world!\")"
   ]
  },
  {
   "cell_type": "code",
   "execution_count": null,
   "id": "7a6b7f28f2a5c98d",
   "metadata": {},
   "outputs": [],
   "source": [
    "assert x == None"
   ]
  },
  {
   "cell_type": "markdown",
   "id": "ad859b2db93ddfb2",
   "metadata": {
    "lang": "de"
   },
   "source": [
    "\n",
    "Um auf `None` zu testen wird oft der Operator `is` verwendet."
   ]
  },
  {
   "cell_type": "code",
   "execution_count": null,
   "id": "adb059d30ff09c9c",
   "metadata": {},
   "outputs": [],
   "source": [
    "assert x is None"
   ]
  },
  {
   "cell_type": "markdown",
   "id": "f6f1bba0d015f9a1",
   "metadata": {
    "lang": "de"
   },
   "source": [
    "\n",
    "`is` testet Objektidentität und ist im Allgemeinen nicht mit `==`\n",
    "austauschbar."
   ]
  }
 ],
 "metadata": {
  "kernelspec": {
   "display_name": "Python 3 (ipykernel)",
   "language": "python",
   "name": "python3"
  }
 },
 "nbformat": 4,
 "nbformat_minor": 5
}
