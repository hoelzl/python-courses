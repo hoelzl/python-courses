{
 "cells": [
  {
   "cell_type": "markdown",
   "id": "dde0393c218ad7db",
   "metadata": {
    "lang": "de"
   },
   "source": [
    "# Daten\n",
    "\n",
    "Wie können Sie den String `Hello, world!` in Python darstellen?"
   ]
  },
  {
   "cell_type": "code",
   "execution_count": null,
   "id": "68fca80328e43038",
   "metadata": {
    "tags": [
     "keep"
    ]
   },
   "outputs": [],
   "source": [
    "\"Hello, world!\""
   ]
  },
  {
   "cell_type": "markdown",
   "id": "51b071ac12ed114f",
   "metadata": {
    "lang": "de"
   },
   "source": [
    "Wie können Sie den String `Hello, World!` auf dem Bildschirm ausgeben?"
   ]
  },
  {
   "cell_type": "code",
   "execution_count": null,
   "id": "77a55d539f422473",
   "metadata": {
    "tags": [
     "keep"
    ]
   },
   "outputs": [],
   "source": [
    "print(\"Hello, World!\")"
   ]
  },
  {
   "cell_type": "markdown",
   "id": "8bdcf56ddf8b7e14",
   "metadata": {
    "lang": "de"
   },
   "source": [
    "Wie können Sie Ihren Namen als Text (String) in Python darstellen?"
   ]
  },
  {
   "cell_type": "code",
   "execution_count": null,
   "id": "9406ce4ac749a1d6",
   "metadata": {},
   "outputs": [],
   "source": [
    "\"Matthias\""
   ]
  },
  {
   "cell_type": "markdown",
   "id": "9d2f5bfe39c9c5d3",
   "metadata": {
    "lang": "de"
   },
   "source": [
    "\n",
    "Wie können Sie die Zahl 123 in Python darstellen?"
   ]
  },
  {
   "cell_type": "code",
   "execution_count": null,
   "id": "602bdc204140db01",
   "metadata": {},
   "outputs": [],
   "source": [
    "123"
   ]
  },
  {
   "cell_type": "markdown",
   "id": "ea5b3b6a6fc10c0c",
   "metadata": {
    "lang": "de"
   },
   "source": [
    "Wie können Sie Ihren Namen auf dem Bildschirm ausgeben?"
   ]
  },
  {
   "cell_type": "code",
   "execution_count": null,
   "id": "a42687755f80cc3b",
   "metadata": {},
   "outputs": [],
   "source": [
    "print(\"Matthias\")"
   ]
  },
  {
   "cell_type": "markdown",
   "id": "564913def1b2c526",
   "metadata": {
    "lang": "de"
   },
   "source": [
    "Wie können Sie die Zahl 123 auf dem Bildschirm ausgeben?"
   ]
  },
  {
   "cell_type": "code",
   "execution_count": null,
   "id": "c0500de48380a46e",
   "metadata": {},
   "outputs": [],
   "source": [
    "print(\"Matthias\")"
   ]
  },
  {
   "cell_type": "markdown",
   "id": "950bd15029394c13",
   "metadata": {
    "lang": "de"
   },
   "source": [
    "Wie können Sie\n",
    "\n",
    "```\n",
    "130 g   Mehl\n",
    "250 ml  Milch\n",
    "1 EL    Vanillezucker\n",
    "1 Prise Salz\n",
    "```\n",
    "\n",
    "auf dem Bildschirm ausgeben?"
   ]
  },
  {
   "cell_type": "code",
   "execution_count": null,
   "id": "7b024b6c12dba5b9",
   "metadata": {},
   "outputs": [],
   "source": [
    "print(\"130 g   Mehl\")\n",
    "print(\"250 ml  Milch\")\n",
    "print(\"1 EL    Vanillezucker\")\n",
    "print(\"1 Prise Salz\")"
   ]
  },
  {
   "cell_type": "code",
   "execution_count": null,
   "id": "bdc5807577fc1d2c",
   "metadata": {
    "tags": [
     "alt"
    ]
   },
   "outputs": [],
   "source": [
    "# Alternativ:\n",
    "# fmt: off\n",
    "print(\"130 g   Mehl\",\n",
    "      \"250 ml  Milch\",\n",
    "      \"1 EL    Vanillezucker\",\n",
    "      \"1 Prise Salz\", sep=\"\\n\")\n",
    "# fmt: on"
   ]
  },
  {
   "cell_type": "code",
   "execution_count": null,
   "id": "3cb9330ac80bb893",
   "metadata": {
    "tags": [
     "alt"
    ]
   },
   "outputs": [],
   "source": [
    "# Alternativ:\n",
    "print(\n",
    "    \"\"\"130 g   Mehl\n",
    "250 ml  Milch\n",
    "1 EL    Vanillezucker\n",
    "1 Prise Salz\"\"\"\n",
    ")"
   ]
  },
  {
   "cell_type": "code",
   "execution_count": null,
   "id": "b0f924e9ed9e5962",
   "metadata": {
    "tags": [
     "alt"
    ]
   },
   "outputs": [],
   "source": [
    "# Alternativ:\n",
    "# fmt: off\n",
    "print(\"130 g   Mehl\\n\"\n",
    "      \"250 ml  Milch\\n\"\n",
    "      \"1 EL    Vanillezucker\\n\"\n",
    "      \"1 Prise Salz\")\n",
    "# fmt: on"
   ]
  }
 ],
 "metadata": {},
 "nbformat": 4,
 "nbformat_minor": 5
}
