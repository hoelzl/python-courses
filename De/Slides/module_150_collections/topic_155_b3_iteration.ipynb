{
 "cells": [
  {
   "cell_type": "markdown",
   "id": "51192573445e6118",
   "metadata": {
    "lang": "de",
    "slideshow": {
     "slide_type": "slide"
    }
   },
   "source": [
    "<img src=\"../../img/python-logo-no-text.svg\"\n",
    "     style=\"display:block;margin:auto;width:10%\"/>\n",
    "<br>\n",
    "<div style=\"text-align:center; font-size:200%;\">\n",
    "  <b>Iteration</b>\n",
    "</div>\n",
    "<br/>\n",
    "<div style=\"text-align:center;\">Dr. Matthias Hölzl</div>\n",
    "<br/>\n",
    "<div style=\"text-align:center;\">module_150_collections/topic_155_b3_iteration</div>"
   ]
  },
  {
   "cell_type": "markdown",
   "id": "741eacf0374dc28d",
   "metadata": {
    "lang": "de",
    "lines_to_next_cell": 2,
    "slideshow": {
     "slide_type": "slide"
    }
   },
   "source": [
    "\n",
    "# Iteration über Listen\n",
    "\n",
    "Zur Iteration über Listen (und andere Datenstrukturen) bietet Python die\n",
    "bereits besprochene`for`-Schleife:"
   ]
  },
  {
   "cell_type": "code",
   "execution_count": null,
   "id": "d12c5c09510d12d2",
   "metadata": {},
   "outputs": [],
   "source": [
    "my_list = [1, 2, 3, 4]\n",
    "for n in my_list:\n",
    "    print(f\"Item {n}\")"
   ]
  },
  {
   "cell_type": "code",
   "execution_count": null,
   "id": "ca601eac01a85f4f",
   "metadata": {},
   "outputs": [],
   "source": [
    "index = 0\n",
    "while index < len(my_list):\n",
    "    n = my_list[index]\n",
    "    print(f\"Item {n}\")\n",
    "    index += 1"
   ]
  },
  {
   "cell_type": "markdown",
   "id": "a2b41ca7b501e5d0",
   "metadata": {
    "lang": "de",
    "slideshow": {
     "slide_type": "subslide"
    }
   },
   "source": [
    "## Simulation der klassischen `for`-Schleife\n",
    "\n",
    "Iteration mit einer `for`-Schleife ist auch über andere Datenstrukturen als Listen\n",
    "möglich.\n",
    "\n",
    "In Python stellt der Typ `range` eine Folge von ganzen Zahlen dar:\n",
    "\n",
    "- `range(n)` erzeugt das ganzzahlige Interval von $0$ bis $n-1$\n",
    "- `range(m, n)` erzeugt das ganzzahlige Interval von $m$ bis $n-1$\n",
    "- `range(m, n, k)` erzeugt die ganzzahlige Sequenz $m, m+k, m+2k, ..., p$, wobei $p$\n",
    "   die größte Zahl der Form $m + jk$ mit $j \\geq 0$ und $p < n$ ist"
   ]
  },
  {
   "cell_type": "code",
   "execution_count": null,
   "id": "ffb3cbc820118ea1",
   "metadata": {
    "slideshow": {
     "slide_type": "subslide"
    }
   },
   "outputs": [],
   "source": [
    "range(3)"
   ]
  },
  {
   "cell_type": "code",
   "execution_count": null,
   "id": "8aeaa2701953462a",
   "metadata": {},
   "outputs": [],
   "source": [
    "list(range(3))"
   ]
  },
  {
   "cell_type": "code",
   "execution_count": null,
   "id": "5b4d0d63693b931d",
   "metadata": {},
   "outputs": [],
   "source": [
    "list(range(3, 23, 5))"
   ]
  },
  {
   "cell_type": "code",
   "execution_count": null,
   "id": "b4412608367a61ff",
   "metadata": {},
   "outputs": [],
   "source": [
    "for i in range(3):\n",
    "    print(i)"
   ]
  },
  {
   "cell_type": "markdown",
   "id": "7cb4bc8f99eaf281",
   "metadata": {
    "lang": "de",
    "slideshow": {
     "slide_type": "subslide"
    }
   },
   "source": [
    "## Mini-Workshop\n",
    "\n",
    "- Notebook `workshop_060_introduction_part2`\n",
    "- Abschnitt \"Ausgabe von Quadratzahlen\"\n",
    "\n",
    "\n"
   ]
  },
  {
   "cell_type": "markdown",
   "id": "85b8fc75b3045b9c",
   "metadata": {
    "lang": "de",
    "slideshow": {
     "slide_type": "slide"
    }
   },
   "source": [
    "\n",
    " ## Iteration über Listen von Listen"
   ]
  },
  {
   "cell_type": "code",
   "execution_count": null,
   "id": "017e2f70e81bb639",
   "metadata": {},
   "outputs": [],
   "source": [
    "a, b = [1, 2]\n",
    "print(a)\n",
    "print(b)"
   ]
  },
  {
   "cell_type": "code",
   "execution_count": null,
   "id": "8d036bc4b2ecbb61",
   "metadata": {
    "tags": [
     "keep"
    ]
   },
   "outputs": [],
   "source": [
    "my_list = [[1, 2], [3, 4], [5, 6]]"
   ]
  },
  {
   "cell_type": "code",
   "execution_count": null,
   "id": "a353447802d91076",
   "metadata": {},
   "outputs": [],
   "source": [
    "for m, n in my_list:\n",
    "    print(f\"Items {m} and {n}\")"
   ]
  },
  {
   "cell_type": "code",
   "execution_count": null,
   "id": "ab10a45e9bf58757",
   "metadata": {},
   "outputs": [],
   "source": [
    "index = 0\n",
    "while index < len(my_list):\n",
    "    m, n = my_list[index]\n",
    "    print(f\"Items {m} and {n}\")\n",
    "    index += 1"
   ]
  },
  {
   "cell_type": "markdown",
   "id": "6acf1c72ed8325e8",
   "metadata": {
    "lang": "de",
    "slideshow": {
     "slide_type": "subslide"
    }
   },
   "source": [
    "\n",
    "# Nochmal Finden von Elementen\n",
    "\n",
    "Bei unserer bisherigen Version von `find` muss die Liste zweimal durchlaufen\n",
    "werden:\n",
    "\n",
    "- Einmal von `in` um zu testen, ob das gesuchte Element in der Liste vorkommt\n",
    "- Einmal von `index` um den Index zu finden.\n",
    "\n",
    "Schöner wäre es, wenn wir das in einem Durchlauf erledigen könnten."
   ]
  },
  {
   "cell_type": "code",
   "execution_count": null,
   "id": "63650df03b31fb70",
   "metadata": {
    "tags": [
     "keep"
    ]
   },
   "outputs": [],
   "source": [
    "my_list = [\"a\", \"b\", \"c\", \"d\", \"e\"]"
   ]
  },
  {
   "cell_type": "code",
   "execution_count": null,
   "id": "c3289da7a7d48dd2",
   "metadata": {},
   "outputs": [],
   "source": [
    "enumerate(my_list)"
   ]
  },
  {
   "cell_type": "code",
   "execution_count": null,
   "id": "0077de03ea5e7ba3",
   "metadata": {},
   "outputs": [],
   "source": [
    "list(enumerate(my_list))"
   ]
  },
  {
   "cell_type": "code",
   "execution_count": null,
   "id": "250af3a2fdf07b5f",
   "metadata": {},
   "outputs": [],
   "source": [
    "for index, element in enumerate(my_list):\n",
    "    print(f\"index = {index}, element = {element}\")"
   ]
  },
  {
   "cell_type": "code",
   "execution_count": null,
   "id": "28c1e52895a82cba",
   "metadata": {
    "slideshow": {
     "slide_type": "subslide"
    }
   },
   "outputs": [],
   "source": [
    "def find(element, a_list):\n",
    "    result = None\n",
    "    for index, list_entry in enumerate(a_list):\n",
    "        if list_entry == element:\n",
    "            result = index\n",
    "            break\n",
    "    return result"
   ]
  },
  {
   "cell_type": "code",
   "execution_count": null,
   "id": "fa44acb20bbfce69",
   "metadata": {
    "tags": [
     "keep"
    ]
   },
   "outputs": [],
   "source": [
    "my_list = [\"a\", \"b\", \"c\", \"d\", \"a\"]"
   ]
  },
  {
   "cell_type": "code",
   "execution_count": null,
   "id": "213fa7f4c3868539",
   "metadata": {},
   "outputs": [],
   "source": [
    "find(\"a\", my_list)"
   ]
  },
  {
   "cell_type": "code",
   "execution_count": null,
   "id": "af507e66c43627af",
   "metadata": {},
   "outputs": [],
   "source": [
    "find(\"d\", my_list)"
   ]
  },
  {
   "cell_type": "code",
   "execution_count": null,
   "id": "8f1b252588899d58",
   "metadata": {},
   "outputs": [],
   "source": [
    "assert find(\"x\", my_list) == None"
   ]
  },
  {
   "cell_type": "code",
   "execution_count": null,
   "id": "48dc864b59b9acaf",
   "metadata": {
    "slideshow": {
     "slide_type": "subslide"
    }
   },
   "outputs": [],
   "source": [
    "# Alternative Implementierung:\n",
    "def find_return(element, a_list):\n",
    "    for index, list_entry in enumerate(a_list):\n",
    "        if list_entry == element:\n",
    "            return index\n",
    "    return None"
   ]
  },
  {
   "cell_type": "code",
   "execution_count": null,
   "id": "45bf6bfde6655953",
   "metadata": {},
   "outputs": [],
   "source": [
    "# Mit assert können Invarianten dokumentiert werden:\n",
    "assert find(\"a\", my_list) == find_return(\"a\", my_list)\n",
    "assert find(\"d\", my_list) == find_return(\"d\", my_list)\n",
    "assert find(\"x\", my_list) == find_return(\"x\", my_list)"
   ]
  },
  {
   "cell_type": "markdown",
   "id": "30f252674e727609",
   "metadata": {
    "lang": "de",
    "slideshow": {
     "slide_type": "subslide"
    }
   },
   "source": [
    "\n",
    " ## Mini-Workshop\n",
    "\n",
    " - Notebook `workshop_100_lists_part2`\n",
    " - Abschnitt \"Finden in Listen\"\n"
   ]
  },
  {
   "cell_type": "markdown",
   "id": "71a3f49213f5a1c8",
   "metadata": {
    "lang": "de",
    "slideshow": {
     "slide_type": "slide"
    }
   },
   "source": [
    "\n",
    " ## Aggregation von Listenelementen"
   ]
  },
  {
   "cell_type": "code",
   "execution_count": null,
   "id": "ffe918996692f608",
   "metadata": {},
   "outputs": [],
   "source": [
    "def summe(zahlen):\n",
    "    ergebnis = 0\n",
    "    for n in zahlen:\n",
    "        ergebnis += n\n",
    "    return ergebnis"
   ]
  },
  {
   "cell_type": "code",
   "execution_count": null,
   "id": "c73d779abc5a8873",
   "metadata": {},
   "outputs": [],
   "source": [
    "summe([1, 2, 3])"
   ]
  },
  {
   "cell_type": "markdown",
   "id": "06ab8101e3fe3338",
   "metadata": {
    "lang": "de",
    "slideshow": {
     "slide_type": "subslide"
    }
   },
   "source": [
    "\n",
    " ## Mini-Workshop\n",
    "\n",
    " - Notebook `workshop_100_lists_part2`\n",
    " - Abschnitt \"Mittelwert einer Liste\""
   ]
  },
  {
   "cell_type": "markdown",
   "id": "6c41ff5e4e125592",
   "metadata": {
    "lang": "de",
    "slideshow": {
     "slide_type": "slide"
    }
   },
   "source": [
    "\n",
    " ## Transformation von Listen"
   ]
  },
  {
   "cell_type": "code",
   "execution_count": null,
   "id": "3d705710a7a42611",
   "metadata": {},
   "outputs": [],
   "source": [
    "result = []\n",
    "for item in [1, 2, 3, 4]:\n",
    "    result.append(item + 1)\n",
    "result"
   ]
  },
  {
   "cell_type": "code",
   "execution_count": null,
   "id": "9cb1b044f637e2d9",
   "metadata": {},
   "outputs": [],
   "source": [
    "result = []\n",
    "for n in [1, 2, 3, 4]:\n",
    "    result.append(f\"Item {n}\")\n",
    "result"
   ]
  },
  {
   "cell_type": "markdown",
   "id": "ea5b2c900d4115c0",
   "metadata": {
    "lang": "de",
    "lines_to_next_cell": 2,
    "slideshow": {
     "slide_type": "subslide"
    }
   },
   "source": [
    "\n",
    "## Mini-Workshop\n",
    "\n",
    "- Notebook `workshop_100_lists_part2`\n",
    "- Abschnitt \"Quadratzahlen\""
   ]
  },
  {
   "cell_type": "markdown",
   "id": "bae72611d419af79",
   "metadata": {
    "lang": "de",
    "slideshow": {
     "slide_type": "slide"
    }
   },
   "source": [
    "# Filtern von Listen"
   ]
  },
  {
   "cell_type": "code",
   "execution_count": null,
   "id": "179cab12b2166254",
   "metadata": {},
   "outputs": [],
   "source": [
    "result = []\n",
    "for item in [1, 2, 3, 4, 5, 6]:\n",
    "    if item % 2 == 0:\n",
    "        result.append(item)\n",
    "result"
   ]
  },
  {
   "cell_type": "code",
   "execution_count": null,
   "id": "f4ae44a21154a63f",
   "metadata": {},
   "outputs": [],
   "source": [
    "result = []\n",
    "for item in [\"abc\", \"def\", \"asd\", \"qwe\", \"bab\"]:\n",
    "    if \"ab\" in item:\n",
    "        result.append(item)\n",
    "result"
   ]
  },
  {
   "cell_type": "markdown",
   "id": "97b7fa544c2c8302",
   "metadata": {
    "lang": "de",
    "slideshow": {
     "slide_type": "subslide"
    }
   },
   "source": [
    "\n",
    " ## Mini-Workshop\n",
    "\n",
    " - Notebook `workshop_100_lists_part2`\n",
    " - Abschnitt \"Filtern\"\n"
   ]
  },
  {
   "cell_type": "code",
   "execution_count": null,
   "id": "6b4e03423667dbb7",
   "metadata": {
    "tags": [
     "keep"
    ]
   },
   "outputs": [],
   "source": []
  }
 ],
 "metadata": {
  "kernelspec": {
   "display_name": "Python 3 (ipykernel)",
   "language": "python",
   "name": "python3"
  }
 },
 "nbformat": 4,
 "nbformat_minor": 5
}
