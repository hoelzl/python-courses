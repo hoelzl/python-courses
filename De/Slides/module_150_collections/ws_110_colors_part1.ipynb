{
 "cells": [
  {
   "cell_type": "markdown",
   "id": "7342bfc00049e3de",
   "metadata": {
    "lang": "de",
    "slideshow": {
     "slide_type": "subslide"
    }
   },
   "source": [
    "\n",
    "## Mini-Workshop: Farben (Teil 1)\n",
    "\n",
    "- Definieren Sie eine Variable `grundfarben`, die eine Liste mit den Strings\n",
    "  `\"Rot\"`, `\"Grün\"` und `\"Blau\"` enthält.\n",
    "- Definieren Sie eine Variable `mischfarben`, die eine Liste mit den Strings\n",
    "  `\"Cyan\"`, `\"Gelb\"` und `\"Magenta\"` enthält."
   ]
  },
  {
   "cell_type": "code",
   "execution_count": null,
   "id": "7cfe652df49cd24f",
   "metadata": {
    "lang": "de"
   },
   "outputs": [],
   "source": [
    "grundfarben = [\"Rot\", \"Grün\", \"Blau\"]"
   ]
  },
  {
   "cell_type": "code",
   "execution_count": null,
   "id": "11b4b2a7ede3af0d",
   "metadata": {
    "lang": "de",
    "lines_to_next_cell": 2
   },
   "outputs": [],
   "source": [
    "mischfarben = [\"Cyan\", \"Gelb\", \"Magenta\"]"
   ]
  },
  {
   "cell_type": "markdown",
   "id": "db06941b7d33007b",
   "metadata": {
    "lang": "de",
    "slideshow": {
     "slide_type": "subslide"
    }
   },
   "source": [
    "\n",
    "Erzeugen Sie eine Liste `farben`, die die Elemente von `grundfarben` gefolgt von\n",
    "den Elementen von `mischfarben` enthält."
   ]
  },
  {
   "cell_type": "code",
   "execution_count": null,
   "id": "8f5ac1d23ede7360",
   "metadata": {
    "lang": "de",
    "lines_to_next_cell": 2
   },
   "outputs": [],
   "source": [
    "farben = grundfarben + mischfarben\n",
    "farben"
   ]
  },
  {
   "cell_type": "markdown",
   "id": "b7207c21baf2fa7f",
   "metadata": {
    "lang": "de",
    "slideshow": {
     "slide_type": "subslide"
    }
   },
   "source": [
    "\n",
    "Erzeugen Sie eine Liste, die 15-mal die Zahl `1` enthält."
   ]
  },
  {
   "cell_type": "code",
   "execution_count": null,
   "id": "f6a9888ff76ba4d7",
   "metadata": {
    "lines_to_next_cell": 2
   },
   "outputs": [],
   "source": [
    "[1] * 15"
   ]
  },
  {
   "cell_type": "markdown",
   "id": "42bbaf3a2eb10460",
   "metadata": {
    "lang": "de",
    "slideshow": {
     "slide_type": "subslide"
    }
   },
   "source": [
    "\n",
    "Erzeugen Sie die Liste `[\"r\", \"g\", \"b\"]` aus dem String `\"rgb\"`."
   ]
  },
  {
   "cell_type": "code",
   "execution_count": null,
   "id": "fd7a1c346129d519",
   "metadata": {},
   "outputs": [],
   "source": [
    "list(\"rgb\")"
   ]
  }
 ],
 "metadata": {},
 "nbformat": 4,
 "nbformat_minor": 5
}
