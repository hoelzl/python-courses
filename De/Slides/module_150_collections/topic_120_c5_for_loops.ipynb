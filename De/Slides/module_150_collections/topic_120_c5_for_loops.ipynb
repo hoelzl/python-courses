{
 "cells": [
  {
   "cell_type": "markdown",
   "id": "3f2998ea155c81df",
   "metadata": {
    "lang": "de",
    "slideshow": {
     "slide_type": "slide"
    }
   },
   "source": [
    "<img src=\"../../img/python-logo-no-text.svg\"\n",
    "     style=\"display:block;margin:auto;width:10%\"/>\n",
    "<br>\n",
    "<div style=\"text-align:center; font-size:200%;\">\n",
    "  <b>Schnelldurchlauf `for`-Schleifen</b>\n",
    "</div>\n",
    "<br/>\n",
    "<div style=\"text-align:center;\">Dr. Matthias Hölzl</div>\n",
    "<br/>\n",
    "<div style=\"text-align:center;\">module_150_collections/topic_120_c5_for_loops</div>"
   ]
  },
  {
   "cell_type": "markdown",
   "id": "bcf82bf76ab823f9",
   "metadata": {
    "lang": "de",
    "slideshow": {
     "slide_type": "slide"
    }
   },
   "source": [
    "## `for`-Schleifen"
   ]
  },
  {
   "cell_type": "code",
   "execution_count": null,
   "id": "796cfcc5ab5388cb",
   "metadata": {
    "lines_to_next_cell": 1
   },
   "outputs": [],
   "source": [
    "for char in \"abc\":\n",
    "    print(char, end=\"|\")"
   ]
  },
  {
   "cell_type": "code",
   "execution_count": null,
   "id": "615be9b1c9e47406",
   "metadata": {
    "slideshow": {
     "slide_type": "subslide"
    }
   },
   "outputs": [],
   "source": [
    "def add_small_even_numbers(numbers):\n",
    "    result = 0\n",
    "    for n in numbers:\n",
    "        if n % 2 != 0:\n",
    "            continue\n",
    "        if n > 100:\n",
    "            break\n",
    "        result += n\n",
    "    else:\n",
    "        result += 100\n",
    "    return result"
   ]
  },
  {
   "cell_type": "code",
   "execution_count": null,
   "id": "216a541a12829e66",
   "metadata": {},
   "outputs": [],
   "source": [
    "assert add_small_even_numbers([2, 4, 6]) == 112"
   ]
  },
  {
   "cell_type": "code",
   "execution_count": null,
   "id": "264f71e45ed7a0ce",
   "metadata": {},
   "outputs": [],
   "source": [
    "assert add_small_even_numbers([1, 2, 3]) == 102"
   ]
  },
  {
   "cell_type": "code",
   "execution_count": null,
   "id": "487b77e167edd333",
   "metadata": {},
   "outputs": [],
   "source": [
    "assert add_small_even_numbers([1, 2, 101, 102]) == 2"
   ]
  },
  {
   "cell_type": "markdown",
   "id": "1495b6899b067550",
   "metadata": {
    "lang": "de",
    "slideshow": {
     "slide_type": "subslide"
    }
   },
   "source": [
    "### Ranges"
   ]
  },
  {
   "cell_type": "code",
   "execution_count": null,
   "id": "c3a90d7e5a7d021b",
   "metadata": {
    "slideshow": {
     "slide_type": "subslide"
    }
   },
   "outputs": [],
   "source": [
    "for i in range(3):\n",
    "    print(i, end=\", \")"
   ]
  },
  {
   "cell_type": "code",
   "execution_count": null,
   "id": "7bd1e059ae9c162f",
   "metadata": {
    "lines_to_next_cell": 2
   },
   "outputs": [],
   "source": [
    "for i in range(1, 6, 2):\n",
    "    print(i, end=\", \")"
   ]
  },
  {
   "cell_type": "markdown",
   "id": "b2921020f9102487",
   "metadata": {
    "lang": "de",
    "lines_to_next_cell": 2,
    "slideshow": {
     "slide_type": "subslide"
    }
   },
   "source": [
    "### Mini-Workshop\n",
    "\n",
    "Schreiben Sie eine Funktion `print_squares(n: int)`, die die Quadrate der\n",
    "Zahlen von 1 bis n ausgibt, jeweils ein Element pro Zeile:\n",
    "\n",
    "```python\n",
    ">>> print_squares(3)\n",
    "1**2 = 1\n",
    "2**2 = 4\n",
    "3**2 = 9\n",
    ">>>\n",
    "```"
   ]
  },
  {
   "cell_type": "code",
   "execution_count": null,
   "id": "5ffdd1dcbd44a4f9",
   "metadata": {},
   "outputs": [],
   "source": [
    "def print_squares(n: int):\n",
    "    for i in range(1, n + 1):\n",
    "        print(f\"{i}**2 = {i**2}\")"
   ]
  },
  {
   "cell_type": "code",
   "execution_count": null,
   "id": "170db0a09936dfeb",
   "metadata": {},
   "outputs": [],
   "source": [
    "print_squares(3)"
   ]
  },
  {
   "cell_type": "markdown",
   "id": "ed449fb441e14143",
   "metadata": {
    "lang": "de",
    "slideshow": {
     "slide_type": "slide"
    }
   },
   "source": [
    "\n",
    "## Die Funktion `enumerate()` für Listen\n",
    "\n",
    "Wenn sowohl Indizes als auch Werte für die Elemente einer Liste benötigt\n",
    "werden kann man die `enumerate()` Funktion verwnden:"
   ]
  },
  {
   "cell_type": "code",
   "execution_count": null,
   "id": "249cc15ea40e22df",
   "metadata": {},
   "outputs": [],
   "source": [
    "for i, x in enumerate([2, 4, 10]):\n",
    "    print(f\"index: {i}, value: {x}\")"
   ]
  }
 ],
 "metadata": {
  "kernelspec": {
   "display_name": "Python 3 (ipykernel)",
   "language": "python",
   "name": "python3"
  }
 },
 "nbformat": 4,
 "nbformat_minor": 5
}
