{
 "cells": [
  {
   "cell_type": "markdown",
   "id": "95562831da53fae2",
   "metadata": {
    "lang": "de",
    "slideshow": {
     "slide_type": "slide"
    }
   },
   "source": [
    "<img src=\"../../img/python-logo-no-text.svg\"\n",
    "     style=\"display:block;margin:auto;width:10%\"/>\n",
    "<br>\n",
    "<div style=\"text-align:center; font-size:200%;\">\n",
    "  <b>Generator-Funktionen und Coroutinen</b>\n",
    "</div>\n",
    "<br/>\n",
    "<div style=\"text-align:center;\">Dr. Matthias Hölzl</div>\n",
    "<br/>\n",
    "<div style=\"text-align:center;\">module_150_collections/topic_920_coroutines</div>"
   ]
  },
  {
   "cell_type": "markdown",
   "id": "104aaca5989ccce9",
   "metadata": {
    "lang": "de",
    "slideshow": {
     "slide_type": "slide"
    }
   },
   "source": [
    "## Generator Funktionen\n",
    "\n",
    "Komplexere Fälle können von Generator Expressions nicht mehr abgedeckt werden.\n",
    "\n",
    "- Generator, der alle Zahlen erzeugt (ohne Obergrenze)\n",
    "- Generator, der ein Iterable modifiziert (z.B. mehrfach ausführt, eine fixe Anzahl an Elementen nimmt)\n",
    "\n",
    "Für diese Fälle gibt es Generator-Funktionen"
   ]
  },
  {
   "cell_type": "markdown",
   "id": "c008edaf29f149ec",
   "metadata": {
    "lang": "de",
    "slideshow": {
     "slide_type": "subslide"
    }
   },
   "source": [
    "\n",
    "Mit dem Schlüsselwort `yield` kann eine Funktion \"mehrere Werte zurückgeben\".\n",
    "Eine Funktion, die `yield` in ihrem Rumpf verwendet, wird Generator-Funktion\n",
    "genannt. Ein Aufruf einer Generatorfunktion wertet nicht den Rumpf der\n",
    "Funktion aus, sondern es wird ein *Generator* zurückgegeben, der mehremals\n",
    "einen Wert zurückgeben kann:"
   ]
  },
  {
   "cell_type": "code",
   "execution_count": null,
   "id": "096358c992deab1f",
   "metadata": {},
   "outputs": [],
   "source": [
    "def integers(start=0):\n",
    "    n = start\n",
    "    while True:\n",
    "        yield n\n",
    "        n += 1"
   ]
  },
  {
   "cell_type": "code",
   "execution_count": null,
   "id": "428b14c43b2d23c6",
   "metadata": {},
   "outputs": [],
   "source": [
    "gen = integers()\n",
    "print(repr(gen))\n",
    "print(repr(iter(gen)))"
   ]
  },
  {
   "cell_type": "code",
   "execution_count": null,
   "id": "f82764b483e787ca",
   "metadata": {
    "slideshow": {
     "slide_type": "subslide"
    }
   },
   "outputs": [],
   "source": [
    "gen = integers()"
   ]
  },
  {
   "cell_type": "code",
   "execution_count": null,
   "id": "4f435d44b650d901",
   "metadata": {},
   "outputs": [],
   "source": [
    "next(gen)"
   ]
  },
  {
   "cell_type": "code",
   "execution_count": null,
   "id": "b588828ed18d5608",
   "metadata": {},
   "outputs": [],
   "source": [
    "next(gen)"
   ]
  },
  {
   "cell_type": "code",
   "execution_count": null,
   "id": "170a96f20223cb17",
   "metadata": {
    "slideshow": {
     "slide_type": "subslide"
    }
   },
   "outputs": [],
   "source": [
    "for i in integers():\n",
    "    if i > 3:\n",
    "        break\n",
    "    print(i, end=\" \")"
   ]
  },
  {
   "cell_type": "markdown",
   "id": "ef553c247d011597",
   "metadata": {
    "lang": "de",
    "slideshow": {
     "slide_type": "subslide"
    }
   },
   "source": [
    "\n",
    "Schreiben Sie eine Generatorfunktion `one_based_range(n)`, die `range(n)` für\n",
    "ein Argument simuliert, aber von 1 bis einschließlich `n` iteriert."
   ]
  },
  {
   "cell_type": "code",
   "execution_count": null,
   "id": "94e28453149d2ee8",
   "metadata": {},
   "outputs": [],
   "source": [
    "def one_based_range(n):\n",
    "\tfor i in range(1, n+1):\n",
    "\t\tyield i"
   ]
  },
  {
   "cell_type": "code",
   "execution_count": null,
   "id": "25cbd541ede8859d",
   "metadata": {
    "lines_to_next_cell": 1,
    "tags": [
     "keep"
    ]
   },
   "outputs": [],
   "source": [
    "assert [num for num in one_based_range(4)] == [1, 2, 3, 4]"
   ]
  },
  {
   "cell_type": "markdown",
   "id": "d029370a6cf07217",
   "metadata": {
    "lang": "de"
   },
   "source": [
    "\n",
    "Schreiben Sie eine Generatorfunktion `inklusive_range()`, die die komplette\n",
    "Funktionalität von `range()` simuliert (d.h. die mit einem, zwei oder drei\n",
    "Argumenten aufgerufen werden kann), aber ihre obere Grenze einschließt und die\n",
    "Iteration von 1 beginnt, wenn keine untere Grenze angegeben wird.\n",
    "\n",
    "Stellen Sie sicher, dass Ihre Implementierung die vorgegebenen Testfälle\n",
    "erfüllt."
   ]
  },
  {
   "cell_type": "code",
   "execution_count": null,
   "id": "e3f161472436d8ab",
   "metadata": {},
   "outputs": [],
   "source": [
    "def inclusive_range(m, n=None, step=1):\n",
    "\tif n is None:\n",
    "\t\tassert step == 1, \"Cannot specify step when no upper bound is specified.\"\n",
    "\t\tn = m\n",
    "\t\tm = 1\n",
    "\tfor i in range(m, n + 1, step):\n",
    "\t\tyield i"
   ]
  },
  {
   "cell_type": "code",
   "execution_count": null,
   "id": "03389f0e7e9d8b39",
   "metadata": {
    "tags": [
     "keep"
    ]
   },
   "outputs": [],
   "source": [
    "assert [num for num in inclusive_range(3)] == [1, 2, 3]"
   ]
  },
  {
   "cell_type": "code",
   "execution_count": null,
   "id": "267287e94828bfd0",
   "metadata": {
    "tags": [
     "keep"
    ]
   },
   "outputs": [],
   "source": [
    "assert [num for num in inclusive_range(2, 4)] == [2, 3, 4]"
   ]
  },
  {
   "cell_type": "code",
   "execution_count": null,
   "id": "9d089126c7f60d49",
   "metadata": {
    "tags": [
     "keep"
    ]
   },
   "outputs": [],
   "source": [
    "assert [num for num in inclusive_range(2, 2)] == [2]"
   ]
  },
  {
   "cell_type": "code",
   "execution_count": null,
   "id": "67611383716cfae1",
   "metadata": {
    "tags": [
     "keep"
    ]
   },
   "outputs": [],
   "source": [
    "assert [num for num in inclusive_range(2, 1)] == []"
   ]
  },
  {
   "cell_type": "code",
   "execution_count": null,
   "id": "da4c02ca8d18334a",
   "metadata": {
    "lines_to_next_cell": 1,
    "tags": [
     "keep"
    ]
   },
   "outputs": [],
   "source": [
    "assert [num for num in inclusive_range(2, 6, 2)] == [2, 4, 6]"
   ]
  },
  {
   "cell_type": "markdown",
   "id": "2f0eced0572ca052",
   "metadata": {
    "lang": "de",
    "slideshow": {
     "slide_type": "subslide"
    }
   },
   "source": [
    "\n",
    "Wir können Generatorfunktionen verwenden, um Funktionen zu schreiben, die\n",
    "Iteratoren verarbeiten. Beispielsweise nummt die Generatorfunktion `take()`\n",
    "eine feste Anzahl von Werten von einem Iterator:"
   ]
  },
  {
   "cell_type": "code",
   "execution_count": null,
   "id": "caec9f83b6f21672",
   "metadata": {},
   "outputs": [],
   "source": [
    "def take(n, it):\n",
    "    for i in range(n):\n",
    "        yield next(it)"
   ]
  },
  {
   "cell_type": "code",
   "execution_count": null,
   "id": "8366137500aac9c5",
   "metadata": {
    "lines_to_next_cell": 1
   },
   "outputs": [],
   "source": [
    "list(take(3, integers()))"
   ]
  },
  {
   "cell_type": "markdown",
   "id": "8e5e6d2c7ae0cbe2",
   "metadata": {
    "lang": "de",
    "slideshow": {
     "slide_type": "subslide"
    }
   },
   "source": [
    "\n",
    "Beachten Sie, dass die Funktion `drop()`, die die ersten `n` Elemente eines\n",
    "Iterators entfernt, keine Generatorfunktion, sondern eine reguläre Funktion\n",
    "ist:"
   ]
  },
  {
   "cell_type": "code",
   "execution_count": null,
   "id": "032fb12bd5f45d44",
   "metadata": {},
   "outputs": [],
   "source": [
    "def drop(n, it):\n",
    "    for i in range(n):\n",
    "        next(it)\n",
    "    return it"
   ]
  },
  {
   "cell_type": "code",
   "execution_count": null,
   "id": "d45cf2d62fb4dbaa",
   "metadata": {
    "lines_to_next_cell": 1
   },
   "outputs": [],
   "source": [
    "list(take(3, drop(2, integers())))"
   ]
  },
  {
   "cell_type": "markdown",
   "id": "9588502ff49429c4",
   "metadata": {
    "lang": "de",
    "slideshow": {
     "slide_type": "subslide"
    }
   },
   "source": [
    "\n",
    "Mit Generatorfunktionen können wir auch komplexere Iterationsoperationen\n",
    "definieren:"
   ]
  },
  {
   "cell_type": "code",
   "execution_count": null,
   "id": "58fe656a2ba9a8b0",
   "metadata": {},
   "outputs": [],
   "source": [
    "def repeat_n_times(n, it):\n",
    "    for _ in range(n):\n",
    "        for elt in it:\n",
    "            yield elt"
   ]
  },
  {
   "cell_type": "code",
   "execution_count": null,
   "id": "17a842c9917f18da",
   "metadata": {},
   "outputs": [],
   "source": [
    "for num in repeat_n_times(3, range(5)):\n",
    "    print(num, end=\" \")"
   ]
  },
  {
   "cell_type": "markdown",
   "id": "9ae25eaf3f472a5a",
   "metadata": {
    "lang": "de",
    "lines_to_next_cell": 2,
    "slideshow": {
     "slide_type": "slide"
    }
   },
   "source": [
    "\n",
    "# Coroutinen\n",
    "\n",
    "`yield` kann auch verwendet werden, um einen Wert an die Stelle zurückzugeben,\n",
    "an der es \"aufgerufen\" wird. In diesem Fall nennen wir den Generator auch eine\n",
    "*Coroutine*.\n",
    "\n",
    "Coroutinen sind nützliche Bausteine für Features wie z.B. kooperatives\n",
    "Multitasking oder Event-basierte Programmierung.\n",
    "\n",
    "Um eine Coroutine `c` zu starten, rufen wir die Methode `c.send(None)` auf.\n",
    "Zum Senden nachfolgender Werte verwenden wir `c.send(value)`.\n"
   ]
  },
  {
   "cell_type": "code",
   "execution_count": null,
   "id": "b22d5c339c0a4362",
   "metadata": {
    "slideshow": {
     "slide_type": "subslide"
    }
   },
   "outputs": [],
   "source": [
    "def my_coroutine(n):\n",
    "    for i in range(n):\n",
    "        x = yield\n",
    "        print(x)"
   ]
  },
  {
   "cell_type": "code",
   "execution_count": null,
   "id": "433fad7954339b07",
   "metadata": {},
   "outputs": [],
   "source": [
    "c = my_coroutine(3)\n",
    "print(c)"
   ]
  },
  {
   "cell_type": "code",
   "execution_count": null,
   "id": "2084822bb047f89e",
   "metadata": {},
   "outputs": [],
   "source": [
    "c.send(None)"
   ]
  },
  {
   "cell_type": "code",
   "execution_count": null,
   "id": "c24b5e8bb84247c5",
   "metadata": {},
   "outputs": [],
   "source": [
    "c.send(10)"
   ]
  },
  {
   "cell_type": "code",
   "execution_count": null,
   "id": "db80dceb686c3bf1",
   "metadata": {},
   "outputs": [],
   "source": [
    "c.send(20)"
   ]
  },
  {
   "cell_type": "code",
   "execution_count": null,
   "id": "65afcd754ad1523a",
   "metadata": {
    "lines_to_next_cell": 1
   },
   "outputs": [],
   "source": [
    "c.send(30)"
   ]
  },
  {
   "cell_type": "code",
   "execution_count": null,
   "id": "67ba04de2887a88a",
   "metadata": {
    "slideshow": {
     "slide_type": "subslide"
    }
   },
   "outputs": [],
   "source": [
    "def your_coroutine(n):\n",
    "    for i in range(1, n+1):\n",
    "        x = yield(i)\n",
    "        print(\"your_coroutine:\", x)"
   ]
  },
  {
   "cell_type": "code",
   "execution_count": null,
   "id": "594fa3c3330c0eeb",
   "metadata": {},
   "outputs": [],
   "source": [
    "c = your_coroutine(3)"
   ]
  },
  {
   "cell_type": "code",
   "execution_count": null,
   "id": "3eb1cecac8bd738d",
   "metadata": {},
   "outputs": [],
   "source": [
    "_x = c.send(None)\n",
    "print(\"top level:\", _x)"
   ]
  },
  {
   "cell_type": "code",
   "execution_count": null,
   "id": "b904b3b4972a2eb7",
   "metadata": {},
   "outputs": [],
   "source": [
    "try:\n",
    "\twhile True:\n",
    "\t\t_x = c.send(_x * 10)\n",
    "\t\tprint(\"top level:\", _x)\n",
    "except StopIteration:\n",
    "\tprint(\"Done.\")"
   ]
  },
  {
   "cell_type": "code",
   "execution_count": null,
   "id": "6b4e03423667dbb7",
   "metadata": {},
   "outputs": [],
   "source": []
  }
 ],
 "metadata": {
  "kernelspec": {
   "display_name": "Python 3 (ipykernel)",
   "language": "python",
   "name": "python3"
  }
 },
 "nbformat": 4,
 "nbformat_minor": 5
}
