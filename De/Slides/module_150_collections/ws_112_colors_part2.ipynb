{
 "cells": [
  {
   "cell_type": "markdown",
   "id": "fff824a8fa32cc7f",
   "metadata": {
    "lang": "de",
    "slideshow": {
     "slide_type": "subslide"
    }
   },
   "source": [
    "\n",
    "## Mini-Workshop: Farben (Teil 2)\n",
    "\n",
    "Gegeben seien die folgenden Listen:"
   ]
  },
  {
   "cell_type": "code",
   "execution_count": null,
   "id": "3dc8bbce4daa1cd8",
   "metadata": {
    "lang": "de",
    "tags": [
     "keep"
    ]
   },
   "outputs": [],
   "source": [
    "grundfarben = [\"Rot\", \"Grün\", \"Blau\"]\n",
    "mischfarben = [\"Cyan\", \"Gelb\"]\n",
    "farben = grundfarben + mischfarben"
   ]
  },
  {
   "cell_type": "markdown",
   "id": "05840ea96cad8bfa",
   "metadata": {
    "lang": "de",
    "slideshow": {
     "slide_type": "subslide"
    }
   },
   "source": [
    "\n",
    "- Überprüfen Sie, ob Gelb eine Grundfarbe ist, ob also der String `\"Gelb\"`\n",
    "  in `grundfarben` enthalten ist.\n",
    "- Ist Grün eine Grundfarbe?"
   ]
  },
  {
   "cell_type": "code",
   "execution_count": null,
   "id": "5322b3b4b7a7fbd2",
   "metadata": {
    "lang": "de"
   },
   "outputs": [],
   "source": [
    "\"Gelb\" in grundfarben"
   ]
  },
  {
   "cell_type": "code",
   "execution_count": null,
   "id": "36275114c089ceff",
   "metadata": {
    "lang": "de"
   },
   "outputs": [],
   "source": [
    "\"Grün\" in grundfarben"
   ]
  },
  {
   "cell_type": "markdown",
   "id": "53ac6a4e047246f9",
   "metadata": {
    "lang": "de",
    "slideshow": {
     "slide_type": "subslide"
    }
   },
   "source": [
    "\n",
    "- Wie viele Elemente hat die Liste `grundfarben`?\n",
    "- Wie viele Elemente hat die Liste `mischfarben`?"
   ]
  },
  {
   "cell_type": "code",
   "execution_count": null,
   "id": "ef42ed5e2205ed6b",
   "metadata": {
    "lang": "de"
   },
   "outputs": [],
   "source": [
    "len(grundfarben)"
   ]
  },
  {
   "cell_type": "code",
   "execution_count": null,
   "id": "b3483b026b1e8d2c",
   "metadata": {
    "lang": "de"
   },
   "outputs": [],
   "source": [
    "len(mischfarben)"
   ]
  },
  {
   "cell_type": "markdown",
   "id": "c51725e82eb0d248",
   "metadata": {
    "lang": "de",
    "slideshow": {
     "slide_type": "subslide"
    }
   },
   "source": [
    "\n",
    "Wir haben vergessen Magenta in die Mischfarben einzufügen.\n",
    "\n",
    "- Überprüfen Sie, dass der String `\"Magenta\"` nicht in `mischfarben` enthalten ist.\n",
    "- Fügen Sie `Magenta` zu den Mischfarben hinzu.\n",
    "- Überprüfen Sie, dass der String `\"Magenta\"` jetzt in `mischfarben` enthalten ist.\n",
    "- Wie lange ist die Liste `mischfarben` jetzt?"
   ]
  },
  {
   "cell_type": "code",
   "execution_count": null,
   "id": "d1391eca810bccb1",
   "metadata": {
    "lang": "de",
    "slideshow": {
     "slide_type": "subslide"
    }
   },
   "outputs": [],
   "source": [
    "\"Magenta\" in mischfarben"
   ]
  },
  {
   "cell_type": "code",
   "execution_count": null,
   "id": "6804702fa6539f21",
   "metadata": {
    "lang": "de"
   },
   "outputs": [],
   "source": [
    "mischfarben.append(\"Magenta\")"
   ]
  },
  {
   "cell_type": "code",
   "execution_count": null,
   "id": "28e38697f460841c",
   "metadata": {
    "lang": "de"
   },
   "outputs": [],
   "source": [
    "\"Magenta\" in mischfarben"
   ]
  },
  {
   "cell_type": "code",
   "execution_count": null,
   "id": "2e4f64a951fdc7ce",
   "metadata": {
    "lang": "de",
    "lines_to_next_cell": 2
   },
   "outputs": [],
   "source": [
    "len(mischfarben)"
   ]
  },
  {
   "cell_type": "markdown",
   "id": "a2fac58ede43a195",
   "metadata": {
    "lang": "de",
    "slideshow": {
     "slide_type": "subslide"
    }
   },
   "source": [
    "- Ändern Sie das erste Element von `farben` in `Dunkelrot`\n",
    "- Was ist jetzt das erste Element von `grundfarben`?"
   ]
  },
  {
   "cell_type": "code",
   "execution_count": null,
   "id": "a8b10f37c7f8962b",
   "metadata": {
    "lang": "de"
   },
   "outputs": [],
   "source": [
    "farben[0] = \"Dunkelrot\"\n",
    "farben"
   ]
  },
  {
   "cell_type": "code",
   "execution_count": null,
   "id": "e9163dbde0760788",
   "metadata": {
    "lang": "de"
   },
   "outputs": [],
   "source": [
    "grundfarben[0]"
   ]
  },
  {
   "cell_type": "markdown",
   "id": "77d4d2621ff9228e",
   "metadata": {
    "lang": "de",
    "slideshow": {
     "slide_type": "subslide"
    }
   },
   "source": [
    "Was ist das dritte Element der Liste `farben`?"
   ]
  },
  {
   "cell_type": "code",
   "execution_count": null,
   "id": "01b8e673f69e6905",
   "metadata": {
    "lang": "de"
   },
   "outputs": [],
   "source": [
    "farben[2]"
   ]
  },
  {
   "cell_type": "markdown",
   "id": "4dc494889ecdba86",
   "metadata": {
    "lang": "de"
   },
   "source": [
    "Fügen Sie `Lila` als zweites Element in die Liste `farben` ein."
   ]
  },
  {
   "cell_type": "code",
   "execution_count": null,
   "id": "ecb883eebea11c5d",
   "metadata": {
    "lang": "de"
   },
   "outputs": [],
   "source": [
    "farben.insert(1, \"Lila\")"
   ]
  },
  {
   "cell_type": "markdown",
   "id": "1d62d9736479abcd",
   "metadata": {
    "lang": "de"
   },
   "source": [
    "Was ist jetzt das dritte Element der Liste `farben`?"
   ]
  },
  {
   "cell_type": "code",
   "execution_count": null,
   "id": "8f9420cc92424191",
   "metadata": {
    "lang": "de"
   },
   "outputs": [],
   "source": [
    "farben[2]"
   ]
  },
  {
   "cell_type": "markdown",
   "id": "1742d118786dd665",
   "metadata": {
    "lang": "de",
    "slideshow": {
     "slide_type": "subslide"
    }
   },
   "source": [
    "Löschen Sie das zweite Element der Liste `farben`"
   ]
  },
  {
   "cell_type": "code",
   "execution_count": null,
   "id": "f1c647d3440c607b",
   "metadata": {
    "lang": "de"
   },
   "outputs": [],
   "source": [
    "farben.pop(1)\n",
    "farben"
   ]
  },
  {
   "cell_type": "markdown",
   "id": "e118ccb071c619f5",
   "metadata": {
    "lang": "de"
   },
   "source": [
    "\n",
    "Sortieren Sie die Liste `farben`."
   ]
  },
  {
   "cell_type": "code",
   "execution_count": null,
   "id": "6193608fe5ed28a6",
   "metadata": {
    "lang": "de"
   },
   "outputs": [],
   "source": [
    "farben.sort()\n",
    "farben"
   ]
  },
  {
   "cell_type": "markdown",
   "id": "a944544db58da379",
   "metadata": {
    "lang": "de"
   },
   "source": [
    "Was ist jetzt das erste Element der Liste `farben`?"
   ]
  },
  {
   "cell_type": "code",
   "execution_count": null,
   "id": "7646a58956a659f4",
   "metadata": {
    "lang": "de",
    "lines_to_next_cell": 2
   },
   "outputs": [],
   "source": [
    "farben[0]"
   ]
  }
 ],
 "metadata": {},
 "nbformat": 4,
 "nbformat_minor": 5
}
