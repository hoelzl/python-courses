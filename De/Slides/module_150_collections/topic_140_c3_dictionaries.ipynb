{
 "cells": [
  {
   "cell_type": "markdown",
   "id": "337590981eec10a6",
   "metadata": {
    "lang": "de",
    "slideshow": {
     "slide_type": "slide"
    }
   },
   "source": [
    "<img src=\"../../img/python-logo-no-text.svg\"\n",
    "     style=\"display:block;margin:auto;width:10%\"/>\n",
    "<br>\n",
    "<div style=\"text-align:center; font-size:200%;\">\n",
    "  <b>Dictionaries</b>\n",
    "</div>\n",
    "<br/>\n",
    "<div style=\"text-align:center;\">Dr. Matthias Hölzl</div>\n",
    "<br/>\n",
    "<div style=\"text-align:center;\">module_150_collections/topic_140_c3_dictionaries</div>"
   ]
  },
  {
   "cell_type": "markdown",
   "id": "06f39e77d5b2bd21",
   "metadata": {
    "lang": "de",
    "slideshow": {
     "slide_type": "slide"
    }
   },
   "source": [
    "## Dictionaries"
   ]
  },
  {
   "cell_type": "code",
   "execution_count": null,
   "id": "cc17348d96ac625c",
   "metadata": {
    "tags": [
     "keep"
    ]
   },
   "outputs": [],
   "source": [
    "translations = {\"snake\": \"Schlange\", \"bat\": \"Fledermaus\", \"horse\": \"Hose\"}"
   ]
  },
  {
   "cell_type": "code",
   "execution_count": null,
   "id": "983611cd8a989dfa",
   "metadata": {},
   "outputs": [],
   "source": [
    "print(translations[\"snake\"])\n",
    "print(translations.get(\"bat\", \"<unbekannt>\"))\n",
    "print(translations.get(\"monkey\", \"<unbekannt>\"))"
   ]
  },
  {
   "cell_type": "code",
   "execution_count": null,
   "id": "574e050e4c2e8977",
   "metadata": {},
   "outputs": [],
   "source": [
    "# Error:\n",
    "# translations['monkey']"
   ]
  },
  {
   "cell_type": "code",
   "execution_count": null,
   "id": "b91f24d3f50a4627",
   "metadata": {
    "slideshow": {
     "slide_type": "subslide"
    }
   },
   "outputs": [],
   "source": [
    "translations[\"horse\"] = \"Pferd\"\n",
    "translations[\"horse\"]"
   ]
  },
  {
   "cell_type": "code",
   "execution_count": null,
   "id": "8dd4712251346896",
   "metadata": {
    "slideshow": {
     "slide_type": "subslide"
    }
   },
   "outputs": [],
   "source": [
    "for key in translations.keys():\n",
    "    print(key, end=\" \")"
   ]
  },
  {
   "cell_type": "code",
   "execution_count": null,
   "id": "ed819fac7ac97600",
   "metadata": {
    "slideshow": {
     "slide_type": "subslide"
    }
   },
   "outputs": [],
   "source": [
    "for key in translations:\n",
    "    print(key, end=\" \")"
   ]
  },
  {
   "cell_type": "code",
   "execution_count": null,
   "id": "2061c4e4d01c59d4",
   "metadata": {},
   "outputs": [],
   "source": [
    "for val in translations.values():\n",
    "    print(val, end=\" \")"
   ]
  },
  {
   "cell_type": "code",
   "execution_count": null,
   "id": "218899e8f065608c",
   "metadata": {
    "slideshow": {
     "slide_type": "subslide"
    }
   },
   "outputs": [],
   "source": [
    "for item in translations.items():\n",
    "    print(item, end=\" \")"
   ]
  },
  {
   "cell_type": "code",
   "execution_count": null,
   "id": "43f9c341964469c7",
   "metadata": {},
   "outputs": [],
   "source": [
    "for key, val in translations.items():\n",
    "    print(\"Key:\", key, \"\\tValue:\", val)"
   ]
  },
  {
   "cell_type": "markdown",
   "id": "eefe3035701ee1a4",
   "metadata": {
    "lang": "de",
    "slideshow": {
     "slide_type": "subslide"
    }
   },
   "source": [
    "### Hinweise für den nächsten Workshop"
   ]
  },
  {
   "cell_type": "code",
   "execution_count": null,
   "id": "661dd957910230d3",
   "metadata": {
    "tags": [
     "keep"
    ]
   },
   "outputs": [],
   "source": [
    "advice = \"Don't worry be happy\""
   ]
  },
  {
   "cell_type": "code",
   "execution_count": null,
   "id": "ba4729fdf8cd4955",
   "metadata": {
    "tags": [
     "keep"
    ]
   },
   "outputs": [],
   "source": [
    "words = advice.split()"
   ]
  },
  {
   "cell_type": "code",
   "execution_count": null,
   "id": "802e9423a1969933",
   "metadata": {
    "tags": [
     "keep"
    ]
   },
   "outputs": [],
   "source": [
    "\" \".join(words)"
   ]
  },
  {
   "cell_type": "code",
   "execution_count": null,
   "id": "c858f0722348fbce",
   "metadata": {
    "tags": [
     "keep"
    ]
   },
   "outputs": [],
   "source": [
    "smileys = {\"worry\": \"\\U0001f61f\", \"happy\": \"\\U0001f600\"}"
   ]
  },
  {
   "cell_type": "markdown",
   "id": "69ad2f3ae89266c2",
   "metadata": {
    "lang": "de",
    "slideshow": {
     "slide_type": "subslide"
    }
   },
   "source": [
    "### Mini-Workshop\n",
    "\n",
    "Schreiben Sie eine Funktion `replace_words(text: str, replacements: dict)`, die alle\n",
    "Wörter, die in `dict` als Key vorkommen durch ihren Wert in `dict` ersetzen.\n",
    "\n",
    "```python\n",
    ">>> replace_words(advice, smileys)\n",
    "\"Don't 😟 be 😀\"\n",
    "```\n",
    "#### Hinweise\n",
    "\n",
    "- Splitten Sie `text` in eine Liste `words` aus einzelnen Wörtern\n",
    "\n",
    "- Erzeugen Sie eine neue leere Liste `new_words`\n",
    "\n",
    "- Iterieren Sie über `words` und fügen Sie jedes Wort, das nicht im Wörterbuch\n",
    "  vorkommt unverändert an `new_words` an; fügen Sie für jedes Wort, das im Wörterbuch\n",
    "  vorkommt seine Übersetzung an\n",
    "\n",
    "- Fügen Sie `new_words` mit der `join()`-Methode zu einem String zusammen"
   ]
  },
  {
   "cell_type": "code",
   "execution_count": null,
   "id": "49dd298ff87cc6b7",
   "metadata": {},
   "outputs": [],
   "source": [
    "def replace_words(text: str, replacements: dict):\n",
    "    new_words = []\n",
    "    for word in text.lower().split():\n",
    "        replacement = replacements.get(word)\n",
    "        if replacement is not None:\n",
    "            new_words.append(replacement)\n",
    "        else:\n",
    "            new_words.append(word)\n",
    "    return \" \".join(new_words)"
   ]
  },
  {
   "cell_type": "code",
   "execution_count": null,
   "id": "97fcd5c5f41d3738",
   "metadata": {},
   "outputs": [],
   "source": [
    "replace_words(advice, smileys)"
   ]
  },
  {
   "cell_type": "code",
   "execution_count": null,
   "id": "6936723636934d46",
   "metadata": {},
   "outputs": [],
   "source": [
    "def replace_words_2(text: str, replacements: dict):\n",
    "    return \" \".join(replacements.get(word, word) for word in text.split())"
   ]
  },
  {
   "cell_type": "code",
   "execution_count": null,
   "id": "16aeb597b93add91",
   "metadata": {},
   "outputs": [],
   "source": [
    "replace_words_2(advice, smileys)"
   ]
  },
  {
   "cell_type": "code",
   "execution_count": null,
   "id": "d2fe13cedf51018d",
   "metadata": {},
   "outputs": [],
   "source": [
    "def make_translator(replacements: dict):\n",
    "    def translate(word):\n",
    "        return replacements.get(word, word)\n",
    "\n",
    "    return translate"
   ]
  },
  {
   "cell_type": "code",
   "execution_count": null,
   "id": "d99a9e022fec524f",
   "metadata": {},
   "outputs": [],
   "source": [
    "def apply_function_to_words(text, fun):\n",
    "    return \" \".join(fun(word) for word in text.split())"
   ]
  },
  {
   "cell_type": "code",
   "execution_count": null,
   "id": "7d573fe3de8f6479",
   "metadata": {},
   "outputs": [],
   "source": [
    "def replace_words_3(text: str, replacements: dict):\n",
    "    return apply_function_to_words(text, make_translator(replacements))"
   ]
  },
  {
   "cell_type": "code",
   "execution_count": null,
   "id": "e8f725eca20e3cc5",
   "metadata": {},
   "outputs": [],
   "source": [
    "replace_words_3(advice, smileys)"
   ]
  }
 ],
 "metadata": {
  "kernelspec": {
   "display_name": "Python 3 (ipykernel)",
   "language": "python",
   "name": "python3"
  }
 },
 "nbformat": 4,
 "nbformat_minor": 5
}
