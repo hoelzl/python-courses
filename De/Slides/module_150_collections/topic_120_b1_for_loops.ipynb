{
 "cells": [
  {
   "cell_type": "markdown",
   "id": "00d49280c286bcf8",
   "metadata": {
    "lang": "de",
    "slideshow": {
     "slide_type": "slide"
    }
   },
   "source": [
    "<img src=\"../../img/python-logo-no-text.svg\"\n",
    "     style=\"display:block;margin:auto;width:10%\"/>\n",
    "<br>\n",
    "<div style=\"text-align:center; font-size:200%;\">\n",
    "  <b>For-Schleifen</b>\n",
    "</div>\n",
    "<br/>\n",
    "<div style=\"text-align:center;\">Dr. Matthias Hölzl</div>\n",
    "<br/>\n",
    "<div style=\"text-align:center;\">module_150_collections/topic_120_b1_for_loops</div>"
   ]
  },
  {
   "cell_type": "markdown",
   "id": "3f86e1f72365585b",
   "metadata": {
    "lang": "de",
    "slideshow": {
     "slide_type": "slide"
    }
   },
   "source": [
    "## Iteration über Listen\n",
    "\n",
    "In Python kann man mit der `for`-Schleife über Listen iterieren.\n",
    "\n",
    "Die `for`-Schleife entspricht dem range-based for aus C++,\n",
    "`for-in`/`for-of` aus JavaScript oder der `for-each`-Schleife\n",
    "aus Java, nicht der klassischen `for`-Schleife\n",
    "aus C, C++ oder Java."
   ]
  },
  {
   "cell_type": "code",
   "execution_count": null,
   "id": "714fd7ce7027427d",
   "metadata": {
    "slideshow": {
     "slide_type": "subslide"
    },
    "tags": [
     "keep"
    ]
   },
   "outputs": [],
   "source": [
    "number_list = [0, 1, 2, 3, 4]\n",
    "number_list  # type: ignore"
   ]
  },
  {
   "cell_type": "code",
   "execution_count": null,
   "id": "86725ba16f3b49aa",
   "metadata": {},
   "outputs": [],
   "source": [
    "for number in number_list:\n",
    "    print(\"Number is:\", number)"
   ]
  },
  {
   "cell_type": "markdown",
   "id": "2eae30c639ade9f4",
   "metadata": {
    "lang": "de",
    "slideshow": {
     "slide_type": "subslide"
    }
   },
   "source": [
    "## Syntax der `for`-Schleife\n",
    "\n",
    "```python\n",
    "for <Element-var> in <Liste>:\n",
    "    <Rumpf>\n",
    "```"
   ]
  },
  {
   "cell_type": "markdown",
   "id": "c8627228a6f380fa",
   "metadata": {
    "lang": "de",
    "lines_to_next_cell": 2,
    "slideshow": {
     "slide_type": "subslide"
    }
   },
   "source": [
    "### Mini-Workshop\n",
    "\n",
    "Schreiben Sie eine Funktion `print_all(items: list)`, die die Elemente der\n",
    "Liste `items` auf dem Bildschirm ausgibt, jeweils ein Element pro Zeile:\n",
    "\n",
    "```python\n",
    ">>> print_all([1, 2, 3])\n",
    "1\n",
    "2\n",
    "3\n",
    ">>>\n",
    "```\n",
    "Was passiert, wenn Sie die Funktion mit einem String als Argument aufrufen,\n",
    "z.B. `print_all(\"abc\")`"
   ]
  },
  {
   "cell_type": "code",
   "execution_count": null,
   "id": "00c3136ee332cd07",
   "metadata": {},
   "outputs": [],
   "source": [
    "def print_all(items: list):\n",
    "    for item in items:\n",
    "        print(item)"
   ]
  },
  {
   "cell_type": "code",
   "execution_count": null,
   "id": "edfcb8065a2861d7",
   "metadata": {},
   "outputs": [],
   "source": [
    "print_all([1, 2, 3])"
   ]
  },
  {
   "cell_type": "code",
   "execution_count": null,
   "id": "8a74ebb60be622cd",
   "metadata": {},
   "outputs": [],
   "source": [
    "print_all(\"abc\")  # type: ignore"
   ]
  },
  {
   "cell_type": "markdown",
   "id": "6df57867056a6c36",
   "metadata": {
    "lang": "de",
    "slideshow": {
     "slide_type": "subslide"
    }
   },
   "source": [
    "\n",
    "## Workshop: Einkaufsliste\n",
    "\n",
    "Definieren Sie Variablen\n",
    "- `meine_einkaufsliste`, die eine Liste mit den Strings `Tee` und `Kaffee`\n",
    "  enthält,\n",
    "- `eine_andere_einkaufsliste`, die ebenfalls eine Liste mit den Strings\n",
    "  `Tee` und `Kaffee` enthält."
   ]
  },
  {
   "cell_type": "code",
   "execution_count": null,
   "id": "eb0c3457b4334dcb",
   "metadata": {
    "lang": "de"
   },
   "outputs": [],
   "source": [
    "meine_einkaufsliste = [\"Tee\", \"Kaffee\"]\n",
    "eine_andere_einkaufsliste = [\"Tee\", \"Kaffee\"]"
   ]
  },
  {
   "cell_type": "markdown",
   "id": "1a5d506eb5959f1b",
   "metadata": {
    "lang": "de"
   },
   "source": [
    "\n",
    "Definieren Sie eine Funktion `drucke_einkaufsliste(einkaufsliste)`, die die\n",
    "als Argument übergebene Einkaufsliste ausdruckt:\n",
    "\n",
    "```\n",
    "Einkaufsliste:\n",
    "  Tee\n",
    "  Kaffee\n",
    "```"
   ]
  },
  {
   "cell_type": "code",
   "execution_count": null,
   "id": "903a689e610e6aaf",
   "metadata": {
    "lang": "de"
   },
   "outputs": [],
   "source": [
    "def drucke_einkaufsliste(einkaufsliste):\n",
    "    print(\"Einkaufsliste:\")\n",
    "    for item in einkaufsliste:\n",
    "        print(\" \", item)"
   ]
  },
  {
   "cell_type": "markdown",
   "id": "ff3f48e16275ee1d",
   "metadata": {
    "lang": "de"
   },
   "source": [
    "\n",
    "Testen Sie die Funktion `drucke_einkaufsliste(einkaufsliste)` mit beiden\n",
    "Einkaufslisten."
   ]
  },
  {
   "cell_type": "code",
   "execution_count": null,
   "id": "2e5d98b317244f48",
   "metadata": {
    "lang": "de"
   },
   "outputs": [],
   "source": [
    "drucke_einkaufsliste(meine_einkaufsliste)"
   ]
  },
  {
   "cell_type": "code",
   "execution_count": null,
   "id": "7312baeeea2b1fdb",
   "metadata": {
    "lang": "de"
   },
   "outputs": [],
   "source": [
    "drucke_einkaufsliste(eine_andere_einkaufsliste)"
   ]
  },
  {
   "cell_type": "markdown",
   "id": "3f0bb8bd8d1aa2cc",
   "metadata": {
    "lang": "de"
   },
   "source": [
    "\n",
    "Definieren Sie eine Funktion `kaufe(produkt, einkaufsliste)`, das `produkt`\n",
    "zu  `einkaufsliste` hinzufügt."
   ]
  },
  {
   "cell_type": "code",
   "execution_count": null,
   "id": "740829f3c3766577",
   "metadata": {
    "lang": "de"
   },
   "outputs": [],
   "source": [
    "def kaufe(produkt, einkaufsliste):\n",
    "    einkaufsliste.append(produkt)"
   ]
  },
  {
   "cell_type": "markdown",
   "id": "50b668fe1ae01bb3",
   "metadata": {
    "lang": "de"
   },
   "source": [
    "Fügen Sie `Butter` und `Brot` zur Einkaufsliste `meine_einkaufsliste` hinzu."
   ]
  },
  {
   "cell_type": "code",
   "execution_count": null,
   "id": "84d32a80f97adddf",
   "metadata": {
    "lang": "de"
   },
   "outputs": [],
   "source": [
    "kaufe(\"Butter\", meine_einkaufsliste)\n",
    "kaufe(\"Brot\", meine_einkaufsliste)"
   ]
  },
  {
   "cell_type": "markdown",
   "id": "6527c008c9149f68",
   "metadata": {
    "lang": "de"
   },
   "source": [
    "Drucken Sie beide Einkaufslisten nochmal aus."
   ]
  },
  {
   "cell_type": "code",
   "execution_count": null,
   "id": "46c2d9c64d31a324",
   "metadata": {
    "lang": "de"
   },
   "outputs": [],
   "source": [
    "drucke_einkaufsliste(meine_einkaufsliste)"
   ]
  },
  {
   "cell_type": "code",
   "execution_count": null,
   "id": "5b023470d235af41",
   "metadata": {
    "lang": "de"
   },
   "outputs": [],
   "source": [
    "drucke_einkaufsliste(eine_andere_einkaufsliste)"
   ]
  },
  {
   "cell_type": "markdown",
   "id": "d48ae0bdf0f67048",
   "metadata": {
    "lang": "de"
   },
   "source": [
    "Was passiert, wenn Sie `Butter` und `Brot` nochmals zur Einkaufsliste\n",
    "`meine_einkaufsliste` hinzufügen?"
   ]
  },
  {
   "cell_type": "code",
   "execution_count": null,
   "id": "5d2e62aea6d539af",
   "metadata": {
    "lang": "de"
   },
   "outputs": [],
   "source": [
    "kaufe(\"Butter\", meine_einkaufsliste)\n",
    "kaufe(\"Brot\", meine_einkaufsliste)\n",
    "drucke_einkaufsliste(meine_einkaufsliste)"
   ]
  },
  {
   "cell_type": "markdown",
   "id": "1495b6899b067550",
   "metadata": {
    "lang": "de",
    "slideshow": {
     "slide_type": "subslide"
    }
   },
   "source": [
    "### Ranges"
   ]
  },
  {
   "cell_type": "code",
   "execution_count": null,
   "id": "2bfe728213531f49",
   "metadata": {
    "tags": [
     "keep"
    ]
   },
   "outputs": [],
   "source": [
    "range(1, 4)"
   ]
  },
  {
   "cell_type": "code",
   "execution_count": null,
   "id": "756b1ae627990fa6",
   "metadata": {
    "tags": [
     "keep"
    ]
   },
   "outputs": [],
   "source": [
    "list(range(1, 4))"
   ]
  },
  {
   "cell_type": "code",
   "execution_count": null,
   "id": "703689050aab2978",
   "metadata": {
    "tags": [
     "keep"
    ]
   },
   "outputs": [],
   "source": [
    "range(4)"
   ]
  },
  {
   "cell_type": "code",
   "execution_count": null,
   "id": "b52d79be179e50fb",
   "metadata": {
    "tags": [
     "keep"
    ]
   },
   "outputs": [],
   "source": [
    "list(range(4))"
   ]
  },
  {
   "cell_type": "code",
   "execution_count": null,
   "id": "96359b8c3605c9f6",
   "metadata": {
    "tags": [
     "keep"
    ]
   },
   "outputs": [],
   "source": [
    "list(range(1, 9, 2))"
   ]
  },
  {
   "cell_type": "code",
   "execution_count": null,
   "id": "c3a90d7e5a7d021b",
   "metadata": {
    "slideshow": {
     "slide_type": "subslide"
    }
   },
   "outputs": [],
   "source": [
    "for i in range(3):\n",
    "    print(i, end=\", \")"
   ]
  },
  {
   "cell_type": "code",
   "execution_count": null,
   "id": "7bd1e059ae9c162f",
   "metadata": {
    "lines_to_next_cell": 2
   },
   "outputs": [],
   "source": [
    "for i in range(1, 6, 2):\n",
    "    print(i, end=\", \")"
   ]
  },
  {
   "cell_type": "markdown",
   "id": "fd2c02957dc3b805",
   "metadata": {
    "lang": "de",
    "lines_to_next_cell": 2,
    "slideshow": {
     "slide_type": "subslide"
    }
   },
   "source": [
    "### Mini-Workshop\n",
    "\n",
    "Schreiben Sie eine Funktion `print_squares(n: int)`, die die Quadrate der\n",
    "Zahlen von 1 bis n ausgibt, jeweils ein Element pro Zeile:\n",
    "\n",
    "```python\n",
    ">>> print_square(3)\n",
    "1**2 = 1\n",
    "2**2 = 4\n",
    "3**2 = 9\n",
    ">>>\n",
    "```"
   ]
  },
  {
   "cell_type": "code",
   "execution_count": null,
   "id": "74b0d58e2c749913",
   "metadata": {},
   "outputs": [],
   "source": [
    "def print_squares(n: int):\n",
    "    for i in range(1, n + 1):\n",
    "        print(i, \"**2 = \", i * i, sep=\"\")"
   ]
  },
  {
   "cell_type": "code",
   "execution_count": null,
   "id": "170db0a09936dfeb",
   "metadata": {},
   "outputs": [],
   "source": [
    "print_squares(3)"
   ]
  }
 ],
 "metadata": {},
 "nbformat": 4,
 "nbformat_minor": 5
}
