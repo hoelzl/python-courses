{
 "cells": [
  {
   "cell_type": "markdown",
   "id": "4b116dac",
   "metadata": {
    "lang": "de",
    "slideshow": {
     "slide_type": "slide"
    }
   },
   "source": [
    "<img src=\"img/python-logo-notext.svg\"\n",
    "     style=\"display:block;margin:auto;width:10%\"/>\n",
    "<br>\n",
    "<div style=\"text-align:center; font-size:200%;\"><b>Namensräume und Closures</b></div>\n",
    "<br/>\n",
    "<div style=\"text-align:center;\">Dr. Matthias Hölzl</div>"
   ]
  },
  {
   "cell_type": "markdown",
   "id": "ccb7a4c5",
   "metadata": {
    "lang": "de",
    "slideshow": {
     "slide_type": "slide"
    }
   },
   "source": [
    "# Namensräume\n",
    "\n",
    "Variablen und Funktionsnamen existieren in einem *Namensraum (Namespace)*.\n",
    "\n",
    "- Globale Variablen und Funktionsnamen sind im globalen Namensraum.\n",
    "- Mit `import` importierte Namen existieren im importierten Namensraum.\n",
    "- Namen, die innerhalb einer Funktion definiert werden sind im Namensraum dieser Funktion.\n",
    "    - Parameter\n",
    "    - lokale Variablen\n",
    "\n",
    "Der Namensraum einer Funktion \"verschwindet\" am Ende des Rumpfs."
   ]
  },
  {
   "cell_type": "code",
   "execution_count": null,
   "id": "9f53b870",
   "metadata": {
    "slideshow": {
     "slide_type": "subslide"
    },
    "tags": [
     "keep"
    ]
   },
   "outputs": [],
   "source": [
    "# Ohne Angabe der Namensräume, siehe nächste Folie\n",
    "# fmt: off\n",
    "a = 1\n",
    "\n",
    "def f(x):\n",
    "    # print(a) # Was passiert, wenn diese Zeile einkommentiert wird?\n",
    "    a = x + 1\n",
    "    print(a)\n",
    "\n",
    "f(2)\n",
    "print(a)\n",
    "# print(x)\n",
    "# fmt: on"
   ]
  },
  {
   "cell_type": "code",
   "execution_count": null,
   "id": "40a58f81",
   "metadata": {
    "slideshow": {
     "slide_type": "subslide"
    },
    "tags": [
     "keep"
    ]
   },
   "outputs": [],
   "source": [
    "# fmt: off\n",
    "a = 1         # Globaler Namespace\n",
    "\n",
    "def f(x):     # Namespace von f - x ist im globalen Namespace *nicht* sichtbar\n",
    "    a = x + 1 # Namespace von f - a ist im globalen Namespace *nicht* sichtbar\n",
    "    print(a)  # Greift auf a aus dem Namespace von f zu\n",
    "\n",
    "f(2)\n",
    "print(a)      # Greift auf a aus dem globalen Namespace zu\n",
    "# print(x)    # Fehler: x ist im Namespace von f\n",
    "# fmt: on"
   ]
  },
  {
   "cell_type": "code",
   "execution_count": null,
   "id": "04916d28",
   "metadata": {
    "slideshow": {
     "slide_type": "subslide"
    },
    "tags": [
     "keep"
    ]
   },
   "outputs": [],
   "source": [
    "# fmt: off\n",
    "a = 1\n",
    "\n",
    "def f2(x):\n",
    "    global a\n",
    "    a = x + 1\n",
    "    print(a)\n",
    "\n",
    "f2(2)\n",
    "print(a)\n",
    "a = 5\n",
    "print(a)\n",
    "# fmt: on"
   ]
  },
  {
   "cell_type": "code",
   "execution_count": null,
   "id": "aa035907",
   "metadata": {},
   "outputs": [],
   "source": [
    "from dis import dis"
   ]
  },
  {
   "cell_type": "code",
   "execution_count": null,
   "id": "987a0703",
   "metadata": {},
   "outputs": [],
   "source": [
    "dis(f)"
   ]
  },
  {
   "cell_type": "code",
   "execution_count": null,
   "id": "256b2eab",
   "metadata": {},
   "outputs": [],
   "source": [
    "dis(f2)"
   ]
  },
  {
   "cell_type": "code",
   "execution_count": null,
   "id": "96a9c00f",
   "metadata": {
    "lines_to_next_cell": 1
   },
   "outputs": [],
   "source": [
    "# fmt: off\n",
    "a = 1\n",
    "\n",
    "def f_broken():\n",
    "    # noinspection PyUnresolvedReferences\n",
    "    print(a)\n",
    "    a = 2\n",
    "# fmt: on"
   ]
  },
  {
   "cell_type": "code",
   "execution_count": null,
   "id": "e807bc1d",
   "metadata": {},
   "outputs": [],
   "source": [
    "# f_broken()"
   ]
  },
  {
   "cell_type": "code",
   "execution_count": null,
   "id": "af07af5f",
   "metadata": {},
   "outputs": [],
   "source": [
    "dis(f_broken)"
   ]
  },
  {
   "cell_type": "markdown",
   "id": "d6d05e4e",
   "metadata": {
    "lang": "de",
    "lines_to_next_cell": 2,
    "slideshow": {
     "slide_type": "subslide"
    }
   },
   "source": [
    "\n",
    "*Hinweis:* In Python führt der Rumpf von `if` und `for` Anweisungen keine\n",
    "verschachtelte Namespaces ein; Variablen, die dortdefiniert sind, gehören zum\n",
    "umgebenden Namespace."
   ]
  },
  {
   "cell_type": "code",
   "execution_count": null,
   "id": "fb178aae",
   "metadata": {},
   "outputs": [],
   "source": [
    "if True:\n",
    "    x = 123"
   ]
  },
  {
   "cell_type": "code",
   "execution_count": null,
   "id": "10bfe847",
   "metadata": {},
   "outputs": [],
   "source": [
    "print(x)"
   ]
  },
  {
   "cell_type": "code",
   "execution_count": null,
   "id": "59ae8760",
   "metadata": {},
   "outputs": [],
   "source": [
    "for my_index in range(3):\n",
    "    y = my_index"
   ]
  },
  {
   "cell_type": "code",
   "execution_count": null,
   "id": "29fba316",
   "metadata": {},
   "outputs": [],
   "source": [
    "print(my_index)\n",
    "print(y)"
   ]
  },
  {
   "cell_type": "markdown",
   "id": "c1229860",
   "metadata": {
    "lang": "de",
    "slideshow": {
     "slide_type": "slide"
    }
   },
   "source": [
    "\n",
    "# Funktionen\n",
    "\n",
    "In Python sind Funktionen Objekte erster Ordnung, d.h., sie können von\n",
    "Variablen referenziert, als Argumente an Funktionen übergeben werden, etc.\n",
    "\n",
    "Funktionen haben den Typ `Callable`."
   ]
  },
  {
   "cell_type": "code",
   "execution_count": null,
   "id": "cd2fd3e1",
   "metadata": {},
   "outputs": [],
   "source": [
    "print(open.__name__)"
   ]
  },
  {
   "cell_type": "code",
   "execution_count": null,
   "id": "812af792",
   "metadata": {},
   "outputs": [],
   "source": [
    "from typing import Callable"
   ]
  },
  {
   "cell_type": "code",
   "execution_count": null,
   "id": "6a220fd4",
   "metadata": {
    "lines_to_next_cell": 1
   },
   "outputs": [],
   "source": [
    "isinstance(list, Callable)"
   ]
  },
  {
   "cell_type": "code",
   "execution_count": null,
   "id": "3cffc8fd",
   "metadata": {
    "slideshow": {
     "slide_type": "subslide"
    }
   },
   "outputs": [],
   "source": [
    "def call_with_two_args(fun):\n",
    "    print(f\"Calling function {fun.__name__!r}\")\n",
    "    result = fun(2, 3)\n",
    "    print(f\"Result is {result}\")\n",
    "    return result"
   ]
  },
  {
   "cell_type": "code",
   "execution_count": null,
   "id": "84413cf5",
   "metadata": {},
   "outputs": [],
   "source": [
    "call_with_two_args(pow)"
   ]
  },
  {
   "cell_type": "code",
   "execution_count": null,
   "id": "f59f884d",
   "metadata": {},
   "outputs": [],
   "source": [
    "import operator\n",
    "\n",
    "call_with_two_args(operator.add)"
   ]
  },
  {
   "cell_type": "code",
   "execution_count": null,
   "id": "ef76765d",
   "metadata": {},
   "outputs": [],
   "source": [
    "call_with_two_args(operator.lt)"
   ]
  },
  {
   "cell_type": "code",
   "execution_count": null,
   "id": "8dc96414",
   "metadata": {},
   "outputs": [],
   "source": [
    "def print_and_add(x, y):\n",
    "    print(f\"x = {x}, y = {y}\")\n",
    "    return x + y"
   ]
  },
  {
   "cell_type": "code",
   "execution_count": null,
   "id": "e7c22005",
   "metadata": {},
   "outputs": [],
   "source": [
    "call_with_two_args(print_and_add)"
   ]
  },
  {
   "cell_type": "markdown",
   "id": "89023b57",
   "metadata": {
    "lang": "de",
    "lines_to_next_cell": 2,
    "slideshow": {
     "slide_type": "subslide"
    }
   },
   "source": [
    "\n",
    "## Mini-Workshop \"Drucken von Elementen\"\n",
    "\n",
    "Schreiben Sie eine Funktion `print_truthy_elements(a_list: list, fun:\n",
    "Callable)`, die jedes Element `x` von `a_list` ausgibt, für das `fun(x)` einen\n",
    "wahren Wert liefert.\n",
    "\n",
    "Prüfen Sie die Ausgabe für die Liste `example_values` und die Funktionen\n",
    "`greater_than_2()` und `less_than_10()`."
   ]
  },
  {
   "cell_type": "code",
   "execution_count": null,
   "id": "58aedf37",
   "metadata": {
    "lines_to_next_cell": 1,
    "tags": [
     "keep"
    ]
   },
   "outputs": [],
   "source": [
    "example_values = [1, 2, 3, 9, 10]"
   ]
  },
  {
   "cell_type": "code",
   "execution_count": null,
   "id": "cea41c04",
   "metadata": {
    "tags": [
     "keep"
    ]
   },
   "outputs": [],
   "source": [
    "def greater_than_2(n):\n",
    "    return n > 2"
   ]
  },
  {
   "cell_type": "code",
   "execution_count": null,
   "id": "d5cf61a6",
   "metadata": {
    "tags": [
     "keep"
    ]
   },
   "outputs": [],
   "source": [
    "def less_than_10(n):\n",
    "    return n < 10"
   ]
  },
  {
   "cell_type": "code",
   "execution_count": null,
   "id": "6dfc2e13",
   "metadata": {
    "lines_to_next_cell": 1,
    "tags": [
     "keep"
    ]
   },
   "outputs": [],
   "source": [
    "from typing import Callable"
   ]
  },
  {
   "cell_type": "code",
   "execution_count": null,
   "id": "8b90c64c",
   "metadata": {},
   "outputs": [],
   "source": [
    "def print_truthy_elements(a_list: list, fun: Callable):\n",
    "    for x in a_list:\n",
    "        if fun(x):\n",
    "            print(x)"
   ]
  },
  {
   "cell_type": "code",
   "execution_count": null,
   "id": "b8f4487e",
   "metadata": {},
   "outputs": [],
   "source": [
    "print_truthy_elements(example_values, greater_than_2)"
   ]
  },
  {
   "cell_type": "code",
   "execution_count": null,
   "id": "891cbc79",
   "metadata": {},
   "outputs": [],
   "source": [
    "print_truthy_elements(example_values, less_than_10)"
   ]
  },
  {
   "cell_type": "markdown",
   "id": "a2949fea",
   "metadata": {
    "lang": "de",
    "slideshow": {
     "slide_type": "slide"
    }
   },
   "source": [
    "\n",
    "## Closures\n",
    "\n",
    "In Python ist es möglich Funktionen innerhalb von anderen Funktionen zu\n",
    "definieren. Diese können auf die Variablen der äußeren Funktion zugreifen."
   ]
  },
  {
   "cell_type": "code",
   "execution_count": null,
   "id": "c1b3eca3",
   "metadata": {
    "lines_to_next_cell": 1,
    "tags": [
     "keep"
    ]
   },
   "outputs": [],
   "source": [
    "from random import randint"
   ]
  },
  {
   "cell_type": "code",
   "execution_count": null,
   "id": "6794d2f7",
   "metadata": {},
   "outputs": [],
   "source": [
    "def generate_random_value():\n",
    "    return randint(1, 4)"
   ]
  },
  {
   "cell_type": "code",
   "execution_count": null,
   "id": "a729ef4b",
   "metadata": {},
   "outputs": [],
   "source": [
    "generate_random_value()"
   ]
  },
  {
   "cell_type": "code",
   "execution_count": null,
   "id": "ce950175",
   "metadata": {
    "slideshow": {
     "slide_type": "subslide"
    }
   },
   "outputs": [],
   "source": [
    "from dis import dis"
   ]
  },
  {
   "cell_type": "code",
   "execution_count": null,
   "id": "9912361d",
   "metadata": {},
   "outputs": [],
   "source": [
    "dis(generate_random_value)"
   ]
  },
  {
   "cell_type": "code",
   "execution_count": null,
   "id": "c8182b22",
   "metadata": {
    "slideshow": {
     "slide_type": "subslide"
    }
   },
   "outputs": [],
   "source": [
    "def make_and_call_nested_function():\n",
    "    def return_random_value():\n",
    "        return randint(1, 4)\n",
    "\n",
    "    return return_random_value()"
   ]
  },
  {
   "cell_type": "code",
   "execution_count": null,
   "id": "a60acfc1",
   "metadata": {},
   "outputs": [],
   "source": [
    "make_and_call_nested_function()"
   ]
  },
  {
   "cell_type": "code",
   "execution_count": null,
   "id": "5b40d24a",
   "metadata": {
    "lines_to_next_cell": 1
   },
   "outputs": [],
   "source": [
    "dis(make_and_call_nested_function)"
   ]
  },
  {
   "cell_type": "code",
   "execution_count": null,
   "id": "151d5f70",
   "metadata": {
    "slideshow": {
     "slide_type": "subslide"
    }
   },
   "outputs": [],
   "source": [
    "def make_and_return_nested_function():\n",
    "    def return_random_value():\n",
    "        return randint(1, 4)\n",
    "\n",
    "    return return_random_value"
   ]
  },
  {
   "cell_type": "code",
   "execution_count": null,
   "id": "13ba8c36",
   "metadata": {},
   "outputs": [],
   "source": [
    "my_fun = make_and_return_nested_function()\n",
    "my_fun"
   ]
  },
  {
   "cell_type": "code",
   "execution_count": null,
   "id": "3d6aa6bd",
   "metadata": {},
   "outputs": [],
   "source": [
    "my_fun()"
   ]
  },
  {
   "cell_type": "code",
   "execution_count": null,
   "id": "69de04e9",
   "metadata": {
    "lines_to_next_cell": 1
   },
   "outputs": [],
   "source": [
    "dis(make_and_return_nested_function)"
   ]
  },
  {
   "cell_type": "code",
   "execution_count": null,
   "id": "be1dea09",
   "metadata": {
    "slideshow": {
     "slide_type": "subslide"
    }
   },
   "outputs": [],
   "source": [
    "def make_closure_1():\n",
    "    local_value = randint(1, 4)\n",
    "\n",
    "    def return_local_value():\n",
    "        return local_value\n",
    "\n",
    "    return return_local_value"
   ]
  },
  {
   "cell_type": "code",
   "execution_count": null,
   "id": "f85736c2",
   "metadata": {},
   "outputs": [],
   "source": [
    "my_closure_1 = make_closure_1()\n",
    "my_closure_1"
   ]
  },
  {
   "cell_type": "code",
   "execution_count": null,
   "id": "427f5cf6",
   "metadata": {},
   "outputs": [],
   "source": [
    "my_closure_1()"
   ]
  },
  {
   "cell_type": "code",
   "execution_count": null,
   "id": "ce8e2214",
   "metadata": {},
   "outputs": [],
   "source": [
    "your_closure_1 = make_closure_1()\n",
    "your_closure_1"
   ]
  },
  {
   "cell_type": "code",
   "execution_count": null,
   "id": "bc5e712f",
   "metadata": {},
   "outputs": [],
   "source": [
    "your_closure_1()"
   ]
  },
  {
   "cell_type": "code",
   "execution_count": null,
   "id": "bf9a8de9",
   "metadata": {},
   "outputs": [],
   "source": [
    "dis(make_closure_1)"
   ]
  },
  {
   "cell_type": "code",
   "execution_count": null,
   "id": "93d2ce4a",
   "metadata": {
    "slideshow": {
     "slide_type": "subslide"
    }
   },
   "outputs": [],
   "source": [
    "def make_closure_2():\n",
    "    local_value = randint(1, 10)\n",
    "\n",
    "    def return_local_value():\n",
    "        return local_value\n",
    "\n",
    "    def inc_local_value():\n",
    "        nonlocal local_value\n",
    "        local_value += 1\n",
    "\n",
    "    return return_local_value, inc_local_value"
   ]
  },
  {
   "cell_type": "code",
   "execution_count": null,
   "id": "492c41a0",
   "metadata": {
    "slideshow": {
     "slide_type": "subslide"
    }
   },
   "outputs": [],
   "source": [
    "get_value_1, inc_value_1 = make_closure_2()\n",
    "get_value_2, inc_value_2 = make_closure_2()\n",
    "get_value_1(), get_value_2()"
   ]
  },
  {
   "cell_type": "code",
   "execution_count": null,
   "id": "ddf87012",
   "metadata": {},
   "outputs": [],
   "source": [
    "get_value_1(), get_value_2()"
   ]
  },
  {
   "cell_type": "code",
   "execution_count": null,
   "id": "b14eebdc",
   "metadata": {
    "lines_to_next_cell": 2
   },
   "outputs": [],
   "source": [
    "inc_value_1()\n",
    "get_value_1(), get_value_2()"
   ]
  },
  {
   "cell_type": "code",
   "execution_count": null,
   "id": "be75c729",
   "metadata": {},
   "outputs": [],
   "source": [
    "inc_value_2()\n",
    "get_value_1(), get_value_2()"
   ]
  },
  {
   "cell_type": "code",
   "execution_count": null,
   "id": "fbc2cbe9",
   "metadata": {
    "slideshow": {
     "slide_type": "subslide"
    }
   },
   "outputs": [],
   "source": [
    "dis(make_closure_2)"
   ]
  },
  {
   "cell_type": "markdown",
   "id": "60deff84",
   "metadata": {
    "lang": "de",
    "lines_to_next_cell": 2,
    "slideshow": {
     "slide_type": "subslide"
    }
   },
   "source": [
    "\n",
    "## Mini-Workshop \"Mittelwertberechnung\"\n",
    "\n",
    "Schreiben Sie eine Funktion `make_mean_fun()`, die zwei Closures zurückgibt.\n",
    "\n",
    "- eine Funktion `add_value(new_value: int)`, die `new_value` an eine Liste\n",
    "  anhängt die in einer lokalen Variable `values` von `make_mean_fun()`\n",
    "  gespeichert ist\n",
    "- eine Funktion `compute_mean()`, die den Mittelwert aller Werte zurückgibt\n",
    "  die zuvor in `values` gespeichert wurden.\n",
    "\n",
    "Müssen Sie `nonlocal` verwenden, um auf `value` zuzugreifen? Warum, oder warum\n",
    "nicht?\n",
    "\n",
    "Stellen Sie sicher, dass Ihre Implementierung die vorgegebenen Testfälle\n",
    "erfüllt."
   ]
  },
  {
   "cell_type": "code",
   "execution_count": null,
   "id": "b541ed7a",
   "metadata": {
    "lines_to_next_cell": 1
   },
   "outputs": [],
   "source": [
    "def make_mean_fun():\n",
    "    values: list[int] = []\n",
    "\n",
    "    def add_value(new_value: int):\n",
    "        values.append(new_value)\n",
    "\n",
    "    def compute_mean():\n",
    "        return sum(values) / len(values)\n",
    "\n",
    "    return add_value, compute_mean"
   ]
  },
  {
   "cell_type": "markdown",
   "id": "f49e6999",
   "metadata": {
    "lang": "de"
   },
   "source": [
    "\n",
    "Testfälle:"
   ]
  },
  {
   "cell_type": "code",
   "execution_count": null,
   "id": "e5003aad",
   "metadata": {
    "tags": [
     "keep"
    ]
   },
   "outputs": [],
   "source": [
    "add_value_1, compute_mean_1 = make_mean_fun()\n",
    "add_value_2, compute_mean_2 = make_mean_fun()"
   ]
  },
  {
   "cell_type": "code",
   "execution_count": null,
   "id": "d7730127",
   "metadata": {
    "tags": [
     "keep"
    ]
   },
   "outputs": [],
   "source": [
    "for i in range(10):\n",
    "    add_value_1(i)\n",
    "\n",
    "for i in range(2, 21, 4):\n",
    "    add_value_2(i)"
   ]
  },
  {
   "cell_type": "code",
   "execution_count": null,
   "id": "97547d8f",
   "metadata": {
    "tags": [
     "keep"
    ]
   },
   "outputs": [],
   "source": [
    "assert compute_mean_1() == 4.5"
   ]
  },
  {
   "cell_type": "code",
   "execution_count": null,
   "id": "75968f10",
   "metadata": {
    "lines_to_next_cell": 1,
    "tags": [
     "keep"
    ]
   },
   "outputs": [],
   "source": [
    "assert compute_mean_2() == 10.0"
   ]
  },
  {
   "cell_type": "markdown",
   "id": "8de6b36f",
   "metadata": {
    "lang": "de"
   },
   "source": [
    "\n",
    "Schreiben Sie eine Funktion `make_mean_fun_2()`, die Closures mit ähnlicher\n",
    "Funktionalität wie `make_mean_fun()` zurückgibt, aber nur die Anzahl der\n",
    "hinzugefügten Elemente und ihre Gesamtsumme speichert.\n",
    "\n",
    "Müssen Sie in diesem Fall `nonlocal` für den Zugriff auf die Closure-Variablen\n",
    "verwenden? Warum, oder warum nicht?"
   ]
  },
  {
   "cell_type": "code",
   "execution_count": null,
   "id": "f69c90ab",
   "metadata": {},
   "outputs": [],
   "source": [
    "def make_mean_fun_2():\n",
    "    sum_of_values: int = 0\n",
    "    num_values: int = 0\n",
    "\n",
    "    def add_value(new_value: int):\n",
    "        nonlocal sum_of_values, num_values\n",
    "        sum_of_values += new_value\n",
    "        num_values += 1\n",
    "\n",
    "    def compute_mean():\n",
    "        return sum_of_values / num_values\n",
    "\n",
    "    return add_value, compute_mean"
   ]
  },
  {
   "cell_type": "markdown",
   "id": "82da72b2",
   "metadata": {
    "lang": "de"
   },
   "source": [
    "\n",
    "Testfälle:"
   ]
  },
  {
   "cell_type": "code",
   "execution_count": null,
   "id": "fa9371f9",
   "metadata": {
    "tags": [
     "keep"
    ]
   },
   "outputs": [],
   "source": [
    "add_value_3, compute_mean_3 = make_mean_fun_2()\n",
    "add_value_4, compute_mean_4 = make_mean_fun_2()"
   ]
  },
  {
   "cell_type": "code",
   "execution_count": null,
   "id": "63b17d1f",
   "metadata": {
    "tags": [
     "keep"
    ]
   },
   "outputs": [],
   "source": [
    "for i in range(10):\n",
    "    add_value_3(i)"
   ]
  },
  {
   "cell_type": "code",
   "execution_count": null,
   "id": "823a81eb",
   "metadata": {
    "tags": [
     "keep"
    ]
   },
   "outputs": [],
   "source": [
    "for i in range(2, 21, 4):\n",
    "    add_value_4(i)"
   ]
  },
  {
   "cell_type": "code",
   "execution_count": null,
   "id": "b0f624e8",
   "metadata": {
    "tags": [
     "keep"
    ]
   },
   "outputs": [],
   "source": [
    "assert compute_mean_3() == 4.5"
   ]
  },
  {
   "cell_type": "code",
   "execution_count": null,
   "id": "12f5463f",
   "metadata": {
    "tags": [
     "keep"
    ]
   },
   "outputs": [],
   "source": [
    "assert compute_mean_4() == 10.0"
   ]
  },
  {
   "cell_type": "markdown",
   "id": "4452ef30",
   "metadata": {
    "lang": "de",
    "slideshow": {
     "slide_type": "slide"
    }
   },
   "source": [
    "\n",
    "# Anonyme Funktionen\n",
    "\n",
    "Für kurze Funktionen, die nur an einer einzigen Stelle verwendet werden, ist\n",
    "es oft unpraktisch, eine benannte Funktionsdefinition bereitzustellen:"
   ]
  },
  {
   "cell_type": "code",
   "execution_count": null,
   "id": "fe8c63b8",
   "metadata": {
    "slideshow": {
     "slide_type": "subslide"
    },
    "tags": [
     "keep"
    ]
   },
   "outputs": [],
   "source": [
    "example_values = [1, 2, 3, 9, 10]"
   ]
  },
  {
   "cell_type": "code",
   "execution_count": null,
   "id": "aad1bceb",
   "metadata": {
    "tags": [
     "keep"
    ]
   },
   "outputs": [],
   "source": [
    "def greater_than_2(n):\n",
    "    return n > 2"
   ]
  },
  {
   "cell_type": "code",
   "execution_count": null,
   "id": "d97caf72",
   "metadata": {
    "tags": [
     "keep"
    ]
   },
   "outputs": [],
   "source": [
    "def less_than_10(n):\n",
    "    return n < 10"
   ]
  },
  {
   "cell_type": "code",
   "execution_count": null,
   "id": "b24b8304",
   "metadata": {
    "lines_to_next_cell": 1,
    "tags": [
     "keep"
    ]
   },
   "outputs": [],
   "source": [
    "from typing import Callable"
   ]
  },
  {
   "cell_type": "code",
   "execution_count": null,
   "id": "e939bfe9",
   "metadata": {
    "tags": [
     "keep"
    ]
   },
   "outputs": [],
   "source": [
    "def print_truthy_elements(a_list: list, fun: Callable):\n",
    "    for x in a_list:\n",
    "        if fun(x):\n",
    "            print(x)"
   ]
  },
  {
   "cell_type": "code",
   "execution_count": null,
   "id": "626349ce",
   "metadata": {},
   "outputs": [],
   "source": [
    "print_truthy_elements(example_values, greater_than_2)"
   ]
  },
  {
   "cell_type": "code",
   "execution_count": null,
   "id": "012f6ef4",
   "metadata": {},
   "outputs": [],
   "source": [
    "print_truthy_elements(example_values, less_than_10)"
   ]
  },
  {
   "cell_type": "markdown",
   "id": "925a9d46",
   "metadata": {
    "lang": "de",
    "lines_to_next_cell": 2,
    "slideshow": {
     "slide_type": "subslide"
    }
   },
   "source": [
    "\n",
    "Für diese Fälle bietet Python Lambda-Ausdrücke als syntaktisch einfachere\n",
    "Alternative:"
   ]
  },
  {
   "cell_type": "code",
   "execution_count": null,
   "id": "01691082",
   "metadata": {},
   "outputs": [],
   "source": [
    "print_truthy_elements(example_values, lambda n: n > 2)"
   ]
  },
  {
   "cell_type": "code",
   "execution_count": null,
   "id": "7a460270",
   "metadata": {},
   "outputs": [],
   "source": [
    "print_truthy_elements(example_values, lambda n: n < 10)"
   ]
  },
  {
   "cell_type": "code",
   "execution_count": null,
   "id": "153edb5b",
   "metadata": {},
   "outputs": [],
   "source": [
    "print_truthy_elements(example_values, lambda n: n % 2 == 0)"
   ]
  },
  {
   "cell_type": "code",
   "execution_count": null,
   "id": "c40fc49f",
   "metadata": {},
   "outputs": [],
   "source": [
    "call_with_two_args(lambda x, y: 2 * x + y**2)"
   ]
  },
  {
   "cell_type": "markdown",
   "id": "ce1359aa",
   "metadata": {
    "lang": "de",
    "lines_to_next_cell": 2,
    "slideshow": {
     "slide_type": "subslide"
    }
   },
   "source": [
    "\n",
    "Viele Funktionen für Sequenzen funktionieren gut mit Lambdas:"
   ]
  },
  {
   "cell_type": "code",
   "execution_count": null,
   "id": "fc0276f8",
   "metadata": {},
   "outputs": [],
   "source": [
    "filter(lambda n: n > 2, example_values)"
   ]
  },
  {
   "cell_type": "code",
   "execution_count": null,
   "id": "6c9d7c8a",
   "metadata": {},
   "outputs": [],
   "source": [
    "list(filter(lambda n: n > 2, example_values))"
   ]
  },
  {
   "cell_type": "markdown",
   "id": "d68d113f",
   "metadata": {
    "lang": "de",
    "lines_to_next_cell": 2,
    "slideshow": {
     "slide_type": "subslide"
    }
   },
   "source": [
    "\n",
    "Es ist jedoch oft \"pythonischer\", Comprehensions zu verwenden."
   ]
  },
  {
   "cell_type": "code",
   "execution_count": null,
   "id": "4f0d0ec3",
   "metadata": {},
   "outputs": [],
   "source": [
    "[n for n in example_values if n > 2]"
   ]
  },
  {
   "cell_type": "code",
   "execution_count": null,
   "id": "f0428548",
   "metadata": {},
   "outputs": [],
   "source": []
  }
 ],
 "metadata": {
  "kernelspec": {
   "display_name": "Python 3 (ipykernel)",
   "language": "python",
   "name": "python3"
  }
 },
 "nbformat": 4,
 "nbformat_minor": 5
}
