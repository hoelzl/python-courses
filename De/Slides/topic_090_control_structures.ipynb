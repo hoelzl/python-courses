{
 "cells": [
  {
   "cell_type": "markdown",
   "id": "4b65ebee",
   "metadata": {
    "lang": "de",
    "slideshow": {
     "slide_type": "slide"
    }
   },
   "source": [
    "<img src=\"img/python-logo-notext.svg\"\n",
    "     style=\"display:block;margin:auto;width:10%\"/>\n",
    "<br>\n",
    "<div style=\"text-align:center; font-size:200%;\"><b>Kontrollstrukturen</b></div>\n",
    "<br/>\n",
    "<div style=\"text-align:center;\">Dr. Matthias Hölzl</div>"
   ]
  },
  {
   "cell_type": "markdown",
   "id": "c139013d",
   "metadata": {
    "lang": "de",
    "slideshow": {
     "slide_type": "slide"
    }
   },
   "source": [
    "\n",
    " # `if`-Anweisung\n",
    "\n",
    " Wiederholung:"
   ]
  },
  {
   "cell_type": "code",
   "execution_count": null,
   "id": "0414a27e",
   "metadata": {
    "tags": [
     "keep"
    ]
   },
   "outputs": [],
   "source": [
    "def ist_glückszahl(zahl):\n",
    "    print(\"Ist\", zahl, \"eine Glückszahl?\")\n",
    "    if zahl == 7:\n",
    "        print(\"Ja!\")\n",
    "    else:\n",
    "        print(\"Leider nein.\")\n",
    "    print(\"Wir wünschen Ihnen alles Gute.\")"
   ]
  },
  {
   "cell_type": "markdown",
   "id": "dc597c1d",
   "metadata": {
    "lang": "de",
    "slideshow": {
     "slide_type": "subslide"
    }
   },
   "source": [
    "\n",
    " ## Extra Mini-Workshop\n",
    "\n",
    " - Notebook `workshop_090_control_structures`\n",
    " - Abschnitt \"Gerade Zahl\""
   ]
  },
  {
   "cell_type": "markdown",
   "id": "256096f0",
   "metadata": {
    "lang": "de",
    "slideshow": {
     "slide_type": "subslide"
    }
   },
   "source": [
    "\n",
    " ## Mehrere Zweige\n",
    "\n",
    " - Wir wollen ein Spiel schreiben, in dem der Spieler eine Zahl zwischen 1 und\n",
    "   100 erraten muss.\n",
    " - Nachdem er geraten hat, bekommt er die Information, ob seine Zahl zu hoch,\n",
    "   zu niedrig oder richtig war angezeigt.\n",
    " - Später wollen wir dem Spieler mehrere Versuche erlauben."
   ]
  },
  {
   "cell_type": "code",
   "execution_count": null,
   "id": "74dd330f",
   "metadata": {
    "tags": [
     "keep"
    ]
   },
   "outputs": [],
   "source": [
    "def klassifiziere_zahl(geratene_zahl, lösung):\n",
    "    if geratene_zahl < lösung:\n",
    "        print(\"Die geratene Zahl ist zu klein!\")\n",
    "    elif geratene_zahl > lösung:\n",
    "        print(\"Die geratene Zahl ist zu groß!\")\n",
    "    else:\n",
    "        print(\"Sie haben gewonnen!\")"
   ]
  },
  {
   "cell_type": "code",
   "execution_count": null,
   "id": "a8c99461",
   "metadata": {},
   "outputs": [],
   "source": [
    "klassifiziere_zahl(10, 12)"
   ]
  },
  {
   "cell_type": "code",
   "execution_count": null,
   "id": "c1109747",
   "metadata": {},
   "outputs": [],
   "source": [
    "klassifiziere_zahl(14, 12)"
   ]
  },
  {
   "cell_type": "code",
   "execution_count": null,
   "id": "4982edee",
   "metadata": {},
   "outputs": [],
   "source": [
    "klassifiziere_zahl(12, 12)"
   ]
  },
  {
   "cell_type": "markdown",
   "id": "54475f52",
   "metadata": {
    "lang": "de",
    "slideshow": {
     "slide_type": "subslide"
    }
   },
   "source": [
    "\n",
    " ## Extra Mini-Workshop\n",
    "\n",
    " - Notebook `workshop_090_control_structures`\n",
    " - Abschnitt \"Positiv/Negativ\"\n"
   ]
  },
  {
   "cell_type": "markdown",
   "id": "59b81bd0",
   "metadata": {
    "lang": "de",
    "slideshow": {
     "slide_type": "subslide"
    }
   },
   "source": [
    "\n",
    " ## Struktur einer `if`-Anweisung (vollständig):\n",
    "\n",
    "```python\n",
    "if <Bedingung 1>:\n",
    "    Rumpf, der ausgeführt wird, wenn Bedingung 1 wahr ist\n",
    "elif <Bedingung 2>:\n",
    "    Rumpf, der ausgeführt wird, wenn Bedingung 2 wahr ist\n",
    "...\n",
    "else:\n",
    "    Rumpf, der ausgeführt wird, wenn keine der Bedingungen wahr ist\n",
    "```\n",
    "- Nur das `if` und der erste Rumpf sind notwendig\n",
    "- Falls ein `elif` oder ein `else` vorhanden ist, so darf der entsprechende\n",
    "  Rumpf nicht leer sein"
   ]
  },
  {
   "cell_type": "markdown",
   "id": "84b677be",
   "metadata": {
    "lang": "de",
    "slideshow": {
     "slide_type": "subslide"
    }
   },
   "source": [
    "\n",
    " ### Bessere Klassifizierung\n",
    "\n",
    " Wir wollem dem Spieler etwas mehr Information geben, wie nahe er an der\n",
    " richtigen Lösung ist:\n",
    "\n",
    " - Die geratene Zahl ist viel zu klein/zu groß wenn der Unterschied größer als\n",
    "   10 ist"
   ]
  },
  {
   "cell_type": "code",
   "execution_count": null,
   "id": "66c814fa",
   "metadata": {
    "slideshow": {
     "slide_type": "subslide"
    },
    "tags": [
     "keep"
    ]
   },
   "outputs": [],
   "source": [
    "def klassifiziere_zahl_2(geratene_zahl, lösung):\n",
    "    if geratene_zahl < lösung - 10:\n",
    "        print(\"Die geratene Zahl ist viel zu klein!\")\n",
    "    elif geratene_zahl < lösung:\n",
    "        print(\"Die geratene Zahl ist zu klein!\")\n",
    "    elif geratene_zahl > lösung + 10:\n",
    "        print(\"Die geratene Zahl ist viel zu groß!\")\n",
    "    elif geratene_zahl > lösung:\n",
    "        print(\"Die geratene Zahl ist zu groß!\")\n",
    "    else:\n",
    "        print(\"Sie haben gewonnen!\")"
   ]
  },
  {
   "cell_type": "code",
   "execution_count": null,
   "id": "7434b4b3",
   "metadata": {
    "tags": [
     "keep"
    ]
   },
   "outputs": [],
   "source": [
    "klassifiziere_zahl_2(1, 12)"
   ]
  },
  {
   "cell_type": "code",
   "execution_count": null,
   "id": "b6bf05b1",
   "metadata": {
    "tags": [
     "keep"
    ]
   },
   "outputs": [],
   "source": [
    "klassifiziere_zahl_2(10, 12)"
   ]
  },
  {
   "cell_type": "code",
   "execution_count": null,
   "id": "94750ce4",
   "metadata": {
    "tags": [
     "keep"
    ]
   },
   "outputs": [],
   "source": [
    "klassifiziere_zahl_2(14, 12)"
   ]
  },
  {
   "cell_type": "code",
   "execution_count": null,
   "id": "475e53dd",
   "metadata": {
    "tags": [
     "keep"
    ]
   },
   "outputs": [],
   "source": [
    "klassifiziere_zahl_2(24, 12)"
   ]
  },
  {
   "cell_type": "code",
   "execution_count": null,
   "id": "a098c526",
   "metadata": {
    "tags": [
     "keep"
    ]
   },
   "outputs": [],
   "source": [
    "klassifiziere_zahl_2(12, 12)"
   ]
  },
  {
   "cell_type": "markdown",
   "id": "818439c7",
   "metadata": {
    "lang": "de",
    "slideshow": {
     "slide_type": "subslide"
    }
   },
   "source": [
    "\n",
    " Die Reihenfolge der `if`- und `elif`-Zweige ist wichtig:"
   ]
  },
  {
   "cell_type": "code",
   "execution_count": null,
   "id": "e53864fa",
   "metadata": {
    "tags": [
     "keep"
    ]
   },
   "outputs": [],
   "source": [
    "def klassifiziere_zahl_3(geratene_zahl, lösung):\n",
    "    if geratene_zahl < lösung:\n",
    "        print(\"Die geratene Zahl ist zu klein!\")\n",
    "    elif geratene_zahl < lösung - 10:\n",
    "        print(\"Die geratene Zahl ist viel zu klein!\")\n",
    "    elif geratene_zahl > lösung:\n",
    "        print(\"Die geratene Zahl ist zu groß!\")\n",
    "    elif geratene_zahl > lösung + 10:\n",
    "        print(\"Die geratene Zahl ist viel zu groß!\")\n",
    "    else:\n",
    "        print(\"Sie haben gewonnen!\")"
   ]
  },
  {
   "cell_type": "code",
   "execution_count": null,
   "id": "f15ca6f8",
   "metadata": {
    "tags": [
     "keep"
    ]
   },
   "outputs": [],
   "source": [
    "klassifiziere_zahl_3(1, 12)"
   ]
  },
  {
   "cell_type": "code",
   "execution_count": null,
   "id": "045e67de",
   "metadata": {
    "tags": [
     "keep"
    ]
   },
   "outputs": [],
   "source": [
    "klassifiziere_zahl_3(100, 12)"
   ]
  },
  {
   "cell_type": "markdown",
   "id": "2ba3f56c",
   "metadata": {
    "lang": "de",
    "slideshow": {
     "slide_type": "slide"
    }
   },
   "source": [
    "\n",
    " ## Return aus einem `if`-Statement\n",
    "\n",
    " Die Zweige eines `if`-Statements können `return` Anweisungen enthalten um\n",
    " einen Wert aus einer Funktion zurückzugeben:"
   ]
  },
  {
   "cell_type": "code",
   "execution_count": null,
   "id": "d2999dc8",
   "metadata": {
    "lines_to_next_cell": 2
   },
   "outputs": [],
   "source": [
    "def ist_große_zahl(zahl):\n",
    "    if zahl > 10:\n",
    "        return True\n",
    "    else:\n",
    "        return False"
   ]
  },
  {
   "cell_type": "markdown",
   "id": "b4cf2ec8",
   "metadata": {
    "lang": "de",
    "slideshow": {
     "slide_type": "subslide"
    }
   },
   "source": [
    "\n",
    " ## Mini-Workshop\n",
    "\n",
    " - Notebook `workshop_090_control_structures`\n",
    " - Abschnitt \"Signum\"\n"
   ]
  },
  {
   "cell_type": "markdown",
   "id": "c1aa8636",
   "metadata": {
    "lang": "de",
    "slideshow": {
     "slide_type": "slide"
    }
   },
   "source": [
    "\n",
    " # Benutzereingaben\n",
    "\n",
    " - Die Funktion `input()` erlaubt es dem Benutzer einen Text einzugeben.\n",
    " - Optional kann sie einen Eingabeprompt ausgeben.\n",
    " - Die Funktion gibt den vom Benutzer eingegebenen Text als String zurück."
   ]
  },
  {
   "cell_type": "code",
   "execution_count": null,
   "id": "c7e762a8",
   "metadata": {
    "lines_to_next_cell": 2,
    "tags": [
     "keep"
    ]
   },
   "outputs": [],
   "source": [
    "# input(\"What is your name? \")"
   ]
  },
  {
   "cell_type": "code",
   "execution_count": null,
   "id": "e2fd4137",
   "metadata": {},
   "outputs": [],
   "source": [
    "def query_name():\n",
    "    name = input(\"What is your name? \")\n",
    "    print(f\"You entered {name}\")"
   ]
  },
  {
   "cell_type": "code",
   "execution_count": null,
   "id": "64e799bc",
   "metadata": {
    "tags": [
     "keep"
    ]
   },
   "outputs": [],
   "source": [
    "# query_name()"
   ]
  },
  {
   "cell_type": "markdown",
   "id": "c16f085a",
   "metadata": {
    "lang": "de",
    "slideshow": {
     "slide_type": "subslide"
    }
   },
   "source": [
    "\n",
    " ## Beispiel: Konvertierung von Temperaturen\n",
    "\n",
    "Wir wollen eine Anwendung schreiben, die den Benutzer nach einer Temperatur\n",
    "in Fahrenheit fragt und die entsprechende Temperatur in Grad Celsius\n",
    "zurückgibt."
   ]
  },
  {
   "cell_type": "code",
   "execution_count": null,
   "id": "8b6c81ca",
   "metadata": {},
   "outputs": [],
   "source": [
    "def konvertiere_fahrenheit_nach_celsius(fahrenheit):\n",
    "    return (fahrenheit - 32) * 5 / 9"
   ]
  },
  {
   "cell_type": "code",
   "execution_count": null,
   "id": "60192315",
   "metadata": {},
   "outputs": [],
   "source": [
    "konvertiere_fahrenheit_nach_celsius(32)"
   ]
  },
  {
   "cell_type": "code",
   "execution_count": null,
   "id": "271b10fc",
   "metadata": {},
   "outputs": [],
   "source": [
    "konvertiere_fahrenheit_nach_celsius(90)"
   ]
  },
  {
   "cell_type": "code",
   "execution_count": null,
   "id": "92975f30",
   "metadata": {
    "slideshow": {
     "slide_type": "subslide"
    }
   },
   "outputs": [],
   "source": [
    "def temperaturkonverter_1():\n",
    "    fahrenheit = input(\"Bitte geben Sie die Temperatur in Fahrenheit ein: \")\n",
    "    celsius = konvertiere_fahrenheit_nach_celsius(float(fahrenheit))\n",
    "    print(f\"{fahrenheit}F sind {celsius}°C\")"
   ]
  },
  {
   "cell_type": "code",
   "execution_count": null,
   "id": "f50b58e6",
   "metadata": {},
   "outputs": [],
   "source": [
    "float(\"1.23\")"
   ]
  },
  {
   "cell_type": "code",
   "execution_count": null,
   "id": "e941f1d5",
   "metadata": {},
   "outputs": [],
   "source": [
    "# temperaturkonverter_1()"
   ]
  },
  {
   "cell_type": "markdown",
   "id": "709c08b3",
   "metadata": {
    "lang": "de",
    "slideshow": {
     "slide_type": "subslide"
    }
   },
   "source": [
    "\n",
    " Wir können eine Meldung ausgeben, wenn der Benutzer nichts eingibt (und die\n",
    " Ausgabe etwas schöner gestalten):"
   ]
  },
  {
   "cell_type": "code",
   "execution_count": null,
   "id": "2f6dff58",
   "metadata": {},
   "outputs": [],
   "source": [
    "def temperaturkonverter_2():\n",
    "    fahrenheit = input(\"Bitte geben Sie die Temperatur in Fahrenheit ein: \")\n",
    "    if fahrenheit != \"\":\n",
    "        celsius = konvertiere_fahrenheit_nach_celsius(float(fahrenheit))\n",
    "        print(f\"{float(fahrenheit):.1f}F sind {celsius:.1f}°C\")\n",
    "    else:\n",
    "        print(\"Bitte geben Sie eine gültige Temperatur ein.\")"
   ]
  },
  {
   "cell_type": "code",
   "execution_count": null,
   "id": "501288ca",
   "metadata": {},
   "outputs": [],
   "source": [
    "# temperaturkonverter_2()"
   ]
  },
  {
   "cell_type": "markdown",
   "id": "392d9cc5",
   "metadata": {
    "lang": "de",
    "slideshow": {
     "slide_type": "subslide"
    }
   },
   "source": [
    "\n",
    " ## Mini-Workshop\n",
    "\n",
    " - Notebook `workshop_090_control_structures`\n",
    " - Abschnitt \"Umrechnung in Meilen\"\n"
   ]
  },
  {
   "cell_type": "code",
   "execution_count": null,
   "id": "920f449d",
   "metadata": {
    "lines_to_next_cell": 2
   },
   "outputs": [],
   "source": [
    "def temperaturkonverter_3():\n",
    "    fahrenheit = input(\"Bitte geben Sie die Temperatur in Fahrenheit ein: \")\n",
    "    if fahrenheit:\n",
    "        celsius = konvertiere_fahrenheit_nach_celsius(float(fahrenheit))\n",
    "        print(f\"{float(fahrenheit):.1f}F sind {celsius:.1f}°C\")\n",
    "    else:\n",
    "        print(\"Bitte geben Sie eine gültige Temperatur ein.\")"
   ]
  },
  {
   "cell_type": "code",
   "execution_count": null,
   "id": "a1513807",
   "metadata": {
    "lines_to_next_cell": 2
   },
   "outputs": [],
   "source": [
    "# temperaturkonverter_3()"
   ]
  },
  {
   "cell_type": "markdown",
   "id": "31bf4e69",
   "metadata": {
    "lang": "de",
    "slideshow": {
     "slide_type": "slide"
    }
   },
   "source": [
    "\n",
    " # Wahrheitswerte: Truthiness\n",
    "\n",
    "Die `if`-Anweisung kann als Argument beliebige Python-Werte bekommen,\n",
    "nicht nur Boole'sche Werte.\n",
    "\n",
    " Folgende Werte gelten als *nicht wahr*\n",
    "\n",
    " - `None` und `False`\n",
    " - `0` und `0.0` (und Null-Werte von anderen Zahlentypen)\n",
    " - Leere Strings, Sequences und Collections: ``\n",
    "\n",
    " Alle anderen Werte gelten als wahr."
   ]
  },
  {
   "cell_type": "code",
   "execution_count": null,
   "id": "0b5898b5",
   "metadata": {
    "tags": [
     "keep"
    ]
   },
   "outputs": [],
   "source": [
    "if -1:\n",
    "    print(\"-1 ist wahr\")\n",
    "elif 0:\n",
    "    print(\"0 ist wahr\")\n",
    "else:\n",
    "    print(\"Alles ist falsch\")"
   ]
  },
  {
   "cell_type": "code",
   "execution_count": null,
   "id": "6580a386",
   "metadata": {
    "tags": [
     "keep"
    ]
   },
   "outputs": [],
   "source": [
    "if 0:\n",
    "    print(\"0 ist wahr\")\n",
    "else:\n",
    "    print(\"0 ist falsch\")"
   ]
  },
  {
   "cell_type": "code",
   "execution_count": null,
   "id": "83ef5391",
   "metadata": {
    "tags": [
     "keep"
    ]
   },
   "outputs": [],
   "source": [
    "if \"\":\n",
    "    print(\"'' ist wahr\")\n",
    "else:\n",
    "    print(\"'' falsch\")"
   ]
  },
  {
   "cell_type": "code",
   "execution_count": null,
   "id": "f01386ed",
   "metadata": {
    "tags": [
     "keep"
    ]
   },
   "outputs": [],
   "source": [
    "if print(\"Hallo\"):\n",
    "    print(\"None ist wahr\")\n",
    "else:\n",
    "    print(\"None ist falsch\")"
   ]
  },
  {
   "cell_type": "markdown",
   "id": "4b636c69",
   "metadata": {
    "lang": "de",
    "slideshow": {
     "slide_type": "subslide"
    }
   },
   "source": [
    "\n",
    " ## Mini-Workshop\n",
    "\n",
    " - Notebook `workshop_090_control_structures`\n",
    " - Abschnitt \"Umrechnung in Meilen mit Truthiness\"\n"
   ]
  },
  {
   "cell_type": "markdown",
   "id": "ed26f5dc",
   "metadata": {
    "lang": "de",
    "slideshow": {
     "slide_type": "subslide"
    }
   },
   "source": [
    "\n",
    " ## Extra Mini-Workshop\n",
    "\n",
    " - Notebook `workshop_090_control_structures`\n",
    " - Abschnitt \"Kino-Preis\"\n"
   ]
  },
  {
   "cell_type": "markdown",
   "id": "7a9b5c56",
   "metadata": {
    "lang": "de",
    "slideshow": {
     "slide_type": "slide"
    }
   },
   "source": [
    "\n",
    " # While-Schleifen\n",
    "\n",
    " Manchmal wollen wir einen Teil eines Programms immer wieder ausführen:\n",
    "\n",
    " - Zahlenraten bis die richtige Zahl gefunden wurde\n",
    " - Physik-Simulation bis das Ergebnis genau genug ist\n",
    " - Verarbeitung von Benutzereingaben in interaktiven Programmen\n",
    "\n",
    " Wenn wir die Anzahl der Wiederholungen nicht von vornherein wissen, verwenden wir dafür in der Regel eine While-Schleife."
   ]
  },
  {
   "cell_type": "code",
   "execution_count": null,
   "id": "a3426db6",
   "metadata": {},
   "outputs": [],
   "source": [
    "number = 0\n",
    "while number < 3:\n",
    "    print(f\"Durchlauf {number}\")\n",
    "    number += 1  # <=="
   ]
  },
  {
   "cell_type": "code",
   "execution_count": null,
   "id": "3e01c473",
   "metadata": {
    "tags": [
     "keep"
    ]
   },
   "outputs": [],
   "source": [
    "def führe_ein_experiment_aus(versuch_nr):\n",
    "    \"\"\"Führt ein Experiment aus\n",
    "    Gibt True zurück wenn das Experiment erfolgreich war, andernfalls False.\n",
    "    \"\"\"\n",
    "    print(f\"Versuch Nr. {versuch_nr} gestartet...\", end=\"\")\n",
    "    from random import random\n",
    "\n",
    "    if random() > 0.8:\n",
    "        print(\"Erfolg!\")\n",
    "        return True\n",
    "    else:\n",
    "        print(\"Fehlschlag.\")\n",
    "        return False"
   ]
  },
  {
   "cell_type": "code",
   "execution_count": null,
   "id": "5d7b635c",
   "metadata": {
    "tags": [
     "keep"
    ]
   },
   "outputs": [],
   "source": [
    "versuch_nr = 0\n",
    "\n",
    "while not führe_ein_experiment_aus(versuch_nr):\n",
    "    versuch_nr += 1\n",
    "\n",
    "print(\"Wir haben einen erfolgreichen Versuch ausgeführt.\")"
   ]
  },
  {
   "cell_type": "markdown",
   "id": "413f4fac",
   "metadata": {
    "lang": "de",
    "slideshow": {
     "slide_type": "slide"
    }
   },
   "source": [
    "\n",
    " ## Beenden von Schleifen\n",
    "\n",
    "Manchmal ist es leichter, die Abbruchbedingung einer Schleife im Rumpf zu\n",
    "bestimmen, statt am Anfang. Mit der Anweisung `break` kann man eine\n",
    "Schleife vorzeitig beenden:"
   ]
  },
  {
   "cell_type": "code",
   "execution_count": null,
   "id": "dce11ec9",
   "metadata": {
    "tags": [
     "keep"
    ]
   },
   "outputs": [],
   "source": [
    "i = 1\n",
    "while i < 10:\n",
    "    print(i)\n",
    "    if i % 3 == 0:\n",
    "        break\n",
    "    i += 1\n",
    "print(\"Nach der Schleife:\", i)"
   ]
  },
  {
   "cell_type": "code",
   "execution_count": null,
   "id": "897298ec",
   "metadata": {
    "lines_to_next_cell": 2
   },
   "outputs": [],
   "source": [
    "def annoy_user():\n",
    "    while True:\n",
    "        text = input(\"Say hi! \")\n",
    "        if text.lower() == \"hi\":\n",
    "            break\n",
    "        else:\n",
    "            print(\"You chose\", text)"
   ]
  },
  {
   "cell_type": "code",
   "execution_count": null,
   "id": "0fd4861d",
   "metadata": {
    "lines_to_next_cell": 2
   },
   "outputs": [],
   "source": [
    "# annoy_user()"
   ]
  },
  {
   "cell_type": "markdown",
   "id": "fef0e25f",
   "metadata": {
    "lang": "de",
    "slideshow": {
     "slide_type": "subslide"
    }
   },
   "source": [
    "\n",
    " ## Mini-Workshop\n",
    "\n",
    " - Notebook `workshop_090_control_structures`\n",
    " - Abschnitt \"Ratespiele\"\n"
   ]
  }
 ],
 "metadata": {
  "kernelspec": {
   "display_name": "Python 3 (ipykernel)",
   "language": "python",
   "name": "python3"
  }
 },
 "nbformat": 4,
 "nbformat_minor": 5
}
