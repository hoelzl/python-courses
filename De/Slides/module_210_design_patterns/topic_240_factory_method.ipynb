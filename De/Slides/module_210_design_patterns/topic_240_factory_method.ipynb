{
 "cells": [
  {
   "cell_type": "markdown",
   "id": "34073fd20aafaff7",
   "metadata": {
    "lang": "de",
    "slideshow": {
     "slide_type": "slide"
    }
   },
   "source": [
    "<img src=\"../../img/python-logo-no-text.svg\"\n",
    "     style=\"display:block;margin:auto;width:10%\"/>\n",
    "<br>\n",
    "<div style=\"text-align:center; font-size:200%;\">\n",
    " <b>Factory Method</b>\n",
    "</div>\n",
    "<br/>\n",
    "<div style=\"text-align:center;\">Dr. Matthias Hölzl</div>\n",
    "<br/>\n",
    "<div style=\"text-align:center;\">module_210_design_patterns/topic_240_factory_method</div>"
   ]
  },
  {
   "cell_type": "markdown",
   "id": "7307f3fdd32aa543",
   "metadata": {
    "lang": "de",
    "lines_to_next_cell": 2,
    "slideshow": {
     "slide_type": "slide"
    }
   },
   "source": [
    "\n",
    "# Factory Method"
   ]
  },
  {
   "cell_type": "markdown",
   "id": "dfbfd1121982493b",
   "metadata": {
    "lang": "de",
    "lines_to_next_cell": 0,
    "slideshow": {
     "slide_type": "slide"
    }
   },
   "source": [
    "### Designproblem: Erzeugen von Bonusitems\n",
    "\n",
    "Während des Spiels werden Bonusitems erzeugt, die der Spieler aufsammeln\n",
    "kann.\n",
    "\n",
    "-   Verschiedenartige Bonusitems sollen verschiedenen Auswirkungen auf\n",
    "    den Spieler haben\n",
    "\n",
    "-   An verschiedenen Orten sollen unterschiedliche Bonusitems erzeugt\n",
    "    werden\n",
    "\n",
    "Die Orte, an denen Bonusitems erzeugt (\"gespawned\") werden sollen vom\n",
    "Level-Designer durch sogenannte Spawn-Volumes festgelegt werden.\n"
   ]
  },
  {
   "cell_type": "markdown",
   "id": "c72da04327f8c6fb",
   "metadata": {
    "lang": "de",
    "lines_to_next_cell": 0,
    "slideshow": {
     "slide_type": "slide"
    }
   },
   "source": [
    "### Erster Entwurf: Verschiedene Spawn-Volumes\n",
    "\n",
    "<img src=\"img/PlantUML/spawn-volume-1.png\"\n",
    "     style=\"display:block;margin:auto;width:70%\"/>\n"
   ]
  },
  {
   "cell_type": "markdown",
   "id": "bf47daf358e81090",
   "metadata": {
    "lang": "de",
    "lines_to_next_cell": 0,
    "slideshow": {
     "slide_type": "slide"
    }
   },
   "source": [
    "### Factory Method (Creational Pattern)\n",
    "\n",
    "**Intent**\n",
    "Define an interface for creating a certain type of object; let\n",
    "subclasses decide which concrete class should be instantiated.\n",
    "\n",
    "**Motivation**\n",
    "Consider an office suite like Microsoft Office or Libre Office. If the\n",
    "programs in the suite use a common framework to manage their documents,\n",
    "this framework has to provide functionalities for managing documents,\n",
    "e.g., opening, closing, or saving them. Each application has a\n",
    "particular type of document on which it operates, but many of the\n",
    "features provided by the framework are independent of the specific\n",
    "document type.\n"
   ]
  },
  {
   "cell_type": "markdown",
   "id": "811bf7e922f33037",
   "metadata": {
    "lang": "de",
    "lines_to_next_cell": 0,
    "slideshow": {
     "slide_type": "slide"
    }
   },
   "source": [
    "### Factory Method (Creational Pattern)\n",
    "\n",
    "**Applicability**\n",
    "Use the Factory Method pattern when\n",
    "\n",
    "-   A class may have to create an open-ended number of document types.\n",
    "\n",
    "-   Subclasses should be responsible for creating the concrete types.\n"
   ]
  },
  {
   "cell_type": "markdown",
   "id": "b724ab2d332ceae3",
   "metadata": {
    "lang": "de",
    "lines_to_next_cell": 0,
    "slideshow": {
     "slide_type": "slide"
    }
   },
   "source": [
    "### Factory Method (Creational Pattern)\n",
    "\n",
    "**Structure**\n",
    "\n",
    "<img src=\"img/PlantUML/pat_factory_method.png\"\n",
    "     style=\"display:block;margin:auto;width:70%\"/>\n"
   ]
  },
  {
   "cell_type": "markdown",
   "id": "59cb549c680e0af0",
   "metadata": {
    "lang": "de",
    "lines_to_next_cell": 0,
    "slideshow": {
     "slide_type": "slide"
    }
   },
   "source": [
    "### Factory Method (Creational Pattern)\n",
    "\n",
    "**Participants**\n",
    "\n",
    "-   [Product]{.sans-serif}: The type of object that should be created\n",
    "    (often a pure interface)\n",
    "\n",
    "-   [Concrete Product]{.sans-serif}: Implements the\n",
    "    [Product]{.sans-serif} interface\n",
    "\n",
    "-   [Creator]{.sans-serif}: Declares the Factory Method that returns an\n",
    "    instance of [Product]{.sans-serif}. May define a default\n",
    "    implementation.\n",
    "\n",
    "-   [Concrete Creator]{.sans-serif}: Overrides the Factory Method.\n"
   ]
  },
  {
   "cell_type": "markdown",
   "id": "61edbb102e822b4d",
   "metadata": {
    "lang": "de",
    "slideshow": {
     "slide_type": "slide"
    }
   },
   "source": [
    "### Factory Method (Creational Pattern)\n",
    "\n",
    "**Collaborations**\n",
    "[Creator]{.sans-serif} relies on its subclasses to implement the\n",
    "required creational method.\n",
    "**Consequences**\n",
    "\n",
    "-   No need for application-specific classes in the framework code.\n",
    "\n",
    "-   Framework code can work with any user-defined concrete class.\n",
    "\n",
    "-   Clients need to subclass the [Creator]{.sans-serif} class, thereby\n",
    "    coupling parts of the client tightly to the framework.\n",
    "\n",
    "-   Factory Method provides hooks for subclasses.\n",
    "\n",
    "**Example** ..."
   ]
  }
 ],
 "metadata": {},
 "nbformat": 4,
 "nbformat_minor": 5
}
