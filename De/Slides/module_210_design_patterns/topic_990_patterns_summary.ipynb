{
 "cells": [
  {
   "cell_type": "code",
   "execution_count": null,
   "id": "6b4e03423667dbb7",
   "metadata": {},
   "outputs": [],
   "source": []
  },
  {
   "cell_type": "markdown",
   "id": "5dcdda5bf0e82091",
   "metadata": {
    "lang": "de",
    "slideshow": {
     "slide_type": "slide"
    }
   },
   "source": [
    "<img src=\"../../img/python-logo-no-text.svg\"\n",
    "     style=\"display:block;margin:auto;width:10%\"/>\n",
    "<br>\n",
    "<div style=\"text-align:center; font-size:200%;\">\n",
    "  <b>Zusammenfassung zu Patterns</b>\n",
    "</div>\n",
    "<br/>\n",
    "<div style=\"text-align:center;\">Dr. Matthias Hölzl</div>\n",
    "<br/>\n",
    "<div style=\"text-align:center;\">module_210_design_patterns/topic_990_patterns_summary</div>"
   ]
  },
  {
   "cell_type": "markdown",
   "id": "a9e1cc0986ef16e3",
   "metadata": {
    "lang": "de",
    "lines_to_next_cell": 2,
    "slideshow": {
     "slide_type": "slide"
    }
   },
   "source": [
    "\n",
    "# Zusammenfassung zu Patterns"
   ]
  },
  {
   "cell_type": "markdown",
   "id": "5176fe2b0f6b3e23",
   "metadata": {
    "lang": "de",
    "slideshow": {
     "slide_type": "slide"
    }
   },
   "source": [
    "### Zusammenfassung\n",
    "\n",
    "-   Ein Entwurfsmuster liefert eine generische Beschreibung einer\n",
    "    bewährten Lösung für eine wiederkehrende Problemklasse.\n",
    "\n",
    "-   Die Beschreibung eines Entwurfsmuster erfolgt in einer\n",
    "    strukturierten Form, die aus verschiedenen Elementen besteht (Name\n",
    "    des Musters, Zweck, Anwendbarkeit, Lösungsstruktur, \\...)\n",
    "\n",
    "-   Im Design-Pattern Katalog von Gamma et al. werden 23\n",
    "    objektorientierte Pattern beschrieben.\n",
    "\n",
    "-   Diese Pattern sind nach den Gesichtspunkten \"Creational\" (z.B.\n",
    "    Abstract Factory), \"Structural\" (z.B. Composite) und \"Behavioral\"\n",
    "    (z.B. State, Observer) klassifiziert."
   ]
  }
 ],
 "metadata": {},
 "nbformat": 4,
 "nbformat_minor": 5
}
