{
 "cells": [
  {
   "cell_type": "code",
   "execution_count": null,
   "id": "6b4e03423667dbb7",
   "metadata": {},
   "outputs": [],
   "source": []
  },
  {
   "cell_type": "markdown",
   "id": "e42e45f633d8b6c5",
   "metadata": {
    "lang": "de",
    "slideshow": {
     "slide_type": "slide"
    }
   },
   "source": [
    "<img src=\"../../img/python-logo-no-text.svg\"\n",
    "     style=\"display:block;margin:auto;width:10%\"/>\n",
    "<br>\n",
    "<div style=\"text-align:center; font-size:200%;\">\n",
    "  <b>Gang-of-Four Patterns</b>\n",
    "</div>\n",
    "<br/>\n",
    "<div style=\"text-align:center;\">Dr. Matthias Hölzl</div>\n",
    "<br/>\n",
    "<div style=\"text-align:center;\">module_210_design_patterns/topic_130_gof_patterns</div>"
   ]
  },
  {
   "cell_type": "markdown",
   "id": "1c89ff5b7f4ab079",
   "metadata": {
    "lang": "de",
    "lines_to_next_cell": 2,
    "slideshow": {
     "slide_type": "slide"
    }
   },
   "source": [
    "\n",
    "# Gang-of-Four Patterns"
   ]
  },
  {
   "cell_type": "markdown",
   "id": "d3af841ac2f9119a",
   "metadata": {
    "lang": "de",
    "lines_to_next_cell": 0,
    "slideshow": {
     "slide_type": "slide"
    }
   },
   "source": [
    "### Design-Pattern im GoF-Katalog\n",
    "\n",
    "-   **Pattern Name and Classification**\n",
    "    The pattern's name conveys the essence of the pattern succinctly. A\n",
    "    good name is vital, because it will become part of your design\n",
    "    vocabulary.\n",
    "\n",
    "-   **Intent**\n",
    "    A short statement that answers the following question: What does the\n",
    "    design pattern do? What is its rational and intent? What particular\n",
    "    design issue or problem does it address?\n",
    "\n",
    "-   **Also Known As**\n",
    "    Other well-known names for the pattern, if any.\n"
   ]
  },
  {
   "cell_type": "markdown",
   "id": "f92bfe34c3d9f0b2",
   "metadata": {
    "lang": "de",
    "lines_to_next_cell": 0,
    "slideshow": {
     "slide_type": "slide"
    }
   },
   "source": [
    "### Design-Pattern im GoF-Katalog\n",
    "\n",
    "-   **Motivation**\n",
    "    A scenario that illustrates a design problem and how the class and\n",
    "    oject structures in the pattern solve the problem. The scenario will\n",
    "    help you understand the more abstract descriptions of the pattern\n",
    "    that follows.\n",
    "\n",
    "-   **Applicability**\n",
    "    What are the situations in which the design pattern can be applied?\n",
    "    What are examples of poor designs that the pattern can address? How\n",
    "    can you recognize these situations?\n",
    "\n",
    "-   **Structure**\n",
    "    A graphical representation of the classes in the pattern using a\n",
    "    notation based on the Object Modelling Technique (OMT). We also use\n",
    "    interaction diagrams to illustrate sequences of requests and\n",
    "    collaborations between objects.\n"
   ]
  },
  {
   "cell_type": "markdown",
   "id": "7dec175a432f93f1",
   "metadata": {
    "lang": "de",
    "lines_to_next_cell": 0,
    "slideshow": {
     "slide_type": "slide"
    }
   },
   "source": [
    "### Design-Pattern im GoF-Katalog\n",
    "\n",
    "-   **Participants**\n",
    "    The classes and/or objects participating in the design pattern and\n",
    "    their responsibilities.\n",
    "\n",
    "-   **Collaborations**\n",
    "    How the participants collaborate to carry out their\n",
    "    responsibilities.\n",
    "\n",
    "-   **Consequences**\n",
    "    How does the pattern support its objectives? What are the trade-offs\n",
    "    and results of using the pattern? What aspects of system structure\n",
    "    does it let you vary independently?\n",
    "\n",
    "-   **Implementation**\n",
    "    What pitfalls, hints, or techniques should you be aware of when\n",
    "    implementing the pattern? Are there language-specific issues?\n"
   ]
  },
  {
   "cell_type": "markdown",
   "id": "1e2577ec9b482e40",
   "metadata": {
    "lang": "de",
    "lines_to_next_cell": 0,
    "slideshow": {
     "slide_type": "slide"
    }
   },
   "source": [
    "### Design-Pattern im GoF-Katalog\n",
    "\n",
    "-   **Sample Code**\n",
    "    Code fragments that illustrate how you might implement the pattern\n",
    "    in C++ or Smalltalk.\n",
    "\n",
    "-   **Known Uses**\n",
    "    Examples of the pattern found in real systems. We include at least\n",
    "    two examples from different domains.\n",
    "\n",
    "-   **Related Patterns**\n",
    "    What design patterns are closely related to this one? What are the\n",
    "    important differences? With which other patterns should this one be\n",
    "    used?\n"
   ]
  },
  {
   "cell_type": "markdown",
   "id": "3340a0fa01dd3c20",
   "metadata": {
    "lang": "de",
    "lines_to_next_cell": 0,
    "slideshow": {
     "slide_type": "slide"
    }
   },
   "source": [
    "### Klassifikation der GoF Design Pattern\n",
    "\n",
    "-   **Creational Patterns** (befassen sich mit der Erzeugung von\n",
    "    Objekten)\n",
    "\n",
    "-   **Structural Patterns** (befassen sich mit der strukturellen\n",
    "    Komposition von Klassen oder Objekten)\n",
    "\n",
    "-   **Behavioral Patterns** (befassen sich mit der Interaktion von\n",
    "    Objekten und der Verteilung von Verantwortlichkeiten)\n"
   ]
  },
  {
   "cell_type": "markdown",
   "id": "e67f54f1d278ff23",
   "metadata": {
    "lang": "de",
    "lines_to_next_cell": 0,
    "slideshow": {
     "slide_type": "slide"
    }
   },
   "source": [
    "### Creational Patterns\n",
    "\n",
    "-   **Abstract Factory** Provide an interface for creating families of\n",
    "    related or dependent objects without specifying their concrete\n",
    "    classes.\n",
    "\n",
    "-   **Builder** Separate the construction of a complex object from its\n",
    "    representation so that the same construction process can create\n",
    "    different representations.\n",
    "\n",
    "-   **Factory Method** Define an interface for creating an object, but\n",
    "    let subclasses decide which class to instantiate. Factory Method\n",
    "    lets a class defer instantiation to subclasses.\n",
    "\n",
    "-   **Prototype** Specify the kinds of objects to create using a\n",
    "    prototypical instance, and create new objects by copying this\n",
    "    prototype.\n",
    "\n",
    "-   **Singleton** Ensure a class only has one instance, and provide a\n",
    "    global point of access to it.\n"
   ]
  },
  {
   "cell_type": "markdown",
   "id": "1ba24af84091e473",
   "metadata": {
    "lang": "de",
    "lines_to_next_cell": 0,
    "slideshow": {
     "slide_type": "slide"
    }
   },
   "source": [
    "### Structural Patterns\n",
    "\n",
    "-   **Adapter** Convert the interface of a class into another interface\n",
    "    clients expect. Adapter lets classes work together that couldn't\n",
    "    otherwise because of incompatible interfaces.\n",
    "\n",
    "-   **Bridge** Decouple an abstraction from its implementation so that\n",
    "    the two can vary independently.\n",
    "\n",
    "-   **Composite** Compose objects into tree structures to represent\n",
    "    part-whole hierarchies. Composite lets clients treat individual\n",
    "    objects and compositions of objects uniformly.\n"
   ]
  },
  {
   "cell_type": "markdown",
   "id": "ef87ffd13e215715",
   "metadata": {
    "lang": "de",
    "lines_to_next_cell": 0,
    "slideshow": {
     "slide_type": "slide"
    }
   },
   "source": [
    "### Structural Patterns\n",
    "\n",
    "-   **Decorator** Attach additional responsibilities to an object\n",
    "    dynamically. Decorators provide a flexible alternative to\n",
    "    subclassing for extending functionality.\n",
    "\n",
    "-   **Facade** Provide a unified interface to a set of interfaces in a\n",
    "    subsystem. Facade defines a higher-level interface that makes the\n",
    "    subsystem easier to use.\n",
    "\n",
    "-   **Flyweight** Use sharing to support large numbers of fine-grained\n",
    "    objects efficiently.\n",
    "\n",
    "-   **Proxy** Provide a surrogate or placeholder for another object to\n",
    "    control access to it.\n"
   ]
  },
  {
   "cell_type": "markdown",
   "id": "b244929da2c029c7",
   "metadata": {
    "lang": "de",
    "lines_to_next_cell": 0,
    "slideshow": {
     "slide_type": "slide"
    }
   },
   "source": [
    "### Behavioral Patterns\n",
    "\n",
    "-   **Chain of Responsibility** Avoid coupling the sender of a request\n",
    "    to its receiver by giving more than one object a chance to handle\n",
    "    the request. Chain the receiving objects and pass the request along\n",
    "    the chain until an object handles it.\n",
    "\n",
    "-   **Command** Encapsulate a request as an object, thereby letting you\n",
    "    parameterize clients with different requests, queue or log requests,\n",
    "    and support undoable operations.\n",
    "\n",
    "-   **Interpreter** Given a language, define a representation for its\n",
    "    grammar along with an interpreter that uses the representation to\n",
    "    interpret sentences in the language.\n",
    "\n",
    "-   **Iterator** Provide a way to access the elements of an aggregate\n",
    "    object sequentially without exposing its underlying representation.\n"
   ]
  },
  {
   "cell_type": "markdown",
   "id": "0d9f96162b5488b4",
   "metadata": {
    "lang": "de",
    "lines_to_next_cell": 0,
    "slideshow": {
     "slide_type": "slide"
    }
   },
   "source": [
    "### Behavioral Patterns\n",
    "\n",
    "-   **Mediator** Define an object that encapsulates how a set of objects\n",
    "    interact. Mediator promotes loose coupling by keeping objects from\n",
    "    referring to each other explicitly, and it lets you vary their\n",
    "    interaction independently.\n",
    "\n",
    "-   **Memento** Without violating encapsulation, capture and externalize\n",
    "    an object's internal state so that the object can be restored to\n",
    "    this state later.\n",
    "\n",
    "-   **Observer** Define a one-to-many dependency between objects so that\n",
    "    when one object changes state, all its dependents are notified and\n",
    "    updated automatically.\n",
    "\n",
    "-   **State** Allow an object to alter its behaviour when its internal\n",
    "    state changes. The object will appear to change its class.\n"
   ]
  },
  {
   "cell_type": "markdown",
   "id": "94f2095259e91928",
   "metadata": {
    "lang": "de",
    "slideshow": {
     "slide_type": "slide"
    }
   },
   "source": [
    "### Behavioral Patterns\n",
    "\n",
    "-   **Strategy** Define a family of algorithms, encapsulate each one,\n",
    "    and make them interchangeable. Strategy lets the algorithm vary\n",
    "    independently from clients that use it.\n",
    "\n",
    "-   **Template Method** Define the skeleton of an algorithm in an\n",
    "    operation, deferring some steps to subclasses. Template Method lets\n",
    "    subclasses redefine certain steps of an algorithm without changing\n",
    "    the algorithm's structure.\n",
    "\n",
    "-   **Visitor** Represent an operation to be performed on the elements\n",
    "    of an object structure. Visitor lets you define a new operation\n",
    "    without changing the classes of the element on which it operates."
   ]
  }
 ],
 "metadata": {},
 "nbformat": 4,
 "nbformat_minor": 5
}
