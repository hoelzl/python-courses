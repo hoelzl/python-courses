{
 "cells": [
  {
   "cell_type": "markdown",
   "id": "7dc7b49e17d4b600",
   "metadata": {
    "lang": "de",
    "slideshow": {
     "slide_type": "slide"
    }
   },
   "source": [
    "<img src=\"../../img/python-logo-no-text.svg\"\n",
    "     style=\"display:block;margin:auto;width:10%\"/>\n",
    "<br>\n",
    "<div style=\"text-align:center; font-size:200%;\">\n",
    "  <b>Observer</b>\n",
    "</div>\n",
    "<br/>\n",
    "<div style=\"text-align:center;\">Dr. Matthias Hölzl</div>\n",
    "<br/>\n",
    "<div style=\"text-align:center;\">module_210_design_patterns/topic_210_observer</div>"
   ]
  },
  {
   "cell_type": "markdown",
   "id": "ea44520d66fcc0e0",
   "metadata": {
    "lang": "de",
    "lines_to_next_cell": 2,
    "slideshow": {
     "slide_type": "slide"
    }
   },
   "source": [
    "\n",
    "# Observer"
   ]
  },
  {
   "cell_type": "markdown",
   "id": "f08c688a0dedbcc9",
   "metadata": {
    "lang": "de",
    "lines_to_next_cell": 0,
    "slideshow": {
     "slide_type": "slide"
    }
   },
   "source": [
    "### Designproblem: Unabhängige Item-Erzeuger\n",
    "\n",
    "-   Bevor das Spiel startet und nach dem Ende des Spiels sollen alle\n",
    "    Item-Erzeuger angehalten werden.\n",
    "\n",
    "-   Der Stand des Spiels wird von einer Instanz der Klasse `UGameMode`\n",
    "    verwaltet\n",
    "\n",
    "-   `UGameMode` soll nichts über Item-Erzeuger wissen, sondern nur die\n",
    "    Transitionen zwischen Spiel aktiv/gewonnen/verloren verwalten\n",
    "\n",
    "-   `APickup` soll nichts über die Funktionalität von `UGameMode` wissen\n"
   ]
  },
  {
   "cell_type": "markdown",
   "id": "cacea0a71e0e96ed",
   "metadata": {
    "lang": "de",
    "lines_to_next_cell": 0,
    "slideshow": {
     "slide_type": "slide"
    }
   },
   "source": [
    "### Observer (Behavioral Pattern)\n",
    "\n",
    "**Intent**\n",
    "Define a one-to-many dependency between objects so that when one object\n",
    "changes state, all its dependents are notified and updated\n",
    "automatically.\n",
    "\n",
    "**Motivation**\n",
    "When partitioning a system into collaborating classes it is often\n",
    "necessary to maintain consistency between related objects. We don't want\n",
    "to have tight coupling between these classes. The Observer pattern\n",
    "describes how a *subject* may have any number of *observers* that are\n",
    "kept update about changes to the subject.\n"
   ]
  },
  {
   "cell_type": "markdown",
   "id": "7954ae78b6d1fd76",
   "metadata": {
    "lang": "de",
    "lines_to_next_cell": 0,
    "slideshow": {
     "slide_type": "slide"
    }
   },
   "source": [
    "### Observer (Behavioral Pattern)\n",
    "\n",
    "**Applicability**\n",
    "Use the Observer pattern when\n",
    "\n",
    "-   An abstraction has two aspects and one of them depends on the other.\n",
    "\n",
    "-   When a change in one object causes change in several others and you\n",
    "    don't know exactly how many or which ones.\n",
    "\n",
    "-   When an Object needs to notify other objects without making\n",
    "    assumptions what these objects are.\n"
   ]
  },
  {
   "cell_type": "markdown",
   "id": "e9b1dd238b519988",
   "metadata": {
    "lang": "de",
    "lines_to_next_cell": 0,
    "slideshow": {
     "slide_type": "slide"
    }
   },
   "source": [
    "### Observer (Behavioral Pattern)\n",
    "\n",
    "**Structure**\n",
    "\n",
    "<img src=\"img/observerPattern1.png\"\n",
    "     style=\"display:block;margin:auto;width:70%\"/>\n"
   ]
  },
  {
   "cell_type": "markdown",
   "id": "c91d2ec6b4a5823b",
   "metadata": {
    "lang": "de",
    "lines_to_next_cell": 0,
    "slideshow": {
     "slide_type": "slide"
    }
   },
   "source": [
    "### Observer (Behavioral Pattern)\n",
    "\n",
    "**Participants**\n",
    "\n",
    "-   Subject\n",
    "\n",
    "    -   knows its observers. Any number of Observer objects may observe\n",
    "        a subject\n",
    "\n",
    "    -   provides an interface for attaching and detaching Observer\n",
    "        objects\n",
    "\n",
    "-   Observer\n",
    "\n",
    "    -   defines an updating interface for objects that should be\n",
    "        notified of changes in a subject\n",
    "\n",
    "-   ConcreteSubject\n",
    "\n",
    "    -   stores state of interest to ConcreteObserver objects\n",
    "\n",
    "    -   sends a notification to its observers when its state changes\n",
    "\n",
    "-   ConcreteObserver\n",
    "\n",
    "    -   maintains a reference to a ConcreteSubject object\n",
    "\n",
    "    -   stores state that should stay consistent with the subject's\n",
    "\n",
    "    -   implements the Observer updating interface to keep its state\n",
    "        consistent with the subject's\n"
   ]
  },
  {
   "cell_type": "markdown",
   "id": "311ecf3d9a41a556",
   "metadata": {
    "lang": "de",
    "lines_to_next_cell": 0,
    "slideshow": {
     "slide_type": "slide"
    }
   },
   "source": [
    "### Observer (Behavioral Pattern)\n",
    "\n",
    "**Collaborations**\n",
    "\n",
    "-   ConcreteSubject notifies its observers whenever a change occurs that\n",
    "    could make its observers' state inconsistent with its own.\n",
    "\n",
    "-   After being informed of a change in the concrete subject, a\n",
    "    ConcreteObserver object may query the subject for information.\n",
    "    ConcreteObserver uses this information to reconcile its state with\n",
    "    that of the subject.\n"
   ]
  },
  {
   "cell_type": "markdown",
   "id": "7d3581de37e868f0",
   "metadata": {
    "lang": "de",
    "lines_to_next_cell": 0,
    "slideshow": {
     "slide_type": "slide"
    }
   },
   "source": [
    "### Observer (Behavioral Pattern)\n",
    "\n",
    "<img src=\"img/observerPattern2.png\"\n",
    "     style=\"display:block;margin:auto;width:70%\"/>\n"
   ]
  },
  {
   "cell_type": "markdown",
   "id": "b1ed3b764a150b34",
   "metadata": {
    "lang": "de",
    "lines_to_next_cell": 0,
    "slideshow": {
     "slide_type": "slide"
    }
   },
   "source": [
    "### Observer (Behavioral Pattern)\n",
    "\n",
    "**Consequences**\n",
    "\n",
    "The Observer pattern lets you vary subjects and observers independently.\n",
    "You can reuse subjects without reusing their observers, and vice versa.\n",
    "It lets you add observers without modifying the subject or other\n",
    "observers. Further benefits and liabilities of the Observer pattern\n",
    "include the following:\n",
    "\n",
    "-   Abstract coupling between Subject and Observer \\[...\\]\n",
    "\n",
    "-   Support for broadcast communication \\[...\\]\n",
    "\n",
    "-   Unexpected updates \\[...\\]\n"
   ]
  },
  {
   "cell_type": "markdown",
   "id": "dbd40aed189698c5",
   "metadata": {
    "lang": "de",
    "slideshow": {
     "slide_type": "slide"
    }
   },
   "source": [
    "### Observer (Behavioral Pattern)\n",
    "\n",
    "**Known uses**\n",
    "Event listeners in user interfaces (SWT)\n",
    "\n",
    "**Related Patterns**\n",
    "\n",
    "-   Mediator (273): By encapsulating complex update semantics, the\n",
    "    ChangeManager acts as mediator between subjects and observers\n",
    "\n",
    "-   Singleton (127): The ChangeManager \\[in a variant implementation of\n",
    "    the pattern\\] may use the Singleton pattern to make it unique and\n",
    "    globally accessible\n"
   ]
  }
 ],
 "metadata": {},
 "nbformat": 4,
 "nbformat_minor": 5
}
