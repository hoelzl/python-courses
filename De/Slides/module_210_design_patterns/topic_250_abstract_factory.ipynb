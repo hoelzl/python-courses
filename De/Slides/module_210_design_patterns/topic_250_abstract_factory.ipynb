{
 "cells": [
  {
   "cell_type": "code",
   "execution_count": null,
   "id": "6b4e03423667dbb7",
   "metadata": {},
   "outputs": [],
   "source": []
  },
  {
   "cell_type": "markdown",
   "id": "46ac8df3bf7bb68a",
   "metadata": {
    "lang": "de",
    "slideshow": {
     "slide_type": "slide"
    }
   },
   "source": [
    "<img src=\"../../img/python-logo-no-text.svg\"\n",
    "     style=\"display:block;margin:auto;width:10%\"/>\n",
    "<br>\n",
    "<div style=\"text-align:center; font-size:200%;\">\n",
    "  <b>Abstract Factory</b>\n",
    "</div>\n",
    "<br/>\n",
    "<div style=\"text-align:center;\">Dr. Matthias Hölzl</div>\n",
    "<br/>\n",
    "<div style=\"text-align:center;\">module_210_design_patterns/topic_250_abstract_factory</div>"
   ]
  },
  {
   "cell_type": "markdown",
   "id": "7b2fcbe032e8150a",
   "metadata": {
    "lang": "de",
    "lines_to_next_cell": 2,
    "slideshow": {
     "slide_type": "slide"
    }
   },
   "source": [
    "\n",
    "# Abstract Factory"
   ]
  },
  {
   "cell_type": "markdown",
   "id": "1d60b345c51a476e",
   "metadata": {
    "lang": "de",
    "lines_to_next_cell": 0,
    "slideshow": {
     "slide_type": "slide"
    }
   },
   "source": [
    "### Designproblem: Erzeugen von Bonusitems\n",
    "\n",
    "Zur Erinnerung: Die Orte, an denen Bonusitems erzeugt werden sollen vom\n",
    "Level-Designer durch sogenannte Spawn-Volumes festgelegt werden.\n",
    "\n",
    "**Problem mit dem angegebenen Design**\n",
    "Es ist für den Designer nicht möglich, den von einem Spawn-Volume\n",
    "erzeugten Objekttyp zu verändern.\n"
   ]
  },
  {
   "cell_type": "markdown",
   "id": "0078bb84cf2e2f31",
   "metadata": {
    "lang": "de",
    "lines_to_next_cell": 0,
    "slideshow": {
     "slide_type": "slide"
    }
   },
   "source": [
    "### Zweiter Entwurf: Konfigurierbares Spawn-Volume\n",
    "\n",
    "<img src=\"img/PlantUML/spawn-volume-2.png\"\n",
    "     style=\"display:block;margin:auto;width:70%\"/>\n"
   ]
  },
  {
   "cell_type": "markdown",
   "id": "f2b404f8584fc75b",
   "metadata": {
    "lang": "de",
    "lines_to_next_cell": 0,
    "slideshow": {
     "slide_type": "slide"
    }
   },
   "source": [
    "### Zweiter Entwurf: Konfigurierbares Spawn-Volume\n",
    "\n",
    "Dieser Entwurf erlaubt die Konfiguration des erzeugten Objekts, hat aber\n",
    "einige Nachteile:\n",
    "\n",
    "-   Die Verwendung von Strings zur Angabe des Typs ist fehleranfällig\n",
    "    Besser: Verwendung einer Enumeration, aber dann muss für jeden neuen\n",
    "    Pickup-Typ die Enumeration angepasst werden\n",
    "\n",
    "-   Die SpawnPickup()-Methode muss alle Pickup-Typen kennen und per\n",
    "    Fallunterscheidung den richtigen Typ auswählen\n",
    "\n",
    "\n",
    "\n"
   ]
  },
  {
   "cell_type": "markdown",
   "id": "5c407d49dc0f7507",
   "metadata": {
    "lang": "de",
    "lines_to_next_cell": 0,
    "slideshow": {
     "slide_type": "slide"
    }
   },
   "source": [
    "### Designproblem: Mehrere Bonusitems pro Region\n",
    "\n",
    "Unser jetziges Design hat einige positive Eigenschaften:\n",
    "\n",
    "-   Der von einem Spawn-Volume erzeugte Pickup-Typ kann leicht geändert\n",
    "    werden\n",
    "\n",
    "-   Das Hinzufügen von neuen Pickup-Typen geht ohne jede Änderung an der\n",
    "    Spawn-Volume Implementierung\n",
    "\n",
    "Aber: Es ist nicht leicht möglich in einem Spawn-Volume mehrere\n",
    "Bonusitem-Typen zu erzeugen.\n"
   ]
  },
  {
   "cell_type": "markdown",
   "id": "df593d5deae80ac4",
   "metadata": {
    "lang": "de",
    "lines_to_next_cell": 0,
    "slideshow": {
     "slide_type": "slide"
    }
   },
   "source": [
    "### Vierter Entwurf: Spawn-Volume mit Abstract Factory\n",
    "\n",
    "\n",
    "<img src=\"img/PlantUML/spawn-volume-5.png\"\n",
    "     style=\"display:block;margin:auto;width:70%\"/>\n"
   ]
  },
  {
   "cell_type": "markdown",
   "id": "22f649c6dcbbfb13",
   "metadata": {
    "lang": "de",
    "lines_to_next_cell": 0,
    "slideshow": {
     "slide_type": "slide"
    }
   },
   "source": [
    "### Abstract Factory (Creational Pattern)\n",
    "\n",
    "**Intent**\n",
    "Provides an interface for creating families of related or dependent\n",
    "objects without specifying their concrete classes.\n",
    "**Motivation**\n",
    "UI toolkit that supports multiple looks and feels. Widget look and feel\n",
    "should not be hard-coded. Define an abstract `WidgetFactory` class that\n",
    "provides a uniform interface for creating widgets for different looks\n",
    "and feels, instantiate a concrete subclass for each look and feel.\n"
   ]
  },
  {
   "cell_type": "markdown",
   "id": "a37fde2360f8ccb7",
   "metadata": {
    "lang": "de",
    "lines_to_next_cell": 0,
    "slideshow": {
     "slide_type": "slide"
    }
   },
   "source": [
    "### Abstract Factory (Creational Pattern)\n",
    "\n",
    "**Applicability**\n",
    "Use the Abstract Factory pattern when\n",
    "\n",
    "-   a system should be independent of how its products are created,\n",
    "    composed, and represented\n",
    "\n",
    "-   a system should be configured with one of multiple families of\n",
    "    products\n",
    "\n",
    "-   a family of related product objects is designed to be used together,\n",
    "    and you need to enforce this constraint\n",
    "\n",
    "-   you want to provide a class library of products, and you want to\n",
    "    reveal just their interfaces, not their implementations\n"
   ]
  },
  {
   "cell_type": "markdown",
   "id": "108868a5059997b7",
   "metadata": {
    "lang": "de",
    "lines_to_next_cell": 0,
    "slideshow": {
     "slide_type": "slide"
    }
   },
   "source": [
    "### Abstract Factory (Creational Pattern)\n",
    "\n",
    "**Structure**\n",
    "\n",
    "<img src=\"img/abstractFactory.png\"\n",
    "     style=\"display:block;margin:auto;width:70%\"/>\n"
   ]
  },
  {
   "cell_type": "markdown",
   "id": "547934b6aed74edf",
   "metadata": {
    "lang": "de",
    "slideshow": {
     "slide_type": "slide"
    }
   },
   "source": [
    "### Abstract Factory (Creational Pattern)\n",
    "\n",
    "**Consequences**\n",
    "The *Abstract Factory* pattern\n",
    "\n",
    "-   isolates concrete classes\n",
    "\n",
    "-   makes exchanging product families easy\n",
    "\n",
    "-   promotes consistency among products\n",
    "\n",
    "-   makes it difficult to support new kinds of products\n",
    "\n",
    "-   (significantly) increases code complexity\n",
    "\n",
    "**Known uses** `Toolkit` in AWT.\n",
    "**Related Patterns**\n",
    "\n",
    "-   Factory Method\n",
    "\n",
    "-   Prototype\n",
    "\n",
    "-   Singleton (the factory is often a Singleton)"
   ]
  }
 ],
 "metadata": {},
 "nbformat": 4,
 "nbformat_minor": 5
}
