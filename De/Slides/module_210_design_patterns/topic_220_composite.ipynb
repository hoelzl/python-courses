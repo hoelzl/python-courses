{
 "cells": [
  {
   "cell_type": "code",
   "execution_count": null,
   "id": "6b4e03423667dbb7",
   "metadata": {},
   "outputs": [],
   "source": []
  },
  {
   "cell_type": "markdown",
   "id": "c5c5fca37d89aec3",
   "metadata": {
    "lang": "de",
    "slideshow": {
     "slide_type": "slide"
    }
   },
   "source": [
    "<img src=\"../../img/python-logo-no-text.svg\"\n",
    "     style=\"display:block;margin:auto;width:10%\"/>\n",
    "<br>\n",
    "<div style=\"text-align:center; font-size:200%;\">\n",
    "  <b>Composite</b>\n",
    "</div>\n",
    "<br/>\n",
    "<div style=\"text-align:center;\">Dr. Matthias Hölzl</div>\n",
    "<br/>\n",
    "<div style=\"text-align:center;\">module_210_design_patterns/topic_220_composite</div>"
   ]
  },
  {
   "cell_type": "markdown",
   "id": "a71edb43514da499",
   "metadata": {
    "lang": "de",
    "lines_to_next_cell": 2,
    "slideshow": {
     "slide_type": "slide"
    }
   },
   "source": [
    "\n",
    "# Composite"
   ]
  },
  {
   "cell_type": "markdown",
   "id": "789085ad3bf5f13e",
   "metadata": {
    "lang": "de",
    "lines_to_next_cell": 0,
    "slideshow": {
     "slide_type": "slide"
    }
   },
   "source": [
    "### Designproblem: Benutzeroberfläche\n",
    "\n",
    "-   Komponenten in der Benutzeroberfläche haben eine hierarchische\n",
    "    Struktur:\n",
    "\n",
    "    -   Bildschirm\n",
    "\n",
    "    -   Fenster\n",
    "\n",
    "    -   Eingabemaske\n",
    "\n",
    "    -   Eingabefeld, Button, etc.\n",
    "\n",
    "-   Das Interface der Komponenten soll einheitlich sein\n"
   ]
  },
  {
   "cell_type": "markdown",
   "id": "b9cfc8a40766db1a",
   "metadata": {
    "lang": "de",
    "lines_to_next_cell": 0,
    "slideshow": {
     "slide_type": "slide"
    }
   },
   "source": [
    "### Composite (Structural Pattern)\n",
    "\n",
    "**Intent**\n",
    "Compose objects into tree structures to represent part-whole\n",
    "hierarchies. Composite lets clients treat individual objects and\n",
    "compositions of objects uniformly.\n",
    "\n",
    "**Motivation**\n",
    "Graphical editors let users build complex diagrams from simpler\n",
    "components. Components can be grouped to form larger components, which\n",
    "can themselves be grouped to form even larger components. Code that uses\n",
    "these components should not have to distinguish between primitives and\n",
    "complex components. The *Composite* pattern describes how to use\n",
    "recursive composition so that clients don't have to make this\n",
    "distinction.\n"
   ]
  },
  {
   "cell_type": "markdown",
   "id": "04dde803885b4233",
   "metadata": {
    "lang": "de",
    "lines_to_next_cell": 0,
    "slideshow": {
     "slide_type": "slide"
    }
   },
   "source": [
    "### Composite (Structural Pattern)\n",
    "\n",
    "**Applicability**\n",
    "Use the Composite pattern when\n",
    "\n",
    "-   You want to represent part-whole hierarchies of objects.\n",
    "\n",
    "-   You want clients to be able to ignore the difference between\n",
    "    compositions of objects and individual objects. Clients will treat\n",
    "    all objects in the composite structure uniformly.\n"
   ]
  },
  {
   "cell_type": "markdown",
   "id": "508fcea3c5fe56a6",
   "metadata": {
    "lang": "de",
    "lines_to_next_cell": 0,
    "slideshow": {
     "slide_type": "slide"
    }
   },
   "source": [
    "### Composite (Structural Pattern)\n",
    "\n",
    "**Structure**\n",
    "\n",
    "<img src=\"img/composite.png\"\n",
    "     style=\"display:block;margin:auto;width:70%\"/>\n"
   ]
  },
  {
   "cell_type": "markdown",
   "id": "df137bd43c3e1aeb",
   "metadata": {
    "lang": "de",
    "lines_to_next_cell": 0,
    "slideshow": {
     "slide_type": "slide"
    }
   },
   "source": [
    "### Composite (Structural Pattern)\n",
    "\n",
    "**Consequences**\n",
    "The *Composite* pattern\n",
    "\n",
    "-   defines class hierarchies consisting of primitive and composite\n",
    "    objects\n",
    "\n",
    "-   makes the clients simple\n",
    "\n",
    "-   makes it easier to add new kinds of components\n",
    "\n",
    "-   can make your design overly general\n"
   ]
  },
  {
   "cell_type": "markdown",
   "id": "5e4e227efa50d2c7",
   "metadata": {
    "lang": "de",
    "lines_to_next_cell": 2,
    "slideshow": {
     "slide_type": "slide"
    }
   },
   "source": [
    "### Composite (Structural Pattern)\n",
    "\n",
    "**Known uses** `Composite` and `Control` in SWT, abstract syntax trees\n",
    "in compilers, ...\n",
    "**Related Patterns**\n",
    "\n",
    "-   Chain of Command\n",
    "\n",
    "-   Decorator\n",
    "\n",
    "-   Iterator\n",
    "\n",
    "-   Visitor\n",
    "\n",
    "-   ...\n",
    "\n",
    "**Example** ...\n"
   ]
  }
 ],
 "metadata": {},
 "nbformat": 4,
 "nbformat_minor": 5
}
