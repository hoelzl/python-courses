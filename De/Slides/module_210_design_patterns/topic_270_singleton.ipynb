{
 "cells": [
  {
   "cell_type": "markdown",
   "id": "c2231d132743f762",
   "metadata": {
    "lang": "de",
    "slideshow": {
     "slide_type": "slide"
    }
   },
   "source": [
    "<img src=\"../../img/python-logo-no-text.svg\"\n",
    "     style=\"display:block;margin:auto;width:10%\"/>\n",
    "<br>\n",
    "<div style=\"text-align:center; font-size:200%;\">\n",
    " <b>Singleton</b>\n",
    "</div>\n",
    "<br/>\n",
    "<div style=\"text-align:center;\">Dr. Matthias Hölzl</div>\n",
    "<br/>\n",
    "<div style=\"text-align:center;\">module_210_design_patterns/topic_270_singleton</div>"
   ]
  },
  {
   "cell_type": "markdown",
   "id": "019d54dec5d848c9",
   "metadata": {
    "lang": "de",
    "lines_to_next_cell": 2,
    "slideshow": {
     "slide_type": "slide"
    }
   },
   "source": [
    "\n",
    "# Singleton"
   ]
  },
  {
   "cell_type": "markdown",
   "id": "29b420bcff61b781",
   "metadata": {
    "lang": "de",
    "lines_to_next_cell": 0,
    "slideshow": {
     "slide_type": "slide"
    }
   },
   "source": [
    "### Designproblem: Eine Instanz des Spiels\n",
    "\n",
    "-   Das Spiel benötigt mehrere Resourcen die von verschiedenen\n",
    "    Subsystemen aus ansprechbar sein sollen\n",
    "\n",
    "    -   System-Resourcen (Bildschirm/Renderer)\n",
    "\n",
    "    -   Spielelemente (Figuren, Level)\n",
    "\n",
    "-   Es soll sichergestellt werden, dass jede Resource nur einmal erzeugt\n",
    "    wird und alle Subsysteme auf die gleiche Resource zugreifen\n",
    "\n",
    "-   Globale Variablen?\n",
    "\n",
    "-   Statische Attribute?\n",
    "\n",
    "-   Flexibler: Eine Klasse, die ihre einzige Instanz selber verwaltet.\n"
   ]
  },
  {
   "cell_type": "markdown",
   "id": "f96a6e5ea6fc9074",
   "metadata": {
    "lang": "de",
    "lines_to_next_cell": 0,
    "slideshow": {
     "slide_type": "slide"
    }
   },
   "source": [
    "### Singleton (Creational Pattern)\n",
    "\n",
    "**Intent**\n",
    "Ensure a class has only one instance; provide a global point of access\n",
    "to it.\n",
    "**Motivation**\n",
    "Some classes should have exactly one instance, e.g., classes that\n",
    "correspond to unique physical resources. This instance should be easily\n",
    "accessible. Singleton makes the class itself responsible for keeping\n",
    "track of its single instance.\n",
    "**Applicability**\n",
    "Use the Singleton pattern when\n",
    "\n",
    "-   there must be exactly one instance of a class, and it must be\n",
    "    accessible to clients from a well-known access point\n",
    "\n",
    "-   the sole instance should be extensible by subclassing, and clients\n",
    "    should be able to use an extended instance without modifying their\n",
    "    code.\n"
   ]
  },
  {
   "cell_type": "markdown",
   "id": "c3b4e986639e347d",
   "metadata": {
    "lang": "de",
    "lines_to_next_cell": 0,
    "slideshow": {
     "slide_type": "slide"
    }
   },
   "source": [
    "### Singleton (Creational Pattern)\n",
    "\n",
    "**Structure**\n",
    "\n",
    "![image](pat_singleton){width=\"10cm\"}\n"
   ]
  },
  {
   "cell_type": "markdown",
   "id": "d71d10d2d95d6a34",
   "metadata": {
    "lang": "de",
    "lines_to_next_cell": 0,
    "slideshow": {
     "slide_type": "slide"
    }
   },
   "source": [
    "### Singleton (Creational Pattern)\n",
    "\n",
    "**Consequences**\n",
    "The *Singleton* has several benefits:\n",
    "\n",
    "-   Controlled access to sole instance.\n",
    "\n",
    "-   Reduced name space.\n",
    "\n",
    "-   Permits refinement of operations and representation.\n",
    "\n",
    "-   Permits a variable number of instances.\n",
    "\n",
    "-   More flexible than class operations.\n",
    "\n",
    "**Known uses** `java.lang.Runtime`; `org.eclipse.core.runtime.Plugin`.\n",
    "**Example** ...\n"
   ]
  },
  {
   "cell_type": "markdown",
   "id": "7f8fb92d9c05f5ab",
   "metadata": {
    "lang": "de",
    "lines_to_next_cell": 0,
    "slideshow": {
     "slide_type": "slide"
    }
   },
   "source": [
    "### Singleton (Creational Pattern)\n",
    "\n",
    "**Consequences**\n",
    "The *Singleton* has several benefits:\n",
    "\n",
    "-   Controlled access to sole instance.\n",
    "\n",
    "-   Reduced name space.\n",
    "\n",
    "-   Permits refinement of operations and representation.\n",
    "\n",
    "-   Permits a variable number of instances.\n",
    "\n",
    "-   More flexible than class operations.\n",
    "\n",
    "**Known uses** `java.lang.Runtime`; `org.eclipse.core.runtime.Plugin`.\n"
   ]
  },
  {
   "cell_type": "markdown",
   "id": "7f5487acac92f068",
   "metadata": {
    "lang": "de",
    "slideshow": {
     "slide_type": "slide"
    }
   },
   "source": [
    "### Singleton (Creational Pattern)\n",
    "\n",
    "**Example**\n",
    "\n",
    "![image](pat_world){width=\"8cm\"}\n",
    "\n",
    "(**Note:** This is not how the Unreal Engine works.)"
   ]
  }
 ],
 "metadata": {},
 "nbformat": 4,
 "nbformat_minor": 5
}
