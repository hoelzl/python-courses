{
 "cells": [
  {
   "cell_type": "markdown",
   "id": "f60a4832a6d84cec",
   "metadata": {
    "lang": "de",
    "slideshow": {
     "slide_type": "slide"
    }
   },
   "source": [
    "<img src=\"../../img/python-logo-no-text.svg\"\n",
    "     style=\"display:block;margin:auto;width:10%\"/>\n",
    "<br>\n",
    "<div style=\"text-align:center; font-size:200%;\">\n",
    " <b>Proxy</b>\n",
    "</div>\n",
    "<br/>\n",
    "<div style=\"text-align:center;\">Dr. Matthias Hölzl</div>\n",
    "<br/>\n",
    "<div style=\"text-align:center;\">module_210_design_patterns/topic_970_proxy</div>"
   ]
  },
  {
   "cell_type": "markdown",
   "id": "39b6e13012c44307",
   "metadata": {
    "lang": "de",
    "lines_to_next_cell": 2,
    "slideshow": {
     "slide_type": "slide"
    }
   },
   "source": [
    "\n",
    "# Proxy"
   ]
  },
  {
   "cell_type": "markdown",
   "id": "351ca38731c6b86f",
   "metadata": {
    "lang": "de",
    "slideshow": {
     "slide_type": "slide"
    }
   },
   "source": [
    "### Proxy (Structural Pattern)\n",
    "\n",
    "**Intent**\n",
    "Provide a surrogate or placeholder for another object to control access\n",
    "to it.\n",
    "**Structure**\n",
    "\n",
    "![image](proxy)\n"
   ]
  }
 ],
 "metadata": {},
 "nbformat": 4,
 "nbformat_minor": 5
}
