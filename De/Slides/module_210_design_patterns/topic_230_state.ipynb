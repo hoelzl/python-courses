{
 "cells": [
  {
   "cell_type": "code",
   "execution_count": null,
   "id": "6b4e03423667dbb7",
   "metadata": {},
   "outputs": [],
   "source": []
  },
  {
   "cell_type": "markdown",
   "id": "2ad9102299dd5aff",
   "metadata": {
    "lang": "de",
    "slideshow": {
     "slide_type": "slide"
    }
   },
   "source": [
    "<img src=\"../../img/python-logo-no-text.svg\"\n",
    "     style=\"display:block;margin:auto;width:10%\"/>\n",
    "<br>\n",
    "<div style=\"text-align:center; font-size:200%;\">\n",
    "  <b>Zustand (State)</b>\n",
    "</div>\n",
    "<br/>\n",
    "<div style=\"text-align:center;\">Dr. Matthias Hölzl</div>\n",
    "<br/>\n",
    "<div style=\"text-align:center;\">module_210_design_patterns/topic_230_state</div>"
   ]
  },
  {
   "cell_type": "markdown",
   "id": "425cf9ac149d5b66",
   "metadata": {
    "lang": "de",
    "lines_to_next_cell": 2,
    "slideshow": {
     "slide_type": "slide"
    }
   },
   "source": [
    "\n",
    "# Zustand (State)"
   ]
  },
  {
   "cell_type": "markdown",
   "id": "37702fcbba836fde",
   "metadata": {
    "lang": "de",
    "lines_to_next_cell": 0,
    "slideshow": {
     "slide_type": "slide"
    }
   },
   "source": [
    "### Designproblem: Verschiedene Modi\n",
    "\n",
    "Der Designer hat sich entschieden, dass der Spieler eine Auswahl\n",
    "zwischen verschiedenen Figuren haben soll. Um das zu ermöglichen muss\n",
    "dass System zwischen zwei \"Zuständen\" unterscheiden können:\n",
    "\n",
    "-   Auswahl einer Spielfigur\n",
    "\n",
    "-   Spielen des eigentlichen Levels\n",
    "\n",
    "Während des Spielens treten drei (bzw. vier) Unterzustände auf:\n",
    "\n",
    "-   (Spiel ist in einem undefinierten Zustand)\n",
    "\n",
    "-   Spiel wird ausgeführt\n",
    "\n",
    "-   Spieler hat gewonnen\n",
    "\n",
    "-   Spieler hat verloren\n"
   ]
  },
  {
   "cell_type": "markdown",
   "id": "32423a8909609a0c",
   "metadata": {
    "lang": "de",
    "lines_to_next_cell": 0,
    "slideshow": {
     "slide_type": "slide"
    }
   },
   "source": [
    "### Designproblem: Verschiedene Modi\n",
    "\n",
    "<img src=\"img/PlantUML/game-state-1.png\"\n",
    "     style=\"display:block;margin:auto;width:70%\"/>\n"
   ]
  },
  {
   "cell_type": "markdown",
   "id": "9d0e2d6760c2719b",
   "metadata": {
    "lang": "de",
    "lines_to_next_cell": 0,
    "slideshow": {
     "slide_type": "slide"
    }
   },
   "source": [
    "### Designproblem: Verschiedene Modi\n",
    "\n",
    "<img src=\"img/PlantUML/game-state-2.png\"\n",
    "     style=\"display:block;margin:auto;width:70%\"/>\n"
   ]
  },
  {
   "cell_type": "markdown",
   "id": "747d62004f5ae94d",
   "metadata": {
    "lang": "de",
    "lines_to_next_cell": 0,
    "slideshow": {
     "slide_type": "slide"
    }
   },
   "source": [
    "### State (Behavioral Pattern)\n",
    "\n",
    "**Intent**\n",
    "Allow an object to alter its behaviour when its internal state changes.\n",
    "The object will appear to change its class.\n",
    "\n",
    "**Also Known As**\n",
    "Objects for States\n",
    "\n",
    "**Motivation**\n",
    "TCP-connection object. We use Streams as simpler example.\n"
   ]
  },
  {
   "cell_type": "markdown",
   "id": "a9a1220dd20265eb",
   "metadata": {
    "lang": "de",
    "slideshow": {
     "slide_type": "slide"
    }
   },
   "source": [
    "### State (Behavioral Pattern)\n",
    "\n",
    "<img src=\"img/PlantUML/stream-2.png\"\n",
    "     style=\"display:block;margin:auto;width:70%\"/>"
   ]
  },
  {
   "cell_type": "markdown",
   "id": "1f8982a4d5c85283",
   "metadata": {
    "lang": "de",
    "lines_to_next_cell": 0,
    "slideshow": {
     "slide_type": "slide"
    }
   },
   "source": [
    "### State (Behavioral Pattern)\n",
    "\n",
    "<img src=\"img/PlantUML/stream-1.png\"\n",
    "     style=\"display:block;margin:auto;width:70%\"/>\n"
   ]
  },
  {
   "cell_type": "markdown",
   "id": "5b2f196041b7aaad",
   "metadata": {
    "lang": "de",
    "lines_to_next_cell": 0,
    "slideshow": {
     "slide_type": "slide"
    }
   },
   "source": [
    "### State (Behavioral Pattern)\n",
    "\n",
    "**Applicability**\n",
    "Use the State pattern in either of the following cases:\n",
    "\n",
    "-   An object's behavior depends on its state, and it must change its\n",
    "    behavior at run-time depending on that state.\n",
    "\n",
    "-   Operations have large, multipart conditional statements that depend\n",
    "    on the object's state. This state is usually represented by one or\n",
    "    more enumerated constants. Often, several operations will contain\n",
    "    this same conditional structure. The State pattern puts each branch\n",
    "    of the conditional in a separate class. This lets you treat the\n",
    "    object's state as an object in its own right that can vary\n",
    "    independently from other objects.\n"
   ]
  },
  {
   "cell_type": "markdown",
   "id": "7a6b0d6b2a2b2d7c",
   "metadata": {
    "lang": "de",
    "lines_to_next_cell": 0,
    "slideshow": {
     "slide_type": "slide"
    }
   },
   "source": [
    "### State (Behavioral Pattern)\n",
    "\n",
    "**Structure**\n",
    "\n",
    "<img src=\"img/state.png\"\n",
    "     style=\"display:block;margin:auto;width:70%\"/>\n",
    "\n"
   ]
  },
  {
   "cell_type": "markdown",
   "id": "3ad8d65c0180ecd1",
   "metadata": {
    "lang": "de",
    "lines_to_next_cell": 0,
    "slideshow": {
     "slide_type": "slide"
    }
   },
   "source": [
    "### State (Behavioral Pattern)\n",
    "\n",
    "**Participants**\n",
    "\n",
    "-   Context\n",
    "\n",
    "    -   defines the interface of interest to clients\n",
    "\n",
    "    -   maintains an instance of a ConcreteState subclass that defines\n",
    "        the current state.\n",
    "\n",
    "-   State\n",
    "\n",
    "    -   defines an interface for encapsulating the behavior associated\n",
    "        with a particular state of the Context\n",
    "\n",
    "-   ConcreteState subclasses\n",
    "\n",
    "    -   each subclass implements a behavior associated with a state of\n",
    "        the Context\n"
   ]
  },
  {
   "cell_type": "markdown",
   "id": "b215b08630738608",
   "metadata": {
    "lang": "de",
    "lines_to_next_cell": 0,
    "slideshow": {
     "slide_type": "slide"
    }
   },
   "source": [
    "### State (Behavioral Pattern)\n",
    "\n",
    "**Collaborations**\n",
    "\n",
    "-   Context delegates state-specific requests to the current\n",
    "    ConcreteState object\n",
    "\n",
    "-   A context may pass itself as an argument to the State object\n",
    "    handling the request. This lets the State object access the context\n",
    "    if necessary\n",
    "\n",
    "-   Context is the primary interface for clients. Clients can configure\n",
    "    a context with State objects. Once a context is configured, its\n",
    "    clients don't have to deal with the State objects directly\n",
    "\n",
    "-   Either Context or the ConcreteState subclasses can decide which\n",
    "    state succeeds another and under what circumstances.\n"
   ]
  },
  {
   "cell_type": "markdown",
   "id": "5cf6ee5d13649969",
   "metadata": {
    "lang": "de",
    "lines_to_next_cell": 0,
    "slideshow": {
     "slide_type": "slide"
    }
   },
   "source": [
    "### State (Behavioral Pattern)\n",
    "\n",
    "**Consequences**\n",
    "The State pattern has the following consequences:\n",
    "\n",
    "-   It localizes state-specific behavior and partitions behavior for\n",
    "    different states.\n",
    "\n",
    "-   It makes state transitions explicit\n",
    "\n",
    "-   State objects can be shared\n"
   ]
  },
  {
   "cell_type": "markdown",
   "id": "555ac03beaee3952",
   "metadata": {
    "lang": "de",
    "slideshow": {
     "slide_type": "slide"
    }
   },
   "source": [
    "### State (Behavioral Pattern)\n",
    "\n",
    "**Implementation and Sample Code** ...\n",
    "**Known Uses**\n",
    "Realization of state diagrams by state objects.\n",
    "**Related Patterns**\n",
    "The Flyweight (195) pattern explains when and how State objects can be\n",
    "shared.\n",
    "\n",
    "State objects are often Singletons (127)."
   ]
  }
 ],
 "metadata": {},
 "nbformat": 4,
 "nbformat_minor": 5
}
