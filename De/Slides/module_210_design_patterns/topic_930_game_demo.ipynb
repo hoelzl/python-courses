{
 "cells": [
  {
   "cell_type": "code",
   "execution_count": null,
   "id": "6b4e03423667dbb7",
   "metadata": {},
   "outputs": [],
   "source": []
  },
  {
   "cell_type": "markdown",
   "id": "85ddbafdf6d80fad",
   "metadata": {
    "lang": "de",
    "slideshow": {
     "slide_type": "slide"
    }
   },
   "source": [
    "<img src=\"../../img/python-logo-no-text.svg\"\n",
    "     style=\"display:block;margin:auto;width:10%\"/>\n",
    "<br>\n",
    "<div style=\"text-align:center; font-size:200%;\">\n",
    "  <b>Demo des Spiels</b>\n",
    "</div>\n",
    "<br/>\n",
    "<div style=\"text-align:center;\">Dr. Matthias Hölzl</div>\n",
    "<br/>\n",
    "<div style=\"text-align:center;\">module_210_design_patterns/topic_930_game_demo</div>"
   ]
  },
  {
   "cell_type": "markdown",
   "id": "f58126692fe35bc3",
   "metadata": {
    "lang": "de",
    "lines_to_next_cell": 2,
    "slideshow": {
     "slide_type": "slide"
    }
   },
   "source": [
    "\n",
    "# Demo des Spiels"
   ]
  },
  {
   "cell_type": "markdown",
   "id": "89a535f6b7cdf25d",
   "metadata": {
    "lang": "de",
    "lines_to_next_cell": 0,
    "slideshow": {
     "slide_type": "slide"
    }
   },
   "source": [
    "### Anwendungsbeispiel: Computerspiel\n",
    "\n",
    "![image](game-02){width=\"15.5cm\"}\n"
   ]
  },
  {
   "cell_type": "markdown",
   "id": "6be4595838ae9119",
   "metadata": {
    "lang": "de",
    "slideshow": {
     "slide_type": "slide"
    }
   },
   "source": [
    "### Anwendungsbeispiel: Computerspiel\n",
    "\n",
    "-   Spieler kann verschiedenartige\n",
    "    Bonus-Gegenstände aufsammeln\n",
    "\n",
    "    -   Die Gegenstände haben unterschiedliche Effekte\n",
    "\n",
    "    -   Die Interaktion der Gegenstände mit dem Spieler folgt immer dem\n",
    "        gleichen Muster\n",
    "\n",
    "-   Die Energie des Spielers nimmt mit der Zeit ab\n",
    "\n",
    "-   Durch Aufsammeln geeigneter Gegenstände kann der Spieler seine\n",
    "    Energie auffüllen\n",
    "\n",
    "-   Es werden laufend neue Bonus-Gegenstände erzeugt und in der Welt\n",
    "    platziert"
   ]
  }
 ],
 "metadata": {},
 "nbformat": 4,
 "nbformat_minor": 5
}
