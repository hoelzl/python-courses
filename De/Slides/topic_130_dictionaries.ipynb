{
 "cells": [
  {
   "cell_type": "markdown",
   "id": "aa139dbd",
   "metadata": {
    "lang": "de",
    "slideshow": {
     "slide_type": "slide"
    }
   },
   "source": [
    "<img src=\"img/python-logo-notext.svg\"\n",
    "     style=\"display:block;margin:auto;width:10%\"/>\n",
    "<br>\n",
    "<div style=\"text-align:center; font-size:200%;\"><b>Dictionaries</b></div>\n",
    "<br/>\n",
    "<div style=\"text-align:center;\">Dr. Matthias Hölzl</div>"
   ]
  },
  {
   "cell_type": "markdown",
   "id": "03e119f6",
   "metadata": {
    "lang": "de",
    "slideshow": {
     "slide_type": "slide"
    }
   },
   "source": [
    "\n",
    " ## Dictionaries\n",
    "\n",
    " Indizes in Listen\n",
    "\n",
    " - können nur Integer-Werte sein\n",
    " - müssen ein Intervall von 0 bis `len(liste) - 1` umfassen\n",
    "\n",
    " Elemente in einer Liste sind sortiert."
   ]
  },
  {
   "cell_type": "code",
   "execution_count": null,
   "id": "e00a86c8",
   "metadata": {
    "lines_to_next_cell": 2,
    "tags": [
     "keep"
    ]
   },
   "outputs": [],
   "source": [
    "non_sparse = [0] * 10\n",
    "non_sparse[0] = 1\n",
    "non_sparse[9] = 1\n",
    "non_sparse"
   ]
  },
  {
   "cell_type": "markdown",
   "id": "ea6c70ea",
   "metadata": {
    "lang": "de",
    "slideshow": {
     "slide_type": "subslide"
    }
   },
   "source": [
    "Dictionaries sind eine Datenstruktur, in der Indizes\n",
    "\n",
    "- viele verschiedene Typen haben können:\n",
    "  - Integer-Werte\n",
    "  - Strings\n",
    "  - Tupel\n",
    "  - ...\n",
    "\n",
    "Im Gegensatz zu Listen sind die Elemente in einem Dictionary nicht in einer\n",
    "bestimmten Reihenfolge angeordnet."
   ]
  },
  {
   "cell_type": "code",
   "execution_count": null,
   "id": "cd2f7ed8",
   "metadata": {
    "lines_to_next_cell": 2,
    "slideshow": {
     "slide_type": "subslide"
    },
    "tags": [
     "keep"
    ]
   },
   "outputs": [],
   "source": [
    "sparse = {0: 1, 9: 1}"
   ]
  },
  {
   "cell_type": "code",
   "execution_count": null,
   "id": "d89de6df",
   "metadata": {
    "lines_to_next_cell": 2,
    "tags": [
     "keep"
    ]
   },
   "outputs": [],
   "source": [
    "sparse"
   ]
  },
  {
   "cell_type": "code",
   "execution_count": null,
   "id": "00f78c36",
   "metadata": {
    "lines_to_next_cell": 2
   },
   "outputs": [],
   "source": [
    "sparse[0]"
   ]
  },
  {
   "cell_type": "code",
   "execution_count": null,
   "id": "878df4f0",
   "metadata": {
    "lines_to_next_cell": 2
   },
   "outputs": [],
   "source": [
    "# Fehler\n",
    "# sparse[1]"
   ]
  },
  {
   "cell_type": "code",
   "execution_count": null,
   "id": "5e9c67dc",
   "metadata": {
    "lines_to_next_cell": 2
   },
   "outputs": [],
   "source": [
    "sparse[12] = 3\n",
    "print(sparse[12])\n",
    "sparse"
   ]
  },
  {
   "cell_type": "code",
   "execution_count": null,
   "id": "e3c1047e",
   "metadata": {
    "lines_to_next_cell": 2,
    "tags": [
     "keep"
    ]
   },
   "outputs": [],
   "source": [
    "translations = {\n",
    "    \"snake\": \"Schlange\",\n",
    "    \"bat\": \"Fledermaus\",\n",
    "    \"horse\": \"Hose\",\n",
    "    \"bird\": \"Vogel\",\n",
    "}"
   ]
  },
  {
   "cell_type": "code",
   "execution_count": null,
   "id": "4090fdd1",
   "metadata": {
    "lines_to_next_cell": 2
   },
   "outputs": [],
   "source": [
    "print(translations[\"snake\"])\n",
    "print(translations.get(\"bat\", \"<unbekannt>\"))\n",
    "print(translations.get(\"monkey\", \"Affe\"))\n",
    "print(translations.get(\"tree\"))"
   ]
  },
  {
   "cell_type": "code",
   "execution_count": null,
   "id": "dc507c70",
   "metadata": {
    "lines_to_next_cell": 2
   },
   "outputs": [],
   "source": [
    "# Fehler:\n",
    "# translations['monkey']\n",
    "translations"
   ]
  },
  {
   "cell_type": "code",
   "execution_count": null,
   "id": "fea269c7",
   "metadata": {
    "lines_to_next_cell": 2
   },
   "outputs": [],
   "source": [
    "translations[\"horse\"] = \"Pferd\"\n",
    "translations[\"horse\"]"
   ]
  },
  {
   "cell_type": "code",
   "execution_count": null,
   "id": "4462d700",
   "metadata": {
    "lines_to_next_cell": 2
   },
   "outputs": [],
   "source": [
    "del translations[\"bird\"]\n",
    "print(translations.get(\"bird\", \"<unbekannt>\"))\n",
    "print(translations.setdefault(\"bird\", \"Vogel\"))\n",
    "print(translations.setdefault(\"bird\", \"<auch unbekannt>\"))\n",
    "print(translations.get(\"bird\", \"<unbekannt>\"))"
   ]
  },
  {
   "cell_type": "code",
   "execution_count": null,
   "id": "9b28111b",
   "metadata": {
    "lines_to_next_cell": 2
   },
   "outputs": [],
   "source": [
    "for key in translations:\n",
    "    print(key, end=\" \")"
   ]
  },
  {
   "cell_type": "code",
   "execution_count": null,
   "id": "c93182d2",
   "metadata": {
    "lines_to_next_cell": 2
   },
   "outputs": [],
   "source": [
    "for key in translations.keys():\n",
    "    print(key, end=\" \")"
   ]
  },
  {
   "cell_type": "code",
   "execution_count": null,
   "id": "0996a3cd",
   "metadata": {
    "lines_to_next_cell": 2
   },
   "outputs": [],
   "source": [
    "for val in translations.values():\n",
    "    print(val, end=\" \")"
   ]
  },
  {
   "cell_type": "code",
   "execution_count": null,
   "id": "ab45d0ab",
   "metadata": {
    "lines_to_next_cell": 2
   },
   "outputs": [],
   "source": [
    "for item in translations.items():\n",
    "    print(item, end=\" \")"
   ]
  },
  {
   "cell_type": "code",
   "execution_count": null,
   "id": "089fba22",
   "metadata": {
    "lines_to_next_cell": 2
   },
   "outputs": [],
   "source": [
    "for key, val in translations.items():\n",
    "    print(\"Key:\", key, \"\\tValue:\", val)"
   ]
  },
  {
   "cell_type": "markdown",
   "id": "725553e2",
   "metadata": {
    "lang": "de",
    "slideshow": {
     "slide_type": "subslide"
    }
   },
   "source": [
    "\n",
    " ## Mini-Workshop\n",
    "\n",
    " - Notebook `workshop_130_dictionaries`\n",
    " - Abschnitt \"Worthäufigkeiten\""
   ]
  },
  {
   "cell_type": "markdown",
   "id": "afec6d3d",
   "metadata": {
    "lang": "de",
    "slideshow": {
     "slide_type": "subslide"
    }
   },
   "source": [
    "\n",
    " ## Mini-Workshop\n",
    "\n",
    " - Notebook `042x-Workshop Todo-Liste V0`\n",
    " - Abschnitt \"TODO-Liste Version 0\""
   ]
  }
 ],
 "metadata": {
  "kernelspec": {
   "display_name": "Python 3 (ipykernel)",
   "language": "python",
   "name": "python3"
  }
 },
 "nbformat": 4,
 "nbformat_minor": 5
}
