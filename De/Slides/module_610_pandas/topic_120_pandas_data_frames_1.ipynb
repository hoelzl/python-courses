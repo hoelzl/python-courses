{
 "cells": [
  {
   "cell_type": "markdown",
   "id": "51fb714115234d05",
   "metadata": {
    "lang": "de",
    "slideshow": {
     "slide_type": "slide"
    }
   },
   "source": [
    "<img src=\"../../img/python-logo-no-text.svg\"\n",
    "     style=\"display:block;margin:auto;width:10%\"/>\n",
    "<br>\n",
    "<div style=\"text-align:center; font-size:200%;\">\n",
    "  <b>Pandas Data Frames 1</b>\n",
    "</div>\n",
    "<br/>\n",
    "<div style=\"text-align:center;\">Dr. Matthias Hölzl</div>\n",
    "<br/>\n",
    "<div style=\"text-align:center;\">module_610_pandas/topic_120_pandas_data_frames_1</div>"
   ]
  },
  {
   "cell_type": "markdown",
   "id": "2d82049d2b04edc4",
   "metadata": {
    "lang": "de"
   },
   "source": [
    "# Data Frames\n",
    "\n",
    "DataFrames sind die am häufigsten verwendete Datenstruktur in Pandas. Sie\n",
    "erlauben uns einfaches Lesen, Verarbeiten und Speichern von tabellenbasierten\n",
    "Daten.\n",
    "\n",
    "Konzeptionell besteht ein Datenrahmen aus mehreren Serieninstanzen, die sich\n",
    "einen gemeinsamen Index teilen."
   ]
  },
  {
   "cell_type": "code",
   "execution_count": 141,
   "id": "a23d119b62e007ed",
   "metadata": {
    "lines_to_next_cell": 2,
    "tags": [
     "keep"
    ]
   },
   "outputs": [],
   "source": [
    "from pathlib import Path\n",
    "import numpy as np\n",
    "import pandas as pd"
   ]
  },
  {
   "cell_type": "code",
<<<<<<< Updated upstream
   "execution_count": null,
   "id": "78d499b4543a9699",
=======
   "execution_count": 151,
   "id": "3b3270e464545662",
>>>>>>> Stashed changes
   "metadata": {
    "tags": [
     "keep"
    ]
   },
   "outputs": [],
   "source": [
<<<<<<< Updated upstream
    "pandas_dir_path = Path(r\"C:\\Users\\tc\\Programming\\Python\\Courses\\Own\\python-programmierer\\Data\\Pandas\")"
=======
    "pandas_dir_path = r\"https://raw.githubusercontent.com/hoelzl/python-courses/master/De/Codealong/module_610_pandas/data/pandas/\""
   ]
  },
  {
   "cell_type": "code",
   "execution_count": 152,
   "id": "be2e0e34f4781888",
   "metadata": {
    "lines_to_next_cell": 2
   },
   "outputs": [],
   "source": [
    "# assert pandas_dir_path.exists()"
>>>>>>> Stashed changes
   ]
  },
  {
   "cell_type": "code",
   "execution_count": null,
   "id": "c29d551e",
   "metadata": {},
   "outputs": [],
   "source": []
  },
  {
   "cell_type": "markdown",
   "id": "cd03cadc7748fe33",
   "metadata": {
    "lang": "de",
    "lines_to_next_cell": 2
   },
   "source": [
    "## Erzeugen von Data Frames"
   ]
  },
  {
   "cell_type": "markdown",
   "id": "393c58e70ac1a232",
   "metadata": {
    "lang": "de"
   },
   "source": [
    "### Aus einem NumPy Array"
   ]
  },
  {
   "cell_type": "code",
   "execution_count": 146,
   "id": "cf3fce0f7ca14676",
   "metadata": {
    "tags": [
     "keep"
    ]
   },
   "outputs": [],
   "source": [
    "def create_data_frame():\n",
    "    rng = np.random.default_rng(42)\n",
    "    array = rng.normal(size=(5, 4), scale=5.0)\n",
    "    index = \"A B C D E\".split()\n",
    "    columns = \"w x y z\".split()\n",
    "    return pd.DataFrame(array, index=index, columns=columns)"
   ]
  },
  {
   "cell_type": "code",
   "execution_count": 147,
   "id": "23c6c2803ab0c30a",
   "metadata": {
    "lines_to_next_cell": 2,
    "tags": [
     "keep"
    ]
   },
   "outputs": [
    {
     "data": {
      "text/html": [
       "<div>\n",
       "<style scoped>\n",
       "    .dataframe tbody tr th:only-of-type {\n",
       "        vertical-align: middle;\n",
       "    }\n",
       "\n",
       "    .dataframe tbody tr th {\n",
       "        vertical-align: top;\n",
       "    }\n",
       "\n",
       "    .dataframe thead th {\n",
       "        text-align: right;\n",
       "    }\n",
       "</style>\n",
       "<table border=\"1\" class=\"dataframe\">\n",
       "  <thead>\n",
       "    <tr style=\"text-align: right;\">\n",
       "      <th></th>\n",
       "      <th>w</th>\n",
       "      <th>x</th>\n",
       "      <th>y</th>\n",
       "      <th>z</th>\n",
       "    </tr>\n",
       "  </thead>\n",
       "  <tbody>\n",
       "    <tr>\n",
       "      <th>A</th>\n",
       "      <td>1.523585</td>\n",
       "      <td>-5.199921</td>\n",
       "      <td>3.752256</td>\n",
       "      <td>4.702824</td>\n",
       "    </tr>\n",
       "    <tr>\n",
       "      <th>B</th>\n",
       "      <td>-9.755176</td>\n",
       "      <td>-6.510898</td>\n",
       "      <td>0.639202</td>\n",
       "      <td>-1.581213</td>\n",
       "    </tr>\n",
       "    <tr>\n",
       "      <th>C</th>\n",
       "      <td>-0.084006</td>\n",
       "      <td>-4.265220</td>\n",
       "      <td>4.396990</td>\n",
       "      <td>3.888960</td>\n",
       "    </tr>\n",
       "    <tr>\n",
       "      <th>D</th>\n",
       "      <td>0.330153</td>\n",
       "      <td>5.636206</td>\n",
       "      <td>2.337547</td>\n",
       "      <td>-4.296462</td>\n",
       "    </tr>\n",
       "    <tr>\n",
       "      <th>E</th>\n",
       "      <td>1.843754</td>\n",
       "      <td>-4.794413</td>\n",
       "      <td>4.392252</td>\n",
       "      <td>-0.249630</td>\n",
       "    </tr>\n",
       "  </tbody>\n",
       "</table>\n",
       "</div>"
      ],
      "text/plain": [
       "          w         x         y         z\n",
       "A  1.523585 -5.199921  3.752256  4.702824\n",
       "B -9.755176 -6.510898  0.639202 -1.581213\n",
       "C -0.084006 -4.265220  4.396990  3.888960\n",
       "D  0.330153  5.636206  2.337547 -4.296462\n",
       "E  1.843754 -4.794413  4.392252 -0.249630"
      ]
     },
     "execution_count": 147,
     "metadata": {},
     "output_type": "execute_result"
    }
   ],
   "source": [
    "df = create_data_frame()\n",
    "df"
   ]
  },
  {
   "cell_type": "code",
   "execution_count": 148,
   "id": "4d04041d79eae14c",
   "metadata": {},
   "outputs": [
    {
     "data": {
      "text/plain": [
       "pandas.core.frame.DataFrame"
      ]
     },
     "execution_count": 148,
     "metadata": {},
     "output_type": "execute_result"
    }
   ],
   "source": [
    "type(df)"
   ]
  },
  {
   "cell_type": "markdown",
   "id": "185471c818dcb2f5",
   "metadata": {
    "lang": "de"
   },
   "source": [
    "### Aus einer CSV Datei"
   ]
  },
  {
   "cell_type": "code",
   "execution_count": 155,
   "id": "1602ee33",
   "metadata": {},
   "outputs": [],
   "source": [
    "df_csv = pd.read_csv(\"https://raw.githubusercontent.com/hoelzl/python-courses/master/De/Codealong/module_610_pandas/data/pandas/example_data.csv\")"
   ]
  },
  {
   "cell_type": "code",
   "execution_count": 157,
   "id": "c44e5e154b964b79",
   "metadata": {
    "lines_to_next_cell": 2
   },
   "outputs": [],
   "source": [
    "df_csv = pd.read_csv(pandas_dir_path + \"example_data.csv\")"
   ]
  },
  {
   "cell_type": "code",
   "execution_count": 158,
   "id": "9c440e8270be1478",
<<<<<<< Updated upstream
   "metadata": {
    "lines_to_next_cell": 2
   },
   "outputs": [],
=======
   "metadata": {},
   "outputs": [
    {
     "data": {
      "text/html": [
       "<div>\n",
       "<style scoped>\n",
       "    .dataframe tbody tr th:only-of-type {\n",
       "        vertical-align: middle;\n",
       "    }\n",
       "\n",
       "    .dataframe tbody tr th {\n",
       "        vertical-align: top;\n",
       "    }\n",
       "\n",
       "    .dataframe thead th {\n",
       "        text-align: right;\n",
       "    }\n",
       "</style>\n",
       "<table border=\"1\" class=\"dataframe\">\n",
       "  <thead>\n",
       "    <tr style=\"text-align: right;\">\n",
       "      <th></th>\n",
       "      <th>Unnamed: 0</th>\n",
       "      <th>Col 0</th>\n",
       "      <th>Col 1</th>\n",
       "      <th>Col 2</th>\n",
       "      <th>Col 3</th>\n",
       "      <th>Col 4</th>\n",
       "      <th>Col 5</th>\n",
       "      <th>Col 6</th>\n",
       "      <th>Col 7</th>\n",
       "    </tr>\n",
       "  </thead>\n",
       "  <tbody>\n",
       "    <tr>\n",
       "      <th>0</th>\n",
       "      <td>Index 0</td>\n",
       "      <td>4.076693</td>\n",
       "      <td>-11.592472</td>\n",
       "      <td>5.758058</td>\n",
       "      <td>1.995488</td>\n",
       "      <td>7.433482</td>\n",
       "      <td>-2.697633</td>\n",
       "      <td>10.386505</td>\n",
       "      <td>1.392989</td>\n",
       "    </tr>\n",
       "    <tr>\n",
       "      <th>1</th>\n",
       "      <td>Index 1</td>\n",
       "      <td>-8.091764</td>\n",
       "      <td>-9.263259</td>\n",
       "      <td>13.398781</td>\n",
       "      <td>3.364558</td>\n",
       "      <td>-4.504057</td>\n",
       "      <td>13.487790</td>\n",
       "      <td>19.387826</td>\n",
       "      <td>10.307054</td>\n",
       "    </tr>\n",
       "    <tr>\n",
       "      <th>2</th>\n",
       "      <td>Index 2</td>\n",
       "      <td>-9.967062</td>\n",
       "      <td>17.347022</td>\n",
       "      <td>-7.131536</td>\n",
       "      <td>8.946958</td>\n",
       "      <td>-4.560652</td>\n",
       "      <td>-1.350351</td>\n",
       "      <td>10.932789</td>\n",
       "      <td>14.030532</td>\n",
       "    </tr>\n",
       "    <tr>\n",
       "      <th>3</th>\n",
       "      <td>Index 3</td>\n",
       "      <td>4.473407</td>\n",
       "      <td>-4.188944</td>\n",
       "      <td>-9.067113</td>\n",
       "      <td>-20.351787</td>\n",
       "      <td>10.067044</td>\n",
       "      <td>-11.084616</td>\n",
       "      <td>-2.390302</td>\n",
       "      <td>-10.064766</td>\n",
       "    </tr>\n",
       "    <tr>\n",
       "      <th>4</th>\n",
       "      <td>Index 4</td>\n",
       "      <td>-10.909624</td>\n",
       "      <td>3.213494</td>\n",
       "      <td>18.101500</td>\n",
       "      <td>10.736058</td>\n",
       "      <td>-6.578314</td>\n",
       "      <td>4.997114</td>\n",
       "      <td>-6.464901</td>\n",
       "      <td>0.021843</td>\n",
       "    </tr>\n",
       "    <tr>\n",
       "      <th>...</th>\n",
       "      <td>...</td>\n",
       "      <td>...</td>\n",
       "      <td>...</td>\n",
       "      <td>...</td>\n",
       "      <td>...</td>\n",
       "      <td>...</td>\n",
       "      <td>...</td>\n",
       "      <td>...</td>\n",
       "      <td>...</td>\n",
       "    </tr>\n",
       "    <tr>\n",
       "      <th>995</th>\n",
       "      <td>Index 995</td>\n",
       "      <td>-14.445522</td>\n",
       "      <td>6.513853</td>\n",
       "      <td>-6.446964</td>\n",
       "      <td>-10.729593</td>\n",
       "      <td>-2.300384</td>\n",
       "      <td>14.966634</td>\n",
       "      <td>-4.796942</td>\n",
       "      <td>-12.922157</td>\n",
       "    </tr>\n",
       "    <tr>\n",
       "      <th>996</th>\n",
       "      <td>Index 996</td>\n",
       "      <td>12.300935</td>\n",
       "      <td>1.203874</td>\n",
       "      <td>5.127201</td>\n",
       "      <td>-13.744109</td>\n",
       "      <td>1.032070</td>\n",
       "      <td>14.428249</td>\n",
       "      <td>-12.334804</td>\n",
       "      <td>12.607952</td>\n",
       "    </tr>\n",
       "    <tr>\n",
       "      <th>997</th>\n",
       "      <td>Index 997</td>\n",
       "      <td>3.074044</td>\n",
       "      <td>6.492773</td>\n",
       "      <td>-2.589086</td>\n",
       "      <td>-11.088337</td>\n",
       "      <td>1.747953</td>\n",
       "      <td>16.040783</td>\n",
       "      <td>3.921457</td>\n",
       "      <td>-4.266764</td>\n",
       "    </tr>\n",
       "    <tr>\n",
       "      <th>998</th>\n",
       "      <td>Index 998</td>\n",
       "      <td>4.563576</td>\n",
       "      <td>14.066358</td>\n",
       "      <td>-4.915146</td>\n",
       "      <td>-6.283678</td>\n",
       "      <td>-1.343589</td>\n",
       "      <td>-22.898390</td>\n",
       "      <td>-6.044495</td>\n",
       "      <td>-14.400880</td>\n",
       "    </tr>\n",
       "    <tr>\n",
       "      <th>999</th>\n",
       "      <td>Index 999</td>\n",
       "      <td>8.426685</td>\n",
       "      <td>16.927540</td>\n",
       "      <td>12.667732</td>\n",
       "      <td>26.127088</td>\n",
       "      <td>8.269967</td>\n",
       "      <td>8.847097</td>\n",
       "      <td>-1.603626</td>\n",
       "      <td>17.094113</td>\n",
       "    </tr>\n",
       "  </tbody>\n",
       "</table>\n",
       "<p>1000 rows × 9 columns</p>\n",
       "</div>"
      ],
      "text/plain": [
       "    Unnamed: 0      Col 0      Col 1      Col 2      Col 3      Col 4  \\\n",
       "0      Index 0   4.076693 -11.592472   5.758058   1.995488   7.433482   \n",
       "1      Index 1  -8.091764  -9.263259  13.398781   3.364558  -4.504057   \n",
       "2      Index 2  -9.967062  17.347022  -7.131536   8.946958  -4.560652   \n",
       "3      Index 3   4.473407  -4.188944  -9.067113 -20.351787  10.067044   \n",
       "4      Index 4 -10.909624   3.213494  18.101500  10.736058  -6.578314   \n",
       "..         ...        ...        ...        ...        ...        ...   \n",
       "995  Index 995 -14.445522   6.513853  -6.446964 -10.729593  -2.300384   \n",
       "996  Index 996  12.300935   1.203874   5.127201 -13.744109   1.032070   \n",
       "997  Index 997   3.074044   6.492773  -2.589086 -11.088337   1.747953   \n",
       "998  Index 998   4.563576  14.066358  -4.915146  -6.283678  -1.343589   \n",
       "999  Index 999   8.426685  16.927540  12.667732  26.127088   8.269967   \n",
       "\n",
       "         Col 5      Col 6      Col 7  \n",
       "0    -2.697633  10.386505   1.392989  \n",
       "1    13.487790  19.387826  10.307054  \n",
       "2    -1.350351  10.932789  14.030532  \n",
       "3   -11.084616  -2.390302 -10.064766  \n",
       "4     4.997114  -6.464901   0.021843  \n",
       "..         ...        ...        ...  \n",
       "995  14.966634  -4.796942 -12.922157  \n",
       "996  14.428249 -12.334804  12.607952  \n",
       "997  16.040783   3.921457  -4.266764  \n",
       "998 -22.898390  -6.044495 -14.400880  \n",
       "999   8.847097  -1.603626  17.094113  \n",
       "\n",
       "[1000 rows x 9 columns]"
      ]
     },
     "execution_count": 158,
     "metadata": {},
     "output_type": "execute_result"
    }
   ],
>>>>>>> Stashed changes
   "source": [
    "df_csv"
   ]
  },
  {
   "cell_type": "code",
   "execution_count": 160,
   "id": "37214a982cef81c1",
   "metadata": {
    "lines_to_next_cell": 2
   },
   "outputs": [],
   "source": [
    "df_csv = pd.read_csv(pandas_dir_path + \"example_data.csv\", index_col=0)"
   ]
  },
  {
   "cell_type": "code",
<<<<<<< Updated upstream
   "execution_count": null,
   "id": "1f8b9832be7df47e",
=======
   "execution_count": 161,
   "id": "128349d15eec8077",
>>>>>>> Stashed changes
   "metadata": {},
   "outputs": [
    {
     "data": {
      "text/html": [
       "<div>\n",
       "<style scoped>\n",
       "    .dataframe tbody tr th:only-of-type {\n",
       "        vertical-align: middle;\n",
       "    }\n",
       "\n",
       "    .dataframe tbody tr th {\n",
       "        vertical-align: top;\n",
       "    }\n",
       "\n",
       "    .dataframe thead th {\n",
       "        text-align: right;\n",
       "    }\n",
       "</style>\n",
       "<table border=\"1\" class=\"dataframe\">\n",
       "  <thead>\n",
       "    <tr style=\"text-align: right;\">\n",
       "      <th></th>\n",
       "      <th>Col 0</th>\n",
       "      <th>Col 1</th>\n",
       "      <th>Col 2</th>\n",
       "      <th>Col 3</th>\n",
       "      <th>Col 4</th>\n",
       "      <th>Col 5</th>\n",
       "      <th>Col 6</th>\n",
       "      <th>Col 7</th>\n",
       "    </tr>\n",
       "  </thead>\n",
       "  <tbody>\n",
       "    <tr>\n",
       "      <th>Index 0</th>\n",
       "      <td>4.076693</td>\n",
       "      <td>-11.592472</td>\n",
       "      <td>5.758058</td>\n",
       "      <td>1.995488</td>\n",
       "      <td>7.433482</td>\n",
       "      <td>-2.697633</td>\n",
       "      <td>10.386505</td>\n",
       "      <td>1.392989</td>\n",
       "    </tr>\n",
       "    <tr>\n",
       "      <th>Index 1</th>\n",
       "      <td>-8.091764</td>\n",
       "      <td>-9.263259</td>\n",
       "      <td>13.398781</td>\n",
       "      <td>3.364558</td>\n",
       "      <td>-4.504057</td>\n",
       "      <td>13.487790</td>\n",
       "      <td>19.387826</td>\n",
       "      <td>10.307054</td>\n",
       "    </tr>\n",
       "    <tr>\n",
       "      <th>Index 2</th>\n",
       "      <td>-9.967062</td>\n",
       "      <td>17.347022</td>\n",
       "      <td>-7.131536</td>\n",
       "      <td>8.946958</td>\n",
       "      <td>-4.560652</td>\n",
       "      <td>-1.350351</td>\n",
       "      <td>10.932789</td>\n",
       "      <td>14.030532</td>\n",
       "    </tr>\n",
       "    <tr>\n",
       "      <th>Index 3</th>\n",
       "      <td>4.473407</td>\n",
       "      <td>-4.188944</td>\n",
       "      <td>-9.067113</td>\n",
       "      <td>-20.351787</td>\n",
       "      <td>10.067044</td>\n",
       "      <td>-11.084616</td>\n",
       "      <td>-2.390302</td>\n",
       "      <td>-10.064766</td>\n",
       "    </tr>\n",
       "    <tr>\n",
       "      <th>Index 4</th>\n",
       "      <td>-10.909624</td>\n",
       "      <td>3.213494</td>\n",
       "      <td>18.101500</td>\n",
       "      <td>10.736058</td>\n",
       "      <td>-6.578314</td>\n",
       "      <td>4.997114</td>\n",
       "      <td>-6.464901</td>\n",
       "      <td>0.021843</td>\n",
       "    </tr>\n",
       "    <tr>\n",
       "      <th>...</th>\n",
       "      <td>...</td>\n",
       "      <td>...</td>\n",
       "      <td>...</td>\n",
       "      <td>...</td>\n",
       "      <td>...</td>\n",
       "      <td>...</td>\n",
       "      <td>...</td>\n",
       "      <td>...</td>\n",
       "    </tr>\n",
       "    <tr>\n",
       "      <th>Index 995</th>\n",
       "      <td>-14.445522</td>\n",
       "      <td>6.513853</td>\n",
       "      <td>-6.446964</td>\n",
       "      <td>-10.729593</td>\n",
       "      <td>-2.300384</td>\n",
       "      <td>14.966634</td>\n",
       "      <td>-4.796942</td>\n",
       "      <td>-12.922157</td>\n",
       "    </tr>\n",
       "    <tr>\n",
       "      <th>Index 996</th>\n",
       "      <td>12.300935</td>\n",
       "      <td>1.203874</td>\n",
       "      <td>5.127201</td>\n",
       "      <td>-13.744109</td>\n",
       "      <td>1.032070</td>\n",
       "      <td>14.428249</td>\n",
       "      <td>-12.334804</td>\n",
       "      <td>12.607952</td>\n",
       "    </tr>\n",
       "    <tr>\n",
       "      <th>Index 997</th>\n",
       "      <td>3.074044</td>\n",
       "      <td>6.492773</td>\n",
       "      <td>-2.589086</td>\n",
       "      <td>-11.088337</td>\n",
       "      <td>1.747953</td>\n",
       "      <td>16.040783</td>\n",
       "      <td>3.921457</td>\n",
       "      <td>-4.266764</td>\n",
       "    </tr>\n",
       "    <tr>\n",
       "      <th>Index 998</th>\n",
       "      <td>4.563576</td>\n",
       "      <td>14.066358</td>\n",
       "      <td>-4.915146</td>\n",
       "      <td>-6.283678</td>\n",
       "      <td>-1.343589</td>\n",
       "      <td>-22.898390</td>\n",
       "      <td>-6.044495</td>\n",
       "      <td>-14.400880</td>\n",
       "    </tr>\n",
       "    <tr>\n",
       "      <th>Index 999</th>\n",
       "      <td>8.426685</td>\n",
       "      <td>16.927540</td>\n",
       "      <td>12.667732</td>\n",
       "      <td>26.127088</td>\n",
       "      <td>8.269967</td>\n",
       "      <td>8.847097</td>\n",
       "      <td>-1.603626</td>\n",
       "      <td>17.094113</td>\n",
       "    </tr>\n",
       "  </tbody>\n",
       "</table>\n",
       "<p>1000 rows × 8 columns</p>\n",
       "</div>"
      ],
      "text/plain": [
       "               Col 0      Col 1      Col 2      Col 3      Col 4      Col 5  \\\n",
       "Index 0     4.076693 -11.592472   5.758058   1.995488   7.433482  -2.697633   \n",
       "Index 1    -8.091764  -9.263259  13.398781   3.364558  -4.504057  13.487790   \n",
       "Index 2    -9.967062  17.347022  -7.131536   8.946958  -4.560652  -1.350351   \n",
       "Index 3     4.473407  -4.188944  -9.067113 -20.351787  10.067044 -11.084616   \n",
       "Index 4   -10.909624   3.213494  18.101500  10.736058  -6.578314   4.997114   \n",
       "...              ...        ...        ...        ...        ...        ...   \n",
       "Index 995 -14.445522   6.513853  -6.446964 -10.729593  -2.300384  14.966634   \n",
       "Index 996  12.300935   1.203874   5.127201 -13.744109   1.032070  14.428249   \n",
       "Index 997   3.074044   6.492773  -2.589086 -11.088337   1.747953  16.040783   \n",
       "Index 998   4.563576  14.066358  -4.915146  -6.283678  -1.343589 -22.898390   \n",
       "Index 999   8.426685  16.927540  12.667732  26.127088   8.269967   8.847097   \n",
       "\n",
       "               Col 6      Col 7  \n",
       "Index 0    10.386505   1.392989  \n",
       "Index 1    19.387826  10.307054  \n",
       "Index 2    10.932789  14.030532  \n",
       "Index 3    -2.390302 -10.064766  \n",
       "Index 4    -6.464901   0.021843  \n",
       "...              ...        ...  \n",
       "Index 995  -4.796942 -12.922157  \n",
       "Index 996 -12.334804  12.607952  \n",
       "Index 997   3.921457  -4.266764  \n",
       "Index 998  -6.044495 -14.400880  \n",
       "Index 999  -1.603626  17.094113  \n",
       "\n",
       "[1000 rows x 8 columns]"
      ]
     },
     "execution_count": 161,
     "metadata": {},
     "output_type": "execute_result"
    }
   ],
   "source": [
    "df_csv"
   ]
  },
  {
   "cell_type": "markdown",
   "id": "1cb9ddca55e4c022",
   "metadata": {
    "lang": "de"
   },
   "source": [
    "### Aus einer Excel Datei"
   ]
  },
  {
   "cell_type": "code",
   "execution_count": 162,
   "id": "4862e1d3d82cd3a5",
   "metadata": {
    "lines_to_next_cell": 2
   },
   "outputs": [],
   "source": [
    "df_excel = pd.read_excel(pandas_dir_path + \"excel_data.xlsx\", index_col=0)"
   ]
  },
  {
   "cell_type": "code",
   "execution_count": 163,
   "id": "8e388a4632b2a667",
<<<<<<< Updated upstream
   "metadata": {
    "lines_to_next_cell": 2
   },
   "outputs": [],
=======
   "metadata": {},
   "outputs": [
    {
     "data": {
      "text/html": [
       "<div>\n",
       "<style scoped>\n",
       "    .dataframe tbody tr th:only-of-type {\n",
       "        vertical-align: middle;\n",
       "    }\n",
       "\n",
       "    .dataframe tbody tr th {\n",
       "        vertical-align: top;\n",
       "    }\n",
       "\n",
       "    .dataframe thead th {\n",
       "        text-align: right;\n",
       "    }\n",
       "</style>\n",
       "<table border=\"1\" class=\"dataframe\">\n",
       "  <thead>\n",
       "    <tr style=\"text-align: right;\">\n",
       "      <th></th>\n",
       "      <th>Col 0</th>\n",
       "      <th>Col 1</th>\n",
       "      <th>Col 2</th>\n",
       "      <th>Col 3</th>\n",
       "      <th>Col 4</th>\n",
       "      <th>Col 5</th>\n",
       "      <th>Col 6</th>\n",
       "      <th>Col 7</th>\n",
       "      <th>Col 8</th>\n",
       "      <th>Col 9</th>\n",
       "      <th>Col 10</th>\n",
       "      <th>Col 11</th>\n",
       "    </tr>\n",
       "  </thead>\n",
       "  <tbody>\n",
       "    <tr>\n",
       "      <th>Index 0</th>\n",
       "      <td>4.076693</td>\n",
       "      <td>-11.592472</td>\n",
       "      <td>5.758058</td>\n",
       "      <td>1.995488</td>\n",
       "      <td>7.433482</td>\n",
       "      <td>-2.697633</td>\n",
       "      <td>10.386505</td>\n",
       "      <td>1.392989</td>\n",
       "      <td>-8.091764</td>\n",
       "      <td>-9.263259</td>\n",
       "      <td>13.398781</td>\n",
       "      <td>3.364558</td>\n",
       "    </tr>\n",
       "    <tr>\n",
       "      <th>Index 1</th>\n",
       "      <td>-4.504057</td>\n",
       "      <td>13.487790</td>\n",
       "      <td>19.387826</td>\n",
       "      <td>10.307054</td>\n",
       "      <td>-9.967062</td>\n",
       "      <td>17.347022</td>\n",
       "      <td>-7.131536</td>\n",
       "      <td>8.946958</td>\n",
       "      <td>-4.560652</td>\n",
       "      <td>-1.350351</td>\n",
       "      <td>10.932789</td>\n",
       "      <td>14.030532</td>\n",
       "    </tr>\n",
       "    <tr>\n",
       "      <th>Index 2</th>\n",
       "      <td>4.473407</td>\n",
       "      <td>-4.188944</td>\n",
       "      <td>-9.067113</td>\n",
       "      <td>-20.351787</td>\n",
       "      <td>10.067044</td>\n",
       "      <td>-11.084616</td>\n",
       "      <td>-2.390302</td>\n",
       "      <td>-10.064766</td>\n",
       "      <td>-10.909624</td>\n",
       "      <td>3.213494</td>\n",
       "      <td>18.101500</td>\n",
       "      <td>10.736058</td>\n",
       "    </tr>\n",
       "    <tr>\n",
       "      <th>Index 3</th>\n",
       "      <td>-6.578314</td>\n",
       "      <td>4.997114</td>\n",
       "      <td>-6.464901</td>\n",
       "      <td>0.021843</td>\n",
       "      <td>-2.473564</td>\n",
       "      <td>-19.782094</td>\n",
       "      <td>11.556567</td>\n",
       "      <td>4.545686</td>\n",
       "      <td>13.854239</td>\n",
       "      <td>-1.138480</td>\n",
       "      <td>-1.245364</td>\n",
       "      <td>-24.905710</td>\n",
       "    </tr>\n",
       "    <tr>\n",
       "      <th>Index 4</th>\n",
       "      <td>-0.753812</td>\n",
       "      <td>-3.029928</td>\n",
       "      <td>-10.729667</td>\n",
       "      <td>-12.453821</td>\n",
       "      <td>-13.675471</td>\n",
       "      <td>6.621271</td>\n",
       "      <td>-10.122960</td>\n",
       "      <td>-10.974487</td>\n",
       "      <td>-0.734146</td>\n",
       "      <td>-7.829734</td>\n",
       "      <td>-6.770842</td>\n",
       "      <td>-13.666861</td>\n",
       "    </tr>\n",
       "    <tr>\n",
       "      <th>...</th>\n",
       "      <td>...</td>\n",
       "      <td>...</td>\n",
       "      <td>...</td>\n",
       "      <td>...</td>\n",
       "      <td>...</td>\n",
       "      <td>...</td>\n",
       "      <td>...</td>\n",
       "      <td>...</td>\n",
       "      <td>...</td>\n",
       "      <td>...</td>\n",
       "      <td>...</td>\n",
       "      <td>...</td>\n",
       "    </tr>\n",
       "    <tr>\n",
       "      <th>Index 95</th>\n",
       "      <td>-4.112835</td>\n",
       "      <td>7.385291</td>\n",
       "      <td>-13.851625</td>\n",
       "      <td>-6.078196</td>\n",
       "      <td>11.023885</td>\n",
       "      <td>-5.512976</td>\n",
       "      <td>1.231175</td>\n",
       "      <td>6.411213</td>\n",
       "      <td>-1.683794</td>\n",
       "      <td>4.646666</td>\n",
       "      <td>18.364089</td>\n",
       "      <td>6.956441</td>\n",
       "    </tr>\n",
       "    <tr>\n",
       "      <th>Index 96</th>\n",
       "      <td>-4.436619</td>\n",
       "      <td>2.669846</td>\n",
       "      <td>6.218075</td>\n",
       "      <td>-9.575880</td>\n",
       "      <td>-3.399697</td>\n",
       "      <td>14.107305</td>\n",
       "      <td>-8.542899</td>\n",
       "      <td>7.253396</td>\n",
       "      <td>-0.474596</td>\n",
       "      <td>-11.268330</td>\n",
       "      <td>19.082276</td>\n",
       "      <td>1.434360</td>\n",
       "    </tr>\n",
       "    <tr>\n",
       "      <th>Index 97</th>\n",
       "      <td>-2.641866</td>\n",
       "      <td>-0.605210</td>\n",
       "      <td>-1.159309</td>\n",
       "      <td>10.960797</td>\n",
       "      <td>-20.105969</td>\n",
       "      <td>10.573056</td>\n",
       "      <td>3.127534</td>\n",
       "      <td>2.846807</td>\n",
       "      <td>7.143668</td>\n",
       "      <td>5.478037</td>\n",
       "      <td>0.536783</td>\n",
       "      <td>2.569418</td>\n",
       "    </tr>\n",
       "    <tr>\n",
       "      <th>Index 98</th>\n",
       "      <td>13.237843</td>\n",
       "      <td>-13.885348</td>\n",
       "      <td>18.912088</td>\n",
       "      <td>3.159741</td>\n",
       "      <td>-8.686046</td>\n",
       "      <td>-5.722742</td>\n",
       "      <td>4.098118</td>\n",
       "      <td>3.469731</td>\n",
       "      <td>-7.391454</td>\n",
       "      <td>7.783543</td>\n",
       "      <td>-8.647712</td>\n",
       "      <td>-10.910139</td>\n",
       "    </tr>\n",
       "    <tr>\n",
       "      <th>Index 99</th>\n",
       "      <td>16.327530</td>\n",
       "      <td>9.128792</td>\n",
       "      <td>11.217098</td>\n",
       "      <td>8.639888</td>\n",
       "      <td>0.715028</td>\n",
       "      <td>-1.312129</td>\n",
       "      <td>-1.885473</td>\n",
       "      <td>10.439447</td>\n",
       "      <td>0.101048</td>\n",
       "      <td>-0.820258</td>\n",
       "      <td>-3.173715</td>\n",
       "      <td>5.438891</td>\n",
       "    </tr>\n",
       "  </tbody>\n",
       "</table>\n",
       "<p>100 rows × 12 columns</p>\n",
       "</div>"
      ],
      "text/plain": [
       "              Col 0      Col 1      Col 2      Col 3      Col 4      Col 5  \\\n",
       "Index 0    4.076693 -11.592472   5.758058   1.995488   7.433482  -2.697633   \n",
       "Index 1   -4.504057  13.487790  19.387826  10.307054  -9.967062  17.347022   \n",
       "Index 2    4.473407  -4.188944  -9.067113 -20.351787  10.067044 -11.084616   \n",
       "Index 3   -6.578314   4.997114  -6.464901   0.021843  -2.473564 -19.782094   \n",
       "Index 4   -0.753812  -3.029928 -10.729667 -12.453821 -13.675471   6.621271   \n",
       "...             ...        ...        ...        ...        ...        ...   \n",
       "Index 95  -4.112835   7.385291 -13.851625  -6.078196  11.023885  -5.512976   \n",
       "Index 96  -4.436619   2.669846   6.218075  -9.575880  -3.399697  14.107305   \n",
       "Index 97  -2.641866  -0.605210  -1.159309  10.960797 -20.105969  10.573056   \n",
       "Index 98  13.237843 -13.885348  18.912088   3.159741  -8.686046  -5.722742   \n",
       "Index 99  16.327530   9.128792  11.217098   8.639888   0.715028  -1.312129   \n",
       "\n",
       "              Col 6      Col 7      Col 8      Col 9     Col 10     Col 11  \n",
       "Index 0   10.386505   1.392989  -8.091764  -9.263259  13.398781   3.364558  \n",
       "Index 1   -7.131536   8.946958  -4.560652  -1.350351  10.932789  14.030532  \n",
       "Index 2   -2.390302 -10.064766 -10.909624   3.213494  18.101500  10.736058  \n",
       "Index 3   11.556567   4.545686  13.854239  -1.138480  -1.245364 -24.905710  \n",
       "Index 4  -10.122960 -10.974487  -0.734146  -7.829734  -6.770842 -13.666861  \n",
       "...             ...        ...        ...        ...        ...        ...  \n",
       "Index 95   1.231175   6.411213  -1.683794   4.646666  18.364089   6.956441  \n",
       "Index 96  -8.542899   7.253396  -0.474596 -11.268330  19.082276   1.434360  \n",
       "Index 97   3.127534   2.846807   7.143668   5.478037   0.536783   2.569418  \n",
       "Index 98   4.098118   3.469731  -7.391454   7.783543  -8.647712 -10.910139  \n",
       "Index 99  -1.885473  10.439447   0.101048  -0.820258  -3.173715   5.438891  \n",
       "\n",
       "[100 rows x 12 columns]"
      ]
     },
     "execution_count": 163,
     "metadata": {},
     "output_type": "execute_result"
    }
   ],
>>>>>>> Stashed changes
   "source": [
    "df_excel"
   ]
  },
  {
   "cell_type": "code",
   "execution_count": 164,
   "id": "3c845abeb3d1dd06",
   "metadata": {
    "lines_to_next_cell": 2
   },
   "outputs": [],
   "source": [
    "df_excel2 = pd.read_excel(pandas_dir_path + \"excel_other_sheet.xlsx\", index_col=0)"
   ]
  },
  {
   "cell_type": "code",
   "execution_count": 165,
   "id": "3213c6c7dd94fd5a",
<<<<<<< Updated upstream
   "metadata": {
    "lines_to_next_cell": 2
   },
   "outputs": [],
=======
   "metadata": {},
   "outputs": [
    {
     "data": {
      "text/html": [
       "<div>\n",
       "<style scoped>\n",
       "    .dataframe tbody tr th:only-of-type {\n",
       "        vertical-align: middle;\n",
       "    }\n",
       "\n",
       "    .dataframe tbody tr th {\n",
       "        vertical-align: top;\n",
       "    }\n",
       "\n",
       "    .dataframe thead th {\n",
       "        text-align: right;\n",
       "    }\n",
       "</style>\n",
       "<table border=\"1\" class=\"dataframe\">\n",
       "  <thead>\n",
       "    <tr style=\"text-align: right;\">\n",
       "      <th></th>\n",
       "      <th>-11.236758</th>\n",
       "      <th>2.218171</th>\n",
       "    </tr>\n",
       "    <tr>\n",
       "      <th>-9.071786174248082</th>\n",
       "      <th></th>\n",
       "      <th></th>\n",
       "    </tr>\n",
       "  </thead>\n",
       "  <tbody>\n",
       "    <tr>\n",
       "      <th>-9.766850</th>\n",
       "      <td>-6.558586</td>\n",
       "      <td>-7.532231</td>\n",
       "    </tr>\n",
       "    <tr>\n",
       "      <th>-0.974754</th>\n",
       "      <td>-7.153281</td>\n",
       "      <td>2.798292</td>\n",
       "    </tr>\n",
       "    <tr>\n",
       "      <th>10.134367</th>\n",
       "      <td>-4.369057</td>\n",
       "      <td>-15.880210</td>\n",
       "    </tr>\n",
       "    <tr>\n",
       "      <th>12.319482</th>\n",
       "      <td>2.746217</td>\n",
       "      <td>6.987371</td>\n",
       "    </tr>\n",
       "    <tr>\n",
       "      <th>3.138766</th>\n",
       "      <td>-2.165214</td>\n",
       "      <td>2.617773</td>\n",
       "    </tr>\n",
       "    <tr>\n",
       "      <th>-24.955057</th>\n",
       "      <td>-10.417922</td>\n",
       "      <td>-17.464209</td>\n",
       "    </tr>\n",
       "    <tr>\n",
       "      <th>-13.253936</th>\n",
       "      <td>11.754344</td>\n",
       "      <td>-4.116406</td>\n",
       "    </tr>\n",
       "  </tbody>\n",
       "</table>\n",
       "</div>"
      ],
      "text/plain": [
       "                    -11.236758   2.218171 \n",
       "-9.071786174248082                        \n",
       "-9.766850            -6.558586   -7.532231\n",
       "-0.974754            -7.153281    2.798292\n",
       " 10.134367           -4.369057  -15.880210\n",
       " 12.319482            2.746217    6.987371\n",
       " 3.138766            -2.165214    2.617773\n",
       "-24.955057          -10.417922  -17.464209\n",
       "-13.253936           11.754344   -4.116406"
      ]
     },
     "execution_count": 165,
     "metadata": {},
     "output_type": "execute_result"
    }
   ],
>>>>>>> Stashed changes
   "source": [
    "df_excel2"
   ]
  },
  {
   "cell_type": "code",
<<<<<<< Updated upstream
   "execution_count": null,
   "id": "946dfa06c3475995",
   "metadata": {
    "lines_to_next_cell": 2
   },
   "outputs": [],
   "source": [
    "df_excel2 = pd.read_excel(\n",
    "    pandas_dir_path / \"excel_other_sheet.xlsx\",\n",
    "    index_col=0,\n",
    "    sheet_name=\"Another Sheet\",\n",
    "    header=0,\n",
    "    skiprows=[1]\n",
    ")"
=======
   "execution_count": 166,
   "id": "f15c98e15140a582",
   "metadata": {},
   "outputs": [],
   "source": [
    "df_excel2 = pd.read_excel(pandas_dir_path + \"excel_other_sheet.xlsx\", index_col=0,\n",
    "                          sheet_name=\"Another Sheet\", header=0, skiprows=[1])"
>>>>>>> Stashed changes
   ]
  },
  {
   "cell_type": "code",
   "execution_count": 167,
   "id": "56ae76ea629092ab",
   "metadata": {},
   "outputs": [
    {
     "data": {
      "text/html": [
       "<div>\n",
       "<style scoped>\n",
       "    .dataframe tbody tr th:only-of-type {\n",
       "        vertical-align: middle;\n",
       "    }\n",
       "\n",
       "    .dataframe tbody tr th {\n",
       "        vertical-align: top;\n",
       "    }\n",
       "\n",
       "    .dataframe thead th {\n",
       "        text-align: right;\n",
       "    }\n",
       "</style>\n",
       "<table border=\"1\" class=\"dataframe\">\n",
       "  <thead>\n",
       "    <tr style=\"text-align: right;\">\n",
       "      <th></th>\n",
       "      <th>Col 0</th>\n",
       "      <th>Col 1</th>\n",
       "      <th>Col 2</th>\n",
       "      <th>Col 3</th>\n",
       "      <th>Col 4</th>\n",
       "      <th>Col 5</th>\n",
       "      <th>Col 6</th>\n",
       "      <th>Col 7</th>\n",
       "    </tr>\n",
       "  </thead>\n",
       "  <tbody>\n",
       "    <tr>\n",
       "      <th>Index 0</th>\n",
       "      <td>4.076693</td>\n",
       "      <td>-11.592472</td>\n",
       "      <td>5.758058</td>\n",
       "      <td>1.995488</td>\n",
       "      <td>7.433482</td>\n",
       "      <td>-2.697633</td>\n",
       "      <td>10.386505</td>\n",
       "      <td>1.392989</td>\n",
       "    </tr>\n",
       "    <tr>\n",
       "      <th>Index 1</th>\n",
       "      <td>-8.091764</td>\n",
       "      <td>-9.263259</td>\n",
       "      <td>13.398781</td>\n",
       "      <td>3.364558</td>\n",
       "      <td>-4.504057</td>\n",
       "      <td>13.487790</td>\n",
       "      <td>19.387826</td>\n",
       "      <td>10.307054</td>\n",
       "    </tr>\n",
       "    <tr>\n",
       "      <th>Index 2</th>\n",
       "      <td>-9.967062</td>\n",
       "      <td>17.347022</td>\n",
       "      <td>-7.131536</td>\n",
       "      <td>8.946958</td>\n",
       "      <td>-4.560652</td>\n",
       "      <td>-1.350351</td>\n",
       "      <td>10.932789</td>\n",
       "      <td>14.030532</td>\n",
       "    </tr>\n",
       "    <tr>\n",
       "      <th>Index 3</th>\n",
       "      <td>4.473407</td>\n",
       "      <td>-4.188944</td>\n",
       "      <td>-9.067113</td>\n",
       "      <td>-20.351787</td>\n",
       "      <td>10.067044</td>\n",
       "      <td>-11.084616</td>\n",
       "      <td>-2.390302</td>\n",
       "      <td>-10.064766</td>\n",
       "    </tr>\n",
       "    <tr>\n",
       "      <th>Index 4</th>\n",
       "      <td>-10.909624</td>\n",
       "      <td>3.213494</td>\n",
       "      <td>18.101500</td>\n",
       "      <td>10.736058</td>\n",
       "      <td>-6.578314</td>\n",
       "      <td>4.997114</td>\n",
       "      <td>-6.464901</td>\n",
       "      <td>0.021843</td>\n",
       "    </tr>\n",
       "  </tbody>\n",
       "</table>\n",
       "</div>"
      ],
      "text/plain": [
       "             Col 0      Col 1      Col 2      Col 3      Col 4      Col 5  \\\n",
       "Index 0   4.076693 -11.592472   5.758058   1.995488   7.433482  -2.697633   \n",
       "Index 1  -8.091764  -9.263259  13.398781   3.364558  -4.504057  13.487790   \n",
       "Index 2  -9.967062  17.347022  -7.131536   8.946958  -4.560652  -1.350351   \n",
       "Index 3   4.473407  -4.188944  -9.067113 -20.351787  10.067044 -11.084616   \n",
       "Index 4 -10.909624   3.213494  18.101500  10.736058  -6.578314   4.997114   \n",
       "\n",
       "             Col 6      Col 7  \n",
       "Index 0  10.386505   1.392989  \n",
       "Index 1  19.387826  10.307054  \n",
       "Index 2  10.932789  14.030532  \n",
       "Index 3  -2.390302 -10.064766  \n",
       "Index 4  -6.464901   0.021843  "
      ]
     },
     "execution_count": 167,
     "metadata": {},
     "output_type": "execute_result"
    }
   ],
   "source": [
    "df_excel2.head()"
   ]
  },
  {
   "cell_type": "markdown",
   "id": "4d1a16054e77dac7",
   "metadata": {
    "lang": "de"
   },
   "source": [
    "\n",
    "### Andere Formate:\n",
    "\n",
    "- `pd.read_clipboard`\n",
    "- `pd.read_html`\n",
    "- `pd.read_json`\n",
    "- `pd.read_pickle`\n",
    "- `pd.read_sql` (verwendet SQLAlchemy um auf die Datenbank zuzugreifen)\n",
    "- ..."
   ]
  },
  {
   "cell_type": "markdown",
   "id": "14f85dfc80e17722",
   "metadata": {
    "lang": "de"
   },
   "source": [
    "# Plotten von Data Frames"
   ]
  },
  {
   "cell_type": "code",
   "execution_count": null,
   "id": "4d8bb40fb2a3321a",
   "metadata": {
    "tags": [
     "keep"
    ]
   },
   "outputs": [],
   "source": [
    "df_csv[\"Col 0\"].hist(bins=15);"
   ]
  },
  {
   "cell_type": "code",
   "execution_count": null,
   "id": "b4d8724ab251c95a",
   "metadata": {
    "tags": [
     "keep"
    ]
   },
   "outputs": [],
   "source": [
    "df_csv.hist(bins=20, figsize=(12, 8));"
   ]
  },
  {
   "cell_type": "code",
   "execution_count": null,
   "id": "e35ff60fc1bbace5",
   "metadata": {
    "tags": [
     "keep"
    ]
   },
   "outputs": [],
   "source": [
    "df_csv.plot(kind=\"scatter\", x=\"Col 1\", y=\"Col 2\");"
   ]
  },
  {
   "cell_type": "code",
   "execution_count": null,
   "id": "baeeaa3c913bc39c",
   "metadata": {
    "tags": [
     "keep"
    ]
   },
   "outputs": [],
   "source": [
    "df_csv.plot(kind=\"scatter\", x=\"Col 1\", y=\"Col 2\", c=\"Col 3\", cmap=\"hot\");"
   ]
  },
  {
   "cell_type": "markdown",
   "id": "18082c603a41ec32",
   "metadata": {
    "lang": "de"
   },
   "source": [
    "### Indizes und Operationen"
   ]
  },
  {
   "cell_type": "code",
   "execution_count": null,
   "id": "a0d20953e04b48fe",
   "metadata": {
    "lines_to_next_cell": 2
   },
   "outputs": [],
   "source": [
    "df_csv.head()"
   ]
  },
  {
   "cell_type": "code",
   "execution_count": null,
   "id": "1ef29faeacb97bc0",
   "metadata": {
    "lines_to_next_cell": 2
   },
   "outputs": [],
   "source": [
    "df_csv.tail()"
   ]
  },
  {
   "cell_type": "code",
   "execution_count": null,
   "id": "279514aeae340552",
   "metadata": {
    "lines_to_next_cell": 2
   },
   "outputs": [],
   "source": [
    "df = create_data_frame()\n",
    "df[\"w\"]"
   ]
  },
  {
   "cell_type": "code",
   "execution_count": null,
   "id": "ae0be7dd13165871",
   "metadata": {
    "lines_to_next_cell": 2
   },
   "outputs": [],
   "source": [
    "type(df[\"w\"])"
   ]
  },
  {
   "cell_type": "code",
   "execution_count": null,
   "id": "2625ec17f7db6627",
   "metadata": {
    "lines_to_next_cell": 2
   },
   "outputs": [],
   "source": [
    "# Use only interactively\n",
    "df.w"
   ]
  },
  {
   "cell_type": "code",
   "execution_count": null,
   "id": "2d41d4be27ce76ab",
   "metadata": {
    "lines_to_next_cell": 2
   },
   "outputs": [],
   "source": [
    "df[[\"w\", \"y\"]]"
   ]
  },
  {
   "cell_type": "code",
   "execution_count": null,
   "id": "d8129b74dcaf7d73",
   "metadata": {
    "lines_to_next_cell": 2
   },
   "outputs": [],
   "source": [
    "df.index"
   ]
  },
  {
   "cell_type": "code",
   "execution_count": null,
   "id": "ae720b194895bd85",
   "metadata": {
    "lines_to_next_cell": 2
   },
   "outputs": [],
   "source": [
    "df.index.is_monotonic_increasing"
   ]
  },
  {
   "cell_type": "code",
   "execution_count": null,
   "id": "5270af31a7295120",
   "metadata": {
    "lines_to_next_cell": 2
   },
   "outputs": [],
   "source": [
    "df.size"
   ]
  },
  {
   "cell_type": "code",
   "execution_count": null,
   "id": "8456919f625f33be",
   "metadata": {
    "lines_to_next_cell": 2
   },
   "outputs": [],
   "source": [
    "df.ndim"
   ]
  },
  {
   "cell_type": "code",
   "execution_count": null,
   "id": "f2c6219fab335bbb",
   "metadata": {},
   "outputs": [],
   "source": [
    "df.shape"
   ]
  },
  {
   "cell_type": "markdown",
   "id": "1d61447469d111b7",
   "metadata": {
    "lang": "de"
   },
   "source": [
    "### Erzeugen, Umbenennen und Löschen von Spalten"
   ]
  },
  {
   "cell_type": "code",
   "execution_count": null,
   "id": "5c12f9821ee28e1d",
   "metadata": {
    "lines_to_next_cell": 2
   },
   "outputs": [],
   "source": [
    "df = create_data_frame()\n",
    "df[\"Sum of w and y\"] = df[\"w\"] + df[\"y\"]"
   ]
  },
  {
   "cell_type": "code",
   "execution_count": null,
   "id": "a21f733464e85864",
   "metadata": {
    "lines_to_next_cell": 2
   },
   "outputs": [],
   "source": [
    "df"
   ]
  },
  {
   "cell_type": "code",
   "execution_count": null,
   "id": "1ddb31b47ef15bbf",
   "metadata": {
    "lines_to_next_cell": 2
   },
   "outputs": [],
   "source": [
    "df.rename(columns={\"Sum of w and y\": \"w + y\"})"
   ]
  },
  {
   "cell_type": "code",
   "execution_count": null,
   "id": "80a7ada2ebe13394",
   "metadata": {
    "lines_to_next_cell": 2
   },
   "outputs": [],
   "source": [
    "df"
   ]
  },
  {
   "cell_type": "code",
   "execution_count": null,
   "id": "e7282766c0a6bdf4",
   "metadata": {
    "lines_to_next_cell": 2
   },
   "outputs": [],
   "source": [
    "df.rename(columns={\"Sum of w and y\": \"w + y\"}, index={\"E\": \"Z\"}, inplace=True)"
   ]
  },
  {
   "cell_type": "code",
   "execution_count": null,
   "id": "40d23ea5cf3c47b7",
   "metadata": {
    "lines_to_next_cell": 2
   },
   "outputs": [],
   "source": [
    "df"
   ]
  },
  {
   "cell_type": "code",
   "execution_count": null,
   "id": "b2a0642cda8023dd",
   "metadata": {
    "lines_to_next_cell": 2
   },
   "outputs": [],
   "source": [
    "type(df[\"y\"])"
   ]
  },
  {
   "cell_type": "code",
   "execution_count": null,
   "id": "c17f0305298c0c6c",
   "metadata": {
    "lines_to_next_cell": 2
   },
   "outputs": [],
   "source": [
    "del df[\"y\"]"
   ]
  },
  {
   "cell_type": "code",
   "execution_count": null,
   "id": "f4febf9113d53d86",
   "metadata": {
    "lines_to_next_cell": 2
   },
   "outputs": [],
   "source": [
    "df"
   ]
  },
  {
   "cell_type": "code",
   "execution_count": null,
   "id": "9a470c1b0b95dd58",
   "metadata": {
    "lines_to_next_cell": 2
   },
   "outputs": [],
   "source": [
    "df.drop(\"A\")"
   ]
  },
  {
   "cell_type": "code",
   "execution_count": null,
   "id": "18eee80a99c7faeb",
   "metadata": {
    "lines_to_next_cell": 2
   },
   "outputs": [],
   "source": [
    "df"
   ]
  },
  {
   "cell_type": "code",
   "execution_count": null,
   "id": "548dc0c6a01a151f",
   "metadata": {
    "lines_to_next_cell": 2
   },
   "outputs": [],
   "source": [
    "df.drop(\"B\", inplace=True)"
   ]
  },
  {
   "cell_type": "code",
   "execution_count": null,
   "id": "0482c8098576ccc7",
   "metadata": {
    "lines_to_next_cell": 2
   },
   "outputs": [],
   "source": [
    "df"
   ]
  },
  {
   "cell_type": "code",
   "execution_count": null,
   "id": "6df4d9bacd085103",
   "metadata": {
    "lines_to_next_cell": 2
   },
   "outputs": [],
   "source": [
    "df.drop(\"z\", axis=1)"
   ]
  },
  {
   "cell_type": "code",
   "execution_count": null,
   "id": "96bc0b1ba5aa8008",
   "metadata": {
    "lines_to_next_cell": 2
   },
   "outputs": [],
   "source": [
    "df"
   ]
  },
  {
   "cell_type": "code",
   "execution_count": null,
   "id": "2bea0998e4a6a994",
   "metadata": {
    "lines_to_next_cell": 2
   },
   "outputs": [],
   "source": [
    "df.drop(\"z\", axis=1, inplace=True)"
   ]
  },
  {
   "cell_type": "code",
   "execution_count": null,
   "id": "4e4a37f8b04c51d8",
   "metadata": {},
   "outputs": [],
   "source": [
    "df"
   ]
  },
  {
   "cell_type": "markdown",
   "id": "af38df464f17102e",
   "metadata": {
    "lang": "de"
   },
   "source": [
    "## Auswahl"
   ]
  },
  {
   "cell_type": "code",
   "execution_count": null,
   "id": "cab0765dbc76a80e",
   "metadata": {
    "lines_to_next_cell": 2
   },
   "outputs": [],
   "source": [
    "df = create_data_frame()\n",
    "df"
   ]
  },
  {
   "cell_type": "code",
   "execution_count": null,
   "id": "47c710f0c9c52245",
   "metadata": {
    "lines_to_next_cell": 2
   },
   "outputs": [],
   "source": [
    "df[\"w\"]"
   ]
  },
  {
   "cell_type": "code",
   "execution_count": null,
   "id": "ad9f577f11028301",
   "metadata": {
    "lines_to_next_cell": 2
   },
   "outputs": [],
   "source": [
    "# Error!\n",
    "# df['A']"
   ]
  },
  {
   "cell_type": "code",
   "execution_count": null,
   "id": "04702c6a6b478708",
   "metadata": {
    "lines_to_next_cell": 2
   },
   "outputs": [],
   "source": [
    "df.loc[\"B\"]"
   ]
  },
  {
   "cell_type": "code",
   "execution_count": null,
   "id": "f03d2a49b52a87e9",
   "metadata": {
    "lines_to_next_cell": 2
   },
   "outputs": [],
   "source": [
    "type(df.loc[\"B\"])"
   ]
  },
  {
   "cell_type": "code",
   "execution_count": null,
   "id": "1a82e09de7f75a98",
   "metadata": {
    "lines_to_next_cell": 2
   },
   "outputs": [],
   "source": [
    "df"
   ]
  },
  {
   "cell_type": "code",
   "execution_count": null,
   "id": "667d39be8a441c06",
   "metadata": {
    "lines_to_next_cell": 2
   },
   "outputs": [],
   "source": [
    "df.iloc[1]"
   ]
  },
  {
   "cell_type": "code",
   "execution_count": null,
   "id": "68a0f8f4234fdf6b",
   "metadata": {
    "lines_to_next_cell": 2
   },
   "outputs": [],
   "source": [
    "df.loc[[\"A\", \"C\"]]"
   ]
  },
  {
   "cell_type": "code",
   "execution_count": null,
   "id": "4d2106355c589e11",
   "metadata": {
    "lines_to_next_cell": 2
   },
   "outputs": [],
   "source": [
    "df.loc[[\"A\", \"C\"], [\"x\", \"y\"]]"
   ]
  },
  {
   "cell_type": "code",
   "execution_count": null,
   "id": "8e1bf9a4a3935bdf",
   "metadata": {
    "lines_to_next_cell": 2
   },
   "outputs": [],
   "source": [
    "df.loc[\"B\", \"z\"]"
   ]
  },
  {
   "cell_type": "code",
   "execution_count": null,
   "id": "f219bc94551b41fa",
   "metadata": {
    "lines_to_next_cell": 2
   },
   "outputs": [],
   "source": [
    "df.iloc[[1, 2], [0, 3]]"
   ]
  },
  {
   "cell_type": "code",
   "execution_count": null,
   "id": "b5982425a00d221e",
   "metadata": {},
   "outputs": [],
   "source": [
    "df.iloc[0, 0]"
   ]
  },
  {
   "cell_type": "markdown",
   "id": "c13e397b2fa66a17",
   "metadata": {
    "lang": "de"
   },
   "source": [
    "## Bedingte Auswahl"
   ]
  },
  {
   "cell_type": "code",
   "execution_count": null,
   "id": "57054cfddd37df38",
   "metadata": {
    "lines_to_next_cell": 2
   },
   "outputs": [],
   "source": [
    "df = create_data_frame()\n",
    "df"
   ]
  },
  {
   "cell_type": "code",
   "execution_count": null,
   "id": "7dfb48e6138297d3",
   "metadata": {
    "lines_to_next_cell": 2
   },
   "outputs": [],
   "source": [
    "df > 0  # noqa"
   ]
  },
  {
   "cell_type": "code",
   "execution_count": null,
   "id": "ed6d7a2f72501d3e",
   "metadata": {
    "lines_to_next_cell": 2
   },
   "outputs": [],
   "source": [
    "df[df > 0]"
   ]
  },
  {
   "cell_type": "code",
   "execution_count": null,
   "id": "fbaf7e3795cb0b7b",
   "metadata": {
    "lines_to_next_cell": 2
   },
   "outputs": [],
   "source": [
    "df[\"w\"] > 0  # noqa"
   ]
  },
  {
   "cell_type": "code",
   "execution_count": null,
   "id": "65c82eee97d2de3c",
   "metadata": {
    "lines_to_next_cell": 2
   },
   "outputs": [],
   "source": [
    "df[df[\"w\"] > 0]"
   ]
  },
  {
   "cell_type": "code",
   "execution_count": null,
   "id": "82781aae9355bb5d",
   "metadata": {
    "lines_to_next_cell": 2
   },
   "outputs": [],
   "source": [
    "df[df[\"w\"] > 0][[\"x\", \"y\"]]"
   ]
  },
  {
   "cell_type": "code",
   "execution_count": null,
   "id": "956baddc013ae1db",
   "metadata": {},
   "outputs": [],
   "source": [
    "df[(df[\"w\"] > 0) & (df[\"x\"] < 0)]"
   ]
  },
  {
   "cell_type": "markdown",
   "id": "f73a7268cf1faca6",
   "metadata": {
    "lang": "de"
   },
   "source": [
    "\n",
    "# Information über Data Frames"
   ]
  },
  {
   "cell_type": "code",
   "execution_count": null,
   "id": "373172dca3aba7b4",
   "metadata": {
    "lines_to_next_cell": 2
   },
   "outputs": [],
   "source": [
    "df = create_data_frame()\n",
    "df[\"txt\"] = \"a b c d e\".split()\n",
    "df.iloc[1, 1] = np.nan\n",
    "df"
   ]
  },
  {
   "cell_type": "code",
   "execution_count": null,
   "id": "8f3cd3815854b853",
   "metadata": {
    "lines_to_next_cell": 2
   },
   "outputs": [],
   "source": [
    "df.describe()"
   ]
  },
  {
   "cell_type": "code",
   "execution_count": null,
   "id": "636e36b8e346a2bf",
   "metadata": {
    "lines_to_next_cell": 2
   },
   "outputs": [],
   "source": [
    "df.info()"
   ]
  },
  {
   "cell_type": "code",
   "execution_count": null,
   "id": "85a811cfdd31bf65",
   "metadata": {},
   "outputs": [],
   "source": [
    "df.dtypes"
   ]
  },
  {
   "cell_type": "markdown",
   "id": "6dcc9d5178f98fa4",
   "metadata": {
    "lang": "de"
   },
   "source": [
    "## Der Index eines Data Frames"
   ]
  },
  {
   "cell_type": "code",
   "execution_count": null,
   "id": "6fd0c12908c8e852",
   "metadata": {
    "lines_to_next_cell": 2
   },
   "outputs": [],
   "source": [
    "df = create_data_frame()\n",
    "df[\"txt\"] = \"a b c d e\".split()\n",
    "df"
   ]
  },
  {
   "cell_type": "code",
   "execution_count": null,
   "id": "3500636b950d0c23",
   "metadata": {
    "lines_to_next_cell": 2
   },
   "outputs": [],
   "source": [
    "df.reset_index()"
   ]
  },
  {
   "cell_type": "code",
   "execution_count": null,
   "id": "e81f79ac519b82f3",
   "metadata": {
    "lines_to_next_cell": 2
   },
   "outputs": [],
   "source": [
    "df"
   ]
  },
  {
   "cell_type": "code",
   "execution_count": null,
   "id": "21ca116089ae14fe",
   "metadata": {
    "lines_to_next_cell": 2
   },
   "outputs": [],
   "source": [
    "df.reset_index(inplace=True)"
   ]
  },
  {
   "cell_type": "code",
   "execution_count": null,
   "id": "54997962419b2a4c",
   "metadata": {
    "lines_to_next_cell": 2
   },
   "outputs": [],
   "source": [
    "df"
   ]
  },
  {
   "cell_type": "code",
   "execution_count": null,
   "id": "38f92feda7e433a3",
   "metadata": {
    "lines_to_next_cell": 2
   },
   "outputs": [],
   "source": [
    "df.rename(columns={\"index\": \"old_index\"}, inplace=True)"
   ]
  },
  {
   "cell_type": "code",
   "execution_count": null,
   "id": "3b61b814171fb26b",
   "metadata": {
    "lines_to_next_cell": 2
   },
   "outputs": [],
   "source": [
    "df"
   ]
  },
  {
   "cell_type": "code",
   "execution_count": null,
   "id": "8f7e5bfdf1c3179e",
   "metadata": {
    "lines_to_next_cell": 2
   },
   "outputs": [],
   "source": [
    "df.set_index(\"txt\")"
   ]
  },
  {
   "cell_type": "code",
   "execution_count": null,
   "id": "bf840766eec4ea8e",
   "metadata": {
    "lines_to_next_cell": 2
   },
   "outputs": [],
   "source": [
    "df"
   ]
  },
  {
   "cell_type": "code",
   "execution_count": null,
   "id": "d4ce388f31ce65cc",
   "metadata": {
    "lines_to_next_cell": 2
   },
   "outputs": [],
   "source": [
    "df.set_index(\"txt\", inplace=True)\n",
    "df"
   ]
  },
  {
   "cell_type": "code",
   "execution_count": null,
   "id": "3a5df619f40e1a30",
   "metadata": {
    "lines_to_next_cell": 2
   },
   "outputs": [],
   "source": [
    "df.set_index(\"old_index\", inplace=True)\n",
    "df"
   ]
  },
  {
   "cell_type": "code",
   "execution_count": null,
   "id": "2d191fcd95b540e6",
   "metadata": {
    "lines_to_next_cell": 2
   },
   "outputs": [],
   "source": [
    "df.info()"
   ]
  },
  {
   "cell_type": "code",
   "execution_count": null,
   "id": "597d624da7f2fdb7",
   "metadata": {
    "lines_to_next_cell": 2
   },
   "outputs": [],
   "source": [
    "df.index"
   ]
  },
  {
   "cell_type": "code",
   "execution_count": null,
   "id": "9e3e98a647608725",
   "metadata": {
    "lines_to_next_cell": 2
   },
   "outputs": [],
   "source": [
    "df.index.name = None"
   ]
  },
  {
   "cell_type": "code",
   "execution_count": null,
   "id": "8ab4766471a95fb2",
   "metadata": {
    "lines_to_next_cell": 2
   },
   "outputs": [],
   "source": [
    "df"
   ]
  },
  {
   "cell_type": "code",
   "execution_count": null,
   "id": "6b4e03423667dbb7",
   "metadata": {
    "tags": [
     "keep"
    ]
   },
   "outputs": [],
   "source": []
  }
 ],
 "metadata": {
  "kernelspec": {
   "display_name": "Python 3 (ipykernel)",
   "language": "python",
   "name": "python3"
  },
  "language_info": {
   "codemirror_mode": {
    "name": "ipython",
    "version": 3
   },
   "file_extension": ".py",
   "mimetype": "text/x-python",
   "name": "python",
   "nbconvert_exporter": "python",
   "pygments_lexer": "ipython3",
   "version": "3.10.6"
  }
 },
 "nbformat": 4,
 "nbformat_minor": 5
}
