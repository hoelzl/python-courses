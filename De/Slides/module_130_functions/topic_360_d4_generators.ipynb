{
 "cells": [
  {
   "cell_type": "markdown",
   "id": "3f4d20748b61a430",
   "metadata": {
    "lang": "de",
    "slideshow": {
     "slide_type": "slide"
    }
   },
   "source": [
    "<img src=\"../../img/python-logo-no-text.svg\"\n",
    "     style=\"display:block;margin:auto;width:10%\"/>\n",
    "<br>\n",
    "<div style=\"text-align:center; font-size:200%;\">\n",
    "  <b>Iteratoren und Generatoren</b>\n",
    "</div>\n",
    "<br/>\n",
    "<div style=\"text-align:center;\">Dr. Matthias Hölzl</div>\n",
    "<br/>\n",
    "<div style=\"text-align:center;\">module_130_functions/topic_360_d4_generators</div>"
   ]
  },
  {
   "cell_type": "markdown",
   "id": "72a9e9fe9ff55eb1",
   "metadata": {
    "lang": "de",
    "slideshow": {
     "slide_type": "slide"
    }
   },
   "source": [
    "\n",
    "# Iteration über verschiedene Typen\n",
    "\n",
    "Wir haben gesehen, dass z.B. die `for`-Schleife in Python für verschiedene\n",
    "Typen verwendbar ist:"
   ]
  },
  {
   "cell_type": "code",
   "execution_count": null,
   "id": "2ef2e36a8081efb2",
   "metadata": {},
   "outputs": [],
   "source": [
    "for x in [1, 2, 3]:\n",
    "    print(x)"
   ]
  },
  {
   "cell_type": "code",
   "execution_count": null,
   "id": "4c5afad05cd5cd88",
   "metadata": {},
   "outputs": [],
   "source": [
    "for x in \"abc\":\n",
    "    print(x)"
   ]
  },
  {
   "cell_type": "markdown",
   "id": "ea995a7ec128115e",
   "metadata": {
    "lang": "de"
   },
   "source": [
    "Der Mechanismus mit dem Python das erreicht sind Iteratoren:"
   ]
  },
  {
   "cell_type": "code",
   "execution_count": null,
   "id": "6b917ca267f0d824",
   "metadata": {},
   "outputs": [],
   "source": [
    "my_list = [1, 2, 3]"
   ]
  },
  {
   "cell_type": "code",
   "execution_count": null,
   "id": "c5fe0a1278264d14",
   "metadata": {},
   "outputs": [],
   "source": [
    "it = iter(my_list)\n",
    "it"
   ]
  },
  {
   "cell_type": "code",
   "execution_count": null,
   "id": "4c4958a79eb12c59",
   "metadata": {},
   "outputs": [],
   "source": [
    "next(it)"
   ]
  },
  {
   "cell_type": "code",
   "execution_count": null,
   "id": "ef9478253c73c023",
   "metadata": {},
   "outputs": [],
   "source": [
    "next(it)"
   ]
  },
  {
   "cell_type": "code",
   "execution_count": null,
   "id": "d052f95a2ae42146",
   "metadata": {},
   "outputs": [],
   "source": [
    "next(it)"
   ]
  },
  {
   "cell_type": "code",
   "execution_count": null,
   "id": "f66c784102974e06",
   "metadata": {},
   "outputs": [],
   "source": [
    "# next(it)"
   ]
  },
  {
   "cell_type": "code",
   "execution_count": null,
   "id": "314e25b7c72dfff4",
   "metadata": {},
   "outputs": [],
   "source": [
    "for x in my_list:\n",
    "    print(x)"
   ]
  },
  {
   "cell_type": "code",
   "execution_count": null,
   "id": "8156a2ee0246caa2",
   "metadata": {},
   "outputs": [],
   "source": [
    "for x in iter(my_list):\n",
    "    print(x)"
   ]
  },
  {
   "cell_type": "markdown",
   "id": "98d69ec6337fc64d",
   "metadata": {
    "lang": "de"
   },
   "source": [
    "Als Typ von iterierbaren Objekten wird oft `Iterable` verwendet:"
   ]
  },
  {
   "cell_type": "code",
   "execution_count": null,
   "id": "da3cc0085f2b1650",
   "metadata": {},
   "outputs": [],
   "source": [
    "from typing import Iterable"
   ]
  },
  {
   "cell_type": "code",
   "execution_count": null,
   "id": "f94bb56e8b5b47a7",
   "metadata": {},
   "outputs": [],
   "source": [
    "isinstance(my_list, Iterable)"
   ]
  },
  {
   "cell_type": "code",
   "execution_count": null,
   "id": "80154dc03325155a",
   "metadata": {},
   "outputs": [],
   "source": [
    "isinstance(iter(my_list), Iterable)"
   ]
  },
  {
   "cell_type": "code",
   "execution_count": null,
   "id": "f2cd559ca92ab5d5",
   "metadata": {},
   "outputs": [],
   "source": [
    "class MyClass:\n",
    "    def __iter__(self):\n",
    "        return iter([1, 2, 3])"
   ]
  },
  {
   "cell_type": "code",
   "execution_count": null,
   "id": "019b9141afbcbb95",
   "metadata": {},
   "outputs": [],
   "source": [
    "my_obj = MyClass()"
   ]
  },
  {
   "cell_type": "code",
   "execution_count": null,
   "id": "eaa8f74e57f58aa2",
   "metadata": {},
   "outputs": [],
   "source": [
    "isinstance(my_obj, Iterable)"
   ]
  },
  {
   "cell_type": "code",
   "execution_count": null,
   "id": "28ee85b89fa8cfd0",
   "metadata": {},
   "outputs": [],
   "source": [
    "for x in my_obj:\n",
    "    print(x)"
   ]
  },
  {
   "cell_type": "code",
   "execution_count": null,
   "id": "93c71db4dcf84a08",
   "metadata": {},
   "outputs": [],
   "source": [
    "list_it = iter(my_list)\n",
    "obj_it = iter(my_obj)"
   ]
  },
  {
   "cell_type": "code",
   "execution_count": null,
   "id": "dab6b9065ed2c346",
   "metadata": {},
   "outputs": [],
   "source": [
    "tuple(list_it)\n",
    "\n",
    "# %5\n",
    "tuple(list_it)"
   ]
  },
  {
   "cell_type": "code",
   "execution_count": null,
   "id": "e0b9d164b06c346e",
   "metadata": {},
   "outputs": [],
   "source": [
    "tuple(obj_it)"
   ]
  },
  {
   "cell_type": "code",
   "execution_count": null,
   "id": "5b687e10843dcc1a",
   "metadata": {},
   "outputs": [],
   "source": [
    "tuple(obj_it)"
   ]
  },
  {
   "cell_type": "code",
   "execution_count": null,
   "id": "4eb282f3c88ef3f6",
   "metadata": {},
   "outputs": [],
   "source": [
    "a, b, c = my_obj\n",
    "print(f\"a = {a}, b = {b}, c = {c}\")"
   ]
  },
  {
   "cell_type": "markdown",
   "id": "88c6f8a5e5d3d830",
   "metadata": {
    "lang": "de",
    "tags": [
     "subsection"
    ]
   },
   "source": [
    "Einige Typen können mehr als eine Art von Iterator liefern:"
   ]
  },
  {
   "cell_type": "code",
   "execution_count": null,
   "id": "ce7a729f00f10a4d",
   "metadata": {},
   "outputs": [],
   "source": [
    "my_dict = dict(a=1, b=2, c=3)\n",
    "my_dict"
   ]
  },
  {
   "cell_type": "code",
   "execution_count": null,
   "id": "c6105cf80e8bc8ce",
   "metadata": {},
   "outputs": [],
   "source": [
    "tuple(my_dict)"
   ]
  },
  {
   "cell_type": "code",
   "execution_count": null,
   "id": "0a4f5cebdb5d30b6",
   "metadata": {},
   "outputs": [],
   "source": [
    "tuple(my_dict.keys())"
   ]
  },
  {
   "cell_type": "code",
   "execution_count": null,
   "id": "1170affc65d1bcbf",
   "metadata": {},
   "outputs": [],
   "source": [
    "tuple(my_dict.values())"
   ]
  },
  {
   "cell_type": "code",
   "execution_count": null,
   "id": "87abc16aaf129f36",
   "metadata": {},
   "outputs": [],
   "source": [
    "tuple(my_dict.items())"
   ]
  },
  {
   "cell_type": "code",
   "execution_count": null,
   "id": "12d40eb7d1cfe2a5",
   "metadata": {},
   "outputs": [],
   "source": [
    "tuple(range(3))"
   ]
  },
  {
   "cell_type": "markdown",
   "id": "fc326ef82f3f6eb4",
   "metadata": {
    "lang": "de"
   },
   "source": [
    "## Wie funktioniert die `for`-Schleife?"
   ]
  },
  {
   "cell_type": "code",
   "execution_count": null,
   "id": "78eabfe7264105c1",
   "metadata": {},
   "outputs": [],
   "source": [
    "r = range(3)\n",
    "r"
   ]
  },
  {
   "cell_type": "code",
   "execution_count": null,
   "id": "4b057481a745ad4a",
   "metadata": {},
   "outputs": [],
   "source": [
    "for x in range(3):\n",
    "    print(x, end=\" \")"
   ]
  },
  {
   "cell_type": "code",
   "execution_count": null,
   "id": "52b4499a70fbd90e",
   "metadata": {},
   "outputs": [],
   "source": [
    "_r = range(3)\n",
    "_temp_iter = iter(_r)\n",
    "while True:\n",
    "    try:\n",
    "        x = next(_temp_iter)\n",
    "    except StopIteration:\n",
    "        break\n",
    "    print(x, end=\" \")"
   ]
  },
  {
   "cell_type": "markdown",
   "id": "5aedf6f48104a531",
   "metadata": {
    "lang": "de",
    "lines_to_next_cell": 2,
    "slideshow": {
     "slide_type": "slide"
    }
   },
   "source": [
    "\n",
    "# Generatoren\n",
    "\n",
    "- Es ist nicht effizient eine Liste zu konstruieren, wenn wir sie nur zum\n",
    "  Iterieren über ihre Elemente verwenden wollen\n",
    "- Python bietet die Möglichkeit Generatoren zu definieren, die iterierbar\n",
    "  sind, aber nicht den Overhead einer Liste haben\n",
    "- Die einfachste Form ist mit Generator Expressions:"
   ]
  },
  {
   "cell_type": "code",
   "execution_count": null,
   "id": "6821331af6789be1",
   "metadata": {},
   "outputs": [],
   "source": [
    "squares_list = [n * n for n in range(10)]"
   ]
  },
  {
   "cell_type": "code",
   "execution_count": null,
   "id": "fd58ab890bc972ee",
   "metadata": {},
   "outputs": [],
   "source": [
    "for i in squares_list:\n",
    "    print(i)"
   ]
  },
  {
   "cell_type": "code",
   "execution_count": null,
   "id": "315dc36b6e29ae3e",
   "metadata": {},
   "outputs": [],
   "source": [
    "gen = (n * n for n in range(10))\n",
    "gen"
   ]
  },
  {
   "cell_type": "code",
   "execution_count": null,
   "id": "7465e3be7a372cca",
   "metadata": {},
   "outputs": [],
   "source": [
    "for i in gen:\n",
    "    print(i, end=\" \")"
   ]
  },
  {
   "cell_type": "code",
   "execution_count": null,
   "id": "0c3256f589cc2a45",
   "metadata": {},
   "outputs": [],
   "source": [
    "for i in gen:\n",
    "    print(i, end=\" \")"
   ]
  },
  {
   "cell_type": "markdown",
   "id": "a43a292a2f825cb3",
   "metadata": {
    "lang": "de",
    "slideshow": {
     "slide_type": "subslide"
    }
   },
   "source": [
    "Es ist auch möglich komplexere Generator-Expressions zu schreiben:"
   ]
  },
  {
   "cell_type": "code",
   "execution_count": null,
   "id": "e4ee0edef39552b4",
   "metadata": {},
   "outputs": [],
   "source": [
    "for i, j, k in ((n, m, n * m) for n in range(2, 5) for m in range(n, 5)):\n",
    "    print(f\"{i}, {j}, {k}\")"
   ]
  },
  {
   "cell_type": "code",
   "execution_count": null,
   "id": "f56a556d5a748338",
   "metadata": {},
   "outputs": [],
   "source": [
    "gen = (n * n for n in range(3))\n",
    "repr(gen)"
   ]
  },
  {
   "cell_type": "code",
   "execution_count": null,
   "id": "44e7403573af73b1",
   "metadata": {},
   "outputs": [],
   "source": [
    "it = iter(gen)\n",
    "repr(it)"
   ]
  },
  {
   "cell_type": "code",
   "execution_count": null,
   "id": "a82d2449afe04138",
   "metadata": {},
   "outputs": [],
   "source": [
    "next(it)"
   ]
  },
  {
   "cell_type": "code",
   "execution_count": null,
   "id": "ac35ea09e4f354bb",
   "metadata": {},
   "outputs": [],
   "source": [
    "next(it)"
   ]
  },
  {
   "cell_type": "code",
   "execution_count": null,
   "id": "2a66905035dce7e8",
   "metadata": {},
   "outputs": [],
   "source": [
    "next(it)"
   ]
  },
  {
   "cell_type": "markdown",
   "id": "1e94533d1537e496",
   "metadata": {
    "lang": "de"
   },
   "source": [
    "`it` ist \"erschöpft,\" man kann keine neuen Werte bekommen:"
   ]
  },
  {
   "cell_type": "code",
   "execution_count": null,
   "id": "455b5ee5708d2db1",
   "metadata": {},
   "outputs": [],
   "source": [
    "# next(it)"
   ]
  },
  {
   "cell_type": "code",
   "execution_count": null,
   "id": "d326dc95c3728768",
   "metadata": {},
   "outputs": [],
   "source": [
    "# next(it)"
   ]
  },
  {
   "cell_type": "markdown",
   "id": "d3de691470deb0d0",
   "metadata": {
    "lang": "de",
    "lines_to_next_cell": 2,
    "slideshow": {
     "slide_type": "subslide"
    }
   },
   "source": [
    "\n",
    "## Mini-Workshop \"Generator-Expressions\"\n",
    "\n",
    "- Berechnen Sie die Summe der ersten 100 Quadratzahlen unter Zuhilfenahme einer\n",
    "  Generator-Expression.\n",
    "- Berechnen Sie die Summe aller Zahlen zwischen 100 und 500, die durch 7 teilbar\n",
    "  sind unter Zuhilfenahme einer Generator-Expression.\n",
    "- Schreiben Sie eine Funktion\n",
    "  `all_powers(numbers: Iterable[int], powers: Iterable[int])`,\n",
    "  die eine Liste zurückgibt, deren Elemente Tupel sind, die alle Potenzen\n",
    "  aus `powers` von Elementen aus `numbers` enthalten\n"
   ]
  },
  {
   "cell_type": "code",
   "execution_count": null,
   "id": "797101d57b530452",
   "metadata": {},
   "outputs": [],
   "source": [
    "sum(x ** 2 for x in range(100))"
   ]
  },
  {
   "cell_type": "code",
   "execution_count": null,
   "id": "50791483ccc62ac6",
   "metadata": {},
   "outputs": [],
   "source": [
    "sum(x for x in range(100, 501) if x % 7 == 0)"
   ]
  },
  {
   "cell_type": "code",
   "execution_count": null,
   "id": "f3031e0df6407766",
   "metadata": {},
   "outputs": [],
   "source": [
    "def all_powers(numbers: Iterable[int], powers: Iterable[int]):\n",
    "    return [tuple(n ** p for p in powers) for n in numbers]"
   ]
  },
  {
   "cell_type": "code",
   "execution_count": null,
   "id": "1cef3e0441ed3b79",
   "metadata": {
    "tags": [
     "keep"
    ]
   },
   "outputs": [],
   "source": [
    "assert all_powers(range(3), range(3)) == [(1, 0, 0), (1, 1, 1), (1, 2, 4)]"
   ]
  },
  {
   "cell_type": "code",
   "execution_count": null,
   "id": "57bc41f349d347fb",
   "metadata": {
    "tags": [
     "keep"
    ]
   },
   "outputs": [],
   "source": [
    "assert all_powers([10, 11, 12], [2, 3]) == [(100, 1000), (121, 1331), (144, 1728)]"
   ]
  }
 ],
 "metadata": {
  "kernelspec": {
   "display_name": "Python 3 (ipykernel)",
   "language": "python",
   "name": "python3"
  }
 },
 "nbformat": 4,
 "nbformat_minor": 5
}
