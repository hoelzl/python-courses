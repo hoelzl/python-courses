{
 "cells": [
  {
   "cell_type": "markdown",
   "id": "8d3cb5f4d472f89c",
   "metadata": {
    "lang": "de",
    "slideshow": {
     "slide_type": "slide"
    }
   },
   "source": [
    "<img src=\"../../img/python-logo-no-text.svg\"\n",
    "     style=\"display:block;margin:auto;width:10%\"/>\n",
    "<br>\n",
    "<div style=\"text-align:center; font-size:200%;\">\n",
    " <b>Decorators</b>\n",
    "</div>\n",
    "<br/>\n",
    "<div style=\"text-align:center;\">Dr. Matthias Hölzl</div>\n",
    "<br/>\n",
    "<div style=\"text-align:center;\">module_130_functions/topic_290_e2_decorators</div>"
   ]
  },
  {
   "cell_type": "markdown",
   "id": "00297899783af870",
   "metadata": {
    "lang": "de",
    "slideshow": {
     "slide_type": "slide"
    }
   },
   "source": [
    "## Decorators\n",
    "\n",
    "Siehe [PEP 318](https://peps.python.org/pep-0318/)"
   ]
  },
  {
   "cell_type": "code",
   "execution_count": null,
   "id": "40b7684b55f823a9",
   "metadata": {},
   "outputs": [],
   "source": [
    "def log_exec(fun):\n",
    "    def logged_fun(*args, **kwargs):\n",
    "        print(f\"Calling {fun.__name__} on {args}, {kwargs}.\")\n",
    "        return fun(*args, **kwargs)\n",
    "\n",
    "    return logged_fun"
   ]
  },
  {
   "cell_type": "code",
   "execution_count": null,
   "id": "2f1a7a2040aefb1a",
   "metadata": {},
   "outputs": [],
   "source": [
    "@log_exec\n",
    "def say_hi(name=\"world\"):\n",
    "    print(f\"Hi {name}!\")"
   ]
  },
  {
   "cell_type": "code",
   "execution_count": null,
   "id": "d852ce4cc18821cc",
   "metadata": {},
   "outputs": [],
   "source": [
    "say_hi()"
   ]
  },
  {
   "cell_type": "code",
   "execution_count": null,
   "id": "4472347ab1840887",
   "metadata": {},
   "outputs": [],
   "source": [
    "say_hi(\"Joe\")"
   ]
  },
  {
   "cell_type": "code",
   "execution_count": null,
   "id": "552e0b07ba1310d7",
   "metadata": {},
   "outputs": [],
   "source": [
    "@log_exec\n",
    "def my_dict(id, **kwargs):\n",
    "    return dict(id=id, **kwargs)"
   ]
  },
  {
   "cell_type": "code",
   "execution_count": null,
   "id": "98d238d6094ac840",
   "metadata": {},
   "outputs": [],
   "source": [
    "my_dict(123)"
   ]
  },
  {
   "cell_type": "code",
   "execution_count": null,
   "id": "d96dc07015ee63a2",
   "metadata": {},
   "outputs": [],
   "source": [
    "my_dict(123, foo=234, bar=345)"
   ]
  },
  {
   "cell_type": "code",
   "execution_count": null,
   "id": "5dc32d14087be4ee",
   "metadata": {},
   "outputs": [],
   "source": [
    "d = dict(foo=234, bar=345)"
   ]
  },
  {
   "cell_type": "code",
   "execution_count": null,
   "id": "8092ecd54924d281",
   "metadata": {},
   "outputs": [],
   "source": [
    "my_dict(1, **d)"
   ]
  },
  {
   "cell_type": "code",
   "execution_count": null,
   "id": "6b4e03423667dbb7",
   "metadata": {
    "tags": [
     "keep"
    ]
   },
   "outputs": [],
   "source": []
  }
 ],
 "metadata": {
  "kernelspec": {
   "display_name": "Python 3 (ipykernel)",
   "language": "python",
   "name": "python3"
  }
 },
 "nbformat": 4,
 "nbformat_minor": 5
}
