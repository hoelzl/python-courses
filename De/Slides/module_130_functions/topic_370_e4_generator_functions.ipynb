{
 "cells": [
  {
   "cell_type": "markdown",
   "id": "c8a98647aa8ac2be",
   "metadata": {
    "lang": "de",
    "slideshow": {
     "slide_type": "slide"
    }
   },
   "source": [
    "<img src=\"../../img/python-logo-no-text.svg\"\n",
    "     style=\"display:block;margin:auto;width:10%\"/>\n",
    "<br>\n",
    "<div style=\"text-align:center; font-size:200%;\">\n",
    "  <b>Generator-Funktionen und Coroutinen</b>\n",
    "</div>\n",
    "<br/>\n",
    "<div style=\"text-align:center;\">Dr. Matthias Hölzl</div>\n",
    "<br/>\n",
    "<div style=\"text-align:center;\">module_130_functions/topic_370_e4_generator_functions</div>"
   ]
  },
  {
   "cell_type": "markdown",
   "id": "8be909eedcfb40c5",
   "metadata": {
    "lang": "de",
    "slideshow": {
     "slide_type": "slide"
    }
   },
   "source": [
    "## Generator Funktionen\n",
    "\n",
    "Komplexere Fälle können von Generator Expressions nicht mehr abgedeckt werden.\n",
    "\n",
    "- Generator, der alle Zahlen erzeugt (ohne Obergrenze)\n",
    "- Generator, der ein Iterable modifiziert (z.B. mehrfach ausführt, eine fixe Anzahl\n",
    "  an Elementen nimmt)\n",
    "\n",
    "Für diese Fälle gibt es Generator-Funktionen"
   ]
  },
  {
   "cell_type": "markdown",
   "id": "30395556ab38cde3",
   "metadata": {
    "lang": "de",
    "slideshow": {
     "slide_type": "subslide"
    }
   },
   "source": [
    "\n",
    "Mit dem Schlüsselwort `yield` kann eine Funktion \"mehrere Werte zurückgeben\".\n",
    "Eine Funktion, die `yield` in ihrem Rumpf verwendet, wird Generatorfunktion\n",
    "genannt. Ein Aufruf einer Generatorfunktion wertet nicht den Rumpf der\n",
    "Funktion aus, sondern es wird ein *Generator* zurückgegeben, der mehrmals\n",
    "einen Wert zurückgeben kann:"
   ]
  },
  {
   "cell_type": "code",
   "execution_count": null,
   "id": "096358c992deab1f",
   "metadata": {},
   "outputs": [],
   "source": [
    "def integers(start=0):\n",
    "    n = start\n",
    "    while True:\n",
    "        yield n\n",
    "        n += 1"
   ]
  },
  {
   "cell_type": "code",
   "execution_count": null,
   "id": "428b14c43b2d23c6",
   "metadata": {},
   "outputs": [],
   "source": [
    "gen = integers()\n",
    "print(repr(gen))\n",
    "print(repr(iter(gen)))"
   ]
  },
  {
   "cell_type": "code",
   "execution_count": null,
   "id": "f82764b483e787ca",
   "metadata": {
    "slideshow": {
     "slide_type": "subslide"
    }
   },
   "outputs": [],
   "source": [
    "gen = integers()"
   ]
  },
  {
   "cell_type": "code",
   "execution_count": null,
   "id": "4f435d44b650d901",
   "metadata": {},
   "outputs": [],
   "source": [
    "next(gen)"
   ]
  },
  {
   "cell_type": "code",
   "execution_count": null,
   "id": "b588828ed18d5608",
   "metadata": {},
   "outputs": [],
   "source": [
    "next(gen)"
   ]
  },
  {
   "cell_type": "code",
   "execution_count": null,
   "id": "170a96f20223cb17",
   "metadata": {
    "slideshow": {
     "slide_type": "subslide"
    }
   },
   "outputs": [],
   "source": [
    "for i in integers():\n",
    "    if i > 3:\n",
    "        break\n",
    "    print(i, end=\" \")"
   ]
  },
  {
   "cell_type": "markdown",
   "id": "ef553c247d011597",
   "metadata": {
    "lang": "de",
    "slideshow": {
     "slide_type": "subslide"
    }
   },
   "source": [
    "\n",
    "Schreiben Sie eine Generatorfunktion `one_based_range(n)`, die `range(n)` für\n",
    "ein Argument simuliert, aber von 1 bis einschließlich `n` iteriert."
   ]
  },
  {
   "cell_type": "code",
   "execution_count": null,
   "id": "d31a5bbdf3a0db34",
   "metadata": {},
   "outputs": [],
   "source": [
    "def one_based_range(n):\n",
    "    for i in range(1, n + 1):\n",
    "        yield i"
   ]
  },
  {
   "cell_type": "code",
   "execution_count": null,
   "id": "ae241c8ae5f92414",
   "metadata": {
    "tags": [
     "keep"
    ]
   },
   "outputs": [],
   "source": [
    "assert list(one_based_range(4)) == [1, 2, 3, 4]"
   ]
  },
  {
   "cell_type": "markdown",
   "id": "d029370a6cf07217",
   "metadata": {
    "lang": "de"
   },
   "source": [
    "\n",
    "Schreiben Sie eine Generatorfunktion `inklusive_range()`, die die komplette\n",
    "Funktionalität von `range()` simuliert (d.h. die mit einem, zwei oder drei\n",
    "Argumenten aufgerufen werden kann), aber ihre obere Grenze einschließt und die\n",
    "Iteration von 1 beginnt, wenn keine untere Grenze angegeben wird.\n",
    "\n",
    "Stellen Sie sicher, dass Ihre Implementierung die vorgegebenen Testfälle\n",
    "erfüllt."
   ]
  },
  {
   "cell_type": "code",
   "execution_count": null,
   "id": "73f1f551ed453184",
   "metadata": {},
   "outputs": [],
   "source": [
    "def inclusive_range(m, n=None, step=1):\n",
    "    if n is None:\n",
    "        assert step == 1, \"Cannot specify step when no upper bound is specified.\"\n",
    "        n = m\n",
    "        m = 1\n",
    "    for i in range(m, n + 1, step):\n",
    "        yield i"
   ]
  },
  {
   "cell_type": "code",
   "execution_count": null,
   "id": "6e26424884e6985e",
   "metadata": {
    "tags": [
     "keep"
    ]
   },
   "outputs": [],
   "source": [
    "assert list(inclusive_range(3)) == [1, 2, 3]"
   ]
  },
  {
   "cell_type": "code",
   "execution_count": null,
   "id": "9688db03d124059c",
   "metadata": {
    "tags": [
     "keep"
    ]
   },
   "outputs": [],
   "source": [
    "assert list(inclusive_range(2, 4)) == [2, 3, 4]"
   ]
  },
  {
   "cell_type": "code",
   "execution_count": null,
   "id": "d5c9d209092faae6",
   "metadata": {
    "tags": [
     "keep"
    ]
   },
   "outputs": [],
   "source": [
    "assert list(inclusive_range(2, 2)) == [2]"
   ]
  },
  {
   "cell_type": "code",
   "execution_count": null,
   "id": "ebe128779194f435",
   "metadata": {
    "tags": [
     "keep"
    ]
   },
   "outputs": [],
   "source": [
    "assert list(inclusive_range(2, 1)) == []"
   ]
  },
  {
   "cell_type": "code",
   "execution_count": null,
   "id": "38e5d725dd334f09",
   "metadata": {
    "tags": [
     "keep"
    ]
   },
   "outputs": [],
   "source": [
    "assert list(inclusive_range(2, 6, 2)) == [2, 4, 6]"
   ]
  },
  {
   "cell_type": "markdown",
   "id": "543ebae18201ae5e",
   "metadata": {
    "lang": "de",
    "slideshow": {
     "slide_type": "subslide"
    }
   },
   "source": [
    "\n",
    "Wir können Generatorfunktionen verwenden, um Funktionen zu schreiben, die\n",
    "Iteratoren verarbeiten. Beispielsweise nimmt die Generatorfunktion `take()`\n",
    "eine feste Anzahl von Werten von einem Iterator:"
   ]
  },
  {
   "cell_type": "code",
   "execution_count": null,
   "id": "caec9f83b6f21672",
   "metadata": {},
   "outputs": [],
   "source": [
    "def take(n, it):\n",
    "    for i in range(n):\n",
    "        yield next(it)"
   ]
  },
  {
   "cell_type": "code",
   "execution_count": null,
   "id": "8366137500aac9c5",
   "metadata": {},
   "outputs": [],
   "source": [
    "list(take(3, integers()))"
   ]
  },
  {
   "cell_type": "markdown",
   "id": "8e5e6d2c7ae0cbe2",
   "metadata": {
    "lang": "de",
    "slideshow": {
     "slide_type": "subslide"
    }
   },
   "source": [
    "\n",
    "Beachten Sie, dass die Funktion `drop()`, die die ersten `n` Elemente eines\n",
    "Iterators entfernt, keine Generatorfunktion, sondern eine reguläre Funktion\n",
    "ist:"
   ]
  },
  {
   "cell_type": "code",
   "execution_count": null,
   "id": "032fb12bd5f45d44",
   "metadata": {},
   "outputs": [],
   "source": [
    "def drop(n, it):\n",
    "    for i in range(n):\n",
    "        next(it)\n",
    "    return it"
   ]
  },
  {
   "cell_type": "code",
   "execution_count": null,
   "id": "d45cf2d62fb4dbaa",
   "metadata": {},
   "outputs": [],
   "source": [
    "list(take(3, drop(2, integers())))"
   ]
  },
  {
   "cell_type": "markdown",
   "id": "9af9e33b9a745421",
   "metadata": {
    "lang": "de",
    "slideshow": {
     "slide_type": "subslide"
    }
   },
   "source": [
    "\n",
    "Mit Generatorfunktionen können wir auch komplexere Iterations-Operationen\n",
    "definieren:"
   ]
  },
  {
   "cell_type": "code",
   "execution_count": null,
   "id": "58fe656a2ba9a8b0",
   "metadata": {},
   "outputs": [],
   "source": [
    "def repeat_n_times(n, it):\n",
    "    for _ in range(n):\n",
    "        for elt in it:\n",
    "            yield elt"
   ]
  },
  {
   "cell_type": "code",
   "execution_count": null,
   "id": "17a842c9917f18da",
   "metadata": {},
   "outputs": [],
   "source": [
    "for num in repeat_n_times(3, range(5)):\n",
    "    print(num, end=\" \")"
   ]
  },
  {
   "cell_type": "code",
   "execution_count": null,
   "id": "81622666745f5b6b",
   "metadata": {},
   "outputs": [],
   "source": [
    "def repeat_n_times_2(n, it):\n",
    "    for _ in range(n):\n",
    "        yield from it"
   ]
  },
  {
   "cell_type": "code",
   "execution_count": null,
   "id": "4944310636da72dd",
   "metadata": {},
   "outputs": [],
   "source": [
    "for num in repeat_n_times_2(3, range(5)):\n",
    "    print(num, end=\" \")"
   ]
  },
  {
   "cell_type": "markdown",
   "id": "59f8b8bdf1acb9f3",
   "metadata": {
    "lang": "de",
    "lines_to_next_cell": 2,
    "slideshow": {
     "slide_type": "subslide"
    }
   },
   "source": [
    "\n",
    "## Mini-Workshop \"Generator\"\n",
    "\n",
    "Schreiben Sie einen Generator `leaves(tree: Bintree)`, der alle Blätter eines\n",
    "Binärbaums zurückgibt (d.h., alle Knoten, die nicht Instanzen von `Bintree` sind)."
   ]
  },
  {
   "cell_type": "code",
   "execution_count": null,
   "id": "f0a04e10ad00da36",
   "metadata": {
    "tags": [
     "keep"
    ]
   },
   "outputs": [],
   "source": [
    "\n",
    "from dataclasses import dataclass\n",
    "from typing import Optional"
   ]
  },
  {
   "cell_type": "code",
   "execution_count": null,
   "id": "b9663b2b3ad99b67",
   "metadata": {
    "tags": [
     "keep"
    ]
   },
   "outputs": [],
   "source": [
    "@dataclass\n",
    "class Bintree:\n",
    "    value: object = None\n",
    "    left: Optional[\"Bintree\"] = None\n",
    "    right: Optional[\"Bintree\"] = None"
   ]
  },
  {
   "cell_type": "code",
   "execution_count": null,
   "id": "0a2eb4cf999c57a3",
   "metadata": {},
   "outputs": [],
   "source": [
    "def leaves(tree: Bintree):\n",
    "    if tree:\n",
    "        yield from leaves(tree.left)\n",
    "        yield tree.value\n",
    "        yield from leaves(tree.right)"
   ]
  },
  {
   "cell_type": "code",
   "execution_count": null,
   "id": "0ab612cb2ac0fc79",
   "metadata": {
    "tags": [
     "keep"
    ]
   },
   "outputs": [],
   "source": [
    "tree1 = Bintree(1)\n",
    "tree2 = Bintree(2, Bintree(1), Bintree(3))\n",
    "tree3 = Bintree(1, Bintree(0),\n",
    "                Bintree(3, Bintree(2), Bintree(5, Bintree(4), Bintree(6))))"
   ]
  },
  {
   "cell_type": "code",
   "execution_count": null,
   "id": "0ed7032175b199f3",
   "metadata": {
    "tags": [
     "keep"
    ]
   },
   "outputs": [],
   "source": [
    "assert tuple(leaves(tree1)) == (1,)"
   ]
  },
  {
   "cell_type": "code",
   "execution_count": null,
   "id": "323c53303f10e990",
   "metadata": {
    "tags": [
     "keep"
    ]
   },
   "outputs": [],
   "source": [
    "assert tuple(leaves(tree2)) == (1, 2, 3)"
   ]
  },
  {
   "cell_type": "code",
   "execution_count": null,
   "id": "e0f4fd948acf68bb",
   "metadata": {
    "lines_to_next_cell": 2,
    "tags": [
     "keep"
    ]
   },
   "outputs": [],
   "source": [
    "assert tuple(leaves(tree3)) == tuple(range(7))"
   ]
  },
  {
   "cell_type": "markdown",
   "id": "9ae25eaf3f472a5a",
   "metadata": {
    "lang": "de",
    "lines_to_next_cell": 2,
    "slideshow": {
     "slide_type": "slide"
    }
   },
   "source": [
    "\n",
    "# Coroutinen\n",
    "\n",
    "`yield` kann auch verwendet werden, um einen Wert an die Stelle zurückzugeben,\n",
    "an der es \"aufgerufen\" wird. In diesem Fall nennen wir den Generator auch eine\n",
    "*Coroutine*.\n",
    "\n",
    "Coroutinen sind nützliche Bausteine für Features wie z.B. kooperatives\n",
    "Multitasking oder Event-basierte Programmierung.\n",
    "\n",
    "Um eine Coroutine `c` zu starten, rufen wir die Methode `c.send(None)` auf.\n",
    "Zum Senden nachfolgender Werte verwenden wir `c.send(value)`.\n"
   ]
  },
  {
   "cell_type": "code",
   "execution_count": null,
   "id": "b22d5c339c0a4362",
   "metadata": {
    "slideshow": {
     "slide_type": "subslide"
    }
   },
   "outputs": [],
   "source": [
    "def my_coroutine(n):\n",
    "    for i in range(n):\n",
    "        x = yield\n",
    "        print(x)"
   ]
  },
  {
   "cell_type": "code",
   "execution_count": null,
   "id": "433fad7954339b07",
   "metadata": {},
   "outputs": [],
   "source": [
    "c = my_coroutine(3)\n",
    "print(c)"
   ]
  },
  {
   "cell_type": "code",
   "execution_count": null,
   "id": "1d0814627cb80bb1",
   "metadata": {},
   "outputs": [],
   "source": [
    "# Initial value must be `None`\n",
    "c.send(None)"
   ]
  },
  {
   "cell_type": "code",
   "execution_count": null,
   "id": "c24b5e8bb84247c5",
   "metadata": {},
   "outputs": [],
   "source": [
    "c.send(10)"
   ]
  },
  {
   "cell_type": "code",
   "execution_count": null,
   "id": "db80dceb686c3bf1",
   "metadata": {
    "lines_to_next_cell": 2
   },
   "outputs": [],
   "source": [
    "c.send(20)"
   ]
  },
  {
   "cell_type": "code",
   "execution_count": null,
   "id": "79e2a2aada4025d2",
   "metadata": {
    "lines_to_next_cell": 2
   },
   "outputs": [],
   "source": [
    "# c.send(40)"
   ]
  },
  {
   "cell_type": "code",
   "execution_count": null,
   "id": "b70108d4eabc2b24",
   "metadata": {
    "slideshow": {
     "slide_type": "subslide"
    }
   },
   "outputs": [],
   "source": [
    "def your_coroutine(n):\n",
    "    for i in range(1, n + 1):\n",
    "        x = (yield i)\n",
    "        print(\"your_coroutine:\", x)"
   ]
  },
  {
   "cell_type": "code",
   "execution_count": null,
   "id": "594fa3c3330c0eeb",
   "metadata": {},
   "outputs": [],
   "source": [
    "c = your_coroutine(3)"
   ]
  },
  {
   "cell_type": "code",
   "execution_count": null,
   "id": "3eb1cecac8bd738d",
   "metadata": {},
   "outputs": [],
   "source": [
    "_x = c.send(None)\n",
    "print(\"top level:\", _x)"
   ]
  },
  {
   "cell_type": "code",
   "execution_count": null,
   "id": "43a40d59bab226e8",
   "metadata": {},
   "outputs": [],
   "source": [
    "try:\n",
    "    while True:\n",
    "        _x = c.send(_x * 10)\n",
    "        print(\"top level:\", _x)\n",
    "except StopIteration:\n",
    "    print(\"Done.\")"
   ]
  },
  {
   "cell_type": "code",
   "execution_count": null,
   "id": "0c6f22bd35779ad3",
   "metadata": {},
   "outputs": [],
   "source": [
    "def counter(max_value):\n",
    "    i = 0\n",
    "    while i < max_value:\n",
    "        val = yield i\n",
    "        if val is not None:\n",
    "            i = val\n",
    "        else:\n",
    "            i += 1"
   ]
  },
  {
   "cell_type": "code",
   "execution_count": null,
   "id": "5f6959e19ba03d65",
   "metadata": {},
   "outputs": [],
   "source": [
    "it = counter(100)"
   ]
  },
  {
   "cell_type": "code",
   "execution_count": null,
   "id": "4c4958a79eb12c59",
   "metadata": {},
   "outputs": [],
   "source": [
    "next(it)"
   ]
  },
  {
   "cell_type": "code",
   "execution_count": null,
   "id": "33f888a97b000212",
   "metadata": {},
   "outputs": [],
   "source": [
    "next(it)"
   ]
  },
  {
   "cell_type": "code",
   "execution_count": null,
   "id": "e6ce0ae2c83b4f1c",
   "metadata": {},
   "outputs": [],
   "source": [
    "it.send(98)"
   ]
  },
  {
   "cell_type": "code",
   "execution_count": null,
   "id": "c0e85cea714c349b",
   "metadata": {},
   "outputs": [],
   "source": [
    "next(it)"
   ]
  },
  {
   "cell_type": "code",
   "execution_count": null,
   "id": "f66c784102974e06",
   "metadata": {},
   "outputs": [],
   "source": [
    "# next(it)"
   ]
  }
 ],
 "metadata": {
  "kernelspec": {
   "display_name": "Python 3 (ipykernel)",
   "language": "python",
   "name": "python3"
  }
 },
 "nbformat": 4,
 "nbformat_minor": 5
}
