{
 "cells": [
  {
   "cell_type": "code",
   "execution_count": null,
   "id": "6b4e03423667dbb7",
   "metadata": {},
   "outputs": [],
   "source": []
  },
  {
   "cell_type": "markdown",
   "id": "1b91d8a64998e8d0",
   "metadata": {
    "lang": "de",
    "slideshow": {
     "slide_type": "slide"
    }
   },
   "source": [
    "<img src=\"../../img/python-logo-no-text.svg\"\n",
    "     style=\"display:block;margin:auto;width:10%\"/>\n",
    "<br>\n",
    "<div style=\"text-align:center; font-size:200%;\">\n",
    "  <b>Typen von Funktionen</b>\n",
    "</div>\n",
    "<br/>\n",
    "<div style=\"text-align:center;\">Dr. Matthias Hölzl</div>\n",
    "<br/>\n",
    "<div style=\"text-align:center;\">module_130_functions/topic_310_d4_function_types</div>"
   ]
  },
  {
   "cell_type": "markdown",
   "id": "c8def0f16627624a",
   "metadata": {
    "lang": "de",
    "lines_to_next_cell": 2,
    "slideshow": {
     "slide_type": "slide"
    }
   },
   "source": [
    "\n",
    "# Typen von Funktionen"
   ]
  },
  {
   "cell_type": "code",
   "execution_count": null,
   "id": "7e153f3cb8258e89",
   "metadata": {},
   "outputs": [],
   "source": [
    "def my_fun(x, y):\n",
    "    result = x + y\n",
    "    print(f\"my_fun({x}, {y}) -> {result}\")\n",
    "    return result"
   ]
  },
  {
   "cell_type": "code",
   "execution_count": null,
   "id": "a883014bee9a5e8c",
   "metadata": {},
   "outputs": [],
   "source": [
    "print(my_fun)\n",
    "print(type(my_fun))"
   ]
  },
  {
   "cell_type": "code",
   "execution_count": null,
   "id": "d98777b3e3480b13",
   "metadata": {},
   "outputs": [],
   "source": [
    "function_type = type(my_fun)\n",
    "isinstance(my_fun, function_type)"
   ]
  },
  {
   "cell_type": "code",
   "execution_count": null,
   "id": "fba32929c98c79b1",
   "metadata": {},
   "outputs": [],
   "source": [
    "def your_fun():\n",
    "    print(\"Hi!\")"
   ]
  },
  {
   "cell_type": "code",
   "execution_count": null,
   "id": "1e7ffd774b4c2583",
   "metadata": {},
   "outputs": [],
   "source": [
    "print(your_fun)\n",
    "print(type(your_fun))\n",
    "isinstance(your_fun, function_type)"
   ]
  },
  {
   "cell_type": "code",
   "execution_count": null,
   "id": "58ced13a01eb846c",
   "metadata": {},
   "outputs": [],
   "source": [
    "print(open)\n",
    "print(type(open))\n",
    "isinstance(open, function_type)"
   ]
  },
  {
   "cell_type": "code",
   "execution_count": null,
   "id": "685d200f902c3f39",
   "metadata": {},
   "outputs": [],
   "source": [
    "builtin_function_type = type(open)\n",
    "isinstance(open, builtin_function_type)"
   ]
  },
  {
   "cell_type": "code",
   "execution_count": null,
   "id": "cc26ad20f6a61357",
   "metadata": {},
   "outputs": [],
   "source": [
    "isinstance(pow, builtin_function_type)"
   ]
  },
  {
   "cell_type": "code",
   "execution_count": null,
   "id": "9e3f5790103ce7af",
   "metadata": {},
   "outputs": [],
   "source": [
    "print(list)\n",
    "isinstance(list, builtin_function_type)"
   ]
  },
  {
   "cell_type": "code",
   "execution_count": null,
   "id": "e8cc46259d75dc05",
   "metadata": {},
   "outputs": [],
   "source": [
    "from typing import Callable"
   ]
  },
  {
   "cell_type": "code",
   "execution_count": null,
   "id": "caed9f214595bdf6",
   "metadata": {},
   "outputs": [],
   "source": [
    "isinstance(your_fun, Callable)"
   ]
  },
  {
   "cell_type": "code",
   "execution_count": null,
   "id": "e2d7ae978d6074a9",
   "metadata": {},
   "outputs": [],
   "source": [
    "isinstance(open, Callable)"
   ]
  },
  {
   "cell_type": "code",
   "execution_count": null,
   "id": "943e406dc89c73ee",
   "metadata": {},
   "outputs": [],
   "source": [
    "isinstance(open, Callable)"
   ]
  },
  {
   "cell_type": "code",
   "execution_count": null,
   "id": "23b980bfed233e5d",
   "metadata": {},
   "outputs": [],
   "source": [
    "isinstance(pow, Callable)"
   ]
  },
  {
   "cell_type": "code",
   "execution_count": null,
   "id": "c4e971f1b956f7c6",
   "metadata": {},
   "outputs": [],
   "source": [
    "isinstance(list, Callable)"
   ]
  }
 ],
 "metadata": {},
 "nbformat": 4,
 "nbformat_minor": 5
}
