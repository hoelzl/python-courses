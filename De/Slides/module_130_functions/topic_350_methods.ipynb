{
 "cells": [
  {
   "cell_type": "code",
   "execution_count": null,
   "id": "6b4e03423667dbb7",
   "metadata": {},
   "outputs": [],
   "source": []
  },
  {
   "cell_type": "markdown",
   "id": "ac86fcc9c1ca791b",
   "metadata": {
    "lang": "de",
    "slideshow": {
     "slide_type": "slide"
    }
   },
   "source": [
    "<img src=\"../../img/python-logo-no-text.svg\"\n",
    "     style=\"display:block;margin:auto;width:10%\"/>\n",
    "<br>\n",
    "<div style=\"text-align:center; font-size:200%;\">\n",
    "  <b>Methoden</b>\n",
    "</div>\n",
    "<br/>\n",
    "<div style=\"text-align:center;\">Dr. Matthias Hölzl</div>\n",
    "<br/>\n",
    "<div style=\"text-align:center;\">module_130_functions/topic_350_methods</div>"
   ]
  },
  {
   "cell_type": "markdown",
   "id": "55cb94fc01e2701b",
   "metadata": {
    "lang": "de",
    "lines_to_next_cell": 2,
    "slideshow": {
     "slide_type": "slide"
    }
   },
   "source": [
    "\n",
    "# Methoden"
   ]
  },
  {
   "cell_type": "code",
   "execution_count": null,
   "id": "f620ed7bc409f7e9",
   "metadata": {
    "tags": [
     "keep"
    ]
   },
   "outputs": [],
   "source": [
    "from dataclasses import dataclass\n",
    "from functools import partialmethod"
   ]
  },
  {
   "cell_type": "code",
   "execution_count": null,
   "id": "18009e3447d768cd",
   "metadata": {
    "tags": [
     "keep"
    ]
   },
   "outputs": [],
   "source": [
    "@dataclass\n",
    "class Point:\n",
    "    x: float = 0.0\n",
    "    y: float = 0.0\n",
    "\n",
    "    def move(self, dx, dy):\n",
    "        return Point(self.x + dx, self.y + dy)\n",
    "\n",
    "    move_y = partialmethod(move, 1.0)"
   ]
  },
  {
   "cell_type": "code",
   "execution_count": null,
   "id": "2742a70f91f34e4a",
   "metadata": {},
   "outputs": [],
   "source": [
    "p = Point(2, 2)"
   ]
  },
  {
   "cell_type": "code",
   "execution_count": null,
   "id": "0cdab3d86db634b4",
   "metadata": {},
   "outputs": [],
   "source": [
    "# noinspection PyCallingNonCallable\n",
    "p.move_y(2)"
   ]
  },
  {
   "cell_type": "code",
   "execution_count": null,
   "id": "fd16d748a3166fd9",
   "metadata": {},
   "outputs": [],
   "source": [
    "Point.move_x = partialmethod(Point.move, dy=2.0)"
   ]
  },
  {
   "cell_type": "code",
   "execution_count": null,
   "id": "eb37ff5752bb448b",
   "metadata": {},
   "outputs": [],
   "source": [
    "p.move_x(10.0)"
   ]
  },
  {
   "cell_type": "code",
   "execution_count": null,
   "id": "540a10da14ca2beb",
   "metadata": {},
   "outputs": [],
   "source": [
    "def reset(self):\n",
    "    self.x = 0.0\n",
    "    self.y = 0.0"
   ]
  },
  {
   "cell_type": "code",
   "execution_count": null,
   "id": "5464e052f33f95b0",
   "metadata": {},
   "outputs": [],
   "source": [
    "Point.reset = reset"
   ]
  },
  {
   "cell_type": "code",
   "execution_count": null,
   "id": "d4f392467a295ad4",
   "metadata": {},
   "outputs": [],
   "source": [
    "p.reset()\n",
    "p"
   ]
  },
  {
   "cell_type": "code",
   "execution_count": null,
   "id": "79277d4b52304e7e",
   "metadata": {},
   "outputs": [],
   "source": [
    "reset"
   ]
  },
  {
   "cell_type": "code",
   "execution_count": null,
   "id": "156ce784c572bda2",
   "metadata": {},
   "outputs": [],
   "source": [
    "p.reset"
   ]
  },
  {
   "cell_type": "code",
   "execution_count": null,
   "id": "683c8a9c03799118",
   "metadata": {},
   "outputs": [],
   "source": [
    "reset.__get__"
   ]
  },
  {
   "cell_type": "code",
   "execution_count": null,
   "id": "f896ef5d18e7f204",
   "metadata": {},
   "outputs": [],
   "source": [
    "reset.__call__"
   ]
  }
 ],
 "metadata": {},
 "nbformat": 4,
 "nbformat_minor": 5
}
