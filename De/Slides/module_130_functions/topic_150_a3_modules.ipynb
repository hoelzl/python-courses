{
 "cells": [
  {
   "cell_type": "markdown",
   "id": "a5cddbd1d528de7b",
   "metadata": {
    "lang": "de",
    "slideshow": {
     "slide_type": "slide"
    }
   },
   "source": [
    "<img src=\"../../img/python-logo-no-text.svg\"\n",
    "     style=\"display:block;margin:auto;width:10%\"/>\n",
    "<br>\n",
    "<div style=\"text-align:center; font-size:200%;\">\n",
    "  <b>Import von Modulen</b>\n",
    "</div>\n",
    "<br/>\n",
    "<div style=\"text-align:center;\">Dr. Matthias Hölzl</div>\n",
    "<br/>\n",
    "<div style=\"text-align:center;\">module_130_functions/topic_150_a3_modules</div>"
   ]
  },
  {
   "cell_type": "markdown",
   "id": "633a70ddc1c6cdbc",
   "metadata": {
    "lang": "de",
    "slideshow": {
     "slide_type": "slide"
    }
   },
   "source": [
    "## Import von Modulen\n",
    "\n",
    "Ein Großteil der Funktionalität von Python ist nicht direkt im Interpreter\n",
    "verfügbar sonder in Module (und Packages) ausgelagert. Mit der `import`\n",
    "Anweisung kann man diese Funktionalität verfügbar machen:"
   ]
  },
  {
   "cell_type": "code",
   "execution_count": null,
   "id": "4d0716d422962495",
   "metadata": {},
   "outputs": [],
   "source": [
    "import math"
   ]
  },
  {
   "cell_type": "markdown",
   "id": "e2791ce97398c12b",
   "metadata": {
    "lang": "de",
    "slideshow": {
     "slide_type": "subslide"
    }
   },
   "source": [
    "Auf die Funktionen aus dem `math` Modul kann man dann mit der Syntax\n",
    "`math.floor` zugreifen:"
   ]
  },
  {
   "cell_type": "code",
   "execution_count": null,
   "id": "9f393307eee9294d",
   "metadata": {},
   "outputs": [],
   "source": [
    "math.floor(2.5)"
   ]
  },
  {
   "cell_type": "code",
   "execution_count": null,
   "id": "b3b0283f0a5adc9a",
   "metadata": {},
   "outputs": [],
   "source": [
    "math.floor(2.9)"
   ]
  },
  {
   "cell_type": "markdown",
   "id": "a7641ad669931147",
   "metadata": {
    "lang": "de",
    "slideshow": {
     "slide_type": "subslide"
    }
   },
   "source": [
    "\n",
    "Die folgende Funktion berechnet die Länge der Hypotenuse in einem\n",
    "rechtwinkligen Dreieck aus den beiden Katheten:"
   ]
  },
  {
   "cell_type": "markdown",
   "id": "20e37bff33b60586",
   "metadata": {
    "lang": "de",
    "slideshow": {
     "slide_type": "subslide"
    }
   },
   "source": [
    "Die Funktion `pythagoras` steht im `math`-Modul unter dem Namen `hypot`\n",
    "zur Verfügung:"
   ]
  },
  {
   "cell_type": "code",
   "execution_count": null,
   "id": "65c00e9143c88e72",
   "metadata": {},
   "outputs": [],
   "source": [
    "math.hypot(3, 4)"
   ]
  },
  {
   "cell_type": "markdown",
   "id": "deef9ddd9db823d5",
   "metadata": {
    "lang": "de",
    "slideshow": {
     "slide_type": "subslide"
    }
   },
   "source": [
    "\n",
    "Mit `from`...`import` können Namen aus einem Modul direkt in den aktuellen\n",
    "Namensraum importiert werden:"
   ]
  },
  {
   "cell_type": "code",
   "execution_count": null,
   "id": "52e08812340f9b8f",
   "metadata": {},
   "outputs": [],
   "source": [
    "from math import isclose"
   ]
  },
  {
   "cell_type": "code",
   "execution_count": null,
   "id": "6cb9c630a668cbe4",
   "metadata": {},
   "outputs": [],
   "source": [
    "isclose(0.1 + 0.2, 0.3)"
   ]
  },
  {
   "cell_type": "markdown",
   "id": "79c3a4a842498c39",
   "metadata": {
    "lang": "de",
    "slideshow": {
     "slide_type": "subslide"
    }
   },
   "source": [
    "\n",
    "Module (und mit `from` importierte Namen) können beim Import umbenannt werden:"
   ]
  },
  {
   "cell_type": "code",
   "execution_count": null,
   "id": "57b3c027dcd50505",
   "metadata": {},
   "outputs": [],
   "source": [
    "import math as m"
   ]
  },
  {
   "cell_type": "code",
   "execution_count": null,
   "id": "cefa8af2735157a3",
   "metadata": {},
   "outputs": [],
   "source": [
    "m.hypot(3, 4)"
   ]
  },
  {
   "cell_type": "code",
   "execution_count": null,
   "id": "39ef2a0b8448ccda",
   "metadata": {},
   "outputs": [],
   "source": [
    "from math import hypot as pythagoras"
   ]
  },
  {
   "cell_type": "code",
   "execution_count": null,
   "id": "4670f02dc0e65999",
   "metadata": {
    "lines_to_next_cell": 0
   },
   "outputs": [],
   "source": [
    "pythagoras(3, 4)"
   ]
  },
  {
   "cell_type": "code",
   "execution_count": null,
   "id": "6b4e03423667dbb7",
   "metadata": {},
   "outputs": [],
   "source": []
  }
 ],
 "metadata": {
  "kernelspec": {
   "display_name": "Python 3 (ipykernel)",
   "language": "python",
   "name": "python3"
  }
 },
 "nbformat": 4,
 "nbformat_minor": 5
}
