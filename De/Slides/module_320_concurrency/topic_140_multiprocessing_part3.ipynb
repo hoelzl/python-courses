{
 "cells": [
  {
   "cell_type": "markdown",
   "id": "ac974b853cce1257",
   "metadata": {
    "lang": "de",
    "slideshow": {
     "slide_type": "slide"
    }
   },
   "source": [
    "<img src=\"../../img/python-logo-no-text.svg\"\n",
    "     style=\"display:block;margin:auto;width:10%\"/>\n",
    "<br>\n",
    "<div style=\"text-align:center; font-size:200%;\">\n",
    "  <b>Multiprocessing (Part 3)</b>\n",
    "</div>\n",
    "<br/>\n",
    "<div style=\"text-align:center;\">Dr. Matthias Hölzl</div>\n",
    "<br/>\n",
    "<div style=\"text-align:center;\">module_320_concurrency/topic_140_multiprocessing_part3</div>"
   ]
  },
  {
   "cell_type": "code",
   "execution_count": null,
   "id": "7c0a451921c3680a",
   "metadata": {},
   "outputs": [],
   "source": [
    "def perform_computation(x):\n",
    "    return 2 * x ** 2 + 1"
   ]
  },
  {
   "cell_type": "code",
   "execution_count": null,
   "id": "c3de4fabbfdab59b",
   "metadata": {},
   "outputs": [],
   "source": [
    "if __name__ == \"__main__\":\n",
    "    print(\"List comprehension:\")\n",
    "    print([perform_computation(x) for x in [1, 2, 3]])"
   ]
  },
  {
   "cell_type": "code",
   "execution_count": null,
   "id": "0020278255f27acc",
   "metadata": {},
   "outputs": [],
   "source": [
    "if __name__ == \"__main__\":\n",
    "    print(\"Map\")\n",
    "    print(list(map(perform_computation, [1, 2, 3])))"
   ]
  },
  {
   "cell_type": "code",
   "execution_count": null,
   "id": "91b3d5e95088e44e",
   "metadata": {},
   "outputs": [],
   "source": [
    "from multiprocessing import Pool"
   ]
  },
  {
   "cell_type": "code",
   "execution_count": null,
   "id": "a71f29715346acdc",
   "metadata": {},
   "outputs": [],
   "source": [
    "if __name__ == \"__main__\":\n",
    "    print(\"Map with process pool\")\n",
    "    with Pool(processes=4) as p:\n",
    "        print(p.map(perform_computation, [1, 2, 3]))"
   ]
  }
 ],
 "metadata": {
  "kernelspec": {
   "display_name": "Python 3 (ipykernel)",
   "language": "python",
   "name": "python3"
  }
 },
 "nbformat": 4,
 "nbformat_minor": 5
}
