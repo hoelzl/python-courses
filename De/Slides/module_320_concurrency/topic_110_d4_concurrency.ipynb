{
 "cells": [
  {
   "cell_type": "markdown",
   "id": "d50539e3d37d3bd1",
   "metadata": {
    "lang": "de",
    "slideshow": {
     "slide_type": "slide"
    }
   },
   "source": [
    "<img src=\"../../img/python-logo-no-text.svg\"\n",
    "     style=\"display:block;margin:auto;width:10%\"/>\n",
    "<br>\n",
    "<div style=\"text-align:center; font-size:200%;\">\n",
    " <b>Nebenläufigkeit</b>\n",
    "</div>\n",
    "<br/>\n",
    "<div style=\"text-align:center;\">Dr. Matthias Hölzl</div>\n",
    "<br/>\n",
    "<div style=\"text-align:center;\">module_320_concurrency/topic_110_d4_concurrency</div>"
   ]
  },
  {
   "cell_type": "markdown",
   "id": "c2b156ce5f867ae3",
   "metadata": {
    "lang": "de",
    "slideshow": {
     "slide_type": "slide"
    }
   },
   "source": [
    "\n",
    "# Nebenläufigkeit\n",
    "\n",
    "Definition von Leslie Lamport (in *Time, Clocks, and the Ordering of Events*, 1976):\n",
    "\n",
    "<blockquote>\n",
    "Zwei Ereignisse sind *nebenläufig*, wenn keines das andere kausal beeinflussen kann.\n",
    "</blockquote>\n",
    "\n",
    "D.h., nebenläufige Ereignisse können in beliebiger Reihenfolge ausgeführt werden."
   ]
  },
  {
   "cell_type": "markdown",
   "id": "b25ce3cab7317feb",
   "metadata": {
    "lang": "de",
    "slideshow": {
     "slide_type": "subslide"
    }
   },
   "source": [
    "\n",
    "## Wann ist Nebenläufigkeit sinnvoll?\n",
    "\n",
    "- Zum Verringern von Latenz und Erhöhen von Durchsatz\n",
    "- Zum Ausnutzen mehrerer Prozessoren/Rechenkerne\n",
    "- Zur Durchführung von Hintergrundaktivitäten"
   ]
  },
  {
   "cell_type": "markdown",
   "id": "cac8c09206e9cd01",
   "metadata": {
    "lang": "de",
    "slideshow": {
     "slide_type": "subslide"
    }
   },
   "source": [
    "\n",
    "Wie kann Nebenläufigkeit realisiert werden?\n",
    "\n",
    "- Interleaving (Zeitscheiben)\n",
    "- Asynchrone Verarbeitung (Sonderfall von Interleaving)\n",
    "- Parallele Verarbeitung"
   ]
  },
  {
   "cell_type": "markdown",
   "id": "85a2cf8b0de705e8",
   "metadata": {
    "lang": "de",
    "slideshow": {
     "slide_type": "subslide"
    }
   },
   "source": [
    "\n",
    "Wie kann Nebenläufigkeit realisiert werden?\n",
    "\n",
    "- Interleaving (Zeitscheiben): Coroutines, ...\n",
    "- Asynchrone Verarbeitung: Event-Loop, Async, ...\n",
    "- Parallele Verarbeitung: Threads, Processes, Futures, ...\n",
    "\n",
    "Aber: In Python bewirken Threads in der Regel eher ein Interleaving als echte\n",
    "parallele Verarbeitung!"
   ]
  },
  {
   "cell_type": "markdown",
   "id": "3f201e75857b1c0f",
   "metadata": {
    "lang": "de",
    "slideshow": {
     "slide_type": "subslide"
    }
   },
   "source": [
    "\n",
    "## Threads\n",
    "\n",
    "Threads werden durch die Klasse `threading.Thread` gekapselt:\n",
    "\n",
    "- `target` Initarg bestimmt die Funktion, die ausgeführt wird\n",
    "- `Thread.start()` startet den Thread\n",
    "- `Thread."
   ]
  },
  {
   "cell_type": "markdown",
   "id": "4ebd1ab87a7124a9",
   "metadata": {
    "lang": "de",
    "slideshow": {
     "slide_type": "subslide"
    }
   },
   "source": [
    "\n",
    "### Hintergrundverarbeitung"
   ]
  },
  {
   "cell_type": "code",
   "execution_count": null,
   "id": "a4d8610b7a25219e",
   "metadata": {},
   "outputs": [],
   "source": [
    "def wait_and_print():\n",
    "    from time import sleep\n",
    "\n",
    "    print(\"Starting...\")\n",
    "    sleep(10)\n",
    "    print(\"Stopping...\")"
   ]
  },
  {
   "cell_type": "code",
   "execution_count": null,
   "id": "02d46ae7d8a026d2",
   "metadata": {},
   "outputs": [],
   "source": [
    "from threading import Thread\n",
    "\n",
    "my_thread = Thread(target=wait_and_print)"
   ]
  },
  {
   "cell_type": "code",
   "execution_count": null,
   "id": "2cad4418b83d1744",
   "metadata": {},
   "outputs": [],
   "source": [
    "my_thread.start()"
   ]
  },
  {
   "cell_type": "code",
   "execution_count": null,
   "id": "f779b836c60996b8",
   "metadata": {},
   "outputs": [],
   "source": [
    "print(\"Hello, from main Thread!\")\n",
    "print(\"My thread is alive:\", my_thread.is_alive())"
   ]
  },
  {
   "cell_type": "code",
   "execution_count": null,
   "id": "5dc4c6eec7b44d89",
   "metadata": {},
   "outputs": [],
   "source": [
    "my_thread.join()\n",
    "print(\"This should run only after my_thread is done.\")\n",
    "print(\"My thread is alive:\", my_thread.is_alive())"
   ]
  },
  {
   "cell_type": "markdown",
   "id": "a8e4567319ea9001",
   "metadata": {
    "lang": "de",
    "slideshow": {
     "slide_type": "subslide"
    }
   },
   "source": [
    "\n",
    "### Verringern von Latenz und Erhöhen von Durchsatz"
   ]
  },
  {
   "cell_type": "code",
   "execution_count": null,
   "id": "2b40662f0423e189",
   "metadata": {},
   "outputs": [],
   "source": [
    "from time import sleep\n",
    "from random import random\n",
    "import timeit\n",
    "\n",
    "\n",
    "def simulate_processing_time(delta_time=0.1):\n",
    "    sleep(random() * delta_time + delta_time)"
   ]
  },
  {
   "cell_type": "code",
   "execution_count": null,
   "id": "a681e84310d97e6a",
   "metadata": {},
   "outputs": [],
   "source": [
    "def process_request(data, results, delta_time=0.1):\n",
    "    simulate_processing_time(delta_time)\n",
    "    # Is this correct?\n",
    "    results.append(f\"->{data}\")"
   ]
  },
  {
   "cell_type": "code",
   "execution_count": null,
   "id": "5934a81ed5120281",
   "metadata": {},
   "outputs": [],
   "source": [
    "def process_requests_sequentially(num_requests):\n",
    "    results = []\n",
    "    for i in range(num_requests):\n",
    "        process_request(i, results)\n",
    "    return results"
   ]
  },
  {
   "cell_type": "code",
   "execution_count": null,
   "id": "0cd959dcfd24ae4b",
   "metadata": {},
   "outputs": [],
   "source": [
    "process_requests_sequentially(5)"
   ]
  },
  {
   "cell_type": "code",
   "execution_count": null,
   "id": "4b5144e66e3aa36e",
   "metadata": {},
   "outputs": [],
   "source": [
    "timeit.timeit(lambda: process_requests_sequentially(5), globals=globals(), number=10)"
   ]
  },
  {
   "cell_type": "code",
   "execution_count": null,
   "id": "ca161e08fc60f12f",
   "metadata": {},
   "outputs": [],
   "source": [
    "timeit.timeit(lambda: process_requests_sequentially(10), globals=globals(), number=10)"
   ]
  },
  {
   "cell_type": "code",
   "execution_count": null,
   "id": "fd020068b0b3e26e",
   "metadata": {},
   "outputs": [],
   "source": [
    "from threading import Thread\n",
    "\n",
    "\n",
    "def process_requests_concurrently(num_requests):\n",
    "    results = []\n",
    "    threads = []\n",
    "    for i in range(num_requests):\n",
    "        thread = Thread(target=lambda: process_request(i, results))\n",
    "        threads.append(thread)\n",
    "        thread.start()\n",
    "    for thread in threads:\n",
    "        thread.join()\n",
    "    return results"
   ]
  },
  {
   "cell_type": "code",
   "execution_count": null,
   "id": "2347569a405670d2",
   "metadata": {},
   "outputs": [],
   "source": [
    "process_requests_concurrently(5)"
   ]
  },
  {
   "cell_type": "code",
   "execution_count": null,
   "id": "3a356d90ca3d90e1",
   "metadata": {},
   "outputs": [],
   "source": [
    "timeit.timeit(lambda: process_requests_concurrently(5), globals=globals(), number=10)"
   ]
  },
  {
   "cell_type": "code",
   "execution_count": null,
   "id": "38845219d9b914e2",
   "metadata": {},
   "outputs": [],
   "source": [
    "timeit.timeit(lambda: process_requests_concurrently(10), globals=globals(), number=10)"
   ]
  },
  {
   "cell_type": "code",
   "execution_count": null,
   "id": "71e7304f4d0c3e4e",
   "metadata": {},
   "outputs": [],
   "source": [
    "timeit.timeit(lambda: process_requests_concurrently(100), globals=globals(), number=10)"
   ]
  },
  {
   "cell_type": "code",
   "execution_count": null,
   "id": "0a8f78ef0d2d9ffb",
   "metadata": {},
   "outputs": [],
   "source": [
    "class MyThread(Thread):\n",
    "    # Note `run()`is overridden, not `start()`!\n",
    "    def run(self) -> None:\n",
    "        # noinspection PyUnresolvedReferences\n",
    "        process_request(*self._args, **self._kwargs)"
   ]
  },
  {
   "cell_type": "code",
   "execution_count": null,
   "id": "0c652f508842ec29",
   "metadata": {},
   "outputs": [],
   "source": [
    "def process_requests_concurrently_2(num_requests):\n",
    "    results = []\n",
    "    threads = [MyThread(args=(i, results)) for i in range(num_requests)]\n",
    "    for thread in threads:\n",
    "        thread.start()\n",
    "    for thread in threads:\n",
    "        thread.join()\n",
    "    return results"
   ]
  },
  {
   "cell_type": "code",
   "execution_count": null,
   "id": "40e20eb6b4eb7541",
   "metadata": {},
   "outputs": [],
   "source": [
    "process_requests_concurrently_2(5)"
   ]
  },
  {
   "cell_type": "code",
   "execution_count": null,
   "id": "45eafd9cf8e3588e",
   "metadata": {},
   "outputs": [],
   "source": [
    "timeit.timeit(lambda: process_requests_concurrently_2(5), globals=globals(), number=10)"
   ]
  },
  {
   "cell_type": "code",
   "execution_count": null,
   "id": "1a5042ee117b9b44",
   "metadata": {},
   "outputs": [],
   "source": [
    "timeit.timeit(lambda: process_requests_concurrently_2(10), globals=globals(), number=10)"
   ]
  },
  {
   "cell_type": "code",
   "execution_count": null,
   "id": "b29da697e9954605",
   "metadata": {},
   "outputs": [],
   "source": [
    "timeit.timeit(\n",
    "    lambda: process_requests_concurrently_2(100), globals=globals(), number=10\n",
    ")"
   ]
  },
  {
   "cell_type": "markdown",
   "id": "d1a640af23ff23c6",
   "metadata": {
    "lang": "de",
    "slideshow": {
     "slide_type": "subslide"
    }
   },
   "source": [
    "\n",
    "### Mehrere Threads und das GIL"
   ]
  },
  {
   "cell_type": "code",
   "execution_count": null,
   "id": "ecf4b632fca7284f",
   "metadata": {},
   "outputs": [],
   "source": [
    "def perform_computation(data, results, num_iterations=1_000_000):\n",
    "    result = 0\n",
    "    for i in range(num_iterations):\n",
    "        result += 1\n",
    "    results.append(f\"->{data}: {result}\")"
   ]
  },
  {
   "cell_type": "code",
   "execution_count": null,
   "id": "bbd0938f11bb17b6",
   "metadata": {},
   "outputs": [],
   "source": [
    "def perform_computations_sequentially(num_requests):\n",
    "    results = []\n",
    "    for i in range(num_requests):\n",
    "        perform_computation(i, results)\n",
    "    return results"
   ]
  },
  {
   "cell_type": "code",
   "execution_count": null,
   "id": "27227f7d863a77bd",
   "metadata": {},
   "outputs": [],
   "source": [
    "perform_computations_sequentially(5)"
   ]
  },
  {
   "cell_type": "code",
   "execution_count": null,
   "id": "38f17b874432699a",
   "metadata": {},
   "outputs": [],
   "source": [
    "timeit.timeit(\n",
    "    lambda: perform_computations_sequentially(5), globals=globals(), number=10\n",
    ")"
   ]
  },
  {
   "cell_type": "code",
   "execution_count": null,
   "id": "d45a9af419518fa9",
   "metadata": {},
   "outputs": [],
   "source": [
    "timeit.timeit(\n",
    "    lambda: perform_computations_sequentially(10), globals=globals(), number=10\n",
    ")"
   ]
  },
  {
   "cell_type": "code",
   "execution_count": null,
   "id": "a29f7ccac97b3d33",
   "metadata": {},
   "outputs": [],
   "source": [
    "def perform_computations_concurrently(num_requests):\n",
    "    results = []\n",
    "    threads = []\n",
    "    for i in range(num_requests):\n",
    "        thread = Thread(target=lambda: perform_computation(i, results))\n",
    "        threads.append(thread)\n",
    "        thread.start()\n",
    "    for thread in threads:\n",
    "        thread.join()\n",
    "    return results"
   ]
  },
  {
   "cell_type": "code",
   "execution_count": null,
   "id": "7178eb27a42cb9e0",
   "metadata": {},
   "outputs": [],
   "source": [
    "perform_computations_concurrently(5)"
   ]
  },
  {
   "cell_type": "code",
   "execution_count": null,
   "id": "342ff65a3a56f438",
   "metadata": {},
   "outputs": [],
   "source": [
    "timeit.timeit(\n",
    "    lambda: perform_computations_concurrently(5), globals=globals(), number=10\n",
    ")"
   ]
  },
  {
   "cell_type": "code",
   "execution_count": null,
   "id": "e8ad59f98cd2af78",
   "metadata": {
    "lines_to_next_cell": 2
   },
   "outputs": [],
   "source": [
    "timeit.timeit(\n",
    "    lambda: perform_computations_concurrently(10), globals=globals(), number=10\n",
    ")"
   ]
  },
  {
   "cell_type": "markdown",
   "id": "eb8c52e2c2a7a65e",
   "metadata": {
    "lang": "de",
    "slideshow": {
     "slide_type": "subslide"
    }
   },
   "source": [
    "\n",
    "In Python wird immer nur *ein* Python Thread ausgeführt, alle anderen Threads\n",
    "existieren zwar, warten aber \"bis sie an der Reihe sind\". Daher bringt Multithreading\n",
    "nur dann Vorteile, wenn z.B. auf Ein/Ausgabe-Operationen gewartet wird, nicht wenn\n",
    "mehrere Berechnungen beschleunigt werden sollen!"
   ]
  },
  {
   "cell_type": "markdown",
   "id": "dccabcd4ebc13c1b",
   "metadata": {
    "lang": "de",
    "slideshow": {
     "slide_type": "subslide"
    }
   },
   "source": [
    "## Workshop\n",
    "\n",
    "- Notebook `workshop_410_concurrency`\n",
    "- Abschnitt \"Parallele Requests\""
   ]
  },
  {
   "cell_type": "markdown",
   "id": "eaa83b6bb94fa1a4",
   "metadata": {
    "lang": "de",
    "slideshow": {
     "slide_type": "subslide"
    }
   },
   "source": [
    "\n",
    "### Synchronisieren von Threads\n",
    "\n",
    "Die nebenläufige Programmierung führt zu Problemen, die es in sequentiellen Programmen\n",
    "nicht gibt:"
   ]
  },
  {
   "cell_type": "code",
   "execution_count": null,
   "id": "c1f1b7cd6fd8f519",
   "metadata": {},
   "outputs": [],
   "source": [
    "def add_ones():\n",
    "    global _result\n",
    "    for i in range(10_000):\n",
    "        tmp = _result + 1\n",
    "        # if random() > 0.99:\n",
    "        #     simulate_processing_time(0)\n",
    "        _result = tmp"
   ]
  },
  {
   "cell_type": "code",
   "execution_count": null,
   "id": "bb28ac453344bb97",
   "metadata": {},
   "outputs": [],
   "source": [
    "from threading import Thread\n",
    "\n",
    "_result = 0\n",
    "_threads = [Thread(target=add_ones) for _ in range(100)]\n",
    "for _thread in _threads:\n",
    "    _thread.start()\n",
    "for _thread in _threads:\n",
    "    _thread.join()\n",
    "print(f\"\\n_result = {_result}\")"
   ]
  },
  {
   "cell_type": "code",
   "execution_count": null,
   "id": "4f067c0d94581d0a",
   "metadata": {},
   "outputs": [],
   "source": [
    "def append_one():\n",
    "    global _result_list\n",
    "    for i in range(100_000):\n",
    "        _result_list.append(1)"
   ]
  },
  {
   "cell_type": "code",
   "execution_count": null,
   "id": "e178d2c7d7d6f3df",
   "metadata": {},
   "outputs": [],
   "source": [
    "from threading import Thread\n",
    "\n",
    "_result_list = []\n",
    "_threads = [Thread(target=append_one) for _ in range(100)]\n",
    "for _thread in _threads:\n",
    "    _thread.start()\n",
    "for _thread in _threads:\n",
    "    _thread.join()\n",
    "print(f\"\\nLength of _result_list: {len(_result_list)}\")"
   ]
  },
  {
   "cell_type": "markdown",
   "id": "18b9c626a3eea774",
   "metadata": {
    "lang": "de",
    "slideshow": {
     "slide_type": "subslide"
    }
   },
   "source": [
    "\n",
    "#### Barrieren (Barriers)\n",
    "\n",
    "Mit Barrieren (Barriers) kann eine fixe Anzahl an Threads synchronisiert werden:"
   ]
  },
  {
   "cell_type": "code",
   "execution_count": null,
   "id": "c52aa45263e3bb4c",
   "metadata": {},
   "outputs": [],
   "source": [
    "from threading import Barrier, Thread\n",
    "\n",
    "_barrier = Barrier(2, timeout=5)"
   ]
  },
  {
   "cell_type": "code",
   "execution_count": null,
   "id": "d1ac789c1fc3f6a0",
   "metadata": {},
   "outputs": [],
   "source": [
    "def server1():\n",
    "    print(\"Server is starting!\")\n",
    "    simulate_processing_time(1.0)\n",
    "    print(\"Server started up!\")\n",
    "    _barrier.wait()\n",
    "    print(\"Server is serving!\")"
   ]
  },
  {
   "cell_type": "code",
   "execution_count": null,
   "id": "18beb53a4abe0d55",
   "metadata": {},
   "outputs": [],
   "source": [
    "def client1():\n",
    "    print(\"Client is starting!\")\n",
    "    _barrier.wait()\n",
    "    print(\"Client is accessing server!\")"
   ]
  },
  {
   "cell_type": "code",
   "execution_count": null,
   "id": "7048e6dc24b210d5",
   "metadata": {},
   "outputs": [],
   "source": [
    "_c = Thread(target=client1)\n",
    "_c.start()"
   ]
  },
  {
   "cell_type": "code",
   "execution_count": null,
   "id": "f882bdd67dff762d",
   "metadata": {},
   "outputs": [],
   "source": [
    "_s = Thread(target=server1)\n",
    "_s.start()"
   ]
  },
  {
   "cell_type": "code",
   "execution_count": null,
   "id": "edb4de973b5849e3",
   "metadata": {},
   "outputs": [],
   "source": [
    "_c.join()\n",
    "_s.join()"
   ]
  },
  {
   "cell_type": "code",
   "execution_count": null,
   "id": "5aa26bc0fa0e7baf",
   "metadata": {},
   "outputs": [],
   "source": [
    "_s = Thread(target=server1)\n",
    "_s.start()"
   ]
  },
  {
   "cell_type": "code",
   "execution_count": null,
   "id": "9de4fbd5c6e0db7f",
   "metadata": {},
   "outputs": [],
   "source": [
    "_c = Thread(target=client1)\n",
    "_c.start()"
   ]
  },
  {
   "cell_type": "code",
   "execution_count": null,
   "id": "09a293eeebf436b2",
   "metadata": {},
   "outputs": [],
   "source": [
    "_s.join()\n",
    "_c.join()"
   ]
  },
  {
   "cell_type": "markdown",
   "id": "2d3463095b55c7d6",
   "metadata": {
    "lang": "de",
    "slideshow": {
     "slide_type": "subslide"
    }
   },
   "source": [
    "\n",
    "#### Locks\n",
    "\n",
    "Locks sind ein low-level Synchronisierungsmechanismus, mit dem man erzwingen kann,\n",
    "dass nur ein Thread eine Resource nutzt:"
   ]
  },
  {
   "cell_type": "code",
   "execution_count": null,
   "id": "a73b5979e1b213a1",
   "metadata": {},
   "outputs": [],
   "source": [
    "from threading import Lock, Thread\n",
    "\n",
    "_result_lock = Lock()"
   ]
  },
  {
   "cell_type": "code",
   "execution_count": null,
   "id": "c7a0ee6f435f4702",
   "metadata": {},
   "outputs": [],
   "source": [
    "def add_ones_locked():\n",
    "    global _result\n",
    "    for i in range(10_000):\n",
    "        with _result_lock:\n",
    "            tmp = _result + 1\n",
    "            if random() > 0.99:\n",
    "                simulate_processing_time(0)\n",
    "            _result = tmp"
   ]
  },
  {
   "cell_type": "code",
   "execution_count": null,
   "id": "de2549fece645bc9",
   "metadata": {},
   "outputs": [],
   "source": [
    "_result = 0\n",
    "_threads = [Thread(target=add_ones_locked) for _ in range(100)]\n",
    "for _thread in _threads:\n",
    "    _thread.start()\n",
    "for _thread in _threads:\n",
    "    _thread.join()\n",
    "print(f\"\\n_result = {_result}\")"
   ]
  },
  {
   "cell_type": "code",
   "execution_count": null,
   "id": "a30d394f04eaa9fd",
   "metadata": {},
   "outputs": [],
   "source": [
    "def server2():\n",
    "    _barrier.wait()\n",
    "    print(\"Server is serving\")\n",
    "    print(\"Server is still serving\")\n",
    "    print(\"Server is serving even more data\")"
   ]
  },
  {
   "cell_type": "code",
   "execution_count": null,
   "id": "f9ec30a27e732a3c",
   "metadata": {},
   "outputs": [],
   "source": [
    "def client2():\n",
    "    _barrier.wait()\n",
    "    print(\"Client is accessing server\")\n",
    "    print(\"Client is still accessing server\")\n",
    "    print(\"Client is taking really long to access the server\")"
   ]
  },
  {
   "cell_type": "code",
   "execution_count": null,
   "id": "46580f0216d3f286",
   "metadata": {},
   "outputs": [],
   "source": [
    "def run_tasks(task1, task2):\n",
    "    thread1 = Thread(target=task2)\n",
    "    thread1.start()\n",
    "\n",
    "    thread2 = Thread(target=task1)\n",
    "    thread2.start()\n",
    "\n",
    "    thread1.join()\n",
    "    thread2.join()"
   ]
  },
  {
   "cell_type": "code",
   "execution_count": null,
   "id": "dd62b8ff424f4187",
   "metadata": {},
   "outputs": [],
   "source": [
    "run_tasks(server2, client2)"
   ]
  },
  {
   "cell_type": "code",
   "execution_count": null,
   "id": "998655bfe2630ae2",
   "metadata": {},
   "outputs": [],
   "source": [
    "from threading import Lock\n",
    "\n",
    "_print_lock = Lock()"
   ]
  },
  {
   "cell_type": "code",
   "execution_count": null,
   "id": "2ca0ba305a5f43ed",
   "metadata": {},
   "outputs": [],
   "source": [
    "def server3():\n",
    "    _barrier.wait()\n",
    "    try:\n",
    "        _print_lock.acquire()\n",
    "        simulate_processing_time()\n",
    "        print(\"Server is serving\")\n",
    "        print(\"Server is still serving\")\n",
    "        print(\"Server is serving even more data\")\n",
    "    finally:\n",
    "        _print_lock.release()"
   ]
  },
  {
   "cell_type": "code",
   "execution_count": null,
   "id": "4d9631772c21bd26",
   "metadata": {},
   "outputs": [],
   "source": [
    "def client3():\n",
    "    _barrier.wait()\n",
    "    if _print_lock.acquire(blocking=False):\n",
    "        print(\"Client is accessing server\")\n",
    "        print(\"Client is still accessing server\")\n",
    "        print(\"Client is taking really long to access the server\")\n",
    "        _print_lock.release()\n",
    "    else:\n",
    "        print(\"WARNING: Could not acquire lock!!!\")"
   ]
  },
  {
   "cell_type": "code",
   "execution_count": null,
   "id": "835f669b852ed791",
   "metadata": {},
   "outputs": [],
   "source": [
    "run_tasks(server3, client3)"
   ]
  },
  {
   "cell_type": "code",
   "execution_count": null,
   "id": "01488d2469dca35b",
   "metadata": {},
   "outputs": [],
   "source": [
    "run_tasks(client3, server3)"
   ]
  },
  {
   "cell_type": "code",
   "execution_count": null,
   "id": "81316693900a97c7",
   "metadata": {},
   "outputs": [],
   "source": [
    "def server4():\n",
    "    _barrier.wait()\n",
    "    with _print_lock:\n",
    "        print(\"Server is serving\")\n",
    "        print(\"Server is still serving\")\n",
    "        print(\"Server is serving even more data\")"
   ]
  },
  {
   "cell_type": "code",
   "execution_count": null,
   "id": "81ca21415216300f",
   "metadata": {},
   "outputs": [],
   "source": [
    "def client4():\n",
    "    _barrier.wait()\n",
    "    with _print_lock:\n",
    "        print(\"Client is accessing server\")\n",
    "        print(\"Client is still accessing server\")\n",
    "        print(\"Client is taking really long to access the server\")"
   ]
  },
  {
   "cell_type": "code",
   "execution_count": null,
   "id": "6822a6be5e509d57",
   "metadata": {},
   "outputs": [],
   "source": [
    "run_tasks(server4, client4)"
   ]
  },
  {
   "cell_type": "code",
   "execution_count": null,
   "id": "3baec283e4ea574f",
   "metadata": {},
   "outputs": [],
   "source": [
    "run_tasks(client4, server4)"
   ]
  },
  {
   "cell_type": "markdown",
   "id": "1206182d2796e458",
   "metadata": {
    "lang": "de",
    "slideshow": {
     "slide_type": "subslide"
    }
   },
   "source": [
    "\n",
    "#### Condition Variables\n",
    "\n",
    "Condition Variables sind ein Synchronisierungsmechanismus, der auf Locks basiert, aber\n",
    "einen zusätzlichen Mechanismus zur Koordination von Threads bietet: `notify()` (und\n",
    "`notify_all()`):\n",
    "\n",
    "Typischerweise verwendet man Condition Variables, wenn sich mehrere Threads einen\n",
    "gemeinsamen Zustand teilen und sowohl lesend als auch schreibend darauf zugreifen\n",
    "müssen:\n",
    "\n",
    "- Threads, die den Zustand lesen wollen, verwenden `wait()` und warten damit bis der\n",
    "  gewünschte Zustand erreicht ist\n",
    "- Threads, die den Zustand schreiben, verwenden `notify()` oder `notify_all()` um\n",
    "  eventuell wartende Threads über die Änderung zu benachrichtigen"
   ]
  },
  {
   "cell_type": "code",
   "execution_count": null,
   "id": "8e7dc711ecb35f69",
   "metadata": {},
   "outputs": [],
   "source": [
    "from threading import Condition, Thread"
   ]
  },
  {
   "cell_type": "code",
   "execution_count": null,
   "id": "4a46e93e1a2744d5",
   "metadata": {},
   "outputs": [],
   "source": [
    "def consumer(consumer_id, cv, items):\n",
    "    print(f\"Consumer {consumer_id} started...\", flush=True)\n",
    "    with cv:\n",
    "        print(f\"Consumer {consumer_id} waiting...\", flush=True)\n",
    "        wait_succeeded = True\n",
    "        while True:\n",
    "            while not items and wait_succeeded:\n",
    "                wait_succeeded = cv.wait(timeout=1.0)\n",
    "            if not wait_succeeded:\n",
    "                print(f\"Consumer {consumer_id} timed out...\", flush=True)\n",
    "                break\n",
    "            print(f\"Consumer {consumer_id} starts consuming...\", flush=True)\n",
    "            item = items.pop()\n",
    "            simulate_processing_time(0.1)\n",
    "            print(f\"Consumer {consumer_id} ends consuming item {item}...\", flush=True)"
   ]
  },
  {
   "cell_type": "code",
   "execution_count": null,
   "id": "ae0b96ecad3e49ef",
   "metadata": {},
   "outputs": [],
   "source": [
    "def producer(producer_id, cv, num_items, items):\n",
    "    from random import randint\n",
    "\n",
    "    print(f\"Producer {producer_id} started...\", flush=True)\n",
    "    for _ in range(num_items):\n",
    "        with cv:\n",
    "            item = randint(100, 999)\n",
    "            print(f\"Producer {producer_id} is producing item {item}\", flush=True)\n",
    "            items.append(item)\n",
    "            cv.notify()\n",
    "            simulate_processing_time(0.05)"
   ]
  },
  {
   "cell_type": "code",
   "execution_count": null,
   "id": "add0c98cc90b195a",
   "metadata": {},
   "outputs": [],
   "source": [
    "def run_producer_consumer(num_items, num_producers=1, num_consumers=1):\n",
    "    threads = []\n",
    "    items = []\n",
    "    cv = Condition()\n",
    "    for i in range(num_consumers):\n",
    "        threads.append(Thread(target=consumer, args=(i + 1, cv, items)))\n",
    "    for i in range(num_producers):\n",
    "        threads.append(Thread(target=producer, args=(i + 1, cv, num_items, items)))\n",
    "    for thread in threads:\n",
    "        thread.start()\n",
    "    for thread in threads:\n",
    "        thread.join()"
   ]
  },
  {
   "cell_type": "code",
   "execution_count": null,
   "id": "8affb6d05e701909",
   "metadata": {},
   "outputs": [],
   "source": [
    "run_producer_consumer(2)"
   ]
  },
  {
   "cell_type": "code",
   "execution_count": null,
   "id": "4d0e5733d9643665",
   "metadata": {},
   "outputs": [],
   "source": [
    "run_producer_consumer(6, num_producers=1, num_consumers=3)"
   ]
  },
  {
   "cell_type": "code",
   "execution_count": null,
   "id": "5ebc18d34f4eae06",
   "metadata": {
    "lines_to_next_cell": 2
   },
   "outputs": [],
   "source": [
    "run_producer_consumer(4, num_producers=3, num_consumers=4)"
   ]
  },
  {
   "cell_type": "code",
   "execution_count": null,
   "id": "2b80856a429a489e",
   "metadata": {},
   "outputs": [],
   "source": [
    "from queue import Queue, Empty"
   ]
  },
  {
   "cell_type": "code",
   "execution_count": null,
   "id": "15ce7c15e648cbd7",
   "metadata": {},
   "outputs": [],
   "source": [
    "def producer(producer_id, q, num_items):\n",
    "    print(f\"Producer {producer_id} started...\")\n",
    "    for i in range(num_items):\n",
    "        print(f\"Producer {producer_id} produced item {producer_id}/{i}...\")\n",
    "        q.put(f\"Item {producer_id}/{i}\")\n",
    "        simulate_processing_time(0.1)"
   ]
  },
  {
   "cell_type": "code",
   "execution_count": null,
   "id": "dfcdbed260c554ea",
   "metadata": {},
   "outputs": [],
   "source": [
    "def consumer(consumer_id, q, timeout=1.0):\n",
    "    print(f\"Consumer {consumer_id} started...\")\n",
    "    try:\n",
    "        while True:\n",
    "            item = q.get(block=True, timeout=timeout)\n",
    "            print(f\"Consumer {consumer_id} starting processing of item {item}...\")\n",
    "            simulate_processing_time(0.2)\n",
    "            print(f\"Consumer {consumer_id} done processing item {item}...\")\n",
    "    except Empty:\n",
    "        print(f\"Consumer {consumer_id} timed out...\")"
   ]
  },
  {
   "cell_type": "code",
   "execution_count": null,
   "id": "3f55019b12ad81a2",
   "metadata": {},
   "outputs": [],
   "source": [
    "from threading import Thread\n",
    "\n",
    "\n",
    "def run_producer_consumer_queue(num_items, num_producers=1, num_consumers=1):\n",
    "    processes = []\n",
    "    q = Queue()\n",
    "    for i in range(num_consumers):\n",
    "        processes.append(Thread(target=consumer, args=(i + 1, q)))\n",
    "    for i in range(num_producers):\n",
    "        processes.append(Thread(target=producer, args=(i + 1, q, num_items)))\n",
    "    for process in processes:\n",
    "        process.start()\n",
    "    for process in processes:\n",
    "        process.join()"
   ]
  },
  {
   "cell_type": "code",
   "execution_count": null,
   "id": "849fc54643582fca",
   "metadata": {},
   "outputs": [],
   "source": [
    "run_producer_consumer_queue(4)"
   ]
  },
  {
   "cell_type": "code",
   "execution_count": null,
   "id": "c41442fb75c740ed",
   "metadata": {},
   "outputs": [],
   "source": [
    "run_producer_consumer_queue(6, num_producers=1, num_consumers=3)"
   ]
  },
  {
   "cell_type": "code",
   "execution_count": null,
   "id": "9b59f4eab56e5a0a",
   "metadata": {},
   "outputs": [],
   "source": [
    "run_producer_consumer_queue(2, num_producers=4, num_consumers=3)"
   ]
  }
 ],
 "metadata": {},
 "nbformat": 4,
 "nbformat_minor": 5
}
