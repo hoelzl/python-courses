{
 "cells": [
  {
   "cell_type": "markdown",
   "id": "eb07bb66fe1aa45f",
   "metadata": {
    "lang": "de",
    "slideshow": {
     "slide_type": "slide"
    }
   },
   "source": [
    "<img src=\"../../img/python-logo-no-text.svg\"\n",
    "     style=\"display:block;margin:auto;width:10%\"/>\n",
    "<br>\n",
    "<div style=\"text-align:center; font-size:200%;\">\n",
    "  <b>Multiprocessing (Part 1)</b>\n",
    "</div>\n",
    "<br/>\n",
    "<div style=\"text-align:center;\">Dr. Matthias Hölzl</div>\n",
    "<br/>\n",
    "<div style=\"text-align:center;\">module_320_concurrency/topic_120_multiprocessing_part1</div>"
   ]
  },
  {
   "cell_type": "markdown",
   "id": "29429d2814be9423",
   "metadata": {
    "lang": "de",
    "slideshow": {
     "slide_type": "slide"
    }
   },
   "source": [
    "\n",
    "# Multiprocessing\n",
    "\n",
    "Beim Multiprocessing werden mehrere Python-Interpreter parallel ausgeführt, so dass\n",
    "mehrere Prozessor-Kerne genutzt werden können, da die verschiedenen Prozesse nicht\n",
    "durch ein GIL synchronisiert werden.\n",
    "\n",
    "Allerdings wird die verwendung von gemeinsamen Daten zwischen den einzelnen Prozessen\n",
    "schwieriger (und potenziell ein Performance-Bottleneck)."
   ]
  },
  {
   "cell_type": "markdown",
   "id": "0837a3ac1cba75b0",
   "metadata": {
    "lang": "de",
    "slideshow": {
     "slide_type": "slide"
    }
   },
   "source": [
    "\n",
    "Beim Multiprocessing gibt es einige Fallstricke; die [Programming\n",
    "Guidelines](https://docs.python.org/3/library/multiprocessing.html#programming-guidelines)\n",
    "in der Python Dokumentation sind hilfreich um sie zu vermeiden."
   ]
  },
  {
   "cell_type": "code",
   "execution_count": null,
   "id": "98e0cbeb6cfd05ce",
   "metadata": {},
   "outputs": [],
   "source": [
    "from os import getpid\n",
    "from multiprocessing import Process\n",
    "\n",
    "\n",
    "def print_message(task_id):\n",
    "    print(f\"Hello, from task {task_id}. PID is {getpid()}.\", flush=True)"
   ]
  },
  {
   "cell_type": "code",
   "execution_count": null,
   "id": "f7ec9ac32bd3ce33",
   "metadata": {},
   "outputs": [],
   "source": [
    "from threading import Thread\n",
    "\n",
    "\n",
    "def run_threads():\n",
    "    threads = [Thread(target=print_message, args=(i,)) for i in range(5)]\n",
    "    for thread in threads:\n",
    "        thread.start()\n",
    "    for thread in threads:\n",
    "        thread.join()"
   ]
  },
  {
   "cell_type": "code",
   "execution_count": null,
   "id": "e09c171c776a84b9",
   "metadata": {},
   "outputs": [],
   "source": [
    "if __name__ == \"__main__\":\n",
    "    run_threads()"
   ]
  },
  {
   "cell_type": "code",
   "execution_count": null,
   "id": "213e3426bb3e8a0b",
   "metadata": {},
   "outputs": [],
   "source": [
    "def run_processes():\n",
    "    processes = [Process(target=print_message, args=(i,)) for i in range(5)]\n",
    "    for process in processes:\n",
    "        process.start()\n",
    "    for process in processes:\n",
    "        process.join()"
   ]
  },
  {
   "cell_type": "code",
   "execution_count": null,
   "id": "e092870081883e46",
   "metadata": {},
   "outputs": [],
   "source": [
    "if __name__ == \"__main__\":\n",
    "    run_processes()"
   ]
  },
  {
   "cell_type": "code",
   "execution_count": null,
   "id": "6b4e03423667dbb7",
   "metadata": {},
   "outputs": [],
   "source": []
  }
 ],
 "metadata": {
  "kernelspec": {
   "display_name": "Python 3 (ipykernel)",
   "language": "python",
   "name": "python3"
  }
 },
 "nbformat": 4,
 "nbformat_minor": 5
}
