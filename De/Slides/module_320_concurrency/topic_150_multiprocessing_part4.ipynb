{
 "cells": [
  {
   "cell_type": "markdown",
   "id": "d9b0c48025d4b1af",
   "metadata": {
    "lang": "de",
    "slideshow": {
     "slide_type": "slide"
    }
   },
   "source": [
    "<img src=\"../../img/python-logo-no-text.svg\"\n",
    "     style=\"display:block;margin:auto;width:10%\"/>\n",
    "<br>\n",
    "<div style=\"text-align:center; font-size:200%;\">\n",
    "  <b>Multiprocessing (Part 4)</b>\n",
    "</div>\n",
    "<br/>\n",
    "<div style=\"text-align:center;\">Dr. Matthias Hölzl</div>\n",
    "<br/>\n",
    "<div style=\"text-align:center;\">module_320_concurrency/topic_150_multiprocessing_part4</div>"
   ]
  },
  {
   "cell_type": "code",
   "execution_count": null,
   "id": "049c46ac6686276e",
   "metadata": {},
   "outputs": [],
   "source": [
    "def perform_computation(x):\n",
    "    return x + 1"
   ]
  },
  {
   "cell_type": "code",
   "execution_count": null,
   "id": "cc7c19c3fa086326",
   "metadata": {},
   "outputs": [],
   "source": [
    "[perform_computation(x) for x in [1, 2, 3]]"
   ]
  },
  {
   "cell_type": "code",
   "execution_count": null,
   "id": "638285fe857d19ad",
   "metadata": {},
   "outputs": [],
   "source": [
    "list(map(perform_computation, [1, 2, 3]))"
   ]
  },
  {
   "cell_type": "code",
   "execution_count": null,
   "id": "5fa78f3ecec3c623",
   "metadata": {},
   "outputs": [],
   "source": [
    "from multiprocessing.dummy import Pool"
   ]
  },
  {
   "cell_type": "code",
   "execution_count": null,
   "id": "d8d873151eb25aa7",
   "metadata": {},
   "outputs": [],
   "source": [
    "with Pool(processes=4) as pool:\n",
    "    print(pool.map(perform_computation, range(1, 20), chunksize=5))"
   ]
  },
  {
   "cell_type": "code",
   "execution_count": null,
   "id": "84578ad0b6c7965d",
   "metadata": {},
   "outputs": [],
   "source": [
    "with Pool() as pool:\n",
    "    res = pool.map_async(perform_computation, range(1, 20))\n",
    "    print(\"Result object:\", res)\n",
    "    print(\"Result value: \", res.get(timeout=0.5))"
   ]
  },
  {
   "cell_type": "code",
   "execution_count": null,
   "id": "9a59d0572111fffe",
   "metadata": {},
   "outputs": [],
   "source": [
    "with Pool() as pool:\n",
    "    # Performs computation in arbitrary order\n",
    "    print(list(pool.imap_unordered(perform_computation, range(1, 20), chunksize=5)))"
   ]
  },
  {
   "cell_type": "code",
   "execution_count": null,
   "id": "0c6a7d0c3dcd4729",
   "metadata": {},
   "outputs": [],
   "source": [
    "with Pool() as pool:\n",
    "    res = pool.apply_async(perform_computation, args=(10,))\n",
    "    print(\"Result object:\", res)\n",
    "    print(\"Result value: \", res.get(timeout=1.0))"
   ]
  },
  {
   "cell_type": "code",
   "execution_count": null,
   "id": "20933b4d177e7844",
   "metadata": {},
   "outputs": [],
   "source": [
    "from operator import add"
   ]
  },
  {
   "cell_type": "code",
   "execution_count": null,
   "id": "1e8f63cfadf950e3",
   "metadata": {},
   "outputs": [],
   "source": [
    "with Pool() as pool:\n",
    "    print(pool.starmap(add, [[1, 2], [3, 4]]))"
   ]
  },
  {
   "cell_type": "code",
   "execution_count": null,
   "id": "93793c6da09d925e",
   "metadata": {
    "lines_to_next_cell": 2
   },
   "outputs": [],
   "source": [
    "from time import sleep\n",
    "from multiprocessing import TimeoutError\n",
    "\n",
    "with Pool() as pool:\n",
    "    res = pool.apply_async(sleep, args=(10.0, ))\n",
    "    try:\n",
    "        print(\"Result:\", res.get(timeout=0.5))\n",
    "    except TimeoutError:\n",
    "        print(\"Got a timeout.\")"
   ]
  },
  {
   "cell_type": "code",
   "execution_count": null,
   "id": "2cb001f3025f60d6",
   "metadata": {},
   "outputs": [],
   "source": [
    "from time import sleep\n",
    "from random import random\n",
    "\n",
    "\n",
    "def simulate_processing_time(delta_time=0.1):\n",
    "    sleep(random() * delta_time + delta_time)"
   ]
  },
  {
   "cell_type": "code",
   "execution_count": null,
   "id": "d1f2ba1dfad40357",
   "metadata": {},
   "outputs": [],
   "source": [
    "from multiprocessing.dummy import Queue, Process\n",
    "from queue import Empty"
   ]
  },
  {
   "cell_type": "code",
   "execution_count": null,
   "id": "15ce7c15e648cbd7",
   "metadata": {},
   "outputs": [],
   "source": [
    "def producer(producer_id, q, num_items):\n",
    "    print(f\"Producer {producer_id} started...\")\n",
    "    for i in range(num_items):\n",
    "        print(f\"Producer {producer_id} produced item {producer_id}/{i}...\")\n",
    "        q.put(f\"Item {producer_id}/{i}\")\n",
    "        simulate_processing_time(0.1)"
   ]
  },
  {
   "cell_type": "code",
   "execution_count": null,
   "id": "dfcdbed260c554ea",
   "metadata": {},
   "outputs": [],
   "source": [
    "def consumer(consumer_id, q, timeout=1.0):\n",
    "    print(f\"Consumer {consumer_id} started...\")\n",
    "    try:\n",
    "        while True:\n",
    "            item = q.get(block=True, timeout=timeout)\n",
    "            print(f\"Consumer {consumer_id} starting processing of item {item}...\")\n",
    "            simulate_processing_time(0.2)\n",
    "            print(f\"Consumer {consumer_id} done processing item {item}...\")\n",
    "    except Empty:\n",
    "        print(f\"Consumer {consumer_id} timed out...\")"
   ]
  },
  {
   "cell_type": "code",
   "execution_count": null,
   "id": "3413eb4e032393d5",
   "metadata": {},
   "outputs": [],
   "source": [
    "def run_producer_consumer_queue(num_items, num_producers=1, num_consumers=1):\n",
    "    processes = []\n",
    "    q = Queue()\n",
    "    for i in range(num_consumers):\n",
    "        processes.append(Process(target=consumer, args=(i + 1, q)))\n",
    "    for i in range(num_producers):\n",
    "        processes.append(Process(target=producer, args=(i + 1, q, num_items)))\n",
    "    for process in processes:\n",
    "        process.start()\n",
    "    for process in processes:\n",
    "        process.join()"
   ]
  },
  {
   "cell_type": "code",
   "execution_count": null,
   "id": "849fc54643582fca",
   "metadata": {},
   "outputs": [],
   "source": [
    "run_producer_consumer_queue(4)"
   ]
  },
  {
   "cell_type": "code",
   "execution_count": null,
   "id": "c41442fb75c740ed",
   "metadata": {},
   "outputs": [],
   "source": [
    "run_producer_consumer_queue(6, num_producers=1, num_consumers=3)"
   ]
  },
  {
   "cell_type": "code",
   "execution_count": null,
   "id": "9b59f4eab56e5a0a",
   "metadata": {},
   "outputs": [],
   "source": [
    "run_producer_consumer_queue(2, num_producers=4, num_consumers=3)"
   ]
  }
 ],
 "metadata": {
  "kernelspec": {
   "display_name": "Python 3 (ipykernel)",
   "language": "python",
   "name": "python3"
  }
 },
 "nbformat": 4,
 "nbformat_minor": 5
}
