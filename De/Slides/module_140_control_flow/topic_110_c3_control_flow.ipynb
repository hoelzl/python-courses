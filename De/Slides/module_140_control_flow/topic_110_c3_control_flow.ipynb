{
 "cells": [
  {
   "cell_type": "markdown",
   "id": "1b94cd48fd5342a0",
   "metadata": {
    "lang": "de",
    "slideshow": {
     "slide_type": "slide"
    }
   },
   "source": [
    "<img src=\"../../img/python-logo-no-text.svg\"\n",
    "     style=\"display:block;margin:auto;width:10%\"/>\n",
    "<br>\n",
    "<div style=\"text-align:center; font-size:200%;\">\n",
    " <b>Schnelldurchlauf: Kontrollfluss</b>\n",
    "</div>\n",
    "<br/>\n",
    "<div style=\"text-align:center;\">Dr. Matthias Hölzl</div>\n",
    "<br/>\n",
    "<div style=\"text-align:center;\">module_140_control_flow/topic_110_c3_control_flow</div>"
   ]
  },
  {
   "cell_type": "markdown",
   "id": "40ff8483769b4476",
   "metadata": {
    "lang": "de",
    "slideshow": {
     "slide_type": "slide"
    }
   },
   "source": [
    "## Boolesche Werte und `if`-Anweisungen"
   ]
  },
  {
   "cell_type": "code",
   "execution_count": null,
   "id": "4db77b58d3af9abd",
   "metadata": {},
   "outputs": [],
   "source": [
    "True"
   ]
  },
  {
   "cell_type": "code",
   "execution_count": null,
   "id": "bc72dd4509f8e772",
   "metadata": {},
   "outputs": [],
   "source": [
    "False"
   ]
  },
  {
   "cell_type": "code",
   "execution_count": null,
   "id": "febe538c89a3ed25",
   "metadata": {},
   "outputs": [],
   "source": [
    "value = False"
   ]
  },
  {
   "cell_type": "code",
   "execution_count": null,
   "id": "2ff94ae2d1a4c389",
   "metadata": {},
   "outputs": [],
   "source": [
    "if value:\n",
    "    print(\"Wahr\")\n",
    "else:\n",
    "    print(\"Falsch\")"
   ]
  },
  {
   "cell_type": "code",
   "execution_count": null,
   "id": "9bd07ea2d2a2cde6",
   "metadata": {
    "slideshow": {
     "slide_type": "subslide"
    },
    "tags": [
     "keep"
    ]
   },
   "outputs": [],
   "source": [
    "def print_size(n):\n",
    "    if n < 10:\n",
    "        print(\"Very small\")\n",
    "    elif n < 15:\n",
    "        print(\"Pretty small\")\n",
    "    elif n < 30:\n",
    "        print(\"Average\")\n",
    "    else:\n",
    "        print(\"Large\")"
   ]
  },
  {
   "cell_type": "code",
   "execution_count": null,
   "id": "2071d2007d274c63",
   "metadata": {
    "lines_to_next_cell": 2,
    "slideshow": {
     "slide_type": "subslide"
    },
    "tags": [
     "keep"
    ]
   },
   "outputs": [],
   "source": [
    "print_size(1)\n",
    "print_size(10)\n",
    "print_size(20)\n",
    "print_size(100)"
   ]
  },
  {
   "cell_type": "markdown",
   "id": "1da36992273a25d8",
   "metadata": {
    "lang": "de",
    "lines_to_next_cell": 2,
    "slideshow": {
     "slide_type": "subslide"
    }
   },
   "source": [
    "### Mini-Workshop\n",
    "\n",
    "Schreiben Sie eine Funktion `fits_in_line(text: str, line_length: int = 72)`,\n",
    "die `True` oder `False` zurückgibt, je nachdem ob `text` in einer Zeile der\n",
    "Länge `line_length` ausgegeben werden kann oder nicht:\n",
    "```python\n",
    ">>> fits_in_line(\"Hallo\")\n",
    "True\n",
    ">>> fits_in_line(\"Hallo\", 3)\n",
    "False\n",
    ">>>\n",
    "```\n",
    "\n",
    "Schreiben Sie eine Funktion `print_line(text: str, line_length:int = 72)`,\n",
    "die\n",
    "* `text` auf dem Bildschirm ausgibt, falls das in einer Zeile der Länge\n",
    "  `line_length` möglich ist\n",
    "* `...` ausgibt, falls das nicht möglich ist.\n",
    "\n",
    "```python\n",
    ">>> print_line(\"Hallo\")\n",
    "Hallo\n",
    ">>> print_line(\"Hallo\", 3)\n",
    "...\n",
    ">>>\n",
    "```"
   ]
  },
  {
   "cell_type": "code",
   "execution_count": null,
   "id": "8f9b1bc79bae8aeb",
   "metadata": {},
   "outputs": [],
   "source": [
    "def fits_in_line(text: str, line_length: int = 72):\n",
    "    return len(text) <= line_length"
   ]
  },
  {
   "cell_type": "code",
   "execution_count": null,
   "id": "b5e05e09980dc1d3",
   "metadata": {},
   "outputs": [],
   "source": [
    "fits_in_line(\"Hallo\")"
   ]
  },
  {
   "cell_type": "code",
   "execution_count": null,
   "id": "0466f79201cdfd2b",
   "metadata": {},
   "outputs": [],
   "source": [
    "fits_in_line(\"Hallo\", 3)"
   ]
  },
  {
   "cell_type": "code",
   "execution_count": null,
   "id": "2be11964dfdebbc7",
   "metadata": {},
   "outputs": [],
   "source": [
    "def print_line(text: str, line_length: int = 72):\n",
    "    if fits_in_line(text, line_length=line_length):\n",
    "        print(text)\n",
    "    else:\n",
    "        print(\"...\")"
   ]
  },
  {
   "cell_type": "code",
   "execution_count": null,
   "id": "bd09713845b6628b",
   "metadata": {},
   "outputs": [],
   "source": [
    "print_line(\"Hallo\")"
   ]
  },
  {
   "cell_type": "code",
   "execution_count": null,
   "id": "389aca8b6c1777a5",
   "metadata": {},
   "outputs": [],
   "source": [
    "print_line(\"Hallo\", 3)"
   ]
  }
 ],
 "metadata": {},
 "nbformat": 4,
 "nbformat_minor": 5
}
