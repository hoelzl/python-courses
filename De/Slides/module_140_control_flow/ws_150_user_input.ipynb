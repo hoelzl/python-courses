{
 "cells": [
  {
   "cell_type": "code",
   "execution_count": null,
   "id": "6b4e03423667dbb7",
   "metadata": {},
   "outputs": [],
   "source": []
  },
  {
   "cell_type": "markdown",
   "id": "db43fcc0c8025c51",
   "metadata": {
    "lang": "de"
   },
   "source": [
    "# Umrechnung in Meilen\n",
    "\n",
    "Schreiben Sie eine Funktion `konvertiere_km_nach_meilen(km)` die den Wert\n",
    "`km` von Kilometer in Meilen umrechnet (d.h. die den Wert in Meilen\n",
    "zurückgibt).\n",
    "\n",
    "*Hinweis:*\n",
    "- Ein Kilometer entspricht $0,621371$ Meilen"
   ]
  },
  {
   "cell_type": "code",
   "execution_count": null,
   "id": "1a4b7d4ab6c73be0",
   "metadata": {
    "lang": "de"
   },
   "outputs": [],
   "source": [
    "def konvertiere_km_nach_meilen(km):\n",
    "    return km * 0.621371"
   ]
  },
  {
   "cell_type": "markdown",
   "id": "4e213d3b3c1d25b1",
   "metadata": {
    "lang": "de"
   },
   "source": [
    "Testen Sie `konvertiere_km_nach_meilen(km)` für 1 und 5 km."
   ]
  },
  {
   "cell_type": "code",
   "execution_count": null,
   "id": "65b156018b2d9778",
   "metadata": {
    "lang": "de"
   },
   "outputs": [],
   "source": [
    "import math\n",
    "\n",
    "assert math.isclose(konvertiere_km_nach_meilen(1), 0.621371)"
   ]
  },
  {
   "cell_type": "code",
   "execution_count": null,
   "id": "398561809fcfb205",
   "metadata": {
    "lang": "de"
   },
   "outputs": [],
   "source": [
    "assert math.isclose(konvertiere_km_nach_meilen(5), 3.107, abs_tol=0.001)"
   ]
  },
  {
   "cell_type": "markdown",
   "id": "ba84131ee0390b32",
   "metadata": {
    "lang": "de"
   },
   "source": [
    "\n",
    "Schreiben Sie eine Funktion `meilen_app()`, die eine Länge in Kilometern\n",
    "einliest und die äquivalente Entfernung in Meilen ausgibt. Wenn die Eingabe ein leerer String ist, soll der String `Bitte geben Sie eine gültige Entfernung in km ein.` ausgegeben werden.\n",
    "\n",
    "*Hinweise*\n",
    "- Ein String kann mit `float()` in einen Float-Wert umgewandelt werden."
   ]
  },
  {
   "cell_type": "code",
   "execution_count": null,
   "id": "860e642b15a76059",
   "metadata": {
    "lang": "de"
   },
   "outputs": [],
   "source": [
    "def meilen_app():\n",
    "    km = input(\"Bitte geben Sie eine Entfernung in km ein: \")\n",
    "    if km != \"\":\n",
    "        meilen = konvertiere_km_nach_meilen(float(km))\n",
    "        print(f\"{km} km sind {meilen} Meilen.\")\n",
    "    else:\n",
    "        print(\"Bitte geben Sie eine gültige Entfernung in km ein.\")"
   ]
  },
  {
   "cell_type": "code",
   "execution_count": null,
   "id": "cab360aeb5a33814",
   "metadata": {
    "lang": "de",
    "lines_to_next_cell": 1
   },
   "outputs": [],
   "source": [
    "meilen_app()"
   ]
  },
  {
   "cell_type": "markdown",
   "id": "1e85cc191ffef8d1",
   "metadata": {
    "lang": "de"
   },
   "source": [
    "# Umrechnung in Meilen mit Truthiness\n",
    "\n",
    "Schreiben Sie eine Funktion `meilen_app_2`, die sich wie `meilen_app`\n",
    "verhält, aber Truthiness von Strings ausnutzt."
   ]
  },
  {
   "cell_type": "code",
   "execution_count": null,
   "id": "53c29d842e98a29d",
   "metadata": {
    "lang": "de",
    "lines_to_next_cell": 1
   },
   "outputs": [],
   "source": [
    "def meilen_app_2():\n",
    "    km = input(\"Bitte geben Sie eine Entfernung in km ein: \")\n",
    "    if km:\n",
    "        meilen = konvertiere_km_nach_meilen(float(km))\n",
    "        print(f\"{km} km sind {meilen} Meilen\")\n",
    "    else:\n",
    "        print(\"Bitte geben Sie eine gültige Entfernung in km ein.\")"
   ]
  },
  {
   "cell_type": "code",
   "execution_count": null,
   "id": "54e85d3115b1a4aa",
   "metadata": {
    "lang": "de"
   },
   "outputs": [],
   "source": [
    "# meilen_app_2()"
   ]
  },
  {
   "cell_type": "markdown",
   "id": "1044b0a7c336b908",
   "metadata": {
    "lang": "de"
   },
   "source": [
    "# Kino-Preis\n",
    "\n",
    "Das Python-Lichtspielhaus hat folgende Eintrittspreise:\n",
    "\n",
    "- Kleinkinder unter 2 Jahren sind frei.\n",
    "- Kinder von 2-12 Jahren zahlen 2 Euro.\n",
    "- Teenager von 13-17 Jahren zahlen 5 Euro.\n",
    "- Erwachsene zahlen 10 Euro.\n",
    "- Rentner (ab 65) zahlen 6 Euro.\n",
    "\n",
    "Schreiben Sie eine Funktion `kinopreis(alter)`, die den Preis in\n",
    "Abhängigkeit vom Alter berechnet und zurückgibt."
   ]
  },
  {
   "cell_type": "code",
   "execution_count": null,
   "id": "7f97e3823508f0b5",
   "metadata": {
    "lang": "de",
    "lines_to_next_cell": 1
   },
   "outputs": [],
   "source": [
    "def kinopreis(alter):\n",
    "    if alter < 2:\n",
    "        return 0\n",
    "    elif alter <= 12:\n",
    "        return 2\n",
    "    elif alter <= 17:\n",
    "        return 5\n",
    "    elif alter < 65:\n",
    "        return 10\n",
    "    else:\n",
    "        return 6"
   ]
  },
  {
   "cell_type": "markdown",
   "id": "5f92071cb83d493f",
   "metadata": {
    "lang": "de"
   },
   "source": [
    "Testen Sie die Funktion `kinopreis()` für einige repräsentative Werte."
   ]
  },
  {
   "cell_type": "code",
   "execution_count": null,
   "id": "4a74a9d25c682214",
   "metadata": {
    "lang": "de"
   },
   "outputs": [],
   "source": [
    "assert kinopreis(1) == 0\n",
    "assert kinopreis(7) == 2\n",
    "assert kinopreis(15) == 5\n",
    "assert kinopreis(25) == 10\n",
    "assert kinopreis(70) == 6"
   ]
  },
  {
   "cell_type": "code",
   "execution_count": null,
   "id": "c6c781a4c156b90c",
   "metadata": {
    "lang": "de"
   },
   "outputs": [],
   "source": [
    "assert cinema_price(1) == 0\n",
    "assert cinema_price(7) == 2\n",
    "assert cinema_price(15) == 5\n",
    "assert cinema_price(25) == 10\n",
    "assert cinema_price(70) == 6"
   ]
  },
  {
   "cell_type": "markdown",
   "id": "b0a93efeb91fca17",
   "metadata": {
    "lang": "de",
    "title": "Schreiben Sie eine Funktion `drucke_kinopreis(alter)`,"
   },
   "source": [
    "Schreiben Sie eine Funktion `drucke_kinopreis(alter)`,\n",
    "die einen Text der folgenden Art auf dem Bildschirm ausgibt:\n",
    "\n",
    "```\n",
    "Sie sind 1 Jahr alt. Ihr Preis beträgt 0 Euro.\n",
    "Sie sind 15 Jahre alt. Ihr Preis beträgt 5 Euro.\n",
    "```"
   ]
  },
  {
   "cell_type": "code",
   "execution_count": null,
   "id": "29238126039dfe32",
   "metadata": {
    "lang": "de",
    "lines_to_next_cell": 1
   },
   "outputs": [],
   "source": [
    "def drucke_kinopreis(alter):\n",
    "    preis = kinopreis(alter)\n",
    "    if alter == 1:\n",
    "        print(f\"Sie sind 1 Jahr alt. Ihr Preis beträgt {preis} Euro.\")\n",
    "    else:\n",
    "        print(f\"Sie sind {alter} Jahre alt. Ihr Preis beträgt {preis} Euro.\")"
   ]
  },
  {
   "cell_type": "markdown",
   "id": "128cd87361f81f87",
   "metadata": {
    "lang": "de"
   },
   "source": [
    "Testen Sie `drucke_kinopreis()` für repräsentative Werte."
   ]
  },
  {
   "cell_type": "code",
   "execution_count": null,
   "id": "e07e7db3311e6049",
   "metadata": {
    "lang": "de"
   },
   "outputs": [],
   "source": [
    "drucke_kinopreis(1)\n",
    "drucke_kinopreis(7)\n",
    "drucke_kinopreis(15)\n",
    "drucke_kinopreis(25)\n",
    "drucke_kinopreis(70)"
   ]
  },
  {
   "cell_type": "markdown",
   "id": "02f5c1afb98f1f24",
   "metadata": {
    "lang": "de"
   },
   "source": [
    "\n",
    "Schreiben Sie eine Funktion `kino_app()`, die ein Alter einliest und den\n",
    "Kinopreis für eine Person dieses Alters im gerade beschriebenen Format\n",
    "ausgibt. Zwei Beispielinteraktionen:\n",
    "\n",
    "```\n",
    "Wie alt sind Sie? 37\n",
    "Sie sind 37 Jahre alt. Ihr Preis beträgt 10 Euro.\n",
    "\n",
    "Wie alt sind Sie? 12\n",
    "Sie sind 12 Jahre alt. Ihr Preis beträgt 2 Euro.\n",
    "```"
   ]
  },
  {
   "cell_type": "code",
   "execution_count": null,
   "id": "502d3ce5d4f4aa47",
   "metadata": {
    "lang": "de",
    "lines_to_next_cell": 1
   },
   "outputs": [],
   "source": [
    "def kino_app():\n",
    "    alter = input(\"Wie alt sind Sie? \")\n",
    "    if alter:\n",
    "        drucke_kinopreis(int(alter))\n",
    "    else:\n",
    "        print(\"Bitte geben Sie ein gültiges Alter ein.\")"
   ]
  },
  {
   "cell_type": "code",
   "execution_count": null,
   "id": "f0da391be51e4ae4",
   "metadata": {
    "lang": "de"
   },
   "outputs": [],
   "source": [
    "# kino_app()"
   ]
  },
  {
   "cell_type": "code",
   "execution_count": null,
   "id": "974811803aaeef02",
   "metadata": {},
   "outputs": [],
   "source": []
  }
 ],
 "metadata": {},
 "nbformat": 4,
 "nbformat_minor": 5
}
