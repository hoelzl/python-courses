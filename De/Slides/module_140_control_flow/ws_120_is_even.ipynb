{
 "cells": [
  {
   "cell_type": "markdown",
   "id": "0feb033b717b3fcf",
   "metadata": {
    "lang": "de",
    "lines_to_next_cell": 2,
    "slideshow": {
     "slide_type": "subslide"
    }
   },
   "source": [
    "\n",
    "## Mini-Workshop: Gerade Zahl"
   ]
  },
  {
   "cell_type": "markdown",
   "id": "089a844cb19df3d6",
   "metadata": {
    "lang": "de"
   },
   "source": [
    "\n",
    "Schreiben Sie eine Funktion `ist_gerade(zahl)`, die `True` zurückgibt,\n",
    "falls `zahl` gerade ist und `False`, falls `zahl` ungerade ist."
   ]
  },
  {
   "cell_type": "code",
   "execution_count": null,
   "id": "9761676197a80f99",
   "metadata": {
    "lang": "de"
   },
   "outputs": [],
   "source": [
    "def ist_gerade(zahl):\n",
    "    return zahl % 2 == 0"
   ]
  },
  {
   "cell_type": "markdown",
   "id": "a26fb32c6d25672d",
   "metadata": {
    "lang": "de",
    "slideshow": {
     "slide_type": "subslide"
    }
   },
   "source": [
    "\n",
    "Schreiben Sie Assertions, die testen ob `ist_gerade()` für die Argumente 0, 1\n",
    "und 8 das korrekte Ergebnis liefert."
   ]
  },
  {
   "cell_type": "code",
   "execution_count": null,
   "id": "0f1703735255e1ae",
   "metadata": {
    "lang": "de"
   },
   "outputs": [],
   "source": [
    "assert ist_gerade(0)\n",
    "assert not ist_gerade(1)\n",
    "assert ist_gerade(8)"
   ]
  },
  {
   "cell_type": "markdown",
   "id": "72e33fee0399a2f2",
   "metadata": {
    "lang": "de",
    "slideshow": {
     "slide_type": "subslide"
    }
   },
   "source": [
    "Schreiben Sie eine Funktion `drucke_ist_gerade(zahl)`, die\n",
    "\n",
    "- `{zahl} ist gerade.` auf dem Bildschirm ausgibt, falls `zahl` gerade ist und\n",
    "- `{zahl} ist ungerade.` auf dem Bildschirm ausgibt, falls `zahl` nicht\n",
    "  gerade ist.\n",
    "\n",
    "Verwenden Sie dabei dei Funktion `ist_gerade()` um zu überprüfen, ob `zahl`\n",
    "gerade ist."
   ]
  },
  {
   "cell_type": "code",
   "execution_count": null,
   "id": "ababaf16f34c3a34",
   "metadata": {
    "lang": "de"
   },
   "outputs": [],
   "source": [
    "def drucke_ist_gerade(zahl):\n",
    "    if ist_gerade(zahl):\n",
    "        print(f\"{zahl} ist gerade.\")\n",
    "    else:\n",
    "        print(f\"{zahl} ist ungerade.\")"
   ]
  },
  {
   "cell_type": "markdown",
   "id": "f22ef6bed4079838",
   "metadata": {
    "lang": "de",
    "slideshow": {
     "slide_type": "subslide"
    }
   },
   "source": [
    "Testen Sie `drucke_ist_gerade(zahl)` mit den Werten 0, 1 und 8."
   ]
  },
  {
   "cell_type": "code",
   "execution_count": null,
   "id": "79a84f5c19fb96c7",
   "metadata": {
    "lang": "de"
   },
   "outputs": [],
   "source": [
    "drucke_ist_gerade(0)\n",
    "drucke_ist_gerade(1)\n",
    "drucke_ist_gerade(8)"
   ]
  },
  {
   "cell_type": "code",
   "execution_count": null,
   "id": "6b4e03423667dbb7",
   "metadata": {},
   "outputs": [],
   "source": []
  }
 ],
 "metadata": {},
 "nbformat": 4,
 "nbformat_minor": 5
}
