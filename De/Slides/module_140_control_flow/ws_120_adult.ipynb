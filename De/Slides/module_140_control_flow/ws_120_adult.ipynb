{
 "cells": [
  {
   "cell_type": "markdown",
   "id": "62a085027cc29a2e",
   "metadata": {
    "lang": "de",
    "slideshow": {
     "slide_type": "subslide"
    }
   },
   "source": [
    "\n",
    "## Mini-Workshop: Volljährig"
   ]
  },
  {
   "cell_type": "markdown",
   "id": "1d2ba43eb29aa0d6",
   "metadata": {
    "lang": "de"
   },
   "source": [
    "\n",
    "Schreiben Sie eine Funktion `drucke_volljährig(alter)`, die `Volljährig`\n",
    "auf dem Bildschirm ausgibt, wenn `alter >= 18` ist und `Minderjährig` sonst."
   ]
  },
  {
   "cell_type": "code",
   "execution_count": null,
   "id": "aaf4fa47a654277c",
   "metadata": {
    "lang": "de"
   },
   "outputs": [],
   "source": [
    "def drucke_volljährig(alter):\n",
    "    if alter < 18:\n",
    "        print(\"Minderjährig\")\n",
    "    else:\n",
    "        print(\"Volljährig\")"
   ]
  },
  {
   "cell_type": "markdown",
   "id": "a8816d254521ff1c",
   "metadata": {
    "lang": "de",
    "slideshow": {
     "slide_type": "subslide"
    }
   },
   "source": [
    "Testen Sie `drucke_volljährig(alter)` mit den Werten 17 und 18."
   ]
  },
  {
   "cell_type": "code",
   "execution_count": null,
   "id": "114413485e84d9eb",
   "metadata": {
    "lang": "de"
   },
   "outputs": [],
   "source": [
    "drucke_volljährig(17)\n",
    "drucke_volljährig(18)"
   ]
  }
 ],
 "metadata": {},
 "nbformat": 4,
 "nbformat_minor": 5
}
