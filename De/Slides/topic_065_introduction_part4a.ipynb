{
 "cells": [
  {
   "cell_type": "markdown",
   "id": "c38d88cf",
   "metadata": {
    "lang": "de",
    "slideshow": {
     "slide_type": "slide"
    }
   },
   "source": [
    "<img src=\"img/python-logo-notext.svg\"\n",
    "     style=\"display:block;margin:auto;width:10%\"/>\n",
    "<br>\n",
    "<div style=\"text-align:center; font-size:200%;\"><b>Einführung in Python: Grundlagen Teil 3</b></div>\n",
    "<br/>\n",
    "<div style=\"text-align:center;\">Dr. Matthias Hölzl</div>"
   ]
  },
  {
   "cell_type": "markdown",
   "id": "8a7c158e",
   "metadata": {
    "lang": "de",
    "slideshow": {
     "slide_type": "slide"
    }
   },
   "source": [
    "## Beliebig viele Argumente:\n",
    "\n",
    "Man kann Funktionen definieren, die beliebig viele Argumente bekommen können:"
   ]
  },
  {
   "cell_type": "code",
   "execution_count": null,
   "id": "ecc02cb0",
   "metadata": {},
   "outputs": [],
   "source": [
    "def my_add(*args):\n",
    "    result = 0\n",
    "    for i in args:\n",
    "        result += i\n",
    "    return result"
   ]
  },
  {
   "cell_type": "code",
   "execution_count": null,
   "id": "332fec14",
   "metadata": {},
   "outputs": [],
   "source": [
    "my_add(1, 2, 3, 4, 5, 6)"
   ]
  },
  {
   "cell_type": "markdown",
   "id": "d76050c5",
   "metadata": {
    "lang": "de"
   },
   "source": [
    "\n",
    "## Mini-Workshop\n",
    "\n",
    "Schreiben Sie eine Funktion `print_lines(*args)`, die beliebig viele\n",
    "Argumente bekommt und ein Argument pro Zeile ausgibt:\n",
    "```\n",
    ">>> print_lines(\"hey\", \"you\")\n",
    "hey\n",
    "you\n",
    "```"
   ]
  },
  {
   "cell_type": "code",
   "execution_count": null,
   "id": "e10e0662",
   "metadata": {},
   "outputs": [],
   "source": [
    "def print_lines(*args):\n",
    "    for arg in args:\n",
    "        print(arg)"
   ]
  },
  {
   "cell_type": "code",
   "execution_count": null,
   "id": "b073a56f",
   "metadata": {},
   "outputs": [],
   "source": [
    "print_lines(\"hey\", \"you\")"
   ]
  },
  {
   "cell_type": "markdown",
   "id": "90ef1008",
   "metadata": {
    "lang": "de",
    "slideshow": {
     "slide_type": "slide"
    }
   },
   "source": [
    "Das kann auch mit anderen Argumenten kombiniert werden:"
   ]
  },
  {
   "cell_type": "code",
   "execution_count": null,
   "id": "92a03923",
   "metadata": {},
   "outputs": [],
   "source": [
    "def add_more_than_two(x, y, *more_args):\n",
    "    result = x + y\n",
    "    for i in more_args:\n",
    "        result += i\n",
    "    return result"
   ]
  },
  {
   "cell_type": "code",
   "execution_count": null,
   "id": "26ab972b",
   "metadata": {},
   "outputs": [],
   "source": [
    "add_more_than_two(1, 2, 3, 4, 5, 6)"
   ]
  },
  {
   "cell_type": "code",
   "execution_count": null,
   "id": "85a688ff",
   "metadata": {},
   "outputs": [],
   "source": [
    "add_more_than_two(1, 2)"
   ]
  },
  {
   "cell_type": "code",
   "execution_count": null,
   "id": "6ad7ee21",
   "metadata": {},
   "outputs": [],
   "source": [
    "# add_more_than_two(1)"
   ]
  },
  {
   "cell_type": "markdown",
   "id": "47be5ec2",
   "metadata": {
    "lang": "de",
    "slideshow": {
     "slide_type": "slide"
    }
   },
   "source": [
    "## Beliebig viele benannte Argumente:\n",
    "\n",
    "Ebenso kann eine Funktion beliebig viele benannte Argumente haben:"
   ]
  },
  {
   "cell_type": "code",
   "execution_count": null,
   "id": "00ece36d",
   "metadata": {},
   "outputs": [],
   "source": [
    "def my_keys(**kwargs):\n",
    "    print(\"Keyword arguments:\", kwargs)"
   ]
  },
  {
   "cell_type": "code",
   "execution_count": null,
   "id": "2fd5def4",
   "metadata": {},
   "outputs": [],
   "source": [
    "my_keys(x=1, y=2)"
   ]
  },
  {
   "cell_type": "markdown",
   "id": "e17f354d",
   "metadata": {
    "lang": "de"
   },
   "source": [
    "Es ist möglich diese beiden Features zu kombinieren:"
   ]
  },
  {
   "cell_type": "code",
   "execution_count": null,
   "id": "da01eb2a",
   "metadata": {},
   "outputs": [],
   "source": [
    "def takes_arbitrary_args(*args, **kwargs):\n",
    "    print(\"Positional argsuments:\", args)\n",
    "    print(\"Keyword arguments:    \", kwargs)"
   ]
  },
  {
   "cell_type": "code",
   "execution_count": null,
   "id": "563ca944",
   "metadata": {
    "lines_to_next_cell": 2
   },
   "outputs": [],
   "source": [
    "takes_arbitrary_args(1, \"foo\", a=\"alpha\", b=\"beta\")"
   ]
  },
  {
   "cell_type": "markdown",
   "id": "091b63e2",
   "metadata": {
    "lang": "de",
    "lines_to_next_cell": 2,
    "slideshow": {
     "slide_type": "subslide"
    }
   },
   "source": [
    "\n",
    "## Mini-Workshop\n",
    "\n",
    "Schreiben Sie eine Funktion `print_named_lines(**kwargs)`, die beliebig viele\n",
    "Keyword-Argumente bekommt und sie in folgender Form auf dem Bildschirm\n",
    "ausgibt:\n",
    "```python\n",
    ">>> print_named_lines(foo=\"My Foo\", bar=\"My Bar\", quux=\"My Quux\")\n",
    "Key: foo -- value: My Foo\n",
    "Key: bar -- value: My Bar\n",
    "Key: quux -- value: My Quux\n",
    "```"
   ]
  },
  {
   "cell_type": "code",
   "execution_count": null,
   "id": "98e3c48a",
   "metadata": {},
   "outputs": [],
   "source": [
    "def print_named_lines(**kwargs):\n",
    "    for k, v in kwargs.items():\n",
    "        print(\"Key:\", k, \"-- value:\", v)"
   ]
  },
  {
   "cell_type": "code",
   "execution_count": null,
   "id": "bbeb4056",
   "metadata": {},
   "outputs": [],
   "source": [
    "print_named_lines(foo=\"My Foo\", bar=\"My Bar\", quux=\"My Quux\")"
   ]
  },
  {
   "cell_type": "markdown",
   "id": "f9af4d04",
   "metadata": {
    "lang": "de",
    "slideshow": {
     "slide_type": "slide"
    }
   },
   "source": [
    "## \"Splicing\" von Argumenten\n",
    "\n",
    "- Wenn man eine Liste `args` hat, kann man die darin enthaltenen Werte mit\n",
    "  der Syntax `*args` als positionale Argumente übergeben.\n",
    "- Wenn man ein Dictionary `kwargs` hat, kann man die Key/Value-Paare mit der\n",
    "  Syntax `**kwargs` als benannte Argumente übergeben:"
   ]
  },
  {
   "cell_type": "code",
   "execution_count": null,
   "id": "8070de70",
   "metadata": {},
   "outputs": [],
   "source": [
    "def add(x, y):\n",
    "    return x + y"
   ]
  },
  {
   "cell_type": "code",
   "execution_count": null,
   "id": "53261761",
   "metadata": {},
   "outputs": [],
   "source": [
    "my_list = [3, 4]"
   ]
  },
  {
   "cell_type": "code",
   "execution_count": null,
   "id": "5fefe0ba",
   "metadata": {},
   "outputs": [],
   "source": [
    "# add(my_list)"
   ]
  },
  {
   "cell_type": "code",
   "execution_count": null,
   "id": "ab4b097e",
   "metadata": {},
   "outputs": [],
   "source": [
    "add(my_list[0], my_list[1])"
   ]
  },
  {
   "cell_type": "code",
   "execution_count": null,
   "id": "636a0b98",
   "metadata": {},
   "outputs": [],
   "source": [
    "add(*my_list)"
   ]
  },
  {
   "cell_type": "code",
   "execution_count": null,
   "id": "6eba2fd4",
   "metadata": {
    "slideshow": {
     "slide_type": "subslide"
    }
   },
   "outputs": [],
   "source": [
    "my_dict = {\"a\": \"alpha\", \"b\": \"beta\"}"
   ]
  },
  {
   "cell_type": "code",
   "execution_count": null,
   "id": "1d8c681a",
   "metadata": {},
   "outputs": [],
   "source": [
    "takes_arbitrary_args(my_list, my_dict)"
   ]
  },
  {
   "cell_type": "code",
   "execution_count": null,
   "id": "22290fb9",
   "metadata": {},
   "outputs": [],
   "source": [
    "takes_arbitrary_args(*my_list, **my_dict)"
   ]
  },
  {
   "cell_type": "code",
   "execution_count": null,
   "id": "975a0ddc",
   "metadata": {},
   "outputs": [],
   "source": [
    "takes_arbitrary_args(3, 4, a=\"alpha\", b=\"beta\")"
   ]
  },
  {
   "cell_type": "markdown",
   "id": "3b12b29b",
   "metadata": {
    "lang": "de",
    "slideshow": {
     "slide_type": "slide"
    }
   },
   "source": [
    "## Mehrere Rückgabewerte\n",
    "\n",
    "Wie oben gezeigt kann man mehrere Variablen in einem Schritt definieren:"
   ]
  },
  {
   "cell_type": "code",
   "execution_count": null,
   "id": "d8ae0048",
   "metadata": {},
   "outputs": [],
   "source": [
    "ergebnis, rest = 10, 2"
   ]
  },
  {
   "cell_type": "code",
   "execution_count": null,
   "id": "f261727c",
   "metadata": {},
   "outputs": [],
   "source": [
    "print(ergebnis)\n",
    "print(rest)"
   ]
  },
  {
   "cell_type": "markdown",
   "id": "ca6a2509",
   "metadata": {
    "lang": "de",
    "slideshow": {
     "slide_type": "subslide"
    }
   },
   "source": [
    "- Besonders hilfreich ist das für Funktionen die mehrere eng zusammenhängende\n",
    "  Werte berechnen.\n",
    "- Man kann mit `return wert1, wert2` mehrere Werte zurückgeben"
   ]
  },
  {
   "cell_type": "code",
   "execution_count": null,
   "id": "53156bf1",
   "metadata": {},
   "outputs": [],
   "source": [
    "def zwei_werte(a, b):\n",
    "    return a + 1, b + 2"
   ]
  },
  {
   "cell_type": "code",
   "execution_count": null,
   "id": "ea7052f0",
   "metadata": {},
   "outputs": [],
   "source": [
    "erster_wert, zweiter_wert = zwei_werte(1, 2)\n",
    "print(erster_wert)\n",
    "print(zweiter_wert)"
   ]
  },
  {
   "cell_type": "code",
   "execution_count": null,
   "id": "97f3debe",
   "metadata": {
    "slideshow": {
     "slide_type": "subslide"
    }
   },
   "outputs": [],
   "source": [
    "def division_mit_rest(m, n):\n",
    "    ergebnis = m // n\n",
    "    rest = m % n\n",
    "    return ergebnis, rest"
   ]
  },
  {
   "cell_type": "code",
   "execution_count": null,
   "id": "069629f2",
   "metadata": {},
   "outputs": [],
   "source": [
    "e, r = division_mit_rest(17, 7)\n",
    "print(e)\n",
    "print(r)"
   ]
  },
  {
   "cell_type": "code",
   "execution_count": null,
   "id": "1d362e18",
   "metadata": {},
   "outputs": [],
   "source": [
    "# Kürzer\n",
    "def division_mit_rest_2(m, n):\n",
    "    return m // n, m % n"
   ]
  },
  {
   "cell_type": "code",
   "execution_count": null,
   "id": "6b8375da",
   "metadata": {},
   "outputs": [],
   "source": [
    "e, r = division_mit_rest_2(17, 7)\n",
    "print(e)\n",
    "print(r)"
   ]
  },
  {
   "cell_type": "markdown",
   "id": "e78c269b",
   "metadata": {
    "lang": "de",
    "slideshow": {
     "slide_type": "subslide"
    }
   },
   "source": [
    "(In Python gibt es die eingebaute Funktion `divmod`, die diese Berechnung ausführt)"
   ]
  },
  {
   "cell_type": "code",
   "execution_count": null,
   "id": "d21ccd36",
   "metadata": {},
   "outputs": [],
   "source": [
    "e, r = divmod(17, 7)\n",
    "print(e)\n",
    "print(r)"
   ]
  },
  {
   "cell_type": "markdown",
   "id": "67101c0f",
   "metadata": {
    "lang": "de",
    "lines_to_next_cell": 2,
    "slideshow": {
     "slide_type": "subslide"
    }
   },
   "source": [
    "## Mini-Workshop\n",
    "\n",
    "- Notebook `workshop_050_introduction_part1`\n",
    "- Abschnitt \"Piraten, Teil 3\""
   ]
  },
  {
   "cell_type": "markdown",
   "id": "79840f4c",
   "metadata": {
    "lang": "de",
    "slideshow": {
     "slide_type": "slide"
    }
   },
   "source": [
    "# Vergleiche, Boole'sche Werte"
   ]
  },
  {
   "cell_type": "markdown",
   "id": "3aa5b6d8",
   "metadata": {
    "lang": "de"
   },
   "source": [
    "Gleichheit von Werten wird mit `==` getestet:"
   ]
  },
  {
   "cell_type": "code",
   "execution_count": null,
   "id": "a698a62e",
   "metadata": {},
   "outputs": [],
   "source": [
    "1 == 1"
   ]
  },
  {
   "cell_type": "code",
   "execution_count": null,
   "id": "45f23c5d",
   "metadata": {},
   "outputs": [],
   "source": [
    "1 == 2"
   ]
  },
  {
   "cell_type": "markdown",
   "id": "ed756802",
   "metadata": {
    "lang": "de",
    "slideshow": {
     "slide_type": "subslide"
    }
   },
   "source": [
    "Das Ergebnis eines Vergleichs ist ein Boole'scher Wert (Wahrheitswert)\n",
    "\n",
    "- `True`\n",
    "- `False`"
   ]
  },
  {
   "cell_type": "code",
   "execution_count": null,
   "id": "a2ac9c6f",
   "metadata": {},
   "outputs": [],
   "source": [
    "type(True)"
   ]
  },
  {
   "cell_type": "markdown",
   "id": "5310f83b",
   "metadata": {
    "lang": "de",
    "slideshow": {
     "slide_type": "subslide"
    }
   },
   "source": [
    "## Gleichheit von Zahlen"
   ]
  },
  {
   "cell_type": "code",
   "execution_count": null,
   "id": "4d632a6b",
   "metadata": {},
   "outputs": [],
   "source": [
    "1 == 1.0"
   ]
  },
  {
   "cell_type": "markdown",
   "id": "1ca81547",
   "metadata": {
    "lang": "de"
   },
   "source": [
    "Mit Unterstrichen lassen sich Zahlen übersichtlicher schreiben."
   ]
  },
  {
   "cell_type": "code",
   "execution_count": null,
   "id": "d64e3e2f",
   "metadata": {},
   "outputs": [],
   "source": [
    "0.000_000_1 * 10_000_000 == 1"
   ]
  },
  {
   "cell_type": "markdown",
   "id": "05115bf1",
   "metadata": {
    "lang": "de",
    "slideshow": {
     "slide_type": "subslide"
    }
   },
   "source": [
    "Vorsicht: Rundungsfehler!"
   ]
  },
  {
   "cell_type": "code",
   "execution_count": null,
   "id": "5e97768c",
   "metadata": {},
   "outputs": [],
   "source": [
    "1 / 10"
   ]
  },
  {
   "cell_type": "code",
   "execution_count": null,
   "id": "81ac5ce4",
   "metadata": {},
   "outputs": [],
   "source": [
    "1 / 100"
   ]
  },
  {
   "cell_type": "code",
   "execution_count": null,
   "id": "ae69c25d",
   "metadata": {},
   "outputs": [],
   "source": [
    "(1 / 10) * (1 / 10) == (1 / 100)"
   ]
  },
  {
   "cell_type": "code",
   "execution_count": null,
   "id": "5f09624b",
   "metadata": {},
   "outputs": [],
   "source": [
    "0.1 * 0.1"
   ]
  },
  {
   "cell_type": "code",
   "execution_count": null,
   "id": "0b9db4df",
   "metadata": {},
   "outputs": [],
   "source": [
    "0.1 - 0.01"
   ]
  },
  {
   "cell_type": "code",
   "execution_count": null,
   "id": "523ce3b1",
   "metadata": {},
   "outputs": [],
   "source": [
    "100 * 1.1"
   ]
  },
  {
   "cell_type": "markdown",
   "id": "b11763dd",
   "metadata": {
    "lang": "de",
    "slideshow": {
     "slide_type": "subslide"
    }
   },
   "source": [
    "## Ungleichheit von Zahlen\n",
    "\n",
    "Der Operator `!=` testet, ob zwei Zahlen verschieden sind"
   ]
  },
  {
   "cell_type": "code",
   "execution_count": null,
   "id": "03827ad7",
   "metadata": {},
   "outputs": [],
   "source": [
    "1 != 1.0"
   ]
  },
  {
   "cell_type": "code",
   "execution_count": null,
   "id": "5f394ba7",
   "metadata": {},
   "outputs": [],
   "source": [
    "1 != 2"
   ]
  },
  {
   "cell_type": "markdown",
   "id": "d9a87fa9",
   "metadata": {
    "lang": "de",
    "slideshow": {
     "slide_type": "subslide"
    }
   },
   "source": [
    "## Vergleich von Zahlen"
   ]
  },
  {
   "cell_type": "code",
   "execution_count": null,
   "id": "77371855",
   "metadata": {},
   "outputs": [],
   "source": [
    "1 < 2"
   ]
  },
  {
   "cell_type": "code",
   "execution_count": null,
   "id": "eab87e6b",
   "metadata": {},
   "outputs": [],
   "source": [
    "1 < 1"
   ]
  },
  {
   "cell_type": "code",
   "execution_count": null,
   "id": "ad01cb47",
   "metadata": {},
   "outputs": [],
   "source": [
    "1 <= 1"
   ]
  },
  {
   "cell_type": "code",
   "execution_count": null,
   "id": "ccf73159",
   "metadata": {
    "incorrectly_encoded_metadata": "{\"slideshow\": {\"slide_type\": \"subslide\"}} tags=[\"code-along\"] tags=[\"keep\"]"
   },
   "outputs": [],
   "source": [
    "1 > 2"
   ]
  },
  {
   "cell_type": "code",
   "execution_count": null,
   "id": "ca24b0f0",
   "metadata": {},
   "outputs": [],
   "source": [
    "2 >= 1"
   ]
  },
  {
   "cell_type": "markdown",
   "id": "f39976fb",
   "metadata": {
    "lang": "de",
    "slideshow": {
     "slide_type": "slide"
    }
   },
   "source": [
    "## Vergleichsoperatoren auf anderen Typen\n",
    "\n",
    "Die Vergleichsoperatoren lassen sich auch auf viele andere Typen anwenden\n",
    "(genaueres später)."
   ]
  },
  {
   "cell_type": "markdown",
   "id": "da4cd53a",
   "metadata": {
    "lang": "de",
    "slideshow": {
     "slide_type": "slide"
    }
   },
   "source": [
    "## Operatoren auf Boole'schen Werten\n"
   ]
  },
  {
   "cell_type": "code",
   "execution_count": null,
   "id": "f7728960",
   "metadata": {},
   "outputs": [],
   "source": [
    "1 < 2 and 3 < 2"
   ]
  },
  {
   "cell_type": "code",
   "execution_count": null,
   "id": "36dfd05f",
   "metadata": {},
   "outputs": [],
   "source": [
    "1 < 2 or 3 < 2"
   ]
  },
  {
   "cell_type": "code",
   "execution_count": null,
   "id": "a07ff1ae",
   "metadata": {},
   "outputs": [],
   "source": [
    "not (1 < 2)"
   ]
  },
  {
   "cell_type": "markdown",
   "id": "910c4658",
   "metadata": {
    "lang": "de",
    "slideshow": {
     "slide_type": "subslide"
    }
   },
   "source": [
    "### Wann ist ein logischer Ausdruck wahr?\n",
    "\n",
    "| Operator | Operation                      | `True` wenn...                 |\n",
    "|:--------:|:-------------------------------|:-------------------------------|\n",
    "| and      | logisches \"Und\" (Konjunktion)  | beide Argumente `True`         |\n",
    "| or       | logisches \"Oder\" (Disjunktion) | mindestens ein Argument `True` |\n",
    "| not      | logisches \"Nicht\" (Negation)   | Argument `False`               |"
   ]
  },
  {
   "cell_type": "markdown",
   "id": "5d16b334",
   "metadata": {
    "lang": "de",
    "slideshow": {
     "slide_type": "subslide"
    }
   },
   "source": [
    "### Verkettung von Vergleichen"
   ]
  },
  {
   "cell_type": "code",
   "execution_count": null,
   "id": "b333337d",
   "metadata": {},
   "outputs": [],
   "source": [
    "1 < 2 < 3"
   ]
  },
  {
   "cell_type": "code",
   "execution_count": null,
   "id": "72c2c998",
   "metadata": {},
   "outputs": [],
   "source": [
    "# noinspection PyChainedComparisons\n",
    "1 < 2 and 2 < 3"
   ]
  },
  {
   "cell_type": "code",
   "execution_count": null,
   "id": "0ed7bfb6",
   "metadata": {},
   "outputs": [],
   "source": [
    "1 < 3 <= 2"
   ]
  },
  {
   "cell_type": "code",
   "execution_count": null,
   "id": "34c42103",
   "metadata": {},
   "outputs": [],
   "source": [
    "# noinspection PyChainedComparisons\n",
    "1 < 3 and 3 <= 2"
   ]
  },
  {
   "cell_type": "markdown",
   "id": "218d917b",
   "metadata": {
    "lang": "de",
    "lines_to_next_cell": 2,
    "slideshow": {
     "slide_type": "subslide"
    }
   },
   "source": [
    "## Mini-Workshop\n",
    "\n",
    "- Notebook `workshop_060_introduction_part2`\n",
    "- Abschnitt \"Operatoren, Vergleiche\""
   ]
  },
  {
   "cell_type": "markdown",
   "id": "f5667c63",
   "metadata": {
    "lang": "de",
    "slideshow": {
     "slide_type": "slide"
    }
   },
   "source": [
    "## Struktur einer `if`-Anweisung (unvollständig):\n",
    "\n",
    "```python\n",
    "if <Bedingung>:\n",
    "    Rumpf, der ausgeführt wird, wenn Bedingung 1 wahr ist\n",
    "else:\n",
    "    Rumpf, der ausgeführt wird, wenn keine der Bedingungen wahr ist\n",
    "```\n",
    "- Nur das `if` und der erste Rumpf sind notwendig\n",
    "- Falls ein `else` vorhanden ist, so darf der entsprechende Rumpf nicht leer sein\n"
   ]
  },
  {
   "cell_type": "markdown",
   "id": "0af282dc",
   "metadata": {
    "lang": "de",
    "slideshow": {
     "slide_type": "subslide"
    }
   },
   "source": [
    "## Mini-Workshop\n",
    "\n",
    "- Notebook `workshop_060_introduction_part2`\n",
    "- Abschnitt \"Volljährig\""
   ]
  }
 ],
 "metadata": {
  "kernelspec": {
   "display_name": "Python 3 (ipykernel)",
   "language": "python",
   "name": "python3"
  }
 },
 "nbformat": 4,
 "nbformat_minor": 5
}
