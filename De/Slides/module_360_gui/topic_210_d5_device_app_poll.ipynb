{
 "cells": [
  {
   "cell_type": "markdown",
   "id": "b844ed9f641d51de",
   "metadata": {
    "lang": "de",
    "slideshow": {
     "slide_type": "slide"
    }
   },
   "source": [
    "<img src=\"../../img/python-logo-no-text.svg\"\n",
    "     style=\"display:block;margin:auto;width:10%\"/>\n",
    "<br>\n",
    "<div style=\"text-align:center; font-size:200%;\">\n",
    "  <b>Auswertung von Messdaten</b>\n",
    "</div>\n",
    "<br/>\n",
    "<div style=\"text-align:center;\">Dr. Matthias Hölzl</div>\n",
    "<br/>\n",
    "<div style=\"text-align:center;\">module_360_gui/topic_210_d5_device_app_poll</div>"
   ]
  },
  {
   "cell_type": "markdown",
   "id": "edb4f21ce3c71e2d",
   "metadata": {
    "lang": "de",
    "slideshow": {
     "slide_type": "slide"
    }
   },
   "source": [
    "\n",
    "# Auswertung von Messdaten"
   ]
  },
  {
   "cell_type": "code",
   "execution_count": null,
   "id": "61159cde796fecac",
   "metadata": {
    "lines_to_next_cell": 1
   },
   "outputs": [],
   "source": [
    "from collections import UserList\n",
    "from dataclasses import dataclass\n",
    "from matplotlib.figure import Figure\n",
    "from matplotlib.backends.backend_tkagg import FigureCanvasTkAgg, NavigationToolbar2Tk\n",
    "from scipy import signal\n",
    "from time import sleep\n",
    "from typing import Optional\n",
    "import matplotlib.pyplot as plt\n",
    "import numpy as np\n",
    "import numpy.typing as npt\n",
    "import tkinter as tk\n",
    "import tkinter.ttk as ttk"
   ]
  },
  {
   "cell_type": "code",
   "execution_count": null,
   "id": "61b5ee7549f8aeb3",
   "metadata": {},
   "outputs": [],
   "source": [
    "def sine_wave(\n",
    "    frequency: float, time: npt.ArrayLike, phase: float = 0.0, amplitude: float = 1.0\n",
    "):\n",
    "    return np.sin(2.0 * np.pi * time * frequency + phase) * amplitude"
   ]
  },
  {
   "cell_type": "code",
   "execution_count": null,
   "id": "6c5f16ce262a0d3c",
   "metadata": {},
   "outputs": [],
   "source": [
    "xs = np.linspace(0.0, 4.0, 401)"
   ]
  },
  {
   "cell_type": "code",
   "execution_count": null,
   "id": "475f41d2c9f98d4c",
   "metadata": {
    "lines_to_next_cell": 1
   },
   "outputs": [],
   "source": [
    "plt.figure(figsize=(12, 5))\n",
    "plt.plot(xs, sine_wave(1.0, xs), label=\"basic wave\")\n",
    "plt.plot(xs, sine_wave(1.0, xs, np.pi), label=\"offset by π\")\n",
    "plt.plot(xs, sine_wave(0.5, xs) * 0.5, label=\"frequency 0.5\")\n",
    "plt.plot(xs, sine_wave(0.5, xs, np.pi) * 0.5, label=\"0.5, π\")\n",
    "plt.axhline(y=0, color=\"black\")\n",
    "plt.legend()"
   ]
  },
  {
   "cell_type": "code",
   "execution_count": null,
   "id": "1e04f719c57b42ce",
   "metadata": {},
   "outputs": [],
   "source": [
    "def sawtooth_wave(\n",
    "    frequency: float, time: npt.ArrayLike, phase: float = 0.0, amplitude: float = 1.0\n",
    "):\n",
    "    return (\n",
    "        signal.sawtooth(2.0 * np.pi * time * frequency + phase + np.pi / 2, 0.5)\n",
    "        * amplitude\n",
    "    )"
   ]
  },
  {
   "cell_type": "code",
   "execution_count": null,
   "id": "0ea474727c631c63",
   "metadata": {},
   "outputs": [],
   "source": [
    "plt.figure(figsize=(12, 5))\n",
    "plt.plot(xs, sawtooth_wave(1.0, xs), label=\"basic wave\")\n",
    "plt.plot(xs, sawtooth_wave(1.0, xs, np.pi), label=\"offset by π\")\n",
    "plt.plot(xs, sawtooth_wave(0.5, xs, amplitude=0.5), label=\"frequency 0.5\")\n",
    "plt.plot(xs, sawtooth_wave(0.5, xs, phase=np.pi, amplitude=0.5), label=\"0.5, π\")\n",
    "plt.axhline(y=0, color=\"black\")\n",
    "plt.legend()"
   ]
  },
  {
   "cell_type": "code",
   "execution_count": null,
   "id": "a8fc7bed27244631",
   "metadata": {},
   "outputs": [],
   "source": [
    "def square_wave(\n",
    "    frequency: float, time: npt.ArrayLike, phase: float = 0.0, amplitude: float = 1.0\n",
    "):\n",
    "    return signal.square(2.0 * np.pi * time * frequency + phase, 0.5) * amplitude"
   ]
  },
  {
   "cell_type": "code",
   "execution_count": null,
   "id": "faa1db3ddaf46f78",
   "metadata": {
    "lines_to_next_cell": 2
   },
   "outputs": [],
   "source": [
    "plt.figure(figsize=(12, 5))\n",
    "plt.plot(xs, square_wave(1.0, xs), label=\"basic wave\")\n",
    "plt.plot(xs, square_wave(2.0, xs, amplitude=0.5), label=\"frequency 2\")\n",
    "plt.axhline(y=0, color=\"black\")\n",
    "plt.legend()"
   ]
  },
  {
   "cell_type": "code",
   "execution_count": null,
   "id": "a886d52f246a4e22",
   "metadata": {},
   "outputs": [],
   "source": [
    "plt.figure(figsize=(12, 5))\n",
    "plt.plot(xs, sine_wave(1.0, xs), label=\"sin(x)\")\n",
    "plt.plot(xs, sawtooth_wave(1.0, xs), label=\"sawtooth(x)\")\n",
    "plt.plot(xs, square_wave(1.0, xs), label=\"square(x)\")\n",
    "plt.axhline(y=0, color=\"black\")\n",
    "plt.legend()"
   ]
  },
  {
   "cell_type": "code",
   "execution_count": null,
   "id": "236bebaa114c05d4",
   "metadata": {
    "lines_to_next_cell": 1
   },
   "outputs": [],
   "source": [
    "WAVE_FUNCTIONS = {\n",
    "    \"Sine Wave\": sine_wave,\n",
    "    \"Sawtooth Wave\": sawtooth_wave,\n",
    "    \"Square Wave\": square_wave,\n",
    "}"
   ]
  },
  {
   "cell_type": "code",
   "execution_count": null,
   "id": "33bc892758d3c238",
   "metadata": {},
   "outputs": [],
   "source": [
    "def apply_noise(fun, noise_scale=0.1, noise_loc=0.0):\n",
    "    def noisy_fun(frequency, time, phase=0.0, amplitude=1.0):\n",
    "        noise = np.random.normal(loc=noise_loc, scale=noise_scale, size=np.shape(time))\n",
    "        return fun(frequency, time, phase=phase, amplitude=amplitude) + noise\n",
    "\n",
    "    return noisy_fun"
   ]
  },
  {
   "cell_type": "code",
   "execution_count": null,
   "id": "7ec7d99f4a63aa0d",
   "metadata": {},
   "outputs": [],
   "source": [
    "xs = np.linspace(0, 2.0, 201)"
   ]
  },
  {
   "cell_type": "code",
   "execution_count": null,
   "id": "146d3855562b5bfb",
   "metadata": {
    "lines_to_next_cell": 1
   },
   "outputs": [],
   "source": [
    "plt.figure(figsize=(12, 5))\n",
    "plt.plot(xs, apply_noise(sine_wave, 0.05)(1.0, xs), label=\"sin(x)\")\n",
    "plt.plot(xs, apply_noise(sawtooth_wave, 0.2)(0.5, xs), label=\"sawtooth(x)\")\n",
    "plt.plot(xs, apply_noise(square_wave, 0.2)(2, xs, amplitude=0.7), label=\"square(x)\")\n",
    "plt.axhline(y=0, color=\"black\")\n",
    "plt.legend()"
   ]
  },
  {
   "cell_type": "code",
   "execution_count": null,
   "id": "3c6bb24f72c111e4",
   "metadata": {},
   "outputs": [],
   "source": [
    "@dataclass\n",
    "class Device:\n",
    "    name: str\n",
    "    amplitude: float = 1.0\n",
    "    frequency: float = 1.0\n",
    "    phase: float = 0.0\n",
    "    noise_scale: float = 0.1\n",
    "    noise_loc: float = 0.0\n",
    "    value_function: callable = sine_wave\n",
    "    n_samples_per_cycle: float = 20\n",
    "    cycle_time: float = 1.0\n",
    "    _current_time = 0.0\n",
    "    _delay_per_call = 0.0\n",
    "\n",
    "    def get_measurements(self):\n",
    "        sleep(self._delay_per_call)\n",
    "        t = self._current_time\n",
    "        self._current_time += self.cycle_time\n",
    "        n = self.n_samples_per_cycle\n",
    "        ts = np.linspace(t, t + self.cycle_time, n, endpoint=False)\n",
    "        fun = apply_noise(\n",
    "            self.value_function, noise_loc=self.noise_loc, noise_scale=self.noise_scale\n",
    "        )\n",
    "        return list(fun(self.frequency, ts, phase=self.phase, amplitude=self.amplitude))\n",
    "\n",
    "    def reset(self):\n",
    "        self._current_time = 0.0"
   ]
  },
  {
   "cell_type": "code",
   "execution_count": null,
   "id": "95b7cbed07e55de0",
   "metadata": {},
   "outputs": [],
   "source": [
    "device_1 = Device(\"device 1\", cycle_time=1.0)\n",
    "device_2 = Device(\n",
    "    \"device 2\",\n",
    "    amplitude=0.8,\n",
    "    frequency=0.5,\n",
    "    noise_scale=0.2,\n",
    "    value_function=square_wave,\n",
    "    cycle_time=1.0,\n",
    ")"
   ]
  },
  {
   "cell_type": "code",
   "execution_count": null,
   "id": "41d5134c2080ee1f",
   "metadata": {
    "lines_to_next_cell": 2
   },
   "outputs": [],
   "source": [
    "ys_1, ys_2 = [], []\n",
    "n_measurements = 4\n",
    "for t in range(n_measurements):\n",
    "    ys_1.extend(device_1.get_measurements())\n",
    "    ys_2.extend(device_2.get_measurements())\n",
    "xs = np.linspace(0.0, n_measurements, len(ys_1), endpoint=False)"
   ]
  },
  {
   "cell_type": "code",
   "execution_count": null,
   "id": "d1b80db45452abb1",
   "metadata": {
    "lines_to_next_cell": 1
   },
   "outputs": [],
   "source": [
    "plt.figure(figsize=(12, 5))\n",
    "plt.plot(xs, ys_1, label=\"device 1\")\n",
    "plt.plot(xs, ys_2, label=\"device 2\")\n",
    "plt.axhline(y=0, color=\"black\")\n",
    "plt.legend()"
   ]
  },
  {
   "cell_type": "code",
   "execution_count": null,
   "id": "e59a68be428aae7b",
   "metadata": {},
   "outputs": [],
   "source": [
    "class DeviceList(UserList):\n",
    "    def __init__(\n",
    "        self, devices: Optional[list[Device]] = None, n_samples_per_second: int = 20\n",
    "    ):\n",
    "        self.n_samples_per_second = n_samples_per_second\n",
    "        if devices is None:\n",
    "            self.data = []\n",
    "        else:\n",
    "            self.data = devices\n",
    "            for device in devices:\n",
    "                device.n_samples_per_cycle = n_samples_per_second\n",
    "\n",
    "    def get_measurements(self):\n",
    "        return [device.get_measurements() for device in self]\n",
    "\n",
    "    def reset(self):\n",
    "        for d in self:\n",
    "            d.reset()\n",
    "\n",
    "    @property\n",
    "    def names(self):\n",
    "        return [device.name for device in self]"
   ]
  },
  {
   "cell_type": "code",
   "execution_count": null,
   "id": "fb54609a12f6e7fb",
   "metadata": {},
   "outputs": [],
   "source": [
    "ds = DeviceList([device_1, device_2])\n",
    "ds"
   ]
  },
  {
   "cell_type": "code",
   "execution_count": null,
   "id": "f459c3d5e26288f5",
   "metadata": {},
   "outputs": [],
   "source": [
    "np.shape(ds.get_measurements())"
   ]
  },
  {
   "cell_type": "code",
   "execution_count": null,
   "id": "9d088064300666f3",
   "metadata": {},
   "outputs": [],
   "source": [
    "n_measurements = 4\n",
    "measurements = []\n",
    "ds.reset()\n",
    "for t in range(n_measurements):\n",
    "    measurements.append(np.array(ds.get_measurements()))\n",
    "np.shape(measurements)"
   ]
  },
  {
   "cell_type": "code",
   "execution_count": null,
   "id": "914b83bc6a7bed3f",
   "metadata": {},
   "outputs": [],
   "source": [
    "ys = np.concatenate(measurements, axis=1)\n",
    "xs = np.linspace(0.0, n_measurements, np.shape(ys)[1], endpoint=False)\n",
    "\n",
    "np.shape(xs), np.shape(ys)"
   ]
  },
  {
   "cell_type": "code",
   "execution_count": null,
   "id": "759a1437139f25ca",
   "metadata": {
    "lines_to_next_cell": 1
   },
   "outputs": [],
   "source": [
    "plt.figure(figsize=(12, 5))\n",
    "plt.plot(xs, ys.T, label=ds.names)\n",
    "plt.axhline(y=0, color=\"black\")\n",
    "plt.legend()"
   ]
  },
  {
   "cell_type": "code",
   "execution_count": null,
   "id": "ea493f2ac2452b04",
   "metadata": {},
   "outputs": [],
   "source": [
    "class MeasurementApp:\n",
    "    def __init__(\n",
    "        self, n_devices: int = 3, n_samples_per_cycle=4, n_displayed_cycles=100\n",
    "    ):\n",
    "        devices = DeviceList(\n",
    "            [\n",
    "                Device(\n",
    "                    f\"Device {n + 1}\",\n",
    "                    n_samples_per_cycle=n_samples_per_cycle,\n",
    "                    cycle_time=0.1,\n",
    "                )\n",
    "                for n in range(n_devices)\n",
    "            ]\n",
    "        )\n",
    "        self.n_samples_per_cycle = n_samples_per_cycle\n",
    "        self.displayed_cycles = n_displayed_cycles\n",
    "        self.n_displayed_samples = n_samples_per_cycle * n_displayed_cycles\n",
    "        self.xs = np.linspace(\n",
    "            0.0, n_displayed_cycles, self.n_displayed_samples, endpoint=False\n",
    "        )\n",
    "        self.ys = np.zeros((n_devices, self.n_displayed_samples))\n",
    "        self.should_devices_run = False\n",
    "\n",
    "        self.devices = devices\n",
    "        # An array of Variable instances so that they don't get garbage collected.\n",
    "        self._variables = []\n",
    "\n",
    "        root = tk.Tk()\n",
    "        root.title(\"Perform Measurements\")\n",
    "        root.columnconfigure(1, weight=1, minsize=200)\n",
    "        root.rowconfigure(1, weight=1)\n",
    "        self.root = root\n",
    "\n",
    "        main_frame = ttk.Frame(root, padding=\"3 3 12 12\")\n",
    "        main_frame.grid(column=1, row=1, sticky=\"NSEW\")\n",
    "        main_frame.columnconfigure(1, weight=1, minsize=200)\n",
    "        main_frame.columnconfigure(2, weight=2, minsize=400)\n",
    "        main_frame.rowconfigure(999, weight=1)\n",
    "\n",
    "        for row, device in enumerate(devices, 1):\n",
    "            self.add_device_panel(main_frame, device, row)\n",
    "\n",
    "        self.add_plot_frame(main_frame)\n",
    "\n",
    "        self.run_button = ttk.Button(main_frame, command=self.run_devices, text=\"Run\")\n",
    "        self.run_button.grid(column=2, row=10, padx=12, sticky=\"E\")\n",
    "\n",
    "    def add_device_panel(self, parent, device, row):\n",
    "        def update_device_name(*args):\n",
    "            device.name = name_var.get()\n",
    "\n",
    "        def update_device_function(*args):\n",
    "            device.value_function = WAVE_FUNCTIONS[function_var.get()]\n",
    "\n",
    "        def update_device_frequency(*args):\n",
    "            device.frequency = frequency_var.get()\n",
    "\n",
    "        def update_device_amplitude(*args):\n",
    "            device.amplitude = amplitude_var.get()\n",
    "\n",
    "        def update_device_phase(*args):\n",
    "            device.phase = phase_var.get()\n",
    "\n",
    "        frame = ttk.Frame(parent)\n",
    "        frame[\"borderwidth\"] = 2\n",
    "        frame[\"relief\"] = \"raised\"\n",
    "        frame.grid(column=1, row=row, sticky=\"NSEW\")\n",
    "        frame.rowconfigure(999, weight=1)\n",
    "        frame.columnconfigure(2, weight=1)\n",
    "\n",
    "        ttk.Label(frame, text=\"Name:\").grid(column=1, row=1, sticky=\"E\")\n",
    "        name_var = tk.StringVar(value=device.name)\n",
    "        name_var.trace_add(\"write\", update_device_name)\n",
    "        self._variables.append(name_var)\n",
    "        name_entry = ttk.Entry(frame, width=6, textvariable=name_var)\n",
    "        name_entry.grid(column=2, row=1, sticky=\"EW\")\n",
    "\n",
    "        ttk.Label(frame, text=\"Wave Function:\")\n",
    "        function_var = tk.StringVar()\n",
    "        function_var.trace_add(\"write\", update_device_function)\n",
    "        self._variables.append(function_var)\n",
    "        function_menu = ttk.OptionMenu(\n",
    "            frame, function_var, \"Sine Wave\", *list(WAVE_FUNCTIONS.keys())\n",
    "        )\n",
    "        function_menu.grid(column=2, row=2, sticky=\"EW\")\n",
    "\n",
    "        ttk.Label(frame, text=\"Frequency:\").grid(column=1, row=3, sticky=\"E\", padx=12)\n",
    "        initial_frequency = device.frequency\n",
    "        frequency_var = tk.DoubleVar()\n",
    "        frequency_var.trace_add(\"write\", update_device_frequency)\n",
    "        self._variables.append(frequency_var)\n",
    "        frequency_scale = ttk.LabeledScale(\n",
    "            frame, variable=frequency_var, from_=0.1, to=4.0\n",
    "        )\n",
    "        frequency_scale.grid(column=2, row=3, sticky=\"EW\", padx=12)\n",
    "        frequency_var.set(initial_frequency)\n",
    "\n",
    "        ttk.Label(frame, text=\"Amplitude:\").grid(column=1, row=4, sticky=\"E\", padx=12)\n",
    "        initial_amplitude = device.amplitude\n",
    "        amplitude_var = tk.DoubleVar()\n",
    "        amplitude_var.trace_add(\"write\", update_device_amplitude)\n",
    "        self._variables.append(amplitude_var)\n",
    "        amplitude_scale = ttk.LabeledScale(\n",
    "            frame, variable=amplitude_var, from_=0.5, to=4.0\n",
    "        )\n",
    "        amplitude_scale.grid(column=2, row=4, sticky=\"EW\", padx=12)\n",
    "        amplitude_var.set(initial_amplitude)\n",
    "\n",
    "        ttk.Label(frame, text=\"Phase:\").grid(column=1, row=5, sticky=\"E\", padx=12)\n",
    "        initial_phase = device.phase\n",
    "        phase_var = tk.DoubleVar()\n",
    "        phase_var.trace_add(\"write\", update_device_phase)\n",
    "        self._variables.append(phase_var)\n",
    "        phase_scale = ttk.LabeledScale(\n",
    "            frame, variable=phase_var, from_=0.0, to=2 * np.pi\n",
    "        )\n",
    "        phase_scale.grid(column=2, row=5, sticky=\"EW\", padx=12)\n",
    "        phase_var.set(initial_phase)\n",
    "\n",
    "    def add_plot_frame(self, parent):\n",
    "        plot_frame = ttk.Frame(parent, padding=\"3 3 12 12\")\n",
    "        plot_frame.grid(column=2, row=1, sticky=\"NSEW\", rowspan=len(self.devices))\n",
    "\n",
    "        # TODO: Should this be set to device DPI?\n",
    "        self.figure = Figure(figsize=(8, 4), dpi=120)\n",
    "        self.figure_canvas = FigureCanvasTkAgg(figure=self.figure, master=plot_frame)\n",
    "        NavigationToolbar2Tk(self.figure_canvas, plot_frame)\n",
    "        self.axes = self.figure.add_subplot()\n",
    "        self.axes.set_title(\"Device Measurements\")\n",
    "        self.figure_canvas.get_tk_widget().pack(side=tk.TOP, fill=tk.BOTH, expand=1)\n",
    "\n",
    "    def run_devices(self, *args):\n",
    "        self.should_devices_run = True\n",
    "        self.run_button[\"command\"] = self.stop_devices\n",
    "        self.run_button[\"text\"] = \"Stop\"\n",
    "        self.update_devices()\n",
    "\n",
    "    def stop_devices(self, *args):\n",
    "        self.should_devices_run = False\n",
    "        self.run_button[\"command\"] = self.run_devices\n",
    "        self.run_button[\"text\"] = \"Run\"\n",
    "\n",
    "    def update_devices(self):\n",
    "        new_measurements = self.devices.get_measurements()\n",
    "        self.ys = np.concatenate([self.ys, new_measurements], axis=1)[\n",
    "            :, -self.n_displayed_samples :\n",
    "        ]\n",
    "        self.axes.cla()\n",
    "        self.axes.plot(self.xs, self.ys.T, label=self.devices.names)\n",
    "        self.axes.legend(loc=\"upper right\")\n",
    "        self.figure_canvas.draw()\n",
    "        if self.should_devices_run:\n",
    "            self.root.after(100, self.update_devices)\n",
    "\n",
    "    def run(self):\n",
    "        self.root.mainloop()"
   ]
  },
  {
   "cell_type": "code",
   "execution_count": null,
   "id": "a1bf5b3cb82743a3",
   "metadata": {},
   "outputs": [],
   "source": [
    "app = MeasurementApp()\n",
    "app.run()"
   ]
  },
  {
   "cell_type": "code",
   "execution_count": null,
   "id": "6b4e03423667dbb7",
   "metadata": {},
   "outputs": [],
   "source": []
  }
 ],
 "metadata": {
  "kernelspec": {
   "display_name": "Python 3 (ipykernel)",
   "language": "python",
   "name": "python3"
  }
 },
 "nbformat": 4,
 "nbformat_minor": 5
}
