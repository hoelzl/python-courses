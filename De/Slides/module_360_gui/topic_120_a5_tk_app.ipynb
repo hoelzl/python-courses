{
 "cells": [
  {
   "cell_type": "markdown",
   "id": "3b18c825f979ecb2",
   "metadata": {
    "lang": "de",
    "slideshow": {
     "slide_type": "slide"
    }
   },
   "source": [
    "<img src=\"../../img/python-logo-no-text.svg\"\n",
    "     style=\"display:block;margin:auto;width:10%\"/>\n",
    "<br>\n",
    "<div style=\"text-align:center; font-size:200%;\">\n",
    "  <b>Eine Tkinter Applikationsklasse</b>\n",
    "</div>\n",
    "<br/>\n",
    "<div style=\"text-align:center;\">Dr. Matthias Hölzl</div>\n",
    "<br/>\n",
    "<div style=\"text-align:center;\">module_360_gui/topic_120_a5_tk_app</div>"
   ]
  },
  {
   "cell_type": "markdown",
   "id": "70691b53fa8d6f1e",
   "metadata": {
    "lang": "de",
    "slideshow": {
     "slide_type": "slide"
    }
   },
   "source": [
    "\n",
    "# Eine Objektorientierte Tkinter Applikation\n"
   ]
  },
  {
   "cell_type": "code",
   "execution_count": 1,
   "id": "3ee1280566d72fc2",
   "metadata": {
    "lines_to_next_cell": 1,
    "tags": [
     "keep"
    ]
   },
   "outputs": [],
   "source": [
    "from dataclasses import dataclass\n",
    "import tkinter as tk\n",
    "import tkinter.ttk as ttk"
   ]
  },
  {
   "cell_type": "code",
   "execution_count": 2,
   "id": "3be3eb6c5897f2b2",
   "metadata": {
    "tags": [
     "keep"
    ]
   },
   "outputs": [],
   "source": [
    "def convert_fahrenheit_to_celsius(fahrenheit):\n",
    "    return (fahrenheit - 32) * 5 / 9"
   ]
  },
  {
   "cell_type": "code",
   "execution_count": 3,
   "id": "d1d225d1b4085483",
   "metadata": {
    "tags": [
     "keep"
    ]
   },
   "outputs": [],
   "source": [
    "class FahrenheitToCelsiusConverter:\n",
    "    def __init__(self):\n",
    "        root = tk.Tk()\n",
    "        root.title(\"Convert Fahrenheit to Celsius\")\n",
    "        root.columnconfigure(1, weight=1)\n",
    "        root.rowconfigure(1, weight=1)\n",
    "\n",
    "        main_frame = ttk.Frame(root, padding=\"3 3 12 12\")\n",
    "        main_frame.grid(column=1, row=1, sticky=\"NSEW\")\n",
    "\n",
    "        fahrenheit_text = tk.StringVar()\n",
    "        fahrenheit_entry = ttk.Entry(main_frame, width=6, textvariable=fahrenheit_text)\n",
    "        fahrenheit_entry.grid(column=2, row=1, sticky=\"EW\")\n",
    "        fahrenheit_entry.focus()\n",
    "\n",
    "        celsius_text = tk.StringVar(value=\"<none>\")\n",
    "        celsius_label = ttk.Label(main_frame, textvariable=celsius_text)\n",
    "        celsius_label.grid(column=2, row=2, sticky=\"EW\")\n",
    "\n",
    "        convert_button = ttk.Button(\n",
    "            main_frame,\n",
    "            text=\"Convert\",\n",
    "            default=\"active\",\n",
    "            command=self.perform_conversion,\n",
    "        )\n",
    "        convert_button.grid(column=2, row=3, sticky=\"E\")\n",
    "        root.bind(\"<Return>\", self.perform_conversion)\n",
    "\n",
    "        ttk.Label(main_frame, text=\"Fahrenheit:\").grid(column=1, row=1, sticky=\"E\")\n",
    "        ttk.Label(main_frame, text=\"Celsius:\").grid(column=1, row=2, sticky=\"E\")\n",
    "\n",
    "        main_frame.columnconfigure(2, weight=1)\n",
    "        main_frame.rowconfigure(0, weight=1)\n",
    "        main_frame.rowconfigure(99, weight=1)\n",
    "\n",
    "        for child in main_frame.winfo_children():\n",
    "            child.grid_configure(padx=2, pady=1)\n",
    "\n",
    "        self.root = root\n",
    "        self._fahrenheit_text = fahrenheit_text\n",
    "        self._celsius_text = celsius_text\n",
    "\n",
    "    @property\n",
    "    def fahrenheit_text(self):\n",
    "        return self._fahrenheit_text.get()\n",
    "\n",
    "    @fahrenheit_text.setter\n",
    "    def fahrenheit_text(self, new_value):\n",
    "        assert isinstance(\n",
    "            new_value, str\n",
    "        ), f\"Cannot set fahrenheit_text to {type(new_value)!r}.\"\n",
    "        self._fahrenheit_text.set(new_value)\n",
    "\n",
    "    @property\n",
    "    def celsius_text(self):\n",
    "        return self._celsius_text.get()\n",
    "\n",
    "    @celsius_text.setter\n",
    "    def celsius_text(self, new_value):\n",
    "        assert isinstance(\n",
    "            new_value, str\n",
    "        ), f\"Cannot set celsius_text to {type(new_value)!r}.\"\n",
    "        self._celsius_text.set(new_value)\n",
    "\n",
    "    def perform_conversion(self, *args):\n",
    "        try:\n",
    "            celsius = convert_fahrenheit_to_celsius(float(self.fahrenheit_text))\n",
    "            self.celsius_text = f\"{celsius:.2f}\"\n",
    "        except:\n",
    "            self.fahrenheit_text = \"\"\n",
    "            self.celsius_text = \"<none>\"\n",
    "\n",
    "    def run(self):\n",
    "        self.root.mainloop()"
   ]
  },
  {
   "cell_type": "code",
   "execution_count": 4,
   "id": "d44f1947394b85b9",
   "metadata": {
    "lines_to_next_cell": 1
   },
   "outputs": [],
   "source": [
    "app = FahrenheitToCelsiusConverter()"
   ]
  },
  {
   "cell_type": "code",
   "execution_count": 5,
   "id": "b77190f0d5f0d5c4",
   "metadata": {},
   "outputs": [],
   "source": [
    "app.run()"
   ]
  },
  {
   "cell_type": "markdown",
   "id": "b157e7f8a98984d1",
   "metadata": {
    "lang": "de",
    "slideshow": {
     "slide_type": "subslide"
    }
   },
   "source": [
    "## Mini-Workshop: Umrechnung in Meilen mit GUI\n",
    "\n",
    "Die Funktion `konvertiere_km_nach_meilen(km)` rechnet einen Wert\n",
    "von Kilometer in Meilen um:\n"
   ]
  },
  {
   "cell_type": "code",
   "execution_count": null,
   "id": "1a4b7d4ab6c73be0",
   "metadata": {
    "lang": "de",
    "tags": [
     "keep"
    ]
   },
   "outputs": [],
   "source": [
    "def konvertiere_km_nach_meilen(km):\n",
    "    return km * 0.621371"
   ]
  },
  {
   "cell_type": "markdown",
   "id": "97e38858a51367fe",
   "metadata": {
    "lang": "de"
   },
   "source": [
    "\n",
    "Schreiben Sie eine Klasse `DistanceConverter`, die ein GUI zur Verfügung\n",
    "stellt, mit dem der Benutzer eine Entfernung in Kilometern eingeben kann und\n",
    "die äquivalente Entfernung in Meilen angezeigt bekommt. Wenn die Eingabe\n",
    "ungültig ist, soll der Text `no distance` angezeigt werden."
   ]
  },
  {
   "cell_type": "code",
   "execution_count": null,
   "id": "c5561f333246da38",
   "metadata": {
    "lines_to_next_cell": 1,
    "tags": [
     "keep"
    ]
   },
   "outputs": [],
   "source": [
    "class DistanceConverter:\n",
    "    def __init__(self):\n",
    "        root = tk.Tk()\n",
    "        root.title = \"Convert Kilometers to Miles\"\n",
    "        root.columnconfigure(1, weight=1)\n",
    "        root.rowconfigure(1, weight=1)\n",
    "\n",
    "        main_frame = ttk.Frame(root, padding=\"3 3 12 12\")\n",
    "        main_frame.grid(column=1, row=1, sticky=\"NSEW\")\n",
    "\n",
    "        km_text = tk.StringVar()\n",
    "        km_entry = ttk.Entry(main_frame, width=6, textvariable=km_text)\n",
    "        km_entry.grid(column=2, row=1, sticky=\"EW\")\n",
    "        km_entry.focus()\n",
    "\n",
    "        miles_text = tk.StringVar(value=\"<no distance>\")\n",
    "        miles_label = ttk.Label(main_frame, textvariable=miles_text)\n",
    "        miles_label.grid(column=2, row=2, sticky=\"EW\")\n",
    "\n",
    "        convert_button = ttk.Button(\n",
    "            main_frame,\n",
    "            text=\"Convert\",\n",
    "            default=\"active\",\n",
    "            command=self.perform_conversion,\n",
    "        )\n",
    "        convert_button.grid(column=2, row=3, sticky=\"E\")\n",
    "        root.bind(\"<Return>\", self.perform_conversion)\n",
    "\n",
    "        ttk.Label(main_frame, text=\"Km:\").grid(column=1, row=1, sticky=\"E\")\n",
    "        ttk.Label(main_frame, text=\"Miles:\").grid(column=1, row=2, sticky=\"E\")\n",
    "\n",
    "        main_frame.columnconfigure(2, weight=1)\n",
    "        main_frame.rowconfigure(0, weight=1)\n",
    "        main_frame.rowconfigure(99, weight=1)\n",
    "\n",
    "        for child in main_frame.winfo_children():\n",
    "            child.grid_configure(padx=2, pady=1)\n",
    "\n",
    "        self.root = root\n",
    "        self._km_text = km_text\n",
    "        self._miles_text = miles_text\n",
    "\n",
    "    @property\n",
    "    def km_text(self):\n",
    "        return self._km_text.get()\n",
    "\n",
    "    @km_text.setter\n",
    "    def km_text(self, new_value):\n",
    "        assert isinstance(\n",
    "            new_value, str\n",
    "        ), f\"Cannot set km_text to {type(new_value)!r}.\"\n",
    "        self._km_text.set(new_value)\n",
    "\n",
    "    @property\n",
    "    def miles_text(self):\n",
    "        return self._miles_text.get()\n",
    "\n",
    "    @miles_text.setter\n",
    "    def miles_text(self, new_value):\n",
    "        assert isinstance(\n",
    "            new_value, str\n",
    "        ), f\"Cannot set miles_text to {type(new_value)!r}.\"\n",
    "        self._miles_text.set(new_value)\n",
    "\n",
    "    def perform_conversion(self, *args):\n",
    "        try:\n",
    "            miles = convert_km_to_miles(float(self.km_text))\n",
    "            self.miles_text = f\"{miles:.2f}\"\n",
    "        except:\n",
    "            self.km_text = \"\"\n",
    "            self.miles_text = \"<no distance>\"\n",
    "\n",
    "    def run(self):\n",
    "        self.root.mainloop()"
   ]
  },
  {
   "cell_type": "code",
   "execution_count": null,
   "id": "11f419396ccb7039",
   "metadata": {},
   "outputs": [],
   "source": [
    "dc = DistanceConverter()"
   ]
  },
  {
   "cell_type": "code",
   "execution_count": null,
   "id": "fdcafb297576bb4d",
   "metadata": {
    "lines_to_next_cell": 0
   },
   "outputs": [],
   "source": [
    "dc.run()"
   ]
  },
  {
   "cell_type": "code",
   "execution_count": null,
   "id": "6b4e03423667dbb7",
   "metadata": {},
   "outputs": [],
   "source": []
  }
 ],
 "metadata": {
  "kernelspec": {
   "display_name": "Python 3 (ipykernel)",
   "language": "python",
   "name": "python3"
  },
  "language_info": {
   "codemirror_mode": {
    "name": "ipython",
    "version": 3
   },
   "file_extension": ".py",
   "mimetype": "text/x-python",
   "name": "python",
   "nbconvert_exporter": "python",
   "pygments_lexer": "ipython3",
   "version": "3.10.6"
  }
 },
 "nbformat": 4,
 "nbformat_minor": 5
}
