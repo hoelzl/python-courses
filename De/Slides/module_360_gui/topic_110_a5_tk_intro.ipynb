{
 "cells": [
  {
   "cell_type": "markdown",
   "id": "86ec2d306f820543",
   "metadata": {
    "lang": "de",
    "slideshow": {
     "slide_type": "slide"
    }
   },
   "source": [
    "<img src=\"../../img/python-logo-no-text.svg\"\n",
    "     style=\"display:block;margin:auto;width:10%\"/>\n",
    "<br>\n",
    "<div style=\"text-align:center; font-size:200%;\">\n",
    "  <b>Einführung in Tkinter</b>\n",
    "</div>\n",
    "<br/>\n",
    "<div style=\"text-align:center;\">Dr. Matthias Hölzl</div>\n",
    "<br/>\n",
    "<div style=\"text-align:center;\">module_360_gui/topic_110_a5_tk_intro</div>"
   ]
  },
  {
   "cell_type": "markdown",
   "id": "df0084f032e4840c",
   "metadata": {
    "lang": "de",
    "slideshow": {
     "slide_type": "slide"
    }
   },
   "source": [
    "\n",
    "# Einführung in Tkinter\n",
    "\n",
    "Tkinter ist ein GUI-Toolkit, der in der Standard-Python Distribution enthalten\n",
    "ist. Die Entwicklungsumgebung IDLE verwendet Tkinter für die\n",
    "Benutzeroberfläche.\n",
    "\n",
    "Das folgende Beispiel zeigt ein einfaches Tkinter-Programm um die\n",
    "Grundlegenden Features zu erklären. Es ist kein Beispiel für guten\n",
    "Programmierstil!"
   ]
  },
  {
   "cell_type": "markdown",
   "id": "9dd5c8e65de8c1b5",
   "metadata": {
    "lang": "de",
    "slideshow": {
     "slide_type": "subslide"
    }
   },
   "source": [
    "\n",
    "Wir wollen die folgende Anwendung programmieren:\n",
    "\n",
    "<img src=\"img/converter-01.png\"\n",
    "     style=\"display:block;margin:auto;width:30%\"/>"
   ]
  },
  {
   "cell_type": "code",
   "execution_count": null,
   "id": "3be3eb6c5897f2b2",
   "metadata": {},
   "outputs": [],
   "source": [
    "def convert_fahrenheit_to_celsius(fahrenheit):\n",
    "    return (fahrenheit - 32) * 5 / 9"
   ]
  },
  {
   "cell_type": "code",
   "execution_count": null,
   "id": "798483884bc1e940",
   "metadata": {},
   "outputs": [],
   "source": [
    "import tkinter as tk\n",
    "import tkinter.ttk as ttk"
   ]
  },
  {
   "cell_type": "code",
   "execution_count": null,
   "id": "2c7170f8be66bfa6",
   "metadata": {},
   "outputs": [],
   "source": [
    "root = tk.Tk()\n",
    "root.title = \"Convert Fahrenheit to Celsius\""
   ]
  },
  {
   "cell_type": "code",
   "execution_count": null,
   "id": "50d6b1b90938e46d",
   "metadata": {},
   "outputs": [],
   "source": [
    "main_frame = ttk.Frame(root, padding=\"3 3 12 12\")\n",
    "main_frame.grid(column=0, row=0, sticky=\"NSEW\")"
   ]
  },
  {
   "cell_type": "code",
   "execution_count": null,
   "id": "bad1e8d8245803de",
   "metadata": {},
   "outputs": [],
   "source": [
    "fahrenheit_text = tk.StringVar()\n",
    "fahrenheit_entry = ttk.Entry(main_frame, width=6, textvariable=fahrenheit_text)\n",
    "fahrenheit_entry.grid(column=2, row=1, sticky=\"W E\")\n",
    "fahrenheit_entry.focus()"
   ]
  },
  {
   "cell_type": "code",
   "execution_count": null,
   "id": "27122cc82d7571f7",
   "metadata": {
    "lines_to_next_cell": 1
   },
   "outputs": [],
   "source": [
    "celsius_text = tk.StringVar(value=\"<none>\")\n",
    "celsius_label = ttk.Label(main_frame, textvariable=celsius_text)\n",
    "celsius_label.grid(column=2, row=2, sticky=\"W E\")"
   ]
  },
  {
   "cell_type": "code",
   "execution_count": null,
   "id": "75745f49f806fd59",
   "metadata": {},
   "outputs": [],
   "source": [
    "def perform_conversion(*args):\n",
    "    try:\n",
    "        celsius = convert_fahrenheit_to_celsius(float(fahrenheit_text.get()))\n",
    "        celsius_text.set(f\"{celsius:.2f}\")\n",
    "    except:\n",
    "        fahrenheit_text.set(\"<invalid input>\")\n",
    "        celsius_text.set(\"<none>\")"
   ]
  },
  {
   "cell_type": "code",
   "execution_count": null,
   "id": "4153ac1c50bdbe42",
   "metadata": {},
   "outputs": [],
   "source": [
    "convert_button = ttk.Button(\n",
    "    main_frame,\n",
    "    text=\"Convert\",\n",
    "    command=perform_conversion,\n",
    ")\n",
    "convert_button.grid(column=2, row=3, sticky=\"E\")\n",
    "root.bind(\"<Return>\", perform_conversion);"
   ]
  },
  {
   "cell_type": "code",
   "execution_count": null,
   "id": "ab18960c3c49dd47",
   "metadata": {},
   "outputs": [],
   "source": [
    "ttk.Label(main_frame, text=\"Fahrenheit:\").grid(column=1, row=1, sticky=\"E\")\n",
    "ttk.Label(main_frame, text=\"Celsius:\").grid(column=1, row=2, sticky=\"E\")"
   ]
  },
  {
   "cell_type": "code",
   "execution_count": null,
   "id": "53eb6f0422fa9d22",
   "metadata": {},
   "outputs": [],
   "source": [
    "for child in main_frame.winfo_children():\n",
    "    child.grid_configure(padx=2, pady=1)"
   ]
  },
  {
   "cell_type": "code",
   "execution_count": null,
   "id": "e72002cef84642d2",
   "metadata": {},
   "outputs": [],
   "source": [
    "root.mainloop()"
   ]
  },
  {
   "cell_type": "code",
   "execution_count": null,
   "id": "6b4e03423667dbb7",
   "metadata": {},
   "outputs": [],
   "source": []
  }
 ],
 "metadata": {
  "kernelspec": {
   "display_name": "Python 3 (ipykernel)",
   "language": "python",
   "name": "python3"
  }
 },
 "nbformat": 4,
 "nbformat_minor": 5
}
