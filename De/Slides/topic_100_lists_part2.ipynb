{
 "cells": [
  {
   "cell_type": "markdown",
   "id": "516487a8",
   "metadata": {
    "lang": "de",
    "slideshow": {
     "slide_type": "slide"
    }
   },
   "source": [
    "<img src=\"img/python-logo-notext.svg\"\n",
    "     style=\"display:block;margin:auto;width:10%\"/>\n",
    "<br>\n",
    "<div style=\"text-align:center; font-size:200%;\"><b>Vertiefung zu Listen</b></div>\n",
    "<br/>\n",
    "<div style=\"text-align:center;\">Dr. Matthias Hölzl</div>"
   ]
  },
  {
   "cell_type": "markdown",
   "id": "afc5fb3b",
   "metadata": {
    "lang": "de",
    "slideshow": {
     "slide_type": "slide"
    }
   },
   "source": [
    "# Listen\n",
    "\n",
    "Wiederholung:\n",
    "\n",
    "- Listen-Literale werden in eckige Klammern eingeschlossen\n",
    "- Andere Sequenzen können mittels `list` in Listen umgewandelt werden"
   ]
  },
  {
   "cell_type": "code",
   "execution_count": null,
   "id": "0a36c6e2",
   "metadata": {
    "tags": [
     "keep"
    ]
   },
   "outputs": [],
   "source": [
    "[\"a\", \"b\", \"c\"]"
   ]
  },
  {
   "cell_type": "code",
   "execution_count": null,
   "id": "47c4152d",
   "metadata": {},
   "outputs": [],
   "source": [
    "list(\"abcde\")"
   ]
  },
  {
   "cell_type": "markdown",
   "id": "61ea83e0",
   "metadata": {
    "lang": "de",
    "slideshow": {
     "slide_type": "slide"
    }
   },
   "source": [
    "\n",
    "## Ranges"
   ]
  },
  {
   "cell_type": "code",
   "execution_count": null,
   "id": "7f45daec",
   "metadata": {
    "tags": [
     "keep"
    ]
   },
   "outputs": [],
   "source": [
    "range(1, 4)"
   ]
  },
  {
   "cell_type": "code",
   "execution_count": null,
   "id": "5bae10a4",
   "metadata": {
    "tags": [
     "keep"
    ]
   },
   "outputs": [],
   "source": [
    "list(range(1, 4))"
   ]
  },
  {
   "cell_type": "code",
   "execution_count": null,
   "id": "7c98b2cf",
   "metadata": {
    "tags": [
     "keep"
    ]
   },
   "outputs": [],
   "source": [
    "range(4)"
   ]
  },
  {
   "cell_type": "code",
   "execution_count": null,
   "id": "46ab3c29",
   "metadata": {
    "tags": [
     "keep"
    ]
   },
   "outputs": [],
   "source": [
    "list(range(4))"
   ]
  },
  {
   "cell_type": "code",
   "execution_count": null,
   "id": "8a0fbbc0",
   "metadata": {
    "tags": [
     "keep"
    ]
   },
   "outputs": [],
   "source": [
    "list(range(1, 9, 2))"
   ]
  },
  {
   "cell_type": "code",
   "execution_count": null,
   "id": "ad49c384",
   "metadata": {
    "tags": [
     "keep"
    ]
   },
   "outputs": [],
   "source": [
    "for x in range(1, 4):\n",
    "    print(x)"
   ]
  },
  {
   "cell_type": "markdown",
   "id": "e5b0bac9",
   "metadata": {
    "lang": "de",
    "slideshow": {
     "slide_type": "subslide"
    }
   },
   "source": [
    "## Mini-Workshop\n",
    "\n",
    "- Notebook `workshop_060_introduction_part2`\n",
    "- Abschnitt \"Ausgabe von Quadratzahlen\""
   ]
  },
  {
   "cell_type": "markdown",
   "id": "bf67c548",
   "metadata": {
    "lang": "de",
    "slideshow": {
     "slide_type": "subslide"
    }
   },
   "source": [
    "## Eigenschaften von Listen\n",
    "\n",
    "- Listen können beliebige Python-Werte speichern\n",
    "- Elemente in einer Liste haben eine feste Reihenfolge\n",
    "- Auf Elemente einer Liste kann mit einem Index zugegriffen werden\n",
    "- Listen können modifiziert werden\n",
    "\n",
    "Listen können Elemente mit verschiedenen Typen enthalten, die meisten Listen\n",
    "enthalten aber Elemente eines einzigen Typs."
   ]
  },
  {
   "cell_type": "code",
   "execution_count": null,
   "id": "6aec0bcd",
   "metadata": {
    "slideshow": {
     "slide_type": "subslide"
    },
    "tags": [
     "keep"
    ]
   },
   "outputs": [],
   "source": [
    "stringliste = [\"a\", \"b\", \"c\"]"
   ]
  },
  {
   "cell_type": "code",
   "execution_count": null,
   "id": "0de1f84e",
   "metadata": {},
   "outputs": [],
   "source": [
    "stringliste[0]"
   ]
  },
  {
   "cell_type": "code",
   "execution_count": null,
   "id": "f2f842d7",
   "metadata": {},
   "outputs": [],
   "source": [
    "stringliste[-1]"
   ]
  },
  {
   "cell_type": "markdown",
   "id": "2a9a96d1",
   "metadata": {
    "lang": "de",
    "slideshow": {
     "slide_type": "subslide"
    }
   },
   "source": [
    "### Überprüfen, ob ein Element in einer Liste enthalten ist"
   ]
  },
  {
   "cell_type": "code",
   "execution_count": null,
   "id": "a49f4885",
   "metadata": {},
   "outputs": [],
   "source": [
    "2 in [1, 2, 3]"
   ]
  },
  {
   "cell_type": "code",
   "execution_count": null,
   "id": "43428620",
   "metadata": {},
   "outputs": [],
   "source": [
    "not (2 in [1, 3, 5])"
   ]
  },
  {
   "cell_type": "code",
   "execution_count": null,
   "id": "7901bac3",
   "metadata": {},
   "outputs": [],
   "source": [
    "2 not in [1, 3, 5]"
   ]
  },
  {
   "cell_type": "markdown",
   "id": "91ee73f7",
   "metadata": {
    "lang": "de",
    "slideshow": {
     "slide_type": "subslide"
    }
   },
   "source": [
    "### Finden der Position eines Elements"
   ]
  },
  {
   "cell_type": "code",
   "execution_count": null,
   "id": "ac0cf7ad",
   "metadata": {},
   "outputs": [],
   "source": [
    "[1, 2, 3, 2, 4].index(2)"
   ]
  },
  {
   "cell_type": "code",
   "execution_count": null,
   "id": "f7706735",
   "metadata": {
    "tags": [
     "keep"
    ]
   },
   "outputs": [],
   "source": [
    "my_list = [\"a\", \"b\", \"c\", \"d\", \"b\", \"d\", \"b\"]"
   ]
  },
  {
   "cell_type": "code",
   "execution_count": null,
   "id": "ee47f180",
   "metadata": {},
   "outputs": [],
   "source": [
    "my_index = my_list.index(\"b\")\n",
    "print(my_index)\n",
    "my_list[my_index]"
   ]
  },
  {
   "cell_type": "code",
   "execution_count": null,
   "id": "0e36fa98",
   "metadata": {},
   "outputs": [],
   "source": [
    "# Fehler\n",
    "# [1, 3, 5].index(2)"
   ]
  },
  {
   "cell_type": "markdown",
   "id": "2c97f338",
   "metadata": {
    "lang": "de",
    "slideshow": {
     "slide_type": "subslide"
    }
   },
   "source": [
    "## Mini-Workshop:\n",
    "\n",
    "Die Methode `index` wirft eine Exception, wenn das gesuchte Objekt nicht in\n",
    "der Liste vorkommt. Schreiben Sie eine Funktion\n",
    "```\n",
    "find(element, a_list)\n",
    "```\n",
    "\n",
    "- die einen Index zurückgibt, falls das Element `element` in der Liste\n",
    "  vorkommt, und\n",
    "- die `None` zurückgibt, falls es nicht vorkommt"
   ]
  },
  {
   "cell_type": "code",
   "execution_count": null,
   "id": "d6129473",
   "metadata": {
    "slideshow": {
     "slide_type": "subslide"
    }
   },
   "outputs": [],
   "source": [
    "def find(element, a_list):\n",
    "    if element in a_list:\n",
    "        return a_list.index(element)\n",
    "    else:\n",
    "        return None"
   ]
  },
  {
   "cell_type": "code",
   "execution_count": null,
   "id": "94a1b035",
   "metadata": {
    "slideshow": {
     "slide_type": "subslide"
    },
    "tags": [
     "keep"
    ]
   },
   "outputs": [],
   "source": [
    "my_list = [\"a\", \"b\", \"c\", \"d\", \"e\"]"
   ]
  },
  {
   "cell_type": "code",
   "execution_count": null,
   "id": "acbc645f",
   "metadata": {},
   "outputs": [],
   "source": [
    "find(\"a\", my_list)"
   ]
  },
  {
   "cell_type": "code",
   "execution_count": null,
   "id": "31162971",
   "metadata": {},
   "outputs": [],
   "source": [
    "find(\"d\", my_list)"
   ]
  },
  {
   "cell_type": "code",
   "execution_count": null,
   "id": "e79d36aa",
   "metadata": {},
   "outputs": [],
   "source": [
    "print(find(\"x\", my_list))"
   ]
  },
  {
   "cell_type": "markdown",
   "id": "27f9d078",
   "metadata": {
    "lang": "de",
    "slideshow": {
     "slide_type": "subslide"
    }
   },
   "source": [
    "### Modifikation von Elementen"
   ]
  },
  {
   "cell_type": "code",
   "execution_count": null,
   "id": "33418379",
   "metadata": {
    "tags": [
     "keep"
    ]
   },
   "outputs": [],
   "source": [
    "stringliste"
   ]
  },
  {
   "cell_type": "code",
   "execution_count": null,
   "id": "8feccefa",
   "metadata": {},
   "outputs": [],
   "source": [
    "stringliste[0] = \"A\""
   ]
  },
  {
   "cell_type": "code",
   "execution_count": null,
   "id": "1934253e",
   "metadata": {
    "tags": [
     "keep"
    ]
   },
   "outputs": [],
   "source": [
    "stringliste"
   ]
  },
  {
   "cell_type": "markdown",
   "id": "0d90266e",
   "metadata": {
    "lang": "de",
    "slideshow": {
     "slide_type": "subslide"
    }
   },
   "source": [
    "### Einfügen und Anhängen von Elementen"
   ]
  },
  {
   "cell_type": "code",
   "execution_count": null,
   "id": "591876dc",
   "metadata": {
    "tags": [
     "keep"
    ]
   },
   "outputs": [],
   "source": [
    "stringliste"
   ]
  },
  {
   "cell_type": "code",
   "execution_count": null,
   "id": "810fe294",
   "metadata": {},
   "outputs": [],
   "source": [
    "stringliste.append(\"D\")"
   ]
  },
  {
   "cell_type": "code",
   "execution_count": null,
   "id": "32041fa9",
   "metadata": {
    "tags": [
     "keep"
    ]
   },
   "outputs": [],
   "source": [
    "stringliste"
   ]
  },
  {
   "cell_type": "code",
   "execution_count": null,
   "id": "183a70b6",
   "metadata": {
    "slideshow": {
     "slide_type": "subslide"
    }
   },
   "outputs": [],
   "source": [
    "stringliste + [\"E\", \"F\"]"
   ]
  },
  {
   "cell_type": "code",
   "execution_count": null,
   "id": "42afbd06",
   "metadata": {
    "tags": [
     "keep"
    ]
   },
   "outputs": [],
   "source": [
    "stringliste"
   ]
  },
  {
   "cell_type": "code",
   "execution_count": null,
   "id": "80222275",
   "metadata": {},
   "outputs": [],
   "source": [
    "stringliste.extend([\"E\", \"F\"])"
   ]
  },
  {
   "cell_type": "code",
   "execution_count": null,
   "id": "49b86cd3",
   "metadata": {
    "slideshow": {
     "slide_type": "subslide"
    },
    "tags": [
     "keep"
    ]
   },
   "outputs": [],
   "source": [
    "stringliste"
   ]
  },
  {
   "cell_type": "code",
   "execution_count": null,
   "id": "3ff9fa4a",
   "metadata": {},
   "outputs": [],
   "source": [
    "stringliste.insert(1, \"Y\")"
   ]
  },
  {
   "cell_type": "code",
   "execution_count": null,
   "id": "01c5b785",
   "metadata": {
    "tags": [
     "keep"
    ]
   },
   "outputs": [],
   "source": [
    "stringliste"
   ]
  },
  {
   "cell_type": "code",
   "execution_count": null,
   "id": "7163a559",
   "metadata": {
    "slideshow": {
     "slide_type": "subslide"
    }
   },
   "outputs": [],
   "source": [
    "stringliste.insert(0, \"ANFANG\")"
   ]
  },
  {
   "cell_type": "code",
   "execution_count": null,
   "id": "38ccae16",
   "metadata": {
    "tags": [
     "keep"
    ]
   },
   "outputs": [],
   "source": [
    "stringliste"
   ]
  },
  {
   "cell_type": "code",
   "execution_count": null,
   "id": "a0878080",
   "metadata": {},
   "outputs": [],
   "source": [
    "# Vorsicht!\n",
    "stringliste.insert(-1, \"ENDE\")"
   ]
  },
  {
   "cell_type": "code",
   "execution_count": null,
   "id": "d0e2f3a4",
   "metadata": {
    "tags": [
     "keep"
    ]
   },
   "outputs": [],
   "source": [
    "stringliste"
   ]
  },
  {
   "cell_type": "markdown",
   "id": "ae2a4877",
   "metadata": {
    "lang": "de",
    "slideshow": {
     "slide_type": "subslide"
    }
   },
   "source": [
    "### Entfernen von Elementen"
   ]
  },
  {
   "cell_type": "code",
   "execution_count": null,
   "id": "f9566c0f",
   "metadata": {
    "tags": [
     "keep"
    ]
   },
   "outputs": [],
   "source": [
    "stringliste = [\"ANFANG\", \"A\", \"Y\", \"b\", \"c\", \"D\", \"E\", \"ENDE\", \"F\"]\n",
    "stringliste[7]"
   ]
  },
  {
   "cell_type": "code",
   "execution_count": null,
   "id": "b287f46d",
   "metadata": {},
   "outputs": [],
   "source": [
    "del stringliste[7]"
   ]
  },
  {
   "cell_type": "code",
   "execution_count": null,
   "id": "5a5fd896",
   "metadata": {
    "tags": [
     "keep"
    ]
   },
   "outputs": [],
   "source": [
    "stringliste"
   ]
  },
  {
   "cell_type": "markdown",
   "id": "af160a2e",
   "metadata": {
    "lang": "de",
    "slideshow": {
     "slide_type": "subslide"
    }
   },
   "source": [
    "### Länge einer Liste"
   ]
  },
  {
   "cell_type": "code",
   "execution_count": null,
   "id": "6060819c",
   "metadata": {
    "tags": [
     "keep"
    ]
   },
   "outputs": [],
   "source": [
    "stringliste"
   ]
  },
  {
   "cell_type": "code",
   "execution_count": null,
   "id": "7a0e4294",
   "metadata": {},
   "outputs": [],
   "source": [
    "len(stringliste)"
   ]
  },
  {
   "cell_type": "code",
   "execution_count": null,
   "id": "85b705bf",
   "metadata": {},
   "outputs": [],
   "source": [
    "stringliste.insert(len(stringliste), \"WIRKLICH DAS ENDE\")"
   ]
  },
  {
   "cell_type": "code",
   "execution_count": null,
   "id": "d355da3d",
   "metadata": {
    "tags": [
     "keep"
    ]
   },
   "outputs": [],
   "source": [
    "stringliste"
   ]
  },
  {
   "cell_type": "code",
   "execution_count": null,
   "id": "9b156fb9",
   "metadata": {},
   "outputs": [],
   "source": [
    "# Vorsicht\n",
    "# stringliste[len(stringliste)]"
   ]
  },
  {
   "cell_type": "markdown",
   "id": "81f52ae2",
   "metadata": {
    "lang": "de",
    "slideshow": {
     "slide_type": "subslide"
    }
   },
   "source": [
    "## Mini-Workshop\n",
    "\n",
    "- Notebook `workshop_100_lists_part2`\n",
    "- Abschnitt \"Farben\"\n"
   ]
  },
  {
   "cell_type": "markdown",
   "id": "9e4103fb",
   "metadata": {
    "lang": "de",
    "slideshow": {
     "slide_type": "slide"
    }
   },
   "source": [
    "## Erzeugen von Listen\n",
    "\n",
    "Durch den Multiplikationsoperator `*` können die Elemente einer Liste\n",
    "wiederholt werden:"
   ]
  },
  {
   "cell_type": "code",
   "execution_count": null,
   "id": "71c1e01a",
   "metadata": {},
   "outputs": [],
   "source": [
    "[1, 2] * 3"
   ]
  },
  {
   "cell_type": "code",
   "execution_count": null,
   "id": "3a033294",
   "metadata": {},
   "outputs": [],
   "source": [
    "3 * [\"a\", \"b\"]"
   ]
  },
  {
   "cell_type": "code",
   "execution_count": null,
   "id": "1154350a",
   "metadata": {},
   "outputs": [],
   "source": [
    "[0] * 10"
   ]
  },
  {
   "cell_type": "markdown",
   "id": "5564957a",
   "metadata": {
    "lang": "de",
    "slideshow": {
     "slide_type": "slide"
    }
   },
   "source": [
    "## Slicing\n",
    "\n",
    "Mit der Notation `liste[m:n]` kann man eine \"Teilliste\" von `liste`\n",
    "extrahieren.\n",
    "\n",
    "- Das erste Element ist `liste[m]`\n",
    "- Das letzte Element ist `liste[n-1]`"
   ]
  },
  {
   "cell_type": "code",
   "execution_count": null,
   "id": "36debfd5",
   "metadata": {
    "slideshow": {
     "slide_type": "subslide"
    },
    "tags": [
     "keep"
    ]
   },
   "outputs": [],
   "source": [
    "stringliste = [\"a\", \"b\", \"c\", \"d\", \"e\"]"
   ]
  },
  {
   "cell_type": "code",
   "execution_count": null,
   "id": "2f55e39d",
   "metadata": {},
   "outputs": [],
   "source": [
    "stringliste[1:3]"
   ]
  },
  {
   "cell_type": "code",
   "execution_count": null,
   "id": "ec5c85d8",
   "metadata": {},
   "outputs": [],
   "source": [
    "stringliste[1:1]"
   ]
  },
  {
   "cell_type": "code",
   "execution_count": null,
   "id": "22efc732",
   "metadata": {},
   "outputs": [],
   "source": [
    "stringliste[0 : len(stringliste)]"
   ]
  },
  {
   "cell_type": "code",
   "execution_count": null,
   "id": "675b11ab",
   "metadata": {
    "slideshow": {
     "slide_type": "subslide"
    }
   },
   "outputs": [],
   "source": [
    "stringliste[:3]"
   ]
  },
  {
   "cell_type": "code",
   "execution_count": null,
   "id": "b7c4d8dc",
   "metadata": {},
   "outputs": [],
   "source": [
    "stringliste[1:]"
   ]
  },
  {
   "cell_type": "code",
   "execution_count": null,
   "id": "04fa9cef",
   "metadata": {},
   "outputs": [],
   "source": [
    "stringliste[:]"
   ]
  },
  {
   "cell_type": "markdown",
   "id": "0e91ff1b",
   "metadata": {
    "lang": "de",
    "slideshow": {
     "slide_type": "subslide"
    }
   },
   "source": [
    "## Mini-Workshop\n",
    "\n",
    "- Notebook `workshop_100_lists_part2`\n",
    "- Abschnitt \"Slicing\"\n"
   ]
  },
  {
   "cell_type": "markdown",
   "id": "66e9234e",
   "metadata": {
    "lang": "de",
    "slideshow": {
     "slide_type": "slide"
    }
   },
   "source": [
    "## Zuweisung an Slices\n",
    "\n",
    "Man kann Werte an Slices zuweisen:"
   ]
  },
  {
   "cell_type": "code",
   "execution_count": null,
   "id": "9581723c",
   "metadata": {},
   "outputs": [],
   "source": [
    "liste = [1, 2, 3, 4]\n",
    "liste[1:3]"
   ]
  },
  {
   "cell_type": "code",
   "execution_count": null,
   "id": "63498be3",
   "metadata": {},
   "outputs": [],
   "source": [
    "liste[1:3] = [\"a\", \"b\", \"c\"]\n",
    "liste"
   ]
  },
  {
   "cell_type": "code",
   "execution_count": null,
   "id": "90a20a9c",
   "metadata": {},
   "outputs": [],
   "source": [
    "liste[2:2]"
   ]
  },
  {
   "cell_type": "code",
   "execution_count": null,
   "id": "7ae8a4f3",
   "metadata": {},
   "outputs": [],
   "source": [
    "liste[2:2] = [\"x\"]\n",
    "liste"
   ]
  },
  {
   "cell_type": "code",
   "execution_count": null,
   "id": "26ded845",
   "metadata": {
    "slideshow": {
     "slide_type": "subslide"
    }
   },
   "outputs": [],
   "source": [
    "liste[:] = [11, 22, 33]\n",
    "liste"
   ]
  },
  {
   "cell_type": "markdown",
   "id": "1a1b570a",
   "metadata": {
    "lang": "de",
    "slideshow": {
     "slide_type": "slide"
    }
   },
   "source": [
    "## Slices als Objekte\n",
    "\n",
    "Slices sind selber Python Objekte. Außerhalb der Indexing-Operation `[]`\n",
    "können sie allerdings nicht mit der Notation `a:b` erzeugt werden, sondern\n",
    "mit der Konstruktor-Funktion `slice()`."
   ]
  },
  {
   "cell_type": "code",
   "execution_count": null,
   "id": "5783cf95",
   "metadata": {
    "lines_to_next_cell": 2,
    "tags": [
     "keep"
    ]
   },
   "outputs": [],
   "source": [
    "my_list = [1, 2, 3, 4, 5, 6]\n",
    "print(my_list[2:4])"
   ]
  },
  {
   "cell_type": "code",
   "execution_count": null,
   "id": "8cd6b3a7",
   "metadata": {},
   "outputs": [],
   "source": [
    "my_slice = slice(2, 4)\n",
    "print(my_list[my_slice])"
   ]
  },
  {
   "cell_type": "code",
   "execution_count": null,
   "id": "e40a7cc4",
   "metadata": {
    "slideshow": {
     "slide_type": "subslide"
    },
    "tags": [
     "keep"
    ]
   },
   "outputs": [],
   "source": [
    "print(my_list[:3])"
   ]
  },
  {
   "cell_type": "code",
   "execution_count": null,
   "id": "8e06099e",
   "metadata": {},
   "outputs": [],
   "source": [
    "my_slice = slice(None, 3)\n",
    "print(my_list[my_slice])"
   ]
  },
  {
   "cell_type": "markdown",
   "id": "ff5e64b1",
   "metadata": {
    "lang": "de",
    "slideshow": {
     "slide_type": "subslide"
    }
   },
   "source": [
    "\n",
    "Die `indices()`-Methode eines Slice-Objekts kann dazu verwendet werden zu\n",
    "bestimmen, welche Indizes das Slice enthält:"
   ]
  },
  {
   "cell_type": "code",
   "execution_count": null,
   "id": "cc68f1b1",
   "metadata": {
    "tags": [
     "keep"
    ]
   },
   "outputs": [],
   "source": [
    "my_slice = slice(None, 3)\n",
    "print(my_slice.indices(len(my_list)))"
   ]
  },
  {
   "cell_type": "markdown",
   "id": "41b8f678",
   "metadata": {
    "lang": "de"
   },
   "source": [
    "\n",
    "Damit können wir eine Funktion schreiben, die alle Elemente eines Slices\n",
    "durch einen Wert ersetzt:"
   ]
  },
  {
   "cell_type": "code",
   "execution_count": null,
   "id": "86921cbc",
   "metadata": {
    "slideshow": {
     "slide_type": "subslide"
    },
    "tags": [
     "keep"
    ]
   },
   "outputs": [],
   "source": [
    "def replace_with(my_list, my_slice, value):\n",
    "    import math\n",
    "\n",
    "    start, stop, stride = my_slice.indices(len(my_list))\n",
    "    num_values = math.ceil((stop - start) / stride)\n",
    "    my_list[my_slice] = [value] * num_values"
   ]
  },
  {
   "cell_type": "code",
   "execution_count": null,
   "id": "02b0be81",
   "metadata": {
    "slideshow": {
     "slide_type": "subslide"
    },
    "tags": [
     "keep"
    ]
   },
   "outputs": [],
   "source": [
    "my_list = [1, 2, 3, 4, 5, 6]\n",
    "my_slice = slice(2, 6)\n",
    "replace_with(my_list, my_slice, 8)\n",
    "my_list"
   ]
  }
 ],
 "metadata": {
  "kernelspec": {
   "display_name": "Python 3 (ipykernel)",
   "language": "python",
   "name": "python3"
  }
 },
 "nbformat": 4,
 "nbformat_minor": 5
}
