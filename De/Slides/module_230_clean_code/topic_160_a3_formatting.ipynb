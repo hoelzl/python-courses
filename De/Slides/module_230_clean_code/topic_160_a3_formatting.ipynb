{
 "cells": [
  {
   "cell_type": "markdown",
   "id": "d073d5c32078e797",
   "metadata": {
    "lang": "de",
    "slideshow": {
     "slide_type": "slide"
    }
   },
   "source": [
    "<img src=\"../../img/python-logo-no-text.svg\"\n",
    "     style=\"display:block;margin:auto;width:10%\"/>\n",
    "<br>\n",
    "<div style=\"text-align:center; font-size:200%;\">\n",
    " <b>Clean Code: Formatierung</b>\n",
    "</div>\n",
    "<br/>\n",
    "<div style=\"text-align:center;\">Dr. Matthias Hölzl</div>\n",
    "<br/>\n",
    "<div style=\"text-align:center;\">module_230_clean_code/topic_160_a3_formatting</div>"
   ]
  },
  {
   "cell_type": "markdown",
   "id": "ffeb2d09496de727",
   "metadata": {
    "lang": "de",
    "lines_to_next_cell": 2,
    "slideshow": {
     "slide_type": "slide"
    }
   },
   "source": [
    "\n",
    "# Clean Code: Formatierung\n",
    "\n",
    "- Folge [PEP-8](https://peps.python.org/pep-0008/)\n",
    "- Verwende einen automatischen Code-Formatierer, wie z.B.\n",
    "  [black](https://github.com/psf/black)\n",
    "- Füge einen Pre-Commit-Hook zu Git hinzu, um den Code vor dem Einchecken\n",
    "  automatisch zu formatieren\n",
    "  - Siehe z.B. [https://pre-commit.com/] für eine vorgefertigte Lösung"
   ]
  },
  {
   "cell_type": "markdown",
   "id": "c0a33932e978cbaf",
   "metadata": {
    "lang": "de",
    "slideshow": {
     "slide_type": "subslide"
    }
   },
   "source": [
    "\n",
    "## Code-Formatierung\n",
    "\n",
    "- Follow [PEP-8](https://peps.python.org/pep-0008/)\n",
    "- Use an automated code formatter, such as\n",
    "  [black](https://github.com/psf/black)\n",
    "- Add a pre-commit hook to Git to auto-format the code before check-in\n",
    "  - See e.g. [https://pre-commit.com/] for a ready-made solution"
   ]
  }
 ],
 "metadata": {},
 "nbformat": 4,
 "nbformat_minor": 5
}
