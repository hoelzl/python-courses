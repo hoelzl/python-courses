{
 "cells": [
  {
   "cell_type": "markdown",
   "id": "a5a334916142ec76",
   "metadata": {
    "lang": "de",
    "slideshow": {
     "slide_type": "slide"
    }
   },
   "source": [
    "<img src=\"../../img/python-logo-no-text.svg\"\n",
    "     style=\"display:block;margin:auto;width:10%\"/>\n",
    "<br>\n",
    "<div style=\"text-align:center; font-size:200%;\">\n",
    " <b>Clean Code: Namen</b>\n",
    "</div>\n",
    "<br/>\n",
    "<div style=\"text-align:center;\">Dr. Matthias Hölzl</div>\n",
    "<br/>\n",
    "<div style=\"text-align:center;\">module_230_clean_code/topic_130_a3_names</div>"
   ]
  },
  {
   "cell_type": "markdown",
   "id": "0bc5bda410217864",
   "metadata": {
    "lang": "de",
    "slideshow": {
     "slide_type": "slide"
    }
   },
   "source": [
    "\n",
    "# Clean Code: Namen\n",
    "\n",
    "Unterschätze niemals die Macht von Namen!"
   ]
  },
  {
   "cell_type": "markdown",
   "id": "a45b9ba2e4ad8fc1",
   "metadata": {
    "lang": "de",
    "lines_to_next_cell": 2,
    "slideshow": {
     "slide_type": "subslide"
    }
   },
   "source": [
    "\n",
    "Namen sind ein mächtiges Kommunikationsmittel.\n",
    "- Sie sind überall im Programm zu finden\n",
    "- Sie verbinden den Code mit Domänen-Konzepten."
   ]
  },
  {
   "cell_type": "code",
   "execution_count": null,
   "id": "4c61cb68f57f2291",
   "metadata": {
    "tags": [
     "keep"
    ]
   },
   "outputs": [],
   "source": [
    "def foo(a: float, b: float) -> float:\n",
    "    if b > 40.0:\n",
    "        raise ValueError(\"Not allowed!\")\n",
    "    return 40.0 * a + 60.0 * b"
   ]
  },
  {
   "cell_type": "code",
   "execution_count": null,
   "id": "ff614090c2344c53",
   "metadata": {},
   "outputs": [],
   "source": [
    "foo(40.0, 3.5)"
   ]
  },
  {
   "cell_type": "code",
   "execution_count": null,
   "id": "acff40527cd622eb",
   "metadata": {
    "slideshow": {
     "slide_type": "subslide"
    }
   },
   "outputs": [],
   "source": [
    "REGULAR_PAY_PER_HOUR = 40.0\n",
    "OVERTIME_PAY_PER_HOUR = 60.0\n",
    "MAX_ALLOWED_OVERTIME = 40.0"
   ]
  },
  {
   "cell_type": "code",
   "execution_count": null,
   "id": "72568a2d517baf08",
   "metadata": {},
   "outputs": [],
   "source": [
    "class TooMuchOvertimeError(ValueError):\n",
    "    pass"
   ]
  },
  {
   "cell_type": "code",
   "execution_count": null,
   "id": "0266d04f09bc50ef",
   "metadata": {
    "slideshow": {
     "slide_type": "subslide"
    }
   },
   "outputs": [],
   "source": [
    "def compute_total_salary(\n",
    "    regular_hours_worked: float, overtime_hours_worked: float\n",
    ") -> float:\n",
    "    if overtime_hours_worked > MAX_ALLOWED_OVERTIME:\n",
    "        raise TooMuchOvertimeError(\n",
    "            f\"Not allowed to work {overtime_hours_worked:.1f} hours overtime!\"\n",
    "        )\n",
    "    regular_pay = regular_hours_worked * REGULAR_PAY_PER_HOUR\n",
    "    overtime_pay = overtime_hours_worked * OVERTIME_PAY_PER_HOUR\n",
    "    return regular_pay + overtime_pay"
   ]
  },
  {
   "cell_type": "code",
   "execution_count": null,
   "id": "2192bef8697ea2ec",
   "metadata": {},
   "outputs": [],
   "source": [
    "compute_total_salary(40.0, 3.5)"
   ]
  },
  {
   "cell_type": "code",
   "execution_count": null,
   "id": "3bdd0cc1f45ef767",
   "metadata": {},
   "outputs": [],
   "source": [
    "# compute_total_salary(20.0, 50.0)"
   ]
  },
  {
   "cell_type": "code",
   "execution_count": null,
   "id": "bc1c8d17a191e3b0",
   "metadata": {
    "lines_to_next_cell": 2,
    "slideshow": {
     "slide_type": "subslide"
    },
    "tags": [
     "keep"
    ]
   },
   "outputs": [],
   "source": [
    "from dataclasses import field, dataclass\n",
    "\n",
    "\n",
    "@dataclass\n",
    "class BadNames:\n",
    "    the_list: list = field(default_factory=list)\n",
    "\n",
    "    def get_them(self):\n",
    "        list1 = []\n",
    "        for x in self.the_list:\n",
    "            if x[0] == 1:\n",
    "                list1.append(x)\n",
    "        return list1"
   ]
  },
  {
   "cell_type": "code",
   "execution_count": null,
   "id": "f6be7e95c9cd2b05",
   "metadata": {
    "slideshow": {
     "slide_type": "subslide"
    },
    "tags": [
     "keep"
    ]
   },
   "outputs": [],
   "source": [
    "from enum import IntEnum\n",
    "\n",
    "\n",
    "class Status(IntEnum):\n",
    "    FLAGGED = 1\n",
    "    UNFLAGGED = 2"
   ]
  },
  {
   "cell_type": "code",
   "execution_count": null,
   "id": "883040ab03e490be",
   "metadata": {
    "slideshow": {
     "slide_type": "subslide"
    },
    "tags": [
     "keep"
    ]
   },
   "outputs": [],
   "source": [
    "@dataclass\n",
    "class Cell:\n",
    "    index: int\n",
    "    status: Status = Status.UNFLAGGED\n",
    "    bomb_count: int = 0"
   ]
  },
  {
   "cell_type": "code",
   "execution_count": null,
   "id": "9d65b563d326b13a",
   "metadata": {
    "slideshow": {
     "slide_type": "subslide"
    },
    "tags": [
     "keep"
    ]
   },
   "outputs": [],
   "source": [
    "Board = list[Cell]\n",
    "\n",
    "\n",
    "def make_board(size=64) -> Board:\n",
    "    return [Cell(index) for index in range(size)]"
   ]
  },
  {
   "cell_type": "code",
   "execution_count": null,
   "id": "d05bf37394d156a9",
   "metadata": {
    "lines_to_next_cell": 2,
    "slideshow": {
     "slide_type": "subslide"
    },
    "tags": [
     "keep"
    ]
   },
   "outputs": [],
   "source": [
    "@dataclass\n",
    "class MineSweeper:\n",
    "    board: Board = field(default_factory=make_board)\n",
    "\n",
    "    def get_flagged_cells(self):\n",
    "        \"\"\"Return all flagged cells.\n",
    "\n",
    "        >>> game = MineSweeper()\n",
    "        >>> game.board[2].status = Status.FLAGGED\n",
    "        >>> game.get_flagged_cells()\n",
    "        [Cell(index=2, status=<Status.FLAGGED: 1>, bomb_count=0)]\n",
    "        \"\"\"\n",
    "        return [cell for cell in self.board if cell.status == Status.FLAGGED]"
   ]
  },
  {
   "cell_type": "markdown",
   "id": "eacfd17353145fe1",
   "metadata": {
    "lang": "de",
    "slideshow": {
     "slide_type": "subslide"
    }
   },
   "source": [
    "\n",
    "Der in der Dokumentation enthaltene Test kann mit\n",
    "\n",
    "```shell\n",
    "$ pytest --doctest-modules topic_130_a3_names.py\n",
    "```\n",
    "\n",
    "ausgeführt werden, falls das Notebook als Python Datei exportiert wird."
   ]
  },
  {
   "cell_type": "markdown",
   "id": "7e82f2daa149ca71",
   "metadata": {
    "lang": "de",
    "slideshow": {
     "slide_type": "slide"
    }
   },
   "source": [
    "\n",
    "## Wie findet man gute Namen?\n",
    "\n",
    "- Wähle nach Aussagekraft, nicht nach Bequemlichkeit\n",
    "- Verwende Namen, die sagen, was sie bedeuten, und bedeuten, was sie sagen\n",
    "- Sonst wird die Wartung viel schwieriger...\n",
    "- ... und der größte Teil der Kosten für Software entsteht durch Wartung"
   ]
  },
  {
   "cell_type": "markdown",
   "id": "1856ede9f1859cc7",
   "metadata": {
    "lang": "de",
    "lines_to_next_cell": 2,
    "slideshow": {
     "slide_type": "subslide"
    }
   },
   "source": [
    "\n",
    "## Was ist ein guter Name?\n",
    "\n",
    "- Beantwortet\n",
    "  - Warum gibt es diese Funktion (Klasse, Modul, Objekt...)?\n",
    "  - Was macht sie?\n",
    "  - Wie wird sie verwendet?\n",
    "- Kommuniziert die Intention (ist \"intention revealing\")\n",
    "- (Ist im Allgemeinen nicht leicht zu finden)"
   ]
  },
  {
   "cell_type": "markdown",
   "id": "e1fe67008bd7d593",
   "metadata": {
    "lang": "de",
    "slideshow": {
     "slide_type": "subslide"
    }
   },
   "source": [
    "\n",
    "## Was ist ein schlechter Name?\n",
    "\n",
    "- Braucht einen Kommentar\n",
    "- Kann nur verstanden werden, wenn man sich den Code ansieht\n",
    "- Verbreitet Desinformation\n",
    "- Entspricht nicht den Namensregeln"
   ]
  },
  {
   "cell_type": "markdown",
   "id": "5f0090fb21a973da",
   "metadata": {
    "lang": "de",
    "lines_to_next_cell": 2,
    "slideshow": {
     "slide_type": "subslide"
    }
   },
   "source": [
    "\n",
    "## Clean Code Namensregeln\n",
    "\n",
    "Gute Namen\n",
    "\n",
    "- sind selbsterklärend\n",
    "- offenbaren die Intention\n",
    "- sind aussprechbar und durchsuchbar\n",
    "- beschreiben das Problem, nicht die Implementierung\n",
    "- vermeiden Desinformation und benennen eine sinnvolle Unterscheidung\n",
    "- vermeiden Kodierungen (ungarische Notation)\n",
    "- verwenden die richtige Wortart (lexikalische Kategorie)\n",
    "- verwenden die Regeln für Umfang und Länge (Scope-Length Rules)"
   ]
  },
  {
   "cell_type": "markdown",
   "id": "80021651a490db67",
   "metadata": {
    "lang": "de",
    "lines_to_next_cell": 2,
    "slideshow": {
     "slide_type": "subslide"
    }
   },
   "source": [
    "\n",
    "## Namensregeln für Python\n",
    "\n",
    "Namen entsprechen den\n",
    "[PEP-8 Konventionen](https://peps.python.org/pep-0008/#naming-conventions)"
   ]
  },
  {
   "cell_type": "markdown",
   "id": "e08aa4769cacb0e8",
   "metadata": {
    "lang": "de",
    "slideshow": {
     "slide_type": "subslide"
    }
   },
   "source": [
    "\n",
    "## Selbsterklärende Namen"
   ]
  },
  {
   "cell_type": "code",
   "execution_count": null,
   "id": "4866d8c7cbf0480b",
   "metadata": {
    "tags": [
     "keep"
    ]
   },
   "outputs": [],
   "source": [
    "# Elapsed time in days\n",
    "d = 0"
   ]
  },
  {
   "cell_type": "code",
   "execution_count": null,
   "id": "fd1ee92e920b82ca",
   "metadata": {},
   "outputs": [],
   "source": [
    "elapsed_time_in_days = 0"
   ]
  },
  {
   "cell_type": "markdown",
   "id": "7a93f821b5a52ecd",
   "metadata": {
    "lang": "de",
    "slideshow": {
     "slide_type": "subslide"
    }
   },
   "source": [
    "\n",
    "## Namen die die Intention offenbaren\n",
    "\n",
    "Reflektieren Absicht, Verhalten, Existenzberechtigung"
   ]
  },
  {
   "cell_type": "code",
   "execution_count": null,
   "id": "807843fb3eedfd19",
   "metadata": {
    "lines_to_next_cell": 2,
    "tags": [
     "keep"
    ]
   },
   "outputs": [],
   "source": [
    "my_list = [31, 28, 31, 30, 31, 30, 31, 31, 30, 31, 30, 31]"
   ]
  },
  {
   "cell_type": "code",
   "execution_count": null,
   "id": "f5cdd0026bb85330",
   "metadata": {
    "tags": [
     "keep"
    ]
   },
   "outputs": [],
   "source": [
    "dpm_lst = [31, 28, 31, 30, 31, 30, 31, 31, 30, 31, 30, 31]"
   ]
  },
  {
   "cell_type": "code",
   "execution_count": null,
   "id": "644db85f91f98e98",
   "metadata": {},
   "outputs": [],
   "source": [
    "days_per_month = [31, 28, 31, 30, 31, 30, 31, 31, 30, 31, 30, 31]"
   ]
  },
  {
   "cell_type": "markdown",
   "id": "d5a86baefc7fb46f",
   "metadata": {
    "lang": "de",
    "lines_to_next_cell": 2,
    "slideshow": {
     "slide_type": "subslide"
    }
   },
   "source": [
    "\n",
    "## Namen sind aussprechbar und durchsuchbar"
   ]
  },
  {
   "cell_type": "code",
   "execution_count": null,
   "id": "d2497e2b3e5828ce",
   "metadata": {
    "tags": [
     "keep"
    ]
   },
   "outputs": [],
   "source": [
    "hw_crsr_pxy = [0, 0]"
   ]
  },
  {
   "cell_type": "code",
   "execution_count": null,
   "id": "bcedbc3e89dc88c3",
   "metadata": {},
   "outputs": [],
   "source": [
    "hardware_cursor_position = [0, 0]"
   ]
  },
  {
   "cell_type": "markdown",
   "id": "ebf321760c69f21f",
   "metadata": {
    "lang": "de",
    "slideshow": {
     "slide_type": "subslide"
    }
   },
   "source": [
    "\n",
    "## Namen beschreiben das Problem, nicht die Implementierung\n",
    "\n",
    "Vermeide Namen, die sich auf Implementierungsdetails beziehen:\n",
    "- Sie verraten nicht, warum der Code so geschrieben wurde, wie er geschrieben ist\n",
    "- Aber die Vermittlung der Intention hinter dem Code hat höchste Priorität!"
   ]
  },
  {
   "cell_type": "code",
   "execution_count": null,
   "id": "76c6fd7b9c3ff167",
   "metadata": {
    "slideshow": {
     "slide_type": "subslide"
    },
    "tags": [
     "keep"
    ]
   },
   "outputs": [],
   "source": [
    "def add_elements(lst):\n",
    "    return sum(lst)"
   ]
  },
  {
   "cell_type": "code",
   "execution_count": null,
   "id": "7d525c33b12a36b3",
   "metadata": {
    "tags": [
     "keep"
    ]
   },
   "outputs": [],
   "source": [
    "add_elements(days_per_month)  # Seems reasonable"
   ]
  },
  {
   "cell_type": "code",
   "execution_count": null,
   "id": "83f08fcbf341dc16",
   "metadata": {},
   "outputs": [],
   "source": [
    "def compute_yearly_salary(monthly_salaries):\n",
    "    return sum(monthly_salaries)"
   ]
  },
  {
   "cell_type": "code",
   "execution_count": null,
   "id": "58dac80fa0f68d6f",
   "metadata": {},
   "outputs": [],
   "source": [
    "compute_yearly_salary(days_per_month)  # WHAT?!?"
   ]
  },
  {
   "cell_type": "markdown",
   "id": "cefd254d6d449867",
   "metadata": {
    "lang": "de",
    "lines_to_next_cell": 2,
    "slideshow": {
     "slide_type": "subslide"
    }
   },
   "source": [
    "\n",
    "## Desinformation und sinnvolle Unterscheidungen\n",
    "\n",
    "- Namen bedeuten etwas\n",
    "- Desinformation:\n",
    "  - Die Bedeutung des Namens impliziert etwas anderes als der Programmcode:"
   ]
  },
  {
   "cell_type": "code",
   "execution_count": null,
   "id": "9b3b4c87b131156f",
   "metadata": {
    "tags": [
     "keep"
    ]
   },
   "outputs": [],
   "source": [
    "verify_configuration = False\n",
    "\n",
    "if verify_configuration:\n",
    "    print(\"Deleting configuration files...\")"
   ]
  },
  {
   "cell_type": "code",
   "execution_count": null,
   "id": "723929ddcb3cf8ac",
   "metadata": {
    "slideshow": {
     "slide_type": "subslide"
    },
    "tags": [
     "keep"
    ]
   },
   "outputs": [],
   "source": [
    "from typing import NamedTuple"
   ]
  },
  {
   "cell_type": "code",
   "execution_count": null,
   "id": "632c291b43e5ac7e",
   "metadata": {
    "tags": [
     "keep"
    ]
   },
   "outputs": [],
   "source": [
    "class Pair(NamedTuple):\n",
    "    first: int\n",
    "    second: int\n",
    "    third: int"
   ]
  },
  {
   "cell_type": "code",
   "execution_count": null,
   "id": "b28f90f55ae36d67",
   "metadata": {
    "lines_to_next_cell": 2
   },
   "outputs": [],
   "source": [
    "class Triple(NamedTuple):\n",
    "    first: int\n",
    "    second: int\n",
    "    third: int"
   ]
  },
  {
   "cell_type": "markdown",
   "id": "903f5f2381a0e486",
   "metadata": {
    "lang": "de",
    "slideshow": {
     "slide_type": "subslide"
    }
   },
   "source": [
    "\n",
    "## Regeln zur Vermeidung von Desinformation\n",
    "\n",
    "- Vermeide Plattformnamen wie `sco`, `aix`, `nt`\n",
    "  - Oft sind Merkmalsprüfungen besser\n",
    "- Nimm keinen Typ in einen Variablennamen auf, wenn die Variable nicht von\n",
    "  diesem Typ ist\n",
    "  - Meistens: Gib überhaupt keinen Typ in einem Variablennamen an"
   ]
  },
  {
   "cell_type": "code",
   "execution_count": null,
   "id": "f825390d747eea5c",
   "metadata": {
    "tags": [
     "keep"
    ]
   },
   "outputs": [],
   "source": [
    "vector_of_cards: int = 0"
   ]
  },
  {
   "cell_type": "code",
   "execution_count": null,
   "id": "f8200c28cc4f9e9b",
   "metadata": {},
   "outputs": [],
   "source": [
    "num_cards = 0"
   ]
  },
  {
   "cell_type": "code",
   "execution_count": null,
   "id": "33684b267b851ce3",
   "metadata": {
    "lines_to_next_cell": 2
   },
   "outputs": [],
   "source": [
    "card_deck: list = [...]"
   ]
  },
  {
   "cell_type": "markdown",
   "id": "0608477a9e44c59b",
   "metadata": {
    "lang": "de",
    "slideshow": {
     "slide_type": "subslide"
    }
   },
   "source": [
    "\n",
    "## Regeln zur Vermeidung von Desinformation\n",
    "\n",
    "- Sei vorsichtig mit Namen, die sich nur geringfügig unterscheiden"
   ]
  },
  {
   "cell_type": "code",
   "execution_count": null,
   "id": "47fc6837e380f39a",
   "metadata": {
    "tags": [
     "keep"
    ]
   },
   "outputs": [],
   "source": [
    "is_melee_defence_available = True\n",
    "is_melee_defense_available = False\n",
    "\n",
    "print(is_melee_defence_available == is_melee_defense_available)  # Oops..."
   ]
  },
  {
   "cell_type": "markdown",
   "id": "b8c43491c00584f0",
   "metadata": {
    "lang": "de",
    "slideshow": {
     "slide_type": "subslide"
    }
   },
   "source": [
    "\n",
    "## Regeln zur Vermeidung von Desinformation\n",
    "\n",
    "- Benutze Namen, die etwas bedeuten"
   ]
  },
  {
   "cell_type": "code",
   "execution_count": null,
   "id": "34a4f6a519e5e16e",
   "metadata": {
    "tags": [
     "keep"
    ]
   },
   "outputs": [],
   "source": [
    "foobar = 0\n",
    "bar = 1"
   ]
  },
  {
   "cell_type": "code",
   "execution_count": null,
   "id": "c5a77a51235bef1f",
   "metadata": {
    "lines_to_next_cell": 2
   },
   "outputs": [],
   "source": [
    "number_of_visitors = 0\n",
    "days_till_release = 1"
   ]
  },
  {
   "cell_type": "markdown",
   "id": "81da2c2d2aaf04b9",
   "metadata": {
    "lang": "de",
    "slideshow": {
     "slide_type": "subslide"
    }
   },
   "source": [
    "\n",
    "## Regeln zur Vermeidung von Desinformation\n",
    "\n",
    "- Sei bei der Namensgebung konsistent"
   ]
  },
  {
   "cell_type": "code",
   "execution_count": null,
   "id": "4c17fb4eea8c5b6f",
   "metadata": {
    "tags": [
     "keep"
    ]
   },
   "outputs": [],
   "source": [
    "number_of_objects = 10\n",
    "num_buyers = 12\n",
    "n_transactions = 2"
   ]
  },
  {
   "cell_type": "code",
   "execution_count": null,
   "id": "751389c8564d25c7",
   "metadata": {},
   "outputs": [],
   "source": [
    "num_objects = 10\n",
    "num_buyers = 12\n",
    "num_transactions = 2"
   ]
  },
  {
   "cell_type": "code",
   "execution_count": null,
   "id": "dd790cd44be8c016",
   "metadata": {
    "lines_to_next_cell": 2
   },
   "outputs": [],
   "source": [
    "n_objects = 10\n",
    "n_buyers = 12\n",
    "n_transactions = 2"
   ]
  },
  {
   "cell_type": "markdown",
   "id": "e73397120fa2b3df",
   "metadata": {
    "lang": "de",
    "lines_to_next_cell": 2,
    "slideshow": {
     "slide_type": "subslide"
    }
   },
   "source": [
    "\n",
    "## Sinnvolle Unterscheidungen\n",
    "\n",
    "- Verwende Namen, die die Bedeutung der Konzepte so klar wie möglich ausdrücken"
   ]
  },
  {
   "cell_type": "code",
   "execution_count": null,
   "id": "7fe98c61d90efa0a",
   "metadata": {
    "tags": [
     "keep"
    ]
   },
   "outputs": [],
   "source": [
    "a1 = \"Fluffy\"\n",
    "a2 = \"Garfield\""
   ]
  },
  {
   "cell_type": "code",
   "execution_count": null,
   "id": "276618bdfedb784d",
   "metadata": {},
   "outputs": [],
   "source": [
    "my_dog = \"Fluffy\"\n",
    "jons_cat = \"Garfield\""
   ]
  },
  {
   "cell_type": "code",
   "execution_count": null,
   "id": "de155fb4dedf8d41",
   "metadata": {
    "slideshow": {
     "slide_type": "subslide"
    },
    "tags": [
     "keep"
    ]
   },
   "outputs": [],
   "source": [
    "INCLUDE_NONE = 0\n",
    "INCLUDE_FIRST = 1\n",
    "INCLUDE_SECOND = 2\n",
    "INCLUDE_BOTH = 3"
   ]
  },
  {
   "cell_type": "code",
   "execution_count": null,
   "id": "022e9b0746178a8b",
   "metadata": {},
   "outputs": [],
   "source": [
    "INCLUDE_NO_DATE = 0\n",
    "INCLUDE_START_DATE = 1\n",
    "INCLUDE_END_DATE = 2\n",
    "INCLUDE_START_AND_END_DATE = 3"
   ]
  },
  {
   "cell_type": "code",
   "execution_count": null,
   "id": "fb308d228763982c",
   "metadata": {
    "lines_to_next_cell": 2
   },
   "outputs": [],
   "source": [
    "class DatesToInclude(IntEnum):\n",
    "    NONE = 0\n",
    "    START = 1\n",
    "    END = 2\n",
    "    START_AND_END = 3"
   ]
  },
  {
   "cell_type": "markdown",
   "id": "8baf9d2bb4ba1556",
   "metadata": {
    "lang": "de",
    "lines_to_next_cell": 2,
    "slideshow": {
     "slide_type": "subslide"
    }
   },
   "source": [
    "\n",
    "## Sinnvolle Unterscheidungen\n",
    "\n",
    "- Verwende denselben Namen für dasselbe Konzept"
   ]
  },
  {
   "cell_type": "code",
   "execution_count": null,
   "id": "9e75407fd2e80eea",
   "metadata": {
    "lines_to_next_cell": 2,
    "slideshow": {
     "slide_type": "subslide"
    },
    "tags": [
     "keep"
    ]
   },
   "outputs": [],
   "source": [
    "from pathlib import Path"
   ]
  },
  {
   "cell_type": "code",
   "execution_count": null,
   "id": "1f25492aa9d2083f",
   "metadata": {
    "tags": [
     "keep"
    ]
   },
   "outputs": [],
   "source": [
    "my_path = Path.home()\n",
    "your_dir = Path.home()\n",
    "file_loc = Path.home()"
   ]
  },
  {
   "cell_type": "code",
   "execution_count": null,
   "id": "ef272ce360f99ac8",
   "metadata": {},
   "outputs": [],
   "source": [
    "my_path = Path.home()\n",
    "your_path = Path.home()\n",
    "file_path = Path.home()"
   ]
  },
  {
   "cell_type": "code",
   "execution_count": null,
   "id": "56024aa9d3ac262f",
   "metadata": {},
   "outputs": [],
   "source": [
    "my_dir = Path.home()\n",
    "your_dir = Path.home()\n",
    "file_dir = Path.home()"
   ]
  },
  {
   "cell_type": "markdown",
   "id": "ee0925bee261eabf",
   "metadata": {
    "lang": "de",
    "lines_to_next_cell": 2,
    "slideshow": {
     "slide_type": "subslide"
    }
   },
   "source": [
    "\n",
    "## Sinnvolle Unterscheidungen\n",
    "\n",
    "- Verwende deutlich unterschiedliche Namen für verschiedene Konzepte"
   ]
  },
  {
   "cell_type": "code",
   "execution_count": null,
   "id": "54e38c89a47d0d97",
   "metadata": {
    "tags": [
     "keep"
    ]
   },
   "outputs": [],
   "source": [
    "MY_CONTROLLER_FOR_EFFICIENT_HANDLING_OF_STRINGS = 1\n",
    "MY_CONTROLLER_FOR_EFFICIENT_STORING_OF_STRINGS = 2"
   ]
  },
  {
   "cell_type": "code",
   "execution_count": null,
   "id": "d7236d36fb3c2fb4",
   "metadata": {},
   "outputs": [],
   "source": [
    "my_controller_handle = 1\n",
    "my_controller_handler = 2"
   ]
  },
  {
   "cell_type": "code",
   "execution_count": null,
   "id": "a851c35f2f69b286",
   "metadata": {
    "lines_to_next_cell": 2
   },
   "outputs": [],
   "source": [
    "# But:\n",
    "tasks = [\"do this\", \"do that\"]\n",
    "for task in tasks:\n",
    "    print(task)"
   ]
  },
  {
   "cell_type": "markdown",
   "id": "8bf9eea1817c2a0e",
   "metadata": {
    "lang": "de",
    "slideshow": {
     "slide_type": "subslide"
    }
   },
   "source": [
    "## Mini-Workshop: Namen\n",
    "\n",
    "Das folgenden Programm verwendet sehr schlechte Namen. Ändern Sie die Namen\n",
    "so, dass sie den PEP-8 Konventionen folgen und den Regeln für gute Namen\n",
    "folgen."
   ]
  },
  {
   "cell_type": "code",
   "execution_count": null,
   "id": "f4c35f14c8bcec81",
   "metadata": {
    "tags": [
     "keep"
    ]
   },
   "outputs": [],
   "source": [
    "from dataclasses import dataclass, field"
   ]
  },
  {
   "cell_type": "code",
   "execution_count": null,
   "id": "61bb1d9e8e205621",
   "metadata": {
    "tags": [
     "keep"
    ]
   },
   "outputs": [],
   "source": [
    "# Class representing Line Items:\n",
    "@dataclass\n",
    "class LI:\n",
    "    # number of items\n",
    "    X: int\n",
    "    # description of the items\n",
    "    ChrLst: str\n",
    "    # price per item\n",
    "    Y: float\n",
    "\n",
    "    # compute the total price\n",
    "    def foo(self):\n",
    "        return self.X * self.Y"
   ]
  },
  {
   "cell_type": "code",
   "execution_count": null,
   "id": "d82e52a57b2c993a",
   "metadata": {
    "slideshow": {
     "slide_type": "subslide"
    },
    "tags": [
     "keep"
    ]
   },
   "outputs": [],
   "source": [
    "# Class representing an Order\n",
    "@dataclass\n",
    "class LIManager:\n",
    "    # a list of line items\n",
    "    LIVec: list[LI] = field(default_factory=list)\n",
    "\n",
    "    # compute the total price\n",
    "    def my_result(self):\n",
    "        return sum(li.foo() for li in self.LIVec)"
   ]
  },
  {
   "cell_type": "code",
   "execution_count": null,
   "id": "d785bde9b993cbb7",
   "metadata": {
    "tags": [
     "keep"
    ]
   },
   "outputs": [],
   "source": [
    "# Prepare an order\n",
    "my_order = LIManager([LI(2, \"tea\", 0.99), LI(3, \"coffee\", 0.89)])\n",
    "print(my_order.my_result())"
   ]
  },
  {
   "cell_type": "code",
   "execution_count": null,
   "id": "cc0314fc4dadcd25",
   "metadata": {
    "slideshow": {
     "slide_type": "subslide"
    }
   },
   "outputs": [],
   "source": [
    "@dataclass\n",
    "class LineItem:\n",
    "    num_items: int\n",
    "    description: str\n",
    "    price_per_item: float\n",
    "\n",
    "    def total_price(self):\n",
    "        return self.num_items * self.price_per_item"
   ]
  },
  {
   "cell_type": "code",
   "execution_count": null,
   "id": "4ba49b30e6aa7892",
   "metadata": {
    "slideshow": {
     "slide_type": "subslide"
    }
   },
   "outputs": [],
   "source": [
    "@dataclass\n",
    "class Order:\n",
    "    line_items: list[LineItem] = field(default_factory=list)\n",
    "\n",
    "    def total_price(self):\n",
    "        return sum(li.total_price() for li in self.line_items)"
   ]
  },
  {
   "cell_type": "code",
   "execution_count": null,
   "id": "46d7277b382fa1db",
   "metadata": {
    "lines_to_next_cell": 2
   },
   "outputs": [],
   "source": [
    "# Prepare an order\n",
    "my_order = Order([LineItem(2, \"tea\", 0.99), LineItem(3, \"coffee\", 0.89)])\n",
    "print(my_order.total_price())"
   ]
  },
  {
   "cell_type": "markdown",
   "id": "a2b99c92645d61ad",
   "metadata": {
    "lang": "de",
    "lines_to_next_cell": 2,
    "slideshow": {
     "slide_type": "subslide"
    }
   },
   "source": [
    "\n",
    "## Vermeide Kodierungen\n",
    "\n",
    "Verwende keine ungarische Notation:"
   ]
  },
  {
   "cell_type": "code",
   "execution_count": null,
   "id": "2b093dc39db0c0b3",
   "metadata": {
    "tags": [
     "keep"
    ]
   },
   "outputs": [],
   "source": [
    "i_days = 12\n",
    "i_month = 3"
   ]
  },
  {
   "cell_type": "markdown",
   "id": "5db267642a064fbb",
   "metadata": {
    "lang": "de",
    "slideshow": {
     "slide_type": "subslide"
    }
   },
   "source": [
    "\n",
    "## Vermeide Kodierungen\n",
    "\n",
    "Verwende keine Präfixe für Attribute:"
   ]
  },
  {
   "cell_type": "code",
   "execution_count": null,
   "id": "f5a055a68aa31b57",
   "metadata": {
    "lines_to_next_cell": 2,
    "tags": [
     "keep"
    ]
   },
   "outputs": [],
   "source": [
    "@dataclass\n",
    "class MyClass:\n",
    "    m_days: int\n",
    "    m_months: int"
   ]
  },
  {
   "cell_type": "markdown",
   "id": "a0eab5dcdd0619ca",
   "metadata": {
    "lang": "de",
    "slideshow": {
     "slide_type": "subslide"
    }
   },
   "source": [
    "\n",
    "## Vermeide Kodierungen\n",
    "\n",
    "Vermeiden Sie Präfixe wie C/I: CClass, IInterface"
   ]
  },
  {
   "cell_type": "code",
   "execution_count": null,
   "id": "68aa91ec7cd7fbf3",
   "metadata": {
    "tags": [
     "keep"
    ]
   },
   "outputs": [],
   "source": [
    "@dataclass\n",
    "class CMyClass:\n",
    "    days: int\n",
    "    months: int"
   ]
  },
  {
   "cell_type": "markdown",
   "id": "5c3409732b890dc3",
   "metadata": {
    "lang": "de",
    "slideshow": {
     "slide_type": "subslide"
    }
   },
   "source": [
    "\n",
    "## Verwende die richtige lexikalische Kategorie\n",
    "\n",
    "- Klassen und Variablen: Substantive oder Substantivphrasen\n",
    "- Funktionen: Verben oder Verbphrasen\n",
    "- Enums: oft Adjektive\n",
    "- Boolesche Variablen und Funktionen: oft Prädikate: `ist_...`, `hat_...`"
   ]
  },
  {
   "cell_type": "code",
   "execution_count": null,
   "id": "87873fe61704987b",
   "metadata": {
    "slideshow": {
     "slide_type": "subslide"
    },
    "tags": [
     "keep"
    ]
   },
   "outputs": [],
   "source": [
    "@dataclass\n",
    "class GoToTheServer:\n",
    "    def connection(self):\n",
    "        ...\n",
    "\n",
    "    def server_availability(self) -> bool:\n",
    "        return True"
   ]
  },
  {
   "cell_type": "code",
   "execution_count": null,
   "id": "874abc54433f60fc",
   "metadata": {},
   "outputs": [],
   "source": [
    "class ServerConnection:\n",
    "    def connect(self):\n",
    "        ...\n",
    "\n",
    "    def is_server_available(self) -> bool:\n",
    "        return True"
   ]
  },
  {
   "cell_type": "markdown",
   "id": "3bb8df3af9f0460b",
   "metadata": {
    "lang": "de",
    "slideshow": {
     "slide_type": "subslide"
    }
   },
   "source": [
    "\n",
    "## Möglicherweise\n",
    "\n",
    "Vermeide Wörter, die keine Bedeutung haben, wie Manager, Prozessor, Daten,\n",
    "Info"
   ]
  },
  {
   "cell_type": "code",
   "execution_count": null,
   "id": "bd6e1c7a11aa79ae",
   "metadata": {
    "tags": [
     "keep"
    ]
   },
   "outputs": [],
   "source": [
    "class ObjectManager:\n",
    "    pass"
   ]
  },
  {
   "cell_type": "code",
   "execution_count": null,
   "id": "0e54c2c254efb61d",
   "metadata": {
    "tags": [
     "keep"
    ]
   },
   "outputs": [],
   "source": [
    "class ObjectController:\n",
    "    pass"
   ]
  },
  {
   "cell_type": "code",
   "execution_count": null,
   "id": "1eee73e7cf2e5295",
   "metadata": {
    "lines_to_next_cell": 2,
    "tags": [
     "keep"
    ]
   },
   "outputs": [],
   "source": [
    "class DataController:\n",
    "    pass"
   ]
  },
  {
   "cell_type": "markdown",
   "id": "6dea60c95127aacc",
   "metadata": {
    "lang": "de",
    "slideshow": {
     "slide_type": "subslide"
    }
   },
   "source": [
    "\n",
    "## Python-Spezifisch\n",
    "\n",
    "Vermeide Getter/Setter für Zugriff auf Attribute:"
   ]
  },
  {
   "cell_type": "code",
   "execution_count": null,
   "id": "02881ddec32d3c41",
   "metadata": {
    "tags": [
     "keep"
    ]
   },
   "outputs": [],
   "source": [
    "class MyBox:\n",
    "    def __init__(self, x) -> None:\n",
    "        self._x = x\n",
    "\n",
    "    def get_x(self):\n",
    "        return self._x\n",
    "\n",
    "    def set_x(self, new_value):\n",
    "        self._x = new_value"
   ]
  },
  {
   "cell_type": "code",
   "execution_count": null,
   "id": "4ac270b0a56f9d0f",
   "metadata": {
    "tags": [
     "keep"
    ]
   },
   "outputs": [],
   "source": [
    "my_box = MyBox(1)\n",
    "print(my_box.get_x())\n",
    "my_box.set_x(10)\n",
    "print(my_box.get_x())"
   ]
  },
  {
   "cell_type": "code",
   "execution_count": null,
   "id": "a84dfabdf998aa8f",
   "metadata": {
    "slideshow": {
     "slide_type": "subslide"
    }
   },
   "outputs": [],
   "source": [
    "class YourBox:\n",
    "    def __init__(self, x) -> None:\n",
    "        self.x = x"
   ]
  },
  {
   "cell_type": "code",
   "execution_count": null,
   "id": "1f243d75a9678e2d",
   "metadata": {},
   "outputs": [],
   "source": [
    "your_box = YourBox(1)\n",
    "print(your_box.x)\n",
    "your_box.x = 10\n",
    "print(your_box.x)"
   ]
  },
  {
   "cell_type": "markdown",
   "id": "95b3fa75be93ab80",
   "metadata": {
    "lang": "de",
    "lines_to_next_cell": 2,
    "slideshow": {
     "slide_type": "subslide"
    }
   },
   "source": [
    "\n",
    "## Regeln für Umfang und Länge (Scope-Length Rules)\n",
    "\n",
    "- Variablen:\n",
    "- Langer Geltungsbereich = langer Name\n",
    "- Kurzer Geltungsbereich = kurzer Name\n",
    "- Klassen und Methoden\n",
    "- Langer Geltungsbereich = kurzer Name\n",
    "- Kurzer Geltungsbereich = langer Name\n",
    "\n",
    "**Oder:** Verwende lange Namen für lange Geltungsbereiche"
   ]
  },
  {
   "cell_type": "code",
   "execution_count": null,
   "id": "020e4b32040eb3a9",
   "metadata": {
    "slideshow": {
     "slide_type": "subslide"
    },
    "tags": [
     "keep"
    ]
   },
   "outputs": [],
   "source": [
    "class FixedSizeOrderedCollectionIndexedByInts:\n",
    "    pass"
   ]
  },
  {
   "cell_type": "code",
   "execution_count": null,
   "id": "475356ef8254f43e",
   "metadata": {},
   "outputs": [],
   "source": [
    "class Array:\n",
    "    pass"
   ]
  }
 ],
 "metadata": {},
 "nbformat": 4,
 "nbformat_minor": 5
}
