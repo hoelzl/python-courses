{
 "cells": [
  {
   "cell_type": "markdown",
   "id": "4095cdb0cbd89223",
   "metadata": {
    "lang": "de",
    "slideshow": {
     "slide_type": "slide"
    }
   },
   "source": [
    "<img src=\"img/python-logo-no-text.svg\"\n",
    "     style=\"display:block;margin:auto;width:10%\"/>\n",
    "<br>\n",
    "<div style=\"text-align:center; font-size:200%;\"><b>Externe Programme</b></div>\n",
    "<br/>\n",
    "<div style=\"text-align:center;\">Dr. Matthias Hölzl</div>"
   ]
  },
  {
   "cell_type": "markdown",
   "id": "da64a5ee64b94cd3",
   "metadata": {
    "lang": "de",
    "slideshow": {
     "slide_type": "slide"
    }
   },
   "source": [
    "## Sub-Prozesse\n",
    "\n",
    "*Hinweis:* Zur Ausführung dieses Notebooks müssen muss das `ext_sample_app`\n",
    "Package (in `Examples/ExternalSampleApplication`) installiert sein.\n",
    "\n",
    "`subprocess.run` ist die bevorzugte Methode um externe Applikationen zu starten."
   ]
  },
  {
   "cell_type": "code",
   "execution_count": null,
   "id": "e822147250c5807f",
   "metadata": {},
   "outputs": [],
   "source": [
    "from subprocess import TimeoutExpired, run"
   ]
  },
  {
   "cell_type": "code",
   "execution_count": null,
   "id": "281eb550768c8c1c",
   "metadata": {},
   "outputs": [],
   "source": [
    "# This may not work if `python` is not in your path...\n",
    "run([\"python\", \"--version\"])"
   ]
  },
  {
   "cell_type": "markdown",
   "id": "3a1b36a6d7cbc37c",
   "metadata": {
    "lang": "de"
   },
   "source": [
    "Mit `shutil.which()` kann man den vollständigen Pfad eines Programms herausfinden."
   ]
  },
  {
   "cell_type": "code",
   "execution_count": null,
   "id": "a7aab1952c67f26c",
   "metadata": {},
   "outputs": [],
   "source": [
    "import shutil\n",
    "\n",
    "shutil.which(\"python\")"
   ]
  },
  {
   "cell_type": "code",
   "execution_count": null,
   "id": "3a16bb31f6322bf1",
   "metadata": {
    "lines_to_next_cell": 1
   },
   "outputs": [],
   "source": [
    "cp = run([shutil.which(\"python\"), \"--version\"])"
   ]
  },
  {
   "cell_type": "code",
   "execution_count": null,
   "id": "b27336134db7ccfc",
   "metadata": {},
   "outputs": [],
   "source": [
    "def print_completed_process(cp):\n",
    "    print(\"return code:\", cp.returncode)\n",
    "    print(\"captured stdout:\", repr(cp.stdout))\n",
    "    print(\"captured stderr:\", repr(cp.stderr))"
   ]
  },
  {
   "cell_type": "code",
   "execution_count": null,
   "id": "db4a6b11acac1711",
   "metadata": {},
   "outputs": [],
   "source": [
    "print_completed_process(cp)"
   ]
  },
  {
   "cell_type": "code",
   "execution_count": null,
   "id": "38c5b7ec6e90b144",
   "metadata": {},
   "outputs": [],
   "source": [
    "cp = run([shutil.which(\"python\"), \"--version\"], capture_output=True, text=True)"
   ]
  },
  {
   "cell_type": "code",
   "execution_count": null,
   "id": "0017b4496bc94f5b",
   "metadata": {},
   "outputs": [],
   "source": [
    "print_completed_process(cp)"
   ]
  },
  {
   "cell_type": "markdown",
   "id": "b2b6146ac0c4be0c",
   "metadata": {
    "lang": "de"
   },
   "source": [
    "Mit `sys.executable` kann man den Pfad des gerade aktiven Python Interpreters herausfinden. Das ist die bevorzugte Methode um einen Python Prozess zu starten."
   ]
  },
  {
   "cell_type": "code",
   "execution_count": null,
   "id": "ef9a86a26b9c6e36",
   "metadata": {},
   "outputs": [],
   "source": [
    "import sys\n",
    "\n",
    "cp = run([sys.executable, \"--version\"], capture_output=True, text=True)"
   ]
  },
  {
   "cell_type": "code",
   "execution_count": null,
   "id": "e98c3bef20a83bab",
   "metadata": {},
   "outputs": [],
   "source": [
    "print_completed_process(cp)"
   ]
  },
  {
   "cell_type": "code",
   "execution_count": null,
   "id": "e909113afc01678c",
   "metadata": {},
   "outputs": [],
   "source": [
    "cp = run([sys.executable, \"-m\", \"ext_sample_app\"], capture_output=True, text=True)"
   ]
  },
  {
   "cell_type": "code",
   "execution_count": null,
   "id": "b8bfb5cf9b018407",
   "metadata": {},
   "outputs": [],
   "source": [
    "print_completed_process(cp)"
   ]
  },
  {
   "cell_type": "code",
   "execution_count": null,
   "id": "e446988f27870f53",
   "metadata": {},
   "outputs": [],
   "source": [
    "cp = run(\n",
    "    [sys.executable, \"-m\", \"ext_sample_app\", \"--help\"], capture_output=True, text=True\n",
    ")"
   ]
  },
  {
   "cell_type": "code",
   "execution_count": null,
   "id": "5611176a90063e2d",
   "metadata": {},
   "outputs": [],
   "source": [
    "print_completed_process(cp)"
   ]
  },
  {
   "cell_type": "code",
   "execution_count": null,
   "id": "ecbc76ee37aaba5d",
   "metadata": {},
   "outputs": [],
   "source": [
    "cp = run(\n",
    "    [sys.executable, \"-m\", \"ext_sample_app\", \"say-hi\"], capture_output=True, text=True\n",
    ")"
   ]
  },
  {
   "cell_type": "code",
   "execution_count": null,
   "id": "3929491238560960",
   "metadata": {},
   "outputs": [],
   "source": [
    "print_completed_process(cp)"
   ]
  },
  {
   "cell_type": "code",
   "execution_count": null,
   "id": "03e2455b2a884b7e",
   "metadata": {},
   "outputs": [],
   "source": [
    "cp = run(\n",
    "    [sys.executable, \"-m\", \"ext_sample_app\", \"error\"], capture_output=True, text=True\n",
    ")"
   ]
  },
  {
   "cell_type": "code",
   "execution_count": null,
   "id": "0fc2790916aaba20",
   "metadata": {},
   "outputs": [],
   "source": [
    "print_completed_process(cp)"
   ]
  },
  {
   "cell_type": "code",
   "execution_count": null,
   "id": "7b6e1acbbdf4d3c2",
   "metadata": {},
   "outputs": [],
   "source": [
    "# THIS DOES NOT WORK!\n",
    "# cp = run(\n",
    "#     [sys.executable, \"-m\", \"ext_sample_app\", \"interact\"], capture_output=True, text=True\n",
    "# )"
   ]
  },
  {
   "cell_type": "markdown",
   "id": "a52ddf2dfd01f4c0",
   "metadata": {
    "lang": "de"
   },
   "source": [
    "## Popen: Nebenläufige Ausführung von Programmen\n",
    "\n",
    "Wenn man nicht warten kann, bis das gestartete Programm beendet wird muss man die `subprocess.Popen` Klasse verwenden:"
   ]
  },
  {
   "cell_type": "code",
   "execution_count": null,
   "id": "fffe569503983419",
   "metadata": {},
   "outputs": [],
   "source": [
    "from subprocess import Popen, PIPE\n",
    "import sys"
   ]
  },
  {
   "cell_type": "code",
   "execution_count": null,
   "id": "d2abc3506ca1b956",
   "metadata": {},
   "outputs": [],
   "source": [
    "proc = Popen(\n",
    "    [sys.executable, \"-m\", \"ext_sample_app\", \"interact\"],\n",
    "    stdin=PIPE,\n",
    "    stderr=PIPE,\n",
    "    stdout=PIPE,\n",
    "    encoding=\"utf-8\",\n",
    "    universal_newlines=True,\n",
    "    bufsize=0,\n",
    ")"
   ]
  },
  {
   "cell_type": "code",
   "execution_count": null,
   "id": "544bda762bac342d",
   "metadata": {},
   "outputs": [],
   "source": [
    "type(proc)"
   ]
  },
  {
   "cell_type": "markdown",
   "id": "a80265e5034d6417",
   "metadata": {
    "lang": "de"
   },
   "source": [
    "`proc.communicate()` sendet eine Nachricht and `proc`, schließt die Ein- und Ausgabeströme und beendet den Prozess."
   ]
  },
  {
   "cell_type": "code",
   "execution_count": null,
   "id": "7c8f20bfa71b8d99",
   "metadata": {},
   "outputs": [],
   "source": [
    "proc.communicate(\"work\")"
   ]
  },
  {
   "cell_type": "markdown",
   "id": "b709a8b753b2f19a",
   "metadata": {
    "lang": "de"
   },
   "source": [
    "Mit `proc.poll()` kann man feststellen, ob der Prozess schon beendet wurde und was der Rückgabewert war. Falls das Ergebniss `None` ist, ist der Prozess noch aktiv. `proc.wait()` wartet eine bestimmte Zeit und gibt den Rückgabewert des Prozesses zurück. Falls der Prozess nicht in der vorgegebenen Zeit beendet wurde, wird eine `TimeoutExpired` Exception ausgelöst."
   ]
  },
  {
   "cell_type": "code",
   "execution_count": null,
   "id": "fe4c7d4634b58ff2",
   "metadata": {
    "lines_to_next_cell": 1
   },
   "outputs": [],
   "source": [
    "proc.poll()"
   ]
  },
  {
   "cell_type": "code",
   "execution_count": null,
   "id": "417320ed98da3149",
   "metadata": {},
   "outputs": [],
   "source": [
    "def run_and_communicate(command):\n",
    "    proc = Popen(\n",
    "        [sys.executable, \"-m\", \"ext_sample_app\", \"interact\"],\n",
    "        stdin=PIPE,\n",
    "        stderr=PIPE,\n",
    "        stdout=PIPE,\n",
    "        encoding=\"utf-8\",\n",
    "        universal_newlines=True,\n",
    "        bufsize=0,\n",
    "    )\n",
    "    result = proc.communicate(command)\n",
    "    try:\n",
    "        wait_result = proc.wait(5)\n",
    "    except TimeoutExpired:\n",
    "        print(\"Process did not terminate!\")\n",
    "        proc.terminate()\n",
    "        wait_result = proc.wait(5)\n",
    "    return result, wait_result"
   ]
  },
  {
   "cell_type": "code",
   "execution_count": null,
   "id": "09613eedc2ea94c7",
   "metadata": {},
   "outputs": [],
   "source": [
    "run_and_communicate(\"work\")"
   ]
  },
  {
   "cell_type": "code",
   "execution_count": null,
   "id": "cd664efa1b1c51f3",
   "metadata": {},
   "outputs": [],
   "source": [
    "run_and_communicate(\"exit\")"
   ]
  },
  {
   "cell_type": "code",
   "execution_count": null,
   "id": "50e8c22e06c95601",
   "metadata": {},
   "outputs": [],
   "source": [
    "run_and_communicate(\"error\")"
   ]
  },
  {
   "cell_type": "markdown",
   "id": "219fe30e27587cba",
   "metadata": {
    "lang": "de"
   },
   "source": [
    "## Kommunikation mit Sockets\n",
    "\n",
    "Das folgende Beispiel zeigt, wie man einen Prozess starten und dann über Sockets mit ihm kommunizieren kann."
   ]
  },
  {
   "cell_type": "code",
   "execution_count": null,
   "id": "be3aeec6f5928075",
   "metadata": {},
   "outputs": [],
   "source": [
    "from subprocess import Popen, PIPE\n",
    "import sys\n",
    "\n",
    "HOST = \"localhost\"\n",
    "PORT = 12345"
   ]
  },
  {
   "cell_type": "code",
   "execution_count": null,
   "id": "537dbe0589dd6d53",
   "metadata": {},
   "outputs": [],
   "source": [
    "from socket import socket, AF_INET, SOCK_STREAM\n",
    "import sys\n",
    "\n",
    "\n",
    "def send_message(msg: str):\n",
    "    with socket(AF_INET, SOCK_STREAM) as sock:\n",
    "        sock.connect((HOST, PORT))\n",
    "        sock.sendall(bytes(msg + \"\\n\", \"utf-8\"))\n",
    "        return str(sock.recv(1024), \"utf-8\")"
   ]
  },
  {
   "cell_type": "code",
   "execution_count": null,
   "id": "373b15d11b501a0d",
   "metadata": {},
   "outputs": [],
   "source": [
    "proc = Popen(\n",
    "    [\n",
    "        sys.executable,\n",
    "        \"-m\",\n",
    "        \"ext_sample_app\",\n",
    "        \"serve\",\n",
    "        \"--host\",\n",
    "        HOST,\n",
    "        \"--port\",\n",
    "        str(PORT),\n",
    "    ],\n",
    "    stdin=PIPE,\n",
    "    stderr=PIPE,\n",
    "    stdout=PIPE,\n",
    "    encoding=\"utf-8\",\n",
    "    universal_newlines=True,\n",
    "    bufsize=0,\n",
    ")"
   ]
  },
  {
   "cell_type": "code",
   "execution_count": null,
   "id": "3c01165bb7880262",
   "metadata": {},
   "outputs": [],
   "source": [
    "proc.poll()"
   ]
  },
  {
   "cell_type": "code",
   "execution_count": null,
   "id": "e713e414fa7d0ab2",
   "metadata": {},
   "outputs": [],
   "source": [
    "send_message(\"Hello, world!\")"
   ]
  },
  {
   "cell_type": "code",
   "execution_count": null,
   "id": "ed0f345d639abd4f",
   "metadata": {},
   "outputs": [],
   "source": [
    "send_message(\"Are you running?\")"
   ]
  },
  {
   "cell_type": "code",
   "execution_count": null,
   "id": "9459746c8253e2b7",
   "metadata": {},
   "outputs": [],
   "source": [
    "proc.poll()"
   ]
  },
  {
   "cell_type": "code",
   "execution_count": null,
   "id": "db5513ca7abd4d71",
   "metadata": {},
   "outputs": [],
   "source": [
    "proc.terminate()"
   ]
  },
  {
   "cell_type": "code",
   "execution_count": null,
   "id": "0e370dace40e0316",
   "metadata": {},
   "outputs": [],
   "source": [
    "proc.poll()"
   ]
  },
  {
   "cell_type": "code",
   "execution_count": null,
   "id": "915b06db4429b85c",
   "metadata": {},
   "outputs": [],
   "source": [
    "try:\n",
    "    send_message(\"Are you still running?\")\n",
    "except ConnectionRefusedError as err:\n",
    "    print(\"Could not connect to server.\")\n",
    "    print(err)"
   ]
  },
  {
   "cell_type": "code",
   "execution_count": null,
   "id": "6099ecabf822d9e2",
   "metadata": {},
   "outputs": [],
   "source": [
    "proc.poll()"
   ]
  },
  {
   "cell_type": "code",
   "execution_count": null,
   "id": "6b4e03423667dbb7",
   "metadata": {},
   "outputs": [],
   "source": []
  }
 ],
 "metadata": {
  "kernelspec": {
   "display_name": "Python 3 (ipykernel)",
   "language": "python",
   "name": "python3"
  }
 },
 "nbformat": 4,
 "nbformat_minor": 5
}
