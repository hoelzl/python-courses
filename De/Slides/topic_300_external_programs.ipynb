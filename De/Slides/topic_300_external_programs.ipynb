{
 "cells": [
  {
   "cell_type": "markdown",
   "id": "4fe947d7",
   "metadata": {
    "lang": "de",
    "slideshow": {
     "slide_type": "slide"
    }
   },
   "source": [
    "<img src=\"img/python-logo-notext.svg\"\n",
    "     style=\"display:block;margin:auto;width:10%\"/>\n",
    "<br>\n",
    "<div style=\"text-align:center; font-size:200%;\"><b>Externe Programme</b></div>\n",
    "<br/>\n",
    "<div style=\"text-align:center;\">Dr. Matthias Hölzl</div>"
   ]
  },
  {
   "cell_type": "markdown",
   "id": "85c586e8",
   "metadata": {
    "lang": "de",
    "slideshow": {
     "slide_type": "slide"
    }
   },
   "source": [
    "## Sub-Prozesse\n",
    "\n",
    "*Hinweis:* Zur Ausführung dieses Notebooks müssen muss das `ext_sample_app`\n",
    "Package (in `Examples/ExternalSampleApplication`) installiert sein.\n",
    "\n",
    "`subprocess.run` ist die bevorzugte Methode um externe Applikationen zu starten."
   ]
  },
  {
   "cell_type": "code",
   "execution_count": null,
   "id": "a09f9560",
   "metadata": {},
   "outputs": [],
   "source": [
    "from subprocess import TimeoutExpired, run"
   ]
  },
  {
   "cell_type": "code",
   "execution_count": null,
   "id": "6d37f527",
   "metadata": {},
   "outputs": [],
   "source": [
    "# This may not work if `python` is not in your path...\n",
    "run([\"python\", \"--version\"])"
   ]
  },
  {
   "cell_type": "markdown",
   "id": "ceec66dc",
   "metadata": {
    "lang": "de"
   },
   "source": [
    "Mit `shutil.which()` kann man den vollständigen Pfad eines Programms herausfinden."
   ]
  },
  {
   "cell_type": "code",
   "execution_count": null,
   "id": "a7203c28",
   "metadata": {},
   "outputs": [],
   "source": [
    "import shutil\n",
    "\n",
    "shutil.which(\"python\")"
   ]
  },
  {
   "cell_type": "code",
   "execution_count": null,
   "id": "0f9a69d1",
   "metadata": {
    "lines_to_next_cell": 1
   },
   "outputs": [],
   "source": [
    "cp = run([shutil.which(\"python\"), \"--version\"])"
   ]
  },
  {
   "cell_type": "code",
   "execution_count": null,
   "id": "80cfe8d1",
   "metadata": {},
   "outputs": [],
   "source": [
    "def print_completed_process(cp):\n",
    "    print(\"return code:\", cp.returncode)\n",
    "    print(\"captured stdout:\", repr(cp.stdout))\n",
    "    print(\"captured stderr:\", repr(cp.stderr))"
   ]
  },
  {
   "cell_type": "code",
   "execution_count": null,
   "id": "26305e7a",
   "metadata": {},
   "outputs": [],
   "source": [
    "print_completed_process(cp)"
   ]
  },
  {
   "cell_type": "code",
   "execution_count": null,
   "id": "89e8431e",
   "metadata": {},
   "outputs": [],
   "source": [
    "cp = run([shutil.which(\"python\"), \"--version\"], capture_output=True, text=True)"
   ]
  },
  {
   "cell_type": "code",
   "execution_count": null,
   "id": "fb5b53bc",
   "metadata": {},
   "outputs": [],
   "source": [
    "print_completed_process(cp)"
   ]
  },
  {
   "cell_type": "markdown",
   "id": "26bc6b1c",
   "metadata": {
    "lang": "de"
   },
   "source": [
    "Mit `sys.executable` kann man den Pfad des gerade aktiven Python Interpreters herausfinden. Das ist die bevorzugte Methode um einen Python Prozess zu starten."
   ]
  },
  {
   "cell_type": "code",
   "execution_count": null,
   "id": "f10dc56b",
   "metadata": {},
   "outputs": [],
   "source": [
    "import sys\n",
    "\n",
    "cp = run([sys.executable, \"--version\"], capture_output=True, text=True)"
   ]
  },
  {
   "cell_type": "code",
   "execution_count": null,
   "id": "e8a7f335",
   "metadata": {},
   "outputs": [],
   "source": [
    "print_completed_process(cp)"
   ]
  },
  {
   "cell_type": "code",
   "execution_count": null,
   "id": "a4254146",
   "metadata": {},
   "outputs": [],
   "source": [
    "cp = run([sys.executable, \"-m\", \"ext_sample_app\"], capture_output=True, text=True)"
   ]
  },
  {
   "cell_type": "code",
   "execution_count": null,
   "id": "ef90dd11",
   "metadata": {},
   "outputs": [],
   "source": [
    "print_completed_process(cp)"
   ]
  },
  {
   "cell_type": "code",
   "execution_count": null,
   "id": "5939b074",
   "metadata": {},
   "outputs": [],
   "source": [
    "cp = run(\n",
    "    [sys.executable, \"-m\", \"ext_sample_app\", \"--help\"], capture_output=True, text=True\n",
    ")"
   ]
  },
  {
   "cell_type": "code",
   "execution_count": null,
   "id": "f72b2ef7",
   "metadata": {},
   "outputs": [],
   "source": [
    "print_completed_process(cp)"
   ]
  },
  {
   "cell_type": "code",
   "execution_count": null,
   "id": "1a786703",
   "metadata": {},
   "outputs": [],
   "source": [
    "cp = run(\n",
    "    [sys.executable, \"-m\", \"ext_sample_app\", \"say-hi\"], capture_output=True, text=True\n",
    ")"
   ]
  },
  {
   "cell_type": "code",
   "execution_count": null,
   "id": "e3b22bda",
   "metadata": {},
   "outputs": [],
   "source": [
    "print_completed_process(cp)"
   ]
  },
  {
   "cell_type": "code",
   "execution_count": null,
   "id": "3973ed90",
   "metadata": {},
   "outputs": [],
   "source": [
    "cp = run(\n",
    "    [sys.executable, \"-m\", \"ext_sample_app\", \"error\"], capture_output=True, text=True\n",
    ")"
   ]
  },
  {
   "cell_type": "code",
   "execution_count": null,
   "id": "69d6d0c7",
   "metadata": {},
   "outputs": [],
   "source": [
    "print_completed_process(cp)"
   ]
  },
  {
   "cell_type": "code",
   "execution_count": null,
   "id": "0757c858",
   "metadata": {},
   "outputs": [],
   "source": [
    "# THIS DOES NOT WORK!\n",
    "# cp = run(\n",
    "#     [sys.executable, \"-m\", \"ext_sample_app\", \"interact\"], capture_output=True, text=True\n",
    "# )"
   ]
  },
  {
   "cell_type": "markdown",
   "id": "1dccd1cd",
   "metadata": {
    "lang": "de"
   },
   "source": [
    "## Popen: Nebenläufige Ausführung von Programmen\n",
    "\n",
    "Wenn man nicht warten kann, bis das gestartete Programm beendet wird muss man die `subprocess.Popen` Klasse verwenden:"
   ]
  },
  {
   "cell_type": "code",
   "execution_count": null,
   "id": "88c6109a",
   "metadata": {},
   "outputs": [],
   "source": [
    "from subprocess import Popen, PIPE\n",
    "import sys"
   ]
  },
  {
   "cell_type": "code",
   "execution_count": null,
   "id": "cdf5ca8f",
   "metadata": {},
   "outputs": [],
   "source": [
    "proc = Popen(\n",
    "    [sys.executable, \"-m\", \"ext_sample_app\", \"interact\"],\n",
    "    stdin=PIPE,\n",
    "    stderr=PIPE,\n",
    "    stdout=PIPE,\n",
    "    encoding=\"utf-8\",\n",
    "    universal_newlines=True,\n",
    "    bufsize=0,\n",
    ")"
   ]
  },
  {
   "cell_type": "code",
   "execution_count": null,
   "id": "e887bbce",
   "metadata": {},
   "outputs": [],
   "source": [
    "type(proc)"
   ]
  },
  {
   "cell_type": "markdown",
   "id": "7e137530",
   "metadata": {
    "lang": "de"
   },
   "source": [
    "`proc.communicate()` sendet eine Nachricht and `proc`, schließt die Ein- und Ausgabeströme und beendet den Prozess."
   ]
  },
  {
   "cell_type": "code",
   "execution_count": null,
   "id": "7bcc9639",
   "metadata": {},
   "outputs": [],
   "source": [
    "proc.communicate(\"work\")"
   ]
  },
  {
   "cell_type": "markdown",
   "id": "8a97cafb",
   "metadata": {
    "lang": "de"
   },
   "source": [
    "Mit `proc.poll()` kann man feststellen, ob der Prozess schon beendet wurde und was der Rückgabewert war. Falls das Ergebniss `None` ist, ist der Prozess noch aktiv. `proc.wait()` wartet eine bestimmte Zeit und gibt den Rückgabewert des Prozesses zurück. Falls der Prozess nicht in der vorgegebenen Zeit beendet wurde, wird eine `TimeoutExpired` Exception ausgelöst."
   ]
  },
  {
   "cell_type": "code",
   "execution_count": null,
   "id": "a353b8a3",
   "metadata": {
    "lines_to_next_cell": 1
   },
   "outputs": [],
   "source": [
    "proc.poll()"
   ]
  },
  {
   "cell_type": "code",
   "execution_count": null,
   "id": "4509b120",
   "metadata": {},
   "outputs": [],
   "source": [
    "def run_and_communicate(command):\n",
    "    proc = Popen(\n",
    "        [sys.executable, \"-m\", \"ext_sample_app\", \"interact\"],\n",
    "        stdin=PIPE,\n",
    "        stderr=PIPE,\n",
    "        stdout=PIPE,\n",
    "        encoding=\"utf-8\",\n",
    "        universal_newlines=True,\n",
    "        bufsize=0,\n",
    "    )\n",
    "    result = proc.communicate(command)\n",
    "    try:\n",
    "        wait_result = proc.wait(5)\n",
    "    except TimeoutExpired:\n",
    "        print(\"Process did not terminate!\")\n",
    "        proc.terminate()\n",
    "        wait_result = proc.wait(5)\n",
    "    return result, wait_result"
   ]
  },
  {
   "cell_type": "code",
   "execution_count": null,
   "id": "1839e2f9",
   "metadata": {},
   "outputs": [],
   "source": [
    "run_and_communicate(\"work\")"
   ]
  },
  {
   "cell_type": "code",
   "execution_count": null,
   "id": "491ec1a7",
   "metadata": {},
   "outputs": [],
   "source": [
    "run_and_communicate(\"exit\")"
   ]
  },
  {
   "cell_type": "code",
   "execution_count": null,
   "id": "7a59d953",
   "metadata": {},
   "outputs": [],
   "source": [
    "run_and_communicate(\"error\")"
   ]
  },
  {
   "cell_type": "markdown",
   "id": "3bd40ce1",
   "metadata": {
    "lang": "de"
   },
   "source": [
    "## Kommunikation mit Sockets\n",
    "\n",
    "Das folgende Beispiel zeigt, wie man einen Prozess starten und dann über Sockets mit ihm kommunizieren kann."
   ]
  },
  {
   "cell_type": "code",
   "execution_count": null,
   "id": "1f784223",
   "metadata": {},
   "outputs": [],
   "source": [
    "from subprocess import Popen, PIPE\n",
    "import sys\n",
    "\n",
    "HOST = \"localhost\"\n",
    "PORT = 12345"
   ]
  },
  {
   "cell_type": "code",
   "execution_count": null,
   "id": "110fcbd1",
   "metadata": {},
   "outputs": [],
   "source": [
    "from socket import socket, AF_INET, SOCK_STREAM\n",
    "import sys\n",
    "\n",
    "\n",
    "def send_message(msg: str):\n",
    "    with socket(AF_INET, SOCK_STREAM) as sock:\n",
    "        sock.connect((HOST, PORT))\n",
    "        sock.sendall(bytes(msg + \"\\n\", \"utf-8\"))\n",
    "        return str(sock.recv(1024), \"utf-8\")"
   ]
  },
  {
   "cell_type": "code",
   "execution_count": null,
   "id": "115999f2",
   "metadata": {},
   "outputs": [],
   "source": [
    "proc = Popen(\n",
    "    [\n",
    "        sys.executable,\n",
    "        \"-m\",\n",
    "        \"ext_sample_app\",\n",
    "        \"serve\",\n",
    "        \"--host\",\n",
    "        HOST,\n",
    "        \"--port\",\n",
    "        str(PORT),\n",
    "    ],\n",
    "    stdin=PIPE,\n",
    "    stderr=PIPE,\n",
    "    stdout=PIPE,\n",
    "    encoding=\"utf-8\",\n",
    "    universal_newlines=True,\n",
    "    bufsize=0,\n",
    ")"
   ]
  },
  {
   "cell_type": "code",
   "execution_count": null,
   "id": "52b8ec47",
   "metadata": {},
   "outputs": [],
   "source": [
    "proc.poll()"
   ]
  },
  {
   "cell_type": "code",
   "execution_count": null,
   "id": "1759bb4a",
   "metadata": {},
   "outputs": [],
   "source": [
    "send_message(\"Hello, world!\")"
   ]
  },
  {
   "cell_type": "code",
   "execution_count": null,
   "id": "0f387aa5",
   "metadata": {},
   "outputs": [],
   "source": [
    "send_message(\"Are you running?\")"
   ]
  },
  {
   "cell_type": "code",
   "execution_count": null,
   "id": "68b0e5ff",
   "metadata": {},
   "outputs": [],
   "source": [
    "proc.poll()"
   ]
  },
  {
   "cell_type": "code",
   "execution_count": null,
   "id": "c5555492",
   "metadata": {},
   "outputs": [],
   "source": [
    "proc.terminate()"
   ]
  },
  {
   "cell_type": "code",
   "execution_count": null,
   "id": "883e0cb4",
   "metadata": {},
   "outputs": [],
   "source": [
    "proc.poll()"
   ]
  },
  {
   "cell_type": "code",
   "execution_count": null,
   "id": "113139ce",
   "metadata": {},
   "outputs": [],
   "source": [
    "try:\n",
    "    send_message(\"Are you still running?\")\n",
    "except ConnectionRefusedError as err:\n",
    "    print(\"Could not connect to server.\")\n",
    "    print(err)"
   ]
  },
  {
   "cell_type": "code",
   "execution_count": null,
   "id": "d6370188",
   "metadata": {},
   "outputs": [],
   "source": [
    "proc.poll()"
   ]
  },
  {
   "cell_type": "code",
   "execution_count": null,
   "id": "4a163831",
   "metadata": {},
   "outputs": [],
   "source": []
  }
 ],
 "metadata": {
  "kernelspec": {
   "display_name": "Python 3 (ipykernel)",
   "language": "python",
   "name": "python3"
  }
 },
 "nbformat": 4,
 "nbformat_minor": 5
}
