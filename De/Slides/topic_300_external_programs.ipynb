{
 "cells": [
  {
   "cell_type": "markdown",
   "id": "59a78fdd",
   "metadata": {
    "lang": "de",
    "slideshow": {
     "slide_type": "slide"
    }
   },
   "source": [
    "<img src=\"img/python-logo-notext.svg\"\n",
    "     style=\"display:block;margin:auto;width:10%\"/>\n",
    "<br>\n",
    "<div style=\"text-align:center; font-size:200%;\"><b>Externe Programme</b></div>\n",
    "<br/>\n",
    "<div style=\"text-align:center;\">Dr. Matthias Hölzl</div>"
   ]
  },
  {
   "cell_type": "markdown",
   "id": "00642a93",
   "metadata": {
    "lang": "de",
    "slideshow": {
     "slide_type": "slide"
    }
   },
   "source": [
    "## Sub-Prozesse\n",
    "\n",
    "*Hinweis:* Zur Ausführung dieses Notebooks müssen muss das `ext_sample_app`\n",
    "Package (in `Examples/ExternalSampleApplication`) installiert sein.\n",
    "\n",
    "`subprocess.run` ist die bevorzugte Methode um externe Applikationen zu starten."
   ]
  },
  {
   "cell_type": "code",
   "execution_count": null,
   "id": "4e531a11",
   "metadata": {},
   "outputs": [],
   "source": [
    "from subprocess import TimeoutExpired, run"
   ]
  },
  {
   "cell_type": "code",
   "execution_count": null,
   "id": "59e26fac",
   "metadata": {},
   "outputs": [],
   "source": [
    "# This may not work if `python` is not in your path...\n",
    "run([\"python\", \"--version\"])"
   ]
  },
  {
   "cell_type": "markdown",
   "id": "80d29d98",
   "metadata": {
    "lang": "de"
   },
   "source": [
    "Mit `shutil.which()` kann man den vollständigen Pfad eines Programms herausfinden."
   ]
  },
  {
   "cell_type": "code",
   "execution_count": null,
   "id": "8ed1d0ba",
   "metadata": {},
   "outputs": [],
   "source": [
    "import shutil\n",
    "\n",
    "shutil.which(\"python\")"
   ]
  },
  {
   "cell_type": "code",
   "execution_count": null,
   "id": "7e0e5c13",
   "metadata": {
    "lines_to_next_cell": 1
   },
   "outputs": [],
   "source": [
    "cp = run([shutil.which(\"python\"), \"--version\"])"
   ]
  },
  {
   "cell_type": "code",
   "execution_count": null,
   "id": "b8cf6edb",
   "metadata": {},
   "outputs": [],
   "source": [
    "def print_completed_process(cp):\n",
    "    print(\"return code:\", cp.returncode)\n",
    "    print(\"captured stdout:\", repr(cp.stdout))\n",
    "    print(\"captured stderr:\", repr(cp.stderr))"
   ]
  },
  {
   "cell_type": "code",
   "execution_count": null,
   "id": "708e9526",
   "metadata": {},
   "outputs": [],
   "source": [
    "print_completed_process(cp)"
   ]
  },
  {
   "cell_type": "code",
   "execution_count": null,
   "id": "d4fbf07a",
   "metadata": {},
   "outputs": [],
   "source": [
    "cp = run([shutil.which(\"python\"), \"--version\"], capture_output=True, text=True)"
   ]
  },
  {
   "cell_type": "code",
   "execution_count": null,
   "id": "d947eaf0",
   "metadata": {},
   "outputs": [],
   "source": [
    "print_completed_process(cp)"
   ]
  },
  {
   "cell_type": "markdown",
   "id": "699f1bc3",
   "metadata": {
    "lang": "de"
   },
   "source": [
    "Mit `sys.executable` kann man den Pfad des gerade aktiven Python Interpreters herausfinden. Das ist die bevorzugte Methode um einen Python Prozess zu starten."
   ]
  },
  {
   "cell_type": "code",
   "execution_count": null,
   "id": "1d079422",
   "metadata": {},
   "outputs": [],
   "source": [
    "import sys\n",
    "\n",
    "cp = run([sys.executable, \"--version\"], capture_output=True, text=True)"
   ]
  },
  {
   "cell_type": "code",
   "execution_count": null,
   "id": "41eece31",
   "metadata": {},
   "outputs": [],
   "source": [
    "print_completed_process(cp)"
   ]
  },
  {
   "cell_type": "code",
   "execution_count": null,
   "id": "baa9e45f",
   "metadata": {},
   "outputs": [],
   "source": [
    "cp = run([sys.executable, \"-m\", \"ext_sample_app\"], capture_output=True, text=True)"
   ]
  },
  {
   "cell_type": "code",
   "execution_count": null,
   "id": "5505df8c",
   "metadata": {},
   "outputs": [],
   "source": [
    "print_completed_process(cp)"
   ]
  },
  {
   "cell_type": "code",
   "execution_count": null,
   "id": "93633923",
   "metadata": {},
   "outputs": [],
   "source": [
    "cp = run(\n",
    "    [sys.executable, \"-m\", \"ext_sample_app\", \"--help\"], capture_output=True, text=True\n",
    ")"
   ]
  },
  {
   "cell_type": "code",
   "execution_count": null,
   "id": "f6250c42",
   "metadata": {},
   "outputs": [],
   "source": [
    "print_completed_process(cp)"
   ]
  },
  {
   "cell_type": "code",
   "execution_count": null,
   "id": "5f14cf40",
   "metadata": {},
   "outputs": [],
   "source": [
    "cp = run(\n",
    "    [sys.executable, \"-m\", \"ext_sample_app\", \"say-hi\"], capture_output=True, text=True\n",
    ")"
   ]
  },
  {
   "cell_type": "code",
   "execution_count": null,
   "id": "44181f6e",
   "metadata": {},
   "outputs": [],
   "source": [
    "print_completed_process(cp)"
   ]
  },
  {
   "cell_type": "code",
   "execution_count": null,
   "id": "951507eb",
   "metadata": {},
   "outputs": [],
   "source": [
    "cp = run(\n",
    "    [sys.executable, \"-m\", \"ext_sample_app\", \"error\"], capture_output=True, text=True\n",
    ")"
   ]
  },
  {
   "cell_type": "code",
   "execution_count": null,
   "id": "52ced063",
   "metadata": {},
   "outputs": [],
   "source": [
    "print_completed_process(cp)"
   ]
  },
  {
   "cell_type": "code",
   "execution_count": null,
   "id": "5d380719",
   "metadata": {},
   "outputs": [],
   "source": [
    "# THIS DOES NOT WORK!\n",
    "# cp = run(\n",
    "#     [sys.executable, \"-m\", \"ext_sample_app\", \"interact\"], capture_output=True, text=True\n",
    "# )"
   ]
  },
  {
   "cell_type": "markdown",
   "id": "70652200",
   "metadata": {
    "lang": "de"
   },
   "source": [
    "## Popen: Nebenläufige Ausführung von Programmen\n",
    "\n",
    "Wenn man nicht warten kann, bis das gestartete Programm beendet wird muss man die `subprocess.Popen` Klasse verwenden:"
   ]
  },
  {
   "cell_type": "code",
   "execution_count": null,
   "id": "b12eb3d7",
   "metadata": {},
   "outputs": [],
   "source": [
    "from subprocess import Popen, PIPE\n",
    "import sys"
   ]
  },
  {
   "cell_type": "code",
   "execution_count": null,
   "id": "6690faf4",
   "metadata": {},
   "outputs": [],
   "source": [
    "proc = Popen(\n",
    "    [sys.executable, \"-m\", \"ext_sample_app\", \"interact\"],\n",
    "    stdin=PIPE,\n",
    "    stderr=PIPE,\n",
    "    stdout=PIPE,\n",
    "    encoding=\"utf-8\",\n",
    "    universal_newlines=True,\n",
    "    bufsize=0,\n",
    ")"
   ]
  },
  {
   "cell_type": "code",
   "execution_count": null,
   "id": "4bf326ac",
   "metadata": {},
   "outputs": [],
   "source": [
    "type(proc)"
   ]
  },
  {
   "cell_type": "markdown",
   "id": "352391ec",
   "metadata": {
    "lang": "de"
   },
   "source": [
    "`proc.communicate()` sendet eine Nachricht and `proc`, schließt die Ein- und Ausgabeströme und beendet den Prozess."
   ]
  },
  {
   "cell_type": "code",
   "execution_count": null,
   "id": "d1b4a027",
   "metadata": {},
   "outputs": [],
   "source": [
    "proc.communicate(\"work\")"
   ]
  },
  {
   "cell_type": "markdown",
   "id": "2eb4053a",
   "metadata": {
    "lang": "de"
   },
   "source": [
    "Mit `proc.poll()` kann man feststellen, ob der Prozess schon beendet wurde und was der Rückgabewert war. Falls das Ergebniss `None` ist, ist der Prozess noch aktiv. `proc.wait()` wartet eine bestimmte Zeit und gibt den Rückgabewert des Prozesses zurück. Falls der Prozess nicht in der vorgegebenen Zeit beendet wurde, wird eine `TimeoutExpired` Exception ausgelöst."
   ]
  },
  {
   "cell_type": "code",
   "execution_count": null,
   "id": "4b72beb3",
   "metadata": {
    "lines_to_next_cell": 1
   },
   "outputs": [],
   "source": [
    "proc.poll()"
   ]
  },
  {
   "cell_type": "code",
   "execution_count": null,
   "id": "fc049a28",
   "metadata": {},
   "outputs": [],
   "source": [
    "def run_and_communicate(command):\n",
    "    proc = Popen(\n",
    "        [sys.executable, \"-m\", \"ext_sample_app\", \"interact\"],\n",
    "        stdin=PIPE,\n",
    "        stderr=PIPE,\n",
    "        stdout=PIPE,\n",
    "        encoding=\"utf-8\",\n",
    "        universal_newlines=True,\n",
    "        bufsize=0,\n",
    "    )\n",
    "    result = proc.communicate(command)\n",
    "    try:\n",
    "        wait_result = proc.wait(5)\n",
    "    except TimeoutExpired:\n",
    "        print(\"Process did not terminate!\")\n",
    "        proc.terminate()\n",
    "        wait_result = proc.wait(5)\n",
    "    return result, wait_result"
   ]
  },
  {
   "cell_type": "code",
   "execution_count": null,
   "id": "9f5cb1a2",
   "metadata": {},
   "outputs": [],
   "source": [
    "run_and_communicate(\"work\")"
   ]
  },
  {
   "cell_type": "code",
   "execution_count": null,
   "id": "f9b34f1c",
   "metadata": {},
   "outputs": [],
   "source": [
    "run_and_communicate(\"exit\")"
   ]
  },
  {
   "cell_type": "code",
   "execution_count": null,
   "id": "79f431cd",
   "metadata": {},
   "outputs": [],
   "source": [
    "run_and_communicate(\"error\")"
   ]
  },
  {
   "cell_type": "markdown",
   "id": "be96fba0",
   "metadata": {
    "lang": "de"
   },
   "source": [
    "## Kommunikation mit Sockets\n",
    "\n",
    "Das folgende Beispiel zeigt, wie man einen Prozess starten und dann über Sockets mit ihm kommunizieren kann."
   ]
  },
  {
   "cell_type": "code",
   "execution_count": null,
   "id": "7750d4bb",
   "metadata": {},
   "outputs": [],
   "source": [
    "from subprocess import Popen, PIPE\n",
    "import sys\n",
    "\n",
    "HOST = \"localhost\"\n",
    "PORT = 12345"
   ]
  },
  {
   "cell_type": "code",
   "execution_count": null,
   "id": "6c5cdb33",
   "metadata": {},
   "outputs": [],
   "source": [
    "from socket import socket, AF_INET, SOCK_STREAM\n",
    "import sys\n",
    "\n",
    "\n",
    "def send_message(msg: str):\n",
    "    with socket(AF_INET, SOCK_STREAM) as sock:\n",
    "        sock.connect((HOST, PORT))\n",
    "        sock.sendall(bytes(msg + \"\\n\", \"utf-8\"))\n",
    "        return str(sock.recv(1024), \"utf-8\")"
   ]
  },
  {
   "cell_type": "code",
   "execution_count": null,
   "id": "8971908b",
   "metadata": {},
   "outputs": [],
   "source": [
    "proc = Popen(\n",
    "    [\n",
    "        sys.executable,\n",
    "        \"-m\",\n",
    "        \"ext_sample_app\",\n",
    "        \"serve\",\n",
    "        \"--host\",\n",
    "        HOST,\n",
    "        \"--port\",\n",
    "        str(PORT),\n",
    "    ],\n",
    "    stdin=PIPE,\n",
    "    stderr=PIPE,\n",
    "    stdout=PIPE,\n",
    "    encoding=\"utf-8\",\n",
    "    universal_newlines=True,\n",
    "    bufsize=0,\n",
    ")"
   ]
  },
  {
   "cell_type": "code",
   "execution_count": null,
   "id": "31bd062f",
   "metadata": {},
   "outputs": [],
   "source": [
    "proc.poll()"
   ]
  },
  {
   "cell_type": "code",
   "execution_count": null,
   "id": "96268645",
   "metadata": {},
   "outputs": [],
   "source": [
    "send_message(\"Hello, world!\")"
   ]
  },
  {
   "cell_type": "code",
   "execution_count": null,
   "id": "1c2bb890",
   "metadata": {},
   "outputs": [],
   "source": [
    "send_message(\"Are you running?\")"
   ]
  },
  {
   "cell_type": "code",
   "execution_count": null,
   "id": "512ae2e3",
   "metadata": {},
   "outputs": [],
   "source": [
    "proc.poll()"
   ]
  },
  {
   "cell_type": "code",
   "execution_count": null,
   "id": "ca551080",
   "metadata": {},
   "outputs": [],
   "source": [
    "proc.terminate()"
   ]
  },
  {
   "cell_type": "code",
   "execution_count": null,
   "id": "f9514fe4",
   "metadata": {},
   "outputs": [],
   "source": [
    "proc.poll()"
   ]
  },
  {
   "cell_type": "code",
   "execution_count": null,
   "id": "bfe2b502",
   "metadata": {},
   "outputs": [],
   "source": [
    "try:\n",
    "    send_message(\"Are you still running?\")\n",
    "except ConnectionRefusedError as err:\n",
    "    print(\"Could not connect to server.\")\n",
    "    print(err)"
   ]
  },
  {
   "cell_type": "code",
   "execution_count": null,
   "id": "3da57f66",
   "metadata": {},
   "outputs": [],
   "source": [
    "proc.poll()"
   ]
  },
  {
   "cell_type": "code",
   "execution_count": null,
   "id": "c5dc3e43",
   "metadata": {},
   "outputs": [],
   "source": []
  }
 ],
 "metadata": {
  "kernelspec": {
   "display_name": "Python 3 (ipykernel)",
   "language": "python",
   "name": "python3"
  }
 },
 "nbformat": 4,
 "nbformat_minor": 5
}
