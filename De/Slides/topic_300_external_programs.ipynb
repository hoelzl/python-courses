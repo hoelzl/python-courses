{
 "cells": [
  {
   "cell_type": "markdown",
   "id": "caab68ce",
   "metadata": {
    "lang": "de",
    "slideshow": {
     "slide_type": "slide"
    }
   },
   "source": [
    "<img src=\"img/python-logo-notext.svg\"\n",
    "     style=\"display:block;margin:auto;width:10%\"/>\n",
    "<br>\n",
    "<div style=\"text-align:center; font-size:200%;\"><b>Externe Programme</b></div>\n",
    "<br/>\n",
    "<div style=\"text-align:center;\">Dr. Matthias Hölzl</div>"
   ]
  },
  {
   "cell_type": "markdown",
   "id": "86f36f22",
   "metadata": {
    "lang": "de",
    "slideshow": {
     "slide_type": "slide"
    }
   },
   "source": [
    "## Sub-Prozesse\n",
    "\n",
    "*Hinweis:* Zur Ausführung dieses Notebooks müssen muss das `ext_sample_app`\n",
    "Package (in `Examples/ExternalSampleApplication`) installiert sein.\n",
    "\n",
    "`subprocess.run` ist die bevorzugte Methode um externe Applikationen zu starten."
   ]
  },
  {
   "cell_type": "code",
   "execution_count": null,
   "id": "8db62002",
   "metadata": {},
   "outputs": [],
   "source": [
    "from subprocess import TimeoutExpired, run"
   ]
  },
  {
   "cell_type": "code",
   "execution_count": null,
   "id": "e4cb8c5f",
   "metadata": {},
   "outputs": [],
   "source": [
    "# This may not work if `python` is not in your path...\n",
    "run([\"python\", \"--version\"])"
   ]
  },
  {
   "cell_type": "markdown",
   "id": "e0805451",
   "metadata": {
    "lang": "de"
   },
   "source": [
    "Mit `shutil.which()` kann man den vollständigen Pfad eines Programms herausfinden."
   ]
  },
  {
   "cell_type": "code",
   "execution_count": null,
   "id": "acfb7d4a",
   "metadata": {},
   "outputs": [],
   "source": [
    "import shutil\n",
    "\n",
    "shutil.which(\"python\")"
   ]
  },
  {
   "cell_type": "code",
   "execution_count": null,
   "id": "37ebf63e",
   "metadata": {
    "lines_to_next_cell": 1
   },
   "outputs": [],
   "source": [
    "cp = run([shutil.which(\"python\"), \"--version\"])"
   ]
  },
  {
   "cell_type": "code",
   "execution_count": null,
   "id": "6f44a684",
   "metadata": {},
   "outputs": [],
   "source": [
    "def print_completed_process(cp):\n",
    "    print(\"return code:\", cp.returncode)\n",
    "    print(\"captured stdout:\", repr(cp.stdout))\n",
    "    print(\"captured stderr:\", repr(cp.stderr))"
   ]
  },
  {
   "cell_type": "code",
   "execution_count": null,
   "id": "eaf84e36",
   "metadata": {},
   "outputs": [],
   "source": [
    "print_completed_process(cp)"
   ]
  },
  {
   "cell_type": "code",
   "execution_count": null,
   "id": "421b6678",
   "metadata": {},
   "outputs": [],
   "source": [
    "cp = run([shutil.which(\"python\"), \"--version\"], capture_output=True, text=True)"
   ]
  },
  {
   "cell_type": "code",
   "execution_count": null,
   "id": "fb85e781",
   "metadata": {},
   "outputs": [],
   "source": [
    "print_completed_process(cp)"
   ]
  },
  {
   "cell_type": "markdown",
   "id": "312c3bc4",
   "metadata": {
    "lang": "de"
   },
   "source": [
    "Mit `sys.executable` kann man den Pfad des gerade aktiven Python Interpreters herausfinden. Das ist die bevorzugte Methode um einen Python Prozess zu starten."
   ]
  },
  {
   "cell_type": "code",
   "execution_count": null,
   "id": "5df53fee",
   "metadata": {},
   "outputs": [],
   "source": [
    "import sys\n",
    "\n",
    "cp = run([sys.executable, \"--version\"], capture_output=True, text=True)"
   ]
  },
  {
   "cell_type": "code",
   "execution_count": null,
   "id": "518c4bff",
   "metadata": {},
   "outputs": [],
   "source": [
    "print_completed_process(cp)"
   ]
  },
  {
   "cell_type": "code",
   "execution_count": null,
   "id": "fd832942",
   "metadata": {},
   "outputs": [],
   "source": [
    "cp = run([sys.executable, \"-m\", \"ext_sample_app\"], capture_output=True, text=True)"
   ]
  },
  {
   "cell_type": "code",
   "execution_count": null,
   "id": "a2061224",
   "metadata": {},
   "outputs": [],
   "source": [
    "print_completed_process(cp)"
   ]
  },
  {
   "cell_type": "code",
   "execution_count": null,
   "id": "a3f6ce71",
   "metadata": {},
   "outputs": [],
   "source": [
    "cp = run(\n",
    "    [sys.executable, \"-m\", \"ext_sample_app\", \"--help\"], capture_output=True, text=True\n",
    ")"
   ]
  },
  {
   "cell_type": "code",
   "execution_count": null,
   "id": "204bffa2",
   "metadata": {},
   "outputs": [],
   "source": [
    "print_completed_process(cp)"
   ]
  },
  {
   "cell_type": "code",
   "execution_count": null,
   "id": "3a051352",
   "metadata": {},
   "outputs": [],
   "source": [
    "cp = run(\n",
    "    [sys.executable, \"-m\", \"ext_sample_app\", \"say-hi\"], capture_output=True, text=True\n",
    ")"
   ]
  },
  {
   "cell_type": "code",
   "execution_count": null,
   "id": "1ee9a812",
   "metadata": {},
   "outputs": [],
   "source": [
    "print_completed_process(cp)"
   ]
  },
  {
   "cell_type": "code",
   "execution_count": null,
   "id": "98290c5e",
   "metadata": {},
   "outputs": [],
   "source": [
    "cp = run(\n",
    "    [sys.executable, \"-m\", \"ext_sample_app\", \"error\"], capture_output=True, text=True\n",
    ")"
   ]
  },
  {
   "cell_type": "code",
   "execution_count": null,
   "id": "13e07b05",
   "metadata": {},
   "outputs": [],
   "source": [
    "print_completed_process(cp)"
   ]
  },
  {
   "cell_type": "code",
   "execution_count": null,
   "id": "2540374a",
   "metadata": {},
   "outputs": [],
   "source": [
    "# THIS DOES NOT WORK!\n",
    "# cp = run(\n",
    "#     [sys.executable, \"-m\", \"ext_sample_app\", \"interact\"], capture_output=True, text=True\n",
    "# )"
   ]
  },
  {
   "cell_type": "markdown",
   "id": "814a862d",
   "metadata": {
    "lang": "de"
   },
   "source": [
    "## Popen: Nebenläufige Ausführung von Programmen\n",
    "\n",
    "Wenn man nicht warten kann, bis das gestartete Programm beendet wird muss man die `subprocess.Popen` Klasse verwenden:"
   ]
  },
  {
   "cell_type": "code",
   "execution_count": null,
   "id": "f18c7515",
   "metadata": {},
   "outputs": [],
   "source": [
    "from subprocess import Popen, PIPE\n",
    "import sys"
   ]
  },
  {
   "cell_type": "code",
   "execution_count": null,
   "id": "2343839e",
   "metadata": {},
   "outputs": [],
   "source": [
    "proc = Popen(\n",
    "    [sys.executable, \"-m\", \"ext_sample_app\", \"interact\"],\n",
    "    stdin=PIPE,\n",
    "    stderr=PIPE,\n",
    "    stdout=PIPE,\n",
    "    encoding=\"utf-8\",\n",
    "    universal_newlines=True,\n",
    "    bufsize=0,\n",
    ")"
   ]
  },
  {
   "cell_type": "code",
   "execution_count": null,
   "id": "602143a2",
   "metadata": {},
   "outputs": [],
   "source": [
    "type(proc)"
   ]
  },
  {
   "cell_type": "markdown",
   "id": "bd2664cb",
   "metadata": {
    "lang": "de"
   },
   "source": [
    "`proc.communicate()` sendet eine Nachricht and `proc`, schließt die Ein- und Ausgabeströme und beendet den Prozess."
   ]
  },
  {
   "cell_type": "code",
   "execution_count": null,
   "id": "51ef3d99",
   "metadata": {},
   "outputs": [],
   "source": [
    "proc.communicate(\"work\")"
   ]
  },
  {
   "cell_type": "markdown",
   "id": "6374f2c3",
   "metadata": {
    "lang": "de"
   },
   "source": [
    "Mit `proc.poll()` kann man feststellen, ob der Prozess schon beendet wurde und was der Rückgabewert war. Falls das Ergebniss `None` ist, ist der Prozess noch aktiv. `proc.wait()` wartet eine bestimmte Zeit und gibt den Rückgabewert des Prozesses zurück. Falls der Prozess nicht in der vorgegebenen Zeit beendet wurde, wird eine `TimeoutExpired` Exception ausgelöst."
   ]
  },
  {
   "cell_type": "code",
   "execution_count": null,
   "id": "136e1fb0",
   "metadata": {
    "lines_to_next_cell": 1
   },
   "outputs": [],
   "source": [
    "proc.poll()"
   ]
  },
  {
   "cell_type": "code",
   "execution_count": null,
   "id": "f0233703",
   "metadata": {},
   "outputs": [],
   "source": [
    "def run_and_communicate(command):\n",
    "    proc = Popen(\n",
    "        [sys.executable, \"-m\", \"ext_sample_app\", \"interact\"],\n",
    "        stdin=PIPE,\n",
    "        stderr=PIPE,\n",
    "        stdout=PIPE,\n",
    "        encoding=\"utf-8\",\n",
    "        universal_newlines=True,\n",
    "        bufsize=0,\n",
    "    )\n",
    "    result = proc.communicate(command)\n",
    "    try:\n",
    "        wait_result = proc.wait(5)\n",
    "    except TimeoutExpired:\n",
    "        print(\"Process did not terminate!\")\n",
    "        proc.terminate()\n",
    "        wait_result = proc.wait(5)\n",
    "    return result, wait_result"
   ]
  },
  {
   "cell_type": "code",
   "execution_count": null,
   "id": "595c0763",
   "metadata": {},
   "outputs": [],
   "source": [
    "run_and_communicate(\"work\")"
   ]
  },
  {
   "cell_type": "code",
   "execution_count": null,
   "id": "0dd6584b",
   "metadata": {},
   "outputs": [],
   "source": [
    "run_and_communicate(\"exit\")"
   ]
  },
  {
   "cell_type": "code",
   "execution_count": null,
   "id": "e39b6e7c",
   "metadata": {},
   "outputs": [],
   "source": [
    "run_and_communicate(\"error\")"
   ]
  },
  {
   "cell_type": "markdown",
   "id": "f8746c68",
   "metadata": {
    "lang": "de"
   },
   "source": [
    "## Kommunikation mit Sockets\n",
    "\n",
    "Das folgende Beispiel zeigt, wie man einen Prozess starten und dann über Sockets mit ihm kommunizieren kann."
   ]
  },
  {
   "cell_type": "code",
   "execution_count": null,
   "id": "cf78957a",
   "metadata": {},
   "outputs": [],
   "source": [
    "from subprocess import Popen, PIPE\n",
    "import sys\n",
    "\n",
    "HOST = \"localhost\"\n",
    "PORT = 12345"
   ]
  },
  {
   "cell_type": "code",
   "execution_count": null,
   "id": "3d74158b",
   "metadata": {},
   "outputs": [],
   "source": [
    "from socket import socket, AF_INET, SOCK_STREAM\n",
    "import sys\n",
    "\n",
    "\n",
    "def send_message(msg: str):\n",
    "    with socket(AF_INET, SOCK_STREAM) as sock:\n",
    "        sock.connect((HOST, PORT))\n",
    "        sock.sendall(bytes(msg + \"\\n\", \"utf-8\"))\n",
    "        return str(sock.recv(1024), \"utf-8\")"
   ]
  },
  {
   "cell_type": "code",
   "execution_count": null,
   "id": "d6ee5945",
   "metadata": {},
   "outputs": [],
   "source": [
    "proc = Popen(\n",
    "    [\n",
    "        sys.executable,\n",
    "        \"-m\",\n",
    "        \"ext_sample_app\",\n",
    "        \"serve\",\n",
    "        \"--host\",\n",
    "        HOST,\n",
    "        \"--port\",\n",
    "        str(PORT),\n",
    "    ],\n",
    "    stdin=PIPE,\n",
    "    stderr=PIPE,\n",
    "    stdout=PIPE,\n",
    "    encoding=\"utf-8\",\n",
    "    universal_newlines=True,\n",
    "    bufsize=0,\n",
    ")"
   ]
  },
  {
   "cell_type": "code",
   "execution_count": null,
   "id": "3ce5cf23",
   "metadata": {},
   "outputs": [],
   "source": [
    "proc.poll()"
   ]
  },
  {
   "cell_type": "code",
   "execution_count": null,
   "id": "4affcd07",
   "metadata": {},
   "outputs": [],
   "source": [
    "send_message(\"Hello, world!\")"
   ]
  },
  {
   "cell_type": "code",
   "execution_count": null,
   "id": "15d3fddb",
   "metadata": {},
   "outputs": [],
   "source": [
    "send_message(\"Are you running?\")"
   ]
  },
  {
   "cell_type": "code",
   "execution_count": null,
   "id": "d9ffc5fd",
   "metadata": {},
   "outputs": [],
   "source": [
    "proc.poll()"
   ]
  },
  {
   "cell_type": "code",
   "execution_count": null,
   "id": "a0d1fbe3",
   "metadata": {},
   "outputs": [],
   "source": [
    "proc.terminate()"
   ]
  },
  {
   "cell_type": "code",
   "execution_count": null,
   "id": "7935df94",
   "metadata": {},
   "outputs": [],
   "source": [
    "proc.poll()"
   ]
  },
  {
   "cell_type": "code",
   "execution_count": null,
   "id": "0333fcdc",
   "metadata": {},
   "outputs": [],
   "source": [
    "try:\n",
    "    send_message(\"Are you still running?\")\n",
    "except ConnectionRefusedError as err:\n",
    "    print(\"Could not connect to server.\")\n",
    "    print(err)"
   ]
  },
  {
   "cell_type": "code",
   "execution_count": null,
   "id": "b0f7d5d8",
   "metadata": {},
   "outputs": [],
   "source": [
    "proc.poll()"
   ]
  },
  {
   "cell_type": "code",
   "execution_count": null,
   "id": "f69d1685",
   "metadata": {},
   "outputs": [],
   "source": []
  }
 ],
 "metadata": {
  "kernelspec": {
   "display_name": "Python 3 (ipykernel)",
   "language": "python",
   "name": "python3"
  }
 },
 "nbformat": 4,
 "nbformat_minor": 5
}
