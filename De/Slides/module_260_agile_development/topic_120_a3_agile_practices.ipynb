{
 "cells": [
  {
   "cell_type": "markdown",
   "id": "07e1c7fe2366343c",
   "metadata": {
    "lang": "de",
    "slideshow": {
     "slide_type": "slide"
    }
   },
   "source": [
    "<img src=\"../../img/python-logo-no-text.svg\"\n",
    "     style=\"display:block;margin:auto;width:10%\"/>\n",
    "<br>\n",
    "<div style=\"text-align:center; font-size:200%;\">\n",
    " <b>Agile Praktiken</b>\n",
    "</div>\n",
    "<br/>\n",
    "<div style=\"text-align:center;\">Dr. Matthias Hölzl</div>\n",
    "<br/>\n",
    "<div style=\"text-align:center;\">module_260_agile_development/topic_120_a3_agile_practices</div>"
   ]
  },
  {
   "cell_type": "markdown",
   "id": "c3871900549564d1",
   "metadata": {
    "lang": "de",
    "slideshow": {
     "slide_type": "slide"
    }
   },
   "source": [
    "\n",
    "# Agile Praktiken"
   ]
  }
 ],
 "metadata": {},
 "nbformat": 4,
 "nbformat_minor": 5
}
