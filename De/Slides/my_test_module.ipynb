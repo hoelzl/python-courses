{
 "cells": [
  {
   "cell_type": "code",
   "execution_count": null,
   "id": "fb6efbfc",
   "metadata": {},
   "outputs": [],
   "source": [
    "def add1(n):\n",
    "    \"\"\" \"Adds 1 to n.\"\"\"\n",
    "    return n + 1"
   ]
  },
  {
   "cell_type": "code",
   "execution_count": null,
   "id": "131a93e4",
   "metadata": {},
   "outputs": [],
   "source": [
    "def multiply_by_2(n):\n",
    "    \"\"\" \"Multiplies n by 2.\"\"\"\n",
    "    return n * 2"
   ]
  },
  {
   "cell_type": "code",
   "execution_count": null,
   "id": "c9cd87c3",
   "metadata": {},
   "outputs": [],
   "source": [
    "def perform_complex_computation(n):\n",
    "    \"\"\" \"Performs a very complex computation involving n.\"\"\"\n",
    "    return 2 * n + 1"
   ]
  },
  {
   "cell_type": "code",
   "execution_count": null,
   "id": "c9eaf096",
   "metadata": {},
   "outputs": [],
   "source": [
    "print(\"File my_test_module.py is executing!\")\n",
    "print(f\"Module name is '{__name__}'\")"
   ]
  }
 ],
 "metadata": {},
 "nbformat": 4,
 "nbformat_minor": 5
}
