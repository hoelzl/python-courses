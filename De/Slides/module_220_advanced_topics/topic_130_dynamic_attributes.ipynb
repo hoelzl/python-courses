{
 "cells": [
  {
   "cell_type": "code",
   "execution_count": null,
   "id": "6b4e03423667dbb7",
   "metadata": {},
   "outputs": [],
   "source": []
  },
  {
   "cell_type": "markdown",
   "id": "4eff75c6fa0d6d4e",
   "metadata": {
    "lang": "de",
    "slideshow": {
     "slide_type": "slide"
    }
   },
   "source": [
    "<img src=\"../../img/python-logo-no-text.svg\"\n",
    "     style=\"display:block;margin:auto;width:10%\"/>\n",
    "<br>\n",
    "<div style=\"text-align:center; font-size:200%;\">\n",
    "  <b>Dynamische Attribute</b>\n",
    "</div>\n",
    "<br/>\n",
    "<div style=\"text-align:center;\">Dr. Matthias Hölzl</div>\n",
    "<br/>\n",
    "<div style=\"text-align:center;\">module_220_advanced_topics/topic_130_dynamic_attributes</div>"
   ]
  },
  {
   "cell_type": "markdown",
   "id": "6797385236a67d5e",
   "metadata": {
    "lang": "de",
    "lines_to_next_cell": 2,
    "slideshow": {
     "slide_type": "slide"
    }
   },
   "source": [
    "\n",
    "# Dynamische Attribute\n",
    "\n",
    "Durch das Objektmodell von Python ist es möglich, \"virtuelle\" oder dynamische\n",
    "Attribute zu definieren, die nicht auf `__dict__` zugreifen und auch zur\n",
    "Compilezeit nicht existieren müssen."
   ]
  },
  {
   "cell_type": "code",
   "execution_count": null,
   "id": "0c6fd3c335605c74",
   "metadata": {},
   "outputs": [],
   "source": [
    "class Storage:\n",
    "    def __repr__(self):\n",
    "        return f\"Storage(dict={self.__dict__})\""
   ]
  },
  {
   "cell_type": "code",
   "execution_count": null,
   "id": "03b7204e15fab2b4",
   "metadata": {},
   "outputs": [],
   "source": [
    "my_obj = Storage()\n",
    "my_obj"
   ]
  },
  {
   "cell_type": "code",
   "execution_count": null,
   "id": "bcfb9f95458003a1",
   "metadata": {},
   "outputs": [],
   "source": [
    "my_obj.foo = \"abc\"\n",
    "my_obj"
   ]
  },
  {
   "cell_type": "code",
   "execution_count": null,
   "id": "14b5c31e4285e1ab",
   "metadata": {},
   "outputs": [],
   "source": [
    "my_obj.bar = \"def\"\n",
    "my_obj"
   ]
  },
  {
   "cell_type": "code",
   "execution_count": null,
   "id": "0379d512baed2ba5",
   "metadata": {},
   "outputs": [],
   "source": [
    "class DynamicAttributes:\n",
    "    def __getattr__(self, item):\n",
    "        return item"
   ]
  },
  {
   "cell_type": "code",
   "execution_count": null,
   "id": "def88db60728cae7",
   "metadata": {},
   "outputs": [],
   "source": [
    "my_obj = DynamicAttributes()\n",
    "my_obj.foo"
   ]
  },
  {
   "cell_type": "code",
   "execution_count": null,
   "id": "4adb7304d0b7c847",
   "metadata": {},
   "outputs": [],
   "source": [
    "my_obj.foo = 123\n",
    "my_obj.foo"
   ]
  },
  {
   "cell_type": "code",
   "execution_count": null,
   "id": "272243cf0b0d7482",
   "metadata": {},
   "outputs": [],
   "source": [
    "class Identity(DynamicAttributes):\n",
    "    def __setattr__(self, key, value):\n",
    "        print(f\"Cannot change value of {key}.\")"
   ]
  },
  {
   "cell_type": "code",
   "execution_count": null,
   "id": "158f3f9a63c2e692",
   "metadata": {},
   "outputs": [],
   "source": [
    "my_obj = Identity()\n",
    "my_obj.foo"
   ]
  },
  {
   "cell_type": "code",
   "execution_count": null,
   "id": "6d734ab6fdd064aa",
   "metadata": {
    "lines_to_next_cell": 2
   },
   "outputs": [],
   "source": [
    "my_obj.foo = \"Hello!\"\n",
    "my_obj.foo"
   ]
  },
  {
   "cell_type": "markdown",
   "id": "d747f7d18704258d",
   "metadata": {
    "lang": "de",
    "lines_to_next_cell": 2,
    "slideshow": {
     "slide_type": "subslide"
    }
   },
   "source": [
    "\n",
    "## Mini-Workshop \"Dynamische Attribute\"\n",
    "\n",
    "Schreiben Sie eine Klasse `AttributeLen`, für die jeder Attributzugriff die Länge des\n",
    "Attributnamens zurückgibt."
   ]
  },
  {
   "cell_type": "code",
   "execution_count": null,
   "id": "b46614d3685a9348",
   "metadata": {},
   "outputs": [],
   "source": [
    "class AttributeLen:\n",
    "    def __getattr__(self, item):\n",
    "        return len(item)"
   ]
  },
  {
   "cell_type": "code",
   "execution_count": null,
   "id": "9ba9fc8685911308",
   "metadata": {
    "tags": [
     "keep"
    ]
   },
   "outputs": [],
   "source": [
    "my_obj = AttributeLen()"
   ]
  },
  {
   "cell_type": "code",
   "execution_count": null,
   "id": "72bcd83f3cadb64b",
   "metadata": {
    "tags": [
     "keep"
    ]
   },
   "outputs": [],
   "source": [
    "assert my_obj.foo == 3"
   ]
  },
  {
   "cell_type": "code",
   "execution_count": null,
   "id": "d74419226e9126df",
   "metadata": {
    "tags": [
     "keep"
    ]
   },
   "outputs": [],
   "source": [
    "assert my_obj.a_very_long_attribute == 21"
   ]
  },
  {
   "cell_type": "code",
   "execution_count": null,
   "id": "dba84fc46b243cf2",
   "metadata": {},
   "outputs": [],
   "source": [
    "class DynamicItems:\n",
    "    def __getitem__(self, item):\n",
    "        return item"
   ]
  },
  {
   "cell_type": "code",
   "execution_count": null,
   "id": "f119a16d9d8ec4ca",
   "metadata": {
    "lines_to_next_cell": 2
   },
   "outputs": [],
   "source": [
    "my_obj = DynamicItems()\n",
    "my_obj[\"foo\"]"
   ]
  },
  {
   "cell_type": "code",
   "execution_count": null,
   "id": "e9fafd7b417ada34",
   "metadata": {
    "lines_to_next_cell": 2
   },
   "outputs": [],
   "source": [
    "# my_obj[\"foo\"] = \"123\"\n",
    "# my_obj"
   ]
  },
  {
   "cell_type": "code",
   "execution_count": null,
   "id": "9aec19f2ad92e1d4",
   "metadata": {},
   "outputs": [],
   "source": [
    "class DynamicItems:\n",
    "    def __getitem__(self, item):\n",
    "        return item\n",
    "\n",
    "    def __setitem__(self, item, new_value):\n",
    "        print(\"That's not possible!\")"
   ]
  },
  {
   "cell_type": "code",
   "execution_count": null,
   "id": "567dd610b80ecb93",
   "metadata": {
    "lines_to_next_cell": 2
   },
   "outputs": [],
   "source": [
    "my_obj = DynamicItems()\n",
    "my_obj[\"foo\"]"
   ]
  },
  {
   "cell_type": "code",
   "execution_count": null,
   "id": "2a1846db28ca5f8a",
   "metadata": {},
   "outputs": [],
   "source": [
    "# my_obj[\"foo\"] = \"123\"\n",
    "# my_obj"
   ]
  },
  {
   "cell_type": "markdown",
   "id": "363e0b6d62fca00d",
   "metadata": {
    "lang": "de",
    "lines_to_next_cell": 2,
    "slideshow": {
     "slide_type": "subslide"
    }
   },
   "source": [
    "\n",
    "## Mini-Workshop \"Bunch\"\n",
    "\n",
    "Als Bunch wird manchmal eine Klasse bezeichnet, für deren Objekte der Zugriff auf\n",
    "Attribute und String-Indizes die gleichen Werte liefert, also\n",
    "\n",
    "```\n",
    ">>> my_obj.foo = 42\n",
    ">>> my_obj.foo\n",
    "42\n",
    ">>> my_obj[\"foo\"]\n",
    "42\n",
    ">>> my_obj[\"bar\"] = 123\n",
    ">>> my_obj.bar\n",
    "123\n",
    ">>> my_obj[\"bar\"]\n",
    "123\n",
    "```\n",
    "\n",
    "Implementieren Sie eine Klasse `Bunch`, die dieses Verhalten realisiert."
   ]
  },
  {
   "cell_type": "code",
   "execution_count": null,
   "id": "2ac86a484e3ee72f",
   "metadata": {},
   "outputs": [],
   "source": [
    "class Bunch:\n",
    "    def __getitem__(self, item):\n",
    "        return self.__dict__[item]\n",
    "\n",
    "    def __setitem__(self, item, new_value):\n",
    "        self.__dict__[item] = new_value"
   ]
  },
  {
   "cell_type": "code",
   "execution_count": null,
   "id": "da2470098d217cfb",
   "metadata": {
    "tags": [
     "keep"
    ]
   },
   "outputs": [],
   "source": [
    "my_obj = Bunch()"
   ]
  },
  {
   "cell_type": "code",
   "execution_count": null,
   "id": "e959873b5296070a",
   "metadata": {
    "tags": [
     "keep"
    ]
   },
   "outputs": [],
   "source": [
    "my_obj.foo = 42"
   ]
  },
  {
   "cell_type": "code",
   "execution_count": null,
   "id": "f6d6030dc4d85925",
   "metadata": {
    "tags": [
     "keep"
    ]
   },
   "outputs": [],
   "source": [
    "assert my_obj.foo == 42"
   ]
  },
  {
   "cell_type": "code",
   "execution_count": null,
   "id": "dae5cee8c029f330",
   "metadata": {
    "tags": [
     "keep"
    ]
   },
   "outputs": [],
   "source": [
    "assert my_obj[\"foo\"] == 42"
   ]
  },
  {
   "cell_type": "code",
   "execution_count": null,
   "id": "b1cf358b279efdd3",
   "metadata": {
    "tags": [
     "keep"
    ]
   },
   "outputs": [],
   "source": [
    "my_obj[\"bar\"] = 123"
   ]
  },
  {
   "cell_type": "code",
   "execution_count": null,
   "id": "72918c0bb406e96d",
   "metadata": {
    "tags": [
     "keep"
    ]
   },
   "outputs": [],
   "source": [
    "assert my_obj.bar == 123"
   ]
  },
  {
   "cell_type": "code",
   "execution_count": null,
   "id": "19bbcb7b794e5719",
   "metadata": {
    "tags": [
     "keep"
    ]
   },
   "outputs": [],
   "source": [
    "assert my_obj[\"bar\"] == 123"
   ]
  },
  {
   "cell_type": "code",
   "execution_count": null,
   "id": "e5bc737abb527691",
   "metadata": {},
   "outputs": [],
   "source": []
  }
 ],
 "metadata": {},
 "nbformat": 4,
 "nbformat_minor": 5
}
