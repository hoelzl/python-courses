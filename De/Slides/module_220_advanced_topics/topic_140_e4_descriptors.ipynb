{
 "cells": [
  {
   "cell_type": "markdown",
   "id": "d20ae067f52614d1",
   "metadata": {
    "lang": "de",
    "slideshow": {
     "slide_type": "slide"
    }
   },
   "source": [
    "<img src=\"../../img/python-logo-no-text.svg\"\n",
    "     style=\"display:block;margin:auto;width:10%\"/>\n",
    "<br>\n",
    "<div style=\"text-align:center; font-size:200%;\">\n",
    " <b>Attributzugriff und Deskriptoren</b>\n",
    "</div>\n",
    "<br/>\n",
    "<div style=\"text-align:center;\">Dr. Matthias Hölzl</div>\n",
    "<br/>\n",
    "<div style=\"text-align:center;\">module_220_advanced_topics/topic_140_e4_descriptors</div>"
   ]
  },
  {
   "cell_type": "markdown",
   "id": "b24590f2d47bc1a4",
   "metadata": {
    "lang": "de",
    "slideshow": {
     "slide_type": "slide"
    }
   },
   "source": [
    "\n",
    " ## Für Experten: Zugriff auf Attribute\n",
    "\n",
    " Python ermöglicht es uns als Programmierer, an mehreren Stellen in den\n",
    " Zugriff auf Attribute einzugreifen und das Verhalten zu modifizieren."
   ]
  },
  {
   "cell_type": "code",
   "execution_count": null,
   "id": "ae8c9738bedad7a3",
   "metadata": {},
   "outputs": [],
   "source": [
    "class FortyTwo:\n",
    "    def __get__(self, instance, objtype=None):\n",
    "        return 42"
   ]
  },
  {
   "cell_type": "code",
   "execution_count": null,
   "id": "fba0a13d45b45f96",
   "metadata": {},
   "outputs": [],
   "source": [
    "class MyClass:\n",
    "    question = \"???\"\n",
    "    answer = FortyTwo()\n",
    "\n",
    "    def answer_question(self):\n",
    "        print(f\"The answer to {self.question} is {self.answer}.\")"
   ]
  },
  {
   "cell_type": "code",
   "execution_count": null,
   "id": "43a354d894bc3618",
   "metadata": {},
   "outputs": [],
   "source": [
    "my_obj = MyClass()\n",
    "my_obj.answer_question()"
   ]
  },
  {
   "cell_type": "code",
   "execution_count": null,
   "id": "9f8a056b3c86b7b4",
   "metadata": {},
   "outputs": [],
   "source": [
    "my_obj.question = \"the ultimate question of life, the universe and everything\"\n",
    "my_obj.answer_question()"
   ]
  },
  {
   "cell_type": "code",
   "execution_count": null,
   "id": "890ff575a605059e",
   "metadata": {},
   "outputs": [],
   "source": [
    "my_obj.answer = \"unknown\"\n",
    "my_obj.answer_question()"
   ]
  },
  {
   "cell_type": "code",
   "execution_count": null,
   "id": "efeab2f9badd647f",
   "metadata": {},
   "outputs": [],
   "source": [
    "# noinspection PyRedeclaration\n",
    "class FortyTwo:\n",
    "    def __get__(self, instance, objtype=None):\n",
    "        return 42\n",
    "\n",
    "    def __set__(self, instance, value):\n",
    "        print(\"Don't try to change the facts!\")"
   ]
  },
  {
   "cell_type": "code",
   "execution_count": null,
   "id": "57e543307104ba9c",
   "metadata": {},
   "outputs": [],
   "source": [
    "class MyClass:\n",
    "    question = \"???\"\n",
    "    answer = FortyTwo()\n",
    "\n",
    "    def answer_question(self):\n",
    "        print(f\"The answer to {self.question} is {self.answer}.\")"
   ]
  },
  {
   "cell_type": "code",
   "execution_count": null,
   "id": "c1a8ac6a51d02eed",
   "metadata": {},
   "outputs": [],
   "source": [
    "my_obj = MyClass()\n",
    "my_obj.answer_question()"
   ]
  },
  {
   "cell_type": "code",
   "execution_count": null,
   "id": "fd6b91665d516925",
   "metadata": {},
   "outputs": [],
   "source": [
    "my_obj.question = \"the ultimate question of life, the universe and everything\"\n",
    "my_obj.answer_question()"
   ]
  },
  {
   "cell_type": "code",
   "execution_count": null,
   "id": "cb1dc07ef5c9d799",
   "metadata": {},
   "outputs": [],
   "source": [
    "my_obj.answer = \"unknown\"\n",
    "my_obj.answer_question()"
   ]
  },
  {
   "cell_type": "markdown",
   "id": "0c8bde16b0090e39",
   "metadata": {
    "lang": "de"
   },
   "source": [
    "\n",
    " ## Attribute von Klassen\n",
    "\n",
    " Beim Zugriff auf `C.name` verfährt Python folgendermaßen:\n",
    "\n",
    " - Falls `name` ein Key in `C.__dict__` ist:\n",
    "   - `v = C.__dict__['name']`\n",
    "   - Falls `v` ein Deskriptor ist (i.e., `type(v).__get__` definiert ist:\n",
    "     - Resultat ist `type(v).__get__(v, None, C)`\n",
    "   - Falls `v` kein Deskriptor ist:\n",
    "     - Resultat ist `v`\n",
    " - Falls `name` kein Key in `C.__dict__` ist:\n",
    "   - Die Baisklassen von `C` werden in Method Resolution Order durchlaufen und\n",
    "     diese Verfahren wird für jede Klasse ausgeführt"
   ]
  },
  {
   "cell_type": "markdown",
   "id": "ce4380a12548c53c",
   "metadata": {
    "lang": "de",
    "slideshow": {
     "slide_type": "subslide"
    }
   },
   "source": [
    "\n",
    " ## Attribute von Instanzen\n",
    "\n",
    " Beim Zugriff auf `object.name` verfährt Python folgendermaßen:\n",
    "\n",
    " - Falls `name` ein Overriding Descriptor `v` in `C` oder einer der\n",
    "   Basisklassen von `C` ist (`type(v)` hat Methoden `__get__()` und\n",
    "   `__set__()`):\n",
    "   - Das Resultat ist `type(v).__get__(v, object, C)`\n",
    " - Andernfalls, falls `name` ein Schlüssel in `object.__dict__` ist:\n",
    "   - Das Resultat ist `object.__dict__['name']`\n",
    " - Andernfalls delegiert `object.name` die Suche an die Klasse, wie oben\n",
    "   beschrieben\n",
    "   - Falls dadurch ein Deskriptor `v` gefunden wird, so ist das Ergebnis\n",
    "     `type(v).__get__(v, object, C)`\n",
    "   - Wenn ein Wert `v` gefunden wird, der kein Deskriptor ist, dann wird `v`\n",
    "     zurückgegeben\n",
    " - Wenn kein Wert gefunden wird und `C.__getattr__` definiert ist, dann wird\n",
    "   `C.__getattr__(object, 'name')` aufgerufen um den Wert zu erhalten\n",
    " - Andernfalls wird eine `AttributeError` Exception ausgelöst\n",
    "\n",
    " Dieser Prozess kann durch die `__getattribute__` Methode überschrieben werden."
   ]
  },
  {
   "cell_type": "code",
   "execution_count": null,
   "id": "8d07fa89b1b765f1",
   "metadata": {
    "slideshow": {
     "slide_type": "subslide"
    }
   },
   "outputs": [],
   "source": [
    "class LoggingDescriptor:\n",
    "    def __init__(self, name):\n",
    "        self.name = name\n",
    "\n",
    "    def __get__(self, instance, owner):\n",
    "        print(f\"__get__({self}, {instance}, {owner})\")\n",
    "        print(f\"  __dict__ == {instance.__dict__}\")\n",
    "        return instance.__dict__.get(self.name, \"nothing\")"
   ]
  },
  {
   "cell_type": "code",
   "execution_count": null,
   "id": "a4fc9a9f9dc01d7b",
   "metadata": {},
   "outputs": [],
   "source": [
    "class OverridingLoggingDescriptor(LoggingDescriptor):\n",
    "    def __set__(self, instance, value):\n",
    "        print(f\"__set__({self}, {instance}, {value}\")\n",
    "        instance.__dict__[self.name] = value"
   ]
  },
  {
   "cell_type": "code",
   "execution_count": null,
   "id": "d31f6eced5845b2c",
   "metadata": {},
   "outputs": [],
   "source": [
    "class YourClass:\n",
    "    f = LoggingDescriptor(\"f\")\n",
    "    g = OverridingLoggingDescriptor(\"g\")"
   ]
  },
  {
   "cell_type": "code",
   "execution_count": null,
   "id": "1cc8ba8db77b8e50",
   "metadata": {
    "slideshow": {
     "slide_type": "subslide"
    }
   },
   "outputs": [],
   "source": [
    "yc = YourClass()\n",
    "print(yc.f, yc.g)"
   ]
  },
  {
   "cell_type": "code",
   "execution_count": null,
   "id": "5ffaae68b3c7e142",
   "metadata": {},
   "outputs": [],
   "source": [
    "yc.f = 234\n",
    "yc.g = 345"
   ]
  },
  {
   "cell_type": "code",
   "execution_count": null,
   "id": "44ddccacd10a52bf",
   "metadata": {},
   "outputs": [],
   "source": [
    "print(yc.f, yc.g)"
   ]
  },
  {
   "cell_type": "code",
   "execution_count": null,
   "id": "a240658a1e86338d",
   "metadata": {},
   "outputs": [],
   "source": [
    "class MyClass:\n",
    "    def g(self, x):\n",
    "        print(self, x)\n",
    "\n",
    "\n",
    "def f(x, y):\n",
    "    print(x, y)"
   ]
  },
  {
   "cell_type": "code",
   "execution_count": null,
   "id": "57b01d1646f9e5c5",
   "metadata": {},
   "outputs": [],
   "source": [
    "mc = MyClass()\n",
    "print(mc.__class__)"
   ]
  },
  {
   "cell_type": "code",
   "execution_count": null,
   "id": "9af7f51a4a0304ab",
   "metadata": {},
   "outputs": [],
   "source": [
    "print(MyClass.g)\n",
    "print(mc.g.__qualname__)\n",
    "print(mc.g.__get__)"
   ]
  },
  {
   "cell_type": "code",
   "execution_count": null,
   "id": "bf6365e360df49a9",
   "metadata": {},
   "outputs": [],
   "source": [
    "print(f.__get__)"
   ]
  },
  {
   "cell_type": "code",
   "execution_count": null,
   "id": "743e62e837254faa",
   "metadata": {},
   "outputs": [],
   "source": [
    "bound_f = f.__get__(mc, MyClass)\n",
    "bound_g = mc.g\n",
    "print(bound_f)\n",
    "print(bound_g)"
   ]
  },
  {
   "cell_type": "code",
   "execution_count": null,
   "id": "ec74063a00afccc8",
   "metadata": {},
   "outputs": [],
   "source": [
    "bound_f(3)\n",
    "bound_g(3)\n",
    "mc.g(3)"
   ]
  },
  {
   "cell_type": "code",
   "execution_count": null,
   "id": "573c7ce5d0bd63eb",
   "metadata": {},
   "outputs": [],
   "source": [
    "MyClass.f = f\n",
    "mc.f(3)\n",
    "mc.g(3)"
   ]
  }
 ],
 "metadata": {
  "kernelspec": {
   "display_name": "Python 3 (ipykernel)",
   "language": "python",
   "name": "python3"
  }
 },
 "nbformat": 4,
 "nbformat_minor": 5
}
