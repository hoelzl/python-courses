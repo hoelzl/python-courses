{
 "cells": [
  {
   "cell_type": "code",
   "execution_count": null,
   "id": "7018afbbd7641532",
   "metadata": {},
   "outputs": [],
   "source": [
    "print(\"You have successfully read the configuration file.\")\n",
    "print(\"Beware of hackers changing this file!\")"
   ]
  }
 ],
 "metadata": {},
 "nbformat": 4,
 "nbformat_minor": 5
}
