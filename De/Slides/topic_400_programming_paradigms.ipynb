{
 "cells": [
  {
   "cell_type": "markdown",
   "id": "7c248503",
   "metadata": {
    "lang": "de",
    "slideshow": {
     "slide_type": "slide"
    }
   },
   "source": [
    "<img src=\"img/python-logo-notext.svg\"\n",
    "     style=\"display:block;margin:auto;width:10%\"/>\n",
    "<br>\n",
    "<div style=\"text-align:center; font-size:200%;\"><b>Programmierparadigmen</b></div>\n",
    "<br/>\n",
    "<div style=\"text-align:center;\">Dr. Matthias Hölzl</div>"
   ]
  },
  {
   "cell_type": "markdown",
   "id": "79d83a33",
   "metadata": {
    "lang": "de",
    "slideshow": {
     "slide_type": "slide"
    }
   },
   "source": [
    "# Programmierparadigmen\n",
    "- Prozedural\n",
    "- Funktional (?)\n",
    "- Objektorientiert"
   ]
  },
  {
   "cell_type": "code",
   "execution_count": null,
   "id": "32720351",
   "metadata": {
    "slideshow": {
     "slide_type": "slide"
    }
   },
   "outputs": [],
   "source": [
    "def add(x, y):\n",
    "    return x + y"
   ]
  },
  {
   "cell_type": "code",
   "execution_count": null,
   "id": "d251b4d7",
   "metadata": {},
   "outputs": [],
   "source": [
    "add(2, 3)"
   ]
  },
  {
   "cell_type": "code",
   "execution_count": null,
   "id": "090284f7",
   "metadata": {},
   "outputs": [],
   "source": [
    "accu = 0"
   ]
  },
  {
   "cell_type": "code",
   "execution_count": null,
   "id": "55c8964d",
   "metadata": {
    "slideshow": {
     "slide_type": "slide"
    }
   },
   "outputs": [],
   "source": [
    "def inc(x):\n",
    "    global accu\n",
    "    accu += x"
   ]
  },
  {
   "cell_type": "code",
   "execution_count": null,
   "id": "f53ba537",
   "metadata": {},
   "outputs": [],
   "source": [
    "def disp():\n",
    "    print(f\"Accumulator is {accu}.\")"
   ]
  },
  {
   "cell_type": "code",
   "execution_count": null,
   "id": "c45e0108",
   "metadata": {},
   "outputs": [],
   "source": [
    "disp()\n",
    "inc(2)\n",
    "inc(3)\n",
    "disp()"
   ]
  },
  {
   "cell_type": "code",
   "execution_count": null,
   "id": "80bf279d",
   "metadata": {
    "slideshow": {
     "slide_type": "slide"
    }
   },
   "outputs": [],
   "source": [
    "def ntimes(n, f, x):\n",
    "    if n <= 0:\n",
    "        return x\n",
    "    else:\n",
    "        return ntimes(n - 1, f, f(x))"
   ]
  },
  {
   "cell_type": "code",
   "execution_count": null,
   "id": "f64425e8",
   "metadata": {},
   "outputs": [],
   "source": [
    "ntimes(10, lambda x: x * 2, 1)"
   ]
  },
  {
   "cell_type": "code",
   "execution_count": null,
   "id": "c0e42927",
   "metadata": {
    "slideshow": {
     "slide_type": "slide"
    }
   },
   "outputs": [],
   "source": [
    "from pathlib import Path\n",
    "\n",
    "path = Path(\"./some_file.txt\")"
   ]
  },
  {
   "cell_type": "code",
   "execution_count": null,
   "id": "196fa2b7",
   "metadata": {},
   "outputs": [],
   "source": [
    "path.with_suffix(\".md\").absolute()"
   ]
  }
 ],
 "metadata": {
  "kernelspec": {
   "display_name": "Python 3 (ipykernel)",
   "language": "python",
   "name": "python3"
  }
 },
 "nbformat": 4,
 "nbformat_minor": 5
}
