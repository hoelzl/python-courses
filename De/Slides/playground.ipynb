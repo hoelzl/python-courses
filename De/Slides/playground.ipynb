{
 "cells": [
  {
   "cell_type": "markdown",
   "id": "986bc0dff50d5b30",
   "metadata": {
    "lang": "de"
   },
   "source": [
    "# Playground\n",
    "\n",
    "Ein leeres Notebook für Experimente und kleine Beispiele."
   ]
  },
  {
   "cell_type": "code",
   "execution_count": 1,
   "id": "6b4e03423667dbb7",
   "metadata": {
    "tags": [
     "keep"
    ]
   },
   "outputs": [
    {
     "data": {
      "text/plain": [
       "[1, 2, 3, 4, 5]"
      ]
     },
     "execution_count": 1,
     "metadata": {},
     "output_type": "execute_result"
    }
   ],
   "source": [
    "[1, 2, 3] + [4, 5]"
   ]
  },
  {
   "cell_type": "code",
   "execution_count": 2,
   "id": "d26fd21b",
   "metadata": {},
   "outputs": [],
   "source": [
    "import numpy as np"
   ]
  },
  {
   "cell_type": "code",
   "execution_count": 3,
   "id": "38014aa2",
   "metadata": {},
   "outputs": [
    {
     "data": {
      "text/plain": [
       "array([3, 5, 7])"
      ]
     },
     "execution_count": 3,
     "metadata": {},
     "output_type": "execute_result"
    }
   ],
   "source": [
    "np.array([1, 2, 3]) + np.array([2, 3, 4])"
   ]
  },
  {
   "cell_type": "code",
   "execution_count": 4,
   "id": "c96ef8cb",
   "metadata": {},
   "outputs": [],
   "source": [
    "a1 = np.array([1, 2, 3])\n",
    "a2 = np.array([2, 3, 4])"
   ]
  },
  {
   "cell_type": "code",
   "execution_count": 5,
   "id": "f1a56df1",
   "metadata": {},
   "outputs": [
    {
     "data": {
      "text/plain": [
       "array([3, 5, 7])"
      ]
     },
     "execution_count": 5,
     "metadata": {},
     "output_type": "execute_result"
    }
   ],
   "source": [
    "a1 + a2"
   ]
  },
  {
   "cell_type": "code",
   "execution_count": 6,
   "id": "c628d965",
   "metadata": {},
   "outputs": [
    {
     "data": {
      "text/plain": [
       "array([ 2,  6, 12])"
      ]
     },
     "execution_count": 6,
     "metadata": {},
     "output_type": "execute_result"
    }
   ],
   "source": [
    "a1 * a2"
   ]
  },
  {
   "cell_type": "code",
   "execution_count": 7,
   "id": "579fecb7",
   "metadata": {},
   "outputs": [
    {
     "data": {
      "text/plain": [
       "20"
      ]
     },
     "execution_count": 7,
     "metadata": {},
     "output_type": "execute_result"
    }
   ],
   "source": [
    "a1 @ a2.T"
   ]
  },
  {
   "cell_type": "code",
   "execution_count": 8,
   "id": "b7dc2a5a",
   "metadata": {},
   "outputs": [
    {
     "data": {
      "text/plain": [
       "20"
      ]
     },
     "execution_count": 8,
     "metadata": {},
     "output_type": "execute_result"
    }
   ],
   "source": [
    "a1.T @ a2"
   ]
  },
  {
   "cell_type": "code",
   "execution_count": 9,
   "id": "1238f042",
   "metadata": {},
   "outputs": [],
   "source": [
    "m1 = np.array([[1, 2, 3], [2, 3, 4]])"
   ]
  },
  {
   "cell_type": "code",
   "execution_count": 10,
   "id": "2f24da1b",
   "metadata": {},
   "outputs": [
    {
     "data": {
      "text/plain": [
       "array([[ 1,  4,  9],\n",
       "       [ 2,  6, 12]])"
      ]
     },
     "execution_count": 10,
     "metadata": {},
     "output_type": "execute_result"
    }
   ],
   "source": [
    "m1 * a1"
   ]
  },
  {
   "cell_type": "code",
   "execution_count": 11,
   "id": "f34155ef",
   "metadata": {},
   "outputs": [
    {
     "data": {
      "text/plain": [
       "[1, 2, 3]"
      ]
     },
     "execution_count": 11,
     "metadata": {},
     "output_type": "execute_result"
    }
   ],
   "source": [
    "[1, 2, 3].copy()"
   ]
  },
  {
   "cell_type": "code",
   "execution_count": 13,
   "id": "09c9f833",
   "metadata": {},
   "outputs": [
    {
     "name": "stdout",
     "output_type": "stream",
     "text": [
      "[1, 2, 3] [1, 2, 3, 4]\n"
     ]
    }
   ],
   "source": [
    "my_list = [1, 2, 3]\n",
    "your_list = my_list.copy()\n",
    "your_list.append(4)\n",
    "print(my_list, your_list)"
   ]
  },
  {
   "cell_type": "code",
   "execution_count": 14,
   "id": "63ce3c9c",
   "metadata": {},
   "outputs": [],
   "source": [
    "list_of_lists = [[1, 2, 3], [2, 3, 4]]\n",
    "list_copy = list_of_lists.copy()"
   ]
  },
  {
   "cell_type": "code",
   "execution_count": null,
   "id": "3f12093c",
   "metadata": {},
   "outputs": [],
   "source": []
  },
  {
   "cell_type": "code",
   "execution_count": null,
   "id": "13fdb70a",
   "metadata": {},
   "outputs": [],
   "source": []
  },
  {
   "cell_type": "code",
   "execution_count": null,
   "id": "c723f8aa",
   "metadata": {},
   "outputs": [],
   "source": []
  },
  {
   "cell_type": "code",
   "execution_count": 20,
   "id": "5b61a767",
   "metadata": {},
   "outputs": [],
   "source": [
    "class Kfz:\n",
    "    def __init__(self, hersteller):\n",
    "        self.hersteller = hersteller\n",
    "        \n",
    "    def to_string(self, name=\"<unbenannt>\"):\n",
    "        return f\"Der Hersteller vom Auto {name} ist {self.hersteller}.\""
   ]
  },
  {
   "cell_type": "code",
   "execution_count": 22,
   "id": "7badefd5",
   "metadata": {},
   "outputs": [
    {
     "data": {
      "text/plain": [
       "'Der Hersteller vom Auto kfz ist BMW.'"
      ]
     },
     "execution_count": 22,
     "metadata": {},
     "output_type": "execute_result"
    }
   ],
   "source": [
    "kfz = Kfz(\"BMW\")\n",
    "kfz.to_string(\"kfz\")"
   ]
  },
  {
   "cell_type": "code",
   "execution_count": 23,
   "id": "c21a9067",
   "metadata": {},
   "outputs": [],
   "source": [
    "def print_kfz(kfz: Kfz):\n",
    "    print(kfz.to_string())"
   ]
  },
  {
   "cell_type": "code",
   "execution_count": null,
   "id": "1814a87c",
   "metadata": {},
   "outputs": [],
   "source": []
  }
 ],
 "metadata": {
  "kernelspec": {
   "display_name": "Python 3 (ipykernel)",
   "language": "python",
   "name": "python3"
  },
  "language_info": {
   "codemirror_mode": {
    "name": "ipython",
    "version": 3
   },
   "file_extension": ".py",
   "mimetype": "text/x-python",
   "name": "python",
   "nbconvert_exporter": "python",
   "pygments_lexer": "ipython3",
   "version": "3.10.5"
  }
 },
 "nbformat": 4,
 "nbformat_minor": 5
}
