{
 "cells": [
  {
   "cell_type": "markdown",
   "id": "e68656f1",
   "metadata": {
    "lang": "de",
    "slideshow": {
     "slide_type": "slide"
    }
   },
   "source": [
    "<img src=\"img/python-logo-notext.svg\"\n",
    "     style=\"display:block;margin:auto;width:10%\"/>\n",
    "<br>\n",
    "<div style=\"text-align:center; font-size:200%;\"><b>Multiprocessing (Part 1)</b></div>\n",
    "<br/>\n",
    "<div style=\"text-align:center;\">Dr. Matthias Hölzl</div>"
   ]
  },
  {
   "cell_type": "markdown",
   "id": "6e00f384",
   "metadata": {
    "lang": "de",
    "slideshow": {
     "slide_type": "slide"
    }
   },
   "source": [
    "\n",
    "# Multiprocessing\n",
    "\n",
    "Beim Multiprocessing werden mehrere Python-Interpreter parallel ausgeführt, so dass\n",
    "mehrere Prozessor-Kerne genutzt werden können, da die verschiedenen Prozesse nicht\n",
    "durch ein GIL synchronisiert werden.\n",
    "\n",
    "Allerdings wird die verwendung von gemeinsamen Daten zwischen den einzelnen Prozessen\n",
    "schwieriger (und potenziell ein Performance-Bottleneck)."
   ]
  },
  {
   "cell_type": "markdown",
   "id": "d0720ae1",
   "metadata": {
    "lang": "de",
    "slideshow": {
     "slide_type": "slide"
    }
   },
   "source": [
    "\n",
    "Beim Multiprocessing gibt es einige Fallstricke; die [Programming\n",
    "Guidelines](https://docs.python.org/3/library/multiprocessing.html#programming-guidelines)\n",
    "in der Python Dokumentation sind hilfreich um sie zu vermeiden."
   ]
  },
  {
   "cell_type": "code",
   "execution_count": null,
   "id": "2f1cde5f",
   "metadata": {},
   "outputs": [],
   "source": [
    "from os import getpid\n",
    "from multiprocessing import Process\n",
    "\n",
    "\n",
    "def print_message(task_id):\n",
    "    print(f\"Hello, from task {task_id}. PID is {getpid()}.\", flush=True)"
   ]
  },
  {
   "cell_type": "code",
   "execution_count": null,
   "id": "0e2ce885",
   "metadata": {},
   "outputs": [],
   "source": [
    "from threading import Thread\n",
    "\n",
    "\n",
    "def run_threads():\n",
    "    threads = [Thread(target=print_message, args=(i,)) for i in range(5)]\n",
    "    for thread in threads:\n",
    "        thread.start()\n",
    "    for thread in threads:\n",
    "        thread.join()"
   ]
  },
  {
   "cell_type": "code",
   "execution_count": null,
   "id": "759ee266",
   "metadata": {},
   "outputs": [],
   "source": [
    "if __name__ == \"__main__\":\n",
    "    run_threads()"
   ]
  },
  {
   "cell_type": "code",
   "execution_count": null,
   "id": "37bdc681",
   "metadata": {},
   "outputs": [],
   "source": [
    "def run_processes():\n",
    "    processes = [Process(target=print_message, args=(i,)) for i in range(5)]\n",
    "    for process in processes:\n",
    "        process.start()\n",
    "    for process in processes:\n",
    "        process.join()"
   ]
  },
  {
   "cell_type": "code",
   "execution_count": null,
   "id": "a5c47b34",
   "metadata": {},
   "outputs": [],
   "source": [
    "if __name__ == \"__main__\":\n",
    "    run_processes()"
   ]
  },
  {
   "cell_type": "code",
   "execution_count": null,
   "id": "f85b7ab8",
   "metadata": {},
   "outputs": [],
   "source": []
  }
 ],
 "metadata": {
  "kernelspec": {
   "display_name": "Python 3 (ipykernel)",
   "language": "python",
   "name": "python3"
  }
 },
 "nbformat": 4,
 "nbformat_minor": 5
}
