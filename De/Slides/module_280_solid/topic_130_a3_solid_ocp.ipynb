{
 "cells": [
  {
   "cell_type": "markdown",
   "id": "67a4e1d90ffc850d",
   "metadata": {
    "lang": "de",
    "slideshow": {
     "slide_type": "slide"
    }
   },
   "source": [
    "<img src=\"../../img/python-logo-no-text.svg\"\n",
    "     style=\"display:block;margin:auto;width:10%\"/>\n",
    "<br>\n",
    "<div style=\"text-align:center; font-size:200%;\">\n",
    "  <b>SOLID: Open-Closed Principle</b>\n",
    "</div>\n",
    "<br/>\n",
    "<div style=\"text-align:center;\">Dr. Matthias Hölzl</div>\n",
    "<br/>\n",
    "<div style=\"text-align:center;\">module_280_solid/topic_130_a3_solid_ocp</div>"
   ]
  },
  {
   "cell_type": "markdown",
   "id": "2b4442963fa8f971",
   "metadata": {
    "lang": "de",
    "slideshow": {
     "slide_type": "slide"
    }
   },
   "source": [
    "\n",
    "# SOLID: Open-Closed Principle"
   ]
  }
 ],
 "metadata": {},
 "nbformat": 4,
 "nbformat_minor": 5
}
