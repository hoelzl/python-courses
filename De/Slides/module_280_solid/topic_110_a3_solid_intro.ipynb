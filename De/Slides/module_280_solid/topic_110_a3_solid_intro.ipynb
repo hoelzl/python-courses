{
 "cells": [
  {
   "cell_type": "markdown",
   "id": "685be299aa5b07ce",
   "metadata": {
    "lang": "de",
    "slideshow": {
     "slide_type": "slide"
    }
   },
   "source": [
    "<img src=\"../../img/python-logo-no-text.svg\"\n",
    "     style=\"display:block;margin:auto;width:10%\"/>\n",
    "<br>\n",
    "<div style=\"text-align:center; font-size:200%;\">\n",
    "  <b>SOLID: Einführung</b>\n",
    "</div>\n",
    "<br/>\n",
    "<div style=\"text-align:center;\">Dr. Matthias Hölzl</div>\n",
    "<br/>\n",
    "<div style=\"text-align:center;\">module_280_solid/topic_110_a3_solid_intro</div>"
   ]
  },
  {
   "cell_type": "markdown",
   "id": "ca7ad01e87ea7bc1",
   "metadata": {
    "lang": "de",
    "slideshow": {
     "slide_type": "slide"
    }
   },
   "source": [
    "\n",
    "# SOLID: Einführung\n",
    "\n",
    "Eine Sammlung von fünf Prinzipien/Leitlinien, zusammengestellt von Robert C.\n",
    "Martin (Uncle Bob)\n",
    "\n",
    "- Single-Responsibility-Prinzip (SRP)\n",
    "- Open/Closed-Prinzip (OCP)\n",
    "- Liskov-Substitutions-Prinzip (LSP)\n",
    "- Interface-Segregation-Prinzip (ISP)\n",
    "- Dependency-Inversion-Prinzip (DIP)"
   ]
  }
 ],
 "metadata": {},
 "nbformat": 4,
 "nbformat_minor": 5
}
