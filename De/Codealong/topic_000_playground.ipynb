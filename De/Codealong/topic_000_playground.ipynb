{
 "cells": [
  {
   "cell_type": "markdown",
   "id": "fc24d8d0",
   "metadata": {
    "lang": "de"
   },
   "source": [
    "# Playground\n",
    "\n",
    "Ein leeres Notebook für Experimente und kleine Beispiele."
   ]
  },
  {
   "cell_type": "code",
   "execution_count": null,
   "id": "ab5476c5",
   "metadata": {
    "tags": [
     "keep"
    ]
   },
   "outputs": [],
   "source": []
  }
 ],
 "metadata": {
  "kernelspec": {
   "display_name": "Python 3 (ipykernel)",
   "language": "python",
   "name": "python3"
  }
 },
 "nbformat": 4,
 "nbformat_minor": 5
}
