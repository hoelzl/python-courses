{
 "cells": [
  {
   "cell_type": "markdown",
   "id": "3b516a27",
   "metadata": {
    "lang": "de",
    "slideshow": {
     "slide_type": "slide"
    }
   },
   "source": [
    "<img src=\"img/python-logo-notext.svg\"\n",
    "     style=\"display:block;margin:auto;width:10%\"/>\n",
    "<br>\n",
    "<div style=\"text-align:center; font-size:200%;\"><b>Einführung in Python: Grundlagen Teil 3</b></div>\n",
    "<br/>\n",
    "<div style=\"text-align:center;\">Dr. Matthias Hölzl</div>"
   ]
  },
  {
   "cell_type": "markdown",
   "id": "bf664425",
   "metadata": {
    "lang": "de",
    "slideshow": {
     "slide_type": "slide"
    },
    "title": "\"slideshow\":"
   },
   "source": [
    "# Umwandlung in Strings\n",
    "\n",
    "Python bietet zwei Funktionen an, mit denen beliebige Werte in Strings umgewandelt\n",
    "werden können:\n",
    "\n",
    "- `repr` für eine \"programmnahe\" Darstellung (wie könnte der Wert im Programm erzeugt werden)\n",
    "- `str` für eine \"benutzerfreundliche\" Darstellung"
   ]
  },
  {
   "cell_type": "code",
   "execution_count": null,
   "id": "cea4fc21",
   "metadata": {},
   "outputs": [],
   "source": []
  },
  {
   "cell_type": "code",
   "execution_count": null,
   "id": "447b967c",
   "metadata": {},
   "outputs": [],
   "source": []
  },
  {
   "cell_type": "markdown",
   "id": "b5eafcf2",
   "metadata": {
    "lang": "de",
    "slideshow": {
     "slide_type": "subslide"
    },
    "title": "\"slideshow\":"
   },
   "source": [
    "Für manche Datentypen liefern `str` und `repr` den gleichen String zurück:"
   ]
  },
  {
   "cell_type": "code",
   "execution_count": null,
   "id": "fa30b412",
   "metadata": {},
   "outputs": [],
   "source": []
  },
  {
   "cell_type": "markdown",
   "id": "f03fcca1",
   "metadata": {
    "lang": "de",
    "slideshow": {
     "slide_type": "slide"
    }
   },
   "source": [
    "# Benutzerdefinierte Datentypen\n",
    "\n",
    "In Python können benutzerdefinierte Datentypen (Klassen) definiert werden:"
   ]
  },
  {
   "cell_type": "code",
   "execution_count": null,
   "id": "a5cea408",
   "metadata": {},
   "outputs": [],
   "source": []
  },
  {
   "cell_type": "markdown",
   "id": "266b46c0",
   "metadata": {
    "lang": "de"
   },
   "source": [
    "\n",
    "Klassennamen werden in Pascal-Case (d.h. groß und mit Großbuchstaben zur\n",
    "Trennung von Namensbestandteilen) geschrieben, z.B. `MyVerySpecialClass`."
   ]
  },
  {
   "cell_type": "markdown",
   "id": "a2b7a965",
   "metadata": {
    "lang": "de",
    "slideshow": {
     "slide_type": "subslide"
    }
   },
   "source": [
    "Instanzen von benutzerdefinierten Klassen werden erzeugt, indem man den\n",
    "Klassennamen als Funktion aufruft.  Manche der Python Operatoren und\n",
    "Funktionen können verwendet werden ohne, dass zusätzliche Implementierungsarbeit nötig ist:"
   ]
  },
  {
   "cell_type": "code",
   "execution_count": null,
   "id": "8355bedd",
   "metadata": {
    "slideshow": {
     "slide_type": "subslide"
    }
   },
   "outputs": [],
   "source": []
  },
  {
   "cell_type": "code",
   "execution_count": null,
   "id": "a7419092",
   "metadata": {},
   "outputs": [],
   "source": []
  },
  {
   "cell_type": "code",
   "execution_count": null,
   "id": "b8f45e33",
   "metadata": {},
   "outputs": [],
   "source": []
  },
  {
   "cell_type": "code",
   "execution_count": null,
   "id": "7a76eb24",
   "metadata": {},
   "outputs": [],
   "source": []
  },
  {
   "cell_type": "markdown",
   "id": "d618181c",
   "metadata": {
    "lang": "de",
    "slideshow": {
     "slide_type": "subslide"
    }
   },
   "source": [
    "\n",
    "Ähnlich wie Dictionaries neue Einträge zugewiesen werden können, kann man\n",
    "benutzerdefinierten Datentypen neue *Attribute* zuweisen, allerdings verwendet\n",
    "man die `.`-Notation statt der Indexing Notation `[]`:"
   ]
  },
  {
   "cell_type": "code",
   "execution_count": null,
   "id": "5af91ce6",
   "metadata": {},
   "outputs": [],
   "source": []
  },
  {
   "cell_type": "code",
   "execution_count": null,
   "id": "ab517a9c",
   "metadata": {},
   "outputs": [],
   "source": []
  },
  {
   "cell_type": "markdown",
   "id": "b223e82d",
   "metadata": {
    "lang": "de",
    "slideshow": {
     "slide_type": "subslide"
    }
   },
   "source": [
    "\n",
    "Im Gegensatz zu Dictionaries werden Instanzen von Klassen typischerweise\n",
    "*nicht* nach der Erzeugung beliebige Attribute zugewiesen!\n",
    "\n",
    "Statt dessen sollen allen Instanzen die gleiche Form haben. Deswegen werden\n",
    "die Attribute eines Objekts bei seiner Konstruktion initialisiert. Das geht\n",
    "über die `__init__()` Methode.\n",
    "\n",
    "Die `__init__()`-Methode hat immer\n",
    "(mindestens) einen Parameter, der per Konvention `self` heißt:"
   ]
  },
  {
   "cell_type": "code",
   "execution_count": null,
   "id": "86ccc7c4",
   "metadata": {
    "slideshow": {
     "slide_type": "subslide"
    }
   },
   "outputs": [],
   "source": []
  },
  {
   "cell_type": "code",
   "execution_count": null,
   "id": "5359603b",
   "metadata": {},
   "outputs": [],
   "source": []
  },
  {
   "cell_type": "code",
   "execution_count": null,
   "id": "43196828",
   "metadata": {},
   "outputs": [],
   "source": []
  },
  {
   "cell_type": "code",
   "execution_count": null,
   "id": "8510a3e3",
   "metadata": {},
   "outputs": [],
   "source": []
  },
  {
   "cell_type": "markdown",
   "id": "0f3798b8",
   "metadata": {
    "lang": "de",
    "slideshow": {
     "slide_type": "subslide"
    }
   },
   "source": [
    "\n",
    "Die Werte von Attributen können verändert werden:"
   ]
  },
  {
   "cell_type": "code",
   "execution_count": null,
   "id": "15a19b4e",
   "metadata": {},
   "outputs": [],
   "source": []
  },
  {
   "cell_type": "markdown",
   "id": "68665646",
   "metadata": {
    "lang": "de",
    "slideshow": {
     "slide_type": "subslide"
    }
   },
   "source": [
    "\n",
    "In vielen Fällen wäre es besser, bei der Konstruktion eines Objekts Werte für\n",
    "die Attribute anzugeben. Das ist möglich, indem man der `__init__()`-Methode\n",
    "zusätzliche Parameter gibt."
   ]
  },
  {
   "cell_type": "code",
   "execution_count": null,
   "id": "dd54f017",
   "metadata": {
    "slideshow": {
     "slide_type": "subslide"
    }
   },
   "outputs": [],
   "source": []
  },
  {
   "cell_type": "code",
   "execution_count": null,
   "id": "18c181a2",
   "metadata": {
    "lines_to_next_cell": 2
   },
   "outputs": [],
   "source": []
  },
  {
   "cell_type": "markdown",
   "id": "53f61a4a",
   "metadata": {
    "lang": "de",
    "lines_to_next_cell": 2,
    "slideshow": {
     "slide_type": "subslide"
    }
   },
   "source": [
    "## Mini-Workshop\n",
    "\n",
    "- Notebook `workshop_062_objects`\n",
    "- Abschnitt \"Kraftfahrzeuge (Teil 1)\""
   ]
  },
  {
   "cell_type": "markdown",
   "id": "112493a7",
   "metadata": {
    "lang": "de",
    "slideshow": {
     "slide_type": "subslide"
    }
   },
   "source": [
    "## Methoden\n",
    "\n",
    "Klassen können Methoden enthalten. Methoden sind Funktionen, die\n",
    "\"zu einem Objekt gehören\". Wir werden im Abschnitt zu Vererbung sehen,\n",
    "welche Möglichkeiten sich dadurch bieten.\n",
    "\n",
    "Methoden werden mit der \"Dot-Notation\" aufgerufen: `my_object.method()`.\n",
    "\n",
    "Die Syntax von Methodendefinitionen entspricht Funktionsdefinitionen,\n",
    "steht aber im Rumpf einer Klassendefinition.\n",
    "\n",
    "Im Gegensatz zu vielen anderen Sprachen hat\n",
    "Python bei der Definition keinen impliziten `this` Parameter; das Objekt auf\n",
    "dem die Methode aufgerufen wird muss als erster Parameter angegeben werden.\n",
    "Per Konvention hat dieser Parameter den Namen `self`, wie bei der\n",
    "`__init__()`-Methode.\n",
    "\n",
    "Die Definition einer Methode, die mit `my_object.method()` aufgerufen\n",
    "werden kann erfolgt also folgendermaßen:"
   ]
  },
  {
   "cell_type": "code",
   "execution_count": null,
   "id": "9da5d426",
   "metadata": {
    "slideshow": {
     "slide_type": "subslide"
    },
    "tags": [
     "keep"
    ]
   },
   "outputs": [],
   "source": [
    "class MyClass:\n",
    "    def method(self):\n",
    "        print(F\"Called method on {self}\")"
   ]
  },
  {
   "cell_type": "code",
   "execution_count": null,
   "id": "f5c1eedf",
   "metadata": {
    "tags": [
     "keep"
    ]
   },
   "outputs": [],
   "source": [
    "my_object = MyClass()\n",
    "my_object.method()"
   ]
  },
  {
   "cell_type": "markdown",
   "id": "f0a8c671",
   "metadata": {
    "lang": "de",
    "slideshow": {
     "slide_type": "subslide"
    }
   },
   "source": [
    "Wir können eine Methode zum Verschieben eines Punktes zu unserer `Point` Klasse hinzufügen:"
   ]
  },
  {
   "cell_type": "code",
   "execution_count": null,
   "id": "b0ae021d",
   "metadata": {},
   "outputs": [],
   "source": []
  },
  {
   "cell_type": "code",
   "execution_count": null,
   "id": "8d033f19",
   "metadata": {
    "slideshow": {
     "slide_type": "subslide"
    }
   },
   "outputs": [],
   "source": []
  },
  {
   "cell_type": "code",
   "execution_count": null,
   "id": "377f5899",
   "metadata": {},
   "outputs": [],
   "source": []
  },
  {
   "cell_type": "markdown",
   "id": "e7be42bf",
   "metadata": {
    "lang": "de",
    "lines_to_next_cell": 2,
    "slideshow": {
     "slide_type": "subslide"
    }
   },
   "source": [
    "## Mini-Workshop\n",
    "\n",
    "- Notebook `workshop_062_objects`\n",
    "- Abschnitt \"Kraftfahrzeuge (Teil 2)\""
   ]
  },
  {
   "cell_type": "markdown",
   "id": "cbb46449",
   "metadata": {
    "lang": "de",
    "slideshow": {
     "slide_type": "slide"
    }
   },
   "source": [
    "## Das Python-Objektmodell\n",
    "\n",
    "Mit Dunder-Methoden können benutzerdefinierten Datentypen benutzerfreundlicher\n",
    "gestaltet werden:"
   ]
  },
  {
   "cell_type": "code",
   "execution_count": null,
   "id": "798db325",
   "metadata": {},
   "outputs": [],
   "source": []
  },
  {
   "cell_type": "markdown",
   "id": "d217c50a",
   "metadata": {
    "lang": "de"
   },
   "source": [
    "Durch Definition der Methode `__repr__(self)` kann der von `repr`\n",
    "zurückgegebene String für benutzerdefinierte Klassen angepasst werden: Der\n",
    "Funktionsaufruf `repr(x)` überprüft, ob `x` eine Methode `__repr__` hat und\n",
    "ruft diese auf, falls sie existiert."
   ]
  },
  {
   "cell_type": "code",
   "execution_count": null,
   "id": "d62ccc62",
   "metadata": {
    "slideshow": {
     "slide_type": "subslide"
    }
   },
   "outputs": [],
   "source": []
  },
  {
   "cell_type": "code",
   "execution_count": null,
   "id": "eff6d87a",
   "metadata": {
    "slideshow": {
     "slide_type": "subslide"
    }
   },
   "outputs": [],
   "source": []
  },
  {
   "cell_type": "markdown",
   "id": "abcbc6c8",
   "metadata": {
    "lang": "de",
    "slideshow": {
     "slide_type": "subslide"
    }
   },
   "source": [
    "\n",
    "Entsprechend kann eine `__str__()` Methode definiert werden, die von `str()`\n",
    "verwendet wird. Die Funktion `str()` delegiert an `__repr__()`, falls keine\n",
    "`__str__()`-Methode definiert ist:\n"
   ]
  },
  {
   "cell_type": "code",
   "execution_count": null,
   "id": "bb20dc30",
   "metadata": {},
   "outputs": [],
   "source": []
  },
  {
   "cell_type": "code",
   "execution_count": null,
   "id": "e7872de2",
   "metadata": {},
   "outputs": [],
   "source": []
  },
  {
   "cell_type": "markdown",
   "id": "efa0a193",
   "metadata": {
    "lang": "de",
    "slideshow": {
     "slide_type": "subslide"
    }
   },
   "source": [
    "Python bietet viele Dunder-Methoden an: siehe das\n",
    "[Python Datenmodell](https://docs.python.org/3/reference/datamodel.html)\n",
    "in der Dokumentation."
   ]
  },
  {
   "cell_type": "code",
   "execution_count": null,
   "id": "f381f292",
   "metadata": {
    "slideshow": {
     "slide_type": "subslide"
    }
   },
   "outputs": [],
   "source": []
  },
  {
   "cell_type": "code",
   "execution_count": null,
   "id": "aeae6975",
   "metadata": {
    "slideshow": {
     "slide_type": "subslide"
    }
   },
   "outputs": [],
   "source": []
  },
  {
   "cell_type": "code",
   "execution_count": null,
   "id": "0b1239e9",
   "metadata": {},
   "outputs": [],
   "source": []
  },
  {
   "cell_type": "code",
   "execution_count": null,
   "id": "f27fc2ba",
   "metadata": {},
   "outputs": [],
   "source": []
  },
  {
   "cell_type": "code",
   "execution_count": null,
   "id": "89653723",
   "metadata": {
    "slideshow": {
     "slide_type": "subslide"
    }
   },
   "outputs": [],
   "source": []
  },
  {
   "cell_type": "code",
   "execution_count": null,
   "id": "1bb3aab0",
   "metadata": {},
   "outputs": [],
   "source": []
  },
  {
   "cell_type": "code",
   "execution_count": null,
   "id": "ee5f1430",
   "metadata": {
    "slideshow": {
     "slide_type": "subslide"
    }
   },
   "outputs": [],
   "source": []
  },
  {
   "cell_type": "code",
   "execution_count": null,
   "id": "9b0260b5",
   "metadata": {
    "lines_to_next_cell": 2,
    "slideshow": {
     "slide_type": "subslide"
    }
   },
   "outputs": [],
   "source": []
  },
  {
   "cell_type": "markdown",
   "id": "3a64c841",
   "metadata": {
    "lang": "de",
    "lines_to_next_cell": 2,
    "slideshow": {
     "slide_type": "subslide"
    }
   },
   "source": [
    "\n",
    " ## Mini-Workshop\n",
    "\n",
    "- Notebook `workshop_062_objects`\n",
    "- Abschnitt \"Kraftfahrzeuge (Teil 3)\""
   ]
  },
  {
   "cell_type": "markdown",
   "id": "bf658e61",
   "metadata": {
    "lang": "de",
    "slideshow": {
     "slide_type": "slide"
    }
   },
   "source": [
    "## Dataclasses\n",
    "\n",
    "Definition einer Klasse, in der Attribute besser sichtbar sind, Repräsentation\n",
    "und Gleichheit vordefiniert sind, etc.\n",
    "\n",
    "Die [Dokumentation](https://docs.python.org/3/library/dataclasses.html)\n",
    "beinhaltet weitere Möglichkeiten."
   ]
  },
  {
   "cell_type": "code",
   "execution_count": null,
   "id": "3e1a4c04",
   "metadata": {
    "slideshow": {
     "slide_type": "subslide"
    }
   },
   "outputs": [],
   "source": []
  },
  {
   "cell_type": "code",
   "execution_count": null,
   "id": "e7b2433a",
   "metadata": {
    "slideshow": {
     "slide_type": "subslide"
    }
   },
   "outputs": [],
   "source": []
  },
  {
   "cell_type": "code",
   "execution_count": null,
   "id": "61f1522f",
   "metadata": {},
   "outputs": [],
   "source": []
  },
  {
   "cell_type": "code",
   "execution_count": null,
   "id": "a05f3837",
   "metadata": {},
   "outputs": [],
   "source": []
  },
  {
   "cell_type": "code",
   "execution_count": null,
   "id": "e3471da9",
   "metadata": {
    "slideshow": {
     "slide_type": "subslide"
    }
   },
   "outputs": [],
   "source": []
  },
  {
   "cell_type": "code",
   "execution_count": null,
   "id": "53d8ae23",
   "metadata": {},
   "outputs": [],
   "source": []
  },
  {
   "cell_type": "code",
   "execution_count": null,
   "id": "d4afca63",
   "metadata": {},
   "outputs": [],
   "source": []
  },
  {
   "cell_type": "markdown",
   "id": "6a8a788c",
   "metadata": {
    "lang": "de",
    "slideshow": {
     "slide_type": "subslide"
    }
   },
   "source": [
    "Dataclasses erzwingen, dass Default-Werte unveränderlich sind (zumindest für einige Typen...):"
   ]
  },
  {
   "cell_type": "code",
   "execution_count": null,
   "id": "09d5a312",
   "metadata": {},
   "outputs": [],
   "source": []
  },
  {
   "cell_type": "code",
   "execution_count": null,
   "id": "7b1155de",
   "metadata": {},
   "outputs": [],
   "source": []
  },
  {
   "cell_type": "code",
   "execution_count": null,
   "id": "34011287",
   "metadata": {},
   "outputs": [],
   "source": []
  },
  {
   "cell_type": "code",
   "execution_count": null,
   "id": "a3c9d357",
   "metadata": {},
   "outputs": [],
   "source": []
  },
  {
   "cell_type": "markdown",
   "id": "4223b94c",
   "metadata": {
    "lang": "de",
    "slideshow": {
     "slide_type": "subslide"
    }
   },
   "source": [
    "Der Test auf unveränderliche Defaults funktioniert aber nur für einige Typen aus der Standardbibliothek, nicht für benutzerdefinierte Typen:"
   ]
  },
  {
   "cell_type": "code",
   "execution_count": null,
   "id": "29b3fb38",
   "metadata": {},
   "outputs": [],
   "source": []
  },
  {
   "cell_type": "code",
   "execution_count": null,
   "id": "8a38c037",
   "metadata": {},
   "outputs": [],
   "source": []
  },
  {
   "cell_type": "code",
   "execution_count": null,
   "id": "79ed15cc",
   "metadata": {
    "lines_to_next_cell": 2
   },
   "outputs": [],
   "source": []
  },
  {
   "cell_type": "markdown",
   "id": "f431080e",
   "metadata": {
    "lang": "de",
    "slideshow": {
     "slide_type": "subslide"
    }
   },
   "source": [
    "\n",
    "Es ist möglich, koplexere Initialisierungen vorzunehmen:\n",
    "\n",
    "- Die `__post_init__()` Methode kann Code zur Initialisierung von Objekten\n",
    "  enthalten, der nach der generierten `__init__()` Methode ausgeführt wird.\n",
    "- Der Typ `InitVar[T]` deklariert, dass ein Klassen-Attribut als Argument an\n",
    "  `__post_init__()` übergeben und nicht als Instanz-Attribut verwendet wird.\n",
    "- Das Keyword-Argument `init=False` für `field()` bewirkt, dass ein Attribut\n",
    "  nicht in der generierten `__init__()` Methode initialisiert wird."
   ]
  },
  {
   "cell_type": "code",
   "execution_count": null,
   "id": "e441c159",
   "metadata": {
    "lines_to_next_cell": 1
   },
   "outputs": [],
   "source": []
  },
  {
   "cell_type": "code",
   "execution_count": null,
   "id": "5e2d840c",
   "metadata": {
    "lines_to_next_cell": 1
   },
   "outputs": [],
   "source": []
  },
  {
   "cell_type": "code",
   "execution_count": null,
   "id": "e138d297",
   "metadata": {},
   "outputs": [],
   "source": []
  },
  {
   "cell_type": "code",
   "execution_count": null,
   "id": "bdb669fd",
   "metadata": {
    "lines_to_next_cell": 1
   },
   "outputs": [],
   "source": []
  },
  {
   "cell_type": "markdown",
   "id": "e57aff92",
   "metadata": {
    "lang": "de",
    "slideshow": {
     "slide_type": "subslide"
    }
   },
   "source": [
    "## Workshop\n",
    "\n",
    "- Notebook `workshop_062_objects`\n",
    "- Abschnitt \"Einkaufsliste\""
   ]
  },
  {
   "cell_type": "markdown",
   "id": "6601ed17",
   "metadata": {
    "lang": "de",
    "slideshow": {
     "slide_type": "slide"
    }
   },
   "source": [
    "Es ist möglich einen Klasse zu definieren, deren Instanzen sich wie Listen verhalten. Um die Implementierung zu vereinfachen delegieren wir die Verwaltung der Elemente an eine Liste, die als Attribut gespeichert ist. Diese Form der Komposition findet man häufig in der objektorientierten Programmierung."
   ]
  },
  {
   "cell_type": "code",
   "execution_count": null,
   "id": "56a04048",
   "metadata": {},
   "outputs": [],
   "source": []
  },
  {
   "cell_type": "code",
   "execution_count": null,
   "id": "8d079d84",
   "metadata": {
    "slideshow": {
     "slide_type": "subslide"
    }
   },
   "outputs": [],
   "source": []
  },
  {
   "cell_type": "code",
   "execution_count": null,
   "id": "f2ebd984",
   "metadata": {
    "slideshow": {
     "slide_type": "subslide"
    }
   },
   "outputs": [],
   "source": []
  },
  {
   "cell_type": "code",
   "execution_count": null,
   "id": "8470467a",
   "metadata": {},
   "outputs": [],
   "source": []
  },
  {
   "cell_type": "code",
   "execution_count": null,
   "id": "4c143c89",
   "metadata": {},
   "outputs": [],
   "source": []
  },
  {
   "cell_type": "code",
   "execution_count": null,
   "id": "318b3cf9",
   "metadata": {
    "lines_to_next_cell": 2
   },
   "outputs": [],
   "source": []
  },
  {
   "cell_type": "code",
   "execution_count": null,
   "id": "f33e189c",
   "metadata": {
    "tags": [
     "keep"
    ]
   },
   "outputs": [],
   "source": []
  }
 ],
 "metadata": {
  "kernelspec": {
   "display_name": "Python 3 (ipykernel)",
   "language": "python",
   "name": "python3"
  }
 },
 "nbformat": 4,
 "nbformat_minor": 5
}
