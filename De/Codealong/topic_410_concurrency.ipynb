{
 "cells": [
  {
   "cell_type": "markdown",
   "id": "498ba342e6c71c62",
   "metadata": {
    "lang": "de",
    "slideshow": {
     "slide_type": "slide"
    }
   },
   "source": [
    "<img src=\"img/python-logo-no-text.svg\"\n",
    "     style=\"display:block;margin:auto;width:10%\"/>\n",
    "<br>\n",
    "<div style=\"text-align:center; font-size:200%;\"><b>Nebenläufigkeit</b></div>\n",
    "<br/>\n",
    "<div style=\"text-align:center;\">Dr. Matthias Hölzl</div>"
   ]
  },
  {
   "cell_type": "markdown",
   "id": "c2b156ce5f867ae3",
   "metadata": {
    "lang": "de",
    "slideshow": {
     "slide_type": "slide"
    }
   },
   "source": [
    "\n",
    "# Nebenläufigkeit\n",
    "\n",
    "Definition von Leslie Lamport (in *Time, Clocks, and the Ordering of Events*, 1976):\n",
    "\n",
    "<blockquote>\n",
    "Zwei Ereignisse sind *nebenläufig*, wenn keines das andere kausal beeinflussen kann.\n",
    "</blockquote>\n",
    "\n",
    "D.h., nebenläufige Ereignisse können in beliebiger Reihenfolge ausgeführt werden."
   ]
  },
  {
   "cell_type": "markdown",
   "id": "b25ce3cab7317feb",
   "metadata": {
    "lang": "de",
    "slideshow": {
     "slide_type": "subslide"
    }
   },
   "source": [
    "\n",
    "## Wann ist Nebenläufigkeit sinnvoll?\n",
    "\n",
    "- Zum Verringern von Latenz und Erhöhen von Durchsatz\n",
    "- Zum Ausnutzen mehrerer Prozessoren/Rechenkerne\n",
    "- Zur Durchführung von Hintergrundaktivitäten"
   ]
  },
  {
   "cell_type": "markdown",
   "id": "cac8c09206e9cd01",
   "metadata": {
    "lang": "de",
    "slideshow": {
     "slide_type": "subslide"
    }
   },
   "source": [
    "\n",
    "Wie kann Nebenläufigkeit realisiert werden?\n",
    "\n",
    "- Interleaving (Zeitscheiben)\n",
    "- Asynchrone Verarbeitung (Sonderfall von Interleaving)\n",
    "- Parallele Verarbeitung"
   ]
  },
  {
   "cell_type": "markdown",
   "id": "85a2cf8b0de705e8",
   "metadata": {
    "lang": "de",
    "slideshow": {
     "slide_type": "subslide"
    }
   },
   "source": [
    "\n",
    "Wie kann Nebenläufigkeit realisiert werden?\n",
    "\n",
    "- Interleaving (Zeitscheiben): Coroutines, ...\n",
    "- Asynchrone Verarbeitung: Event-Loop, Async, ...\n",
    "- Parallele Verarbeitung: Threads, Processes, Futures, ...\n",
    "\n",
    "Aber: In Python bewirken Threads in der Regel eher ein Interleaving als echte\n",
    "parallele Verarbeitung!"
   ]
  },
  {
   "cell_type": "markdown",
   "id": "3f201e75857b1c0f",
   "metadata": {
    "lang": "de",
    "slideshow": {
     "slide_type": "subslide"
    }
   },
   "source": [
    "\n",
    "## Threads\n",
    "\n",
    "Threads werden durch die Klasse `threading.Thread` gekapselt:\n",
    "\n",
    "- `target` Initarg bestimmt die Funktion, die ausgeführt wird\n",
    "- `Thread.start()` startet den Thread\n",
    "- `Thread."
   ]
  },
  {
   "cell_type": "markdown",
   "id": "4ebd1ab87a7124a9",
   "metadata": {
    "lang": "de",
    "slideshow": {
     "slide_type": "subslide"
    }
   },
   "source": [
    "\n",
    "### Hintergrundverarbeitung"
   ]
  },
  {
   "cell_type": "code",
   "execution_count": null,
   "id": "e5ce29b73b53f91c",
   "metadata": {},
   "outputs": [],
   "source": []
  },
  {
   "cell_type": "code",
   "execution_count": null,
   "id": "02d46ae7d8a026d2",
   "metadata": {},
   "outputs": [],
   "source": []
  },
  {
   "cell_type": "code",
   "execution_count": null,
   "id": "2cad4418b83d1744",
   "metadata": {},
   "outputs": [],
   "source": []
  },
  {
   "cell_type": "code",
   "execution_count": null,
   "id": "f779b836c60996b8",
   "metadata": {},
   "outputs": [],
   "source": []
  },
  {
   "cell_type": "code",
   "execution_count": null,
   "id": "5dc4c6eec7b44d89",
   "metadata": {},
   "outputs": [],
   "source": []
  },
  {
   "cell_type": "markdown",
   "id": "a8e4567319ea9001",
   "metadata": {
    "lang": "de",
    "slideshow": {
     "slide_type": "subslide"
    }
   },
   "source": [
    "\n",
    "### Verringern von Latenz und Erhöhen von Durchsatz"
   ]
  },
  {
   "cell_type": "code",
   "execution_count": null,
   "id": "2b40662f0423e189",
   "metadata": {},
   "outputs": [],
   "source": []
  },
  {
   "cell_type": "code",
   "execution_count": null,
   "id": "a681e84310d97e6a",
   "metadata": {},
   "outputs": [],
   "source": []
  },
  {
   "cell_type": "code",
   "execution_count": null,
   "id": "5934a81ed5120281",
   "metadata": {},
   "outputs": [],
   "source": []
  },
  {
   "cell_type": "code",
   "execution_count": null,
   "id": "0cd959dcfd24ae4b",
   "metadata": {},
   "outputs": [],
   "source": []
  },
  {
   "cell_type": "code",
   "execution_count": null,
   "id": "4b5144e66e3aa36e",
   "metadata": {},
   "outputs": [],
   "source": []
  },
  {
   "cell_type": "code",
   "execution_count": null,
   "id": "ca161e08fc60f12f",
   "metadata": {},
   "outputs": [],
   "source": []
  },
  {
   "cell_type": "code",
   "execution_count": null,
   "id": "fd020068b0b3e26e",
   "metadata": {},
   "outputs": [],
   "source": []
  },
  {
   "cell_type": "code",
   "execution_count": null,
   "id": "2347569a405670d2",
   "metadata": {},
   "outputs": [],
   "source": []
  },
  {
   "cell_type": "code",
   "execution_count": null,
   "id": "3a356d90ca3d90e1",
   "metadata": {},
   "outputs": [],
   "source": []
  },
  {
   "cell_type": "code",
   "execution_count": null,
   "id": "38845219d9b914e2",
   "metadata": {},
   "outputs": [],
   "source": []
  },
  {
   "cell_type": "code",
   "execution_count": null,
   "id": "71e7304f4d0c3e4e",
   "metadata": {},
   "outputs": [],
   "source": []
  },
  {
   "cell_type": "code",
   "execution_count": null,
   "id": "0a8f78ef0d2d9ffb",
   "metadata": {},
   "outputs": [],
   "source": []
  },
  {
   "cell_type": "code",
   "execution_count": null,
   "id": "0c652f508842ec29",
   "metadata": {},
   "outputs": [],
   "source": []
  },
  {
   "cell_type": "code",
   "execution_count": null,
   "id": "40e20eb6b4eb7541",
   "metadata": {},
   "outputs": [],
   "source": []
  },
  {
   "cell_type": "code",
   "execution_count": null,
   "id": "45eafd9cf8e3588e",
   "metadata": {},
   "outputs": [],
   "source": []
  },
  {
   "cell_type": "code",
   "execution_count": null,
   "id": "1a5042ee117b9b44",
   "metadata": {},
   "outputs": [],
   "source": []
  },
  {
   "cell_type": "code",
   "execution_count": null,
   "id": "10a24236fa2ea31a",
   "metadata": {},
   "outputs": [],
   "source": []
  },
  {
   "cell_type": "markdown",
   "id": "d1a640af23ff23c6",
   "metadata": {
    "lang": "de",
    "slideshow": {
     "slide_type": "subslide"
    }
   },
   "source": [
    "\n",
    "### Mehrere Threads und das GIL"
   ]
  },
  {
   "cell_type": "code",
   "execution_count": null,
   "id": "ecf4b632fca7284f",
   "metadata": {},
   "outputs": [],
   "source": []
  },
  {
   "cell_type": "code",
   "execution_count": null,
   "id": "bbd0938f11bb17b6",
   "metadata": {},
   "outputs": [],
   "source": []
  },
  {
   "cell_type": "code",
   "execution_count": null,
   "id": "27227f7d863a77bd",
   "metadata": {},
   "outputs": [],
   "source": []
  },
  {
   "cell_type": "code",
   "execution_count": null,
   "id": "5d66d47ec2accab2",
   "metadata": {},
   "outputs": [],
   "source": []
  },
  {
   "cell_type": "code",
   "execution_count": null,
   "id": "a292af18b9145f56",
   "metadata": {},
   "outputs": [],
   "source": []
  },
  {
   "cell_type": "code",
   "execution_count": null,
   "id": "a29f7ccac97b3d33",
   "metadata": {},
   "outputs": [],
   "source": []
  },
  {
   "cell_type": "code",
   "execution_count": null,
   "id": "7178eb27a42cb9e0",
   "metadata": {},
   "outputs": [],
   "source": []
  },
  {
   "cell_type": "code",
   "execution_count": null,
   "id": "bb5f73b610bc4ab6",
   "metadata": {},
   "outputs": [],
   "source": []
  },
  {
   "cell_type": "code",
   "execution_count": null,
   "id": "3d5aa4d66caa12ee",
   "metadata": {
    "lines_to_next_cell": 2
   },
   "outputs": [],
   "source": []
  },
  {
   "cell_type": "markdown",
   "id": "eb8c52e2c2a7a65e",
   "metadata": {
    "lang": "de",
    "slideshow": {
     "slide_type": "subslide"
    }
   },
   "source": [
    "\n",
    "In Python wird immer nur *ein* Python Thread ausgeführt, alle anderen Threads\n",
    "existieren zwar, warten aber \"bis sie an der Reihe sind\". Daher bringt Multithreading\n",
    "nur dann Vorteile, wenn z.B. auf Ein/Ausgabe-Operationen gewartet wird, nicht wenn\n",
    "mehrere Berechnungen beschleunigt werden sollen!"
   ]
  },
  {
   "cell_type": "markdown",
   "id": "dccabcd4ebc13c1b",
   "metadata": {
    "lang": "de",
    "slideshow": {
     "slide_type": "subslide"
    }
   },
   "source": [
    "## Workshop\n",
    "\n",
    "- Notebook `workshop_410_concurrency`\n",
    "- Abschnitt \"Parallele Requests\""
   ]
  },
  {
   "cell_type": "markdown",
   "id": "eaa83b6bb94fa1a4",
   "metadata": {
    "lang": "de",
    "slideshow": {
     "slide_type": "subslide"
    }
   },
   "source": [
    "\n",
    "### Synchronisieren von Threads\n",
    "\n",
    "Die nebenläufige Programmierung führt zu Problemen, die es in sequentiellen Programmen\n",
    "nicht gibt:"
   ]
  },
  {
   "cell_type": "code",
   "execution_count": null,
   "id": "c1f1b7cd6fd8f519",
   "metadata": {},
   "outputs": [],
   "source": []
  },
  {
   "cell_type": "code",
   "execution_count": null,
   "id": "bb28ac453344bb97",
   "metadata": {},
   "outputs": [],
   "source": []
  },
  {
   "cell_type": "code",
   "execution_count": null,
   "id": "4f067c0d94581d0a",
   "metadata": {},
   "outputs": [],
   "source": []
  },
  {
   "cell_type": "code",
   "execution_count": null,
   "id": "e178d2c7d7d6f3df",
   "metadata": {},
   "outputs": [],
   "source": []
  },
  {
   "cell_type": "markdown",
   "id": "18b9c626a3eea774",
   "metadata": {
    "lang": "de",
    "slideshow": {
     "slide_type": "subslide"
    }
   },
   "source": [
    "\n",
    "#### Barrieren (Barriers)\n",
    "\n",
    "Mit Barrieren (Barriers) kann eine fixe Anzahl an Threads synchronisiert werden:"
   ]
  },
  {
   "cell_type": "code",
   "execution_count": null,
   "id": "c52aa45263e3bb4c",
   "metadata": {},
   "outputs": [],
   "source": []
  },
  {
   "cell_type": "code",
   "execution_count": null,
   "id": "d1ac789c1fc3f6a0",
   "metadata": {},
   "outputs": [],
   "source": []
  },
  {
   "cell_type": "code",
   "execution_count": null,
   "id": "18beb53a4abe0d55",
   "metadata": {},
   "outputs": [],
   "source": []
  },
  {
   "cell_type": "code",
   "execution_count": null,
   "id": "7048e6dc24b210d5",
   "metadata": {},
   "outputs": [],
   "source": []
  },
  {
   "cell_type": "code",
   "execution_count": null,
   "id": "f882bdd67dff762d",
   "metadata": {},
   "outputs": [],
   "source": []
  },
  {
   "cell_type": "code",
   "execution_count": null,
   "id": "edb4de973b5849e3",
   "metadata": {},
   "outputs": [],
   "source": []
  },
  {
   "cell_type": "code",
   "execution_count": null,
   "id": "f2ca0880",
   "metadata": {},
   "outputs": [],
   "source": []
  },
  {
   "cell_type": "code",
   "execution_count": null,
   "id": "ac240b06",
   "metadata": {},
   "outputs": [],
   "source": []
  },
  {
   "cell_type": "code",
   "execution_count": null,
   "id": "09a293eeebf436b2",
   "metadata": {},
   "outputs": [],
   "source": []
  },
  {
   "cell_type": "markdown",
   "id": "2d3463095b55c7d6",
   "metadata": {
    "lang": "de",
    "slideshow": {
     "slide_type": "subslide"
    }
   },
   "source": [
    "\n",
    "#### Locks\n",
    "\n",
    "Locks sind ein low-level Synchronisierungsmechanismus, mit dem man erzwingen kann,\n",
    "dass nur ein Thread eine Resource nutzt:"
   ]
  },
  {
   "cell_type": "code",
   "execution_count": null,
   "id": "a73b5979e1b213a1",
   "metadata": {},
   "outputs": [],
   "source": []
  },
  {
   "cell_type": "code",
   "execution_count": null,
   "id": "c7a0ee6f435f4702",
   "metadata": {},
   "outputs": [],
   "source": []
  },
  {
   "cell_type": "code",
   "execution_count": null,
   "id": "de2549fece645bc9",
   "metadata": {},
   "outputs": [],
   "source": []
  },
  {
   "cell_type": "code",
   "execution_count": null,
   "id": "a30d394f04eaa9fd",
   "metadata": {},
   "outputs": [],
   "source": []
  },
  {
   "cell_type": "code",
   "execution_count": null,
   "id": "f9ec30a27e732a3c",
   "metadata": {},
   "outputs": [],
   "source": []
  },
  {
   "cell_type": "code",
   "execution_count": null,
   "id": "46580f0216d3f286",
   "metadata": {},
   "outputs": [],
   "source": []
  },
  {
   "cell_type": "code",
   "execution_count": null,
   "id": "dd62b8ff424f4187",
   "metadata": {},
   "outputs": [],
   "source": []
  },
  {
   "cell_type": "code",
   "execution_count": null,
   "id": "998655bfe2630ae2",
   "metadata": {},
   "outputs": [],
   "source": []
  },
  {
   "cell_type": "code",
   "execution_count": null,
   "id": "2ca0ba305a5f43ed",
   "metadata": {},
   "outputs": [],
   "source": []
  },
  {
   "cell_type": "code",
   "execution_count": null,
   "id": "4d9631772c21bd26",
   "metadata": {},
   "outputs": [],
   "source": []
  },
  {
   "cell_type": "code",
   "execution_count": null,
   "id": "835f669b852ed791",
   "metadata": {},
   "outputs": [],
   "source": []
  },
  {
   "cell_type": "code",
   "execution_count": null,
   "id": "01488d2469dca35b",
   "metadata": {},
   "outputs": [],
   "source": []
  },
  {
   "cell_type": "code",
   "execution_count": null,
   "id": "81316693900a97c7",
   "metadata": {},
   "outputs": [],
   "source": []
  },
  {
   "cell_type": "code",
   "execution_count": null,
   "id": "81ca21415216300f",
   "metadata": {},
   "outputs": [],
   "source": []
  },
  {
   "cell_type": "code",
   "execution_count": null,
   "id": "6822a6be5e509d57",
   "metadata": {},
   "outputs": [],
   "source": []
  },
  {
   "cell_type": "code",
   "execution_count": null,
   "id": "3baec283e4ea574f",
   "metadata": {},
   "outputs": [],
   "source": []
  },
  {
   "cell_type": "markdown",
   "id": "1206182d2796e458",
   "metadata": {
    "lang": "de",
    "slideshow": {
     "slide_type": "subslide"
    }
   },
   "source": [
    "\n",
    "#### Condition Variables\n",
    "\n",
    "Condition Variables sind ein Synchronisierungsmechanismus, der auf Locks basiert, aber\n",
    "einen zusätzlichen Mechanismus zur Koordination von Threads bietet: `notify()` (und\n",
    "`notify_all()`):\n",
    "\n",
    "Typischerweise verwendet man Condition Variables, wenn sich mehrere Threads einen\n",
    "gemeinsamen Zustand teilen und sowohl lesend als auch schreibend darauf zugreifen\n",
    "müssen:\n",
    "\n",
    "- Threads, die den Zustand lesen wollen, verwenden `wait()` und warten damit bis der\n",
    "  gewünschte Zustand erreicht ist\n",
    "- Threads, die den Zustand schreiben, verwenden `notify()` oder `notify_all()` um\n",
    "  eventuell wartende Threads über die Änderung zu benachrichtigen"
   ]
  },
  {
   "cell_type": "code",
   "execution_count": null,
   "id": "8e7dc711ecb35f69",
   "metadata": {},
   "outputs": [],
   "source": []
  },
  {
   "cell_type": "code",
   "execution_count": null,
   "id": "4a46e93e1a2744d5",
   "metadata": {},
   "outputs": [],
   "source": []
  },
  {
   "cell_type": "code",
   "execution_count": null,
   "id": "a3b05661a7b2baa4",
   "metadata": {},
   "outputs": [],
   "source": []
  },
  {
   "cell_type": "code",
   "execution_count": null,
   "id": "add0c98cc90b195a",
   "metadata": {},
   "outputs": [],
   "source": []
  },
  {
   "cell_type": "code",
   "execution_count": null,
   "id": "8affb6d05e701909",
   "metadata": {},
   "outputs": [],
   "source": []
  },
  {
   "cell_type": "code",
   "execution_count": null,
   "id": "4d0e5733d9643665",
   "metadata": {},
   "outputs": [],
   "source": []
  },
  {
   "cell_type": "code",
   "execution_count": null,
   "id": "5ebc18d34f4eae06",
   "metadata": {
    "lines_to_next_cell": 2
   },
   "outputs": [],
   "source": []
  },
  {
   "cell_type": "code",
   "execution_count": null,
   "id": "2b80856a429a489e",
   "metadata": {},
   "outputs": [],
   "source": []
  },
  {
   "cell_type": "code",
   "execution_count": null,
   "id": "15ce7c15e648cbd7",
   "metadata": {},
   "outputs": [],
   "source": []
  },
  {
   "cell_type": "code",
   "execution_count": null,
   "id": "dfcdbed260c554ea",
   "metadata": {},
   "outputs": [],
   "source": []
  },
  {
   "cell_type": "code",
   "execution_count": null,
   "id": "f0afd513fd5c6ae2",
   "metadata": {},
   "outputs": [],
   "source": []
  },
  {
   "cell_type": "code",
   "execution_count": null,
   "id": "849fc54643582fca",
   "metadata": {},
   "outputs": [],
   "source": []
  },
  {
   "cell_type": "code",
   "execution_count": null,
   "id": "c41442fb75c740ed",
   "metadata": {},
   "outputs": [],
   "source": []
  },
  {
   "cell_type": "code",
   "execution_count": null,
   "id": "9b59f4eab56e5a0a",
   "metadata": {},
   "outputs": [],
   "source": []
  }
 ],
 "metadata": {
  "kernelspec": {
   "display_name": "Python 3 (ipykernel)",
   "language": "python",
   "name": "python3"
  }
 },
 "nbformat": 4,
 "nbformat_minor": 5
}
