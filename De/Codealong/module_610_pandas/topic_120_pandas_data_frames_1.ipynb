{
 "cells": [
  {
   "cell_type": "markdown",
   "id": "51fb714115234d05",
   "metadata": {
    "lang": "de",
    "slideshow": {
     "slide_type": "slide"
    }
   },
   "source": [
    "<img src=\"../../img/python-logo-no-text.svg\"\n",
    "     style=\"display:block;margin:auto;width:10%\"/>\n",
    "<br>\n",
    "<div style=\"text-align:center; font-size:200%;\">\n",
    "  <b>Pandas Data Frames 1</b>\n",
    "</div>\n",
    "<br/>\n",
    "<div style=\"text-align:center;\">Dr. Matthias Hölzl</div>\n",
    "<br/>\n",
    "<div style=\"text-align:center;\">module_610_pandas/topic_120_pandas_data_frames_1</div>"
   ]
  },
  {
   "cell_type": "markdown",
   "id": "2d82049d2b04edc4",
   "metadata": {
    "lang": "de"
   },
   "source": [
    "# Data Frames\n",
    "\n",
    "DataFrames sind die am häufigsten verwendete Datenstruktur in Pandas. Sie\n",
    "erlauben uns einfaches Lesen, Verarbeiten und Speichern von tabellenbasierten\n",
    "Daten.\n",
    "\n",
    "Konzeptionell besteht ein Datenrahmen aus mehreren Serieninstanzen, die sich\n",
    "einen gemeinsamen Index teilen."
   ]
  },
  {
   "cell_type": "code",
   "execution_count": 1,
   "id": "a23d119b62e007ed",
   "metadata": {
    "lines_to_next_cell": 2,
    "tags": [
     "keep"
    ]
   },
   "outputs": [],
   "source": [
    "from pathlib import Path\n",
    "import numpy as np\n",
    "import pandas as pd"
   ]
  },
  {
   "cell_type": "code",
<<<<<<< Updated upstream
   "execution_count": null,
   "id": "78d499b4543a9699",
=======
   "execution_count": 2,
   "id": "3b3270e464545662",
>>>>>>> Stashed changes
   "metadata": {
    "tags": [
     "keep"
    ]
   },
   "outputs": [],
   "source": [
<<<<<<< Updated upstream
    "pandas_dir_path = Path(r\"C:\\Users\\tc\\Programming\\Python\\Courses\\Own\\python-programmierer\\Data\\Pandas\")"
=======
    "pandas_dir_path = r\"https://raw.githubusercontent.com/hoelzl/python-courses/master/De/Codealong/module_610_pandas/data/pandas/\""
>>>>>>> Stashed changes
   ]
  },
  {
   "cell_type": "markdown",
   "id": "cd03cadc7748fe33",
   "metadata": {
    "lang": "de",
    "lines_to_next_cell": 2
   },
   "source": [
    "## Erzeugen von Data Frames"
   ]
  },
  {
   "cell_type": "markdown",
   "id": "393c58e70ac1a232",
   "metadata": {
    "lang": "de"
   },
   "source": [
    "### Aus einem NumPy Array"
   ]
  },
  {
   "cell_type": "code",
   "execution_count": 7,
   "id": "cf3fce0f7ca14676",
   "metadata": {
    "tags": [
     "keep"
    ]
   },
   "outputs": [],
   "source": [
    "def create_data_frame():\n",
    "    rng = np.random.default_rng(42)\n",
    "    array = rng.normal(size=(5, 4), scale=5.0)\n",
    "    index = \"A B C D E\".split()\n",
    "    columns = \"w x y z\".split()\n",
    "    return pd.DataFrame(array, index=index, columns=columns)"
   ]
  },
  {
   "cell_type": "code",
   "execution_count": 8,
   "id": "23c6c2803ab0c30a",
   "metadata": {
    "lines_to_next_cell": 2,
    "tags": [
     "keep"
    ]
   },
   "outputs": [
    {
     "data": {
      "text/html": [
       "<div>\n",
       "<style scoped>\n",
       "    .dataframe tbody tr th:only-of-type {\n",
       "        vertical-align: middle;\n",
       "    }\n",
       "\n",
       "    .dataframe tbody tr th {\n",
       "        vertical-align: top;\n",
       "    }\n",
       "\n",
       "    .dataframe thead th {\n",
       "        text-align: right;\n",
       "    }\n",
       "</style>\n",
       "<table border=\"1\" class=\"dataframe\">\n",
       "  <thead>\n",
       "    <tr style=\"text-align: right;\">\n",
       "      <th></th>\n",
       "      <th>w</th>\n",
       "      <th>x</th>\n",
       "      <th>y</th>\n",
       "      <th>z</th>\n",
       "    </tr>\n",
       "  </thead>\n",
       "  <tbody>\n",
       "    <tr>\n",
       "      <th>A</th>\n",
       "      <td>1.523585</td>\n",
       "      <td>-5.199921</td>\n",
       "      <td>3.752256</td>\n",
       "      <td>4.702824</td>\n",
       "    </tr>\n",
       "    <tr>\n",
       "      <th>B</th>\n",
       "      <td>-9.755176</td>\n",
       "      <td>-6.510898</td>\n",
       "      <td>0.639202</td>\n",
       "      <td>-1.581213</td>\n",
       "    </tr>\n",
       "    <tr>\n",
       "      <th>C</th>\n",
       "      <td>-0.084006</td>\n",
       "      <td>-4.265220</td>\n",
       "      <td>4.396990</td>\n",
       "      <td>3.888960</td>\n",
       "    </tr>\n",
       "    <tr>\n",
       "      <th>D</th>\n",
       "      <td>0.330153</td>\n",
       "      <td>5.636206</td>\n",
       "      <td>2.337547</td>\n",
       "      <td>-4.296462</td>\n",
       "    </tr>\n",
       "    <tr>\n",
       "      <th>E</th>\n",
       "      <td>1.843754</td>\n",
       "      <td>-4.794413</td>\n",
       "      <td>4.392252</td>\n",
       "      <td>-0.249630</td>\n",
       "    </tr>\n",
       "  </tbody>\n",
       "</table>\n",
       "</div>"
      ],
      "text/plain": [
       "          w         x         y         z\n",
       "A  1.523585 -5.199921  3.752256  4.702824\n",
       "B -9.755176 -6.510898  0.639202 -1.581213\n",
       "C -0.084006 -4.265220  4.396990  3.888960\n",
       "D  0.330153  5.636206  2.337547 -4.296462\n",
       "E  1.843754 -4.794413  4.392252 -0.249630"
      ]
     },
     "execution_count": 8,
     "metadata": {},
     "output_type": "execute_result"
    }
   ],
   "source": [
    "df = create_data_frame()\n",
    "df"
   ]
  },
  {
   "cell_type": "code",
   "execution_count": 9,
   "id": "4d04041d79eae14c",
   "metadata": {},
   "outputs": [
    {
     "data": {
      "text/plain": [
       "pandas.core.frame.DataFrame"
      ]
     },
     "execution_count": 9,
     "metadata": {},
     "output_type": "execute_result"
    }
   ],
   "source": [
    "type(df)"
   ]
  },
  {
   "cell_type": "markdown",
   "id": "185471c818dcb2f5",
   "metadata": {
    "lang": "de"
   },
   "source": [
    "### Aus einer CSV Datei"
   ]
  },
  {
   "cell_type": "code",
   "execution_count": 10,
   "id": "c44e5e154b964b79",
   "metadata": {
    "lines_to_next_cell": 2
   },
   "outputs": [],
   "source": [
    "df_csv = pd.read_csv(pandas_dir_path + \"example_data.csv\")"
   ]
  },
  {
   "cell_type": "code",
   "execution_count": 11,
   "id": "9c440e8270be1478",
<<<<<<< Updated upstream
   "metadata": {
    "lines_to_next_cell": 2
   },
   "outputs": [],
   "source": []
=======
   "metadata": {},
   "outputs": [
    {
     "data": {
      "text/html": [
       "<div>\n",
       "<style scoped>\n",
       "    .dataframe tbody tr th:only-of-type {\n",
       "        vertical-align: middle;\n",
       "    }\n",
       "\n",
       "    .dataframe tbody tr th {\n",
       "        vertical-align: top;\n",
       "    }\n",
       "\n",
       "    .dataframe thead th {\n",
       "        text-align: right;\n",
       "    }\n",
       "</style>\n",
       "<table border=\"1\" class=\"dataframe\">\n",
       "  <thead>\n",
       "    <tr style=\"text-align: right;\">\n",
       "      <th></th>\n",
       "      <th>Unnamed: 0</th>\n",
       "      <th>Col 0</th>\n",
       "      <th>Col 1</th>\n",
       "      <th>Col 2</th>\n",
       "      <th>Col 3</th>\n",
       "      <th>Col 4</th>\n",
       "      <th>Col 5</th>\n",
       "      <th>Col 6</th>\n",
       "      <th>Col 7</th>\n",
       "    </tr>\n",
       "  </thead>\n",
       "  <tbody>\n",
       "    <tr>\n",
       "      <th>0</th>\n",
       "      <td>Index 0</td>\n",
       "      <td>4.076693</td>\n",
       "      <td>-11.592472</td>\n",
       "      <td>5.758058</td>\n",
       "      <td>1.995488</td>\n",
       "      <td>7.433482</td>\n",
       "      <td>-2.697633</td>\n",
       "      <td>10.386505</td>\n",
       "      <td>1.392989</td>\n",
       "    </tr>\n",
       "    <tr>\n",
       "      <th>1</th>\n",
       "      <td>Index 1</td>\n",
       "      <td>-8.091764</td>\n",
       "      <td>-9.263259</td>\n",
       "      <td>13.398781</td>\n",
       "      <td>3.364558</td>\n",
       "      <td>-4.504057</td>\n",
       "      <td>13.487790</td>\n",
       "      <td>19.387826</td>\n",
       "      <td>10.307054</td>\n",
       "    </tr>\n",
       "    <tr>\n",
       "      <th>2</th>\n",
       "      <td>Index 2</td>\n",
       "      <td>-9.967062</td>\n",
       "      <td>17.347022</td>\n",
       "      <td>-7.131536</td>\n",
       "      <td>8.946958</td>\n",
       "      <td>-4.560652</td>\n",
       "      <td>-1.350351</td>\n",
       "      <td>10.932789</td>\n",
       "      <td>14.030532</td>\n",
       "    </tr>\n",
       "    <tr>\n",
       "      <th>3</th>\n",
       "      <td>Index 3</td>\n",
       "      <td>4.473407</td>\n",
       "      <td>-4.188944</td>\n",
       "      <td>-9.067113</td>\n",
       "      <td>-20.351787</td>\n",
       "      <td>10.067044</td>\n",
       "      <td>-11.084616</td>\n",
       "      <td>-2.390302</td>\n",
       "      <td>-10.064766</td>\n",
       "    </tr>\n",
       "    <tr>\n",
       "      <th>4</th>\n",
       "      <td>Index 4</td>\n",
       "      <td>-10.909624</td>\n",
       "      <td>3.213494</td>\n",
       "      <td>18.101500</td>\n",
       "      <td>10.736058</td>\n",
       "      <td>-6.578314</td>\n",
       "      <td>4.997114</td>\n",
       "      <td>-6.464901</td>\n",
       "      <td>0.021843</td>\n",
       "    </tr>\n",
       "    <tr>\n",
       "      <th>...</th>\n",
       "      <td>...</td>\n",
       "      <td>...</td>\n",
       "      <td>...</td>\n",
       "      <td>...</td>\n",
       "      <td>...</td>\n",
       "      <td>...</td>\n",
       "      <td>...</td>\n",
       "      <td>...</td>\n",
       "      <td>...</td>\n",
       "    </tr>\n",
       "    <tr>\n",
       "      <th>995</th>\n",
       "      <td>Index 995</td>\n",
       "      <td>-14.445522</td>\n",
       "      <td>6.513853</td>\n",
       "      <td>-6.446964</td>\n",
       "      <td>-10.729593</td>\n",
       "      <td>-2.300384</td>\n",
       "      <td>14.966634</td>\n",
       "      <td>-4.796942</td>\n",
       "      <td>-12.922157</td>\n",
       "    </tr>\n",
       "    <tr>\n",
       "      <th>996</th>\n",
       "      <td>Index 996</td>\n",
       "      <td>12.300935</td>\n",
       "      <td>1.203874</td>\n",
       "      <td>5.127201</td>\n",
       "      <td>-13.744109</td>\n",
       "      <td>1.032070</td>\n",
       "      <td>14.428249</td>\n",
       "      <td>-12.334804</td>\n",
       "      <td>12.607952</td>\n",
       "    </tr>\n",
       "    <tr>\n",
       "      <th>997</th>\n",
       "      <td>Index 997</td>\n",
       "      <td>3.074044</td>\n",
       "      <td>6.492773</td>\n",
       "      <td>-2.589086</td>\n",
       "      <td>-11.088337</td>\n",
       "      <td>1.747953</td>\n",
       "      <td>16.040783</td>\n",
       "      <td>3.921457</td>\n",
       "      <td>-4.266764</td>\n",
       "    </tr>\n",
       "    <tr>\n",
       "      <th>998</th>\n",
       "      <td>Index 998</td>\n",
       "      <td>4.563576</td>\n",
       "      <td>14.066358</td>\n",
       "      <td>-4.915146</td>\n",
       "      <td>-6.283678</td>\n",
       "      <td>-1.343589</td>\n",
       "      <td>-22.898390</td>\n",
       "      <td>-6.044495</td>\n",
       "      <td>-14.400880</td>\n",
       "    </tr>\n",
       "    <tr>\n",
       "      <th>999</th>\n",
       "      <td>Index 999</td>\n",
       "      <td>8.426685</td>\n",
       "      <td>16.927540</td>\n",
       "      <td>12.667732</td>\n",
       "      <td>26.127088</td>\n",
       "      <td>8.269967</td>\n",
       "      <td>8.847097</td>\n",
       "      <td>-1.603626</td>\n",
       "      <td>17.094113</td>\n",
       "    </tr>\n",
       "  </tbody>\n",
       "</table>\n",
       "<p>1000 rows × 9 columns</p>\n",
       "</div>"
      ],
      "text/plain": [
       "    Unnamed: 0      Col 0      Col 1      Col 2      Col 3      Col 4  \\\n",
       "0      Index 0   4.076693 -11.592472   5.758058   1.995488   7.433482   \n",
       "1      Index 1  -8.091764  -9.263259  13.398781   3.364558  -4.504057   \n",
       "2      Index 2  -9.967062  17.347022  -7.131536   8.946958  -4.560652   \n",
       "3      Index 3   4.473407  -4.188944  -9.067113 -20.351787  10.067044   \n",
       "4      Index 4 -10.909624   3.213494  18.101500  10.736058  -6.578314   \n",
       "..         ...        ...        ...        ...        ...        ...   \n",
       "995  Index 995 -14.445522   6.513853  -6.446964 -10.729593  -2.300384   \n",
       "996  Index 996  12.300935   1.203874   5.127201 -13.744109   1.032070   \n",
       "997  Index 997   3.074044   6.492773  -2.589086 -11.088337   1.747953   \n",
       "998  Index 998   4.563576  14.066358  -4.915146  -6.283678  -1.343589   \n",
       "999  Index 999   8.426685  16.927540  12.667732  26.127088   8.269967   \n",
       "\n",
       "         Col 5      Col 6      Col 7  \n",
       "0    -2.697633  10.386505   1.392989  \n",
       "1    13.487790  19.387826  10.307054  \n",
       "2    -1.350351  10.932789  14.030532  \n",
       "3   -11.084616  -2.390302 -10.064766  \n",
       "4     4.997114  -6.464901   0.021843  \n",
       "..         ...        ...        ...  \n",
       "995  14.966634  -4.796942 -12.922157  \n",
       "996  14.428249 -12.334804  12.607952  \n",
       "997  16.040783   3.921457  -4.266764  \n",
       "998 -22.898390  -6.044495 -14.400880  \n",
       "999   8.847097  -1.603626  17.094113  \n",
       "\n",
       "[1000 rows x 9 columns]"
      ]
     },
     "execution_count": 11,
     "metadata": {},
     "output_type": "execute_result"
    }
   ],
   "source": [
    "df_csv"
   ]
>>>>>>> Stashed changes
  },
  {
   "cell_type": "code",
   "execution_count": 12,
   "id": "37214a982cef81c1",
   "metadata": {
    "lines_to_next_cell": 2
   },
   "outputs": [],
   "source": [
    "df_csv = pd.read_csv(pandas_dir_path + \"example_data.csv\", index_col=0)"
   ]
  },
  {
   "cell_type": "code",
<<<<<<< Updated upstream
   "execution_count": null,
   "id": "1f8b9832be7df47e",
=======
   "execution_count": 13,
   "id": "128349d15eec8077",
>>>>>>> Stashed changes
   "metadata": {},
   "outputs": [
    {
     "data": {
      "text/html": [
       "<div>\n",
       "<style scoped>\n",
       "    .dataframe tbody tr th:only-of-type {\n",
       "        vertical-align: middle;\n",
       "    }\n",
       "\n",
       "    .dataframe tbody tr th {\n",
       "        vertical-align: top;\n",
       "    }\n",
       "\n",
       "    .dataframe thead th {\n",
       "        text-align: right;\n",
       "    }\n",
       "</style>\n",
       "<table border=\"1\" class=\"dataframe\">\n",
       "  <thead>\n",
       "    <tr style=\"text-align: right;\">\n",
       "      <th></th>\n",
       "      <th>Col 0</th>\n",
       "      <th>Col 1</th>\n",
       "      <th>Col 2</th>\n",
       "      <th>Col 3</th>\n",
       "      <th>Col 4</th>\n",
       "      <th>Col 5</th>\n",
       "      <th>Col 6</th>\n",
       "      <th>Col 7</th>\n",
       "    </tr>\n",
       "  </thead>\n",
       "  <tbody>\n",
       "    <tr>\n",
       "      <th>Index 0</th>\n",
       "      <td>4.076693</td>\n",
       "      <td>-11.592472</td>\n",
       "      <td>5.758058</td>\n",
       "      <td>1.995488</td>\n",
       "      <td>7.433482</td>\n",
       "      <td>-2.697633</td>\n",
       "      <td>10.386505</td>\n",
       "      <td>1.392989</td>\n",
       "    </tr>\n",
       "    <tr>\n",
       "      <th>Index 1</th>\n",
       "      <td>-8.091764</td>\n",
       "      <td>-9.263259</td>\n",
       "      <td>13.398781</td>\n",
       "      <td>3.364558</td>\n",
       "      <td>-4.504057</td>\n",
       "      <td>13.487790</td>\n",
       "      <td>19.387826</td>\n",
       "      <td>10.307054</td>\n",
       "    </tr>\n",
       "    <tr>\n",
       "      <th>Index 2</th>\n",
       "      <td>-9.967062</td>\n",
       "      <td>17.347022</td>\n",
       "      <td>-7.131536</td>\n",
       "      <td>8.946958</td>\n",
       "      <td>-4.560652</td>\n",
       "      <td>-1.350351</td>\n",
       "      <td>10.932789</td>\n",
       "      <td>14.030532</td>\n",
       "    </tr>\n",
       "    <tr>\n",
       "      <th>Index 3</th>\n",
       "      <td>4.473407</td>\n",
       "      <td>-4.188944</td>\n",
       "      <td>-9.067113</td>\n",
       "      <td>-20.351787</td>\n",
       "      <td>10.067044</td>\n",
       "      <td>-11.084616</td>\n",
       "      <td>-2.390302</td>\n",
       "      <td>-10.064766</td>\n",
       "    </tr>\n",
       "    <tr>\n",
       "      <th>Index 4</th>\n",
       "      <td>-10.909624</td>\n",
       "      <td>3.213494</td>\n",
       "      <td>18.101500</td>\n",
       "      <td>10.736058</td>\n",
       "      <td>-6.578314</td>\n",
       "      <td>4.997114</td>\n",
       "      <td>-6.464901</td>\n",
       "      <td>0.021843</td>\n",
       "    </tr>\n",
       "    <tr>\n",
       "      <th>...</th>\n",
       "      <td>...</td>\n",
       "      <td>...</td>\n",
       "      <td>...</td>\n",
       "      <td>...</td>\n",
       "      <td>...</td>\n",
       "      <td>...</td>\n",
       "      <td>...</td>\n",
       "      <td>...</td>\n",
       "    </tr>\n",
       "    <tr>\n",
       "      <th>Index 995</th>\n",
       "      <td>-14.445522</td>\n",
       "      <td>6.513853</td>\n",
       "      <td>-6.446964</td>\n",
       "      <td>-10.729593</td>\n",
       "      <td>-2.300384</td>\n",
       "      <td>14.966634</td>\n",
       "      <td>-4.796942</td>\n",
       "      <td>-12.922157</td>\n",
       "    </tr>\n",
       "    <tr>\n",
       "      <th>Index 996</th>\n",
       "      <td>12.300935</td>\n",
       "      <td>1.203874</td>\n",
       "      <td>5.127201</td>\n",
       "      <td>-13.744109</td>\n",
       "      <td>1.032070</td>\n",
       "      <td>14.428249</td>\n",
       "      <td>-12.334804</td>\n",
       "      <td>12.607952</td>\n",
       "    </tr>\n",
       "    <tr>\n",
       "      <th>Index 997</th>\n",
       "      <td>3.074044</td>\n",
       "      <td>6.492773</td>\n",
       "      <td>-2.589086</td>\n",
       "      <td>-11.088337</td>\n",
       "      <td>1.747953</td>\n",
       "      <td>16.040783</td>\n",
       "      <td>3.921457</td>\n",
       "      <td>-4.266764</td>\n",
       "    </tr>\n",
       "    <tr>\n",
       "      <th>Index 998</th>\n",
       "      <td>4.563576</td>\n",
       "      <td>14.066358</td>\n",
       "      <td>-4.915146</td>\n",
       "      <td>-6.283678</td>\n",
       "      <td>-1.343589</td>\n",
       "      <td>-22.898390</td>\n",
       "      <td>-6.044495</td>\n",
       "      <td>-14.400880</td>\n",
       "    </tr>\n",
       "    <tr>\n",
       "      <th>Index 999</th>\n",
       "      <td>8.426685</td>\n",
       "      <td>16.927540</td>\n",
       "      <td>12.667732</td>\n",
       "      <td>26.127088</td>\n",
       "      <td>8.269967</td>\n",
       "      <td>8.847097</td>\n",
       "      <td>-1.603626</td>\n",
       "      <td>17.094113</td>\n",
       "    </tr>\n",
       "  </tbody>\n",
       "</table>\n",
       "<p>1000 rows × 8 columns</p>\n",
       "</div>"
      ],
      "text/plain": [
       "               Col 0      Col 1      Col 2      Col 3      Col 4      Col 5  \\\n",
       "Index 0     4.076693 -11.592472   5.758058   1.995488   7.433482  -2.697633   \n",
       "Index 1    -8.091764  -9.263259  13.398781   3.364558  -4.504057  13.487790   \n",
       "Index 2    -9.967062  17.347022  -7.131536   8.946958  -4.560652  -1.350351   \n",
       "Index 3     4.473407  -4.188944  -9.067113 -20.351787  10.067044 -11.084616   \n",
       "Index 4   -10.909624   3.213494  18.101500  10.736058  -6.578314   4.997114   \n",
       "...              ...        ...        ...        ...        ...        ...   \n",
       "Index 995 -14.445522   6.513853  -6.446964 -10.729593  -2.300384  14.966634   \n",
       "Index 996  12.300935   1.203874   5.127201 -13.744109   1.032070  14.428249   \n",
       "Index 997   3.074044   6.492773  -2.589086 -11.088337   1.747953  16.040783   \n",
       "Index 998   4.563576  14.066358  -4.915146  -6.283678  -1.343589 -22.898390   \n",
       "Index 999   8.426685  16.927540  12.667732  26.127088   8.269967   8.847097   \n",
       "\n",
       "               Col 6      Col 7  \n",
       "Index 0    10.386505   1.392989  \n",
       "Index 1    19.387826  10.307054  \n",
       "Index 2    10.932789  14.030532  \n",
       "Index 3    -2.390302 -10.064766  \n",
       "Index 4    -6.464901   0.021843  \n",
       "...              ...        ...  \n",
       "Index 995  -4.796942 -12.922157  \n",
       "Index 996 -12.334804  12.607952  \n",
       "Index 997   3.921457  -4.266764  \n",
       "Index 998  -6.044495 -14.400880  \n",
       "Index 999  -1.603626  17.094113  \n",
       "\n",
       "[1000 rows x 8 columns]"
      ]
     },
     "execution_count": 13,
     "metadata": {},
     "output_type": "execute_result"
    }
   ],
   "source": [
    "df_csv"
   ]
  },
  {
   "cell_type": "markdown",
   "id": "1cb9ddca55e4c022",
   "metadata": {
    "lang": "de"
   },
   "source": [
    "### Aus einer Excel Datei"
   ]
  },
  {
   "cell_type": "code",
   "execution_count": 14,
   "id": "4862e1d3d82cd3a5",
   "metadata": {
    "lines_to_next_cell": 2
   },
   "outputs": [],
   "source": [
    "df_excel = pd.read_excel(pandas_dir_path + \"excel_data.xlsx\", index_col=0)"
   ]
  },
  {
   "cell_type": "code",
   "execution_count": 15,
   "id": "8e388a4632b2a667",
<<<<<<< Updated upstream
   "metadata": {
    "lines_to_next_cell": 2
   },
   "outputs": [],
   "source": []
=======
   "metadata": {},
   "outputs": [
    {
     "data": {
      "text/html": [
       "<div>\n",
       "<style scoped>\n",
       "    .dataframe tbody tr th:only-of-type {\n",
       "        vertical-align: middle;\n",
       "    }\n",
       "\n",
       "    .dataframe tbody tr th {\n",
       "        vertical-align: top;\n",
       "    }\n",
       "\n",
       "    .dataframe thead th {\n",
       "        text-align: right;\n",
       "    }\n",
       "</style>\n",
       "<table border=\"1\" class=\"dataframe\">\n",
       "  <thead>\n",
       "    <tr style=\"text-align: right;\">\n",
       "      <th></th>\n",
       "      <th>Col 0</th>\n",
       "      <th>Col 1</th>\n",
       "      <th>Col 2</th>\n",
       "      <th>Col 3</th>\n",
       "      <th>Col 4</th>\n",
       "      <th>Col 5</th>\n",
       "      <th>Col 6</th>\n",
       "      <th>Col 7</th>\n",
       "      <th>Col 8</th>\n",
       "      <th>Col 9</th>\n",
       "      <th>Col 10</th>\n",
       "      <th>Col 11</th>\n",
       "    </tr>\n",
       "  </thead>\n",
       "  <tbody>\n",
       "    <tr>\n",
       "      <th>Index 0</th>\n",
       "      <td>4.076693</td>\n",
       "      <td>-11.592472</td>\n",
       "      <td>5.758058</td>\n",
       "      <td>1.995488</td>\n",
       "      <td>7.433482</td>\n",
       "      <td>-2.697633</td>\n",
       "      <td>10.386505</td>\n",
       "      <td>1.392989</td>\n",
       "      <td>-8.091764</td>\n",
       "      <td>-9.263259</td>\n",
       "      <td>13.398781</td>\n",
       "      <td>3.364558</td>\n",
       "    </tr>\n",
       "    <tr>\n",
       "      <th>Index 1</th>\n",
       "      <td>-4.504057</td>\n",
       "      <td>13.487790</td>\n",
       "      <td>19.387826</td>\n",
       "      <td>10.307054</td>\n",
       "      <td>-9.967062</td>\n",
       "      <td>17.347022</td>\n",
       "      <td>-7.131536</td>\n",
       "      <td>8.946958</td>\n",
       "      <td>-4.560652</td>\n",
       "      <td>-1.350351</td>\n",
       "      <td>10.932789</td>\n",
       "      <td>14.030532</td>\n",
       "    </tr>\n",
       "    <tr>\n",
       "      <th>Index 2</th>\n",
       "      <td>4.473407</td>\n",
       "      <td>-4.188944</td>\n",
       "      <td>-9.067113</td>\n",
       "      <td>-20.351787</td>\n",
       "      <td>10.067044</td>\n",
       "      <td>-11.084616</td>\n",
       "      <td>-2.390302</td>\n",
       "      <td>-10.064766</td>\n",
       "      <td>-10.909624</td>\n",
       "      <td>3.213494</td>\n",
       "      <td>18.101500</td>\n",
       "      <td>10.736058</td>\n",
       "    </tr>\n",
       "    <tr>\n",
       "      <th>Index 3</th>\n",
       "      <td>-6.578314</td>\n",
       "      <td>4.997114</td>\n",
       "      <td>-6.464901</td>\n",
       "      <td>0.021843</td>\n",
       "      <td>-2.473564</td>\n",
       "      <td>-19.782094</td>\n",
       "      <td>11.556567</td>\n",
       "      <td>4.545686</td>\n",
       "      <td>13.854239</td>\n",
       "      <td>-1.138480</td>\n",
       "      <td>-1.245364</td>\n",
       "      <td>-24.905710</td>\n",
       "    </tr>\n",
       "    <tr>\n",
       "      <th>Index 4</th>\n",
       "      <td>-0.753812</td>\n",
       "      <td>-3.029928</td>\n",
       "      <td>-10.729667</td>\n",
       "      <td>-12.453821</td>\n",
       "      <td>-13.675471</td>\n",
       "      <td>6.621271</td>\n",
       "      <td>-10.122960</td>\n",
       "      <td>-10.974487</td>\n",
       "      <td>-0.734146</td>\n",
       "      <td>-7.829734</td>\n",
       "      <td>-6.770842</td>\n",
       "      <td>-13.666861</td>\n",
       "    </tr>\n",
       "    <tr>\n",
       "      <th>...</th>\n",
       "      <td>...</td>\n",
       "      <td>...</td>\n",
       "      <td>...</td>\n",
       "      <td>...</td>\n",
       "      <td>...</td>\n",
       "      <td>...</td>\n",
       "      <td>...</td>\n",
       "      <td>...</td>\n",
       "      <td>...</td>\n",
       "      <td>...</td>\n",
       "      <td>...</td>\n",
       "      <td>...</td>\n",
       "    </tr>\n",
       "    <tr>\n",
       "      <th>Index 95</th>\n",
       "      <td>-4.112835</td>\n",
       "      <td>7.385291</td>\n",
       "      <td>-13.851625</td>\n",
       "      <td>-6.078196</td>\n",
       "      <td>11.023885</td>\n",
       "      <td>-5.512976</td>\n",
       "      <td>1.231175</td>\n",
       "      <td>6.411213</td>\n",
       "      <td>-1.683794</td>\n",
       "      <td>4.646666</td>\n",
       "      <td>18.364089</td>\n",
       "      <td>6.956441</td>\n",
       "    </tr>\n",
       "    <tr>\n",
       "      <th>Index 96</th>\n",
       "      <td>-4.436619</td>\n",
       "      <td>2.669846</td>\n",
       "      <td>6.218075</td>\n",
       "      <td>-9.575880</td>\n",
       "      <td>-3.399697</td>\n",
       "      <td>14.107305</td>\n",
       "      <td>-8.542899</td>\n",
       "      <td>7.253396</td>\n",
       "      <td>-0.474596</td>\n",
       "      <td>-11.268330</td>\n",
       "      <td>19.082276</td>\n",
       "      <td>1.434360</td>\n",
       "    </tr>\n",
       "    <tr>\n",
       "      <th>Index 97</th>\n",
       "      <td>-2.641866</td>\n",
       "      <td>-0.605210</td>\n",
       "      <td>-1.159309</td>\n",
       "      <td>10.960797</td>\n",
       "      <td>-20.105969</td>\n",
       "      <td>10.573056</td>\n",
       "      <td>3.127534</td>\n",
       "      <td>2.846807</td>\n",
       "      <td>7.143668</td>\n",
       "      <td>5.478037</td>\n",
       "      <td>0.536783</td>\n",
       "      <td>2.569418</td>\n",
       "    </tr>\n",
       "    <tr>\n",
       "      <th>Index 98</th>\n",
       "      <td>13.237843</td>\n",
       "      <td>-13.885348</td>\n",
       "      <td>18.912088</td>\n",
       "      <td>3.159741</td>\n",
       "      <td>-8.686046</td>\n",
       "      <td>-5.722742</td>\n",
       "      <td>4.098118</td>\n",
       "      <td>3.469731</td>\n",
       "      <td>-7.391454</td>\n",
       "      <td>7.783543</td>\n",
       "      <td>-8.647712</td>\n",
       "      <td>-10.910139</td>\n",
       "    </tr>\n",
       "    <tr>\n",
       "      <th>Index 99</th>\n",
       "      <td>16.327530</td>\n",
       "      <td>9.128792</td>\n",
       "      <td>11.217098</td>\n",
       "      <td>8.639888</td>\n",
       "      <td>0.715028</td>\n",
       "      <td>-1.312129</td>\n",
       "      <td>-1.885473</td>\n",
       "      <td>10.439447</td>\n",
       "      <td>0.101048</td>\n",
       "      <td>-0.820258</td>\n",
       "      <td>-3.173715</td>\n",
       "      <td>5.438891</td>\n",
       "    </tr>\n",
       "  </tbody>\n",
       "</table>\n",
       "<p>100 rows × 12 columns</p>\n",
       "</div>"
      ],
      "text/plain": [
       "              Col 0      Col 1      Col 2      Col 3      Col 4      Col 5  \\\n",
       "Index 0    4.076693 -11.592472   5.758058   1.995488   7.433482  -2.697633   \n",
       "Index 1   -4.504057  13.487790  19.387826  10.307054  -9.967062  17.347022   \n",
       "Index 2    4.473407  -4.188944  -9.067113 -20.351787  10.067044 -11.084616   \n",
       "Index 3   -6.578314   4.997114  -6.464901   0.021843  -2.473564 -19.782094   \n",
       "Index 4   -0.753812  -3.029928 -10.729667 -12.453821 -13.675471   6.621271   \n",
       "...             ...        ...        ...        ...        ...        ...   \n",
       "Index 95  -4.112835   7.385291 -13.851625  -6.078196  11.023885  -5.512976   \n",
       "Index 96  -4.436619   2.669846   6.218075  -9.575880  -3.399697  14.107305   \n",
       "Index 97  -2.641866  -0.605210  -1.159309  10.960797 -20.105969  10.573056   \n",
       "Index 98  13.237843 -13.885348  18.912088   3.159741  -8.686046  -5.722742   \n",
       "Index 99  16.327530   9.128792  11.217098   8.639888   0.715028  -1.312129   \n",
       "\n",
       "              Col 6      Col 7      Col 8      Col 9     Col 10     Col 11  \n",
       "Index 0   10.386505   1.392989  -8.091764  -9.263259  13.398781   3.364558  \n",
       "Index 1   -7.131536   8.946958  -4.560652  -1.350351  10.932789  14.030532  \n",
       "Index 2   -2.390302 -10.064766 -10.909624   3.213494  18.101500  10.736058  \n",
       "Index 3   11.556567   4.545686  13.854239  -1.138480  -1.245364 -24.905710  \n",
       "Index 4  -10.122960 -10.974487  -0.734146  -7.829734  -6.770842 -13.666861  \n",
       "...             ...        ...        ...        ...        ...        ...  \n",
       "Index 95   1.231175   6.411213  -1.683794   4.646666  18.364089   6.956441  \n",
       "Index 96  -8.542899   7.253396  -0.474596 -11.268330  19.082276   1.434360  \n",
       "Index 97   3.127534   2.846807   7.143668   5.478037   0.536783   2.569418  \n",
       "Index 98   4.098118   3.469731  -7.391454   7.783543  -8.647712 -10.910139  \n",
       "Index 99  -1.885473  10.439447   0.101048  -0.820258  -3.173715   5.438891  \n",
       "\n",
       "[100 rows x 12 columns]"
      ]
     },
     "execution_count": 15,
     "metadata": {},
     "output_type": "execute_result"
    }
   ],
   "source": [
    "df_excel"
   ]
>>>>>>> Stashed changes
  },
  {
   "cell_type": "code",
   "execution_count": 17,
   "id": "3c845abeb3d1dd06",
<<<<<<< Updated upstream
   "metadata": {
    "lines_to_next_cell": 2
   },
   "outputs": [],
   "source": []
=======
   "metadata": {},
   "outputs": [
    {
     "data": {
      "text/html": [
       "<div>\n",
       "<style scoped>\n",
       "    .dataframe tbody tr th:only-of-type {\n",
       "        vertical-align: middle;\n",
       "    }\n",
       "\n",
       "    .dataframe tbody tr th {\n",
       "        vertical-align: top;\n",
       "    }\n",
       "\n",
       "    .dataframe thead th {\n",
       "        text-align: right;\n",
       "    }\n",
       "</style>\n",
       "<table border=\"1\" class=\"dataframe\">\n",
       "  <thead>\n",
       "    <tr style=\"text-align: right;\">\n",
       "      <th></th>\n",
       "      <th>-9.071786</th>\n",
       "      <th>-11.236758</th>\n",
       "      <th>2.218171</th>\n",
       "    </tr>\n",
       "  </thead>\n",
       "  <tbody>\n",
       "    <tr>\n",
       "      <th>0</th>\n",
       "      <td>-9.766850</td>\n",
       "      <td>-6.558586</td>\n",
       "      <td>-7.532231</td>\n",
       "    </tr>\n",
       "    <tr>\n",
       "      <th>1</th>\n",
       "      <td>-0.974754</td>\n",
       "      <td>-7.153281</td>\n",
       "      <td>2.798292</td>\n",
       "    </tr>\n",
       "    <tr>\n",
       "      <th>2</th>\n",
       "      <td>10.134367</td>\n",
       "      <td>-4.369057</td>\n",
       "      <td>-15.880210</td>\n",
       "    </tr>\n",
       "    <tr>\n",
       "      <th>3</th>\n",
       "      <td>12.319482</td>\n",
       "      <td>2.746217</td>\n",
       "      <td>6.987371</td>\n",
       "    </tr>\n",
       "    <tr>\n",
       "      <th>4</th>\n",
       "      <td>3.138766</td>\n",
       "      <td>-2.165214</td>\n",
       "      <td>2.617773</td>\n",
       "    </tr>\n",
       "    <tr>\n",
       "      <th>5</th>\n",
       "      <td>-24.955057</td>\n",
       "      <td>-10.417922</td>\n",
       "      <td>-17.464209</td>\n",
       "    </tr>\n",
       "    <tr>\n",
       "      <th>6</th>\n",
       "      <td>-13.253936</td>\n",
       "      <td>11.754344</td>\n",
       "      <td>-4.116406</td>\n",
       "    </tr>\n",
       "  </tbody>\n",
       "</table>\n",
       "</div>"
      ],
      "text/plain": [
       "   -9.071786   -11.236758   2.218171 \n",
       "0   -9.766850   -6.558586   -7.532231\n",
       "1   -0.974754   -7.153281    2.798292\n",
       "2   10.134367   -4.369057  -15.880210\n",
       "3   12.319482    2.746217    6.987371\n",
       "4    3.138766   -2.165214    2.617773\n",
       "5  -24.955057  -10.417922  -17.464209\n",
       "6  -13.253936   11.754344   -4.116406"
      ]
     },
     "execution_count": 17,
     "metadata": {},
     "output_type": "execute_result"
    }
   ],
   "source": [
    "df_excel2 = pd.read_excel(pandas_dir_path + \"excel_other_sheet.xlsx\")\n",
    "df_excel2"
   ]
>>>>>>> Stashed changes
  },
  {
   "cell_type": "code",
   "execution_count": 18,
   "id": "3213c6c7dd94fd5a",
   "metadata": {
    "lines_to_next_cell": 2
   },
   "outputs": [],
   "source": [
    "df_excel2 = pd.read_excel(pandas_dir_path + \"excel_other_sheet.xlsx\", index_col=0,\n",
    "                         sheet_name=\"Another Sheet\", header=0, skiprows=[1])"
   ]
  },
  {
   "cell_type": "code",
<<<<<<< Updated upstream
   "execution_count": null,
   "id": "946dfa06c3475995",
   "metadata": {
    "lines_to_next_cell": 2
   },
   "outputs": [],
   "source": []
=======
   "execution_count": 19,
   "id": "f15c98e15140a582",
   "metadata": {},
   "outputs": [
    {
     "data": {
      "text/html": [
       "<div>\n",
       "<style scoped>\n",
       "    .dataframe tbody tr th:only-of-type {\n",
       "        vertical-align: middle;\n",
       "    }\n",
       "\n",
       "    .dataframe tbody tr th {\n",
       "        vertical-align: top;\n",
       "    }\n",
       "\n",
       "    .dataframe thead th {\n",
       "        text-align: right;\n",
       "    }\n",
       "</style>\n",
       "<table border=\"1\" class=\"dataframe\">\n",
       "  <thead>\n",
       "    <tr style=\"text-align: right;\">\n",
       "      <th></th>\n",
       "      <th>Col 0</th>\n",
       "      <th>Col 1</th>\n",
       "      <th>Col 2</th>\n",
       "      <th>Col 3</th>\n",
       "      <th>Col 4</th>\n",
       "      <th>Col 5</th>\n",
       "      <th>Col 6</th>\n",
       "      <th>Col 7</th>\n",
       "    </tr>\n",
       "  </thead>\n",
       "  <tbody>\n",
       "    <tr>\n",
       "      <th>Index 0</th>\n",
       "      <td>4.076693</td>\n",
       "      <td>-11.592472</td>\n",
       "      <td>5.758058</td>\n",
       "      <td>1.995488</td>\n",
       "      <td>7.433482</td>\n",
       "      <td>-2.697633</td>\n",
       "      <td>10.386505</td>\n",
       "      <td>1.392989</td>\n",
       "    </tr>\n",
       "    <tr>\n",
       "      <th>Index 1</th>\n",
       "      <td>-8.091764</td>\n",
       "      <td>-9.263259</td>\n",
       "      <td>13.398781</td>\n",
       "      <td>3.364558</td>\n",
       "      <td>-4.504057</td>\n",
       "      <td>13.487790</td>\n",
       "      <td>19.387826</td>\n",
       "      <td>10.307054</td>\n",
       "    </tr>\n",
       "    <tr>\n",
       "      <th>Index 2</th>\n",
       "      <td>-9.967062</td>\n",
       "      <td>17.347022</td>\n",
       "      <td>-7.131536</td>\n",
       "      <td>8.946958</td>\n",
       "      <td>-4.560652</td>\n",
       "      <td>-1.350351</td>\n",
       "      <td>10.932789</td>\n",
       "      <td>14.030532</td>\n",
       "    </tr>\n",
       "    <tr>\n",
       "      <th>Index 3</th>\n",
       "      <td>4.473407</td>\n",
       "      <td>-4.188944</td>\n",
       "      <td>-9.067113</td>\n",
       "      <td>-20.351787</td>\n",
       "      <td>10.067044</td>\n",
       "      <td>-11.084616</td>\n",
       "      <td>-2.390302</td>\n",
       "      <td>-10.064766</td>\n",
       "    </tr>\n",
       "    <tr>\n",
       "      <th>Index 4</th>\n",
       "      <td>-10.909624</td>\n",
       "      <td>3.213494</td>\n",
       "      <td>18.101500</td>\n",
       "      <td>10.736058</td>\n",
       "      <td>-6.578314</td>\n",
       "      <td>4.997114</td>\n",
       "      <td>-6.464901</td>\n",
       "      <td>0.021843</td>\n",
       "    </tr>\n",
       "    <tr>\n",
       "      <th>Index 5</th>\n",
       "      <td>-2.473564</td>\n",
       "      <td>-19.782094</td>\n",
       "      <td>11.556567</td>\n",
       "      <td>4.545686</td>\n",
       "      <td>13.854239</td>\n",
       "      <td>-1.138480</td>\n",
       "      <td>-1.245364</td>\n",
       "      <td>-24.905710</td>\n",
       "    </tr>\n",
       "    <tr>\n",
       "      <th>Index 6</th>\n",
       "      <td>-0.753812</td>\n",
       "      <td>-3.029928</td>\n",
       "      <td>-10.729667</td>\n",
       "      <td>-12.453821</td>\n",
       "      <td>-13.675471</td>\n",
       "      <td>6.621271</td>\n",
       "      <td>-10.122960</td>\n",
       "      <td>-10.974487</td>\n",
       "    </tr>\n",
       "    <tr>\n",
       "      <th>Index 7</th>\n",
       "      <td>-0.734146</td>\n",
       "      <td>-7.829734</td>\n",
       "      <td>-6.770842</td>\n",
       "      <td>-13.666861</td>\n",
       "      <td>-0.828199</td>\n",
       "      <td>-0.644818</td>\n",
       "      <td>3.540565</td>\n",
       "      <td>5.350003</td>\n",
       "    </tr>\n",
       "    <tr>\n",
       "      <th>Index 8</th>\n",
       "      <td>0.165503</td>\n",
       "      <td>-1.289419</td>\n",
       "      <td>-1.626782</td>\n",
       "      <td>-2.533545</td>\n",
       "      <td>NaN</td>\n",
       "      <td>NaN</td>\n",
       "      <td>NaN</td>\n",
       "      <td>-0.750818</td>\n",
       "    </tr>\n",
       "    <tr>\n",
       "      <th>Index 9</th>\n",
       "      <td>12.889947</td>\n",
       "      <td>0.933910</td>\n",
       "      <td>-14.640774</td>\n",
       "      <td>-0.645609</td>\n",
       "      <td>NaN</td>\n",
       "      <td>NaN</td>\n",
       "      <td>NaN</td>\n",
       "      <td>15.311913</td>\n",
       "    </tr>\n",
       "    <tr>\n",
       "      <th>Index 10</th>\n",
       "      <td>-13.661006</td>\n",
       "      <td>-18.583070</td>\n",
       "      <td>-9.071786</td>\n",
       "      <td>-11.236758</td>\n",
       "      <td>NaN</td>\n",
       "      <td>NaN</td>\n",
       "      <td>NaN</td>\n",
       "      <td>11.810887</td>\n",
       "    </tr>\n",
       "    <tr>\n",
       "      <th>Index 11</th>\n",
       "      <td>16.074504</td>\n",
       "      <td>2.465072</td>\n",
       "      <td>-9.766850</td>\n",
       "      <td>-6.558586</td>\n",
       "      <td>NaN</td>\n",
       "      <td>NaN</td>\n",
       "      <td>NaN</td>\n",
       "      <td>-11.873774</td>\n",
       "    </tr>\n",
       "    <tr>\n",
       "      <th>Index 12</th>\n",
       "      <td>-5.808213</td>\n",
       "      <td>-9.294275</td>\n",
       "      <td>-0.974754</td>\n",
       "      <td>-7.153281</td>\n",
       "      <td>NaN</td>\n",
       "      <td>NaN</td>\n",
       "      <td>NaN</td>\n",
       "      <td>-16.270175</td>\n",
       "    </tr>\n",
       "    <tr>\n",
       "      <th>Index 13</th>\n",
       "      <td>-8.644481</td>\n",
       "      <td>2.059640</td>\n",
       "      <td>10.134367</td>\n",
       "      <td>-4.369057</td>\n",
       "      <td>NaN</td>\n",
       "      <td>NaN</td>\n",
       "      <td>NaN</td>\n",
       "      <td>0.467360</td>\n",
       "    </tr>\n",
       "    <tr>\n",
       "      <th>Index 14</th>\n",
       "      <td>-1.094581</td>\n",
       "      <td>-4.670784</td>\n",
       "      <td>12.319482</td>\n",
       "      <td>2.746217</td>\n",
       "      <td>NaN</td>\n",
       "      <td>NaN</td>\n",
       "      <td>NaN</td>\n",
       "      <td>3.283506</td>\n",
       "    </tr>\n",
       "    <tr>\n",
       "      <th>Index 15</th>\n",
       "      <td>-5.681754</td>\n",
       "      <td>8.686976</td>\n",
       "      <td>3.138766</td>\n",
       "      <td>-2.165214</td>\n",
       "      <td>2.617773</td>\n",
       "      <td>8.108799</td>\n",
       "      <td>-5.146391</td>\n",
       "      <td>10.147470</td>\n",
       "    </tr>\n",
       "    <tr>\n",
       "      <th>Index 16</th>\n",
       "      <td>14.154946</td>\n",
       "      <td>2.811089</td>\n",
       "      <td>-24.955057</td>\n",
       "      <td>-10.417922</td>\n",
       "      <td>-17.464209</td>\n",
       "      <td>-3.920063</td>\n",
       "      <td>13.587399</td>\n",
       "      <td>-21.349195</td>\n",
       "    </tr>\n",
       "    <tr>\n",
       "      <th>Index 17</th>\n",
       "      <td>-3.194137</td>\n",
       "      <td>-4.791233</td>\n",
       "      <td>-13.253936</td>\n",
       "      <td>11.754344</td>\n",
       "      <td>-4.116406</td>\n",
       "      <td>6.791300</td>\n",
       "      <td>19.764398</td>\n",
       "      <td>6.826938</td>\n",
       "    </tr>\n",
       "    <tr>\n",
       "      <th>Index 18</th>\n",
       "      <td>-3.235258</td>\n",
       "      <td>-7.330595</td>\n",
       "      <td>-8.497637</td>\n",
       "      <td>-13.348445</td>\n",
       "      <td>6.651423</td>\n",
       "      <td>12.166240</td>\n",
       "      <td>-11.067455</td>\n",
       "      <td>-17.103336</td>\n",
       "    </tr>\n",
       "    <tr>\n",
       "      <th>Index 19</th>\n",
       "      <td>5.013643</td>\n",
       "      <td>-5.051558</td>\n",
       "      <td>-6.125379</td>\n",
       "      <td>-14.471378</td>\n",
       "      <td>5.101123</td>\n",
       "      <td>-8.613830</td>\n",
       "      <td>-8.463999</td>\n",
       "      <td>2.076160</td>\n",
       "    </tr>\n",
       "    <tr>\n",
       "      <th>Index 20</th>\n",
       "      <td>5.993891</td>\n",
       "      <td>-3.101608</td>\n",
       "      <td>-4.915671</td>\n",
       "      <td>13.708721</td>\n",
       "      <td>-14.580271</td>\n",
       "      <td>-10.087349</td>\n",
       "      <td>-26.999000</td>\n",
       "      <td>6.557271</td>\n",
       "    </tr>\n",
       "    <tr>\n",
       "      <th>Index 21</th>\n",
       "      <td>8.542760</td>\n",
       "      <td>-11.709776</td>\n",
       "      <td>-15.916397</td>\n",
       "      <td>9.789357</td>\n",
       "      <td>14.911542</td>\n",
       "      <td>-3.294862</td>\n",
       "      <td>-18.474668</td>\n",
       "      <td>1.105944</td>\n",
       "    </tr>\n",
       "    <tr>\n",
       "      <th>Index 22</th>\n",
       "      <td>-1.871094</td>\n",
       "      <td>8.269590</td>\n",
       "      <td>-3.396299</td>\n",
       "      <td>-4.720659</td>\n",
       "      <td>-13.952470</td>\n",
       "      <td>16.427699</td>\n",
       "      <td>-3.452500</td>\n",
       "      <td>-13.871153</td>\n",
       "    </tr>\n",
       "    <tr>\n",
       "      <th>Index 23</th>\n",
       "      <td>-6.876974</td>\n",
       "      <td>14.917401</td>\n",
       "      <td>3.963509</td>\n",
       "      <td>-3.326557</td>\n",
       "      <td>-2.695235</td>\n",
       "      <td>1.051745</td>\n",
       "      <td>2.530809</td>\n",
       "      <td>11.914568</td>\n",
       "    </tr>\n",
       "    <tr>\n",
       "      <th>Index 24</th>\n",
       "      <td>0.841162</td>\n",
       "      <td>7.687122</td>\n",
       "      <td>4.967231</td>\n",
       "      <td>-15.345328</td>\n",
       "      <td>1.334484</td>\n",
       "      <td>-10.645924</td>\n",
       "      <td>16.017387</td>\n",
       "      <td>11.683240</td>\n",
       "    </tr>\n",
       "    <tr>\n",
       "      <th>Index 25</th>\n",
       "      <td>4.454687</td>\n",
       "      <td>-1.582249</td>\n",
       "      <td>-10.866368</td>\n",
       "      <td>0.616502</td>\n",
       "      <td>2.156186</td>\n",
       "      <td>-1.022333</td>\n",
       "      <td>16.095656</td>\n",
       "      <td>-2.021888</td>\n",
       "    </tr>\n",
       "    <tr>\n",
       "      <th>Index 26</th>\n",
       "      <td>12.215570</td>\n",
       "      <td>-10.745196</td>\n",
       "      <td>-21.878431</td>\n",
       "      <td>-5.875586</td>\n",
       "      <td>23.171934</td>\n",
       "      <td>-3.376302</td>\n",
       "      <td>6.268313</td>\n",
       "      <td>5.913613</td>\n",
       "    </tr>\n",
       "    <tr>\n",
       "      <th>Index 27</th>\n",
       "      <td>-0.843478</td>\n",
       "      <td>12.967564</td>\n",
       "      <td>3.672000</td>\n",
       "      <td>10.744238</td>\n",
       "      <td>-2.773930</td>\n",
       "      <td>-7.003113</td>\n",
       "      <td>4.966198</td>\n",
       "      <td>-16.442373</td>\n",
       "    </tr>\n",
       "    <tr>\n",
       "      <th>Index 28</th>\n",
       "      <td>-29.230514</td>\n",
       "      <td>5.548853</td>\n",
       "      <td>0.407130</td>\n",
       "      <td>9.430886</td>\n",
       "      <td>-16.436991</td>\n",
       "      <td>19.464990</td>\n",
       "      <td>-4.231896</td>\n",
       "      <td>-10.203891</td>\n",
       "    </tr>\n",
       "    <tr>\n",
       "      <th>Index 29</th>\n",
       "      <td>5.779637</td>\n",
       "      <td>7.449505</td>\n",
       "      <td>11.109144</td>\n",
       "      <td>-13.702329</td>\n",
       "      <td>-11.486755</td>\n",
       "      <td>12.819939</td>\n",
       "      <td>10.172557</td>\n",
       "      <td>14.144111</td>\n",
       "    </tr>\n",
       "  </tbody>\n",
       "</table>\n",
       "</div>"
      ],
      "text/plain": [
       "              Col 0      Col 1      Col 2      Col 3      Col 4      Col 5  \\\n",
       "Index 0    4.076693 -11.592472   5.758058   1.995488   7.433482  -2.697633   \n",
       "Index 1   -8.091764  -9.263259  13.398781   3.364558  -4.504057  13.487790   \n",
       "Index 2   -9.967062  17.347022  -7.131536   8.946958  -4.560652  -1.350351   \n",
       "Index 3    4.473407  -4.188944  -9.067113 -20.351787  10.067044 -11.084616   \n",
       "Index 4  -10.909624   3.213494  18.101500  10.736058  -6.578314   4.997114   \n",
       "Index 5   -2.473564 -19.782094  11.556567   4.545686  13.854239  -1.138480   \n",
       "Index 6   -0.753812  -3.029928 -10.729667 -12.453821 -13.675471   6.621271   \n",
       "Index 7   -0.734146  -7.829734  -6.770842 -13.666861  -0.828199  -0.644818   \n",
       "Index 8    0.165503  -1.289419  -1.626782  -2.533545        NaN        NaN   \n",
       "Index 9   12.889947   0.933910 -14.640774  -0.645609        NaN        NaN   \n",
       "Index 10 -13.661006 -18.583070  -9.071786 -11.236758        NaN        NaN   \n",
       "Index 11  16.074504   2.465072  -9.766850  -6.558586        NaN        NaN   \n",
       "Index 12  -5.808213  -9.294275  -0.974754  -7.153281        NaN        NaN   \n",
       "Index 13  -8.644481   2.059640  10.134367  -4.369057        NaN        NaN   \n",
       "Index 14  -1.094581  -4.670784  12.319482   2.746217        NaN        NaN   \n",
       "Index 15  -5.681754   8.686976   3.138766  -2.165214   2.617773   8.108799   \n",
       "Index 16  14.154946   2.811089 -24.955057 -10.417922 -17.464209  -3.920063   \n",
       "Index 17  -3.194137  -4.791233 -13.253936  11.754344  -4.116406   6.791300   \n",
       "Index 18  -3.235258  -7.330595  -8.497637 -13.348445   6.651423  12.166240   \n",
       "Index 19   5.013643  -5.051558  -6.125379 -14.471378   5.101123  -8.613830   \n",
       "Index 20   5.993891  -3.101608  -4.915671  13.708721 -14.580271 -10.087349   \n",
       "Index 21   8.542760 -11.709776 -15.916397   9.789357  14.911542  -3.294862   \n",
       "Index 22  -1.871094   8.269590  -3.396299  -4.720659 -13.952470  16.427699   \n",
       "Index 23  -6.876974  14.917401   3.963509  -3.326557  -2.695235   1.051745   \n",
       "Index 24   0.841162   7.687122   4.967231 -15.345328   1.334484 -10.645924   \n",
       "Index 25   4.454687  -1.582249 -10.866368   0.616502   2.156186  -1.022333   \n",
       "Index 26  12.215570 -10.745196 -21.878431  -5.875586  23.171934  -3.376302   \n",
       "Index 27  -0.843478  12.967564   3.672000  10.744238  -2.773930  -7.003113   \n",
       "Index 28 -29.230514   5.548853   0.407130   9.430886 -16.436991  19.464990   \n",
       "Index 29   5.779637   7.449505  11.109144 -13.702329 -11.486755  12.819939   \n",
       "\n",
       "              Col 6      Col 7  \n",
       "Index 0   10.386505   1.392989  \n",
       "Index 1   19.387826  10.307054  \n",
       "Index 2   10.932789  14.030532  \n",
       "Index 3   -2.390302 -10.064766  \n",
       "Index 4   -6.464901   0.021843  \n",
       "Index 5   -1.245364 -24.905710  \n",
       "Index 6  -10.122960 -10.974487  \n",
       "Index 7    3.540565   5.350003  \n",
       "Index 8         NaN  -0.750818  \n",
       "Index 9         NaN  15.311913  \n",
       "Index 10        NaN  11.810887  \n",
       "Index 11        NaN -11.873774  \n",
       "Index 12        NaN -16.270175  \n",
       "Index 13        NaN   0.467360  \n",
       "Index 14        NaN   3.283506  \n",
       "Index 15  -5.146391  10.147470  \n",
       "Index 16  13.587399 -21.349195  \n",
       "Index 17  19.764398   6.826938  \n",
       "Index 18 -11.067455 -17.103336  \n",
       "Index 19  -8.463999   2.076160  \n",
       "Index 20 -26.999000   6.557271  \n",
       "Index 21 -18.474668   1.105944  \n",
       "Index 22  -3.452500 -13.871153  \n",
       "Index 23   2.530809  11.914568  \n",
       "Index 24  16.017387  11.683240  \n",
       "Index 25  16.095656  -2.021888  \n",
       "Index 26   6.268313   5.913613  \n",
       "Index 27   4.966198 -16.442373  \n",
       "Index 28  -4.231896 -10.203891  \n",
       "Index 29  10.172557  14.144111  "
      ]
     },
     "execution_count": 19,
     "metadata": {},
     "output_type": "execute_result"
    }
   ],
   "source": [
    "df_excel2"
   ]
>>>>>>> Stashed changes
  },
  {
   "cell_type": "code",
   "execution_count": 20,
   "id": "56ae76ea629092ab",
   "metadata": {},
   "outputs": [
    {
     "data": {
      "text/html": [
       "<div>\n",
       "<style scoped>\n",
       "    .dataframe tbody tr th:only-of-type {\n",
       "        vertical-align: middle;\n",
       "    }\n",
       "\n",
       "    .dataframe tbody tr th {\n",
       "        vertical-align: top;\n",
       "    }\n",
       "\n",
       "    .dataframe thead th {\n",
       "        text-align: right;\n",
       "    }\n",
       "</style>\n",
       "<table border=\"1\" class=\"dataframe\">\n",
       "  <thead>\n",
       "    <tr style=\"text-align: right;\">\n",
       "      <th></th>\n",
       "      <th>Col 0</th>\n",
       "      <th>Col 1</th>\n",
       "      <th>Col 2</th>\n",
       "      <th>Col 3</th>\n",
       "      <th>Col 4</th>\n",
       "      <th>Col 5</th>\n",
       "      <th>Col 6</th>\n",
       "      <th>Col 7</th>\n",
       "    </tr>\n",
       "  </thead>\n",
       "  <tbody>\n",
       "    <tr>\n",
       "      <th>Index 0</th>\n",
       "      <td>4.076693</td>\n",
       "      <td>-11.592472</td>\n",
       "      <td>5.758058</td>\n",
       "      <td>1.995488</td>\n",
       "      <td>7.433482</td>\n",
       "      <td>-2.697633</td>\n",
       "      <td>10.386505</td>\n",
       "      <td>1.392989</td>\n",
       "    </tr>\n",
       "    <tr>\n",
       "      <th>Index 1</th>\n",
       "      <td>-8.091764</td>\n",
       "      <td>-9.263259</td>\n",
       "      <td>13.398781</td>\n",
       "      <td>3.364558</td>\n",
       "      <td>-4.504057</td>\n",
       "      <td>13.487790</td>\n",
       "      <td>19.387826</td>\n",
       "      <td>10.307054</td>\n",
       "    </tr>\n",
       "    <tr>\n",
       "      <th>Index 2</th>\n",
       "      <td>-9.967062</td>\n",
       "      <td>17.347022</td>\n",
       "      <td>-7.131536</td>\n",
       "      <td>8.946958</td>\n",
       "      <td>-4.560652</td>\n",
       "      <td>-1.350351</td>\n",
       "      <td>10.932789</td>\n",
       "      <td>14.030532</td>\n",
       "    </tr>\n",
       "    <tr>\n",
       "      <th>Index 3</th>\n",
       "      <td>4.473407</td>\n",
       "      <td>-4.188944</td>\n",
       "      <td>-9.067113</td>\n",
       "      <td>-20.351787</td>\n",
       "      <td>10.067044</td>\n",
       "      <td>-11.084616</td>\n",
       "      <td>-2.390302</td>\n",
       "      <td>-10.064766</td>\n",
       "    </tr>\n",
       "    <tr>\n",
       "      <th>Index 4</th>\n",
       "      <td>-10.909624</td>\n",
       "      <td>3.213494</td>\n",
       "      <td>18.101500</td>\n",
       "      <td>10.736058</td>\n",
       "      <td>-6.578314</td>\n",
       "      <td>4.997114</td>\n",
       "      <td>-6.464901</td>\n",
       "      <td>0.021843</td>\n",
       "    </tr>\n",
       "  </tbody>\n",
       "</table>\n",
       "</div>"
      ],
      "text/plain": [
       "             Col 0      Col 1      Col 2      Col 3      Col 4      Col 5  \\\n",
       "Index 0   4.076693 -11.592472   5.758058   1.995488   7.433482  -2.697633   \n",
       "Index 1  -8.091764  -9.263259  13.398781   3.364558  -4.504057  13.487790   \n",
       "Index 2  -9.967062  17.347022  -7.131536   8.946958  -4.560652  -1.350351   \n",
       "Index 3   4.473407  -4.188944  -9.067113 -20.351787  10.067044 -11.084616   \n",
       "Index 4 -10.909624   3.213494  18.101500  10.736058  -6.578314   4.997114   \n",
       "\n",
       "             Col 6      Col 7  \n",
       "Index 0  10.386505   1.392989  \n",
       "Index 1  19.387826  10.307054  \n",
       "Index 2  10.932789  14.030532  \n",
       "Index 3  -2.390302 -10.064766  \n",
       "Index 4  -6.464901   0.021843  "
      ]
     },
     "execution_count": 20,
     "metadata": {},
     "output_type": "execute_result"
    }
   ],
   "source": [
    "df_excel2.head()"
   ]
  },
  {
   "cell_type": "markdown",
   "id": "4d1a16054e77dac7",
   "metadata": {
    "lang": "de"
   },
   "source": [
    "\n",
    "### Andere Formate:\n",
    "\n",
    "- `pd.read_clipboard`\n",
    "- `pd.read_html`\n",
    "- `pd.read_json`\n",
    "- `pd.read_pickle`\n",
    "- `pd.read_sql` (verwendet SQLAlchemy um auf die Datenbank zuzugreifen)\n",
    "- ..."
   ]
  },
  {
   "cell_type": "markdown",
   "id": "14f85dfc80e17722",
   "metadata": {
    "lang": "de"
   },
   "source": [
    "# Plotten von Data Frames"
   ]
  },
  {
   "cell_type": "code",
   "execution_count": 23,
   "id": "18423962",
   "metadata": {},
   "outputs": [
    {
     "data": {
      "text/plain": [
       "pandas.core.series.Series"
      ]
     },
     "execution_count": 23,
     "metadata": {},
     "output_type": "execute_result"
    }
   ],
   "source": [
    "type(df_csv[\"Col 0\"])"
   ]
  },
  {
   "cell_type": "code",
   "execution_count": 21,
   "id": "4d8bb40fb2a3321a",
   "metadata": {
    "tags": [
     "keep"
    ]
   },
   "outputs": [
    {
     "data": {
      "image/png": "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\n",
      "text/plain": [
       "<Figure size 640x480 with 1 Axes>"
      ]
     },
     "metadata": {},
     "output_type": "display_data"
    }
   ],
   "source": [
    "df_csv[\"Col 0\"].hist(bins=15);"
   ]
  },
  {
   "cell_type": "code",
   "execution_count": 24,
   "id": "b4d8724ab251c95a",
   "metadata": {
    "tags": [
     "keep"
    ]
   },
   "outputs": [
    {
     "data": {
      "image/png": "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\n",
      "text/plain": [
       "<Figure size 1200x800 with 9 Axes>"
      ]
     },
     "metadata": {},
     "output_type": "display_data"
    }
   ],
   "source": [
    "df_csv.hist(bins=20, figsize=(12, 8));"
   ]
  },
  {
   "cell_type": "code",
   "execution_count": 25,
   "id": "e35ff60fc1bbace5",
   "metadata": {
    "tags": [
     "keep"
    ]
   },
   "outputs": [
    {
     "data": {
      "image/png": "iVBORw0KGgoAAAANSUhEUgAAAj4AAAG1CAYAAAD5rf4qAAAAOXRFWHRTb2Z0d2FyZQBNYXRwbG90bGliIHZlcnNpb24zLjUuMywgaHR0cHM6Ly9tYXRwbG90bGliLm9yZy/NK7nSAAAACXBIWXMAAA9hAAAPYQGoP6dpAACUFUlEQVR4nO29e3gU5d3//96EEJJANpsDh0BIggQKBDRAghxEghXtY1Xkqa1oDSD6FDnVKrVF+yvYr4C1YH2MoG2lKFZj6+MBak/QEkBASCBEjiIhRwkxIUeSYI7z+2OZZXZ2DvfMzu7O7n5e18V1kZ3D3nPP7Nzv+3N/DhaO4zgQBEEQBEEEASG+bgBBEARBEIS3IOFDEARBEETQQMKHIAiCIIiggYQPQRAEQRBBAwkfgiAIgiCCBhI+BEEQBEEEDSR8CIIgCIIIGkj4EARBEAQRNJDwIQiCIAgiaCDhQxAEQRBE0OC3wmfDhg2wWCx44oknHJ9xHIe1a9ciMTERERERmDVrFk6fPu27RhIEQRAEYSr8UvgUFhbi97//PSZMmOD0+YsvvoiXXnoJr776KgoLCzF48GDcfvvtuHLlio9aShAEQRCEmejj6wZopbW1FQ899BD+8Ic/4Pnnn3d8znEcXn75ZTz77LOYN28eAOCtt97CoEGD8O677+JHP/oR0/l7e3tRXV2NAQMGwGKxeOQaCIIgCIIwFo7jcOXKFSQmJiIkRN6u43fCZ9myZbjrrrvw7W9/20n4lJWVoaamBnPmzHF8Fh4ejltvvRWHDh2SFT4dHR3o6Ohw/H3x4kWMHTvWcxdAEARBEITHqKqqwrBhw2S3+5Xwee+991BUVITCwkKXbTU1NQCAQYMGOX0+aNAgVFRUyJ5zw4YNeO6551w+r6qqQnR0tJstJgiCIAjCG7S0tCApKQkDBgxQ3M9vhE9VVRV+/OMfY9euXejXr5/sfuLlKY7jFJesVq9ejSeffNLxN99x0dHRJHwIgiAIws9Qc1PxG+Fz7Ngx1NbWYtKkSY7Penp6sH//frz66qs4d+4cALvlZ8iQIY59amtrXaxAQsLDwxEeHu65hhMEQRAEYRr8Jqrrtttuw8mTJ1FcXOz4N3nyZDz00EMoLi7GiBEjMHjwYOzevdtxTGdnJ/bt24dp06b5sOUEQRAEQZgFv7H4DBgwAOnp6U6fRUVFIS4uzvH5E088gfXr1yMtLQ1paWlYv349IiMj8eCDD/qiyQRBEARBmAy/ET4sPP3007h69SqWLl2KxsZGTJkyBbt27VJ1dCIIgiAIIjiwcBzH+boRZqKlpQVWqxXNzc3k3EwQBEEQfgLr+O03Pj4EQRAEQRDuQsKHIAiCIIiggYQPQRAEQRBBAwkfgiAIgiCCBhI+BEEQBEEEDQEVzk4EFqV1rahoaEdKXBRS46N83RyCIAgiACDhQ5iOpvZOrMwrxv7zdY7PZqYlIHd+BqyRYT5sGUEQBOHv0FIXYTpW5hXjYMllp88OllzGirzjPmoRQRAEESiQ8CFMRWldK/afr0OPKK9mD8dh//k6lF1u81HLCIIgiECAhA9hKioa2hW3l9eT8CEIgiD0Q8KHMBXJsZGK21PiyMmZIAiC0A8JH8JUjEjoj5lpCQi1WJw+D7VYMDMtgaK7CIIgCLcg4UOYjtz5GZg+Mt7ps+kj45E7P8NHLSIIgiACBQpnJ0yHNTIM2xdnoexyG8rr2yiPD0EQBGEYJHwI05IaT4KHIAiCMBZa6iIIgiAIImgg4UMQBEEQRNBAwocgCIIgiKCBhA9BEARBEEEDCR+CIAiCIIIGEj4EQRAEQQQNJHwIgiAIgggaSPgQBEEQBBE0kPAhCIIgCCJoIOFDEARBEETQQMKHIAiCIIiggYQPQRAEQRBBAwkfgiAIgiCCBhI+BEEQBEEEDSR8CIIgCIIIGkj4EARBEAQRNJDwIQiCIAgiaCDhQxAEQRBE0EDChyAIgiCIoIGED0EQBEEQQQMJH4IgCIIgggYSPgRBEARBBA19fN0AgiAIf6e0rhUVDe1IiYtCanyUr5tDEIQCJHwIgiB00tTeiZV5xdh/vs7x2cy0BOTOz4A1MsyHLSMIQg6/Wep67bXXMGHCBERHRyM6OhpTp07FP/7xD8d2juOwdu1aJCYmIiIiArNmzcLp06d92GKCIAKdlXnFOFhy2emzgyWXsSLvuI9aRBCEGn4jfIYNG4YXXngBR48exdGjRzF79mzce++9DnHz4osv4qWXXsKrr76KwsJCDB48GLfffjuuXLni45YTBBGIlNa1Yv/5OvRwnNPnPRyH/efrUHa5zUctIwhCCb8RPnfffTf+67/+C6NGjcKoUaOwbt069O/fH4cPHwbHcXj55Zfx7LPPYt68eUhPT8dbb72F9vZ2vPvuu75uOkEQAUhFQ7vi9vJ6Ej4EYUb8RvgI6enpwXvvvYe2tjZMnToVZWVlqKmpwZw5cxz7hIeH49Zbb8WhQ4cUz9XR0YGWlhanfwRBEGokx0Yqbk+JIydngjAjfiV8Tp48if79+yM8PBxLlizBRx99hLFjx6KmpgYAMGjQIKf9Bw0a5Ngmx4YNG2C1Wh3/kpKSPNZ+giAChxEJ/TEzLQGhFovT56EWC2amJVB0F0GYFL8SPqNHj0ZxcTEOHz6Mxx9/HAsWLMCZM2cc2y2iFxDHcS6fiVm9ejWam5sd/6qqqjzSdoIgAo/c+RmYPjLe6bPpI+OROz/DRy0iCEINvwpn79u3L0aOHAkAmDx5MgoLC/G///u/+NnPfgYAqKmpwZAhQxz719bWuliBxISHhyM8PNxzjSYIImCxRoZh++IslF1uQ3l9G+XxIQg/wK8sPmI4jkNHRwdSU1MxePBg7N6927Gts7MT+/btw7Rp03zYQoIggoHU+Chkjx5Ioocg/AC/sfg888wz+M53voOkpCRcuXIF7733Hvbu3Yt//vOfsFgseOKJJ7B+/XqkpaUhLS0N69evR2RkJB588EFfN50gCIIgCJPgN8Ln66+/xsMPP4xLly7BarViwoQJ+Oc//4nbb78dAPD000/j6tWrWLp0KRobGzFlyhTs2rULAwYM8HHLCYIgvA+V0SAIaSwcJ8q+FeS0tLTAarWiubkZ0dHRvm4OQRCEJqiMBhGssI7ffu3jQxAEQThDZTQIQhkSPgRBEAECldEgCHVI+BAEQQQIVEaDINQh4UMQBBEgUBkNglCHhA9BEESAQGU0CEIdEj4EQRhOaV0r8s/Vkk+JD6AyGgShjN/k8SEIwvxQKLXvoTIaBKEMWXwIgjAMCqU2D1RGgyCkIeFDEIQhUCg1QRD+AAkfgiAMgUKpCYLwB0j4EARhCBRKTRCEP0DChyAIQ6BQaoIg/AESPgRBGAaFUhMEYXYonJ0gCMOgUGqCIMwOCR+CIAwnNZ4ED0EQ5oSED0EQXqG0rhUVDe1kBSIIwqeQ8CEIwqNozeZMAokgCE9CwocgCI+ilM15++Isx2dU7oIgCG9AUV0EQXgMLdmcqdwFQRDegIQPQRAegzWbM5W7IAjCW5DwIQjCY7Bmc6ZyFwRBeAsSPgRBeAyWbM5N7Z3YvKdE8TxU7oIgCKMg4UMQJqK0rhX552oDamlHLZvzyrxiHK9skjzWk+UuArGvCYJQh6K6CMIEeCOiyVdh4nLZnEvrWvH3U9VO1yxmYnKM4eUuKHrMGUofQAQbFo4TeRMGOS0tLbBarWhubkZ0dLSvm0MECTlbC3Cw5LKTc2+oxYLpI+OdQr71YLaBXqo9cmxblIns0QMN/X53+zpQhILZnguCcBfW8ZuWugjCx3g6oslsYeJS7ZHDaN8ed/q6qb0TOVsLMHvTPizaVojsjXuRs7UAze1dhrbRW5jtuSAIb0HChyB8jCcjmswWJi7XHjGe8u1xp68DSSiY7bkgCG9CwocgfAxryLcezBYmrtYeHqHzs5Ho7etAEwpmey4IwpuQczNB+Bg+5FvO78Qdq4c7osoTvixq7dkwbzxuHhHnEd+ZpvZOrN15RnKbWl+zCAV/8vfxpNgOBALFj4uQhoQPQZiA3PkZWJF33MnR1Airhx5R5UmnV7X2zM8arni8OwOSkm+RWl/7g1DQ0jeeFNv+DDl8BwcU1SWCoroIXyIO+TaC5vYuF1Gl9DL3ZISZnvYA7g9IpXWtmL1pn+z2/FWzVPvb0/2iF719o+c+BDpmvccEG6zjNwkfESR8iECFRVQZIRCMbA+PuwNS/rlaLNpWKLudJWzerELB3b7xhNj2R7z57BOegXX8pqUugggSUuPVBzZv+rKwtAe47lgsRuhYrHYeI5aq5BIx+hIj+ob1PgQ6gebHRchDUV0EQTgwoy+LERFILDXDWEmNj0L26IGmGAT9ITrLX0qDmPHZJzwDWXwIgnBgRqdXowYkTzmQ+xIzD9b+5ihsxmef8Axk8SEIwgm1oqJ6cGfWb5S1hl+qyl81C9sWZSJ/1SxsX5xlykGYFSMtWUbjjwkfPfHsE+aDnJtFkHMzEchoCXkW+rJwHKcrjNyoWb9ZHYs9hZb7ZMa+8XdHYTP5cRHsUFSXTkj4EIGIXgHirnB58A+HcehCvcvn026Iw7uP3azxKsw5IBmZ7M6d/jZT3xgRRUcQWqEipQRBONC77ODOckVpXauk6AGAQxfqdS17mcmx2BNFS93pb6m+8ZVjsZl9jwiChA9BBDh660y5W5/qSJm06HFsL1XebnaM9mExsh6YryvJm9n3iCD8Rvhs2LABmZmZGDBgAAYOHIi5c+fi3LlzTvtwHIe1a9ciMTERERERmDVrFk6fPu2jFhOEOdAb8ux+qLRFcas/r7F7omipkaHpRogyd61FufMzMDE5xukzchQmzIDfCJ99+/Zh2bJlOHz4MHbv3o3u7m7MmTMHbW3Xf5QvvvgiXnrpJbz66qsoLCzE4MGDcfvtt+PKlSs+bDlB+Ba9yw7uLldMSY1V3H7ziDjF7Walqb0TK99TFhB68ue429+8UNn/ZZ1boswIa1FTeydW5B1HYXmj47PMZFvAOqMT/oXfCJ9//vOfWLhwIcaNG4cbb7wR27ZtQ2VlJY4dOwbAbu15+eWX8eyzz2LevHlIT0/HW2+9hfb2drz77rs+bj1B+A69yw7uLleMSOiPqTLiZipjBXYzJr9bmVeMM9Utivvo8WHR299ioZLzxwLF71ETZUZYi6TOUVTZJHkOM95jIrDxG+Ejprm5GQAQG2ufVZaVlaGmpgZz5sxx7BMeHo5bb70Vhw4dkj1PR0cHWlpanP4RRKChNz+J2nFqg9brP5yEmWkJTp/NTEvA6z+cpPi9vvZRkYNf4uqVWacLAdzyYdFzn5SqzkuhJMqMWMJjPYdZ7zER+Phl5maO4/Dkk09ixowZSE9PBwDU1NQAAAYNGuS076BBg1BRUSF7rg0bNuC5557zXGMJwgSI60yFWoAeDmho71RcepA7rry+DZvyvlQNu9Zb30rJ6uDLKtlqfjhjE6OdRIrWUHet/SVXq0sKlgzERtSrYj2HWe8xEfj4pfBZvnw5Tpw4gQMHDrhss4jMxBzHuXwmZPXq1XjyyScdf7e0tCApKcm4xhKEgbibM8YWGYY1O8o154mROk6M0qClpRCmEYU3pc7pbq6d0rpW1DR/o7hP7oMTYY0MY87HI9cu1v5SExlCWCx8RoShs5zDE/eYIFjxO+GzYsUK7Ny5E/v378ewYcMcnw8ePBiA3fIzZMgQx+e1tbUuViAh4eHhCA8P91yDCcIAjMqArHeWzbKcYtSgpcfqICcgtPab1HmkziFGbE1R62ej7qeayHh7cRa6ezlmwWdEvSqWc+Sfq1U8B1VCJzyJ3/j4cByH5cuX48MPP8SePXuQmprqtD01NRWDBw/G7t27HZ91dnZi3759mDZtmrebSxCGYlR4spH5fORwtyK4FquDmp8Ia78pnYdF9In9ntT62agcQGoO0bekJWhO+GhEvSq1c7BahYLV6TmYr90b+I3FZ9myZXj33XexY8cODBgwwOHTY7VaERERAYvFgieeeALr169HWloa0tLSsH79ekRGRuLBBx/0cesJQj9GLQvo9d/QspwCuJ+VV4vVQUlArL1nLHO/yZ1n8VuFOFrR6HIOnhfmjccUUYSaWn8dLr1s6DKP0VXn9fplaTmH0j3OSo3Fmh2nTVV7zFv4W0V7f8VvhM9rr70GAJg1a5bT59u2bcPChQsBAE8//TSuXr2KpUuXorGxEVOmTMGuXbswYMAAL7eWIIzDCIdTwHP5fHi0LIeowTKYqwnCI2UNit/B95vSeZREDwAMsvZzuV71/lJO7Kh1mccIoSKFFr8sPeeQu8fdvb1B6/RMDt/ewW+ED0stVYvFgrVr12Lt2rWebxBBeAmj6h7p9d+QO06MXiuDlF8Ny2CubolSfmfw/abVoiV1DiFy/RUCYFKyTTWx45Y9JZiYZNM8wzdCqHgTqXvMcZxkVfdgcHomh2/v4Tc+PgQRrBhZ98jIfD4z0xKwc9l0bFuUifxVs7B9cZamwZolj4tSUVI1QXjziHimflM7T2aKTXPfS/VXL4DCikas3XkGU0fEuZyTRy7RX6AivMdGlu3wN4L52r2N31h8CCKYMcqPQ++yiFHLKULrzpodp90y67NYsFj6Te08evqe76/7Xz+EYxWNTgkPD5ZcxpQRsZiYHONU0oEnmGf4wVzVPZiv3dtYOJY1pCCipaUFVqsVzc3NiI6O9nVzCMIJo/04vAVLSLiQ/FWzZK9PKJ5iI/u6iBIpZ1C1fmtu71I9j9a+L61rlVy24dkwbzxWf3hSdvu2RZnIHj1Q9XsCjZytBbIiNND9XKSuPcRiXyJ9fwlFJ6vBOn6TxYcg/Ah/8+Pg0VpWQcrBVynipaG9E4dL62EBMGVEnMuSm1q/sVi0tPa9UT5IwYbRUWr+hNS193JAYXkjcrYWUHSXQZDwIYgAxoiMxUa0gdXSwyM16MtFvCz50zGEhYYYEgKsVdwo9S+rD5I7yQIDEU9FqfkDjiXS164tkQq2UXSXcZDwIYgAxEz5QLRETckN+koRL5+V1iNE5Cfs6UGCpX/1+iBlDI/BDyYPC0ofHyH+at10l9K6VhRKpFEIZt8vo6GoLoIIQIzKDGwErHmAAPklDTXxJK6WrqWauB5Y+1ctio6f4eevmoXcBzOQmWLD0YpGLMs77vVq5Z7MFkyZiNmh6C7PQxYfgggwzJYPRM3y8dy942SXNPilJLnQbzU8UfNJS/+yLtukxtuj3Ioqmpw+98byhietg2ayPPoLFN3lecjiQxABhhlnjEqWD6nAUnGOn5w/FsAWGYZQkf5Re4F5YpDQ079K+YgA/XXUjMCT1kE95w5265CRebsIacjiQxABhhlnjFKWD1tkmGwIudSA2dzeBWtkGBoFSz8z0hLQ3duLI6UNXnMQ1tq/LA7mRpUl0YonrYNaz03WoeuwRraZIXjBHyHhQxABht7SFEah9DIWOqzmbC3AAdHAeLDkMh7dXiiZ2K8XQGN7F95enIXuXs5xfqkcPCzhz3oGDf6YzBQbiiqaFPtXy0DuK7HqScGl9dxUp+o6akukJBLdg4QPQQQgvsiFouVlXFzZKGsNkBI9Qrp7OSTHRjqWlFLjozSFP+sZNKSOsYmsT+L+lRrID5yvw6NvFeL9x52T0flKrHpScGk5t9n80syCXGQbiUT3IOFDEAGIL3KhaHkZ/2LHKd3fsyW/xEkc8aKFNfxZz6AhdUzL1W5kJtuwdPZIl/6VG8j5el33v34Ib+RkOgktX4hVNcHFcRzyz9Xqen60iDlfLfX5IyQS3YecmwkigFFzqjUKLc65pXWtOHWxRfF8mcnShUFtkWGykU9Gt5PlmMKKRtQ0f+NyjNpAfqyi0aXNwtB2vYVf9SDleJ6VGovu3l7FArJ6zy0l5szol2ZWzBi84G+QxYcgCLfRMmNX2zc9MRpvLMiUTOx31M3EbnosC2rH8PW2hMtlagN5LwfZNns7cZ+UddDdArJK55a6Nl/7pfkTJBLdhyw+RMDiL2Gx/tJOJbS8jNX2XX/feEnrx7LZIxWPY5np6hk0WBMwCi1P/ECu9oI10+yctw5y14SkkaH1Qsuj3PPOah0Kdijc3X3I4kMEHL6IeCita8WRsnoAFtw8Io7p5RNIkRlaZuxy+4ZYgBkjEzAhKcbxmdD6IZXvRwjLTFePZUHuGDFiy1Pu/AwsfqtQ0kqlpc3exlP+NmrPezDX6NJKMBdyNQILp/Y2CTJYy9oT5iVna4HswGZ0xENTeyeWvlOEQxfqnT6fOiIOr/9wkqKA8WY7WdGbF6S0rhVnLrXgrUPlko7H4n6QCkFnEX1G9Jme75Y6Ro5tizKRPXqg4+/7X79WcFLwpvX1fRYjvO8cx2H2pn2y++avmqVLkPjieQ/0PDckEp1hHb9J+Igg4ePflNa1euSlLUfO1gLZwXBmWoLsC93b7VRDr/VJ6rjMZBsWTkvB2KFW1WvQ+uLWK5iM+G7+mMOll7H6Q/moNPG9M7LNRiN335WSQuoRKd5+3gPJmkqwwzp+01IXEVB4MyxWLqyUR8nh1mzhu3rzgkgdV1TZhIi+X2H7jYmq36vVkdfI5RA9TsT8MS/+85xTDh8eW2SYyznNvIQjd9+zUmMxfWS8YUspep53d6w1lOeGUIKEDxFQqDmi9gnRV+xSCrWXOSAvYNyNzDDShK83L4gv84l4O/JJSGldq6ToAeyZpeWu25dtlkLp/n1WWo/8VbMAwBCxpuV5d9daQ3luCDUoqosIKOQiHnge3lqgKx+JFCzRPnICRm9khrh4p978KkL05gUJ1nwiRl23r6P5WK0wevJAia9Ny/PubtHUYH0uCXZI+BABh1RYrJAD5+tUX6IsgxL/MpdDLbRUT/iuJyppay0twPdLsOYTcfe6tYhXo8WRlvsXF9VX8/mVro3leTeiSn2wPpcEO7TURQQcvE/F/i/rkPPHApftvbD735z4qgkThsU4bdNqZs+dn4HH3zkmGdWl5g+h1fdj37lat0z4cstjLCHeUv0yOdmmeH2BirvJ9lj8T4x2zpW7f98aPABf1FyRPGbjv77U7A+jdm1qz7sRvm9mSYYY6BFl/gwJHyJgUcq5AgDPfHQSn6y4xekzrU6R1sgwvPvYzSi73IYjpfXgAOY8Pjxqvh9Sg5YUcoMCyyCqlhdE0olZIT+NUnsCAan+yhgegx9MHqYoQFn9T4x2zpU6n1J+IUDZOV8K1mtTet6Nstb4Ms8NRZSZHxI+RMCi9hI9dbHF6cXujlOkJx1XpQYtKVLioiRnmSyDqJL1Sc7S1MvQHk/h69m0sL9OVTdj+7X8RbyYkBvoWCwafOZkMXqdc9WiD9Xaw/pdRllrMlNssnmPWNviy0g6iigzPyR8iIBlREJ/pCdG41S1fEFMLTWkfGHBYBm0Qi0WTBkRizU7TrvMMp+aM0rTICoUcKyWphAL3BqktGC22XRqvL2ulVzhVPFAx2LRUHO+1focskQfKrWHFSN8nx7bftQpASaPXmuN2oTEaAFNEWX+ATk3EwHNuvvGK27XUkPKF06RLIPW9JHx4DhIzjKf/eik4rFKgyyrpWmSyNfHk0sKRjt3u+s8rLUq/elLLYju5zrfDLVcd4Y3+jlkrTXm3B7tdZ/cqSHV1N6J7I17XURPCOwJMY2uUu+J6EiAIsr8BbL4EAHNjUkxmJmWgAMldapWCbM4RQpRG7TeXpyFoTERkllxezhO0doFyA+irJYmPpOvcEmB4zgUVTUavrzgrnO3EKMsRywDnS0yTNVyFh0R5hCLRj+H189Xhx7GPP16xate35pH3zoqmRupF0BhRaPhlhJPLUeZcfJEuELChwh4tLyMzVb8T20QvCUtAfnnahXPkT40Gmerr2gaRFktTXy/pMZHSQ7wRixDKS2BCOGXgFiWL4wa+FgGOhbLWWN7FxraO5mdzbXy/NxxdnGs4PAf3a8PNtw3XrXUiFL/6vGtKa1rVXW09kbGdSOWo8w4eRLja/84M0DChwh4tLyMzVheQG0QVBt852UMwz/CLjkJB7VBVO2cL/73BCREhzsN1p6aRa/MK1YVPQAQG9nXpXaalPAycuBTG+jkHJWlEA7uRj+HT73/Obp7lc09rd90489H5UuNaLGSaXH2ZxHZRlpKPO3LZ7bJE4/Z/ON8CQkfImjQ6ujoKcGjdcalNAjy58pMtqGoskkyhP9Xn5wBoK14qPyAbl+WefqDE47P7E7UaR6ZRbMsuVkA3JKWgE27vmQSXkYPfM/PHYd7Nx90WqqJjuiDdXPTUXK5lfk8UoO7Ec9haV0rk3Dk81vJ3StWYav1+VYT2ZkpNkN/i55ejjLj5AmgaDMhJHyIoMdbMyF3v0ct4soWGSZbQwrQVjwUkJ65RkeEuTiAHiy5jIb2DsVz6Z1Fs1gDhsdF4Kk5o3Dv5oMu26SEl9ED3y8+Po2Wq91On7Vc7cazH5/C4hkpqseHWICxifKVpN1Fa1SXXMFQNWGrd6mTF9kHzte5pEiwRYbhjZxMTe1Xw1vLUWaqzUbRZs5QVBcR9HiiDISnv0fqXC1Xu5GZYsOGedKRbFrS/gPXZ675q2Zh26JMbH8kE43tXS6DUw/H4dRFfU7UarBEJD0/dzwa2jsV9xFG06jVc1uz4zRzdI9aVNel5m9Uz9HL2XNKGRVZJEZrVJfUvWKxkrnzfOfOz8AMUfmXzGQb9q7K9sgyjJ5yMWr4uvaaEhRt5gxZfIigxlszIbXvea+gElMYMz4rnauwvBH/PXGY4vFarS/8zFXViToxGmcvaXOiVoMXKXLLXbbIMNySloDSOuUlJfFgLmXN4tFi/lcbUOTKQcix/3wdlvzpGPL+52ZNxynBGtUVYgFmjJQOO1cTT6EWi1u/I28vDxn5ff7gO0PRZs6QxYcIarw1E1L7np9/eNJpxq80e1Q7l1rEMutLTtwGtZfn+vvGGz6LBuwiJSvFtS6YNSIMO5fNAHB9cA8RGXHkcshYI8Ow9p6xkt9nZEHMNw+VS34ubqeQz0rrDbca2C0c8gV1AbvlqaunV9LipJajR608DOvvSG81eL0Y8X3eshi7gzs5lgIRsvgQQY23ZkKsyw0Hztdh1sZ8J18d8exR7Vw3j4iT9GEIAZsvidIMVuq8PBt3fYnc+RloaO80dNZujQzDX5ZMQ9nlNvztRDUut3bitjEDcYtgaaSpvRNdPb0QBy5NGRErK7w8WRBTjRsS+uN8rbyV6nBpvaHh2xUN7XhqThqudnajUCF0vKCsQdbapRStVN+m7OMVqBYFf/KdMWu0mS8g4UMENd5ydGQdIHsBFwdl8dILS5ulXnK9AE5V231JlEzxSjNY1iUipSKdenOIpMZH4b/GD0FFQzuG2ZzF38q8YhSUNTh9FgKgT0iI7HKDJwtiyrFwWjJuGzMIXzW2Y/WHp2T3UzAIMcNackSI0oCttDxkjQzT/DsKhHwyZixzI4dZo818gYXjNExTgoCWlhZYrVY0NzcjOtpzkRaEeWhu73IZuDyxRi/1PVrIXzXL8aJibXPZ5TasyCvCmeoWyczV4pl9aV2rZBZoYRs4jlPdR/xCddcPQun4+rYOxfa8vTjLyTokJGdrgexgzfeN1AAt9dn+L+uQ88cC1WsB7CHaSiHmmSk2vJGT6dbzJ3VtrGxblIns0QM1HcP6TPqDTwwrLL+XYBUXvoB1/PYri8/+/fvxm9/8BseOHcOlS5fw0UcfYe7cuY7tHMfhueeew+9//3s0NjZiypQp2Lx5M8aNG+e7RhOmRzgTOlxaDwuAKSPiDH8Ji79n9YfKdbTE6Elwx8lEXMnN7I3weZKa5arlEFGb/Ssdv0glZPzhrQWyA6uS+V9qgJ52Qxw4zu6HwzM52YZF01JQWs+es6eoogkDwvvgSke3zPZGt/KruFORHQC27CnBxCSbpt8A6zMZSPlk/CFTM+GKXwmftrY23HjjjVi0aBH++7//22X7iy++iJdeeglvvvkmRo0aheeffx633347zp07hwEDBvigxYS/0NTeKVnd3BOzUD5K6h8nazTNyPUkuNNqimdZ/lEzEovbqeYHcf9rh5z8TsT9rnb8o7ekKLYHkB9YlQZr3mIi5NCFeog5WtGoWnJBqu1yose+XTmZoBruVGQH7Dmf9AoRpWfSn3xiWCHfGf/Dr6K6vvOd7+D555/HvHnzXLZxHIeXX34Zzz77LObNm4f09HS89dZbaG9vx7vvvuuD1hL+hC8iM6RyidgiwxDKGJnEglY/FpboD60RImqD8DGRaBD3u9rxPRwU8/LY91GO1BJG95TWtSKvoFIyP4+3UbOwyUX/6anILkRrzidWAjGfjDjfVf6qWYZXkyeMxa8sPkqUlZWhpqYGc+bMcXwWHh6OW2+9FYcOHcKPfvQjyeM6OjrQ0XE9IqGlRTkRGxF4+GoWKmVtiI3sa+jsUY8pnmUGq2WWqzYISyVEFPY7i3hjdTCWy0pc0dCO2MgwbNp13q0lIqPpIxP3ruYnw+pMHwLX/hei5pxrdHmKr5u/8UurD2CuTM2EMgEjfGpqagAAgwYNcvp80KBBqKiokD1uw4YNeO655zzaNsLc+DoyQ/zCNDryQkoUjEkcgFV3jJLcn8VXo76tA4tmpOCxmano7uUU2yk3CIdY4BJ+LoTvdxbx1qSSuZlHaOHSE/XkbeT8k1j8ZKTu+8y0BKy6YxTq2zrx0q5zOKkz47ZeB2U1Qfbza35v/ursTPgHfrXUxYJFZO7mOM7lMyGrV69Gc3Oz419VVZWnm0iYDDNmNTUykRsvZHYsm4b0a3l8Tl1swT2vHlQskSDVhqb2TuRsLcDsTfuwaFshHt5agG0HyhEb2VexDVLLepOSXZMSChH2u1qJASkhIERqGU7tGLMgXvpTK5PBL0/JLcFMGBaD5NhIVdGTnhgt+/y5W55CfC/FmC0BIBFYBIzFZ/DgwQDslp8hQ4Y4Pq+trXWxAgkJDw9HeHi4x9tHmJdgiczYtOs8zl5yLqGgtbq23ogcKSuSWli82vGV9W1487MyDLH2U7XaZAyPwQ8mD3Mso7gb9eRNeEHz6fk63JKWoNlCKbUEw+L8vP4+6ZpvWpaGpZ4lluhGf3Z2Dkb8LSdTwAif1NRUDB48GLt370ZGhn0W2NnZiX379uHXv/61j1tHmB1/iMxw5+ViRHVtI3yhhINwXkGl4r5SS4yp8VEIsQBzNx9UrEQvJG1gf6fIq8wUGyZLlMBQ4oV54/HBsa9QVNnkM4dnftnrqTlpivuxWCjVrJyZKTZMSIqR3MYivFgqtafGR6k6M5spASDhir/mZPIr4dPa2oqSkhLH32VlZSguLkZsbCyGDx+OJ554AuvXr0daWhrS0tKwfv16REZG4sEHH/Rhqwl/wIispp6a9RjxcmEZrNbsKFe05hjlC8XqWyM3gGsRPQBQIioNUVjeqJg8UAhv9Xsgazi+kz7ERRz3Dw9Fa0cPc1t4ZqYlYNWcUTh9qVkxg7MY/v64a6HkrZwHzte5ODfbIsPwRk6m42/xcx2mVGgM9vvGahk04zIzwY6/5mTyK+Fz9OhRZGdnO/5+8sknAQALFizAm2++iaeffhpXr17F0qVLHQkMd+3aRTl8CGb0RGZ4etZjxMvFiOraRg1SLP44cgP4vnO1mkQPoF60VQmh1Y8Xx59XNeLZj07hVHULk+gJsdj9mV783o0uonpCUgz+cfJrSQEiBX8/di6bDgBuWSilrJyZyTa8scCeMVruuf78K3nRODMtAdy1Nsq1XWgZ9JdlZqMmNf62JKSEP+dk8ivhM2vWLMXkaRaLBWvXrsXatWu91ygi6PHkrMeol4vSAJMxPAbHq5QtIOX1bcgePdDtekwsvjVKA3jxV02Kx7qLMOpJbnB6/m9nceYSe9qLXs5uZVqz47Rk+Ybu3l4m0SOkvr1Ts4VSfC/EVs5QiwU9HIeG9k5Yry1ViZ/rT0vqoLTSN/tbCfjriWrFdogtg2ZeZjZqUuOvS0JK+Doa1h38SvgQhNnw9KzHyJeL1AATHdGHKfMwb81hHaTkXvTfzxym+D0vzBuPB7KGO30mHLBvGhajePxP7xiF3/zrS8V9pPjJ7Wm458ahin3Z1N6JR986qjlLM8+B83V49K1CvP/4NMdnK/OKcaRUVFxVJcwfuJ7fh8VCKXUv+DIbY4daYYsMw5od5S7bpa5Tzb1p7V/PKO8AV8ugmYtnGjWpcfc8ZrQU+fMyJQkfgnADT896jHy5iAeYLfklKKpoYjpWaK3QW4/pQEkdLjVfVfyeKSPiHP+XE08xEWFouuq63GWLDMPYRCvT9YhREz2A/ZqKdIoewJ4osLCiEXN+uxfv/2g66ts6JEWzmugBgG6VnYQD5Zodp13uhVDs2iLD0CLqT3euUw615SuzJQA0alLjznnMbCmSzc8FYIbOTPPeIuDy+BCEN/H0rIelPIRc2QI5+GzIheWNzBFK4rwqSnmG5PLM9HLA+VrpQp6seXYOllxG2sD+sIle+rbIMOxcNkNzqQbWciD8NWldkpLiy6/bMOn53ThW3qC+swxKiQWFeZayN+5VLb3R2N6FHtFmI65TzMThMczLV1qfaU9gVHkNd87ji1I6Wsidn4Gs1Finz3oBdPf2yuYHMwNk8SEIN/CGc6bc8tLzc8chZ2uBrtmg1iKWWma5egpkipfLlGbJhRWNyF81C181tqOoshETh9twS1qCw8qRmWJDUQVb2DmrL4m7RT/FdPdyeO4T9WUhKTJTbJoSC5qFwmsV55WeT19YOOSWkYya1Og9jz84D1sjwxAWGuKyPHuktMHUkV0kfAjCTTztnCm3vCRVPZzVb0BvEUuWpTt3C2QCbLPk7NEDcUtagsPKIex/W2QYU/TXc/eOYxpQjbgmMa0dPRg/NBpnqq+4iOYB/fpILufFRDiHmgvxh6SMas+nN8Oj9dY70zqp0Xsef3Ae9gdxJgUtdRGmwAymbb14qzqzuII4S9kCOeSW0NRgmeXqOff+83V4/J1jjr+1zJKlBsuWq92O8hxKsCxXNLV3Yu1ObdaZUAsQ3U99XjkjLd6lfMOUEbEYNai/y74Zw6zY99Nsx3Ml/s0YaZXilwAnq5QV0YrS8+nuM60VlmUktVIprOg5jz84Dxu1HOhtyOJD+BQzO+9pxZvOmUbMBnPnZ2DJn47hs9J61e/TErLOn5ulWrqQQxfqHTNE1lmy0ozzVLV6yDnL4KFn+SgrNQ6v/3AS7n/9IL6slX/5T7shHj+7c4yTNW/NjtM4fMH5noRYgAERfRXz6zw1R7rorB74QfnA+TrdUWxKSD2f3rRwsFoqjIo403Mef8hx5A/iTAqy+BA+xezOe95Cq8XLiBeONTIMXT1sbqxyIetiR1q+6KnQCpaeGM38otl7rtbxf5ZZ8mkN+XTEZCbL+8rwyFkhlAixAGGhIbBGhuH9JdMdoedirBFhuCUtAcB1a15ze6ekE3UvB8eALPeb2bTrS2Sm2CD+Ot56w2KBAuwpBXiL5RgGq5kepJ5Pbw6iWi0VRhUN1noeoyxOnoIl+MKMkMWH8BlmXh/2RN4MqXPqtXgZMRssrWtlms2/vTjLMUALYfHHSI2PwjuP3sxs/Xm3oAKLpqcCYJslbz9UrnpOKfqHh2LB9BSGUGLtAlwoUlLjozBmyADJSuj9+4Y6Co/y/GKHcvmKw6WXFX8zUvADZcvVLtyz+YCq75MwpcCIhP7ITLExl/gQI3Z6VXo+tVj53P1t+oulwsw5jnjMnIBSDhI+hM8wo/OeJ5belM4pl++GxZlT6YXDMjiw+IRkJtskRY8W0Sp8ee85+zX+39/Oyn7f+a/bcKKqyalAptwSYmldq+4BubWjB8vftYsaufu7Mq8YZxiWy+TI/+JrPH2qRlL0AMDF5m/w8NYCRyh+V28vTsnsex12v6kQ2Etl8M+RNTIMx385B5+er8MvPj6FqoZ2JlHyRk4mZm3M11QqJNRiQVZqLMJCQzQNiErPtJG/TX9YRhJithxHQvxBnIkh4UP4DDPOujwRVSJ3zsVvFUpaXHiLgVgAqJUcSImLgi0yzGXgkBocmto7sXlPCZSI7tcHbyyQjiDSI1pT46Ow70t1X5mn3i/GM3eNVX2BGuXMK3V/jYiQ+tUn8gJPSGO73RLz/+5NV9wvPTEaU0Q5U5TgEybyIlT4/OxcNoN5lm6NDMOOZTPw3dxP0fJNt+NzW2QYNs+fiMb2Trx5qByFgmeZP5c1MkzTgKg0iLoTxSiFP1oqzIyZxZkYTcJny5Yt+PDDDxEbG4slS5Zg9uzZjm2XL19GVlYWSktLDW8kEZiYbdbliaU3pXOqLTM989FJfLLyFtWZrvCFozY48IPflvwSHK9skv3u6H598OnTs11m0vzxoSqGBynRyiomzte2YdG2QpfrFKMmnNMTo3GmukU1GZ/U/TU6b48aje1deOU/yqU21t83XvY3o8Sp6mas2XFa8vlpaO9kEiW/+PgU2kQFWVuuduP1/aXYvjgLd92YKCtw9AyI4mM88dv0R0sFYQzMzs2vvPIKfvrTn+Jb3/oWwsPD8V//9V/YsGGDY3tPTw8qKio80kgicDGT854nQjPdGUBPVbcoOrOKHcDVwoHvf+2QwxFZKWvz+KHRLqJH7Mic88dC2CLDXF4gSk6NevpCydFd3rHSbo04xSB6hBwurXc4mHsib48aStFfmSk2h/VP6jejxPZD5a7Lqefr8NAbhwFA1dmWNczcKAdgKYz4bcoFEHiy3Urfa0b8qa3uwGzx+d3vfoc//OEPePDBBwEAS5cuxdy5c3H16lX86le/8lgDicDGTLMuTyy9qZ1zRHwUShVeModL65lnumqDwzHGsOQn54yW9HdxzZVjj94S+n4oiVY9YkJtRi9deDXMJV2+xWK3AMn52wDA6g9POv7P57DxRCi3Hr4/6XpxV9eq6sDSd4rQKrLIAHbLnZQfVC/swjp7415kptjwRk6mrJ+MGXzx3Plt+iplhjvf6+2ipIGUVoQFZuFTVlaGadOuVxWeOnUq9uzZg9tuuw1dXV144oknPNE+Ikgww/qwJ5be1M555Rtlh1E1V1bhoKM2OLBaP8Th1/LLDPYlmrcXZ6G7l2N6SSfHRqCiQblQqRTl9W3gOM5lMJASATl/LHQ5nuOAkxdb8K3BA/BlzRXVvjhYchkDGMO/vcFfjn6F+zOdq9ZLVVUXI/TJkaOwvBGzNuZj76psXUuKen3x1AZ34XZ3fpvezAbt7vf6SoD4qo98BfMvOz4+HlVVVUhJSXF8Nm7cOOzZswezZ8/GxYsXPdE+gtCMO7MlTzg8yp3zqTmjcO/mg7LHZSbbXAoAihEOOrLVki1sFb95Ht5a4PSyVZvxd/dyyB49UHa71MtcK1vyS5wsF+lDo7H+vvHoH97Hca8zkmLwwzeOKJ7ni5orTN/Xw3GSJSN4xH0aAiAkxKJaNV0vQidlHiPrcjW2d+GHWw/jrytucdlm9IRAbXCX275ubjqe/fiUpt+mr1Jm6P1eXwgQM6cV8RTMwmfGjBn44IMPcMstzj+MsWPH4j//+Q+ys7MNbxxBaMGI2ZInlt7kzpkvSNYnxcJpKYpiZsZIV18aKZE1KVl7Hhbhy9bdGb87A3QI7P1XVNHk9Pmpiy2451Vn0WiLDEOTlypCj02Mdgo9t0aGoVlBKEnx7TED8e+zys+AEKF1zxN1uU5ebMH9rx3CGwtcl72MnBCoDe5y25/9+JSm32ZpXSv+eqJasS2nq5t95pMk/l5fCRAzLGV6G2bh8/Of/xzHjh2T3DZu3Djk5+fj//7v/wxrGEFoxcjZkieW3sTnVBMUY4daAdgHnYXbCnC8qsmxrZcDunp6HVmSedQKmrJGAglftiMS+mPqiDjJ0hZTR8S5RN/wFhiO43CkTNpHiZWJGvxstOSZcZfc+RMB2AeF2pZv8LMPTsruawEg7HXeUvLMf43RJHyEAtNTUWfHrlVQF/9e9E4IWJ8H/nnb/2Ud0+Cv9N1aLIy/23cB352QqLqfVvRMFnwlQMyYVsTTMAufCRMmYMKECbLbx40bh3HjxhnSKILQij+aa1mWEPiXuFD08BSUNciKOvHgoKd2FnD9ZStXb5T/3IjlLCH8UlZ9W6cjtN3byC0R2q6lEGhq78QzH5aq1joblxjtVDds4vAYhxVyZloCDpTUKS5FWgBMFpXX8FTUWS+g+HthnRDofR4+u6BsGWQZ/LVYGE9ebPHIu0HP8qCvBIjZ0op4A6rVRQQE/lolWC2cf2VeMQ6USA8evKh7r6BSNfxUXEF++yNsFrCUOHviu0MXpAd3vrCoEf4mmck2bJ6fgfxVs/DJilswYViMT8LKeeTESGN7l+OaWQq8rrsvHZkp16ucF16zqjS3d+FHM1PRN1T5NcxdO4avgwYAsVF9YfOgs6u7vxe9z8OB88rHqA3+emqreerdoDVVhy/rXpkprYg3ME/YAkG4gb+aa5WWEFj9OH5+LQybxZ8pNd6e3XllXrHiOYWzPTVfJLn6USznf+7ecYpLJ/xgoGYV8TZarvn5v5118VE6WFKnuQzEwZLLeHR7IZZmj8SWPSUuIftGEmqxIP9crS4fNz3+R6EWCyYmxyj6oqUN7I+qhnbJ54VfUiur0y5iPPVu0LM8KGWZzRgegx9MHuZRq7WZ0op4AxI+RECg1QnYbEgtIWj145DzZxJHubHMxoWzPXWrC3v9KPH5+czTSuhdpgPsif8WTEvB8NhIbPzXl4YtxV1u7WTeV2ow51MBaKGH41BY3mjY0t+ogVEoqW1zCu3nnclz/ljg+ExrgIAe/6PpI+Px/cxhisLnfG2rS7uenzsOv/j4tK77GmoBpnvh3aDFX1AoQE5VN2P7oXIUljc6/Nw8HdpuhrQi3oCEDxEw5M7PwOPvHHNalpFzAvYHtC7ziP2ZpPws1JLyWSz2fYTiiV9WEQ/U/MChpX4UIF/tXQ5+MDhR1YRnPjrp5C+j5Xu2L87Cd1/5FKerW+CO8ah/eCg27VIuL+EPfHvMIFgjGp1qbFkjw9Aiik7TGiCg5bndMG88br7mIP95lfbIw3s3H0TLVfVcRYD9vgmTPE4fmWDapZzU+Cis2XFawlLo/7l1vJ2cUQoSPkTAYI0MQ5+QEITAOVmfkhOwmRmR0F9X9mDeAVTKslOkci6Os1sohGb1lXnFkssq0RFhyJ2fAQ6cpDCSQ2+umwlJMfhk5S1O5vin3/8cxyoane43v4wmFD1N7Z14bPtRZtGkhFSGZH9kyz57XUXeKhbdz9nSwyMW1GoDF0s9Mf4ezc+6npRx067zmtrfw3GarGYv/PcEjEu0Xkt0aUEPx6GhvdOUEyJ/DNZQw0zZoZmET0ZGBixyYR0iioqK3GoQQeglEF8Wi6alaBY+vEOyVF+wZm/mxZOSv0Zjexca2juxZsdpTTls6lq+0e0/Ajib499YkMmUX2ZlXjFzyQ5fwy83tVzt1uSkq5dj5Y2ICOuDRTNSFPc7fVG+2Ck/cJXWteJIWT1mjU7A1a5u2aUr8T3yRF4iMeMSrZLZrs1YmiEQc+uYKTs0k/CZO3euh5tBEO4TiC+LMYnRzPtqcUhWg3f4VOvTv35+UfOA9fQHzjWx3Bl0WJwyvTGoSqE1YzbPDJksxZ76bj6EfX5WkuJ+P37vOMQ6jB+4Xpl/E5a+U+QS/XdTUgwem5HqyEkld488lZcIcP5d8PmspK7BTBZhfw3WkMNsk1Im4bNmzRpPt4Mg3CbQXhaAgtM2IFsgtKm9E5v3lLj1vWt2nEbu/AzVPn1pt7blCTFGDTpKTpnuDqriBIRyRISF4GrXdZtaZN9QTctiaQP7Y9P3b8SEYTEA4CTotuwpQVFlk0uelYnJMVgwLQVvXXOC5RFnlmZh894STLshTjZ1QY9EJ/AD18Nbj0gWgC2uasKfj36F7TfakwTK3SM9aQtCLRZER/RRtYzxvwuzDb5KBFpuHbNNSnX7+Bw7dgxnz56FxWLB2LFjkZFhTicxwnOYwUlNSKC9LHikoppmXLOUNLR3usyic7YW4Hhlk1vfKRQkav4a7mDkoCP3PLqbCygqnE3AdHQ5LyS2d7KJnhDYy4q8//g0l228oJuYZJNd0rNGhuG7ExKdrF4cx2H2pn1M389z6mILMpKsmo7hUap6z3J/tQh8nukj4yUtYzPTErBqzijUt3c6PQtFKs7TZrMIe6JuoK8w26RUs/Cpra3FAw88gL179yImJgYcx6G5uRnZ2dl47733kJDAHq1B+CdmclITY/aXhR6x6FqB/LpjZmq8fZDjk7Bx14SEuwgFiTvh5Ky4M+ioPY9KqQ76h/dRrWDOarUR+0+xLjXxIlYJliU9odWrtK4V6YnROFPdwuzXBQDHq5o17M2O0GdM7vlnEfh9rhWCFR7Pmn/GbIOvGoGUW8dsk1ILx2mbxv3gBz/AhQsX8Pbbb2PMmDEAgDNnzmDBggUYOXIk8vLyPNJQb9HS0gKr1Yrm5mZER7P7VwQTUnWf+AfYk+vkWkSD2V4WRohFqXOIo6nSh2pf4lBi26JMJMdGoqKh3THo1DR/g9Ufytem0kP+qlmq90nu/rM8j83tXS6D6kzBoLrz84v4rcKyXXJcBCrqr+q9PFm0hvaLEfeJWqmIjKQYyfInnmbHsunYtOtLpuffk79dX727COXfoFETZtbxW7PwsVqt+Pe//43MzEynzwsKCjBnzhw0NTXparBZIOGjTGldq6IJnWUA04qZLUysGPHCZSk0qsWpdWZaAh69JVUyhJln/NBop2WMmWkJeGpOGu7dfIjtSxjIlFnm4ZG6/5kpNryRk4n6tg5Nz6PcoLrvXC0WKCQGfO6esViz8wzrJTmRmWKzh9wL7ovUvdci7KX6JD0xGmGhITjxVbOLZWtsYjRy5090OPiKM2GHWizIGB6jGkEYapH29VFi5jVhZwbB4Y3Bl1DGk8KWdfzWvNTV29uLsDDXByQsLAy9vVqMqoQ/4gsnNTOFQerBCKdK1sgkVtGTkWTF9zOHISk2UtGHR+y7wd8H1jwtVzu7nRLkSbFwWoridvv9d772wvJGzNqYj9V3fkvxWPHzKOcErfbmGh4XhbSB/XG+tlV2H7ETNO+780aOcsi9HmH/2PajLuH5cjmKejk4WQGVloNX5B2Xva+8xU8L1ogw/GjmCDy09YjLNl84FUstH3Ech6KqRtNYhwMdM2SH1ix8Zs+ejR//+MfIy8tDYqLdU//ixYv4yU9+gttuu83wBhLmwtvr5P4UiSFH/hfKoeUsYtHIcN/xQ6NxvKoZy989DgCYdkMcslJjmQpu8v2+c9l0AJAVY9NHxjNbhvhQZyn2natVzCO05q+nFc/dJ4Qt/xjLc73x/gmK1zM52eYk8npxvSCpnCM6IC3sPz1fh3s2f4rn5453ScT46FtHNed2Aq4/Z0q+I1KiKDkuElF9++BczRXN39n6TTc2/PMsU7uUMDqQQlizjqw/wYdm4fPqq6/i3nvvRUpKCpKSkmCxWFBZWYnx48fjT3/6kyfaSJgIbzupmS0MUgtq/hY8LGJRa2SS3PJKdEQfnKl2HsCOlDZgYnIMnro9DZsYw9Pr2ztdBk/AOU+LWi4hpTpqxZWN+MWOU6r+Sle7lG01rBYKubIcIbA72NrbGIWpI+IkBeLUEXFYd186fvT2MZTUtjpZfoTWSfG1ygk7DkBF/VU8vLUAtsgw7Fw2A0lxkViZV6yafVsOsQiUmnnLWUS0Rojx9HCc6j1Uev49uczt75ZkQj+ahU9SUhKKioqwe/dufPHFF+A4DmPHjsW3v/1tT7SPMCHejJwySySGnhnnyrxiHChRFj2ZKTam87GUAQCuC1C5Ks9SlgK++KVSgUgxfL+LB08tYeSTkm2O/Cp830rNwt2B9flYmVfsUqMKsAsB4XP9+g8nufTrtBviwHGQFQdS1klWUQzYLVvfeWU/tjw0ya1+eXhrgaM8xbhEq+JzJ7yvagL2J7enYdCAfvi5gsN7emI0zl66onmy5ClxYlZLstlShAQquvP43H777bj99tuNbAvhJ3gzzNLXYZB6Z5ysPjkLVPxbhEiJGbGVghc9nETKvear7BXF5dDS70q5WSYl2/CHnMmS19OksWq5HEqiUjjAKKUAaGzvwj9OXcKUa4U0pZ79NTtOq1a7B5ytk1IDuhKtHT2KTuisCAUuq+VETcDec+NQqMXIrL9vPDaKorrUJkueFCdqluQVeUV4Z/HNXlvyknvPPDUnDQ3tXSSEDIZZ+OzZswfLly/H4cOHXbylm5ubMW3aNLz++uu45ZZbDG8kYU685aTmy9w8emecrD454xLZE8bJCU4pAZqztQAHRIPG+do25u+SQ2u/K+Vm4R1phWgpOhkCIETG4bZPiAVv5GS6fC41wHxryADF7+EtGUKhwD/7Wsph8NYnX5XQEMNqOWGdfCjtMyEpRvNkyZPL3Gpi7kx1i1eXvKTeM/vP15H/kYdgFj4vv/wyHnvsMckQMavVih/96Ed46aWXSPgQhuOrRF7uzDjVXqzOviPs7eGtFNmjBzo+FwtQowfWzGQbFk5LQWtHN2qufIN/nbmEhAH9mO6D8N4dLq2HBcCUEXGob+twu42TUmyyy3Pdvc6Vt/m+40s/CPniEpvTrpRQYBG4IbCHk2s5xhtosZywTD5Y9tEyWfLkMjcv5g6cr5OM6Ovl2DJOGwHr75X8j4yDWfh8/vnn+PWvfy27fc6cOdi4caMhjSIIKbwdBunOjFPNJ4clWy+P1uU2owbWDfPG4+YRcQixAHM3H5S0xrDMQpuuVXAX55zRigX2yKmls0ciJS4Kp6qbFf2SDpdexqnqZmwX1bHSi5RQYHE674U91Dx7417H8oWRzExLwPysYThxsRkHzl9WLB8hBYvlhGXyYfQERSnj9qTk68uYev1icudn4KE3DsumAQC8EzzB+nv1tf9RIMEsfL7++mvJ/D2OE/Xpg7o635tvCcIo1Aa1UIvd8VPuhZs7PwOPv3PMpehjxjCrJpO11uU2lsH4l98di9SEKNnil9NHxmN+1nB7e3+1S3YJimUWKtX+MwqDjRxR4aH4/747FhOSYgAAT//f54r7r/7wlObvYEE4GLI6nfMcKKnDyYtNbrfhN9+bgPgB4YiNDMOmXefx+DvHHdsyk23ITLFhy75SpnNpsZywTD6MnKBIWZF6Obuv0vzfH4bFAqffl5blIGtkGF6Zn6EYseaN4AmtEZtmjmT1F0JYdxw6dChOnpT32j9x4gSGDBliSKPcZcuWLUhNTUW/fv0wadIkfPrpp75uEuGH8INaqMU5DDjEAkT364OcPxZi0bZCZG/ci5ytBWhu70JpXSvyz9Wi7HIbrJFh6BMS4vIjO3HR7j/AAm8GFw+qwtmfVLsnJ9sUz/uPU5eQPXog3liQiekj45222XPwjEL+uVr8uaBS0e+Gb8f+L2sd183Sfn55QZxmRyntTmtHD+7ZfBA5WwvweVWTIVYcPaTERTnd59z5GcgYHsN0bC+nzY9Jjp/+3wlsO1COF/5xzkVUFlU2oYChb0ItFszUuNzqbXgrUmayzeV39FlpvcukghfirMj9xsV9I7zfRiPXBjnMVlPMH2EuWbFixQrs3bsXhYWF6Nevn9O2q1evIisrC9nZ2XjllVc80lBW/vznP+Phhx/Gli1bMH36dPzud7/DG2+8gTNnzmD48OGqx1PJCkLI51WNePZj9XwyUlWkMxV8UAC28h7552qxSKGUwrZFmU7+PjzN7V245cU9igU4hd/PL0/ERvZ1qamkFeGsW639YsYMHoCzKonyQi0WjBkyQHGJwhOEWiyYMiIWfUJCXJYdfzB5GJZpGHClWHv3WGw7VI6KeralD7XyJJkpNhRVNMlaovzFWVatTI4UWkrnKJWx4MB5JcmhVBvEUE0xdQyv1fX1119j4sSJCA0NxfLlyzF69GhYLBacPXsWmzdvRk9PD4qKijBo0CDDLkIPU6ZMwcSJE/Haa685PhszZgzmzp2LDRs2qB5PwocAtOVZkUNtYBIWAJVbLlN76f963njUXPkGE4fbXIpd/u3zasXBOD0xGu886hyyy1IPTA3hC1rLoBUCYGKyTVdWYnfISLIiom8fF+uBmJlpCejq6UVBWYPL0iBLnStv8+qDGfhL4VcuNc5Y8viYCa3iGQA2z8/AXTcmajpGyjfp/tcPMdVZMwq+DXGRfV3C//1FqPoSw2t1DRo0CIcOHcLjjz+O1atXO/I2WCwW3HHHHdiyZYvPRU9nZyeOHTuGn//8506fz5kzB4cOSaea7+joQEdHh+PvlhbvziIJc6I1z4oUakmDt+SXOFmEpF5scj4kFotdWP1MkDROmOEXAMaoOBCLQ3aNigYTLsONSOgvmRFZil4ARysaVS0VSrAUaQ21AFHhfRzWsONVzapLgwDw6C0pyPmj6wDcw3Fut9sTjEu0YvviRMdgyhcY9becMLYI7QP9m4fKMSYx2mlSoeYELfRNUioN4kknY2EbfBHJGixoSmCYnJyMv//972hsbERJSQk4jkNaWhpsNvWXhje4fPkyenp6XATYoEGDUFNTI3nMhg0b8Nxzz3mjeYSfYHQ4eAici2DypSOKKpqc9pNzFJZy8OQ41yrZje1duGfzARz/5RwA10WT3LX0wjlk1+gw6/L6NnAcp9mnZcG0FESEfaXrHkxKtqFPSIiLVUaIxWJxWQJksda8V1iluN2ddruDuDiqOL+OLTIMa3aU67IemCGT8EuMZVSEFFY0OlkaxeJb7fpZSoN4w8nYDAU9AxFm52YhNpsNmZmZyMrKMo3oEWIROYlxHOfyGc/q1avR3Nzs+FdVpfxyIwIfowXAJJE1IWN4DBrbu5gdlq2RYVh7z1ikDewPNffHxvYufCoY4FhCp8vr7d/HEl1iAdC3j0W1HYDdonXmknYLqt1SkYX8VbOQPjRa0eFZzNLskXj9h5NcHLaFaK0wzvP3k9KTJx5hu7ctykT+qlmYmZag7yUrYryC9S5GNHiLc+coRQXK0dTeiZytBZi9aZ+LA783MWoSIhbfStfPf6dyFThyMvZndJesMCPx8fEIDQ11se7U1tbKLsOFh4cjPDzcG80j/ASt4aVyCH0BhCbr8vo2RZ8F4UxSj69RUWWjw9+ngWGg4l/gIxL6I31otKIjNwegs5tNONgtWuVM+wKulorU+Ci8s/hmVadPISlx18tK7P+yzpAyD2rwJTiE7Vaqdj4zLQGr5oxCfXsnQi2QXD4Tc1LBkbuxvQtvL85Cdy/nYpnRm4TTLAU8PZXsUen6Wb5z2g1xhlhizGBRC0YCSvj07dsXkyZNwu7du3Hfffc5Pt+9ezfuvfdeH7aM8Ce05maRQzjzFg6GavEEwpmkHl+jicOvW5jUrA3jh0Y7vXDXzU3HvZul/eG0whc/ZYXvL/FgYBcxtYoCQSoTtrd8bXphX1rJ2VrgsnzCktRPLfqPhe5eTjK6T08STk/WyNI60KtNQjKTbS55qLRwuPSyy31hmfi4+2h5suo8oU5ACR8AePLJJ/Hwww9j8uTJmDp1Kn7/+9+jsrISS5Ys8XXTCD9CaqYe3a8PWju6JZ1neWvFc/eOU3VGZK19pMfM3yfEgglDYxx/q5nrf3TrDU5/35hkw8y0BHx6vk6izKln6e7txZI/HcNnpa4J6cT+TGLGJkY7cg/xfW+U5U4OsW+NkkVEyVfjjZxMzNqY71Z+H7lkmnrKPniiRpbeIpxqvxWp36kWhEku+WdNrZwFYM8h5I4ANItFLVgxYvnZVPzgBz/Ayy+/jF/96le46aabsH//fvz9739HcnKyr5tG+BH2rK43ITPluvWk5ZtuWGUiTPiXcGq8vY4WS+0jqcSBQt8MPWb+nl4Oj24vdCRbUxv4pIqk5s7PcAmN9waHLtQ7iR4AOHC+Divyjqu+qDp7enHv5oNO/ihxUeF2HxsNPkJaEGsxpaSSSlgjw7B3VbaiH48coRa7465UMk2APUGfEE/UyJIrwnnv5kOqPkTPzx2H6AjnOXp0RB+sm5sOTkKe2yLDdA1sQr+f3PkZTvXVpOB947SiJykpYSwBZ/EBgKVLl2Lp0qW+bgbhByiZ3u2RHU1On7Vc7UZmig1Ls0eiz7XK4HrW51mWQPRYLDjY0/nzPkQz0xKQkRSDz79qcrJUCQtnlta14khZPQALbh4R51heOvFVE5756KRq8kZPwkeezRqtLMS+/LrV6e+DJXbBlDs/A49uL/RqlmetFhHeGqLkxyNHdESYi1gQWw7sVpUOp/soFtlCWC2SrLhbhPMXH59Gy1XnKLyWq9149uNTjuOct3W5JBNlSakgXsrTU86CZSnPk1XnCTYCUvgQhBpqa+xKfg6F5Y2GOSN6OlxVKZSdL5wpZuqIOLz+w0noH94HD01JxuoP5UvVeIu8gkpN+/dcq67d0N6J95dMw/2vXUtE56H2CdFqEWH14xIvp8o5RvMD+D9OXkJeQZVLcdj194131DuTorSuFT+YPAxXO7tRKAjpVhJLSrhThFPN30j6PNIO3/wko6b5G8VnmhceWgSgFp8dT1adJ9gIuKUugmBBLcSXZVbmaTwV0aLGZ6X1uOXFPZi9aZ/houeX3x2D8UO1L+mcr21F2sAozS+snZ9fRNnlNmz6/o1ecxpds+M0c9i33LKHFOLlVDW/p8ffKXIRB2cvXcHGXV9K7i8MYV+WdxyF15IyvvpgBvJXzcL2xVm6+lCr5fJw6WXHUq07v4Ff/+MLTExyjrbLHj0QU1JjFY8TCg+WJWmALWUAX+/Lcm2ZUcvyI2EsZPEhgg6WqBUzzMo8HdGihFKNLzn4mTAA2Vny3nOXcaZauRaXHOdrtYvN3+4+j9/uPg9bpOuSkKc4cG2ZTcpJVbwUojawb5g3HoOt/RxZlxvaOx3iQ89SqFJkltTgXVTRhIiwr7B9sbbyDzxN7Z1Yu/OMpmOEDscsGbXlEGcm59FiyWFZklZ7n3xe1YhNu8477TN1RBymjIh1KpOi16JGaIeEDxF0sFhzskcPNNTPQStKA4ZRES1GI3xxi9s1MTkGs0Yn4FefyA+CI+KjUMrg2BliAW5I6I/zta2q+/LojZhKjYtEGWPRUJ5eDi7iQj6qaZTiucYOiXYpGssfd+ZSM9IGRukShGI/Ek+FsLtb+uVoRSNiIsJw5Ztuyd8hYBeaUpGW4szkQqR+O0rCQ2lJWu198uxHp3D2krPYLyhrwPSR8chfNYtKUvgAEj5E0MFqzdH6cjQSpQGDb4M1MgxPzUnDV43tTILBE7wwbzwGWfu5vLj5WfLpi81461A5CssbVR2MWa+hl4Mm0aOXPiEWt5ZahOJCbikEgKLA3rTrS8loKHfFrthi6Y7DrZxDr1FZl5uudrnkOhL+Dh/aeljRAV+q7SyWHFbU3ienJJzWhT5KUvmXCM9CwocIOlhN3Ua+HLWgNmA8d+84cOCQs7XA59aeKSPkM9imxkfhmQ9POjnI+gtRYaFo6+px6xy8uFCzpuxcPh0AXAT2U3NG4d7NB91qgxTJsZE4fC1tAGvSPqmlXSkr1uRkGxZNS8HYoVZm0ZieGI1bRyVg894Lsvv898RhePF7N0r+Dl95QHv0FY8RwQVK75MxiQM0izLC85DwIYISLdYcqZejJ1PNs8y+1+wox4ES34keliW/0rpWl7w8RhLdrw9av+k2JFIrbWAUfnhzMmpavsGB85dx0s0QfltkGGIj+wJQv5/1bZ2O7NTHq5owcbgNt6QlIP9crVttkKOiod3htM5H8AF2AXKmusWloK7cfZayYh2taHQUfBXmwJJiw7zxjvQJalF7HORFitHh93qQe588NSdNMRM6RXD5BhI+RFCi15rjjVTzarPvUIt8mLqY9MRohPUJwedV0nl8ch+ciCOl9fi5xugtliW/I2UNms4pRf/wUFzt7JV04G7r6HbJ15KeGI3mq12oaryq6XueuWssskcPRM7WApxmyKeTZItQ/I7m9i6HY63a/YyN7OtivWPx/zGCz0rrFbNG84kCxbAsYxVVNMEWGYaWq9L+OfOzhjs+U4u0GhoTIZmZmseXy9KA8vvE16KMcIWEDxHUaDV1y/lqLH6rEMtmjzTEAqQ2g1ULYxaS++BExEb2dRkUZgjEmlrtMCE/uT0N99w4lPEa3Y82a+3owfih0ZIWGD5fy1NzRiGhfzjGXHMElvKpUCMlLorZJ6V/eCiqm75R3EfoWCtXAoEvbirlx6Pk/2M0So7ffKLA7YuznKycLMtYPRyHxvYuZCbbVPMBjUjo77IfT3S/Pk7FZqUmGr5alhYj9T7xtSgjXCHhQxCMKPlqHK1wzpbsrgVI6WVZ39bBdA5hThB+UDhcWg8L7L45fPu0FGVlFT2ldcY5H3977CDFpadN1/LSRPfrg7YObWH4IRZgxkh7P7EuLbV2sPv+lNe3wRYZhu7eXpclOb64qRRK/j/ehG/H3bmfOt0DtWUsIUuvTQjUBElYH+ksTeLUCnpronkTqUK7vhZlxHVI+BAEI6zOmkYUG1SawVojw1SFyrQb4pxmlE3tnViz47RzFt+h17L4DotRDY3nrU0cxykuOUgtBbrL305cYtpPT+6hXg7o6ulFc3uXR4qapsRFYWVeMY6U6lv24/1/yi63YcW7RThd3cJsR5t2QxxuHzMQz31yVtd3CxELT7llLCn4Z0XNH0yY00YJuRB7T/rdsSL1/Gem2PBGTqZpRBlBwocIcrS8LFkHRv7F/On5OreLfcq9LKWEStqgKDyYlYxZEkVSpZboTl1swT2vHnRYqBwh6NXXQ9B5slJj0d3b6xQ9I2XZcjdvixQlHg5dLyhrcAjVmWkJsnlhtDLthjhwCqUVWOCdXzmOU1zCe3txFi42XkVdawcS+oc7ou1K61oBA4SPGH4ZS24ZEtDmx6InbQAfEaXF787T4sj+/Dvf78LyRszamI+9q7K9lj2cUIaEDxGU6HFS1rIkBAAPby1wa9lL6SWtxadBzXeFr4C+fXGWQ2h9d0Ki07nX7Dgtm5Kft2wZlbdFjBEi5Ok7RsMW1VeyBAcvVPMKKrHqjlG42tVtSFFTjtNfdkQsGtTO093L4QGBszCPnH8RjzXCHhmnxW9MiFD0RPfr42R10+LHosfaxotCpXIR/LPpjaAEpee/sb0Lj75ViPcfn2bIdxHuQbW6iKCEpbaOFFK1e5RgOacYYc2kRdsKkb1xL3K2FkiWXODrDynNXtUGTaEjrvjcfM4XqXpSwiUHlu/xJV29vRhs7ae4z+oPT+KeVw+iqb0LYwYPcPvl+FlpvUs9JlbEosGdEiq58zMwQ2R5TBsYhZ3LpmP/T2dj+kj3rJI8bR09SE+Mxk9uT8Pbi7M01fbiBRpLf4XAHr0HyNc6Ez+ben/vWlB7/gsrGl1+Y4RvIIsPEXS4k56f0xippCflP8sMVguss2lhMjUtvjr8cZ7wkTGK0QPZhQyfFTomIgxNV92r79XDccxWwpS4SORMTUH2t1yFrMNyI1qGY1lOUrMOiredvdSCpe8U6brWU9UtjiU5VosKb9lcdYc9fF9c08pigZP/Ty/s2ZCzN+5FukrB2/L6NtnlRnfLcYhhef79NWGhGfynjISED+E1zPLjcSc9v14fFtYXnidqJvGDppqIEVoNtFwnfxzr92glxOL+ctfqj05qrtfVdFXZh4WFlLgo5ppq5fXt+NUnZ/Bh0VdYf9949O/Xx/F7sUWGoaun16UfpoyIZV5OUnKuFW5bs+M00/nUkBPr/HsgNjLMpXjnzLQE7Fw2HfXtnU7vibLLbViRV2RPsCjogzMqqQv4aDIljBIjIxL6u5TWkGqPP+GNJUJfQMKH8Dhm+/HoXTZwx4eF9YXnjiiTo7SuFbNGKwuSzBSb47ys1yllbXhqzijDhc+4RPfEB6C/SKm737tmx2mH4/j+L2uR88dC1WNOVbfgHlGpCqnq8iEA+oSE6PYfO1JWD8DiyJ7Mf27U/ROLdRYrIi+2xWKJ4zjJ0g+8CAoBZDNOq+WpMlKMvJGTKZkQMgT23Fn+Zi0x2vpsFsjHh/A43lhf14KcP0GoxeKU+0aMmihJHxrtcs4QAGkD++NwaT3T+r47vhxihL5CSlXRAWDBtBTH/1l9dSYmx7hYGxraO5nbJ0bs3REC+4DvrvjwJZ+er8NDbxxG2eU2zBw1EDPTEnS9dBvbuyTzAEn5ZinR1N6JB/9wGLM37cPqD09h9Ycnkb1xL+b//jA+r2rEX09U62idMrzFhcWKKPbN4VF7JscmOi95CX2k+N+7VL8LS4sYgTUyDHtXZSMz2TnPEZ8w1J9g9Z/yR8jiQ3gUrUs33loO05NNVU2UrL9vPDb+60unc/bC7jMiro2kNXJMT4p7LctV4xKtjv+zDsxLs0e6XIc7fj6RfUPR1nk9OaA1MgwtbvrY+BoO1/1RZqYlYN3cdPzkL8WOelZGIGUFlPsdrcwrlsyX81lpvWJNKXfQkhWbR3xNas9V7oMTHcdJvTty52dIWmJarnYZbr2wRobh/cen+X3CQk9Yn80CCR/Co7D+eJSWw+rbOgwXQ3pS3KuJkgnDYq4nm8srkjTNf1Zar/qiNSLFvTvLVaxFP6WsT3J9ZIF6AYu2zh68vTgL3b0cQi0WpzIFgcDBkst49uNT+L/Hp+H+1w/haEUjjKhEIbwPxZWN+MWOU07PnvB35M0M0MJnS2vBVfGzxTohkPsN17d1SC539nAw1MFZiL8nLDTS+mw2SPgQHoX1xyO9HFbnMksz2jdI68uJRZTI+SPw8C9ajuMkBR2rKFOyjrEuV0kJKrV7ZgEwTiGaRqqPJqs4ffJ093LIHj2QeaDkS04A9udFbz4abyC0cr6Rk8nk8KwGvzSr5D/DLysvmpHi1ndpRfhssVoClSyb7kwIAtl64SnMUPXeU5DwITwKy49HfjnM1SnV1451LKKERXSILUJSgk5OlLE4i6sNNC/MG+/I7ismNqovbKKq50I42LM+88s3rAUjxRXIpeCFMOtAOSnZhtz5GSivb0VDe4dTn6YN7I8HpwzHc39V9m/yNiveLcI7j96M7YuzcKKqCc98dFJXYVUAjhDwlXnF+FSmb3nB9d0JQzSf/ye3p+FvJ6rx5dds/hwhsPvb5D440enZYk3+qSRk3ClEGsjWC08SqAVWSfgQHkftx6Ml8Z3RuTf0omQpYhm0xWG4WgQdS6SFmuCUyvIrPD+rb42WgpFPzUnDV43tKGVwihyR0F9RfPGVzf+QM9nl2UpPvFaDLCnG0GKpRnGmusXRZxOSYvDJyltw4qtrAkijI3d9WyeKKxuZLEdPf3BCc26ie24cioVTU2UjlayiezRDwSIr9R6YmZaAVXeMQn1bJ7OQ4SO1eKdppYzlvEU0kK0XnsQsVe+NhoQP4XHUfjx6HGLNbJpmyWcjzsfCKui0OIvrma1pdUJVclI/UtYAC4AxQwa45GuRg7+vpXWtiiHok64VflyRd9xFBJ69dAUbd32J7YuzNJcZ8QbCaCy+zyYMi8EnK25x/EZqmr+RLK8hJiUuCivy2JMNNl3tYhI/YkGwd1U2Hn2r0KmaPC9yPv+qCcerGjFxuE2xNp0RgyiLtVNun3Vz0/Hsx6cCznrhDfzdX0kMCR/Ca8j9ePQMTmY3TefOz8Dj7xxziaAZM3gAztZckT3uSGm9W+UnhIJQz0Cjt+yE0En98T8V4bNStkrbYvj7qtaOpdkjZZ11xWKMNYGgt5ES7/xvRM1Sxfs2qfmTSdF0tQvjE6NxUmB1FFvXxIJAKlLJFhkmacFR88FzZxBlsXbK7fPsx6cC0npBaIeED2EKpAYnPmmbXGIyM2ONDMO7j92MssttOFJaDw7AzSPs1bqFFc7F/PzDk/j7yRrZwUOPr4KWgUZvOLrQSV2P6BHfV5brZM3Iq7XMiLcItQD552olB2C1ycCMkXaBUVSlLyz+tGiplTXBo/BZytlaYFhyO5Y0FizWTtbyFFqDBcyCP7TRHyDhQ5gCKetEbGRfv3esk3rJqlm3lAYPLb4K/Esy1GJBD8e5FbLPgjtZf8X3Va6quPA6K1WET58Qe0pEvWVGWEkb2N9R34uFUAsQHRHmlMVZylIiNRlIGxiFO8YOxrDYSDS0d+oWqmopC9QEjFGlVbRkdWexdqohZWUzW2Z5Kfyhjf4ECR/CVIiFQiCaptWWXtQGDzXfHaXQZpaXZe78DDy6vZAp/JynvL4NrR3dzPuLee7ecU5tamrvRHdvr8sAnZV6vTaV2uDd3csZWoJBjlGDohSFT3S/Pmj55nrfREe4lp84UFKHh7YeRu7869FQwsnAqepm/PHTUhyvasb52guO46bdEIepI+JQUNZgqA+T2jNoVHi4lpIILFZAPeUp/KEsgz+00Z+gkhWE6UmNj0L2aNeK1f4KP6BtmDdecT+5GSx/fP6qWdi2KBP5q2Zh++Ish3BQsnColQppau/EirzjTqInIykGNw2zyh4D2AeU7YfKFfdRQnytK/OKcVjkHxViAcJCQ5hD9lPioph8lnjxoJe/nfxadpstMgyfPj3bca+2P5IpXX6Cu54iIGdrgZMwSo2PwvuFX+F4VbPL+Q9dqIfFYi8fwsLYIQOY9uORewaNCA/XWhKBpdSM1nI0/lCWwR/a6G+Q8CEIHzElNVZxu9rgISUI5V6SPGovSynRdOKrZkRH9EVmig0hooJa/IDCcZwmC5EYcfbh/aIlLsAuDoRtVxvkOI5DTfM3it/79uIsvPvYzcj7n5uxY9k0pA00TlxH9+uDnctmwBoZ5rhXLAkWxeJUzWp16EI95k0cpnjO+VlJyEy24cwlecd6KcTPYGldK/LP1cJyrY+11rsTomfpKnd+BqaPjHf6TLxMyrKPO23wNv7QRn+DlroIwkd4IrcIa1SWXH0nJb+NncumY+OuLyWX2PQ62QJAZrLNqS2/2HGKue1Sy35ZqbHo7u1VdCIPsdjzAAnDrzftOo8LtcYNIm0d3Y5IIh4WnxzxMpO9iroayoqqpLYVRZVNDOe5zrQbrie4lFo+nToiDlNGxDpFLo4ZMgCr5oxiOr8eqxFLpKKWaEZ/SGzoD230N8jiQxAK8DNcT5mTtcxOWWB1dpV6WaqJpvr2TtklNneKky4UVIYvrWtVDc8Wtl1q2S8sNASHVSLLejmgsLzRsazEiz7WOmUs9HCu1dPlrFRSnKpuRs7WAqz+UFkIAsDNI+JlLTCTk+3lQuSsgHLLX/zupXWt+OHWIzhQ4iyKC8oa0CckBDuWTUf6tRImp6pbcM/mgy7LdVJoXZYSwrL8zbKPO23wFv7QRn+DLD6E4QRCyKW3oiiMzoyqFpWlZE1inVlKRaopWa/GJA5QFDNjh1odz8zXKktT6YnRkm3n2/R5lXIWY3GxVG/UsRJb13LnZ2DJn46phv1vP1SOooom1fPzg5+c0/sPJg9TrAYvt/z1WWk97n/tkFPSQiG8ZepqVzfOVjufg8XxtrSuFT+YPAxXO7udvsPbkZv+UJbBH9roT1g4NTf4IKOlpQVWqxXNzc2IjpYvxEi4Ekghl3yOEqklKLNHUTS3d8lGjandj++9dghFFY2SIeRq1y31vUplJ0ItFkwZEYs+ISHMkVc7l03HhKQYANIC+7uvfKqr7tX2RzKdwsvlYKkyLyZ/1SwXsZaztQAHSupcMngD9n7JGB6jKFZ4rBFh+GT5DCTFXRetYhFdWtequOynRAjUo+eUkLp2qfdEZooNC6alYFyi1WeTJU9Gjxo1GTSyjYEwQRXDOn6TxYcwjEAJuVTzdckrqMTNMgU+zYDYitQnxILuXuU8PvxgJDXYys0sxS9O8fdu2VOi6FcyfWQ8unp6mXLs8JmK+/frg08+r8Zbh8qdrAQz0xLw1JxRuot99nCQzBskRqvoyUyxufS5mrPyxOExWDgthUn4tH7j6kcktsi5k5vJ3aU/KV8yqfdEUUUTIsK+wvbFiW5+o348UZbB6MmgEW0MpAmqXkj4EIZgVEIzM6Dm68LXUDL7y0L4kiyta1Us6ig1GPEOwGLRqvbi5ItIyi2RAPZoqqExEcyWiJtHxKGrR95hef/5OtRdUV4mU6JPiEV3aYv+4aFo6+hxEUW2yDC8kZPpsr9qOY7ZI5l9plh/X1qvzWK57uMjB4tlSioqTM97wl+tE2acDJqxTd6GnJsJQwikkEvWQUctJ44ZaGrvRM7WAszetA+LthVK5omRC4HnHYDFjt1KL04eteehu5dT3WfNd8c4HJb7hISgoKxBcX+lGmhqPLy1ACvyjiN3fgZ2Lp+O5Dh2Z+3Wjh5MTrY5fZaZbMPeVdm6y45ocYIGgJ2fX1R0wOetcdsfYRvYRib0V91n+sh4bF2QqcnxVut7guX5NStmzL9jxjb5AhI+hCEEUsgl66DjDy8LI0SKcDBifXHaIpStYClxUaovnw+LLiJ79EBH/SVPV1fn+2XCsBhsW+hqqVFi4bQUp8iy9x+fJmsJZI3SkYr4k+O3u88ziQLWPvx9zmTJNobA7mAujOjTEpmo9T3B8vyaFTNOBs3YJl9AwocwhEALudQy6BwurfdoyLteWEWKlsGI9cX50u7zsvvwz0O1SgTXyeoWlF1u010xXivuCNk3D5UzZxgvrWvF9zOHuWRblqqIzofq8+HiahwsuYzFbxUir6ACeQWVLteidq9D4BwlJv4NjE2Mxvr7xjtdo1omcSFa3hP+bp1QG1x9MRkMpAmqO/iNj8+6devwt7/9DcXFxejbty+amppc9qmsrMSyZcuwZ88eRERE4MEHH8TGjRvRt29f7zc4CAmkkEuho+6es1/j//3trOy+vM8PYC6/H9Z6SloSKcaqXFdKXJSq8+6PZqYiZ2sBk79JeX2bWzmC3l6chT/sL9Pk2Huquhm/23dBfUcBhRWNqn42ktFMyTYsnJaCsUPlo5k4jlPNbcTTw3E4WtHo5HczdUQcXv/hJFgjw9Srvl97foHrv4HPq5rw7McncepiiyNPj9RzruR4K/TRYX1PqCVuZK0H5m2UauUB7iUodRdPJE31R/xG+HR2duL+++/H1KlTsXXrVpftPT09uOuuu5CQkIADBw6gvr4eCxYsAMdxyM3N9UGLgw+jc9KYgdT4KOz7kr2yt5mcBLXM7lgHo0271C05+edqFb93wz+/cMn7otTG1PgoTB0Rp5r3RoruXk6zY+/2Q+U4oyM6rLy+DRzHyTrhSkYzVTYhou9X2H7j9WgmsSOvuxavz0rrnZ7Jp+akoaG9w0lMpQ+1W3ImDItxOX7Tri915ekB5MXeGwsy0dDeKfmeUBMOPGa1TijVygN8PxkMpAmqXvxG+Dz33HMAgDfffFNy+65du3DmzBlUVVUhMdH+Etm0aRMWLlyIdevWUU4eL+KJsFBfobW6t5mi2LTM7tREa2ldK46U1Sv2xao77KUK1AQXi/UiBHbrA98GRh9fF1LiXMPsU+KisGbHacl+yRgeo7vm2Jb8Eqdj068tC01IilGNZnqvoBJjhkRjk6gkCB+m7y77z9fh4PnL+N3+UqfzC9sohbvRmivzinFAdHxhRSNmbczH3lXZzBGGQsxsnVB7X7y9OMupTIovCMQJqlYCxsfns88+Q3p6ukP0AMAdd9yBjo4OHDt2TPa4jo4OtLS0OP0jCB69s22zOAlqcTzlQ96FL0JhVI1a6YT6tk4Ayn4c6YlsExDhkktpXatTPSgWpHxGhD44cv2ySFA+Q8t32SLDXLIsC8s3nLmk/F75+Ycnce/mgy6D5sGSy9i060tNEV5y/OhPR10ExdlLV7Bx15eyx2h1fBf6uimVAWls78Kj210TRqoV2QXMbZ1giWY0C6w+aYGI31h81KipqcGgQYOcPrPZbOjbty9qampkj9uwYYPDmkQQYvT6l5jFDM8xpNxTysujNvsW0kdQul3OnP7UnFG4d/NB2XNsmDfeJTmkHvE5ZUQsnpqThvxztU4ZjIVLSPys93DpZQAW3DwiDmqJ7NfcPRZ/P3HJKUeRWi6bAyX2sg564C0rr/9wIq52deu2RgH2sHu588tZbliWS+Wenx9MVq4Yz6dK0HKvN8wbj/lZwxX38SXkPOwf+FT4rF27VlV0FBYWYvLkyUzns0jMiDiOk/ycZ/Xq1XjyyScdf7e0tCApKYnp+4jAR2m5KDqiD1qudpvaSZAlWZnUPgdK6vC91w/hfG0r83c9vLXAyelVypxeWqd8PqmM2HrE58mvmnDv5kOOv8WlM2amJeD5ueOwZsdplwF72g1xOFLaIHlfF01PxaLpqU7XVV7fhkXb5Mtd8PmQMpNtKKps0hWWv+RPRczWMj3IOQqzLJfy5V2EHCy5jPZOdbEn/l61e33ziDjVc/oSch72D3y61LV8+XKcPXtW8V96ejrTuQYPHuxi2WlsbERXV5eLJUhIeHg4oqOjnf4R5sHT1dFZkFsW2blshq7K6t66JpZwYKXkhVpED484x4rYnK4nj4jWZH4AcEVk3RDXCztYchl3v+q6tLT/fB26untV76vwuliF2cJpKcwpEqTQ43DNipIlQmm5VOkZO1rRiPEqYfjuWEA8/TvSe34ty8uEb/CpxSc+Ph7x8fpfBEKmTp2KdevW4dKlSxgyZAgAu8NzeHg4Jk2aZMh3EN7DTPVklJwBtTgJevuafJGszN2lky17SjAxyebUH3zeG3eXesTtbL4qneivsKIR+atmAQDTfeWFmVqdr7FDrdh+Y+K15bV6pzQILPDnDrFAsripEHExVRYLpVxZCKXnv6hK+X786NYb8P99fMpFeIZagOkj9WV2tkWGefR35O7vlJyHzY/fODdXVlaiuLgYlZWV6OnpQXFxMYqLi9Haap+VzpkzB2PHjsXDDz+M48eP4z//+Q9WrVqFxx57jKw4fogZM7bKOQOyOgl6+5pY/A30LCOxOCnLiSpeJITIGG+KKpsc/SF0rF7+7nHHctHm+RnIXzULaQPVyyro5XBpvSbnz9z5GZgoKlvBI3a0To2Pwvys4Yr9oMRYhiWvcSJLi5KF8vm545jKQkj1h9rzMy7Rir2rspGZ4tw300cmOFlAeOuKmlUvJS7K478jo84fzM7DZsdvnJt/+ctf4q233nL8nZFh/9Hk5+dj1qxZCA0Nxd/+9jcsXboU06dPd0pgSPgXgVTwlMcX18Tqb6C1cvf0kfF4IGsYlr4jPxDwjs5iK0JTeye6enplLRbC/uBDzoUI895svP9GRUdpd/iy5grzPVGqbA9IL3Mo9cOYwQMU646xaKXc+RMBuFqspCwRcj46LHl6WJ+x95dMk7SASFlXbJFhaLnahR5B3/Dn48uXiDHqdxSI7x7CFb8RPm+++aZsDh+e4cOH45NPPvFOgwiPwZpx2J/w1TWxJCtjTfCXNrA/nrw9Df369kGNSrmJ5vYul+zMM9MS0N3bq1psFLBbXNQGoBuTYjDthjjNoe6A+nLRtkPl2HaoXHKJQyzmVuYV40CJc1tDYLfM5D44UTZXjVw/fPl167XBv1tSjJ5W8fVJT4x2si6JEebZMmKgZ02IJ5XfS8q60tzeBavIGZ0/n9rSmru/o0B89xCu+I3wIYKHQAwJ9dU1sfgbCPdZ8W4RzlS3SPqqnK9txeMKVh4hbx0qR1Flk9Nnaj4wQtSsGvwA9NpDkzRlZeaZMTIB33R1o0DFZ0ho+ZCyTmQkxeB4VZPLcb2w5/GRQi3JXQ/HobG9C+MTo3FS4hxq/j3r7xuvvIMAIwZ6vT4tcv3QC7sz+tuLs9Ddyzmdz9O/o0B89xCu+I2PDxE8BFrBU8Az16Ql6oTF3yA1PgpbHpqE/v30z4dCLRZkpthQWNHoGinGePzMtARkpcYq7scPQPygu/0RtmrqP7k9zVFE8w85mZipkkVXaPmQsk5IiR4hUr5OrHmJvj1OPhoVcH15h1jsVjW5LMxSGDnQa/VpUeuHospGFxHl6XdDIL57CFdI+BCmJBBDQo26JqHTr5Izqh5+8fEptH6jL9keYL+eO9MHu3V87vwMzQPQzFED7c7CKue/58ahjmOFVcV/cnua4nGHSy+rZhSWQko4sDqUZyRJO0vzTBI5U88QOQyz4MuBXq0ffrv7vOSz7el3g5HnN0M6DsIVC6eWqjTIaGlpgdVqRXNzM0WDmYBADAl195p4Z1QpZ1J3iqOW1rVi9qZ9mo97Yd54DLL2Q2xkX5daU1KI/WtCLNf8YeY7+8M0t3e5LGMJfW7EvjZS+/Oo9Y/atW+YN15z+Hn60Gh8suIWyW1S91CqrXL3esIwK7p6e53qnukN6VbrZ0+i1A88cvfO0+8Gd85vpnQcwQTr+E3CRwQJH8LMqA3Q+atm6R4E8s/VKmYgVvtOtUEs1GJBVmoswkJDNA0I4gFIbVA58VUTnvnopKQoqG/rkK2eLtV+3kn56TtHI+eP2vpm5/LpktXOAWmxIXUtUvuJs1DzSAkEudw8UrAO9FrOqYZSP4hx59n2Np6anBDKkPDRCQkfwpO4O2ioiZNtizKRPXqg7rZpsfgIX+QsxwoHdHdm06yDivA7WJLeqQ3CtmtChMVXyRYZhr2rslVn93wb+4RYXBx5pfbbsqcExyoaFduQv2qWR5L8abViaBVdOz+/iN/uPi+7jzvPtjfx5OSEUIZ1/KaoLoLwAu6avvlBhCXBm17kcrKEALgxKQYD+oXJhiyrOaq+MG88HhAUl+RDm3kfCJbBsbSuFUfKGpjDr4Xh01K5ag6U1OGhrYcdS2xO0W1516LbBNPClquuYdbTbojD6epmNF919otqudrFlAdHKsRbbj+O45yKo8pRXt+GNTvKdefmkUMusd/itwqxbPZIZoucFKnxUbh7QqKi8PGXiCoKiTc/JHwIwguwFAuVQmuCN3dfqFI5WWYwWGrUHFWniIpLahkcP69qxLMfnZINDxdSXt8GjuOcLA2yYdMccOpiC7I37nX6bo7jnJbJeHo41zBrjuMkZ/c9HHQlvFOykrBGg536qsnwJHxK+X6OVjQ6rJAz0xLQ1eOaq4nlWQ+UAp8UEm9+SPgQhIdxJ0mc1gRvWtp0pKwBFthFiTjSSU7gyFkotA5aLEJQShypsSW/xKmeV2aKDQunpqgeJ/xuNYHR3cs5llzyz9Uq7ss6u2cRgqzRYJsUrCZa2iSEVXQdKKmTzDPEKrrUkiEa6V/kKQJFwAUyJHwIwoOU1rXiryeqFfeRG4j0JHhTo6m9E4//qQiflTpnO552Qxxee2iSY5BlXYIRwprBl1UISmVEloMvwlkkWgoqLG9kqmou/G4tM3ajZvcsQlBuQNWKVJvUBAWr6FJLrqgmuurbOrBoRgoem5nq9GzzKRz8JUqK9bdA+AYSPoRf4A8zPSFarBVyg6MWywMrK/OKXUQPABy6UK/Z/0N8T1gz+LL4QMjVZJIjY3iMbK2sts4ehIYA4OC0PCj33dmjBzLP2JVm9xnDYxwJDNWipJSE4P4va9HD2Z8TqQE1OTaSySIj1X7WJUdPii61dgD6l4p9BVVoNzckfAhTw/piNpswknpRi1EzfRvtK6BWKoHV/0Ptnqg5LrNcl1x1dzEvzBuPKSPiUF7fphjt1tMLRPfrgxaV5Ix8n2qZsUvtGx3Rx8X3Rc46oSZahGH0/Hka2jtxqroZ2w+VOy3tKSHVfi2CgrWmG2B3iBdGnqk960rtWHvPWL8tHKrHckp4HhI+hKlRezH7KlGYktBSExg8aqZvo30FWKwC4qUIqet0956wXJdalo0Q2J2u+UgxlqwcLd9046k5o7CzuBoXalsVB2YtM3bxvlvyS1BU0STbP2JYl5EA50i09wu/cvkeKZ6aMwrfnZDI/JxKCQr+OXju3nEA4HSd4ns4ZUQs+oSEMC/zqLXjiEpR252fX3TKyE0QapDwIUwLy4t5zY7TXjWBswgtNYHxk9vTmF/URvoKsAywKXF2S82Z6ha8dajcKXx6ZloCHsgapnhP3iuoxAdFrgOy+J6oXZfa0sqMNOfyDCMS+ttrhKlYPzbt+hKAaxJAuT5lnbEL0w1ItUHJOqFlGUkYicZK+lCr7iVHpXxAb+Rkyt5DLbma1AW5cp/8dvd5/Hb3eVP7/BDmghIYiqAEhuZBLVmfWhkBTyQKY0me54kEZkb5CogdRIVMHRHnklXZaMTXrnRdUgkF04dGY/194yUzIje3d+GWF/eoLmcB9ns2MTkGS7NHKvap2hKq1sgzuSR8WjIYayUz2YY3FmS6CAK15zQz2YawPiE4Utqg+Ly7+2yy/F74CY6e0hZE8EAJDE2G2XxQ/AE1C4VyKj/jE4WxLg14IpzVKF+B3PkZWPKnY5JRXQBU/ZLcRXxPlK5Lq4OoNTIMnz49m0n89HAcCstdq3/zsC6hsvhyCZHzyxJfa6gFmktkyFFU2SRpAVWzNMlliBY/7+4+myy/Fxb/In/w+SHMAVVn9zCerKQd6KhVjs5KjVU83uhEYSxLAzxmqS4vrg5tjQxD3v/cjPxVs7Bh3ni8MG888lfNwvNz03HoQr1bETss6LknqfFRyB49kGkw48VPZopyZXMeOSdqJT8mHl4Is/QZa7Vz/lr5avNqmbpZEAoCMbnzMzAxOUbyOLXSHKwO6Cyo/V54YZi/ahZ+cnua19pFBCZk8fEw/haGaTaUfEGskWFeTRSmJcrK1+GsrJFXPGqJ+NzFm8nbrJFheH/JNJRdbsPh0stY/eEp2X3lctqwWPZYk/oB+kSvligqFqQsoNbIMCzNHqmrOK0eEStn+Wb9vQRSaQvCd5Dw8SDuZOwl7Ki9EL2ZKEzPEpavwlm1Cm4tkUV68IW1i+/7f5z8mvme2QXjcfGpnOAFBGufZabYdDndOtUOe/da7TDB9hALMGNkAq52dduXpVQMT3KCQOu91yNiWZcOWX4vlBmZcBda6vIgWpZGCGXkljuEJvBtizKRv2oWti/O8lhkh6+WsMRLVmr7Si3B8IL7UwkxLresqAS/fCO3HJmZbPPKPVFD7Z4J+3ZlXrFqpmdeQLD22bHyRqclMq2kxkfhnUdvxs03ONc76+WArp5evHT/TZgxMkH2eLVlNv46WAcDPc87y9KhFsyylEz4JxTVJcLIqC5PRPcQ5sBbS1h68hSpRcPJnUMqsigzxYYF01IwPDYSG//1pWxmXfFxZgwtFt8zrRFZvIVFaDHTEo21c/l0yWg0VnK2FuDA+TrJ/EO8ZejMxWa8KZGGQO1eNLd34aE3DisWgtWShkGIJ9+DlBmZEMI6fpPwEWF0ODtL+DNByKHn+VEbaNTOoTSY6N3mDbRGTkr1rRJjBg/Ae/8zVVJAlF1uw87PLyr6nqQPjcYnK25h+i4xWsWDnnvhKYGiJsTlQvwJQisUzm4SqFgdoRe9PmIsCfGUzqHkZ6F3myfRYxVjza4tpH94H9nzsTjdnrrYotuvj2XZnDVNgBS8aMxMtqGo0jUbszu+M0aXXvF3KLWJ7yHh42F8Hd1D+C9aBzshrBFBRuc64vHmy11P5KSWiCyewopGReEyIqE/0hOjFZeL9Pa3p8SDlGhkzWrNCjkj2/FVeR3CFXJu9hJacpEQBODeYMcL7u2PZOo+hx68nbdKzZFbzhlcbxSbMCBByuF83X3jFY/X299qOa30vlekRGPL1W5kphjrmB5szshSz4bRDt6EfsjiQxAmxYiZMp8Iz1uzbXfzVmm1FOm1isn1bYgFimHhKXHSTtH8zP3GpBjMTEvAgZI6p/MY0d9GL5srLaUqZbXWQ7BYvuWejafmjKLUJiaChA9BmBgjBjtv+Zm5k7dK7zKAO1YxqX6xRjgv8/CEWizIGB6D8vo2PP1+CYoqm5y2C8Wdp/rbaPHgzlKqXnzlB+Yt5IR/Q1uH4nGeWnImpCHhQxAmxojBzluzbXcGUr2WInesYuJ+2ZJf4lJVnic6og+OVjTKRieJxZ0n+1tJPGixmJHTsbEoCX8lvy+A+trbkPAhCD/AiJmyp2fbegdSdzOcs1pY5ERBanwUuGvLO3Kw+igJxZ03rRt6LGbkdCyNXsd8NeGfPjQaZ6uvUF+bABI+BEEYgt6B1N0lFzWLFosoUGuDWsFOHl/N3PVazMyYbsNX4d7uRl2pCf/19413SQLq674OVkj4EARhGHoGUqOWXOQsLCyiwN1aZb6cubtjMTNiGdQooeLrcG93HfPVhP+EYTFB4eDtD5DwIQiT4o+JzswWvcMqCvRGefH4cuZuhJOynmU5o4WKu8LDHYwqKM0i/APdwdsfIOFDECbD1zNfIwSXlpe7J6OLtJxbatCaMTIBXT29KChrcJnFT0yOwdLskT4Xd75yUjZSqBglPPRi1DNoNuFPSEPChyB8jFho+Grm6yvB5cmBW8u55QYtqUKkE5Nj8EZOpiky7vrCSdlooeKL0HohRj+DZNUxN5S5mSB8hFSW4/tfP6QrE7ER+CqzrKeyEus9tzjLujUyDK/MvwmZyTbHPoXljViRd9xjGam14u3MyCxCRQu+Dq335DNImA8SPgThI6SExrEK+ZBqQPuAwore0g9G4cmB24hzr8wrlk1aaAZ4a1X+qlmGlpqQw2ihYgbhEWxlNYIZWuoiCB8gt1Sg5kjrqZmvr5caPOkb4e65fe1/Im6Lkv+Vt5ZYPLG85uvQevLPCR5I+BCED1ATGiFwzh2jZUDR45zs66UGHk8O3HrP7WtRCPje4V0Ko4WKWYQH+ecEPiR8CMIHqAmNSck2FAqWvVgGFKnBMT0xGuvvG48JSTGKx1IWX3k8JQq1CFRfhnrL4SmhQsKD8DQkfAjCB6gJDT0DitTgeKq6BfdsPshkHfD1UoNZMVoUarXemGmpTQoSKoS/4RfOzeXl5Vi8eDFSU1MRERGBG264AWvWrEFnZ6fTfpWVlbj77rsRFRWF+Ph4rFy50mUfgjALas6U4ugiJeSck3kOlNSpOuJ620HWnzDS8VVr9JzREVQEEez4hcXniy++QG9vL373u99h5MiROHXqFB577DG0tbVh48aNAICenh7cddddSEhIwIEDB1BfX48FCxaA4zjk5ub6+AoIwhUjlwpUa01xYLYO0AzeFaPulR7rjdpS25Y9JZiYZDOVQPXHrONE8OAXwufOO+/EnXfe6fh7xIgROHfuHF577TWH8Nm1axfOnDmDqqoqJCYmAgA2bdqEhQsXYt26dYiOjvZJ2wlCDSOEBmutKW844gYy7t4rPY7SckttPEWVTT719RFiRidsghDjF0tdUjQ3NyM2Ntbx92effYb09HSH6AGAO+64Ax0dHTh27JjseTo6OtDS0uL0jyD8kbSB/VX38VX1cMKOXkfp3PkZmJgcI7nNW7mWWPBVEkyC0IJfCp8LFy4gNzcXS5YscXxWU1ODQYMGOe1ns9nQt29f1NTUyJ5rw4YNsFqtjn9JSUkeazdBGI0w+/P52lbFfdOHRpO1x8foTdRnjQzD0uyRiuf2ta+Pr5NgEgQrPhU+a9euhcViUfx39OhRp2Oqq6tx55134v7778ejjz7qtM0iepkAAMdxkp/zrF69Gs3NzY5/VVVVxlwcQXgBqRm2HOvvG+/h1hAs6HWUNkuuJTnICZvwF3zq47N8+XI88MADivukpKQ4/l9dXY3s7GxMnToVv//97532Gzx4MI4cOeL0WWNjI7q6ulwsQULCw8MRHh6uvfEE4WPkHGXFhACYkZaACcNivNImMzu1mqF9eh2lzZ5ryezCjCB4fCp84uPjER8fr74jgIsXLyI7OxuTJk3Ctm3bEBLibKyaOnUq1q1bh0uXLmHIkCEA7A7P4eHhmDRpkuFtJwgtKA24egdjtRk2z4xrzqWexOxOrWZsnx5HaalcSxOTY0yRa0lOmIVYgLGJFFxCmAcLx8kk/jAR1dXVuPXWWzF8+HBs374doaGhjm2DBw8GYA9nv+mmmzBo0CD85je/QUNDAxYuXIi5c+dqCmdvaWmB1WpFc3MzRYIRbqM04HLg3BqMS+taMXvTPtntG+aNx80j4rxiCcjZWqCYjNHXuNs+M1iKeJraO/HYW0edMnv7WsTxNLd3uQgzIWZpJxGYsI7ffiF83nzzTSxatEhym7D5lZWVWLp0Kfbs2YOIiAg8+OCD2Lhxo6alLBI+hJEoDbgA3BYLRgkOdwZ2NQGWv2qWT8WCO+0zo6XI7CITAMout2HFu0U4U90iWXPOLO0kAgvW8dsvoroWLlwIjuMk/wkZPnw4PvnkE7S3t6O+vh65ubnkv0P4DLUoFyMiYNzNKCyMClu0rRDZG/ciZ2sBmtu7mI4HzO/U6k77zBae7S+RUxzH4ZRI9ADK7Syta0X+uVrTXAMRuPhFAkOC8EdYfXCkYE006G5GYSOKX5rdqVVv+8xYI8sMleJZ0NJOKataZrINbyzIpCUxwiP4hcWHIPwR1mzKUmgVC1rqevEYZT3Qm5vGW+htnxktWWYXmTxa2rkyrxgHRAKzsKIRszbma7I8EgQrJHwIwkOoDbi+FgtGDuxGFvH0BHraZ0aRYXaRycPaTl58i5fEAKCxvQuPbi/0QmuJYIOWugjCg0iFHwsHXKVtnsbIgd3IgqueQE/7zJo3R+2ZMgss7VQT34XljT5ZUiQCG7+I6vImFNVFeAKlAdeXYsEfIoR8iVR4tq+junjMKjLFKLVTLeIOALYtykT26IGebCIRIARUOLs3IeFDBBNmHtjNhCdEhplyAxmNlmv73muHcFSQk0iMr9MhEP4DCR+dkPAhghF/sR4EAmbMDWQUeq6tub0Lszbmo1HkyBxqAaaPTCDLI8FMQOXxIQjCs+iJCiP0YbbcQEai59qskWHYuyobmSk2p8+nj/R8qRUiOCHnZoIgCC9hxtxARuHOtVkjw/D+kmlkeSS8All8CIIgvIQZcwMZhRHXRpZHwhuQ8CEIgvASZswNZBSBfG1EYEHChyAIUxNINZz8JQGhHgL52ojAgqK6RFBUF0GYg0CNfgrkFAKBfG2E+aFwdp2Q8CEIcxDoyRX93ZFXKVePv18b4Z+wjt8U1UUQfkYgJ77jCeToJx5/nXOyWOJS4wP32ST8HxI+BOEnBOrSjxQsEUL+OrD6+31UytUTCJY4IvAh52aC8BMCOfGdmECOEPLn+8hb4npE1iqhJY4gzA4JH4LwA4JtwAnUCCF/v4+BnIeICB5I+BCEHxCMA07u/AxMHxnv9Nn0kfF+XcbA3+9jIFviiOCBfHwIwg8IxgHHGhmG7YuzAipCyN/vI2+Jk4u28/f7QwQHZPEhCD8gUJd+WAikMgaBcB8D0RJHBBeUx0cE5fEhzAolhwsMAuU+BpIljggMKIGhTkj4EGaHBpzAgO4jQRgLJTAkiACFksMFBnQfCcI3kI8PQRAEQRBBAwkfgiAIgiCCBhI+BEEQBEEEDSR8CIIgCIIIGkj4EARBEAQRNJDwIQiCIAgiaCDhQxAEQRBE0EDChyAIgiCIoIGED0EQBEEQQQNlbiYIgiBMSWldKyoa2qmsB2EoJHwIgiAIU9HU3omVecV+X8iVMCe01EUQhEcorWtF/rlalF1u83VTCD9jZV4xDpZcdvrsYMllrMg77qMWEYEEWXwIgjAUmq0T7lBa1+r07PD0cBz2n69D2eU2WvYi3IIsPgRBGArN1gl3qGhoV9xeXk8WRMI9SPgQBGEY/Gy9h+OcPhfO1o3+PlpOCyySYyMVt6fEkbWHcA+/ET733HMPhg8fjn79+mHIkCF4+OGHUV1d7bRPZWUl7r77bkRFRSE+Ph4rV65EZ2enj1pMEMGHt2brTe2dyNlagNmb9mHRtkJkb9yLnK0FaG7vMuT8hO8YkdAfM9MSEGqxOH0earFgZloCLXMRbuM3wic7Oxt/+ctfcO7cOXzwwQe4cOECvve97zm29/T04K677kJbWxsOHDiA9957Dx988AGeeuopH7aaIIILb83WaTktsMmdn4HpI+OdPps+Mh658zN81CIikLBwnMgm7Sfs3LkTc+fORUdHB8LCwvCPf/wD3/3ud1FVVYXExEQAwHvvvYeFCxeitrYW0dHRTOdtaWmB1WpFc3Mz8zEEQVwnZ2sBDpZcdlruCrVYMH1kPLYvznL7/KV1rZi9aZ/s9vxVs8gqECCUXW5DeX0b5fEhmGAdv/3G4iOkoaEB77zzDqZNm4awMHuUyGeffYb09HSH6AGAO+64Ax0dHTh27JjsuTo6OtDS0uL0jyAI/Xh6tk7Or8FDanwUskcPJNFDGIpfhbP/7Gc/w6uvvor29nbcfPPN+OSTTxzbampqMGjQIKf9bTYb+vbti5qaGtlzbtiwAc8995zH2kwQwYY1MgzbF2d5bLZOzq8EQbiDTy0+a9euhcViUfx39OhRx/4//elPcfz4cezatQuhoaHIycmBcKXOInKGAwCO4yQ/51m9ejWam5sd/6qqqoy9SIIIUjw1WyfnV4Ig3MGnFp/ly5fjgQceUNwnJSXF8f/4+HjEx8dj1KhRGDNmDJKSknD48GFMnToVgwcPxpEjR5yObWxsRFdXl4slSEh4eDjCw8Pdug6CILxL7vwMrMg77pTojpxfCYJgwafChxcyeuAtPR0dHQCAqVOnYt26dbh06RKGDBkCANi1axfCw8MxadIkYxpMEIQp8PRyGkEQgYtfRHUVFBSgoKAAM2bMgM1mQ2lpKX75y1/i0qVLOH36NMLDw9HT04ObbroJgwYNwm9+8xs0NDRg4cKFmDt3LnJzc5m/i6K6CIIgCML/CKioroiICHz44Ye47bbbMHr0aDzyyCNIT0/Hvn37HMtUoaGh+Nvf/oZ+/fph+vTp+P73v4+5c+di48aNPm49QRAEQRBmwS8sPt6ELD4EQRAE4X8ElMWHIAiCIAjCCEj4EARBEAQRNJDwIQiCIAgiaCDhQxAEQRBE0EDChyAIgiCIoIGED0EQBEEQQQMJH4IgCIIgggYSPgRBEARBBA0+rdVlRvh8ji0tLT5uCUEQBEEQrPDjtlpeZhI+Iq5cuQIASEpK8nFLCIIgCILQypUrV2C1WmW3U8kKEb29vaiursaAAQNgsVh83RyP0NLSgqSkJFRVVVFZjmtQn7hCfeIK9Ykr1CfOUH+44q0+4TgOV65cQWJiIkJC5D15yOIjIiQkBMOGDfN1M7xCdHQ0/TBFUJ+4Qn3iCvWJK9QnzlB/uOKNPlGy9PCQczNBEARBEEEDCR+CIAiCIIIGEj5BSHh4ONasWYPw8HBfN8U0UJ+4Qn3iCvWJK9QnzlB/uGK2PiHnZoIgCIIgggay+BAEQRAEETSQ8CEIgiAIImgg4UMQBEEQRNBAwocgCIIgiKCBhE+Qcc8992D48OHo168fhgwZgocffhjV1dVO+1RWVuLuu+9GVFQU4uPjsXLlSnR2dvqoxZ6lvLwcixcvRmpqKiIiInDDDTdgzZo1LtcbTH0CAOvWrcO0adMQGRmJmJgYyX2CrU+2bNmC1NRU9OvXD5MmTcKnn37q6yZ5jf379+Puu+9GYmIiLBYLPv74Y6ftHMdh7dq1SExMREREBGbNmoXTp0/7prFeYsOGDcjMzMSAAQMwcOBAzJ07F+fOnXPaJ9j65bXXXsOECRMciQqnTp2Kf/zjH47tZukPEj5BRnZ2Nv7yl7/g3Llz+OCDD3DhwgV873vfc2zv6enBXXfdhba2Nhw4cADvvfcePvjgAzz11FM+bLXn+OKLL9Db24vf/e53OH36NH7729/i9ddfxzPPPOPYJ9j6BAA6Oztx//334/HHH5fcHmx98uc//xlPPPEEnn32WRw/fhy33HILvvOd76CystLXTfMKbW1tuPHGG/Hqq69Kbn/xxRfx0ksv4dVXX0VhYSEGDx6M22+/3VH7MBDZt28fli1bhsOHD2P37t3o7u7GnDlz0NbW5tgn2Ppl2LBheOGFF3D06FEcPXoUs2fPxr333usQN6bpD44Ianbs2MFZLBaus7OT4ziO+/vf/86FhIRwFy9edOyTl5fHhYeHc83Nzb5qpld58cUXudTUVMffwdwn27Zt46xWq8vnwdYnWVlZ3JIlS5w++9a3vsX9/Oc/91GLfAcA7qOPPnL83dvbyw0ePJh74YUXHJ998803nNVq5V5//XUftNA31NbWcgC4ffv2cRxH/cJjs9m4N954w1T9QRafIKahoQHvvPMOpk2bhrCwMADAZ599hvT0dCQmJjr2u+OOO9DR0YFjx475qqlepbm5GbGxsY6/qU9cCaY+6ezsxLFjxzBnzhynz+fMmYNDhw75qFXmoaysDDU1NU79Ex4ejltvvTWo+qe5uRkAHO+OYO+Xnp4evPfee2hra8PUqVNN1R8kfIKQn/3sZ4iKikJcXBwqKyuxY8cOx7aamhoMGjTIaX+bzYa+ffuipqbG2031OhcuXEBubi6WLFni+CzY+0SKYOqTy5cvo6enx+V6Bw0aFHDXqge+D4K5fziOw5NPPokZM2YgPT0dQPD2y8mTJ9G/f3+Eh4djyZIl+OijjzB27FhT9QcJnwBg7dq1sFgsiv+OHj3q2P+nP/0pjh8/jl27diE0NBQ5OTngBAm8LRaLy3dwHCf5uVnR2icAUF1djTvvvBP3338/Hn30UadtwdonSgRCn2hBfF2BfK16COb+Wb58OU6cOIG8vDyXbcHWL6NHj0ZxcTEOHz6Mxx9/HAsWLMCZM2cc283QH328+m2ER1i+fDkeeOABxX1SUlIc/4+Pj0d8fDxGjRqFMWPGICkpCYcPH8bUqVMxePBgHDlyxOnYxsZGdHV1uSh1M6O1T6qrq5GdnY2pU6fi97//vdN+wdonSgRKn7AQHx+P0NBQl1lpbW1twF2rHgYPHgzAbuEYMmSI4/Ng6Z8VK1Zg586d2L9/P4YNG+b4PFj7pW/fvhg5ciQAYPLkySgsLMT//u//4mc/+xkAc/QHCZ8AgBcyeuAtPR0dHQCAqVOnYt26dbh06ZLj4dy1axfCw8MxadIkYxrsBbT0ycWLF5GdnY1JkyZh27ZtCAlxNoQGY5+oESh9wkLfvn0xadIk7N69G/fdd5/j8927d+Pee+/1YcvMQWpqKgYPHozdu3cjIyMDgN0vat++ffj1r3/t49Z5Do7jsGLFCnz00UfYu3cvUlNTnbYHa7+I4TgOHR0d5uoPr7pSEz7lyJEjXG5uLnf8+HGuvLyc27NnDzdjxgzuhhtu4L755huO4ziuu7ubS09P52677TauqKiI+/e//80NGzaMW758uY9b7xkuXrzIjRw5kps9ezb31VdfcZcuXXL84wm2PuE4jquoqOCOHz/OPffcc1z//v2548ePc8ePH+euXLnCcVzw9cl7773HhYWFcVu3buXOnDnDPfHEE1xUVBRXXl7u66Z5hStXrjieAQDcSy+9xB0/fpyrqKjgOI7jXnjhBc5qtXIffvghd/LkSW7+/PnckCFDuJaWFh+33HM8/vjjnNVq5fbu3ev03mhvb3fsE2z9snr1am7//v1cWVkZd+LECe6ZZ57hQkJCuF27dnEcZ57+IOETRJw4cYLLzs7mYmNjufDwcC4lJYVbsmQJ99VXXzntV1FRwd11111cREQEFxsbyy1fvtwhjAKNbdu2cQAk/wkJpj7hOI5bsGCBZJ/k5+c79gm2Ptm8eTOXnJzM9e3bl5s4caIjbDkYyM/Pl3weFixYwHGcPXR7zZo13ODBg7nw8HBu5syZ3MmTJ33baA8j997Ytm2bY59g65dHHnnE8RtJSEjgbrvtNofo4Tjz9IeF4wRerQRBEARBEAEMRXURBEEQBBE0kPAhCIIgCCJoIOFDEARBEETQQMKHIAiCIIiggYQPQRAEQRBBAwkfgiAIgiCCBhI+BEEQBEEEDSR8CIIIOtauXYubbrrJ180gCMIHkPAhCMKvqKmpwYoVKzBixAiEh4cjKSkJd999N/7zn/8Y+j0//vGPMWnSJISHh5NIIogAgoqUEgThN5SXl2P69OmIiYnBiy++iAkTJqCrqwv/+te/sGzZMnzxxReGfRfHcXjkkUdw5MgRnDhxwrDzEgThW0j4EAThNyxduhQWiwUFBQWIiopyfD5u3Dg88sgjjr8rKyuxYsUK/Oc//0FISAjuvPNO5ObmYtCgQczf9corrwAA6urqSPgQRABBS10EQfgFDQ0N+Oc//4lly5Y5iR6emJgYAHZLzdy5c9HQ0IB9+/Zh9+7duHDhAn7wgx94ucUEQZgRsvgQBOEXlJSUgOM4fOtb31Lc79///jdOnDiBsrIyJCUlAQDefvttjBs3DoWFhcjMzPRGcwmCMClk8SEIwi/gOA4AYLFYFPc7e/YskpKSHKIHAMaOHYuYmBicPXvWo20kCML8kPAhCMIvSEtLg8ViURUvHMdJiiO5zwmCCC5I+BAE4RfExsbijjvuwObNm9HW1uayvampCYDdulNZWYmqqirHtjNnzqC5uRljxozxVnMJgjApJHwIgvAbtmzZgp6eHmRlZeGDDz7A+fPncfbsWbzyyiuYOnUqAODb3/42JkyYgIceeghFRUUoKChATk4Obr31VkyePJn5u0pKSlBcXIyamhpcvXoVxcXFKC4uRmdnp6cujyAIL0DOzQRB+A2pqakoKirCunXr8NRTT+HSpUtISEjApEmT8NprrwGw+wB9/PHHWLFiBWbOnOkUzq6FRx99FPv27XP8nZGRAQAoKytDSkqKYddEEIR3sXC8xyBBEARBEESAQ0tdBEEQBEEEDSR8CIIgCIIIGkj4EARBEAQRNJDwIQiCIAgiaCDhQxAEQRBE0EDChyAIgiCIoIGED0EQBEEQQQMJH4IgCIIgggYSPgRBEARBBA0kfAiCIAiCCBpI+BAEQRAEETSQ8CEIgiAIImj4/wEf2PlbjLm/BAAAAABJRU5ErkJggg==\n",
      "text/plain": [
       "<Figure size 640x480 with 1 Axes>"
      ]
     },
     "metadata": {},
     "output_type": "display_data"
    }
   ],
   "source": [
    "df_csv.plot(kind=\"scatter\", x=\"Col 1\", y=\"Col 2\");"
   ]
  },
  {
   "cell_type": "code",
   "execution_count": 27,
   "id": "baeeaa3c913bc39c",
   "metadata": {
    "tags": [
     "keep"
    ]
   },
   "outputs": [
    {
     "name": "stderr",
     "output_type": "stream",
     "text": [
      "C:\\Users\\tc\\Programming\\Python\\Mambaforge\\envs\\cam\\lib\\site-packages\\matplotlib\\collections.py:981: RuntimeWarning: invalid value encountered in sqrt\n",
      "  scale = np.sqrt(self._sizes) * dpi / 72.0 * self._factor\n"
     ]
    },
    {
     "data": {
      "image/png": "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\n",
      "text/plain": [
       "<Figure size 640x480 with 2 Axes>"
      ]
     },
     "metadata": {},
     "output_type": "display_data"
    }
   ],
   "source": [
    "df_csv.plot(kind=\"scatter\", x=\"Col 1\", y=\"Col 2\", c=\"Col 3\", cmap=\"hot\", s=\"Col 4\");"
   ]
  },
  {
   "cell_type": "markdown",
   "id": "18082c603a41ec32",
   "metadata": {
    "lang": "de"
   },
   "source": [
    "### Indizes und Operationen"
   ]
  },
  {
   "cell_type": "code",
   "execution_count": 28,
   "id": "a0d20953e04b48fe",
   "metadata": {
    "lines_to_next_cell": 2
   },
   "outputs": [],
   "source": [
    "df = create_data_frame()"
   ]
  },
  {
   "cell_type": "code",
   "execution_count": 29,
   "id": "1ef29faeacb97bc0",
<<<<<<< Updated upstream
   "metadata": {
    "lines_to_next_cell": 2
   },
   "outputs": [],
   "source": []
=======
   "metadata": {},
   "outputs": [
    {
     "data": {
      "text/html": [
       "<div>\n",
       "<style scoped>\n",
       "    .dataframe tbody tr th:only-of-type {\n",
       "        vertical-align: middle;\n",
       "    }\n",
       "\n",
       "    .dataframe tbody tr th {\n",
       "        vertical-align: top;\n",
       "    }\n",
       "\n",
       "    .dataframe thead th {\n",
       "        text-align: right;\n",
       "    }\n",
       "</style>\n",
       "<table border=\"1\" class=\"dataframe\">\n",
       "  <thead>\n",
       "    <tr style=\"text-align: right;\">\n",
       "      <th></th>\n",
       "      <th>w</th>\n",
       "      <th>x</th>\n",
       "      <th>y</th>\n",
       "      <th>z</th>\n",
       "    </tr>\n",
       "  </thead>\n",
       "  <tbody>\n",
       "    <tr>\n",
       "      <th>A</th>\n",
       "      <td>1.523585</td>\n",
       "      <td>-5.199921</td>\n",
       "      <td>3.752256</td>\n",
       "      <td>4.702824</td>\n",
       "    </tr>\n",
       "    <tr>\n",
       "      <th>B</th>\n",
       "      <td>-9.755176</td>\n",
       "      <td>-6.510898</td>\n",
       "      <td>0.639202</td>\n",
       "      <td>-1.581213</td>\n",
       "    </tr>\n",
       "    <tr>\n",
       "      <th>C</th>\n",
       "      <td>-0.084006</td>\n",
       "      <td>-4.265220</td>\n",
       "      <td>4.396990</td>\n",
       "      <td>3.888960</td>\n",
       "    </tr>\n",
       "    <tr>\n",
       "      <th>D</th>\n",
       "      <td>0.330153</td>\n",
       "      <td>5.636206</td>\n",
       "      <td>2.337547</td>\n",
       "      <td>-4.296462</td>\n",
       "    </tr>\n",
       "    <tr>\n",
       "      <th>E</th>\n",
       "      <td>1.843754</td>\n",
       "      <td>-4.794413</td>\n",
       "      <td>4.392252</td>\n",
       "      <td>-0.249630</td>\n",
       "    </tr>\n",
       "  </tbody>\n",
       "</table>\n",
       "</div>"
      ],
      "text/plain": [
       "          w         x         y         z\n",
       "A  1.523585 -5.199921  3.752256  4.702824\n",
       "B -9.755176 -6.510898  0.639202 -1.581213\n",
       "C -0.084006 -4.265220  4.396990  3.888960\n",
       "D  0.330153  5.636206  2.337547 -4.296462\n",
       "E  1.843754 -4.794413  4.392252 -0.249630"
      ]
     },
     "execution_count": 29,
     "metadata": {},
     "output_type": "execute_result"
    }
   ],
   "source": [
    "df"
   ]
>>>>>>> Stashed changes
  },
  {
   "cell_type": "code",
   "execution_count": 31,
   "id": "279514aeae340552",
<<<<<<< Updated upstream
   "metadata": {
    "lines_to_next_cell": 2
   },
   "outputs": [],
   "source": []
=======
   "metadata": {},
   "outputs": [
    {
     "data": {
      "text/plain": [
       "A    1.523585\n",
       "B   -9.755176\n",
       "C   -0.084006\n",
       "D    0.330153\n",
       "E    1.843754\n",
       "Name: w, dtype: float64"
      ]
     },
     "execution_count": 31,
     "metadata": {},
     "output_type": "execute_result"
    }
   ],
   "source": [
    "df[\"w\"]"
   ]
>>>>>>> Stashed changes
  },
  {
   "cell_type": "code",
   "execution_count": 32,
   "id": "ae0be7dd13165871",
<<<<<<< Updated upstream
   "metadata": {
    "lines_to_next_cell": 2
   },
   "outputs": [],
   "source": []
=======
   "metadata": {},
   "outputs": [
    {
     "data": {
      "text/plain": [
       "A    1.523585\n",
       "B   -9.755176\n",
       "C   -0.084006\n",
       "D    0.330153\n",
       "E    1.843754\n",
       "Name: w, dtype: float64"
      ]
     },
     "execution_count": 32,
     "metadata": {},
     "output_type": "execute_result"
    }
   ],
   "source": [
    "df.w"
   ]
>>>>>>> Stashed changes
  },
  {
   "cell_type": "code",
   "execution_count": 33,
   "id": "2625ec17f7db6627",
<<<<<<< Updated upstream
   "metadata": {
    "lines_to_next_cell": 2
   },
   "outputs": [],
   "source": []
=======
   "metadata": {},
   "outputs": [
    {
     "data": {
      "text/html": [
       "<div>\n",
       "<style scoped>\n",
       "    .dataframe tbody tr th:only-of-type {\n",
       "        vertical-align: middle;\n",
       "    }\n",
       "\n",
       "    .dataframe tbody tr th {\n",
       "        vertical-align: top;\n",
       "    }\n",
       "\n",
       "    .dataframe thead th {\n",
       "        text-align: right;\n",
       "    }\n",
       "</style>\n",
       "<table border=\"1\" class=\"dataframe\">\n",
       "  <thead>\n",
       "    <tr style=\"text-align: right;\">\n",
       "      <th></th>\n",
       "      <th>w</th>\n",
       "      <th>y</th>\n",
       "    </tr>\n",
       "  </thead>\n",
       "  <tbody>\n",
       "    <tr>\n",
       "      <th>A</th>\n",
       "      <td>1.523585</td>\n",
       "      <td>3.752256</td>\n",
       "    </tr>\n",
       "    <tr>\n",
       "      <th>B</th>\n",
       "      <td>-9.755176</td>\n",
       "      <td>0.639202</td>\n",
       "    </tr>\n",
       "    <tr>\n",
       "      <th>C</th>\n",
       "      <td>-0.084006</td>\n",
       "      <td>4.396990</td>\n",
       "    </tr>\n",
       "    <tr>\n",
       "      <th>D</th>\n",
       "      <td>0.330153</td>\n",
       "      <td>2.337547</td>\n",
       "    </tr>\n",
       "    <tr>\n",
       "      <th>E</th>\n",
       "      <td>1.843754</td>\n",
       "      <td>4.392252</td>\n",
       "    </tr>\n",
       "  </tbody>\n",
       "</table>\n",
       "</div>"
      ],
      "text/plain": [
       "          w         y\n",
       "A  1.523585  3.752256\n",
       "B -9.755176  0.639202\n",
       "C -0.084006  4.396990\n",
       "D  0.330153  2.337547\n",
       "E  1.843754  4.392252"
      ]
     },
     "execution_count": 33,
     "metadata": {},
     "output_type": "execute_result"
    }
   ],
   "source": [
    "df[[\"w\", \"y\"]]"
   ]
>>>>>>> Stashed changes
  },
  {
   "cell_type": "code",
   "execution_count": 34,
   "id": "2d41d4be27ce76ab",
<<<<<<< Updated upstream
   "metadata": {
    "lines_to_next_cell": 2
   },
   "outputs": [],
   "source": []
=======
   "metadata": {},
   "outputs": [
    {
     "data": {
      "text/html": [
       "<div>\n",
       "<style scoped>\n",
       "    .dataframe tbody tr th:only-of-type {\n",
       "        vertical-align: middle;\n",
       "    }\n",
       "\n",
       "    .dataframe tbody tr th {\n",
       "        vertical-align: top;\n",
       "    }\n",
       "\n",
       "    .dataframe thead th {\n",
       "        text-align: right;\n",
       "    }\n",
       "</style>\n",
       "<table border=\"1\" class=\"dataframe\">\n",
       "  <thead>\n",
       "    <tr style=\"text-align: right;\">\n",
       "      <th></th>\n",
       "      <th>w</th>\n",
       "    </tr>\n",
       "  </thead>\n",
       "  <tbody>\n",
       "    <tr>\n",
       "      <th>A</th>\n",
       "      <td>1.523585</td>\n",
       "    </tr>\n",
       "    <tr>\n",
       "      <th>B</th>\n",
       "      <td>-9.755176</td>\n",
       "    </tr>\n",
       "    <tr>\n",
       "      <th>C</th>\n",
       "      <td>-0.084006</td>\n",
       "    </tr>\n",
       "    <tr>\n",
       "      <th>D</th>\n",
       "      <td>0.330153</td>\n",
       "    </tr>\n",
       "    <tr>\n",
       "      <th>E</th>\n",
       "      <td>1.843754</td>\n",
       "    </tr>\n",
       "  </tbody>\n",
       "</table>\n",
       "</div>"
      ],
      "text/plain": [
       "          w\n",
       "A  1.523585\n",
       "B -9.755176\n",
       "C -0.084006\n",
       "D  0.330153\n",
       "E  1.843754"
      ]
     },
     "execution_count": 34,
     "metadata": {},
     "output_type": "execute_result"
    }
   ],
   "source": [
    "df[[\"w\"]]"
   ]
>>>>>>> Stashed changes
  },
  {
   "cell_type": "code",
   "execution_count": 35,
   "id": "d8129b74dcaf7d73",
<<<<<<< Updated upstream
   "metadata": {
    "lines_to_next_cell": 2
   },
   "outputs": [],
   "source": []
=======
   "metadata": {},
   "outputs": [
    {
     "data": {
      "text/plain": [
       "Index(['A', 'B', 'C', 'D', 'E'], dtype='object')"
      ]
     },
     "execution_count": 35,
     "metadata": {},
     "output_type": "execute_result"
    }
   ],
   "source": [
    "df.index"
   ]
>>>>>>> Stashed changes
  },
  {
   "cell_type": "code",
   "execution_count": 36,
   "id": "ae720b194895bd85",
<<<<<<< Updated upstream
   "metadata": {
    "lines_to_next_cell": 2
   },
   "outputs": [],
   "source": []
=======
   "metadata": {},
   "outputs": [
    {
     "data": {
      "text/plain": [
       "20"
      ]
     },
     "execution_count": 36,
     "metadata": {},
     "output_type": "execute_result"
    }
   ],
   "source": [
    "df.size"
   ]
>>>>>>> Stashed changes
  },
  {
   "cell_type": "code",
   "execution_count": 37,
   "id": "5270af31a7295120",
<<<<<<< Updated upstream
   "metadata": {
    "lines_to_next_cell": 2
   },
   "outputs": [],
   "source": []
=======
   "metadata": {},
   "outputs": [
    {
     "data": {
      "text/plain": [
       "2"
      ]
     },
     "execution_count": 37,
     "metadata": {},
     "output_type": "execute_result"
    }
   ],
   "source": [
    "df.ndim"
   ]
>>>>>>> Stashed changes
  },
  {
   "cell_type": "code",
   "execution_count": 38,
   "id": "8456919f625f33be",
<<<<<<< Updated upstream
   "metadata": {
    "lines_to_next_cell": 2
   },
   "outputs": [],
   "source": []
=======
   "metadata": {},
   "outputs": [
    {
     "data": {
      "text/plain": [
       "(5, 4)"
      ]
     },
     "execution_count": 38,
     "metadata": {},
     "output_type": "execute_result"
    }
   ],
   "source": [
    "df.shape"
   ]
>>>>>>> Stashed changes
  },
  {
   "cell_type": "code",
   "execution_count": null,
   "id": "f2c6219fab335bbb",
   "metadata": {},
   "outputs": [],
   "source": []
  },
  {
   "cell_type": "markdown",
   "id": "1d61447469d111b7",
   "metadata": {
    "lang": "de"
   },
   "source": [
    "### Erzeugen, Umbenennen und Löschen von Spalten"
   ]
  },
  {
   "cell_type": "code",
   "execution_count": 39,
   "id": "5c12f9821ee28e1d",
   "metadata": {
    "lines_to_next_cell": 2
   },
   "outputs": [],
   "source": [
    "df = create_data_frame()"
   ]
  },
  {
   "cell_type": "code",
   "execution_count": 40,
   "id": "a21f733464e85864",
<<<<<<< Updated upstream
   "metadata": {
    "lines_to_next_cell": 2
   },
   "outputs": [],
   "source": []
=======
   "metadata": {},
   "outputs": [
    {
     "data": {
      "text/html": [
       "<div>\n",
       "<style scoped>\n",
       "    .dataframe tbody tr th:only-of-type {\n",
       "        vertical-align: middle;\n",
       "    }\n",
       "\n",
       "    .dataframe tbody tr th {\n",
       "        vertical-align: top;\n",
       "    }\n",
       "\n",
       "    .dataframe thead th {\n",
       "        text-align: right;\n",
       "    }\n",
       "</style>\n",
       "<table border=\"1\" class=\"dataframe\">\n",
       "  <thead>\n",
       "    <tr style=\"text-align: right;\">\n",
       "      <th></th>\n",
       "      <th>w</th>\n",
       "      <th>x</th>\n",
       "      <th>y</th>\n",
       "      <th>z</th>\n",
       "      <th>w+y</th>\n",
       "    </tr>\n",
       "  </thead>\n",
       "  <tbody>\n",
       "    <tr>\n",
       "      <th>A</th>\n",
       "      <td>1.523585</td>\n",
       "      <td>-5.199921</td>\n",
       "      <td>3.752256</td>\n",
       "      <td>4.702824</td>\n",
       "      <td>5.275841</td>\n",
       "    </tr>\n",
       "    <tr>\n",
       "      <th>B</th>\n",
       "      <td>-9.755176</td>\n",
       "      <td>-6.510898</td>\n",
       "      <td>0.639202</td>\n",
       "      <td>-1.581213</td>\n",
       "      <td>-9.115974</td>\n",
       "    </tr>\n",
       "    <tr>\n",
       "      <th>C</th>\n",
       "      <td>-0.084006</td>\n",
       "      <td>-4.265220</td>\n",
       "      <td>4.396990</td>\n",
       "      <td>3.888960</td>\n",
       "      <td>4.312984</td>\n",
       "    </tr>\n",
       "    <tr>\n",
       "      <th>D</th>\n",
       "      <td>0.330153</td>\n",
       "      <td>5.636206</td>\n",
       "      <td>2.337547</td>\n",
       "      <td>-4.296462</td>\n",
       "      <td>2.667700</td>\n",
       "    </tr>\n",
       "    <tr>\n",
       "      <th>E</th>\n",
       "      <td>1.843754</td>\n",
       "      <td>-4.794413</td>\n",
       "      <td>4.392252</td>\n",
       "      <td>-0.249630</td>\n",
       "      <td>6.236005</td>\n",
       "    </tr>\n",
       "  </tbody>\n",
       "</table>\n",
       "</div>"
      ],
      "text/plain": [
       "          w         x         y         z       w+y\n",
       "A  1.523585 -5.199921  3.752256  4.702824  5.275841\n",
       "B -9.755176 -6.510898  0.639202 -1.581213 -9.115974\n",
       "C -0.084006 -4.265220  4.396990  3.888960  4.312984\n",
       "D  0.330153  5.636206  2.337547 -4.296462  2.667700\n",
       "E  1.843754 -4.794413  4.392252 -0.249630  6.236005"
      ]
     },
     "execution_count": 40,
     "metadata": {},
     "output_type": "execute_result"
    }
   ],
   "source": [
    "df[\"w+y\"] = df[\"w\"] + df[\"y\"]\n",
    "df"
   ]
>>>>>>> Stashed changes
  },
  {
   "cell_type": "code",
   "execution_count": 43,
   "id": "1ddb31b47ef15bbf",
<<<<<<< Updated upstream
   "metadata": {
    "lines_to_next_cell": 2
   },
   "outputs": [],
   "source": []
  },
  {
   "cell_type": "code",
   "execution_count": null,
   "id": "80a7ada2ebe13394",
   "metadata": {
    "lines_to_next_cell": 2
   },
   "outputs": [],
   "source": []
=======
   "metadata": {},
   "outputs": [
    {
     "data": {
      "text/plain": [
       "w      1.523585\n",
       "x     -5.199921\n",
       "y      3.752256\n",
       "z      4.702824\n",
       "w+y    5.275841\n",
       "Name: A, dtype: float64"
      ]
     },
     "execution_count": 43,
     "metadata": {},
     "output_type": "execute_result"
    }
   ],
   "source": [
    "df.iloc[0]"
   ]
  },
  {
   "cell_type": "code",
   "execution_count": 47,
   "id": "ced10b3d3343c829",
   "metadata": {},
   "outputs": [
    {
     "data": {
      "text/plain": [
       "[1.5235853987721568,\n",
       " -5.199920531202478,\n",
       " 3.7522559790322862,\n",
       " 4.7028235819560695,\n",
       " 5.2758413778044435]"
      ]
     },
     "execution_count": 47,
     "metadata": {},
     "output_type": "execute_result"
    }
   ],
   "source": [
    "df.loc[\"A\"].to_list()"
   ]
>>>>>>> Stashed changes
  },
  {
   "cell_type": "code",
   "execution_count": 48,
   "id": "e7282766c0a6bdf4",
<<<<<<< Updated upstream
   "metadata": {
    "lines_to_next_cell": 2
   },
   "outputs": [],
   "source": []
  },
  {
   "cell_type": "code",
   "execution_count": null,
   "id": "40d23ea5cf3c47b7",
   "metadata": {
    "lines_to_next_cell": 2
   },
   "outputs": [],
   "source": []
=======
   "metadata": {},
   "outputs": [
    {
     "data": {
      "text/plain": [
       "1.5235853987721568"
      ]
     },
     "execution_count": 48,
     "metadata": {},
     "output_type": "execute_result"
    }
   ],
   "source": [
    "df.loc[\"A\", \"w\"]"
   ]
  },
  {
   "cell_type": "code",
   "execution_count": 49,
   "id": "e55b66c09fa02003",
   "metadata": {},
   "outputs": [
    {
     "data": {
      "text/plain": [
       "3.8889596771447414"
      ]
     },
     "execution_count": 49,
     "metadata": {},
     "output_type": "execute_result"
    }
   ],
   "source": [
    "df.iloc[2, 3]"
   ]
>>>>>>> Stashed changes
  },
  {
   "cell_type": "code",
   "execution_count": 50,
   "id": "b2a0642cda8023dd",
<<<<<<< Updated upstream
   "metadata": {
    "lines_to_next_cell": 2
   },
   "outputs": [],
   "source": []
=======
   "metadata": {},
   "outputs": [
    {
     "data": {
      "text/html": [
       "<div>\n",
       "<style scoped>\n",
       "    .dataframe tbody tr th:only-of-type {\n",
       "        vertical-align: middle;\n",
       "    }\n",
       "\n",
       "    .dataframe tbody tr th {\n",
       "        vertical-align: top;\n",
       "    }\n",
       "\n",
       "    .dataframe thead th {\n",
       "        text-align: right;\n",
       "    }\n",
       "</style>\n",
       "<table border=\"1\" class=\"dataframe\">\n",
       "  <thead>\n",
       "    <tr style=\"text-align: right;\">\n",
       "      <th></th>\n",
       "      <th>w</th>\n",
       "      <th>x</th>\n",
       "      <th>y</th>\n",
       "      <th>z</th>\n",
       "      <th>w+y</th>\n",
       "    </tr>\n",
       "  </thead>\n",
       "  <tbody>\n",
       "    <tr>\n",
       "      <th>A</th>\n",
       "      <td>1.523585</td>\n",
       "      <td>-5.199921</td>\n",
       "      <td>3.752256</td>\n",
       "      <td>4.702824</td>\n",
       "      <td>5.275841</td>\n",
       "    </tr>\n",
       "    <tr>\n",
       "      <th>B</th>\n",
       "      <td>-9.755176</td>\n",
       "      <td>-6.510898</td>\n",
       "      <td>0.639202</td>\n",
       "      <td>-1.581213</td>\n",
       "      <td>-9.115974</td>\n",
       "    </tr>\n",
       "    <tr>\n",
       "      <th>C</th>\n",
       "      <td>-0.084006</td>\n",
       "      <td>-4.265220</td>\n",
       "      <td>4.396990</td>\n",
       "      <td>3.888960</td>\n",
       "      <td>4.312984</td>\n",
       "    </tr>\n",
       "    <tr>\n",
       "      <th>D</th>\n",
       "      <td>0.330153</td>\n",
       "      <td>5.636206</td>\n",
       "      <td>2.337547</td>\n",
       "      <td>-4.296462</td>\n",
       "      <td>2.667700</td>\n",
       "    </tr>\n",
       "    <tr>\n",
       "      <th>E</th>\n",
       "      <td>1.843754</td>\n",
       "      <td>-4.794413</td>\n",
       "      <td>4.392252</td>\n",
       "      <td>-0.249630</td>\n",
       "      <td>6.236005</td>\n",
       "    </tr>\n",
       "  </tbody>\n",
       "</table>\n",
       "</div>"
      ],
      "text/plain": [
       "          w         x         y         z       w+y\n",
       "A  1.523585 -5.199921  3.752256  4.702824  5.275841\n",
       "B -9.755176 -6.510898  0.639202 -1.581213 -9.115974\n",
       "C -0.084006 -4.265220  4.396990  3.888960  4.312984\n",
       "D  0.330153  5.636206  2.337547 -4.296462  2.667700\n",
       "E  1.843754 -4.794413  4.392252 -0.249630  6.236005"
      ]
     },
     "execution_count": 50,
     "metadata": {},
     "output_type": "execute_result"
    }
   ],
   "source": [
    "df"
   ]
>>>>>>> Stashed changes
  },
  {
   "cell_type": "code",
   "execution_count": 51,
   "id": "c17f0305298c0c6c",
   "metadata": {
    "lines_to_next_cell": 2
   },
   "outputs": [],
   "source": [
    "del df[\"y\"]"
   ]
  },
  {
   "cell_type": "code",
<<<<<<< Updated upstream
   "execution_count": null,
   "id": "f4febf9113d53d86",
   "metadata": {
    "lines_to_next_cell": 2
   },
   "outputs": [],
   "source": []
=======
   "execution_count": 52,
   "id": "8158b106621f2894",
   "metadata": {},
   "outputs": [
    {
     "data": {
      "text/html": [
       "<div>\n",
       "<style scoped>\n",
       "    .dataframe tbody tr th:only-of-type {\n",
       "        vertical-align: middle;\n",
       "    }\n",
       "\n",
       "    .dataframe tbody tr th {\n",
       "        vertical-align: top;\n",
       "    }\n",
       "\n",
       "    .dataframe thead th {\n",
       "        text-align: right;\n",
       "    }\n",
       "</style>\n",
       "<table border=\"1\" class=\"dataframe\">\n",
       "  <thead>\n",
       "    <tr style=\"text-align: right;\">\n",
       "      <th></th>\n",
       "      <th>w</th>\n",
       "      <th>x</th>\n",
       "      <th>z</th>\n",
       "      <th>w+y</th>\n",
       "    </tr>\n",
       "  </thead>\n",
       "  <tbody>\n",
       "    <tr>\n",
       "      <th>A</th>\n",
       "      <td>1.523585</td>\n",
       "      <td>-5.199921</td>\n",
       "      <td>4.702824</td>\n",
       "      <td>5.275841</td>\n",
       "    </tr>\n",
       "    <tr>\n",
       "      <th>B</th>\n",
       "      <td>-9.755176</td>\n",
       "      <td>-6.510898</td>\n",
       "      <td>-1.581213</td>\n",
       "      <td>-9.115974</td>\n",
       "    </tr>\n",
       "    <tr>\n",
       "      <th>C</th>\n",
       "      <td>-0.084006</td>\n",
       "      <td>-4.265220</td>\n",
       "      <td>3.888960</td>\n",
       "      <td>4.312984</td>\n",
       "    </tr>\n",
       "    <tr>\n",
       "      <th>D</th>\n",
       "      <td>0.330153</td>\n",
       "      <td>5.636206</td>\n",
       "      <td>-4.296462</td>\n",
       "      <td>2.667700</td>\n",
       "    </tr>\n",
       "    <tr>\n",
       "      <th>E</th>\n",
       "      <td>1.843754</td>\n",
       "      <td>-4.794413</td>\n",
       "      <td>-0.249630</td>\n",
       "      <td>6.236005</td>\n",
       "    </tr>\n",
       "  </tbody>\n",
       "</table>\n",
       "</div>"
      ],
      "text/plain": [
       "          w         x         z       w+y\n",
       "A  1.523585 -5.199921  4.702824  5.275841\n",
       "B -9.755176 -6.510898 -1.581213 -9.115974\n",
       "C -0.084006 -4.265220  3.888960  4.312984\n",
       "D  0.330153  5.636206 -4.296462  2.667700\n",
       "E  1.843754 -4.794413 -0.249630  6.236005"
      ]
     },
     "execution_count": 52,
     "metadata": {},
     "output_type": "execute_result"
    }
   ],
   "source": [
    "df"
   ]
>>>>>>> Stashed changes
  },
  {
   "cell_type": "code",
   "execution_count": 55,
   "id": "9a470c1b0b95dd58",
<<<<<<< Updated upstream
   "metadata": {
    "lines_to_next_cell": 2
   },
   "outputs": [],
   "source": []
  },
  {
   "cell_type": "code",
   "execution_count": null,
   "id": "18eee80a99c7faeb",
   "metadata": {
    "lines_to_next_cell": 2
   },
   "outputs": [],
   "source": []
=======
   "metadata": {},
   "outputs": [
    {
     "data": {
      "text/html": [
       "<div>\n",
       "<style scoped>\n",
       "    .dataframe tbody tr th:only-of-type {\n",
       "        vertical-align: middle;\n",
       "    }\n",
       "\n",
       "    .dataframe tbody tr th {\n",
       "        vertical-align: top;\n",
       "    }\n",
       "\n",
       "    .dataframe thead th {\n",
       "        text-align: right;\n",
       "    }\n",
       "</style>\n",
       "<table border=\"1\" class=\"dataframe\">\n",
       "  <thead>\n",
       "    <tr style=\"text-align: right;\">\n",
       "      <th></th>\n",
       "      <th>w</th>\n",
       "      <th>x</th>\n",
       "      <th>z</th>\n",
       "      <th>w+y</th>\n",
       "    </tr>\n",
       "  </thead>\n",
       "  <tbody>\n",
       "    <tr>\n",
       "      <th>C</th>\n",
       "      <td>-0.084006</td>\n",
       "      <td>-4.265220</td>\n",
       "      <td>3.888960</td>\n",
       "      <td>4.312984</td>\n",
       "    </tr>\n",
       "    <tr>\n",
       "      <th>D</th>\n",
       "      <td>0.330153</td>\n",
       "      <td>5.636206</td>\n",
       "      <td>-4.296462</td>\n",
       "      <td>2.667700</td>\n",
       "    </tr>\n",
       "    <tr>\n",
       "      <th>E</th>\n",
       "      <td>1.843754</td>\n",
       "      <td>-4.794413</td>\n",
       "      <td>-0.249630</td>\n",
       "      <td>6.236005</td>\n",
       "    </tr>\n",
       "  </tbody>\n",
       "</table>\n",
       "</div>"
      ],
      "text/plain": [
       "          w         x         z       w+y\n",
       "C -0.084006 -4.265220  3.888960  4.312984\n",
       "D  0.330153  5.636206 -4.296462  2.667700\n",
       "E  1.843754 -4.794413 -0.249630  6.236005"
      ]
     },
     "execution_count": 55,
     "metadata": {},
     "output_type": "execute_result"
    }
   ],
   "source": [
    "df.drop([\"A\", \"B\"])"
   ]
  },
  {
   "cell_type": "code",
   "execution_count": 54,
   "id": "d304eecc0761f5cf",
   "metadata": {},
   "outputs": [
    {
     "data": {
      "text/html": [
       "<div>\n",
       "<style scoped>\n",
       "    .dataframe tbody tr th:only-of-type {\n",
       "        vertical-align: middle;\n",
       "    }\n",
       "\n",
       "    .dataframe tbody tr th {\n",
       "        vertical-align: top;\n",
       "    }\n",
       "\n",
       "    .dataframe thead th {\n",
       "        text-align: right;\n",
       "    }\n",
       "</style>\n",
       "<table border=\"1\" class=\"dataframe\">\n",
       "  <thead>\n",
       "    <tr style=\"text-align: right;\">\n",
       "      <th></th>\n",
       "      <th>w</th>\n",
       "      <th>x</th>\n",
       "      <th>z</th>\n",
       "      <th>w+y</th>\n",
       "    </tr>\n",
       "  </thead>\n",
       "  <tbody>\n",
       "    <tr>\n",
       "      <th>A</th>\n",
       "      <td>1.523585</td>\n",
       "      <td>-5.199921</td>\n",
       "      <td>4.702824</td>\n",
       "      <td>5.275841</td>\n",
       "    </tr>\n",
       "    <tr>\n",
       "      <th>B</th>\n",
       "      <td>-9.755176</td>\n",
       "      <td>-6.510898</td>\n",
       "      <td>-1.581213</td>\n",
       "      <td>-9.115974</td>\n",
       "    </tr>\n",
       "    <tr>\n",
       "      <th>C</th>\n",
       "      <td>-0.084006</td>\n",
       "      <td>-4.265220</td>\n",
       "      <td>3.888960</td>\n",
       "      <td>4.312984</td>\n",
       "    </tr>\n",
       "    <tr>\n",
       "      <th>D</th>\n",
       "      <td>0.330153</td>\n",
       "      <td>5.636206</td>\n",
       "      <td>-4.296462</td>\n",
       "      <td>2.667700</td>\n",
       "    </tr>\n",
       "    <tr>\n",
       "      <th>E</th>\n",
       "      <td>1.843754</td>\n",
       "      <td>-4.794413</td>\n",
       "      <td>-0.249630</td>\n",
       "      <td>6.236005</td>\n",
       "    </tr>\n",
       "  </tbody>\n",
       "</table>\n",
       "</div>"
      ],
      "text/plain": [
       "          w         x         z       w+y\n",
       "A  1.523585 -5.199921  4.702824  5.275841\n",
       "B -9.755176 -6.510898 -1.581213 -9.115974\n",
       "C -0.084006 -4.265220  3.888960  4.312984\n",
       "D  0.330153  5.636206 -4.296462  2.667700\n",
       "E  1.843754 -4.794413 -0.249630  6.236005"
      ]
     },
     "execution_count": 54,
     "metadata": {},
     "output_type": "execute_result"
    }
   ],
   "source": [
    "df"
   ]
>>>>>>> Stashed changes
  },
  {
   "cell_type": "code",
   "execution_count": 56,
   "id": "548dc0c6a01a151f",
   "metadata": {
    "lines_to_next_cell": 2
   },
   "outputs": [],
   "source": [
    "df.drop(\"B\", inplace=True)"
   ]
  },
  {
   "cell_type": "code",
<<<<<<< Updated upstream
   "execution_count": null,
   "id": "0482c8098576ccc7",
   "metadata": {
    "lines_to_next_cell": 2
   },
   "outputs": [],
   "source": []
=======
   "execution_count": 57,
   "id": "5ce282a02ba0a552",
   "metadata": {},
   "outputs": [
    {
     "data": {
      "text/html": [
       "<div>\n",
       "<style scoped>\n",
       "    .dataframe tbody tr th:only-of-type {\n",
       "        vertical-align: middle;\n",
       "    }\n",
       "\n",
       "    .dataframe tbody tr th {\n",
       "        vertical-align: top;\n",
       "    }\n",
       "\n",
       "    .dataframe thead th {\n",
       "        text-align: right;\n",
       "    }\n",
       "</style>\n",
       "<table border=\"1\" class=\"dataframe\">\n",
       "  <thead>\n",
       "    <tr style=\"text-align: right;\">\n",
       "      <th></th>\n",
       "      <th>w</th>\n",
       "      <th>x</th>\n",
       "      <th>z</th>\n",
       "      <th>w+y</th>\n",
       "    </tr>\n",
       "  </thead>\n",
       "  <tbody>\n",
       "    <tr>\n",
       "      <th>A</th>\n",
       "      <td>1.523585</td>\n",
       "      <td>-5.199921</td>\n",
       "      <td>4.702824</td>\n",
       "      <td>5.275841</td>\n",
       "    </tr>\n",
       "    <tr>\n",
       "      <th>C</th>\n",
       "      <td>-0.084006</td>\n",
       "      <td>-4.265220</td>\n",
       "      <td>3.888960</td>\n",
       "      <td>4.312984</td>\n",
       "    </tr>\n",
       "    <tr>\n",
       "      <th>D</th>\n",
       "      <td>0.330153</td>\n",
       "      <td>5.636206</td>\n",
       "      <td>-4.296462</td>\n",
       "      <td>2.667700</td>\n",
       "    </tr>\n",
       "    <tr>\n",
       "      <th>E</th>\n",
       "      <td>1.843754</td>\n",
       "      <td>-4.794413</td>\n",
       "      <td>-0.249630</td>\n",
       "      <td>6.236005</td>\n",
       "    </tr>\n",
       "  </tbody>\n",
       "</table>\n",
       "</div>"
      ],
      "text/plain": [
       "          w         x         z       w+y\n",
       "A  1.523585 -5.199921  4.702824  5.275841\n",
       "C -0.084006 -4.265220  3.888960  4.312984\n",
       "D  0.330153  5.636206 -4.296462  2.667700\n",
       "E  1.843754 -4.794413 -0.249630  6.236005"
      ]
     },
     "execution_count": 57,
     "metadata": {},
     "output_type": "execute_result"
    }
   ],
   "source": [
    "df"
   ]
>>>>>>> Stashed changes
  },
  {
   "cell_type": "code",
   "execution_count": 59,
   "id": "6df4d9bacd085103",
<<<<<<< Updated upstream
   "metadata": {
    "lines_to_next_cell": 2
   },
   "outputs": [],
   "source": []
  },
  {
   "cell_type": "code",
   "execution_count": null,
   "id": "96bc0b1ba5aa8008",
   "metadata": {
    "lines_to_next_cell": 2
   },
   "outputs": [],
   "source": []
=======
   "metadata": {},
   "outputs": [
    {
     "data": {
      "text/html": [
       "<div>\n",
       "<style scoped>\n",
       "    .dataframe tbody tr th:only-of-type {\n",
       "        vertical-align: middle;\n",
       "    }\n",
       "\n",
       "    .dataframe tbody tr th {\n",
       "        vertical-align: top;\n",
       "    }\n",
       "\n",
       "    .dataframe thead th {\n",
       "        text-align: right;\n",
       "    }\n",
       "</style>\n",
       "<table border=\"1\" class=\"dataframe\">\n",
       "  <thead>\n",
       "    <tr style=\"text-align: right;\">\n",
       "      <th></th>\n",
       "      <th>w</th>\n",
       "      <th>x</th>\n",
       "      <th>w+y</th>\n",
       "    </tr>\n",
       "  </thead>\n",
       "  <tbody>\n",
       "    <tr>\n",
       "      <th>A</th>\n",
       "      <td>1.523585</td>\n",
       "      <td>-5.199921</td>\n",
       "      <td>5.275841</td>\n",
       "    </tr>\n",
       "    <tr>\n",
       "      <th>C</th>\n",
       "      <td>-0.084006</td>\n",
       "      <td>-4.265220</td>\n",
       "      <td>4.312984</td>\n",
       "    </tr>\n",
       "    <tr>\n",
       "      <th>D</th>\n",
       "      <td>0.330153</td>\n",
       "      <td>5.636206</td>\n",
       "      <td>2.667700</td>\n",
       "    </tr>\n",
       "    <tr>\n",
       "      <th>E</th>\n",
       "      <td>1.843754</td>\n",
       "      <td>-4.794413</td>\n",
       "      <td>6.236005</td>\n",
       "    </tr>\n",
       "  </tbody>\n",
       "</table>\n",
       "</div>"
      ],
      "text/plain": [
       "          w         x       w+y\n",
       "A  1.523585 -5.199921  5.275841\n",
       "C -0.084006 -4.265220  4.312984\n",
       "D  0.330153  5.636206  2.667700\n",
       "E  1.843754 -4.794413  6.236005"
      ]
     },
     "execution_count": 59,
     "metadata": {},
     "output_type": "execute_result"
    }
   ],
   "source": [
    "df.drop(\"z\", axis=1)"
   ]
  },
  {
   "cell_type": "code",
   "execution_count": 60,
   "id": "bd460012d676abe9",
   "metadata": {},
   "outputs": [
    {
     "data": {
      "text/html": [
       "<div>\n",
       "<style scoped>\n",
       "    .dataframe tbody tr th:only-of-type {\n",
       "        vertical-align: middle;\n",
       "    }\n",
       "\n",
       "    .dataframe tbody tr th {\n",
       "        vertical-align: top;\n",
       "    }\n",
       "\n",
       "    .dataframe thead th {\n",
       "        text-align: right;\n",
       "    }\n",
       "</style>\n",
       "<table border=\"1\" class=\"dataframe\">\n",
       "  <thead>\n",
       "    <tr style=\"text-align: right;\">\n",
       "      <th></th>\n",
       "      <th>w</th>\n",
       "      <th>x</th>\n",
       "      <th>z</th>\n",
       "      <th>w+y</th>\n",
       "    </tr>\n",
       "  </thead>\n",
       "  <tbody>\n",
       "    <tr>\n",
       "      <th>A</th>\n",
       "      <td>1.523585</td>\n",
       "      <td>-5.199921</td>\n",
       "      <td>4.702824</td>\n",
       "      <td>5.275841</td>\n",
       "    </tr>\n",
       "    <tr>\n",
       "      <th>C</th>\n",
       "      <td>-0.084006</td>\n",
       "      <td>-4.265220</td>\n",
       "      <td>3.888960</td>\n",
       "      <td>4.312984</td>\n",
       "    </tr>\n",
       "    <tr>\n",
       "      <th>D</th>\n",
       "      <td>0.330153</td>\n",
       "      <td>5.636206</td>\n",
       "      <td>-4.296462</td>\n",
       "      <td>2.667700</td>\n",
       "    </tr>\n",
       "    <tr>\n",
       "      <th>E</th>\n",
       "      <td>1.843754</td>\n",
       "      <td>-4.794413</td>\n",
       "      <td>-0.249630</td>\n",
       "      <td>6.236005</td>\n",
       "    </tr>\n",
       "  </tbody>\n",
       "</table>\n",
       "</div>"
      ],
      "text/plain": [
       "          w         x         z       w+y\n",
       "A  1.523585 -5.199921  4.702824  5.275841\n",
       "C -0.084006 -4.265220  3.888960  4.312984\n",
       "D  0.330153  5.636206 -4.296462  2.667700\n",
       "E  1.843754 -4.794413 -0.249630  6.236005"
      ]
     },
     "execution_count": 60,
     "metadata": {},
     "output_type": "execute_result"
    }
   ],
   "source": [
    "df"
   ]
>>>>>>> Stashed changes
  },
  {
   "cell_type": "code",
   "execution_count": null,
   "id": "2bea0998e4a6a994",
   "metadata": {
    "lines_to_next_cell": 2
   },
   "outputs": [],
   "source": []
  },
  {
   "cell_type": "code",
   "execution_count": null,
   "id": "4e4a37f8b04c51d8",
   "metadata": {},
   "outputs": [],
   "source": []
  },
  {
   "cell_type": "markdown",
   "id": "af38df464f17102e",
   "metadata": {
    "lang": "de"
   },
   "source": [
    "## Auswahl"
   ]
  },
  {
   "cell_type": "code",
<<<<<<< Updated upstream
   "execution_count": null,
   "id": "cab0765dbc76a80e",
   "metadata": {
    "lines_to_next_cell": 2
   },
=======
   "execution_count": 61,
   "id": "4875fbd8ca3405ce",
   "metadata": {},
>>>>>>> Stashed changes
   "outputs": [],
   "source": [
    "df = create_data_frame()"
   ]
  },
  {
   "cell_type": "code",
   "execution_count": 62,
   "id": "47c710f0c9c52245",
<<<<<<< Updated upstream
   "metadata": {
    "lines_to_next_cell": 2
   },
   "outputs": [],
   "source": []
=======
   "metadata": {},
   "outputs": [
    {
     "data": {
      "text/html": [
       "<div>\n",
       "<style scoped>\n",
       "    .dataframe tbody tr th:only-of-type {\n",
       "        vertical-align: middle;\n",
       "    }\n",
       "\n",
       "    .dataframe tbody tr th {\n",
       "        vertical-align: top;\n",
       "    }\n",
       "\n",
       "    .dataframe thead th {\n",
       "        text-align: right;\n",
       "    }\n",
       "</style>\n",
       "<table border=\"1\" class=\"dataframe\">\n",
       "  <thead>\n",
       "    <tr style=\"text-align: right;\">\n",
       "      <th></th>\n",
       "      <th>w</th>\n",
       "      <th>x</th>\n",
       "      <th>y</th>\n",
       "      <th>z</th>\n",
       "    </tr>\n",
       "  </thead>\n",
       "  <tbody>\n",
       "    <tr>\n",
       "      <th>A</th>\n",
       "      <td>1.523585</td>\n",
       "      <td>-5.199921</td>\n",
       "      <td>3.752256</td>\n",
       "      <td>4.702824</td>\n",
       "    </tr>\n",
       "    <tr>\n",
       "      <th>B</th>\n",
       "      <td>-9.755176</td>\n",
       "      <td>-6.510898</td>\n",
       "      <td>0.639202</td>\n",
       "      <td>-1.581213</td>\n",
       "    </tr>\n",
       "    <tr>\n",
       "      <th>C</th>\n",
       "      <td>-0.084006</td>\n",
       "      <td>-4.265220</td>\n",
       "      <td>4.396990</td>\n",
       "      <td>3.888960</td>\n",
       "    </tr>\n",
       "    <tr>\n",
       "      <th>D</th>\n",
       "      <td>0.330153</td>\n",
       "      <td>5.636206</td>\n",
       "      <td>2.337547</td>\n",
       "      <td>-4.296462</td>\n",
       "    </tr>\n",
       "    <tr>\n",
       "      <th>E</th>\n",
       "      <td>1.843754</td>\n",
       "      <td>-4.794413</td>\n",
       "      <td>4.392252</td>\n",
       "      <td>-0.249630</td>\n",
       "    </tr>\n",
       "  </tbody>\n",
       "</table>\n",
       "</div>"
      ],
      "text/plain": [
       "          w         x         y         z\n",
       "A  1.523585 -5.199921  3.752256  4.702824\n",
       "B -9.755176 -6.510898  0.639202 -1.581213\n",
       "C -0.084006 -4.265220  4.396990  3.888960\n",
       "D  0.330153  5.636206  2.337547 -4.296462\n",
       "E  1.843754 -4.794413  4.392252 -0.249630"
      ]
     },
     "execution_count": 62,
     "metadata": {},
     "output_type": "execute_result"
    }
   ],
   "source": [
    "df"
   ]
>>>>>>> Stashed changes
  },
  {
   "cell_type": "code",
   "execution_count": 63,
   "id": "ad9f577f11028301",
   "metadata": {
    "lines_to_next_cell": 2
   },
   "outputs": [
    {
     "data": {
      "text/plain": [
       "w   -9.755176\n",
       "x   -6.510898\n",
       "y    0.639202\n",
       "z   -1.581213\n",
       "Name: B, dtype: float64"
      ]
     },
     "execution_count": 63,
     "metadata": {},
     "output_type": "execute_result"
    }
   ],
   "source": [
    "df.loc[\"B\"]"
   ]
  },
  {
   "cell_type": "code",
   "execution_count": 64,
   "id": "04702c6a6b478708",
<<<<<<< Updated upstream
   "metadata": {
    "lines_to_next_cell": 2
   },
   "outputs": [],
   "source": []
=======
   "metadata": {},
   "outputs": [
    {
     "data": {
      "text/html": [
       "<div>\n",
       "<style scoped>\n",
       "    .dataframe tbody tr th:only-of-type {\n",
       "        vertical-align: middle;\n",
       "    }\n",
       "\n",
       "    .dataframe tbody tr th {\n",
       "        vertical-align: top;\n",
       "    }\n",
       "\n",
       "    .dataframe thead th {\n",
       "        text-align: right;\n",
       "    }\n",
       "</style>\n",
       "<table border=\"1\" class=\"dataframe\">\n",
       "  <thead>\n",
       "    <tr style=\"text-align: right;\">\n",
       "      <th></th>\n",
       "      <th>w</th>\n",
       "      <th>x</th>\n",
       "      <th>y</th>\n",
       "      <th>z</th>\n",
       "    </tr>\n",
       "  </thead>\n",
       "  <tbody>\n",
       "    <tr>\n",
       "      <th>B</th>\n",
       "      <td>-9.755176</td>\n",
       "      <td>-6.510898</td>\n",
       "      <td>0.639202</td>\n",
       "      <td>-1.581213</td>\n",
       "    </tr>\n",
       "    <tr>\n",
       "      <th>C</th>\n",
       "      <td>-0.084006</td>\n",
       "      <td>-4.265220</td>\n",
       "      <td>4.396990</td>\n",
       "      <td>3.888960</td>\n",
       "    </tr>\n",
       "  </tbody>\n",
       "</table>\n",
       "</div>"
      ],
      "text/plain": [
       "          w         x         y         z\n",
       "B -9.755176 -6.510898  0.639202 -1.581213\n",
       "C -0.084006 -4.265220  4.396990  3.888960"
      ]
     },
     "execution_count": 64,
     "metadata": {},
     "output_type": "execute_result"
    }
   ],
   "source": [
    "df.loc[[\"B\", \"C\"]]"
   ]
>>>>>>> Stashed changes
  },
  {
   "cell_type": "code",
   "execution_count": 65,
   "id": "f03d2a49b52a87e9",
<<<<<<< Updated upstream
   "metadata": {
    "lines_to_next_cell": 2
   },
   "outputs": [],
   "source": []
  },
  {
   "cell_type": "code",
   "execution_count": null,
   "id": "1a82e09de7f75a98",
   "metadata": {
    "lines_to_next_cell": 2
   },
   "outputs": [],
   "source": []
=======
   "metadata": {},
   "outputs": [
    {
     "data": {
      "text/html": [
       "<div>\n",
       "<style scoped>\n",
       "    .dataframe tbody tr th:only-of-type {\n",
       "        vertical-align: middle;\n",
       "    }\n",
       "\n",
       "    .dataframe tbody tr th {\n",
       "        vertical-align: top;\n",
       "    }\n",
       "\n",
       "    .dataframe thead th {\n",
       "        text-align: right;\n",
       "    }\n",
       "</style>\n",
       "<table border=\"1\" class=\"dataframe\">\n",
       "  <thead>\n",
       "    <tr style=\"text-align: right;\">\n",
       "      <th></th>\n",
       "      <th>x</th>\n",
       "      <th>y</th>\n",
       "    </tr>\n",
       "  </thead>\n",
       "  <tbody>\n",
       "    <tr>\n",
       "      <th>A</th>\n",
       "      <td>-5.199921</td>\n",
       "      <td>3.752256</td>\n",
       "    </tr>\n",
       "    <tr>\n",
       "      <th>C</th>\n",
       "      <td>-4.265220</td>\n",
       "      <td>4.396990</td>\n",
       "    </tr>\n",
       "  </tbody>\n",
       "</table>\n",
       "</div>"
      ],
      "text/plain": [
       "          x         y\n",
       "A -5.199921  3.752256\n",
       "C -4.265220  4.396990"
      ]
     },
     "execution_count": 65,
     "metadata": {},
     "output_type": "execute_result"
    }
   ],
   "source": [
    "df.loc[[\"A\", \"C\"], [\"x\", \"y\"]]"
   ]
  },
  {
   "cell_type": "code",
   "execution_count": 66,
   "id": "3151f7235e66045a",
   "metadata": {},
   "outputs": [
    {
     "data": {
      "text/html": [
       "<div>\n",
       "<style scoped>\n",
       "    .dataframe tbody tr th:only-of-type {\n",
       "        vertical-align: middle;\n",
       "    }\n",
       "\n",
       "    .dataframe tbody tr th {\n",
       "        vertical-align: top;\n",
       "    }\n",
       "\n",
       "    .dataframe thead th {\n",
       "        text-align: right;\n",
       "    }\n",
       "</style>\n",
       "<table border=\"1\" class=\"dataframe\">\n",
       "  <thead>\n",
       "    <tr style=\"text-align: right;\">\n",
       "      <th></th>\n",
       "      <th>w</th>\n",
       "      <th>x</th>\n",
       "      <th>y</th>\n",
       "      <th>z</th>\n",
       "    </tr>\n",
       "  </thead>\n",
       "  <tbody>\n",
       "    <tr>\n",
       "      <th>A</th>\n",
       "      <td>1.523585</td>\n",
       "      <td>-5.199921</td>\n",
       "      <td>3.752256</td>\n",
       "      <td>4.702824</td>\n",
       "    </tr>\n",
       "    <tr>\n",
       "      <th>B</th>\n",
       "      <td>-9.755176</td>\n",
       "      <td>-6.510898</td>\n",
       "      <td>0.639202</td>\n",
       "      <td>-1.581213</td>\n",
       "    </tr>\n",
       "    <tr>\n",
       "      <th>C</th>\n",
       "      <td>-0.084006</td>\n",
       "      <td>-4.265220</td>\n",
       "      <td>4.396990</td>\n",
       "      <td>3.888960</td>\n",
       "    </tr>\n",
       "    <tr>\n",
       "      <th>D</th>\n",
       "      <td>0.330153</td>\n",
       "      <td>5.636206</td>\n",
       "      <td>2.337547</td>\n",
       "      <td>-4.296462</td>\n",
       "    </tr>\n",
       "    <tr>\n",
       "      <th>E</th>\n",
       "      <td>1.843754</td>\n",
       "      <td>-4.794413</td>\n",
       "      <td>4.392252</td>\n",
       "      <td>-0.249630</td>\n",
       "    </tr>\n",
       "  </tbody>\n",
       "</table>\n",
       "</div>"
      ],
      "text/plain": [
       "          w         x         y         z\n",
       "A  1.523585 -5.199921  3.752256  4.702824\n",
       "B -9.755176 -6.510898  0.639202 -1.581213\n",
       "C -0.084006 -4.265220  4.396990  3.888960\n",
       "D  0.330153  5.636206  2.337547 -4.296462\n",
       "E  1.843754 -4.794413  4.392252 -0.249630"
      ]
     },
     "execution_count": 66,
     "metadata": {},
     "output_type": "execute_result"
    }
   ],
   "source": [
    "df"
   ]
>>>>>>> Stashed changes
  },
  {
   "cell_type": "code",
   "execution_count": 67,
   "id": "667d39be8a441c06",
<<<<<<< Updated upstream
   "metadata": {
    "lines_to_next_cell": 2
   },
   "outputs": [],
   "source": []
=======
   "metadata": {},
   "outputs": [
    {
     "data": {
      "text/html": [
       "<div>\n",
       "<style scoped>\n",
       "    .dataframe tbody tr th:only-of-type {\n",
       "        vertical-align: middle;\n",
       "    }\n",
       "\n",
       "    .dataframe tbody tr th {\n",
       "        vertical-align: top;\n",
       "    }\n",
       "\n",
       "    .dataframe thead th {\n",
       "        text-align: right;\n",
       "    }\n",
       "</style>\n",
       "<table border=\"1\" class=\"dataframe\">\n",
       "  <thead>\n",
       "    <tr style=\"text-align: right;\">\n",
       "      <th></th>\n",
       "      <th>w</th>\n",
       "      <th>x</th>\n",
       "      <th>y</th>\n",
       "      <th>z</th>\n",
       "    </tr>\n",
       "  </thead>\n",
       "  <tbody>\n",
       "    <tr>\n",
       "      <th>A</th>\n",
       "      <td>True</td>\n",
       "      <td>False</td>\n",
       "      <td>True</td>\n",
       "      <td>True</td>\n",
       "    </tr>\n",
       "    <tr>\n",
       "      <th>B</th>\n",
       "      <td>False</td>\n",
       "      <td>False</td>\n",
       "      <td>True</td>\n",
       "      <td>False</td>\n",
       "    </tr>\n",
       "    <tr>\n",
       "      <th>C</th>\n",
       "      <td>False</td>\n",
       "      <td>False</td>\n",
       "      <td>True</td>\n",
       "      <td>True</td>\n",
       "    </tr>\n",
       "    <tr>\n",
       "      <th>D</th>\n",
       "      <td>True</td>\n",
       "      <td>True</td>\n",
       "      <td>True</td>\n",
       "      <td>False</td>\n",
       "    </tr>\n",
       "    <tr>\n",
       "      <th>E</th>\n",
       "      <td>True</td>\n",
       "      <td>False</td>\n",
       "      <td>True</td>\n",
       "      <td>False</td>\n",
       "    </tr>\n",
       "  </tbody>\n",
       "</table>\n",
       "</div>"
      ],
      "text/plain": [
       "       w      x     y      z\n",
       "A   True  False  True   True\n",
       "B  False  False  True  False\n",
       "C  False  False  True   True\n",
       "D   True   True  True  False\n",
       "E   True  False  True  False"
      ]
     },
     "execution_count": 67,
     "metadata": {},
     "output_type": "execute_result"
    }
   ],
   "source": [
    "df > 0"
   ]
>>>>>>> Stashed changes
  },
  {
   "cell_type": "code",
   "execution_count": 68,
   "id": "68a0f8f4234fdf6b",
<<<<<<< Updated upstream
   "metadata": {
    "lines_to_next_cell": 2
   },
   "outputs": [],
   "source": []
=======
   "metadata": {},
   "outputs": [
    {
     "data": {
      "text/plain": [
       "A     True\n",
       "B    False\n",
       "C    False\n",
       "D     True\n",
       "E     True\n",
       "Name: w, dtype: bool"
      ]
     },
     "execution_count": 68,
     "metadata": {},
     "output_type": "execute_result"
    }
   ],
   "source": [
    "df[\"w\"] > 0"
   ]
>>>>>>> Stashed changes
  },
  {
   "cell_type": "code",
   "execution_count": 69,
   "id": "4d2106355c589e11",
<<<<<<< Updated upstream
   "metadata": {
    "lines_to_next_cell": 2
   },
   "outputs": [],
   "source": []
=======
   "metadata": {},
   "outputs": [
    {
     "data": {
      "text/html": [
       "<div>\n",
       "<style scoped>\n",
       "    .dataframe tbody tr th:only-of-type {\n",
       "        vertical-align: middle;\n",
       "    }\n",
       "\n",
       "    .dataframe tbody tr th {\n",
       "        vertical-align: top;\n",
       "    }\n",
       "\n",
       "    .dataframe thead th {\n",
       "        text-align: right;\n",
       "    }\n",
       "</style>\n",
       "<table border=\"1\" class=\"dataframe\">\n",
       "  <thead>\n",
       "    <tr style=\"text-align: right;\">\n",
       "      <th></th>\n",
       "      <th>w</th>\n",
       "      <th>x</th>\n",
       "      <th>y</th>\n",
       "      <th>z</th>\n",
       "    </tr>\n",
       "  </thead>\n",
       "  <tbody>\n",
       "    <tr>\n",
       "      <th>A</th>\n",
       "      <td>1.523585</td>\n",
       "      <td>NaN</td>\n",
       "      <td>3.752256</td>\n",
       "      <td>4.702824</td>\n",
       "    </tr>\n",
       "    <tr>\n",
       "      <th>B</th>\n",
       "      <td>NaN</td>\n",
       "      <td>NaN</td>\n",
       "      <td>0.639202</td>\n",
       "      <td>NaN</td>\n",
       "    </tr>\n",
       "    <tr>\n",
       "      <th>C</th>\n",
       "      <td>NaN</td>\n",
       "      <td>NaN</td>\n",
       "      <td>4.396990</td>\n",
       "      <td>3.888960</td>\n",
       "    </tr>\n",
       "    <tr>\n",
       "      <th>D</th>\n",
       "      <td>0.330153</td>\n",
       "      <td>5.636206</td>\n",
       "      <td>2.337547</td>\n",
       "      <td>NaN</td>\n",
       "    </tr>\n",
       "    <tr>\n",
       "      <th>E</th>\n",
       "      <td>1.843754</td>\n",
       "      <td>NaN</td>\n",
       "      <td>4.392252</td>\n",
       "      <td>NaN</td>\n",
       "    </tr>\n",
       "  </tbody>\n",
       "</table>\n",
       "</div>"
      ],
      "text/plain": [
       "          w         x         y         z\n",
       "A  1.523585       NaN  3.752256  4.702824\n",
       "B       NaN       NaN  0.639202       NaN\n",
       "C       NaN       NaN  4.396990  3.888960\n",
       "D  0.330153  5.636206  2.337547       NaN\n",
       "E  1.843754       NaN  4.392252       NaN"
      ]
     },
     "execution_count": 69,
     "metadata": {},
     "output_type": "execute_result"
    }
   ],
   "source": [
    "df[df > 0]"
   ]
>>>>>>> Stashed changes
  },
  {
   "cell_type": "code",
   "execution_count": 71,
   "id": "8e1bf9a4a3935bdf",
<<<<<<< Updated upstream
   "metadata": {
    "lines_to_next_cell": 2
   },
   "outputs": [],
   "source": []
=======
   "metadata": {},
   "outputs": [
    {
     "data": {
      "text/html": [
       "<div>\n",
       "<style scoped>\n",
       "    .dataframe tbody tr th:only-of-type {\n",
       "        vertical-align: middle;\n",
       "    }\n",
       "\n",
       "    .dataframe tbody tr th {\n",
       "        vertical-align: top;\n",
       "    }\n",
       "\n",
       "    .dataframe thead th {\n",
       "        text-align: right;\n",
       "    }\n",
       "</style>\n",
       "<table border=\"1\" class=\"dataframe\">\n",
       "  <thead>\n",
       "    <tr style=\"text-align: right;\">\n",
       "      <th></th>\n",
       "      <th>w</th>\n",
       "      <th>x</th>\n",
       "      <th>y</th>\n",
       "      <th>z</th>\n",
       "    </tr>\n",
       "  </thead>\n",
       "  <tbody>\n",
       "    <tr>\n",
       "      <th>A</th>\n",
       "      <td>1.523585</td>\n",
       "      <td>-5.199921</td>\n",
       "      <td>3.752256</td>\n",
       "      <td>4.702824</td>\n",
       "    </tr>\n",
       "    <tr>\n",
       "      <th>D</th>\n",
       "      <td>0.330153</td>\n",
       "      <td>5.636206</td>\n",
       "      <td>2.337547</td>\n",
       "      <td>-4.296462</td>\n",
       "    </tr>\n",
       "    <tr>\n",
       "      <th>E</th>\n",
       "      <td>1.843754</td>\n",
       "      <td>-4.794413</td>\n",
       "      <td>4.392252</td>\n",
       "      <td>-0.249630</td>\n",
       "    </tr>\n",
       "  </tbody>\n",
       "</table>\n",
       "</div>"
      ],
      "text/plain": [
       "          w         x         y         z\n",
       "A  1.523585 -5.199921  3.752256  4.702824\n",
       "D  0.330153  5.636206  2.337547 -4.296462\n",
       "E  1.843754 -4.794413  4.392252 -0.249630"
      ]
     },
     "execution_count": 71,
     "metadata": {},
     "output_type": "execute_result"
    }
   ],
   "source": [
    "df[df[\"w\"] > 0]"
   ]
>>>>>>> Stashed changes
  },
  {
   "cell_type": "code",
   "execution_count": 72,
   "id": "f219bc94551b41fa",
<<<<<<< Updated upstream
   "metadata": {
    "lines_to_next_cell": 2
   },
   "outputs": [],
   "source": []
=======
   "metadata": {},
   "outputs": [
    {
     "data": {
      "text/html": [
       "<div>\n",
       "<style scoped>\n",
       "    .dataframe tbody tr th:only-of-type {\n",
       "        vertical-align: middle;\n",
       "    }\n",
       "\n",
       "    .dataframe tbody tr th {\n",
       "        vertical-align: top;\n",
       "    }\n",
       "\n",
       "    .dataframe thead th {\n",
       "        text-align: right;\n",
       "    }\n",
       "</style>\n",
       "<table border=\"1\" class=\"dataframe\">\n",
       "  <thead>\n",
       "    <tr style=\"text-align: right;\">\n",
       "      <th></th>\n",
       "      <th>x</th>\n",
       "      <th>y</th>\n",
       "    </tr>\n",
       "  </thead>\n",
       "  <tbody>\n",
       "    <tr>\n",
       "      <th>A</th>\n",
       "      <td>-5.199921</td>\n",
       "      <td>3.752256</td>\n",
       "    </tr>\n",
       "    <tr>\n",
       "      <th>D</th>\n",
       "      <td>5.636206</td>\n",
       "      <td>2.337547</td>\n",
       "    </tr>\n",
       "    <tr>\n",
       "      <th>E</th>\n",
       "      <td>-4.794413</td>\n",
       "      <td>4.392252</td>\n",
       "    </tr>\n",
       "  </tbody>\n",
       "</table>\n",
       "</div>"
      ],
      "text/plain": [
       "          x         y\n",
       "A -5.199921  3.752256\n",
       "D  5.636206  2.337547\n",
       "E -4.794413  4.392252"
      ]
     },
     "execution_count": 72,
     "metadata": {},
     "output_type": "execute_result"
    }
   ],
   "source": [
    "df[df[\"w\"] > 0][[\"x\", \"y\"]]"
   ]
>>>>>>> Stashed changes
  },
  {
   "cell_type": "code",
   "execution_count": 75,
   "id": "b5982425a00d221e",
   "metadata": {},
   "outputs": [
    {
     "data": {
      "text/html": [
       "<div>\n",
       "<style scoped>\n",
       "    .dataframe tbody tr th:only-of-type {\n",
       "        vertical-align: middle;\n",
       "    }\n",
       "\n",
       "    .dataframe tbody tr th {\n",
       "        vertical-align: top;\n",
       "    }\n",
       "\n",
       "    .dataframe thead th {\n",
       "        text-align: right;\n",
       "    }\n",
       "</style>\n",
       "<table border=\"1\" class=\"dataframe\">\n",
       "  <thead>\n",
       "    <tr style=\"text-align: right;\">\n",
       "      <th></th>\n",
       "      <th>w</th>\n",
       "      <th>x</th>\n",
       "      <th>y</th>\n",
       "      <th>z</th>\n",
       "    </tr>\n",
       "  </thead>\n",
       "  <tbody>\n",
       "    <tr>\n",
       "      <th>A</th>\n",
       "      <td>1.523585</td>\n",
       "      <td>-5.199921</td>\n",
       "      <td>3.752256</td>\n",
       "      <td>4.702824</td>\n",
       "    </tr>\n",
       "    <tr>\n",
       "      <th>E</th>\n",
       "      <td>1.843754</td>\n",
       "      <td>-4.794413</td>\n",
       "      <td>4.392252</td>\n",
       "      <td>-0.249630</td>\n",
       "    </tr>\n",
       "  </tbody>\n",
       "</table>\n",
       "</div>"
      ],
      "text/plain": [
       "          w         x         y         z\n",
       "A  1.523585 -5.199921  3.752256  4.702824\n",
       "E  1.843754 -4.794413  4.392252 -0.249630"
      ]
     },
     "execution_count": 75,
     "metadata": {},
     "output_type": "execute_result"
    }
   ],
   "source": [
    "df[(df[\"w\"] > 0) & (df[\"x\"] < 0)]"
   ]
  },
  {
   "cell_type": "markdown",
   "id": "c13e397b2fa66a17",
   "metadata": {
    "lang": "de"
   },
   "source": [
    "## Bedingte Auswahl"
   ]
  },
  {
   "cell_type": "code",
   "execution_count": null,
   "id": "57054cfddd37df38",
   "metadata": {
    "lines_to_next_cell": 2
   },
   "outputs": [],
   "source": []
  },
  {
   "cell_type": "code",
   "execution_count": null,
   "id": "7dfb48e6138297d3",
   "metadata": {
    "lines_to_next_cell": 2
   },
   "outputs": [],
   "source": []
  },
  {
   "cell_type": "code",
   "execution_count": null,
   "id": "ed6d7a2f72501d3e",
   "metadata": {
    "lines_to_next_cell": 2
   },
   "outputs": [],
   "source": []
  },
  {
   "cell_type": "code",
   "execution_count": null,
   "id": "fbaf7e3795cb0b7b",
   "metadata": {
    "lines_to_next_cell": 2
   },
   "outputs": [],
   "source": []
  },
  {
   "cell_type": "code",
   "execution_count": null,
   "id": "65c82eee97d2de3c",
   "metadata": {
    "lines_to_next_cell": 2
   },
   "outputs": [],
   "source": []
  },
  {
   "cell_type": "code",
   "execution_count": null,
   "id": "82781aae9355bb5d",
   "metadata": {
    "lines_to_next_cell": 2
   },
   "outputs": [],
   "source": []
  },
  {
   "cell_type": "code",
   "execution_count": null,
   "id": "956baddc013ae1db",
   "metadata": {},
   "outputs": [],
   "source": []
  },
  {
   "cell_type": "markdown",
   "id": "f73a7268cf1faca6",
   "metadata": {
    "lang": "de"
   },
   "source": [
    "\n",
    "# Information über Data Frames"
   ]
  },
  {
   "cell_type": "code",
   "execution_count": 76,
   "id": "373172dca3aba7b4",
<<<<<<< Updated upstream
   "metadata": {
    "lines_to_next_cell": 2
   },
   "outputs": [],
   "source": []
=======
   "metadata": {},
   "outputs": [
    {
     "data": {
      "text/html": [
       "<div>\n",
       "<style scoped>\n",
       "    .dataframe tbody tr th:only-of-type {\n",
       "        vertical-align: middle;\n",
       "    }\n",
       "\n",
       "    .dataframe tbody tr th {\n",
       "        vertical-align: top;\n",
       "    }\n",
       "\n",
       "    .dataframe thead th {\n",
       "        text-align: right;\n",
       "    }\n",
       "</style>\n",
       "<table border=\"1\" class=\"dataframe\">\n",
       "  <thead>\n",
       "    <tr style=\"text-align: right;\">\n",
       "      <th></th>\n",
       "      <th>w</th>\n",
       "      <th>x</th>\n",
       "      <th>y</th>\n",
       "      <th>z</th>\n",
       "    </tr>\n",
       "  </thead>\n",
       "  <tbody>\n",
       "    <tr>\n",
       "      <th>count</th>\n",
       "      <td>5.000000</td>\n",
       "      <td>5.000000</td>\n",
       "      <td>5.000000</td>\n",
       "      <td>5.000000</td>\n",
       "    </tr>\n",
       "    <tr>\n",
       "      <th>mean</th>\n",
       "      <td>-1.228338</td>\n",
       "      <td>-3.026849</td>\n",
       "      <td>3.103649</td>\n",
       "      <td>0.492896</td>\n",
       "    </tr>\n",
       "    <tr>\n",
       "      <th>std</th>\n",
       "      <td>4.833637</td>\n",
       "      <td>4.913431</td>\n",
       "      <td>1.613562</td>\n",
       "      <td>3.776505</td>\n",
       "    </tr>\n",
       "    <tr>\n",
       "      <th>min</th>\n",
       "      <td>-9.755176</td>\n",
       "      <td>-6.510898</td>\n",
       "      <td>0.639202</td>\n",
       "      <td>-4.296462</td>\n",
       "    </tr>\n",
       "    <tr>\n",
       "      <th>25%</th>\n",
       "      <td>-0.084006</td>\n",
       "      <td>-5.199921</td>\n",
       "      <td>2.337547</td>\n",
       "      <td>-1.581213</td>\n",
       "    </tr>\n",
       "    <tr>\n",
       "      <th>50%</th>\n",
       "      <td>0.330153</td>\n",
       "      <td>-4.794413</td>\n",
       "      <td>3.752256</td>\n",
       "      <td>-0.249630</td>\n",
       "    </tr>\n",
       "    <tr>\n",
       "      <th>75%</th>\n",
       "      <td>1.523585</td>\n",
       "      <td>-4.265220</td>\n",
       "      <td>4.392252</td>\n",
       "      <td>3.888960</td>\n",
       "    </tr>\n",
       "    <tr>\n",
       "      <th>max</th>\n",
       "      <td>1.843754</td>\n",
       "      <td>5.636206</td>\n",
       "      <td>4.396990</td>\n",
       "      <td>4.702824</td>\n",
       "    </tr>\n",
       "  </tbody>\n",
       "</table>\n",
       "</div>"
      ],
      "text/plain": [
       "              w         x         y         z\n",
       "count  5.000000  5.000000  5.000000  5.000000\n",
       "mean  -1.228338 -3.026849  3.103649  0.492896\n",
       "std    4.833637  4.913431  1.613562  3.776505\n",
       "min   -9.755176 -6.510898  0.639202 -4.296462\n",
       "25%   -0.084006 -5.199921  2.337547 -1.581213\n",
       "50%    0.330153 -4.794413  3.752256 -0.249630\n",
       "75%    1.523585 -4.265220  4.392252  3.888960\n",
       "max    1.843754  5.636206  4.396990  4.702824"
      ]
     },
     "execution_count": 76,
     "metadata": {},
     "output_type": "execute_result"
    }
   ],
   "source": [
    "df.describe()"
   ]
>>>>>>> Stashed changes
  },
  {
   "cell_type": "code",
   "execution_count": 77,
   "id": "8f3cd3815854b853",
<<<<<<< Updated upstream
   "metadata": {
    "lines_to_next_cell": 2
   },
   "outputs": [],
   "source": []
=======
   "metadata": {},
   "outputs": [
    {
     "name": "stdout",
     "output_type": "stream",
     "text": [
      "<class 'pandas.core.frame.DataFrame'>\n",
      "Index: 5 entries, A to E\n",
      "Data columns (total 4 columns):\n",
      " #   Column  Non-Null Count  Dtype  \n",
      "---  ------  --------------  -----  \n",
      " 0   w       5 non-null      float64\n",
      " 1   x       5 non-null      float64\n",
      " 2   y       5 non-null      float64\n",
      " 3   z       5 non-null      float64\n",
      "dtypes: float64(4)\n",
      "memory usage: 372.0+ bytes\n"
     ]
    }
   ],
   "source": [
    "df.info()"
   ]
>>>>>>> Stashed changes
  },
  {
   "cell_type": "code",
   "execution_count": 78,
   "id": "636e36b8e346a2bf",
<<<<<<< Updated upstream
   "metadata": {
    "lines_to_next_cell": 2
   },
   "outputs": [],
   "source": []
=======
   "metadata": {},
   "outputs": [
    {
     "data": {
      "text/plain": [
       "w    float64\n",
       "x    float64\n",
       "y    float64\n",
       "z    float64\n",
       "dtype: object"
      ]
     },
     "execution_count": 78,
     "metadata": {},
     "output_type": "execute_result"
    }
   ],
   "source": [
    "df.dtypes"
   ]
>>>>>>> Stashed changes
  },
  {
   "cell_type": "code",
   "execution_count": null,
   "id": "85a811cfdd31bf65",
   "metadata": {},
   "outputs": [],
   "source": []
  },
  {
   "cell_type": "markdown",
   "id": "6dcc9d5178f98fa4",
   "metadata": {
    "lang": "de"
   },
   "source": [
    "## Der Index eines Data Frames"
   ]
  },
  {
   "cell_type": "code",
   "execution_count": null,
   "id": "6fd0c12908c8e852",
   "metadata": {
    "lines_to_next_cell": 2
   },
   "outputs": [],
   "source": []
  },
  {
   "cell_type": "code",
   "execution_count": null,
   "id": "3500636b950d0c23",
   "metadata": {
    "lines_to_next_cell": 2
   },
   "outputs": [],
   "source": []
  },
  {
   "cell_type": "code",
   "execution_count": null,
   "id": "e81f79ac519b82f3",
   "metadata": {
    "lines_to_next_cell": 2
   },
   "outputs": [],
   "source": []
  },
  {
   "cell_type": "code",
   "execution_count": null,
   "id": "21ca116089ae14fe",
   "metadata": {
    "lines_to_next_cell": 2
   },
   "outputs": [],
   "source": []
  },
  {
   "cell_type": "code",
   "execution_count": null,
   "id": "54997962419b2a4c",
   "metadata": {
    "lines_to_next_cell": 2
   },
   "outputs": [],
   "source": []
  },
  {
   "cell_type": "code",
   "execution_count": null,
   "id": "38f92feda7e433a3",
   "metadata": {
    "lines_to_next_cell": 2
   },
   "outputs": [],
   "source": []
  },
  {
   "cell_type": "code",
   "execution_count": null,
   "id": "3b61b814171fb26b",
   "metadata": {
    "lines_to_next_cell": 2
   },
   "outputs": [],
   "source": []
  },
  {
   "cell_type": "code",
   "execution_count": null,
   "id": "8f7e5bfdf1c3179e",
   "metadata": {
    "lines_to_next_cell": 2
   },
   "outputs": [],
   "source": []
  },
  {
   "cell_type": "code",
   "execution_count": null,
   "id": "bf840766eec4ea8e",
   "metadata": {
    "lines_to_next_cell": 2
   },
   "outputs": [],
   "source": []
  },
  {
   "cell_type": "code",
   "execution_count": null,
   "id": "d4ce388f31ce65cc",
   "metadata": {
    "lines_to_next_cell": 2
   },
   "outputs": [],
   "source": []
  },
  {
   "cell_type": "code",
   "execution_count": null,
   "id": "3a5df619f40e1a30",
   "metadata": {
    "lines_to_next_cell": 2
   },
   "outputs": [],
   "source": []
  },
  {
   "cell_type": "code",
   "execution_count": null,
   "id": "2d191fcd95b540e6",
   "metadata": {
    "lines_to_next_cell": 2
   },
   "outputs": [],
   "source": []
  },
  {
   "cell_type": "code",
   "execution_count": null,
   "id": "597d624da7f2fdb7",
   "metadata": {
    "lines_to_next_cell": 2
   },
   "outputs": [],
   "source": []
  },
  {
   "cell_type": "code",
   "execution_count": null,
   "id": "9e3e98a647608725",
   "metadata": {
    "lines_to_next_cell": 2
   },
   "outputs": [],
   "source": []
  },
  {
   "cell_type": "code",
   "execution_count": null,
   "id": "8ab4766471a95fb2",
   "metadata": {
    "lines_to_next_cell": 2
   },
   "outputs": [],
   "source": []
  },
  {
   "cell_type": "code",
   "execution_count": null,
   "id": "6b4e03423667dbb7",
   "metadata": {
    "tags": [
     "keep"
    ]
   },
   "outputs": [],
   "source": []
  }
 ],
 "metadata": {
  "kernelspec": {
   "display_name": "Python 3 (ipykernel)",
   "language": "python",
   "name": "python3"
  },
  "language_info": {
   "codemirror_mode": {
    "name": "ipython",
    "version": 3
   },
   "file_extension": ".py",
   "mimetype": "text/x-python",
   "name": "python",
   "nbconvert_exporter": "python",
   "pygments_lexer": "ipython3",
   "version": "3.10.6"
  }
 },
 "nbformat": 4,
 "nbformat_minor": 5
}
