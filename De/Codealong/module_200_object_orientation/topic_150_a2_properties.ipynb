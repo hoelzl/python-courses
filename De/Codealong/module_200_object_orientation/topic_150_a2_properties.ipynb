{
 "cells": [
  {
   "cell_type": "markdown",
   "id": "20978e76aea54f9f",
   "metadata": {
    "lang": "de",
    "slideshow": {
     "slide_type": "slide"
    }
   },
   "source": [
    "<img src=\"../../img/python-logo-no-text.svg\"\n",
    "     style=\"display:block;margin:auto;width:10%\"/>\n",
    "<br>\n",
    "<div style=\"text-align:center; font-size:200%;\">\n",
    "  <b>Properties</b>\n",
    "</div>\n",
    "<br/>\n",
    "<div style=\"text-align:center;\">Dr. Matthias Hölzl</div>\n",
    "<br/>\n",
    "<div style=\"text-align:center;\">module_200_object_orientation/topic_150_a2_properties</div>"
   ]
  },
  {
   "cell_type": "markdown",
   "id": "7e250d46c4b11d8a",
   "metadata": {
    "lang": "de",
    "slideshow": {
     "slide_type": "slide"
    }
   },
   "source": [
    "## Properties\n",
    "\n",
    "Wie können wir es ermöglichen auf einen Punkt sowohl mittels der `x` und\n",
    "`y`-Koordinaten zuzugreifen, als auch mittels Radius und Winkel?"
   ]
  },
  {
   "cell_type": "code",
   "execution_count": null,
   "id": "69fe10bd79632dde",
   "metadata": {},
   "outputs": [],
   "source": []
  },
  {
   "cell_type": "code",
   "execution_count": null,
   "id": "b0b461a9963d7d9d",
   "metadata": {
    "slideshow": {
     "slide_type": "subslide"
    }
   },
   "outputs": [],
   "source": []
  },
  {
   "cell_type": "code",
   "execution_count": null,
   "id": "ce02042db01a9536",
   "metadata": {
    "tags": [
     "keep"
    ]
   },
   "outputs": [],
   "source": [
    "assert p.x == 0.0\n",
    "assert p.y == 0.0\n",
    "assert p.get_radius() == 0.0\n",
    "assert p.get_angle() == 0.0"
   ]
  },
  {
   "cell_type": "code",
   "execution_count": null,
   "id": "0db25d692bc5e61e",
   "metadata": {},
   "outputs": [],
   "source": []
  },
  {
   "cell_type": "code",
   "execution_count": null,
   "id": "494193b9815dd806",
   "metadata": {
    "tags": [
     "keep"
    ]
   },
   "outputs": [],
   "source": [
    "assert p.x == 1.0\n",
    "assert p.y == 0.0\n",
    "assert p.get_radius() == 1.0\n",
    "assert p.get_angle() == 0.0"
   ]
  },
  {
   "cell_type": "code",
   "execution_count": null,
   "id": "ed76f53a3f71dbb3",
   "metadata": {},
   "outputs": [],
   "source": []
  },
  {
   "cell_type": "code",
   "execution_count": null,
   "id": "5ffc66d95847a264",
   "metadata": {
    "tags": [
     "keep"
    ]
   },
   "outputs": [],
   "source": [
    "from math import isclose, pi\n",
    "\n",
    "assert p.x == 0.0\n",
    "assert p.y == 2.0\n",
    "assert p.get_radius() == 2.0\n",
    "assert isclose(p.get_angle(), pi / 2)"
   ]
  },
  {
   "cell_type": "markdown",
   "id": "2446a890b54b402c",
   "metadata": {
    "lang": "de",
    "slideshow": {
     "slide_type": "subslide"
    }
   },
   "source": [
    "Es ist unschön, dass bei der Verwendung von `GeoPointV0` die Attribute `x`\n",
    "und `y` anders behandelt werden müsseen als `radius` und `angle`:"
   ]
  },
  {
   "cell_type": "code",
   "execution_count": null,
   "id": "c34c551ce130a129",
   "metadata": {},
   "outputs": [],
   "source": []
  },
  {
   "cell_type": "code",
   "execution_count": null,
   "id": "d9d9ed3f11409828",
   "metadata": {
    "slideshow": {
     "slide_type": "subslide"
    }
   },
   "outputs": [],
   "source": []
  },
  {
   "cell_type": "code",
   "execution_count": null,
   "id": "e07af96c7404062a",
   "metadata": {
    "slideshow": {
     "slide_type": "subslide"
    }
   },
   "outputs": [],
   "source": []
  },
  {
   "cell_type": "code",
   "execution_count": null,
   "id": "05604045a925e9f7",
   "metadata": {
    "tags": [
     "keep"
    ]
   },
   "outputs": [],
   "source": [
    "assert p.x == 0.0\n",
    "assert p.y == 0.0\n",
    "assert p.radius == 0.0\n",
    "assert p.angle == 0.0"
   ]
  },
  {
   "cell_type": "code",
   "execution_count": null,
   "id": "68bfa630fad41bf8",
   "metadata": {},
   "outputs": [],
   "source": []
  },
  {
   "cell_type": "code",
   "execution_count": null,
   "id": "3a941384bc93d7da",
   "metadata": {
    "tags": [
     "keep"
    ]
   },
   "outputs": [],
   "source": [
    "assert p.x == 1.0\n",
    "assert p.y == 0.0\n",
    "assert p.radius == 1.0\n",
    "assert p.angle == 0.0"
   ]
  },
  {
   "cell_type": "code",
   "execution_count": null,
   "id": "f400d8b23e774e39",
   "metadata": {},
   "outputs": [],
   "source": []
  },
  {
   "cell_type": "code",
   "execution_count": null,
   "id": "2abeb8cfe5ddd942",
   "metadata": {
    "tags": [
     "keep"
    ]
   },
   "outputs": [],
   "source": [
    "from math import isclose, pi\n",
    "\n",
    "assert p.x == 0.0\n",
    "assert p.y == 2.0\n",
    "assert p.radius == 2.0\n",
    "assert isclose(p.angle, pi / 2)"
   ]
  },
  {
   "cell_type": "code",
   "execution_count": null,
   "id": "c73bbbd54deb89eb",
   "metadata": {},
   "outputs": [],
   "source": []
  },
  {
   "cell_type": "code",
   "execution_count": null,
   "id": "bc9f478f1d871307",
   "metadata": {},
   "outputs": [],
   "source": []
  },
  {
   "cell_type": "code",
   "execution_count": null,
   "id": "fc820469ee711028",
   "metadata": {},
   "outputs": [],
   "source": []
  },
  {
   "cell_type": "markdown",
   "id": "a52f5fc6d754217d",
   "metadata": {
    "lang": "de",
    "slideshow": {
     "slide_type": "subslide"
    }
   },
   "source": [
    "\n",
    "## Setter für Properties:\n",
    "\n",
    "Properties können auch modifiziert werden:"
   ]
  },
  {
   "cell_type": "code",
   "execution_count": null,
   "id": "62c259ab9441ef5f",
   "metadata": {},
   "outputs": [],
   "source": []
  },
  {
   "cell_type": "code",
   "execution_count": null,
   "id": "1b38e827cbdc3828",
   "metadata": {},
   "outputs": [],
   "source": []
  },
  {
   "cell_type": "code",
   "execution_count": null,
   "id": "2a5cf79bf8fd2a11",
   "metadata": {
    "lines_to_next_cell": 2,
    "tags": [
     "keep"
    ]
   },
   "outputs": [],
   "source": [
    "assert p.radius == 10.0"
   ]
  }
 ],
 "metadata": {
  "kernelspec": {
   "display_name": "Python 3 (ipykernel)",
   "language": "python",
   "name": "python3"
  }
 },
 "nbformat": 4,
 "nbformat_minor": 5
}
