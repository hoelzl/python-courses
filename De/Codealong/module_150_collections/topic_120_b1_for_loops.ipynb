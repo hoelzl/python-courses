{
 "cells": [
  {
   "cell_type": "markdown",
   "id": "018753d6c197fff2",
   "metadata": {
    "lang": "de",
    "slideshow": {
     "slide_type": "slide"
    }
   },
   "source": [
    "<img src=\"../../img/python-logo-no-text.svg\"\n",
    "     style=\"display:block;margin:auto;width:10%\"/>\n",
    "<br>\n",
    "<div style=\"text-align:center; font-size:200%;\">\n",
    "  <b>`for`-Schleifen</b>\n",
    "</div>\n",
    "<br/>\n",
    "<div style=\"text-align:center;\">Dr. Matthias Hölzl</div>\n",
    "<br/>\n",
    "<div style=\"text-align:center;\">module_150_collections/topic_120_b1_for_loops</div>"
   ]
  },
  {
   "cell_type": "markdown",
   "id": "3f86e1f72365585b",
   "metadata": {
    "lang": "de",
    "slideshow": {
     "slide_type": "slide"
    }
   },
   "source": [
    "## Iteration über Listen\n",
    "\n",
    "In Python kann man mit der `for`-Schleife über Listen iterieren.\n",
    "\n",
    "Die `for`-Schleife entspricht dem range-based for aus C++,\n",
    "`for-in`/`for-of` aus JavaScript oder der `for-each`-Schleife\n",
    "aus Java, nicht der klassischen `for`-Schleife\n",
    "aus C, C++ oder Java."
   ]
  },
  {
   "cell_type": "code",
   "execution_count": 1,
   "id": "f55a67a623582985",
   "metadata": {
    "slideshow": {
     "slide_type": "subslide"
    },
    "tags": [
     "keep"
    ]
   },
   "outputs": [
    {
     "data": {
      "text/plain": [
       "[0, 1, 2, 3, 4]"
      ]
     },
     "execution_count": 1,
     "metadata": {},
     "output_type": "execute_result"
    }
   ],
   "source": [
    "number_list = [0, 1, 2, 3, 4]\n",
    "number_list"
   ]
  },
  {
   "cell_type": "code",
   "execution_count": 2,
   "id": "86725ba16f3b49aa",
   "metadata": {},
   "outputs": [
    {
     "name": "stdout",
     "output_type": "stream",
     "text": [
      "Number is 0\n",
      "Number is 1\n",
      "Number is 2\n",
      "Number is 3\n",
      "Number is 4\n"
     ]
    }
   ],
   "source": [
    "for number in number_list:\n",
    "    print(\"Number is\", number)"
   ]
  },
  {
   "cell_type": "markdown",
   "id": "4a2cbd57751d25b8",
   "metadata": {
    "lang": "de",
    "slideshow": {
     "slide_type": "subslide"
    }
   },
   "source": [
    "## Syntax der `for`-Schleife\n",
    "\n",
    "```python\n",
    "for <element-var> in <liste>:\n",
    "    <rumpf>\n",
    "```"
   ]
  },
  {
   "cell_type": "markdown",
   "id": "c8627228a6f380fa",
   "metadata": {
    "lang": "de",
    "lines_to_next_cell": 2,
    "slideshow": {
     "slide_type": "subslide"
    }
   },
   "source": [
    "### Mini-Workshop\n",
    "\n",
    "Schreiben Sie eine Funktion `print_all(items: list)`, die die Elemente der\n",
    "Liste `items` auf dem Bildschirm ausgibt, jeweils ein Element pro Zeile:\n",
    "\n",
    "```python\n",
    ">>> print_all([1, 2, 3])\n",
    "1\n",
    "2\n",
    "3\n",
    ">>>\n",
    "```\n",
    "Was passiert, wenn Sie die Funktion mit einem String als Argument aufrufen,\n",
    "z.B. `print_all(\"abc\")`"
   ]
  },
  {
   "cell_type": "code",
   "execution_count": 3,
   "id": "00c3136ee332cd07",
   "metadata": {},
   "outputs": [],
   "source": []
  },
  {
   "cell_type": "code",
   "execution_count": null,
   "id": "edfcb8065a2861d7",
   "metadata": {},
   "outputs": [],
   "source": []
  },
  {
   "cell_type": "code",
   "execution_count": null,
   "id": "a8ac2b0c17e6dc8f",
   "metadata": {},
   "outputs": [],
   "source": []
  },
  {
   "cell_type": "markdown",
   "id": "6df57867056a6c36",
   "metadata": {
    "lang": "de",
    "slideshow": {
     "slide_type": "subslide"
    }
   },
   "source": [
    "\n",
    "## Workshop: Einkaufsliste\n",
    "\n",
    "Definieren Sie Variablen\n",
    "- `meine_einkaufsliste`, die eine Liste mit den Strings `Tee` und `Kaffee`\n",
    "  enthält,\n",
    "- `eine_andere_einkaufsliste`, die ebenfalls eine Liste mit den Strings\n",
    "  `Tee` und `Kaffee` enthält."
   ]
  },
  {
   "cell_type": "code",
   "execution_count": null,
   "id": "eb0c3457b4334dcb",
   "metadata": {
    "lang": "de"
   },
   "outputs": [],
   "source": []
  },
  {
   "cell_type": "markdown",
   "id": "1a5d506eb5959f1b",
   "metadata": {
    "lang": "de"
   },
   "source": [
    "\n",
    "Definieren Sie eine Funktion `drucke_einkaufsliste(einkaufsliste)`, die die\n",
    "als Argument übergebene Einkaufsliste ausdruckt:\n",
    "\n",
    "```\n",
    "Einkaufsliste:\n",
    "  Tee\n",
    "  Kaffee\n",
    "```"
   ]
  },
  {
   "cell_type": "code",
   "execution_count": null,
   "id": "903a689e610e6aaf",
   "metadata": {
    "lang": "de"
   },
   "outputs": [],
   "source": []
  },
  {
   "cell_type": "markdown",
   "id": "ff3f48e16275ee1d",
   "metadata": {
    "lang": "de"
   },
   "source": [
    "\n",
    "Testen Sie die Funktion `drucke_einkaufsliste(einkaufsliste)` mit beiden\n",
    "Einkaufslisten."
   ]
  },
  {
   "cell_type": "code",
   "execution_count": null,
   "id": "2e5d98b317244f48",
   "metadata": {
    "lang": "de"
   },
   "outputs": [],
   "source": []
  },
  {
   "cell_type": "code",
   "execution_count": null,
   "id": "7312baeeea2b1fdb",
   "metadata": {
    "lang": "de"
   },
   "outputs": [],
   "source": []
  },
  {
   "cell_type": "markdown",
   "id": "d37fd42f48653d75",
   "metadata": {
    "lang": "de"
   },
   "source": [
    "Definieren Sie eine Funktion `kaufe(produkt, einkaufsliste)`, das `produkt`\n",
    "zu  `einkaufsliste` hinzufügt."
   ]
  },
  {
   "cell_type": "code",
   "execution_count": null,
   "id": "740829f3c3766577",
   "metadata": {
    "lang": "de"
   },
   "outputs": [],
   "source": []
  },
  {
   "cell_type": "markdown",
   "id": "50b668fe1ae01bb3",
   "metadata": {
    "lang": "de"
   },
   "source": [
    "Fügen Sie `Butter` und `Brot` zur Einkaufsliste `meine_einkaufsliste` hinzu."
   ]
  },
  {
   "cell_type": "code",
   "execution_count": null,
   "id": "84d32a80f97adddf",
   "metadata": {
    "lang": "de"
   },
   "outputs": [],
   "source": []
  },
  {
   "cell_type": "markdown",
   "id": "74bab85ea13912e8",
   "metadata": {
    "lang": "de"
   },
   "source": [
    "Drucken Sie beide Einkauslisten nochmal aus."
   ]
  },
  {
   "cell_type": "code",
   "execution_count": null,
   "id": "46c2d9c64d31a324",
   "metadata": {
    "lang": "de"
   },
   "outputs": [],
   "source": []
  },
  {
   "cell_type": "code",
   "execution_count": null,
   "id": "5b023470d235af41",
   "metadata": {
    "lang": "de"
   },
   "outputs": [],
   "source": []
  },
  {
   "cell_type": "markdown",
   "id": "d48ae0bdf0f67048",
   "metadata": {
    "lang": "de"
   },
   "source": [
    "Was passiert, wenn Sie `Butter` und `Brot` nochmals zur Einkaufsliste\n",
    "`meine_einkaufsliste` hinzufügen?"
   ]
  },
  {
   "cell_type": "code",
   "execution_count": null,
   "id": "5d2e62aea6d539af",
   "metadata": {
    "lang": "de"
   },
   "outputs": [],
   "source": []
  },
  {
   "cell_type": "markdown",
   "id": "1495b6899b067550",
   "metadata": {
    "lang": "de",
    "slideshow": {
     "slide_type": "subslide"
    }
   },
   "source": [
    "### Ranges"
   ]
  },
  {
   "cell_type": "code",
   "execution_count": 4,
   "id": "c3a90d7e5a7d021b",
   "metadata": {
    "slideshow": {
     "slide_type": "subslide"
    }
   },
   "outputs": [
    {
     "data": {
      "text/plain": [
       "range(0, 10)"
      ]
     },
     "execution_count": 4,
     "metadata": {},
     "output_type": "execute_result"
    }
   ],
   "source": [
    "range(10)"
   ]
  },
  {
   "cell_type": "code",
   "execution_count": 3,
   "id": "7bd1e059ae9c162f",
   "metadata": {
    "lines_to_next_cell": 2
   },
   "outputs": [
    {
     "data": {
      "text/plain": [
       "['a', 'b', 'c']"
      ]
     },
     "execution_count": 3,
     "metadata": {},
     "output_type": "execute_result"
    }
   ],
   "source": [
    "list(\"abc\")"
   ]
  },
  {
   "cell_type": "code",
   "execution_count": 4,
   "id": "2ccdadd2",
   "metadata": {},
   "outputs": [
    {
     "data": {
      "text/plain": [
       "[0, 1, 2, 3, 4, 5, 6, 7, 8, 9]"
      ]
     },
     "execution_count": 4,
     "metadata": {},
     "output_type": "execute_result"
    }
   ],
   "source": [
    "list(range(10))"
   ]
  },
  {
   "cell_type": "code",
   "execution_count": 5,
   "id": "f17e0e4f",
   "metadata": {},
   "outputs": [
    {
     "data": {
      "text/plain": [
       "[1, 2, 3, 4, 5, 6, 7, 8, 9]"
      ]
     },
     "execution_count": 5,
     "metadata": {},
     "output_type": "execute_result"
    }
   ],
   "source": [
    "list(range(1, 10))"
   ]
  },
  {
   "cell_type": "code",
   "execution_count": 9,
   "id": "57d86b0c",
   "metadata": {},
   "outputs": [
    {
     "data": {
      "text/plain": [
       "[1, 11, 21, 31, 41, 51, 61, 71, 81, 91]"
      ]
     },
     "execution_count": 9,
     "metadata": {},
     "output_type": "execute_result"
    }
   ],
   "source": [
    "list(range(1, 101, 10))"
   ]
  },
  {
   "cell_type": "code",
   "execution_count": 11,
   "id": "62d47987",
   "metadata": {},
   "outputs": [
    {
     "data": {
      "text/plain": [
       "[10, 9, 8, 7, 6, 5, 4, 3, 2]"
      ]
     },
     "execution_count": 11,
     "metadata": {},
     "output_type": "execute_result"
    }
   ],
   "source": [
    "list(range(10, 1, -1))"
   ]
  },
  {
   "cell_type": "code",
   "execution_count": 13,
   "id": "3e987868",
   "metadata": {},
   "outputs": [
    {
     "name": "stdout",
     "output_type": "stream",
     "text": [
      "Zahl: 0\n",
      "Zahl: 1\n",
      "Zahl: 2\n"
     ]
    }
   ],
   "source": [
    "for i in range(3):\n",
    "    print(\"Zahl:\", i)"
   ]
  },
  {
   "cell_type": "code",
   "execution_count": 15,
   "id": "4f366be8",
   "metadata": {},
   "outputs": [
    {
     "name": "stdout",
     "output_type": "stream",
     "text": [
      "10 7 4 "
     ]
    }
   ],
   "source": [
    "for i in range(10, 1, -3):\n",
    "    print(i, end=\" \")"
   ]
  },
  {
   "cell_type": "markdown",
   "id": "fd2c02957dc3b805",
   "metadata": {
    "lang": "de",
    "lines_to_next_cell": 2,
    "slideshow": {
     "slide_type": "subslide"
    }
   },
   "source": [
    "### Mini-Workshop\n",
    "\n",
    "Schreiben Sie eine Funktion `print_squares(n: int)`, die die Quadrate der\n",
    "Zahlen von 1 bis n ausgibt, jeweils ein Element pro Zeile:\n",
    "\n",
    "```python\n",
    ">>> print_square(3)\n",
    "1**2 = 1\n",
    "2**2 = 4\n",
    "3**2 = 9\n",
    ">>>\n",
    "```"
   ]
  },
  {
   "cell_type": "code",
   "execution_count": null,
   "id": "74b0d58e2c749913",
   "metadata": {},
   "outputs": [],
   "source": []
  },
  {
   "cell_type": "code",
   "execution_count": null,
   "id": "170db0a09936dfeb",
   "metadata": {},
   "outputs": [],
   "source": []
  }
 ],
 "metadata": {
  "kernelspec": {
   "display_name": "Python 3 (ipykernel)",
   "language": "python",
   "name": "python3"
  },
  "language_info": {
   "codemirror_mode": {
    "name": "ipython",
    "version": 3
   },
   "file_extension": ".py",
   "mimetype": "text/x-python",
   "name": "python",
   "nbconvert_exporter": "python",
   "pygments_lexer": "ipython3",
   "version": "3.10.5"
  }
 },
 "nbformat": 4,
 "nbformat_minor": 5
}
