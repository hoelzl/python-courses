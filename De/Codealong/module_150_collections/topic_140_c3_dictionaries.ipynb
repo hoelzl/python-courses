{
 "cells": [
  {
   "cell_type": "markdown",
   "id": "337590981eec10a6",
   "metadata": {
    "lang": "de",
    "slideshow": {
     "slide_type": "slide"
    }
   },
   "source": [
    "<img src=\"../../img/python-logo-no-text.svg\"\n",
    "     style=\"display:block;margin:auto;width:10%\"/>\n",
    "<br>\n",
    "<div style=\"text-align:center; font-size:200%;\">\n",
    "  <b>Dictionaries</b>\n",
    "</div>\n",
    "<br/>\n",
    "<div style=\"text-align:center;\">Dr. Matthias Hölzl</div>\n",
    "<br/>\n",
    "<div style=\"text-align:center;\">module_150_collections/topic_140_c3_dictionaries</div>"
   ]
  },
  {
   "cell_type": "markdown",
   "id": "06f39e77d5b2bd21",
   "metadata": {
    "lang": "de",
    "slideshow": {
     "slide_type": "subslide"
    }
   },
   "source": [
    "## Dictionaries"
   ]
  },
  {
   "cell_type": "code",
   "execution_count": 2,
   "id": "cc17348d96ac625c",
   "metadata": {
    "tags": [
     "keep"
    ]
   },
   "outputs": [
    {
     "data": {
      "text/plain": [
       "{'snake': 'Schlange', 'bat': 'Fledermaus', 'horse': 'Hose'}"
      ]
     },
     "execution_count": 2,
     "metadata": {},
     "output_type": "execute_result"
    }
   ],
   "source": [
    "translations = {\"snake\": \"Schlange\", \"bat\": \"Fledermaus\", \"horse\": \"Hose\"}\n",
    "translations"
   ]
  },
  {
   "cell_type": "code",
   "execution_count": 3,
   "id": "983611cd8a989dfa",
   "metadata": {},
   "outputs": [
    {
     "data": {
      "text/plain": [
       "'Schlange'"
      ]
     },
     "execution_count": 3,
     "metadata": {},
     "output_type": "execute_result"
    }
   ],
   "source": [
    "translations[\"snake\"]"
   ]
  },
  {
   "cell_type": "code",
   "execution_count": 5,
   "id": "9661d47169c2d801",
   "metadata": {},
   "outputs": [
    {
     "ename": "KeyError",
     "evalue": "'monkey'",
     "output_type": "error",
     "traceback": [
      "\u001b[1;31m---------------------------------------------------------------------------\u001b[0m",
      "\u001b[1;31mKeyError\u001b[0m                                  Traceback (most recent call last)",
      "Input \u001b[1;32mIn [5]\u001b[0m, in \u001b[0;36m<cell line: 1>\u001b[1;34m()\u001b[0m\n\u001b[1;32m----> 1\u001b[0m \u001b[43mtranslations\u001b[49m\u001b[43m[\u001b[49m\u001b[38;5;124;43m\"\u001b[39;49m\u001b[38;5;124;43mmonkey\u001b[39;49m\u001b[38;5;124;43m\"\u001b[39;49m\u001b[43m]\u001b[49m\n",
      "\u001b[1;31mKeyError\u001b[0m: 'monkey'"
     ]
    }
   ],
   "source": [
    "translations[\"monkey\"]"
   ]
  },
  {
   "cell_type": "code",
   "execution_count": 6,
   "id": "574e050e4c2e8977",
   "metadata": {},
   "outputs": [
    {
     "data": {
      "text/plain": [
       "'Schlange'"
      ]
     },
     "execution_count": 6,
     "metadata": {},
     "output_type": "execute_result"
    }
   ],
   "source": [
    "translations.get(\"snake\")"
   ]
  },
  {
   "cell_type": "code",
   "execution_count": 8,
   "id": "b91f24d3f50a4627",
   "metadata": {
    "lines_to_next_cell": 1,
    "slideshow": {
     "slide_type": "subslide"
    }
   },
   "outputs": [
    {
     "data": {
      "text/plain": [
       "True"
      ]
     },
     "execution_count": 8,
     "metadata": {},
     "output_type": "execute_result"
    }
   ],
   "source": [
    "translations.get(\"monkey\") is None"
   ]
  },
  {
   "cell_type": "code",
   "execution_count": 10,
   "id": "533de0d9",
   "metadata": {},
   "outputs": [
    {
     "data": {
      "text/plain": [
       "'<unbekannt>'"
      ]
     },
     "execution_count": 10,
     "metadata": {},
     "output_type": "execute_result"
    }
   ],
   "source": [
    "translations.get(\"monkey\", \"<unbekannt>\")"
   ]
  },
  {
   "cell_type": "code",
   "execution_count": 12,
   "id": "2738b991",
   "metadata": {},
   "outputs": [
    {
     "data": {
      "text/plain": [
       "'Schlange'"
      ]
     },
     "execution_count": 12,
     "metadata": {},
     "output_type": "execute_result"
    }
   ],
   "source": [
    "translations.get(\"snake\", \"<unbekannt>\")"
   ]
  },
  {
   "cell_type": "code",
   "execution_count": 13,
   "id": "ae4d07df",
   "metadata": {},
   "outputs": [
    {
     "data": {
      "text/plain": [
       "{}"
      ]
     },
     "execution_count": 13,
     "metadata": {},
     "output_type": "execute_result"
    }
   ],
   "source": [
    "{}"
   ]
  },
  {
   "cell_type": "code",
   "execution_count": 14,
   "id": "98d7c53d",
   "metadata": {},
   "outputs": [
    {
     "data": {
      "text/plain": [
       "dict"
      ]
     },
     "execution_count": 14,
     "metadata": {},
     "output_type": "execute_result"
    }
   ],
   "source": [
    "type({})"
   ]
  },
  {
   "cell_type": "code",
   "execution_count": 16,
   "id": "f12d6e4f",
   "metadata": {},
   "outputs": [
    {
     "data": {
      "text/plain": [
       "'Hose'"
      ]
     },
     "execution_count": 16,
     "metadata": {},
     "output_type": "execute_result"
    }
   ],
   "source": [
    "translations[\"horse\"]"
   ]
  },
  {
   "cell_type": "code",
   "execution_count": 17,
   "id": "e79973a3",
   "metadata": {},
   "outputs": [
    {
     "data": {
      "text/plain": [
       "{'snake': 'Schlange', 'bat': 'Fledermaus', 'horse': 'Pferd'}"
      ]
     },
     "execution_count": 17,
     "metadata": {},
     "output_type": "execute_result"
    }
   ],
   "source": [
    "translations[\"horse\"] = \"Pferd\"\n",
    "translations"
   ]
  },
  {
   "cell_type": "markdown",
   "id": "1ffad391ae283cad",
   "metadata": {
    "lang": "de",
    "slideshow": {
     "slide_type": "slide"
    }
   },
   "source": [
    "\n",
    "### Mini-Workshop \"Inverser Index\"\n",
    "\n",
    "Schreiben Sie eine Funktion `inverse_index(a_list: list) -> dict`, die einen\n",
    "\"inversen Index\" für `a_list` liefert, d.h. ein Dictionary `d`, so dass\n",
    "`d[value]` den gleichen Wert zurückgibt wie `a_list.index(value)`, wenn\n",
    "`value` in `a_list` vorkommt.\n",
    "\n",
    "*Hinweis:* Eine einfache Lösung verwendet die Funktion `enumerate()`.\n",
    "\n",
    "Stellen Sie sicher, dass Ihre Lösung die vorgegebenen Tests erfüllt."
   ]
  },
  {
   "cell_type": "code",
   "execution_count": null,
   "id": "664e3692bd26c323",
   "metadata": {},
   "outputs": [],
   "source": []
  },
  {
   "cell_type": "code",
   "execution_count": null,
   "id": "b33b9a2630ed8e3e",
   "metadata": {
    "tags": [
     "keep"
    ]
   },
   "outputs": [],
   "source": [
    "example_values = [\"a\", \"b\", \"c\", \"d\"]"
   ]
  },
  {
   "cell_type": "code",
   "execution_count": null,
   "id": "e4d3a4032300efee",
   "metadata": {
    "tags": [
     "keep"
    ]
   },
   "outputs": [],
   "source": [
    "ii = inverse_index(example_values)"
   ]
  },
  {
   "cell_type": "code",
   "execution_count": null,
   "id": "47c227edfa22cd80",
   "metadata": {
    "tags": [
     "keep"
    ]
   },
   "outputs": [],
   "source": [
    "assert ii[\"a\"] == 0"
   ]
  },
  {
   "cell_type": "code",
   "execution_count": null,
   "id": "8f62eb9cfc249016",
   "metadata": {
    "tags": [
     "keep"
    ]
   },
   "outputs": [],
   "source": [
    "assert ii[\"c\"] == 2"
   ]
  },
  {
   "cell_type": "code",
   "execution_count": null,
   "id": "4584b2ba74895a65",
   "metadata": {
    "lines_to_next_cell": 2,
    "tags": [
     "keep"
    ]
   },
   "outputs": [],
   "source": [
    "assert ii.get(\"e\") is None"
   ]
  },
  {
   "cell_type": "markdown",
   "id": "f6ce083705dae119",
   "metadata": {
    "lang": "de",
    "slideshow": {
     "slide_type": "subslide"
    }
   },
   "source": [
    "\n",
    "## Iteration über Dictionaries"
   ]
  },
  {
   "cell_type": "code",
   "execution_count": 18,
   "id": "8dd4712251346896",
   "metadata": {
    "slideshow": {
     "slide_type": "subslide"
    }
   },
   "outputs": [
    {
     "name": "stdout",
     "output_type": "stream",
     "text": [
      "snake\n",
      "bat\n",
      "horse\n"
     ]
    }
   ],
   "source": [
    "for key in translations.keys():\n",
    "    print(key)"
   ]
  },
  {
   "cell_type": "code",
   "execution_count": 19,
   "id": "ed819fac7ac97600",
   "metadata": {
    "slideshow": {
     "slide_type": "subslide"
    }
   },
   "outputs": [
    {
     "name": "stdout",
     "output_type": "stream",
     "text": [
      "snake\n",
      "bat\n",
      "horse\n"
     ]
    }
   ],
   "source": [
    "for key in translations:\n",
    "    print(key)"
   ]
  },
  {
   "cell_type": "code",
   "execution_count": 20,
   "id": "2061c4e4d01c59d4",
   "metadata": {},
   "outputs": [
    {
     "name": "stdout",
     "output_type": "stream",
     "text": [
      "Schlange\n",
      "Fledermaus\n",
      "Pferd\n"
     ]
    }
   ],
   "source": [
    "for val in translations.values():\n",
    "    print(val)"
   ]
  },
  {
   "cell_type": "code",
   "execution_count": 22,
   "id": "218899e8f065608c",
   "metadata": {
    "slideshow": {
     "slide_type": "subslide"
    }
   },
   "outputs": [
    {
     "name": "stdout",
     "output_type": "stream",
     "text": [
      "('snake', 'Schlange')\n",
      "('bat', 'Fledermaus')\n",
      "('horse', 'Pferd')\n"
     ]
    }
   ],
   "source": [
    "for item in translations.items():\n",
    "    print(item)"
   ]
  },
  {
   "cell_type": "code",
   "execution_count": 23,
   "id": "e48f6ede",
   "metadata": {},
   "outputs": [
    {
     "name": "stdout",
     "output_type": "stream",
     "text": [
      "('snake', 'Schlange')\n",
      "('bat', 'Fledermaus')\n",
      "('horse', 'Pferd')\n"
     ]
    }
   ],
   "source": [
    "for key in translations:\n",
    "    print((key, translations[key]))"
   ]
  },
  {
   "cell_type": "code",
   "execution_count": 25,
   "id": "43f9c341964469c7",
   "metadata": {},
   "outputs": [
    {
     "name": "stdout",
     "output_type": "stream",
     "text": [
      "key snake val Schlange\n",
      "key bat val Fledermaus\n",
      "key horse val Pferd\n"
     ]
    }
   ],
   "source": [
    "for key, val in translations.items():\n",
    "    print(\"key\", key, \"val\", val)"
   ]
  },
  {
   "cell_type": "code",
   "execution_count": 28,
   "id": "8270588d",
   "metadata": {},
   "outputs": [
    {
     "name": "stdout",
     "output_type": "stream",
     "text": [
      "snake\n"
     ]
    }
   ],
   "source": [
    "for key, val in translations.items():\n",
    "    if val == \"Schlange\":\n",
    "        print(key)"
   ]
  },
  {
   "cell_type": "code",
   "execution_count": 30,
   "id": "99c00455",
   "metadata": {},
   "outputs": [
    {
     "data": {
      "text/plain": [
       "{'Schlange': 'snake', 'Fledermaus': 'bat', 'Pferd': 'horse'}"
      ]
     },
     "execution_count": 30,
     "metadata": {},
     "output_type": "execute_result"
    }
   ],
   "source": [
    "german_to_english = {}\n",
    "for key, val in translations.items():\n",
    "    german_to_english[val] = key\n",
    "german_to_english"
   ]
  },
  {
   "cell_type": "markdown",
   "id": "eefe3035701ee1a4",
   "metadata": {
    "lang": "de",
    "slideshow": {
     "slide_type": "subslide"
    }
   },
   "source": [
    "### Hinweise für den nächsten Workshop"
   ]
  },
  {
   "cell_type": "code",
   "execution_count": 31,
   "id": "661dd957910230d3",
   "metadata": {
    "tags": [
     "keep"
    ]
   },
   "outputs": [],
   "source": [
    "advice = \"Don't worry be happy\""
   ]
  },
  {
   "cell_type": "code",
   "execution_count": 32,
   "id": "ba4729fdf8cd4955",
   "metadata": {
    "tags": [
     "keep"
    ]
   },
   "outputs": [
    {
     "data": {
      "text/plain": [
       "[\"Don't\", 'worry', 'be', 'happy']"
      ]
     },
     "execution_count": 32,
     "metadata": {},
     "output_type": "execute_result"
    }
   ],
   "source": [
    "words = advice.split()\n",
    "words"
   ]
  },
  {
   "cell_type": "code",
   "execution_count": 35,
   "id": "802e9423a1969933",
   "metadata": {
    "tags": [
     "keep"
    ]
   },
   "outputs": [
    {
     "data": {
      "text/plain": [
       "\"Don't worry be happy\""
      ]
     },
     "execution_count": 35,
     "metadata": {},
     "output_type": "execute_result"
    }
   ],
   "source": [
    "\" \".join(words)"
   ]
  },
  {
   "cell_type": "code",
   "execution_count": 37,
   "id": "c858f0722348fbce",
   "metadata": {
    "tags": [
     "keep"
    ]
   },
   "outputs": [
    {
     "data": {
      "text/plain": [
       "{'worry': '😟', 'happy': '😀'}"
      ]
     },
     "execution_count": 37,
     "metadata": {},
     "output_type": "execute_result"
    }
   ],
   "source": [
    "smileys = {\"worry\": \"\\U0001f61f\", \"happy\": \"\\U0001f600\"}\n",
    "smileys"
   ]
  },
  {
   "cell_type": "markdown",
   "id": "f6d335038ce1ecfc",
   "metadata": {
    "lang": "de",
    "slideshow": {
     "slide_type": "subslide"
    }
   },
   "source": [
    "### Mini-Workshop\n",
    "\n",
    "Schreiben Sie eine Funktion `replace_words(text: str, replacements: dict)`, die alle\n",
    "Wörter, die in `dict` als Key vorkommen durch ihren Wert in `dict` ersetzen.\n",
    "\n",
    "```python\n",
    ">>> replace_words(advice, smileys)\n",
    "\"Don't 😟 be 😀\"\n",
    "```\n",
    "\n",
    "#### Hinweise\n",
    "\n",
    "- Splitten Sie `text` in eine Liste `words` aus einzelnen Wörtern\n",
    "\n",
    "- Erzeugen Sie eine neue leere Liste `new_words`\n",
    "\n",
    "- Iterieren Sie über `words` und fügen Sie jedes Wort, das nicht im Wörterbuch\n",
    "  vorkommt unverändert an `new_words` an; fügen Sie für jedes Wort, das im Wörterbuch\n",
    "  vorkommt seine Übersetzung an\n",
    "\n",
    "- Fügen Sie `new_words` mit der `join()`-Methode zu einem String zusammen"
   ]
  },
  {
   "cell_type": "code",
   "execution_count": 47,
   "id": "d00b04ef5c08fe2f",
   "metadata": {},
   "outputs": [],
   "source": [
    "def replace_words(text: str, replacements: dict):\n",
    "    new_words = []\n",
    "    for word in text.split():\n",
    "        replacement = replacements.get(word)\n",
    "        new_words.append(replacements.get(word, word))\n",
    "    return \" \".join(new_words)"
   ]
  },
  {
   "cell_type": "code",
   "execution_count": 48,
   "id": "fa694b3e",
   "metadata": {},
   "outputs": [
    {
     "data": {
      "text/plain": [
       "\"Don't 😟 be 😀\""
      ]
     },
     "execution_count": 48,
     "metadata": {},
     "output_type": "execute_result"
    }
   ],
   "source": [
    "replace_words(advice, smileys)"
   ]
  },
  {
   "cell_type": "code",
   "execution_count": null,
   "id": "ea544a8a8e90c4cf",
   "metadata": {
    "tags": [
     "keep"
    ]
   },
   "outputs": [],
   "source": [
    "assert replace_words(advice, smileys) == \"Don't 😟 be 😀\""
   ]
  },
  {
   "cell_type": "code",
   "execution_count": null,
   "id": "e2d9516c1c956e2b",
   "metadata": {
    "tags": [
     "keep"
    ]
   },
   "outputs": [],
   "source": [
    "assert replace_words(\"happy happy\", smileys) == \"😀 😀\""
   ]
  },
  {
   "cell_type": "code",
   "execution_count": null,
   "id": "6936723636934d46",
   "metadata": {},
   "outputs": [],
   "source": []
  },
  {
   "cell_type": "code",
   "execution_count": null,
   "id": "35c6e8dc7cd1c746",
   "metadata": {},
   "outputs": [],
   "source": []
  },
  {
   "cell_type": "code",
   "execution_count": null,
   "id": "d2fe13cedf51018d",
   "metadata": {},
   "outputs": [],
   "source": []
  },
  {
   "cell_type": "code",
   "execution_count": null,
   "id": "d99a9e022fec524f",
   "metadata": {},
   "outputs": [],
   "source": []
  },
  {
   "cell_type": "code",
   "execution_count": null,
   "id": "7d573fe3de8f6479",
   "metadata": {},
   "outputs": [],
   "source": []
  },
  {
   "cell_type": "code",
   "execution_count": null,
   "id": "2b143062947621ad",
   "metadata": {},
   "outputs": [],
   "source": []
  }
 ],
 "metadata": {
  "kernelspec": {
   "display_name": "Python 3 (ipykernel)",
   "language": "python",
   "name": "python3"
  },
  "language_info": {
   "codemirror_mode": {
    "name": "ipython",
    "version": 3
   },
   "file_extension": ".py",
   "mimetype": "text/x-python",
   "name": "python",
   "nbconvert_exporter": "python",
   "pygments_lexer": "ipython3",
   "version": "3.10.5"
  }
 },
 "nbformat": 4,
 "nbformat_minor": 5
}
