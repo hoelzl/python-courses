{
 "cells": [
  {
   "cell_type": "markdown",
   "id": "029f0f22d9916da5",
   "metadata": {
    "lang": "de",
    "slideshow": {
     "slide_type": "slide"
    }
   },
   "source": [
    "<img src=\"../../img/python-logo-no-text.svg\"\n",
    "     style=\"display:block;margin:auto;width:10%\"/>\n",
    "<br>\n",
    "<div style=\"text-align:center; font-size:200%;\">\n",
    "  <b>Listen</b>\n",
    "</div>\n",
    "<br/>\n",
    "<div style=\"text-align:center;\">Dr. Matthias Hölzl</div>\n",
    "<br/>\n",
    "<div style=\"text-align:center;\">module_150_collections/topic_110_b1_lists</div>"
   ]
  },
  {
   "cell_type": "markdown",
   "id": "398488a78d7cbd1d",
   "metadata": {
    "lang": "de",
    "slideshow": {
     "slide_type": "slide"
    }
   },
   "source": [
    "# Listen"
   ]
  },
  {
   "cell_type": "code",
   "execution_count": 2,
   "id": "dca5ad4c4447af8c",
   "metadata": {
    "lang": "de",
    "tags": [
     "keep"
    ]
   },
   "outputs": [],
   "source": [
    "warenkorb = [\"Haferflocken\", \"Kaffeebohnen\", \"Orangenmarmelade\"]"
   ]
  },
  {
   "cell_type": "markdown",
   "id": "3f7dfdcd5c1c717f",
   "metadata": {
    "lang": "de"
   },
   "source": [
    "Der Typ von Listen ist `list`."
   ]
  },
  {
   "cell_type": "code",
   "execution_count": 3,
   "id": "7fbb98aca0f3fc1b",
   "metadata": {
    "lang": "de"
   },
   "outputs": [
    {
     "data": {
      "text/plain": [
       "list"
      ]
     },
     "execution_count": 3,
     "metadata": {},
     "output_type": "execute_result"
    }
   ],
   "source": [
    "type(warenkorb)"
   ]
  },
  {
   "cell_type": "markdown",
   "id": "faa827632ede615c",
   "metadata": {
    "lang": "de",
    "slideshow": {
     "slide_type": "slide"
    }
   },
   "source": [
    "## Erzeugen von Listen\n",
    "\n",
    "- Listen werden erzeugt, indem man ihre Elemente in eckige Klammern\n",
    "  einschließt.\n",
    "- Die Elemente einer Liste können beliebige Python-Werte sein.\n",
    "- Eine Liste kann Elemente mit verschiedenen Typen enthalten."
   ]
  },
  {
   "cell_type": "code",
   "execution_count": 4,
   "id": "989470ddeac11170",
   "metadata": {
    "slideshow": {
     "slide_type": "subslide"
    },
    "tags": [
     "keep"
    ]
   },
   "outputs": [],
   "source": [
    "list_1 = [1, 2, 3, 4, 5]\n",
    "list_2 = [\"string1\", \"another string\"]"
   ]
  },
  {
   "cell_type": "code",
   "execution_count": 5,
   "id": "3793651ccf47b049",
   "metadata": {},
   "outputs": [
    {
     "name": "stdout",
     "output_type": "stream",
     "text": [
      "[1, 2, 3, 4, 5]\n"
     ]
    }
   ],
   "source": [
    "print(list_1)"
   ]
  },
  {
   "cell_type": "code",
   "execution_count": 6,
   "id": "1e8add9c4493e0e8",
   "metadata": {},
   "outputs": [
    {
     "name": "stdout",
     "output_type": "stream",
     "text": [
      "['string1', 'another string']\n"
     ]
    }
   ],
   "source": [
    "print(list_2)"
   ]
  },
  {
   "cell_type": "code",
   "execution_count": 7,
   "id": "e8a7db1e16be01bb",
   "metadata": {
    "slideshow": {
     "slide_type": "subslide"
    }
   },
   "outputs": [],
   "source": [
    "list_3 = []\n",
    "list_4 = [1, 0.4, \"string\", True, None]"
   ]
  },
  {
   "cell_type": "code",
   "execution_count": 8,
   "id": "ba1ef5ccb59e66c9",
   "metadata": {},
   "outputs": [
    {
     "data": {
      "text/plain": [
       "[]"
      ]
     },
     "execution_count": 8,
     "metadata": {},
     "output_type": "execute_result"
    }
   ],
   "source": [
    "list_3"
   ]
  },
  {
   "cell_type": "code",
   "execution_count": 9,
   "id": "1893d382c4d49f30",
   "metadata": {},
   "outputs": [
    {
     "data": {
      "text/plain": [
       "[1, 0.4, 'string', True, None]"
      ]
     },
     "execution_count": 9,
     "metadata": {},
     "output_type": "execute_result"
    }
   ],
   "source": [
    "list_4"
   ]
  },
  {
   "cell_type": "markdown",
   "id": "78e649725bcebad3",
   "metadata": {
    "lang": "de",
    "slideshow": {
     "slide_type": "subslide"
    }
   },
   "source": [
    "\n",
    "Die Elemente einer Liste müssen keine Literale sein, man kann auch Werte von\n",
    "Variablen in einer Liste speichern:"
   ]
  },
  {
   "cell_type": "code",
   "execution_count": 10,
   "id": "e1c049c5915db443",
   "metadata": {
    "lang": "de",
    "tags": [
     "keep"
    ]
   },
   "outputs": [
    {
     "data": {
      "text/plain": [
       "['Haferflocken', 'Kaffeebohnen', 'Orangenmarmelade', 'Erdbeermarmelade']"
      ]
     },
     "execution_count": 10,
     "metadata": {},
     "output_type": "execute_result"
    }
   ],
   "source": [
    "produkt_1 = \"Haferflocken\"\n",
    "produkt_2 = \"Kaffeebohnen\"\n",
    "produkt_3 = \"Orangenmarmelade\"\n",
    "warenkorb = [produkt_1, produkt_2, produkt_3, \"Erdbeermarmelade\"]\n",
    "warenkorb"
   ]
  },
  {
   "cell_type": "markdown",
   "id": "50b5f4947cfb0ea9",
   "metadata": {
    "lang": "de",
    "slideshow": {
     "slide_type": "subslide"
    }
   },
   "source": [
    "\n",
    "Nachdem eine Liste erzeugt ist hat sie keine Verbindung zu den Variablen, die\n",
    "in ihrer Konstruktion verwendet wurden:"
   ]
  },
  {
   "cell_type": "code",
   "execution_count": 11,
   "id": "f4b3e5f50c9886ae",
   "metadata": {
    "lang": "de"
   },
   "outputs": [
    {
     "name": "stdout",
     "output_type": "stream",
     "text": [
      "['Haferflocken', 'Kaffeebohnen', 'Orangenmarmelade', 'Erdbeermarmelade']\n",
      "['Haferflocken', 'Kaffeebohnen', 'Orangenmarmelade', 'Erdbeermarmelade']\n"
     ]
    }
   ],
   "source": [
    "print(warenkorb)\n",
    "produkt_1 = \"Dinkelflocken\"\n",
    "produkt_2 = \"Tee\"\n",
    "print(warenkorb)"
   ]
  },
  {
   "cell_type": "markdown",
   "id": "4f8f11335b4e7b17",
   "metadata": {
    "lang": "de",
    "slideshow": {
     "slide_type": "subslide"
    }
   },
   "source": [
    "Mit der Funktion `list()` können manche andere Datentypen in Listen umgewandelt\n",
    "werden.\n",
    "\n",
    "Im Moment kennen wir nur Listen und Strings als mögliche Argumenttypen:"
   ]
  },
  {
   "cell_type": "code",
   "execution_count": 12,
   "id": "9a82f17cf5390062",
   "metadata": {},
   "outputs": [
    {
     "data": {
      "text/plain": [
       "['a', 'b', 'c']"
      ]
     },
     "execution_count": 12,
     "metadata": {},
     "output_type": "execute_result"
    }
   ],
   "source": [
    "list(\"abc\")"
   ]
  },
  {
   "cell_type": "code",
   "execution_count": 13,
   "id": "4996b624cd5eb488",
   "metadata": {},
   "outputs": [
    {
     "data": {
      "text/plain": [
       "[1, 2, 3]"
      ]
     },
     "execution_count": 13,
     "metadata": {},
     "output_type": "execute_result"
    }
   ],
   "source": [
    "list([1, 2, 3])"
   ]
  },
  {
   "cell_type": "markdown",
   "id": "7945c6a632b3e555",
   "metadata": {
    "lang": "de",
    "slideshow": {
     "slide_type": "slide"
    }
   },
   "source": [
    "## Zugriff auf Listenelemente"
   ]
  },
  {
   "cell_type": "code",
   "execution_count": 18,
   "id": "8bcac64b0d48623d",
   "metadata": {
    "tags": [
     "keep"
    ]
   },
   "outputs": [],
   "source": [
    "number_list = [0, 10, 20, 30]"
   ]
  },
  {
   "cell_type": "code",
   "execution_count": 19,
   "id": "c616ad27d92ceb47",
   "metadata": {},
   "outputs": [
    {
     "data": {
      "text/plain": [
       "0"
      ]
     },
     "execution_count": 19,
     "metadata": {},
     "output_type": "execute_result"
    }
   ],
   "source": [
    "number_list[0]"
   ]
  },
  {
   "cell_type": "code",
   "execution_count": 20,
   "id": "feed8f247849e588",
   "metadata": {},
   "outputs": [
    {
     "data": {
      "text/plain": [
       "30"
      ]
     },
     "execution_count": 20,
     "metadata": {},
     "output_type": "execute_result"
    }
   ],
   "source": [
    "number_list[3]"
   ]
  },
  {
   "cell_type": "code",
   "execution_count": 24,
   "id": "10de12dc38bb19b7",
   "metadata": {},
   "outputs": [
    {
     "data": {
      "text/plain": [
       "30"
      ]
     },
     "execution_count": 24,
     "metadata": {},
     "output_type": "execute_result"
    }
   ],
   "source": [
    "number_list[-1]"
   ]
  },
  {
   "cell_type": "markdown",
   "id": "301eed6ac1ed5eda",
   "metadata": {
    "lang": "de",
    "slideshow": {
     "slide_type": "slide"
    }
   },
   "source": [
    "## Länge einer Liste"
   ]
  },
  {
   "cell_type": "code",
   "execution_count": 25,
   "id": "c19594ca6019f0c6",
   "metadata": {
    "tags": [
     "keep"
    ]
   },
   "outputs": [
    {
     "data": {
      "text/plain": [
       "[0, 10, 20, 30]"
      ]
     },
     "execution_count": 25,
     "metadata": {},
     "output_type": "execute_result"
    }
   ],
   "source": [
    "number_list"
   ]
  },
  {
   "cell_type": "code",
   "execution_count": 26,
   "id": "c6bd257925eae5c2",
   "metadata": {},
   "outputs": [
    {
     "data": {
      "text/plain": [
       "4"
      ]
     },
     "execution_count": 26,
     "metadata": {},
     "output_type": "execute_result"
    }
   ],
   "source": [
    "len(number_list)"
   ]
  },
  {
   "cell_type": "markdown",
   "id": "c38218d3389493aa",
   "metadata": {
    "lang": "de",
    "slideshow": {
     "slide_type": "slide"
    }
   },
   "source": [
    "## Modifikation von Listeneinträgen"
   ]
  },
  {
   "cell_type": "code",
   "execution_count": 28,
   "id": "dfe2ee2d847e8ed4",
   "metadata": {},
   "outputs": [
    {
     "name": "stdout",
     "output_type": "stream",
     "text": [
      "[0, 10, 20, 30]\n"
     ]
    },
    {
     "data": {
      "text/plain": [
       "[0, 11, 20, 30]"
      ]
     },
     "execution_count": 28,
     "metadata": {},
     "output_type": "execute_result"
    }
   ],
   "source": [
    "print(number_list)\n",
    "number_list[1] = 11\n",
    "number_list"
   ]
  },
  {
   "cell_type": "markdown",
   "id": "5f68a1ef5f3c6b5f",
   "metadata": {
    "lang": "de",
    "slideshow": {
     "slide_type": "slide"
    }
   },
   "source": [
    "## Einfügen und Löschen von Elementen\n",
    "\n",
    "Wenn möglich ist es zweckmäßig Elemente an das Ende einer Liste anzufügen."
   ]
  },
  {
   "cell_type": "code",
   "execution_count": 29,
   "id": "af5447886bc37f39",
   "metadata": {},
   "outputs": [
    {
     "data": {
      "text/plain": [
       "[0, 11, 20, 30, 40]"
      ]
     },
     "execution_count": 29,
     "metadata": {},
     "output_type": "execute_result"
    }
   ],
   "source": [
    "number_list.append(40)\n",
    "number_list"
   ]
  },
  {
   "cell_type": "code",
   "execution_count": 30,
   "id": "9080b22b1861f0e3",
   "metadata": {},
   "outputs": [
    {
     "data": {
      "text/plain": [
       "[0, 11, 20, 30, 40, 50, 60]"
      ]
     },
     "execution_count": 30,
     "metadata": {},
     "output_type": "execute_result"
    }
   ],
   "source": [
    "number_list.extend([50, 60])\n",
    "number_list"
   ]
  },
  {
   "cell_type": "code",
   "execution_count": 31,
   "id": "196710fb084dd841",
   "metadata": {},
   "outputs": [
    {
     "data": {
      "text/plain": [
       "60"
      ]
     },
     "execution_count": 31,
     "metadata": {},
     "output_type": "execute_result"
    }
   ],
   "source": [
    "number_list.pop()"
   ]
  },
  {
   "cell_type": "code",
   "execution_count": 32,
   "id": "8a360692",
   "metadata": {},
   "outputs": [
    {
     "data": {
      "text/plain": [
       "[0, 11, 20, 30, 40, 50]"
      ]
     },
     "execution_count": 32,
     "metadata": {},
     "output_type": "execute_result"
    }
   ],
   "source": [
    "number_list"
   ]
  },
  {
   "cell_type": "code",
   "execution_count": 33,
   "id": "b5347029af23fcb0",
   "metadata": {},
   "outputs": [
    {
     "data": {
      "text/plain": [
       "[0, 9, 11, 20, 30, 40, 50]"
      ]
     },
     "execution_count": 33,
     "metadata": {},
     "output_type": "execute_result"
    }
   ],
   "source": [
    "number_list.insert(1, 9)\n",
    "number_list"
   ]
  },
  {
   "cell_type": "code",
   "execution_count": 34,
   "id": "bc2818571edddd74",
   "metadata": {},
   "outputs": [
    {
     "data": {
      "text/plain": [
       "9"
      ]
     },
     "execution_count": 34,
     "metadata": {},
     "output_type": "execute_result"
    }
   ],
   "source": [
    "number_list.pop(1)"
   ]
  },
  {
   "cell_type": "code",
   "execution_count": 36,
   "id": "50645d90916ee0b0",
   "metadata": {},
   "outputs": [
    {
     "data": {
      "text/plain": [
       "[0, 11, 20, 30, 40, 50]"
      ]
     },
     "execution_count": 36,
     "metadata": {},
     "output_type": "execute_result"
    }
   ],
   "source": [
    "number_list"
   ]
  },
  {
   "cell_type": "code",
   "execution_count": 37,
   "id": "eec6d387",
   "metadata": {},
   "outputs": [
    {
     "data": {
      "text/plain": [
       "[0, 20, 30, 40, 50]"
      ]
     },
     "execution_count": 37,
     "metadata": {},
     "output_type": "execute_result"
    }
   ],
   "source": [
    "del number_list[1]\n",
    "number_list"
   ]
  },
  {
   "cell_type": "markdown",
   "id": "28418bc1aea9d748",
   "metadata": {
    "lang": "de",
    "slideshow": {
     "slide_type": "subslide"
    }
   },
   "source": [
    "## Mini-Workshop\n",
    "\n",
    "- Notebook `workshop_100_lists_part2`\n",
    "- Abschnitt \"Farben\"\n"
   ]
  }
 ],
 "metadata": {
  "kernelspec": {
   "display_name": "Python 3 (ipykernel)",
   "language": "python",
   "name": "python3"
  },
  "language_info": {
   "codemirror_mode": {
    "name": "ipython",
    "version": 3
   },
   "file_extension": ".py",
   "mimetype": "text/x-python",
   "name": "python",
   "nbconvert_exporter": "python",
   "pygments_lexer": "ipython3",
   "version": "3.10.5"
  }
 },
 "nbformat": 4,
 "nbformat_minor": 5
}
