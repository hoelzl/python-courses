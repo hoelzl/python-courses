{
 "cells": [
  {
   "cell_type": "markdown",
   "id": "246e3836af107e50",
   "metadata": {
    "lang": "de",
    "lines_to_next_cell": 2,
    "slideshow": {
     "slide_type": "subslide"
    }
   },
   "source": [
    "\n",
    "## Mini-Workshop: Piraten (Teil 2)\n",
    "\n",
    "In einer früheren Aufgabe haben wir die Aufteilung der Beute für Ihre\n",
    "Piratencrew folgendermaßen berechnet:\n",
    "\n",
    "- Die Beute wird gleichmäßig auf alle Piraten verteilt. Dabei werden nur\n",
    "  ganze Golddublonen ausgezahlt.\n",
    "- Den Rest der Golddublonen erhält der Kapitän."
   ]
  },
  {
   "cell_type": "markdown",
   "id": "59284c7f4985c746",
   "metadata": {
    "lang": "de",
    "slideshow": {
     "slide_type": "subslide"
    }
   },
   "source": [
    "\n",
    "Jetzt droht Ihre Piraten-Crew aber zu meutern, weil die Berechnung der\n",
    "Beuteaufteilung zu lange dauert.\n",
    "\n",
    "Schreiben Sie eine Funktion `drucke_aufteilung_der_beute(dublonen, piraten)`,\n",
    "die die Aufteilung berechnet und in folgendem Format ausgibt:\n",
    "\n",
    "```\n",
    "Piraten: 8\n",
    "Golddublonen: 17\n",
    "Jeder Pirat erhält: 2 Golddublone(n)\n",
    "Kapitän erhält extra: 1 Golddublone(n)\n",
    "```"
   ]
  },
  {
   "cell_type": "code",
   "execution_count": null,
   "id": "acc2414f11153338",
   "metadata": {
    "lang": "de",
    "slideshow": {
     "slide_type": "subslide"
    }
   },
   "outputs": [],
   "source": []
  },
  {
   "cell_type": "code",
   "execution_count": null,
   "id": "5204a00b4b613c6f",
   "metadata": {
    "lang": "de"
   },
   "outputs": [],
   "source": []
  }
 ],
 "metadata": {},
 "nbformat": 4,
 "nbformat_minor": 5
}
