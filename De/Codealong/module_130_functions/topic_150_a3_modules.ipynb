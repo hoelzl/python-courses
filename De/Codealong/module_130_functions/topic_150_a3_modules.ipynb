{
 "cells": [
  {
   "cell_type": "markdown",
   "id": "a5cddbd1d528de7b",
   "metadata": {
    "lang": "de",
    "slideshow": {
     "slide_type": "slide"
    }
   },
   "source": [
    "<img src=\"../../img/python-logo-no-text.svg\"\n",
    "     style=\"display:block;margin:auto;width:10%\"/>\n",
    "<br>\n",
    "<div style=\"text-align:center; font-size:200%;\">\n",
    "  <b>Import von Modulen</b>\n",
    "</div>\n",
    "<br/>\n",
    "<div style=\"text-align:center;\">Dr. Matthias Hölzl</div>\n",
    "<br/>\n",
    "<div style=\"text-align:center;\">module_130_functions/topic_150_a3_modules</div>"
   ]
  },
  {
   "cell_type": "markdown",
   "id": "633a70ddc1c6cdbc",
   "metadata": {
    "lang": "de",
    "slideshow": {
     "slide_type": "slide"
    }
   },
   "source": [
    "## Import von Modulen\n",
    "\n",
    "Ein Großteil der Funktionalität von Python ist nicht direkt im Interpreter\n",
    "verfügbar sonder in Module (und Packages) ausgelagert. Mit der `import`\n",
    "Anweisung kann man diese Funktionalität verfügbar machen:"
   ]
  },
  {
   "cell_type": "code",
   "execution_count": null,
   "id": "4d0716d422962495",
   "metadata": {},
   "outputs": [],
   "source": []
  },
  {
   "cell_type": "markdown",
   "id": "e2791ce97398c12b",
   "metadata": {
    "lang": "de",
    "slideshow": {
     "slide_type": "subslide"
    }
   },
   "source": [
    "Auf die Funktionen aus dem `math` Modul kann man dann mit der Syntax\n",
    "`math.floor` zugreifen:"
   ]
  },
  {
   "cell_type": "code",
   "execution_count": null,
   "id": "9f393307eee9294d",
   "metadata": {},
   "outputs": [],
   "source": []
  },
  {
   "cell_type": "code",
   "execution_count": null,
   "id": "b3b0283f0a5adc9a",
   "metadata": {},
   "outputs": [],
   "source": []
  },
  {
   "cell_type": "markdown",
   "id": "a7641ad669931147",
   "metadata": {
    "lang": "de",
    "slideshow": {
     "slide_type": "subslide"
    }
   },
   "source": [
    "\n",
    "Die folgende Funktion berechnet die Länge der Hypotenuse in einem\n",
    "rechtwinkligen Dreieck aus den beiden Katheten:"
   ]
  },
  {
   "cell_type": "markdown",
   "id": "20e37bff33b60586",
   "metadata": {
    "lang": "de",
    "slideshow": {
     "slide_type": "subslide"
    }
   },
   "source": [
    "Die Funktion `pythagoras` steht im `math`-Modul unter dem Namen `hypot`\n",
    "zur Verfügung:"
   ]
  },
  {
   "cell_type": "code",
   "execution_count": null,
   "id": "65c00e9143c88e72",
   "metadata": {},
   "outputs": [],
   "source": []
  }
 ],
 "metadata": {
  "kernelspec": {
   "display_name": "Python 3 (ipykernel)",
   "language": "python",
   "name": "python3"
  }
 },
 "nbformat": 4,
 "nbformat_minor": 5
}
