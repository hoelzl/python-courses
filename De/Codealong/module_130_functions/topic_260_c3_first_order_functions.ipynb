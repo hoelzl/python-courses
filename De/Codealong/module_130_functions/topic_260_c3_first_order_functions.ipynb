{
 "cells": [
  {
   "cell_type": "markdown",
   "id": "99b40f791b46cb81",
   "metadata": {
    "lang": "de",
    "slideshow": {
     "slide_type": "slide"
    }
   },
   "source": [
    "<img src=\"../../img/python-logo-no-text.svg\"\n",
    "     style=\"display:block;margin:auto;width:10%\"/>\n",
    "<br>\n",
    "<div style=\"text-align:center; font-size:200%;\">\n",
    "  <b>Funktionen Erster Ordnung</b>\n",
    "</div>\n",
    "<br/>\n",
    "<div style=\"text-align:center;\">Dr. Matthias Hölzl</div>\n",
    "<br/>\n",
    "<div style=\"text-align:center;\">module_130_functions/topic_260_c3_first_order_functions</div>"
   ]
  },
  {
   "cell_type": "markdown",
   "id": "581f1e7472cb7ba7",
   "metadata": {
    "lang": "de",
    "slideshow": {
     "slide_type": "slide"
    }
   },
   "source": [
    "\n",
    "# Funktionen\n",
    "\n",
    "In Python sind Funktionen Objekte erster Ordnung, d.h., sie können von\n",
    "Variablen referenziert, als Argumente an Funktionen übergeben werden, etc.\n",
    "\n",
    "Funktionen haben den Typ `Callable`."
   ]
  },
  {
   "cell_type": "code",
   "execution_count": null,
   "id": "7e153f3cb8258e89",
   "metadata": {},
   "outputs": [],
   "source": []
  },
  {
   "cell_type": "code",
   "execution_count": null,
   "id": "e8cc46259d75dc05",
   "metadata": {},
   "outputs": [],
   "source": []
  },
  {
   "cell_type": "code",
   "execution_count": null,
   "id": "2cf8dd7db3e58971",
   "metadata": {},
   "outputs": [],
   "source": []
  },
  {
   "cell_type": "code",
   "execution_count": null,
   "id": "23b980bfed233e5d",
   "metadata": {},
   "outputs": [],
   "source": []
  },
  {
   "cell_type": "code",
   "execution_count": null,
   "id": "c4e971f1b956f7c6",
   "metadata": {},
   "outputs": [],
   "source": []
  },
  {
   "cell_type": "code",
   "execution_count": null,
   "id": "5f50239bee02071a",
   "metadata": {
    "slideshow": {
     "slide_type": "subslide"
    }
   },
   "outputs": [],
   "source": []
  },
  {
   "cell_type": "code",
   "execution_count": null,
   "id": "a4565b23c71baaa2",
   "metadata": {},
   "outputs": [],
   "source": []
  },
  {
   "cell_type": "code",
   "execution_count": null,
   "id": "ff0aaa81f3e22616",
   "metadata": {},
   "outputs": [],
   "source": []
  },
  {
   "cell_type": "code",
   "execution_count": null,
   "id": "c158368efcd8b563",
   "metadata": {},
   "outputs": [],
   "source": []
  },
  {
   "cell_type": "markdown",
   "id": "9726d905af17fb6b",
   "metadata": {
    "lang": "de",
    "lines_to_next_cell": 2,
    "slideshow": {
     "slide_type": "subslide"
    }
   },
   "source": [
    "\n",
    "## Mini-Workshop \"Filtern von Elementen\"\n",
    "\n",
    "Schreiben Sie eine Funktion\n",
    "`return_truthy_elements(a_list: list, fun: Callable) -> list`,\n",
    "die eine Liste mit allen Elementen `x` von `a_list` zurückgibt, für die\n",
    "`fun(x)` einen wahren Wert liefert."
   ]
  },
  {
   "cell_type": "code",
   "execution_count": null,
   "id": "b65fd9e8d68e6184",
   "metadata": {
    "tags": [
     "keep"
    ]
   },
   "outputs": [],
   "source": [
    "example_values = [1, 2, 3, 9, 10]"
   ]
  },
  {
   "cell_type": "code",
   "execution_count": null,
   "id": "06f93d7ce9888826",
   "metadata": {
    "tags": [
     "keep"
    ]
   },
   "outputs": [],
   "source": [
    "def greater_than_2(n):\n",
    "    return n > 2"
   ]
  },
  {
   "cell_type": "code",
   "execution_count": null,
   "id": "92413acdcba3edc0",
   "metadata": {
    "tags": [
     "keep"
    ]
   },
   "outputs": [],
   "source": [
    "def less_than_10(n):\n",
    "    return n < 10"
   ]
  },
  {
   "cell_type": "code",
   "execution_count": null,
   "id": "a37062bc203cd674",
   "metadata": {
    "tags": [
     "keep"
    ]
   },
   "outputs": [],
   "source": [
    "from typing import Callable"
   ]
  },
  {
   "cell_type": "code",
   "execution_count": null,
   "id": "a48625be1698392c",
   "metadata": {},
   "outputs": [],
   "source": []
  },
  {
   "cell_type": "code",
   "execution_count": null,
   "id": "a7437cada611138a",
   "metadata": {},
   "outputs": [],
   "source": []
  },
  {
   "cell_type": "code",
   "execution_count": null,
   "id": "1e1a65722683c4d8",
   "metadata": {},
   "outputs": [],
   "source": []
  },
  {
   "cell_type": "markdown",
   "id": "9fd50634097e2a2e",
   "metadata": {
    "lang": "de",
    "slideshow": {
     "slide_type": "subslide"
    }
   },
   "source": [
    "# Konstruktor-Funktionen und Methoden"
   ]
  },
  {
   "cell_type": "code",
   "execution_count": null,
   "id": "6cb02093b3c02475",
   "metadata": {},
   "outputs": [],
   "source": []
  },
  {
   "cell_type": "code",
   "execution_count": null,
   "id": "7f646a9641a64e7f",
   "metadata": {},
   "outputs": [],
   "source": []
  },
  {
   "cell_type": "code",
   "execution_count": null,
   "id": "2ada67553a8e8ad4",
   "metadata": {},
   "outputs": [],
   "source": []
  },
  {
   "cell_type": "code",
   "execution_count": null,
   "id": "f0905a0f2bbddeb2",
   "metadata": {},
   "outputs": [],
   "source": []
  },
  {
   "cell_type": "code",
   "execution_count": null,
   "id": "65affd41d1b03b73",
   "metadata": {},
   "outputs": [],
   "source": []
  },
  {
   "cell_type": "code",
   "execution_count": null,
   "id": "0cdd77be234d51b9",
   "metadata": {},
   "outputs": [],
   "source": []
  },
  {
   "cell_type": "code",
   "execution_count": null,
   "id": "bf1b10f645e6d70d",
   "metadata": {
    "lines_to_next_cell": 2
   },
   "outputs": [],
   "source": []
  },
  {
   "cell_type": "markdown",
   "id": "415ee346fef10087",
   "metadata": {
    "lang": "de",
    "lines_to_next_cell": 2,
    "slideshow": {
     "slide_type": "subslide"
    }
   },
   "source": [
    "\n",
    "## Mini-Workshop \"Filtern von Elementen\"\n",
    "\n",
    "Schreiben Sie eine Funktion `my_max(values: list, key: Callable)`, die das Element\n",
    "aus `values` zurückgibt, für das `key(value)` den größten Wert zurückgibt. Falls\n",
    "mehrere Elemente mit gleichem Wert existieren soll das erste davon zurückgegeben\n",
    "werden. Werfen Sie eine `ValueError()` wenn `list` leer ist.\n",
    "\n",
    "(Verwenden Sie zur Implementierung nicht die Funktion `max()`.)"
   ]
  },
  {
   "cell_type": "code",
   "execution_count": null,
   "id": "12fef2114233f4f2",
   "metadata": {},
   "outputs": [],
   "source": []
  },
  {
   "cell_type": "code",
   "execution_count": null,
   "id": "75ab5924e5b113ff",
   "metadata": {
    "tags": [
     "keep"
    ]
   },
   "outputs": [],
   "source": [
    "from operator import neg\n",
    "int_values = [1, 2, 5, 2, 4]\n",
    "string_values = [\"foo\", \"bar\", \"quux\", \"x\"]"
   ]
  },
  {
   "cell_type": "code",
   "execution_count": null,
   "id": "2ecab7f4995ce656",
   "metadata": {
    "tags": [
     "keep"
    ]
   },
   "outputs": [],
   "source": [
    "assert my_max(int_values, lambda x: x) == 5"
   ]
  },
  {
   "cell_type": "code",
   "execution_count": null,
   "id": "41afdf560c61b6e0",
   "metadata": {
    "tags": [
     "keep"
    ]
   },
   "outputs": [],
   "source": [
    "assert my_max(int_values, neg) == 5"
   ]
  },
  {
   "cell_type": "code",
   "execution_count": null,
   "id": "e18c8da3d844b454",
   "metadata": {
    "tags": [
     "keep"
    ]
   },
   "outputs": [],
   "source": [
    "assert my_max(string_values, len) == \"quux\""
   ]
  },
  {
   "cell_type": "code",
   "execution_count": null,
   "id": "d4f4309198e209a0",
   "metadata": {
    "tags": [
     "keep"
    ]
   },
   "outputs": [],
   "source": [
    "assert my_max(string_values, lambda x: x) == \"x\""
   ]
  },
  {
   "cell_type": "code",
   "execution_count": null,
   "id": "6abd89e39ee3f5e8",
   "metadata": {},
   "outputs": [],
   "source": []
  }
 ],
 "metadata": {
  "kernelspec": {
   "display_name": "Python 3 (ipykernel)",
   "language": "python",
   "name": "python3"
  }
 },
 "nbformat": 4,
 "nbformat_minor": 5
}
