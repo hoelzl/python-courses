{
 "cells": [
  {
   "cell_type": "markdown",
   "id": "7f405b8f948c61c6",
   "metadata": {
    "lang": "de",
    "slideshow": {
     "slide_type": "slide"
    }
   },
   "source": [
    "<img src=\"../../img/python-logo-no-text.svg\"\n",
    "     style=\"display:block;margin:auto;width:10%\"/>\n",
    "<br>\n",
    "<div style=\"text-align:center; font-size:200%;\">\n",
    "  <b>Was ist Clean Code?</b>\n",
    "</div>\n",
    "<br/>\n",
    "<div style=\"text-align:center;\">Dr. Matthias Hölzl</div>\n",
    "<br/>\n",
    "<div style=\"text-align:center;\">module_230_clean_code/topic_110_a3_intro</div>"
   ]
  },
  {
   "cell_type": "markdown",
   "id": "450171d138f73eeb",
   "metadata": {
    "lang": "de",
    "slideshow": {
     "slide_type": "slide"
    }
   },
   "source": [
    "\n",
    "# Was ist Clean Code?\n",
    "\n",
    "Meinungen von Experten:"
   ]
  },
  {
   "cell_type": "markdown",
   "id": "100cc9673b941dcb",
   "metadata": {},
   "source": [
    "\n",
    "### Grady Booch (OODA)\n",
    "\n",
    "- Clean code is simple and direct.\n",
    "- Clean code reads like well-written prose.\n",
    "- Clean code never obscures the designer’s intent but rather is full of crisp\n",
    "  abstractions and straightforward lines of control."
   ]
  },
  {
   "cell_type": "markdown",
   "id": "9c9938da27d629a6",
   "metadata": {},
   "source": [
    "\n",
    "### Bjarne Stroustrup (C++)\n",
    "\n",
    "- I like my code to be elegant and efficient.\n",
    "- The logic should be straightforward to make it hard for bugs to hide, the\n",
    "  dependencies minimal to ease maintenance, error handling complete according\n",
    "  to an articulated strategy, and performance close to optimal so as not to\n",
    "  tempt people to make the code messy with unprincipled optimizations.\n",
    "- Clean code does one thing well."
   ]
  },
  {
   "cell_type": "markdown",
   "id": "348e917bfe84586d",
   "metadata": {},
   "source": [
    "\n",
    "### Ward Cunningham (Wiki)\n",
    "\n",
    "- You know you are reading clean code, when every routine that you read is\n",
    "  pretty much what you expected.\n",
    "- You can call it beautiful code when the code also makes it look like the\n",
    "  language was made for the problem."
   ]
  },
  {
   "cell_type": "markdown",
   "id": "2282307d78a02ac1",
   "metadata": {},
   "source": [
    "\n",
    "### Michael Feathers (Legacy Code Book)\n",
    "\n",
    "- Clean code always looks like it was written by someone who cares."
   ]
  },
  {
   "cell_type": "markdown",
   "id": "34e3151df5f3b4bc",
   "metadata": {
    "lang": "de",
    "slideshow": {
     "slide_type": "slide"
    }
   },
   "source": [
    "\n",
    "## Ziel\n",
    "\n",
    "Eine Codebasis, mit der es Spaß macht zu arbeiten."
   ]
  },
  {
   "cell_type": "markdown",
   "id": "90b1ec9d54bb9eaf",
   "metadata": {
    "lang": "de",
    "slideshow": {
     "slide_type": "subslide"
    }
   },
   "source": [
    "\n",
    "## Wie erreichen wir das?\n",
    "\n",
    "In vielen kleinen Schritten!"
   ]
  },
  {
   "cell_type": "markdown",
   "id": "87d43fb5af4531d6",
   "metadata": {
    "lang": "de",
    "slideshow": {
     "slide_type": "subslide"
    }
   },
   "source": [
    "\n",
    "## Die Boy Scout Rule (für Code)\n",
    "\n",
    "Hinterlasse den Code besser als du ihn vorgefunden hast.\n",
    "\n",
    "(Robert C. Martin)"
   ]
  }
 ],
 "metadata": {},
 "nbformat": 4,
 "nbformat_minor": 5
}
