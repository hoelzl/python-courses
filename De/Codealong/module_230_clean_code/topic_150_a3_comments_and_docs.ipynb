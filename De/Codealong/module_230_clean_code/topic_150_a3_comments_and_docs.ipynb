{
 "cells": [
  {
   "cell_type": "markdown",
   "id": "d0b785f2e715b7ac",
   "metadata": {
    "lang": "de",
    "slideshow": {
     "slide_type": "slide"
    }
   },
   "source": [
    "<img src=\"../../img/python-logo-no-text.svg\"\n",
    "     style=\"display:block;margin:auto;width:10%\"/>\n",
    "<br>\n",
    "<div style=\"text-align:center; font-size:200%;\">\n",
    "  <b>Clean Code: Kommentare und Dokumentation</b>\n",
    "</div>\n",
    "<br/>\n",
    "<div style=\"text-align:center;\">Dr. Matthias Hölzl</div>\n",
    "<br/>\n",
    "<div style=\"text-align:center;\">module_230_clean_code/topic_150_a3_comments_and_docs</div>"
   ]
  },
  {
   "cell_type": "markdown",
   "id": "88c78bef8a4cde7a",
   "metadata": {
    "lang": "de",
    "slideshow": {
     "slide_type": "slide"
    }
   },
   "source": [
    "\n",
    "# Clean Code: Kommentare und Dokumentation"
   ]
  }
 ],
 "metadata": {},
 "nbformat": 4,
 "nbformat_minor": 5
}
