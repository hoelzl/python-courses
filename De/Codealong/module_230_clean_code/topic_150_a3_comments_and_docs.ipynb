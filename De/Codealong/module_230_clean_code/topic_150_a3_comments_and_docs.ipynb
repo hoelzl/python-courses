{
 "cells": [
  {
   "cell_type": "markdown",
   "id": "d0b785f2e715b7ac",
   "metadata": {
    "lang": "de",
    "slideshow": {
     "slide_type": "slide"
    }
   },
   "source": [
    "<img src=\"../../img/python-logo-no-text.svg\"\n",
    "     style=\"display:block;margin:auto;width:10%\"/>\n",
    "<br>\n",
    "<div style=\"text-align:center; font-size:200%;\">\n",
    "  <b>Clean Code: Kommentare und Dokumentation</b>\n",
    "</div>\n",
    "<br/>\n",
    "<div style=\"text-align:center;\">Dr. Matthias Hölzl</div>\n",
    "<br/>\n",
    "<div style=\"text-align:center;\">module_230_clean_code/topic_150_a3_comments_and_docs</div>"
   ]
  },
  {
   "cell_type": "markdown",
   "id": "88c78bef8a4cde7a",
   "metadata": {
    "lang": "de",
    "slideshow": {
     "slide_type": "slide"
    }
   },
   "source": [
    "\n",
    "# Clean Code: Kommentare und Dokumentation"
   ]
  },
  {
   "cell_type": "markdown",
   "id": "022e8ec8336ded9c",
   "metadata": {
    "lang": "de",
    "lines_to_next_cell": 2,
    "slideshow": {
     "slide_type": "subslide"
    }
   },
   "source": [
    "\n",
    "## Docstrings\n",
    "\n",
    "Aus [PEP-257](https://peps.python.org/pep-0257/):\n",
    "\n",
    "Ein Docstring ist ein String-Literal, das als erste Anweisung in einer Modul-,\n",
    "Funktions-, Klassen- oder Methodendefinition auftritt. Ein solcher Docstring\n",
    "wird zum `__doc__`-Attribut dieses Objekts.\n",
    "\n",
    "Alle Module sollten normalerweise Docstrings haben, und alle Funktionen und\n",
    "Klassen, die von einem Modul exportiert werden, sollten auch Docstrings haben.\n",
    "Öffentliche Methoden (einschließlich des `__init__` Konstruktors) sollten auch\n",
    "docstrings haben. Ein Package kann im Modul-Docstring der Datei `__init__.py`\n",
    "im Package-Verzeichnis mit Dokumentation versehen werden."
   ]
  },
  {
   "cell_type": "markdown",
   "id": "e06879e93fdcfb01",
   "metadata": {
    "lang": "de",
    "slideshow": {
     "slide_type": "subslide"
    }
   },
   "source": [
    "\n",
    "## Docstring-Konventionen\n",
    "\n",
    "- Einzeilige Docstrings\n",
    "  - Verwende dreifache Anführungszeichen\n",
    "  - Keine Leerzeile davor oder danach\n",
    "  - Eine Phrase, die mit einem Punkt endet\n",
    "  - Geschrieben als ein Befehl: \"Tu dies\", \"Gib diesen Wert zurück\"\n",
    "  - Ist nicht die Signatur der Funktion (die kann durch Introspektion\n",
    "    ermittelt werden)\n",
    "  - Mehr Informationen in\n",
    "    [PEP-257](https://peps.python.org/pep-0257/#one-line-docstrings)"
   ]
  },
  {
   "cell_type": "markdown",
   "id": "9cb3ee3de33a8686",
   "metadata": {
    "lang": "de",
    "slideshow": {
     "slide_type": "subslide"
    }
   },
   "source": [
    "\n",
    "## Docstring-Konventionen\n",
    "\n",
    "- Mehrzeilige Docstrings\n",
    "  - Zusammenfassungszeile wie ein einzeiliger Docstring\n",
    "  - Auf die Zusammenfassungszeile folgt eine Leerzeile\n",
    "  - Dann folgt eine ausführlichere Beschreibung, möglicherweise mit Doctests\n",
    "  - Auf den Docstring folgt eine Leerzeile\n",
    "  - Mehr Informationen in\n",
    "    [PEP-257](https://peps.python.org/pep-0257/#multi-line-docstrings)"
   ]
  },
  {
   "cell_type": "markdown",
   "id": "dc399658817f56b6",
   "metadata": {
    "lang": "de",
    "slideshow": {
     "slide_type": "subslide"
    }
   },
   "source": [
    "\n",
    "## Kommentare\n",
    "\n",
    "- Kommentare kompensieren unser Unvermögen, uns in Code auszudrücken.\n",
    "- Wenn möglich, drücke dich in Code aus, nicht in Kommentaren!\n",
    "  - Wann immer du einen Kommentar schreiben willst, prüfe, ob du es nicht im\n",
    "    Code tun kannst.\n",
    "  - Schreibe lieber Assertions oder Doctests, wenn möglich.\n",
    "  - Verwende erklärende Variablen"
   ]
  },
  {
   "cell_type": "code",
   "execution_count": null,
   "id": "9a1c75dc72473c97",
   "metadata": {
    "tags": [
     "keep"
    ]
   },
   "outputs": [],
   "source": [
    "def add(x, y):\n",
    "    \"\"\"Compute the sum of two numbers.\n",
    "\n",
    "    >>> add(1, 2)\n",
    "    3\n",
    "    >>> add(0, -2)\n",
    "    -2\n",
    "    \"\"\"\n",
    "    return x + y"
   ]
  },
  {
   "cell_type": "code",
   "execution_count": null,
   "id": "409430483001b057",
   "metadata": {
    "tags": [
     "keep"
    ]
   },
   "outputs": [],
   "source": [
    "days_of_work = 4"
   ]
  },
  {
   "cell_type": "code",
   "execution_count": null,
   "id": "96aec1b7c1867825",
   "metadata": {
    "tags": [
     "keep"
    ]
   },
   "outputs": [],
   "source": [
    "# Multiply the seconds in a day times the days of work.\n",
    "duration_in_seconds = 60 * 60 * 24 * days_of_work"
   ]
  },
  {
   "cell_type": "code",
   "execution_count": null,
   "id": "a62c674b38c7ff6f",
   "metadata": {
    "lines_to_next_cell": 2,
    "tags": [
     "keep"
    ]
   },
   "outputs": [],
   "source": [
    "SECONDS_PER_DAY = 60 * 60 * 24\n",
    "duration_in_seconds = SECONDS_PER_DAY * days_of_work"
   ]
  },
  {
   "cell_type": "markdown",
   "id": "0a68ff314de8976c",
   "metadata": {
    "lang": "de",
    "slideshow": {
     "slide_type": "subslide"
    }
   },
   "source": [
    "\n",
    "## Wie Kommentare scheitern\n",
    "\n",
    "- Kommentare sind schwer zu pflegen\n",
    "- Deshalb lügen sie oft\n",
    "- Sie werden nicht geändert, wenn der Code aktualisiert wird\n",
    "- Sie werden nicht verschoben, wenn der Code verschoben wird"
   ]
  },
  {
   "cell_type": "code",
   "execution_count": null,
   "id": "40e475f3bc0f6740",
   "metadata": {},
   "outputs": [],
   "source": []
  },
  {
   "cell_type": "markdown",
   "id": "83549aa36924a204",
   "metadata": {
    "lang": "de",
    "lines_to_next_cell": 2,
    "slideshow": {
     "slide_type": "subslide"
    }
   },
   "source": [
    "\n",
    "## PEP-8 Regeln für Kommentare\n",
    "\n",
    "Befolge die [PEP-8](https://peps.python.org/pep-0008/#comments) Richtlinien\n",
    "für Kommentare:\n",
    "\n",
    "- Halte die Kommentare aktuell, wenn sich der Code ändert.\n",
    "- Kommentare sollten aus vollständigen Sätzen bestehen.\n",
    "  - Das erste Wort wird großgeschrieben, es sei denn, es ist ein Bezeichner.\n",
    "  - Bezeichner sollten niemals geändert werden\n",
    "  - Verwenden Sie in mehrsätzigen Kommentaren zwei Leerzeichen nach einem\n",
    "    satzabschließenden Punkt.\n",
    "- Die Kommentare müssen klar und leicht verständlich sein.\n",
    "- Python-Coder aus nicht englischsprachigen Ländern: Bitte schreiben Sie Ihre\n",
    "  Kommentare auf Englisch, es sei denn, Sie sind 120% sicher, dass der Code\n",
    "  niemals von Leuten gelesen wird, die Ihre Sprache nicht sprechen."
   ]
  },
  {
   "cell_type": "markdown",
   "id": "9daee1d250a4856f",
   "metadata": {
    "lang": "de",
    "slideshow": {
     "slide_type": "subslide"
    }
   },
   "source": [
    "\n",
    "## Gute Kommentare\n",
    "\n",
    "Kommentare sind gut, wenn sie\n",
    "\n",
    "- aus juristischen Gründen notwendig sind\n",
    "- Konzepte erklären, die nicht im Code ausgedrückt werden können\n",
    "- den Zweck des Codes erklären\n",
    "- Code erklären, den man nicht bereinigen kann (z.B. eine veröffentlichte\n",
    "  Schnittstelle)\n",
    "- veröffentlichte Schnittstellen dokumentieren (z.B. mit Doxygen)\n",
    "- `TODO`-Kommentare sind (wenn sie sparsam verwendet werden)\n",
    "- wichtige Aspekte betonen (\"Dies ist sehr wichtig, weil...\")"
   ]
  },
  {
   "cell_type": "markdown",
   "id": "9d88d0fa6d8928d6",
   "metadata": {
    "lang": "de",
    "slideshow": {
     "slide_type": "subslide"
    }
   },
   "source": [
    "\n",
    "## Schlechte Kommentare\n",
    "\n",
    "- Unklare Kommentare (Nuscheln)\n",
    "\n",
    "Angenommen, der folgende Kommentar ist tatsächlich richtig. Was sagt er uns?"
   ]
  },
  {
   "cell_type": "code",
   "execution_count": null,
   "id": "d8d0fff027edd79e",
   "metadata": {
    "tags": [
     "keep"
    ]
   },
   "outputs": [],
   "source": [
    "try:\n",
    "    with open(\"my-app.cfg\", mode=\"r\", encoding=\"utf-8\"):\n",
    "        ...\n",
    "except FileNotFoundError:\n",
    "    # Somebody else has already loaded the defaults.\n",
    "    pass"
   ]
  },
  {
   "cell_type": "markdown",
   "id": "31d6a242f53f117c",
   "metadata": {
    "lang": "de"
   },
   "source": [
    "\n",
    "- Redundante Kommentare (dauern länger als der Code zu lesen, ohne klarer zu\n",
    "  sein)"
   ]
  },
  {
   "cell_type": "code",
   "execution_count": null,
   "id": "dbf8ec319d726792",
   "metadata": {
    "tags": [
     "keep"
    ]
   },
   "outputs": [],
   "source": [
    "def read_and_apply_configuration(file):\n",
    "    ..."
   ]
  },
  {
   "cell_type": "code",
   "execution_count": null,
   "id": "7aa2c58be223320d",
   "metadata": {
    "tags": [
     "keep"
    ]
   },
   "outputs": [],
   "source": [
    "# Read the configuration from file `my-app.cfg`. The file has to be readable and\n",
    "# in UTF-8 encoding. If the file cannot be found we simply ignore the attempt.\n",
    "# If the file is indeed found, we read it and apply the configuration to the\n",
    "# system.\n",
    "try:\n",
    "    with open(\"my-app.cfg\", mode=\"r\", encoding=\"utf-8\") as file:\n",
    "        read_and_apply_configuration(file)\n",
    "except FileNotFoundError:\n",
    "    pass"
   ]
  },
  {
   "cell_type": "markdown",
   "id": "b9f5fcebe3c4fa16",
   "metadata": {
    "lang": "de"
   },
   "source": [
    "\n",
    "- Irreführende Kommentare"
   ]
  },
  {
   "cell_type": "code",
   "execution_count": null,
   "id": "bab668537b177522",
   "metadata": {
    "tags": [
     "keep"
    ]
   },
   "outputs": [],
   "source": [
    "# Return a new list that is the concatenation of the elements in `list_1` and\n",
    "# `list_2`.\n",
    "def concatenate_lists(list_1, list_2):\n",
    "    if not list_1:\n",
    "        return list_2\n",
    "    elif not list_2:\n",
    "        return list_1\n",
    "    else:\n",
    "        return list_1 + list_2"
   ]
  },
  {
   "cell_type": "code",
   "execution_count": null,
   "id": "ae4059dcfe6c8c0f",
   "metadata": {
    "tags": [
     "keep"
    ]
   },
   "outputs": [],
   "source": [
    "assert concatenate_lists([1, 2], [3, 4]) == [1, 2, 3, 4]"
   ]
  },
  {
   "cell_type": "markdown",
   "id": "a8564a8df76fb146",
   "metadata": {
    "lang": "de"
   },
   "source": [
    "\n",
    "Aufgrund des Kommentars würde man folgendes Verhalten nicht erwarten:"
   ]
  },
  {
   "cell_type": "code",
   "execution_count": null,
   "id": "2fe8fba0ca82b978",
   "metadata": {
    "tags": [
     "keep"
    ]
   },
   "outputs": [],
   "source": [
    "x = [1, 2]\n",
    "assert concatenate_lists(x, []) is x\n",
    "assert concatenate_lists([], x) is x"
   ]
  },
  {
   "cell_type": "markdown",
   "id": "aedbde9e7314cfe8",
   "metadata": {
    "lang": "de"
   },
   "source": [
    "\n",
    "- Vorgeschriebene Kommentare (durch Style-Guides, nicht durch Gesetze)\n",
    "- Journal-Kommentare (Geschichte der Datei)"
   ]
  },
  {
   "cell_type": "code",
   "execution_count": null,
   "id": "d6fbdc29133bfc9f",
   "metadata": {
    "lines_to_next_cell": 2,
    "tags": [
     "keep"
    ]
   },
   "outputs": [],
   "source": [
    "# file: widget.py\n",
    "#\n",
    "# Changes made to the file:\n",
    "#\n",
    "# 2022-08-10: Added a frobnicator as proposed by Jane\n",
    "# 2022-08-11: Twiddled the frobnicator's parameters\n",
    "# 2022-08-12: Further tweaks to the frobnicator settings\n",
    "# 2022-08-13: Added flux compensation to the frobnicator\n",
    "# 2022-08-14: Improved flux compensation\n",
    "# 2022-09-03: Revisited flux compensation after discussion with Joe\n",
    "#\n",
    "class Frobnicator:\n",
    "    pass"
   ]
  },
  {
   "cell_type": "markdown",
   "id": "04ef63a15665b95e",
   "metadata": {
    "lang": "de"
   },
   "source": [
    "\n",
    "- Inhaltsfreie Kommentare (Noise comments)"
   ]
  },
  {
   "cell_type": "code",
   "execution_count": null,
   "id": "4a45f147067d08a4",
   "metadata": {
    "tags": [
     "keep"
    ]
   },
   "outputs": [],
   "source": [
    "class FluxCompensator:\n",
    "    # The `__init__()` method of the flux compensator.\n",
    "    def __init__(self) -> None:\n",
    "        ..."
   ]
  },
  {
   "cell_type": "code",
   "execution_count": null,
   "id": "367970cc7a01e091",
   "metadata": {
    "lines_to_next_cell": 2,
    "tags": [
     "keep"
    ]
   },
   "outputs": [],
   "source": [
    "# Hourly wage in US$\n",
    "HOURLY_WAGE_IN_USD = 80"
   ]
  },
  {
   "cell_type": "markdown",
   "id": "16e87578bb2fd5a5",
   "metadata": {
    "lang": "de"
   },
   "source": [
    "\n",
    "- Positions-Markierungen"
   ]
  },
  {
   "cell_type": "code",
   "execution_count": null,
   "id": "d7156487083d1482",
   "metadata": {
    "tags": [
     "keep"
    ]
   },
   "outputs": [],
   "source": [
    "class MyVeryLargeClass:\n",
    "    ####################################################\n",
    "    # Initialization Methods\n",
    "    ####################################################\n",
    "    def init(self):\n",
    "        ...\n",
    "\n",
    "    def init_in_another_way(self):\n",
    "        ...\n",
    "\n",
    "    ####################################################\n",
    "    # Computations\n",
    "    ####################################################\n",
    "    def compute_this(self):\n",
    "        ...\n",
    "\n",
    "    def compute_that(self):\n",
    "        ...\n",
    "\n",
    "    ####################################################\n",
    "    # State Updates\n",
    "    ####################################################\n",
    "    def set_some_state(self, x):\n",
    "        ..."
   ]
  },
  {
   "cell_type": "markdown",
   "id": "fdb3c78dae354225",
   "metadata": {
    "lang": "de"
   },
   "source": [
    "\n",
    "- Zuschreibungen und Namensnennungen"
   ]
  },
  {
   "cell_type": "code",
   "execution_count": null,
   "id": "faeafb33b19f5225",
   "metadata": {
    "tags": [
     "keep"
    ]
   },
   "outputs": [],
   "source": [
    "# Added by Jack <jack@example.org> on 2018-03-12\n",
    "def some_function(x, y):\n",
    "    return x + y"
   ]
  },
  {
   "cell_type": "markdown",
   "id": "413798fe48b79ac8",
   "metadata": {
    "lang": "de"
   },
   "source": [
    "\n",
    "- Auskommentierter Code\n",
    "  - Neigt dazu, nie gelöscht zu werden\n",
    "  - Unklar, warum er da ist: sollte er gelöscht oder wieder einkommentiert\n",
    "    werden?\n",
    "  - Sollte lieber gelöscht und bei Bedarf aus dem Versionskontrollsystem\n",
    "    wiederhergestellt werden"
   ]
  },
  {
   "cell_type": "code",
   "execution_count": null,
   "id": "f072eadad325749f",
   "metadata": {
    "tags": [
     "keep"
    ]
   },
   "outputs": [],
   "source": [
    "# def some_function(x, y):\n",
    "#     return x + y"
   ]
  },
  {
   "cell_type": "code",
   "execution_count": null,
   "id": "5e8da40db31012b8",
   "metadata": {
    "lines_to_next_cell": 2,
    "tags": [
     "keep"
    ]
   },
   "outputs": [],
   "source": [
    "def some_other_function(x, y):\n",
    "    # z = x + y\n",
    "    # return z\n",
    "    return 123"
   ]
  },
  {
   "cell_type": "markdown",
   "id": "652e645c60fd6d50",
   "metadata": {
    "lang": "de"
   },
   "source": [
    "\n",
    "- HTML-Kommentare\n",
    "\n",
    "In Python werden Formatierungen in Kommentaren entweder in Markdown oder in\n",
    "reStructuredText (RST) geschrieben:"
   ]
  },
  {
   "cell_type": "code",
   "execution_count": null,
   "id": "fd815cc95a63c4b0",
   "metadata": {
    "lines_to_next_cell": 2,
    "tags": [
     "keep"
    ]
   },
   "outputs": [],
   "source": [
    "# <p><strong>Important:</strong></p>\n",
    "# <ul>\n",
    "#   <li>\n",
    "#     Don&#39;t use <code>frobnicator_1</code> to tweak\n",
    "#     <code>flux_compensator_2</code> because they are not\n",
    "#     coherent!\n",
    "#   </li>\n",
    "#   <li>\n",
    "#     Make sure that <code>fuzzbox_2</code> is turned to\n",
    "#     at least 11 before plugging in the guitar.\n",
    "#   </li>\n",
    "# </ul>"
   ]
  },
  {
   "cell_type": "code",
   "execution_count": null,
   "id": "30b278fa2bbb95fb",
   "metadata": {
    "tags": [
     "keep"
    ]
   },
   "outputs": [],
   "source": [
    "# **Important:**\n",
    "#\n",
    "# - Don't use `frobnicator_1` to tweak `flux_compensator_2` because they are not\n",
    "#   coherent!\n",
    "# - Make sure that `fuzzbox_2` is turned to at least 11 before plugging in the\n",
    "#   guitar."
   ]
  },
  {
   "cell_type": "markdown",
   "id": "7b2788077044ae6e",
   "metadata": {
    "lang": "de"
   },
   "source": [
    "\n",
    "- Nichtlokale Information"
   ]
  },
  {
   "cell_type": "code",
   "execution_count": null,
   "id": "190781acd2dd66d1",
   "metadata": {
    "tags": [
     "keep"
    ]
   },
   "outputs": [],
   "source": [
    "# This is set to its correct value by `frob_foo()` in file `frobnicator.py`.\n",
    "foo = 123"
   ]
  },
  {
   "cell_type": "markdown",
   "id": "a6bca532a310eb4c",
   "metadata": {
    "lang": "de"
   },
   "source": [
    "\n",
    "- Zu viel Information"
   ]
  },
  {
   "cell_type": "code",
   "execution_count": null,
   "id": "4bbb0ef19bb38bd2",
   "metadata": {
    "tags": [
     "keep"
    ]
   },
   "outputs": [],
   "source": [
    "\n",
    "# Implement protocol handling according to ABC Standard 212-3.\n",
    "#\n",
    "# This was first proposed by Steve in a meeting in 2013, but at the time we had\n",
    "# no compatible implementation of the support libraries available. We therefore\n",
    "# shelved the discussion until Tina brought the topic up in the famous all-hands\n",
    "# meeting of October 2019. There were some initial problems, but we finally\n",
    "# succeeded in getting a running implementation working in 2021. This contains a\n",
    "# bug that is still present in the current code base that causes the system to\n",
    "# crash when talking to a client that implements variant /4 of the protocol.\n",
    "# Finally, in early 2022 we also adapted this implementation for the XYZ device\n",
    "# series."
   ]
  },
  {
   "cell_type": "markdown",
   "id": "e90419dad02ee4fc",
   "metadata": {
    "lang": "de"
   },
   "source": [
    "\n",
    "- Unklarer Bezug zum Code"
   ]
  },
  {
   "cell_type": "code",
   "execution_count": null,
   "id": "c2ac471470ef4355",
   "metadata": {
    "tags": [
     "keep"
    ]
   },
   "outputs": [],
   "source": [
    "# Adjust for target endianness and buffer size\n",
    "foo = max((foo + 7) * 2, 256)"
   ]
  }
 ],
 "metadata": {},
 "nbformat": 4,
 "nbformat_minor": 5
}
