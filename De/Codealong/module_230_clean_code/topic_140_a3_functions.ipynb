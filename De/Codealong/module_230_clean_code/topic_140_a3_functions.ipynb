{
 "cells": [
  {
   "cell_type": "markdown",
   "id": "04b9b7a23e96b84d",
   "metadata": {
    "lang": "de",
    "slideshow": {
     "slide_type": "slide"
    }
   },
   "source": [
    "<img src=\"../../img/python-logo-no-text.svg\"\n",
    "     style=\"display:block;margin:auto;width:10%\"/>\n",
    "<br>\n",
    "<div style=\"text-align:center; font-size:200%;\">\n",
    "  <b>Clean Code: Funktionen</b>\n",
    "</div>\n",
    "<br/>\n",
    "<div style=\"text-align:center;\">Dr. Matthias Hölzl</div>\n",
    "<br/>\n",
    "<div style=\"text-align:center;\">module_230_clean_code/topic_140_a3_functions</div>"
   ]
  },
  {
   "cell_type": "markdown",
   "id": "528421d5494bdbfa",
   "metadata": {
    "lang": "de",
    "slideshow": {
     "slide_type": "slide"
    }
   },
   "source": [
    "\n",
    "# Clean Code: Funktionen\n",
    "\n",
    "Verpacke Sinnvolle Operationen als sorgfältig benannte Funktionen\n",
    "\n",
    "- Besser lesbar\n",
    "- Einfacher zu testen\n",
    "- Wird eher wiederverwendet\n",
    "- Fehler sind weniger wahrscheinlich"
   ]
  },
  {
   "cell_type": "markdown",
   "id": "434fea343edae7d1",
   "metadata": {
    "lang": "de",
    "slideshow": {
     "slide_type": "subslide"
    }
   },
   "source": [
    "\n",
    "## Die 1. Clean Code Regel für Funktionen\n",
    "\n",
    "- Funktionen sollten kurz sein\n",
    "- Kürzer als man meint!\n",
    "- Maximal 4 Zeilen!"
   ]
  },
  {
   "cell_type": "markdown",
   "id": "43e5d006e76e84ab",
   "metadata": {
    "lang": "de",
    "slideshow": {
     "slide_type": "subslide"
    }
   },
   "source": [
    "\n",
    "## Lockere Regeln\n",
    "\n",
    "(Aus den C++ Core Guidelines)\n",
    "\n",
    "- Funktionen sollten auf einen Bildschirm passen\n",
    "- Große Funktionen sollten in kleinere, zusammenhängende und benannte\n",
    "  Funktionen aufgeteilt werden\n",
    "- Funktionen mit einer bis fünf Zeilen sollten als normal angesehen werden"
   ]
  },
  {
   "cell_type": "markdown",
   "id": "2e0c4a65aec79aa1",
   "metadata": {
    "lang": "de",
    "slideshow": {
     "slide_type": "subslide"
    }
   },
   "source": [
    "\n",
    "## Konzentration auf eine Aufgabe\n",
    "\n",
    "- Funktionen sollten eine Aufgabe erfüllen (\"do one thing\")\n",
    "- Sie sollten diese Aufgabe gut erfüllen\n",
    "- Sie sollten nur diese Aufgabe erfüllen"
   ]
  },
  {
   "cell_type": "code",
   "execution_count": null,
   "id": "05fa0ec525cb6519",
   "metadata": {},
   "outputs": [],
   "source": []
  },
  {
   "cell_type": "code",
   "execution_count": null,
   "id": "a8452c5c006dff11",
   "metadata": {},
   "outputs": [],
   "source": []
  },
  {
   "cell_type": "code",
   "execution_count": null,
   "id": "816abc40616cdee9",
   "metadata": {},
   "outputs": [],
   "source": []
  },
  {
   "cell_type": "code",
   "execution_count": null,
   "id": "1f62a1fc050f5e50",
   "metadata": {},
   "outputs": [],
   "source": []
  },
  {
   "cell_type": "code",
   "execution_count": null,
   "id": "af37a7ac4e05729a",
   "metadata": {},
   "outputs": [],
   "source": []
  },
  {
   "cell_type": "code",
   "execution_count": null,
   "id": "97e8ac356bcaab16",
   "metadata": {},
   "outputs": [],
   "source": []
  },
  {
   "cell_type": "code",
   "execution_count": null,
   "id": "16c30038884bbb08",
   "metadata": {
    "lines_to_next_cell": 2
   },
   "outputs": [],
   "source": []
  },
  {
   "cell_type": "markdown",
   "id": "898d1b87bb0d229b",
   "metadata": {
    "lang": "de",
    "slideshow": {
     "slide_type": "subslide"
    }
   },
   "source": [
    "\n",
    "## Abstraktionsebenen\n",
    "\n",
    "Alles, was die Funktion in ihrem Rumpf tut, sollte eine (und nur eine)\n",
    "Abstraktionsebene unterhalb der Funktion selbst sein."
   ]
  },
  {
   "cell_type": "markdown",
   "id": "13da4d89e5440c3b",
   "metadata": {
    "lang": "de",
    "slideshow": {
     "slide_type": "subslide"
    }
   },
   "source": [
    "\n",
    "## \"Um zu\"-Absätze: Kontrolle der Abstraktionsebenen\n",
    "\n",
    "Um render_page_with_setups_and_teardowns durchzuführen\n",
    "\n",
    "prüfen wir, ob die Seite eine Testseite ist und\n",
    "\n",
    "wenn ja, binden wir Setup und Teardown ein.\n",
    "\n",
    "In jedem Fall rendern wir die Seite in HTML."
   ]
  },
  {
   "cell_type": "markdown",
   "id": "702f82f566892aff",
   "metadata": {
    "lang": "de",
    "slideshow": {
     "slide_type": "subslide"
    }
   },
   "source": [
    "\n",
    "## Die Step-Down-Regel\n",
    "\n",
    "- Wir wollen, dass sich der Code wie eine Erzählung von oben nach unten liest\n",
    "- Auf jede Funktion sollten die Funktionen eine Abstraktionsebene darunter\n",
    "  folgen"
   ]
  },
  {
   "cell_type": "markdown",
   "id": "f87689c78e484a09",
   "metadata": {
    "lang": "de",
    "lines_to_next_cell": 2,
    "slideshow": {
     "slide_type": "subslide"
    }
   },
   "source": [
    "\n",
    "## Mini-Workshop: Do one Thing\n",
    "\n",
    "Die Funktion `handle_money_stuff()` macht mehr als eine Sache.\n",
    "\n",
    "Teilen Sie sie in mehrere Funktionen auf, so dass jede nur eine Sache tut.\n",
    "Stellen Sie sicher, dass\n",
    "- jede Funktion ihre Aufgabe gut erfüllt und sich auf einer einzigen\n",
    "  Abstraktionsebene befindet,\n",
    "- alle Namen angemessen sind, und\n",
    "- der Code leicht zu verstehen ist.\n",
    "\n",
    "*Tipp:* Beginnen Sie damit, die Variablen gemäß den Kommentaren umzubenennen,\n",
    "um den Rest der Arbeit zu vereinfachen."
   ]
  },
  {
   "cell_type": "code",
   "execution_count": null,
   "id": "e210a4fd483dae34",
   "metadata": {
    "lang": "de",
    "slideshow": {
     "slide_type": "subslide"
    }
   },
   "outputs": [],
   "source": []
  },
  {
   "cell_type": "markdown",
   "id": "793a6b04bfcb6216",
   "metadata": {
    "lang": "de",
    "slideshow": {
     "slide_type": "subslide"
    }
   },
   "source": [
    "\n",
    "Die Funktion `handle_money_stuff()` hat folgende Parameter:\n",
    "\n",
    "- den Wochentag (`i_dow`, day of week),\n",
    "- das Gehalt pro Tag (`f_spd`, salary per day),\n",
    "- den Namen des Angestellten (`str_n`, name) und\n",
    "- einen Liste der bisher gezahlten Gehälter (`lst_slrs`, salaries).\n",
    "\n",
    "Das neue Gehalt wird an die Liste `lst_slrs` angehängt.\n",
    "\n",
    "Die Funktion gibt die zu zahlende Steuer zurück."
   ]
  },
  {
   "cell_type": "code",
   "execution_count": null,
   "id": "ee7c1e07ec9c07a1",
   "metadata": {
    "tags": [
     "keep"
    ]
   },
   "outputs": [],
   "source": [
    "def handle_money_stuff(i_dow: int, f_spd: float, str_n: str, lst_slrs: list):\n",
    "    # Get the day of week from the list of days.\n",
    "    # We count Sunday as 1, Monday as 2, etc. but the work week starts on Monday.\n",
    "    str_dow = lst_dns[i_dow - 1]\n",
    "    # Compute the salary so far based on the day\n",
    "    f_ssf = (i_dow - 1) * f_spd\n",
    "    # The tax\n",
    "    f_t = 0.0\n",
    "    if f_ssf > 500.0 and f_ssf <= 1000.0:\n",
    "        f_t = f_ssf * 0.05\n",
    "    elif f_ssf > 1000.0 and f_ssf <= 2000.0:\n",
    "        f_t = f_ssf * 0.1\n",
    "    else:\n",
    "        f_t = f_ssf * 0.15\n",
    "    # Update salary based on the tax to pay\n",
    "    f_ssf = f_ssf - f_t\n",
    "    # Add the salary to the list of all salaries paid\n",
    "    lst_slrs.append(f_ssf)\n",
    "    print(f\"{str_n} worked till {str_dow} and earned ${f_ssf} this week.\")\n",
    "    print(f\"Their taxes were ${f_t}.\")\n",
    "    return f_t"
   ]
  },
  {
   "cell_type": "code",
   "execution_count": null,
   "id": "35e2816d76f409c1",
   "metadata": {
    "tags": [
     "keep"
    ]
   },
   "outputs": [],
   "source": [
    "_salaries = [2345, 1234]\n",
    "_result = handle_money_stuff(4, 200, \"Joe\", _salaries)\n",
    "print(_result)"
   ]
  },
  {
   "cell_type": "code",
   "execution_count": null,
   "id": "2969ce02d3d9e9f9",
   "metadata": {
    "lines_to_next_cell": 2,
    "tags": [
     "keep"
    ]
   },
   "outputs": [],
   "source": [
    "assert _salaries == [2345, 1234, 570]\n",
    "assert _result == 30"
   ]
  },
  {
   "cell_type": "code",
   "execution_count": null,
   "id": "31fbc8939634e658",
   "metadata": {
    "slideshow": {
     "slide_type": "subslide"
    }
   },
   "outputs": [],
   "source": []
  },
  {
   "cell_type": "code",
   "execution_count": null,
   "id": "5b3941b6f3439cbc",
   "metadata": {},
   "outputs": [],
   "source": []
  },
  {
   "cell_type": "code",
   "execution_count": null,
   "id": "15b87403179ae52c",
   "metadata": {
    "tags": [
     "keep"
    ]
   },
   "outputs": [],
   "source": [
    "_salaries = [2345, 1234]\n",
    "_result = compute_salary_and_taxes_v1(4, 200, \"Joe\", _salaries)\n",
    "print(_result)"
   ]
  },
  {
   "cell_type": "code",
   "execution_count": null,
   "id": "b1d440662a67c101",
   "metadata": {
    "tags": [
     "keep"
    ]
   },
   "outputs": [],
   "source": [
    "assert _salaries == [2345, 1234, 570]\n",
    "assert _result == 30"
   ]
  },
  {
   "cell_type": "code",
   "execution_count": null,
   "id": "c8240df9151dbece",
   "metadata": {},
   "outputs": [],
   "source": []
  },
  {
   "cell_type": "code",
   "execution_count": null,
   "id": "e5320a394d0ace6c",
   "metadata": {},
   "outputs": [],
   "source": []
  },
  {
   "cell_type": "code",
   "execution_count": null,
   "id": "7c6f4595940abe1d",
   "metadata": {},
   "outputs": [],
   "source": []
  },
  {
   "cell_type": "code",
   "execution_count": null,
   "id": "456b1d5d821e2d27",
   "metadata": {},
   "outputs": [],
   "source": []
  },
  {
   "cell_type": "code",
   "execution_count": null,
   "id": "9f08581e1029e869",
   "metadata": {},
   "outputs": [],
   "source": []
  },
  {
   "cell_type": "code",
   "execution_count": null,
   "id": "01416c6847ada9aa",
   "metadata": {},
   "outputs": [],
   "source": []
  },
  {
   "cell_type": "code",
   "execution_count": null,
   "id": "166b3502a362cdd7",
   "metadata": {},
   "outputs": [],
   "source": []
  },
  {
   "cell_type": "code",
   "execution_count": null,
   "id": "b695e462a4e55095",
   "metadata": {
    "tags": [
     "keep"
    ]
   },
   "outputs": [],
   "source": [
    "_salaries = [2345, 1234]\n",
    "_result = compute_salary_and_taxes_v2(4, 200, \"Joe\", _salaries)\n",
    "print(_result)"
   ]
  },
  {
   "cell_type": "code",
   "execution_count": null,
   "id": "1811a118e66e8b14",
   "metadata": {
    "lines_to_next_cell": 2,
    "tags": [
     "keep"
    ]
   },
   "outputs": [],
   "source": [
    "assert _salaries == [2345, 1234, 570]\n",
    "assert _result == 30"
   ]
  },
  {
   "cell_type": "markdown",
   "id": "97bdfaf06a355c30",
   "metadata": {
    "lang": "de",
    "slideshow": {
     "slide_type": "subslide"
    }
   },
   "source": [
    "\n",
    "## Switch-Anweisungen und Abstraktion\n",
    "\n",
    "Switch-Anweisungen führen oft Operationen auf der gleichen Abstraktionsebene aus.\n",
    "(für \"Subtypen\" anstelle des ursprünglichen Typs).\n",
    "\n",
    "\"Subtypen\" werden oft durch Typ-Tags unterschieden."
   ]
  },
  {
   "cell_type": "code",
   "execution_count": null,
   "id": "4f6b13be7ba9dd4f",
   "metadata": {
    "slideshow": {
     "slide_type": "subslide"
    },
    "tags": [
     "keep"
    ]
   },
   "outputs": [],
   "source": [
    "from enum import IntEnum  # noqa: E402\n",
    "from dataclasses import dataclass  # noqa: E402"
   ]
  },
  {
   "cell_type": "code",
   "execution_count": null,
   "id": "bc6418b4ca41a1d2",
   "metadata": {
    "tags": [
     "keep"
    ]
   },
   "outputs": [],
   "source": [
    "class EmployeeType(IntEnum):\n",
    "    COMMISSIONED = 0\n",
    "    HOURLY = 1\n",
    "    SALARIED = 2"
   ]
  },
  {
   "cell_type": "code",
   "execution_count": null,
   "id": "81ec5a484c923274",
   "metadata": {
    "tags": [
     "keep"
    ]
   },
   "outputs": [],
   "source": [
    "@dataclass\n",
    "class Money:\n",
    "    amount_in_euros: float\n",
    "\n",
    "    def __add__(self, rhs):\n",
    "        return Money(self.amount_in_euros + rhs.amount_in_euros)"
   ]
  },
  {
   "cell_type": "code",
   "execution_count": null,
   "id": "523b6db03d99b7b2",
   "metadata": {
    "tags": [
     "keep"
    ]
   },
   "outputs": [],
   "source": [
    "print(Money(100.0) + Money(50.0))"
   ]
  },
  {
   "cell_type": "code",
   "execution_count": null,
   "id": "964f806eea6ae480",
   "metadata": {
    "slideshow": {
     "slide_type": "subslide"
    },
    "tags": [
     "keep"
    ]
   },
   "outputs": [],
   "source": [
    "@dataclass\n",
    "class EmployeeV1:\n",
    "    type: EmployeeType"
   ]
  },
  {
   "cell_type": "code",
   "execution_count": null,
   "id": "11fd90de3d0ffd3f",
   "metadata": {
    "tags": [
     "keep"
    ]
   },
   "outputs": [],
   "source": [
    "def calculate_commissioned_pay(e: EmployeeV1):\n",
    "    return Money(100.0)"
   ]
  },
  {
   "cell_type": "code",
   "execution_count": null,
   "id": "a187dd277dc57fcb",
   "metadata": {
    "tags": [
     "keep"
    ]
   },
   "outputs": [],
   "source": [
    "def calculate_hourly_pay(e: EmployeeV1):\n",
    "    return Money(120.0)"
   ]
  },
  {
   "cell_type": "code",
   "execution_count": null,
   "id": "fc0086a1d4d73823",
   "metadata": {
    "tags": [
     "keep"
    ]
   },
   "outputs": [],
   "source": [
    "def calculate_salaried_pay(e: EmployeeV1):\n",
    "    return Money(80.0)"
   ]
  },
  {
   "cell_type": "code",
   "execution_count": null,
   "id": "8eae16339305bae2",
   "metadata": {
    "slideshow": {
     "slide_type": "subslide"
    },
    "tags": [
     "keep"
    ]
   },
   "outputs": [],
   "source": [
    "def calculate_pay(e: EmployeeV1):\n",
    "    if e.type == EmployeeType.COMMISSIONED:\n",
    "        return calculate_commissioned_pay(e)\n",
    "    elif e.type == EmployeeType.HOURLY:\n",
    "        return calculate_hourly_pay(e)\n",
    "    elif e.type == EmployeeType.SALARIED:\n",
    "        return calculate_salaried_pay(e)\n",
    "    else:\n",
    "        raise ValueError(\"No valid employee type.\")"
   ]
  },
  {
   "cell_type": "code",
   "execution_count": null,
   "id": "23ce0fd612c1111a",
   "metadata": {
    "tags": [
     "keep"
    ]
   },
   "outputs": [],
   "source": [
    "e1 = EmployeeV1(type=EmployeeType.HOURLY)\n",
    "e2 = EmployeeV1(EmployeeType.SALARIED)"
   ]
  },
  {
   "cell_type": "code",
   "execution_count": null,
   "id": "7b24fc7552d38640",
   "metadata": {
    "lines_to_next_cell": 2,
    "tags": [
     "keep"
    ]
   },
   "outputs": [],
   "source": [
    "print(calculate_pay(e1))\n",
    "print(calculate_pay(e2))"
   ]
  },
  {
   "cell_type": "markdown",
   "id": "d3f17b1a328afd02",
   "metadata": {
    "lang": "de",
    "slideshow": {
     "slide_type": "subslide"
    }
   },
   "source": [
    "\n",
    "## Ersetze Switch-Anweisung durch Polymorphie\n",
    "\n",
    "Es ist oft besser, switch-Anweisungen durch \"echtes\" Subtyping und\n",
    "Polymorphismus zu ersetzen:"
   ]
  },
  {
   "cell_type": "code",
   "execution_count": null,
   "id": "58eeb990a16dd49c",
   "metadata": {
    "tags": [
     "keep"
    ]
   },
   "outputs": [],
   "source": [
    "from abc import ABC, abstractmethod  # noqa: E402"
   ]
  },
  {
   "cell_type": "code",
   "execution_count": null,
   "id": "8a13aa25c2c88aee",
   "metadata": {
    "tags": [
     "keep"
    ]
   },
   "outputs": [],
   "source": [
    "class Employee(ABC):\n",
    "    @abstractmethod\n",
    "    def calculate_pay(self):\n",
    "        ..."
   ]
  },
  {
   "cell_type": "code",
   "execution_count": null,
   "id": "26da2c9ea7d5da2b",
   "metadata": {
    "tags": [
     "keep"
    ]
   },
   "outputs": [],
   "source": [
    "@dataclass\n",
    "class CommissionedEmployee(Employee):\n",
    "    def calculate_pay(self):\n",
    "        return Money(100.0)"
   ]
  },
  {
   "cell_type": "code",
   "execution_count": null,
   "id": "be2c571174542cb0",
   "metadata": {
    "tags": [
     "keep"
    ]
   },
   "outputs": [],
   "source": [
    "@dataclass\n",
    "class HourlyEmployee(Employee):\n",
    "    def calculate_pay(self):\n",
    "        return Money(120.0)"
   ]
  },
  {
   "cell_type": "code",
   "execution_count": null,
   "id": "2b7b3519decb314f",
   "metadata": {
    "tags": [
     "keep"
    ]
   },
   "outputs": [],
   "source": [
    "@dataclass\n",
    "class SalariedEmployee(Employee):\n",
    "    def calculate_pay(self):\n",
    "        return Money(80.0)"
   ]
  },
  {
   "cell_type": "code",
   "execution_count": null,
   "id": "3380b3e525609e81",
   "metadata": {
    "slideshow": {
     "slide_type": "subslide"
    },
    "tags": [
     "keep"
    ]
   },
   "outputs": [],
   "source": [
    "def create_employee(employee_type: EmployeeType):\n",
    "    if employee_type == EmployeeType.COMMISSIONED:\n",
    "        return CommissionedEmployee()\n",
    "    elif employee_type == EmployeeType.HOURLY:\n",
    "        return HourlyEmployee()\n",
    "    elif employee_type == EmployeeType.SALARIED:\n",
    "        return SalariedEmployee()\n",
    "    else:\n",
    "        raise ValueError(\"Not a valid employee type.\")"
   ]
  },
  {
   "cell_type": "code",
   "execution_count": null,
   "id": "c0993816610a6efb",
   "metadata": {
    "lines_to_next_cell": 2,
    "slideshow": {
     "slide_type": "subslide"
    },
    "tags": [
     "keep"
    ]
   },
   "outputs": [],
   "source": [
    "e1 = create_employee(EmployeeType.HOURLY)\n",
    "e2 = create_employee(EmployeeType.SALARIED)"
   ]
  },
  {
   "cell_type": "code",
   "execution_count": null,
   "id": "95059b8e0c1f9c7c",
   "metadata": {
    "tags": [
     "keep"
    ]
   },
   "outputs": [],
   "source": [
    "print(e1.calculate_pay())\n",
    "print(e2.calculate_pay())"
   ]
  },
  {
   "cell_type": "code",
   "execution_count": null,
   "id": "f8409d147588fe7d",
   "metadata": {
    "slideshow": {
     "slide_type": "subslide"
    },
    "tags": [
     "keep"
    ]
   },
   "outputs": [],
   "source": [
    "class EmployeeFactory:\n",
    "    def create_employee(self, employee_type: EmployeeType):\n",
    "        if employee_type == EmployeeType.COMMISSIONED:\n",
    "            return CommissionedEmployee()\n",
    "        elif employee_type == EmployeeType.HOURLY:\n",
    "            return HourlyEmployee()\n",
    "        elif employee_type == EmployeeType.SALARIED:\n",
    "            return SalariedEmployee()\n",
    "        else:\n",
    "            raise ValueError(\"Not a valid employee type.\")"
   ]
  },
  {
   "cell_type": "code",
   "execution_count": null,
   "id": "42706bce2c22450b",
   "metadata": {
    "lines_to_next_cell": 2,
    "slideshow": {
     "slide_type": "subslide"
    },
    "tags": [
     "keep"
    ]
   },
   "outputs": [],
   "source": [
    "factory = EmployeeFactory()\n",
    "e1 = factory.create_employee(EmployeeType.HOURLY)\n",
    "e2 = factory.create_employee(EmployeeType.SALARIED)"
   ]
  },
  {
   "cell_type": "code",
   "execution_count": null,
   "id": "c919839f24994746",
   "metadata": {
    "tags": [
     "keep"
    ]
   },
   "outputs": [],
   "source": [
    "print(e1.calculate_pay())\n",
    "print(e2.calculate_pay())"
   ]
  },
  {
   "cell_type": "markdown",
   "id": "6aca3b61b1617d3f",
   "metadata": {
    "lang": "de",
    "slideshow": {
     "slide_type": "subslide"
    }
   },
   "source": [
    "\n",
    "## Mini-Workshop: Ersetzen von Switch-Anweisungen\n",
    "\n",
    "Strukturieren Sie den folgenden Code so um, dass nur noch bei der Erzeugung\n",
    "der Objekte eine \"switch-Anweisung\" verwendet wird:"
   ]
  },
  {
   "cell_type": "code",
   "execution_count": null,
   "id": "7cb1f192932a6eb9",
   "metadata": {
    "lines_to_next_cell": 2,
    "tags": [
     "keep"
    ]
   },
   "outputs": [],
   "source": [
    "from dataclasses import dataclass  # noqa: E402\n",
    "from abc import ABC  # noqa: E402"
   ]
  },
  {
   "cell_type": "code",
   "execution_count": null,
   "id": "7472cfdc035e7993",
   "metadata": {
    "tags": [
     "keep"
    ]
   },
   "outputs": [],
   "source": [
    "COMPUTER_TYPE_PC = 0\n",
    "COMPUTER_TYPE_MAC = 1\n",
    "COMPUTER_TYPE_CHROMEBOOK = 2"
   ]
  },
  {
   "cell_type": "code",
   "execution_count": null,
   "id": "1b9c8e28760570f8",
   "metadata": {
    "tags": [
     "keep"
    ]
   },
   "outputs": [],
   "source": [
    "@dataclass\n",
    "class ComputerV1:\n",
    "    computer_type: int"
   ]
  },
  {
   "cell_type": "code",
   "execution_count": null,
   "id": "4f0b12cc7d1e4ee6",
   "metadata": {
    "slideshow": {
     "slide_type": "subslide"
    },
    "tags": [
     "keep"
    ]
   },
   "outputs": [],
   "source": [
    "def compile_code(computer: ComputerV1):\n",
    "    if computer.computer_type == COMPUTER_TYPE_PC:\n",
    "        print(\"Compiling code for PC.\")\n",
    "    elif computer.computer_type == COMPUTER_TYPE_MAC:\n",
    "        print(\"Compiling code for Mac.\")\n",
    "    elif computer.computer_type == COMPUTER_TYPE_CHROMEBOOK:\n",
    "        print(\"Compiling code for Chromebook.\")\n",
    "    else:\n",
    "        raise ValueError(f\"Don't know how to compile code for {computer}.\")"
   ]
  },
  {
   "cell_type": "code",
   "execution_count": null,
   "id": "addb52838f06cba2",
   "metadata": {
    "tags": [
     "keep"
    ]
   },
   "outputs": [],
   "source": [
    "my_pc = ComputerV1(COMPUTER_TYPE_PC)\n",
    "my_mac = ComputerV1(COMPUTER_TYPE_MAC)\n",
    "my_chromebook = ComputerV1(COMPUTER_TYPE_CHROMEBOOK)"
   ]
  },
  {
   "cell_type": "code",
   "execution_count": null,
   "id": "b2109cd6edc8fa57",
   "metadata": {
    "tags": [
     "keep"
    ]
   },
   "outputs": [],
   "source": [
    "compile_code(my_pc)\n",
    "compile_code(my_mac)\n",
    "compile_code(my_chromebook)"
   ]
  },
  {
   "cell_type": "code",
   "execution_count": null,
   "id": "e8e319ed6b8f8e7a",
   "metadata": {
    "slideshow": {
     "slide_type": "subslide"
    }
   },
   "outputs": [],
   "source": []
  },
  {
   "cell_type": "code",
   "execution_count": null,
   "id": "66996e2569ec55d7",
   "metadata": {},
   "outputs": [],
   "source": []
  },
  {
   "cell_type": "code",
   "execution_count": null,
   "id": "6ac67a6bce5b72d6",
   "metadata": {},
   "outputs": [],
   "source": []
  },
  {
   "cell_type": "code",
   "execution_count": null,
   "id": "76e7721bb4d992ce",
   "metadata": {},
   "outputs": [],
   "source": []
  },
  {
   "cell_type": "code",
   "execution_count": null,
   "id": "1c52ba15c1feb36c",
   "metadata": {
    "slideshow": {
     "slide_type": "subslide"
    }
   },
   "outputs": [],
   "source": []
  },
  {
   "cell_type": "code",
   "execution_count": null,
   "id": "05021fe004739e77",
   "metadata": {},
   "outputs": [],
   "source": []
  },
  {
   "cell_type": "code",
   "execution_count": null,
   "id": "950c28b924dc2fe6",
   "metadata": {
    "lines_to_next_cell": 2
   },
   "outputs": [],
   "source": []
  },
  {
   "cell_type": "markdown",
   "id": "ad92c51e60a7ef26",
   "metadata": {
    "lang": "de",
    "slideshow": {
     "slide_type": "subslide"
    }
   },
   "source": [
    "\n",
    "## Weitere Regeln für Funktionen\n",
    "\n",
    "- Verwende beschreibende Namen\n",
    "- Verwende wenige (oder keine) Argumente\n",
    "- Verwende keine booleschen Argumente (Flag-Argumente)\n",
    "- Vermeide versteckte Seiteneffekte"
   ]
  },
  {
   "cell_type": "markdown",
   "id": "b8c08d0d426e3dcb",
   "metadata": {
    "lang": "de",
    "slideshow": {
     "slide_type": "subslide"
    }
   },
   "source": [
    "\n",
    "## Versteckte Seiteneffekte"
   ]
  },
  {
   "cell_type": "markdown",
   "id": "491ed0c41c58ba87",
   "metadata": {},
   "source": [
    "\n",
    "```java\n",
    "bool checkPassword(std::string userName, std::string password) {\n",
    "    User& user = UserGateway.findByName(userName);\n",
    "    if (user != User.NULL) {\n",
    "        std::string codedPhrase = user.getPhraseEncodedByPassword();\n",
    "        std::string phrase = cryptographer.decrypt(codedPhrase, password);\n",
    "        if (phrase == \"Valid Password\") {\n",
    "            session.initialize();\n",
    "            return true;\n",
    "        }\n",
    "    }\n",
    "    return false;\n",
    "}\n",
    "```"
   ]
  },
  {
   "cell_type": "markdown",
   "id": "8277872384ae12b5",
   "metadata": {
    "lang": "de",
    "slideshow": {
     "slide_type": "subslide"
    }
   },
   "source": [
    "\n",
    "## Vermeide \"Ausgabeargumente\"\n",
    "\n",
    "Python hat keine \"echten\" Ausgabeargumente. Aber Modifikation von Objekten hat\n",
    "oft ähnliche Konsequenzen:"
   ]
  },
  {
   "cell_type": "code",
   "execution_count": null,
   "id": "db4564ee6e78c01b",
   "metadata": {
    "tags": [
     "keep"
    ]
   },
   "outputs": [],
   "source": [
    "class HitResultV1:\n",
    "    pass"
   ]
  },
  {
   "cell_type": "code",
   "execution_count": null,
   "id": "ecac6728bea8e086",
   "metadata": {
    "tags": [
     "keep"
    ]
   },
   "outputs": [],
   "source": [
    "class PlayerV1:\n",
    "    def check_collision(self, obstacles, hit_result):\n",
    "        # Complicated computation...\n",
    "        hit_result.collision_occurred = True"
   ]
  },
  {
   "cell_type": "code",
   "execution_count": null,
   "id": "e3bb0d0ea85c0ee2",
   "metadata": {
    "lines_to_next_cell": 2,
    "tags": [
     "keep"
    ]
   },
   "outputs": [],
   "source": [
    "player = PlayerV1()\n",
    "hit_result = HitResultV1()\n",
    "player.check_collision([], hit_result)\n",
    "if hit_result.collision_occurred:  # type: ignore\n",
    "    print(\"Detected collision!\")"
   ]
  },
  {
   "cell_type": "code",
   "execution_count": null,
   "id": "e2fe4f45c20557d1",
   "metadata": {},
   "outputs": [],
   "source": []
  },
  {
   "cell_type": "code",
   "execution_count": null,
   "id": "885529e29df3d019",
   "metadata": {},
   "outputs": [],
   "source": []
  },
  {
   "cell_type": "code",
   "execution_count": null,
   "id": "cf3325a3d5885dba",
   "metadata": {},
   "outputs": [],
   "source": []
  },
  {
   "cell_type": "code",
   "execution_count": null,
   "id": "f787f0e3f6a72426",
   "metadata": {
    "tags": [
     "keep"
    ]
   },
   "outputs": [],
   "source": [
    "player = Player()\n",
    "hit_result = player.check_collision([])\n",
    "if hit_result.collision_occurred:\n",
    "    print(\"Detected collision!\")"
   ]
  },
  {
   "cell_type": "markdown",
   "id": "02b225205df736a7",
   "metadata": {
    "lang": "de",
    "slideshow": {
     "slide_type": "subslide"
    }
   },
   "source": [
    "\n",
    "## Command-Query Separation"
   ]
  },
  {
   "cell_type": "code",
   "execution_count": null,
   "id": "dc25fea636e3b75d",
   "metadata": {
    "tags": [
     "keep"
    ]
   },
   "outputs": [],
   "source": [
    "default_value = -1"
   ]
  },
  {
   "cell_type": "code",
   "execution_count": null,
   "id": "b0b1d2c0e9805d3f",
   "metadata": {
    "tags": [
     "keep"
    ]
   },
   "outputs": [],
   "source": [
    "def bad_has_default_value() -> bool:\n",
    "    global default_value\n",
    "    if default_value >= 0:\n",
    "        return True\n",
    "    else:\n",
    "        default_value = 123\n",
    "        return False"
   ]
  },
  {
   "cell_type": "code",
   "execution_count": null,
   "id": "f559ffd37d351d9e",
   "metadata": {},
   "outputs": [],
   "source": []
  },
  {
   "cell_type": "code",
   "execution_count": null,
   "id": "f66935e9ee519246",
   "metadata": {
    "slideshow": {
     "slide_type": "subslide"
    }
   },
   "outputs": [],
   "source": []
  },
  {
   "cell_type": "code",
   "execution_count": null,
   "id": "34efbed19861ddad",
   "metadata": {},
   "outputs": [],
   "source": []
  },
  {
   "cell_type": "code",
   "execution_count": null,
   "id": "e5ea7a5e75fadc10",
   "metadata": {
    "lines_to_next_cell": 2
   },
   "outputs": [],
   "source": []
  },
  {
   "cell_type": "markdown",
   "id": "eaf17f28dec8b3d5",
   "metadata": {
    "lang": "de",
    "slideshow": {
     "slide_type": "subslide"
    }
   },
   "source": [
    "\n",
    "## Fehlerbehandlung\n",
    "\n",
    "Verwende Ausnahmen zur Fehlerbehandlung.\n",
    "\n",
    "(Siehe `module_170_exceptions`.)"
   ]
  },
  {
   "cell_type": "markdown",
   "id": "ef550191fbb6d4f5",
   "metadata": {
    "lang": "de",
    "slideshow": {
     "slide_type": "subslide"
    }
   },
   "source": [
    "\n",
    "## DRY: Don't Repeat Yourself\n",
    "\n",
    "- Versuche, duplizierten Code zu eliminieren.\n",
    "  - Wiederholung bläht den Code auf\n",
    "  - Wiederholung von Code erfordert mehrere Modifikationen für jede Änderung\n",
    "- Aber: oft ist duplizierter Code mit anderem Code durchsetzt\n",
    "- Berücksichtige den Bereich, in dem Sie den Code DRY halten!"
   ]
  }
 ],
 "metadata": {},
 "nbformat": 4,
 "nbformat_minor": 5
}
