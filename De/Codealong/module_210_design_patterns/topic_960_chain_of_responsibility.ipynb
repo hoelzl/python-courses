{
 "cells": [
  {
   "cell_type": "code",
   "execution_count": null,
   "id": "6b4e03423667dbb7",
   "metadata": {},
   "outputs": [],
   "source": []
  },
  {
   "cell_type": "markdown",
   "id": "d97dcca25798916c",
   "metadata": {
    "lang": "de",
    "slideshow": {
     "slide_type": "slide"
    }
   },
   "source": [
    "<img src=\"../../img/python-logo-no-text.svg\"\n",
    "     style=\"display:block;margin:auto;width:10%\"/>\n",
    "<br>\n",
    "<div style=\"text-align:center; font-size:200%;\">\n",
    "  <b>Chain of Responsibility</b>\n",
    "</div>\n",
    "<br/>\n",
    "<div style=\"text-align:center;\">Dr. Matthias Hölzl</div>\n",
    "<br/>\n",
    "<div style=\"text-align:center;\">module_210_design_patterns/topic_960_chain_of_responsibility</div>"
   ]
  },
  {
   "cell_type": "markdown",
   "id": "7857e11beb432c9a",
   "metadata": {
    "lang": "de",
    "lines_to_next_cell": 2,
    "slideshow": {
     "slide_type": "slide"
    }
   },
   "source": [
    "\n",
    "# Chain of Responsibility"
   ]
  },
  {
   "cell_type": "markdown",
   "id": "dc6351cab4e4b33f",
   "metadata": {
    "lang": "de",
    "lines_to_next_cell": 0,
    "slideshow": {
     "slide_type": "slide"
    }
   },
   "source": [
    "### Designproblem: Verschiedene Spielerfiguren\n",
    "\n",
    "-   Wir haben jetzt die Möglichkeit geschaffen, dass Spieler\n",
    "    verschiedene Spielerfiguren auswählen können\n",
    "\n",
    "-   Diese Figuren sollen auch unterschiedlich auf die einzelnen\n",
    "    Bonusitems reagieren\n",
    "\n",
    "-   Im Moment wird der Effekt, den ein Bonusitem auf die Spielerfigur\n",
    "    hat vom Bonusitem selber bestimmt. Das ist nicht flexibel genug\n",
    "\n",
    "-   Zusätzlich soll es möglich sein, während des Spiels die Reaktion auf\n",
    "    Bonusitems zu verändern (Power-Ups, Malus-Items)\n"
   ]
  },
  {
   "cell_type": "markdown",
   "id": "41b450f5e4c50933",
   "metadata": {
    "lang": "de",
    "lines_to_next_cell": 0,
    "slideshow": {
     "slide_type": "slide"
    }
   },
   "source": [
    "### Designproblem: Verschiedene Spielerfiguren\n",
    "\n",
    "**Mögliche Lösung**\n",
    "\n",
    "-   Lagere die Reaktion auf Pickups in eine Klassenhierarchie aus, die\n",
    "    *Handler* definiert, die nur für die Interaktion zwischen Figuren\n",
    "    und Bonusitems zuständig sind\n",
    "\n",
    "-   Jeder Handler implementiert nur einen Teil aller möglichen\n",
    "    Kombinationen\n",
    "\n",
    "-   Wenn ein Handler nicht auf eine Pickup/Character-Kombination\n",
    "    reagieren kann, reicht sie die Arbeit an eine andere Klasse weiter\n"
   ]
  },
  {
   "cell_type": "markdown",
   "id": "526f02e0f924b481",
   "metadata": {
    "lang": "de",
    "lines_to_next_cell": 0,
    "slideshow": {
     "slide_type": "slide"
    }
   },
   "source": [
    "### Chain of Responsibility (Behavioral Pattern)\n",
    "\n",
    "**Intent**\n",
    "Avoid coupling the sender of a request to its receiver by giving more\n",
    "than one object a chance to handle the request. Chain the receiving\n",
    "objects and pass the request along the chain until an object handles\n",
    "it.\n",
    "**Motivation**\n",
    "Consider a context-sensitive help facility for a graphical user\n",
    "interface. The user can obtain help information on any part of the\n",
    "interface just by clicking on it. \\[...\\]\n"
   ]
  },
  {
   "cell_type": "markdown",
   "id": "17bf8e5fdd9a323f",
   "metadata": {
    "lang": "de",
    "lines_to_next_cell": 0,
    "slideshow": {
     "slide_type": "slide"
    }
   },
   "source": [
    "### Chain of Responsibility (Behavioral Pattern)\n",
    "\n",
    "**Applicability**\n",
    "Use Chain of Responsibility when\n",
    "\n",
    "-   More than one object may handle a request, and the handler isn't\n",
    "    known a priori. The handler should be ascertained automatically\n",
    "\n",
    "-   You want to issue a request to one of several objects without\n",
    "    specifying the receiver explicitly\n",
    "\n",
    "-   The set of objects that can handle a request should be specified\n",
    "    dynamically\n"
   ]
  },
  {
   "cell_type": "markdown",
   "id": "57f3f83154feac36",
   "metadata": {
    "lang": "de",
    "lines_to_next_cell": 0,
    "slideshow": {
     "slide_type": "slide"
    }
   },
   "source": [
    "### Chain of Responsibility (Behavioral Pattern)\n",
    "\n",
    "**Structure**\n",
    "![image](pat_chain){width=\"11cm\"}\n"
   ]
  },
  {
   "cell_type": "markdown",
   "id": "d618c1ff4c5582d2",
   "metadata": {
    "lang": "de",
    "lines_to_next_cell": 0,
    "slideshow": {
     "slide_type": "slide"
    }
   },
   "source": [
    "### Chain of Responsibility (Behavioral Pattern)\n",
    "\n",
    "**Participants**\n",
    "\n",
    "-   Handler\n",
    "\n",
    "    -   defines an interface for handling requests\n",
    "\n",
    "    -   (optional) implements the successor link\n",
    "\n",
    "-   ConcreteHandler\n",
    "\n",
    "    -   handles requests it is responsible for.\n",
    "\n",
    "    -   can access its successor.\n",
    "\n",
    "    -   if the ConcreteHandler can handle the request, it does so;\n",
    "        otherwise it forwards the request to its successor.\n",
    "\n",
    "-   Client\n",
    "\n",
    "    -   initiates the request to a ConcreteHandler object on the chain.\n",
    "\n",
    "**Collaborations**\n",
    "When a client issues a request, the request propagates along the chain\n",
    "until a ConcreteHandler object takes responsibility for handling it.\n"
   ]
  },
  {
   "cell_type": "markdown",
   "id": "891e06614bc8b1b9",
   "metadata": {
    "lang": "de",
    "lines_to_next_cell": 0,
    "slideshow": {
     "slide_type": "slide"
    }
   },
   "source": [
    "### Chain of Responsibility (Behavioral Pattern)\n",
    "\n",
    "**Consequences**\n",
    "Chain of Responsibility has the following benefits and liabilities:\n",
    "\n",
    "-   Reduced coupling. The pattern frees an object from knowing which\n",
    "    other object handles a request. \\[...\\] As a result, Chain of\n",
    "    Responsibility can simplify object interconnections. \\[...\\]\n",
    "\n",
    "-   Added flexibility in assigning responsibilities to objects. \\[...\\]\n",
    "    You can add or change responsibilities for handling a request by\n",
    "    adding to or otherwise changing the chain at run-time. You can\n",
    "    combine this with subclassing to specialize handlers statically.\n",
    "\n",
    "-   Receipt isn't guaranteed. Since a request has no explicit receiver,\n",
    "    there's no guarantee it'll be handled---the request can fall off the\n",
    "    end of the chain without ever being handled. A request can also go\n",
    "    unhandled when the chain is not configured properly.\n"
   ]
  },
  {
   "cell_type": "markdown",
   "id": "76c5d3b5dbd2c206",
   "metadata": {
    "lang": "de",
    "lines_to_next_cell": 0,
    "slideshow": {
     "slide_type": "slide"
    }
   },
   "source": [
    "### Chain of Responsibility (Behavioral Pattern)\n",
    "\n",
    "**Related Patterns**\n",
    "Chain of Responsibility is often applied in conjunction with Composite\n",
    "(163). There, a component's parent can act as its successor.\n"
   ]
  },
  {
   "cell_type": "markdown",
   "id": "8a61127117992d53",
   "metadata": {
    "lang": "de",
    "lines_to_next_cell": 0,
    "slideshow": {
     "slide_type": "slide"
    }
   },
   "source": [
    "### Designproblem: Verschiedene Spielerfiguren\n",
    "\n",
    "-   Chain of Responsibility löst die Anforderungen, die am Beginn der\n",
    "    Aufgabenstellung genannt wurden.\n",
    "\n",
    "-   Die Kette an Nachfolger-Handlern ermöglicht es, leicht neue\n",
    "    Verhalten einzuführen\n",
    "\n",
    "-   *Aber:* Die verkettete Struktur der Nachfolger-Handler erschwert die\n",
    "    Konfiguration der Handler für die Spiele-Designer\n",
    "\n",
    "-   *Daher:* Verwendung von Handlern ohne Verkettung; der Client ruft\n",
    "    die Handler explizit der Reihe nach auf\n",
    "\n",
    "-   Handler geben Boole'schen Wert zurück, der angibt ob sie die die\n",
    "    Aufgabe bearbeitet haben\n"
   ]
  },
  {
   "cell_type": "markdown",
   "id": "17d28c9f2a3c8e86",
   "metadata": {
    "lang": "de",
    "lines_to_next_cell": 0,
    "slideshow": {
     "slide_type": "slide"
    }
   },
   "source": [
    "### Designproblem: Verschiedene Spielerfiguren\n",
    "\n",
    "![image](handler-1){width=\"11cm\"}\n"
   ]
  },
  {
   "cell_type": "markdown",
   "id": "dc77f9a5a910bf41",
   "metadata": {
    "lang": "de",
    "slideshow": {
     "slide_type": "slide"
    }
   },
   "source": [
    "### Designproblem: Verschiedene Spielerfiguren\n",
    "\n",
    "**Bemerkung**\n",
    "Wir hatten ursprünglich die Reaktion der Spielfigur auf Pickups direkt\n",
    "in der Klasse `APGCharacter` implementiert. Wäre das nicht ausreichend\n",
    "gewesen?\n",
    "Das war aus mehreren Gründen kein besonders gutes Design:\n",
    "\n",
    "-   Jede Art von Spielfigur muss die Reaktion auf alle Pickup-Typen\n",
    "    selber implementieren. Wir wollen die Möglichkeit haben, gemeinsame\n",
    "    Verhalten wieder zu verwenden.\n",
    "\n",
    "-   Die Änderung des Verhaltens zur Laufzeit ist schwierig und muss für\n",
    "    jede Art von Figur gesondert implementiert werden."
   ]
  }
 ],
 "metadata": {},
 "nbformat": 4,
 "nbformat_minor": 5
}
