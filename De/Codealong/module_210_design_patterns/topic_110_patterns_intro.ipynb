{
 "cells": [
  {
   "cell_type": "markdown",
   "id": "9b48b23fd118a9aa",
   "metadata": {
    "lang": "de",
    "slideshow": {
     "slide_type": "slide"
    }
   },
   "source": [
    "<img src=\"../../img/python-logo-no-text.svg\"\n",
    "     style=\"display:block;margin:auto;width:10%\"/>\n",
    "<br>\n",
    "<div style=\"text-align:center; font-size:200%;\">\n",
    " <b>Entwurfsmuster</b>\n",
    "</div>\n",
    "<br/>\n",
    "<div style=\"text-align:center;\">Dr. Matthias Hölzl</div>\n",
    "<br/>\n",
    "<div style=\"text-align:center;\">module_210_design_patterns/topic_110_patterns_intro</div>"
   ]
  },
  {
   "cell_type": "markdown",
   "id": "a172dfaf2a42494e",
   "metadata": {
    "lang": "de",
    "lines_to_next_cell": 2,
    "slideshow": {
     "slide_type": "slide"
    }
   },
   "source": [
    "\n",
    "# Entwurfsmuster"
   ]
  },
  {
   "cell_type": "markdown",
   "id": "93bd5b7435d8edea",
   "metadata": {
    "lang": "de",
    "slideshow": {
     "slide_type": "slide"
    }
   },
   "source": [
    "# Entwurfsmuster\n"
   ]
  },
  {
   "cell_type": "markdown",
   "id": "553bd999fe26a1ae",
   "metadata": {
    "lang": "de",
    "lines_to_next_cell": 0,
    "slideshow": {
     "slide_type": "slide"
    }
   },
   "source": [
    "### Grundlagen\n",
    "\n",
    "Dasselbe (bewährte) Lösungsmuster kann für Probleme, die einander\n",
    "ähnlich sind, wiederverwendet werden.\n",
    "\n",
    "<img src=\"img/pattern.png\"\n",
    "     style=\"display:block;margin:auto;width:70%\"/>\n"
   ]
  },
  {
   "cell_type": "markdown",
   "id": "34f57fe4933f055a",
   "metadata": {
    "lang": "de",
    "lines_to_next_cell": 0,
    "slideshow": {
     "slide_type": "slide"
    }
   },
   "source": [
    "### Vorteile\n",
    "\n",
    "-   Wiederverwendung von erprobten Lösungsprinzipien\n",
    "    (Qualität, Kostenersparnis)\n",
    "\n",
    "-   abstrakte Dokumentation von Entwürfen\n",
    "\n",
    "-   gemeinsames Vokabular zur (schnellen) Verständigung unter\n",
    "    Entwicklern\n"
   ]
  },
  {
   "cell_type": "markdown",
   "id": "c9fe8c9db8fbb762",
   "metadata": {
    "lang": "de",
    "lines_to_next_cell": 0,
    "slideshow": {
     "slide_type": "slide"
    }
   },
   "source": [
    "### Nachteile\n",
    "\n",
    "-   Oftmals erhöhte Komplexität\n",
    "\n",
    "-   Oftmals weniger statische Information\n",
    "\n",
    "-   Oftmals geringere Performance\n"
   ]
  },
  {
   "cell_type": "markdown",
   "id": "718570e687423e06",
   "metadata": {
    "lang": "de",
    "lines_to_next_cell": 0,
    "slideshow": {
     "slide_type": "slide"
    }
   },
   "source": [
    "### Architekturpattern (C. Alexander)\n",
    "\n",
    "**Window Place**\n",
    "\n",
    "Everybody loves window seats, bay windows, and big windows with low\n",
    "sills and comfortable chairs drawn up to them...\n",
    "\n",
    "A room which does not have a place like this seldom allows you to feel\n",
    "comfortable or perfectly at ease...\n",
    "\n",
    "If the room contains no window which is a \"place,\" a person in the room\n",
    "will be torn between two forces: 1. He wants to sit down and be\n",
    "comfortable. 2. He is drawn toward the light. Obviously, if the\n",
    "comfortable places---those places in the room where you most want to\n",
    "sit---are away from the windows, there is no way of overcoming this\n",
    "conflict...\n",
    "\n",
    "Therefore: In every room where you spend any length of time during the\n",
    "day, make at least one window into a \"window place.\"\n"
   ]
  },
  {
   "cell_type": "markdown",
   "id": "39454191b407b537",
   "metadata": {
    "lang": "de",
    "lines_to_next_cell": 0,
    "slideshow": {
     "slide_type": "slide"
    }
   },
   "source": [
    "### What is a pattern? (C. Alexander)\n",
    "\n",
    "Each pattern is a three-part rule, which expresses a relation between a\n",
    "certain **context**, a **problem**, and a **solution**.\n",
    "\n",
    "As an element **in the world**, each pattern is a relationship between a\n",
    "certain **context**, a certain system of **forces** which occurs\n",
    "repeatedly in that context, and a certain spatial configuration which\n",
    "allows these forces to resolve themselves.\n",
    "\n",
    "As an element of **language**, a pattern is an instruction, which shows\n",
    "how this spatial configuration can be used, over and over again, to\n",
    "resolve the given system of forces, wherever the context makes it\n",
    "relevant.\n",
    "\n",
    "The pattern is, in short, at the same time a thing, which happens in the\n",
    "world, and the **rule** which tells us how to create that thing, and\n",
    "when we must create it. It is **both a process and a thing**; both a\n",
    "description of a thing which is alive, and a description of the process\n",
    "which will generate that thing.\n"
   ]
  },
  {
   "cell_type": "markdown",
   "id": "d4eab4767521dd3a",
   "metadata": {
    "lang": "de",
    "lines_to_next_cell": 0,
    "slideshow": {
     "slide_type": "slide"
    }
   },
   "source": [
    "### Komponenten eines Patterns\n",
    "\n",
    "<img src=\"img/pattern-components.png\"\n",
    "     style=\"display:block;margin:auto;width:70%\"/>\n"
   ]
  },
  {
   "cell_type": "markdown",
   "id": "085b9de62e318eda",
   "metadata": {
    "lang": "de",
    "lines_to_next_cell": 0,
    "slideshow": {
     "slide_type": "slide"
    }
   },
   "source": [
    "### Geschichte\n",
    "\n",
    "-   1977 Alexander: Architekturmuster für Gebäude und Städtebau\n",
    "\n",
    "-   1980 Smalltalks MVC-Prinzip (Model View Controller)\n",
    "\n",
    "-   Seit 1990 Objektorientierte Muster im Software-Engineering\n",
    "\n",
    "-   1995 Design Pattern Katalog von Gamma, Helm, Johnson, Vlissides\n",
    "    (\"Gang of Four\", GoF)\n",
    "\n",
    "-   Martin Fowler (1996). Analysis Patterns\n",
    "\n",
    "-   Frank Buschmann et al. (1996-2007(?)). Pattern-Oriented Software\n",
    "    Architecture, Volumes 1--5\n",
    "\n",
    "-   Martin Fowler (2002). Patterns of Enterprise Application\n",
    "    Architecture\n",
    "\n",
    "-   Gregor Hohpe, Bobby Woolf (2003). Enterprise Integration Patterns:\n",
    "    Designing, Building, and Deploying Messaging Solutions\n"
   ]
  },
  {
   "cell_type": "markdown",
   "id": "d8583597808ce4e1",
   "metadata": {
    "lang": "de",
    "lines_to_next_cell": 0,
    "slideshow": {
     "slide_type": "slide"
    }
   },
   "source": [
    "### Arten von Pattern\n",
    "\n",
    "Pattern können in verschiedenen Abstraktionsgraden definiert werden:\n",
    "\n",
    "-   Architektur-Pattern: Beschreiben die komplette Architektur eines\n",
    "    Systems\n",
    "    Beispiele: Geschichtete Architektur, \"Pipes und Filter\" Architektur\n",
    "\n",
    "-   Design-Pattern: Beschreiben Lösungen für Design-Probleme auf einer\n",
    "    niedrigeren Abstraktionsebene als Architektur-Pattern\n",
    "    Beispiele: Singleton, Abstract Factory, Composite\n",
    "\n",
    "-   Idiome: Beschreiben Sprachspezifisch Lösungen.\n",
    "    Beispiele: Smart Pointers (C/C++), Resource Allocation is\n",
    "    Initialization (RAII, C++)\n"
   ]
  },
  {
   "cell_type": "markdown",
   "id": "721058d843ca6650",
   "metadata": {
    "lang": "de",
    "lines_to_next_cell": 0,
    "slideshow": {
     "slide_type": "slide"
    }
   },
   "source": [
    "### Beispiel: GUI in Smalltalk 80\n",
    "\n",
    "<img src=\"img/smalltalk-80.jpg\"\n",
    "     style=\"display:block;margin:auto;width:70%\"/>\n"
   ]
  },
  {
   "cell_type": "markdown",
   "id": "cecee3da86ed1247",
   "metadata": {
    "lang": "de",
    "lines_to_next_cell": 0,
    "slideshow": {
     "slide_type": "slide"
    }
   },
   "source": [
    "### MVC Architektur\n",
    "\n",
    "Smalltalk 80 war eine der ersten graphischen Programmierumgebungen. Um\n",
    "die Entwicklung graphischer Oberflächen zu vereinfachen wurde in den\n",
    "1980er Jahren in Smalltalk 80 die Model-View-Controller\n",
    "(MVC)-Architektur eingeführt.\n",
    "\n",
    "Es wurden viele Varianten des ursprünglichen MVC Patterns vorgeschlagen\n",
    "(e.g., Model-View-Presenter, Model-Document-Abstraction,\n",
    "Model-View-Viewmodel). Leider werden viele dieser Varianten oft\n",
    "ebenfalls als MVC-Pattern bezeichnet.\n"
   ]
  },
  {
   "cell_type": "markdown",
   "id": "7bbfedd0ce1efd05",
   "metadata": {
    "lang": "de",
    "lines_to_next_cell": 0,
    "slideshow": {
     "slide_type": "slide"
    }
   },
   "source": [
    "### MVC Architektur\n",
    "\n",
    "**Name:** Model-View-Controller\n",
    "**Kontext:**\n",
    "Sie entwickeln eine Applikation mit graphischer Benutzeroberfläche und\n",
    "wollen Benutzeroberfläche und Geschäftslogik unabhängig voneinander\n",
    "halten.\n",
    "**Problem:**\n",
    "Wenn man den Code, der die Benutzeroberfläche verwaltet direkt in die\n",
    "Geschäftslogik einer Anwendung einbettet erhält man Anwendungen, deren\n",
    "eigentliche Funktionalität eng mit der Präsentation der Daten verwoben\n",
    "ist. Das Erschwert die Unterstützung verschiedener Plattformen und\n",
    "verkompliziert die Geschäftslogik.\n"
   ]
  },
  {
   "cell_type": "markdown",
   "id": "8ffd065fcd61842a",
   "metadata": {
    "lang": "de",
    "lines_to_next_cell": 0,
    "slideshow": {
     "slide_type": "slide"
    }
   },
   "source": [
    "### MVC Architektur\n",
    "\n",
    "**Lösung:**\n",
    "Spalte die Anwendung in drei Arten von Objekten/Komponenten auf:\n",
    "\n",
    "-   Das *Modell* ist verantwortlich dafür, die Geschäftsprozesse und\n",
    "    Domänenobjekte abzubilden, und es verarbeitet die Daten entsprechend\n",
    "    den geschäftsspezifischen Anforderungen. Das Modell hängt nicht von\n",
    "    spezifischen Ein-Ausgabeverhalten oder Benutzeroberflächen ab.\n",
    "\n",
    "-   *View*-Komponenten sind für die graphische Darstellung der Daten\n",
    "    verantwortlich. Sie erhalten die anzuzeigenden Daten vom Modell.\n",
    "    Mehrere Views können die gleichen Daten des Modells darstellen.\n",
    "\n",
    "-   Jede View hat einen oder mehrere *Controller*, die Eingaben vom\n",
    "    Benutzer bekommen. Diese Eingaben werden in Events für die View oder\n",
    "    das Modell umgewandelt. Jegliche Benutzerinteraktion wird durch\n",
    "    Controller geregelt.\n"
   ]
  },
  {
   "cell_type": "markdown",
   "id": "bf4a6c6c6b581903",
   "metadata": {
    "lang": "de",
    "lines_to_next_cell": 0,
    "slideshow": {
     "slide_type": "slide"
    }
   },
   "source": [
    "### MVC Architektur\n",
    "\n",
    "**Struktur:** (Kein UML Diagramm!)\n",
    "\n",
    "<img src=\"img/mvc.png\"\n",
    "     style=\"display:block;margin:auto;width:70%\"/>\n"
   ]
  },
  {
   "cell_type": "markdown",
   "id": "a6dc2a685cbc078e",
   "metadata": {
    "lang": "de",
    "lines_to_next_cell": 0,
    "slideshow": {
     "slide_type": "slide"
    }
   },
   "source": [
    "### MVC Architektur\n",
    "\n",
    "**Interaktion (Kommunikationsdiagramm):**\n",
    "\n",
    "<img src=\"img/mvc_ia.png\"\n",
    "     style=\"display:block;margin:auto;width:70%\"/>\n"
   ]
  },
  {
   "cell_type": "markdown",
   "id": "584ad774c976fab7",
   "metadata": {
    "lang": "de",
    "lines_to_next_cell": 0,
    "slideshow": {
     "slide_type": "slide"
    }
   },
   "source": [
    "### MVC Architektur\n",
    "\n",
    "**Konsequenzen:**\n",
    "\n",
    "-   Modell und Benutzeroberfläche sind vollständig entkoppelt\n",
    "\n",
    "-   Es können leicht verschiedene Benutzeroberflächen für die gleiche\n",
    "    Geschäftslogik erstellt werden\n",
    "\n",
    "-   Das Modell muss einen generischen Notifikationsmechanismus\n",
    "    bereitstellen um Views und Controller über Änderungen informieren zu\n",
    "    können\n"
   ]
  },
  {
   "cell_type": "markdown",
   "id": "5fb8f8afcc813d8c",
   "metadata": {
    "lang": "de",
    "lines_to_next_cell": 0,
    "slideshow": {
     "slide_type": "slide"
    }
   },
   "source": [
    "### Web-MVC Architektur\n",
    "\n",
    "<img src=\"img/web-mvc.png\"\n",
    "     style=\"display:block;margin:auto;width:70%\"/>\n"
   ]
  },
  {
   "cell_type": "markdown",
   "id": "fb55126566b6ec49",
   "metadata": {
    "lang": "de",
    "lines_to_next_cell": 0,
    "slideshow": {
     "slide_type": "slide"
    }
   },
   "source": [
    "### Web-MVC Architektur\n",
    "\n",
    "Viele andere Architekturen wurden in der Literatur ebenfalls als\n",
    "MVC-Architektur bezeichnet. Z.B. wird in Web-Applikationen oft der\n",
    "\"Application Controller\" im Diagramm auf der vorhergehenden Folie als\n",
    "\"Controller\" bezeichnet. In einer traditionellen MVC-Architektur ist der\n",
    "\"Application Controller\" Teil des Modells und kein Controller.\n"
   ]
  },
  {
   "cell_type": "markdown",
   "id": "0a9e37946defdd7f",
   "metadata": {
    "lang": "de",
    "lines_to_next_cell": 0,
    "slideshow": {
     "slide_type": "slide"
    }
   },
   "source": [
    "### Alternative zu Web-MVC: Flux\n",
    "\n",
    "<img src=\"img/flux.png\"\n",
    "     style=\"display:block;margin:auto;width:70%\"/>\n"
   ]
  },
  {
   "cell_type": "markdown",
   "id": "bc6e602a9d5cc16b",
   "metadata": {
    "lang": "de",
    "lines_to_next_cell": 0,
    "slideshow": {
     "slide_type": "slide"
    }
   },
   "source": [
    "### Alternative zu Web-MVC: Flux\n",
    "\n",
    "<img src=\"img/flux-diagram.png\"\n",
    "     style=\"display:block;margin:auto;width:70%\"/>\n"
   ]
  },
  {
   "cell_type": "markdown",
   "id": "d72ef1694f1664f8",
   "metadata": {
    "lang": "de",
    "lines_to_next_cell": 0,
    "slideshow": {
     "slide_type": "slide"
    }
   },
   "source": [
    "### Andere Anwendung eines MVC-Artigen Patterns\n",
    "\n",
    "<img src=\"img/game-01.png\"\n",
    "     style=\"display:block;margin:auto;width:70%\"/>\n"
   ]
  },
  {
   "cell_type": "markdown",
   "id": "eb08c443eba2ee97",
   "metadata": {
    "lang": "de",
    "lines_to_next_cell": 0,
    "slideshow": {
     "slide_type": "slide"
    }
   },
   "source": [
    "### Pattern-Sprachen und -Kataloge\n",
    "\n",
    "-   Pattern werden zu verschiedenen Zwecken und auf verschiedenen\n",
    "    Abstraktionsebenen verwendet\n",
    "\n",
    "-   Daher gibt es verschiedene \"Pattern-Sprachen,\" die sich in den\n",
    "    Elementen unterscheiden, die für jedes Pattern aufgeschrieben werden\n",
    "\n",
    "-   Typischerweise werden nicht einzelne Pattern aufgeschrieben sondern\n",
    "    Sammlungen miteinander verwandter Patterns, die alle in der gleichen\n",
    "    Pattern-Sprache notiert sind\n",
    "\n",
    "-   Eine solche Sammlung von Patterns nennt sich Pattern-Katalog\n",
    "\n",
    "-   Pattern-Kataloge existieren für verschiedenartige Themengebiete\n",
    "\n",
    "    -   Analyse, Software-Design, ...\n",
    "\n",
    "    -   Enterprise-Architektur, verteilte Systeme, ...\n",
    "\n",
    "    -   Programmiersprachen (JavaScript, Smalltalk...)\n"
   ]
  },
  {
   "cell_type": "markdown",
   "id": "7e241eb1d0e6abcb",
   "metadata": {
    "lang": "de",
    "slideshow": {
     "slide_type": "slide"
    }
   },
   "source": [
    "### Wesentliche Elemente eines Entwurfsmusters\n",
    "\n",
    "-   Name des Musters\n",
    "\n",
    "-   Beschreibung der Problemklasse, bei der das Muster anwendbar ist\n",
    "\n",
    "-   Beschreibung eines Anwendungsbeispiels\n",
    "\n",
    "-   Beschreibung der Lösung (Struktur, Verantwortlichkeiten, \\...)\n",
    "\n",
    "-   Beschreibung der Konsequenzen (Nutzen/Kosten-Analyse)\n"
   ]
  }
 ],
 "metadata": {},
 "nbformat": 4,
 "nbformat_minor": 5
}
