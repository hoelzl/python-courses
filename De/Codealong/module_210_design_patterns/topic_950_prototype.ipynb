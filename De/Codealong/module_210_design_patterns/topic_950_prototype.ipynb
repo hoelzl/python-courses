{
 "cells": [
  {
   "cell_type": "code",
   "execution_count": null,
   "id": "6b4e03423667dbb7",
   "metadata": {},
   "outputs": [],
   "source": []
  },
  {
   "cell_type": "markdown",
   "id": "26e93f684d747c3b",
   "metadata": {
    "lang": "de",
    "slideshow": {
     "slide_type": "slide"
    }
   },
   "source": [
    "<img src=\"../../img/python-logo-no-text.svg\"\n",
    "     style=\"display:block;margin:auto;width:10%\"/>\n",
    "<br>\n",
    "<div style=\"text-align:center; font-size:200%;\">\n",
    "  <b>Prototype</b>\n",
    "</div>\n",
    "<br/>\n",
    "<div style=\"text-align:center;\">Dr. Matthias Hölzl</div>\n",
    "<br/>\n",
    "<div style=\"text-align:center;\">module_210_design_patterns/topic_950_prototype</div>"
   ]
  },
  {
   "cell_type": "markdown",
   "id": "dd9a34291c198637",
   "metadata": {
    "lang": "de",
    "lines_to_next_cell": 2,
    "slideshow": {
     "slide_type": "slide"
    }
   },
   "source": [
    "\n",
    "# Prototype"
   ]
  },
  {
   "cell_type": "markdown",
   "id": "c0068a15d7668e4d",
   "metadata": {
    "lang": "de",
    "lines_to_next_cell": 0,
    "slideshow": {
     "slide_type": "slide"
    }
   },
   "source": [
    "### Designproblem: Konfigurierbare Bonusitems\n",
    "\n",
    "Unser jetziges Design hat einige positive Eigenschaften:\n",
    "\n",
    "-   Der von einem Spawn-Volume erzeugte Pickup-Typ kann leicht geändert\n",
    "    werden\n",
    "\n",
    "-   Das Hinzufügen von neuen Pickup-Typen geht ohne jede Änderung an der\n",
    "    Spawn-Volume Implementierung\n",
    "\n",
    "-   Es können verschiedene Bonusitem-Typen pro Spawn-Volume erzeugt\n",
    "    werden\n",
    "\n",
    "Aber: Es ist nicht leicht möglich die in einem Spawn-Volume erzeugten\n",
    "Objekte zu konfigurieren.\n"
   ]
  },
  {
   "cell_type": "markdown",
   "id": "5d727c4284151235",
   "metadata": {
    "lang": "de",
    "lines_to_next_cell": 0,
    "slideshow": {
     "slide_type": "slide"
    }
   },
   "source": [
    "### Fünfter Entwurf: Prototyp-Basiertes Spawn-Volume\n",
    "\n",
    "![image](spawn-volume-6){width=\"12.7cm\"}\n"
   ]
  },
  {
   "cell_type": "markdown",
   "id": "53a167ec054eb68d",
   "metadata": {
    "lang": "de",
    "lines_to_next_cell": 0,
    "slideshow": {
     "slide_type": "slide"
    }
   },
   "source": [
    "### Prototype (Creational Pattern)\n",
    "\n",
    "**Intent**\n",
    "Specify the kinds of objects to create using a prototypical instance,\n",
    "and create new objects by copying this prototype.\n",
    "**Motivation**\n",
    "\\[Editor for music scores based on a general framework for graphical\n",
    "editors\\]\n"
   ]
  },
  {
   "cell_type": "markdown",
   "id": "088ff159142bd36c",
   "metadata": {
    "lang": "de",
    "lines_to_next_cell": 0,
    "slideshow": {
     "slide_type": "slide"
    }
   },
   "source": [
    "### Prototype (Creational Pattern)\n",
    "\n",
    "**Applicability**\n",
    "Use the Prototype pattern when a system should be independent of how its\n",
    "products are created, composed, and represented; and\n",
    "\n",
    "-   when the classes to instantiate are specified at run-time, for\n",
    "    example, by dynamic loading; or\n",
    "\n",
    "-   to avoid building a class hierarchy of factories that parallels the\n",
    "    class hierarchy of products; or\n",
    "\n",
    "-   when instances of a class can have one of only a few different\n",
    "    combinations of state.\n",
    "\n",
    "It may be more convenient to install a corresponding number of\n",
    "prototypes and clone them rather than instantiating the class manually,\n",
    "each time with the appropriate state.\n"
   ]
  },
  {
   "cell_type": "markdown",
   "id": "56e55105c2ca8a52",
   "metadata": {
    "lang": "de",
    "lines_to_next_cell": 0,
    "slideshow": {
     "slide_type": "slide"
    }
   },
   "source": [
    "### Prototype (Creational Pattern)\n",
    "\n",
    "**Structure**\n",
    "![image](pat_prototype){width=\"12cm\"}\n"
   ]
  },
  {
   "cell_type": "markdown",
   "id": "4d2263506dd8adf7",
   "metadata": {
    "lang": "de",
    "lines_to_next_cell": 0,
    "slideshow": {
     "slide_type": "slide"
    }
   },
   "source": [
    "### Prototype (Creational Pattern)\n",
    "\n",
    "**Participants**\n",
    "\n",
    "-   Prototype\n",
    "    declares an interface for cloning itself\n",
    "\n",
    "-   ConcretePrototype\n",
    "    implements an operation for cloning itself\n",
    "\n",
    "-   Client\n",
    "    creates a new object by asking a prototype to clone itself\n",
    "\n",
    "**Collaborations**\n",
    "A client asks a prototype to clone itself.\n"
   ]
  },
  {
   "cell_type": "markdown",
   "id": "1611b1f8c8376740",
   "metadata": {
    "lang": "de",
    "lines_to_next_cell": 0,
    "slideshow": {
     "slide_type": "slide"
    }
   },
   "source": [
    "### Prototype (Creational Pattern)\n",
    "\n",
    "**Consequences**\n",
    "Prototype has many of the same consequences that Abstract Factory (87)\n",
    "and Builder (97) have: It hides the concrete product classes from the\n",
    "client, thereby reducing the number of names clients know about.\n",
    "Moreover, these patterns let a client work with application-specific\n",
    "classes without modification.\n",
    "\n",
    "-   Adding and removing products at run-time\n",
    "\n",
    "-   Specifying new objects by varying values\n",
    "\n",
    "-   Specifying new objects by varying structure\n",
    "\n",
    "-   Reduced subclassing\n",
    "\n",
    "-   Configuring an application with classes dynamically\n",
    "\n",
    "The main liability of the Prototype pattern is that each subclass of\n",
    "Prototype must implement the Clone operation, which may be difficult.\n"
   ]
  },
  {
   "cell_type": "markdown",
   "id": "b97e0ccccce2bbaa",
   "metadata": {
    "lang": "de",
    "slideshow": {
     "slide_type": "slide"
    }
   },
   "source": [
    "### Prototype (Creational Pattern)\n",
    "\n",
    "**Implementation and Sample Code** ...\n",
    "**Related Patterns**\n",
    "Prototype and Abstract Factory (87) are competing patterns in some ways,\n",
    "as we discuss at the end of this chapter. They can also be used\n",
    "together, however. An Abstract Factory might store a set of prototypes\n",
    "from which to clone and return product objects.\n",
    "\n",
    "Designs that make heavy use of the Composite (163) and Decorator (175)\n",
    "patterns often can benefit from Prototype as well."
   ]
  }
 ],
 "metadata": {},
 "nbformat": 4,
 "nbformat_minor": 5
}
