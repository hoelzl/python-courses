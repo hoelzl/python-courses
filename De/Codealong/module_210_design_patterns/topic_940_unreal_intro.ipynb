{
 "cells": [
  {
   "cell_type": "markdown",
   "id": "457336d1bb24d633",
   "metadata": {
    "lang": "de",
    "slideshow": {
     "slide_type": "slide"
    }
   },
   "source": [
    "<img src=\"../../img/python-logo-no-text.svg\"\n",
    "     style=\"display:block;margin:auto;width:10%\"/>\n",
    "<br>\n",
    "<div style=\"text-align:center; font-size:200%;\">\n",
    " <b>Unreal Engine Intro</b>\n",
    "</div>\n",
    "<br/>\n",
    "<div style=\"text-align:center;\">Dr. Matthias Hölzl</div>\n",
    "<br/>\n",
    "<div style=\"text-align:center;\">module_210_design_patterns/topic_940_unreal_intro</div>"
   ]
  },
  {
   "cell_type": "markdown",
   "id": "5ce28db73733245b",
   "metadata": {
    "lang": "de",
    "lines_to_next_cell": 2,
    "slideshow": {
     "slide_type": "slide"
    }
   },
   "source": [
    "\n",
    "# Unreal Engine Intro"
   ]
  },
  {
   "cell_type": "markdown",
   "id": "94153ede8e7013b4",
   "metadata": {
    "lang": "de",
    "lines_to_next_cell": 0,
    "slideshow": {
     "slide_type": "slide"
    }
   },
   "source": [
    "Kurze Einführung in die Unreal Engine\n"
   ]
  },
  {
   "cell_type": "markdown",
   "id": "c4f52ee17b290217",
   "metadata": {
    "lang": "de",
    "lines_to_next_cell": 0,
    "slideshow": {
     "slide_type": "slide"
    }
   },
   "source": [
    "### UE4 Klassenhierarchie\n",
    "\n",
    "![image](ue-01){width=\"11cm\"}\n"
   ]
  },
  {
   "cell_type": "markdown",
   "id": "cf8d7789192234a5",
   "metadata": {
    "lang": "de",
    "lines_to_next_cell": 0,
    "slideshow": {
     "slide_type": "slide"
    }
   },
   "source": [
    "### UE4 Klassenhierarchie\n",
    "\n",
    "![image](ue-02){width=\"11cm\"}\n",
    "\n",
    "-   **UObject** erweitert C++ um Funktionalität wie Garbage Collection\n",
    "    und Reflection\n",
    "\n",
    "-   **AActor** ist die Oberklasse aller Objekte, die innerhalb eines\n",
    "    Levels existieren können (Aktoren). Aktoren können für\n",
    "    Netzwerkspiele zwischen Clients und Server repliziert werden.\n",
    "\n",
    "-   **APawn** ist die Oberklasse aller Aktoren, die durch einen Spieler\n",
    "    oder den Computer kontrolliert werden können (Pawns)\n",
    "\n",
    "-   **ACharacter** sind Pawns, die herumlaufen können\n"
   ]
  },
  {
   "cell_type": "markdown",
   "id": "62b345e3626fcada",
   "metadata": {
    "lang": "de",
    "lines_to_next_cell": 0,
    "slideshow": {
     "slide_type": "slide"
    }
   },
   "source": [
    "### UE4 Klassenhierarchie\n",
    "\n",
    "-   **AController** ist die Klasse aller Controller,\n",
    "    d.h. aller Aktoren, die die Aktion eines Pawns\n",
    "    kontrollieren können. Derartige Aktionen\n",
    "    sind z.B.\n",
    "\n",
    "    -   Bewegung (z.B. Gehen/Laufen/Springen)\n",
    "\n",
    "    -   Interaktion mit der Umgebung (z.B.\n",
    "        Aufheben von Gegenständen)\n",
    "\n",
    "    -   Abfeuern einer Waffe\n",
    "\n",
    "    -   ...\n",
    "\n",
    "-   **APlayerController** übersetzt die\n",
    "    Eingaben des Benutzers in Aktionen für den kontrollierten Pawn\n",
    "\n",
    "-   **AAIController** kontrolliert den Pawn mit Hilfe eines Programms\n",
    "    (der sog. künstlichen Intelligenz (KI))\n"
   ]
  },
  {
   "cell_type": "markdown",
   "id": "4201684272d03346",
   "metadata": {
    "lang": "de",
    "lines_to_next_cell": 0,
    "slideshow": {
     "slide_type": "slide"
    }
   },
   "source": [
    "### UE4 Klassenhierarchie\n",
    "\n",
    "![image](ue-04){width=\"12.8cm\"}\n"
   ]
  },
  {
   "cell_type": "markdown",
   "id": "414ad39b92a4b4e4",
   "metadata": {
    "lang": "de",
    "lines_to_next_cell": 0,
    "slideshow": {
     "slide_type": "slide"
    }
   },
   "source": [
    "### UE4 Klassenhierarchie\n",
    "\n",
    "Für ein Spiel können benutzerdefinierte Unterklassen erzeugt werden für\n",
    "\n",
    "-   AGameMode\n",
    "\n",
    "-   AGameState\n",
    "\n",
    "-   APlayerState\n",
    "\n",
    "-   UGameInstance\n",
    "\n",
    "-   APawn (für Spieler-Figuren)\n",
    "\n",
    "-   APlayerController (für Spieler-Figuren)\n",
    "\n",
    "Die Klasse der UWorld-Instanz kann nicht verändert werden.\n"
   ]
  },
  {
   "cell_type": "markdown",
   "id": "518994ed2f1b5947",
   "metadata": {
    "lang": "de",
    "lines_to_next_cell": 0,
    "slideshow": {
     "slide_type": "slide"
    }
   },
   "source": [
    "### UE4 Klassenhierarchie\n",
    "\n",
    "-   **UGameInstance** repräsentiert die aktuelle Spielinstanz. Eine\n",
    "    (indirekte) Instanz von UGameInstance wird automatisch erzeugt\n",
    "    sobald das Spiel gestartet wird und existiert bis das Spiel beendet\n",
    "    wird.\n",
    "\n",
    "-   **UWorld** repräsentiert die Umgebung, in der alle Aktoren und\n",
    "    Komponenten existieren und erlaubt den Zugriff auf die aktuelle Game\n",
    "    Instance, den aktuellen Game Mode, den Game State, etc.\n"
   ]
  },
  {
   "cell_type": "markdown",
   "id": "60f533e35ef939ae",
   "metadata": {
    "lang": "de",
    "slideshow": {
     "slide_type": "slide"
    }
   },
   "source": [
    "### UE4 Klassenhierarchie\n",
    "\n",
    "-   **AInfo** ist eine Oberklasse für Aktoren, die keine physikalische\n",
    "    Repräsentation im Level haben aber Informationen über die Welt\n",
    "    enthalten\n",
    "\n",
    "-   **AGameMode** definiert die Regeln des aktuellen Spiels, die\n",
    "    Aktoren, die im Spiel existieren, etc. (Existiert nur auf dem\n",
    "    Server.)\n",
    "\n",
    "-   **AGameState** stellt den relevanten Zustand des Spiels dar, z.B. wo\n",
    "    sich die Figuren auf einem Schachbrett befinden, wie viele Punkte\n",
    "    die einzelnen Spieler im Moment haben, usw. (Wird zwischen Server\n",
    "    und Clients repliziert.)\n",
    "\n",
    "-   **APlayerState** Instanzen existieren für alle Spieler, die an einem\n",
    "    Spiel beteiligt sind und werden zwischen Clients und Server\n",
    "    repliziert"
   ]
  }
 ],
 "metadata": {},
 "nbformat": 4,
 "nbformat_minor": 5
}
