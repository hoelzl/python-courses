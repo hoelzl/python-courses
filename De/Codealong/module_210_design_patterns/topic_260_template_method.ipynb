{
 "cells": [
  {
   "cell_type": "markdown",
   "id": "b5e975628133fbf1",
   "metadata": {
    "lang": "de",
    "slideshow": {
     "slide_type": "slide"
    }
   },
   "source": [
    "<img src=\"../../img/python-logo-no-text.svg\"\n",
    "     style=\"display:block;margin:auto;width:10%\"/>\n",
    "<br>\n",
    "<div style=\"text-align:center; font-size:200%;\">\n",
    " <b>Template Method</b>\n",
    "</div>\n",
    "<br/>\n",
    "<div style=\"text-align:center;\">Dr. Matthias Hölzl</div>\n",
    "<br/>\n",
    "<div style=\"text-align:center;\">module_210_design_patterns/topic_260_template_method</div>"
   ]
  },
  {
   "cell_type": "markdown",
   "id": "8332ce98eb23b95c",
   "metadata": {
    "lang": "de",
    "lines_to_next_cell": 2,
    "slideshow": {
     "slide_type": "slide"
    }
   },
   "source": [
    "\n",
    "# Template Method"
   ]
  },
  {
   "cell_type": "markdown",
   "id": "03dfad1df53391c2",
   "metadata": {
    "lang": "de",
    "lines_to_next_cell": 0,
    "slideshow": {
     "slide_type": "slide"
    }
   },
   "source": [
    "### Designproblem: Bonusitems\n",
    "\n",
    "-   Wir wollen mehrere Arten von Bonusitems (Pickups) haben, die\n",
    "    unterschiedliche Effekte auf den Spieler haben\n",
    "\n",
    "-   Teile des Verhaltens sollen aber immer gleich bleiben\n",
    "\n",
    "-   Wir habe die Lösung dieses Problems bereits bei den UML\n",
    "    Klassendiagrammen besprochen\n"
   ]
  },
  {
   "cell_type": "markdown",
   "id": "83d694a6c8e2e20f",
   "metadata": {
    "lang": "de",
    "lines_to_next_cell": 0,
    "slideshow": {
     "slide_type": "slide"
    }
   },
   "source": [
    "### Template Method (Behavioral Pattern)\n",
    "\n",
    "**Intent**\n",
    "Define the skeleton of an algorithm in an operation, deferring some\n",
    "steps to subclasses. Template Method lets subclasses redefine certain\n",
    "steps of an algorithm without changing the algorithm's structure.\n",
    "**Motivation**\n",
    "\n",
    "-   An application framework that has to deal with several document\n",
    "    classes. There are some similarities, but also differences between\n",
    "    the handling of various types of documents\n",
    "\n",
    "-   The framework defines concrete operations that call abstract\n",
    "    operations as part of their execution\n",
    "\n",
    "-   Instances of the framework implement the virtual methods\n"
   ]
  },
  {
   "cell_type": "markdown",
   "id": "f12ea5dbea65e8a1",
   "metadata": {
    "lang": "de",
    "lines_to_next_cell": 0,
    "slideshow": {
     "slide_type": "slide"
    }
   },
   "source": [
    "### Template Method (Behavioral Pattern)\n",
    "\n",
    "**Applicability**\n",
    "\n",
    "-   to implement the invariant parts of an algorithm once and leave it\n",
    "    up to subclasses to implement the behavior that can vary\n",
    "\n",
    "-   when common behavior among subclasses should be factored and\n",
    "    localized in a common class to avoid code duplication\n",
    "\n",
    "-   to control subclasses extensions\n"
   ]
  },
  {
   "cell_type": "markdown",
   "id": "17399069d87cc37a",
   "metadata": {
    "lang": "de",
    "lines_to_next_cell": 0,
    "slideshow": {
     "slide_type": "slide"
    }
   },
   "source": [
    "### Template Method (Behavioral Pattern)\n",
    "\n",
    "**Structure**\n",
    "\n",
    "<img src=\"img/PlantUML/pat_template_method.png\"\n",
    "     style=\"display:block;margin:auto;width:70%\"/>\n"
   ]
  },
  {
   "cell_type": "markdown",
   "id": "e17dc911e5a1a06e",
   "metadata": {
    "lang": "de",
    "lines_to_next_cell": 0,
    "slideshow": {
     "slide_type": "slide"
    }
   },
   "source": [
    "### Template Method (Behavioral Pattern)\n",
    "\n",
    "**Participants**\n",
    "\n",
    "-   AbstractClass:\n",
    "\n",
    "    -   defines abstract *primitive operations* that concrete subclasses\n",
    "        define (hooks)\n",
    "\n",
    "    -   implements a template method defining the skeleton of an\n",
    "        algorithm\n",
    "\n",
    "-   ConcreteClass: implements the primitive operations\n"
   ]
  },
  {
   "cell_type": "markdown",
   "id": "1c01bfbc6feb46a1",
   "metadata": {
    "lang": "de",
    "lines_to_next_cell": 0,
    "slideshow": {
     "slide_type": "slide"
    }
   },
   "source": [
    "### Template Method (Behavioral Pattern)\n",
    "\n",
    "**Collaborations**\n",
    "ConcreteClass relies on AbstractClass to implement the invariant steps\n",
    "of the algorithm\n",
    "**Consequences**\n",
    "Template Methods are a fundamental technique of code reuse. They lead to\n",
    "an inverted control structure sometimes called the \"Hollywood\n",
    "Principle.\" It is important for template methods to specify which\n",
    "operations *may* and which ones *must* be overridden.\n"
   ]
  },
  {
   "cell_type": "markdown",
   "id": "b7c9c540dd5ca7c6",
   "metadata": {
    "lang": "de",
    "lines_to_next_cell": 0,
    "slideshow": {
     "slide_type": "slide"
    }
   },
   "source": [
    "### Template Method (Behavioral Pattern)\n",
    "\n",
    "<img src=\"img/PlantUML/pat_pickups-01.png\"\n",
    "     style=\"display:block;margin:auto;width:70%\"/>\n"
   ]
  },
  {
   "cell_type": "markdown",
   "id": "ced05b3ce17f50d2",
   "metadata": {
    "lang": "de",
    "slideshow": {
     "slide_type": "slide"
    }
   },
   "source": [
    "### Template Method (Behavioral Pattern)\n",
    "\n",
    "<img src=\"img/PlantUML/pat_pickups-02.png\"\n",
    "     style=\"display:block;margin:auto;width:70%\"/>"
   ]
  }
 ],
 "metadata": {},
 "nbformat": 4,
 "nbformat_minor": 5
}
