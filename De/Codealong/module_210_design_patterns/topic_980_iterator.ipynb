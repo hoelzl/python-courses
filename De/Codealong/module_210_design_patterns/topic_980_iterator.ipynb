{
 "cells": [
  {
   "cell_type": "code",
   "execution_count": null,
   "id": "6b4e03423667dbb7",
   "metadata": {},
   "outputs": [],
   "source": []
  },
  {
   "cell_type": "markdown",
   "id": "7650c2790e677600",
   "metadata": {
    "lang": "de",
    "slideshow": {
     "slide_type": "slide"
    }
   },
   "source": [
    "<img src=\"../../img/python-logo-no-text.svg\"\n",
    "     style=\"display:block;margin:auto;width:10%\"/>\n",
    "<br>\n",
    "<div style=\"text-align:center; font-size:200%;\">\n",
    "  <b>Iterator</b>\n",
    "</div>\n",
    "<br/>\n",
    "<div style=\"text-align:center;\">Dr. Matthias Hölzl</div>\n",
    "<br/>\n",
    "<div style=\"text-align:center;\">module_210_design_patterns/topic_980_iterator</div>"
   ]
  },
  {
   "cell_type": "markdown",
   "id": "4117746b0e88b4ed",
   "metadata": {
    "lang": "de",
    "lines_to_next_cell": 2,
    "slideshow": {
     "slide_type": "slide"
    }
   },
   "source": [
    "\n",
    "# Iterator"
   ]
  },
  {
   "cell_type": "markdown",
   "id": "faf93891f917e6fc",
   "metadata": {
    "lang": "de",
    "slideshow": {
     "slide_type": "slide"
    }
   },
   "source": [
    "### Iterator (Behaviorual Pattern)\n",
    "\n",
    "**Intent**\n",
    "Provide a way to access the elements of an aggregate object sequentially\n",
    "without exposing its underlying representation.\n",
    "**Structure**\n",
    "\n",
    "![image](iterator.pdf)\n"
   ]
  }
 ],
 "metadata": {},
 "nbformat": 4,
 "nbformat_minor": 5
}
