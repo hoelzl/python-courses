{
 "cells": [
  {
   "cell_type": "markdown",
   "id": "540eb3b580cb0805",
   "metadata": {
    "lang": "de",
    "slideshow": {
     "slide_type": "slide"
    }
   },
   "source": [
    "<img src=\"../../img/python-logo-no-text.svg\"\n",
    "     style=\"display:block;margin:auto;width:10%\"/>\n",
    "<br>\n",
    "<div style=\"text-align:center; font-size:200%;\">\n",
    "  <b>Externe Programme</b>\n",
    "</div>\n",
    "<br/>\n",
    "<div style=\"text-align:center;\">Dr. Matthias Hölzl</div>\n",
    "<br/>\n",
    "<div style=\"text-align:center;\">module_370_scripting/topic_110_external_programs</div>"
   ]
  },
  {
   "cell_type": "markdown",
   "id": "da64a5ee64b94cd3",
   "metadata": {
    "lang": "de",
    "slideshow": {
     "slide_type": "slide"
    }
   },
   "source": [
    "## Sub-Prozesse\n",
    "\n",
    "*Hinweis:* Zur Ausführung dieses Notebooks müssen muss das `ext_sample_app`\n",
    "Package (in `Examples/ExternalSampleApplication`) installiert sein.\n",
    "\n",
    "`subprocess.run` ist die bevorzugte Methode um externe Applikationen zu starten."
   ]
  },
  {
   "cell_type": "code",
   "execution_count": null,
   "id": "e822147250c5807f",
   "metadata": {},
   "outputs": [],
   "source": []
  },
  {
   "cell_type": "code",
   "execution_count": null,
   "id": "281eb550768c8c1c",
   "metadata": {},
   "outputs": [],
   "source": []
  },
  {
   "cell_type": "markdown",
   "id": "3a1b36a6d7cbc37c",
   "metadata": {
    "lang": "de"
   },
   "source": [
    "Mit `shutil.which()` kann man den vollständigen Pfad eines Programms herausfinden."
   ]
  },
  {
   "cell_type": "code",
   "execution_count": null,
   "id": "97be50041304b255",
   "metadata": {},
   "outputs": [],
   "source": []
  },
  {
   "cell_type": "code",
   "execution_count": null,
   "id": "503a6b091bef5115",
   "metadata": {},
   "outputs": [],
   "source": []
  },
  {
   "cell_type": "code",
   "execution_count": null,
   "id": "b27336134db7ccfc",
   "metadata": {},
   "outputs": [],
   "source": []
  },
  {
   "cell_type": "code",
   "execution_count": null,
   "id": "db4a6b11acac1711",
   "metadata": {},
   "outputs": [],
   "source": []
  },
  {
   "cell_type": "code",
   "execution_count": null,
   "id": "862526eda9318d3f",
   "metadata": {},
   "outputs": [],
   "source": []
  },
  {
   "cell_type": "code",
   "execution_count": null,
   "id": "0017b4496bc94f5b",
   "metadata": {},
   "outputs": [],
   "source": []
  },
  {
   "cell_type": "markdown",
   "id": "49ecc3dcab3b5431",
   "metadata": {
    "lang": "de"
   },
   "source": [
    "\n",
    "Mit `sys.executable` kann man den Pfad des gerade aktiven Python Interpreters\n",
    "herausfinden. Das ist die bevorzugte Methode um einen Python Prozess zu\n",
    "starten."
   ]
  },
  {
   "cell_type": "code",
   "execution_count": null,
   "id": "b72b2c41a9d57010",
   "metadata": {},
   "outputs": [],
   "source": []
  },
  {
   "cell_type": "code",
   "execution_count": null,
   "id": "e98c3bef20a83bab",
   "metadata": {},
   "outputs": [],
   "source": []
  },
  {
   "cell_type": "code",
   "execution_count": null,
   "id": "e909113afc01678c",
   "metadata": {},
   "outputs": [],
   "source": []
  },
  {
   "cell_type": "code",
   "execution_count": null,
   "id": "b8bfb5cf9b018407",
   "metadata": {},
   "outputs": [],
   "source": []
  },
  {
   "cell_type": "code",
   "execution_count": null,
   "id": "e446988f27870f53",
   "metadata": {},
   "outputs": [],
   "source": []
  },
  {
   "cell_type": "code",
   "execution_count": null,
   "id": "5611176a90063e2d",
   "metadata": {},
   "outputs": [],
   "source": []
  },
  {
   "cell_type": "code",
   "execution_count": null,
   "id": "ecbc76ee37aaba5d",
   "metadata": {},
   "outputs": [],
   "source": []
  },
  {
   "cell_type": "code",
   "execution_count": null,
   "id": "3929491238560960",
   "metadata": {},
   "outputs": [],
   "source": []
  },
  {
   "cell_type": "code",
   "execution_count": null,
   "id": "03e2455b2a884b7e",
   "metadata": {},
   "outputs": [],
   "source": []
  },
  {
   "cell_type": "code",
   "execution_count": null,
   "id": "0fc2790916aaba20",
   "metadata": {},
   "outputs": [],
   "source": []
  },
  {
   "cell_type": "code",
   "execution_count": null,
   "id": "52e23a62a011d750",
   "metadata": {},
   "outputs": [],
   "source": []
  },
  {
   "cell_type": "code",
   "execution_count": null,
   "id": "99e186bba0750881",
   "metadata": {},
   "outputs": [],
   "source": []
  },
  {
   "cell_type": "code",
   "execution_count": null,
   "id": "8d32a60e96ebf629",
   "metadata": {},
   "outputs": [],
   "source": []
  },
  {
   "cell_type": "code",
   "execution_count": null,
   "id": "22094d0a14587e28",
   "metadata": {},
   "outputs": [],
   "source": []
  },
  {
   "cell_type": "code",
   "execution_count": null,
   "id": "1c9840338e391a2c",
   "metadata": {},
   "outputs": [],
   "source": []
  },
  {
   "cell_type": "code",
   "execution_count": null,
   "id": "ea3cb027bc89aea5",
   "metadata": {},
   "outputs": [],
   "source": []
  },
  {
   "cell_type": "code",
   "execution_count": null,
   "id": "6b5d32e7ea1d379c",
   "metadata": {},
   "outputs": [],
   "source": []
  },
  {
   "cell_type": "code",
   "execution_count": null,
   "id": "4a6aa42b550f55a6",
   "metadata": {},
   "outputs": [],
   "source": []
  },
  {
   "cell_type": "markdown",
   "id": "ea9c6c3f591e3267",
   "metadata": {
    "lang": "de"
   },
   "source": [
    "## Popen: Nebenläufige Ausführung von Programmen\n",
    "\n",
    "Wenn man nicht warten kann, bis das gestartete Programm beendet wird muss man\n",
    "die `subprocess.Popen` Klasse verwenden:"
   ]
  },
  {
   "cell_type": "code",
   "execution_count": null,
   "id": "9f8946fd73b44c02",
   "metadata": {},
   "outputs": [],
   "source": []
  },
  {
   "cell_type": "code",
   "execution_count": null,
   "id": "d2abc3506ca1b956",
   "metadata": {},
   "outputs": [],
   "source": []
  },
  {
   "cell_type": "code",
   "execution_count": null,
   "id": "544bda762bac342d",
   "metadata": {},
   "outputs": [],
   "source": []
  },
  {
   "cell_type": "markdown",
   "id": "e3c789fdb38831e4",
   "metadata": {
    "lang": "de"
   },
   "source": [
    "\n",
    "`proc.communicate()` sendet eine Nachricht and `proc`, schließt die Ein- und\n",
    "Ausgabeströme und beendet den Prozess."
   ]
  },
  {
   "cell_type": "code",
   "execution_count": null,
   "id": "7c8f20bfa71b8d99",
   "metadata": {},
   "outputs": [],
   "source": []
  },
  {
   "cell_type": "markdown",
   "id": "880353a6f2914926",
   "metadata": {
    "lang": "de"
   },
   "source": [
    "\n",
    "Mit `proc.poll()` kann man feststellen, ob der Prozess schon beendet wurde und\n",
    "was der Rückgabewert war. Falls das Ergebnis `None` ist, ist der Prozess noch\n",
    "aktiv. `proc.wait()` wartet eine bestimmte Zeit und gibt den Rückgabewert des\n",
    "Prozesses zurück. Falls der Prozess nicht in der vorgegebenen Zeit beendet\n",
    "wurde, wird eine `TimeoutExpired` Exception ausgelöst."
   ]
  },
  {
   "cell_type": "code",
   "execution_count": null,
   "id": "fe4c7d4634b58ff2",
   "metadata": {},
   "outputs": [],
   "source": []
  },
  {
   "cell_type": "code",
   "execution_count": null,
   "id": "5399ed4cb8610356",
   "metadata": {},
   "outputs": [],
   "source": []
  },
  {
   "cell_type": "code",
   "execution_count": null,
   "id": "cd664efa1b1c51f3",
   "metadata": {},
   "outputs": [],
   "source": []
  },
  {
   "cell_type": "code",
   "execution_count": null,
   "id": "09613eedc2ea94c7",
   "metadata": {},
   "outputs": [],
   "source": []
  },
  {
   "cell_type": "code",
   "execution_count": null,
   "id": "0d3ce2286bf82461",
   "metadata": {},
   "outputs": [],
   "source": []
  },
  {
   "cell_type": "code",
   "execution_count": null,
   "id": "50e8c22e06c95601",
   "metadata": {},
   "outputs": [],
   "source": []
  },
  {
   "cell_type": "markdown",
   "id": "bc7678e4be958f14",
   "metadata": {
    "lang": "de"
   },
   "source": [
    "## Kommunikation mit Sockets\n",
    "\n",
    "Das folgende Beispiel zeigt, wie man einen Prozess starten und dann über\n",
    "Sockets mit ihm kommunizieren kann."
   ]
  },
  {
   "cell_type": "code",
   "execution_count": null,
   "id": "c2121c7da95b30d9",
   "metadata": {},
   "outputs": [],
   "source": []
  },
  {
   "cell_type": "code",
   "execution_count": null,
   "id": "bc3d271002510085",
   "metadata": {},
   "outputs": [],
   "source": []
  },
  {
   "cell_type": "code",
   "execution_count": null,
   "id": "373b15d11b501a0d",
   "metadata": {},
   "outputs": [],
   "source": []
  },
  {
   "cell_type": "code",
   "execution_count": null,
   "id": "a40ca6c573711d61",
   "metadata": {},
   "outputs": [],
   "source": []
  },
  {
   "cell_type": "code",
   "execution_count": null,
   "id": "e713e414fa7d0ab2",
   "metadata": {},
   "outputs": [],
   "source": []
  },
  {
   "cell_type": "code",
   "execution_count": null,
   "id": "ed0f345d639abd4f",
   "metadata": {},
   "outputs": [],
   "source": []
  },
  {
   "cell_type": "code",
   "execution_count": null,
   "id": "3ebd38ed7cd7cbbe",
   "metadata": {},
   "outputs": [],
   "source": []
  },
  {
   "cell_type": "code",
   "execution_count": null,
   "id": "db5513ca7abd4d71",
   "metadata": {},
   "outputs": [],
   "source": []
  },
  {
   "cell_type": "code",
   "execution_count": null,
   "id": "a62589c19271d0a4",
   "metadata": {},
   "outputs": [],
   "source": []
  },
  {
   "cell_type": "code",
   "execution_count": null,
   "id": "915b06db4429b85c",
   "metadata": {},
   "outputs": [],
   "source": []
  },
  {
   "cell_type": "code",
   "execution_count": null,
   "id": "b7b7e2471ca6f9e1",
   "metadata": {},
   "outputs": [],
   "source": []
  },
  {
   "cell_type": "code",
   "execution_count": null,
   "id": "6b4e03423667dbb7",
   "metadata": {},
   "outputs": [],
   "source": []
  }
 ],
 "metadata": {},
 "nbformat": 4,
 "nbformat_minor": 5
}
