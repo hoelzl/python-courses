{
 "cells": [
  {
   "cell_type": "markdown",
   "id": "85603095eacf61d7",
   "metadata": {
    "lang": "de",
    "slideshow": {
     "slide_type": "slide"
    }
   },
   "source": [
    "<img src=\"../../img/python-logo-no-text.svg\"\n",
    "     style=\"display:block;margin:auto;width:10%\"/>\n",
    "<br>\n",
    "<div style=\"text-align:center; font-size:200%;\">\n",
    " <b>SOLID: Single Responsibility Principle</b>\n",
    "</div>\n",
    "<br/>\n",
    "<div style=\"text-align:center;\">Dr. Matthias Hölzl</div>\n",
    "<br/>\n",
    "<div style=\"text-align:center;\">module_280_solid/topic_120_a3_solid_srp</div>"
   ]
  },
  {
   "cell_type": "markdown",
   "id": "a527901031a71edf",
   "metadata": {
    "lang": "de",
    "slideshow": {
     "slide_type": "slide"
    }
   },
   "source": [
    "\n",
    "# SOLID: Single Responsibility Principle\n",
    "\n",
    "Wie ist der folgende Code zu bewerten?"
   ]
  },
  {
   "cell_type": "code",
   "execution_count": null,
   "id": "723929ddcb3cf8ac",
   "metadata": {
    "tags": [
     "keep"
    ]
   },
   "outputs": [],
   "source": [
    "from typing import NamedTuple"
   ]
  },
  {
   "cell_type": "code",
   "execution_count": null,
   "id": "d3b8b59469e32ce4",
   "metadata": {
    "tags": [
     "keep"
    ]
   },
   "outputs": [],
   "source": [
    "class Point2D(NamedTuple):\n",
    "    x: float\n",
    "    y: float\n",
    "\n",
    "    def move(self, dx: float, dy: float) -> \"Point2D\":\n",
    "        return Point2D(self.x + dx, self.y + dy)"
   ]
  },
  {
   "cell_type": "code",
   "execution_count": null,
   "id": "5441502f42877f5a",
   "metadata": {
    "tags": [
     "keep"
    ]
   },
   "outputs": [],
   "source": [
    "class Figure2d(NamedTuple):\n",
    "    pivot: Point2D\n",
    "    sprite: list[int]\n",
    "    health: float\n",
    "    health_bar: object  # In reality a widget...\n",
    "    database: object  # The connection to the DB\n",
    "\n",
    "    def move(self, dx: float, dy: float) -> None:\n",
    "        ...\n",
    "\n",
    "    def is_player_avatar(self) -> bool:\n",
    "        # Check whether the figure is the player's avatar...\n",
    "        return True\n",
    "\n",
    "    def update_gui(self):\n",
    "        # Update the health bar widget.\n",
    "        ...\n",
    "\n",
    "    def save_to_db(self) -> None:\n",
    "        # Write the figure data to the database.\n",
    "        ..."
   ]
  },
  {
   "cell_type": "code",
   "execution_count": null,
   "id": "f211aa84366dbde7",
   "metadata": {},
   "outputs": [],
   "source": []
  },
  {
   "cell_type": "code",
   "execution_count": null,
   "id": "8c301f891bc5ab9c",
   "metadata": {
    "lines_to_next_cell": 2
   },
   "outputs": [],
   "source": []
  },
  {
   "cell_type": "markdown",
   "id": "e5d46b270b962c53",
   "metadata": {
    "lang": "de",
    "slideshow": {
     "slide_type": "subslide"
    }
   },
   "source": [
    "\n",
    "## Single-Responsibility-Prinzip\n",
    "\n",
    "- Für jede Klasse sollte es nur einen einzigen Grund geben, warum sie geändert\n",
    "  werden muss\n",
    "- Der Name ist nicht ganz korrekt: SRP besagt nicht, dass jede Klasse nur eine\n",
    "  einzige Verantwortung haben darf"
   ]
  },
  {
   "cell_type": "markdown",
   "id": "dbca1ddf0edd5a43",
   "metadata": {
    "lang": "de",
    "slideshow": {
     "slide_type": "subslide"
    }
   },
   "source": [
    "\n",
    "## Eine Verantwortung?\n",
    "\n",
    "<img src=\"img/book_01.png\"\n",
    "     style=\"display:block;margin:auto;width:35%\"/>\n"
   ]
  },
  {
   "cell_type": "markdown",
   "id": "5967943c5a3753e2",
   "metadata": {
    "lang": "de",
    "slideshow": {
     "slide_type": "subslide"
    }
   },
   "source": [
    "\n",
    "## Verletzung des SRPs\n",
    "\n",
    "<img src=\"img/book_02.png\"\n",
    "     style=\"display:block;margin:auto;width:60%\"/>\n"
   ]
  },
  {
   "cell_type": "code",
   "execution_count": null,
   "id": "706bb60c2cffb5d8",
   "metadata": {
    "slideshow": {
     "slide_type": "subslide"
    },
    "tags": [
     "keep"
    ]
   },
   "outputs": [],
   "source": [
    "from dataclasses import dataclass  # noqa: #402"
   ]
  },
  {
   "cell_type": "code",
   "execution_count": null,
   "id": "f252361437734855",
   "metadata": {
    "lines_to_next_cell": 2,
    "tags": [
     "keep"
    ]
   },
   "outputs": [],
   "source": [
    "@dataclass\n",
    "class Book:\n",
    "    title: str\n",
    "    author: str\n",
    "    pages: int\n",
    "\n",
    "    def print(self):\n",
    "        # Lots of code that handles the printer\n",
    "        print(\"Printing to printer.\")\n",
    "\n",
    "    def save(self):\n",
    "        # Lots of code that handles the database\n",
    "        print(\"Saving to database.\")"
   ]
  },
  {
   "cell_type": "markdown",
   "id": "5f1f2162936e233f",
   "metadata": {
    "lang": "de",
    "slideshow": {
     "slide_type": "subslide"
    }
   },
   "source": [
    "\n",
    "## Auflösung der SRP-Verletzung (Version 1)\n",
    "\n",
    "<img src=\"img/book_resolution_1.png\"\n",
    "     style=\"display:block;margin:auto;width:50%\"/>"
   ]
  },
  {
   "cell_type": "markdown",
   "id": "f56f9bb69c031aaa",
   "metadata": {
    "lang": "de",
    "slideshow": {
     "slide_type": "subslide"
    }
   },
   "source": [
    "\n",
    "## Auflösung der SRP-Verletzung (Version 2)\n",
    "\n",
    "<img src=\"img/book_resolution_2.png\"\n",
    "     style=\"display:block;margin:auto;width:80%\"/>"
   ]
  },
  {
   "cell_type": "markdown",
   "id": "fa2fe5c01cfad2ee",
   "metadata": {
    "lang": "de",
    "slideshow": {
     "slide_type": "subslide"
    }
   },
   "source": [
    "\n",
    "## Vergleich\n",
    "\n",
    "<img src=\"img/book_resolution_1.png\"\n",
    "     style=\"display:block;margin:auto;width:45%\"/>\n",
    "<img src=\"img/book_resolution_2.png\"\n",
    "     style=\"display:block;margin:auto;width:45%\"/>"
   ]
  },
  {
   "cell_type": "markdown",
   "id": "a6fe5dac960bd094",
   "metadata": {
    "lang": "de",
    "slideshow": {
     "slide_type": "subslide"
    }
   },
   "source": [
    "\n",
    "## Workshop: Employee\n",
    "\n",
    "Sie haben die folgende Implementierung eines Personal-Management Systems, die\n",
    "mehrere SRP-Verletzungen enthält. Implementieren Sie eine Variante, die diese\n",
    "beseitigt."
   ]
  },
  {
   "cell_type": "markdown",
   "id": "83a2bdc22a2974c1",
   "metadata": {},
   "source": [
    "<img src=\"img/employee_01.png\"\n",
    "     style=\"display:block;margin:auto;width:40%\"/>"
   ]
  },
  {
   "cell_type": "code",
   "execution_count": null,
   "id": "70f9987ea3d29da2",
   "metadata": {
    "lines_to_next_cell": 1,
    "tags": [
     "keep"
    ]
   },
   "outputs": [],
   "source": [
    "from enum import IntEnum"
   ]
  },
  {
   "cell_type": "code",
   "execution_count": null,
   "id": "eae7e08b6683f24d",
   "metadata": {
    "lines_to_next_cell": 0,
    "tags": [
     "keep"
    ]
   },
   "outputs": [],
   "source": [
    "class EmployeeType(IntEnum):\n",
    "    REGULAR = 0\n",
    "    HOURED = 1\n",
    "    COMMISSIONED = 2"
   ]
  },
  {
   "cell_type": "code",
   "execution_count": null,
   "id": "3f5203df18900b5a",
   "metadata": {
    "lines_to_next_cell": 1,
    "tags": [
     "keep"
    ]
   },
   "outputs": [],
   "source": [
    "from dataclasses import dataclass"
   ]
  },
  {
   "cell_type": "code",
   "execution_count": null,
   "id": "f4a1299053db3459",
   "metadata": {
    "lines_to_next_cell": 0,
    "tags": [
     "keep"
    ]
   },
   "outputs": [],
   "source": [
    "@dataclass\n",
    "class Project:\n",
    "    name: str\n",
    "    assets: float"
   ]
  },
  {
   "cell_type": "code",
   "execution_count": null,
   "id": "b3eeeb962f6479a0",
   "metadata": {
    "tags": [
     "keep"
    ]
   },
   "outputs": [],
   "source": [
    "from augurdb import AugurDatabase"
   ]
  },
  {
   "cell_type": "code",
   "execution_count": null,
   "id": "5be223d97bdb6f30",
   "metadata": {
    "lines_to_next_cell": 0,
    "tags": [
     "keep"
    ]
   },
   "outputs": [],
   "source": [
    "@dataclass\n",
    "class EmployeeV0:\n",
    "    id: int\n",
    "    name: str\n",
    "    salary: float\n",
    "    overtime: int\n",
    "    employee_type: EmployeeType\n",
    "    project: Project\n",
    "    database: AugurDatabase\n",
    "\n",
    "    def calculate_pay(self) -> float:\n",
    "        if self.employee_type == EmployeeType.REGULAR:\n",
    "            return self.salary + 60.0 * self.overtime\n",
    "        elif self.employee_type == EmployeeType.COMMISSIONED:\n",
    "            return self.project.assets * 0.1\n",
    "        elif self.employee_type == EmployeeType.HOURED:\n",
    "            return 50.0 * self.overtime\n",
    "        raise ValueError(f\"{self.employee_type} is not valid.\")\n",
    "\n",
    "    def report_hours(self) -> int:\n",
    "        if self.employee_type == EmployeeType.REGULAR:\n",
    "            return 40 + self.overtime\n",
    "        elif self.employee_type == EmployeeType.COMMISSIONED:\n",
    "            # Commissioned employees always work 40 hours\n",
    "            return 40\n",
    "        elif self.employee_type == EmployeeType.HOURED:\n",
    "            # We use overtime for the billed hours\n",
    "            return self.overtime\n",
    "        raise ValueError(f\"{self.employee_type} is not valid.\")\n",
    "\n",
    "    def print_report(self) -> None:\n",
    "        print(f\"{self.name} worked {self.report_hours()} hours.\")\n",
    "\n",
    "    def save_employee(self) -> None:\n",
    "        self.database.start_transaction()\n",
    "        self.database.store_field(self.id, \"name\", self.name)\n",
    "        self.database.store_field(self.id, \"salary\", self.salary)\n",
    "        self.database.store_field(self.id, \"overtime\", self.overtime)\n",
    "        self.database.store_field(self.id, \"employee_type\", self.employee_type)\n",
    "        self.database.store_field(self.id, \"project\", self.project)\n",
    "        self.database.commit_transaction()"
   ]
  },
  {
   "cell_type": "code",
   "execution_count": null,
   "id": "afd95262372158e8",
   "metadata": {
    "tags": [
     "keep"
    ]
   },
   "outputs": [],
   "source": [
    "from pprint import pprint"
   ]
  },
  {
   "cell_type": "code",
   "execution_count": null,
   "id": "5f7927cebdf30846",
   "metadata": {
    "tags": [
     "keep"
    ]
   },
   "outputs": [],
   "source": [
    "p1 = Project(name=\"Project 1\", assets=10_000.0)\n",
    "p2: Project = Project(name=\"Project 2\", assets=12_000.0)"
   ]
  },
  {
   "cell_type": "code",
   "execution_count": null,
   "id": "8e35dbb6c607a87b",
   "metadata": {
    "tags": [
     "keep"
    ]
   },
   "outputs": [],
   "source": [
    "db = AugurDatabase()"
   ]
  },
  {
   "cell_type": "code",
   "execution_count": null,
   "id": "51eada49fe7f4a1d",
   "metadata": {
    "tags": [
     "keep"
    ]
   },
   "outputs": [],
   "source": [
    "e1 = EmployeeV0(\n",
    "    id=123,\n",
    "    name=\"Joe Random\",\n",
    "    salary=1000.0,\n",
    "    overtime=5,\n",
    "    employee_type=EmployeeType.REGULAR,\n",
    "    project=p1,\n",
    "    database=db,\n",
    ")"
   ]
  },
  {
   "cell_type": "code",
   "execution_count": null,
   "id": "383d3bd68160bc57",
   "metadata": {
    "tags": [
     "keep"
    ]
   },
   "outputs": [],
   "source": [
    "e2 = EmployeeV0(\n",
    "    id=124,\n",
    "    name=\"Jane Ransom\",\n",
    "    salary=1500.0,\n",
    "    overtime=43,\n",
    "    employee_type=EmployeeType.HOURED,\n",
    "    project=p1,\n",
    "    database=db,\n",
    ")"
   ]
  },
  {
   "cell_type": "code",
   "execution_count": null,
   "id": "9b6cf61f07d6dfdc",
   "metadata": {
    "tags": [
     "keep"
    ]
   },
   "outputs": [],
   "source": [
    "e3 = EmployeeV0(\n",
    "    id=125,\n",
    "    name=\"Jill Chance\",\n",
    "    salary=2500.0,\n",
    "    overtime=2,\n",
    "    employee_type=EmployeeType.COMMISSIONED,\n",
    "    project=p2,\n",
    "    database=db,\n",
    ")"
   ]
  },
  {
   "cell_type": "code",
   "execution_count": null,
   "id": "7d17df194f01d550",
   "metadata": {
    "tags": [
     "keep"
    ]
   },
   "outputs": [],
   "source": [
    "employees = [e1, e2, e3]"
   ]
  },
  {
   "cell_type": "code",
   "execution_count": null,
   "id": "5f5ed2a387ae04f6",
   "metadata": {
    "tags": [
     "keep"
    ]
   },
   "outputs": [],
   "source": [
    "for e in employees:\n",
    "    print(\"=\" * 35)\n",
    "    print(f\"{e.name} has a salary of {e.calculate_pay():.2f}\")\n",
    "    e.print_report()\n",
    "    e.save_employee()\n",
    "print(\"=\" * 35)"
   ]
  },
  {
   "cell_type": "code",
   "execution_count": null,
   "id": "2936142550a2790b",
   "metadata": {
    "lines_to_next_cell": 0
   },
   "outputs": [],
   "source": []
  },
  {
   "cell_type": "code",
   "execution_count": null,
   "id": "b8b0c3400903c40a",
   "metadata": {},
   "outputs": [],
   "source": []
  },
  {
   "cell_type": "code",
   "execution_count": null,
   "id": "063dd874e39b1251",
   "metadata": {
    "lines_to_next_cell": 1
   },
   "outputs": [],
   "source": []
  },
  {
   "cell_type": "code",
   "execution_count": null,
   "id": "74db976009be58a1",
   "metadata": {
    "lines_to_next_cell": 1
   },
   "outputs": [],
   "source": []
  },
  {
   "cell_type": "code",
   "execution_count": null,
   "id": "3f1cf073c8ac4271",
   "metadata": {
    "lines_to_next_cell": 1
   },
   "outputs": [],
   "source": []
  },
  {
   "cell_type": "code",
   "execution_count": null,
   "id": "d991b9cadf1c4e6a",
   "metadata": {
    "lines_to_next_cell": 0
   },
   "outputs": [],
   "source": []
  },
  {
   "cell_type": "code",
   "execution_count": null,
   "id": "c78d7eeaf531209e",
   "metadata": {},
   "outputs": [],
   "source": []
  },
  {
   "cell_type": "code",
   "execution_count": null,
   "id": "e6f47fd38d12f064",
   "metadata": {},
   "outputs": [],
   "source": []
  },
  {
   "cell_type": "code",
   "execution_count": null,
   "id": "0492ee64178bef36",
   "metadata": {},
   "outputs": [],
   "source": []
  },
  {
   "cell_type": "code",
   "execution_count": null,
   "id": "e5d37e8312d2722f",
   "metadata": {},
   "outputs": [],
   "source": []
  },
  {
   "cell_type": "code",
   "execution_count": null,
   "id": "643a345844caaf69",
   "metadata": {},
   "outputs": [],
   "source": []
  },
  {
   "cell_type": "code",
   "execution_count": null,
   "id": "8554e0927be5552b",
   "metadata": {},
   "outputs": [],
   "source": []
  },
  {
   "cell_type": "code",
   "execution_count": null,
   "id": "d577ad5939a0fdd4",
   "metadata": {},
   "outputs": [],
   "source": []
  },
  {
   "cell_type": "code",
   "execution_count": null,
   "id": "a1d39812ed00b276",
   "metadata": {},
   "outputs": [],
   "source": []
  },
  {
   "cell_type": "code",
   "execution_count": null,
   "id": "61f17701ffa24b88",
   "metadata": {},
   "outputs": [],
   "source": []
  }
 ],
 "metadata": {},
 "nbformat": 4,
 "nbformat_minor": 5
}
