{
 "cells": [
  {
   "cell_type": "markdown",
   "id": "c7daff7ccd065772",
   "metadata": {
    "lang": "de",
    "slideshow": {
     "slide_type": "slide"
    }
   },
   "source": [
    "<img src=\"../../img/python-logo-no-text.svg\"\n",
    "     style=\"display:block;margin:auto;width:10%\"/>\n",
    "<br>\n",
    "<div style=\"text-align:center; font-size:200%;\">\n",
    "  <b>SOLID: Single Responsibility Principle</b>\n",
    "</div>\n",
    "<br/>\n",
    "<div style=\"text-align:center;\">Dr. Matthias Hölzl</div>\n",
    "<br/>\n",
    "<div style=\"text-align:center;\">module_280_solid/topic_120_a3_solid_srp</div>"
   ]
  },
  {
   "cell_type": "markdown",
   "id": "a527901031a71edf",
   "metadata": {
    "lang": "de",
    "slideshow": {
     "slide_type": "slide"
    }
   },
   "source": [
    "\n",
    "# SOLID: Single Responsibility Principle\n",
    "\n",
    "Wie ist der folgende Code zu bewerten?"
   ]
  },
  {
   "cell_type": "code",
   "execution_count": null,
   "id": "723929ddcb3cf8ac",
   "metadata": {
    "tags": [
     "keep"
    ]
   },
   "outputs": [],
   "source": [
    "from typing import NamedTuple"
   ]
  },
  {
   "cell_type": "code",
   "execution_count": null,
   "id": "d3b8b59469e32ce4",
   "metadata": {
    "tags": [
     "keep"
    ]
   },
   "outputs": [],
   "source": [
    "class Point2D(NamedTuple):\n",
    "    x: float\n",
    "    y: float\n",
    "\n",
    "    def move(self, dx: float, dy: float) -> \"Point2D\":\n",
    "        return Point2D(self.x + dx, self.y + dy)"
   ]
  },
  {
   "cell_type": "code",
   "execution_count": null,
   "id": "5441502f42877f5a",
   "metadata": {
    "tags": [
     "keep"
    ]
   },
   "outputs": [],
   "source": [
    "class Figure2d(NamedTuple):\n",
    "    pivot: Point2D\n",
    "    sprite: list[int]\n",
    "    health: float\n",
    "    health_bar: object  # In reality a widget...\n",
    "    database: object  # The connection to the DB\n",
    "\n",
    "    def move(self, dx: float, dy: float) -> None:\n",
    "        ...\n",
    "\n",
    "    def is_player_avatar(self) -> bool:\n",
    "        # Check whether the figure is the player's avatar...\n",
    "        return True\n",
    "\n",
    "    def update_gui(self):\n",
    "        # Update the health bar widget.\n",
    "        ...\n",
    "\n",
    "    def save_to_db(self) -> None:\n",
    "        # Write the figure data to the database.\n",
    "        ..."
   ]
  },
  {
   "cell_type": "code",
   "execution_count": null,
   "id": "f211aa84366dbde7",
   "metadata": {},
   "outputs": [],
   "source": []
  },
  {
   "cell_type": "code",
   "execution_count": null,
   "id": "8c301f891bc5ab9c",
   "metadata": {
    "lines_to_next_cell": 2
   },
   "outputs": [],
   "source": []
  },
  {
   "cell_type": "markdown",
   "id": "e5d46b270b962c53",
   "metadata": {
    "lang": "de",
    "slideshow": {
     "slide_type": "subslide"
    }
   },
   "source": [
    "\n",
    "## Single-Responsibility-Prinzip\n",
    "\n",
    "- Für jede Klasse sollte es nur einen einzigen Grund geben, warum sie geändert\n",
    "  werden muss\n",
    "- Der Name ist nicht ganz korrekt: SRP besagt nicht, dass jede Klasse nur eine\n",
    "  einzige Verantwortung haben darf"
   ]
  },
  {
   "cell_type": "markdown",
   "id": "dbca1ddf0edd5a43",
   "metadata": {
    "lang": "de",
    "slideshow": {
     "slide_type": "subslide"
    }
   },
   "source": [
    "\n",
    "## Eine Verantwortung?\n",
    "\n",
    "<img src=\"img/book_01.png\"\n",
    "     style=\"display:block;margin:auto;width:35%\"/>\n"
   ]
  },
  {
   "cell_type": "markdown",
   "id": "5967943c5a3753e2",
   "metadata": {
    "lang": "de",
    "slideshow": {
     "slide_type": "subslide"
    }
   },
   "source": [
    "\n",
    "## Verletzung des SRPs\n",
    "\n",
    "<img src=\"img/book_02.png\"\n",
    "     style=\"display:block;margin:auto;width:60%\"/>\n"
   ]
  },
  {
   "cell_type": "code",
   "execution_count": null,
   "id": "706bb60c2cffb5d8",
   "metadata": {
    "slideshow": {
     "slide_type": "subslide"
    },
    "tags": [
     "keep"
    ]
   },
   "outputs": [],
   "source": [
    "from dataclasses import dataclass  # noqa: #402"
   ]
  },
  {
   "cell_type": "code",
   "execution_count": null,
   "id": "f252361437734855",
   "metadata": {
    "tags": [
     "keep"
    ]
   },
   "outputs": [],
   "source": [
    "@dataclass\n",
    "class Book:\n",
    "    title: str\n",
    "    author: str\n",
    "    pages: int\n",
    "\n",
    "    def print(self):\n",
    "        # Lots of code that handles the printer\n",
    "        print(\"Printing to printer.\")\n",
    "\n",
    "    def save(self):\n",
    "        # Lots of code that handles the database\n",
    "        print(\"Saving to database.\")"
   ]
  },
  {
   "cell_type": "markdown",
   "id": "5f1f2162936e233f",
   "metadata": {
    "lang": "de",
    "slideshow": {
     "slide_type": "subslide"
    }
   },
   "source": [
    "\n",
    "## Auflösung der SRP-Verletzung (Version 1)\n",
    "\n",
    "<img src=\"img/book_resolution_1.png\"\n",
    "     style=\"display:block;margin:auto;width:50%\"/>"
   ]
  },
  {
   "cell_type": "markdown",
   "id": "f56f9bb69c031aaa",
   "metadata": {
    "lang": "de",
    "slideshow": {
     "slide_type": "subslide"
    }
   },
   "source": [
    "\n",
    "## Auflösung der SRP-Verletzung (Version 2)\n",
    "\n",
    "<img src=\"img/book_resolution_2.png\"\n",
    "     style=\"display:block;margin:auto;width:80%\"/>"
   ]
  },
  {
   "cell_type": "markdown",
   "id": "fa2fe5c01cfad2ee",
   "metadata": {
    "lang": "de",
    "slideshow": {
     "slide_type": "subslide"
    }
   },
   "source": [
    "\n",
    "## Vergleich\n",
    "\n",
    "<img src=\"img/book_resolution_1.png\"\n",
    "     style=\"display:block;margin:auto;width:45%\"/>\n",
    "<img src=\"img/book_resolution_2.png\"\n",
    "     style=\"display:block;margin:auto;width:45%\"/>"
   ]
  },
  {
   "cell_type": "markdown",
   "id": "f0a37ad4100f8aed",
   "metadata": {
    "lang": "de",
    "slideshow": {
     "slide_type": "subslide"
    }
   },
   "source": [
    "\n",
    "## Mini-Workshop: Employee\n",
    "\n",
    "Sie haben die folgende Implementierung eines Personal-Management Systems, die\n",
    "mehrere SRP-Verletzungen enthält. Implementieren Sie eine Variante, die diese\n",
    "beseitigt."
   ]
  },
  {
   "cell_type": "markdown",
   "id": "83a2bdc22a2974c1",
   "metadata": {},
   "source": [
    "<img src=\"img/employee_01.png\"\n",
    "     style=\"display:block;margin:auto;width:40%\"/>"
   ]
  },
  {
   "cell_type": "code",
   "execution_count": null,
   "id": "13978bec487569f9",
   "metadata": {
    "tags": [
     "keep"
    ]
   },
   "outputs": [],
   "source": [
    "from dataclasses import dataclass  # noqa: E402\n",
    "from enum import IntEnum  # noqa: E402"
   ]
  },
  {
   "cell_type": "code",
   "execution_count": null,
   "id": "eae7e08b6683f24d",
   "metadata": {
    "tags": [
     "keep"
    ]
   },
   "outputs": [],
   "source": [
    "class EmployeeType(IntEnum):\n",
    "    REGULAR = 0\n",
    "    HOURED = 1\n",
    "    COMMISSIONED = 2"
   ]
  },
  {
   "cell_type": "code",
   "execution_count": null,
   "id": "f4a1299053db3459",
   "metadata": {
    "tags": [
     "keep"
    ]
   },
   "outputs": [],
   "source": [
    "@dataclass\n",
    "class Project:\n",
    "    name: str\n",
    "    assets: float"
   ]
  },
  {
   "cell_type": "code",
   "execution_count": null,
   "id": "58f9f62560a74730",
   "metadata": {
    "tags": [
     "keep"
    ]
   },
   "outputs": [],
   "source": [
    "@dataclass\n",
    "class AugurDatabase:\n",
    "    def start_transaction(self):\n",
    "        pass\n",
    "\n",
    "    def commit_transaction(self):\n",
    "        pass\n",
    "\n",
    "    def rollback_transaction(self):\n",
    "        pass\n",
    "\n",
    "    def store_field(self, obj_id, name, value):\n",
    "        pass"
   ]
  },
  {
   "cell_type": "code",
   "execution_count": null,
   "id": "c96be0503cf96a8a",
   "metadata": {
    "lines_to_next_cell": 2,
    "tags": [
     "keep"
    ]
   },
   "outputs": [],
   "source": [
    "@dataclass\n",
    "class Employee:\n",
    "    id: int\n",
    "    name: str\n",
    "    salary: float\n",
    "    overtime: int\n",
    "    employee_type: EmployeeType\n",
    "    project: Project\n",
    "    database: AugurDatabase\n",
    "\n",
    "    def calculate_pay(self) -> float:\n",
    "        if self.employee_type == EmployeeType.REGULAR:\n",
    "            return self.salary + 60.0 * self.overtime\n",
    "        elif self.employee_type == EmployeeType.COMMISSIONED:\n",
    "            return self.project.assets * 0.1\n",
    "        elif self.employee_type == EmployeeType.HOURED:\n",
    "            return 50.0 * self.overtime\n",
    "        raise ValueError(f\"{self.employee_type} is not valid.\")\n",
    "\n",
    "    def report_hours(self) -> int:\n",
    "        if self.employee_type == EmployeeType.REGULAR:\n",
    "            return 40 + self.overtime\n",
    "        elif self.employee_type == EmployeeType.COMMISSIONED:\n",
    "            # Commissioned employees always work 40 hours\n",
    "            return 40\n",
    "        elif self.employee_type == EmployeeType.HOURED:\n",
    "            # We use overtime for the billed hours\n",
    "            return self.overtime\n",
    "        raise ValueError(f\"{self.employee_type} is not valid.\")\n",
    "\n",
    "    def print_report(self) -> None:\n",
    "        print(f\"{self.name} worked {self.report_hours()} hours.\")\n",
    "\n",
    "    def save_employee(self) -> None:\n",
    "        self.database.start_transaction()\n",
    "        self.database.store_field(self.id, \"name\", self.name)\n",
    "        self.database.store_field(self.id, \"salary\", self.salary)\n",
    "        self.database.store_field(self.id, \"overtime\", self.overtime)\n",
    "        self.database.store_field(self.id, \"employee_type\", self.employee_type)\n",
    "        self.database.store_field(self.id, \"project\", self.project)\n",
    "        self.database.store_field(self.id, \"database\", self.database)\n",
    "        self.database.commit_transaction()"
   ]
  },
  {
   "cell_type": "code",
   "execution_count": null,
   "id": "6b4e03423667dbb7",
   "metadata": {},
   "outputs": [],
   "source": []
  },
  {
   "cell_type": "code",
   "execution_count": null,
   "id": "b01c4828a65d0124",
   "metadata": {},
   "outputs": [],
   "source": []
  },
  {
   "cell_type": "code",
   "execution_count": null,
   "id": "5d8ccf2ef3830edd",
   "metadata": {},
   "outputs": [],
   "source": []
  },
  {
   "cell_type": "code",
   "execution_count": null,
   "id": "47a8858dd56efa0f",
   "metadata": {},
   "outputs": [],
   "source": []
  },
  {
   "cell_type": "code",
   "execution_count": null,
   "id": "bdd0649c6173e20c",
   "metadata": {},
   "outputs": [],
   "source": []
  },
  {
   "cell_type": "code",
   "execution_count": null,
   "id": "a45dd53667cf3a47",
   "metadata": {},
   "outputs": [],
   "source": []
  }
 ],
 "metadata": {},
 "nbformat": 4,
 "nbformat_minor": 5
}
