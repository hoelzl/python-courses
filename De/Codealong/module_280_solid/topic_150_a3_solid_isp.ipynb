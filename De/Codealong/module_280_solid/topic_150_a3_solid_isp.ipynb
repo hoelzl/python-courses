{
 "cells": [
  {
   "cell_type": "markdown",
   "id": "1a2aabaf0ef117a0",
   "metadata": {
    "lang": "de",
    "slideshow": {
     "slide_type": "slide"
    }
   },
   "source": [
    "<img src=\"../../img/python-logo-no-text.svg\"\n",
    "     style=\"display:block;margin:auto;width:10%\"/>\n",
    "<br>\n",
    "<div style=\"text-align:center; font-size:200%;\">\n",
    " <b>SOLID: Instance Segregation Principle</b>\n",
    "</div>\n",
    "<br/>\n",
    "<div style=\"text-align:center;\">Dr. Matthias Hölzl</div>\n",
    "<br/>\n",
    "<div style=\"text-align:center;\">module_280_solid/topic_150_a3_solid_isp</div>"
   ]
  },
  {
   "cell_type": "markdown",
   "id": "9d04495d9820d9ed",
   "metadata": {
    "lang": "de",
    "slideshow": {
     "slide_type": "slide"
    }
   },
   "source": [
    "\n",
    "# SOLID: Instance Segregation Principle\n",
    "\n",
    "- Kein Client einer Klasse C sollte von Methoden abhängen, die er nicht\n",
    "  benutzt.\n",
    "- Wenn das nicht der Fall ist\n",
    "  - Unterteile die Schnittstelle von C in mehrere unabhängige Schnittstellen.\n",
    "  - Ersetze C in jedem Client durch die vom Client tatsächlich verwendeten\n",
    "    Schnittstellen."
   ]
  }
 ],
 "metadata": {},
 "nbformat": 4,
 "nbformat_minor": 5
}
