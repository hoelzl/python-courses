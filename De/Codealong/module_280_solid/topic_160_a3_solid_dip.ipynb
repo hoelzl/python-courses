{
 "cells": [
  {
   "cell_type": "markdown",
   "id": "10af7521121bd855",
   "metadata": {
    "lang": "de",
    "slideshow": {
     "slide_type": "slide"
    }
   },
   "source": [
    "<img src=\"../../img/python-logo-no-text.svg\"\n",
    "     style=\"display:block;margin:auto;width:10%\"/>\n",
    "<br>\n",
    "<div style=\"text-align:center; font-size:200%;\">\n",
    " <b>SOLID: Dependency Inversion Principle</b>\n",
    "</div>\n",
    "<br/>\n",
    "<div style=\"text-align:center;\">Dr. Matthias Hölzl</div>\n",
    "<br/>\n",
    "<div style=\"text-align:center;\">module_280_solid/topic_160_a3_solid_dip</div>"
   ]
  },
  {
   "cell_type": "markdown",
   "id": "ef1e194af032becf",
   "metadata": {
    "lang": "de",
    "slideshow": {
     "slide_type": "slide"
    }
   },
   "source": [
    "\n",
    "# SOLID: Dependency Inversion Principle"
   ]
  },
  {
   "cell_type": "markdown",
   "id": "a214739d78d35699",
   "metadata": {
    "slideshow": {
     "slide_type": "subslide"
    }
   },
   "source": [
    "\n",
    "<img src=\"img/dip-01.png\"\n",
    "     style=\"display:block;margin:auto;width:95%\"/>"
   ]
  },
  {
   "cell_type": "markdown",
   "id": "999ef1a9f663e746",
   "metadata": {
    "slideshow": {
     "slide_type": "subslide"
    }
   },
   "source": [
    "\n",
    "<img src=\"img/dip-02.png\"\n",
    "     style=\"display:block;margin:auto;width:95%\"/>"
   ]
  },
  {
   "cell_type": "markdown",
   "id": "0b91ecdb2664ac6c",
   "metadata": {
    "slideshow": {
     "slide_type": "subslide"
    }
   },
   "source": [
    "\n",
    "<img src=\"img/dip-03.png\"\n",
    "     style=\"display:block;margin:auto;width:95%\"/>"
   ]
  },
  {
   "cell_type": "markdown",
   "id": "67bec8564736fd0a",
   "metadata": {
    "lang": "de",
    "slideshow": {
     "slide_type": "subslide"
    }
   },
   "source": [
    "\n",
    "## Beispiel"
   ]
  },
  {
   "cell_type": "code",
   "execution_count": null,
   "id": "b5e62afb1da2882f",
   "metadata": {
    "lines_to_next_cell": 1,
    "tags": [
     "keep"
    ]
   },
   "outputs": [],
   "source": [
    "from dataclasses import dataclass\n",
    "from augurdb import AugurDatabase"
   ]
  },
  {
   "cell_type": "code",
   "execution_count": null,
   "id": "701744147e1a160a",
   "metadata": {
    "tags": [
     "keep"
    ]
   },
   "outputs": [],
   "source": [
    "@dataclass\n",
    "class BadEmployee:\n",
    "    id: int\n",
    "    name: str\n",
    "    database: AugurDatabase\n",
    "\n",
    "    def save(self):\n",
    "        self.database.start_transaction()\n",
    "        self.database.store_field(id, \"name\", self.name)\n",
    "        self.database.commit_transaction()"
   ]
  },
  {
   "cell_type": "code",
   "execution_count": null,
   "id": "b7d16c8806e8068b",
   "metadata": {
    "tags": [
     "keep"
    ]
   },
   "outputs": [],
   "source": [
    "db = AugurDatabase()\n",
    "be = BadEmployee(123, \"Joe\", db)"
   ]
  },
  {
   "cell_type": "code",
   "execution_count": null,
   "id": "6a92da96e12e85ff",
   "metadata": {
    "tags": [
     "keep"
    ]
   },
   "outputs": [],
   "source": [
    "be.save()"
   ]
  },
  {
   "cell_type": "code",
   "execution_count": null,
   "id": "358d3acdd9f86a51",
   "metadata": {
    "lines_to_next_cell": 1
   },
   "outputs": [],
   "source": []
  },
  {
   "cell_type": "code",
   "execution_count": null,
   "id": "65b2d845b294703d",
   "metadata": {},
   "outputs": [],
   "source": []
  },
  {
   "cell_type": "code",
   "execution_count": null,
   "id": "2617f70e0361cdf1",
   "metadata": {},
   "outputs": [],
   "source": []
  },
  {
   "cell_type": "code",
   "execution_count": null,
   "id": "d303511dd61e2416",
   "metadata": {},
   "outputs": [],
   "source": []
  }
 ],
 "metadata": {},
 "nbformat": 4,
 "nbformat_minor": 5
}
