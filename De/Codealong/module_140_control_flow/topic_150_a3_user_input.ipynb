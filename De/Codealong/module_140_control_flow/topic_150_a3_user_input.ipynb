{
 "cells": [
  {
   "cell_type": "markdown",
   "id": "0c43eb7f6c597c43",
   "metadata": {
    "lang": "de",
    "slideshow": {
     "slide_type": "slide"
    }
   },
   "source": [
    "<img src=\"../../img/python-logo-no-text.svg\"\n",
    "     style=\"display:block;margin:auto;width:10%\"/>\n",
    "<br>\n",
    "<div style=\"text-align:center; font-size:200%;\">\n",
    "  <b>Benutzereingaben</b>\n",
    "</div>\n",
    "<br/>\n",
    "<div style=\"text-align:center;\">Dr. Matthias Hölzl</div>\n",
    "<br/>\n",
    "<div style=\"text-align:center;\">module_140_control_flow/topic_150_a3_user_input</div>"
   ]
  },
  {
   "cell_type": "markdown",
   "id": "8c216545192fa42d",
   "metadata": {
    "lang": "de",
    "slideshow": {
     "slide_type": "slide"
    }
   },
   "source": [
    "\n",
    " # Benutzereingaben\n",
    "\n",
    " - Die Funktion `input()` erlaubt es dem Benutzer einen Text einzugeben.\n",
    " - Optional kann sie einen Eingabeprompt ausgeben.\n",
    " - Die Funktion gibt den vom Benutzer eingegebenen Text als String zurück."
   ]
  },
  {
   "cell_type": "code",
   "execution_count": 1,
   "id": "804488a647b28d22",
   "metadata": {
    "lines_to_next_cell": 2,
    "tags": [
     "keep"
    ]
   },
   "outputs": [
    {
     "name": "stdout",
     "output_type": "stream",
     "text": [
      "What is your name? Matthias\n"
     ]
    },
    {
     "data": {
      "text/plain": [
       "'Matthias'"
      ]
     },
     "execution_count": 1,
     "metadata": {},
     "output_type": "execute_result"
    }
   ],
   "source": [
    "# input(\"What is your name? \")"
   ]
  },
  {
   "cell_type": "code",
   "execution_count": 2,
   "id": "1a6c16a45aad0943",
   "metadata": {},
   "outputs": [],
   "source": [
    "def query_name():\n",
    "    name = input(\"What is your name? \")\n",
    "    print(\"You entered\", name)"
   ]
  },
  {
   "cell_type": "code",
   "execution_count": 3,
   "id": "ead9803f2b86d2b3",
   "metadata": {
    "tags": [
     "keep"
    ]
   },
   "outputs": [
    {
     "name": "stdout",
     "output_type": "stream",
     "text": [
      "What is your name? Joe\n",
      "You entered Joe\n"
     ]
    }
   ],
   "source": [
    "# query_name()"
   ]
  },
  {
   "cell_type": "markdown",
   "id": "0c4f27d350ef10a2",
   "metadata": {
    "lang": "de",
    "slideshow": {
     "slide_type": "subslide"
    }
   },
   "source": [
    "\n",
    "## Beispiel: Konvertierung von Temperaturen\n",
    "\n",
    "Wir wollen eine Anwendung schreiben, die den Benutzer nach einer Temperatur\n",
    "in Fahrenheit fragt und die entsprechende Temperatur in Grad Celsius\n",
    "zurückgibt."
   ]
  },
  {
   "cell_type": "code",
   "execution_count": 16,
   "id": "72f6d79597084cd1",
   "metadata": {
    "lang": "de"
   },
   "outputs": [],
   "source": [
    "def konvertiere_fahrenheit_nach_celsius(fahrenheit):\n",
    "    return (fahrenheit - 32) * 5 / 9"
   ]
  },
  {
   "cell_type": "code",
   "execution_count": 17,
   "id": "c2a0290a2a4f135a",
   "metadata": {
    "lang": "de"
   },
   "outputs": [],
   "source": [
    "assert konvertiere_fahrenheit_nach_celsius(32) == 0, \"0F sollten 0 Grad Celsius sein\""
   ]
  },
  {
   "cell_type": "code",
   "execution_count": 18,
   "id": "0151ef07d3827efa",
   "metadata": {
    "lang": "de",
    "lines_to_next_cell": 2
   },
   "outputs": [],
   "source": [
    "import math\n",
    "assert math.isclose(konvertiere_fahrenheit_nach_celsius(90), 32.222, abs_tol=0.001)"
   ]
  },
  {
   "cell_type": "code",
   "execution_count": 26,
   "id": "4ad07470c4ac3424",
   "metadata": {
    "lang": "de",
    "lines_to_next_cell": 1
   },
   "outputs": [
    {
     "data": {
      "text/plain": [
       "32.5"
      ]
     },
     "execution_count": 26,
     "metadata": {},
     "output_type": "execute_result"
    }
   ],
   "source": [
    "float(\"32.5\")"
   ]
  },
  {
   "cell_type": "code",
   "execution_count": 27,
   "id": "897de8afd0640236",
   "metadata": {
    "lang": "de",
    "lines_to_next_cell": 2,
    "slideshow": {
     "slide_type": "subslide"
    }
   },
   "outputs": [],
   "source": [
    "def konvertiere_temperatur():\n",
    "    fahrenheit: str = input(\"Bitte geben Sie die Temperatur in Fahrenheit ein: \")\n",
    "    celsius = konvertiere_fahrenheit_nach_celsius(float(fahrenheit))\n",
    "    print(fahrenheit, \"Fahrenheit sind\", celsius, \"Grad Celsius\")"
   ]
  },
  {
   "cell_type": "code",
   "execution_count": 36,
   "id": "c6ec0053a290f57f",
   "metadata": {
    "lang": "de",
    "lines_to_next_cell": 2
   },
   "outputs": [
    {
     "name": "stdout",
     "output_type": "stream",
     "text": [
      "Bitte geben Sie die Temperatur in Fahrenheit ein: 1\n",
      "1 Fahrenheit sind -17.22222222222222 Grad Celsius\n"
     ]
    }
   ],
   "source": [
    "# konvertiere_temperatur()"
   ]
  },
  {
   "cell_type": "markdown",
   "id": "effe663117b56944",
   "metadata": {
    "lang": "de",
    "lines_to_next_cell": 2,
    "slideshow": {
     "slide_type": "subslide"
    }
   },
   "source": [
    "\n",
    " Wir können eine Meldung ausgeben, wenn der Benutzer nichts eingibt (und die\n",
    " Ausgabe etwas schöner gestalten):"
   ]
  },
  {
   "cell_type": "code",
   "execution_count": 33,
   "id": "e5bdab2765a3486c",
   "metadata": {
    "lang": "de",
    "lines_to_next_cell": 1
   },
   "outputs": [],
   "source": [
    "def konvertiere_temperatur():\n",
    "    fahrenheit: str = input(\"Bitte geben Sie die Temperatur in Fahrenheit ein: \")\n",
    "    if fahrenheit:\n",
    "        celsius = konvertiere_fahrenheit_nach_celsius(float(fahrenheit))\n",
    "        print(fahrenheit, \"Fahrenheit sind\", celsius, \"Grad Celsius\")\n",
    "    else:\n",
    "        print(\"Bitte geben Sie eine Temperatur ein.\")"
   ]
  },
  {
   "cell_type": "code",
   "execution_count": 35,
   "id": "6c5ac1cdfd716f70",
   "metadata": {},
   "outputs": [
    {
     "name": "stdout",
     "output_type": "stream",
     "text": [
      "Bitte geben Sie die Temperatur in Fahrenheit ein: \n",
      "Bitte geben Sie eine Temperatur ein.\n"
     ]
    }
   ],
   "source": [
    "# konvertiere_temperatur()"
   ]
  },
  {
   "cell_type": "markdown",
   "id": "ce34cc53ea80c421",
   "metadata": {
    "lang": "de",
    "slideshow": {
     "slide_type": "subslide"
    }
   },
   "source": [
    "\n",
    " ## Mini-Workshop\n",
    "\n",
    " - Notebook `ws_150_user_input`\n",
    " - Abschnitt \"Umrechnung in Meilen\"\n"
   ]
  },
  {
   "cell_type": "code",
   "execution_count": null,
   "id": "80d6df70e72d93a7",
   "metadata": {
    "lang": "de",
    "lines_to_next_cell": 1
   },
   "outputs": [],
   "source": []
  },
  {
   "cell_type": "markdown",
   "id": "cc7f161f38185c80",
   "metadata": {
    "lang": "de",
    "slideshow": {
     "slide_type": "subslide"
    }
   },
   "source": [
    "\n",
    " ## Mini-Workshop\n",
    "\n",
    " - Notebook `ws_150_user_input`\n",
    " - Abschnitt \"Umrechnung in Meilen mit Truthiness\"\n"
   ]
  },
  {
   "cell_type": "markdown",
   "id": "410b24e21c4381e5",
   "metadata": {
    "lang": "de",
    "slideshow": {
     "slide_type": "subslide"
    }
   },
   "source": [
    "\n",
    " ## Extra Mini-Workshop\n",
    "\n",
    " - Notebook `ws_150_user_input`\n",
    " - Abschnitt \"Kino-Preis\"\n"
   ]
  },
  {
   "cell_type": "code",
   "execution_count": null,
   "id": "6b4e03423667dbb7",
   "metadata": {
    "lines_to_next_cell": 2
   },
   "outputs": [],
   "source": []
  }
 ],
 "metadata": {
  "kernelspec": {
   "display_name": "Python 3 (ipykernel)",
   "language": "python",
   "name": "python3"
  },
  "language_info": {
   "codemirror_mode": {
    "name": "ipython",
    "version": 3
   },
   "file_extension": ".py",
   "mimetype": "text/x-python",
   "name": "python",
   "nbconvert_exporter": "python",
   "pygments_lexer": "ipython3",
   "version": "3.10.5"
  }
 },
 "nbformat": 4,
 "nbformat_minor": 5
}
