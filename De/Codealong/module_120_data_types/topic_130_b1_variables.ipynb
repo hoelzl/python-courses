{
 "cells": [
  {
   "cell_type": "markdown",
   "id": "575dd75010861ee3",
   "metadata": {
    "lang": "de",
    "slideshow": {
     "slide_type": "slide"
    }
   },
   "source": [
    "<img src=\"../../img/python-logo-no-text.svg\"\n",
    "     style=\"display:block;margin:auto;width:10%\"/>\n",
    "<br>\n",
    "<div style=\"text-align:center; font-size:200%;\">\n",
    "  <b>Variablen</b>\n",
    "</div>\n",
    "<br/>\n",
    "<div style=\"text-align:center;\">Dr. Matthias Hölzl</div>\n",
    "<br/>\n",
    "<div style=\"text-align:center;\">module_120_data_types/topic_130_b1_variables</div>"
   ]
  },
  {
   "cell_type": "markdown",
   "id": "5976dc58b3c3a35a",
   "metadata": {
    "lang": "de",
    "slideshow": {
     "slide_type": "slide"
    }
   },
   "source": [
    "# Variablen\n",
    "\n",
    "Wir wollen einen Zaun um unser neues Grundstück bauen.\n",
    "\n",
    "<img src=\"img/fence.svg\" style=\"display:block;margin:auto;width:50%\"/>"
   ]
  },
  {
   "cell_type": "markdown",
   "id": "d0f55c0c9401f270",
   "metadata": {
    "lang": "de",
    "slideshow": {
     "slide_type": "subslide"
    }
   },
   "source": [
    "<img src=\"img/fence.svg\" style=\"vertical-align:top;overflow:auto;float:right;width:25%\"/>\n",
    "\n",
    "Die gemessenen Längen sind:\n",
    "- Birkenweg: 20m\n",
    "- Fichtengasse: 30m\n",
    "\n",
    "Wie lange muss unser Zaun sein?"
   ]
  },
  {
   "cell_type": "code",
   "execution_count": 1,
   "id": "1eaa0293d56e1716",
   "metadata": {},
   "outputs": [
    {
     "data": {
      "text/plain": [
       "86.05551275463989"
      ]
     },
     "execution_count": 1,
     "metadata": {},
     "output_type": "execute_result"
    }
   ],
   "source": [
    "20 + 30 + (20 ** 2 + 30 ** 2) ** 0.5"
   ]
  },
  {
   "cell_type": "markdown",
   "id": "ef49b47a44cfb675",
   "metadata": {
    "lang": "de",
    "slideshow": {
     "slide_type": "subslide"
    }
   },
   "source": [
    "<img src=\"img/fence.svg\" style=\"vertical-align:top;overflow:auto;float:right;width:25%\"/>\n",
    "\n",
    "Es ist nicht klar, was die Zahlen in dem vorhergehenden Ausdruck bedeuten. Können wir das besser machen?"
   ]
  },
  {
   "cell_type": "code",
   "execution_count": 4,
   "id": "1a759f3c79801ac2",
   "metadata": {
    "lang": "de"
   },
   "outputs": [
    {
     "data": {
      "text/plain": [
       "86.05551275463989"
      ]
     },
     "execution_count": 4,
     "metadata": {},
     "output_type": "execute_result"
    }
   ],
   "source": [
    "länge_birkenweg = 20\n",
    "länge_fichtengasse = 30\n",
    "länge_hauptstr = (länge_birkenweg ** 2 + länge_fichtengasse ** 2) ** 0.5\n",
    "länge_gesamt = länge_birkenweg + länge_fichtengasse + länge_hauptstr\n",
    "ergebnis = länge_gesamt\n",
    "ergebnis"
   ]
  },
  {
   "cell_type": "markdown",
   "id": "7fd6af5ba7376c24",
   "metadata": {
    "lang": "de",
    "slideshow": {
     "slide_type": "slide"
    }
   },
   "source": [
    "## Genauere Beschreibung von Variablen\n",
    "\n",
    "<img src=\"img/variables-01.svg\" style=\"float:right;margin:auto;width:50%\"/>\n",
    "\n",
    "Eine *Variable* ist\n",
    "- ein <span style=\"color:red;\">\"Verweis\"</span> auf ein \"Objekt\"\n",
    "- der einen <span style=\"color:red;\">Namen</span> hat.\n",
    "\n",
    "<span style=\"color:blue;\">Ein Objekt</span> kann von <span style=\"color:blue;\">mehreren Variablen</span><br/>\n",
    "referenziert werden!"
   ]
  },
  {
   "cell_type": "markdown",
   "id": "aad35c4d0c79e07f",
   "metadata": {
    "lang": "de",
    "slideshow": {
     "slide_type": "subslide"
    }
   },
   "source": [
    "<img src=\"img/variables-01.svg\" style=\"float:right;margin:auto;width:50%\"/>\n",
    "\n",
    "Eine Variable wird\n",
    "- erzeugt durch `name = wert`\n",
    "- gelesen durch `name`\n",
    "- geändert durch `name = wert`\n",
    "\n",
    "Erzeugen und Ändern von Variablen<br/>\n",
    "sind *Anweisungen*."
   ]
  },
  {
   "cell_type": "code",
   "execution_count": 5,
   "id": "79585d3fa77ed3bf",
   "metadata": {
    "lang": "de",
    "slideshow": {
     "slide_type": "slide"
    },
    "tags": [
     "keep"
    ]
   },
   "outputs": [
    {
     "name": "stdout",
     "output_type": "stream",
     "text": [
      "20\n",
      "25\n"
     ]
    }
   ],
   "source": [
    "länge_birkenweg = 20\n",
    "print(länge_birkenweg)\n",
    "länge_birkenweg = 25\n",
    "print(länge_birkenweg)"
   ]
  },
  {
   "cell_type": "markdown",
   "id": "dc15bf9f499692e1",
   "metadata": {
    "lang": "de",
    "slideshow": {
     "slide_type": "slide"
    }
   },
   "source": [
    "## Eigenschaften von Variablen in Python\n",
    "\n",
    "- Eine Variable kann Werte mit beliebigem Datentyp speichern\n",
    "    - Es gibt keine `int`-Variablen, etc.\n",
    "    - Man sagt: Python ist dynamisch getypt\n",
    "- Variablen müssen erzeugt worden sein, bevor sie verwendet werden\n",
    "- Man kann Variablen neue Werte zuweisen\n",
    "    - Dabei kann der *alte Wert* der Variablen auf der rechten Seite verwendet werden:<br/> `jobs = jobs + 1`"
   ]
  },
  {
   "cell_type": "code",
   "execution_count": 6,
   "id": "548d398f39e9c7f8",
   "metadata": {
    "slideshow": {
     "slide_type": "subslide"
    },
    "tags": [
     "keep"
    ]
   },
   "outputs": [
    {
     "name": "stdout",
     "output_type": "stream",
     "text": [
      "Hallo!\n",
      "123\n",
      "124\n",
      "125\n"
     ]
    }
   ],
   "source": [
    "x = \"Hallo!\"\n",
    "print(x)\n",
    "x = 123\n",
    "print(x)\n",
    "x = x + 1\n",
    "print(x)\n",
    "x += 1\n",
    "print(x)"
   ]
  },
  {
   "cell_type": "code",
   "execution_count": 7,
   "id": "7d21dc1395c37a54",
   "metadata": {
    "lines_to_next_cell": 2,
    "slideshow": {
     "slide_type": "subslide"
    },
    "tags": [
     "keep"
    ]
   },
   "outputs": [
    {
     "ename": "NameError",
     "evalue": "name 'diese_variable_gibt_es_nicht' is not defined",
     "output_type": "error",
     "traceback": [
      "\u001b[1;31m---------------------------------------------------------------------------\u001b[0m",
      "\u001b[1;31mNameError\u001b[0m                                 Traceback (most recent call last)",
      "Input \u001b[1;32mIn [7]\u001b[0m, in \u001b[0;36m<cell line: 1>\u001b[1;34m()\u001b[0m\n\u001b[1;32m----> 1\u001b[0m \u001b[38;5;28mprint\u001b[39m(\u001b[43mdiese_variable_gibt_es_nicht\u001b[49m)\n",
      "\u001b[1;31mNameError\u001b[0m: name 'diese_variable_gibt_es_nicht' is not defined"
     ]
    }
   ],
   "source": [
    "# print(diese_variable_gibt_es_nicht)"
   ]
  },
  {
   "cell_type": "code",
   "execution_count": 8,
   "id": "2c49e905adf48770",
   "metadata": {
    "lines_to_next_cell": 2
   },
   "outputs": [
    {
     "ename": "NameError",
     "evalue": "name 'nono' is not defined",
     "output_type": "error",
     "traceback": [
      "\u001b[1;31m---------------------------------------------------------------------------\u001b[0m",
      "\u001b[1;31mNameError\u001b[0m                                 Traceback (most recent call last)",
      "Input \u001b[1;32mIn [8]\u001b[0m, in \u001b[0;36m<cell line: 1>\u001b[1;34m()\u001b[0m\n\u001b[1;32m----> 1\u001b[0m nono \u001b[38;5;241m=\u001b[39m \u001b[38;5;241m1\u001b[39m \u001b[38;5;241m+\u001b[39m \u001b[43mnono\u001b[49m\n",
      "\u001b[1;31mNameError\u001b[0m: name 'nono' is not defined"
     ]
    }
   ],
   "source": [
    "nono = 1 + nono"
   ]
  },
  {
   "cell_type": "markdown",
   "id": "d5b45477130cd066",
   "metadata": {
    "lang": "de",
    "slideshow": {
     "slide_type": "slide"
    }
   },
   "source": [
    "## Variablennamen in Python\n",
    "\n",
    "- Fangen mit einem Buchstaben oder Unterstrich `_` an\n",
    "    - Umlaute gelten auch als Buchstaben\n",
    "- Können Ziffern, Buchstaben und Unterstriche `_` enthalten\n",
    "- Können viele andere Unicode-Zeichen enthalten\n",
    "    - Es ist aber meist besser, das zu vermeiden...\n",
    "- Groß- und Kleinschreibung wird unterschieden\n",
    "    - `A` ist eine andere Variable als `a`\n"
   ]
  },
  {
   "cell_type": "markdown",
   "id": "57af4d385ff5de2f",
   "metadata": {
    "lang": "de",
    "slideshow": {
     "slide_type": "subslide"
    }
   },
   "source": [
    "### Stil\n",
    "\n",
    "- Variablennamen werden klein geschrieben\n",
    "    - Außer konstanten Variablen: `CONSTANT_VAR`\n",
    "- Bestandteile werden durch Unterstriche `_` getrennt\n",
    "    - Dieser Stil nennt sich Snake-Case\n",
    "- Variablen, die mit zwei Unterstrichen anfangen und aufhören haben\n",
    "  typischerweise eine spezielle Bedeutung (*Dunders*):\n",
    "    - `__class__`, `__name__`\n",
    "    - Normale benutzerdefinierte Variablen sollten nicht als Dunders benannt\n",
    "      werden"
   ]
  },
  {
   "cell_type": "code",
   "execution_count": 10,
   "id": "0cad2b651a3b9e0c",
   "metadata": {
    "slideshow": {
     "slide_type": "subslide"
    }
   },
   "outputs": [
    {
     "name": "stdout",
     "output_type": "stream",
     "text": [
      "__main__\n",
      "<class 'str'>\n"
     ]
    }
   ],
   "source": [
    "print(__name__)\n",
    "print(type(__name__))"
   ]
  },
  {
   "cell_type": "markdown",
   "id": "58c2861ebced2818",
   "metadata": {
    "lang": "de",
    "lines_to_next_cell": 2
   },
   "source": [
    "\n",
    "**Bitte nicht nachmachen, obwohl es möglich ist:**"
   ]
  },
  {
   "cell_type": "code",
   "execution_count": 11,
   "id": "c6b6e43364815c04",
   "metadata": {},
   "outputs": [],
   "source": [
    "__my_var__ = 123"
   ]
  },
  {
   "cell_type": "code",
   "execution_count": 12,
   "id": "ea4a3bfd2b99e780",
   "metadata": {},
   "outputs": [
    {
     "data": {
      "text/plain": [
       "123"
      ]
     },
     "execution_count": 12,
     "metadata": {},
     "output_type": "execute_result"
    }
   ],
   "source": [
    "__my_var__"
   ]
  },
  {
   "cell_type": "markdown",
   "id": "0df2f1985f922276",
   "metadata": {
    "lang": "de",
    "slideshow": {
     "slide_type": "subslide"
    }
   },
   "source": [
    "- Manchmal werden \"private\" Variablen mit einem führenden Unterstrich\n",
    "  geschrieben: `_my_var`\n",
    "    - Das ist (für globale Variablen) besonders in älterem Code verbreitet\n",
    "    - In Klassen gibt es weitere Konventionen\n",
    "- Die meisten Python-Projekte folgen den Konventionen in\n",
    "  [PEP 8](https://www.python.org/dev/peps/pep-0008/#naming-conventions)"
   ]
  },
  {
   "cell_type": "code",
   "execution_count": 13,
   "id": "7ab59ab78cf957f8",
   "metadata": {},
   "outputs": [],
   "source": [
    "_my_var = 123"
   ]
  },
  {
   "cell_type": "code",
   "execution_count": null,
   "id": "e034ecb25790f39a",
   "metadata": {},
   "outputs": [],
   "source": []
  },
  {
   "cell_type": "code",
   "execution_count": 14,
   "id": "874fafb5d6bd9725",
   "metadata": {
    "slideshow": {
     "slide_type": "subslide"
    },
    "tags": [
     "keep"
    ]
   },
   "outputs": [],
   "source": [
    "variable_1 = 123\n",
    "VARIABLE_1 = 234\n",
    "Variable_1 = 345\n",
    "variablE_1 = 456"
   ]
  },
  {
   "cell_type": "code",
   "execution_count": 15,
   "id": "0d369380d57ac5ce",
   "metadata": {
    "tags": [
     "keep"
    ]
   },
   "outputs": [
    {
     "name": "stdout",
     "output_type": "stream",
     "text": [
      "123\n",
      "234\n",
      "345\n",
      "456\n"
     ]
    }
   ],
   "source": [
    "print(variable_1)\n",
    "print(VARIABLE_1)\n",
    "print(Variable_1)\n",
    "print(variablE_1)"
   ]
  },
  {
   "cell_type": "code",
   "execution_count": 16,
   "id": "2a615dfcf41a8722",
   "metadata": {
    "slideshow": {
     "slide_type": "subslide"
    },
    "tags": [
     "keep"
    ]
   },
   "outputs": [
    {
     "name": "stdout",
     "output_type": "stream",
     "text": [
      "1\n",
      "6\n"
     ]
    }
   ],
   "source": [
    "_my_var = 1\n",
    "print(_my_var)\n",
    "_my_var = _my_var + 5\n",
    "print(_my_var)"
   ]
  },
  {
   "cell_type": "code",
   "execution_count": 19,
   "id": "ffaeee313bd7ba92",
   "metadata": {
    "slideshow": {
     "slide_type": "subslide"
    },
    "tags": [
     "keep"
    ]
   },
   "outputs": [
    {
     "data": {
      "text/plain": [
       "0.3"
      ]
     },
     "execution_count": 19,
     "metadata": {},
     "output_type": "execute_result"
    }
   ],
   "source": [
    "größenmaßstäbe_der_fußgängerübergänge = 0.3\n",
    "größenmaßstäbe_der_fußgängerübergänge"
   ]
  },
  {
   "cell_type": "code",
   "execution_count": 20,
   "id": "3255176c",
   "metadata": {},
   "outputs": [],
   "source": [
    "greeting = 3"
   ]
  },
  {
   "cell_type": "code",
   "execution_count": null,
   "id": "8ed91f34",
   "metadata": {},
   "outputs": [],
   "source": []
  },
  {
   "cell_type": "code",
   "execution_count": 18,
   "id": "9abf43891c400b8f",
   "metadata": {
    "lines_to_next_cell": 2,
    "tags": [
     "keep"
    ]
   },
   "outputs": [
    {
     "ename": "SyntaxError",
     "evalue": "cannot assign to expression here. Maybe you meant '==' instead of '='? (3011915128.py, line 1)",
     "output_type": "error",
     "traceback": [
      "\u001b[1;36m  Input \u001b[1;32mIn [18]\u001b[1;36m\u001b[0m\n\u001b[1;33m    me@foo = 1\u001b[0m\n\u001b[1;37m    ^\u001b[0m\n\u001b[1;31mSyntaxError\u001b[0m\u001b[1;31m:\u001b[0m cannot assign to expression here. Maybe you meant '==' instead of '='?\n"
     ]
    }
   ],
   "source": [
    "# me@foo = 1"
   ]
  },
  {
   "cell_type": "code",
   "execution_count": 23,
   "id": "4951a9db55fea11c",
   "metadata": {
    "lines_to_next_cell": 2,
    "slideshow": {
     "slide_type": "subslide"
    },
    "tags": [
     "keep"
    ]
   },
   "outputs": [
    {
     "name": "stdout",
     "output_type": "stream",
     "text": [
      "1.5099999999999998\n",
      "0.21139999999999995\n",
      "6\n"
     ]
    }
   ],
   "source": [
    "α = 0.2\n",
    "β = 0.7\n",
    "γ = α**2 + 3 * β**2\n",
    "print(γ)\n",
    "αβγ = α * β * γ\n",
    "print(αβγ)\n",
    "Σ = 1 + 2 + 3\n",
    "print(Σ)\n",
    "# ∑ = 1 + 2 + 3 # Unzulässig!"
   ]
  },
  {
   "cell_type": "markdown",
   "id": "67b64bbf2b48338e",
   "metadata": {
    "lang": "de",
    "slideshow": {
     "slide_type": "subslide"
    }
   },
   "source": [
    "## Mini-Workshop\n",
    "\n",
    "- Notebook `ws_130_variables`\n",
    "- Abschnitt \"Piraten\""
   ]
  },
  {
   "cell_type": "markdown",
   "id": "82116d91faea697e",
   "metadata": {
    "lang": "de",
    "slideshow": {
     "slide_type": "slide"
    }
   },
   "source": [
    "## Zuweisung an mehrere Variablen\n",
    "\n",
    "In Python können mehrere Variablen gleichzeitig definiert bzw. mit neuen\n",
    "Werten versehen werden:"
   ]
  },
  {
   "cell_type": "code",
   "execution_count": 27,
   "id": "4f276daf3ab20253",
   "metadata": {},
   "outputs": [
    {
     "name": "stdout",
     "output_type": "stream",
     "text": [
      "1\n",
      "2\n"
     ]
    }
   ],
   "source": [
    "a, b = 1, 2\n",
    "print(a)\n",
    "print(b)"
   ]
  },
  {
   "cell_type": "code",
   "execution_count": null,
   "id": "4cc06076",
   "metadata": {},
   "outputs": [],
   "source": []
  }
 ],
 "metadata": {
  "kernelspec": {
   "display_name": "Python 3 (ipykernel)",
   "language": "python",
   "name": "python3"
  },
  "language_info": {
   "codemirror_mode": {
    "name": "ipython",
    "version": 3
   },
   "file_extension": ".py",
   "mimetype": "text/x-python",
   "name": "python",
   "nbconvert_exporter": "python",
   "pygments_lexer": "ipython3",
   "version": "3.10.5"
  }
 },
 "nbformat": 4,
 "nbformat_minor": 5
}
