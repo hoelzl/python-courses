{
 "cells": [
  {
   "cell_type": "markdown",
   "id": "2a9e0a53b3969dc1",
   "metadata": {
    "lang": "de",
    "slideshow": {
     "slide_type": "slide"
    }
   },
   "source": [
    "<img src=\"../../img/python-logo-no-text.svg\"\n",
    "     style=\"display:block;margin:auto;width:10%\"/>\n",
    "<br>\n",
    "<div style=\"text-align:center; font-size:200%;\">\n",
    "  <b>Der Wert `None`</b>\n",
    "</div>\n",
    "<br/>\n",
    "<div style=\"text-align:center;\">Dr. Matthias Hölzl</div>\n",
    "<br/>\n",
    "<div style=\"text-align:center;\">module_120_data_types/topic_160_b1_none</div>"
   ]
  },
  {
   "cell_type": "markdown",
   "id": "f69da9fc88eeea69",
   "metadata": {
    "lang": "de",
    "lines_to_next_cell": 2,
    "slideshow": {
     "slide_type": "slide"
    }
   },
   "source": [
    "\n",
    "### Der Wert `None`\n",
    "\n",
    "`None` ist ein Wert, der von Python verwendet wird, um das Fehlen eines\n",
    "sinnvollen Wertes anzuzeigen. Jupyter druckt `None` nicht als Wert einer Zelle\n",
    "aus:"
   ]
  },
  {
   "cell_type": "code",
   "execution_count": null,
   "id": "876504d6d3774aa5",
   "metadata": {},
   "outputs": [],
   "source": []
  },
  {
   "cell_type": "code",
   "execution_count": null,
   "id": "41e84868b4a59129",
   "metadata": {},
   "outputs": [],
   "source": []
  },
  {
   "cell_type": "code",
   "execution_count": null,
   "id": "e7aa7d82022bd035",
   "metadata": {},
   "outputs": [],
   "source": []
  },
  {
   "cell_type": "code",
   "execution_count": null,
   "id": "ecb429b02b302586",
   "metadata": {},
   "outputs": [],
   "source": []
  },
  {
   "cell_type": "code",
   "execution_count": null,
   "id": "7a6b7f28f2a5c98d",
   "metadata": {},
   "outputs": [],
   "source": []
  },
  {
   "cell_type": "markdown",
   "id": "ad859b2db93ddfb2",
   "metadata": {
    "lang": "de"
   },
   "source": [
    "\n",
    "Um auf `None` zu testen wird oft der Operator `is` verwendet."
   ]
  },
  {
   "cell_type": "code",
   "execution_count": null,
   "id": "adb059d30ff09c9c",
   "metadata": {},
   "outputs": [],
   "source": []
  },
  {
   "cell_type": "markdown",
   "id": "f6f1bba0d015f9a1",
   "metadata": {
    "lang": "de"
   },
   "source": [
    "\n",
    "`is` testet Objektidentität und ist im Allgemeinen nicht mit `==`\n",
    "austauschbar."
   ]
  }
 ],
 "metadata": {
  "kernelspec": {
   "display_name": "Python 3 (ipykernel)",
   "language": "python",
   "name": "python3"
  }
 },
 "nbformat": 4,
 "nbformat_minor": 5
}
