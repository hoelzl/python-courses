{
 "cells": [
  {
   "cell_type": "markdown",
   "id": "130496ac",
   "metadata": {
    "lang": "de",
    "slideshow": {
     "slide_type": "slide"
    }
   },
   "source": [
    "<img src=\"img/python-logo-notext.svg\"\n",
    "     style=\"display:block;margin:auto;width:10%\"/>\n",
    "<br>\n",
    "<div style=\"text-align:center; font-size:200%;\"><b>Generator-Funktionen und Coroutinen</b></div>\n",
    "<br/>\n",
    "<div style=\"text-align:center;\">Dr. Matthias Hölzl</div>"
   ]
  },
  {
   "cell_type": "markdown",
   "id": "1adf08f7",
   "metadata": {
    "lang": "de",
    "slideshow": {
     "slide_type": "slide"
    }
   },
   "source": [
    "## Generator Funktionen\n",
    "\n",
    "Komplexere Fälle können von Generator Expressions nicht mehr abgedeckt werden.\n",
    "\n",
    "- Generator, der alle Zahlen erzeugt (ohne Obergrenze)\n",
    "- Generator, der ein Iterable modifiziert (z.B. mehrfach ausführt, eine fixe Anzahl an Elementen nimmt)\n",
    "\n",
    "Für diese Fälle gibt es Generator-Funktionen"
   ]
  },
  {
   "cell_type": "markdown",
   "id": "cf98f1fe",
   "metadata": {
    "lang": "de",
    "slideshow": {
     "slide_type": "subslide"
    }
   },
   "source": [
    "\n",
    "Mit dem Schlüsselwort `yield` kann eine Funktion \"mehrere Werte zurückgeben\".\n",
    "Eine Funktion, die `yield` in ihrem Rumpf verwendet, wird Generator-Funktion\n",
    "genannt. Ein Aufruf einer Generatorfunktion wertet nicht den Rumpf der\n",
    "Funktion aus, sondern es wird ein *Generator* zurückgegeben, der mehremals\n",
    "einen Wert zurückgeben kann:"
   ]
  },
  {
   "cell_type": "code",
   "execution_count": null,
   "id": "1bf55ea5",
   "metadata": {},
   "outputs": [],
   "source": []
  },
  {
   "cell_type": "code",
   "execution_count": null,
   "id": "ba5407eb",
   "metadata": {},
   "outputs": [],
   "source": []
  },
  {
   "cell_type": "code",
   "execution_count": null,
   "id": "8c4d6af6",
   "metadata": {
    "slideshow": {
     "slide_type": "subslide"
    }
   },
   "outputs": [],
   "source": []
  },
  {
   "cell_type": "code",
   "execution_count": null,
   "id": "e0f388fc",
   "metadata": {},
   "outputs": [],
   "source": []
  },
  {
   "cell_type": "code",
   "execution_count": null,
   "id": "bb715b6e",
   "metadata": {},
   "outputs": [],
   "source": []
  },
  {
   "cell_type": "code",
   "execution_count": null,
   "id": "72576f54",
   "metadata": {
    "slideshow": {
     "slide_type": "subslide"
    }
   },
   "outputs": [],
   "source": []
  },
  {
   "cell_type": "markdown",
   "id": "a3232f83",
   "metadata": {
    "lang": "de",
    "slideshow": {
     "slide_type": "subslide"
    }
   },
   "source": [
    "\n",
    "Schreiben Sie eine Generatorfunktion `one_based_range(n)`, die `range(n)` für\n",
    "ein Argument simuliert, aber von 1 bis einschließlich `n` iteriert."
   ]
  },
  {
   "cell_type": "code",
   "execution_count": null,
   "id": "fe79dc5b",
   "metadata": {},
   "outputs": [],
   "source": []
  },
  {
   "cell_type": "code",
   "execution_count": null,
   "id": "8d23ab63",
   "metadata": {
    "lines_to_next_cell": 1,
    "tags": [
     "keep"
    ]
   },
   "outputs": [],
   "source": [
    "assert [num for num in one_based_range(4)] == [1, 2, 3, 4]"
   ]
  },
  {
   "cell_type": "markdown",
   "id": "7380f789",
   "metadata": {
    "lang": "de"
   },
   "source": [
    "\n",
    "Schreiben Sie eine Generatorfunktion `inklusive_range()`, die die komplette\n",
    "Funktionalität von `range()` simuliert (d.h. die mit einem, zwei oder drei\n",
    "Argumenten aufgerufen werden kann), aber ihre obere Grenze einschließt und die\n",
    "Iteration von 1 beginnt, wenn keine untere Grenze angegeben wird.\n",
    "\n",
    "Stellen Sie sicher, dass Ihre Implementierung die vorgegebenen Testfälle\n",
    "erfüllt."
   ]
  },
  {
   "cell_type": "code",
   "execution_count": null,
   "id": "08d0eb2c",
   "metadata": {},
   "outputs": [],
   "source": []
  },
  {
   "cell_type": "code",
   "execution_count": null,
   "id": "40efcb41",
   "metadata": {
    "tags": [
     "keep"
    ]
   },
   "outputs": [],
   "source": [
    "assert [num for num in inclusive_range(3)] == [1, 2, 3]"
   ]
  },
  {
   "cell_type": "code",
   "execution_count": null,
   "id": "c9b44a32",
   "metadata": {
    "tags": [
     "keep"
    ]
   },
   "outputs": [],
   "source": [
    "assert [num for num in inclusive_range(2, 4)] == [2, 3, 4]"
   ]
  },
  {
   "cell_type": "code",
   "execution_count": null,
   "id": "01f6021c",
   "metadata": {
    "tags": [
     "keep"
    ]
   },
   "outputs": [],
   "source": [
    "assert [num for num in inclusive_range(2, 2)] == [2]"
   ]
  },
  {
   "cell_type": "code",
   "execution_count": null,
   "id": "a4ec470c",
   "metadata": {
    "tags": [
     "keep"
    ]
   },
   "outputs": [],
   "source": [
    "assert [num for num in inclusive_range(2, 1)] == []"
   ]
  },
  {
   "cell_type": "code",
   "execution_count": null,
   "id": "c520ade8",
   "metadata": {
    "lines_to_next_cell": 1,
    "tags": [
     "keep"
    ]
   },
   "outputs": [],
   "source": [
    "assert [num for num in inclusive_range(2, 6, 2)] == [2, 4, 6]"
   ]
  },
  {
   "cell_type": "markdown",
   "id": "8a7d4729",
   "metadata": {
    "lang": "de",
    "slideshow": {
     "slide_type": "subslide"
    }
   },
   "source": [
    "\n",
    "Wir können Generatorfunktionen verwenden, um Funktionen zu schreiben, die\n",
    "Iteratoren verarbeiten. Beispielsweise nummt die Generatorfunktion `take()`\n",
    "eine feste Anzahl von Werten von einem Iterator:"
   ]
  },
  {
   "cell_type": "code",
   "execution_count": null,
   "id": "f3488aea",
   "metadata": {},
   "outputs": [],
   "source": []
  },
  {
   "cell_type": "code",
   "execution_count": null,
   "id": "04d55599",
   "metadata": {
    "lines_to_next_cell": 1
   },
   "outputs": [],
   "source": []
  },
  {
   "cell_type": "markdown",
   "id": "69b45b3c",
   "metadata": {
    "lang": "de",
    "slideshow": {
     "slide_type": "subslide"
    }
   },
   "source": [
    "\n",
    "Beachten Sie, dass die Funktion `drop()`, die die ersten `n` Elemente eines\n",
    "Iterators entfernt, keine Generatorfunktion, sondern eine reguläre Funktion\n",
    "ist:"
   ]
  },
  {
   "cell_type": "code",
   "execution_count": null,
   "id": "7162a7c7",
   "metadata": {},
   "outputs": [],
   "source": []
  },
  {
   "cell_type": "code",
   "execution_count": null,
   "id": "ed975ae2",
   "metadata": {
    "lines_to_next_cell": 1
   },
   "outputs": [],
   "source": []
  },
  {
   "cell_type": "markdown",
   "id": "241268d6",
   "metadata": {
    "lang": "de",
    "slideshow": {
     "slide_type": "subslide"
    }
   },
   "source": [
    "\n",
    "Mit Generatorfunktionen können wir auch komplexere Iterationsoperationen\n",
    "definieren:"
   ]
  },
  {
   "cell_type": "code",
   "execution_count": null,
   "id": "24abe2ad",
   "metadata": {},
   "outputs": [],
   "source": []
  },
  {
   "cell_type": "code",
   "execution_count": null,
   "id": "e4535f89",
   "metadata": {},
   "outputs": [],
   "source": []
  },
  {
   "cell_type": "markdown",
   "id": "80ab618d",
   "metadata": {
    "lang": "de",
    "lines_to_next_cell": 2,
    "slideshow": {
     "slide_type": "slide"
    }
   },
   "source": [
    "\n",
    "# Coroutinen\n",
    "\n",
    "`yield` kann auch verwendet werden, um einen Wert an die Stelle zurückzugeben,\n",
    "an der es \"aufgerufen\" wird. In diesem Fall nennen wir den Generator auch eine\n",
    "*Coroutine*.\n",
    "\n",
    "Coroutinen sind nützliche Bausteine für Features wie z.B. kooperatives\n",
    "Multitasking oder Event-basierte Programmierung.\n",
    "\n",
    "Um eine Coroutine `c` zu starten, rufen wir die Methode `c.send(None)` auf.\n",
    "Zum Senden nachfolgender Werte verwenden wir `c.send(value)`.\n"
   ]
  },
  {
   "cell_type": "code",
   "execution_count": null,
   "id": "663737be",
   "metadata": {
    "slideshow": {
     "slide_type": "subslide"
    }
   },
   "outputs": [],
   "source": []
  },
  {
   "cell_type": "code",
   "execution_count": null,
   "id": "40215d92",
   "metadata": {},
   "outputs": [],
   "source": []
  },
  {
   "cell_type": "code",
   "execution_count": null,
   "id": "7ef23328",
   "metadata": {},
   "outputs": [],
   "source": []
  },
  {
   "cell_type": "code",
   "execution_count": null,
   "id": "23b567d1",
   "metadata": {},
   "outputs": [],
   "source": []
  },
  {
   "cell_type": "code",
   "execution_count": null,
   "id": "64f0434b",
   "metadata": {},
   "outputs": [],
   "source": []
  },
  {
   "cell_type": "code",
   "execution_count": null,
   "id": "9cfc0e23",
   "metadata": {
    "lines_to_next_cell": 1
   },
   "outputs": [],
   "source": []
  },
  {
   "cell_type": "code",
   "execution_count": null,
   "id": "6f600eb7",
   "metadata": {
    "slideshow": {
     "slide_type": "subslide"
    }
   },
   "outputs": [],
   "source": []
  },
  {
   "cell_type": "code",
   "execution_count": null,
   "id": "fe937d33",
   "metadata": {},
   "outputs": [],
   "source": []
  },
  {
   "cell_type": "code",
   "execution_count": null,
   "id": "aa8b3580",
   "metadata": {},
   "outputs": [],
   "source": []
  },
  {
   "cell_type": "code",
   "execution_count": null,
   "id": "d1966a8c",
   "metadata": {},
   "outputs": [],
   "source": []
  },
  {
   "cell_type": "code",
   "execution_count": null,
   "id": "1e97b5bd",
   "metadata": {},
   "outputs": [],
   "source": []
  }
 ],
 "metadata": {
  "kernelspec": {
   "display_name": "Python 3 (ipykernel)",
   "language": "python",
   "name": "python3"
  }
 },
 "nbformat": 4,
 "nbformat_minor": 5
}
