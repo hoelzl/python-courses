{
 "cells": [
  {
   "cell_type": "markdown",
   "id": "296ffa67",
   "metadata": {
    "lang": "de",
    "slideshow": {
     "slide_type": "slide"
    }
   },
   "source": [
    "<img src=\"img/python-logo-notext.svg\"\n",
    "     style=\"display:block;margin:auto;width:10%\"/>\n",
    "<br>\n",
    "<div style=\"text-align:center; font-size:200%;\"><b>Generator-Funktionen und Coroutinen</b></div>\n",
    "<br/>\n",
    "<div style=\"text-align:center;\">Dr. Matthias Hölzl</div>"
   ]
  },
  {
   "cell_type": "markdown",
   "id": "f8b91976",
   "metadata": {
    "lang": "de",
    "slideshow": {
     "slide_type": "slide"
    }
   },
   "source": [
    "## Generator Funktionen\n",
    "\n",
    "Komplexere Fälle können von Generator Expressions nicht mehr abgedeckt werden.\n",
    "\n",
    "- Generator, der alle Zahlen erzeugt (ohne Obergrenze)\n",
    "- Generator, der ein Iterable modifiziert (z.B. mehrfach ausführt, eine fixe Anzahl an Elementen nimmt)\n",
    "\n",
    "Für diese Fälle gibt es Generator-Funktionen"
   ]
  },
  {
   "cell_type": "markdown",
   "id": "aeb7befe",
   "metadata": {
    "lang": "de",
    "slideshow": {
     "slide_type": "subslide"
    }
   },
   "source": [
    "\n",
    "Mit dem Schlüsselwort `yield` kann eine Funktion \"mehrere Werte zurückgeben\".\n",
    "Eine Funktion, die `yield` in ihrem Rumpf verwendet, wird Generator-Funktion\n",
    "genannt. Ein Aufruf einer Generatorfunktion wertet nicht den Rumpf der\n",
    "Funktion aus, sondern es wird ein *Generator* zurückgegeben, der mehremals\n",
    "einen Wert zurückgeben kann:"
   ]
  },
  {
   "cell_type": "code",
   "execution_count": null,
   "id": "587e3ba8",
   "metadata": {},
   "outputs": [],
   "source": []
  },
  {
   "cell_type": "code",
   "execution_count": null,
   "id": "05eafa9e",
   "metadata": {},
   "outputs": [],
   "source": []
  },
  {
   "cell_type": "code",
   "execution_count": null,
   "id": "7f3e4808",
   "metadata": {
    "slideshow": {
     "slide_type": "subslide"
    }
   },
   "outputs": [],
   "source": []
  },
  {
   "cell_type": "code",
   "execution_count": null,
   "id": "7c290fd2",
   "metadata": {},
   "outputs": [],
   "source": []
  },
  {
   "cell_type": "code",
   "execution_count": null,
   "id": "82c28009",
   "metadata": {},
   "outputs": [],
   "source": []
  },
  {
   "cell_type": "code",
   "execution_count": null,
   "id": "5095cba3",
   "metadata": {
    "slideshow": {
     "slide_type": "subslide"
    }
   },
   "outputs": [],
   "source": []
  },
  {
   "cell_type": "markdown",
   "id": "14a2b67b",
   "metadata": {
    "lang": "de",
    "slideshow": {
     "slide_type": "subslide"
    }
   },
   "source": [
    "\n",
    "Schreiben Sie eine Generatorfunktion `one_based_range(n)`, die `range(n)` für\n",
    "ein Argument simuliert, aber von 1 bis einschließlich `n` iteriert."
   ]
  },
  {
   "cell_type": "code",
   "execution_count": null,
   "id": "8cfbc284",
   "metadata": {},
   "outputs": [],
   "source": []
  },
  {
   "cell_type": "code",
   "execution_count": null,
   "id": "bdfa805e",
   "metadata": {
    "lines_to_next_cell": 1,
    "tags": [
     "keep"
    ]
   },
   "outputs": [],
   "source": [
    "assert [num for num in one_based_range(4)] == [1, 2, 3, 4]"
   ]
  },
  {
   "cell_type": "markdown",
   "id": "967ac7ed",
   "metadata": {
    "lang": "de"
   },
   "source": [
    "\n",
    "Schreiben Sie eine Generatorfunktion `inklusive_range()`, die die komplette\n",
    "Funktionalität von `range()` simuliert (d.h. die mit einem, zwei oder drei\n",
    "Argumenten aufgerufen werden kann), aber ihre obere Grenze einschließt und die\n",
    "Iteration von 1 beginnt, wenn keine untere Grenze angegeben wird.\n",
    "\n",
    "Stellen Sie sicher, dass Ihre Implementierung die vorgegebenen Testfälle\n",
    "erfüllt."
   ]
  },
  {
   "cell_type": "code",
   "execution_count": null,
   "id": "33878166",
   "metadata": {},
   "outputs": [],
   "source": []
  },
  {
   "cell_type": "code",
   "execution_count": null,
   "id": "43823d11",
   "metadata": {
    "tags": [
     "keep"
    ]
   },
   "outputs": [],
   "source": [
    "assert [num for num in inclusive_range(3)] == [1, 2, 3]"
   ]
  },
  {
   "cell_type": "code",
   "execution_count": null,
   "id": "56dec221",
   "metadata": {
    "tags": [
     "keep"
    ]
   },
   "outputs": [],
   "source": [
    "assert [num for num in inclusive_range(2, 4)] == [2, 3, 4]"
   ]
  },
  {
   "cell_type": "code",
   "execution_count": null,
   "id": "961262fe",
   "metadata": {
    "tags": [
     "keep"
    ]
   },
   "outputs": [],
   "source": [
    "assert [num for num in inclusive_range(2, 2)] == [2]"
   ]
  },
  {
   "cell_type": "code",
   "execution_count": null,
   "id": "8e36ed53",
   "metadata": {
    "tags": [
     "keep"
    ]
   },
   "outputs": [],
   "source": [
    "assert [num for num in inclusive_range(2, 1)] == []"
   ]
  },
  {
   "cell_type": "code",
   "execution_count": null,
   "id": "66f43343",
   "metadata": {
    "lines_to_next_cell": 1,
    "tags": [
     "keep"
    ]
   },
   "outputs": [],
   "source": [
    "assert [num for num in inclusive_range(2, 6, 2)] == [2, 4, 6]"
   ]
  },
  {
   "cell_type": "markdown",
   "id": "6509bcb6",
   "metadata": {
    "lang": "de",
    "slideshow": {
     "slide_type": "subslide"
    }
   },
   "source": [
    "\n",
    "Wir können Generatorfunktionen verwenden, um Funktionen zu schreiben, die\n",
    "Iteratoren verarbeiten. Beispielsweise nummt die Generatorfunktion `take()`\n",
    "eine feste Anzahl von Werten von einem Iterator:"
   ]
  },
  {
   "cell_type": "code",
   "execution_count": null,
   "id": "f8e95723",
   "metadata": {},
   "outputs": [],
   "source": []
  },
  {
   "cell_type": "code",
   "execution_count": null,
   "id": "5abc514c",
   "metadata": {
    "lines_to_next_cell": 1
   },
   "outputs": [],
   "source": []
  },
  {
   "cell_type": "markdown",
   "id": "7a9d791d",
   "metadata": {
    "lang": "de",
    "slideshow": {
     "slide_type": "subslide"
    }
   },
   "source": [
    "\n",
    "Beachten Sie, dass die Funktion `drop()`, die die ersten `n` Elemente eines\n",
    "Iterators entfernt, keine Generatorfunktion, sondern eine reguläre Funktion\n",
    "ist:"
   ]
  },
  {
   "cell_type": "code",
   "execution_count": null,
   "id": "62d80d19",
   "metadata": {},
   "outputs": [],
   "source": []
  },
  {
   "cell_type": "code",
   "execution_count": null,
   "id": "c7cc81d3",
   "metadata": {
    "lines_to_next_cell": 1
   },
   "outputs": [],
   "source": []
  },
  {
   "cell_type": "markdown",
   "id": "6c23b868",
   "metadata": {
    "lang": "de",
    "slideshow": {
     "slide_type": "subslide"
    }
   },
   "source": [
    "\n",
    "Mit Generatorfunktionen können wir auch komplexere Iterationsoperationen\n",
    "definieren:"
   ]
  },
  {
   "cell_type": "code",
   "execution_count": null,
   "id": "f3582d07",
   "metadata": {},
   "outputs": [],
   "source": []
  },
  {
   "cell_type": "code",
   "execution_count": null,
   "id": "00efe088",
   "metadata": {},
   "outputs": [],
   "source": []
  },
  {
   "cell_type": "markdown",
   "id": "fef8df95",
   "metadata": {
    "lang": "de",
    "lines_to_next_cell": 2,
    "slideshow": {
     "slide_type": "slide"
    }
   },
   "source": [
    "\n",
    "# Coroutinen\n",
    "\n",
    "`yield` kann auch verwendet werden, um einen Wert an die Stelle zurückzugeben,\n",
    "an der es \"aufgerufen\" wird. In diesem Fall nennen wir den Generator auch eine\n",
    "*Coroutine*.\n",
    "\n",
    "Coroutinen sind nützliche Bausteine für Features wie z.B. kooperatives\n",
    "Multitasking oder Event-basierte Programmierung.\n",
    "\n",
    "Um eine Coroutine `c` zu starten, rufen wir die Methode `c.send(None)` auf.\n",
    "Zum Senden nachfolgender Werte verwenden wir `c.send(value)`.\n"
   ]
  },
  {
   "cell_type": "code",
   "execution_count": null,
   "id": "c3cf53f2",
   "metadata": {
    "slideshow": {
     "slide_type": "subslide"
    }
   },
   "outputs": [],
   "source": []
  },
  {
   "cell_type": "code",
   "execution_count": null,
   "id": "24250b04",
   "metadata": {},
   "outputs": [],
   "source": []
  },
  {
   "cell_type": "code",
   "execution_count": null,
   "id": "dbbf5b88",
   "metadata": {},
   "outputs": [],
   "source": []
  },
  {
   "cell_type": "code",
   "execution_count": null,
   "id": "cf4ee75a",
   "metadata": {},
   "outputs": [],
   "source": []
  },
  {
   "cell_type": "code",
   "execution_count": null,
   "id": "aa0327e6",
   "metadata": {},
   "outputs": [],
   "source": []
  },
  {
   "cell_type": "code",
   "execution_count": null,
   "id": "56eb34d2",
   "metadata": {
    "lines_to_next_cell": 1
   },
   "outputs": [],
   "source": []
  },
  {
   "cell_type": "code",
   "execution_count": null,
   "id": "7bd2fc8b",
   "metadata": {
    "slideshow": {
     "slide_type": "subslide"
    }
   },
   "outputs": [],
   "source": []
  },
  {
   "cell_type": "code",
   "execution_count": null,
   "id": "2db4ec90",
   "metadata": {},
   "outputs": [],
   "source": []
  },
  {
   "cell_type": "code",
   "execution_count": null,
   "id": "0a66b933",
   "metadata": {},
   "outputs": [],
   "source": []
  },
  {
   "cell_type": "code",
   "execution_count": null,
   "id": "1129c7ba",
   "metadata": {},
   "outputs": [],
   "source": []
  },
  {
   "cell_type": "code",
   "execution_count": null,
   "id": "df38b02e",
   "metadata": {},
   "outputs": [],
   "source": []
  }
 ],
 "metadata": {
  "kernelspec": {
   "display_name": "Python 3 (ipykernel)",
   "language": "python",
   "name": "python3"
  }
 },
 "nbformat": 4,
 "nbformat_minor": 5
}
