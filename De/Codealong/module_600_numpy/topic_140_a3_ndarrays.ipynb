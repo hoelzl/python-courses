{
 "cells": [
  {
   "cell_type": "code",
   "execution_count": 1,
   "id": "9189f60d213fe786",
   "metadata": {},
   "outputs": [],
   "source": [
    "import numpy as np"
   ]
  },
  {
   "cell_type": "markdown",
   "id": "71b144294f4428db",
   "metadata": {},
   "source": [
    "\n",
    "# Attributes of arrays"
   ]
  },
  {
   "cell_type": "code",
   "execution_count": 2,
   "id": "e3c357b26ff04db8",
   "metadata": {},
   "outputs": [],
   "source": [
    "int_vector = np.arange(36)\n",
    "float_vector = np.arange(36.0)\n",
    "small_float_vector = np.arange(36.0, dtype=np.float16)"
   ]
  },
  {
   "cell_type": "code",
   "execution_count": 3,
   "id": "d106ff2b",
   "metadata": {},
   "outputs": [
    {
     "data": {
      "text/plain": [
       "array([ 0.,  1.,  2.,  3.,  4.,  5.,  6.,  7.,  8.,  9., 10., 11., 12.,\n",
       "       13., 14., 15., 16., 17., 18., 19., 20., 21., 22., 23., 24., 25.,\n",
       "       26., 27., 28., 29., 30., 31., 32., 33., 34., 35.], dtype=float16)"
      ]
     },
     "execution_count": 3,
     "metadata": {},
     "output_type": "execute_result"
    }
   ],
   "source": [
    "small_float_vector"
   ]
  },
  {
   "cell_type": "code",
   "execution_count": 4,
   "id": "d38320f4",
   "metadata": {},
   "outputs": [],
   "source": [
    "rng = np.random.default_rng(42)"
   ]
  },
  {
   "cell_type": "code",
   "execution_count": 8,
   "id": "7545e05b",
   "metadata": {},
   "outputs": [],
   "source": [
    "int_matrix = rng.integers(low=0, high=10, size=(3, 5))"
   ]
  },
  {
   "cell_type": "code",
   "execution_count": 9,
   "id": "cef3bb4a",
   "metadata": {},
   "outputs": [
    {
     "data": {
      "text/plain": [
       "array([[4, 2, 0, 5, 8],\n",
       "       [0, 8, 8, 2, 6],\n",
       "       [1, 7, 7, 3, 0]])"
      ]
     },
     "execution_count": 9,
     "metadata": {},
     "output_type": "execute_result"
    }
   ],
   "source": [
    "int_matrix"
   ]
  },
  {
   "cell_type": "code",
   "execution_count": 10,
   "id": "6f74262bc7382515",
   "metadata": {},
   "outputs": [],
   "source": [
    "tensor = rng.random(size=(3, 4, 5))"
   ]
  },
  {
   "cell_type": "code",
   "execution_count": 11,
   "id": "d82a147fe79d8fc1",
   "metadata": {},
   "outputs": [
    {
     "data": {
      "text/plain": [
       "array([[[0.89312112, 0.7783835 , 0.19463871, 0.466721  , 0.04380377],\n",
       "        [0.15428949, 0.68304895, 0.74476216, 0.96750973, 0.32582536],\n",
       "        [0.37045971, 0.46955581, 0.18947136, 0.12992151, 0.47570493],\n",
       "        [0.22690935, 0.66981399, 0.43715192, 0.8326782 , 0.7002651 ]],\n",
       "\n",
       "       [[0.31236664, 0.8322598 , 0.80476436, 0.38747838, 0.2883281 ],\n",
       "        [0.6824955 , 0.13975248, 0.1999082 , 0.00736227, 0.78692438],\n",
       "        [0.66485086, 0.70516538, 0.78072903, 0.45891578, 0.5687412 ],\n",
       "        [0.139797  , 0.11453007, 0.66840296, 0.47109621, 0.56523611]],\n",
       "\n",
       "       [[0.76499886, 0.63471832, 0.5535794 , 0.55920716, 0.3039501 ],\n",
       "        [0.03081783, 0.43671739, 0.21458467, 0.40852864, 0.85340307],\n",
       "        [0.23393949, 0.05830274, 0.28138389, 0.29359376, 0.66191651],\n",
       "        [0.55703215, 0.78389821, 0.66431354, 0.40638686, 0.81402038]]])"
      ]
     },
     "execution_count": 11,
     "metadata": {},
     "output_type": "execute_result"
    }
   ],
   "source": [
    "tensor"
   ]
  },
  {
   "cell_type": "code",
   "execution_count": 12,
   "id": "7a3313355cc60aa6",
   "metadata": {},
   "outputs": [
    {
     "data": {
      "text/plain": [
       "dtype('int64')"
      ]
     },
     "execution_count": 12,
     "metadata": {},
     "output_type": "execute_result"
    }
   ],
   "source": [
    "int_vector.dtype"
   ]
  },
  {
   "cell_type": "code",
   "execution_count": 13,
   "id": "47916a10b4f40bcb",
   "metadata": {},
   "outputs": [
    {
     "data": {
      "text/plain": [
       "dtype('float64')"
      ]
     },
     "execution_count": 13,
     "metadata": {},
     "output_type": "execute_result"
    }
   ],
   "source": [
    "float_vector.dtype"
   ]
  },
  {
   "cell_type": "code",
   "execution_count": 14,
   "id": "a221d5811543d3f1",
   "metadata": {},
   "outputs": [
    {
     "data": {
      "text/plain": [
       "dtype('float16')"
      ]
     },
     "execution_count": 14,
     "metadata": {},
     "output_type": "execute_result"
    }
   ],
   "source": [
    "small_float_vector.dtype"
   ]
  },
  {
   "cell_type": "code",
   "execution_count": 15,
   "id": "fd563a7cc26b11d3",
   "metadata": {},
   "outputs": [
    {
     "data": {
      "text/plain": [
       "(36,)"
      ]
     },
     "execution_count": 15,
     "metadata": {},
     "output_type": "execute_result"
    }
   ],
   "source": [
    "int_vector.shape"
   ]
  },
  {
   "cell_type": "code",
   "execution_count": 16,
   "id": "330899ec3b27750e",
   "metadata": {},
   "outputs": [
    {
     "data": {
      "text/plain": [
       "(3, 5)"
      ]
     },
     "execution_count": 16,
     "metadata": {},
     "output_type": "execute_result"
    }
   ],
   "source": [
    "int_matrix.shape"
   ]
  },
  {
   "cell_type": "code",
   "execution_count": 17,
   "id": "4d5d28412375528a",
   "metadata": {},
   "outputs": [
    {
     "data": {
      "text/plain": [
       "(3, 4, 5)"
      ]
     },
     "execution_count": 17,
     "metadata": {},
     "output_type": "execute_result"
    }
   ],
   "source": [
    "tensor.shape"
   ]
  },
  {
   "cell_type": "code",
   "execution_count": 18,
   "id": "2e04c132b66bf8b5",
   "metadata": {},
   "outputs": [
    {
     "data": {
      "text/plain": [
       "60"
      ]
     },
     "execution_count": 18,
     "metadata": {},
     "output_type": "execute_result"
    }
   ],
   "source": [
    "tensor.size"
   ]
  },
  {
   "cell_type": "code",
   "execution_count": 19,
   "id": "004f1a8204b33418",
   "metadata": {},
   "outputs": [
    {
     "data": {
      "text/plain": [
       "36"
      ]
     },
     "execution_count": 19,
     "metadata": {},
     "output_type": "execute_result"
    }
   ],
   "source": [
    "float_vector.size"
   ]
  },
  {
   "cell_type": "code",
   "execution_count": 20,
   "id": "acfaeff756a67336",
   "metadata": {},
   "outputs": [
    {
     "data": {
      "text/plain": [
       "8"
      ]
     },
     "execution_count": 20,
     "metadata": {},
     "output_type": "execute_result"
    }
   ],
   "source": [
    "int_vector.itemsize"
   ]
  },
  {
   "cell_type": "code",
   "execution_count": 21,
   "id": "25025b07f9feb61d",
   "metadata": {},
   "outputs": [
    {
     "data": {
      "text/plain": [
       "2"
      ]
     },
     "execution_count": 21,
     "metadata": {},
     "output_type": "execute_result"
    }
   ],
   "source": [
    "small_float_vector.itemsize"
   ]
  },
  {
   "cell_type": "code",
   "execution_count": 22,
   "id": "dc21db1d34a7d6f1",
   "metadata": {},
   "outputs": [
    {
     "name": "stdout",
     "output_type": "stream",
     "text": [
      "class:  ndarray\n",
      "shape:  (3, 5)\n",
      "strides:  (40, 8)\n",
      "itemsize:  8\n",
      "aligned:  True\n",
      "contiguous:  True\n",
      "fortran:  False\n",
      "data pointer: 0x55f98726eef0\n",
      "byteorder:  little\n",
      "byteswap:  False\n",
      "type: int64\n"
     ]
    }
   ],
   "source": [
    "np.info(int_matrix)"
   ]
  },
  {
   "cell_type": "code",
   "execution_count": null,
   "id": "e78634dcbd84af50",
   "metadata": {},
   "outputs": [],
   "source": []
  },
  {
   "cell_type": "code",
   "execution_count": null,
   "id": "d41064c1d2803747",
   "metadata": {},
   "outputs": [],
   "source": []
  },
  {
   "cell_type": "code",
   "execution_count": null,
   "id": "b1e246962fc94237",
   "metadata": {},
   "outputs": [],
   "source": []
  },
  {
   "cell_type": "code",
   "execution_count": null,
   "id": "78a6bc738dedbc71",
   "metadata": {},
   "outputs": [],
   "source": []
  },
  {
   "cell_type": "code",
   "execution_count": null,
   "id": "32d9bfbdd986e456",
   "metadata": {},
   "outputs": [],
   "source": []
  },
  {
   "cell_type": "code",
   "execution_count": null,
   "id": "9b9c466f5856b919",
   "metadata": {},
   "outputs": [],
   "source": []
  },
  {
   "cell_type": "code",
   "execution_count": null,
   "id": "4289a0b4d4675b16",
   "metadata": {},
   "outputs": [],
   "source": []
  },
  {
   "cell_type": "code",
   "execution_count": null,
   "id": "5f349e263bcd6272",
   "metadata": {},
   "outputs": [],
   "source": []
  },
  {
   "cell_type": "code",
   "execution_count": null,
   "id": "2c6b4ad6ea5cc81b",
   "metadata": {},
   "outputs": [],
   "source": []
  },
  {
   "cell_type": "code",
   "execution_count": null,
   "id": "93e07b79b97b1019",
   "metadata": {},
   "outputs": [],
   "source": []
  },
  {
   "cell_type": "code",
   "execution_count": null,
   "id": "4e14fbfa9bf48ba7",
   "metadata": {},
   "outputs": [],
   "source": []
  },
  {
   "cell_type": "markdown",
   "id": "124c858ef5909788",
   "metadata": {},
   "source": [
    "\n",
    "# Changing Shape and Size\n",
    "\n",
    "## Changing the Shape"
   ]
  },
  {
   "cell_type": "code",
   "execution_count": 23,
   "id": "137191325356ce61",
   "metadata": {},
   "outputs": [
    {
     "data": {
      "text/plain": [
       "(36,)"
      ]
     },
     "execution_count": 23,
     "metadata": {},
     "output_type": "execute_result"
    }
   ],
   "source": [
    "float_vector.shape"
   ]
  },
  {
   "cell_type": "code",
   "execution_count": 24,
   "id": "77dc77e08bf4a9ac",
   "metadata": {},
   "outputs": [],
   "source": [
    "float_matrix = float_vector.reshape((6, 6))"
   ]
  },
  {
   "cell_type": "code",
   "execution_count": 25,
   "id": "18ee53b7d479c98b",
   "metadata": {},
   "outputs": [
    {
     "data": {
      "text/plain": [
       "array([[ 0.,  1.,  2.,  3.,  4.,  5.],\n",
       "       [ 6.,  7.,  8.,  9., 10., 11.],\n",
       "       [12., 13., 14., 15., 16., 17.],\n",
       "       [18., 19., 20., 21., 22., 23.],\n",
       "       [24., 25., 26., 27., 28., 29.],\n",
       "       [30., 31., 32., 33., 34., 35.]])"
      ]
     },
     "execution_count": 25,
     "metadata": {},
     "output_type": "execute_result"
    }
   ],
   "source": [
    "float_matrix"
   ]
  },
  {
   "cell_type": "code",
   "execution_count": 26,
   "id": "43766c12346eec8c",
   "metadata": {},
   "outputs": [
    {
     "name": "stdout",
     "output_type": "stream",
     "text": [
      "class:  ndarray\n",
      "shape:  (6, 6)\n",
      "strides:  (48, 8)\n",
      "itemsize:  8\n",
      "aligned:  True\n",
      "contiguous:  True\n",
      "fortran:  False\n",
      "data pointer: 0x55f9867cf600\n",
      "byteorder:  little\n",
      "byteswap:  False\n",
      "type: float64\n"
     ]
    }
   ],
   "source": [
    "np.info(float_matrix)"
   ]
  },
  {
   "cell_type": "code",
   "execution_count": 27,
   "id": "bbf5370060347ffb",
   "metadata": {},
   "outputs": [
    {
     "data": {
      "text/plain": [
       "array([[ 0.,  1.,  2.,  3.,  4.,  5.,  6.,  7.,  8.,  9., 10., 11.],\n",
       "       [12., 13., 14., 15., 16., 17., 18., 19., 20., 21., 22., 23.],\n",
       "       [24., 25., 26., 27., 28., 29., 30., 31., 32., 33., 34., 35.]])"
      ]
     },
     "execution_count": 27,
     "metadata": {},
     "output_type": "execute_result"
    }
   ],
   "source": [
    "float_matrix.reshape(3, 12)"
   ]
  },
  {
   "cell_type": "code",
   "execution_count": 28,
   "id": "1e19ca7a831098e2",
   "metadata": {},
   "outputs": [
    {
     "data": {
      "text/plain": [
       "array([[ 0.,  1.,  2.,  3.,  4.,  5.],\n",
       "       [ 6.,  7.,  8.,  9., 10., 11.],\n",
       "       [12., 13., 14., 15., 16., 17.],\n",
       "       [18., 19., 20., 21., 22., 23.],\n",
       "       [24., 25., 26., 27., 28., 29.],\n",
       "       [30., 31., 32., 33., 34., 35.]])"
      ]
     },
     "execution_count": 28,
     "metadata": {},
     "output_type": "execute_result"
    }
   ],
   "source": [
    "float_matrix"
   ]
  },
  {
   "cell_type": "code",
   "execution_count": 29,
   "id": "de240a714268acea",
   "metadata": {},
   "outputs": [
    {
     "ename": "ValueError",
     "evalue": "cannot reshape array of size 36 into shape (20,20)",
     "output_type": "error",
     "traceback": [
      "\u001b[0;31m---------------------------------------------------------------------------\u001b[0m",
      "\u001b[0;31mValueError\u001b[0m                                Traceback (most recent call last)",
      "Cell \u001b[0;32mIn [29], line 1\u001b[0m\n\u001b[0;32m----> 1\u001b[0m float_vector\u001b[39m.\u001b[39mreshape(\u001b[39m20\u001b[39m, \u001b[39m20\u001b[39m)\n",
      "\u001b[0;31mValueError\u001b[0m: cannot reshape array of size 36 into shape (20,20)"
     ]
    }
   ],
   "source": [
    "float_vector.reshape(20, 20)"
   ]
  },
  {
   "cell_type": "code",
   "execution_count": 31,
   "id": "64ebf3032b20e293",
   "metadata": {},
   "outputs": [
    {
     "data": {
      "text/plain": [
       "array([[ 0.,  1.,  2.,  3.,  4.,  5.,  6.,  7.,  8.,  9., 10., 11.],\n",
       "       [12., 13., 14., 15., 16., 17., 18., 19., 20., 21., 22., 23.],\n",
       "       [24., 25., 26., 27., 28., 29., 30., 31., 32., 33., 34., 35.]])"
      ]
     },
     "execution_count": 31,
     "metadata": {},
     "output_type": "execute_result"
    }
   ],
   "source": [
    "m1 = float_vector.reshape(3, 12)\n",
    "m1"
   ]
  },
  {
   "cell_type": "code",
   "execution_count": 32,
   "id": "9dc68952eeef0f00",
   "metadata": {},
   "outputs": [
    {
     "name": "stdout",
     "output_type": "stream",
     "text": [
      "class:  ndarray\n",
      "shape:  (3, 12)\n",
      "strides:  (96, 8)\n",
      "itemsize:  8\n",
      "aligned:  True\n",
      "contiguous:  True\n",
      "fortran:  False\n",
      "data pointer: 0x55f9867cf600\n",
      "byteorder:  little\n",
      "byteswap:  False\n",
      "type: float64\n"
     ]
    }
   ],
   "source": [
    "np.info(m1)"
   ]
  },
  {
   "cell_type": "code",
   "execution_count": 33,
   "id": "eff9d1502391d3eb",
   "metadata": {},
   "outputs": [
    {
     "data": {
      "text/plain": [
       "array([[ 0.,  3.,  6.,  9., 12., 15., 18., 21., 24., 27., 30., 33.],\n",
       "       [ 1.,  4.,  7., 10., 13., 16., 19., 22., 25., 28., 31., 34.],\n",
       "       [ 2.,  5.,  8., 11., 14., 17., 20., 23., 26., 29., 32., 35.]])"
      ]
     },
     "execution_count": 33,
     "metadata": {},
     "output_type": "execute_result"
    }
   ],
   "source": [
    "m2 = float_vector.reshape(3, 12, order=\"F\")\n",
    "m2"
   ]
  },
  {
   "cell_type": "code",
   "execution_count": 34,
   "id": "3bfad3443e9f004d",
   "metadata": {},
   "outputs": [
    {
     "name": "stdout",
     "output_type": "stream",
     "text": [
      "class:  ndarray\n",
      "shape:  (3, 12)\n",
      "strides:  (8, 24)\n",
      "itemsize:  8\n",
      "aligned:  True\n",
      "contiguous:  False\n",
      "fortran:  True\n",
      "data pointer: 0x55f9867cf600\n",
      "byteorder:  little\n",
      "byteswap:  False\n",
      "type: float64\n"
     ]
    }
   ],
   "source": [
    "np.info(m2)"
   ]
  },
  {
   "cell_type": "code",
   "execution_count": 35,
   "id": "5e24a2dc53b389a8",
   "metadata": {},
   "outputs": [],
   "source": [
    "v = np.arange(3)"
   ]
  },
  {
   "cell_type": "code",
   "execution_count": 36,
   "id": "e115798810642e5c",
   "metadata": {},
   "outputs": [
    {
     "data": {
      "text/plain": [
       "array([0, 1, 2])"
      ]
     },
     "execution_count": 36,
     "metadata": {},
     "output_type": "execute_result"
    }
   ],
   "source": [
    "v"
   ]
  },
  {
   "cell_type": "code",
   "execution_count": 37,
   "id": "4ff69947cbce372e",
   "metadata": {},
   "outputs": [
    {
     "data": {
      "text/plain": [
       "array([[0],\n",
       "       [1],\n",
       "       [2]])"
      ]
     },
     "execution_count": 37,
     "metadata": {},
     "output_type": "execute_result"
    }
   ],
   "source": [
    "v.reshape(3, 1)"
   ]
  },
  {
   "cell_type": "code",
   "execution_count": 38,
   "id": "b9147d929ac49094",
   "metadata": {},
   "outputs": [
    {
     "data": {
      "text/plain": [
       "array([[0, 1, 2]])"
      ]
     },
     "execution_count": 38,
     "metadata": {},
     "output_type": "execute_result"
    }
   ],
   "source": [
    "v.reshape(1, 3)"
   ]
  },
  {
   "cell_type": "code",
   "execution_count": 39,
   "id": "589cddf93561e790",
   "metadata": {},
   "outputs": [
    {
     "data": {
      "text/plain": [
       "array([[0],\n",
       "       [1],\n",
       "       [2]])"
      ]
     },
     "execution_count": 39,
     "metadata": {},
     "output_type": "execute_result"
    }
   ],
   "source": [
    "v.reshape(-1, 1)"
   ]
  },
  {
   "cell_type": "code",
   "execution_count": 40,
   "id": "ac323c6aa08727d7",
   "metadata": {},
   "outputs": [
    {
     "data": {
      "text/plain": [
       "array([[0, 1, 2]])"
      ]
     },
     "execution_count": 40,
     "metadata": {},
     "output_type": "execute_result"
    }
   ],
   "source": [
    "v.reshape(1, -1)"
   ]
  },
  {
   "cell_type": "code",
   "execution_count": 41,
   "id": "310b2c7c679ab29c",
   "metadata": {},
   "outputs": [
    {
     "data": {
      "text/plain": [
       "array([[[[0]],\n",
       "\n",
       "        [[1]],\n",
       "\n",
       "        [[2]]]])"
      ]
     },
     "execution_count": 41,
     "metadata": {},
     "output_type": "execute_result"
    }
   ],
   "source": [
    "vt = v.reshape(1, 3, 1, 1)\n",
    "vt"
   ]
  },
  {
   "cell_type": "code",
   "execution_count": 42,
   "id": "6eb28093b1b450c3",
   "metadata": {},
   "outputs": [
    {
     "data": {
      "text/plain": [
       "array([0, 1, 2])"
      ]
     },
     "execution_count": 42,
     "metadata": {},
     "output_type": "execute_result"
    }
   ],
   "source": [
    "vt.squeeze()"
   ]
  },
  {
   "cell_type": "code",
   "execution_count": 43,
   "id": "6de6d42c1946e176",
   "metadata": {},
   "outputs": [
    {
     "data": {
      "text/plain": [
       "(3,)"
      ]
     },
     "execution_count": 43,
     "metadata": {},
     "output_type": "execute_result"
    }
   ],
   "source": [
    "vt.squeeze().shape"
   ]
  },
  {
   "cell_type": "code",
   "execution_count": 44,
   "id": "2b38bfbec2754503",
   "metadata": {},
   "outputs": [
    {
     "data": {
      "text/plain": [
       "array([[ 0,  1,  2,  3],\n",
       "       [ 4,  5,  6,  7],\n",
       "       [ 8,  9, 10, 11]])"
      ]
     },
     "execution_count": 44,
     "metadata": {},
     "output_type": "execute_result"
    }
   ],
   "source": [
    "v2 = np.arange(12).reshape(3, 4)\n",
    "v2"
   ]
  },
  {
   "cell_type": "code",
   "execution_count": 45,
   "id": "9d272265a566b4e4",
   "metadata": {},
   "outputs": [
    {
     "data": {
      "text/plain": [
       "(3, 4)"
      ]
     },
     "execution_count": 45,
     "metadata": {},
     "output_type": "execute_result"
    }
   ],
   "source": [
    "v2.shape"
   ]
  },
  {
   "cell_type": "code",
   "execution_count": 46,
   "id": "4381b364788a2fde",
   "metadata": {},
   "outputs": [],
   "source": [
    "v3 = v2.reshape(1, 1, 3, 1, 4, 1)"
   ]
  },
  {
   "cell_type": "code",
   "execution_count": 47,
   "id": "621fc165ca2a06dd",
   "metadata": {},
   "outputs": [
    {
     "data": {
      "text/plain": [
       "array([[ 0,  1,  2,  3],\n",
       "       [ 4,  5,  6,  7],\n",
       "       [ 8,  9, 10, 11]])"
      ]
     },
     "execution_count": 47,
     "metadata": {},
     "output_type": "execute_result"
    }
   ],
   "source": [
    "v3.squeeze()"
   ]
  },
  {
   "cell_type": "code",
   "execution_count": null,
   "id": "6b9fde237efd2a9c",
   "metadata": {},
   "outputs": [],
   "source": []
  },
  {
   "cell_type": "code",
   "execution_count": null,
   "id": "96f03d5912882c24",
   "metadata": {},
   "outputs": [],
   "source": []
  },
  {
   "cell_type": "code",
   "execution_count": null,
   "id": "cfd82ddcef8e9fb4",
   "metadata": {},
   "outputs": [],
   "source": []
  },
  {
   "cell_type": "markdown",
   "id": "c4cd987212658f39",
   "metadata": {},
   "source": [
    "## Changing the Size"
   ]
  },
  {
   "cell_type": "code",
   "execution_count": 48,
   "id": "5543a3a233b26973",
   "metadata": {},
   "outputs": [
    {
     "data": {
      "text/plain": [
       "array([ 0,  1,  2,  3,  4,  5,  6,  7,  8,  9, 10, 11, 12, 13, 14, 15, 16,\n",
       "       17, 18, 19, 20, 21, 22, 23, 24, 25, 26, 27, 28, 29, 30, 31, 32, 33,\n",
       "       34, 35])"
      ]
     },
     "execution_count": 48,
     "metadata": {},
     "output_type": "execute_result"
    }
   ],
   "source": [
    "int_vector"
   ]
  },
  {
   "cell_type": "code",
   "execution_count": 50,
   "id": "f2a48face5bfc985",
   "metadata": {},
   "outputs": [],
   "source": [
    "int_vector = np.arange(36)"
   ]
  },
  {
   "cell_type": "code",
   "execution_count": 51,
   "id": "fdd59d6d104d9632",
   "metadata": {},
   "outputs": [],
   "source": [
    "int_vector.resize(10, 10)"
   ]
  },
  {
   "cell_type": "code",
   "execution_count": 52,
   "id": "65f4d170978ffafe",
   "metadata": {},
   "outputs": [
    {
     "data": {
      "text/plain": [
       "array([[ 0,  1,  2,  3,  4,  5,  6,  7,  8,  9],\n",
       "       [10, 11, 12, 13, 14, 15, 16, 17, 18, 19],\n",
       "       [20, 21, 22, 23, 24, 25, 26, 27, 28, 29],\n",
       "       [30, 31, 32, 33, 34, 35,  0,  0,  0,  0],\n",
       "       [ 0,  0,  0,  0,  0,  0,  0,  0,  0,  0],\n",
       "       [ 0,  0,  0,  0,  0,  0,  0,  0,  0,  0],\n",
       "       [ 0,  0,  0,  0,  0,  0,  0,  0,  0,  0],\n",
       "       [ 0,  0,  0,  0,  0,  0,  0,  0,  0,  0],\n",
       "       [ 0,  0,  0,  0,  0,  0,  0,  0,  0,  0],\n",
       "       [ 0,  0,  0,  0,  0,  0,  0,  0,  0,  0]])"
      ]
     },
     "execution_count": 52,
     "metadata": {},
     "output_type": "execute_result"
    }
   ],
   "source": [
    "int_vector"
   ]
  },
  {
   "cell_type": "code",
   "execution_count": 53,
   "id": "5f939f230987b1de",
   "metadata": {},
   "outputs": [
    {
     "ename": "ValueError",
     "evalue": "cannot resize an array that references or is referenced\nby another array in this way.\nUse the np.resize function or refcheck=False",
     "output_type": "error",
     "traceback": [
      "\u001b[0;31m---------------------------------------------------------------------------\u001b[0m",
      "\u001b[0;31mValueError\u001b[0m                                Traceback (most recent call last)",
      "Cell \u001b[0;32mIn [53], line 1\u001b[0m\n\u001b[0;32m----> 1\u001b[0m int_vector\u001b[39m.\u001b[39mresize(\u001b[39m20\u001b[39m, \u001b[39m10\u001b[39m)\n",
      "\u001b[0;31mValueError\u001b[0m: cannot resize an array that references or is referenced\nby another array in this way.\nUse the np.resize function or refcheck=False"
     ]
    }
   ],
   "source": [
    "int_vector.resize(20, 10)"
   ]
  },
  {
   "cell_type": "code",
   "execution_count": 54,
   "id": "a36ce3e89d333133",
   "metadata": {},
   "outputs": [
    {
     "data": {
      "text/plain": [
       "array([[ 0,  1,  2,  3,  4,  5,  6,  7,  8,  9],\n",
       "       [10, 11, 12, 13, 14, 15, 16, 17, 18, 19],\n",
       "       [20, 21, 22, 23, 24, 25, 26, 27, 28, 29],\n",
       "       [30, 31, 32, 33, 34, 35,  0,  0,  0,  0],\n",
       "       [ 0,  0,  0,  0,  0,  0,  0,  0,  0,  0],\n",
       "       [ 0,  0,  0,  0,  0,  0,  0,  0,  0,  0],\n",
       "       [ 0,  0,  0,  0,  0,  0,  0,  0,  0,  0],\n",
       "       [ 0,  0,  0,  0,  0,  0,  0,  0,  0,  0],\n",
       "       [ 0,  0,  0,  0,  0,  0,  0,  0,  0,  0],\n",
       "       [ 0,  0,  0,  0,  0,  0,  0,  0,  0,  0],\n",
       "       [ 0,  1,  2,  3,  4,  5,  6,  7,  8,  9],\n",
       "       [10, 11, 12, 13, 14, 15, 16, 17, 18, 19],\n",
       "       [20, 21, 22, 23, 24, 25, 26, 27, 28, 29],\n",
       "       [30, 31, 32, 33, 34, 35,  0,  0,  0,  0],\n",
       "       [ 0,  0,  0,  0,  0,  0,  0,  0,  0,  0],\n",
       "       [ 0,  0,  0,  0,  0,  0,  0,  0,  0,  0],\n",
       "       [ 0,  0,  0,  0,  0,  0,  0,  0,  0,  0],\n",
       "       [ 0,  0,  0,  0,  0,  0,  0,  0,  0,  0],\n",
       "       [ 0,  0,  0,  0,  0,  0,  0,  0,  0,  0],\n",
       "       [ 0,  0,  0,  0,  0,  0,  0,  0,  0,  0]])"
      ]
     },
     "execution_count": 54,
     "metadata": {},
     "output_type": "execute_result"
    }
   ],
   "source": [
    "np.resize(int_vector, (20, 10))"
   ]
  },
  {
   "cell_type": "code",
   "execution_count": null,
   "id": "2dc406a8feb458c1",
   "metadata": {},
   "outputs": [],
   "source": []
  },
  {
   "cell_type": "code",
   "execution_count": null,
   "id": "4a7afb90ea8bf1a5",
   "metadata": {},
   "outputs": [],
   "source": []
  },
  {
   "cell_type": "code",
   "execution_count": null,
   "id": "77aae6adca4e65aa",
   "metadata": {},
   "outputs": [],
   "source": []
  },
  {
   "cell_type": "code",
   "execution_count": null,
   "id": "ac820df9098a7d86",
   "metadata": {},
   "outputs": [],
   "source": []
  },
  {
   "cell_type": "markdown",
   "id": "5a2980500d8ec6f0",
   "metadata": {},
   "source": [
    "## Transposing"
   ]
  },
  {
   "cell_type": "code",
   "execution_count": null,
   "id": "dbccce7ad1eb2873",
   "metadata": {},
   "outputs": [],
   "source": []
  },
  {
   "cell_type": "code",
   "execution_count": null,
   "id": "1b2948020dc0dd29",
   "metadata": {},
   "outputs": [],
   "source": []
  },
  {
   "cell_type": "code",
   "execution_count": null,
   "id": "83228a5df68d4cfd",
   "metadata": {},
   "outputs": [],
   "source": []
  },
  {
   "cell_type": "code",
   "execution_count": null,
   "id": "6b9f73dc65d16fe3",
   "metadata": {},
   "outputs": [],
   "source": []
  },
  {
   "cell_type": "code",
   "execution_count": null,
   "id": "5b7cef599ba10f92",
   "metadata": {},
   "outputs": [],
   "source": []
  },
  {
   "cell_type": "code",
   "execution_count": null,
   "id": "8eebe4e7d3c9759c",
   "metadata": {},
   "outputs": [],
   "source": []
  },
  {
   "cell_type": "code",
   "execution_count": null,
   "id": "ac9ba11f7268d411",
   "metadata": {},
   "outputs": [],
   "source": []
  },
  {
   "cell_type": "code",
   "execution_count": null,
   "id": "4a6182bbb271ac61",
   "metadata": {},
   "outputs": [],
   "source": []
  },
  {
   "cell_type": "code",
   "execution_count": null,
   "id": "a6010bcc31d8d6e2",
   "metadata": {},
   "outputs": [],
   "source": []
  },
  {
   "cell_type": "code",
   "execution_count": null,
   "id": "075def19cef67d56",
   "metadata": {},
   "outputs": [],
   "source": []
  },
  {
   "cell_type": "code",
   "execution_count": null,
   "id": "ef64430fc725630a",
   "metadata": {},
   "outputs": [],
   "source": []
  },
  {
   "cell_type": "code",
   "execution_count": null,
   "id": "47720f62502b6641",
   "metadata": {},
   "outputs": [],
   "source": []
  },
  {
   "cell_type": "code",
   "execution_count": null,
   "id": "fc679bf770042e23",
   "metadata": {},
   "outputs": [],
   "source": []
  },
  {
   "cell_type": "code",
   "execution_count": null,
   "id": "e61a1fcf9cbfe0a0",
   "metadata": {},
   "outputs": [],
   "source": []
  },
  {
   "cell_type": "code",
   "execution_count": null,
   "id": "6b4e03423667dbb7",
   "metadata": {},
   "outputs": [],
   "source": []
  }
 ],
 "metadata": {
  "kernelspec": {
   "display_name": "Python 3.10.6 ('cam')",
   "language": "python",
   "name": "python3"
  },
  "language_info": {
   "codemirror_mode": {
    "name": "ipython",
    "version": 3
   },
   "file_extension": ".py",
   "mimetype": "text/x-python",
   "name": "python",
   "nbconvert_exporter": "python",
   "pygments_lexer": "ipython3",
   "version": "3.10.6"
  },
  "vscode": {
   "interpreter": {
    "hash": "326a88f113b7eda0c60eba924a32e7efb57d867a8bbcb7bb201fc315e657872d"
   }
  }
 },
 "nbformat": 4,
 "nbformat_minor": 5
}
