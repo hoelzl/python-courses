{
 "cells": [
  {
   "cell_type": "markdown",
   "id": "f76af971",
   "metadata": {
    "lang": "de",
    "slideshow": {
     "slide_type": "slide"
    }
   },
   "source": [
    "<img src=\"img/python-logo-notext.svg\"\n",
    "     style=\"display:block;margin:auto;width:10%\"/>\n",
    "<br>\n",
    "<div style=\"text-align:center; font-size:200%;\"><b>Fallstudie: Othellite</b></div>\n",
    "<br/>\n",
    "<div style=\"text-align:center;\">Dr. Matthias Hölzl</div>"
   ]
  },
  {
   "cell_type": "code",
   "execution_count": null,
   "id": "e27867b1",
   "metadata": {
    "tags": [
     "keep"
    ]
   },
   "outputs": [],
   "source": [
    "from collections import Sequence\n",
    "from enum import Enum\n",
    "from dataclasses import dataclass, field\n",
    "import reprlib\n",
    "from typing import Union\n",
    "from random import sample\n",
    "\n",
    "try:\n",
    "    import numpy as np\n",
    "except ModuleNotFoundError:\n",
    "    print(\"NumPy not found, some (minor) examples may not work\")"
   ]
  },
  {
   "cell_type": "markdown",
   "id": "4d7a41fe",
   "metadata": {
    "lang": "de"
   },
   "source": [
    "\n",
    "# Othellite\n",
    "\n",
    "Im Folgenden wollen wir eine vereinfachte Variante des Spiels Reversi (auch\n",
    "unter dem Handelsnamen Othello bekannt) implementieren. Das Spiel wird auf\n",
    "einem Brett mit 8x8 Feldern gespielt, auf die Spieler schwarze oder\n",
    "weiße Spielsteine legen können. Die genauen Regeln sind\n",
    "[im Wikipedia Artikel](https://de.wikipedia.org/wiki/Othello_(Spiel))\n",
    "beschrieben."
   ]
  },
  {
   "cell_type": "markdown",
   "id": "a50ca5a6",
   "metadata": {
    "lang": "de"
   },
   "source": [
    "\n",
    "Wir definieren eine Enumeration, die den Zustand eines einzelnen Feldes auf\n",
    "dem Brett beschreibt:"
   ]
  },
  {
   "cell_type": "code",
   "execution_count": null,
   "id": "eeb135b4",
   "metadata": {},
   "outputs": [],
   "source": []
  },
  {
   "cell_type": "code",
   "execution_count": null,
   "id": "e74c78a4",
   "metadata": {
    "lines_to_next_cell": 2,
    "tags": [
     "keep"
    ]
   },
   "outputs": [],
   "source": [
    "print(\"Fields:           \", list(Field))\n",
    "print(\"Empty field:      \", Field.DARK)\n",
    "print(\"Light field:      \", Field.LIGHT)\n",
    "print(\"Dark field:       \", Field.DARK)\n",
    "print(\"Light field value:\", Field.LIGHT.value)\n",
    "print(\"Light field name: \", Field.LIGHT.name)"
   ]
  },
  {
   "cell_type": "markdown",
   "id": "9973d992",
   "metadata": {
    "lang": "de",
    "lines_to_next_cell": 2
   },
   "source": [
    "\n",
    "## Micro-Workshop\n",
    "\n",
    "Definieren Sie eine Funktion `is_occupied(f: Field) -> bool`,\n",
    "die genau dann `True` zurückgibt, wenn `field` nicht leer ist."
   ]
  },
  {
   "cell_type": "code",
   "execution_count": null,
   "id": "219c43a1",
   "metadata": {
    "tags": [
     "keep"
    ]
   },
   "outputs": [],
   "source": [
    "def is_occupied(f: Field) -> bool:\n",
    "    return f is not Field.EMPTY"
   ]
  },
  {
   "cell_type": "code",
   "execution_count": null,
   "id": "04e3c0fc",
   "metadata": {
    "lines_to_next_cell": 2,
    "tags": [
     "keep"
    ]
   },
   "outputs": [],
   "source": [
    "assert is_occupied(Field.DARK)\n",
    "assert is_occupied(Field.LIGHT)\n",
    "assert not is_occupied(Field.EMPTY)"
   ]
  },
  {
   "cell_type": "markdown",
   "id": "7d75a582",
   "metadata": {
    "lang": "de",
    "lines_to_next_cell": 2
   },
   "source": [
    "\n",
    "## Micro-Workshop\n",
    "\n",
    "Definieren Sie eine Enumeration `Player`, die analog zu `Field` die beiden\n",
    "Spieler beschreibt. Drucken Sie ähnlich wie für `Field` die möglichen Werte\n",
    "sowie Value und Namen für einen Enum-Wert aus."
   ]
  },
  {
   "cell_type": "code",
   "execution_count": null,
   "id": "78e940d4",
   "metadata": {},
   "outputs": [],
   "source": []
  },
  {
   "cell_type": "code",
   "execution_count": null,
   "id": "307492c3",
   "metadata": {},
   "outputs": [],
   "source": []
  },
  {
   "cell_type": "markdown",
   "id": "ff88d9d3",
   "metadata": {
    "lang": "de"
   },
   "source": [
    "\n",
    "## Micro-Workshop\n",
    "\n",
    "Definieren Sie eine Funktion\n",
    "`is_field_owned_by_opponent(p: Player, f: Field) -> bool`,\n",
    "die genau dann `True` zurückgibt, wenn der Spielstein auf Feld `f` dem\n",
    "Gegner gehört, d.h., wenn `f` belegt ist und der Stein auf `f` nicht die\n",
    "gleiche Farbe hat wie der Spieler.\n",
    "\n",
    "Überprüfen Sie, dass Ihre Implementierung die angegebenen Assertions erfüllt.\n",
    "\n",
    "Implementieren Sie eine entsprechende Methode `is_field_owned_by_player()`."
   ]
  },
  {
   "cell_type": "code",
   "execution_count": null,
   "id": "221ad0ee",
   "metadata": {},
   "outputs": [],
   "source": []
  },
  {
   "cell_type": "code",
   "execution_count": null,
   "id": "e852cea2",
   "metadata": {
    "tags": [
     "keep"
    ]
   },
   "outputs": [],
   "source": [
    "assert is_field_owned_by_opponent(Player.LIGHT, Field.DARK)\n",
    "assert is_field_owned_by_opponent(Player.DARK, Field.LIGHT)\n",
    "assert not is_field_owned_by_opponent(Player.DARK, Field.DARK)\n",
    "assert not is_field_owned_by_opponent(Player.DARK, Field.EMPTY)\n",
    "assert not is_field_owned_by_opponent(Player.LIGHT, Field.LIGHT)\n",
    "assert not is_field_owned_by_opponent(Player.LIGHT, Field.EMPTY)"
   ]
  },
  {
   "cell_type": "code",
   "execution_count": null,
   "id": "a5792e66",
   "metadata": {},
   "outputs": [],
   "source": []
  },
  {
   "cell_type": "code",
   "execution_count": null,
   "id": "afe194ca",
   "metadata": {
    "tags": [
     "keep"
    ]
   },
   "outputs": [],
   "source": [
    "assert is_field_owned_by_player(Player.LIGHT, Field.LIGHT)\n",
    "assert is_field_owned_by_player(Player.DARK, Field.DARK)\n",
    "assert not is_field_owned_by_player(Player.DARK, Field.LIGHT)\n",
    "assert not is_field_owned_by_player(Player.DARK, Field.EMPTY)\n",
    "assert not is_field_owned_by_player(Player.LIGHT, Field.DARK)\n",
    "assert not is_field_owned_by_player(Player.LIGHT, Field.EMPTY)"
   ]
  },
  {
   "cell_type": "markdown",
   "id": "6a4a280e",
   "metadata": {
    "lang": "de"
   },
   "source": [
    "\n",
    "Wir wollen auf die einzelnen Felder eines 8x8 Spielfelds mittels eines\n",
    "zweidimensionalen Index-Werts zugreifen: `board[0, 0]` steht für das linke\n",
    "obere Feld, `board[0, 1]` für das Feld rechts daneben, usw.\n",
    "\n",
    "Das ist einfach, wenn wir ein zweidimensionales Array als zugrunde liegende\n",
    "Datenstruktur verwenden können, z.B. das `ndarray` von NumPy. In diesem Fall\n",
    "delegieren wir einfach `__getitem__()` und `__setitem__()` an die\n",
    "entsprechenden Methoden des NumPy Arrays.\n",
    "\n",
    "Die mittleren 4 Felder des Spielfelds initialisieren wir mit diagonal\n",
    "angeordneten Steinen.\n",
    "\n",
    "<!--\n",
    "We want to be able to access the individual fields of the 8x8 board using\n",
    "a 2-dimensional index notation: `board[0, 0]` for the field in the upper\n",
    "left corner, `board[0, 1]` for the field to the right of the upper left\n",
    "corner, etc.\n",
    "\n",
    "This is easy when using a two-dimensional array, such as NumPy's `ndarray`.\n",
    "We simply need to delegate the `__getitem__()` and `__setitem__()` methods\n",
    "to the NumPy array:\n",
    "-->"
   ]
  },
  {
   "cell_type": "code",
   "execution_count": null,
   "id": "0c4dd982",
   "metadata": {},
   "outputs": [],
   "source": []
  },
  {
   "cell_type": "code",
   "execution_count": null,
   "id": "6074eba3",
   "metadata": {},
   "outputs": [],
   "source": []
  },
  {
   "cell_type": "markdown",
   "id": "b361b0f2",
   "metadata": {
    "lang": "de"
   },
   "source": [
    "\n",
    "Dadurch, dass der Index an das NumPy Array weitergereicht wird, stehen auch\n",
    "mächtigere Zugriffsvarianten, wie z.B. Slicing zur Verfügung:"
   ]
  },
  {
   "cell_type": "code",
   "execution_count": null,
   "id": "d31ea85b",
   "metadata": {
    "lines_to_next_cell": 2,
    "tags": [
     "keep"
    ]
   },
   "outputs": [],
   "source": [
    "npb[0, 2:] = Field.DARK\n",
    "npb[1:3, 1:3] = Field.LIGHT\n",
    "print(npb)"
   ]
  },
  {
   "cell_type": "markdown",
   "id": "ecfe6d24",
   "metadata": {
    "lang": "de",
    "lines_to_next_cell": 2
   },
   "source": [
    "## Mini-Workshop Compute Linear Index\n",
    "\n",
    "Wenn wir eine Python Liste als Speicher für das Spielfeld verwenden wollen,\n",
    "müssen wir die Umrechnung von zweidimensionalen Index-Werten in einen\n",
    "eindimensionalen Index selber vornehmen.\n",
    "\n",
    "Das geht indem wir für eine Position `(r, c)` den Wert `r * 8 + c` berechnen.\n",
    "Für den Fall, dass einer der Indices nicht `>= 0` und `< 8` ist soll eine\n",
    "geeignete Exception ausgelöst werden.\n",
    "\n",
    "Implementieren Sie eine Funktion `compute_linear_index()` die diese Aufgabe\n",
    "übernimmt."
   ]
  },
  {
   "cell_type": "code",
   "execution_count": null,
   "id": "7dafe456",
   "metadata": {
    "lines_to_next_cell": 2
   },
   "outputs": [],
   "source": []
  },
  {
   "cell_type": "markdown",
   "id": "8d98b9b1",
   "metadata": {
    "lang": "de",
    "lines_to_next_cell": 2
   },
   "source": [
    "\n",
    "## Mini-Workshop\n",
    "\n",
    "Implementieren Sie eine Klasse `Board`, die ein 8x8 Othellite Brett\n",
    "repräsentiert, das den Zustand des Bretts in einer Liste speichert.\n",
    "Sie können sich bei der Implementierung an der Klasse `NumPyBoard`\n",
    "orientieren, und `compute_linear_index` zur Berechnung von Index-Werten\n",
    "verwenden."
   ]
  },
  {
   "cell_type": "code",
   "execution_count": null,
   "id": "4d75e173",
   "metadata": {},
   "outputs": [],
   "source": []
  },
  {
   "cell_type": "code",
   "execution_count": null,
   "id": "b1e6da83",
   "metadata": {},
   "outputs": [],
   "source": []
  },
  {
   "cell_type": "markdown",
   "id": "190babc0",
   "metadata": {
    "lang": "de"
   },
   "source": [
    "\n",
    "Wir definieren eine weitere Enumeration für \"Himmelsrichtungen\". Die\n",
    "Schlüssel der Enumeration sollen Abkürzungen für die Kompassrichtungen (N,\n",
    "NE, E, ...) sein. Als Wert soll jeweils der zur Bewegung in diese Richtung\n",
    "benötigte \"Offset\" verwendet werden:\n",
    "\n",
    "- `(-1, 0)` für eine Bewegung in Richtung Norden,\n",
    "- `(0, 1)` für eine Bewegung in Richtung Osten,\n",
    "- `(1, 0)` für eine Bewegung in Richtung Süden,\n",
    "- `(0, -1)` für eine Bewegung in Richtung Westen,\n",
    "- `(-1, 1)` für eine Bewegung in Richtung Nord-Osten,\n",
    "- `(1, 1)` für eine Bewegung in Richtung Süd-Osten,\n",
    "- `(-1, -1)` für eine Bewegung in Richtung Nord-Westen,\n",
    "- `(1, -1` für eine Bewegung in Richtung Süd-Westen.\n",
    "\n",
    "<!--\n",
    "We define yet another enumeration, this time for directions.\n",
    "The keys of this enumeration should be the compass directions (N, NE, E, ...),\n",
    "the values should be the (x, y) offset to move to this field in a\n",
    "right-handed coordinate system, i.e.,\n",
    "- `(-1, 0)` for moving north,\n",
    "- `(0, 1)` for moving east,\n",
    "- `(1, 0)` for moving south,\n",
    "- `(0, -1)` for moving west,\n",
    "- `(-1, 1)` for moving north-east,\n",
    "- `(1, 1)` for moving south-east,\n",
    "- `(-1, -1)` for moving north-west,\n",
    "- `(1, -1` for moving south-west.\n",
    "-->"
   ]
  },
  {
   "cell_type": "markdown",
   "id": "66b4af92",
   "metadata": {
    "lang": "de"
   },
   "source": [
    "\n",
    "## Micro-Workshop\n",
    "\n",
    "Definieren Sie eine Enumeration `Directions`, wie gerade beschrieben."
   ]
  },
  {
   "cell_type": "code",
   "execution_count": null,
   "id": "0123a340",
   "metadata": {},
   "outputs": [],
   "source": []
  },
  {
   "cell_type": "markdown",
   "id": "c7619e4c",
   "metadata": {
    "lang": "de"
   },
   "source": [
    "Es ist bei Enumerationen möglich, mehrere Schlüssel für den gleichen Wert\n",
    "zu definieren (also gewissermaßen Synonyme anzugeben).\n",
    "\n",
    "```python\n",
    "class Synonyms(Enum):\n",
    "    DRINK = 0\n",
    "    BEVERAGE = 0\n",
    "    FOOD = 1\n",
    "    BIG = 2\n",
    "    LARGE = 2\n",
    "    SMALL = 3\n",
    "```"
   ]
  },
  {
   "cell_type": "code",
   "execution_count": null,
   "id": "397ae052",
   "metadata": {
    "lines_to_next_cell": 2,
    "tags": [
     "keep"
    ]
   },
   "outputs": [],
   "source": [
    "print(Synonyms.DRINK is Synonyms.BEVERAGE)\n",
    "print(Synonyms.DRINK is not Synonyms.FOOD)\n",
    "print(Synonyms.BIG is Synonyms.LARGE)\n",
    "print(Synonyms.BIG is not Synonyms.SMALL)"
   ]
  },
  {
   "cell_type": "markdown",
   "id": "ae51ebcb",
   "metadata": {
    "lang": "de",
    "lines_to_next_cell": 2
   },
   "source": [
    "\n",
    "Erweitern Sie die Enumeration `Directions` so, dass auch die vollständigen\n",
    "Namen der Kompassrichtungen (`NORTH`, `NORTH_EAST`, ...) verwendet werden\n",
    "können."
   ]
  },
  {
   "cell_type": "code",
   "execution_count": null,
   "id": "833d393e",
   "metadata": {},
   "outputs": [],
   "source": []
  },
  {
   "cell_type": "markdown",
   "id": "36d0c82f",
   "metadata": {
    "lang": "de"
   },
   "source": [
    "\n",
    "## Micro-Workshop\n",
    "\n",
    "Überprüfen Sie, dass die Abkürzungen und die vollständigen Name die\n",
    "gleichen Werte repräsentieren.\n",
    "<!--\n",
    "Ensure that the abbreviated names and the full names denote the\n",
    "same values.\n",
    "-->"
   ]
  },
  {
   "cell_type": "code",
   "execution_count": null,
   "id": "174c0bba",
   "metadata": {},
   "outputs": [],
   "source": []
  },
  {
   "cell_type": "code",
   "execution_count": null,
   "id": "9cff8ecf",
   "metadata": {},
   "outputs": [],
   "source": []
  },
  {
   "cell_type": "code",
   "execution_count": null,
   "id": "b16c8b1f",
   "metadata": {
    "tags": [
     "keep"
    ]
   },
   "outputs": [],
   "source": [
    "Index = tuple[int, int]"
   ]
  },
  {
   "cell_type": "markdown",
   "id": "4e958ece",
   "metadata": {
    "lang": "de"
   },
   "source": [
    "## Micro-Workshop\n",
    "\n",
    "Schreiben Sie eine Funktion `is_valid_index(index: Index) -> bool`,\n",
    "die genau dann `True` zurückgibt, wenn `index` ein gültiger Index für\n",
    "ein Othellite Brett ist, andernfalls `False`. Überprüfen Sie, ob Ihre\n",
    "Implementierung die Assertions erfüllt"
   ]
  },
  {
   "cell_type": "code",
   "execution_count": null,
   "id": "c63bc4c0",
   "metadata": {},
   "outputs": [],
   "source": []
  },
  {
   "cell_type": "code",
   "execution_count": null,
   "id": "4e1c78db",
   "metadata": {
    "lines_to_next_cell": 2,
    "tags": [
     "keep"
    ]
   },
   "outputs": [],
   "source": [
    "assert is_valid_index((0, 7))\n",
    "assert not is_valid_index((8, 1))\n",
    "assert not is_valid_index((1, 8))\n",
    "assert not is_valid_index((6, -1))\n",
    "assert not is_valid_index((-2, 4))"
   ]
  },
  {
   "cell_type": "markdown",
   "id": "ab4f3ac1",
   "metadata": {
    "lang": "de",
    "lines_to_next_cell": 2
   },
   "source": [
    "## Micro-Workshop\n",
    "\n",
    "Schreiben Sie eine Funktion\n",
    "`assert_valid_index(index: Index) -> None:`, die eine Exception vom\n",
    "Typ `IndexError` mit einer geeigneten Fehlermeldung auslöst, wenn `index`\n",
    "kein gültiger Index für ein Othellite-Brett ist. Überprüfen Sie, dass die\n",
    "Funktion für korrekte Argumente keinen Exception auslöst, dass sie aber für\n",
    "verschiedene Fehlerfälle eine Exception auslöst."
   ]
  },
  {
   "cell_type": "code",
   "execution_count": null,
   "id": "5df078f2",
   "metadata": {},
   "outputs": [],
   "source": []
  },
  {
   "cell_type": "code",
   "execution_count": null,
   "id": "513943bc",
   "metadata": {},
   "outputs": [],
   "source": []
  },
  {
   "cell_type": "code",
   "execution_count": null,
   "id": "d75fa7c6",
   "metadata": {},
   "outputs": [],
   "source": []
  },
  {
   "cell_type": "code",
   "execution_count": null,
   "id": "79c4cc52",
   "metadata": {
    "lines_to_next_cell": 2
   },
   "outputs": [],
   "source": []
  },
  {
   "cell_type": "markdown",
   "id": "22a04069",
   "metadata": {
    "lang": "de",
    "lines_to_next_cell": 2
   },
   "source": [
    "\n",
    "Schreiben Sie eine Funktion\n",
    "`next_index_in_direction(index: Index, direction: Direction)`,\n",
    "die zwei Werte zurückgibt, falls `index` ein gültiger Index ist:\n",
    "- den nächsten Index in Richtung `direction` und\n",
    "- `True` oder `False`, je nachdem ob der nächste Index gültig ist oder nicht.\n",
    "Falls `index` kein gültiger Index ist soll eine Exception vom Typ\n",
    "`IndexError` ausgelöst werden.\n",
    "\n",
    "*Hinweis:* Die Werte, die zu den Komponenten von `index` addiert werden\n",
    "müssen können Sie mittels `d_row, d_column = direction.value` berechnen.\n",
    "\n",
    "Überprüfen Sie, ob Ihre Implementierung die angegebenen Assertions erfüllt."
   ]
  },
  {
   "cell_type": "code",
   "execution_count": null,
   "id": "be164abd",
   "metadata": {},
   "outputs": [],
   "source": []
  },
  {
   "cell_type": "code",
   "execution_count": null,
   "id": "5e2b299c",
   "metadata": {
    "tags": [
     "keep"
    ]
   },
   "outputs": [],
   "source": [
    "assert next_index_in_direction((0, 0), Direction.N) == ((-1, 0), False)\n",
    "assert next_index_in_direction((0, 0), Direction.NE) == ((-1, 1), False)\n",
    "assert next_index_in_direction((0, 0), Direction.E) == ((0, 1), True)\n",
    "assert next_index_in_direction((0, 0), Direction.SE) == ((1, 1), True)\n",
    "assert next_index_in_direction((0, 0), Direction.S) == ((1, 0), True)\n",
    "assert next_index_in_direction((0, 0), Direction.SW) == ((1, -1), False)\n",
    "assert next_index_in_direction((0, 0), Direction.W) == ((0, -1), False)\n",
    "assert next_index_in_direction((0, 0), Direction.NW) == ((-1, -1), False)"
   ]
  },
  {
   "cell_type": "code",
   "execution_count": null,
   "id": "cccccc47",
   "metadata": {
    "tags": [
     "keep"
    ]
   },
   "outputs": [],
   "source": [
    "assert next_index_in_direction((4, 5), Direction.N) == ((3, 5), True)\n",
    "assert next_index_in_direction((4, 5), Direction.NE) == ((3, 6), True)\n",
    "assert next_index_in_direction((4, 5), Direction.E) == ((4, 6), True)\n",
    "assert next_index_in_direction((4, 5), Direction.SE) == ((5, 6), True)\n",
    "assert next_index_in_direction((4, 5), Direction.S) == ((5, 5), True)\n",
    "assert next_index_in_direction((4, 5), Direction.SW) == ((5, 4), True)\n",
    "assert next_index_in_direction((4, 5), Direction.W) == ((4, 4), True)\n",
    "assert next_index_in_direction((4, 5), Direction.NW) == ((3, 4), True)"
   ]
  },
  {
   "cell_type": "code",
   "execution_count": null,
   "id": "700a9676",
   "metadata": {
    "tags": [
     "keep"
    ]
   },
   "outputs": [],
   "source": [
    "assert next_index_in_direction((7, 7), Direction.N) == ((6, 7), True)\n",
    "assert next_index_in_direction((7, 7), Direction.NE) == ((6, 8), False)\n",
    "assert next_index_in_direction((7, 7), Direction.E) == ((7, 8), False)\n",
    "assert next_index_in_direction((7, 7), Direction.SE) == ((8, 8), False)\n",
    "assert next_index_in_direction((7, 7), Direction.S) == ((8, 7), False)\n",
    "assert next_index_in_direction((7, 7), Direction.SW) == ((8, 6), False)\n",
    "assert next_index_in_direction((7, 7), Direction.W) == ((7, 6), True)\n",
    "assert next_index_in_direction((7, 7), Direction.NW) == ((6, 6), True)"
   ]
  },
  {
   "cell_type": "code",
   "execution_count": null,
   "id": "85136682",
   "metadata": {
    "tags": [
     "keep"
    ]
   },
   "outputs": [],
   "source": [
    "try:\n",
    "    next_index_in_direction((7, 8), Direction.S)\n",
    "except IndexError as err:\n",
    "    print(err)"
   ]
  },
  {
   "cell_type": "markdown",
   "id": "79a20433",
   "metadata": {
    "lang": "de"
   },
   "source": [
    "\n",
    "Wir wollen unsere Klasse `Board` jetzt um eine Methode\n",
    "\n",
    "```\n",
    "_fields_flipped_in_direction(self, p: Player, index: Index,\n",
    "                             d: Direction) -> set[Index]\n",
    "```\n",
    "\n",
    "erweitern, die die Indizes aller Felder zurückgibt, die der Spieler ausgehend\n",
    "vom Feld `index` in Richtung `d` umdrehen kann."
   ]
  },
  {
   "cell_type": "code",
   "execution_count": null,
   "id": "f24b8942",
   "metadata": {},
   "outputs": [],
   "source": []
  },
  {
   "cell_type": "code",
   "execution_count": null,
   "id": "0e2d9e0b",
   "metadata": {
    "tags": [
     "keep"
    ]
   },
   "outputs": [],
   "source": [
    "assert _find_rightmost([True, False, True, False]) == 2\n",
    "assert _find_rightmost([False, False, False]) == 0"
   ]
  },
  {
   "cell_type": "code",
   "execution_count": null,
   "id": "d8caf6cf",
   "metadata": {},
   "outputs": [],
   "source": []
  },
  {
   "cell_type": "code",
   "execution_count": null,
   "id": "eb132135",
   "metadata": {
    "tags": [
     "keep"
    ]
   },
   "outputs": [],
   "source": [
    "def assert_flips_direction(player, index, directions):\n",
    "    board = Board()\n",
    "    board[index] = Field.LIGHT if player == Player.LIGHT else Field.DARK\n",
    "    print(f\"Player {player} at {index} flips {directions}.\")\n",
    "    print(board)\n",
    "\n",
    "    for d in set(Direction) - directions:\n",
    "        # noinspection PyProtectedMember\n",
    "        result = board._indices_to_flip_in_direction(player, index, d)\n",
    "        assert result == set(), f\"Fields flipped in {d} are not empty.\"\n",
    "\n",
    "    for d in directions:\n",
    "        # noinspection PyProtectedMember\n",
    "        result = board._indices_to_flip_in_direction(player, index, d)\n",
    "        assert result != set(), f\"Fields flipped in {d} are empty.\""
   ]
  },
  {
   "cell_type": "code",
   "execution_count": null,
   "id": "2bfc4bdd",
   "metadata": {
    "tags": [
     "keep"
    ]
   },
   "outputs": [],
   "source": [
    "assert_flips_direction(Player.LIGHT, (0, 0), set())\n",
    "assert_flips_direction(Player.LIGHT, (2, 3), {Direction.S})\n",
    "assert_flips_direction(Player.LIGHT, (3, 2), {Direction.E})\n",
    "assert_flips_direction(Player.LIGHT, (4, 5), {Direction.W})\n",
    "assert_flips_direction(Player.LIGHT, (5, 2), set())\n",
    "assert_flips_direction(Player.LIGHT, (5, 3), set())\n",
    "assert_flips_direction(Player.LIGHT, (5, 4), {Direction.N})\n",
    "assert_flips_direction(Player.LIGHT, (6, 4), set())"
   ]
  },
  {
   "cell_type": "code",
   "execution_count": null,
   "id": "dc7450e2",
   "metadata": {
    "tags": [
     "keep"
    ]
   },
   "outputs": [],
   "source": [
    "assert_flips_direction(Player.DARK, (0, 0), set())\n",
    "assert_flips_direction(Player.DARK, (2, 4), {Direction.S})\n",
    "assert_flips_direction(Player.DARK, (3, 5), {Direction.W})\n",
    "assert_flips_direction(Player.DARK, (4, 2), {Direction.E})\n",
    "assert_flips_direction(Player.DARK, (5, 2), set())\n",
    "assert_flips_direction(Player.DARK, (5, 3), {Direction.N})\n",
    "assert_flips_direction(Player.DARK, (5, 4), set())\n",
    "assert_flips_direction(Player.DARK, (6, 4), set())"
   ]
  },
  {
   "cell_type": "markdown",
   "id": "1142913c",
   "metadata": {
    "lang": "de"
   },
   "source": [
    "\n",
    "## Mini-Workshop\n",
    "\n",
    "Erweitern Sie die Klasse `Board` um eine Methode\n",
    "`is_valid_move(self, player: Player, index: Index) -> bool`\n",
    "die genau dann `True` zurückgibt, wenn `index` eine gültiger Index für\n",
    "den nächsten Zug des Spielers `player` ist.\n",
    "\n",
    "Ein Index ist gültig, wenn\n",
    "- Er nicht schon besetzt ist,\n",
    "- Mindestens ein Stein des Gegenspielers durch den Zug umgedreht wird\n"
   ]
  },
  {
   "cell_type": "code",
   "execution_count": null,
   "id": "2c9b7595",
   "metadata": {},
   "outputs": [],
   "source": []
  },
  {
   "cell_type": "code",
   "execution_count": null,
   "id": "cd96926b",
   "metadata": {
    "tags": [
     "keep"
    ]
   },
   "outputs": [],
   "source": [
    "def assert_valid_moves(player, valid_indices):\n",
    "    board = Board()\n",
    "    for row in range(8):\n",
    "        for col in range(8):\n",
    "            index = (row, col)\n",
    "            result = board.is_valid_move(player, index)\n",
    "            if index in valid_indices:\n",
    "                assert result, f\"Index {index} should be valid.\"\n",
    "            else:\n",
    "                assert not result, f\"Index {index} is valid?\""
   ]
  },
  {
   "cell_type": "code",
   "execution_count": null,
   "id": "c44b2fc4",
   "metadata": {
    "tags": [
     "keep"
    ]
   },
   "outputs": [],
   "source": [
    "print(Board())"
   ]
  },
  {
   "cell_type": "code",
   "execution_count": null,
   "id": "2b7a628e",
   "metadata": {
    "tags": [
     "keep"
    ]
   },
   "outputs": [],
   "source": [
    "valid_moves_for_light_player = {(2, 3), (3, 2), (4, 5), (5, 4)}\n",
    "assert_valid_moves(Player.LIGHT, valid_moves_for_light_player)"
   ]
  },
  {
   "cell_type": "code",
   "execution_count": null,
   "id": "8d7b7914",
   "metadata": {
    "tags": [
     "keep"
    ]
   },
   "outputs": [],
   "source": [
    "valid_move_for_dark_player = {(2, 4), (3, 5), (4, 2), (5, 3)}\n",
    "assert_valid_moves(Player.DARK, valid_move_for_dark_player)"
   ]
  },
  {
   "cell_type": "markdown",
   "id": "dffb1acf",
   "metadata": {
    "lang": "de"
   },
   "source": [
    "\n",
    "## Mini-Workshop\n",
    "\n",
    "Erweitern Sie die Klasse `Board` um eine Methode\n",
    "`find_valid_moves(self, player: Player) -> set[Index]`,\n",
    "die alle für den Spieler `player` möglichen Züge zurückgibt.\n",
    "\n",
    "*Hinweis:* Das können Sie leicht mittels *Generate and Test* erreichen:\n",
    "Erzeugen Sie alle möglichen Züge und testen Sie dann für jeden Zug, ob\n",
    "er möglich ist."
   ]
  },
  {
   "cell_type": "code",
   "execution_count": null,
   "id": "a3c5e34e",
   "metadata": {},
   "outputs": [],
   "source": []
  },
  {
   "cell_type": "code",
   "execution_count": null,
   "id": "ba4c0a0b",
   "metadata": {
    "lines_to_next_cell": 2,
    "tags": [
     "keep"
    ]
   },
   "outputs": [],
   "source": [
    "board = Board()\n",
    "assert board.find_valid_moves(Player.LIGHT) == valid_moves_for_light_player\n",
    "assert board.find_valid_moves(Player.DARK) == valid_move_for_dark_player"
   ]
  },
  {
   "cell_type": "markdown",
   "id": "b547237f",
   "metadata": {
    "lang": "de",
    "lines_to_next_cell": 2
   },
   "source": [
    "\n",
    "## Mini-Workshop\n",
    "\n",
    "Schreiben Sie eine Methode\n",
    "`play_move(self, player: Player, index: Index) -> None`,\n",
    "die den Zug von `player` auf das Feld `index` ausführt.\n",
    "Falls der Zug ungültig ist, soll eine Exception ausgelöst werden.\n",
    "Falls der Zug gültig ist, sollen alle Felder, die durch den Zug\n",
    "umgedreht werden von dieser Methode auf den korrekten Wert gesetzt werden.\n",
    "\n",
    "Schreiben Sie dazu geeignete Hilfsmethoden, damit `play_move` nicht zu\n",
    "viele Verantwortlichkeiten hat."
   ]
  },
  {
   "cell_type": "code",
   "execution_count": null,
   "id": "dd4946e7",
   "metadata": {},
   "outputs": [],
   "source": []
  },
  {
   "cell_type": "code",
   "execution_count": null,
   "id": "0242fbe4",
   "metadata": {
    "tags": [
     "keep"
    ]
   },
   "outputs": [],
   "source": [
    "def play_some_random_moves(n: int = 10):\n",
    "    board = Board()\n",
    "    player = Player.DARK\n",
    "    for _ in range(n):\n",
    "        print(board)\n",
    "        moves = board.find_valid_moves(player)\n",
    "        if moves:\n",
    "            move = sample(list(moves), 1)[0]\n",
    "            print(f\"Player {player} plays {move}.\")\n",
    "            board.play_move(player, move)\n",
    "        else:\n",
    "            print(f\"{player} has no more valid moves.\")\n",
    "        player = Player.LIGHT if player == Player.DARK else Player.DARK\n",
    "    print(board)"
   ]
  },
  {
   "cell_type": "code",
   "execution_count": null,
   "id": "9fb696d6",
   "metadata": {
    "tags": [
     "keep"
    ]
   },
   "outputs": [],
   "source": [
    "play_some_random_moves()"
   ]
  }
 ],
 "metadata": {
  "kernelspec": {
   "display_name": "Python 3 (ipykernel)",
   "language": "python",
   "name": "python3"
  }
 },
 "nbformat": 4,
 "nbformat_minor": 5
}
