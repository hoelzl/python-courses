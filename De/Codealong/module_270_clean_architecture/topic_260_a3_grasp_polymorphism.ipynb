{
 "cells": [
  {
   "cell_type": "markdown",
   "id": "b806296dd168fd98",
   "metadata": {
    "lang": "de",
    "slideshow": {
     "slide_type": "slide"
    }
   },
   "source": [
    "<img src=\"../../img/python-logo-no-text.svg\"\n",
    "     style=\"display:block;margin:auto;width:10%\"/>\n",
    "<br>\n",
    "<div style=\"text-align:center; font-size:200%;\">\n",
    " <b>GRASP: Polymorphie</b>\n",
    "</div>\n",
    "<br/>\n",
    "<div style=\"text-align:center;\">Dr. Matthias Hölzl</div>\n",
    "<br/>\n",
    "<div style=\"text-align:center;\">module_270_clean_architecture/topic_260_a3_grasp_polymorphism</div>"
   ]
  },
  {
   "cell_type": "markdown",
   "id": "9dd70fe73cf1049c",
   "metadata": {
    "lang": "de",
    "slideshow": {
     "slide_type": "slide"
    }
   },
   "source": [
    "\n",
    "# GRASP: Polymorphie"
   ]
  }
 ],
 "metadata": {},
 "nbformat": 4,
 "nbformat_minor": 5
}
