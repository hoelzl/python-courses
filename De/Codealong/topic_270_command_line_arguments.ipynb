{
 "cells": [
  {
   "cell_type": "markdown",
   "id": "d7d885a8",
   "metadata": {
    "lang": "de",
    "slideshow": {
     "slide_type": "slide"
    }
   },
   "source": [
    "<img src=\"img/python-logo-notext.svg\"\n",
    "     style=\"display:block;margin:auto;width:10%\"/>\n",
    "<br>\n",
    "<div style=\"text-align:center; font-size:200%;\"><b>Kommandozeilenargumente: Typer</b></div>\n",
    "<br/>\n",
    "<div style=\"text-align:center;\">Dr. Matthias Hölzl</div>"
   ]
  },
  {
   "cell_type": "markdown",
   "id": "a65518ca",
   "metadata": {
    "lang": "de",
    "slideshow": {
     "slide_type": "slide"
    }
   },
   "source": [
    "\n",
    " ## Verarbeiten von Command Line Arguments: Argparse und Typer\n",
    "\n",
    " - Für viele Anwendungsfälle ist eine Kommandozeilenanwendung ausreichend\n",
    " - Die manuelle Verarbeitung von Argumenten ist relativ aufwändig\n",
    " - Python bietet mit `argparse` eine sehr gute Bibliothek, die viele häufige Anwendungsfälle deutlich vereinfacht\n",
    " - Noch besser: [Typer](https://typer.tiangolo.com/)"
   ]
  },
  {
   "cell_type": "markdown",
   "id": "f5721f05",
   "metadata": {
    "lang": "de",
    "slideshow": {
     "slide_type": "subslide"
    }
   },
   "source": [
    "\n",
    "### Bestandteile von Typer:\n",
    "\n",
    "- Klasse `app = typer.Typer()` um die eigenen Klassen mit Typer zu verbinden.\n",
    "- Decorator `app.command()` um Funktionen als Kommandos zu definieren.\n",
    "- Parametern von Funktionen werden zu positionalen Argumenten oder benannten Optionen.\n",
    "- Viele Funktionen von CLI-Applikationen werden von Typer automatisch erzeugt."
   ]
  },
  {
   "cell_type": "markdown",
   "id": "ebe84dee",
   "metadata": {
    "lang": "de",
    "slideshow": {
     "slide_type": "subslide"
    }
   },
   "source": [
    "## Workshop\n",
    "\n",
    "- `Workshop_136_todo_list_v3`\n",
    "- Bis Abschnitt \"Kommandozeilenargumente\""
   ]
  }
 ],
 "metadata": {
  "kernelspec": {
   "display_name": "Python 3 (ipykernel)",
   "language": "python",
   "name": "python3"
  }
 },
 "nbformat": 4,
 "nbformat_minor": 5
}
