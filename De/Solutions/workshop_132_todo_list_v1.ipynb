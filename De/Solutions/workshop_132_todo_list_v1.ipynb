{
 "cells": [
  {
   "cell_type": "markdown",
   "id": "8b23e9ac",
   "metadata": {
    "lang": "de"
   },
   "source": [
    "# TODO-Liste Version 1\n",
    "\n",
    "Im Folgenden soll eine einfache Anwendung zur Verwaltung einer TODO-Liste\n",
    "erstellt werden.\n",
    "\n",
    "Jeder Eintrag in der TODO-Liste soll folgende Information enthalten:\n",
    "\n",
    "- Titel\n",
    "- Priorität\n",
    "- Wurde das Item schon erledigt oder nicht?\n",
    "\n",
    "Verwenden Sie im Folgenden ein Dictionary um einen Eintrag in der TODO-Liste\n",
    "darzustellen und eine Liste um die TODO-Liste zu repräsentieren:"
   ]
  },
  {
   "cell_type": "markdown",
   "id": "61cb4370",
   "metadata": {
    "lang": "de"
   },
   "source": [
    "Legen Sie eine Liste `todos` mit Todo-Items an, die folgende Einträge enthält:\n",
    "\n",
    "- Titel: Python lernen, Priorität 3, nicht erledigt\n",
    "- Titel: Gemüse einkaufen, Priorität 2, nicht erledigt\n",
    "- Titel: Hans anrufen, Priorität 5, erledigt"
   ]
  },
  {
   "cell_type": "code",
   "execution_count": null,
   "id": "03746380",
   "metadata": {},
   "outputs": [],
   "source": [
    "todos = [dict(title=\"Python lernen\", priority=3, is_completed=False)]\n",
    "todos"
   ]
  },
  {
   "cell_type": "code",
   "execution_count": null,
   "id": "c98b1950",
   "metadata": {},
   "outputs": [],
   "source": [
    "todos = [\n",
    "    {\"title\": \"Python lernen\", \"priority\": 3, \"is_completed\": False},\n",
    "    {\"title\": \"Gemüse einkaufen\", \"priority\": 2, \"is_completed\": False},\n",
    "    {\"title\": \"Hans anrufen\", \"priority\": 5, \"is_completed\": True},\n",
    "]"
   ]
  },
  {
   "cell_type": "code",
   "execution_count": null,
   "id": "ebc14ac6",
   "metadata": {},
   "outputs": [],
   "source": [
    "todos"
   ]
  },
  {
   "cell_type": "markdown",
   "id": "8f1088b5",
   "metadata": {
    "lang": "de"
   },
   "source": [
    "Schreiben Sie eine Funktion `add_todo_item(todo_list, title, priority)`,\n",
    "die ein neues Todo-Item zu `todo_list` hinzufügt."
   ]
  },
  {
   "cell_type": "code",
   "execution_count": null,
   "id": "ec130d46",
   "metadata": {},
   "outputs": [],
   "source": [
    "def add_todo_item(todo_list, title, priority):\n",
    "    todo_list.append({\"title\": title, \"priority\": priority, \"is_completed\": False})"
   ]
  },
  {
   "cell_type": "markdown",
   "id": "30facc0a",
   "metadata": {
    "lang": "de"
   },
   "source": [
    "Fügen Sie ein neues Todo-Item mit Titel \"Schnee schaufeln\" und Priorität 5\n",
    " in die Liste `todos` ein."
   ]
  },
  {
   "cell_type": "code",
   "execution_count": null,
   "id": "21cc83b0",
   "metadata": {},
   "outputs": [],
   "source": [
    "add_todo_item(todos, \"Schnee schaufeln\", 5)"
   ]
  },
  {
   "cell_type": "code",
   "execution_count": null,
   "id": "0ed68fd2",
   "metadata": {},
   "outputs": [],
   "source": [
    "todos"
   ]
  },
  {
   "cell_type": "markdown",
   "id": "8f8547f4",
   "metadata": {
    "lang": "de"
   },
   "source": [
    "Schreiben Sie eine Funktion `mark_todo_item_done(todo_list, title)`,\n",
    "die das erste in der Liste `todo_list` vorkommende Todo-Item mit Titel\n",
    " `title`, das noch nicht bearbeitet ist, als bearbeitet markiert."
   ]
  },
  {
   "cell_type": "code",
   "execution_count": null,
   "id": "f7ef08dc",
   "metadata": {},
   "outputs": [],
   "source": [
    "def mark_todo_item_done(todo_list, title):\n",
    "    for item in todo_list:\n",
    "        if item[\"title\"] == title and not item[\"is_completed\"]:\n",
    "            item[\"is_completed\"] = True\n",
    "            break"
   ]
  },
  {
   "cell_type": "markdown",
   "id": "581f25c4",
   "metadata": {
    "lang": "de"
   },
   "source": [
    "Markieren Sie das Todo-Item `Schnee schaufeln` als bearbeitet."
   ]
  },
  {
   "cell_type": "code",
   "execution_count": null,
   "id": "dc3324b8",
   "metadata": {},
   "outputs": [],
   "source": [
    "mark_todo_item_done(todos, \"Schnee schaufeln\")"
   ]
  },
  {
   "cell_type": "code",
   "execution_count": null,
   "id": "d76a0b8e",
   "metadata": {},
   "outputs": [],
   "source": [
    "todos"
   ]
  },
  {
   "cell_type": "markdown",
   "id": "f6daab4a",
   "metadata": {
    "lang": "de"
   },
   "source": [
    "Fügen Sie zwei Todo-Items mit Text \"Python lernen\" und Priorität 1 und 6\n",
    " zur Todo-Liste hinzu."
   ]
  },
  {
   "cell_type": "code",
   "execution_count": null,
   "id": "4ef104f9",
   "metadata": {},
   "outputs": [],
   "source": [
    "add_todo_item(todos, \"Python lernen\", 1)\n",
    "add_todo_item(todos, \"Python lernen\", 6)"
   ]
  },
  {
   "cell_type": "code",
   "execution_count": null,
   "id": "5c622bb6",
   "metadata": {},
   "outputs": [],
   "source": [
    "todos"
   ]
  },
  {
   "cell_type": "markdown",
   "id": "b75204c8",
   "metadata": {
    "lang": "de"
   },
   "source": [
    "Markieren Sie ein Todo-Item \"Python lernen\" als erledigt. Wie sieht jetzt\n",
    " Ihre Liste aus?"
   ]
  },
  {
   "cell_type": "code",
   "execution_count": null,
   "id": "68a84c07",
   "metadata": {},
   "outputs": [],
   "source": [
    "mark_todo_item_done(todos, \"Python lernen\")"
   ]
  },
  {
   "cell_type": "code",
   "execution_count": null,
   "id": "790bf74a",
   "metadata": {},
   "outputs": [],
   "source": [
    "todos"
   ]
  },
  {
   "cell_type": "markdown",
   "id": "9b732495",
   "metadata": {
    "lang": "de"
   },
   "source": [
    "Markieren Sie noch ein Todo-Item \"Python lernen\" als erledigt. Wie sieht\n",
    " jetzt Ihre Liste aus?"
   ]
  },
  {
   "cell_type": "code",
   "execution_count": null,
   "id": "29c43ae2",
   "metadata": {},
   "outputs": [],
   "source": [
    "mark_todo_item_done(todos, \"Python lernen\")\n",
    "todos"
   ]
  },
  {
   "cell_type": "markdown",
   "id": "a705af86",
   "metadata": {
    "lang": "de"
   },
   "source": [
    "\n",
    "Schreiben Sie eine Funktion `delete_todo_item(todo_list, title)`, die das\n",
    "erste in der liste `todo_list` vorkommende Todo-Item mit Titel `title` aus\n",
    " der Liste entfernt.\n",
    "\n",
    "*Vorsicht: Sie sollten während Sie über eine Liste iterieren keine Einträge\n",
    "entfernen oder einfügen!*"
   ]
  },
  {
   "cell_type": "code",
   "execution_count": null,
   "id": "7b059870",
   "metadata": {},
   "outputs": [],
   "source": [
    "def delete_todo_item(todo_list, title):\n",
    "    index_to_delete = -1\n",
    "    for index, item in enumerate(todo_list):\n",
    "        if item[\"title\"] == title:\n",
    "            index_to_delete = index\n",
    "            break\n",
    "    if index_to_delete >= 0:\n",
    "        del todo_list[index_to_delete]"
   ]
  },
  {
   "cell_type": "markdown",
   "id": "0f1342d3",
   "metadata": {
    "lang": "de",
    "pycharm": {
     "name": "#%% md\n"
    }
   },
   "source": [
    "Löschen Sie ein item `Python lernen` aus `todo_list`"
   ]
  },
  {
   "cell_type": "code",
   "execution_count": null,
   "id": "65b95596",
   "metadata": {},
   "outputs": [],
   "source": [
    "delete_todo_item(todos, \"Python lernen\")\n",
    "todos"
   ]
  },
  {
   "cell_type": "markdown",
   "id": "bdc96e4a",
   "metadata": {
    "lang": "de"
   },
   "source": [
    "Schreiben Sie eine Funktiion `delete_all_completed_todo_items(todo_list)`,\n",
    "die alle erledigten Todo-Items aus `todo_list` löscht.\n",
    "\n",
    "*Hinweis: Eine Möglichkeit diese Aufgabe zu lösen sind zwei\n",
    "aufeinanderfolgende `for`-Schleifen: eine um die Indizes zu bestimmen und\n",
    "eine um sie zu löschen. Beachten Sie die Reihenfolge, in der Sie Items\n",
    "löschen! Eine elegantere Methode ist eine List Comprehension und Zuweisung\n",
    "an ein Slice zu verwenden.*"
   ]
  },
  {
   "cell_type": "code",
   "execution_count": null,
   "id": "26f95fc1",
   "metadata": {},
   "outputs": [],
   "source": [
    "def delete_all_completed_todo_items(todo_list):\n",
    "    indices_to_delete = []\n",
    "    for index, item in enumerate(todo_list):\n",
    "        if item[\"is_completed\"]:\n",
    "            indices_to_delete.append(index)\n",
    "    for index in sorted(indices_to_delete, reverse=True):\n",
    "        del todo_list[index]"
   ]
  },
  {
   "cell_type": "code",
   "execution_count": null,
   "id": "669fc356",
   "metadata": {},
   "outputs": [],
   "source": [
    "# delete_all_completed_todo_items(todos)\n",
    "todos"
   ]
  },
  {
   "cell_type": "code",
   "execution_count": null,
   "id": "6f683952",
   "metadata": {},
   "outputs": [],
   "source": [
    "def delete_all_completed_todo_items_v2(todo_list):\n",
    "    todo_list[:] = [item for item in todo_list if not item[\"is_completed\"]]"
   ]
  },
  {
   "cell_type": "code",
   "execution_count": null,
   "id": "bb48042c",
   "metadata": {},
   "outputs": [],
   "source": [
    "delete_all_completed_todo_items_v2(todos)\n",
    "todos"
   ]
  },
  {
   "cell_type": "code",
   "execution_count": null,
   "id": "ffe9385b",
   "metadata": {
    "tags": [
     "keep"
    ]
   },
   "outputs": [],
   "source": []
  }
 ],
 "metadata": {
  "kernelspec": {
   "display_name": "Python 3 (ipykernel)",
   "language": "python",
   "name": "python3"
  }
 },
 "nbformat": 4,
 "nbformat_minor": 5
}
