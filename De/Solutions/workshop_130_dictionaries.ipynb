{
 "cells": [
  {
   "cell_type": "markdown",
   "id": "ab485d305a338a0a",
   "metadata": {
    "lang": "de"
   },
   "source": [
    "## Worthäufigkeiten\n",
    "\n",
    "Schreiben Sie eine Funktion `zähle_worte(text: str) -> dict`, die ein\n",
    "Dictionary zurückgibt, das die Anzahl der Vorkommen aller Worte in `text`\n",
    "enthält. Zum Beispiel soll\n",
    "\n",
    "```\n",
    "zähle_worte(\"It was the best of times it was the worst of times\")\n",
    "```\n",
    "\n",
    "folgendes Dictionary zurückgeben:\n",
    "\n",
    "```\n",
    "{ 'it': 2,\n",
    "  'was': 2,\n",
    "  'the': 2,\n",
    "  'best': 1,\n",
    "  'of': 2,\n",
    "  'times': 2,\n",
    "  'worst': 1\n",
    "}\n",
    "```\n",
    "Beachten Sie, dass alle Wörter in Kleinbuchstaben umgewandelt wurden.\n",
    "\n",
    "###  Hinweise\n",
    "- Sie können einen String mit der Methode `string.split()` in eine\n",
    "  Liste von Wörtern umwandeln\n",
    "- Sie können einen String mit der Methode `string.lower()` in einen String\n",
    "  umwandeln, der nur aus Kleinbuchstaben besteht."
   ]
  },
  {
   "cell_type": "code",
   "execution_count": null,
   "id": "cd6fd54eea870bac",
   "metadata": {},
   "outputs": [],
   "source": [
    "def zähle_worte(text: str) -> dict:\n",
    "    words = text.lower().split()\n",
    "    result = {}\n",
    "    for word in words:\n",
    "        count = result.get(word, 0)\n",
    "        result[word] = count + 1\n",
    "    return result"
   ]
  },
  {
   "cell_type": "markdown",
   "id": "5dab859754f07ad4",
   "metadata": {
    "lang": "de"
   },
   "source": [
    "Testen Sie Ihre Implementierung mit dem folgenden String:"
   ]
  },
  {
   "cell_type": "code",
   "execution_count": null,
   "id": "1ab52bef34d7bc63",
   "metadata": {
    "tags": [
     "keep"
    ]
   },
   "outputs": [],
   "source": [
    "dickens = \"It was the best of times it was the worst of times\""
   ]
  },
  {
   "cell_type": "code",
   "execution_count": null,
   "id": "96039669859af880",
   "metadata": {},
   "outputs": [],
   "source": [
    "zähle_worte(dickens)"
   ]
  },
  {
   "cell_type": "code",
   "execution_count": null,
   "id": "dbca489d7531fba8",
   "metadata": {},
   "outputs": [],
   "source": [
    "from pprint import pprint\n",
    "\n",
    "pprint(zähle_worte(dickens), width=30)"
   ]
  },
  {
   "cell_type": "code",
   "execution_count": null,
   "id": "924da995e1875132",
   "metadata": {},
   "outputs": [],
   "source": [
    "help(pprint)"
   ]
  },
  {
   "cell_type": "code",
   "execution_count": null,
   "id": "6b4e03423667dbb7",
   "metadata": {
    "tags": [
     "keep"
    ]
   },
   "outputs": [],
   "source": []
  }
 ],
 "metadata": {
  "kernelspec": {
   "display_name": "Python 3 (ipykernel)",
   "language": "python",
   "name": "python3"
  }
 },
 "nbformat": 4,
 "nbformat_minor": 5
}
