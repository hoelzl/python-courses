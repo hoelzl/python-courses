{
 "cells": [
  {
   "cell_type": "markdown",
   "id": "e6c0cbe4",
   "metadata": {
    "lang": "de"
   },
   "source": [
    "# Hauspreise in Californien"
   ]
  },
  {
   "cell_type": "code",
   "execution_count": null,
   "id": "d5fb04c6",
   "metadata": {
    "tags": [
     "keep"
    ]
   },
   "outputs": [],
   "source": [
    "from pathlib import Path\n",
    "import numpy as np\n",
    "import pandas as pd"
   ]
  },
  {
   "cell_type": "code",
   "execution_count": null,
   "id": "4173a6de",
   "metadata": {
    "tags": [
     "keep"
    ]
   },
   "outputs": [],
   "source": [
    "pandas_data_path = Path(\n",
    "    r\"C:\\Users\\tc\\Programming\\Python\\Courses\\Own\\python-programmierer\\Data\\Pandas\"\n",
    ")\n",
    "california_housing_csv_path = pandas_data_path / \"california-housing.csv\""
   ]
  },
  {
   "cell_type": "markdown",
   "id": "b1177fee",
   "metadata": {
    "lang": "de"
   },
   "source": [
    "## Laden des Datensatzes\n",
    "\n",
    "Laden Sie die CSV-Datei `california_housing_csv_path` als\n",
    "Pandas DataFrame. Importieren Sie dabei keine\n",
    "Spalten ohne Informationsgehalt."
   ]
  },
  {
   "cell_type": "code",
   "execution_count": null,
   "id": "11168ad3",
   "metadata": {},
   "outputs": [],
   "source": [
    "df = pd.read_csv(california_housing_csv_path, index_col=0)"
   ]
  },
  {
   "cell_type": "code",
   "execution_count": null,
   "id": "e0b15cd7",
   "metadata": {
    "lines_to_next_cell": 2
   },
   "outputs": [],
   "source": [
    "df"
   ]
  },
  {
   "cell_type": "markdown",
   "id": "7acb7fc9",
   "metadata": {
    "lang": "de"
   },
   "source": [
    "Wie viele Zeilen hat der DataFrame?"
   ]
  },
  {
   "cell_type": "code",
   "execution_count": null,
   "id": "d856687e",
   "metadata": {
    "lines_to_next_cell": 2
   },
   "outputs": [],
   "source": [
    "len(df)"
   ]
  },
  {
   "cell_type": "markdown",
   "id": "b66ce7c8",
   "metadata": {
    "lang": "de"
   },
   "source": [
    "Welche Spalten hat der DataFrame?\n",
    "Gibt es Spalten im DataFrame die undefinierte Werte (NA) enthalten?"
   ]
  },
  {
   "cell_type": "code",
   "execution_count": null,
   "id": "850dc5f5",
   "metadata": {},
   "outputs": [],
   "source": [
    "df.columns"
   ]
  },
  {
   "cell_type": "code",
   "execution_count": null,
   "id": "bda2e1e4",
   "metadata": {
    "lines_to_next_cell": 2,
    "tags": [
     "keep"
    ]
   },
   "outputs": [],
   "source": [
    "# This is true if `notna()` drops rows, i.e., if\n",
    "df.isna().sum()"
   ]
  },
  {
   "cell_type": "markdown",
   "id": "b4005f16",
   "metadata": {
    "lang": "de"
   },
   "source": [
    "\n",
    "Was sind Minimum, Maximum, Mittelwert und\n",
    "Standardabweichung der einzelnen Spalten?"
   ]
  },
  {
   "cell_type": "code",
   "execution_count": null,
   "id": "7c27e123",
   "metadata": {},
   "outputs": [],
   "source": [
    "df.describe()"
   ]
  },
  {
   "cell_type": "markdown",
   "id": "586c9262",
   "metadata": {
    "lang": "de"
   },
   "source": [
    "Erzeugen Sie Histogramme der einzelnen Spalten.\n",
    "Welche Auffälligkeiten gibt es dabei?"
   ]
  },
  {
   "cell_type": "code",
   "execution_count": null,
   "id": "ff808626",
   "metadata": {},
   "outputs": [],
   "source": [
    "df.hist(bins=30, figsize=(12, 8))"
   ]
  },
  {
   "cell_type": "markdown",
   "id": "2b72f208",
   "metadata": {
    "lang": "de"
   },
   "source": [
    "\n",
    "Erzeugen Sie einen neuen DataFrame, der nur die Zeilen enthält, deren `Target`\n",
    "Wert größer als 4 ist. Wie viele einträge hat dieser DataFrame?"
   ]
  },
  {
   "cell_type": "code",
   "execution_count": null,
   "id": "4a902e90",
   "metadata": {},
   "outputs": [],
   "source": [
    "df_expensive = df[df[\"Target\"] > 4]"
   ]
  },
  {
   "cell_type": "code",
   "execution_count": null,
   "id": "4a4b6d44",
   "metadata": {
    "lines_to_next_cell": 2
   },
   "outputs": [],
   "source": [
    "df_expensive"
   ]
  },
  {
   "cell_type": "markdown",
   "id": "d8a227a7",
   "metadata": {
    "lang": "de"
   },
   "source": [
    "\n",
    "Plotten Sie Longitude vs. Latitude als Scatterplot. Was können Sie aus diesem\n",
    "Plot ablesen?\n",
    "\n",
    "Mit dem Keyword-Argument `c` können Sie einen Spaltennamen angeben, deren\n",
    "Werte die Farbe der Ausgabe bestimmen. Mit `cmap` können Sie eine Colormap\n",
    "dafür angeben. Mit dem Keyword-Argument `alpha` können Sie die Transparenz der\n",
    "Ausgabe steuern.\n",
    "\n",
    "Experimentieren Sie mit diesen Werten um die Ausgabe informativer zu\n",
    "gestalten."
   ]
  },
  {
   "cell_type": "code",
   "execution_count": null,
   "id": "ac36f338",
   "metadata": {},
   "outputs": [],
   "source": [
    "df.plot(\n",
    "    kind=\"scatter\",\n",
    "    x=\"Longitude\",\n",
    "    y=\"Latitude\",\n",
    "    figsize=(10, 8),\n",
    "    alpha=0.4,\n",
    "    c=\"Target\",\n",
    "    cmap=\"hot\",\n",
    ")"
   ]
  },
  {
   "cell_type": "markdown",
   "id": "ff83d0f1",
   "metadata": {
    "lang": "de",
    "lines_to_next_cell": 2
   },
   "source": [
    "Wie sieht die entsprechende Ausgabe für den DataFrame aus, der nur\n",
    "teure Häuser enthält?"
   ]
  },
  {
   "cell_type": "code",
   "execution_count": null,
   "id": "1c6d97d8",
   "metadata": {
    "lines_to_next_cell": 2
   },
   "outputs": [],
   "source": [
    "df_expensive.plot(\n",
    "    kind=\"scatter\",\n",
    "    x=\"Longitude\",\n",
    "    y=\"Latitude\",\n",
    "    figsize=(10, 8),\n",
    "    alpha=0.4,\n",
    "    c=\"Target\",\n",
    "    cmap=\"hot\",\n",
    ")"
   ]
  },
  {
   "cell_type": "markdown",
   "id": "2e36a833",
   "metadata": {
    "lang": "de"
   },
   "source": [
    "\n",
    "Falls Sie Seaborn installiert haben können Sie mit `seaborn.pairplot()` ein\n",
    "Grid mit Scatterplots aus allen möglichen Kombinationen von Spalten erzeugen.\n",
    "Mit dem Keyword-Argument `hue` können Sie dabei eine Spalte angeben, die die\n",
    "Farbe der Ausgabe bestimmt.\n",
    "\n",
    "Welche der Plots liefern interessante Informationen? Welche Werte sind für\n",
    "`hue` interessant?\n",
    "\n",
    "*Hinweis:* Es empfiehlt sich, die Anzahl der Werte auf z.B. 500 oder 1000 zu\n",
    "beschränken um die Zeit, die die Erzeugung der Plots dauert in Grenzen zu\n",
    "halten."
   ]
  },
  {
   "cell_type": "code",
   "execution_count": null,
   "id": "1897c263",
   "metadata": {},
   "outputs": [],
   "source": [
    "import seaborn as sns\n",
    "\n",
    "# sns.pairplot(df.iloc[:500])"
   ]
  },
  {
   "cell_type": "code",
   "execution_count": null,
   "id": "7293f75e",
   "metadata": {},
   "outputs": [],
   "source": [
    "# sns.pairplot(df.iloc[:500], hue=\"Target\")"
   ]
  },
  {
   "cell_type": "code",
   "execution_count": null,
   "id": "63a98260",
   "metadata": {},
   "outputs": [],
   "source": [
    "# sns.pairplot(df.iloc[:500], hue=\"MedInc\")"
   ]
  },
  {
   "cell_type": "code",
   "execution_count": null,
   "id": "2d8fc2ab",
   "metadata": {},
   "outputs": [],
   "source": [
    "# sns.pairplot(df_expensive)"
   ]
  },
  {
   "cell_type": "code",
   "execution_count": null,
   "id": "c103dd0f",
   "metadata": {},
   "outputs": [],
   "source": [
    "df.columns"
   ]
  },
  {
   "cell_type": "code",
   "execution_count": null,
   "id": "71fbde77",
   "metadata": {},
   "outputs": [],
   "source": [
    "np.set_printoptions(precision=2)"
   ]
  },
  {
   "cell_type": "code",
   "execution_count": null,
   "id": "2241769a",
   "metadata": {},
   "outputs": [],
   "source": [
    "x = df[\n",
    "    [\n",
    "        \"MedInc\",\n",
    "        \"HouseAge\",\n",
    "        \"AveRooms\",\n",
    "        \"AveBedrms\",\n",
    "        \"Population\",\n",
    "        \"AveOccup\",\n",
    "        \"Latitude\",\n",
    "        \"Longitude\",\n",
    "    ]\n",
    "].to_numpy()\n",
    "y = df[\"Target\"].to_numpy()\n",
    "x.shape, y.shape"
   ]
  },
  {
   "cell_type": "code",
   "execution_count": null,
   "id": "2db33b82",
   "metadata": {},
   "outputs": [],
   "source": [
    "NUM_TRAINING_SAMPLES = 15_000"
   ]
  },
  {
   "cell_type": "code",
   "execution_count": null,
   "id": "87c5bcfa",
   "metadata": {},
   "outputs": [],
   "source": [
    "x_train, x_test = x[:NUM_TRAINING_SAMPLES], x[NUM_TRAINING_SAMPLES:]\n",
    "y_train, y_test = y[:NUM_TRAINING_SAMPLES], y[NUM_TRAINING_SAMPLES:]\n",
    "x_train.shape, x_test.shape, y_train.shape, y_test.shape"
   ]
  },
  {
   "cell_type": "code",
   "execution_count": null,
   "id": "2ccb572b",
   "metadata": {},
   "outputs": [],
   "source": [
    "from sklearn.linear_model import LinearRegression\n",
    "from sklearn.tree import DecisionTreeRegressor\n",
    "from sklearn.ensemble import RandomForestRegressor\n",
    "from sklearn.metrics import mean_absolute_error, mean_squared_error"
   ]
  },
  {
   "cell_type": "code",
   "execution_count": null,
   "id": "96fbd71f",
   "metadata": {},
   "outputs": [],
   "source": [
    "lr_model = LinearRegression()\n",
    "lr_model.fit(x_train, y_train)"
   ]
  },
  {
   "cell_type": "code",
   "execution_count": null,
   "id": "f27a18af",
   "metadata": {
    "lines_to_next_cell": 1
   },
   "outputs": [],
   "source": [
    "lr_pred = lr_model.predict(x_test)"
   ]
  },
  {
   "cell_type": "code",
   "execution_count": null,
   "id": "a55c4cba",
   "metadata": {},
   "outputs": [],
   "source": [
    "def print_score(y_true, y_pred):\n",
    "    mae = mean_absolute_error(y_true, y_pred)\n",
    "    mse = mean_squared_error(y_true, y_pred)\n",
    "    print(f\"Mean: {np.mean(y_true):.3f}\")\n",
    "    print(f\"MAE%: {mae/np.mean(y_true):.3f}\")\n",
    "    print(f\"MAE:  {mae:.3f}\")\n",
    "    print(f\"MSE:  {mse:.3f}\")"
   ]
  },
  {
   "cell_type": "code",
   "execution_count": null,
   "id": "f7dfe72f",
   "metadata": {},
   "outputs": [],
   "source": [
    "print_score(y_test, lr_pred)"
   ]
  },
  {
   "cell_type": "code",
   "execution_count": null,
   "id": "8f356a70",
   "metadata": {},
   "outputs": [],
   "source": [
    "dt_model = DecisionTreeRegressor()\n",
    "dt_model.fit(x_train, y_train)"
   ]
  },
  {
   "cell_type": "code",
   "execution_count": null,
   "id": "c3e9bbfb",
   "metadata": {},
   "outputs": [],
   "source": [
    "dt_pred = dt_model.predict(x_test)"
   ]
  },
  {
   "cell_type": "code",
   "execution_count": null,
   "id": "ec5aa153",
   "metadata": {},
   "outputs": [],
   "source": [
    "print_score(y_test, dt_pred)"
   ]
  },
  {
   "cell_type": "code",
   "execution_count": null,
   "id": "9ccc7623",
   "metadata": {},
   "outputs": [],
   "source": [
    "rf_model = RandomForestRegressor(n_jobs=32)\n",
    "rf_model.fit(x_train, y_train)"
   ]
  },
  {
   "cell_type": "code",
   "execution_count": null,
   "id": "73fa289e",
   "metadata": {},
   "outputs": [],
   "source": [
    "rf_pred = rf_model.predict(x_test)"
   ]
  },
  {
   "cell_type": "code",
   "execution_count": null,
   "id": "5f5869c2",
   "metadata": {},
   "outputs": [],
   "source": [
    "print_score(y_test, rf_pred)"
   ]
  },
  {
   "cell_type": "code",
   "execution_count": null,
   "id": "7c5a9e83",
   "metadata": {},
   "outputs": [],
   "source": [
    "x_train[:3]"
   ]
  },
  {
   "cell_type": "code",
   "execution_count": null,
   "id": "27a65ad5",
   "metadata": {},
   "outputs": [],
   "source": [
    "from sklearn.preprocessing import StandardScaler"
   ]
  },
  {
   "cell_type": "code",
   "execution_count": null,
   "id": "dbe7a40c",
   "metadata": {},
   "outputs": [],
   "source": [
    "scaler = StandardScaler()\n",
    "x_train = scaler.fit_transform(x_train)\n",
    "x_test = scaler.transform(x_test)"
   ]
  },
  {
   "cell_type": "code",
   "execution_count": null,
   "id": "5ef72038",
   "metadata": {
    "tags": [
     "keep"
    ]
   },
   "outputs": [],
   "source": [
    "x_train[:3]"
   ]
  },
  {
   "cell_type": "code",
   "execution_count": null,
   "id": "d2a8af97",
   "metadata": {},
   "outputs": [],
   "source": [
    "lr_model = LinearRegression()\n",
    "lr_model.fit(x_train, y_train)"
   ]
  },
  {
   "cell_type": "code",
   "execution_count": null,
   "id": "b9ed1e9d",
   "metadata": {},
   "outputs": [],
   "source": [
    "lr_pred = lr_model.predict(x_test)"
   ]
  },
  {
   "cell_type": "code",
   "execution_count": null,
   "id": "19dae785",
   "metadata": {},
   "outputs": [],
   "source": [
    "print_score(y_test, lr_pred)"
   ]
  },
  {
   "cell_type": "code",
   "execution_count": null,
   "id": "dfbf2eae",
   "metadata": {},
   "outputs": [],
   "source": [
    "dt_model = DecisionTreeRegressor()\n",
    "dt_model.fit(x_train, y_train)"
   ]
  },
  {
   "cell_type": "code",
   "execution_count": null,
   "id": "2663ec01",
   "metadata": {},
   "outputs": [],
   "source": [
    "dt_pred = dt_model.predict(x_test)"
   ]
  },
  {
   "cell_type": "code",
   "execution_count": null,
   "id": "f6de803f",
   "metadata": {},
   "outputs": [],
   "source": [
    "print_score(y_test, dt_pred)"
   ]
  },
  {
   "cell_type": "code",
   "execution_count": null,
   "id": "1e721f03",
   "metadata": {},
   "outputs": [],
   "source": [
    "rf_model = RandomForestRegressor(n_jobs=32)\n",
    "rf_model.fit(x_train, y_train)"
   ]
  },
  {
   "cell_type": "code",
   "execution_count": null,
   "id": "69b6dcd8",
   "metadata": {},
   "outputs": [],
   "source": [
    "rf_pred = rf_model.predict(x_test)"
   ]
  },
  {
   "cell_type": "code",
   "execution_count": null,
   "id": "3c31d21f",
   "metadata": {},
   "outputs": [],
   "source": [
    "print_score(y_test, rf_pred)"
   ]
  },
  {
   "cell_type": "code",
   "execution_count": null,
   "id": "ab0caf83",
   "metadata": {},
   "outputs": [],
   "source": []
  },
  {
   "cell_type": "code",
   "execution_count": null,
   "id": "c016c3f4",
   "metadata": {},
   "outputs": [],
   "source": []
  },
  {
   "cell_type": "code",
   "execution_count": null,
   "id": "3a0000ca",
   "metadata": {},
   "outputs": [],
   "source": []
  },
  {
   "cell_type": "code",
   "execution_count": null,
   "id": "eb18b2dd",
   "metadata": {},
   "outputs": [],
   "source": []
  },
  {
   "cell_type": "code",
   "execution_count": null,
   "id": "75cc53ae",
   "metadata": {},
   "outputs": [],
   "source": []
  }
 ],
 "metadata": {
  "kernelspec": {
   "display_name": "Python 3 (ipykernel)",
   "language": "python",
   "name": "python3"
  }
 },
 "nbformat": 4,
 "nbformat_minor": 5
}
