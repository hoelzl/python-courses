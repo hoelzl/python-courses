{
 "cells": [
  {
   "cell_type": "markdown",
   "id": "ead749f2d965cc87",
   "metadata": {
    "lang": "de"
   },
   "source": [
    "# Quiz\n",
    "\n",
    "Wir wollen ein Quiz in Python implementieren.\n",
    "\n",
    "Obwohl es möglich ist, die Implementierung in einem Notebook zu beginnen wäre es\n",
    "besser, dieses Projekt in einem IDE zu starten und das Notebook nur als\n",
    "Anleitung herzunehmen, da die späteren Teile im IDE besser zu realisieren sind.\n",
    "\n",
    "Definieren Sie eine Klasse `Question`, die einzelne Fragen und korrekte\n",
    "Antworten repräsentiert. Der Zustand der Klasse ist\n",
    "\n",
    "- Ein String `text`, der den Text der Frage darstellt.\n",
    "- Eine Liste von Strings `answers`, die die richtigen Antworten darstellen.\n",
    "\n",
    "`Question` hat die folgende Methoden:\n",
    "\n",
    "- `is_answer_correct(self, answer: str)`: überprüft, ob der String  `answer`\n",
    "  eine korrekte Antwort auf die Frage ist.\n",
    "- `correct_answer(self)`: Gibt eine der korrekten Antworten zurück."
   ]
  },
  {
   "cell_type": "code",
   "execution_count": null,
   "id": "0eeddf9295c18627",
   "metadata": {},
   "outputs": [],
   "source": [
    "class Question:\n",
    "    def __init__(self, text, answers):\n",
    "        self.text = text\n",
    "        self.answers = answers\n",
    "\n",
    "    def __str__(self):\n",
    "        return f\"{self.text!s}\"\n",
    "\n",
    "    def __repr__(self):\n",
    "        return f\"Question({self.text!r}, {self.answers!r})\"\n",
    "\n",
    "    def is_answer_correct(self, answer):\n",
    "        return answer in self.answers\n",
    "\n",
    "    def correct_answer(self):\n",
    "        return self.answers[0]"
   ]
  },
  {
   "cell_type": "markdown",
   "id": "05abdb9e85af7e13",
   "metadata": {
    "lang": "de"
   },
   "source": [
    "\n",
    "Testen Sie die Klasse (interaktiv, falls Sie die Aufgabe im Notebook\n",
    "bearbeiten, sonst mit pytest)"
   ]
  },
  {
   "cell_type": "code",
   "execution_count": null,
   "id": "372b1a6f6f210d13",
   "metadata": {},
   "outputs": [],
   "source": [
    "questions = [\n",
    "    Question(\"Wann wurde Napoleon geboren?\", [\"15. August 1769\", \"1769\"]),\n",
    "    Question(\"Wann wurde Python erfunden?\", [\"1991\"]),\n",
    "    Question(\n",
    "        \"Wer ist Pythons Benevolent Dictator For Life?\",\n",
    "        [\"Guido van Rossum\", \"Guido v. Rossum\"],\n",
    "    ),\n",
    "]\n",
    "questions"
   ]
  },
  {
   "cell_type": "code",
   "execution_count": null,
   "id": "fc92bf38bb8d7516",
   "metadata": {},
   "outputs": [],
   "source": [
    "questions[0].is_answer_correct(\"15. August 1769\")"
   ]
  },
  {
   "cell_type": "code",
   "execution_count": null,
   "id": "152ae0d3efb258df",
   "metadata": {},
   "outputs": [],
   "source": [
    "questions[0].correct_answer()"
   ]
  },
  {
   "cell_type": "markdown",
   "id": "9645fc32bbe6bf51",
   "metadata": {
    "lang": "de"
   },
   "source": [
    "Implementieren Sie jetzt eine Klasse `TriviaGame`, die eine Liste von\n",
    "`Question`-Instanzen enthält und eine Methode `run(self)` hat, die\n",
    "\n",
    "- zufällig eine Frage auswählt,\n",
    "- den Fragetext auf dem Bildschirm ausgibt,\n",
    "- den Benutzer nach seiner Antwort fragt,\n",
    "- die Antwort des Benutzers überprüft und\n",
    "- einen Text ausgibt, ob die Antwort richtig oder falsch war.\n",
    "\n",
    "Eine leere Eingabe soll das Spiel abbrechen. Am Ende des Spiels soll die\n",
    "Anzahl der beantworteten Fragen und der Prozentsatz der korrekt\n",
    "beantworteten Fragen zurückgegeben werden.\n",
    "\n",
    "*Hinweis:* Es empfiehlt sich einige Hilfsmethoden zu implementieren, die einen\n",
    "*Teil der Funktionalität von `run()` übernehmen. Eine Möglichkeit wäre\n",
    "\n",
    "- `percentage_questions_answered_correctly(self)` gibt den Prozentsatz der\n",
    "  richtig beantworteten Fragen zurück. (Achten Sie auf den Fall, dass der\n",
    "  Benutzer keine Frage beantwortet hat). Für diese Methode empfiehlt sich eine\n",
    "  Implementierung als Property.\n",
    "\n",
    "- `pick_random_question(self)` wählt zufällig eine der Fragen aus. Hierfür\n",
    "  leistet die Funktion `random.choice()` gute Dienste\n",
    "\n",
    "- `query_user_for_answer(self, question: Question)` und gibt diese zurück\n",
    "\n",
    "- `process_answer(self, question: Question, answer: str)` , wertet die Antwort\n",
    "  aus und gibt einen \"Statuscode\" zurück, der eine der folgende Möglichkeiten\n",
    "  beschreibt:\n",
    "\n",
    "  - Die Frage wurde korrekt beantwortet.\n",
    "  - Die Frage wurde falsch beantwortet.\n",
    "  - Der Spieler möchte das Spiel beenden.\n",
    "\n",
    "- `print_reply()` gibt eine Antwort basierend auf der Frage und dem\n",
    "  \"Statuscode\" zurück."
   ]
  },
  {
   "cell_type": "code",
   "execution_count": null,
   "id": "e48bcd840d3af57c",
   "metadata": {},
   "outputs": [],
   "source": [
    "from random import choice\n",
    "\n",
    "\n",
    "class TriviaGame:\n",
    "    EXIT = \"EXIT\"\n",
    "    CORRECT_ANSWER = \"CORRECT_ANSWER\"\n",
    "    FALSE_ANSWER = \"FALSE_ANSWER\"\n",
    "\n",
    "    def __init__(self, questions):\n",
    "        self.questions = questions\n",
    "        self.total_questions_answered = 0\n",
    "        self.questions_answered_correctly = 0\n",
    "\n",
    "    @property\n",
    "    def percentage_questions_answered_correctly(self):\n",
    "        total = self.total_questions_answered\n",
    "        if total == 0:\n",
    "            return 0.0\n",
    "        return self.questions_answered_correctly / total\n",
    "\n",
    "    def pick_random_question(self):\n",
    "        \"\"\"Pick a random question from all available ones.\"\"\"\n",
    "        return choice(self.questions)\n",
    "\n",
    "    @staticmethod\n",
    "    def query_user_for_answer(question):\n",
    "        \"\"\"Ask the user for an answer to the question.\n",
    "\n",
    "        :param question: the question\n",
    "        :return: the user's answer to the question\n",
    "        \"\"\"\n",
    "        print(question.text)\n",
    "        return input(\"Ihre Antwort: \")\n",
    "\n",
    "    def process_answer(self, question):\n",
    "        \"\"\"Processes an answer to a question.\n",
    "\n",
    "        Returns True if the game should continue, false otherwise\n",
    "        :param question: the question we asked the user\n",
    "        :return: status code indicating whether the answer was correct or not,\n",
    "                 or whether the user wants to quit the game\n",
    "        \"\"\"\n",
    "        answer = self.query_user_for_answer(question)\n",
    "        if answer == \"\":\n",
    "            return self.EXIT\n",
    "        elif question.is_answer_correct(answer):\n",
    "            self.total_questions_answered += 1\n",
    "            self.questions_answered_correctly += 1\n",
    "            return self.CORRECT_ANSWER\n",
    "        else:\n",
    "            self.total_questions_answered += 1\n",
    "            return self.FALSE_ANSWER\n",
    "\n",
    "    def print_reply(self, question, answer_status):\n",
    "        \"\"\"\n",
    "        Print a reply to the user's input.\n",
    "\n",
    "        :param question: the question we asked the user\n",
    "        :param answer_status: the status code returned by process_answer()\n",
    "        :return: nothing\n",
    "        \"\"\"\n",
    "        if answer_status == self.EXIT:\n",
    "            print(\"Auf Wiedersehen!\")\n",
    "            print(\n",
    "                f\"Sie haben {self.percentage_questions_answered_correctly}% \"\n",
    "                f\"von {self.total_questions_answered} Fragen richtig \"\n",
    "                \"beantwortet.\"\n",
    "            )\n",
    "        elif answer_status == self.CORRECT_ANSWER:\n",
    "            print(\"Hervorragend!\")\n",
    "        else:\n",
    "            print(\n",
    "                f\"Leider nein. Die richtige Antwort ist '{question.correct_answer()}''\"\n",
    "            )\n",
    "\n",
    "    def run(self):\n",
    "        while True:\n",
    "            question = self.pick_random_question()\n",
    "            result = self.process_answer(question)\n",
    "            self.print_reply(question, result)\n",
    "            if result == self.EXIT:\n",
    "                break"
   ]
  },
  {
   "cell_type": "code",
   "execution_count": null,
   "id": "36d682b558e378b0",
   "metadata": {},
   "outputs": [],
   "source": [
    "my_game = TriviaGame(questions)"
   ]
  },
  {
   "cell_type": "code",
   "execution_count": null,
   "id": "ac7e70c708511470",
   "metadata": {},
   "outputs": [],
   "source": [
    "my_game.pick_random_question()"
   ]
  },
  {
   "cell_type": "code",
   "execution_count": null,
   "id": "98962ca4058fe883",
   "metadata": {},
   "outputs": [],
   "source": [
    "# my_game.process_answer(my_game.pick_random_question())"
   ]
  },
  {
   "cell_type": "code",
   "execution_count": null,
   "id": "fd205e978ada045d",
   "metadata": {},
   "outputs": [],
   "source": [
    "# my_game.run()"
   ]
  }
 ],
 "metadata": {
  "kernelspec": {
   "display_name": "Python 3 (ipykernel)",
   "language": "python",
   "name": "python3"
  }
 },
 "nbformat": 4,
 "nbformat_minor": 5
}
