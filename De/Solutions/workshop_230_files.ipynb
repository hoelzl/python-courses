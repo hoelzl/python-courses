{
 "cells": [
  {
   "cell_type": "markdown",
   "id": "714c9690",
   "metadata": {
    "lang": "de"
   },
   "source": [
    "# Lesen und Schreiben in Dateien\n",
    "\n",
    "Schreiben Sie eine Funktion `write_text_to_file(text: str, file_name: str)\n",
    "-> None`, die den String `text` in die Datei `file_name` schreibt, sofern\n",
    "diese *nicht* existiert und eine Exception vom Typ `FileExistsError` wirft,\n",
    "falls die Datei existiert.\n",
    "\n",
    "*Hinweis:*  Beachten Sie die möglichen Werte für das `mode` Argument von\n",
    "`open()`."
   ]
  },
  {
   "cell_type": "code",
   "execution_count": null,
   "id": "a0364660",
   "metadata": {},
   "outputs": [],
   "source": [
    "def write_text_to_file(text, file_name):\n",
    "    with open(file_name, \"x\") as file:\n",
    "        file.write(text)"
   ]
  },
  {
   "cell_type": "markdown",
   "id": "275b0fb9",
   "metadata": {
    "lang": "de"
   },
   "source": [
    "\n",
    "Testen Sie die Funktion, indem Sie zweimal hintereinander versuchen den\n",
    "Text `Python 3.8` in die Datei `my-private-file.txt` zu schreiben."
   ]
  },
  {
   "cell_type": "code",
   "execution_count": null,
   "id": "98db9af8",
   "metadata": {},
   "outputs": [],
   "source": [
    "write_text_to_file(\"Python 3.8\", \"my_private_file.txt\")"
   ]
  },
  {
   "cell_type": "code",
   "execution_count": null,
   "id": "4d5457cf",
   "metadata": {},
   "outputs": [],
   "source": [
    "# write_text_to_file(\"Python 3.8\", \"my_private_file.txt\")"
   ]
  },
  {
   "cell_type": "markdown",
   "id": "ea5288f6",
   "metadata": {
    "lang": "de"
   },
   "source": [
    "Schreiben Sie eine Funktion `annotate_file(file_name: str) -> None`, die\n",
    "- den Inhalt der Datei `file_name` gefolgt von dem Text `(annotated version)`\n",
    "  auf dem Bildschirm ausgibt, falls sie existiert\n",
    "- den Text `No file found, we will bill the time we spent searching.` ausgibt\n",
    "  falls sie nicht existiert\n",
    "- in beiden Fällen den Text `Our invoice will be sent by mail.` ausgibt."
   ]
  },
  {
   "cell_type": "code",
   "execution_count": null,
   "id": "0b1d8d80",
   "metadata": {},
   "outputs": [],
   "source": [
    "def annotate_file(file_name):\n",
    "    try:\n",
    "        with open(file_name, \"r\") as file:\n",
    "            print(file.read())\n",
    "            print(\"(annotated version)\")\n",
    "    except FileNotFoundError:\n",
    "        print(\"No file found, we will bill the time we spent searching.\")\n",
    "    finally:\n",
    "        print(\"Our invoice will be sent by mail.\")"
   ]
  },
  {
   "cell_type": "code",
   "execution_count": null,
   "id": "ea1bf89d",
   "metadata": {},
   "outputs": [],
   "source": [
    "annotate_file(\"my_private_file.txt\")"
   ]
  },
  {
   "cell_type": "code",
   "execution_count": null,
   "id": "781ba7f1",
   "metadata": {},
   "outputs": [],
   "source": [
    "annotate_file(\"does-not-exist.txt\")"
   ]
  }
 ],
 "metadata": {
  "kernelspec": {
   "display_name": "Python 3 (ipykernel)",
   "language": "python",
   "name": "python3"
  }
 },
 "nbformat": 4,
 "nbformat_minor": 5
}
