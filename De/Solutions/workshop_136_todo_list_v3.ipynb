{
 "cells": [
  {
   "cell_type": "markdown",
   "id": "bc24905d",
   "metadata": {
    "lang": "de"
   },
   "source": [
    "# Todo-Liste Version 3\n",
    "\n",
    "In diesem Workshop wollen wir eine Todo-Liste implementieren, und dabei sowohl die\n",
    "Liste als auch die Einträge durch Instanzen von Klassen darstellen und die\n",
    "Implementierung in den Klassen kapseln.\n",
    "\n",
    "Es empfiehlt sich, diesen Workshop in einer IDE zu bearbeiten, da die\n",
    "letzten Teilaufgaben in Notebooks nicht sinnvoll implementiert werden\n",
    "können. **Schreiben Sie Tests zu jeder implementierten Methode,** entweder\n",
    "indem Sie im TDD-Stil Test-First arbeiten oder indem Sie unmittlebar nach\n",
    "der Implementierung einer Methode Unit-Tests dafür schreiben.\n",
    "\n",
    "Jeder Eintrag in der Todo-Liste soll folgende Information enthalten:\n",
    "\n",
    "- Titel\n",
    "- Priorität\n",
    "- Wurde das Item schon erledigt oder nicht?\n",
    "\n",
    "Definieren Sie eine Klasse `TodoItem`, die diese Daten kapselt.\n",
    "\n",
    "Implementieren Sie eine `__init__()`-Methode, die Titel als obligatorisches\n",
    "Argument bekommt. Priorität und \"wurde erledigt\" sollen optionale Parameter\n",
    "mit Weren 1 bzw. `False` sein.\n",
    "\n",
    "Implementieren Sie Methoden `__str__(self)` und `__repr__(self)`,\n",
    "die Instanzen der Klasse in Strings umwandeln.\n",
    "\n",
    "*Hinweise:*\n",
    "- Falls Sie V2 der Todo Liste bereits implementiert haben, sollten Sie diese Lösung kopieren und anpassen, da große Teile der Aufgaben übereinstimmen.\n",
    "- Sie können auch den `@dataclass` Decorator verwenden um sich die Arbeit zu erleichtern."
   ]
  },
  {
   "cell_type": "code",
   "execution_count": null,
   "id": "ec6d7772",
   "metadata": {
    "lines_to_next_cell": 2
   },
   "outputs": [],
   "source": [
    "class TodoItem:\n",
    "    def __init__(self, title, priority=1, is_completed=False):\n",
    "        self.title = title\n",
    "        self.priority = priority\n",
    "        self.is_completed = is_completed\n",
    "\n",
    "    def __str__(self):\n",
    "        return f\"{self.title}, priority {self.priority}\" + (\n",
    "            \"\" if not self.is_completed else \", done\"\n",
    "        )\n",
    "\n",
    "    def __repr__(self):\n",
    "        return f\"TodoItem({self.title!r}, {self.priority!r}, {self.is_completed!r})\""
   ]
  },
  {
   "cell_type": "markdown",
   "id": "b83be8ff",
   "metadata": {
    "lang": "de",
    "lines_to_next_cell": 2
   },
   "source": [
    "Legen Sie eine Liste mit Todo-Items an, die folgende Einträge\n",
    " enthält:\n",
    "\n",
    "- Titel: Python lernen, Priorität 3, nicht erledigt\n",
    "- Titel: Gemüse einkaufen, Priorität 2, nicht erledigt\n",
    "- Titel: Hans anrufen, Priorität 5, erledigt"
   ]
  },
  {
   "cell_type": "code",
   "execution_count": null,
   "id": "1c571626",
   "metadata": {},
   "outputs": [],
   "source": [
    "todos = [\n",
    "    TodoItem(\"Python lernen\", 3),\n",
    "    TodoItem(\"Gemüse einkaufen\", 2),\n",
    "    TodoItem(\"Hans anrufen\", 5, True),\n",
    "]\n",
    "todos"
   ]
  },
  {
   "cell_type": "markdown",
   "id": "40dc8efd",
   "metadata": {
    "lang": "de"
   },
   "source": [
    "Definieren Sie eine Klasse `TodoList`, die eine Todo-Liste repräsentiert.\n",
    "\n",
    "Implementieren Sie eine `__init__()` Methode, die eine Liste von\n",
    "TodoItems beschreiben, als Argument bekommt.\n",
    "\n",
    "Fügen Sie folgende Methoden hinzu:\n",
    "\n",
    "- `add(self, title: str, priority: int, is_completed: bool)`, die ein neues\n",
    "  Todo-Item an die Todo-Liste anhängt und geeignete Default-Werte für\n",
    "  `priority` und `is_completed` übergibt.\n",
    "\n",
    "- `mark_done(self, title)`, die das erste in der Liste vorkommende\n",
    "  Todo-Item mit Titel `title`, das noch nicht bearbeitet ist, als bearbeitet\n",
    "  markiert.\n",
    "\n",
    "- `delete(self, title)`, die das erste in der Liste vorkommende Todo-Item\n",
    "  mit Titel `title` aus der Liste entfernt.\n",
    "\n",
    "- `delete_all_completed(self)`, die alle beendetend Items aus der Liste\n",
    "  entfernt.\n",
    "\n",
    "- `__str__(self)` und `__repr__(self)`\n",
    "\n",
    "- `__iter__(self)`, so dass in einer `for`-Schleife über alle in der\n",
    "  Todo-Liste enthaltenen TodoItems iteriert werden kann.\n",
    "\n",
    "<!-- *Hinweis*: Kopieren Sie die Implementierung der Methoden aus\n",
    "`062z-Lösung Todo-Liste V1` oder ihrer vorherigen Implementierung und\n",
    " passen Sie den Code an. -->"
   ]
  },
  {
   "cell_type": "code",
   "execution_count": null,
   "id": "58021c32",
   "metadata": {},
   "outputs": [],
   "source": [
    "class TodoList:\n",
    "    def __init__(self, items: list[TodoItem]):\n",
    "        self.items = items\n",
    "\n",
    "    def __iter__(self):\n",
    "        return iter(self.items)\n",
    "\n",
    "    def add(self, title: str, priority: int = 1, is_completed: bool = False):\n",
    "        self.items.append(TodoItem(title, priority, is_completed))\n",
    "\n",
    "    def mark_done(self, title: str):\n",
    "        for item in self.items:\n",
    "            if item.title == title and not item.is_completed:\n",
    "                item.is_completed = True\n",
    "                return\n",
    "\n",
    "    def __str__(self):\n",
    "        from io import StringIO\n",
    "\n",
    "        result = StringIO()\n",
    "        print(\"Todo List:\", file=result)\n",
    "        for item in self.items:\n",
    "            print(f\"  {item!s}\", file=result)\n",
    "        return result.getvalue()\n",
    "\n",
    "    def __repr__(self):\n",
    "        return f\"TodoList({self.items!r})\""
   ]
  },
  {
   "cell_type": "markdown",
   "id": "f548b0fd",
   "metadata": {
    "lang": "de"
   },
   "source": [
    "Legen Sie eine Todo-Liste `todos` mit Todo-Items an, die folgende Einträge\n",
    " enthält:\n",
    "\n",
    "- Titel: Python lernen, Priorität 3, nicht erledigt\n",
    "- Titel: Gemüse einkaufen, Priorität 2, nicht erledigt\n",
    "- Titel: Hans anrufen, Priorität 5, erledigt"
   ]
  },
  {
   "cell_type": "code",
   "execution_count": null,
   "id": "5eea1b32",
   "metadata": {
    "lines_to_next_cell": 2
   },
   "outputs": [],
   "source": [
    "todo_list = TodoList(todos)\n",
    "print(todo_list)\n",
    "todo_list"
   ]
  },
  {
   "cell_type": "markdown",
   "id": "2e0bc7db",
   "metadata": {
    "lang": "de"
   },
   "source": [
    "Fügen Sie ein neues Todo-Item mit Titel \"Schnee schaufeln\" und Priorität 5\n",
    "in die Liste `todos` ein."
   ]
  },
  {
   "cell_type": "code",
   "execution_count": null,
   "id": "a1ff0579",
   "metadata": {},
   "outputs": [],
   "source": [
    "todo_list.add(\"Schnee schaufeln\", 5)\n",
    "print(todo_list)"
   ]
  },
  {
   "cell_type": "markdown",
   "id": "83e8c75b",
   "metadata": {
    "lang": "de"
   },
   "source": [
    "Fügen Sie zwei Todo-Items mit Text \"Python lernen\" und Priorität 1 und 6\n",
    "zur Todo-Liste hinzu."
   ]
  },
  {
   "cell_type": "code",
   "execution_count": null,
   "id": "48256d83",
   "metadata": {},
   "outputs": [],
   "source": [
    "todo_list.add(\"Python lernen\", 1)\n",
    "todo_list.add(\"Python lernen\", 6)\n",
    "print(todo_list)"
   ]
  },
  {
   "cell_type": "markdown",
   "id": "b9b386e2",
   "metadata": {
    "lang": "de"
   },
   "source": [
    "Markieren Sie ein Todo-Item \"Python lernen\" als erledigt.\n",
    "Wie sieht jetzt Ihre Liste aus?"
   ]
  },
  {
   "cell_type": "code",
   "execution_count": null,
   "id": "44781e8b",
   "metadata": {},
   "outputs": [],
   "source": [
    "todo_list.mark_done(\"Python lernen\")\n",
    "print(todo_list)"
   ]
  },
  {
   "cell_type": "markdown",
   "id": "f71ab0b3",
   "metadata": {
    "lang": "de"
   },
   "source": [
    "Markieren Sie noch zwei Todo-Items `Python lernen` als erledigt.\n",
    "Wie sieht jetzt Ihre Liste aus?"
   ]
  },
  {
   "cell_type": "code",
   "execution_count": null,
   "id": "b58eeede",
   "metadata": {},
   "outputs": [],
   "source": [
    "todo_list.mark_done(\"Python lernen\")\n",
    "print(todo_list)"
   ]
  },
  {
   "cell_type": "markdown",
   "id": "74f1822c",
   "metadata": {
    "lang": "de"
   },
   "source": [
    "Fügen Sie zu Ihrer `TodoList` Klasse eine Methode `delete_todo_item(todo_list, title)`\n",
    "hinzu, die das erste in der liste `todo_list` vorkommende Todo-Item mit Titel `title`\n",
    "aus der Liste entfernt.\n",
    "\n",
    "*Vorsicht: Sie sollten während Sie über eine Liste iterieren keine Einträge\n",
    "entfernen oder einfügen!*"
   ]
  },
  {
   "cell_type": "code",
   "execution_count": null,
   "id": "668ba4c1",
   "metadata": {
    "lines_to_next_cell": 2
   },
   "outputs": [],
   "source": [
    "class TodoList:\n",
    "    def __init__(self, items: list[TodoItem]):\n",
    "        self.items = items\n",
    "\n",
    "    def add(self, title, priority=1, is_completed=False):\n",
    "        self.items.append(TodoItem(title, priority, is_completed))\n",
    "\n",
    "    def mark_done(self, title):\n",
    "        for item in self.items:\n",
    "            if item.title == title and not item.is_completed:\n",
    "                item.is_completed = True\n",
    "                break\n",
    "\n",
    "    def delete(self, title):\n",
    "        index_to_delete = -1\n",
    "        for index, item in enumerate(self.items):\n",
    "            if item.title == title:\n",
    "                index_to_delete = index\n",
    "                break\n",
    "        if index_to_delete >= 0:\n",
    "            del self.items[index_to_delete]\n",
    "\n",
    "    def delete_all_completed(self):\n",
    "        indices_to_delete = []\n",
    "        # To keep PyCharm happy\n",
    "        assert isinstance(self.items, list)\n",
    "        for index, item in enumerate(self.items):\n",
    "            if item.is_completed:\n",
    "                indices_to_delete.append(index)\n",
    "        import numpy as np\n",
    "\n",
    "        self.items = np.delete(self.items, indices_to_delete).tolist()\n",
    "\n",
    "    def __str__(self):\n",
    "        from io import StringIO\n",
    "\n",
    "        result = StringIO()\n",
    "        print(\"Todo List:\", file=result)\n",
    "        for item in self.items:\n",
    "            print(f\"  {item!s}\", file=result)\n",
    "        return result.getvalue()\n",
    "\n",
    "    def __repr__(self):\n",
    "        return f\"TodoList({self.items!r})\"\n",
    "\n",
    "    def __iter__(self):\n",
    "        return (i for i in self.items)"
   ]
  },
  {
   "cell_type": "markdown",
   "id": "af12faab",
   "metadata": {
    "lang": "de"
   },
   "source": [
    "## Laden und Speichern\n",
    "\n",
    "Erweitern Sie die Klasse `TodoList` um eine Methode\n",
    "\n",
    "```save_to_file(self, file)```\n",
    "\n",
    "und eine statische Methode\n",
    "\n",
    "```load_from_file(file)```\n",
    "\n",
    "mit der Todo-Listen gespeichert und geladen werden können.\n",
    "\n",
    "*Hinweis:* Am Einfachsten ist das mit der `pickle` Bibliothek."
   ]
  },
  {
   "cell_type": "markdown",
   "id": "d1037d05",
   "metadata": {
    "lang": "de"
   },
   "source": [
    "## Kommandozeilenargumente\n",
    "\n",
    "Fügen Sie eine Datei `__main__.py` zu Ihrer Implementierung hinzu, und verarbeiten Sie\n",
    "die folgenden Kommandozeilen-Argumente:\n",
    "\n",
    "- `create file`: erstellt `file` als leere Datei\n",
    "\n",
    "- `add file title --priority priority` fügt ein neues Todo-Item zu `file`\n",
    "  hinzu. `title` ist ein verpflichtendes Argument für den Titel, `prioprity` ist\n",
    "  optional\n",
    "\n",
    "- `delete file title` löscht das erste Todo-Item mit Titel `title` aus der\n",
    "  Todo-Liste\n",
    "\n",
    "- `mark-completed file title` markiert das erste Todo-Item mit Titel `title`\n",
    "  als erledigt\n",
    "\n",
    "- `delete-all-completed file` entfernt alle erledigten Items aus `file`\n",
    "\n",
    "- `list file` gibt die TODO-Liste aus\n",
    "\n",
    "- Das positionales Argument `file`, das in allen Subkommandos vorkommt,\n",
    "  bennennt eine Datei, in der eine TODO-Liste gespeichert ist bzw.\n",
    "  gespeichert werden kann. Dieses Argument muss angegeben werden. Der Inhalt\n",
    "  von `file` ist eine   Todo-Liste im `pickle` Format.\n",
    "\n",
    "Verwenden Sie Typer zur Implementierung des Command-Line Interfaces.\n",
    "\n",
    "Beispielaufrufe:\n",
    "\n",
    "```shell\n",
    "$ python -m todos create my-todos.pkl\n",
    "$ python -m todos add my-todos.pkl 'Kaufe Äpfel' --priority 1\n",
    "$ python -m todos list my-todos.pkl\n",
    "Todo List:\n",
    "  Kaufe Äpfel, priority 1\n",
    "$ python -m todos add my-todos.pkl 'Lese Zeitung' --priority 2\n",
    "$ python -m todos mark-completed my-todos.pkl 'Lese Zeitung'\n",
    "$ python -m todos list my-todos.pkl\n",
    "```\n",
    "\n",
    "Die vorgenommenen Änderungen sollen von jedem Kommando in `file` gespeichert werden."
   ]
  },
  {
   "cell_type": "code",
   "execution_count": null,
   "id": "79647126",
   "metadata": {
    "tags": [
     "keep"
    ]
   },
   "outputs": [],
   "source": []
  },
  {
   "cell_type": "markdown",
   "id": "156e490c",
   "metadata": {
    "lang": "de"
   },
   "source": [
    "## Packaging\n",
    "\n",
    "Fügen Sie eine `setup.cfg` Datei, sowie alle weiteren benötigten Dateien zu\n",
    "Ihrem Projekt hinzu, um daraus eine Wheel-Datei zu generieren.\n",
    "\n",
    "Erzeugen Sie in der `setup.cfg`-Datei ein Skript, das Ihre Anwendung startet."
   ]
  },
  {
   "cell_type": "code",
   "execution_count": null,
   "id": "04f8b126",
   "metadata": {
    "tags": [
     "keep"
    ]
   },
   "outputs": [],
   "source": []
  }
 ],
 "metadata": {
  "kernelspec": {
   "display_name": "Python 3 (ipykernel)",
   "language": "python",
   "name": "python3"
  }
 },
 "nbformat": 4,
 "nbformat_minor": 5
}
