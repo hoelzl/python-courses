{
 "cells": [
  {
   "cell_type": "markdown",
   "id": "1a25f3f5",
   "metadata": {
    "lang": "de"
   },
   "source": [
    "# RPG-Würfel\n",
    "\n",
    "In Rollenspielen werden Konflikte zwischen Spielern oft durch Würfeln\n",
    "entschieden. Dabei werden oft mehrere Würfel gleichzeitig verwendet. Außerdem\n",
    "werden nicht nur die bekannten 6-seitigen Würfel verwendet, sondern auch\n",
    "4-seitige, 8-seitige, 20-seitige Würfel, etc.\n",
    "\n",
    "Die Anzahl und Art der Würfel wird dabei durch folgende Notation beschrieben:\n",
    "\n",
    "```text\n",
    "<Anzahl der Würfel> d <Seiten pro Würfel>\n",
    "```\n",
    "\n",
    "Zum Beispiel wird das Würfeln mit zwei 6-seitigen Würfeln als `2d6`\n",
    "beschrieben. Manchmal werden auch komplexere Formeln verwendet: \n",
    "`3d20 + 2d6 - 4` bedeutet, dass gleichzeitig drei 20-seitige Würfel und zwei 6-seitige\n",
    "Würfel geworfen werden und die Gesamtsumme der Augenzahlen dann um 4\n",
    "verringert wird.\n",
    "\n",
    "In manchen Spielen wird das Werfen der niedrigsten oder höchsten Augenzahl\n",
    "besonders behandelt (\"katastrophale Niederlage\", \"kritischer Erfolg\").\n",
    "\n",
    "In den folgenden Aufgaben sollen Sie derartige RPG-Würfel in Python\n",
    "implementieren. Um Ihre Implementierung testen zu können empfiehlt es sich\n",
    "sie in einem IDE zu realisieren. \n",
    "\n",
    "Schreiben Sie Tests für jede Funktionalität, die Sie implementieren.\n",
    "Wie können Sie beim Testen mit der Zufälligkeit beim Würfeln umgehen?\n",
    "Was sind Stärken bzw. Schwächen der von Ihnen gewählten Teststrategie?"
   ]
  },
  {
   "cell_type": "markdown",
   "id": "21c8d44a",
   "metadata": {
    "lang": "de"
   },
   "source": [
    "## Generalisierte Würfel: Interface `Dice`\n",
    "\n",
    "Implementieren Sie eine abstrakte Klasse `Dice`, die das Würfeln mit\n",
    "beliebigen Würfeln beschreibt: Die Klasse soll folgende abstrakte Methoden\n",
    "anbieten:\n",
    "\n",
    "- `roll(): int` liefert das Ergebnis eines Wurfes mit den entsprechenden\n",
    "  Würfeln zurück.\n",
    "\n",
    "- properties `max_value: int` und `min_value: int` geben den kleinsten bzw.\n",
    "  größten Wert zurück, der mit den entsprechenden Würfeln geworfen werden\n",
    "  kann.\n",
    "\n",
    "Falls Sie Pytest verwenden:\n",
    "Schreiben Sie parametrische Pytest Tests, mit denen (indirekte) Instanzen\n",
    "von `Dice` getestet werden können."
   ]
  },
  {
   "cell_type": "code",
   "execution_count": null,
   "id": "793caebe",
   "metadata": {},
   "outputs": [],
   "source": [
    "import random\n",
    "from abc import ABC, abstractmethod\n",
    "from typing import Tuple, Callable, Sequence, Union, Iterable"
   ]
  },
  {
   "cell_type": "code",
   "execution_count": null,
   "id": "8cfb3c71",
   "metadata": {},
   "outputs": [],
   "source": [
    "class Dice(ABC):\n",
    "    \"\"\"Roll with a combination of multiple dice.\"\"\"\n",
    "\n",
    "    @abstractmethod\n",
    "    def roll(self) -> int:\n",
    "        ...\n",
    "\n",
    "    @property\n",
    "    @abstractmethod\n",
    "    def min_value(self) -> int:\n",
    "        ...\n",
    "\n",
    "    @property\n",
    "    @abstractmethod\n",
    "    def max_value(self) -> int:\n",
    "        ..."
   ]
  },
  {
   "cell_type": "markdown",
   "id": "bae6b0c7",
   "metadata": {
    "lang": "de"
   },
   "source": [
    "## Klasse `ConstantDice`\n",
    "\n",
    "Implementieren Sie eine Klasse `ConstantDice`, die das Interface `Dice`\n",
    "implementiert und einen Würfel realisiert, der immer einen konstanten, bei der\n",
    "Instanziierung des Objekts festgelegten Wert würfelt."
   ]
  },
  {
   "cell_type": "code",
   "execution_count": null,
   "id": "d4327a14",
   "metadata": {
    "lines_to_next_cell": 2
   },
   "outputs": [],
   "source": [
    "dice = ConstantDice(3)\n",
    "assert dice.min_value == 3\n",
    "assert dice.max_value == 3\n",
    "assert dice.roll() == 3"
   ]
  },
  {
   "cell_type": "markdown",
   "id": "e9720608",
   "metadata": {
    "lang": "de"
   },
   "source": [
    "## Klasse `FairDice`\n",
    "\n",
    "Implementieren Sie eine Klasse `FairDice`, die das Interface `Dice`\n",
    "implementiert und einen der oben beschriebenen Würfe mit mehreren Würfeln\n",
    "einer beliebigen (aber für alle Würfel gleichen) Augenzahl realisiert. Z.B.\n",
    "sollen Würfe der Form `3d6` oder `4d17` durch Instanzen dieser Klasse\n",
    "darstellbar sein (obwohl es in der Realität keinen 17-seitigen (fairen)\n",
    "Würfel gibt).\n",
    "\n",
    "Wie können Sie beim Testen mit der Zufälligkeit beim Würfeln umgehen? Was\n",
    "sind Stärken bzw. Schwächen der gewählten Teststrategie?\n",
    "\n",
    "*Hinweis:* Die Funktionen `random.randint()` und `random.seed()` können \n",
    "bei dieser Aufgabe hilfreich sein."
   ]
  },
  {
   "cell_type": "code",
   "execution_count": null,
   "id": "e8c6e4ab",
   "metadata": {},
   "outputs": [],
   "source": [
    "class FairDice(Dice):\n",
    "    def __init__(self, num_dice, num_sides):\n",
    "        assert num_dice >= 1\n",
    "        assert num_sides >= 2\n",
    "\n",
    "        self.num_dice = num_dice\n",
    "        self.num_sides = num_sides\n",
    "\n",
    "    def __eq__(self, other):\n",
    "        if isinstance(other, FairDice):\n",
    "            return (self.num_dice == other.num_dice\n",
    "                    and self.num_sides == other.num_sides)\n",
    "        else:\n",
    "            return False\n",
    "\n",
    "    def roll(self) -> int:\n",
    "        result = 0\n",
    "        for _ in range(self.num_dice):\n",
    "            result += random.randint(1, self.num_sides)\n",
    "        return result\n",
    "\n",
    "    @property\n",
    "    def min_value(self) -> int:\n",
    "        return self.num_dice\n",
    "\n",
    "    @property\n",
    "    def max_value(self) -> int:\n",
    "        return self.num_sides * self.num_dice"
   ]
  },
  {
   "cell_type": "code",
   "execution_count": null,
   "id": "69ef303a",
   "metadata": {},
   "outputs": [],
   "source": [
    "dice = FairDice(2, 6)\n",
    "assert dice.min_value == 2\n",
    "assert dice.max_value == 12\n",
    "random.seed(1)\n",
    "assert dice.roll() == 7"
   ]
  },
  {
   "cell_type": "markdown",
   "id": "de13189f",
   "metadata": {
    "lang": "de"
   },
   "source": [
    "## Klasse `SumDice`\n",
    "\n",
    "Implementieren Sie eine Klasse `SumDice`, die das Interface `Dice`\n",
    "implementiert und die Summe des Würfelns mit mehreren verschiedenen Würfeln\n",
    "(potentiell der Form `<m>d<n>`) repräsentiert."
   ]
  },
  {
   "cell_type": "code",
   "execution_count": null,
   "id": "0053a76a",
   "metadata": {},
   "outputs": [],
   "source": [
    "class SumDice(Dice):\n",
    "    def __init__(self, dice: Iterable):\n",
    "        assert dice\n",
    "        self.dice = dice\n",
    "\n",
    "    def __eq__(self, other):\n",
    "        if isinstance(other, SumDice):\n",
    "            return self.dice == other.dice\n",
    "        else:\n",
    "            return False\n",
    "\n",
    "    def roll(self) -> int:\n",
    "        return sum(d.roll() for d in self.dice)\n",
    "\n",
    "    @property\n",
    "    def min_value(self) -> int:\n",
    "        return sum(d.min_value for d in self.dice)\n",
    "\n",
    "    @property\n",
    "    def max_value(self) -> int:\n",
    "        return sum(d.max_value for d in self.dice)\n",
    "\n"
   ]
  },
  {
   "cell_type": "code",
   "execution_count": null,
   "id": "036aad82",
   "metadata": {},
   "outputs": [],
   "source": [
    "dice = SumDice([ConstantDice(3), ConstantDice(2)])\n",
    "assert dice.min_value == 5\n",
    "assert dice.max_value == 5\n",
    "assert dice.roll() == 5"
   ]
  },
  {
   "cell_type": "code",
   "execution_count": null,
   "id": "c1388201",
   "metadata": {},
   "outputs": [],
   "source": [
    "dice = SumDice([ConstantDice(1), FairDice(2, 6)])\n",
    "assert dice.min_value == 3\n",
    "assert dice.max_value == 13\n",
    "random.seed(1)\n",
    "assert dice.roll() == 8"
   ]
  },
  {
   "cell_type": "markdown",
   "id": "7cb479d2",
   "metadata": {
    "lang": "de"
   },
   "source": [
    "## Klasse `SimpleDie`\n",
    "\n",
    "Implementieren Sie eine Klasse `SimpleDie`, die das Interface `Dice`\n",
    "implementiert und das Würfeln mit einem Würfel beliebiger, bei der\n",
    "Instanziierung des Würfels festgelegten, Seitenzahl ermöglicht."
   ]
  },
  {
   "cell_type": "code",
   "execution_count": null,
   "id": "1aa67d79",
   "metadata": {},
   "outputs": [],
   "source": [
    "class SimpleDie(Dice):\n",
    "    def __init__(self, num_sides):\n",
    "        assert num_sides >= 2\n",
    "        self.num_sides = num_sides\n",
    "\n",
    "    def __eq__(self, other):\n",
    "        if isinstance(other, SimpleDie):\n",
    "            return self.num_sides == other.num_sides\n",
    "        else:\n",
    "            return False\n",
    "\n",
    "    def roll(self) -> int:\n",
    "        return random.randint(1, self.num_sides)\n",
    "\n",
    "    @property\n",
    "    def min_value(self) -> int:\n",
    "        return 1\n",
    "\n",
    "    @property\n",
    "    def max_value(self) -> int:\n",
    "        return self.num_sides"
   ]
  },
  {
   "cell_type": "code",
   "execution_count": null,
   "id": "08368c1c",
   "metadata": {},
   "outputs": [],
   "source": [
    "die = SimpleDie(6)\n",
    "assert die.min_value == 1\n",
    "assert die.max_value == 6\n",
    "random.seed(1)\n",
    "assert die.roll() == 2"
   ]
  },
  {
   "cell_type": "markdown",
   "id": "b5707462",
   "metadata": {
    "lang": "de"
   },
   "source": [
    "## Klasse `MultipleRollDice`\n",
    "\n",
    "Implementieren Sie eine Klasse `MultipleRollDice`, die das Interface `Dice`\n",
    "implementiert und das wiederholte Würfeln mit einem (generalisierten)\n",
    "Würfel realisiert.\n",
    "\n",
    "Was ist die Beziehung zwischen `FairDice` und der Kombination aus\n",
    "`SimpleDie` und `MultipleRollDice`? Wie unterscheiden sich die beiden\n",
    "Implementierungsstrategien in ihrer Testbarkeit."
   ]
  },
  {
   "cell_type": "code",
   "execution_count": null,
   "id": "48e2a688",
   "metadata": {},
   "outputs": [],
   "source": [
    "class MultipleRollDice(Dice):\n",
    "    def __init__(self, rolls, dice):\n",
    "        assert rolls >= 1\n",
    "        assert dice\n",
    "        self.rolls = rolls\n",
    "        self.dice = dice\n",
    "\n",
    "    def __eq__(self, other):\n",
    "        if isinstance(other, MultipleRollDice):\n",
    "            return self.rolls == other.rolls and self.dice == other.dice\n",
    "        else:\n",
    "            return False\n",
    "\n",
    "    def roll(self) -> int:\n",
    "        result = 0\n",
    "        for _ in range(self.rolls):\n",
    "            result += self.dice.roll()\n",
    "        return result\n",
    "\n",
    "    @property\n",
    "    def min_value(self) -> int:\n",
    "        return self.rolls * self.dice.min_value\n",
    "\n",
    "    @property\n",
    "    def max_value(self) -> int:\n",
    "        return self.rolls * self.dice.max_value\n",
    "\n"
   ]
  },
  {
   "cell_type": "code",
   "execution_count": null,
   "id": "cce517db",
   "metadata": {},
   "outputs": [],
   "source": [
    "dice = MultipleRollDice(2, SimpleDie(6))\n",
    "assert dice.min_value == 2\n",
    "assert dice.max_value == 12\n",
    "random.seed(1)\n",
    "assert dice.roll() == 7"
   ]
  },
  {
   "cell_type": "markdown",
   "id": "5691d62f",
   "metadata": {
    "lang": "de"
   },
   "source": [
    "# Factory für RPG-Würfel\n",
    "\n",
    "Schreiben Sie eine Funktion `create_dice(configuration: str) -> Dice`,\n",
    "die eine Konfiguration von RPG-Würfeln als Argument bekommt und eine\n",
    "geeignete Konfiguration von Dice-Instanzen zurückgibt.  Zum Beispiel soll\n",
    "für \"3d8 + 6\" ein `SumDice` zurückgegeben werden, der einen `FairDice` (mit\n",
    "3 8-seitigen Würfeln) und einen `ConstantDice` mit dem Wert 6 enthält."
   ]
  },
  {
   "cell_type": "code",
   "execution_count": null,
   "id": "80a17365",
   "metadata": {
    "tags": [
     "keep"
    ]
   },
   "outputs": [],
   "source": []
  }
 ],
 "metadata": {
  "kernelspec": {
   "display_name": "Python 3 (ipykernel)",
   "language": "python",
   "name": "python3"
  }
 },
 "nbformat": 4,
 "nbformat_minor": 5
}
