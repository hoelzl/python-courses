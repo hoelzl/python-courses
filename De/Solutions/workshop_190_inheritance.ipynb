{
 "cells": [
  {
   "cell_type": "markdown",
   "id": "8c2390c1ffa389fc",
   "metadata": {
    "lang": "de"
   },
   "source": [
    "# Vererbung\n",
    "\n",
    "Im Folgenden soll eine Klassenhierarchie für Mitarbeiter einer Firma erstellt\n",
    "werden:\n",
    "\n",
    "- Mitarbeiter können entweder Arbeiter oder Manager sein\n",
    "- Jeder Mitarbeiter der Firma hat einen Namen, eine Personalnummer und ein\n",
    "  Grundgehalt\n",
    "- Für jeden Arbeiter werden die angefallenen Überstunden und der Stundenlohn\n",
    "  gespeichert.\n",
    "- Das Gehalt eines Arbeiters berechnet sich als das 13/12-fache des\n",
    "  Grundgehalts plus der Bezahlung für die Überstunden\n",
    "- Jeder Manager hat einen individuellen Bonus\n",
    "- Das Gehalt eines Managers berechnet sich als das 13/12-fache des\n",
    "  Grundgehalts plus Bonus\n",
    "\n",
    "Implementieren Sie Python Klassen `Mitarbeiter`, `Arbeiter` und `Manager` mit\n",
    "geeigneten Attributen und einer Methode `gehalt()`, die das Gehalt berechnet.\n"
   ]
  },
  {
   "cell_type": "code",
   "execution_count": null,
   "id": "f7af0ef2b4da5e85",
   "metadata": {
    "lines_to_next_cell": 1
   },
   "outputs": [],
   "source": [
    "from dataclasses import dataclass\n",
    "\n",
    "from numpy import isin"
   ]
  },
  {
   "cell_type": "code",
   "execution_count": null,
   "id": "740a65441ef91bc6",
   "metadata": {},
   "outputs": [],
   "source": [
    "@dataclass\n",
    "class Mitarbeiter:\n",
    "    name: str\n",
    "    pers_nr: str\n",
    "    grundgehalt: float\n",
    "\n",
    "    @property\n",
    "    def gehalt(self):\n",
    "        return 13 / 12 * self.grundgehalt"
   ]
  },
  {
   "cell_type": "code",
   "execution_count": null,
   "id": "675d23f04df8b85d",
   "metadata": {},
   "outputs": [],
   "source": [
    "@dataclass\n",
    "class Arbeiter(Mitarbeiter):\n",
    "    überstunden: float = 0.0\n",
    "    stundensatz: float = 0.0\n",
    "\n",
    "    @property\n",
    "    def gehalt(self):\n",
    "        return super().gehalt + self.überstunden * self.stundensatz"
   ]
  },
  {
   "cell_type": "code",
   "execution_count": null,
   "id": "cb18dd95f2444a85",
   "metadata": {},
   "outputs": [],
   "source": [
    "@dataclass\n",
    "class Manager(Mitarbeiter):\n",
    "    bonus: float\n",
    "\n",
    "    @property\n",
    "    def gehalt(self):\n",
    "        return super().gehalt + self.bonus"
   ]
  },
  {
   "cell_type": "markdown",
   "id": "66dc1567d95018ed",
   "metadata": {
    "lang": "de"
   },
   "source": [
    "\n",
    "Erzeugen Sie einen Arbeiter mit Namen Hans, Personalnummer 123, einem\n",
    "Grundgehalt von  36000.0 Euro, der 3.5 Überstunden zu je 40.0 Euro gearbeit\n",
    "hat. Drucken Sie das Gehalt aus."
   ]
  },
  {
   "cell_type": "code",
   "execution_count": null,
   "id": "aa7c2ea1301605ee",
   "metadata": {},
   "outputs": [],
   "source": [
    "a = Arbeiter(\"Hans\", \"123\", 36_000, 3.5, 40.0)\n",
    "print(a.gehalt)\n",
    "a"
   ]
  },
  {
   "cell_type": "markdown",
   "id": "47c1a65f5657873d",
   "metadata": {
    "lang": "de"
   },
   "source": [
    "Schreiben sie Assertions, die die Funktionalität der Klasse `Arbeiter` testen."
   ]
  },
  {
   "cell_type": "code",
   "execution_count": null,
   "id": "1a0fe2f8ea25078f",
   "metadata": {},
   "outputs": [],
   "source": [
    "# Diese Assertions sind überflüssig! /  These assertions are superfluous!\n",
    "assert a.name == \"Hans\"\n",
    "assert a.pers_nr == \"123\"\n",
    "assert a.grundgehalt == 36_000\n",
    "assert a.überstunden == 3.5\n",
    "assert a.stundensatz == 40.0\n",
    "\n",
    "# Diese Assertion sollte vorhanden sein / This is the assertion that should be present\n",
    "assert a.gehalt == 39_140.0"
   ]
  },
  {
   "cell_type": "markdown",
   "id": "b8d8cd549354d1f2",
   "metadata": {
    "lang": "de"
   },
   "source": [
    "\n",
    "Erzeugen Sie einen Manager mit Namen Sepp, Personalnummer 666, der ein\n",
    "Grundgehalt von 60000.0 Euro und einen Bonus von 30000.0 Euro hat. Drucken Sie\n",
    "das Gehalt aus."
   ]
  },
  {
   "cell_type": "code",
   "execution_count": null,
   "id": "2a9dbf357b22fa73",
   "metadata": {},
   "outputs": [],
   "source": [
    "m = Manager(\"Sepp\", \"666\", 60_000.0, 30_000.0)\n",
    "print(m.gehalt)\n",
    "m"
   ]
  },
  {
   "cell_type": "markdown",
   "id": "4f7545ac5aeca525",
   "metadata": {
    "lang": "de"
   },
   "source": [
    "Testen Sie die Funktionalität der `Manager` Klasse."
   ]
  },
  {
   "cell_type": "code",
   "execution_count": null,
   "id": "291600e793a26574",
   "metadata": {},
   "outputs": [],
   "source": [
    "assert m.gehalt == 95_000.0"
   ]
  },
  {
   "cell_type": "markdown",
   "id": "98b21d3bcf77eb16",
   "metadata": {
    "lang": "de"
   },
   "source": [
    "## Lösung ohne Dataclasses:"
   ]
  },
  {
   "cell_type": "code",
   "execution_count": null,
   "id": "26e68b59d94f4a2a",
   "metadata": {},
   "outputs": [],
   "source": [
    "class Mitarbeiter:\n",
    "    def __init__(self, name, pers_nr, grundgehalt):\n",
    "        self.name = name\n",
    "        self.pers_nr = pers_nr\n",
    "        self.grundgehalt = grundgehalt\n",
    "\n",
    "    @property\n",
    "    def gehalt(self):\n",
    "        return 13 / 12 * self.grundgehalt"
   ]
  },
  {
   "cell_type": "code",
   "execution_count": null,
   "id": "3859b7206821c8ba",
   "metadata": {},
   "outputs": [],
   "source": [
    "class Arbeiter(Mitarbeiter):\n",
    "    def __init__(self, name, pers_nr, grundgehalt, überstunden, stundensatz):\n",
    "        super().__init__(name, pers_nr, grundgehalt)\n",
    "        self.überstunden = überstunden\n",
    "        self.stundensatz = stundensatz\n",
    "\n",
    "    def __repr__(self):\n",
    "        return (\n",
    "            f\"Arbeiter({self.name!r}, {self.pers_nr!r}, {self.grundgehalt}, \"\n",
    "            f\"{self.überstunden}, {self.stundensatz})\"\n",
    "        )\n",
    "\n",
    "    @property\n",
    "    def gehalt(self):\n",
    "        return super().gehalt + self.überstunden * self.stundensatz"
   ]
  },
  {
   "cell_type": "code",
   "execution_count": null,
   "id": "29facd87054059e8",
   "metadata": {},
   "outputs": [],
   "source": [
    "class Manager(Mitarbeiter):\n",
    "    def __init__(self, name, pers_nr, grundgehalt, bonus):\n",
    "        super().__init__(name, pers_nr, grundgehalt)\n",
    "        self.bonus = bonus\n",
    "\n",
    "    def __repr__(self):\n",
    "        return (\n",
    "            f\"Manager({self.name!r}, {self.pers_nr!r}, {self.grundgehalt}, \"\n",
    "            f\"{self.bonus})\"\n",
    "        )\n",
    "\n",
    "    @property\n",
    "    def gehalt(self):\n",
    "        return super().gehalt + self.bonus"
   ]
  },
  {
   "cell_type": "code",
   "execution_count": null,
   "id": "e5e205373591b1b4",
   "metadata": {},
   "outputs": [],
   "source": [
    "a = Arbeiter(\"Hans\", 123, 36_000, 3, 40)\n",
    "print(a.gehalt)\n",
    "a"
   ]
  },
  {
   "cell_type": "code",
   "execution_count": null,
   "id": "e4426102dc29da1e",
   "metadata": {
    "lines_to_next_cell": 2
   },
   "outputs": [],
   "source": [
    "m = Manager(\"Sepp\", 666, 60_000, 30_000)\n",
    "print(m.gehalt)\n",
    "m"
   ]
  },
  {
   "cell_type": "markdown",
   "id": "b32a55c1d156ef27",
   "metadata": {
    "lang": "de"
   },
   "source": [
    "\n",
    "# Bank Account\n",
    "\n",
    "Definieren Sie eine Klasse `BankAccount` mit einem Attribut `balance: float`\n",
    "und Methoden `deposit(amount: float)` und `withdraw(amount: float)`.\n",
    "\n",
    "*Hinweis: Für eine realistischere Implementierung sollte `decimal.Decimal`\n",
    "statt `float` verwendet werden.*\n",
    "\n",
    "Die Klasse soll in folgenden Fällen eine Exception vom Typ `ValueError`\n",
    "auslösen:\n",
    "\n",
    "- Wenn ein neuer `BankAccount` mit negativer `balance` angelegt werden soll.\n",
    "- Wenn `deposit` mit einem negativen Wert aufgerufen wird.\n",
    "- Wenn `withdraw` mit einem negativen Wert aufgerufen wird oder durch das\n",
    "  Abheben des Betrags die `balance` des Kontos negativ werden würde."
   ]
  },
  {
   "cell_type": "code",
   "execution_count": null,
   "id": "320b5ab6a2189660",
   "metadata": {},
   "outputs": [],
   "source": [
    "from dataclasses import dataclass\n",
    "\n",
    "\n",
    "@dataclass\n",
    "class BankAccount:\n",
    "    balance: float\n",
    "\n",
    "    def __post_init__(self):\n",
    "        if self.balance < 0:\n",
    "            raise ValueError(\n",
    "                f\"Cannot create an account with negative balance: {self.balance}.\"\n",
    "            )\n",
    "\n",
    "    def deposit(self, amount: float):\n",
    "        if amount > 0:\n",
    "            self.balance += amount\n",
    "        else:\n",
    "            raise ValueError(f\"Cannot deposit a negative amount: {amount}\")\n",
    "\n",
    "    def withdraw(self, amount: float):\n",
    "        if amount > 0:\n",
    "            if amount <= self.balance:\n",
    "                self.balance -= amount\n",
    "            else:\n",
    "                raise ValueError(\n",
    "                    f\"Cannot withdraw {amount} because it exceeds \"\n",
    "                    f\"the current balance of {self.balance}.\"\n",
    "                )\n",
    "        else:\n",
    "            raise ValueError(f\"Cannot withdraw a negative amount: {amount}\")"
   ]
  },
  {
   "cell_type": "markdown",
   "id": "87407c388dbc72c2",
   "metadata": {
    "lang": "de"
   },
   "source": [
    "\n",
    "Testen Sie die Funktionalität der Klasse sowohl für erfolgreiche\n",
    "Transaktionen, als auch für Transaktionen, die Exceptions auslösen."
   ]
  },
  {
   "cell_type": "code",
   "execution_count": null,
   "id": "40d290ed3b8605b8",
   "metadata": {},
   "outputs": [],
   "source": [
    "BankAccount(100.0)"
   ]
  },
  {
   "cell_type": "code",
   "execution_count": null,
   "id": "c98ce4f47b5007b7",
   "metadata": {},
   "outputs": [],
   "source": [
    "try:\n",
    "    BankAccount(-100)\n",
    "except ValueError as err:\n",
    "    print(\"ERROR:\", err)"
   ]
  },
  {
   "cell_type": "code",
   "execution_count": null,
   "id": "daf85eb3575e1a00",
   "metadata": {},
   "outputs": [],
   "source": [
    "b = BankAccount(100.0)\n",
    "b"
   ]
  },
  {
   "cell_type": "code",
   "execution_count": null,
   "id": "9a4be5664e433c3b",
   "metadata": {},
   "outputs": [],
   "source": [
    "b.deposit(200.0)\n",
    "b"
   ]
  },
  {
   "cell_type": "code",
   "execution_count": null,
   "id": "9337c1f8c0de5cd5",
   "metadata": {},
   "outputs": [],
   "source": [
    "try:\n",
    "    b.deposit(-100.0)\n",
    "except ValueError as err:\n",
    "    print(\"ERROR:\", err)"
   ]
  },
  {
   "cell_type": "code",
   "execution_count": null,
   "id": "bcca290bdf5f09e5",
   "metadata": {},
   "outputs": [],
   "source": [
    "b.withdraw(50.0)\n",
    "b"
   ]
  },
  {
   "cell_type": "code",
   "execution_count": null,
   "id": "12f081fd1079a8da",
   "metadata": {},
   "outputs": [],
   "source": [
    "try:\n",
    "    b.withdraw(-200.0)\n",
    "except ValueError as err:\n",
    "    print(\"ERROR:\", err)"
   ]
  },
  {
   "cell_type": "code",
   "execution_count": null,
   "id": "6b8a9c43b26d825b",
   "metadata": {},
   "outputs": [],
   "source": [
    "try:\n",
    "    b.withdraw(1000.0)\n",
    "except ValueError as err:\n",
    "    print(\"ERROR:\", err)"
   ]
  },
  {
   "cell_type": "markdown",
   "id": "5c0f1e85afb5b1c1",
   "metadata": {
    "lang": "de"
   },
   "source": [
    "## Lösung ohne Dataclasses:"
   ]
  },
  {
   "cell_type": "code",
   "execution_count": null,
   "id": "85652ebdc6d33f6d",
   "metadata": {},
   "outputs": [],
   "source": [
    "class BankAccount:\n",
    "    def __init__(self, balance):\n",
    "        if balance < 0:\n",
    "            raise ValueError(\n",
    "                f\"Cannot create an account with negative balance: {balance}.\"\n",
    "            )\n",
    "        self.balance = balance\n",
    "\n",
    "    def __repr__(self):\n",
    "        return f\"BankAccount({self.balance:.2f})\"\n",
    "\n",
    "    def deposit(self, amount: float):\n",
    "        if amount > 0:\n",
    "            self.balance += amount\n",
    "        else:\n",
    "            raise ValueError(f\"Cannot deposit a negative amount: {amount}\")\n",
    "\n",
    "    def withdraw(self, amount: float):\n",
    "        if amount <= 0:\n",
    "            raise ValueError(f\"Cannot withdraw a negative amount: {amount}\")\n",
    "        if amount > self.balance:\n",
    "            raise ValueError(\n",
    "                f\"Cannot withdraw {amount} because it exceeds \"\n",
    "                f\"the current balance of {self.balance}.\"\n",
    "            )\n",
    "        self.balance -= amount"
   ]
  },
  {
   "cell_type": "code",
   "execution_count": null,
   "id": "f8e59ae96c51e335",
   "metadata": {},
   "outputs": [],
   "source": [
    "BankAccount(100.0)"
   ]
  },
  {
   "cell_type": "code",
   "execution_count": null,
   "id": "ab19ef94f343a0cb",
   "metadata": {},
   "outputs": [],
   "source": [
    "try:\n",
    "    BankAccount(-100)\n",
    "except ValueError as err:\n",
    "    print(\"ERROR:\", err)"
   ]
  },
  {
   "cell_type": "code",
   "execution_count": null,
   "id": "e6a1b01ac9c6a381",
   "metadata": {},
   "outputs": [],
   "source": [
    "b = BankAccount(100.0)\n",
    "b"
   ]
  },
  {
   "cell_type": "code",
   "execution_count": null,
   "id": "20fca8eb336f1e60",
   "metadata": {},
   "outputs": [],
   "source": [
    "b.deposit(200.0)\n",
    "b"
   ]
  },
  {
   "cell_type": "code",
   "execution_count": null,
   "id": "793f44672ca966b0",
   "metadata": {},
   "outputs": [],
   "source": [
    "try:\n",
    "    b.deposit(-100.0)\n",
    "except ValueError as err:\n",
    "    print(\"ERROR:\", err)"
   ]
  },
  {
   "cell_type": "code",
   "execution_count": null,
   "id": "12511f70e140bf61",
   "metadata": {},
   "outputs": [],
   "source": [
    "b.withdraw(50.0)\n",
    "b"
   ]
  },
  {
   "cell_type": "code",
   "execution_count": null,
   "id": "14b57506d2e6387f",
   "metadata": {},
   "outputs": [],
   "source": [
    "try:\n",
    "    b.withdraw(-200.0)\n",
    "except ValueError as err:\n",
    "    print(\"ERROR:\", err)"
   ]
  },
  {
   "cell_type": "code",
   "execution_count": null,
   "id": "8d27bf5210171da2",
   "metadata": {},
   "outputs": [],
   "source": [
    "try:\n",
    "    b.withdraw(1000.0)\n",
    "except ValueError as err:\n",
    "    print(\"ERROR:\", err)"
   ]
  },
  {
   "cell_type": "markdown",
   "id": "d01304af0e4e9022",
   "metadata": {
    "lang": "de"
   },
   "source": [
    "# Protokolle\n",
    "\n",
    "Implementieren Sie ein zur Laufzeit überprüfbares Protokoll `SupportsConnect`,\n",
    "das Instanzen von Klassen beschreibt, die eine Methode `connect(self, device)`\n",
    "haben."
   ]
  },
  {
   "cell_type": "code",
   "execution_count": null,
   "id": "1d2d119e6fb08461",
   "metadata": {
    "lines_to_next_cell": 1
   },
   "outputs": [],
   "source": [
    "from typing import Protocol, runtime_checkable"
   ]
  },
  {
   "cell_type": "code",
   "execution_count": null,
   "id": "457eb1a365189cdf",
   "metadata": {},
   "outputs": [],
   "source": [
    "@runtime_checkable\n",
    "class SupportsConnect(Protocol):\n",
    "    def connect(self, device):\n",
    "        ..."
   ]
  },
  {
   "cell_type": "markdown",
   "id": "cc59860d5e2e7f7d",
   "metadata": {
    "lang": "de"
   },
   "source": [
    "\n",
    "Implementieren Sie Klassen `Plugboard` und `PatchCord`, die das\n",
    "`SupportsConnect` Protokoll unterstützen."
   ]
  },
  {
   "cell_type": "code",
   "execution_count": null,
   "id": "9bb08823925893a3",
   "metadata": {
    "lines_to_next_cell": 1
   },
   "outputs": [],
   "source": [
    "class Plugboard:\n",
    "    def connect(self, device):\n",
    "        print(\"Connecting plugboard to device.\")"
   ]
  },
  {
   "cell_type": "code",
   "execution_count": null,
   "id": "33251616fc24b51c",
   "metadata": {
    "lines_to_next_cell": 1
   },
   "outputs": [],
   "source": [
    "issubclass(Plugboard, SupportsConnect)"
   ]
  },
  {
   "cell_type": "code",
   "execution_count": null,
   "id": "3071ca9b26e2c0ea",
   "metadata": {
    "lines_to_next_cell": 1
   },
   "outputs": [],
   "source": [
    "class PatchCord:\n",
    "    def connect(self, device):\n",
    "        print(\"Connecting patch cord to device.\")"
   ]
  },
  {
   "cell_type": "code",
   "execution_count": null,
   "id": "254c89e41a4e5520",
   "metadata": {
    "lines_to_next_cell": 1
   },
   "outputs": [],
   "source": [
    "issubclass(PatchCord, SupportsConnect)"
   ]
  },
  {
   "cell_type": "markdown",
   "id": "ba3002938bf7f362",
   "metadata": {
    "lang": "de"
   },
   "source": [
    "Erfüllt die folgende Klasse das Protokoll `SupportsConnect`? Lässt sich das\n",
    "zur Laufzeit feststellen?"
   ]
  },
  {
   "cell_type": "code",
   "execution_count": null,
   "id": "3c82461b1be90155",
   "metadata": {
    "lines_to_next_cell": 1,
    "tags": [
     "keep"
    ]
   },
   "outputs": [],
   "source": [
    "class SelfConnector:\n",
    "    def connect(self):\n",
    "        print(\"Connecting to self!\")"
   ]
  },
  {
   "cell_type": "code",
   "execution_count": null,
   "id": "28b959fbd257f5d5",
   "metadata": {},
   "outputs": [],
   "source": [
    "issubclass(SelfConnector, SupportsConnect)"
   ]
  },
  {
   "cell_type": "code",
   "execution_count": null,
   "id": "6b4e03423667dbb7",
   "metadata": {
    "tags": [
     "keep"
    ]
   },
   "outputs": [],
   "source": []
  }
 ],
 "metadata": {
  "kernelspec": {
   "display_name": "Python 3 (ipykernel)",
   "language": "python",
   "name": "python3"
  }
 },
 "nbformat": 4,
 "nbformat_minor": 5
}
