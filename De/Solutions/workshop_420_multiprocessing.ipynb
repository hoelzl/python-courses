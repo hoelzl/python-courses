{
 "cells": [
  {
   "cell_type": "markdown",
   "id": "d920657e73d0b32d",
   "metadata": {
    "lang": "de"
   },
   "source": [
    "\n",
    "# Monte-Carlo Methoden\n",
    "\n",
    "Monte-Carlo Methoden sind statistische Berechnungen, die wiederholte Berechnungen mit\n",
    "Zufallszahlen verwenden, um numerische Ergebnisse zu erhalten. In dieser Aufgabe\n",
    "wollen wir die Zahl $\\pi$ mit Monte-Carlo Methoden berechnen. Der Grundgedanke ist\n",
    "folgender:\n",
    "\n",
    "- $\\pi$ entspricht dem Flächeninhalt eines Kreises mit Radius 1.\n",
    "- Wir erzeugen zwei Zufallszahlen $x$ und $y$, die jeweils zwischen 0 und 1 liegen.\n",
    "- Wir berechnen $x^2 + y^2$ und testen, ob der Wert $\\leq 1$ ist. In diesem Fall\n",
    "  liegt der Punkt $(x, y)$ im Kreis mit Radius 1 um den Ursprung andererseits nicht.\n",
    "- Wir führen diese Berechnung sehr oft durch, und zählen, welcher Prozentsatz der\n",
    "  Punkte im Kreis liegt.\n",
    "- Da alle Punkte im ersten Quadranten liegen, erhalten wir eine Approximation von\n",
    "  $\\pi$ indem wir das Ergebnis mit 4 multiplizieren.\n"
   ]
  },
  {
   "cell_type": "markdown",
   "id": "5887fa9628f5e725",
   "metadata": {
    "lang": "de"
   },
   "source": [
    "\n",
    "Die folgende Funktion erzeugt einen Punkt $(x, y)$ wie beschrieben:"
   ]
  },
  {
   "cell_type": "code",
   "execution_count": null,
   "id": "4b56b261e3b48507",
   "metadata": {
    "tags": [
     "keep"
    ]
   },
   "outputs": [],
   "source": [
    "from random import random\n",
    "\n",
    "\n",
    "def get_random_point():\n",
    "    return random(), random()"
   ]
  },
  {
   "cell_type": "markdown",
   "id": "7929b98a488dc854",
   "metadata": {
    "lang": "de"
   },
   "source": [
    "\n",
    "Implementieren Sie eine Funktion `is_in_circle(x, y)`, die überprüft, ob ein\n",
    "derartiger Punkt innerhalb des Kreises mit Radius 1 liegt."
   ]
  },
  {
   "cell_type": "code",
   "execution_count": null,
   "id": "23d0c15b0f814698",
   "metadata": {},
   "outputs": [],
   "source": [
    "def is_in_circle(x, y) -> bool:\n",
    "    return x ** 2 + y ** 2 <= 1"
   ]
  },
  {
   "cell_type": "markdown",
   "id": "d0b086b12157d285",
   "metadata": {
    "lang": "de"
   },
   "source": [
    "\n",
    "Implementieren Sie eine Funktion `is_random_point_in_circle()`, die überprüft, ob ein\n",
    "zufällig gewählter Punkt innerhalb des Kreises mit Radius 1 liegt."
   ]
  },
  {
   "cell_type": "code",
   "execution_count": null,
   "id": "879ba989d5170de4",
   "metadata": {},
   "outputs": [],
   "source": [
    "def is_random_point_in_circle() -> bool:\n",
    "    return is_in_circle(*get_random_point())"
   ]
  },
  {
   "cell_type": "markdown",
   "id": "5fadc80d88d360a8",
   "metadata": {
    "lang": "de"
   },
   "source": [
    "\n",
    "Wie können Sie die oben beschriebene Methode anzuwenden um $\\pi$ zu berechnen?\n",
    "Implementieren Sie eine sequentielle Version unter Zuhilfenahme von\n",
    "`is_random_point_in_circle()` und mindestens eine parallele Version. Testen Sie die\n",
    "Performance verschiedener Vorgehensweisen."
   ]
  },
  {
   "cell_type": "code",
   "execution_count": null,
   "id": "0b55fef3734efc7a",
   "metadata": {},
   "outputs": [],
   "source": [
    "def compute_pi_sequentially(num_iterations):\n",
    "    result = []\n",
    "    for _ in range(num_iterations):\n",
    "        result.append(is_random_point_in_circle())\n",
    "    return 4 * sum(result) / len(result)"
   ]
  },
  {
   "cell_type": "code",
   "execution_count": null,
   "id": "242b65c88961fab0",
   "metadata": {},
   "outputs": [],
   "source": [
    "NUM_ITERATIONS = 10_000_000"
   ]
  },
  {
   "cell_type": "code",
   "execution_count": null,
   "id": "319b890a279e5de8",
   "metadata": {},
   "outputs": [],
   "source": [
    "if __name__ == \"__main__\":\n",
    "    print(\"Sequential value:\")\n",
    "    print(compute_pi_sequentially(NUM_ITERATIONS))"
   ]
  },
  {
   "cell_type": "code",
   "execution_count": null,
   "id": "2bd06c7daddb7983",
   "metadata": {},
   "outputs": [],
   "source": [
    "from timeit import timeit\n",
    "\n",
    "if __name__ == \"__main__\":\n",
    "    print(\"Sequential:\")\n",
    "    print(timeit(lambda: compute_pi_sequentially(NUM_ITERATIONS), number=5))"
   ]
  },
  {
   "cell_type": "code",
   "execution_count": null,
   "id": "589921cc2d4ee69f",
   "metadata": {},
   "outputs": [],
   "source": [
    "from multiprocessing import Pool\n",
    "\n",
    "\n",
    "def bad_parallel_version(num_iterations):\n",
    "    points = (get_random_point() for _ in range(num_iterations))\n",
    "    with Pool(processes=16) as pool:\n",
    "        result = list(pool.starmap(is_in_circle, points))\n",
    "    return 4 * sum(result) / len(result)"
   ]
  },
  {
   "cell_type": "code",
   "execution_count": null,
   "id": "2a7d45cabe94b068",
   "metadata": {},
   "outputs": [],
   "source": [
    "if __name__ == \"__main__\":\n",
    "    print(\"Bad parallel value:\")\n",
    "    print(bad_parallel_version(NUM_ITERATIONS))"
   ]
  },
  {
   "cell_type": "code",
   "execution_count": null,
   "id": "abe4a0655b9969b5",
   "metadata": {},
   "outputs": [],
   "source": [
    "if __name__ == \"__main__\":\n",
    "    print(\"Bad parallel:\")\n",
    "    print(timeit(lambda: bad_parallel_version(NUM_ITERATIONS), number=5))"
   ]
  },
  {
   "cell_type": "code",
   "execution_count": null,
   "id": "7802f88c02890da3",
   "metadata": {},
   "outputs": [],
   "source": [
    "def better_parallel_version(num_iterations):\n",
    "    num_processes = 16\n",
    "    iterations_per_process = [num_iterations // num_processes] * num_processes\n",
    "    with Pool(processes=num_processes) as pool:\n",
    "        result = list(pool.imap(compute_pi_sequentially, iterations_per_process))\n",
    "    return sum(result) / len(result)"
   ]
  },
  {
   "cell_type": "code",
   "execution_count": null,
   "id": "83d6e2a138f5ed04",
   "metadata": {},
   "outputs": [],
   "source": [
    "if __name__ == \"__main__\":\n",
    "    print(\"Better parallel value:\")\n",
    "    print(better_parallel_version(NUM_ITERATIONS))"
   ]
  },
  {
   "cell_type": "code",
   "execution_count": null,
   "id": "ae08edae9427a206",
   "metadata": {},
   "outputs": [],
   "source": [
    "if __name__ == \"__main__\":\n",
    "    print(\"Better parallel:\")\n",
    "    print(timeit(lambda: better_parallel_version(NUM_ITERATIONS), number=5))"
   ]
  }
 ],
 "metadata": {
  "kernelspec": {
   "display_name": "Python 3 (ipykernel)",
   "language": "python",
   "name": "python3"
  }
 },
 "nbformat": 4,
 "nbformat_minor": 5
}
