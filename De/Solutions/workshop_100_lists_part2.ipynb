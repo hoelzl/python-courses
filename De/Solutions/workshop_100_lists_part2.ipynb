{
 "cells": [
  {
   "cell_type": "markdown",
   "id": "9ae1aef4e920958f",
   "metadata": {
    "lang": "de"
   },
   "source": [
    "# Farben\n",
    "\n",
    "Definieren Sie eine Variable `farben`, die eine Liste mit den Strings\n",
    "`Rot`, `Grün` und `Blau` enthält."
   ]
  },
  {
   "cell_type": "code",
   "execution_count": null,
   "id": "09f390cac846980b",
   "metadata": {},
   "outputs": [],
   "source": [
    "farben = [\"Rot\", \"Grün\", \"Blau\"]"
   ]
  },
  {
   "cell_type": "markdown",
   "id": "a991c21645ccffca",
   "metadata": {
    "lang": "de"
   },
   "source": [
    "Überprüfen Sie, ob der String `Gelb` in `farben` enthalten ist"
   ]
  },
  {
   "cell_type": "code",
   "execution_count": null,
   "id": "61416a257856b4f1",
   "metadata": {},
   "outputs": [],
   "source": [
    "\"Gelb\" in farben"
   ]
  },
  {
   "cell_type": "markdown",
   "id": "4cb143f757621a27",
   "metadata": {
    "lang": "de"
   },
   "source": [
    "Fügen Sie `Gelb` zu den Farben hinzu."
   ]
  },
  {
   "cell_type": "code",
   "execution_count": null,
   "id": "a25a324f01bf584d",
   "metadata": {},
   "outputs": [],
   "source": [
    "farben.append(\"Gelb\")"
   ]
  },
  {
   "cell_type": "markdown",
   "id": "5a1f855816654df6",
   "metadata": {
    "lang": "de"
   },
   "source": [
    "Überprüfen Sie nochmals, ob `Gelb` in den Farben enthalten ist."
   ]
  },
  {
   "cell_type": "code",
   "execution_count": null,
   "id": "4e7748db",
   "metadata": {},
   "outputs": [],
   "source": [
    "\"Gelb\" in farben"
   ]
  },
  {
   "cell_type": "markdown",
   "id": "4ccfd4c5748546c8",
   "metadata": {
    "lang": "de"
   },
   "source": [
    "Wie viele Farben enthält die in `farben` gespeicherte Liste jetzt?"
   ]
  },
  {
   "cell_type": "code",
   "execution_count": null,
   "id": "ff3a089bed69005c",
   "metadata": {},
   "outputs": [],
   "source": [
    "len(farben)"
   ]
  },
  {
   "cell_type": "markdown",
   "id": "6cd78fb6ba50f878",
   "metadata": {
    "lang": "de"
   },
   "source": [
    "Ändern Sie das erste Element von `farben` in `Dunkelrot`"
   ]
  },
  {
   "cell_type": "code",
   "execution_count": null,
   "id": "d7264162250e2451",
   "metadata": {},
   "outputs": [],
   "source": [
    "farben[0] = \"Dunkelrot\""
   ]
  },
  {
   "cell_type": "markdown",
   "id": "356f189a9712b5ef",
   "metadata": {
    "lang": "de"
   },
   "source": [
    "Fügen Sie `Lila` als zweites Element in die Liste ein."
   ]
  },
  {
   "cell_type": "code",
   "execution_count": null,
   "id": "ecb883eebea11c5d",
   "metadata": {},
   "outputs": [],
   "source": [
    "farben.insert(1, \"Lila\")"
   ]
  },
  {
   "cell_type": "markdown",
   "id": "77d4d2621ff9228e",
   "metadata": {
    "lang": "de"
   },
   "source": [
    "Was ist das dritte Element der Liste `farben`?"
   ]
  },
  {
   "cell_type": "code",
   "execution_count": null,
   "id": "01b8e673f69e6905",
   "metadata": {},
   "outputs": [],
   "source": [
    "farben[2]"
   ]
  },
  {
   "cell_type": "markdown",
   "id": "1742d118786dd665",
   "metadata": {
    "lang": "de"
   },
   "source": [
    "Löschen Sie das zweite Element der Liste `farben`"
   ]
  },
  {
   "cell_type": "code",
   "execution_count": null,
   "id": "8abb5283827ed560",
   "metadata": {},
   "outputs": [],
   "source": [
    "del farben[1]"
   ]
  },
  {
   "cell_type": "markdown",
   "id": "79a0d880b44fffe5",
   "metadata": {
    "lang": "de"
   },
   "source": [
    "Was ist das dritte Element der Liste `farben` jetzt?"
   ]
  },
  {
   "cell_type": "code",
   "execution_count": null,
   "id": "ed2b815b",
   "metadata": {},
   "outputs": [],
   "source": [
    "farben[2]"
   ]
  },
  {
   "cell_type": "markdown",
   "id": "f6a15f929866b16f",
   "metadata": {
    "lang": "de"
   },
   "source": [
    "# Slicing"
   ]
  },
  {
   "cell_type": "code",
   "execution_count": null,
   "id": "dc5c173308bed0db",
   "metadata": {
    "tags": [
     "keep"
    ]
   },
   "outputs": [],
   "source": [
    "my_list = [0, 1, 2, 3, 4, 5, 6, 7, 8, 9]"
   ]
  },
  {
   "cell_type": "markdown",
   "id": "3e8daafa96a39181",
   "metadata": {
    "lang": "de"
   },
   "source": [
    "Extrahieren Sie von `my_list` eine Liste mit allen Elementen außer den ersten beiden."
   ]
  },
  {
   "cell_type": "code",
   "execution_count": null,
   "id": "e983ab68c81a7928",
   "metadata": {},
   "outputs": [],
   "source": [
    "my_list[2:]"
   ]
  },
  {
   "cell_type": "markdown",
   "id": "422cbe7f3eff819d",
   "metadata": {
    "lang": "de"
   },
   "source": [
    "Extrahieren Sie von `my_list` eine Liste, die aus dem 2. und 3. Element besteht."
   ]
  },
  {
   "cell_type": "code",
   "execution_count": null,
   "id": "ffc5f82da2dbe694",
   "metadata": {},
   "outputs": [],
   "source": [
    "my_list[1:3]"
   ]
  },
  {
   "cell_type": "markdown",
   "id": "2f9332dc1856b700",
   "metadata": {
    "lang": "de"
   },
   "source": [
    "Extrahieren Sie von `my_list` eine neue Liste, die alle Elemente außer dem\n",
    "ersten und dem letzten enthält."
   ]
  },
  {
   "cell_type": "code",
   "execution_count": null,
   "id": "598b5bf2e1874519",
   "metadata": {},
   "outputs": [],
   "source": [
    "my_list[1:-1]"
   ]
  },
  {
   "cell_type": "markdown",
   "id": "099e3fec727d040b",
   "metadata": {
    "lang": "de"
   },
   "source": [
    "# Finden in Listen\n",
    "\n",
    "Schreiben Sie eine Funktion `finde_erste_gerade_zahl(liste)`, die den Index\n",
    "der ersten geraden Zahl in einer Liste von ganzen Zahlen zurückgibt. Falls\n",
    "die Liste keine gerade Zahl enthält soll die Funktion `None` zurückgeben."
   ]
  },
  {
   "cell_type": "code",
   "execution_count": null,
   "id": "f04ca75700e7cbee",
   "metadata": {},
   "outputs": [],
   "source": [
    "def finde_erste_gerade_zahl(liste):\n",
    "    result = None\n",
    "    for index, zahl in enumerate(liste):\n",
    "        if zahl % 2 == 0:\n",
    "            result = index\n",
    "            break\n",
    "    return result"
   ]
  },
  {
   "cell_type": "markdown",
   "id": "d9ecbf768d7d402b",
   "metadata": {
    "lang": "de"
   },
   "source": [
    "Testen Sie die Funktion für geeignete Argumente."
   ]
  },
  {
   "cell_type": "code",
   "execution_count": null,
   "id": "df86b21492e0a5e8",
   "metadata": {},
   "outputs": [],
   "source": [
    "assert finde_erste_gerade_zahl([1, 3, 5, 2, 4, 6]) == 3\n",
    "assert finde_erste_gerade_zahl([1, 3]) is None\n",
    "assert finde_erste_gerade_zahl([0, 1, 2, 3]) == 0"
   ]
  },
  {
   "cell_type": "markdown",
   "id": "e9a237e677a89cf6",
   "metadata": {
    "lang": "de"
   },
   "source": [
    "## Mittelwert einer Liste\n",
    "\n",
    "Der Mittelwert einer Liste mit $n$ Elementen $[x_0, \\dots, x_{n-1}]$ ist\n",
    "definiert als\n",
    "\n",
    "$$\\frac{x_0 + \\dots + x_{n-1}}{n}$$\n",
    "\n",
    "Schreiben Sie eine Funktion `mittelwert(liste)`, die den Mittelwert einer\n",
    "Liste berechnet."
   ]
  },
  {
   "cell_type": "code",
   "execution_count": null,
   "id": "8f74d1680c990241",
   "metadata": {},
   "outputs": [],
   "source": [
    "def mittelwert(zahlen):\n",
    "    if zahlen:\n",
    "        ergebnis = 0\n",
    "        for zahl in zahlen:\n",
    "            ergebnis += zahl\n",
    "        return ergebnis / len(zahlen)\n",
    "    return 0"
   ]
  },
  {
   "cell_type": "markdown",
   "id": "cd6fe1eb",
   "metadata": {
    "lang": "de",
    "pycharm": {
     "name": "#%% md\n"
    }
   },
   "source": [
    "Testen Sie die Funktion für geeignete Argumente."
   ]
  },
  {
   "cell_type": "code",
   "execution_count": null,
   "id": "faf070895aa4986d",
   "metadata": {},
   "outputs": [],
   "source": [
    "assert mittelwert([1, 2, 3]) == 2.0"
   ]
  },
  {
   "cell_type": "code",
   "execution_count": null,
   "id": "a29271d86c71b416",
   "metadata": {},
   "outputs": [],
   "source": [
    "assert mittelwert([]) == 0"
   ]
  },
  {
   "cell_type": "markdown",
   "id": "2167a96b3233202f",
   "metadata": {
    "lang": "de"
   },
   "source": [
    "**Zusatzaufgabe:** Der Mittelwert der Elemente einer Liste kann iterativ\n",
    "folgendermaßen berechnet werden:\n",
    "\n",
    "- Der Mittelwert $m$ der leeren Liste ist (per Definition für diese Lösung) 0\n",
    "- Wenn wir das $n+1$-te Element $x_{n+1}$ hinzufügen, so wird der neue\n",
    "  Mittelwert berechnet als\n",
    "\n",
    "$$m \\leftarrow m + \\frac{1}{n+1}(x_{n+1} - m)$$\n",
    "\n",
    "Schreiben Sie eine Funktion `iterativer_mittelwert(liste)`, die den\n",
    "Mittelwert einer Liste iterativ berechnet.\n"
   ]
  },
  {
   "cell_type": "code",
   "execution_count": null,
   "id": "f3e23d9a014dcecb",
   "metadata": {},
   "outputs": [],
   "source": [
    "def iterativer_mittelwert(zahlen):\n",
    "    ergebnis = 0\n",
    "    for index, value in enumerate(zahlen):\n",
    "        ergebnis += (value - ergebnis) / (index + 1)\n",
    "    return ergebnis"
   ]
  },
  {
   "cell_type": "code",
   "execution_count": null,
   "id": "4a4d5d41f7ba7e07",
   "metadata": {},
   "outputs": [],
   "source": [
    "assert iterativer_mittelwert([]) == 0.0"
   ]
  },
  {
   "cell_type": "code",
   "execution_count": null,
   "id": "25dade825341665a",
   "metadata": {},
   "outputs": [],
   "source": [
    "assert iterativer_mittelwert([1]) == 1.0"
   ]
  },
  {
   "cell_type": "code",
   "execution_count": null,
   "id": "bcc4238c80bbbd31",
   "metadata": {},
   "outputs": [],
   "source": [
    "assert iterativer_mittelwert([1, 2, 3]) == 2.0"
   ]
  },
  {
   "cell_type": "code",
   "execution_count": null,
   "id": "4affc363205ed451",
   "metadata": {},
   "outputs": [],
   "source": [
    "assert iterativer_mittelwert(range(11)) == 5.0"
   ]
  },
  {
   "cell_type": "code",
   "execution_count": null,
   "id": "3a2421a39faa3fc1",
   "metadata": {},
   "outputs": [],
   "source": [
    "def assert_mittelwert_equal(liste):\n",
    "    assert iterativer_mittelwert(liste) == mittelwert(liste)"
   ]
  },
  {
   "cell_type": "code",
   "execution_count": null,
   "id": "53280087619b0851",
   "metadata": {},
   "outputs": [],
   "source": [
    "assert_mittelwert_equal([])\n",
    "assert_mittelwert_equal([1, 2, 3])\n",
    "assert_mittelwert_equal(list(range(10)))"
   ]
  },
  {
   "cell_type": "markdown",
   "id": "4eeea12c7711219f",
   "metadata": {
    "lang": "de"
   },
   "source": [
    "# Quadratzahlen\n",
    "\n",
    "Gegeben sei die folgende Liste mit Zahlen."
   ]
  },
  {
   "cell_type": "code",
   "execution_count": null,
   "id": "faeaa169a1d6df92",
   "metadata": {
    "tags": [
     "keep"
    ]
   },
   "outputs": [],
   "source": [
    "numbers = [1, 7, 4, 87, 23]"
   ]
  },
  {
   "cell_type": "markdown",
   "id": "5808129ab1de4ca1",
   "metadata": {
    "lang": "de"
   },
   "source": [
    "Erzeugen Sie eine neue Liste, die die Quadrate der Zahlen in `numbers` enthält."
   ]
  },
  {
   "cell_type": "code",
   "execution_count": null,
   "id": "9c9104fe3f36371c",
   "metadata": {},
   "outputs": [],
   "source": [
    "result = []\n",
    "for n in numbers:\n",
    "    result.append(n * n)\n",
    "result"
   ]
  },
  {
   "cell_type": "markdown",
   "id": "64ddc8d5a3d83810",
   "metadata": {
    "lang": "de"
   },
   "source": [
    "Schreiben Sie eine Funktion `quadriere(zahlen)`, die eine neue Liste mit den\n",
    "Quadraten der Zahlen in `zahlen` zurückgibt."
   ]
  },
  {
   "cell_type": "code",
   "execution_count": null,
   "id": "5c03cf693960cf1f",
   "metadata": {},
   "outputs": [],
   "source": [
    "def quadriere(zahlen):\n",
    "    result = []\n",
    "    for n in zahlen:\n",
    "        result.append(n * n)\n",
    "    return result"
   ]
  },
  {
   "cell_type": "code",
   "execution_count": null,
   "id": "a774475284f0b2b7",
   "metadata": {},
   "outputs": [],
   "source": [
    "assert quadriere(numbers) == [1, 49, 16, 7569, 529]"
   ]
  },
  {
   "cell_type": "markdown",
   "id": "3b5b95ba8bbdbf67",
   "metadata": {
    "lang": "de"
   },
   "source": [
    "# Quadratzahlen mit Listen-Komprehension\n",
    "\n",
    "Erzeugen Sie eine neue Liste mit den Quadraten von `numbers`. Verwenden Sie\n",
    "dazu eine Listen-Komprehension"
   ]
  },
  {
   "cell_type": "code",
   "execution_count": null,
   "id": "1c65e256a41a8774",
   "metadata": {},
   "outputs": [],
   "source": [
    "[n * n for n in numbers]"
   ]
  },
  {
   "cell_type": "markdown",
   "id": "5da5881ebd8c3891",
   "metadata": {
    "lang": "de"
   },
   "source": [
    "Schreiben Sie die Funktion `quadriere(zahlen)` mit Listen-Komprehension."
   ]
  },
  {
   "cell_type": "code",
   "execution_count": null,
   "id": "1c103a2337b9cbec",
   "metadata": {},
   "outputs": [],
   "source": [
    "def quadriere(zahlen):\n",
    "    return [n * n for n in zahlen]"
   ]
  },
  {
   "cell_type": "code",
   "execution_count": null,
   "id": "f79f2bf3cad1010e",
   "metadata": {},
   "outputs": [],
   "source": [
    "quadriere(numbers)"
   ]
  },
  {
   "cell_type": "markdown",
   "id": "bb42623e2958d0b5",
   "metadata": {
    "lang": "de"
   },
   "source": [
    "# Filtern\n",
    "\n",
    "Gegeben sei die folgende Liste mit Zahlen:"
   ]
  },
  {
   "cell_type": "code",
   "execution_count": null,
   "id": "399f2f605e9592f0",
   "metadata": {
    "tags": [
     "keep"
    ]
   },
   "outputs": [],
   "source": [
    "numbers = [1, 183, 7, 4, 87, 10, 23, -12, 493, 11]"
   ]
  },
  {
   "cell_type": "markdown",
   "id": "3c18db02396476c9",
   "metadata": {
    "lang": "de"
   },
   "source": [
    "Erzeugen Sie eine neue Liste, die alle Zahlen in `numbers` enthält, die größer als 10 sind."
   ]
  },
  {
   "cell_type": "code",
   "execution_count": null,
   "id": "82671b08c72e8491",
   "metadata": {},
   "outputs": [],
   "source": [
    "result = []\n",
    "for n in numbers:\n",
    "    if n > 10:\n",
    "        result.append(n)\n",
    "result"
   ]
  },
  {
   "cell_type": "markdown",
   "id": "415da3e0ffd5079a",
   "metadata": {
    "lang": "de"
   },
   "source": [
    "Schreiben Sie eine Funktion `zahlen_größer_als_10(zahlen)`, die eine neue\n",
    "Liste zurückgibt, die die Zahlen aus `zahlen` enthält, die größer als 10 sind."
   ]
  },
  {
   "cell_type": "code",
   "execution_count": null,
   "id": "1f98e2bdf986c535",
   "metadata": {},
   "outputs": [],
   "source": [
    "def zahlen_größer_als_10(zahlen):\n",
    "    result = []\n",
    "    for n in zahlen:\n",
    "        if n > 10:\n",
    "            result.append(n)\n",
    "    return result"
   ]
  },
  {
   "cell_type": "code",
   "execution_count": null,
   "id": "4825ee71b879158b",
   "metadata": {},
   "outputs": [],
   "source": [
    "assert zahlen_größer_als_10(numbers) == [183, 87, 23, 493, 11]"
   ]
  },
  {
   "cell_type": "markdown",
   "id": "b280b7437f49cbb4",
   "metadata": {
    "lang": "de"
   },
   "source": [
    "# Filtern mit Listen-Komprehension\n",
    "\n",
    "Erzeugen Sie eine neue Liste, die alle Zahlen in `numbers` enthält, die größer\n",
    "als 10 sind. Verwenden Sie dazu Listen-Komprehension."
   ]
  },
  {
   "cell_type": "code",
   "execution_count": null,
   "id": "7bd31e43551d463a",
   "metadata": {},
   "outputs": [],
   "source": [
    "[n for n in numbers if n > 10]"
   ]
  },
  {
   "cell_type": "markdown",
   "id": "5b1db9dcae1da15e",
   "metadata": {
    "lang": "de"
   },
   "source": [
    "Schreiben Sie die Funktion `zahlen_größer_als_10(zahlen)` mit\n",
    "Listen-Komprehension."
   ]
  },
  {
   "cell_type": "code",
   "execution_count": null,
   "id": "b2035640e0fc6c2c",
   "metadata": {},
   "outputs": [],
   "source": [
    "def zahlen_größer_als_10(zahlen):\n",
    "    return [n for n in zahlen if n > 10]"
   ]
  },
  {
   "cell_type": "code",
   "execution_count": null,
   "id": "70409059",
   "metadata": {},
   "outputs": [],
   "source": [
    "assert zahlen_größer_als_10(numbers) == [183, 87, 23, 493, 11]"
   ]
  },
  {
   "cell_type": "markdown",
   "id": "1e7e7a95bdc0308e",
   "metadata": {
    "lang": "de"
   },
   "source": [
    "\n",
    "Schreiben Sie eine Funktion `quadrate_von_zahlen_kleiner_10( zahlen)`,\n",
    "die eine neue Liste zurückgibt, die die Quadrate aller Zahlen < 10 aus\n",
    "`zahlen` enthält."
   ]
  },
  {
   "cell_type": "code",
   "execution_count": null,
   "id": "0157748d4478e363",
   "metadata": {},
   "outputs": [],
   "source": [
    "def quadrate_von_zahlen_kleiner_10(zahlen):\n",
    "    return [n * n for n in zahlen if n < 10]"
   ]
  },
  {
   "cell_type": "code",
   "execution_count": null,
   "id": "67eaf926d8834640",
   "metadata": {
    "tags": [
     "keep"
    ]
   },
   "outputs": [],
   "source": [
    "numbers"
   ]
  },
  {
   "cell_type": "code",
   "execution_count": null,
   "id": "3b6dabf3959740b0",
   "metadata": {},
   "outputs": [],
   "source": [
    "assert quadrate_von_zahlen_kleiner_10(numbers) == [1, 49, 16, 144]"
   ]
  },
  {
   "cell_type": "markdown",
   "id": "b43447a69f6ccd31",
   "metadata": {
    "lang": "de"
   },
   "source": [
    "# Generatoren"
   ]
  },
  {
   "cell_type": "markdown",
   "id": "82d2ae83a701475d",
   "metadata": {
    "lang": "de"
   },
   "source": [
    "## Generator für Quadratzahlen\n",
    "\n",
    "Schreiben Sie einen Generator, der die ersten 10 Quadratzahlen erzeugt."
   ]
  },
  {
   "cell_type": "code",
   "execution_count": null,
   "id": "477f78ae34dcd567",
   "metadata": {},
   "outputs": [],
   "source": [
    "gen = (i * i for i in range(1, 11))"
   ]
  },
  {
   "cell_type": "code",
   "execution_count": null,
   "id": "7465e3be7a372cca",
   "metadata": {},
   "outputs": [],
   "source": [
    "for i in gen:\n",
    "    print(i, end=\" \")"
   ]
  },
  {
   "cell_type": "markdown",
   "id": "0e152fe6aba9c703",
   "metadata": {
    "lang": "de"
   },
   "source": [
    "## Take\n",
    "\n",
    "Schreiben Sie eine Funktion `take(n: int, it)` die ein Iterable `it` als\n",
    "Argument bekommt und ein neues Iterable zurückgibt, das die ersten `n`\n",
    "Elemente von `it` liefert."
   ]
  },
  {
   "cell_type": "code",
   "execution_count": null,
   "id": "078d165104bcacec",
   "metadata": {},
   "outputs": [],
   "source": [
    "def take(n, it):\n",
    "    for i, elt in enumerate(it):\n",
    "        if i >= n:\n",
    "            break\n",
    "        yield elt"
   ]
  },
  {
   "cell_type": "code",
   "execution_count": null,
   "id": "3b5b6810937359b1",
   "metadata": {},
   "outputs": [],
   "source": [
    "for i in take(4, range(20)):\n",
    "    print(i, end=\" \")"
   ]
  },
  {
   "cell_type": "code",
   "execution_count": null,
   "id": "f43355257c1a28ab",
   "metadata": {},
   "outputs": [],
   "source": [
    "for i in take(100, range(5)):\n",
    "    print(i, end=\" \")"
   ]
  }
 ],
 "metadata": {
  "kernelspec": {
   "display_name": "Python 3 (ipykernel)",
   "language": "python",
   "name": "python3"
  }
 },
 "nbformat": 4,
 "nbformat_minor": 5
}
