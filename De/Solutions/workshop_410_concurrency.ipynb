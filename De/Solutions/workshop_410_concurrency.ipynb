{
 "cells": [
  {
   "cell_type": "markdown",
   "id": "97c6d159",
   "metadata": {
    "lang": "de"
   },
   "source": [
    "\n",
    "# Parallele Requests\n",
    "\n",
    "Mit der folgenden Funktion lässt sich der Inhalt einer Website in Python abfragen:"
   ]
  },
  {
   "cell_type": "code",
   "execution_count": null,
   "id": "b0b1f081",
   "metadata": {
    "tags": [
     "keep"
    ]
   },
   "outputs": [],
   "source": [
    "from http.client import HTTPSConnection\n",
    "\n",
    "\n",
    "def get_url(site, path, timeout=None):\n",
    "    conn = HTTPSConnection(site, timeout=timeout)\n",
    "    conn.request(\"GET\", path)\n",
    "    resp = conn.getresponse()\n",
    "    if resp.status == 200:\n",
    "        return resp.read()\n",
    "    else:\n",
    "        return \"\""
   ]
  },
  {
   "cell_type": "markdown",
   "id": "b2e430be",
   "metadata": {
    "lang": "de"
   },
   "source": [
    "\n",
    "Z.B. kann man den Inhalt des Python Enhancement Proposals PEP-8 so bekommen:"
   ]
  },
  {
   "cell_type": "code",
   "execution_count": null,
   "id": "d2414308",
   "metadata": {
    "tags": [
     "keep"
    ]
   },
   "outputs": [],
   "source": [
    "get_url(\"peps.python.org\", \"/pep-0008/\")"
   ]
  },
  {
   "cell_type": "markdown",
   "id": "a20a7547",
   "metadata": {
    "lang": "de"
   },
   "source": [
    "\n",
    "Schreiben Sie eine Funktion `get_pep(pep: str) -> str`, die den Inhalt eines PEP\n",
    "Dokuments herunterlädt."
   ]
  },
  {
   "cell_type": "code",
   "execution_count": null,
   "id": "cd17bcd5",
   "metadata": {},
   "outputs": [],
   "source": [
    "def get_pep(pep: str) -> str:\n",
    "    return get_url(\"peps.python.org\", f\"/pep-{pep}/\")"
   ]
  },
  {
   "cell_type": "code",
   "execution_count": null,
   "id": "838f9341",
   "metadata": {
    "tags": [
     "keep"
    ]
   },
   "outputs": [],
   "source": [
    "assert len(get_pep(\"0008\")) >= 100_000"
   ]
  },
  {
   "cell_type": "code",
   "execution_count": null,
   "id": "05f742a6",
   "metadata": {},
   "outputs": [],
   "source": []
  },
  {
   "cell_type": "markdown",
   "id": "063ba2e0",
   "metadata": {
    "lang": "de"
   },
   "source": [
    "\n",
    "Schreiben Sie eine Klasse `PepDownloadThread`, die von `Thread` erbt und\n",
    "\n",
    "- die Nummer eines Peps als Argument der `__init__()` Methode bekommt\n",
    "- eine `run()` Methode implementiert, die den entsprechenden PEP herunterlädt und\n",
    "- den Inhalt in einem Attribut `contents` speichert."
   ]
  },
  {
   "cell_type": "code",
   "execution_count": null,
   "id": "b4026d2c",
   "metadata": {},
   "outputs": [],
   "source": [
    "from threading import Thread\n",
    "\n",
    "\n",
    "class PepDownloadThread(Thread):\n",
    "    def __init__(self, number, *args, **kwargs):\n",
    "        super().__init__(*args, **kwargs)\n",
    "        self.number = number\n",
    "        self.contents = \"\"\n",
    "\n",
    "    def run(self):\n",
    "        self.contents = get_pep(self.number)"
   ]
  },
  {
   "cell_type": "markdown",
   "id": "af0b1671",
   "metadata": {
    "lang": "de"
   },
   "source": [
    "\n",
    "Erzeugen Sie eine Instanz von `PepDownloadThread` und verwenden Sie sie, um PEP-8\n",
    "herunterzuladen.\n",
    "\n",
    "Vergessen Sie nicht, den Thread zu \"joinen\"."
   ]
  },
  {
   "cell_type": "code",
   "execution_count": null,
   "id": "35b58c6a",
   "metadata": {},
   "outputs": [],
   "source": [
    "pep_8_thread = PepDownloadThread(\"0008\")"
   ]
  },
  {
   "cell_type": "code",
   "execution_count": null,
   "id": "56b9b312",
   "metadata": {},
   "outputs": [],
   "source": [
    "pep_8_thread.start()\n",
    "pep_8_thread.join()"
   ]
  },
  {
   "cell_type": "code",
   "execution_count": null,
   "id": "81196fd2",
   "metadata": {},
   "outputs": [],
   "source": [
    "assert len(pep_8_thread.contents) > 100_000"
   ]
  },
  {
   "cell_type": "markdown",
   "id": "386e3233",
   "metadata": {
    "lang": "de"
   },
   "source": [
    "\n",
    "Schreiben Sie eine Funktion `get_peps(peps: list[str]) -> list[str]`, die den Inhalt\n",
    "mehrerer PEP Dokumente mit mehreren Threads herunterlädt."
   ]
  },
  {
   "cell_type": "code",
   "execution_count": null,
   "id": "3697f6a7",
   "metadata": {},
   "outputs": [],
   "source": [
    "def get_peps(peps: list[str]) -> list[str]:\n",
    "    threads = [PepDownloadThread(pep) for pep in peps]\n",
    "    for thread in threads:\n",
    "        thread.start()\n",
    "    for thread in threads:\n",
    "        thread.join()\n",
    "    return [thread.contents for thread in threads]"
   ]
  },
  {
   "cell_type": "code",
   "execution_count": null,
   "id": "a9fc2463",
   "metadata": {
    "lines_to_next_cell": 2,
    "tags": [
     "keep"
    ]
   },
   "outputs": [],
   "source": [
    "_pep_lens = [len(pep) for pep in get_peps([\"0001\", \"0008\", \"0020\"])]\n",
    "print(_pep_lens)"
   ]
  }
 ],
 "metadata": {
  "kernelspec": {
   "display_name": "Python 3 (ipykernel)",
   "language": "python",
   "name": "python3"
  }
 },
 "nbformat": 4,
 "nbformat_minor": 5
}
