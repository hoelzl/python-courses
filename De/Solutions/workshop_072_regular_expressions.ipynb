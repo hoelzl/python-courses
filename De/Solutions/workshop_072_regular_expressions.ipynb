{
 "cells": [
  {
   "cell_type": "markdown",
   "id": "48b3131ebaf11b23",
   "metadata": {
    "lang": "de"
   },
   "source": [
    "# Reguläre Ausdrücke\n",
    "\n",
    "Schreiben Sie einen Regulären Ausdruck, der Gleitkommazahlen matcht (ein oder\n",
    "mehrere Ziffern, gefolgt von einem Punkt, gefolgt von ein oder mehreren\n",
    "Ziffern).\n",
    "\n",
    "Testen Sie den Regulären Ausdruck mit folgenden Werten: `1.0`, `842.234`,\n",
    "`23-38`, `12.`, `.1`.\n",
    "\n",
    "*Hinweis:* `\\d` matcht eine einzelne Ziffer."
   ]
  },
  {
   "cell_type": "code",
   "execution_count": null,
   "id": "6b5a00a9e88d5da8",
   "metadata": {},
   "outputs": [],
   "source": [
    "import re\n",
    "\n",
    "fp_rx = re.compile(r\"\\d+\\.\\d+\")"
   ]
  },
  {
   "cell_type": "code",
   "execution_count": null,
   "id": "1d7efa9146a480f7",
   "metadata": {},
   "outputs": [],
   "source": [
    "fp_rx.fullmatch(\"1.0\")"
   ]
  },
  {
   "cell_type": "code",
   "execution_count": null,
   "id": "21efe5b299e52c22",
   "metadata": {},
   "outputs": [],
   "source": [
    "fp_rx.fullmatch(\"842.234\")"
   ]
  },
  {
   "cell_type": "code",
   "execution_count": null,
   "id": "cb1757f262bea075",
   "metadata": {},
   "outputs": [],
   "source": [
    "fp_rx.fullmatch(\"23-38\")"
   ]
  },
  {
   "cell_type": "code",
   "execution_count": null,
   "id": "7d60d3955dfec696",
   "metadata": {},
   "outputs": [],
   "source": [
    "fp_rx.fullmatch(\"12.\")"
   ]
  },
  {
   "cell_type": "code",
   "execution_count": null,
   "id": "93c1dfb9cc2d677e",
   "metadata": {},
   "outputs": [],
   "source": [
    "fp_rx.fullmatch(\".1\")"
   ]
  },
  {
   "cell_type": "markdown",
   "id": "c8744e103dbd689b",
   "metadata": {
    "lang": "de"
   },
   "source": [
    "\n",
    "Schreiben Sie einen Regulären Ausdruck, der URLs matcht, die `http` oder\n",
    "`https` Protokoll haben und nach dem Domain-Namen höchstens einen einzelnen\n",
    "`/` als Pfad.\n",
    "\n",
    "Zum Beispiel soll `https://www.example.com/` gematcht werden, nicht aber\n",
    "`email://example.com`, `http://example.com/foo` oder\n",
    "`http://www..example.com/`."
   ]
  },
  {
   "cell_type": "code",
   "execution_count": null,
   "id": "e6d1052b2639bc11",
   "metadata": {},
   "outputs": [],
   "source": [
    "url_rx = re.compile(r\"https?://(\\w+\\.)+\\w+/?\")"
   ]
  },
  {
   "cell_type": "code",
   "execution_count": null,
   "id": "c6c70c66cff7dc6e",
   "metadata": {},
   "outputs": [],
   "source": [
    "url_rx.fullmatch(r\"http://example.com/\")"
   ]
  },
  {
   "cell_type": "code",
   "execution_count": null,
   "id": "31591de613d91cea",
   "metadata": {},
   "outputs": [],
   "source": [
    "url_rx.fullmatch(r\"https://www.example.com/\")"
   ]
  },
  {
   "cell_type": "code",
   "execution_count": null,
   "id": "fbfb8d410a48a45a",
   "metadata": {},
   "outputs": [],
   "source": [
    "url_rx.fullmatch(r\"email://example.com/\") is None"
   ]
  },
  {
   "cell_type": "code",
   "execution_count": null,
   "id": "70ac654f028cbb90",
   "metadata": {},
   "outputs": [],
   "source": [
    "url_rx.fullmatch(r\"http://example.com/foo\") is None"
   ]
  },
  {
   "cell_type": "code",
   "execution_count": null,
   "id": "79b8b682108f892d",
   "metadata": {},
   "outputs": [],
   "source": [
    "url_rx.fullmatch(r\"https://www..example.com/\") is None"
   ]
  },
  {
   "cell_type": "markdown",
   "id": "315e762c015c9c67",
   "metadata": {
    "lang": "de"
   },
   "source": [
    "\n",
    "Ersetzen Sie alle URLs im folgenden Text durch die Zeichenkette `<URL>`."
   ]
  },
  {
   "cell_type": "code",
   "execution_count": null,
   "id": "31cadcdd9f046776",
   "metadata": {
    "lines_to_next_cell": 2,
    "tags": [
     "keep"
    ]
   },
   "outputs": [],
   "source": [
    "text = \"Use http://www.example.com or https://www.example.com/ as example domains.\""
   ]
  },
  {
   "cell_type": "code",
   "execution_count": null,
   "id": "990510cceeb43973",
   "metadata": {},
   "outputs": [],
   "source": [
    "url_rx.sub(\"<URL>\", text)"
   ]
  },
  {
   "cell_type": "code",
   "execution_count": null,
   "id": "6b4e03423667dbb7",
   "metadata": {
    "tags": [
     "keep"
    ]
   },
   "outputs": [],
   "source": []
  }
 ],
 "metadata": {
  "kernelspec": {
   "display_name": "Python 3 (ipykernel)",
   "language": "python",
   "name": "python3"
  }
 },
 "nbformat": 4,
 "nbformat_minor": 5
}
