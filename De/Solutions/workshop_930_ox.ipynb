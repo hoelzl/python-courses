{
 "cells": [
  {
   "cell_type": "markdown",
   "id": "8848f5ee",
   "metadata": {
    "lang": "de"
   },
   "source": [
    "# Ox - Eine Variante von Bulls and Cows\n",
    "\n",
    "Implementieren Sie eine Variante des Spiels \"Bulls and Cows\"\n",
    "\n",
    "## Spielablauf\n",
    "\n",
    "- Der Computer wählt ein Wort aus einem Wörterbuch und teilt dem Spieler mit,\n",
    "  wie viele Buchstaben es enthält\n",
    "- Der Spieler rät ein Wort und erhält als für jeden Buchstaben folgende\n",
    "  Information\n",
    "    - Ein `+` wenn der Buchstabe an der richtigen Stelle vorkommt\n",
    "    - Ein `–` wenn der Buchstabe in der Lösung an einer anderen Stelle\n",
    "      vorkommt\n",
    "    - Einen `.` wenn der Buchstabe nicht in der Lösung vorkommt\n",
    "- Wenn der Spieler das Wort in weniger als 10 Versuchen errät hat er\n",
    "  gewonnen, andernfalls verloren.\n",
    "\n",
    "## Beispiele\n",
    "\n",
    "Erfolgreiches Spiel:\n",
    "\n",
    "```\n",
    "Guess the word!\n",
    "The word to guess has 6 characters.\n",
    "Please enter your guess: something\n",
    "something\n",
    ".-..--\n",
    "Please enter your guess: postoffice\n",
    "postoffice\n",
    "+-.-+.\n",
    "Please enter your guess: python\n",
    "python\n",
    "++++++\n",
    "Congratulations, you have won!\n",
    "```\n",
    "\n",
    "Verlorenes Spiel:\n",
    "\n",
    "```\n",
    "Guess the word!\n",
    "The word to guess has 4 characters.\n",
    "Please enter your guess: foobar\n",
    "foobar\n",
    "....\n",
    "Please enter your guess: tango\n",
    "tango\n",
    ".+.-\n",
    "Please enter your guess: ohno\n",
    "ohno\n",
    "....\n",
    "Please enter your guess: This game is stupid!\n",
    "This game is stupid!\n",
    "....\n",
    "Please enter your guess: Let me out!\n",
    "Let me out!\n",
    ".-..\n",
    "Please enter your guess: exit\n",
    "exit\n",
    "-...\n",
    "Please enter your guess: quit\n",
    "quit\n",
    "....\n",
    "Please enter your guess: QUIT\n",
    "QUIT\n",
    "....\n",
    "Please enter your guess:\n",
    "\n",
    "\n",
    "Please enter your guess: HOW DO I QUIT THIS STUPID GAME!!!!!\n",
    "HOW DO I QUIT THIS STUPID GAME!!!!!\n",
    "....\n",
    "Better luck next time. The word was game.\n",
    "```\n",
    "\n",
    "## Implementierung:\n",
    "\n",
    "Implementieren Sie eine Funktion `ox()`, die dieses Spiel implementiert.\n",
    "Zwechmäßigerweise sollten Sie dazu einige Hilfsfunktionen definieren,\n",
    "die Teile der Spielelogik kapseln.\n",
    "\n",
    "## Hinweise\n",
    "\n",
    "- Benutzereingaben können Sie mittels der Funktion `input(quey: str)`\n",
    "  erhalten.  `query` ist der Text, der dem Benutzer angezeigt wird; das\n",
    "  Ergebnis der Funktion ist der vom Benutzer eingegebenee String.\n",
    "- Speichern Sie das \"Wörterbuch\" als eine Liste von Wörtern.\n",
    "- Mit `random.choice(list)` können Sie aus einer Liste ein zufälliges\n",
    "  Element auswählen.\n",
    "- Eine Möglichkeit, das Spiel zu implementieren ohne Klassen zu verwenden,\n",
    "  is als eine Funktion, die die zeichenweise\n",
    "  Übereinstimmung zweier Zeichenketten testet. Ein möglicher Ergebnistyp für\n",
    "  diese Funktion ist eine Liste der Form `['.', '+', '-', '.']`,\n",
    "  um auszudrücken, dass das erste und vierte Zeichen nicht übereinstimmen,\n",
    "  das zweite Zeichen ein perfekter Treffer ist und das dritte Zeichen in der\n",
    "  Lösung vorkommt, aber an einer anderen Stelle.\n",
    "- Aus einer Liste `list` mit Strings können Sie mittels `''.join(list)`\n",
    "  einen String erzeugen, der alle Elemente der Liste enthält.\n",
    "- Was passiert bei Ihrer Lösung, wenn der Benutzer ein Wort eingibt, das\n",
    " länger oder kürzer ist als die Lösung?"
   ]
  },
  {
   "cell_type": "code",
   "execution_count": null,
   "id": "7da5c3c7",
   "metadata": {},
   "outputs": [],
   "source": [
    "import random"
   ]
  },
  {
   "cell_type": "code",
   "execution_count": null,
   "id": "4535ed48",
   "metadata": {},
   "outputs": [],
   "source": [
    "def match_char(char, index, solution):\n",
    "    \"\"\"\n",
    "    Checks whether `char` is a perfect match for position `index` in `solution`.\n",
    "    Returns `'+'` if `solution[index] == char`, `'-'` if `char` occurs at another\n",
    "    position in `solution` and `'.'` otherwise.\n",
    "    \"\"\"\n",
    "    if index >= len(solution):\n",
    "        return \"\"\n",
    "    elif solution[index] == char:\n",
    "        return \"+\"\n",
    "    elif char in solution:\n",
    "        return \"-\"\n",
    "    else:\n",
    "        return \".\""
   ]
  },
  {
   "cell_type": "code",
   "execution_count": null,
   "id": "cb457f30",
   "metadata": {},
   "outputs": [],
   "source": [
    "match_char(\"b\", 1, \"abc\")"
   ]
  },
  {
   "cell_type": "code",
   "execution_count": null,
   "id": "5607908c",
   "metadata": {},
   "outputs": [],
   "source": [
    "match_char(\"a\", 1, \"abc\")"
   ]
  },
  {
   "cell_type": "code",
   "execution_count": null,
   "id": "6bd87c9e",
   "metadata": {},
   "outputs": [],
   "source": [
    "match_char(\"x\", 1, \"abc\")"
   ]
  },
  {
   "cell_type": "code",
   "execution_count": null,
   "id": "2f5c33b8",
   "metadata": {},
   "outputs": [],
   "source": [
    "match_char(\"x\", 10, \"abc\")"
   ]
  },
  {
   "cell_type": "code",
   "execution_count": null,
   "id": "3337c021",
   "metadata": {},
   "outputs": [],
   "source": [
    "def match_chars(chars, solution):\n",
    "    return [match_char(char, index, solution) for index, char in enumerate(chars)]"
   ]
  },
  {
   "cell_type": "code",
   "execution_count": null,
   "id": "81d07db7",
   "metadata": {},
   "outputs": [],
   "source": [
    "match_chars(\"cbx\", \"abc\")"
   ]
  },
  {
   "cell_type": "code",
   "execution_count": null,
   "id": "018c5172",
   "metadata": {},
   "outputs": [],
   "source": [
    "def evaluate_guess(guess, solution):\n",
    "    return \"\".join(match_chars(guess, solution))"
   ]
  },
  {
   "cell_type": "code",
   "execution_count": null,
   "id": "9d2f133a",
   "metadata": {},
   "outputs": [],
   "source": [
    "evaluate_guess(\"cbx\", \"abc\")"
   ]
  },
  {
   "cell_type": "code",
   "execution_count": null,
   "id": "6108d563",
   "metadata": {},
   "outputs": [],
   "source": [
    "evaluate_guess(\"b\", \"abc\")"
   ]
  },
  {
   "cell_type": "code",
   "execution_count": null,
   "id": "492e36b8",
   "metadata": {},
   "outputs": [],
   "source": [
    "evaluate_guess(\"bbcdea\", \"abc\")"
   ]
  },
  {
   "cell_type": "code",
   "execution_count": null,
   "id": "7e37e009",
   "metadata": {},
   "outputs": [],
   "source": [
    "def is_perfect_result(result):\n",
    "    if result == \"\":\n",
    "        return False\n",
    "    for c in result:\n",
    "        if c != \"+\":\n",
    "            return False\n",
    "    return True"
   ]
  },
  {
   "cell_type": "code",
   "execution_count": null,
   "id": "35a5b92c",
   "metadata": {},
   "outputs": [],
   "source": [
    "is_perfect_result(\"+++\")"
   ]
  },
  {
   "cell_type": "code",
   "execution_count": null,
   "id": "00310ee5",
   "metadata": {},
   "outputs": [],
   "source": [
    "is_perfect_result(\"+++-+\")"
   ]
  },
  {
   "cell_type": "code",
   "execution_count": null,
   "id": "e1e709b6",
   "metadata": {},
   "outputs": [],
   "source": [
    "is_perfect_result(\"\")"
   ]
  },
  {
   "cell_type": "code",
   "execution_count": null,
   "id": "08d0af6a",
   "metadata": {},
   "outputs": [],
   "source": [
    "dictionary = [\"game\", \"gate\", \"teatime\", \"python\"]"
   ]
  },
  {
   "cell_type": "code",
   "execution_count": null,
   "id": "dc4f40f6",
   "metadata": {},
   "outputs": [],
   "source": [
    "def print_header(word):\n",
    "    print(\n",
    "        f\"\"\"Guess the word!\n",
    "The word to guess has {len(word)} characters.\"\"\"\n",
    "    )"
   ]
  },
  {
   "cell_type": "code",
   "execution_count": null,
   "id": "447a9317",
   "metadata": {},
   "outputs": [],
   "source": [
    "print_header(\"foo\")"
   ]
  },
  {
   "cell_type": "code",
   "execution_count": null,
   "id": "aaef3974",
   "metadata": {},
   "outputs": [],
   "source": [
    "def ox():\n",
    "    word = random.choice(dictionary)\n",
    "    has_won = False\n",
    "    print_header(word)\n",
    "    for _ in range(10):\n",
    "        if not has_won:\n",
    "            guess = input(\"Please enter your guess: \")\n",
    "            result = evaluate_guess(guess, word)\n",
    "            print(guess)\n",
    "            print(result)\n",
    "            if is_perfect_result(result):\n",
    "                has_won = True\n",
    "    if has_won:\n",
    "        print(\"Congratulations, you have won!\")\n",
    "    else:\n",
    "        print(f\"Better luck next time. The word was {word}.\")"
   ]
  },
  {
   "cell_type": "code",
   "execution_count": null,
   "id": "8683f933",
   "metadata": {},
   "outputs": [],
   "source": [
    "ox()"
   ]
  }
 ],
 "metadata": {
  "kernelspec": {
   "display_name": "Python 3 (ipykernel)",
   "language": "python",
   "name": "python3"
  }
 },
 "nbformat": 4,
 "nbformat_minor": 5
}
