{
 "cells": [
  {
   "cell_type": "markdown",
   "id": "6c0c175d",
   "metadata": {
    "lang": "de"
   },
   "source": [
    "# Quiz\n",
    "\n",
    "Wir wollen ein Quiz in Python implementieren.\n",
    "\n",
    "Obwohl es möglich ist, die Implementierung in einem Notebook zu beginnen wäre es\n",
    "besser, dieses Projekt in einem IDE zu starten und das Notebook nur als\n",
    "Anleitung herzunehmen, da die späteren Teile im IDE besser zu realisieren sind.\n",
    "\n",
    "Definieren Sie eine Klasse `Question`, die einzelne Fragen und korrekte\n",
    "Antworten repräsentiert. Der Zustand der Klasse ist\n",
    "\n",
    "- Ein String `text`, der den Text der Frage darstellt.\n",
    "- Eine Liste von Strings `answers`, die die richtigen Antworten darstellen.\n",
    "\n",
    "`Question` hat die folgende Methoden:\n",
    "\n",
    "- `is_answer_correct(self, answer: str)`: überprüft, ob der String  `answer`\n",
    "  eine korrekte Antwort auf die Frage ist.\n",
    "- `correct_answer(self)`: Gibt eine der korrekten Antworten zurück."
   ]
  },
  {
   "cell_type": "code",
   "execution_count": null,
   "id": "af7b70c2",
   "metadata": {},
   "outputs": [],
   "source": []
  },
  {
   "cell_type": "markdown",
   "id": "e78b287c",
   "metadata": {
    "lang": "de"
   },
   "source": [
    "\n",
    "Testen Sie die Klasse (interaktiv, falls Sie die Aufgabe im Notebook\n",
    "bearbeiten, sonst mit pytest)"
   ]
  },
  {
   "cell_type": "code",
   "execution_count": null,
   "id": "e1720cba",
   "metadata": {},
   "outputs": [],
   "source": []
  },
  {
   "cell_type": "code",
   "execution_count": null,
   "id": "bd0c8b79",
   "metadata": {},
   "outputs": [],
   "source": []
  },
  {
   "cell_type": "code",
   "execution_count": null,
   "id": "f2df5860",
   "metadata": {},
   "outputs": [],
   "source": []
  },
  {
   "cell_type": "markdown",
   "id": "3440f0c6",
   "metadata": {
    "lang": "de"
   },
   "source": [
    "Implementieren Sie jetzt eine Klasse `TriviaGame`, die eine Liste von\n",
    "`Question`-Instanzen enthält und eine Methode `run(self)` hat, die\n",
    "\n",
    "- zufällig eine Frage auswählt,\n",
    "- den Fragetext auf dem Bildschirm ausgibt,\n",
    "- den Benutzer nach seiner Antwort fragt,\n",
    "- die Antwort des Benutzers überprüft und\n",
    "- einen Text ausgibt, ob die Antwort richtig oder falsch war.\n",
    "\n",
    "Eine leere Eingabe soll das Spiel abbrechen. Am Ende des Spiels soll die\n",
    "Anzahl der beantworteten Fragen und der Prozentsatz der korrekt\n",
    "beantworteten Fragen zurückgegeben werden.\n",
    "\n",
    "*Hinweis:* Es empfiehlt sich einige Hilfsmethoden zu implementieren, die einen\n",
    "*Teil der Funktionalität von `run()` übernehmen. Eine Möglichkeit wäre\n",
    "\n",
    "- `percentage_questions_answered_correctly(self)` gibt den Prozentsatz der\n",
    "  richtig beantworteten Fragen zurück. (Achten Sie auf den Fall, dass der\n",
    "  Benutzer keine Frage beantwortet hat). Für diese Methode empfiehlt sich eine\n",
    "  Implementierung als Property.\n",
    "\n",
    "- `pick_random_question(self)` wählt zufällig eine der Fragen aus. Hierfür\n",
    "  leistet die Funktion `random.choice()` gute Dienste\n",
    "\n",
    "- `query_user_for_answer(self, question: Question)` und gibt diese zurück\n",
    "\n",
    "- `process_answer(self, question: Question, answer: str)` , wertet die Antwort\n",
    "  aus und gibt einen \"Statuscode\" zurück, der eine der folgende Möglichkeiten\n",
    "  beschreibt:\n",
    "\n",
    "  - Die Frage wurde korrekt beantwortet.\n",
    "  - Die Frage wurde falsch beantwortet.\n",
    "  - Der Spieler möchte das Spiel beenden.\n",
    "\n",
    "- `print_reply()` gibt eine Antwort basierend auf der Frage und dem\n",
    "  \"Statuscode\" zurück."
   ]
  },
  {
   "cell_type": "code",
   "execution_count": null,
   "id": "e0c73959",
   "metadata": {},
   "outputs": [],
   "source": []
  },
  {
   "cell_type": "code",
   "execution_count": null,
   "id": "3eeeafd7",
   "metadata": {},
   "outputs": [],
   "source": []
  },
  {
   "cell_type": "code",
   "execution_count": null,
   "id": "758c5e10",
   "metadata": {},
   "outputs": [],
   "source": []
  },
  {
   "cell_type": "code",
   "execution_count": null,
   "id": "ba859e90",
   "metadata": {},
   "outputs": [],
   "source": []
  },
  {
   "cell_type": "code",
   "execution_count": null,
   "id": "d437478c",
   "metadata": {},
   "outputs": [],
   "source": []
  }
 ],
 "metadata": {
  "kernelspec": {
   "display_name": "Python 3 (ipykernel)",
   "language": "python",
   "name": "python3"
  }
 },
 "nbformat": 4,
 "nbformat_minor": 5
}
