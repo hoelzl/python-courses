{
 "cells": [
  {
   "cell_type": "markdown",
   "id": "d6286405",
   "metadata": {
    "lang": "de"
   },
   "source": [
    "## Cäsar-Verschlüsselung\n",
    "\n",
    "Bei der Cäsar-Verschlüsselung werden die Buchstaben des zu verschlüsselnden\n",
    "Wortes im Alphabet um 3 Stellen verschoben, z.B. wird aus der Zeichenkette\n",
    "`ABC` die Zeichenkette `DEF`. Die letzten drei Buchstaben des Alphabets\n",
    "werden durch die ersten ersetzt, d.h. aus `XYZA` wird `ABCD`.\n",
    "\n",
    "Typischerweise wurden bei historischen Verschlüsselungsverfahren alle\n",
    "Buchstaben in Großbuchstaben umgewandelt. Leer- und Sonderzeichen werden\n",
    "ignoriert. So wird aus \"Ich kam, sah und siegte.\" der verschlüsselte Text\n",
    "\n",
    "```\n",
    "LFKNDPVDKXQGVLHJWH\n",
    "```"
   ]
  },
  {
   "cell_type": "markdown",
   "id": "df3b16ac",
   "metadata": {
    "lang": "de"
   },
   "source": [
    "\n",
    "Schreiben Sie eine Funktion `encode_char(c: str)`, die einen String `c`,\n",
    "der nur aus einem einzigen Zeichen besteht, folgendermaßen verschlüsselt:\n",
    "\n",
    "- ist `c` einer der Buchstaben `a` bis `z` oder `A` bis `Z` so wird er, falls\n",
    "  nötig, in einen Großbuchstaben umgewandelt und mit der Cäsar-Verschlüsselung\n",
    "  verschlüsselt;\n",
    "- ist `c` eine Ziffer, so wird sie unverändert zurückgegeben;\n",
    "- andernfalls wird der leere String `\"\"` zurückgegeben.\n",
    "\n",
    "*Hinweis:* Die folgenden beiden Strings sind dabei hilfreich:"
   ]
  },
  {
   "cell_type": "code",
   "execution_count": null,
   "id": "a6c09d94",
   "metadata": {},
   "outputs": [],
   "source": []
  },
  {
   "cell_type": "code",
   "execution_count": null,
   "id": "528b0e2f",
   "metadata": {},
   "outputs": [],
   "source": []
  },
  {
   "cell_type": "markdown",
   "id": "e9f18197",
   "metadata": {
    "lang": "de"
   },
   "source": [
    "Testen Sie Ihre Implementierung mit einigen Werten"
   ]
  },
  {
   "cell_type": "code",
   "execution_count": null,
   "id": "7c2c5b27",
   "metadata": {},
   "outputs": [],
   "source": []
  },
  {
   "cell_type": "code",
   "execution_count": null,
   "id": "2b135a03",
   "metadata": {},
   "outputs": [],
   "source": []
  },
  {
   "cell_type": "code",
   "execution_count": null,
   "id": "f64e9bfe",
   "metadata": {},
   "outputs": [],
   "source": []
  },
  {
   "cell_type": "code",
   "execution_count": null,
   "id": "b5b881a2",
   "metadata": {},
   "outputs": [],
   "source": []
  },
  {
   "cell_type": "markdown",
   "id": "0e27efed",
   "metadata": {
    "lang": "de"
   },
   "source": [
    "\n",
    "Schreiben Sie eine Funktion `encode_caesar(text: str)`, die einen String\n",
    "`text` mittels der Cäsar-Verschlüsselung verschlüsselt."
   ]
  },
  {
   "cell_type": "code",
   "execution_count": null,
   "id": "01781094",
   "metadata": {},
   "outputs": [],
   "source": []
  },
  {
   "cell_type": "markdown",
   "id": "ca98c03f",
   "metadata": {
    "lang": "de"
   },
   "source": [
    "Überprüfen Sie Ihr Programm mit den folgenden Beispielen:"
   ]
  },
  {
   "cell_type": "code",
   "execution_count": null,
   "id": "d778002b",
   "metadata": {},
   "outputs": [],
   "source": []
  },
  {
   "cell_type": "code",
   "execution_count": null,
   "id": "ea64ef66",
   "metadata": {},
   "outputs": [],
   "source": []
  },
  {
   "cell_type": "code",
   "execution_count": null,
   "id": "fc0b3f48",
   "metadata": {},
   "outputs": [],
   "source": []
  },
  {
   "cell_type": "code",
   "execution_count": null,
   "id": "3139ecdb",
   "metadata": {},
   "outputs": [],
   "source": []
  },
  {
   "cell_type": "markdown",
   "id": "8dbb9a88",
   "metadata": {
    "lang": "de"
   },
   "source": [
    "Schreiben Sie jetzt Funktionen `decode_char(c: str)`\n",
    "und `decode_caesar(text: str)`, die einen mit der Cäsar-Verschlüsselung\n",
    "verschlüsselten Text entschlüsseln. Um robust zu sein sollen diese\n",
    "Funktionen Zeichen, die keine Buchstaben oder Ziffern sind, unverändert zurückgeben."
   ]
  },
  {
   "cell_type": "code",
   "execution_count": null,
   "id": "f79c552a",
   "metadata": {},
   "outputs": [],
   "source": []
  },
  {
   "cell_type": "code",
   "execution_count": null,
   "id": "1fcaabd9",
   "metadata": {},
   "outputs": [],
   "source": []
  },
  {
   "cell_type": "code",
   "execution_count": null,
   "id": "375ad348",
   "metadata": {},
   "outputs": [],
   "source": []
  },
  {
   "cell_type": "markdown",
   "id": "8c1fe604",
   "metadata": {
    "lang": "de"
   },
   "source": [
    "Testen Sie `decode_caesar()` mit `pangram` und `verlaine`."
   ]
  },
  {
   "cell_type": "code",
   "execution_count": null,
   "id": "ec825858",
   "metadata": {},
   "outputs": [],
   "source": []
  },
  {
   "cell_type": "code",
   "execution_count": null,
   "id": "c841a358",
   "metadata": {},
   "outputs": [],
   "source": []
  },
  {
   "cell_type": "code",
   "execution_count": null,
   "id": "ff054c68",
   "metadata": {},
   "outputs": [],
   "source": []
  },
  {
   "cell_type": "code",
   "execution_count": null,
   "id": "17e4d9b2",
   "metadata": {},
   "outputs": [],
   "source": []
  },
  {
   "cell_type": "markdown",
   "id": "626b7d12",
   "metadata": {
    "lang": "de"
   },
   "source": [
    "Entschlüsseln Sie den folgenden Text:\n",
    "```\n",
    "SDFN PB ERA ZLWK ILYH GRCHQ OLTXRU MXJV\n",
    "(SDQJUDP IURP QDVD'V VSDFH VKXWWOH SURJUDP)\n",
    "```"
   ]
  },
  {
   "cell_type": "code",
   "execution_count": null,
   "id": "27ae3684",
   "metadata": {},
   "outputs": [],
   "source": []
  },
  {
   "cell_type": "markdown",
   "id": "c8806cbd",
   "metadata": {
    "lang": "de",
    "pycharm": {
     "is_executing": false,
     "name": "#%% md\n"
    }
   },
   "source": [
    "Die Funktionen `encode_char()` und `decode_char()` enthalten viel duplizierten\n",
    "Code. Können Sie eine Funktion `rot_n_char(...)` schreiben, die die\n",
    "Funktionalität beider Funktionen verallgemeinert?"
   ]
  },
  {
   "cell_type": "code",
   "execution_count": null,
   "id": "1a1b3ed9",
   "metadata": {},
   "outputs": [],
   "source": []
  },
  {
   "cell_type": "markdown",
   "id": "eede5c6b",
   "metadata": {
    "lang": "de"
   },
   "source": [
    "\n",
    "Wie würden Sie `encode_caesar_2()` und `decode_caesar_2()` unter\n",
    "Zuhilfenahme dieser Funktion implementieren?"
   ]
  },
  {
   "cell_type": "code",
   "execution_count": null,
   "id": "45f05c1b",
   "metadata": {},
   "outputs": [],
   "source": []
  },
  {
   "cell_type": "code",
   "execution_count": null,
   "id": "f8395301",
   "metadata": {},
   "outputs": [],
   "source": []
  },
  {
   "cell_type": "markdown",
   "id": "e7b0eb8b",
   "metadata": {
    "lang": "de"
   },
   "source": [
    "Testen Sie die neue Funktion mittels `secret_text` und `verlaine`.\n",
    "Sind alte und neue Implementierung kompatibel?"
   ]
  },
  {
   "cell_type": "code",
   "execution_count": null,
   "id": "e3e01036",
   "metadata": {},
   "outputs": [],
   "source": []
  },
  {
   "cell_type": "code",
   "execution_count": null,
   "id": "a15e653b",
   "metadata": {},
   "outputs": [],
   "source": []
  },
  {
   "cell_type": "code",
   "execution_count": null,
   "id": "c71f48cc",
   "metadata": {},
   "outputs": [],
   "source": []
  },
  {
   "cell_type": "code",
   "execution_count": null,
   "id": "9ebb3687",
   "metadata": {},
   "outputs": [],
   "source": []
  },
  {
   "cell_type": "markdown",
   "id": "9a91bf1c",
   "metadata": {
    "lang": "de"
   },
   "source": [
    "Möglicherweise zeigt die Decodierung mit dem ursprünglichen Cäsar-Code, dass Ihre neue\n",
    "Implementierung einen Fehler hat, der bei der Verallgemeinerung häufig passiert: Es kann sein, dass der generalisierte Code Zahlen und Buchstaben vermischt. \n",
    "\n",
    "Gratulation, falls Sie diesen Fehler vermieden haben!\n",
    "Wie können wir den Fehler beseitigen, falls er bei Ihnen auftritt?"
   ]
  },
  {
   "cell_type": "code",
   "execution_count": null,
   "id": "79b111d1",
   "metadata": {},
   "outputs": [],
   "source": []
  },
  {
   "cell_type": "code",
   "execution_count": null,
   "id": "7494c6a6",
   "metadata": {},
   "outputs": [],
   "source": []
  },
  {
   "cell_type": "markdown",
   "id": "169482d3",
   "metadata": {
    "lang": "de"
   },
   "source": [
    "Testen Sie die neue Implementierung indem Sie `secret_text` decodieren."
   ]
  },
  {
   "cell_type": "code",
   "execution_count": null,
   "id": "4edc9ff1",
   "metadata": {},
   "outputs": [],
   "source": []
  },
  {
   "cell_type": "markdown",
   "id": "e59a2629",
   "metadata": {
    "lang": "de"
   },
   "source": [
    "Testen Sie die neue Implementierung mit `verlaine`."
   ]
  },
  {
   "cell_type": "code",
   "execution_count": null,
   "id": "b2d6a16a",
   "metadata": {},
   "outputs": [],
   "source": []
  },
  {
   "cell_type": "code",
   "execution_count": null,
   "id": "6a7802b4",
   "metadata": {},
   "outputs": [],
   "source": []
  },
  {
   "cell_type": "code",
   "execution_count": null,
   "id": "7d125000",
   "metadata": {},
   "outputs": [],
   "source": []
  },
  {
   "cell_type": "code",
   "execution_count": null,
   "id": "1a0ef57e",
   "metadata": {},
   "outputs": [],
   "source": []
  },
  {
   "cell_type": "code",
   "execution_count": null,
   "id": "dff10eb8",
   "metadata": {
    "tags": [
     "keep"
    ]
   },
   "outputs": [],
   "source": []
  }
 ],
 "metadata": {
  "kernelspec": {
   "display_name": "Python 3 (ipykernel)",
   "language": "python",
   "name": "python3"
  }
 },
 "nbformat": 4,
 "nbformat_minor": 5
}
