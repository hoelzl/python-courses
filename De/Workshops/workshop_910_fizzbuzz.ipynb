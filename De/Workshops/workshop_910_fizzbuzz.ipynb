{
 "cells": [
  {
   "cell_type": "markdown",
   "id": "0e744b1b",
   "metadata": {
    "lang": "de"
   },
   "source": [
    "## Extra Credits: FizzBuzz\n",
    "\n",
    "Schreiben Sie eine Funktion `fizz_buzz(n)`, die die Zahlen von 1 bis `n`\n",
    "ausgibt aber dabei\n",
    "\n",
    "- jede Zahl, die durch 3 teilbar ist, durch `Fizz` ersetzt\n",
    "- jede Zahl, die durch 5 teilbar ist, durch `Buzz` ersetzt\n",
    "- jede Zahl, die durch 3 und 5 teilbar ist, durch `FizzBuzz` ersetzt\n",
    "\n",
    "Zum Beispiel soll `fizz_buzz(31)` die folgende Ausgabe erzeugen:\n",
    "\n",
    "```\n",
    "1\n",
    "2\n",
    "Fizz\n",
    "4\n",
    "Buzz\n",
    "Fizz\n",
    "7\n",
    "8\n",
    "Fizz\n",
    "Buzz\n",
    "11\n",
    "Fizz\n",
    "13\n",
    "14\n",
    "FizzBuzz\n",
    "16\n",
    "17\n",
    "Fizz\n",
    "19\n",
    "Buzz\n",
    "Fizz\n",
    "22\n",
    "23\n",
    "Fizz\n",
    "Buzz\n",
    "26\n",
    "Fizz\n",
    "28\n",
    "29\n",
    "FizzBuzz\n",
    "31\n",
    "```"
   ]
  },
  {
   "cell_type": "code",
   "execution_count": null,
   "id": "4114c60c",
   "metadata": {},
   "outputs": [],
   "source": []
  },
  {
   "cell_type": "code",
   "execution_count": null,
   "id": "0926df59",
   "metadata": {},
   "outputs": [],
   "source": []
  },
  {
   "cell_type": "code",
   "execution_count": null,
   "id": "454c25ce",
   "metadata": {
    "tags": [
     "keep"
    ]
   },
   "outputs": [],
   "source": []
  }
 ],
 "metadata": {
  "kernelspec": {
   "display_name": "Python 3 (ipykernel)",
   "language": "python",
   "name": "python3"
  }
 },
 "nbformat": 4,
 "nbformat_minor": 5
}
