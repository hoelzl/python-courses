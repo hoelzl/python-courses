{
 "cells": [
  {
   "cell_type": "markdown",
   "id": "788e31c8",
   "metadata": {
    "lang": "de"
   },
   "source": [
    "\n",
    "# Monte-Carlo Methoden\n",
    "\n",
    "Monte-Carlo Methoden sind statistische Berechnungen, die wiederholte Berechnungen mit\n",
    "Zufallszahlen verwenden, um numerische Ergebnisse zu erhalten. In dieser Aufgabe\n",
    "wollen wir die Zahl $\\pi$ mit Monte-Carlo Methoden berechnen. Der Grundgedanke ist\n",
    "folgender:\n",
    "\n",
    "- $\\pi$ entspricht dem Flächeninhalt eines Kreises mit Radius 1.\n",
    "- Wir erzeugen zwei Zufallszahlen $x$ und $y$, die jeweils zwischen 0 und 1 liegen.\n",
    "- Wir berechnen $x^2 + y^2$ und testen, ob der Wert $\\leq 1$ ist. In diesem Fall\n",
    "  liegt der Punkt $(x, y)$ im Kreis mit Radius 1 um den Ursprung andererseits nicht.\n",
    "- Wir führen diese Berechnung sehr oft durch, und zählen, welcher Prozentsatz der\n",
    "  Punkte im Kreis liegt.\n",
    "- Da alle Punkte im ersten Quadranten liegen, erhalten wir eine Approximation von\n",
    "  $\\pi$ indem wir das Ergebnis mit 4 multiplizieren.\n"
   ]
  },
  {
   "cell_type": "markdown",
   "id": "7cb1bfce",
   "metadata": {
    "lang": "de"
   },
   "source": [
    "\n",
    "Die folgende Funktion erzeugt einen Punkt $(x, y)$ wie beschrieben:"
   ]
  },
  {
   "cell_type": "code",
   "execution_count": null,
   "id": "4f79635c",
   "metadata": {
    "tags": [
     "keep"
    ]
   },
   "outputs": [],
   "source": [
    "from random import random\n",
    "\n",
    "\n",
    "def get_random_point():\n",
    "    return random(), random()"
   ]
  },
  {
   "cell_type": "markdown",
   "id": "7366fd13",
   "metadata": {
    "lang": "de"
   },
   "source": [
    "\n",
    "Implementieren Sie eine Funktion `is_in_circle(x, y)`, die überprüft, ob ein\n",
    "derartiger Punkt innerhalb des Kreises mit Radius 1 liegt."
   ]
  },
  {
   "cell_type": "code",
   "execution_count": null,
   "id": "3c7afc61",
   "metadata": {},
   "outputs": [],
   "source": []
  },
  {
   "cell_type": "markdown",
   "id": "b238936f",
   "metadata": {
    "lang": "de"
   },
   "source": [
    "\n",
    "Implementieren Sie eine Funktion `is_random_point_in_circle()`, die überprüft, ob ein\n",
    "zufällig gewählter Punkt innerhalb des Kreises mit Radius 1 liegt."
   ]
  },
  {
   "cell_type": "code",
   "execution_count": null,
   "id": "bc8b7427",
   "metadata": {},
   "outputs": [],
   "source": []
  },
  {
   "cell_type": "markdown",
   "id": "d9e201ba",
   "metadata": {
    "lang": "de"
   },
   "source": [
    "\n",
    "Wie können Sie die oben beschriebene Methode anzuwenden um $\\pi$ zu berechnen?\n",
    "Implementieren Sie eine sequentielle Version unter Zuhilfenahme von\n",
    "`is_random_point_in_circle()` und mindestens eine parallele Version. Testen Sie die\n",
    "Performance verschiedener Vorgehensweisen."
   ]
  },
  {
   "cell_type": "code",
   "execution_count": null,
   "id": "0e04adc8",
   "metadata": {},
   "outputs": [],
   "source": []
  },
  {
   "cell_type": "code",
   "execution_count": null,
   "id": "4e70b6c5",
   "metadata": {},
   "outputs": [],
   "source": []
  },
  {
   "cell_type": "code",
   "execution_count": null,
   "id": "c4bdb73f",
   "metadata": {},
   "outputs": [],
   "source": []
  },
  {
   "cell_type": "code",
   "execution_count": null,
   "id": "53fc0ce9",
   "metadata": {},
   "outputs": [],
   "source": []
  },
  {
   "cell_type": "code",
   "execution_count": null,
   "id": "70a68782",
   "metadata": {},
   "outputs": [],
   "source": []
  },
  {
   "cell_type": "code",
   "execution_count": null,
   "id": "f0dca1f0",
   "metadata": {},
   "outputs": [],
   "source": []
  },
  {
   "cell_type": "code",
   "execution_count": null,
   "id": "34e9d80b",
   "metadata": {},
   "outputs": [],
   "source": []
  },
  {
   "cell_type": "code",
   "execution_count": null,
   "id": "79ce5d9b",
   "metadata": {},
   "outputs": [],
   "source": []
  },
  {
   "cell_type": "code",
   "execution_count": null,
   "id": "b7cc6a35",
   "metadata": {},
   "outputs": [],
   "source": []
  },
  {
   "cell_type": "code",
   "execution_count": null,
   "id": "3a401e7a",
   "metadata": {},
   "outputs": [],
   "source": []
  }
 ],
 "metadata": {
  "kernelspec": {
   "display_name": "Python 3 (ipykernel)",
   "language": "python",
   "name": "python3"
  }
 },
 "nbformat": 4,
 "nbformat_minor": 5
}
