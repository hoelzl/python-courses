{
 "cells": [
  {
   "cell_type": "markdown",
   "id": "758087b7926cad22",
   "metadata": {
    "lang": "de"
   },
   "source": [
    "\n",
    "# Parallele Requests\n",
    "\n",
    "Mit der folgenden Funktion lässt sich der Inhalt einer Website in Python abfragen:"
   ]
  },
  {
   "cell_type": "code",
   "execution_count": null,
   "id": "c2790c7e27a21770",
   "metadata": {
    "tags": [
     "keep"
    ]
   },
   "outputs": [],
   "source": [
    "from http.client import HTTPSConnection\n",
    "\n",
    "\n",
    "def get_url(site, path, timeout=None):\n",
    "    conn = HTTPSConnection(site, timeout=timeout)\n",
    "    conn.request(\"GET\", path)\n",
    "    resp = conn.getresponse()\n",
    "    if resp.status == 200:\n",
    "        return resp.read()\n",
    "    else:\n",
    "        return \"\""
   ]
  },
  {
   "cell_type": "markdown",
   "id": "f569979c26bdee12",
   "metadata": {
    "lang": "de"
   },
   "source": [
    "\n",
    "Z.B. kann man den Inhalt des Python Enhancement Proposals PEP-8 so bekommen:"
   ]
  },
  {
   "cell_type": "code",
   "execution_count": null,
   "id": "a34a60e3df871504",
   "metadata": {
    "tags": [
     "keep"
    ]
   },
   "outputs": [],
   "source": [
    "get_url(\"peps.python.org\", \"/pep-0008/\")"
   ]
  },
  {
   "cell_type": "markdown",
   "id": "fdb7b8e5d4d4ce5b",
   "metadata": {
    "lang": "de"
   },
   "source": [
    "\n",
    "Schreiben Sie eine Funktion `get_pep(pep: str) -> str`, die den Inhalt eines PEP\n",
    "Dokuments herunterlädt."
   ]
  },
  {
   "cell_type": "code",
   "execution_count": null,
   "id": "5c183993b0adf912",
   "metadata": {},
   "outputs": [],
   "source": []
  },
  {
   "cell_type": "code",
   "execution_count": null,
   "id": "ceced54c582a3d93",
   "metadata": {
    "tags": [
     "keep"
    ]
   },
   "outputs": [],
   "source": [
    "assert len(get_pep(\"0008\")) >= 100_000"
   ]
  },
  {
   "cell_type": "code",
   "execution_count": null,
   "id": "4ec432fac7d8cb4b",
   "metadata": {},
   "outputs": [],
   "source": []
  },
  {
   "cell_type": "markdown",
   "id": "63c502e62c751a27",
   "metadata": {
    "lang": "de"
   },
   "source": [
    "\n",
    "Schreiben Sie eine Klasse `PepDownloadThread`, die von `Thread` erbt und\n",
    "\n",
    "- die Nummer eines Peps als Argument der `__init__()` Methode bekommt\n",
    "- eine `run()` Methode implementiert, die den entsprechenden PEP herunterlädt und\n",
    "- den Inhalt in einem Attribut `contents` speichert."
   ]
  },
  {
   "cell_type": "code",
   "execution_count": null,
   "id": "2faa356b36d1b90f",
   "metadata": {},
   "outputs": [],
   "source": []
  },
  {
   "cell_type": "markdown",
   "id": "ddece513c4e2edae",
   "metadata": {
    "lang": "de"
   },
   "source": [
    "\n",
    "Erzeugen Sie eine Instanz von `PepDownloadThread` und verwenden Sie sie, um PEP-8\n",
    "herunterzuladen.\n",
    "\n",
    "Vergessen Sie nicht, den Thread zu \"joinen\"."
   ]
  },
  {
   "cell_type": "code",
   "execution_count": null,
   "id": "aadd43a471cf3bd8",
   "metadata": {},
   "outputs": [],
   "source": []
  },
  {
   "cell_type": "code",
   "execution_count": null,
   "id": "3d3f3776e0c0bba1",
   "metadata": {},
   "outputs": [],
   "source": []
  },
  {
   "cell_type": "code",
   "execution_count": null,
   "id": "438155f77a5ec3a6",
   "metadata": {},
   "outputs": [],
   "source": []
  },
  {
   "cell_type": "markdown",
   "id": "4c73a13795e62721",
   "metadata": {
    "lang": "de"
   },
   "source": [
    "\n",
    "Schreiben Sie eine Funktion `get_peps(peps: list[str]) -> list[str]`, die den Inhalt\n",
    "mehrerer PEP Dokumente mit mehreren Threads herunterlädt."
   ]
  },
  {
   "cell_type": "code",
   "execution_count": null,
   "id": "42b51bc75fef1da1",
   "metadata": {},
   "outputs": [],
   "source": []
  },
  {
   "cell_type": "code",
   "execution_count": null,
   "id": "03e684dc086c6dba",
   "metadata": {
    "lines_to_next_cell": 2,
    "tags": [
     "keep"
    ]
   },
   "outputs": [],
   "source": [
    "_pep_lens = [len(pep) for pep in get_peps([\"0001\", \"0008\", \"0020\"])]\n",
    "print(_pep_lens)"
   ]
  }
 ],
 "metadata": {
  "kernelspec": {
   "display_name": "Python 3 (ipykernel)",
   "language": "python",
   "name": "python3"
  }
 },
 "nbformat": 4,
 "nbformat_minor": 5
}
