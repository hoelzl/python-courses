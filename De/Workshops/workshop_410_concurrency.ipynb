{
 "cells": [
  {
   "cell_type": "markdown",
   "id": "414cd5b3",
   "metadata": {
    "lang": "de"
   },
   "source": [
    "\n",
    "# Parallele Requests\n",
    "\n",
    "Mit der folgenden Funktion lässt sich der Inhalt einer Website in Python abfragen:"
   ]
  },
  {
   "cell_type": "code",
   "execution_count": null,
   "id": "30434b32",
   "metadata": {
    "tags": [
     "keep"
    ]
   },
   "outputs": [],
   "source": [
    "from http.client import HTTPSConnection\n",
    "\n",
    "\n",
    "def get_url(site, path, timeout=None):\n",
    "    conn = HTTPSConnection(site, timeout=timeout)\n",
    "    conn.request(\"GET\", path)\n",
    "    resp = conn.getresponse()\n",
    "    if resp.status == 200:\n",
    "        return resp.read()\n",
    "    else:\n",
    "        return \"\""
   ]
  },
  {
   "cell_type": "markdown",
   "id": "adf76f86",
   "metadata": {
    "lang": "de"
   },
   "source": [
    "\n",
    "Z.B. kann man den Inhalt des Python Enhancement Proposals PEP-8 so bekommen:"
   ]
  },
  {
   "cell_type": "code",
   "execution_count": null,
   "id": "3e27ae00",
   "metadata": {
    "tags": [
     "keep"
    ]
   },
   "outputs": [],
   "source": [
    "get_url(\"peps.python.org\", \"/pep-0008/\")"
   ]
  },
  {
   "cell_type": "markdown",
   "id": "2e382a42",
   "metadata": {
    "lang": "de"
   },
   "source": [
    "\n",
    "Schreiben Sie eine Funktion `get_pep(pep: str) -> str`, die den Inhalt eines PEP\n",
    "Dokuments herunterlädt."
   ]
  },
  {
   "cell_type": "code",
   "execution_count": null,
   "id": "c748e6b5",
   "metadata": {},
   "outputs": [],
   "source": []
  },
  {
   "cell_type": "code",
   "execution_count": null,
   "id": "1cd135a5",
   "metadata": {
    "tags": [
     "keep"
    ]
   },
   "outputs": [],
   "source": [
    "assert len(get_pep(\"0008\")) >= 100_000"
   ]
  },
  {
   "cell_type": "code",
   "execution_count": null,
   "id": "919cf9e2",
   "metadata": {},
   "outputs": [],
   "source": []
  },
  {
   "cell_type": "markdown",
   "id": "6a255441",
   "metadata": {
    "lang": "de"
   },
   "source": [
    "\n",
    "Schreiben Sie eine Klasse `PepDownloadThread`, die von `Thread` erbt und\n",
    "\n",
    "- die Nummer eines Peps als Argument der `__init__()` Methode bekommt\n",
    "- eine `run()` Methode implementiert, die den entsprechenden PEP herunterlädt und\n",
    "- den Inhalt in einem Attribut `contents` speichert."
   ]
  },
  {
   "cell_type": "code",
   "execution_count": null,
   "id": "4281b149",
   "metadata": {},
   "outputs": [],
   "source": []
  },
  {
   "cell_type": "markdown",
   "id": "b5fb0e8a",
   "metadata": {
    "lang": "de"
   },
   "source": [
    "\n",
    "Erzeugen Sie eine Instanz von `PepDownloadThread` und verwenden Sie sie, um PEP-8\n",
    "herunterzuladen.\n",
    "\n",
    "Vergessen Sie nicht, den Thread zu \"joinen\"."
   ]
  },
  {
   "cell_type": "code",
   "execution_count": null,
   "id": "4ba2e4a7",
   "metadata": {},
   "outputs": [],
   "source": []
  },
  {
   "cell_type": "code",
   "execution_count": null,
   "id": "efa45e51",
   "metadata": {},
   "outputs": [],
   "source": []
  },
  {
   "cell_type": "code",
   "execution_count": null,
   "id": "f9c64a98",
   "metadata": {},
   "outputs": [],
   "source": []
  },
  {
   "cell_type": "markdown",
   "id": "95c2a650",
   "metadata": {
    "lang": "de"
   },
   "source": [
    "\n",
    "Schreiben Sie eine Funktion `get_peps(peps: list[str]) -> list[str]`, die den Inhalt\n",
    "mehrerer PEP Dokumente mit mehreren Threads herunterlädt."
   ]
  },
  {
   "cell_type": "code",
   "execution_count": null,
   "id": "3fb44dd9",
   "metadata": {},
   "outputs": [],
   "source": []
  },
  {
   "cell_type": "code",
   "execution_count": null,
   "id": "816f8ac2",
   "metadata": {
    "lines_to_next_cell": 2,
    "tags": [
     "keep"
    ]
   },
   "outputs": [],
   "source": [
    "_pep_lens = [len(pep) for pep in get_peps([\"0001\", \"0008\", \"0020\"])]\n",
    "print(_pep_lens)"
   ]
  }
 ],
 "metadata": {
  "kernelspec": {
   "display_name": "Python 3 (ipykernel)",
   "language": "python",
   "name": "python3"
  }
 },
 "nbformat": 4,
 "nbformat_minor": 5
}
