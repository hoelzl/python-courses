{
 "cells": [
  {
   "cell_type": "markdown",
   "id": "5377c270",
   "metadata": {
    "lang": "de"
   },
   "source": [
    "# RPG-Würfel\n",
    "\n",
    "In Rollenspielen werden Konflikte zwischen Spielern oft durch Würfeln\n",
    "entschieden. Dabei werden oft mehrere Würfel gleichzeitig verwendet. Außerdem\n",
    "werden nicht nur die bekannten 6-seitigen Würfel verwendet, sondern auch\n",
    "4-seitige, 8-seitige, 20-seitige Würfel, etc.\n",
    "\n",
    "Die Anzahl und Art der Würfel wird dabei durch folgende Notation beschrieben:\n",
    "\n",
    "```text\n",
    "<Anzahl der Würfel> d <Seiten pro Würfel>\n",
    "```\n",
    "\n",
    "Zum Beispiel wird das Würfeln mit zwei 6-seitigen Würfeln als `2d6`\n",
    "beschrieben. Manchmal werden auch komplexere Formeln verwendet: \n",
    "`3d20 + 2d6 - 4` bedeutet, dass gleichzeitig drei 20-seitige Würfel und zwei 6-seitige\n",
    "Würfel geworfen werden und die Gesamtsumme der Augenzahlen dann um 4\n",
    "verringert wird.\n",
    "\n",
    "In manchen Spielen wird das Werfen der niedrigsten oder höchsten Augenzahl\n",
    "besonders behandelt (\"katastrophale Niederlage\", \"kritischer Erfolg\").\n",
    "\n",
    "In den folgenden Aufgaben sollen Sie derartige RPG-Würfel in Python\n",
    "implementieren. Um Ihre Implementierung testen zu können empfiehlt es sich\n",
    "sie in einem IDE zu realisieren. \n",
    "\n",
    "Schreiben Sie Tests für jede Funktionalität, die Sie implementieren.\n",
    "Wie können Sie beim Testen mit der Zufälligkeit beim Würfeln umgehen?\n",
    "Was sind Stärken bzw. Schwächen der von Ihnen gewählten Teststrategie?"
   ]
  },
  {
   "cell_type": "markdown",
   "id": "06549853",
   "metadata": {
    "lang": "de"
   },
   "source": [
    "## Generalisierte Würfel: Interface `Dice`\n",
    "\n",
    "Implementieren Sie eine abstrakte Klasse `Dice`, die das Würfeln mit\n",
    "beliebigen Würfeln beschreibt: Die Klasse soll folgende abstrakte Methoden\n",
    "anbieten:\n",
    "\n",
    "- `roll(): int` liefert das Ergebnis eines Wurfes mit den entsprechenden\n",
    "  Würfeln zurück.\n",
    "\n",
    "- properties `max_value: int` und `min_value: int` geben den kleinsten bzw.\n",
    "  größten Wert zurück, der mit den entsprechenden Würfeln geworfen werden\n",
    "  kann.\n",
    "\n",
    "Falls Sie Pytest verwenden:\n",
    "Schreiben Sie parametrische Pytest Tests, mit denen (indirekte) Instanzen\n",
    "von `Dice` getestet werden können."
   ]
  },
  {
   "cell_type": "code",
   "execution_count": null,
   "id": "c6712c06",
   "metadata": {},
   "outputs": [],
   "source": []
  },
  {
   "cell_type": "code",
   "execution_count": null,
   "id": "e56d2d8e",
   "metadata": {},
   "outputs": [],
   "source": []
  },
  {
   "cell_type": "markdown",
   "id": "5a105874",
   "metadata": {
    "lang": "de"
   },
   "source": [
    "## Klasse `ConstantDice`\n",
    "\n",
    "Implementieren Sie eine Klasse `ConstantDice`, die das Interface `Dice`\n",
    "implementiert und einen Würfel realisiert, der immer einen konstanten, bei der\n",
    "Instanziierung des Objekts festgelegten Wert würfelt."
   ]
  },
  {
   "cell_type": "code",
   "execution_count": null,
   "id": "929225fa",
   "metadata": {
    "lines_to_next_cell": 2
   },
   "outputs": [],
   "source": []
  },
  {
   "cell_type": "markdown",
   "id": "c545b5dd",
   "metadata": {
    "lang": "de"
   },
   "source": [
    "## Klasse `FairDice`\n",
    "\n",
    "Implementieren Sie eine Klasse `FairDice`, die das Interface `Dice`\n",
    "implementiert und einen der oben beschriebenen Würfe mit mehreren Würfeln\n",
    "einer beliebigen (aber für alle Würfel gleichen) Augenzahl realisiert. Z.B.\n",
    "sollen Würfe der Form `3d6` oder `4d17` durch Instanzen dieser Klasse\n",
    "darstellbar sein (obwohl es in der Realität keinen 17-seitigen (fairen)\n",
    "Würfel gibt).\n",
    "\n",
    "Wie können Sie beim Testen mit der Zufälligkeit beim Würfeln umgehen? Was\n",
    "sind Stärken bzw. Schwächen der gewählten Teststrategie?\n",
    "\n",
    "*Hinweis:* Die Funktionen `random.randint()` und `random.seed()` können \n",
    "bei dieser Aufgabe hilfreich sein."
   ]
  },
  {
   "cell_type": "code",
   "execution_count": null,
   "id": "4dbaba10",
   "metadata": {},
   "outputs": [],
   "source": []
  },
  {
   "cell_type": "code",
   "execution_count": null,
   "id": "60775afd",
   "metadata": {},
   "outputs": [],
   "source": []
  },
  {
   "cell_type": "markdown",
   "id": "8fe49f53",
   "metadata": {
    "lang": "de"
   },
   "source": [
    "## Klasse `SumDice`\n",
    "\n",
    "Implementieren Sie eine Klasse `SumDice`, die das Interface `Dice`\n",
    "implementiert und die Summe des Würfelns mit mehreren verschiedenen Würfeln\n",
    "(potentiell der Form `<m>d<n>`) repräsentiert."
   ]
  },
  {
   "cell_type": "code",
   "execution_count": null,
   "id": "8c1e7876",
   "metadata": {},
   "outputs": [],
   "source": []
  },
  {
   "cell_type": "code",
   "execution_count": null,
   "id": "f3ccc32a",
   "metadata": {},
   "outputs": [],
   "source": []
  },
  {
   "cell_type": "code",
   "execution_count": null,
   "id": "83b1f97c",
   "metadata": {},
   "outputs": [],
   "source": []
  },
  {
   "cell_type": "markdown",
   "id": "360ed848",
   "metadata": {
    "lang": "de"
   },
   "source": [
    "## Klasse `SimpleDie`\n",
    "\n",
    "Implementieren Sie eine Klasse `SimpleDie`, die das Interface `Dice`\n",
    "implementiert und das Würfeln mit einem Würfel beliebiger, bei der\n",
    "Instanziierung des Würfels festgelegten, Seitenzahl ermöglicht."
   ]
  },
  {
   "cell_type": "code",
   "execution_count": null,
   "id": "83073ccc",
   "metadata": {},
   "outputs": [],
   "source": []
  },
  {
   "cell_type": "code",
   "execution_count": null,
   "id": "48a4751c",
   "metadata": {},
   "outputs": [],
   "source": []
  },
  {
   "cell_type": "markdown",
   "id": "533b666d",
   "metadata": {
    "lang": "de"
   },
   "source": [
    "## Klasse `MultipleRollDice`\n",
    "\n",
    "Implementieren Sie eine Klasse `MultipleRollDice`, die das Interface `Dice`\n",
    "implementiert und das wiederholte Würfeln mit einem (generalisierten)\n",
    "Würfel realisiert.\n",
    "\n",
    "Was ist die Beziehung zwischen `FairDice` und der Kombination aus\n",
    "`SimpleDie` und `MultipleRollDice`? Wie unterscheiden sich die beiden\n",
    "Implementierungsstrategien in ihrer Testbarkeit."
   ]
  },
  {
   "cell_type": "code",
   "execution_count": null,
   "id": "c7171806",
   "metadata": {},
   "outputs": [],
   "source": []
  },
  {
   "cell_type": "code",
   "execution_count": null,
   "id": "909fed74",
   "metadata": {},
   "outputs": [],
   "source": []
  },
  {
   "cell_type": "markdown",
   "id": "02085c04",
   "metadata": {
    "lang": "de"
   },
   "source": [
    "# Factory für RPG-Würfel\n",
    "\n",
    "Schreiben Sie eine Funktion `create_dice(configuration: str) -> Dice`,\n",
    "die eine Konfiguration von RPG-Würfeln als Argument bekommt und eine\n",
    "geeignete Konfiguration von Dice-Instanzen zurückgibt.  Zum Beispiel soll\n",
    "für \"3d8 + 6\" ein `SumDice` zurückgegeben werden, der einen `FairDice` (mit\n",
    "3 8-seitigen Würfeln) und einen `ConstantDice` mit dem Wert 6 enthält."
   ]
  },
  {
   "cell_type": "code",
   "execution_count": null,
   "id": "ffca80d9",
   "metadata": {
    "tags": [
     "keep"
    ]
   },
   "outputs": [],
   "source": []
  }
 ],
 "metadata": {
  "kernelspec": {
   "display_name": "Python 3 (ipykernel)",
   "language": "python",
   "name": "python3"
  }
 },
 "nbformat": 4,
 "nbformat_minor": 5
}
