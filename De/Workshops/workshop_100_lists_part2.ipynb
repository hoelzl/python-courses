{
 "cells": [
  {
   "cell_type": "markdown",
   "id": "07f383fb",
   "metadata": {
    "lang": "de"
   },
   "source": [
    "# Farben\n",
    "\n",
    "Definieren Sie eine Variable `farben`, die eine Liste mit den Strings\n",
    "`Rot`, `Grün` und `Blau` enthält."
   ]
  },
  {
   "cell_type": "code",
   "execution_count": null,
   "id": "d4c0f2b3",
   "metadata": {},
   "outputs": [],
   "source": []
  },
  {
   "cell_type": "markdown",
   "id": "65ee005a",
   "metadata": {
    "lang": "de"
   },
   "source": [
    "Überprüfen Sie, ob der String `Gelb` in `farben` enthalten ist"
   ]
  },
  {
   "cell_type": "code",
   "execution_count": null,
   "id": "3acc289d",
   "metadata": {},
   "outputs": [],
   "source": []
  },
  {
   "cell_type": "markdown",
   "id": "136e86d6",
   "metadata": {
    "lang": "de"
   },
   "source": [
    "Fügen Sie `Gelb` zu den Farben hinzu."
   ]
  },
  {
   "cell_type": "code",
   "execution_count": null,
   "id": "3143bbbe",
   "metadata": {},
   "outputs": [],
   "source": []
  },
  {
   "cell_type": "markdown",
   "id": "3b3b853c",
   "metadata": {
    "lang": "de"
   },
   "source": [
    "Überprüfen Sie nochmals, ob `Gelb` in den Farben enthalten ist."
   ]
  },
  {
   "cell_type": "code",
   "execution_count": null,
   "id": "31df771c",
   "metadata": {},
   "outputs": [],
   "source": []
  },
  {
   "cell_type": "markdown",
   "id": "dd5a7c1a",
   "metadata": {
    "lang": "de"
   },
   "source": [
    "Wie viele Farben enthält die in `farben` gespeicherte Liste jetzt?"
   ]
  },
  {
   "cell_type": "code",
   "execution_count": null,
   "id": "4f143ebf",
   "metadata": {},
   "outputs": [],
   "source": []
  },
  {
   "cell_type": "markdown",
   "id": "f970994f",
   "metadata": {
    "lang": "de"
   },
   "source": [
    "Ändern Sie das erste Element von `farben` in `Dunkelrot`"
   ]
  },
  {
   "cell_type": "code",
   "execution_count": null,
   "id": "96507b8a",
   "metadata": {},
   "outputs": [],
   "source": []
  },
  {
   "cell_type": "markdown",
   "id": "1ea95475",
   "metadata": {
    "lang": "de"
   },
   "source": [
    "Fügen Sie `Lila` als zweites Element in die Liste ein."
   ]
  },
  {
   "cell_type": "code",
   "execution_count": null,
   "id": "7cb8ad70",
   "metadata": {},
   "outputs": [],
   "source": []
  },
  {
   "cell_type": "markdown",
   "id": "c0eb4033",
   "metadata": {
    "lang": "de"
   },
   "source": [
    "Was ist das dritte Element der Liste `farben`?"
   ]
  },
  {
   "cell_type": "code",
   "execution_count": null,
   "id": "426b3731",
   "metadata": {},
   "outputs": [],
   "source": []
  },
  {
   "cell_type": "markdown",
   "id": "4912f1f1",
   "metadata": {
    "lang": "de"
   },
   "source": [
    "Löschen Sie das zweite Element der Liste `farben`"
   ]
  },
  {
   "cell_type": "code",
   "execution_count": null,
   "id": "f92379d0",
   "metadata": {},
   "outputs": [],
   "source": []
  },
  {
   "cell_type": "markdown",
   "id": "23f5c8dd",
   "metadata": {
    "lang": "de"
   },
   "source": [
    "Was ist das dritte Element der Liste `farben` jetzt?"
   ]
  },
  {
   "cell_type": "code",
   "execution_count": null,
   "id": "39c9867d",
   "metadata": {},
   "outputs": [],
   "source": []
  },
  {
   "cell_type": "markdown",
   "id": "0c6141ac",
   "metadata": {
    "lang": "de"
   },
   "source": [
    "# Slicing"
   ]
  },
  {
   "cell_type": "code",
   "execution_count": null,
   "id": "13d357f4",
   "metadata": {
    "tags": [
     "keep"
    ]
   },
   "outputs": [],
   "source": [
    "my_list = [0, 1, 2, 3, 4, 5, 6, 7, 8, 9]"
   ]
  },
  {
   "cell_type": "markdown",
   "id": "5ae63129",
   "metadata": {
    "lang": "de"
   },
   "source": [
    "Extrahieren Sie von `my_list` eine Liste mit allen Elementen außer den ersten beiden."
   ]
  },
  {
   "cell_type": "code",
   "execution_count": null,
   "id": "d80156a9",
   "metadata": {},
   "outputs": [],
   "source": []
  },
  {
   "cell_type": "markdown",
   "id": "1a7b5b40",
   "metadata": {
    "lang": "de"
   },
   "source": [
    "Extrahieren Sie von `my_list` eine Liste, die aus dem 2. und 3. Element besteht."
   ]
  },
  {
   "cell_type": "code",
   "execution_count": null,
   "id": "26e88d70",
   "metadata": {},
   "outputs": [],
   "source": []
  },
  {
   "cell_type": "markdown",
   "id": "9828c041",
   "metadata": {
    "lang": "de"
   },
   "source": [
    "Extrahieren Sie von `my_list` eine neue Liste, die alle Elemente außer dem\n",
    "ersten und dem letzten enthält."
   ]
  },
  {
   "cell_type": "code",
   "execution_count": null,
   "id": "610d4b71",
   "metadata": {},
   "outputs": [],
   "source": []
  },
  {
   "cell_type": "markdown",
   "id": "78e6a913",
   "metadata": {
    "lang": "de"
   },
   "source": [
    "# Finden in Listen\n",
    "\n",
    "Schreiben Sie eine Funktion `finde_erste_gerade_zahl(liste)`, die den Index\n",
    "der ersten geraden Zahl in einer Liste von ganzen Zahlen zurückgibt. Falls\n",
    "die Liste keine gerade Zahl enthält soll die Funktion `None` zurückgeben."
   ]
  },
  {
   "cell_type": "code",
   "execution_count": null,
   "id": "4525bbbd",
   "metadata": {},
   "outputs": [],
   "source": []
  },
  {
   "cell_type": "markdown",
   "id": "7485a31c",
   "metadata": {
    "lang": "de"
   },
   "source": [
    "Testen Sie die Funktion für geeignete Argumente."
   ]
  },
  {
   "cell_type": "code",
   "execution_count": null,
   "id": "dc93f0af",
   "metadata": {},
   "outputs": [],
   "source": []
  },
  {
   "cell_type": "markdown",
   "id": "c44652f9",
   "metadata": {
    "lang": "de"
   },
   "source": [
    "## Mittelwert einer Liste\n",
    "\n",
    "Der Mittelwert einer Liste mit $n$ Elementen $[x_0, \\dots, x_{n-1}]$ ist\n",
    "definiert als\n",
    "\n",
    "$$\\frac{x_0 + \\dots + x_{n-1}}{n}$$\n",
    "\n",
    "Schreiben Sie eine Funktion `mittelwert(liste)`, die den Mittelwert einer\n",
    "Liste berechnet."
   ]
  },
  {
   "cell_type": "code",
   "execution_count": null,
   "id": "7536086c",
   "metadata": {},
   "outputs": [],
   "source": []
  },
  {
   "cell_type": "markdown",
   "id": "8532c684",
   "metadata": {
    "lang": "de",
    "pycharm": {
     "name": "#%% md\n"
    }
   },
   "source": [
    "Testen Sie die Funktion für geeignete Argumente."
   ]
  },
  {
   "cell_type": "code",
   "execution_count": null,
   "id": "57e99ed6",
   "metadata": {},
   "outputs": [],
   "source": []
  },
  {
   "cell_type": "code",
   "execution_count": null,
   "id": "148ce11a",
   "metadata": {},
   "outputs": [],
   "source": []
  },
  {
   "cell_type": "markdown",
   "id": "a45db415",
   "metadata": {
    "lang": "de"
   },
   "source": [
    "**Zusatzaufgabe:** Der Mittelwert der Elemente einer Liste kann iterativ\n",
    "folgendermaßen berechnet werden:\n",
    "\n",
    "- Der Mittelwert $m$ der leeren Liste ist (per Definition für diese Lösung) 0\n",
    "- Wenn wir das $n+1$-te Element $x_{n+1}$ hinzufügen, so wird der neue\n",
    "  Mittelwert berechnet als\n",
    "\n",
    "$$m \\leftarrow m + \\frac{1}{n+1}(x_{n+1} - m)$$\n",
    "\n",
    "Schreiben Sie eine Funktion `iterativer_mittelwert(liste)`, die den\n",
    "Mittelwert einer Liste iterativ berechnet.\n"
   ]
  },
  {
   "cell_type": "code",
   "execution_count": null,
   "id": "f20bef6d",
   "metadata": {},
   "outputs": [],
   "source": []
  },
  {
   "cell_type": "code",
   "execution_count": null,
   "id": "7405dbbc",
   "metadata": {},
   "outputs": [],
   "source": []
  },
  {
   "cell_type": "code",
   "execution_count": null,
   "id": "403643e0",
   "metadata": {},
   "outputs": [],
   "source": []
  },
  {
   "cell_type": "code",
   "execution_count": null,
   "id": "8cce34cd",
   "metadata": {},
   "outputs": [],
   "source": []
  },
  {
   "cell_type": "code",
   "execution_count": null,
   "id": "18223a67",
   "metadata": {},
   "outputs": [],
   "source": []
  },
  {
   "cell_type": "code",
   "execution_count": null,
   "id": "4dd8b664",
   "metadata": {},
   "outputs": [],
   "source": []
  },
  {
   "cell_type": "code",
   "execution_count": null,
   "id": "962dbdff",
   "metadata": {},
   "outputs": [],
   "source": []
  },
  {
   "cell_type": "markdown",
   "id": "99a5f93a",
   "metadata": {
    "lang": "de"
   },
   "source": [
    "# Quadratzahlen\n",
    "\n",
    "Gegeben sei die folgende Liste mit Zahlen."
   ]
  },
  {
   "cell_type": "code",
   "execution_count": null,
   "id": "d06bcef8",
   "metadata": {
    "tags": [
     "keep"
    ]
   },
   "outputs": [],
   "source": [
    "numbers = [1, 7, 4, 87, 23]"
   ]
  },
  {
   "cell_type": "markdown",
   "id": "4d5692ea",
   "metadata": {
    "lang": "de"
   },
   "source": [
    "Erzeugen Sie eine neue Liste, die die Quadrate der Zahlen in `numbers` enthält."
   ]
  },
  {
   "cell_type": "code",
   "execution_count": null,
   "id": "97a5ae09",
   "metadata": {},
   "outputs": [],
   "source": []
  },
  {
   "cell_type": "markdown",
   "id": "addb6fe7",
   "metadata": {
    "lang": "de"
   },
   "source": [
    "Schreiben Sie eine Funktion `quadriere(zahlen)`, die eine neue Liste mit den\n",
    "Quadraten der Zahlen in `zahlen` zurückgibt."
   ]
  },
  {
   "cell_type": "code",
   "execution_count": null,
   "id": "9731c4dd",
   "metadata": {},
   "outputs": [],
   "source": []
  },
  {
   "cell_type": "code",
   "execution_count": null,
   "id": "e4ffd968",
   "metadata": {},
   "outputs": [],
   "source": []
  },
  {
   "cell_type": "markdown",
   "id": "2cfd1db9",
   "metadata": {
    "lang": "de"
   },
   "source": [
    "# Quadratzahlen mit Listen-Komprehension\n",
    "\n",
    "Erzeugen Sie eine neue Liste mit den Quadraten von `numbers`. Verwenden Sie\n",
    "dazu eine Listen-Komprehension"
   ]
  },
  {
   "cell_type": "code",
   "execution_count": null,
   "id": "e2f72fec",
   "metadata": {},
   "outputs": [],
   "source": []
  },
  {
   "cell_type": "markdown",
   "id": "3081ad2a",
   "metadata": {
    "lang": "de"
   },
   "source": [
    "Schreiben Sie die Funktion `quadriere(zahlen)` mit Listen-Komprehension."
   ]
  },
  {
   "cell_type": "code",
   "execution_count": null,
   "id": "ac183d93",
   "metadata": {},
   "outputs": [],
   "source": []
  },
  {
   "cell_type": "code",
   "execution_count": null,
   "id": "a533f0ab",
   "metadata": {},
   "outputs": [],
   "source": []
  },
  {
   "cell_type": "markdown",
   "id": "79d935ab",
   "metadata": {
    "lang": "de"
   },
   "source": [
    "# Filtern\n",
    "\n",
    "Gegeben sei die folgende Liste mit Zahlen:"
   ]
  },
  {
   "cell_type": "code",
   "execution_count": null,
   "id": "c3df21b8",
   "metadata": {
    "tags": [
     "keep"
    ]
   },
   "outputs": [],
   "source": [
    "numbers = [1, 183, 7, 4, 87, 10, 23, -12, 493, 11]"
   ]
  },
  {
   "cell_type": "markdown",
   "id": "058851ff",
   "metadata": {
    "lang": "de"
   },
   "source": [
    "Erzeugen Sie eine neue Liste, die alle Zahlen in `numbers` enthält, die größer als 10 sind."
   ]
  },
  {
   "cell_type": "code",
   "execution_count": null,
   "id": "fc8d98be",
   "metadata": {},
   "outputs": [],
   "source": []
  },
  {
   "cell_type": "markdown",
   "id": "42ca8928",
   "metadata": {
    "lang": "de"
   },
   "source": [
    "Schreiben Sie eine Funktion `zahlen_größer_als_10(zahlen)`, die eine neue\n",
    "Liste zurückgibt, die die Zahlen aus `zahlen` enthält, die größer als 10 sind."
   ]
  },
  {
   "cell_type": "code",
   "execution_count": null,
   "id": "c807f6ee",
   "metadata": {},
   "outputs": [],
   "source": []
  },
  {
   "cell_type": "code",
   "execution_count": null,
   "id": "d5fde35a",
   "metadata": {},
   "outputs": [],
   "source": []
  },
  {
   "cell_type": "markdown",
   "id": "6dbce6b3",
   "metadata": {
    "lang": "de"
   },
   "source": [
    "# Filtern mit Listen-Komprehension\n",
    "\n",
    "Erzeugen Sie eine neue Liste, die alle Zahlen in `numbers` enthält, die größer\n",
    "als 10 sind. Verwenden Sie dazu Listen-Komprehension."
   ]
  },
  {
   "cell_type": "code",
   "execution_count": null,
   "id": "91886ee5",
   "metadata": {},
   "outputs": [],
   "source": []
  },
  {
   "cell_type": "markdown",
   "id": "3b692951",
   "metadata": {
    "lang": "de"
   },
   "source": [
    "Schreiben Sie die Funktion `zahlen_größer_als_10(zahlen)` mit\n",
    "Listen-Komprehension."
   ]
  },
  {
   "cell_type": "code",
   "execution_count": null,
   "id": "6dd20558",
   "metadata": {},
   "outputs": [],
   "source": []
  },
  {
   "cell_type": "code",
   "execution_count": null,
   "id": "91c8b40a",
   "metadata": {},
   "outputs": [],
   "source": []
  },
  {
   "cell_type": "markdown",
   "id": "433102b3",
   "metadata": {
    "lang": "de"
   },
   "source": [
    "\n",
    "Schreiben Sie eine Funktion `quadrate_von_zahlen_kleiner_10( zahlen)`,\n",
    "die eine neue Liste zurückgibt, die die Quadrate aller Zahlen < 10 aus\n",
    "`zahlen` enthält."
   ]
  },
  {
   "cell_type": "code",
   "execution_count": null,
   "id": "14644884",
   "metadata": {},
   "outputs": [],
   "source": []
  },
  {
   "cell_type": "code",
   "execution_count": null,
   "id": "30c55c74",
   "metadata": {
    "tags": [
     "keep"
    ]
   },
   "outputs": [],
   "source": [
    "numbers"
   ]
  },
  {
   "cell_type": "code",
   "execution_count": null,
   "id": "0abafbbd",
   "metadata": {},
   "outputs": [],
   "source": []
  },
  {
   "cell_type": "markdown",
   "id": "9a1f04a5",
   "metadata": {
    "lang": "de"
   },
   "source": [
    "# Generatoren"
   ]
  },
  {
   "cell_type": "markdown",
   "id": "c74985c5",
   "metadata": {
    "lang": "de"
   },
   "source": [
    "## Generator für Quadratzahlen\n",
    "\n",
    "Schreiben Sie einen Generator, der die ersten 10 Quadratzahlen erzeugt."
   ]
  },
  {
   "cell_type": "code",
   "execution_count": null,
   "id": "4ca0fd41",
   "metadata": {},
   "outputs": [],
   "source": []
  },
  {
   "cell_type": "code",
   "execution_count": null,
   "id": "75c3a63d",
   "metadata": {},
   "outputs": [],
   "source": []
  },
  {
   "cell_type": "markdown",
   "id": "290afa00",
   "metadata": {
    "lang": "de"
   },
   "source": [
    "## Take\n",
    "\n",
    "Schreiben Sie eine Funktion `take(n: int, it)` die ein Iterable `it` als\n",
    "Argument bekommt und ein neues Iterable zurückgibt, das die ersten `n`\n",
    "Elemente von `it` liefert."
   ]
  },
  {
   "cell_type": "code",
   "execution_count": null,
   "id": "af1c0cfa",
   "metadata": {},
   "outputs": [],
   "source": []
  },
  {
   "cell_type": "code",
   "execution_count": null,
   "id": "26025969",
   "metadata": {},
   "outputs": [],
   "source": []
  },
  {
   "cell_type": "code",
   "execution_count": null,
   "id": "00abd2f3",
   "metadata": {},
   "outputs": [],
   "source": []
  }
 ],
 "metadata": {
  "kernelspec": {
   "display_name": "Python 3 (ipykernel)",
   "language": "python",
   "name": "python3"
  }
 },
 "nbformat": 4,
 "nbformat_minor": 5
}
