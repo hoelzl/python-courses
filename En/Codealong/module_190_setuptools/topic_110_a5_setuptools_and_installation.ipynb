{
 "cells": [
  {
   "cell_type": "markdown",
   "id": "690b5932aede593b",
   "metadata": {
    "lang": "en",
    "lines_to_next_cell": 2,
    "slideshow": {
     "slide_type": "slide"
    }
   },
   "source": [
    "<img src=\"../img/python-logo-no-text.png\"\n",
    "     style=\"display:block;margin:auto;width:10%\"/>\n",
    "<br>\n",
    "<div style=\"text-align:center; font-size:200%;\">\n",
    "  <b>Setuptools and installation</b>\n",
    "</div>\n",
    "<br/>\n",
    "<div style=\"text-align:center;\">Dr. Matthias Hölzl</div>\n",
    "<br/>\n",
    "<!-- <div style=\"text-align:center;\">module_190_setuptools/topic_110_a5_setuptools_and_installation</div> -->"
   ]
  },
  {
   "cell_type": "markdown",
   "id": "3427bcd3b95c4faa",
   "metadata": {
    "lang": "en",
    "slideshow": {
     "slide_type": "slide"
    }
   },
   "source": [
    "# Setuptools: Distribution of Python packages\n",
    "\n",
    " - Setuptools are the default tool to create installable Python packages.\n",
    " - The word \"Packages\" is overloaded in the Python world:\n",
    "     - Collection of Python files as described in the lesson about modules and packages.\n",
    "     - Distribution of an installable version of a library (\"wheel\"), which can then be imported."
   ]
  },
  {
   "cell_type": "markdown",
   "id": "c3266f93058f5608",
   "metadata": {
    "lang": "en",
    "slideshow": {
     "slide_type": "subslide"
    }
   },
   "source": [
    "### Example: Creating an application with a library\n",
    "\n",
    " - Add `setup.cfg` and `pyproject.toml` files with information about packages and scripts to be installed\n",
    " - Add some help files (`README.md`, `LICENSE`)\n",
    " - Build the distribution with `python -m build` (Requires the PyPA `build` [package](https://github.com/pypa/build))\n",
    " - Installation with `pip` and the generated wheel\n",
    " - Install during development: `pip install -e .`"
   ]
  },
  {
   "cell_type": "markdown",
   "id": "f7731dbb450f996f",
   "metadata": {
    "lang": "en",
    "slideshow": {
     "slide_type": "subslide"
    }
   },
   "source": [
    "## Workshop\n",
    "\n",
    "- `Workshop_136_todo_list_v3`\n",
    "- Section \"Packaging\""
   ]
  }
 ],
 "metadata": {
  "kernelspec": {
   "display_name": "Python 3 (ipykernel)",
   "language": "python",
   "name": "python3"
  }
 },
 "nbformat": 4,
 "nbformat_minor": 5
}
