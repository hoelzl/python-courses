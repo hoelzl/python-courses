{
 "cells": [
  {
   "cell_type": "markdown",
   "id": "b91dc178",
   "metadata": {
    "lang": "en",
    "lines_to_next_cell": 2,
    "slideshow": {
     "slide_type": "slide"
    }
   },
   "source": [
    "<img src=\"img/python-logo-notext.svg\"\n",
    "     style=\"display:block;margin:auto;width:10%\"/>\n",
    "<br>\n",
    "<div style=\"text-align:center; font-size:200%;\"><b>Modules and Packages</b></div>\n",
    "<br/>\n",
    "<div style=\"text-align:center;\">Dr. Matthias Hölzl</div>"
   ]
  },
  {
   "cell_type": "markdown",
   "id": "bfd80d93",
   "metadata": {
    "lang": "en",
    "slideshow": {
     "slide_type": "slide"
    }
   },
   "source": [
    "- The Python interpreter provides only a small part of the functionality needed for most\n",
    "  programs:\n",
    "  - No interaction with the operating system\n",
    "  - No network functionality\n",
    "  - No GUI\n",
    "  - ...\n",
    "- Additional functionality can be loaded using *modules* and *packages*."
   ]
  },
  {
   "cell_type": "code",
   "execution_count": null,
   "id": "bd6cf47b",
   "metadata": {
    "lines_to_next_cell": 2,
    "slideshow": {
     "slide_type": "subslide"
    }
   },
   "outputs": [],
   "source": []
  },
  {
   "cell_type": "code",
   "execution_count": null,
   "id": "d40c22b9",
   "metadata": {
    "lines_to_next_cell": 2
   },
   "outputs": [],
   "source": []
  },
  {
   "cell_type": "markdown",
   "id": "2820b83c",
   "metadata": {
    "lang": "en",
    "slideshow": {
     "slide_type": "subslide"
    }
   },
   "source": [
    "Python provides many standard modules that are installed with the interpreter:\n",
    "\n",
    " - abc: Abstract base classes\n",
    " - argparse: command line arguments\n",
    " - asyncio: Asynchronous programming\n",
    " - collections: container data types\n",
    " - ...\n",
    "\n",
    " [Here](https://docs.python.org/3/py-modindex.html) is a more complete list."
   ]
  },
  {
   "cell_type": "code",
   "execution_count": null,
   "id": "807cddce",
   "metadata": {
    "lines_to_next_cell": 2
   },
   "outputs": [],
   "source": []
  },
  {
   "cell_type": "code",
   "execution_count": null,
   "id": "93f84769",
   "metadata": {
    "lines_to_next_cell": 2
   },
   "outputs": [],
   "source": []
  },
  {
   "cell_type": "markdown",
   "id": "b32e5b3b",
   "metadata": {
    "lang": "en",
    "slideshow": {
     "slide_type": "subslide"
    }
   },
   "source": [
    "## User-defined modules\n",
    "\n",
    "A user-defined module is simply a file containing Python code.\n",
    "\n",
    "As we have already seen:\n",
    "- If a Python module is in the search path, it can be loaded with `import`.\n",
    "- Jupyter notebooks cannot be loaded (without additional packages) as modules."
   ]
  },
  {
   "cell_type": "code",
   "execution_count": null,
   "id": "a6292a26",
   "metadata": {
    "lines_to_next_cell": 2,
    "slideshow": {
     "slide_type": "subslide"
    }
   },
   "outputs": [],
   "source": []
  },
  {
   "cell_type": "code",
   "execution_count": null,
   "id": "33768907",
   "metadata": {
    "lines_to_next_cell": 2,
    "tags": [
     "keep"
    ]
   },
   "outputs": [],
   "source": [
    "# Anzeigen des Quellcodes von `my_test_module.py`\n",
    "# %pycat my_test_module.py"
   ]
  },
  {
   "cell_type": "code",
   "execution_count": null,
   "id": "8c6db66c",
   "metadata": {
    "lines_to_next_cell": 2
   },
   "outputs": [],
   "source": []
  },
  {
   "cell_type": "code",
   "execution_count": null,
   "id": "1d60e11e",
   "metadata": {
    "lines_to_next_cell": 2,
    "tags": [
     "keep"
    ]
   },
   "outputs": [],
   "source": [
    "# Top-level code wird ausgeführt"
   ]
  },
  {
   "cell_type": "code",
   "execution_count": null,
   "id": "09eb0f8f",
   "metadata": {
    "lines_to_next_cell": 2,
    "tags": [
     "keep"
    ]
   },
   "outputs": [],
   "source": [
    "# get_ipython().run_line_magic('load_ext', 'autoreload')\n",
    "# get_ipython().run_line_magic('autoreload', '2')"
   ]
  },
  {
   "cell_type": "code",
   "execution_count": null,
   "id": "e072eeb3",
   "metadata": {
    "lines_to_next_cell": 2
   },
   "outputs": [],
   "source": []
  },
  {
   "cell_type": "code",
   "execution_count": null,
   "id": "581f04ac",
   "metadata": {
    "lines_to_next_cell": 2
   },
   "outputs": [],
   "source": []
  },
  {
   "cell_type": "code",
   "execution_count": null,
   "id": "2d69ebac",
   "metadata": {
    "lines_to_next_cell": 2
   },
   "outputs": [],
   "source": []
  },
  {
   "cell_type": "code",
   "execution_count": null,
   "id": "9e36e35a",
   "metadata": {},
   "outputs": [],
   "source": []
  },
  {
   "cell_type": "code",
   "execution_count": null,
   "id": "fa22172b",
   "metadata": {
    "lines_to_next_cell": 2
   },
   "outputs": [],
   "source": []
  },
  {
   "cell_type": "code",
   "execution_count": null,
   "id": "f740df23",
   "metadata": {
    "lines_to_next_cell": 2
   },
   "outputs": [],
   "source": []
  },
  {
   "cell_type": "code",
   "execution_count": null,
   "id": "60e17ad5",
   "metadata": {
    "lines_to_next_cell": 2
   },
   "outputs": [],
   "source": []
  },
  {
   "cell_type": "code",
   "execution_count": null,
   "id": "b072f4dc",
   "metadata": {
    "lines_to_next_cell": 2
   },
   "outputs": [],
   "source": []
  },
  {
   "cell_type": "code",
   "execution_count": null,
   "id": "fdcac31d",
   "metadata": {
    "lines_to_next_cell": 2
   },
   "outputs": [],
   "source": []
  },
  {
   "cell_type": "code",
   "execution_count": null,
   "id": "f3b391a6",
   "metadata": {
    "lines_to_next_cell": 2
   },
   "outputs": [],
   "source": []
  },
  {
   "cell_type": "code",
   "execution_count": null,
   "id": "1e89099b",
   "metadata": {
    "lines_to_next_cell": 2
   },
   "outputs": [],
   "source": []
  },
  {
   "cell_type": "code",
   "execution_count": null,
   "id": "5b4f66bb",
   "metadata": {
    "lines_to_next_cell": 2
   },
   "outputs": [],
   "source": []
  },
  {
   "cell_type": "code",
   "execution_count": null,
   "id": "4f45157a",
   "metadata": {
    "lines_to_next_cell": 2
   },
   "outputs": [],
   "source": []
  },
  {
   "cell_type": "code",
   "execution_count": null,
   "id": "66c3aa06",
   "metadata": {
    "lines_to_next_cell": 2
   },
   "outputs": [],
   "source": []
  },
  {
   "cell_type": "code",
   "execution_count": null,
   "id": "7d76ce57",
   "metadata": {
    "lines_to_next_cell": 2
   },
   "outputs": [],
   "source": []
  },
  {
   "cell_type": "markdown",
   "id": "3a2eb3e7",
   "metadata": {
    "lang": "en",
    "slideshow": {
     "slide_type": "subslide"
    }
   },
   "source": [
    "## Example: `HttpServer`\n",
    "\n",
    "The Python interpreter does not have a built-in HTTP server. Using the\n",
    "standard library, it is not difficult to write one."
   ]
  },
  {
   "cell_type": "markdown",
   "id": "9b51340e",
   "metadata": {
    "lang": "en",
    "slideshow": {
     "slide_type": "subslide"
    }
   },
   "source": [
    "### Example: `ModuleTest`\n",
    "\n",
    "The `ModuleTest` example shows how a program can be composed of several modules."
   ]
  },
  {
   "cell_type": "code",
   "execution_count": null,
   "id": "3d290310",
   "metadata": {
    "lines_to_next_cell": 2,
    "tags": [
     "keep"
    ]
   },
   "outputs": [],
   "source": [
    "__name__"
   ]
  },
  {
   "cell_type": "markdown",
   "id": "b36c8b83",
   "metadata": {
    "lang": "en",
    "slideshow": {
     "slide_type": "slide"
    }
   },
   "source": [
    "## Packages\n",
    "\n",
    "- Packages are a method to structure modules in a hierarchy: `a.b.c`, `a.b.x`\n",
    "- A package is a combination of several modules\n",
    "- `b` is subpackage of `a`, `c` and `x` are submodules of `b`"
   ]
  },
  {
   "cell_type": "code",
   "execution_count": null,
   "id": "842c067d",
   "metadata": {
    "lines_to_next_cell": 2
   },
   "outputs": [],
   "source": []
  },
  {
   "cell_type": "code",
   "execution_count": null,
   "id": "29b9d89e",
   "metadata": {
    "lines_to_next_cell": 2
   },
   "outputs": [],
   "source": []
  },
  {
   "cell_type": "code",
   "execution_count": null,
   "id": "81e5d24d",
   "metadata": {
    "lines_to_next_cell": 2
   },
   "outputs": [],
   "source": []
  },
  {
   "cell_type": "markdown",
   "id": "9b41dc80",
   "metadata": {
    "lang": "en",
    "slideshow": {
     "slide_type": "subslide"
    }
   },
   "source": [
    "### Structure of packages\n",
    "\n",
    "- Hierarchy comprised of directories and Python files\n",
    "  - E.g. directory `html` with subdirectories `parser`, `entities`\n",
    "- Requires a `__init__.py` file in each directory containing code that should be imported\n",
    "  - This is not quite true...\n",
    "- The `__init__.py` file can be (and often is) empty"
   ]
  },
  {
   "cell_type": "markdown",
   "id": "b3ca6cb4",
   "metadata": {
    "lang": "en",
    "slideshow": {
     "slide_type": "subslide"
    }
   },
   "source": [
    "### Finding packages\n",
    "\n",
    " - Python looks for the package directory in `sys.path`.\n",
    " - This can be set using the environment variable `PYTHONPATH` or directly from\n",
    "   Python.\n",
    " - In most cases it is better not to undertake complicated operations on\n",
    "   `sys.path`."
   ]
  },
  {
   "cell_type": "markdown",
   "id": "917e41fc",
   "metadata": {
    "lang": "en",
    "slideshow": {
     "slide_type": "subslide"
    }
   },
   "source": [
    "### The `import` statement\n",
    "\n",
    " `import a.b.c`:\n",
    "\n",
    " - `a` and `b` must be packages (directories).\n",
    " - `c` can be a module or a package\n",
    "\n",
    " `from a.b.c import d`\n",
    " - `a` and `b` must be packages\n",
    " - `c` can be a module or a package\n",
    " - `d` can be a module, package, or name (i.e. variable, function, class, etc.)."
   ]
  },
  {
   "cell_type": "markdown",
   "id": "8ef6fba3",
   "metadata": {
    "lang": "en",
    "slideshow": {
     "slide_type": "subslide"
    }
   },
   "source": [
    "### References within a package\n",
    "\n",
    " - `from . import a` imports `a` from the current package\n",
    " - `from .. import a` imports `a` from the parent package\n",
    " - `from .foo import a` imports `a` from its \"sibling module\" `foo`"
   ]
  },
  {
   "cell_type": "markdown",
   "id": "ac163c22",
   "metadata": {
    "lang": "en",
    "slideshow": {
     "slide_type": "subslide"
    }
   },
   "source": [
    "## Example: `MessageQueue`\n",
    "\n",
    " The `MessageQueue` example shows how a program can consist of several packages."
   ]
  },
  {
   "cell_type": "markdown",
   "id": "fffe0ae2",
   "metadata": {
    "lang": "en",
    "slideshow": {
     "slide_type": "slide"
    }
   },
   "source": [
    "# Pytest: testing in Python\n",
    "\n",
    " - Python provides several built-in packages for writing unit tests and documentation tests (`unittest` and `doctest`).\n",
    " - Many projects use the `pytest` package anyway, as it avoids a lot of \"boilerplate\" when writing tests.\n",
    " - `pytest` can run `unittest` and `doctest` tests."
   ]
  },
  {
   "cell_type": "markdown",
   "id": "60d5967b",
   "metadata": {
    "lang": "en",
    "slideshow": {
     "slide_type": "subslide"
    }
   },
   "source": [
    "## Installing pytest\n",
    "\n",
    " Pytest is pre-installed in the Anaconda installation\n",
    "\n",
    " When using the standard Python distribution, it can be installed with\n",
    " ```shell\n",
    " pip install pytest\n",
    " ```"
   ]
  },
  {
   "cell_type": "markdown",
   "id": "a58c7321",
   "metadata": {
    "lang": "en",
    "slideshow": {
     "slide_type": "subslide"
    }
   },
   "source": [
    "## Writing tests\n",
    "\n",
    " - Pytest can be configured very flexibly\n",
    " - We only use the most basic features and rely on automatic configuration\n",
    " - Tests for a package are written in a sub-package `test`\n",
    " - Tests for the `foo.py` file are in the `test/foo_test.py` file\n",
    " - Each test is a function whose name starts with `test`\n",
    " - Assertions are written with the `assert` statement"
   ]
  },
  {
   "cell_type": "markdown",
   "id": "35de4223",
   "metadata": {
    "lang": "en",
    "slideshow": {
     "slide_type": "subslide"
    }
   },
   "source": [
    "## Example testing `MessageQueueDist`\n",
    "\n",
    " See `Examples/MessageQueueDist`"
   ]
  },
  {
   "cell_type": "markdown",
   "id": "7344fd0d",
   "metadata": {
    "lang": "en",
    "slideshow": {
     "slide_type": "subslide"
    }
   },
   "source": [
    "## Workshop\n",
    "\n",
    "- `Workshop_136_todo_list_v3`\n",
    "- Up to \"Load and Save\" section"
   ]
  },
  {
   "cell_type": "code",
   "execution_count": null,
   "id": "9e09cd29",
   "metadata": {
    "tags": [
     "keep"
    ]
   },
   "outputs": [],
   "source": []
  }
 ],
 "metadata": {
  "kernelspec": {
   "display_name": "Python 3 (ipykernel)",
   "language": "python",
   "name": "python3"
  }
 },
 "nbformat": 4,
 "nbformat_minor": 5
}
