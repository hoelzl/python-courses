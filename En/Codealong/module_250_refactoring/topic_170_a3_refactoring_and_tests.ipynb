{
 "cells": [
  {
   "cell_type": "markdown",
   "id": "cc610bd2d36def64",
   "metadata": {
    "lang": "en",
    "slideshow": {
     "slide_type": "slide"
    }
   },
   "source": [
    "<img src=\"../../img/python-logo-no-text.svg\"\n",
    "     style=\"display:block;margin:auto;width:10%\"/>\n",
    "<br>\n",
    "<div style=\"text-align:center; font-size:200%;\">\n",
    "  <b>Refactoring and Tests</b>\n",
    "</div>\n",
    "<br/>\n",
    "<div style=\"text-align:center;\">Dr. Matthias Hölzl</div>\n",
    "<br/>\n",
    "<div style=\"text-align:center;\">module_250_refactoring/topic_170_a3_refactoring_and_tests</div>"
   ]
  },
  {
   "cell_type": "markdown",
   "id": "cc3ddbd10c23351e",
   "metadata": {
    "lang": "en",
    "slideshow": {
     "slide_type": "slide"
    }
   },
   "source": [
    "\n",
    "# Refactoring and Tests"
   ]
  }
 ],
 "metadata": {},
 "nbformat": 4,
 "nbformat_minor": 5
}
