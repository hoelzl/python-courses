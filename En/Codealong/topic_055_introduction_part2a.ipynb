{
 "cells": [
  {
   "cell_type": "markdown",
   "id": "0203575e",
   "metadata": {
    "lang": "en",
    "lines_to_next_cell": 2,
    "slideshow": {
     "slide_type": "slide"
    }
   },
   "source": [
    "<img src=\"img/python-logo-notext.svg\"\n",
    "     style=\"display:block;margin:auto;width:10%\"/>\n",
    "<br>\n",
    "<div style=\"text-align:center; font-size:200%;\"><b>Introduction to Python: Part 2</b></div>\n",
    "<br/>\n",
    "<div style=\"text-align:center;\">Dr. Matthias Hölzl</div>"
   ]
  },
  {
   "cell_type": "markdown",
   "id": "ca4c4ced",
   "metadata": {
    "lang": "en"
   },
   "source": [
    "# `if` statements\n",
    "\n",
    "- We want to write a program that determines if a number is a lucky number or not:\n",
    "    - 7 is a lucky number\n",
    "    - all other numbers are not.\n",
    "- We need the `if` statement for this:"
   ]
  },
  {
   "cell_type": "code",
   "execution_count": null,
   "id": "deaaeba2",
   "metadata": {
    "lang": "en",
    "lines_to_next_cell": 1,
    "slideshow": {
     "slide_type": "subslide"
    }
   },
   "outputs": [],
   "source": []
  },
  {
   "cell_type": "code",
   "execution_count": null,
   "id": "cb77f23e",
   "metadata": {
    "lang": "en"
   },
   "outputs": [],
   "source": []
  },
  {
   "cell_type": "code",
   "execution_count": null,
   "id": "8c0bb1d6",
   "metadata": {
    "lang": "en"
   },
   "outputs": [],
   "source": []
  },
  {
   "cell_type": "code",
   "execution_count": null,
   "id": "8687d5e6",
   "metadata": {
    "lang": "en",
    "lines_to_next_cell": 1,
    "slideshow": {
     "slide_type": "subslide"
    },
    "tags": [
     "keep"
    ]
   },
   "outputs": [],
   "source": [
    "def is_lucky_number_1(number):\n",
    "    print(\"Is\", number, \"a lucky number?\")\n",
    "\n",
    "    if number == 7:\n",
    "        print(\"Yes!\")\n",
    "    else:\n",
    "        print(\"Unfortunately no.\")\n",
    "\n",
    "    print(\"We wish you all the best.\")"
   ]
  },
  {
   "cell_type": "code",
   "execution_count": null,
   "id": "229a4f7c",
   "metadata": {
    "lang": "en",
    "tags": [
     "keep"
    ]
   },
   "outputs": [],
   "source": [
    "is_lucky_number_1(1)"
   ]
  },
  {
   "cell_type": "code",
   "execution_count": null,
   "id": "0f22dceb",
   "metadata": {
    "lang": "en",
    "tags": [
     "keep"
    ]
   },
   "outputs": [],
   "source": [
    "is_lucky_number_1(7)"
   ]
  },
  {
   "cell_type": "code",
   "execution_count": null,
   "id": "9a861a33",
   "metadata": {
    "lang": "en",
    "slideshow": {
     "slide_type": "subslide"
    },
    "tags": [
     "keep"
    ]
   },
   "outputs": [],
   "source": [
    "def is_lucky_number_2(number):\n",
    "    if number == 7:\n",
    "        print(number, \"is a lucky number!\")\n",
    "        print(\"You must be having a great day!\")\n",
    "    else:\n",
    "        print(number, \"is unfortunately not a lucky number.\")\n",
    "        print(\"Maybe you should stay in bed today.\")\n",
    "        print(\"We wish you all the best anyway.\")"
   ]
  },
  {
   "cell_type": "code",
   "execution_count": null,
   "id": "ccfc2496",
   "metadata": {
    "lang": "en",
    "tags": [
     "keep"
    ]
   },
   "outputs": [],
   "source": [
    "is_lucky_number_2(1)"
   ]
  },
  {
   "cell_type": "code",
   "execution_count": null,
   "id": "95648393",
   "metadata": {
    "lang": "en",
    "tags": [
     "keep"
    ]
   },
   "outputs": [],
   "source": [
    "is_lucky_number_2(7)"
   ]
  },
  {
   "cell_type": "markdown",
   "id": "5f521e01",
   "metadata": {
    "lang": "en",
    "slideshow": {
     "slide_type": "subslide"
    }
   },
   "source": [
    "## Workshop\n",
    "\n",
    "- Notebook `workshop_060_introduction_part2`\n",
    "- Section \"Of legal age\"\n",
    "\n",
    "## Bonus Workshop\n",
    "- Section \"Shortened output\""
   ]
  },
  {
   "cell_type": "code",
   "execution_count": null,
   "id": "81ed806d",
   "metadata": {
    "lang": "en",
    "slideshow": {
     "slide_type": "subslide"
    },
    "tags": [
     "keep"
    ]
   },
   "outputs": [],
   "source": [
    "def one_sided_if(number):\n",
    "    print(\"Before\")\n",
    "\n",
    "    if number == 7:\n",
    "        print(number, \"is a lucky number\")\n",
    "        print(\"Congratulations!\")\n",
    "\n",
    "    print(\"After\")"
   ]
  },
  {
   "cell_type": "code",
   "execution_count": null,
   "id": "d83d501c",
   "metadata": {
    "lang": "en",
    "tags": [
     "keep"
    ]
   },
   "outputs": [],
   "source": [
    "one_sided_if(1)"
   ]
  },
  {
   "cell_type": "code",
   "execution_count": null,
   "id": "73849610",
   "metadata": {
    "lang": "en",
    "tags": [
     "keep"
    ]
   },
   "outputs": [],
   "source": [
    "one_sided_if(7)"
   ]
  },
  {
   "cell_type": "markdown",
   "id": "5323869a",
   "metadata": {
    "lang": "en",
    "slideshow": {
     "slide_type": "slide"
    }
   },
   "source": [
    "# Lists"
   ]
  },
  {
   "cell_type": "code",
   "execution_count": null,
   "id": "6f4715ab",
   "metadata": {
    "lang": "en",
    "tags": [
     "keep"
    ]
   },
   "outputs": [],
   "source": [
    "shopping_cart = [\"oatmeal\", \"coffee beans\", \"orange marmalade\"]"
   ]
  },
  {
   "cell_type": "markdown",
   "id": "0671f11c",
   "metadata": {
    "lang": "en"
   },
   "source": [
    "The type of lists is `list`."
   ]
  },
  {
   "cell_type": "code",
   "execution_count": null,
   "id": "53d826e0",
   "metadata": {
    "lang": "en"
   },
   "outputs": [],
   "source": []
  },
  {
   "cell_type": "markdown",
   "id": "b3daaca7",
   "metadata": {
    "lang": "en",
    "slideshow": {
     "slide_type": "slide"
    }
   },
   "source": [
    "## Creating lists\n",
    "\n",
    "- Lists are created by enclosing their elements in square brackets.\n",
    "- The elements of a list can be any Python values.\n",
    "- A list can contain elements of different types."
   ]
  },
  {
   "cell_type": "code",
   "execution_count": null,
   "id": "43780506",
   "metadata": {
    "slideshow": {
     "slide_type": "subslide"
    },
    "tags": [
     "keep"
    ]
   },
   "outputs": [],
   "source": [
    "list_1 = [1, 2, 3, 4, 5]\n",
    "list_2 = [\"string1\", \"another string\"]"
   ]
  },
  {
   "cell_type": "code",
   "execution_count": null,
   "id": "1af85a35",
   "metadata": {},
   "outputs": [],
   "source": []
  },
  {
   "cell_type": "code",
   "execution_count": null,
   "id": "4faf4519",
   "metadata": {},
   "outputs": [],
   "source": []
  },
  {
   "cell_type": "code",
   "execution_count": null,
   "id": "6126d60e",
   "metadata": {
    "slideshow": {
     "slide_type": "subslide"
    }
   },
   "outputs": [],
   "source": []
  },
  {
   "cell_type": "code",
   "execution_count": null,
   "id": "f0163251",
   "metadata": {},
   "outputs": [],
   "source": []
  },
  {
   "cell_type": "code",
   "execution_count": null,
   "id": "8557f70a",
   "metadata": {},
   "outputs": [],
   "source": []
  },
  {
   "cell_type": "markdown",
   "id": "ca9194d1",
   "metadata": {
    "lang": "en",
    "slideshow": {
     "slide_type": "subslide"
    }
   },
   "source": [
    "The elements of a list do not have to be literals, it can also contain values of variables or expressions:"
   ]
  },
  {
   "cell_type": "code",
   "execution_count": null,
   "id": "eed6fc7a",
   "metadata": {
    "lang": "en",
    "tags": [
     "keep"
    ]
   },
   "outputs": [],
   "source": [
    "product_1 = \"oatmeal\"\n",
    "product_2 = \"coffee beans\"\n",
    "product_3 = \"orange marmalade\"\n",
    "shoopping_cart = [product_1, product_2, product_3, \"strawberry jam\"]\n",
    "shopping_cart"
   ]
  },
  {
   "cell_type": "markdown",
   "id": "3efed318",
   "metadata": {
    "lang": "en",
    "slideshow": {
     "slide_type": "subslide"
    }
   },
   "source": [
    "Once a list has been created, it has no connection to the variables that were\n",
    "used in its construction:"
   ]
  },
  {
   "cell_type": "code",
   "execution_count": null,
   "id": "c3e9e067",
   "metadata": {
    "lang": "en"
   },
   "outputs": [],
   "source": []
  },
  {
   "cell_type": "markdown",
   "id": "edd4c247",
   "metadata": {
    "lang": "en",
    "slideshow": {
     "slide_type": "subslide"
    }
   },
   "source": [
    "The `list()` function can be used to convert some other data types into lists.\n",
    "\n",
    "At the moment we only know lists and strings as possible argument types:"
   ]
  },
  {
   "cell_type": "code",
   "execution_count": null,
   "id": "a605b5e2",
   "metadata": {},
   "outputs": [],
   "source": []
  },
  {
   "cell_type": "code",
   "execution_count": null,
   "id": "095d52da",
   "metadata": {},
   "outputs": [],
   "source": []
  },
  {
   "cell_type": "markdown",
   "id": "83e5fbbc",
   "metadata": {
    "lang": "en",
    "slideshow": {
     "slide_type": "slide"
    }
   },
   "source": [
    "## Accessing list items"
   ]
  },
  {
   "cell_type": "code",
   "execution_count": null,
   "id": "dfb3eaad",
   "metadata": {
    "tags": [
     "keep"
    ]
   },
   "outputs": [],
   "source": [
    "number_list = [0, 1, 2, 3]"
   ]
  },
  {
   "cell_type": "code",
   "execution_count": null,
   "id": "e7c691ae",
   "metadata": {},
   "outputs": [],
   "source": []
  },
  {
   "cell_type": "code",
   "execution_count": null,
   "id": "9a2f574b",
   "metadata": {},
   "outputs": [],
   "source": []
  },
  {
   "cell_type": "code",
   "execution_count": null,
   "id": "4eedd802",
   "metadata": {},
   "outputs": [],
   "source": []
  },
  {
   "cell_type": "markdown",
   "id": "c92509e1",
   "metadata": {
    "lang": "en",
    "slideshow": {
     "slide_type": "slide"
    }
   },
   "source": [
    "## Length of a list"
   ]
  },
  {
   "cell_type": "code",
   "execution_count": null,
   "id": "cf8d8cf6",
   "metadata": {
    "tags": [
     "keep"
    ]
   },
   "outputs": [],
   "source": [
    "number_list"
   ]
  },
  {
   "cell_type": "code",
   "execution_count": null,
   "id": "e3a5a6c1",
   "metadata": {},
   "outputs": [],
   "source": []
  },
  {
   "cell_type": "markdown",
   "id": "1eed45c9",
   "metadata": {
    "lang": "en",
    "slideshow": {
     "slide_type": "slide"
    }
   },
   "source": [
    "## Modification of list entries"
   ]
  },
  {
   "cell_type": "code",
   "execution_count": null,
   "id": "9cb78b0c",
   "metadata": {},
   "outputs": [],
   "source": []
  },
  {
   "cell_type": "markdown",
   "id": "b0deec6e",
   "metadata": {
    "lang": "en",
    "slideshow": {
     "slide_type": "slide"
    }
   },
   "source": [
    "## Inserting and deleting items\n",
    "\n",
    "If possible elements should be inserted at the end of a list"
   ]
  },
  {
   "cell_type": "code",
   "execution_count": null,
   "id": "fb17ce15",
   "metadata": {},
   "outputs": [],
   "source": []
  },
  {
   "cell_type": "code",
   "execution_count": null,
   "id": "eb2e87de",
   "metadata": {},
   "outputs": [],
   "source": []
  },
  {
   "cell_type": "code",
   "execution_count": null,
   "id": "d51383aa",
   "metadata": {},
   "outputs": [],
   "source": []
  },
  {
   "cell_type": "code",
   "execution_count": null,
   "id": "a9313cfb",
   "metadata": {},
   "outputs": [],
   "source": []
  },
  {
   "cell_type": "code",
   "execution_count": null,
   "id": "edcee2c9",
   "metadata": {},
   "outputs": [],
   "source": []
  },
  {
   "cell_type": "code",
   "execution_count": null,
   "id": "23c5e50e",
   "metadata": {},
   "outputs": [],
   "source": []
  },
  {
   "cell_type": "markdown",
   "id": "9e07a1ba",
   "metadata": {
    "lang": "en",
    "lines_to_next_cell": 2,
    "slideshow": {
     "slide_type": "subslide"
    }
   },
   "source": [
    "## Mini workshop\n",
    "\n",
    "- Notebook `workshop_100_lists_part2`\n",
    "- Section Colors"
   ]
  },
  {
   "cell_type": "markdown",
   "id": "e2432b36",
   "metadata": {
    "lang": "en",
    "slideshow": {
     "slide_type": "slide"
    }
   },
   "source": [
    "## Iteration over lists\n",
    "\n",
    "In Python, you can iterate over lists using the `for` loop.\n",
    "\n",
    "The `for` loop corresponds to the range-based for from C++,\n",
    "`for-in`/`for-of` from JavaScript or the `for-each` loop\n",
    "from Java, not the classic `for` loop\n",
    "from C, C++ or Java."
   ]
  },
  {
   "cell_type": "code",
   "execution_count": null,
   "id": "2546d0f9",
   "metadata": {
    "slideshow": {
     "slide_type": "subslide"
    },
    "tags": [
     "keep"
    ]
   },
   "outputs": [],
   "source": [
    "number_list = [0, 1, 2, 3, 4]\n",
    "number_list"
   ]
  },
  {
   "cell_type": "code",
   "execution_count": null,
   "id": "e1e4e648",
   "metadata": {},
   "outputs": [],
   "source": []
  },
  {
   "cell_type": "markdown",
   "id": "d1fb1ff0",
   "metadata": {
    "lang": "en",
    "slideshow": {
     "slide_type": "subslide"
    }
   },
   "source": [
    "## Syntax of `for` loops\n",
    "\n",
    "```pythons\n",
    "for <element-var> in <liste>:\n",
    "    <rumpf>\n",
    "```"
   ]
  },
  {
   "cell_type": "markdown",
   "id": "bf9d5c39",
   "metadata": {
    "lang": "en",
    "slideshow": {
     "slide_type": "subslide"
    }
   },
   "source": [
    "## Workshop\n",
    "\n",
    "- Notebook `workshop_060_introduction_part2`\n",
    "- Section \"Shopping list\""
   ]
  },
  {
   "cell_type": "code",
   "execution_count": null,
   "id": "f74d5c8b",
   "metadata": {
    "tags": [
     "keep"
    ]
   },
   "outputs": [],
   "source": []
  }
 ],
 "metadata": {
  "kernelspec": {
   "display_name": "Python 3 (ipykernel)",
   "language": "python",
   "name": "python3"
  }
 },
 "nbformat": 4,
 "nbformat_minor": 5
}
