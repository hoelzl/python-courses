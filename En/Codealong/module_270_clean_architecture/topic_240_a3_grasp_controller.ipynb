{
 "cells": [
  {
   "cell_type": "markdown",
   "id": "804c852d5f1699ba",
   "metadata": {
    "lang": "en",
    "lines_to_next_cell": 2,
    "slideshow": {
     "slide_type": "slide"
    }
   },
   "source": [
    "<img src=\"../../img/python-logo-no-text.svg\"\n",
    "     style=\"display:block;margin:auto;width:10%\"/>\n",
    "<br>\n",
    "<div style=\"text-align:center; font-size:200%;\">\n",
    "  <b>GRASP: Controller</b>\n",
    "</div>\n",
    "<br/>\n",
    "<div style=\"text-align:center;\">Dr. Matthias Hölzl</div>\n",
    "<br/>\n",
    "<div style=\"text-align:center;\">module_270_clean_architecture/topic_240_a3_grasp_controller</div>"
   ]
  },
  {
   "cell_type": "markdown",
   "id": "7e2bfa0add3d09e9",
   "metadata": {
    "lang": "en",
    "slideshow": {
     "slide_type": "slide"
    }
   },
   "source": [
    "\n",
    "# GRASP: Controller"
   ]
  }
 ],
 "metadata": {},
 "nbformat": 4,
 "nbformat_minor": 5
}
