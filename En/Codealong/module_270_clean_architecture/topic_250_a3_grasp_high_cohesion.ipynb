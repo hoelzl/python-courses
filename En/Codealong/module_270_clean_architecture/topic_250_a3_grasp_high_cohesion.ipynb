{
 "cells": [
  {
   "cell_type": "markdown",
   "id": "51e61bbedacb99fe",
   "metadata": {
    "lang": "en",
    "lines_to_next_cell": 2,
    "slideshow": {
     "slide_type": "slide"
    }
   },
   "source": [
    "<img src=\"../img/python-logo-no-text.png\"\n",
    "     style=\"display:block;margin:auto;width:10%\"/>\n",
    "<br>\n",
    "<div style=\"text-align:center; font-size:200%;\">\n",
    "  <b>GRASP: High Cohesion</b>\n",
    "</div>\n",
    "<br/>\n",
    "<div style=\"text-align:center;\">Dr. Matthias Hölzl</div>\n",
    "<br/>\n",
    "<!-- <div style=\"text-align:center;\">module_270_clean_architecture/topic_250_a3_grasp_high_cohesion</div> -->"
   ]
  },
  {
   "cell_type": "markdown",
   "id": "0128dcff3ee19568",
   "metadata": {
    "lang": "en",
    "slideshow": {
     "slide_type": "slide"
    }
   },
   "source": [
    "\n",
    "# GRASP: High Cohesion"
   ]
  }
 ],
 "metadata": {},
 "nbformat": 4,
 "nbformat_minor": 5
}
