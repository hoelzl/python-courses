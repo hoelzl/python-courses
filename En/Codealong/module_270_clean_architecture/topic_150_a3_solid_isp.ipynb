{
 "cells": [
  {
   "cell_type": "markdown",
   "id": "0c85e958f529a1d7",
   "metadata": {
    "lang": "en",
    "slideshow": {
     "slide_type": "slide"
    }
   },
   "source": [
    "<img src=\"../../img/python-logo-no-text.svg\"\n",
    "     style=\"display:block;margin:auto;width:10%\"/>\n",
    "<br>\n",
    "<div style=\"text-align:center; font-size:200%;\">\n",
    "  <b>SOLID: Instance Segregation Principle</b>\n",
    "</div>\n",
    "<br/>\n",
    "<div style=\"text-align:center;\">Dr. Matthias Hölzl</div>\n",
    "<br/>\n",
    "<div style=\"text-align:center;\">module_270_clean_architecture/topic_150_a3_solid_isp</div>"
   ]
  },
  {
   "cell_type": "markdown",
   "id": "0bb4ce25b5ffa561",
   "metadata": {
    "lang": "en",
    "slideshow": {
     "slide_type": "slide"
    }
   },
   "source": [
    "\n",
    "# SOLID: Instance Segregation Principle"
   ]
  }
 ],
 "metadata": {},
 "nbformat": 4,
 "nbformat_minor": 5
}
