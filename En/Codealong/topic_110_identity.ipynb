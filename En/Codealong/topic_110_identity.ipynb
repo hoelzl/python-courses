{
 "cells": [
  {
   "cell_type": "markdown",
   "id": "eedb62d7e2491453",
   "metadata": {
    "lang": "en",
    "slideshow": {
     "slide_type": "slide"
    }
   },
   "source": [
    "<img src=\"img/python-logo-no-text.svg\"\n",
    "     style=\"display:block;margin:auto;width:10%\"/>\n",
    "<br>\n",
    "<div style=\"text-align:center; font-size:200%;\"><b>Object Identity</b></div>\n",
    "<br/>\n",
    "<div style=\"text-align:center;\">Dr. Matthias Hölzl</div>"
   ]
  },
  {
   "cell_type": "markdown",
   "id": "6f2479f71e92811f",
   "metadata": {
    "lang": "en",
    "slideshow": {
     "slide_type": "slide"
    }
   },
   "source": [
    "## Objects identity"
   ]
  },
  {
   "cell_type": "code",
   "execution_count": null,
   "id": "24791f0443736500",
   "metadata": {
    "tags": [
     "keep"
    ]
   },
   "outputs": [],
   "source": [
    "a = [1, 2, 3]\n",
    "b = [1, 2, 3]\n",
    "c = b"
   ]
  },
  {
   "cell_type": "code",
   "execution_count": null,
   "id": "062e59e10fd77957",
   "metadata": {
    "tags": [
     "keep"
    ]
   },
   "outputs": [],
   "source": [
    "print(f\"a = {a}, b = {b}, c = {c}\")"
   ]
  },
  {
   "cell_type": "code",
   "execution_count": null,
   "id": "0086ce369a4a2e8a",
   "metadata": {
    "tags": [
     "keep"
    ]
   },
   "outputs": [],
   "source": [
    "a[0] = 10"
   ]
  },
  {
   "cell_type": "code",
   "execution_count": null,
   "id": "3cfafda1",
   "metadata": {
    "tags": [
     "keep"
    ]
   },
   "outputs": [],
   "source": [
    "print(f\"a = {a}, b = {b}, c = {c}\")"
   ]
  },
  {
   "cell_type": "code",
   "execution_count": null,
   "id": "0508d8a5a4175d0b",
   "metadata": {
    "tags": [
     "keep"
    ]
   },
   "outputs": [],
   "source": [
    "b[0] = 20"
   ]
  },
  {
   "cell_type": "code",
   "execution_count": null,
   "id": "4a89ab7688617285",
   "metadata": {
    "tags": [
     "keep"
    ]
   },
   "outputs": [],
   "source": [
    "c[1] = 30"
   ]
  },
  {
   "cell_type": "code",
   "execution_count": null,
   "id": "b5783a10",
   "metadata": {
    "tags": [
     "keep"
    ]
   },
   "outputs": [],
   "source": [
    "print(f\"a = {a}, b = {b}, c = {c}\")"
   ]
  },
  {
   "cell_type": "markdown",
   "id": "3a547db99c7074b7",
   "metadata": {
    "lang": "en",
    "slideshow": {
     "slide_type": "subslide"
    }
   },
   "source": [
    "\n",
    " <img src=\"img/identity.svg\" style=\"display:block;width:70%;margin:auto;\"/>"
   ]
  },
  {
   "cell_type": "markdown",
   "id": "73f2011db4edc1d1",
   "metadata": {
    "lang": "en",
    "slideshow": {
     "slide_type": "slide"
    }
   },
   "source": [
    "## Testing object identity"
   ]
  },
  {
   "cell_type": "code",
   "execution_count": null,
   "id": "08ce63aa715045f6",
   "metadata": {
    "tags": [
     "keep"
    ]
   },
   "outputs": [],
   "source": [
    "a = [1, 2, 3]\n",
    "b = a\n",
    "c = [1, 2, 3]\n",
    "d = c[:]"
   ]
  },
  {
   "cell_type": "markdown",
   "id": "0750e0c9fd1643c7",
   "metadata": {
    "lang": "en"
   },
   "source": [
    "`==` tests equality of values, not (necessarily) object identity."
   ]
  },
  {
   "cell_type": "code",
   "execution_count": null,
   "id": "a34d4a00d5d8b9b3",
   "metadata": {
    "tags": [
     "keep"
    ]
   },
   "outputs": [],
   "source": [
    "a == b"
   ]
  },
  {
   "cell_type": "code",
   "execution_count": null,
   "id": "4c294131614191cc",
   "metadata": {
    "tags": [
     "keep"
    ]
   },
   "outputs": [],
   "source": [
    "b == c"
   ]
  },
  {
   "cell_type": "code",
   "execution_count": null,
   "id": "3b1fdb93f21a7e71",
   "metadata": {
    "tags": [
     "keep"
    ]
   },
   "outputs": [],
   "source": [
    "c == d"
   ]
  },
  {
   "cell_type": "markdown",
   "id": "e0bb8b1e39bd41d1",
   "metadata": {
    "lang": "en",
    "slideshow": {
     "slide_type": "subslide"
    }
   },
   "source": [
    "You can use `is` to test object identity:"
   ]
  },
  {
   "cell_type": "code",
   "execution_count": null,
   "id": "3ba7ff1a0a3b0870",
   "metadata": {
    "tags": [
     "keep"
    ]
   },
   "outputs": [],
   "source": [
    "a = [1, 2, 3]\n",
    "b = a\n",
    "c = [1, 2, 3]\n",
    "d = c[:]\n",
    "e = c.copy()"
   ]
  },
  {
   "cell_type": "code",
   "execution_count": null,
   "id": "5beeb09abbffd5a2",
   "metadata": {
    "tags": [
     "keep"
    ]
   },
   "outputs": [],
   "source": [
    "a is b"
   ]
  },
  {
   "cell_type": "code",
   "execution_count": null,
   "id": "d45de7d1a1f907ad",
   "metadata": {
    "tags": [
     "keep"
    ]
   },
   "outputs": [],
   "source": [
    "b is c"
   ]
  },
  {
   "cell_type": "code",
   "execution_count": null,
   "id": "22151b37099ca054",
   "metadata": {
    "tags": [
     "keep"
    ]
   },
   "outputs": [],
   "source": [
    "c is d"
   ]
  },
  {
   "cell_type": "code",
   "execution_count": null,
   "id": "f7f5f489f1afab70",
   "metadata": {
    "tags": [
     "keep"
    ]
   },
   "outputs": [],
   "source": [
    "c is e"
   ]
  },
  {
   "cell_type": "code",
   "execution_count": null,
   "id": "6c26dfe9c7f89044",
   "metadata": {
    "tags": [
     "keep"
    ]
   },
   "outputs": [],
   "source": [
    "c[0] = 2"
   ]
  },
  {
   "cell_type": "code",
   "execution_count": null,
   "id": "32dd448a30166e86",
   "metadata": {
    "tags": [
     "keep"
    ]
   },
   "outputs": [],
   "source": [
    "d"
   ]
  },
  {
   "cell_type": "code",
   "execution_count": null,
   "id": "32b3d56e25cd31bd",
   "metadata": {
    "tags": [
     "keep"
    ]
   },
   "outputs": [],
   "source": [
    "e"
   ]
  },
  {
   "cell_type": "markdown",
   "id": "012eabe6e897d76d",
   "metadata": {
    "lang": "en",
    "slideshow": {
     "slide_type": "subslide"
    }
   },
   "source": [
    "The `id()` function returns the address of an object:"
   ]
  },
  {
   "cell_type": "code",
   "execution_count": null,
   "id": "f6d6e3ed63177054",
   "metadata": {
    "tags": [
     "keep"
    ]
   },
   "outputs": [],
   "source": [
    "id([1, 2, 3])"
   ]
  },
  {
   "cell_type": "markdown",
   "id": "7d1380769f82a36f",
   "metadata": {
    "lang": "en"
   },
   "source": [
    "Addresses are usually represented in hexadecimal form:"
   ]
  },
  {
   "cell_type": "code",
   "execution_count": null,
   "id": "1e5c55c26b909a32",
   "metadata": {
    "tags": [
     "keep"
    ]
   },
   "outputs": [],
   "source": [
    "hex(id([1, 2, 3]))"
   ]
  },
  {
   "cell_type": "markdown",
   "id": "de33d71396129e8f",
   "metadata": {
    "lang": "en",
    "slideshow": {
     "slide_type": "subslide"
    }
   },
   "source": [
    "*Only as an aside:* Does `x is y` always apply to numbers with `x == y`?"
   ]
  },
  {
   "cell_type": "code",
   "execution_count": null,
   "id": "950cf64450426f60",
   "metadata": {
    "tags": [
     "keep"
    ]
   },
   "outputs": [],
   "source": [
    "x = 1\n",
    "y = 1\n",
    "z = 1.0\n",
    "print(x == y)\n",
    "print(x is y)\n",
    "print(x == z)\n",
    "print(x is z)"
   ]
  },
  {
   "cell_type": "code",
   "execution_count": null,
   "id": "ec031705c62a53ff",
   "metadata": {
    "tags": [
     "keep"
    ]
   },
   "outputs": [],
   "source": [
    "x = 2560\n",
    "y = 2560\n",
    "print(x == y)\n",
    "print(x is y)"
   ]
  },
  {
   "cell_type": "code",
   "execution_count": null,
   "id": "d7670b1ee3d348b7",
   "metadata": {
    "tags": [
     "keep"
    ]
   },
   "outputs": [],
   "source": [
    "import ctypes\n",
    "\n",
    "x_refcount = ctypes.c_long.from_address(id(x)).value\n",
    "x_int_value = ctypes.c_long.from_address(id(x) + 24).value"
   ]
  },
  {
   "cell_type": "code",
   "execution_count": null,
   "id": "dc554cb1089636c1",
   "metadata": {
    "tags": [
     "keep"
    ]
   },
   "outputs": [],
   "source": [
    "print(hex(id(x)))\n",
    "print(x_refcount)\n",
    "print(x_int_value)"
   ]
  },
  {
   "cell_type": "code",
   "execution_count": null,
   "id": "ef73e162",
   "metadata": {
    "tags": [
     "keep"
    ]
   },
   "outputs": [],
   "source": [
    "print(hex(id(x)))\n",
    "print(x_refcount)\n",
    "print(x_int_value)"
   ]
  },
  {
   "cell_type": "markdown",
   "id": "c038dc30819d520a",
   "metadata": {
    "lang": "en",
    "slideshow": {
     "slide_type": "slide"
    }
   },
   "source": [
    "## Be careful with mutable default arguments!"
   ]
  },
  {
   "cell_type": "code",
   "execution_count": null,
   "id": "6b5fd598f2b1d09b",
   "metadata": {
    "tags": [
     "keep"
    ]
   },
   "outputs": [],
   "source": [
    "def f(lst=[]):\n",
    "    lst.append(1)\n",
    "    return lst"
   ]
  },
  {
   "cell_type": "code",
   "execution_count": null,
   "id": "920aea9d1bc428f0",
   "metadata": {
    "tags": [
     "keep"
    ]
   },
   "outputs": [],
   "source": [
    "f([1, 2, 3])"
   ]
  },
  {
   "cell_type": "code",
   "execution_count": null,
   "id": "8d4b8a88643abcf2",
   "metadata": {
    "tags": [
     "keep"
    ]
   },
   "outputs": [],
   "source": [
    "f()"
   ]
  },
  {
   "cell_type": "code",
   "execution_count": null,
   "id": "50c1659051153899",
   "metadata": {
    "tags": [
     "keep"
    ]
   },
   "outputs": [],
   "source": [
    "f()"
   ]
  },
  {
   "cell_type": "code",
   "execution_count": null,
   "id": "fa186de581860a1a",
   "metadata": {
    "tags": [
     "keep"
    ]
   },
   "outputs": [],
   "source": [
    "f()"
   ]
  },
  {
   "cell_type": "code",
   "execution_count": null,
   "id": "0147706cefd8088e",
   "metadata": {
    "slideshow": {
     "slide_type": "subslide"
    },
    "tags": [
     "keep"
    ]
   },
   "outputs": [],
   "source": [
    "def f(lst=None):\n",
    "    if lst is None:\n",
    "        lst = []\n",
    "    lst.append(1)\n",
    "    return lst"
   ]
  },
  {
   "cell_type": "code",
   "execution_count": null,
   "id": "2abb231ccb6a303d",
   "metadata": {
    "tags": [
     "keep"
    ]
   },
   "outputs": [],
   "source": [
    "f()"
   ]
  },
  {
   "cell_type": "code",
   "execution_count": null,
   "id": "ea177ac5510a6e05",
   "metadata": {
    "tags": [
     "keep"
    ]
   },
   "outputs": [],
   "source": [
    "f()"
   ]
  },
  {
   "cell_type": "code",
   "execution_count": null,
   "id": "41d816118d4712f0",
   "metadata": {
    "tags": [
     "keep"
    ]
   },
   "outputs": [],
   "source": [
    "f()"
   ]
  },
  {
   "cell_type": "code",
   "execution_count": null,
   "id": "c2d8cf6382bff0dd",
   "metadata": {
    "tags": [
     "keep"
    ]
   },
   "outputs": [],
   "source": [
    "def f(lst=[]):\n",
    "    return lst"
   ]
  },
  {
   "cell_type": "code",
   "execution_count": null,
   "id": "962152fea06916f6",
   "metadata": {
    "tags": [
     "keep"
    ]
   },
   "outputs": [],
   "source": [
    "x = f()"
   ]
  },
  {
   "cell_type": "code",
   "execution_count": null,
   "id": "54b5a46482f8e92b",
   "metadata": {
    "tags": [
     "keep"
    ]
   },
   "outputs": [],
   "source": [
    "x.append(2)"
   ]
  },
  {
   "cell_type": "code",
   "execution_count": null,
   "id": "3ff5760508a5f708",
   "metadata": {
    "tags": [
     "keep"
    ]
   },
   "outputs": [],
   "source": [
    "f()"
   ]
  },
  {
   "cell_type": "code",
   "execution_count": null,
   "id": "3a2a8aaec0e5df32",
   "metadata": {
    "tags": [
     "keep"
    ]
   },
   "outputs": [],
   "source": [
    "a = [1, 2, 3]\n",
    "b = a[1:2]\n",
    "b[0] = \"a\"\n",
    "print(a, b)"
   ]
  },
  {
   "cell_type": "code",
   "execution_count": null,
   "id": "68f4a5452062785b",
   "metadata": {
    "tags": [
     "keep"
    ]
   },
   "outputs": [],
   "source": [
    "import numpy as np\n",
    "\n",
    "a = np.array([1, 2, 3])\n",
    "b = a[1:2]\n",
    "b[0] = 4\n",
    "print(a, b)"
   ]
  },
  {
   "cell_type": "code",
   "execution_count": null,
   "id": "2c6188124c701c73",
   "metadata": {
    "tags": [
     "keep"
    ]
   },
   "outputs": [],
   "source": []
  }
 ],
 "metadata": {
  "kernelspec": {
   "display_name": "Python 3 (ipykernel)",
   "language": "python",
   "name": "python3"
  }
 },
 "nbformat": 4,
 "nbformat_minor": 5
}
