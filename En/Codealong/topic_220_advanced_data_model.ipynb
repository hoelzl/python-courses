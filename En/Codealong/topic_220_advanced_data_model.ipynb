{
 "cells": [
  {
   "cell_type": "markdown",
   "id": "3acd4c08",
   "metadata": {
    "lang": "en",
    "slideshow": {
     "slide_type": "slide"
    }
   },
   "source": [
    "<img src=\"img/python-logo-notext.svg\"\n",
    "     style=\"display:block;margin:auto;width:10%\"/>\n",
    "<br>\n",
    "<div style=\"text-align:center; font-size:200%;\"><b>Advanced data model</b></div>\n",
    "<br/>\n",
    "<div style=\"text-align:center;\">Dr. Matthias Hölzl</div>"
   ]
  },
  {
   "cell_type": "markdown",
   "id": "99c78650",
   "metadata": {
    "lang": "en"
   },
   "source": [
    "## Workshop\n",
    "\n",
    " - Notebook `064x-Workshop Todo-List V2`\n",
    " - Section \"Basic functionality\"\n",
    " - Implement the `__iter__()` method."
   ]
  }
 ],
 "metadata": {
  "kernelspec": {
   "display_name": "Python 3 (ipykernel)",
   "language": "python",
   "name": "python3"
  }
 },
 "nbformat": 4,
 "nbformat_minor": 5
}
