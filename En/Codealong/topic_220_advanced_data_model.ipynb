{
 "cells": [
  {
   "cell_type": "markdown",
   "id": "a1d41d0a",
   "metadata": {
    "lang": "en",
    "slideshow": {
     "slide_type": "slide"
    }
   },
   "source": [
    "<img src=\"img/python-logo-notext.svg\"\n",
    "     style=\"display:block;margin:auto;width:10%\"/>\n",
    "<br>\n",
    "<div style=\"text-align:center; font-size:200%;\"><b>Advanced data model</b></div>\n",
    "<br/>\n",
    "<div style=\"text-align:center;\">Dr. Matthias Hölzl</div>"
   ]
  },
  {
   "cell_type": "markdown",
   "id": "a2dac2a4",
   "metadata": {
    "lang": "en"
   },
   "source": [
    "## Workshop\n",
    "\n",
    " - Notebook `064x-Workshop Todo-List V2`\n",
    " - Section \"Basic functionality\"\n",
    " - Implement the `__iter__()` method."
   ]
  }
 ],
 "metadata": {
  "kernelspec": {
   "display_name": "Python 3 (ipykernel)",
   "language": "python",
   "name": "python3"
  }
 },
 "nbformat": 4,
 "nbformat_minor": 5
}
