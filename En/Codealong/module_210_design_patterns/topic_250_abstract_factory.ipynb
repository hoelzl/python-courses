{
 "cells": [
  {
   "cell_type": "markdown",
   "id": "46ac8df3bf7bb68a",
   "metadata": {
    "lang": "en",
    "lines_to_next_cell": 2,
    "slideshow": {
     "slide_type": "slide"
    }
   },
   "source": [
    "<img src=\"../../img/python-logo-no-text.svg\"\n",
    "     style=\"display:block;margin:auto;width:10%\"/>\n",
    "<br>\n",
    "<div style=\"text-align:center; font-size:200%;\">\n",
    "  <b>Abstract Factory</b>\n",
    "</div>\n",
    "<br/>\n",
    "<div style=\"text-align:center;\">Dr. Matthias Hölzl</div>\n",
    "<br/>\n",
    "<div style=\"text-align:center;\">module_210_design_patterns/topic_250_abstract_factory</div>"
   ]
  },
  {
   "cell_type": "markdown",
   "id": "ded6af18845ecfbd",
   "metadata": {
    "lang": "en",
    "lines_to_next_cell": 0,
    "slideshow": {
     "slide_type": "slide"
    }
   },
   "source": [
    "\n",
    "# Abstract Factory\n",
    "\n"
   ]
  }
 ],
 "metadata": {},
 "nbformat": 4,
 "nbformat_minor": 5
}
