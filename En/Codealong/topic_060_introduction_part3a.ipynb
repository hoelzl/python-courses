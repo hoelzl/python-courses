{
 "cells": [
  {
   "cell_type": "markdown",
   "id": "2cbe9be8dd366e9c",
   "metadata": {
    "lang": "en",
    "lines_to_next_cell": 2,
    "slideshow": {
     "slide_type": "slide"
    }
   },
   "source": [
    "<img src=\"img/python-logo-no-text.svg\"\n",
    "     style=\"display:block;margin:auto;width:10%\"/>\n",
    "<br>\n",
    "<div style=\"text-align:center; font-size:200%;\"><b>Introduction to Python: Part 3</b></div>\n",
    "<br/>\n",
    "<div style=\"text-align:center;\">Dr. Matthias Hölzl</div>"
   ]
  },
  {
   "cell_type": "markdown",
   "id": "6fa755843a1f77de",
   "metadata": {
    "lang": "en",
    "slideshow": {
     "slide_type": "slide"
    }
   },
   "source": [
    "# Conversion to strings\n",
    "\n",
    "Python offers two functions that can be used to convert any value into a string:\n",
    "\n",
    "- `repr` for a \"program-like\" representation (how the value could be generated in the program)\n",
    "- `str` for \"user-friendly\" rendering"
   ]
  },
  {
   "cell_type": "code",
   "execution_count": null,
   "id": "09233c24ec2920ee",
   "metadata": {},
   "outputs": [],
   "source": []
  },
  {
   "cell_type": "code",
   "execution_count": null,
   "id": "f71cbc7e898ec9f6",
   "metadata": {},
   "outputs": [],
   "source": []
  },
  {
   "cell_type": "markdown",
   "id": "6960484f4df80fed",
   "metadata": {
    "lang": "en",
    "slideshow": {
     "slide_type": "subslide"
    }
   },
   "source": [
    "For some data types, `str` and `repr` return the same string:"
   ]
  },
  {
   "cell_type": "code",
   "execution_count": null,
   "id": "5e96b10cb1fc213d",
   "metadata": {},
   "outputs": [],
   "source": []
  },
  {
   "cell_type": "markdown",
   "id": "106beae33d5a456b",
   "metadata": {
    "lang": "en",
    "slideshow": {
     "slide_type": "slide"
    }
   },
   "source": [
    "# Custom data types\n",
    "\n",
    "In Python, user-defined data types (classes) can be defined:"
   ]
  },
  {
   "cell_type": "code",
   "execution_count": null,
   "id": "59088b74f5fb95c4",
   "metadata": {},
   "outputs": [],
   "source": []
  },
  {
   "cell_type": "markdown",
   "id": "cc3977a565a9cdcd",
   "metadata": {
    "lang": "en"
   },
   "source": [
    "Class names are in pascal case (i.e. capital letters seperate components of names), e.g. `MyVerySpecialClass`."
   ]
  },
  {
   "cell_type": "markdown",
   "id": "dc7222a6ce751620",
   "metadata": {
    "lang": "en",
    "slideshow": {
     "slide_type": "subslide"
    }
   },
   "source": [
    "Instances of custom classes are created by calling the class name as a function. Some of the build-in operators and\n",
    "Functions can be used without extra effort:"
   ]
  },
  {
   "cell_type": "code",
   "execution_count": null,
   "id": "78ef8088e1f6a820",
   "metadata": {
    "slideshow": {
     "slide_type": "subslide"
    }
   },
   "outputs": [],
   "source": []
  },
  {
   "cell_type": "code",
   "execution_count": null,
   "id": "210051480d7655da",
   "metadata": {},
   "outputs": [],
   "source": []
  },
  {
   "cell_type": "code",
   "execution_count": null,
   "id": "1a18a62729243841",
   "metadata": {},
   "outputs": [],
   "source": []
  },
  {
   "cell_type": "code",
   "execution_count": null,
   "id": "f6b8964b582be8a6",
   "metadata": {},
   "outputs": [],
   "source": []
  },
  {
   "cell_type": "markdown",
   "id": "932853c686f434b5",
   "metadata": {
    "lang": "en"
   },
   "source": [
    "Much like dictionaries can be assigned new entries, one can\n",
    "assign new *attributes* to user-defined data types, but the `.` notation is used instead of the indexing notation `[]`:"
   ]
  },
  {
   "cell_type": "code",
   "execution_count": null,
   "id": "943b32a79b315197",
   "metadata": {},
   "outputs": [],
   "source": []
  },
  {
   "cell_type": "code",
   "execution_count": null,
   "id": "60f47018b277b70d",
   "metadata": {},
   "outputs": [],
   "source": []
  },
  {
   "cell_type": "markdown",
   "id": "0d8eaf355799afdc",
   "metadata": {
    "lang": "en",
    "slideshow": {
     "slide_type": "subslide"
    }
   },
   "source": [
    "Unlike dictionaries, we typically *do not* create any *new* attributes for an instance after creation!\n",
    "\n",
    "Instead, all instances should have the same shape. We initialize all attributes of an object when it is constructed. This can be done with the `__init__()` method.\n",
    "\n",
    "The `__init__()` method always has (at least) one parameter, named `self` by convention:"
   ]
  },
  {
   "cell_type": "code",
   "execution_count": null,
   "id": "1f4613f468902265",
   "metadata": {
    "slideshow": {
     "slide_type": "subslide"
    }
   },
   "outputs": [],
   "source": []
  },
  {
   "cell_type": "code",
   "execution_count": null,
   "id": "b80a35d60891124a",
   "metadata": {},
   "outputs": [],
   "source": []
  },
  {
   "cell_type": "code",
   "execution_count": null,
   "id": "d2c866aa1191c75e",
   "metadata": {},
   "outputs": [],
   "source": []
  },
  {
   "cell_type": "code",
   "execution_count": null,
   "id": "76bce8f7097120c6",
   "metadata": {},
   "outputs": [],
   "source": []
  },
  {
   "cell_type": "markdown",
   "id": "0299d9475f5b768d",
   "metadata": {
    "lang": "en",
    "slideshow": {
     "slide_type": "subslide"
    }
   },
   "source": [
    "The values ​​of attributes can be changed:"
   ]
  },
  {
   "cell_type": "code",
   "execution_count": null,
   "id": "e4a22d5972ac91e7",
   "metadata": {},
   "outputs": [],
   "source": []
  },
  {
   "cell_type": "markdown",
   "id": "d50cc037269ba4eb",
   "metadata": {
    "lang": "en",
    "slideshow": {
     "slide_type": "subslide"
    }
   },
   "source": [
    "In many cases, when constructing an object, we would like to specify the attributes of the instance.\n",
    "This is made possible by passing additional arguments to the `__init__()` method."
   ]
  },
  {
   "cell_type": "code",
   "execution_count": null,
   "id": "f97b81f8095f8d72",
   "metadata": {
    "slideshow": {
     "slide_type": "subslide"
    }
   },
   "outputs": [],
   "source": []
  },
  {
   "cell_type": "code",
   "execution_count": null,
   "id": "5f275c2adeab3df3",
   "metadata": {
    "lines_to_next_cell": 2
   },
   "outputs": [],
   "source": []
  },
  {
   "cell_type": "markdown",
   "id": "c97159b2794b2a46",
   "metadata": {
    "lang": "en",
    "slideshow": {
     "slide_type": "subslide"
    }
   },
   "source": [
    "## Mini workshop\n",
    "\n",
    "- Notebook `workshop_062_objects`\n",
    "- Section \"Motor Vehicles (Part 1)\""
   ]
  },
  {
   "cell_type": "markdown",
   "id": "2a36943e937bdea7",
   "metadata": {
    "lang": "en",
    "slideshow": {
     "slide_type": "subslide"
    }
   },
   "source": [
    "## Methods\n",
    "\n",
    "Classes can contain methods. Methods are functions that \"belong to an object\".\n",
    "We will see capabilities of methods that go beyond those of functions in the\n",
    "section on inheritance.\n",
    "\n",
    "Methods are called using \"dot-notation\": `my_object.method()`.\n",
    "\n",
    "Syntactically a method definion looks like a function definition, but nested\n",
    "inside the body of a class definition.\n",
    "\n",
    "Unlike many other languages, Python doesn't have an implicit `this` parameter\n",
    "when defining a method; the object on which the method is called must be\n",
    "specified as the first parameter of the definition. By convention, this\n",
    "parameter is named `self`, as in the `__init__()` method.\n",
    "\n",
    "The definition of a method that can be called with `my_object.method()` is thus\n",
    "as follows:"
   ]
  },
  {
   "cell_type": "code",
   "execution_count": null,
   "id": "85853116bf7491e9",
   "metadata": {
    "slideshow": {
     "slide_type": "subslide"
    },
    "tags": [
     "keep"
    ]
   },
   "outputs": [],
   "source": [
    "class MyClass:\n",
    "    def method(self):\n",
    "        print(F\"Called method on {self}\")"
   ]
  },
  {
   "cell_type": "code",
   "execution_count": null,
   "id": "1b7cfb1afba82036",
   "metadata": {
    "tags": [
     "keep"
    ]
   },
   "outputs": [],
   "source": [
    "my_object = MyClass()\n",
    "my_object.method()"
   ]
  },
  {
   "cell_type": "markdown",
   "id": "0fe2a70416e388fd",
   "metadata": {
    "lang": "en",
    "slideshow": {
     "slide_type": "subslide"
    }
   },
   "source": [
    "We can add a method to move a point to our `Point` class:"
   ]
  },
  {
   "cell_type": "code",
   "execution_count": null,
   "id": "e90d95988ca7db8f",
   "metadata": {},
   "outputs": [],
   "source": []
  },
  {
   "cell_type": "code",
   "execution_count": null,
   "id": "fac36a89b4fcf7d0",
   "metadata": {
    "slideshow": {
     "slide_type": "subslide"
    }
   },
   "outputs": [],
   "source": []
  },
  {
   "cell_type": "code",
   "execution_count": null,
   "id": "55c52396df9dba4a",
   "metadata": {},
   "outputs": [],
   "source": []
  },
  {
   "cell_type": "markdown",
   "id": "ac4ca240e3a0b008",
   "metadata": {
    "lang": "en",
    "slideshow": {
     "slide_type": "subslide"
    }
   },
   "source": [
    "## Mini workshop\n",
    "\n",
    "- Notebook `workshop_062_objects`\n",
    "- Section \"Motor Vehicles (Part 2)\""
   ]
  },
  {
   "cell_type": "markdown",
   "id": "a6462cf7fa35ac91",
   "metadata": {
    "lang": "en",
    "slideshow": {
     "slide_type": "slide"
    }
   },
   "source": [
    "## The Python object model\n",
    "\n",
    "Dunder methods can be used to make user-defined data types act more like the built-in ones:"
   ]
  },
  {
   "cell_type": "code",
   "execution_count": null,
   "id": "57ccd28fd95313d9",
   "metadata": {},
   "outputs": [],
   "source": []
  },
  {
   "cell_type": "markdown",
   "id": "8464703b88ebc3dd",
   "metadata": {
    "lang": "en"
   },
   "source": [
    "By defining the method `__repr__(self)`, the string returned by `repr` can be defined for custom classes: The\n",
    "call `repr(x)` checks if `x` has a method `__repr__` and calls it if it exists."
   ]
  },
  {
   "cell_type": "code",
   "execution_count": null,
   "id": "2ab011c6efde9372",
   "metadata": {
    "slideshow": {
     "slide_type": "subslide"
    }
   },
   "outputs": [],
   "source": []
  },
  {
   "cell_type": "code",
   "execution_count": null,
   "id": "65a9ec8c78734e08",
   "metadata": {
    "slideshow": {
     "slide_type": "subslide"
    }
   },
   "outputs": [],
   "source": []
  },
  {
   "cell_type": "markdown",
   "id": "1d4a49b8a3119315",
   "metadata": {
    "lang": "en",
    "slideshow": {
     "slide_type": "subslide"
    }
   },
   "source": [
    "\n",
    "Similarly, if a `__str__()` method is defined it will be used by the `str()`\n",
    "function. However, the function `str()` delegates to `__repr__()` if no\n",
    "`__str__` method is defined:"
   ]
  },
  {
   "cell_type": "code",
   "execution_count": null,
   "id": "c5de62603532191f",
   "metadata": {},
   "outputs": [],
   "source": []
  },
  {
   "cell_type": "code",
   "execution_count": null,
   "id": "b4f19557",
   "metadata": {},
   "outputs": [],
   "source": []
  },
  {
   "cell_type": "markdown",
   "id": "32e9cdfe42fe5cbf",
   "metadata": {
    "lang": "en",
    "slideshow": {
     "slide_type": "subslide"
    }
   },
   "source": [
    "Python offers many dunder methods: see the documentation of the\n",
    "[Python data model](https://docs.python.org/3/reference/datamodel.html)."
   ]
  },
  {
   "cell_type": "code",
   "execution_count": null,
   "id": "65028b2b872d4fea",
   "metadata": {
    "slideshow": {
     "slide_type": "subslide"
    }
   },
   "outputs": [],
   "source": []
  },
  {
   "cell_type": "code",
   "execution_count": null,
   "id": "9fe63a6b5aac7deb",
   "metadata": {
    "slideshow": {
     "slide_type": "subslide"
    }
   },
   "outputs": [],
   "source": []
  },
  {
   "cell_type": "code",
   "execution_count": null,
   "id": "ac71405a338a5520",
   "metadata": {},
   "outputs": [],
   "source": []
  },
  {
   "cell_type": "code",
   "execution_count": null,
   "id": "e0df4b51691a4501",
   "metadata": {},
   "outputs": [],
   "source": []
  },
  {
   "cell_type": "code",
   "execution_count": null,
   "id": "bbef096898efef58",
   "metadata": {
    "slideshow": {
     "slide_type": "subslide"
    }
   },
   "outputs": [],
   "source": []
  },
  {
   "cell_type": "code",
   "execution_count": null,
   "id": "121c610320f22263",
   "metadata": {},
   "outputs": [],
   "source": []
  },
  {
   "cell_type": "code",
   "execution_count": null,
   "id": "4ef7c4a07395b67f",
   "metadata": {
    "slideshow": {
     "slide_type": "subslide"
    }
   },
   "outputs": [],
   "source": []
  },
  {
   "cell_type": "code",
   "execution_count": null,
   "id": "1126b608af9f2004",
   "metadata": {
    "lines_to_next_cell": 2,
    "slideshow": {
     "slide_type": "subslide"
    }
   },
   "outputs": [],
   "source": []
  },
  {
   "cell_type": "markdown",
   "id": "e8a268e1d5cdea97",
   "metadata": {
    "lang": "en",
    "slideshow": {
     "slide_type": "subslide"
    }
   },
   "source": [
    "## Mini workshop\n",
    "\n",
    "- Notebook `workshop_062_objects`\n",
    "- Section \"Motor Vehicles (Part 3)\""
   ]
  },
  {
   "cell_type": "markdown",
   "id": "604d1614fcef93ee",
   "metadata": {
    "lang": "en",
    "slideshow": {
     "slide_type": "slide"
    }
   },
   "source": [
    "## Dataclasses\n",
    "\n",
    "Definition of a class in which attributes are more visible, representation\n",
    "and equality are predefined, etc.\n",
    "\n",
    "The [documentation](https://docs.python.org/3/library/dataclasses.html)\n",
    "includes other options."
   ]
  },
  {
   "cell_type": "code",
   "execution_count": null,
   "id": "3f5203df18900b5a",
   "metadata": {
    "slideshow": {
     "slide_type": "subslide"
    }
   },
   "outputs": [],
   "source": []
  },
  {
   "cell_type": "code",
   "execution_count": null,
   "id": "3451e58b35db8f01",
   "metadata": {
    "slideshow": {
     "slide_type": "subslide"
    }
   },
   "outputs": [],
   "source": []
  },
  {
   "cell_type": "code",
   "execution_count": null,
   "id": "ee5e31b993bee374",
   "metadata": {},
   "outputs": [],
   "source": []
  },
  {
   "cell_type": "code",
   "execution_count": null,
   "id": "fd20f9a6f1778a6e",
   "metadata": {
    "lines_to_next_cell": 2
   },
   "outputs": [],
   "source": []
  },
  {
   "cell_type": "code",
   "execution_count": null,
   "id": "a0ebe029caf5744f",
   "metadata": {
    "slideshow": {
     "slide_type": "subslide"
    }
   },
   "outputs": [],
   "source": []
  },
  {
   "cell_type": "code",
   "execution_count": null,
   "id": "160a8cf57f60ac35",
   "metadata": {},
   "outputs": [],
   "source": []
  },
  {
   "cell_type": "code",
   "execution_count": null,
   "id": "136810fb40a38751",
   "metadata": {
    "lines_to_next_cell": 1
   },
   "outputs": [],
   "source": []
  },
  {
   "cell_type": "code",
   "execution_count": null,
   "id": "b20dbf02ae171972",
   "metadata": {
    "slideshow": {
     "slide_type": "subslide"
    }
   },
   "outputs": [],
   "source": []
  },
  {
   "cell_type": "code",
   "execution_count": null,
   "id": "ad2d5883c089a84a",
   "metadata": {},
   "outputs": [],
   "source": []
  },
  {
   "cell_type": "code",
   "execution_count": null,
   "id": "4cf9fd447e2672bd",
   "metadata": {},
   "outputs": [],
   "source": []
  },
  {
   "cell_type": "code",
   "execution_count": null,
   "id": "fb3561828608c575",
   "metadata": {},
   "outputs": [],
   "source": []
  },
  {
   "cell_type": "code",
   "execution_count": null,
   "id": "9c4b7886d4e44974",
   "metadata": {},
   "outputs": [],
   "source": []
  },
  {
   "cell_type": "code",
   "execution_count": null,
   "id": "3732e4385fdb9cc4",
   "metadata": {},
   "outputs": [],
   "source": []
  },
  {
   "cell_type": "markdown",
   "id": "47d6065eecd17ef9",
   "metadata": {
    "lang": "en",
    "slideshow": {
     "slide_type": "subslide"
    }
   },
   "source": [
    "Dataclasses ensure that default values are immutable (at least for some types...):"
   ]
  },
  {
   "cell_type": "code",
   "execution_count": null,
   "id": "f4c35f14c8bcec81",
   "metadata": {},
   "outputs": [],
   "source": []
  },
  {
   "cell_type": "code",
   "execution_count": null,
   "id": "8c31180c4e95e9e9",
   "metadata": {},
   "outputs": [],
   "source": []
  },
  {
   "cell_type": "code",
   "execution_count": null,
   "id": "18630d28cea060bc",
   "metadata": {},
   "outputs": [],
   "source": []
  },
  {
   "cell_type": "code",
   "execution_count": null,
   "id": "371a6f6c3074bb33",
   "metadata": {},
   "outputs": [],
   "source": []
  },
  {
   "cell_type": "markdown",
   "id": "1c793a7f5806708c",
   "metadata": {
    "lang": "en",
    "slideshow": {
     "slide_type": "subslide"
    }
   },
   "source": [
    "However, the test for immutable defaults only works for some types from the standard library, not for user-defined types:"
   ]
  },
  {
   "cell_type": "code",
   "execution_count": null,
   "id": "649864b8604bc79b",
   "metadata": {},
   "outputs": [],
   "source": []
  },
  {
   "cell_type": "code",
   "execution_count": null,
   "id": "71ea67b3b9e67b5a",
   "metadata": {},
   "outputs": [],
   "source": []
  },
  {
   "cell_type": "code",
   "execution_count": null,
   "id": "4ad237edd1bf24da",
   "metadata": {
    "lines_to_next_cell": 2
   },
   "outputs": [],
   "source": []
  },
  {
   "cell_type": "markdown",
   "id": "214bbb35abbe4244",
   "metadata": {
    "lang": "en",
    "slideshow": {
     "slide_type": "subslide"
    }
   },
   "source": [
    "\n",
    "It is possible to perform more complex initializations:\n",
    "\n",
    "- The `__post_init__()` method can contain code that is executed after the\n",
    "  generated `__init__()` method has been executed.\n",
    "- The type `InitVar[T]` declasres that a class attribute serves as an argument\n",
    "  for the `__post_init__()` method and not as an attribute for the instance.\n",
    "- The keyword argument `init=False` for `field()` causes the corresponding\n",
    "  attribute to not be initialized in the generated `__init__()` method."
   ]
  },
  {
   "cell_type": "code",
   "execution_count": null,
   "id": "cb86506d16d1bf59",
   "metadata": {
    "lines_to_next_cell": 1
   },
   "outputs": [],
   "source": []
  },
  {
   "cell_type": "code",
   "execution_count": null,
   "id": "d2c3caaf1a5a34f1",
   "metadata": {
    "lines_to_next_cell": 1
   },
   "outputs": [],
   "source": []
  },
  {
   "cell_type": "code",
   "execution_count": null,
   "id": "b3dcf4904a3dc7b3",
   "metadata": {},
   "outputs": [],
   "source": []
  },
  {
   "cell_type": "code",
   "execution_count": null,
   "id": "43670b78948082bf",
   "metadata": {
    "lines_to_next_cell": 1
   },
   "outputs": [],
   "source": []
  },
  {
   "cell_type": "markdown",
   "id": "588d7262b6bb812a",
   "metadata": {
    "lang": "en",
    "slideshow": {
     "slide_type": "subslide"
    }
   },
   "source": [
    "## Workshop\n",
    "\n",
    "- Notebook `workshop_062_objects`\n",
    "- Section \"Shopping list\""
   ]
  },
  {
   "cell_type": "markdown",
   "id": "e6bd786909c8d292",
   "metadata": {
    "lang": "en",
    "slideshow": {
     "slide_type": "slide"
    }
   },
   "source": [
    "It is possible to define a custom type whose instances behave like lists. To simplify the implementation we delegate the handling of the elements to a list that is stored as an attribute. This kind of composition is found very frequently in object oriented programming."
   ]
  },
  {
   "cell_type": "code",
   "execution_count": null,
   "id": "b7bef7fdb272833e",
   "metadata": {},
   "outputs": [],
   "source": []
  },
  {
   "cell_type": "code",
   "execution_count": null,
   "id": "1e8d99208a43f35f",
   "metadata": {
    "slideshow": {
     "slide_type": "subslide"
    }
   },
   "outputs": [],
   "source": []
  },
  {
   "cell_type": "code",
   "execution_count": null,
   "id": "b2ed9cee2065282d",
   "metadata": {
    "slideshow": {
     "slide_type": "subslide"
    }
   },
   "outputs": [],
   "source": []
  },
  {
   "cell_type": "code",
   "execution_count": null,
   "id": "9adb80e682ac467e",
   "metadata": {},
   "outputs": [],
   "source": []
  },
  {
   "cell_type": "code",
   "execution_count": null,
   "id": "3e0f5665bdbb00bd",
   "metadata": {},
   "outputs": [],
   "source": []
  },
  {
   "cell_type": "code",
   "execution_count": null,
   "id": "ec280a3d2504aba0",
   "metadata": {
    "lines_to_next_cell": 2
   },
   "outputs": [],
   "source": []
  },
  {
   "cell_type": "code",
   "execution_count": null,
   "id": "d1163d5185532302",
   "metadata": {
    "tags": [
     "keep"
    ]
   },
   "outputs": [],
   "source": []
  }
 ],
 "metadata": {
  "kernelspec": {
   "display_name": "Python 3 (ipykernel)",
   "language": "python",
   "name": "python3"
  }
 },
 "nbformat": 4,
 "nbformat_minor": 5
}
