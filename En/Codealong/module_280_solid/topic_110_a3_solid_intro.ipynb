{
 "cells": [
  {
   "cell_type": "markdown",
   "id": "4dd883336e375a87",
   "metadata": {
    "lang": "en",
    "lines_to_next_cell": 2,
    "slideshow": {
     "slide_type": "slide"
    }
   },
   "source": [
    "<img src=\"../../img/python-logo-no-text.svg\"\n",
    "     style=\"display:block;margin:auto;width:10%\"/>\n",
    "<br>\n",
    "<div style=\"text-align:center; font-size:200%;\">\n",
    "  <b>SOLID: Introduction</b>\n",
    "</div>\n",
    "<br/>\n",
    "<div style=\"text-align:center;\">Dr. Matthias Hölzl</div>\n",
    "<br/>\n",
    "<div style=\"text-align:center;\">module_280_solid/topic_110_a3_solid_intro</div>"
   ]
  },
  {
   "cell_type": "markdown",
   "id": "31f8e241df225023",
   "metadata": {
    "lang": "en",
    "slideshow": {
     "slide_type": "slide"
    }
   },
   "source": [
    "\n",
    "# SOLID: Introduction\n",
    "\n",
    "A collection of five guidelines collected by Robert C. Martin (Uncle Bob)\n",
    "- Single Responsibility Principle (SRP)\n",
    "- Open/Closed Principle (OCP)\n",
    "- Liskov Substitution Principle (LSP)\n",
    "- Interface Segregation Principle (ISP)\n",
    "- Dependency Inversion Principle (DIP)"
   ]
  }
 ],
 "metadata": {},
 "nbformat": 4,
 "nbformat_minor": 5
}
