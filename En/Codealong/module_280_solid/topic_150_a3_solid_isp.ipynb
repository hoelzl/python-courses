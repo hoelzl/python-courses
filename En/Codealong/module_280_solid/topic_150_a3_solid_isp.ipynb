{
 "cells": [
  {
   "cell_type": "markdown",
   "id": "850713ec648bf097",
   "metadata": {
    "lang": "en",
    "lines_to_next_cell": 2,
    "slideshow": {
     "slide_type": "slide"
    }
   },
   "source": [
    "<img src=\"../img/python-logo-no-text.png\"\n",
    "     style=\"display:block;margin:auto;width:10%\"/>\n",
    "<br>\n",
    "<div style=\"text-align:center; font-size:200%;\">\n",
    "  <b>SOLID: Instance Segregation Principle</b>\n",
    "</div>\n",
    "<br/>\n",
    "<div style=\"text-align:center;\">Dr. Matthias Hölzl</div>\n",
    "<br/>\n",
    "<!-- <div style=\"text-align:center;\">module_280_solid/topic_150_a3_solid_isp</div> -->"
   ]
  },
  {
   "cell_type": "markdown",
   "id": "570d4f7841efcd77",
   "metadata": {
    "lang": "en",
    "slideshow": {
     "slide_type": "slide"
    }
   },
   "source": [
    "\n",
    "# SOLID: Instance Segregation Principle\n",
    "\n",
    "- No client of a class C should depend on methods it doesn’t use\n",
    "- If that is not the case\n",
    "  - Divide the interface of C into multiple independent interfaces\n",
    "  - Replace C in each client with the interfaces actually used by the client"
   ]
  }
 ],
 "metadata": {},
 "nbformat": 4,
 "nbformat_minor": 5
}
