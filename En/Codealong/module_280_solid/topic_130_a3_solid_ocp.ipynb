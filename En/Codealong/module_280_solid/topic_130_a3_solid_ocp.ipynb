{
 "cells": [
  {
   "cell_type": "markdown",
   "id": "67a4e1d90ffc850d",
   "metadata": {
    "lang": "en",
    "slideshow": {
     "slide_type": "slide"
    }
   },
   "source": [
    "<img src=\"../../img/python-logo-no-text.svg\"\n",
    "     style=\"display:block;margin:auto;width:10%\"/>\n",
    "<br>\n",
    "<div style=\"text-align:center; font-size:200%;\">\n",
    "  <b>SOLID: Open-Closed Principle</b>\n",
    "</div>\n",
    "<br/>\n",
    "<div style=\"text-align:center;\">Dr. Matthias Hölzl</div>\n",
    "<br/>\n",
    "<div style=\"text-align:center;\">module_280_solid/topic_130_a3_solid_ocp</div>"
   ]
  },
  {
   "cell_type": "markdown",
   "id": "f41040787500c214",
   "metadata": {
    "lang": "en",
    "lines_to_next_cell": 2,
    "slideshow": {
     "slide_type": "slide"
    }
   },
   "source": [
    "\n",
    "# SOLID: Open-Closed Principle\n",
    "\n",
    "Classes should be\n",
    "\n",
    "- Open for extension\n",
    "- Closed for Modification"
   ]
  },
  {
   "cell_type": "code",
   "execution_count": null,
   "id": "b69899df06b52615",
   "metadata": {
    "lines_to_next_cell": 1,
    "tags": [
     "keep"
    ]
   },
   "outputs": [],
   "source": [
    "from enum import IntEnum\n",
    "from dataclasses import dataclass"
   ]
  },
  {
   "cell_type": "code",
   "execution_count": null,
   "id": "8a0fc825265190ae",
   "metadata": {
    "tags": [
     "keep"
    ]
   },
   "outputs": [],
   "source": [
    "class MovieKindV0(IntEnum):\n",
    "    REGULAR = 1\n",
    "    CHILDREN = 2"
   ]
  },
  {
   "cell_type": "code",
   "execution_count": null,
   "id": "ec58a83d3e120483",
   "metadata": {
    "tags": [
     "keep"
    ]
   },
   "outputs": [],
   "source": [
    "@dataclass\n",
    "class MovieV0:\n",
    "    title: str\n",
    "    kind: MovieKindV0 = MovieKindV0.REGULAR\n",
    "\n",
    "    def compute_price(self):\n",
    "        if self.kind == MovieKindV0.REGULAR:\n",
    "            return 4.99\n",
    "        elif self.kind == MovieKindV0.CHILDREN:\n",
    "            return 5.99\n",
    "\n",
    "    def print_info(self):\n",
    "        print(f\"{self.title} costs {self.compute_price()}\")"
   ]
  },
  {
   "cell_type": "code",
   "execution_count": null,
   "id": "7c4b4d9e8b556f5d",
   "metadata": {
    "tags": [
     "keep"
    ]
   },
   "outputs": [],
   "source": [
    "m1 = MovieV0(\"Casablanca\")\n",
    "m2 = MovieV0(\"Shrek\", MovieKindV0.CHILDREN)"
   ]
  },
  {
   "cell_type": "code",
   "execution_count": null,
   "id": "6b425c7d72c4e96d",
   "metadata": {
    "lines_to_next_cell": 1,
    "tags": [
     "keep"
    ]
   },
   "outputs": [],
   "source": [
    "m1.print_info()\n",
    "m2.print_info()"
   ]
  },
  {
   "cell_type": "code",
   "execution_count": null,
   "id": "619ba30b9e78c2ff",
   "metadata": {
    "tags": [
     "keep"
    ]
   },
   "outputs": [],
   "source": [
    "class MovieKindV1(IntEnum):\n",
    "    REGULAR = 1\n",
    "    CHILDREN = 2\n",
    "    NEW_RELEASE = 3"
   ]
  },
  {
   "cell_type": "code",
   "execution_count": null,
   "id": "e05981a063d7f2ec",
   "metadata": {
    "tags": [
     "keep"
    ]
   },
   "outputs": [],
   "source": [
    "@dataclass\n",
    "class MovieV1:\n",
    "    title: str\n",
    "    kind: MovieKindV1 = MovieKindV1.REGULAR\n",
    "\n",
    "    def compute_price(self):\n",
    "        if self.kind == MovieKindV1.REGULAR:\n",
    "            return 4.99\n",
    "        elif self.kind == MovieKindV1.CHILDREN:\n",
    "            return 5.99\n",
    "        elif self.kind == MovieKindV1.NEW_RELEASE:\n",
    "            return 6.99\n",
    "\n",
    "    def print_info(self):\n",
    "        print(f\"{self.title} costs {self.compute_price()}\")"
   ]
  },
  {
   "cell_type": "code",
   "execution_count": null,
   "id": "4a427bf1c3474d16",
   "metadata": {
    "tags": [
     "keep"
    ]
   },
   "outputs": [],
   "source": [
    "m1 = MovieV1(\"Casablanca\")\n",
    "m2 = MovieV1(\"Shrek\", MovieKindV1.CHILDREN)\n",
    "m3 = MovieV1(\"Brand New\", MovieKindV1.NEW_RELEASE)"
   ]
  },
  {
   "cell_type": "code",
   "execution_count": null,
   "id": "2a2455b905e8bc21",
   "metadata": {
    "tags": [
     "keep"
    ]
   },
   "outputs": [],
   "source": [
    "m1.print_info()\n",
    "m2.print_info()\n",
    "m3.print_info()"
   ]
  },
  {
   "cell_type": "code",
   "execution_count": null,
   "id": "358d3acdd9f86a51",
   "metadata": {
    "lines_to_next_cell": 1
   },
   "outputs": [],
   "source": []
  },
  {
   "cell_type": "code",
   "execution_count": null,
   "id": "15bb41dc5bb581d7",
   "metadata": {},
   "outputs": [],
   "source": []
  },
  {
   "cell_type": "code",
   "execution_count": null,
   "id": "d1d45eba8619a033",
   "metadata": {},
   "outputs": [],
   "source": []
  },
  {
   "cell_type": "code",
   "execution_count": null,
   "id": "8faa43343010eef6",
   "metadata": {},
   "outputs": [],
   "source": []
  },
  {
   "cell_type": "code",
   "execution_count": null,
   "id": "d53fde8415501b63",
   "metadata": {},
   "outputs": [],
   "source": []
  },
  {
   "cell_type": "code",
   "execution_count": null,
   "id": "bb1e52d835f2170d",
   "metadata": {},
   "outputs": [],
   "source": []
  },
  {
   "cell_type": "code",
   "execution_count": null,
   "id": "1c19e5932a1bb455",
   "metadata": {},
   "outputs": [],
   "source": []
  },
  {
   "cell_type": "markdown",
   "id": "a0464a5cbe1952de",
   "metadata": {
    "lang": "en",
    "slideshow": {
     "slide_type": "subslide"
    }
   },
   "source": [
    "\n",
    "## Workshop: Employee OCP\n",
    "\n",
    "When discussing the  SRP, we refactored the `Employee` class to remove the SRP\n",
    "violations. Improve the example further by also removing the OCP violations as\n",
    "well. Start with the class `EmployeeV1`:"
   ]
  },
  {
   "cell_type": "code",
   "execution_count": null,
   "id": "2c69169254ad052f",
   "metadata": {},
   "outputs": [],
   "source": []
  },
  {
   "cell_type": "code",
   "execution_count": null,
   "id": "c7ee4e704277c528",
   "metadata": {
    "lines_to_next_cell": 1
   },
   "outputs": [],
   "source": []
  },
  {
   "cell_type": "code",
   "execution_count": null,
   "id": "07ae9f0708231ba3",
   "metadata": {
    "lines_to_next_cell": 1
   },
   "outputs": [],
   "source": []
  },
  {
   "cell_type": "code",
   "execution_count": null,
   "id": "5039de6f885bddea",
   "metadata": {},
   "outputs": [],
   "source": []
  },
  {
   "cell_type": "code",
   "execution_count": null,
   "id": "fbedac0fb64f5538",
   "metadata": {},
   "outputs": [],
   "source": []
  },
  {
   "cell_type": "code",
   "execution_count": null,
   "id": "341facf4a91fe079",
   "metadata": {},
   "outputs": [],
   "source": []
  },
  {
   "cell_type": "code",
   "execution_count": null,
   "id": "b1ab7135d7ed9e09",
   "metadata": {
    "lines_to_next_cell": 1
   },
   "outputs": [],
   "source": []
  },
  {
   "cell_type": "code",
   "execution_count": null,
   "id": "6b4e03423667dbb7",
   "metadata": {
    "lines_to_next_cell": 0
   },
   "outputs": [],
   "source": []
  },
  {
   "cell_type": "code",
   "execution_count": null,
   "id": "bc05e183feef0381",
   "metadata": {
    "lines_to_next_cell": 2
   },
   "outputs": [],
   "source": []
  },
  {
   "cell_type": "code",
   "execution_count": null,
   "id": "5f7927cebdf30846",
   "metadata": {},
   "outputs": [],
   "source": []
  },
  {
   "cell_type": "code",
   "execution_count": null,
   "id": "8e35dbb6c607a87b",
   "metadata": {},
   "outputs": [],
   "source": []
  },
  {
   "cell_type": "code",
   "execution_count": null,
   "id": "c1e86e5be3f18cf1",
   "metadata": {},
   "outputs": [],
   "source": []
  },
  {
   "cell_type": "code",
   "execution_count": null,
   "id": "f5bb5078aa0e26b6",
   "metadata": {},
   "outputs": [],
   "source": []
  },
  {
   "cell_type": "code",
   "execution_count": null,
   "id": "17de436670a4a3e7",
   "metadata": {},
   "outputs": [],
   "source": []
  },
  {
   "cell_type": "code",
   "execution_count": null,
   "id": "0fb55ebec7079f02",
   "metadata": {},
   "outputs": [],
   "source": []
  },
  {
   "cell_type": "code",
   "execution_count": null,
   "id": "7d17df194f01d550",
   "metadata": {},
   "outputs": [],
   "source": []
  },
  {
   "cell_type": "code",
   "execution_count": null,
   "id": "5f5ed2a387ae04f6",
   "metadata": {},
   "outputs": [],
   "source": []
  },
  {
   "cell_type": "code",
   "execution_count": null,
   "id": "2936142550a2790b",
   "metadata": {},
   "outputs": [],
   "source": []
  },
  {
   "cell_type": "code",
   "execution_count": null,
   "id": "07e971eb36d1b335",
   "metadata": {},
   "outputs": [],
   "source": []
  }
 ],
 "metadata": {},
 "nbformat": 4,
 "nbformat_minor": 5
}
