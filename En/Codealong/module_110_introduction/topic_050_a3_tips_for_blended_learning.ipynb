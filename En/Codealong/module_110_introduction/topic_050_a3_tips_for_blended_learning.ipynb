{
 "cells": [
  {
   "cell_type": "markdown",
   "id": "0cd3293dc3d1ef9e",
   "metadata": {
    "lang": "en",
    "lines_to_next_cell": 2,
    "slideshow": {
     "slide_type": "slide"
    }
   },
   "source": [
    "<img src=\"../img/python-logo-no-text.png\"\n",
    "     style=\"display:block;margin:auto;width:10%\"/>\n",
    "<br>\n",
    "<div style=\"text-align:center; font-size:200%;\">\n",
    "  <b>Tips for the 4-Week Program</b>\n",
    "</div>\n",
    "<br/>\n",
    "<div style=\"text-align:center;\">Dr. Matthias Hölzl</div>\n",
    "<br/>\n",
    "<!-- <div style=\"text-align:center;\">module_110_introduction/topic_050_a3_tips_for_blended_learning</div> -->"
   ]
  },
  {
   "cell_type": "markdown",
   "id": "835760c4cca428b1",
   "metadata": {
    "lang": "en",
    "slideshow": {
     "slide_type": "slide"
    }
   },
   "source": [
    "\n",
    "# Tips for the 4-Week Program\n",
    "\n",
    "- The 4-week program is a very effective form of learning\n",
    "- We have a few tips to increase your enjoyment and the effectiveness of\n",
    "  the course"
   ]
  },
  {
   "cell_type": "markdown",
   "id": "fd48c0dfd686ce21",
   "metadata": {
    "lang": "en",
    "slideshow": {
     "slide_type": "subslide"
    }
   },
   "source": [
    "\n",
    "## Stay on track!\n",
    "- Don´t postpone watching videos to the latest moment!\n",
    "- Don´t binge-watch all videos at once!"
   ]
  },
  {
   "cell_type": "markdown",
   "id": "0a9a134d23b3cf94",
   "metadata": {
    "lang": "en",
    "slideshow": {
     "slide_type": "subslide"
    }
   },
   "source": [
    "\n",
    "# Take breaks!\n",
    "\n",
    "- The content of the videos is sometimes challenging\n",
    "- There is little point in watching videos if you can no longer concentrate"
   ]
  },
  {
   "cell_type": "markdown",
   "id": "b11a1d192a7180a9",
   "metadata": {
    "lang": "en",
    "slideshow": {
     "slide_type": "subslide"
    }
   },
   "source": [
    "\n",
    "# Code along with me!\n",
    "\n",
    "- Type in the code yourself\n",
    "- Experiment with the code!"
   ]
  },
  {
   "cell_type": "markdown",
   "id": "ec90a5ee43921637",
   "metadata": {
    "lang": "en",
    "slideshow": {
     "slide_type": "subslide"
    }
   },
   "source": [
    "\n",
    "# Try the workshops!\n",
    "\n",
    "- The workshops are an essential part of the course\n",
    "- Without working on the  workshops you will find it difficult to apply the material\n",
    "  in your own work\n",
    "- Use the suggested solutions if you get stuck during a workshop\n",
    "- ... but **only** if you get stuck!"
   ]
  },
  {
   "cell_type": "markdown",
   "id": "b05b34e5e2a635c9",
   "metadata": {
    "lang": "en",
    "slideshow": {
     "slide_type": "subslide"
    }
   },
   "source": [
    "\n",
    "## Work together!\n",
    "\n",
    "- Build small teams to work on the workshops\n",
    "- Discuss the material with your colleagues"
   ]
  },
  {
   "cell_type": "markdown",
   "id": "759acf2d1e874a08",
   "metadata": {
    "lang": "en",
    "slideshow": {
     "slide_type": "subslide"
    }
   },
   "source": [
    "\n",
    "## Use the live sessions and forums\n",
    "\n",
    "- Ask questions\n",
    "- Present your solutions"
   ]
  },
  {
   "cell_type": "markdown",
   "id": "9c494cd11c48f041",
   "metadata": {
    "lang": "en",
    "slideshow": {
     "slide_type": "subslide"
    }
   },
   "source": [
    "\n",
    "- Set up a Python environment to work with\n",
    "- Download the course materials\n",
    "- Use two screens if possible"
   ]
  },
  {
   "cell_type": "markdown",
   "id": "223490b1ef256878",
   "metadata": {
    "lang": "en",
    "slideshow": {
     "slide_type": "subslide"
    }
   },
   "source": [
    "\n",
    "## Good Luck!\n",
    "\n",
    "And have a good time!"
   ]
  }
 ],
 "metadata": {},
 "nbformat": 4,
 "nbformat_minor": 5
}
