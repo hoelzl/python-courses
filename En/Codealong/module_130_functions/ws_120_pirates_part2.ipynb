{
 "cells": [
  {
   "cell_type": "markdown",
   "id": "84c75d8f2530f04d",
   "metadata": {
    "lang": "en",
    "lines_to_next_cell": 2,
    "slideshow": {
     "slide_type": "subslide"
    }
   },
   "source": [
    "\n",
    "## Mini-workshop: Pirates (Part 2)\n",
    "\n",
    "In a previous task, we calculated the loot split for your pirate crew as\n",
    "follows:\n",
    "\n",
    "- The loot is divided evenly among all pirates. Only whole gold doubloons are\n",
    "  paid out.\n",
    "- The captain receives the rest of the gold doubloons."
   ]
  },
  {
   "cell_type": "markdown",
   "id": "ba60ae5598895d4f",
   "metadata": {
    "lang": "en",
    "slideshow": {
     "slide_type": "subslide"
    }
   },
   "source": [
    "\n",
    "But now your pirate crew is in danger of mutiny because the calculation of the spoils\n",
    "takes too long.\n",
    "\n",
    "Write a function `print_division_of_loot(doubloons, pirates)`,\n",
    "which calculates the split and prints it in the following format:\n",
    "\n",
    "```\n",
    "Pirates: 8\n",
    "Gold Doubloons: 17\n",
    "Each pirate gets: 2 gold doubloon(s)\n",
    "Captain gets extra: 1 gold doubloon(s)\n",
    "```"
   ]
  },
  {
   "cell_type": "code",
   "execution_count": null,
   "id": "f767af32137d2383",
   "metadata": {
    "lang": "en",
    "slideshow": {
     "slide_type": "subslide"
    }
   },
   "outputs": [],
   "source": []
  },
  {
   "cell_type": "code",
   "execution_count": null,
   "id": "c46a8b3a968ef4e0",
   "metadata": {
    "lang": "en"
   },
   "outputs": [],
   "source": []
  }
 ],
 "metadata": {},
 "nbformat": 4,
 "nbformat_minor": 5
}
