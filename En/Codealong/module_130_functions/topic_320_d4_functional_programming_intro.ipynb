{
 "cells": [
  {
   "cell_type": "code",
   "execution_count": null,
   "id": "6b4e03423667dbb7",
   "metadata": {},
   "outputs": [],
   "source": []
  },
  {
   "cell_type": "markdown",
   "id": "f0a028f9a3e0fa4b",
   "metadata": {
    "lang": "en",
    "slideshow": {
     "slide_type": "slide"
    }
   },
   "source": [
    "<img src=\"../../img/python-logo-no-text.svg\"\n",
    "     style=\"display:block;margin:auto;width:10%\"/>\n",
    "<br>\n",
    "<div style=\"text-align:center; font-size:200%;\">\n",
    "  <b>Introduction to Functional Programming</b>\n",
    "</div>\n",
    "<br/>\n",
    "<div style=\"text-align:center;\">Dr. Matthias Hölzl</div>\n",
    "<br/>\n",
    "<div style=\"text-align:center;\">module_130_functions/topic_320_d4_functional_programming_intro</div>"
   ]
  },
  {
   "cell_type": "markdown",
   "id": "ca213abf0e206e36",
   "metadata": {
    "lang": "en",
    "slideshow": {
     "slide_type": "slide"
    }
   },
   "source": [
    "\n",
    "# Introduction to Functional Programming\n",
    "\n",
    "Traditionally functional programming is characterized by the following features:\n",
    "- First-class and higher-order functions\n",
    "- Immutable data types (immutable data types)\n",
    "- Recursion instead of iteration"
   ]
  },
  {
   "cell_type": "code",
   "execution_count": null,
   "id": "71fc394ee68d146b",
   "metadata": {},
   "outputs": [],
   "source": []
  },
  {
   "cell_type": "code",
   "execution_count": null,
   "id": "4e0a4b678dd61d9d",
   "metadata": {},
   "outputs": [],
   "source": []
  },
  {
   "cell_type": "code",
   "execution_count": null,
   "id": "0fcbabdb57463374",
   "metadata": {
    "lines_to_next_cell": 2
   },
   "outputs": [],
   "source": []
  },
  {
   "cell_type": "markdown",
   "id": "5dad5509c7b3cdbe",
   "metadata": {
    "lang": "en",
    "slideshow": {
     "slide_type": "subslide"
    }
   },
   "source": [
    "\n",
    "## Mini-workshop \"mean computation\"\n",
    "\n",
    "Write a function `fact(n: int)` that calculates the product of the numbers from 1\n",
    "to `n`."
   ]
  },
  {
   "cell_type": "code",
   "execution_count": null,
   "id": "1bdc7c1649fbba70",
   "metadata": {},
   "outputs": [],
   "source": []
  },
  {
   "cell_type": "code",
   "execution_count": null,
   "id": "f0cfdd48f74d6401",
   "metadata": {
    "tags": [
     "keep"
    ]
   },
   "outputs": [],
   "source": [
    "assert fact(3) == 6"
   ]
  },
  {
   "cell_type": "code",
   "execution_count": null,
   "id": "6d80874951745f8a",
   "metadata": {
    "tags": [
     "keep"
    ]
   },
   "outputs": [],
   "source": [
    "assert fact(10) == 3628800"
   ]
  },
  {
   "cell_type": "code",
   "execution_count": null,
   "id": "255ce160e4b492b7",
   "metadata": {
    "tags": [
     "keep"
    ]
   },
   "outputs": [],
   "source": [
    "assert fact(50) == 30414093201713378043612608166064768844377641568960512000000000000"
   ]
  },
  {
   "cell_type": "code",
   "execution_count": null,
   "id": "bfb363552dd38a3a",
   "metadata": {},
   "outputs": [],
   "source": []
  },
  {
   "cell_type": "code",
   "execution_count": null,
   "id": "d81652139b4cf2c8",
   "metadata": {},
   "outputs": [],
   "source": []
  },
  {
   "cell_type": "code",
   "execution_count": null,
   "id": "ab0bd5949c2310aa",
   "metadata": {},
   "outputs": [],
   "source": []
  },
  {
   "cell_type": "code",
   "execution_count": null,
   "id": "3e507b13ded09e77",
   "metadata": {
    "tags": [
     "keep"
    ]
   },
   "outputs": [],
   "source": [
    "class LispList:\n",
    "    pass"
   ]
  },
  {
   "cell_type": "code",
   "execution_count": null,
   "id": "b2f9218cf6976f8e",
   "metadata": {
    "tags": [
     "keep"
    ]
   },
   "outputs": [],
   "source": [
    "class Nil(LispList):\n",
    "    def __repr__(self):\n",
    "        return \"nil\""
   ]
  },
  {
   "cell_type": "code",
   "execution_count": null,
   "id": "f45cd31cd866067b",
   "metadata": {
    "tags": [
     "keep"
    ]
   },
   "outputs": [],
   "source": [
    "nil = Nil()"
   ]
  },
  {
   "cell_type": "code",
   "execution_count": null,
   "id": "5f610cccd60d04ce",
   "metadata": {},
   "outputs": [],
   "source": []
  },
  {
   "cell_type": "code",
   "execution_count": null,
   "id": "acdabb368db69e9b",
   "metadata": {
    "tags": [
     "keep"
    ]
   },
   "outputs": [],
   "source": [
    "class Cons(LispList):\n",
    "    def __init__(self, first, rest):\n",
    "        self.first = first\n",
    "        self.rest = rest\n",
    "\n",
    "    def __repr__(self):\n",
    "        return f\"({self.first}{self.rest_to_str()})\"\n",
    "\n",
    "    def rest_to_str(self) -> str:\n",
    "        if isinstance(self.rest, Nil):\n",
    "            return \"\"\n",
    "        elif isinstance(self.rest, Cons):\n",
    "            return f\" {self.rest.first}{self.rest.rest_to_str()}\"\n",
    "        else:\n",
    "            return f\" . {self.rest}\""
   ]
  },
  {
   "cell_type": "code",
   "execution_count": null,
   "id": "447bde4226050d9d",
   "metadata": {
    "tags": [
     "keep"
    ]
   },
   "outputs": [],
   "source": [
    "nil"
   ]
  },
  {
   "cell_type": "code",
   "execution_count": null,
   "id": "9209112de3f33796",
   "metadata": {
    "tags": [
     "keep"
    ]
   },
   "outputs": [],
   "source": [
    "Cons(1, Nil())"
   ]
  },
  {
   "cell_type": "code",
   "execution_count": null,
   "id": "b0f19ecf33625b94",
   "metadata": {
    "tags": [
     "keep"
    ]
   },
   "outputs": [],
   "source": [
    "Cons(1, Cons(2, Nil()))"
   ]
  },
  {
   "cell_type": "code",
   "execution_count": null,
   "id": "ca2a3e46c2d91074",
   "metadata": {
    "tags": [
     "keep"
    ]
   },
   "outputs": [],
   "source": [
    "Cons(1, Cons(2, Cons(3, Nil())))"
   ]
  },
  {
   "cell_type": "code",
   "execution_count": null,
   "id": "f41cd50044840224",
   "metadata": {
    "tags": [
     "keep"
    ]
   },
   "outputs": [],
   "source": [
    "Cons(1, 2)"
   ]
  },
  {
   "cell_type": "code",
   "execution_count": null,
   "id": "24b8b61b0ba28221",
   "metadata": {
    "tags": [
     "keep"
    ]
   },
   "outputs": [],
   "source": [
    "def lisp_list(*args):\n",
    "    def build_list(elements):\n",
    "        if len(elements) > 0:\n",
    "            return Cons(elements[0], build_list(elements[1:]))\n",
    "        else:\n",
    "            return Nil()\n",
    "\n",
    "    return build_list(args)"
   ]
  },
  {
   "cell_type": "code",
   "execution_count": null,
   "id": "25fe989058e3eacd",
   "metadata": {
    "tags": [
     "keep"
    ]
   },
   "outputs": [],
   "source": [
    "lisp_list(1, 2, 3)"
   ]
  },
  {
   "cell_type": "code",
   "execution_count": null,
   "id": "0a21231cb6dc6204",
   "metadata": {
    "tags": [
     "keep"
    ]
   },
   "outputs": [],
   "source": [
    "lisp_ints = lisp_list(*range(10))\n",
    "lisp_ints"
   ]
  },
  {
   "cell_type": "code",
   "execution_count": null,
   "id": "c0df04488479ed07",
   "metadata": {
    "tags": [
     "keep"
    ]
   },
   "outputs": [],
   "source": [
    "is_empty(nil)"
   ]
  },
  {
   "cell_type": "code",
   "execution_count": null,
   "id": "7e268657488990ba",
   "metadata": {
    "tags": [
     "keep"
    ]
   },
   "outputs": [],
   "source": [
    "is_empty(lisp_ints)"
   ]
  },
  {
   "cell_type": "code",
   "execution_count": null,
   "id": "679e785c7a74398e",
   "metadata": {},
   "outputs": [],
   "source": []
  },
  {
   "cell_type": "code",
   "execution_count": null,
   "id": "fbe00fe06cf79910",
   "metadata": {},
   "outputs": [],
   "source": []
  },
  {
   "cell_type": "code",
   "execution_count": null,
   "id": "b13834c1ea4fc342",
   "metadata": {},
   "outputs": [],
   "source": []
  },
  {
   "cell_type": "code",
   "execution_count": null,
   "id": "d0a9dc16d36295e0",
   "metadata": {},
   "outputs": [],
   "source": []
  },
  {
   "cell_type": "code",
   "execution_count": null,
   "id": "8d7c3b0a0b910775",
   "metadata": {},
   "outputs": [],
   "source": []
  },
  {
   "cell_type": "code",
   "execution_count": null,
   "id": "378ea149bff0404c",
   "metadata": {},
   "outputs": [],
   "source": []
  },
  {
   "cell_type": "code",
   "execution_count": null,
   "id": "49547371e0ec86c1",
   "metadata": {},
   "outputs": [],
   "source": []
  },
  {
   "cell_type": "code",
   "execution_count": null,
   "id": "379c3bb1a8de9cd2",
   "metadata": {},
   "outputs": [],
   "source": []
  },
  {
   "cell_type": "code",
   "execution_count": null,
   "id": "210b504f127ad578",
   "metadata": {},
   "outputs": [],
   "source": []
  },
  {
   "cell_type": "markdown",
   "id": "5e3a04dd13f161b7",
   "metadata": {
    "lang": "en"
   },
   "source": [
    "## Problems with recursion in Python"
   ]
  },
  {
   "cell_type": "code",
   "execution_count": null,
   "id": "9a5c9dd789cf0f45",
   "metadata": {},
   "outputs": [],
   "source": []
  },
  {
   "cell_type": "code",
   "execution_count": null,
   "id": "f81ede12620c6263",
   "metadata": {},
   "outputs": [],
   "source": []
  },
  {
   "cell_type": "code",
   "execution_count": null,
   "id": "a723ac313065a55e",
   "metadata": {},
   "outputs": [],
   "source": []
  },
  {
   "cell_type": "code",
   "execution_count": null,
   "id": "f17f5a1e530a5010",
   "metadata": {},
   "outputs": [],
   "source": []
  },
  {
   "cell_type": "markdown",
   "id": "543022f33618d104",
   "metadata": {
    "lang": "en"
   },
   "source": [
    "## Benefits of a functional programming style\n",
    "\n",
    "- Compositionality\n",
    "- Modularity\n",
    "- Ease of testing and debugging"
   ]
  }
 ],
 "metadata": {},
 "nbformat": 4,
 "nbformat_minor": 5
}
