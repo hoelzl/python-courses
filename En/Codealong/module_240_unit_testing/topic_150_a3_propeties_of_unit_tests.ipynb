{
 "cells": [
  {
   "cell_type": "markdown",
   "id": "f47dc9fac12754e1",
   "metadata": {
    "lang": "en",
    "lines_to_next_cell": 2,
    "slideshow": {
     "slide_type": "slide"
    }
   },
   "source": [
    "<img src=\"../../img/python-logo-no-text.svg\"\n",
    "     style=\"display:block;margin:auto;width:10%\"/>\n",
    "<br>\n",
    "<div style=\"text-align:center; font-size:200%;\">\n",
    "  <b>Properties of Unit Tests</b>\n",
    "</div>\n",
    "<br/>\n",
    "<div style=\"text-align:center;\">Dr. Matthias Hölzl</div>\n",
    "<br/>\n",
    "<div style=\"text-align:center;\">module_240_unit_testing/topic_150_a3_propeties_of_unit_tests</div>"
   ]
  },
  {
   "cell_type": "markdown",
   "id": "d4f0750ade411c28",
   "metadata": {
    "lang": "en",
    "slideshow": {
     "slide_type": "slide"
    }
   },
   "source": [
    "\n",
    "# Properties of Unit Tests"
   ]
  }
 ],
 "metadata": {},
 "nbformat": 4,
 "nbformat_minor": 5
}
