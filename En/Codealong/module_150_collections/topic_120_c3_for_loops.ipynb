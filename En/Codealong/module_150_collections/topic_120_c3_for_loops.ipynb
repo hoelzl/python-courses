{
 "cells": [
  {
   "cell_type": "markdown",
   "id": "0e8eea0fc1766146",
   "metadata": {
    "lang": "en",
    "lines_to_next_cell": 2,
    "slideshow": {
     "slide_type": "slide"
    }
   },
   "source": [
    "<img src=\"../img/python-logo-no-text.png\"\n",
    "     style=\"display:block;margin:auto;width:10%\"/>\n",
    "<br>\n",
    "<div style=\"text-align:center; font-size:200%;\">\n",
    "  <b>For-Loops</b>\n",
    "</div>\n",
    "<br/>\n",
    "<div style=\"text-align:center;\">Dr. Matthias Hölzl</div>\n",
    "<br/>\n",
    "<!-- <div style=\"text-align:center;\">module_150_collections/topic_120_c3_for_loops</div> -->"
   ]
  },
  {
   "cell_type": "markdown",
   "id": "ad7049684919d835",
   "metadata": {
    "lang": "en",
    "lines_to_next_cell": 2,
    "slideshow": {
     "slide_type": "slide"
    }
   },
   "source": [
    "## `for` loops"
   ]
  },
  {
   "cell_type": "code",
   "execution_count": null,
   "id": "796cfcc5ab5388cb",
   "metadata": {
    "slideshow": {
     "slide_type": "subslide"
    }
   },
   "outputs": [],
   "source": []
  },
  {
   "cell_type": "code",
   "execution_count": null,
   "id": "4eb4770cabd428a4",
   "metadata": {
    "lines_to_next_cell": 2
   },
   "outputs": [],
   "source": []
  },
  {
   "cell_type": "markdown",
   "id": "873b4e9c020dcb0b",
   "metadata": {
    "lang": "en"
   },
   "source": [
    "### Mini workshop\n",
    "\n",
    "Write a function `print_all(items: list)` that prints the elements of a\n",
    "list `items` to the screen, one item per line:\n",
    "\n",
    "```python\n",
    ">>> print_all([1, 2, 3])\n",
    "1\n",
    "2\n",
    "3\n",
    ">>>\n",
    "```\n",
    "What happens if you call the function with a string as an argument,\n",
    "e.g. `print_all(\"abc\")`"
   ]
  },
  {
   "cell_type": "code",
   "execution_count": null,
   "id": "00c3136ee332cd07",
   "metadata": {},
   "outputs": [],
   "source": []
  },
  {
   "cell_type": "code",
   "execution_count": null,
   "id": "edfcb8065a2861d7",
   "metadata": {},
   "outputs": [],
   "source": []
  },
  {
   "cell_type": "code",
   "execution_count": null,
   "id": "a8ac2b0c17e6dc8f",
   "metadata": {},
   "outputs": [],
   "source": []
  },
  {
   "cell_type": "markdown",
   "id": "1495b6899b067550",
   "metadata": {
    "lang": "en",
    "slideshow": {
     "slide_type": "subslide"
    }
   },
   "source": [
    "### Ranges"
   ]
  },
  {
   "cell_type": "code",
   "execution_count": null,
   "id": "c3a90d7e5a7d021b",
   "metadata": {
    "slideshow": {
     "slide_type": "subslide"
    }
   },
   "outputs": [],
   "source": []
  },
  {
   "cell_type": "code",
   "execution_count": null,
   "id": "7bd1e059ae9c162f",
   "metadata": {
    "lines_to_next_cell": 2
   },
   "outputs": [],
   "source": []
  },
  {
   "cell_type": "markdown",
   "id": "5b40a0c4d14c9e13",
   "metadata": {
    "lang": "en",
    "slideshow": {
     "slide_type": "subslide"
    }
   },
   "source": [
    "### Mini workshop\n",
    "\n",
    "Write a function `print_squares(n: int)` that prints the squares of the\n",
    "numbers from 1 to n, one element per line:\n",
    "\n",
    "```python\n",
    ">>>print_squares(3)\n",
    "1**2 = 1\n",
    "2**2 = 4\n",
    "3**2 = 9\n",
    ">>>\n",
    "```"
   ]
  },
  {
   "cell_type": "code",
   "execution_count": null,
   "id": "74b0d58e2c749913",
   "metadata": {},
   "outputs": [],
   "source": []
  },
  {
   "cell_type": "code",
   "execution_count": null,
   "id": "170db0a09936dfeb",
   "metadata": {},
   "outputs": [],
   "source": []
  },
  {
   "cell_type": "markdown",
   "id": "b3517b035b2b4979",
   "metadata": {
    "lang": "en",
    "slideshow": {
     "slide_type": "slide"
    }
   },
   "source": [
    "\n",
    "## Enumerating lists\n",
    "\n",
    "If you need both index and value of elements in a `for` loop, you can use the\n",
    "`enumerate()` function:"
   ]
  },
  {
   "cell_type": "code",
   "execution_count": null,
   "id": "249cc15ea40e22df",
   "metadata": {},
   "outputs": [],
   "source": []
  }
 ],
 "metadata": {},
 "nbformat": 4,
 "nbformat_minor": 5
}
