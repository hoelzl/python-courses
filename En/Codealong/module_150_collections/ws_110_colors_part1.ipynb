{
 "cells": [
  {
   "cell_type": "markdown",
   "id": "82bc4cdc443113de",
   "metadata": {
    "lang": "en",
    "slideshow": {
     "slide_type": "subslide"
    }
   },
   "source": [
    "\n",
    "## Mini-workshop: Colors (Part 1)\n",
    "\n",
    "- Define a variable `primary_colors` containing a list of the strings\n",
    " `\"red\"`, `\"green\"` and `\"blue\"`.\n",
    "- Define a variable `mixed_colors` containing a list of the strings\n",
    " `\"cyan\"`, `\"yellow\"`, and `\"magenta\"`."
   ]
  },
  {
   "cell_type": "code",
   "execution_count": null,
   "id": "534da14b3f188a46",
   "metadata": {
    "lang": "en"
   },
   "outputs": [],
   "source": []
  },
  {
   "cell_type": "code",
   "execution_count": null,
   "id": "4d9dbb93d24fc08f",
   "metadata": {
    "lang": "en",
    "lines_to_next_cell": 2
   },
   "outputs": [],
   "source": []
  },
  {
   "cell_type": "markdown",
   "id": "e49cb73abee40717",
   "metadata": {
    "lang": "en",
    "slideshow": {
     "slide_type": "subslide"
    }
   },
   "source": [
    "\n",
    "Create a list `colors` containing the elements of `primary_colors`\n",
    "followed by the elements of `mixed_colors`."
   ]
  },
  {
   "cell_type": "code",
   "execution_count": null,
   "id": "80a1ac0d9a75f8ad",
   "metadata": {
    "lang": "en"
   },
   "outputs": [],
   "source": []
  },
  {
   "cell_type": "markdown",
   "id": "5496dbed57d4939f",
   "metadata": {
    "lang": "en",
    "slideshow": {
     "slide_type": "subslide"
    }
   },
   "source": [
    "\n",
    "Create a list containing 15 times the number `1`."
   ]
  },
  {
   "cell_type": "code",
   "execution_count": null,
   "id": "f6a9888ff76ba4d7",
   "metadata": {
    "lines_to_next_cell": 2
   },
   "outputs": [],
   "source": []
  },
  {
   "cell_type": "markdown",
   "id": "02170f7b74112064",
   "metadata": {
    "lang": "en",
    "slideshow": {
     "slide_type": "subslide"
    }
   },
   "source": [
    "\n",
    "Create the list `[\"r\", \"g\", \"b\"]` from the string `\"rgb\"`."
   ]
  },
  {
   "cell_type": "code",
   "execution_count": null,
   "id": "fd7a1c346129d519",
   "metadata": {},
   "outputs": [],
   "source": []
  }
 ],
 "metadata": {},
 "nbformat": 4,
 "nbformat_minor": 5
}
