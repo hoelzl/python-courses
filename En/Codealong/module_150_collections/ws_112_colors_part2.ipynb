{
 "cells": [
  {
   "cell_type": "markdown",
   "id": "ee9410dfc4cfa357",
   "metadata": {
    "lang": "en",
    "slideshow": {
     "slide_type": "subslide"
    }
   },
   "source": [
    "\n",
    "## Mini-workshop: Color (Teil 2)\n",
    "\n",
    "Given the following lists:"
   ]
  },
  {
   "cell_type": "code",
   "execution_count": null,
   "id": "23f68cd3ccef2a45",
   "metadata": {
    "lang": "en",
    "tags": [
     "keep"
    ]
   },
   "outputs": [],
   "source": [
    "primary_colors = [\"red\", \"green\", \"blue\"]\n",
    "mixed_colors = [\"cyan\", \"yellow\"]\n",
    "colors = primary_colors + mixed_colors"
   ]
  },
  {
   "cell_type": "markdown",
   "id": "76c5c140e89d81bc",
   "metadata": {
    "lang": "en",
    "slideshow": {
     "slide_type": "subslide"
    }
   },
   "source": [
    "\n",
    "- Check if yellow is a primary color, i.e., if the string `\"yellow\"` is\n",
    "  contained in `colors`\n",
    "- Is green a primary color?"
   ]
  },
  {
   "cell_type": "code",
   "execution_count": null,
   "id": "5a106384a3b23798",
   "metadata": {
    "lang": "en"
   },
   "outputs": [],
   "source": []
  },
  {
   "cell_type": "code",
   "execution_count": null,
   "id": "3b045a698a29cafd",
   "metadata": {
    "lang": "en"
   },
   "outputs": [],
   "source": []
  },
  {
   "cell_type": "markdown",
   "id": "59067b554537b7ea",
   "metadata": {
    "lang": "en",
    "slideshow": {
     "slide_type": "subslide"
    }
   },
   "source": [
    "\n",
    "- How many elements does the list `primary_colors` have?\n",
    "- How many elements does the list `mixed_colors` have?"
   ]
  },
  {
   "cell_type": "code",
   "execution_count": null,
   "id": "f4b043f1b1406ed5",
   "metadata": {
    "lang": "en"
   },
   "outputs": [],
   "source": []
  },
  {
   "cell_type": "code",
   "execution_count": null,
   "id": "9c18ff507cd50fa1",
   "metadata": {
    "lang": "en",
    "lines_to_next_cell": 2
   },
   "outputs": [],
   "source": []
  },
  {
   "cell_type": "markdown",
   "id": "554f85b8b4532062",
   "metadata": {
    "lang": "en",
    "slideshow": {
     "slide_type": "subslide"
    }
   },
   "source": [
    "\n",
    "We forgot to include magenta in the mixed colors.\n",
    "\n",
    "- Check that the string `\"magenta\"` is not in `mixed_colors`.\n",
    "- Add `Magenta` to the mixed colors.\n",
    "- Check that the string `\"magenta\"` is now contained in `mixed_colors`.\n",
    "- How long is the list `mixed_colors` now?"
   ]
  },
  {
   "cell_type": "code",
   "execution_count": null,
   "id": "e12385706f76ea83",
   "metadata": {
    "lang": "en",
    "slideshow": {
     "slide_type": "subslide"
    }
   },
   "outputs": [],
   "source": []
  },
  {
   "cell_type": "code",
   "execution_count": null,
   "id": "7a63719747882d5f",
   "metadata": {
    "lang": "en"
   },
   "outputs": [],
   "source": []
  },
  {
   "cell_type": "code",
   "execution_count": null,
   "id": "a2994cda3001c6e4",
   "metadata": {
    "lang": "en"
   },
   "outputs": [],
   "source": []
  },
  {
   "cell_type": "code",
   "execution_count": null,
   "id": "a838ed10d0325582",
   "metadata": {
    "lang": "en"
   },
   "outputs": [],
   "source": []
  },
  {
   "cell_type": "markdown",
   "id": "054e386bd1b36944",
   "metadata": {
    "lang": "en",
    "slideshow": {
     "slide_type": "subslide"
    }
   },
   "source": [
    "- Change the first element in `colors` to `dark red`\n",
    "- What is the first element of `primary_colors` after this change?"
   ]
  },
  {
   "cell_type": "code",
   "execution_count": null,
   "id": "98844f10deacc0df",
   "metadata": {
    "lang": "en"
   },
   "outputs": [],
   "source": []
  },
  {
   "cell_type": "code",
   "execution_count": null,
   "id": "40467686ecab7d6a",
   "metadata": {
    "lang": "en"
   },
   "outputs": [],
   "source": []
  },
  {
   "cell_type": "markdown",
   "id": "87d8fdd3d89314b9",
   "metadata": {
    "lang": "en",
    "slideshow": {
     "slide_type": "subslide"
    }
   },
   "source": [
    "What is the third element of the list `colors`?"
   ]
  },
  {
   "cell_type": "code",
   "execution_count": null,
   "id": "52ec49014db0b407",
   "metadata": {
    "lang": "en"
   },
   "outputs": [],
   "source": []
  },
  {
   "cell_type": "markdown",
   "id": "d20c795898290b15",
   "metadata": {
    "lang": "en"
   },
   "source": [
    "Add `Purple` as the second item in the list `colors`."
   ]
  },
  {
   "cell_type": "code",
   "execution_count": null,
   "id": "fae464c04db984ba",
   "metadata": {
    "lang": "en"
   },
   "outputs": [],
   "source": []
  },
  {
   "cell_type": "markdown",
   "id": "f1d2d578917edab1",
   "metadata": {
    "lang": "en"
   },
   "source": [
    "What is now the third element of the list `colors`?"
   ]
  },
  {
   "cell_type": "code",
   "execution_count": null,
   "id": "7658712834f8e784",
   "metadata": {
    "lang": "en"
   },
   "outputs": [],
   "source": []
  },
  {
   "cell_type": "markdown",
   "id": "8154b0828dfe2761",
   "metadata": {
    "lang": "en",
    "slideshow": {
     "slide_type": "subslide"
    }
   },
   "source": [
    "Delete the second item of the `colors` list"
   ]
  },
  {
   "cell_type": "code",
   "execution_count": null,
   "id": "16e77fd695a357fd",
   "metadata": {
    "lang": "en"
   },
   "outputs": [],
   "source": []
  },
  {
   "cell_type": "markdown",
   "id": "a5da6f83487e5fe4",
   "metadata": {
    "lang": "en"
   },
   "source": [
    "\n",
    "Sort the list `colors`."
   ]
  },
  {
   "cell_type": "code",
   "execution_count": null,
   "id": "1b55175d6bec3d1d",
   "metadata": {
    "lang": "en"
   },
   "outputs": [],
   "source": []
  },
  {
   "cell_type": "markdown",
   "id": "bc1bd05c6f1ca45d",
   "metadata": {
    "lang": "en"
   },
   "source": [
    "What is now the first element of the list `colors`?"
   ]
  },
  {
   "cell_type": "code",
   "execution_count": null,
   "id": "5d857f33014f5b5c",
   "metadata": {
    "lang": "en"
   },
   "outputs": [],
   "source": []
  }
 ],
 "metadata": {},
 "nbformat": 4,
 "nbformat_minor": 5
}
