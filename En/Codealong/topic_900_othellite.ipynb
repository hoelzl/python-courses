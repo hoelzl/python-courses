{
 "cells": [
  {
   "cell_type": "markdown",
   "id": "b0de3759",
   "metadata": {
    "lang": "en",
    "lines_to_next_cell": 2,
    "slideshow": {
     "slide_type": "slide"
    }
   },
   "source": [
    "<img src=\"img/python-logo-notext.svg\"\n",
    "     style=\"display:block;margin:auto;width:10%\"/>\n",
    "<br>\n",
    "<div style=\"text-align:center; font-size:200%;\"><b>Case Study: Othellite</b></div>\n",
    "<br/>\n",
    "<div style=\"text-align:center;\">Dr. Matthias Hölzl</div>"
   ]
  },
  {
   "cell_type": "code",
   "execution_count": null,
   "id": "4611dba0",
   "metadata": {
    "tags": [
     "keep"
    ]
   },
   "outputs": [],
   "source": [
    "from collections.abc import Sequence\n",
    "from enum import Enum\n",
    "from dataclasses import dataclass, field\n",
    "import reprlib\n",
    "from typing import Union\n",
    "from random import sample\n",
    "\n",
    "try:\n",
    "    import numpy as np\n",
    "except ModuleNotFoundError:\n",
    "    print(\"NumPy not found, some (minor) examples may not work\")"
   ]
  },
  {
   "cell_type": "markdown",
   "id": "de575c05",
   "metadata": {
    "lang": "en"
   },
   "source": [
    "# Othellite\n",
    "\n",
    "In this notebook we want to implement a simplified variant of the game Reversi (also\n",
    "known under the trade name Othello). The game is\n",
    "played on a board with 8x8 squares, on which players\n",
    "can place black or white pieces. The exact rules are\n",
    "described [in the Wikipedia article](https://en.wikipedia.org/wiki/Reversi)."
   ]
  },
  {
   "cell_type": "markdown",
   "id": "0d173650",
   "metadata": {
    "lang": "en"
   },
   "source": [
    "We define an enumeration that returns a state describing a single field\n",
    "of the board:"
   ]
  },
  {
   "cell_type": "code",
   "execution_count": null,
   "id": "965cb739",
   "metadata": {},
   "outputs": [],
   "source": []
  },
  {
   "cell_type": "code",
   "execution_count": null,
   "id": "ddd76813",
   "metadata": {
    "lines_to_next_cell": 2,
    "tags": [
     "keep"
    ]
   },
   "outputs": [],
   "source": [
    "print(\"Fields:           \", list(Field))\n",
    "print(\"Empty field:      \", Field.DARK)\n",
    "print(\"Light field:      \", Field.LIGHT)\n",
    "print(\"Dark field:       \", Field.DARK)\n",
    "print(\"Light field value:\", Field.LIGHT.value)\n",
    "print(\"Light field name: \", Field.LIGHT.name)"
   ]
  },
  {
   "cell_type": "markdown",
   "id": "0f061121",
   "metadata": {
    "lang": "en"
   },
   "source": [
    "## Mini workshop\n",
    "\n",
    "Define a function `is_occupied(f: Field) -> bool`,\n",
    "which returns `True` if and only if `field` is not empty."
   ]
  },
  {
   "cell_type": "code",
   "execution_count": null,
   "id": "953fd034",
   "metadata": {
    "tags": [
     "keep"
    ]
   },
   "outputs": [],
   "source": [
    "def is_occupied(f: Field) -> bool:\n",
    "    return f is not Field.EMPTY"
   ]
  },
  {
   "cell_type": "code",
   "execution_count": null,
   "id": "736de0dd",
   "metadata": {
    "lines_to_next_cell": 2,
    "tags": [
     "keep"
    ]
   },
   "outputs": [],
   "source": [
    "assert is_occupied(Field.DARK)\n",
    "assert is_occupied(Field.LIGHT)\n",
    "assert not is_occupied(Field.EMPTY)"
   ]
  },
  {
   "cell_type": "markdown",
   "id": "a25db2e7",
   "metadata": {
    "lang": "en"
   },
   "source": [
    "## Mini workshop\n",
    "\n",
    "Define an enumeration `Player` which describes the players in analogy with the enumeration `Field`.\n",
    "Print out the possible values as well as value and name for a single enum value."
   ]
  },
  {
   "cell_type": "code",
   "execution_count": null,
   "id": "f77949c7",
   "metadata": {},
   "outputs": [],
   "source": []
  },
  {
   "cell_type": "code",
   "execution_count": null,
   "id": "2511c29f",
   "metadata": {},
   "outputs": [],
   "source": []
  },
  {
   "cell_type": "markdown",
   "id": "93c9f21b",
   "metadata": {
    "lang": "en"
   },
   "source": [
    "## Mini workshop\n",
    "\n",
    "Define a function\n",
    "`is_field_owned_by_opponent(p: Player, f: Field) -> bool`,\n",
    "which returns `True` if and only if the token on square `f` belongs to the opponen, i.e. if `f` is occupied and the token on `f` does not have the same color as the player.\n",
    "\n",
    "Verify that your implementation satisfies the specified assertions.\n",
    "\n",
    "Implement a corresponding method `is_field_owned_by_player()`."
   ]
  },
  {
   "cell_type": "code",
   "execution_count": null,
   "id": "88b1f4d2",
   "metadata": {},
   "outputs": [],
   "source": []
  },
  {
   "cell_type": "code",
   "execution_count": null,
   "id": "2f43058e",
   "metadata": {
    "tags": [
     "keep"
    ]
   },
   "outputs": [],
   "source": [
    "assert is_field_owned_by_opponent(Player.LIGHT, Field.DARK)\n",
    "assert is_field_owned_by_opponent(Player.DARK, Field.LIGHT)\n",
    "assert not is_field_owned_by_opponent(Player.DARK, Field.DARK)\n",
    "assert not is_field_owned_by_opponent(Player.DARK, Field.EMPTY)\n",
    "assert not is_field_owned_by_opponent(Player.LIGHT, Field.LIGHT)\n",
    "assert not is_field_owned_by_opponent(Player.LIGHT, Field.EMPTY)"
   ]
  },
  {
   "cell_type": "code",
   "execution_count": null,
   "id": "2012b1bc",
   "metadata": {},
   "outputs": [],
   "source": []
  },
  {
   "cell_type": "code",
   "execution_count": null,
   "id": "9ad0c0bd",
   "metadata": {
    "tags": [
     "keep"
    ]
   },
   "outputs": [],
   "source": [
    "assert is_field_owned_by_player(Player.LIGHT, Field.LIGHT)\n",
    "assert is_field_owned_by_player(Player.DARK, Field.DARK)\n",
    "assert not is_field_owned_by_player(Player.DARK, Field.LIGHT)\n",
    "assert not is_field_owned_by_player(Player.DARK, Field.EMPTY)\n",
    "assert not is_field_owned_by_player(Player.LIGHT, Field.DARK)\n",
    "assert not is_field_owned_by_player(Player.LIGHT, Field.EMPTY)"
   ]
  },
  {
   "cell_type": "markdown",
   "id": "92ea91de",
   "metadata": {
    "lang": "en"
   },
   "source": [
    "We want to go to the individual squares of an 8x8 playing field using a\n",
    "two-dimensional index value: `board[0, 0]` stands for the left one\n",
    "top panel, `board[0, 1]` for the panel to the right, etc.\n",
    "\n",
    "This is easy if we take a two-dimensional array as the underlying\n",
    "data structure, e.g. NumPy's `ndarray`. In this case\n",
    "let's just delegate `__getitem__()` and `__setitem__()` to the\n",
    "corresponding methods of the NumPy array.\n",
    "\n",
    "We initialize the middle 4 fields of the playing field with diagonal\n",
    "arranged stones."
   ]
  },
  {
   "cell_type": "code",
   "execution_count": null,
   "id": "85dbe136",
   "metadata": {},
   "outputs": [],
   "source": []
  },
  {
   "cell_type": "code",
   "execution_count": null,
   "id": "f5f21422",
   "metadata": {},
   "outputs": [],
   "source": []
  },
  {
   "cell_type": "markdown",
   "id": "d2456875",
   "metadata": {
    "lang": "en"
   },
   "source": [
    "Because the index is passed to the NumPy array,\n",
    "powerful access variants, such as slicing, are also available:"
   ]
  },
  {
   "cell_type": "code",
   "execution_count": null,
   "id": "241b3040",
   "metadata": {
    "lines_to_next_cell": 2,
    "tags": [
     "keep"
    ]
   },
   "outputs": [],
   "source": [
    "npb[0, 2:] = Field.DARK\n",
    "npb[1:3, 1:3] = Field.LIGHT\n",
    "print(npb)"
   ]
  },
  {
   "cell_type": "markdown",
   "id": "d5e08a4e",
   "metadata": {
    "lang": "en"
   },
   "source": [
    "## Mini workshop Compute Linear Index\n",
    "\n",
    "If we want to use a Python list as storage for the playing field,\n",
    "we need to convert two-dimensional index values into a one-dimensional index.\n",
    "\n",
    "We do this by calculating the value `r * 8 + c` for a position `(r, c)`.\n",
    "In the event that one of the indices is not `>= 0` and `< 8`, a\n",
    "appropriate exception are raised.\n",
    "\n",
    "Implement a function `compute_linear_index()` to do this task\n",
    "takes over."
   ]
  },
  {
   "cell_type": "code",
   "execution_count": null,
   "id": "76ddac25",
   "metadata": {
    "lines_to_next_cell": 2
   },
   "outputs": [],
   "source": []
  },
  {
   "cell_type": "markdown",
   "id": "6fca70a9",
   "metadata": {
    "lang": "en"
   },
   "source": [
    "## Mini workshop\n",
    "\n",
    "Implement a class `Board` representing an 8x8 Othellite board\n",
    "that stores the state of the board in a list.\n",
    "You can refer to the `NumPyBoard` class for implementation hints, and you can use `compute_linear_index` to calculate index values."
   ]
  },
  {
   "cell_type": "code",
   "execution_count": null,
   "id": "9586dbc1",
   "metadata": {},
   "outputs": [],
   "source": []
  },
  {
   "cell_type": "code",
   "execution_count": null,
   "id": "cc6611c1",
   "metadata": {},
   "outputs": [],
   "source": []
  },
  {
   "cell_type": "markdown",
   "id": "c37d8d43",
   "metadata": {
    "lang": "en"
   },
   "source": [
    "We define another enumeration for \"directions\". The\n",
    "Keys of the enumeration should be abbreviations for the compass directions (N,\n",
    "NE, E, ...). The value for movement in this direction\n",
    "should be the \"offset\" to move in that direction:\n",
    "\n",
    "- `(-1, 0)` for northbound movement,\n",
    "- `(0, 1)` for eastbound movement,\n",
    "- `(1, 0)` for a southbound movement,\n",
    "- `(0, -1)` for westbound movement,\n",
    "- `(-1, 1)` for a north-east movement,\n",
    "- `(1, 1)` for moving south-east,\n",
    "- `(-1, -1)` for moving north-west,\n",
    "- `(1, -1` for moving south-west.\n",
    "\n",
    "<!--\n",
    "We define yet another enumeration, this time for directions.\n",
    "The keys of this enumeration should be the compass directions (N, NE, E, ...),\n",
    "the values should be the (x, y) offset to move to this field in a\n",
    "right-handed coordinate system, i.e.,\n",
    "- `(-1, 0)` for moving north,\n",
    "- `(0, 1)` for moving east,\n",
    "- `(1, 0)` for moving south,\n",
    "- `(0, -1)` for moving west,\n",
    "- `(-1, 1)` for moving north-east,\n",
    "- `(1, 1)` for moving south-east,\n",
    "- `(-1, -1)` for moving north-west,\n",
    "- `(1, -1` for moving south-west.\n",
    "-->"
   ]
  },
  {
   "cell_type": "markdown",
   "id": "eef27608",
   "metadata": {
    "lang": "en"
   },
   "source": [
    "## Mini workshop\n",
    "\n",
    "Define an enumeration `Directions` as just described."
   ]
  },
  {
   "cell_type": "code",
   "execution_count": null,
   "id": "8a5d278d",
   "metadata": {},
   "outputs": [],
   "source": []
  },
  {
   "cell_type": "markdown",
   "id": "911df534",
   "metadata": {
    "lang": "en"
   },
   "source": [
    "It is possible with enumerations to use several keys for the same value\n",
    "to define (i.e. to give synonyms, so to speak).\n",
    "\n",
    "```python\n",
    "class Synonyms(enum):\n",
    "    DRINK = 0\n",
    "    BEVERAGE = 0\n",
    "    FOOD = 1\n",
    "    BIG = 2\n",
    "    LARGE = 2\n",
    "    SMALL = 3\n",
    "```"
   ]
  },
  {
   "cell_type": "code",
   "execution_count": null,
   "id": "7bd4fa9d",
   "metadata": {
    "lines_to_next_cell": 2,
    "tags": [
     "keep"
    ]
   },
   "outputs": [],
   "source": [
    "print(Synonyms.DRINK is Synonyms.BEVERAGE)\n",
    "print(Synonyms.DRINK is not Synonyms.FOOD)\n",
    "print(Synonyms.BIG is Synonyms.LARGE)\n",
    "print(Synonyms.BIG is not Synonyms.SMALL)"
   ]
  },
  {
   "cell_type": "markdown",
   "id": "f298d362",
   "metadata": {
    "lang": "en"
   },
   "source": [
    "Extend the enumeration `Directions` to include the full\n",
    "Names of the compass directions (`NORTH`, `NORTH_EAST`, ...)."
   ]
  },
  {
   "cell_type": "code",
   "execution_count": null,
   "id": "f6ea854a",
   "metadata": {},
   "outputs": [],
   "source": []
  },
  {
   "cell_type": "markdown",
   "id": "65cb78f7",
   "metadata": {
    "lang": "en"
   },
   "source": [
    "## Mini workshop\n",
    "\n",
    "Check that the abbreviations and the full names\n",
    "represent the same values."
   ]
  },
  {
   "cell_type": "code",
   "execution_count": null,
   "id": "0704d84c",
   "metadata": {},
   "outputs": [],
   "source": []
  },
  {
   "cell_type": "code",
   "execution_count": null,
   "id": "fc610987",
   "metadata": {},
   "outputs": [],
   "source": []
  },
  {
   "cell_type": "code",
   "execution_count": null,
   "id": "8719b292",
   "metadata": {
    "tags": [
     "keep"
    ]
   },
   "outputs": [],
   "source": [
    "Index = tuple[int, int]"
   ]
  },
  {
   "cell_type": "markdown",
   "id": "eaa68f43",
   "metadata": {
    "lang": "en"
   },
   "source": [
    "## Mini workshop\n",
    "\n",
    "Write a function `is_valid_index(index: index) -> bool`,\n",
    "which returns `True` if and only if `index` is a valid index for\n",
    "an Othellite board. Check if your\n",
    "Implementation satisfies the given assertions."
   ]
  },
  {
   "cell_type": "code",
   "execution_count": null,
   "id": "2ba0cd34",
   "metadata": {},
   "outputs": [],
   "source": []
  },
  {
   "cell_type": "code",
   "execution_count": null,
   "id": "8d95b992",
   "metadata": {
    "lines_to_next_cell": 2,
    "tags": [
     "keep"
    ]
   },
   "outputs": [],
   "source": [
    "assert is_valid_index((0, 7))\n",
    "assert not is_valid_index((8, 1))\n",
    "assert not is_valid_index((1, 8))\n",
    "assert not is_valid_index((6, -1))\n",
    "assert not is_valid_index((-2, 4))"
   ]
  },
  {
   "cell_type": "markdown",
   "id": "85181c05",
   "metadata": {
    "lang": "en"
   },
   "source": [
    "## Mini workshop\n",
    "\n",
    "Write a function\n",
    "`assert_valid_index(index: Index) -> None:` which throws an exception of\n",
    "type `IndexError` with an appropriate error message if `index`\n",
    "is not a valid index for an Othellite board. Check that the\n",
    "function does not throw an exception for correct arguments, but it does for\n",
    "different error cases."
   ]
  },
  {
   "cell_type": "code",
   "execution_count": null,
   "id": "691b5d2f",
   "metadata": {},
   "outputs": [],
   "source": []
  },
  {
   "cell_type": "code",
   "execution_count": null,
   "id": "26ec7744",
   "metadata": {},
   "outputs": [],
   "source": []
  },
  {
   "cell_type": "code",
   "execution_count": null,
   "id": "e12842b2",
   "metadata": {},
   "outputs": [],
   "source": []
  },
  {
   "cell_type": "code",
   "execution_count": null,
   "id": "e86ec783",
   "metadata": {
    "lines_to_next_cell": 2
   },
   "outputs": [],
   "source": []
  },
  {
   "cell_type": "markdown",
   "id": "1365ba82",
   "metadata": {
    "lang": "en"
   },
   "source": [
    "Write a function\n",
    "`next_index_in_direction(index: Index, direction: Direction)`,\n",
    "which returns two values ​​if `index` is a valid index:\n",
    "- the next index in direction `direction` and\n",
    "- `True` or `False` depending on whether the next index is valid or not.\n",
    "If `index` is not a valid index, an exception of type\n",
    "`IndexError` is thrown.\n",
    "\n",
    "*Note:* You can calculate the values to be added to the components of `index`\n",
    "using `d_row, d_column = direction.value`.\n",
    "\n",
    "Verify that your implementation satisfies the specified assertions."
   ]
  },
  {
   "cell_type": "code",
   "execution_count": null,
   "id": "00dcf961",
   "metadata": {},
   "outputs": [],
   "source": []
  },
  {
   "cell_type": "code",
   "execution_count": null,
   "id": "5bad486a",
   "metadata": {
    "tags": [
     "keep"
    ]
   },
   "outputs": [],
   "source": [
    "assert next_index_in_direction((0, 0), Direction.N) == ((-1, 0), False)\n",
    "assert next_index_in_direction((0, 0), Direction.NE) == ((-1, 1), False)\n",
    "assert next_index_in_direction((0, 0), Direction.E) == ((0, 1), True)\n",
    "assert next_index_in_direction((0, 0), Direction.SE) == ((1, 1), True)\n",
    "assert next_index_in_direction((0, 0), Direction.S) == ((1, 0), True)\n",
    "assert next_index_in_direction((0, 0), Direction.SW) == ((1, -1), False)\n",
    "assert next_index_in_direction((0, 0), Direction.W) == ((0, -1), False)\n",
    "assert next_index_in_direction((0, 0), Direction.NW) == ((-1, -1), False)"
   ]
  },
  {
   "cell_type": "code",
   "execution_count": null,
   "id": "7a7dcce6",
   "metadata": {
    "tags": [
     "keep"
    ]
   },
   "outputs": [],
   "source": [
    "assert next_index_in_direction((4, 5), Direction.N) == ((3, 5), True)\n",
    "assert next_index_in_direction((4, 5), Direction.NE) == ((3, 6), True)\n",
    "assert next_index_in_direction((4, 5), Direction.E) == ((4, 6), True)\n",
    "assert next_index_in_direction((4, 5), Direction.SE) == ((5, 6), True)\n",
    "assert next_index_in_direction((4, 5), Direction.S) == ((5, 5), True)\n",
    "assert next_index_in_direction((4, 5), Direction.SW) == ((5, 4), True)\n",
    "assert next_index_in_direction((4, 5), Direction.W) == ((4, 4), True)\n",
    "assert next_index_in_direction((4, 5), Direction.NW) == ((3, 4), True)"
   ]
  },
  {
   "cell_type": "code",
   "execution_count": null,
   "id": "391ca366",
   "metadata": {
    "tags": [
     "keep"
    ]
   },
   "outputs": [],
   "source": [
    "assert next_index_in_direction((7, 7), Direction.N) == ((6, 7), True)\n",
    "assert next_index_in_direction((7, 7), Direction.NE) == ((6, 8), False)\n",
    "assert next_index_in_direction((7, 7), Direction.E) == ((7, 8), False)\n",
    "assert next_index_in_direction((7, 7), Direction.SE) == ((8, 8), False)\n",
    "assert next_index_in_direction((7, 7), Direction.S) == ((8, 7), False)\n",
    "assert next_index_in_direction((7, 7), Direction.SW) == ((8, 6), False)\n",
    "assert next_index_in_direction((7, 7), Direction.W) == ((7, 6), True)\n",
    "assert next_index_in_direction((7, 7), Direction.NW) == ((6, 6), True)"
   ]
  },
  {
   "cell_type": "code",
   "execution_count": null,
   "id": "49a338aa",
   "metadata": {
    "tags": [
     "keep"
    ]
   },
   "outputs": [],
   "source": [
    "try:\n",
    "    next_index_in_direction((7, 8), Direction.S)\n",
    "except IndexError as err:\n",
    "    print(err)"
   ]
  },
  {
   "cell_type": "markdown",
   "id": "f0e12709",
   "metadata": {
    "lang": "en"
   },
   "source": [
    "We want to extend our `Board` class with a method\n",
    "\n",
    "```\n",
    "_fields_flipped_in_direction(self, p: Player, index: Index,\n",
    "                             d: Direction) -> set[Index]\n",
    "```\n",
    "\n",
    "which returns the indices of all fields that the player\n",
    "can flip starting from field `index` and moving in direction `d`."
   ]
  },
  {
   "cell_type": "code",
   "execution_count": null,
   "id": "7ced020c",
   "metadata": {},
   "outputs": [],
   "source": []
  },
  {
   "cell_type": "code",
   "execution_count": null,
   "id": "9651d882",
   "metadata": {
    "tags": [
     "keep"
    ]
   },
   "outputs": [],
   "source": [
    "assert _find_rightmost([True, False, True, False]) == 2\n",
    "assert _find_rightmost([False, False, False]) == 0"
   ]
  },
  {
   "cell_type": "code",
   "execution_count": null,
   "id": "cccbbb2c",
   "metadata": {},
   "outputs": [],
   "source": []
  },
  {
   "cell_type": "code",
   "execution_count": null,
   "id": "726e2917",
   "metadata": {
    "tags": [
     "keep"
    ]
   },
   "outputs": [],
   "source": [
    "def assert_flips_direction(player, index, directions):\n",
    "    board = Board()\n",
    "    board[index] = Field.LIGHT if player == Player.LIGHT else Field.DARK\n",
    "    print(f\"Player {player} at {index} flips {directions}.\")\n",
    "    print(board)\n",
    "\n",
    "    for d in set(Direction) - directions:\n",
    "        # noinspection PyProtectedMember\n",
    "        result = board._indices_to_flip_in_direction(player, index, d)\n",
    "        assert result == set(), f\"Fields flipped in {d} are not empty.\"\n",
    "\n",
    "    for d in directions:\n",
    "        # noinspection PyProtectedMember\n",
    "        result = board._indices_to_flip_in_direction(player, index, d)\n",
    "        assert result != set(), f\"Fields flipped in {d} are empty.\""
   ]
  },
  {
   "cell_type": "code",
   "execution_count": null,
   "id": "6d405666",
   "metadata": {
    "tags": [
     "keep"
    ]
   },
   "outputs": [],
   "source": [
    "assert_flips_direction(Player.LIGHT, (0, 0), set())\n",
    "assert_flips_direction(Player.LIGHT, (2, 3), {Direction.S})\n",
    "assert_flips_direction(Player.LIGHT, (3, 2), {Direction.E})\n",
    "assert_flips_direction(Player.LIGHT, (4, 5), {Direction.W})\n",
    "assert_flips_direction(Player.LIGHT, (5, 2), set())\n",
    "assert_flips_direction(Player.LIGHT, (5, 3), set())\n",
    "assert_flips_direction(Player.LIGHT, (5, 4), {Direction.N})\n",
    "assert_flips_direction(Player.LIGHT, (6, 4), set())"
   ]
  },
  {
   "cell_type": "code",
   "execution_count": null,
   "id": "75059d71",
   "metadata": {
    "tags": [
     "keep"
    ]
   },
   "outputs": [],
   "source": [
    "assert_flips_direction(Player.DARK, (0, 0), set())\n",
    "assert_flips_direction(Player.DARK, (2, 4), {Direction.S})\n",
    "assert_flips_direction(Player.DARK, (3, 5), {Direction.W})\n",
    "assert_flips_direction(Player.DARK, (4, 2), {Direction.E})\n",
    "assert_flips_direction(Player.DARK, (5, 2), set())\n",
    "assert_flips_direction(Player.DARK, (5, 3), {Direction.N})\n",
    "assert_flips_direction(Player.DARK, (5, 4), set())\n",
    "assert_flips_direction(Player.DARK, (6, 4), set())"
   ]
  },
  {
   "cell_type": "markdown",
   "id": "cd2f8b8c",
   "metadata": {
    "lang": "en"
   },
   "source": [
    "## Mini workshop\n",
    "\n",
    "Add a method to the `Board` class\n",
    "`is_valid_move(self, player: Player, index: Index) -> bool`\n",
    "which returns `True` if and only if `index` is a valid index for\n",
    "the player's next move.\n",
    "\n",
    "An index is valid if\n",
    "- It is not already occupied,\n",
    "- At least one of the opponent's stones is turned over by the move"
   ]
  },
  {
   "cell_type": "code",
   "execution_count": null,
   "id": "316ecbbc",
   "metadata": {},
   "outputs": [],
   "source": []
  },
  {
   "cell_type": "code",
   "execution_count": null,
   "id": "0c349dab",
   "metadata": {
    "tags": [
     "keep"
    ]
   },
   "outputs": [],
   "source": [
    "def assert_valid_moves(player, valid_indices):\n",
    "    board = Board()\n",
    "    for row in range(8):\n",
    "        for col in range(8):\n",
    "            index = (row, col)\n",
    "            result = board.is_valid_move(player, index)\n",
    "            if index in valid_indices:\n",
    "                assert result, f\"Index {index} should be valid.\"\n",
    "            else:\n",
    "                assert not result, f\"Index {index} is valid?\""
   ]
  },
  {
   "cell_type": "code",
   "execution_count": null,
   "id": "fcc5b055",
   "metadata": {
    "tags": [
     "keep"
    ]
   },
   "outputs": [],
   "source": [
    "print(Board())"
   ]
  },
  {
   "cell_type": "code",
   "execution_count": null,
   "id": "1ce9974b",
   "metadata": {
    "tags": [
     "keep"
    ]
   },
   "outputs": [],
   "source": [
    "valid_moves_for_light_player = {(2, 3), (3, 2), (4, 5), (5, 4)}\n",
    "assert_valid_moves(Player.LIGHT, valid_moves_for_light_player)"
   ]
  },
  {
   "cell_type": "code",
   "execution_count": null,
   "id": "e4877661",
   "metadata": {
    "tags": [
     "keep"
    ]
   },
   "outputs": [],
   "source": [
    "valid_move_for_dark_player = {(2, 4), (3, 5), (4, 2), (5, 3)}\n",
    "assert_valid_moves(Player.DARK, valid_move_for_dark_player)"
   ]
  },
  {
   "cell_type": "markdown",
   "id": "d49ed5e7",
   "metadata": {
    "lang": "en"
   },
   "source": [
    "## Mini workshop\n",
    "\n",
    "Add a method to the `Board` class\n",
    "`find_valid_moves(self, player: Player) -> set[Index]`,\n",
    "which returns all possible moves for the player `player`.\n",
    "\n",
    "*Note:* You can easily achieve this using *Generate and Test*:\n",
    "Generate all possible moves and then test for each move whether\n",
    "he is possible."
   ]
  },
  {
   "cell_type": "code",
   "execution_count": null,
   "id": "eba10597",
   "metadata": {},
   "outputs": [],
   "source": []
  },
  {
   "cell_type": "code",
   "execution_count": null,
   "id": "ef92d6c9",
   "metadata": {
    "lines_to_next_cell": 2,
    "tags": [
     "keep"
    ]
   },
   "outputs": [],
   "source": [
    "board = Board()\n",
    "assert board.find_valid_moves(Player.LIGHT) == valid_moves_for_light_player\n",
    "assert board.find_valid_moves(Player.DARK) == valid_move_for_dark_player"
   ]
  },
  {
   "cell_type": "markdown",
   "id": "98061bff",
   "metadata": {
    "lang": "en"
   },
   "source": [
    "## Mini workshop\n",
    "\n",
    "Write a method\n",
    "`play_move(self, player: Player, index: Index) -> None`,\n",
    "which executes the move from `player` to the field `index`.\n",
    "If the move is invalid, an exception should be thrown.\n",
    "If the move is valid, all fields flipped by the move should\n",
    "be set to the correct value.\n",
    "\n",
    "To do this, write appropriate helper methods so that `play_move` does not\n",
    "have too many responsibilities."
   ]
  },
  {
   "cell_type": "code",
   "execution_count": null,
   "id": "f14b5dd1",
   "metadata": {},
   "outputs": [],
   "source": []
  },
  {
   "cell_type": "code",
   "execution_count": null,
   "id": "517df0c7",
   "metadata": {
    "tags": [
     "keep"
    ]
   },
   "outputs": [],
   "source": [
    "def play_some_random_moves(n: int = 10):\n",
    "    board = Board()\n",
    "    player = Player.DARK\n",
    "    for _ in range(n):\n",
    "        print(board)\n",
    "        moves = board.find_valid_moves(player)\n",
    "        if moves:\n",
    "            move = sample(list(moves), 1)[0]\n",
    "            print(f\"Player {player} plays {move}.\")\n",
    "            board.play_move(player, move)\n",
    "        else:\n",
    "            print(f\"{player} has no more valid moves.\")\n",
    "        player = Player.LIGHT if player == Player.DARK else Player.DARK\n",
    "    print(board)"
   ]
  },
  {
   "cell_type": "code",
   "execution_count": null,
   "id": "f913757b",
   "metadata": {
    "tags": [
     "keep"
    ]
   },
   "outputs": [],
   "source": [
    "play_some_random_moves()"
   ]
  }
 ],
 "metadata": {
  "kernelspec": {
   "display_name": "Python 3 (ipykernel)",
   "language": "python",
   "name": "python3"
  }
 },
 "nbformat": 4,
 "nbformat_minor": 5
}
