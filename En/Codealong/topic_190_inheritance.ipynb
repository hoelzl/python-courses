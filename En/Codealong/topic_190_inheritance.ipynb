{
 "cells": [
  {
   "cell_type": "markdown",
   "id": "eda864e0",
   "metadata": {
    "lang": "en",
    "slideshow": {
     "slide_type": "slide"
    }
   },
   "source": [
    "<img src=\"img/python-logo-notext.svg\"\n",
    "     style=\"display:block;margin:auto;width:10%\"/>\n",
    "<br>\n",
    "<div style=\"text-align:center; font-size:200%;\"><b>Object orientation part 2: Inheritance</b></div>\n",
    "<br/>\n",
    "<div style=\"text-align:center;\">Dr. Matthias Hölzl</div>"
   ]
  },
  {
   "cell_type": "markdown",
   "id": "fb0e8d24",
   "metadata": {
    "lang": "en",
    "slideshow": {
     "slide_type": "slide"
    }
   },
   "source": [
    "# Object Orientation Part 2\n",
    "\n",
    " - In the previous lesson we got to know classes, one of the basic building blocks of object-oriented programming\n",
    " - In this chapter we will consider inheritance."
   ]
  },
  {
   "cell_type": "markdown",
   "id": "a6df02dd",
   "metadata": {
    "lang": "en",
    "slideshow": {
     "slide_type": "subslide"
    }
   },
   "source": [
    "## Inheritance"
   ]
  },
  {
   "cell_type": "code",
   "execution_count": null,
   "id": "42a60ec0",
   "metadata": {
    "tags": [
     "keep"
    ]
   },
   "outputs": [],
   "source": [
    "import random\n",
    "from typing import Tuple\n",
    "\n",
    "\n",
    "class Point:\n",
    "    def __init__(self, x=0, y=0):\n",
    "        self.x = x\n",
    "        self.y = y\n",
    "\n",
    "    def __repr__(self):\n",
    "        return f\"Point({self.x:.1f}, {self.y:.1f})\"\n",
    "\n",
    "    def move(self, dx=0, dy=0):\n",
    "        self.x += dx\n",
    "        self.y += dy\n",
    "\n",
    "    def randomize(self):\n",
    "        self.x = random.gauss(2, 4)\n",
    "        self.y = random.gauss(3, 2)"
   ]
  },
  {
   "cell_type": "code",
   "execution_count": null,
   "id": "dbd4c8e7",
   "metadata": {
    "tags": [
     "keep"
    ]
   },
   "outputs": [],
   "source": [
    "p = Point(0, 0)\n",
    "p"
   ]
  },
  {
   "cell_type": "code",
   "execution_count": null,
   "id": "cfa98628",
   "metadata": {
    "tags": [
     "keep"
    ]
   },
   "outputs": [],
   "source": [
    "assert p.x == 0.0\n",
    "assert p.y == 0.0"
   ]
  },
  {
   "cell_type": "code",
   "execution_count": null,
   "id": "d39e7b2a",
   "metadata": {
    "tags": [
     "keep"
    ]
   },
   "outputs": [],
   "source": [
    "p.move(2, 3)\n",
    "p"
   ]
  },
  {
   "cell_type": "code",
   "execution_count": null,
   "id": "ed4af3dd",
   "metadata": {
    "tags": [
     "keep"
    ]
   },
   "outputs": [],
   "source": [
    "assert p.x == 2.0\n",
    "assert p.y == 3.0"
   ]
  },
  {
   "cell_type": "code",
   "execution_count": null,
   "id": "57e09e7f",
   "metadata": {
    "tags": [
     "keep"
    ]
   },
   "outputs": [],
   "source": [
    "p.randomize()\n",
    "p"
   ]
  },
  {
   "cell_type": "markdown",
   "id": "dd7a627c",
   "metadata": {
    "lang": "en",
    "slideshow": {
     "slide_type": "subslide"
    }
   },
   "source": [
    "How can we introduce colored points without having to re-implement the entire functionality of `Point`?"
   ]
  },
  {
   "cell_type": "code",
   "execution_count": null,
   "id": "4bf830b6",
   "metadata": {},
   "outputs": [],
   "source": []
  },
  {
   "cell_type": "code",
   "execution_count": null,
   "id": "b4dbf0a2",
   "metadata": {
    "lines_to_next_cell": 2
   },
   "outputs": [],
   "source": []
  },
  {
   "cell_type": "code",
   "execution_count": null,
   "id": "06f4c1e4",
   "metadata": {},
   "outputs": [],
   "source": []
  },
  {
   "cell_type": "code",
   "execution_count": null,
   "id": "540c6c06",
   "metadata": {
    "lines_to_next_cell": 2
   },
   "outputs": [],
   "source": []
  },
  {
   "cell_type": "code",
   "execution_count": null,
   "id": "c959f6f1",
   "metadata": {},
   "outputs": [],
   "source": []
  },
  {
   "cell_type": "code",
   "execution_count": null,
   "id": "3f78889e",
   "metadata": {
    "lines_to_next_cell": 2
   },
   "outputs": [],
   "source": []
  },
  {
   "cell_type": "markdown",
   "id": "128fe3a2",
   "metadata": {
    "lang": "en",
    "slideshow": {
     "slide_type": "subslide"
    }
   },
   "source": [
    "## Mini workshop\n",
    "\n",
    " - Notebook `workshop_190_inheritance`\n",
    " - Section \"Inheritance\""
   ]
  },
  {
   "cell_type": "markdown",
   "id": "14857347",
   "metadata": {
    "lang": "en",
    "slideshow": {
     "slide_type": "slide"
    }
   },
   "source": [
    "## Abstract classes\n",
    "\n",
    "- Classes that cannot have direct instances\n",
    "- Have `abc.ABC` as base class\n",
    "    - (a metaclass is actually responsible for their behavior)\n",
    "- Allow use of the `@abstractmethod` decorator to define abstract methods\n",
    "    - Often the body of an abstract method is written as `...`\n",
    "- Abstract classes that have only abstract methods are called Interfaces\n",
    "    - Interfaces describe requirements placed on subclasses"
   ]
  },
  {
   "cell_type": "code",
   "execution_count": null,
   "id": "42c3223f",
   "metadata": {},
   "outputs": [],
   "source": []
  },
  {
   "cell_type": "code",
   "execution_count": null,
   "id": "8e9ec38c",
   "metadata": {
    "slideshow": {
     "slide_type": "subslide"
    }
   },
   "outputs": [],
   "source": []
  },
  {
   "cell_type": "code",
   "execution_count": null,
   "id": "f7dfb2ea",
   "metadata": {},
   "outputs": [],
   "source": []
  },
  {
   "cell_type": "code",
   "execution_count": null,
   "id": "c37dfd65",
   "metadata": {},
   "outputs": [],
   "source": []
  },
  {
   "cell_type": "markdown",
   "id": "8d7962f0",
   "metadata": {
    "lang": "en",
    "slideshow": {
     "slide_type": "subslide"
    }
   },
   "source": [
    "- Abstract methods can provide an implementation\n",
    "- Classes that inherit from an abstract class but do not override all abstract methods are themselves abstract."
   ]
  },
  {
   "cell_type": "code",
   "execution_count": null,
   "id": "ba15f4e5",
   "metadata": {},
   "outputs": [],
   "source": []
  },
  {
   "cell_type": "code",
   "execution_count": null,
   "id": "d4cc9bed",
   "metadata": {
    "lines_to_next_cell": 2
   },
   "outputs": [],
   "source": []
  },
  {
   "cell_type": "code",
   "execution_count": null,
   "id": "b6e93dfd",
   "metadata": {
    "lines_to_next_cell": 2
   },
   "outputs": [],
   "source": []
  },
  {
   "cell_type": "code",
   "execution_count": null,
   "id": "c4201bd9",
   "metadata": {},
   "outputs": [],
   "source": []
  },
  {
   "cell_type": "code",
   "execution_count": null,
   "id": "e1799ad3",
   "metadata": {
    "lines_to_next_cell": 2
   },
   "outputs": [],
   "source": []
  },
  {
   "cell_type": "markdown",
   "id": "92def057",
   "metadata": {
    "lang": "en"
   },
   "source": [
    "# Workshop\n",
    "\n",
    "See `workshop_950_rpg_dice` to `Factory for RPG Cubes`."
   ]
  },
  {
   "cell_type": "markdown",
   "id": "d20836eb",
   "metadata": {
    "lang": "en"
   },
   "source": [
    "## RPG dice\n",
    "\n",
    "In roleplaying games, conflicts between players are often decided by rolling\n",
    "dice, often multiple dice at the same time. Furthermore games often use\n",
    "not only the well known 6-sided dice, but also 4-sided, 8-sided, 20-sided dice, etc.\n",
    "\n",
    "The number and type of dice is described by the following notation:\n",
    "\n",
    "```text\n",
    "<number of dice> d <number of sides per die>\n",
    "```\n",
    "\n",
    "For example, rolling two 6-sided dice is described as `2d6`.\n",
    "Sometimes more complex formulas are used: `3d20 + 2d6 - 4`\n",
    "means that three 20-sided dice and two 6-sided dice are rolled\n",
    "at the same time, and the total sum of numbers is then reduced by 4.\n",
    "\n",
    "In some games, rolling the lowest or highest number of dice is treated\n",
    "in a special way (\"catastrophic failure\", \"critical success\").\n",
    "\n",
    "In the following exercise your task is to implement RPG dice in Python.\n",
    "To simplify testing your implementation it might be advisable\n",
    "to implement it in an IDE, but it is also possible to write tests as\n",
    "assertions in a jupyter notebook. \n",
    "\n",
    "Write tests for each functionality you implement. How can you deal with the\n",
    "randomness in dice rolling? What are the strengths and weaknesses of the strategy\n",
    "you have chosen to test?"
   ]
  },
  {
   "cell_type": "markdown",
   "id": "45f90f74",
   "metadata": {
    "lang": "en"
   },
   "source": [
    "# Protocols\n",
    "\n",
    "With protocols Python supports structural subtyping, i.e., the derivation of subtype relationships from the structure of classes (in contrast to nominal subtyping where the relationships have to be decalared via inheritance)."
   ]
  },
  {
   "cell_type": "code",
   "execution_count": null,
   "id": "826a6107",
   "metadata": {},
   "outputs": [],
   "source": []
  },
  {
   "cell_type": "code",
   "execution_count": null,
   "id": "3dca73fa",
   "metadata": {},
   "outputs": [],
   "source": []
  },
  {
   "cell_type": "code",
   "execution_count": null,
   "id": "8c95e225",
   "metadata": {},
   "outputs": [],
   "source": []
  },
  {
   "cell_type": "code",
   "execution_count": null,
   "id": "4b27882c",
   "metadata": {},
   "outputs": [],
   "source": []
  },
  {
   "cell_type": "code",
   "execution_count": null,
   "id": "240632f2",
   "metadata": {},
   "outputs": [],
   "source": []
  },
  {
   "cell_type": "code",
   "execution_count": null,
   "id": "f26aea8d",
   "metadata": {},
   "outputs": [],
   "source": []
  },
  {
   "cell_type": "code",
   "execution_count": null,
   "id": "2b33f5a1",
   "metadata": {},
   "outputs": [],
   "source": []
  },
  {
   "cell_type": "code",
   "execution_count": null,
   "id": "5ed5517c",
   "metadata": {},
   "outputs": [],
   "source": []
  },
  {
   "cell_type": "code",
   "execution_count": null,
   "id": "71b0f7b7",
   "metadata": {},
   "outputs": [],
   "source": []
  },
  {
   "cell_type": "code",
   "execution_count": null,
   "id": "68fe8afa",
   "metadata": {},
   "outputs": [],
   "source": []
  },
  {
   "cell_type": "code",
   "execution_count": null,
   "id": "3aa7020f",
   "metadata": {},
   "outputs": [],
   "source": []
  },
  {
   "cell_type": "code",
   "execution_count": null,
   "id": "bdd1d90e",
   "metadata": {},
   "outputs": [],
   "source": []
  },
  {
   "cell_type": "code",
   "execution_count": null,
   "id": "49978fba",
   "metadata": {},
   "outputs": [],
   "source": []
  },
  {
   "cell_type": "code",
   "execution_count": null,
   "id": "5d71aadb",
   "metadata": {},
   "outputs": [],
   "source": []
  },
  {
   "cell_type": "code",
   "execution_count": null,
   "id": "5d194788",
   "metadata": {},
   "outputs": [],
   "source": []
  },
  {
   "cell_type": "code",
   "execution_count": null,
   "id": "63b1d2cd",
   "metadata": {},
   "outputs": [],
   "source": []
  },
  {
   "cell_type": "code",
   "execution_count": null,
   "id": "44c1175a",
   "metadata": {},
   "outputs": [],
   "source": []
  },
  {
   "cell_type": "code",
   "execution_count": null,
   "id": "6d8f4b71",
   "metadata": {},
   "outputs": [],
   "source": []
  },
  {
   "cell_type": "code",
   "execution_count": null,
   "id": "136142b0",
   "metadata": {},
   "outputs": [],
   "source": []
  },
  {
   "cell_type": "code",
   "execution_count": null,
   "id": "57a555e8",
   "metadata": {},
   "outputs": [],
   "source": []
  },
  {
   "cell_type": "markdown",
   "id": "76b59db2",
   "metadata": {
    "lang": "en",
    "slideshow": {
     "slide_type": "subslide"
    }
   },
   "source": [
    "## Mini workshop\n",
    "\n",
    " - Notebook `workshop_190_inheritance`\n",
    " - Section \"Protocols\""
   ]
  },
  {
   "cell_type": "markdown",
   "id": "cf5797cd",
   "metadata": {
    "lang": "en"
   },
   "source": [
    "## Single dispatch functions\n",
    "\n",
    "Single dispatch functions allow \"methods\" to be defined outside of classes, i.e. one can define functions that are polymorphic in their first argument.\n",
    "\n",
    "This mechanism allows the flexible extension of already existing classes."
   ]
  },
  {
   "cell_type": "code",
   "execution_count": null,
   "id": "2a7769e9",
   "metadata": {},
   "outputs": [],
   "source": []
  },
  {
   "cell_type": "code",
   "execution_count": null,
   "id": "9d7b112d",
   "metadata": {},
   "outputs": [],
   "source": []
  },
  {
   "cell_type": "code",
   "execution_count": null,
   "id": "8dbff007",
   "metadata": {},
   "outputs": [],
   "source": []
  },
  {
   "cell_type": "code",
   "execution_count": null,
   "id": "b709588d",
   "metadata": {},
   "outputs": [],
   "source": []
  },
  {
   "cell_type": "code",
   "execution_count": null,
   "id": "1cb38080",
   "metadata": {},
   "outputs": [],
   "source": []
  },
  {
   "cell_type": "code",
   "execution_count": null,
   "id": "6b4882da",
   "metadata": {},
   "outputs": [],
   "source": []
  },
  {
   "cell_type": "code",
   "execution_count": null,
   "id": "6b804388",
   "metadata": {},
   "outputs": [],
   "source": []
  },
  {
   "cell_type": "markdown",
   "id": "05ccd988",
   "metadata": {
    "lang": "en",
    "slideshow": {
     "slide_type": "slide"
    }
   },
   "source": [
    "## Multiple inheritance"
   ]
  },
  {
   "cell_type": "code",
   "execution_count": null,
   "id": "78afaba6",
   "metadata": {
    "tags": [
     "keep"
    ]
   },
   "outputs": [],
   "source": [
    "class A:\n",
    "    \"\"\"Superclass of everything\"\"\"\n",
    "    def __init__(self, arg_a=\"arg_a\", **kwargs):\n",
    "        super().__init__(**kwargs)\n",
    "        print(f\"__init__(A, {arg_a})\")\n",
    "    \n",
    "    def f(self):\n",
    "        print(f\"f(A) on {self!r}\")\n",
    "\n",
    "    def g(self):\n",
    "        print(f\"g(A) on {self!r}\")"
   ]
  },
  {
   "cell_type": "code",
   "execution_count": null,
   "id": "5ddd9f77",
   "metadata": {
    "tags": [
     "keep"
    ]
   },
   "outputs": [],
   "source": [
    "class B(A):\n",
    "    def __init__(self, arg_b=\"arg_b\", **kwargs):\n",
    "        super().__init__(**kwargs)\n",
    "        print(f\"__init__(B, {arg_b})\")\n",
    "\n",
    "    def f(self):\n",
    "        print(f\"f(B) on {self!r}\")\n",
    "        super().f()\n",
    "\n",
    "    def g(self):\n",
    "        print(f\"g(B) on {self!r}\")\n",
    "        A.g(self)"
   ]
  },
  {
   "cell_type": "code",
   "execution_count": null,
   "id": "3cecce45",
   "metadata": {
    "tags": [
     "keep"
    ]
   },
   "outputs": [],
   "source": [
    "class C(A):\n",
    "    def __init__(self, arg_c=\"arg_c\", **kwargs):\n",
    "        super().__init__(**kwargs)\n",
    "        print(f\"__init__(C, {arg_c})\")\n",
    "    \n",
    "    def f(self):\n",
    "        print(f\"f(C) on {self!r}\")\n",
    "        super().f()\n",
    "\n",
    "    def g(self):\n",
    "        print(f\"g(C) on {self!r}\")\n",
    "        A.g(self)"
   ]
  },
  {
   "cell_type": "code",
   "execution_count": null,
   "id": "c4a4628c",
   "metadata": {
    "tags": [
     "keep"
    ]
   },
   "outputs": [],
   "source": [
    "class D(B, C):\n",
    "    def __init__(self, arg_d=\"arg_d\", **kwargs):\n",
    "        super().__init__(**kwargs)\n",
    "        print(f\"__init__(D, {arg_d})\")\n",
    "    \n",
    "    def f(self):\n",
    "        print(f\"f(D) on {self!r}\")\n",
    "        super().f()\n",
    "\n",
    "    def g(self):\n",
    "        print(f\"g(D) on {self!r}\")\n",
    "        B.g(self)\n",
    "        C.g(self)"
   ]
  },
  {
   "cell_type": "code",
   "execution_count": null,
   "id": "c6d51103",
   "metadata": {},
   "outputs": [],
   "source": []
  },
  {
   "cell_type": "code",
   "execution_count": null,
   "id": "f177e125",
   "metadata": {},
   "outputs": [],
   "source": []
  },
  {
   "cell_type": "code",
   "execution_count": null,
   "id": "37840c5f",
   "metadata": {},
   "outputs": [],
   "source": []
  },
  {
   "cell_type": "code",
   "execution_count": null,
   "id": "6e97d6a0",
   "metadata": {
    "tags": [
     "keep"
    ]
   },
   "outputs": [],
   "source": []
  }
 ],
 "metadata": {
  "kernelspec": {
   "display_name": "Python 3 (ipykernel)",
   "language": "python",
   "name": "python3"
  }
 },
 "nbformat": 4,
 "nbformat_minor": 5
}
