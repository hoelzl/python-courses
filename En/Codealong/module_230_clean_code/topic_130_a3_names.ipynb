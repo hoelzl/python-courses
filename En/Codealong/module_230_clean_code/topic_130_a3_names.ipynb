{
 "cells": [
  {
   "cell_type": "markdown",
   "id": "70f261dbd37aa4a2",
   "metadata": {
    "lang": "en",
    "slideshow": {
     "slide_type": "slide"
    }
   },
   "source": [
    "<img src=\"../../img/python-logo-no-text.svg\"\n",
    "     style=\"display:block;margin:auto;width:10%\"/>\n",
    "<br>\n",
    "<div style=\"text-align:center; font-size:200%;\">\n",
    "  <b>Clean Code: Names</b>\n",
    "</div>\n",
    "<br/>\n",
    "<div style=\"text-align:center;\">Dr. Matthias Hölzl</div>\n",
    "<br/>\n",
    "<div style=\"text-align:center;\">module_230_clean_code/topic_130_a3_names</div>"
   ]
  },
  {
   "cell_type": "markdown",
   "id": "087c5c435da5496d",
   "metadata": {
    "lang": "en",
    "slideshow": {
     "slide_type": "slide"
    }
   },
   "source": [
    "\n",
    "# Clean Code: Names\n",
    "\n",
    "Never underestimate the power of names!"
   ]
  },
  {
   "cell_type": "markdown",
   "id": "8468cb62ef1a950e",
   "metadata": {
    "lang": "en",
    "slideshow": {
     "slide_type": "subslide"
    }
   },
   "source": [
    "\n",
    "Names are a powerful tool for communication\n",
    "- They are everywhere in the program\n",
    "- They tie code to domain concepts"
   ]
  },
  {
   "cell_type": "code",
   "execution_count": null,
   "id": "4c61cb68f57f2291",
   "metadata": {
    "tags": [
     "keep"
    ]
   },
   "outputs": [],
   "source": [
    "def foo(a: float, b: float) -> float:\n",
    "    if b > 40.0:\n",
    "        raise ValueError(\"Not allowed!\")\n",
    "    return 40.0 * a + 60.0 * b"
   ]
  },
  {
   "cell_type": "code",
   "execution_count": null,
   "id": "ff614090c2344c53",
   "metadata": {},
   "outputs": [],
   "source": []
  },
  {
   "cell_type": "code",
   "execution_count": null,
   "id": "acff40527cd622eb",
   "metadata": {
    "slideshow": {
     "slide_type": "subslide"
    }
   },
   "outputs": [],
   "source": []
  },
  {
   "cell_type": "code",
   "execution_count": null,
   "id": "72568a2d517baf08",
   "metadata": {},
   "outputs": [],
   "source": []
  },
  {
   "cell_type": "code",
   "execution_count": null,
   "id": "0266d04f09bc50ef",
   "metadata": {
    "slideshow": {
     "slide_type": "subslide"
    }
   },
   "outputs": [],
   "source": []
  },
  {
   "cell_type": "code",
   "execution_count": null,
   "id": "2192bef8697ea2ec",
   "metadata": {},
   "outputs": [],
   "source": []
  },
  {
   "cell_type": "code",
   "execution_count": null,
   "id": "3bdd0cc1f45ef767",
   "metadata": {},
   "outputs": [],
   "source": []
  },
  {
   "cell_type": "code",
   "execution_count": null,
   "id": "aebfe8d095879cdd",
   "metadata": {
    "lines_to_next_cell": 2,
    "slideshow": {
     "slide_type": "subslide"
    },
    "tags": [
     "keep"
    ]
   },
   "outputs": [],
   "source": [
    "from dataclasses import field, dataclass  # noqa: E402\n",
    "\n",
    "\n",
    "@dataclass\n",
    "class BadNames:\n",
    "    the_list: list = field(default_factory=list)\n",
    "\n",
    "    def get_them(self):\n",
    "        list1 = []\n",
    "        for x in self.the_list:\n",
    "            if x[0] == 1:\n",
    "                list1.append(x)\n",
    "        return list1"
   ]
  },
  {
   "cell_type": "code",
   "execution_count": null,
   "id": "05cb6a244a7344b4",
   "metadata": {
    "slideshow": {
     "slide_type": "subslide"
    },
    "tags": [
     "keep"
    ]
   },
   "outputs": [],
   "source": [
    "from enum import IntEnum  # noqa: E402\n",
    "\n",
    "\n",
    "class Status(IntEnum):\n",
    "    FLAGGED = 1\n",
    "    UNFLAGGED = 2"
   ]
  },
  {
   "cell_type": "code",
   "execution_count": null,
   "id": "883040ab03e490be",
   "metadata": {
    "slideshow": {
     "slide_type": "subslide"
    },
    "tags": [
     "keep"
    ]
   },
   "outputs": [],
   "source": [
    "@dataclass\n",
    "class Cell:\n",
    "    index: int\n",
    "    status: Status = Status.UNFLAGGED\n",
    "    bomb_count: int = 0"
   ]
  },
  {
   "cell_type": "code",
   "execution_count": null,
   "id": "9d65b563d326b13a",
   "metadata": {
    "slideshow": {
     "slide_type": "subslide"
    },
    "tags": [
     "keep"
    ]
   },
   "outputs": [],
   "source": [
    "Board = list[Cell]\n",
    "\n",
    "\n",
    "def make_board(size=64) -> Board:\n",
    "    return [Cell(index) for index in range(size)]"
   ]
  },
  {
   "cell_type": "code",
   "execution_count": null,
   "id": "d05bf37394d156a9",
   "metadata": {
    "lines_to_next_cell": 2,
    "slideshow": {
     "slide_type": "subslide"
    },
    "tags": [
     "keep"
    ]
   },
   "outputs": [],
   "source": [
    "@dataclass\n",
    "class MineSweeper:\n",
    "    board: Board = field(default_factory=make_board)\n",
    "\n",
    "    def get_flagged_cells(self):\n",
    "        \"\"\"Return all flagged cells.\n",
    "\n",
    "        >>> game = MineSweeper()\n",
    "        >>> game.board[2].status = Status.FLAGGED\n",
    "        >>> game.get_flagged_cells()\n",
    "        [Cell(index=2, status=<Status.FLAGGED: 1>, bomb_count=0)]\n",
    "        \"\"\"\n",
    "        return [cell for cell in self.board if cell.status == Status.FLAGGED]"
   ]
  },
  {
   "cell_type": "markdown",
   "id": "8d48209b4f52b3a4",
   "metadata": {
    "lang": "en",
    "slideshow": {
     "slide_type": "subslide"
    }
   },
   "source": [
    "\n",
    "The test included in the documentation can be executed with the command\n",
    "\n",
    "```shell\n",
    "$ pytest --doctest-modules topic_130_a3_names.py\n",
    "```\n",
    "\n",
    "if the notebook is exported as a Python file."
   ]
  },
  {
   "cell_type": "markdown",
   "id": "a91adf719613ccc5",
   "metadata": {
    "lang": "en",
    "lines_to_next_cell": 2,
    "slideshow": {
     "slide_type": "slide"
    }
   },
   "source": [
    "\n",
    "## How to find good names?\n",
    "\n",
    "- Select for expressivity, not convenience\n",
    "- Use names that say what they mean and mean what they say\n",
    "  - Otherwise, maintenance becomes much harder...\n",
    "  - ... and most of the costs of software come from maintenance"
   ]
  },
  {
   "cell_type": "markdown",
   "id": "3132862bb75261e6",
   "metadata": {
    "lang": "en",
    "slideshow": {
     "slide_type": "subslide"
    }
   },
   "source": [
    "\n",
    "## What is a good name?\n",
    "\n",
    "- Answers\n",
    "  - Why does this exist?\n",
    "  - What does it do?\n",
    "  - How is it used?\n",
    "- Is intention-revealing (communicates)\n",
    "- (Is generally not easy to find)"
   ]
  },
  {
   "cell_type": "markdown",
   "id": "fb5620bb5d10bc58",
   "metadata": {
    "lang": "en",
    "slideshow": {
     "slide_type": "subslide"
    }
   },
   "source": [
    "\n",
    "## What is a bad name?\n",
    "\n",
    "- Needs a comment\n",
    "- Can only be understood by looking at the code\n",
    "- Provides disinformation\n",
    "- Does not conform to naming rules"
   ]
  },
  {
   "cell_type": "markdown",
   "id": "3d9f938ad63195c8",
   "metadata": {
    "lang": "en",
    "slideshow": {
     "slide_type": "subslide"
    }
   },
   "source": [
    "\n",
    "## Clean Code naming rules\n",
    "\n",
    "Good names\n",
    "\n",
    "- are self-explanatory\n",
    "- are intention-revealing\n",
    "- are pronounceable and searchable\n",
    "- describe problem, not implementation\n",
    "- avoid disinformation and make meaningful distinction\n",
    "- avoid encodings (Hungarian notation)\n",
    "- use the correct part of speech\n",
    "- use scope-length rules"
   ]
  },
  {
   "cell_type": "markdown",
   "id": "960063d7a8fad75d",
   "metadata": {
    "lang": "en",
    "slideshow": {
     "slide_type": "subslide"
    }
   },
   "source": [
    "\n",
    "## Python naming rules\n",
    "\n",
    "- Names follow the [conventions of\n",
    "  [PEP-8](https://peps.python.org/pep-0008/#naming-conventions)"
   ]
  },
  {
   "cell_type": "markdown",
   "id": "727a4eeee07a3c36",
   "metadata": {
    "lang": "en",
    "slideshow": {
     "slide_type": "subslide"
    }
   },
   "source": [
    "\n",
    "## Self-explanatory names"
   ]
  },
  {
   "cell_type": "code",
   "execution_count": null,
   "id": "4866d8c7cbf0480b",
   "metadata": {
    "tags": [
     "keep"
    ]
   },
   "outputs": [],
   "source": [
    "# Elapsed time in days\n",
    "d = 0"
   ]
  },
  {
   "cell_type": "code",
   "execution_count": null,
   "id": "fd1ee92e920b82ca",
   "metadata": {},
   "outputs": [],
   "source": []
  },
  {
   "cell_type": "markdown",
   "id": "e1fd8ea572334f0a",
   "metadata": {
    "lang": "en",
    "slideshow": {
     "slide_type": "subslide"
    }
   },
   "source": [
    "\n",
    "## Intention-revealing names\n",
    "\n",
    "Reflect intention, behavior, reason for existence"
   ]
  },
  {
   "cell_type": "code",
   "execution_count": null,
   "id": "807843fb3eedfd19",
   "metadata": {
    "lines_to_next_cell": 2,
    "tags": [
     "keep"
    ]
   },
   "outputs": [],
   "source": [
    "my_list = [31, 28, 31, 30, 31, 30, 31, 31, 30, 31, 30, 31]"
   ]
  },
  {
   "cell_type": "code",
   "execution_count": null,
   "id": "f5cdd0026bb85330",
   "metadata": {
    "tags": [
     "keep"
    ]
   },
   "outputs": [],
   "source": [
    "dpm_lst = [31, 28, 31, 30, 31, 30, 31, 31, 30, 31, 30, 31]"
   ]
  },
  {
   "cell_type": "code",
   "execution_count": null,
   "id": "644db85f91f98e98",
   "metadata": {},
   "outputs": [],
   "source": []
  },
  {
   "cell_type": "markdown",
   "id": "9494a76b23a698eb",
   "metadata": {
    "lang": "en",
    "slideshow": {
     "slide_type": "subslide"
    }
   },
   "source": [
    "\n",
    "## Pronounceable and searchable names"
   ]
  },
  {
   "cell_type": "code",
   "execution_count": null,
   "id": "d2497e2b3e5828ce",
   "metadata": {
    "tags": [
     "keep"
    ]
   },
   "outputs": [],
   "source": [
    "hw_crsr_pxy = [0, 0]"
   ]
  },
  {
   "cell_type": "code",
   "execution_count": null,
   "id": "bcedbc3e89dc88c3",
   "metadata": {},
   "outputs": [],
   "source": []
  },
  {
   "cell_type": "markdown",
   "id": "1aaa3c352b6f8545",
   "metadata": {
    "lang": "en",
    "lines_to_next_cell": 2,
    "slideshow": {
     "slide_type": "subslide"
    }
   },
   "source": [
    "\n",
    "## Describe problem, not implementation\n",
    "\n",
    "Avoid names that refer to implementation details:\n",
    "- They don’t reveal why the code was written the way it is written\n",
    "- But communicating intentions is your highest priority!"
   ]
  },
  {
   "cell_type": "code",
   "execution_count": null,
   "id": "76c6fd7b9c3ff167",
   "metadata": {
    "slideshow": {
     "slide_type": "subslide"
    },
    "tags": [
     "keep"
    ]
   },
   "outputs": [],
   "source": [
    "def add_elements(lst):\n",
    "    return sum(lst)"
   ]
  },
  {
   "cell_type": "code",
   "execution_count": null,
   "id": "7d525c33b12a36b3",
   "metadata": {
    "tags": [
     "keep"
    ]
   },
   "outputs": [],
   "source": [
    "add_elements(days_per_month)  # Seems reasonable"
   ]
  },
  {
   "cell_type": "code",
   "execution_count": null,
   "id": "83f08fcbf341dc16",
   "metadata": {},
   "outputs": [],
   "source": []
  },
  {
   "cell_type": "code",
   "execution_count": null,
   "id": "58dac80fa0f68d6f",
   "metadata": {},
   "outputs": [],
   "source": []
  },
  {
   "cell_type": "markdown",
   "id": "fe92e3806c1ccab6",
   "metadata": {
    "lang": "en",
    "slideshow": {
     "slide_type": "subslide"
    }
   },
   "source": [
    "\n",
    "## Avoiding disinformation and making meaningful distinctions\n",
    "\n",
    "- Names mean something\n",
    "- Disinformation:\n",
    "  - The name's meaning implies something different than its program code:"
   ]
  },
  {
   "cell_type": "code",
   "execution_count": null,
   "id": "9b3b4c87b131156f",
   "metadata": {},
   "outputs": [],
   "source": []
  },
  {
   "cell_type": "code",
   "execution_count": null,
   "id": "42f4eb71d51bdc67",
   "metadata": {
    "slideshow": {
     "slide_type": "subslide"
    },
    "tags": [
     "keep"
    ]
   },
   "outputs": [],
   "source": [
    "from typing import NamedTuple  # noqa: E402"
   ]
  },
  {
   "cell_type": "code",
   "execution_count": null,
   "id": "632c291b43e5ac7e",
   "metadata": {
    "tags": [
     "keep"
    ]
   },
   "outputs": [],
   "source": [
    "class Pair(NamedTuple):\n",
    "    first: int\n",
    "    second: int\n",
    "    third: int"
   ]
  },
  {
   "cell_type": "code",
   "execution_count": null,
   "id": "b28f90f55ae36d67",
   "metadata": {
    "lines_to_next_cell": 2
   },
   "outputs": [],
   "source": []
  },
  {
   "cell_type": "markdown",
   "id": "f57218952d18291a",
   "metadata": {
    "lang": "en",
    "lines_to_next_cell": 2,
    "slideshow": {
     "slide_type": "subslide"
    }
   },
   "source": [
    "\n",
    "## Rules to avoid disinformation\n",
    "\n",
    "- Avoid platform names sco, aix, nt\n",
    "  - Often feature checks are better\n",
    "- Don't include a type in a variable name if the variable is not of that type\n",
    "  - Mostly: Don't include a type in a variable name at all"
   ]
  },
  {
   "cell_type": "code",
   "execution_count": null,
   "id": "f825390d747eea5c",
   "metadata": {
    "tags": [
     "keep"
    ]
   },
   "outputs": [],
   "source": [
    "vector_of_cards: int = 0"
   ]
  },
  {
   "cell_type": "code",
   "execution_count": null,
   "id": "f8200c28cc4f9e9b",
   "metadata": {},
   "outputs": [],
   "source": []
  },
  {
   "cell_type": "code",
   "execution_count": null,
   "id": "33684b267b851ce3",
   "metadata": {
    "lines_to_next_cell": 2
   },
   "outputs": [],
   "source": []
  },
  {
   "cell_type": "markdown",
   "id": "771d5d93a4806c26",
   "metadata": {
    "lang": "en",
    "lines_to_next_cell": 2,
    "slideshow": {
     "slide_type": "subslide"
    }
   },
   "source": [
    "\n",
    "## Rules to avoid disinformation\n",
    "\n",
    "- Be careful with names that differ only slightly"
   ]
  },
  {
   "cell_type": "code",
   "execution_count": null,
   "id": "47fc6837e380f39a",
   "metadata": {
    "tags": [
     "keep"
    ]
   },
   "outputs": [],
   "source": [
    "is_melee_defence_available = True\n",
    "is_melee_defense_available = False\n",
    "\n",
    "print(is_melee_defence_available == is_melee_defense_available)  # Oops..."
   ]
  },
  {
   "cell_type": "markdown",
   "id": "993441527b9a1a19",
   "metadata": {
    "lang": "en",
    "slideshow": {
     "slide_type": "subslide"
    }
   },
   "source": [
    "\n",
    "## Rules to avoid disinformation\n",
    "\n",
    "- Use names that mean something"
   ]
  },
  {
   "cell_type": "code",
   "execution_count": null,
   "id": "34a4f6a519e5e16e",
   "metadata": {
    "tags": [
     "keep"
    ]
   },
   "outputs": [],
   "source": [
    "foobar = 0\n",
    "bar = 1"
   ]
  },
  {
   "cell_type": "code",
   "execution_count": null,
   "id": "c5a77a51235bef1f",
   "metadata": {
    "lines_to_next_cell": 2
   },
   "outputs": [],
   "source": []
  },
  {
   "cell_type": "markdown",
   "id": "9e85f6f25a93239e",
   "metadata": {
    "lang": "en",
    "slideshow": {
     "slide_type": "subslide"
    }
   },
   "source": [
    "\n",
    "## Rules to avoid disinformation\n",
    "\n",
    "- Be consistent when naming"
   ]
  },
  {
   "cell_type": "code",
   "execution_count": null,
   "id": "4c17fb4eea8c5b6f",
   "metadata": {
    "tags": [
     "keep"
    ]
   },
   "outputs": [],
   "source": [
    "number_of_objects = 10\n",
    "num_buyers = 12\n",
    "n_transactions = 2"
   ]
  },
  {
   "cell_type": "code",
   "execution_count": null,
   "id": "751389c8564d25c7",
   "metadata": {},
   "outputs": [],
   "source": []
  },
  {
   "cell_type": "code",
   "execution_count": null,
   "id": "dd790cd44be8c016",
   "metadata": {
    "lines_to_next_cell": 2
   },
   "outputs": [],
   "source": []
  },
  {
   "cell_type": "markdown",
   "id": "66338b7e6df1d0fd",
   "metadata": {
    "lang": "en",
    "slideshow": {
     "slide_type": "subslide"
    }
   },
   "source": [
    "\n",
    "## Meaningful distinctions\n",
    "\n",
    "- Use names that express the meaning of concepts as clearly as possible"
   ]
  },
  {
   "cell_type": "code",
   "execution_count": null,
   "id": "7fe98c61d90efa0a",
   "metadata": {
    "tags": [
     "keep"
    ]
   },
   "outputs": [],
   "source": [
    "a1 = \"Fluffy\"\n",
    "a2 = \"Garfield\""
   ]
  },
  {
   "cell_type": "code",
   "execution_count": null,
   "id": "276618bdfedb784d",
   "metadata": {},
   "outputs": [],
   "source": []
  },
  {
   "cell_type": "code",
   "execution_count": null,
   "id": "de155fb4dedf8d41",
   "metadata": {
    "slideshow": {
     "slide_type": "subslide"
    },
    "tags": [
     "keep"
    ]
   },
   "outputs": [],
   "source": [
    "INCLUDE_NONE = 0\n",
    "INCLUDE_FIRST = 1\n",
    "INCLUDE_SECOND = 2\n",
    "INCLUDE_BOTH = 3"
   ]
  },
  {
   "cell_type": "code",
   "execution_count": null,
   "id": "022e9b0746178a8b",
   "metadata": {},
   "outputs": [],
   "source": []
  },
  {
   "cell_type": "code",
   "execution_count": null,
   "id": "fb308d228763982c",
   "metadata": {
    "lines_to_next_cell": 2
   },
   "outputs": [],
   "source": []
  },
  {
   "cell_type": "markdown",
   "id": "75f12fe5dfc93ceb",
   "metadata": {
    "lang": "en",
    "slideshow": {
     "slide_type": "subslide"
    }
   },
   "source": [
    "\n",
    "## Meaningful distinctions\n",
    "\n",
    "- Use the same name for the same concept"
   ]
  },
  {
   "cell_type": "code",
   "execution_count": null,
   "id": "a4552aaca1f695c7",
   "metadata": {
    "lines_to_next_cell": 2,
    "slideshow": {
     "slide_type": "subslide"
    },
    "tags": [
     "keep"
    ]
   },
   "outputs": [],
   "source": [
    "from pathlib import Path  # noqa: E402"
   ]
  },
  {
   "cell_type": "code",
   "execution_count": null,
   "id": "1f25492aa9d2083f",
   "metadata": {
    "tags": [
     "keep"
    ]
   },
   "outputs": [],
   "source": [
    "my_path = Path.home()\n",
    "your_dir = Path.home()\n",
    "file_loc = Path.home()"
   ]
  },
  {
   "cell_type": "code",
   "execution_count": null,
   "id": "ef272ce360f99ac8",
   "metadata": {},
   "outputs": [],
   "source": []
  },
  {
   "cell_type": "code",
   "execution_count": null,
   "id": "56024aa9d3ac262f",
   "metadata": {},
   "outputs": [],
   "source": []
  },
  {
   "cell_type": "markdown",
   "id": "d0f14151d5167685",
   "metadata": {
    "lang": "en",
    "slideshow": {
     "slide_type": "subslide"
    }
   },
   "source": [
    "\n",
    "## Meaningful distinctions\n",
    "\n",
    "- Use clearly different names for different concepts"
   ]
  },
  {
   "cell_type": "code",
   "execution_count": null,
   "id": "54e38c89a47d0d97",
   "metadata": {
    "tags": [
     "keep"
    ]
   },
   "outputs": [],
   "source": [
    "MY_CONTROLLER_FOR_EFFICIENT_HANDLING_OF_STRINGS = 1\n",
    "MY_CONTROLLER_FOR_EFFICIENT_STORING_OF_STRINGS = 2"
   ]
  },
  {
   "cell_type": "code",
   "execution_count": null,
   "id": "d7236d36fb3c2fb4",
   "metadata": {},
   "outputs": [],
   "source": []
  },
  {
   "cell_type": "code",
   "execution_count": null,
   "id": "a851c35f2f69b286",
   "metadata": {
    "lines_to_next_cell": 2
   },
   "outputs": [],
   "source": []
  },
  {
   "cell_type": "markdown",
   "id": "7e98391ae7c68bc3",
   "metadata": {
    "lang": "en",
    "lines_to_next_cell": 2,
    "slideshow": {
     "slide_type": "subslide"
    }
   },
   "source": [
    "## Mini workshop: Names\n",
    "\n",
    "The following program uses very bad names. Change the names so that they\n",
    "follow the PEP-8 conventions and the rules for good names."
   ]
  },
  {
   "cell_type": "code",
   "execution_count": null,
   "id": "b3f4161a8cdd1c28",
   "metadata": {
    "tags": [
     "keep"
    ]
   },
   "outputs": [],
   "source": [
    "from dataclasses import dataclass, field  # noqa: 402"
   ]
  },
  {
   "cell_type": "code",
   "execution_count": null,
   "id": "61bb1d9e8e205621",
   "metadata": {
    "tags": [
     "keep"
    ]
   },
   "outputs": [],
   "source": [
    "# Class representing Line Items:\n",
    "@dataclass\n",
    "class LI:\n",
    "    # number of items\n",
    "    X: int\n",
    "    # description of the items\n",
    "    ChrLst: str\n",
    "    # price per item\n",
    "    Y: float\n",
    "\n",
    "    # compute the total price\n",
    "    def foo(self):\n",
    "        return self.X * self.Y"
   ]
  },
  {
   "cell_type": "code",
   "execution_count": null,
   "id": "d82e52a57b2c993a",
   "metadata": {
    "slideshow": {
     "slide_type": "subslide"
    },
    "tags": [
     "keep"
    ]
   },
   "outputs": [],
   "source": [
    "# Class representing an Order\n",
    "@dataclass\n",
    "class LIManager:\n",
    "    # a list of line items\n",
    "    LIVec: list[LI] = field(default_factory=list)\n",
    "\n",
    "    # compute the total price\n",
    "    def my_result(self):\n",
    "        return sum(li.foo() for li in self.LIVec)"
   ]
  },
  {
   "cell_type": "code",
   "execution_count": null,
   "id": "d785bde9b993cbb7",
   "metadata": {
    "tags": [
     "keep"
    ]
   },
   "outputs": [],
   "source": [
    "# Prepare an order\n",
    "my_order = LIManager([LI(2, \"tea\", 0.99), LI(3, \"coffee\", 0.89)])\n",
    "print(my_order.my_result())"
   ]
  },
  {
   "cell_type": "code",
   "execution_count": null,
   "id": "cc0314fc4dadcd25",
   "metadata": {
    "slideshow": {
     "slide_type": "subslide"
    }
   },
   "outputs": [],
   "source": []
  },
  {
   "cell_type": "code",
   "execution_count": null,
   "id": "4ba49b30e6aa7892",
   "metadata": {
    "slideshow": {
     "slide_type": "subslide"
    }
   },
   "outputs": [],
   "source": []
  },
  {
   "cell_type": "code",
   "execution_count": null,
   "id": "46d7277b382fa1db",
   "metadata": {
    "lines_to_next_cell": 2
   },
   "outputs": [],
   "source": []
  },
  {
   "cell_type": "markdown",
   "id": "ada9562376715842",
   "metadata": {
    "lang": "en",
    "slideshow": {
     "slide_type": "subslide"
    }
   },
   "source": [
    "\n",
    "## Avoid encodings\n",
    "\n",
    "Avoid Hungarian notation:"
   ]
  },
  {
   "cell_type": "code",
   "execution_count": null,
   "id": "2b093dc39db0c0b3",
   "metadata": {
    "tags": [
     "keep"
    ]
   },
   "outputs": [],
   "source": [
    "i_days = 12\n",
    "i_month = 3"
   ]
  },
  {
   "cell_type": "markdown",
   "id": "6bef829ec65c667e",
   "metadata": {
    "lang": "en",
    "lines_to_next_cell": 2,
    "slideshow": {
     "slide_type": "subslide"
    }
   },
   "source": [
    "\n",
    "## Avoid encodings\n",
    "\n",
    "Avoid member prefixes:"
   ]
  },
  {
   "cell_type": "code",
   "execution_count": null,
   "id": "f5a055a68aa31b57",
   "metadata": {
    "lines_to_next_cell": 2,
    "tags": [
     "keep"
    ]
   },
   "outputs": [],
   "source": [
    "@dataclass\n",
    "class MyClass:\n",
    "    m_days: int\n",
    "    m_months: int"
   ]
  },
  {
   "cell_type": "markdown",
   "id": "ca4cd195a3bf2435",
   "metadata": {
    "lang": "en",
    "lines_to_next_cell": 2,
    "slideshow": {
     "slide_type": "subslide"
    }
   },
   "source": [
    "\n",
    "## Avoid encodings\n",
    "\n",
    "Avoid C/I prefixes: CClass, IInterface"
   ]
  },
  {
   "cell_type": "code",
   "execution_count": null,
   "id": "68aa91ec7cd7fbf3",
   "metadata": {
    "tags": [
     "keep"
    ]
   },
   "outputs": [],
   "source": [
    "@dataclass\n",
    "class CMyClass:\n",
    "    days: int\n",
    "    months: int"
   ]
  },
  {
   "cell_type": "markdown",
   "id": "90817a6a6a9fd5cb",
   "metadata": {
    "lang": "en",
    "slideshow": {
     "slide_type": "subslide"
    }
   },
   "source": [
    "\n",
    "## Use the correct part of speech\n",
    "\n",
    "- Classes and variables: nouns or noun phrases\n",
    "- Functions: verb or verb phrases\n",
    "- Enums: often adjectives\n",
    "- Boolean variables and functions: often predicates: `is_...`, `has_...`"
   ]
  },
  {
   "cell_type": "code",
   "execution_count": null,
   "id": "87873fe61704987b",
   "metadata": {
    "tags": [
     "keep"
    ]
   },
   "outputs": [],
   "source": [
    "@dataclass\n",
    "class GoToTheServer:\n",
    "    def connection(self):\n",
    "        ...\n",
    "\n",
    "    def server_availability(self) -> bool:\n",
    "        return True"
   ]
  },
  {
   "cell_type": "code",
   "execution_count": null,
   "id": "874abc54433f60fc",
   "metadata": {},
   "outputs": [],
   "source": []
  },
  {
   "cell_type": "markdown",
   "id": "db55867210c6ea49",
   "metadata": {
    "lang": "en",
    "slideshow": {
     "slide_type": "subslide"
    }
   },
   "source": [
    "\n",
    "## Possibly\n",
    "\n",
    "Avoid noisy words, such as Manager, Processor, Data, Info"
   ]
  },
  {
   "cell_type": "code",
   "execution_count": null,
   "id": "bd6e1c7a11aa79ae",
   "metadata": {
    "tags": [
     "keep"
    ]
   },
   "outputs": [],
   "source": [
    "class ObjectManager:\n",
    "    pass"
   ]
  },
  {
   "cell_type": "code",
   "execution_count": null,
   "id": "0e54c2c254efb61d",
   "metadata": {
    "tags": [
     "keep"
    ]
   },
   "outputs": [],
   "source": [
    "class ObjectController:\n",
    "    pass"
   ]
  },
  {
   "cell_type": "code",
   "execution_count": null,
   "id": "1eee73e7cf2e5295",
   "metadata": {
    "lines_to_next_cell": 2,
    "tags": [
     "keep"
    ]
   },
   "outputs": [],
   "source": [
    "class DataController:\n",
    "    pass"
   ]
  },
  {
   "cell_type": "markdown",
   "id": "a4e9e93bf9b74bb0",
   "metadata": {
    "lang": "en",
    "lines_to_next_cell": 2,
    "slideshow": {
     "slide_type": "subslide"
    }
   },
   "source": [
    "\n",
    "## Python-Specific\n",
    "\n",
    "Avoid getters and setters for accessing attributes:"
   ]
  },
  {
   "cell_type": "code",
   "execution_count": null,
   "id": "02881ddec32d3c41",
   "metadata": {
    "tags": [
     "keep"
    ]
   },
   "outputs": [],
   "source": [
    "class MyBox:\n",
    "    def __init__(self, x) -> None:\n",
    "        self._x = x\n",
    "\n",
    "    def get_x(self):\n",
    "        return self._x\n",
    "\n",
    "    def set_x(self, new_value):\n",
    "        self._x = new_value"
   ]
  },
  {
   "cell_type": "code",
   "execution_count": null,
   "id": "4ac270b0a56f9d0f",
   "metadata": {
    "tags": [
     "keep"
    ]
   },
   "outputs": [],
   "source": [
    "my_box = MyBox(1)\n",
    "print(my_box.get_x())\n",
    "my_box.set_x(10)\n",
    "print(my_box.get_x())"
   ]
  },
  {
   "cell_type": "code",
   "execution_count": null,
   "id": "a84dfabdf998aa8f",
   "metadata": {
    "slideshow": {
     "slide_type": "subslide"
    }
   },
   "outputs": [],
   "source": []
  },
  {
   "cell_type": "code",
   "execution_count": null,
   "id": "1f243d75a9678e2d",
   "metadata": {},
   "outputs": [],
   "source": []
  },
  {
   "cell_type": "markdown",
   "id": "2bc1e091d3bba574",
   "metadata": {
    "lang": "en",
    "lines_to_next_cell": 2,
    "slideshow": {
     "slide_type": "subslide"
    }
   },
   "source": [
    "\n",
    "## Scope-length rules\n",
    "\n",
    "- Variables:\n",
    "  - Long scope = long name\n",
    "  - Short scope = short name\n",
    "- Classes and Methods\n",
    "  - Long scope = short name\n",
    "  - Short scope = long name\n",
    "\n",
    "**Or:** Use long names for long scopes"
   ]
  },
  {
   "cell_type": "code",
   "execution_count": null,
   "id": "020e4b32040eb3a9",
   "metadata": {
    "slideshow": {
     "slide_type": "subslide"
    },
    "tags": [
     "keep"
    ]
   },
   "outputs": [],
   "source": [
    "class FixedSizeOrderedCollectionIndexedByInts:\n",
    "    pass"
   ]
  },
  {
   "cell_type": "code",
   "execution_count": null,
   "id": "475356ef8254f43e",
   "metadata": {},
   "outputs": [],
   "source": []
  }
 ],
 "metadata": {},
 "nbformat": 4,
 "nbformat_minor": 5
}
