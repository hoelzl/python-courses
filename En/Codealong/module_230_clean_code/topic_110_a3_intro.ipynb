{
 "cells": [
  {
   "cell_type": "markdown",
   "id": "cd27ea284577debf",
   "metadata": {
    "lang": "en",
    "slideshow": {
     "slide_type": "slide"
    }
   },
   "source": [
    "<img src=\"../../img/python-logo-no-text.svg\"\n",
    "     style=\"display:block;margin:auto;width:10%\"/>\n",
    "<br>\n",
    "<div style=\"text-align:center; font-size:200%;\">\n",
    "  <b>What is Clean Code?</b>\n",
    "</div>\n",
    "<br/>\n",
    "<div style=\"text-align:center;\">Dr. Matthias Hölzl</div>\n",
    "<br/>\n",
    "<div style=\"text-align:center;\">module_230_clean_code/topic_110_a3_intro</div>"
   ]
  },
  {
   "cell_type": "markdown",
   "id": "888911271e821b23",
   "metadata": {
    "lang": "en",
    "slideshow": {
     "slide_type": "slide"
    }
   },
   "source": [
    "\n",
    "# What is Clean Code?\n",
    "\n",
    "Opinions of experts:"
   ]
  },
  {
   "cell_type": "markdown",
   "id": "100cc9673b941dcb",
   "metadata": {
    "slideshow": {
     "slide_type": "subslide"
    }
   },
   "source": [
    "\n",
    "### Grady Booch (OODA)\n",
    "\n",
    "- Clean code is simple and direct.\n",
    "- Clean code reads like well-written prose.\n",
    "- Clean code never obscures the designer’s intent but rather is full of crisp\n",
    "  abstractions and straightforward lines of control."
   ]
  },
  {
   "cell_type": "markdown",
   "id": "9c9938da27d629a6",
   "metadata": {
    "slideshow": {
     "slide_type": "subslide"
    }
   },
   "source": [
    "\n",
    "### Bjarne Stroustrup (C++)\n",
    "\n",
    "- I like my code to be elegant and efficient.\n",
    "- The logic should be straightforward to make it hard for bugs to hide, the\n",
    "  dependencies minimal to ease maintenance, error handling complete according\n",
    "  to an articulated strategy, and performance close to optimal so as not to\n",
    "  tempt people to make the code messy with unprincipled optimizations.\n",
    "- Clean code does one thing well."
   ]
  },
  {
   "cell_type": "markdown",
   "id": "348e917bfe84586d",
   "metadata": {
    "slideshow": {
     "slide_type": "subslide"
    }
   },
   "source": [
    "\n",
    "### Ward Cunningham (Wiki)\n",
    "\n",
    "- You know you are reading clean code, when every routine that you read is\n",
    "  pretty much what you expected.\n",
    "- You can call it beautiful code when the code also makes it look like the\n",
    "  language was made for the problem."
   ]
  },
  {
   "cell_type": "markdown",
   "id": "2282307d78a02ac1",
   "metadata": {
    "slideshow": {
     "slide_type": "subslide"
    }
   },
   "source": [
    "\n",
    "### Michael Feathers (Legacy Code Book)\n",
    "\n",
    "- Clean code always looks like it was written by someone who cares."
   ]
  },
  {
   "cell_type": "markdown",
   "id": "48e344368ce7d540",
   "metadata": {
    "lang": "en",
    "slideshow": {
     "slide_type": "slide"
    }
   },
   "source": [
    "\n",
    "## Goal\n",
    "\n",
    "A code base that is fun to work with."
   ]
  },
  {
   "cell_type": "markdown",
   "id": "4040c977572cb43c",
   "metadata": {
    "lang": "en",
    "slideshow": {
     "slide_type": "subslide"
    }
   },
   "source": [
    "\n",
    "## How do we get there?\n",
    "\n",
    "In many small steps!"
   ]
  },
  {
   "cell_type": "markdown",
   "id": "641ad46d8f18eee6",
   "metadata": {
    "lang": "en",
    "slideshow": {
     "slide_type": "subslide"
    }
   },
   "source": [
    "\n",
    "## The ## Boy Scout Rule (for Code)\n",
    "\n",
    "Always leave your code better than you found it.\n",
    "\n",
    "(Robert C. Martin)"
   ]
  }
 ],
 "metadata": {
  "kernelspec": {
   "display_name": "Python 3 (ipykernel)",
   "language": "python",
   "name": "python3"
  },
  "language_info": {
   "codemirror_mode": {
    "name": "ipython",
    "version": 3
   },
   "file_extension": ".py",
   "mimetype": "text/x-python",
   "name": "python",
   "nbconvert_exporter": "python",
   "pygments_lexer": "ipython3",
   "version": "3.10.6"
  }
 },
 "nbformat": 4,
 "nbformat_minor": 5
}
