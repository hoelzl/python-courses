{
 "cells": [
  {
   "cell_type": "markdown",
   "id": "1c6765d722698697",
   "metadata": {
    "lang": "en",
    "slideshow": {
     "slide_type": "slide"
    }
   },
   "source": [
    "<img src=\"../img/python-logo-no-text.png\"\n",
    "     style=\"display:block;margin:auto;width:10%\"/>\n",
    "<br>\n",
    "<div style=\"text-align:center; font-size:200%;\">\n",
    "  <b>Boolean Operators</b>\n",
    "</div>\n",
    "<br/>\n",
    "<div style=\"text-align:center;\">Dr. Matthias Hölzl</div>\n",
    "<br/>\n",
    "<!-- <div style=\"text-align:center;\">module_140_control_flow/topic_112_b1_boolean_operators</div> -->\n",
    "\n"
   ]
  },
  {
   "cell_type": "markdown",
   "id": "7ecd031c7f248782",
   "metadata": {
    "lang": "en",
    "slideshow": {
     "slide_type": "slide"
    }
   },
   "source": [
    "## Operators on Boolean values"
   ]
  },
  {
   "cell_type": "code",
   "execution_count": null,
   "id": "4b94f38c852c5145",
   "metadata": {},
   "outputs": [],
   "source": []
  },
  {
   "cell_type": "code",
   "execution_count": null,
   "id": "340d00cc8563d374",
   "metadata": {},
   "outputs": [],
   "source": []
  },
  {
   "cell_type": "code",
   "execution_count": null,
   "id": "dfc85917cdb9ec7e",
   "metadata": {},
   "outputs": [],
   "source": []
  },
  {
   "cell_type": "markdown",
   "id": "f383a0887ac20b86",
   "metadata": {
    "lang": "en",
    "slideshow": {
     "slide_type": "subslide"
    }
   },
   "source": [
    "### When is a logical expression true?\n",
    "\n",
    "| Operator | Operation                      | `True` if...                   |\n",
    "|:--------:|:-------------------------------|:-------------------------------|\n",
    "| and      | logical \"and\" (conjunction)    | both arguments `True`          |\n",
    "| or       | logical \"or\" (disjunction)     | at least one argument `True`   |\n",
    "| not      | logical \"not\" (negation)       | argument `False`               |"
   ]
  },
  {
   "cell_type": "markdown",
   "id": "fbd5feadbc8243f1",
   "metadata": {
    "lang": "en"
   },
   "source": [
    "### Chaining comparisons"
   ]
  },
  {
   "cell_type": "code",
   "execution_count": null,
   "id": "31037350b41440d8",
   "metadata": {},
   "outputs": [],
   "source": []
  },
  {
   "cell_type": "code",
   "execution_count": null,
   "id": "0fc84d79b5513356",
   "metadata": {},
   "outputs": [],
   "source": []
  },
  {
   "cell_type": "code",
   "execution_count": null,
   "id": "423f3ca19fc51678",
   "metadata": {},
   "outputs": [],
   "source": []
  },
  {
   "cell_type": "code",
   "execution_count": null,
   "id": "6eedb2ec854c648a",
   "metadata": {},
   "outputs": [],
   "source": []
  },
  {
   "cell_type": "markdown",
   "id": "d65af3ab50be432a",
   "metadata": {
    "lang": "en"
   },
   "source": [
    "## Mini workshop: Operators, comparisons\n",
    "\n",
    "Given the following variable definitions:"
   ]
  },
  {
   "cell_type": "code",
   "execution_count": null,
   "id": "3e3c1bb7f792da8b",
   "metadata": {
    "tags": [
     "keep"
    ]
   },
   "outputs": [],
   "source": [
    "var1 = 3 ** (3 * 4)\n",
    "var2 = 4**3**2\n",
    "var3 = (3**3) ** 3\n",
    "var4 = (2**3) ** 4"
   ]
  },
  {
   "cell_type": "markdown",
   "id": "75c8c0f2256e50d2",
   "metadata": {
    "lang": "en",
    "slideshow": {
     "slide_type": "subslide"
    }
   },
   "source": [
    "\n",
    "Is `var1` divisible by `var3` and at the same time `var2` divisible by `var4`?"
   ]
  },
  {
   "cell_type": "code",
   "execution_count": null,
   "id": "e6314f58c025c844",
   "metadata": {},
   "outputs": [],
   "source": []
  },
  {
   "cell_type": "markdown",
   "id": "37d194b0114ba8e7",
   "metadata": {
    "lang": "en",
    "slideshow": {
     "slide_type": "subslide"
    }
   },
   "source": [
    "\n",
    "Are the variables `var1`, `var2`, `var3` and `var4` arranged in ascending order,\n",
    "i.e., does `var1` < `var2` and `var2` < `var3` and `var3` < `var4` hold?"
   ]
  },
  {
   "cell_type": "code",
   "execution_count": null,
   "id": "baf63834b8de643d",
   "metadata": {},
   "outputs": [],
   "source": []
  },
  {
   "cell_type": "markdown",
   "id": "0ecadfe3a000c008",
   "metadata": {
    "lang": "en"
   },
   "source": [
    "\n",
    " A better solution is:"
   ]
  },
  {
   "cell_type": "markdown",
   "id": "c50d04f3c18e2ebf",
   "metadata": {
    "lang": "en",
    "slideshow": {
     "slide_type": "subslide"
    }
   },
   "source": [
    "\n",
    "Are the variables `var1`, `var2`, `var3` and `var4` arranged in descending order,\n",
    "i.e., does `var1` > `var2` and `var2` > `var3` and `var3` > `var4` hold?"
   ]
  },
  {
   "cell_type": "markdown",
   "id": "e772247a6b6b348d",
   "metadata": {
    "lang": "en",
    "slideshow": {
     "slide_type": "subslide"
    }
   },
   "source": [
    "\n",
    "Is the value of `var4` between `1_000` and `10_000`?"
   ]
  },
  {
   "cell_type": "code",
   "execution_count": null,
   "id": "9e07da6408689147",
   "metadata": {},
   "outputs": [],
   "source": []
  }
 ],
 "metadata": {},
 "nbformat": 4,
 "nbformat_minor": 5
}
