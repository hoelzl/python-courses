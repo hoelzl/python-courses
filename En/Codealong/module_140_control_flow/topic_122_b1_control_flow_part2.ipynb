{
 "cells": [
  {
   "cell_type": "markdown",
   "id": "ec34fe104ff69cb7",
   "metadata": {
    "lang": "en",
    "lines_to_next_cell": 2,
    "slideshow": {
     "slide_type": "slide"
    }
   },
   "source": [
    "<img src=\"../img/python-logo-no-text.png\"\n",
    "     style=\"display:block;margin:auto;width:10%\"/>\n",
    "<br>\n",
    "<div style=\"text-align:center; font-size:200%;\">\n",
    "  <b>Control Structures (Part 2)</b>\n",
    "</div>\n",
    "<br/>\n",
    "<div style=\"text-align:center;\">Dr. Matthias Hölzl</div>\n",
    "<br/>\n",
    "<!-- <div style=\"text-align:center;\">module_140_control_flow/topic_122_b1_control_flow_part2</div> -->"
   ]
  },
  {
   "cell_type": "markdown",
   "id": "4fd2ff403bace8dc",
   "metadata": {
    "lang": "en",
    "lines_to_next_cell": 2,
    "slideshow": {
     "slide_type": "subslide"
    }
   },
   "source": [
    "\n",
    "## One-sided `if`"
   ]
  },
  {
   "cell_type": "code",
   "execution_count": null,
   "id": "6974ba06f2d23a0b",
   "metadata": {
    "lang": "en",
    "tags": [
     "keep"
    ]
   },
   "outputs": [],
   "source": [
    "def one_sided_if(number):\n",
    "    print(\"Before\")\n",
    "    if number == 7:\n",
    "        print(number, \"is a lucky number\")\n",
    "        print(\"Congratulations!\")\n",
    "    print(\"After\")"
   ]
  },
  {
   "cell_type": "code",
   "execution_count": null,
   "id": "d4aaae450325098c",
   "metadata": {
    "lang": "en",
    "tags": [
     "keep"
    ]
   },
   "outputs": [],
   "source": [
    "one_sided_if(1)"
   ]
  },
  {
   "cell_type": "code",
   "execution_count": null,
   "id": "497c04f90cc649b9",
   "metadata": {
    "lang": "en",
    "lines_to_next_cell": 1,
    "tags": [
     "keep"
    ]
   },
   "outputs": [],
   "source": [
    "one_sided_if(7)"
   ]
  },
  {
   "cell_type": "markdown",
   "id": "a3733d8629cc9659",
   "metadata": {
    "lang": "en",
    "slideshow": {
     "slide_type": "subslide"
    }
   },
   "source": [
    "\n",
    "## Multiple branches\n",
    "\n",
    " - We want to write a game in which the player has to guess a number between 1 and\n",
    "   100.\n",
    " - After guessing, he gets the information whether his number is too high,\n",
    "   too low or correct.\n",
    " - In a later iteration we want to give the player multiple tries."
   ]
  },
  {
   "cell_type": "code",
   "execution_count": null,
   "id": "9a02d6fbb04dbf56",
   "metadata": {
    "lang": "en",
    "slideshow": {
     "slide_type": "subslide"
    },
    "tags": [
     "keep"
    ]
   },
   "outputs": [],
   "source": [
    "def classify_number(guess, solution):\n",
    "    if guess < solution:\n",
    "        print(\"Your guess is too small!\")\n",
    "    elif guess > solution:\n",
    "        print(\"Your guess is too big!\")\n",
    "    else:\n",
    "        print(\"You have won!\")"
   ]
  },
  {
   "cell_type": "code",
   "execution_count": null,
   "id": "b7b4e20b7e2fde3d",
   "metadata": {
    "lang": "en",
    "tags": [
     "keep"
    ]
   },
   "outputs": [],
   "source": [
    "classify_number(10, 12)"
   ]
  },
  {
   "cell_type": "code",
   "execution_count": null,
   "id": "2a109b52a555b42c",
   "metadata": {
    "lang": "en",
    "tags": [
     "keep"
    ]
   },
   "outputs": [],
   "source": [
    "classify_number(14, 12)"
   ]
  },
  {
   "cell_type": "code",
   "execution_count": null,
   "id": "7f576df7ee7781a7",
   "metadata": {
    "lang": "en",
    "tags": [
     "keep"
    ]
   },
   "outputs": [],
   "source": [
    "classify_number(12, 12)"
   ]
  },
  {
   "cell_type": "markdown",
   "id": "6041f07926acfc7d",
   "metadata": {
    "lang": "en",
    "slideshow": {
     "slide_type": "subslide"
    }
   },
   "source": [
    "## Structure of an `if` statement (complete):\n",
    "\n",
    "```python\n",
    "if {condition 1}:\n",
    "    # Body that is executed if {condition 1} is true\n",
    "elif {condition 2}:\n",
    "    # Body that is executed if {condition 2} is true\n",
    "...\n",
    "else:\n",
    "    # Body that is executed if none of the conditions are true\n",
    "```\n",
    "- Only the `if` and the first body are necessary\n",
    "- If there is an `elif` or an `else`, the corresponding body may\n",
    "  not be empty"
   ]
  },
  {
   "cell_type": "markdown",
   "id": "1a619c1dad121bf2",
   "metadata": {
    "lang": "en",
    "slideshow": {
     "slide_type": "subslide"
    }
   },
   "source": [
    "## Mini-Workshop: Positive / Negative\n",
    "\n",
    "Write a function `print_is_positive(number)` that\n",
    "\n",
    "- prints `{number} is positive.` on the screen if `number > 0`,\n",
    "- prints `{number} is zero.` on the screen if `number == 0`,\n",
    "- Print `{number} is negative.` to the screen if `number < 0`."
   ]
  },
  {
   "cell_type": "code",
   "execution_count": null,
   "id": "e3b8aa0be3283975",
   "metadata": {
    "lang": "en",
    "slideshow": {
     "slide_type": "subslide"
    }
   },
   "outputs": [],
   "source": []
  },
  {
   "cell_type": "markdown",
   "id": "69337079141fd9a1",
   "metadata": {
    "lang": "en"
   },
   "source": [
    "Test `print_is_positive(number)` with the values -3, 0 and 2."
   ]
  },
  {
   "cell_type": "code",
   "execution_count": null,
   "id": "b105569b60232687",
   "metadata": {
    "lang": "en"
   },
   "outputs": [],
   "source": []
  }
 ],
 "metadata": {},
 "nbformat": 4,
 "nbformat_minor": 5
}
