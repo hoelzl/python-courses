{
 "cells": [
  {
   "cell_type": "markdown",
   "id": "21d1cfe57d9db6e5",
   "metadata": {
    "lang": "en",
    "lines_to_next_cell": 2,
    "slideshow": {
     "slide_type": "slide"
    }
   },
   "source": [
    "<img src=\"../img/python-logo-no-text.png\"\n",
    "     style=\"display:block;margin:auto;width:10%\"/>\n",
    "<br>\n",
    "<div style=\"text-align:center; font-size:200%;\">\n",
    "  <b>Workshop: Rock, Paper, Scissors</b>\n",
    "</div>\n",
    "<br/>\n",
    "<div style=\"text-align:center;\">Dr. Matthias Hölzl</div>\n",
    "<br/>\n",
    "<!-- <div style=\"text-align:center;\">module_140_control_flow/ws_x10_rock_paper_scissors</div> -->"
   ]
  },
  {
   "cell_type": "markdown",
   "id": "9020b1a224b9d4c2",
   "metadata": {
    "lang": "en"
   },
   "source": [
    "# Rock, Paper, Scissors\n",
    "\n",
    "In Rock, Paper, Scissors, two players play against each other. Each of the two players\n",
    "selects one of the three symbols \"scissors\", \"rock\" or \"paper\" (without knowing the other player's\n",
    "choice). If both players have chosen the same\n",
    "symbol, the game is a tie. Otherwise:\n",
    "\n",
    "- Scissors beats paper\n",
    "- Paper beats stone\n",
    "- Rock beats scissors\n",
    "\n",
    "Write a function `evaluate_a_round_of_rps(player1, player2)`, which evaluates whether the round ended in a draw or\n",
    "whether one of the players won. To do this, the function should return one of the following values:\n",
    "\n",
    "- 0 if the round was a draw\n",
    "- 1 if player 1 won\n",
    "- 2 if player 2 won\n",
    "\n",
    "If one of the players has made an invalid entry, the\n",
    "Function should throw an exception of user-defined type `BadInputException`, in which the number of the player who is at fault is stored. (If both players made an invalid entry any player can be stored.)"
   ]
  },
  {
   "cell_type": "code",
   "execution_count": null,
   "id": "c588a2516d90c48b",
   "metadata": {},
   "outputs": [],
   "source": []
  },
  {
   "cell_type": "markdown",
   "id": "97316f567621f9e8",
   "metadata": {
    "lang": "en"
   },
   "source": [
    "Test all possible paths through your function."
   ]
  },
  {
   "cell_type": "code",
   "execution_count": null,
   "id": "7c274d8d079af045",
   "metadata": {},
   "outputs": [],
   "source": []
  },
  {
   "cell_type": "code",
   "execution_count": null,
   "id": "3950cbb4c7bcd685",
   "metadata": {},
   "outputs": [],
   "source": []
  },
  {
   "cell_type": "code",
   "execution_count": null,
   "id": "59d0472bd50cb2b7",
   "metadata": {},
   "outputs": [],
   "source": []
  },
  {
   "cell_type": "code",
   "execution_count": null,
   "id": "aa0506a35efcd0a8",
   "metadata": {},
   "outputs": [],
   "source": []
  },
  {
   "cell_type": "code",
   "execution_count": null,
   "id": "3a8e15ff98f29fb9",
   "metadata": {},
   "outputs": [],
   "source": []
  },
  {
   "cell_type": "code",
   "execution_count": null,
   "id": "c86895e8eb38b9b6",
   "metadata": {},
   "outputs": [],
   "source": []
  },
  {
   "cell_type": "code",
   "execution_count": null,
   "id": "b7acbb62e5614cff",
   "metadata": {},
   "outputs": [],
   "source": []
  },
  {
   "cell_type": "code",
   "execution_count": null,
   "id": "b63235996859b4a6",
   "metadata": {},
   "outputs": [],
   "source": []
  },
  {
   "cell_type": "code",
   "execution_count": null,
   "id": "ed65ef3ec7d69481",
   "metadata": {},
   "outputs": [],
   "source": []
  },
  {
   "cell_type": "code",
   "execution_count": null,
   "id": "8d451ce278021b72",
   "metadata": {},
   "outputs": [],
   "source": []
  },
  {
   "cell_type": "code",
   "execution_count": null,
   "id": "d088375073856015",
   "metadata": {},
   "outputs": [],
   "source": []
  },
  {
   "cell_type": "code",
   "execution_count": null,
   "id": "4e94dd056dc1d2c6",
   "metadata": {},
   "outputs": [],
   "source": []
  },
  {
   "cell_type": "code",
   "execution_count": null,
   "id": "2d6f1bd2336c705c",
   "metadata": {},
   "outputs": [],
   "source": []
  },
  {
   "cell_type": "code",
   "execution_count": null,
   "id": "5cd008c1e25612c1",
   "metadata": {},
   "outputs": [],
   "source": []
  },
  {
   "cell_type": "code",
   "execution_count": null,
   "id": "6e39dbe6dd867259",
   "metadata": {},
   "outputs": [],
   "source": []
  },
  {
   "cell_type": "markdown",
   "id": "38e80848d04378df",
   "metadata": {
    "lang": "en"
   },
   "source": [
    "Write a function `compare_symbols(player1, player2)`,\n",
    "that outputs the following information on the screen:\n",
    "\n",
    "- `Tie.` if both players have chosen the same symbol,\n",
    "- `Player X wins!` if player X (X = 1 or 2) won,\n",
    "- `Invalid symbol from player X!` if player X has entered an invalid symbol."
   ]
  },
  {
   "cell_type": "code",
   "execution_count": null,
   "id": "b324f8d0d9da0a2e",
   "metadata": {},
   "outputs": [],
   "source": []
  },
  {
   "cell_type": "markdown",
   "id": "45fb06ad1dc9fb8f",
   "metadata": {
    "lang": "en"
   },
   "source": [
    "Test `compare_symbols` for appropriate input."
   ]
  },
  {
   "cell_type": "code",
   "execution_count": null,
   "id": "332425c17ec2ce4f",
   "metadata": {},
   "outputs": [],
   "source": []
  },
  {
   "cell_type": "code",
   "execution_count": null,
   "id": "18502a81b4c36ad1",
   "metadata": {},
   "outputs": [],
   "source": []
  },
  {
   "cell_type": "code",
   "execution_count": null,
   "id": "07dbd03e0d4a6a60",
   "metadata": {},
   "outputs": [],
   "source": []
  },
  {
   "cell_type": "code",
   "execution_count": null,
   "id": "e5f5660256e3b446",
   "metadata": {},
   "outputs": [],
   "source": []
  },
  {
   "cell_type": "code",
   "execution_count": null,
   "id": "d48cae90921b28f6",
   "metadata": {},
   "outputs": [],
   "source": []
  },
  {
   "cell_type": "code",
   "execution_count": null,
   "id": "9254186a08dbe981",
   "metadata": {},
   "outputs": [],
   "source": []
  },
  {
   "cell_type": "code",
   "execution_count": null,
   "id": "d28a1fafc14f316a",
   "metadata": {},
   "outputs": [],
   "source": []
  },
  {
   "cell_type": "code",
   "execution_count": null,
   "id": "3d799986bdc47fb5",
   "metadata": {},
   "outputs": [],
   "source": []
  },
  {
   "cell_type": "code",
   "execution_count": null,
   "id": "f25be2bc9eef9abf",
   "metadata": {},
   "outputs": [],
   "source": []
  },
  {
   "cell_type": "markdown",
   "id": "f9fa81ded3721fd7",
   "metadata": {
    "lang": "en"
   },
   "source": [
    "Write a function `play_a_round_of_rps()` that reads the selections\n",
    "of player 1 and player 2 from the terminal and prints out who won.\n",
    "\n",
    "(Of course this is not a usable game as player 2 can see\n",
    "the choice player 1 made.)"
   ]
  },
  {
   "cell_type": "code",
   "execution_count": null,
   "id": "4fa2d593ae070737",
   "metadata": {},
   "outputs": [],
   "source": []
  },
  {
   "cell_type": "markdown",
   "id": "4e7483d13fa7854c",
   "metadata": {
    "lang": "en"
   },
   "source": [
    "Test the function `play_a_round_of_rps()` interactively."
   ]
  },
  {
   "cell_type": "code",
   "execution_count": null,
   "id": "a94ac35388e7c6f8",
   "metadata": {},
   "outputs": [],
   "source": []
  },
  {
   "cell_type": "markdown",
   "id": "a32888631960dc32",
   "metadata": {
    "lang": "en"
   },
   "source": [
    "Write a function `play_rps()` that lets two players play against each other until one player has won 3 games more than\n",
    "the other (e.g. if the first player has won 2 games and the second player 5)."
   ]
  },
  {
   "cell_type": "code",
   "execution_count": null,
   "id": "030f22c74ff2ab5e",
   "metadata": {
    "lines_to_next_cell": 2
   },
   "outputs": [],
   "source": []
  },
  {
   "cell_type": "code",
   "execution_count": null,
   "id": "462ce4eab9a45a72",
   "metadata": {},
   "outputs": [],
   "source": []
  }
 ],
 "metadata": {},
 "nbformat": 4,
 "nbformat_minor": 5
}
