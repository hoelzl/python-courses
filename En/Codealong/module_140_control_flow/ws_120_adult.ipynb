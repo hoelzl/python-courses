{
 "cells": [
  {
   "cell_type": "markdown",
   "id": "3b91a46e3bae27d5",
   "metadata": {
    "lang": "en",
    "slideshow": {
     "slide_type": "subslide"
    }
   },
   "source": [
    "\n",
    "## Mini workshop: Adult"
   ]
  },
  {
   "cell_type": "markdown",
   "id": "7e4e2a7d5d0fc1f8",
   "metadata": {
    "lang": "en"
   },
   "source": [
    "\n",
    "Write a function `print_of_age(age)` that prints `of age` on the screen if\n",
    "`age >= 18` and `minor` otherwise."
   ]
  },
  {
   "cell_type": "code",
   "execution_count": null,
   "id": "b1f40b540ace3931",
   "metadata": {
    "lang": "en"
   },
   "outputs": [],
   "source": []
  },
  {
   "cell_type": "markdown",
   "id": "e492cbe716e62769",
   "metadata": {
    "lang": "en",
    "slideshow": {
     "slide_type": "subslide"
    }
   },
   "source": [
    "Test `print_of age(age)` with the values 17 and 18."
   ]
  },
  {
   "cell_type": "code",
   "execution_count": null,
   "id": "a06ed6637060be11",
   "metadata": {
    "lang": "en"
   },
   "outputs": [],
   "source": []
  }
 ],
 "metadata": {},
 "nbformat": 4,
 "nbformat_minor": 5
}
