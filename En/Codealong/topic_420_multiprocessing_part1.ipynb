{
 "cells": [
  {
   "cell_type": "markdown",
   "id": "6db5db1b",
   "metadata": {
    "lang": "en",
    "slideshow": {
     "slide_type": "slide"
    }
   },
   "source": [
    "<img src=\"img/python-logo-notext.svg\"\n",
    "     style=\"display:block;margin:auto;width:10%\"/>\n",
    "<br>\n",
    "<div style=\"text-align:center; font-size:200%;\"><b>Multiprocessing (Part 1)</b></div>\n",
    "<br/>\n",
    "<div style=\"text-align:center;\">Dr. Matthias Hölzl</div>"
   ]
  },
  {
   "cell_type": "markdown",
   "id": "4ae49dc0",
   "metadata": {
    "lang": "en",
    "slideshow": {
     "slide_type": "slide"
    }
   },
   "source": [
    "\n",
    "# Multiprocessing\n",
    "\n",
    "With multiprocessing, several Python interpreters are executed in parallel. Therefore,\n",
    "multiple processor cores can be used, since the various processes are not synchronized\n",
    "by a GIL. However, sharing data between processes becomes more difficult (and\n",
    "potentially a performance bottleneck)."
   ]
  },
  {
   "cell_type": "markdown",
   "id": "615b582b",
   "metadata": {
    "lang": "en",
    "slideshow": {
     "slide_type": "slide"
    }
   },
   "source": [
    "\n",
    "There are a number of pitfalls with multiprocessing; the [Programming\n",
    "Guidelines](https://docs.python.org/3/library/multiprocessing.html#programming-guidelines)\n",
    "in the Python documentation are helpful for avoiding them."
   ]
  },
  {
   "cell_type": "code",
   "execution_count": null,
   "id": "704afac5",
   "metadata": {},
   "outputs": [],
   "source": []
  },
  {
   "cell_type": "code",
   "execution_count": null,
   "id": "58318a91",
   "metadata": {},
   "outputs": [],
   "source": []
  },
  {
   "cell_type": "code",
   "execution_count": null,
   "id": "c7283dcd",
   "metadata": {},
   "outputs": [],
   "source": []
  },
  {
   "cell_type": "code",
   "execution_count": null,
   "id": "32455e14",
   "metadata": {},
   "outputs": [],
   "source": []
  },
  {
   "cell_type": "code",
   "execution_count": null,
   "id": "9e0fdacc",
   "metadata": {},
   "outputs": [],
   "source": []
  },
  {
   "cell_type": "code",
   "execution_count": null,
   "id": "c14279e2",
   "metadata": {},
   "outputs": [],
   "source": []
  }
 ],
 "metadata": {
  "kernelspec": {
   "display_name": "Python 3 (ipykernel)",
   "language": "python",
   "name": "python3"
  }
 },
 "nbformat": 4,
 "nbformat_minor": 5
}
