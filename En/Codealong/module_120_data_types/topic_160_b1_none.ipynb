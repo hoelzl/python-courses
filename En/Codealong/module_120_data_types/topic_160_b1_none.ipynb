{
 "cells": [
  {
   "cell_type": "markdown",
   "id": "5402223ec00c7760",
   "metadata": {
    "lang": "en",
    "lines_to_next_cell": 2,
    "slideshow": {
     "slide_type": "slide"
    }
   },
   "source": [
    "<img src=\"../../img/python-logo-no-text.svg\"\n",
    "     style=\"display:block;margin:auto;width:10%\"/>\n",
    "<br>\n",
    "<div style=\"text-align:center; font-size:200%;\">\n",
    "  <b>The value `None`</b>\n",
    "</div>\n",
    "<br/>\n",
    "<div style=\"text-align:center;\">Dr. Matthias Hölzl</div>\n",
    "<br/>\n",
    "<div style=\"text-align:center;\">module_120_data_types/topic_160_b1_none</div>"
   ]
  },
  {
   "cell_type": "markdown",
   "id": "f3274fc4f573ccde",
   "metadata": {
    "lang": "en",
    "slideshow": {
     "slide_type": "slide"
    }
   },
   "source": [
    "\n",
    "### The value `None`\n",
    "\n",
    "`None` is a value used by Python to indicate the absence of a useful value:\n",
    "Jupyter doesn't print `None` as a cell's value:"
   ]
  },
  {
   "cell_type": "code",
   "execution_count": null,
   "id": "876504d6d3774aa5",
   "metadata": {},
   "outputs": [],
   "source": []
  },
  {
   "cell_type": "code",
   "execution_count": null,
   "id": "41e84868b4a59129",
   "metadata": {},
   "outputs": [],
   "source": []
  },
  {
   "cell_type": "code",
   "execution_count": null,
   "id": "e7aa7d82022bd035",
   "metadata": {},
   "outputs": [],
   "source": []
  },
  {
   "cell_type": "code",
   "execution_count": null,
   "id": "ecb429b02b302586",
   "metadata": {},
   "outputs": [],
   "source": []
  },
  {
   "cell_type": "code",
   "execution_count": null,
   "id": "7a6b7f28f2a5c98d",
   "metadata": {},
   "outputs": [],
   "source": []
  },
  {
   "cell_type": "markdown",
   "id": "6c46865f026f07fa",
   "metadata": {
    "lang": "en"
   },
   "source": [
    "\n",
    "The operator `is` is often used to check for `None` values:"
   ]
  },
  {
   "cell_type": "code",
   "execution_count": null,
   "id": "adb059d30ff09c9c",
   "metadata": {},
   "outputs": [],
   "source": []
  },
  {
   "cell_type": "markdown",
   "id": "6af6f5c4b42c035a",
   "metadata": {
    "lang": "en"
   },
   "source": [
    "\n",
    "`is` checks for object identity and cannot generally be substituted for `==`."
   ]
  }
 ],
 "metadata": {
  "kernelspec": {
   "display_name": "Python 3 (ipykernel)",
   "language": "python",
   "name": "python3"
  }
 },
 "nbformat": 4,
 "nbformat_minor": 5
}
