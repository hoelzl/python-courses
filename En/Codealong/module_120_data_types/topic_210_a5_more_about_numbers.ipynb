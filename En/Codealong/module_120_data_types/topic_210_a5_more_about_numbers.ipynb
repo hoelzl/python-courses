{
 "cells": [
  {
   "cell_type": "markdown",
   "id": "aacac3d37ba31960",
   "metadata": {
    "lang": "en",
    "lines_to_next_cell": 2,
    "slideshow": {
     "slide_type": "slide"
    }
   },
   "source": [
    "<img src=\"../../img/python-logo-no-text.svg\"\n",
    "     style=\"display:block;margin:auto;width:10%\"/>\n",
    "<br>\n",
    "<div style=\"text-align:center; font-size:200%;\">\n",
    "  <b>Other kinds of numbers</b>\n",
    "</div>\n",
    "<br/>\n",
    "<div style=\"text-align:center;\">Dr. Matthias Hölzl</div>\n",
    "<br/>\n",
    "<div style=\"text-align:center;\">module_120_data_types/topic_210_a5_more_about_numbers</div>"
   ]
  },
  {
   "cell_type": "markdown",
   "id": "26f5f5cf5d57b6e4",
   "metadata": {
    "lang": "en",
    "slideshow": {
     "slide_type": "slide"
    }
   },
   "source": [
    "\n",
    "# Integer values\n",
    "\n",
    "In Python integers can be of arbitrary size:"
   ]
  },
  {
   "cell_type": "code",
   "execution_count": null,
   "id": "d6d2a5bb1a05c237",
   "metadata": {},
   "outputs": [],
   "source": []
  },
  {
   "cell_type": "markdown",
   "id": "6af8cb7a5a1cfc8e",
   "metadata": {
    "lang": "en",
    "lines_to_next_cell": 2,
    "slideshow": {
     "slide_type": "subslide"
    }
   },
   "source": [
    "\n",
    "## Floating-point arithmetic\n",
    "\n",
    "Numbers with decimal points often have unsuspected rounding errors:"
   ]
  },
  {
   "cell_type": "code",
   "execution_count": null,
   "id": "5157a05ed5cd0d47",
   "metadata": {},
   "outputs": [],
   "source": []
  },
  {
   "cell_type": "code",
   "execution_count": null,
   "id": "f74a7ea43d89281f",
   "metadata": {},
   "outputs": [],
   "source": []
  },
  {
   "cell_type": "markdown",
   "id": "2dd899e30cdb6c7d",
   "metadata": {
    "lang": "en",
    "lines_to_next_cell": 2
   },
   "source": [
    "\n",
    "(This is not Python-specific.)"
   ]
  },
  {
   "cell_type": "markdown",
   "id": "b1eea4988192e763",
   "metadata": {
    "lang": "en",
    "slideshow": {
     "slide_type": "slide"
    }
   },
   "source": [
    "## Other types of numbers\n",
    "\n",
    "Python offers other kinds of numbers for special applications\n",
    "\n",
    "- Decimal numbers with any precision\n",
    "- Complex numbers\n",
    "- Fixed size integers (e.g. with `numpy`)\n",
    "- Floating point numbers with different sizes (`numpy`)"
   ]
  },
  {
   "cell_type": "code",
   "execution_count": null,
   "id": "773833a6f205ac95",
   "metadata": {},
   "outputs": [],
   "source": []
  },
  {
   "cell_type": "code",
   "execution_count": null,
   "id": "9116cf933798cacd",
   "metadata": {
    "slideshow": {
     "slide_type": "subslide"
    }
   },
   "outputs": [],
   "source": []
  },
  {
   "cell_type": "code",
   "execution_count": null,
   "id": "22ac6f90487cf27c",
   "metadata": {},
   "outputs": [],
   "source": []
  }
 ],
 "metadata": {},
 "nbformat": 4,
 "nbformat_minor": 5
}
