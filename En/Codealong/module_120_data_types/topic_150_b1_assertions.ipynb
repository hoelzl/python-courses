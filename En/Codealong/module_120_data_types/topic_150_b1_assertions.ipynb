{
 "cells": [
  {
   "cell_type": "markdown",
   "id": "ce59b5f98a8acc1b",
   "metadata": {
    "lang": "en",
    "slideshow": {
     "slide_type": "slide"
    }
   },
   "source": [
    "<img src=\"../../img/python-logo-no-text.svg\"\n",
    "     style=\"display:block;margin:auto;width:10%\"/>\n",
    "<br>\n",
    "<div style=\"text-align:center; font-size:200%;\">\n",
    "  <b>Assertions</b>\n",
    "</div>\n",
    "<br/>\n",
    "<div style=\"text-align:center;\">Dr. Matthias Hölzl</div>\n",
    "<br/>\n",
    "<div style=\"text-align:center;\">module_120_data_types/topic_150_b1_assertions</div>\n",
    "\n"
   ]
  },
  {
   "cell_type": "markdown",
   "id": "8c7b23f7c37e212e",
   "metadata": {
    "lang": "en",
    "slideshow": {
     "slide_type": "subslide"
    }
   },
   "source": [
    "\n",
    "### Assertions\n",
    "\n",
    "Assertions are a great way to ensure that a property holds. If the checked\n",
    "property is true, the assertion does nothing."
   ]
  },
  {
   "cell_type": "code",
   "execution_count": null,
   "id": "6b4331dc4249553b",
   "metadata": {},
   "outputs": [],
   "source": []
  },
  {
   "cell_type": "code",
   "execution_count": null,
   "id": "9c1fbafe7f86852b",
   "metadata": {},
   "outputs": [],
   "source": []
  },
  {
   "cell_type": "markdown",
   "id": "f738b0a1da944959",
   "metadata": {
    "lang": "en",
    "slideshow": {
     "slide_type": "subslide"
    }
   },
   "source": [
    "\n",
    "If the tested property is not fulfilled, an error is triggered:"
   ]
  },
  {
   "cell_type": "code",
   "execution_count": null,
   "id": "a443b91fc10b69e8",
   "metadata": {
    "lines_to_next_cell": 2
   },
   "outputs": [],
   "source": []
  },
  {
   "cell_type": "markdown",
   "id": "05109904aa99562c",
   "metadata": {
    "lang": "en",
    "slideshow": {
     "slide_type": "subslide"
    }
   },
   "source": [
    "### Mini workshop\n",
    "\n",
    "Given the following statements:"
   ]
  },
  {
   "cell_type": "code",
   "execution_count": null,
   "id": "1dec6ba07bb0379c",
   "metadata": {
    "tags": [
     "keep"
    ]
   },
   "outputs": [],
   "source": [
    "my_int = 1\n",
    "my_float = 1.0"
   ]
  },
  {
   "cell_type": "markdown",
   "id": "a8704540a4c8a50d",
   "metadata": {
    "lang": "en"
   },
   "source": [
    "\n",
    "Write an assertion for each of the following properties that does not throw an\n",
    "exception and asserts either the property or its negation:\n",
    "\n",
    "- `my_int == 1`\n",
    "- `my_float == my_int`\n",
    "- `my_float == \"1.0\"`"
   ]
  },
  {
   "cell_type": "code",
   "execution_count": null,
   "id": "9b36d31155e8faad",
   "metadata": {},
   "outputs": [],
   "source": []
  }
 ],
 "metadata": {},
 "nbformat": 4,
 "nbformat_minor": 5
}
