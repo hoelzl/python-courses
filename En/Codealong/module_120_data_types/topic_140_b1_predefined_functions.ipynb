{
 "cells": [
  {
   "cell_type": "markdown",
   "id": "9bf7b60e2ac62267",
   "metadata": {
    "lang": "en",
    "lines_to_next_cell": 2,
    "slideshow": {
     "slide_type": "slide"
    }
   },
   "source": [
    "<img src=\"../img/python-logo-no-text.png\"\n",
    "     style=\"display:block;margin:auto;width:10%\"/>\n",
    "<br>\n",
    "<div style=\"text-align:center; font-size:200%;\">\n",
    "  <b>Built-in Functions</b>\n",
    "</div>\n",
    "<br/>\n",
    "<div style=\"text-align:center;\">Dr. Matthias Hölzl</div>\n",
    "<br/>\n",
    "<!-- <div style=\"text-align:center;\">module_120_data_types/topic_140_b1_predefined_functions</div> -->"
   ]
  },
  {
   "cell_type": "markdown",
   "id": "4aa56361c44cfe36",
   "metadata": {
    "lang": "en",
    "slideshow": {
     "slide_type": "subslide"
    }
   },
   "source": [
    "### Built-in functions\n",
    "\n",
    "Some functions in Python are\n",
    "[predefined](https://docs.python.org/3/library/functions.html#built-in-functions)\n",
    "by the interpreter. Many more can be loaded from modules."
   ]
  },
  {
   "cell_type": "code",
   "execution_count": null,
   "id": "9f8851bc99da63bc",
   "metadata": {},
   "outputs": [],
   "source": []
  },
  {
   "cell_type": "markdown",
   "id": "1d00b50e57c1a162",
   "metadata": {
    "lang": "en",
    "slideshow": {
     "slide_type": "subslide"
    }
   },
   "source": [
    "\n",
    "## Type conversions\n",
    "\n",
    "- Python does not perform automatic data type conversions.\n",
    "- However, you can often explicitly request out the conversion."
   ]
  },
  {
   "cell_type": "code",
   "execution_count": null,
   "id": "3288ea49c50e4080",
   "metadata": {},
   "outputs": [],
   "source": []
  },
  {
   "cell_type": "code",
   "execution_count": null,
   "id": "36952f65c4cb18aa",
   "metadata": {},
   "outputs": [],
   "source": []
  },
  {
   "cell_type": "code",
   "execution_count": null,
   "id": "194dc5d3d7404d80",
   "metadata": {},
   "outputs": [],
   "source": []
  },
  {
   "cell_type": "markdown",
   "id": "2a5ff43e09c02cf0",
   "metadata": {
    "lang": "en",
    "slideshow": {
     "slide_type": "subslide"
    }
   },
   "source": [
    "Virtually any object in Python can be converted into a string:"
   ]
  },
  {
   "cell_type": "code",
   "execution_count": null,
   "id": "ee95f6636ba7e9e4",
   "metadata": {},
   "outputs": [],
   "source": []
  },
  {
   "cell_type": "markdown",
   "id": "b0f0c88da3f693fc",
   "metadata": {
    "lang": "en"
   },
   "source": [
    "\n",
    "But of course there are cases where Python cannot convert the argument into the\n",
    "desired type:"
   ]
  },
  {
   "cell_type": "code",
   "execution_count": null,
   "id": "c9dd6e485141b043",
   "metadata": {},
   "outputs": [],
   "source": []
  },
  {
   "cell_type": "markdown",
   "id": "3879b0697758e939",
   "metadata": {
    "lang": "en",
    "slideshow": {
     "slide_type": "subslide"
    }
   },
   "source": [
    "\n",
    "## Other built-in functions"
   ]
  },
  {
   "cell_type": "code",
   "execution_count": null,
   "id": "56bf97f1ccbfdd83",
   "metadata": {},
   "outputs": [],
   "source": []
  },
  {
   "cell_type": "code",
   "execution_count": null,
   "id": "d0a03335e78d5977",
   "metadata": {},
   "outputs": [],
   "source": []
  },
  {
   "cell_type": "code",
   "execution_count": null,
   "id": "46b5902996931f39",
   "metadata": {
    "slideshow": {
     "slide_type": "subslide"
    }
   },
   "outputs": [],
   "source": []
  },
  {
   "cell_type": "code",
   "execution_count": null,
   "id": "1820a2d6e71079c2",
   "metadata": {},
   "outputs": [],
   "source": []
  },
  {
   "cell_type": "code",
   "execution_count": null,
   "id": "a3aa6936e8155633",
   "metadata": {
    "tags": [
     "keep"
    ]
   },
   "outputs": [],
   "source": [
    "print(round(0.5), round(1.5), round(2.5), round(3.5))"
   ]
  },
  {
   "cell_type": "markdown",
   "id": "23d2affaa6fdec8e",
   "metadata": {
    "lang": "en",
    "slideshow": {
     "slide_type": "subslide"
    }
   },
   "source": [
    "\n",
    "## Mini-workshop: Build-in Functions\n",
    "\n",
    "In this workshop your goal is to solve some tasks with predefined functions.\n",
    "Some of these functions have not yet been discussed. Use the [built-in-functions\n",
    "table](https://docs.python.org/3/library/functions.html#built-in-functions) to find\n",
    "suitable candidates."
   ]
  },
  {
   "cell_type": "markdown",
   "id": "26f8c8e02f2492dd",
   "metadata": {
    "lang": "en",
    "slideshow": {
     "slide_type": "subslide"
    }
   },
   "source": [
    "\n",
    "Convert the number `1.5` into a string."
   ]
  },
  {
   "cell_type": "code",
   "execution_count": null,
   "id": "f0739766690c4c8c",
   "metadata": {},
   "outputs": [],
   "source": []
  },
  {
   "cell_type": "markdown",
   "id": "c7acd4317886785c",
   "metadata": {
    "lang": "en"
   },
   "source": [
    "\n",
    "Find the maximum of the numbers 2.5 and 1.7 using a built-in function."
   ]
  },
  {
   "cell_type": "code",
   "execution_count": null,
   "id": "7aedc0e568d6cba6",
   "metadata": {},
   "outputs": [],
   "source": []
  },
  {
   "cell_type": "markdown",
   "id": "fc5a8cd80c789162",
   "metadata": {
    "lang": "en",
    "slideshow": {
     "slide_type": "subslide"
    }
   },
   "source": [
    "\n",
    "Convert the string \"1.234\" into a floating point number and add `2.345`."
   ]
  },
  {
   "cell_type": "code",
   "execution_count": null,
   "id": "370ce66b3070955b",
   "metadata": {},
   "outputs": [],
   "source": []
  }
 ],
 "metadata": {},
 "nbformat": 4,
 "nbformat_minor": 5
}
