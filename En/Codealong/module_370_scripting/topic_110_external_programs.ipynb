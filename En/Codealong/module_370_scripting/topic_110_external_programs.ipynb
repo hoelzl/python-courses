{
 "cells": [
  {
   "cell_type": "markdown",
   "id": "7aea03220d93de70",
   "metadata": {
    "lang": "en",
    "slideshow": {
     "slide_type": "slide"
    }
   },
   "source": [
    "<img src=\"../../img/python-logo-no-text.svg\"\n",
    "     style=\"display:block;margin:auto;width:10%\"/>\n",
    "<br>\n",
    "<div style=\"text-align:center; font-size:200%;\">\n",
    "  <b>External Programs</b>\n",
    "</div>\n",
    "<br/>\n",
    "<div style=\"text-align:center;\">Dr. Matthias Hölzl</div>\n",
    "<br/>\n",
    "<div style=\"text-align:center;\">module_370_scripting/topic_110_external_programs</div>"
   ]
  },
  {
   "cell_type": "markdown",
   "id": "98a19a58da777a2d",
   "metadata": {
    "lang": "en",
    "slideshow": {
     "slide_type": "slide"
    }
   },
   "source": [
    "## Subprocesses\n",
    "\n",
    "*Note:* You need to have the `ext_sample_app` package (in\n",
    "`Examples/ExternalSampleApplication`) installed to run the following examples.\n",
    "\n",
    "`subprocess.run()` is the preferred way of running external applications."
   ]
  },
  {
   "cell_type": "code",
   "execution_count": 1,
   "id": "0a7de143eb95d0f0",
   "metadata": {},
   "outputs": [],
   "source": [
    "from subprocess import TimeoutExpired, run\n",
    "from pprint import pprint"
   ]
  },
  {
   "cell_type": "code",
   "execution_count": 2,
   "id": "281eb550768c8c1c",
   "metadata": {},
   "outputs": [
    {
     "name": "stdout",
     "output_type": "stream",
     "text": [
      "Python 3.10.6\n"
     ]
    },
    {
     "data": {
      "text/plain": [
       "CompletedProcess(args=['python', '--version'], returncode=0)"
      ]
     },
     "execution_count": 2,
     "metadata": {},
     "output_type": "execute_result"
    }
   ],
   "source": [
    "run([\"python\", \"--version\"])"
   ]
  },
  {
   "cell_type": "markdown",
   "id": "61f309abec2b3b25",
   "metadata": {
    "lang": "en"
   },
   "source": [
    "With `shutil.which()` you can determine the full path of a program."
   ]
  },
  {
   "cell_type": "code",
   "execution_count": 3,
   "id": "97be50041304b255",
   "metadata": {},
   "outputs": [],
   "source": [
    "import shutil"
   ]
  },
  {
   "cell_type": "code",
   "execution_count": 4,
   "id": "c0eefb92",
   "metadata": {},
   "outputs": [
    {
     "data": {
      "text/plain": [
       "'/home/tc/programming/python/mambaforge/envs/cam/bin/python'"
      ]
     },
     "execution_count": 4,
     "metadata": {},
     "output_type": "execute_result"
    }
   ],
   "source": [
    "shutil.which(\"python\")"
   ]
  },
  {
   "cell_type": "code",
   "execution_count": 6,
   "id": "503a6b091bef5115",
   "metadata": {},
   "outputs": [
    {
     "name": "stdout",
     "output_type": "stream",
     "text": [
      "Python 3.10.6\n"
     ]
    },
    {
     "data": {
      "text/plain": [
       "CompletedProcess(args=['/home/tc/programming/python/mambaforge/envs/cam/bin/python', '--version'], returncode=0)"
      ]
     },
     "execution_count": 6,
     "metadata": {},
     "output_type": "execute_result"
    }
   ],
   "source": [
    "run([shutil.which(\"python\"), \"--version\"])"
   ]
  },
  {
   "cell_type": "code",
   "execution_count": 7,
   "id": "a32c7329",
   "metadata": {},
   "outputs": [
    {
     "name": "stdout",
     "output_type": "stream",
     "text": [
      "Python 3.10.6\n"
     ]
    }
   ],
   "source": [
    "cp = run([\"python\", \"--version\"])"
   ]
  },
  {
   "cell_type": "code",
   "execution_count": 8,
   "id": "7a5d94d7",
   "metadata": {},
   "outputs": [],
   "source": [
    "from subprocess import CompletedProcess"
   ]
  },
  {
   "cell_type": "code",
   "execution_count": 9,
   "id": "b27336134db7ccfc",
   "metadata": {},
   "outputs": [],
   "source": [
    "def print_completed_process(cp: CompletedProcess):\n",
    "    print(\"return code:\", cp.returncode)\n",
    "    print(\"captured stdout:\", repr(cp.stdout))\n",
    "    print(\"captured stderr:\", repr(cp.stderr))"
   ]
  },
  {
   "cell_type": "code",
   "execution_count": 10,
   "id": "db4a6b11acac1711",
   "metadata": {},
   "outputs": [
    {
     "name": "stdout",
     "output_type": "stream",
     "text": [
      "return code: 0\n",
      "captured stdout: None\n",
      "captured stderr: None\n"
     ]
    }
   ],
   "source": [
    "print_completed_process(cp)"
   ]
  },
  {
   "cell_type": "code",
   "execution_count": 13,
   "id": "862526eda9318d3f",
   "metadata": {},
   "outputs": [],
   "source": [
    "cp = run([\"python\", \"--version\"], capture_output=True, text=True)"
   ]
  },
  {
   "cell_type": "code",
   "execution_count": 14,
   "id": "0017b4496bc94f5b",
   "metadata": {},
   "outputs": [
    {
     "name": "stdout",
     "output_type": "stream",
     "text": [
      "return code: 0\n",
      "captured stdout: 'Python 3.10.6\\n'\n",
      "captured stderr: ''\n"
     ]
    }
   ],
   "source": [
    "print_completed_process(cp)"
   ]
  },
  {
   "cell_type": "markdown",
   "id": "9f0f5a79a75ede6a",
   "metadata": {
    "lang": "en"
   },
   "source": [
    "\n",
    "With `sys.executable` you can find out the path of the currently active Python\n",
    "interpreter. This is the preferred way to start a Python process."
   ]
  },
  {
   "cell_type": "code",
   "execution_count": 15,
   "id": "b72b2c41a9d57010",
   "metadata": {},
   "outputs": [],
   "source": [
    "import sys"
   ]
  },
  {
   "cell_type": "code",
   "execution_count": 16,
   "id": "58083537",
   "metadata": {},
   "outputs": [],
   "source": [
    "cp = run([sys.executable, \"--version\"], capture_output=True, text=True)"
   ]
  },
  {
   "cell_type": "code",
   "execution_count": 17,
   "id": "e98c3bef20a83bab",
   "metadata": {},
   "outputs": [
    {
     "name": "stdout",
     "output_type": "stream",
     "text": [
      "return code: 0\n",
      "captured stdout: 'Python 3.10.6\\n'\n",
      "captured stderr: ''\n"
     ]
    }
   ],
   "source": [
    "print_completed_process(cp)"
   ]
  },
  {
   "cell_type": "code",
   "execution_count": 18,
   "id": "e909113afc01678c",
   "metadata": {},
   "outputs": [],
   "source": [
    "cp = run([\"python\", \"-m\", \"ext_sample_app\"], capture_output=True, text=True)"
   ]
  },
  {
   "cell_type": "code",
   "execution_count": 19,
   "id": "b8bfb5cf9b018407",
   "metadata": {},
   "outputs": [
    {
     "name": "stdout",
     "output_type": "stream",
     "text": [
      "return code: 2\n",
      "captured stdout: ''\n",
      "captured stderr: \"Usage: python -m ext_sample_app [OPTIONS] COMMAND [ARGS]...\\nTry 'python -m ext_sample_app --help' for help.\\n\\nError: Missing command.\\n\"\n"
     ]
    }
   ],
   "source": [
    "print_completed_process(cp)"
   ]
  },
  {
   "cell_type": "code",
   "execution_count": 20,
   "id": "e446988f27870f53",
   "metadata": {},
   "outputs": [],
   "source": [
    "cp = run([\"python\", \"-m\", \"ext_sample_app\", \"--help\"], capture_output=True, text=True)"
   ]
  },
  {
   "cell_type": "code",
   "execution_count": 21,
   "id": "5611176a90063e2d",
   "metadata": {},
   "outputs": [
    {
     "name": "stdout",
     "output_type": "stream",
     "text": [
      "return code: 0\n",
      "captured stdout: 'Usage: python -m ext_sample_app [OPTIONS] COMMAND [ARGS]...\\n\\nOptions:\\n  --help  Show this message and exit.\\n\\nCommands:\\n  error\\n  interact\\n  print-env\\n  say-hi\\n  serve\\n'\n",
      "captured stderr: ''\n"
     ]
    }
   ],
   "source": [
    "print_completed_process(cp)"
   ]
  },
  {
   "cell_type": "code",
   "execution_count": 22,
   "id": "ecbc76ee37aaba5d",
   "metadata": {},
   "outputs": [],
   "source": [
    "cp = run([\"python\", \"-m\", \"ext_sample_app\", \"say-hi\"], capture_output=True, text=True)"
   ]
  },
  {
   "cell_type": "code",
   "execution_count": 23,
   "id": "3929491238560960",
   "metadata": {},
   "outputs": [
    {
     "name": "stdout",
     "output_type": "stream",
     "text": [
      "return code: 0\n",
      "captured stdout: 'Hello, world!\\n'\n",
      "captured stderr: ''\n"
     ]
    }
   ],
   "source": [
    "print_completed_process(cp)"
   ]
  },
  {
   "cell_type": "code",
   "execution_count": 25,
   "id": "03e2455b2a884b7e",
   "metadata": {},
   "outputs": [
    {
     "ename": "TypeError",
     "evalue": "expected str, bytes or os.PathLike object, not NoneType",
     "output_type": "error",
     "traceback": [
      "\u001b[0;31m---------------------------------------------------------------------------\u001b[0m",
      "\u001b[0;31mTypeError\u001b[0m                                 Traceback (most recent call last)",
      "Cell \u001b[0;32mIn [25], line 1\u001b[0m\n\u001b[0;32m----> 1\u001b[0m cp \u001b[38;5;241m=\u001b[39m \u001b[43mrun\u001b[49m\u001b[43m(\u001b[49m\u001b[43m[\u001b[49m\u001b[43mshutil\u001b[49m\u001b[38;5;241;43m.\u001b[39;49m\u001b[43mwhich\u001b[49m\u001b[43m(\u001b[49m\u001b[38;5;124;43m\"\u001b[39;49m\u001b[38;5;124;43mext_sample_app\u001b[39;49m\u001b[38;5;124;43m\"\u001b[39;49m\u001b[43m)\u001b[49m\u001b[43m,\u001b[49m\u001b[43m \u001b[49m\u001b[38;5;124;43m\"\u001b[39;49m\u001b[38;5;124;43msay-hi\u001b[39;49m\u001b[38;5;124;43m\"\u001b[39;49m\u001b[43m]\u001b[49m\u001b[43m,\u001b[49m\u001b[43m \u001b[49m\u001b[43mcapture_output\u001b[49m\u001b[38;5;241;43m=\u001b[39;49m\u001b[38;5;28;43;01mTrue\u001b[39;49;00m\u001b[43m,\u001b[49m\u001b[43m \u001b[49m\u001b[43mtext\u001b[49m\u001b[38;5;241;43m=\u001b[39;49m\u001b[38;5;28;43;01mTrue\u001b[39;49;00m\u001b[43m)\u001b[49m\n",
      "File \u001b[0;32m~/programming/python/mambaforge/envs/cam/lib/python3.10/subprocess.py:501\u001b[0m, in \u001b[0;36mrun\u001b[0;34m(input, capture_output, timeout, check, *popenargs, **kwargs)\u001b[0m\n\u001b[1;32m    498\u001b[0m     kwargs[\u001b[38;5;124m'\u001b[39m\u001b[38;5;124mstdout\u001b[39m\u001b[38;5;124m'\u001b[39m] \u001b[38;5;241m=\u001b[39m PIPE\n\u001b[1;32m    499\u001b[0m     kwargs[\u001b[38;5;124m'\u001b[39m\u001b[38;5;124mstderr\u001b[39m\u001b[38;5;124m'\u001b[39m] \u001b[38;5;241m=\u001b[39m PIPE\n\u001b[0;32m--> 501\u001b[0m \u001b[38;5;28;01mwith\u001b[39;00m \u001b[43mPopen\u001b[49m\u001b[43m(\u001b[49m\u001b[38;5;241;43m*\u001b[39;49m\u001b[43mpopenargs\u001b[49m\u001b[43m,\u001b[49m\u001b[43m \u001b[49m\u001b[38;5;241;43m*\u001b[39;49m\u001b[38;5;241;43m*\u001b[39;49m\u001b[43mkwargs\u001b[49m\u001b[43m)\u001b[49m \u001b[38;5;28;01mas\u001b[39;00m process:\n\u001b[1;32m    502\u001b[0m     \u001b[38;5;28;01mtry\u001b[39;00m:\n\u001b[1;32m    503\u001b[0m         stdout, stderr \u001b[38;5;241m=\u001b[39m process\u001b[38;5;241m.\u001b[39mcommunicate(\u001b[38;5;28minput\u001b[39m, timeout\u001b[38;5;241m=\u001b[39mtimeout)\n",
      "File \u001b[0;32m~/programming/python/mambaforge/envs/cam/lib/python3.10/subprocess.py:969\u001b[0m, in \u001b[0;36mPopen.__init__\u001b[0;34m(self, args, bufsize, executable, stdin, stdout, stderr, preexec_fn, close_fds, shell, cwd, env, universal_newlines, startupinfo, creationflags, restore_signals, start_new_session, pass_fds, user, group, extra_groups, encoding, errors, text, umask, pipesize)\u001b[0m\n\u001b[1;32m    965\u001b[0m         \u001b[38;5;28;01mif\u001b[39;00m \u001b[38;5;28mself\u001b[39m\u001b[38;5;241m.\u001b[39mtext_mode:\n\u001b[1;32m    966\u001b[0m             \u001b[38;5;28mself\u001b[39m\u001b[38;5;241m.\u001b[39mstderr \u001b[38;5;241m=\u001b[39m io\u001b[38;5;241m.\u001b[39mTextIOWrapper(\u001b[38;5;28mself\u001b[39m\u001b[38;5;241m.\u001b[39mstderr,\n\u001b[1;32m    967\u001b[0m                     encoding\u001b[38;5;241m=\u001b[39mencoding, errors\u001b[38;5;241m=\u001b[39merrors)\n\u001b[0;32m--> 969\u001b[0m     \u001b[38;5;28;43mself\u001b[39;49m\u001b[38;5;241;43m.\u001b[39;49m\u001b[43m_execute_child\u001b[49m\u001b[43m(\u001b[49m\u001b[43margs\u001b[49m\u001b[43m,\u001b[49m\u001b[43m \u001b[49m\u001b[43mexecutable\u001b[49m\u001b[43m,\u001b[49m\u001b[43m \u001b[49m\u001b[43mpreexec_fn\u001b[49m\u001b[43m,\u001b[49m\u001b[43m \u001b[49m\u001b[43mclose_fds\u001b[49m\u001b[43m,\u001b[49m\n\u001b[1;32m    970\u001b[0m \u001b[43m                        \u001b[49m\u001b[43mpass_fds\u001b[49m\u001b[43m,\u001b[49m\u001b[43m \u001b[49m\u001b[43mcwd\u001b[49m\u001b[43m,\u001b[49m\u001b[43m \u001b[49m\u001b[43menv\u001b[49m\u001b[43m,\u001b[49m\n\u001b[1;32m    971\u001b[0m \u001b[43m                        \u001b[49m\u001b[43mstartupinfo\u001b[49m\u001b[43m,\u001b[49m\u001b[43m \u001b[49m\u001b[43mcreationflags\u001b[49m\u001b[43m,\u001b[49m\u001b[43m \u001b[49m\u001b[43mshell\u001b[49m\u001b[43m,\u001b[49m\n\u001b[1;32m    972\u001b[0m \u001b[43m                        \u001b[49m\u001b[43mp2cread\u001b[49m\u001b[43m,\u001b[49m\u001b[43m \u001b[49m\u001b[43mp2cwrite\u001b[49m\u001b[43m,\u001b[49m\n\u001b[1;32m    973\u001b[0m \u001b[43m                        \u001b[49m\u001b[43mc2pread\u001b[49m\u001b[43m,\u001b[49m\u001b[43m \u001b[49m\u001b[43mc2pwrite\u001b[49m\u001b[43m,\u001b[49m\n\u001b[1;32m    974\u001b[0m \u001b[43m                        \u001b[49m\u001b[43merrread\u001b[49m\u001b[43m,\u001b[49m\u001b[43m \u001b[49m\u001b[43merrwrite\u001b[49m\u001b[43m,\u001b[49m\n\u001b[1;32m    975\u001b[0m \u001b[43m                        \u001b[49m\u001b[43mrestore_signals\u001b[49m\u001b[43m,\u001b[49m\n\u001b[1;32m    976\u001b[0m \u001b[43m                        \u001b[49m\u001b[43mgid\u001b[49m\u001b[43m,\u001b[49m\u001b[43m \u001b[49m\u001b[43mgids\u001b[49m\u001b[43m,\u001b[49m\u001b[43m \u001b[49m\u001b[43muid\u001b[49m\u001b[43m,\u001b[49m\u001b[43m \u001b[49m\u001b[43mumask\u001b[49m\u001b[43m,\u001b[49m\n\u001b[1;32m    977\u001b[0m \u001b[43m                        \u001b[49m\u001b[43mstart_new_session\u001b[49m\u001b[43m)\u001b[49m\n\u001b[1;32m    978\u001b[0m \u001b[38;5;28;01mexcept\u001b[39;00m:\n\u001b[1;32m    979\u001b[0m     \u001b[38;5;66;03m# Cleanup if the child failed starting.\u001b[39;00m\n\u001b[1;32m    980\u001b[0m     \u001b[38;5;28;01mfor\u001b[39;00m f \u001b[38;5;129;01min\u001b[39;00m \u001b[38;5;28mfilter\u001b[39m(\u001b[38;5;28;01mNone\u001b[39;00m, (\u001b[38;5;28mself\u001b[39m\u001b[38;5;241m.\u001b[39mstdin, \u001b[38;5;28mself\u001b[39m\u001b[38;5;241m.\u001b[39mstdout, \u001b[38;5;28mself\u001b[39m\u001b[38;5;241m.\u001b[39mstderr)):\n",
      "File \u001b[0;32m~/programming/python/mambaforge/envs/cam/lib/python3.10/subprocess.py:1720\u001b[0m, in \u001b[0;36mPopen._execute_child\u001b[0;34m(self, args, executable, preexec_fn, close_fds, pass_fds, cwd, env, startupinfo, creationflags, shell, p2cread, p2cwrite, c2pread, c2pwrite, errread, errwrite, restore_signals, gid, gids, uid, umask, start_new_session)\u001b[0m\n\u001b[1;32m   1715\u001b[0m     executable \u001b[38;5;241m=\u001b[39m args[\u001b[38;5;241m0\u001b[39m]\n\u001b[1;32m   1717\u001b[0m sys\u001b[38;5;241m.\u001b[39maudit(\u001b[38;5;124m\"\u001b[39m\u001b[38;5;124msubprocess.Popen\u001b[39m\u001b[38;5;124m\"\u001b[39m, executable, args, cwd, env)\n\u001b[1;32m   1719\u001b[0m \u001b[38;5;28;01mif\u001b[39;00m (_USE_POSIX_SPAWN\n\u001b[0;32m-> 1720\u001b[0m         \u001b[38;5;129;01mand\u001b[39;00m \u001b[43mos\u001b[49m\u001b[38;5;241;43m.\u001b[39;49m\u001b[43mpath\u001b[49m\u001b[38;5;241;43m.\u001b[39;49m\u001b[43mdirname\u001b[49m\u001b[43m(\u001b[49m\u001b[43mexecutable\u001b[49m\u001b[43m)\u001b[49m\n\u001b[1;32m   1721\u001b[0m         \u001b[38;5;129;01mand\u001b[39;00m preexec_fn \u001b[38;5;129;01mis\u001b[39;00m \u001b[38;5;28;01mNone\u001b[39;00m\n\u001b[1;32m   1722\u001b[0m         \u001b[38;5;129;01mand\u001b[39;00m \u001b[38;5;129;01mnot\u001b[39;00m close_fds\n\u001b[1;32m   1723\u001b[0m         \u001b[38;5;129;01mand\u001b[39;00m \u001b[38;5;129;01mnot\u001b[39;00m pass_fds\n\u001b[1;32m   1724\u001b[0m         \u001b[38;5;129;01mand\u001b[39;00m cwd \u001b[38;5;129;01mis\u001b[39;00m \u001b[38;5;28;01mNone\u001b[39;00m\n\u001b[1;32m   1725\u001b[0m         \u001b[38;5;129;01mand\u001b[39;00m (p2cread \u001b[38;5;241m==\u001b[39m \u001b[38;5;241m-\u001b[39m\u001b[38;5;241m1\u001b[39m \u001b[38;5;129;01mor\u001b[39;00m p2cread \u001b[38;5;241m>\u001b[39m \u001b[38;5;241m2\u001b[39m)\n\u001b[1;32m   1726\u001b[0m         \u001b[38;5;129;01mand\u001b[39;00m (c2pwrite \u001b[38;5;241m==\u001b[39m \u001b[38;5;241m-\u001b[39m\u001b[38;5;241m1\u001b[39m \u001b[38;5;129;01mor\u001b[39;00m c2pwrite \u001b[38;5;241m>\u001b[39m \u001b[38;5;241m2\u001b[39m)\n\u001b[1;32m   1727\u001b[0m         \u001b[38;5;129;01mand\u001b[39;00m (errwrite \u001b[38;5;241m==\u001b[39m \u001b[38;5;241m-\u001b[39m\u001b[38;5;241m1\u001b[39m \u001b[38;5;129;01mor\u001b[39;00m errwrite \u001b[38;5;241m>\u001b[39m \u001b[38;5;241m2\u001b[39m)\n\u001b[1;32m   1728\u001b[0m         \u001b[38;5;129;01mand\u001b[39;00m \u001b[38;5;129;01mnot\u001b[39;00m start_new_session\n\u001b[1;32m   1729\u001b[0m         \u001b[38;5;129;01mand\u001b[39;00m gid \u001b[38;5;129;01mis\u001b[39;00m \u001b[38;5;28;01mNone\u001b[39;00m\n\u001b[1;32m   1730\u001b[0m         \u001b[38;5;129;01mand\u001b[39;00m gids \u001b[38;5;129;01mis\u001b[39;00m \u001b[38;5;28;01mNone\u001b[39;00m\n\u001b[1;32m   1731\u001b[0m         \u001b[38;5;129;01mand\u001b[39;00m uid \u001b[38;5;129;01mis\u001b[39;00m \u001b[38;5;28;01mNone\u001b[39;00m\n\u001b[1;32m   1732\u001b[0m         \u001b[38;5;129;01mand\u001b[39;00m umask \u001b[38;5;241m<\u001b[39m \u001b[38;5;241m0\u001b[39m):\n\u001b[1;32m   1733\u001b[0m     \u001b[38;5;28mself\u001b[39m\u001b[38;5;241m.\u001b[39m_posix_spawn(args, executable, env, restore_signals,\n\u001b[1;32m   1734\u001b[0m                       p2cread, p2cwrite,\n\u001b[1;32m   1735\u001b[0m                       c2pread, c2pwrite,\n\u001b[1;32m   1736\u001b[0m                       errread, errwrite)\n\u001b[1;32m   1737\u001b[0m     \u001b[38;5;28;01mreturn\u001b[39;00m\n",
      "File \u001b[0;32m~/programming/python/mambaforge/envs/cam/lib/python3.10/posixpath.py:152\u001b[0m, in \u001b[0;36mdirname\u001b[0;34m(p)\u001b[0m\n\u001b[1;32m    150\u001b[0m \u001b[38;5;28;01mdef\u001b[39;00m \u001b[38;5;21mdirname\u001b[39m(p):\n\u001b[1;32m    151\u001b[0m     \u001b[38;5;124;03m\"\"\"Returns the directory component of a pathname\"\"\"\u001b[39;00m\n\u001b[0;32m--> 152\u001b[0m     p \u001b[38;5;241m=\u001b[39m \u001b[43mos\u001b[49m\u001b[38;5;241;43m.\u001b[39;49m\u001b[43mfspath\u001b[49m\u001b[43m(\u001b[49m\u001b[43mp\u001b[49m\u001b[43m)\u001b[49m\n\u001b[1;32m    153\u001b[0m     sep \u001b[38;5;241m=\u001b[39m _get_sep(p)\n\u001b[1;32m    154\u001b[0m     i \u001b[38;5;241m=\u001b[39m p\u001b[38;5;241m.\u001b[39mrfind(sep) \u001b[38;5;241m+\u001b[39m \u001b[38;5;241m1\u001b[39m\n",
      "\u001b[0;31mTypeError\u001b[0m: expected str, bytes or os.PathLike object, not NoneType"
     ]
    }
   ],
   "source": [
    "cp = run([shutil.which(\"ext_sample_app\"), \"say-hi\"], capture_output=True, text=True)"
   ]
  },
  {
   "cell_type": "code",
   "execution_count": 26,
   "id": "0fc2790916aaba20",
   "metadata": {},
   "outputs": [],
   "source": [
    "cp = run([\"python\", \"-m\", \"ext_sample_app\", \"error\"], capture_output=True, text=True)"
   ]
  },
  {
   "cell_type": "code",
   "execution_count": 27,
   "id": "5a65ee8286f336ab",
   "metadata": {},
   "outputs": [
    {
     "name": "stdout",
     "output_type": "stream",
     "text": [
      "return code: 1\n",
      "captured stdout: ''\n",
      "captured stderr: 'An error occurred!\\n'\n"
     ]
    }
   ],
   "source": [
    "print_completed_process(cp)"
   ]
  },
  {
   "cell_type": "code",
   "execution_count": 28,
   "id": "464b3e731f66b293",
   "metadata": {},
   "outputs": [
    {
     "ename": "CalledProcessError",
     "evalue": "Command '['python', '-m', 'ext_sample_app', 'error']' returned non-zero exit status 1.",
     "output_type": "error",
     "traceback": [
      "\u001b[0;31m---------------------------------------------------------------------------\u001b[0m",
      "\u001b[0;31mCalledProcessError\u001b[0m                        Traceback (most recent call last)",
      "Cell \u001b[0;32mIn [28], line 1\u001b[0m\n\u001b[0;32m----> 1\u001b[0m \u001b[43mcp\u001b[49m\u001b[38;5;241;43m.\u001b[39;49m\u001b[43mcheck_returncode\u001b[49m\u001b[43m(\u001b[49m\u001b[43m)\u001b[49m\n",
      "File \u001b[0;32m~/programming/python/mambaforge/envs/cam/lib/python3.10/subprocess.py:456\u001b[0m, in \u001b[0;36mCompletedProcess.check_returncode\u001b[0;34m(self)\u001b[0m\n\u001b[1;32m    454\u001b[0m \u001b[38;5;124;03m\"\"\"Raise CalledProcessError if the exit code is non-zero.\"\"\"\u001b[39;00m\n\u001b[1;32m    455\u001b[0m \u001b[38;5;28;01mif\u001b[39;00m \u001b[38;5;28mself\u001b[39m\u001b[38;5;241m.\u001b[39mreturncode:\n\u001b[0;32m--> 456\u001b[0m     \u001b[38;5;28;01mraise\u001b[39;00m CalledProcessError(\u001b[38;5;28mself\u001b[39m\u001b[38;5;241m.\u001b[39mreturncode, \u001b[38;5;28mself\u001b[39m\u001b[38;5;241m.\u001b[39margs, \u001b[38;5;28mself\u001b[39m\u001b[38;5;241m.\u001b[39mstdout,\n\u001b[1;32m    457\u001b[0m                              \u001b[38;5;28mself\u001b[39m\u001b[38;5;241m.\u001b[39mstderr)\n",
      "\u001b[0;31mCalledProcessError\u001b[0m: Command '['python', '-m', 'ext_sample_app', 'error']' returned non-zero exit status 1."
     ]
    }
   ],
   "source": [
    "cp.check_returncode()"
   ]
  },
  {
   "cell_type": "code",
   "execution_count": 29,
   "id": "15dafba6b864de8e",
   "metadata": {},
   "outputs": [],
   "source": [
    "cp = run([\"python\", \"-m\", \"ext_sample_app\", \"say-hi\"], capture_output=True, text=True)"
   ]
  },
  {
   "cell_type": "code",
   "execution_count": 30,
   "id": "851d84d2",
   "metadata": {},
   "outputs": [],
   "source": [
    "cp.check_returncode()"
   ]
  },
  {
   "cell_type": "code",
   "execution_count": 31,
   "id": "9895e49df8916ab9",
   "metadata": {},
   "outputs": [],
   "source": [
    "cp = run([\"python\", \"-m\", \"ext_sample_app\", \"print-env\"], capture_output=True, text=True)"
   ]
  },
  {
   "cell_type": "code",
   "execution_count": 32,
   "id": "52e23a62a011d750",
   "metadata": {},
   "outputs": [
    {
     "name": "stdout",
     "output_type": "stream",
     "text": [
      "return code: 0\n",
      "captured stdout: \"{b'CLICOLOR': b'1',\\n b'COLORTERM': b'truecolor',\\n b'CONDA_DEFAULT_ENV': b'cam',\\n b'CONDA_EXE': b'/home/tc/programming/python/mambaforge/bin/conda',\\n b'CONDA_MKL_INTERFACE_LAYER_BACKUP': b'',\\n b'CONDA_PREFIX': b'/home/tc/programming/python/mambaforge/envs/cam',\\n b'CONDA_PROMPT_MODIFIER': b'(cam) ',\\n b'CONDA_PYTHON_EXE': b'/home/tc/programming/python/mambaforge/bin/python',\\n b'CONDA_SHLVL': b'1',\\n b'DBUS_SESSION_BUS_ADDRESS': b'unix:path=/run/user/1000/bus',\\n b'DEFAULTS_PATH': b'/usr/share/gconf/ubuntu.default.path',\\n b'DESKTOP_SESSION': b'ubuntu',\\n b'DISPLAY': b':1',\\n b'DOTNET_BUNDLE_EXTRACT_BASE_DIR': b'/home/tc/.cache/dotnet_bundle_extract',\\n b'DOTNET_ROOT': b'/usr/lib/dotnet/dotnet6-6.0.109',\\n b'GDMSESSION': b'ubuntu',\\n b'GIT_PAGER': b'cat',\\n b'GNOME_DESKTOP_SESSION_ID': b'this-is-deprecated',\\n b'GNOME_SHELL_SESSION_MODE': b'ubuntu',\\n b'GNOME_TERMINAL_SCREEN': b'/org/gnome/Terminal/screen/350ac3a2_978e_4bc9_93'\\n                           b'16_c98b9af1462a',\\n b'GNOME_TERMINAL_SERVICE': b':1.92',\\n b'GPG_AGENT_INFO': b'/run/user/1000/gnupg/S.gpg-agent:0:1',\\n b'GSETTINGS_SCHEMA_DIR': b'/home/tc/programming/python/mambaforge/envs/cam/'\\n                          b'share/glib-2.0/schemas',\\n b'GSETTINGS_SCHEMA_DIR_CONDA_BACKUP': b'',\\n b'GTK_MODULES': b'gail:atk-bridge',\\n b'HOME': b'/home/tc',\\n b'JPY_PARENT_PID': b'33330',\\n b'LANG': b'en_US.UTF-8',\\n b'LC_ADDRESS': b'de_DE.UTF-8',\\n b'LC_IDENTIFICATION': b'de_DE.UTF-8',\\n b'LC_MEASUREMENT': b'de_DE.UTF-8',\\n b'LC_MONETARY': b'de_DE.UTF-8',\\n b'LC_NAME': b'de_DE.UTF-8',\\n b'LC_NUMERIC': b'de_DE.UTF-8',\\n b'LC_PAPER': b'de_DE.UTF-8',\\n b'LC_TELEPHONE': b'de_DE.UTF-8',\\n b'LC_TIME': b'de_DE.UTF-8',\\n b'LESSCLOSE': b'/usr/bin/lesspipe %s %s',\\n b'LESSOPEN': b'| /usr/bin/lesspipe %s',\\n b'LOGNAME': b'tc',\\n b'LS_COLORS': b'rs=0:di=01;34:ln=01;36:mh=00:pi=40;33:so=01;35:do=01;35:bd=4'\\n               b'0;33;01:cd=40;33;01:or=40;31;01:mi=00:su=37;41:sg=30;43:ca=3'\\n               b'0;41:tw=30;42:ow=34;42:st=37;44:ex=01;32:*.tar=01;31:*.tgz=0'\\n               b'1;31:*.arc=01;31:*.arj=01;31:*.taz=01;31:*.lha=01;31:*.lz4=0'\\n               b'1;31:*.lzh=01;31:*.lzma=01;31:*.tlz=01;31:*.txz=01;31:*.tzo='\\n               b'01;31:*.t7z=01;31:*.zip=01;31:*.z=01;31:*.dz=01;31:*.gz=01;3'\\n               b'1:*.lrz=01;31:*.lz=01;31:*.lzo=01;31:*.xz=01;31:*.zst=01;31:'\\n               b'*.tzst=01;31:*.bz2=01;31:*.bz=01;31:*.tbz=01;31:*.tbz2=01;31'\\n               b':*.tz=01;31:*.deb=01;31:*.rpm=01;31:*.jar=01;31:*.war=01;31:'\\n               b'*.ear=01;31:*.sar=01;31:*.rar=01;31:*.alz=01;31:*.ace=01;31:'\\n               b'*.zoo=01;31:*.cpio=01;31:*.7z=01;31:*.rz=01;31:*.cab=01;31:*'\\n               b'.wim=01;31:*.swm=01;31:*.dwm=01;31:*.esd=01;31:*.jpg=01;35:*'\\n               b'.jpeg=01;35:*.mjpg=01;35:*.mjpeg=01;35:*.gif=01;35:*.bmp=01;'\\n               b'35:*.pbm=01;35:*.pgm=01;35:*.ppm=01;35:*.tga=01;35:*.xbm=01;'\\n               b'35:*.xpm=01;35:*.tif=01;35:*.tiff=01;35:*.png=01;35:*.svg=01'\\n               b';35:*.svgz=01;35:*.mng=01;35:*.pcx=01;35:*.mov=01;35:*.mpg=0'\\n               b'1;35:*.mpeg=01;35:*.m2v=01;35:*.mkv=01;35:*.webm=01;35:*.web'\\n               b'p=01;35:*.ogm=01;35:*.mp4=01;35:*.m4v=01;35:*.mp4v=01;35:*.v'\\n               b'ob=01;35:*.qt=01;35:*.nuv=01;35:*.wmv=01;35:*.asf=01;35:*.rm'\\n               b'=01;35:*.rmvb=01;35:*.flc=01;35:*.avi=01;35:*.fli=01;35:*.fl'\\n               b'v=01;35:*.gl=01;35:*.dl=01;35:*.xcf=01;35:*.xwd=01;35:*.yuv='\\n               b'01;35:*.cgm=01;35:*.emf=01;35:*.ogv=01;35:*.ogx=01;35:*.aac='\\n               b'00;36:*.au=00;36:*.flac=00;36:*.m4a=00;36:*.mid=00;36:*.midi'\\n               b'=00;36:*.mka=00;36:*.mp3=00;36:*.mpc=00;36:*.ogg=00;36:*.ra='\\n               b'00;36:*.wav=00;36:*.oga=00;36:*.opus=00;36:*.spx=00;36:*.xsp'\\n               b'f=00;36:',\\n b'MANDATORY_PATH': b'/usr/share/gconf/ubuntu.mandatory.path',\\n b'MKL_INTERFACE_LAYER': b'LP64,GNU',\\n b'MPLBACKEND': b'module://matplotlib_inline.backend_inline',\\n b'PAGER': b'cat',\\n b'PATH': b'/home/tc/programming/python/mambaforge/envs/cam/bin:/home/tc/pro'\\n          b'gramming/python/mambaforge/condabin:/usr/local/sbin:/usr/local/b'\\n          b'in:/usr/sbin:/usr/bin:/sbin:/bin:/usr/games:/usr/local/games:/sn'\\n          b'ap/bin:/snap/bin:/home/tc/.dotnet/tools',\\n b'PWD': b'/home/tc/programming/python/courses/own/python-courses/python-public',\\n b'QT_ACCESSIBILITY': b'1',\\n b'QT_IM_MODULE': b'ibus',\\n b'SESSION_MANAGER': b'local/cheetah:@/tmp/.ICE-unix/5438,unix/cheetah:/tmp/.IC'\\n                     b'E-unix/5438',\\n b'SHELL': b'/bin/bash',\\n b'SHLVL': b'1',\\n b'SSH_AGENT_LAUNCHER': b'gnome-keyring',\\n b'SSH_AUTH_SOCK': b'/run/user/1000/keyring/ssh',\\n b'SYSTEMD_EXEC_PID': b'6975',\\n b'TERM': b'xterm-color',\\n b'USER': b'tc',\\n b'USERNAME': b'tc',\\n b'VTE_VERSION': b'6800',\\n b'WINDOWPATH': b'2',\\n b'XAUTHORITY': b'/run/user/1000/gdm/Xauthority',\\n b'XDG_CONFIG_DIRS': b'/etc/xdg/xdg-ubuntu:/etc/xdg',\\n b'XDG_CURRENT_DESKTOP': b'ubuntu:GNOME',\\n b'XDG_DATA_DIRS': b'/usr/share/ubuntu:/usr/share/gnome:/usr/local/share/:/us'\\n                   b'r/share/:/var/lib/snapd/desktop',\\n b'XDG_MENU_PREFIX': b'gnome-',\\n b'XDG_RUNTIME_DIR': b'/run/user/1000',\\n b'XDG_SESSION_CLASS': b'user',\\n b'XDG_SESSION_DESKTOP': b'ubuntu',\\n b'XDG_SESSION_TYPE': b'x11',\\n b'XMODIFIERS': b'@im=ibus',\\n b'_': b'/home/tc/programming/python/mambaforge/envs/cam/bin/jupyter',\\n b'_CE_CONDA': b'',\\n b'_CE_M': b''}\\n\"\n",
      "captured stderr: ''\n"
     ]
    }
   ],
   "source": [
    "print_completed_process(cp)"
   ]
  },
  {
   "cell_type": "code",
   "execution_count": 33,
   "id": "827d5334",
   "metadata": {},
   "outputs": [
    {
     "name": "stdout",
     "output_type": "stream",
     "text": [
      "{b'CLICOLOR': b'1',\n",
      " b'COLORTERM': b'truecolor',\n",
      " b'CONDA_DEFAULT_ENV': b'cam',\n",
      " b'CONDA_EXE': b'/home/tc/programming/python/mambaforge/bin/conda',\n",
      " b'CONDA_MKL_INTERFACE_LAYER_BACKUP': b'',\n",
      " b'CONDA_PREFIX': b'/home/tc/programming/python/mambaforge/envs/cam',\n",
      " b'CONDA_PROMPT_MODIFIER': b'(cam) ',\n",
      " b'CONDA_PYTHON_EXE': b'/home/tc/programming/python/mambaforge/bin/python',\n",
      " b'CONDA_SHLVL': b'1',\n",
      " b'DBUS_SESSION_BUS_ADDRESS': b'unix:path=/run/user/1000/bus',\n",
      " b'DEFAULTS_PATH': b'/usr/share/gconf/ubuntu.default.path',\n",
      " b'DESKTOP_SESSION': b'ubuntu',\n",
      " b'DISPLAY': b':1',\n",
      " b'DOTNET_BUNDLE_EXTRACT_BASE_DIR': b'/home/tc/.cache/dotnet_bundle_extract',\n",
      " b'DOTNET_ROOT': b'/usr/lib/dotnet/dotnet6-6.0.109',\n",
      " b'GDMSESSION': b'ubuntu',\n",
      " b'GIT_PAGER': b'cat',\n",
      " b'GNOME_DESKTOP_SESSION_ID': b'this-is-deprecated',\n",
      " b'GNOME_SHELL_SESSION_MODE': b'ubuntu',\n",
      " b'GNOME_TERMINAL_SCREEN': b'/org/gnome/Terminal/screen/350ac3a2_978e_4bc9_93'\n",
      "                           b'16_c98b9af1462a',\n",
      " b'GNOME_TERMINAL_SERVICE': b':1.92',\n",
      " b'GPG_AGENT_INFO': b'/run/user/1000/gnupg/S.gpg-agent:0:1',\n",
      " b'GSETTINGS_SCHEMA_DIR': b'/home/tc/programming/python/mambaforge/envs/cam/'\n",
      "                          b'share/glib-2.0/schemas',\n",
      " b'GSETTINGS_SCHEMA_DIR_CONDA_BACKUP': b'',\n",
      " b'GTK_MODULES': b'gail:atk-bridge',\n",
      " b'HOME': b'/home/tc',\n",
      " b'JPY_PARENT_PID': b'33330',\n",
      " b'LANG': b'en_US.UTF-8',\n",
      " b'LC_ADDRESS': b'de_DE.UTF-8',\n",
      " b'LC_IDENTIFICATION': b'de_DE.UTF-8',\n",
      " b'LC_MEASUREMENT': b'de_DE.UTF-8',\n",
      " b'LC_MONETARY': b'de_DE.UTF-8',\n",
      " b'LC_NAME': b'de_DE.UTF-8',\n",
      " b'LC_NUMERIC': b'de_DE.UTF-8',\n",
      " b'LC_PAPER': b'de_DE.UTF-8',\n",
      " b'LC_TELEPHONE': b'de_DE.UTF-8',\n",
      " b'LC_TIME': b'de_DE.UTF-8',\n",
      " b'LESSCLOSE': b'/usr/bin/lesspipe %s %s',\n",
      " b'LESSOPEN': b'| /usr/bin/lesspipe %s',\n",
      " b'LOGNAME': b'tc',\n",
      " b'LS_COLORS': b'rs=0:di=01;34:ln=01;36:mh=00:pi=40;33:so=01;35:do=01;35:bd=4'\n",
      "               b'0;33;01:cd=40;33;01:or=40;31;01:mi=00:su=37;41:sg=30;43:ca=3'\n",
      "               b'0;41:tw=30;42:ow=34;42:st=37;44:ex=01;32:*.tar=01;31:*.tgz=0'\n",
      "               b'1;31:*.arc=01;31:*.arj=01;31:*.taz=01;31:*.lha=01;31:*.lz4=0'\n",
      "               b'1;31:*.lzh=01;31:*.lzma=01;31:*.tlz=01;31:*.txz=01;31:*.tzo='\n",
      "               b'01;31:*.t7z=01;31:*.zip=01;31:*.z=01;31:*.dz=01;31:*.gz=01;3'\n",
      "               b'1:*.lrz=01;31:*.lz=01;31:*.lzo=01;31:*.xz=01;31:*.zst=01;31:'\n",
      "               b'*.tzst=01;31:*.bz2=01;31:*.bz=01;31:*.tbz=01;31:*.tbz2=01;31'\n",
      "               b':*.tz=01;31:*.deb=01;31:*.rpm=01;31:*.jar=01;31:*.war=01;31:'\n",
      "               b'*.ear=01;31:*.sar=01;31:*.rar=01;31:*.alz=01;31:*.ace=01;31:'\n",
      "               b'*.zoo=01;31:*.cpio=01;31:*.7z=01;31:*.rz=01;31:*.cab=01;31:*'\n",
      "               b'.wim=01;31:*.swm=01;31:*.dwm=01;31:*.esd=01;31:*.jpg=01;35:*'\n",
      "               b'.jpeg=01;35:*.mjpg=01;35:*.mjpeg=01;35:*.gif=01;35:*.bmp=01;'\n",
      "               b'35:*.pbm=01;35:*.pgm=01;35:*.ppm=01;35:*.tga=01;35:*.xbm=01;'\n",
      "               b'35:*.xpm=01;35:*.tif=01;35:*.tiff=01;35:*.png=01;35:*.svg=01'\n",
      "               b';35:*.svgz=01;35:*.mng=01;35:*.pcx=01;35:*.mov=01;35:*.mpg=0'\n",
      "               b'1;35:*.mpeg=01;35:*.m2v=01;35:*.mkv=01;35:*.webm=01;35:*.web'\n",
      "               b'p=01;35:*.ogm=01;35:*.mp4=01;35:*.m4v=01;35:*.mp4v=01;35:*.v'\n",
      "               b'ob=01;35:*.qt=01;35:*.nuv=01;35:*.wmv=01;35:*.asf=01;35:*.rm'\n",
      "               b'=01;35:*.rmvb=01;35:*.flc=01;35:*.avi=01;35:*.fli=01;35:*.fl'\n",
      "               b'v=01;35:*.gl=01;35:*.dl=01;35:*.xcf=01;35:*.xwd=01;35:*.yuv='\n",
      "               b'01;35:*.cgm=01;35:*.emf=01;35:*.ogv=01;35:*.ogx=01;35:*.aac='\n",
      "               b'00;36:*.au=00;36:*.flac=00;36:*.m4a=00;36:*.mid=00;36:*.midi'\n",
      "               b'=00;36:*.mka=00;36:*.mp3=00;36:*.mpc=00;36:*.ogg=00;36:*.ra='\n",
      "               b'00;36:*.wav=00;36:*.oga=00;36:*.opus=00;36:*.spx=00;36:*.xsp'\n",
      "               b'f=00;36:',\n",
      " b'MANDATORY_PATH': b'/usr/share/gconf/ubuntu.mandatory.path',\n",
      " b'MKL_INTERFACE_LAYER': b'LP64,GNU',\n",
      " b'MPLBACKEND': b'module://matplotlib_inline.backend_inline',\n",
      " b'PAGER': b'cat',\n",
      " b'PATH': b'/home/tc/programming/python/mambaforge/envs/cam/bin:/home/tc/pro'\n",
      "          b'gramming/python/mambaforge/condabin:/usr/local/sbin:/usr/local/b'\n",
      "          b'in:/usr/sbin:/usr/bin:/sbin:/bin:/usr/games:/usr/local/games:/sn'\n",
      "          b'ap/bin:/snap/bin:/home/tc/.dotnet/tools',\n",
      " b'PWD': b'/home/tc/programming/python/courses/own/python-courses/python-public',\n",
      " b'QT_ACCESSIBILITY': b'1',\n",
      " b'QT_IM_MODULE': b'ibus',\n",
      " b'SESSION_MANAGER': b'local/cheetah:@/tmp/.ICE-unix/5438,unix/cheetah:/tmp/.IC'\n",
      "                     b'E-unix/5438',\n",
      " b'SHELL': b'/bin/bash',\n",
      " b'SHLVL': b'1',\n",
      " b'SSH_AGENT_LAUNCHER': b'gnome-keyring',\n",
      " b'SSH_AUTH_SOCK': b'/run/user/1000/keyring/ssh',\n",
      " b'SYSTEMD_EXEC_PID': b'6975',\n",
      " b'TERM': b'xterm-color',\n",
      " b'USER': b'tc',\n",
      " b'USERNAME': b'tc',\n",
      " b'VTE_VERSION': b'6800',\n",
      " b'WINDOWPATH': b'2',\n",
      " b'XAUTHORITY': b'/run/user/1000/gdm/Xauthority',\n",
      " b'XDG_CONFIG_DIRS': b'/etc/xdg/xdg-ubuntu:/etc/xdg',\n",
      " b'XDG_CURRENT_DESKTOP': b'ubuntu:GNOME',\n",
      " b'XDG_DATA_DIRS': b'/usr/share/ubuntu:/usr/share/gnome:/usr/local/share/:/us'\n",
      "                   b'r/share/:/var/lib/snapd/desktop',\n",
      " b'XDG_MENU_PREFIX': b'gnome-',\n",
      " b'XDG_RUNTIME_DIR': b'/run/user/1000',\n",
      " b'XDG_SESSION_CLASS': b'user',\n",
      " b'XDG_SESSION_DESKTOP': b'ubuntu',\n",
      " b'XDG_SESSION_TYPE': b'x11',\n",
      " b'XMODIFIERS': b'@im=ibus',\n",
      " b'_': b'/home/tc/programming/python/mambaforge/envs/cam/bin/jupyter',\n",
      " b'_CE_CONDA': b'',\n",
      " b'_CE_M': b''}\n"
     ]
    }
   ],
   "source": [
    "pprint(eval(cp.stdout, {}))"
   ]
  },
  {
   "cell_type": "code",
   "execution_count": 37,
   "id": "85eb68a2",
   "metadata": {},
   "outputs": [
    {
     "data": {
      "text/plain": [
       "'/home/tc/programming/python/mambaforge/envs/cam/bin/python'"
      ]
     },
     "execution_count": 37,
     "metadata": {},
     "output_type": "execute_result"
    }
   ],
   "source": [
    "sys.executable"
   ]
  },
  {
   "cell_type": "code",
   "execution_count": 38,
   "id": "ea3cb027bc89aea5",
   "metadata": {},
   "outputs": [],
   "source": [
    "cp = run([sys.executable, \"-m\", \"ext_sample_app\", \"print-env\"], capture_output=True, text=True,\n",
    "         env={b\"MY_VAR\": b\"123\", b\"YOUR_VAR\": b\"234\"})"
   ]
  },
  {
   "cell_type": "code",
   "execution_count": 39,
   "id": "8d32a60e96ebf629",
   "metadata": {},
   "outputs": [
    {
     "name": "stdout",
     "output_type": "stream",
     "text": [
      "{b'LC_CTYPE': b'C.UTF-8', b'MY_VAR': b'123', b'YOUR_VAR': b'234'}\n"
     ]
    }
   ],
   "source": [
    "pprint(eval(cp.stdout, {}))"
   ]
  },
  {
   "cell_type": "code",
   "execution_count": 40,
   "id": "4a6aa42b550f55a6",
   "metadata": {},
   "outputs": [],
   "source": [
    "cp = run([\"python\", \"-m\", \"ext_sample_app\", \"interact\"],\n",
    "         capture_output=True, text=True)"
   ]
  },
  {
   "cell_type": "code",
   "execution_count": 41,
   "id": "1c9840338e391a2c",
   "metadata": {},
   "outputs": [
    {
     "name": "stdout",
     "output_type": "stream",
     "text": [
      "return code: 1\n",
      "captured stdout: 'Please enter a command: '\n",
      "captured stderr: '\\nAborted!\\n'\n"
     ]
    }
   ],
   "source": [
    "print_completed_process(cp)"
   ]
  },
  {
   "cell_type": "code",
   "execution_count": 43,
   "id": "c2325249c94e8a74",
   "metadata": {},
   "outputs": [],
   "source": [
    "cp = run([\"python\", \"-m\", \"ext_sample_app\", \"interact\"],\n",
    "         input=\"exit\",\n",
    "         capture_output=True, text=True)"
   ]
  },
  {
   "cell_type": "code",
   "execution_count": 44,
   "id": "6b5d32e7ea1d379c",
   "metadata": {},
   "outputs": [
    {
     "name": "stdout",
     "output_type": "stream",
     "text": [
      "return code: 0\n",
      "captured stdout: 'Please enter a command: Exiting!\\n'\n",
      "captured stderr: ''\n"
     ]
    }
   ],
   "source": [
    "print_completed_process(cp)"
   ]
  },
  {
   "cell_type": "code",
   "execution_count": 47,
   "id": "d9b058d8ae19ebc1",
   "metadata": {},
   "outputs": [],
   "source": [
    "cp = run([\"python\", \"-m\", \"ext_sample_app\", \"interact\"],\n",
    "         input=\"work slowly\",\n",
    "         capture_output=True, text=True)"
   ]
  },
  {
   "cell_type": "code",
   "execution_count": 48,
   "id": "55bf8b53",
   "metadata": {},
   "outputs": [
    {
     "name": "stdout",
     "output_type": "stream",
     "text": [
      "return code: 0\n",
      "captured stdout: 'Please enter a command: Working...done.\\n'\n",
      "captured stderr: ''\n"
     ]
    }
   ],
   "source": [
    "print_completed_process(cp)"
   ]
  },
  {
   "cell_type": "markdown",
   "id": "1853aefa15d35eb6",
   "metadata": {
    "lang": "en"
   },
   "source": [
    "## Popen: Concurrent execution of programs\n",
    "\n",
    "If you can't wait for the launched program to finish, you have to use the\n",
    "`subprocess. Popen` class:"
   ]
  },
  {
   "cell_type": "code",
   "execution_count": 49,
   "id": "9f8946fd73b44c02",
   "metadata": {},
   "outputs": [],
   "source": [
    "from subprocess import Popen, PIPE\n",
    "import sys"
   ]
  },
  {
   "cell_type": "code",
   "execution_count": 68,
   "id": "d2abc3506ca1b956",
   "metadata": {},
   "outputs": [],
   "source": [
    "proc = Popen(\n",
    "    [sys.executable, \"-m\", \"ext_sample_app\", \"interact\"],\n",
    "    stdin=PIPE,\n",
    "    stderr=PIPE,\n",
    "    stdout=PIPE,\n",
    "    encoding=\"utf-8\",\n",
    "    universal_newlines=True,\n",
    "    bufsize=0,\n",
    ")"
   ]
  },
  {
   "cell_type": "code",
   "execution_count": 69,
   "id": "544bda762bac342d",
   "metadata": {},
   "outputs": [
    {
     "data": {
      "text/plain": [
       "subprocess.Popen"
      ]
     },
     "execution_count": 69,
     "metadata": {},
     "output_type": "execute_result"
    }
   ],
   "source": [
    "type(proc)"
   ]
  },
  {
   "cell_type": "markdown",
   "id": "3468e9785faff4e6",
   "metadata": {
    "lang": "en"
   },
   "source": [
    "\n",
    "`proc.communicate()` sends a message to `proc`, closes the input and output\n",
    "streams and ends the process."
   ]
  },
  {
   "cell_type": "code",
   "execution_count": 70,
   "id": "7c8f20bfa71b8d99",
   "metadata": {},
   "outputs": [
    {
     "data": {
      "text/plain": [
       "('Please enter a command: Working...done.\\n', '')"
      ]
     },
     "execution_count": 70,
     "metadata": {},
     "output_type": "execute_result"
    }
   ],
   "source": [
    "proc.communicate(\"work slowly\")"
   ]
  },
  {
   "cell_type": "markdown",
   "id": "77aeff06e4afef80",
   "metadata": {
    "lang": "en"
   },
   "source": [
    "\n",
    "With `proc.poll()` you can determine whether the process has already ended and\n",
    "what its return value was. If the result is `None`, the process is still\n",
    "active. `proc.wait()` waits a certain amount of time and returns the status of\n",
    "the process. If the process hasn't finished in the allotted time, a\n",
    "`TimeoutExpired` exception is thrown."
   ]
  },
  {
   "cell_type": "code",
   "execution_count": 71,
   "id": "fe4c7d4634b58ff2",
   "metadata": {},
   "outputs": [
    {
     "data": {
      "text/plain": [
       "0"
      ]
     },
     "execution_count": 71,
     "metadata": {},
     "output_type": "execute_result"
    }
   ],
   "source": [
    "proc.poll()"
   ]
  },
  {
   "cell_type": "code",
   "execution_count": 72,
   "id": "5399ed4cb8610356",
   "metadata": {},
   "outputs": [],
   "source": [
    "def run_and_communicate(command, timeout=None):\n",
    "    wait_result = None\n",
    "    result = None\n",
    "    proc = Popen(\n",
    "        [sys.executable, \"-m\", \"ext_sample_app\", \"interact\"],\n",
    "        stdin=PIPE,\n",
    "        stdout=PIPE,\n",
    "        stderr=PIPE,\n",
    "        encoding=\"utf-8\",\n",
    "        universal_newlines=True,\n",
    "        bufsize=0,\n",
    "    )\n",
    "    try:\n",
    "        result = proc.communicate(command, timeout=timeout)\n",
    "    except TimeoutExpired:\n",
    "        print(\"Process did not terminate!\")\n",
    "        proc.terminate()\n",
    "        wait_result = proc.wait(5.0)\n",
    "    return result, wait_result"
   ]
  },
  {
   "cell_type": "code",
   "execution_count": 73,
   "id": "cd664efa1b1c51f3",
   "metadata": {},
   "outputs": [
    {
     "data": {
      "text/plain": [
       "(('Please enter a command: Exiting!\\n', ''), None)"
      ]
     },
     "execution_count": 73,
     "metadata": {},
     "output_type": "execute_result"
    }
   ],
   "source": [
    "run_and_communicate(\"exit\")"
   ]
  },
  {
   "cell_type": "code",
   "execution_count": 74,
   "id": "09613eedc2ea94c7",
   "metadata": {},
   "outputs": [
    {
     "data": {
      "text/plain": [
       "(('Please enter a command: Working...done.\\n', ''), None)"
      ]
     },
     "execution_count": 74,
     "metadata": {},
     "output_type": "execute_result"
    }
   ],
   "source": [
    "run_and_communicate(\"work\")"
   ]
  },
  {
   "cell_type": "code",
   "execution_count": 75,
   "id": "0d3ce2286bf82461",
   "metadata": {},
   "outputs": [
    {
     "name": "stdout",
     "output_type": "stream",
     "text": [
      "Process did not terminate!\n"
     ]
    },
    {
     "data": {
      "text/plain": [
       "(None, -15)"
      ]
     },
     "execution_count": 75,
     "metadata": {},
     "output_type": "execute_result"
    }
   ],
   "source": [
    "run_and_communicate(\"work\", 0.1)"
   ]
  },
  {
   "cell_type": "code",
   "execution_count": 77,
   "id": "50e8c22e06c95601",
   "metadata": {},
   "outputs": [
    {
     "data": {
      "text/plain": [
       "(('Please enter a command: ', \"ERROR: Illegal command 'error'!\\n\"), None)"
      ]
     },
     "execution_count": 77,
     "metadata": {},
     "output_type": "execute_result"
    }
   ],
   "source": [
    "run_and_communicate(\"error\")"
   ]
  },
  {
   "cell_type": "code",
   "execution_count": null,
   "id": "5e5ab061",
   "metadata": {},
   "outputs": [],
   "source": []
  },
  {
   "cell_type": "markdown",
   "id": "ac2b77de8390d205",
   "metadata": {
    "lang": "en",
    "lines_to_next_cell": 2
   },
   "source": [
    "## Communication with sockets\n",
    "\n",
    "The following example shows how to start a process and then communicate with\n",
    "it using sockets."
   ]
  },
  {
   "cell_type": "code",
   "execution_count": 78,
   "id": "c2121c7da95b30d9",
   "metadata": {},
   "outputs": [],
   "source": [
    "from subprocess import Popen, PIPE\n",
    "import sys"
   ]
  },
  {
   "cell_type": "code",
   "execution_count": 79,
   "id": "bc3d271002510085",
   "metadata": {},
   "outputs": [],
   "source": [
    "HOST = \"localhost\"\n",
    "PORT = 12345"
   ]
  },
  {
   "cell_type": "code",
   "execution_count": 80,
   "id": "373b15d11b501a0d",
   "metadata": {},
   "outputs": [],
   "source": [
    "from socket import socket, AF_INET, SOCK_STREAM"
   ]
  },
  {
   "cell_type": "code",
   "execution_count": 81,
   "id": "7b3fb8241ac13447",
   "metadata": {},
   "outputs": [],
   "source": [
    "def send_message(msg: str):\n",
    "    with socket(AF_INET, SOCK_STREAM) as sock:\n",
    "        sock.connect((HOST, PORT))\n",
    "        sock.sendall(bytes(msg + \"\\n\", \"utf-8\"))\n",
    "        return str(sock.recv(1024), \"utf-8\")"
   ]
  },
  {
   "cell_type": "code",
   "execution_count": 82,
   "id": "e713e414fa7d0ab2",
   "metadata": {},
   "outputs": [],
   "source": [
    "proc = Popen(\n",
    "    [sys.executable, \"-m\", \"ext_sample_app\", \"serve\", \"--host\", HOST, \"--port\", str(PORT)],\n",
    "    stdin=PIPE, stderr=PIPE, stdout=PIPE, encoding=\"utf-8\", universal_newlines=True, bufsize=0,\n",
    ")"
   ]
  },
  {
   "cell_type": "code",
   "execution_count": 83,
   "id": "ed0f345d639abd4f",
   "metadata": {},
   "outputs": [],
   "source": [
    "proc.poll()"
   ]
  },
  {
   "cell_type": "code",
   "execution_count": 84,
   "id": "b7b7e2471ca6f9e1",
   "metadata": {},
   "outputs": [
    {
     "data": {
      "text/plain": [
       "'HELLO, WORLD!'"
      ]
     },
     "execution_count": 84,
     "metadata": {},
     "output_type": "execute_result"
    }
   ],
   "source": [
    "send_message(\"Hello, world!\")"
   ]
  },
  {
   "cell_type": "code",
   "execution_count": 85,
   "id": "db5513ca7abd4d71",
   "metadata": {},
   "outputs": [
    {
     "data": {
      "text/plain": [
       "'ARE YOU RUNNING?'"
      ]
     },
     "execution_count": 85,
     "metadata": {},
     "output_type": "execute_result"
    }
   ],
   "source": [
    "send_message(\"Are you running?\")"
   ]
  },
  {
   "cell_type": "code",
   "execution_count": 86,
   "id": "43c7d9715d681bab",
   "metadata": {},
   "outputs": [],
   "source": [
    "proc.poll()"
   ]
  },
  {
   "cell_type": "code",
   "execution_count": 87,
   "id": "915b06db4429b85c",
   "metadata": {},
   "outputs": [],
   "source": [
    "proc.terminate()"
   ]
  },
  {
   "cell_type": "code",
   "execution_count": 88,
   "id": "2e6bdeb1c294f035",
   "metadata": {},
   "outputs": [
    {
     "data": {
      "text/plain": [
       "-15"
      ]
     },
     "execution_count": 88,
     "metadata": {},
     "output_type": "execute_result"
    }
   ],
   "source": [
    "proc.poll()"
   ]
  },
  {
   "cell_type": "code",
   "execution_count": 89,
   "id": "6b4e03423667dbb7",
   "metadata": {},
   "outputs": [
    {
     "data": {
      "text/plain": [
       "-15"
      ]
     },
     "execution_count": 89,
     "metadata": {},
     "output_type": "execute_result"
    }
   ],
   "source": [
    "proc.poll()"
   ]
  },
  {
   "cell_type": "code",
   "execution_count": null,
   "id": "b262bf92",
   "metadata": {},
   "outputs": [],
   "source": []
  }
 ],
 "metadata": {
  "kernelspec": {
   "display_name": "Python 3 (ipykernel)",
   "language": "python",
   "name": "python3"
  },
  "language_info": {
   "codemirror_mode": {
    "name": "ipython",
    "version": 3
   },
   "file_extension": ".py",
   "mimetype": "text/x-python",
   "name": "python",
   "nbconvert_exporter": "python",
   "pygments_lexer": "ipython3",
   "version": "3.10.6"
  }
 },
 "nbformat": 4,
 "nbformat_minor": 5
}
