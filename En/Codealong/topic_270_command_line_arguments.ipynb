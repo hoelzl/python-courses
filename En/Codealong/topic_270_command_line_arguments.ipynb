{
 "cells": [
  {
   "cell_type": "markdown",
   "id": "fc2767cb",
   "metadata": {
    "lang": "en",
    "lines_to_next_cell": 2,
    "slideshow": {
     "slide_type": "slide"
    }
   },
   "source": [
    "<img src=\"img/python-logo-notext.svg\"\n",
    "     style=\"display:block;margin:auto;width:10%\"/>\n",
    "<br>\n",
    "<div style=\"text-align:center; font-size:200%;\"><b>Command line arguments: Typer</b></div>\n",
    "<br/>\n",
    "<div style=\"text-align:center;\">Dr. Matthias Hölzl</div>"
   ]
  },
  {
   "cell_type": "markdown",
   "id": "d04c0487",
   "metadata": {
    "lang": "en",
    "slideshow": {
     "slide_type": "slide"
    }
   },
   "source": [
    "## Processing Command Line Arguments: Argparse and Typer\n",
    "\n",
    " - A command line application is sufficient for many applications\n",
    " - Manual processing of command-line arguments is relatively time-consuming\n",
    " - With `argparse`, Python offers a very good library that significantly simplifies many common use cases\n",
    " - Even better: [Typer](https://typer.tiangolo.com/)"
   ]
  },
  {
   "cell_type": "markdown",
   "id": "29a5535b",
   "metadata": {
    "lang": "en",
    "slideshow": {
     "slide_type": "subslide"
    }
   },
   "source": [
    "### Components of Typer:\n",
    "\n",
    "- Class `app = typer.Typer()` to connect your own classes to Typer.\n",
    "- Decorator `app.command()` to define function commands.\n",
    "- Function parameters become positional arguments or named options.\n",
    "- Many functions of CLI applications are generated automatically by Typer."
   ]
  },
  {
   "cell_type": "markdown",
   "id": "2f60bdf0",
   "metadata": {
    "lang": "en",
    "slideshow": {
     "slide_type": "subslide"
    }
   },
   "source": [
    "## Workshop\n",
    "\n",
    "- `Workshop_136_todo_list_v3`\n",
    "- Up to section \"Command Line Arguments\""
   ]
  }
 ],
 "metadata": {
  "kernelspec": {
   "display_name": "Python 3 (ipykernel)",
   "language": "python",
   "name": "python3"
  }
 },
 "nbformat": 4,
 "nbformat_minor": 5
}
