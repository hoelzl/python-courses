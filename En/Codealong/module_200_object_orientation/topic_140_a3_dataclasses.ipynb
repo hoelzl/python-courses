{
 "cells": [
  {
   "cell_type": "markdown",
   "id": "0a786767bcb275de",
   "metadata": {
    "lang": "en",
    "lines_to_next_cell": 2,
    "slideshow": {
     "slide_type": "slide"
    }
   },
   "source": [
    "<img src=\"../../img/python-logo-no-text.svg\"\n",
    "     style=\"display:block;margin:auto;width:10%\"/>\n",
    "<br>\n",
    "<div style=\"text-align:center; font-size:200%;\">\n",
    "  <b>Dataclasses</b>\n",
    "</div>\n",
    "<br/>\n",
    "<div style=\"text-align:center;\">Dr. Matthias Hölzl</div>\n",
    "<br/>\n",
    "<div style=\"text-align:center;\">module_200_object_orientation/topic_140_a3_dataclasses</div>"
   ]
  },
  {
   "cell_type": "markdown",
   "id": "604d1614fcef93ee",
   "metadata": {
    "lang": "en",
    "slideshow": {
     "slide_type": "slide"
    }
   },
   "source": [
    "## Dataclasses\n",
    "\n",
    "Definition of a class in which attributes are more visible, representation\n",
    "and equality are predefined, etc.\n",
    "\n",
    "The [documentation](https://docs.python.org/3/library/dataclasses.html)\n",
    "includes other options."
   ]
  },
  {
   "cell_type": "code",
   "execution_count": 1,
   "id": "3f5203df18900b5a",
   "metadata": {
    "slideshow": {
     "slide_type": "subslide"
    }
   },
   "outputs": [],
   "source": [
    "from dataclasses import dataclass"
   ]
  },
  {
   "cell_type": "code",
   "execution_count": 2,
   "id": "3451e58b35db8f01",
   "metadata": {
    "slideshow": {
     "slide_type": "subslide"
    }
   },
   "outputs": [],
   "source": [
    "@dataclass\n",
    "class DataPoint:\n",
    "    x: float\n",
    "    y: float"
   ]
  },
  {
   "cell_type": "code",
   "execution_count": 3,
   "id": "ee5e31b993bee374",
   "metadata": {},
   "outputs": [
    {
     "data": {
      "text/plain": [
       "DataPoint(x=22, y=33)"
      ]
     },
     "execution_count": 3,
     "metadata": {},
     "output_type": "execute_result"
    }
   ],
   "source": [
    "dp = DataPoint(22, 33)\n",
    "dp"
   ]
  },
  {
   "cell_type": "code",
   "execution_count": 4,
   "id": "fd20f9a6f1778a6e",
   "metadata": {
    "lines_to_next_cell": 2
   },
   "outputs": [],
   "source": [
    "dp1 = DataPoint(1, 1)\n",
    "dp2 = DataPoint(1, 1)"
   ]
  },
  {
   "cell_type": "code",
   "execution_count": 5,
   "id": "a0ebe029caf5744f",
   "metadata": {
    "slideshow": {
     "slide_type": "subslide"
    }
   },
   "outputs": [
    {
     "name": "stdout",
     "output_type": "stream",
     "text": [
      "True\n",
      "False\n"
     ]
    }
   ],
   "source": [
    "print(dp1 == dp2)\n",
    "print(dp1 is dp2)"
   ]
  },
  {
   "cell_type": "code",
   "execution_count": 6,
   "id": "160a8cf57f60ac35",
   "metadata": {},
   "outputs": [
    {
     "data": {
      "text/plain": [
       "False"
      ]
     },
     "execution_count": 6,
     "metadata": {},
     "output_type": "execute_result"
    }
   ],
   "source": [
    "dp1.x = 2\n",
    "dp1 == dp2"
   ]
  },
  {
   "cell_type": "code",
   "execution_count": 11,
   "id": "5cf52322",
   "metadata": {},
   "outputs": [],
   "source": [
    "from dataclasses import field"
   ]
  },
  {
   "cell_type": "code",
   "execution_count": 12,
   "id": "136810fb40a38751",
   "metadata": {
    "lines_to_next_cell": 1
   },
   "outputs": [],
   "source": [
    "@dataclass\n",
    "class Point3D:\n",
    "    x: float = field(default=0.0)\n",
    "    y: float = field(default=0.0)\n",
    "    z: float = field(default=0.0)\n",
    "        \n",
    "    def move(self, dx=0.0, dy=0.0, dz=0.0):\n",
    "        self.x += dx\n",
    "        self.y += dy\n",
    "        self.z += dz"
   ]
  },
  {
   "cell_type": "code",
   "execution_count": 13,
   "id": "b20dbf02ae171972",
   "metadata": {
    "slideshow": {
     "slide_type": "subslide"
    }
   },
   "outputs": [
    {
     "data": {
      "text/plain": [
       "Point3D(x=1.0, y=2.0, z=0.0)"
      ]
     },
     "execution_count": 13,
     "metadata": {},
     "output_type": "execute_result"
    }
   ],
   "source": [
    "p3d = Point3D(1.0, 2.0)\n",
    "p3d"
   ]
  },
  {
   "cell_type": "code",
   "execution_count": 14,
   "id": "ad2d5883c089a84a",
   "metadata": {},
   "outputs": [
    {
     "data": {
      "text/plain": [
       "Point3D(x=1.0, y=3.0, z=3.0)"
      ]
     },
     "execution_count": 14,
     "metadata": {},
     "output_type": "execute_result"
    }
   ],
   "source": [
    "p3d.move(dy=1.0, dz=3.0)\n",
    "p3d"
   ]
  },
  {
   "cell_type": "code",
   "execution_count": 17,
   "id": "4cf9fd447e2672bd",
   "metadata": {},
   "outputs": [
    {
     "ename": "TypeError",
     "evalue": "unhashable type: 'list'",
     "output_type": "error",
     "traceback": [
      "\u001b[0;31m---------------------------------------------------------------------------\u001b[0m",
      "\u001b[0;31mTypeError\u001b[0m                                 Traceback (most recent call last)",
      "Cell \u001b[0;32mIn [17], line 1\u001b[0m\n\u001b[0;32m----> 1\u001b[0m {(\u001b[38;5;241m1\u001b[39m, \u001b[38;5;241m2\u001b[39m): \u001b[38;5;124m\"\u001b[39m\u001b[38;5;124mtuple\u001b[39m\u001b[38;5;124m\"\u001b[39m, [\u001b[38;5;241m1\u001b[39m, \u001b[38;5;241m2\u001b[39m]: \u001b[38;5;124m\"\u001b[39m\u001b[38;5;124mlist\u001b[39m\u001b[38;5;124m\"\u001b[39m}\n",
      "\u001b[0;31mTypeError\u001b[0m: unhashable type: 'list'"
     ]
    }
   ],
   "source": [
    "{(1, 2): \"tuple\", [1, 2]: \"list\"}"
   ]
  },
  {
   "cell_type": "code",
   "execution_count": 21,
   "id": "fb3561828608c575",
   "metadata": {},
   "outputs": [],
   "source": [
    "@dataclass(frozen=True)\n",
    "class FrozenPoint:\n",
    "    x: float = 0.0\n",
    "    y: float = 0.0"
   ]
  },
  {
   "cell_type": "code",
   "execution_count": 22,
   "id": "9c4b7886d4e44974",
   "metadata": {},
   "outputs": [
    {
     "data": {
      "text/plain": [
       "FrozenPoint(x=0.0, y=0.0)"
      ]
     },
     "execution_count": 22,
     "metadata": {},
     "output_type": "execute_result"
    }
   ],
   "source": [
    "fp = FrozenPoint()\n",
    "fp"
   ]
  },
  {
   "cell_type": "code",
   "execution_count": 23,
   "id": "7cbf3567",
   "metadata": {},
   "outputs": [
    {
     "data": {
      "text/plain": [
       "{FrozenPoint(x=0.0, y=0.0): 'frozen'}"
      ]
     },
     "execution_count": 23,
     "metadata": {},
     "output_type": "execute_result"
    }
   ],
   "source": [
    "{fp: \"frozen\"}"
   ]
  },
  {
   "cell_type": "code",
   "execution_count": 25,
   "id": "3732e4385fdb9cc4",
   "metadata": {},
   "outputs": [
    {
     "ename": "FrozenInstanceError",
     "evalue": "cannot assign to field 'x'",
     "output_type": "error",
     "traceback": [
      "\u001b[0;31m---------------------------------------------------------------------------\u001b[0m",
      "\u001b[0;31mFrozenInstanceError\u001b[0m                       Traceback (most recent call last)",
      "Cell \u001b[0;32mIn [25], line 1\u001b[0m\n\u001b[0;32m----> 1\u001b[0m \u001b[43mfp\u001b[49m\u001b[38;5;241;43m.\u001b[39;49m\u001b[43mx\u001b[49m \u001b[38;5;241m=\u001b[39m \u001b[38;5;241m1.0\u001b[39m\n",
      "File \u001b[0;32m<string>:4\u001b[0m, in \u001b[0;36m__setattr__\u001b[0;34m(self, name, value)\u001b[0m\n",
      "\u001b[0;31mFrozenInstanceError\u001b[0m: cannot assign to field 'x'"
     ]
    }
   ],
   "source": [
    "fp.x = 1.0"
   ]
  },
  {
   "cell_type": "code",
   "execution_count": 27,
   "id": "a539a7cb",
   "metadata": {},
   "outputs": [],
   "source": [
    "from dataclasses import replace"
   ]
  },
  {
   "cell_type": "code",
   "execution_count": 28,
   "id": "cad91c30",
   "metadata": {},
   "outputs": [
    {
     "data": {
      "text/plain": [
       "FrozenPoint(x=0.0, y=0.0)"
      ]
     },
     "execution_count": 28,
     "metadata": {},
     "output_type": "execute_result"
    }
   ],
   "source": [
    "fp"
   ]
  },
  {
   "cell_type": "code",
   "execution_count": 30,
   "id": "bd23894e",
   "metadata": {},
   "outputs": [
    {
     "data": {
      "text/plain": [
       "FrozenPoint(x=1.0, y=0.0)"
      ]
     },
     "execution_count": 30,
     "metadata": {},
     "output_type": "execute_result"
    }
   ],
   "source": [
    "replace(fp, x=1.0)"
   ]
  },
  {
   "cell_type": "code",
   "execution_count": 31,
   "id": "aba26560",
   "metadata": {},
   "outputs": [
    {
     "data": {
      "text/plain": [
       "FrozenPoint(x=1, y=2)"
      ]
     },
     "execution_count": 31,
     "metadata": {},
     "output_type": "execute_result"
    }
   ],
   "source": [
    "replace(fp, x=1, y=2)"
   ]
  },
  {
   "cell_type": "markdown",
   "id": "47d6065eecd17ef9",
   "metadata": {
    "lang": "en",
    "slideshow": {
     "slide_type": "subslide"
    }
   },
   "source": [
    "Dataclasses ensure that default values are immutable (at least for some types...):"
   ]
  },
  {
   "cell_type": "code",
   "execution_count": 32,
   "id": "ed024579",
   "metadata": {},
   "outputs": [],
   "source": [
    "def add(x=0, y=0):\n",
    "    return x + y"
   ]
  },
  {
   "cell_type": "code",
   "execution_count": 33,
   "id": "22e9b3fe",
   "metadata": {},
   "outputs": [
    {
     "data": {
      "text/plain": [
       "0"
      ]
     },
     "execution_count": 33,
     "metadata": {},
     "output_type": "execute_result"
    }
   ],
   "source": [
    "add()"
   ]
  },
  {
   "cell_type": "code",
   "execution_count": 34,
   "id": "05b374b0",
   "metadata": {},
   "outputs": [
    {
     "data": {
      "text/plain": [
       "1"
      ]
     },
     "execution_count": 34,
     "metadata": {},
     "output_type": "execute_result"
    }
   ],
   "source": [
    "add(1)"
   ]
  },
  {
   "cell_type": "code",
   "execution_count": 37,
   "id": "be14f776",
   "metadata": {},
   "outputs": [],
   "source": [
    "def my_append(value, lst=[]):\n",
    "    lst.append(value)\n",
    "    return lst"
   ]
  },
  {
   "cell_type": "code",
   "execution_count": 38,
   "id": "f4c35f14c8bcec81",
   "metadata": {},
   "outputs": [
    {
     "data": {
      "text/plain": [
       "[3]"
      ]
     },
     "execution_count": 38,
     "metadata": {},
     "output_type": "execute_result"
    }
   ],
   "source": [
    "my_append(3, [])"
   ]
  },
  {
   "cell_type": "code",
   "execution_count": 39,
   "id": "f9f8c955",
   "metadata": {},
   "outputs": [
    {
     "data": {
      "text/plain": [
       "[3]"
      ]
     },
     "execution_count": 39,
     "metadata": {},
     "output_type": "execute_result"
    }
   ],
   "source": [
    "my_append(3)"
   ]
  },
  {
   "cell_type": "code",
   "execution_count": 40,
   "id": "13c746d8",
   "metadata": {},
   "outputs": [
    {
     "data": {
      "text/plain": [
       "[3, 2]"
      ]
     },
     "execution_count": 40,
     "metadata": {},
     "output_type": "execute_result"
    }
   ],
   "source": [
    "my_append(2)"
   ]
  },
  {
   "cell_type": "code",
   "execution_count": 48,
   "id": "8c31180c4e95e9e9",
   "metadata": {},
   "outputs": [],
   "source": [
    "def better_append(value, lst=None):\n",
    "    if lst is None:\n",
    "        lst = list()\n",
    "    lst.append(value)\n",
    "    return lst"
   ]
  },
  {
   "cell_type": "code",
   "execution_count": 49,
   "id": "4f546250",
   "metadata": {},
   "outputs": [
    {
     "data": {
      "text/plain": [
       "[2]"
      ]
     },
     "execution_count": 49,
     "metadata": {},
     "output_type": "execute_result"
    }
   ],
   "source": [
    "better_append(2)"
   ]
  },
  {
   "cell_type": "code",
   "execution_count": 50,
   "id": "fa076367",
   "metadata": {},
   "outputs": [
    {
     "data": {
      "text/plain": [
       "[3]"
      ]
     },
     "execution_count": 50,
     "metadata": {},
     "output_type": "execute_result"
    }
   ],
   "source": [
    "better_append(3)"
   ]
  },
  {
   "cell_type": "code",
   "execution_count": null,
   "id": "e9a22d84",
   "metadata": {},
   "outputs": [],
   "source": []
  },
  {
   "cell_type": "code",
   "execution_count": 51,
   "id": "ebdc2d2c",
   "metadata": {},
   "outputs": [],
   "source": [
    "@dataclass\n",
    "class DefaultDemo:\n",
    "    items: list = field(default_factory=list)"
   ]
  },
  {
   "cell_type": "code",
   "execution_count": 52,
   "id": "18630d28cea060bc",
   "metadata": {},
   "outputs": [],
   "source": [
    "d1 = DefaultDemo()\n",
    "d2 = DefaultDemo()"
   ]
  },
  {
   "cell_type": "code",
   "execution_count": 77,
   "id": "371a6f6c3074bb33",
   "metadata": {},
   "outputs": [
    {
     "name": "stdout",
     "output_type": "stream",
     "text": [
      "DefaultDemo(items=[1, 1, 1])\n",
      "DefaultDemo(items=[])\n"
     ]
    }
   ],
   "source": [
    "d1.items.append(1)\n",
    "print(d1)\n",
    "print(d2)"
   ]
  },
  {
   "cell_type": "code",
   "execution_count": 78,
   "id": "18aaaacd",
   "metadata": {},
   "outputs": [],
   "source": [
    "d1.my_attr = 1"
   ]
  },
  {
   "cell_type": "code",
   "execution_count": 80,
   "id": "56db1d79",
   "metadata": {},
   "outputs": [
    {
     "data": {
      "text/plain": [
       "{'items': [1, 1, 1], 'my_attr': 1}"
      ]
     },
     "execution_count": 80,
     "metadata": {},
     "output_type": "execute_result"
    }
   ],
   "source": [
    "d1.__dict__"
   ]
  },
  {
   "cell_type": "markdown",
   "id": "1c793a7f5806708c",
   "metadata": {
    "lang": "en",
    "slideshow": {
     "slide_type": "subslide"
    }
   },
   "source": [
    "However, the test for immutable defaults only works for some types from the standard library, not for user-defined types:"
   ]
  },
  {
   "cell_type": "code",
   "execution_count": 58,
   "id": "649864b8604bc79b",
   "metadata": {},
   "outputs": [],
   "source": [
    "@dataclass\n",
    "class BadDefault:\n",
    "    point: Point3D = field(default_factory=Point3D)"
   ]
  },
  {
   "cell_type": "code",
   "execution_count": 59,
   "id": "71ea67b3b9e67b5a",
   "metadata": {},
   "outputs": [
    {
     "data": {
      "text/plain": [
       "(BadDefault(point=Point3D(x=0.0, y=0.0, z=0.0)),\n",
       " BadDefault(point=Point3D(x=0.0, y=0.0, z=0.0)))"
      ]
     },
     "execution_count": 59,
     "metadata": {},
     "output_type": "execute_result"
    }
   ],
   "source": [
    "bd1 = BadDefault()\n",
    "bd2 = BadDefault()\n",
    "bd1, bd2"
   ]
  },
  {
   "cell_type": "code",
   "execution_count": 60,
   "id": "4ad237edd1bf24da",
   "metadata": {
    "lines_to_next_cell": 2
   },
   "outputs": [
    {
     "data": {
      "text/plain": [
       "(BadDefault(point=Point3D(x=1.0, y=2.0, z=0.0)),\n",
       " BadDefault(point=Point3D(x=0.0, y=0.0, z=0.0)))"
      ]
     },
     "execution_count": 60,
     "metadata": {},
     "output_type": "execute_result"
    }
   ],
   "source": [
    "bd1.point.move(1, 2)\n",
    "bd1, bd2"
   ]
  },
  {
   "cell_type": "markdown",
   "id": "214bbb35abbe4244",
   "metadata": {
    "lang": "en",
    "slideshow": {
     "slide_type": "subslide"
    }
   },
   "source": [
    "\n",
    "It is possible to perform more complex initializations:\n",
    "\n",
    "- The `__post_init__()` method can contain code that is executed after the\n",
    "  generated `__init__()` method has been executed.\n",
    "- The type `InitVar[T]` declasres that a class attribute serves as an argument\n",
    "  for the `__post_init__()` method and not as an attribute for the instance.\n",
    "- The keyword argument `init=False` for `field()` causes the corresponding\n",
    "  attribute to not be initialized in the generated `__init__()` method."
   ]
  },
  {
   "cell_type": "code",
   "execution_count": 62,
   "id": "6a225d38",
   "metadata": {},
   "outputs": [],
   "source": [
    "from dataclasses import dataclass, field, InitVar"
   ]
  },
  {
   "cell_type": "code",
   "execution_count": 71,
   "id": "cb86506d16d1bf59",
   "metadata": {
    "lines_to_next_cell": 1
   },
   "outputs": [],
   "source": [
    "@dataclass\n",
    "class DependentInit:\n",
    "    x: InitVar[float]\n",
    "    y: InitVar[float]\n",
    "    z: InitVar[float]\n",
    "    point: Point3D = field(init=False)\n",
    "        \n",
    "    def __post_init__(self, x, y, z):\n",
    "        self.point = Point3D(x, y, z)"
   ]
  },
  {
   "cell_type": "code",
   "execution_count": 72,
   "id": "d2c3caaf1a5a34f1",
   "metadata": {
    "lines_to_next_cell": 1
   },
   "outputs": [
    {
     "data": {
      "text/plain": [
       "(DependentInit(point=Point3D(x=0, y=0, z=0)),\n",
       " DependentInit(point=Point3D(x=1, y=2, z=3)))"
      ]
     },
     "execution_count": 72,
     "metadata": {},
     "output_type": "execute_result"
    }
   ],
   "source": [
    "bd1 = DependentInit(0, 0, 0)\n",
    "bd2 = DependentInit(x=1, y=2, z=3)\n",
    "bd1, bd2"
   ]
  },
  {
   "cell_type": "code",
   "execution_count": 73,
   "id": "b3dcf4904a3dc7b3",
   "metadata": {},
   "outputs": [
    {
     "data": {
      "text/plain": [
       "(DependentInit(point=Point3D(x=3, y=5, z=0.0)),\n",
       " DependentInit(point=Point3D(x=1, y=2, z=3)))"
      ]
     },
     "execution_count": 73,
     "metadata": {},
     "output_type": "execute_result"
    }
   ],
   "source": [
    "bd1.point.move(3, 5)\n",
    "bd1, bd2"
   ]
  },
  {
   "cell_type": "code",
   "execution_count": 74,
   "id": "43670b78948082bf",
   "metadata": {},
   "outputs": [
    {
     "data": {
      "text/plain": [
       "{'point': Point3D(x=3, y=5, z=0.0)}"
      ]
     },
     "execution_count": 74,
     "metadata": {},
     "output_type": "execute_result"
    }
   ],
   "source": [
    "bd1.__dict__"
   ]
  },
  {
   "cell_type": "code",
   "execution_count": 75,
   "id": "3bc9d4e5",
   "metadata": {},
   "outputs": [
    {
     "ename": "AttributeError",
     "evalue": "'DependentInit' object has no attribute 'x'",
     "output_type": "error",
     "traceback": [
      "\u001b[0;31m---------------------------------------------------------------------------\u001b[0m",
      "\u001b[0;31mAttributeError\u001b[0m                            Traceback (most recent call last)",
      "Cell \u001b[0;32mIn [75], line 1\u001b[0m\n\u001b[0;32m----> 1\u001b[0m \u001b[43mbd1\u001b[49m\u001b[38;5;241;43m.\u001b[39;49m\u001b[43mx\u001b[49m\n",
      "\u001b[0;31mAttributeError\u001b[0m: 'DependentInit' object has no attribute 'x'"
     ]
    }
   ],
   "source": [
    "bd1.x"
   ]
  },
  {
   "cell_type": "markdown",
   "id": "588d7262b6bb812a",
   "metadata": {
    "lang": "en",
    "slideshow": {
     "slide_type": "subslide"
    }
   },
   "source": [
    "## Workshop\n",
    "\n",
    "- Notebook `workshop_062_objects`\n",
    "- Section \"Shopping list\""
   ]
  }
 ],
 "metadata": {
  "kernelspec": {
   "display_name": "Python 3 (ipykernel)",
   "language": "python",
   "name": "python3"
  },
  "language_info": {
   "codemirror_mode": {
    "name": "ipython",
    "version": 3
   },
   "file_extension": ".py",
   "mimetype": "text/x-python",
   "name": "python",
   "nbconvert_exporter": "python",
   "pygments_lexer": "ipython3",
   "version": "3.10.6"
  }
 },
 "nbformat": 4,
 "nbformat_minor": 5
}
