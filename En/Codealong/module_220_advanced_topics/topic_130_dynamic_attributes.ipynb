{
 "cells": [
  {
   "cell_type": "code",
   "execution_count": null,
   "id": "6b4e03423667dbb7",
   "metadata": {},
   "outputs": [],
   "source": []
  },
  {
   "cell_type": "markdown",
   "id": "501a0381315f8e63",
   "metadata": {
    "lang": "en",
    "slideshow": {
     "slide_type": "slide"
    }
   },
   "source": [
    "<img src=\"../../img/python-logo-no-text.svg\"\n",
    "     style=\"display:block;margin:auto;width:10%\"/>\n",
    "<br>\n",
    "<div style=\"text-align:center; font-size:200%;\">\n",
    "  <b>Dynamic Attributes</b>\n",
    "</div>\n",
    "<br/>\n",
    "<div style=\"text-align:center;\">Dr. Matthias Hölzl</div>\n",
    "<br/>\n",
    "<div style=\"text-align:center;\">module_220_advanced_topics/topic_130_dynamic_attributes</div>"
   ]
  },
  {
   "cell_type": "markdown",
   "id": "d75a1659a4bc96e2",
   "metadata": {
    "lang": "en",
    "slideshow": {
     "slide_type": "slide"
    }
   },
   "source": [
    "\n",
    "# Dynamic Attributes\n",
    "\n",
    "Python's object model makes it possible to define \"virtual\" or dynamic attributes\n",
    "that don't access `__dict__` and don't have to exist at compile time."
   ]
  },
  {
   "cell_type": "code",
   "execution_count": null,
   "id": "0c6fd3c335605c74",
   "metadata": {},
   "outputs": [],
   "source": []
  },
  {
   "cell_type": "code",
   "execution_count": null,
   "id": "03b7204e15fab2b4",
   "metadata": {},
   "outputs": [],
   "source": []
  },
  {
   "cell_type": "code",
   "execution_count": null,
   "id": "bcfb9f95458003a1",
   "metadata": {},
   "outputs": [],
   "source": []
  },
  {
   "cell_type": "code",
   "execution_count": null,
   "id": "14b5c31e4285e1ab",
   "metadata": {},
   "outputs": [],
   "source": []
  },
  {
   "cell_type": "code",
   "execution_count": null,
   "id": "0379d512baed2ba5",
   "metadata": {},
   "outputs": [],
   "source": []
  },
  {
   "cell_type": "code",
   "execution_count": null,
   "id": "def88db60728cae7",
   "metadata": {},
   "outputs": [],
   "source": []
  },
  {
   "cell_type": "code",
   "execution_count": null,
   "id": "4adb7304d0b7c847",
   "metadata": {},
   "outputs": [],
   "source": []
  },
  {
   "cell_type": "code",
   "execution_count": null,
   "id": "272243cf0b0d7482",
   "metadata": {},
   "outputs": [],
   "source": []
  },
  {
   "cell_type": "code",
   "execution_count": null,
   "id": "158f3f9a63c2e692",
   "metadata": {},
   "outputs": [],
   "source": []
  },
  {
   "cell_type": "code",
   "execution_count": null,
   "id": "6d734ab6fdd064aa",
   "metadata": {
    "lines_to_next_cell": 2
   },
   "outputs": [],
   "source": []
  },
  {
   "cell_type": "markdown",
   "id": "b079392641ebca03",
   "metadata": {
    "lang": "en",
    "slideshow": {
     "slide_type": "subslide"
    }
   },
   "source": [
    "\n",
    "## Mini-workshop \"Dynamic Attributes\"\n",
    "\n",
    "Write a class `AttributeLen` for which each attribute access returns the length of\n",
    "the attribute name."
   ]
  },
  {
   "cell_type": "code",
   "execution_count": null,
   "id": "b46614d3685a9348",
   "metadata": {},
   "outputs": [],
   "source": []
  },
  {
   "cell_type": "code",
   "execution_count": null,
   "id": "9ba9fc8685911308",
   "metadata": {
    "tags": [
     "keep"
    ]
   },
   "outputs": [],
   "source": [
    "my_obj = AttributeLen()"
   ]
  },
  {
   "cell_type": "code",
   "execution_count": null,
   "id": "72bcd83f3cadb64b",
   "metadata": {
    "tags": [
     "keep"
    ]
   },
   "outputs": [],
   "source": [
    "assert my_obj.foo == 3"
   ]
  },
  {
   "cell_type": "code",
   "execution_count": null,
   "id": "d74419226e9126df",
   "metadata": {
    "tags": [
     "keep"
    ]
   },
   "outputs": [],
   "source": [
    "assert my_obj.a_very_long_attribute == 21"
   ]
  },
  {
   "cell_type": "code",
   "execution_count": null,
   "id": "dba84fc46b243cf2",
   "metadata": {},
   "outputs": [],
   "source": []
  },
  {
   "cell_type": "code",
   "execution_count": null,
   "id": "f119a16d9d8ec4ca",
   "metadata": {
    "lines_to_next_cell": 2
   },
   "outputs": [],
   "source": []
  },
  {
   "cell_type": "code",
   "execution_count": null,
   "id": "e9fafd7b417ada34",
   "metadata": {
    "lines_to_next_cell": 2
   },
   "outputs": [],
   "source": []
  },
  {
   "cell_type": "code",
   "execution_count": null,
   "id": "9aec19f2ad92e1d4",
   "metadata": {},
   "outputs": [],
   "source": []
  },
  {
   "cell_type": "code",
   "execution_count": null,
   "id": "567dd610b80ecb93",
   "metadata": {
    "lines_to_next_cell": 2
   },
   "outputs": [],
   "source": []
  },
  {
   "cell_type": "code",
   "execution_count": null,
   "id": "2a1846db28ca5f8a",
   "metadata": {},
   "outputs": [],
   "source": []
  },
  {
   "cell_type": "markdown",
   "id": "c66674cfc153bfc2",
   "metadata": {
    "lang": "en",
    "slideshow": {
     "slide_type": "subslide"
    }
   },
   "source": [
    "\n",
    "## Mini-workshop \"Bunch\"\n",
    "\n",
    "A class for whose objects access to attributes and string indices returns the same\n",
    "values, is sometimes called a \"bunch\", e.g.,\n",
    "\n",
    "```\n",
    ">>> my_obj.foo = 42\n",
    ">>> my_obj.foo\n",
    "42\n",
    ">>> my_obj[\"foo\"]\n",
    "42\n",
    ">>> my_obj[\"bar\"] = 123\n",
    ">>> my_obj.bar\n",
    "123\n",
    ">>> my_obj[\"bar\"]\n",
    "123\n",
    "```\n",
    "Implement a class `Bunch` that has this behavior."
   ]
  },
  {
   "cell_type": "code",
   "execution_count": null,
   "id": "2ac86a484e3ee72f",
   "metadata": {},
   "outputs": [],
   "source": []
  },
  {
   "cell_type": "code",
   "execution_count": null,
   "id": "da2470098d217cfb",
   "metadata": {
    "tags": [
     "keep"
    ]
   },
   "outputs": [],
   "source": [
    "my_obj = Bunch()"
   ]
  },
  {
   "cell_type": "code",
   "execution_count": null,
   "id": "e959873b5296070a",
   "metadata": {
    "tags": [
     "keep"
    ]
   },
   "outputs": [],
   "source": [
    "my_obj.foo = 42"
   ]
  },
  {
   "cell_type": "code",
   "execution_count": null,
   "id": "f6d6030dc4d85925",
   "metadata": {
    "tags": [
     "keep"
    ]
   },
   "outputs": [],
   "source": [
    "assert my_obj.foo == 42"
   ]
  },
  {
   "cell_type": "code",
   "execution_count": null,
   "id": "dae5cee8c029f330",
   "metadata": {
    "tags": [
     "keep"
    ]
   },
   "outputs": [],
   "source": [
    "assert my_obj[\"foo\"] == 42"
   ]
  },
  {
   "cell_type": "code",
   "execution_count": null,
   "id": "b1cf358b279efdd3",
   "metadata": {
    "tags": [
     "keep"
    ]
   },
   "outputs": [],
   "source": [
    "my_obj[\"bar\"] = 123"
   ]
  },
  {
   "cell_type": "code",
   "execution_count": null,
   "id": "72918c0bb406e96d",
   "metadata": {
    "tags": [
     "keep"
    ]
   },
   "outputs": [],
   "source": [
    "assert my_obj.bar == 123"
   ]
  },
  {
   "cell_type": "code",
   "execution_count": null,
   "id": "19bbcb7b794e5719",
   "metadata": {
    "tags": [
     "keep"
    ]
   },
   "outputs": [],
   "source": [
    "assert my_obj[\"bar\"] == 123"
   ]
  },
  {
   "cell_type": "code",
   "execution_count": null,
   "id": "e5bc737abb527691",
   "metadata": {},
   "outputs": [],
   "source": []
  }
 ],
 "metadata": {},
 "nbformat": 4,
 "nbformat_minor": 5
}
