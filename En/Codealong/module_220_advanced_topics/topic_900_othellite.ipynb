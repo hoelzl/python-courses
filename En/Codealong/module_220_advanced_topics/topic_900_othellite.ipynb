{
 "cells": [
  {
   "cell_type": "markdown",
   "id": "18cd306aae9c5f5c",
   "metadata": {
    "lang": "en",
    "slideshow": {
     "slide_type": "slide"
    }
   },
   "source": [
    "<img src=\"data:image/png;base64,iVBORw0KGgoAAAANSUhEUgAAAG8AAABuCAYAAAApmU3FAAAEtmlUWHRYTUw6Y29tLmFkb2JlLnht\n",
    "cAAAAAAAPD94cGFja2V0IGJlZ2luPSLvu78iIGlkPSJXNU0wTXBDZWhpSHpyZVN6TlRjemtjOWQi\n",
    "Pz4KPHg6eG1wbWV0YSB4bWxuczp4PSJhZG9iZTpuczptZXRhLyIgeDp4bXB0az0iWE1QIENvcmUg\n",
    "NS41LjAiPgogPHJkZjpSREYgeG1sbnM6cmRmPSJodHRwOi8vd3d3LnczLm9yZy8xOTk5LzAyLzIy\n",
    "LXJkZi1zeW50YXgtbnMjIj4KICA8cmRmOkRlc2NyaXB0aW9uIHJkZjphYm91dD0iIgogICAgeG1s\n",
    "bnM6ZXhpZj0iaHR0cDovL25zLmFkb2JlLmNvbS9leGlmLzEuMC8iCiAgICB4bWxuczp0aWZmPSJo\n",
    "dHRwOi8vbnMuYWRvYmUuY29tL3RpZmYvMS4wLyIKICAgIHhtbG5zOnBob3Rvc2hvcD0iaHR0cDov\n",
    "L25zLmFkb2JlLmNvbS9waG90b3Nob3AvMS4wLyIKICAgIHhtbG5zOnhtcD0iaHR0cDovL25zLmFk\n",
    "b2JlLmNvbS94YXAvMS4wLyIKICAgIHhtbG5zOnhtcE1NPSJodHRwOi8vbnMuYWRvYmUuY29tL3hh\n",
    "cC8xLjAvbW0vIgogICAgeG1sbnM6c3RFdnQ9Imh0dHA6Ly9ucy5hZG9iZS5jb20veGFwLzEuMC9z\n",
    "VHlwZS9SZXNvdXJjZUV2ZW50IyIKICAgZXhpZjpQaXhlbFhEaW1lbnNpb249IjExMSIKICAgZXhp\n",
    "ZjpQaXhlbFlEaW1lbnNpb249IjExMCIKICAgZXhpZjpDb2xvclNwYWNlPSIxIgogICB0aWZmOklt\n",
    "YWdlV2lkdGg9IjExMSIKICAgdGlmZjpJbWFnZUxlbmd0aD0iMTEwIgogICB0aWZmOlJlc29sdXRp\n",
    "b25Vbml0PSIyIgogICB0aWZmOlhSZXNvbHV0aW9uPSI3Mi4wIgogICB0aWZmOllSZXNvbHV0aW9u\n",
    "PSI3Mi4wIgogICBwaG90b3Nob3A6Q29sb3JNb2RlPSIzIgogICBwaG90b3Nob3A6SUNDUHJvZmls\n",
    "ZT0ic1JHQiBJRUM2MTk2Ni0yLjEiCiAgIHhtcDpNb2RpZnlEYXRlPSIyMDIwLTAyLTEzVDE2OjQ4\n",
    "OjM2KzAxOjAwIgogICB4bXA6TWV0YWRhdGFEYXRlPSIyMDIwLTAyLTEzVDE2OjQ4OjM2KzAxOjAw\n",
    "Ij4KICAgPHhtcE1NOkhpc3Rvcnk+CiAgICA8cmRmOlNlcT4KICAgICA8cmRmOmxpCiAgICAgIHN0\n",
    "RXZ0OmFjdGlvbj0icHJvZHVjZWQiCiAgICAgIHN0RXZ0OnNvZnR3YXJlQWdlbnQ9IkFmZmluaXR5\n",
    "IERlc2lnbmVyIDEuNy4zIgogICAgICBzdEV2dDp3aGVuPSIyMDIwLTAyLTEzVDE2OjQ4OjM2KzAx\n",
    "OjAwIi8+CiAgICA8L3JkZjpTZXE+CiAgIDwveG1wTU06SGlzdG9yeT4KICA8L3JkZjpEZXNjcmlw\n",
    "dGlvbj4KIDwvcmRmOlJERj4KPC94OnhtcG1ldGE+Cjw/eHBhY2tldCBlbmQ9InIiPz63ZYCCAAAB\n",
    "gWlDQ1BzUkdCIElFQzYxOTY2LTIuMQAAKJF1kc8rRFEUxz9miDCNYmFh8dKwQoMSG4uZ/Cosxii/\n",
    "Nm+eeTNq3szrvZk02SpbRYmNXwv+ArbKWikiJSsLa2KDnvM8NZI5t3PP537vPad7zwVfPKMZdmUY\n",
    "jGzeio1ElJnZOaX6ER8BgoQJqJptTkwNxylrbzdUuPGq061V/ty/VreYtDWoqBEe1EwrLzwqPL6c\n",
    "N13eFG7S0uqi8LFwhyUXFL529YTHTy6nPP5w2YrHouBrEFZSvzjxi7W0ZQjLywkZmYL2cx/3JfXJ\n",
    "7PSUxFbxFmxijBBBYYwhovTRzYDMfXTSQ5esKJMf/s6fJCe5mswmRSyWSJEmT4eoBamelKiLnpSR\n",
    "oej2/29fbb23x6teH4GqB8d5aYPqDfhcd5z3fcf5PAD/PZxlS/m5Peh/FX29pIV2IbgKJ+clLbEF\n",
    "p2vQfGeqlvot+cV9ug7PRxCYhcZLqJ33evazz+EtxFfkqy5gewfa5Xxw4QtXymffaj9hFAAAAAlw\n",
    "SFlzAAALEwAACxMBAJqcGAAAIABJREFUeJzlfXu0b1V13jfX/l2UkAAXiq/EWkg0RqUaBO5BEB+A\n",
    "WKtG6qtWeZnRtCYmgThUvJfRdDQOBAtc2mSEGJuhJn2oNcPwGFZSgmmAG84JAgKS4QPIQ2OVIgIR\n",
    "kbP3mv1jrW+ub+177uUROIfENca5557923vttefzm4+1f4a/R2PpfX+wCfB/6o4XmuHpDuwDYG94\n",
    "3gfue8PSPoDXY74PAAPsO4DfBeAuuH8HwF0wuwue7wLwHbjfCUvXA37j8gfflDfy+R7usI1ewK7G\n",
    "0taLDDYcDM+HAX4oYIcC+WA4ngAA7hPMBgAOdwBe6W78fwLgdTYHcgZMH9fkcwDu9wC+A+5XAX4l\n",
    "HCvL5/2r+x/r5/y7jMcd85a2XbwZ7qcC+LcAngnPgA0AMjxnmBWmuDvgXp7AEpAn8HEsJXge42+4\n",
    "F4bWa8v59XOzem0dZuV4Hh+ApRUAvwXg48vnvkVOenyMxw3zlrZd/NNw/BLS8GZ43hNAIao1BrhP\n",
    "hfAuGgPv/7bUtJDHybjQSqsM9TI/f8OLMpoV5lpo71fhfjaA310+762rjx0VHt7YcOYtbb14APw/\n",
    "AHYG4Ina4NMIS9Q4B+AwS4WBYRKt0p4MyeUnLapmoTGHn9NUUlvNeoZ3x0RjPQPufwXg/cvnv+3D\n",
    "60qkXYwNZd7Stkuejjz9D6ThyJD+PAFpCLPmnmFpUc1gHe5ACoIKgyB/k1FJTKM3xtJ02tBrKjUw\n",
    "tDNXjfV2rk8fhg0/v3z+22RR6z82jHlL2y55CoDrAH8qcg/y3Au4MBt2YlrxZ5XBXnygT+MMjPjO\n",
    "ZnH+GdD8GzXWrAKbVE8VkFNQEYJkZp+F+xuXz3/b3z5qRHmYY0OYt7T1ogFp+CPk6SWFeFMjWIwC\n",
    "Skx8XPkbDazU84KwlprWzU1lZxpz0dz4HLO50LRVGRpgZrX8TmkF03Tk8gUnb4gGzim2PsPSL8Hz\n",
    "S4pvQTFl1gjpOQOwWw32e3D/IOB/6PD7GuKk9Nd/lPHho1zCh6F95t4+h/faFXPItY6i5TzXpzKf\n",
    "GTCtHg7kdz0WJHooY4M07+IvwfCsnTSgEPT7gJ0J+PnXfOCEUIstZ/z+QfD8EcCODlNIwpMRadH+\n",
    "n6uvUpNM9NihTAkbwr+hHR8W5bjOE/cbAM/fA9LBy9tPvPWxp1w/1l3zls689KcAPKuBAxS/FmbQ\n",
    "zrjmA687VxkHAMtnv/42IP0zAF+J2DotGrRPi+a7GL8V0ybocaomcyi/PUtIgP4ar2FdzsA0NoZb\n",
    "qnOGOd8Tnn/lMSTZLsf6m808Pa1QvHIgZ1g1AA6/BZb+064uXT7n9ffB/Vfi+jw1rXA035THerwy\n",
    "K5AoKuMkflQtpp9k0E4/aalqoBemamhS5njto0ylhzTWn3nue9e0SDsEr+gyXXnNWa/1XV8MwOxK\n",
    "5MnDjwFNU+bprzTIMQ0hNPbj6akxK9bnTStpHQInTW2ePP7YltM++pOPiB5/h7H+zFNixqGB0P7r\n",
    "D3b58jlvuBuGv21xW2rapXDeJ0l7iX8LBlHbqKFjM5VqGTT/GdfIOQ3wbH5kBHnkYyM0L6TbyYD2\n",
    "4Qse7PIt7/mfB8GGHwngEUBCgErn9/gZ/5uFSWjnpEHSYdbmVpNr1pAnNd8oPHmvh0WHR2FsgOYl\n",
    "78ICAD6twvMq3P2YLe/91NN2P4Gf2IJqAQ5e0WZ3qve/89SHCpGoBpoPo7kU5jOjA2tpNxfGlucS\n",
    "O74+YwM0L7vnqeUjCenLUvaBpd9Zet+nn7DWpVve+6kluG9rlQY0eM+Umqmv85YWAyT1RWZULVNf\n",
    "F0E7E9XU6LGZyC75zZBk/YsOiwc/5VEelqqgGzyPsKH4O28EeKXDPr/lvZ86HcCO5XPe8N0t7/nk\n",
    "gYCfBPdtSMOmIKrGekDlUZ5pHHOSqiVDQ6oMDyLXSbSp9b6aI63rLxUOF3xkcKx/HXfdmec+eanM\n",
    "5JK7nCTOipPwXAB/CEt5y3s+eS8s7dOZyqzpNEkYIwMZDcQwpZXrZ/Rb02rVzkFCi6mFEWloZjUL\n",
    "uDEAuRy3xDiPHFz/fMeGABavIMMJ77uaGhoC9Jxqa0Pzb6yIa+qr0yoBIG0elOpCnZtZE0B8GEow\n",
    "DrRrVDOT3CeY5pJEX39Srvsdzcwh5ibCBE1XdflGia20YFoub+dS0wL+s56X+nlMtDLCCxEGZZiW\n",
    "hSRn6vF3ERCnP1znse7Mcy+9C5TUIEQgwrFnQjkLkdmofStdgB3aKNobGj37LO4nzCK6JIiJFFgV\n",
    "FmpdvcYkK2NpKBmieXJ7HcYGmM2pl9ZgkPgoVhriGgnC5y0Olsq10aOC5hej4sCAWq5vGeimpXls\n",
    "xVqGFU7EWgcjAiuFYneHw2vMur5jA0pC5s1PqUZQuxRF1thK+1aiilCD7TxJ2CDEZqI6j81carmo\n",
    "TIZoYAKkKmFtroj35uZVwQpm/1+fsQGhgt0F+EoLkGexVaC+DJiEBABCe9pkaFpnpUhqYu48HwBL\n",
    "B3btFWFGJTfJtczBEOF/lK5QUHIaaqhg1exjQ3zeujNv+ezX7wCwZT3uteVd//3nkFc/1CHNAC1j\n",
    "0zr1i+5NeCAJ7yo0BgNbED2P5TfyRijeBlXS12uwvcIgOc+ZSQaaKaU/Y1amlXzanEY5GMWkAj8Y\n",
    "ZnM9R2vZqwckrUWTnTMwbEIgWogZlbjOvSYVKsii6fRJTXU9/Uuv2gTg2e2AmHqa4HLsfqT0NfvJ\n",
    "z3zvkTzeI2be0taL/gmAFwD4EcD38pz3CB8QNbBqTtT5R85Q4qkOtksdTf2Ipq26Vr00+5znJ8Dz\n",
    "i5qpBKKaEAG/oEzXBHWZ130M80gNNjcgLcpzaryow+zpyPnGFn9KImKo2j1NwUS/5fhvYpo+gyH9\n",
    "N6T0OXv2Zx+SA31YzFvadslzkafTYDjO8/QMmDVj0bXIsebFzEaF85GqYkklz9oQagzHdJYy2q0x\n",
    "wazMC0k6M/Ofs/ipSoMk3oHCFOkzHuzDDc+rpVBAgJInwAWgUHNZlVBBIzN530kySWPtPOMYRwB4\n",
    "MobhVOR8Kgxf8FuO/1l7zmWffzB+PCTmLW296KcA/Cry+EZ3T5Y2ITqVE3srrVTEA9ExgwE0xqnk\n",
    "A/DKAEWTXe1NiqkkUszhHbEjRLCESDzrCHOVmxWIuayhyDzV7rRZ0M/1dTW/mWWY34u1Rs0WJUky\n",
    "hPmsP0Xgng9g2W865gKkdKY993/vcrPLgwKWpW2XnAazm+H+ZqRFsnkPiDNRO7RUF9vRI+huaC0W\n",
    "O60CzhhsjQxFxFGM8yDxWDU9adGIaJU48WQsrgoTtOJe40P2gFptKrKUyrF54G1SPO7mUZ/Ke6fW\n",
    "tMTPh6Ektdlvw2ec6ArQaJB9APAumH3Cbz52l3XC3TJvaetF5wDYDs8p6mXOHTq5Pmiu8HmqWZOp\n",
    "ma2utQBlkWmoi2fCl5IM0VhJWelxDs1fMl6DVWZWjexKPgI+wtQVs12sKBkx1tuKH2Uuk+uf+1lp\n",
    "pIoRjVAtPsS4Kv5fsMBClGGamvkv87wW7h/aFX/WNJtLWy9eAPnDMDslNElQGptenf6LD2KMjypx\n",
    "tR1PC6gBSKb2kNTSaSzoL1Jn1KxZlgVDIcA0NkKQwMEsxmqV4SRK5EfJoLKZxYZF067a09btTCKo\n",
    "0awQ5LY6VGiGoWlgqpYkz0KRaSqfASJ0BsB/1r/wsm/a8z+3bc6ntTXP0llAOqXFRnG8oLA8VdNS\n",
    "Vh3mJczpPL1Ua2eay9SgmAum1NHkkNH0ozQt0XPJuI0mVh6c9yUz6V+8AhptgIo8p7d1eC4+XEtO\n",
    "XaUjt7/Dt5Oq2maB8jyhmXIvjhAKNFNKC1TQ6lb/wste+qDMW9p26cHw6fQwWyGZU0VcxVx2N2cQ\n",
    "PG/0mZswhda6BYvt7juVdupc02qbs0tAo80BZaBIddTrhGA2NEJV0112IjUA07RNLEeUoxTQ9DFe\n",
    "WS/jxWo1hmrgOsBEoAVhNh8jiaYygZB+bbfMW9p2scHzhQAWXFTEbZVAJZMucVkEwd7MU0dINGaE\n",
    "mVMgUn0XyyoEHurjorIdpgTR/cw+mLgZeq1QjYxTKqGs7PcrlkRQL58nykv1+V3vMbVzZ7ucwqpM\n",
    "UzmdoYIKb3QQzEDPsEYpqtDiKL/5uFfuknlwfzs8H9mYUbuZxdwZWwd0oXyIIK7U4whcaMLU9HRz\n",
    "eDOjMZcjup6VgXwgvQcRZAT6aASJ0hAJS186iSZhdo6uR4QjGKv+G3IO+nZ4Pi5Nfao0YDVfa4cE\n",
    "LDxOS8C5p/H9azJvaetF+8HzOVGnmka0doXysNwPHg+VhjUemGiTU1szF3NU2ZlVl9jMW0tCwOc6\n",
    "r2p7hAre5gsi8wmHdj4tQzAacg1ijYY1BDJMKoShJmHL0Cbi/MmaeeZzMDTIUwUt1LihziXuIwlj\n",
    "i+97oX/hZSfsxDwAr0da7A+vm/bVRDWSCFDxtkitXishwyyuUadTgpJwFIaYYwZCyCyb/9Asz7Sb\n",
    "Bd9KYBZPkYYGGQQYmACyZjabiQ2hCCwgXdl5ujMIRUtBk06XQS0jIEvCKPrJCOyBTvsbuj1pDebZ\n",
    "axRVlcfPwazYE6caFLtW6cBpwggWZoleMoeL73wTmu0PM6rVcGEGGRuwXvxuWIYJGDbB81iSx1Uo\n",
    "zQzclWRm8Vw2LJRATUs7nyrWJExvmNK2xcvQC2wgXQfGSTatCA1oNlF9ZeVD0GQKIXmpX390itVs\n",
    "ed+n9wT8WBLLp7FpWP3tObfEcOcjKqHClXlPhDhXfGcSUxupJjEt4QuGZi41YzNvoaD5oykXrbe0\n",
    "6PKv7r2AEJC1JAN9GgVKgImJC6BFKWu6a+U3f+HuYJ7jhxroIAPQJ+qDJmjAJqWegdPUBIfmMw37\n",
    "AnaIitIxAPYMems3sRJZQYQGw47mo8BFUmMk2CYzuz0ALueiI3znc9RfMfaKdjxv6xO/2e2FMPRz\n",
    "1vCnnKoMErChg3Nr7MvKhPtt/cnYjNnlSAnYJD6a9NAYOdamzEqx3qAP8HKgMe81ZS0JDm/pIfqP\n",
    "eWNsgAPmLtE+VyDCDAcJQyIGQqsPEYlqMUXA7CFl9yofQs1y+EoLKbeaj6Rv8067lbo0+anN26Fe\n",
    "yO96r7SogGIA4F/pGOX5yQ0zoAnjRDch1omt+cMafaH8m0E7Ndi9MG9p60UGz6/2PNYgvEqsEpSp\n",
    "LDJTt0JRGud+kAuIWlldTCR1yUlv53BOoAGhPJZjBACRlSdjUyM2rwPi/OLnNOCmkJBpMxVRJmpI\n",
    "MNV10OfHtjAHHB/tJ7FDIpaLa9GupwmdRrFimIVD4mLCDdWflI7y64/elAAcbGnT07pMAaVOW73Z\n",
    "EtehTTWHEJ8DMWEm51eNC5RIAqqJFOK6EI+f5zESyEHI3cRlDMDL+1x0syUagTSeUs1IA0pTkyLa\n",
    "qlFtrdevXPgLl80E4NAODSexPjS7QwVvAzu7s1gSQdFAu74h2L3gfngC8AyP+MmDwxEuKEgwiZnI\n",
    "oFhY7n9Dru2y8MLIebqL85LIEdPVefOIYqqHnshdeGJ9bFeRqWkIQI2nCeR6w0QrwJgxrSsLATA7\n",
    "u+PbLcfvA7MXt8Ba/CkZMQzSWs+YlWkwEX5eT6aPYwM9ln5iAfcnGayP39Ls5TV8OB8BWwBWzUaH\n",
    "nOjkO6kUTSDQQBAUruhtQlTd1ZSF7xDtjHQa47oGcFwyQy6C4socCkggOfU3uS8ok9nRgsF1AnC/\n",
    "Co5PdWTK+U0wPHEnwEJGKWPU6hDkaSot3mihvjeu2y+55wN6U5b6XJ0iHfo++sQOneXGJI3/mAmx\n",
    "AQ3V5fZDn8bqt27yiLixmkma6nnch5pvZes56muvQivFZ3DNaiki1qoE5prYOa2Zm2YlbgDw6pUL\n",
    "3ynEAmB2SnM3aDSdB9vamhHgSxirrznRYyzowvZPgD/JmeDtHnbmz8qCZwxV/8HfDGylKKsxEc3g\n",
    "fN4u3yemMF4nlXsiaPAPlEqH50qvYq7DelDbg2FTM8XhRyqj0tBnepJaAoIGfBnA8SsXvrPFdgD8\n",
    "pmNOgOFFYDhkQhemuvi8I4W2Mneeu233apoIIbn7fgnuB4APTM1R6Qy4LhNxMRGDCfoLPyPMzFPf\n",
    "rxEmgMldQaJdloMIsoYc1VRHpcPLG5FomlvFm+ZbQBj3IYRGpGYeO8FySV/NUnSwDPffgOfDVi58\n",
    "57c6xt1y/N5I6deDaewYMDT/FiBQ6McffemPXk9hXXDtwdj9F7DhgCKxRIaE/VRXJaS3vF0XB1VH\n",
    "qy8oXdPUKKiRRQdA8fbAZs2UpiTINcGqz/W4m9ellDY9r1UNs6H4QEW1FJBAyxA0twnRbq9pwPJW\n",
    "ps/B/d+tXPjOP8NaI+f/iGQ/iuw1IS0WbBiKpnVIl5ZlRKcsVgVrHAvDXOitRemU9l8grz6ptB2o\n",
    "TxATGnvGrRJWu4plIT5jfqOsCINoH48HoYTp80KofqadyqGB3PJn3Y8Hg6g9VZvYHjgfLn7H7Btw\n",
    "fAbApUC6fOXCd6z5dj//4nEJjv8M+M9h8mak4vmtCUxknKgIEkrlXJjOdghqIbCz0PsEjHm/BVLR\n",
    "vI6ovtODtGNm4NbeLh5TbmlGJgCQmGMtnoapSwCQYelr8PwXgN0Oz7fD7K8Af6CthUAJMNkn7gGk\n",
    "ir+1oXaGdY7HKbVNSLUoCn8ANvw/AN8A8KWV3/z5uXeeMe4VewD4r0h4Y6EJetPfIdrUEOQglksz\n",
    "TzTnzG+yd5XghY26AJBs/wXcD2iV4txu0nG6SvicYRFbAXBrksZrWVCcB9uxWJqA4Vb4tB2eP7p8\n",
    "wanf3R3BHg/Dv/iKAYZ/AeAMTNMhzS2gPN+waIzScABoTCATeYznpxqGgGCtCoFBqhEZsLRfeYWs\n",
    "2RNCAl1UOfyeMqT+bUCX0KW50tTaTv8XiSztENfBcBZ8+vTy9pN7yP04HP7F4/aCpVORp9PhdlAD\n",
    "EIqIKw0m8Z0BSmoBNlnNsFifOovwoTJ8IUKgKLT8f7GApW8jT3t1BVTaVUV+mrkgpI662moDFVrR\n",
    "ZjosNLf6xDwBw/AJ5Omk5e0nP7Bbgt36WoPj2UjpqQD+Edw3qa8Ln7xYAKurAqYaIu2C/m5y75+R\n",
    "xwAgT3vA7BmwdCA8HwjgQLg/Dcy0s0o+DDWwJt1nYEVjNEuAMVTKxVrRtC4WBaRELnMWMpDp4bL8\n",
    "jgXc7wTs6bH4OVzv8p2KzrwRJikqym3xSowIrg2A/wbcf3lX2ua3n/DDcH8F3P85gFdhSE9ppRNF\n",
    "sYKIV1clTuR5NF1o66af0fgt1wLpODYm0DoshkJI+u089oRG1SICuoiXp1Y1j1dEyr1ppZgO0zQa\n",
    "aa3YgoicG04Ndyxg9u0mhYKGIoshMVDEdSSIossZKtQ4K2fV2g8tX3DKL67JtNtedxhS+jXk/DJ4\n",
    "3iPMM32Hmhb2oOi7U0ZaAAVSQORgdcOH1hR5zWJRN4IAARY4ZwgKWpYj6AW00EJACIWAvmwcWwMu\n",
    "QwKuTWNb3oda7UJfPlv2b1XNkws7rRHg0pkXQXHsPiYRyVQyXetw7l+DpXfvxLTbT9gHwFkoX4RR\n",
    "uBPhgtwvbsv1oPkM9oOQoMq8ObKLG3tjqhKGWhfPVCV+FLRHLaegJ12P9UIUAizaxmegxiUqhstn\n",
    "uc3lst7yHHcsANxZ8o6y6aNDSJVBXfZCCShmkk45pcKDQJxBzF9cvuDke2eMezLMrgTwzK5NgPPx\n",
    "4RYJmBxRP9xUY9Ms4QnkWhKN/khNJC1EEFilXyxLlzRGAxqrouFRRKXgcK6ZBSsLateR2fVwFFwZ\n",
    "zpBRhvLcerwo0h0LAN8ugEO+SEIz+J2ZRNOmSOmkoEVZHOcRphe/tGP5gpP/oGPcrT+zL+CXwf2Z\n",
    "gUJpWiiB9K9Tbg8ENLMXcafJGivT1io30UcpWOEPG4KzfGbWgMJ8h5TGcXm2PiL30LrKtGkqjbWj\n",
    "Jjkga8lFq8kwVt/p64Pu9q0En+4MBjHumL8ag1II1NZzmjCaqGpC9c14ob0RoH+kY9xtrxswDJdi\n",
    "ys+PhyUImGfY1VxqtkQDYK41KumpgQEOJocJyghCumNimgIhVwZyz0HkQ2XOiJUpUFPzjWRaZLFQ\n",
    "zaSXOQZZv5pOBTkqbFXzElABC9M1hgL9g8piOkmAcN6cXJtnNBasmgi7HzZ8sqck3oBpPLKLIwfZ\n",
    "vcNANsydEHyetVDfxnP1Nz9T4k/in6PBNzXfM69+Z0oQL7PGFGZEGLsF4+u5C/nqAQbwleQlkSLm\n",
    "VTW1s25MkjgTH99K8PzVDmzk3BjVDXX+ufkeGOLteZGzEwRaNPZPlrefeM9swjM6BpBZ08xEa72N\n",
    "95//n0HxnFkkRgfRhSGGHq6vFRMGgEDTyHk7BURoKEya0spiwsO6uIAs5aS3+QKJkt402QYMw18m\n",
    "pGEZebyvI1j7o03UESv3Gth1JgtYCH/p13b0uO11rwT8BYHq4vz6QLx1wO46V0BsIZzC/W4blyDk\n",
    "WKcgOYIE9enh66oQae1xlFdakVFKM01vxT1TLeUQnHhDnJoLzt7ckJpJ9b2ct1igr9uhV9+Ulj/4\n",
    "plUAV3WZFd0xoxl+QJx6bsejoCmV8ngwA/J0PfpxcixwsakndHBOhaTeN8ykCJKO+JvmGmJWvfdN\n",
    "ASzQGNglJyp9Ax2KT5s34ur9wxx7M6lMKJNJfL7AAxJGwFr2SunY3+9SgDFVnq5oDEqifSqp9WZE\n",
    "f3GMNlhU2oSRAJCG/9stIqVntUR/tfe6NzsyN7UgSUiuplkbc3ZiHnpBMjTwQIZGwL5mSNMj2MUi\n",
    "yBECADQBoECr1lHAIheZm5nk/8NXo6BP0s1zq3bMM15lfZc05qXhisZVgeBRVYDEb/Q3JFqIaCOU\n",
    "nlMWc1fHvDwd1CVdqRV8IKKxCGAZpOaWodCM/NyUdRqUZMuwmOEQPPVR4kuj3ua6T6DXPIKfeHPS\n",
    "fI66lkGEkMdHdo95KGKPgkla702/+31I6Y8a89yvQ/ny22abI7OAtkDd/xYpKzKbN1KmGh8s3vDj\n",
    "t/3MZjj2bcGzEE/TV3QJaq7Y+kaidGhUND0YMglqI9Pq85lJ3CYok9pIN9Jp1Ow3nzPiSgF19OFz\n",
    "v6sKMBc0bUqKBAM/j2sut8N23B/MWz73LRMs/Z82GdC+uUoXK46XQEXjriTZhsiG74TgDmrghLGY\n",
    "iTlSLbKSWxzHpnV8yEmkn0SMPKAAhjnhVCMDLddniFwi56wCM6kJFqao1g5KL2o5BG3Wv8dVRCIc\n",
    "JJUCk1mTMUfskygmM5hXz/5YOFCF13yIMIlomhgtDLwBfYpu/XJ0oUfO+4VvzD5rBec9vQSuSRav\n",
    "64k+FN6mmqbIO3b3Q2icSnI8q65bwoa2A6jXHn6mQhGJ+TrXKAham5LpUuiS3AXMiMCwMVefs8x1\n",
    "Jwy/z0cL5i2f+5ZPw+y64oemxkQ6UWk/6Fr4qDnKxMhs5J0/s2QN+ub2m3NrVVmddWR/rIUF/FsZ\n",
    "qyCmi9vE5ykQYtigoQQ1idLO8yaGRPO38KKh4PkboCZBx/W7bzvUazNTyaGC1hIT77Ety4EfNKgD\n",
    "3M9sNTn1bWhMUCIFKqLHFScf/hPw7utf0AhkqaG6CHB5L5F0EltbCCaZk+uZ5N4hsZAsiAlheJ0w\n",
    "vGNcbhkTNWls7VBfpfGfZlE81xcEKHOsjxk9NxrPn8tFcFK6CrMUY8e85fPe+r/g+erS4azZjdSY\n",
    "GYvNTYIiEW3N7xEYwNF9U4sGoWqidX+CnsuHzlMzR3ywrmXQRYgg73KhZgnxBvF9LGdpBkY1Xv3R\n",
    "HM1Sc8ISiL/TZ1P0Teuim0cIqjQQLzfisRHu77At13Tgode8Ms7s0lGdJnJRs4ckoQn7eWPV0m5Q\n",
    "CFzMjsRt6j+AhiTVVDIpQPMSx/U2FAaa/9yuiWwImhVQwKM51KCWmN7QGAI69BmmoAFmbkPWQlMM\n",
    "VFAmrqrDHNhuW665eUbEnZm3fN5b/xjwDwBoTOs2XpAp9ccnRCcyH2JuuvoAU/yo9egqJJAbSGbS\n",
    "3z1Ybr6QhKT0x1rElFVaYlhIcD2188NyaIoqt/NCKyhg3uI30on5x8izyrwmAqvxnPp0BuYqjO4f\n",
    "AXzrnE9rMg8Als8/cSty/p0OXWljT7xPE+hfj8jPw8ije+kOmaRARcERTIgukqdxnprnTtO8wvCM\n",
    "9ooMa2YptGvs51V/C/Smscs00fzJ/+daT589jwMpH9pOou4jwikTkDQBns+2Lde83ZZW5lu2ds28\n",
    "uuB/A/dLupvoj/rEWCQX1kIOs/JqqI55Qu8ABmqeDU0zgXaPJJoffnBViGZFswiK6HcDHBFooEl4\n",
    "aCzavES2fI400+5AvqjCQBJInMqmJK4hsk2VftpAO8z83jRmpOE0W1p53675sxvmLZ9/4gTPbwL8\n",
    "XHBbTZiuhO6Vv2ivtepeb5jl1VA6KImguRCkN1Vgopn6PBccawxhvEn/BbTYLszXDHIHUhbkGmGD\n",
    "mPqowtc5dN84n4OVDsfOn2lBNWpyMyTNzwvKzAA+jsWm59mWa3b53bkcu33T7fIFp9wP4N1bTv/Y\n",
    "J2DpvyCPz+/MpCR1Tb4lK76MHrLIGBbXtIQ0mlkmTJ/7A/VD04yJg5hQdnsRQDCvyevDp6HPuJDA\n",
    "4wNVe8UsEq3SpLKqDjRzP9hsF2zVWAIwmzFXqxXT9BcwuxzAdjtsxy0PxrSHxDyO5e0nX7vl9N89\n",
    "BEgvhftbAX8VgKdQIt3Lq33L/lMBDRHIayAKRCGSqkImAD3TFDoHEwW0kDGT9L2oBho+gWHYEeBh\n",
    "sWi9MBQSZUDsfvW2VgIJIuMQskWLcRXR8hmAZqYZzxZmOdwfwDR9F8C9SOkGW1r+y4fKMB0P+QXh\n",
    "y9tPygCuqD/YctrHnuh5/DEz7GlW3nhbHrq+PTaXLVaFFvmvu8l0E2UMYRglUomrCDE6r6qTV+bT\n",
    "XBWze4U97/Lffvhk+fsxHvGr+ZcvOPl+AF992Be6l6B+WDTzq8XOMCVjCyOUOdos1OUE0cy4zv0P\n",
    "eOwGbT5GQ512Za/2AAAGk0lEQVR2OO4ZGKH/UShOfxdZixpzAQ3QRIqL6aq5v/2HNdb96fwrr34F\n",
    "3C/baRNI53/q79i5RGbl5gcJRgABQESh4HW3I093xHxd2kv8FNegIQGArg2ReV7W/SLQnmjuT7cX\n",
    "XrXjsaVeP9b/62imsTl7LbQqDGeQ2qW9rOQkycDYl+C9CdXCMXAggAM7eE4NjS1WRM4AWDW3es9x\n",
    "td2b3+MwocVzPSredz3JCGyE2eQGQaBVxiMGm2bmEQ2SR6uhN3PK7mOgbhARwKNF4C6LgYY0x1W5\n",
    "t68RlqDX1s7k13lih5CvuxVbf+Ypk9SfsUJBItGE6WZ65hKZ+1ToD8yakrw3icyBRnNT6lNs9JXU\n",
    "NveyvUtrl5C5w+dKqLDOYwMAC9NT1jSA2580Oa1EjJTS2ALmlErHlTID9Th7JSN88AZgmDXRF5Jq\n",
    "Wajrz0G/b0IFjvFdtGesv+atv8/TLEPEc9REOYd5zAgnagDNrjNDM5nRGzk086iM7zrMpMkpdqJK\n",
    "vbKbU2NRQ7z4lOerSd0A1dsYs6lMYgaCCFELrgos6F/4uZpLVhk08cuhQMhQvy2lfqbfIMJMUNsj\n",
    "cTeGRY4LDW0bFhm32NTuP6/9rcNYf+YBaBCdYEUaf0ikaI+QGhlfREPma8CulXXdr85qNFAB0GpD\n",
    "lgGOohK+imH4VeR8oB161b4YV/fGlI9DnkohNFJh6NdfKgQ/AGZTW/uGRZ/MjRqcNW2wVEQs59q+\n",
    "gIoyB9m0QfOmYCVJrKjZGGvmcKgvIcAEGFZhdrQdcuU1XKkdevV3AVzuf/aiQ5HzRUjp+NB83XK8\n",
    "QWNjMiwVrLXyDNC1FnK/OZFp9t7XAdJdVf+eo1c1qTw/kGdq8yxq/S8N71fGdUs+bMf3AbwdZndj\n",
    "sUkajAQo/UCECu5TfZVHe/goflauRlGTCBGI/dkKSHgNzaXWzroYTyr9+jIAfU2w++/tbtl22I6/\n",
    "wTRd0Xp5INmetCFmcwN8nt/XvZ4wsiJSzQYEkqOdQ7MaxUuaSumvpK/TnpfwaeIvQ+MBwO+1Q/7k\n",
    "9gdfut8Qr9HXtdInr/PYAObZtyNmA1qKS7c/aexGLQlGQNJqEo8FcrWdi6xw6ZWEZEyMgOWH/fqX\n",
    "7P3gS7cf7RLpIWAJbSHrNzbCbH4Znr8evfpEfFrCGdQMQpjkLTaMzIYyCYIy69BOLrO+Z5MhhrvB\n",
    "84t3u+xrj0wAjgqB0op/ue/du7v+sRjrzjx7zmUO2MVdjyT7Q7gnnuYsDe0ryRTSR2c0FKrLXRgC\n",
    "VOSq/nGU6reWobJv9+uO/qFdLtz9l5Hzc7rNpYCGLd94lEn1oGNj4jzDeRiG73WxlrYR6LtTmDCm\n",
    "BmkQP++P0ewJMygEL9oyr2kwCozZMwH/rK8ccZBO6StHJP/8Ue9GSmfvFEMyP+r5S3b4n/75Y0ix\n",
    "Ncf6Z1Pr8D9/5RkYxw/0mxGtT5kB0jAk8eFik/SPiG8EehPLlxPoFuac+1ogEwEAanvgfUjpapjd\n",
    "gGl6KoAjYPbj8ebZiCnRwg/D6ba0csFjRqxdjI1j3s3HLmB2NWCHRygQucO6rD53KIyaSOiIJgKF\n",
    "As3EMl/qKHOPYvKY01TgpALSNRMxeSCC1HKnfwzgWFtaXne4uUHpMcCed/mI7McC/tnQgvCD9f8B\n",
    "asTfjWML4COrwmBZ0l1R2/NWr1NNBXrww7+jIq/t+DO/GUjX/wbu/3IjGAdsIPMAwA6+/F64vwZm\n",
    "H44QAOjLQpF+8p7w1AYWUMlUoCWcu9hLEWZifNfQbAAXVvA5h7THq8bBrgKwZEesfPPRpcpDHxtm\n",
    "NufDb3z5v4bZmQD+cSMS0IUCWkvr+lG8wfcI0tFMJzvRtD+FrRgRuM+Tzt7/EOWaZZidBc//3pZW\n",
    "NrRF7XHDPADwm47ZBPeTYHYGzH5izdoc2x9iP1xq7RDUIiagqc3Zm0YpwGGCW30cINoOFZLvIaWP\n",
    "w/Ov25bl+XtlNmQ8rpjH4Te+fADwZri/A8DhAPbYSdvU5AHS1ETtmyQmNOkFTTMhGNCFGLw2Kh7+\n",
    "ZQC/hewftSNW7lp7xRszHpfM0+E3vOSJsHQ4zI6C+4uR8xEw7BMJaIYE829GjpeX1oCeGsgsjVbY\n",
    "yeSUvg/3GwFcC7NrMY7XArjJjljx3Sxxw8bjnnnz4dcdnWA4GJZ+GsD+yHlfmG0GsBmeNwPYF47N\n",
    "SGkzxtXN1UfdDUv3IOe7Ybgb7vfUdNY9MLsbwF8j588DuMkO/9PV3d3/8TT+P2x6AX5Riia7AAAA\n",
    "AElFTkSuQmCC\n",
    "\"\n",
    "     style=\"display:block;margin:auto;width:10%\"/>\n",
    "<br>\n",
    "<div style=\"text-align:center; font-size:200%;\">\n",
    "  <b>Case Study: Othellite</b>\n",
    "</div>\n",
    "<br/>\n",
    "<div style=\"text-align:center;\">Dr. Matthias Hölzl</div>\n",
    "<br/>\n",
    "<!-- <div style=\"text-align:center;\">module_220_advanced_topics/topic_900_othellite</div> -->\n",
    "\n"
   ]
  },
  {
   "cell_type": "code",
   "execution_count": null,
   "id": "50e2ee997b52c32d",
   "metadata": {
    "tags": [
     "keep"
    ]
   },
   "outputs": [],
   "source": [
    "from collections.abc import Sequence\n",
    "from enum import Enum\n",
    "from dataclasses import dataclass, field\n",
    "import reprlib\n",
    "from typing import Union\n",
    "from random import sample\n",
    "\n",
    "try:\n",
    "    import numpy as np\n",
    "except ModuleNotFoundError:\n",
    "    print(\"NumPy not found, some (minor) examples may not work\")"
   ]
  },
  {
   "cell_type": "markdown",
   "id": "c1754fe35998006d",
   "metadata": {
    "lang": "en"
   },
   "source": [
    "# Othellite\n",
    "\n",
    "In this notebook we want to implement a simplified variant of the game Reversi (also\n",
    "known under the trade name Othello). The game is\n",
    "played on a board with 8x8 squares, on which players\n",
    "can place black or white pieces. The exact rules are\n",
    "described [in the Wikipedia article](https://en.wikipedia.org/wiki/Reversi)."
   ]
  },
  {
   "cell_type": "markdown",
   "id": "7969c482352ac655",
   "metadata": {
    "lang": "en"
   },
   "source": [
    "We define an enumeration that returns a state describing a single field\n",
    "of the board:"
   ]
  },
  {
   "cell_type": "code",
   "execution_count": null,
   "id": "ac21f55cb61dbd50",
   "metadata": {},
   "outputs": [],
   "source": []
  },
  {
   "cell_type": "code",
   "execution_count": null,
   "id": "a1daa03cd3ecf7b9",
   "metadata": {
    "lines_to_next_cell": 2,
    "tags": [
     "keep"
    ]
   },
   "outputs": [],
   "source": [
    "print(\"Fields:           \", list(Field))\n",
    "print(\"Empty field:      \", Field.DARK)\n",
    "print(\"Light field:      \", Field.LIGHT)\n",
    "print(\"Dark field:       \", Field.DARK)\n",
    "print(\"Light field value:\", Field.LIGHT.value)\n",
    "print(\"Light field name: \", Field.LIGHT.name)"
   ]
  },
  {
   "cell_type": "markdown",
   "id": "f079bb578e0c5ef2",
   "metadata": {
    "lang": "en"
   },
   "source": [
    "## Mini workshop\n",
    "\n",
    "Define a function `is_occupied(f: Field) -> bool`,\n",
    "which returns `True` if and only if `field` is not empty."
   ]
  },
  {
   "cell_type": "code",
   "execution_count": null,
   "id": "be0c3f8e8ec3812f",
   "metadata": {
    "tags": [
     "keep"
    ]
   },
   "outputs": [],
   "source": [
    "def is_occupied(f: Field) -> bool:\n",
    "    return f is not Field.EMPTY"
   ]
  },
  {
   "cell_type": "code",
   "execution_count": null,
   "id": "6d6eac947de47f2e",
   "metadata": {
    "lines_to_next_cell": 2,
    "tags": [
     "keep"
    ]
   },
   "outputs": [],
   "source": [
    "assert is_occupied(Field.DARK)\n",
    "assert is_occupied(Field.LIGHT)\n",
    "assert not is_occupied(Field.EMPTY)"
   ]
  },
  {
   "cell_type": "markdown",
   "id": "28e0a3f601cd88fc",
   "metadata": {
    "lang": "en"
   },
   "source": [
    "## Mini workshop\n",
    "\n",
    "Define an enumeration `Player` which describes the players in analogy with the enumeration `Field`.\n",
    "Print out the possible values as well as value and name for a single enum value."
   ]
  },
  {
   "cell_type": "code",
   "execution_count": null,
   "id": "b800318f4bf83714",
   "metadata": {},
   "outputs": [],
   "source": []
  },
  {
   "cell_type": "code",
   "execution_count": null,
   "id": "f117455d90b5c39c",
   "metadata": {},
   "outputs": [],
   "source": []
  },
  {
   "cell_type": "markdown",
   "id": "aba6dafe37fd6de3",
   "metadata": {
    "lang": "en"
   },
   "source": [
    "## Mini workshop\n",
    "\n",
    "Define a function\n",
    "`is_field_owned_by_opponent(p: Player, f: Field) -> bool`,\n",
    "which returns `True` if and only if the token on square `f` belongs to the opponen, i.e. if `f` is occupied and the token on `f` does not have the same color as the player.\n",
    "\n",
    "Verify that your implementation satisfies the specified assertions.\n",
    "\n",
    "Implement a corresponding method `is_field_owned_by_player()`."
   ]
  },
  {
   "cell_type": "code",
   "execution_count": null,
   "id": "233005ee943a3b75",
   "metadata": {},
   "outputs": [],
   "source": []
  },
  {
   "cell_type": "code",
   "execution_count": null,
   "id": "119374e41e4cccb7",
   "metadata": {
    "tags": [
     "keep"
    ]
   },
   "outputs": [],
   "source": [
    "assert is_field_owned_by_opponent(Player.LIGHT, Field.DARK)\n",
    "assert is_field_owned_by_opponent(Player.DARK, Field.LIGHT)\n",
    "assert not is_field_owned_by_opponent(Player.DARK, Field.DARK)\n",
    "assert not is_field_owned_by_opponent(Player.DARK, Field.EMPTY)\n",
    "assert not is_field_owned_by_opponent(Player.LIGHT, Field.LIGHT)\n",
    "assert not is_field_owned_by_opponent(Player.LIGHT, Field.EMPTY)"
   ]
  },
  {
   "cell_type": "code",
   "execution_count": null,
   "id": "5ae4e31d372bb96e",
   "metadata": {},
   "outputs": [],
   "source": []
  },
  {
   "cell_type": "code",
   "execution_count": null,
   "id": "b3acc36d466db650",
   "metadata": {
    "tags": [
     "keep"
    ]
   },
   "outputs": [],
   "source": [
    "assert is_field_owned_by_player(Player.LIGHT, Field.LIGHT)\n",
    "assert is_field_owned_by_player(Player.DARK, Field.DARK)\n",
    "assert not is_field_owned_by_player(Player.DARK, Field.LIGHT)\n",
    "assert not is_field_owned_by_player(Player.DARK, Field.EMPTY)\n",
    "assert not is_field_owned_by_player(Player.LIGHT, Field.DARK)\n",
    "assert not is_field_owned_by_player(Player.LIGHT, Field.EMPTY)"
   ]
  },
  {
   "cell_type": "markdown",
   "id": "2b8d125938095035",
   "metadata": {
    "lang": "en"
   },
   "source": [
    "We want to go to the individual squares of an 8x8 playing field using a\n",
    "two-dimensional index value: `board[0, 0]` stands for the left one\n",
    "top panel, `board[0, 1]` for the panel to the right, etc.\n",
    "\n",
    "This is easy if we take a two-dimensional array as the underlying\n",
    "data structure, e.g. NumPy's `ndarray`. In this case\n",
    "let's just delegate `__getitem__()` and `__setitem__()` to the\n",
    "corresponding methods of the NumPy array.\n",
    "\n",
    "We initialize the middle 4 fields of the playing field with diagonal\n",
    "arranged stones."
   ]
  },
  {
   "cell_type": "code",
   "execution_count": null,
   "id": "8c527584bbd5f009",
   "metadata": {},
   "outputs": [],
   "source": []
  },
  {
   "cell_type": "code",
   "execution_count": null,
   "id": "b784b6d2455db29b",
   "metadata": {},
   "outputs": [],
   "source": []
  },
  {
   "cell_type": "markdown",
   "id": "12d868e222b063b3",
   "metadata": {
    "lang": "en"
   },
   "source": [
    "Because the index is passed to the NumPy array,\n",
    "powerful access variants, such as slicing, are also available:"
   ]
  },
  {
   "cell_type": "code",
   "execution_count": null,
   "id": "c44726a414884d7e",
   "metadata": {
    "lines_to_next_cell": 2,
    "tags": [
     "keep"
    ]
   },
   "outputs": [],
   "source": [
    "npb[0, 2:] = Field.DARK\n",
    "npb[1:3, 1:3] = Field.LIGHT\n",
    "print(npb)"
   ]
  },
  {
   "cell_type": "markdown",
   "id": "733645f083e83908",
   "metadata": {
    "lang": "en"
   },
   "source": [
    "## Mini workshop Compute Linear Index\n",
    "\n",
    "If we want to use a Python list as storage for the playing field,\n",
    "we need to convert two-dimensional index values into a one-dimensional index.\n",
    "\n",
    "We do this by calculating the value `r * 8 + c` for a position `(r, c)`.\n",
    "In the event that one of the indices is not `>= 0` and `< 8`, a\n",
    "appropriate exception are raised.\n",
    "\n",
    "Implement a function `compute_linear_index()` to do this task\n",
    "takes over."
   ]
  },
  {
   "cell_type": "code",
   "execution_count": null,
   "id": "249107084b3d6fbe",
   "metadata": {
    "lines_to_next_cell": 2
   },
   "outputs": [],
   "source": []
  },
  {
   "cell_type": "markdown",
   "id": "eee4924682b061e8",
   "metadata": {
    "lang": "en"
   },
   "source": [
    "## Mini workshop\n",
    "\n",
    "Implement a class `Board` representing an 8x8 Othellite board\n",
    "that stores the state of the board in a list.\n",
    "You can refer to the `NumPyBoard` class for implementation hints, and you can use `compute_linear_index` to calculate index values."
   ]
  },
  {
   "cell_type": "code",
   "execution_count": null,
   "id": "27703c13d6c53778",
   "metadata": {},
   "outputs": [],
   "source": []
  },
  {
   "cell_type": "code",
   "execution_count": null,
   "id": "a672e1f8e067cf89",
   "metadata": {},
   "outputs": [],
   "source": []
  },
  {
   "cell_type": "markdown",
   "id": "b2dd7467dfb0ae15",
   "metadata": {
    "lang": "en"
   },
   "source": [
    "We define another enumeration for \"directions\". The\n",
    "Keys of the enumeration should be abbreviations for the compass directions (N,\n",
    "NE, E, ...). The value for movement in this direction\n",
    "should be the \"offset\" to move in that direction:\n",
    "\n",
    "- `(-1, 0)` for northbound movement,\n",
    "- `(0, 1)` for eastbound movement,\n",
    "- `(1, 0)` for a southbound movement,\n",
    "- `(0, -1)` for westbound movement,\n",
    "- `(-1, 1)` for a north-east movement,\n",
    "- `(1, 1)` for moving south-east,\n",
    "- `(-1, -1)` for moving north-west,\n",
    "- `(1, -1` for moving south-west.\n",
    "\n",
    "<!--\n",
    "We define yet another enumeration, this time for directions.\n",
    "The keys of this enumeration should be the compass directions (N, NE, E, ...),\n",
    "the values should be the (x, y) offset to move to this field in a\n",
    "right-handed coordinate system, i.e.,\n",
    "- `(-1, 0)` for moving north,\n",
    "- `(0, 1)` for moving east,\n",
    "- `(1, 0)` for moving south,\n",
    "- `(0, -1)` for moving west,\n",
    "- `(-1, 1)` for moving north-east,\n",
    "- `(1, 1)` for moving south-east,\n",
    "- `(-1, -1)` for moving north-west,\n",
    "- `(1, -1` for moving south-west.\n",
    "-->"
   ]
  },
  {
   "cell_type": "markdown",
   "id": "a8dcd654c55398ec",
   "metadata": {
    "lang": "en"
   },
   "source": [
    "## Mini workshop\n",
    "\n",
    "Define an enumeration `Directions` as just described."
   ]
  },
  {
   "cell_type": "code",
   "execution_count": null,
   "id": "cac30a44192ec87b",
   "metadata": {},
   "outputs": [],
   "source": []
  },
  {
   "cell_type": "markdown",
   "id": "18c78d811d0a9034",
   "metadata": {
    "lang": "en"
   },
   "source": [
    "It is possible with enumerations to use several keys for the same value\n",
    "to define (i.e. to give synonyms, so to speak).\n",
    "\n",
    "```python\n",
    "class Synonyms(enum):\n",
    "    DRINK = 0\n",
    "    BEVERAGE = 0\n",
    "    FOOD = 1\n",
    "    BIG = 2\n",
    "    LARGE = 2\n",
    "    SMALL = 3\n",
    "```"
   ]
  },
  {
   "cell_type": "code",
   "execution_count": null,
   "id": "e648f56697fdc1f2",
   "metadata": {
    "lines_to_next_cell": 2,
    "tags": [
     "keep"
    ]
   },
   "outputs": [],
   "source": [
    "print(Synonyms.DRINK is Synonyms.BEVERAGE)\n",
    "print(Synonyms.DRINK is not Synonyms.FOOD)\n",
    "print(Synonyms.BIG is Synonyms.LARGE)\n",
    "print(Synonyms.BIG is not Synonyms.SMALL)"
   ]
  },
  {
   "cell_type": "markdown",
   "id": "c19618a497685d3f",
   "metadata": {
    "lang": "en"
   },
   "source": [
    "Extend the enumeration `Directions` to include the full\n",
    "Names of the compass directions (`NORTH`, `NORTH_EAST`, ...)."
   ]
  },
  {
   "cell_type": "code",
   "execution_count": null,
   "id": "6aa0578e23a93c7a",
   "metadata": {},
   "outputs": [],
   "source": []
  },
  {
   "cell_type": "markdown",
   "id": "aea49d97a37e3c16",
   "metadata": {
    "lang": "en"
   },
   "source": [
    "## Mini workshop\n",
    "\n",
    "Check that the abbreviations and the full names\n",
    "represent the same values."
   ]
  },
  {
   "cell_type": "code",
   "execution_count": null,
   "id": "2b00294c37bee215",
   "metadata": {},
   "outputs": [],
   "source": []
  },
  {
   "cell_type": "code",
   "execution_count": null,
   "id": "fc4bb706c6ea4661",
   "metadata": {},
   "outputs": [],
   "source": []
  },
  {
   "cell_type": "code",
   "execution_count": null,
   "id": "5734cc377c945fd1",
   "metadata": {
    "tags": [
     "keep"
    ]
   },
   "outputs": [],
   "source": [
    "Index = tuple[int, int]"
   ]
  },
  {
   "cell_type": "markdown",
   "id": "b8c64c6686035a3e",
   "metadata": {
    "lang": "en"
   },
   "source": [
    "## Mini workshop\n",
    "\n",
    "Write a function `is_valid_index(index: index) -> bool`,\n",
    "which returns `True` if and only if `index` is a valid index for\n",
    "an Othellite board. Check if your\n",
    "Implementation satisfies the given assertions."
   ]
  },
  {
   "cell_type": "code",
   "execution_count": null,
   "id": "69c23273654c7bee",
   "metadata": {},
   "outputs": [],
   "source": []
  },
  {
   "cell_type": "code",
   "execution_count": null,
   "id": "75627dd16f26d7aa",
   "metadata": {
    "lines_to_next_cell": 2,
    "tags": [
     "keep"
    ]
   },
   "outputs": [],
   "source": [
    "assert is_valid_index((0, 7))\n",
    "assert not is_valid_index((8, 1))\n",
    "assert not is_valid_index((1, 8))\n",
    "assert not is_valid_index((6, -1))\n",
    "assert not is_valid_index((-2, 4))"
   ]
  },
  {
   "cell_type": "markdown",
   "id": "eeab43ef2fc80ea5",
   "metadata": {
    "lang": "en"
   },
   "source": [
    "## Mini workshop\n",
    "\n",
    "Write a function\n",
    "`assert_valid_index(index: Index) -> None:` which throws an exception of\n",
    "type `IndexError` with an appropriate error message if `index`\n",
    "is not a valid index for an Othellite board. Check that the\n",
    "function does not throw an exception for correct arguments, but it does for\n",
    "different error cases."
   ]
  },
  {
   "cell_type": "code",
   "execution_count": null,
   "id": "2fb8334f6443671a",
   "metadata": {},
   "outputs": [],
   "source": []
  },
  {
   "cell_type": "code",
   "execution_count": null,
   "id": "afe36fdc0e8a6088",
   "metadata": {},
   "outputs": [],
   "source": []
  },
  {
   "cell_type": "code",
   "execution_count": null,
   "id": "c073c6be53f34a7d",
   "metadata": {},
   "outputs": [],
   "source": []
  },
  {
   "cell_type": "code",
   "execution_count": null,
   "id": "4d348b1680c1171b",
   "metadata": {
    "lines_to_next_cell": 2
   },
   "outputs": [],
   "source": []
  },
  {
   "cell_type": "markdown",
   "id": "328aa87ade66abed",
   "metadata": {
    "lang": "en"
   },
   "source": [
    "Write a function\n",
    "`next_index_in_direction(index: Index, direction: Direction)`,\n",
    "which returns two values if `index` is a valid index:\n",
    "- the next index in direction `direction` and\n",
    "- `True` or `False` depending on whether the next index is valid or not.\n",
    "If `index` is not a valid index, an exception of type\n",
    "`IndexError` is thrown.\n",
    "\n",
    "*Note:* You can calculate the values to be added to the components of `index`\n",
    "using `d_row, d_column = direction.value`.\n",
    "\n",
    "Verify that your implementation satisfies the specified assertions."
   ]
  },
  {
   "cell_type": "code",
   "execution_count": null,
   "id": "ed81b93ed3efd039",
   "metadata": {},
   "outputs": [],
   "source": []
  },
  {
   "cell_type": "code",
   "execution_count": null,
   "id": "4312a20a880194d9",
   "metadata": {
    "tags": [
     "keep"
    ]
   },
   "outputs": [],
   "source": [
    "assert next_index_in_direction((0, 0), Direction.N) == ((-1, 0), False)\n",
    "assert next_index_in_direction((0, 0), Direction.NE) == ((-1, 1), False)\n",
    "assert next_index_in_direction((0, 0), Direction.E) == ((0, 1), True)\n",
    "assert next_index_in_direction((0, 0), Direction.SE) == ((1, 1), True)\n",
    "assert next_index_in_direction((0, 0), Direction.S) == ((1, 0), True)\n",
    "assert next_index_in_direction((0, 0), Direction.SW) == ((1, -1), False)\n",
    "assert next_index_in_direction((0, 0), Direction.W) == ((0, -1), False)\n",
    "assert next_index_in_direction((0, 0), Direction.NW) == ((-1, -1), False)"
   ]
  },
  {
   "cell_type": "code",
   "execution_count": null,
   "id": "c77250272be8538f",
   "metadata": {
    "tags": [
     "keep"
    ]
   },
   "outputs": [],
   "source": [
    "assert next_index_in_direction((4, 5), Direction.N) == ((3, 5), True)\n",
    "assert next_index_in_direction((4, 5), Direction.NE) == ((3, 6), True)\n",
    "assert next_index_in_direction((4, 5), Direction.E) == ((4, 6), True)\n",
    "assert next_index_in_direction((4, 5), Direction.SE) == ((5, 6), True)\n",
    "assert next_index_in_direction((4, 5), Direction.S) == ((5, 5), True)\n",
    "assert next_index_in_direction((4, 5), Direction.SW) == ((5, 4), True)\n",
    "assert next_index_in_direction((4, 5), Direction.W) == ((4, 4), True)\n",
    "assert next_index_in_direction((4, 5), Direction.NW) == ((3, 4), True)"
   ]
  },
  {
   "cell_type": "code",
   "execution_count": null,
   "id": "13cc38406c1ed151",
   "metadata": {
    "tags": [
     "keep"
    ]
   },
   "outputs": [],
   "source": [
    "assert next_index_in_direction((7, 7), Direction.N) == ((6, 7), True)\n",
    "assert next_index_in_direction((7, 7), Direction.NE) == ((6, 8), False)\n",
    "assert next_index_in_direction((7, 7), Direction.E) == ((7, 8), False)\n",
    "assert next_index_in_direction((7, 7), Direction.SE) == ((8, 8), False)\n",
    "assert next_index_in_direction((7, 7), Direction.S) == ((8, 7), False)\n",
    "assert next_index_in_direction((7, 7), Direction.SW) == ((8, 6), False)\n",
    "assert next_index_in_direction((7, 7), Direction.W) == ((7, 6), True)\n",
    "assert next_index_in_direction((7, 7), Direction.NW) == ((6, 6), True)"
   ]
  },
  {
   "cell_type": "code",
   "execution_count": null,
   "id": "2aa5d40031e1bb7f",
   "metadata": {
    "tags": [
     "keep"
    ]
   },
   "outputs": [],
   "source": [
    "try:\n",
    "    next_index_in_direction((7, 8), Direction.S)\n",
    "except IndexError as err:\n",
    "    print(err)"
   ]
  },
  {
   "cell_type": "markdown",
   "id": "a8613e725a88b9b3",
   "metadata": {
    "lang": "en"
   },
   "source": [
    "We want to extend our `Board` class with a method\n",
    "\n",
    "```\n",
    "_fields_flipped_in_direction(self, p: Player, index: Index,\n",
    "                             d: Direction) -> set[Index]\n",
    "```\n",
    "\n",
    "which returns the indices of all fields that the player\n",
    "can flip starting from field `index` and moving in direction `d`."
   ]
  },
  {
   "cell_type": "code",
   "execution_count": null,
   "id": "dae2f643a70213bf",
   "metadata": {},
   "outputs": [],
   "source": []
  },
  {
   "cell_type": "code",
   "execution_count": null,
   "id": "8b9d815ab2519622",
   "metadata": {
    "tags": [
     "keep"
    ]
   },
   "outputs": [],
   "source": [
    "assert _find_rightmost([True, False, True, False]) == 2\n",
    "assert _find_rightmost([False, False, False]) == 0"
   ]
  },
  {
   "cell_type": "code",
   "execution_count": null,
   "id": "2014468dac28ce7a",
   "metadata": {},
   "outputs": [],
   "source": []
  },
  {
   "cell_type": "code",
   "execution_count": null,
   "id": "dd76760b7038719a",
   "metadata": {
    "tags": [
     "keep"
    ]
   },
   "outputs": [],
   "source": [
    "def assert_flips_direction(player, index, directions):\n",
    "    board = Board()\n",
    "    board[index] = Field.LIGHT if player == Player.LIGHT else Field.DARK\n",
    "    print(f\"Player {player} at {index} flips {directions}.\")\n",
    "    print(board)\n",
    "\n",
    "    for d in set(Direction) - directions:\n",
    "        # noinspection PyProtectedMember\n",
    "        result = board._indices_to_flip_in_direction(player, index, d)\n",
    "        assert result == set(), f\"Fields flipped in {d} are not empty.\"\n",
    "\n",
    "    for d in directions:\n",
    "        # noinspection PyProtectedMember\n",
    "        result = board._indices_to_flip_in_direction(player, index, d)\n",
    "        assert result != set(), f\"Fields flipped in {d} are empty.\""
   ]
  },
  {
   "cell_type": "code",
   "execution_count": null,
   "id": "c16adc60b9607852",
   "metadata": {
    "tags": [
     "keep"
    ]
   },
   "outputs": [],
   "source": [
    "assert_flips_direction(Player.LIGHT, (0, 0), set())\n",
    "assert_flips_direction(Player.LIGHT, (2, 3), {Direction.S})\n",
    "assert_flips_direction(Player.LIGHT, (3, 2), {Direction.E})\n",
    "assert_flips_direction(Player.LIGHT, (4, 5), {Direction.W})\n",
    "assert_flips_direction(Player.LIGHT, (5, 2), set())\n",
    "assert_flips_direction(Player.LIGHT, (5, 3), set())\n",
    "assert_flips_direction(Player.LIGHT, (5, 4), {Direction.N})\n",
    "assert_flips_direction(Player.LIGHT, (6, 4), set())"
   ]
  },
  {
   "cell_type": "code",
   "execution_count": null,
   "id": "a80270b4210269b6",
   "metadata": {
    "tags": [
     "keep"
    ]
   },
   "outputs": [],
   "source": [
    "assert_flips_direction(Player.DARK, (0, 0), set())\n",
    "assert_flips_direction(Player.DARK, (2, 4), {Direction.S})\n",
    "assert_flips_direction(Player.DARK, (3, 5), {Direction.W})\n",
    "assert_flips_direction(Player.DARK, (4, 2), {Direction.E})\n",
    "assert_flips_direction(Player.DARK, (5, 2), set())\n",
    "assert_flips_direction(Player.DARK, (5, 3), {Direction.N})\n",
    "assert_flips_direction(Player.DARK, (5, 4), set())\n",
    "assert_flips_direction(Player.DARK, (6, 4), set())"
   ]
  },
  {
   "cell_type": "markdown",
   "id": "1a4eaf72641b9f29",
   "metadata": {
    "lang": "en"
   },
   "source": [
    "## Mini workshop\n",
    "\n",
    "Add a method to the `Board` class\n",
    "`is_valid_move(self, player: Player, index: Index) -> bool`\n",
    "which returns `True` if and only if `index` is a valid index for\n",
    "the player's next move.\n",
    "\n",
    "An index is valid if\n",
    "- It is not already occupied,\n",
    "- At least one of the opponent's stones is turned over by the move"
   ]
  },
  {
   "cell_type": "code",
   "execution_count": null,
   "id": "6cf1da163d9805d7",
   "metadata": {},
   "outputs": [],
   "source": []
  },
  {
   "cell_type": "code",
   "execution_count": null,
   "id": "a4e5248cc8ee5600",
   "metadata": {
    "tags": [
     "keep"
    ]
   },
   "outputs": [],
   "source": [
    "def assert_valid_moves(player, valid_indices):\n",
    "    board = Board()\n",
    "    for row in range(8):\n",
    "        for col in range(8):\n",
    "            index = (row, col)\n",
    "            result = board.is_valid_move(player, index)\n",
    "            if index in valid_indices:\n",
    "                assert result, f\"Index {index} should be valid.\"\n",
    "            else:\n",
    "                assert not result, f\"Index {index} is valid?\""
   ]
  },
  {
   "cell_type": "code",
   "execution_count": null,
   "id": "78fa2681d64dad10",
   "metadata": {
    "tags": [
     "keep"
    ]
   },
   "outputs": [],
   "source": [
    "print(Board())"
   ]
  },
  {
   "cell_type": "code",
   "execution_count": null,
   "id": "7d50421ed451b755",
   "metadata": {
    "tags": [
     "keep"
    ]
   },
   "outputs": [],
   "source": [
    "valid_moves_for_light_player = {(2, 3), (3, 2), (4, 5), (5, 4)}\n",
    "assert_valid_moves(Player.LIGHT, valid_moves_for_light_player)"
   ]
  },
  {
   "cell_type": "code",
   "execution_count": null,
   "id": "32db8a4036a1d0c0",
   "metadata": {
    "tags": [
     "keep"
    ]
   },
   "outputs": [],
   "source": [
    "valid_move_for_dark_player = {(2, 4), (3, 5), (4, 2), (5, 3)}\n",
    "assert_valid_moves(Player.DARK, valid_move_for_dark_player)"
   ]
  },
  {
   "cell_type": "markdown",
   "id": "331cfa80f8039fcd",
   "metadata": {
    "lang": "en"
   },
   "source": [
    "## Mini workshop\n",
    "\n",
    "Add a method to the `Board` class\n",
    "`find_valid_moves(self, player: Player) -> set[Index]`,\n",
    "which returns all possible moves for the player `player`.\n",
    "\n",
    "*Note:* You can easily achieve this using *Generate and Test*:\n",
    "Generate all possible moves and then test for each move whether\n",
    "he is possible."
   ]
  },
  {
   "cell_type": "code",
   "execution_count": null,
   "id": "a491a3b476996eb3",
   "metadata": {},
   "outputs": [],
   "source": []
  },
  {
   "cell_type": "code",
   "execution_count": null,
   "id": "3bcea88c85389b8b",
   "metadata": {
    "lines_to_next_cell": 2,
    "tags": [
     "keep"
    ]
   },
   "outputs": [],
   "source": [
    "board = Board()\n",
    "assert board.find_valid_moves(Player.LIGHT) == valid_moves_for_light_player\n",
    "assert board.find_valid_moves(Player.DARK) == valid_move_for_dark_player"
   ]
  },
  {
   "cell_type": "markdown",
   "id": "432edb234ec9defd",
   "metadata": {
    "lang": "en"
   },
   "source": [
    "## Mini workshop\n",
    "\n",
    "Write a method\n",
    "`play_move(self, player: Player, index: Index) -> None`,\n",
    "which executes the move from `player` to the field `index`.\n",
    "If the move is invalid, an exception should be thrown.\n",
    "If the move is valid, all fields flipped by the move should\n",
    "be set to the correct value.\n",
    "\n",
    "To do this, write appropriate helper methods so that `play_move` does not\n",
    "have too many responsibilities."
   ]
  },
  {
   "cell_type": "code",
   "execution_count": null,
   "id": "14e64d0c52114443",
   "metadata": {},
   "outputs": [],
   "source": []
  },
  {
   "cell_type": "code",
   "execution_count": null,
   "id": "95b12e9b1878fc02",
   "metadata": {
    "tags": [
     "keep"
    ]
   },
   "outputs": [],
   "source": [
    "def play_some_random_moves(n: int = 10):\n",
    "    board = Board()\n",
    "    player = Player.DARK\n",
    "    for _ in range(n):\n",
    "        print(board)\n",
    "        moves = board.find_valid_moves(player)\n",
    "        if moves:\n",
    "            move = sample(list(moves), 1)[0]\n",
    "            print(f\"Player {player} plays {move}.\")\n",
    "            board.play_move(player, move)\n",
    "        else:\n",
    "            print(f\"{player} has no more valid moves.\")\n",
    "        player = Player.LIGHT if player == Player.DARK else Player.DARK\n",
    "    print(board)"
   ]
  },
  {
   "cell_type": "code",
   "execution_count": null,
   "id": "c98f2f761662e4a6",
   "metadata": {
    "tags": [
     "keep"
    ]
   },
   "outputs": [],
   "source": [
    "play_some_random_moves()"
   ]
  }
 ],
 "metadata": {},
 "nbformat": 4,
 "nbformat_minor": 5
}
