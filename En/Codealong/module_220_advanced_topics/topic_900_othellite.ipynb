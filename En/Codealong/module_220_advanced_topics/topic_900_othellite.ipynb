{
 "cells": [
  {
   "cell_type": "markdown",
   "id": "ce96c35e08334733",
   "metadata": {
    "lang": "en",
    "slideshow": {
     "slide_type": "slide"
    }
   },
   "source": [
    "<img src=\"../../img/python-logo-no-text.svg\"\n",
    "     style=\"display:block;margin:auto;width:10%\"/>\n",
    "<br>\n",
    "<div style=\"text-align:center; font-size:200%;\">\n",
    "  <b>Case Study: Othellite</b>\n",
    "</div>\n",
    "<br/>\n",
    "<div style=\"text-align:center;\">Dr. Matthias Hölzl</div>\n",
    "<br/>\n",
    "<div style=\"text-align:center;\">module_220_advanced_topics/topic_900_othellite</div>\n",
    "\n"
   ]
  },
  {
   "cell_type": "code",
   "execution_count": null,
   "id": "50e2ee997b52c32d",
   "metadata": {
    "tags": [
     "keep"
    ]
   },
   "outputs": [],
   "source": [
    "from collections.abc import Sequence\n",
    "from enum import Enum\n",
    "from dataclasses import dataclass, field\n",
    "import reprlib\n",
    "from typing import Union\n",
    "from random import sample\n",
    "\n",
    "try:\n",
    "    import numpy as np\n",
    "except ModuleNotFoundError:\n",
    "    print(\"NumPy not found, some (minor) examples may not work\")"
   ]
  },
  {
   "cell_type": "markdown",
   "id": "c1754fe35998006d",
   "metadata": {
    "lang": "en"
   },
   "source": [
    "# Othellite\n",
    "\n",
    "In this notebook we want to implement a simplified variant of the game Reversi (also\n",
    "known under the trade name Othello). The game is\n",
    "played on a board with 8x8 squares, on which players\n",
    "can place black or white pieces. The exact rules are\n",
    "described [in the Wikipedia article](https://en.wikipedia.org/wiki/Reversi)."
   ]
  },
  {
   "cell_type": "markdown",
   "id": "7969c482352ac655",
   "metadata": {
    "lang": "en"
   },
   "source": [
    "We define an enumeration that returns a state describing a single field\n",
    "of the board:"
   ]
  },
  {
   "cell_type": "code",
   "execution_count": null,
   "id": "ac21f55cb61dbd50",
   "metadata": {},
   "outputs": [],
   "source": []
  },
  {
   "cell_type": "code",
   "execution_count": null,
   "id": "a1daa03cd3ecf7b9",
   "metadata": {
    "lines_to_next_cell": 2,
    "tags": [
     "keep"
    ]
   },
   "outputs": [],
   "source": [
    "print(\"Fields:           \", list(Field))\n",
    "print(\"Empty field:      \", Field.DARK)\n",
    "print(\"Light field:      \", Field.LIGHT)\n",
    "print(\"Dark field:       \", Field.DARK)\n",
    "print(\"Light field value:\", Field.LIGHT.value)\n",
    "print(\"Light field name: \", Field.LIGHT.name)"
   ]
  },
  {
   "cell_type": "markdown",
   "id": "f079bb578e0c5ef2",
   "metadata": {
    "lang": "en"
   },
   "source": [
    "## Mini workshop\n",
    "\n",
    "Define a function `is_occupied(f: Field) -> bool`,\n",
    "which returns `True` if and only if `field` is not empty."
   ]
  },
  {
   "cell_type": "code",
   "execution_count": null,
   "id": "be0c3f8e8ec3812f",
   "metadata": {
    "tags": [
     "keep"
    ]
   },
   "outputs": [],
   "source": [
    "def is_occupied(f: Field) -> bool:\n",
    "    return f is not Field.EMPTY"
   ]
  },
  {
   "cell_type": "code",
   "execution_count": null,
   "id": "6d6eac947de47f2e",
   "metadata": {
    "lines_to_next_cell": 2,
    "tags": [
     "keep"
    ]
   },
   "outputs": [],
   "source": [
    "assert is_occupied(Field.DARK)\n",
    "assert is_occupied(Field.LIGHT)\n",
    "assert not is_occupied(Field.EMPTY)"
   ]
  },
  {
   "cell_type": "markdown",
   "id": "28e0a3f601cd88fc",
   "metadata": {
    "lang": "en"
   },
   "source": [
    "## Mini workshop\n",
    "\n",
    "Define an enumeration `Player` which describes the players in analogy with the enumeration `Field`.\n",
    "Print out the possible values as well as value and name for a single enum value."
   ]
  },
  {
   "cell_type": "code",
   "execution_count": null,
   "id": "b800318f4bf83714",
   "metadata": {},
   "outputs": [],
   "source": []
  },
  {
   "cell_type": "code",
   "execution_count": null,
   "id": "f117455d90b5c39c",
   "metadata": {},
   "outputs": [],
   "source": []
  },
  {
   "cell_type": "markdown",
   "id": "aba6dafe37fd6de3",
   "metadata": {
    "lang": "en"
   },
   "source": [
    "## Mini workshop\n",
    "\n",
    "Define a function\n",
    "`is_field_owned_by_opponent(p: Player, f: Field) -> bool`,\n",
    "which returns `True` if and only if the token on square `f` belongs to the opponen, i.e. if `f` is occupied and the token on `f` does not have the same color as the player.\n",
    "\n",
    "Verify that your implementation satisfies the specified assertions.\n",
    "\n",
    "Implement a corresponding method `is_field_owned_by_player()`."
   ]
  },
  {
   "cell_type": "code",
   "execution_count": null,
   "id": "233005ee943a3b75",
   "metadata": {},
   "outputs": [],
   "source": []
  },
  {
   "cell_type": "code",
   "execution_count": null,
   "id": "119374e41e4cccb7",
   "metadata": {
    "tags": [
     "keep"
    ]
   },
   "outputs": [],
   "source": [
    "assert is_field_owned_by_opponent(Player.LIGHT, Field.DARK)\n",
    "assert is_field_owned_by_opponent(Player.DARK, Field.LIGHT)\n",
    "assert not is_field_owned_by_opponent(Player.DARK, Field.DARK)\n",
    "assert not is_field_owned_by_opponent(Player.DARK, Field.EMPTY)\n",
    "assert not is_field_owned_by_opponent(Player.LIGHT, Field.LIGHT)\n",
    "assert not is_field_owned_by_opponent(Player.LIGHT, Field.EMPTY)"
   ]
  },
  {
   "cell_type": "code",
   "execution_count": null,
   "id": "5ae4e31d372bb96e",
   "metadata": {},
   "outputs": [],
   "source": []
  },
  {
   "cell_type": "code",
   "execution_count": null,
   "id": "b3acc36d466db650",
   "metadata": {
    "tags": [
     "keep"
    ]
   },
   "outputs": [],
   "source": [
    "assert is_field_owned_by_player(Player.LIGHT, Field.LIGHT)\n",
    "assert is_field_owned_by_player(Player.DARK, Field.DARK)\n",
    "assert not is_field_owned_by_player(Player.DARK, Field.LIGHT)\n",
    "assert not is_field_owned_by_player(Player.DARK, Field.EMPTY)\n",
    "assert not is_field_owned_by_player(Player.LIGHT, Field.DARK)\n",
    "assert not is_field_owned_by_player(Player.LIGHT, Field.EMPTY)"
   ]
  },
  {
   "cell_type": "markdown",
   "id": "2b8d125938095035",
   "metadata": {
    "lang": "en"
   },
   "source": [
    "We want to go to the individual squares of an 8x8 playing field using a\n",
    "two-dimensional index value: `board[0, 0]` stands for the left one\n",
    "top panel, `board[0, 1]` for the panel to the right, etc.\n",
    "\n",
    "This is easy if we take a two-dimensional array as the underlying\n",
    "data structure, e.g. NumPy's `ndarray`. In this case\n",
    "let's just delegate `__getitem__()` and `__setitem__()` to the\n",
    "corresponding methods of the NumPy array.\n",
    "\n",
    "We initialize the middle 4 fields of the playing field with diagonal\n",
    "arranged stones."
   ]
  },
  {
   "cell_type": "code",
   "execution_count": null,
   "id": "8c527584bbd5f009",
   "metadata": {},
   "outputs": [],
   "source": []
  },
  {
   "cell_type": "code",
   "execution_count": null,
   "id": "b784b6d2455db29b",
   "metadata": {},
   "outputs": [],
   "source": []
  },
  {
   "cell_type": "markdown",
   "id": "12d868e222b063b3",
   "metadata": {
    "lang": "en"
   },
   "source": [
    "Because the index is passed to the NumPy array,\n",
    "powerful access variants, such as slicing, are also available:"
   ]
  },
  {
   "cell_type": "code",
   "execution_count": null,
   "id": "c44726a414884d7e",
   "metadata": {
    "lines_to_next_cell": 2,
    "tags": [
     "keep"
    ]
   },
   "outputs": [],
   "source": [
    "npb[0, 2:] = Field.DARK\n",
    "npb[1:3, 1:3] = Field.LIGHT\n",
    "print(npb)"
   ]
  },
  {
   "cell_type": "markdown",
   "id": "733645f083e83908",
   "metadata": {
    "lang": "en"
   },
   "source": [
    "## Mini workshop Compute Linear Index\n",
    "\n",
    "If we want to use a Python list as storage for the playing field,\n",
    "we need to convert two-dimensional index values into a one-dimensional index.\n",
    "\n",
    "We do this by calculating the value `r * 8 + c` for a position `(r, c)`.\n",
    "In the event that one of the indices is not `>= 0` and `< 8`, a\n",
    "appropriate exception are raised.\n",
    "\n",
    "Implement a function `compute_linear_index()` to do this task\n",
    "takes over."
   ]
  },
  {
   "cell_type": "code",
   "execution_count": null,
   "id": "249107084b3d6fbe",
   "metadata": {
    "lines_to_next_cell": 2
   },
   "outputs": [],
   "source": []
  },
  {
   "cell_type": "markdown",
   "id": "eee4924682b061e8",
   "metadata": {
    "lang": "en"
   },
   "source": [
    "## Mini workshop\n",
    "\n",
    "Implement a class `Board` representing an 8x8 Othellite board\n",
    "that stores the state of the board in a list.\n",
    "You can refer to the `NumPyBoard` class for implementation hints, and you can use `compute_linear_index` to calculate index values."
   ]
  },
  {
   "cell_type": "code",
   "execution_count": null,
   "id": "27703c13d6c53778",
   "metadata": {},
   "outputs": [],
   "source": []
  },
  {
   "cell_type": "code",
   "execution_count": null,
   "id": "a672e1f8e067cf89",
   "metadata": {},
   "outputs": [],
   "source": []
  },
  {
   "cell_type": "markdown",
   "id": "b2dd7467dfb0ae15",
   "metadata": {
    "lang": "en"
   },
   "source": [
    "We define another enumeration for \"directions\". The\n",
    "Keys of the enumeration should be abbreviations for the compass directions (N,\n",
    "NE, E, ...). The value for movement in this direction\n",
    "should be the \"offset\" to move in that direction:\n",
    "\n",
    "- `(-1, 0)` for northbound movement,\n",
    "- `(0, 1)` for eastbound movement,\n",
    "- `(1, 0)` for a southbound movement,\n",
    "- `(0, -1)` for westbound movement,\n",
    "- `(-1, 1)` for a north-east movement,\n",
    "- `(1, 1)` for moving south-east,\n",
    "- `(-1, -1)` for moving north-west,\n",
    "- `(1, -1` for moving south-west.\n",
    "\n",
    "<!--\n",
    "We define yet another enumeration, this time for directions.\n",
    "The keys of this enumeration should be the compass directions (N, NE, E, ...),\n",
    "the values should be the (x, y) offset to move to this field in a\n",
    "right-handed coordinate system, i.e.,\n",
    "- `(-1, 0)` for moving north,\n",
    "- `(0, 1)` for moving east,\n",
    "- `(1, 0)` for moving south,\n",
    "- `(0, -1)` for moving west,\n",
    "- `(-1, 1)` for moving north-east,\n",
    "- `(1, 1)` for moving south-east,\n",
    "- `(-1, -1)` for moving north-west,\n",
    "- `(1, -1` for moving south-west.\n",
    "-->"
   ]
  },
  {
   "cell_type": "markdown",
   "id": "a8dcd654c55398ec",
   "metadata": {
    "lang": "en"
   },
   "source": [
    "## Mini workshop\n",
    "\n",
    "Define an enumeration `Directions` as just described."
   ]
  },
  {
   "cell_type": "code",
   "execution_count": null,
   "id": "cac30a44192ec87b",
   "metadata": {},
   "outputs": [],
   "source": []
  },
  {
   "cell_type": "markdown",
   "id": "18c78d811d0a9034",
   "metadata": {
    "lang": "en"
   },
   "source": [
    "It is possible with enumerations to use several keys for the same value\n",
    "to define (i.e. to give synonyms, so to speak).\n",
    "\n",
    "```python\n",
    "class Synonyms(enum):\n",
    "    DRINK = 0\n",
    "    BEVERAGE = 0\n",
    "    FOOD = 1\n",
    "    BIG = 2\n",
    "    LARGE = 2\n",
    "    SMALL = 3\n",
    "```"
   ]
  },
  {
   "cell_type": "code",
   "execution_count": null,
   "id": "e648f56697fdc1f2",
   "metadata": {
    "lines_to_next_cell": 2,
    "tags": [
     "keep"
    ]
   },
   "outputs": [],
   "source": [
    "print(Synonyms.DRINK is Synonyms.BEVERAGE)\n",
    "print(Synonyms.DRINK is not Synonyms.FOOD)\n",
    "print(Synonyms.BIG is Synonyms.LARGE)\n",
    "print(Synonyms.BIG is not Synonyms.SMALL)"
   ]
  },
  {
   "cell_type": "markdown",
   "id": "c19618a497685d3f",
   "metadata": {
    "lang": "en"
   },
   "source": [
    "Extend the enumeration `Directions` to include the full\n",
    "Names of the compass directions (`NORTH`, `NORTH_EAST`, ...)."
   ]
  },
  {
   "cell_type": "code",
   "execution_count": null,
   "id": "6aa0578e23a93c7a",
   "metadata": {},
   "outputs": [],
   "source": []
  },
  {
   "cell_type": "markdown",
   "id": "aea49d97a37e3c16",
   "metadata": {
    "lang": "en"
   },
   "source": [
    "## Mini workshop\n",
    "\n",
    "Check that the abbreviations and the full names\n",
    "represent the same values."
   ]
  },
  {
   "cell_type": "code",
   "execution_count": null,
   "id": "2b00294c37bee215",
   "metadata": {},
   "outputs": [],
   "source": []
  },
  {
   "cell_type": "code",
   "execution_count": null,
   "id": "fc4bb706c6ea4661",
   "metadata": {},
   "outputs": [],
   "source": []
  },
  {
   "cell_type": "code",
   "execution_count": null,
   "id": "5734cc377c945fd1",
   "metadata": {
    "tags": [
     "keep"
    ]
   },
   "outputs": [],
   "source": [
    "Index = tuple[int, int]"
   ]
  },
  {
   "cell_type": "markdown",
   "id": "b8c64c6686035a3e",
   "metadata": {
    "lang": "en"
   },
   "source": [
    "## Mini workshop\n",
    "\n",
    "Write a function `is_valid_index(index: index) -> bool`,\n",
    "which returns `True` if and only if `index` is a valid index for\n",
    "an Othellite board. Check if your\n",
    "Implementation satisfies the given assertions."
   ]
  },
  {
   "cell_type": "code",
   "execution_count": null,
   "id": "69c23273654c7bee",
   "metadata": {},
   "outputs": [],
   "source": []
  },
  {
   "cell_type": "code",
   "execution_count": null,
   "id": "75627dd16f26d7aa",
   "metadata": {
    "lines_to_next_cell": 2,
    "tags": [
     "keep"
    ]
   },
   "outputs": [],
   "source": [
    "assert is_valid_index((0, 7))\n",
    "assert not is_valid_index((8, 1))\n",
    "assert not is_valid_index((1, 8))\n",
    "assert not is_valid_index((6, -1))\n",
    "assert not is_valid_index((-2, 4))"
   ]
  },
  {
   "cell_type": "markdown",
   "id": "eeab43ef2fc80ea5",
   "metadata": {
    "lang": "en"
   },
   "source": [
    "## Mini workshop\n",
    "\n",
    "Write a function\n",
    "`assert_valid_index(index: Index) -> None:` which throws an exception of\n",
    "type `IndexError` with an appropriate error message if `index`\n",
    "is not a valid index for an Othellite board. Check that the\n",
    "function does not throw an exception for correct arguments, but it does for\n",
    "different error cases."
   ]
  },
  {
   "cell_type": "code",
   "execution_count": null,
   "id": "2fb8334f6443671a",
   "metadata": {},
   "outputs": [],
   "source": []
  },
  {
   "cell_type": "code",
   "execution_count": null,
   "id": "afe36fdc0e8a6088",
   "metadata": {},
   "outputs": [],
   "source": []
  },
  {
   "cell_type": "code",
   "execution_count": null,
   "id": "c073c6be53f34a7d",
   "metadata": {},
   "outputs": [],
   "source": []
  },
  {
   "cell_type": "code",
   "execution_count": null,
   "id": "4d348b1680c1171b",
   "metadata": {
    "lines_to_next_cell": 2
   },
   "outputs": [],
   "source": []
  },
  {
   "cell_type": "markdown",
   "id": "a13647b380d6f062",
   "metadata": {
    "lang": "en"
   },
   "source": [
    "Write a function\n",
    "`next_index_in_direction(index: Index, direction: Direction)`,\n",
    "which returns two values ​​if `index` is a valid index:\n",
    "- the next index in direction `direction` and\n",
    "- `True` or `False` depending on whether the next index is valid or not.\n",
    "If `index` is not a valid index, an exception of type\n",
    "`IndexError` is thrown.\n",
    "\n",
    "*Note:* You can calculate the values to be added to the components of `index`\n",
    "using `d_row, d_column = direction.value`.\n",
    "\n",
    "Verify that your implementation satisfies the specified assertions."
   ]
  },
  {
   "cell_type": "code",
   "execution_count": null,
   "id": "ed81b93ed3efd039",
   "metadata": {},
   "outputs": [],
   "source": []
  },
  {
   "cell_type": "code",
   "execution_count": null,
   "id": "4312a20a880194d9",
   "metadata": {
    "tags": [
     "keep"
    ]
   },
   "outputs": [],
   "source": [
    "assert next_index_in_direction((0, 0), Direction.N) == ((-1, 0), False)\n",
    "assert next_index_in_direction((0, 0), Direction.NE) == ((-1, 1), False)\n",
    "assert next_index_in_direction((0, 0), Direction.E) == ((0, 1), True)\n",
    "assert next_index_in_direction((0, 0), Direction.SE) == ((1, 1), True)\n",
    "assert next_index_in_direction((0, 0), Direction.S) == ((1, 0), True)\n",
    "assert next_index_in_direction((0, 0), Direction.SW) == ((1, -1), False)\n",
    "assert next_index_in_direction((0, 0), Direction.W) == ((0, -1), False)\n",
    "assert next_index_in_direction((0, 0), Direction.NW) == ((-1, -1), False)"
   ]
  },
  {
   "cell_type": "code",
   "execution_count": null,
   "id": "c77250272be8538f",
   "metadata": {
    "tags": [
     "keep"
    ]
   },
   "outputs": [],
   "source": [
    "assert next_index_in_direction((4, 5), Direction.N) == ((3, 5), True)\n",
    "assert next_index_in_direction((4, 5), Direction.NE) == ((3, 6), True)\n",
    "assert next_index_in_direction((4, 5), Direction.E) == ((4, 6), True)\n",
    "assert next_index_in_direction((4, 5), Direction.SE) == ((5, 6), True)\n",
    "assert next_index_in_direction((4, 5), Direction.S) == ((5, 5), True)\n",
    "assert next_index_in_direction((4, 5), Direction.SW) == ((5, 4), True)\n",
    "assert next_index_in_direction((4, 5), Direction.W) == ((4, 4), True)\n",
    "assert next_index_in_direction((4, 5), Direction.NW) == ((3, 4), True)"
   ]
  },
  {
   "cell_type": "code",
   "execution_count": null,
   "id": "13cc38406c1ed151",
   "metadata": {
    "tags": [
     "keep"
    ]
   },
   "outputs": [],
   "source": [
    "assert next_index_in_direction((7, 7), Direction.N) == ((6, 7), True)\n",
    "assert next_index_in_direction((7, 7), Direction.NE) == ((6, 8), False)\n",
    "assert next_index_in_direction((7, 7), Direction.E) == ((7, 8), False)\n",
    "assert next_index_in_direction((7, 7), Direction.SE) == ((8, 8), False)\n",
    "assert next_index_in_direction((7, 7), Direction.S) == ((8, 7), False)\n",
    "assert next_index_in_direction((7, 7), Direction.SW) == ((8, 6), False)\n",
    "assert next_index_in_direction((7, 7), Direction.W) == ((7, 6), True)\n",
    "assert next_index_in_direction((7, 7), Direction.NW) == ((6, 6), True)"
   ]
  },
  {
   "cell_type": "code",
   "execution_count": null,
   "id": "2aa5d40031e1bb7f",
   "metadata": {
    "tags": [
     "keep"
    ]
   },
   "outputs": [],
   "source": [
    "try:\n",
    "    next_index_in_direction((7, 8), Direction.S)\n",
    "except IndexError as err:\n",
    "    print(err)"
   ]
  },
  {
   "cell_type": "markdown",
   "id": "a8613e725a88b9b3",
   "metadata": {
    "lang": "en"
   },
   "source": [
    "We want to extend our `Board` class with a method\n",
    "\n",
    "```\n",
    "_fields_flipped_in_direction(self, p: Player, index: Index,\n",
    "                             d: Direction) -> set[Index]\n",
    "```\n",
    "\n",
    "which returns the indices of all fields that the player\n",
    "can flip starting from field `index` and moving in direction `d`."
   ]
  },
  {
   "cell_type": "code",
   "execution_count": null,
   "id": "dae2f643a70213bf",
   "metadata": {},
   "outputs": [],
   "source": []
  },
  {
   "cell_type": "code",
   "execution_count": null,
   "id": "8b9d815ab2519622",
   "metadata": {
    "tags": [
     "keep"
    ]
   },
   "outputs": [],
   "source": [
    "assert _find_rightmost([True, False, True, False]) == 2\n",
    "assert _find_rightmost([False, False, False]) == 0"
   ]
  },
  {
   "cell_type": "code",
   "execution_count": null,
   "id": "2014468dac28ce7a",
   "metadata": {},
   "outputs": [],
   "source": []
  },
  {
   "cell_type": "code",
   "execution_count": null,
   "id": "dd76760b7038719a",
   "metadata": {
    "tags": [
     "keep"
    ]
   },
   "outputs": [],
   "source": [
    "def assert_flips_direction(player, index, directions):\n",
    "    board = Board()\n",
    "    board[index] = Field.LIGHT if player == Player.LIGHT else Field.DARK\n",
    "    print(f\"Player {player} at {index} flips {directions}.\")\n",
    "    print(board)\n",
    "\n",
    "    for d in set(Direction) - directions:\n",
    "        # noinspection PyProtectedMember\n",
    "        result = board._indices_to_flip_in_direction(player, index, d)\n",
    "        assert result == set(), f\"Fields flipped in {d} are not empty.\"\n",
    "\n",
    "    for d in directions:\n",
    "        # noinspection PyProtectedMember\n",
    "        result = board._indices_to_flip_in_direction(player, index, d)\n",
    "        assert result != set(), f\"Fields flipped in {d} are empty.\""
   ]
  },
  {
   "cell_type": "code",
   "execution_count": null,
   "id": "c16adc60b9607852",
   "metadata": {
    "tags": [
     "keep"
    ]
   },
   "outputs": [],
   "source": [
    "assert_flips_direction(Player.LIGHT, (0, 0), set())\n",
    "assert_flips_direction(Player.LIGHT, (2, 3), {Direction.S})\n",
    "assert_flips_direction(Player.LIGHT, (3, 2), {Direction.E})\n",
    "assert_flips_direction(Player.LIGHT, (4, 5), {Direction.W})\n",
    "assert_flips_direction(Player.LIGHT, (5, 2), set())\n",
    "assert_flips_direction(Player.LIGHT, (5, 3), set())\n",
    "assert_flips_direction(Player.LIGHT, (5, 4), {Direction.N})\n",
    "assert_flips_direction(Player.LIGHT, (6, 4), set())"
   ]
  },
  {
   "cell_type": "code",
   "execution_count": null,
   "id": "a80270b4210269b6",
   "metadata": {
    "tags": [
     "keep"
    ]
   },
   "outputs": [],
   "source": [
    "assert_flips_direction(Player.DARK, (0, 0), set())\n",
    "assert_flips_direction(Player.DARK, (2, 4), {Direction.S})\n",
    "assert_flips_direction(Player.DARK, (3, 5), {Direction.W})\n",
    "assert_flips_direction(Player.DARK, (4, 2), {Direction.E})\n",
    "assert_flips_direction(Player.DARK, (5, 2), set())\n",
    "assert_flips_direction(Player.DARK, (5, 3), {Direction.N})\n",
    "assert_flips_direction(Player.DARK, (5, 4), set())\n",
    "assert_flips_direction(Player.DARK, (6, 4), set())"
   ]
  },
  {
   "cell_type": "markdown",
   "id": "1a4eaf72641b9f29",
   "metadata": {
    "lang": "en"
   },
   "source": [
    "## Mini workshop\n",
    "\n",
    "Add a method to the `Board` class\n",
    "`is_valid_move(self, player: Player, index: Index) -> bool`\n",
    "which returns `True` if and only if `index` is a valid index for\n",
    "the player's next move.\n",
    "\n",
    "An index is valid if\n",
    "- It is not already occupied,\n",
    "- At least one of the opponent's stones is turned over by the move"
   ]
  },
  {
   "cell_type": "code",
   "execution_count": null,
   "id": "6cf1da163d9805d7",
   "metadata": {},
   "outputs": [],
   "source": []
  },
  {
   "cell_type": "code",
   "execution_count": null,
   "id": "a4e5248cc8ee5600",
   "metadata": {
    "tags": [
     "keep"
    ]
   },
   "outputs": [],
   "source": [
    "def assert_valid_moves(player, valid_indices):\n",
    "    board = Board()\n",
    "    for row in range(8):\n",
    "        for col in range(8):\n",
    "            index = (row, col)\n",
    "            result = board.is_valid_move(player, index)\n",
    "            if index in valid_indices:\n",
    "                assert result, f\"Index {index} should be valid.\"\n",
    "            else:\n",
    "                assert not result, f\"Index {index} is valid?\""
   ]
  },
  {
   "cell_type": "code",
   "execution_count": null,
   "id": "78fa2681d64dad10",
   "metadata": {
    "tags": [
     "keep"
    ]
   },
   "outputs": [],
   "source": [
    "print(Board())"
   ]
  },
  {
   "cell_type": "code",
   "execution_count": null,
   "id": "7d50421ed451b755",
   "metadata": {
    "tags": [
     "keep"
    ]
   },
   "outputs": [],
   "source": [
    "valid_moves_for_light_player = {(2, 3), (3, 2), (4, 5), (5, 4)}\n",
    "assert_valid_moves(Player.LIGHT, valid_moves_for_light_player)"
   ]
  },
  {
   "cell_type": "code",
   "execution_count": null,
   "id": "32db8a4036a1d0c0",
   "metadata": {
    "tags": [
     "keep"
    ]
   },
   "outputs": [],
   "source": [
    "valid_move_for_dark_player = {(2, 4), (3, 5), (4, 2), (5, 3)}\n",
    "assert_valid_moves(Player.DARK, valid_move_for_dark_player)"
   ]
  },
  {
   "cell_type": "markdown",
   "id": "331cfa80f8039fcd",
   "metadata": {
    "lang": "en"
   },
   "source": [
    "## Mini workshop\n",
    "\n",
    "Add a method to the `Board` class\n",
    "`find_valid_moves(self, player: Player) -> set[Index]`,\n",
    "which returns all possible moves for the player `player`.\n",
    "\n",
    "*Note:* You can easily achieve this using *Generate and Test*:\n",
    "Generate all possible moves and then test for each move whether\n",
    "he is possible."
   ]
  },
  {
   "cell_type": "code",
   "execution_count": null,
   "id": "a491a3b476996eb3",
   "metadata": {},
   "outputs": [],
   "source": []
  },
  {
   "cell_type": "code",
   "execution_count": null,
   "id": "3bcea88c85389b8b",
   "metadata": {
    "lines_to_next_cell": 2,
    "tags": [
     "keep"
    ]
   },
   "outputs": [],
   "source": [
    "board = Board()\n",
    "assert board.find_valid_moves(Player.LIGHT) == valid_moves_for_light_player\n",
    "assert board.find_valid_moves(Player.DARK) == valid_move_for_dark_player"
   ]
  },
  {
   "cell_type": "markdown",
   "id": "432edb234ec9defd",
   "metadata": {
    "lang": "en"
   },
   "source": [
    "## Mini workshop\n",
    "\n",
    "Write a method\n",
    "`play_move(self, player: Player, index: Index) -> None`,\n",
    "which executes the move from `player` to the field `index`.\n",
    "If the move is invalid, an exception should be thrown.\n",
    "If the move is valid, all fields flipped by the move should\n",
    "be set to the correct value.\n",
    "\n",
    "To do this, write appropriate helper methods so that `play_move` does not\n",
    "have too many responsibilities."
   ]
  },
  {
   "cell_type": "code",
   "execution_count": null,
   "id": "14e64d0c52114443",
   "metadata": {},
   "outputs": [],
   "source": []
  },
  {
   "cell_type": "code",
   "execution_count": null,
   "id": "95b12e9b1878fc02",
   "metadata": {
    "tags": [
     "keep"
    ]
   },
   "outputs": [],
   "source": [
    "def play_some_random_moves(n: int = 10):\n",
    "    board = Board()\n",
    "    player = Player.DARK\n",
    "    for _ in range(n):\n",
    "        print(board)\n",
    "        moves = board.find_valid_moves(player)\n",
    "        if moves:\n",
    "            move = sample(list(moves), 1)[0]\n",
    "            print(f\"Player {player} plays {move}.\")\n",
    "            board.play_move(player, move)\n",
    "        else:\n",
    "            print(f\"{player} has no more valid moves.\")\n",
    "        player = Player.LIGHT if player == Player.DARK else Player.DARK\n",
    "    print(board)"
   ]
  },
  {
   "cell_type": "code",
   "execution_count": null,
   "id": "c98f2f761662e4a6",
   "metadata": {
    "tags": [
     "keep"
    ]
   },
   "outputs": [],
   "source": [
    "play_some_random_moves()"
   ]
  }
 ],
 "metadata": {},
 "nbformat": 4,
 "nbformat_minor": 5
}
