{
 "cells": [
  {
   "cell_type": "markdown",
   "id": "63f2b1b0d014e7de",
   "metadata": {
    "lang": "en"
   },
   "source": [
    "## Extra Credits: FizzBuzz\n",
    "\n",
    "Write a function `fizz_buzz(n)` that prints the numbers from 1 to `n` but\n",
    "\n",
    "- replaces any number divisible by 3 with `fizz`\n",
    "- replaces every number divisible by 5 with `buzz`\n",
    "- replaces every number divisible by 3 and 5 with `FizzBuzz`\n",
    "\n",
    "For example, `fizz_buzz(31)` should produce the following output:\n",
    "\n",
    "```\n",
    "1\n",
    "2\n",
    "Fizz\n",
    "4\n",
    "Buzz\n",
    "Fizz\n",
    "7\n",
    "8\n",
    "Fizz\n",
    "Buzz\n",
    "11\n",
    "Fizz\n",
    "13\n",
    "14\n",
    "FizzBuzz\n",
    "16\n",
    "17\n",
    "Fizz\n",
    "19\n",
    "Buzz\n",
    "Fizz\n",
    "22\n",
    "23\n",
    "Fizz\n",
    "Buzz\n",
    "26\n",
    "Fizz\n",
    "28\n",
    "29\n",
    "FizzBuzz\n",
    "31\n",
    "```"
   ]
  },
  {
   "cell_type": "code",
   "execution_count": null,
   "id": "00ea87b367d23dd1",
   "metadata": {},
   "outputs": [],
   "source": []
  },
  {
   "cell_type": "code",
   "execution_count": null,
   "id": "1dae42e113d208d1",
   "metadata": {},
   "outputs": [],
   "source": []
  },
  {
   "cell_type": "code",
   "execution_count": null,
   "id": "6b4e03423667dbb7",
   "metadata": {
    "tags": [
     "keep"
    ]
   },
   "outputs": [],
   "source": []
  }
 ],
 "metadata": {
  "kernelspec": {
   "display_name": "Python 3 (ipykernel)",
   "language": "python",
   "name": "python3"
  }
 },
 "nbformat": 4,
 "nbformat_minor": 5
}
