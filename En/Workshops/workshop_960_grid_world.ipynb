{
 "cells": [
  {
   "cell_type": "markdown",
   "id": "2e85775e",
   "metadata": {
    "lang": "en"
   },
   "source": [
    "# GridWorld\n",
    "\n",
    "The following sections we want to implement the basic components of a\n",
    "2D role-playing game."
   ]
  },
  {
   "cell_type": "markdown",
   "id": "f20c100d",
   "metadata": {
    "lang": "en"
   },
   "source": [
    "## Rectangular playing field (`Level`)\n",
    "- The size (w x h) is set when creating the playing field\n",
    "- The playing field can change its width and length (width, height)\n",
    "  and return the number of fields (size).\n",
    "- Every single \"square\" in the playing field is represented by a `Location` object\n",
    "- Each location knows its neighbors in the 4 cardinal points\n",
    "  (N, E, S, W)\n",
    "- In the case of locations that are on the edge, neighbors in directions that\n",
    "  would lie outside the playing field, refer to the location itself\n",
    "- Each location knows its Cartesian coordinates (w, h)\n",
    "- Every location knows the `Level` instance to which it belongs"
   ]
  },
  {
   "cell_type": "markdown",
   "id": "b5a662f7",
   "metadata": {
    "lang": "en"
   },
   "source": [
    "## Factory to create a playing field (`LevelFactory`)\n",
    "- Can create levels with different dimensions (and possibly different difficulties)\n",
    "- Uses a `LevelPopulationStrategy` to distribute objects in the level (depending on the \n",
    "  desired difficulty) \n",
    "- Implement only the interface for `LevelPopulationStrategy`, no concrete strategy\n",
    "- How can you test `LevelFactory` in this situation?"
   ]
  },
  {
   "cell_type": "markdown",
   "id": "3b506ec7",
   "metadata": {
    "lang": "en"
   },
   "source": [
    "## Abstract character\n",
    "- Create an `AbstractCharacter` class, that provides the following functionality:\n",
    "  - Query the name of the character\n",
    "  - Query the location where the character is\n",
    "  - Move the character around the field\n",
    "  - Character death\n",
    "- All significant events of the `AbstractCharacter` should\n",
    "  be observable with observers (creation, move, death)\n",
    "- `AbstractCharacter` should be outside of the core ring.\n",
    "  How can you handle the dependencies correctly?"
   ]
  },
  {
   "cell_type": "markdown",
   "id": "6bdc0a4e",
   "metadata": {
    "lang": "en"
   },
   "source": [
    "## LevelPopulationStrategy (1)\n",
    "- Write a `LevelPopulationStrategy`,\n",
    "  `LevelPopulationStrategy_LeaveLevelEmpty`, that creates a level without any additional\n",
    "  elements."
   ]
  },
  {
   "cell_type": "markdown",
   "id": "079b3f27",
   "metadata": {
    "lang": "en"
   },
   "source": [
    "## Players/NPCs\n",
    "- Subclass `AbstractCharacter` for players\n",
    "  and NPCs\n",
    "- Each character should now also have the following functions:\n",
    "  - `getAttitudeTowardsPlayer()` (neutral, friendly, hostile)\n",
    "  - `tick()` to periodically advance the behavior\n",
    "- The behavior of NPCs should be controlled by a behavior strategy\n",
    "- The \"instructions\" of the behavior strategy should be implemented\n",
    "  in the form of the Command Pattern\n",
    "- Implement behaviors and commands that move an NPCs in a random direction\n",
    "- Implement a command that moves a character\n",
    "  in a specific direction (selectable when creating the command)\n",
    "- Implement a builder for NPCs"
   ]
  },
  {
   "cell_type": "markdown",
   "id": "2da456f1",
   "metadata": {
    "lang": "en"
   },
   "source": [
    "## LevelPopulationStrategy (2)\n",
    "- Write a `LevelPopulationStrategy`\n",
    "  `LevelPopulationStrategy_DistributeRandomElements`, which creates a playing field\n",
    "  populated with randomly placed friendly and hostile NPCs. The number of NPCs should\n",
    "  depend on the number of fields (`Level.size()`) and the difficulty\n",
    "- Implement a function `Character.attack(...)` to attack other characters"
   ]
  },
  {
   "cell_type": "code",
   "execution_count": null,
   "id": "6e364bd9",
   "metadata": {
    "tags": [
     "keep"
    ]
   },
   "outputs": [],
   "source": []
  }
 ],
 "metadata": {
  "kernelspec": {
   "display_name": "Python 3 (ipykernel)",
   "language": "python",
   "name": "python3"
  }
 },
 "nbformat": 4,
 "nbformat_minor": 5
}
