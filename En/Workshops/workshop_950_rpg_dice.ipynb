{
 "cells": [
  {
   "cell_type": "markdown",
   "id": "269ba0fc",
   "metadata": {
    "lang": "en"
   },
   "source": [
    "# RPG dice\n",
    "\n",
    "In roleplaying games, conflicts between players are often decided by rolling\n",
    "dice, often multiple dice at the same time. Furthermore games often use\n",
    "not only the well known 6-sided dice, but also 4-sided, 8-sided, 20-sided dice, etc.\n",
    "\n",
    "The number and type of dice is described by the following notation:\n",
    "\n",
    "```text\n",
    "<number of dice> d <number of sides per die>\n",
    "```\n",
    "\n",
    "For example, rolling two 6-sided dice is described as `2d6`.\n",
    "Sometimes more complex formulas are used: `3d20 + 2d6 - 4`\n",
    "means that three 20-sided dice and two 6-sided dice are rolled\n",
    "at the same time, and the total sum of numbers is then reduced by 4.\n",
    "\n",
    "In some games, rolling the lowest or highest number of dice is treated\n",
    "in a special way (\"catastrophic failure\", \"critical success\").\n",
    "\n",
    "In the following exercise your task is to implement RPG dice in Python.\n",
    "To simplify testing your implementation it might be advisable\n",
    "to implement it in an IDE, but it is also possible to write tests as\n",
    "assertions in a jupyter notebook. \n",
    "\n",
    "Write tests for each functionality you implement. How can you deal with the\n",
    "randomness in dice rolling? What are the strengths and weaknesses of the strategy\n",
    "you have chosen to test?"
   ]
  },
  {
   "cell_type": "markdown",
   "id": "1057adf3",
   "metadata": {
    "lang": "en"
   },
   "source": [
    "## Generalized dice: Interface `Dice`\n",
    "\n",
    "Implement an abstract class `Dice` that describes rolling of\n",
    "arbitrary dice: The class should provide the following abstract methods:\n",
    "\n",
    "- `roll(): int` returns the result of a roll with the appropriate\n",
    "  dice.\n",
    "\n",
    "- properties `max_value: int` and `min_value: int` return the smallest and largest\n",
    "  value that can be rolled with the corresponding dice.\n",
    "  dice.\n",
    "\n",
    "If you are using Pytest:\n",
    "Write parametric Pytest tests to test (indirect) instances of `Dice`."
   ]
  },
  {
   "cell_type": "code",
   "execution_count": null,
   "id": "42da6517",
   "metadata": {},
   "outputs": [],
   "source": []
  },
  {
   "cell_type": "code",
   "execution_count": null,
   "id": "4013b8b3",
   "metadata": {},
   "outputs": [],
   "source": []
  },
  {
   "cell_type": "markdown",
   "id": "a6d2fc03",
   "metadata": {
    "lang": "en"
   },
   "source": [
    "## Class `ConstantDice`\n",
    "\n",
    "Implement a class `ConstantDice`, which implements the interface `Dice` and\n",
    "represents a die that always rolls a constant value. The result value is\n",
    "specified when the creating an instance of the class."
   ]
  },
  {
   "cell_type": "code",
   "execution_count": null,
   "id": "b0fe7a74",
   "metadata": {
    "lang": "en",
    "lines_to_next_cell": 1
   },
   "outputs": [],
   "source": []
  },
  {
   "cell_type": "code",
   "execution_count": null,
   "id": "978bb0e7",
   "metadata": {
    "lines_to_next_cell": 2
   },
   "outputs": [],
   "source": []
  },
  {
   "cell_type": "markdown",
   "id": "3fe0d216",
   "metadata": {
    "lang": "en",
    "lines_to_next_cell": 2
   },
   "source": [
    "## Class `FairDice`\n",
    "\n",
    "Implement a class `FairDice` that implements the interface `Dice`and\n",
    "represents a single rolls with multiple dice all having the same (configurable)\n",
    "number of sides. For example, instances of the class `FairDice` should be\n",
    "able to simulate dice rolls of the form `3d6` or `4d17`\n",
    "(although in reality there is no 17-sided (fair) die).\n",
    "\n",
    "How can you deal with randomness in dice rolling when testing? What\n",
    "are strengths or weaknesses of the chosen testing strategy?\n",
    "\n",
    "*Hint:* Look at `random.randint()` and `random.seed()`."
   ]
  },
  {
   "cell_type": "code",
   "execution_count": null,
   "id": "8cffbc86",
   "metadata": {},
   "outputs": [],
   "source": []
  },
  {
   "cell_type": "code",
   "execution_count": null,
   "id": "65b996af",
   "metadata": {},
   "outputs": [],
   "source": []
  },
  {
   "cell_type": "markdown",
   "id": "085d406f",
   "metadata": {
    "lang": "en",
    "lines_to_next_cell": 2
   },
   "source": [
    "## Class `SumDice`\n",
    "\n",
    "Implement a class `SumDice` which implements the interface `Dice` and\n",
    "represents the sum of the dice rolls with several different dice\n",
    "(potentially of the form `<m>d<n>`)."
   ]
  },
  {
   "cell_type": "code",
   "execution_count": null,
   "id": "3964b5ac",
   "metadata": {},
   "outputs": [],
   "source": []
  },
  {
   "cell_type": "code",
   "execution_count": null,
   "id": "c1755c6b",
   "metadata": {},
   "outputs": [],
   "source": []
  },
  {
   "cell_type": "code",
   "execution_count": null,
   "id": "d7c5ee1d",
   "metadata": {},
   "outputs": [],
   "source": []
  },
  {
   "cell_type": "markdown",
   "id": "432f53ba",
   "metadata": {
    "lang": "en",
    "lines_to_next_cell": 2
   },
   "source": [
    "## Class `SimpleDie`\n",
    "\n",
    "Implement a class `SimpleDie`, which implements the interface `Dice`\n",
    "and represents a single roll of a die with an arbitrary number of sides\n",
    "(specified when the die is instantiated)."
   ]
  },
  {
   "cell_type": "code",
   "execution_count": null,
   "id": "e37e230e",
   "metadata": {},
   "outputs": [],
   "source": []
  },
  {
   "cell_type": "code",
   "execution_count": null,
   "id": "a4139be7",
   "metadata": {},
   "outputs": [],
   "source": []
  },
  {
   "cell_type": "markdown",
   "id": "0ce19f15",
   "metadata": {
    "lang": "en",
    "lines_to_next_cell": 2
   },
   "source": [
    "## Class `MultipleRollDice`\n",
    "\n",
    "Implement a class `MultipleRollDice` which implements the interface `Dice` \n",
    "and represents rolling of a (generalized) dice a certain number of times.\n",
    "Both the die and the number of rolls should be specified when an\n",
    "instance is created.\n",
    "\n",
    "What is the relationship between `FairDice` and the combination of\n",
    "`SimpleDie` and `MultipleRollDice`? How do the two\n",
    "implementation strategies in their testability."
   ]
  },
  {
   "cell_type": "code",
   "execution_count": null,
   "id": "6e9eaa7c",
   "metadata": {},
   "outputs": [],
   "source": []
  },
  {
   "cell_type": "code",
   "execution_count": null,
   "id": "9fc7d3dc",
   "metadata": {},
   "outputs": [],
   "source": []
  },
  {
   "cell_type": "markdown",
   "id": "e75559ab",
   "metadata": {
    "lang": "en"
   },
   "source": [
    "# Factory for RPG dice\n",
    "\n",
    "Write a function `create_dice(configuration: str) -> Dice`,\n",
    "which gets a configuration of RPG dice as argument and returns an\n",
    "suitable configuration of dice instances.  For example\n",
    "for \"3d8 + 6\" a `SumDice` should be returned, which contains a `FairDice` (with\n",
    "3 8-sided dice) and a `ConstantDice` with the value 6."
   ]
  },
  {
   "cell_type": "code",
   "execution_count": null,
   "id": "c01a5262",
   "metadata": {
    "tags": [
     "keep"
    ]
   },
   "outputs": [],
   "source": []
  }
 ],
 "metadata": {
  "kernelspec": {
   "display_name": "Python 3 (ipykernel)",
   "language": "python",
   "name": "python3"
  }
 },
 "nbformat": 4,
 "nbformat_minor": 5
}
