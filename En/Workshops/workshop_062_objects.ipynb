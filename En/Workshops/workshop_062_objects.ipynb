{
 "cells": [
  {
   "cell_type": "markdown",
   "id": "1b992699",
   "metadata": {
    "lang": "en"
   },
   "source": [
    "# Motor Vehicles (Part 1)\n",
    "\n",
    "Define a class `MotorVehicle` whose instances describe motor vehicles.\n",
    "Every car should have attributes `manufacturer` and `license_plate`."
   ]
  },
  {
   "cell_type": "code",
   "execution_count": null,
   "id": "01f9f211",
   "metadata": {},
   "outputs": [],
   "source": []
  },
  {
   "cell_type": "code",
   "execution_count": null,
   "id": "b720f781",
   "metadata": {},
   "outputs": [],
   "source": []
  },
  {
   "cell_type": "markdown",
   "id": "24a37175",
   "metadata": {
    "lang": "en"
   },
   "source": [
    "Create two motor vehicles:\n",
    "- a BMW with license plate \"M-BW 123\"\n",
    "- a VW with license plate \"WOB-VW 246\"\n",
    "and store them in variables `bmw` and `vw`"
   ]
  },
  {
   "cell_type": "code",
   "execution_count": null,
   "id": "260eaa3c",
   "metadata": {},
   "outputs": [],
   "source": []
  },
  {
   "cell_type": "code",
   "execution_count": null,
   "id": "4ab49678",
   "metadata": {},
   "outputs": [],
   "source": []
  },
  {
   "cell_type": "markdown",
   "id": "07fb11f6",
   "metadata": {
    "lang": "en"
   },
   "source": [
    "Create a new instance of `MotorVehicle` with manufacturer BMW and registration number\n",
    "\"M-BW 123\" and store it in a variable `bmw2`."
   ]
  },
  {
   "cell_type": "code",
   "execution_count": null,
   "id": "2ab331e0",
   "metadata": {},
   "outputs": [],
   "source": []
  },
  {
   "cell_type": "markdown",
   "id": "dac720c7",
   "metadata": {
    "lang": "en"
   },
   "source": [
    "How can you determine whether `bmw` and `bmw2` (or `bmw` and `vw`) describe the same vehicle?"
   ]
  },
  {
   "cell_type": "code",
   "execution_count": null,
   "id": "a724dfa5",
   "metadata": {},
   "outputs": [],
   "source": []
  },
  {
   "cell_type": "code",
   "execution_count": null,
   "id": "519e7d9c",
   "metadata": {},
   "outputs": [],
   "source": []
  },
  {
   "cell_type": "code",
   "execution_count": null,
   "id": "6a992110",
   "metadata": {},
   "outputs": [],
   "source": []
  },
  {
   "cell_type": "markdown",
   "id": "7d3ff048",
   "metadata": {
    "lang": "en"
   },
   "source": [
    "# Motor Vehicles (Part 2)\n",
    "\n",
    "Extend the `MotorVehicle` class with a method `change_registration(self, new_license_plate)`, which changes the vehicle's license plate."
   ]
  },
  {
   "cell_type": "code",
   "execution_count": null,
   "id": "91eeec95",
   "metadata": {},
   "outputs": [],
   "source": []
  },
  {
   "cell_type": "code",
   "execution_count": null,
   "id": "d125fe9d",
   "metadata": {},
   "outputs": [],
   "source": []
  },
  {
   "cell_type": "markdown",
   "id": "47daa85b",
   "metadata": {
    "lang": "en"
   },
   "source": [
    "Create new instances of `bmw`, `bmw2` and `vw` as above:"
   ]
  },
  {
   "cell_type": "code",
   "execution_count": null,
   "id": "4ecd6c49",
   "metadata": {},
   "outputs": [],
   "source": []
  },
  {
   "cell_type": "code",
   "execution_count": null,
   "id": "d1c11e2f",
   "metadata": {},
   "outputs": [],
   "source": []
  },
  {
   "cell_type": "markdown",
   "id": "513754ad",
   "metadata": {
    "lang": "en"
   },
   "source": [
    "Change the registation of the VW generated above so that it has the new license plate  \"BGL-A 9\". How can you tell if changing the registration resulted is the change you wanted?"
   ]
  },
  {
   "cell_type": "code",
   "execution_count": null,
   "id": "28887d75",
   "metadata": {},
   "outputs": [],
   "source": []
  },
  {
   "cell_type": "code",
   "execution_count": null,
   "id": "382289c8",
   "metadata": {},
   "outputs": [],
   "source": []
  },
  {
   "cell_type": "code",
   "execution_count": null,
   "id": "a70691c2",
   "metadata": {},
   "outputs": [],
   "source": []
  },
  {
   "cell_type": "code",
   "execution_count": null,
   "id": "d360cfb4",
   "metadata": {},
   "outputs": [],
   "source": []
  },
  {
   "cell_type": "markdown",
   "id": "88611df5",
   "metadata": {
    "lang": "en"
   },
   "source": [
    "Change the registration of the BMW saved in `bmw` (to the new registration number \"F-B 21\").\n",
    "Does the change affect the car saved in `bmw2`?"
   ]
  },
  {
   "cell_type": "code",
   "execution_count": null,
   "id": "b502675f",
   "metadata": {
    "lines_to_next_cell": 2
   },
   "outputs": [],
   "source": []
  },
  {
   "cell_type": "markdown",
   "id": "92468bac",
   "metadata": {
    "lang": "en"
   },
   "source": [
    "# Motor Vehicles (Part 3)\n",
    "\n",
    "Enhance the `MotorVehicle` class by implementing methods that return a string representation of the vehicle in a suitable form. Repeat the above examples with the new class."
   ]
  },
  {
   "cell_type": "code",
   "execution_count": null,
   "id": "c8fa023a",
   "metadata": {},
   "outputs": [],
   "source": []
  },
  {
   "cell_type": "code",
   "execution_count": null,
   "id": "24b2d990",
   "metadata": {},
   "outputs": [],
   "source": []
  },
  {
   "cell_type": "code",
   "execution_count": null,
   "id": "b7f58c4b",
   "metadata": {},
   "outputs": [],
   "source": []
  },
  {
   "cell_type": "code",
   "execution_count": null,
   "id": "482981e2",
   "metadata": {},
   "outputs": [],
   "source": []
  },
  {
   "cell_type": "code",
   "execution_count": null,
   "id": "36d9ed0c",
   "metadata": {},
   "outputs": [],
   "source": []
  },
  {
   "cell_type": "code",
   "execution_count": null,
   "id": "d427fe8e",
   "metadata": {},
   "outputs": [],
   "source": []
  },
  {
   "cell_type": "code",
   "execution_count": null,
   "id": "e4427520",
   "metadata": {},
   "outputs": [],
   "source": []
  },
  {
   "cell_type": "code",
   "execution_count": null,
   "id": "70b2462f",
   "metadata": {},
   "outputs": [],
   "source": []
  },
  {
   "cell_type": "markdown",
   "id": "87d6e3e4",
   "metadata": {
    "lang": "en"
   },
   "source": [
    "# Shopping List\n",
    "\n",
    "In this workshop we want to define a shopping list, that can manage planned purchases. A shopping list should consist of items that contain a product and the required quantity of the product.\n",
    "\n",
    "Both the shopping list itself and the entries should be represented as user-defined data types.\n",
    "\n",
    "First define a class `ShoppingListItem` that has attributes `product` and `amount`. To do this, use the `@dataclass` decorator"
   ]
  },
  {
   "cell_type": "code",
   "execution_count": null,
   "id": "8689cb87",
   "metadata": {},
   "outputs": [],
   "source": []
  },
  {
   "cell_type": "markdown",
   "id": "158fdc58",
   "metadata": {
    "lang": "en"
   },
   "source": [
    "Create a shopping list item that represents 500g of coffee:"
   ]
  },
  {
   "cell_type": "code",
   "execution_count": null,
   "id": "20827d1a",
   "metadata": {},
   "outputs": [],
   "source": []
  },
  {
   "cell_type": "markdown",
   "id": "0a9ccc6b",
   "metadata": {
    "lang": "en"
   },
   "source": [
    "Define a class `ShoppingList` containing a list of `ShoppingListItem` instances:\n",
    "\n",
    "- Use the `@dataclass` decorator\n",
    "- The class has an attribute `items` of type `list` (or `list[ShoppingListItem]` if\n",
    "  you are using Python 3.9 or newer), initialized with an empty list.\n",
    "- The method `add_item(self, item: ShoppingListItem)` adds a `ShoppingListItem` to the shopping list.\n",
    "\n",
    "Implement a\n",
    "[`__str__()` method](https://docs.python.org/3/reference/datamodel.html#object.__str<_>_),\n",
    "so the following program:\n",
    "\n",
    "```python\n",
    "my_shopping_list = ShoppingList([ShoppingListItem('Tea', '2 packets'),\n",
    "                                 ShoppingListItem('Coffee', '1 packet')])\n",
    "print(str(my_shopping_list))\n",
    "print(repr(my_shopping_list))\n",
    "```\n",
    "\n",
    "Produces the following output:\n",
    "\n",
    "```\n",
    "Shopping List\n",
    "  Tea, (2 packets)\n",
    "  Coffee, (1 packet)\n",
    "\n",
    "ShoppingList(items=[ShoppingListItem(product='Tea', amount='2 packets'), ShoppingListItem(product='Coffee', amount='1 packet')])\n",
    "```\n",
    "\n",
    "Implement a method `__len__()` that returns the length of the shopping list, and a method `__getitem__()` that allows access to items via their numeric index."
   ]
  },
  {
   "cell_type": "code",
   "execution_count": null,
   "id": "8bfa2e10",
   "metadata": {},
   "outputs": [],
   "source": []
  },
  {
   "cell_type": "markdown",
   "id": "7d75c7e5",
   "metadata": {
    "lang": "en"
   },
   "source": [
    "Define a variable `my_shopping_list` containing a shopping list representing the following items:\n",
    "\n",
    "- 2 packets of tea,\n",
    "- 1 packet of coffee\n",
    "\n",
    "Check that `str()` and `repr()` behave as specified above."
   ]
  },
  {
   "cell_type": "code",
   "execution_count": null,
   "id": "21541d84",
   "metadata": {},
   "outputs": [],
   "source": []
  },
  {
   "cell_type": "markdown",
   "id": "56fdb896",
   "metadata": {
    "lang": "en"
   },
   "source": [
    "Print out `my_shopping_list`. Does the output look as expected?"
   ]
  },
  {
   "cell_type": "code",
   "execution_count": null,
   "id": "5b61451b",
   "metadata": {},
   "outputs": [],
   "source": []
  },
  {
   "cell_type": "markdown",
   "id": "c2dccaac",
   "metadata": {
    "lang": "en"
   },
   "source": [
    "Determine the length of `my_shopping_list` is and its first and second item."
   ]
  },
  {
   "cell_type": "code",
   "execution_count": null,
   "id": "a7be0ad9",
   "metadata": {},
   "outputs": [],
   "source": []
  },
  {
   "cell_type": "markdown",
   "id": "d73ce885",
   "metadata": {
    "lang": "en"
   },
   "source": [
    "What is the effect of the following expression?\n",
    "```python\n",
    "  for item in my_shopping_list:\n",
    "      print(item)\n",
    "```"
   ]
  },
  {
   "cell_type": "code",
   "execution_count": null,
   "id": "f6770849",
   "metadata": {},
   "outputs": [],
   "source": []
  },
  {
   "cell_type": "markdown",
   "id": "38ebc105",
   "metadata": {
    "lang": "en"
   },
   "source": [
    "Extend the definition of the `ShoppingList` class so that the indexing operator `[]` can also be called with a string argument, and returns the shopping list item with the appropriate `product` attribute if such an item exists, or `None` if no such item exists.\n",
    "\n",
    "Verify that the new implementation of the indexing operators works for boths integer and string arguments.\n",
    "\n",
    "*Hint:* You can use the `isinstance()` function to check whether an object is a string:"
   ]
  },
  {
   "cell_type": "code",
   "execution_count": null,
   "id": "ca6ff6b4",
   "metadata": {},
   "outputs": [],
   "source": []
  },
  {
   "cell_type": "code",
   "execution_count": null,
   "id": "0273bd9e",
   "metadata": {},
   "outputs": [],
   "source": []
  },
  {
   "cell_type": "code",
   "execution_count": null,
   "id": "282c7b30",
   "metadata": {},
   "outputs": [],
   "source": []
  },
  {
   "cell_type": "markdown",
   "id": "e74d863c",
   "metadata": {
    "lang": "en"
   },
   "source": [
    "Add 250g butter and 1 loaf of bread to the shopping list\n",
    "`my_shopping_list`."
   ]
  },
  {
   "cell_type": "code",
   "execution_count": null,
   "id": "80b275fb",
   "metadata": {},
   "outputs": [],
   "source": []
  },
  {
   "cell_type": "markdown",
   "id": "b41161de",
   "metadata": {
    "lang": "en"
   },
   "source": [
    "Print out the shopping list again."
   ]
  },
  {
   "cell_type": "code",
   "execution_count": null,
   "id": "4181fb71",
   "metadata": {},
   "outputs": [],
   "source": []
  },
  {
   "cell_type": "markdown",
   "id": "d9782b7b",
   "metadata": {
    "lang": "en"
   },
   "source": [
    "What happens when you add `butter` and `bread` to the shopping list again?"
   ]
  },
  {
   "cell_type": "code",
   "execution_count": null,
   "id": "361fabc6",
   "metadata": {},
   "outputs": [],
   "source": []
  },
  {
   "cell_type": "markdown",
   "id": "c9380ea5",
   "metadata": {
    "lang": "en"
   },
   "source": [
    "*Discussion:* How could we improve the behavior of the class?"
   ]
  }
 ],
 "metadata": {
  "kernelspec": {
   "display_name": "Python 3 (ipykernel)",
   "language": "python",
   "name": "python3"
  }
 },
 "nbformat": 4,
 "nbformat_minor": 5
}
