{
 "cells": [
  {
   "cell_type": "markdown",
   "id": "62b932f7",
   "metadata": {
    "lang": "en"
   },
   "source": [
    "# Motor Vehicles (Part 1)\n",
    "\n",
    "Define a class `MotorVehicle` whose instances describe motor vehicles.\n",
    "Every car should have attributes `manufacturer` and `license_plate`."
   ]
  },
  {
   "cell_type": "code",
   "execution_count": null,
   "id": "4a7fd2f9",
   "metadata": {},
   "outputs": [],
   "source": []
  },
  {
   "cell_type": "code",
   "execution_count": null,
   "id": "3af34c17",
   "metadata": {},
   "outputs": [],
   "source": []
  },
  {
   "cell_type": "markdown",
   "id": "e07a1b3b",
   "metadata": {
    "lang": "en"
   },
   "source": [
    "Create two motor vehicles:\n",
    "- a BMW with license plate \"M-BW 123\"\n",
    "- a VW with license plate \"WOB-VW 246\"\n",
    "and store them in variables `bmw` and `vw`"
   ]
  },
  {
   "cell_type": "code",
   "execution_count": null,
   "id": "a28302ec",
   "metadata": {},
   "outputs": [],
   "source": []
  },
  {
   "cell_type": "code",
   "execution_count": null,
   "id": "3db97633",
   "metadata": {},
   "outputs": [],
   "source": []
  },
  {
   "cell_type": "markdown",
   "id": "f2783179",
   "metadata": {
    "lang": "en"
   },
   "source": [
    "Create a new instance of `MotorVehicle` with manufacturer BMW and registration number\n",
    "\"M-BW 123\" and store it in a variable `bmw2`."
   ]
  },
  {
   "cell_type": "code",
   "execution_count": null,
   "id": "5f44eeb7",
   "metadata": {},
   "outputs": [],
   "source": []
  },
  {
   "cell_type": "markdown",
   "id": "23e4ce4c",
   "metadata": {
    "lang": "en"
   },
   "source": [
    "How can you determine whether `bmw` and `bmw2` (or `bmw` and `vw`) describe the same vehicle?"
   ]
  },
  {
   "cell_type": "code",
   "execution_count": null,
   "id": "24032e44",
   "metadata": {},
   "outputs": [],
   "source": []
  },
  {
   "cell_type": "code",
   "execution_count": null,
   "id": "372809bb",
   "metadata": {},
   "outputs": [],
   "source": []
  },
  {
   "cell_type": "code",
   "execution_count": null,
   "id": "5d8a0111",
   "metadata": {},
   "outputs": [],
   "source": []
  },
  {
   "cell_type": "markdown",
   "id": "f94100a5",
   "metadata": {
    "lang": "en"
   },
   "source": [
    "# Motor Vehicles (Part 2)\n",
    "\n",
    "Extend the `MotorVehicle` class with a method `change_registration(self, new_license_plate)`, which changes the vehicle's license plate."
   ]
  },
  {
   "cell_type": "code",
   "execution_count": null,
   "id": "8eaf18c2",
   "metadata": {},
   "outputs": [],
   "source": []
  },
  {
   "cell_type": "code",
   "execution_count": null,
   "id": "72c09aed",
   "metadata": {},
   "outputs": [],
   "source": []
  },
  {
   "cell_type": "markdown",
   "id": "5d1eb64d",
   "metadata": {
    "lang": "en"
   },
   "source": [
    "Create new instances of `bmw`, `bmw2` and `vw` as above:"
   ]
  },
  {
   "cell_type": "code",
   "execution_count": null,
   "id": "bd223458",
   "metadata": {},
   "outputs": [],
   "source": []
  },
  {
   "cell_type": "code",
   "execution_count": null,
   "id": "0717041d",
   "metadata": {},
   "outputs": [],
   "source": []
  },
  {
   "cell_type": "markdown",
   "id": "a85adf84",
   "metadata": {
    "lang": "en"
   },
   "source": [
    "Change the registation of the VW generated above so that it has the new license plate  \"BGL-A 9\". How can you tell if changing the registration resulted is the change you wanted?"
   ]
  },
  {
   "cell_type": "code",
   "execution_count": null,
   "id": "acc37a87",
   "metadata": {},
   "outputs": [],
   "source": []
  },
  {
   "cell_type": "code",
   "execution_count": null,
   "id": "907b416d",
   "metadata": {},
   "outputs": [],
   "source": []
  },
  {
   "cell_type": "code",
   "execution_count": null,
   "id": "eac171bd",
   "metadata": {},
   "outputs": [],
   "source": []
  },
  {
   "cell_type": "code",
   "execution_count": null,
   "id": "0f426f14",
   "metadata": {},
   "outputs": [],
   "source": []
  },
  {
   "cell_type": "markdown",
   "id": "82ee310d",
   "metadata": {
    "lang": "en"
   },
   "source": [
    "Change the registration of the BMW saved in `bmw` (to the new registration number \"F-B 21\").\n",
    "Does the change affect the car saved in `bmw2`?"
   ]
  },
  {
   "cell_type": "code",
   "execution_count": null,
   "id": "f46fd8be",
   "metadata": {
    "lines_to_next_cell": 2
   },
   "outputs": [],
   "source": []
  },
  {
   "cell_type": "markdown",
   "id": "2a8fdb5e",
   "metadata": {
    "lang": "en"
   },
   "source": [
    "# Motor Vehicles (Part 3)\n",
    "\n",
    "Enhance the `MotorVehicle` class by implementing methods that return a string representation of the vehicle in a suitable form. Repeat the above examples with the new class."
   ]
  },
  {
   "cell_type": "code",
   "execution_count": null,
   "id": "221171de",
   "metadata": {},
   "outputs": [],
   "source": []
  },
  {
   "cell_type": "code",
   "execution_count": null,
   "id": "2f3d9437",
   "metadata": {},
   "outputs": [],
   "source": []
  },
  {
   "cell_type": "code",
   "execution_count": null,
   "id": "2841c7d9",
   "metadata": {},
   "outputs": [],
   "source": []
  },
  {
   "cell_type": "code",
   "execution_count": null,
   "id": "6bfc92fe",
   "metadata": {},
   "outputs": [],
   "source": []
  },
  {
   "cell_type": "code",
   "execution_count": null,
   "id": "298e493b",
   "metadata": {},
   "outputs": [],
   "source": []
  },
  {
   "cell_type": "code",
   "execution_count": null,
   "id": "bad912ff",
   "metadata": {},
   "outputs": [],
   "source": []
  },
  {
   "cell_type": "code",
   "execution_count": null,
   "id": "8267412d",
   "metadata": {},
   "outputs": [],
   "source": []
  },
  {
   "cell_type": "code",
   "execution_count": null,
   "id": "97281556",
   "metadata": {},
   "outputs": [],
   "source": []
  },
  {
   "cell_type": "markdown",
   "id": "8bc78fd6",
   "metadata": {
    "lang": "en"
   },
   "source": [
    "# Shopping List\n",
    "\n",
    "In this workshop we want to define a shopping list, that can manage planned purchases. A shopping list should consist of items that contain a product and the required quantity of the product.\n",
    "\n",
    "Both the shopping list itself and the entries should be represented as user-defined data types.\n",
    "\n",
    "First define a class `ShoppingListItem` that has attributes `product` and `amount`. To do this, use the `@dataclass` decorator"
   ]
  },
  {
   "cell_type": "code",
   "execution_count": null,
   "id": "7991ec51",
   "metadata": {},
   "outputs": [],
   "source": []
  },
  {
   "cell_type": "markdown",
   "id": "2e641e7d",
   "metadata": {
    "lang": "en"
   },
   "source": [
    "Create a shopping list item that represents 500g of coffee:"
   ]
  },
  {
   "cell_type": "code",
   "execution_count": null,
   "id": "597552df",
   "metadata": {},
   "outputs": [],
   "source": []
  },
  {
   "cell_type": "markdown",
   "id": "c2196383",
   "metadata": {
    "lang": "en"
   },
   "source": [
    "Define a class `ShoppingList` containing a list of `ShoppingListItem` instances:\n",
    "\n",
    "- Use the `@dataclass` decorator\n",
    "- The class has an attribute `items` of type `list` (or `list[ShoppingListItem]` if\n",
    "  you are using Python 3.9 or newer), initialized with an empty list.\n",
    "- The method `add_item(self, item: ShoppingListItem)` adds a `ShoppingListItem` to the shopping list.\n",
    "\n",
    "Implement a\n",
    "[`__str__()` method](https://docs.python.org/3/reference/datamodel.html#object.__str<_>_),\n",
    "so the following program:\n",
    "\n",
    "```python\n",
    "my_shopping_list = ShoppingList([ShoppingListItem('Tea', '2 packets'),\n",
    "                                 ShoppingListItem('Coffee', '1 packet')])\n",
    "print(str(my_shopping_list))\n",
    "print(repr(my_shopping_list))\n",
    "```\n",
    "\n",
    "Produces the following output:\n",
    "\n",
    "```\n",
    "Shopping List\n",
    "  Tea, (2 packets)\n",
    "  Coffee, (1 packet)\n",
    "\n",
    "ShoppingList(items=[ShoppingListItem(product='Tea', amount='2 packets'), ShoppingListItem(product='Coffee', amount='1 packet')])\n",
    "```\n",
    "\n",
    "Implement a method `__len__()` that returns the length of the shopping list, and a method `__getitem__()` that allows access to items via their numeric index."
   ]
  },
  {
   "cell_type": "code",
   "execution_count": null,
   "id": "b83b5184",
   "metadata": {},
   "outputs": [],
   "source": []
  },
  {
   "cell_type": "markdown",
   "id": "da50f26d",
   "metadata": {
    "lang": "en"
   },
   "source": [
    "Define a variable `my_shopping_list` containing a shopping list representing the following items:\n",
    "\n",
    "- 2 packets of tea,\n",
    "- 1 packet of coffee\n",
    "\n",
    "Check that `str()` and `repr()` behave as specified above."
   ]
  },
  {
   "cell_type": "code",
   "execution_count": null,
   "id": "2d4543b7",
   "metadata": {},
   "outputs": [],
   "source": []
  },
  {
   "cell_type": "markdown",
   "id": "5ea159b7",
   "metadata": {
    "lang": "en"
   },
   "source": [
    "Print out `my_shopping_list`. Does the output look as expected?"
   ]
  },
  {
   "cell_type": "code",
   "execution_count": null,
   "id": "cc68d1bd",
   "metadata": {},
   "outputs": [],
   "source": []
  },
  {
   "cell_type": "markdown",
   "id": "8eb4fbb0",
   "metadata": {
    "lang": "en"
   },
   "source": [
    "Determine the length of `my_shopping_list` is and its first and second item."
   ]
  },
  {
   "cell_type": "code",
   "execution_count": null,
   "id": "0bf8de21",
   "metadata": {},
   "outputs": [],
   "source": []
  },
  {
   "cell_type": "markdown",
   "id": "7fffd68d",
   "metadata": {
    "lang": "en"
   },
   "source": [
    "What is the effect of the following expression?\n",
    "```python\n",
    "  for item in my_shopping_list:\n",
    "      print(item)\n",
    "```"
   ]
  },
  {
   "cell_type": "code",
   "execution_count": null,
   "id": "6a449a35",
   "metadata": {},
   "outputs": [],
   "source": []
  },
  {
   "cell_type": "markdown",
   "id": "4f2480dc",
   "metadata": {
    "lang": "en"
   },
   "source": [
    "Extend the definition of the `ShoppingList` class so that the indexing operator `[]` can also be called with a string argument, and returns the shopping list item with the appropriate `product` attribute if such an item exists, or `None` if no such item exists.\n",
    "\n",
    "Verify that the new implementation of the indexing operators works for boths integer and string arguments.\n",
    "\n",
    "*Hint:* You can use the `isinstance()` function to check whether an object is a string:"
   ]
  },
  {
   "cell_type": "code",
   "execution_count": null,
   "id": "a3c15973",
   "metadata": {},
   "outputs": [],
   "source": []
  },
  {
   "cell_type": "code",
   "execution_count": null,
   "id": "cb1a14e2",
   "metadata": {},
   "outputs": [],
   "source": []
  },
  {
   "cell_type": "code",
   "execution_count": null,
   "id": "3e47bc5d",
   "metadata": {},
   "outputs": [],
   "source": []
  },
  {
   "cell_type": "markdown",
   "id": "5c443f3e",
   "metadata": {
    "lang": "en"
   },
   "source": [
    "Add 250g butter and 1 loaf of bread to the shopping list\n",
    "`my_shopping_list`."
   ]
  },
  {
   "cell_type": "code",
   "execution_count": null,
   "id": "aafbdf11",
   "metadata": {},
   "outputs": [],
   "source": []
  },
  {
   "cell_type": "markdown",
   "id": "f787d0f6",
   "metadata": {
    "lang": "en"
   },
   "source": [
    "Print out the shopping list again."
   ]
  },
  {
   "cell_type": "code",
   "execution_count": null,
   "id": "c41327d5",
   "metadata": {},
   "outputs": [],
   "source": []
  },
  {
   "cell_type": "markdown",
   "id": "d53badff",
   "metadata": {
    "lang": "en"
   },
   "source": [
    "What happens when you add `butter` and `bread` to the shopping list again?"
   ]
  },
  {
   "cell_type": "code",
   "execution_count": null,
   "id": "00f17208",
   "metadata": {},
   "outputs": [],
   "source": []
  },
  {
   "cell_type": "markdown",
   "id": "cfc14724",
   "metadata": {
    "lang": "en"
   },
   "source": [
    "*Discussion:* How could we improve the behavior of the class?"
   ]
  }
 ],
 "metadata": {
  "kernelspec": {
   "display_name": "Python 3 (ipykernel)",
   "language": "python",
   "name": "python3"
  }
 },
 "nbformat": 4,
 "nbformat_minor": 5
}
