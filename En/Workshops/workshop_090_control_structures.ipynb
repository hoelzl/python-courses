{
 "cells": [
  {
   "cell_type": "markdown",
   "id": "079cd252",
   "metadata": {
    "lang": "en"
   },
   "source": [
    "# Even number\n",
    "\n",
    "Write a function `is_even(number)` that returns `True`,\n",
    "if `number` is even and `False` if `number` is odd."
   ]
  },
  {
   "cell_type": "code",
   "execution_count": null,
   "id": "4646766e",
   "metadata": {},
   "outputs": [],
   "source": []
  },
  {
   "cell_type": "markdown",
   "id": "cfda9210",
   "metadata": {
    "lang": "en"
   },
   "source": [
    "Write a function `print_is_even(number)` that\n",
    "\n",
    "- prints `{number} is even.` on the screen if `number` is even and\n",
    "- Prints `{number} is not even.` to the screen if `number` is not\n",
    "  is straight."
   ]
  },
  {
   "cell_type": "code",
   "execution_count": null,
   "id": "57904b13",
   "metadata": {},
   "outputs": [],
   "source": []
  },
  {
   "cell_type": "markdown",
   "id": "552595ab",
   "metadata": {
    "lang": "en"
   },
   "source": [
    "Test `print_is_even(number)` with the values ​​0, 1 and 8."
   ]
  },
  {
   "cell_type": "code",
   "execution_count": null,
   "id": "f59531ec",
   "metadata": {},
   "outputs": [],
   "source": []
  },
  {
   "cell_type": "markdown",
   "id": "95112fe1",
   "metadata": {
    "lang": "en"
   },
   "source": [
    "# Positive / Negative\n",
    "\n",
    "Write a function `print_is_positive(number)` that\n",
    "\n",
    "- prints `{number} is positive.` on the screen if `number > 0`,\n",
    "- prints `{number} is zero.` on the screen if `number == 0`,\n",
    "- Print `{number} is negative.` to the screen if `number < 0`."
   ]
  },
  {
   "cell_type": "code",
   "execution_count": null,
   "id": "014ce38c",
   "metadata": {},
   "outputs": [],
   "source": []
  },
  {
   "cell_type": "markdown",
   "id": "f61ed46a",
   "metadata": {
    "lang": "en"
   },
   "source": [
    "Test `print_is_positive(number)` with the values ​​-3, 0 and 2."
   ]
  },
  {
   "cell_type": "code",
   "execution_count": null,
   "id": "87a2488b",
   "metadata": {},
   "outputs": [],
   "source": []
  },
  {
   "cell_type": "code",
   "execution_count": null,
   "id": "5c3f91fb",
   "metadata": {},
   "outputs": [],
   "source": []
  },
  {
   "cell_type": "code",
   "execution_count": null,
   "id": "8213e275",
   "metadata": {},
   "outputs": [],
   "source": []
  },
  {
   "cell_type": "markdown",
   "id": "14d1b9dc",
   "metadata": {
    "lang": "en"
   },
   "source": [
    "# Signum\n",
    "\n",
    "Write a function `signum(number)` that\n",
    "\n",
    "- returns 1 if `number > 0`,\n",
    "- returns 0 if `number == 0`,\n",
    "- returns -1 if `number < 0`."
   ]
  },
  {
   "cell_type": "code",
   "execution_count": null,
   "id": "6f5dfd6d",
   "metadata": {},
   "outputs": [],
   "source": []
  },
  {
   "cell_type": "markdown",
   "id": "9da14f4a",
   "metadata": {
    "lang": "en"
   },
   "source": [
    "Test the function for representative values."
   ]
  },
  {
   "cell_type": "code",
   "execution_count": null,
   "id": "0ae3c701",
   "metadata": {},
   "outputs": [],
   "source": []
  },
  {
   "cell_type": "code",
   "execution_count": null,
   "id": "733b5c33",
   "metadata": {},
   "outputs": [],
   "source": []
  },
  {
   "cell_type": "code",
   "execution_count": null,
   "id": "610b3393",
   "metadata": {},
   "outputs": [],
   "source": []
  },
  {
   "cell_type": "markdown",
   "id": "b52daca6",
   "metadata": {
    "lang": "en"
   },
   "source": [
    "# Conversion to miles\n",
    "\n",
    "Write a function `convert_km_to_miles(km)` that converts the value `km` from kilometers to miles (i.e. the value in miles is returned).\n",
    "\n",
    "*Note:*\n",
    "- One kilometer equals $0,621371$ miles"
   ]
  },
  {
   "cell_type": "code",
   "execution_count": null,
   "id": "66a72c9c",
   "metadata": {},
   "outputs": [],
   "source": []
  },
  {
   "cell_type": "markdown",
   "id": "3d7b375e",
   "metadata": {
    "lang": "en"
   },
   "source": [
    "Test `convert_km_to_miles(km)` for 1 and 5 km."
   ]
  },
  {
   "cell_type": "code",
   "execution_count": null,
   "id": "f2fa7631",
   "metadata": {},
   "outputs": [],
   "source": []
  },
  {
   "cell_type": "code",
   "execution_count": null,
   "id": "e3ab6d14",
   "metadata": {},
   "outputs": [],
   "source": []
  },
  {
   "cell_type": "markdown",
   "id": "ae98536d",
   "metadata": {
    "lang": "en"
   },
   "source": [
    "Write a function `miles_app()` that reads a length in kilometers from the user and prints out the equivalent distance in miles. If the user enters an empty string, `Please enter a valid distance in km.` should be printed on the screen.\n",
    "\n",
    "*Notes*\n",
    "- A string can be converted to a float value with `float()`."
   ]
  },
  {
   "cell_type": "code",
   "execution_count": null,
   "id": "7833ebee",
   "metadata": {},
   "outputs": [],
   "source": []
  },
  {
   "cell_type": "code",
   "execution_count": null,
   "id": "23e8c17f",
   "metadata": {},
   "outputs": [],
   "source": []
  },
  {
   "cell_type": "markdown",
   "id": "43710958",
   "metadata": {
    "lang": "en"
   },
   "source": [
    "# Conversion to miles with Truthiness\n",
    "\n",
    "Write a function `miles_app_2` that behaves similar to `miles_app` but exploits the truthiness of strings. Are there any inputs for which the behavior differs?"
   ]
  },
  {
   "cell_type": "code",
   "execution_count": null,
   "id": "4a27b0c4",
   "metadata": {},
   "outputs": [],
   "source": []
  },
  {
   "cell_type": "code",
   "execution_count": null,
   "id": "a92c6677",
   "metadata": {},
   "outputs": [],
   "source": []
  },
  {
   "cell_type": "markdown",
   "id": "6b255052",
   "metadata": {
    "lang": "en"
   },
   "source": [
    "# Cinema price\n",
    "\n",
    "The Python-Cinema has the following entrance fees:\n",
    "\n",
    "- Infants under 2 years are free.\n",
    "- Children from 2-12 years pay 2 euros.\n",
    "- Teenagers aged 13-17 pay 5 euros.\n",
    "- Adults pay 10 euros.\n",
    "- Pensioners (over 65) pay 6 euros.\n",
    "\n",
    "Write a function `cinema_price(age)` that returns the price in Euros a person with age `age` has to pay."
   ]
  },
  {
   "cell_type": "code",
   "execution_count": null,
   "id": "fee6054f",
   "metadata": {},
   "outputs": [],
   "source": []
  },
  {
   "cell_type": "markdown",
   "id": "fbe1b6eb",
   "metadata": {
    "lang": "en"
   },
   "source": [
    "Test the function `cinema_price()` for some representative values."
   ]
  },
  {
   "cell_type": "code",
   "execution_count": null,
   "id": "4b81d161",
   "metadata": {},
   "outputs": [],
   "source": []
  },
  {
   "cell_type": "code",
   "execution_count": null,
   "id": "fdf4a22c",
   "metadata": {},
   "outputs": [],
   "source": []
  },
  {
   "cell_type": "code",
   "execution_count": null,
   "id": "6f292463",
   "metadata": {},
   "outputs": [],
   "source": []
  },
  {
   "cell_type": "code",
   "execution_count": null,
   "id": "48f77834",
   "metadata": {},
   "outputs": [],
   "source": []
  },
  {
   "cell_type": "code",
   "execution_count": null,
   "id": "0e076c72",
   "metadata": {},
   "outputs": [],
   "source": []
  },
  {
   "cell_type": "markdown",
   "id": "7b10bbad",
   "metadata": {
    "lang": "en"
   },
   "source": [
    "Write a function `print_cinema_price(age)`, that prints a text of the following type on the screen:\n",
    "\n",
    "```\n",
    "You are 1 year old. Their price is 0 euros.\n",
    "You are 15 years old. Their price is 5 euros.\n",
    "```"
   ]
  },
  {
   "cell_type": "code",
   "execution_count": null,
   "id": "0c11f751",
   "metadata": {},
   "outputs": [],
   "source": []
  },
  {
   "cell_type": "markdown",
   "id": "07562fd0",
   "metadata": {
    "lang": "en"
   },
   "source": [
    "Test `print_cinema_price()` for representative values."
   ]
  },
  {
   "cell_type": "code",
   "execution_count": null,
   "id": "4f39376b",
   "metadata": {},
   "outputs": [],
   "source": []
  },
  {
   "cell_type": "markdown",
   "id": "90c700ed",
   "metadata": {
    "lang": "en"
   },
   "source": [
    "Write a function `cinema_app()` that reads an age and prints the\n",
    "cinema price for a person of this age in the format just described. Two example interactions:\n",
    "\n",
    "```\n",
    "How old are they? 37\n",
    "You are 37 years old. Their price is 10 euros.\n",
    "\n",
    "How old are they? 12\n",
    "You are 12 years old. Their price is 2 euros.\n",
    "```"
   ]
  },
  {
   "cell_type": "code",
   "execution_count": null,
   "id": "f7fc9f33",
   "metadata": {},
   "outputs": [],
   "source": []
  },
  {
   "cell_type": "code",
   "execution_count": null,
   "id": "1440602b",
   "metadata": {
    "tags": [
     "keep"
    ]
   },
   "outputs": [],
   "source": [
    "# kino_app()"
   ]
  },
  {
   "cell_type": "markdown",
   "id": "aeb03886",
   "metadata": {
    "lang": "en"
   },
   "source": [
    "# Guessing games\n",
    "\n",
    "The following simple \"games\" allow the player unlimited number of\n",
    "inputs. Therefore, it makes sense to use a while loop\n",
    "to implement them.\n",
    "\n",
    "### Guess a word\n",
    "\n",
    "Implement a function `guess_word(solution)` that prompts the user for a word and\n",
    "keeps asking until the word typed by the user matches `solution`."
   ]
  },
  {
   "cell_type": "code",
   "execution_count": null,
   "id": "ca1533bb",
   "metadata": {},
   "outputs": [],
   "source": []
  },
  {
   "cell_type": "code",
   "execution_count": null,
   "id": "229fb9ca",
   "metadata": {
    "tags": [
     "keep"
    ]
   },
   "outputs": [],
   "source": [
    "# rate_wort(\"Haus\")"
   ]
  },
  {
   "cell_type": "markdown",
   "id": "8e5c5134",
   "metadata": {
    "lang": "en"
   },
   "source": [
    "### Number guesses\n",
    "\n",
    "Implement a function `guess_number(solution)` that asks the user for a number and keeps asking until the user has guessed the solution. After every input the function should display whether the entered number\n",
    "is too big, too small or the correct number."
   ]
  },
  {
   "cell_type": "code",
   "execution_count": null,
   "id": "9281f529",
   "metadata": {},
   "outputs": [],
   "source": []
  },
  {
   "cell_type": "code",
   "execution_count": null,
   "id": "475ae18c",
   "metadata": {
    "tags": [
     "keep"
    ]
   },
   "outputs": [],
   "source": [
    "# rate_zahl(23)"
   ]
  },
  {
   "cell_type": "markdown",
   "id": "ec550f60",
   "metadata": {
    "lang": "en"
   },
   "source": [
    "How do you have to modify your solution to allow the player to input\n",
    "an empty string to abort the game?"
   ]
  },
  {
   "cell_type": "code",
   "execution_count": null,
   "id": "9733387a",
   "metadata": {},
   "outputs": [],
   "source": []
  },
  {
   "cell_type": "code",
   "execution_count": null,
   "id": "54f83223",
   "metadata": {},
   "outputs": [],
   "source": []
  },
  {
   "cell_type": "markdown",
   "id": "9d99dcf5",
   "metadata": {
    "lang": "en"
   },
   "source": [
    "Solution using the `classify_number` function"
   ]
  },
  {
   "cell_type": "code",
   "execution_count": null,
   "id": "8ad9d830",
   "metadata": {},
   "outputs": [],
   "source": []
  },
  {
   "cell_type": "code",
   "execution_count": null,
   "id": "069854df",
   "metadata": {},
   "outputs": [],
   "source": []
  },
  {
   "cell_type": "code",
   "execution_count": null,
   "id": "55beb8bc",
   "metadata": {},
   "outputs": [],
   "source": []
  },
  {
   "cell_type": "markdown",
   "id": "8b2cc850",
   "metadata": {
    "lang": "en"
   },
   "source": [
    "# Rock, Paper, Scissors\n",
    "\n",
    "In Rock, Paper, Scissors, two players play against each other. Each of the two players\n",
    "selects one of the three symbols \"scissors\", \"rock\" or \"paper\" (without knowing the other player's\n",
    "choice). If both players have chosen the same\n",
    "symbol, the game is a tie. Otherwise:\n",
    "\n",
    "- Scissors beats paper\n",
    "- Paper beats stone\n",
    "- Rock beats scissors\n",
    "\n",
    "Write a function `evaluate_a_round_of_rps(player1, player2)`, which evaluates whether the round ended in a draw or\n",
    "whether one of the players won. To do this, the function should return one of the following values:\n",
    "\n",
    "- 0 if the round was a draw\n",
    "- 1 if player 1 won\n",
    "- 2 if player 2 won\n",
    "\n",
    "If one of the players has made an invalid entry, the\n",
    "Function should throw an exception of user-defined type `BadInputException`, in which the number of the player who is at fault is stored. (If both players made an invalid entry any player can be stored.)"
   ]
  },
  {
   "cell_type": "code",
   "execution_count": null,
   "id": "d38d9dbc",
   "metadata": {},
   "outputs": [],
   "source": []
  },
  {
   "cell_type": "markdown",
   "id": "59e3f506",
   "metadata": {
    "lang": "en"
   },
   "source": [
    "Test all possible paths through your function."
   ]
  },
  {
   "cell_type": "code",
   "execution_count": null,
   "id": "07172f17",
   "metadata": {},
   "outputs": [],
   "source": []
  },
  {
   "cell_type": "code",
   "execution_count": null,
   "id": "d5f06b70",
   "metadata": {},
   "outputs": [],
   "source": []
  },
  {
   "cell_type": "code",
   "execution_count": null,
   "id": "bbfbe1fc",
   "metadata": {},
   "outputs": [],
   "source": []
  },
  {
   "cell_type": "code",
   "execution_count": null,
   "id": "25c5748a",
   "metadata": {},
   "outputs": [],
   "source": []
  },
  {
   "cell_type": "code",
   "execution_count": null,
   "id": "6ddd5353",
   "metadata": {},
   "outputs": [],
   "source": []
  },
  {
   "cell_type": "code",
   "execution_count": null,
   "id": "348ab9ae",
   "metadata": {},
   "outputs": [],
   "source": []
  },
  {
   "cell_type": "code",
   "execution_count": null,
   "id": "9b49f516",
   "metadata": {},
   "outputs": [],
   "source": []
  },
  {
   "cell_type": "code",
   "execution_count": null,
   "id": "268c9dcf",
   "metadata": {},
   "outputs": [],
   "source": []
  },
  {
   "cell_type": "code",
   "execution_count": null,
   "id": "791124bf",
   "metadata": {},
   "outputs": [],
   "source": []
  },
  {
   "cell_type": "code",
   "execution_count": null,
   "id": "63dbdc4e",
   "metadata": {},
   "outputs": [],
   "source": []
  },
  {
   "cell_type": "code",
   "execution_count": null,
   "id": "fa6be989",
   "metadata": {},
   "outputs": [],
   "source": []
  },
  {
   "cell_type": "code",
   "execution_count": null,
   "id": "41a30729",
   "metadata": {},
   "outputs": [],
   "source": []
  },
  {
   "cell_type": "code",
   "execution_count": null,
   "id": "a202ac4f",
   "metadata": {},
   "outputs": [],
   "source": []
  },
  {
   "cell_type": "code",
   "execution_count": null,
   "id": "09506f08",
   "metadata": {},
   "outputs": [],
   "source": []
  },
  {
   "cell_type": "code",
   "execution_count": null,
   "id": "17727b98",
   "metadata": {},
   "outputs": [],
   "source": []
  },
  {
   "cell_type": "markdown",
   "id": "ca6a3086",
   "metadata": {
    "lang": "en"
   },
   "source": [
    "Write a function `compare_symbols(player1, player2)`,\n",
    "that outputs the following information on the screen:\n",
    "\n",
    "- `Tie.` if both players have chosen the same symbol,\n",
    "- `Player X wins!` if player X (X = 1 or 2) won,\n",
    "- `Invalid symbol from player X!` if player X has entered an invalid symbol."
   ]
  },
  {
   "cell_type": "code",
   "execution_count": null,
   "id": "801baff1",
   "metadata": {},
   "outputs": [],
   "source": []
  },
  {
   "cell_type": "markdown",
   "id": "476c1342",
   "metadata": {
    "lang": "en"
   },
   "source": [
    "Test `compare_symbols` for appropriate input."
   ]
  },
  {
   "cell_type": "code",
   "execution_count": null,
   "id": "3debaa4a",
   "metadata": {},
   "outputs": [],
   "source": []
  },
  {
   "cell_type": "code",
   "execution_count": null,
   "id": "8b2f1bf5",
   "metadata": {},
   "outputs": [],
   "source": []
  },
  {
   "cell_type": "code",
   "execution_count": null,
   "id": "7cd2f44b",
   "metadata": {},
   "outputs": [],
   "source": []
  },
  {
   "cell_type": "code",
   "execution_count": null,
   "id": "0529942e",
   "metadata": {},
   "outputs": [],
   "source": []
  },
  {
   "cell_type": "code",
   "execution_count": null,
   "id": "a0b196b1",
   "metadata": {},
   "outputs": [],
   "source": []
  },
  {
   "cell_type": "code",
   "execution_count": null,
   "id": "66abfbff",
   "metadata": {},
   "outputs": [],
   "source": []
  },
  {
   "cell_type": "code",
   "execution_count": null,
   "id": "b82bd5ec",
   "metadata": {},
   "outputs": [],
   "source": []
  },
  {
   "cell_type": "code",
   "execution_count": null,
   "id": "f532f6b6",
   "metadata": {},
   "outputs": [],
   "source": []
  },
  {
   "cell_type": "code",
   "execution_count": null,
   "id": "5b653719",
   "metadata": {},
   "outputs": [],
   "source": []
  },
  {
   "cell_type": "markdown",
   "id": "c4cc4d6f",
   "metadata": {
    "lang": "en"
   },
   "source": [
    "Write a function `play_a_round_of_rps()` that reads the selections\n",
    "of player 1 and player 2 from the terminal and prints out who won.\n",
    "\n",
    "(Of course this is not a usable game as player 2 can see\n",
    "the choice player 1 made.)"
   ]
  },
  {
   "cell_type": "code",
   "execution_count": null,
   "id": "6d292623",
   "metadata": {},
   "outputs": [],
   "source": []
  },
  {
   "cell_type": "markdown",
   "id": "6d574c79",
   "metadata": {
    "lang": "en"
   },
   "source": [
    "Test the function `play_a_round_of_rps()` interactively."
   ]
  },
  {
   "cell_type": "code",
   "execution_count": null,
   "id": "84cde27f",
   "metadata": {},
   "outputs": [],
   "source": []
  },
  {
   "cell_type": "markdown",
   "id": "939a317d",
   "metadata": {
    "lang": "en"
   },
   "source": [
    "Write a function `play_rps()` that lets two players play against each other until one player has won 3 games more than\n",
    "the other (e.g. if the first player has won 2 games and the second player 5)."
   ]
  },
  {
   "cell_type": "code",
   "execution_count": null,
   "id": "1075dcd8",
   "metadata": {
    "lines_to_next_cell": 2
   },
   "outputs": [],
   "source": []
  },
  {
   "cell_type": "code",
   "execution_count": null,
   "id": "2a2836e3",
   "metadata": {},
   "outputs": [],
   "source": []
  }
 ],
 "metadata": {
  "kernelspec": {
   "display_name": "Python 3 (ipykernel)",
   "language": "python",
   "name": "python3"
  }
 },
 "nbformat": 4,
 "nbformat_minor": 5
}
