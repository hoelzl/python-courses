{
 "cells": [
  {
   "cell_type": "markdown",
   "id": "6bcd832b4a94b9ed",
   "metadata": {
    "lang": "en",
    "lines_to_next_cell": 2,
    "slideshow": {
     "slide_type": "slide"
    }
   },
   "source": [
    "<img src=\"../img/python-logo-no-text.png\"\n",
    "     style=\"display:block;margin:auto;width:10%\"/>\n",
    "<br>\n",
    "<div style=\"text-align:center; font-size:200%;\">\n",
    "  <b>Workshop: California Housing</b>\n",
    "</div>\n",
    "<br/>\n",
    "<div style=\"text-align:center;\">Dr. Matthias Hölzl</div>\n",
    "<br/>\n",
    "<!-- <div style=\"text-align:center;\">workshops/workshop_600_california_housing</div> -->"
   ]
  },
  {
   "cell_type": "markdown",
   "id": "34300c44dd830467",
   "metadata": {
    "lang": "en"
   },
   "source": [
    "# California Housing Prices"
   ]
  },
  {
   "cell_type": "code",
   "execution_count": null,
   "id": "a23d119b62e007ed",
   "metadata": {
    "tags": [
     "keep"
    ]
   },
   "outputs": [],
   "source": [
    "from pathlib import Path\n",
    "import numpy as np\n",
    "import pandas as pd"
   ]
  },
  {
   "cell_type": "code",
   "execution_count": null,
   "id": "5db2afb812451260",
   "metadata": {
    "tags": [
     "keep"
    ]
   },
   "outputs": [],
   "source": [
    "pandas_data_path = Path(\n",
    "    r\"C:\\Users\\tc\\Programming\\Python\\Courses\\Own\\python-programmierer\\Data\\Pandas\"\n",
    ")\n",
    "california_housing_csv_path = pandas_data_path / \"california-housing.csv\""
   ]
  },
  {
   "cell_type": "markdown",
   "id": "8382687e47bc7e45",
   "metadata": {
    "lang": "en"
   },
   "source": [
    "## Loading the data set\n",
    "\n",
    "Load the csv file `california_housing_csv_path` as\n",
    "pandas DataFrame. Do not import any columns without information content."
   ]
  },
  {
   "cell_type": "code",
   "execution_count": null,
   "id": "724ad1004e940359",
   "metadata": {},
   "outputs": [],
   "source": []
  },
  {
   "cell_type": "code",
   "execution_count": null,
   "id": "a21f733464e85864",
   "metadata": {
    "lines_to_next_cell": 2
   },
   "outputs": [],
   "source": []
  },
  {
   "cell_type": "markdown",
   "id": "5d4d5232a1bfd972",
   "metadata": {
    "lang": "en"
   },
   "source": [
    "How many rows does the DataFrame have?"
   ]
  },
  {
   "cell_type": "code",
   "execution_count": null,
   "id": "cac3d832f9cd6ce1",
   "metadata": {
    "lines_to_next_cell": 2
   },
   "outputs": [],
   "source": []
  },
  {
   "cell_type": "markdown",
   "id": "62c6fa62ba76ccb0",
   "metadata": {
    "lang": "en"
   },
   "source": [
    "Which columns does the DataFrame have?\n",
    "Are there columns in the DataFrame that contain undefined values (NA)?"
   ]
  },
  {
   "cell_type": "code",
   "execution_count": null,
   "id": "ee353c4aa8f7d9e9",
   "metadata": {},
   "outputs": [],
   "source": []
  },
  {
   "cell_type": "code",
   "execution_count": null,
   "id": "93416793e28d53ca",
   "metadata": {
    "lines_to_next_cell": 2,
    "tags": [
     "keep"
    ]
   },
   "outputs": [],
   "source": [
    "# This is true if `notna()` drops rows, i.e., if\n",
    "df.isna().sum()"
   ]
  },
  {
   "cell_type": "markdown",
   "id": "0d300c8770971c41",
   "metadata": {
    "lang": "en"
   },
   "source": [
    "What are minimum, maximum, mean and standard deviation of each column?"
   ]
  },
  {
   "cell_type": "code",
   "execution_count": null,
   "id": "8f3cd3815854b853",
   "metadata": {},
   "outputs": [],
   "source": []
  },
  {
   "cell_type": "markdown",
   "id": "622c2858760c6ad9",
   "metadata": {
    "lang": "en"
   },
   "source": [
    "Generate histograms of the individual columns.\n",
    "Are there any features that stick out?"
   ]
  },
  {
   "cell_type": "code",
   "execution_count": null,
   "id": "3de7a77ee74b58cc",
   "metadata": {},
   "outputs": [],
   "source": []
  },
  {
   "cell_type": "markdown",
   "id": "93ba37d859a9eae4",
   "metadata": {
    "lang": "en"
   },
   "source": [
    "Create a new DataFrame containing only the rows whose `Target`\n",
    "value is greater than 4. How many entries does this DataFrame have?"
   ]
  },
  {
   "cell_type": "code",
   "execution_count": null,
   "id": "dd882e79205a211f",
   "metadata": {},
   "outputs": [],
   "source": []
  },
  {
   "cell_type": "code",
   "execution_count": null,
   "id": "11dbc41f25d3aea9",
   "metadata": {
    "lines_to_next_cell": 2
   },
   "outputs": [],
   "source": []
  },
  {
   "cell_type": "markdown",
   "id": "2845a0f30ed9fdf0",
   "metadata": {
    "lang": "en"
   },
   "source": [
    "Plot longitude vs. latitude as a scatterplot. What can you infer from this\n",
    "plot?\n",
    "\n",
    "The `c` keyword argument allows you to specify a column name whose\n",
    "values determine the color of the output. With `cmap` you can create a colormap\n",
    "for these colors. With the keyword argument `alpha` you can set the transparency of the output.\n",
    "\n",
    "Experiment with these values to make the output more informative."
   ]
  },
  {
   "cell_type": "code",
   "execution_count": null,
   "id": "41a904cc9f0bcce9",
   "metadata": {},
   "outputs": [],
   "source": []
  },
  {
   "cell_type": "markdown",
   "id": "289772a91631ff8f",
   "metadata": {
    "lang": "en"
   },
   "source": [
    "What does the corresponding output look like for the DataFrame that only\n",
    "contains expensive houses?"
   ]
  },
  {
   "cell_type": "code",
   "execution_count": null,
   "id": "1f0cfde0311344fb",
   "metadata": {
    "lines_to_next_cell": 2
   },
   "outputs": [],
   "source": []
  },
  {
   "cell_type": "markdown",
   "id": "e47e7951a6ec3f6e",
   "metadata": {
    "lang": "en"
   },
   "source": [
    "If you have installed seaborn you can use `seaborn.pairplot()` to\n",
    "create a grid of scatterplots with all possible combinations of columns.\n",
    "With the keyword argument `hue` you can specify a column that contains the\n",
    "color of the output.\n",
    "\n",
    "Which of the plots provide interesting information? What values might be interesting as value of `hue`?\n",
    "\n",
    "*Note:* It is advisable to decrease the number of rows being plotted to e.g. 500 or 1000 to limit the time it takes to generate the plots."
   ]
  },
  {
   "cell_type": "code",
   "execution_count": null,
   "id": "1aab11da01a9829e",
   "metadata": {},
   "outputs": [],
   "source": []
  },
  {
   "cell_type": "code",
   "execution_count": null,
   "id": "f0c7e11b70f98274",
   "metadata": {},
   "outputs": [],
   "source": []
  },
  {
   "cell_type": "code",
   "execution_count": null,
   "id": "aad68ee71640c8d4",
   "metadata": {},
   "outputs": [],
   "source": []
  },
  {
   "cell_type": "code",
   "execution_count": null,
   "id": "33ef6a759cc72c81",
   "metadata": {},
   "outputs": [],
   "source": []
  },
  {
   "cell_type": "code",
   "execution_count": null,
   "id": "cf9257dedf32c01c",
   "metadata": {},
   "outputs": [],
   "source": []
  },
  {
   "cell_type": "code",
   "execution_count": null,
   "id": "8eebe4e7d3c9759c",
   "metadata": {},
   "outputs": [],
   "source": []
  },
  {
   "cell_type": "code",
   "execution_count": null,
   "id": "b30e30fec2528f49",
   "metadata": {},
   "outputs": [],
   "source": []
  },
  {
   "cell_type": "code",
   "execution_count": null,
   "id": "f094abad0862ae9b",
   "metadata": {},
   "outputs": [],
   "source": []
  },
  {
   "cell_type": "code",
   "execution_count": null,
   "id": "81a826b1b37adb84",
   "metadata": {},
   "outputs": [],
   "source": []
  },
  {
   "cell_type": "code",
   "execution_count": null,
   "id": "27cd58bbe1ebd2ff",
   "metadata": {},
   "outputs": [],
   "source": []
  },
  {
   "cell_type": "code",
   "execution_count": null,
   "id": "e309ac36138f5578",
   "metadata": {},
   "outputs": [],
   "source": []
  },
  {
   "cell_type": "code",
   "execution_count": null,
   "id": "758c19ed601cd3f1",
   "metadata": {
    "lines_to_next_cell": 1
   },
   "outputs": [],
   "source": []
  },
  {
   "cell_type": "code",
   "execution_count": null,
   "id": "c59fe5981153c1cd",
   "metadata": {},
   "outputs": [],
   "source": []
  },
  {
   "cell_type": "code",
   "execution_count": null,
   "id": "54a4800846ad0be3",
   "metadata": {},
   "outputs": [],
   "source": []
  },
  {
   "cell_type": "code",
   "execution_count": null,
   "id": "3251171e91b99f7a",
   "metadata": {},
   "outputs": [],
   "source": []
  },
  {
   "cell_type": "code",
   "execution_count": null,
   "id": "b1645ac651cebb13",
   "metadata": {},
   "outputs": [],
   "source": []
  },
  {
   "cell_type": "code",
   "execution_count": null,
   "id": "ccfb44ea0b95e777",
   "metadata": {},
   "outputs": [],
   "source": []
  },
  {
   "cell_type": "code",
   "execution_count": null,
   "id": "027bf5e4ef9b6693",
   "metadata": {},
   "outputs": [],
   "source": []
  },
  {
   "cell_type": "code",
   "execution_count": null,
   "id": "8da54b4a7725a665",
   "metadata": {},
   "outputs": [],
   "source": []
  },
  {
   "cell_type": "code",
   "execution_count": null,
   "id": "9af52eed69611dbd",
   "metadata": {},
   "outputs": [],
   "source": []
  },
  {
   "cell_type": "code",
   "execution_count": null,
   "id": "be217d41150084b7",
   "metadata": {},
   "outputs": [],
   "source": []
  },
  {
   "cell_type": "code",
   "execution_count": null,
   "id": "dd4f951bd9d9d843",
   "metadata": {},
   "outputs": [],
   "source": []
  },
  {
   "cell_type": "code",
   "execution_count": null,
   "id": "4ae368746fbec925",
   "metadata": {},
   "outputs": [],
   "source": []
  },
  {
   "cell_type": "code",
   "execution_count": null,
   "id": "397d53ee23ff855a",
   "metadata": {
    "tags": [
     "keep"
    ]
   },
   "outputs": [],
   "source": [
    "x_train[:3]"
   ]
  },
  {
   "cell_type": "code",
   "execution_count": null,
   "id": "a38b79a2a37d8b5e",
   "metadata": {},
   "outputs": [],
   "source": []
  },
  {
   "cell_type": "code",
   "execution_count": null,
   "id": "9b310762b15361b1",
   "metadata": {},
   "outputs": [],
   "source": []
  },
  {
   "cell_type": "code",
   "execution_count": null,
   "id": "0185b85b677a5037",
   "metadata": {},
   "outputs": [],
   "source": []
  },
  {
   "cell_type": "code",
   "execution_count": null,
   "id": "b8b45bdcbbb4f1f6",
   "metadata": {},
   "outputs": [],
   "source": []
  },
  {
   "cell_type": "code",
   "execution_count": null,
   "id": "8de93db27c0a082d",
   "metadata": {},
   "outputs": [],
   "source": []
  },
  {
   "cell_type": "code",
   "execution_count": null,
   "id": "ce9cf742d320ea7d",
   "metadata": {},
   "outputs": [],
   "source": []
  },
  {
   "cell_type": "code",
   "execution_count": null,
   "id": "ee51f785da052e64",
   "metadata": {},
   "outputs": [],
   "source": []
  },
  {
   "cell_type": "code",
   "execution_count": null,
   "id": "2181b4f973349db8",
   "metadata": {},
   "outputs": [],
   "source": []
  },
  {
   "cell_type": "code",
   "execution_count": null,
   "id": "97e58b1878457a58",
   "metadata": {},
   "outputs": [],
   "source": []
  },
  {
   "cell_type": "code",
   "execution_count": null,
   "id": "6b4e03423667dbb7",
   "metadata": {},
   "outputs": [],
   "source": []
  },
  {
   "cell_type": "code",
   "execution_count": null,
   "id": "c5349d7c517332c9",
   "metadata": {},
   "outputs": [],
   "source": []
  },
  {
   "cell_type": "code",
   "execution_count": null,
   "id": "6dc801866d7d97ea",
   "metadata": {},
   "outputs": [],
   "source": []
  },
  {
   "cell_type": "code",
   "execution_count": null,
   "id": "661c24ea12b9266c",
   "metadata": {},
   "outputs": [],
   "source": []
  },
  {
   "cell_type": "code",
   "execution_count": null,
   "id": "85b5abba8c0ad027",
   "metadata": {},
   "outputs": [],
   "source": []
  }
 ],
 "metadata": {},
 "nbformat": 4,
 "nbformat_minor": 5
}
