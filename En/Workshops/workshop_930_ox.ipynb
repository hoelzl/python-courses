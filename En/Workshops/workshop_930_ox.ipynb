{
 "cells": [
  {
   "cell_type": "markdown",
   "id": "0a34c43d2da796c1",
   "metadata": {
    "lang": "en"
   },
   "source": [
    "# Ox - A variant of Bulls and Cows\n",
    "\n",
    "Implement a variant of the game \"Bulls and Cows\"\n",
    "\n",
    "## Gameplay\n",
    "\n",
    "- The computer chooses a word from a dictionary and tells the player\n",
    "  how many letters it contains\n",
    "- The player guesses a word and gets the following information for each letter:\n",
    "    - `+` if the letter is in the right place\n",
    "    - `–` if the letter occurs the solution, but in a different place\n",
    "    - `.` if the letter does not appear in the solution\n",
    "- If the player guesses the word in less than 10 tries he has\n",
    "  won, otherwise lost.\n",
    "\n",
    "## Examples\n",
    "\n",
    "Successful game:\n",
    "\n",
    "```\n",
    "Guess the word!\n",
    "The word to guess has 6 characters.\n",
    "Please enter your guess: something\n",
    "something\n",
    ".-..--\n",
    "Please enter your guess: postoffice\n",
    "postoffice\n",
    "+-.-+.\n",
    "Please enter your guess: python\n",
    "python\n",
    "++++++\n",
    "Congratulations, you have won!\n",
    "```\n",
    "\n",
    "Lost game:\n",
    "\n",
    "```\n",
    "Guess the word!\n",
    "The word to guess has 4 characters.\n",
    "Please enter your guess: foobar\n",
    "foobar\n",
    "....\n",
    "Please enter your guess: tango\n",
    "tango\n",
    ".+.-\n",
    "Please enter your guess: ohno\n",
    "ohno\n",
    "....\n",
    "Please enter your guess: This game is stupid!\n",
    "This game is stupid!\n",
    "....\n",
    "Please enter your guess: Let me out!\n",
    "Let me out!\n",
    ".-..\n",
    "Please enter your guess: exit\n",
    "exit\n",
    "-...\n",
    "Please enter your guess: quit\n",
    "quit\n",
    "....\n",
    "Please enter your guess: QUIT\n",
    "QUIT\n",
    "....\n",
    "Please enter your guess:\n",
    "\n",
    "\n",
    "Please enter your guess: HOW DO I QUIT THIS STUPID GAME!!!!!\n",
    "HOW DO I QUIT THIS STUPID GAME!!!!!\n",
    "....\n",
    "Better luck next time. The word was game.\n",
    "```\n",
    "\n",
    "## Implementation:\n",
    "\n",
    "Implement a function `ox()` that implements this game.\n",
    "You should define some auxiliary functions for this purpose,\n",
    "that encapsulate parts of the game logic.\n",
    "\n",
    "## Hints\n",
    "\n",
    "- You can get user input using the function `input(quey: str)`.\n",
    "  `query` is the text to be displayed to the user;\n",
    "  the result of the function is the string entered by the user.\n",
    "- Save the \"dictionary\" as a list of words.\n",
    "- With `random.choice(list)` you can select a random item from a list.\n",
    "- One possibility to implement this game without using classes\n",
    "  is by defining a function that matches two strings\n",
    "  character-by-character. A possible result type for\n",
    "  this function is a list of the form `['.', '+', '-', '.']`,\n",
    "  to express that the first and fourth characters do not match,\n",
    "  the second character is a perfect match and the third character\n",
    "  appears in the solution, but in a different position.\n",
    "- Given a list `strings` of strings you can use `''.join(strings)`\n",
    "  to create a string containing all elements of the list.\n",
    "- What happens in your solution when the user enters a word that\n",
    "  is longer or shorter than the solution?"
   ]
  },
  {
   "cell_type": "code",
   "execution_count": null,
   "id": "06ef688472b56120",
   "metadata": {},
   "outputs": [],
   "source": []
  },
  {
   "cell_type": "code",
   "execution_count": null,
   "id": "3f466257c661b014",
   "metadata": {},
   "outputs": [],
   "source": []
  },
  {
   "cell_type": "code",
   "execution_count": null,
   "id": "fca440ec1cf61832",
   "metadata": {},
   "outputs": [],
   "source": []
  },
  {
   "cell_type": "code",
   "execution_count": null,
   "id": "79e5bec70375d0ac",
   "metadata": {},
   "outputs": [],
   "source": []
  },
  {
   "cell_type": "code",
   "execution_count": null,
   "id": "0471cb815a7a1458",
   "metadata": {},
   "outputs": [],
   "source": []
  },
  {
   "cell_type": "code",
   "execution_count": null,
   "id": "c0a96baf2404456d",
   "metadata": {},
   "outputs": [],
   "source": []
  },
  {
   "cell_type": "code",
   "execution_count": null,
   "id": "b56241d676bff323",
   "metadata": {},
   "outputs": [],
   "source": []
  },
  {
   "cell_type": "code",
   "execution_count": null,
   "id": "31297ad746225d3b",
   "metadata": {},
   "outputs": [],
   "source": []
  },
  {
   "cell_type": "code",
   "execution_count": null,
   "id": "b3801c50be6ff5d9",
   "metadata": {},
   "outputs": [],
   "source": []
  },
  {
   "cell_type": "code",
   "execution_count": null,
   "id": "3c5a2c48dfbf7cc8",
   "metadata": {},
   "outputs": [],
   "source": []
  },
  {
   "cell_type": "code",
   "execution_count": null,
   "id": "3f49476d98dd8d45",
   "metadata": {},
   "outputs": [],
   "source": []
  },
  {
   "cell_type": "code",
   "execution_count": null,
   "id": "ae13779e0a5eae1f",
   "metadata": {},
   "outputs": [],
   "source": []
  },
  {
   "cell_type": "code",
   "execution_count": null,
   "id": "13ba009c1f40a604",
   "metadata": {},
   "outputs": [],
   "source": []
  },
  {
   "cell_type": "code",
   "execution_count": null,
   "id": "1a9016f13467a50b",
   "metadata": {},
   "outputs": [],
   "source": []
  },
  {
   "cell_type": "code",
   "execution_count": null,
   "id": "f8b4f72470958e16",
   "metadata": {},
   "outputs": [],
   "source": []
  },
  {
   "cell_type": "code",
   "execution_count": null,
   "id": "f265b747b0ef261c",
   "metadata": {},
   "outputs": [],
   "source": []
  },
  {
   "cell_type": "code",
   "execution_count": null,
   "id": "faaa8d2111e8206b",
   "metadata": {},
   "outputs": [],
   "source": []
  },
  {
   "cell_type": "code",
   "execution_count": null,
   "id": "f8e8ec97a251a130",
   "metadata": {},
   "outputs": [],
   "source": []
  },
  {
   "cell_type": "code",
   "execution_count": null,
   "id": "2df538607799bafe",
   "metadata": {},
   "outputs": [],
   "source": []
  },
  {
   "cell_type": "code",
   "execution_count": null,
   "id": "4d0a8ecf1fae13c0",
   "metadata": {},
   "outputs": [],
   "source": []
  },
  {
   "cell_type": "code",
   "execution_count": null,
   "id": "b6e6120f94b96dfd",
   "metadata": {},
   "outputs": [],
   "source": []
  }
 ],
 "metadata": {
  "kernelspec": {
   "display_name": "Python 3 (ipykernel)",
   "language": "python",
   "name": "python3"
  }
 },
 "nbformat": 4,
 "nbformat_minor": 5
}
