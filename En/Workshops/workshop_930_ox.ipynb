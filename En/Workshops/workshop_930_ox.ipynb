{
 "cells": [
  {
   "cell_type": "markdown",
   "id": "03d16e1d",
   "metadata": {
    "lang": "en"
   },
   "source": [
    "# Ox - A variant of Bulls and Cows\n",
    "\n",
    "Implement a variant of the game \"Bulls and Cows\"\n",
    "\n",
    "## Gameplay\n",
    "\n",
    "- The computer chooses a word from a dictionary and tells the player\n",
    "  how many letters it contains\n",
    "- The player guesses a word and gets the following information for each letter:\n",
    "    - `+` if the letter is in the right place\n",
    "    - `–` if the letter occurs the solution, but in a different place\n",
    "    - `.` if the letter does not appear in the solution\n",
    "- If the player guesses the word in less than 10 tries he has\n",
    "  won, otherwise lost.\n",
    "\n",
    "## Examples\n",
    "\n",
    "Successful game:\n",
    "\n",
    "```\n",
    "Guess the word!\n",
    "The word to guess has 6 characters.\n",
    "Please enter your guess: something\n",
    "something\n",
    ".-..--\n",
    "Please enter your guess: postoffice\n",
    "postoffice\n",
    "+-.-+.\n",
    "Please enter your guess: python\n",
    "python\n",
    "++++++\n",
    "Congratulations, you have won!\n",
    "```\n",
    "\n",
    "Lost game:\n",
    "\n",
    "```\n",
    "Guess the word!\n",
    "The word to guess has 4 characters.\n",
    "Please enter your guess: foobar\n",
    "foobar\n",
    "....\n",
    "Please enter your guess: tango\n",
    "tango\n",
    ".+.-\n",
    "Please enter your guess: ohno\n",
    "ohno\n",
    "....\n",
    "Please enter your guess: This game is stupid!\n",
    "This game is stupid!\n",
    "....\n",
    "Please enter your guess: Let me out!\n",
    "Let me out!\n",
    ".-..\n",
    "Please enter your guess: exit\n",
    "exit\n",
    "-...\n",
    "Please enter your guess: quit\n",
    "quit\n",
    "....\n",
    "Please enter your guess: QUIT\n",
    "QUIT\n",
    "....\n",
    "Please enter your guess:\n",
    "\n",
    "\n",
    "Please enter your guess: HOW DO I QUIT THIS STUPID GAME!!!!!\n",
    "HOW DO I QUIT THIS STUPID GAME!!!!!\n",
    "....\n",
    "Better luck next time. The word was game.\n",
    "```\n",
    "\n",
    "## Implementation:\n",
    "\n",
    "Implement a function `ox()` that implements this game.\n",
    "You should define some auxiliary functions for this purpose,\n",
    "that encapsulate parts of the game logic.\n",
    "\n",
    "## Hints\n",
    "\n",
    "- You can get user input using the function `input(quey: str)`.\n",
    "  `query` is the text to be displayed to the user;\n",
    "  the result of the function is the string entered by the user.\n",
    "- Save the \"dictionary\" as a list of words.\n",
    "- With `random.choice(list)` you can select a random item from a list.\n",
    "- One possibility to implement this game without using classes\n",
    "  is by defining a function that matches two strings\n",
    "  character-by-character. A possible result type for\n",
    "  this function is a list of the form `['.', '+', '-', '.']`,\n",
    "  to express that the first and fourth characters do not match,\n",
    "  the second character is a perfect match and the third character\n",
    "  appears in the solution, but in a different position.\n",
    "- Given a list `strings` of strings you can use `''.join(strings)`\n",
    "  to create a string containing all elements of the list.\n",
    "- What happens in your solution when the user enters a word that\n",
    "  is longer or shorter than the solution?"
   ]
  },
  {
   "cell_type": "code",
   "execution_count": null,
   "id": "0f7e3a35",
   "metadata": {},
   "outputs": [],
   "source": []
  },
  {
   "cell_type": "code",
   "execution_count": null,
   "id": "ac641b77",
   "metadata": {},
   "outputs": [],
   "source": []
  },
  {
   "cell_type": "code",
   "execution_count": null,
   "id": "1299fdb3",
   "metadata": {},
   "outputs": [],
   "source": []
  },
  {
   "cell_type": "code",
   "execution_count": null,
   "id": "ab00cbd9",
   "metadata": {},
   "outputs": [],
   "source": []
  },
  {
   "cell_type": "code",
   "execution_count": null,
   "id": "8f139661",
   "metadata": {},
   "outputs": [],
   "source": []
  },
  {
   "cell_type": "code",
   "execution_count": null,
   "id": "ce02cc12",
   "metadata": {},
   "outputs": [],
   "source": []
  },
  {
   "cell_type": "code",
   "execution_count": null,
   "id": "e10b74ad",
   "metadata": {},
   "outputs": [],
   "source": []
  },
  {
   "cell_type": "code",
   "execution_count": null,
   "id": "761f185a",
   "metadata": {},
   "outputs": [],
   "source": []
  },
  {
   "cell_type": "code",
   "execution_count": null,
   "id": "d89cb854",
   "metadata": {},
   "outputs": [],
   "source": []
  },
  {
   "cell_type": "code",
   "execution_count": null,
   "id": "9087723c",
   "metadata": {},
   "outputs": [],
   "source": []
  },
  {
   "cell_type": "code",
   "execution_count": null,
   "id": "790e0239",
   "metadata": {},
   "outputs": [],
   "source": []
  },
  {
   "cell_type": "code",
   "execution_count": null,
   "id": "afb4d13c",
   "metadata": {},
   "outputs": [],
   "source": []
  },
  {
   "cell_type": "code",
   "execution_count": null,
   "id": "613be11f",
   "metadata": {},
   "outputs": [],
   "source": []
  },
  {
   "cell_type": "code",
   "execution_count": null,
   "id": "0d0e0eff",
   "metadata": {},
   "outputs": [],
   "source": []
  },
  {
   "cell_type": "code",
   "execution_count": null,
   "id": "e647d18c",
   "metadata": {},
   "outputs": [],
   "source": []
  },
  {
   "cell_type": "code",
   "execution_count": null,
   "id": "68699743",
   "metadata": {},
   "outputs": [],
   "source": []
  },
  {
   "cell_type": "code",
   "execution_count": null,
   "id": "65ed50c3",
   "metadata": {},
   "outputs": [],
   "source": []
  },
  {
   "cell_type": "code",
   "execution_count": null,
   "id": "e52f3336",
   "metadata": {},
   "outputs": [],
   "source": []
  },
  {
   "cell_type": "code",
   "execution_count": null,
   "id": "b9c9c2ae",
   "metadata": {},
   "outputs": [],
   "source": []
  },
  {
   "cell_type": "code",
   "execution_count": null,
   "id": "01d8beb3",
   "metadata": {},
   "outputs": [],
   "source": []
  },
  {
   "cell_type": "code",
   "execution_count": null,
   "id": "5960a619",
   "metadata": {},
   "outputs": [],
   "source": []
  }
 ],
 "metadata": {
  "kernelspec": {
   "display_name": "Python 3 (ipykernel)",
   "language": "python",
   "name": "python3"
  }
 },
 "nbformat": 4,
 "nbformat_minor": 5
}
