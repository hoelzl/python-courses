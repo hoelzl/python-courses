{
 "cells": [
  {
   "cell_type": "markdown",
   "id": "5c8427147280013b",
   "metadata": {
    "lang": "en",
    "slideshow": {
     "slide_type": "slide"
    }
   },
   "source": [
    "<img src=\"../img/python-logo-no-text.png\"\n",
    "     style=\"display:block;margin:auto;width:10%\"/>\n",
    "<br>\n",
    "<div style=\"text-align:center; font-size:200%;\">\n",
    "  <b>Workshop: Multiprocessing</b>\n",
    "</div>\n",
    "<br/>\n",
    "<div style=\"text-align:center;\">Dr. Matthias Hölzl</div>\n",
    "<br/>\n",
    "<!-- <div style=\"text-align:center;\">workshops/workshop_420_multiprocessing</div> -->\n",
    "\n"
   ]
  },
  {
   "cell_type": "markdown",
   "id": "b8ed24673aed690a",
   "metadata": {
    "lang": "en"
   },
   "source": [
    "\n",
    "# Monte-Carlo Methods\n",
    "\n",
    "Monte Carlo methods are statistical algorithms that use repeated calculations on\n",
    "random numbers to get numerical results. In this exercise we want to calculate the\n",
    "number $\\pi$ using Monte Carlo methods. The basic idea is as follows:\n",
    "\n",
    "- $\\pi$ corresponds to the area of a circle with radius 1.\n",
    "- We generate two random numbers x and y, each lying between 0 and 1.\n",
    "- We calculate x^2 + y^2 and test if the value \\leq is 1. In this case, the point\n",
    "  $(x,y)$ is contained in the circle of radius 1 around the origin, otherwise this is\n",
    "  not the case.\n",
    "- We do this calculation very often, counting the percentage of points in the circle.\n",
    "- Since all points are in the first quadrant, we get anapproximation of $\\pi$ by\n",
    "  multiplying the result by 4."
   ]
  },
  {
   "cell_type": "markdown",
   "id": "fc77c3a2a71c1cd6",
   "metadata": {
    "lang": "en"
   },
   "source": [
    "\n",
    "The following function creates a point $(x, y)$ as described:"
   ]
  },
  {
   "cell_type": "code",
   "execution_count": null,
   "id": "4b56b261e3b48507",
   "metadata": {
    "tags": [
     "keep"
    ]
   },
   "outputs": [],
   "source": [
    "from random import random\n",
    "\n",
    "\n",
    "def get_random_point():\n",
    "    return random(), random()"
   ]
  },
  {
   "cell_type": "markdown",
   "id": "d170c6d04a33afb9",
   "metadata": {
    "lang": "en"
   },
   "source": [
    "\n",
    "Implement a function `is_in_circle(x, y) -> bool` that checks whether such a point is\n",
    "inside a circle with radius 1."
   ]
  },
  {
   "cell_type": "code",
   "execution_count": null,
   "id": "26fe95182963a60a",
   "metadata": {},
   "outputs": [],
   "source": []
  },
  {
   "cell_type": "markdown",
   "id": "45c559d8f7ecf8f6",
   "metadata": {
    "lang": "en"
   },
   "source": [
    "\n",
    "Implement a function `is_random_point_in_circle() -> bool` that checks if a randomly\n",
    "chosen point is inside the circle with radius 1."
   ]
  },
  {
   "cell_type": "code",
   "execution_count": null,
   "id": "879ba989d5170de4",
   "metadata": {},
   "outputs": [],
   "source": []
  },
  {
   "cell_type": "markdown",
   "id": "24bd7f92120a722f",
   "metadata": {
    "lang": "en"
   },
   "source": [
    "\n",
    "How can you apply the method described above to compute $\\pi$? Implement a sequential\n",
    "version using `is_random_point_in_circle()` and at least one parallel version. Test\n",
    "the performance of different approaches."
   ]
  },
  {
   "cell_type": "code",
   "execution_count": null,
   "id": "0b55fef3734efc7a",
   "metadata": {},
   "outputs": [],
   "source": []
  },
  {
   "cell_type": "code",
   "execution_count": null,
   "id": "242b65c88961fab0",
   "metadata": {},
   "outputs": [],
   "source": []
  },
  {
   "cell_type": "code",
   "execution_count": null,
   "id": "319b890a279e5de8",
   "metadata": {},
   "outputs": [],
   "source": []
  },
  {
   "cell_type": "code",
   "execution_count": null,
   "id": "2bd06c7daddb7983",
   "metadata": {},
   "outputs": [],
   "source": []
  },
  {
   "cell_type": "code",
   "execution_count": null,
   "id": "10fe2634e81b40f7",
   "metadata": {},
   "outputs": [],
   "source": []
  },
  {
   "cell_type": "code",
   "execution_count": null,
   "id": "41ca2c0b14c5127c",
   "metadata": {},
   "outputs": [],
   "source": []
  },
  {
   "cell_type": "code",
   "execution_count": null,
   "id": "5e3368fbc9b3c35a",
   "metadata": {},
   "outputs": [],
   "source": []
  },
  {
   "cell_type": "code",
   "execution_count": null,
   "id": "589921cc2d4ee69f",
   "metadata": {},
   "outputs": [],
   "source": []
  },
  {
   "cell_type": "code",
   "execution_count": null,
   "id": "2a7d45cabe94b068",
   "metadata": {},
   "outputs": [],
   "source": []
  },
  {
   "cell_type": "code",
   "execution_count": null,
   "id": "8da1b2c10069006b",
   "metadata": {},
   "outputs": [],
   "source": []
  },
  {
   "cell_type": "code",
   "execution_count": null,
   "id": "ec6ff2d82be13a7e",
   "metadata": {},
   "outputs": [],
   "source": []
  },
  {
   "cell_type": "code",
   "execution_count": null,
   "id": "83d6e2a138f5ed04",
   "metadata": {},
   "outputs": [],
   "source": []
  },
  {
   "cell_type": "code",
   "execution_count": null,
   "id": "ce9e7961ec1c1c96",
   "metadata": {},
   "outputs": [],
   "source": []
  },
  {
   "cell_type": "code",
   "execution_count": null,
   "id": "308f160071927bac",
   "metadata": {},
   "outputs": [],
   "source": []
  },
  {
   "cell_type": "code",
   "execution_count": null,
   "id": "7ad156991b5f48c4",
   "metadata": {},
   "outputs": [],
   "source": []
  }
 ],
 "metadata": {},
 "nbformat": 4,
 "nbformat_minor": 5
}
