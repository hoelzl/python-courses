{
 "cells": [
  {
   "cell_type": "markdown",
   "id": "05b2db01",
   "metadata": {
    "lang": "en"
   },
   "source": [
    "\n",
    "# Monte-Carlo Methods\n",
    "\n",
    "Monte Carlo methods are statistical algorithms that use repeated calculations on\n",
    "random numbers to get numerical results. In this exercise we want to calculate the\n",
    "number $\\pi$ using Monte Carlo methods. The basic idea is as follows:\n",
    "\n",
    "- $\\pi$ corresponds to the area of a circle with radius 1.\n",
    "- We generate two random numbers x and y, each lying between 0 and 1.\n",
    "- We calculate x^2 + y^2 and test if the value \\leq is 1. In this case, the point\n",
    "  $(x,y)$ is contained in the circle of radius 1 around the origin, otherwise this is\n",
    "  not the case.\n",
    "- We do this calculation very often, counting the percentage of points in the circle.\n",
    "- Since all points are in the first quadrant, we get anapproximation of $\\pi$ by\n",
    "  multiplying the result by 4."
   ]
  },
  {
   "cell_type": "markdown",
   "id": "f02f43b7",
   "metadata": {
    "lang": "en"
   },
   "source": [
    "\n",
    "The following function creates a point $(x, y)$ as described:"
   ]
  },
  {
   "cell_type": "code",
   "execution_count": null,
   "id": "47a8ad4f",
   "metadata": {
    "tags": [
     "keep"
    ]
   },
   "outputs": [],
   "source": [
    "from random import random\n",
    "\n",
    "\n",
    "def get_random_point():\n",
    "    return random(), random()"
   ]
  },
  {
   "cell_type": "markdown",
   "id": "a78a86ea",
   "metadata": {
    "lang": "en"
   },
   "source": [
    "\n",
    "Implement a function `is_in_circle(x, y) -> bool` that checks whether such a point is\n",
    "inside a circle with radius 1."
   ]
  },
  {
   "cell_type": "code",
   "execution_count": null,
   "id": "e5260ddf",
   "metadata": {},
   "outputs": [],
   "source": []
  },
  {
   "cell_type": "markdown",
   "id": "7603066c",
   "metadata": {
    "lang": "en"
   },
   "source": [
    "\n",
    "Implement a function `is_random_point_in_circle() -> bool` that checks if a randomly\n",
    "chosen point is inside the circle with radius 1."
   ]
  },
  {
   "cell_type": "code",
   "execution_count": null,
   "id": "87daa314",
   "metadata": {},
   "outputs": [],
   "source": []
  },
  {
   "cell_type": "markdown",
   "id": "e4bd7391",
   "metadata": {
    "lang": "en"
   },
   "source": [
    "\n",
    "How can you apply the method described above to compute $\\pi$? Implement a sequential\n",
    "version using `is_random_point_in_circle()` and at least one parallel version. Test\n",
    "the performance of different approaches."
   ]
  },
  {
   "cell_type": "code",
   "execution_count": null,
   "id": "5c20dea0",
   "metadata": {},
   "outputs": [],
   "source": []
  },
  {
   "cell_type": "code",
   "execution_count": null,
   "id": "8e1b140c",
   "metadata": {},
   "outputs": [],
   "source": []
  },
  {
   "cell_type": "code",
   "execution_count": null,
   "id": "7ea68cad",
   "metadata": {},
   "outputs": [],
   "source": []
  },
  {
   "cell_type": "code",
   "execution_count": null,
   "id": "81fa7979",
   "metadata": {},
   "outputs": [],
   "source": []
  },
  {
   "cell_type": "code",
   "execution_count": null,
   "id": "fcf94f59",
   "metadata": {},
   "outputs": [],
   "source": []
  },
  {
   "cell_type": "code",
   "execution_count": null,
   "id": "99cd9153",
   "metadata": {},
   "outputs": [],
   "source": []
  },
  {
   "cell_type": "code",
   "execution_count": null,
   "id": "82f1bc52",
   "metadata": {},
   "outputs": [],
   "source": []
  },
  {
   "cell_type": "code",
   "execution_count": null,
   "id": "30e81b3b",
   "metadata": {},
   "outputs": [],
   "source": []
  },
  {
   "cell_type": "code",
   "execution_count": null,
   "id": "92e07bd5",
   "metadata": {},
   "outputs": [],
   "source": []
  },
  {
   "cell_type": "code",
   "execution_count": null,
   "id": "e19375a7",
   "metadata": {},
   "outputs": [],
   "source": []
  }
 ],
 "metadata": {
  "kernelspec": {
   "display_name": "Python 3 (ipykernel)",
   "language": "python",
   "name": "python3"
  }
 },
 "nbformat": 4,
 "nbformat_minor": 5
}
