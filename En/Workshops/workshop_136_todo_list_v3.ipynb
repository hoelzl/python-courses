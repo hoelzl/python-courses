{
 "cells": [
  {
   "cell_type": "markdown",
   "id": "a62493fe",
   "metadata": {
    "lang": "en"
   },
   "source": [
    "# Todo list version 3\n",
    "\n",
    "In this workshop we want to implement a to-do list, where both the\n",
    "list itself as well as individual todo items are represented by instances of classes that encapsulate their implementation.\n",
    "\n",
    "It's a good idea to perform this workshop in an IDE, because the\n",
    "last subtasks cannot be meaningfully implemented in notebooks.\n",
    "**Write tests for each implemented method,** either\n",
    "by working in a TDD-style test-first manner or by writing a unit test immediately after\n",
    "implementing a method.\n",
    "\n",
    "Each entry in the todo list should contain the following information:\n",
    "\n",
    "- Title\n",
    "- Priority\n",
    "- Has the item already been completed or not?\n",
    "\n",
    "Define a class `TodoItem` that encapsulates this data.\n",
    "\n",
    "Implement a `__init__()` method, that gets the title as mandatory\n",
    "argument gets. Priority and \"is completed\" should be optional parameters\n",
    "with default values 1 and `False`, respectively.\n",
    "\n",
    "Implement methods `__str__(self)` and `__repr__(self)`, that\n",
    "convert the instances of the class to strings.\n",
    "\n",
    "*Notes:*\n",
    "\n",
    "- If you have already implemented V2 of the todo list workshop, copy your implementation and enhance it for this workshop, since many parts of the workshops are similar.\n",
    "- You can also use the `@dataclass` decorator to make your work easier."
   ]
  },
  {
   "cell_type": "code",
   "execution_count": null,
   "id": "d5528dc2",
   "metadata": {
    "lines_to_next_cell": 2
   },
   "outputs": [],
   "source": []
  },
  {
   "cell_type": "markdown",
   "id": "6cfd0197",
   "metadata": {
    "lang": "en"
   },
   "source": [
    "Create a list of todo items containing the following entries:\n",
    "\n",
    "- Title: Learn Python, priority 3, not done\n",
    "- Title: Buy vegetables, priority 2, not done\n",
    "- Title: Call Hans, Priority 5, Done"
   ]
  },
  {
   "cell_type": "code",
   "execution_count": null,
   "id": "0dda8568",
   "metadata": {},
   "outputs": [],
   "source": []
  },
  {
   "cell_type": "markdown",
   "id": "dceb97d9",
   "metadata": {
    "lang": "en"
   },
   "source": [
    "Define a class `TodoList` that represents a todo list.\n",
    "\n",
    "Implement an `__init__()` method that gets a list of\n",
    "`TodoItem` instances as arguments.\n",
    "\n",
    "Add the following methods:\n",
    "\n",
    "- `add(self, title: str, priority: int, is_completed: bool)` which creates a new\n",
    "  todo item and adds it to the todo list. Use appropriate default values for\n",
    "  `priority` and `is_completed`.\n",
    "\n",
    "- `mark_done(self, title)`, which finds the first todo item in the list that has a matching title and is not yet marked as done, and marks this item as done.\n",
    "\n",
    "- `delete(self, title)`, which deletes the first todo item in the list\n",
    "  that has `title` as title.\n",
    "\n",
    "- `delete_all_completed(self)`, which deletes all completed items from the list.\n",
    "\n",
    "- `__str__(self)` and `__repr__(self)`.\n",
    "\n",
    "- `__iter__(self)` that returns a generator for all items, so that a `for` loop can\n",
    "  iterate over all items in the list."
   ]
  },
  {
   "cell_type": "code",
   "execution_count": null,
   "id": "488c3a68",
   "metadata": {},
   "outputs": [],
   "source": []
  },
  {
   "cell_type": "markdown",
   "id": "be2995cd",
   "metadata": {
    "lang": "en"
   },
   "source": [
    "Create a todo list `todos` with todo items, the following entries\n",
    " contains:\n",
    "\n",
    "- Title: Learn Python, priority 3, not done\n",
    "- Title: Buy vegetables, priority 2, not done\n",
    "- Title: Call Hans, Priority 5, Done"
   ]
  },
  {
   "cell_type": "code",
   "execution_count": null,
   "id": "945a4d66",
   "metadata": {
    "lines_to_next_cell": 2
   },
   "outputs": [],
   "source": []
  },
  {
   "cell_type": "markdown",
   "id": "edd281e4",
   "metadata": {
    "lang": "en"
   },
   "source": [
    "Add a new todo item titled \"shovel snow\" and priority 5\n",
    "to the `todos` list."
   ]
  },
  {
   "cell_type": "code",
   "execution_count": null,
   "id": "8aeab5f8",
   "metadata": {},
   "outputs": [],
   "source": []
  },
  {
   "cell_type": "markdown",
   "id": "40f52419",
   "metadata": {
    "lang": "en"
   },
   "source": [
    "Add two todo items with text \"Learn Python\" and priority 1 and 6\n",
    "to the todo list."
   ]
  },
  {
   "cell_type": "code",
   "execution_count": null,
   "id": "7683abf3",
   "metadata": {},
   "outputs": [],
   "source": []
  },
  {
   "cell_type": "markdown",
   "id": "670ebe83",
   "metadata": {
    "lang": "en"
   },
   "source": [
    "Mark a \"Learn Python\" todo item as done.\n",
    "How does your list look now?"
   ]
  },
  {
   "cell_type": "code",
   "execution_count": null,
   "id": "1243f0fb",
   "metadata": {},
   "outputs": [],
   "source": []
  },
  {
   "cell_type": "markdown",
   "id": "dee9baac",
   "metadata": {
    "lang": "en"
   },
   "source": [
    "Mark two more todo items `Learn Python` as done.\n",
    "How does your list look now?"
   ]
  },
  {
   "cell_type": "code",
   "execution_count": null,
   "id": "6c82b94f",
   "metadata": {},
   "outputs": [],
   "source": []
  },
  {
   "cell_type": "markdown",
   "id": "85efd242",
   "metadata": {
    "lang": "en"
   },
   "source": [
    "Add a method `delete_todo_item(todo_list, title)` to your `TodoList` class\n",
    "which deletes the first todo item in `todo_list` with title `title`.\n",
    "\n",
    "*Caution: You should not enter any entries while iterating over a list\n",
    "remove or insert!*"
   ]
  },
  {
   "cell_type": "code",
   "execution_count": null,
   "id": "a01d0522",
   "metadata": {
    "lines_to_next_cell": 2
   },
   "outputs": [],
   "source": []
  },
  {
   "cell_type": "markdown",
   "id": "09e73f4f",
   "metadata": {
    "lang": "en"
   },
   "source": [
    "## Loading and saving\n",
    "\n",
    "Add a method\n",
    "\n",
    "```save_to_file(self, file)```\n",
    "\n",
    "to the `TodoList` class, and add a static method\n",
    "\n",
    "```load_from_file(file)```\n",
    "\n",
    "with which to-do lists can be saved and loaded.\n",
    "\n",
    "*Note:* The easiest way is with the `pickle` library."
   ]
  },
  {
   "cell_type": "markdown",
   "id": "49e29771",
   "metadata": {
    "lang": "en"
   },
   "source": [
    "## Command line arguments\n",
    "\n",
    "Add a `__main__.py` file to your implementation and edit\n",
    "create the following command line arguments using the Typer library:\n",
    "\n",
    "- `create file`: creates `file` as an empty file\n",
    "\n",
    "- `add file title --priority priority` adds a new todo item to `file`. `title` is a mandatory argument, `prioprity` is\n",
    "  optional\n",
    "\n",
    "- `delete file title` deletes the first todo item with title `title` from the\n",
    "  todo list\n",
    "\n",
    "- `mark-completed file title` marks the first todo item with title `title`\n",
    "  as done\n",
    "\n",
    "- `delete-all-completed file` removes all completed items from `file`\n",
    "\n",
    "- `list file` prints the TODO list\n",
    "\n",
    "- The positional argument `file`, which occurs in all subcommands,\n",
    "  names a file in which a TODO list is stored or\n",
    "  can be saved. This argument must be specified. The content\n",
    "  from `file` is a todo list in `pickle` format.\n",
    "\n",
    "- Each command should (if applicable) first load the contents of `file`, perform the\n",
    "  necessary changes, and then save the changes back to `file`.\n",
    "\n",
    "Example calls:\n",
    "\n",
    "```shell\n",
    "$ python -m todos create my-todos.pkl\n",
    "$ python -m todos add my-todos.pkl 'Buy apples' --priority 1\n",
    "$ python -m todos list my-todos.pkl\n",
    "Todo List:\n",
    "  Buy apples, priority 1\n",
    "$ python -m todos add my-todos.pkl 'Read newspaper' --priority 2\n",
    "$ python -m todos mark-completed my-todos.pkl 'Read newspaper'\n",
    "$ python -m todos list my-todos.pkl\n",
    "```"
   ]
  },
  {
   "cell_type": "code",
   "execution_count": null,
   "id": "061a6707",
   "metadata": {
    "tags": [
     "keep"
    ]
   },
   "outputs": [],
   "source": []
  },
  {
   "cell_type": "markdown",
   "id": "8a87b7d3",
   "metadata": {
    "lang": "en"
   },
   "source": [
    "## Packaging\n",
    "\n",
    "Add a `setup.cfg` file and any other required files\n",
    "to your project to generate a wheel file.\n",
    "\n",
    "In the `setup.cfg` file, create a script that starts your application."
   ]
  },
  {
   "cell_type": "code",
   "execution_count": null,
   "id": "07a8cb0f",
   "metadata": {
    "tags": [
     "keep"
    ]
   },
   "outputs": [],
   "source": []
  }
 ],
 "metadata": {
  "kernelspec": {
   "display_name": "Python 3 (ipykernel)",
   "language": "python",
   "name": "python3"
  }
 },
 "nbformat": 4,
 "nbformat_minor": 5
}
