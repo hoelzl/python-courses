{
 "cells": [
  {
   "cell_type": "markdown",
   "id": "e390ff6363f760b1",
   "metadata": {
    "lang": "en"
   },
   "source": [
    "# Todo list version 3\n",
    "\n",
    "In this workshop we want to implement a to-do list, where both the\n",
    "list itself as well as individual todo items are represented by instances of classes that encapsulate their implementation.\n",
    "\n",
    "It's a good idea to perform this workshop in an IDE, because the\n",
    "last subtasks cannot be meaningfully implemented in notebooks.\n",
    "**Write tests for each implemented method,** either\n",
    "by working in a TDD-style test-first manner or by writing a unit test immediately after\n",
    "implementing a method.\n",
    "\n",
    "Each entry in the todo list should contain the following information:\n",
    "\n",
    "- Title\n",
    "- Priority\n",
    "- Has the item already been completed or not?\n",
    "\n",
    "Define a class `TodoItem` that encapsulates this data.\n",
    "\n",
    "Implement a `__init__()` method, that gets the title as mandatory\n",
    "argument gets. Priority and \"is completed\" should be optional parameters\n",
    "with default values 1 and `False`, respectively.\n",
    "\n",
    "Implement methods `__str__(self)` and `__repr__(self)`, that\n",
    "convert the instances of the class to strings.\n",
    "\n",
    "*Notes:*\n",
    "\n",
    "- If you have already implemented V2 of the todo list workshop, copy your implementation and enhance it for this workshop, since many parts of the workshops are similar.\n",
    "- You can also use the `@dataclass` decorator to make your work easier."
   ]
  },
  {
   "cell_type": "code",
   "execution_count": null,
   "id": "1e8afce0f0e6f03b",
   "metadata": {
    "lines_to_next_cell": 2
   },
   "outputs": [],
   "source": []
  },
  {
   "cell_type": "markdown",
   "id": "1a9836629cfa0a17",
   "metadata": {
    "lang": "en"
   },
   "source": [
    "Create a list of todo items containing the following entries:\n",
    "\n",
    "- Title: Learn Python, priority 3, not done\n",
    "- Title: Buy vegetables, priority 2, not done\n",
    "- Title: Call Hans, Priority 5, Done"
   ]
  },
  {
   "cell_type": "code",
   "execution_count": null,
   "id": "df1252cc7bef7323",
   "metadata": {},
   "outputs": [],
   "source": []
  },
  {
   "cell_type": "markdown",
   "id": "0c81578001e9f17c",
   "metadata": {
    "lang": "en"
   },
   "source": [
    "Define a class `TodoList` that represents a todo list.\n",
    "\n",
    "Implement an `__init__()` method that gets a list of\n",
    "`TodoItem` instances as arguments.\n",
    "\n",
    "Add the following methods:\n",
    "\n",
    "- `add(self, title: str, priority: int, is_completed: bool)` which creates a new\n",
    "  todo item and adds it to the todo list. Use appropriate default values for\n",
    "  `priority` and `is_completed`.\n",
    "\n",
    "- `mark_done(self, title)`, which finds the first todo item in the list that has a matching title and is not yet marked as done, and marks this item as done.\n",
    "\n",
    "- `delete(self, title)`, which deletes the first todo item in the list\n",
    "  that has `title` as title.\n",
    "\n",
    "- `delete_all_completed(self)`, which deletes all completed items from the list.\n",
    "\n",
    "- `__str__(self)` and `__repr__(self)`.\n",
    "\n",
    "- `__iter__(self)` that returns a generator for all items, so that a `for` loop can\n",
    "  iterate over all items in the list."
   ]
  },
  {
   "cell_type": "code",
   "execution_count": null,
   "id": "4afb8601f5604487",
   "metadata": {},
   "outputs": [],
   "source": []
  },
  {
   "cell_type": "markdown",
   "id": "fb672368e4a57f5b",
   "metadata": {
    "lang": "en"
   },
   "source": [
    "Create a todo list `todos` with todo items, the following entries\n",
    " contains:\n",
    "\n",
    "- Title: Learn Python, priority 3, not done\n",
    "- Title: Buy vegetables, priority 2, not done\n",
    "- Title: Call Hans, Priority 5, Done"
   ]
  },
  {
   "cell_type": "code",
   "execution_count": null,
   "id": "d5f4839d0612060e",
   "metadata": {
    "lines_to_next_cell": 2
   },
   "outputs": [],
   "source": []
  },
  {
   "cell_type": "markdown",
   "id": "9773a7157af16e4e",
   "metadata": {
    "lang": "en"
   },
   "source": [
    "Add a new todo item titled \"shovel snow\" and priority 5\n",
    "to the `todos` list."
   ]
  },
  {
   "cell_type": "code",
   "execution_count": null,
   "id": "c55d1ac8c618fc20",
   "metadata": {},
   "outputs": [],
   "source": []
  },
  {
   "cell_type": "markdown",
   "id": "a77659ff54d6bbe9",
   "metadata": {
    "lang": "en"
   },
   "source": [
    "Add two todo items with text \"Learn Python\" and priority 1 and 6\n",
    "to the todo list."
   ]
  },
  {
   "cell_type": "code",
   "execution_count": null,
   "id": "22cfb59a3aad2aeb",
   "metadata": {},
   "outputs": [],
   "source": []
  },
  {
   "cell_type": "markdown",
   "id": "ad8589f174a98771",
   "metadata": {
    "lang": "en"
   },
   "source": [
    "Mark a \"Learn Python\" todo item as done.\n",
    "How does your list look now?"
   ]
  },
  {
   "cell_type": "code",
   "execution_count": null,
   "id": "decebf0da5990914",
   "metadata": {},
   "outputs": [],
   "source": []
  },
  {
   "cell_type": "markdown",
   "id": "19e8b374a981575e",
   "metadata": {
    "lang": "en"
   },
   "source": [
    "Mark two more todo items `Learn Python` as done.\n",
    "How does your list look now?"
   ]
  },
  {
   "cell_type": "code",
   "execution_count": null,
   "id": "018a606ed8b08483",
   "metadata": {},
   "outputs": [],
   "source": []
  },
  {
   "cell_type": "markdown",
   "id": "12134d39bd3e12c5",
   "metadata": {
    "lang": "en"
   },
   "source": [
    "Add a method `delete_todo_item(todo_list, title)` to your `TodoList` class\n",
    "which deletes the first todo item in `todo_list` with title `title`.\n",
    "\n",
    "*Caution: You should not enter any entries while iterating over a list\n",
    "remove or insert!*"
   ]
  },
  {
   "cell_type": "code",
   "execution_count": null,
   "id": "efd7da0d2ffede98",
   "metadata": {
    "lines_to_next_cell": 2
   },
   "outputs": [],
   "source": []
  },
  {
   "cell_type": "markdown",
   "id": "d6099f0ee682f43d",
   "metadata": {
    "lang": "en"
   },
   "source": [
    "## Loading and saving\n",
    "\n",
    "Add a method\n",
    "\n",
    "```save_to_file(self, file)```\n",
    "\n",
    "to the `TodoList` class, and add a static method\n",
    "\n",
    "```load_from_file(file)```\n",
    "\n",
    "with which to-do lists can be saved and loaded.\n",
    "\n",
    "*Note:* The easiest way is with the `pickle` library."
   ]
  },
  {
   "cell_type": "markdown",
   "id": "8c236ef65599df46",
   "metadata": {
    "lang": "en"
   },
   "source": [
    "## Command line arguments\n",
    "\n",
    "Add a `__main__.py` file to your implementation and edit\n",
    "create the following command line arguments using the Typer library:\n",
    "\n",
    "- `create file`: creates `file` as an empty file\n",
    "\n",
    "- `add file title --priority priority` adds a new todo item to `file`. `title` is a mandatory argument, `prioprity` is\n",
    "  optional\n",
    "\n",
    "- `delete file title` deletes the first todo item with title `title` from the\n",
    "  todo list\n",
    "\n",
    "- `mark-completed file title` marks the first todo item with title `title`\n",
    "  as done\n",
    "\n",
    "- `delete-all-completed file` removes all completed items from `file`\n",
    "\n",
    "- `list file` prints the TODO list\n",
    "\n",
    "- The positional argument `file`, which occurs in all subcommands,\n",
    "  names a file in which a TODO list is stored or\n",
    "  can be saved. This argument must be specified. The content\n",
    "  from `file` is a todo list in `pickle` format.\n",
    "\n",
    "- Each command should (if applicable) first load the contents of `file`, perform the\n",
    "  necessary changes, and then save the changes back to `file`.\n",
    "\n",
    "Example calls:\n",
    "\n",
    "```shell\n",
    "$ python -m todos create my-todos.pkl\n",
    "$ python -m todos add my-todos.pkl 'Buy apples' --priority 1\n",
    "$ python -m todos list my-todos.pkl\n",
    "Todo List:\n",
    "  Buy apples, priority 1\n",
    "$ python -m todos add my-todos.pkl 'Read newspaper' --priority 2\n",
    "$ python -m todos mark-completed my-todos.pkl 'Read newspaper'\n",
    "$ python -m todos list my-todos.pkl\n",
    "```"
   ]
  },
  {
   "cell_type": "code",
   "execution_count": null,
   "id": "6b4e03423667dbb7",
   "metadata": {
    "tags": [
     "keep"
    ]
   },
   "outputs": [],
   "source": []
  },
  {
   "cell_type": "markdown",
   "id": "0318bc8f177c7cd6",
   "metadata": {
    "lang": "en"
   },
   "source": [
    "## Packaging\n",
    "\n",
    "Add a `setup.cfg` file and any other required files\n",
    "to your project to generate a wheel file.\n",
    "\n",
    "In the `setup.cfg` file, create a script that starts your application."
   ]
  },
  {
   "cell_type": "code",
   "execution_count": null,
   "id": "47a8858dd56efa0f",
   "metadata": {
    "tags": [
     "keep"
    ]
   },
   "outputs": [],
   "source": []
  }
 ],
 "metadata": {
  "kernelspec": {
   "display_name": "Python 3 (ipykernel)",
   "language": "python",
   "name": "python3"
  }
 },
 "nbformat": 4,
 "nbformat_minor": 5
}
