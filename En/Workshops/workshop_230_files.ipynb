{
 "cells": [
  {
   "cell_type": "markdown",
   "id": "4663caea",
   "metadata": {
    "lang": "en"
   },
   "source": [
    "# Reading and writing to files\n",
    "\n",
    "Write a function `write_text_to_file(text: str, file_name: str) -> None`, which writes the string `text` to the file `file_name` if the file *does not* exist and throws an exception of type `FileExistsError`,\n",
    "if the file exists.\n",
    "\n",
    "*Note:* Note the possible values for the `mode` argument of `open()`."
   ]
  },
  {
   "cell_type": "code",
   "execution_count": null,
   "id": "8b4711e7",
   "metadata": {},
   "outputs": [],
   "source": []
  },
  {
   "cell_type": "markdown",
   "id": "f2773a8d",
   "metadata": {
    "lang": "en"
   },
   "source": [
    "Test the function by trying to write the text `Python 3.8` to the file `my-private-file.txt` twice in a row."
   ]
  },
  {
   "cell_type": "code",
   "execution_count": null,
   "id": "f0f63bfd",
   "metadata": {},
   "outputs": [],
   "source": []
  },
  {
   "cell_type": "code",
   "execution_count": null,
   "id": "99a91c5b",
   "metadata": {},
   "outputs": [],
   "source": []
  },
  {
   "cell_type": "markdown",
   "id": "7e771463",
   "metadata": {
    "lang": "en"
   },
   "source": [
    "Write a function `annotate_file(file_name: str) -> None` which\n",
    "- prints out the content of the file `file_name` followed by the text `(annotated version)`\n",
    "  if the file exists\n",
    "- prints out the text `No file found, we will bill the time we spent searching.`\n",
    "  if the file doesn't exist\n",
    "\n",
    "In both cases the text `Our invoice will be sent by mail.` is printed out."
   ]
  },
  {
   "cell_type": "code",
   "execution_count": null,
   "id": "90c04042",
   "metadata": {},
   "outputs": [],
   "source": []
  },
  {
   "cell_type": "code",
   "execution_count": null,
   "id": "a2fab788",
   "metadata": {},
   "outputs": [],
   "source": []
  },
  {
   "cell_type": "code",
   "execution_count": null,
   "id": "53ca0f90",
   "metadata": {},
   "outputs": [],
   "source": []
  }
 ],
 "metadata": {
  "kernelspec": {
   "display_name": "Python 3 (ipykernel)",
   "language": "python",
   "name": "python3"
  }
 },
 "nbformat": 4,
 "nbformat_minor": 5
}
