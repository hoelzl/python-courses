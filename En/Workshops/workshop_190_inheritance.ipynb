{
 "cells": [
  {
   "cell_type": "markdown",
   "id": "af0b81bc",
   "metadata": {
    "lang": "en"
   },
   "source": [
    "# Inheritance\n",
    "\n",
    "In the following we will implement a class hierarchy for employees of a company:\n",
    "\n",
    "- Employees can be either workers or managers\n",
    "- Each employee of the company has a name, a personnel number and a\n",
    "  base salary\n",
    "- For each worker, the accumulated overtime and the hourly wage\n",
    "  are stored in attributes.\n",
    "- A worker's salary is calculated as 13/12 times the\n",
    "  base salary plus overtime pay\n",
    "- Each manager has an individual bonus\n",
    "- A manager's salary is calculated as 13/12 times the\n",
    "  base salary plus bonus\n",
    "\n",
    "Implement Python classes `Employee`, `Worker` and `Manager` with\n",
    "appropriate attributes and a method `salary()` that calculates the salary."
   ]
  },
  {
   "cell_type": "code",
   "execution_count": null,
   "id": "cf989e72",
   "metadata": {
    "lines_to_next_cell": 1
   },
   "outputs": [],
   "source": []
  },
  {
   "cell_type": "code",
   "execution_count": null,
   "id": "5d9a97ef",
   "metadata": {},
   "outputs": [],
   "source": []
  },
  {
   "cell_type": "code",
   "execution_count": null,
   "id": "d643bfe5",
   "metadata": {},
   "outputs": [],
   "source": []
  },
  {
   "cell_type": "code",
   "execution_count": null,
   "id": "448bd272",
   "metadata": {},
   "outputs": [],
   "source": []
  },
  {
   "cell_type": "markdown",
   "id": "395b002b",
   "metadata": {
    "lang": "en"
   },
   "source": [
    "Create a worker named Hans, personnel number 123, a base salary of 36000.0 Euros, who worked 3.5 hours of overtime at 40.0 euros each. Print out the salary."
   ]
  },
  {
   "cell_type": "code",
   "execution_count": null,
   "id": "afadccc6",
   "metadata": {},
   "outputs": [],
   "source": []
  },
  {
   "cell_type": "markdown",
   "id": "3aa45dc3",
   "metadata": {
    "lang": "en"
   },
   "source": [
    "Write assertions to test the functionality of the class `Worker`."
   ]
  },
  {
   "cell_type": "code",
   "execution_count": null,
   "id": "80a83b06",
   "metadata": {},
   "outputs": [],
   "source": []
  },
  {
   "cell_type": "markdown",
   "id": "807ae4e3",
   "metadata": {
    "lang": "en"
   },
   "source": [
    "Create a manager named Sepp, personnel number 666, who is a\n",
    "base salary of 60000.0 euros and a bonus of 30000.0 euros. Print out\n",
    "the salary."
   ]
  },
  {
   "cell_type": "code",
   "execution_count": null,
   "id": "aebf7d92",
   "metadata": {},
   "outputs": [],
   "source": []
  },
  {
   "cell_type": "markdown",
   "id": "770368a2",
   "metadata": {
    "lang": "en"
   },
   "source": [
    "Test the functionality of the class `Manager`."
   ]
  },
  {
   "cell_type": "code",
   "execution_count": null,
   "id": "007decaa",
   "metadata": {},
   "outputs": [],
   "source": []
  },
  {
   "cell_type": "markdown",
   "id": "0f1d3e09",
   "metadata": {
    "lang": "en"
   },
   "source": [
    "## Solution without dataclasses:"
   ]
  },
  {
   "cell_type": "code",
   "execution_count": null,
   "id": "552949d7",
   "metadata": {},
   "outputs": [],
   "source": []
  },
  {
   "cell_type": "code",
   "execution_count": null,
   "id": "cf2d117b",
   "metadata": {},
   "outputs": [],
   "source": []
  },
  {
   "cell_type": "code",
   "execution_count": null,
   "id": "8c82c7b7",
   "metadata": {},
   "outputs": [],
   "source": []
  },
  {
   "cell_type": "code",
   "execution_count": null,
   "id": "b8091c4f",
   "metadata": {},
   "outputs": [],
   "source": []
  },
  {
   "cell_type": "code",
   "execution_count": null,
   "id": "43c3fa27",
   "metadata": {
    "lines_to_next_cell": 2
   },
   "outputs": [],
   "source": []
  },
  {
   "cell_type": "markdown",
   "id": "59c1ee13",
   "metadata": {
    "lang": "en"
   },
   "source": [
    "# Bank accounts\n",
    "\n",
    "Define a class `BankAccount` with an attribute `balance: float`\n",
    "and methods `deposit(amount: float)` and `withdraw(amount: float)`.\n",
    "\n",
    "*Note: For a more realistic implementation, `decimal.Decimal`\n",
    "can be used instead of `float`.*\n",
    "\n",
    "The class should throw an exception of type `ValueError` in the following cases:\n",
    "\n",
    "- If a new `BankAccount` with a negative `balance` is created.\n",
    "- If `deposit` is called with a negative value.\n",
    "- When `withdraw` is called with a negative value if by withdrawing the desired amount the `balance` attribute of the account would become negative."
   ]
  },
  {
   "cell_type": "code",
   "execution_count": null,
   "id": "51c838d9",
   "metadata": {},
   "outputs": [],
   "source": []
  },
  {
   "cell_type": "markdown",
   "id": "cac15156",
   "metadata": {
    "lang": "en"
   },
   "source": [
    "Test the functionality of the class for both successful transactions, as well as for transactions that throw exceptions."
   ]
  },
  {
   "cell_type": "code",
   "execution_count": null,
   "id": "f65d5022",
   "metadata": {},
   "outputs": [],
   "source": []
  },
  {
   "cell_type": "code",
   "execution_count": null,
   "id": "28df9231",
   "metadata": {},
   "outputs": [],
   "source": []
  },
  {
   "cell_type": "code",
   "execution_count": null,
   "id": "27a9bc0a",
   "metadata": {},
   "outputs": [],
   "source": []
  },
  {
   "cell_type": "code",
   "execution_count": null,
   "id": "c6038422",
   "metadata": {},
   "outputs": [],
   "source": []
  },
  {
   "cell_type": "code",
   "execution_count": null,
   "id": "c42c4c70",
   "metadata": {},
   "outputs": [],
   "source": []
  },
  {
   "cell_type": "code",
   "execution_count": null,
   "id": "a46d2b4b",
   "metadata": {},
   "outputs": [],
   "source": []
  },
  {
   "cell_type": "code",
   "execution_count": null,
   "id": "5949b228",
   "metadata": {},
   "outputs": [],
   "source": []
  },
  {
   "cell_type": "code",
   "execution_count": null,
   "id": "8c99eea4",
   "metadata": {},
   "outputs": [],
   "source": []
  },
  {
   "cell_type": "markdown",
   "id": "977fb230",
   "metadata": {
    "lang": "en"
   },
   "source": [
    "## Solution without dataclasses:"
   ]
  },
  {
   "cell_type": "code",
   "execution_count": null,
   "id": "193d06a5",
   "metadata": {},
   "outputs": [],
   "source": []
  },
  {
   "cell_type": "code",
   "execution_count": null,
   "id": "147d69e2",
   "metadata": {},
   "outputs": [],
   "source": []
  },
  {
   "cell_type": "code",
   "execution_count": null,
   "id": "be6d49ac",
   "metadata": {},
   "outputs": [],
   "source": []
  },
  {
   "cell_type": "code",
   "execution_count": null,
   "id": "c7de9ada",
   "metadata": {},
   "outputs": [],
   "source": []
  },
  {
   "cell_type": "code",
   "execution_count": null,
   "id": "a74f75cf",
   "metadata": {},
   "outputs": [],
   "source": []
  },
  {
   "cell_type": "code",
   "execution_count": null,
   "id": "fc04250f",
   "metadata": {},
   "outputs": [],
   "source": []
  },
  {
   "cell_type": "code",
   "execution_count": null,
   "id": "ced2646e",
   "metadata": {},
   "outputs": [],
   "source": []
  },
  {
   "cell_type": "code",
   "execution_count": null,
   "id": "40757a78",
   "metadata": {},
   "outputs": [],
   "source": []
  },
  {
   "cell_type": "code",
   "execution_count": null,
   "id": "9a10ebcc",
   "metadata": {},
   "outputs": [],
   "source": []
  },
  {
   "cell_type": "markdown",
   "id": "e154218d",
   "metadata": {
    "lang": "en"
   },
   "source": [
    "# Protocols\n",
    "\n",
    "Implement a runtime checkable protocol `SupportsConnect`,\n",
    "which describes instances of classes that have a method `connect(self, device)`."
   ]
  },
  {
   "cell_type": "code",
   "execution_count": null,
   "id": "1b58861c",
   "metadata": {
    "lines_to_next_cell": 1
   },
   "outputs": [],
   "source": []
  },
  {
   "cell_type": "code",
   "execution_count": null,
   "id": "a877cc6e",
   "metadata": {},
   "outputs": [],
   "source": []
  },
  {
   "cell_type": "markdown",
   "id": "d240a246",
   "metadata": {
    "lang": "en"
   },
   "source": [
    "Implement classes `Plugboard` and `PatchCord` that support the `SupportsConnect` protocol."
   ]
  },
  {
   "cell_type": "code",
   "execution_count": null,
   "id": "e71dbb42",
   "metadata": {
    "lines_to_next_cell": 1
   },
   "outputs": [],
   "source": []
  },
  {
   "cell_type": "code",
   "execution_count": null,
   "id": "d40fad64",
   "metadata": {
    "lines_to_next_cell": 1
   },
   "outputs": [],
   "source": []
  },
  {
   "cell_type": "code",
   "execution_count": null,
   "id": "9f0ca8f2",
   "metadata": {
    "lines_to_next_cell": 1
   },
   "outputs": [],
   "source": []
  },
  {
   "cell_type": "code",
   "execution_count": null,
   "id": "afcdd8a6",
   "metadata": {
    "lines_to_next_cell": 1
   },
   "outputs": [],
   "source": []
  },
  {
   "cell_type": "markdown",
   "id": "fccd8e30",
   "metadata": {
    "lang": "en"
   },
   "source": [
    "Does the following class comply with the `SupportsConnect` protocol? Is it possible to determine this at runtime?"
   ]
  },
  {
   "cell_type": "code",
   "execution_count": null,
   "id": "c0b95275",
   "metadata": {
    "lines_to_next_cell": 1,
    "tags": [
     "keep"
    ]
   },
   "outputs": [],
   "source": [
    "class SelfConnector:\n",
    "    def connect(self):\n",
    "        print(\"Connecting to self!\")"
   ]
  },
  {
   "cell_type": "code",
   "execution_count": null,
   "id": "9e025532",
   "metadata": {},
   "outputs": [],
   "source": []
  },
  {
   "cell_type": "code",
   "execution_count": null,
   "id": "47b62e62",
   "metadata": {
    "tags": [
     "keep"
    ]
   },
   "outputs": [],
   "source": []
  }
 ],
 "metadata": {
  "kernelspec": {
   "display_name": "Python 3 (ipykernel)",
   "language": "python",
   "name": "python3"
  }
 },
 "nbformat": 4,
 "nbformat_minor": 5
}
