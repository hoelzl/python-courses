{
 "cells": [
  {
   "cell_type": "markdown",
   "id": "1153a757",
   "metadata": {
    "lang": "en"
   },
   "source": [
    "# Quiz\n",
    "\n",
    "We want to implement a quiz in Python.\n",
    "\n",
    "Although it is possible to start implementing it in a notebook it would be\n",
    "better to start this project in an IDE and use the notebook only for\n",
    "instructions, since the later parts are easier to implement in an IDE.\n",
    "\n",
    "Define a class `Question` representing a single questions and multiple correct\n",
    "answers. The attributes of the class are:\n",
    "\n",
    "- A string `text` representing the text of the question.\n",
    "- A list of strings `answers` representing the correct answers.\n",
    "\n",
    "`Question` has the following methods:\n",
    "\n",
    "- `is_answer_correct(self, answer: str)`: checks whether the string `answer`\n",
    "  is a correct answer to the question.\n",
    "- `correct_answer(self)`: Returns one of the correct answers."
   ]
  },
  {
   "cell_type": "code",
   "execution_count": null,
   "id": "a96d948a",
   "metadata": {},
   "outputs": [],
   "source": []
  },
  {
   "cell_type": "markdown",
   "id": "a918bb25",
   "metadata": {
    "lang": "en"
   },
   "source": [
    "Test the class (interactively if you did the assignment in the notebook, else with\n",
    "pytest)"
   ]
  },
  {
   "cell_type": "code",
   "execution_count": null,
   "id": "3fda1967",
   "metadata": {},
   "outputs": [],
   "source": []
  },
  {
   "cell_type": "code",
   "execution_count": null,
   "id": "6d320223",
   "metadata": {},
   "outputs": [],
   "source": []
  },
  {
   "cell_type": "code",
   "execution_count": null,
   "id": "a19b969a",
   "metadata": {},
   "outputs": [],
   "source": []
  },
  {
   "cell_type": "markdown",
   "id": "a6e76452",
   "metadata": {
    "lang": "en"
   },
   "source": [
    "Now implement a class `TriviaGame` that has a list of\n",
    "`Question` instances and has a `run(self)` method that\n",
    "\n",
    "- randomly selects a question,\n",
    "- outputs the question text on the screen,\n",
    "- asks the user for their answer,\n",
    "- checks the user's answer and\n",
    "- outputs a text whether the answer was right or wrong.\n",
    "\n",
    "An empty input should abort the game. At the end of the game the\n",
    "number of questions answered and the percentage of correct\n",
    "answers are printed out.\n",
    "\n",
    "*Note:* It's a good idea to implement some helper methods that\n",
    "*Take over part of the functionality of `run()`. An option would be\n",
    "\n",
    "- `percentage_questions_answered_correctly(self)` returns the percentage of\n",
    "  correctly answered questions. (Pay attention to the case that the\n",
    "  user did not answer a question). For this method, an implementation as property\n",
    "  might be appropriate.\n",
    "\n",
    "- `pick_random_question(self)` randomly selects one of the questions. The\n",
    "  `random.choice()` function is very helpful for this\n",
    "\n",
    "- `query_user_for_answer(self, question: Question)` asks the user for an answer and\n",
    "  returns it\n",
    "\n",
    "- `process_answer(self, question: Question, answer: str)` , evaluates the answer\n",
    "  and returns a \"status code\" with one of the following meanings:\n",
    "\n",
    "  - The question was answered correctly.\n",
    "  - The question was answered incorrectly.\n",
    "  - The player wants to end the game.\n",
    "\n",
    "- `print_reply()` prints out a reply based on the question and the\n",
    "  \"Status Code\"."
   ]
  },
  {
   "cell_type": "code",
   "execution_count": null,
   "id": "e9c26c8c",
   "metadata": {},
   "outputs": [],
   "source": []
  },
  {
   "cell_type": "code",
   "execution_count": null,
   "id": "20b7c117",
   "metadata": {},
   "outputs": [],
   "source": []
  },
  {
   "cell_type": "code",
   "execution_count": null,
   "id": "609d5807",
   "metadata": {},
   "outputs": [],
   "source": []
  },
  {
   "cell_type": "code",
   "execution_count": null,
   "id": "2b15a070",
   "metadata": {},
   "outputs": [],
   "source": []
  },
  {
   "cell_type": "code",
   "execution_count": null,
   "id": "812b4deb",
   "metadata": {},
   "outputs": [],
   "source": []
  }
 ],
 "metadata": {
  "kernelspec": {
   "display_name": "Python 3 (ipykernel)",
   "language": "python",
   "name": "python3"
  }
 },
 "nbformat": 4,
 "nbformat_minor": 5
}
