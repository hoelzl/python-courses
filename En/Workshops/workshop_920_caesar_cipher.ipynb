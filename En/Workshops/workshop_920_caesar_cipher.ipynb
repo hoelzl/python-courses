{
 "cells": [
  {
   "cell_type": "markdown",
   "id": "5f8b8639",
   "metadata": {
    "lang": "en"
   },
   "source": [
    "## Caesar encryption\n",
    "\n",
    "Caesar encryption shifts each letter of the to-be-encrypted word\n",
    "in the alphabet by 3 places, e.g. the character string\n",
    "`ABC` becomes the string `DEF`. The last three letters of the alphabet\n",
    "are replaced by the first ones, i.e. `XYZA` becomes `ABCD`.\n",
    "\n",
    "Typically, in historical encryption methods, all\n",
    "letters are converted to uppercase, spaces and special characters are\n",
    "ignored. So after encrypting, the text \"I came, saw and conquered.\" becomes\n",
    "\n",
    "```\n",
    "LFKNDPVDKXQGVLHJWH\n",
    "```"
   ]
  },
  {
   "cell_type": "markdown",
   "id": "447362af",
   "metadata": {
    "lang": "en"
   },
   "source": [
    "Write a function `encode_char(c: str)` that takes a string `c`\n",
    "consisting of a single character and encodes it as follows:\n",
    "\n",
    "- if `c` is one of the letters `a` to `z` or `A` to `Z` then it is, if\n",
    "  necessary, converted to a capital letter and encrypted using the Caesar\n",
    "  cipher;\n",
    "- if `c` is a digit, it is returned unchanged;\n",
    "- otherwise the empty string `\"\"` is returned.\n",
    "\n",
    "*Note:* The following two strings are helpful:"
   ]
  },
  {
   "cell_type": "code",
   "execution_count": null,
   "id": "8c1e8a87",
   "metadata": {},
   "outputs": [],
   "source": []
  },
  {
   "cell_type": "code",
   "execution_count": null,
   "id": "a118fae5",
   "metadata": {},
   "outputs": [],
   "source": []
  },
  {
   "cell_type": "markdown",
   "id": "d2e7de6b",
   "metadata": {
    "lang": "en"
   },
   "source": [
    "Test your implementation with some values"
   ]
  },
  {
   "cell_type": "code",
   "execution_count": null,
   "id": "c5890b90",
   "metadata": {},
   "outputs": [],
   "source": []
  },
  {
   "cell_type": "code",
   "execution_count": null,
   "id": "bbf0ccbf",
   "metadata": {},
   "outputs": [],
   "source": []
  },
  {
   "cell_type": "code",
   "execution_count": null,
   "id": "1a0ba250",
   "metadata": {},
   "outputs": [],
   "source": []
  },
  {
   "cell_type": "code",
   "execution_count": null,
   "id": "12d2941c",
   "metadata": {},
   "outputs": [],
   "source": []
  },
  {
   "cell_type": "markdown",
   "id": "38f94eb2",
   "metadata": {
    "lang": "en"
   },
   "source": [
    "Write a function `encode_caesar(text: str)` that takes a string\n",
    "`text` and encrypts it using Caesar encryption."
   ]
  },
  {
   "cell_type": "code",
   "execution_count": null,
   "id": "35d20d8e",
   "metadata": {},
   "outputs": [],
   "source": []
  },
  {
   "cell_type": "markdown",
   "id": "3e3625ca",
   "metadata": {
    "lang": "en"
   },
   "source": [
    "Check your program with the following examples:"
   ]
  },
  {
   "cell_type": "code",
   "execution_count": null,
   "id": "e8155d6a",
   "metadata": {},
   "outputs": [],
   "source": []
  },
  {
   "cell_type": "code",
   "execution_count": null,
   "id": "5ae717b9",
   "metadata": {},
   "outputs": [],
   "source": []
  },
  {
   "cell_type": "code",
   "execution_count": null,
   "id": "9b2e6b05",
   "metadata": {},
   "outputs": [],
   "source": []
  },
  {
   "cell_type": "code",
   "execution_count": null,
   "id": "a97ec69d",
   "metadata": {},
   "outputs": [],
   "source": []
  },
  {
   "cell_type": "markdown",
   "id": "c19685df",
   "metadata": {
    "lang": "en"
   },
   "source": [
    "Now write functions `decode_char(c: str)` and `decode_caesar(text: str)`\n",
    "that decrypt a text encrypted with the Caesar cipher. To be robust, these functions should return characters, that aren't letters or digits, unchanged."
   ]
  },
  {
   "cell_type": "code",
   "execution_count": null,
   "id": "3734f64e",
   "metadata": {},
   "outputs": [],
   "source": []
  },
  {
   "cell_type": "code",
   "execution_count": null,
   "id": "4d043018",
   "metadata": {},
   "outputs": [],
   "source": []
  },
  {
   "cell_type": "code",
   "execution_count": null,
   "id": "cc3b159c",
   "metadata": {},
   "outputs": [],
   "source": []
  },
  {
   "cell_type": "markdown",
   "id": "654c3664",
   "metadata": {
    "lang": "en"
   },
   "source": [
    "Test `decode_caesar()` with `pangram` and `verlaine`."
   ]
  },
  {
   "cell_type": "code",
   "execution_count": null,
   "id": "65757f0f",
   "metadata": {},
   "outputs": [],
   "source": []
  },
  {
   "cell_type": "code",
   "execution_count": null,
   "id": "f89d1117",
   "metadata": {},
   "outputs": [],
   "source": []
  },
  {
   "cell_type": "code",
   "execution_count": null,
   "id": "7079b6ea",
   "metadata": {},
   "outputs": [],
   "source": []
  },
  {
   "cell_type": "code",
   "execution_count": null,
   "id": "bce667ed",
   "metadata": {},
   "outputs": [],
   "source": []
  },
  {
   "cell_type": "markdown",
   "id": "3d254981",
   "metadata": {
    "lang": "en"
   },
   "source": [
    "Decrypt the following text:\n",
    "```\n",
    "SDFN PB ERA ZLWK ILYH GRCHQ OLTXRU MXJV\n",
    "(SDQJUDP IURP QDVD'V VSDFH VKXWWOH SURJUDP)\n",
    "```"
   ]
  },
  {
   "cell_type": "code",
   "execution_count": null,
   "id": "253ffbed",
   "metadata": {},
   "outputs": [],
   "source": []
  },
  {
   "cell_type": "markdown",
   "id": "1382fdf9",
   "metadata": {
    "lang": "en"
   },
   "source": [
    "The functions `encode_char()` and `decode_char()` contain a lot of duplicated\n",
    "code. Can you write a function `rot_n_char(...)` that generalizes the\n",
    "functionality of both functions?"
   ]
  },
  {
   "cell_type": "code",
   "execution_count": null,
   "id": "c3017b15",
   "metadata": {},
   "outputs": [],
   "source": []
  },
  {
   "cell_type": "markdown",
   "id": "809890da",
   "metadata": {
    "lang": "en"
   },
   "source": [
    "How can you implement `encode_caesar_2()` and `decode_caesar_2()` \n",
    "using `rot_n_char()`?"
   ]
  },
  {
   "cell_type": "code",
   "execution_count": null,
   "id": "b1cee05c",
   "metadata": {},
   "outputs": [],
   "source": []
  },
  {
   "cell_type": "code",
   "execution_count": null,
   "id": "e9dea6fb",
   "metadata": {},
   "outputs": [],
   "source": []
  },
  {
   "cell_type": "markdown",
   "id": "f2e4c410",
   "metadata": {
    "lang": "en"
   },
   "source": [
    "Test the new function using `secret_text` and `verlaine`.\n",
    "Are the old and new implementations compatible?"
   ]
  },
  {
   "cell_type": "code",
   "execution_count": null,
   "id": "7bc5c817",
   "metadata": {},
   "outputs": [],
   "source": []
  },
  {
   "cell_type": "code",
   "execution_count": null,
   "id": "8d2cab27",
   "metadata": {},
   "outputs": [],
   "source": []
  },
  {
   "cell_type": "code",
   "execution_count": null,
   "id": "63931068",
   "metadata": {},
   "outputs": [],
   "source": []
  },
  {
   "cell_type": "code",
   "execution_count": null,
   "id": "ae9bffa3",
   "metadata": {},
   "outputs": [],
   "source": []
  },
  {
   "cell_type": "markdown",
   "id": "947b9fed",
   "metadata": {
    "lang": "en"
   },
   "source": [
    "Decoding with the original code for the Caesar cipher may reveal a\n",
    "bug that frequently appears in the generalized implementation:\n",
    "it may mix numbers and letters. \n",
    "\n",
    "Congratulations if you managed to avoid this error!\n",
    "How can you fix this bug if it appears in your code?"
   ]
  },
  {
   "cell_type": "code",
   "execution_count": null,
   "id": "05f4142f",
   "metadata": {},
   "outputs": [],
   "source": []
  },
  {
   "cell_type": "code",
   "execution_count": null,
   "id": "ddd13aed",
   "metadata": {},
   "outputs": [],
   "source": []
  },
  {
   "cell_type": "markdown",
   "id": "7e41669c",
   "metadata": {
    "lang": "en"
   },
   "source": [
    "Test the new implementation by decoding `secret_text`."
   ]
  },
  {
   "cell_type": "code",
   "execution_count": null,
   "id": "ddd43a55",
   "metadata": {},
   "outputs": [],
   "source": []
  },
  {
   "cell_type": "markdown",
   "id": "992cf064",
   "metadata": {
    "lang": "en"
   },
   "source": [
    "Test the new implementation with `verlaine`."
   ]
  },
  {
   "cell_type": "code",
   "execution_count": null,
   "id": "2639f6cc",
   "metadata": {},
   "outputs": [],
   "source": []
  },
  {
   "cell_type": "code",
   "execution_count": null,
   "id": "214c26a7",
   "metadata": {},
   "outputs": [],
   "source": []
  },
  {
   "cell_type": "code",
   "execution_count": null,
   "id": "ccfbf5f3",
   "metadata": {},
   "outputs": [],
   "source": []
  },
  {
   "cell_type": "code",
   "execution_count": null,
   "id": "d4cef286",
   "metadata": {},
   "outputs": [],
   "source": []
  },
  {
   "cell_type": "code",
   "execution_count": null,
   "id": "b0140588",
   "metadata": {
    "tags": [
     "keep"
    ]
   },
   "outputs": [],
   "source": []
  }
 ],
 "metadata": {
  "kernelspec": {
   "display_name": "Python 3 (ipykernel)",
   "language": "python",
   "name": "python3"
  }
 },
 "nbformat": 4,
 "nbformat_minor": 5
}
