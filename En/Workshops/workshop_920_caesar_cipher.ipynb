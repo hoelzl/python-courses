{
 "cells": [
  {
   "cell_type": "markdown",
   "id": "c3e90f9e9c341cd6",
   "metadata": {
    "lang": "en"
   },
   "source": [
    "## Caesar encryption\n",
    "\n",
    "Caesar encryption shifts each letter of the to-be-encrypted word\n",
    "in the alphabet by 3 places, e.g. the character string\n",
    "`ABC` becomes the string `DEF`. The last three letters of the alphabet\n",
    "are replaced by the first ones, i.e. `XYZA` becomes `ABCD`.\n",
    "\n",
    "Typically, in historical encryption methods, all\n",
    "letters are converted to uppercase, spaces and special characters are\n",
    "ignored. So after encrypting, the text \"I came, saw and conquered.\" becomes\n",
    "\n",
    "```\n",
    "LFKNDPVDKXQGVLHJWH\n",
    "```"
   ]
  },
  {
   "cell_type": "markdown",
   "id": "85d2f1d0e9d943fd",
   "metadata": {
    "lang": "en"
   },
   "source": [
    "Write a function `encode_char(c: str)` that takes a string `c`\n",
    "consisting of a single character and encodes it as follows:\n",
    "\n",
    "- if `c` is one of the letters `a` to `z` or `A` to `Z` then it is, if\n",
    "  necessary, converted to a capital letter and encrypted using the Caesar\n",
    "  cipher;\n",
    "- if `c` is a digit, it is returned unchanged;\n",
    "- otherwise the empty string `\"\"` is returned.\n",
    "\n",
    "*Note:* The following two strings are helpful:"
   ]
  },
  {
   "cell_type": "code",
   "execution_count": null,
   "id": "c56b3064415cfc42",
   "metadata": {},
   "outputs": [],
   "source": []
  },
  {
   "cell_type": "code",
   "execution_count": null,
   "id": "68d0089dad27171f",
   "metadata": {},
   "outputs": [],
   "source": []
  },
  {
   "cell_type": "markdown",
   "id": "70703f4fbe712c2f",
   "metadata": {
    "lang": "en"
   },
   "source": [
    "Test your implementation with some values"
   ]
  },
  {
   "cell_type": "code",
   "execution_count": null,
   "id": "89b8d6d7d9633f8e",
   "metadata": {},
   "outputs": [],
   "source": []
  },
  {
   "cell_type": "code",
   "execution_count": null,
   "id": "03f81bd3130ead44",
   "metadata": {},
   "outputs": [],
   "source": []
  },
  {
   "cell_type": "code",
   "execution_count": null,
   "id": "5070fce13933a6f4",
   "metadata": {},
   "outputs": [],
   "source": []
  },
  {
   "cell_type": "code",
   "execution_count": null,
   "id": "116e81705d966ac1",
   "metadata": {},
   "outputs": [],
   "source": []
  },
  {
   "cell_type": "markdown",
   "id": "1b94de14ed1dead2",
   "metadata": {
    "lang": "en"
   },
   "source": [
    "Write a function `encode_caesar(text: str)` that takes a string\n",
    "`text` and encrypts it using Caesar encryption."
   ]
  },
  {
   "cell_type": "code",
   "execution_count": null,
   "id": "94a914b0bcf0a6c7",
   "metadata": {},
   "outputs": [],
   "source": []
  },
  {
   "cell_type": "markdown",
   "id": "0a86c19c29c3865c",
   "metadata": {
    "lang": "en"
   },
   "source": [
    "Check your program with the following examples:"
   ]
  },
  {
   "cell_type": "code",
   "execution_count": null,
   "id": "232bf96748ff60ca",
   "metadata": {},
   "outputs": [],
   "source": []
  },
  {
   "cell_type": "code",
   "execution_count": null,
   "id": "9e84b8fdd2fd9014",
   "metadata": {},
   "outputs": [],
   "source": []
  },
  {
   "cell_type": "code",
   "execution_count": null,
   "id": "1ddcd10e0cff0500",
   "metadata": {},
   "outputs": [],
   "source": []
  },
  {
   "cell_type": "code",
   "execution_count": null,
   "id": "182354b0a70ac5de",
   "metadata": {},
   "outputs": [],
   "source": []
  },
  {
   "cell_type": "markdown",
   "id": "4b9596d39334e4eb",
   "metadata": {
    "lang": "en"
   },
   "source": [
    "Now write functions `decode_char(c: str)` and `decode_caesar(text: str)`\n",
    "that decrypt a text encrypted with the Caesar cipher. To be robust, these functions should return characters, that aren't letters or digits, unchanged."
   ]
  },
  {
   "cell_type": "code",
   "execution_count": null,
   "id": "3dd5db787d7a8bbc",
   "metadata": {},
   "outputs": [],
   "source": []
  },
  {
   "cell_type": "code",
   "execution_count": null,
   "id": "319bb6c0500f781f",
   "metadata": {},
   "outputs": [],
   "source": []
  },
  {
   "cell_type": "code",
   "execution_count": null,
   "id": "4a041a24b30dd4d7",
   "metadata": {},
   "outputs": [],
   "source": []
  },
  {
   "cell_type": "markdown",
   "id": "f39b54374d469b69",
   "metadata": {
    "lang": "en"
   },
   "source": [
    "Test `decode_caesar()` with `pangram` and `verlaine`."
   ]
  },
  {
   "cell_type": "code",
   "execution_count": null,
   "id": "45459662fa01bc98",
   "metadata": {},
   "outputs": [],
   "source": []
  },
  {
   "cell_type": "code",
   "execution_count": null,
   "id": "cffe043da5d30a4c",
   "metadata": {},
   "outputs": [],
   "source": []
  },
  {
   "cell_type": "code",
   "execution_count": null,
   "id": "05f44429130d0851",
   "metadata": {},
   "outputs": [],
   "source": []
  },
  {
   "cell_type": "code",
   "execution_count": null,
   "id": "eb73e22533b0bc4a",
   "metadata": {},
   "outputs": [],
   "source": []
  },
  {
   "cell_type": "markdown",
   "id": "edcccdd82196da21",
   "metadata": {
    "lang": "en"
   },
   "source": [
    "Decrypt the following text:\n",
    "```\n",
    "SDFN PB ERA ZLWK ILYH GRCHQ OLTXRU MXJV\n",
    "(SDQJUDP IURP QDVD'V VSDFH VKXWWOH SURJUDP)\n",
    "```"
   ]
  },
  {
   "cell_type": "code",
   "execution_count": null,
   "id": "5fc805b7bb912edc",
   "metadata": {},
   "outputs": [],
   "source": []
  },
  {
   "cell_type": "markdown",
   "id": "d93ff39ed55a6c7e",
   "metadata": {
    "lang": "en"
   },
   "source": [
    "The functions `encode_char()` and `decode_char()` contain a lot of duplicated\n",
    "code. Can you write a function `rot_n_char(...)` that generalizes the\n",
    "functionality of both functions?"
   ]
  },
  {
   "cell_type": "code",
   "execution_count": null,
   "id": "d2e328188fc3f988",
   "metadata": {},
   "outputs": [],
   "source": []
  },
  {
   "cell_type": "markdown",
   "id": "52176cb9a997921f",
   "metadata": {
    "lang": "en"
   },
   "source": [
    "How can you implement `encode_caesar_2()` and `decode_caesar_2()` \n",
    "using `rot_n_char()`?"
   ]
  },
  {
   "cell_type": "code",
   "execution_count": null,
   "id": "e318fb047cf01807",
   "metadata": {},
   "outputs": [],
   "source": []
  },
  {
   "cell_type": "code",
   "execution_count": null,
   "id": "8af7f0f21b8d1e44",
   "metadata": {},
   "outputs": [],
   "source": []
  },
  {
   "cell_type": "markdown",
   "id": "8c1666000f3ae8d1",
   "metadata": {
    "lang": "en"
   },
   "source": [
    "Test the new function using `secret_text` and `verlaine`.\n",
    "Are the old and new implementations compatible?"
   ]
  },
  {
   "cell_type": "code",
   "execution_count": null,
   "id": "5ea287a8147fb89d",
   "metadata": {},
   "outputs": [],
   "source": []
  },
  {
   "cell_type": "code",
   "execution_count": null,
   "id": "83cf466da98ceba8",
   "metadata": {},
   "outputs": [],
   "source": []
  },
  {
   "cell_type": "code",
   "execution_count": null,
   "id": "720270e5533e45a4",
   "metadata": {},
   "outputs": [],
   "source": []
  },
  {
   "cell_type": "code",
   "execution_count": null,
   "id": "63327af3655ae32f",
   "metadata": {},
   "outputs": [],
   "source": []
  },
  {
   "cell_type": "markdown",
   "id": "ad2328b94e0f6d8a",
   "metadata": {
    "lang": "en"
   },
   "source": [
    "Decoding with the original code for the Caesar cipher may reveal a\n",
    "bug that frequently appears in the generalized implementation:\n",
    "it may mix numbers and letters. \n",
    "\n",
    "Congratulations if you managed to avoid this error!\n",
    "How can you fix this bug if it appears in your code?"
   ]
  },
  {
   "cell_type": "code",
   "execution_count": null,
   "id": "c92b55409122f043",
   "metadata": {},
   "outputs": [],
   "source": []
  },
  {
   "cell_type": "code",
   "execution_count": null,
   "id": "6043d5c101bdf4b7",
   "metadata": {},
   "outputs": [],
   "source": []
  },
  {
   "cell_type": "markdown",
   "id": "dd7817617ab1a059",
   "metadata": {
    "lang": "en"
   },
   "source": [
    "Test the new implementation by decoding `secret_text`."
   ]
  },
  {
   "cell_type": "code",
   "execution_count": null,
   "id": "95da20e6",
   "metadata": {},
   "outputs": [],
   "source": []
  },
  {
   "cell_type": "markdown",
   "id": "c851793689aebd4c",
   "metadata": {
    "lang": "en"
   },
   "source": [
    "Test the new implementation with `verlaine`."
   ]
  },
  {
   "cell_type": "code",
   "execution_count": null,
   "id": "a395aff0",
   "metadata": {},
   "outputs": [],
   "source": []
  },
  {
   "cell_type": "code",
   "execution_count": null,
   "id": "3b7c17d0",
   "metadata": {},
   "outputs": [],
   "source": []
  },
  {
   "cell_type": "code",
   "execution_count": null,
   "id": "3c74da3b",
   "metadata": {},
   "outputs": [],
   "source": []
  },
  {
   "cell_type": "code",
   "execution_count": null,
   "id": "42c7fa3569413679",
   "metadata": {},
   "outputs": [],
   "source": []
  },
  {
   "cell_type": "code",
   "execution_count": null,
   "id": "2c6188124c701c73",
   "metadata": {
    "tags": [
     "keep"
    ]
   },
   "outputs": [],
   "source": []
  }
 ],
 "metadata": {
  "kernelspec": {
   "display_name": "Python 3 (ipykernel)",
   "language": "python",
   "name": "python3"
  }
 },
 "nbformat": 4,
 "nbformat_minor": 5
}
