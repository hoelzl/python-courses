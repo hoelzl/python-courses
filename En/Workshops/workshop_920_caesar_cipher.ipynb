{
 "cells": [
  {
   "cell_type": "markdown",
   "id": "36ef31be",
   "metadata": {
    "lang": "en"
   },
   "source": [
    "## Caesar encryption\n",
    "\n",
    "Caesar encryption shifts each letter of the to-be-encrypted word\n",
    "in the alphabet by 3 places, e.g. the character string\n",
    "`ABC` becomes the string `DEF`. The last three letters of the alphabet\n",
    "are replaced by the first ones, i.e. `XYZA` becomes `ABCD`.\n",
    "\n",
    "Typically, in historical encryption methods, all\n",
    "letters are converted to uppercase, spaces and special characters are\n",
    "ignored. So after encrypting, the text \"I came, saw and conquered.\" becomes\n",
    "\n",
    "```\n",
    "LFKNDPVDKXQGVLHJWH\n",
    "```"
   ]
  },
  {
   "cell_type": "markdown",
   "id": "ec8fea51",
   "metadata": {
    "lang": "en"
   },
   "source": [
    "Write a function `encode_char(c: str)` that takes a string `c`\n",
    "consisting of a single character and encodes it as follows:\n",
    "\n",
    "- if `c` is one of the letters `a` to `z` or `A` to `Z` then it is, if\n",
    "  necessary, converted to a capital letter and encrypted using the Caesar\n",
    "  cipher;\n",
    "- if `c` is a digit, it is returned unchanged;\n",
    "- otherwise the empty string `\"\"` is returned.\n",
    "\n",
    "*Note:* The following two strings are helpful:"
   ]
  },
  {
   "cell_type": "code",
   "execution_count": null,
   "id": "1b07e66e",
   "metadata": {},
   "outputs": [],
   "source": []
  },
  {
   "cell_type": "code",
   "execution_count": null,
   "id": "ed5c9471",
   "metadata": {},
   "outputs": [],
   "source": []
  },
  {
   "cell_type": "markdown",
   "id": "a54ecb25",
   "metadata": {
    "lang": "en"
   },
   "source": [
    "Test your implementation with some values"
   ]
  },
  {
   "cell_type": "code",
   "execution_count": null,
   "id": "534745a1",
   "metadata": {},
   "outputs": [],
   "source": []
  },
  {
   "cell_type": "code",
   "execution_count": null,
   "id": "70406299",
   "metadata": {},
   "outputs": [],
   "source": []
  },
  {
   "cell_type": "code",
   "execution_count": null,
   "id": "c06ba5ce",
   "metadata": {},
   "outputs": [],
   "source": []
  },
  {
   "cell_type": "code",
   "execution_count": null,
   "id": "26e807a5",
   "metadata": {},
   "outputs": [],
   "source": []
  },
  {
   "cell_type": "markdown",
   "id": "e0b81f3d",
   "metadata": {
    "lang": "en"
   },
   "source": [
    "Write a function `encode_caesar(text: str)` that takes a string\n",
    "`text` and encrypts it using Caesar encryption."
   ]
  },
  {
   "cell_type": "code",
   "execution_count": null,
   "id": "35f695b4",
   "metadata": {},
   "outputs": [],
   "source": []
  },
  {
   "cell_type": "markdown",
   "id": "b65d0ac7",
   "metadata": {
    "lang": "en"
   },
   "source": [
    "Check your program with the following examples:"
   ]
  },
  {
   "cell_type": "code",
   "execution_count": null,
   "id": "d44a4e7c",
   "metadata": {},
   "outputs": [],
   "source": []
  },
  {
   "cell_type": "code",
   "execution_count": null,
   "id": "3923b0a7",
   "metadata": {},
   "outputs": [],
   "source": []
  },
  {
   "cell_type": "code",
   "execution_count": null,
   "id": "2843b03e",
   "metadata": {},
   "outputs": [],
   "source": []
  },
  {
   "cell_type": "code",
   "execution_count": null,
   "id": "230bc3d1",
   "metadata": {},
   "outputs": [],
   "source": []
  },
  {
   "cell_type": "markdown",
   "id": "6565b8b0",
   "metadata": {
    "lang": "en"
   },
   "source": [
    "Now write functions `decode_char(c: str)` and `decode_caesar(text: str)`\n",
    "that decrypt a text encrypted with the Caesar cipher. To be robust, these functions should return characters, that aren't letters or digits, unchanged."
   ]
  },
  {
   "cell_type": "code",
   "execution_count": null,
   "id": "4956f8a3",
   "metadata": {},
   "outputs": [],
   "source": []
  },
  {
   "cell_type": "code",
   "execution_count": null,
   "id": "1e4f0fed",
   "metadata": {},
   "outputs": [],
   "source": []
  },
  {
   "cell_type": "code",
   "execution_count": null,
   "id": "076e88db",
   "metadata": {},
   "outputs": [],
   "source": []
  },
  {
   "cell_type": "markdown",
   "id": "0ba2bf19",
   "metadata": {
    "lang": "en"
   },
   "source": [
    "Test `decode_caesar()` with `pangram` and `verlaine`."
   ]
  },
  {
   "cell_type": "code",
   "execution_count": null,
   "id": "d51da2db",
   "metadata": {},
   "outputs": [],
   "source": []
  },
  {
   "cell_type": "code",
   "execution_count": null,
   "id": "ef3825c3",
   "metadata": {},
   "outputs": [],
   "source": []
  },
  {
   "cell_type": "code",
   "execution_count": null,
   "id": "cb4f06e5",
   "metadata": {},
   "outputs": [],
   "source": []
  },
  {
   "cell_type": "code",
   "execution_count": null,
   "id": "ca373115",
   "metadata": {},
   "outputs": [],
   "source": []
  },
  {
   "cell_type": "markdown",
   "id": "a9f88621",
   "metadata": {
    "lang": "en"
   },
   "source": [
    "Decrypt the following text:\n",
    "```\n",
    "SDFN PB ERA ZLWK ILYH GRCHQ OLTXRU MXJV\n",
    "(SDQJUDP IURP QDVD'V VSDFH VKXWWOH SURJUDP)\n",
    "```"
   ]
  },
  {
   "cell_type": "code",
   "execution_count": null,
   "id": "c81b272f",
   "metadata": {},
   "outputs": [],
   "source": []
  },
  {
   "cell_type": "markdown",
   "id": "61627024",
   "metadata": {
    "lang": "en"
   },
   "source": [
    "The functions `encode_char()` and `decode_char()` contain a lot of duplicated\n",
    "code. Can you write a function `rot_n_char(...)` that generalizes the\n",
    "functionality of both functions?"
   ]
  },
  {
   "cell_type": "code",
   "execution_count": null,
   "id": "988175d9",
   "metadata": {},
   "outputs": [],
   "source": []
  },
  {
   "cell_type": "markdown",
   "id": "087ff8d6",
   "metadata": {
    "lang": "en"
   },
   "source": [
    "How can you implement `encode_caesar_2()` and `decode_caesar_2()` \n",
    "using `rot_n_char()`?"
   ]
  },
  {
   "cell_type": "code",
   "execution_count": null,
   "id": "91b091a8",
   "metadata": {},
   "outputs": [],
   "source": []
  },
  {
   "cell_type": "code",
   "execution_count": null,
   "id": "649fa2b8",
   "metadata": {},
   "outputs": [],
   "source": []
  },
  {
   "cell_type": "markdown",
   "id": "f76a7639",
   "metadata": {
    "lang": "en"
   },
   "source": [
    "Test the new function using `secret_text` and `verlaine`.\n",
    "Are the old and new implementations compatible?"
   ]
  },
  {
   "cell_type": "code",
   "execution_count": null,
   "id": "a43b45a6",
   "metadata": {},
   "outputs": [],
   "source": []
  },
  {
   "cell_type": "code",
   "execution_count": null,
   "id": "b9b32d67",
   "metadata": {},
   "outputs": [],
   "source": []
  },
  {
   "cell_type": "code",
   "execution_count": null,
   "id": "33ca3a2c",
   "metadata": {},
   "outputs": [],
   "source": []
  },
  {
   "cell_type": "code",
   "execution_count": null,
   "id": "11eb9d54",
   "metadata": {},
   "outputs": [],
   "source": []
  },
  {
   "cell_type": "markdown",
   "id": "bfc55f18",
   "metadata": {
    "lang": "en"
   },
   "source": [
    "Decoding with the original code for the Caesar cipher may reveal a\n",
    "bug that frequently appears in the generalized implementation:\n",
    "it may mix numbers and letters. \n",
    "\n",
    "Congratulations if you managed to avoid this error!\n",
    "How can you fix this bug if it appears in your code?"
   ]
  },
  {
   "cell_type": "code",
   "execution_count": null,
   "id": "07ff71db",
   "metadata": {},
   "outputs": [],
   "source": []
  },
  {
   "cell_type": "code",
   "execution_count": null,
   "id": "fcff9410",
   "metadata": {},
   "outputs": [],
   "source": []
  },
  {
   "cell_type": "markdown",
   "id": "eda6ad4f",
   "metadata": {
    "lang": "en"
   },
   "source": [
    "Test the new implementation by decoding `secret_text`."
   ]
  },
  {
   "cell_type": "code",
   "execution_count": null,
   "id": "458875d9",
   "metadata": {},
   "outputs": [],
   "source": []
  },
  {
   "cell_type": "markdown",
   "id": "ab6b26ed",
   "metadata": {
    "lang": "en"
   },
   "source": [
    "Test the new implementation with `verlaine`."
   ]
  },
  {
   "cell_type": "code",
   "execution_count": null,
   "id": "30daf009",
   "metadata": {},
   "outputs": [],
   "source": []
  },
  {
   "cell_type": "code",
   "execution_count": null,
   "id": "56ceec4e",
   "metadata": {},
   "outputs": [],
   "source": []
  },
  {
   "cell_type": "code",
   "execution_count": null,
   "id": "76c579e9",
   "metadata": {},
   "outputs": [],
   "source": []
  },
  {
   "cell_type": "code",
   "execution_count": null,
   "id": "a2f9c250",
   "metadata": {},
   "outputs": [],
   "source": []
  },
  {
   "cell_type": "code",
   "execution_count": null,
   "id": "50188efe",
   "metadata": {
    "tags": [
     "keep"
    ]
   },
   "outputs": [],
   "source": []
  }
 ],
 "metadata": {
  "kernelspec": {
   "display_name": "Python 3 (ipykernel)",
   "language": "python",
   "name": "python3"
  }
 },
 "nbformat": 4,
 "nbformat_minor": 5
}
