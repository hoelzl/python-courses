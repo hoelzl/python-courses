{
 "cells": [
  {
   "cell_type": "markdown",
   "id": "4826e481",
   "metadata": {
    "lang": "en"
   },
   "source": [
    "# Colours\n",
    "\n",
    "Define a variable `colors` containing a list of the strings\n",
    "`Red`, `Green` and `Blue`."
   ]
  },
  {
   "cell_type": "code",
   "execution_count": null,
   "id": "8f166cc5",
   "metadata": {},
   "outputs": [],
   "source": []
  },
  {
   "cell_type": "markdown",
   "id": "0493bceb",
   "metadata": {
    "lang": "en"
   },
   "source": [
    "Check if the string `yellow` is in `colors`"
   ]
  },
  {
   "cell_type": "code",
   "execution_count": null,
   "id": "249c79ed",
   "metadata": {},
   "outputs": [],
   "source": []
  },
  {
   "cell_type": "markdown",
   "id": "b1875012",
   "metadata": {
    "lang": "en"
   },
   "source": [
    "Add `Yellow` to the colors."
   ]
  },
  {
   "cell_type": "code",
   "execution_count": null,
   "id": "5074526a",
   "metadata": {},
   "outputs": [],
   "source": []
  },
  {
   "cell_type": "markdown",
   "id": "aa9c36bb",
   "metadata": {
    "lang": "en"
   },
   "source": [
    "Check again if `yellow` is included in the colors."
   ]
  },
  {
   "cell_type": "code",
   "execution_count": null,
   "id": "c57bc0a6",
   "metadata": {},
   "outputs": [],
   "source": []
  },
  {
   "cell_type": "markdown",
   "id": "e252a20a",
   "metadata": {
    "lang": "en"
   },
   "source": [
    "How many colors does the list stored in `colors` contain now?"
   ]
  },
  {
   "cell_type": "code",
   "execution_count": null,
   "id": "0f101d08",
   "metadata": {},
   "outputs": [],
   "source": []
  },
  {
   "cell_type": "markdown",
   "id": "278fbd52",
   "metadata": {
    "lang": "en"
   },
   "source": [
    "Change the first element in `colors` to `dark red`"
   ]
  },
  {
   "cell_type": "code",
   "execution_count": null,
   "id": "fedfe453",
   "metadata": {},
   "outputs": [],
   "source": []
  },
  {
   "cell_type": "markdown",
   "id": "ec5a49a9",
   "metadata": {
    "lang": "en"
   },
   "source": [
    "Add `Purple` as the second item in the list."
   ]
  },
  {
   "cell_type": "code",
   "execution_count": null,
   "id": "89423001",
   "metadata": {},
   "outputs": [],
   "source": []
  },
  {
   "cell_type": "markdown",
   "id": "e5e4051f",
   "metadata": {
    "lang": "en"
   },
   "source": [
    "What is the third element of the `colors` list?"
   ]
  },
  {
   "cell_type": "code",
   "execution_count": null,
   "id": "fe44a103",
   "metadata": {},
   "outputs": [],
   "source": []
  },
  {
   "cell_type": "markdown",
   "id": "0c82de41",
   "metadata": {
    "lang": "en"
   },
   "source": [
    "Delete the second item of the `colors` list"
   ]
  },
  {
   "cell_type": "code",
   "execution_count": null,
   "id": "b5de9475",
   "metadata": {},
   "outputs": [],
   "source": []
  },
  {
   "cell_type": "markdown",
   "id": "d3cddeb4",
   "metadata": {
    "lang": "en"
   },
   "source": [
    "What is the third element of the `colors` list now?"
   ]
  },
  {
   "cell_type": "code",
   "execution_count": null,
   "id": "88c53dbf",
   "metadata": {},
   "outputs": [],
   "source": []
  },
  {
   "cell_type": "markdown",
   "id": "b0285bef",
   "metadata": {
    "lang": "en"
   },
   "source": [
    "# Slicing"
   ]
  },
  {
   "cell_type": "code",
   "execution_count": null,
   "id": "28b7c692",
   "metadata": {
    "tags": [
     "keep"
    ]
   },
   "outputs": [],
   "source": [
    "my_list = [0, 1, 2, 3, 4, 5, 6, 7, 8, 9]"
   ]
  },
  {
   "cell_type": "markdown",
   "id": "49ce43d8",
   "metadata": {
    "lang": "en"
   },
   "source": [
    "Extract from `my_list` a list with all elements except the first two."
   ]
  },
  {
   "cell_type": "code",
   "execution_count": null,
   "id": "7dc79aff",
   "metadata": {},
   "outputs": [],
   "source": []
  },
  {
   "cell_type": "markdown",
   "id": "d01863c2",
   "metadata": {
    "lang": "en"
   },
   "source": [
    "From `my_list` extract a list consisting of the 2nd and 3rd elements."
   ]
  },
  {
   "cell_type": "code",
   "execution_count": null,
   "id": "5c24f060",
   "metadata": {},
   "outputs": [],
   "source": []
  },
  {
   "cell_type": "markdown",
   "id": "40b50d30",
   "metadata": {
    "lang": "en"
   },
   "source": [
    "Extract from `my_list` a new list containing all elements except the\n",
    "first and last contains."
   ]
  },
  {
   "cell_type": "code",
   "execution_count": null,
   "id": "e171c3c0",
   "metadata": {},
   "outputs": [],
   "source": []
  },
  {
   "cell_type": "markdown",
   "id": "4d47a570",
   "metadata": {
    "lang": "en"
   },
   "source": [
    "# Finding in lists\n",
    "\n",
    "Write a function `find_first_even_number(list)` that returns the index of the first even number in a list of integers. If the list does not contain an even number, the function should return `None`."
   ]
  },
  {
   "cell_type": "code",
   "execution_count": null,
   "id": "485d2cd0",
   "metadata": {},
   "outputs": [],
   "source": []
  },
  {
   "cell_type": "markdown",
   "id": "3e7daedc",
   "metadata": {
    "lang": "en"
   },
   "source": [
    "Test the function for appropriate arguments."
   ]
  },
  {
   "cell_type": "code",
   "execution_count": null,
   "id": "82ad1f45",
   "metadata": {},
   "outputs": [],
   "source": []
  },
  {
   "cell_type": "markdown",
   "id": "ec86f233",
   "metadata": {
    "lang": "en"
   },
   "source": [
    "## Mean value of a list\n",
    "\n",
    "The mean of a list with $n$ elements $[x_0, \\dots, x_{n-1}]$ is\n",
    "defined as\n",
    "\n",
    "$$\\frac{x_0 + \\dots + x_{n-1}}{n}$$\n",
    "\n",
    "Write a function `mean(list)` that calculates the mean of a list."
   ]
  },
  {
   "cell_type": "code",
   "execution_count": null,
   "id": "dfa6565f",
   "metadata": {},
   "outputs": [],
   "source": []
  },
  {
   "cell_type": "markdown",
   "id": "e4210fca",
   "metadata": {
    "lang": "en"
   },
   "source": [
    "Test the function for appropriate arguments."
   ]
  },
  {
   "cell_type": "code",
   "execution_count": null,
   "id": "1d575313",
   "metadata": {},
   "outputs": [],
   "source": []
  },
  {
   "cell_type": "code",
   "execution_count": null,
   "id": "44351238",
   "metadata": {},
   "outputs": [],
   "source": []
  },
  {
   "cell_type": "markdown",
   "id": "5bc9f73a",
   "metadata": {
    "lang": "en"
   },
   "source": [
    "**Additional task:** The mean of the elements of a list can be calculated iteratively as follows:\n",
    "\n",
    "- The mean $m$ of the empty list is (by definition for this solution) 0\n",
    "- If we add the $n+1$-th element $x_{n+1}$, then the new mean is calculated as\n",
    "\n",
    "$$m \\leftarrow m + \\frac{1}{n+1}(x_{n+1} - m)$$\n",
    "\n",
    "Write a function `iterative_average(list)` that calculates the mean of a list iteratively."
   ]
  },
  {
   "cell_type": "code",
   "execution_count": null,
   "id": "fd9fab76",
   "metadata": {},
   "outputs": [],
   "source": []
  },
  {
   "cell_type": "code",
   "execution_count": null,
   "id": "e61afd45",
   "metadata": {},
   "outputs": [],
   "source": []
  },
  {
   "cell_type": "code",
   "execution_count": null,
   "id": "4ceedc2f",
   "metadata": {},
   "outputs": [],
   "source": []
  },
  {
   "cell_type": "code",
   "execution_count": null,
   "id": "5d51b0b0",
   "metadata": {},
   "outputs": [],
   "source": []
  },
  {
   "cell_type": "code",
   "execution_count": null,
   "id": "f77558d5",
   "metadata": {},
   "outputs": [],
   "source": []
  },
  {
   "cell_type": "code",
   "execution_count": null,
   "id": "d6300435",
   "metadata": {},
   "outputs": [],
   "source": []
  },
  {
   "cell_type": "code",
   "execution_count": null,
   "id": "f6b47b8a",
   "metadata": {},
   "outputs": [],
   "source": []
  },
  {
   "cell_type": "markdown",
   "id": "d5d849d4",
   "metadata": {
    "lang": "en"
   },
   "source": [
    "# Square numbers\n",
    "\n",
    "Given the following list of numbers."
   ]
  },
  {
   "cell_type": "code",
   "execution_count": null,
   "id": "017f1190",
   "metadata": {
    "tags": [
     "keep"
    ]
   },
   "outputs": [],
   "source": [
    "numbers = [1, 7, 4, 87, 23]"
   ]
  },
  {
   "cell_type": "markdown",
   "id": "880dc4f1",
   "metadata": {
    "lang": "en"
   },
   "source": [
    "Create a new list containing the squares of the numbers in `numbers`."
   ]
  },
  {
   "cell_type": "code",
   "execution_count": null,
   "id": "e1933a42",
   "metadata": {},
   "outputs": [],
   "source": []
  },
  {
   "cell_type": "markdown",
   "id": "13ce39fa",
   "metadata": {
    "lang": "en"
   },
   "source": [
    "Write a function `square(numbers)` that returns a new list with the\n",
    "squares the numbers in `numbers`."
   ]
  },
  {
   "cell_type": "code",
   "execution_count": null,
   "id": "113fe755",
   "metadata": {},
   "outputs": [],
   "source": []
  },
  {
   "cell_type": "code",
   "execution_count": null,
   "id": "4cf4ba1e",
   "metadata": {},
   "outputs": [],
   "source": []
  },
  {
   "cell_type": "markdown",
   "id": "b25cbd51",
   "metadata": {
    "lang": "en"
   },
   "source": [
    "# Square numbers with list comprehension\n",
    "\n",
    "Create a new list with the squares of `numbers` using list comprehension."
   ]
  },
  {
   "cell_type": "code",
   "execution_count": null,
   "id": "e2ee36f8",
   "metadata": {},
   "outputs": [],
   "source": []
  },
  {
   "cell_type": "markdown",
   "id": "574ca0b1",
   "metadata": {
    "lang": "en"
   },
   "source": [
    "Implement the function `square(numbers)` using list comprehension."
   ]
  },
  {
   "cell_type": "code",
   "execution_count": null,
   "id": "b7476a38",
   "metadata": {},
   "outputs": [],
   "source": []
  },
  {
   "cell_type": "code",
   "execution_count": null,
   "id": "d2789e75",
   "metadata": {},
   "outputs": [],
   "source": []
  },
  {
   "cell_type": "markdown",
   "id": "665314f1",
   "metadata": {
    "lang": "en"
   },
   "source": [
    "# Filtering lists\n",
    "\n",
    "Given the following list of numbers:"
   ]
  },
  {
   "cell_type": "code",
   "execution_count": null,
   "id": "8a7a9810",
   "metadata": {
    "tags": [
     "keep"
    ]
   },
   "outputs": [],
   "source": [
    "numbers = [1, 183, 7, 4, 87, 10, 23, -12, 493, 11]"
   ]
  },
  {
   "cell_type": "markdown",
   "id": "5103954f",
   "metadata": {
    "lang": "en"
   },
   "source": [
    "Create a new list containing all numbers in `numbers` that are greater than 10."
   ]
  },
  {
   "cell_type": "code",
   "execution_count": null,
   "id": "673ccee0",
   "metadata": {},
   "outputs": [],
   "source": []
  },
  {
   "cell_type": "markdown",
   "id": "d6becca1",
   "metadata": {
    "lang": "en"
   },
   "source": [
    "Write a function `numbers_greater_than_10(numbers)` that returns a list containing the numbers from `numbers` that are greater than 10."
   ]
  },
  {
   "cell_type": "code",
   "execution_count": null,
   "id": "9544d861",
   "metadata": {},
   "outputs": [],
   "source": []
  },
  {
   "cell_type": "code",
   "execution_count": null,
   "id": "21c23421",
   "metadata": {},
   "outputs": [],
   "source": []
  },
  {
   "cell_type": "markdown",
   "id": "db57822b",
   "metadata": {
    "lang": "en"
   },
   "source": [
    "# Filtering with list comprehension\n",
    "\n",
    "Create a new list containing all numbers in `numbers` that are larger\n",
    "than 10. Use list comprehension to do this."
   ]
  },
  {
   "cell_type": "code",
   "execution_count": null,
   "id": "19143fcd",
   "metadata": {},
   "outputs": [],
   "source": []
  },
  {
   "cell_type": "markdown",
   "id": "1f732b6a",
   "metadata": {
    "lang": "en"
   },
   "source": [
    "Implement the function `numbers_greater_than_10(numbers)` using list comprehension."
   ]
  },
  {
   "cell_type": "code",
   "execution_count": null,
   "id": "0e4a5b97",
   "metadata": {},
   "outputs": [],
   "source": []
  },
  {
   "cell_type": "code",
   "execution_count": null,
   "id": "92b405c7",
   "metadata": {},
   "outputs": [],
   "source": []
  },
  {
   "cell_type": "markdown",
   "id": "1875675e",
   "metadata": {
    "lang": "en"
   },
   "source": [
    "Write a function `square_of_numbers_less than_10(numbers)`,\n",
    "which returns a new list containing the squares of all numbers < 10\n",
    "contained in `numbers`."
   ]
  },
  {
   "cell_type": "code",
   "execution_count": null,
   "id": "212b4314",
   "metadata": {},
   "outputs": [],
   "source": []
  },
  {
   "cell_type": "code",
   "execution_count": null,
   "id": "dc783b84",
   "metadata": {
    "tags": [
     "keep"
    ]
   },
   "outputs": [],
   "source": [
    "numbers"
   ]
  },
  {
   "cell_type": "code",
   "execution_count": null,
   "id": "4d0d8fd5",
   "metadata": {},
   "outputs": [],
   "source": []
  },
  {
   "cell_type": "markdown",
   "id": "d614534a",
   "metadata": {
    "lang": "en"
   },
   "source": [
    "# Generators"
   ]
  },
  {
   "cell_type": "markdown",
   "id": "23ad9318",
   "metadata": {
    "lang": "en"
   },
   "source": [
    "## Square number generator\n",
    "\n",
    "Write a generator that produces the first 10 square numbers."
   ]
  },
  {
   "cell_type": "code",
   "execution_count": null,
   "id": "1483ffa4",
   "metadata": {},
   "outputs": [],
   "source": []
  },
  {
   "cell_type": "code",
   "execution_count": null,
   "id": "2b92de4b",
   "metadata": {},
   "outputs": [],
   "source": []
  },
  {
   "cell_type": "markdown",
   "id": "c009064f",
   "metadata": {
    "lang": "en"
   },
   "source": [
    "## Take\n",
    "\n",
    "Write a function `take(n: int, it)` which takes an Iterable `it` as\n",
    "argument and returns a new iterable that successively returns the first `n`\n",
    "elements that `it` supplies."
   ]
  },
  {
   "cell_type": "code",
   "execution_count": null,
   "id": "c50fca8b",
   "metadata": {},
   "outputs": [],
   "source": []
  },
  {
   "cell_type": "code",
   "execution_count": null,
   "id": "514b13bb",
   "metadata": {},
   "outputs": [],
   "source": []
  },
  {
   "cell_type": "code",
   "execution_count": null,
   "id": "746d6f6f",
   "metadata": {},
   "outputs": [],
   "source": []
  }
 ],
 "metadata": {
  "kernelspec": {
   "display_name": "Python 3 (ipykernel)",
   "language": "python",
   "name": "python3"
  }
 },
 "nbformat": 4,
 "nbformat_minor": 5
}
