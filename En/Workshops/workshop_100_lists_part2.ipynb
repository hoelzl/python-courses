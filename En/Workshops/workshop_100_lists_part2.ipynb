{
 "cells": [
  {
   "cell_type": "markdown",
   "id": "028cb8a2",
   "metadata": {
    "lang": "en"
   },
   "source": [
    "# Colours\n",
    "\n",
    "Define a variable `colors` containing a list of the strings\n",
    "`Red`, `Green` and `Blue`."
   ]
  },
  {
   "cell_type": "code",
   "execution_count": null,
   "id": "28387022",
   "metadata": {},
   "outputs": [],
   "source": []
  },
  {
   "cell_type": "markdown",
   "id": "d1381621",
   "metadata": {
    "lang": "en"
   },
   "source": [
    "Check if the string `yellow` is in `colors`"
   ]
  },
  {
   "cell_type": "code",
   "execution_count": null,
   "id": "6989c3d1",
   "metadata": {},
   "outputs": [],
   "source": []
  },
  {
   "cell_type": "markdown",
   "id": "a77f7239",
   "metadata": {
    "lang": "en"
   },
   "source": [
    "Add `Yellow` to the colors."
   ]
  },
  {
   "cell_type": "code",
   "execution_count": null,
   "id": "1e078658",
   "metadata": {},
   "outputs": [],
   "source": []
  },
  {
   "cell_type": "markdown",
   "id": "4cbbb2f7",
   "metadata": {
    "lang": "en"
   },
   "source": [
    "Check again if `yellow` is included in the colors."
   ]
  },
  {
   "cell_type": "code",
   "execution_count": null,
   "id": "a1492f3b",
   "metadata": {},
   "outputs": [],
   "source": []
  },
  {
   "cell_type": "markdown",
   "id": "88f39184",
   "metadata": {
    "lang": "en"
   },
   "source": [
    "How many colors does the list stored in `colors` contain now?"
   ]
  },
  {
   "cell_type": "code",
   "execution_count": null,
   "id": "30b1982c",
   "metadata": {},
   "outputs": [],
   "source": []
  },
  {
   "cell_type": "markdown",
   "id": "02d7fdd0",
   "metadata": {
    "lang": "en"
   },
   "source": [
    "Change the first element in `colors` to `dark red`"
   ]
  },
  {
   "cell_type": "code",
   "execution_count": null,
   "id": "ca95519d",
   "metadata": {},
   "outputs": [],
   "source": []
  },
  {
   "cell_type": "markdown",
   "id": "f5e01fd4",
   "metadata": {
    "lang": "en"
   },
   "source": [
    "Add `Purple` as the second item in the list."
   ]
  },
  {
   "cell_type": "code",
   "execution_count": null,
   "id": "0031237a",
   "metadata": {},
   "outputs": [],
   "source": []
  },
  {
   "cell_type": "markdown",
   "id": "bbeda18d",
   "metadata": {
    "lang": "en"
   },
   "source": [
    "What is the third element of the `colors` list?"
   ]
  },
  {
   "cell_type": "code",
   "execution_count": null,
   "id": "b91102eb",
   "metadata": {},
   "outputs": [],
   "source": []
  },
  {
   "cell_type": "markdown",
   "id": "768d8856",
   "metadata": {
    "lang": "en"
   },
   "source": [
    "Delete the second item of the `colors` list"
   ]
  },
  {
   "cell_type": "code",
   "execution_count": null,
   "id": "54de768e",
   "metadata": {},
   "outputs": [],
   "source": []
  },
  {
   "cell_type": "markdown",
   "id": "4627b5e1",
   "metadata": {
    "lang": "en"
   },
   "source": [
    "What is the third element of the `colors` list now?"
   ]
  },
  {
   "cell_type": "code",
   "execution_count": null,
   "id": "efac115d",
   "metadata": {},
   "outputs": [],
   "source": []
  },
  {
   "cell_type": "markdown",
   "id": "f4f2214c",
   "metadata": {
    "lang": "en"
   },
   "source": [
    "# Slicing"
   ]
  },
  {
   "cell_type": "code",
   "execution_count": null,
   "id": "cae49e08",
   "metadata": {
    "tags": [
     "keep"
    ]
   },
   "outputs": [],
   "source": [
    "my_list = [0, 1, 2, 3, 4, 5, 6, 7, 8, 9]"
   ]
  },
  {
   "cell_type": "markdown",
   "id": "0236c53a",
   "metadata": {
    "lang": "en"
   },
   "source": [
    "Extract from `my_list` a list with all elements except the first two."
   ]
  },
  {
   "cell_type": "code",
   "execution_count": null,
   "id": "41c9a6f1",
   "metadata": {},
   "outputs": [],
   "source": []
  },
  {
   "cell_type": "markdown",
   "id": "32e7492c",
   "metadata": {
    "lang": "en"
   },
   "source": [
    "From `my_list` extract a list consisting of the 2nd and 3rd elements."
   ]
  },
  {
   "cell_type": "code",
   "execution_count": null,
   "id": "6b5c5de8",
   "metadata": {},
   "outputs": [],
   "source": []
  },
  {
   "cell_type": "markdown",
   "id": "85f9c625",
   "metadata": {
    "lang": "en"
   },
   "source": [
    "Extract from `my_list` a new list containing all elements except the\n",
    "first and last contains."
   ]
  },
  {
   "cell_type": "code",
   "execution_count": null,
   "id": "096f5336",
   "metadata": {},
   "outputs": [],
   "source": []
  },
  {
   "cell_type": "markdown",
   "id": "45ae4515",
   "metadata": {
    "lang": "en"
   },
   "source": [
    "# Finding in lists\n",
    "\n",
    "Write a function `find_first_even_number(list)` that returns the index of the first even number in a list of integers. If the list does not contain an even number, the function should return `None`."
   ]
  },
  {
   "cell_type": "code",
   "execution_count": null,
   "id": "047fd09a",
   "metadata": {},
   "outputs": [],
   "source": []
  },
  {
   "cell_type": "markdown",
   "id": "81ee3b8a",
   "metadata": {
    "lang": "en"
   },
   "source": [
    "Test the function for appropriate arguments."
   ]
  },
  {
   "cell_type": "code",
   "execution_count": null,
   "id": "8473515a",
   "metadata": {},
   "outputs": [],
   "source": []
  },
  {
   "cell_type": "markdown",
   "id": "963d4875",
   "metadata": {
    "lang": "en"
   },
   "source": [
    "## Mean value of a list\n",
    "\n",
    "The mean of a list with $n$ elements $[x_0, \\dots, x_{n-1}]$ is\n",
    "defined as\n",
    "\n",
    "$$\\frac{x_0 + \\dots + x_{n-1}}{n}$$\n",
    "\n",
    "Write a function `mean(list)` that calculates the mean of a list."
   ]
  },
  {
   "cell_type": "code",
   "execution_count": null,
   "id": "7917240e",
   "metadata": {},
   "outputs": [],
   "source": []
  },
  {
   "cell_type": "markdown",
   "id": "a9ff715a",
   "metadata": {
    "lang": "en"
   },
   "source": [
    "Test the function for appropriate arguments."
   ]
  },
  {
   "cell_type": "code",
   "execution_count": null,
   "id": "3e3d9bf6",
   "metadata": {},
   "outputs": [],
   "source": []
  },
  {
   "cell_type": "code",
   "execution_count": null,
   "id": "4ffe1f9b",
   "metadata": {},
   "outputs": [],
   "source": []
  },
  {
   "cell_type": "markdown",
   "id": "f5d007b9",
   "metadata": {
    "lang": "en"
   },
   "source": [
    "**Additional task:** The mean of the elements of a list can be calculated iteratively as follows:\n",
    "\n",
    "- The mean $m$ of the empty list is (by definition for this solution) 0\n",
    "- If we add the $n+1$-th element $x_{n+1}$, then the new mean is calculated as\n",
    "\n",
    "$$m \\leftarrow m + \\frac{1}{n+1}(x_{n+1} - m)$$\n",
    "\n",
    "Write a function `iterative_average(list)` that calculates the mean of a list iteratively."
   ]
  },
  {
   "cell_type": "code",
   "execution_count": null,
   "id": "4eda55ee",
   "metadata": {},
   "outputs": [],
   "source": []
  },
  {
   "cell_type": "code",
   "execution_count": null,
   "id": "4da65be9",
   "metadata": {},
   "outputs": [],
   "source": []
  },
  {
   "cell_type": "code",
   "execution_count": null,
   "id": "801a7f82",
   "metadata": {},
   "outputs": [],
   "source": []
  },
  {
   "cell_type": "code",
   "execution_count": null,
   "id": "dd73f065",
   "metadata": {},
   "outputs": [],
   "source": []
  },
  {
   "cell_type": "code",
   "execution_count": null,
   "id": "a0b732be",
   "metadata": {},
   "outputs": [],
   "source": []
  },
  {
   "cell_type": "code",
   "execution_count": null,
   "id": "ad8b86dc",
   "metadata": {},
   "outputs": [],
   "source": []
  },
  {
   "cell_type": "code",
   "execution_count": null,
   "id": "3e592b68",
   "metadata": {},
   "outputs": [],
   "source": []
  },
  {
   "cell_type": "markdown",
   "id": "654c034e",
   "metadata": {
    "lang": "en"
   },
   "source": [
    "# Square numbers\n",
    "\n",
    "Given the following list of numbers."
   ]
  },
  {
   "cell_type": "code",
   "execution_count": null,
   "id": "12ca2812",
   "metadata": {
    "tags": [
     "keep"
    ]
   },
   "outputs": [],
   "source": [
    "numbers = [1, 7, 4, 87, 23]"
   ]
  },
  {
   "cell_type": "markdown",
   "id": "bd2f41e1",
   "metadata": {
    "lang": "en"
   },
   "source": [
    "Create a new list containing the squares of the numbers in `numbers`."
   ]
  },
  {
   "cell_type": "code",
   "execution_count": null,
   "id": "8b776fba",
   "metadata": {},
   "outputs": [],
   "source": []
  },
  {
   "cell_type": "markdown",
   "id": "8aea794d",
   "metadata": {
    "lang": "en"
   },
   "source": [
    "Write a function `square(numbers)` that returns a new list with the\n",
    "squares the numbers in `numbers`."
   ]
  },
  {
   "cell_type": "code",
   "execution_count": null,
   "id": "4f1e8bf4",
   "metadata": {},
   "outputs": [],
   "source": []
  },
  {
   "cell_type": "code",
   "execution_count": null,
   "id": "74c9aae6",
   "metadata": {},
   "outputs": [],
   "source": []
  },
  {
   "cell_type": "markdown",
   "id": "43693aec",
   "metadata": {
    "lang": "en"
   },
   "source": [
    "# Square numbers with list comprehension\n",
    "\n",
    "Create a new list with the squares of `numbers` using list comprehension."
   ]
  },
  {
   "cell_type": "code",
   "execution_count": null,
   "id": "e1011162",
   "metadata": {},
   "outputs": [],
   "source": []
  },
  {
   "cell_type": "markdown",
   "id": "50e8e4b8",
   "metadata": {
    "lang": "en"
   },
   "source": [
    "Implement the function `square(numbers)` using list comprehension."
   ]
  },
  {
   "cell_type": "code",
   "execution_count": null,
   "id": "65fc825e",
   "metadata": {},
   "outputs": [],
   "source": []
  },
  {
   "cell_type": "code",
   "execution_count": null,
   "id": "7c358028",
   "metadata": {},
   "outputs": [],
   "source": []
  },
  {
   "cell_type": "markdown",
   "id": "dc5f9a57",
   "metadata": {
    "lang": "en"
   },
   "source": [
    "# Filtering lists\n",
    "\n",
    "Given the following list of numbers:"
   ]
  },
  {
   "cell_type": "code",
   "execution_count": null,
   "id": "caab963d",
   "metadata": {
    "tags": [
     "keep"
    ]
   },
   "outputs": [],
   "source": [
    "numbers = [1, 183, 7, 4, 87, 10, 23, -12, 493, 11]"
   ]
  },
  {
   "cell_type": "markdown",
   "id": "87fb9f15",
   "metadata": {
    "lang": "en"
   },
   "source": [
    "Create a new list containing all numbers in `numbers` that are greater than 10."
   ]
  },
  {
   "cell_type": "code",
   "execution_count": null,
   "id": "0818151c",
   "metadata": {},
   "outputs": [],
   "source": []
  },
  {
   "cell_type": "markdown",
   "id": "6c1c8dc4",
   "metadata": {
    "lang": "en"
   },
   "source": [
    "Write a function `numbers_greater_than_10(numbers)` that returns a list containing the numbers from `numbers` that are greater than 10."
   ]
  },
  {
   "cell_type": "code",
   "execution_count": null,
   "id": "cee0113e",
   "metadata": {},
   "outputs": [],
   "source": []
  },
  {
   "cell_type": "code",
   "execution_count": null,
   "id": "96a3ee9d",
   "metadata": {},
   "outputs": [],
   "source": []
  },
  {
   "cell_type": "markdown",
   "id": "88e0e357",
   "metadata": {
    "lang": "en"
   },
   "source": [
    "# Filtering with list comprehension\n",
    "\n",
    "Create a new list containing all numbers in `numbers` that are larger\n",
    "than 10. Use list comprehension to do this."
   ]
  },
  {
   "cell_type": "code",
   "execution_count": null,
   "id": "9e3a12c3",
   "metadata": {},
   "outputs": [],
   "source": []
  },
  {
   "cell_type": "markdown",
   "id": "194d38cf",
   "metadata": {
    "lang": "en"
   },
   "source": [
    "Implement the function `numbers_greater_than_10(numbers)` using list comprehension."
   ]
  },
  {
   "cell_type": "code",
   "execution_count": null,
   "id": "f3807e8c",
   "metadata": {},
   "outputs": [],
   "source": []
  },
  {
   "cell_type": "code",
   "execution_count": null,
   "id": "003daf09",
   "metadata": {},
   "outputs": [],
   "source": []
  },
  {
   "cell_type": "markdown",
   "id": "029eb397",
   "metadata": {
    "lang": "en"
   },
   "source": [
    "Write a function `square_of_numbers_less than_10(numbers)`,\n",
    "which returns a new list containing the squares of all numbers < 10\n",
    "contained in `numbers`."
   ]
  },
  {
   "cell_type": "code",
   "execution_count": null,
   "id": "9f04d600",
   "metadata": {},
   "outputs": [],
   "source": []
  },
  {
   "cell_type": "code",
   "execution_count": null,
   "id": "81d479be",
   "metadata": {
    "tags": [
     "keep"
    ]
   },
   "outputs": [],
   "source": [
    "numbers"
   ]
  },
  {
   "cell_type": "code",
   "execution_count": null,
   "id": "0e04e50a",
   "metadata": {},
   "outputs": [],
   "source": []
  },
  {
   "cell_type": "markdown",
   "id": "b3389386",
   "metadata": {
    "lang": "en"
   },
   "source": [
    "# Generators"
   ]
  },
  {
   "cell_type": "markdown",
   "id": "15f58c08",
   "metadata": {
    "lang": "en"
   },
   "source": [
    "## Square number generator\n",
    "\n",
    "Write a generator that produces the first 10 square numbers."
   ]
  },
  {
   "cell_type": "code",
   "execution_count": null,
   "id": "6e7a3967",
   "metadata": {},
   "outputs": [],
   "source": []
  },
  {
   "cell_type": "code",
   "execution_count": null,
   "id": "1aaf7af8",
   "metadata": {},
   "outputs": [],
   "source": []
  },
  {
   "cell_type": "markdown",
   "id": "78e90551",
   "metadata": {
    "lang": "en"
   },
   "source": [
    "## Take\n",
    "\n",
    "Write a function `take(n: int, it)` which takes an Iterable `it` as\n",
    "argument and returns a new iterable that successively returns the first `n`\n",
    "elements that `it` supplies."
   ]
  },
  {
   "cell_type": "code",
   "execution_count": null,
   "id": "041c9183",
   "metadata": {},
   "outputs": [],
   "source": []
  },
  {
   "cell_type": "code",
   "execution_count": null,
   "id": "9ff642bd",
   "metadata": {},
   "outputs": [],
   "source": []
  },
  {
   "cell_type": "code",
   "execution_count": null,
   "id": "9ac64a77",
   "metadata": {},
   "outputs": [],
   "source": []
  }
 ],
 "metadata": {
  "kernelspec": {
   "display_name": "Python 3 (ipykernel)",
   "language": "python",
   "name": "python3"
  }
 },
 "nbformat": 4,
 "nbformat_minor": 5
}
