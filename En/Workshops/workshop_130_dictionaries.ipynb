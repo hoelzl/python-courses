{
 "cells": [
  {
   "cell_type": "markdown",
   "id": "7aba8192",
   "metadata": {
    "lang": "en"
   },
   "source": [
    "## Word frequencies\n",
    "\n",
    "Write a function `count_words(text: str) -> dict` that returns a dictionary containing the number of occurrences of all words in `text`. For example,\n",
    "\n",
    "```\n",
    "count_words(\"It was the best of times it was the worst of times\")\n",
    "```\n",
    "\n",
    "should return the following dictionary:\n",
    "\n",
    "```\n",
    "{ 'it': 2,\n",
    "  'what': 2,\n",
    "  'the': 2,\n",
    "  'best': 1,\n",
    "  'of': 2,\n",
    "  'times': 2,\n",
    "  'worst': 1\n",
    "}\n",
    "```\n",
    "Note that all words have been converted to lowercase.\n",
    "\n",
    "###  Hints\n",
    "- You can convert a string into a list of words using the `string.split()` method\n",
    "- You can convert a string into a string containing only lower-case letters using the `string.lower()` method."
   ]
  },
  {
   "cell_type": "code",
   "execution_count": null,
   "id": "3905fa07",
   "metadata": {},
   "outputs": [],
   "source": []
  },
  {
   "cell_type": "markdown",
   "id": "f94fa734",
   "metadata": {
    "lang": "en"
   },
   "source": [
    "Test your implementation with the following string:"
   ]
  },
  {
   "cell_type": "code",
   "execution_count": null,
   "id": "9898af6e",
   "metadata": {
    "tags": [
     "keep"
    ]
   },
   "outputs": [],
   "source": [
    "dickens = \"It was the best of times it was the worst of times\""
   ]
  },
  {
   "cell_type": "code",
   "execution_count": null,
   "id": "d7fb3e66",
   "metadata": {},
   "outputs": [],
   "source": []
  },
  {
   "cell_type": "code",
   "execution_count": null,
   "id": "3c07bb65",
   "metadata": {},
   "outputs": [],
   "source": []
  },
  {
   "cell_type": "code",
   "execution_count": null,
   "id": "6158cbab",
   "metadata": {},
   "outputs": [],
   "source": []
  },
  {
   "cell_type": "code",
   "execution_count": null,
   "id": "a9de163d",
   "metadata": {
    "tags": [
     "keep"
    ]
   },
   "outputs": [],
   "source": []
  }
 ],
 "metadata": {
  "kernelspec": {
   "display_name": "Python 3 (ipykernel)",
   "language": "python",
   "name": "python3"
  }
 },
 "nbformat": 4,
 "nbformat_minor": 5
}
