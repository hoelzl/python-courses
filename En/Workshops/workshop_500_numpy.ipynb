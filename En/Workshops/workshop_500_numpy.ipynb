{
 "cells": [
  {
   "cell_type": "markdown",
   "id": "114949a9",
   "metadata": {
    "lang": "en"
   },
   "source": [
    "# Creating NumPy arrays"
   ]
  },
  {
   "cell_type": "code",
   "execution_count": null,
   "id": "46b4541a",
   "metadata": {},
   "outputs": [],
   "source": []
  },
  {
   "cell_type": "markdown",
   "id": "25f96db2",
   "metadata": {
    "lang": "en"
   },
   "source": [
    "Create the following NumPy arrays:"
   ]
  },
  {
   "cell_type": "markdown",
   "id": "dfe7ef61",
   "metadata": {
    "lang": "en"
   },
   "source": [
    "```pythons\n",
    "array([0, 1, 2, 3, 4, 5, 6, 7, 8, 9])\n",
    "```"
   ]
  },
  {
   "cell_type": "code",
   "execution_count": null,
   "id": "408dc4c2",
   "metadata": {},
   "outputs": [],
   "source": []
  },
  {
   "cell_type": "markdown",
   "id": "62593157",
   "metadata": {
    "lang": "en"
   },
   "source": [
    "```pythons\n",
    "array([0. , 1.25, 2.5 , 3.75, 5. ])\n",
    "```"
   ]
  },
  {
   "cell_type": "code",
   "execution_count": null,
   "id": "ed251edb",
   "metadata": {},
   "outputs": [],
   "source": []
  },
  {
   "cell_type": "markdown",
   "id": "b4738e3d",
   "metadata": {
    "lang": "en"
   },
   "source": [
    "```pythons\n",
    "array([ 1, 3, 12, 92])\n",
    "```"
   ]
  },
  {
   "cell_type": "code",
   "execution_count": null,
   "id": "72db5177",
   "metadata": {},
   "outputs": [],
   "source": []
  },
  {
   "cell_type": "markdown",
   "id": "686e2b6d",
   "metadata": {
    "lang": "en"
   },
   "source": [
    "```pythons\n",
    "array([[1, 2, 3, 4],\n",
    "       [5, 6, 7, 8]])\n",
    "```"
   ]
  },
  {
   "cell_type": "code",
   "execution_count": null,
   "id": "c84fd014",
   "metadata": {},
   "outputs": [],
   "source": []
  },
  {
   "cell_type": "markdown",
   "id": "6c155604",
   "metadata": {
    "lang": "en"
   },
   "source": [
    "```pythons\n",
    "array([[[0, 2, 4, 6],\n",
    "        [1, 3, 5, 7]],\n",
    "\n",
    "       [[1, 2, 3, 4],\n",
    "        [5, 6, 7, 8]],\n",
    "\n",
    "       [[9, 8, 7, 6],\n",
    "        [5, 4, 3, 2]]])\n",
    "```"
   ]
  },
  {
   "cell_type": "code",
   "execution_count": null,
   "id": "3a7ea50a",
   "metadata": {},
   "outputs": [],
   "source": []
  },
  {
   "cell_type": "code",
   "execution_count": null,
   "id": "e74880c3",
   "metadata": {},
   "outputs": [],
   "source": []
  },
  {
   "cell_type": "markdown",
   "id": "78283c6b",
   "metadata": {
    "lang": "en"
   },
   "source": [
    "A $2\\times 8$ array containing uniformly distributed random numbers in $[0, 1)$."
   ]
  },
  {
   "cell_type": "code",
   "execution_count": null,
   "id": "5ce77a3f",
   "metadata": {},
   "outputs": [],
   "source": []
  },
  {
   "cell_type": "markdown",
   "id": "c705fa73",
   "metadata": {
    "lang": "en"
   },
   "source": [
    "```pythons\n",
    "array([[1st, 0th, 0th],\n",
    "       [0th, 1st, 0th],\n",
    "       [0th, 0th, 1st]])\n",
    "```"
   ]
  },
  {
   "cell_type": "code",
   "execution_count": null,
   "id": "78ad2ad5",
   "metadata": {},
   "outputs": [],
   "source": []
  },
  {
   "cell_type": "markdown",
   "id": "63183521",
   "metadata": {
    "lang": "en"
   },
   "source": [
    "A vector of length 5 containing normally distributed numbers."
   ]
  },
  {
   "cell_type": "code",
   "execution_count": null,
   "id": "74bb4c5f",
   "metadata": {},
   "outputs": [],
   "source": []
  },
  {
   "cell_type": "markdown",
   "id": "f188b54b",
   "metadata": {
    "lang": "en"
   },
   "source": [
    "A $3 \\times 4$ array containing normally distributed numbers with mean $5$ and standard deviation $0.5$."
   ]
  },
  {
   "cell_type": "code",
   "execution_count": null,
   "id": "6a945a67",
   "metadata": {},
   "outputs": [],
   "source": []
  },
  {
   "cell_type": "markdown",
   "id": "b888582c",
   "metadata": {
    "lang": "en"
   },
   "source": [
    "## Systems of equations\n",
    "\n",
    "Solve the following system of equations:\n",
    "\n",
    "$x_1 - x_2 + 2x_3 = 6$\n",
    "\n",
    "$2x_1 + 3x_2 + 2x_3 = 8$\n",
    "\n",
    "$3x_1 + 2x_2 + x_3 = 8$"
   ]
  },
  {
   "cell_type": "code",
   "execution_count": null,
   "id": "0e2f4c5d",
   "metadata": {},
   "outputs": [],
   "source": []
  },
  {
   "cell_type": "code",
   "execution_count": null,
   "id": "ac048e1d",
   "metadata": {},
   "outputs": [],
   "source": []
  },
  {
   "cell_type": "code",
   "execution_count": null,
   "id": "1971fb55",
   "metadata": {},
   "outputs": [],
   "source": []
  },
  {
   "cell_type": "code",
   "execution_count": null,
   "id": "6f64f41b",
   "metadata": {},
   "outputs": [],
   "source": []
  },
  {
   "cell_type": "code",
   "execution_count": null,
   "id": "a0b07131",
   "metadata": {},
   "outputs": [],
   "source": []
  },
  {
   "cell_type": "markdown",
   "id": "d377bca4",
   "metadata": {
    "lang": "en"
   },
   "source": [
    "# Create NumPy arrays 2\n",
    "\n",
    "Create the following NumPy array:\n",
    "\n",
    "```pythons\n",
    "array([[ 0, 2, 4, 6],\n",
    "       [8, 10, 12, 14],\n",
    "       [16, 18, 20, 22],\n",
    "       [24, 26, 28, 30],\n",
    "       [32, 34, 36, 38]])\n",
    "```"
   ]
  },
  {
   "cell_type": "code",
   "execution_count": null,
   "id": "8b18743a",
   "metadata": {},
   "outputs": [],
   "source": []
  },
  {
   "cell_type": "markdown",
   "id": "b163591a",
   "metadata": {
    "lang": "en"
   },
   "source": [
    "Create the following NumPy array:\n",
    "\n",
    "```pythons\n",
    "array([[10, 19, 28, 37, 46, 55],\n",
    "       [13, 22, 31, 40, 49, 58],\n",
    "       [16, 25, 34, 43, 52, 61]])\n",
    "```"
   ]
  },
  {
   "cell_type": "code",
   "execution_count": null,
   "id": "5805b7fa",
   "metadata": {},
   "outputs": [],
   "source": []
  },
  {
   "cell_type": "markdown",
   "id": "badc0a82",
   "metadata": {
    "lang": "en"
   },
   "source": [
    "# Extreme values\n",
    "\n",
    "Generate a vector of length 100 containing random values equally\n",
    "distributed in the interval $[10, 20)$.\n",
    "\n",
    "Calculate minimum and maximum of the values\n",
    "contained in the vector as well as the indices of minimum and maximum."
   ]
  },
  {
   "cell_type": "code",
   "execution_count": null,
   "id": "8269409b",
   "metadata": {},
   "outputs": [],
   "source": []
  },
  {
   "cell_type": "code",
   "execution_count": null,
   "id": "1f705ac4",
   "metadata": {},
   "outputs": [],
   "source": []
  },
  {
   "cell_type": "code",
   "execution_count": null,
   "id": "09520dd4",
   "metadata": {},
   "outputs": [],
   "source": []
  },
  {
   "cell_type": "code",
   "execution_count": null,
   "id": "d0d382e8",
   "metadata": {},
   "outputs": [],
   "source": []
  },
  {
   "cell_type": "code",
   "execution_count": null,
   "id": "e78dab94",
   "metadata": {},
   "outputs": [],
   "source": []
  },
  {
   "cell_type": "markdown",
   "id": "ad7bf767",
   "metadata": {
    "lang": "en"
   },
   "source": [
    "\n",
    "# Average\n",
    "\n",
    "Create a $6 \\times 8$ array with numbers normally distributed with\n",
    "mean $2$ and standard deviation $1$."
   ]
  },
  {
   "cell_type": "code",
   "execution_count": null,
   "id": "92880dc9",
   "metadata": {},
   "outputs": [],
   "source": []
  },
  {
   "cell_type": "markdown",
   "id": "e161f8d2",
   "metadata": {
    "lang": "en"
   },
   "source": [
    "Calculate the mean of all values in the array."
   ]
  },
  {
   "cell_type": "code",
   "execution_count": null,
   "id": "7a3afa38",
   "metadata": {},
   "outputs": [],
   "source": []
  },
  {
   "cell_type": "markdown",
   "id": "5a7ae9d0",
   "metadata": {
    "lang": "en"
   },
   "source": [
    "Calculate the row and column means."
   ]
  },
  {
   "cell_type": "code",
   "execution_count": null,
   "id": "7350edde",
   "metadata": {},
   "outputs": [],
   "source": []
  },
  {
   "cell_type": "code",
   "execution_count": null,
   "id": "e5b37549",
   "metadata": {},
   "outputs": [],
   "source": []
  },
  {
   "cell_type": "markdown",
   "id": "d76927cf",
   "metadata": {
    "lang": "en"
   },
   "source": [
    "Calculate the mean of all  values in the array without using the\n",
    "`mean()` method."
   ]
  },
  {
   "cell_type": "code",
   "execution_count": null,
   "id": "848a8575",
   "metadata": {},
   "outputs": [],
   "source": []
  },
  {
   "cell_type": "markdown",
   "id": "56661f97",
   "metadata": {
    "lang": "en"
   },
   "source": [
    "Calculate the row and column means without using the\n",
    "`mean()` method."
   ]
  },
  {
   "cell_type": "code",
   "execution_count": null,
   "id": "8c876d1a",
   "metadata": {},
   "outputs": [],
   "source": []
  },
  {
   "cell_type": "code",
   "execution_count": null,
   "id": "a91b57f3",
   "metadata": {},
   "outputs": [],
   "source": []
  },
  {
   "cell_type": "markdown",
   "id": "643b1719",
   "metadata": {
    "lang": "en"
   },
   "source": [
    "# Roulette\n",
    "\n",
    "Use Monte Carlo simulation to analyze a player's winning expectation in the following simplified form of a roulette game:\n",
    "\n",
    "- The croupier spins a wheel divided into 36 equal segments, numbered from 1 to 36.\n",
    "- The player chooses one of the numbers 1 to 36 and bets 1 euro.\n",
    "- If the ball lands on the selected number, the player receives his bet\n",
    "  plus 35 euros back.\n",
    "- Otherwise, the player loses his bet.\n",
    "\n",
    "Write a version of the simulation with a `for` loop in Python and\n",
    "test the performance of this version before and after compilation with\n",
    "Numba. Then write a vectorized version and test the\n",
    "performance with and without compiling it with Numba.\n",
    "\n",
    "*Notes:*\n",
    "- The NumPy library contains a function\n",
    "  `np.random.randint(low, high, size=None)`, which you can use to\n",
    "  create an array with Shape `size` containing uniformly distributed\n",
    "  random numbers between `low` (inclusive) and `high` (exclusive).\n",
    "- If `np.random.randint()` is called with only two arguments it returns\n",
    "  a single number.\n",
    "- The NumPy library contains a function\n",
    "  `np.random.binomial(n, p, size=None)` with which you can generate\n",
    "  binomially distributed random numbers."
   ]
  },
  {
   "cell_type": "code",
   "execution_count": null,
   "id": "454b98b6",
   "metadata": {},
   "outputs": [],
   "source": []
  },
  {
   "cell_type": "code",
   "execution_count": null,
   "id": "177527ba",
   "metadata": {},
   "outputs": [],
   "source": []
  },
  {
   "cell_type": "code",
   "execution_count": null,
   "id": "924a1d5d",
   "metadata": {},
   "outputs": [],
   "source": []
  },
  {
   "cell_type": "code",
   "execution_count": null,
   "id": "d6073937",
   "metadata": {},
   "outputs": [],
   "source": []
  },
  {
   "cell_type": "code",
   "execution_count": null,
   "id": "655e8261",
   "metadata": {},
   "outputs": [],
   "source": []
  },
  {
   "cell_type": "code",
   "execution_count": null,
   "id": "966aebba",
   "metadata": {},
   "outputs": [],
   "source": []
  },
  {
   "cell_type": "code",
   "execution_count": null,
   "id": "9dbefeec",
   "metadata": {},
   "outputs": [],
   "source": []
  },
  {
   "cell_type": "code",
   "execution_count": null,
   "id": "85f3adcd",
   "metadata": {},
   "outputs": [],
   "source": []
  },
  {
   "cell_type": "code",
   "execution_count": null,
   "id": "d6191e63",
   "metadata": {},
   "outputs": [],
   "source": []
  },
  {
   "cell_type": "code",
   "execution_count": null,
   "id": "82e7b8a3",
   "metadata": {},
   "outputs": [],
   "source": []
  },
  {
   "cell_type": "code",
   "execution_count": null,
   "id": "c0a4864a",
   "metadata": {},
   "outputs": [],
   "source": []
  },
  {
   "cell_type": "code",
   "execution_count": null,
   "id": "f336b7cb",
   "metadata": {},
   "outputs": [],
   "source": []
  },
  {
   "cell_type": "code",
   "execution_count": null,
   "id": "22f2aef8",
   "metadata": {},
   "outputs": [],
   "source": []
  },
  {
   "cell_type": "code",
   "execution_count": null,
   "id": "6159d6b9",
   "metadata": {},
   "outputs": [],
   "source": []
  },
  {
   "cell_type": "code",
   "execution_count": null,
   "id": "caf4af82",
   "metadata": {
    "tags": [
     "keep"
    ]
   },
   "outputs": [],
   "source": []
  }
 ],
 "metadata": {
  "kernelspec": {
   "display_name": "Python 3 (ipykernel)",
   "language": "python",
   "name": "python3"
  }
 },
 "nbformat": 4,
 "nbformat_minor": 5
}
