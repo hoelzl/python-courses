{
 "cells": [
  {
   "cell_type": "markdown",
   "id": "7e777677",
   "metadata": {
    "lang": "en"
   },
   "source": [
    "# Creating NumPy arrays"
   ]
  },
  {
   "cell_type": "code",
   "execution_count": null,
   "id": "287d5022",
   "metadata": {},
   "outputs": [],
   "source": []
  },
  {
   "cell_type": "markdown",
   "id": "09b305cd",
   "metadata": {
    "lang": "en"
   },
   "source": [
    "Create the following NumPy arrays:"
   ]
  },
  {
   "cell_type": "markdown",
   "id": "bed866f3",
   "metadata": {
    "lang": "en"
   },
   "source": [
    "```pythons\n",
    "array([0, 1, 2, 3, 4, 5, 6, 7, 8, 9])\n",
    "```"
   ]
  },
  {
   "cell_type": "code",
   "execution_count": null,
   "id": "45e41e22",
   "metadata": {},
   "outputs": [],
   "source": []
  },
  {
   "cell_type": "markdown",
   "id": "4452b021",
   "metadata": {
    "lang": "en"
   },
   "source": [
    "```pythons\n",
    "array([0. , 1.25, 2.5 , 3.75, 5. ])\n",
    "```"
   ]
  },
  {
   "cell_type": "code",
   "execution_count": null,
   "id": "7e415020",
   "metadata": {},
   "outputs": [],
   "source": []
  },
  {
   "cell_type": "markdown",
   "id": "aeaa2fd4",
   "metadata": {
    "lang": "en"
   },
   "source": [
    "```pythons\n",
    "array([ 1, 3, 12, 92])\n",
    "```"
   ]
  },
  {
   "cell_type": "code",
   "execution_count": null,
   "id": "3aa703d2",
   "metadata": {},
   "outputs": [],
   "source": []
  },
  {
   "cell_type": "markdown",
   "id": "a77da22a",
   "metadata": {
    "lang": "en"
   },
   "source": [
    "```pythons\n",
    "array([[1, 2, 3, 4],\n",
    "       [5, 6, 7, 8]])\n",
    "```"
   ]
  },
  {
   "cell_type": "code",
   "execution_count": null,
   "id": "dde5eaef",
   "metadata": {},
   "outputs": [],
   "source": []
  },
  {
   "cell_type": "markdown",
   "id": "06cff081",
   "metadata": {
    "lang": "en"
   },
   "source": [
    "```pythons\n",
    "array([[[0, 2, 4, 6],\n",
    "        [1, 3, 5, 7]],\n",
    "\n",
    "       [[1, 2, 3, 4],\n",
    "        [5, 6, 7, 8]],\n",
    "\n",
    "       [[9, 8, 7, 6],\n",
    "        [5, 4, 3, 2]]])\n",
    "```"
   ]
  },
  {
   "cell_type": "code",
   "execution_count": null,
   "id": "8a50046f",
   "metadata": {},
   "outputs": [],
   "source": []
  },
  {
   "cell_type": "code",
   "execution_count": null,
   "id": "89946138",
   "metadata": {},
   "outputs": [],
   "source": []
  },
  {
   "cell_type": "markdown",
   "id": "3f53af17",
   "metadata": {
    "lang": "en"
   },
   "source": [
    "A $2\\times 8$ array containing uniformly distributed random numbers in $[0, 1)$."
   ]
  },
  {
   "cell_type": "code",
   "execution_count": null,
   "id": "5831d3a0",
   "metadata": {},
   "outputs": [],
   "source": []
  },
  {
   "cell_type": "markdown",
   "id": "32e54f83",
   "metadata": {
    "lang": "en"
   },
   "source": [
    "```pythons\n",
    "array([[1st, 0th, 0th],\n",
    "       [0th, 1st, 0th],\n",
    "       [0th, 0th, 1st]])\n",
    "```"
   ]
  },
  {
   "cell_type": "code",
   "execution_count": null,
   "id": "13a6269b",
   "metadata": {},
   "outputs": [],
   "source": []
  },
  {
   "cell_type": "markdown",
   "id": "abdc00b7",
   "metadata": {
    "lang": "en"
   },
   "source": [
    "A vector of length 5 containing normally distributed numbers."
   ]
  },
  {
   "cell_type": "code",
   "execution_count": null,
   "id": "d4617fe4",
   "metadata": {},
   "outputs": [],
   "source": []
  },
  {
   "cell_type": "markdown",
   "id": "2220ddcd",
   "metadata": {
    "lang": "en"
   },
   "source": [
    "A $3 \\times 4$ array containing normally distributed numbers with mean $5$ and standard deviation $0.5$."
   ]
  },
  {
   "cell_type": "code",
   "execution_count": null,
   "id": "c409d282",
   "metadata": {},
   "outputs": [],
   "source": []
  },
  {
   "cell_type": "markdown",
   "id": "95d6eb06",
   "metadata": {
    "lang": "en"
   },
   "source": [
    "## Systems of equations\n",
    "\n",
    "Solve the following system of equations:\n",
    "\n",
    "$x_1 - x_2 + 2x_3 = 6$\n",
    "\n",
    "$2x_1 + 3x_2 + 2x_3 = 8$\n",
    "\n",
    "$3x_1 + 2x_2 + x_3 = 8$"
   ]
  },
  {
   "cell_type": "code",
   "execution_count": null,
   "id": "f58e0b07",
   "metadata": {},
   "outputs": [],
   "source": []
  },
  {
   "cell_type": "code",
   "execution_count": null,
   "id": "7c7204b5",
   "metadata": {},
   "outputs": [],
   "source": []
  },
  {
   "cell_type": "code",
   "execution_count": null,
   "id": "0dc01048",
   "metadata": {},
   "outputs": [],
   "source": []
  },
  {
   "cell_type": "code",
   "execution_count": null,
   "id": "6a850555",
   "metadata": {},
   "outputs": [],
   "source": []
  },
  {
   "cell_type": "code",
   "execution_count": null,
   "id": "578afe90",
   "metadata": {},
   "outputs": [],
   "source": []
  },
  {
   "cell_type": "markdown",
   "id": "e37ea060",
   "metadata": {
    "lang": "en"
   },
   "source": [
    "# Create NumPy arrays 2\n",
    "\n",
    "Create the following NumPy array:\n",
    "\n",
    "```pythons\n",
    "array([[ 0, 2, 4, 6],\n",
    "       [8, 10, 12, 14],\n",
    "       [16, 18, 20, 22],\n",
    "       [24, 26, 28, 30],\n",
    "       [32, 34, 36, 38]])\n",
    "```"
   ]
  },
  {
   "cell_type": "code",
   "execution_count": null,
   "id": "6d0ae359",
   "metadata": {},
   "outputs": [],
   "source": []
  },
  {
   "cell_type": "markdown",
   "id": "d4e4cb33",
   "metadata": {
    "lang": "en"
   },
   "source": [
    "Create the following NumPy array:\n",
    "\n",
    "```pythons\n",
    "array([[10, 19, 28, 37, 46, 55],\n",
    "       [13, 22, 31, 40, 49, 58],\n",
    "       [16, 25, 34, 43, 52, 61]])\n",
    "```"
   ]
  },
  {
   "cell_type": "code",
   "execution_count": null,
   "id": "ce32b885",
   "metadata": {},
   "outputs": [],
   "source": []
  },
  {
   "cell_type": "markdown",
   "id": "6033d5a5",
   "metadata": {
    "lang": "en"
   },
   "source": [
    "# Extreme values\n",
    "\n",
    "Generate a vector of length 100 containing random values equally\n",
    "distributed in the interval $[10, 20)$.\n",
    "\n",
    "Calculate minimum and maximum of the values\n",
    "contained in the vector as well as the indices of minimum and maximum."
   ]
  },
  {
   "cell_type": "code",
   "execution_count": null,
   "id": "7b9a88c3",
   "metadata": {},
   "outputs": [],
   "source": []
  },
  {
   "cell_type": "code",
   "execution_count": null,
   "id": "01cb6a8f",
   "metadata": {},
   "outputs": [],
   "source": []
  },
  {
   "cell_type": "code",
   "execution_count": null,
   "id": "a3040c26",
   "metadata": {},
   "outputs": [],
   "source": []
  },
  {
   "cell_type": "code",
   "execution_count": null,
   "id": "e0a66010",
   "metadata": {},
   "outputs": [],
   "source": []
  },
  {
   "cell_type": "code",
   "execution_count": null,
   "id": "86ab17e4",
   "metadata": {},
   "outputs": [],
   "source": []
  },
  {
   "cell_type": "markdown",
   "id": "f154ba91",
   "metadata": {
    "lang": "en"
   },
   "source": [
    "\n",
    "# Average\n",
    "\n",
    "Create a $6 \\times 8$ array with numbers normally distributed with\n",
    "mean $2$ and standard deviation $1$."
   ]
  },
  {
   "cell_type": "code",
   "execution_count": null,
   "id": "1e33f5f8",
   "metadata": {},
   "outputs": [],
   "source": []
  },
  {
   "cell_type": "markdown",
   "id": "aab713ba",
   "metadata": {
    "lang": "en"
   },
   "source": [
    "Calculate the mean of all values in the array."
   ]
  },
  {
   "cell_type": "code",
   "execution_count": null,
   "id": "e6c005e7",
   "metadata": {},
   "outputs": [],
   "source": []
  },
  {
   "cell_type": "markdown",
   "id": "a870238b",
   "metadata": {
    "lang": "en"
   },
   "source": [
    "Calculate the row and column means."
   ]
  },
  {
   "cell_type": "code",
   "execution_count": null,
   "id": "21b6e05a",
   "metadata": {},
   "outputs": [],
   "source": []
  },
  {
   "cell_type": "code",
   "execution_count": null,
   "id": "1728901e",
   "metadata": {},
   "outputs": [],
   "source": []
  },
  {
   "cell_type": "markdown",
   "id": "6ea2a55d",
   "metadata": {
    "lang": "en"
   },
   "source": [
    "Calculate the mean of all  values in the array without using the\n",
    "`mean()` method."
   ]
  },
  {
   "cell_type": "code",
   "execution_count": null,
   "id": "041aaf6c",
   "metadata": {},
   "outputs": [],
   "source": []
  },
  {
   "cell_type": "markdown",
   "id": "5fc047f8",
   "metadata": {
    "lang": "en"
   },
   "source": [
    "Calculate the row and column means without using the\n",
    "`mean()` method."
   ]
  },
  {
   "cell_type": "code",
   "execution_count": null,
   "id": "04e4aa6c",
   "metadata": {},
   "outputs": [],
   "source": []
  },
  {
   "cell_type": "code",
   "execution_count": null,
   "id": "bc9e6f60",
   "metadata": {},
   "outputs": [],
   "source": []
  },
  {
   "cell_type": "markdown",
   "id": "a15cdcf0",
   "metadata": {
    "lang": "en"
   },
   "source": [
    "# Roulette\n",
    "\n",
    "Use Monte Carlo simulation to analyze a player's winning expectation in the following simplified form of a roulette game:\n",
    "\n",
    "- The croupier spins a wheel divided into 36 equal segments, numbered from 1 to 36.\n",
    "- The player chooses one of the numbers 1 to 36 and bets 1 euro.\n",
    "- If the ball lands on the selected number, the player receives his bet\n",
    "  plus 35 euros back.\n",
    "- Otherwise, the player loses his bet.\n",
    "\n",
    "Write a version of the simulation with a `for` loop in Python and\n",
    "test the performance of this version before and after compilation with\n",
    "Numba. Then write a vectorized version and test the\n",
    "performance with and without compiling it with Numba.\n",
    "\n",
    "*Notes:*\n",
    "- The NumPy library contains a function\n",
    "  `np.random.randint(low, high, size=None)`, which you can use to\n",
    "  create an array with Shape `size` containing uniformly distributed\n",
    "  random numbers between `low` (inclusive) and `high` (exclusive).\n",
    "- If `np.random.randint()` is called with only two arguments it returns\n",
    "  a single number.\n",
    "- The NumPy library contains a function\n",
    "  `np.random.binomial(n, p, size=None)` with which you can generate\n",
    "  binomially distributed random numbers."
   ]
  },
  {
   "cell_type": "code",
   "execution_count": null,
   "id": "f3b23240",
   "metadata": {},
   "outputs": [],
   "source": []
  },
  {
   "cell_type": "code",
   "execution_count": null,
   "id": "faedc243",
   "metadata": {},
   "outputs": [],
   "source": []
  },
  {
   "cell_type": "code",
   "execution_count": null,
   "id": "d4d4f9fb",
   "metadata": {},
   "outputs": [],
   "source": []
  },
  {
   "cell_type": "code",
   "execution_count": null,
   "id": "21511c56",
   "metadata": {},
   "outputs": [],
   "source": []
  },
  {
   "cell_type": "code",
   "execution_count": null,
   "id": "f71cf06f",
   "metadata": {},
   "outputs": [],
   "source": []
  },
  {
   "cell_type": "code",
   "execution_count": null,
   "id": "157e325f",
   "metadata": {},
   "outputs": [],
   "source": []
  },
  {
   "cell_type": "code",
   "execution_count": null,
   "id": "7a859ec0",
   "metadata": {},
   "outputs": [],
   "source": []
  },
  {
   "cell_type": "code",
   "execution_count": null,
   "id": "04cfec95",
   "metadata": {},
   "outputs": [],
   "source": []
  },
  {
   "cell_type": "code",
   "execution_count": null,
   "id": "1734f74f",
   "metadata": {},
   "outputs": [],
   "source": []
  },
  {
   "cell_type": "code",
   "execution_count": null,
   "id": "693c6619",
   "metadata": {},
   "outputs": [],
   "source": []
  },
  {
   "cell_type": "code",
   "execution_count": null,
   "id": "6cf75a82",
   "metadata": {},
   "outputs": [],
   "source": []
  },
  {
   "cell_type": "code",
   "execution_count": null,
   "id": "6aae045d",
   "metadata": {},
   "outputs": [],
   "source": []
  },
  {
   "cell_type": "code",
   "execution_count": null,
   "id": "03d58c01",
   "metadata": {},
   "outputs": [],
   "source": []
  },
  {
   "cell_type": "code",
   "execution_count": null,
   "id": "bb3759f5",
   "metadata": {},
   "outputs": [],
   "source": []
  },
  {
   "cell_type": "code",
   "execution_count": null,
   "id": "2b3a632a",
   "metadata": {
    "tags": [
     "keep"
    ]
   },
   "outputs": [],
   "source": []
  }
 ],
 "metadata": {
  "kernelspec": {
   "display_name": "Python 3 (ipykernel)",
   "language": "python",
   "name": "python3"
  }
 },
 "nbformat": 4,
 "nbformat_minor": 5
}
