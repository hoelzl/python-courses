{
 "cells": [
  {
   "cell_type": "markdown",
   "id": "1e14397b",
   "metadata": {
    "lang": "en"
   },
   "source": [
    "\n",
    "# Parallel Requests\n",
    "\n",
    "The following function can be used to retrieve the content of a website in Python:"
   ]
  },
  {
   "cell_type": "code",
   "execution_count": null,
   "id": "b39f1316",
   "metadata": {
    "tags": [
     "keep"
    ]
   },
   "outputs": [],
   "source": [
    "from http.client import HTTPSConnection\n",
    "\n",
    "\n",
    "def get_url(site, path, timeout=None):\n",
    "    conn = HTTPSConnection(site, timeout=timeout)\n",
    "    conn.request(\"GET\", path)\n",
    "    resp = conn.getresponse()\n",
    "    if resp.status == 200:\n",
    "        return resp.read()\n",
    "    else:\n",
    "        return \"\""
   ]
  },
  {
   "cell_type": "markdown",
   "id": "137fd65a",
   "metadata": {
    "lang": "en"
   },
   "source": [
    "\n",
    "For example, the contents of the Python Enhancement Proposal PEP-8 can be retrieved as\n",
    "follows:"
   ]
  },
  {
   "cell_type": "code",
   "execution_count": null,
   "id": "4a76afa4",
   "metadata": {
    "tags": [
     "keep"
    ]
   },
   "outputs": [],
   "source": [
    "get_url(\"peps.python.org\", \"/pep-0008/\")"
   ]
  },
  {
   "cell_type": "markdown",
   "id": "ff6230b3",
   "metadata": {
    "lang": "en"
   },
   "source": [
    "\n",
    "Write a function `get_pep(pep: str) -> str` that downloads the content of a PEP\n",
    "document."
   ]
  },
  {
   "cell_type": "code",
   "execution_count": null,
   "id": "008c63ed",
   "metadata": {},
   "outputs": [],
   "source": []
  },
  {
   "cell_type": "code",
   "execution_count": null,
   "id": "29fef2b8",
   "metadata": {
    "tags": [
     "keep"
    ]
   },
   "outputs": [],
   "source": [
    "assert len(get_pep(\"0008\")) >= 100_000"
   ]
  },
  {
   "cell_type": "code",
   "execution_count": null,
   "id": "2668b795",
   "metadata": {},
   "outputs": [],
   "source": []
  },
  {
   "cell_type": "markdown",
   "id": "b307a168",
   "metadata": {
    "lang": "en",
    "lines_to_next_cell": 2
   },
   "source": [
    "\n",
    "Write a class `PepDownloadThread` which inherits from `Thread` and\n",
    "\n",
    "- gets the number of a Pep as an argument of the `__init__()` method\n",
    "- implements a `run()` method that downloads the corresponding Pep and\n",
    "- stores the contents in an attribute `contents`."
   ]
  },
  {
   "cell_type": "code",
   "execution_count": null,
   "id": "07ead84f",
   "metadata": {},
   "outputs": [],
   "source": []
  },
  {
   "cell_type": "markdown",
   "id": "07b92c6a",
   "metadata": {
    "lang": "en"
   },
   "source": [
    "\n",
    "Create an instance of `PepDownloadThread` and use it to download PEP-8.\n",
    "\n",
    "Don't forget to join the thread."
   ]
  },
  {
   "cell_type": "code",
   "execution_count": null,
   "id": "bad38370",
   "metadata": {},
   "outputs": [],
   "source": []
  },
  {
   "cell_type": "code",
   "execution_count": null,
   "id": "3e15e398",
   "metadata": {},
   "outputs": [],
   "source": []
  },
  {
   "cell_type": "code",
   "execution_count": null,
   "id": "a1030865",
   "metadata": {},
   "outputs": [],
   "source": []
  },
  {
   "cell_type": "markdown",
   "id": "1c760cd2",
   "metadata": {
    "lang": "en"
   },
   "source": [
    "\n",
    "Write a function `get_peps(peps: list[str]) -> list[str]` that downloads the content\n",
    "of multiple PEP documents using multiple threads."
   ]
  },
  {
   "cell_type": "code",
   "execution_count": null,
   "id": "a38cd180",
   "metadata": {},
   "outputs": [],
   "source": []
  },
  {
   "cell_type": "code",
   "execution_count": null,
   "id": "f54aa402",
   "metadata": {
    "lines_to_next_cell": 2,
    "tags": [
     "keep"
    ]
   },
   "outputs": [],
   "source": [
    "_pep_lens = [len(pep) for pep in get_peps([\"0001\", \"0008\", \"0020\"])]\n",
    "print(_pep_lens)"
   ]
  }
 ],
 "metadata": {
  "kernelspec": {
   "display_name": "Python 3 (ipykernel)",
   "language": "python",
   "name": "python3"
  }
 },
 "nbformat": 4,
 "nbformat_minor": 5
}
