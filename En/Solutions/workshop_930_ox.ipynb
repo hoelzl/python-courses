{
 "cells": [
  {
   "cell_type": "markdown",
   "id": "6078cbbb",
   "metadata": {
    "lang": "en"
   },
   "source": [
    "# Ox - A variant of Bulls and Cows\n",
    "\n",
    "Implement a variant of the game \"Bulls and Cows\"\n",
    "\n",
    "## Gameplay\n",
    "\n",
    "- The computer chooses a word from a dictionary and tells the player\n",
    "  how many letters it contains\n",
    "- The player guesses a word and gets the following information for each letter:\n",
    "    - `+` if the letter is in the right place\n",
    "    - `–` if the letter occurs the solution, but in a different place\n",
    "    - `.` if the letter does not appear in the solution\n",
    "- If the player guesses the word in less than 10 tries he has\n",
    "  won, otherwise lost.\n",
    "\n",
    "## Examples\n",
    "\n",
    "Successful game:\n",
    "\n",
    "```\n",
    "Guess the word!\n",
    "The word to guess has 6 characters.\n",
    "Please enter your guess: something\n",
    "something\n",
    ".-..--\n",
    "Please enter your guess: postoffice\n",
    "postoffice\n",
    "+-.-+.\n",
    "Please enter your guess: python\n",
    "python\n",
    "++++++\n",
    "Congratulations, you have won!\n",
    "```\n",
    "\n",
    "Lost game:\n",
    "\n",
    "```\n",
    "Guess the word!\n",
    "The word to guess has 4 characters.\n",
    "Please enter your guess: foobar\n",
    "foobar\n",
    "....\n",
    "Please enter your guess: tango\n",
    "tango\n",
    ".+.-\n",
    "Please enter your guess: ohno\n",
    "ohno\n",
    "....\n",
    "Please enter your guess: This game is stupid!\n",
    "This game is stupid!\n",
    "....\n",
    "Please enter your guess: Let me out!\n",
    "Let me out!\n",
    ".-..\n",
    "Please enter your guess: exit\n",
    "exit\n",
    "-...\n",
    "Please enter your guess: quit\n",
    "quit\n",
    "....\n",
    "Please enter your guess: QUIT\n",
    "QUIT\n",
    "....\n",
    "Please enter your guess:\n",
    "\n",
    "\n",
    "Please enter your guess: HOW DO I QUIT THIS STUPID GAME!!!!!\n",
    "HOW DO I QUIT THIS STUPID GAME!!!!!\n",
    "....\n",
    "Better luck next time. The word was game.\n",
    "```\n",
    "\n",
    "## Implementation:\n",
    "\n",
    "Implement a function `ox()` that implements this game.\n",
    "You should define some auxiliary functions for this purpose,\n",
    "that encapsulate parts of the game logic.\n",
    "\n",
    "## Hints\n",
    "\n",
    "- You can get user input using the function `input(quey: str)`.\n",
    "  `query` is the text to be displayed to the user;\n",
    "  the result of the function is the string entered by the user.\n",
    "- Save the \"dictionary\" as a list of words.\n",
    "- With `random.choice(list)` you can select a random item from a list.\n",
    "- One possibility to implement this game without using classes\n",
    "  is by defining a function that matches two strings\n",
    "  character-by-character. A possible result type for\n",
    "  this function is a list of the form `['.', '+', '-', '.']`,\n",
    "  to express that the first and fourth characters do not match,\n",
    "  the second character is a perfect match and the third character\n",
    "  appears in the solution, but in a different position.\n",
    "- Given a list `strings` of strings you can use `''.join(strings)`\n",
    "  to create a string containing all elements of the list.\n",
    "- What happens in your solution when the user enters a word that\n",
    "  is longer or shorter than the solution?"
   ]
  },
  {
   "cell_type": "code",
   "execution_count": null,
   "id": "74ce5a51",
   "metadata": {},
   "outputs": [],
   "source": [
    "import random"
   ]
  },
  {
   "cell_type": "code",
   "execution_count": null,
   "id": "fb52156d",
   "metadata": {},
   "outputs": [],
   "source": [
    "def match_char(char, index, solution):\n",
    "    \"\"\"\n",
    "    Checks whether `char` is a perfect match for position `index` in `solution`.\n",
    "    Returns `'+'` if `solution[index] == char`, `'-'` if `char` occurs at another\n",
    "    position in `solution` and `'.'` otherwise.\n",
    "    \"\"\"\n",
    "    if index >= len(solution):\n",
    "        return \"\"\n",
    "    elif solution[index] == char:\n",
    "        return \"+\"\n",
    "    elif char in solution:\n",
    "        return \"-\"\n",
    "    else:\n",
    "        return \".\""
   ]
  },
  {
   "cell_type": "code",
   "execution_count": null,
   "id": "b96c24d1",
   "metadata": {},
   "outputs": [],
   "source": [
    "match_char(\"b\", 1, \"abc\")"
   ]
  },
  {
   "cell_type": "code",
   "execution_count": null,
   "id": "dd0ec7a5",
   "metadata": {},
   "outputs": [],
   "source": [
    "match_char(\"a\", 1, \"abc\")"
   ]
  },
  {
   "cell_type": "code",
   "execution_count": null,
   "id": "68b7af46",
   "metadata": {},
   "outputs": [],
   "source": [
    "match_char(\"x\", 1, \"abc\")"
   ]
  },
  {
   "cell_type": "code",
   "execution_count": null,
   "id": "10754ce3",
   "metadata": {},
   "outputs": [],
   "source": [
    "match_char(\"x\", 10, \"abc\")"
   ]
  },
  {
   "cell_type": "code",
   "execution_count": null,
   "id": "a0017bc1",
   "metadata": {},
   "outputs": [],
   "source": [
    "def match_chars(chars, solution):\n",
    "    return [match_char(char, index, solution) for index, char in enumerate(chars)]"
   ]
  },
  {
   "cell_type": "code",
   "execution_count": null,
   "id": "50d22382",
   "metadata": {},
   "outputs": [],
   "source": [
    "match_chars(\"cbx\", \"abc\")"
   ]
  },
  {
   "cell_type": "code",
   "execution_count": null,
   "id": "cfee32c2",
   "metadata": {},
   "outputs": [],
   "source": [
    "def evaluate_guess(guess, solution):\n",
    "    return \"\".join(match_chars(guess, solution))"
   ]
  },
  {
   "cell_type": "code",
   "execution_count": null,
   "id": "eef38f6c",
   "metadata": {},
   "outputs": [],
   "source": [
    "evaluate_guess(\"cbx\", \"abc\")"
   ]
  },
  {
   "cell_type": "code",
   "execution_count": null,
   "id": "f6b8e4f3",
   "metadata": {},
   "outputs": [],
   "source": [
    "evaluate_guess(\"b\", \"abc\")"
   ]
  },
  {
   "cell_type": "code",
   "execution_count": null,
   "id": "09934c85",
   "metadata": {},
   "outputs": [],
   "source": [
    "evaluate_guess(\"bbcdea\", \"abc\")"
   ]
  },
  {
   "cell_type": "code",
   "execution_count": null,
   "id": "4c003403",
   "metadata": {},
   "outputs": [],
   "source": [
    "def is_perfect_result(result):\n",
    "    if result == \"\":\n",
    "        return False\n",
    "    for c in result:\n",
    "        if c != \"+\":\n",
    "            return False\n",
    "    return True"
   ]
  },
  {
   "cell_type": "code",
   "execution_count": null,
   "id": "0cfe4d74",
   "metadata": {},
   "outputs": [],
   "source": [
    "is_perfect_result(\"+++\")"
   ]
  },
  {
   "cell_type": "code",
   "execution_count": null,
   "id": "d71a2794",
   "metadata": {},
   "outputs": [],
   "source": [
    "is_perfect_result(\"+++-+\")"
   ]
  },
  {
   "cell_type": "code",
   "execution_count": null,
   "id": "98aa4f00",
   "metadata": {},
   "outputs": [],
   "source": [
    "is_perfect_result(\"\")"
   ]
  },
  {
   "cell_type": "code",
   "execution_count": null,
   "id": "0eaaea80",
   "metadata": {},
   "outputs": [],
   "source": [
    "dictionary = [\"game\", \"gate\", \"teatime\", \"python\"]"
   ]
  },
  {
   "cell_type": "code",
   "execution_count": null,
   "id": "cb677335",
   "metadata": {},
   "outputs": [],
   "source": [
    "def print_header(word):\n",
    "    print(\n",
    "        f\"\"\"Guess the word!\n",
    "The word to guess has {len(word)} characters.\"\"\"\n",
    "    )"
   ]
  },
  {
   "cell_type": "code",
   "execution_count": null,
   "id": "24c6d3a5",
   "metadata": {},
   "outputs": [],
   "source": [
    "print_header(\"foo\")"
   ]
  },
  {
   "cell_type": "code",
   "execution_count": null,
   "id": "6bc2e88f",
   "metadata": {},
   "outputs": [],
   "source": [
    "def ox():\n",
    "    word = random.choice(dictionary)\n",
    "    has_won = False\n",
    "    print_header(word)\n",
    "    for _ in range(10):\n",
    "        if not has_won:\n",
    "            guess = input(\"Please enter your guess: \")\n",
    "            result = evaluate_guess(guess, word)\n",
    "            print(guess)\n",
    "            print(result)\n",
    "            if is_perfect_result(result):\n",
    "                has_won = True\n",
    "    if has_won:\n",
    "        print(\"Congratulations, you have won!\")\n",
    "    else:\n",
    "        print(f\"Better luck next time. The word was {word}.\")"
   ]
  },
  {
   "cell_type": "code",
   "execution_count": null,
   "id": "123e513a",
   "metadata": {},
   "outputs": [],
   "source": [
    "ox()"
   ]
  }
 ],
 "metadata": {
  "kernelspec": {
   "display_name": "Python 3 (ipykernel)",
   "language": "python",
   "name": "python3"
  }
 },
 "nbformat": 4,
 "nbformat_minor": 5
}
