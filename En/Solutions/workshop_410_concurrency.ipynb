{
 "cells": [
  {
   "cell_type": "markdown",
   "id": "720a74db5e8b5c42",
   "metadata": {
    "lang": "en"
   },
   "source": [
    "\n",
    "# Parallel Requests\n",
    "\n",
    "The following function can be used to retrieve the content of a website in Python:"
   ]
  },
  {
   "cell_type": "code",
   "execution_count": null,
   "id": "c2790c7e27a21770",
   "metadata": {
    "tags": [
     "keep"
    ]
   },
   "outputs": [],
   "source": [
    "from http.client import HTTPSConnection\n",
    "\n",
    "\n",
    "def get_url(site, path, timeout=None):\n",
    "    conn = HTTPSConnection(site, timeout=timeout)\n",
    "    conn.request(\"GET\", path)\n",
    "    resp = conn.getresponse()\n",
    "    if resp.status == 200:\n",
    "        return resp.read()\n",
    "    else:\n",
    "        return \"\""
   ]
  },
  {
   "cell_type": "markdown",
   "id": "95ff6150f0a5f672",
   "metadata": {
    "lang": "en"
   },
   "source": [
    "\n",
    "For example, the contents of the Python Enhancement Proposal PEP-8 can be retrieved as\n",
    "follows:"
   ]
  },
  {
   "cell_type": "code",
   "execution_count": null,
   "id": "a34a60e3df871504",
   "metadata": {
    "tags": [
     "keep"
    ]
   },
   "outputs": [],
   "source": [
    "get_url(\"peps.python.org\", \"/pep-0008/\")"
   ]
  },
  {
   "cell_type": "markdown",
   "id": "4b938db5da4191c1",
   "metadata": {
    "lang": "en"
   },
   "source": [
    "\n",
    "Write a function `get_pep(pep: str) -> str` that downloads the content of a PEP\n",
    "document."
   ]
  },
  {
   "cell_type": "code",
   "execution_count": null,
   "id": "5c183993b0adf912",
   "metadata": {},
   "outputs": [],
   "source": [
    "def get_pep(pep: str) -> str:\n",
    "    return get_url(\"peps.python.org\", f\"/pep-{pep}/\")"
   ]
  },
  {
   "cell_type": "code",
   "execution_count": null,
   "id": "ceced54c582a3d93",
   "metadata": {
    "tags": [
     "keep"
    ]
   },
   "outputs": [],
   "source": [
    "assert len(get_pep(\"0008\")) >= 100_000"
   ]
  },
  {
   "cell_type": "code",
   "execution_count": null,
   "id": "4ec432fac7d8cb4b",
   "metadata": {},
   "outputs": [],
   "source": []
  },
  {
   "cell_type": "markdown",
   "id": "a7c606b33b3689cb",
   "metadata": {
    "lang": "en",
    "lines_to_next_cell": 2
   },
   "source": [
    "\n",
    "Write a class `PepDownloadThread` which inherits from `Thread` and\n",
    "\n",
    "- gets the number of a Pep as an argument of the `__init__()` method\n",
    "- implements a `run()` method that downloads the corresponding Pep and\n",
    "- stores the contents in an attribute `contents`."
   ]
  },
  {
   "cell_type": "code",
   "execution_count": null,
   "id": "2faa356b36d1b90f",
   "metadata": {},
   "outputs": [],
   "source": [
    "from threading import Thread\n",
    "\n",
    "\n",
    "class PepDownloadThread(Thread):\n",
    "    def __init__(self, number, *args, **kwargs):\n",
    "        super().__init__(*args, **kwargs)\n",
    "        self.number = number\n",
    "        self.contents = \"\"\n",
    "\n",
    "    def run(self):\n",
    "        self.contents = get_pep(self.number)"
   ]
  },
  {
   "cell_type": "markdown",
   "id": "618173737ba6782c",
   "metadata": {
    "lang": "en"
   },
   "source": [
    "\n",
    "Create an instance of `PepDownloadThread` and use it to download PEP-8.\n",
    "\n",
    "Don't forget to join the thread."
   ]
  },
  {
   "cell_type": "code",
   "execution_count": null,
   "id": "aadd43a471cf3bd8",
   "metadata": {},
   "outputs": [],
   "source": [
    "pep_8_thread = PepDownloadThread(\"0008\")"
   ]
  },
  {
   "cell_type": "code",
   "execution_count": null,
   "id": "3d3f3776e0c0bba1",
   "metadata": {},
   "outputs": [],
   "source": [
    "pep_8_thread.start()\n",
    "pep_8_thread.join()"
   ]
  },
  {
   "cell_type": "code",
   "execution_count": null,
   "id": "438155f77a5ec3a6",
   "metadata": {},
   "outputs": [],
   "source": [
    "assert len(pep_8_thread.contents) > 100_000"
   ]
  },
  {
   "cell_type": "markdown",
   "id": "6f88d551301b2e50",
   "metadata": {
    "lang": "en"
   },
   "source": [
    "\n",
    "Write a function `get_peps(peps: list[str]) -> list[str]` that downloads the content\n",
    "of multiple PEP documents using multiple threads."
   ]
  },
  {
   "cell_type": "code",
   "execution_count": null,
   "id": "42b51bc75fef1da1",
   "metadata": {},
   "outputs": [],
   "source": [
    "def get_peps(peps: list[str]) -> list[str]:\n",
    "    threads = [PepDownloadThread(pep) for pep in peps]\n",
    "    for thread in threads:\n",
    "        thread.start()\n",
    "    for thread in threads:\n",
    "        thread.join()\n",
    "    return [thread.contents for thread in threads]"
   ]
  },
  {
   "cell_type": "code",
   "execution_count": null,
   "id": "03e684dc086c6dba",
   "metadata": {
    "lines_to_next_cell": 2,
    "tags": [
     "keep"
    ]
   },
   "outputs": [],
   "source": [
    "_pep_lens = [len(pep) for pep in get_peps([\"0001\", \"0008\", \"0020\"])]\n",
    "print(_pep_lens)"
   ]
  }
 ],
 "metadata": {
  "kernelspec": {
   "display_name": "Python 3 (ipykernel)",
   "language": "python",
   "name": "python3"
  }
 },
 "nbformat": 4,
 "nbformat_minor": 5
}
