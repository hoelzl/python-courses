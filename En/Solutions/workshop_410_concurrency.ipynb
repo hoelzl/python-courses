{
 "cells": [
  {
   "cell_type": "markdown",
   "id": "50293662",
   "metadata": {
    "lang": "en"
   },
   "source": [
    "\n",
    "# Parallel Requests\n",
    "\n",
    "The following function can be used to retrieve the content of a website in Python:"
   ]
  },
  {
   "cell_type": "code",
   "execution_count": null,
   "id": "363479f9",
   "metadata": {
    "tags": [
     "keep"
    ]
   },
   "outputs": [],
   "source": [
    "from http.client import HTTPSConnection\n",
    "\n",
    "\n",
    "def get_url(site, path, timeout=None):\n",
    "    conn = HTTPSConnection(site, timeout=timeout)\n",
    "    conn.request(\"GET\", path)\n",
    "    resp = conn.getresponse()\n",
    "    if resp.status == 200:\n",
    "        return resp.read()\n",
    "    else:\n",
    "        return \"\""
   ]
  },
  {
   "cell_type": "markdown",
   "id": "a940001c",
   "metadata": {
    "lang": "en"
   },
   "source": [
    "\n",
    "For example, the contents of the Python Enhancement Proposal PEP-8 can be retrieved as\n",
    "follows:"
   ]
  },
  {
   "cell_type": "code",
   "execution_count": null,
   "id": "08b8edf3",
   "metadata": {
    "tags": [
     "keep"
    ]
   },
   "outputs": [],
   "source": [
    "get_url(\"peps.python.org\", \"/pep-0008/\")"
   ]
  },
  {
   "cell_type": "markdown",
   "id": "37c3842b",
   "metadata": {
    "lang": "en"
   },
   "source": [
    "\n",
    "Write a function `get_pep(pep: str) -> str` that downloads the content of a PEP\n",
    "document."
   ]
  },
  {
   "cell_type": "code",
   "execution_count": null,
   "id": "fb88ca36",
   "metadata": {},
   "outputs": [],
   "source": [
    "def get_pep(pep: str) -> str:\n",
    "    return get_url(\"peps.python.org\", f\"/pep-{pep}/\")"
   ]
  },
  {
   "cell_type": "code",
   "execution_count": null,
   "id": "b81d518b",
   "metadata": {
    "tags": [
     "keep"
    ]
   },
   "outputs": [],
   "source": [
    "assert len(get_pep(\"0008\")) >= 100_000"
   ]
  },
  {
   "cell_type": "code",
   "execution_count": null,
   "id": "46812f68",
   "metadata": {},
   "outputs": [],
   "source": []
  },
  {
   "cell_type": "markdown",
   "id": "ab99c708",
   "metadata": {
    "lang": "en",
    "lines_to_next_cell": 2
   },
   "source": [
    "\n",
    "Write a class `PepDownloadThread` which inherits from `Thread` and\n",
    "\n",
    "- gets the number of a Pep as an argument of the `__init__()` method\n",
    "- implements a `run()` method that downloads the corresponding Pep and\n",
    "- stores the contents in an attribute `contents`."
   ]
  },
  {
   "cell_type": "code",
   "execution_count": null,
   "id": "eae0fcd2",
   "metadata": {},
   "outputs": [],
   "source": [
    "from threading import Thread\n",
    "\n",
    "\n",
    "class PepDownloadThread(Thread):\n",
    "    def __init__(self, number, *args, **kwargs):\n",
    "        super().__init__(*args, **kwargs)\n",
    "        self.number = number\n",
    "        self.contents = \"\"\n",
    "\n",
    "    def run(self):\n",
    "        self.contents = get_pep(self.number)"
   ]
  },
  {
   "cell_type": "markdown",
   "id": "cd6899ea",
   "metadata": {
    "lang": "en"
   },
   "source": [
    "\n",
    "Create an instance of `PepDownloadThread` and use it to download PEP-8.\n",
    "\n",
    "Don't forget to join the thread."
   ]
  },
  {
   "cell_type": "code",
   "execution_count": null,
   "id": "cf90ef46",
   "metadata": {},
   "outputs": [],
   "source": [
    "pep_8_thread = PepDownloadThread(\"0008\")"
   ]
  },
  {
   "cell_type": "code",
   "execution_count": null,
   "id": "4c05d515",
   "metadata": {},
   "outputs": [],
   "source": [
    "pep_8_thread.start()\n",
    "pep_8_thread.join()"
   ]
  },
  {
   "cell_type": "code",
   "execution_count": null,
   "id": "376c3465",
   "metadata": {},
   "outputs": [],
   "source": [
    "assert len(pep_8_thread.contents) > 100_000"
   ]
  },
  {
   "cell_type": "markdown",
   "id": "2d723e69",
   "metadata": {
    "lang": "en"
   },
   "source": [
    "\n",
    "Write a function `get_peps(peps: list[str]) -> list[str]` that downloads the content\n",
    "of multiple PEP documents using multiple threads."
   ]
  },
  {
   "cell_type": "code",
   "execution_count": null,
   "id": "88b905c4",
   "metadata": {},
   "outputs": [],
   "source": [
    "def get_peps(peps: list[str]) -> list[str]:\n",
    "    threads = [PepDownloadThread(pep) for pep in peps]\n",
    "    for thread in threads:\n",
    "        thread.start()\n",
    "    for thread in threads:\n",
    "        thread.join()\n",
    "    return [thread.contents for thread in threads]"
   ]
  },
  {
   "cell_type": "code",
   "execution_count": null,
   "id": "41df37b3",
   "metadata": {
    "lines_to_next_cell": 2,
    "tags": [
     "keep"
    ]
   },
   "outputs": [],
   "source": [
    "_pep_lens = [len(pep) for pep in get_peps([\"0001\", \"0008\", \"0020\"])]\n",
    "print(_pep_lens)"
   ]
  }
 ],
 "metadata": {
  "kernelspec": {
   "display_name": "Python 3 (ipykernel)",
   "language": "python",
   "name": "python3"
  }
 },
 "nbformat": 4,
 "nbformat_minor": 5
}
