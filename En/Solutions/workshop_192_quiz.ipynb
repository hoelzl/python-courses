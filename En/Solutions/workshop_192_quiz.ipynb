{
 "cells": [
  {
   "cell_type": "markdown",
   "id": "fe3ec33d087f8175",
   "metadata": {
    "lang": "en",
    "lines_to_next_cell": 2,
    "slideshow": {
     "slide_type": "slide"
    }
   },
   "source": [
    "<img src=\"../img/python-logo-no-text.png\"\n",
    "     style=\"display:block;margin:auto;width:10%\"/>\n",
    "<br>\n",
    "<div style=\"text-align:center; font-size:200%;\">\n",
    "  <b>Workshop: Quiz</b>\n",
    "</div>\n",
    "<br/>\n",
    "<div style=\"text-align:center;\">Dr. Matthias Hölzl</div>\n",
    "<br/>\n",
    "<!-- <div style=\"text-align:center;\">workshops/workshop_192_quiz</div> -->"
   ]
  },
  {
   "cell_type": "markdown",
   "id": "e0114f20664798e8",
   "metadata": {
    "lang": "en"
   },
   "source": [
    "# Quiz\n",
    "\n",
    "We want to implement a quiz in Python.\n",
    "\n",
    "Although it is possible to start implementing it in a notebook it would be\n",
    "better to start this project in an IDE and use the notebook only for\n",
    "instructions, since the later parts are easier to implement in an IDE.\n",
    "\n",
    "Define a class `Question` representing a single questions and multiple correct\n",
    "answers. The attributes of the class are:\n",
    "\n",
    "- A string `text` representing the text of the question.\n",
    "- A list of strings `answers` representing the correct answers.\n",
    "\n",
    "`Question` has the following methods:\n",
    "\n",
    "- `is_answer_correct(self, answer: str)`: checks whether the string `answer`\n",
    "  is a correct answer to the question.\n",
    "- `correct_answer(self)`: Returns one of the correct answers."
   ]
  },
  {
   "cell_type": "code",
   "execution_count": null,
   "id": "0eeddf9295c18627",
   "metadata": {},
   "outputs": [],
   "source": [
    "class Question:\n",
    "    def __init__(self, text, answers):\n",
    "        self.text = text\n",
    "        self.answers = answers\n",
    "\n",
    "    def __str__(self):\n",
    "        return f\"{self.text!s}\"\n",
    "\n",
    "    def __repr__(self):\n",
    "        return f\"Question({self.text!r}, {self.answers!r})\"\n",
    "\n",
    "    def is_answer_correct(self, answer):\n",
    "        return answer in self.answers\n",
    "\n",
    "    def correct_answer(self):\n",
    "        return self.answers[0]"
   ]
  },
  {
   "cell_type": "markdown",
   "id": "56fbf0a48f934dfe",
   "metadata": {
    "lang": "en"
   },
   "source": [
    "Test the class (interactively if you did the assignment in the notebook, else with\n",
    "pytest)"
   ]
  },
  {
   "cell_type": "code",
   "execution_count": null,
   "id": "372b1a6f6f210d13",
   "metadata": {},
   "outputs": [],
   "source": [
    "questions = [\n",
    "    Question(\"Wann wurde Napoleon geboren?\", [\"15. August 1769\", \"1769\"]),\n",
    "    Question(\"Wann wurde Python erfunden?\", [\"1991\"]),\n",
    "    Question(\n",
    "        \"Wer ist Pythons Benevolent Dictator For Life?\",\n",
    "        [\"Guido van Rossum\", \"Guido v. Rossum\"],\n",
    "    ),\n",
    "]\n",
    "questions"
   ]
  },
  {
   "cell_type": "code",
   "execution_count": null,
   "id": "fc92bf38bb8d7516",
   "metadata": {},
   "outputs": [],
   "source": [
    "questions[0].is_answer_correct(\"15. August 1769\")"
   ]
  },
  {
   "cell_type": "code",
   "execution_count": null,
   "id": "152ae0d3efb258df",
   "metadata": {},
   "outputs": [],
   "source": [
    "questions[0].correct_answer()"
   ]
  },
  {
   "cell_type": "markdown",
   "id": "a70c991eb3e2c437",
   "metadata": {
    "lang": "en"
   },
   "source": [
    "Now implement a class `TriviaGame` that has a list of\n",
    "`Question` instances and has a `run(self)` method that\n",
    "\n",
    "- randomly selects a question,\n",
    "- outputs the question text on the screen,\n",
    "- asks the user for their answer,\n",
    "- checks the user's answer and\n",
    "- outputs a text whether the answer was right or wrong.\n",
    "\n",
    "An empty input should abort the game. At the end of the game the\n",
    "number of questions answered and the percentage of correct\n",
    "answers are printed out.\n",
    "\n",
    "*Note:* It's a good idea to implement some helper methods that\n",
    "*Take over part of the functionality of `run()`. An option would be\n",
    "\n",
    "- `percentage_questions_answered_correctly(self)` returns the percentage of\n",
    "  correctly answered questions. (Pay attention to the case that the\n",
    "  user did not answer a question). For this method, an implementation as property\n",
    "  might be appropriate.\n",
    "\n",
    "- `pick_random_question(self)` randomly selects one of the questions. The\n",
    "  `random.choice()` function is very helpful for this\n",
    "\n",
    "- `query_user_for_answer(self, question: Question)` asks the user for an answer and\n",
    "  returns it\n",
    "\n",
    "- `process_answer(self, question: Question, answer: str)` , evaluates the answer\n",
    "  and returns a \"status code\" with one of the following meanings:\n",
    "\n",
    "  - The question was answered correctly.\n",
    "  - The question was answered incorrectly.\n",
    "  - The player wants to end the game.\n",
    "\n",
    "- `print_reply()` prints out a reply based on the question and the\n",
    "  \"Status Code\"."
   ]
  },
  {
   "cell_type": "code",
   "execution_count": null,
   "id": "e48bcd840d3af57c",
   "metadata": {},
   "outputs": [],
   "source": [
    "from random import choice\n",
    "\n",
    "\n",
    "class TriviaGame:\n",
    "    EXIT = \"EXIT\"\n",
    "    CORRECT_ANSWER = \"CORRECT_ANSWER\"\n",
    "    FALSE_ANSWER = \"FALSE_ANSWER\"\n",
    "\n",
    "    def __init__(self, questions):\n",
    "        self.questions = questions\n",
    "        self.total_questions_answered = 0\n",
    "        self.questions_answered_correctly = 0\n",
    "\n",
    "    @property\n",
    "    def percentage_questions_answered_correctly(self):\n",
    "        total = self.total_questions_answered\n",
    "        if total == 0:\n",
    "            return 0.0\n",
    "        return self.questions_answered_correctly / total\n",
    "\n",
    "    def pick_random_question(self):\n",
    "        \"\"\"Pick a random question from all available ones.\"\"\"\n",
    "        return choice(self.questions)\n",
    "\n",
    "    @staticmethod\n",
    "    def query_user_for_answer(question):\n",
    "        \"\"\"Ask the user for an answer to the question.\n",
    "\n",
    "        :param question: the question\n",
    "        :return: the user's answer to the question\n",
    "        \"\"\"\n",
    "        print(question.text)\n",
    "        return input(\"Ihre Antwort: \")\n",
    "\n",
    "    def process_answer(self, question):\n",
    "        \"\"\"Processes an answer to a question.\n",
    "\n",
    "        Returns True if the game should continue, false otherwise\n",
    "        :param question: the question we asked the user\n",
    "        :return: status code indicating whether the answer was correct or not,\n",
    "                 or whether the user wants to quit the game\n",
    "        \"\"\"\n",
    "        answer = self.query_user_for_answer(question)\n",
    "        if answer == \"\":\n",
    "            return self.EXIT\n",
    "        elif question.is_answer_correct(answer):\n",
    "            self.total_questions_answered += 1\n",
    "            self.questions_answered_correctly += 1\n",
    "            return self.CORRECT_ANSWER\n",
    "        else:\n",
    "            self.total_questions_answered += 1\n",
    "            return self.FALSE_ANSWER\n",
    "\n",
    "    def print_reply(self, question, answer_status):\n",
    "        \"\"\"\n",
    "        Print a reply to the user's input.\n",
    "\n",
    "        :param question: the question we asked the user\n",
    "        :param answer_status: the status code returned by process_answer()\n",
    "        :return: nothing\n",
    "        \"\"\"\n",
    "        if answer_status == self.EXIT:\n",
    "            print(\"Auf Wiedersehen!\")\n",
    "            print(\n",
    "                f\"Sie haben {self.percentage_questions_answered_correctly}% \"\n",
    "                f\"von {self.total_questions_answered} Fragen richtig \"\n",
    "                \"beantwortet.\"\n",
    "            )\n",
    "        elif answer_status == self.CORRECT_ANSWER:\n",
    "            print(\"Hervorragend!\")\n",
    "        else:\n",
    "            print(\n",
    "                f\"Leider nein. Die richtige Antwort ist '{question.correct_answer()}''\"\n",
    "            )\n",
    "\n",
    "    def run(self):\n",
    "        while True:\n",
    "            question = self.pick_random_question()\n",
    "            result = self.process_answer(question)\n",
    "            self.print_reply(question, result)\n",
    "            if result == self.EXIT:\n",
    "                break"
   ]
  },
  {
   "cell_type": "code",
   "execution_count": null,
   "id": "36d682b558e378b0",
   "metadata": {},
   "outputs": [],
   "source": [
    "my_game = TriviaGame(questions)"
   ]
  },
  {
   "cell_type": "code",
   "execution_count": null,
   "id": "ac7e70c708511470",
   "metadata": {},
   "outputs": [],
   "source": [
    "my_game.pick_random_question()"
   ]
  },
  {
   "cell_type": "code",
   "execution_count": null,
   "id": "98962ca4058fe883",
   "metadata": {},
   "outputs": [],
   "source": [
    "# my_game.process_answer(my_game.pick_random_question())"
   ]
  },
  {
   "cell_type": "code",
   "execution_count": null,
   "id": "fd205e978ada045d",
   "metadata": {},
   "outputs": [],
   "source": [
    "# my_game.run()"
   ]
  }
 ],
 "metadata": {},
 "nbformat": 4,
 "nbformat_minor": 5
}
