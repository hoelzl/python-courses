{
 "cells": [
  {
   "cell_type": "markdown",
   "id": "d027a294",
   "metadata": {
    "lang": "en"
   },
   "source": [
    "# Motor Vehicles (Part 1)\n",
    "\n",
    "Define a class `MotorVehicle` whose instances describe motor vehicles.\n",
    "Every car should have attributes `manufacturer` and `license_plate`."
   ]
  },
  {
   "cell_type": "code",
   "execution_count": null,
   "id": "b4242564",
   "metadata": {},
   "outputs": [],
   "source": [
    "class Kfz:\n",
    "    def __init__(self, hersteller, kennzeichen):\n",
    "        self.hersteller = hersteller\n",
    "        self.kennzeichen = kennzeichen"
   ]
  },
  {
   "cell_type": "code",
   "execution_count": null,
   "id": "a3224edb",
   "metadata": {},
   "outputs": [],
   "source": [
    "class MotorVehicle:\n",
    "    def __init__(self, manufacturer, license_plate):\n",
    "        self.manufacturer = manufacturer\n",
    "        self.license_plate = license_plate"
   ]
  },
  {
   "cell_type": "markdown",
   "id": "5e46a070",
   "metadata": {
    "lang": "en"
   },
   "source": [
    "Create two motor vehicles:\n",
    "- a BMW with license plate \"M-BW 123\"\n",
    "- a VW with license plate \"WOB-VW 246\"\n",
    "and store them in variables `bmw` and `vw`"
   ]
  },
  {
   "cell_type": "code",
   "execution_count": null,
   "id": "acf52749",
   "metadata": {},
   "outputs": [],
   "source": [
    "bmw = Kfz(\"BMW\", \"M-BW 123\")\n",
    "vw = Kfz(\"VW\", \"WOB-VW 246\")"
   ]
  },
  {
   "cell_type": "code",
   "execution_count": null,
   "id": "50ee9cfc",
   "metadata": {},
   "outputs": [],
   "source": [
    "bmw_en = MotorVehicle(\"BMW\", \"M-BW 123\")\n",
    "vw_en = MotorVehicle(\"VW\", \"WOB-VW 246\")"
   ]
  },
  {
   "cell_type": "markdown",
   "id": "ef6da338",
   "metadata": {
    "lang": "en"
   },
   "source": [
    "Create a new instance of `MotorVehicle` with manufacturer BMW and registration number\n",
    "\"M-BW 123\" and store it in a variable `bmw2`."
   ]
  },
  {
   "cell_type": "code",
   "execution_count": null,
   "id": "1b43b81c",
   "metadata": {},
   "outputs": [],
   "source": [
    "bmw2 = Kfz(\"BMW\", \"M-BW 123\")"
   ]
  },
  {
   "cell_type": "markdown",
   "id": "7ddb54a0",
   "metadata": {
    "lang": "en"
   },
   "source": [
    "How can you determine whether `bmw` and `bmw2` (or `bmw` and `vw`) describe the same vehicle?"
   ]
  },
  {
   "cell_type": "code",
   "execution_count": null,
   "id": "d259682f",
   "metadata": {},
   "outputs": [],
   "source": [
    "bmw.hersteller == bmw2.hersteller and bmw.kennzeichen == bmw2.kennzeichen"
   ]
  },
  {
   "cell_type": "code",
   "execution_count": null,
   "id": "e25f0751",
   "metadata": {},
   "outputs": [],
   "source": [
    "bmw.hersteller == vw.hersteller and bmw.kennzeichen == vw.kennzeichen"
   ]
  },
  {
   "cell_type": "code",
   "execution_count": null,
   "id": "1db5ebf6",
   "metadata": {},
   "outputs": [],
   "source": [
    "bmw_en.manufacturer == vw_en.manufacturer and bmw_en.license_plate == vw_en.license_plate"
   ]
  },
  {
   "cell_type": "markdown",
   "id": "ec9972d9",
   "metadata": {
    "lang": "en"
   },
   "source": [
    "# Motor Vehicles (Part 2)\n",
    "\n",
    "Extend the `MotorVehicle` class with a method `change_registration(self, new_license_plate)`, which changes the vehicle's license plate."
   ]
  },
  {
   "cell_type": "code",
   "execution_count": null,
   "id": "7358600c",
   "metadata": {},
   "outputs": [],
   "source": [
    "class Kfz:\n",
    "    def __init__(self, hersteller, kennzeichen):\n",
    "        self.hersteller = hersteller\n",
    "        self.kennzeichen = kennzeichen\n",
    "\n",
    "    def melde_um(self, neues_kennzeichen):\n",
    "        self.kennzeichen = neues_kennzeichen"
   ]
  },
  {
   "cell_type": "code",
   "execution_count": null,
   "id": "4be28896",
   "metadata": {},
   "outputs": [],
   "source": [
    "class MotorVehicle:\n",
    "    def __init__(self, manufacturer, license_plate):\n",
    "        self.manufacturer = manufacturer\n",
    "        self.license_plate = license_plate\n",
    "    \n",
    "    def change_registration(self, new_license_plate):\n",
    "        self.license_plate = new_license_plate"
   ]
  },
  {
   "cell_type": "markdown",
   "id": "816fe2c5",
   "metadata": {
    "lang": "en"
   },
   "source": [
    "Create new instances of `bmw`, `bmw2` and `vw` as above:"
   ]
  },
  {
   "cell_type": "code",
   "execution_count": null,
   "id": "ed56ad42",
   "metadata": {},
   "outputs": [],
   "source": [
    "bmw = Kfz(\"BMW\", \"M-BW 123\")\n",
    "bmw2 = Kfz(\"BMW\", \"M-BW 123\")\n",
    "vw = Kfz(\"VW\", \"WOB-VW 246\")"
   ]
  },
  {
   "cell_type": "code",
   "execution_count": null,
   "id": "a057eca1",
   "metadata": {},
   "outputs": [],
   "source": [
    "bmw_en = MotorVehicle(\"BMW\", \"M-BW 123\")\n",
    "bmw2_en = MotorVehicle(\"BMW\", \"M-BW 123\")\n",
    "vw_en = MotorVehicle(\"VW\", \"WOB-VW 246\")"
   ]
  },
  {
   "cell_type": "markdown",
   "id": "d827ea64",
   "metadata": {
    "lang": "en"
   },
   "source": [
    "Change the registation of the VW generated above so that it has the new license plate  \"BGL-A 9\". How can you tell if changing the registration resulted is the change you wanted?"
   ]
  },
  {
   "cell_type": "code",
   "execution_count": null,
   "id": "fd7ced3e",
   "metadata": {},
   "outputs": [],
   "source": [
    "vw.melde_um(\"BGL-A 9\")"
   ]
  },
  {
   "cell_type": "code",
   "execution_count": null,
   "id": "28ee6fe8",
   "metadata": {},
   "outputs": [],
   "source": [
    "vw_en.change_registration(\"BGL-A 9\")"
   ]
  },
  {
   "cell_type": "code",
   "execution_count": null,
   "id": "e60e8c4d",
   "metadata": {},
   "outputs": [],
   "source": [
    "# Z.B\n",
    "assert vw.kennzeichen == \"BGL-A 9\" and vw.hersteller == \"VW\"\n",
    "# Oder\n",
    "print(\"Hersteller:\", vw.hersteller, \"\\tKennzeichen:\", vw.kennzeichen)"
   ]
  },
  {
   "cell_type": "code",
   "execution_count": null,
   "id": "119e3eaf",
   "metadata": {},
   "outputs": [],
   "source": [
    "assert vw_en.license_plate == \"BGL-A 9\" and vw_en.manufacturer == \"VW\""
   ]
  },
  {
   "cell_type": "markdown",
   "id": "1301d8e5",
   "metadata": {
    "lang": "en"
   },
   "source": [
    "Change the registration of the BMW saved in `bmw` (to the new registration number \"F-B 21\").\n",
    "Does the change affect the car saved in `bmw2`?"
   ]
  },
  {
   "cell_type": "code",
   "execution_count": null,
   "id": "629e0401",
   "metadata": {
    "lines_to_next_cell": 2
   },
   "outputs": [],
   "source": [
    "bmw.melde_um(\"F-B 21\")\n",
    "print(\"Hersteller:\", bmw.hersteller, \"\\tKennzeichen:\", bmw.kennzeichen)\n",
    "print(\"Hersteller:\", bmw2.hersteller, \"\\tKennzeichen:\", bmw2.kennzeichen)"
   ]
  },
  {
   "cell_type": "markdown",
   "id": "92ffddf6",
   "metadata": {
    "lang": "en"
   },
   "source": [
    "# Motor Vehicles (Part 3)\n",
    "\n",
    "Enhance the `MotorVehicle` class by implementing methods that return a string representation of the vehicle in a suitable form. Repeat the above examples with the new class."
   ]
  },
  {
   "cell_type": "code",
   "execution_count": null,
   "id": "ac93da44",
   "metadata": {},
   "outputs": [],
   "source": [
    "class Kfz:\n",
    "    def __init__(self, hersteller, kennzeichen):\n",
    "        self.hersteller = hersteller\n",
    "        self.kennzeichen = kennzeichen\n",
    "\n",
    "    def melde_um(self, neues_kennzeichen):\n",
    "        self.kennzeichen = neues_kennzeichen\n",
    "\n",
    "    def __repr__(self):\n",
    "        return f\"Kfz({self.hersteller!r}, {self.kennzeichen!r})\""
   ]
  },
  {
   "cell_type": "code",
   "execution_count": null,
   "id": "e4828e92",
   "metadata": {},
   "outputs": [],
   "source": [
    "bmw = Kfz(\"BMW\", \"M-BW 123\")\n",
    "bmw"
   ]
  },
  {
   "cell_type": "code",
   "execution_count": null,
   "id": "9af26a23",
   "metadata": {},
   "outputs": [],
   "source": [
    "bmw2 = Kfz(\"BMW\", \"M-BW 123\")\n",
    "bmw2"
   ]
  },
  {
   "cell_type": "code",
   "execution_count": null,
   "id": "421ed3ba",
   "metadata": {},
   "outputs": [],
   "source": [
    "vw = Kfz(\"VW\", \"WOB-VW 246\")\n",
    "vw"
   ]
  },
  {
   "cell_type": "code",
   "execution_count": null,
   "id": "48e3b2cd",
   "metadata": {},
   "outputs": [],
   "source": [
    "vw.melde_um(\"BGL-A 9\")\n",
    "vw"
   ]
  },
  {
   "cell_type": "code",
   "execution_count": null,
   "id": "b24f87ba",
   "metadata": {},
   "outputs": [],
   "source": [
    "assert vw.kennzeichen == \"BGL-A 9\" and vw.hersteller == \"VW\""
   ]
  },
  {
   "cell_type": "code",
   "execution_count": null,
   "id": "0fd88ec7",
   "metadata": {},
   "outputs": [],
   "source": [
    "bmw.melde_um(\"F-B 21\")\n",
    "bmw"
   ]
  },
  {
   "cell_type": "code",
   "execution_count": null,
   "id": "2b08476a",
   "metadata": {},
   "outputs": [],
   "source": [
    "bmw2"
   ]
  },
  {
   "cell_type": "markdown",
   "id": "8740b097",
   "metadata": {
    "lang": "en"
   },
   "source": [
    "# Shopping List\n",
    "\n",
    "In this workshop we want to define a shopping list, that can manage planned purchases. A shopping list should consist of items that contain a product and the required quantity of the product.\n",
    "\n",
    "Both the shopping list itself and the entries should be represented as user-defined data types.\n",
    "\n",
    "First define a class `ShoppingListItem` that has attributes `product` and `amount`. To do this, use the `@dataclass` decorator"
   ]
  },
  {
   "cell_type": "code",
   "execution_count": null,
   "id": "38a5de63",
   "metadata": {},
   "outputs": [],
   "source": [
    "from dataclasses import dataclass\n",
    "\n",
    "@dataclass\n",
    "class ShoppingListItem:\n",
    "    product: str\n",
    "    amount: str = \"1\""
   ]
  },
  {
   "cell_type": "markdown",
   "id": "e902cb62",
   "metadata": {
    "lang": "en"
   },
   "source": [
    "Create a shopping list item that represents 500g of coffee:"
   ]
  },
  {
   "cell_type": "code",
   "execution_count": null,
   "id": "69493a20",
   "metadata": {},
   "outputs": [],
   "source": [
    "ShoppingListItem(\"Kaffee\", \"500g\")"
   ]
  },
  {
   "cell_type": "markdown",
   "id": "c535b499",
   "metadata": {
    "lang": "en"
   },
   "source": [
    "Define a class `ShoppingList` containing a list of `ShoppingListItem` instances:\n",
    "\n",
    "- Use the `@dataclass` decorator\n",
    "- The class has an attribute `items` of type `list` (or `list[ShoppingListItem]` if\n",
    "  you are using Python 3.9 or newer), initialized with an empty list.\n",
    "- The method `add_item(self, item: ShoppingListItem)` adds a `ShoppingListItem` to the shopping list.\n",
    "\n",
    "Implement a\n",
    "[`__str__()` method](https://docs.python.org/3/reference/datamodel.html#object.__str<_>_),\n",
    "so the following program:\n",
    "\n",
    "```python\n",
    "my_shopping_list = ShoppingList([ShoppingListItem('Tea', '2 packets'),\n",
    "                                 ShoppingListItem('Coffee', '1 packet')])\n",
    "print(str(my_shopping_list))\n",
    "print(repr(my_shopping_list))\n",
    "```\n",
    "\n",
    "Produces the following output:\n",
    "\n",
    "```\n",
    "Shopping List\n",
    "  Tea, (2 packets)\n",
    "  Coffee, (1 packet)\n",
    "\n",
    "ShoppingList(items=[ShoppingListItem(product='Tea', amount='2 packets'), ShoppingListItem(product='Coffee', amount='1 packet')])\n",
    "```\n",
    "\n",
    "Implement a method `__len__()` that returns the length of the shopping list, and a method `__getitem__()` that allows access to items via their numeric index."
   ]
  },
  {
   "cell_type": "code",
   "execution_count": null,
   "id": "27eb646f",
   "metadata": {},
   "outputs": [],
   "source": [
    "from dataclasses import field\n",
    "\n",
    "@dataclass\n",
    "class ShoppingList:\n",
    "    items: list[ShoppingListItem] = field(default_factory=list)\n",
    "\n",
    "    def __str__(self):\n",
    "        result = \"Einkaufsliste\\n\"\n",
    "        for item in self.items:\n",
    "            result += f\"  {item.product}, ({item.amount})\\n\"\n",
    "        return result\n",
    "\n",
    "    def __len__(self):\n",
    "        return len(self.items)\n",
    "\n",
    "    def __getitem__(self, n):\n",
    "        return self.items[n]\n",
    "\n",
    "    def add_item(self, item):\n",
    "        self.items.append(item)"
   ]
  },
  {
   "cell_type": "markdown",
   "id": "fe43a7a5",
   "metadata": {
    "lang": "en"
   },
   "source": [
    "Define a variable `my_shopping_list` containing a shopping list representing the following items:\n",
    "\n",
    "- 2 packets of tea,\n",
    "- 1 packet of coffee\n",
    "\n",
    "Check that `str()` and `repr()` behave as specified above."
   ]
  },
  {
   "cell_type": "code",
   "execution_count": null,
   "id": "420df631",
   "metadata": {},
   "outputs": [],
   "source": [
    "meine_einkaufsliste = ShoppingList([ShoppingListItem(\"Tee\", \"2 Pakete\"), ShoppingListItem(\"Kaffee\", \"1 Paket\")])\n",
    "print(str(meine_einkaufsliste))\n",
    "print(repr(meine_einkaufsliste))"
   ]
  },
  {
   "cell_type": "markdown",
   "id": "ce95e6d8",
   "metadata": {
    "lang": "en"
   },
   "source": [
    "Print out `my_shopping_list`. Does the output look as expected?"
   ]
  },
  {
   "cell_type": "code",
   "execution_count": null,
   "id": "6a110eb6",
   "metadata": {},
   "outputs": [],
   "source": [
    "print(meine_einkaufsliste)"
   ]
  },
  {
   "cell_type": "markdown",
   "id": "05bc8cd7",
   "metadata": {
    "lang": "en"
   },
   "source": [
    "Determine the length of `my_shopping_list` is and its first and second item."
   ]
  },
  {
   "cell_type": "code",
   "execution_count": null,
   "id": "eb9484fb",
   "metadata": {},
   "outputs": [],
   "source": [
    "print(len(meine_einkaufsliste))\n",
    "print(meine_einkaufsliste[0])\n",
    "print(meine_einkaufsliste[1])"
   ]
  },
  {
   "cell_type": "markdown",
   "id": "5a7c4640",
   "metadata": {
    "lang": "en"
   },
   "source": [
    "What is the effect of the following expression?\n",
    "```python\n",
    "  for item in my_shopping_list:\n",
    "      print(item)\n",
    "```"
   ]
  },
  {
   "cell_type": "code",
   "execution_count": null,
   "id": "6a37fbe4",
   "metadata": {},
   "outputs": [],
   "source": [
    "for item in meine_einkaufsliste:\n",
    "    print(item)"
   ]
  },
  {
   "cell_type": "markdown",
   "id": "2a0bdc33",
   "metadata": {
    "lang": "en"
   },
   "source": [
    "Extend the definition of the `ShoppingList` class so that the indexing operator `[]` can also be called with a string argument, and returns the shopping list item with the appropriate `product` attribute if such an item exists, or `None` if no such item exists.\n",
    "\n",
    "Verify that the new implementation of the indexing operators works for boths integer and string arguments.\n",
    "\n",
    "*Hint:* You can use the `isinstance()` function to check whether an object is a string:"
   ]
  },
  {
   "cell_type": "code",
   "execution_count": null,
   "id": "12300d24",
   "metadata": {},
   "outputs": [],
   "source": [
    "print(isinstance(\"abc\", str))\n",
    "print(isinstance(123, str))"
   ]
  },
  {
   "cell_type": "code",
   "execution_count": null,
   "id": "771b1052",
   "metadata": {},
   "outputs": [],
   "source": [
    "@dataclass\n",
    "class ShoppingList:\n",
    "    items: list[ShoppingListItem] = field(default_factory=list)\n",
    "\n",
    "    def __str__(self):\n",
    "        result = \"Einkaufsliste\\n\"\n",
    "        for item in self.items:\n",
    "            result += f\"  {item.product}, ({item.amount})\\n\"\n",
    "        return result\n",
    "\n",
    "    def __len__(self):\n",
    "        return len(self.items)\n",
    "    \n",
    "    def __getitem__(self, n):\n",
    "        if isinstance(n, str):\n",
    "            return self.find_product(n)\n",
    "        return self.items[n]\n",
    "\n",
    "    def find_product(self, product):\n",
    "        for item in self.items:\n",
    "            if item.product == product:\n",
    "                return item\n",
    "        return None\n",
    "    \n",
    "    def add_item(self, item):\n",
    "        self.items.append(item)"
   ]
  },
  {
   "cell_type": "code",
   "execution_count": null,
   "id": "3ec5ac06",
   "metadata": {},
   "outputs": [],
   "source": [
    "meine_einkaufsliste = ShoppingList([ShoppingListItem(\"Tee\", \"2 Pakete\"), ShoppingListItem(\"Kaffee\", \"1 Paket\")])\n",
    "print(meine_einkaufsliste[0])\n",
    "print(meine_einkaufsliste[\"Tee\"])\n",
    "print(meine_einkaufsliste[\"Marmelade\"])"
   ]
  },
  {
   "cell_type": "markdown",
   "id": "85e430bf",
   "metadata": {
    "lang": "en"
   },
   "source": [
    "Add 250g butter and 1 loaf of bread to the shopping list\n",
    "`my_shopping_list`."
   ]
  },
  {
   "cell_type": "code",
   "execution_count": null,
   "id": "13cc4b6d",
   "metadata": {},
   "outputs": [],
   "source": [
    "meine_einkaufsliste.add_item(ShoppingListItem(\"Butter\", \"250g\"))\n",
    "meine_einkaufsliste.add_item(ShoppingListItem(\"Brot\", \"1 Laib\"))\n",
    "meine_einkaufsliste"
   ]
  },
  {
   "cell_type": "markdown",
   "id": "f901b267",
   "metadata": {
    "lang": "en"
   },
   "source": [
    "Print out the shopping list again."
   ]
  },
  {
   "cell_type": "code",
   "execution_count": null,
   "id": "7fc2c726",
   "metadata": {},
   "outputs": [],
   "source": [
    "print(meine_einkaufsliste)"
   ]
  },
  {
   "cell_type": "markdown",
   "id": "cb7fb6c5",
   "metadata": {
    "lang": "en"
   },
   "source": [
    "What happens when you add `butter` and `bread` to the shopping list again?"
   ]
  },
  {
   "cell_type": "code",
   "execution_count": null,
   "id": "9e236e68",
   "metadata": {},
   "outputs": [],
   "source": [
    "meine_einkaufsliste.add_item(ShoppingListItem(\"Butter\", \"250g\"))\n",
    "meine_einkaufsliste.add_item(ShoppingListItem(\"Brot\", \"1 Laib\"))\n",
    "print(meine_einkaufsliste)"
   ]
  },
  {
   "cell_type": "markdown",
   "id": "f8e164c2",
   "metadata": {
    "lang": "en"
   },
   "source": [
    "*Discussion:* How could we improve the behavior of the class?"
   ]
  }
 ],
 "metadata": {
  "kernelspec": {
   "display_name": "Python 3 (ipykernel)",
   "language": "python",
   "name": "python3"
  }
 },
 "nbformat": 4,
 "nbformat_minor": 5
}
