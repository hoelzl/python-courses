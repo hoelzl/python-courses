{
 "cells": [
  {
   "cell_type": "markdown",
   "id": "b184b26b",
   "metadata": {
    "lang": "en"
   },
   "source": [
    "## Caesar encryption\n",
    "\n",
    "Caesar encryption shifts each letter of the to-be-encrypted word\n",
    "in the alphabet by 3 places, e.g. the character string\n",
    "`ABC` becomes the string `DEF`. The last three letters of the alphabet\n",
    "are replaced by the first ones, i.e. `XYZA` becomes `ABCD`.\n",
    "\n",
    "Typically, in historical encryption methods, all\n",
    "letters are converted to uppercase, spaces and special characters are\n",
    "ignored. So after encrypting, the text \"I came, saw and conquered.\" becomes\n",
    "\n",
    "```\n",
    "LFKNDPVDKXQGVLHJWH\n",
    "```"
   ]
  },
  {
   "cell_type": "markdown",
   "id": "4859e749",
   "metadata": {
    "lang": "en"
   },
   "source": [
    "Write a function `encode_char(c: str)` that takes a string `c`\n",
    "consisting of a single character and encodes it as follows:\n",
    "\n",
    "- if `c` is one of the letters `a` to `z` or `A` to `Z` then it is, if\n",
    "  necessary, converted to a capital letter and encrypted using the Caesar\n",
    "  cipher;\n",
    "- if `c` is a digit, it is returned unchanged;\n",
    "- otherwise the empty string `\"\"` is returned.\n",
    "\n",
    "*Note:* The following two strings are helpful:"
   ]
  },
  {
   "cell_type": "code",
   "execution_count": null,
   "id": "bc2fc7fb",
   "metadata": {},
   "outputs": [],
   "source": [
    "letters_in_alphabetical_order = \"ABCDEFGHIJKLMNOPQRSTUVWXYZ1234567890\"\n",
    "letters_in_encoded_order = \"DEFGHIJKLMNOPQRSTUVWXYZABC1234567890\""
   ]
  },
  {
   "cell_type": "code",
   "execution_count": null,
   "id": "54aa31a9",
   "metadata": {},
   "outputs": [],
   "source": [
    "def encode_char(c: str):\n",
    "    c_upper = c.upper()\n",
    "    if c_upper in letters_in_alphabetical_order:\n",
    "        index = letters_in_alphabetical_order.index(c_upper)\n",
    "        return letters_in_encoded_order[index]\n",
    "    else:\n",
    "        return \"\""
   ]
  },
  {
   "cell_type": "markdown",
   "id": "6af43e39",
   "metadata": {
    "lang": "en"
   },
   "source": [
    "Test your implementation with some values"
   ]
  },
  {
   "cell_type": "code",
   "execution_count": null,
   "id": "6d46c19e",
   "metadata": {},
   "outputs": [],
   "source": [
    "encode_char(\"a\")"
   ]
  },
  {
   "cell_type": "code",
   "execution_count": null,
   "id": "d6ed7dda",
   "metadata": {},
   "outputs": [],
   "source": [
    "encode_char(\"x\")"
   ]
  },
  {
   "cell_type": "code",
   "execution_count": null,
   "id": "5b3b3a79",
   "metadata": {},
   "outputs": [],
   "source": [
    "encode_char(\"3\")"
   ]
  },
  {
   "cell_type": "code",
   "execution_count": null,
   "id": "b483b73c",
   "metadata": {},
   "outputs": [],
   "source": [
    "encode_char(\"!\")"
   ]
  },
  {
   "cell_type": "markdown",
   "id": "9ee302f6",
   "metadata": {
    "lang": "en"
   },
   "source": [
    "Write a function `encode_caesar(text: str)` that takes a string\n",
    "`text` and encrypts it using Caesar encryption."
   ]
  },
  {
   "cell_type": "code",
   "execution_count": null,
   "id": "a8c1bcef",
   "metadata": {},
   "outputs": [],
   "source": [
    "def encode_caesar(text: str):\n",
    "    return \"\".join(encode_char(c) for c in text)"
   ]
  },
  {
   "cell_type": "markdown",
   "id": "81643f8d",
   "metadata": {
    "lang": "en"
   },
   "source": [
    "Check your program with the following examples:"
   ]
  },
  {
   "cell_type": "code",
   "execution_count": null,
   "id": "e11cab5b",
   "metadata": {},
   "outputs": [],
   "source": [
    "pangram = \"Sphinx of black quartz, judge my vow!\""
   ]
  },
  {
   "cell_type": "code",
   "execution_count": null,
   "id": "5cfa615a",
   "metadata": {},
   "outputs": [],
   "source": [
    "encoded_pangram = encode_caesar(pangram)\n",
    "encoded_pangram"
   ]
  },
  {
   "cell_type": "code",
   "execution_count": null,
   "id": "cfb39888",
   "metadata": {},
   "outputs": [],
   "source": [
    "verlaine = \"\"\"\\\n",
    "1. Les sanglots longs\n",
    "2. Des violons\n",
    "3. De l'automne\n",
    "4. Blessent mon cœur\n",
    "5. D'une langueur\n",
    "6. Monotone.\n",
    "\n",
    "(Verlaine, 1866)\n",
    "Gesendet vom BBC 1944-06-01 um Operation Overlord anzukündigen\n",
    "\"\"\""
   ]
  },
  {
   "cell_type": "code",
   "execution_count": null,
   "id": "2e040b71",
   "metadata": {},
   "outputs": [],
   "source": [
    "encoded_verlaine = encode_caesar(verlaine)\n",
    "encoded_verlaine"
   ]
  },
  {
   "cell_type": "markdown",
   "id": "63b900d7",
   "metadata": {
    "lang": "en"
   },
   "source": [
    "Now write functions `decode_char(c: str)` and `decode_caesar(text: str)`\n",
    "that decrypt a text encrypted with the Caesar cipher. To be robust, these functions should return characters, that aren't letters or digits, unchanged."
   ]
  },
  {
   "cell_type": "code",
   "execution_count": null,
   "id": "dafa021b",
   "metadata": {},
   "outputs": [],
   "source": [
    "def decode_char(c: str):\n",
    "    if c in letters_in_encoded_order:\n",
    "        index = letters_in_encoded_order.index(c)\n",
    "        return letters_in_alphabetical_order[index]\n",
    "    else:\n",
    "        return c"
   ]
  },
  {
   "cell_type": "code",
   "execution_count": null,
   "id": "00cb2805",
   "metadata": {},
   "outputs": [],
   "source": [
    "def decode_caesar(text: str):\n",
    "    return \"\".join(decode_char(c) for c in text)"
   ]
  },
  {
   "cell_type": "code",
   "execution_count": null,
   "id": "7d6c8fc3",
   "metadata": {},
   "outputs": [],
   "source": [
    "def decode_caesar2(text: str):\n",
    "    result = \"\"\n",
    "    for c in text:\n",
    "        result += decode_char(c)\n",
    "    return result"
   ]
  },
  {
   "cell_type": "markdown",
   "id": "6ec283f6",
   "metadata": {
    "lang": "en"
   },
   "source": [
    "Test `decode_caesar()` with `pangram` and `verlaine`."
   ]
  },
  {
   "cell_type": "code",
   "execution_count": null,
   "id": "e9b107f5",
   "metadata": {},
   "outputs": [],
   "source": [
    "decoded_pangram = decode_caesar(encoded_pangram)\n",
    "decoded_pangram"
   ]
  },
  {
   "cell_type": "code",
   "execution_count": null,
   "id": "dac54e04",
   "metadata": {},
   "outputs": [],
   "source": [
    "decoded_verlaine = decode_caesar(encoded_verlaine)\n",
    "print(decoded_verlaine)"
   ]
  },
  {
   "cell_type": "code",
   "execution_count": null,
   "id": "d0e286ca",
   "metadata": {},
   "outputs": [],
   "source": [
    "assert decoded_pangram == decode_caesar2(encoded_pangram)"
   ]
  },
  {
   "cell_type": "code",
   "execution_count": null,
   "id": "2453f48f",
   "metadata": {},
   "outputs": [],
   "source": [
    "assert decoded_verlaine == decode_caesar2(encoded_verlaine)"
   ]
  },
  {
   "cell_type": "markdown",
   "id": "f72c9d30",
   "metadata": {
    "lang": "en"
   },
   "source": [
    "Decrypt the following text:\n",
    "```\n",
    "SDFN PB ERA ZLWK ILYH GRCHQ OLTXRU MXJV\n",
    "(SDQJUDP IURP QDVD'V VSDFH VKXWWOH SURJUDP)\n",
    "```"
   ]
  },
  {
   "cell_type": "code",
   "execution_count": null,
   "id": "96eaf98c",
   "metadata": {},
   "outputs": [],
   "source": [
    "secret_text = \"\"\"\\\n",
    "SDFN PB ERA ZLWK ILYH GRCHQ OLTXRU MXJV\n",
    "(SDQJUDP IURP QDVD'V VSDFH VKXWWOH SURJUDP)\\\n",
    "\"\"\"\n",
    "print(decode_caesar(secret_text))"
   ]
  },
  {
   "cell_type": "markdown",
   "id": "0bd9a2eb",
   "metadata": {
    "lang": "en"
   },
   "source": [
    "The functions `encode_char()` and `decode_char()` contain a lot of duplicated\n",
    "code. Can you write a function `rot_n_char(...)` that generalizes the\n",
    "functionality of both functions?"
   ]
  },
  {
   "cell_type": "code",
   "execution_count": null,
   "id": "af168180",
   "metadata": {},
   "outputs": [],
   "source": [
    "def rot_n_char(c: str, n: int, keep_non_letters=False):\n",
    "    c_upper = c.upper()\n",
    "    if c_upper in letters_in_alphabetical_order:\n",
    "        source_index = letters_in_alphabetical_order.index(c_upper)\n",
    "        target_index = (source_index + n) % len(letters_in_alphabetical_order)\n",
    "        return letters_in_alphabetical_order[target_index]\n",
    "    elif keep_non_letters:\n",
    "        return c_upper\n",
    "    else:\n",
    "        return \"\""
   ]
  },
  {
   "cell_type": "markdown",
   "id": "148eb1af",
   "metadata": {
    "lang": "en"
   },
   "source": [
    "How can you implement `encode_caesar_2()` and `decode_caesar_2()` \n",
    "using `rot_n_char()`?"
   ]
  },
  {
   "cell_type": "code",
   "execution_count": null,
   "id": "bcfcfaa5",
   "metadata": {},
   "outputs": [],
   "source": [
    "def encode_caesar_2(text: str, keep_non_letters=False):\n",
    "    return \"\".join(rot_n_char(c, 3, keep_non_letters=keep_non_letters) for c in text)"
   ]
  },
  {
   "cell_type": "code",
   "execution_count": null,
   "id": "71a54736",
   "metadata": {},
   "outputs": [],
   "source": [
    "def decode_caesar_2(text: str):\n",
    "    return \"\".join(rot_n_char(c, -3, keep_non_letters=True) for c in text)"
   ]
  },
  {
   "cell_type": "markdown",
   "id": "5728394d",
   "metadata": {
    "lang": "en"
   },
   "source": [
    "Test the new function using `secret_text` and `verlaine`.\n",
    "Are the old and new implementations compatible?"
   ]
  },
  {
   "cell_type": "code",
   "execution_count": null,
   "id": "8f1bff8d",
   "metadata": {},
   "outputs": [],
   "source": [
    "print(decode_caesar_2(secret_text))"
   ]
  },
  {
   "cell_type": "code",
   "execution_count": null,
   "id": "1718487d",
   "metadata": {},
   "outputs": [],
   "source": [
    "encoded_verlaine_2 = encode_caesar_2(verlaine, keep_non_letters=True)\n",
    "print(encoded_verlaine_2)"
   ]
  },
  {
   "cell_type": "code",
   "execution_count": null,
   "id": "13676440",
   "metadata": {},
   "outputs": [],
   "source": [
    "print(decode_caesar_2(encoded_verlaine_2))"
   ]
  },
  {
   "cell_type": "code",
   "execution_count": null,
   "id": "992aaceb",
   "metadata": {},
   "outputs": [],
   "source": [
    "print(decode_caesar(encoded_verlaine_2))"
   ]
  },
  {
   "cell_type": "markdown",
   "id": "5fbbe988",
   "metadata": {
    "lang": "en"
   },
   "source": [
    "Decoding with the original code for the Caesar cipher may reveal a\n",
    "bug that frequently appears in the generalized implementation:\n",
    "it may mix numbers and letters. \n",
    "\n",
    "Congratulations if you managed to avoid this error!\n",
    "How can you fix this bug if it appears in your code?"
   ]
  },
  {
   "cell_type": "code",
   "execution_count": null,
   "id": "705cd8a1",
   "metadata": {},
   "outputs": [],
   "source": [
    "letters = \"ABCDEFGHIJKLMNOPQRSTUVWXYZ\"\n",
    "letters"
   ]
  },
  {
   "cell_type": "code",
   "execution_count": null,
   "id": "5b887138",
   "metadata": {},
   "outputs": [],
   "source": [
    "def rot_n_char(c: str, n: int, keep_non_letters=False):\n",
    "    c_upper = c.upper()\n",
    "    if c_upper in letters:\n",
    "        source_index = letters.index(c_upper)\n",
    "        target_index = (source_index + n) % len(letters)\n",
    "        return letters[target_index]\n",
    "    elif c.isnumeric() or keep_non_letters:\n",
    "        return c_upper\n",
    "    else:\n",
    "        return \"\"\n",
    "\n",
    "\n",
    "def encode_caesar_2(text: str, keep_non_letters=False):\n",
    "    return \"\".join(rot_n_char(c, 3, keep_non_letters=keep_non_letters) for c in text)\n",
    "\n",
    "\n",
    "def decode_caesar_2(text: str):\n",
    "    return \"\".join(rot_n_char(c, -3, keep_non_letters=True) for c in text)"
   ]
  },
  {
   "cell_type": "markdown",
   "id": "a0c7543c",
   "metadata": {
    "lang": "en"
   },
   "source": [
    "Test the new implementation by decoding `secret_text`."
   ]
  },
  {
   "cell_type": "code",
   "execution_count": null,
   "id": "46dc7467",
   "metadata": {},
   "outputs": [],
   "source": [
    "print(decode_caesar_2(secret_text))"
   ]
  },
  {
   "cell_type": "markdown",
   "id": "b88565e4",
   "metadata": {
    "lang": "en"
   },
   "source": [
    "Test the new implementation with `verlaine`."
   ]
  },
  {
   "cell_type": "code",
   "execution_count": null,
   "id": "9beb3367",
   "metadata": {},
   "outputs": [],
   "source": [
    "encoded_verlaine_2 = encode_caesar_2(verlaine, keep_non_letters=True)\n",
    "print(encoded_verlaine_2)"
   ]
  },
  {
   "cell_type": "code",
   "execution_count": null,
   "id": "d4762277",
   "metadata": {},
   "outputs": [],
   "source": [
    "print(decode_caesar_2(encoded_verlaine_2))"
   ]
  },
  {
   "cell_type": "code",
   "execution_count": null,
   "id": "665320cd",
   "metadata": {},
   "outputs": [],
   "source": [
    "print(decode_caesar(encoded_verlaine_2))"
   ]
  },
  {
   "cell_type": "code",
   "execution_count": null,
   "id": "20f0dfbd",
   "metadata": {},
   "outputs": [],
   "source": [
    "decode_caesar(encoded_verlaine_2) == decode_caesar_2(encoded_verlaine_2)"
   ]
  },
  {
   "cell_type": "code",
   "execution_count": null,
   "id": "51db6570",
   "metadata": {
    "tags": [
     "keep"
    ]
   },
   "outputs": [],
   "source": []
  }
 ],
 "metadata": {
  "kernelspec": {
   "display_name": "Python 3 (ipykernel)",
   "language": "python",
   "name": "python3"
  }
 },
 "nbformat": 4,
 "nbformat_minor": 5
}
