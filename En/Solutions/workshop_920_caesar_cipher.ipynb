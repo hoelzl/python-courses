{
 "cells": [
  {
   "cell_type": "markdown",
   "id": "49edddf9",
   "metadata": {
    "lang": "en"
   },
   "source": [
    "## Caesar encryption\n",
    "\n",
    "Caesar encryption shifts each letter of the to-be-encrypted word\n",
    "in the alphabet by 3 places, e.g. the character string\n",
    "`ABC` becomes the string `DEF`. The last three letters of the alphabet\n",
    "are replaced by the first ones, i.e. `XYZA` becomes `ABCD`.\n",
    "\n",
    "Typically, in historical encryption methods, all\n",
    "letters are converted to uppercase, spaces and special characters are\n",
    "ignored. So after encrypting, the text \"I came, saw and conquered.\" becomes\n",
    "\n",
    "```\n",
    "LFKNDPVDKXQGVLHJWH\n",
    "```"
   ]
  },
  {
   "cell_type": "markdown",
   "id": "8718fb0d",
   "metadata": {
    "lang": "en"
   },
   "source": [
    "Write a function `encode_char(c: str)` that takes a string `c`\n",
    "consisting of a single character and encodes it as follows:\n",
    "\n",
    "- if `c` is one of the letters `a` to `z` or `A` to `Z` then it is, if\n",
    "  necessary, converted to a capital letter and encrypted using the Caesar\n",
    "  cipher;\n",
    "- if `c` is a digit, it is returned unchanged;\n",
    "- otherwise the empty string `\"\"` is returned.\n",
    "\n",
    "*Note:* The following two strings are helpful:"
   ]
  },
  {
   "cell_type": "code",
   "execution_count": null,
   "id": "338fb77d",
   "metadata": {},
   "outputs": [],
   "source": [
    "letters_in_alphabetical_order = \"ABCDEFGHIJKLMNOPQRSTUVWXYZ1234567890\"\n",
    "letters_in_encoded_order = \"DEFGHIJKLMNOPQRSTUVWXYZABC1234567890\""
   ]
  },
  {
   "cell_type": "code",
   "execution_count": null,
   "id": "9773003a",
   "metadata": {},
   "outputs": [],
   "source": [
    "def encode_char(c: str):\n",
    "    c_upper = c.upper()\n",
    "    if c_upper in letters_in_alphabetical_order:\n",
    "        index = letters_in_alphabetical_order.index(c_upper)\n",
    "        return letters_in_encoded_order[index]\n",
    "    else:\n",
    "        return \"\""
   ]
  },
  {
   "cell_type": "markdown",
   "id": "8a21427d",
   "metadata": {
    "lang": "en"
   },
   "source": [
    "Test your implementation with some values"
   ]
  },
  {
   "cell_type": "code",
   "execution_count": null,
   "id": "2dcca5e1",
   "metadata": {},
   "outputs": [],
   "source": [
    "encode_char(\"a\")"
   ]
  },
  {
   "cell_type": "code",
   "execution_count": null,
   "id": "bc56cbf4",
   "metadata": {},
   "outputs": [],
   "source": [
    "encode_char(\"x\")"
   ]
  },
  {
   "cell_type": "code",
   "execution_count": null,
   "id": "65e040e8",
   "metadata": {},
   "outputs": [],
   "source": [
    "encode_char(\"3\")"
   ]
  },
  {
   "cell_type": "code",
   "execution_count": null,
   "id": "04260e51",
   "metadata": {},
   "outputs": [],
   "source": [
    "encode_char(\"!\")"
   ]
  },
  {
   "cell_type": "markdown",
   "id": "58d25881",
   "metadata": {
    "lang": "en"
   },
   "source": [
    "Write a function `encode_caesar(text: str)` that takes a string\n",
    "`text` and encrypts it using Caesar encryption."
   ]
  },
  {
   "cell_type": "code",
   "execution_count": null,
   "id": "aad0f08f",
   "metadata": {},
   "outputs": [],
   "source": [
    "def encode_caesar(text: str):\n",
    "    return \"\".join(encode_char(c) for c in text)"
   ]
  },
  {
   "cell_type": "markdown",
   "id": "1d436b25",
   "metadata": {
    "lang": "en"
   },
   "source": [
    "Check your program with the following examples:"
   ]
  },
  {
   "cell_type": "code",
   "execution_count": null,
   "id": "5c44c37b",
   "metadata": {},
   "outputs": [],
   "source": [
    "pangram = \"Sphinx of black quartz, judge my vow!\""
   ]
  },
  {
   "cell_type": "code",
   "execution_count": null,
   "id": "a8bcb953",
   "metadata": {},
   "outputs": [],
   "source": [
    "encoded_pangram = encode_caesar(pangram)\n",
    "encoded_pangram"
   ]
  },
  {
   "cell_type": "code",
   "execution_count": null,
   "id": "be109cab",
   "metadata": {},
   "outputs": [],
   "source": [
    "verlaine = \"\"\"\\\n",
    "1. Les sanglots longs\n",
    "2. Des violons\n",
    "3. De l'automne\n",
    "4. Blessent mon cœur\n",
    "5. D'une langueur\n",
    "6. Monotone.\n",
    "\n",
    "(Verlaine, 1866)\n",
    "Gesendet vom BBC 1944-06-01 um Operation Overlord anzukündigen\n",
    "\"\"\""
   ]
  },
  {
   "cell_type": "code",
   "execution_count": null,
   "id": "b9653430",
   "metadata": {},
   "outputs": [],
   "source": [
    "encoded_verlaine = encode_caesar(verlaine)\n",
    "encoded_verlaine"
   ]
  },
  {
   "cell_type": "markdown",
   "id": "214a9149",
   "metadata": {
    "lang": "en"
   },
   "source": [
    "Now write functions `decode_char(c: str)` and `decode_caesar(text: str)`\n",
    "that decrypt a text encrypted with the Caesar cipher. To be robust, these functions should return characters, that aren't letters or digits, unchanged."
   ]
  },
  {
   "cell_type": "code",
   "execution_count": null,
   "id": "51c4395a",
   "metadata": {},
   "outputs": [],
   "source": [
    "def decode_char(c: str):\n",
    "    if c in letters_in_encoded_order:\n",
    "        index = letters_in_encoded_order.index(c)\n",
    "        return letters_in_alphabetical_order[index]\n",
    "    else:\n",
    "        return c"
   ]
  },
  {
   "cell_type": "code",
   "execution_count": null,
   "id": "4688f8a5",
   "metadata": {},
   "outputs": [],
   "source": [
    "def decode_caesar(text: str):\n",
    "    return \"\".join(decode_char(c) for c in text)"
   ]
  },
  {
   "cell_type": "code",
   "execution_count": null,
   "id": "aaa8823e",
   "metadata": {},
   "outputs": [],
   "source": [
    "def decode_caesar2(text: str):\n",
    "    result = \"\"\n",
    "    for c in text:\n",
    "        result += decode_char(c)\n",
    "    return result"
   ]
  },
  {
   "cell_type": "markdown",
   "id": "1c5f3121",
   "metadata": {
    "lang": "en"
   },
   "source": [
    "Test `decode_caesar()` with `pangram` and `verlaine`."
   ]
  },
  {
   "cell_type": "code",
   "execution_count": null,
   "id": "304338ab",
   "metadata": {},
   "outputs": [],
   "source": [
    "decoded_pangram = decode_caesar(encoded_pangram)\n",
    "decoded_pangram"
   ]
  },
  {
   "cell_type": "code",
   "execution_count": null,
   "id": "e67f250d",
   "metadata": {},
   "outputs": [],
   "source": [
    "decoded_verlaine = decode_caesar(encoded_verlaine)\n",
    "print(decoded_verlaine)"
   ]
  },
  {
   "cell_type": "code",
   "execution_count": null,
   "id": "6c875cf9",
   "metadata": {},
   "outputs": [],
   "source": [
    "assert decoded_pangram == decode_caesar2(encoded_pangram)"
   ]
  },
  {
   "cell_type": "code",
   "execution_count": null,
   "id": "a87934a1",
   "metadata": {},
   "outputs": [],
   "source": [
    "assert decoded_verlaine == decode_caesar2(encoded_verlaine)"
   ]
  },
  {
   "cell_type": "markdown",
   "id": "cdc2128b",
   "metadata": {
    "lang": "en"
   },
   "source": [
    "Decrypt the following text:\n",
    "```\n",
    "SDFN PB ERA ZLWK ILYH GRCHQ OLTXRU MXJV\n",
    "(SDQJUDP IURP QDVD'V VSDFH VKXWWOH SURJUDP)\n",
    "```"
   ]
  },
  {
   "cell_type": "code",
   "execution_count": null,
   "id": "d2373ac2",
   "metadata": {},
   "outputs": [],
   "source": [
    "secret_text = \"\"\"\\\n",
    "SDFN PB ERA ZLWK ILYH GRCHQ OLTXRU MXJV\n",
    "(SDQJUDP IURP QDVD'V VSDFH VKXWWOH SURJUDP)\\\n",
    "\"\"\"\n",
    "print(decode_caesar(secret_text))"
   ]
  },
  {
   "cell_type": "markdown",
   "id": "882da14e",
   "metadata": {
    "lang": "en"
   },
   "source": [
    "The functions `encode_char()` and `decode_char()` contain a lot of duplicated\n",
    "code. Can you write a function `rot_n_char(...)` that generalizes the\n",
    "functionality of both functions?"
   ]
  },
  {
   "cell_type": "code",
   "execution_count": null,
   "id": "62e62d05",
   "metadata": {},
   "outputs": [],
   "source": [
    "def rot_n_char(c: str, n: int, keep_non_letters=False):\n",
    "    c_upper = c.upper()\n",
    "    if c_upper in letters_in_alphabetical_order:\n",
    "        source_index = letters_in_alphabetical_order.index(c_upper)\n",
    "        target_index = (source_index + n) % len(letters_in_alphabetical_order)\n",
    "        return letters_in_alphabetical_order[target_index]\n",
    "    elif keep_non_letters:\n",
    "        return c_upper\n",
    "    else:\n",
    "        return \"\""
   ]
  },
  {
   "cell_type": "markdown",
   "id": "4c8525d8",
   "metadata": {
    "lang": "en"
   },
   "source": [
    "How can you implement `encode_caesar_2()` and `decode_caesar_2()` \n",
    "using `rot_n_char()`?"
   ]
  },
  {
   "cell_type": "code",
   "execution_count": null,
   "id": "86da67ed",
   "metadata": {},
   "outputs": [],
   "source": [
    "def encode_caesar_2(text: str, keep_non_letters=False):\n",
    "    return \"\".join(rot_n_char(c, 3, keep_non_letters=keep_non_letters) for c in text)"
   ]
  },
  {
   "cell_type": "code",
   "execution_count": null,
   "id": "ea7e883f",
   "metadata": {},
   "outputs": [],
   "source": [
    "def decode_caesar_2(text: str):\n",
    "    return \"\".join(rot_n_char(c, -3, keep_non_letters=True) for c in text)"
   ]
  },
  {
   "cell_type": "markdown",
   "id": "764f399e",
   "metadata": {
    "lang": "en"
   },
   "source": [
    "Test the new function using `secret_text` and `verlaine`.\n",
    "Are the old and new implementations compatible?"
   ]
  },
  {
   "cell_type": "code",
   "execution_count": null,
   "id": "0bad7d01",
   "metadata": {},
   "outputs": [],
   "source": [
    "print(decode_caesar_2(secret_text))"
   ]
  },
  {
   "cell_type": "code",
   "execution_count": null,
   "id": "2d2046cc",
   "metadata": {},
   "outputs": [],
   "source": [
    "encoded_verlaine_2 = encode_caesar_2(verlaine, keep_non_letters=True)\n",
    "print(encoded_verlaine_2)"
   ]
  },
  {
   "cell_type": "code",
   "execution_count": null,
   "id": "1cf07ce0",
   "metadata": {},
   "outputs": [],
   "source": [
    "print(decode_caesar_2(encoded_verlaine_2))"
   ]
  },
  {
   "cell_type": "code",
   "execution_count": null,
   "id": "d3625762",
   "metadata": {},
   "outputs": [],
   "source": [
    "print(decode_caesar(encoded_verlaine_2))"
   ]
  },
  {
   "cell_type": "markdown",
   "id": "66510a4f",
   "metadata": {
    "lang": "en"
   },
   "source": [
    "Decoding with the original code for the Caesar cipher may reveal a\n",
    "bug that frequently appears in the generalized implementation:\n",
    "it may mix numbers and letters. \n",
    "\n",
    "Congratulations if you managed to avoid this error!\n",
    "How can you fix this bug if it appears in your code?"
   ]
  },
  {
   "cell_type": "code",
   "execution_count": null,
   "id": "16468fb6",
   "metadata": {},
   "outputs": [],
   "source": [
    "letters = \"ABCDEFGHIJKLMNOPQRSTUVWXYZ\"\n",
    "letters"
   ]
  },
  {
   "cell_type": "code",
   "execution_count": null,
   "id": "f9bb1fa0",
   "metadata": {},
   "outputs": [],
   "source": [
    "def rot_n_char(c: str, n: int, keep_non_letters=False):\n",
    "    c_upper = c.upper()\n",
    "    if c_upper in letters:\n",
    "        source_index = letters.index(c_upper)\n",
    "        target_index = (source_index + n) % len(letters)\n",
    "        return letters[target_index]\n",
    "    elif c.isnumeric() or keep_non_letters:\n",
    "        return c_upper\n",
    "    else:\n",
    "        return \"\"\n",
    "\n",
    "\n",
    "def encode_caesar_2(text: str, keep_non_letters=False):\n",
    "    return \"\".join(rot_n_char(c, 3, keep_non_letters=keep_non_letters) for c in text)\n",
    "\n",
    "\n",
    "def decode_caesar_2(text: str):\n",
    "    return \"\".join(rot_n_char(c, -3, keep_non_letters=True) for c in text)"
   ]
  },
  {
   "cell_type": "markdown",
   "id": "909cfb52",
   "metadata": {
    "lang": "en"
   },
   "source": [
    "Test the new implementation by decoding `secret_text`."
   ]
  },
  {
   "cell_type": "code",
   "execution_count": null,
   "id": "d4ce5015",
   "metadata": {},
   "outputs": [],
   "source": [
    "print(decode_caesar_2(secret_text))"
   ]
  },
  {
   "cell_type": "markdown",
   "id": "5b1f1545",
   "metadata": {
    "lang": "en"
   },
   "source": [
    "Test the new implementation with `verlaine`."
   ]
  },
  {
   "cell_type": "code",
   "execution_count": null,
   "id": "6278ae83",
   "metadata": {},
   "outputs": [],
   "source": [
    "encoded_verlaine_2 = encode_caesar_2(verlaine, keep_non_letters=True)\n",
    "print(encoded_verlaine_2)"
   ]
  },
  {
   "cell_type": "code",
   "execution_count": null,
   "id": "715ebbac",
   "metadata": {},
   "outputs": [],
   "source": [
    "print(decode_caesar_2(encoded_verlaine_2))"
   ]
  },
  {
   "cell_type": "code",
   "execution_count": null,
   "id": "e72975f0",
   "metadata": {},
   "outputs": [],
   "source": [
    "print(decode_caesar(encoded_verlaine_2))"
   ]
  },
  {
   "cell_type": "code",
   "execution_count": null,
   "id": "f9058cdf",
   "metadata": {},
   "outputs": [],
   "source": [
    "decode_caesar(encoded_verlaine_2) == decode_caesar_2(encoded_verlaine_2)"
   ]
  },
  {
   "cell_type": "code",
   "execution_count": null,
   "id": "5307baad",
   "metadata": {
    "tags": [
     "keep"
    ]
   },
   "outputs": [],
   "source": []
  }
 ],
 "metadata": {
  "kernelspec": {
   "display_name": "Python 3 (ipykernel)",
   "language": "python",
   "name": "python3"
  }
 },
 "nbformat": 4,
 "nbformat_minor": 5
}
