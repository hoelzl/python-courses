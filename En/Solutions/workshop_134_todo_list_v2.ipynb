{
 "cells": [
  {
   "cell_type": "markdown",
   "id": "452b9c234f2ec865",
   "metadata": {
    "lang": "en"
   },
   "source": [
    "# Todo list version 2\n",
    "\n",
    "In this workshop we want to implement a to-do list, but now we want to\n",
    "represent both the list and the entries by instances of classes.\n",
    "\n",
    "Each entry in the todo list should contain the following information:\n",
    "\n",
    "- Title\n",
    "- Priority\n",
    "- Has the item already been completed or not?\n",
    "\n",
    "Define a class `TodoItem` that encapsulates this data."
   ]
  },
  {
   "cell_type": "code",
   "execution_count": null,
   "id": "1757321739261a36",
   "metadata": {},
   "outputs": [],
   "source": [
    "class TodoItem:\n",
    "    def __init__(self, title, priority, is_completed):\n",
    "        self.title = title\n",
    "        self.priority = priority\n",
    "        self.is_completed = is_completed"
   ]
  },
  {
   "cell_type": "markdown",
   "id": "4a298fd28e1b0e74",
   "metadata": {
    "lang": "en"
   },
   "source": [
    "Create a todo item with the following components:\n",
    "- Title: Learn Python\n",
    "- Priority 3\n",
    "- not done"
   ]
  },
  {
   "cell_type": "code",
   "execution_count": null,
   "id": "7415c00014a5d9f5",
   "metadata": {},
   "outputs": [],
   "source": [
    "todo_item = TodoItem(\"Python lernen\", 3, False)\n",
    "todo_item"
   ]
  },
  {
   "cell_type": "markdown",
   "id": "f6a354e8d18fe947",
   "metadata": {
    "lang": "en"
   },
   "source": [
    "The representation of the item is not very meaningful. Define\n",
    "therefore a function `todo_item_as_string(item: TodoItem) -> str` which converts a\n",
    "todo item into a string that provides information about the item's attributes."
   ]
  },
  {
   "cell_type": "code",
   "execution_count": null,
   "id": "a50c5a7519c31d03",
   "metadata": {},
   "outputs": [],
   "source": [
    "def todo_item_as_string(item):\n",
    "    return f\"{item.title}, priority {item.priority}\" + (\n",
    "        \"\" if not item.is_completed else \", done\"\n",
    "    )"
   ]
  },
  {
   "cell_type": "code",
   "execution_count": null,
   "id": "090b2e3085ef29d8",
   "metadata": {},
   "outputs": [],
   "source": [
    "print(todo_item_as_string(todo_item))\n",
    "print(todo_item_as_string(TodoItem(\"Buy food\", 2, True)))"
   ]
  },
  {
   "cell_type": "markdown",
   "id": "a07b2bb70724c08d",
   "metadata": {
    "lang": "en"
   },
   "source": [
    "Define a class `TodoList` that represents a todo list."
   ]
  },
  {
   "cell_type": "code",
   "execution_count": null,
   "id": "bc6e776aac95569a",
   "metadata": {},
   "outputs": [],
   "source": [
    "class TodoList:\n",
    "    def __init__(self, items):\n",
    "        self.items = items"
   ]
  },
  {
   "cell_type": "markdown",
   "id": "d2882487f9db5471",
   "metadata": {
    "lang": "en"
   },
   "source": [
    "Define a function\n",
    "\n",
    "`todo_list_as_string(todo_list: TodoList) -> str`,\n",
    "\n",
    "which converts a todo list into a string containing information about its items."
   ]
  },
  {
   "cell_type": "code",
   "execution_count": null,
   "id": "8623b2344d17ba08",
   "metadata": {},
   "outputs": [],
   "source": [
    "def todo_list_as_string(todo_list):\n",
    "    from io import StringIO\n",
    "\n",
    "    result = StringIO()\n",
    "    print(\"Todo List:\", file=result)\n",
    "    for item in todo_list.items:\n",
    "        print(\"  \" + todo_item_as_string(item), file=result)\n",
    "    return result.getvalue()"
   ]
  },
  {
   "cell_type": "markdown",
   "id": "54c3900ced55edf5",
   "metadata": {
    "lang": "en"
   },
   "source": [
    "Create a todo list `todos` containing the following items:\n",
    "\n",
    "- Title: Learn Python, priority 3, not done\n",
    "- Title: Buy vegetables, priority 2, not done\n",
    "- Title: Call Hans, Priority 5, Done"
   ]
  },
  {
   "cell_type": "code",
   "execution_count": null,
   "id": "b4e1b013f5173a45",
   "metadata": {},
   "outputs": [],
   "source": [
    "todos = TodoList(\n",
    "    [\n",
    "        TodoItem(\"Python lernen\", 3, False),\n",
    "        TodoItem(\"Gemüse einkaufen\", 2, False),\n",
    "        TodoItem(\"Hans anrufen\", 5, True),\n",
    "    ]\n",
    ")"
   ]
  },
  {
   "cell_type": "code",
   "execution_count": null,
   "id": "c0fc4eccf82b9ed5",
   "metadata": {},
   "outputs": [],
   "source": [
    "print(todo_list_as_string(todos))"
   ]
  },
  {
   "cell_type": "markdown",
   "id": "72675277386d590b",
   "metadata": {
    "lang": "en"
   },
   "source": [
    "Write a function `add_todo_item(todo_list, title, priority)`,\n",
    "which adds a new todo item to `todo_list`."
   ]
  },
  {
   "cell_type": "code",
   "execution_count": null,
   "id": "d42a9dd947c49543",
   "metadata": {},
   "outputs": [],
   "source": [
    "def add_todo_item(todo_list, title, priority):\n",
    "    todo_list.items.append(TodoItem(title, priority, False))"
   ]
  },
  {
   "cell_type": "markdown",
   "id": "52c61ffdaa3f164e",
   "metadata": {
    "lang": "en"
   },
   "source": [
    "Add a new todo item titled \"shovel snow\" with priority 5 to the `todos` list."
   ]
  },
  {
   "cell_type": "code",
   "execution_count": null,
   "id": "3c796cca2e614b91",
   "metadata": {},
   "outputs": [],
   "source": [
    "add_todo_item(todos, \"Schnee schaufeln\", 5)"
   ]
  },
  {
   "cell_type": "code",
   "execution_count": null,
   "id": "e040eb96470acfdc",
   "metadata": {},
   "outputs": [],
   "source": [
    "print(todo_list_as_string(todos))"
   ]
  },
  {
   "cell_type": "markdown",
   "id": "b272ec38afc6b6c9",
   "metadata": {
    "lang": "en"
   },
   "source": [
    "Write a function `mark_todo_item_done(todo_list, title)`,\n",
    "that marks as done the first todo item with title\n",
    "`title` that is not yet marked as done."
   ]
  },
  {
   "cell_type": "code",
   "execution_count": null,
   "id": "1d4f61eeafbf3907",
   "metadata": {},
   "outputs": [],
   "source": [
    "def mark_todo_item_done(todo_list, title):\n",
    "    for item in todo_list.items:\n",
    "        if item.title == title and not item.is_completed:\n",
    "            item.is_completed = True\n",
    "            break"
   ]
  },
  {
   "cell_type": "markdown",
   "id": "69ca6acac2f843b4",
   "metadata": {
    "lang": "en"
   },
   "source": [
    "Mark the to-do item `Shovel snow` as done."
   ]
  },
  {
   "cell_type": "code",
   "execution_count": null,
   "id": "631b3817b97cb69f",
   "metadata": {},
   "outputs": [],
   "source": [
    "mark_todo_item_done(todos, \"Schnee schaufeln\")"
   ]
  },
  {
   "cell_type": "code",
   "execution_count": null,
   "id": "8a3e2dfbfb2471a5",
   "metadata": {},
   "outputs": [],
   "source": [
    "print(todo_list_as_string(todos))"
   ]
  },
  {
   "cell_type": "markdown",
   "id": "ce87a4e534a11a63",
   "metadata": {
    "lang": "en"
   },
   "source": [
    "Add two todo items with text \"Learn Python\" and priority 1 and 6\n",
    "added to the todo list."
   ]
  },
  {
   "cell_type": "code",
   "execution_count": null,
   "id": "e04466d966502327",
   "metadata": {},
   "outputs": [],
   "source": [
    "add_todo_item(todos, \"Python lernen\", 1)\n",
    "add_todo_item(todos, \"Python lernen\", 6)"
   ]
  },
  {
   "cell_type": "code",
   "execution_count": null,
   "id": "3791e875c84c547c",
   "metadata": {},
   "outputs": [],
   "source": [
    "print(todo_list_as_string(todos))"
   ]
  },
  {
   "cell_type": "markdown",
   "id": "ad8589f174a98771",
   "metadata": {
    "lang": "en"
   },
   "source": [
    "Mark a \"Learn Python\" todo item as done.\n",
    "How does your list look now?"
   ]
  },
  {
   "cell_type": "code",
   "execution_count": null,
   "id": "3fa7bcc259fe8cb1",
   "metadata": {},
   "outputs": [],
   "source": [
    "mark_todo_item_done(todos, \"Python lernen\")"
   ]
  },
  {
   "cell_type": "code",
   "execution_count": null,
   "id": "ac1f0c93c35eb573",
   "metadata": {},
   "outputs": [],
   "source": [
    "print(todo_list_as_string(todos))"
   ]
  },
  {
   "cell_type": "markdown",
   "id": "19e8b374a981575e",
   "metadata": {
    "lang": "en"
   },
   "source": [
    "Mark two more todo items `Learn Python` as done.\n",
    "How does your list look now?"
   ]
  },
  {
   "cell_type": "code",
   "execution_count": null,
   "id": "cc2e68881f7c007d",
   "metadata": {},
   "outputs": [],
   "source": [
    "mark_todo_item_done(todos, \"Python lernen\")\n",
    "print(todo_list_as_string(todos))"
   ]
  },
  {
   "cell_type": "code",
   "execution_count": null,
   "id": "eaab6546f00f9793",
   "metadata": {},
   "outputs": [],
   "source": [
    "mark_todo_item_done(todos, \"Python lernen\")\n",
    "print(todo_list_as_string(todos))"
   ]
  },
  {
   "cell_type": "markdown",
   "id": "13b63c9ac7551fea",
   "metadata": {
    "lang": "en"
   },
   "source": [
    "Write a function `delete_todo_item(todo_list, title)` that removes the\n",
    "first todo item in `todo_list` with title `title`.\n",
    "\n",
    "*Caution: You should not add or remove any entries while iterating over a list!"
   ]
  },
  {
   "cell_type": "code",
   "execution_count": null,
   "id": "77dd947120238de2",
   "metadata": {},
   "outputs": [],
   "source": [
    "def delete_todo_item(todo_list, title):\n",
    "    index_to_delete = -1\n",
    "    for index, item in enumerate(todo_list.items):\n",
    "        if item.title == title:\n",
    "            index_to_delete = index\n",
    "            break\n",
    "    if index_to_delete >= 0:\n",
    "        del todo_list.items[index_to_delete]"
   ]
  },
  {
   "cell_type": "markdown",
   "id": "f35f6a0e90b67db7",
   "metadata": {
    "lang": "en"
   },
   "source": [
    "Remove one of the items `Learn Python`."
   ]
  },
  {
   "cell_type": "code",
   "execution_count": null,
   "id": "89b6003a0551546e",
   "metadata": {},
   "outputs": [],
   "source": [
    "delete_todo_item(todos, \"Python lernen\")\n",
    "print(todo_list_as_string(todos))"
   ]
  },
  {
   "cell_type": "markdown",
   "id": "90f4bfec8a5aeeb9",
   "metadata": {
    "lang": "en"
   },
   "source": [
    "Remove an item `Learn Python` three times. What do you expect as a result?"
   ]
  },
  {
   "cell_type": "code",
   "execution_count": null,
   "id": "66dfbb48d7b8ffd3",
   "metadata": {},
   "outputs": [],
   "source": [
    "delete_todo_item(todos, \"Python lernen\")\n",
    "print(todo_list_as_string(todos))"
   ]
  },
  {
   "cell_type": "code",
   "execution_count": null,
   "id": "756fb426ea3dd7fb",
   "metadata": {},
   "outputs": [],
   "source": [
    "delete_todo_item(todos, \"Python lernen\")\n",
    "print(todo_list_as_string(todos))"
   ]
  },
  {
   "cell_type": "code",
   "execution_count": null,
   "id": "99ae1f81aa36cf36",
   "metadata": {},
   "outputs": [],
   "source": [
    "delete_todo_item(todos, \"Python lernen\")\n",
    "print(todo_list_as_string(todos))"
   ]
  },
  {
   "cell_type": "markdown",
   "id": "b9ce9b5e1cca93cc",
   "metadata": {
    "lang": "en"
   },
   "source": [
    "Write a function `delete_all_completed_todo_items(todo_list)`,\n",
    "which deletes all completed todo items from `todo_list`.\n",
    "\n",
    "*Note: You will probably need two consecutive `for` loops to do this: one to collect the indices and one to clear them*"
   ]
  },
  {
   "cell_type": "code",
   "execution_count": null,
   "id": "e4518f4f2b97e1f2",
   "metadata": {},
   "outputs": [],
   "source": [
    "def delete_all_completed_todo_items(todo_list):\n",
    "    indices_to_delete = []\n",
    "    for index, item in enumerate(todo_list.items):\n",
    "        if item.is_completed:\n",
    "            indices_to_delete.append(index)\n",
    "    for index in sorted(indices_to_delete, reverse=True):\n",
    "        del todo_list.items[index]"
   ]
  },
  {
   "cell_type": "code",
   "execution_count": null,
   "id": "3e706cbc5b8dfccf",
   "metadata": {},
   "outputs": [],
   "source": [
    "delete_all_completed_todo_items(todos)\n",
    "print(todo_list_as_string(todos))"
   ]
  },
  {
   "cell_type": "markdown",
   "id": "18963176e86fe7ba",
   "metadata": {
    "lang": "en"
   },
   "source": [
    "Test your implementation of `delete_all_completed_todo_items()` with\n",
    "the following list:"
   ]
  },
  {
   "cell_type": "code",
   "execution_count": null,
   "id": "330b4ca62836602f",
   "metadata": {},
   "outputs": [],
   "source": [
    "todo_list_2 = TodoList([TodoItem(f\"Item {n}\", 1, n % 2 == 0) for n in range(10)])\n",
    "print(todo_list_as_string(todo_list_2))"
   ]
  },
  {
   "cell_type": "code",
   "execution_count": null,
   "id": "0f7b5e738511dc67",
   "metadata": {},
   "outputs": [],
   "source": [
    "delete_all_completed_todo_items(todo_list_2)\n",
    "print(todo_list_as_string(todo_list_2))"
   ]
  },
  {
   "cell_type": "code",
   "execution_count": null,
   "id": "6b4e03423667dbb7",
   "metadata": {
    "tags": [
     "keep"
    ]
   },
   "outputs": [],
   "source": []
  }
 ],
 "metadata": {
  "kernelspec": {
   "display_name": "Python 3 (ipykernel)",
   "language": "python",
   "name": "python3"
  }
 },
 "nbformat": 4,
 "nbformat_minor": 5
}
