{
 "cells": [
  {
   "cell_type": "markdown",
   "id": "8b3d897bd68bdbb2",
   "metadata": {
    "lang": "en"
   },
   "source": [
    "# Creating NumPy arrays"
   ]
  },
  {
   "cell_type": "code",
   "execution_count": null,
   "id": "9189f60d213fe786",
   "metadata": {},
   "outputs": [],
   "source": [
    "import numpy as np"
   ]
  },
  {
   "cell_type": "markdown",
   "id": "04c77d0efa227760",
   "metadata": {
    "lang": "en"
   },
   "source": [
    "Create the following NumPy arrays:"
   ]
  },
  {
   "cell_type": "markdown",
   "id": "9003c8a9c29ccb4b",
   "metadata": {
    "lang": "en"
   },
   "source": [
    "```pythons\n",
    "array([0, 1, 2, 3, 4, 5, 6, 7, 8, 9])\n",
    "```"
   ]
  },
  {
   "cell_type": "code",
   "execution_count": null,
   "id": "479292695389f356",
   "metadata": {},
   "outputs": [],
   "source": [
    "np.arange(10)"
   ]
  },
  {
   "cell_type": "markdown",
   "id": "104cd6c3f5256be7",
   "metadata": {
    "lang": "en"
   },
   "source": [
    "```pythons\n",
    "array([0. , 1.25, 2.5 , 3.75, 5. ])\n",
    "```"
   ]
  },
  {
   "cell_type": "code",
   "execution_count": null,
   "id": "b2bc0b12bcbf206f",
   "metadata": {},
   "outputs": [],
   "source": [
    "np.linspace(0, 5, 5)"
   ]
  },
  {
   "cell_type": "markdown",
   "id": "06252b74991b2f07",
   "metadata": {
    "lang": "en"
   },
   "source": [
    "```pythons\n",
    "array([ 1, 3, 12, 92])\n",
    "```"
   ]
  },
  {
   "cell_type": "code",
   "execution_count": null,
   "id": "44c0fd0460cc0bf7",
   "metadata": {},
   "outputs": [],
   "source": [
    "np.array([1, 3, 12, 92])"
   ]
  },
  {
   "cell_type": "markdown",
   "id": "29b0d5b3adcfddb9",
   "metadata": {
    "lang": "en"
   },
   "source": [
    "```pythons\n",
    "array([[1, 2, 3, 4],\n",
    "       [5, 6, 7, 8]])\n",
    "```"
   ]
  },
  {
   "cell_type": "code",
   "execution_count": null,
   "id": "2797e07d1f2b7e58",
   "metadata": {},
   "outputs": [],
   "source": [
    "np.array([[1, 2, 3, 4], [5, 6, 7, 8]])"
   ]
  },
  {
   "cell_type": "markdown",
   "id": "e31568216abe5a22",
   "metadata": {
    "lang": "en"
   },
   "source": [
    "```pythons\n",
    "array([[[0, 2, 4, 6],\n",
    "        [1, 3, 5, 7]],\n",
    "\n",
    "       [[1, 2, 3, 4],\n",
    "        [5, 6, 7, 8]],\n",
    "\n",
    "       [[9, 8, 7, 6],\n",
    "        [5, 4, 3, 2]]])\n",
    "```"
   ]
  },
  {
   "cell_type": "code",
   "execution_count": null,
   "id": "50a907753e40c816",
   "metadata": {},
   "outputs": [],
   "source": [
    "np.array(\n",
    "    [\n",
    "        [[0, 2, 4, 6], [1, 3, 5, 7]],\n",
    "        [[1, 2, 3, 4], [5, 6, 7, 8]],\n",
    "        [[9, 8, 7, 6], [5, 4, 3, 2]],\n",
    "    ]\n",
    ")"
   ]
  },
  {
   "cell_type": "code",
   "execution_count": null,
   "id": "d12af3ece961ae33",
   "metadata": {},
   "outputs": [],
   "source": [
    "np.array(\n",
    "    [\n",
    "        [range(0, 7, 2), range(1, 8, 2)],\n",
    "        [range(1, 5), range(5, 9)],\n",
    "        [range(9, 5, -1), range(5, 1, -1)],\n",
    "    ]\n",
    ")"
   ]
  },
  {
   "cell_type": "markdown",
   "id": "c6cc6ce372257614",
   "metadata": {
    "lang": "en"
   },
   "source": [
    "A $2\\times 8$ array containing uniformly distributed random numbers in $[0, 1)$."
   ]
  },
  {
   "cell_type": "code",
   "execution_count": null,
   "id": "b3e7ea13ddd596af",
   "metadata": {},
   "outputs": [],
   "source": [
    "np.random.rand(2, 8)"
   ]
  },
  {
   "cell_type": "markdown",
   "id": "159d7fae95a34b51",
   "metadata": {
    "lang": "en"
   },
   "source": [
    "```pythons\n",
    "array([[1st, 0th, 0th],\n",
    "       [0th, 1st, 0th],\n",
    "       [0th, 0th, 1st]])\n",
    "```"
   ]
  },
  {
   "cell_type": "code",
   "execution_count": null,
   "id": "09a8f70feaa277ec",
   "metadata": {},
   "outputs": [],
   "source": [
    "np.eye(3)"
   ]
  },
  {
   "cell_type": "markdown",
   "id": "b3109650e16399bb",
   "metadata": {
    "lang": "en"
   },
   "source": [
    "A vector of length 5 containing normally distributed numbers."
   ]
  },
  {
   "cell_type": "code",
   "execution_count": null,
   "id": "ddf087b32e3de256",
   "metadata": {},
   "outputs": [],
   "source": [
    "np.random.standard_normal(5)"
   ]
  },
  {
   "cell_type": "markdown",
   "id": "9bf38797b1efe7ad",
   "metadata": {
    "lang": "en"
   },
   "source": [
    "A $3 \\times 4$ array containing normally distributed numbers with mean $5$ and standard deviation $0.5$."
   ]
  },
  {
   "cell_type": "code",
   "execution_count": null,
   "id": "4fc8976288a3ac9d",
   "metadata": {},
   "outputs": [],
   "source": [
    "np.random.normal(5, 0.5, (3, 4))"
   ]
  },
  {
   "cell_type": "markdown",
   "id": "ed436def128b6beb",
   "metadata": {
    "lang": "en"
   },
   "source": [
    "## Systems of equations\n",
    "\n",
    "Solve the following system of equations:\n",
    "\n",
    "$x_1 - x_2 + 2x_3 = 6$\n",
    "\n",
    "$2x_1 + 3x_2 + 2x_3 = 8$\n",
    "\n",
    "$3x_1 + 2x_2 + x_3 = 8$"
   ]
  },
  {
   "cell_type": "code",
   "execution_count": null,
   "id": "76aa2d8ba3c311ae",
   "metadata": {},
   "outputs": [],
   "source": [
    "a = np.array([[1.0, -1.0, 2.0], [2.0, 3.0, 2.0], [3.0, 2.0, 1.0]])\n",
    "b = np.array([6.0, 8.0, 8.0])"
   ]
  },
  {
   "cell_type": "code",
   "execution_count": null,
   "id": "742ed38f0bf9b341",
   "metadata": {},
   "outputs": [],
   "source": [
    "import scipy.linalg as linalg\n",
    "\n",
    "lu = linalg.lu_factor(a)"
   ]
  },
  {
   "cell_type": "code",
   "execution_count": null,
   "id": "4a928fbd542e7e6c",
   "metadata": {},
   "outputs": [],
   "source": [
    "x = linalg.lu_solve(lu, b)"
   ]
  },
  {
   "cell_type": "code",
   "execution_count": null,
   "id": "63e6ceb28ad474fa",
   "metadata": {},
   "outputs": [],
   "source": [
    "x"
   ]
  },
  {
   "cell_type": "code",
   "execution_count": null,
   "id": "3248c595ca2f9df1",
   "metadata": {},
   "outputs": [],
   "source": [
    "a.dot(x)"
   ]
  },
  {
   "cell_type": "markdown",
   "id": "20e59bb3463c9ffc",
   "metadata": {
    "lang": "en"
   },
   "source": [
    "# Create NumPy arrays 2\n",
    "\n",
    "Create the following NumPy array:\n",
    "\n",
    "```pythons\n",
    "array([[ 0, 2, 4, 6],\n",
    "       [8, 10, 12, 14],\n",
    "       [16, 18, 20, 22],\n",
    "       [24, 26, 28, 30],\n",
    "       [32, 34, 36, 38]])\n",
    "```"
   ]
  },
  {
   "cell_type": "code",
   "execution_count": null,
   "id": "7aacdc7815758da3",
   "metadata": {},
   "outputs": [],
   "source": [
    "np.arange(0, 40, 2).reshape(5, 4)"
   ]
  },
  {
   "cell_type": "markdown",
   "id": "7f2abdcdcfed6748",
   "metadata": {
    "lang": "en"
   },
   "source": [
    "Create the following NumPy array:\n",
    "\n",
    "```pythons\n",
    "array([[10, 19, 28, 37, 46, 55],\n",
    "       [13, 22, 31, 40, 49, 58],\n",
    "       [16, 25, 34, 43, 52, 61]])\n",
    "```"
   ]
  },
  {
   "cell_type": "code",
   "execution_count": null,
   "id": "923adb8b14356cf6",
   "metadata": {},
   "outputs": [],
   "source": [
    "np.arange(10, 64, 3).reshape(3, 6, order=\"F\")"
   ]
  },
  {
   "cell_type": "markdown",
   "id": "33e7dd3ed02bda62",
   "metadata": {
    "lang": "en"
   },
   "source": [
    "# Extreme values\n",
    "\n",
    "Generate a vector of length 100 containing random values equally\n",
    "distributed in the interval $[10, 20)$.\n",
    "\n",
    "Calculate minimum and maximum of the values\n",
    "contained in the vector as well as the indices of minimum and maximum."
   ]
  },
  {
   "cell_type": "code",
   "execution_count": null,
   "id": "2477b8e7b65d9c1e",
   "metadata": {},
   "outputs": [],
   "source": [
    "vec = np.random.random(100) * 10 + 10\n",
    "vec[:10]"
   ]
  },
  {
   "cell_type": "code",
   "execution_count": null,
   "id": "655ede7721b0c990",
   "metadata": {},
   "outputs": [],
   "source": [
    "vec.min()"
   ]
  },
  {
   "cell_type": "code",
   "execution_count": null,
   "id": "1e73572f986dd0dd",
   "metadata": {},
   "outputs": [],
   "source": [
    "vec.argmin()"
   ]
  },
  {
   "cell_type": "code",
   "execution_count": null,
   "id": "762790a3b826cf49",
   "metadata": {},
   "outputs": [],
   "source": [
    "vec.max()"
   ]
  },
  {
   "cell_type": "code",
   "execution_count": null,
   "id": "397469ad0d3f2ed9",
   "metadata": {},
   "outputs": [],
   "source": [
    "vec.argmax()"
   ]
  },
  {
   "cell_type": "markdown",
   "id": "9683f31f377ddcf3",
   "metadata": {
    "lang": "en"
   },
   "source": [
    "\n",
    "# Average\n",
    "\n",
    "Create a $6 \\times 8$ array with numbers normally distributed with\n",
    "mean $2$ and standard deviation $1$."
   ]
  },
  {
   "cell_type": "code",
   "execution_count": null,
   "id": "009e825b6fb52352",
   "metadata": {},
   "outputs": [],
   "source": [
    "my_array = np.random.normal(2.0, 1.0, (6, 8))"
   ]
  },
  {
   "cell_type": "markdown",
   "id": "056db72fc1323708",
   "metadata": {
    "lang": "en"
   },
   "source": [
    "Calculate the mean of all values in the array."
   ]
  },
  {
   "cell_type": "code",
   "execution_count": null,
   "id": "1c0d33d2ffd1eebb",
   "metadata": {},
   "outputs": [],
   "source": [
    "my_array.mean()"
   ]
  },
  {
   "cell_type": "markdown",
   "id": "eed9d11c3c84f13a",
   "metadata": {
    "lang": "en"
   },
   "source": [
    "Calculate the row and column means."
   ]
  },
  {
   "cell_type": "code",
   "execution_count": null,
   "id": "8e147f3456279659",
   "metadata": {},
   "outputs": [],
   "source": [
    "my_array.mean(axis=0)"
   ]
  },
  {
   "cell_type": "code",
   "execution_count": null,
   "id": "f5462f5157f0e1a2",
   "metadata": {},
   "outputs": [],
   "source": [
    "my_array.mean(axis=1)"
   ]
  },
  {
   "cell_type": "markdown",
   "id": "fe09e3e30d30c44c",
   "metadata": {
    "lang": "en"
   },
   "source": [
    "Calculate the mean of all  values in the array without using the\n",
    "`mean()` method."
   ]
  },
  {
   "cell_type": "code",
   "execution_count": null,
   "id": "29c53f921d29174b",
   "metadata": {},
   "outputs": [],
   "source": [
    "mean = my_array.sum() / my_array.size\n",
    "mean"
   ]
  },
  {
   "cell_type": "markdown",
   "id": "582a9a1e6d898e98",
   "metadata": {
    "lang": "en"
   },
   "source": [
    "Calculate the row and column means without using the\n",
    "`mean()` method."
   ]
  },
  {
   "cell_type": "code",
   "execution_count": null,
   "id": "b39a622876f9ee6a",
   "metadata": {},
   "outputs": [],
   "source": [
    "my_array.sum(axis=0) / my_array.shape[0]"
   ]
  },
  {
   "cell_type": "code",
   "execution_count": null,
   "id": "960d53b5553aa787",
   "metadata": {},
   "outputs": [],
   "source": [
    "my_array.sum(axis=1) / my_array.shape[1]"
   ]
  },
  {
   "cell_type": "markdown",
   "id": "ca88a0ee529e2419",
   "metadata": {
    "lang": "en"
   },
   "source": [
    "# Roulette\n",
    "\n",
    "Use Monte Carlo simulation to analyze a player's winning expectation in the following simplified form of a roulette game:\n",
    "\n",
    "- The croupier spins a wheel divided into 36 equal segments, numbered from 1 to 36.\n",
    "- The player chooses one of the numbers 1 to 36 and bets 1 euro.\n",
    "- If the ball lands on the selected number, the player receives his bet\n",
    "  plus 35 euros back.\n",
    "- Otherwise, the player loses his bet.\n",
    "\n",
    "Write a version of the simulation with a `for` loop in Python and\n",
    "test the performance of this version before and after compilation with\n",
    "Numba. Then write a vectorized version and test the\n",
    "performance with and without compiling it with Numba.\n",
    "\n",
    "*Notes:*\n",
    "- The NumPy library contains a function\n",
    "  `np.random.randint(low, high, size=None)`, which you can use to\n",
    "  create an array with Shape `size` containing uniformly distributed\n",
    "  random numbers between `low` (inclusive) and `high` (exclusive).\n",
    "- If `np.random.randint()` is called with only two arguments it returns\n",
    "  a single number.\n",
    "- The NumPy library contains a function\n",
    "  `np.random.binomial(n, p, size=None)` with which you can generate\n",
    "  binomially distributed random numbers."
   ]
  },
  {
   "cell_type": "code",
   "execution_count": null,
   "id": "82f63bd43a1e8f00",
   "metadata": {},
   "outputs": [],
   "source": [
    "import numpy as np"
   ]
  },
  {
   "cell_type": "code",
   "execution_count": null,
   "id": "67c0f38057bd8543",
   "metadata": {},
   "outputs": [],
   "source": [
    "def roulette1(n):\n",
    "    # We can assume that the player always bets on the 1\n",
    "    # Wir können davon ausgehen, dass der Spieler immer auf die 1 wettet\n",
    "    money_spent = 0\n",
    "    money_won = 0\n",
    "    for i in range(n):\n",
    "        money_spent += 1\n",
    "        if np.random.randint(1, 37) == 1:\n",
    "            money_won += 36\n",
    "    return (money_won - money_spent) / n"
   ]
  },
  {
   "cell_type": "code",
   "execution_count": null,
   "id": "c413933d02dcdd58",
   "metadata": {},
   "outputs": [],
   "source": [
    "def test_roulette(roulette):\n",
    "    np.random.seed(123)\n",
    "    for n in [1000, 100_000, 1_000_000]:\n",
    "        %time print(f\"Gewinnerwartung ist {100 * roulette(n):.1f}% ({n} Versuche)\")"
   ]
  },
  {
   "cell_type": "code",
   "execution_count": null,
   "id": "632b1a5d49d14b65",
   "metadata": {},
   "outputs": [],
   "source": [
    "test_roulette(roulette1)"
   ]
  },
  {
   "cell_type": "code",
   "execution_count": null,
   "id": "f9018bdad94e5e29",
   "metadata": {},
   "outputs": [],
   "source": [
    "import numba\n",
    "\n",
    "roulette1_nb = numba.jit(roulette1)"
   ]
  },
  {
   "cell_type": "code",
   "execution_count": null,
   "id": "9af73dcacc2747d4",
   "metadata": {},
   "outputs": [],
   "source": [
    "test_roulette(roulette1_nb)"
   ]
  },
  {
   "cell_type": "code",
   "execution_count": null,
   "id": "ce203626d185a340",
   "metadata": {},
   "outputs": [],
   "source": [
    "def roulette2(n):\n",
    "    money_spent = np.ones(n)\n",
    "    money_won = np.random.binomial(1, 1.0 / 36.0, n) * 36\n",
    "    return (money_won - money_spent).sum() / n"
   ]
  },
  {
   "cell_type": "code",
   "execution_count": null,
   "id": "e9e870b048de2a87",
   "metadata": {},
   "outputs": [],
   "source": [
    "test_roulette(roulette2)"
   ]
  },
  {
   "cell_type": "code",
   "execution_count": null,
   "id": "368fdbb9a6fa8e80",
   "metadata": {},
   "outputs": [],
   "source": [
    "roulette2_nb = numba.jit(roulette2)"
   ]
  },
  {
   "cell_type": "code",
   "execution_count": null,
   "id": "b0d1ef747574bb3f",
   "metadata": {},
   "outputs": [],
   "source": [
    "test_roulette(roulette2_nb)"
   ]
  },
  {
   "cell_type": "code",
   "execution_count": null,
   "id": "bfb35a9281defd48",
   "metadata": {},
   "outputs": [],
   "source": [
    "def roulette3(n):\n",
    "    money_spent = n\n",
    "    money_won = np.random.binomial(n, 1.0 / 36.0) * 36\n",
    "    return (money_won - money_spent) / n"
   ]
  },
  {
   "cell_type": "code",
   "execution_count": null,
   "id": "a8bb164bae9ace68",
   "metadata": {},
   "outputs": [],
   "source": [
    "test_roulette(roulette3)"
   ]
  },
  {
   "cell_type": "code",
   "execution_count": null,
   "id": "126afa117bc69772",
   "metadata": {},
   "outputs": [],
   "source": [
    "roulette3_nb = numba.jit(roulette3)"
   ]
  },
  {
   "cell_type": "code",
   "execution_count": null,
   "id": "27e5bc1d845703aa",
   "metadata": {},
   "outputs": [],
   "source": [
    "test_roulette(roulette3_nb)"
   ]
  },
  {
   "cell_type": "code",
   "execution_count": null,
   "id": "6b4e03423667dbb7",
   "metadata": {
    "tags": [
     "keep"
    ]
   },
   "outputs": [],
   "source": []
  }
 ],
 "metadata": {
  "kernelspec": {
   "display_name": "Python 3 (ipykernel)",
   "language": "python",
   "name": "python3"
  }
 },
 "nbformat": 4,
 "nbformat_minor": 5
}
