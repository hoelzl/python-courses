{
 "cells": [
  {
   "cell_type": "markdown",
   "id": "a7e1db58",
   "metadata": {
    "lang": "en"
   },
   "source": [
    "# Creating NumPy arrays"
   ]
  },
  {
   "cell_type": "code",
   "execution_count": null,
   "id": "e1c57bed",
   "metadata": {},
   "outputs": [],
   "source": [
    "import numpy as np"
   ]
  },
  {
   "cell_type": "markdown",
   "id": "96c47178",
   "metadata": {
    "lang": "en"
   },
   "source": [
    "Create the following NumPy arrays:"
   ]
  },
  {
   "cell_type": "markdown",
   "id": "697e285d",
   "metadata": {
    "lang": "en"
   },
   "source": [
    "```pythons\n",
    "array([0, 1, 2, 3, 4, 5, 6, 7, 8, 9])\n",
    "```"
   ]
  },
  {
   "cell_type": "code",
   "execution_count": null,
   "id": "32d84e2c",
   "metadata": {},
   "outputs": [],
   "source": [
    "np.arange(10)"
   ]
  },
  {
   "cell_type": "markdown",
   "id": "f9eeb302",
   "metadata": {
    "lang": "en"
   },
   "source": [
    "```pythons\n",
    "array([0. , 1.25, 2.5 , 3.75, 5. ])\n",
    "```"
   ]
  },
  {
   "cell_type": "code",
   "execution_count": null,
   "id": "cbb118f7",
   "metadata": {},
   "outputs": [],
   "source": [
    "np.linspace(0, 5, 5)"
   ]
  },
  {
   "cell_type": "markdown",
   "id": "e59e8dbc",
   "metadata": {
    "lang": "en"
   },
   "source": [
    "```pythons\n",
    "array([ 1, 3, 12, 92])\n",
    "```"
   ]
  },
  {
   "cell_type": "code",
   "execution_count": null,
   "id": "0a8a710e",
   "metadata": {},
   "outputs": [],
   "source": [
    "np.array([1, 3, 12, 92])"
   ]
  },
  {
   "cell_type": "markdown",
   "id": "09d97f34",
   "metadata": {
    "lang": "en"
   },
   "source": [
    "```pythons\n",
    "array([[1, 2, 3, 4],\n",
    "       [5, 6, 7, 8]])\n",
    "```"
   ]
  },
  {
   "cell_type": "code",
   "execution_count": null,
   "id": "5e43748b",
   "metadata": {},
   "outputs": [],
   "source": [
    "np.array([[1, 2, 3, 4], [5, 6, 7, 8]])"
   ]
  },
  {
   "cell_type": "markdown",
   "id": "25dc9c71",
   "metadata": {
    "lang": "en"
   },
   "source": [
    "```pythons\n",
    "array([[[0, 2, 4, 6],\n",
    "        [1, 3, 5, 7]],\n",
    "\n",
    "       [[1, 2, 3, 4],\n",
    "        [5, 6, 7, 8]],\n",
    "\n",
    "       [[9, 8, 7, 6],\n",
    "        [5, 4, 3, 2]]])\n",
    "```"
   ]
  },
  {
   "cell_type": "code",
   "execution_count": null,
   "id": "11d24014",
   "metadata": {},
   "outputs": [],
   "source": [
    "np.array(\n",
    "    [\n",
    "        [[0, 2, 4, 6], [1, 3, 5, 7]],\n",
    "        [[1, 2, 3, 4], [5, 6, 7, 8]],\n",
    "        [[9, 8, 7, 6], [5, 4, 3, 2]],\n",
    "    ]\n",
    ")"
   ]
  },
  {
   "cell_type": "code",
   "execution_count": null,
   "id": "d275b9a0",
   "metadata": {},
   "outputs": [],
   "source": [
    "np.array(\n",
    "    [\n",
    "        [range(0, 7, 2), range(1, 8, 2)],\n",
    "        [range(1, 5), range(5, 9)],\n",
    "        [range(9, 5, -1), range(5, 1, -1)],\n",
    "    ]\n",
    ")"
   ]
  },
  {
   "cell_type": "markdown",
   "id": "6b80e737",
   "metadata": {
    "lang": "en"
   },
   "source": [
    "A $2\\times 8$ array containing uniformly distributed random numbers in $[0, 1)$."
   ]
  },
  {
   "cell_type": "code",
   "execution_count": null,
   "id": "255259a6",
   "metadata": {},
   "outputs": [],
   "source": [
    "np.random.rand(2, 8)"
   ]
  },
  {
   "cell_type": "markdown",
   "id": "127ffb1c",
   "metadata": {
    "lang": "en"
   },
   "source": [
    "```pythons\n",
    "array([[1st, 0th, 0th],\n",
    "       [0th, 1st, 0th],\n",
    "       [0th, 0th, 1st]])\n",
    "```"
   ]
  },
  {
   "cell_type": "code",
   "execution_count": null,
   "id": "318cc161",
   "metadata": {},
   "outputs": [],
   "source": [
    "np.eye(3)"
   ]
  },
  {
   "cell_type": "markdown",
   "id": "428fa419",
   "metadata": {
    "lang": "en"
   },
   "source": [
    "A vector of length 5 containing normally distributed numbers."
   ]
  },
  {
   "cell_type": "code",
   "execution_count": null,
   "id": "6237a4dd",
   "metadata": {},
   "outputs": [],
   "source": [
    "np.random.standard_normal(5)"
   ]
  },
  {
   "cell_type": "markdown",
   "id": "677446a5",
   "metadata": {
    "lang": "en"
   },
   "source": [
    "A $3 \\times 4$ array containing normally distributed numbers with mean $5$ and standard deviation $0.5$."
   ]
  },
  {
   "cell_type": "code",
   "execution_count": null,
   "id": "e0ab7341",
   "metadata": {},
   "outputs": [],
   "source": [
    "np.random.normal(5, 0.5, (3, 4))"
   ]
  },
  {
   "cell_type": "markdown",
   "id": "ea4e833c",
   "metadata": {
    "lang": "en"
   },
   "source": [
    "## Systems of equations\n",
    "\n",
    "Solve the following system of equations:\n",
    "\n",
    "$x_1 - x_2 + 2x_3 = 6$\n",
    "\n",
    "$2x_1 + 3x_2 + 2x_3 = 8$\n",
    "\n",
    "$3x_1 + 2x_2 + x_3 = 8$"
   ]
  },
  {
   "cell_type": "code",
   "execution_count": null,
   "id": "91a4f40c",
   "metadata": {},
   "outputs": [],
   "source": [
    "a = np.array([[1.0, -1.0, 2.0], [2.0, 3.0, 2.0], [3.0, 2.0, 1.0]])\n",
    "b = np.array([6.0, 8.0, 8.0])"
   ]
  },
  {
   "cell_type": "code",
   "execution_count": null,
   "id": "59b68cda",
   "metadata": {},
   "outputs": [],
   "source": [
    "import scipy.linalg as linalg\n",
    "\n",
    "lu = linalg.lu_factor(a)"
   ]
  },
  {
   "cell_type": "code",
   "execution_count": null,
   "id": "8e2f2519",
   "metadata": {},
   "outputs": [],
   "source": [
    "x = linalg.lu_solve(lu, b)"
   ]
  },
  {
   "cell_type": "code",
   "execution_count": null,
   "id": "94cdbd83",
   "metadata": {},
   "outputs": [],
   "source": [
    "x"
   ]
  },
  {
   "cell_type": "code",
   "execution_count": null,
   "id": "899cf8ad",
   "metadata": {},
   "outputs": [],
   "source": [
    "a.dot(x)"
   ]
  },
  {
   "cell_type": "markdown",
   "id": "c8f4ca64",
   "metadata": {
    "lang": "en"
   },
   "source": [
    "# Create NumPy arrays 2\n",
    "\n",
    "Create the following NumPy array:\n",
    "\n",
    "```pythons\n",
    "array([[ 0, 2, 4, 6],\n",
    "       [8, 10, 12, 14],\n",
    "       [16, 18, 20, 22],\n",
    "       [24, 26, 28, 30],\n",
    "       [32, 34, 36, 38]])\n",
    "```"
   ]
  },
  {
   "cell_type": "code",
   "execution_count": null,
   "id": "440c805b",
   "metadata": {},
   "outputs": [],
   "source": [
    "np.arange(0, 40, 2).reshape(5, 4)"
   ]
  },
  {
   "cell_type": "markdown",
   "id": "e95c8d56",
   "metadata": {
    "lang": "en"
   },
   "source": [
    "Create the following NumPy array:\n",
    "\n",
    "```pythons\n",
    "array([[10, 19, 28, 37, 46, 55],\n",
    "       [13, 22, 31, 40, 49, 58],\n",
    "       [16, 25, 34, 43, 52, 61]])\n",
    "```"
   ]
  },
  {
   "cell_type": "code",
   "execution_count": null,
   "id": "3d622f33",
   "metadata": {},
   "outputs": [],
   "source": [
    "np.arange(10, 64, 3).reshape(3, 6, order=\"F\")"
   ]
  },
  {
   "cell_type": "markdown",
   "id": "39df649d",
   "metadata": {
    "lang": "en"
   },
   "source": [
    "# Extreme values\n",
    "\n",
    "Generate a vector of length 100 containing random values equally\n",
    "distributed in the interval $[10, 20)$.\n",
    "\n",
    "Calculate minimum and maximum of the values\n",
    "contained in the vector as well as the indices of minimum and maximum."
   ]
  },
  {
   "cell_type": "code",
   "execution_count": null,
   "id": "26fe72a7",
   "metadata": {},
   "outputs": [],
   "source": [
    "vec = np.random.random(100) * 10 + 10\n",
    "vec[:10]"
   ]
  },
  {
   "cell_type": "code",
   "execution_count": null,
   "id": "62173fd4",
   "metadata": {},
   "outputs": [],
   "source": [
    "vec.min()"
   ]
  },
  {
   "cell_type": "code",
   "execution_count": null,
   "id": "46c4971a",
   "metadata": {},
   "outputs": [],
   "source": [
    "vec.argmin()"
   ]
  },
  {
   "cell_type": "code",
   "execution_count": null,
   "id": "f9f0d5f2",
   "metadata": {},
   "outputs": [],
   "source": [
    "vec.max()"
   ]
  },
  {
   "cell_type": "code",
   "execution_count": null,
   "id": "2d52162d",
   "metadata": {},
   "outputs": [],
   "source": [
    "vec.argmax()"
   ]
  },
  {
   "cell_type": "markdown",
   "id": "26fc65a4",
   "metadata": {
    "lang": "en"
   },
   "source": [
    "\n",
    "# Average\n",
    "\n",
    "Create a $6 \\times 8$ array with numbers normally distributed with\n",
    "mean $2$ and standard deviation $1$."
   ]
  },
  {
   "cell_type": "code",
   "execution_count": null,
   "id": "fba80179",
   "metadata": {},
   "outputs": [],
   "source": [
    "my_array = np.random.normal(2.0, 1.0, (6, 8))"
   ]
  },
  {
   "cell_type": "markdown",
   "id": "a9aacd89",
   "metadata": {
    "lang": "en"
   },
   "source": [
    "Calculate the mean of all values in the array."
   ]
  },
  {
   "cell_type": "code",
   "execution_count": null,
   "id": "fdc550ba",
   "metadata": {},
   "outputs": [],
   "source": [
    "my_array.mean()"
   ]
  },
  {
   "cell_type": "markdown",
   "id": "1ce95b3f",
   "metadata": {
    "lang": "en"
   },
   "source": [
    "Calculate the row and column means."
   ]
  },
  {
   "cell_type": "code",
   "execution_count": null,
   "id": "c5bc7caa",
   "metadata": {},
   "outputs": [],
   "source": [
    "my_array.mean(axis=0)"
   ]
  },
  {
   "cell_type": "code",
   "execution_count": null,
   "id": "6c54d1f3",
   "metadata": {},
   "outputs": [],
   "source": [
    "my_array.mean(axis=1)"
   ]
  },
  {
   "cell_type": "markdown",
   "id": "2db8f71c",
   "metadata": {
    "lang": "en"
   },
   "source": [
    "Calculate the mean of all  values in the array without using the\n",
    "`mean()` method."
   ]
  },
  {
   "cell_type": "code",
   "execution_count": null,
   "id": "5373d808",
   "metadata": {},
   "outputs": [],
   "source": [
    "mean = my_array.sum() / my_array.size\n",
    "mean"
   ]
  },
  {
   "cell_type": "markdown",
   "id": "819ba086",
   "metadata": {
    "lang": "en"
   },
   "source": [
    "Calculate the row and column means without using the\n",
    "`mean()` method."
   ]
  },
  {
   "cell_type": "code",
   "execution_count": null,
   "id": "ac7b10ff",
   "metadata": {},
   "outputs": [],
   "source": [
    "my_array.sum(axis=0) / my_array.shape[0]"
   ]
  },
  {
   "cell_type": "code",
   "execution_count": null,
   "id": "184b144c",
   "metadata": {},
   "outputs": [],
   "source": [
    "my_array.sum(axis=1) / my_array.shape[1]"
   ]
  },
  {
   "cell_type": "markdown",
   "id": "bd39cfa8",
   "metadata": {
    "lang": "en"
   },
   "source": [
    "# Roulette\n",
    "\n",
    "Use Monte Carlo simulation to analyze a player's winning expectation in the following simplified form of a roulette game:\n",
    "\n",
    "- The croupier spins a wheel divided into 36 equal segments, numbered from 1 to 36.\n",
    "- The player chooses one of the numbers 1 to 36 and bets 1 euro.\n",
    "- If the ball lands on the selected number, the player receives his bet\n",
    "  plus 35 euros back.\n",
    "- Otherwise, the player loses his bet.\n",
    "\n",
    "Write a version of the simulation with a `for` loop in Python and\n",
    "test the performance of this version before and after compilation with\n",
    "Numba. Then write a vectorized version and test the\n",
    "performance with and without compiling it with Numba.\n",
    "\n",
    "*Notes:*\n",
    "- The NumPy library contains a function\n",
    "  `np.random.randint(low, high, size=None)`, which you can use to\n",
    "  create an array with Shape `size` containing uniformly distributed\n",
    "  random numbers between `low` (inclusive) and `high` (exclusive).\n",
    "- If `np.random.randint()` is called with only two arguments it returns\n",
    "  a single number.\n",
    "- The NumPy library contains a function\n",
    "  `np.random.binomial(n, p, size=None)` with which you can generate\n",
    "  binomially distributed random numbers."
   ]
  },
  {
   "cell_type": "code",
   "execution_count": null,
   "id": "3552cebc",
   "metadata": {},
   "outputs": [],
   "source": [
    "import numpy as np"
   ]
  },
  {
   "cell_type": "code",
   "execution_count": null,
   "id": "155d256b",
   "metadata": {},
   "outputs": [],
   "source": [
    "def roulette1(n):\n",
    "    # We can assume that the player always bets on the 1\n",
    "    # Wir können davon ausgehen, dass der Spieler immer auf die 1 wettet\n",
    "    money_spent = 0\n",
    "    money_won = 0\n",
    "    for i in range(n):\n",
    "        money_spent += 1\n",
    "        if np.random.randint(1, 37) == 1:\n",
    "            money_won += 36\n",
    "    return (money_won - money_spent) / n"
   ]
  },
  {
   "cell_type": "code",
   "execution_count": null,
   "id": "bd13b617",
   "metadata": {},
   "outputs": [],
   "source": [
    "def test_roulette(roulette):\n",
    "    np.random.seed(123)\n",
    "    for n in [1000, 100_000, 1_000_000]:\n",
    "        %time print(f\"Gewinnerwartung ist {100 * roulette(n):.1f}% ({n} Versuche)\")"
   ]
  },
  {
   "cell_type": "code",
   "execution_count": null,
   "id": "6f623fc6",
   "metadata": {},
   "outputs": [],
   "source": [
    "test_roulette(roulette1)"
   ]
  },
  {
   "cell_type": "code",
   "execution_count": null,
   "id": "cab0b09e",
   "metadata": {},
   "outputs": [],
   "source": [
    "import numba\n",
    "\n",
    "roulette1_nb = numba.jit(roulette1)"
   ]
  },
  {
   "cell_type": "code",
   "execution_count": null,
   "id": "2ad5379a",
   "metadata": {},
   "outputs": [],
   "source": [
    "test_roulette(roulette1_nb)"
   ]
  },
  {
   "cell_type": "code",
   "execution_count": null,
   "id": "8478e172",
   "metadata": {},
   "outputs": [],
   "source": [
    "def roulette2(n):\n",
    "    money_spent = np.ones(n)\n",
    "    money_won = np.random.binomial(1, 1.0 / 36.0, n) * 36\n",
    "    return (money_won - money_spent).sum() / n"
   ]
  },
  {
   "cell_type": "code",
   "execution_count": null,
   "id": "0e75a05e",
   "metadata": {},
   "outputs": [],
   "source": [
    "test_roulette(roulette2)"
   ]
  },
  {
   "cell_type": "code",
   "execution_count": null,
   "id": "e09940a8",
   "metadata": {},
   "outputs": [],
   "source": [
    "roulette2_nb = numba.jit(roulette2)"
   ]
  },
  {
   "cell_type": "code",
   "execution_count": null,
   "id": "b9b6b23e",
   "metadata": {},
   "outputs": [],
   "source": [
    "test_roulette(roulette2_nb)"
   ]
  },
  {
   "cell_type": "code",
   "execution_count": null,
   "id": "c4da5c39",
   "metadata": {},
   "outputs": [],
   "source": [
    "def roulette3(n):\n",
    "    money_spent = n\n",
    "    money_won = np.random.binomial(n, 1.0 / 36.0) * 36\n",
    "    return (money_won - money_spent) / n"
   ]
  },
  {
   "cell_type": "code",
   "execution_count": null,
   "id": "11c25e10",
   "metadata": {},
   "outputs": [],
   "source": [
    "test_roulette(roulette3)"
   ]
  },
  {
   "cell_type": "code",
   "execution_count": null,
   "id": "22852793",
   "metadata": {},
   "outputs": [],
   "source": [
    "roulette3_nb = numba.jit(roulette3)"
   ]
  },
  {
   "cell_type": "code",
   "execution_count": null,
   "id": "586c30af",
   "metadata": {},
   "outputs": [],
   "source": [
    "test_roulette(roulette3_nb)"
   ]
  },
  {
   "cell_type": "code",
   "execution_count": null,
   "id": "6b425f5d",
   "metadata": {
    "tags": [
     "keep"
    ]
   },
   "outputs": [],
   "source": []
  }
 ],
 "metadata": {
  "kernelspec": {
   "display_name": "Python 3 (ipykernel)",
   "language": "python",
   "name": "python3"
  }
 },
 "nbformat": 4,
 "nbformat_minor": 5
}
