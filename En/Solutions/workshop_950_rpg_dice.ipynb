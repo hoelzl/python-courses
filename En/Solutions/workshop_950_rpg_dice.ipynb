{
 "cells": [
  {
   "cell_type": "markdown",
   "id": "cfc2cb8454419743",
   "metadata": {
    "lang": "en"
   },
   "source": [
    "# RPG dice\n",
    "\n",
    "In roleplaying games, conflicts between players are often decided by rolling\n",
    "dice, often multiple dice at the same time. Furthermore games often use\n",
    "not only the well known 6-sided dice, but also 4-sided, 8-sided, 20-sided dice, etc.\n",
    "\n",
    "The number and type of dice is described by the following notation:\n",
    "\n",
    "```text\n",
    "<number of dice> d <number of sides per die>\n",
    "```\n",
    "\n",
    "For example, rolling two 6-sided dice is described as `2d6`.\n",
    "Sometimes more complex formulas are used: `3d20 + 2d6 - 4`\n",
    "means that three 20-sided dice and two 6-sided dice are rolled\n",
    "at the same time, and the total sum of numbers is then reduced by 4.\n",
    "\n",
    "In some games, rolling the lowest or highest number of dice is treated\n",
    "in a special way (\"catastrophic failure\", \"critical success\").\n",
    "\n",
    "In the following exercise your task is to implement RPG dice in Python.\n",
    "To simplify testing your implementation it might be advisable\n",
    "to implement it in an IDE, but it is also possible to write tests as\n",
    "assertions in a jupyter notebook. \n",
    "\n",
    "Write tests for each functionality you implement. How can you deal with the\n",
    "randomness in dice rolling? What are the strengths and weaknesses of the strategy\n",
    "you have chosen to test?"
   ]
  },
  {
   "cell_type": "markdown",
   "id": "b899efd5363b568a",
   "metadata": {
    "lang": "en"
   },
   "source": [
    "## Generalized dice: Interface `Dice`\n",
    "\n",
    "Implement an abstract class `Dice` that describes rolling of\n",
    "arbitrary dice: The class should provide the following abstract methods:\n",
    "\n",
    "- `roll(): int` returns the result of a roll with the appropriate\n",
    "  dice.\n",
    "\n",
    "- properties `max_value: int` and `min_value: int` return the smallest and largest\n",
    "  value that can be rolled with the corresponding dice.\n",
    "  dice.\n",
    "\n",
    "If you are using Pytest:\n",
    "Write parametric Pytest tests to test (indirect) instances of `Dice`."
   ]
  },
  {
   "cell_type": "code",
   "execution_count": null,
   "id": "6685ddf645c351ce",
   "metadata": {},
   "outputs": [],
   "source": [
    "import random\n",
    "from abc import ABC, abstractmethod\n",
    "from typing import Tuple, Callable, Sequence, Union, Iterable"
   ]
  },
  {
   "cell_type": "code",
   "execution_count": null,
   "id": "ce8231f95adeba95",
   "metadata": {},
   "outputs": [],
   "source": [
    "class Dice(ABC):\n",
    "    \"\"\"Roll with a combination of multiple dice.\"\"\"\n",
    "\n",
    "    @abstractmethod\n",
    "    def roll(self) -> int:\n",
    "        ...\n",
    "\n",
    "    @property\n",
    "    @abstractmethod\n",
    "    def min_value(self) -> int:\n",
    "        ...\n",
    "\n",
    "    @property\n",
    "    @abstractmethod\n",
    "    def max_value(self) -> int:\n",
    "        ..."
   ]
  },
  {
   "cell_type": "markdown",
   "id": "46a17db12e6b8d7d",
   "metadata": {
    "lang": "en"
   },
   "source": [
    "## Class `ConstantDice`\n",
    "\n",
    "Implement a class `ConstantDice`, which implements the interface `Dice` and\n",
    "represents a die that always rolls a constant value. The result value is\n",
    "specified when the creating an instance of the class."
   ]
  },
  {
   "cell_type": "code",
   "execution_count": null,
   "id": "aab7512ad43ec8de",
   "metadata": {
    "lang": "en",
    "lines_to_next_cell": 1
   },
   "outputs": [],
   "source": [
    "class ConstantDice(Dice):\n",
    "    def __init__(self, value):\n",
    "        self.value = value\n",
    "\n",
    "    def __eq__(self, other):\n",
    "        if isinstance(other, ConstantDice):\n",
    "            return self.value == other.value\n",
    "        else:\n",
    "            return False\n",
    "\n",
    "    def roll(self) -> int:\n",
    "        return self.value\n",
    "\n",
    "    @property\n",
    "    def min_value(self) -> int:\n",
    "        return self.value\n",
    "\n",
    "    @property\n",
    "    def max_value(self) -> int:\n",
    "        return self.value"
   ]
  },
  {
   "cell_type": "code",
   "execution_count": null,
   "id": "6fe3ec383f156857",
   "metadata": {
    "lines_to_next_cell": 2
   },
   "outputs": [],
   "source": [
    "dice = ConstantDice(3)\n",
    "assert dice.min_value == 3\n",
    "assert dice.max_value == 3\n",
    "assert dice.roll() == 3"
   ]
  },
  {
   "cell_type": "markdown",
   "id": "731b9a0a8411c9a3",
   "metadata": {
    "lang": "en",
    "lines_to_next_cell": 2
   },
   "source": [
    "## Class `FairDice`\n",
    "\n",
    "Implement a class `FairDice` that implements the interface `Dice`and\n",
    "represents a single rolls with multiple dice all having the same (configurable)\n",
    "number of sides. For example, instances of the class `FairDice` should be\n",
    "able to simulate dice rolls of the form `3d6` or `4d17`\n",
    "(although in reality there is no 17-sided (fair) die).\n",
    "\n",
    "How can you deal with randomness in dice rolling when testing? What\n",
    "are strengths or weaknesses of the chosen testing strategy?\n",
    "\n",
    "*Hint:* Look at `random.randint()` and `random.seed()`."
   ]
  },
  {
   "cell_type": "code",
   "execution_count": null,
   "id": "65a234aee88925e2",
   "metadata": {},
   "outputs": [],
   "source": [
    "class FairDice(Dice):\n",
    "    def __init__(self, num_dice, num_sides):\n",
    "        assert num_dice >= 1\n",
    "        assert num_sides >= 2\n",
    "\n",
    "        self.num_dice = num_dice\n",
    "        self.num_sides = num_sides\n",
    "\n",
    "    def __eq__(self, other):\n",
    "        if isinstance(other, FairDice):\n",
    "            return (self.num_dice == other.num_dice\n",
    "                    and self.num_sides == other.num_sides)\n",
    "        else:\n",
    "            return False\n",
    "\n",
    "    def roll(self) -> int:\n",
    "        result = 0\n",
    "        for _ in range(self.num_dice):\n",
    "            result += random.randint(1, self.num_sides)\n",
    "        return result\n",
    "\n",
    "    @property\n",
    "    def min_value(self) -> int:\n",
    "        return self.num_dice\n",
    "\n",
    "    @property\n",
    "    def max_value(self) -> int:\n",
    "        return self.num_sides * self.num_dice"
   ]
  },
  {
   "cell_type": "code",
   "execution_count": null,
   "id": "3574c2036ff34b06",
   "metadata": {},
   "outputs": [],
   "source": [
    "dice = FairDice(2, 6)\n",
    "assert dice.min_value == 2\n",
    "assert dice.max_value == 12\n",
    "random.seed(1)\n",
    "assert dice.roll() == 7"
   ]
  },
  {
   "cell_type": "markdown",
   "id": "90c4ba494d2b2145",
   "metadata": {
    "lang": "en",
    "lines_to_next_cell": 2
   },
   "source": [
    "## Class `SumDice`\n",
    "\n",
    "Implement a class `SumDice` which implements the interface `Dice` and\n",
    "represents the sum of the dice rolls with several different dice\n",
    "(potentially of the form `<m>d<n>`)."
   ]
  },
  {
   "cell_type": "code",
   "execution_count": null,
   "id": "23445d5f06522131",
   "metadata": {},
   "outputs": [],
   "source": [
    "class SumDice(Dice):\n",
    "    def __init__(self, dice: Iterable):\n",
    "        assert dice\n",
    "        self.dice = dice\n",
    "\n",
    "    def __eq__(self, other):\n",
    "        if isinstance(other, SumDice):\n",
    "            return self.dice == other.dice\n",
    "        else:\n",
    "            return False\n",
    "\n",
    "    def roll(self) -> int:\n",
    "        return sum(d.roll() for d in self.dice)\n",
    "\n",
    "    @property\n",
    "    def min_value(self) -> int:\n",
    "        return sum(d.min_value for d in self.dice)\n",
    "\n",
    "    @property\n",
    "    def max_value(self) -> int:\n",
    "        return sum(d.max_value for d in self.dice)\n",
    "\n"
   ]
  },
  {
   "cell_type": "code",
   "execution_count": null,
   "id": "34caca8c8eee2144",
   "metadata": {},
   "outputs": [],
   "source": [
    "dice = SumDice([ConstantDice(3), ConstantDice(2)])\n",
    "assert dice.min_value == 5\n",
    "assert dice.max_value == 5\n",
    "assert dice.roll() == 5"
   ]
  },
  {
   "cell_type": "code",
   "execution_count": null,
   "id": "229cb9259ed7f37d",
   "metadata": {},
   "outputs": [],
   "source": [
    "dice = SumDice([ConstantDice(1), FairDice(2, 6)])\n",
    "assert dice.min_value == 3\n",
    "assert dice.max_value == 13\n",
    "random.seed(1)\n",
    "assert dice.roll() == 8"
   ]
  },
  {
   "cell_type": "markdown",
   "id": "84e78d4837e8d36d",
   "metadata": {
    "lang": "en",
    "lines_to_next_cell": 2
   },
   "source": [
    "## Class `SimpleDie`\n",
    "\n",
    "Implement a class `SimpleDie`, which implements the interface `Dice`\n",
    "and represents a single roll of a die with an arbitrary number of sides\n",
    "(specified when the die is instantiated)."
   ]
  },
  {
   "cell_type": "code",
   "execution_count": null,
   "id": "3272d533e4683a69",
   "metadata": {},
   "outputs": [],
   "source": [
    "class SimpleDie(Dice):\n",
    "    def __init__(self, num_sides):\n",
    "        assert num_sides >= 2\n",
    "        self.num_sides = num_sides\n",
    "\n",
    "    def __eq__(self, other):\n",
    "        if isinstance(other, SimpleDie):\n",
    "            return self.num_sides == other.num_sides\n",
    "        else:\n",
    "            return False\n",
    "\n",
    "    def roll(self) -> int:\n",
    "        return random.randint(1, self.num_sides)\n",
    "\n",
    "    @property\n",
    "    def min_value(self) -> int:\n",
    "        return 1\n",
    "\n",
    "    @property\n",
    "    def max_value(self) -> int:\n",
    "        return self.num_sides"
   ]
  },
  {
   "cell_type": "code",
   "execution_count": null,
   "id": "d0e4b44712f3265f",
   "metadata": {},
   "outputs": [],
   "source": [
    "die = SimpleDie(6)\n",
    "assert die.min_value == 1\n",
    "assert die.max_value == 6\n",
    "random.seed(1)\n",
    "assert die.roll() == 2"
   ]
  },
  {
   "cell_type": "markdown",
   "id": "4c14589f5b2606e1",
   "metadata": {
    "lang": "en",
    "lines_to_next_cell": 2
   },
   "source": [
    "## Class `MultipleRollDice`\n",
    "\n",
    "Implement a class `MultipleRollDice` which implements the interface `Dice` \n",
    "and represents rolling of a (generalized) dice a certain number of times.\n",
    "Both the die and the number of rolls should be specified when an\n",
    "instance is created.\n",
    "\n",
    "What is the relationship between `FairDice` and the combination of\n",
    "`SimpleDie` and `MultipleRollDice`? How do the two\n",
    "implementation strategies in their testability."
   ]
  },
  {
   "cell_type": "code",
   "execution_count": null,
   "id": "fa691de5602dde4c",
   "metadata": {},
   "outputs": [],
   "source": [
    "class MultipleRollDice(Dice):\n",
    "    def __init__(self, rolls, dice):\n",
    "        assert rolls >= 1\n",
    "        assert dice\n",
    "        self.rolls = rolls\n",
    "        self.dice = dice\n",
    "\n",
    "    def __eq__(self, other):\n",
    "        if isinstance(other, MultipleRollDice):\n",
    "            return self.rolls == other.rolls and self.dice == other.dice\n",
    "        else:\n",
    "            return False\n",
    "\n",
    "    def roll(self) -> int:\n",
    "        result = 0\n",
    "        for _ in range(self.rolls):\n",
    "            result += self.dice.roll()\n",
    "        return result\n",
    "\n",
    "    @property\n",
    "    def min_value(self) -> int:\n",
    "        return self.rolls * self.dice.min_value\n",
    "\n",
    "    @property\n",
    "    def max_value(self) -> int:\n",
    "        return self.rolls * self.dice.max_value\n",
    "\n"
   ]
  },
  {
   "cell_type": "code",
   "execution_count": null,
   "id": "41994a91956e92f3",
   "metadata": {},
   "outputs": [],
   "source": [
    "dice = MultipleRollDice(2, SimpleDie(6))\n",
    "assert dice.min_value == 2\n",
    "assert dice.max_value == 12\n",
    "random.seed(1)\n",
    "assert dice.roll() == 7"
   ]
  },
  {
   "cell_type": "markdown",
   "id": "90def4a0497e47b7",
   "metadata": {
    "lang": "en"
   },
   "source": [
    "# Factory for RPG dice\n",
    "\n",
    "Write a function `create_dice(configuration: str) -> Dice`,\n",
    "which gets a configuration of RPG dice as argument and returns an\n",
    "suitable configuration of dice instances.  For example\n",
    "for \"3d8 + 6\" a `SumDice` should be returned, which contains a `FairDice` (with\n",
    "3 8-sided dice) and a `ConstantDice` with the value 6."
   ]
  },
  {
   "cell_type": "code",
   "execution_count": null,
   "id": "e2bfd7a6e80e39da",
   "metadata": {
    "tags": [
     "keep"
    ]
   },
   "outputs": [],
   "source": []
  }
 ],
 "metadata": {
  "kernelspec": {
   "display_name": "Python 3 (ipykernel)",
   "language": "python",
   "name": "python3"
  }
 },
 "nbformat": 4,
 "nbformat_minor": 5
}
