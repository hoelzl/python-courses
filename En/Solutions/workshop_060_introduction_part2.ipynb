{
 "cells": [
  {
   "cell_type": "markdown",
   "id": "7227a8d5",
   "metadata": {
    "lang": "en"
   },
   "source": [
    "# Operators, comparisons\n",
    "\n",
    "Is $2^{16}$ larger than $32\\,000\\,\\,/\\,\\,2$?"
   ]
  },
  {
   "cell_type": "code",
   "execution_count": null,
   "id": "d18a43d0",
   "metadata": {},
   "outputs": [],
   "source": [
    "2**16 > (32_000 / 2)"
   ]
  },
  {
   "cell_type": "markdown",
   "id": "268e3ad5",
   "metadata": {
    "lang": "en"
   },
   "source": [
    "Is $72$ divisible by $3$ without a remainder?"
   ]
  },
  {
   "cell_type": "code",
   "execution_count": null,
   "id": "a2d8b1fb",
   "metadata": {},
   "outputs": [],
   "source": [
    "72 % 3 == 0"
   ]
  },
  {
   "cell_type": "markdown",
   "id": "79a1e18e",
   "metadata": {
    "lang": "en"
   },
   "source": [
    "Is $72$ an even number (i.e. divisible by 2 without remainder)?"
   ]
  },
  {
   "cell_type": "code",
   "execution_count": null,
   "id": "c21153f6",
   "metadata": {},
   "outputs": [],
   "source": [
    "72 % 2 == 0"
   ]
  },
  {
   "cell_type": "markdown",
   "id": "2f9b9747",
   "metadata": {
    "lang": "en"
   },
   "source": [
    "## Divisibility\n",
    "\n",
    "Write a function `is_divisible_by(m,n)` which returns `True` if (and only if) `m` is divisible by `n`."
   ]
  },
  {
   "cell_type": "code",
   "execution_count": null,
   "id": "2d830bf9",
   "metadata": {
    "lang": "en"
   },
   "outputs": [],
   "source": [
    "def is_divisible_by(m, n):\n",
    "    return m % n == 0"
   ]
  },
  {
   "cell_type": "code",
   "execution_count": null,
   "id": "833c0364",
   "metadata": {
    "lang": "en",
    "lines_to_next_cell": 1
   },
   "outputs": [],
   "source": [
    "is_divisible_by(6, 2)"
   ]
  },
  {
   "cell_type": "markdown",
   "id": "b7b67178",
   "metadata": {
    "lang": "en"
   },
   "source": [
    "Write a function `is_divisible_by_2_and_3(n)` that returns `True` if (and only if) `n` is divisible by $2$ and by $3$."
   ]
  },
  {
   "cell_type": "code",
   "execution_count": null,
   "id": "765605bf",
   "metadata": {
    "lang": "en"
   },
   "outputs": [],
   "source": [
    "def is_divisible_by_2_and_3(n):\n",
    "    return n % 6 == 0"
   ]
  },
  {
   "cell_type": "markdown",
   "id": "aa1d7d94",
   "metadata": {
    "lang": "en"
   },
   "source": [
    "Test whether $72$ is divisible by $2$ and by $3$."
   ]
  },
  {
   "cell_type": "code",
   "execution_count": null,
   "id": "9aa06f1d",
   "metadata": {
    "lang": "en"
   },
   "outputs": [],
   "source": [
    "ist_teilbar_durch_2_und_3(72)"
   ]
  },
  {
   "cell_type": "code",
   "execution_count": null,
   "id": "496ffbbb",
   "metadata": {
    "lang": "en"
   },
   "outputs": [],
   "source": [
    "is_divisible_by_2_and_3(72)"
   ]
  },
  {
   "cell_type": "markdown",
   "id": "c686028b",
   "metadata": {
    "lang": "en"
   },
   "source": [
    "# Of legal age\n",
    "\n",
    "Write a function `print_of_age(age)` that prints `of age` on the screen if `age >= 18` and `minor` otherwise."
   ]
  },
  {
   "cell_type": "code",
   "execution_count": null,
   "id": "5e47e469",
   "metadata": {
    "lang": "en"
   },
   "outputs": [],
   "source": [
    "def print_of_age(age):\n",
    "    if age < 18:\n",
    "        print(\"minor\")\n",
    "    else:\n",
    "        print(\"of age\")"
   ]
  },
  {
   "cell_type": "markdown",
   "id": "f728dd2c",
   "metadata": {
    "lang": "en"
   },
   "source": [
    "Test `print_of age(age)` with the values ​​17 and 18."
   ]
  },
  {
   "cell_type": "code",
   "execution_count": null,
   "id": "5d69e089",
   "metadata": {
    "lang": "en"
   },
   "outputs": [],
   "source": [
    "print_of_age(17)\n",
    "print_of_age(18)"
   ]
  },
  {
   "cell_type": "markdown",
   "id": "a67954af",
   "metadata": {
    "lang": "en"
   },
   "source": [
    "### Shortened output\n",
    "\n",
    "Write a function `fits_in_line(text: str, line_length: int = 72)`,\n",
    "which returns `True` or `False` depending on whether `text` fits into a line of\n",
    "length `line_length`:\n",
    "```python\n",
    ">>> fits_in_line(\"Hello\")\n",
    "True\n",
    ">>> fits_in_line(\"Hello\", 3)\n",
    "False\n",
    ">>>\n",
    "```"
   ]
  },
  {
   "cell_type": "code",
   "execution_count": null,
   "id": "a6a0912e",
   "metadata": {},
   "outputs": [],
   "source": [
    "def fits_in_line(text: str, line_length: int = 72):\n",
    "    return len(text) <= line_length"
   ]
  },
  {
   "cell_type": "code",
   "execution_count": null,
   "id": "a2da00ba",
   "metadata": {},
   "outputs": [],
   "source": [
    "fits_in_line(\"Hello\")"
   ]
  },
  {
   "cell_type": "code",
   "execution_count": null,
   "id": "547fc94d",
   "metadata": {},
   "outputs": [],
   "source": [
    "fits_in_line(\"Hello\", 3)"
   ]
  },
  {
   "cell_type": "markdown",
   "id": "304e9564",
   "metadata": {
    "lang": "en"
   },
   "source": [
    "\n",
    "Write a function `print_line(text: str, line_length:int = 72)`,\n",
    "that\n",
    "* prints `text` to the screen if that is possible in a line of length\n",
    "  `line_length`\n",
    "* prints `...` if that is not possible.\n",
    "\n",
    "```python\n",
    ">>> print_line(\"Hello\")\n",
    "Hello\n",
    ">>> print_line(\"Hello\", 3)\n",
    "...\n",
    ">>>\n",
    "```"
   ]
  },
  {
   "cell_type": "code",
   "execution_count": null,
   "id": "9366c97c",
   "metadata": {},
   "outputs": [],
   "source": [
    "def print_line(text: str, line_length: int = 72):\n",
    "    if fits_in_line(text, line_length=line_length):\n",
    "        print(text)\n",
    "    else:\n",
    "        print(\"...\")"
   ]
  },
  {
   "cell_type": "code",
   "execution_count": null,
   "id": "8c07c550",
   "metadata": {},
   "outputs": [],
   "source": [
    "print_line(\"Hallo\")"
   ]
  },
  {
   "cell_type": "code",
   "execution_count": null,
   "id": "c2e5c65d",
   "metadata": {},
   "outputs": [],
   "source": [
    "print_line(\"Hallo\", 3)"
   ]
  },
  {
   "cell_type": "markdown",
   "id": "f3e9c8ed",
   "metadata": {
    "lang": "en"
   },
   "source": [
    "# Shopping List\n",
    "\n",
    "Define variables\n",
    "- `my_shopping list` holding a list containing the strings `tea` and `coffee`\n",
    "- `another_shopping list`, holding a different list also containing the strings `tea` and `coffee`"
   ]
  },
  {
   "cell_type": "code",
   "execution_count": null,
   "id": "78de4cbb",
   "metadata": {
    "lang": "en"
   },
   "outputs": [],
   "source": [
    "my_shopping_list = [\"tea\", \"coffee\"]\n",
    "another_shopping_list = [\"tea\", \"coffee\"]"
   ]
  },
  {
   "cell_type": "markdown",
   "id": "27e52cab",
   "metadata": {
    "lang": "en"
   },
   "source": [
    "Define a function `print_shopping_list(shopping_list)` that prints the shopping list passed as argument:\n",
    "\n",
    "```\n",
    "Shopping List:\n",
    "  tea\n",
    "  coffee\n",
    "```"
   ]
  },
  {
   "cell_type": "code",
   "execution_count": null,
   "id": "c038eca3",
   "metadata": {
    "lang": "en"
   },
   "outputs": [],
   "source": [
    "def print_shopping_list(shopping_list):\n",
    "    print(\"Shopping List:\")\n",
    "    for item in shopping_list:\n",
    "        print(\" \", item)"
   ]
  },
  {
   "cell_type": "markdown",
   "id": "2874fc53",
   "metadata": {
    "lang": "en"
   },
   "source": [
    "Test the function `print_shopping list(shopping list)` with both\n",
    "shopping lists."
   ]
  },
  {
   "cell_type": "code",
   "execution_count": null,
   "id": "b1fe799c",
   "metadata": {
    "lang": "en"
   },
   "outputs": [],
   "source": [
    "print_shopping_list(my_shopping_list)"
   ]
  },
  {
   "cell_type": "code",
   "execution_count": null,
   "id": "6a39120d",
   "metadata": {
    "lang": "en"
   },
   "outputs": [],
   "source": [
    "print_shopping_list(another_shopping_list)"
   ]
  },
  {
   "cell_type": "markdown",
   "id": "609adbde",
   "metadata": {
    "lang": "en"
   },
   "source": [
    "Define a function `buy(product, shopping_list)`, that adds `product` to `shopping_list`."
   ]
  },
  {
   "cell_type": "code",
   "execution_count": null,
   "id": "5aa13e59",
   "metadata": {
    "lang": "en"
   },
   "outputs": [],
   "source": [
    "def buy(product, shopping_list):\n",
    "    shopping_list.append(product)"
   ]
  },
  {
   "cell_type": "markdown",
   "id": "69e2a850",
   "metadata": {
    "lang": "en"
   },
   "source": [
    "Add `butter` and `bread` to the shopping list `my_shopping_list`."
   ]
  },
  {
   "cell_type": "code",
   "execution_count": null,
   "id": "5e4f7442",
   "metadata": {
    "lang": "en"
   },
   "outputs": [],
   "source": [
    "buy(\"butter\", my_shopping_list)\n",
    "buy(\"bread\", my_shopping_list)"
   ]
  },
  {
   "cell_type": "markdown",
   "id": "6dc33e68",
   "metadata": {
    "lang": "en"
   },
   "source": [
    "Print out both shopping lists again."
   ]
  },
  {
   "cell_type": "code",
   "execution_count": null,
   "id": "08a9ad6a",
   "metadata": {},
   "outputs": [],
   "source": [
    "drucke_einkaufsliste(meine_einkaufsliste)"
   ]
  },
  {
   "cell_type": "code",
   "execution_count": null,
   "id": "277af7ba",
   "metadata": {},
   "outputs": [],
   "source": [
    "drucke_einkaufsliste(eine_andere_einkaufsliste)"
   ]
  },
  {
   "cell_type": "code",
   "execution_count": null,
   "id": "aa10ded4",
   "metadata": {
    "lang": "en"
   },
   "outputs": [],
   "source": [
    "print_shopping_list(my_shopping_list)"
   ]
  },
  {
   "cell_type": "code",
   "execution_count": null,
   "id": "fde24394",
   "metadata": {
    "lang": "en"
   },
   "outputs": [],
   "source": [
    "print_shopping_list(another_shopping_list)"
   ]
  },
  {
   "cell_type": "markdown",
   "id": "c1c8048c",
   "metadata": {
    "lang": "en"
   },
   "source": [
    "What happens when you add `butter` and `bread` to the shopping list `my_shopping list` again?"
   ]
  },
  {
   "cell_type": "code",
   "execution_count": null,
   "id": "84bcf921",
   "metadata": {
    "lang": "en"
   },
   "outputs": [],
   "source": [
    "buy(\"butter\", my_shopping_list)\n",
    "buy(\"bread\", my_shopping_list)\n",
    "print_shopping_list(my_shopping_list)"
   ]
  },
  {
   "cell_type": "markdown",
   "id": "84712757",
   "metadata": {
    "lang": "en"
   },
   "source": [
    "# Printing square numbers\n",
    "\n",
    "Write a function `print_squares(m, n)` that prints the squares of the\n",
    "numbers between `m` and `n` (inclusive) in the following form:\n",
    "\n",
    "```\n",
    "The square of 5 is 25\n",
    "The square of 6 is 36\n",
    "The square of 7 is 49\n",
    "```"
   ]
  },
  {
   "cell_type": "code",
   "execution_count": null,
   "id": "874a5bb9",
   "metadata": {
    "lang": "en"
   },
   "outputs": [],
   "source": [
    "def print_squares(m, n):\n",
    "    for num in range(m, n + 1):\n",
    "        print(\"The squre of\", num, \"is\", num**2)"
   ]
  },
  {
   "cell_type": "markdown",
   "id": "17088ba0",
   "metadata": {
    "lang": "en"
   },
   "source": [
    "Test the function with arguments 5, 7"
   ]
  },
  {
   "cell_type": "code",
   "execution_count": null,
   "id": "ad5be07f",
   "metadata": {
    "lang": "en",
    "lines_to_next_cell": 1
   },
   "outputs": [],
   "source": [
    "print_squares(5, 7)"
   ]
  },
  {
   "cell_type": "markdown",
   "id": "31fc9a6c",
   "metadata": {
    "lang": "en"
   },
   "source": [
    "# Improved shopping list\n",
    "\n",
    "In this exercise we want to define an improved version of the shopping list\n",
    "in which both the shopping list and the entries are represented by\n",
    "user-defined data types. Every entry in the shopping list should contain\n",
    "the product to buy and the required amount.\n",
    "\n",
    "Define a class `Item`, with attributes for the product and quantity.\n",
    "`Item` should have a `__repr__` method that returns a representation of the item in an\n",
    "appropriate form."
   ]
  },
  {
   "cell_type": "code",
   "execution_count": null,
   "id": "ca689a99",
   "metadata": {},
   "outputs": [],
   "source": [
    "class Item:\n",
    "    def __init__(self, product, amount=\"1\"):\n",
    "        self.product = product\n",
    "        self.amount = amount\n",
    "\n",
    "    def __repr__(self):\n",
    "        return \"Item(\" + repr(self.product) + \", \" + repr(self.amount) + \")\""
   ]
  },
  {
   "cell_type": "markdown",
   "id": "a111ea9b",
   "metadata": {
    "lang": "en"
   },
   "source": [
    "Create an item that represents 500g of coffee:"
   ]
  },
  {
   "cell_type": "code",
   "execution_count": null,
   "id": "43ca9cf6",
   "metadata": {
    "lang": "en",
    "lines_to_next_cell": 1
   },
   "outputs": [],
   "source": [
    "Item(\"coffee\", \"500g\")"
   ]
  },
  {
   "cell_type": "markdown",
   "id": "51aa4090",
   "metadata": {
    "lang": "en"
   },
   "source": [
    "Define a class `ShoppingList` containing a list of `Item` instances:\n",
    "\n",
    "- The constructor `__init__(self, items=[])` creates a shopping list,\n",
    "  which contains the items `items` (each element of `items` should be an\n",
    "  `Item` instance).\n",
    "\n",
    "- The method `shopping_list.add_item(item: Item)` adds an `Item`\n",
    "  to `shopping_list`.\n",
    "\n",
    "- The `shopping_list.print()` method prints the shopping list.\n",
    "\n",
    "`ShoppingList` should have a `__repr__` method that converts the shopping list into\n",
    "  an appropriate form."
   ]
  },
  {
   "cell_type": "code",
   "execution_count": null,
   "id": "c35393ee",
   "metadata": {},
   "outputs": [],
   "source": [
    "class ShoppingList:\n",
    "    def __init__(self, items=[]):\n",
    "        self.items = items\n",
    "\n",
    "    def __repr__(self):\n",
    "        return \"ShoppingList(\" + repr(self.items) + \")\"\n",
    "\n",
    "    def add_item(self, item):\n",
    "        self.items.append(item)\n",
    "\n",
    "    def print(self):\n",
    "        print(\"Einkaufsliste\")\n",
    "        for item in self.items:\n",
    "            print(\"  \", item.product, \" (\", item.amount, \")\", sep=\"\")"
   ]
  },
  {
   "cell_type": "markdown",
   "id": "a51562b2",
   "metadata": {
    "lang": "en"
   },
   "source": [
    "Define a variable `my_shopping_list` containing a shopping list with the following items:\n",
    "- 2 packets of tea,\n",
    "- 1 packet of coffee"
   ]
  },
  {
   "cell_type": "code",
   "execution_count": null,
   "id": "87b1a913",
   "metadata": {
    "lang": "en"
   },
   "outputs": [],
   "source": [
    "my_shopping_list = ShoppingList([Item(\"tea\", \"2 packets\"), Item(\"coffe\", \"1 packet\")])"
   ]
  },
  {
   "cell_type": "markdown",
   "id": "3f824c9f",
   "metadata": {
    "lang": "en"
   },
   "source": [
    "Print out `my_shopping list`."
   ]
  },
  {
   "cell_type": "code",
   "execution_count": null,
   "id": "e8b82686",
   "metadata": {
    "lang": "en"
   },
   "outputs": [],
   "source": [
    "print_shopping_list(my_shopping_list)"
   ]
  },
  {
   "cell_type": "markdown",
   "id": "629969fa",
   "metadata": {
    "lang": "en"
   },
   "source": [
    "Add 250g butter and 1 loaf of bread to the shopping list\n",
    "`my_shopping list`."
   ]
  },
  {
   "cell_type": "code",
   "execution_count": null,
   "id": "8f2e85e7",
   "metadata": {
    "lang": "en"
   },
   "outputs": [],
   "source": [
    "my_shopping_list.add_item(Item(\"butter\", \"250g\"))\n",
    "my_shopping_list.add_item(Item(\"bread\", \"1 loaf\"))"
   ]
  },
  {
   "cell_type": "markdown",
   "id": "78ec0fe1",
   "metadata": {
    "lang": "en"
   },
   "source": [
    "Print out the shopping list again."
   ]
  },
  {
   "cell_type": "code",
   "execution_count": null,
   "id": "d68bebb2",
   "metadata": {
    "lang": "en"
   },
   "outputs": [],
   "source": [
    "\n",
    "my_shopping_list.print()"
   ]
  },
  {
   "cell_type": "markdown",
   "id": "07945a35",
   "metadata": {
    "lang": "en"
   },
   "source": [
    "What happens when you add `butter` and `bread` to `my_shopping list` again?"
   ]
  },
  {
   "cell_type": "code",
   "execution_count": null,
   "id": "ec27a6a4",
   "metadata": {
    "lang": "en"
   },
   "outputs": [],
   "source": [
    "my_shopping_list.add_item(Item(\"butter\", \"250g\"))\n",
    "my_shopping_list.add_item(Item(\"bread\", \"1 loaf\"))\n",
    "my_shopping_list.print()"
   ]
  },
  {
   "cell_type": "code",
   "execution_count": null,
   "id": "9bb67ce1",
   "metadata": {},
   "outputs": [],
   "source": []
  }
 ],
 "metadata": {
  "kernelspec": {
   "display_name": "Python 3 (ipykernel)",
   "language": "python",
   "name": "python3"
  }
 },
 "nbformat": 4,
 "nbformat_minor": 5
}
