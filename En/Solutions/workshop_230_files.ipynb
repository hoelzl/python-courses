{
 "cells": [
  {
   "cell_type": "markdown",
   "id": "525ed1cc",
   "metadata": {
    "lang": "en"
   },
   "source": [
    "# Reading and writing to files\n",
    "\n",
    "Write a function `write_text_to_file(text: str, file_name: str) -> None`, which writes the string `text` to the file `file_name` if the file *does not* exist and throws an exception of type `FileExistsError`,\n",
    "if the file exists.\n",
    "\n",
    "*Note:* Note the possible values for the `mode` argument of `open()`."
   ]
  },
  {
   "cell_type": "code",
   "execution_count": null,
   "id": "e5d992e3",
   "metadata": {},
   "outputs": [],
   "source": [
    "def write_text_to_file(text, file_name):\n",
    "    with open(file_name, \"x\") as file:\n",
    "        file.write(text)"
   ]
  },
  {
   "cell_type": "markdown",
   "id": "0c88c6c5",
   "metadata": {
    "lang": "en"
   },
   "source": [
    "Test the function by trying to write the text `Python 3.8` to the file `my-private-file.txt` twice in a row."
   ]
  },
  {
   "cell_type": "code",
   "execution_count": null,
   "id": "8e7945aa",
   "metadata": {},
   "outputs": [],
   "source": [
    "write_text_to_file(\"Python 3.8\", \"my_private_file.txt\")"
   ]
  },
  {
   "cell_type": "code",
   "execution_count": null,
   "id": "9eda0cee",
   "metadata": {},
   "outputs": [],
   "source": [
    "# write_text_to_file(\"Python 3.8\", \"my_private_file.txt\")"
   ]
  },
  {
   "cell_type": "markdown",
   "id": "5a9179e9",
   "metadata": {
    "lang": "en"
   },
   "source": [
    "Write a function `annotate_file(file_name: str) -> None` which\n",
    "- prints out the content of the file `file_name` followed by the text `(annotated version)`\n",
    "  if the file exists\n",
    "- prints out the text `No file found, we will bill the time we spent searching.`\n",
    "  if the file doesn't exist\n",
    "\n",
    "In both cases the text `Our invoice will be sent by mail.` is printed out."
   ]
  },
  {
   "cell_type": "code",
   "execution_count": null,
   "id": "03000536",
   "metadata": {},
   "outputs": [],
   "source": [
    "def annotate_file(file_name):\n",
    "    try:\n",
    "        with open(file_name, \"r\") as file:\n",
    "            print(file.read())\n",
    "            print(\"(annotated version)\")\n",
    "    except FileNotFoundError:\n",
    "        print(\"No file found, we will bill the time we spent searching.\")\n",
    "    finally:\n",
    "        print(\"Our invoice will be sent by mail.\")"
   ]
  },
  {
   "cell_type": "code",
   "execution_count": null,
   "id": "5383f460",
   "metadata": {},
   "outputs": [],
   "source": [
    "annotate_file(\"my_private_file.txt\")"
   ]
  },
  {
   "cell_type": "code",
   "execution_count": null,
   "id": "81b021d8",
   "metadata": {},
   "outputs": [],
   "source": [
    "annotate_file(\"does-not-exist.txt\")"
   ]
  }
 ],
 "metadata": {
  "kernelspec": {
   "display_name": "Python 3 (ipykernel)",
   "language": "python",
   "name": "python3"
  }
 },
 "nbformat": 4,
 "nbformat_minor": 5
}
