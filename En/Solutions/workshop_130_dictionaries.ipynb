{
 "cells": [
  {
   "cell_type": "markdown",
   "id": "b6b2e904",
   "metadata": {
    "lang": "en"
   },
   "source": [
    "## Word frequencies\n",
    "\n",
    "Write a function `count_words(text: str) -> dict` that returns a dictionary containing the number of occurrences of all words in `text`. For example,\n",
    "\n",
    "```\n",
    "count_words(\"It was the best of times it was the worst of times\")\n",
    "```\n",
    "\n",
    "should return the following dictionary:\n",
    "\n",
    "```\n",
    "{ 'it': 2,\n",
    "  'what': 2,\n",
    "  'the': 2,\n",
    "  'best': 1,\n",
    "  'of': 2,\n",
    "  'times': 2,\n",
    "  'worst': 1\n",
    "}\n",
    "```\n",
    "Note that all words have been converted to lowercase.\n",
    "\n",
    "###  Hints\n",
    "- You can convert a string into a list of words using the `string.split()` method\n",
    "- You can convert a string into a string containing only lower-case letters using the `string.lower()` method."
   ]
  },
  {
   "cell_type": "code",
   "execution_count": null,
   "id": "45bcee93",
   "metadata": {},
   "outputs": [],
   "source": [
    "def zähle_worte(text: str) -> dict:\n",
    "    words = text.lower().split()\n",
    "    result = {}\n",
    "    for word in words:\n",
    "        count = result.get(word, 0)\n",
    "        result[word] = count + 1\n",
    "    return result"
   ]
  },
  {
   "cell_type": "markdown",
   "id": "69ec30d1",
   "metadata": {
    "lang": "en"
   },
   "source": [
    "Test your implementation with the following string:"
   ]
  },
  {
   "cell_type": "code",
   "execution_count": null,
   "id": "82d08fdd",
   "metadata": {
    "tags": [
     "keep"
    ]
   },
   "outputs": [],
   "source": [
    "dickens = \"It was the best of times it was the worst of times\""
   ]
  },
  {
   "cell_type": "code",
   "execution_count": null,
   "id": "f442a863",
   "metadata": {},
   "outputs": [],
   "source": [
    "zähle_worte(dickens)"
   ]
  },
  {
   "cell_type": "code",
   "execution_count": null,
   "id": "de194c10",
   "metadata": {},
   "outputs": [],
   "source": [
    "from pprint import pprint\n",
    "\n",
    "pprint(zähle_worte(dickens), width=30)"
   ]
  },
  {
   "cell_type": "code",
   "execution_count": null,
   "id": "397397c3",
   "metadata": {},
   "outputs": [],
   "source": [
    "help(pprint)"
   ]
  },
  {
   "cell_type": "code",
   "execution_count": null,
   "id": "d27f710b",
   "metadata": {
    "tags": [
     "keep"
    ]
   },
   "outputs": [],
   "source": []
  }
 ],
 "metadata": {
  "kernelspec": {
   "display_name": "Python 3 (ipykernel)",
   "language": "python",
   "name": "python3"
  }
 },
 "nbformat": 4,
 "nbformat_minor": 5
}
