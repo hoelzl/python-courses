{
 "cells": [
  {
   "cell_type": "markdown",
   "id": "a9fd1bb8",
   "metadata": {
    "lang": "en"
   },
   "source": [
    "\n",
    "# Monte-Carlo Methods\n",
    "\n",
    "Monte Carlo methods are statistical algorithms that use repeated calculations on\n",
    "random numbers to get numerical results. In this exercise we want to calculate the\n",
    "number $\\pi$ using Monte Carlo methods. The basic idea is as follows:\n",
    "\n",
    "- $\\pi$ corresponds to the area of a circle with radius 1.\n",
    "- We generate two random numbers x and y, each lying between 0 and 1.\n",
    "- We calculate x^2 + y^2 and test if the value \\leq is 1. In this case, the point\n",
    "  $(x,y)$ is contained in the circle of radius 1 around the origin, otherwise this is\n",
    "  not the case.\n",
    "- We do this calculation very often, counting the percentage of points in the circle.\n",
    "- Since all points are in the first quadrant, we get anapproximation of $\\pi$ by\n",
    "  multiplying the result by 4."
   ]
  },
  {
   "cell_type": "markdown",
   "id": "5aaa9a7c",
   "metadata": {
    "lang": "en"
   },
   "source": [
    "\n",
    "The following function creates a point $(x, y)$ as described:"
   ]
  },
  {
   "cell_type": "code",
   "execution_count": null,
   "id": "536eef0a",
   "metadata": {
    "tags": [
     "keep"
    ]
   },
   "outputs": [],
   "source": [
    "from random import random\n",
    "\n",
    "\n",
    "def get_random_point():\n",
    "    return random(), random()"
   ]
  },
  {
   "cell_type": "markdown",
   "id": "431f3d6a",
   "metadata": {
    "lang": "en"
   },
   "source": [
    "\n",
    "Implement a function `is_in_circle(x, y) -> bool` that checks whether such a point is\n",
    "inside a circle with radius 1."
   ]
  },
  {
   "cell_type": "code",
   "execution_count": null,
   "id": "9a4dc4d1",
   "metadata": {},
   "outputs": [],
   "source": [
    "def is_in_circle(x, y) -> bool:\n",
    "    return x ** 2 + y ** 2 <= 1"
   ]
  },
  {
   "cell_type": "markdown",
   "id": "f7f3f429",
   "metadata": {
    "lang": "en"
   },
   "source": [
    "\n",
    "Implement a function `is_random_point_in_circle() -> bool` that checks if a randomly\n",
    "chosen point is inside the circle with radius 1."
   ]
  },
  {
   "cell_type": "code",
   "execution_count": null,
   "id": "e0e34df0",
   "metadata": {},
   "outputs": [],
   "source": [
    "def is_random_point_in_circle() -> bool:\n",
    "    return is_in_circle(*get_random_point())"
   ]
  },
  {
   "cell_type": "markdown",
   "id": "8ce06c61",
   "metadata": {
    "lang": "en"
   },
   "source": [
    "\n",
    "How can you apply the method described above to compute $\\pi$? Implement a sequential\n",
    "version using `is_random_point_in_circle()` and at least one parallel version. Test\n",
    "the performance of different approaches."
   ]
  },
  {
   "cell_type": "code",
   "execution_count": null,
   "id": "38ff8385",
   "metadata": {},
   "outputs": [],
   "source": [
    "def compute_pi_sequentially(num_iterations):\n",
    "    result = []\n",
    "    for _ in range(num_iterations):\n",
    "        result.append(is_random_point_in_circle())\n",
    "    return 4 * sum(result) / len(result)"
   ]
  },
  {
   "cell_type": "code",
   "execution_count": null,
   "id": "01806aa6",
   "metadata": {},
   "outputs": [],
   "source": [
    "NUM_ITERATIONS = 10_000_000"
   ]
  },
  {
   "cell_type": "code",
   "execution_count": null,
   "id": "4a327007",
   "metadata": {},
   "outputs": [],
   "source": [
    "if __name__ == \"__main__\":\n",
    "    print(\"Sequential value:\")\n",
    "    print(compute_pi_sequentially(NUM_ITERATIONS))"
   ]
  },
  {
   "cell_type": "code",
   "execution_count": null,
   "id": "4ffeafc7",
   "metadata": {},
   "outputs": [],
   "source": [
    "from timeit import timeit\n",
    "\n",
    "if __name__ == \"__main__\":\n",
    "    print(\"Sequential:\")\n",
    "    print(timeit(lambda: compute_pi_sequentially(NUM_ITERATIONS), number=5))"
   ]
  },
  {
   "cell_type": "code",
   "execution_count": null,
   "id": "65bb2242",
   "metadata": {},
   "outputs": [],
   "source": [
    "from multiprocessing import Pool\n",
    "\n",
    "\n",
    "def bad_parallel_version(num_iterations):\n",
    "    points = (get_random_point() for _ in range(num_iterations))\n",
    "    with Pool(processes=16) as pool:\n",
    "        result = list(pool.starmap(is_in_circle, points))\n",
    "    return 4 * sum(result) / len(result)"
   ]
  },
  {
   "cell_type": "code",
   "execution_count": null,
   "id": "46a0c369",
   "metadata": {},
   "outputs": [],
   "source": [
    "if __name__ == \"__main__\":\n",
    "    print(\"Bad parallel value:\")\n",
    "    print(bad_parallel_version(NUM_ITERATIONS))"
   ]
  },
  {
   "cell_type": "code",
   "execution_count": null,
   "id": "1902146c",
   "metadata": {},
   "outputs": [],
   "source": [
    "if __name__ == \"__main__\":\n",
    "    print(\"Bad parallel:\")\n",
    "    print(timeit(lambda: bad_parallel_version(NUM_ITERATIONS), number=5))"
   ]
  },
  {
   "cell_type": "code",
   "execution_count": null,
   "id": "a75d673c",
   "metadata": {},
   "outputs": [],
   "source": [
    "def better_parallel_version(num_iterations):\n",
    "    num_processes = 16\n",
    "    iterations_per_process = [num_iterations // num_processes] * num_processes\n",
    "    with Pool(processes=num_processes) as pool:\n",
    "        result = list(pool.imap(compute_pi_sequentially, iterations_per_process))\n",
    "    return sum(result) / len(result)"
   ]
  },
  {
   "cell_type": "code",
   "execution_count": null,
   "id": "32cb2246",
   "metadata": {},
   "outputs": [],
   "source": [
    "if __name__ == \"__main__\":\n",
    "    print(\"Better parallel value:\")\n",
    "    print(better_parallel_version(NUM_ITERATIONS))"
   ]
  },
  {
   "cell_type": "code",
   "execution_count": null,
   "id": "271c0139",
   "metadata": {},
   "outputs": [],
   "source": [
    "if __name__ == \"__main__\":\n",
    "    print(\"Better parallel:\")\n",
    "    print(timeit(lambda: better_parallel_version(NUM_ITERATIONS), number=5))"
   ]
  }
 ],
 "metadata": {
  "kernelspec": {
   "display_name": "Python 3 (ipykernel)",
   "language": "python",
   "name": "python3"
  }
 },
 "nbformat": 4,
 "nbformat_minor": 5
}
