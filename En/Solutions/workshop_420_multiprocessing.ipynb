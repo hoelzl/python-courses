{
 "cells": [
  {
   "cell_type": "markdown",
   "id": "b8ed24673aed690a",
   "metadata": {
    "lang": "en"
   },
   "source": [
    "\n",
    "# Monte-Carlo Methods\n",
    "\n",
    "Monte Carlo methods are statistical algorithms that use repeated calculations on\n",
    "random numbers to get numerical results. In this exercise we want to calculate the\n",
    "number $\\pi$ using Monte Carlo methods. The basic idea is as follows:\n",
    "\n",
    "- $\\pi$ corresponds to the area of a circle with radius 1.\n",
    "- We generate two random numbers x and y, each lying between 0 and 1.\n",
    "- We calculate x^2 + y^2 and test if the value \\leq is 1. In this case, the point\n",
    "  $(x,y)$ is contained in the circle of radius 1 around the origin, otherwise this is\n",
    "  not the case.\n",
    "- We do this calculation very often, counting the percentage of points in the circle.\n",
    "- Since all points are in the first quadrant, we get anapproximation of $\\pi$ by\n",
    "  multiplying the result by 4."
   ]
  },
  {
   "cell_type": "markdown",
   "id": "fc77c3a2a71c1cd6",
   "metadata": {
    "lang": "en"
   },
   "source": [
    "\n",
    "The following function creates a point $(x, y)$ as described:"
   ]
  },
  {
   "cell_type": "code",
   "execution_count": null,
   "id": "4b56b261e3b48507",
   "metadata": {
    "tags": [
     "keep"
    ]
   },
   "outputs": [],
   "source": [
    "from random import random\n",
    "\n",
    "\n",
    "def get_random_point():\n",
    "    return random(), random()"
   ]
  },
  {
   "cell_type": "markdown",
   "id": "d170c6d04a33afb9",
   "metadata": {
    "lang": "en"
   },
   "source": [
    "\n",
    "Implement a function `is_in_circle(x, y) -> bool` that checks whether such a point is\n",
    "inside a circle with radius 1."
   ]
  },
  {
   "cell_type": "code",
   "execution_count": null,
   "id": "23d0c15b0f814698",
   "metadata": {},
   "outputs": [],
   "source": [
    "def is_in_circle(x, y) -> bool:\n",
    "    return x ** 2 + y ** 2 <= 1"
   ]
  },
  {
   "cell_type": "markdown",
   "id": "45c559d8f7ecf8f6",
   "metadata": {
    "lang": "en"
   },
   "source": [
    "\n",
    "Implement a function `is_random_point_in_circle() -> bool` that checks if a randomly\n",
    "chosen point is inside the circle with radius 1."
   ]
  },
  {
   "cell_type": "code",
   "execution_count": null,
   "id": "879ba989d5170de4",
   "metadata": {},
   "outputs": [],
   "source": [
    "def is_random_point_in_circle() -> bool:\n",
    "    return is_in_circle(*get_random_point())"
   ]
  },
  {
   "cell_type": "markdown",
   "id": "24bd7f92120a722f",
   "metadata": {
    "lang": "en"
   },
   "source": [
    "\n",
    "How can you apply the method described above to compute $\\pi$? Implement a sequential\n",
    "version using `is_random_point_in_circle()` and at least one parallel version. Test\n",
    "the performance of different approaches."
   ]
  },
  {
   "cell_type": "code",
   "execution_count": null,
   "id": "0b55fef3734efc7a",
   "metadata": {},
   "outputs": [],
   "source": [
    "def compute_pi_sequentially(num_iterations):\n",
    "    result = []\n",
    "    for _ in range(num_iterations):\n",
    "        result.append(is_random_point_in_circle())\n",
    "    return 4 * sum(result) / len(result)"
   ]
  },
  {
   "cell_type": "code",
   "execution_count": null,
   "id": "242b65c88961fab0",
   "metadata": {},
   "outputs": [],
   "source": [
    "NUM_ITERATIONS = 10_000_000"
   ]
  },
  {
   "cell_type": "code",
   "execution_count": null,
   "id": "319b890a279e5de8",
   "metadata": {},
   "outputs": [],
   "source": [
    "if __name__ == \"__main__\":\n",
    "    print(\"Sequential value:\")\n",
    "    print(compute_pi_sequentially(NUM_ITERATIONS))"
   ]
  },
  {
   "cell_type": "code",
   "execution_count": null,
   "id": "2bd06c7daddb7983",
   "metadata": {},
   "outputs": [],
   "source": [
    "from timeit import timeit\n",
    "\n",
    "if __name__ == \"__main__\":\n",
    "    print(\"Sequential:\")\n",
    "    print(timeit(lambda: compute_pi_sequentially(NUM_ITERATIONS), number=5))"
   ]
  },
  {
   "cell_type": "code",
   "execution_count": null,
   "id": "589921cc2d4ee69f",
   "metadata": {},
   "outputs": [],
   "source": [
    "from multiprocessing import Pool\n",
    "\n",
    "\n",
    "def bad_parallel_version(num_iterations):\n",
    "    points = (get_random_point() for _ in range(num_iterations))\n",
    "    with Pool(processes=16) as pool:\n",
    "        result = list(pool.starmap(is_in_circle, points))\n",
    "    return 4 * sum(result) / len(result)"
   ]
  },
  {
   "cell_type": "code",
   "execution_count": null,
   "id": "2a7d45cabe94b068",
   "metadata": {},
   "outputs": [],
   "source": [
    "if __name__ == \"__main__\":\n",
    "    print(\"Bad parallel value:\")\n",
    "    print(bad_parallel_version(NUM_ITERATIONS))"
   ]
  },
  {
   "cell_type": "code",
   "execution_count": null,
   "id": "abe4a0655b9969b5",
   "metadata": {},
   "outputs": [],
   "source": [
    "if __name__ == \"__main__\":\n",
    "    print(\"Bad parallel:\")\n",
    "    print(timeit(lambda: bad_parallel_version(NUM_ITERATIONS), number=5))"
   ]
  },
  {
   "cell_type": "code",
   "execution_count": null,
   "id": "7802f88c02890da3",
   "metadata": {},
   "outputs": [],
   "source": [
    "def better_parallel_version(num_iterations):\n",
    "    num_processes = 16\n",
    "    iterations_per_process = [num_iterations // num_processes] * num_processes\n",
    "    with Pool(processes=num_processes) as pool:\n",
    "        result = list(pool.imap(compute_pi_sequentially, iterations_per_process))\n",
    "    return sum(result) / len(result)"
   ]
  },
  {
   "cell_type": "code",
   "execution_count": null,
   "id": "83d6e2a138f5ed04",
   "metadata": {},
   "outputs": [],
   "source": [
    "if __name__ == \"__main__\":\n",
    "    print(\"Better parallel value:\")\n",
    "    print(better_parallel_version(NUM_ITERATIONS))"
   ]
  },
  {
   "cell_type": "code",
   "execution_count": null,
   "id": "ae08edae9427a206",
   "metadata": {},
   "outputs": [],
   "source": [
    "if __name__ == \"__main__\":\n",
    "    print(\"Better parallel:\")\n",
    "    print(timeit(lambda: better_parallel_version(NUM_ITERATIONS), number=5))"
   ]
  }
 ],
 "metadata": {
  "kernelspec": {
   "display_name": "Python 3 (ipykernel)",
   "language": "python",
   "name": "python3"
  }
 },
 "nbformat": 4,
 "nbformat_minor": 5
}
