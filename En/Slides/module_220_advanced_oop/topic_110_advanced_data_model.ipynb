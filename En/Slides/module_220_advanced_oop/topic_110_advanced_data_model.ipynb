{
 "cells": [
  {
   "cell_type": "markdown",
   "id": "8af32b88f5801b3b",
   "metadata": {
    "lang": "en",
    "slideshow": {
     "slide_type": "slide"
    }
   },
   "source": [
    "<img src=\"../../img/python-logo-no-text.svg\"\n",
    "     style=\"display:block;margin:auto;width:10%\"/>\n",
    "<br>\n",
    "<div style=\"text-align:center; font-size:200%;\">\n",
    "  <b>Advanced data model</b>\n",
    "</div>\n",
    "<br/>\n",
    "<div style=\"text-align:center;\">Dr. Matthias Hölzl</div>\n",
    "<br/>\n",
    "<div style=\"text-align:center;\">module_220_advanced_oop/topic_110_advanced_data_model</div>"
   ]
  },
  {
   "cell_type": "markdown",
   "id": "cd53e0bd1d11c6c7",
   "metadata": {
    "lang": "en"
   },
   "source": [
    "## Workshop\n",
    "\n",
    " - Notebook `064x-Workshop Todo-List V2`\n",
    " - Section \"Basic functionality\"\n",
    " - Implement the `__iter__()` method."
   ]
  }
 ],
 "metadata": {
  "kernelspec": {
   "display_name": "Python 3 (ipykernel)",
   "language": "python",
   "name": "python3"
  }
 },
 "nbformat": 4,
 "nbformat_minor": 5
}
