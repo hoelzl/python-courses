{
 "cells": [
  {
   "cell_type": "markdown",
   "id": "046ba6c20b005d55",
   "metadata": {
    "lang": "en",
    "lines_to_next_cell": 2,
    "slideshow": {
     "slide_type": "slide"
    }
   },
   "source": [
    "<img src=\"../../img/python-logo-no-text.svg\"\n",
    "     style=\"display:block;margin:auto;width:10%\"/>\n",
    "<br>\n",
    "<div style=\"text-align:center; font-size:200%;\">\n",
    "  <b>Joblib</b>\n",
    "</div>\n",
    "<br/>\n",
    "<div style=\"text-align:center;\">Dr. Matthias Hölzl</div>\n",
    "<br/>\n",
    "<div style=\"text-align:center;\">module_320_concurrency/topic_210_d4_joblib</div>"
   ]
  },
  {
   "cell_type": "markdown",
   "id": "bb8a3f7626072a7c",
   "metadata": {
    "lang": "en",
    "slideshow": {
     "slide_type": "slide"
    }
   },
   "source": [
    "\n",
    "# Joblib"
   ]
  },
  {
   "cell_type": "code",
   "execution_count": null,
   "id": "477b3cb5da4b2eb2",
   "metadata": {},
   "outputs": [],
   "source": [
    "import logging\n",
    "from functools import cache, lru_cache\n",
    "from typing import Any, Callable\n",
    "\n",
    "from joblib import Parallel, delayed, Memory\n",
    "from timeit import timeit\n",
    "from pathlib import Path\n",
    "\n",
    "\n",
    "def maybe_start_logger():\n",
    "    my_logger = logging.getLogger(\"my_logger\")\n",
    "    if len(my_logger.handlers) == 0:\n",
    "        my_logger.setLevel(logging.INFO)\n",
    "        my_logger.addHandler(logging.StreamHandler())\n",
    "    return my_logger"
   ]
  },
  {
   "cell_type": "code",
   "execution_count": null,
   "id": "febee00bba464f54",
   "metadata": {},
   "outputs": [],
   "source": [
    "if __name__ == \"__main__\":\n",
    "    logger = maybe_start_logger()"
   ]
  },
  {
   "cell_type": "code",
   "execution_count": null,
   "id": "0251e708bd26915c",
   "metadata": {},
   "outputs": [],
   "source": [
    "def perform_computation(data, num_iterations=1_000_000):\n",
    "    result = 0\n",
    "    for i in range(num_iterations):\n",
    "        result += 1\n",
    "    return f\"->{data}: {result}\""
   ]
  },
  {
   "cell_type": "code",
   "execution_count": null,
   "id": "4c12b21265c83afb",
   "metadata": {},
   "outputs": [],
   "source": [
    "ComputationType = Callable[[Any], Any]"
   ]
  },
  {
   "cell_type": "code",
   "execution_count": null,
   "id": "770594e56124c2e5",
   "metadata": {},
   "outputs": [],
   "source": [
    "def perform_computations_sequentially(\n",
    "    num_requests: int, computation: ComputationType = perform_computation\n",
    ") -> object:\n",
    "    results = []\n",
    "    for i in range(num_requests):\n",
    "        results.append(computation(i))\n",
    "    return results"
   ]
  },
  {
   "cell_type": "code",
   "execution_count": null,
   "id": "2a6233a857205c9a",
   "metadata": {},
   "outputs": [],
   "source": [
    "timeit(lambda: perform_computations_sequentially(5), globals=globals(), number=10)"
   ]
  },
  {
   "cell_type": "code",
   "execution_count": null,
   "id": "673712d448a218d7",
   "metadata": {},
   "outputs": [],
   "source": [
    "def perform_computations_with_joblib(\n",
    "    num_requests, computation: ComputationType = perform_computation\n",
    "):\n",
    "    jobs = [delayed(computation)(i) for i in range(num_requests)]\n",
    "    results = Parallel(n_jobs=32)(jobs)\n",
    "    return results"
   ]
  },
  {
   "cell_type": "code",
   "execution_count": null,
   "id": "ccd74556910ec6f8",
   "metadata": {},
   "outputs": [],
   "source": [
    "perform_computations_with_joblib(5)"
   ]
  },
  {
   "cell_type": "code",
   "execution_count": null,
   "id": "14660f9bfa873e26",
   "metadata": {},
   "outputs": [],
   "source": [
    "timeit(lambda: perform_computations_with_joblib(5), globals=globals(), number=10)"
   ]
  },
  {
   "cell_type": "code",
   "execution_count": null,
   "id": "400e40a02a61dde8",
   "metadata": {},
   "outputs": [],
   "source": [
    "timeit(lambda: perform_computations_with_joblib(32), globals=globals(), number=10)"
   ]
  },
  {
   "cell_type": "code",
   "execution_count": null,
   "id": "31955bdcc6b218a5",
   "metadata": {},
   "outputs": [],
   "source": [
    "timeit(lambda: perform_computations_with_joblib(128), globals=globals(), number=10)"
   ]
  },
  {
   "cell_type": "code",
   "execution_count": null,
   "id": "2f70ef68191d707a",
   "metadata": {},
   "outputs": [],
   "source": [
    "cachedir = Path.home() / \"Tmp\""
   ]
  },
  {
   "cell_type": "code",
   "execution_count": null,
   "id": "8c8cfd08cb135ab3",
   "metadata": {},
   "outputs": [],
   "source": [
    "assert cachedir.exists()"
   ]
  },
  {
   "cell_type": "code",
   "execution_count": null,
   "id": "8c20c4aca1940ef6",
   "metadata": {},
   "outputs": [],
   "source": [
    "memory = Memory(cachedir, verbose=2)"
   ]
  },
  {
   "cell_type": "code",
   "execution_count": null,
   "id": "67beedc7d472ebe5",
   "metadata": {},
   "outputs": [],
   "source": [
    "@memory.cache\n",
    "def perform_memoized_computation(data, num_iterations=1_000_000):\n",
    "    my_data = data\n",
    "    result = 0\n",
    "    for i in range(num_iterations):\n",
    "        result += 1\n",
    "    return f\"->{my_data}: {result}\""
   ]
  },
  {
   "cell_type": "code",
   "execution_count": null,
   "id": "1c3b65e69dff2d15",
   "metadata": {},
   "outputs": [],
   "source": [
    "perform_computations_with_joblib(5, perform_memoized_computation)"
   ]
  },
  {
   "cell_type": "code",
   "execution_count": null,
   "id": "75f4e26c4137dd3a",
   "metadata": {},
   "outputs": [],
   "source": [
    "timeit(\n",
    "    lambda: perform_computations_with_joblib(5, perform_memoized_computation),\n",
    "    globals=globals(),\n",
    "    number=10,\n",
    ")"
   ]
  },
  {
   "cell_type": "code",
   "execution_count": null,
   "id": "fe841265630199a1",
   "metadata": {},
   "outputs": [],
   "source": [
    "timeit(\n",
    "    lambda: perform_computations_with_joblib(32, perform_memoized_computation),\n",
    "    globals=globals(),\n",
    "    number=10,\n",
    ")"
   ]
  },
  {
   "cell_type": "code",
   "execution_count": null,
   "id": "15da46867400f658",
   "metadata": {},
   "outputs": [],
   "source": [
    "timeit(\n",
    "    lambda: perform_computations_with_joblib(128, perform_memoized_computation),\n",
    "    globals=globals(),\n",
    "    number=10,\n",
    ")"
   ]
  },
  {
   "cell_type": "code",
   "execution_count": null,
   "id": "d63a213b138c904e",
   "metadata": {},
   "outputs": [],
   "source": [
    "perform_computations_sequentially(5, perform_memoized_computation)"
   ]
  },
  {
   "cell_type": "code",
   "execution_count": null,
   "id": "6855a1306765cb3c",
   "metadata": {},
   "outputs": [],
   "source": [
    "timeit(\n",
    "    lambda: perform_computations_sequentially(5, perform_memoized_computation),\n",
    "    globals=globals(),\n",
    "    number=10,\n",
    ")"
   ]
  },
  {
   "cell_type": "code",
   "execution_count": null,
   "id": "82bc549cab8c4b2f",
   "metadata": {},
   "outputs": [],
   "source": [
    "timeit(\n",
    "    lambda: perform_computations_sequentially(32, perform_memoized_computation),\n",
    "    globals=globals(),\n",
    "    number=10,\n",
    ")"
   ]
  },
  {
   "cell_type": "code",
   "execution_count": null,
   "id": "2904cde1fd7fbff9",
   "metadata": {},
   "outputs": [],
   "source": [
    "timeit(\n",
    "    lambda: perform_computations_sequentially(128, perform_memoized_computation),\n",
    "    globals=globals(),\n",
    "    number=10,\n",
    ")"
   ]
  },
  {
   "cell_type": "code",
   "execution_count": null,
   "id": "c7ef7614e8f736f9",
   "metadata": {},
   "outputs": [],
   "source": [
    "@cache\n",
    "def perform_cached_computation(data, num_iterations=1_000_000):\n",
    "    my_data = data\n",
    "    result = 0\n",
    "    for i in range(num_iterations):\n",
    "        result += 1\n",
    "    return f\"->{my_data}: {result}\""
   ]
  },
  {
   "cell_type": "code",
   "execution_count": null,
   "id": "8d54526f7183b147",
   "metadata": {},
   "outputs": [],
   "source": [
    "perform_computations_sequentially(5, perform_cached_computation)"
   ]
  },
  {
   "cell_type": "code",
   "execution_count": null,
   "id": "2981dc397a79f429",
   "metadata": {},
   "outputs": [],
   "source": [
    "timeit(\n",
    "    lambda: perform_computations_sequentially(5, perform_cached_computation),\n",
    "    globals=globals(),\n",
    "    number=10,\n",
    ")"
   ]
  },
  {
   "cell_type": "code",
   "execution_count": null,
   "id": "c7ee15bf7fd4d801",
   "metadata": {},
   "outputs": [],
   "source": [
    "timeit(\n",
    "    lambda: perform_computations_sequentially(32, perform_cached_computation),\n",
    "    globals=globals(),\n",
    "    number=10,\n",
    ")"
   ]
  },
  {
   "cell_type": "code",
   "execution_count": null,
   "id": "f4d74558b96f6644",
   "metadata": {},
   "outputs": [],
   "source": [
    "timeit(\n",
    "    lambda: perform_computations_sequentially(128, perform_cached_computation),\n",
    "    globals=globals(),\n",
    "    number=10,\n",
    ")\n",
    "\n",
    "\n",
    "def perform_computation_and_log(data, num_iterations=1_000_000):\n",
    "    my_logger = maybe_start_logger()\n",
    "    my_logger.info(f\"Running computation with {data}\")\n",
    "    result = 0\n",
    "    for i in range(num_iterations):\n",
    "        result += 1\n",
    "    return f\"->{data}: {result}\""
   ]
  },
  {
   "cell_type": "code",
   "execution_count": null,
   "id": "da22d467be67494e",
   "metadata": {},
   "outputs": [],
   "source": [
    "perform_computations_sequentially(5, perform_computation_and_log)"
   ]
  },
  {
   "cell_type": "code",
   "execution_count": null,
   "id": "40d433c020359b5f",
   "metadata": {},
   "outputs": [],
   "source": [
    "perform_computations_with_joblib(5, perform_computation_and_log)"
   ]
  },
  {
   "cell_type": "code",
   "execution_count": null,
   "id": "6b4e03423667dbb7",
   "metadata": {},
   "outputs": [],
   "source": []
  }
 ],
 "metadata": {},
 "nbformat": 4,
 "nbformat_minor": 5
}
