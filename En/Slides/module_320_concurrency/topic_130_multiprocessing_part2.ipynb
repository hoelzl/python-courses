{
 "cells": [
  {
   "cell_type": "markdown",
   "id": "1cd3adb72bd5f6c8",
   "metadata": {
    "lang": "en",
    "lines_to_next_cell": 2,
    "slideshow": {
     "slide_type": "slide"
    }
   },
   "source": [
    "<img src=\"../../img/python-logo-no-text.svg\"\n",
    "     style=\"display:block;margin:auto;width:10%\"/>\n",
    "<br>\n",
    "<div style=\"text-align:center; font-size:200%;\">\n",
    "  <b>Multiprocessing (Part 2)</b>\n",
    "</div>\n",
    "<br/>\n",
    "<div style=\"text-align:center;\">Dr. Matthias Hölzl</div>\n",
    "<br/>\n",
    "<div style=\"text-align:center;\">module_320_concurrency/topic_130_multiprocessing_part2</div>"
   ]
  },
  {
   "cell_type": "markdown",
   "id": "3c652404cd62aead",
   "metadata": {
    "lang": "en",
    "slideshow": {
     "slide_type": "slide"
    }
   },
   "source": [
    "## Synchronizing Multiple Processes"
   ]
  },
  {
   "cell_type": "code",
   "execution_count": null,
   "id": "68e36bd163bda807",
   "metadata": {},
   "outputs": [],
   "source": [
    "import multiprocessing\n",
    "\n",
    "\n",
    "def say_hi(lock, name):\n",
    "    from time import sleep\n",
    "    from random import random\n",
    "\n",
    "    sleep(random())\n",
    "    with lock:\n",
    "        print(f\"Hello, {name}!\")"
   ]
  },
  {
   "cell_type": "code",
   "execution_count": null,
   "id": "f1ba76eb5003c51f",
   "metadata": {},
   "outputs": [],
   "source": [
    "from multiprocessing import Lock, Process\n",
    "\n",
    "if __name__ == \"__main__\":\n",
    "    _lock = Lock()\n",
    "    processes = []\n",
    "    for _name in [\"Joe\", \"Jack\", \"Jill\", \"Jane\", \"Steve\", \"Sheila\"]:\n",
    "        processes.append(Process(target=say_hi, args=(_lock, _name)))\n",
    "    for process in processes:\n",
    "        print(f\"Starting {process}.\")\n",
    "        process.start()\n",
    "    for process in processes:\n",
    "        print(f\"Joining {process}.\")\n",
    "        process.join()\n",
    "    print(\"Done.\")"
   ]
  },
  {
   "cell_type": "code",
   "execution_count": null,
   "id": "7af82659b63630d3",
   "metadata": {},
   "outputs": [],
   "source": [
    "def server(barrier):\n",
    "    barrier.wait()\n",
    "    print(\"Server is serving\")\n",
    "    print(\"Server is still serving\")\n",
    "    print(\"Server is serving even more data\")"
   ]
  },
  {
   "cell_type": "code",
   "execution_count": null,
   "id": "3fa63f35db95b412",
   "metadata": {},
   "outputs": [],
   "source": [
    "def client(barrier):\n",
    "    barrier.wait()\n",
    "    print(\"Client is accessing server\")\n",
    "    print(\"Client is still accessing server\")\n",
    "    print(\"Client is taking really long to access the server\")"
   ]
  },
  {
   "cell_type": "code",
   "execution_count": null,
   "id": "246d72bfc4d73304",
   "metadata": {},
   "outputs": [],
   "source": [
    "from multiprocessing import Barrier, Process\n",
    "\n",
    "\n",
    "def run_tasks(task1, task2):\n",
    "    barrier = Barrier(2)\n",
    "    print(\"Starting Processes...\", flush=True)\n",
    "\n",
    "    process1 = Process(target=task1, args=(barrier,))\n",
    "    process1.start()\n",
    "\n",
    "    process2 = Process(target=task2, args=(barrier,))\n",
    "    process2.start()\n",
    "\n",
    "    process1.join()\n",
    "    process2.join()"
   ]
  },
  {
   "cell_type": "code",
   "execution_count": null,
   "id": "2743ad881947b390",
   "metadata": {},
   "outputs": [],
   "source": [
    "if __name__ == \"__main__\":\n",
    "    print(\"Server and client:\")\n",
    "    run_tasks(server, client)"
   ]
  },
  {
   "cell_type": "code",
   "execution_count": null,
   "id": "2fa957b447a76e30",
   "metadata": {},
   "outputs": [],
   "source": [
    "if __name__ == \"__main__\":\n",
    "    print(\"\\nClient and Server:\")\n",
    "    run_tasks(client, server)"
   ]
  }
 ],
 "metadata": {},
 "nbformat": 4,
 "nbformat_minor": 5
}
