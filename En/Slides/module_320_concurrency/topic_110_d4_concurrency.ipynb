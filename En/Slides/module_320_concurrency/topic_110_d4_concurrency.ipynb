{
 "cells": [
  {
   "cell_type": "markdown",
   "id": "e36bb75f37c5237d",
   "metadata": {
    "lang": "en",
    "lines_to_next_cell": 2,
    "slideshow": {
     "slide_type": "slide"
    }
   },
   "source": [
    "<img src=\"data:image/png;base64,iVBORw0KGgoAAAANSUhEUgAAAG8AAABuCAYAAAApmU3FAAAEtmlUWHRYTUw6Y29tLmFkb2JlLnht\n",
    "cAAAAAAAPD94cGFja2V0IGJlZ2luPSLvu78iIGlkPSJXNU0wTXBDZWhpSHpyZVN6TlRjemtjOWQi\n",
    "Pz4KPHg6eG1wbWV0YSB4bWxuczp4PSJhZG9iZTpuczptZXRhLyIgeDp4bXB0az0iWE1QIENvcmUg\n",
    "NS41LjAiPgogPHJkZjpSREYgeG1sbnM6cmRmPSJodHRwOi8vd3d3LnczLm9yZy8xOTk5LzAyLzIy\n",
    "LXJkZi1zeW50YXgtbnMjIj4KICA8cmRmOkRlc2NyaXB0aW9uIHJkZjphYm91dD0iIgogICAgeG1s\n",
    "bnM6ZXhpZj0iaHR0cDovL25zLmFkb2JlLmNvbS9leGlmLzEuMC8iCiAgICB4bWxuczp0aWZmPSJo\n",
    "dHRwOi8vbnMuYWRvYmUuY29tL3RpZmYvMS4wLyIKICAgIHhtbG5zOnBob3Rvc2hvcD0iaHR0cDov\n",
    "L25zLmFkb2JlLmNvbS9waG90b3Nob3AvMS4wLyIKICAgIHhtbG5zOnhtcD0iaHR0cDovL25zLmFk\n",
    "b2JlLmNvbS94YXAvMS4wLyIKICAgIHhtbG5zOnhtcE1NPSJodHRwOi8vbnMuYWRvYmUuY29tL3hh\n",
    "cC8xLjAvbW0vIgogICAgeG1sbnM6c3RFdnQ9Imh0dHA6Ly9ucy5hZG9iZS5jb20veGFwLzEuMC9z\n",
    "VHlwZS9SZXNvdXJjZUV2ZW50IyIKICAgZXhpZjpQaXhlbFhEaW1lbnNpb249IjExMSIKICAgZXhp\n",
    "ZjpQaXhlbFlEaW1lbnNpb249IjExMCIKICAgZXhpZjpDb2xvclNwYWNlPSIxIgogICB0aWZmOklt\n",
    "YWdlV2lkdGg9IjExMSIKICAgdGlmZjpJbWFnZUxlbmd0aD0iMTEwIgogICB0aWZmOlJlc29sdXRp\n",
    "b25Vbml0PSIyIgogICB0aWZmOlhSZXNvbHV0aW9uPSI3Mi4wIgogICB0aWZmOllSZXNvbHV0aW9u\n",
    "PSI3Mi4wIgogICBwaG90b3Nob3A6Q29sb3JNb2RlPSIzIgogICBwaG90b3Nob3A6SUNDUHJvZmls\n",
    "ZT0ic1JHQiBJRUM2MTk2Ni0yLjEiCiAgIHhtcDpNb2RpZnlEYXRlPSIyMDIwLTAyLTEzVDE2OjQ4\n",
    "OjM2KzAxOjAwIgogICB4bXA6TWV0YWRhdGFEYXRlPSIyMDIwLTAyLTEzVDE2OjQ4OjM2KzAxOjAw\n",
    "Ij4KICAgPHhtcE1NOkhpc3Rvcnk+CiAgICA8cmRmOlNlcT4KICAgICA8cmRmOmxpCiAgICAgIHN0\n",
    "RXZ0OmFjdGlvbj0icHJvZHVjZWQiCiAgICAgIHN0RXZ0OnNvZnR3YXJlQWdlbnQ9IkFmZmluaXR5\n",
    "IERlc2lnbmVyIDEuNy4zIgogICAgICBzdEV2dDp3aGVuPSIyMDIwLTAyLTEzVDE2OjQ4OjM2KzAx\n",
    "OjAwIi8+CiAgICA8L3JkZjpTZXE+CiAgIDwveG1wTU06SGlzdG9yeT4KICA8L3JkZjpEZXNjcmlw\n",
    "dGlvbj4KIDwvcmRmOlJERj4KPC94OnhtcG1ldGE+Cjw/eHBhY2tldCBlbmQ9InIiPz63ZYCCAAAB\n",
    "gWlDQ1BzUkdCIElFQzYxOTY2LTIuMQAAKJF1kc8rRFEUxz9miDCNYmFh8dKwQoMSG4uZ/Cosxii/\n",
    "Nm+eeTNq3szrvZk02SpbRYmNXwv+ArbKWikiJSsLa2KDnvM8NZI5t3PP537vPad7zwVfPKMZdmUY\n",
    "jGzeio1ElJnZOaX6ER8BgoQJqJptTkwNxylrbzdUuPGq061V/ty/VreYtDWoqBEe1EwrLzwqPL6c\n",
    "N13eFG7S0uqi8LFwhyUXFL529YTHTy6nPP5w2YrHouBrEFZSvzjxi7W0ZQjLywkZmYL2cx/3JfXJ\n",
    "7PSUxFbxFmxijBBBYYwhovTRzYDMfXTSQ5esKJMf/s6fJCe5mswmRSyWSJEmT4eoBamelKiLnpSR\n",
    "oej2/29fbb23x6teH4GqB8d5aYPqDfhcd5z3fcf5PAD/PZxlS/m5Peh/FX29pIV2IbgKJ+clLbEF\n",
    "p2vQfGeqlvot+cV9ug7PRxCYhcZLqJ33evazz+EtxFfkqy5gewfa5Xxw4QtXymffaj9hFAAAAAlw\n",
    "SFlzAAALEwAACxMBAJqcGAAAIABJREFUeJzlfXu0b1V13jfX/l2UkAAXiq/EWkg0RqUaBO5BEB+A\n",
    "WKtG6qtWeZnRtCYmgThUvJfRdDQOBAtc2mSEGJuhJn2oNcPwGFZSgmmAG84JAgKS4QPIQ2OVIgIR\n",
    "kbP3mv1jrW+ub+177uUROIfENca5557923vttefzm4+1f4a/R2PpfX+wCfB/6o4XmuHpDuwDYG94\n",
    "3gfue8PSPoDXY74PAAPsO4DfBeAuuH8HwF0wuwue7wLwHbjfCUvXA37j8gfflDfy+R7usI1ewK7G\n",
    "0taLDDYcDM+HAX4oYIcC+WA4ngAA7hPMBgAOdwBe6W78fwLgdTYHcgZMH9fkcwDu9wC+A+5XAX4l\n",
    "HCvL5/2r+x/r5/y7jMcd85a2XbwZ7qcC+LcAngnPgA0AMjxnmBWmuDvgXp7AEpAn8HEsJXge42+4\n",
    "F4bWa8v59XOzem0dZuV4Hh+ApRUAvwXg48vnvkVOenyMxw3zlrZd/NNw/BLS8GZ43hNAIao1BrhP\n",
    "hfAuGgPv/7bUtJDHybjQSqsM9TI/f8OLMpoV5lpo71fhfjaA310+762rjx0VHt7YcOYtbb14APw/\n",
    "AHYG4Ina4NMIS9Q4B+AwS4WBYRKt0p4MyeUnLapmoTGHn9NUUlvNeoZ3x0RjPQPufwXg/cvnv+3D\n",
    "60qkXYwNZd7Stkuejjz9D6ThyJD+PAFpCLPmnmFpUc1gHe5ACoIKgyB/k1FJTKM3xtJ02tBrKjUw\n",
    "tDNXjfV2rk8fhg0/v3z+22RR6z82jHlL2y55CoDrAH8qcg/y3Au4MBt2YlrxZ5XBXnygT+MMjPjO\n",
    "ZnH+GdD8GzXWrAKbVE8VkFNQEYJkZp+F+xuXz3/b3z5qRHmYY0OYt7T1ogFp+CPk6SWFeFMjWIwC\n",
    "Skx8XPkbDazU84KwlprWzU1lZxpz0dz4HLO50LRVGRpgZrX8TmkF03Tk8gUnb4gGzim2PsPSL8Hz\n",
    "S4pvQTFl1gjpOQOwWw32e3D/IOB/6PD7GuKk9Nd/lPHho1zCh6F95t4+h/faFXPItY6i5TzXpzKf\n",
    "GTCtHg7kdz0WJHooY4M07+IvwfCsnTSgEPT7gJ0J+PnXfOCEUIstZ/z+QfD8EcCODlNIwpMRadH+\n",
    "n6uvUpNM9NihTAkbwr+hHR8W5bjOE/cbAM/fA9LBy9tPvPWxp1w/1l3zls689KcAPKuBAxS/FmbQ\n",
    "zrjmA687VxkHAMtnv/42IP0zAF+J2DotGrRPi+a7GL8V0ybocaomcyi/PUtIgP4ar2FdzsA0NoZb\n",
    "qnOGOd8Tnn/lMSTZLsf6m808Pa1QvHIgZ1g1AA6/BZb+064uXT7n9ffB/Vfi+jw1rXA035THerwy\n",
    "K5AoKuMkflQtpp9k0E4/aalqoBemamhS5njto0ylhzTWn3nue9e0SDsEr+gyXXnNWa/1XV8MwOxK\n",
    "5MnDjwFNU+bprzTIMQ0hNPbj6akxK9bnTStpHQInTW2ePP7YltM++pOPiB5/h7H+zFNixqGB0P7r\n",
    "D3b58jlvuBuGv21xW2rapXDeJ0l7iX8LBlHbqKFjM5VqGTT/GdfIOQ3wbH5kBHnkYyM0L6TbyYD2\n",
    "4Qse7PIt7/mfB8GGHwngEUBCgErn9/gZ/5uFSWjnpEHSYdbmVpNr1pAnNd8oPHmvh0WHR2FsgOYl\n",
    "78ICAD6twvMq3P2YLe/91NN2P4Gf2IJqAQ5e0WZ3qve/89SHCpGoBpoPo7kU5jOjA2tpNxfGlucS\n",
    "O74+YwM0L7vnqeUjCenLUvaBpd9Zet+nn7DWpVve+6kluG9rlQY0eM+Umqmv85YWAyT1RWZULVNf\n",
    "F0E7E9XU6LGZyC75zZBk/YsOiwc/5VEelqqgGzyPsKH4O28EeKXDPr/lvZ86HcCO5XPe8N0t7/nk\n",
    "gYCfBPdtSMOmIKrGekDlUZ5pHHOSqiVDQ6oMDyLXSbSp9b6aI63rLxUOF3xkcKx/HXfdmec+eanM\n",
    "5JK7nCTOipPwXAB/CEt5y3s+eS8s7dOZyqzpNEkYIwMZDcQwpZXrZ/Rb02rVzkFCi6mFEWloZjUL\n",
    "uDEAuRy3xDiPHFz/fMeGABavIMMJ77uaGhoC9Jxqa0Pzb6yIa+qr0yoBIG0elOpCnZtZE0B8GEow\n",
    "DrRrVDOT3CeY5pJEX39Srvsdzcwh5ibCBE1XdflGia20YFoub+dS0wL+s56X+nlMtDLCCxEGZZiW\n",
    "hSRn6vF3ERCnP1znse7Mcy+9C5TUIEQgwrFnQjkLkdmofStdgB3aKNobGj37LO4nzCK6JIiJFFgV\n",
    "FmpdvcYkK2NpKBmieXJ7HcYGmM2pl9ZgkPgoVhriGgnC5y0Olsq10aOC5hej4sCAWq5vGeimpXls\n",
    "xVqGFU7EWgcjAiuFYneHw2vMur5jA0pC5s1PqUZQuxRF1thK+1aiilCD7TxJ2CDEZqI6j81carmo\n",
    "TIZoYAKkKmFtroj35uZVwQpm/1+fsQGhgt0F+EoLkGexVaC+DJiEBABCe9pkaFpnpUhqYu48HwBL\n",
    "B3btFWFGJTfJtczBEOF/lK5QUHIaaqhg1exjQ3zeujNv+ezX7wCwZT3uteVd//3nkFc/1CHNAC1j\n",
    "0zr1i+5NeCAJ7yo0BgNbED2P5TfyRijeBlXS12uwvcIgOc+ZSQaaKaU/Y1amlXzanEY5GMWkAj8Y\n",
    "ZnM9R2vZqwckrUWTnTMwbEIgWogZlbjOvSYVKsii6fRJTXU9/Uuv2gTg2e2AmHqa4HLsfqT0NfvJ\n",
    "z3zvkTzeI2be0taL/gmAFwD4EcD38pz3CB8QNbBqTtT5R85Q4qkOtksdTf2Ipq26Vr00+5znJ8Dz\n",
    "i5qpBKKaEAG/oEzXBHWZ130M80gNNjcgLcpzaryow+zpyPnGFn9KImKo2j1NwUS/5fhvYpo+gyH9\n",
    "N6T0OXv2Zx+SA31YzFvadslzkafTYDjO8/QMmDVj0bXIsebFzEaF85GqYkklz9oQagzHdJYy2q0x\n",
    "wazMC0k6M/Ofs/ipSoMk3oHCFOkzHuzDDc+rpVBAgJInwAWgUHNZlVBBIzN530kySWPtPOMYRwB4\n",
    "MobhVOR8Kgxf8FuO/1l7zmWffzB+PCTmLW296KcA/Cry+EZ3T5Y2ITqVE3srrVTEA9ExgwE0xqnk\n",
    "A/DKAEWTXe1NiqkkUszhHbEjRLCESDzrCHOVmxWIuayhyDzV7rRZ0M/1dTW/mWWY34u1Rs0WJUky\n",
    "hPmsP0Xgng9g2W865gKkdKY993/vcrPLgwKWpW2XnAazm+H+ZqRFsnkPiDNRO7RUF9vRI+huaC0W\n",
    "O60CzhhsjQxFxFGM8yDxWDU9adGIaJU48WQsrgoTtOJe40P2gFptKrKUyrF54G1SPO7mUZ/Ke6fW\n",
    "tMTPh6Ektdlvw2ec6ArQaJB9APAumH3Cbz52l3XC3TJvaetF5wDYDs8p6mXOHTq5Pmiu8HmqWZOp\n",
    "ma2utQBlkWmoi2fCl5IM0VhJWelxDs1fMl6DVWZWjexKPgI+wtQVs12sKBkx1tuKH2Uuk+uf+1lp\n",
    "pIoRjVAtPsS4Kv5fsMBClGGamvkv87wW7h/aFX/WNJtLWy9eAPnDMDslNElQGptenf6LD2KMjypx\n",
    "tR1PC6gBSKb2kNTSaSzoL1Jn1KxZlgVDIcA0NkKQwMEsxmqV4SRK5EfJoLKZxYZF067a09btTCKo\n",
    "0awQ5LY6VGiGoWlgqpYkz0KRaSqfASJ0BsB/1r/wsm/a8z+3bc6ntTXP0llAOqXFRnG8oLA8VdNS\n",
    "Vh3mJczpPL1Ua2eay9SgmAum1NHkkNH0ozQt0XPJuI0mVh6c9yUz6V+8AhptgIo8p7d1eC4+XEtO\n",
    "XaUjt7/Dt5Oq2maB8jyhmXIvjhAKNFNKC1TQ6lb/wste+qDMW9p26cHw6fQwWyGZU0VcxVx2N2cQ\n",
    "PG/0mZswhda6BYvt7juVdupc02qbs0tAo80BZaBIddTrhGA2NEJV0112IjUA07RNLEeUoxTQ9DFe\n",
    "WS/jxWo1hmrgOsBEoAVhNh8jiaYygZB+bbfMW9p2scHzhQAWXFTEbZVAJZMucVkEwd7MU0dINGaE\n",
    "mVMgUn0XyyoEHurjorIdpgTR/cw+mLgZeq1QjYxTKqGs7PcrlkRQL58nykv1+V3vMbVzZ7ucwqpM\n",
    "UzmdoYIKb3QQzEDPsEYpqtDiKL/5uFfuknlwfzs8H9mYUbuZxdwZWwd0oXyIIK7U4whcaMLU9HRz\n",
    "eDOjMZcjup6VgXwgvQcRZAT6aASJ0hAJS186iSZhdo6uR4QjGKv+G3IO+nZ4Pi5Nfao0YDVfa4cE\n",
    "LDxOS8C5p/H9azJvaetF+8HzOVGnmka0doXysNwPHg+VhjUemGiTU1szF3NU2ZlVl9jMW0tCwOc6\n",
    "r2p7hAre5gsi8wmHdj4tQzAacg1ijYY1BDJMKoShJmHL0Cbi/MmaeeZzMDTIUwUt1LihziXuIwlj\n",
    "i+97oX/hZSfsxDwAr0da7A+vm/bVRDWSCFDxtkitXishwyyuUadTgpJwFIaYYwZCyCyb/9Asz7Sb\n",
    "Bd9KYBZPkYYGGQQYmACyZjabiQ2hCCwgXdl5ujMIRUtBk06XQS0jIEvCKPrJCOyBTvsbuj1pDebZ\n",
    "axRVlcfPwazYE6caFLtW6cBpwggWZoleMoeL73wTmu0PM6rVcGEGGRuwXvxuWIYJGDbB81iSx1Uo\n",
    "zQzclWRm8Vw2LJRATUs7nyrWJExvmNK2xcvQC2wgXQfGSTatCA1oNlF9ZeVD0GQKIXmpX390itVs\n",
    "ed+n9wT8WBLLp7FpWP3tObfEcOcjKqHClXlPhDhXfGcSUxupJjEt4QuGZi41YzNvoaD5oykXrbe0\n",
    "6PKv7r2AEJC1JAN9GgVKgImJC6BFKWu6a+U3f+HuYJ7jhxroIAPQJ+qDJmjAJqWegdPUBIfmMw37\n",
    "AnaIitIxAPYMems3sRJZQYQGw47mo8BFUmMk2CYzuz0ALueiI3znc9RfMfaKdjxv6xO/2e2FMPRz\n",
    "1vCnnKoMErChg3Nr7MvKhPtt/cnYjNnlSAnYJD6a9NAYOdamzEqx3qAP8HKgMe81ZS0JDm/pIfqP\n",
    "eWNsgAPmLtE+VyDCDAcJQyIGQqsPEYlqMUXA7CFl9yofQs1y+EoLKbeaj6Rv8067lbo0+anN26Fe\n",
    "yO96r7SogGIA4F/pGOX5yQ0zoAnjRDch1omt+cMafaH8m0E7Ndi9MG9p60UGz6/2PNYgvEqsEpSp\n",
    "LDJTt0JRGud+kAuIWlldTCR1yUlv53BOoAGhPJZjBACRlSdjUyM2rwPi/OLnNOCmkJBpMxVRJmpI\n",
    "MNV10OfHtjAHHB/tJ7FDIpaLa9GupwmdRrFimIVD4mLCDdWflI7y64/elAAcbGnT07pMAaVOW73Z\n",
    "EtehTTWHEJ8DMWEm51eNC5RIAqqJFOK6EI+f5zESyEHI3cRlDMDL+1x0syUagTSeUs1IA0pTkyLa\n",
    "qlFtrdevXPgLl80E4NAODSexPjS7QwVvAzu7s1gSQdFAu74h2L3gfngC8AyP+MmDwxEuKEgwiZnI\n",
    "oFhY7n9Dru2y8MLIebqL85LIEdPVefOIYqqHnshdeGJ9bFeRqWkIQI2nCeR6w0QrwJgxrSsLATA7\n",
    "u+PbLcfvA7MXt8Ba/CkZMQzSWs+YlWkwEX5eT6aPYwM9ln5iAfcnGayP39Ls5TV8OB8BWwBWzUaH\n",
    "nOjkO6kUTSDQQBAUruhtQlTd1ZSF7xDtjHQa47oGcFwyQy6C4socCkggOfU3uS8ok9nRgsF1AnC/\n",
    "Co5PdWTK+U0wPHEnwEJGKWPU6hDkaSot3mihvjeu2y+55wN6U5b6XJ0iHfo++sQOneXGJI3/mAmx\n",
    "AQ3V5fZDn8bqt27yiLixmkma6nnch5pvZes56muvQivFZ3DNaiki1qoE5prYOa2Zm2YlbgDw6pUL\n",
    "3ynEAmB2SnM3aDSdB9vamhHgSxirrznRYyzowvZPgD/JmeDtHnbmz8qCZwxV/8HfDGylKKsxEc3g\n",
    "fN4u3yemMF4nlXsiaPAPlEqH50qvYq7DelDbg2FTM8XhRyqj0tBnepJaAoIGfBnA8SsXvrPFdgD8\n",
    "pmNOgOFFYDhkQhemuvi8I4W2Mneeu233apoIIbn7fgnuB4APTM1R6Qy4LhNxMRGDCfoLPyPMzFPf\n",
    "rxEmgMldQaJdloMIsoYc1VRHpcPLG5FomlvFm+ZbQBj3IYRGpGYeO8FySV/NUnSwDPffgOfDVi58\n",
    "57c6xt1y/N5I6deDaewYMDT/FiBQ6McffemPXk9hXXDtwdj9F7DhgCKxRIaE/VRXJaS3vF0XB1VH\n",
    "qy8oXdPUKKiRRQdA8fbAZs2UpiTINcGqz/W4m9ellDY9r1UNs6H4QEW1FJBAyxA0twnRbq9pwPJW\n",
    "ps/B/d+tXPjOP8NaI+f/iGQ/iuw1IS0WbBiKpnVIl5ZlRKcsVgVrHAvDXOitRemU9l8grz6ptB2o\n",
    "TxATGnvGrRJWu4plIT5jfqOsCINoH48HoYTp80KofqadyqGB3PJn3Y8Hg6g9VZvYHjgfLn7H7Btw\n",
    "fAbApUC6fOXCd6z5dj//4nEJjv8M+M9h8mak4vmtCUxknKgIEkrlXJjOdghqIbCz0PsEjHm/BVLR\n",
    "vI6ovtODtGNm4NbeLh5TbmlGJgCQmGMtnoapSwCQYelr8PwXgN0Oz7fD7K8Af6CthUAJMNkn7gGk\n",
    "ir+1oXaGdY7HKbVNSLUoCn8ANvw/AN8A8KWV3/z5uXeeMe4VewD4r0h4Y6EJetPfIdrUEOQglksz\n",
    "TzTnzG+yd5XghY26AJBs/wXcD2iV4txu0nG6SvicYRFbAXBrksZrWVCcB9uxWJqA4Vb4tB2eP7p8\n",
    "wanf3R3BHg/Dv/iKAYZ/AeAMTNMhzS2gPN+waIzScABoTCATeYznpxqGgGCtCoFBqhEZsLRfeYWs\n",
    "2RNCAl1UOfyeMqT+bUCX0KW50tTaTv8XiSztENfBcBZ8+vTy9pN7yP04HP7F4/aCpVORp9PhdlAD\n",
    "EIqIKw0m8Z0BSmoBNlnNsFifOovwoTJ8IUKgKLT8f7GApW8jT3t1BVTaVUV+mrkgpI662moDFVrR\n",
    "ZjosNLf6xDwBw/AJ5Omk5e0nP7Bbgt36WoPj2UjpqQD+Edw3qa8Ln7xYAKurAqYaIu2C/m5y75+R\n",
    "xwAgT3vA7BmwdCA8HwjgQLg/Dcy0s0o+DDWwJt1nYEVjNEuAMVTKxVrRtC4WBaRELnMWMpDp4bL8\n",
    "jgXc7wTs6bH4OVzv8p2KzrwRJikqym3xSowIrg2A/wbcf3lX2ua3n/DDcH8F3P85gFdhSE9ppRNF\n",
    "sYKIV1clTuR5NF1o66af0fgt1wLpODYm0DoshkJI+u089oRG1SICuoiXp1Y1j1dEyr1ppZgO0zQa\n",
    "aa3YgoicG04Ndyxg9u0mhYKGIoshMVDEdSSIossZKtQ4K2fV2g8tX3DKL67JtNtedxhS+jXk/DJ4\n",
    "3iPMM32Hmhb2oOi7U0ZaAAVSQORgdcOH1hR5zWJRN4IAARY4ZwgKWpYj6AW00EJACIWAvmwcWwMu\n",
    "QwKuTWNb3oda7UJfPlv2b1XNkws7rRHg0pkXQXHsPiYRyVQyXetw7l+DpXfvxLTbT9gHwFkoX4RR\n",
    "uBPhgtwvbsv1oPkM9oOQoMq8ObKLG3tjqhKGWhfPVCV+FLRHLaegJ12P9UIUAizaxmegxiUqhstn\n",
    "uc3lst7yHHcsANxZ8o6y6aNDSJVBXfZCCShmkk45pcKDQJxBzF9cvuDke2eMezLMrgTwzK5NgPPx\n",
    "4RYJmBxRP9xUY9Ms4QnkWhKN/khNJC1EEFilXyxLlzRGAxqrouFRRKXgcK6ZBSsLateR2fVwFFwZ\n",
    "zpBRhvLcerwo0h0LAN8ugEO+SEIz+J2ZRNOmSOmkoEVZHOcRphe/tGP5gpP/oGPcrT+zL+CXwf2Z\n",
    "gUJpWiiB9K9Tbg8ENLMXcafJGivT1io30UcpWOEPG4KzfGbWgMJ8h5TGcXm2PiL30LrKtGkqjbWj\n",
    "Jjkga8lFq8kwVt/p64Pu9q0En+4MBjHumL8ag1II1NZzmjCaqGpC9c14ob0RoH+kY9xtrxswDJdi\n",
    "ys+PhyUImGfY1VxqtkQDYK41KumpgQEOJocJyghCumNimgIhVwZyz0HkQ2XOiJUpUFPzjWRaZLFQ\n",
    "zaSXOQZZv5pOBTkqbFXzElABC9M1hgL9g8piOkmAcN6cXJtnNBasmgi7HzZ8sqck3oBpPLKLIwfZ\n",
    "vcNANsydEHyetVDfxnP1Nz9T4k/in6PBNzXfM69+Z0oQL7PGFGZEGLsF4+u5C/nqAQbwleQlkSLm\n",
    "VTW1s25MkjgTH99K8PzVDmzk3BjVDXX+ufkeGOLteZGzEwRaNPZPlrefeM9swjM6BpBZ08xEa72N\n",
    "95//n0HxnFkkRgfRhSGGHq6vFRMGgEDTyHk7BURoKEya0spiwsO6uIAs5aS3+QKJkt402QYMw18m\n",
    "pGEZebyvI1j7o03UESv3Gth1JgtYCH/p13b0uO11rwT8BYHq4vz6QLx1wO46V0BsIZzC/W4blyDk\n",
    "WKcgOYIE9enh66oQae1xlFdakVFKM01vxT1TLeUQnHhDnJoLzt7ckJpJ9b2ct1igr9uhV9+Ulj/4\n",
    "plUAV3WZFd0xoxl+QJx6bsejoCmV8ngwA/J0PfpxcixwsakndHBOhaTeN8ykCJKO+JvmGmJWvfdN\n",
    "ASzQGNglJyp9Ax2KT5s34ur9wxx7M6lMKJNJfL7AAxJGwFr2SunY3+9SgDFVnq5oDEqifSqp9WZE\n",
    "f3GMNlhU2oSRAJCG/9stIqVntUR/tfe6NzsyN7UgSUiuplkbc3ZiHnpBMjTwQIZGwL5mSNMj2MUi\n",
    "yBECADQBoECr1lHAIheZm5nk/8NXo6BP0s1zq3bMM15lfZc05qXhisZVgeBRVYDEb/Q3JFqIaCOU\n",
    "nlMWc1fHvDwd1CVdqRV8IKKxCGAZpOaWodCM/NyUdRqUZMuwmOEQPPVR4kuj3ua6T6DXPIKfeHPS\n",
    "fI66lkGEkMdHdo95KGKPgkla702/+31I6Y8a89yvQ/ny22abI7OAtkDd/xYpKzKbN1KmGh8s3vDj\n",
    "t/3MZjj2bcGzEE/TV3QJaq7Y+kaidGhUND0YMglqI9Pq85lJ3CYok9pIN9Jp1Ow3nzPiSgF19OFz\n",
    "v6sKMBc0bUqKBAM/j2sut8N23B/MWz73LRMs/Z82GdC+uUoXK46XQEXjriTZhsiG74TgDmrghLGY\n",
    "iTlSLbKSWxzHpnV8yEmkn0SMPKAAhjnhVCMDLddniFwi56wCM6kJFqao1g5KL2o5BG3Wv8dVRCIc\n",
    "JJUCk1mTMUfskygmM5hXz/5YOFCF13yIMIlomhgtDLwBfYpu/XJ0oUfO+4VvzD5rBec9vQSuSRav\n",
    "64k+FN6mmqbIO3b3Q2icSnI8q65bwoa2A6jXHn6mQhGJ+TrXKAham5LpUuiS3AXMiMCwMVefs8x1\n",
    "Jwy/z0cL5i2f+5ZPw+y64oemxkQ6UWk/6Fr4qDnKxMhs5J0/s2QN+ub2m3NrVVmddWR/rIUF/FsZ\n",
    "qyCmi9vE5ykQYtigoQQ1idLO8yaGRPO38KKh4PkboCZBx/W7bzvUazNTyaGC1hIT77Ety4EfNKgD\n",
    "3M9sNTn1bWhMUCIFKqLHFScf/hPw7utf0AhkqaG6CHB5L5F0EltbCCaZk+uZ5N4hsZAsiAlheJ0w\n",
    "vGNcbhkTNWls7VBfpfGfZlE81xcEKHOsjxk9NxrPn8tFcFK6CrMUY8e85fPe+r/g+erS4azZjdSY\n",
    "GYvNTYIiEW3N7xEYwNF9U4sGoWqidX+CnsuHzlMzR3ywrmXQRYgg73KhZgnxBvF9LGdpBkY1Xv3R\n",
    "HM1Sc8ISiL/TZ1P0Teuim0cIqjQQLzfisRHu77At13Tgode8Ms7s0lGdJnJRs4ckoQn7eWPV0m5Q\n",
    "CFzMjsRt6j+AhiTVVDIpQPMSx/U2FAaa/9yuiWwImhVQwKM51KCWmN7QGAI69BmmoAFmbkPWQlMM\n",
    "VFAmrqrDHNhuW665eUbEnZm3fN5b/xjwDwBoTOs2XpAp9ccnRCcyH2JuuvoAU/yo9egqJJAbSGbS\n",
    "3z1Ybr6QhKT0x1rElFVaYlhIcD2188NyaIoqt/NCKyhg3uI30on5x8izyrwmAqvxnPp0BuYqjO4f\n",
    "AXzrnE9rMg8Als8/cSty/p0OXWljT7xPE+hfj8jPw8ije+kOmaRARcERTIgukqdxnprnTtO8wvCM\n",
    "9ooMa2YptGvs51V/C/Smscs00fzJ/+daT589jwMpH9pOou4jwikTkDQBns+2Lde83ZZW5lu2ds28\n",
    "uuB/A/dLupvoj/rEWCQX1kIOs/JqqI55Qu8ABmqeDU0zgXaPJJoffnBViGZFswiK6HcDHBFooEl4\n",
    "aCzavES2fI400+5AvqjCQBJInMqmJK4hsk2VftpAO8z83jRmpOE0W1p53675sxvmLZ9/4gTPbwL8\n",
    "XHBbTZiuhO6Vv2ivtepeb5jl1VA6KImguRCkN1Vgopn6PBccawxhvEn/BbTYLszXDHIHUhbkGmGD\n",
    "mPqowtc5dN84n4OVDsfOn2lBNWpyMyTNzwvKzAA+jsWm59mWa3b53bkcu33T7fIFp9wP4N1bTv/Y\n",
    "J2DpvyCPz+/MpCR1Tb4lK76MHrLIGBbXtIQ0mlkmTJ/7A/VD04yJg5hQdnsRQDCvyevDp6HPuJDA\n",
    "4wNVe8UsEq3SpLKqDjRzP9hsF2zVWAIwmzFXqxXT9BcwuxzAdjtsxy0PxrSHxDyO5e0nX7vl9N89\n",
    "BEgvhftbAX8VgKdQIt3Lq33L/lMBDRHIayAKRCGSqkImAD3TFDoHEwW0kDGT9L2oBho+gWHYEeBh\n",
    "sWi9MBQSZUDsfvW2VgIJIuMQskWLcRXR8hmAZqYZzxZmOdwfwDR9F8C9SOkGW1r+y4fKMB0P+QXh\n",
    "y9tPygCuqD/YctrHnuh5/DEz7GlW3nhbHrq+PTaXLVaFFvmvu8l0E2UMYRglUomrCDE6r6qTV+bT\n",
    "XBWze4U97/Lffvhk+fsxHvGr+ZcvOPl+AF992Be6l6B+WDTzq8XOMCVjCyOUOdos1OUE0cy4zv0P\n",
    "eOwGbT5GQ512Za/2AAAGk0lEQVR2OO4ZGKH/UShOfxdZixpzAQ3QRIqL6aq5v/2HNdb96fwrr34F\n",
    "3C/baRNI53/q79i5RGbl5gcJRgABQESh4HW3I093xHxd2kv8FNegIQGArg2ReV7W/SLQnmjuT7cX\n",
    "XrXjsaVeP9b/62imsTl7LbQqDGeQ2qW9rOQkycDYl+C9CdXCMXAggAM7eE4NjS1WRM4AWDW3es9x\n",
    "td2b3+MwocVzPSredz3JCGyE2eQGQaBVxiMGm2bmEQ2SR6uhN3PK7mOgbhARwKNF4C6LgYY0x1W5\n",
    "t68RlqDX1s7k13lih5CvuxVbf+Ypk9SfsUJBItGE6WZ65hKZ+1ToD8yakrw3icyBRnNT6lNs9JXU\n",
    "NveyvUtrl5C5w+dKqLDOYwMAC9NT1jSA2580Oa1EjJTS2ALmlErHlTID9Th7JSN88AZgmDXRF5Jq\n",
    "Wajrz0G/b0IFjvFdtGesv+atv8/TLEPEc9REOYd5zAgnagDNrjNDM5nRGzk086iM7zrMpMkpdqJK\n",
    "vbKbU2NRQ7z4lOerSd0A1dsYs6lMYgaCCFELrgos6F/4uZpLVhk08cuhQMhQvy2lfqbfIMJMUNsj\n",
    "cTeGRY4LDW0bFhm32NTuP6/9rcNYf+YBaBCdYEUaf0ikaI+QGhlfREPma8CulXXdr85qNFAB0GpD\n",
    "lgGOohK+imH4VeR8oB161b4YV/fGlI9DnkohNFJh6NdfKgQ/AGZTW/uGRZ/MjRqcNW2wVEQs59q+\n",
    "gIoyB9m0QfOmYCVJrKjZGGvmcKgvIcAEGFZhdrQdcuU1XKkdevV3AVzuf/aiQ5HzRUjp+NB83XK8\n",
    "QWNjMiwVrLXyDNC1FnK/OZFp9t7XAdJdVf+eo1c1qTw/kGdq8yxq/S8N71fGdUs+bMf3AbwdZndj\n",
    "sUkajAQo/UCECu5TfZVHe/goflauRlGTCBGI/dkKSHgNzaXWzroYTyr9+jIAfU2w++/tbtl22I6/\n",
    "wTRd0Xp5INmetCFmcwN8nt/XvZ4wsiJSzQYEkqOdQ7MaxUuaSumvpK/TnpfwaeIvQ+MBwO+1Q/7k\n",
    "9gdfut8Qr9HXtdInr/PYAObZtyNmA1qKS7c/aexGLQlGQNJqEo8FcrWdi6xw6ZWEZEyMgOWH/fqX\n",
    "7P3gS7cf7RLpIWAJbSHrNzbCbH4Znr8evfpEfFrCGdQMQpjkLTaMzIYyCYIy69BOLrO+Z5MhhrvB\n",
    "84t3u+xrj0wAjgqB0op/ue/du7v+sRjrzjx7zmUO2MVdjyT7Q7gnnuYsDe0ryRTSR2c0FKrLXRgC\n",
    "VOSq/nGU6reWobJv9+uO/qFdLtz9l5Hzc7rNpYCGLd94lEn1oGNj4jzDeRiG73WxlrYR6LtTmDCm\n",
    "BmkQP++P0ewJMygEL9oyr2kwCozZMwH/rK8ccZBO6StHJP/8Ue9GSmfvFEMyP+r5S3b4n/75Y0ix\n",
    "Ncf6Z1Pr8D9/5RkYxw/0mxGtT5kB0jAk8eFik/SPiG8EehPLlxPoFuac+1ogEwEAanvgfUjpapjd\n",
    "gGl6KoAjYPbj8ebZiCnRwg/D6ba0csFjRqxdjI1j3s3HLmB2NWCHRygQucO6rD53KIyaSOiIJgKF\n",
    "As3EMl/qKHOPYvKY01TgpALSNRMxeSCC1HKnfwzgWFtaXne4uUHpMcCed/mI7McC/tnQgvCD9f8B\n",
    "asTfjWML4COrwmBZ0l1R2/NWr1NNBXrww7+jIq/t+DO/GUjX/wbu/3IjGAdsIPMAwA6+/F64vwZm\n",
    "H44QAOjLQpF+8p7w1AYWUMlUoCWcu9hLEWZifNfQbAAXVvA5h7THq8bBrgKwZEesfPPRpcpDHxtm\n",
    "NufDb3z5v4bZmQD+cSMS0IUCWkvr+lG8wfcI0tFMJzvRtD+FrRgRuM+Tzt7/EOWaZZidBc//3pZW\n",
    "NrRF7XHDPADwm47ZBPeTYHYGzH5izdoc2x9iP1xq7RDUIiagqc3Zm0YpwGGCW30cINoOFZLvIaWP\n",
    "w/Ov25bl+XtlNmQ8rpjH4Te+fADwZri/A8DhAPbYSdvU5AHS1ETtmyQmNOkFTTMhGNCFGLw2Kh7+\n",
    "ZQC/hewftSNW7lp7xRszHpfM0+E3vOSJsHQ4zI6C+4uR8xEw7BMJaIYE829GjpeX1oCeGsgsjVbY\n",
    "yeSUvg/3GwFcC7NrMY7XArjJjljx3Sxxw8bjnnnz4dcdnWA4GJZ+GsD+yHlfmG0GsBmeNwPYF47N\n",
    "SGkzxtXN1UfdDUv3IOe7Ybgb7vfUdNY9MLsbwF8j588DuMkO/9PV3d3/8TT+P2x6AX5Riia7AAAA\n",
    "AElFTkSuQmCC\n",
    "\"\n",
    "     style=\"display:block;margin:auto;width:10%\"/>\n",
    "<br>\n",
    "<div style=\"text-align:center; font-size:200%;\">\n",
    "  <b>Concurrency</b>\n",
    "</div>\n",
    "<br/>\n",
    "<div style=\"text-align:center;\">Dr. Matthias Hölzl</div>\n",
    "<br/>\n",
    "<!-- <div style=\"text-align:center;\">module_320_concurrency/topic_110_d4_concurrency</div> -->"
   ]
  },
  {
   "cell_type": "markdown",
   "id": "38b8106023439f5e",
   "metadata": {
    "lang": "en",
    "slideshow": {
     "slide_type": "slide"
    }
   },
   "source": [
    "\n",
    "\n",
    "# Concurrency\n",
    "\n",
    "Definition by Leslie Lamport (in *Time, Clocks, and the Ordering of Events*, 1976):\n",
    "\n",
    "<blockquote>\n",
    "Two events are concurrent if neither can causally affect the other.\n",
    "<blockquote>\n",
    "\n",
    "I.e., concurrent events can be executed in any order."
   ]
  },
  {
   "cell_type": "markdown",
   "id": "7af9a9a52e5acb68",
   "metadata": {
    "lang": "en",
    "slideshow": {
     "slide_type": "subslide"
    }
   },
   "source": [
    "\n",
    "When is concurrency useful?\n",
    "\n",
    "- To reduce latency and increase throughput\n",
    "- To take advantage of multiple processor cores\n",
    "- To perform background activities"
   ]
  },
  {
   "cell_type": "markdown",
   "id": "27f13d1813979ec1",
   "metadata": {
    "lang": "en",
    "lines_to_next_cell": 2,
    "slideshow": {
     "slide_type": "subslide"
    }
   },
   "source": [
    "\n",
    "How can concurrency be realized?\n",
    "\n",
    "- Interleaving (time slices)\n",
    "- Asynchronous processing (special case of interleaving)\n",
    "- Parallel processing"
   ]
  },
  {
   "cell_type": "markdown",
   "id": "32bd463f82462762",
   "metadata": {
    "lang": "en",
    "slideshow": {
     "slide_type": "subslide"
    }
   },
   "source": [
    "\n",
    "How can concurrency be realized?\n",
    "\n",
    "- Interleaving (time slices): Coroutines, ...\n",
    "- Asynchronous processing (special case of interleaving): event loops, async, ...\n",
    "- Parallel processing: threads, processes, futures, ...\n",
    "\n",
    "But: In Python, threads usually cause interleaving rather than real parallel\n",
    "processing!"
   ]
  },
  {
   "cell_type": "markdown",
   "id": "e6a89e650a4cb0bf",
   "metadata": {
    "lang": "en",
    "lines_to_next_cell": 2,
    "slideshow": {
     "slide_type": "subslide"
    }
   },
   "source": [
    "\n",
    "## Threads\n",
    "\n",
    "Threads are encapsulated by the `threading.Thread` class:\n"
   ]
  },
  {
   "cell_type": "markdown",
   "id": "a8d47c11dbbd0577",
   "metadata": {
    "lang": "en",
    "lines_to_next_cell": 2,
    "slideshow": {
     "slide_type": "subslide"
    }
   },
   "source": [
    "\n",
    "### Background Processing"
   ]
  },
  {
   "cell_type": "code",
   "execution_count": null,
   "id": "a4d8610b7a25219e",
   "metadata": {},
   "outputs": [],
   "source": [
    "def wait_and_print():\n",
    "    from time import sleep\n",
    "\n",
    "    print(\"Starting...\")\n",
    "    sleep(10)\n",
    "    print(\"Stopping...\")"
   ]
  },
  {
   "cell_type": "code",
   "execution_count": null,
   "id": "02d46ae7d8a026d2",
   "metadata": {},
   "outputs": [],
   "source": [
    "from threading import Thread\n",
    "\n",
    "my_thread = Thread(target=wait_and_print)"
   ]
  },
  {
   "cell_type": "code",
   "execution_count": null,
   "id": "2cad4418b83d1744",
   "metadata": {},
   "outputs": [],
   "source": [
    "my_thread.start()"
   ]
  },
  {
   "cell_type": "code",
   "execution_count": null,
   "id": "f779b836c60996b8",
   "metadata": {},
   "outputs": [],
   "source": [
    "print(\"Hello, from main Thread!\")\n",
    "print(\"My thread is alive:\", my_thread.is_alive())"
   ]
  },
  {
   "cell_type": "code",
   "execution_count": null,
   "id": "5dc4c6eec7b44d89",
   "metadata": {},
   "outputs": [],
   "source": [
    "my_thread.join()\n",
    "print(\"This should run only after my_thread is done.\")\n",
    "print(\"My thread is alive:\", my_thread.is_alive())"
   ]
  },
  {
   "cell_type": "markdown",
   "id": "a0e53308cf60eeca",
   "metadata": {
    "lang": "en",
    "slideshow": {
     "slide_type": "subslide"
    }
   },
   "source": [
    "\n",
    "### Reducing latency and increasing throughput"
   ]
  },
  {
   "cell_type": "code",
   "execution_count": null,
   "id": "2b40662f0423e189",
   "metadata": {},
   "outputs": [],
   "source": [
    "from time import sleep\n",
    "from random import random\n",
    "import timeit\n",
    "\n",
    "\n",
    "def simulate_processing_time(delta_time=0.1):\n",
    "    sleep(random() * delta_time + delta_time)"
   ]
  },
  {
   "cell_type": "code",
   "execution_count": null,
   "id": "a681e84310d97e6a",
   "metadata": {},
   "outputs": [],
   "source": [
    "def process_request(data, results, delta_time=0.1):\n",
    "    simulate_processing_time(delta_time)\n",
    "    # Is this correct?\n",
    "    results.append(f\"->{data}\")"
   ]
  },
  {
   "cell_type": "code",
   "execution_count": null,
   "id": "5934a81ed5120281",
   "metadata": {},
   "outputs": [],
   "source": [
    "def process_requests_sequentially(num_requests):\n",
    "    results = []\n",
    "    for i in range(num_requests):\n",
    "        process_request(i, results)\n",
    "    return results"
   ]
  },
  {
   "cell_type": "code",
   "execution_count": null,
   "id": "0cd959dcfd24ae4b",
   "metadata": {},
   "outputs": [],
   "source": [
    "process_requests_sequentially(5)"
   ]
  },
  {
   "cell_type": "code",
   "execution_count": null,
   "id": "4b5144e66e3aa36e",
   "metadata": {},
   "outputs": [],
   "source": [
    "timeit.timeit(lambda: process_requests_sequentially(5), globals=globals(), number=10)"
   ]
  },
  {
   "cell_type": "code",
   "execution_count": null,
   "id": "ca161e08fc60f12f",
   "metadata": {},
   "outputs": [],
   "source": [
    "timeit.timeit(lambda: process_requests_sequentially(10), globals=globals(), number=10)"
   ]
  },
  {
   "cell_type": "code",
   "execution_count": null,
   "id": "fd020068b0b3e26e",
   "metadata": {},
   "outputs": [],
   "source": [
    "from threading import Thread\n",
    "\n",
    "\n",
    "def process_requests_concurrently(num_requests):\n",
    "    results = []\n",
    "    threads = []\n",
    "    for i in range(num_requests):\n",
    "        thread = Thread(target=lambda: process_request(i, results))\n",
    "        threads.append(thread)\n",
    "        thread.start()\n",
    "    for thread in threads:\n",
    "        thread.join()\n",
    "    return results"
   ]
  },
  {
   "cell_type": "code",
   "execution_count": null,
   "id": "2347569a405670d2",
   "metadata": {},
   "outputs": [],
   "source": [
    "process_requests_concurrently(5)"
   ]
  },
  {
   "cell_type": "code",
   "execution_count": null,
   "id": "3a356d90ca3d90e1",
   "metadata": {},
   "outputs": [],
   "source": [
    "timeit.timeit(lambda: process_requests_concurrently(5), globals=globals(), number=10)"
   ]
  },
  {
   "cell_type": "code",
   "execution_count": null,
   "id": "38845219d9b914e2",
   "metadata": {},
   "outputs": [],
   "source": [
    "timeit.timeit(lambda: process_requests_concurrently(10), globals=globals(), number=10)"
   ]
  },
  {
   "cell_type": "code",
   "execution_count": null,
   "id": "71e7304f4d0c3e4e",
   "metadata": {},
   "outputs": [],
   "source": [
    "timeit.timeit(lambda: process_requests_concurrently(100), globals=globals(), number=10)"
   ]
  },
  {
   "cell_type": "code",
   "execution_count": null,
   "id": "0a8f78ef0d2d9ffb",
   "metadata": {},
   "outputs": [],
   "source": [
    "class MyThread(Thread):\n",
    "    # Note `run()`is overridden, not `start()`!\n",
    "    def run(self) -> None:\n",
    "        # noinspection PyUnresolvedReferences\n",
    "        process_request(*self._args, **self._kwargs)"
   ]
  },
  {
   "cell_type": "code",
   "execution_count": null,
   "id": "0c652f508842ec29",
   "metadata": {},
   "outputs": [],
   "source": [
    "def process_requests_concurrently_2(num_requests):\n",
    "    results = []\n",
    "    threads = [MyThread(args=(i, results)) for i in range(num_requests)]\n",
    "    for thread in threads:\n",
    "        thread.start()\n",
    "    for thread in threads:\n",
    "        thread.join()\n",
    "    return results"
   ]
  },
  {
   "cell_type": "code",
   "execution_count": null,
   "id": "40e20eb6b4eb7541",
   "metadata": {},
   "outputs": [],
   "source": [
    "process_requests_concurrently_2(5)"
   ]
  },
  {
   "cell_type": "code",
   "execution_count": null,
   "id": "45eafd9cf8e3588e",
   "metadata": {},
   "outputs": [],
   "source": [
    "timeit.timeit(lambda: process_requests_concurrently_2(5), globals=globals(), number=10)"
   ]
  },
  {
   "cell_type": "code",
   "execution_count": null,
   "id": "1a5042ee117b9b44",
   "metadata": {},
   "outputs": [],
   "source": [
    "timeit.timeit(lambda: process_requests_concurrently_2(10), globals=globals(), number=10)"
   ]
  },
  {
   "cell_type": "code",
   "execution_count": null,
   "id": "b29da697e9954605",
   "metadata": {},
   "outputs": [],
   "source": [
    "timeit.timeit(\n",
    "    lambda: process_requests_concurrently_2(100), globals=globals(), number=10\n",
    ")"
   ]
  },
  {
   "cell_type": "markdown",
   "id": "3320d28a5a496840",
   "metadata": {
    "lang": "en",
    "slideshow": {
     "slide_type": "subslide"
    }
   },
   "source": [
    "\n",
    "### Multiple Threads and the GIL"
   ]
  },
  {
   "cell_type": "code",
   "execution_count": null,
   "id": "ecf4b632fca7284f",
   "metadata": {},
   "outputs": [],
   "source": [
    "def perform_computation(data, results, num_iterations=1_000_000):\n",
    "    result = 0\n",
    "    for i in range(num_iterations):\n",
    "        result += 1\n",
    "    results.append(f\"->{data}: {result}\")"
   ]
  },
  {
   "cell_type": "code",
   "execution_count": null,
   "id": "bbd0938f11bb17b6",
   "metadata": {},
   "outputs": [],
   "source": [
    "def perform_computations_sequentially(num_requests):\n",
    "    results = []\n",
    "    for i in range(num_requests):\n",
    "        perform_computation(i, results)\n",
    "    return results"
   ]
  },
  {
   "cell_type": "code",
   "execution_count": null,
   "id": "27227f7d863a77bd",
   "metadata": {},
   "outputs": [],
   "source": [
    "perform_computations_sequentially(5)"
   ]
  },
  {
   "cell_type": "code",
   "execution_count": null,
   "id": "38f17b874432699a",
   "metadata": {},
   "outputs": [],
   "source": [
    "timeit.timeit(\n",
    "    lambda: perform_computations_sequentially(5), globals=globals(), number=10\n",
    ")"
   ]
  },
  {
   "cell_type": "code",
   "execution_count": null,
   "id": "d45a9af419518fa9",
   "metadata": {},
   "outputs": [],
   "source": [
    "timeit.timeit(\n",
    "    lambda: perform_computations_sequentially(10), globals=globals(), number=10\n",
    ")"
   ]
  },
  {
   "cell_type": "code",
   "execution_count": null,
   "id": "a29f7ccac97b3d33",
   "metadata": {},
   "outputs": [],
   "source": [
    "def perform_computations_concurrently(num_requests):\n",
    "    results = []\n",
    "    threads = []\n",
    "    for i in range(num_requests):\n",
    "        thread = Thread(target=lambda: perform_computation(i, results))\n",
    "        threads.append(thread)\n",
    "        thread.start()\n",
    "    for thread in threads:\n",
    "        thread.join()\n",
    "    return results"
   ]
  },
  {
   "cell_type": "code",
   "execution_count": null,
   "id": "7178eb27a42cb9e0",
   "metadata": {},
   "outputs": [],
   "source": [
    "perform_computations_concurrently(5)"
   ]
  },
  {
   "cell_type": "code",
   "execution_count": null,
   "id": "342ff65a3a56f438",
   "metadata": {},
   "outputs": [],
   "source": [
    "timeit.timeit(\n",
    "    lambda: perform_computations_concurrently(5), globals=globals(), number=10\n",
    ")"
   ]
  },
  {
   "cell_type": "code",
   "execution_count": null,
   "id": "e8ad59f98cd2af78",
   "metadata": {
    "lines_to_next_cell": 2
   },
   "outputs": [],
   "source": [
    "timeit.timeit(\n",
    "    lambda: perform_computations_concurrently(10), globals=globals(), number=10\n",
    ")"
   ]
  },
  {
   "cell_type": "markdown",
   "id": "e638bcaaf71a2710",
   "metadata": {
    "lang": "en",
    "lines_to_next_cell": 2,
    "slideshow": {
     "slide_type": "subslide"
    }
   },
   "source": [
    "\n",
    "In Python, only *one* Python thread is running at a time, all other threads exist but\n",
    "\"wait their turn\". Therefore, multithreading only brings advantages when, for example,\n",
    "you are waiting for input/output operations, not when multiple calculations are to be\n",
    "accelerated!"
   ]
  },
  {
   "cell_type": "markdown",
   "id": "e05928d4686ecfdb",
   "metadata": {
    "lang": "en",
    "lines_to_next_cell": 2,
    "slideshow": {
     "slide_type": "subslide"
    }
   },
   "source": [
    "## Workshop\n",
    "\n",
    "- Notebook `workshop_410_concurrency`\n",
    "- Section \"Parallel Requests\""
   ]
  },
  {
   "cell_type": "markdown",
   "id": "94eb1d43456f6371",
   "metadata": {
    "lang": "en",
    "slideshow": {
     "slide_type": "subslide"
    }
   },
   "source": [
    "\n",
    "### Synchronizing Threads\n",
    "\n",
    "Concurrent programming leads to problems that do not exist in sequential programs:"
   ]
  },
  {
   "cell_type": "code",
   "execution_count": null,
   "id": "c1f1b7cd6fd8f519",
   "metadata": {},
   "outputs": [],
   "source": [
    "def add_ones():\n",
    "    global _result\n",
    "    for i in range(10_000):\n",
    "        tmp = _result + 1\n",
    "        # if random() > 0.99:\n",
    "        #     simulate_processing_time(0)\n",
    "        _result = tmp"
   ]
  },
  {
   "cell_type": "code",
   "execution_count": null,
   "id": "bb28ac453344bb97",
   "metadata": {},
   "outputs": [],
   "source": [
    "from threading import Thread\n",
    "\n",
    "_result = 0\n",
    "_threads = [Thread(target=add_ones) for _ in range(100)]\n",
    "for _thread in _threads:\n",
    "    _thread.start()\n",
    "for _thread in _threads:\n",
    "    _thread.join()\n",
    "print(f\"\\n_result = {_result}\")"
   ]
  },
  {
   "cell_type": "code",
   "execution_count": null,
   "id": "4f067c0d94581d0a",
   "metadata": {},
   "outputs": [],
   "source": [
    "def append_one():\n",
    "    global _result_list\n",
    "    for i in range(100_000):\n",
    "        _result_list.append(1)"
   ]
  },
  {
   "cell_type": "code",
   "execution_count": null,
   "id": "e178d2c7d7d6f3df",
   "metadata": {},
   "outputs": [],
   "source": [
    "from threading import Thread\n",
    "\n",
    "_result_list = []\n",
    "_threads = [Thread(target=append_one) for _ in range(100)]\n",
    "for _thread in _threads:\n",
    "    _thread.start()\n",
    "for _thread in _threads:\n",
    "    _thread.join()\n",
    "print(f\"\\nLength of _result_list: {len(_result_list)}\")"
   ]
  },
  {
   "cell_type": "markdown",
   "id": "f4dc85adb5099fbb",
   "metadata": {
    "lang": "en",
    "slideshow": {
     "slide_type": "subslide"
    }
   },
   "source": [
    "\n",
    "#### Barriers\n",
    "\n",
    "A Barrier can be used to synchronize a fixed number of threads:"
   ]
  },
  {
   "cell_type": "code",
   "execution_count": null,
   "id": "c52aa45263e3bb4c",
   "metadata": {},
   "outputs": [],
   "source": [
    "from threading import Barrier, Thread\n",
    "\n",
    "_barrier = Barrier(2, timeout=5)"
   ]
  },
  {
   "cell_type": "code",
   "execution_count": null,
   "id": "d1ac789c1fc3f6a0",
   "metadata": {},
   "outputs": [],
   "source": [
    "def server1():\n",
    "    print(\"Server is starting!\")\n",
    "    simulate_processing_time(1.0)\n",
    "    print(\"Server started up!\")\n",
    "    _barrier.wait()\n",
    "    print(\"Server is serving!\")"
   ]
  },
  {
   "cell_type": "code",
   "execution_count": null,
   "id": "18beb53a4abe0d55",
   "metadata": {},
   "outputs": [],
   "source": [
    "def client1():\n",
    "    print(\"Client is starting!\")\n",
    "    _barrier.wait()\n",
    "    print(\"Client is accessing server!\")"
   ]
  },
  {
   "cell_type": "code",
   "execution_count": null,
   "id": "7048e6dc24b210d5",
   "metadata": {},
   "outputs": [],
   "source": [
    "_c = Thread(target=client1)\n",
    "_c.start()"
   ]
  },
  {
   "cell_type": "code",
   "execution_count": null,
   "id": "f882bdd67dff762d",
   "metadata": {},
   "outputs": [],
   "source": [
    "_s = Thread(target=server1)\n",
    "_s.start()"
   ]
  },
  {
   "cell_type": "code",
   "execution_count": null,
   "id": "edb4de973b5849e3",
   "metadata": {},
   "outputs": [],
   "source": [
    "_c.join()\n",
    "_s.join()"
   ]
  },
  {
   "cell_type": "code",
   "execution_count": null,
   "id": "5aa26bc0fa0e7baf",
   "metadata": {},
   "outputs": [],
   "source": [
    "_s = Thread(target=server1)\n",
    "_s.start()"
   ]
  },
  {
   "cell_type": "code",
   "execution_count": null,
   "id": "9de4fbd5c6e0db7f",
   "metadata": {},
   "outputs": [],
   "source": [
    "_c = Thread(target=client1)\n",
    "_c.start()"
   ]
  },
  {
   "cell_type": "code",
   "execution_count": null,
   "id": "09a293eeebf436b2",
   "metadata": {},
   "outputs": [],
   "source": [
    "_s.join()\n",
    "_c.join()"
   ]
  },
  {
   "cell_type": "markdown",
   "id": "216ce44db1f8af9f",
   "metadata": {
    "lang": "en",
    "slideshow": {
     "slide_type": "subslide"
    }
   },
   "source": [
    "\n",
    "#### Locks\n",
    "\n",
    "Locks are a low-level synchronization mechanism that can be used to enforce that only\n",
    "a single thread can use a resource:"
   ]
  },
  {
   "cell_type": "code",
   "execution_count": null,
   "id": "a73b5979e1b213a1",
   "metadata": {},
   "outputs": [],
   "source": [
    "from threading import Lock, Thread\n",
    "\n",
    "_result_lock = Lock()"
   ]
  },
  {
   "cell_type": "code",
   "execution_count": null,
   "id": "c7a0ee6f435f4702",
   "metadata": {},
   "outputs": [],
   "source": [
    "def add_ones_locked():\n",
    "    global _result\n",
    "    for i in range(10_000):\n",
    "        with _result_lock:\n",
    "            tmp = _result + 1\n",
    "            if random() > 0.99:\n",
    "                simulate_processing_time(0)\n",
    "            _result = tmp"
   ]
  },
  {
   "cell_type": "code",
   "execution_count": null,
   "id": "de2549fece645bc9",
   "metadata": {},
   "outputs": [],
   "source": [
    "_result = 0\n",
    "_threads = [Thread(target=add_ones_locked) for _ in range(100)]\n",
    "for _thread in _threads:\n",
    "    _thread.start()\n",
    "for _thread in _threads:\n",
    "    _thread.join()\n",
    "print(f\"\\n_result = {_result}\")"
   ]
  },
  {
   "cell_type": "code",
   "execution_count": null,
   "id": "a30d394f04eaa9fd",
   "metadata": {},
   "outputs": [],
   "source": [
    "def server2():\n",
    "    _barrier.wait()\n",
    "    print(\"Server is serving\")\n",
    "    print(\"Server is still serving\")\n",
    "    print(\"Server is serving even more data\")"
   ]
  },
  {
   "cell_type": "code",
   "execution_count": null,
   "id": "f9ec30a27e732a3c",
   "metadata": {},
   "outputs": [],
   "source": [
    "def client2():\n",
    "    _barrier.wait()\n",
    "    print(\"Client is accessing server\")\n",
    "    print(\"Client is still accessing server\")\n",
    "    print(\"Client is taking really long to access the server\")"
   ]
  },
  {
   "cell_type": "code",
   "execution_count": null,
   "id": "46580f0216d3f286",
   "metadata": {},
   "outputs": [],
   "source": [
    "def run_tasks(task1, task2):\n",
    "    thread1 = Thread(target=task2)\n",
    "    thread1.start()\n",
    "\n",
    "    thread2 = Thread(target=task1)\n",
    "    thread2.start()\n",
    "\n",
    "    thread1.join()\n",
    "    thread2.join()"
   ]
  },
  {
   "cell_type": "code",
   "execution_count": null,
   "id": "dd62b8ff424f4187",
   "metadata": {},
   "outputs": [],
   "source": [
    "run_tasks(server2, client2)"
   ]
  },
  {
   "cell_type": "code",
   "execution_count": null,
   "id": "998655bfe2630ae2",
   "metadata": {},
   "outputs": [],
   "source": [
    "from threading import Lock\n",
    "\n",
    "_print_lock = Lock()"
   ]
  },
  {
   "cell_type": "code",
   "execution_count": null,
   "id": "2ca0ba305a5f43ed",
   "metadata": {},
   "outputs": [],
   "source": [
    "def server3():\n",
    "    _barrier.wait()\n",
    "    try:\n",
    "        _print_lock.acquire()\n",
    "        simulate_processing_time()\n",
    "        print(\"Server is serving\")\n",
    "        print(\"Server is still serving\")\n",
    "        print(\"Server is serving even more data\")\n",
    "    finally:\n",
    "        _print_lock.release()"
   ]
  },
  {
   "cell_type": "code",
   "execution_count": null,
   "id": "4d9631772c21bd26",
   "metadata": {},
   "outputs": [],
   "source": [
    "def client3():\n",
    "    _barrier.wait()\n",
    "    if _print_lock.acquire(blocking=False):\n",
    "        print(\"Client is accessing server\")\n",
    "        print(\"Client is still accessing server\")\n",
    "        print(\"Client is taking really long to access the server\")\n",
    "        _print_lock.release()\n",
    "    else:\n",
    "        print(\"WARNING: Could not acquire lock!!!\")"
   ]
  },
  {
   "cell_type": "code",
   "execution_count": null,
   "id": "835f669b852ed791",
   "metadata": {},
   "outputs": [],
   "source": [
    "run_tasks(server3, client3)"
   ]
  },
  {
   "cell_type": "code",
   "execution_count": null,
   "id": "01488d2469dca35b",
   "metadata": {},
   "outputs": [],
   "source": [
    "run_tasks(client3, server3)"
   ]
  },
  {
   "cell_type": "code",
   "execution_count": null,
   "id": "81316693900a97c7",
   "metadata": {},
   "outputs": [],
   "source": [
    "def server4():\n",
    "    _barrier.wait()\n",
    "    with _print_lock:\n",
    "        print(\"Server is serving\")\n",
    "        print(\"Server is still serving\")\n",
    "        print(\"Server is serving even more data\")"
   ]
  },
  {
   "cell_type": "code",
   "execution_count": null,
   "id": "81ca21415216300f",
   "metadata": {},
   "outputs": [],
   "source": [
    "def client4():\n",
    "    _barrier.wait()\n",
    "    with _print_lock:\n",
    "        print(\"Client is accessing server\")\n",
    "        print(\"Client is still accessing server\")\n",
    "        print(\"Client is taking really long to access the server\")"
   ]
  },
  {
   "cell_type": "code",
   "execution_count": null,
   "id": "6822a6be5e509d57",
   "metadata": {},
   "outputs": [],
   "source": [
    "run_tasks(server4, client4)"
   ]
  },
  {
   "cell_type": "code",
   "execution_count": null,
   "id": "3baec283e4ea574f",
   "metadata": {},
   "outputs": [],
   "source": [
    "run_tasks(client4, server4)"
   ]
  },
  {
   "cell_type": "markdown",
   "id": "7465dafdb24ce417",
   "metadata": {
    "lang": "en",
    "slideshow": {
     "slide_type": "subslide"
    }
   },
   "source": [
    "\n",
    "#### Condition Variables\n",
    "\n",
    "Condition variables are a synchronization mechanism that is based on locks but\n",
    "provides an additional way to coordinate threads: `wait()` and  `notify()` (or\n",
    "`notify_all()`):\n",
    "\n",
    "Typically, condition variables are used when multiple threads share a common state\n",
    "and need to synchronize reading and writing the state:\n",
    "\n",
    "- Threads that want to read the state use `wait()` or `wait_for()` to wait until\n",
    "  the desired state is reached\n",
    "- Threads that write the state use `notify()` or `notify_all()` to notify any\n",
    "  waiting threads about the change"
   ]
  },
  {
   "cell_type": "code",
   "execution_count": null,
   "id": "8e7dc711ecb35f69",
   "metadata": {},
   "outputs": [],
   "source": [
    "from threading import Condition, Thread"
   ]
  },
  {
   "cell_type": "code",
   "execution_count": null,
   "id": "4a46e93e1a2744d5",
   "metadata": {},
   "outputs": [],
   "source": [
    "def consumer(consumer_id, cv, items):\n",
    "    print(f\"Consumer {consumer_id} started...\", flush=True)\n",
    "    with cv:\n",
    "        print(f\"Consumer {consumer_id} waiting...\", flush=True)\n",
    "        wait_succeeded = True\n",
    "        while True:\n",
    "            while not items and wait_succeeded:\n",
    "                wait_succeeded = cv.wait(timeout=1.0)\n",
    "            if not wait_succeeded:\n",
    "                print(f\"Consumer {consumer_id} timed out...\", flush=True)\n",
    "                break\n",
    "            print(f\"Consumer {consumer_id} starts consuming...\", flush=True)\n",
    "            item = items.pop()\n",
    "            simulate_processing_time(0.1)\n",
    "            print(f\"Consumer {consumer_id} ends consuming item {item}...\", flush=True)"
   ]
  },
  {
   "cell_type": "code",
   "execution_count": null,
   "id": "ae0b96ecad3e49ef",
   "metadata": {},
   "outputs": [],
   "source": [
    "def producer(producer_id, cv, num_items, items):\n",
    "    from random import randint\n",
    "\n",
    "    print(f\"Producer {producer_id} started...\", flush=True)\n",
    "    for _ in range(num_items):\n",
    "        with cv:\n",
    "            item = randint(100, 999)\n",
    "            print(f\"Producer {producer_id} is producing item {item}\", flush=True)\n",
    "            items.append(item)\n",
    "            cv.notify()\n",
    "            simulate_processing_time(0.05)"
   ]
  },
  {
   "cell_type": "code",
   "execution_count": null,
   "id": "add0c98cc90b195a",
   "metadata": {},
   "outputs": [],
   "source": [
    "def run_producer_consumer(num_items, num_producers=1, num_consumers=1):\n",
    "    threads = []\n",
    "    items = []\n",
    "    cv = Condition()\n",
    "    for i in range(num_consumers):\n",
    "        threads.append(Thread(target=consumer, args=(i + 1, cv, items)))\n",
    "    for i in range(num_producers):\n",
    "        threads.append(Thread(target=producer, args=(i + 1, cv, num_items, items)))\n",
    "    for thread in threads:\n",
    "        thread.start()\n",
    "    for thread in threads:\n",
    "        thread.join()"
   ]
  },
  {
   "cell_type": "code",
   "execution_count": null,
   "id": "8affb6d05e701909",
   "metadata": {},
   "outputs": [],
   "source": [
    "run_producer_consumer(2)"
   ]
  },
  {
   "cell_type": "code",
   "execution_count": null,
   "id": "4d0e5733d9643665",
   "metadata": {},
   "outputs": [],
   "source": [
    "run_producer_consumer(6, num_producers=1, num_consumers=3)"
   ]
  },
  {
   "cell_type": "code",
   "execution_count": null,
   "id": "5ebc18d34f4eae06",
   "metadata": {
    "lines_to_next_cell": 2
   },
   "outputs": [],
   "source": [
    "run_producer_consumer(4, num_producers=3, num_consumers=4)"
   ]
  },
  {
   "cell_type": "code",
   "execution_count": null,
   "id": "2b80856a429a489e",
   "metadata": {},
   "outputs": [],
   "source": [
    "from queue import Queue, Empty"
   ]
  },
  {
   "cell_type": "code",
   "execution_count": null,
   "id": "15ce7c15e648cbd7",
   "metadata": {},
   "outputs": [],
   "source": [
    "def producer(producer_id, q, num_items):\n",
    "    print(f\"Producer {producer_id} started...\")\n",
    "    for i in range(num_items):\n",
    "        print(f\"Producer {producer_id} produced item {producer_id}/{i}...\")\n",
    "        q.put(f\"Item {producer_id}/{i}\")\n",
    "        simulate_processing_time(0.1)"
   ]
  },
  {
   "cell_type": "code",
   "execution_count": null,
   "id": "dfcdbed260c554ea",
   "metadata": {},
   "outputs": [],
   "source": [
    "def consumer(consumer_id, q, timeout=1.0):\n",
    "    print(f\"Consumer {consumer_id} started...\")\n",
    "    try:\n",
    "        while True:\n",
    "            item = q.get(block=True, timeout=timeout)\n",
    "            print(f\"Consumer {consumer_id} starting processing of item {item}...\")\n",
    "            simulate_processing_time(0.2)\n",
    "            print(f\"Consumer {consumer_id} done processing item {item}...\")\n",
    "    except Empty:\n",
    "        print(f\"Consumer {consumer_id} timed out...\")"
   ]
  },
  {
   "cell_type": "code",
   "execution_count": null,
   "id": "3f55019b12ad81a2",
   "metadata": {},
   "outputs": [],
   "source": [
    "from threading import Thread\n",
    "\n",
    "\n",
    "def run_producer_consumer_queue(num_items, num_producers=1, num_consumers=1):\n",
    "    processes = []\n",
    "    q = Queue()\n",
    "    for i in range(num_consumers):\n",
    "        processes.append(Thread(target=consumer, args=(i + 1, q)))\n",
    "    for i in range(num_producers):\n",
    "        processes.append(Thread(target=producer, args=(i + 1, q, num_items)))\n",
    "    for process in processes:\n",
    "        process.start()\n",
    "    for process in processes:\n",
    "        process.join()"
   ]
  },
  {
   "cell_type": "code",
   "execution_count": null,
   "id": "849fc54643582fca",
   "metadata": {},
   "outputs": [],
   "source": [
    "run_producer_consumer_queue(4)"
   ]
  },
  {
   "cell_type": "code",
   "execution_count": null,
   "id": "c41442fb75c740ed",
   "metadata": {},
   "outputs": [],
   "source": [
    "run_producer_consumer_queue(6, num_producers=1, num_consumers=3)"
   ]
  },
  {
   "cell_type": "code",
   "execution_count": null,
   "id": "9b59f4eab56e5a0a",
   "metadata": {},
   "outputs": [],
   "source": [
    "run_producer_consumer_queue(2, num_producers=4, num_consumers=3)"
   ]
  }
 ],
 "metadata": {},
 "nbformat": 4,
 "nbformat_minor": 5
}
