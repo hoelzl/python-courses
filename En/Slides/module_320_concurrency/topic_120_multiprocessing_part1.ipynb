{
 "cells": [
  {
   "cell_type": "markdown",
   "id": "612112a82823d335",
   "metadata": {
    "lang": "en",
    "lines_to_next_cell": 2,
    "slideshow": {
     "slide_type": "slide"
    }
   },
   "source": [
    "<img src=\"../img/python-logo-no-text.png\"\n",
    "     style=\"display:block;margin:auto;width:10%\"/>\n",
    "<br>\n",
    "<div style=\"text-align:center; font-size:200%;\">\n",
    "  <b>Multiprocessing (Part 1)</b>\n",
    "</div>\n",
    "<br/>\n",
    "<div style=\"text-align:center;\">Dr. Matthias Hölzl</div>\n",
    "<br/>\n",
    "<!-- <div style=\"text-align:center;\">module_320_concurrency/topic_120_multiprocessing_part1</div> -->"
   ]
  },
  {
   "cell_type": "markdown",
   "id": "9140d13993270d7c",
   "metadata": {
    "lang": "en",
    "slideshow": {
     "slide_type": "slide"
    }
   },
   "source": [
    "\n",
    "# Multiprocessing\n",
    "\n",
    "With multiprocessing, several Python interpreters are executed in parallel. Therefore,\n",
    "multiple processor cores can be used, since the various processes are not synchronized\n",
    "by a GIL. However, sharing data between processes becomes more difficult (and\n",
    "potentially a performance bottleneck)."
   ]
  },
  {
   "cell_type": "markdown",
   "id": "b380404f36771c33",
   "metadata": {
    "lang": "en",
    "slideshow": {
     "slide_type": "slide"
    }
   },
   "source": [
    "\n",
    "There are a number of pitfalls with multiprocessing; the [Programming\n",
    "Guidelines](https://docs.python.org/3/library/multiprocessing.html#programming-guidelines)\n",
    "in the Python documentation are helpful for avoiding them."
   ]
  },
  {
   "cell_type": "code",
   "execution_count": null,
   "id": "98e0cbeb6cfd05ce",
   "metadata": {},
   "outputs": [],
   "source": [
    "from os import getpid\n",
    "from multiprocessing import Process\n",
    "\n",
    "\n",
    "def print_message(task_id):\n",
    "    print(f\"Hello, from task {task_id}. PID is {getpid()}.\", flush=True)"
   ]
  },
  {
   "cell_type": "code",
   "execution_count": null,
   "id": "f7ec9ac32bd3ce33",
   "metadata": {},
   "outputs": [],
   "source": [
    "from threading import Thread\n",
    "\n",
    "\n",
    "def run_threads():\n",
    "    threads = [Thread(target=print_message, args=(i,)) for i in range(5)]\n",
    "    for thread in threads:\n",
    "        thread.start()\n",
    "    for thread in threads:\n",
    "        thread.join()"
   ]
  },
  {
   "cell_type": "code",
   "execution_count": null,
   "id": "e09c171c776a84b9",
   "metadata": {},
   "outputs": [],
   "source": [
    "if __name__ == \"__main__\":\n",
    "    run_threads()"
   ]
  },
  {
   "cell_type": "code",
   "execution_count": null,
   "id": "213e3426bb3e8a0b",
   "metadata": {},
   "outputs": [],
   "source": [
    "def run_processes():\n",
    "    processes = [Process(target=print_message, args=(i,)) for i in range(5)]\n",
    "    for process in processes:\n",
    "        process.start()\n",
    "    for process in processes:\n",
    "        process.join()"
   ]
  },
  {
   "cell_type": "code",
   "execution_count": null,
   "id": "e092870081883e46",
   "metadata": {},
   "outputs": [],
   "source": [
    "if __name__ == \"__main__\":\n",
    "    run_processes()"
   ]
  },
  {
   "cell_type": "code",
   "execution_count": null,
   "id": "6b4e03423667dbb7",
   "metadata": {},
   "outputs": [],
   "source": []
  }
 ],
 "metadata": {},
 "nbformat": 4,
 "nbformat_minor": 5
}
