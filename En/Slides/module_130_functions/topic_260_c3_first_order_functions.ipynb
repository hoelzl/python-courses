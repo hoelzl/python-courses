{
 "cells": [
  {
   "cell_type": "markdown",
   "id": "676d46c29bd043c6",
   "metadata": {
    "lang": "en",
    "slideshow": {
     "slide_type": "slide"
    }
   },
   "source": [
    "<img src=\"../../img/python-logo-no-text.svg\"\n",
    "     style=\"display:block;margin:auto;width:10%\"/>\n",
    "<br>\n",
    "<div style=\"text-align:center; font-size:200%;\">\n",
    "  <b>First-order functions</b>\n",
    "</div>\n",
    "<br/>\n",
    "<div style=\"text-align:center;\">Dr. Matthias Hölzl</div>\n",
    "<br/>\n",
    "<div style=\"text-align:center;\">module_130_functions/topic_260_c3_first_order_functions</div>"
   ]
  },
  {
   "cell_type": "markdown",
   "id": "1cc41c79b40e1270",
   "metadata": {
    "lang": "en",
    "slideshow": {
     "slide_type": "slide"
    }
   },
   "source": [
    "\n",
    "# Functions\n",
    "\n",
    "In Python functions are first class objects, i.e., they can be referenced by\n",
    "variables, passed as arguments to functions, etc.\n",
    "\n",
    "Functions have type `Callable`."
   ]
  },
  {
   "cell_type": "code",
   "execution_count": null,
   "id": "d7efbec68e4d0b7f",
   "metadata": {},
   "outputs": [],
   "source": [
    "print(open.__name__)"
   ]
  },
  {
   "cell_type": "code",
   "execution_count": null,
   "id": "e8cc46259d75dc05",
   "metadata": {},
   "outputs": [],
   "source": [
    "from typing import Callable"
   ]
  },
  {
   "cell_type": "code",
   "execution_count": null,
   "id": "c4e971f1b956f7c6",
   "metadata": {},
   "outputs": [],
   "source": [
    "isinstance(list, Callable)"
   ]
  },
  {
   "cell_type": "code",
   "execution_count": null,
   "id": "5f50239bee02071a",
   "metadata": {
    "slideshow": {
     "slide_type": "subslide"
    }
   },
   "outputs": [],
   "source": [
    "def call_with_two_args(fun):\n",
    "    print(f\"Calling function {fun.__name__!r}\")\n",
    "    result = fun(2, 3)\n",
    "    print(f\"Result is {result}\")\n",
    "    return result"
   ]
  },
  {
   "cell_type": "code",
   "execution_count": null,
   "id": "86f9421c5141e6c5",
   "metadata": {},
   "outputs": [],
   "source": [
    "call_with_two_args(pow)"
   ]
  },
  {
   "cell_type": "code",
   "execution_count": null,
   "id": "ff0aaa81f3e22616",
   "metadata": {},
   "outputs": [],
   "source": [
    "import operator\n",
    "\n",
    "call_with_two_args(operator.add)"
   ]
  },
  {
   "cell_type": "code",
   "execution_count": null,
   "id": "c158368efcd8b563",
   "metadata": {},
   "outputs": [],
   "source": [
    "call_with_two_args(operator.lt)"
   ]
  },
  {
   "cell_type": "code",
   "execution_count": null,
   "id": "bd3068111a3a0a9e",
   "metadata": {},
   "outputs": [],
   "source": [
    "def print_and_add(x, y):\n",
    "    print(f\"x = {x}, y = {y}\")\n",
    "    return x + y"
   ]
  },
  {
   "cell_type": "code",
   "execution_count": null,
   "id": "a790522ffc5b6f60",
   "metadata": {},
   "outputs": [],
   "source": [
    "call_with_two_args(print_and_add)"
   ]
  },
  {
   "cell_type": "markdown",
   "id": "26cc34fab55fda4d",
   "metadata": {
    "lang": "en",
    "slideshow": {
     "slide_type": "subslide"
    }
   },
   "source": [
    "\n",
    "## Mini-workshop \"print truthy elements\"\n",
    "\n",
    "Write a function `print_truthy_elements(a_list: list, fun: Callable)` that\n",
    "prints each element `x` of `a_list` for which `fun(x)` returns a true value.\n",
    "\n",
    "Check the output for the list `example_values` and the functions\n",
    "`greater_than_2()` and `less_than_10()`."
   ]
  },
  {
   "cell_type": "code",
   "execution_count": null,
   "id": "b65fd9e8d68e6184",
   "metadata": {
    "tags": [
     "keep"
    ]
   },
   "outputs": [],
   "source": [
    "example_values = [1, 2, 3, 9, 10]"
   ]
  },
  {
   "cell_type": "code",
   "execution_count": null,
   "id": "06f93d7ce9888826",
   "metadata": {
    "tags": [
     "keep"
    ]
   },
   "outputs": [],
   "source": [
    "def greater_than_2(n):\n",
    "    return n > 2"
   ]
  },
  {
   "cell_type": "code",
   "execution_count": null,
   "id": "92413acdcba3edc0",
   "metadata": {
    "tags": [
     "keep"
    ]
   },
   "outputs": [],
   "source": [
    "def less_than_10(n):\n",
    "    return n < 10"
   ]
  },
  {
   "cell_type": "code",
   "execution_count": null,
   "id": "a37062bc203cd674",
   "metadata": {
    "tags": [
     "keep"
    ]
   },
   "outputs": [],
   "source": [
    "from typing import Callable"
   ]
  },
  {
   "cell_type": "code",
   "execution_count": null,
   "id": "ed1cd025d6937b1a",
   "metadata": {},
   "outputs": [],
   "source": [
    "def print_truthy_elements(a_list: list, fun: Callable):\n",
    "    for x in a_list:\n",
    "        if fun(x):\n",
    "            print(x)"
   ]
  },
  {
   "cell_type": "code",
   "execution_count": null,
   "id": "bcafa717e88afce6",
   "metadata": {},
   "outputs": [],
   "source": [
    "print_truthy_elements(example_values, greater_than_2)"
   ]
  },
  {
   "cell_type": "code",
   "execution_count": null,
   "id": "6987f0d5758f2958",
   "metadata": {},
   "outputs": [],
   "source": [
    "print_truthy_elements(example_values, less_than_10)"
   ]
  },
  {
   "cell_type": "code",
   "execution_count": null,
   "id": "6cb02093b3c02475",
   "metadata": {},
   "outputs": [],
   "source": [
    "from dataclasses import dataclass\n",
    "\n",
    "\n",
    "@dataclass\n",
    "class Point:\n",
    "    x: float = 0.0\n",
    "    y: float = 0.0\n",
    "\n",
    "    def move(self, dx=0.0, dy=0.0):\n",
    "        self.x += dx\n",
    "        self.y += dy"
   ]
  },
  {
   "cell_type": "code",
   "execution_count": null,
   "id": "2ada67553a8e8ad4",
   "metadata": {},
   "outputs": [],
   "source": [
    "p = Point(1, 2)\n",
    "print(p)"
   ]
  },
  {
   "cell_type": "code",
   "execution_count": null,
   "id": "09079be4afbe2e92",
   "metadata": {},
   "outputs": [],
   "source": [
    "print(p.move)"
   ]
  },
  {
   "cell_type": "code",
   "execution_count": null,
   "id": "65affd41d1b03b73",
   "metadata": {},
   "outputs": [],
   "source": [
    "call_with_two_args(p.move)"
   ]
  },
  {
   "cell_type": "code",
   "execution_count": null,
   "id": "0cdd77be234d51b9",
   "metadata": {},
   "outputs": [],
   "source": [
    "print(p)"
   ]
  }
 ],
 "metadata": {
  "kernelspec": {
   "display_name": "Python 3 (ipykernel)",
   "language": "python",
   "name": "python3"
  }
 },
 "nbformat": 4,
 "nbformat_minor": 5
}
