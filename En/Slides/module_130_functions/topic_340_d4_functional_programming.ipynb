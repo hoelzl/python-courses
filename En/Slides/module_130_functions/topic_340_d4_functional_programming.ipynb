{
 "cells": [
  {
   "cell_type": "code",
   "execution_count": null,
   "id": "6b4e03423667dbb7",
   "metadata": {},
   "outputs": [],
   "source": []
  },
  {
   "cell_type": "markdown",
   "id": "dc031cfa649a202d",
   "metadata": {
    "lang": "en",
    "slideshow": {
     "slide_type": "slide"
    }
   },
   "source": [
    "<img src=\"../../img/python-logo-no-text.svg\"\n",
    "     style=\"display:block;margin:auto;width:10%\"/>\n",
    "<br>\n",
    "<div style=\"text-align:center; font-size:200%;\">\n",
    "  <b>Commonly Used Functions</b>\n",
    "</div>\n",
    "<br/>\n",
    "<div style=\"text-align:center;\">Dr. Matthias Hölzl</div>\n",
    "<br/>\n",
    "<div style=\"text-align:center;\">module_130_functions/topic_340_d4_functional_programming</div>"
   ]
  },
  {
   "cell_type": "markdown",
   "id": "4af4f629b5efa826",
   "metadata": {
    "lang": "en",
    "slideshow": {
     "slide_type": "slide"
    }
   },
   "source": [
    "\n",
    "# Commonly Used Functions"
   ]
  },
  {
   "cell_type": "code",
   "execution_count": null,
   "id": "5401865e89163e54",
   "metadata": {},
   "outputs": [],
   "source": [
    "from operator import add, mul"
   ]
  },
  {
   "cell_type": "code",
   "execution_count": null,
   "id": "0e986ceae0992f39",
   "metadata": {},
   "outputs": [],
   "source": [
    "add(2, 3)"
   ]
  },
  {
   "cell_type": "code",
   "execution_count": null,
   "id": "4b46bc4acfd4624c",
   "metadata": {},
   "outputs": [],
   "source": [
    "mul(2, 3)"
   ]
  },
  {
   "cell_type": "code",
   "execution_count": null,
   "id": "b6e55683a08ca7d5",
   "metadata": {},
   "outputs": [],
   "source": [
    "from operator import itemgetter, attrgetter"
   ]
  },
  {
   "cell_type": "code",
   "execution_count": null,
   "id": "6de03807da4cb2d7",
   "metadata": {},
   "outputs": [],
   "source": [
    "my_list = [1, 2, 3, 4]\n",
    "your_list = [10, 20, 30, 40]"
   ]
  },
  {
   "cell_type": "code",
   "execution_count": null,
   "id": "77973548d5d3708e",
   "metadata": {},
   "outputs": [],
   "source": [
    "first_elt = itemgetter(1)"
   ]
  },
  {
   "cell_type": "code",
   "execution_count": null,
   "id": "9b2acb554e80d02d",
   "metadata": {},
   "outputs": [],
   "source": [
    "print(first_elt(my_list))\n",
    "print(first_elt(your_list))"
   ]
  },
  {
   "cell_type": "code",
   "execution_count": null,
   "id": "9e75407fd2e80eea",
   "metadata": {},
   "outputs": [],
   "source": [
    "from pathlib import Path"
   ]
  },
  {
   "cell_type": "code",
   "execution_count": null,
   "id": "fd7efc8399edaf11",
   "metadata": {},
   "outputs": [],
   "source": [
    "path = Path(\"foo.bar\")\n",
    "other_path = Path(\"my_file.txt\")"
   ]
  },
  {
   "cell_type": "code",
   "execution_count": null,
   "id": "68ad003106581acd",
   "metadata": {},
   "outputs": [],
   "source": [
    "name_getter = attrgetter(\"name\")"
   ]
  },
  {
   "cell_type": "code",
   "execution_count": null,
   "id": "1d2d04a3b70b5017",
   "metadata": {},
   "outputs": [],
   "source": [
    "name_getter(path)"
   ]
  },
  {
   "cell_type": "code",
   "execution_count": null,
   "id": "58bd793e369f6139",
   "metadata": {},
   "outputs": [],
   "source": [
    "name_getter(other_path)"
   ]
  },
  {
   "cell_type": "code",
   "execution_count": null,
   "id": "5e4194b21643ee2b",
   "metadata": {},
   "outputs": [],
   "source": [
    "from operator import methodcaller"
   ]
  },
  {
   "cell_type": "code",
   "execution_count": null,
   "id": "847ca0706b8057cb",
   "metadata": {},
   "outputs": [],
   "source": [
    "as_uppercase = methodcaller(\"upper\")"
   ]
  },
  {
   "cell_type": "code",
   "execution_count": null,
   "id": "9e8c29011655ecda",
   "metadata": {},
   "outputs": [],
   "source": [
    "as_uppercase(\"foo\")"
   ]
  },
  {
   "cell_type": "code",
   "execution_count": null,
   "id": "9800b5ae2758692e",
   "metadata": {},
   "outputs": [],
   "source": [
    "sorted([\"Hello\", \"World\", \"artist\", \"FILE\", \"great\", \"list\"])"
   ]
  },
  {
   "cell_type": "code",
   "execution_count": null,
   "id": "2331f0132a1ca399",
   "metadata": {},
   "outputs": [],
   "source": [
    "sorted([\"Hello\", \"World\", \"artist\", \"FILE\", \"great\", \"list\"], key=as_uppercase)"
   ]
  },
  {
   "cell_type": "code",
   "execution_count": null,
   "id": "ec3d77783796f1d1",
   "metadata": {},
   "outputs": [],
   "source": [
    "sorted([\"Hello\", \"World\", \"artist\", \"FILE\", \"great\", \"list\"], key=methodcaller(\"lower\"))"
   ]
  },
  {
   "cell_type": "code",
   "execution_count": null,
   "id": "2a9cf32ab2e7e718",
   "metadata": {},
   "outputs": [],
   "source": [
    "from functools import partial"
   ]
  },
  {
   "cell_type": "code",
   "execution_count": null,
   "id": "1afc474914fa4bb1",
   "metadata": {},
   "outputs": [],
   "source": [
    "add2 = partial(add, 2)"
   ]
  },
  {
   "cell_type": "code",
   "execution_count": null,
   "id": "faea96512817d425",
   "metadata": {},
   "outputs": [],
   "source": [
    "add2(3)"
   ]
  },
  {
   "cell_type": "code",
   "execution_count": null,
   "id": "43737c0c57e4bdf3",
   "metadata": {},
   "outputs": [],
   "source": [
    "any(x % 3 == 0 for x in range(10))"
   ]
  },
  {
   "cell_type": "code",
   "execution_count": null,
   "id": "99f71ce2a8b5d29f",
   "metadata": {},
   "outputs": [],
   "source": [
    "all(x < 3 for x in range(4))"
   ]
  },
  {
   "cell_type": "markdown",
   "id": "7981c1b7744d3529",
   "metadata": {
    "lang": "en",
    "lines_to_next_cell": 2,
    "slideshow": {
     "slide_type": "subslide"
    }
   },
   "source": [
    "\n",
    "## Mini-workshop \"Valid Groups\"\n",
    "\n",
    "For an event, groups should only be admitted if\n",
    "- either all participants are at least 18 years old or\n",
    "- there is at least one teacher in the group\n",
    "Implement a  function `is_valid_group(group: list[Person])` that checks this."
   ]
  },
  {
   "cell_type": "code",
   "execution_count": null,
   "id": "3f5203df18900b5a",
   "metadata": {
    "tags": [
     "keep"
    ]
   },
   "outputs": [],
   "source": [
    "from dataclasses import dataclass"
   ]
  },
  {
   "cell_type": "code",
   "execution_count": null,
   "id": "fa818bba6214cd9e",
   "metadata": {
    "tags": [
     "keep"
    ]
   },
   "outputs": [],
   "source": [
    "@dataclass\n",
    "class Person:\n",
    "    age: int\n",
    "    profession: str = \"unknown\""
   ]
  },
  {
   "cell_type": "code",
   "execution_count": null,
   "id": "e06dd0377b3c92be",
   "metadata": {
    "tags": [
     "keep"
    ]
   },
   "outputs": [],
   "source": [
    "group1 = [Person(23), Person(42), Person(84, \"doctor\"), Person(29)]\n",
    "group2 = [Person(12), Person(13), Person(53, \"teacher\"), Person(11)]\n",
    "group3 = [Person(12), Person(32)]"
   ]
  },
  {
   "cell_type": "code",
   "execution_count": null,
   "id": "98bf8614892ac603",
   "metadata": {},
   "outputs": [],
   "source": [
    "def is_valid_group(group: list[Person]):\n",
    "    return all(p.age >= 18 for p in group) or any(\n",
    "        p.profession.lower() == \"teacher\" for p in group)"
   ]
  },
  {
   "cell_type": "code",
   "execution_count": null,
   "id": "3d34c2360d5f7ff2",
   "metadata": {
    "tags": [
     "keep"
    ]
   },
   "outputs": [],
   "source": [
    "assert is_valid_group(group1)"
   ]
  },
  {
   "cell_type": "code",
   "execution_count": null,
   "id": "669792c96f359437",
   "metadata": {
    "tags": [
     "keep"
    ]
   },
   "outputs": [],
   "source": [
    "assert is_valid_group(group2)"
   ]
  },
  {
   "cell_type": "code",
   "execution_count": null,
   "id": "ff37982b19c505fd",
   "metadata": {
    "tags": [
     "keep"
    ]
   },
   "outputs": [],
   "source": [
    "assert not is_valid_group(group3)"
   ]
  },
  {
   "cell_type": "code",
   "execution_count": null,
   "id": "0fdb5392701c2061",
   "metadata": {},
   "outputs": [],
   "source": [
    "zip([1, 2, 3], range(100, 200))"
   ]
  },
  {
   "cell_type": "code",
   "execution_count": null,
   "id": "25315219983b6fb5",
   "metadata": {},
   "outputs": [],
   "source": [
    "tuple(zip([1, 2, 3], range(100, 200)))"
   ]
  },
  {
   "cell_type": "code",
   "execution_count": null,
   "id": "bbeda4677ab09172",
   "metadata": {},
   "outputs": [],
   "source": [
    "list(zip([1, 2], [2, 3], strict=True))"
   ]
  },
  {
   "cell_type": "code",
   "execution_count": null,
   "id": "0e698eab942d5251",
   "metadata": {},
   "outputs": [],
   "source": [
    "# list(zip([1, 2, 3], [2, 3], strict=True))"
   ]
  },
  {
   "cell_type": "code",
   "execution_count": null,
   "id": "d3822a196ae767b1",
   "metadata": {},
   "outputs": [],
   "source": [
    "zip([1, 2, 3], [2, 3], strict=True)"
   ]
  },
  {
   "cell_type": "code",
   "execution_count": null,
   "id": "570f99de44e75f5d",
   "metadata": {},
   "outputs": [],
   "source": [
    "list(((x, x + 10) for x in range(3)))"
   ]
  },
  {
   "cell_type": "code",
   "execution_count": null,
   "id": "cb4f4e848a60e04e",
   "metadata": {},
   "outputs": [],
   "source": [
    "list(zip(*((x, x + 10) for x in range(3))))"
   ]
  },
  {
   "cell_type": "code",
   "execution_count": null,
   "id": "3b81e016815a2aac",
   "metadata": {},
   "outputs": [],
   "source": [
    "map(add2, range(10))"
   ]
  },
  {
   "cell_type": "code",
   "execution_count": null,
   "id": "32b3e118c9fe54a4",
   "metadata": {},
   "outputs": [],
   "source": [
    "list(map(add2, range(10)))"
   ]
  },
  {
   "cell_type": "code",
   "execution_count": null,
   "id": "652b0f69a1a53397",
   "metadata": {},
   "outputs": [],
   "source": [
    "from itertools import islice, count, cycle, repeat, chain"
   ]
  },
  {
   "cell_type": "code",
   "execution_count": null,
   "id": "9cc6d5a612212231",
   "metadata": {},
   "outputs": [],
   "source": [
    "list(islice(count(), 5))"
   ]
  },
  {
   "cell_type": "code",
   "execution_count": null,
   "id": "b18907a31b3263ab",
   "metadata": {},
   "outputs": [],
   "source": [
    "list(islice(count(), 5, 10))"
   ]
  },
  {
   "cell_type": "code",
   "execution_count": null,
   "id": "04f60d69226cc8b3",
   "metadata": {},
   "outputs": [],
   "source": [
    "list(islice(count(), 5, 10, 2))"
   ]
  },
  {
   "cell_type": "code",
   "execution_count": null,
   "id": "2408ffc040bac693",
   "metadata": {},
   "outputs": [],
   "source": [
    "list(islice(count(2, 3), 5))"
   ]
  },
  {
   "cell_type": "code",
   "execution_count": null,
   "id": "df3dd11d31908457",
   "metadata": {},
   "outputs": [],
   "source": [
    "list(islice(cycle([1, 2, 3]), 1))"
   ]
  },
  {
   "cell_type": "code",
   "execution_count": null,
   "id": "3178c3a5d2e9736e",
   "metadata": {},
   "outputs": [],
   "source": [
    "list(islice(repeat([1, 2, 3]), 5))"
   ]
  },
  {
   "cell_type": "code",
   "execution_count": null,
   "id": "1e395717f9fef43e",
   "metadata": {},
   "outputs": [],
   "source": [
    "list(islice(chain(range(10, 12), range(30, 50)), 5))"
   ]
  },
  {
   "cell_type": "code",
   "execution_count": null,
   "id": "eecb4b7ac855d65d",
   "metadata": {},
   "outputs": [],
   "source": [
    "from itertools import tee\n",
    "\n",
    "it1, it2 = tee(count(1, 10))\n",
    "list(islice(it1, 3)), list(islice(it2, 3))"
   ]
  },
  {
   "cell_type": "code",
   "execution_count": null,
   "id": "103c58a343ade231",
   "metadata": {},
   "outputs": [],
   "source": [
    "from itertools import takewhile, dropwhile"
   ]
  },
  {
   "cell_type": "code",
   "execution_count": null,
   "id": "acfb202a431aa570",
   "metadata": {},
   "outputs": [],
   "source": [
    "list(takewhile(lambda x: x < 10, count(2, 2)))"
   ]
  },
  {
   "cell_type": "code",
   "execution_count": null,
   "id": "8cdccf07eca4e43d",
   "metadata": {},
   "outputs": [],
   "source": [
    "list(islice(dropwhile(lambda x: x < 10, count(2, 2)), 5))"
   ]
  },
  {
   "cell_type": "code",
   "execution_count": null,
   "id": "3e3aa74268d8d96f",
   "metadata": {},
   "outputs": [],
   "source": [
    "from itertools import compress\n",
    "\n",
    "list(compress(range(10), [True, False, True, False, True]))"
   ]
  },
  {
   "cell_type": "code",
   "execution_count": null,
   "id": "0ff4675a23091f78",
   "metadata": {},
   "outputs": [],
   "source": [
    "it1, it2 = tee(count(1, 10))\n",
    "list(compress(it1, islice(map(lambda x: x % 3 == 0, it2), 10)))"
   ]
  },
  {
   "cell_type": "code",
   "execution_count": null,
   "id": "5876301a116fdcc0",
   "metadata": {},
   "outputs": [],
   "source": [
    "from operator import concat\n",
    "from functools import reduce"
   ]
  },
  {
   "cell_type": "code",
   "execution_count": null,
   "id": "2881a0c5c555c764",
   "metadata": {},
   "outputs": [],
   "source": [
    "reduce(add, range(11))"
   ]
  },
  {
   "cell_type": "code",
   "execution_count": null,
   "id": "ff3b86c984548046",
   "metadata": {},
   "outputs": [],
   "source": [
    "reduce(mul, range(1, 11))"
   ]
  },
  {
   "cell_type": "code",
   "execution_count": null,
   "id": "96accd7002ee5213",
   "metadata": {},
   "outputs": [],
   "source": [
    "reduce(concat, map(partial(mul, 2), list(\"abcd\")))"
   ]
  },
  {
   "cell_type": "code",
   "execution_count": null,
   "id": "81221e752878f003",
   "metadata": {},
   "outputs": [],
   "source": [
    "# noinspection PyTypeChecker\n",
    "reduce(concat, (char * 2 for char in \"abcd\"))"
   ]
  },
  {
   "cell_type": "code",
   "execution_count": null,
   "id": "b90141893bab4f85",
   "metadata": {},
   "outputs": [],
   "source": [
    "# noinspection PyTypeChecker\n",
    "reduce(concat, (char * 2 for char in \"\"), \"\")"
   ]
  },
  {
   "cell_type": "code",
   "execution_count": null,
   "id": "e4c7fc759c4ec07a",
   "metadata": {},
   "outputs": [],
   "source": [
    "# noinspection PyTypeChecker\n",
    "reduce(concat, (char * 2 for char in \"abcd\"), \"\")"
   ]
  },
  {
   "cell_type": "code",
   "execution_count": null,
   "id": "8038681857f974df",
   "metadata": {},
   "outputs": [],
   "source": [
    "from itertools import accumulate"
   ]
  },
  {
   "cell_type": "code",
   "execution_count": null,
   "id": "dc57378df3252c83",
   "metadata": {},
   "outputs": [],
   "source": [
    "list(accumulate((char * 2 for char in \"abcd\"), concat))"
   ]
  },
  {
   "cell_type": "code",
   "execution_count": null,
   "id": "2c8216a8f8d513f0",
   "metadata": {},
   "outputs": [],
   "source": [
    "from itertools import combinations, permutations, combinations_with_replacement"
   ]
  },
  {
   "cell_type": "code",
   "execution_count": null,
   "id": "60502ea2f7340778",
   "metadata": {},
   "outputs": [],
   "source": [
    "list(combinations(range(5), 2))"
   ]
  },
  {
   "cell_type": "code",
   "execution_count": null,
   "id": "a54e385e6a2e0e3c",
   "metadata": {},
   "outputs": [],
   "source": [
    "list(permutations(range(5), 2))"
   ]
  },
  {
   "cell_type": "code",
   "execution_count": null,
   "id": "40b29da3c00e8e25",
   "metadata": {},
   "outputs": [],
   "source": [
    "list(permutations(range(4)))"
   ]
  },
  {
   "cell_type": "code",
   "execution_count": null,
   "id": "f99b03f0d5cec319",
   "metadata": {},
   "outputs": [],
   "source": [
    "list(combinations_with_replacement(range(5), 2))"
   ]
  },
  {
   "cell_type": "markdown",
   "id": "e11c781b5ed09820",
   "metadata": {
    "lang": "en",
    "slideshow": {
     "slide_type": "subslide"
    }
   },
   "source": [
    "\n",
    "## Mini-workshop \"Seating Arrangements\"\n",
    "\n",
    "In an event with 4 participants, how many ways are there to allocate the\n",
    "participants to the seats if there are 5 numbered seats?\n",
    "\n",
    "Does your implementation scale to larger events?"
   ]
  },
  {
   "cell_type": "code",
   "execution_count": null,
   "id": "4c5469f3534f06e4",
   "metadata": {},
   "outputs": [],
   "source": [
    "len(tuple(permutations(range(5), 4)))"
   ]
  },
  {
   "cell_type": "code",
   "execution_count": null,
   "id": "5b25af114a12fd1a",
   "metadata": {},
   "outputs": [],
   "source": [
    "len(tuple(permutations(range(8), 6)))"
   ]
  },
  {
   "cell_type": "code",
   "execution_count": null,
   "id": "0ed3b49fb0a7de35",
   "metadata": {},
   "outputs": [],
   "source": [
    "len(tuple(permutations(range(12), 7)))"
   ]
  },
  {
   "cell_type": "code",
   "execution_count": null,
   "id": "0d936d17cb3974ce",
   "metadata": {},
   "outputs": [],
   "source": [
    "from operator import mul\n",
    "from functools import reduce\n",
    "\n",
    "\n",
    "def seating_arrangements(seats, people):\n",
    "    free_seats = seats - people\n",
    "    print(free_seats, people)\n",
    "    if free_seats >= 0:\n",
    "        return reduce(mul, range(free_seats + 1, seats + 1))"
   ]
  },
  {
   "cell_type": "code",
   "execution_count": null,
   "id": "cfc54ea74dd66e22",
   "metadata": {},
   "outputs": [],
   "source": [
    "seating_arrangements(5, 4)"
   ]
  },
  {
   "cell_type": "code",
   "execution_count": null,
   "id": "956e6ecd9b234f4a",
   "metadata": {},
   "outputs": [],
   "source": [
    "seating_arrangements(8, 6)"
   ]
  },
  {
   "cell_type": "code",
   "execution_count": null,
   "id": "f7f1253b29c49b91",
   "metadata": {},
   "outputs": [],
   "source": [
    "seating_arrangements(12, 7)"
   ]
  },
  {
   "cell_type": "code",
   "execution_count": null,
   "id": "6887e8b16d29fdb8",
   "metadata": {},
   "outputs": [],
   "source": [
    "seating_arrangements(100, 50)"
   ]
  }
 ],
 "metadata": {},
 "nbformat": 4,
 "nbformat_minor": 5
}
