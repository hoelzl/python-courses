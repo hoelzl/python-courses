{
 "cells": [
  {
   "cell_type": "markdown",
   "id": "e08459e8f5b7f66a",
   "metadata": {
    "lang": "en",
    "slideshow": {
     "slide_type": "slide"
    }
   },
   "source": [
    "<img src=\"../../img/python-logo-no-text.svg\"\n",
    "     style=\"display:block;margin:auto;width:10%\"/>\n",
    "<br>\n",
    "<div style=\"text-align:center; font-size:200%;\">\n",
    "  <b>Closures</b>\n",
    "</div>\n",
    "<br/>\n",
    "<div style=\"text-align:center;\">Dr. Matthias Hölzl</div>\n",
    "<br/>\n",
    "<div style=\"text-align:center;\">module_130_functions/topic_270_d3_closures</div>"
   ]
  },
  {
   "cell_type": "markdown",
   "id": "4f6d6b5d89e4177f",
   "metadata": {
    "lang": "en",
    "slideshow": {
     "slide_type": "slide"
    }
   },
   "source": [
    "## Closures\n",
    "\n",
    "In Python it is possible to define functions inside other functions. The inner\n",
    "functions can access the variables of the outer function."
   ]
  },
  {
   "cell_type": "code",
   "execution_count": null,
   "id": "141ed3f5114e7e82",
   "metadata": {},
   "outputs": [],
   "source": [
    "def a_fun(x, y):\n",
    "    z = x + y\n",
    "    result = pow(z, 3)\n",
    "    print(result)\n",
    "    return result"
   ]
  },
  {
   "cell_type": "code",
   "execution_count": null,
   "id": "24c0223c4c529635",
   "metadata": {
    "tags": [
     "keep"
    ]
   },
   "outputs": [],
   "source": [
    "def print_raw_function_info(code):\n",
    "    print(f\"Consts:    {code.co_consts}\")\n",
    "    print(f\"Names:     {code.co_names}\")\n",
    "    print(f\"Var names: {code.co_varnames}\")\n",
    "    print(f\"Free vars: {code.co_freevars}\")"
   ]
  },
  {
   "cell_type": "code",
   "execution_count": null,
   "id": "36cba0eabfced4fd",
   "metadata": {
    "tags": [
     "keep"
    ]
   },
   "outputs": [],
   "source": [
    "def print_function_info(fun):\n",
    "    print_raw_function_info(fun.__code__)\n",
    "    print(f\"Closure:   {fun.__closure__}\")\n",
    "    if fun.__closure__:\n",
    "        for i, cell in enumerate(fun.__closure__):\n",
    "            print(f\"    Cell[{i}] contents: {cell.cell_contents}\")"
   ]
  },
  {
   "cell_type": "code",
   "execution_count": null,
   "id": "35cad69ea5dbecf1",
   "metadata": {},
   "outputs": [],
   "source": [
    "print_function_info(a_fun)"
   ]
  },
  {
   "cell_type": "code",
   "execution_count": null,
   "id": "c9b6a8c79305cad5",
   "metadata": {
    "tags": [
     "keep"
    ]
   },
   "outputs": [],
   "source": [
    "from random import randint"
   ]
  },
  {
   "cell_type": "code",
   "execution_count": null,
   "id": "6b7e7459d3ffa032",
   "metadata": {},
   "outputs": [],
   "source": [
    "def generate_random_value():\n",
    "    return randint(1, 4)"
   ]
  },
  {
   "cell_type": "code",
   "execution_count": null,
   "id": "c965936d2596cfd3",
   "metadata": {},
   "outputs": [],
   "source": [
    "print_function_info(generate_random_value)"
   ]
  },
  {
   "cell_type": "code",
   "execution_count": null,
   "id": "9112c2294adc3e38",
   "metadata": {},
   "outputs": [],
   "source": [
    "generate_random_value()"
   ]
  },
  {
   "cell_type": "code",
   "execution_count": null,
   "id": "74307fa504025615",
   "metadata": {},
   "outputs": [],
   "source": [
    "print_function_info(generate_random_value)"
   ]
  },
  {
   "cell_type": "code",
   "execution_count": null,
   "id": "5f2ac645b6d18190",
   "metadata": {
    "slideshow": {
     "slide_type": "subslide"
    }
   },
   "outputs": [],
   "source": [
    "from dis import dis"
   ]
  },
  {
   "cell_type": "code",
   "execution_count": null,
   "id": "375233c9e526f047",
   "metadata": {},
   "outputs": [],
   "source": [
    "dis(generate_random_value)"
   ]
  },
  {
   "cell_type": "code",
   "execution_count": null,
   "id": "5637e2564e679b79",
   "metadata": {
    "slideshow": {
     "slide_type": "subslide"
    }
   },
   "outputs": [],
   "source": [
    "def make_and_call_nested_function():\n",
    "    def return_random_value():\n",
    "        return randint(1, 4)\n",
    "\n",
    "    return return_random_value()"
   ]
  },
  {
   "cell_type": "code",
   "execution_count": null,
   "id": "7c7783608266d38d",
   "metadata": {},
   "outputs": [],
   "source": [
    "make_and_call_nested_function()"
   ]
  },
  {
   "cell_type": "code",
   "execution_count": null,
   "id": "e6f3249def5e8ada",
   "metadata": {},
   "outputs": [],
   "source": [
    "print_function_info(make_and_call_nested_function)"
   ]
  },
  {
   "cell_type": "code",
   "execution_count": null,
   "id": "ca8c25f65ce0f213",
   "metadata": {},
   "outputs": [],
   "source": [
    "nested_code = make_and_call_nested_function.__code__.co_consts[1]\n",
    "print_raw_function_info(nested_code)"
   ]
  },
  {
   "cell_type": "code",
   "execution_count": null,
   "id": "0ecd3f6d7a5d810a",
   "metadata": {},
   "outputs": [],
   "source": [
    "dis(nested_code)"
   ]
  },
  {
   "cell_type": "code",
   "execution_count": null,
   "id": "027e7d69c0ca59ad",
   "metadata": {},
   "outputs": [],
   "source": [
    "dis(make_and_call_nested_function)"
   ]
  },
  {
   "cell_type": "code",
   "execution_count": null,
   "id": "95e2e34270bcad17",
   "metadata": {
    "slideshow": {
     "slide_type": "subslide"
    }
   },
   "outputs": [],
   "source": [
    "def make_and_return_nested_function():\n",
    "    def return_random_value():\n",
    "        return randint(1, 4)\n",
    "\n",
    "    return return_random_value"
   ]
  },
  {
   "cell_type": "code",
   "execution_count": null,
   "id": "519dab54d8e0d4dd",
   "metadata": {},
   "outputs": [],
   "source": [
    "my_fun = make_and_return_nested_function()\n",
    "my_fun"
   ]
  },
  {
   "cell_type": "code",
   "execution_count": null,
   "id": "db295625d3ae69bc",
   "metadata": {},
   "outputs": [],
   "source": [
    "my_fun()"
   ]
  },
  {
   "cell_type": "code",
   "execution_count": null,
   "id": "e48b84788243c6d8",
   "metadata": {},
   "outputs": [],
   "source": [
    "print_function_info(make_and_return_nested_function)"
   ]
  },
  {
   "cell_type": "code",
   "execution_count": null,
   "id": "3e9439c739a9ee77",
   "metadata": {},
   "outputs": [],
   "source": [
    "nested_code = make_and_return_nested_function.__code__.co_consts[1]\n",
    "print_raw_function_info(nested_code)"
   ]
  },
  {
   "cell_type": "code",
   "execution_count": null,
   "id": "cab9b0d8ca7fa9c7",
   "metadata": {},
   "outputs": [],
   "source": [
    "dis(nested_code)"
   ]
  },
  {
   "cell_type": "code",
   "execution_count": null,
   "id": "b8e08fedf8805142",
   "metadata": {},
   "outputs": [],
   "source": [
    "dis(make_and_return_nested_function)"
   ]
  },
  {
   "cell_type": "code",
   "execution_count": null,
   "id": "10c13b0262528b7e",
   "metadata": {},
   "outputs": [],
   "source": [
    "print_function_info(my_fun)"
   ]
  },
  {
   "cell_type": "code",
   "execution_count": null,
   "id": "b930601d420666c1",
   "metadata": {},
   "outputs": [],
   "source": [
    "dis(my_fun)"
   ]
  },
  {
   "cell_type": "code",
   "execution_count": null,
   "id": "40609b4d81a32a13",
   "metadata": {
    "slideshow": {
     "slide_type": "subslide"
    }
   },
   "outputs": [],
   "source": [
    "def make_closure_1():\n",
    "    local_value = randint(1, 4)\n",
    "\n",
    "    def return_local_value():\n",
    "        return local_value\n",
    "\n",
    "    return return_local_value"
   ]
  },
  {
   "cell_type": "code",
   "execution_count": null,
   "id": "807686b183614292",
   "metadata": {},
   "outputs": [],
   "source": [
    "my_closure_1 = make_closure_1()\n",
    "my_closure_1"
   ]
  },
  {
   "cell_type": "code",
   "execution_count": null,
   "id": "31dc98e358d93cc6",
   "metadata": {},
   "outputs": [],
   "source": [
    "my_closure_1()"
   ]
  },
  {
   "cell_type": "code",
   "execution_count": null,
   "id": "0cf539b58b4c97fe",
   "metadata": {},
   "outputs": [],
   "source": [
    "your_closure_1 = make_closure_1()\n",
    "your_closure_1"
   ]
  },
  {
   "cell_type": "code",
   "execution_count": null,
   "id": "c133227590153070",
   "metadata": {},
   "outputs": [],
   "source": [
    "your_closure_1()"
   ]
  },
  {
   "cell_type": "code",
   "execution_count": null,
   "id": "6e1907b38e931cd0",
   "metadata": {},
   "outputs": [],
   "source": [
    "print_function_info(make_closure_1)"
   ]
  },
  {
   "cell_type": "code",
   "execution_count": null,
   "id": "c6de6f6a632cf3f9",
   "metadata": {},
   "outputs": [],
   "source": [
    "nested_code = make_closure_1.__code__.co_consts[3]\n",
    "print_raw_function_info(nested_code)"
   ]
  },
  {
   "cell_type": "code",
   "execution_count": null,
   "id": "50eabdc9175424b3",
   "metadata": {},
   "outputs": [],
   "source": [
    "dis(nested_code)"
   ]
  },
  {
   "cell_type": "code",
   "execution_count": null,
   "id": "8d0866285a1a9cf7",
   "metadata": {},
   "outputs": [],
   "source": [
    "dis(make_closure_1)"
   ]
  },
  {
   "cell_type": "code",
   "execution_count": null,
   "id": "6a1e59a6195136fb",
   "metadata": {},
   "outputs": [],
   "source": [
    "print_function_info(my_closure_1)"
   ]
  },
  {
   "cell_type": "code",
   "execution_count": null,
   "id": "bca07520664b7220",
   "metadata": {},
   "outputs": [],
   "source": [
    "print_function_info(your_closure_1)"
   ]
  },
  {
   "cell_type": "code",
   "execution_count": null,
   "id": "f04790ae4a7fc03d",
   "metadata": {},
   "outputs": [],
   "source": [
    "dis(my_closure_1)"
   ]
  },
  {
   "cell_type": "code",
   "execution_count": null,
   "id": "735f9f8edb09dc12",
   "metadata": {
    "slideshow": {
     "slide_type": "subslide"
    }
   },
   "outputs": [],
   "source": [
    "def make_closure_2():\n",
    "    local_value = randint(1, 10)\n",
    "\n",
    "    def return_local_value():\n",
    "        return local_value\n",
    "\n",
    "    def inc_local_value():\n",
    "        nonlocal local_value\n",
    "        local_value += 1\n",
    "\n",
    "    return return_local_value, inc_local_value"
   ]
  },
  {
   "cell_type": "code",
   "execution_count": null,
   "id": "97932a235e5a57a6",
   "metadata": {
    "slideshow": {
     "slide_type": "subslide"
    }
   },
   "outputs": [],
   "source": [
    "get_value_1, inc_value_1 = make_closure_2()\n",
    "get_value_2, inc_value_2 = make_closure_2()\n",
    "get_value_1(), get_value_2()"
   ]
  },
  {
   "cell_type": "code",
   "execution_count": null,
   "id": "9a10ef522a1452c4",
   "metadata": {},
   "outputs": [],
   "source": [
    "get_value_1(), get_value_2()"
   ]
  },
  {
   "cell_type": "code",
   "execution_count": null,
   "id": "3179f0b8bdffa92a",
   "metadata": {},
   "outputs": [],
   "source": [
    "inc_value_1()\n",
    "get_value_1(), get_value_2()"
   ]
  },
  {
   "cell_type": "code",
   "execution_count": null,
   "id": "743acc73d7878bb8",
   "metadata": {},
   "outputs": [],
   "source": [
    "inc_value_2()\n",
    "get_value_1(), get_value_2()"
   ]
  },
  {
   "cell_type": "code",
   "execution_count": null,
   "id": "68d9a2093335bdba",
   "metadata": {
    "slideshow": {
     "slide_type": "subslide"
    }
   },
   "outputs": [],
   "source": [
    "print_function_info(inc_value_1)\n",
    "print_function_info(get_value_1)"
   ]
  },
  {
   "cell_type": "code",
   "execution_count": null,
   "id": "5050c7cab62e1212",
   "metadata": {
    "lines_to_next_cell": 2
   },
   "outputs": [],
   "source": [
    "print_function_info(inc_value_2)\n",
    "print_function_info(get_value_2)"
   ]
  },
  {
   "cell_type": "markdown",
   "id": "ef5614b114bfae62",
   "metadata": {
    "lang": "en",
    "lines_to_next_cell": 2,
    "slideshow": {
     "slide_type": "subslide"
    }
   },
   "source": [
    "\n",
    "## Mini-workshop \"mean computation\"\n",
    "\n",
    "Write a function `make_mean_fun()` that returns two closures\n",
    "\n",
    "- a function `add_value(new_value: int)` that appends `new_value` to a list\n",
    "  stored in a local variable `values` of `make_mean_fun()`\n",
    "- a function `compute_mean()` that return the mean value of all values\n",
    "  previously stored in `values`.\n",
    "\n",
    "Do you have to use `nonlocal` to access `value`? Why, or why not?\n",
    "\n",
    "Ensure that your implementation satisfies the provided test cases."
   ]
  },
  {
   "cell_type": "code",
   "execution_count": null,
   "id": "fdb56fef4578a147",
   "metadata": {},
   "outputs": [],
   "source": [
    "def make_mean_fun():\n",
    "    values: list[int] = []\n",
    "\n",
    "    def add_value(new_value: int):\n",
    "        values.append(new_value)\n",
    "\n",
    "    def compute_mean():\n",
    "        return sum(values) / len(values)\n",
    "\n",
    "    return add_value, compute_mean"
   ]
  },
  {
   "cell_type": "markdown",
   "id": "5656a511a7429269",
   "metadata": {
    "lang": "en"
   },
   "source": [
    "\n",
    "Test cases:"
   ]
  },
  {
   "cell_type": "code",
   "execution_count": null,
   "id": "300355c49d51822e",
   "metadata": {
    "tags": [
     "keep"
    ]
   },
   "outputs": [],
   "source": [
    "add_value_1, compute_mean_1 = make_mean_fun()\n",
    "add_value_2, compute_mean_2 = make_mean_fun()"
   ]
  },
  {
   "cell_type": "code",
   "execution_count": null,
   "id": "b54dbb27269a3eb3",
   "metadata": {
    "tags": [
     "keep"
    ]
   },
   "outputs": [],
   "source": [
    "for i in range(10):\n",
    "    add_value_1(i)\n",
    "\n",
    "for i in range(2, 21, 4):\n",
    "    add_value_2(i)"
   ]
  },
  {
   "cell_type": "code",
   "execution_count": null,
   "id": "13d975ba7379e132",
   "metadata": {
    "tags": [
     "keep"
    ]
   },
   "outputs": [],
   "source": [
    "assert compute_mean_1() == 4.5"
   ]
  },
  {
   "cell_type": "code",
   "execution_count": null,
   "id": "654c0da1680cb517",
   "metadata": {
    "tags": [
     "keep"
    ]
   },
   "outputs": [],
   "source": [
    "assert compute_mean_2() == 10.0"
   ]
  },
  {
   "cell_type": "markdown",
   "id": "e5ba52a78d2fe51c",
   "metadata": {
    "lang": "en"
   },
   "source": [
    "\n",
    "Write a function `make_mean_fun_2()` that returns closures with similar\n",
    "functionality but stores only the number of added elements and their total\n",
    "sum.\n",
    "\n",
    "Do you have to use `nonlocal` to access the closure variables in this case?\n",
    "Why, or why not?"
   ]
  },
  {
   "cell_type": "code",
   "execution_count": null,
   "id": "12e1a5de74acf033",
   "metadata": {
    "lines_to_next_cell": 2
   },
   "outputs": [],
   "source": [
    "def make_mean_fun_2():\n",
    "    sum_of_values: int = 0\n",
    "    num_values: int = 0\n",
    "\n",
    "    def add_value(new_value: int):\n",
    "        nonlocal sum_of_values, num_values\n",
    "        sum_of_values += new_value\n",
    "        num_values += 1\n",
    "\n",
    "    def compute_mean():\n",
    "        return sum_of_values / num_values\n",
    "\n",
    "    return add_value, compute_mean"
   ]
  },
  {
   "cell_type": "markdown",
   "id": "3eeac2ee7e1ee7c7",
   "metadata": {
    "lang": "en",
    "lines_to_next_cell": 2
   },
   "source": [
    "\n",
    "Test cases:"
   ]
  },
  {
   "cell_type": "code",
   "execution_count": null,
   "id": "678f7837a68fa9e6",
   "metadata": {
    "tags": [
     "keep"
    ]
   },
   "outputs": [],
   "source": [
    "add_value_3, compute_mean_3 = make_mean_fun_2()\n",
    "add_value_4, compute_mean_4 = make_mean_fun_2()"
   ]
  },
  {
   "cell_type": "code",
   "execution_count": null,
   "id": "45fcf56a9ba1337c",
   "metadata": {
    "tags": [
     "keep"
    ]
   },
   "outputs": [],
   "source": [
    "for i in range(10):\n",
    "    add_value_3(i)"
   ]
  },
  {
   "cell_type": "code",
   "execution_count": null,
   "id": "a6c0bf4864fad029",
   "metadata": {
    "tags": [
     "keep"
    ]
   },
   "outputs": [],
   "source": [
    "for i in range(2, 21, 4):\n",
    "    add_value_4(i)"
   ]
  },
  {
   "cell_type": "code",
   "execution_count": null,
   "id": "73952c56fc1ad3f9",
   "metadata": {
    "tags": [
     "keep"
    ]
   },
   "outputs": [],
   "source": [
    "assert compute_mean_3() == 4.5"
   ]
  },
  {
   "cell_type": "code",
   "execution_count": null,
   "id": "971a02985c0d7567",
   "metadata": {
    "tags": [
     "keep"
    ]
   },
   "outputs": [],
   "source": [
    "assert compute_mean_4() == 10.0"
   ]
  }
 ],
 "metadata": {
  "kernelspec": {
   "display_name": "Python 3 (ipykernel)",
   "language": "python",
   "name": "python3"
  }
 },
 "nbformat": 4,
 "nbformat_minor": 5
}
