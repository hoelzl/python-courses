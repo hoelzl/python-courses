{
 "cells": [
  {
   "cell_type": "markdown",
   "id": "9297a0fc32d21a14",
   "metadata": {
    "lang": "en",
    "lines_to_next_cell": 2,
    "slideshow": {
     "slide_type": "slide"
    }
   },
   "source": [
    "<img src=\"../img/python-logo-no-text.png\"\n",
    "     style=\"display:block;margin:auto;width:10%\"/>\n",
    "<br>\n",
    "<div style=\"text-align:center; font-size:200%;\">\n",
    "  <b>Functions (Part 2)</b>\n",
    "</div>\n",
    "<br/>\n",
    "<div style=\"text-align:center;\">Dr. Matthias Hölzl</div>\n",
    "<br/>\n",
    "<!-- <div style=\"text-align:center;\">module_130_functions/topic_112_b1_functions_part2</div> -->"
   ]
  },
  {
   "cell_type": "markdown",
   "id": "afa01c0885cf53ac",
   "metadata": {
    "lang": "en",
    "lines_to_next_cell": 2,
    "slideshow": {
     "slide_type": "subslide"
    }
   },
   "source": [
    "\n",
    "## Visualization on Python Tutor\n",
    "\n",
    "Visualization on the\n",
    "[Python Tutor](https://pythontutor.com/render.html#code=def%20pythagoras%28a,%20b%29%3A%0A%20%20%20%20c%20%3D%20%28a**2%20%2B%20b**2%29%20**%200.5%0A%20%20%20%20return%20c%0A%0Aergebnis%20%3D%20pythagoras%283,%204%29&cumulative=false&curInstr=0&heapPrimitives=true&mode=display&origin=opt-frontend.js&py=3&rawInputLstJSON=%5B%5D&textReferences=false)\n",
    "web site."
   ]
  },
  {
   "cell_type": "markdown",
   "id": "c3f473ef6de7edae",
   "metadata": {
    "lang": "en",
    "lines_to_next_cell": 2,
    "slideshow": {
     "slide_type": "subslide"
    }
   },
   "source": [
    "## Back to fences\n",
    "\n",
    "- So far we have calculated the length of the third side of our property.\n",
    "- We still need a function that calculates the total length:"
   ]
  },
  {
   "cell_type": "code",
   "execution_count": null,
   "id": "44b3c0d6f61a79da",
   "metadata": {
    "lang": "en",
    "tags": [
     "keep"
    ]
   },
   "outputs": [],
   "source": [
    "def pythagoras(a, b):\n",
    "    c = (a**2 + b**2) ** 0.5\n",
    "    return c"
   ]
  },
  {
   "cell_type": "code",
   "execution_count": null,
   "id": "dc83b58165b02db0",
   "metadata": {
    "lang": "en"
   },
   "outputs": [],
   "source": [
    "def total_length(x, y):\n",
    "    z = pythagoras(x, y)\n",
    "    length = x + y + z\n",
    "    return length"
   ]
  },
  {
   "cell_type": "code",
   "execution_count": null,
   "id": "068d43d5d14ce32b",
   "metadata": {},
   "outputs": [],
   "source": [
    "länge_a = 10  # Beispielwert\n",
    "länge_b = 40  # Beispielwert\n",
    "print(gesamtlänge(länge_a, länge_b))"
   ]
  },
  {
   "cell_type": "markdown",
   "id": "c0fbe947dd0717e5",
   "metadata": {
    "lang": "en",
    "slideshow": {
     "slide_type": "subslide"
    }
   },
   "source": [
    "With this we can simplify our problem:"
   ]
  },
  {
   "cell_type": "code",
   "execution_count": null,
   "id": "0fd6ff6323c4c070",
   "metadata": {},
   "outputs": [],
   "source": [
    "length_a = 10  # Example value\n",
    "length_b = 40  # Example value\n",
    "print(total_length(length_a, length_b))"
   ]
  },
  {
   "cell_type": "markdown",
   "id": "3d402b674b534083",
   "metadata": {
    "lang": "en",
    "slideshow": {
     "slide_type": "subslide"
    }
   },
   "source": [
    "\n",
    "## Visualization on Python Tutor\n",
    "\n",
    "Visualization on the [Python Tutor](https://pythontutor.com/render.html#code=def%20pythagoras%28a,%20b%29%3A%0A%20%20%20%20c%20%3D%20%28a**2%20%2B%20b**2%29%20**%200.5%0A%20%20%20%20return%20c%0A%0Adef%20gesamtl%C3%A4nge%28x,%20y%29%3A%0A%20%20%20%20z%20%3D%20pythagoras%28x,%20y%29%0A%20%20%20%20l%C3%A4nge%20%3D%20x%20%2B%20y%20%2B%20z%0A%20%20%20%20return%20l%C3%A4nge%0A%20%20%20%20%0Al%C3%A4nge_a%20%3D%2010%0Al%C3%A4nge_b%20%3D%2040%0Aprint%28gesamtl%C3%A4nge%28l%C3%A4nge_a,%20l%C3%A4nge_b%29%29&cumulative=false&curInstr=0&heapPrimitives=true&mode=display&origin=opt-frontend.js&py=3&rawInputLstJSON=%5B%5D&textReferences=false)\n",
    "web site."
   ]
  },
  {
   "cell_type": "markdown",
   "id": "3b67e385953a175c",
   "metadata": {
    "lang": "en",
    "slideshow": {
     "slide_type": "subslide"
    }
   },
   "source": [
    "\n",
    "## Mini workshop: Donations\n",
    "\n",
    "At a fundraiser, the television broadcaster ZRD promised to double every\n",
    "incoming donation. Regional broadcaster YB3 increases every donation received\n",
    "by 10 euros. (ZRD doubles before adding YB3's €10.)\n",
    "\n",
    "Write a Python function `effective_donation(donation)` that calculates the\n",
    "amount actually given to charity when a viewer donates $N$ euros."
   ]
  },
  {
   "cell_type": "code",
   "execution_count": null,
   "id": "511414acfac2201a",
   "metadata": {
    "lang": "en"
   },
   "outputs": [],
   "source": [
    "def effective_donation(donation):\n",
    "    return 2 * donation + 10"
   ]
  },
  {
   "cell_type": "markdown",
   "id": "137b8ea2a94a8304",
   "metadata": {
    "lang": "en",
    "slideshow": {
     "slide_type": "subslide"
    }
   },
   "source": [
    "What is the effective donation if a viewer donates 20 euros?"
   ]
  },
  {
   "cell_type": "code",
   "execution_count": null,
   "id": "9dafac7c1f832f46",
   "metadata": {
    "lang": "en"
   },
   "outputs": [],
   "source": [
    "effective_donation(20)"
   ]
  },
  {
   "cell_type": "markdown",
   "id": "a879bfee2b33f73d",
   "metadata": {
    "lang": "en",
    "slideshow": {
     "slide_type": "subslide"
    }
   },
   "source": [
    "\n",
    "Display the effective donations for 10, 25, 50, 100 and 500 euros on the\n",
    "screen.\n",
    "\n",
    "*Note:* You can complete inputs with the `Tab` key. It is thus sufficient if\n",
    "you type\n",
    "\n",
    "`pri`-*Tab* `eff`-*Tab*\n",
    "\n",
    "before typing the arguments."
   ]
  },
  {
   "cell_type": "code",
   "execution_count": null,
   "id": "26352137a7d04dd6",
   "metadata": {
    "lang": "en"
   },
   "outputs": [],
   "source": [
    "print(effective_donation(10))\n",
    "print(effective_donation(25))\n",
    "print(effective_donation(50))\n",
    "print(effective_donation(100))\n",
    "print(effective_donation(500))"
   ]
  }
 ],
 "metadata": {},
 "nbformat": 4,
 "nbformat_minor": 5
}
