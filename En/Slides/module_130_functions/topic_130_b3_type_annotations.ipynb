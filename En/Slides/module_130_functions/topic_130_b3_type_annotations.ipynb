{
 "cells": [
  {
   "cell_type": "markdown",
   "id": "503a31bb79327679",
   "metadata": {
    "lang": "en",
    "slideshow": {
     "slide_type": "slide"
    }
   },
   "source": [
    "<img src=\"../img/python-logo-no-text.png\"\n",
    "     style=\"display:block;margin:auto;width:10%\"/>\n",
    "<br>\n",
    "<div style=\"text-align:center; font-size:200%;\">\n",
    "  <b>Type Annotations</b>\n",
    "</div>\n",
    "<br/>\n",
    "<div style=\"text-align:center;\">Dr. Matthias Hölzl</div>\n",
    "<br/>\n",
    "<!-- <div style=\"text-align:center;\">module_130_functions/topic_130_b3_type_annotations</div> -->\n",
    "\n"
   ]
  },
  {
   "cell_type": "markdown",
   "id": "ad9f781dde8c6966",
   "metadata": {
    "lang": "en",
    "slideshow": {
     "slide_type": "slide"
    }
   },
   "source": [
    "## Type annotations\n",
    "\n",
    "Python allows the types of function arguments and the return type to be specified:"
   ]
  },
  {
   "cell_type": "code",
   "execution_count": null,
   "id": "10cc684a060e58a0",
   "metadata": {},
   "outputs": [],
   "source": [
    "def mult(a: int, b: float) -> float:\n",
    "    return a * b"
   ]
  },
  {
   "cell_type": "code",
   "execution_count": null,
   "id": "1971dee65aade28e",
   "metadata": {},
   "outputs": [],
   "source": [
    "mult(3, 2.0)"
   ]
  },
  {
   "cell_type": "markdown",
   "id": "473f4c629c27649e",
   "metadata": {
    "lang": "en",
    "slideshow": {
     "slide_type": "subslide"
    }
   },
   "source": [
    "Type annotations are for documentation only and are ignored by Python:"
   ]
  },
  {
   "cell_type": "code",
   "execution_count": null,
   "id": "69fd99a0dd3929a6",
   "metadata": {},
   "outputs": [],
   "source": [
    "mult(\"a\", 3)"
   ]
  },
  {
   "cell_type": "markdown",
   "id": "3cc13990741873d0",
   "metadata": {
    "lang": "en",
    "slideshow": {
     "slide_type": "subslide"
    }
   },
   "source": [
    "\n",
    "## Mini-workshop: Type Annotations\n",
    "\n",
    "Write a function `repeat(s: str, n: int) -> str` that returns the string `s`\n",
    "repeated `n` times:\n",
    "\n",
    "```python\n",
    ">>> repeat(\"abc\", 3)\n",
    "\"abcabcabc\"\n",
    "```\n",
    "\n",
    "*Note:* You can use the multiplication operator `*` to repeat strings:\n",
    "```python\n",
    ">>> \"abc\" * 3\n",
    "\"abcabcabc\"\n",
    "\n",
    "\n",
    "```"
   ]
  },
  {
   "cell_type": "code",
   "execution_count": null,
   "id": "d5bf1ef59dafcc65",
   "metadata": {
    "slideshow": {
     "slide_type": "subslide"
    }
   },
   "outputs": [],
   "source": [
    "def repeat(s: str, n: int) -> str:\n",
    "    return s * n"
   ]
  },
  {
   "cell_type": "code",
   "execution_count": null,
   "id": "3807881c360e62ee",
   "metadata": {},
   "outputs": [],
   "source": [
    "repeat(\"abc\", 3)"
   ]
  },
  {
   "cell_type": "markdown",
   "id": "124f76f4276e3fd1",
   "metadata": {
    "lang": "en",
    "slideshow": {
     "slide_type": "subslide"
    }
   },
   "source": [
    "\n",
    "- What happens if you call `repeat()` with two numbers?\n",
    "- What happens if you call `repeat()` with two strings?"
   ]
  },
  {
   "cell_type": "code",
   "execution_count": null,
   "id": "24f75843c17feff5",
   "metadata": {},
   "outputs": [],
   "source": [
    "repeat(3, 4)"
   ]
  },
  {
   "cell_type": "code",
   "execution_count": null,
   "id": "e97e8e68aa85a01d",
   "metadata": {},
   "outputs": [],
   "source": [
    "repeat(\"abc\", \"def\")"
   ]
  }
 ],
 "metadata": {},
 "nbformat": 4,
 "nbformat_minor": 5
}
