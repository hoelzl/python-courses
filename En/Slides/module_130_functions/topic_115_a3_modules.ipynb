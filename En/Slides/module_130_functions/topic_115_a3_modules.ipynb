{
 "cells": [
  {
   "cell_type": "markdown",
   "id": "852ca5a3a106dcfc",
   "metadata": {
    "lang": "en",
    "slideshow": {
     "slide_type": "slide"
    }
   },
   "source": [
    "<img src=\"../img/python-logo-no-text.png\"\n",
    "     style=\"display:block;margin:auto;width:10%\"/>\n",
    "<br>\n",
    "<div style=\"text-align:center; font-size:200%;\">\n",
    "  <b>Importing modules</b>\n",
    "</div>\n",
    "<br/>\n",
    "<div style=\"text-align:center;\">Dr. Matthias Hölzl</div>\n",
    "<br/>\n",
    "<!-- <div style=\"text-align:center;\">module_130_functions/topic_115_a3_modules</div> -->\n",
    "\n"
   ]
  },
  {
   "cell_type": "markdown",
   "id": "ee8b69090efb4e20",
   "metadata": {
    "lang": "en",
    "slideshow": {
     "slide_type": "slide"
    }
   },
   "source": [
    "## Importing modules\n",
    "\n",
    "Much of Python's functionality is not implemented in the interpreter itself\n",
    "but rather provided by external modules (and packages). The default Python\n",
    "distribution includes more than 200 such modules.\n",
    "\n",
    "With the `import` statement you can make this functionality available:"
   ]
  },
  {
   "cell_type": "code",
   "execution_count": null,
   "id": "4d0716d422962495",
   "metadata": {},
   "outputs": [],
   "source": [
    "import math"
   ]
  },
  {
   "cell_type": "markdown",
   "id": "749f1012d627d77f",
   "metadata": {
    "lang": "en",
    "slideshow": {
     "slide_type": "subslide"
    }
   },
   "source": [
    "\n",
    "The functions from the `math` module can then be accessed with the syntax\n",
    "`math.floor`:"
   ]
  },
  {
   "cell_type": "code",
   "execution_count": null,
   "id": "9f393307eee9294d",
   "metadata": {},
   "outputs": [],
   "source": [
    "math.floor(2.5)"
   ]
  },
  {
   "cell_type": "code",
   "execution_count": null,
   "id": "b3b0283f0a5adc9a",
   "metadata": {},
   "outputs": [],
   "source": [
    "math.floor(2.9)"
   ]
  },
  {
   "cell_type": "markdown",
   "id": "06e7a13d79c4adb3",
   "metadata": {
    "lang": "en",
    "slideshow": {
     "slide_type": "subslide"
    }
   },
   "source": [
    "\n",
    "In a previous video we defined the following function to calculate the length of\n",
    "the hypotenuse in a right triangle from the two legs:"
   ]
  },
  {
   "cell_type": "code",
   "execution_count": null,
   "id": "44b3c0d6f61a79da",
   "metadata": {
    "tags": [
     "keep"
    ]
   },
   "outputs": [],
   "source": [
    "def pythagoras(a, b):\n",
    "    c = (a**2 + b**2) ** 0.5\n",
    "    return c"
   ]
  },
  {
   "cell_type": "markdown",
   "id": "631ca3467d308dcc",
   "metadata": {
    "lang": "en",
    "slideshow": {
     "slide_type": "subslide"
    }
   },
   "source": [
    "\n",
    "The `pythagoras` function is available from the `math` module under the name `hypot`:"
   ]
  },
  {
   "cell_type": "code",
   "execution_count": null,
   "id": "65c00e9143c88e72",
   "metadata": {},
   "outputs": [],
   "source": [
    "math.hypot(3, 4)"
   ]
  },
  {
   "cell_type": "markdown",
   "id": "82bcec44524f08c0",
   "metadata": {
    "lang": "en",
    "slideshow": {
     "slide_type": "subslide"
    }
   },
   "source": [
    "\n",
    "With the syntax `from`...`import`, names from a module can be imported into\n",
    "the current namespace:"
   ]
  },
  {
   "cell_type": "code",
   "execution_count": null,
   "id": "52e08812340f9b8f",
   "metadata": {},
   "outputs": [],
   "source": [
    "from math import isclose"
   ]
  },
  {
   "cell_type": "code",
   "execution_count": null,
   "id": "6cb9c630a668cbe4",
   "metadata": {},
   "outputs": [],
   "source": [
    "isclose(0.1 + 0.2, 0.3)"
   ]
  },
  {
   "cell_type": "markdown",
   "id": "fd5ccef4fc703e7b",
   "metadata": {
    "lang": "en",
    "slideshow": {
     "slide_type": "subslide"
    }
   },
   "source": [
    "\n",
    "Modules can be renamed during import:"
   ]
  },
  {
   "cell_type": "code",
   "execution_count": null,
   "id": "57b3c027dcd50505",
   "metadata": {},
   "outputs": [],
   "source": [
    "import math as m"
   ]
  },
  {
   "cell_type": "code",
   "execution_count": null,
   "id": "cefa8af2735157a3",
   "metadata": {},
   "outputs": [],
   "source": [
    "m.hypot(3, 4)"
   ]
  },
  {
   "cell_type": "markdown",
   "id": "701f5c4a52c3f856",
   "metadata": {
    "lang": "en"
   },
   "source": [
    "\n",
    "Similarly for names imported with `from`:"
   ]
  },
  {
   "cell_type": "code",
   "execution_count": null,
   "id": "39ef2a0b8448ccda",
   "metadata": {},
   "outputs": [],
   "source": [
    "from math import hypot as pythagoras"
   ]
  },
  {
   "cell_type": "code",
   "execution_count": null,
   "id": "4670f02dc0e65999",
   "metadata": {},
   "outputs": [],
   "source": [
    "pythagoras(3, 4)"
   ]
  },
  {
   "cell_type": "markdown",
   "id": "3697e99425872b3f",
   "metadata": {
    "lang": "en",
    "slideshow": {
     "slide_type": "subslide"
    }
   },
   "source": [
    "\n",
    "## Mini-workshop: Modules\n"
   ]
  },
  {
   "cell_type": "markdown",
   "id": "a68ec5cecc40ed06",
   "metadata": {
    "lang": "en",
    "slideshow": {
     "slide_type": "subslide"
    }
   },
   "source": [
    "\n",
    "In the [`os` module](https://docs.python.org/3/library/os.html),\n",
    "Python implements functions that provide information about the\n",
    "operating system used and the environment of the Python process.\n",
    "\n",
    "Use the `getcwd()` function from the `os` module to get the working directory of\n",
    "the running Python process."
   ]
  },
  {
   "cell_type": "code",
   "execution_count": null,
   "id": "c246775ae2a597f0",
   "metadata": {},
   "outputs": [],
   "source": [
    "import os"
   ]
  },
  {
   "cell_type": "code",
   "execution_count": null,
   "id": "51ac16fcbf920e9c",
   "metadata": {},
   "outputs": [],
   "source": [
    "os.getcwd()"
   ]
  },
  {
   "cell_type": "markdown",
   "id": "a283702cceaa99e1",
   "metadata": {
    "lang": "en",
    "slideshow": {
     "slide_type": "subslide"
    }
   },
   "source": [
    "\n",
    "Use the `cpu_count()` function from the `os` module to determine how many\n",
    "CPU cores your computer has (according to Python)."
   ]
  },
  {
   "cell_type": "code",
   "execution_count": null,
   "id": "f78c57acb274b544",
   "metadata": {},
   "outputs": [],
   "source": [
    "os.cpu_count()"
   ]
  },
  {
   "cell_type": "markdown",
   "id": "59d3b130a2d01205",
   "metadata": {
    "lang": "en",
    "lines_to_next_cell": 2,
    "slideshow": {
     "slide_type": "subslide"
    }
   },
   "source": [
    "\n",
    "The [`random` module](https://docs.python.org/3/library/random.html) offers\n",
    "various random number generators. Use its `randint()` function  to generate an\n",
    "integer between 1 and 6 (inclusive).\n",
    "\n",
    "Evaluate the cell several times to see that different numbers are generated."
   ]
  },
  {
   "cell_type": "code",
   "execution_count": null,
   "id": "c9b6a8c79305cad5",
   "metadata": {},
   "outputs": [],
   "source": [
    "from random import randint"
   ]
  },
  {
   "cell_type": "code",
   "execution_count": null,
   "id": "2c4462e8cb6d32f3",
   "metadata": {},
   "outputs": [],
   "source": [
    "randint(1, 6)"
   ]
  }
 ],
 "metadata": {},
 "nbformat": 4,
 "nbformat_minor": 5
}
