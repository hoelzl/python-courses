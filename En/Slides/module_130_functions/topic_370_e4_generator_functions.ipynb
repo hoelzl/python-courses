{
 "cells": [
  {
   "cell_type": "markdown",
   "id": "fdf127268d3f5fbe",
   "metadata": {
    "lang": "en",
    "slideshow": {
     "slide_type": "slide"
    }
   },
   "source": [
    "<img src=\"../../img/python-logo-no-text.svg\"\n",
    "     style=\"display:block;margin:auto;width:10%\"/>\n",
    "<br>\n",
    "<div style=\"text-align:center; font-size:200%;\">\n",
    "  <b>Generator functions and coroutines</b>\n",
    "</div>\n",
    "<br/>\n",
    "<div style=\"text-align:center;\">Dr. Matthias Hölzl</div>\n",
    "<br/>\n",
    "<div style=\"text-align:center;\">module_130_functions/topic_370_e4_generator_functions</div>\n",
    "\n"
   ]
  },
  {
   "cell_type": "markdown",
   "id": "15c69bee9a63a04a",
   "metadata": {
    "lang": "en",
    "slideshow": {
     "slide_type": "slide"
    }
   },
   "source": [
    "## Generator functions\n",
    "\n",
    "More complex cases can no longer be covered by generator expressions.\n",
    "\n",
    "- Generator that generates all numbers (no upper limit)\n",
    "- Generator that modifies an iterable (e.g. executes multiple times, takes a fixed\n",
    "  number of elements)\n",
    "\n",
    "For these cases there are generator functions."
   ]
  },
  {
   "cell_type": "markdown",
   "id": "d4a7654547e37e7f",
   "metadata": {
    "lang": "en",
    "slideshow": {
     "slide_type": "subslide"
    }
   },
   "source": [
    "\n",
    "By using the `yield` keyword a function can \"return multiple times.\" A\n",
    "function that uses `yield` in its body is called a generator function. Simply\n",
    "calling a generator function will not evaluate the function body, instead it\n",
    "will return a *generator* that can return multiple times:"
   ]
  },
  {
   "cell_type": "code",
   "execution_count": null,
   "id": "096358c992deab1f",
   "metadata": {},
   "outputs": [],
   "source": [
    "def integers(start=0):\n",
    "    n = start\n",
    "    while True:\n",
    "        yield n\n",
    "        n += 1"
   ]
  },
  {
   "cell_type": "code",
   "execution_count": null,
   "id": "428b14c43b2d23c6",
   "metadata": {},
   "outputs": [],
   "source": [
    "gen = integers()\n",
    "print(repr(gen))\n",
    "print(repr(iter(gen)))"
   ]
  },
  {
   "cell_type": "code",
   "execution_count": null,
   "id": "f82764b483e787ca",
   "metadata": {
    "slideshow": {
     "slide_type": "subslide"
    }
   },
   "outputs": [],
   "source": [
    "gen = integers()"
   ]
  },
  {
   "cell_type": "code",
   "execution_count": null,
   "id": "4f435d44b650d901",
   "metadata": {},
   "outputs": [],
   "source": [
    "next(gen)"
   ]
  },
  {
   "cell_type": "code",
   "execution_count": null,
   "id": "b588828ed18d5608",
   "metadata": {},
   "outputs": [],
   "source": [
    "next(gen)"
   ]
  },
  {
   "cell_type": "code",
   "execution_count": null,
   "id": "170a96f20223cb17",
   "metadata": {
    "slideshow": {
     "slide_type": "subslide"
    }
   },
   "outputs": [],
   "source": [
    "for i in integers():\n",
    "    if i > 3:\n",
    "        break\n",
    "    print(i, end=\" \")"
   ]
  },
  {
   "cell_type": "markdown",
   "id": "d8c176267fe1349d",
   "metadata": {
    "lang": "en",
    "slideshow": {
     "slide_type": "subslide"
    }
   },
   "source": [
    "\n",
    "## Mini-Workshop\n",
    "\n",
    "Write a generator function `one_based_range(n)` that simulates `range(n)` when\n",
    "used with a single argument but iterates from 1 to `n` inclusive."
   ]
  },
  {
   "cell_type": "code",
   "execution_count": null,
   "id": "d31a5bbdf3a0db34",
   "metadata": {},
   "outputs": [],
   "source": [
    "def one_based_range(n):\n",
    "    for i in range(1, n + 1):\n",
    "        yield i"
   ]
  },
  {
   "cell_type": "code",
   "execution_count": null,
   "id": "ae241c8ae5f92414",
   "metadata": {
    "lines_to_next_cell": 2,
    "tags": [
     "keep"
    ]
   },
   "outputs": [],
   "source": [
    "assert list(one_based_range(4)) == [1, 2, 3, 4]"
   ]
  },
  {
   "cell_type": "markdown",
   "id": "117265d5b57e64eb",
   "metadata": {
    "lang": "en",
    "lines_to_next_cell": 2
   },
   "source": [
    "\n",
    "Write a generator function `inclusive_range()` that simulates the complete\n",
    "functionality of `range()` (i.e., being able to be called with one, two or\n",
    "three arguments) but includes its upper limit.\n",
    "\n",
    "Ensure that your implementation satisfies the provided test cases."
   ]
  },
  {
   "cell_type": "code",
   "execution_count": null,
   "id": "99e0a6cf776ccb68",
   "metadata": {
    "lines_to_next_cell": 1
   },
   "outputs": [],
   "source": [
    "from typing import overload"
   ]
  },
  {
   "cell_type": "code",
   "execution_count": null,
   "id": "e5677eeffa6b4046",
   "metadata": {},
   "outputs": [],
   "source": [
    "@overload\n",
    "def inclusive_range(end):\n",
    "    ...\n",
    "\n",
    "\n",
    "@overload\n",
    "def inclusive_range(begin, end):\n",
    "    ..."
   ]
  },
  {
   "cell_type": "code",
   "execution_count": null,
   "id": "eef71b865f062751",
   "metadata": {},
   "outputs": [],
   "source": [
    "def inclusive_range(begin, end=None, step=1):\n",
    "    if end is None:\n",
    "        end = begin\n",
    "        begin = 1\n",
    "    for i in range(begin, end + 1, step):\n",
    "        yield i"
   ]
  },
  {
   "cell_type": "code",
   "execution_count": null,
   "id": "a891612b6e680ec6",
   "metadata": {},
   "outputs": [],
   "source": [
    "inclusive_range(1)"
   ]
  },
  {
   "cell_type": "code",
   "execution_count": null,
   "id": "6b4e03423667dbb7",
   "metadata": {},
   "outputs": [],
   "source": []
  },
  {
   "cell_type": "code",
   "execution_count": null,
   "id": "6e26424884e6985e",
   "metadata": {
    "tags": [
     "keep"
    ]
   },
   "outputs": [],
   "source": [
    "assert list(inclusive_range(3)) == [1, 2, 3]"
   ]
  },
  {
   "cell_type": "code",
   "execution_count": null,
   "id": "9688db03d124059c",
   "metadata": {
    "tags": [
     "keep"
    ]
   },
   "outputs": [],
   "source": [
    "assert list(inclusive_range(2, 4)) == [2, 3, 4]"
   ]
  },
  {
   "cell_type": "code",
   "execution_count": null,
   "id": "d5c9d209092faae6",
   "metadata": {
    "tags": [
     "keep"
    ]
   },
   "outputs": [],
   "source": [
    "assert list(inclusive_range(2, 2)) == [2]"
   ]
  },
  {
   "cell_type": "code",
   "execution_count": null,
   "id": "ebe128779194f435",
   "metadata": {
    "tags": [
     "keep"
    ]
   },
   "outputs": [],
   "source": [
    "assert list(inclusive_range(2, 1)) == []"
   ]
  },
  {
   "cell_type": "code",
   "execution_count": null,
   "id": "38e5d725dd334f09",
   "metadata": {
    "tags": [
     "keep"
    ]
   },
   "outputs": [],
   "source": [
    "assert list(inclusive_range(2, 6, 2)) == [2, 4, 6]"
   ]
  },
  {
   "cell_type": "markdown",
   "id": "236d574d4b78d08d",
   "metadata": {
    "lang": "en",
    "slideshow": {
     "slide_type": "subslide"
    }
   },
   "source": [
    "\n",
    "We can use generator functions to write functions that process iterators. For\n",
    "example, the `take()` generator function takes a fixed number of values from\n",
    "an iterator:"
   ]
  },
  {
   "cell_type": "code",
   "execution_count": null,
   "id": "caec9f83b6f21672",
   "metadata": {},
   "outputs": [],
   "source": [
    "def take(n, it):\n",
    "    for i in range(n):\n",
    "        yield next(it)"
   ]
  },
  {
   "cell_type": "code",
   "execution_count": null,
   "id": "8366137500aac9c5",
   "metadata": {},
   "outputs": [],
   "source": [
    "list(take(3, integers()))"
   ]
  },
  {
   "cell_type": "markdown",
   "id": "e936c218688ffa52",
   "metadata": {
    "lang": "en",
    "slideshow": {
     "slide_type": "subslide"
    }
   },
   "source": [
    "\n",
    "Note that `drop()` function,  that removes the first `n` elements from an\n",
    "iterator is not a generator function but a regular function:"
   ]
  },
  {
   "cell_type": "code",
   "execution_count": null,
   "id": "032fb12bd5f45d44",
   "metadata": {},
   "outputs": [],
   "source": [
    "def drop(n, it):\n",
    "    for i in range(n):\n",
    "        next(it)\n",
    "    return it"
   ]
  },
  {
   "cell_type": "code",
   "execution_count": null,
   "id": "d45cf2d62fb4dbaa",
   "metadata": {},
   "outputs": [],
   "source": [
    "list(take(3, drop(2, integers())))"
   ]
  },
  {
   "cell_type": "markdown",
   "id": "64944dd16cf4d2f1",
   "metadata": {
    "lang": "en",
    "slideshow": {
     "slide_type": "subslide"
    }
   },
   "source": [
    "\n",
    "Using generator function we can also define more complex iteration operations:"
   ]
  },
  {
   "cell_type": "code",
   "execution_count": null,
   "id": "58fe656a2ba9a8b0",
   "metadata": {},
   "outputs": [],
   "source": [
    "def repeat_n_times(n, it):\n",
    "    for _ in range(n):\n",
    "        for elt in it:\n",
    "            yield elt"
   ]
  },
  {
   "cell_type": "code",
   "execution_count": null,
   "id": "17a842c9917f18da",
   "metadata": {},
   "outputs": [],
   "source": [
    "for num in repeat_n_times(3, range(5)):\n",
    "    print(num, end=\" \")"
   ]
  },
  {
   "cell_type": "code",
   "execution_count": null,
   "id": "81622666745f5b6b",
   "metadata": {},
   "outputs": [],
   "source": [
    "def repeat_n_times_2(n, it):\n",
    "    for _ in range(n):\n",
    "        yield from it"
   ]
  },
  {
   "cell_type": "code",
   "execution_count": null,
   "id": "4944310636da72dd",
   "metadata": {},
   "outputs": [],
   "source": [
    "for num in repeat_n_times_2(3, range(5)):\n",
    "    print(num, end=\" \")"
   ]
  },
  {
   "cell_type": "markdown",
   "id": "5a933daa533180bc",
   "metadata": {
    "lang": "en",
    "slideshow": {
     "slide_type": "subslide"
    }
   },
   "source": [
    "\n",
    "## Mini-workshop \"Generators\"\n",
    "\n",
    "Write a generator  `leaves(tree: Bintree)` that returns all leaves from a binary tree (i.e.,\n",
    "all nodes that are not instances of `Bintree`."
   ]
  },
  {
   "cell_type": "code",
   "execution_count": null,
   "id": "f0a04e10ad00da36",
   "metadata": {
    "tags": [
     "keep"
    ]
   },
   "outputs": [],
   "source": [
    "\n",
    "from dataclasses import dataclass\n",
    "from typing import Optional"
   ]
  },
  {
   "cell_type": "code",
   "execution_count": null,
   "id": "b9663b2b3ad99b67",
   "metadata": {
    "tags": [
     "keep"
    ]
   },
   "outputs": [],
   "source": [
    "@dataclass\n",
    "class Bintree:\n",
    "    value: object = None\n",
    "    left: Optional[\"Bintree\"] = None\n",
    "    right: Optional[\"Bintree\"] = None"
   ]
  },
  {
   "cell_type": "code",
   "execution_count": null,
   "id": "0a2eb4cf999c57a3",
   "metadata": {},
   "outputs": [],
   "source": [
    "def leaves(tree: Bintree):\n",
    "    if tree:\n",
    "        yield from leaves(tree.left)\n",
    "        yield tree.value\n",
    "        yield from leaves(tree.right)"
   ]
  },
  {
   "cell_type": "code",
   "execution_count": null,
   "id": "f60a3974c246b3a5",
   "metadata": {
    "tags": [
     "keep"
    ]
   },
   "outputs": [],
   "source": [
    "tree1 = Bintree(1)\n",
    "tree2 = Bintree(2, Bintree(1), Bintree(3))\n",
    "tree3 = Bintree(\n",
    "    1, Bintree(0), Bintree(3, Bintree(2), Bintree(5, Bintree(4), Bintree(6)))\n",
    ")"
   ]
  },
  {
   "cell_type": "code",
   "execution_count": null,
   "id": "0ed7032175b199f3",
   "metadata": {
    "tags": [
     "keep"
    ]
   },
   "outputs": [],
   "source": [
    "assert tuple(leaves(tree1)) == (1,)"
   ]
  },
  {
   "cell_type": "code",
   "execution_count": null,
   "id": "323c53303f10e990",
   "metadata": {
    "tags": [
     "keep"
    ]
   },
   "outputs": [],
   "source": [
    "assert tuple(leaves(tree2)) == (1, 2, 3)"
   ]
  },
  {
   "cell_type": "code",
   "execution_count": null,
   "id": "e0f4fd948acf68bb",
   "metadata": {
    "lines_to_next_cell": 2,
    "tags": [
     "keep"
    ]
   },
   "outputs": [],
   "source": [
    "assert tuple(leaves(tree3)) == tuple(range(7))"
   ]
  },
  {
   "cell_type": "markdown",
   "id": "6e6d180732307af9",
   "metadata": {
    "lang": "en",
    "slideshow": {
     "slide_type": "slide"
    }
   },
   "source": [
    "\n",
    "# Coroutines\n",
    "\n",
    "`yield` can also be used to return a value to the site where it is invoked. In\n",
    "this case we also use the term *coroutine* for the generator.\n",
    "\n",
    "Coroutines are useful building blocks for features such as cooperative\n",
    "multitasking or event-based programming.\n",
    "\n",
    "To start a coroutine `c` we call the method `c.send(None)`. To send subsequent\n",
    "values we use `c.send(value)`."
   ]
  },
  {
   "cell_type": "code",
   "execution_count": null,
   "id": "b22d5c339c0a4362",
   "metadata": {
    "slideshow": {
     "slide_type": "subslide"
    }
   },
   "outputs": [],
   "source": [
    "def my_coroutine(n):\n",
    "    for i in range(n):\n",
    "        x = yield\n",
    "        print(x)"
   ]
  },
  {
   "cell_type": "code",
   "execution_count": null,
   "id": "433fad7954339b07",
   "metadata": {},
   "outputs": [],
   "source": [
    "c = my_coroutine(3)\n",
    "print(c)"
   ]
  },
  {
   "cell_type": "code",
   "execution_count": null,
   "id": "1d0814627cb80bb1",
   "metadata": {},
   "outputs": [],
   "source": [
    "# Initial value must be `None`\n",
    "c.send(None)"
   ]
  },
  {
   "cell_type": "code",
   "execution_count": null,
   "id": "c24b5e8bb84247c5",
   "metadata": {},
   "outputs": [],
   "source": [
    "c.send(10)"
   ]
  },
  {
   "cell_type": "code",
   "execution_count": null,
   "id": "db80dceb686c3bf1",
   "metadata": {
    "lines_to_next_cell": 2
   },
   "outputs": [],
   "source": [
    "c.send(20)"
   ]
  },
  {
   "cell_type": "code",
   "execution_count": null,
   "id": "79e2a2aada4025d2",
   "metadata": {
    "lines_to_next_cell": 2
   },
   "outputs": [],
   "source": [
    "# c.send(40)"
   ]
  },
  {
   "cell_type": "code",
   "execution_count": null,
   "id": "146600d69fab2e51",
   "metadata": {
    "slideshow": {
     "slide_type": "subslide"
    }
   },
   "outputs": [],
   "source": [
    "def your_coroutine(n):\n",
    "    for i in range(1, n + 1):\n",
    "        x = yield i\n",
    "        print(\"your_coroutine:\", x)"
   ]
  },
  {
   "cell_type": "code",
   "execution_count": null,
   "id": "594fa3c3330c0eeb",
   "metadata": {},
   "outputs": [],
   "source": [
    "c = your_coroutine(3)"
   ]
  },
  {
   "cell_type": "code",
   "execution_count": null,
   "id": "3eb1cecac8bd738d",
   "metadata": {},
   "outputs": [],
   "source": [
    "_x = c.send(None)\n",
    "print(\"top level:\", _x)"
   ]
  },
  {
   "cell_type": "code",
   "execution_count": null,
   "id": "43a40d59bab226e8",
   "metadata": {},
   "outputs": [],
   "source": [
    "try:\n",
    "    while True:\n",
    "        _x = c.send(_x * 10)\n",
    "        print(\"top level:\", _x)\n",
    "except StopIteration:\n",
    "    print(\"Done.\")"
   ]
  },
  {
   "cell_type": "code",
   "execution_count": null,
   "id": "0c6f22bd35779ad3",
   "metadata": {},
   "outputs": [],
   "source": [
    "def counter(max_value):\n",
    "    i = 0\n",
    "    while i < max_value:\n",
    "        val = yield i\n",
    "        if val is not None:\n",
    "            i = val\n",
    "        else:\n",
    "            i += 1"
   ]
  },
  {
   "cell_type": "code",
   "execution_count": null,
   "id": "5f6959e19ba03d65",
   "metadata": {},
   "outputs": [],
   "source": [
    "it = counter(100)"
   ]
  },
  {
   "cell_type": "code",
   "execution_count": null,
   "id": "4c4958a79eb12c59",
   "metadata": {},
   "outputs": [],
   "source": [
    "next(it)"
   ]
  },
  {
   "cell_type": "code",
   "execution_count": null,
   "id": "00d53b26298e4e97",
   "metadata": {},
   "outputs": [],
   "source": [
    "next(it)"
   ]
  },
  {
   "cell_type": "code",
   "execution_count": null,
   "id": "e6ce0ae2c83b4f1c",
   "metadata": {},
   "outputs": [],
   "source": [
    "it.send(98)"
   ]
  },
  {
   "cell_type": "code",
   "execution_count": null,
   "id": "abe8868feedcd7bf",
   "metadata": {},
   "outputs": [],
   "source": [
    "next(it)"
   ]
  },
  {
   "cell_type": "code",
   "execution_count": null,
   "id": "f66c784102974e06",
   "metadata": {},
   "outputs": [],
   "source": [
    "# next(it)"
   ]
  }
 ],
 "metadata": {
  "kernelspec": {
   "display_name": "Python 3 (ipykernel)",
   "language": "python",
   "name": "python3"
  }
 },
 "nbformat": 4,
 "nbformat_minor": 5
}
