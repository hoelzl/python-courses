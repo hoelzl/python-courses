{
 "cells": [
  {
   "cell_type": "markdown",
   "id": "351748b6bbedc456",
   "metadata": {
    "lang": "en",
    "slideshow": {
     "slide_type": "slide"
    }
   },
   "source": [
    "<img src=\"../img/python-logo-no-text.png\"\n",
    "     style=\"display:block;margin:auto;width:10%\"/>\n",
    "<br>\n",
    "<div style=\"text-align:center; font-size:200%;\">\n",
    "  <b>Functions (Part 3)</b>\n",
    "</div>\n",
    "<br/>\n",
    "<div style=\"text-align:center;\">Dr. Matthias Hölzl</div>\n",
    "<br/>\n",
    "<!-- <div style=\"text-align:center;\">module_130_functions/topic_120_b1_functions_part3</div> -->\n",
    "\n"
   ]
  },
  {
   "cell_type": "markdown",
   "id": "226117c9ca416323",
   "metadata": {
    "lang": "en",
    "slideshow": {
     "slide_type": "slide"
    }
   },
   "source": [
    "## Functions without parameters\n",
    "\n",
    "- A function can also be defined without formal parameters.\n",
    "- The parentheses must be used in the definition and in calls."
   ]
  },
  {
   "cell_type": "code",
   "execution_count": null,
   "id": "763313addbf82d53",
   "metadata": {
    "lang": "en",
    "slideshow": {
     "slide_type": "subslide"
    }
   },
   "outputs": [],
   "source": [
    "def zero():\n",
    "    return 0"
   ]
  },
  {
   "cell_type": "code",
   "execution_count": null,
   "id": "9b9c12be232edcf9",
   "metadata": {
    "lang": "en"
   },
   "outputs": [],
   "source": [
    "zero()"
   ]
  },
  {
   "cell_type": "code",
   "execution_count": null,
   "id": "b43773e792b50e07",
   "metadata": {
    "lang": "en"
   },
   "outputs": [],
   "source": [
    "# Error: 'call' without brackets\n",
    "zero"
   ]
  },
  {
   "cell_type": "code",
   "execution_count": null,
   "id": "33d492418d2b49fc",
   "metadata": {
    "lang": "en",
    "lines_to_next_cell": 2
   },
   "outputs": [],
   "source": [
    "# Error: 'call' without parentheses\n",
    "# zero + 1"
   ]
  },
  {
   "cell_type": "markdown",
   "id": "0d974a0a3ddced9f",
   "metadata": {
    "lang": "en",
    "slideshow": {
     "slide_type": "slide"
    }
   },
   "source": [
    "# Functions with side effects\n",
    "\n",
    "Functions can\n",
    "\n",
    "- Calculate values: `round(3.3)`\n",
    "- Have side effects: `print(\"Hans\")`"
   ]
  },
  {
   "cell_type": "code",
   "execution_count": null,
   "id": "0cb7a303c8fa042c",
   "metadata": {},
   "outputs": [],
   "source": [
    "round(3.3)"
   ]
  },
  {
   "cell_type": "code",
   "execution_count": null,
   "id": "eed375fae84acdf9",
   "metadata": {
    "lines_to_next_cell": 1
   },
   "outputs": [],
   "source": [
    "print(\"Hans\")"
   ]
  },
  {
   "cell_type": "markdown",
   "id": "41b50b4b2a5ca91b",
   "metadata": {
    "lang": "en",
    "slideshow": {
     "slide_type": "subslide"
    }
   },
   "source": [
    "\n",
    "This also applies to user-defined functions:"
   ]
  },
  {
   "cell_type": "code",
   "execution_count": null,
   "id": "e1cb3fabb165673f",
   "metadata": {},
   "outputs": [],
   "source": [
    "def add1(x):\n",
    "    return x + 1"
   ]
  },
  {
   "cell_type": "code",
   "execution_count": null,
   "id": "c693faf9de5dc026",
   "metadata": {
    "lines_to_next_cell": 1
   },
   "outputs": [],
   "source": [
    "add1(10)"
   ]
  },
  {
   "cell_type": "code",
   "execution_count": null,
   "id": "a3fd83957972acac",
   "metadata": {},
   "outputs": [],
   "source": [
    "def say_hi(name):\n",
    "    print(\"Hi\", name)"
   ]
  },
  {
   "cell_type": "code",
   "execution_count": null,
   "id": "f05faa4f1b53e112",
   "metadata": {},
   "outputs": [],
   "source": [
    "say_hi(\"John\")"
   ]
  },
  {
   "cell_type": "markdown",
   "id": "110d19bbec7a5966",
   "metadata": {
    "lang": "en",
    "lines_to_next_cell": 0,
    "slideshow": {
     "slide_type": "subslide"
    }
   },
   "source": [
    "### The return value `None`\n",
    "\n",
    "- The return value of the `print()` function is the special value `None`.\n",
    "- This value is not displayed *as a result* by the notebook."
   ]
  },
  {
   "cell_type": "code",
   "execution_count": null,
   "id": "774ec088c4a22336",
   "metadata": {},
   "outputs": [],
   "source": [
    "say_hi(\"Hans\")"
   ]
  },
  {
   "cell_type": "code",
   "execution_count": null,
   "id": "574c49636de14222",
   "metadata": {},
   "outputs": [],
   "source": [
    "x = say_hi(\"Hans\")\n",
    "x is None"
   ]
  },
  {
   "cell_type": "code",
   "execution_count": null,
   "id": "41e84868b4a59129",
   "metadata": {},
   "outputs": [],
   "source": [
    "print(None)"
   ]
  },
  {
   "cell_type": "markdown",
   "id": "491127ff68762724",
   "metadata": {
    "lang": "en",
    "slideshow": {
     "slide_type": "subslide"
    }
   },
   "source": [
    "- Functions can have side effects\n",
    "    - E.g. by calling `print`\n",
    "- These are executed when a function call is evaluated\n",
    "- Even functions with side effects return a value\n",
    "    - Often this is the special value `None`\n",
    "    - If a function returns `None` we don't need an explicit `return` statement"
   ]
  },
  {
   "cell_type": "code",
   "execution_count": null,
   "id": "112a2a033e578724",
   "metadata": {
    "slideshow": {
     "slide_type": "subslide"
    }
   },
   "outputs": [],
   "source": [
    "def say_hello():\n",
    "    print(\"Hello, world!\")\n",
    "    print(\"Today is a great day!\")"
   ]
  },
  {
   "cell_type": "code",
   "execution_count": null,
   "id": "520c0a7e617f83a8",
   "metadata": {},
   "outputs": [],
   "source": [
    "say_hello()"
   ]
  },
  {
   "cell_type": "markdown",
   "id": "84c75d8f2530f04d",
   "metadata": {
    "lang": "en",
    "lines_to_next_cell": 2,
    "slideshow": {
     "slide_type": "subslide"
    }
   },
   "source": [
    "\n",
    "## Mini-workshop: Pirates (Part 2)\n",
    "\n",
    "In a previous task, we calculated the loot split for your pirate crew as\n",
    "follows:\n",
    "\n",
    "- The loot is divided evenly among all pirates. Only whole gold doubloons are\n",
    "  paid out.\n",
    "- The captain receives the rest of the gold doubloons."
   ]
  },
  {
   "cell_type": "markdown",
   "id": "ba60ae5598895d4f",
   "metadata": {
    "lang": "en",
    "slideshow": {
     "slide_type": "subslide"
    }
   },
   "source": [
    "\n",
    "But now your pirate crew is in danger of mutiny because the calculation of the spoils\n",
    "takes too long.\n",
    "\n",
    "Write a function `print_division_of_loot(doubloons, pirates)`,\n",
    "which calculates the split and prints it in the following format:\n",
    "\n",
    "```\n",
    "Pirates: 8\n",
    "Gold Doubloons: 17\n",
    "Each pirate gets: 2 gold doubloon(s)\n",
    "Captain gets extra: 1 gold doubloon(s)\n",
    "```"
   ]
  },
  {
   "cell_type": "code",
   "execution_count": null,
   "id": "f767af32137d2383",
   "metadata": {
    "lang": "en",
    "slideshow": {
     "slide_type": "subslide"
    }
   },
   "outputs": [],
   "source": [
    "def print_division_of_loot(doubloons, pirates):\n",
    "    doubloons_per_pirate = doubloons // pirates\n",
    "    doubloons_captain = doubloons % pirates\n",
    "    print(\"Pirates:\", pirates)\n",
    "    print(\"Gold doubloons:\", doubloons)\n",
    "    print(\"Each pirate gets:\", doubloons_per_pirate, \"gold doubloon(s)\")\n",
    "    print(\"Captain gets extra:\", doubloons_captain, \"gold doubloon(s)\")"
   ]
  },
  {
   "cell_type": "code",
   "execution_count": null,
   "id": "c46a8b3a968ef4e0",
   "metadata": {
    "lang": "en"
   },
   "outputs": [],
   "source": [
    "print_division_of_loot(17, 8)"
   ]
  }
 ],
 "metadata": {},
 "nbformat": 4,
 "nbformat_minor": 5
}
