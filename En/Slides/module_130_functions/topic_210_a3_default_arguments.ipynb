{
 "cells": [
  {
   "cell_type": "markdown",
   "id": "5c92822b7fc9126d",
   "metadata": {
    "lang": "en",
    "slideshow": {
     "slide_type": "slide"
    }
   },
   "source": [
    "<img src=\"../../img/python-logo-no-text.svg\"\n",
    "     style=\"display:block;margin:auto;width:10%\"/>\n",
    "<br>\n",
    "<div style=\"text-align:center; font-size:200%;\">\n",
    "  <b>Default Arguments</b>\n",
    "</div>\n",
    "<br/>\n",
    "<div style=\"text-align:center;\">Dr. Matthias Hölzl</div>\n",
    "<br/>\n",
    "<div style=\"text-align:center;\">module_130_functions/topic_210_a3_default_arguments</div>"
   ]
  },
  {
   "cell_type": "markdown",
   "id": "d6996ccb18f2b5ad",
   "metadata": {
    "lang": "en",
    "lines_to_next_cell": 2,
    "slideshow": {
     "slide_type": "slide"
    }
   },
   "source": [
    "## Default arguments\n",
    "\n",
    "Function parameters can have a default value.\n",
    "- The default value is given with the syntax `parameter=value`\n",
    "- If the corresponding argument is not passed, the default value is used\n",
    "- If a parameter has a default value, all values ​​to the right of it must also have one"
   ]
  },
  {
   "cell_type": "code",
   "execution_count": null,
   "id": "0767f4d5ba55c62b",
   "metadata": {},
   "outputs": [],
   "source": [
    "def say_hi(greeting, name=\"world\", end=\".\"):\n",
    "    print(greeting + \" \" + name + end)"
   ]
  },
  {
   "cell_type": "code",
   "execution_count": null,
   "id": "950b5f9ce0ddee9b",
   "metadata": {},
   "outputs": [],
   "source": [
    "say_hi(\"Hello\")\n",
    "say_hi(\"Hi\", \"Joe\")\n",
    "say_hi(\"What's up\", \"Jane\", \"?\")\n",
    "\n"
   ]
  },
  {
   "cell_type": "markdown",
   "id": "9a3ea598899e7ced",
   "metadata": {
    "lang": "en",
    "slideshow": {
     "slide_type": "slide"
    }
   },
   "source": [
    "## Be careful with variable default arguments"
   ]
  },
  {
   "cell_type": "code",
   "execution_count": null,
   "id": "fee58277f9db2aa6",
   "metadata": {},
   "outputs": [],
   "source": [
    "def append_value(value, my_list=[]):\n",
    "    my_list.append(value)\n",
    "    return my_list"
   ]
  },
  {
   "cell_type": "code",
   "execution_count": null,
   "id": "89ecc4da2d418422",
   "metadata": {},
   "outputs": [],
   "source": [
    "append_value(1)"
   ]
  },
  {
   "cell_type": "code",
   "execution_count": null,
   "id": "8cc5313a9fc1571a",
   "metadata": {},
   "outputs": [],
   "source": [
    "append_value(2)"
   ]
  },
  {
   "cell_type": "markdown",
   "id": "ae09358010022420",
   "metadata": {
    "lang": "en",
    "slideshow": {
     "slide_type": "slide"
    }
   },
   "source": [
    "Solution: use `Null` as argument, create a new list in each call"
   ]
  },
  {
   "cell_type": "code",
   "execution_count": null,
   "id": "c3a2f21474bbf99b",
   "metadata": {},
   "outputs": [],
   "source": [
    "def append_value(value, my_list=None):\n",
    "    if my_list is None:\n",
    "        my_list = []\n",
    "    my_list.append(value)\n",
    "    return my_list"
   ]
  },
  {
   "cell_type": "code",
   "execution_count": null,
   "id": "611f8032db9227d4",
   "metadata": {},
   "outputs": [],
   "source": [
    "append_value(1)"
   ]
  },
  {
   "cell_type": "code",
   "execution_count": null,
   "id": "2ead8e7afc359d58",
   "metadata": {},
   "outputs": [],
   "source": [
    "append_value(2)"
   ]
  }
 ],
 "metadata": {
  "kernelspec": {
   "display_name": "Python 3 (ipykernel)",
   "language": "python",
   "name": "python3"
  }
 },
 "nbformat": 4,
 "nbformat_minor": 5
}
