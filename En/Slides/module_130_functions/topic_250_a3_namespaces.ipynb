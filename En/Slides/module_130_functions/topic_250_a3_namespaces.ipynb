{
 "cells": [
  {
   "cell_type": "markdown",
   "id": "5a94594eb907a6e8",
   "metadata": {
    "lang": "en",
    "lines_to_next_cell": 2,
    "slideshow": {
     "slide_type": "slide"
    }
   },
   "source": [
    "<img src=\"../img/python-logo-no-text.png\"\n",
    "     style=\"display:block;margin:auto;width:10%\"/>\n",
    "<br>\n",
    "<div style=\"text-align:center; font-size:200%;\">\n",
    "  <b>Namespaces</b>\n",
    "</div>\n",
    "<br/>\n",
    "<div style=\"text-align:center;\">Dr. Matthias Hölzl</div>\n",
    "<br/>\n",
    "<!-- <div style=\"text-align:center;\">module_130_functions/topic_250_a3_namespaces</div> -->"
   ]
  },
  {
   "cell_type": "markdown",
   "id": "e1ac59c4869a91e6",
   "metadata": {
    "lang": "en",
    "slideshow": {
     "slide_type": "slide"
    }
   },
   "source": [
    "# Namespaces\n",
    "\n",
    "Variables and function names exist in a *namespace*.\n",
    "\n",
    "- Global variables and function names are in the global namespace.\n",
    "- Names imported with `import` exist in the imported namespace.\n",
    "- Names defined within a function are in that function's namespace.\n",
    "    - parameters\n",
    "    - local variables\n",
    "\n",
    "A function's namespace \"disappears\" at the end of the body."
   ]
  },
  {
   "cell_type": "code",
   "execution_count": null,
   "id": "c415aec405dc6d8e",
   "metadata": {
    "slideshow": {
     "slide_type": "subslide"
    },
    "tags": [
     "keep"
    ]
   },
   "outputs": [],
   "source": [
    "# Ohne Angabe der Namensräume, siehe nächste Folie\n",
    "# fmt: off\n",
    "a = 1\n",
    "\n",
    "def f(x):\n",
    "    # print(a) # Was passiert, wenn diese Zeile einkommentiert wird?\n",
    "    a = x + 1\n",
    "    print(a)\n",
    "\n",
    "f(2)\n",
    "print(a)\n",
    "# print(x)\n",
    "# fmt: on"
   ]
  },
  {
   "cell_type": "code",
   "execution_count": null,
   "id": "74002859de3624f1",
   "metadata": {
    "slideshow": {
     "slide_type": "subslide"
    },
    "tags": [
     "keep"
    ]
   },
   "outputs": [],
   "source": [
    "# fmt: off\n",
    "a = 1         # Globaler Namespace\n",
    "\n",
    "def f(x):     # Namespace von f - x ist im globalen Namespace *nicht* sichtbar\n",
    "    a = x + 1 # Namespace von f - a ist im globalen Namespace *nicht* sichtbar\n",
    "    print(a)  # Greift auf a aus dem Namespace von f zu\n",
    "\n",
    "f(2)\n",
    "print(a)      # Greift auf a aus dem globalen Namespace zu\n",
    "# print(x)    # Fehler: x ist im Namespace von f\n",
    "# fmt: on"
   ]
  },
  {
   "cell_type": "code",
   "execution_count": null,
   "id": "852a1c698396d0c5",
   "metadata": {
    "slideshow": {
     "slide_type": "subslide"
    },
    "tags": [
     "keep"
    ]
   },
   "outputs": [],
   "source": [
    "# fmt: off\n",
    "a = 1\n",
    "\n",
    "def f2(x):\n",
    "    global a\n",
    "    a = x + 1\n",
    "    print(a)\n",
    "\n",
    "f2(2)\n",
    "print(a)\n",
    "a = 5\n",
    "print(a)\n",
    "# fmt: on"
   ]
  },
  {
   "cell_type": "code",
   "execution_count": null,
   "id": "5f2ac645b6d18190",
   "metadata": {},
   "outputs": [],
   "source": [
    "from dis import dis"
   ]
  },
  {
   "cell_type": "code",
   "execution_count": null,
   "id": "a4388c67115eb98d",
   "metadata": {},
   "outputs": [],
   "source": [
    "dis(f)"
   ]
  },
  {
   "cell_type": "code",
   "execution_count": null,
   "id": "1f34e3072ebf05ac",
   "metadata": {},
   "outputs": [],
   "source": [
    "dis(f2)"
   ]
  },
  {
   "cell_type": "code",
   "execution_count": null,
   "id": "715f623dcaa8b733",
   "metadata": {
    "lines_to_next_cell": 1
   },
   "outputs": [],
   "source": [
    "# fmt: off\n",
    "a = 1\n",
    "\n",
    "def f_broken():\n",
    "    # noinspection PyUnresolvedReferences\n",
    "    print(a)\n",
    "    a = 2\n",
    "# fmt: on"
   ]
  },
  {
   "cell_type": "code",
   "execution_count": null,
   "id": "81e07f5411c02ac9",
   "metadata": {},
   "outputs": [],
   "source": [
    "# f_broken()"
   ]
  },
  {
   "cell_type": "code",
   "execution_count": null,
   "id": "64c2540f4a8bcdcd",
   "metadata": {},
   "outputs": [],
   "source": [
    "dis(f_broken)"
   ]
  },
  {
   "cell_type": "markdown",
   "id": "11143473f50016bf",
   "metadata": {
    "lang": "en",
    "slideshow": {
     "slide_type": "subslide"
    }
   },
   "source": [
    "\n",
    "*Note:* In Python bodies of `if` and `for` statements do not introduce a\n",
    "nested namespaces; variables defined in these bodies belong to the surrounding\n",
    "namespace."
   ]
  },
  {
   "cell_type": "code",
   "execution_count": null,
   "id": "9ed29aa7741f6087",
   "metadata": {},
   "outputs": [],
   "source": [
    "if True:\n",
    "    x = 123"
   ]
  },
  {
   "cell_type": "code",
   "execution_count": null,
   "id": "9b3d66dc43fae5fc",
   "metadata": {},
   "outputs": [],
   "source": [
    "print(x)"
   ]
  },
  {
   "cell_type": "code",
   "execution_count": null,
   "id": "ab0e6670acf3e36c",
   "metadata": {},
   "outputs": [],
   "source": [
    "for my_index in range(3):\n",
    "    y = my_index"
   ]
  },
  {
   "cell_type": "code",
   "execution_count": null,
   "id": "cdf1cfa9b29c8a31",
   "metadata": {},
   "outputs": [],
   "source": [
    "print(my_index)\n",
    "print(y)"
   ]
  }
 ],
 "metadata": {
  "kernelspec": {
   "display_name": "Python 3 (ipykernel)",
   "language": "python",
   "name": "python3"
  }
 },
 "nbformat": 4,
 "nbformat_minor": 5
}
