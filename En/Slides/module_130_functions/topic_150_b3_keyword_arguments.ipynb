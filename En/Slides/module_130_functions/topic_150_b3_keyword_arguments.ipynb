{
 "cells": [
  {
   "cell_type": "markdown",
   "id": "9d774b775352134b",
   "metadata": {
    "lang": "en",
    "lines_to_next_cell": 2,
    "slideshow": {
     "slide_type": "slide"
    }
   },
   "source": [
    "<img src=\"../img/python-logo-no-text.png\"\n",
    "     style=\"display:block;margin:auto;width:10%\"/>\n",
    "<br>\n",
    "<div style=\"text-align:center; font-size:200%;\">\n",
    "  <b>Keyword Arguments</b>\n",
    "</div>\n",
    "<br/>\n",
    "<div style=\"text-align:center;\">Dr. Matthias Hölzl</div>\n",
    "<br/>\n",
    "<!-- <div style=\"text-align:center;\">module_130_functions/topic_150_b3_keyword_arguments</div> -->"
   ]
  },
  {
   "cell_type": "markdown",
   "id": "9800442502320262",
   "metadata": {
    "lang": "en",
    "slideshow": {
     "slide_type": "slide"
    }
   },
   "source": [
    "## Calls with named arguments\n",
    "\n",
    "When calling a function, arguments can be associated with a parameter name by writing\n",
    "them in the form `parameter=value`.\n",
    "\n",
    "- The value is then substituted for the corresponding parameter\n",
    "- Named arguments must come after positional arguments\n",
    "- If all arguments are named, the call becomes independent of the parameter order"
   ]
  },
  {
   "cell_type": "code",
   "execution_count": null,
   "id": "0767f4d5ba55c62b",
   "metadata": {},
   "outputs": [],
   "source": [
    "def say_hi(greeting, name=\"world\", end=\".\"):\n",
    "    print(greeting + \" \" + name + end)"
   ]
  },
  {
   "cell_type": "code",
   "execution_count": null,
   "id": "093827ad731a7115",
   "metadata": {},
   "outputs": [],
   "source": [
    "say_hi(\"Hello\", end=\"!\")\n",
    "say_hi(name=\"Jill\", greeting=\"Howdy\")"
   ]
  }
 ],
 "metadata": {},
 "nbformat": 4,
 "nbformat_minor": 5
}
