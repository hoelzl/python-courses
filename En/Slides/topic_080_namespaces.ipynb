{
 "cells": [
  {
   "cell_type": "markdown",
   "id": "b6b04a7c",
   "metadata": {
    "lang": "en",
    "slideshow": {
     "slide_type": "slide"
    }
   },
   "source": [
    "<img src=\"img/python-logo-notext.svg\"\n",
    "     style=\"display:block;margin:auto;width:10%\"/>\n",
    "<br>\n",
    "<div style=\"text-align:center; font-size:200%;\"><b>Namespaces</b></div>\n",
    "<br/>\n",
    "<div style=\"text-align:center;\">Dr. Matthias Hölzl</div>"
   ]
  },
  {
   "cell_type": "markdown",
   "id": "da7d3959",
   "metadata": {
    "lang": "en",
    "slideshow": {
     "slide_type": "slide"
    }
   },
   "source": [
    "# Namespaces\n",
    "\n",
    "Variables and function names exist in a *namespace*.\n",
    "\n",
    "- Global variables and function names are in the global namespace.\n",
    "- Names imported with `import` exist in the imported namespace.\n",
    "- Names defined within a function are in that function's namespace.\n",
    "    - parameters\n",
    "    - local variables\n",
    "\n",
    "A function's namespace \"disappears\" at the end of the body."
   ]
  },
  {
   "cell_type": "code",
   "execution_count": null,
   "id": "99ebecf0",
   "metadata": {
    "slideshow": {
     "slide_type": "subslide"
    },
    "tags": [
     "keep"
    ]
   },
   "outputs": [],
   "source": [
    "# Ohne Angabe der Namensräume, siehe nächste Folie\n",
    "# fmt: off\n",
    "a = 1\n",
    "\n",
    "def f(x):\n",
    "    # print(a) # Was passiert, wenn diese Zeile einkommentiert wird?\n",
    "    a = x + 1\n",
    "    print(a)\n",
    "\n",
    "f(2)\n",
    "print(a)\n",
    "# print(x)"
   ]
  },
  {
   "cell_type": "code",
   "execution_count": null,
   "id": "0eaa8c20",
   "metadata": {
    "slideshow": {
     "slide_type": "subslide"
    },
    "tags": [
     "keep"
    ]
   },
   "outputs": [],
   "source": [
    "# fmt: off\n",
    "a = 1         # Globaler Namespace\n",
    "\n",
    "def f(x):     # Namespace von f - x ist im globalen Namespace *nicht* sichtbar\n",
    "    a = x + 1 # Namespace von f - a ist im globalen Namespace *nicht* sichtbar\n",
    "    print(a)  # Greift auf a aus dem Namespace von f zu\n",
    "\n",
    "f(2)\n",
    "print(a)      # Greift auf a aus dem globalen Namespace zu\n",
    "# print(x)    # Fehler: x ist im Namespace von f\n",
    "# fmt: on"
   ]
  },
  {
   "cell_type": "code",
   "execution_count": null,
   "id": "a69a5c0f",
   "metadata": {
    "slideshow": {
     "slide_type": "subslide"
    },
    "tags": [
     "keep"
    ]
   },
   "outputs": [],
   "source": [
    "# fmt: off\n",
    "a = 1\n",
    "\n",
    "def f2(x):\n",
    "    global a\n",
    "    a = x + 1\n",
    "    print(a)\n",
    "\n",
    "f2(2)\n",
    "print(a)\n",
    "a = 5\n",
    "print(a)\n",
    "# fmt: on"
   ]
  },
  {
   "cell_type": "code",
   "execution_count": null,
   "id": "2eb7012e",
   "metadata": {},
   "outputs": [],
   "source": [
    "from dis import dis"
   ]
  },
  {
   "cell_type": "code",
   "execution_count": null,
   "id": "7f54f587",
   "metadata": {},
   "outputs": [],
   "source": [
    "dis(f)"
   ]
  },
  {
   "cell_type": "code",
   "execution_count": null,
   "id": "e1efbea9",
   "metadata": {},
   "outputs": [],
   "source": [
    "dis(f2)"
   ]
  },
  {
   "cell_type": "code",
   "execution_count": null,
   "id": "9beb82da",
   "metadata": {
    "lines_to_next_cell": 1
   },
   "outputs": [],
   "source": [
    "# fmt: off\n",
    "a = 1\n",
    "\n",
    "def f_broken():\n",
    "    # noinspection PyUnresolvedReferences\n",
    "    print(a)\n",
    "    a = 2\n",
    "# fmt: on"
   ]
  },
  {
   "cell_type": "code",
   "execution_count": null,
   "id": "f3242da0",
   "metadata": {
    "tags": [
     "keep"
    ]
   },
   "outputs": [],
   "source": [
    "# f_broken()"
   ]
  },
  {
   "cell_type": "code",
   "execution_count": null,
   "id": "86df2631",
   "metadata": {},
   "outputs": [],
   "source": [
    "dis(f_broken)"
   ]
  },
  {
   "cell_type": "markdown",
   "id": "17de2d4c",
   "metadata": {
    "lang": "en",
    "slideshow": {
     "slide_type": "slide"
    }
   },
   "source": [
    "## Closures\n",
    "\n",
    "In Python it is possible to define functions inside other functions. The inner functions can access the variables of the outer function."
   ]
  },
  {
   "cell_type": "code",
   "execution_count": null,
   "id": "2d79a368",
   "metadata": {
    "slideshow": {
     "slide_type": "subslide"
    }
   },
   "outputs": [],
   "source": [
    "def make_closure_1():\n",
    "    from random import randint\n",
    "\n",
    "    initial_value = randint(1, 10)\n",
    "\n",
    "    def read_value():\n",
    "        return initial_value\n",
    "\n",
    "    return read_value()"
   ]
  },
  {
   "cell_type": "code",
   "execution_count": null,
   "id": "10f0a5ec",
   "metadata": {},
   "outputs": [],
   "source": [
    "make_closure_1()"
   ]
  },
  {
   "cell_type": "code",
   "execution_count": null,
   "id": "c103cfa2",
   "metadata": {},
   "outputs": [],
   "source": [
    "dis(make_closure_1)"
   ]
  },
  {
   "cell_type": "code",
   "execution_count": null,
   "id": "2181bb80",
   "metadata": {
    "slideshow": {
     "slide_type": "subslide"
    }
   },
   "outputs": [],
   "source": [
    "def make_closure_2():\n",
    "    from random import randint\n",
    "\n",
    "    initial_value = randint(1, 10)\n",
    "\n",
    "    def read_value():\n",
    "        return initial_value\n",
    "\n",
    "    return read_value"
   ]
  },
  {
   "cell_type": "code",
   "execution_count": null,
   "id": "ba895fb9",
   "metadata": {},
   "outputs": [],
   "source": [
    "make_closure_2()"
   ]
  },
  {
   "cell_type": "code",
   "execution_count": null,
   "id": "9689c3ba",
   "metadata": {},
   "outputs": [],
   "source": [
    "dis(make_closure_2)"
   ]
  },
  {
   "cell_type": "code",
   "execution_count": null,
   "id": "a7f93507",
   "metadata": {},
   "outputs": [],
   "source": [
    "reader = make_closure_2()\n",
    "reader()"
   ]
  },
  {
   "cell_type": "code",
   "execution_count": null,
   "id": "9b309b9b",
   "metadata": {
    "slideshow": {
     "slide_type": "subslide"
    }
   },
   "outputs": [],
   "source": [
    "def make_mean_fun_1():\n",
    "    values: list[int] = []\n",
    "\n",
    "    def compute_mean(new_value: int):\n",
    "        values.append(new_value)\n",
    "        return sum(values) / len(values)\n",
    "\n",
    "    return compute_mean"
   ]
  },
  {
   "cell_type": "code",
   "execution_count": null,
   "id": "2fabfe58",
   "metadata": {},
   "outputs": [],
   "source": [
    "my_mean = make_mean_fun_1()\n",
    "your_mean = make_mean_fun_1()"
   ]
  },
  {
   "cell_type": "code",
   "execution_count": null,
   "id": "733a74f2",
   "metadata": {},
   "outputs": [],
   "source": [
    "print(my_mean(10))\n",
    "print(my_mean(20))\n",
    "print(your_mean(1))\n",
    "print(your_mean(2))\n",
    "print(my_mean(30))"
   ]
  },
  {
   "cell_type": "code",
   "execution_count": null,
   "id": "b6a59802",
   "metadata": {
    "slideshow": {
     "slide_type": "subslide"
    }
   },
   "outputs": [],
   "source": [
    "def make_mean_fun_2():\n",
    "    sum_of_values: int = 0\n",
    "    num_values: int = 0\n",
    "\n",
    "    def compute_mean(new_value: int):\n",
    "        nonlocal sum_of_values, num_values\n",
    "        sum_of_values += new_value\n",
    "        num_values += 1\n",
    "        return sum_of_values / num_values\n",
    "\n",
    "    return compute_mean"
   ]
  },
  {
   "cell_type": "code",
   "execution_count": null,
   "id": "ae0d0895",
   "metadata": {},
   "outputs": [],
   "source": [
    "my_mean = make_mean_fun_2()\n",
    "your_mean = make_mean_fun_2()"
   ]
  },
  {
   "cell_type": "code",
   "execution_count": null,
   "id": "7cdb4b22",
   "metadata": {
    "lines_to_next_cell": 2
   },
   "outputs": [],
   "source": [
    "print(my_mean(10))\n",
    "print(my_mean(20))\n",
    "print(your_mean(1))\n",
    "print(your_mean(2))\n",
    "print(my_mean(30))"
   ]
  },
  {
   "cell_type": "code",
   "execution_count": null,
   "id": "34209e56",
   "metadata": {},
   "outputs": [],
   "source": [
    "dis(make_mean_fun_2)"
   ]
  },
  {
   "cell_type": "markdown",
   "id": "638be5a6",
   "metadata": {
    "lang": "en",
    "slideshow": {
     "slide_type": "subslide"
    }
   },
   "source": [
    "## Avoiding long-running calculations in notebooks:\n",
    "\n",
    "**Warning!** Hack!!!\n",
    "Sometimes helpful, but also a big source of errors!"
   ]
  },
  {
   "cell_type": "code",
   "execution_count": null,
   "id": "941d4d3b",
   "metadata": {},
   "outputs": [],
   "source": [
    "def slow_computation():\n",
    "    import time\n",
    "\n",
    "    # Increase this before demonstration!\n",
    "    time.sleep(0.1)\n",
    "    return 1"
   ]
  },
  {
   "cell_type": "code",
   "execution_count": null,
   "id": "12aed273",
   "metadata": {},
   "outputs": [],
   "source": [
    "\"slow_value\" in globals()"
   ]
  },
  {
   "cell_type": "code",
   "execution_count": null,
   "id": "401e1ac2",
   "metadata": {},
   "outputs": [],
   "source": [
    "slow_value = slow_computation()"
   ]
  },
  {
   "cell_type": "code",
   "execution_count": null,
   "id": "16f0075b",
   "metadata": {},
   "outputs": [],
   "source": [
    "\"slow_value\" in globals()"
   ]
  },
  {
   "cell_type": "code",
   "execution_count": null,
   "id": "2547302f",
   "metadata": {},
   "outputs": [],
   "source": [
    "del slow_value"
   ]
  },
  {
   "cell_type": "code",
   "execution_count": null,
   "id": "2456866b",
   "metadata": {},
   "outputs": [],
   "source": [
    "\"slow_value\" in globals()"
   ]
  },
  {
   "cell_type": "code",
   "execution_count": null,
   "id": "f50ad345",
   "metadata": {},
   "outputs": [],
   "source": [
    "if \"slow_value\" not in globals():\n",
    "    slow_value = slow_computation()"
   ]
  },
  {
   "cell_type": "code",
   "execution_count": null,
   "id": "f36c02f3",
   "metadata": {},
   "outputs": [],
   "source": [
    "if \"slow_value\" not in globals():\n",
    "    slow_value = slow_computation()"
   ]
  },
  {
   "cell_type": "code",
   "execution_count": null,
   "id": "28168895",
   "metadata": {
    "tags": [
     "keep"
    ]
   },
   "outputs": [],
   "source": []
  }
 ],
 "metadata": {
  "kernelspec": {
   "display_name": "Python 3 (ipykernel)",
   "language": "python",
   "name": "python3"
  }
 },
 "nbformat": 4,
 "nbformat_minor": 5
}
