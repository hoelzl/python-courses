{
 "cells": [
  {
   "cell_type": "markdown",
   "id": "dac28a6e",
   "metadata": {
    "lang": "en",
    "lines_to_next_cell": 2,
    "slideshow": {
     "slide_type": "slide"
    }
   },
   "source": [
    "<img src=\"img/python-logo-notext.svg\"\n",
    "     style=\"display:block;margin:auto;width:10%\"/>\n",
    "<br>\n",
    "<div style=\"text-align:center; font-size:200%;\"><b>Modules and Packages</b></div>\n",
    "<br/>\n",
    "<div style=\"text-align:center;\">Dr. Matthias Hölzl</div>"
   ]
  },
  {
   "cell_type": "markdown",
   "id": "66335f1d",
   "metadata": {
    "lang": "en",
    "slideshow": {
     "slide_type": "slide"
    }
   },
   "source": [
    "- The Python interpreter provides only a small part of the functionality needed for most\n",
    "  programs:\n",
    "  - No interaction with the operating system\n",
    "  - No network functionality\n",
    "  - No GUI\n",
    "  - ...\n",
    "- Additional functionality can be loaded using *modules* and *packages*."
   ]
  },
  {
   "cell_type": "code",
   "execution_count": null,
   "id": "b4ed6500",
   "metadata": {
    "lines_to_next_cell": 2,
    "slideshow": {
     "slide_type": "subslide"
    }
   },
   "outputs": [],
   "source": [
    "# Importieren eines Moduls/Packages\n",
    "import os"
   ]
  },
  {
   "cell_type": "code",
   "execution_count": null,
   "id": "d409d803",
   "metadata": {
    "lines_to_next_cell": 2
   },
   "outputs": [],
   "source": [
    "# Verwenden der Funktionalität\n",
    "os.getcwd()"
   ]
  },
  {
   "cell_type": "markdown",
   "id": "be200bee",
   "metadata": {
    "lang": "en",
    "slideshow": {
     "slide_type": "subslide"
    }
   },
   "source": [
    "Python provides many standard modules that are installed with the interpreter:\n",
    "\n",
    " - abc: Abstract base classes\n",
    " - argparse: command line arguments\n",
    " - asyncio: Asynchronous programming\n",
    " - collections: container data types\n",
    " - ...\n",
    "\n",
    " [Here](https://docs.python.org/3/py-modindex.html) is a more complete list."
   ]
  },
  {
   "cell_type": "code",
   "execution_count": null,
   "id": "c9ab1dfb",
   "metadata": {
    "lines_to_next_cell": 2
   },
   "outputs": [],
   "source": [
    "import os\n",
    "\n",
    "{\"num-cpus\": os.cpu_count(), \"pid\": os.getpid()}"
   ]
  },
  {
   "cell_type": "code",
   "execution_count": null,
   "id": "ac882bd0",
   "metadata": {
    "lines_to_next_cell": 2
   },
   "outputs": [],
   "source": [
    "import ast\n",
    "\n",
    "ast.dump(ast.parse(\"print(123)\"), False)"
   ]
  },
  {
   "cell_type": "markdown",
   "id": "5cf627d4",
   "metadata": {
    "lang": "en",
    "slideshow": {
     "slide_type": "subslide"
    }
   },
   "source": [
    "## User-defined modules\n",
    "\n",
    "A user-defined module is simply a file containing Python code.\n",
    "\n",
    "As we have already seen:\n",
    "- If a Python module is in the search path, it can be loaded with `import`.\n",
    "- Jupyter notebooks cannot be loaded (without additional packages) as modules."
   ]
  },
  {
   "cell_type": "code",
   "execution_count": null,
   "id": "f94eed15",
   "metadata": {
    "lines_to_next_cell": 2,
    "slideshow": {
     "slide_type": "subslide"
    }
   },
   "outputs": [],
   "source": [
    "# Welche Python-Dateien gibt es im aktuellen Verzeichnis?\n",
    "for filename in os.listdir(os.getcwd()):\n",
    "    if filename[-3:] == \".py\":\n",
    "        print(filename)"
   ]
  },
  {
   "cell_type": "code",
   "execution_count": null,
   "id": "9fe208e4",
   "metadata": {
    "lines_to_next_cell": 2,
    "tags": [
     "keep"
    ]
   },
   "outputs": [],
   "source": [
    "# Anzeigen des Quellcodes von `my_test_module.py`\n",
    "# %pycat my_test_module.py"
   ]
  },
  {
   "cell_type": "code",
   "execution_count": null,
   "id": "a36224de",
   "metadata": {
    "lines_to_next_cell": 2
   },
   "outputs": [],
   "source": [
    "# Andere Möglichkeit, den Inhalt von `my_test_module.py` anzuzeigen.\n",
    "with open(\"my_test_module.py\", \"r\") as file:\n",
    "    text = file.read()\n",
    "\n",
    "print(text)"
   ]
  },
  {
   "cell_type": "code",
   "execution_count": null,
   "id": "95417822",
   "metadata": {
    "lines_to_next_cell": 2,
    "tags": [
     "keep"
    ]
   },
   "outputs": [],
   "source": [
    "# Top-level code wird ausgeführt"
   ]
  },
  {
   "cell_type": "code",
   "execution_count": null,
   "id": "916e485e",
   "metadata": {
    "lines_to_next_cell": 2,
    "tags": [
     "keep"
    ]
   },
   "outputs": [],
   "source": [
    "# get_ipython().run_line_magic('load_ext', 'autoreload')\n",
    "# get_ipython().run_line_magic('autoreload', '2')"
   ]
  },
  {
   "cell_type": "code",
   "execution_count": null,
   "id": "6d97e029",
   "metadata": {
    "lines_to_next_cell": 2
   },
   "outputs": [],
   "source": [
    "# Top-level code wird NICHT mehr ausgeführt\n",
    "import my_test_module"
   ]
  },
  {
   "cell_type": "code",
   "execution_count": null,
   "id": "2a565f45",
   "metadata": {
    "lines_to_next_cell": 2
   },
   "outputs": [],
   "source": [
    "my_test_module.add1(2)"
   ]
  },
  {
   "cell_type": "code",
   "execution_count": null,
   "id": "8a80066b",
   "metadata": {
    "lines_to_next_cell": 2
   },
   "outputs": [],
   "source": [
    "# add1"
   ]
  },
  {
   "cell_type": "code",
   "execution_count": null,
   "id": "91135fac",
   "metadata": {},
   "outputs": [],
   "source": [
    "import my_test_module as mm"
   ]
  },
  {
   "cell_type": "code",
   "execution_count": null,
   "id": "4e291269",
   "metadata": {
    "lines_to_next_cell": 2
   },
   "outputs": [],
   "source": [
    "mm.add1(1)"
   ]
  },
  {
   "cell_type": "code",
   "execution_count": null,
   "id": "2303db02",
   "metadata": {
    "lines_to_next_cell": 2
   },
   "outputs": [],
   "source": [
    "mm.perform_complex_computation(17)"
   ]
  },
  {
   "cell_type": "code",
   "execution_count": null,
   "id": "6fdac8f2",
   "metadata": {
    "lines_to_next_cell": 2
   },
   "outputs": [],
   "source": [
    "from my_test_module import multiply_by_2"
   ]
  },
  {
   "cell_type": "code",
   "execution_count": null,
   "id": "f2e8fdd7",
   "metadata": {
    "lines_to_next_cell": 2
   },
   "outputs": [],
   "source": [
    "multiply_by_2(2)"
   ]
  },
  {
   "cell_type": "code",
   "execution_count": null,
   "id": "74533da1",
   "metadata": {
    "lines_to_next_cell": 2
   },
   "outputs": [],
   "source": [
    "from my_test_module import multiply_by_2 as mult2"
   ]
  },
  {
   "cell_type": "code",
   "execution_count": null,
   "id": "ed32483d",
   "metadata": {
    "lines_to_next_cell": 2
   },
   "outputs": [],
   "source": [
    "mult2(4)"
   ]
  },
  {
   "cell_type": "code",
   "execution_count": null,
   "id": "6eabe9b5",
   "metadata": {
    "lines_to_next_cell": 2
   },
   "outputs": [],
   "source": [
    "# Im Regelfall besser vermeiden:\n",
    "from my_test_module import *"
   ]
  },
  {
   "cell_type": "code",
   "execution_count": null,
   "id": "6167cfb5",
   "metadata": {
    "lines_to_next_cell": 2
   },
   "outputs": [],
   "source": [
    "multiply_by_2(3)"
   ]
  },
  {
   "cell_type": "code",
   "execution_count": null,
   "id": "5ac003af",
   "metadata": {
    "lines_to_next_cell": 2
   },
   "outputs": [],
   "source": [
    "add1(3)"
   ]
  },
  {
   "cell_type": "code",
   "execution_count": null,
   "id": "3f9ae7ac",
   "metadata": {
    "lines_to_next_cell": 2
   },
   "outputs": [],
   "source": [
    "# Anzeigen aller definierten Namen:\n",
    "dir(my_test_module)"
   ]
  },
  {
   "cell_type": "code",
   "execution_count": null,
   "id": "19e102c8",
   "metadata": {
    "lines_to_next_cell": 2
   },
   "outputs": [],
   "source": [
    "[name for name in dir(my_test_module) if name[0] != \"_\"]"
   ]
  },
  {
   "cell_type": "markdown",
   "id": "7f2f09e3",
   "metadata": {
    "lang": "en",
    "slideshow": {
     "slide_type": "subslide"
    }
   },
   "source": [
    "## Example: `HttpServer`\n",
    "\n",
    "The Python interpreter does not have a built-in HTTP server. Using the\n",
    "standard library, it is not difficult to write one."
   ]
  },
  {
   "cell_type": "markdown",
   "id": "d20dc3d9",
   "metadata": {
    "lang": "en",
    "slideshow": {
     "slide_type": "subslide"
    }
   },
   "source": [
    "### Example: `ModuleTest`\n",
    "\n",
    "The `ModuleTest` example shows how a program can be composed of several modules."
   ]
  },
  {
   "cell_type": "code",
   "execution_count": null,
   "id": "6ac8008c",
   "metadata": {
    "lines_to_next_cell": 2,
    "tags": [
     "keep"
    ]
   },
   "outputs": [],
   "source": [
    "__name__"
   ]
  },
  {
   "cell_type": "markdown",
   "id": "ccdd758f",
   "metadata": {
    "lang": "en",
    "slideshow": {
     "slide_type": "slide"
    }
   },
   "source": [
    "## Packages\n",
    "\n",
    "- Packages are a method to structure modules in a hierarchy: `a.b.c`, `a.b.x`\n",
    "- A package is a combination of several modules\n",
    "- `b` is subpackage of `a`, `c` and `x` are submodules of `b`"
   ]
  },
  {
   "cell_type": "code",
   "execution_count": null,
   "id": "bd2094e4",
   "metadata": {
    "lines_to_next_cell": 2
   },
   "outputs": [],
   "source": [
    "from html.parser import HTMLParser\n",
    "import html.entities"
   ]
  },
  {
   "cell_type": "code",
   "execution_count": null,
   "id": "b7d3f084",
   "metadata": {
    "lines_to_next_cell": 2
   },
   "outputs": [],
   "source": [
    "HTMLParser()"
   ]
  },
  {
   "cell_type": "code",
   "execution_count": null,
   "id": "b4fc9703",
   "metadata": {
    "lines_to_next_cell": 2
   },
   "outputs": [],
   "source": [
    "html.entities.entitydefs[\"Psi\"]"
   ]
  },
  {
   "cell_type": "markdown",
   "id": "a9e226c2",
   "metadata": {
    "lang": "en",
    "slideshow": {
     "slide_type": "subslide"
    }
   },
   "source": [
    "### Structure of packages\n",
    "\n",
    "- Hierarchy comprised of directories and Python files\n",
    "  - E.g. directory `html` with subdirectories `parser`, `entities`\n",
    "- Requires a `__init__.py` file in each directory containing code that should be imported\n",
    "  - This is not quite true...\n",
    "- The `__init__.py` file can be (and often is) empty"
   ]
  },
  {
   "cell_type": "markdown",
   "id": "fa88cdd9",
   "metadata": {
    "lang": "en",
    "slideshow": {
     "slide_type": "subslide"
    }
   },
   "source": [
    "### Finding packages\n",
    "\n",
    " - Python looks for the package directory in `sys.path`.\n",
    " - This can be set using the environment variable `PYTHONPATH` or directly from\n",
    "   Python.\n",
    " - In most cases it is better not to undertake complicated operations on\n",
    "   `sys.path`."
   ]
  },
  {
   "cell_type": "markdown",
   "id": "8906ccd5",
   "metadata": {
    "lang": "en",
    "slideshow": {
     "slide_type": "subslide"
    }
   },
   "source": [
    "### The `import` statement\n",
    "\n",
    " `import a.b.c`:\n",
    "\n",
    " - `a` and `b` must be packages (directories).\n",
    " - `c` can be a module or a package\n",
    "\n",
    " `from a.b.c import d`\n",
    " - `a` and `b` must be packages\n",
    " - `c` can be a module or a package\n",
    " - `d` can be a module, package, or name (i.e. variable, function, class, etc.)."
   ]
  },
  {
   "cell_type": "markdown",
   "id": "5e93eba3",
   "metadata": {
    "lang": "en",
    "slideshow": {
     "slide_type": "subslide"
    }
   },
   "source": [
    "### References within a package\n",
    "\n",
    " - `from . import a` imports `a` from the current package\n",
    " - `from .. import a` imports `a` from the parent package\n",
    " - `from .foo import a` imports `a` from its \"sibling module\" `foo`"
   ]
  },
  {
   "cell_type": "markdown",
   "id": "bff79743",
   "metadata": {
    "lang": "en",
    "slideshow": {
     "slide_type": "subslide"
    }
   },
   "source": [
    "## Example: `MessageQueue`\n",
    "\n",
    " The `MessageQueue` example shows how a program can consist of several packages."
   ]
  },
  {
   "cell_type": "markdown",
   "id": "35449a83",
   "metadata": {
    "lang": "en",
    "slideshow": {
     "slide_type": "slide"
    }
   },
   "source": [
    "# Pytest: testing in Python\n",
    "\n",
    " - Python provides several built-in packages for writing unit tests and documentation tests (`unittest` and `doctest`).\n",
    " - Many projects use the `pytest` package anyway, as it avoids a lot of \"boilerplate\" when writing tests.\n",
    " - `pytest` can run `unittest` and `doctest` tests."
   ]
  },
  {
   "cell_type": "markdown",
   "id": "accd105d",
   "metadata": {
    "lang": "en",
    "slideshow": {
     "slide_type": "subslide"
    }
   },
   "source": [
    "## Installing pytest\n",
    "\n",
    " Pytest is pre-installed in the Anaconda installation\n",
    "\n",
    " When using the standard Python distribution, it can be installed with\n",
    " ```shell\n",
    " pip install pytest\n",
    " ```"
   ]
  },
  {
   "cell_type": "markdown",
   "id": "495f3053",
   "metadata": {
    "lang": "en",
    "slideshow": {
     "slide_type": "subslide"
    }
   },
   "source": [
    "## Writing tests\n",
    "\n",
    " - Pytest can be configured very flexibly\n",
    " - We only use the most basic features and rely on automatic configuration\n",
    " - Tests for a package are written in a sub-package `test`\n",
    " - Tests for the `foo.py` file are in the `test/foo_test.py` file\n",
    " - Each test is a function whose name starts with `test`\n",
    " - Assertions are written with the `assert` statement"
   ]
  },
  {
   "cell_type": "markdown",
   "id": "31b98511",
   "metadata": {
    "lang": "en",
    "slideshow": {
     "slide_type": "subslide"
    }
   },
   "source": [
    "## Example testing `MessageQueueDist`\n",
    "\n",
    " See `Examples/MessageQueueDist`"
   ]
  },
  {
   "cell_type": "markdown",
   "id": "f0987db1",
   "metadata": {
    "lang": "en",
    "slideshow": {
     "slide_type": "subslide"
    }
   },
   "source": [
    "## Workshop\n",
    "\n",
    "- `Workshop_136_todo_list_v3`\n",
    "- Up to \"Load and Save\" section"
   ]
  },
  {
   "cell_type": "code",
   "execution_count": null,
   "id": "54d67fd6",
   "metadata": {
    "tags": [
     "keep"
    ]
   },
   "outputs": [],
   "source": []
  }
 ],
 "metadata": {
  "kernelspec": {
   "display_name": "Python 3 (ipykernel)",
   "language": "python",
   "name": "python3"
  }
 },
 "nbformat": 4,
 "nbformat_minor": 5
}
