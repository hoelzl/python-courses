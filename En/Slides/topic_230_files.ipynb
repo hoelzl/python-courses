{
 "cells": [
  {
   "cell_type": "markdown",
   "id": "fe80f96dce2fff98",
   "metadata": {
    "lang": "en",
    "lines_to_next_cell": 2,
    "slideshow": {
     "slide_type": "slide"
    }
   },
   "source": [
    "<img src=\"img/python-logo-no-text.svg\"\n",
    "     style=\"display:block;margin:auto;width:10%\"/>\n",
    "<br>\n",
    "<div style=\"text-align:center; font-size:200%;\"><b>Files</b></div>\n",
    "<br/>\n",
    "<div style=\"text-align:center;\">Dr. Matthias Hölzl</div>"
   ]
  },
  {
   "cell_type": "markdown",
   "id": "12c434f64000b38c",
   "metadata": {
    "lang": "en",
    "slideshow": {
     "slide_type": "slide"
    }
   },
   "source": [
    "# Files\n",
    "\n",
    "So far, all data that we have calculated is lost at the end of the program execution.\n",
    "\n",
    "The easiest way to persist data is to save it in a file:"
   ]
  },
  {
   "cell_type": "code",
   "execution_count": null,
   "id": "c246775ae2a597f0",
   "metadata": {
    "lines_to_next_cell": 2
   },
   "outputs": [],
   "source": [
    "import os"
   ]
  },
  {
   "cell_type": "code",
   "execution_count": null,
   "id": "51ac16fcbf920e9c",
   "metadata": {
    "lines_to_next_cell": 2
   },
   "outputs": [],
   "source": [
    "os.getcwd()"
   ]
  },
  {
   "cell_type": "markdown",
   "id": "d76c163b56c475c8",
   "metadata": {
    "lang": "en",
    "slideshow": {
     "slide_type": "subslide"
    }
   },
   "source": [
    "- With `open()` a file can be opened for reading or writing.\n",
    "- The `mode` parameter specifies whether the file is open for reading or writing\n",
    "  will:\n",
    "  - `r`: read\n",
    "  - `w`: writing. The content of the file is deleted\n",
    "  - `a`: writing. The new data is written at the end of the file.\n",
    "  - `x`: write. The file must not exist.\n",
    "  - `r+`: read and write.\n",
    "- If the letter `b` is appended to the end of `mode`, the file is saved as\n",
    "  binary file.\n",
    "- With the methods `tell()` and `seek()` the position in the file can\n",
    "  be queried or changed."
   ]
  },
  {
   "cell_type": "code",
   "execution_count": null,
   "id": "7c5380fc66ed41aa",
   "metadata": {
    "lines_to_next_cell": 2,
    "slideshow": {
     "slide_type": "subslide"
    }
   },
   "outputs": [],
   "source": [
    "file = open(\"my-data-file.txt\", \"w\")\n",
    "file.write(\"The first line.\\n\")\n",
    "file.write(\"The second line.\\n\")\n",
    "file.close()"
   ]
  },
  {
   "cell_type": "code",
   "execution_count": null,
   "id": "b51af544c82f87d5",
   "metadata": {
    "lines_to_next_cell": 2
   },
   "outputs": [],
   "source": [
    "file = open(\"my-data-file.txt\", \"r\")\n",
    "contents = file.read()\n",
    "print(contents)\n",
    "file.close()\n",
    "contents"
   ]
  },
  {
   "cell_type": "code",
   "execution_count": null,
   "id": "d4e0cecee91c5d2e",
   "metadata": {
    "lines_to_next_cell": 2
   },
   "outputs": [],
   "source": [
    "file = open(\"my-data-file.txt\", mode=\"w\")\n",
    "file.write(\"Another line.\\n\")\n",
    "file.write(\"Yet another line.\\n\")\n",
    "file.close()"
   ]
  },
  {
   "cell_type": "code",
   "execution_count": null,
   "id": "e3d8fcbccd91c6ea",
   "metadata": {
    "lines_to_next_cell": 2
   },
   "outputs": [],
   "source": [
    "file = open(\"my-data-file.txt\", mode=\"r\")\n",
    "contents = file.read()\n",
    "print(contents)\n",
    "file.close()"
   ]
  },
  {
   "cell_type": "code",
   "execution_count": null,
   "id": "5f37d0d51ac46414",
   "metadata": {
    "lines_to_next_cell": 2
   },
   "outputs": [],
   "source": [
    "file = open(\"my-data-file.txt\", mode=\"a\")\n",
    "file.write(\"Let's try this again.\\n\")\n",
    "file.write(\"Until we succeed.\\n\")\n",
    "file.close()"
   ]
  },
  {
   "cell_type": "code",
   "execution_count": null,
   "id": "a138e527c84642b6",
   "metadata": {
    "lines_to_next_cell": 2
   },
   "outputs": [],
   "source": [
    "file = open(\"my-data-file.txt\", \"r\")\n",
    "contents = file.read()\n",
    "print(contents)\n",
    "file.close()"
   ]
  },
  {
   "cell_type": "markdown",
   "id": "9f1dfb6ad3cb2157",
   "metadata": {
    "lang": "en",
    "slideshow": {
     "slide_type": "subslide"
    }
   },
   "source": [
    "Files must always be closed with `close`, even if the the part of the program in which the file is used is left with an exception. This could be done with `try ... finally`.\n",
    "\n",
    "Python offers a more elegant construct for this:"
   ]
  },
  {
   "cell_type": "code",
   "execution_count": null,
   "id": "a37cc9f3835cd935",
   "metadata": {
    "lines_to_next_cell": 2
   },
   "outputs": [],
   "source": [
    "with open(\"my-data-file.txt\", \"r\") as file:\n",
    "    contents = file.read()\n",
    "print(contents)"
   ]
  },
  {
   "cell_type": "code",
   "execution_count": null,
   "id": "f612ac68d7770bef",
   "metadata": {
    "lines_to_next_cell": 2
   },
   "outputs": [],
   "source": [
    "with open(\"my-data-file.txt\", \"r+\") as file:\n",
    "    print(f\"File position before reading: {file.tell()}\")\n",
    "    contents = file.read()\n",
    "    print(f\"File position after reading: {file.tell()}\")\n",
    "    file.write(\"Another line.\\nAnd another.\")\n",
    "    print(f\"File position after writing: {file.tell()}\")"
   ]
  },
  {
   "cell_type": "code",
   "execution_count": null,
   "id": "dcd7236f90f30439",
   "metadata": {
    "lines_to_next_cell": 2
   },
   "outputs": [],
   "source": [
    "with open(\"my-data-file.txt\", \"r+\") as file:\n",
    "    print(f\"File has {len(file.readlines())} lines.\")\n",
    "    file.seek(40)\n",
    "    file.write(\"overwrite a part of the file, yes?\")\n",
    "    file.seek(0)\n",
    "    print(file.read())"
   ]
  },
  {
   "cell_type": "markdown",
   "id": "72c4cebaa112eff1",
   "metadata": {
    "lang": "en",
    "slideshow": {
     "slide_type": "subslide"
    }
   },
   "source": [
    "## Mini workshop\n",
    "\n",
    " - Notebook `workshop_230_files`\n",
    " - Section \"Reading and writing to files\""
   ]
  },
  {
   "cell_type": "markdown",
   "id": "8e19c0a085465d23",
   "metadata": {
    "lang": "en",
    "slideshow": {
     "slide_type": "slide"
    }
   },
   "source": [
    "## Object-oriented handling of files: Pathlib\n",
    "\n",
    "The `pathlib` module offers a very elegant `Path` class\n",
    "that offers an object-oriented approach to handling files:"
   ]
  },
  {
   "cell_type": "code",
   "execution_count": null,
   "id": "9e75407fd2e80eea",
   "metadata": {},
   "outputs": [],
   "source": [
    "from pathlib import Path"
   ]
  },
  {
   "cell_type": "code",
   "execution_count": null,
   "id": "d54a2a47a2b52d3b",
   "metadata": {},
   "outputs": [],
   "source": [
    "my_path = Path()\n",
    "print(\"relative path:\", my_path)\n",
    "print(\"absolute path:\", my_path.absolute())\n",
    "my_path"
   ]
  },
  {
   "cell_type": "code",
   "execution_count": null,
   "id": "7471ee0863b6f74d",
   "metadata": {},
   "outputs": [],
   "source": [
    "my_file = my_path / \"README.md\"\n",
    "print(\"Name:         \", my_file.name)\n",
    "print(\"Parent:       \", my_file.parent.absolute())\n",
    "print(\"Suffix:       \", my_file.suffix)\n",
    "print(\"Change suffix:\", my_file.with_suffix(\".txt\"))\n",
    "print(\"Exists?       \", my_file.exists())"
   ]
  },
  {
   "cell_type": "code",
   "execution_count": null,
   "id": "8fcd0803435d7c39",
   "metadata": {
    "slideshow": {
     "slide_type": "subslide"
    }
   },
   "outputs": [],
   "source": [
    "tmp_dir = Path.home() / \"Tmp\"\n",
    "print(tmp_dir.absolute())\n",
    "print(tmp_dir.exists())"
   ]
  },
  {
   "cell_type": "code",
   "execution_count": null,
   "id": "4e223986cb06f29d",
   "metadata": {},
   "outputs": [],
   "source": [
    "assert not tmp_dir.exists()\n",
    "my_dir = tmp_dir / \"subdir1/subdir2\" / \"subdir3\"\n",
    "my_dir.mkdir(parents=True, exist_ok=False)\n",
    "my_dir.exists()"
   ]
  },
  {
   "cell_type": "code",
   "execution_count": null,
   "id": "10144377db8be792",
   "metadata": {
    "slideshow": {
     "slide_type": "subslide"
    }
   },
   "outputs": [],
   "source": [
    "my_file = my_dir / \"test.txt\"\n",
    "with my_file.open(\"w\", encoding=\"utf-8\") as file:\n",
    "    file.write(\"Hello, world\")\n",
    "print(\"Exists?\", my_file.exists())\n",
    "print(list(my_dir.glob(\"*\")))\n",
    "my_file.unlink()\n",
    "print(\"Exists?\", my_file.exists())\n",
    "print(list(my_dir.glob(\"*\")))\n",
    "my_file.unlink(missing_ok=True)"
   ]
  },
  {
   "cell_type": "code",
   "execution_count": null,
   "id": "8f52b0e8e3e05353",
   "metadata": {},
   "outputs": [],
   "source": [
    "if my_dir.exists():\n",
    "    my_dir.rmdir()\n",
    "print(\"Exists?\", my_dir.exists())"
   ]
  },
  {
   "cell_type": "code",
   "execution_count": null,
   "id": "4a86d628d160b8a1",
   "metadata": {
    "lines_to_next_cell": 2
   },
   "outputs": [],
   "source": [
    "import shutil\n",
    "\n",
    "shutil.rmtree(tmp_dir, ignore_errors=True)"
   ]
  },
  {
   "cell_type": "code",
   "execution_count": null,
   "id": "a2c44c28a934555f",
   "metadata": {},
   "outputs": [],
   "source": [
    "tmp_dir.exists()"
   ]
  }
 ],
 "metadata": {
  "kernelspec": {
   "display_name": "Python 3 (ipykernel)",
   "language": "python",
   "name": "python3"
  }
 },
 "nbformat": 4,
 "nbformat_minor": 5
}
