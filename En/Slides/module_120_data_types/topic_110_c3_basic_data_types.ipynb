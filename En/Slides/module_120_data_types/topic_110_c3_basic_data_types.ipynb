{
 "cells": [
  {
   "cell_type": "markdown",
   "id": "533cbdbe84e79cc6",
   "metadata": {
    "lang": "en",
    "lines_to_next_cell": 2,
    "slideshow": {
     "slide_type": "slide"
    }
   },
   "source": [
    "<img src=\"../../img/python-logo-no-text.svg\"\n",
    "     style=\"display:block;margin:auto;width:10%\"/>\n",
    "<br>\n",
    "<div style=\"text-align:center; font-size:200%;\">\n",
    "  <b>Basic Data Types</b>\n",
    "</div>\n",
    "<br/>\n",
    "<div style=\"text-align:center;\">Dr. Matthias Hölzl</div>\n",
    "<br/>\n",
    "<div style=\"text-align:center;\">module_120_data_types/topic_110_c3_basic_data_types</div>"
   ]
  },
  {
   "cell_type": "markdown",
   "id": "fc33e0399e04afde",
   "metadata": {
    "lang": "en",
    "slideshow": {
     "slide_type": "slide"
    }
   },
   "source": [
    "## Variables and data types\n",
    "\n",
    "Numbers and arithmetic:"
   ]
  },
  {
   "cell_type": "code",
   "execution_count": null,
   "id": "79a590bd4f92d6e4",
   "metadata": {},
   "outputs": [],
   "source": [
    "17 + 4"
   ]
  },
  {
   "cell_type": "code",
   "execution_count": null,
   "id": "e7cb031f3a0023df",
   "metadata": {},
   "outputs": [],
   "source": [
    "1.5 + 7.4"
   ]
  },
  {
   "cell_type": "code",
   "execution_count": null,
   "id": "7ef9033476cdf5b1",
   "metadata": {},
   "outputs": [],
   "source": [
    "1 + 2 * 3"
   ]
  },
  {
   "cell_type": "code",
   "execution_count": null,
   "id": "af14488d79159d05",
   "metadata": {
    "slideshow": {
     "slide_type": "subslide"
    }
   },
   "outputs": [],
   "source": [
    "type(1)"
   ]
  },
  {
   "cell_type": "code",
   "execution_count": null,
   "id": "8e350957fe8437e6",
   "metadata": {},
   "outputs": [],
   "source": [
    "type(1.0)"
   ]
  },
  {
   "cell_type": "code",
   "execution_count": null,
   "id": "d9a005ed1959fee7",
   "metadata": {},
   "outputs": [],
   "source": [
    "type(\"1\")"
   ]
  },
  {
   "cell_type": "code",
   "execution_count": null,
   "id": "b571c93021d37a3a",
   "metadata": {
    "slideshow": {
     "slide_type": "subslide"
    }
   },
   "outputs": [],
   "source": [
    "10000000000000000000000000000000000000000000000000 + 1"
   ]
  },
  {
   "cell_type": "code",
   "execution_count": null,
   "id": "0d0f38b4967e04e6",
   "metadata": {},
   "outputs": [],
   "source": [
    "type(10000000000000000000000000000000000000000000000000)"
   ]
  },
  {
   "cell_type": "markdown",
   "id": "16ec0871349c49dd",
   "metadata": {
    "lang": "en",
    "slideshow": {
     "slide_type": "subslide"
    }
   },
   "source": [
    "## Strings"
   ]
  },
  {
   "cell_type": "code",
   "execution_count": null,
   "id": "68fca80328e43038",
   "metadata": {},
   "outputs": [],
   "source": [
    "\"Hello, world!\""
   ]
  },
  {
   "cell_type": "code",
   "execution_count": null,
   "id": "853b630a48d41a8f",
   "metadata": {
    "lang": "en",
    "slideshow": {
     "slide_type": "subslide"
    }
   },
   "outputs": [],
   "source": [
    "# fmt: off\n",
    "'This is a text'\n",
    "# fmt: on"
   ]
  },
  {
   "cell_type": "code",
   "execution_count": null,
   "id": "3853e1c0f2697f84",
   "metadata": {},
   "outputs": [],
   "source": [
    "str(1 + 2)"
   ]
  },
  {
   "cell_type": "code",
   "execution_count": null,
   "id": "a52851c0a6869568",
   "metadata": {
    "slideshow": {
     "slide_type": "subslide"
    }
   },
   "outputs": [],
   "source": [
    "\"1\" + \"2\""
   ]
  },
  {
   "cell_type": "code",
   "execution_count": null,
   "id": "7abbac34e777ca70",
   "metadata": {
    "lang": "en"
   },
   "outputs": [],
   "source": [
    "\"\"\"Some text,\n",
    "spanning multiple lines.\"\"\""
   ]
  },
  {
   "cell_type": "code",
   "execution_count": null,
   "id": "26f7b21e82019fe2",
   "metadata": {
    "lang": "en"
   },
   "outputs": [],
   "source": [
    "\"Literal strings \" \"can be concatenated \" \"by juxtaposition\""
   ]
  },
  {
   "cell_type": "markdown",
   "id": "c4fb232b56c381f6",
   "metadata": {
    "lang": "en",
    "slideshow": {
     "slide_type": "subslide"
    }
   },
   "source": [
    "\n",
    "## Displaying values with the `print()` function\n",
    "\n",
    "To display multiple values ​​you can use the `print()` function:\n",
    "\n",
    "`print(...)` prints the values between the trailing parens on the screen."
   ]
  },
  {
   "cell_type": "code",
   "execution_count": null,
   "id": "fbeac1b6cd016dba",
   "metadata": {},
   "outputs": [],
   "source": [
    "print(123)"
   ]
  },
  {
   "cell_type": "code",
   "execution_count": null,
   "id": "9f8851bc99da63bc",
   "metadata": {},
   "outputs": [],
   "source": [
    "print(\"Hello, world!\")"
   ]
  },
  {
   "cell_type": "code",
   "execution_count": null,
   "id": "9a58510fc5294855",
   "metadata": {},
   "outputs": [],
   "source": [
    "print(\"Der Wert von 1 + 1 ist\", 1 + 1, \".\")"
   ]
  },
  {
   "cell_type": "code",
   "execution_count": null,
   "id": "3441eeac6da48f1e",
   "metadata": {},
   "outputs": [],
   "source": [
    "print(\"Der Wert von 1 + 1 ist\", 1 + 1, \".\", sep=\"\")"
   ]
  },
  {
   "cell_type": "code",
   "execution_count": null,
   "id": "6f25f3d99d8923d4",
   "metadata": {},
   "outputs": [],
   "source": [
    "print(\"a\", end=\", \")\n",
    "print(\"b\", end=\", \")\n",
    "print(\"c\")"
   ]
  },
  {
   "cell_type": "markdown",
   "id": "3461d514bebbce5b",
   "metadata": {
    "lang": "en",
    "slideshow": {
     "slide_type": "subslide"
    }
   },
   "source": [
    "### Variables"
   ]
  },
  {
   "cell_type": "code",
   "execution_count": null,
   "id": "09ced9699b38c5ca",
   "metadata": {},
   "outputs": [],
   "source": [
    "answer = 42"
   ]
  },
  {
   "cell_type": "code",
   "execution_count": null,
   "id": "79900f998d676bdc",
   "metadata": {},
   "outputs": [],
   "source": [
    "my_value = answer + 2"
   ]
  },
  {
   "cell_type": "markdown",
   "id": "7bdb28b81515bd5b",
   "metadata": {
    "lang": "en",
    "slideshow": {
     "slide_type": "slide"
    }
   },
   "source": [
    "## Variables\n",
    "\n",
    "<img src=\"img/variables-01.svg\" style=\"float:right;margin:auto;width:50%\"/>\n",
    "\n",
    "A *variable* is\n",
    "- a <span style=\"color:red;\">\"reference\"</span> to an \"object\"\n",
    "- which has a <span style=\"color:red;\">name</span>.\n",
    "\n",
    "<span style=\"color:blue;\">An object </span> can be referenced by<span style=\"color:blue;\"> several variables </span>!"
   ]
  },
  {
   "cell_type": "markdown",
   "id": "5a7fb9533297b3bd",
   "metadata": {
    "lang": "en",
    "slideshow": {
     "slide_type": "subslide"
    }
   },
   "source": [
    "## Types"
   ]
  },
  {
   "cell_type": "code",
   "execution_count": null,
   "id": "3288ea49c50e4080",
   "metadata": {},
   "outputs": [],
   "source": [
    "type(123)"
   ]
  },
  {
   "cell_type": "code",
   "execution_count": null,
   "id": "9359842f42322c91",
   "metadata": {},
   "outputs": [],
   "source": [
    "type(\"Foo\")"
   ]
  },
  {
   "cell_type": "code",
   "execution_count": null,
   "id": "1225e17b19195fee",
   "metadata": {},
   "outputs": [],
   "source": [
    "answer = 42\n",
    "print(type(answer))\n",
    "answer = \"Hallo!\"\n",
    "print(type(answer))"
   ]
  },
  {
   "cell_type": "markdown",
   "id": "8d681e470b34e524",
   "metadata": {
    "lang": "en",
    "slideshow": {
     "slide_type": "subslide"
    }
   },
   "source": [
    "### Predefined functions"
   ]
  },
  {
   "cell_type": "code",
   "execution_count": null,
   "id": "0b7fb7d37bd901e6",
   "metadata": {},
   "outputs": [],
   "source": [
    "print(\"Hello, world!\")"
   ]
  },
  {
   "cell_type": "code",
   "execution_count": null,
   "id": "36952f65c4cb18aa",
   "metadata": {},
   "outputs": [],
   "source": [
    "int(\"123\")"
   ]
  },
  {
   "cell_type": "code",
   "execution_count": null,
   "id": "194dc5d3d7404d80",
   "metadata": {},
   "outputs": [],
   "source": [
    "int(3.8)"
   ]
  },
  {
   "cell_type": "code",
   "execution_count": null,
   "id": "46b5902996931f39",
   "metadata": {},
   "outputs": [],
   "source": [
    "round(4.4)"
   ]
  },
  {
   "cell_type": "code",
   "execution_count": null,
   "id": "1820a2d6e71079c2",
   "metadata": {},
   "outputs": [],
   "source": [
    "round(4.6)"
   ]
  },
  {
   "cell_type": "code",
   "execution_count": null,
   "id": "a3aa6936e8155633",
   "metadata": {
    "lines_to_next_cell": 2,
    "tags": [
     "keep"
    ]
   },
   "outputs": [],
   "source": [
    "print(round(0.5), round(1.5), round(2.5), round(3.5))"
   ]
  },
  {
   "cell_type": "markdown",
   "id": "8c7b23f7c37e212e",
   "metadata": {
    "lang": "en",
    "slideshow": {
     "slide_type": "subslide"
    }
   },
   "source": [
    "\n",
    "### Assertions\n",
    "\n",
    "Assertions are a great way to ensure that a property holds. If the checked\n",
    "property is true, the assertion does nothing."
   ]
  },
  {
   "cell_type": "code",
   "execution_count": null,
   "id": "6b4331dc4249553b",
   "metadata": {},
   "outputs": [],
   "source": [
    "assert 1 == 1"
   ]
  },
  {
   "cell_type": "code",
   "execution_count": null,
   "id": "9c1fbafe7f86852b",
   "metadata": {},
   "outputs": [],
   "source": [
    "assert 1 != 2"
   ]
  },
  {
   "cell_type": "markdown",
   "id": "f738b0a1da944959",
   "metadata": {
    "lang": "en",
    "slideshow": {
     "slide_type": "subslide"
    }
   },
   "source": [
    "\n",
    "If the tested property is not fulfilled, an error is triggered:"
   ]
  },
  {
   "cell_type": "code",
   "execution_count": null,
   "id": "a443b91fc10b69e8",
   "metadata": {
    "lines_to_next_cell": 2
   },
   "outputs": [],
   "source": [
    "# assert 1 == 2"
   ]
  },
  {
   "cell_type": "markdown",
   "id": "05109904aa99562c",
   "metadata": {
    "lang": "en",
    "slideshow": {
     "slide_type": "subslide"
    }
   },
   "source": [
    "### Mini workshop\n",
    "\n",
    "Given the following statements:"
   ]
  },
  {
   "cell_type": "code",
   "execution_count": null,
   "id": "1dec6ba07bb0379c",
   "metadata": {
    "tags": [
     "keep"
    ]
   },
   "outputs": [],
   "source": [
    "my_int = 1\n",
    "my_float = 1.0"
   ]
  },
  {
   "cell_type": "markdown",
   "id": "a8704540a4c8a50d",
   "metadata": {
    "lang": "en"
   },
   "source": [
    "\n",
    "Write an assertion for each of the following properties that does not throw an\n",
    "exception and asserts either the property or its negation:\n",
    "\n",
    "- `my_int == 1`\n",
    "- `my_float == my_int`\n",
    "- `my_float == \"1.0\"`"
   ]
  },
  {
   "cell_type": "code",
   "execution_count": null,
   "id": "9b36d31155e8faad",
   "metadata": {},
   "outputs": [],
   "source": [
    "assert my_int == 1\n",
    "assert my_float == my_int\n",
    "assert my_float != \"1.0\""
   ]
  },
  {
   "cell_type": "markdown",
   "id": "f3274fc4f573ccde",
   "metadata": {
    "lang": "en",
    "slideshow": {
     "slide_type": "slide"
    }
   },
   "source": [
    "\n",
    "### The value `None`\n",
    "\n",
    "`None` is a value used by Python to indicate the absence of a useful value:\n",
    "Jupyter doesn't print `None` as a cell's value:"
   ]
  },
  {
   "cell_type": "code",
   "execution_count": null,
   "id": "876504d6d3774aa5",
   "metadata": {},
   "outputs": [],
   "source": [
    "None"
   ]
  },
  {
   "cell_type": "code",
   "execution_count": null,
   "id": "41e84868b4a59129",
   "metadata": {},
   "outputs": [],
   "source": [
    "print(None)"
   ]
  },
  {
   "cell_type": "code",
   "execution_count": null,
   "id": "e7aa7d82022bd035",
   "metadata": {},
   "outputs": [],
   "source": [
    "type(None)"
   ]
  },
  {
   "cell_type": "code",
   "execution_count": null,
   "id": "ecb429b02b302586",
   "metadata": {},
   "outputs": [],
   "source": [
    "x = print(\"Hello, world!\")"
   ]
  },
  {
   "cell_type": "code",
   "execution_count": null,
   "id": "7a6b7f28f2a5c98d",
   "metadata": {},
   "outputs": [],
   "source": [
    "assert x == None"
   ]
  },
  {
   "cell_type": "markdown",
   "id": "6c46865f026f07fa",
   "metadata": {
    "lang": "en"
   },
   "source": [
    "\n",
    "The operator `is` is often used to check for `None` values:"
   ]
  },
  {
   "cell_type": "code",
   "execution_count": null,
   "id": "adb059d30ff09c9c",
   "metadata": {},
   "outputs": [],
   "source": [
    "assert x is None"
   ]
  },
  {
   "cell_type": "markdown",
   "id": "6af6f5c4b42c035a",
   "metadata": {
    "lang": "en"
   },
   "source": [
    "\n",
    "`is` checks for object identity and cannot generally be substituted for `==`."
   ]
  }
 ],
 "metadata": {
  "kernelspec": {
   "display_name": "Python 3 (ipykernel)",
   "language": "python",
   "name": "python3"
  }
 },
 "nbformat": 4,
 "nbformat_minor": 5
}
