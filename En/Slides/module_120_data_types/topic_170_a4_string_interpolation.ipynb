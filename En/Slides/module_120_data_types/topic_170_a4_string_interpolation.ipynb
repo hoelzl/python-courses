{
 "cells": [
  {
   "cell_type": "markdown",
   "id": "0d5a976703de034d",
   "metadata": {
    "lang": "en",
    "lines_to_next_cell": 2,
    "slideshow": {
     "slide_type": "slide"
    }
   },
   "source": [
    "<img src=\"../../img/python-logo-no-text.svg\"\n",
    "     style=\"display:block;margin:auto;width:10%\"/>\n",
    "<br>\n",
    "<div style=\"text-align:center; font-size:200%;\">\n",
    "  <b>String-Interpolation</b>\n",
    "</div>\n",
    "<br/>\n",
    "<div style=\"text-align:center;\">Dr. Matthias Hölzl</div>\n",
    "<br/>\n",
    "<div style=\"text-align:center;\">module_120_data_types/topic_170_a4_string_interpolation</div>"
   ]
  },
  {
   "cell_type": "code",
   "execution_count": null,
   "id": "d0f11bc4781a8415",
   "metadata": {
    "lang": "en"
   },
   "outputs": [],
   "source": [
    "name = \"John\"\n",
    "number = 12\n",
    "f\"Hello {name}, the number is {number + 1}.\""
   ]
  },
  {
   "cell_type": "markdown",
   "id": "24c0bb2e9fd6285e",
   "metadata": {
    "lang": "en",
    "slideshow": {
     "slide_type": "slide"
    }
   },
   "source": [
    "# String interpolation: F-strings\n",
    "\n",
    "Python offers the possibility to insert values of variables into strings:"
   ]
  },
  {
   "cell_type": "code",
   "execution_count": null,
   "id": "28828e79d05b2f0f",
   "metadata": {
    "lang": "en",
    "slideshow": {
     "slide_type": "subslide"
    },
    "tags": [
     "keep"
    ]
   },
   "outputs": [],
   "source": [
    "player_name = \"John\"\n",
    "number_games = 10\n",
    "number_wins = 2\n",
    "\n",
    "output = f\"Hello {player_name}!\\nYou played {number_games} games and won {number_wins} times.\"\n",
    "print(output)"
   ]
  },
  {
   "cell_type": "code",
   "execution_count": null,
   "id": "36e72bf3eb87a886",
   "metadata": {
    "lang": "en",
    "slideshow": {
     "slide_type": "subslide"
    },
    "tags": [
     "keep"
    ]
   },
   "outputs": [],
   "source": [
    "output = (\n",
    "    f\"Hello {player_name}!\\n\"\n",
    "    f\"You played {number_games} games \"\n",
    "    f\"and won {number_wins} times.\"\n",
    ")\n",
    "print(output)"
   ]
  },
  {
   "cell_type": "code",
   "execution_count": null,
   "id": "184796a0211ae207",
   "metadata": {
    "lang": "en",
    "lines_to_next_cell": 1,
    "slideshow": {
     "slide_type": "subslide"
    },
    "tags": [
     "keep"
    ]
   },
   "outputs": [],
   "source": [
    "output = f\"\"\"\\\n",
    "Hello {player_name}!\n",
    "You played {number_games} games \\\n",
    "and won {number_wins} times.\n",
    "\"\"\"\n",
    "print(output)"
   ]
  },
  {
   "cell_type": "markdown",
   "id": "71eae34a318e8928",
   "metadata": {
    "lang": "en"
   },
   "source": [
    "\n",
    "## Mini workshop: Greeting\n",
    "\n",
    "Write a function `print_greeting(name)` that prints a personalized outputs a\n",
    "greeting, e.g.\n",
    "```\n",
    "Hello John!\n",
    "Nice to welcome you again today.\n",
    "We wish you a lot of fun, John.\n",
    "```\n",
    "Use string interpolation to achieve this."
   ]
  },
  {
   "cell_type": "code",
   "execution_count": null,
   "id": "cf63b3fafb5a7f73",
   "metadata": {
    "lang": "en"
   },
   "outputs": [],
   "source": [
    "def print_greeting(name):\n",
    "    print(\n",
    "        f\"Hello {name}!\\n\"\n",
    "        f\"Nice to welcome you again today.\\n\"\n",
    "        f\"We wish you a lot of fun, {name}.\"\n",
    "    )"
   ]
  },
  {
   "cell_type": "code",
   "execution_count": null,
   "id": "e9c3ca859cdc3e47",
   "metadata": {
    "lang": "en"
   },
   "outputs": [],
   "source": [
    "print_greeting(\"John\")"
   ]
  },
  {
   "cell_type": "code",
   "execution_count": null,
   "id": "6b4e03423667dbb7",
   "metadata": {},
   "outputs": [],
   "source": []
  }
 ],
 "metadata": {},
 "nbformat": 4,
 "nbformat_minor": 5
}
