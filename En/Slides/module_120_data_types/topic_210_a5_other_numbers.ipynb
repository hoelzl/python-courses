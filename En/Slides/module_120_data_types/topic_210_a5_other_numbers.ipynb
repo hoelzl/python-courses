{
 "cells": [
  {
   "cell_type": "markdown",
   "id": "b9d6bd4223105c76",
   "metadata": {
    "lang": "en",
    "lines_to_next_cell": 2,
    "slideshow": {
     "slide_type": "slide"
    }
   },
   "source": [
    "<img src=\"../../img/python-logo-no-text.svg\"\n",
    "     style=\"display:block;margin:auto;width:10%\"/>\n",
    "<br>\n",
    "<div style=\"text-align:center; font-size:200%;\">\n",
    "  <b>Other kinds of numbers</b>\n",
    "</div>\n",
    "<br/>\n",
    "<div style=\"text-align:center;\">Dr. Matthias Hölzl</div>\n",
    "<br/>\n",
    "<div style=\"text-align:center;\">module_120_data_types/topic_210_a5_other_numbers</div>"
   ]
  },
  {
   "cell_type": "markdown",
   "id": "b1eea4988192e763",
   "metadata": {
    "lang": "en",
    "slideshow": {
     "slide_type": "slide"
    }
   },
   "source": [
    "## Other types of numbers\n",
    "\n",
    "Python offers other kinds of numbers for special applications\n",
    "\n",
    "- Decimal numbers with any precision\n",
    "- Complex numbers\n",
    "- Fixed size integers (e.g. with `numpy`)\n",
    "- Floating point numbers with different sizes (`numpy`)"
   ]
  },
  {
   "cell_type": "code",
   "execution_count": null,
   "id": "5157a05ed5cd0d47",
   "metadata": {
    "slideshow": {
     "slide_type": "subslide"
    }
   },
   "outputs": [],
   "source": [
    "1.1 * 100"
   ]
  },
  {
   "cell_type": "code",
   "execution_count": null,
   "id": "773833a6f205ac95",
   "metadata": {},
   "outputs": [],
   "source": [
    "import decimal\n",
    "\n",
    "decimal.Decimal(\"1.1\") * 100"
   ]
  },
  {
   "cell_type": "code",
   "execution_count": null,
   "id": "9116cf933798cacd",
   "metadata": {
    "slideshow": {
     "slide_type": "subslide"
    }
   },
   "outputs": [],
   "source": [
    "(1 + 1j) * (1 + 1j)"
   ]
  },
  {
   "cell_type": "code",
   "execution_count": null,
   "id": "22ac6f90487cf27c",
   "metadata": {},
   "outputs": [],
   "source": [
    "1j * 1j"
   ]
  }
 ],
 "metadata": {
  "kernelspec": {
   "display_name": "Python 3 (ipykernel)",
   "language": "python",
   "name": "python3"
  }
 },
 "nbformat": 4,
 "nbformat_minor": 5
}
