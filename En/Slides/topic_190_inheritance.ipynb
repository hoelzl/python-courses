{
 "cells": [
  {
   "cell_type": "markdown",
   "id": "03e34fdc",
   "metadata": {
    "lang": "en",
    "slideshow": {
     "slide_type": "slide"
    }
   },
   "source": [
    "<img src=\"img/python-logo-notext.svg\"\n",
    "     style=\"display:block;margin:auto;width:10%\"/>\n",
    "<br>\n",
    "<div style=\"text-align:center; font-size:200%;\"><b>Object orientation part 2: Inheritance</b></div>\n",
    "<br/>\n",
    "<div style=\"text-align:center;\">Dr. Matthias Hölzl</div>"
   ]
  },
  {
   "cell_type": "markdown",
   "id": "9442e113",
   "metadata": {
    "lang": "en",
    "slideshow": {
     "slide_type": "slide"
    }
   },
   "source": [
    "# Object Orientation Part 2\n",
    "\n",
    " - In the previous lesson we got to know classes, one of the basic building blocks of object-oriented programming\n",
    " - In this chapter we will consider inheritance."
   ]
  },
  {
   "cell_type": "markdown",
   "id": "4de7eca5",
   "metadata": {
    "lang": "en",
    "slideshow": {
     "slide_type": "subslide"
    }
   },
   "source": [
    "## Inheritance"
   ]
  },
  {
   "cell_type": "code",
   "execution_count": null,
   "id": "f2d05ec7",
   "metadata": {
    "tags": [
     "keep"
    ]
   },
   "outputs": [],
   "source": [
    "import random\n",
    "from typing import Tuple\n",
    "\n",
    "\n",
    "class Point:\n",
    "    def __init__(self, x=0, y=0):\n",
    "        self.x = x\n",
    "        self.y = y\n",
    "\n",
    "    def __repr__(self):\n",
    "        return f\"Point({self.x:.1f}, {self.y:.1f})\"\n",
    "\n",
    "    def move(self, dx=0, dy=0):\n",
    "        self.x += dx\n",
    "        self.y += dy\n",
    "\n",
    "    def randomize(self):\n",
    "        self.x = random.gauss(2, 4)\n",
    "        self.y = random.gauss(3, 2)"
   ]
  },
  {
   "cell_type": "code",
   "execution_count": null,
   "id": "2fdf053d",
   "metadata": {
    "tags": [
     "keep"
    ]
   },
   "outputs": [],
   "source": [
    "p = Point(0, 0)\n",
    "p"
   ]
  },
  {
   "cell_type": "code",
   "execution_count": null,
   "id": "ef5c3014",
   "metadata": {
    "tags": [
     "keep"
    ]
   },
   "outputs": [],
   "source": [
    "assert p.x == 0.0\n",
    "assert p.y == 0.0"
   ]
  },
  {
   "cell_type": "code",
   "execution_count": null,
   "id": "f114f2fc",
   "metadata": {
    "tags": [
     "keep"
    ]
   },
   "outputs": [],
   "source": [
    "p.move(2, 3)\n",
    "p"
   ]
  },
  {
   "cell_type": "code",
   "execution_count": null,
   "id": "136f3387",
   "metadata": {
    "tags": [
     "keep"
    ]
   },
   "outputs": [],
   "source": [
    "assert p.x == 2.0\n",
    "assert p.y == 3.0"
   ]
  },
  {
   "cell_type": "code",
   "execution_count": null,
   "id": "79ac5705",
   "metadata": {
    "tags": [
     "keep"
    ]
   },
   "outputs": [],
   "source": [
    "p.randomize()\n",
    "p"
   ]
  },
  {
   "cell_type": "markdown",
   "id": "3db6da93",
   "metadata": {
    "lang": "en",
    "slideshow": {
     "slide_type": "subslide"
    }
   },
   "source": [
    "How can we introduce colored points without having to re-implement the entire functionality of `Point`?"
   ]
  },
  {
   "cell_type": "code",
   "execution_count": null,
   "id": "8eff82ba",
   "metadata": {},
   "outputs": [],
   "source": [
    "class ColorPoint(Point):\n",
    "    def __init__(self, x=0, y=0, color=\"black\"):\n",
    "        super().__init__(x, y)\n",
    "        self.color = color\n",
    "\n",
    "    def __repr__(self):\n",
    "        return f\"ColorPoint({self.x:.1f}, {self.y:.1f}, {self.color!r})\"\n",
    "\n",
    "    def randomize(self):\n",
    "        super().randomize()\n",
    "        self.color = random.choice([\"black\", \"red\", \"green\", \"blue\", \"yellow\", \"white\"])"
   ]
  },
  {
   "cell_type": "code",
   "execution_count": null,
   "id": "85b3eccd",
   "metadata": {
    "lines_to_next_cell": 2
   },
   "outputs": [],
   "source": [
    "cp = ColorPoint(2, 3, \"red\")\n",
    "cp"
   ]
  },
  {
   "cell_type": "code",
   "execution_count": null,
   "id": "253242f5",
   "metadata": {},
   "outputs": [],
   "source": [
    "assert cp.x == 2.0\n",
    "assert cp.y == 3.0\n",
    "assert cp.color == \"red\""
   ]
  },
  {
   "cell_type": "code",
   "execution_count": null,
   "id": "b3a511af",
   "metadata": {
    "lines_to_next_cell": 2
   },
   "outputs": [],
   "source": [
    "cp.move(2, 3)\n",
    "cp"
   ]
  },
  {
   "cell_type": "code",
   "execution_count": null,
   "id": "638f656d",
   "metadata": {},
   "outputs": [],
   "source": [
    "assert cp.x == 4.0\n",
    "assert cp.y == 6.0\n",
    "assert cp.color == \"red\""
   ]
  },
  {
   "cell_type": "code",
   "execution_count": null,
   "id": "1314b5ef",
   "metadata": {
    "lines_to_next_cell": 2
   },
   "outputs": [],
   "source": [
    "cp.randomize()\n",
    "cp"
   ]
  },
  {
   "cell_type": "markdown",
   "id": "173570ae",
   "metadata": {
    "lang": "en",
    "slideshow": {
     "slide_type": "subslide"
    }
   },
   "source": [
    "## Mini workshop\n",
    "\n",
    " - Notebook `workshop_190_inheritance`\n",
    " - Section \"Inheritance\""
   ]
  },
  {
   "cell_type": "markdown",
   "id": "90ed39b4",
   "metadata": {
    "lang": "en",
    "slideshow": {
     "slide_type": "slide"
    }
   },
   "source": [
    "## Abstract classes\n",
    "\n",
    "- Classes that cannot have direct instances\n",
    "- Have `abc.ABC` as base class\n",
    "    - (a metaclass is actually responsible for their behavior)\n",
    "- Allow use of the `@abstractmethod` decorator to define abstract methods\n",
    "    - Often the body of an abstract method is written as `...`\n",
    "- Abstract classes that have only abstract methods are called Interfaces\n",
    "    - Interfaces describe requirements placed on subclasses"
   ]
  },
  {
   "cell_type": "code",
   "execution_count": null,
   "id": "02d55f8c",
   "metadata": {},
   "outputs": [],
   "source": [
    "..."
   ]
  },
  {
   "cell_type": "code",
   "execution_count": null,
   "id": "31819204",
   "metadata": {
    "slideshow": {
     "slide_type": "subslide"
    }
   },
   "outputs": [],
   "source": [
    "from abc import ABC, abstractmethod\n",
    "\n",
    "class MyBase(ABC):\n",
    "    @abstractmethod\n",
    "    def my_method(self):\n",
    "        ..."
   ]
  },
  {
   "cell_type": "code",
   "execution_count": null,
   "id": "f6cb98eb",
   "metadata": {},
   "outputs": [],
   "source": [
    "class MyClass(MyBase):\n",
    "    def my_method(self):\n",
    "        super().my_method()\n",
    "        print(\"my_method()\")"
   ]
  },
  {
   "cell_type": "code",
   "execution_count": null,
   "id": "b75ce36a",
   "metadata": {},
   "outputs": [],
   "source": [
    "mc = MyClass()\n",
    "mc.my_method()"
   ]
  },
  {
   "cell_type": "markdown",
   "id": "e980da65",
   "metadata": {
    "lang": "en",
    "slideshow": {
     "slide_type": "subslide"
    }
   },
   "source": [
    "- Abstract methods can provide an implementation\n",
    "- Classes that inherit from an abstract class but do not override all abstract methods are themselves abstract."
   ]
  },
  {
   "cell_type": "code",
   "execution_count": null,
   "id": "2e352616",
   "metadata": {},
   "outputs": [],
   "source": [
    "from abc import ABC, abstractmethod\n",
    "\n",
    "class MyBase(ABC):\n",
    "    @abstractmethod\n",
    "    def my_method(self):\n",
    "        print(\"Hi!\")"
   ]
  },
  {
   "cell_type": "code",
   "execution_count": null,
   "id": "d55c1b96",
   "metadata": {
    "lines_to_next_cell": 2
   },
   "outputs": [],
   "source": [
    "class MyClass(MyBase):\n",
    "    pass"
   ]
  },
  {
   "cell_type": "code",
   "execution_count": null,
   "id": "b4a53d27",
   "metadata": {
    "lines_to_next_cell": 2
   },
   "outputs": [],
   "source": [
    "# mc = MyClass()"
   ]
  },
  {
   "cell_type": "code",
   "execution_count": null,
   "id": "abe39dd2",
   "metadata": {},
   "outputs": [],
   "source": [
    "class YourClass(MyBase):\n",
    "    def my_method(self):\n",
    "        super().my_method()\n",
    "        print(\"Hello!\")"
   ]
  },
  {
   "cell_type": "code",
   "execution_count": null,
   "id": "161e010a",
   "metadata": {
    "lines_to_next_cell": 2
   },
   "outputs": [],
   "source": [
    "yc = YourClass()\n",
    "yc.my_method()"
   ]
  },
  {
   "cell_type": "markdown",
   "id": "25c613d9",
   "metadata": {
    "lang": "en"
   },
   "source": [
    "# Workshop\n",
    "\n",
    "See `workshop_950_rpg_dice` to `Factory for RPG Cubes`."
   ]
  },
  {
   "cell_type": "markdown",
   "id": "657cec68",
   "metadata": {
    "lang": "en"
   },
   "source": [
    "## RPG dice\n",
    "\n",
    "In roleplaying games, conflicts between players are often decided by rolling\n",
    "dice, often multiple dice at the same time. Furthermore games often use\n",
    "not only the well known 6-sided dice, but also 4-sided, 8-sided, 20-sided dice, etc.\n",
    "\n",
    "The number and type of dice is described by the following notation:\n",
    "\n",
    "```text\n",
    "<number of dice> d <number of sides per die>\n",
    "```\n",
    "\n",
    "For example, rolling two 6-sided dice is described as `2d6`.\n",
    "Sometimes more complex formulas are used: `3d20 + 2d6 - 4`\n",
    "means that three 20-sided dice and two 6-sided dice are rolled\n",
    "at the same time, and the total sum of numbers is then reduced by 4.\n",
    "\n",
    "In some games, rolling the lowest or highest number of dice is treated\n",
    "in a special way (\"catastrophic failure\", \"critical success\").\n",
    "\n",
    "In the following exercise your task is to implement RPG dice in Python.\n",
    "To simplify testing your implementation it might be advisable\n",
    "to implement it in an IDE, but it is also possible to write tests as\n",
    "assertions in a jupyter notebook. \n",
    "\n",
    "Write tests for each functionality you implement. How can you deal with the\n",
    "randomness in dice rolling? What are the strengths and weaknesses of the strategy\n",
    "you have chosen to test?"
   ]
  },
  {
   "cell_type": "markdown",
   "id": "f2e719c8",
   "metadata": {
    "lang": "en"
   },
   "source": [
    "# Protocols\n",
    "\n",
    "With protocols Python supports structural subtyping, i.e., the derivation of subtype relationships from the structure of classes (in contrast to nominal subtyping where the relationships have to be decalared via inheritance)."
   ]
  },
  {
   "cell_type": "code",
   "execution_count": null,
   "id": "8a6debae",
   "metadata": {},
   "outputs": [],
   "source": [
    "from typing import Protocol, runtime_checkable, SupportsInt"
   ]
  },
  {
   "cell_type": "code",
   "execution_count": null,
   "id": "889a910c",
   "metadata": {},
   "outputs": [],
   "source": [
    "class MyNumber:\n",
    "    def __int__(self):\n",
    "        return 0"
   ]
  },
  {
   "cell_type": "code",
   "execution_count": null,
   "id": "f51a2de6",
   "metadata": {},
   "outputs": [],
   "source": [
    "my_number = MyNumber()\n",
    "int(my_number)"
   ]
  },
  {
   "cell_type": "code",
   "execution_count": null,
   "id": "8c77d7c3",
   "metadata": {},
   "outputs": [],
   "source": [
    "isinstance(MyNumber, SupportsInt)"
   ]
  },
  {
   "cell_type": "code",
   "execution_count": null,
   "id": "a8838585",
   "metadata": {},
   "outputs": [],
   "source": [
    "@runtime_checkable\n",
    "class SupportsCastSpell(Protocol):\n",
    "    def cast_spell(self, name):\n",
    "        ..."
   ]
  },
  {
   "cell_type": "code",
   "execution_count": null,
   "id": "9c4bbdbc",
   "metadata": {},
   "outputs": [],
   "source": [
    "@runtime_checkable\n",
    "class SupportsHit(Protocol):\n",
    "    def hit(self, who, how):\n",
    "        ..."
   ]
  },
  {
   "cell_type": "code",
   "execution_count": null,
   "id": "a22f0621",
   "metadata": {},
   "outputs": [],
   "source": [
    "class Mage:\n",
    "    def __init__(self, name=\"The Mage\"):\n",
    "        self.name = name\n",
    "    def cast_spell(self, spell):\n",
    "        print(f\"{self.name} casts a {spell} spell.\")"
   ]
  },
  {
   "cell_type": "code",
   "execution_count": null,
   "id": "c3b275cb",
   "metadata": {},
   "outputs": [],
   "source": [
    "class Fighter:\n",
    "    @property\n",
    "    def name(self):\n",
    "        return \"The Fighter\"\n",
    "    def hit(self, opponent, weapon):\n",
    "        print(f\"{self.name} attacks {opponent} with {weapon}.\")"
   ]
  },
  {
   "cell_type": "code",
   "execution_count": null,
   "id": "dd07f880",
   "metadata": {},
   "outputs": [],
   "source": [
    "class Bard:\n",
    "    def __init__(self, name=\"The Bard\"):\n",
    "        self.name = name"
   ]
  },
  {
   "cell_type": "code",
   "execution_count": null,
   "id": "33731d4e",
   "metadata": {},
   "outputs": [],
   "source": [
    "p1 = Mage()\n",
    "p2 = Fighter()\n",
    "p3 = Bard()"
   ]
  },
  {
   "cell_type": "code",
   "execution_count": null,
   "id": "b43b4cca",
   "metadata": {},
   "outputs": [],
   "source": [
    "isinstance(p1, SupportsCastSpell)"
   ]
  },
  {
   "cell_type": "code",
   "execution_count": null,
   "id": "25489a9a",
   "metadata": {},
   "outputs": [],
   "source": [
    "isinstance(p2, SupportsCastSpell)"
   ]
  },
  {
   "cell_type": "code",
   "execution_count": null,
   "id": "75313f67",
   "metadata": {},
   "outputs": [],
   "source": [
    "isinstance(p3, SupportsCastSpell)"
   ]
  },
  {
   "cell_type": "code",
   "execution_count": null,
   "id": "77fb926b",
   "metadata": {},
   "outputs": [],
   "source": [
    "isinstance(p1, SupportsHit)"
   ]
  },
  {
   "cell_type": "code",
   "execution_count": null,
   "id": "96b079da",
   "metadata": {},
   "outputs": [],
   "source": [
    "isinstance(p2, SupportsHit)"
   ]
  },
  {
   "cell_type": "code",
   "execution_count": null,
   "id": "2322cb40",
   "metadata": {},
   "outputs": [],
   "source": [
    "isinstance(p3, SupportsHit)"
   ]
  },
  {
   "cell_type": "code",
   "execution_count": null,
   "id": "293abcb1",
   "metadata": {},
   "outputs": [],
   "source": [
    "@runtime_checkable\n",
    "class HasName(Protocol):\n",
    "    @property\n",
    "    def name(self):\n",
    "        ..."
   ]
  },
  {
   "cell_type": "code",
   "execution_count": null,
   "id": "3b7f5172",
   "metadata": {},
   "outputs": [],
   "source": [
    "isinstance(p1, HasName)"
   ]
  },
  {
   "cell_type": "code",
   "execution_count": null,
   "id": "5aff90f2",
   "metadata": {},
   "outputs": [],
   "source": [
    "isinstance(p2, HasName)"
   ]
  },
  {
   "cell_type": "code",
   "execution_count": null,
   "id": "97e95eb0",
   "metadata": {},
   "outputs": [],
   "source": [
    "isinstance(p3, HasName)"
   ]
  },
  {
   "cell_type": "markdown",
   "id": "2c92f8bf",
   "metadata": {
    "lang": "en",
    "slideshow": {
     "slide_type": "subslide"
    }
   },
   "source": [
    "## Mini workshop\n",
    "\n",
    " - Notebook `workshop_190_inheritance`\n",
    " - Section \"Protocols\""
   ]
  },
  {
   "cell_type": "markdown",
   "id": "a325b0de",
   "metadata": {
    "lang": "en"
   },
   "source": [
    "## Single dispatch functions\n",
    "\n",
    "Single dispatch functions allow \"methods\" to be defined outside of classes, i.e. one can define functions that are polymorphic in their first argument.\n",
    "\n",
    "This mechanism allows the flexible extension of already existing classes."
   ]
  },
  {
   "cell_type": "code",
   "execution_count": null,
   "id": "bc9814db",
   "metadata": {},
   "outputs": [],
   "source": [
    "from functools import singledispatch"
   ]
  },
  {
   "cell_type": "code",
   "execution_count": null,
   "id": "a3589a16",
   "metadata": {},
   "outputs": [],
   "source": [
    "@singledispatch\n",
    "def attack(player: HasName, opponent):\n",
    "    print(f\"{player.name} just stares at the carnage.\")"
   ]
  },
  {
   "cell_type": "code",
   "execution_count": null,
   "id": "790a6e52",
   "metadata": {},
   "outputs": [],
   "source": [
    "@attack.register\n",
    "def _(player: Mage, opponent):\n",
    "    player.cast_spell(\"fireball\")"
   ]
  },
  {
   "cell_type": "code",
   "execution_count": null,
   "id": "e3a90239",
   "metadata": {},
   "outputs": [],
   "source": [
    "@attack.register\n",
    "def _(player: Fighter, opponent):\n",
    "    player.hit(opponent, \"sword\")"
   ]
  },
  {
   "cell_type": "code",
   "execution_count": null,
   "id": "89e44be7",
   "metadata": {},
   "outputs": [],
   "source": [
    "attack(p1, \"The Baddie\")"
   ]
  },
  {
   "cell_type": "code",
   "execution_count": null,
   "id": "b4b01d8d",
   "metadata": {},
   "outputs": [],
   "source": [
    "attack(p2, \"The Baddie\")"
   ]
  },
  {
   "cell_type": "code",
   "execution_count": null,
   "id": "65ed0398",
   "metadata": {},
   "outputs": [],
   "source": [
    "attack(p3, \"The Baddie\")"
   ]
  },
  {
   "cell_type": "markdown",
   "id": "f848feba",
   "metadata": {
    "lang": "en",
    "slideshow": {
     "slide_type": "slide"
    }
   },
   "source": [
    "## Multiple inheritance"
   ]
  },
  {
   "cell_type": "code",
   "execution_count": null,
   "id": "15319dca",
   "metadata": {
    "tags": [
     "keep"
    ]
   },
   "outputs": [],
   "source": [
    "class A:\n",
    "    \"\"\"Superclass of everything\"\"\"\n",
    "    def __init__(self, arg_a=\"arg_a\", **kwargs):\n",
    "        super().__init__(**kwargs)\n",
    "        print(f\"__init__(A, {arg_a})\")\n",
    "    \n",
    "    def f(self):\n",
    "        print(f\"f(A) on {self!r}\")\n",
    "\n",
    "    def g(self):\n",
    "        print(f\"g(A) on {self!r}\")"
   ]
  },
  {
   "cell_type": "code",
   "execution_count": null,
   "id": "0b405884",
   "metadata": {
    "tags": [
     "keep"
    ]
   },
   "outputs": [],
   "source": [
    "class B(A):\n",
    "    def __init__(self, arg_b=\"arg_b\", **kwargs):\n",
    "        super().__init__(**kwargs)\n",
    "        print(f\"__init__(B, {arg_b})\")\n",
    "\n",
    "    def f(self):\n",
    "        print(f\"f(B) on {self!r}\")\n",
    "        super().f()\n",
    "\n",
    "    def g(self):\n",
    "        print(f\"g(B) on {self!r}\")\n",
    "        A.g(self)"
   ]
  },
  {
   "cell_type": "code",
   "execution_count": null,
   "id": "0a15e928",
   "metadata": {
    "tags": [
     "keep"
    ]
   },
   "outputs": [],
   "source": [
    "class C(A):\n",
    "    def __init__(self, arg_c=\"arg_c\", **kwargs):\n",
    "        super().__init__(**kwargs)\n",
    "        print(f\"__init__(C, {arg_c})\")\n",
    "    \n",
    "    def f(self):\n",
    "        print(f\"f(C) on {self!r}\")\n",
    "        super().f()\n",
    "\n",
    "    def g(self):\n",
    "        print(f\"g(C) on {self!r}\")\n",
    "        A.g(self)"
   ]
  },
  {
   "cell_type": "code",
   "execution_count": null,
   "id": "f0d5db20",
   "metadata": {
    "tags": [
     "keep"
    ]
   },
   "outputs": [],
   "source": [
    "class D(B, C):\n",
    "    def __init__(self, arg_d=\"arg_d\", **kwargs):\n",
    "        super().__init__(**kwargs)\n",
    "        print(f\"__init__(D, {arg_d})\")\n",
    "    \n",
    "    def f(self):\n",
    "        print(f\"f(D) on {self!r}\")\n",
    "        super().f()\n",
    "\n",
    "    def g(self):\n",
    "        print(f\"g(D) on {self!r}\")\n",
    "        B.g(self)\n",
    "        C.g(self)"
   ]
  },
  {
   "cell_type": "code",
   "execution_count": null,
   "id": "04380ac5",
   "metadata": {},
   "outputs": [],
   "source": [
    "d = D()\n",
    "d.f()"
   ]
  },
  {
   "cell_type": "code",
   "execution_count": null,
   "id": "758ead79",
   "metadata": {},
   "outputs": [],
   "source": [
    "d.g()"
   ]
  },
  {
   "cell_type": "code",
   "execution_count": null,
   "id": "a41769d5",
   "metadata": {},
   "outputs": [],
   "source": [
    "type(d).mro()"
   ]
  },
  {
   "cell_type": "code",
   "execution_count": null,
   "id": "dc108ec7",
   "metadata": {
    "tags": [
     "keep"
    ]
   },
   "outputs": [],
   "source": []
  }
 ],
 "metadata": {
  "kernelspec": {
   "display_name": "Python 3 (ipykernel)",
   "language": "python",
   "name": "python3"
  }
 },
 "nbformat": 4,
 "nbformat_minor": 5
}
