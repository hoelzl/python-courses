{
 "cells": [
  {
   "cell_type": "markdown",
   "id": "5882f24381386c2a",
   "metadata": {
    "lang": "en",
    "slideshow": {
     "slide_type": "slide"
    }
   },
   "source": [
    "<img src=\"../img/python-logo-no-text.png\"\n",
    "     style=\"display:block;margin:auto;width:10%\"/>\n",
    "<br>\n",
    "<div style=\"text-align:center; font-size:200%;\">\n",
    "  <b>User Input</b>\n",
    "</div>\n",
    "<br/>\n",
    "<div style=\"text-align:center;\">Dr. Matthias Hölzl</div>\n",
    "<br/>\n",
    "<!-- <div style=\"text-align:center;\">module_140_control_flow/topic_150_a3_user_input</div> -->\n",
    "\n"
   ]
  },
  {
   "cell_type": "markdown",
   "id": "6a79db300064f67c",
   "metadata": {
    "lang": "en",
    "slideshow": {
     "slide_type": "slide"
    }
   },
   "source": [
    "# User input\n",
    "\n",
    " - The `input()` function allows the user to enter text.\n",
    " - Optionally, it can output an input prompt.\n",
    " - The function returns the text entered by the user as a string."
   ]
  },
  {
   "cell_type": "code",
   "execution_count": null,
   "id": "804488a647b28d22",
   "metadata": {
    "lines_to_next_cell": 2,
    "tags": [
     "keep"
    ]
   },
   "outputs": [],
   "source": [
    "# input(\"What is your name? \")"
   ]
  },
  {
   "cell_type": "code",
   "execution_count": null,
   "id": "1a6c16a45aad0943",
   "metadata": {},
   "outputs": [],
   "source": [
    "def query_name():\n",
    "    name = input(\"What is your name? \")\n",
    "    print(f\"You entered {name}\")"
   ]
  },
  {
   "cell_type": "code",
   "execution_count": null,
   "id": "ead9803f2b86d2b3",
   "metadata": {
    "tags": [
     "keep"
    ]
   },
   "outputs": [],
   "source": [
    "# query_name()"
   ]
  },
  {
   "cell_type": "markdown",
   "id": "ecf2c66ffbc20d93",
   "metadata": {
    "lang": "en",
    "slideshow": {
     "slide_type": "subslide"
    }
   },
   "source": [
    "## Example: conversion of temperatures\n",
    "\n",
    "We want to write an application that will ask the user for a temperature\n",
    "in Fahrenheit and return the corresponding temperature in degrees Celsius."
   ]
  },
  {
   "cell_type": "code",
   "execution_count": null,
   "id": "3be3eb6c5897f2b2",
   "metadata": {
    "lang": "en"
   },
   "outputs": [],
   "source": [
    "def convert_fahrenheit_to_celsius(fahrenheit):\n",
    "    return (fahrenheit - 32) * 5 / 9"
   ]
  },
  {
   "cell_type": "code",
   "execution_count": null,
   "id": "c5c3b568e32926ed",
   "metadata": {
    "lang": "en"
   },
   "outputs": [],
   "source": [
    "assert convert_fahrenheit_to_celsius(32) == 0.0"
   ]
  },
  {
   "cell_type": "code",
   "execution_count": null,
   "id": "313a8a482ed45b11",
   "metadata": {
    "lang": "en",
    "lines_to_next_cell": 2
   },
   "outputs": [],
   "source": [
    "import math\n",
    "\n",
    "assert math.isclose(convert_fahrenheit_to_celsius(90), 32.222, abs_tol=0.001)"
   ]
  },
  {
   "cell_type": "code",
   "execution_count": null,
   "id": "4ad07470c4ac3424",
   "metadata": {
    "lang": "en",
    "lines_to_next_cell": 1
   },
   "outputs": [],
   "source": [
    "float(\"1.23\")"
   ]
  },
  {
   "cell_type": "code",
   "execution_count": null,
   "id": "c29defc15526f625",
   "metadata": {
    "lang": "en",
    "lines_to_next_cell": 2,
    "slideshow": {
     "slide_type": "subslide"
    }
   },
   "outputs": [],
   "source": [
    "def convert_temperature_1():\n",
    "    fahrenheit = input(\"Please enter the temperature in Fahrenheit: \")\n",
    "    celsius = convert_fahrenheit_to_celsius(float(fahrenheit))\n",
    "    print(f\"{fahrenheit}F are {celsius}°C\")"
   ]
  },
  {
   "cell_type": "code",
   "execution_count": null,
   "id": "df1978160c46f1b9",
   "metadata": {
    "lang": "en",
    "lines_to_next_cell": 2
   },
   "outputs": [],
   "source": [
    "# convert_temperature_1()"
   ]
  },
  {
   "cell_type": "code",
   "execution_count": null,
   "id": "6c5ac1cdfd716f70",
   "metadata": {},
   "outputs": [],
   "source": [
    "# konvertiere_temperatur_2()"
   ]
  },
  {
   "cell_type": "markdown",
   "id": "a9fee9a301c6b086",
   "metadata": {
    "lang": "en",
    "slideshow": {
     "slide_type": "subslide"
    }
   },
   "source": [
    "\n",
    "We can print a message if the user doesn't type anything (and\n",
    "make the output a little nicer):"
   ]
  },
  {
   "cell_type": "code",
   "execution_count": null,
   "id": "81c3db2a2627ebe2",
   "metadata": {
    "lang": "en",
    "slideshow": {
     "slide_type": "subslide"
    }
   },
   "outputs": [],
   "source": [
    "def convert_temperature_2():\n",
    "    fahrenheit = input(\"Please enter the temperature in Fahrenheit: \")\n",
    "    if fahrenheit != \"\":\n",
    "        celsius = convert_fahrenheit_to_celsius(float(fahrenheit))\n",
    "        print(f\"{fahrenheit}F are {celsius}°C\")\n",
    "    else:\n",
    "        print(\"Please enter a valid temperature.\")"
   ]
  },
  {
   "cell_type": "code",
   "execution_count": null,
   "id": "8e7ac5034c227cf6",
   "metadata": {
    "lang": "en"
   },
   "outputs": [],
   "source": [
    "# convert_temperature_2()"
   ]
  },
  {
   "cell_type": "markdown",
   "id": "b89b7a339ff90239",
   "metadata": {
    "lang": "en",
    "slideshow": {
     "slide_type": "subslide"
    }
   },
   "source": [
    "## Mini workshop\n",
    "\n",
    " - Notebook `ws_150_user_input`\n",
    " - Section \"Conversion to Miles\""
   ]
  },
  {
   "cell_type": "code",
   "execution_count": null,
   "id": "65e2f6bac62e92f7",
   "metadata": {
    "lang": "en",
    "lines_to_next_cell": 2,
    "slideshow": {
     "slide_type": "subslide"
    }
   },
   "outputs": [],
   "source": [
    "def convert_temperature_3():\n",
    "    fahrenheit = input(\"Please enter the temperature in Fahrenheit: \")\n",
    "    if fahrenheit:\n",
    "        celsius = convert_fahrenheit_to_celsius(float(fahrenheit))\n",
    "        print(f\"{fahrenheit}F are {celsius}°C\")\n",
    "    else:\n",
    "        print(\"Please enter a valid temperature.\")"
   ]
  },
  {
   "cell_type": "code",
   "execution_count": null,
   "id": "3d5c0bd69103dba3",
   "metadata": {
    "lang": "en"
   },
   "outputs": [],
   "source": [
    "# convert_temperature_3()"
   ]
  },
  {
   "cell_type": "markdown",
   "id": "59fe077d093a469d",
   "metadata": {
    "lang": "en"
   },
   "source": [
    "## Mini workshop\n",
    "\n",
    " - Notebook `ws_150_user_input`\n",
    " - Section \"Conversion to Miles with Truthiness\""
   ]
  },
  {
   "cell_type": "markdown",
   "id": "6d852d6159c4cdd3",
   "metadata": {
    "lang": "en"
   },
   "source": [
    "## Extra mini workshop\n",
    "\n",
    " - Notebook `ws_150_user_input`\n",
    " - Section \"Cinema Price\""
   ]
  },
  {
   "cell_type": "code",
   "execution_count": null,
   "id": "6b4e03423667dbb7",
   "metadata": {},
   "outputs": [],
   "source": []
  }
 ],
 "metadata": {},
 "nbformat": 4,
 "nbformat_minor": 5
}
