{
 "cells": [
  {
   "cell_type": "markdown",
   "id": "fcc7818f50d5f0f0",
   "metadata": {
    "lang": "en",
    "lines_to_next_cell": 2,
    "slideshow": {
     "slide_type": "slide"
    }
   },
   "source": [
    "<img src=\"../img/python-logo-no-text.png\"\n",
    "     style=\"display:block;margin:auto;width:10%\"/>\n",
    "<br>\n",
    "<div style=\"text-align:center; font-size:200%;\">\n",
    "  <b>Workshop: User Input</b>\n",
    "</div>\n",
    "<br/>\n",
    "<div style=\"text-align:center;\">Dr. Matthias Hölzl</div>\n",
    "<br/>\n",
    "<!-- <div style=\"text-align:center;\">module_140_control_flow/ws_150_user_input</div> -->"
   ]
  },
  {
   "cell_type": "markdown",
   "id": "a261983905c7115e",
   "metadata": {
    "lang": "en"
   },
   "source": [
    "# Conversion to miles\n",
    "\n",
    "Write a function `convert_km_to_miles(km)` that converts the value `km` from kilometers to miles (i.e. the value in miles is returned).\n",
    "\n",
    "*Note:*\n",
    "- One kilometer equals $0,621371$ miles"
   ]
  },
  {
   "cell_type": "code",
   "execution_count": null,
   "id": "e228f9c71ecfb828",
   "metadata": {
    "lang": "en"
   },
   "outputs": [],
   "source": [
    "def convert_km_to_miles(km):\n",
    "    return km * 0.621371"
   ]
  },
  {
   "cell_type": "markdown",
   "id": "b92ccc7accc2c395",
   "metadata": {
    "lang": "en"
   },
   "source": [
    "Test `convert_km_to_miles(km)` for 1 and 5 km."
   ]
  },
  {
   "cell_type": "code",
   "execution_count": null,
   "id": "8272b90a4dbc6a03",
   "metadata": {
    "lang": "en"
   },
   "outputs": [],
   "source": [
    "import math\n",
    "\n",
    "assert math.isclose(convert_km_to_miles(1), 0.621371)"
   ]
  },
  {
   "cell_type": "code",
   "execution_count": null,
   "id": "95671429a87ea303",
   "metadata": {
    "lang": "en"
   },
   "outputs": [],
   "source": [
    "assert math.isclose(convert_km_to_miles(5), 3.107, abs_tol=0.001)"
   ]
  },
  {
   "cell_type": "markdown",
   "id": "5f4c47291b68f01b",
   "metadata": {
    "lang": "en"
   },
   "source": [
    "\n",
    "Write a function `miles_app()` that reads a length in kilometers from the user\n",
    "and prints out the equivalent distance in miles. If the user enters an empty\n",
    "string, `Please enter a valid distance in km.` should be printed on the\n",
    "screen.\n",
    "\n",
    "*Notes*\n",
    "- A string can be converted to a float value with `float()`."
   ]
  },
  {
   "cell_type": "code",
   "execution_count": null,
   "id": "55b438096236c82a",
   "metadata": {
    "lang": "en",
    "lines_to_next_cell": 2
   },
   "outputs": [],
   "source": [
    "def miles_app():\n",
    "    km = input(\"Please enter a distance in km: \")\n",
    "    if km != \"\":\n",
    "        meilen = konvertiere_km_nach_meilen(float(km))\n",
    "        print(f\"{km} km are {meilen} miles.\")\n",
    "    else:\n",
    "        print(\"Please enter a valid distance in km.\")"
   ]
  },
  {
   "cell_type": "code",
   "execution_count": null,
   "id": "d7e443902ea574b6",
   "metadata": {
    "lang": "en",
    "lines_to_next_cell": 2
   },
   "outputs": [],
   "source": [
    "# miles_app()"
   ]
  },
  {
   "cell_type": "markdown",
   "id": "a40864534b85f18c",
   "metadata": {
    "lang": "en"
   },
   "source": [
    "# Conversion to miles with Truthiness\n",
    "\n",
    "Write a function `miles_app_2` that behaves similar to `miles_app` but\n",
    "exploits the truthiness of strings."
   ]
  },
  {
   "cell_type": "code",
   "execution_count": null,
   "id": "7200b80fd5f15982",
   "metadata": {
    "lang": "en"
   },
   "outputs": [],
   "source": [
    "def miles_app_2():\n",
    "    km = input(\"Please enter a distance in km: \")\n",
    "    if km:\n",
    "        meilen = konvertiere_km_nach_meilen(float(km))\n",
    "        print(f\"{km} km are {meilen} miles.\")\n",
    "    else:\n",
    "        print(\"Please enter a valid distance in km.\")"
   ]
  },
  {
   "cell_type": "code",
   "execution_count": null,
   "id": "c92abc7c89d2a198",
   "metadata": {
    "lang": "en"
   },
   "outputs": [],
   "source": [
    "miles_app_2()"
   ]
  },
  {
   "cell_type": "markdown",
   "id": "723a81c74da15a86",
   "metadata": {
    "lang": "en"
   },
   "source": [
    "# Cinema price\n",
    "\n",
    "The Python-Cinema has the following entrance fees:\n",
    "\n",
    "- Infants under 2 years are free.\n",
    "- Children from 2-12 years pay 2 euros.\n",
    "- Teenagers aged 13-17 pay 5 euros.\n",
    "- Adults pay 10 euros.\n",
    "- Pensioners (over 65) pay 6 euros.\n",
    "\n",
    "Write a function `cinema_price(age)` that returns the price in Euros a person with age `age` has to pay."
   ]
  },
  {
   "cell_type": "code",
   "execution_count": null,
   "id": "09828b49893d3c69",
   "metadata": {
    "lang": "en"
   },
   "outputs": [],
   "source": [
    "def cinema_price(age):\n",
    "    if age < 2:\n",
    "        return 0\n",
    "    elif age <= 12:\n",
    "        return 2\n",
    "    elif age <= 17:\n",
    "        return 5\n",
    "    elif age < 65:\n",
    "        return 10\n",
    "    else:\n",
    "        return 6"
   ]
  },
  {
   "cell_type": "markdown",
   "id": "341d06c16e0cec59",
   "metadata": {
    "lang": "en"
   },
   "source": [
    "Test the function `cinema_price()` for some representative values."
   ]
  },
  {
   "cell_type": "markdown",
   "id": "b3be90c5bdcfc2fd",
   "metadata": {
    "lang": "en"
   },
   "source": [
    "Write a function `print_cinema_price(age)`, that prints a text of the following type on the screen:\n",
    "\n",
    "```\n",
    "You are 1 year old. Your price is 0 Euro.\n",
    "You are 15 years old. Your price is 5 Euro.\n",
    "```"
   ]
  },
  {
   "cell_type": "code",
   "execution_count": null,
   "id": "8ed80ec27586c7a6",
   "metadata": {
    "lang": "en"
   },
   "outputs": [],
   "source": [
    "def print_cinema_price(age):\n",
    "    price = kinopreis(age)\n",
    "    if age == 1:\n",
    "        print(f\"You are 1 year old. Your price is {price} Euro.\")\n",
    "    else:\n",
    "        print(f\"You are {age} years old. Your price is {price} Euro.\")"
   ]
  },
  {
   "cell_type": "markdown",
   "id": "aae866d6a62afd6e",
   "metadata": {
    "lang": "en"
   },
   "source": [
    "Test `print_cinema_price()` for representative values."
   ]
  },
  {
   "cell_type": "code",
   "execution_count": null,
   "id": "29236a1b886d1755",
   "metadata": {
    "lang": "en"
   },
   "outputs": [],
   "source": [
    "print_cinema_price(1)\n",
    "print_cinema_price(7)\n",
    "print_cinema_price(15)\n",
    "print_cinema_price(25)\n",
    "print_cinema_price(70)"
   ]
  },
  {
   "cell_type": "markdown",
   "id": "46434311f0e2479b",
   "metadata": {
    "lang": "en"
   },
   "source": [
    "Write a function `cinema_app()` that reads an age and prints the\n",
    "cinema price for a person of this age in the format just described. Two example interactions:\n",
    "\n",
    "```\n",
    "How old are they? 37\n",
    "You are 37 years old. Their price is 10 euros.\n",
    "\n",
    "How old are they? 12\n",
    "You are 12 years old. Their price is 2 euros.\n",
    "```"
   ]
  },
  {
   "cell_type": "code",
   "execution_count": null,
   "id": "2ee584505cc180d4",
   "metadata": {
    "lang": "en"
   },
   "outputs": [],
   "source": [
    "def cinema_app():\n",
    "    age = input(\"How old are you? \")\n",
    "    if age:\n",
    "        print_cinema_price(int(age))\n",
    "    else:\n",
    "        print(\"Please enter a valid age.\")"
   ]
  },
  {
   "cell_type": "code",
   "execution_count": null,
   "id": "e1845dcdfad5422e",
   "metadata": {
    "lang": "en",
    "lines_to_next_cell": 2
   },
   "outputs": [],
   "source": [
    "cinema_app()"
   ]
  },
  {
   "cell_type": "code",
   "execution_count": null,
   "id": "6b4e03423667dbb7",
   "metadata": {},
   "outputs": [],
   "source": []
  }
 ],
 "metadata": {},
 "nbformat": 4,
 "nbformat_minor": 5
}
