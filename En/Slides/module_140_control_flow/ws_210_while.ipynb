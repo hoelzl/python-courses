{
 "cells": [
  {
   "cell_type": "code",
   "execution_count": null,
   "id": "6b4e03423667dbb7",
   "metadata": {},
   "outputs": [],
   "source": []
  },
  {
   "cell_type": "markdown",
   "id": "8606a09575a1caab",
   "metadata": {
    "lang": "en"
   },
   "source": [
    "# Guessing games\n",
    "\n",
    "The following simple \"games\" allow the player unlimited number of\n",
    "inputs. Therefore, it makes sense to use a while loop\n",
    "to implement them.\n",
    "\n",
    "### Guess a word\n",
    "\n",
    "Implement a function `guess_word(solution)` that prompts the user for a word and\n",
    "keeps asking until the word typed by the user matches `solution`."
   ]
  },
  {
   "cell_type": "code",
   "execution_count": null,
   "id": "1fefd45401c57338",
   "metadata": {
    "lang": "en"
   },
   "outputs": [],
   "source": [
    "def guess_word(solution):\n",
    "    guess = input(\"Please enter a word: \")\n",
    "    while guess != solution:\n",
    "        guess = input(\"Try again: \")\n",
    "    print(\"That's correct!\")"
   ]
  },
  {
   "cell_type": "code",
   "execution_count": null,
   "id": "71024168a746a52b",
   "metadata": {
    "lang": "en"
   },
   "outputs": [],
   "source": [
    "# guess_word(\"Home\")"
   ]
  },
  {
   "cell_type": "markdown",
   "id": "0735960f2b1aa7e3",
   "metadata": {
    "lang": "en"
   },
   "source": [
    "### Number guesses\n",
    "\n",
    "Implement a function `guess_number(solution)` that asks the user for a number\n",
    "and keeps asking until the user has guessed the solution. After every input\n",
    "the function should display whether the entered number is too big, too small\n",
    "or the correct number."
   ]
  },
  {
   "cell_type": "code",
   "execution_count": null,
   "id": "f745b4673f579729",
   "metadata": {
    "lang": "en"
   },
   "outputs": [],
   "source": [
    "def guess_number(solution):\n",
    "    geratene_zahl = input(\"Please enter a number: \")\n",
    "    while int(geratene_zahl) != solution:\n",
    "        if int(geratene_zahl) < solution:\n",
    "            print(f\"{geratene_zahl} is too small.\")\n",
    "        else:\n",
    "            print(f\"{geratene_zahl} is too large.\")\n",
    "        geratene_zahl = input(\"Please try again: \")\n",
    "    print(\"You won!\")"
   ]
  },
  {
   "cell_type": "code",
   "execution_count": null,
   "id": "a0626ea5bfb2364c",
   "metadata": {
    "lang": "en"
   },
   "outputs": [],
   "source": [
    "# guess_number(23)"
   ]
  },
  {
   "cell_type": "markdown",
   "id": "0949fb810848b70d",
   "metadata": {
    "lang": "en"
   },
   "source": [
    "How do you have to modify your solution to allow the player to input\n",
    "an empty string to abort the game?"
   ]
  },
  {
   "cell_type": "code",
   "execution_count": null,
   "id": "40c289928ae35888",
   "metadata": {},
   "outputs": [],
   "source": [
    "def rate_zahl_1(lösung):\n",
    "    geratene_zahl = input(\"Bitte geben Sie eine Zahl ein: \")\n",
    "    while geratene_zahl and int(geratene_zahl) != lösung:\n",
    "        if int(geratene_zahl) < lösung:\n",
    "            print(f\"{geratene_zahl} ist zu klein.\")\n",
    "        else:\n",
    "            print(f\"{geratene_zahl} ist zu groß.\")\n",
    "        geratene_zahl = input(\"Bitte versuchen Sie es noch einmal: \")\n",
    "    if geratene_zahl:\n",
    "        print(\"Sie haben gewonnen!\")\n",
    "    else:\n",
    "        print(\"Aufgeben ist feige!\")"
   ]
  },
  {
   "cell_type": "code",
   "execution_count": null,
   "id": "bfaa968a0fc051fa",
   "metadata": {},
   "outputs": [],
   "source": [
    "# rate_zahl_1(23)"
   ]
  },
  {
   "cell_type": "markdown",
   "id": "5a6c9970c76c59f6",
   "metadata": {
    "lang": "en"
   },
   "source": [
    "Solution using the `classify_number` function"
   ]
  },
  {
   "cell_type": "code",
   "execution_count": null,
   "id": "987d068e8d8e0fad",
   "metadata": {},
   "outputs": [],
   "source": [
    "def klassifiziere_zahl(geratene_zahl, lösung):\n",
    "    if geratene_zahl < lösung:\n",
    "        return False, \"Die geratene Zahl ist zu klein! \"\n",
    "    elif geratene_zahl > lösung:\n",
    "        return False, \"Die geratene Zahl ist zu groß! \"\n",
    "    else:\n",
    "        return True, \"Sie haben gewonnen!\""
   ]
  },
  {
   "cell_type": "code",
   "execution_count": null,
   "id": "dd23359bb44c5578",
   "metadata": {
    "lines_to_next_cell": 2
   },
   "outputs": [],
   "source": [
    "def rate_zahl_2(lösung):\n",
    "    geratene_zahl = input(\"Bitte geben Sie eine Zahl ein: \")\n",
    "    erfolg, hinweis = klassifiziere_zahl(int(geratene_zahl), lösung)\n",
    "    while not erfolg:\n",
    "        geratene_zahl = input(hinweis)\n",
    "        erfolg, hinweis = klassifiziere_zahl(int(geratene_zahl), lösung)\n",
    "    print(\"Sie haben gewonnen!\")"
   ]
  },
  {
   "cell_type": "code",
   "execution_count": null,
   "id": "876c0539dec1f1ea",
   "metadata": {},
   "outputs": [],
   "source": [
    "# rate_zahl_2(23)"
   ]
  }
 ],
 "metadata": {},
 "nbformat": 4,
 "nbformat_minor": 5
}
