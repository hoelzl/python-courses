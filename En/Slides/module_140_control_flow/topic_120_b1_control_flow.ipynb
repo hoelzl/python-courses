{
 "cells": [
  {
   "cell_type": "markdown",
   "id": "503e0a7c7d33ddc2",
   "metadata": {
    "lang": "en",
    "lines_to_next_cell": 2,
    "slideshow": {
     "slide_type": "slide"
    }
   },
   "source": [
    "<img src=\"../../img/python-logo-no-text.svg\"\n",
    "     style=\"display:block;margin:auto;width:10%\"/>\n",
    "<br>\n",
    "<div style=\"text-align:center; font-size:200%;\">\n",
    "  <b>Control Structures</b>\n",
    "</div>\n",
    "<br/>\n",
    "<div style=\"text-align:center;\">Dr. Matthias Hölzl</div>\n",
    "<br/>\n",
    "<div style=\"text-align:center;\">module_140_control_flow/topic_120_b1_control_flow</div>"
   ]
  },
  {
   "cell_type": "markdown",
   "id": "4eb32e1776d697f9",
   "metadata": {
    "lang": "en"
   },
   "source": [
    "# `if` statements\n",
    "\n",
    "- We want to write a program that determines if a number is a lucky number or not:\n",
    "    - 7 is a lucky number\n",
    "    - all other numbers are not.\n",
    "- We need the `if` statement for this:"
   ]
  },
  {
   "cell_type": "code",
   "execution_count": null,
   "id": "bf96b3b3e53c6fed",
   "metadata": {
    "lang": "en",
    "lines_to_next_cell": 1,
    "slideshow": {
     "slide_type": "subslide"
    }
   },
   "outputs": [],
   "source": [
    "def is_lucky_number(number):\n",
    "    if number == 7:\n",
    "        print(\"lucky number\")\n",
    "    else:\n",
    "        print(\"not a lucky number\")"
   ]
  },
  {
   "cell_type": "code",
   "execution_count": null,
   "id": "682c8e9481b9f4f0",
   "metadata": {
    "lang": "en"
   },
   "outputs": [],
   "source": [
    "is_lucky_number(1)"
   ]
  },
  {
   "cell_type": "code",
   "execution_count": null,
   "id": "ec828a90a041fd85",
   "metadata": {
    "lang": "en"
   },
   "outputs": [],
   "source": [
    "is_lucky_number(7)"
   ]
  },
  {
   "cell_type": "code",
   "execution_count": null,
   "id": "1d7e83611b1f83bd",
   "metadata": {
    "lang": "en",
    "lines_to_next_cell": 1,
    "slideshow": {
     "slide_type": "subslide"
    },
    "tags": [
     "keep"
    ]
   },
   "outputs": [],
   "source": [
    "def is_lucky_number_1(number):\n",
    "    print(\"Is\", number, \"a lucky number?\")\n",
    "\n",
    "    if number == 7:\n",
    "        print(\"Yes!\")\n",
    "    else:\n",
    "        print(\"Unfortunately no.\")\n",
    "\n",
    "    print(\"We wish you all the best.\")"
   ]
  },
  {
   "cell_type": "code",
   "execution_count": null,
   "id": "b41e4fed6adbbcbf",
   "metadata": {
    "lang": "en",
    "tags": [
     "keep"
    ]
   },
   "outputs": [],
   "source": [
    "is_lucky_number_1(1)"
   ]
  },
  {
   "cell_type": "code",
   "execution_count": null,
   "id": "79a838925b0eb4a4",
   "metadata": {
    "lang": "en",
    "tags": [
     "keep"
    ]
   },
   "outputs": [],
   "source": [
    "is_lucky_number_1(7)"
   ]
  },
  {
   "cell_type": "code",
   "execution_count": null,
   "id": "cdbe0cedbcd047d3",
   "metadata": {
    "lang": "en",
    "slideshow": {
     "slide_type": "subslide"
    },
    "tags": [
     "keep"
    ]
   },
   "outputs": [],
   "source": [
    "def is_lucky_number_2(number):\n",
    "    if number == 7:\n",
    "        print(number, \"is a lucky number!\")\n",
    "        print(\"You must be having a great day!\")\n",
    "    else:\n",
    "        print(number, \"is unfortunately not a lucky number.\")\n",
    "        print(\"Maybe you should stay in bed today.\")\n",
    "        print(\"We wish you all the best anyway.\")"
   ]
  },
  {
   "cell_type": "code",
   "execution_count": null,
   "id": "6290abbb7f1f632c",
   "metadata": {
    "lang": "en",
    "tags": [
     "keep"
    ]
   },
   "outputs": [],
   "source": [
    "is_lucky_number_2(1)"
   ]
  },
  {
   "cell_type": "code",
   "execution_count": null,
   "id": "c5d4a5386cd2a421",
   "metadata": {
    "lang": "en",
    "lines_to_next_cell": 2,
    "tags": [
     "keep"
    ]
   },
   "outputs": [],
   "source": [
    "is_lucky_number_2(7)"
   ]
  },
  {
   "cell_type": "markdown",
   "id": "4a641d9af398d677",
   "metadata": {
    "lang": "en",
    "slideshow": {
     "slide_type": "slide"
    }
   },
   "source": [
    "## Structure of an `if` statement (incomplete):\n",
    "\n",
    "```python\n",
    "if <Bedingung>:\n",
    "    # Body that runs if condition 1 is true\n",
    "else:\n",
    "    # Body that is executed if none of the conditions are true\n",
    "```\n",
    "- Only the `if` and the first body are necessary\n",
    "- If an `else` is present, the corresponding body must not be empty"
   ]
  },
  {
   "cell_type": "markdown",
   "id": "0dfe8d5366d63e9e",
   "metadata": {
    "lang": "en",
    "slideshow": {
     "slide_type": "subslide"
    }
   },
   "source": [
    "\n",
    "## Mini workshop\n",
    "\n",
    "- Notebook `ws_120_control_flow`\n",
    "- Section \"Adult\"\n",
    "\n",
    "## Bonus Workshops\n",
    "- Section \"Shortened output\"\n",
    " - Section \"Even number\""
   ]
  },
  {
   "cell_type": "markdown",
   "id": "4fd2ff403bace8dc",
   "metadata": {
    "lang": "en",
    "lines_to_next_cell": 2,
    "tags": [
     "subsection"
    ]
   },
   "source": [
    "\n",
    "## One-sided `if`"
   ]
  },
  {
   "cell_type": "code",
   "execution_count": null,
   "id": "c4e64e1d851bfe88",
   "metadata": {
    "lang": "en",
    "slideshow": {
     "slide_type": "subslide"
    },
    "tags": [
     "keep"
    ]
   },
   "outputs": [],
   "source": [
    "def one_sided_if(number):\n",
    "    print(\"Before\")\n",
    "\n",
    "    if number == 7:\n",
    "        print(number, \"is a lucky number\")\n",
    "        print(\"Congratulations!\")\n",
    "\n",
    "    print(\"After\")"
   ]
  },
  {
   "cell_type": "code",
   "execution_count": null,
   "id": "d4aaae450325098c",
   "metadata": {
    "lang": "en",
    "tags": [
     "keep"
    ]
   },
   "outputs": [],
   "source": [
    "one_sided_if(1)"
   ]
  },
  {
   "cell_type": "code",
   "execution_count": null,
   "id": "497c04f90cc649b9",
   "metadata": {
    "lang": "en",
    "lines_to_next_cell": 1,
    "tags": [
     "keep"
    ]
   },
   "outputs": [],
   "source": [
    "one_sided_if(7)"
   ]
  },
  {
   "cell_type": "markdown",
   "id": "a3733d8629cc9659",
   "metadata": {
    "lang": "en",
    "slideshow": {
     "slide_type": "subslide"
    }
   },
   "source": [
    "\n",
    "## Multiple branches\n",
    "\n",
    " - We want to write a game in which the player has to guess a number between 1 and\n",
    "   100.\n",
    " - After guessing, he gets the information whether his number is too high,\n",
    "   too low or correct.\n",
    " - In a later iteration we want to give the player multiple tries."
   ]
  },
  {
   "cell_type": "code",
   "execution_count": null,
   "id": "fc0bc0d085393890",
   "metadata": {
    "tags": [
     "keep"
    ]
   },
   "outputs": [],
   "source": [
    "def klassifiziere_zahl(geratene_zahl, lösung):\n",
    "    if geratene_zahl < lösung:\n",
    "        print(\"Die geratene Zahl ist zu klein!\")\n",
    "    elif geratene_zahl > lösung:\n",
    "        print(\"Die geratene Zahl ist zu groß!\")\n",
    "    else:\n",
    "        print(\"Sie haben gewonnen!\")"
   ]
  },
  {
   "cell_type": "code",
   "execution_count": null,
   "id": "78f2e5869e9700a8",
   "metadata": {
    "tags": [
     "keep"
    ]
   },
   "outputs": [],
   "source": [
    "klassifiziere_zahl(10, 12)"
   ]
  },
  {
   "cell_type": "code",
   "execution_count": null,
   "id": "49a183ab9b750f0f",
   "metadata": {
    "tags": [
     "keep"
    ]
   },
   "outputs": [],
   "source": [
    "klassifiziere_zahl(14, 12)"
   ]
  },
  {
   "cell_type": "code",
   "execution_count": null,
   "id": "999c1f716f26291d",
   "metadata": {
    "lines_to_next_cell": 2,
    "tags": [
     "keep"
    ]
   },
   "outputs": [],
   "source": [
    "klassifiziere_zahl(12, 12)"
   ]
  },
  {
   "cell_type": "markdown",
   "id": "faf7789babc67103",
   "metadata": {
    "lang": "en",
    "slideshow": {
     "slide_type": "subslide"
    }
   },
   "source": [
    "## Structure of an `if` statement (complete):\n",
    "\n",
    "```python\n",
    "if <Bedingung 1>:\n",
    "    # Body that runs if condition 1 is true\n",
    "elif <Bedingung 2>:\n",
    "    # Body executed if condition 2 is true\n",
    "...\n",
    "else:\n",
    "    # Body that is executed if none of the conditions are true\n",
    "```\n",
    "- Only the `if` and the first body are necessary\n",
    "- If there is an `elif` or an `else`, the corresponding body may\n",
    "  not be empty"
   ]
  },
  {
   "cell_type": "markdown",
   "id": "83f7fc777e05b8b2",
   "metadata": {
    "lang": "en",
    "lines_to_next_cell": 3,
    "slideshow": {
     "slide_type": "subslide"
    }
   },
   "source": [
    "## Mini workshop\n",
    "\n",
    " - Notebook `ws_120_control_flow`\n",
    " - Section \"Positive/Negative\""
   ]
  }
 ],
 "metadata": {
  "kernelspec": {
   "display_name": "Python 3 (ipykernel)",
   "language": "python",
   "name": "python3"
  }
 },
 "nbformat": 4,
 "nbformat_minor": 5
}
