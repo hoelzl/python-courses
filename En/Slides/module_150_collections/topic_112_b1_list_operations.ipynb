{
 "cells": [
  {
   "cell_type": "markdown",
   "id": "b1f2d9b94a85c581",
   "metadata": {
    "lang": "en",
    "lines_to_next_cell": 2,
    "slideshow": {
     "slide_type": "slide"
    }
   },
   "source": [
    "<img src=\"../img/python-logo-no-text.png\"\n",
    "     style=\"display:block;margin:auto;width:10%\"/>\n",
    "<br>\n",
    "<div style=\"text-align:center; font-size:200%;\">\n",
    "  <b>List Operations</b>\n",
    "</div>\n",
    "<br/>\n",
    "<div style=\"text-align:center;\">Dr. Matthias Hölzl</div>\n",
    "<br/>\n",
    "<!-- <div style=\"text-align:center;\">module_150_collections/topic_112_b1_list_operations</div> -->"
   ]
  },
  {
   "cell_type": "markdown",
   "id": "eb31dfb07ff76132",
   "metadata": {
    "lang": "en",
    "slideshow": {
     "slide_type": "slide"
    }
   },
   "source": [
    "## Modification of list entries"
   ]
  },
  {
   "cell_type": "code",
   "execution_count": null,
   "id": "d14202e99a8d9283",
   "metadata": {
    "tags": [
     "keep"
    ]
   },
   "outputs": [],
   "source": [
    "numbers = [2, 4, 6, 8]\n",
    "numbers"
   ]
  },
  {
   "cell_type": "code",
   "execution_count": null,
   "id": "b5b24042dcd82eaa",
   "metadata": {},
   "outputs": [],
   "source": [
    "numbers[1]"
   ]
  },
  {
   "cell_type": "code",
   "execution_count": null,
   "id": "5d2a600af7cf3b8f",
   "metadata": {},
   "outputs": [],
   "source": [
    "numbers[1] = 10\n",
    "numbers"
   ]
  },
  {
   "cell_type": "markdown",
   "id": "a00ae3ad8da068ce",
   "metadata": {
    "lang": "en",
    "slideshow": {
     "slide_type": "subslide"
    }
   },
   "source": [
    "\n",
    "## List membership"
   ]
  },
  {
   "cell_type": "code",
   "execution_count": null,
   "id": "61144b6855fb9fb4",
   "metadata": {
    "tags": [
     "keep"
    ]
   },
   "outputs": [],
   "source": [
    "numbers = [5, 6, 7]"
   ]
  },
  {
   "cell_type": "code",
   "execution_count": null,
   "id": "d2a8ef382170dbdb",
   "metadata": {},
   "outputs": [],
   "source": [
    "5 in numbers"
   ]
  },
  {
   "cell_type": "code",
   "execution_count": null,
   "id": "9add726f572352e3",
   "metadata": {},
   "outputs": [],
   "source": [
    "3 in numbers"
   ]
  },
  {
   "cell_type": "code",
   "execution_count": null,
   "id": "3a11849e3b9a306f",
   "metadata": {},
   "outputs": [],
   "source": [
    "3 not in numbers"
   ]
  },
  {
   "cell_type": "markdown",
   "id": "0437441b2b662dd2",
   "metadata": {
    "lang": "en",
    "slideshow": {
     "slide_type": "subslide"
    }
   },
   "source": [
    "## Length of a list"
   ]
  },
  {
   "cell_type": "code",
   "execution_count": null,
   "id": "40cb21258b2d5df5",
   "metadata": {
    "tags": [
     "keep"
    ]
   },
   "outputs": [],
   "source": [
    "numbers = [2, 4, 6, 8]\n",
    "numbers"
   ]
  },
  {
   "cell_type": "code",
   "execution_count": null,
   "id": "9bf5b339b8afd5f7",
   "metadata": {},
   "outputs": [],
   "source": [
    "len(numbers)"
   ]
  },
  {
   "cell_type": "markdown",
   "id": "eff098880fb57dfe",
   "metadata": {
    "lang": "en",
    "lines_to_next_cell": 2,
    "slideshow": {
     "slide_type": "subslide"
    }
   },
   "source": [
    "\n",
    "## Methods on Lists\n",
    "\n",
    "- Many operations on lists are implemented as so-called *methods*.\n",
    "- A method is very similar to a function, but belongs to an object.\n",
    "- The \"object to which the method belongs\" precedes the method name.\n",
    "- The syntax is `object.my_method()`.\n",
    "- The meaning is similar to `my_method(object)`.\n",
    "- Many methods destructively alter the object they operate on."
   ]
  },
  {
   "cell_type": "markdown",
   "id": "fd4b5932b38a48d0",
   "metadata": {
    "lang": "en",
    "slideshow": {
     "slide_type": "slide"
    }
   },
   "source": [
    "\n",
    "## Inserting and deleting items\n",
    "\n",
    "- Insertion and deletion are possible at any position.\n",
    "- If possible you should insert and delete elements at the end of a list since this is\n",
    "  more efficient."
   ]
  },
  {
   "cell_type": "code",
   "execution_count": null,
   "id": "2c3dae3868e7f148",
   "metadata": {},
   "outputs": [],
   "source": [
    "numbers = [2, 3, 4]\n",
    "numbers.append(10)\n",
    "numbers"
   ]
  },
  {
   "cell_type": "code",
   "execution_count": null,
   "id": "e4eed656959da8bf",
   "metadata": {},
   "outputs": [],
   "source": [
    "numbers = [2, 3, 4]\n",
    "numbers.extend([10, 20])\n",
    "numbers"
   ]
  },
  {
   "cell_type": "markdown",
   "id": "bc20c19f95629ec5",
   "metadata": {
    "lang": "en",
    "slideshow": {
     "slide_type": "subslide"
    }
   },
   "source": [
    "\n",
    "### Append vs. Extend"
   ]
  },
  {
   "cell_type": "code",
   "execution_count": null,
   "id": "0982c12adb9a9cdf",
   "metadata": {
    "tags": [
     "keep"
    ]
   },
   "outputs": [],
   "source": [
    "numbers = [2, 3, 4]"
   ]
  },
  {
   "cell_type": "code",
   "execution_count": null,
   "id": "d663b99cfd09438d",
   "metadata": {},
   "outputs": [],
   "source": [
    "numbers.append([10, 20])\n",
    "numbers"
   ]
  },
  {
   "cell_type": "code",
   "execution_count": null,
   "id": "7198230857d9032c",
   "metadata": {
    "tags": [
     "keep"
    ]
   },
   "outputs": [],
   "source": [
    "numbers = [2, 3, 4]"
   ]
  },
  {
   "cell_type": "code",
   "execution_count": null,
   "id": "f0f08321f9603b10",
   "metadata": {},
   "outputs": [],
   "source": [
    "numbers.extend([10, 20])\n",
    "numbers"
   ]
  },
  {
   "cell_type": "markdown",
   "id": "79b9080aba8dd286",
   "metadata": {
    "lang": "en",
    "lines_to_next_cell": 2,
    "slideshow": {
     "slide_type": "subslide"
    }
   },
   "source": [
    "\n",
    "### Extend vs. `+`"
   ]
  },
  {
   "cell_type": "code",
   "execution_count": null,
   "id": "9469073c9224fd1f",
   "metadata": {
    "tags": [
     "keep"
    ]
   },
   "outputs": [],
   "source": [
    "numbers = [2, 3, 4]"
   ]
  },
  {
   "cell_type": "code",
   "execution_count": null,
   "id": "5b0274fa44ff7f11",
   "metadata": {},
   "outputs": [],
   "source": [
    "numbers.extend([10, 20])"
   ]
  },
  {
   "cell_type": "code",
   "execution_count": null,
   "id": "d1574e1c0259117f",
   "metadata": {},
   "outputs": [],
   "source": [
    "numbers"
   ]
  },
  {
   "cell_type": "code",
   "execution_count": null,
   "id": "7e45ebb3023588eb",
   "metadata": {
    "tags": [
     "keep"
    ]
   },
   "outputs": [],
   "source": [
    "numbers = [2, 3, 4]"
   ]
  },
  {
   "cell_type": "code",
   "execution_count": null,
   "id": "5944019c9a1bde2b",
   "metadata": {},
   "outputs": [],
   "source": [
    "numbers + [50, 60]"
   ]
  },
  {
   "cell_type": "code",
   "execution_count": null,
   "id": "468809f4b0c073f7",
   "metadata": {},
   "outputs": [],
   "source": [
    "numbers"
   ]
  },
  {
   "cell_type": "markdown",
   "id": "a54326dda74df4eb",
   "metadata": {
    "lang": "en",
    "lines_to_next_cell": 2,
    "slideshow": {
     "slide_type": "subslide"
    }
   },
   "source": [
    "\n",
    "### Deleting and inserting at arbitrary positions"
   ]
  },
  {
   "cell_type": "code",
   "execution_count": null,
   "id": "e76b54e2cad742c8",
   "metadata": {},
   "outputs": [],
   "source": [
    "numbers = [2, 3, 4, 5]\n",
    "numbers.pop()\n",
    "numbers"
   ]
  },
  {
   "cell_type": "code",
   "execution_count": null,
   "id": "8678fab35a18cd4d",
   "metadata": {},
   "outputs": [],
   "source": [
    "numbers.insert(1, 10)\n",
    "numbers"
   ]
  },
  {
   "cell_type": "code",
   "execution_count": null,
   "id": "5c9ac9e26b556e6d",
   "metadata": {},
   "outputs": [],
   "source": [
    "numbers.pop(1)\n",
    "numbers"
   ]
  },
  {
   "cell_type": "code",
   "execution_count": null,
   "id": "22c7b1ced016d2ec",
   "metadata": {},
   "outputs": [],
   "source": [
    "del numbers[1]\n",
    "numbers"
   ]
  },
  {
   "cell_type": "markdown",
   "id": "aa3382ce3b15df52",
   "metadata": {
    "lang": "en",
    "slideshow": {
     "slide_type": "subslide"
    }
   },
   "source": [
    "\n",
    "## Sorting lists\n",
    "\n",
    "\n",
    "- Lists can be sorted with the `sort()` method. This changes the order of\n",
    "  the elements in the list on which the method is called.\n",
    "- The `sorted()` function can be used to create a new list that contains the\n",
    "  elements of the original list in sorted order."
   ]
  },
  {
   "cell_type": "code",
   "execution_count": null,
   "id": "8876e8712b612282",
   "metadata": {
    "slideshow": {
     "slide_type": "subslide"
    },
    "tags": [
     "keep"
    ]
   },
   "outputs": [],
   "source": [
    "numbers = [3, 8, 6, 1, 9, 2, 5, 4]\n",
    "numbers"
   ]
  },
  {
   "cell_type": "code",
   "execution_count": null,
   "id": "a6316a1c39aea7f1",
   "metadata": {},
   "outputs": [],
   "source": [
    "numbers.sort()"
   ]
  },
  {
   "cell_type": "code",
   "execution_count": null,
   "id": "da877459eeedf712",
   "metadata": {},
   "outputs": [],
   "source": [
    "numbers"
   ]
  },
  {
   "cell_type": "code",
   "execution_count": null,
   "id": "14806c5309bfbae4",
   "metadata": {
    "tags": [
     "keep"
    ]
   },
   "outputs": [],
   "source": [
    "numbers = [3, 8, 6, 1, 9, 2, 5, 4]\n",
    "numbers"
   ]
  },
  {
   "cell_type": "code",
   "execution_count": null,
   "id": "37f4abf790959d18",
   "metadata": {},
   "outputs": [],
   "source": [
    "sorted(numbers)"
   ]
  },
  {
   "cell_type": "code",
   "execution_count": null,
   "id": "695a0e0fbe998a26",
   "metadata": {
    "lines_to_next_cell": 2
   },
   "outputs": [],
   "source": [
    "numbers"
   ]
  },
  {
   "cell_type": "markdown",
   "id": "ee9410dfc4cfa357",
   "metadata": {
    "lang": "en",
    "slideshow": {
     "slide_type": "subslide"
    }
   },
   "source": [
    "\n",
    "## Mini-workshop: Color (Teil 2)\n",
    "\n",
    "Given the following lists:"
   ]
  },
  {
   "cell_type": "code",
   "execution_count": null,
   "id": "23f68cd3ccef2a45",
   "metadata": {
    "lang": "en",
    "tags": [
     "keep"
    ]
   },
   "outputs": [],
   "source": [
    "primary_colors = [\"red\", \"green\", \"blue\"]\n",
    "mixed_colors = [\"cyan\", \"yellow\"]\n",
    "colors = primary_colors + mixed_colors"
   ]
  },
  {
   "cell_type": "markdown",
   "id": "76c5c140e89d81bc",
   "metadata": {
    "lang": "en",
    "slideshow": {
     "slide_type": "subslide"
    }
   },
   "source": [
    "\n",
    "- Check if yellow is a primary color, i.e., if the string `\"yellow\"` is\n",
    "  contained in `colors`\n",
    "- Is green a primary color?"
   ]
  },
  {
   "cell_type": "code",
   "execution_count": null,
   "id": "5a106384a3b23798",
   "metadata": {
    "lang": "en"
   },
   "outputs": [],
   "source": [
    "\"yellow\" in primary_colors"
   ]
  },
  {
   "cell_type": "code",
   "execution_count": null,
   "id": "3b045a698a29cafd",
   "metadata": {
    "lang": "en"
   },
   "outputs": [],
   "source": [
    "\"green\" in primary_colors"
   ]
  },
  {
   "cell_type": "markdown",
   "id": "59067b554537b7ea",
   "metadata": {
    "lang": "en",
    "slideshow": {
     "slide_type": "subslide"
    }
   },
   "source": [
    "\n",
    "- How many elements does the list `primary_colors` have?\n",
    "- How many elements does the list `mixed_colors` have?"
   ]
  },
  {
   "cell_type": "code",
   "execution_count": null,
   "id": "f4b043f1b1406ed5",
   "metadata": {
    "lang": "en"
   },
   "outputs": [],
   "source": [
    "len(primary_colors)"
   ]
  },
  {
   "cell_type": "code",
   "execution_count": null,
   "id": "9c18ff507cd50fa1",
   "metadata": {
    "lang": "en",
    "lines_to_next_cell": 2
   },
   "outputs": [],
   "source": [
    "len(mixed_colors)"
   ]
  },
  {
   "cell_type": "markdown",
   "id": "554f85b8b4532062",
   "metadata": {
    "lang": "en",
    "slideshow": {
     "slide_type": "subslide"
    }
   },
   "source": [
    "\n",
    "We forgot to include magenta in the mixed colors.\n",
    "\n",
    "- Check that the string `\"magenta\"` is not in `mixed_colors`.\n",
    "- Add `Magenta` to the mixed colors.\n",
    "- Check that the string `\"magenta\"` is now contained in `mixed_colors`.\n",
    "- How long is the list `mixed_colors` now?"
   ]
  },
  {
   "cell_type": "code",
   "execution_count": null,
   "id": "e12385706f76ea83",
   "metadata": {
    "lang": "en",
    "slideshow": {
     "slide_type": "subslide"
    }
   },
   "outputs": [],
   "source": [
    "\"magenta\" in mixed_colors"
   ]
  },
  {
   "cell_type": "code",
   "execution_count": null,
   "id": "7a63719747882d5f",
   "metadata": {
    "lang": "en"
   },
   "outputs": [],
   "source": [
    "mixed_colors.append(\"magenta\")"
   ]
  },
  {
   "cell_type": "code",
   "execution_count": null,
   "id": "04944eb8e8365efe",
   "metadata": {
    "lang": "en"
   },
   "outputs": [],
   "source": [
    "\"magenta\" in mixed_colors"
   ]
  },
  {
   "cell_type": "code",
   "execution_count": null,
   "id": "28760b37fdb9ed12",
   "metadata": {
    "lang": "en"
   },
   "outputs": [],
   "source": [
    "len(mixed_colors)"
   ]
  },
  {
   "cell_type": "markdown",
   "id": "054e386bd1b36944",
   "metadata": {
    "lang": "en",
    "slideshow": {
     "slide_type": "subslide"
    }
   },
   "source": [
    "- Change the first element in `colors` to `dark red`\n",
    "- What is the first element of `primary_colors` after this change?"
   ]
  },
  {
   "cell_type": "code",
   "execution_count": null,
   "id": "98844f10deacc0df",
   "metadata": {
    "lang": "en"
   },
   "outputs": [],
   "source": [
    "colors[0] = \"dark red\"\n",
    "colors"
   ]
  },
  {
   "cell_type": "code",
   "execution_count": null,
   "id": "40467686ecab7d6a",
   "metadata": {
    "lang": "en"
   },
   "outputs": [],
   "source": [
    "primary_colors[0]"
   ]
  },
  {
   "cell_type": "markdown",
   "id": "87d8fdd3d89314b9",
   "metadata": {
    "lang": "en",
    "slideshow": {
     "slide_type": "subslide"
    }
   },
   "source": [
    "What is the third element of the list `colors`?"
   ]
  },
  {
   "cell_type": "code",
   "execution_count": null,
   "id": "52ec49014db0b407",
   "metadata": {
    "lang": "en"
   },
   "outputs": [],
   "source": [
    "colors[2]"
   ]
  },
  {
   "cell_type": "markdown",
   "id": "d20c795898290b15",
   "metadata": {
    "lang": "en"
   },
   "source": [
    "Add `Purple` as the second item in the list `colors`."
   ]
  },
  {
   "cell_type": "code",
   "execution_count": null,
   "id": "fae464c04db984ba",
   "metadata": {
    "lang": "en"
   },
   "outputs": [],
   "source": [
    "colors.insert(1, \"Purple\")"
   ]
  },
  {
   "cell_type": "markdown",
   "id": "f1d2d578917edab1",
   "metadata": {
    "lang": "en"
   },
   "source": [
    "What is now the third element of the list `colors`?"
   ]
  },
  {
   "cell_type": "code",
   "execution_count": null,
   "id": "bff005d135e27b1e",
   "metadata": {
    "lang": "en"
   },
   "outputs": [],
   "source": [
    "colors[2]"
   ]
  },
  {
   "cell_type": "markdown",
   "id": "8154b0828dfe2761",
   "metadata": {
    "lang": "en",
    "slideshow": {
     "slide_type": "subslide"
    }
   },
   "source": [
    "Delete the second item of the `colors` list"
   ]
  },
  {
   "cell_type": "code",
   "execution_count": null,
   "id": "16e77fd695a357fd",
   "metadata": {
    "lang": "en"
   },
   "outputs": [],
   "source": [
    "colors.pop(1)\n",
    "colors"
   ]
  },
  {
   "cell_type": "markdown",
   "id": "a5da6f83487e5fe4",
   "metadata": {
    "lang": "en"
   },
   "source": [
    "\n",
    "Sort the list `colors`."
   ]
  },
  {
   "cell_type": "code",
   "execution_count": null,
   "id": "1b55175d6bec3d1d",
   "metadata": {
    "lang": "en"
   },
   "outputs": [],
   "source": [
    "colors.sort()\n",
    "colors"
   ]
  },
  {
   "cell_type": "markdown",
   "id": "bc1bd05c6f1ca45d",
   "metadata": {
    "lang": "en"
   },
   "source": [
    "What is now the first element of the list `colors`?"
   ]
  },
  {
   "cell_type": "code",
   "execution_count": null,
   "id": "5d857f33014f5b5c",
   "metadata": {
    "lang": "en"
   },
   "outputs": [],
   "source": [
    "colors[0]"
   ]
  }
 ],
 "metadata": {},
 "nbformat": 4,
 "nbformat_minor": 5
}
