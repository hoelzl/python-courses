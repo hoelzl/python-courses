{
 "cells": [
  {
   "cell_type": "markdown",
   "id": "b8300aee6d39cf59",
   "metadata": {
    "lang": "en",
    "slideshow": {
     "slide_type": "slide"
    }
   },
   "source": [
    "<img src=\"../../img/python-logo-no-text.svg\"\n",
    "     style=\"display:block;margin:auto;width:10%\"/>\n",
    "<br>\n",
    "<div style=\"text-align:center; font-size:200%;\">\n",
    "  <b>Lists</b>\n",
    "</div>\n",
    "<br/>\n",
    "<div style=\"text-align:center;\">Dr. Matthias Hölzl</div>\n",
    "<br/>\n",
    "<div style=\"text-align:center;\">module_150_collections/topic_110_b1_lists</div>\n",
    "\n"
   ]
  },
  {
   "cell_type": "markdown",
   "id": "6bde9e94954ca109",
   "metadata": {
    "lang": "en",
    "slideshow": {
     "slide_type": "slide"
    }
   },
   "source": [
    "# Lists"
   ]
  },
  {
   "cell_type": "code",
   "execution_count": null,
   "id": "ede5099715438626",
   "metadata": {
    "lang": "en",
    "tags": [
     "keep"
    ]
   },
   "outputs": [],
   "source": [
    "shopping_cart = [\"oatmeal\", \"coffee beans\", \"orange marmalade\"]"
   ]
  },
  {
   "cell_type": "markdown",
   "id": "8b2528e7cb23a1d9",
   "metadata": {
    "lang": "en"
   },
   "source": [
    "The type of lists is `list`."
   ]
  },
  {
   "cell_type": "code",
   "execution_count": null,
   "id": "2a9af4cdc984d948",
   "metadata": {
    "lang": "en"
   },
   "outputs": [],
   "source": [
    "type(shopping_cart)"
   ]
  },
  {
   "cell_type": "markdown",
   "id": "afbe204ebfdc991c",
   "metadata": {
    "lang": "en",
    "slideshow": {
     "slide_type": "slide"
    }
   },
   "source": [
    "## Creating lists\n",
    "\n",
    "- Lists are created by enclosing their elements in square brackets.\n",
    "- The elements of a list can be any Python values.\n",
    "- A list can contain elements of different types."
   ]
  },
  {
   "cell_type": "code",
   "execution_count": null,
   "id": "989470ddeac11170",
   "metadata": {
    "slideshow": {
     "slide_type": "subslide"
    },
    "tags": [
     "keep"
    ]
   },
   "outputs": [],
   "source": [
    "list_1 = [1, 2, 3, 4, 5]\n",
    "list_2 = [\"string1\", \"another string\"]"
   ]
  },
  {
   "cell_type": "code",
   "execution_count": null,
   "id": "3793651ccf47b049",
   "metadata": {},
   "outputs": [],
   "source": [
    "print(list_1)"
   ]
  },
  {
   "cell_type": "code",
   "execution_count": null,
   "id": "1e8add9c4493e0e8",
   "metadata": {},
   "outputs": [],
   "source": [
    "print(list_2)"
   ]
  },
  {
   "cell_type": "code",
   "execution_count": null,
   "id": "e8a7db1e16be01bb",
   "metadata": {
    "slideshow": {
     "slide_type": "subslide"
    }
   },
   "outputs": [],
   "source": [
    "list_3 = []\n",
    "list_4 = [1, 0.4, \"ein String\", True, None]"
   ]
  },
  {
   "cell_type": "code",
   "execution_count": null,
   "id": "ba1ef5ccb59e66c9",
   "metadata": {},
   "outputs": [],
   "source": [
    "print(list_3)"
   ]
  },
  {
   "cell_type": "code",
   "execution_count": null,
   "id": "1893d382c4d49f30",
   "metadata": {},
   "outputs": [],
   "source": [
    "print(list_4)"
   ]
  },
  {
   "cell_type": "markdown",
   "id": "c6b6772e0d8f5237",
   "metadata": {
    "lang": "en",
    "slideshow": {
     "slide_type": "subslide"
    }
   },
   "source": [
    "The elements of a list do not have to be literals, it can also contain values of variables or expressions:"
   ]
  },
  {
   "cell_type": "code",
   "execution_count": null,
   "id": "62c9217a232070c8",
   "metadata": {
    "lang": "en",
    "tags": [
     "keep"
    ]
   },
   "outputs": [],
   "source": [
    "product_1 = \"oatmeal\"\n",
    "product_2 = \"coffee beans\"\n",
    "product_3 = \"orange marmalade\"\n",
    "shopping_cart = [product_1, product_2, product_3, \"strawberry jam\"]\n",
    "shopping_cart"
   ]
  },
  {
   "cell_type": "markdown",
   "id": "707fe3146112f0c2",
   "metadata": {
    "lang": "en",
    "slideshow": {
     "slide_type": "subslide"
    }
   },
   "source": [
    "Once a list has been created, it has no connection to the variables that were\n",
    "used in its construction:"
   ]
  },
  {
   "cell_type": "code",
   "execution_count": null,
   "id": "ef7a0bfa8664ddf8",
   "metadata": {
    "lang": "en"
   },
   "outputs": [],
   "source": [
    "product_1 = \"spelled flakes\"\n",
    "product_2 = \"teabag\"\n",
    "shopping_cart"
   ]
  },
  {
   "cell_type": "markdown",
   "id": "6f42e6f75eca9e19",
   "metadata": {
    "lang": "en",
    "slideshow": {
     "slide_type": "slide"
    }
   },
   "source": [
    "## Accessing list items"
   ]
  },
  {
   "cell_type": "code",
   "execution_count": null,
   "id": "0408d67b83c62557",
   "metadata": {
    "tags": [
     "keep"
    ]
   },
   "outputs": [],
   "source": [
    "numbers = [2, 4, 6, 8]"
   ]
  },
  {
   "cell_type": "code",
   "execution_count": null,
   "id": "8d42fd6c4b9d1bbd",
   "metadata": {},
   "outputs": [],
   "source": [
    "numbers[0]"
   ]
  },
  {
   "cell_type": "code",
   "execution_count": null,
   "id": "566f2f79c2cd482e",
   "metadata": {},
   "outputs": [],
   "source": [
    "numbers[3]"
   ]
  },
  {
   "cell_type": "code",
   "execution_count": null,
   "id": "7a7aa4d0c14e7672",
   "metadata": {},
   "outputs": [],
   "source": [
    "numbers[-1]"
   ]
  },
  {
   "cell_type": "markdown",
   "id": "04e99cc4635220f5",
   "metadata": {
    "lang": "en",
    "slideshow": {
     "slide_type": "subslide"
    }
   },
   "source": [
    "\n",
    "## Other ways to create lists\n",
    "\n",
    "The addition operator `+` can be used to concatenate lists:"
   ]
  },
  {
   "cell_type": "code",
   "execution_count": null,
   "id": "0b7230d1c956ea5e",
   "metadata": {
    "slideshow": {
     "slide_type": "subslide"
    }
   },
   "outputs": [],
   "source": [
    "[1, 2, 3] + [4, 5, 6]"
   ]
  },
  {
   "cell_type": "markdown",
   "id": "35ef654e71269c95",
   "metadata": {
    "lang": "en",
    "slideshow": {
     "slide_type": "slide"
    }
   },
   "source": [
    "\n",
    "The multiplication operator `*` allows the elements of a list\n",
    "be repeated:"
   ]
  },
  {
   "cell_type": "code",
   "execution_count": null,
   "id": "1efb1abfbd474631",
   "metadata": {},
   "outputs": [],
   "source": [
    "[1, 2] * 3"
   ]
  },
  {
   "cell_type": "code",
   "execution_count": null,
   "id": "559ce0fb0d4fcf39",
   "metadata": {},
   "outputs": [],
   "source": [
    "3 * [\"a\", \"b\"]"
   ]
  },
  {
   "cell_type": "code",
   "execution_count": null,
   "id": "76aad9340c1cf272",
   "metadata": {},
   "outputs": [],
   "source": [
    "[0] * 10"
   ]
  },
  {
   "cell_type": "markdown",
   "id": "dc531321dc0aa64c",
   "metadata": {
    "lang": "en",
    "slideshow": {
     "slide_type": "subslide"
    }
   },
   "source": [
    "The `list()` function can be used to convert some other data types into lists.\n",
    "\n",
    "At the moment we only know lists and strings as possible argument types:"
   ]
  },
  {
   "cell_type": "code",
   "execution_count": null,
   "id": "9a82f17cf5390062",
   "metadata": {},
   "outputs": [],
   "source": [
    "list(\"abc\")"
   ]
  },
  {
   "cell_type": "code",
   "execution_count": null,
   "id": "4996b624cd5eb488",
   "metadata": {},
   "outputs": [],
   "source": [
    "list([1, 2, 3])"
   ]
  },
  {
   "cell_type": "markdown",
   "id": "0437441b2b662dd2",
   "metadata": {
    "lang": "en",
    "slideshow": {
     "slide_type": "slide"
    }
   },
   "source": [
    "## Length of a list"
   ]
  },
  {
   "cell_type": "code",
   "execution_count": null,
   "id": "d14202e99a8d9283",
   "metadata": {
    "tags": [
     "keep"
    ]
   },
   "outputs": [],
   "source": [
    "numbers = [2, 4, 6, 8]\n",
    "numbers"
   ]
  },
  {
   "cell_type": "code",
   "execution_count": null,
   "id": "9bf5b339b8afd5f7",
   "metadata": {},
   "outputs": [],
   "source": [
    "len(numbers)"
   ]
  },
  {
   "cell_type": "markdown",
   "id": "a00ae3ad8da068ce",
   "metadata": {
    "lang": "en",
    "slideshow": {
     "slide_type": "subslide"
    }
   },
   "source": [
    "\n",
    "## List membership"
   ]
  },
  {
   "cell_type": "code",
   "execution_count": null,
   "id": "dbcf72ed1a9cb2ca",
   "metadata": {},
   "outputs": [],
   "source": [
    "5 in [5, 6, 7]"
   ]
  },
  {
   "cell_type": "code",
   "execution_count": null,
   "id": "0f87718d04308731",
   "metadata": {},
   "outputs": [],
   "source": [
    "3 in [5, 6, 7]"
   ]
  },
  {
   "cell_type": "code",
   "execution_count": null,
   "id": "35af0b526d411f96",
   "metadata": {},
   "outputs": [],
   "source": [
    "3 not in [5, 6, 7]"
   ]
  },
  {
   "cell_type": "markdown",
   "id": "eb31dfb07ff76132",
   "metadata": {
    "lang": "en",
    "slideshow": {
     "slide_type": "slide"
    }
   },
   "source": [
    "## Modification of list entries"
   ]
  },
  {
   "cell_type": "code",
   "execution_count": null,
   "id": "5d2a600af7cf3b8f",
   "metadata": {},
   "outputs": [],
   "source": [
    "numbers[1] = 10\n",
    "numbers"
   ]
  },
  {
   "cell_type": "markdown",
   "id": "4c81057de7f40791",
   "metadata": {
    "lang": "en",
    "slideshow": {
     "slide_type": "slide"
    }
   },
   "source": [
    "\n",
    "## Inserting and deleting items\n",
    "\n",
    "If possible elements should be inserted at the end of a list since this is\n",
    "more efficient."
   ]
  },
  {
   "cell_type": "code",
   "execution_count": null,
   "id": "2c3dae3868e7f148",
   "metadata": {},
   "outputs": [],
   "source": [
    "numbers = [2, 3, 4]\n",
    "numbers.append(10)\n",
    "numbers"
   ]
  },
  {
   "cell_type": "code",
   "execution_count": null,
   "id": "e4eed656959da8bf",
   "metadata": {},
   "outputs": [],
   "source": [
    "numbers = [2, 3, 4]\n",
    "numbers.extend([10, 20])\n",
    "numbers"
   ]
  },
  {
   "cell_type": "code",
   "execution_count": null,
   "id": "d1cbe447d544da06",
   "metadata": {},
   "outputs": [],
   "source": [
    "numbers = [2, 3, 4]\n",
    "numbers + [50, 60]"
   ]
  },
  {
   "cell_type": "code",
   "execution_count": null,
   "id": "d1574e1c0259117f",
   "metadata": {},
   "outputs": [],
   "source": [
    "numbers"
   ]
  },
  {
   "cell_type": "code",
   "execution_count": null,
   "id": "e76b54e2cad742c8",
   "metadata": {
    "slideshow": {
     "slide_type": "subslide"
    }
   },
   "outputs": [],
   "source": [
    "numbers = [2, 3, 4, 5]\n",
    "numbers.pop()\n",
    "numbers"
   ]
  },
  {
   "cell_type": "code",
   "execution_count": null,
   "id": "8678fab35a18cd4d",
   "metadata": {},
   "outputs": [],
   "source": [
    "numbers.insert(1, 10)\n",
    "numbers"
   ]
  },
  {
   "cell_type": "code",
   "execution_count": null,
   "id": "5c9ac9e26b556e6d",
   "metadata": {},
   "outputs": [],
   "source": [
    "numbers.pop(1)\n",
    "numbers"
   ]
  },
  {
   "cell_type": "code",
   "execution_count": null,
   "id": "22c7b1ced016d2ec",
   "metadata": {},
   "outputs": [],
   "source": [
    "del numbers[1]\n",
    "numbers"
   ]
  },
  {
   "cell_type": "markdown",
   "id": "8bb24867d9f387ba",
   "metadata": {
    "lang": "en",
    "slideshow": {
     "slide_type": "subslide"
    }
   },
   "source": [
    "## Mini workshop\n",
    "\n",
    "- Notebook `ws_110_lists`\n",
    "- Section Colors"
   ]
  },
  {
   "cell_type": "markdown",
   "id": "cfcd7a822b15204f",
   "metadata": {
    "lang": "en",
    "slideshow": {
     "slide_type": "subslide"
    }
   },
   "source": [
    "## Properties of lists\n",
    "\n",
    "- Lists can store arbitrary Python values\n",
    "- Elements in a list have a fixed order\n",
    "- Elements of a list can be accessed by index\n",
    "- Lists can be modified\n",
    "\n",
    "Lists can contain elements of different types, but most lists contain elements of a single type."
   ]
  },
  {
   "cell_type": "markdown",
   "id": "c91ef6fa482b1e1a",
   "metadata": {
    "lang": "en",
    "slideshow": {
     "slide_type": "subslide"
    }
   },
   "source": [
    "\n",
    "## Number of occurrences of elements"
   ]
  },
  {
   "cell_type": "code",
   "execution_count": null,
   "id": "1ba092b535a2aa5d",
   "metadata": {},
   "outputs": [],
   "source": [
    "numbers = [1, 1, 2, 1, 3, 2, 1]\n",
    "numbers.count(1)"
   ]
  },
  {
   "cell_type": "code",
   "execution_count": null,
   "id": "98aef64bef8e2c2c",
   "metadata": {
    "lines_to_next_cell": 2
   },
   "outputs": [],
   "source": [
    "numbers.count(4)"
   ]
  },
  {
   "cell_type": "markdown",
   "id": "b5f7ccfbe156b1dd",
   "metadata": {
    "lang": "en",
    "slideshow": {
     "slide_type": "subslide"
    }
   },
   "source": [
    "## Finding the position of an element"
   ]
  },
  {
   "cell_type": "code",
   "execution_count": null,
   "id": "42c394bdd1c9789c",
   "metadata": {},
   "outputs": [],
   "source": [
    "[1, 2, 3, 2, 4].index(2)"
   ]
  },
  {
   "cell_type": "code",
   "execution_count": null,
   "id": "0ca260c4a65a191d",
   "metadata": {
    "tags": [
     "keep"
    ]
   },
   "outputs": [],
   "source": [
    "my_list = [\"a\", \"b\", \"c\", \"d\", \"b\", \"d\", \"b\"]"
   ]
  },
  {
   "cell_type": "code",
   "execution_count": null,
   "id": "6f2ed287e43e53c4",
   "metadata": {
    "lines_to_next_cell": 1
   },
   "outputs": [],
   "source": [
    "my_index = my_list.index(\"b\")\n",
    "print(my_index)\n",
    "my_list[my_index]"
   ]
  },
  {
   "cell_type": "code",
   "execution_count": null,
   "id": "ec85727a51304905",
   "metadata": {},
   "outputs": [],
   "source": [
    "# Fehler\n",
    "# [1, 3, 5].index(2)"
   ]
  },
  {
   "cell_type": "markdown",
   "id": "2ad1fe5de3d11ce6",
   "metadata": {
    "lang": "en",
    "slideshow": {
     "slide_type": "subslide"
    }
   },
   "source": [
    "## Mini workshop:\n",
    "\n",
    "The `index` method throws an exception if the searched object does not\n",
    "appear in the list. Write a function\n",
    "```\n",
    "find(item, a_list: list)\n",
    "```\n",
    "\n",
    "- which returns an index if the element `element` is in the list, and\n",
    "- returns `None` if it is not"
   ]
  },
  {
   "cell_type": "code",
   "execution_count": null,
   "id": "ab8f456027849b59",
   "metadata": {
    "slideshow": {
     "slide_type": "subslide"
    }
   },
   "outputs": [],
   "source": [
    "def find(element, a_list: list):\n",
    "    if element in a_list:\n",
    "        return a_list.index(element)\n",
    "    else:\n",
    "        return None"
   ]
  },
  {
   "cell_type": "code",
   "execution_count": null,
   "id": "63650df03b31fb70",
   "metadata": {
    "slideshow": {
     "slide_type": "subslide"
    },
    "tags": [
     "keep"
    ]
   },
   "outputs": [],
   "source": [
    "my_list = [\"a\", \"b\", \"c\", \"d\", \"e\"]"
   ]
  },
  {
   "cell_type": "code",
   "execution_count": null,
   "id": "05353c443c6fdab8",
   "metadata": {
    "tags": [
     "keep"
    ]
   },
   "outputs": [],
   "source": [
    "assert find(\"a\", my_list) == 0"
   ]
  },
  {
   "cell_type": "code",
   "execution_count": null,
   "id": "198863b4c4843f32",
   "metadata": {
    "tags": [
     "keep"
    ]
   },
   "outputs": [],
   "source": [
    "assert find(\"d\", my_list) == 3"
   ]
  },
  {
   "cell_type": "code",
   "execution_count": null,
   "id": "39eef984aa65e7d3",
   "metadata": {
    "tags": [
     "keep"
    ]
   },
   "outputs": [],
   "source": [
    "assert find(\"x\", my_list) is None"
   ]
  }
 ],
 "metadata": {},
 "nbformat": 4,
 "nbformat_minor": 5
}
