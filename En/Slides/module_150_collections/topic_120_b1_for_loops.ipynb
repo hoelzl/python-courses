{
 "cells": [
  {
   "cell_type": "markdown",
   "id": "e91398860c043e33",
   "metadata": {
    "lang": "en",
    "lines_to_next_cell": 2,
    "slideshow": {
     "slide_type": "slide"
    }
   },
   "source": [
    "<img src=\"../../img/python-logo-no-text.svg\"\n",
    "     style=\"display:block;margin:auto;width:10%\"/>\n",
    "<br>\n",
    "<div style=\"text-align:center; font-size:200%;\">\n",
    "  <b>`for`-loops</b>\n",
    "</div>\n",
    "<br/>\n",
    "<div style=\"text-align:center;\">Dr. Matthias Hölzl</div>\n",
    "<br/>\n",
    "<div style=\"text-align:center;\">module_150_collections/topic_120_b1_for_loops</div>"
   ]
  },
  {
   "cell_type": "markdown",
   "id": "ba1b7c1021425eab",
   "metadata": {
    "lang": "en",
    "slideshow": {
     "slide_type": "slide"
    }
   },
   "source": [
    "## Iteration over lists\n",
    "\n",
    "In Python, you can iterate over lists using the `for` loop.\n",
    "\n",
    "The `for` loop corresponds to the range-based for from C++,\n",
    "`for-in`/`for-of` from JavaScript or the `for-each` loop\n",
    "from Java, not the classic `for` loop\n",
    "from C, C++ or Java."
   ]
  },
  {
   "cell_type": "code",
   "execution_count": null,
   "id": "f55a67a623582985",
   "metadata": {
    "slideshow": {
     "slide_type": "subslide"
    },
    "tags": [
     "keep"
    ]
   },
   "outputs": [],
   "source": [
    "number_list = [0, 1, 2, 3, 4]\n",
    "number_list"
   ]
  },
  {
   "cell_type": "code",
   "execution_count": null,
   "id": "86725ba16f3b49aa",
   "metadata": {},
   "outputs": [],
   "source": [
    "for number in number_list:\n",
    "    print(\"Number is:\", number)"
   ]
  },
  {
   "cell_type": "markdown",
   "id": "edadc7d30604d659",
   "metadata": {
    "lang": "en",
    "slideshow": {
     "slide_type": "subslide"
    }
   },
   "source": [
    "## Syntax of `for` loops\n",
    "\n",
    "```pythons\n",
    "for <element-var> in <liste>:\n",
    "    <rumpf>\n",
    "```"
   ]
  },
  {
   "cell_type": "markdown",
   "id": "873b4e9c020dcb0b",
   "metadata": {
    "lang": "en"
   },
   "source": [
    "### Mini workshop\n",
    "\n",
    "Write a function `print_all(items: list)` that prints the elements of a\n",
    "list `items` to the screen, one item per line:\n",
    "\n",
    "```python\n",
    ">>> print_all([1, 2, 3])\n",
    "1\n",
    "2\n",
    "3\n",
    ">>>\n",
    "```\n",
    "What happens if you call the function with a string as an argument,\n",
    "e.g. `print_all(\"abc\")`"
   ]
  },
  {
   "cell_type": "code",
   "execution_count": null,
   "id": "00c3136ee332cd07",
   "metadata": {},
   "outputs": [],
   "source": [
    "def print_all(items: list):\n",
    "    for item in items:\n",
    "        print(item)"
   ]
  },
  {
   "cell_type": "code",
   "execution_count": null,
   "id": "edfcb8065a2861d7",
   "metadata": {},
   "outputs": [],
   "source": [
    "print_all([1, 2, 3])"
   ]
  },
  {
   "cell_type": "code",
   "execution_count": null,
   "id": "a8ac2b0c17e6dc8f",
   "metadata": {},
   "outputs": [],
   "source": [
    "print_all(\"abc\")"
   ]
  },
  {
   "cell_type": "markdown",
   "id": "3cf023e70452e791",
   "metadata": {
    "lang": "en",
    "slideshow": {
     "slide_type": "subslide"
    }
   },
   "source": [
    "\n",
    "## Workshop: Shopping List\n",
    "\n",
    "Define variables\n",
    "- `my_shopping list` holding a list containing the strings `tea` and `coffee`\n",
    "- `another_shopping list`, holding a different list also containing the strings `tea` and `coffee`"
   ]
  },
  {
   "cell_type": "code",
   "execution_count": null,
   "id": "bf036e109f6309e2",
   "metadata": {
    "lang": "en"
   },
   "outputs": [],
   "source": [
    "my_shopping_list = [\"tea\", \"coffee\"]\n",
    "another_shopping_list = [\"tea\", \"coffee\"]"
   ]
  },
  {
   "cell_type": "markdown",
   "id": "2a1e68ca6cdf1135",
   "metadata": {
    "lang": "en"
   },
   "source": [
    "Define a function `print_shopping_list(shopping_list)` that prints the shopping list passed as argument:\n",
    "\n",
    "```\n",
    "Shopping List:\n",
    "  tea\n",
    "  coffee\n",
    "```"
   ]
  },
  {
   "cell_type": "code",
   "execution_count": null,
   "id": "1040138ed585e6ed",
   "metadata": {
    "lang": "en"
   },
   "outputs": [],
   "source": [
    "def print_shopping_list(shopping_list):\n",
    "    print(\"Shopping List:\")\n",
    "    for item in shopping_list:\n",
    "        print(\" \", item)"
   ]
  },
  {
   "cell_type": "markdown",
   "id": "00009e1b44fc14aa",
   "metadata": {
    "lang": "en"
   },
   "source": [
    "Test the function `print_shopping list(shopping list)` with both\n",
    "shopping lists."
   ]
  },
  {
   "cell_type": "code",
   "execution_count": null,
   "id": "c0736dac3632259a",
   "metadata": {
    "lang": "en"
   },
   "outputs": [],
   "source": [
    "print_shopping_list(my_shopping_list)"
   ]
  },
  {
   "cell_type": "code",
   "execution_count": null,
   "id": "ea07ae29c58a75cb",
   "metadata": {
    "lang": "en"
   },
   "outputs": [],
   "source": [
    "print_shopping_list(another_shopping_list)"
   ]
  },
  {
   "cell_type": "markdown",
   "id": "0964141f6472154d",
   "metadata": {
    "lang": "en"
   },
   "source": [
    "Define a function `buy(product, shopping_list)`, that adds `product` to `shopping_list`."
   ]
  },
  {
   "cell_type": "code",
   "execution_count": null,
   "id": "79acca52e477f475",
   "metadata": {
    "lang": "en"
   },
   "outputs": [],
   "source": [
    "def buy(product, shopping_list):\n",
    "    shopping_list.append(product)"
   ]
  },
  {
   "cell_type": "markdown",
   "id": "c7615bccc8c202d4",
   "metadata": {
    "lang": "en"
   },
   "source": [
    "Add `butter` and `bread` to the shopping list `my_shopping_list`."
   ]
  },
  {
   "cell_type": "code",
   "execution_count": null,
   "id": "67454e2e29d05164",
   "metadata": {
    "lang": "en"
   },
   "outputs": [],
   "source": [
    "buy(\"butter\", my_shopping_list)\n",
    "buy(\"bread\", my_shopping_list)"
   ]
  },
  {
   "cell_type": "markdown",
   "id": "7b6b630f49ac7034",
   "metadata": {
    "lang": "en"
   },
   "source": [
    "Print out both shopping lists again."
   ]
  },
  {
   "cell_type": "code",
   "execution_count": null,
   "id": "86969b30fe68c22b",
   "metadata": {
    "lang": "en"
   },
   "outputs": [],
   "source": [
    "print_shopping_list(my_shopping_list)"
   ]
  },
  {
   "cell_type": "code",
   "execution_count": null,
   "id": "88e900651aaad06d",
   "metadata": {
    "lang": "en"
   },
   "outputs": [],
   "source": [
    "print_shopping_list(another_shopping_list)"
   ]
  },
  {
   "cell_type": "markdown",
   "id": "643350560d8e054d",
   "metadata": {
    "lang": "en"
   },
   "source": [
    "What happens when you add `butter` and `bread` to the shopping list `my_shopping list` again?"
   ]
  },
  {
   "cell_type": "code",
   "execution_count": null,
   "id": "c817f0fd0aac0a01",
   "metadata": {
    "lang": "en",
    "lines_to_next_cell": 2
   },
   "outputs": [],
   "source": [
    "buy(\"butter\", my_shopping_list)\n",
    "buy(\"bread\", my_shopping_list)\n",
    "print_shopping_list(my_shopping_list)"
   ]
  },
  {
   "cell_type": "markdown",
   "id": "1495b6899b067550",
   "metadata": {
    "lang": "en",
    "slideshow": {
     "slide_type": "subslide"
    }
   },
   "source": [
    "### Ranges"
   ]
  },
  {
   "cell_type": "code",
   "execution_count": null,
   "id": "c3a90d7e5a7d021b",
   "metadata": {
    "slideshow": {
     "slide_type": "subslide"
    }
   },
   "outputs": [],
   "source": [
    "for i in range(3):\n",
    "    print(i, end=\", \")"
   ]
  },
  {
   "cell_type": "code",
   "execution_count": null,
   "id": "7bd1e059ae9c162f",
   "metadata": {
    "lines_to_next_cell": 2
   },
   "outputs": [],
   "source": [
    "for i in range(1, 6, 2):\n",
    "    print(i, end=\", \")"
   ]
  },
  {
   "cell_type": "markdown",
   "id": "5b40a0c4d14c9e13",
   "metadata": {
    "lang": "en",
    "slideshow": {
     "slide_type": "subslide"
    }
   },
   "source": [
    "### Mini workshop\n",
    "\n",
    "Write a function `print_squares(n: int)` that prints the squares of the\n",
    "numbers from 1 to n, one element per line:\n",
    "\n",
    "```python\n",
    ">>>print_squares(3)\n",
    "1**2 = 1\n",
    "2**2 = 4\n",
    "3**2 = 9\n",
    ">>>\n",
    "```"
   ]
  },
  {
   "cell_type": "code",
   "execution_count": null,
   "id": "74b0d58e2c749913",
   "metadata": {},
   "outputs": [],
   "source": [
    "def print_squares(n: int):\n",
    "    for i in range(1, n + 1):\n",
    "        print(i, \"**2 = \", i * i, sep=\"\")"
   ]
  },
  {
   "cell_type": "code",
   "execution_count": null,
   "id": "170db0a09936dfeb",
   "metadata": {},
   "outputs": [],
   "source": [
    "print_squares(3)"
   ]
  }
 ],
 "metadata": {
  "kernelspec": {
   "display_name": "Python 3 (ipykernel)",
   "language": "python",
   "name": "python3"
  }
 },
 "nbformat": 4,
 "nbformat_minor": 5
}
