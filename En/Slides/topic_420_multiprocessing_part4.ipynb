{
 "cells": [
  {
   "cell_type": "markdown",
   "id": "68cf5ecb",
   "metadata": {
    "lang": "en",
    "slideshow": {
     "slide_type": "slide"
    }
   },
   "source": [
    "<img src=\"img/python-logo-notext.svg\"\n",
    "     style=\"display:block;margin:auto;width:10%\"/>\n",
    "<br>\n",
    "<div style=\"text-align:center; font-size:200%;\"><b>Multiprocessing (Part 4)</b></div>\n",
    "<br/>\n",
    "<div style=\"text-align:center;\">Dr. Matthias Hölzl</div>"
   ]
  },
  {
   "cell_type": "code",
   "execution_count": null,
   "id": "7c5682b7",
   "metadata": {},
   "outputs": [],
   "source": [
    "def perform_computation(x):\n",
    "    return x + 1"
   ]
  },
  {
   "cell_type": "code",
   "execution_count": null,
   "id": "1dbf657d",
   "metadata": {},
   "outputs": [],
   "source": [
    "[perform_computation(x) for x in [1, 2, 3]]"
   ]
  },
  {
   "cell_type": "code",
   "execution_count": null,
   "id": "664f27a8",
   "metadata": {},
   "outputs": [],
   "source": [
    "list(map(perform_computation, [1, 2, 3]))"
   ]
  },
  {
   "cell_type": "code",
   "execution_count": null,
   "id": "be3fb78e",
   "metadata": {},
   "outputs": [],
   "source": [
    "from multiprocessing.dummy import Pool"
   ]
  },
  {
   "cell_type": "code",
   "execution_count": null,
   "id": "477f028c",
   "metadata": {},
   "outputs": [],
   "source": [
    "with Pool(processes=4) as pool:\n",
    "    print(pool.map(perform_computation, range(1, 20), chunksize=5))"
   ]
  },
  {
   "cell_type": "code",
   "execution_count": null,
   "id": "e72b8471",
   "metadata": {},
   "outputs": [],
   "source": [
    "with Pool() as pool:\n",
    "    res = pool.map_async(perform_computation, range(1, 20))\n",
    "    print(\"Result object:\", res)\n",
    "    print(\"Result value: \", res.get(timeout=0.5))"
   ]
  },
  {
   "cell_type": "code",
   "execution_count": null,
   "id": "f841cae2",
   "metadata": {},
   "outputs": [],
   "source": [
    "with Pool() as pool:\n",
    "    # Performs computation in arbitrary order\n",
    "    print(list(pool.imap_unordered(perform_computation, range(1, 20), chunksize=5)))"
   ]
  },
  {
   "cell_type": "code",
   "execution_count": null,
   "id": "70d16b95",
   "metadata": {},
   "outputs": [],
   "source": [
    "with Pool() as pool:\n",
    "    res = pool.apply_async(perform_computation, args=(10,))\n",
    "    print(\"Result object:\", res)\n",
    "    print(\"Result value: \", res.get(timeout=1.0))"
   ]
  },
  {
   "cell_type": "code",
   "execution_count": null,
   "id": "972044fc",
   "metadata": {},
   "outputs": [],
   "source": [
    "from operator import add"
   ]
  },
  {
   "cell_type": "code",
   "execution_count": null,
   "id": "3c93f425",
   "metadata": {},
   "outputs": [],
   "source": [
    "with Pool() as pool:\n",
    "    print(pool.starmap(add, [[1, 2], [3, 4]]))"
   ]
  },
  {
   "cell_type": "code",
   "execution_count": null,
   "id": "8fce2447",
   "metadata": {
    "lines_to_next_cell": 2
   },
   "outputs": [],
   "source": [
    "from time import sleep\n",
    "from multiprocessing import TimeoutError\n",
    "\n",
    "with Pool() as pool:\n",
    "    res = pool.apply_async(sleep, args=(10.0, ))\n",
    "    try:\n",
    "        print(\"Result:\", res.get(timeout=0.5))\n",
    "    except TimeoutError:\n",
    "        print(\"Got a timeout.\")"
   ]
  },
  {
   "cell_type": "code",
   "execution_count": null,
   "id": "d020e76b",
   "metadata": {},
   "outputs": [],
   "source": [
    "from time import sleep\n",
    "from random import random\n",
    "\n",
    "\n",
    "def simulate_processing_time(delta_time=0.1):\n",
    "    sleep(random() * delta_time + delta_time)"
   ]
  },
  {
   "cell_type": "code",
   "execution_count": null,
   "id": "3bada071",
   "metadata": {},
   "outputs": [],
   "source": [
    "from multiprocessing.dummy import Queue, Process\n",
    "from queue import Empty"
   ]
  },
  {
   "cell_type": "code",
   "execution_count": null,
   "id": "ca64d098",
   "metadata": {},
   "outputs": [],
   "source": [
    "def producer(producer_id, q, num_items):\n",
    "    print(f\"Producer {producer_id} started...\")\n",
    "    for i in range(num_items):\n",
    "        print(f\"Producer {producer_id} produced item {producer_id}/{i}...\")\n",
    "        q.put(f\"Item {producer_id}/{i}\")\n",
    "        simulate_processing_time(0.1)"
   ]
  },
  {
   "cell_type": "code",
   "execution_count": null,
   "id": "08317779",
   "metadata": {},
   "outputs": [],
   "source": [
    "def consumer(consumer_id, q, timeout=1.0):\n",
    "    print(f\"Consumer {consumer_id} started...\")\n",
    "    try:\n",
    "        while True:\n",
    "            item = q.get(block=True, timeout=timeout)\n",
    "            print(f\"Consumer {consumer_id} starting processing of item {item}...\")\n",
    "            simulate_processing_time(0.2)\n",
    "            print(f\"Consumer {consumer_id} done processing item {item}...\")\n",
    "    except Empty:\n",
    "        print(f\"Consumer {consumer_id} timed out...\")"
   ]
  },
  {
   "cell_type": "code",
   "execution_count": null,
   "id": "1b98276c",
   "metadata": {},
   "outputs": [],
   "source": [
    "def run_producer_consumer_queue(num_items, num_producers=1, num_consumers=1):\n",
    "    processes = []\n",
    "    q = Queue()\n",
    "    for i in range(num_consumers):\n",
    "        processes.append(Process(target=consumer, args=(i + 1, q)))\n",
    "    for i in range(num_producers):\n",
    "        processes.append(Process(target=producer, args=(i + 1, q, num_items)))\n",
    "    for process in processes:\n",
    "        process.start()\n",
    "    for process in processes:\n",
    "        process.join()"
   ]
  },
  {
   "cell_type": "code",
   "execution_count": null,
   "id": "9cfa0ee0",
   "metadata": {},
   "outputs": [],
   "source": [
    "run_producer_consumer_queue(4)"
   ]
  },
  {
   "cell_type": "code",
   "execution_count": null,
   "id": "42656538",
   "metadata": {},
   "outputs": [],
   "source": [
    "run_producer_consumer_queue(6, num_producers=1, num_consumers=3)"
   ]
  },
  {
   "cell_type": "code",
   "execution_count": null,
   "id": "18193035",
   "metadata": {
    "lines_to_next_cell": 2
   },
   "outputs": [],
   "source": [
    "run_producer_consumer_queue(2, num_producers=4, num_consumers=3)"
   ]
  }
 ],
 "metadata": {
  "kernelspec": {
   "display_name": "Python 3 (ipykernel)",
   "language": "python",
   "name": "python3"
  }
 },
 "nbformat": 4,
 "nbformat_minor": 5
}
