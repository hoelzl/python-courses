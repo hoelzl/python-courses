{
 "cells": [
  {
   "cell_type": "markdown",
   "id": "c2ad072baca7cd44",
   "metadata": {
    "lang": "en",
    "lines_to_next_cell": 2,
    "slideshow": {
     "slide_type": "slide"
    }
   },
   "source": [
    "<img src=\"../img/python-logo-no-text.png\"\n",
    "     style=\"display:block;margin:auto;width:10%\"/>\n",
    "<br>\n",
    "<div style=\"text-align:center; font-size:200%;\">\n",
    "  <b>The Windows Command Prompt</b>\n",
    "</div>\n",
    "<br/>\n",
    "<div style=\"text-align:center;\">Dr. Matthias Hölzl</div>\n",
    "<br/>\n",
    "<!-- <div style=\"text-align:center;\">module_110_introduction/topic_104_a3_shell_windows</div> -->"
   ]
  },
  {
   "cell_type": "markdown",
   "id": "f3faec18c5fce13b",
   "metadata": {
    "lang": "en",
    "slideshow": {
     "slide_type": "slide"
    }
   },
   "source": [
    "\n",
    "# (Anaconda) PowerShell\n",
    "\n",
    "- Found in the start menu under `Anaconda3 (64-bit)`\n",
    "- Use the Anaconda variant of Powershell\n",
    "- Only this version has access to the programs installed by Anaconda"
   ]
  },
  {
   "cell_type": "markdown",
   "id": "0e630cd799027764",
   "metadata": {
    "lang": "en",
    "slideshow": {
     "slide_type": "slide"
    }
   },
   "source": [
    "\n",
    "## Running programs\n",
    "- The powershell prompt looks like this: `\n",
    "   ```powershell\n",
    "   (base) PS C:\\Users\\Test User>\n",
    "   ```\n",
    "- `(base)` is the current Anaconda Environment.\n",
    "- You can start many programs just by typing their name.\n",
    "  - `notepad` for a simple text editor\n",
    "  - `python` for the Python interpreter"
   ]
  },
  {
   "cell_type": "markdown",
   "id": "4d9ce9ad01cca65a",
   "metadata": {
    "lang": "en",
    "slideshow": {
     "slide_type": "subslide"
    }
   },
   "source": [
    "\n",
    "## The Current Directory\n",
    "- The directory displayed in the prompt is called the \"current directory\" or\n",
    "  \"working directory\".\n",
    "- You can also enter the command `pwd` to see the current directory.\n",
    "- Use `ls` or `dir` to display the files in the current directory."
   ]
  },
  {
   "cell_type": "markdown",
   "id": "83d3cfb88686305a",
   "metadata": {
    "lang": "en",
    "slideshow": {
     "slide_type": "subslide"
    }
   },
   "source": [
    "\n",
    "## Changing the working directory\n",
    "\n",
    "- You can change the current directory with the `cd` command\n",
    "- After `cd` there is a path:\n",
    "  - Absolute path: `cd c:\\Windows`\n",
    "  - Relative path: `cd System` or `cd .\\System `\n",
    "- You can use the `Tab` key to complete paths\n",
    "- `.` stands for the current directory, `..` for the parent directory\n",
    "- You can use `/` or `\\` to separate path parts\n",
    "- Paths with spaces must be enclosed in quotes:\n",
    "  - cd 'C:\\Users\\Test User\\'"
   ]
  },
  {
   "cell_type": "markdown",
   "id": "bbb01e71d7352644",
   "metadata": {
    "lang": "en",
    "slideshow": {
     "slide_type": "subslide"
    }
   },
   "source": [
    "\n",
    "- Now that we know that the current directory is important, the following question\n",
    "  arises quite naturally: \"how do we change the current working directory?\"\n",
    "- We can achieve this with the `cd` command:\n",
    "- After `cd` there is a path:\n",
    "- This can be an absolute path, which under Windows usually begins with the\n",
    "  directory name and a colon.\n",
    "- `cd C:\\Windows`\n",
    "- You can also end the path with a slash, it makes no difference\n",
    "- In a corporate environment there are other possible paths, but if you are in\n",
    "  this situation then you know the names of the directories you are already using.\n",
    "- Or the path can be a relative path. This begins either directly with the name\n",
    "  of the subdirectory or with a period and a slash.\n",
    "- `cd System`\n",
    "- `cd .\\Speech`\n",
    "- If a path contains spaces, you must enclose it in (single or double) quotes"
   ]
  },
  {
   "cell_type": "markdown",
   "id": "d92c9b3ec071cdc1",
   "metadata": {
    "lang": "en",
    "lines_to_next_cell": 2,
    "slideshow": {
     "slide_type": "subslide"
    }
   },
   "source": [
    "\n",
    "## Tips for working with paths\n",
    "- Complete paths with the `Tab` key\n",
    "- Use `~` to change to your home directory\n",
    "- Use `..` to change to the parent directory\n",
    "- Copy paths from Explorer or Finder"
   ]
  },
  {
   "cell_type": "markdown",
   "id": "65df388d728dc54d",
   "metadata": {
    "lang": "en",
    "slideshow": {
     "slide_type": "subslide"
    }
   },
   "source": [
    "\n",
    "## That's it\n",
    "\n",
    "- The command line offers many more features than we've discussed\n",
    "- But for what we want to do in this course, we already know enough"
   ]
  }
 ],
 "metadata": {},
 "nbformat": 4,
 "nbformat_minor": 5
}
