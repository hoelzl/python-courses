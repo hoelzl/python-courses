{
 "cells": [
  {
   "cell_type": "markdown",
   "id": "976af01f82c7d1f5",
   "metadata": {
    "lang": "en",
    "lines_to_next_cell": 2,
    "slideshow": {
     "slide_type": "slide"
    }
   },
   "source": [
    "<img src=\"../img/python-logo-no-text.png\"\n",
    "     style=\"display:block;margin:auto;width:10%\"/>\n",
    "<br>\n",
    "<div style=\"text-align:center; font-size:200%;\">\n",
    "  <b>Anaconda</b>\n",
    "</div>\n",
    "<br/>\n",
    "<div style=\"text-align:center;\">Dr. Matthias Hölzl</div>\n",
    "<br/>\n",
    "<!-- <div style=\"text-align:center;\">module_110_introduction/topic_102_a3_anaconda</div> -->"
   ]
  },
  {
   "cell_type": "markdown",
   "id": "a3764a7e27def6d6",
   "metadata": {
    "lang": "en",
    "slideshow": {
     "slide_type": "slide"
    }
   },
   "source": [
    "\n",
    "# Python Distributions\n",
    "\n",
    "- There are different ways to install the Python interpreter and other software\n",
    "  needed for developing programs\n",
    "\n",
    "- The standard installation can be found on the [Python website](https:www.python.org)\n",
    "\n",
    "- [Anaconda](https:www. anaconda.com) is an alternative that is particularly\n",
    "  widespread in the machine learning area because it contains many libraries required\n",
    "  for ML"
   ]
  },
  {
   "cell_type": "markdown",
   "id": "470f0acd27c7c273",
   "metadata": {
    "lang": "en",
    "slideshow": {
     "slide_type": "subslide"
    }
   },
   "source": [
    "\n",
    "# Installing Anaconda\n",
    "\n",
    "- Go to the [Anaconda Website](https://www.anaconda.com/) and follow the instructions"
   ]
  },
  {
   "cell_type": "markdown",
   "id": "ac7d70bff36d6886",
   "metadata": {
    "lang": "en",
    "slideshow": {
     "slide_type": "subslide"
    }
   },
   "source": [
    "\n",
    "# Starting the Python interpreter\n",
    "\n",
    "- Open an Anaconda command prompt (I prefer the PowerShell prompt on Windows)\n",
    "- Type `python` into the window (after the `$`-sign)\n",
    "- You should see some information about the interpreter and then the prompt `>>>`\n",
    "- Type some Python code, e.g., `17 + 4` after the prompt and press the `Enter` key\n",
    "- Python replies with the answer `21` and a new prompt\n",
    "- Type `exit()` to leave the Python interpreter\n",
    "\n",
    "Congratulations! You are now ready to work with the Python interpreter!"
   ]
  },
  {
   "cell_type": "markdown",
   "id": "7321d676f8c30085",
   "metadata": {
    "lang": "en",
    "slideshow": {
     "slide_type": "subslide"
    }
   },
   "source": [
    "\n",
    "# Some tips about the Python interpreter\n",
    "\n",
    "- Upper and lower case is important!\n",
    "- The brackets after `exit()` are important!\n",
    "- If you see three dots `...` instead of the `>>>` prompt, the interpreter is waiting\n",
    "  for the continuation of an incomplete input\n",
    "- You can use `Ctrl-C` to return to the prompt from most situations\n",
    "- There are many more convenient ways working with Python than the default\n",
    "  interpreter we just used"
   ]
  }
 ],
 "metadata": {},
 "nbformat": 4,
 "nbformat_minor": 5
}
