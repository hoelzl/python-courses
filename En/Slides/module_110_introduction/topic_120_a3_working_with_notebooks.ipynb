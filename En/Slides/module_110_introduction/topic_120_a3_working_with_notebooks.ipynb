{
 "cells": [
  {
   "cell_type": "markdown",
   "id": "5ae7c855d46f94da",
   "metadata": {
    "lang": "en",
    "slideshow": {
     "slide_type": "slide"
    }
   },
   "source": [
    "<img src=\"../img/python-logo-no-text.png\"\n",
    "     style=\"display:block;margin:auto;width:10%\"/>\n",
    "<br>\n",
    "<div style=\"text-align:center; font-size:200%;\">\n",
    "  <b>Working with Jupyter Notebooks</b>\n",
    "</div>\n",
    "<br/>\n",
    "<div style=\"text-align:center;\">Dr. Matthias Hölzl</div>\n",
    "<br/>\n",
    "<!-- <div style=\"text-align:center;\">module_110_introduction/topic_120_a3_working_with_notebooks</div> -->\n",
    "\n"
   ]
  },
  {
   "cell_type": "markdown",
   "id": "1f58437b8e4fb7fe",
   "metadata": {
    "lang": "en",
    "slideshow": {
     "slide_type": "slide"
    }
   },
   "source": [
    "## Working with notebooks\n",
    "\n",
    "- Notebooks are divided into cells\n",
    "- Cells can contain either text or Python code.\n",
    "- Command and edit mode (`Esc` / `Enter`)\n",
    "- Some keyboard shortcuts: `Strg`-`Enter`, `Shift`-`Enter`"
   ]
  },
  {
   "cell_type": "code",
   "execution_count": null,
   "id": "3b251dc8bc6367f6",
   "metadata": {
    "tags": [
     "keep"
    ]
   },
   "outputs": [],
   "source": [
    "def say_hello(name):\n",
    "    print(f\"Hello, {name}.\")"
   ]
  },
  {
   "cell_type": "code",
   "execution_count": null,
   "id": "74769f3b41c551de",
   "metadata": {
    "tags": [
     "keep"
    ]
   },
   "outputs": [],
   "source": [
    "say_hello(\"World\")"
   ]
  },
  {
   "cell_type": "code",
   "execution_count": null,
   "id": "602bdc204140db01",
   "metadata": {
    "slideshow": {
     "slide_type": "subslide"
    }
   },
   "outputs": [],
   "source": [
    "123"
   ]
  },
  {
   "cell_type": "code",
   "execution_count": null,
   "id": "79a590bd4f92d6e4",
   "metadata": {},
   "outputs": [],
   "source": [
    "17 + 4"
   ]
  },
  {
   "cell_type": "code",
   "execution_count": null,
   "id": "b2cbd2dedaaf7268",
   "metadata": {},
   "outputs": [],
   "source": [
    "answer = 42\n",
    "answer"
   ]
  },
  {
   "cell_type": "code",
   "execution_count": null,
   "id": "1d0b68a909d92c14",
   "metadata": {},
   "outputs": [],
   "source": [
    "# fmt: off\n",
    "answer;\n",
    "\n",
    "# fmt: on"
   ]
  }
 ],
 "metadata": {},
 "nbformat": 4,
 "nbformat_minor": 5
}
