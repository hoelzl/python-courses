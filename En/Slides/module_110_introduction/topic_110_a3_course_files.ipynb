{
 "cells": [
  {
   "cell_type": "markdown",
   "id": "61ca054eb518ce3b",
   "metadata": {
    "lang": "en",
    "lines_to_next_cell": 2,
    "slideshow": {
     "slide_type": "slide"
    }
   },
   "source": [
    "<img src=\"../img/python-logo-no-text.png\"\n",
    "     style=\"display:block;margin:auto;width:10%\"/>\n",
    "<br>\n",
    "<div style=\"text-align:center; font-size:200%;\">\n",
    "  <b>Course Files</b>\n",
    "</div>\n",
    "<br/>\n",
    "<div style=\"text-align:center;\">Dr. Matthias Hölzl</div>\n",
    "<br/>\n",
    "<!-- <div style=\"text-align:center;\">module_110_introduction/topic_110_a3_course_files</div> -->"
   ]
  },
  {
   "cell_type": "markdown",
   "id": "938eafa0555e437c",
   "metadata": {
    "lang": "en",
    "slideshow": {
     "slide_type": "slide"
    }
   },
   "source": [
    "\n",
    "## Unpacking the Course Files\n",
    "\n",
    "- It is important that you unpack the zip archive before working with the files\n",
    "- Your browser may be able to open files in the zip archive, but you will not be\n",
    "  able to work with them!\n",
    "- Make a note of the location where you saved your unzipped files.\n",
    "- You will need this location shortly to open the Jupyter Notebooks."
   ]
  },
  {
   "cell_type": "markdown",
   "id": "97dd714e520c19e4",
   "metadata": {
    "lang": "en",
    "slideshow": {
     "slide_type": "subslide"
    }
   },
   "source": [
    "\n",
    "## The Structure of the Course\n",
    "\n",
    "- Readme and configuration files are in the root directory\n",
    "- There are also two folders for code-alongs and full slides\n",
    "- Within each of these folders, there are sub-folders for each of the 4 weeks of\n",
    "  the course\n",
    "- Within these sub-folders are Jupyter Notebooks with the file extension `ipynb`"
   ]
  }
 ],
 "metadata": {},
 "nbformat": 4,
 "nbformat_minor": 5
}
