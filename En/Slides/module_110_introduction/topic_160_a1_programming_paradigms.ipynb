{
 "cells": [
  {
   "cell_type": "markdown",
   "id": "f64cc4555b32bc89",
   "metadata": {
    "lang": "en",
    "lines_to_next_cell": 2,
    "slideshow": {
     "slide_type": "slide"
    }
   },
   "source": [
    "<img src=\"../img/python-logo-no-text.png\"\n",
    "     style=\"display:block;margin:auto;width:10%\"/>\n",
    "<br>\n",
    "<div style=\"text-align:center; font-size:200%;\">\n",
    "  <b>Programming paradigms</b>\n",
    "</div>\n",
    "<br/>\n",
    "<div style=\"text-align:center;\">Dr. Matthias Hölzl</div>\n",
    "<br/>\n",
    "<!-- <div style=\"text-align:center;\">module_110_introduction/topic_160_a1_programming_paradigms</div> -->"
   ]
  },
  {
   "cell_type": "markdown",
   "id": "b1d1e05e37a00a31",
   "metadata": {
    "lang": "en",
    "slideshow": {
     "slide_type": "slide"
    }
   },
   "source": [
    "# Programming paradigms\n",
    "- Procedural\n",
    "- Functional (?)\n",
    "- Object oriented"
   ]
  },
  {
   "cell_type": "code",
   "execution_count": null,
   "id": "f21ecbe2fda4e4de",
   "metadata": {
    "slideshow": {
     "slide_type": "slide"
    }
   },
   "outputs": [],
   "source": [
    "def add(x, y):\n",
    "    return x + y"
   ]
  },
  {
   "cell_type": "code",
   "execution_count": null,
   "id": "0e986ceae0992f39",
   "metadata": {},
   "outputs": [],
   "source": [
    "add(2, 3)"
   ]
  },
  {
   "cell_type": "code",
   "execution_count": null,
   "id": "a8d20e0cea7cc926",
   "metadata": {},
   "outputs": [],
   "source": [
    "accu = 0"
   ]
  },
  {
   "cell_type": "code",
   "execution_count": null,
   "id": "b81237d8f75ee235",
   "metadata": {
    "slideshow": {
     "slide_type": "slide"
    }
   },
   "outputs": [],
   "source": [
    "def inc(x):\n",
    "    global accu\n",
    "    accu += x"
   ]
  },
  {
   "cell_type": "code",
   "execution_count": null,
   "id": "071770273cdd43dd",
   "metadata": {},
   "outputs": [],
   "source": [
    "def display_accu():\n",
    "    print(f\"Accumulator is {accu}.\")"
   ]
  },
  {
   "cell_type": "code",
   "execution_count": null,
   "id": "13b04b34097e75ef",
   "metadata": {},
   "outputs": [],
   "source": [
    "display_accu()\n",
    "inc(2)\n",
    "inc(3)\n",
    "display_accu()"
   ]
  },
  {
   "cell_type": "code",
   "execution_count": null,
   "id": "423d739dd6910743",
   "metadata": {
    "slideshow": {
     "slide_type": "slide"
    }
   },
   "outputs": [],
   "source": [
    "def n_times(n, f, x):\n",
    "    if n <= 0:\n",
    "        return x\n",
    "    else:\n",
    "        return n_times(n - 1, f, f(x))"
   ]
  },
  {
   "cell_type": "code",
   "execution_count": null,
   "id": "600758913ac53df5",
   "metadata": {},
   "outputs": [],
   "source": [
    "n_times(10, lambda x: x * 2, 1)"
   ]
  },
  {
   "cell_type": "code",
   "execution_count": null,
   "id": "b71e4055854efc0f",
   "metadata": {
    "slideshow": {
     "slide_type": "slide"
    }
   },
   "outputs": [],
   "source": [
    "from pathlib import Path\n",
    "\n",
    "path = Path(\"./some_file.txt\")"
   ]
  },
  {
   "cell_type": "code",
   "execution_count": null,
   "id": "3a157bd64b91f895",
   "metadata": {},
   "outputs": [],
   "source": [
    "path.with_suffix(\".md\").absolute()"
   ]
  },
  {
   "cell_type": "code",
   "execution_count": null,
   "id": "6b4e03423667dbb7",
   "metadata": {},
   "outputs": [],
   "source": []
  }
 ],
 "metadata": {},
 "nbformat": 4,
 "nbformat_minor": 5
}
