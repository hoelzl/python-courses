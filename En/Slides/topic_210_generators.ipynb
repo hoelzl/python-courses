{
 "cells": [
  {
   "cell_type": "markdown",
   "id": "647655ad",
   "metadata": {
    "lang": "en",
    "lines_to_next_cell": 2,
    "slideshow": {
     "slide_type": "slide"
    }
   },
   "source": [
    "<img src=\"img/python-logo-notext.svg\"\n",
    "     style=\"display:block;margin:auto;width:10%\"/>\n",
    "<br>\n",
    "<div style=\"text-align:center; font-size:200%;\"><b>Iterators and generators</b></div>\n",
    "<br/>\n",
    "<div style=\"text-align:center;\">Dr. Matthias Hölzl</div>"
   ]
  },
  {
   "cell_type": "markdown",
   "id": "bb931082",
   "metadata": {
    "lang": "en",
    "slideshow": {
     "slide_type": "slide"
    }
   },
   "source": [
    "# Generators\n",
    "\n",
    "- It is not efficient to construct a list if we only use it for\n",
    "  want to iterate over their elements\n",
    "- Python offers the possibility to define generators that can be iterated, but don't have the overhead of a list\n",
    "- The simplest way to define them is with generator expressions:"
   ]
  },
  {
   "cell_type": "code",
   "execution_count": null,
   "id": "98a717f3",
   "metadata": {},
   "outputs": [],
   "source": [
    "gen = (n * n for n in range(10))\n",
    "gen"
   ]
  },
  {
   "cell_type": "code",
   "execution_count": null,
   "id": "f0c62e44",
   "metadata": {},
   "outputs": [],
   "source": [
    "for i in gen:\n",
    "    print(i, end=\" \")"
   ]
  },
  {
   "cell_type": "code",
   "execution_count": null,
   "id": "e6d8da8f",
   "metadata": {},
   "outputs": [],
   "source": [
    "for i, j, k in ((n, m, n * m) for n in range(2, 5) for m in range(n, 5)):\n",
    "    print(f\"{i}, {j}, {k}\")"
   ]
  },
  {
   "cell_type": "code",
   "execution_count": null,
   "id": "c517fb0b",
   "metadata": {},
   "outputs": [],
   "source": [
    "r = range(3)\n",
    "repr(r)"
   ]
  },
  {
   "cell_type": "code",
   "execution_count": null,
   "id": "77f3d89c",
   "metadata": {},
   "outputs": [],
   "source": [
    "it = iter(r)\n",
    "repr(it)"
   ]
  },
  {
   "cell_type": "code",
   "execution_count": null,
   "id": "11673cc9",
   "metadata": {},
   "outputs": [],
   "source": [
    "next(it)"
   ]
  },
  {
   "cell_type": "code",
   "execution_count": null,
   "id": "09218ca6",
   "metadata": {},
   "outputs": [],
   "source": [
    "next(it)"
   ]
  },
  {
   "cell_type": "code",
   "execution_count": null,
   "id": "1ecba13c",
   "metadata": {},
   "outputs": [],
   "source": [
    "next(it)"
   ]
  },
  {
   "cell_type": "code",
   "execution_count": null,
   "id": "2b14e70b",
   "metadata": {
    "lines_to_next_cell": 2
   },
   "outputs": [],
   "source": [
    "# next(it)"
   ]
  },
  {
   "cell_type": "code",
   "execution_count": null,
   "id": "35b77a24",
   "metadata": {},
   "outputs": [],
   "source": [
    "for x in range(3):\n",
    "    print(x, end=\" \")"
   ]
  },
  {
   "cell_type": "code",
   "execution_count": null,
   "id": "b5772100",
   "metadata": {},
   "outputs": [],
   "source": [
    "_r = range(3)\n",
    "_temp_iter = iter(_r)\n",
    "while True:\n",
    "    try:\n",
    "        x = next(_temp_iter)\n",
    "    except StopIteration:\n",
    "        break\n",
    "    print(x, end=\" \")"
   ]
  },
  {
   "cell_type": "code",
   "execution_count": null,
   "id": "4d9c8f8b",
   "metadata": {},
   "outputs": [],
   "source": [
    "gen = (n * n for n in range(3))\n",
    "repr(gen)"
   ]
  },
  {
   "cell_type": "code",
   "execution_count": null,
   "id": "e9e3c344",
   "metadata": {},
   "outputs": [],
   "source": [
    "it = iter(gen)\n",
    "repr(it)"
   ]
  },
  {
   "cell_type": "code",
   "execution_count": null,
   "id": "84d5da83",
   "metadata": {},
   "outputs": [],
   "source": [
    "next(it)"
   ]
  },
  {
   "cell_type": "code",
   "execution_count": null,
   "id": "8b00ff43",
   "metadata": {},
   "outputs": [],
   "source": [
    "next(it)"
   ]
  },
  {
   "cell_type": "code",
   "execution_count": null,
   "id": "59b9b106",
   "metadata": {
    "lines_to_next_cell": 2
   },
   "outputs": [],
   "source": [
    "next(it)"
   ]
  },
  {
   "cell_type": "code",
   "execution_count": null,
   "id": "c131b718",
   "metadata": {
    "lines_to_next_cell": 2
   },
   "outputs": [],
   "source": [
    "# next(it)"
   ]
  },
  {
   "cell_type": "code",
   "execution_count": null,
   "id": "e6319f2b",
   "metadata": {
    "lines_to_next_cell": 2
   },
   "outputs": [],
   "source": [
    "# `it` ist \"erschöpft,\" man kann keine neuen Werte bekommen\n",
    "# next(it)"
   ]
  }
 ],
 "metadata": {
  "kernelspec": {
   "display_name": "Python 3 (ipykernel)",
   "language": "python",
   "name": "python3"
  }
 },
 "nbformat": 4,
 "nbformat_minor": 5
}
