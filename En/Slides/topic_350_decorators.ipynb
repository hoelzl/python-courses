{
 "cells": [
  {
   "cell_type": "markdown",
   "id": "ec039576",
   "metadata": {
    "lang": "en",
    "slideshow": {
     "slide_type": "slide"
    }
   },
   "source": [
    "<img src=\"img/python-logo-notext.svg\"\n",
    "     style=\"display:block;margin:auto;width:10%\"/>\n",
    "<br>\n",
    "<div style=\"text-align:center; font-size:200%;\"><b>Decorators</b></div>\n",
    "<br/>\n",
    "<div style=\"text-align:center;\">Dr. Matthias Hölzl</div>"
   ]
  },
  {
   "cell_type": "markdown",
   "id": "1573a88c",
   "metadata": {
    "lang": "en",
    "slideshow": {
     "slide_type": "slide"
    }
   },
   "source": [
    "## The XML Package\n",
    "\n",
    "See [PEP 318](https://peps.python.org/pep-0318/)"
   ]
  },
  {
   "cell_type": "code",
   "execution_count": null,
   "id": "3fb465a3",
   "metadata": {
    "lines_to_next_cell": 1
   },
   "outputs": [],
   "source": [
    "def log_exec(fun):\n",
    "\tdef logged_fun(*args, **kwargs):\n",
    "\t\tprint(f\"Calling {fun.__name__} on {args}, {kwargs}.\")\n",
    "\t\treturn fun(*args, **kwargs)\n",
    "\treturn logged_fun"
   ]
  },
  {
   "cell_type": "code",
   "execution_count": null,
   "id": "ebc1eae9",
   "metadata": {},
   "outputs": [],
   "source": [
    "@log_exec\n",
    "def say_hi(name=\"world\"):\n",
    "\tprint(f\"Hi {name}!\")"
   ]
  },
  {
   "cell_type": "code",
   "execution_count": null,
   "id": "ca7720a7",
   "metadata": {},
   "outputs": [],
   "source": [
    "say_hi()"
   ]
  },
  {
   "cell_type": "code",
   "execution_count": null,
   "id": "8b462c1d",
   "metadata": {
    "lines_to_next_cell": 1
   },
   "outputs": [],
   "source": [
    "say_hi(\"Joe\")"
   ]
  },
  {
   "cell_type": "code",
   "execution_count": null,
   "id": "00d056db",
   "metadata": {},
   "outputs": [],
   "source": [
    "@log_exec\n",
    "def my_dict(id, **kwargs):\n",
    "\treturn dict(id=id, **kwargs)"
   ]
  },
  {
   "cell_type": "code",
   "execution_count": null,
   "id": "82dd6ddd",
   "metadata": {},
   "outputs": [],
   "source": [
    "my_dict(123)"
   ]
  },
  {
   "cell_type": "code",
   "execution_count": null,
   "id": "59c5b67b",
   "metadata": {},
   "outputs": [],
   "source": [
    "my_dict(123, foo=234, bar=345)"
   ]
  },
  {
   "cell_type": "code",
   "execution_count": null,
   "id": "6d197994",
   "metadata": {},
   "outputs": [],
   "source": [
    "d = dict(foo=234, bar=345)"
   ]
  },
  {
   "cell_type": "code",
   "execution_count": null,
   "id": "97ab0150",
   "metadata": {},
   "outputs": [],
   "source": [
    "my_dict(1, **d)"
   ]
  },
  {
   "cell_type": "code",
   "execution_count": null,
   "id": "8824a651",
   "metadata": {
    "tags": [
     "keep"
    ]
   },
   "outputs": [],
   "source": []
  }
 ],
 "metadata": {
  "kernelspec": {
   "display_name": "Python 3 (ipykernel)",
   "language": "python",
   "name": "python3"
  }
 },
 "nbformat": 4,
 "nbformat_minor": 5
}
