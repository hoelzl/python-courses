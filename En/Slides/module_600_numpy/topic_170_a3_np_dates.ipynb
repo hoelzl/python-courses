{
 "cells": [
  {
   "cell_type": "markdown",
   "id": "7ff5372d6d7ed43e",
   "metadata": {
    "lang": "en",
    "lines_to_next_cell": 2,
    "slideshow": {
     "slide_type": "slide"
    }
   },
   "source": [
    "<img src=\"../img/python-logo-no-text.png\"\n",
    "     style=\"display:block;margin:auto;width:10%\"/>\n",
    "<br>\n",
    "<div style=\"text-align:center; font-size:200%;\">\n",
    "  <b>Dates and Times in NumPy</b>\n",
    "</div>\n",
    "<br/>\n",
    "<div style=\"text-align:center;\">Dr. Matthias Hölzl</div>\n",
    "<br/>\n",
    "<!-- <div style=\"text-align:center;\">module_600_numpy/topic_170_a3_np_dates</div> -->"
   ]
  },
  {
   "cell_type": "markdown",
   "id": "bee21c2eed99b53c",
   "metadata": {
    "lang": "en",
    "slideshow": {
     "slide_type": "slide"
    }
   },
   "source": [
    "\n",
    "# Dates in NumPy"
   ]
  },
  {
   "cell_type": "code",
   "execution_count": null,
   "id": "9189f60d213fe786",
   "metadata": {},
   "outputs": [],
   "source": [
    "import numpy as np"
   ]
  },
  {
   "cell_type": "code",
   "execution_count": null,
   "id": "670b7b9f9bf7320b",
   "metadata": {},
   "outputs": [],
   "source": [
    "np.datetime64(\"2022-09-16\")"
   ]
  },
  {
   "cell_type": "code",
   "execution_count": null,
   "id": "cac08d7d655411d4",
   "metadata": {},
   "outputs": [],
   "source": [
    "np.datetime64(\"2022-09-16\", \"Y\")"
   ]
  },
  {
   "cell_type": "code",
   "execution_count": null,
   "id": "eb7e767cc772e03c",
   "metadata": {},
   "outputs": [],
   "source": [
    "np.datetime64(\"2022\", \"D\")"
   ]
  },
  {
   "cell_type": "code",
   "execution_count": null,
   "id": "2548ccc4874104ad",
   "metadata": {},
   "outputs": [],
   "source": [
    "np.datetime64(\"2022-09-16T05:04\")"
   ]
  },
  {
   "cell_type": "code",
   "execution_count": null,
   "id": "b8ca2c48d1ddc721",
   "metadata": {},
   "outputs": [],
   "source": [
    "np.datetime64(0, \"Y\")"
   ]
  },
  {
   "cell_type": "code",
   "execution_count": null,
   "id": "d6d67ce4f92eb2f6",
   "metadata": {},
   "outputs": [],
   "source": [
    "np.datetime64(52, \"Y\")"
   ]
  },
  {
   "cell_type": "code",
   "execution_count": null,
   "id": "07621c09176d539a",
   "metadata": {},
   "outputs": [],
   "source": [
    "np.datetime64(52 * 12 + 8, \"M\")"
   ]
  },
  {
   "cell_type": "code",
   "execution_count": null,
   "id": "54685ba618291e47",
   "metadata": {},
   "outputs": [],
   "source": [
    "np.datetime64(\"nat\")  # Not a Time"
   ]
  },
  {
   "cell_type": "code",
   "execution_count": null,
   "id": "270aaac8a37ef279",
   "metadata": {},
   "outputs": [],
   "source": [
    "np.arange(\"2022-09\", \"2022-10\", dtype=\"datetime64[D]\")"
   ]
  },
  {
   "cell_type": "code",
   "execution_count": null,
   "id": "e306ae3a9e8427e6",
   "metadata": {},
   "outputs": [],
   "source": [
    "np.arange(\"2022-09-16T05\", \"2022-09-16T17\", dtype=\"datetime64[h]\")"
   ]
  },
  {
   "cell_type": "code",
   "execution_count": null,
   "id": "a362f07600f5f082",
   "metadata": {},
   "outputs": [],
   "source": [
    "np.datetime64(\"2022-09-17\") - np.datetime64(\"2022-09-16\")"
   ]
  },
  {
   "cell_type": "code",
   "execution_count": null,
   "id": "6fc4dfaf87e94039",
   "metadata": {},
   "outputs": [],
   "source": [
    "np.datetime64(\"2022-09-16T05\") + np.timedelta64(4, \"h\")"
   ]
  },
  {
   "cell_type": "code",
   "execution_count": null,
   "id": "6b4e03423667dbb7",
   "metadata": {},
   "outputs": [],
   "source": []
  }
 ],
 "metadata": {},
 "nbformat": 4,
 "nbformat_minor": 5
}
