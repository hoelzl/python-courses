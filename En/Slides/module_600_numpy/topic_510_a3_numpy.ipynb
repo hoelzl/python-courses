{
 "cells": [
  {
   "cell_type": "markdown",
   "id": "63c0ee65e13068ca",
   "metadata": {
    "lang": "en",
    "slideshow": {
     "slide_type": "slide"
    }
   },
   "source": [
    "<img src=\"../../img/python-logo-no-text.svg\"\n",
    "     style=\"display:block;margin:auto;width:10%\"/>\n",
    "<br>\n",
    "<div style=\"text-align:center; font-size:200%;\">\n",
    "  <b>NumPy</b>\n",
    "</div>\n",
    "<br/>\n",
    "<div style=\"text-align:center;\">Dr. Matthias Hölzl</div>\n",
    "<br/>\n",
    "<div style=\"text-align:center;\">module_600_numpy/topic_510_a3_numpy</div>"
   ]
  },
  {
   "cell_type": "markdown",
   "id": "13b7087bca2023d7",
   "metadata": {
    "lang": "en",
    "slideshow": {
     "slide_type": "slide"
    }
   },
   "source": [
    "\n",
    "# Introduction to NumPy"
   ]
  },
  {
   "cell_type": "markdown",
   "id": "59b3744f330e2a76",
   "metadata": {
    "slideshow": {
     "slide_type": "slide"
    }
   },
   "source": [
    "## Listen als Vektoren und Matrizen\n",
    "\n",
    "Wir können Python Listen verwenden um Vektoren darzustellen:"
   ]
  },
  {
   "cell_type": "code",
   "execution_count": null,
   "id": "103d5ca0e563ef3c",
   "metadata": {},
   "outputs": [],
   "source": [
    "vector1 = [3, 2, 4]\n",
    "vector2 = [8, 9, 7]"
   ]
  },
  {
   "cell_type": "markdown",
   "id": "07bb36d942e8f7bc",
   "metadata": {},
   "source": [
    "\n",
    "Es wäre dann möglich, Vektoroperationen auf derartigen Listen zu\n",
    "implementieren:"
   ]
  },
  {
   "cell_type": "code",
   "execution_count": null,
   "id": "3a87b0d4e3a89f68",
   "metadata": {
    "slideshow": {
     "slide_type": "subslide"
    }
   },
   "outputs": [],
   "source": [
    "def vector_sum(v1, v2):\n",
    "    assert len(v1) == len(v2)\n",
    "    result = [0] * len(v1)\n",
    "    for i in range(len(v1)):\n",
    "        result[i] = v1[i] + v2[i]\n",
    "    return result"
   ]
  },
  {
   "cell_type": "code",
   "execution_count": null,
   "id": "a3d018dba0b5094a",
   "metadata": {},
   "outputs": [],
   "source": [
    "vector_sum(vector1, vector2)"
   ]
  },
  {
   "cell_type": "markdown",
   "id": "443c5c84acf66aba",
   "metadata": {
    "slideshow": {
     "slide_type": "subslide"
    }
   },
   "source": [
    "\n",
    "Matrizen könnten dann als \"Listen von Listen\" dargestellt werden:"
   ]
  },
  {
   "cell_type": "code",
   "execution_count": null,
   "id": "5d520f15e534ffbe",
   "metadata": {},
   "outputs": [],
   "source": [
    "matrix = [[1, 2, 3],\n",
    "          [2, 3, 4],\n",
    "          [3, 4, 5]]"
   ]
  },
  {
   "cell_type": "markdown",
   "id": "35bd767980eb906f",
   "metadata": {
    "slideshow": {
     "slide_type": "subslide"
    }
   },
   "source": [
    "Diese Implementierungsvariante hat jedoch einige Nachteile:\n",
    "- Performanz\n",
    "    - Speicher\n",
    "    - Geschwindigkeit\n",
    "    - Parallelisierbarkeit\n",
    "- Interface\n",
    "    - Zu allgemein\n",
    "    - `*`, `+` auf Listen entspricht nicht den Erwartungen\n",
    "    - ...\n",
    "- ..."
   ]
  },
  {
   "cell_type": "markdown",
   "id": "e99747ed84d0fd25",
   "metadata": {
    "slideshow": {
     "slide_type": "slide"
    }
   },
   "source": [
    "# NumPy\n",
    "\n",
    "NumPy ist eine Bibliothek, die einen Datentyp für $n$-dimensionale Tensoren (`ndarray`) sowie effiziente Operationen darauf bereitstellt.\n",
    "- Vektoren\n",
    "- Matrizen\n",
    "- Grundoperationen für Lineare Algebra\n",
    "- Tensoren für Deep Learning\n",
    "\n",
    "Fast alle anderen mathematischen und Data-Science-orientierten Bibliotheken für Python bauen auf NumPy auf (Pandas, SciPy, Statsmodels, TensorFlow, ...)."
   ]
  },
  {
   "cell_type": "markdown",
   "id": "ff8c9b5da84232f6",
   "metadata": {
    "slideshow": {
     "slide_type": "slide"
    }
   },
   "source": [
    "## Überblick"
   ]
  },
  {
   "cell_type": "code",
   "execution_count": null,
   "id": "9189f60d213fe786",
   "metadata": {},
   "outputs": [],
   "source": [
    "import numpy as np"
   ]
  },
  {
   "cell_type": "code",
   "execution_count": null,
   "id": "d65f3562f4b8f041",
   "metadata": {},
   "outputs": [],
   "source": [
    "v1 = np.array([3, 2, 4])\n",
    "v2 = np.array([8, 9, 7])"
   ]
  },
  {
   "cell_type": "code",
   "execution_count": null,
   "id": "bc6eec37c8fa569b",
   "metadata": {},
   "outputs": [],
   "source": [
    "type(v1)"
   ]
  },
  {
   "cell_type": "code",
   "execution_count": null,
   "id": "c9368110fae18c7f",
   "metadata": {
    "slideshow": {
     "slide_type": ""
    }
   },
   "outputs": [],
   "source": [
    "v1.dtype"
   ]
  },
  {
   "cell_type": "code",
   "execution_count": null,
   "id": "2251def6a3a89789",
   "metadata": {
    "slideshow": {
     "slide_type": "subslide"
    }
   },
   "outputs": [],
   "source": [
    "v1 + v2"
   ]
  },
  {
   "cell_type": "code",
   "execution_count": null,
   "id": "681d6715ba018d9e",
   "metadata": {},
   "outputs": [],
   "source": [
    "v1 * v2 # Elementweises (Hadamard) Produkt"
   ]
  },
  {
   "cell_type": "code",
   "execution_count": null,
   "id": "69f2229a84251d80",
   "metadata": {},
   "outputs": [],
   "source": [
    "v1.dot(v2)"
   ]
  },
  {
   "cell_type": "code",
   "execution_count": null,
   "id": "bee8da31d7abeee6",
   "metadata": {},
   "outputs": [],
   "source": [
    "v1 @ v2"
   ]
  },
  {
   "cell_type": "code",
   "execution_count": null,
   "id": "ac0f8c0ed330514c",
   "metadata": {
    "slideshow": {
     "slide_type": "subslide"
    }
   },
   "outputs": [],
   "source": [
    "v1.sum()"
   ]
  },
  {
   "cell_type": "code",
   "execution_count": null,
   "id": "3b17fcded8fa1f3a",
   "metadata": {},
   "outputs": [],
   "source": [
    "v1.mean()"
   ]
  },
  {
   "cell_type": "code",
   "execution_count": null,
   "id": "5dcb64ff2a187aa3",
   "metadata": {},
   "outputs": [],
   "source": [
    "v1.max()"
   ]
  },
  {
   "cell_type": "code",
   "execution_count": null,
   "id": "9a53cbc11a76316b",
   "metadata": {},
   "outputs": [],
   "source": [
    "v1.argmax(), v1[v1.argmax()]"
   ]
  },
  {
   "cell_type": "code",
   "execution_count": null,
   "id": "fdf69a5a404442be",
   "metadata": {
    "slideshow": {
     "slide_type": "subslide"
    }
   },
   "outputs": [],
   "source": [
    "m1 = np.array([[1, 2, 3],\n",
    "               [4, 5, 6]])\n",
    "m2 = np.array([[1, 0],\n",
    "               [0, 1],\n",
    "               [2, 3]])"
   ]
  },
  {
   "cell_type": "code",
   "execution_count": null,
   "id": "2c83a831120ef29d",
   "metadata": {},
   "outputs": [],
   "source": [
    " # m1 + m2"
   ]
  },
  {
   "cell_type": "code",
   "execution_count": null,
   "id": "de92341950589845",
   "metadata": {},
   "outputs": [],
   "source": [
    "m1.T"
   ]
  },
  {
   "cell_type": "code",
   "execution_count": null,
   "id": "def0b33dce3e1f1a",
   "metadata": {},
   "outputs": [],
   "source": [
    "m1.T + m2"
   ]
  },
  {
   "cell_type": "code",
   "execution_count": null,
   "id": "fe97a3aa05598684",
   "metadata": {},
   "outputs": [],
   "source": [
    "m1.dot(m2)"
   ]
  },
  {
   "cell_type": "code",
   "execution_count": null,
   "id": "1ebb74741e879b3e",
   "metadata": {},
   "outputs": [],
   "source": [
    "m1 @ m2"
   ]
  },
  {
   "cell_type": "markdown",
   "id": "76773c98671e8814",
   "metadata": {
    "slideshow": {
     "slide_type": "slide"
    }
   },
   "source": [
    "## Erzeugen von NumPy Arrays\n",
    "\n",
    "### Aus Python Listen\n",
    "\n",
    "Durch geschachtelte Listen lassen sich Vektoren, Matrizen und Tensoren erzeugen:"
   ]
  },
  {
   "cell_type": "code",
   "execution_count": null,
   "id": "f85fc49d804c28d6",
   "metadata": {
    "slideshow": {
     "slide_type": "subslide"
    }
   },
   "outputs": [],
   "source": [
    "vector = np.array([1, 2, 3, 4])\n",
    "vector"
   ]
  },
  {
   "cell_type": "code",
   "execution_count": null,
   "id": "8b94d28c3140e1ef",
   "metadata": {},
   "outputs": [],
   "source": [
    "vector.shape"
   ]
  },
  {
   "cell_type": "code",
   "execution_count": null,
   "id": "b58b781a21c62c39",
   "metadata": {
    "slideshow": {
     "slide_type": "subslide"
    }
   },
   "outputs": [],
   "source": [
    "matrix = np.array([[1, 2, 3], [4, 5, 6]])\n",
    "matrix"
   ]
  },
  {
   "cell_type": "code",
   "execution_count": null,
   "id": "0028fb6fc010111c",
   "metadata": {},
   "outputs": [],
   "source": [
    "matrix.shape"
   ]
  },
  {
   "cell_type": "code",
   "execution_count": null,
   "id": "47d652f4c0172887",
   "metadata": {},
   "outputs": [],
   "source": [
    "np.shape(matrix)"
   ]
  },
  {
   "cell_type": "code",
   "execution_count": null,
   "id": "c5d4e878c4aebcc0",
   "metadata": {
    "slideshow": {
     "slide_type": "subslide"
    }
   },
   "outputs": [],
   "source": [
    "tensor = np.array([[[1, 2], [3, 4]],\n",
    "                   [[5, 6], [7, 8]]])\n",
    "tensor"
   ]
  },
  {
   "cell_type": "code",
   "execution_count": null,
   "id": "2e04c132b66bf8b5",
   "metadata": {},
   "outputs": [],
   "source": [
    "tensor.shape"
   ]
  },
  {
   "cell_type": "markdown",
   "id": "caee606c604b61b7",
   "metadata": {
    "slideshow": {
     "slide_type": "subslide"
    }
   },
   "source": [
    "### Als Intervall bzw. Folge"
   ]
  },
  {
   "cell_type": "code",
   "execution_count": null,
   "id": "479292695389f356",
   "metadata": {},
   "outputs": [],
   "source": [
    "np.arange(10)"
   ]
  },
  {
   "cell_type": "code",
   "execution_count": null,
   "id": "69881bc4be2a5e61",
   "metadata": {},
   "outputs": [],
   "source": [
    "np.arange(10.0)"
   ]
  },
  {
   "cell_type": "code",
   "execution_count": null,
   "id": "9194816b52193939",
   "metadata": {},
   "outputs": [],
   "source": [
    "np.arange(2, 10)"
   ]
  },
  {
   "cell_type": "code",
   "execution_count": null,
   "id": "7ce4581ca7bb383f",
   "metadata": {},
   "outputs": [],
   "source": [
    "np.arange(3., 23., 5.)"
   ]
  },
  {
   "cell_type": "code",
   "execution_count": null,
   "id": "b5e41608e0d113cd",
   "metadata": {
    "slideshow": {
     "slide_type": "subslide"
    }
   },
   "outputs": [],
   "source": [
    "np.linspace(0, 10, 5)"
   ]
  },
  {
   "cell_type": "code",
   "execution_count": null,
   "id": "e209c3aaeb718f44",
   "metadata": {},
   "outputs": [],
   "source": [
    "np.linspace(0.1, 1, 10)"
   ]
  },
  {
   "cell_type": "code",
   "execution_count": null,
   "id": "fcda9e57b1a4a14c",
   "metadata": {},
   "outputs": [],
   "source": [
    "np.arange(0.1, 1.1, 0.1)"
   ]
  },
  {
   "cell_type": "markdown",
   "id": "bdf64e6d1bd67288",
   "metadata": {
    "slideshow": {
     "slide_type": "subslide"
    }
   },
   "source": [
    "### Konstant 0 oder 1"
   ]
  },
  {
   "cell_type": "code",
   "execution_count": null,
   "id": "d8653e911afe8b12",
   "metadata": {},
   "outputs": [],
   "source": [
    "np.zeros(3)"
   ]
  },
  {
   "cell_type": "code",
   "execution_count": null,
   "id": "b731ec9cf5c084de",
   "metadata": {},
   "outputs": [],
   "source": [
    "np.zeros((3,))"
   ]
  },
  {
   "cell_type": "code",
   "execution_count": null,
   "id": "8af81b5387aa91a2",
   "metadata": {},
   "outputs": [],
   "source": [
    "np.zeros((3, 3))"
   ]
  },
  {
   "cell_type": "code",
   "execution_count": null,
   "id": "aad265883b99a9c5",
   "metadata": {
    "slideshow": {
     "slide_type": "subslide"
    }
   },
   "outputs": [],
   "source": [
    "np.ones(2)"
   ]
  },
  {
   "cell_type": "code",
   "execution_count": null,
   "id": "1791202beacd4ef9",
   "metadata": {},
   "outputs": [],
   "source": [
    "np.ones((4, 5))"
   ]
  },
  {
   "cell_type": "markdown",
   "id": "69a84cbd0d5576fc",
   "metadata": {
    "slideshow": {
     "slide_type": "subslide"
    }
   },
   "source": [
    "### Als Identitätsmatrix"
   ]
  },
  {
   "cell_type": "code",
   "execution_count": null,
   "id": "224ad6feea224a66",
   "metadata": {},
   "outputs": [],
   "source": [
    "np.eye(4)"
   ]
  },
  {
   "cell_type": "markdown",
   "id": "9daf30fb26b5d91c",
   "metadata": {},
   "source": [
    "### Als uninitialisierte Matrix"
   ]
  },
  {
   "cell_type": "code",
   "execution_count": null,
   "id": "75673fd170d22bc3",
   "metadata": {},
   "outputs": [],
   "source": [
    "np.empty((4, 5))"
   ]
  },
  {
   "cell_type": "markdown",
   "id": "ce0885eb531d126f",
   "metadata": {
    "slideshow": {
     "slide_type": "subslide"
    }
   },
   "source": [
    "### Aus Zufallsverteilung\n",
    "\n",
    "Numpy bietet eine große Anzahl von möglichen [Generatoren und\n",
    "Verteilungen](https://docs.scipy.org/doc/numpy/reference/random/index.html)\n",
    "zum Erzeugen von Vektoren und Arrays mit zufälligen Elementen."
   ]
  },
  {
   "cell_type": "markdown",
   "id": "7fd3f8aca40013c1",
   "metadata": {},
   "source": [
    "#### Setzen des Seed-Wertes"
   ]
  },
  {
   "cell_type": "code",
   "execution_count": null,
   "id": "e1afd305cc2ef00a",
   "metadata": {},
   "outputs": [],
   "source": [
    "np.random.seed(101)"
   ]
  },
  {
   "cell_type": "markdown",
   "id": "847318ccbeb433b6",
   "metadata": {
    "slideshow": {
     "slide_type": "subslide"
    }
   },
   "source": [
    "#### Gleichverteilt in [0, 1)"
   ]
  },
  {
   "cell_type": "code",
   "execution_count": null,
   "id": "345aa718d1783cf1",
   "metadata": {},
   "outputs": [],
   "source": [
    "# Kompatibilität mit Matlab\n",
    "np.random.seed(101)\n",
    "np.random.rand(10)"
   ]
  },
  {
   "cell_type": "code",
   "execution_count": null,
   "id": "58b33b01623d5443",
   "metadata": {},
   "outputs": [],
   "source": [
    "np.random.rand(4, 5)"
   ]
  },
  {
   "cell_type": "code",
   "execution_count": null,
   "id": "bd0c318dc7389d81",
   "metadata": {},
   "outputs": [],
   "source": [
    "# Fehler\n",
    "# np.random.rand((4, 5))"
   ]
  },
  {
   "cell_type": "code",
   "execution_count": null,
   "id": "38dd3f017fd738d1",
   "metadata": {
    "slideshow": {
     "slide_type": "subslide"
    }
   },
   "outputs": [],
   "source": [
    "np.random.seed(101)\n",
    "np.random.random(10)"
   ]
  },
  {
   "cell_type": "code",
   "execution_count": null,
   "id": "fa5e6a4ce59fcba5",
   "metadata": {},
   "outputs": [],
   "source": [
    "np.random.random((4, 5))"
   ]
  },
  {
   "cell_type": "markdown",
   "id": "5033b628d0a60021",
   "metadata": {
    "slideshow": {
     "slide_type": "subslide"
    }
   },
   "source": [
    "#### Normalverteilte Zufallszahlen"
   ]
  },
  {
   "cell_type": "code",
   "execution_count": null,
   "id": "c15f45f2c68c9a15",
   "metadata": {},
   "outputs": [],
   "source": [
    "# Kompatibilität mit Matlab\n",
    "np.random.seed(101)\n",
    "np.random.randn(10)"
   ]
  },
  {
   "cell_type": "code",
   "execution_count": null,
   "id": "6eb29d1af5ebdbaf",
   "metadata": {},
   "outputs": [],
   "source": [
    "np.random.randn(4, 5)"
   ]
  },
  {
   "cell_type": "code",
   "execution_count": null,
   "id": "9f17f32f1f98860f",
   "metadata": {},
   "outputs": [],
   "source": [
    "# Fehler\n",
    "# np.random.randn((4, 5))"
   ]
  },
  {
   "cell_type": "code",
   "execution_count": null,
   "id": "249843e786f27905",
   "metadata": {
    "slideshow": {
     "slide_type": "subslide"
    }
   },
   "outputs": [],
   "source": [
    "np.random.seed(101)\n",
    "np.random.standard_normal(10)"
   ]
  },
  {
   "cell_type": "code",
   "execution_count": null,
   "id": "1083a944e66d717d",
   "metadata": {},
   "outputs": [],
   "source": [
    "np.random.standard_normal((4, 5))"
   ]
  },
  {
   "cell_type": "code",
   "execution_count": null,
   "id": "adf84618a80d6169",
   "metadata": {},
   "outputs": [],
   "source": [
    "np.random.seed(101)\n",
    "np.random.normal(10.0, 1.0, 10)"
   ]
  },
  {
   "cell_type": "code",
   "execution_count": null,
   "id": "f9f101e73bc231e8",
   "metadata": {
    "slideshow": {
     "slide_type": "subslide"
    }
   },
   "outputs": [],
   "source": [
    "np.random.normal(0.0, 1.0, (4, 5))"
   ]
  },
  {
   "cell_type": "code",
   "execution_count": null,
   "id": "c4ca343f25a9d4de",
   "metadata": {},
   "outputs": [],
   "source": [
    "np.random.normal(10.0, 0.2, (2, 5))"
   ]
  },
  {
   "cell_type": "markdown",
   "id": "e97b3bf02e5623bb",
   "metadata": {
    "slideshow": {
     "slide_type": "subslide"
    }
   },
   "source": [
    "#### Multivariate Normalverteilung\n"
   ]
  },
  {
   "cell_type": "code",
   "execution_count": null,
   "id": "13f1d6b125e6d77d",
   "metadata": {},
   "outputs": [],
   "source": [
    "means = np.array([0.0, 2.0, 1.0])\n",
    "cov = np.array([[2.0, -1.0, 0.0],\n",
    "                [-1.0, 2.0, -1.0],\n",
    "                [0.0, -1.0, 2.0]])\n",
    "np.random.multivariate_normal(means, cov, (3,))"
   ]
  },
  {
   "cell_type": "markdown",
   "id": "5803a163eb87ecd9",
   "metadata": {
    "slideshow": {
     "slide_type": "subslide"
    }
   },
   "source": [
    "#### Andere Verteilungen"
   ]
  },
  {
   "cell_type": "code",
   "execution_count": null,
   "id": "e212db5e4de15862",
   "metadata": {},
   "outputs": [],
   "source": [
    "np.random.binomial(10, 0.2, 88)"
   ]
  },
  {
   "cell_type": "code",
   "execution_count": null,
   "id": "19c637d7536c4303",
   "metadata": {},
   "outputs": [],
   "source": [
    "np.random.multinomial(20, [1/6.0] * 6, 10)"
   ]
  },
  {
   "cell_type": "markdown",
   "id": "391f58e7c10c1687",
   "metadata": {},
   "source": [
    "\n",
    "Die\n",
    "[Dokumentation](https://docs.scipy.org/doc/numpy/reference/random/generator.html)\n",
    "enthält eine Liste aller Verteilungen und ihrer Parameter."
   ]
  },
  {
   "cell_type": "markdown",
   "id": "b25732831ee0a6ca",
   "metadata": {
    "slideshow": {
     "slide_type": "subslide"
    }
   },
   "source": [
    "## Mini-Workshop\n",
    "\n",
    "- Notebook `ws_110_numpy`\n",
    "- Abschnitt \"Erzeugen von NumPy Arrays\"\n"
   ]
  },
  {
   "cell_type": "markdown",
   "id": "7bf6a4f0f32e7c06",
   "metadata": {
    "slideshow": {
     "slide_type": "slide"
    }
   },
   "source": [
    "## Exkurs: Lösen von Gleichungssystemen\n",
    "\n",
    "Wie können wir das folgende Gleichungssystem mit NumPy darstellen und lösen:\n",
    "\n",
    "$$\n",
    "2x_0 + x_1 + x_2 = 4\\\\\n",
    "x_0 + 3x_1 + 2x_2 = 5\\\\\n",
    "x_0 = 6\n",
    "$$"
   ]
  },
  {
   "cell_type": "code",
   "execution_count": null,
   "id": "55af381b1b931969",
   "metadata": {
    "slideshow": {
     "slide_type": "subslide"
    }
   },
   "outputs": [],
   "source": [
    "a = np.array([[2., 1., 1.],\n",
    "              [1., 3., 2.],\n",
    "              [1., 0., 0.]])\n",
    "b = np.array([4., 5., 6.])"
   ]
  },
  {
   "cell_type": "code",
   "execution_count": null,
   "id": "118fc0333eb8954c",
   "metadata": {},
   "outputs": [],
   "source": [
    "x = np.linalg.solve(a, b)\n",
    "x"
   ]
  },
  {
   "cell_type": "code",
   "execution_count": null,
   "id": "a27cc8295d30bcf5",
   "metadata": {
    "slideshow": {
     "slide_type": "subslide"
    }
   },
   "outputs": [],
   "source": [
    "# Test:\n",
    "a @ x, b"
   ]
  },
  {
   "cell_type": "markdown",
   "id": "4623d960fb90fd97",
   "metadata": {},
   "source": [
    "\n",
    "SciPy bietet spezielle Lösungsverfahren wie LU-Faktorisierung,\n",
    "Cholesky-Faktorisierung, etc. an."
   ]
  },
  {
   "cell_type": "code",
   "execution_count": null,
   "id": "d9a04b03e32be673",
   "metadata": {
    "slideshow": {
     "slide_type": "-"
    }
   },
   "outputs": [],
   "source": [
    "import scipy.linalg as linalg\n",
    "lu = linalg.lu_factor(a)"
   ]
  },
  {
   "cell_type": "code",
   "execution_count": null,
   "id": "980426d25e5838fd",
   "metadata": {},
   "outputs": [],
   "source": [
    "lu"
   ]
  },
  {
   "cell_type": "code",
   "execution_count": null,
   "id": "4a928fbd542e7e6c",
   "metadata": {
    "slideshow": {
     "slide_type": "subslide"
    }
   },
   "outputs": [],
   "source": [
    "x = linalg.lu_solve(lu, b)"
   ]
  },
  {
   "cell_type": "code",
   "execution_count": null,
   "id": "63e6ceb28ad474fa",
   "metadata": {},
   "outputs": [],
   "source": [
    "x"
   ]
  },
  {
   "cell_type": "code",
   "execution_count": null,
   "id": "adeab22043e630ce",
   "metadata": {},
   "outputs": [],
   "source": [
    "a @ x"
   ]
  },
  {
   "cell_type": "code",
   "execution_count": null,
   "id": "1e00df7ff4ae49f5",
   "metadata": {
    "slideshow": {
     "slide_type": "subslide"
    }
   },
   "outputs": [],
   "source": [
    "# Hermite'sche Matrix, positiv definit\n",
    "a = np.array([[10., -1., 2., 0.],\n",
    "             [-1., 11., -1., 3.],\n",
    "             [2., -1., 10., -1.],\n",
    "             [0., 3., -1., 8.]])\n",
    "b= np.array([6., 25., -11., 15.])"
   ]
  },
  {
   "cell_type": "code",
   "execution_count": null,
   "id": "525b7f4e5a46a6f1",
   "metadata": {
    "slideshow": {
     "slide_type": "subslide"
    }
   },
   "outputs": [],
   "source": [
    "cholesky = linalg.cholesky(a)"
   ]
  },
  {
   "cell_type": "code",
   "execution_count": null,
   "id": "206656fb44940018",
   "metadata": {},
   "outputs": [],
   "source": [
    "cholesky"
   ]
  },
  {
   "cell_type": "code",
   "execution_count": null,
   "id": "bc78cd669877af69",
   "metadata": {
    "slideshow": {
     "slide_type": "subslide"
    }
   },
   "outputs": [],
   "source": [
    "cholesky.T.conj() @ cholesky"
   ]
  },
  {
   "cell_type": "code",
   "execution_count": null,
   "id": "8956aff11f9ba45b",
   "metadata": {
    "slideshow": {
     "slide_type": "subslide"
    }
   },
   "outputs": [],
   "source": [
    "y = np.linalg.solve(cholesky.T.conj(), b)"
   ]
  },
  {
   "cell_type": "code",
   "execution_count": null,
   "id": "19c441ba5732fa87",
   "metadata": {},
   "outputs": [],
   "source": [
    "x = np.linalg.solve(cholesky, y)"
   ]
  },
  {
   "cell_type": "code",
   "execution_count": null,
   "id": "d739b6f5f23b9183",
   "metadata": {},
   "outputs": [],
   "source": [
    "x"
   ]
  },
  {
   "cell_type": "code",
   "execution_count": null,
   "id": "c26c34d5d866f3b7",
   "metadata": {},
   "outputs": [],
   "source": [
    "a @ x"
   ]
  },
  {
   "cell_type": "markdown",
   "id": "69b2d8bd2a168468",
   "metadata": {
    "slideshow": {
     "slide_type": "slide"
    }
   },
   "source": [
    "## Mini-Workshop\n",
    "\n",
    "- Notebook `ws_110_numpy`\n",
    "- Abschnitt \"Gleichungssysteme\""
   ]
  },
  {
   "cell_type": "markdown",
   "id": "afd26243eaec2c6c",
   "metadata": {
    "slideshow": {
     "slide_type": "slide"
    }
   },
   "source": [
    "## Attribute von Arrays"
   ]
  },
  {
   "cell_type": "code",
   "execution_count": null,
   "id": "cbb98d9c8235d4bf",
   "metadata": {},
   "outputs": [],
   "source": [
    "int_array = np.arange(36)\n",
    "float_array = np.arange(36.0)"
   ]
  },
  {
   "cell_type": "code",
   "execution_count": null,
   "id": "3e2a3241a1c2dfe3",
   "metadata": {},
   "outputs": [],
   "source": [
    "int_array.dtype"
   ]
  },
  {
   "cell_type": "code",
   "execution_count": null,
   "id": "9b0b2a6b0af1afe5",
   "metadata": {},
   "outputs": [],
   "source": [
    "float_array.dtype"
   ]
  },
  {
   "cell_type": "code",
   "execution_count": null,
   "id": "2110e5a130b2dc39",
   "metadata": {
    "slideshow": {
     "slide_type": "subslide"
    }
   },
   "outputs": [],
   "source": [
    "int_array.shape"
   ]
  },
  {
   "cell_type": "code",
   "execution_count": null,
   "id": "359463662e4cd958",
   "metadata": {},
   "outputs": [],
   "source": [
    "int_array.size"
   ]
  },
  {
   "cell_type": "code",
   "execution_count": null,
   "id": "f1ab61a876e6f9dc",
   "metadata": {},
   "outputs": [],
   "source": [
    "int_array.itemsize"
   ]
  },
  {
   "cell_type": "code",
   "execution_count": null,
   "id": "a35107a448b37023",
   "metadata": {},
   "outputs": [],
   "source": [
    "float_array.itemsize"
   ]
  },
  {
   "cell_type": "code",
   "execution_count": null,
   "id": "a2c418947666f71b",
   "metadata": {
    "slideshow": {
     "slide_type": "subslide"
    }
   },
   "outputs": [],
   "source": [
    "np.info(int_array)"
   ]
  },
  {
   "cell_type": "code",
   "execution_count": null,
   "id": "6fc6139ef0fadfb8",
   "metadata": {
    "slideshow": {
     "slide_type": "subslide"
    }
   },
   "outputs": [],
   "source": [
    "np.info(float_array)"
   ]
  },
  {
   "cell_type": "markdown",
   "id": "9e5f6feabdceffa9",
   "metadata": {
    "slideshow": {
     "slide_type": "slide"
    }
   },
   "source": [
    "## Ändern von Shape und Größe"
   ]
  },
  {
   "cell_type": "code",
   "execution_count": null,
   "id": "8bfd59edac35ab65",
   "metadata": {},
   "outputs": [],
   "source": [
    "float_array.shape"
   ]
  },
  {
   "cell_type": "code",
   "execution_count": null,
   "id": "a80b557a2548a1f4",
   "metadata": {},
   "outputs": [],
   "source": [
    "float_matrix = float_array.reshape((6, 6))"
   ]
  },
  {
   "cell_type": "code",
   "execution_count": null,
   "id": "18ee53b7d479c98b",
   "metadata": {},
   "outputs": [],
   "source": [
    "float_matrix"
   ]
  },
  {
   "cell_type": "code",
   "execution_count": null,
   "id": "43766c12346eec8c",
   "metadata": {},
   "outputs": [],
   "source": [
    "float_matrix.shape"
   ]
  },
  {
   "cell_type": "code",
   "execution_count": null,
   "id": "dcfe86c3ebc9c293",
   "metadata": {
    "slideshow": {
     "slide_type": "subslide"
    }
   },
   "outputs": [],
   "source": [
    "float_array.shape"
   ]
  },
  {
   "cell_type": "code",
   "execution_count": null,
   "id": "2524d668048e4f37",
   "metadata": {},
   "outputs": [],
   "source": [
    "float_array.reshape(3, 12)"
   ]
  },
  {
   "cell_type": "code",
   "execution_count": null,
   "id": "600939a908c378fb",
   "metadata": {},
   "outputs": [],
   "source": [
    "# Fehler\n",
    "# float_array.reshape(4, 8)"
   ]
  },
  {
   "cell_type": "code",
   "execution_count": null,
   "id": "b3a8156489d33ecd",
   "metadata": {
    "slideshow": {
     "slide_type": "subslide"
    }
   },
   "outputs": [],
   "source": [
    "float_array.reshape((4, 9), order='F')"
   ]
  },
  {
   "cell_type": "code",
   "execution_count": null,
   "id": "ba5587e9c7bd239c",
   "metadata": {},
   "outputs": [],
   "source": [
    "float_array.reshape((9, 4)).T"
   ]
  },
  {
   "cell_type": "code",
   "execution_count": null,
   "id": "9e179113cb849922",
   "metadata": {
    "slideshow": {
     "slide_type": "subslide"
    }
   },
   "outputs": [],
   "source": [
    "np.resize(float_array, (4, 8))"
   ]
  },
  {
   "cell_type": "code",
   "execution_count": null,
   "id": "d80228a5aea94a39",
   "metadata": {},
   "outputs": [],
   "source": [
    "float_array.shape"
   ]
  },
  {
   "cell_type": "code",
   "execution_count": null,
   "id": "f4cfa4dbbbe9315a",
   "metadata": {
    "slideshow": {
     "slide_type": "subslide"
    }
   },
   "outputs": [],
   "source": [
    "np.resize(float_array, (8, 10))"
   ]
  },
  {
   "cell_type": "markdown",
   "id": "a54387bffb5b52d4",
   "metadata": {
    "slideshow": {
     "slide_type": "subslide"
    }
   },
   "source": [
    "## Mini-Workshop\n",
    "\n",
    "- Notebook `050x-NumPy`\n",
    "- Abschnitt \"Erzeugen von NumPy Arrays 2\"\n"
   ]
  },
  {
   "cell_type": "markdown",
   "id": "ae4707ecb6c62248",
   "metadata": {
    "slideshow": {
     "slide_type": "slide"
    }
   },
   "source": [
    "## Broadcasting von Operationen\n",
    "\n",
    "Viele Operationen mit Skalaren werden Elementweise auf NumPy Arrays angewendet:"
   ]
  },
  {
   "cell_type": "code",
   "execution_count": null,
   "id": "306c12658d7f9b78",
   "metadata": {},
   "outputs": [],
   "source": [
    "arr = np.arange(8)\n",
    "arr"
   ]
  },
  {
   "cell_type": "code",
   "execution_count": null,
   "id": "20f0fa50d502e8b3",
   "metadata": {},
   "outputs": [],
   "source": [
    "arr + 5"
   ]
  },
  {
   "cell_type": "code",
   "execution_count": null,
   "id": "596cb4f9cbb84917",
   "metadata": {},
   "outputs": [],
   "source": [
    "arr * 2"
   ]
  },
  {
   "cell_type": "code",
   "execution_count": null,
   "id": "e31938dc50cbbdc7",
   "metadata": {
    "slideshow": {
     "slide_type": "subslide"
    }
   },
   "outputs": [],
   "source": [
    "arr ** 2"
   ]
  },
  {
   "cell_type": "code",
   "execution_count": null,
   "id": "d8b8fd52a89173f6",
   "metadata": {},
   "outputs": [],
   "source": [
    "2 ** arr"
   ]
  },
  {
   "cell_type": "code",
   "execution_count": null,
   "id": "6b8f36f9d9236e28",
   "metadata": {},
   "outputs": [],
   "source": [
    "arr > 5"
   ]
  },
  {
   "cell_type": "markdown",
   "id": "1d2efd70560a672b",
   "metadata": {
    "slideshow": {
     "slide_type": "slide"
    }
   },
   "source": [
    "## Minimum, Maximum, Summe, ..."
   ]
  },
  {
   "cell_type": "code",
   "execution_count": null,
   "id": "263d25e1b19dfcd0",
   "metadata": {},
   "outputs": [],
   "source": [
    "np.random.seed(101)\n",
    "vec = np.random.rand(10)\n",
    "vec"
   ]
  },
  {
   "cell_type": "code",
   "execution_count": null,
   "id": "762790a3b826cf49",
   "metadata": {},
   "outputs": [],
   "source": [
    "vec.max()"
   ]
  },
  {
   "cell_type": "code",
   "execution_count": null,
   "id": "397469ad0d3f2ed9",
   "metadata": {},
   "outputs": [],
   "source": [
    "vec.argmax()"
   ]
  },
  {
   "cell_type": "code",
   "execution_count": null,
   "id": "655ede7721b0c990",
   "metadata": {
    "slideshow": {
     "slide_type": "subslide"
    }
   },
   "outputs": [],
   "source": [
    "vec.min()"
   ]
  },
  {
   "cell_type": "code",
   "execution_count": null,
   "id": "1e73572f986dd0dd",
   "metadata": {},
   "outputs": [],
   "source": [
    "vec.argmin()"
   ]
  },
  {
   "cell_type": "code",
   "execution_count": null,
   "id": "945d777266461d58",
   "metadata": {
    "slideshow": {
     "slide_type": "subslide"
    }
   },
   "outputs": [],
   "source": [
    "np.random.seed(101)\n",
    "arr = np.random.rand(2, 5)\n",
    "arr"
   ]
  },
  {
   "cell_type": "code",
   "execution_count": null,
   "id": "9d21d633ac133643",
   "metadata": {},
   "outputs": [],
   "source": [
    "arr.max()"
   ]
  },
  {
   "cell_type": "code",
   "execution_count": null,
   "id": "be47e420ab8b2381",
   "metadata": {},
   "outputs": [],
   "source": [
    "arr.argmax()"
   ]
  },
  {
   "cell_type": "code",
   "execution_count": null,
   "id": "b98affc9b0d63e35",
   "metadata": {
    "slideshow": {
     "slide_type": "subslide"
    }
   },
   "outputs": [],
   "source": [
    "arr.min()"
   ]
  },
  {
   "cell_type": "code",
   "execution_count": null,
   "id": "9a537fe9620111c9",
   "metadata": {},
   "outputs": [],
   "source": [
    "arr.argmin()"
   ]
  },
  {
   "cell_type": "markdown",
   "id": "9a77f92da6b1fd52",
   "metadata": {
    "slideshow": {
     "slide_type": "subslide"
    }
   },
   "source": [
    "## Mini-Workshop\n",
    "\n",
    "- Notebook `050x-NumPy`\n",
    "- Abschnitt \"Extrema\"\n"
   ]
  },
  {
   "cell_type": "code",
   "execution_count": null,
   "id": "bcd9109112557bdc",
   "metadata": {
    "slideshow": {
     "slide_type": "subslide"
    }
   },
   "outputs": [],
   "source": [
    "arr.reshape(arr.size)[arr.argmin()]"
   ]
  },
  {
   "cell_type": "code",
   "execution_count": null,
   "id": "abd7cfbdbac211de",
   "metadata": {},
   "outputs": [],
   "source": [
    "arr[np.unravel_index(arr.argmin(), arr.shape)]"
   ]
  },
  {
   "cell_type": "code",
   "execution_count": null,
   "id": "990d489294efc86d",
   "metadata": {
    "slideshow": {
     "slide_type": "subslide"
    }
   },
   "outputs": [],
   "source": [
    "arr"
   ]
  },
  {
   "cell_type": "code",
   "execution_count": null,
   "id": "1758288fa308c69e",
   "metadata": {},
   "outputs": [],
   "source": [
    "arr.sum()"
   ]
  },
  {
   "cell_type": "code",
   "execution_count": null,
   "id": "8fd128be5880a39b",
   "metadata": {},
   "outputs": [],
   "source": [
    "arr.sum(axis=0)"
   ]
  },
  {
   "cell_type": "code",
   "execution_count": null,
   "id": "bca5f972eefc5c6a",
   "metadata": {},
   "outputs": [],
   "source": [
    "arr.sum(axis=1)"
   ]
  },
  {
   "cell_type": "code",
   "execution_count": null,
   "id": "e99f2e1e3d3c3200",
   "metadata": {
    "slideshow": {
     "slide_type": "subslide"
    }
   },
   "outputs": [],
   "source": [
    "arr.mean()"
   ]
  },
  {
   "cell_type": "code",
   "execution_count": null,
   "id": "e4e3c4835e0a4a72",
   "metadata": {},
   "outputs": [],
   "source": [
    "arr.mean(axis=0)"
   ]
  },
  {
   "cell_type": "code",
   "execution_count": null,
   "id": "b6d55f8073b178ab",
   "metadata": {},
   "outputs": [],
   "source": [
    "arr.mean(axis=1)"
   ]
  },
  {
   "cell_type": "markdown",
   "id": "f5a6b38dc4757d35",
   "metadata": {
    "slideshow": {
     "slide_type": "subslide"
    }
   },
   "source": [
    "## Mini-Workshop\n",
    "\n",
    "- Notebook `050x-NumPy`\n",
    "- Abschnitt \"Mittelwert\"\n"
   ]
  },
  {
   "cell_type": "markdown",
   "id": "1aa685ca9819f90b",
   "metadata": {
    "slideshow": {
     "slide_type": "slide"
    }
   },
   "source": [
    "## Exkurs: Einfache Monte Carlo Simulation\n",
    "\n",
    "Mit der folgenden Monte Carlo Simulation kann eine Approximation von $\\pi$ berechnet werden.\n",
    "\n",
    "Die Grundidee ist zu berechnen, welcher Anteil an zufällig gezogenen Paaren aus Zahlen $(x, y)$, mit $x, y \\sim SV[0, 1)$  (d.h., unabhängig und stetig auf $[0, 1)$ verteilt) eine $\\ell^2$ Norm kleiner als 1 hat. Diese Zahl ist eine\n",
    "Approximation von $\\pi/4$.\n",
    "\n",
    "Die folgende naive Implementiertung is in (fast) reinem Python geschrieben und verwendet NumPy nur zur Berechnung der Zufallszahlen."
   ]
  },
  {
   "cell_type": "code",
   "execution_count": null,
   "id": "5c8265ecc4614fde",
   "metadata": {
    "slideshow": {
     "slide_type": "subslide"
    }
   },
   "outputs": [],
   "source": [
    "def mc_pi_1(n):\n",
    "    num_in_circle = 0\n",
    "    for i in range(n):\n",
    "        xy = np.random.random(2)\n",
    "        if (xy ** 2).sum() < 1:\n",
    "            num_in_circle += 1\n",
    "    return num_in_circle * 4 / n"
   ]
  },
  {
   "cell_type": "code",
   "execution_count": null,
   "id": "5f8477f4600f364d",
   "metadata": {
    "lines_to_next_cell": 1,
    "slideshow": {
     "slide_type": "subslide"
    }
   },
   "outputs": [],
   "source": [
    "def test(mc_pi):\n",
    "    np.random.seed(64)\n",
    "    for n in [100, 10_000, 100_000, 1_000_000]:\n",
    "        %time print(f\"𝜋 ≈ {mc_pi(n)} ({n} iterations).\")\n",
    "        \"ignore me...\""
   ]
  },
  {
   "cell_type": "code",
   "execution_count": null,
   "id": "8f79185af2313d0c",
   "metadata": {},
   "outputs": [],
   "source": [
    "test(mc_pi_1)"
   ]
  },
  {
   "cell_type": "markdown",
   "id": "0d3d00ee5a0d6366",
   "metadata": {},
   "source": [
    "Durch Just-in-Time Übersetzung mit Numba kann die Performance erheblich gesteigert werden:"
   ]
  },
  {
   "cell_type": "code",
   "execution_count": null,
   "id": "736d9b3fcd5faa19",
   "metadata": {},
   "outputs": [],
   "source": [
    "import numba\n",
    "mc_pi_1_nb = numba.jit(mc_pi_1)"
   ]
  },
  {
   "cell_type": "code",
   "execution_count": null,
   "id": "e9aa7ad477e3527b",
   "metadata": {},
   "outputs": [],
   "source": [
    "test(mc_pi_1_nb)"
   ]
  },
  {
   "cell_type": "markdown",
   "id": "ec71492e8ab76806",
   "metadata": {},
   "source": [
    "Die folgende Implementierung verwendet die Vektorisierungs-Features von NumPy:"
   ]
  },
  {
   "cell_type": "code",
   "execution_count": null,
   "id": "98c62ec302e27035",
   "metadata": {
    "slideshow": {
     "slide_type": "subslide"
    }
   },
   "outputs": [],
   "source": [
    "def mc_pi_2(n):\n",
    "    x = np.random.random(n)\n",
    "    y = np.random.random(n)\n",
    "    return ((x ** 2 + y ** 2) < 1).sum() * 4 / n"
   ]
  },
  {
   "cell_type": "code",
   "execution_count": null,
   "id": "77bd98a77ec755bf",
   "metadata": {
    "slideshow": {
     "slide_type": "subslide"
    }
   },
   "outputs": [],
   "source": [
    "test(mc_pi_2)"
   ]
  },
  {
   "cell_type": "code",
   "execution_count": null,
   "id": "69aa33aff0bc88e0",
   "metadata": {},
   "outputs": [],
   "source": [
    "# %time mc_pi_2(100_000_000)"
   ]
  },
  {
   "cell_type": "markdown",
   "id": "65e05e18c41760a3",
   "metadata": {},
   "source": [
    "Auch bei dieser Version können mit Numba Performance-Steigerungen erzielt werden, aber in deutlich geringerem Ausmaß:"
   ]
  },
  {
   "cell_type": "code",
   "execution_count": null,
   "id": "9f9dc69dc502a066",
   "metadata": {},
   "outputs": [],
   "source": [
    "mc_pi_2_nb = numba.jit(mc_pi_2)"
   ]
  },
  {
   "cell_type": "code",
   "execution_count": null,
   "id": "8f630a0cf260cf51",
   "metadata": {},
   "outputs": [],
   "source": [
    "test(mc_pi_2_nb)"
   ]
  },
  {
   "cell_type": "code",
   "execution_count": null,
   "id": "73586c7fdf07e621",
   "metadata": {},
   "outputs": [],
   "source": [
    "# %time mc_pi_2_nb(100_000_000)"
   ]
  },
  {
   "cell_type": "markdown",
   "id": "77b694d6cfe010b2",
   "metadata": {
    "slideshow": {
     "slide_type": "subslide"
    }
   },
   "source": [
    "## Mini-Workshop\n",
    "\n",
    "- Notebook `050x-NumPy`\n",
    "- Abschnitt \"Roulette\"\n"
   ]
  },
  {
   "cell_type": "markdown",
   "id": "46e7a74003561947",
   "metadata": {
    "slideshow": {
     "slide_type": "slide"
    }
   },
   "source": [
    "## Indizieren von NumPy Arrays"
   ]
  },
  {
   "cell_type": "code",
   "execution_count": null,
   "id": "59b2f6a95dfb42d0",
   "metadata": {},
   "outputs": [],
   "source": [
    "vec = np.arange(10)"
   ]
  },
  {
   "cell_type": "code",
   "execution_count": null,
   "id": "ea2d3856483a62c9",
   "metadata": {},
   "outputs": [],
   "source": [
    "vec"
   ]
  },
  {
   "cell_type": "code",
   "execution_count": null,
   "id": "0bb67215bc32b798",
   "metadata": {},
   "outputs": [],
   "source": [
    "vec[3]"
   ]
  },
  {
   "cell_type": "code",
   "execution_count": null,
   "id": "320475bfbb21c495",
   "metadata": {
    "slideshow": {
     "slide_type": "subslide"
    }
   },
   "outputs": [],
   "source": [
    "vec[3:8]"
   ]
  },
  {
   "cell_type": "code",
   "execution_count": null,
   "id": "58d10395bafa21f5",
   "metadata": {},
   "outputs": [],
   "source": [
    "vec[-1]"
   ]
  },
  {
   "cell_type": "code",
   "execution_count": null,
   "id": "5a944bc2468aab1c",
   "metadata": {
    "slideshow": {
     "slide_type": "subslide"
    }
   },
   "outputs": [],
   "source": [
    "arr = np.arange(24).reshape(4, 6)"
   ]
  },
  {
   "cell_type": "code",
   "execution_count": null,
   "id": "4270be19efe1c674",
   "metadata": {},
   "outputs": [],
   "source": [
    "arr"
   ]
  },
  {
   "cell_type": "code",
   "execution_count": null,
   "id": "6d83111f2c587ec5",
   "metadata": {},
   "outputs": [],
   "source": [
    "arr[1]"
   ]
  },
  {
   "cell_type": "code",
   "execution_count": null,
   "id": "ac2b404413ffa93e",
   "metadata": {},
   "outputs": [],
   "source": [
    "arr[1][2]"
   ]
  },
  {
   "cell_type": "code",
   "execution_count": null,
   "id": "00992e75721c586d",
   "metadata": {},
   "outputs": [],
   "source": [
    "arr[1, 2]"
   ]
  },
  {
   "cell_type": "code",
   "execution_count": null,
   "id": "7b38d6dfb25667ec",
   "metadata": {
    "slideshow": {
     "slide_type": "subslide"
    }
   },
   "outputs": [],
   "source": [
    "arr"
   ]
  },
  {
   "cell_type": "code",
   "execution_count": null,
   "id": "f08d68a9c63b8063",
   "metadata": {},
   "outputs": [],
   "source": [
    "arr[1:3]"
   ]
  },
  {
   "cell_type": "code",
   "execution_count": null,
   "id": "0521712d9ef85d3f",
   "metadata": {},
   "outputs": [],
   "source": [
    "arr[1:3][2:4]"
   ]
  },
  {
   "cell_type": "code",
   "execution_count": null,
   "id": "247c4af77817cf31",
   "metadata": {},
   "outputs": [],
   "source": [
    "arr[1:3, 2:4]"
   ]
  },
  {
   "cell_type": "code",
   "execution_count": null,
   "id": "c2fd867d5128fd1b",
   "metadata": {
    "slideshow": {
     "slide_type": "subslide"
    }
   },
   "outputs": [],
   "source": [
    "arr[:, 2:4]"
   ]
  },
  {
   "cell_type": "code",
   "execution_count": null,
   "id": "7ceaa0f48d2b9225",
   "metadata": {},
   "outputs": [],
   "source": [
    "# Vorsicht!\n",
    "arr[: 2:4]"
   ]
  },
  {
   "cell_type": "code",
   "execution_count": null,
   "id": "761d31c4a2fa6d21",
   "metadata": {},
   "outputs": [],
   "source": [
    "arr[:, 1:6:2]"
   ]
  },
  {
   "cell_type": "code",
   "execution_count": null,
   "id": "2642976c0f6ecc88",
   "metadata": {},
   "outputs": [],
   "source": [
    "arr"
   ]
  },
  {
   "cell_type": "code",
   "execution_count": null,
   "id": "462523466a2636aa",
   "metadata": {},
   "outputs": [],
   "source": [
    "arr[[1, 3]]"
   ]
  },
  {
   "cell_type": "markdown",
   "id": "0b46ce78e09b18a2",
   "metadata": {
    "slideshow": {
     "slide_type": "slide"
    }
   },
   "source": [
    "## Broadcasting auf Slices\n",
    "\n",
    "In NumPy Arrays werden Operationen oftmals auf Elemente (oder Unterarrays) \"gebroadcastet\":"
   ]
  },
  {
   "cell_type": "code",
   "execution_count": null,
   "id": "c2714ba4a1c59ca8",
   "metadata": {},
   "outputs": [],
   "source": [
    "arr = np.ones((3, 3))"
   ]
  },
  {
   "cell_type": "code",
   "execution_count": null,
   "id": "68ca19c3af649561",
   "metadata": {},
   "outputs": [],
   "source": [
    "arr[1:, 1:] = 2.0"
   ]
  },
  {
   "cell_type": "code",
   "execution_count": null,
   "id": "7ec95c0eb343aa54",
   "metadata": {},
   "outputs": [],
   "source": [
    "arr"
   ]
  },
  {
   "cell_type": "code",
   "execution_count": null,
   "id": "a374bccf86471da8",
   "metadata": {
    "slideshow": {
     "slide_type": "subslide"
    }
   },
   "outputs": [],
   "source": [
    "lst = [1, 2, 3]\n",
    "vec = np.array([1, 2, 3])"
   ]
  },
  {
   "cell_type": "code",
   "execution_count": null,
   "id": "fe9897bb24c7478e",
   "metadata": {},
   "outputs": [],
   "source": [
    "lst[:] = [99]"
   ]
  },
  {
   "cell_type": "code",
   "execution_count": null,
   "id": "c0924b88cf34fd76",
   "metadata": {},
   "outputs": [],
   "source": [
    "vec[:] = [99]"
   ]
  },
  {
   "cell_type": "code",
   "execution_count": null,
   "id": "0b4aef08eb1f008c",
   "metadata": {},
   "outputs": [],
   "source": [
    "lst"
   ]
  },
  {
   "cell_type": "code",
   "execution_count": null,
   "id": "fb586599053d0704",
   "metadata": {},
   "outputs": [],
   "source": [
    "vec"
   ]
  },
  {
   "cell_type": "code",
   "execution_count": null,
   "id": "bbabf6e25b9dba4b",
   "metadata": {},
   "outputs": [],
   "source": [
    "vec[:] = 11\n",
    "vec"
   ]
  },
  {
   "cell_type": "markdown",
   "id": "3808d41a87c69a8d",
   "metadata": {
    "slideshow": {
     "slide_type": "subslide"
    }
   },
   "source": [
    "### Vorsicht beim `lst[:]` Idiom! "
   ]
  },
  {
   "cell_type": "code",
   "execution_count": null,
   "id": "f29264aba79c622f",
   "metadata": {},
   "outputs": [],
   "source": [
    "lst1 = list(range(10))\n",
    "lst2 = lst1[:]\n",
    "vec1 = np.arange(10)\n",
    "vec2 = vec1[:]"
   ]
  },
  {
   "cell_type": "code",
   "execution_count": null,
   "id": "cafb37f4dd920fa6",
   "metadata": {},
   "outputs": [],
   "source": [
    "lst1[:] = [22] * 10\n",
    "lst1"
   ]
  },
  {
   "cell_type": "code",
   "execution_count": null,
   "id": "3b66148a7b49a877",
   "metadata": {},
   "outputs": [],
   "source": [
    "lst2"
   ]
  },
  {
   "cell_type": "code",
   "execution_count": null,
   "id": "373c73180302b995",
   "metadata": {
    "slideshow": {
     "slide_type": "subslide"
    }
   },
   "outputs": [],
   "source": [
    "vec1[:] = 22\n",
    "vec1"
   ]
  },
  {
   "cell_type": "code",
   "execution_count": null,
   "id": "36d10d70bb08ff15",
   "metadata": {},
   "outputs": [],
   "source": [
    "vec2"
   ]
  },
  {
   "cell_type": "code",
   "execution_count": null,
   "id": "17819f718af29f19",
   "metadata": {
    "slideshow": {
     "slide_type": "subslide"
    }
   },
   "outputs": [],
   "source": [
    "vec1 = np.arange(10)\n",
    "vec2 = vec1.copy()"
   ]
  },
  {
   "cell_type": "code",
   "execution_count": null,
   "id": "b7d552f3359a598f",
   "metadata": {},
   "outputs": [],
   "source": [
    "vec1[:] = 22\n",
    "vec1"
   ]
  },
  {
   "cell_type": "code",
   "execution_count": null,
   "id": "fd52cd4360472979",
   "metadata": {},
   "outputs": [],
   "source": [
    "vec2"
   ]
  },
  {
   "cell_type": "markdown",
   "id": "dab880def915e91e",
   "metadata": {
    "slideshow": {
     "slide_type": "slide"
    }
   },
   "source": [
    "## Bedingte Selektion\n",
    "\n",
    "NumPy Arrays können als Index auch ein NumPy Array von Boole'schen Werten erhalten, das den gleichen Shape hat wie das Array.\n",
    "\n",
    "Dadurch werden die Elemente selektiert, an deren Position der Boole'sche Vektor den Wert `True` hat und als Vektor zurückgegeben."
   ]
  },
  {
   "cell_type": "code",
   "execution_count": null,
   "id": "fbccdc594a6040c3",
   "metadata": {},
   "outputs": [],
   "source": [
    "vec = np.arange(8)\n",
    "bool_vec = (vec % 2 == 0)"
   ]
  },
  {
   "cell_type": "code",
   "execution_count": null,
   "id": "87822058c490db80",
   "metadata": {},
   "outputs": [],
   "source": [
    "vec[bool_vec]"
   ]
  },
  {
   "cell_type": "code",
   "execution_count": null,
   "id": "6725295152ef2261",
   "metadata": {
    "slideshow": {
     "slide_type": "subslide"
    }
   },
   "outputs": [],
   "source": [
    "arr = np.arange(8).reshape(2, 4)\n",
    "bool_arr = (arr % 2 == 0)\n",
    "bool_arr"
   ]
  },
  {
   "cell_type": "code",
   "execution_count": null,
   "id": "f9d6d2f471796ab7",
   "metadata": {},
   "outputs": [],
   "source": [
    "arr[bool_arr]"
   ]
  },
  {
   "cell_type": "code",
   "execution_count": null,
   "id": "85e4f42d8235dc89",
   "metadata": {},
   "outputs": [],
   "source": [
    "# Fehler!\n",
    "# arr[bool_vec]"
   ]
  },
  {
   "cell_type": "code",
   "execution_count": null,
   "id": "ea2a617d6e978238",
   "metadata": {
    "slideshow": {
     "slide_type": "subslide"
    }
   },
   "outputs": [],
   "source": [
    "vec[vec % 2 > 0]"
   ]
  },
  {
   "cell_type": "code",
   "execution_count": null,
   "id": "9f6f23e4c8551411",
   "metadata": {},
   "outputs": [],
   "source": [
    "arr[arr < 5]"
   ]
  },
  {
   "cell_type": "markdown",
   "id": "a2dfdca299b0344b",
   "metadata": {
    "slideshow": {
     "slide_type": "subslide"
    }
   },
   "source": [
    "### Boole'sche Operationen auf NumPy Arrays"
   ]
  },
  {
   "cell_type": "code",
   "execution_count": null,
   "id": "9cf0d4041971da6e",
   "metadata": {},
   "outputs": [],
   "source": [
    "bool_vec"
   ]
  },
  {
   "cell_type": "code",
   "execution_count": null,
   "id": "528d460c11f286cd",
   "metadata": {},
   "outputs": [],
   "source": [
    "neg_vec = np.logical_not(bool_vec)"
   ]
  },
  {
   "cell_type": "code",
   "execution_count": null,
   "id": "713dd374ebe81eb1",
   "metadata": {},
   "outputs": [],
   "source": [
    "bool_vec & neg_vec"
   ]
  },
  {
   "cell_type": "code",
   "execution_count": null,
   "id": "e11e2b7c8ee21caa",
   "metadata": {},
   "outputs": [],
   "source": [
    "bool_vec | neg_vec"
   ]
  },
  {
   "cell_type": "markdown",
   "id": "73a2712385711372",
   "metadata": {
    "slideshow": {
     "slide_type": "slide"
    }
   },
   "source": [
    "## Universelle NumPy Operationen\n",
    "\n",
    "NumPy bietet viele \"universelle\" Funktionen an, die auf NumPy Arrays, Listen und Zahlen angewendet werden können:"
   ]
  },
  {
   "cell_type": "code",
   "execution_count": null,
   "id": "9beab5b06274908c",
   "metadata": {},
   "outputs": [],
   "source": [
    "vec1 = np.random.randn(5)\n",
    "vec2 = np.random.randn(5)\n",
    "list1 = list(vec1)\n",
    "list2 = list(vec2)"
   ]
  },
  {
   "cell_type": "code",
   "execution_count": null,
   "id": "7b4f9fbcc9c85094",
   "metadata": {},
   "outputs": [],
   "source": [
    "vec1"
   ]
  },
  {
   "cell_type": "code",
   "execution_count": null,
   "id": "a1bc06fce30ae638",
   "metadata": {},
   "outputs": [],
   "source": [
    "list1"
   ]
  },
  {
   "cell_type": "code",
   "execution_count": null,
   "id": "5dfce73256261632",
   "metadata": {
    "slideshow": {
     "slide_type": "subslide"
    }
   },
   "outputs": [],
   "source": [
    "np.sin(vec1)"
   ]
  },
  {
   "cell_type": "code",
   "execution_count": null,
   "id": "a5712adf99b5b0e1",
   "metadata": {},
   "outputs": [],
   "source": [
    "np.sin(list1)"
   ]
  },
  {
   "cell_type": "code",
   "execution_count": null,
   "id": "dba455b6ff1e3432",
   "metadata": {},
   "outputs": [],
   "source": [
    "import math\n",
    "np.sin(math.pi)"
   ]
  },
  {
   "cell_type": "code",
   "execution_count": null,
   "id": "6fafba74583587c4",
   "metadata": {
    "slideshow": {
     "slide_type": "subslide"
    }
   },
   "outputs": [],
   "source": [
    "np.sum(vec1)"
   ]
  },
  {
   "cell_type": "code",
   "execution_count": null,
   "id": "361d6574b34458a2",
   "metadata": {},
   "outputs": [],
   "source": [
    "np.sum(list1)"
   ]
  },
  {
   "cell_type": "code",
   "execution_count": null,
   "id": "dc7eba500ce942ff",
   "metadata": {
    "slideshow": {
     "slide_type": "subslide"
    }
   },
   "outputs": [],
   "source": [
    "np.mean(vec1)"
   ]
  },
  {
   "cell_type": "code",
   "execution_count": null,
   "id": "c890c8ea57dea4f8",
   "metadata": {},
   "outputs": [],
   "source": [
    "np.median(vec1)"
   ]
  },
  {
   "cell_type": "code",
   "execution_count": null,
   "id": "2a7e02c53cec8dd9",
   "metadata": {},
   "outputs": [],
   "source": [
    "np.std(vec1)"
   ]
  },
  {
   "cell_type": "code",
   "execution_count": null,
   "id": "35fdf6916e440e63",
   "metadata": {
    "slideshow": {
     "slide_type": "subslide"
    }
   },
   "outputs": [],
   "source": [
    "np.greater(vec1, vec2)"
   ]
  },
  {
   "cell_type": "code",
   "execution_count": null,
   "id": "f4ddde6bd35e0095",
   "metadata": {},
   "outputs": [],
   "source": [
    "np.greater(list1, list2)"
   ]
  },
  {
   "cell_type": "code",
   "execution_count": null,
   "id": "5199faf1b98137c7",
   "metadata": {},
   "outputs": [],
   "source": [
    "np.greater(vec1, list2)"
   ]
  },
  {
   "cell_type": "code",
   "execution_count": null,
   "id": "788b598f440b01ed",
   "metadata": {
    "slideshow": {
     "slide_type": "-"
    }
   },
   "outputs": [],
   "source": [
    "np.maximum(vec1, vec2)"
   ]
  },
  {
   "cell_type": "code",
   "execution_count": null,
   "id": "7a8ff276a9eb950c",
   "metadata": {},
   "outputs": [],
   "source": [
    "np.maximum(list1, list2)"
   ]
  },
  {
   "cell_type": "code",
   "execution_count": null,
   "id": "d2fffe7de471650e",
   "metadata": {},
   "outputs": [],
   "source": [
    "np.maximum(list1, vec2)"
   ]
  },
  {
   "cell_type": "markdown",
   "id": "50b332c49d975787",
   "metadata": {},
   "source": [
    "Eine vollständige Liste sowie weitere Dokumentation findet man [hier](https://docs.scipy.org/doc/numpy/reference/ufuncs.html)."
   ]
  },
  {
   "cell_type": "code",
   "execution_count": null,
   "id": "6b4e03423667dbb7",
   "metadata": {},
   "outputs": [],
   "source": []
  }
 ],
 "metadata": {
  "kernelspec": {
   "display_name": "Python 3 (ipykernel)",
   "language": "python",
   "name": "python3"
  }
 },
 "nbformat": 4,
 "nbformat_minor": 5
}
