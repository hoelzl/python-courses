{
 "cells": [
  {
   "cell_type": "markdown",
   "id": "d622e37d01a32c85",
   "metadata": {
    "lang": "en",
    "lines_to_next_cell": 2,
    "slideshow": {
     "slide_type": "slide"
    }
   },
   "source": [
    "<img src=\"../../img/python-logo-no-text.svg\"\n",
    "     style=\"display:block;margin:auto;width:10%\"/>\n",
    "<br>\n",
    "<div style=\"text-align:center; font-size:200%;\">\n",
    "  <b>NumPy Basics</b>\n",
    "</div>\n",
    "<br/>\n",
    "<div style=\"text-align:center;\">Dr. Matthias Hölzl</div>\n",
    "<br/>\n",
    "<div style=\"text-align:center;\">module_600_numpy/topic_120_a3_np_basics</div>"
   ]
  },
  {
   "cell_type": "markdown",
   "id": "9ee59d74e6e9186f",
   "metadata": {
    "lang": "en",
    "slideshow": {
     "slide_type": "slide"
    }
   },
   "source": [
    "\n",
    "# NumPy Basics"
   ]
  },
  {
   "cell_type": "code",
   "execution_count": null,
   "id": "9189f60d213fe786",
   "metadata": {},
   "outputs": [],
   "source": [
    "import numpy as np"
   ]
  },
  {
   "cell_type": "code",
   "execution_count": null,
   "id": "d65f3562f4b8f041",
   "metadata": {},
   "outputs": [],
   "source": [
    "v1 = np.array([3, 2, 4])\n",
    "v2 = np.array([8, 9, 7])"
   ]
  },
  {
   "cell_type": "code",
   "execution_count": null,
   "id": "1cd1a1a4ea512d93",
   "metadata": {},
   "outputs": [],
   "source": [
    "v1"
   ]
  },
  {
   "cell_type": "code",
   "execution_count": null,
   "id": "bc6eec37c8fa569b",
   "metadata": {},
   "outputs": [],
   "source": [
    "type(v1)"
   ]
  },
  {
   "cell_type": "code",
   "execution_count": null,
   "id": "c9368110fae18c7f",
   "metadata": {},
   "outputs": [],
   "source": [
    "v1.dtype"
   ]
  },
  {
   "cell_type": "code",
   "execution_count": null,
   "id": "54d1cd85121e743b",
   "metadata": {},
   "outputs": [],
   "source": [
    "v3 = np.array([1.0, 2.0, 3.0])"
   ]
  },
  {
   "cell_type": "code",
   "execution_count": null,
   "id": "1c4b88685936ce00",
   "metadata": {},
   "outputs": [],
   "source": [
    "v3.dtype"
   ]
  },
  {
   "cell_type": "code",
   "execution_count": null,
   "id": "2251def6a3a89789",
   "metadata": {},
   "outputs": [],
   "source": [
    "v1 + v2"
   ]
  },
  {
   "cell_type": "code",
   "execution_count": null,
   "id": "4b63306f4cc52d5a",
   "metadata": {
    "lines_to_next_cell": 1
   },
   "outputs": [],
   "source": [
    "lst1 = [3, 2, 4]\n",
    "lst2 = [8, 9, 7]"
   ]
  },
  {
   "cell_type": "code",
   "execution_count": null,
   "id": "3a87b0d4e3a89f68",
   "metadata": {},
   "outputs": [],
   "source": [
    "def vector_sum(v1, v2):\n",
    "    assert len(v1) == len(v2)\n",
    "    result = [0] * len(v1)\n",
    "    for i in range(len(v1)):\n",
    "        result[i] = v1[i] + v2[i]\n",
    "    return result"
   ]
  },
  {
   "cell_type": "code",
   "execution_count": null,
   "id": "ea3d90cc9be0fa4f",
   "metadata": {
    "lines_to_next_cell": 2
   },
   "outputs": [],
   "source": [
    "vector_sum(lst1, lst2)"
   ]
  },
  {
   "cell_type": "code",
   "execution_count": null,
   "id": "82fc791679e5f373",
   "metadata": {},
   "outputs": [],
   "source": [
    "%%timeit\n",
    "vector_sum(lst1, lst2)"
   ]
  },
  {
   "cell_type": "code",
   "execution_count": null,
   "id": "96ed4a313bbb8723",
   "metadata": {},
   "outputs": [],
   "source": [
    "%%timeit\n",
    "v1 = v2"
   ]
  },
  {
   "cell_type": "code",
   "execution_count": null,
   "id": "e56f717799e62d1a",
   "metadata": {},
   "outputs": [],
   "source": [
    "v1 * v2"
   ]
  },
  {
   "cell_type": "code",
   "execution_count": null,
   "id": "69f2229a84251d80",
   "metadata": {},
   "outputs": [],
   "source": [
    "v1.dot(v2)"
   ]
  },
  {
   "cell_type": "code",
   "execution_count": null,
   "id": "ac0f8c0ed330514c",
   "metadata": {},
   "outputs": [],
   "source": [
    "v1.sum()"
   ]
  },
  {
   "cell_type": "code",
   "execution_count": null,
   "id": "3b17fcded8fa1f3a",
   "metadata": {},
   "outputs": [],
   "source": [
    "v1.mean()"
   ]
  },
  {
   "cell_type": "code",
   "execution_count": null,
   "id": "e246e480d846464b",
   "metadata": {},
   "outputs": [],
   "source": [
    "v1.std()"
   ]
  },
  {
   "cell_type": "code",
   "execution_count": null,
   "id": "5dcb64ff2a187aa3",
   "metadata": {},
   "outputs": [],
   "source": [
    "v1.max()"
   ]
  },
  {
   "cell_type": "code",
   "execution_count": null,
   "id": "f74231cea0102c72",
   "metadata": {},
   "outputs": [],
   "source": [
    "v1.min()"
   ]
  },
  {
   "cell_type": "code",
   "execution_count": null,
   "id": "439cd1a02687c1c8",
   "metadata": {},
   "outputs": [],
   "source": [
    "v1"
   ]
  },
  {
   "cell_type": "code",
   "execution_count": null,
   "id": "010bb9a4343456b5",
   "metadata": {},
   "outputs": [],
   "source": [
    "v1.argmax()"
   ]
  },
  {
   "cell_type": "code",
   "execution_count": null,
   "id": "699eb5aa7f0c83b9",
   "metadata": {},
   "outputs": [],
   "source": [
    "v1.argmin()"
   ]
  },
  {
   "cell_type": "code",
   "execution_count": null,
   "id": "dd6d11a3f27bdf7e",
   "metadata": {},
   "outputs": [],
   "source": [
    "m1 = np.array([[1, 2, 3], [4, 5, 6]])"
   ]
  },
  {
   "cell_type": "code",
   "execution_count": null,
   "id": "de0e4f7bc4e7ea91",
   "metadata": {},
   "outputs": [],
   "source": [
    "m1"
   ]
  },
  {
   "cell_type": "code",
   "execution_count": null,
   "id": "7d1fe7b9e895a96c",
   "metadata": {},
   "outputs": [],
   "source": [
    "m2 = np.array([[1, 0], [0, 1], [2, 3]])"
   ]
  },
  {
   "cell_type": "code",
   "execution_count": null,
   "id": "101ca9a146f1f72b",
   "metadata": {},
   "outputs": [],
   "source": [
    "m2"
   ]
  },
  {
   "cell_type": "code",
   "execution_count": null,
   "id": "3679d71a8132e2ca",
   "metadata": {},
   "outputs": [],
   "source": [
    "m1 + m1"
   ]
  },
  {
   "cell_type": "code",
   "execution_count": null,
   "id": "2fa74f7f091a52f3",
   "metadata": {},
   "outputs": [],
   "source": [
    "m2 + m2"
   ]
  },
  {
   "cell_type": "code",
   "execution_count": null,
   "id": "fd62f47ef3c5fcb6",
   "metadata": {},
   "outputs": [],
   "source": [
    "m1 + m2"
   ]
  },
  {
   "cell_type": "code",
   "execution_count": null,
   "id": "02f33d5fd727b42c",
   "metadata": {},
   "outputs": [],
   "source": [
    "v1.shape"
   ]
  },
  {
   "cell_type": "code",
   "execution_count": null,
   "id": "d5169d8cca4afd65",
   "metadata": {},
   "outputs": [],
   "source": [
    "m1.shape"
   ]
  },
  {
   "cell_type": "code",
   "execution_count": null,
   "id": "873e834d8aede14b",
   "metadata": {},
   "outputs": [],
   "source": [
    "m2.shape"
   ]
  },
  {
   "cell_type": "code",
   "execution_count": null,
   "id": "d715584ebf6d040f",
   "metadata": {},
   "outputs": [],
   "source": [
    "m1"
   ]
  },
  {
   "cell_type": "code",
   "execution_count": null,
   "id": "de92341950589845",
   "metadata": {},
   "outputs": [],
   "source": [
    "m1.T"
   ]
  },
  {
   "cell_type": "code",
   "execution_count": null,
   "id": "1f7b5f77a2cb8f9f",
   "metadata": {},
   "outputs": [],
   "source": [
    "m2"
   ]
  },
  {
   "cell_type": "code",
   "execution_count": null,
   "id": "e01986c082e1c130",
   "metadata": {},
   "outputs": [],
   "source": [
    "m2.T"
   ]
  },
  {
   "cell_type": "code",
   "execution_count": null,
   "id": "def0b33dce3e1f1a",
   "metadata": {},
   "outputs": [],
   "source": [
    "m1.T + m2"
   ]
  },
  {
   "cell_type": "code",
   "execution_count": null,
   "id": "2e4434b6ff330d7b",
   "metadata": {},
   "outputs": [],
   "source": [
    "m1 + m2.T"
   ]
  },
  {
   "cell_type": "code",
   "execution_count": null,
   "id": "f922af3592510218",
   "metadata": {},
   "outputs": [],
   "source": [
    "m1 * m2"
   ]
  },
  {
   "cell_type": "code",
   "execution_count": null,
   "id": "ecb0c2d920935f30",
   "metadata": {},
   "outputs": [],
   "source": [
    "m1.T * m2"
   ]
  },
  {
   "cell_type": "code",
   "execution_count": null,
   "id": "fe97a3aa05598684",
   "metadata": {},
   "outputs": [],
   "source": [
    "m1.dot(m2)"
   ]
  },
  {
   "cell_type": "code",
   "execution_count": null,
   "id": "1ebb74741e879b3e",
   "metadata": {},
   "outputs": [],
   "source": [
    "m1 @ m2"
   ]
  },
  {
   "cell_type": "code",
   "execution_count": null,
   "id": "bee8da31d7abeee6",
   "metadata": {},
   "outputs": [],
   "source": [
    "v1 @ v2"
   ]
  },
  {
   "cell_type": "code",
   "execution_count": null,
   "id": "6b4e03423667dbb7",
   "metadata": {},
   "outputs": [],
   "source": []
  }
 ],
 "metadata": {},
 "nbformat": 4,
 "nbformat_minor": 5
}
