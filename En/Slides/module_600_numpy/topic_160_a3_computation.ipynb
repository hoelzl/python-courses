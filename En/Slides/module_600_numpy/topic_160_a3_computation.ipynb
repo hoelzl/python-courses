{
 "cells": [
  {
   "cell_type": "code",
   "execution_count": null,
   "id": "783a0b1c3269b907",
   "metadata": {},
   "outputs": [],
   "source": [
    "import math\n",
    "import operator\n",
    "\n",
    "import numpy as np\n",
    "from IPython.display import display\n",
    "from toolz import reduce"
   ]
  },
  {
   "cell_type": "markdown",
   "id": "3626fde43b144417",
   "metadata": {},
   "source": [
    "# Computation in NumPy\n",
    "\n",
    "Computations can be performed of tensors with compatible dimensions:"
   ]
  },
  {
   "cell_type": "code",
   "execution_count": null,
   "id": "930d8a8eb9b9f3c4",
   "metadata": {},
   "outputs": [],
   "source": [
    "v1 = np.array([2, 4, 5])\n",
    "v2 = np.arange(3.0)"
   ]
  },
  {
   "cell_type": "code",
   "execution_count": null,
   "id": "2251def6a3a89789",
   "metadata": {},
   "outputs": [],
   "source": [
    "v1 + v2"
   ]
  },
  {
   "cell_type": "code",
   "execution_count": null,
   "id": "e56f717799e62d1a",
   "metadata": {},
   "outputs": [],
   "source": [
    "v1 * v2"
   ]
  },
  {
   "cell_type": "code",
   "execution_count": null,
   "id": "bee8da31d7abeee6",
   "metadata": {},
   "outputs": [],
   "source": [
    "v1 @ v2"
   ]
  },
  {
   "cell_type": "code",
   "execution_count": null,
   "id": "69f2229a84251d80",
   "metadata": {},
   "outputs": [],
   "source": [
    "v1.dot(v2)"
   ]
  },
  {
   "cell_type": "code",
   "execution_count": null,
   "id": "9be416bbb1bcf2f7",
   "metadata": {},
   "outputs": [],
   "source": [
    "m1 = np.arange(12).reshape(3, 4)\n",
    "m2 = np.ones((3, 4))\n",
    "m3 = np.array([[1, 3], [5, 7], [2, 4], [6, 8]])\n",
    "print(\"m1.shape:\", m1.shape, \"m2.shape:\", m2.shape, \"m3.shape:\", m3.shape)"
   ]
  },
  {
   "cell_type": "code",
   "execution_count": null,
   "id": "fd62f47ef3c5fcb6",
   "metadata": {},
   "outputs": [],
   "source": [
    "m1 + m2"
   ]
  },
  {
   "cell_type": "code",
   "execution_count": null,
   "id": "a3d496091eda88e7",
   "metadata": {},
   "outputs": [],
   "source": [
    "# m1 + m3"
   ]
  },
  {
   "cell_type": "code",
   "execution_count": null,
   "id": "890c4e4c67129487",
   "metadata": {},
   "outputs": [],
   "source": [
    "m1 @ m3"
   ]
  },
  {
   "cell_type": "markdown",
   "id": "fbf3a2f894a1283a",
   "metadata": {},
   "source": [
    "## Boolean Operations"
   ]
  },
  {
   "cell_type": "code",
   "execution_count": null,
   "id": "1abcd764e1edec2e",
   "metadata": {},
   "outputs": [],
   "source": [
    "v1 = np.arange(4)\n",
    "v2 = np.ones(4)"
   ]
  },
  {
   "cell_type": "code",
   "execution_count": null,
   "id": "fdbbe419cd898697",
   "metadata": {},
   "outputs": [],
   "source": [
    "v1 == v2  # noqa B015"
   ]
  },
  {
   "cell_type": "code",
   "execution_count": null,
   "id": "da08d52979180677",
   "metadata": {},
   "outputs": [],
   "source": [
    "v1 <= v2  # noqa B015"
   ]
  },
  {
   "cell_type": "code",
   "execution_count": null,
   "id": "8b38c63a75239fa7",
   "metadata": {},
   "outputs": [],
   "source": [
    "# if v1 == v2: print(\"Done\")"
   ]
  },
  {
   "cell_type": "code",
   "execution_count": null,
   "id": "e5e3ad38bfe0e0cd",
   "metadata": {},
   "outputs": [],
   "source": [
    "equals = v1 == v2\n",
    "equals"
   ]
  },
  {
   "cell_type": "code",
   "execution_count": null,
   "id": "5520f1e80adf8b01",
   "metadata": {},
   "outputs": [],
   "source": [
    "equals.all()"
   ]
  },
  {
   "cell_type": "code",
   "execution_count": null,
   "id": "e6f8c357ba9818f7",
   "metadata": {},
   "outputs": [],
   "source": [
    "equals.any()"
   ]
  },
  {
   "cell_type": "code",
   "execution_count": null,
   "id": "94dfbb7bf73a398c",
   "metadata": {
    "lines_to_next_cell": 2
   },
   "outputs": [],
   "source": [
    "if equals.any():\n",
    "    print(\"Done\")"
   ]
  },
  {
   "cell_type": "markdown",
   "id": "e798439d3146a3a5",
   "metadata": {},
   "source": [
    "## Broadcasting (Part 1)\n",
    "\n",
    "Most operations in NumPy can be used with scalars as well:"
   ]
  },
  {
   "cell_type": "code",
   "execution_count": null,
   "id": "a01c92955df92518",
   "metadata": {},
   "outputs": [],
   "source": [
    "v1 = np.arange(8)\n",
    "v1"
   ]
  },
  {
   "cell_type": "code",
   "execution_count": null,
   "id": "ce19e3e3fcf8f47a",
   "metadata": {},
   "outputs": [],
   "source": [
    "v1 + 5"
   ]
  },
  {
   "cell_type": "code",
   "execution_count": null,
   "id": "01a0a223c83eb1fb",
   "metadata": {},
   "outputs": [],
   "source": [
    "3 + v1"
   ]
  },
  {
   "cell_type": "code",
   "execution_count": null,
   "id": "29d9ff9a1a7f1b10",
   "metadata": {},
   "outputs": [],
   "source": [
    "v1 * 2"
   ]
  },
  {
   "cell_type": "code",
   "execution_count": null,
   "id": "ca82baec52a668f8",
   "metadata": {},
   "outputs": [],
   "source": [
    "v1 ** 2"
   ]
  },
  {
   "cell_type": "code",
   "execution_count": null,
   "id": "7360c101ad7acfe9",
   "metadata": {},
   "outputs": [],
   "source": [
    "2 ** v1"
   ]
  },
  {
   "cell_type": "code",
   "execution_count": null,
   "id": "a145fb6c1ee6c718",
   "metadata": {},
   "outputs": [],
   "source": [
    "v1 > 5  # noqa B015"
   ]
  },
  {
   "cell_type": "markdown",
   "id": "c36f86d9f62b89ea",
   "metadata": {},
   "source": [
    "## Minimum, Maximum, Sum, ..."
   ]
  },
  {
   "cell_type": "code",
   "execution_count": null,
   "id": "8eebe4e7d3c9759c",
   "metadata": {},
   "outputs": [],
   "source": [
    "np.set_printoptions(precision=2)"
   ]
  },
  {
   "cell_type": "code",
   "execution_count": null,
   "id": "86457cb424cf7cb5",
   "metadata": {},
   "outputs": [],
   "source": [
    "rng = np.random.default_rng(42)\n",
    "vec = rng.random(10)\n",
    "vec"
   ]
  },
  {
   "cell_type": "code",
   "execution_count": null,
   "id": "762790a3b826cf49",
   "metadata": {},
   "outputs": [],
   "source": [
    "vec.max()"
   ]
  },
  {
   "cell_type": "code",
   "execution_count": null,
   "id": "397469ad0d3f2ed9",
   "metadata": {},
   "outputs": [],
   "source": [
    "vec.argmax()"
   ]
  },
  {
   "cell_type": "code",
   "execution_count": null,
   "id": "774d2f9725175df2",
   "metadata": {},
   "outputs": [],
   "source": [
    "vec[vec.argmax()]"
   ]
  },
  {
   "cell_type": "code",
   "execution_count": null,
   "id": "655ede7721b0c990",
   "metadata": {},
   "outputs": [],
   "source": [
    "vec.min()"
   ]
  },
  {
   "cell_type": "code",
   "execution_count": null,
   "id": "1e73572f986dd0dd",
   "metadata": {},
   "outputs": [],
   "source": [
    "vec.argmin()"
   ]
  },
  {
   "cell_type": "code",
   "execution_count": null,
   "id": "75dacfbf2d6ef488",
   "metadata": {},
   "outputs": [],
   "source": [
    "rng = np.random.default_rng(42)\n",
    "arr = rng.random((3, 5))"
   ]
  },
  {
   "cell_type": "code",
   "execution_count": null,
   "id": "9d21d633ac133643",
   "metadata": {},
   "outputs": [],
   "source": [
    "arr.max()"
   ]
  },
  {
   "cell_type": "code",
   "execution_count": null,
   "id": "be47e420ab8b2381",
   "metadata": {},
   "outputs": [],
   "source": [
    "arr.argmax()"
   ]
  },
  {
   "cell_type": "code",
   "execution_count": null,
   "id": "b98affc9b0d63e35",
   "metadata": {},
   "outputs": [],
   "source": [
    "arr.min()"
   ]
  },
  {
   "cell_type": "code",
   "execution_count": null,
   "id": "9a537fe9620111c9",
   "metadata": {},
   "outputs": [],
   "source": [
    "arr.argmin()"
   ]
  },
  {
   "cell_type": "code",
   "execution_count": null,
   "id": "d149e17d9a7e1d74",
   "metadata": {},
   "outputs": [],
   "source": [
    "arr.reshape(-1)[arr.argmin()]"
   ]
  },
  {
   "cell_type": "code",
   "execution_count": null,
   "id": "abd7cfbdbac211de",
   "metadata": {},
   "outputs": [],
   "source": [
    "arr[np.unravel_index(arr.argmin(), arr.shape)]"
   ]
  },
  {
   "cell_type": "code",
   "execution_count": null,
   "id": "990d489294efc86d",
   "metadata": {},
   "outputs": [],
   "source": [
    "arr"
   ]
  },
  {
   "cell_type": "code",
   "execution_count": null,
   "id": "1758288fa308c69e",
   "metadata": {},
   "outputs": [],
   "source": [
    "arr.sum()"
   ]
  },
  {
   "cell_type": "code",
   "execution_count": null,
   "id": "8fd128be5880a39b",
   "metadata": {},
   "outputs": [],
   "source": [
    "arr.sum(axis=0)"
   ]
  },
  {
   "cell_type": "code",
   "execution_count": null,
   "id": "bca5f972eefc5c6a",
   "metadata": {},
   "outputs": [],
   "source": [
    "arr.sum(axis=1)"
   ]
  },
  {
   "cell_type": "code",
   "execution_count": null,
   "id": "e99f2e1e3d3c3200",
   "metadata": {},
   "outputs": [],
   "source": [
    "arr.mean()"
   ]
  },
  {
   "cell_type": "code",
   "execution_count": null,
   "id": "e4e3c4835e0a4a72",
   "metadata": {},
   "outputs": [],
   "source": [
    "arr.mean(axis=0)"
   ]
  },
  {
   "cell_type": "code",
   "execution_count": null,
   "id": "b6d55f8073b178ab",
   "metadata": {},
   "outputs": [],
   "source": [
    "arr.mean(axis=1)"
   ]
  },
  {
   "cell_type": "code",
   "execution_count": null,
   "id": "ca2c82179fb08727",
   "metadata": {},
   "outputs": [],
   "source": [
    "v1 = np.arange(2)\n",
    "v2 = np.linspace(5, 7, 3)\n",
    "display(v1)\n",
    "display(v2)"
   ]
  },
  {
   "cell_type": "code",
   "execution_count": null,
   "id": "5e80528b1e83798d",
   "metadata": {},
   "outputs": [],
   "source": [
    "np.concatenate([v1, v2])"
   ]
  },
  {
   "cell_type": "code",
   "execution_count": null,
   "id": "a1178f4cc530eff6",
   "metadata": {},
   "outputs": [],
   "source": [
    "m1 = np.arange(12).reshape(3, 4)\n",
    "m2 = np.arange(12, 24).reshape(3, 4)"
   ]
  },
  {
   "cell_type": "code",
   "execution_count": null,
   "id": "de0e4f7bc4e7ea91",
   "metadata": {},
   "outputs": [],
   "source": [
    "m1"
   ]
  },
  {
   "cell_type": "code",
   "execution_count": null,
   "id": "101ca9a146f1f72b",
   "metadata": {},
   "outputs": [],
   "source": [
    "m2"
   ]
  },
  {
   "cell_type": "code",
   "execution_count": null,
   "id": "5bbb7b170899a98b",
   "metadata": {},
   "outputs": [],
   "source": [
    "np.concatenate([m1, m2])"
   ]
  },
  {
   "cell_type": "code",
   "execution_count": null,
   "id": "d852b8d51e14f94d",
   "metadata": {},
   "outputs": [],
   "source": [
    "np.concatenate([m1, m2], axis=1)"
   ]
  },
  {
   "cell_type": "code",
   "execution_count": null,
   "id": "e1381e62a076fc13",
   "metadata": {},
   "outputs": [],
   "source": [
    "m3 = np.arange(12, 15).reshape(3, -1)\n",
    "m3"
   ]
  },
  {
   "cell_type": "code",
   "execution_count": null,
   "id": "5772116f5638bb25",
   "metadata": {},
   "outputs": [],
   "source": [
    "# np.concatenate([m1, m3])"
   ]
  },
  {
   "cell_type": "code",
   "execution_count": null,
   "id": "eecb87d7d397cead",
   "metadata": {},
   "outputs": [],
   "source": [
    "np.concatenate([m1, m3], axis=1)"
   ]
  },
  {
   "cell_type": "markdown",
   "id": "55db307bc3e895dd",
   "metadata": {},
   "source": [
    "## Indices for NumPy Arrays"
   ]
  },
  {
   "cell_type": "code",
   "execution_count": null,
   "id": "59b2f6a95dfb42d0",
   "metadata": {},
   "outputs": [],
   "source": [
    "vec = np.arange(10)"
   ]
  },
  {
   "cell_type": "code",
   "execution_count": null,
   "id": "ea2d3856483a62c9",
   "metadata": {},
   "outputs": [],
   "source": [
    "vec"
   ]
  },
  {
   "cell_type": "code",
   "execution_count": null,
   "id": "0bb67215bc32b798",
   "metadata": {},
   "outputs": [],
   "source": [
    "vec[3]"
   ]
  },
  {
   "cell_type": "code",
   "execution_count": null,
   "id": "320475bfbb21c495",
   "metadata": {},
   "outputs": [],
   "source": [
    "vec[3:8]"
   ]
  },
  {
   "cell_type": "code",
   "execution_count": null,
   "id": "58d10395bafa21f5",
   "metadata": {},
   "outputs": [],
   "source": [
    "vec[-1]"
   ]
  },
  {
   "cell_type": "code",
   "execution_count": null,
   "id": "5a944bc2468aab1c",
   "metadata": {},
   "outputs": [],
   "source": [
    "arr = np.arange(24).reshape(4, 6)"
   ]
  },
  {
   "cell_type": "code",
   "execution_count": null,
   "id": "481a1030793bf8dc",
   "metadata": {},
   "outputs": [],
   "source": [
    "arr"
   ]
  },
  {
   "cell_type": "code",
   "execution_count": null,
   "id": "6d83111f2c587ec5",
   "metadata": {},
   "outputs": [],
   "source": [
    "arr[1]"
   ]
  },
  {
   "cell_type": "code",
   "execution_count": null,
   "id": "ac2b404413ffa93e",
   "metadata": {},
   "outputs": [],
   "source": [
    "arr[1][2]"
   ]
  },
  {
   "cell_type": "code",
   "execution_count": null,
   "id": "00992e75721c586d",
   "metadata": {},
   "outputs": [],
   "source": [
    "arr[1, 2]"
   ]
  },
  {
   "cell_type": "code",
   "execution_count": null,
   "id": "3cfbace2471d6248",
   "metadata": {},
   "outputs": [],
   "source": [
    "arr"
   ]
  },
  {
   "cell_type": "code",
   "execution_count": null,
   "id": "f08d68a9c63b8063",
   "metadata": {},
   "outputs": [],
   "source": [
    "arr[1:3]"
   ]
  },
  {
   "cell_type": "code",
   "execution_count": null,
   "id": "0521712d9ef85d3f",
   "metadata": {},
   "outputs": [],
   "source": [
    "arr[1:3][2:4]"
   ]
  },
  {
   "cell_type": "code",
   "execution_count": null,
   "id": "247c4af77817cf31",
   "metadata": {},
   "outputs": [],
   "source": [
    "arr[1:3, 2:4]"
   ]
  },
  {
   "cell_type": "code",
   "execution_count": null,
   "id": "c2fd867d5128fd1b",
   "metadata": {},
   "outputs": [],
   "source": [
    "arr[:, 2:4]"
   ]
  },
  {
   "cell_type": "code",
   "execution_count": null,
   "id": "620eb9de327c2d8c",
   "metadata": {},
   "outputs": [],
   "source": [
    "# Danger!\n",
    "arr[:2:4]"
   ]
  },
  {
   "cell_type": "code",
   "execution_count": null,
   "id": "761d31c4a2fa6d21",
   "metadata": {},
   "outputs": [],
   "source": [
    "arr[:, 1:6:2]"
   ]
  },
  {
   "cell_type": "markdown",
   "id": "bb3175f0de30901d",
   "metadata": {},
   "source": [
    "## Slices and Modifications\n",
    "\n",
    "It's possible to apply operations to slices. Modification of slices *changes\n",
    "the underlying array.*"
   ]
  },
  {
   "cell_type": "code",
   "execution_count": null,
   "id": "919c536f1d096896",
   "metadata": {},
   "outputs": [],
   "source": [
    "arr = np.ones((3, 3))\n",
    "arr"
   ]
  },
  {
   "cell_type": "code",
   "execution_count": null,
   "id": "68ca19c3af649561",
   "metadata": {},
   "outputs": [],
   "source": [
    "arr[1:, 1:] = 2.0"
   ]
  },
  {
   "cell_type": "code",
   "execution_count": null,
   "id": "3f0e57b79c87c5a6",
   "metadata": {},
   "outputs": [],
   "source": [
    "arr"
   ]
  },
  {
   "cell_type": "code",
   "execution_count": null,
   "id": "a374bccf86471da8",
   "metadata": {},
   "outputs": [],
   "source": [
    "lst = [1, 2, 3]\n",
    "vec = np.array([1, 2, 3])"
   ]
  },
  {
   "cell_type": "code",
   "execution_count": null,
   "id": "fe9897bb24c7478e",
   "metadata": {},
   "outputs": [],
   "source": [
    "lst[:] = [99]"
   ]
  },
  {
   "cell_type": "code",
   "execution_count": null,
   "id": "0b4aef08eb1f008c",
   "metadata": {},
   "outputs": [],
   "source": [
    "lst"
   ]
  },
  {
   "cell_type": "code",
   "execution_count": null,
   "id": "c0924b88cf34fd76",
   "metadata": {},
   "outputs": [],
   "source": [
    "vec[:] = [99]"
   ]
  },
  {
   "cell_type": "code",
   "execution_count": null,
   "id": "ca2af3480d20fb22",
   "metadata": {},
   "outputs": [],
   "source": [
    "vec"
   ]
  },
  {
   "cell_type": "code",
   "execution_count": null,
   "id": "bbabf6e25b9dba4b",
   "metadata": {},
   "outputs": [],
   "source": [
    "vec[:] = 11\n",
    "vec"
   ]
  },
  {
   "cell_type": "markdown",
   "id": "b7a7e242618ba05c",
   "metadata": {},
   "source": [
    "## Danger!\n",
    "Don't use the `lst[:]` Idiom!"
   ]
  },
  {
   "cell_type": "code",
   "execution_count": null,
   "id": "90465c521231678a",
   "metadata": {},
   "outputs": [],
   "source": [
    "lst1 = list(range(10))\n",
    "lst2 = lst1[:]\n",
    "lst1[:] = [22] * 10\n",
    "print(lst1)\n",
    "print(lst2)"
   ]
  },
  {
   "cell_type": "code",
   "execution_count": null,
   "id": "7bb268949a2599dd",
   "metadata": {},
   "outputs": [],
   "source": [
    "vec1 = np.arange(10)\n",
    "vec2 = vec1[:]\n",
    "vec1[:] = 22\n",
    "print(vec1)\n",
    "print(vec2)"
   ]
  },
  {
   "cell_type": "code",
   "execution_count": null,
   "id": "ae4966fa0089424e",
   "metadata": {},
   "outputs": [],
   "source": [
    "vec1 = np.arange(10)\n",
    "vec2 = vec1.copy()\n",
    "vec1[:] = 22\n",
    "print(vec1)\n",
    "print(vec2)"
   ]
  },
  {
   "cell_type": "markdown",
   "id": "3a02165335b9c906",
   "metadata": {},
   "source": [
    "\n",
    "Similar considerations hold for reshaped arrays:"
   ]
  },
  {
   "cell_type": "code",
   "execution_count": null,
   "id": "215d315f1cecd9f4",
   "metadata": {},
   "outputs": [],
   "source": [
    "vec = np.arange(4)\n",
    "arr = vec.reshape(2, 2)\n",
    "arr"
   ]
  },
  {
   "cell_type": "code",
   "execution_count": null,
   "id": "4e1eaec7a298541a",
   "metadata": {},
   "outputs": [],
   "source": [
    "arr[1, 1] = 10\n",
    "vec[0] = 20\n",
    "arr"
   ]
  },
  {
   "cell_type": "code",
   "execution_count": null,
   "id": "e413897905f420eb",
   "metadata": {},
   "outputs": [],
   "source": [
    "vec"
   ]
  },
  {
   "cell_type": "markdown",
   "id": "ea51f69243725050",
   "metadata": {},
   "source": [
    "### Boolean Operations on NumPy Arrays"
   ]
  },
  {
   "cell_type": "code",
   "execution_count": null,
   "id": "38a6b93497332497",
   "metadata": {},
   "outputs": [],
   "source": [
    "bool_vec = np.array([True, False, True, False, True])"
   ]
  },
  {
   "cell_type": "code",
   "execution_count": null,
   "id": "de9a3d0e47ffca3f",
   "metadata": {},
   "outputs": [],
   "source": [
    "neg_vec = np.logical_not(bool_vec)\n",
    "neg_vec"
   ]
  },
  {
   "cell_type": "code",
   "execution_count": null,
   "id": "288cbe7a2760aabf",
   "metadata": {},
   "outputs": [],
   "source": [
    "np.logical_and(bool_vec, neg_vec)"
   ]
  },
  {
   "cell_type": "code",
   "execution_count": null,
   "id": "f4e670440191ead2",
   "metadata": {},
   "outputs": [],
   "source": [
    "~bool_vec"
   ]
  },
  {
   "cell_type": "code",
   "execution_count": null,
   "id": "713dd374ebe81eb1",
   "metadata": {},
   "outputs": [],
   "source": [
    "bool_vec & neg_vec"
   ]
  },
  {
   "cell_type": "code",
   "execution_count": null,
   "id": "e11e2b7c8ee21caa",
   "metadata": {},
   "outputs": [],
   "source": [
    "bool_vec | neg_vec"
   ]
  },
  {
   "cell_type": "markdown",
   "id": "e520e73f67705b79",
   "metadata": {},
   "source": [
    "## Conditional Selection\n",
    "\n",
    "You can use a NumPy array with Boolean values as index value, if it has the\n",
    "same shape as the \"value array\". This will select all elements of the value\n",
    "array for which the index evaluates to true."
   ]
  },
  {
   "cell_type": "code",
   "execution_count": null,
   "id": "38847a84e83af65a",
   "metadata": {},
   "outputs": [],
   "source": [
    "vec = np.arange(9)\n",
    "bool_vec = vec % 3 == 0\n",
    "print(vec)\n",
    "print(bool_vec)"
   ]
  },
  {
   "cell_type": "code",
   "execution_count": null,
   "id": "87822058c490db80",
   "metadata": {},
   "outputs": [],
   "source": [
    "vec[bool_vec]"
   ]
  },
  {
   "cell_type": "code",
   "execution_count": null,
   "id": "b21b42cb2781ea58",
   "metadata": {},
   "outputs": [],
   "source": [
    "arr = np.arange(8).reshape(2, 4)\n",
    "bool_arr = arr % 2 == 0\n",
    "bool_arr"
   ]
  },
  {
   "cell_type": "code",
   "execution_count": null,
   "id": "f9d6d2f471796ab7",
   "metadata": {},
   "outputs": [],
   "source": [
    "arr[bool_arr]"
   ]
  },
  {
   "cell_type": "code",
   "execution_count": null,
   "id": "3798099d48fd8fbd",
   "metadata": {},
   "outputs": [],
   "source": [
    "# Error!\n",
    "# arr[bool_arr.reshape(-1)]"
   ]
  },
  {
   "cell_type": "code",
   "execution_count": null,
   "id": "ea2a617d6e978238",
   "metadata": {},
   "outputs": [],
   "source": [
    "vec[vec % 2 > 0]"
   ]
  },
  {
   "cell_type": "code",
   "execution_count": null,
   "id": "9f6f23e4c8551411",
   "metadata": {},
   "outputs": [],
   "source": [
    "arr[arr < 5]"
   ]
  },
  {
   "cell_type": "code",
   "execution_count": null,
   "id": "3fcaf2548e0e619d",
   "metadata": {},
   "outputs": [],
   "source": [
    "arr = np.arange(30).reshape(6, 5)\n",
    "arr"
   ]
  },
  {
   "cell_type": "code",
   "execution_count": null,
   "id": "bdbb795765e969c8",
   "metadata": {},
   "outputs": [],
   "source": [
    "arr[:, 1]"
   ]
  },
  {
   "cell_type": "code",
   "execution_count": null,
   "id": "216cb60d88db8db8",
   "metadata": {},
   "outputs": [],
   "source": [
    "arr[:, 1] % 2 == 0  # noqa B015"
   ]
  },
  {
   "cell_type": "code",
   "execution_count": null,
   "id": "667e8ff94adbf685",
   "metadata": {},
   "outputs": [],
   "source": [
    "arr[arr[:, 1] % 2 == 0]"
   ]
  },
  {
   "cell_type": "code",
   "execution_count": null,
   "id": "bd94c013e851e7e9",
   "metadata": {},
   "outputs": [],
   "source": [
    "arr[arr[:, 1] % 2 == 1]"
   ]
  },
  {
   "cell_type": "markdown",
   "id": "d400bece5a8f2b23",
   "metadata": {},
   "source": [
    "## Universal NumPy Functions\n",
    "\n",
    "NumPy offers a wealth of universal functions that work on NumPy arrays, lists,\n",
    "and often numbers"
   ]
  },
  {
   "cell_type": "code",
   "execution_count": null,
   "id": "edd181068f946a53",
   "metadata": {},
   "outputs": [],
   "source": [
    "vec1 = rng.random(5)\n",
    "vec2 = rng.random(5)\n",
    "display(vec1)\n",
    "\n",
    "list1 = list(vec1)\n",
    "list2 = list(vec2)\n",
    "display(list1)\n",
    "\n",
    "matrix = np.arange(6).reshape(2, 3)\n",
    "list_matrix = [[0, 1, 2], [3, 4, 5]]\n",
    "display(matrix)\n",
    "display(list_matrix)"
   ]
  },
  {
   "cell_type": "code",
   "execution_count": null,
   "id": "0bbb0c3fa7db1bb8",
   "metadata": {},
   "outputs": [],
   "source": [
    "vec1.sum()"
   ]
  },
  {
   "cell_type": "code",
   "execution_count": null,
   "id": "c29b0b867530c0d7",
   "metadata": {},
   "outputs": [],
   "source": [
    "# list1.sum()"
   ]
  },
  {
   "cell_type": "code",
   "execution_count": null,
   "id": "27a1d289b11d7ba8",
   "metadata": {},
   "outputs": [],
   "source": [
    "reduce(operator.add, list1, 0)"
   ]
  },
  {
   "cell_type": "code",
   "execution_count": null,
   "id": "85c42eca1e93106d",
   "metadata": {},
   "outputs": [],
   "source": [
    "reduce(operator.add, vec1, 0)"
   ]
  },
  {
   "cell_type": "code",
   "execution_count": null,
   "id": "6fafba74583587c4",
   "metadata": {},
   "outputs": [],
   "source": [
    "np.sum(vec1)"
   ]
  },
  {
   "cell_type": "code",
   "execution_count": null,
   "id": "361d6574b34458a2",
   "metadata": {},
   "outputs": [],
   "source": [
    "np.sum(list1)"
   ]
  },
  {
   "cell_type": "code",
   "execution_count": null,
   "id": "0d650c2da25539e9",
   "metadata": {},
   "outputs": [],
   "source": [
    "np.sum(matrix)"
   ]
  },
  {
   "cell_type": "code",
   "execution_count": null,
   "id": "61dd6ba44843001e",
   "metadata": {},
   "outputs": [],
   "source": [
    "np.sum(list_matrix)"
   ]
  },
  {
   "cell_type": "code",
   "execution_count": null,
   "id": "337857986b2456e7",
   "metadata": {},
   "outputs": [],
   "source": [
    "np.sum(123)"
   ]
  },
  {
   "cell_type": "code",
   "execution_count": null,
   "id": "71269bace00c0095",
   "metadata": {},
   "outputs": [],
   "source": [
    "np.sum(list_matrix, axis=0)"
   ]
  },
  {
   "cell_type": "code",
   "execution_count": null,
   "id": "5dfce73256261632",
   "metadata": {},
   "outputs": [],
   "source": [
    "np.sin(vec1)"
   ]
  },
  {
   "cell_type": "code",
   "execution_count": null,
   "id": "a5712adf99b5b0e1",
   "metadata": {},
   "outputs": [],
   "source": [
    "np.sin(list1)"
   ]
  },
  {
   "cell_type": "code",
   "execution_count": null,
   "id": "02fe07215c8793d5",
   "metadata": {},
   "outputs": [],
   "source": [
    "np.sin(matrix)"
   ]
  },
  {
   "cell_type": "code",
   "execution_count": null,
   "id": "229b616892b2b1dc",
   "metadata": {},
   "outputs": [],
   "source": [
    "np.sin(list_matrix)"
   ]
  },
  {
   "cell_type": "code",
   "execution_count": null,
   "id": "0d2d6c87ac429c73",
   "metadata": {},
   "outputs": [],
   "source": [
    "np.sin(math.pi)"
   ]
  },
  {
   "cell_type": "code",
   "execution_count": null,
   "id": "dc7eba500ce942ff",
   "metadata": {},
   "outputs": [],
   "source": [
    "np.mean(vec1)"
   ]
  },
  {
   "cell_type": "code",
   "execution_count": null,
   "id": "c890c8ea57dea4f8",
   "metadata": {},
   "outputs": [],
   "source": [
    "np.median(vec1)"
   ]
  },
  {
   "cell_type": "code",
   "execution_count": null,
   "id": "2a7e02c53cec8dd9",
   "metadata": {},
   "outputs": [],
   "source": [
    "np.std(vec1)"
   ]
  },
  {
   "cell_type": "code",
   "execution_count": null,
   "id": "35fdf6916e440e63",
   "metadata": {},
   "outputs": [],
   "source": [
    "np.greater(vec1, vec2)"
   ]
  },
  {
   "cell_type": "code",
   "execution_count": null,
   "id": "f4ddde6bd35e0095",
   "metadata": {},
   "outputs": [],
   "source": [
    "np.greater(list1, list2)"
   ]
  },
  {
   "cell_type": "code",
   "execution_count": null,
   "id": "5199faf1b98137c7",
   "metadata": {},
   "outputs": [],
   "source": [
    "np.greater(vec1, list2)"
   ]
  },
  {
   "cell_type": "code",
   "execution_count": null,
   "id": "3b3dad1d236d665a",
   "metadata": {},
   "outputs": [],
   "source": [
    "display(vec1)\n",
    "display(vec2)"
   ]
  },
  {
   "cell_type": "code",
   "execution_count": null,
   "id": "788b598f440b01ed",
   "metadata": {},
   "outputs": [],
   "source": [
    "np.maximum(vec1, vec2)"
   ]
  },
  {
   "cell_type": "code",
   "execution_count": null,
   "id": "7a8ff276a9eb950c",
   "metadata": {},
   "outputs": [],
   "source": [
    "np.maximum(list1, list2)"
   ]
  },
  {
   "cell_type": "code",
   "execution_count": null,
   "id": "d2fffe7de471650e",
   "metadata": {},
   "outputs": [],
   "source": [
    "np.maximum(list1, vec2)"
   ]
  },
  {
   "cell_type": "markdown",
   "id": "bcd92185d0ba1a82",
   "metadata": {},
   "source": [
    "\n",
    "A complete list of universal functions is\n",
    "[here](https://numpy.org/doc/stable/reference/ufuncs.html)."
   ]
  },
  {
   "cell_type": "markdown",
   "id": "8905cd14df9492a5",
   "metadata": {},
   "source": [
    "\n",
    "## Broadcasting (Part 2)"
   ]
  },
  {
   "cell_type": "code",
   "execution_count": null,
   "id": "fed4df40d7fa9af0",
   "metadata": {},
   "outputs": [],
   "source": [
    "arr = np.arange(16).reshape(2, 2, 4)\n",
    "print(f\"arr.shape: {arr.shape}\")\n",
    "arr"
   ]
  },
  {
   "cell_type": "code",
   "execution_count": null,
   "id": "6757d73a0f43b4f4",
   "metadata": {},
   "outputs": [],
   "source": [
    "arr * arr"
   ]
  },
  {
   "cell_type": "code",
   "execution_count": null,
   "id": "788093b98531af25",
   "metadata": {},
   "outputs": [],
   "source": [
    "3 * arr"
   ]
  },
  {
   "cell_type": "code",
   "execution_count": null,
   "id": "b7d597521fe6471c",
   "metadata": {},
   "outputs": [],
   "source": [
    "vec1 = np.arange(3)\n",
    "display(vec1)\n",
    "print(f\"vec1.shape: {vec1.shape}\")\n",
    "print(f\"arr.shape:  {arr.shape}\")\n",
    "# arr * vec1"
   ]
  },
  {
   "cell_type": "code",
   "execution_count": null,
   "id": "4cf3f4e7e9a82907",
   "metadata": {},
   "outputs": [],
   "source": [
    "vec2 = np.arange(4)\n",
    "display(arr)\n",
    "display(vec2)\n",
    "print(f\"vec2.shape: {vec2.shape}\")\n",
    "print(f\"arr.shape:  {arr.shape}\")\n",
    "arr * vec2"
   ]
  },
  {
   "cell_type": "markdown",
   "id": "e7404282c93e5d56",
   "metadata": {
    "lines_to_next_cell": 2
   },
   "source": [
    "\n",
    "### Rules for broadcasting:\n",
    "\n",
    "When performing an operation on `a` and `b`:\n",
    "\n",
    "- Axes (shapes) of `a` and `b` are compared from right to left\n",
    "\n",
    "- If `a` and `b` have the same length for an axis, they are compatible\n",
    "\n",
    "- If either `a` or `b` has length 1 for an axis, it is conceputally repeated\n",
    "  along this axis to fit the other array\n",
    "\n",
    "- If `a` and `b` have different lengths along an axis and neither has length 1\n",
    "  they are incompatible\n",
    "\n",
    "- The array with lower rank is treated as if it has rank 1 for the missing\n",
    "  axes, the missing axes are appended on the left"
   ]
  },
  {
   "cell_type": "code",
   "execution_count": null,
   "id": "e662098777395af3",
   "metadata": {},
   "outputs": [],
   "source": [
    "def ones(shape):\n",
    "    return np.ones(shape, dtype=np.int32)"
   ]
  },
  {
   "cell_type": "code",
   "execution_count": null,
   "id": "72858ec32abf8004",
   "metadata": {},
   "outputs": [],
   "source": [
    "def tensor(shape):\n",
    "    from functools import reduce\n",
    "    from operator import mul\n",
    "\n",
    "    size = reduce(mul, shape, 1)\n",
    "    return np.arange(1, size + 1).reshape(*shape)"
   ]
  },
  {
   "cell_type": "code",
   "execution_count": null,
   "id": "d3fd3bf7a61e1450",
   "metadata": {},
   "outputs": [],
   "source": [
    "tensor((2, 3))"
   ]
  },
  {
   "cell_type": "code",
   "execution_count": null,
   "id": "c760737364dc9f75",
   "metadata": {},
   "outputs": [],
   "source": [
    "tensor((1, 3))"
   ]
  },
  {
   "cell_type": "code",
   "execution_count": null,
   "id": "d7ba45520a0be259",
   "metadata": {},
   "outputs": [],
   "source": [
    "tensor((2, 1))"
   ]
  },
  {
   "cell_type": "code",
   "execution_count": null,
   "id": "6324d30957f69834",
   "metadata": {},
   "outputs": [],
   "source": [
    "ones((1, 3)) + tensor((2, 1))"
   ]
  },
  {
   "cell_type": "code",
   "execution_count": null,
   "id": "d7501135d0750395",
   "metadata": {},
   "outputs": [],
   "source": [
    "np.concatenate([tensor((2, 1))] * 3, axis=1)"
   ]
  },
  {
   "cell_type": "code",
   "execution_count": null,
   "id": "4a9414b98b8b5114",
   "metadata": {},
   "outputs": [],
   "source": [
    "ones((1, 3))"
   ]
  },
  {
   "cell_type": "code",
   "execution_count": null,
   "id": "4bc778abd5f40dd4",
   "metadata": {},
   "outputs": [],
   "source": [
    "np.concatenate([ones((1, 3))] * 2, axis=0)"
   ]
  },
  {
   "cell_type": "code",
   "execution_count": null,
   "id": "7e65d05a4e219015",
   "metadata": {},
   "outputs": [],
   "source": [
    "ones((1, 3)) + tensor((2, 1))"
   ]
  },
  {
   "cell_type": "code",
   "execution_count": null,
   "id": "7557ccefd5b382e0",
   "metadata": {},
   "outputs": [],
   "source": [
    "tensor((1, 3)) + ones((2, 1))"
   ]
  },
  {
   "cell_type": "code",
   "execution_count": null,
   "id": "40c0c13817ed1b43",
   "metadata": {},
   "outputs": [],
   "source": [
    "tensor((1, 3)) + tensor((2, 1))"
   ]
  },
  {
   "cell_type": "code",
   "execution_count": null,
   "id": "7ed6a557c9260664",
   "metadata": {},
   "outputs": [],
   "source": [
    "tensor((2, 3, 4))"
   ]
  },
  {
   "cell_type": "code",
   "execution_count": null,
   "id": "6f55993f06ed11a6",
   "metadata": {},
   "outputs": [],
   "source": [
    "tensor((2, 3, 1))"
   ]
  },
  {
   "cell_type": "code",
   "execution_count": null,
   "id": "4f27563552fab059",
   "metadata": {},
   "outputs": [],
   "source": [
    "tensor((2, 1, 4))"
   ]
  },
  {
   "cell_type": "code",
   "execution_count": null,
   "id": "db5153abbb720595",
   "metadata": {},
   "outputs": [],
   "source": [
    "ones((2, 3, 1)) + tensor((2, 1, 4))"
   ]
  },
  {
   "cell_type": "code",
   "execution_count": null,
   "id": "decda9d6c6440144",
   "metadata": {},
   "outputs": [],
   "source": [
    "ones((2, 3, 1))"
   ]
  },
  {
   "cell_type": "code",
   "execution_count": null,
   "id": "b5ce17229dee831b",
   "metadata": {},
   "outputs": [],
   "source": [
    "np.concatenate([ones((2, 3, 1))] * 4, axis=2)"
   ]
  },
  {
   "cell_type": "code",
   "execution_count": null,
   "id": "50c0f865632829c4",
   "metadata": {},
   "outputs": [],
   "source": [
    "tensor((2, 1, 4))"
   ]
  },
  {
   "cell_type": "code",
   "execution_count": null,
   "id": "cad0e91fa5129f2c",
   "metadata": {},
   "outputs": [],
   "source": [
    "np.concatenate([tensor((2, 1, 4))] * 3, axis=1)"
   ]
  },
  {
   "cell_type": "code",
   "execution_count": null,
   "id": "0420429d72d14a35",
   "metadata": {},
   "outputs": [],
   "source": [
    "ones((2, 3, 1)) + tensor((2, 1, 4))"
   ]
  },
  {
   "cell_type": "code",
   "execution_count": null,
   "id": "9871586d1b174609",
   "metadata": {},
   "outputs": [],
   "source": [
    "tensor((2, 3, 1)) + ones((2, 1, 4))"
   ]
  },
  {
   "cell_type": "code",
   "execution_count": null,
   "id": "6accbd6c90920a12",
   "metadata": {},
   "outputs": [],
   "source": [
    "tensor((2, 3, 1)) + tensor((2, 1, 4))"
   ]
  },
  {
   "cell_type": "code",
   "execution_count": null,
   "id": "8c6f846613fef655",
   "metadata": {},
   "outputs": [],
   "source": [
    "tensor((3, 1)) + tensor((2, 1, 4))"
   ]
  },
  {
   "cell_type": "code",
   "execution_count": null,
   "id": "c50e740004892a98",
   "metadata": {},
   "outputs": [],
   "source": [
    "tensor((3, 1))"
   ]
  },
  {
   "cell_type": "code",
   "execution_count": null,
   "id": "9eff2012ae51f36c",
   "metadata": {},
   "outputs": [],
   "source": [
    "tmp1 = np.concatenate([tensor((3, 1))] * 4, axis=1)\n",
    "print(\"Shape:\", tmp1.shape)\n",
    "tmp1"
   ]
  },
  {
   "cell_type": "code",
   "execution_count": null,
   "id": "09a0ee15c8dd6825",
   "metadata": {},
   "outputs": [],
   "source": [
    "tmp2 = tmp1.reshape(1, 3, 4)\n",
    "print(\"Shape:\", tmp2.shape)\n",
    "tmp2"
   ]
  },
  {
   "cell_type": "code",
   "execution_count": null,
   "id": "489cd7b2febc6e31",
   "metadata": {},
   "outputs": [],
   "source": [
    "tmp3 = np.concatenate([tmp2] * 2, axis=0)\n",
    "print(\"Shape:\", tmp3.shape)\n",
    "tmp3"
   ]
  },
  {
   "cell_type": "code",
   "execution_count": null,
   "id": "e54005a20600bc6f",
   "metadata": {},
   "outputs": [],
   "source": [
    "tensor((2, 1, 4))"
   ]
  },
  {
   "cell_type": "code",
   "execution_count": null,
   "id": "e1670b8c4ee79525",
   "metadata": {},
   "outputs": [],
   "source": [
    "tmp4 = np.concatenate([tensor((2, 1, 4))] * 3, axis=1)\n",
    "print(\"Shape:\", tmp4.shape)\n",
    "tmp4"
   ]
  },
  {
   "cell_type": "code",
   "execution_count": null,
   "id": "22a0ecb082a0899e",
   "metadata": {},
   "outputs": [],
   "source": [
    "display(tmp3)\n",
    "display(tmp4)"
   ]
  },
  {
   "cell_type": "code",
   "execution_count": null,
   "id": "e7df92db99e787df",
   "metadata": {},
   "outputs": [],
   "source": [
    "tmp3 + tmp4"
   ]
  },
  {
   "cell_type": "code",
   "execution_count": null,
   "id": "6b4e03423667dbb7",
   "metadata": {},
   "outputs": [],
   "source": []
  }
 ],
 "metadata": {},
 "nbformat": 4,
 "nbformat_minor": 5
}
