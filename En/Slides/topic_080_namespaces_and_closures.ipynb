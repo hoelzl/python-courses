{
 "cells": [
  {
   "cell_type": "markdown",
   "id": "d2ca66ef",
   "metadata": {
    "lang": "en",
    "slideshow": {
     "slide_type": "slide"
    }
   },
   "source": [
    "<img src=\"img/python-logo-notext.svg\"\n",
    "     style=\"display:block;margin:auto;width:10%\"/>\n",
    "<br>\n",
    "<div style=\"text-align:center; font-size:200%;\"><b>Namespaces and Closures</b></div>\n",
    "<br/>\n",
    "<div style=\"text-align:center;\">Dr. Matthias Hölzl</div>"
   ]
  },
  {
   "cell_type": "markdown",
   "id": "209f52a7",
   "metadata": {
    "lang": "en",
    "slideshow": {
     "slide_type": "slide"
    }
   },
   "source": [
    "# Namespaces\n",
    "\n",
    "Variables and function names exist in a *namespace*.\n",
    "\n",
    "- Global variables and function names are in the global namespace.\n",
    "- Names imported with `import` exist in the imported namespace.\n",
    "- Names defined within a function are in that function's namespace.\n",
    "    - parameters\n",
    "    - local variables\n",
    "\n",
    "A function's namespace \"disappears\" at the end of the body."
   ]
  },
  {
   "cell_type": "code",
   "execution_count": null,
   "id": "37a7ac41",
   "metadata": {
    "slideshow": {
     "slide_type": "subslide"
    },
    "tags": [
     "keep"
    ]
   },
   "outputs": [],
   "source": [
    "# Ohne Angabe der Namensräume, siehe nächste Folie\n",
    "# fmt: off\n",
    "a = 1\n",
    "\n",
    "def f(x):\n",
    "    # print(a) # Was passiert, wenn diese Zeile einkommentiert wird?\n",
    "    a = x + 1\n",
    "    print(a)\n",
    "\n",
    "f(2)\n",
    "print(a)\n",
    "# print(x)\n",
    "# fmt: on"
   ]
  },
  {
   "cell_type": "code",
   "execution_count": null,
   "id": "733ccaac",
   "metadata": {
    "slideshow": {
     "slide_type": "subslide"
    },
    "tags": [
     "keep"
    ]
   },
   "outputs": [],
   "source": [
    "# fmt: off\n",
    "a = 1         # Globaler Namespace\n",
    "\n",
    "def f(x):     # Namespace von f - x ist im globalen Namespace *nicht* sichtbar\n",
    "    a = x + 1 # Namespace von f - a ist im globalen Namespace *nicht* sichtbar\n",
    "    print(a)  # Greift auf a aus dem Namespace von f zu\n",
    "\n",
    "f(2)\n",
    "print(a)      # Greift auf a aus dem globalen Namespace zu\n",
    "# print(x)    # Fehler: x ist im Namespace von f\n",
    "# fmt: on"
   ]
  },
  {
   "cell_type": "code",
   "execution_count": null,
   "id": "6585fa0a",
   "metadata": {
    "slideshow": {
     "slide_type": "subslide"
    },
    "tags": [
     "keep"
    ]
   },
   "outputs": [],
   "source": [
    "# fmt: off\n",
    "a = 1\n",
    "\n",
    "def f2(x):\n",
    "    global a\n",
    "    a = x + 1\n",
    "    print(a)\n",
    "\n",
    "f2(2)\n",
    "print(a)\n",
    "a = 5\n",
    "print(a)\n",
    "# fmt: on"
   ]
  },
  {
   "cell_type": "code",
   "execution_count": null,
   "id": "f5ad54fc",
   "metadata": {},
   "outputs": [],
   "source": [
    "from dis import dis"
   ]
  },
  {
   "cell_type": "code",
   "execution_count": null,
   "id": "60b8ed09",
   "metadata": {},
   "outputs": [],
   "source": [
    "dis(f)"
   ]
  },
  {
   "cell_type": "code",
   "execution_count": null,
   "id": "ce1f2a92",
   "metadata": {},
   "outputs": [],
   "source": [
    "dis(f2)"
   ]
  },
  {
   "cell_type": "code",
   "execution_count": null,
   "id": "82341694",
   "metadata": {
    "lines_to_next_cell": 1
   },
   "outputs": [],
   "source": [
    "# fmt: off\n",
    "a = 1\n",
    "\n",
    "def f_broken():\n",
    "    # noinspection PyUnresolvedReferences\n",
    "    print(a)\n",
    "    a = 2\n",
    "# fmt: on"
   ]
  },
  {
   "cell_type": "code",
   "execution_count": null,
   "id": "3673a4ab",
   "metadata": {},
   "outputs": [],
   "source": [
    "# f_broken()"
   ]
  },
  {
   "cell_type": "code",
   "execution_count": null,
   "id": "1076fc21",
   "metadata": {},
   "outputs": [],
   "source": [
    "dis(f_broken)"
   ]
  },
  {
   "cell_type": "markdown",
   "id": "e42d733d",
   "metadata": {
    "lang": "en",
    "slideshow": {
     "slide_type": "subslide"
    }
   },
   "source": [
    "\n",
    "*Note:* In Python bodies of `if` and `for` statements do not introduce a\n",
    "nested namespaces; variables defined in these bodies belong to the surrounding\n",
    "namespace."
   ]
  },
  {
   "cell_type": "code",
   "execution_count": null,
   "id": "f72d9890",
   "metadata": {},
   "outputs": [],
   "source": [
    "if True:\n",
    "    x = 123"
   ]
  },
  {
   "cell_type": "code",
   "execution_count": null,
   "id": "7d00a948",
   "metadata": {},
   "outputs": [],
   "source": [
    "print(x)"
   ]
  },
  {
   "cell_type": "code",
   "execution_count": null,
   "id": "2952d376",
   "metadata": {},
   "outputs": [],
   "source": [
    "for my_index in range(3):\n",
    "    y = my_index"
   ]
  },
  {
   "cell_type": "code",
   "execution_count": null,
   "id": "6081c500",
   "metadata": {},
   "outputs": [],
   "source": [
    "print(my_index)\n",
    "print(y)"
   ]
  },
  {
   "cell_type": "markdown",
   "id": "12869e39",
   "metadata": {
    "lang": "en",
    "slideshow": {
     "slide_type": "slide"
    }
   },
   "source": [
    "\n",
    "# Functions\n",
    "\n",
    "In Python functions are first class objects, i.e., they can be referenced by\n",
    "variables, passed as arguments to functions, etc.\n",
    "\n",
    "Functions have type `Callable`."
   ]
  },
  {
   "cell_type": "code",
   "execution_count": null,
   "id": "d0e02dc9",
   "metadata": {},
   "outputs": [],
   "source": [
    "print(open.__name__)"
   ]
  },
  {
   "cell_type": "code",
   "execution_count": null,
   "id": "e66597ba",
   "metadata": {},
   "outputs": [],
   "source": [
    "from typing import Callable"
   ]
  },
  {
   "cell_type": "code",
   "execution_count": null,
   "id": "344017ed",
   "metadata": {
    "lines_to_next_cell": 1
   },
   "outputs": [],
   "source": [
    "isinstance(list, Callable)"
   ]
  },
  {
   "cell_type": "code",
   "execution_count": null,
   "id": "cbaa7e68",
   "metadata": {
    "slideshow": {
     "slide_type": "subslide"
    }
   },
   "outputs": [],
   "source": [
    "def call_with_two_args(fun):\n",
    "    print(f\"Calling function {fun.__name__!r}\")\n",
    "    result = fun(2, 3)\n",
    "    print(f\"Result is {result}\")\n",
    "    return result"
   ]
  },
  {
   "cell_type": "code",
   "execution_count": null,
   "id": "72604e86",
   "metadata": {},
   "outputs": [],
   "source": [
    "call_with_two_args(pow)"
   ]
  },
  {
   "cell_type": "code",
   "execution_count": null,
   "id": "052c38ce",
   "metadata": {},
   "outputs": [],
   "source": [
    "import operator\n",
    "\n",
    "call_with_two_args(operator.add)"
   ]
  },
  {
   "cell_type": "code",
   "execution_count": null,
   "id": "e3692163",
   "metadata": {},
   "outputs": [],
   "source": [
    "call_with_two_args(operator.lt)"
   ]
  },
  {
   "cell_type": "code",
   "execution_count": null,
   "id": "8ab6a0bf",
   "metadata": {},
   "outputs": [],
   "source": [
    "def print_and_add(x, y):\n",
    "    print(f\"x = {x}, y = {y}\")\n",
    "    return x + y"
   ]
  },
  {
   "cell_type": "code",
   "execution_count": null,
   "id": "d3fc0a8d",
   "metadata": {},
   "outputs": [],
   "source": [
    "call_with_two_args(print_and_add)"
   ]
  },
  {
   "cell_type": "markdown",
   "id": "83e340c8",
   "metadata": {
    "lang": "en",
    "slideshow": {
     "slide_type": "subslide"
    }
   },
   "source": [
    "\n",
    "## Mini-workshop \"print truthy elements\"\n",
    "\n",
    "Write a function `print_truthy_elements(a_list: list, fun: Callable)` that\n",
    "prints each element `x` of `a_list` for which `fun(x)` returns a true value.\n",
    "\n",
    "Check the output for the list `example_values` and the functions\n",
    "`greater_than_2()` and `less_than_10()`."
   ]
  },
  {
   "cell_type": "code",
   "execution_count": null,
   "id": "02de8ccc",
   "metadata": {
    "lines_to_next_cell": 1,
    "tags": [
     "keep"
    ]
   },
   "outputs": [],
   "source": [
    "example_values = [1, 2, 3, 9, 10]"
   ]
  },
  {
   "cell_type": "code",
   "execution_count": null,
   "id": "3232b55b",
   "metadata": {
    "tags": [
     "keep"
    ]
   },
   "outputs": [],
   "source": [
    "def greater_than_2(n):\n",
    "    return n > 2"
   ]
  },
  {
   "cell_type": "code",
   "execution_count": null,
   "id": "33b26148",
   "metadata": {
    "tags": [
     "keep"
    ]
   },
   "outputs": [],
   "source": [
    "def less_than_10(n):\n",
    "    return n < 10"
   ]
  },
  {
   "cell_type": "code",
   "execution_count": null,
   "id": "74943f34",
   "metadata": {
    "lines_to_next_cell": 1,
    "tags": [
     "keep"
    ]
   },
   "outputs": [],
   "source": [
    "from typing import Callable"
   ]
  },
  {
   "cell_type": "code",
   "execution_count": null,
   "id": "73381d83",
   "metadata": {},
   "outputs": [],
   "source": [
    "def print_truthy_elements(a_list: list, fun: Callable):\n",
    "    for x in a_list:\n",
    "        if fun(x):\n",
    "            print(x)"
   ]
  },
  {
   "cell_type": "code",
   "execution_count": null,
   "id": "99eddb69",
   "metadata": {},
   "outputs": [],
   "source": [
    "print_truthy_elements(example_values, greater_than_2)"
   ]
  },
  {
   "cell_type": "code",
   "execution_count": null,
   "id": "4439c496",
   "metadata": {},
   "outputs": [],
   "source": [
    "print_truthy_elements(example_values, less_than_10)"
   ]
  },
  {
   "cell_type": "markdown",
   "id": "3440efbc",
   "metadata": {
    "lang": "en",
    "slideshow": {
     "slide_type": "slide"
    }
   },
   "source": [
    "## Closures\n",
    "\n",
    "In Python it is possible to define functions inside other functions. The inner\n",
    "functions can access the variables of the outer function."
   ]
  },
  {
   "cell_type": "code",
   "execution_count": null,
   "id": "bd44542e",
   "metadata": {
    "lines_to_next_cell": 1,
    "tags": [
     "keep"
    ]
   },
   "outputs": [],
   "source": [
    "from random import randint"
   ]
  },
  {
   "cell_type": "code",
   "execution_count": null,
   "id": "73f4f1f0",
   "metadata": {},
   "outputs": [],
   "source": [
    "def generate_random_value():\n",
    "    return randint(1, 4)"
   ]
  },
  {
   "cell_type": "code",
   "execution_count": null,
   "id": "61055e6b",
   "metadata": {},
   "outputs": [],
   "source": [
    "generate_random_value()"
   ]
  },
  {
   "cell_type": "code",
   "execution_count": null,
   "id": "6e612f58",
   "metadata": {
    "slideshow": {
     "slide_type": "subslide"
    }
   },
   "outputs": [],
   "source": [
    "from dis import dis"
   ]
  },
  {
   "cell_type": "code",
   "execution_count": null,
   "id": "8503c66d",
   "metadata": {},
   "outputs": [],
   "source": [
    "dis(generate_random_value)"
   ]
  },
  {
   "cell_type": "code",
   "execution_count": null,
   "id": "3d17f174",
   "metadata": {
    "slideshow": {
     "slide_type": "subslide"
    }
   },
   "outputs": [],
   "source": [
    "def make_and_call_nested_function():\n",
    "    def return_random_value():\n",
    "        return randint(1, 4)\n",
    "\n",
    "    return return_random_value()"
   ]
  },
  {
   "cell_type": "code",
   "execution_count": null,
   "id": "1a89639a",
   "metadata": {},
   "outputs": [],
   "source": [
    "make_and_call_nested_function()"
   ]
  },
  {
   "cell_type": "code",
   "execution_count": null,
   "id": "bfe3955d",
   "metadata": {
    "lines_to_next_cell": 1
   },
   "outputs": [],
   "source": [
    "dis(make_and_call_nested_function)"
   ]
  },
  {
   "cell_type": "code",
   "execution_count": null,
   "id": "2be3278a",
   "metadata": {
    "slideshow": {
     "slide_type": "subslide"
    }
   },
   "outputs": [],
   "source": [
    "def make_and_return_nested_function():\n",
    "    def return_random_value():\n",
    "        return randint(1, 4)\n",
    "\n",
    "    return return_random_value"
   ]
  },
  {
   "cell_type": "code",
   "execution_count": null,
   "id": "02955c08",
   "metadata": {},
   "outputs": [],
   "source": [
    "my_fun = make_and_return_nested_function()\n",
    "my_fun"
   ]
  },
  {
   "cell_type": "code",
   "execution_count": null,
   "id": "2f1a985a",
   "metadata": {},
   "outputs": [],
   "source": [
    "my_fun()"
   ]
  },
  {
   "cell_type": "code",
   "execution_count": null,
   "id": "1c6506a2",
   "metadata": {
    "lines_to_next_cell": 1
   },
   "outputs": [],
   "source": [
    "dis(make_and_return_nested_function)"
   ]
  },
  {
   "cell_type": "code",
   "execution_count": null,
   "id": "b9eb51b5",
   "metadata": {
    "slideshow": {
     "slide_type": "subslide"
    }
   },
   "outputs": [],
   "source": [
    "def make_closure_1():\n",
    "    local_value = randint(1, 4)\n",
    "\n",
    "    def return_local_value():\n",
    "        return local_value\n",
    "\n",
    "    return return_local_value"
   ]
  },
  {
   "cell_type": "code",
   "execution_count": null,
   "id": "251cf588",
   "metadata": {},
   "outputs": [],
   "source": [
    "my_closure_1 = make_closure_1()\n",
    "my_closure_1"
   ]
  },
  {
   "cell_type": "code",
   "execution_count": null,
   "id": "ca13db1f",
   "metadata": {},
   "outputs": [],
   "source": [
    "my_closure_1()"
   ]
  },
  {
   "cell_type": "code",
   "execution_count": null,
   "id": "4e370045",
   "metadata": {},
   "outputs": [],
   "source": [
    "your_closure_1 = make_closure_1()\n",
    "your_closure_1"
   ]
  },
  {
   "cell_type": "code",
   "execution_count": null,
   "id": "fb78a266",
   "metadata": {},
   "outputs": [],
   "source": [
    "your_closure_1()"
   ]
  },
  {
   "cell_type": "code",
   "execution_count": null,
   "id": "ee8b085a",
   "metadata": {},
   "outputs": [],
   "source": [
    "dis(make_closure_1)"
   ]
  },
  {
   "cell_type": "code",
   "execution_count": null,
   "id": "dd914da2",
   "metadata": {
    "slideshow": {
     "slide_type": "subslide"
    }
   },
   "outputs": [],
   "source": [
    "def make_closure_2():\n",
    "    local_value = randint(1, 10)\n",
    "\n",
    "    def return_local_value():\n",
    "        return local_value\n",
    "\n",
    "    def inc_local_value():\n",
    "        nonlocal local_value\n",
    "        local_value += 1\n",
    "\n",
    "    return return_local_value, inc_local_value"
   ]
  },
  {
   "cell_type": "code",
   "execution_count": null,
   "id": "936488a1",
   "metadata": {
    "slideshow": {
     "slide_type": "subslide"
    }
   },
   "outputs": [],
   "source": [
    "get_value_1, inc_value_1 = make_closure_2()\n",
    "get_value_2, inc_value_2 = make_closure_2()\n",
    "get_value_1(), get_value_2()"
   ]
  },
  {
   "cell_type": "code",
   "execution_count": null,
   "id": "4ad9405d",
   "metadata": {},
   "outputs": [],
   "source": [
    "get_value_1(), get_value_2()"
   ]
  },
  {
   "cell_type": "code",
   "execution_count": null,
   "id": "7414c06f",
   "metadata": {
    "lines_to_next_cell": 2
   },
   "outputs": [],
   "source": [
    "inc_value_1()\n",
    "get_value_1(), get_value_2()"
   ]
  },
  {
   "cell_type": "code",
   "execution_count": null,
   "id": "4a69ea37",
   "metadata": {},
   "outputs": [],
   "source": [
    "inc_value_2()\n",
    "get_value_1(), get_value_2()"
   ]
  },
  {
   "cell_type": "code",
   "execution_count": null,
   "id": "b5c9527a",
   "metadata": {
    "slideshow": {
     "slide_type": "subslide"
    }
   },
   "outputs": [],
   "source": [
    "dis(make_closure_2)"
   ]
  },
  {
   "cell_type": "markdown",
   "id": "9cc3172c",
   "metadata": {
    "lang": "en",
    "lines_to_next_cell": 2,
    "slideshow": {
     "slide_type": "subslide"
    }
   },
   "source": [
    "\n",
    "## Mini-workshop \"mean computation\"\n",
    "\n",
    "Write a function `make_mean_fun()` that returns two closures\n",
    "\n",
    "- a function `add_value(new_value: int)` that appends `new_value` to a list\n",
    "  stored in a local variable `values` of `make_mean_fun()`\n",
    "- a function `compute_mean()` that return the mean value of all values\n",
    "  previously stored in `values`.\n",
    "\n",
    "Do you have to use `nonlocal` to access `value`? Why, or why not?\n",
    "\n",
    "Ensure that your implementation satisfies the provided test cases."
   ]
  },
  {
   "cell_type": "code",
   "execution_count": null,
   "id": "5d0f9468",
   "metadata": {
    "lines_to_next_cell": 1
   },
   "outputs": [],
   "source": [
    "def make_mean_fun():\n",
    "    values: list[int] = []\n",
    "\n",
    "    def add_value(new_value: int):\n",
    "        values.append(new_value)\n",
    "\n",
    "    def compute_mean():\n",
    "        return sum(values) / len(values)\n",
    "\n",
    "    return add_value, compute_mean"
   ]
  },
  {
   "cell_type": "markdown",
   "id": "2bd88b77",
   "metadata": {
    "lang": "en"
   },
   "source": [
    "\n",
    "Test cases:"
   ]
  },
  {
   "cell_type": "code",
   "execution_count": null,
   "id": "5543ce1d",
   "metadata": {
    "tags": [
     "keep"
    ]
   },
   "outputs": [],
   "source": [
    "add_value_1, compute_mean_1 = make_mean_fun()\n",
    "add_value_2, compute_mean_2 = make_mean_fun()"
   ]
  },
  {
   "cell_type": "code",
   "execution_count": null,
   "id": "a5d70238",
   "metadata": {
    "tags": [
     "keep"
    ]
   },
   "outputs": [],
   "source": [
    "for i in range(10):\n",
    "    add_value_1(i)\n",
    "\n",
    "for i in range(2, 21, 4):\n",
    "    add_value_2(i)"
   ]
  },
  {
   "cell_type": "code",
   "execution_count": null,
   "id": "a24ea4dc",
   "metadata": {
    "tags": [
     "keep"
    ]
   },
   "outputs": [],
   "source": [
    "assert compute_mean_1() == 4.5"
   ]
  },
  {
   "cell_type": "code",
   "execution_count": null,
   "id": "e45c868f",
   "metadata": {
    "lines_to_next_cell": 1,
    "tags": [
     "keep"
    ]
   },
   "outputs": [],
   "source": [
    "assert compute_mean_2() == 10.0"
   ]
  },
  {
   "cell_type": "markdown",
   "id": "7b4ba154",
   "metadata": {
    "lang": "en"
   },
   "source": [
    "\n",
    "Write a function `make_mean_fun_2()` that returns closures with similar\n",
    "functionality but stores only the number of added elements and their total\n",
    "sum.\n",
    "\n",
    "Do you have to use `nonlocal` to access the closure variables in this case?\n",
    "Why, or why not?"
   ]
  },
  {
   "cell_type": "code",
   "execution_count": null,
   "id": "197e7d54",
   "metadata": {},
   "outputs": [],
   "source": [
    "def make_mean_fun_2():\n",
    "    sum_of_values: int = 0\n",
    "    num_values: int = 0\n",
    "\n",
    "    def add_value(new_value: int):\n",
    "        nonlocal sum_of_values, num_values\n",
    "        sum_of_values += new_value\n",
    "        num_values += 1\n",
    "\n",
    "    def compute_mean():\n",
    "        return sum_of_values / num_values\n",
    "\n",
    "    return add_value, compute_mean"
   ]
  },
  {
   "cell_type": "markdown",
   "id": "59bcd51e",
   "metadata": {
    "lang": "en",
    "lines_to_next_cell": 2
   },
   "source": [
    "\n",
    "Test cases:"
   ]
  },
  {
   "cell_type": "code",
   "execution_count": null,
   "id": "0ac347b3",
   "metadata": {
    "tags": [
     "keep"
    ]
   },
   "outputs": [],
   "source": [
    "add_value_3, compute_mean_3 = make_mean_fun_2()\n",
    "add_value_4, compute_mean_4 = make_mean_fun_2()"
   ]
  },
  {
   "cell_type": "code",
   "execution_count": null,
   "id": "a5d7ccea",
   "metadata": {
    "tags": [
     "keep"
    ]
   },
   "outputs": [],
   "source": [
    "for i in range(10):\n",
    "    add_value_3(i)"
   ]
  },
  {
   "cell_type": "code",
   "execution_count": null,
   "id": "45afe127",
   "metadata": {
    "tags": [
     "keep"
    ]
   },
   "outputs": [],
   "source": [
    "for i in range(2, 21, 4):\n",
    "    add_value_4(i)"
   ]
  },
  {
   "cell_type": "code",
   "execution_count": null,
   "id": "48022b42",
   "metadata": {
    "tags": [
     "keep"
    ]
   },
   "outputs": [],
   "source": [
    "assert compute_mean_3() == 4.5"
   ]
  },
  {
   "cell_type": "code",
   "execution_count": null,
   "id": "c35aff5f",
   "metadata": {
    "tags": [
     "keep"
    ]
   },
   "outputs": [],
   "source": [
    "assert compute_mean_4() == 10.0"
   ]
  },
  {
   "cell_type": "markdown",
   "id": "424457ba",
   "metadata": {
    "lang": "en",
    "slideshow": {
     "slide_type": "slide"
    }
   },
   "source": [
    "\n",
    "# Anonymous functions\n",
    "\n",
    "For short functions that are only used in a single place it is often\n",
    "inconvenient to provide a named function definition:"
   ]
  },
  {
   "cell_type": "code",
   "execution_count": null,
   "id": "796fc785",
   "metadata": {
    "slideshow": {
     "slide_type": "subslide"
    },
    "tags": [
     "keep"
    ]
   },
   "outputs": [],
   "source": [
    "example_values = [1, 2, 3, 9, 10]"
   ]
  },
  {
   "cell_type": "code",
   "execution_count": null,
   "id": "c71ff53e",
   "metadata": {
    "tags": [
     "keep"
    ]
   },
   "outputs": [],
   "source": [
    "def greater_than_2(n):\n",
    "    return n > 2"
   ]
  },
  {
   "cell_type": "code",
   "execution_count": null,
   "id": "e2b73c27",
   "metadata": {
    "tags": [
     "keep"
    ]
   },
   "outputs": [],
   "source": [
    "def less_than_10(n):\n",
    "    return n < 10"
   ]
  },
  {
   "cell_type": "code",
   "execution_count": null,
   "id": "0202c722",
   "metadata": {
    "lines_to_next_cell": 1,
    "tags": [
     "keep"
    ]
   },
   "outputs": [],
   "source": [
    "from typing import Callable"
   ]
  },
  {
   "cell_type": "code",
   "execution_count": null,
   "id": "98f2fa22",
   "metadata": {
    "tags": [
     "keep"
    ]
   },
   "outputs": [],
   "source": [
    "def print_truthy_elements(a_list: list, fun: Callable):\n",
    "    for x in a_list:\n",
    "        if fun(x):\n",
    "            print(x)"
   ]
  },
  {
   "cell_type": "code",
   "execution_count": null,
   "id": "dd03078d",
   "metadata": {},
   "outputs": [],
   "source": [
    "print_truthy_elements(example_values, greater_than_2)"
   ]
  },
  {
   "cell_type": "code",
   "execution_count": null,
   "id": "06ba65f0",
   "metadata": {},
   "outputs": [],
   "source": [
    "print_truthy_elements(example_values, less_than_10)"
   ]
  },
  {
   "cell_type": "markdown",
   "id": "c18f0ef4",
   "metadata": {
    "lang": "en",
    "slideshow": {
     "slide_type": "subslide"
    }
   },
   "source": [
    "\n",
    "For these cases Python offers lambda expressions as a syntactically simpler\n",
    "alternative:"
   ]
  },
  {
   "cell_type": "code",
   "execution_count": null,
   "id": "244bac47",
   "metadata": {},
   "outputs": [],
   "source": [
    "print_truthy_elements(example_values, lambda n: n > 2)"
   ]
  },
  {
   "cell_type": "code",
   "execution_count": null,
   "id": "58db6c1b",
   "metadata": {},
   "outputs": [],
   "source": [
    "print_truthy_elements(example_values, lambda n: n < 10)"
   ]
  },
  {
   "cell_type": "code",
   "execution_count": null,
   "id": "e19531e3",
   "metadata": {},
   "outputs": [],
   "source": [
    "print_truthy_elements(example_values, lambda n: n % 2 == 0)"
   ]
  },
  {
   "cell_type": "code",
   "execution_count": null,
   "id": "e0488092",
   "metadata": {},
   "outputs": [],
   "source": [
    "call_with_two_args(lambda x, y: 2 * x + y**2)"
   ]
  },
  {
   "cell_type": "markdown",
   "id": "cec9eec6",
   "metadata": {
    "lang": "en",
    "slideshow": {
     "slide_type": "subslide"
    }
   },
   "source": [
    "\n",
    "Many functions for sequences work well with lambdas:"
   ]
  },
  {
   "cell_type": "code",
   "execution_count": null,
   "id": "395c74a4",
   "metadata": {},
   "outputs": [],
   "source": [
    "filter(lambda n: n > 2, example_values)"
   ]
  },
  {
   "cell_type": "code",
   "execution_count": null,
   "id": "b02b79e0",
   "metadata": {},
   "outputs": [],
   "source": [
    "list(filter(lambda n: n > 2, example_values))"
   ]
  },
  {
   "cell_type": "markdown",
   "id": "412ed9a7",
   "metadata": {
    "lang": "en",
    "lines_to_next_cell": 2,
    "slideshow": {
     "slide_type": "subslide"
    }
   },
   "source": [
    "\n",
    "It is often more \"Pythonic\" to use comprehensions, however."
   ]
  },
  {
   "cell_type": "code",
   "execution_count": null,
   "id": "2a272227",
   "metadata": {},
   "outputs": [],
   "source": [
    "[n for n in example_values if n > 2]"
   ]
  },
  {
   "cell_type": "code",
   "execution_count": null,
   "id": "bc1fabef",
   "metadata": {},
   "outputs": [],
   "source": []
  }
 ],
 "metadata": {
  "kernelspec": {
   "display_name": "Python 3 (ipykernel)",
   "language": "python",
   "name": "python3"
  }
 },
 "nbformat": 4,
 "nbformat_minor": 5
}
