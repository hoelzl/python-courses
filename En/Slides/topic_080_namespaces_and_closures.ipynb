{
 "cells": [
  {
   "cell_type": "markdown",
   "id": "7e55edf19f567e1b",
   "metadata": {
    "lang": "en",
    "slideshow": {
     "slide_type": "slide"
    }
   },
   "source": [
    "<img src=\"img/python-logo-no-text.svg\"\n",
    "     style=\"display:block;margin:auto;width:10%\"/>\n",
    "<br>\n",
    "<div style=\"text-align:center; font-size:200%;\"><b>Namespaces and Closures</b></div>\n",
    "<br/>\n",
    "<div style=\"text-align:center;\">Dr. Matthias Hölzl</div>"
   ]
  },
  {
   "cell_type": "markdown",
   "id": "e1ac59c4869a91e6",
   "metadata": {
    "lang": "en",
    "slideshow": {
     "slide_type": "slide"
    }
   },
   "source": [
    "# Namespaces\n",
    "\n",
    "Variables and function names exist in a *namespace*.\n",
    "\n",
    "- Global variables and function names are in the global namespace.\n",
    "- Names imported with `import` exist in the imported namespace.\n",
    "- Names defined within a function are in that function's namespace.\n",
    "    - parameters\n",
    "    - local variables\n",
    "\n",
    "A function's namespace \"disappears\" at the end of the body."
   ]
  },
  {
   "cell_type": "code",
   "execution_count": null,
   "id": "c415aec405dc6d8e",
   "metadata": {
    "slideshow": {
     "slide_type": "subslide"
    },
    "tags": [
     "keep"
    ]
   },
   "outputs": [],
   "source": [
    "# Ohne Angabe der Namensräume, siehe nächste Folie\n",
    "# fmt: off\n",
    "a = 1\n",
    "\n",
    "def f(x):\n",
    "    # print(a) # Was passiert, wenn diese Zeile einkommentiert wird?\n",
    "    a = x + 1\n",
    "    print(a)\n",
    "\n",
    "f(2)\n",
    "print(a)\n",
    "# print(x)\n",
    "# fmt: on"
   ]
  },
  {
   "cell_type": "code",
   "execution_count": null,
   "id": "74002859de3624f1",
   "metadata": {
    "slideshow": {
     "slide_type": "subslide"
    },
    "tags": [
     "keep"
    ]
   },
   "outputs": [],
   "source": [
    "# fmt: off\n",
    "a = 1         # Globaler Namespace\n",
    "\n",
    "def f(x):     # Namespace von f - x ist im globalen Namespace *nicht* sichtbar\n",
    "    a = x + 1 # Namespace von f - a ist im globalen Namespace *nicht* sichtbar\n",
    "    print(a)  # Greift auf a aus dem Namespace von f zu\n",
    "\n",
    "f(2)\n",
    "print(a)      # Greift auf a aus dem globalen Namespace zu\n",
    "# print(x)    # Fehler: x ist im Namespace von f\n",
    "# fmt: on"
   ]
  },
  {
   "cell_type": "code",
   "execution_count": null,
   "id": "852a1c698396d0c5",
   "metadata": {
    "slideshow": {
     "slide_type": "subslide"
    },
    "tags": [
     "keep"
    ]
   },
   "outputs": [],
   "source": [
    "# fmt: off\n",
    "a = 1\n",
    "\n",
    "def f2(x):\n",
    "    global a\n",
    "    a = x + 1\n",
    "    print(a)\n",
    "\n",
    "f2(2)\n",
    "print(a)\n",
    "a = 5\n",
    "print(a)\n",
    "# fmt: on"
   ]
  },
  {
   "cell_type": "code",
   "execution_count": null,
   "id": "5f2ac645b6d18190",
   "metadata": {},
   "outputs": [],
   "source": [
    "from dis import dis"
   ]
  },
  {
   "cell_type": "code",
   "execution_count": null,
   "id": "5be1ae39a18584fb",
   "metadata": {},
   "outputs": [],
   "source": [
    "dis(f)"
   ]
  },
  {
   "cell_type": "code",
   "execution_count": null,
   "id": "08234092caf5e47f",
   "metadata": {},
   "outputs": [],
   "source": [
    "dis(f2)"
   ]
  },
  {
   "cell_type": "code",
   "execution_count": null,
   "id": "715f623dcaa8b733",
   "metadata": {
    "lines_to_next_cell": 1
   },
   "outputs": [],
   "source": [
    "# fmt: off\n",
    "a = 1\n",
    "\n",
    "def f_broken():\n",
    "    # noinspection PyUnresolvedReferences\n",
    "    print(a)\n",
    "    a = 2\n",
    "# fmt: on"
   ]
  },
  {
   "cell_type": "code",
   "execution_count": null,
   "id": "81e07f5411c02ac9",
   "metadata": {},
   "outputs": [],
   "source": [
    "# f_broken()"
   ]
  },
  {
   "cell_type": "code",
   "execution_count": null,
   "id": "64c2540f4a8bcdcd",
   "metadata": {},
   "outputs": [],
   "source": [
    "dis(f_broken)"
   ]
  },
  {
   "cell_type": "markdown",
   "id": "11143473f50016bf",
   "metadata": {
    "lang": "en",
    "slideshow": {
     "slide_type": "subslide"
    }
   },
   "source": [
    "\n",
    "*Note:* In Python bodies of `if` and `for` statements do not introduce a\n",
    "nested namespaces; variables defined in these bodies belong to the surrounding\n",
    "namespace."
   ]
  },
  {
   "cell_type": "code",
   "execution_count": null,
   "id": "9ed29aa7741f6087",
   "metadata": {},
   "outputs": [],
   "source": [
    "if True:\n",
    "    x = 123"
   ]
  },
  {
   "cell_type": "code",
   "execution_count": null,
   "id": "fada0564b53cda5f",
   "metadata": {},
   "outputs": [],
   "source": [
    "print(x)"
   ]
  },
  {
   "cell_type": "code",
   "execution_count": null,
   "id": "ab0e6670acf3e36c",
   "metadata": {},
   "outputs": [],
   "source": [
    "for my_index in range(3):\n",
    "    y = my_index"
   ]
  },
  {
   "cell_type": "code",
   "execution_count": null,
   "id": "cdf1cfa9b29c8a31",
   "metadata": {},
   "outputs": [],
   "source": [
    "print(my_index)\n",
    "print(y)"
   ]
  },
  {
   "cell_type": "markdown",
   "id": "1cc41c79b40e1270",
   "metadata": {
    "lang": "en",
    "slideshow": {
     "slide_type": "slide"
    }
   },
   "source": [
    "\n",
    "# Functions\n",
    "\n",
    "In Python functions are first class objects, i.e., they can be referenced by\n",
    "variables, passed as arguments to functions, etc.\n",
    "\n",
    "Functions have type `Callable`."
   ]
  },
  {
   "cell_type": "code",
   "execution_count": null,
   "id": "d7efbec68e4d0b7f",
   "metadata": {},
   "outputs": [],
   "source": [
    "print(open.__name__)"
   ]
  },
  {
   "cell_type": "code",
   "execution_count": null,
   "id": "e8cc46259d75dc05",
   "metadata": {},
   "outputs": [],
   "source": [
    "from typing import Callable"
   ]
  },
  {
   "cell_type": "code",
   "execution_count": null,
   "id": "c4e971f1b956f7c6",
   "metadata": {
    "lines_to_next_cell": 1
   },
   "outputs": [],
   "source": [
    "isinstance(list, Callable)"
   ]
  },
  {
   "cell_type": "code",
   "execution_count": null,
   "id": "5f50239bee02071a",
   "metadata": {
    "slideshow": {
     "slide_type": "subslide"
    }
   },
   "outputs": [],
   "source": [
    "def call_with_two_args(fun):\n",
    "    print(f\"Calling function {fun.__name__!r}\")\n",
    "    result = fun(2, 3)\n",
    "    print(f\"Result is {result}\")\n",
    "    return result"
   ]
  },
  {
   "cell_type": "code",
   "execution_count": null,
   "id": "86f9421c5141e6c5",
   "metadata": {},
   "outputs": [],
   "source": [
    "call_with_two_args(pow)"
   ]
  },
  {
   "cell_type": "code",
   "execution_count": null,
   "id": "ff0aaa81f3e22616",
   "metadata": {},
   "outputs": [],
   "source": [
    "import operator\n",
    "\n",
    "call_with_two_args(operator.add)"
   ]
  },
  {
   "cell_type": "code",
   "execution_count": null,
   "id": "c158368efcd8b563",
   "metadata": {},
   "outputs": [],
   "source": [
    "call_with_two_args(operator.lt)"
   ]
  },
  {
   "cell_type": "code",
   "execution_count": null,
   "id": "bd3068111a3a0a9e",
   "metadata": {},
   "outputs": [],
   "source": [
    "def print_and_add(x, y):\n",
    "    print(f\"x = {x}, y = {y}\")\n",
    "    return x + y"
   ]
  },
  {
   "cell_type": "code",
   "execution_count": null,
   "id": "a790522ffc5b6f60",
   "metadata": {},
   "outputs": [],
   "source": [
    "call_with_two_args(print_and_add)"
   ]
  },
  {
   "cell_type": "markdown",
   "id": "26cc34fab55fda4d",
   "metadata": {
    "lang": "en",
    "slideshow": {
     "slide_type": "subslide"
    }
   },
   "source": [
    "\n",
    "## Mini-workshop \"print truthy elements\"\n",
    "\n",
    "Write a function `print_truthy_elements(a_list: list, fun: Callable)` that\n",
    "prints each element `x` of `a_list` for which `fun(x)` returns a true value.\n",
    "\n",
    "Check the output for the list `example_values` and the functions\n",
    "`greater_than_2()` and `less_than_10()`."
   ]
  },
  {
   "cell_type": "code",
   "execution_count": null,
   "id": "b65fd9e8d68e6184",
   "metadata": {
    "lines_to_next_cell": 1,
    "tags": [
     "keep"
    ]
   },
   "outputs": [],
   "source": [
    "example_values = [1, 2, 3, 9, 10]"
   ]
  },
  {
   "cell_type": "code",
   "execution_count": null,
   "id": "06f93d7ce9888826",
   "metadata": {
    "tags": [
     "keep"
    ]
   },
   "outputs": [],
   "source": [
    "def greater_than_2(n):\n",
    "    return n > 2"
   ]
  },
  {
   "cell_type": "code",
   "execution_count": null,
   "id": "92413acdcba3edc0",
   "metadata": {
    "tags": [
     "keep"
    ]
   },
   "outputs": [],
   "source": [
    "def less_than_10(n):\n",
    "    return n < 10"
   ]
  },
  {
   "cell_type": "code",
   "execution_count": null,
   "id": "f88d47c6",
   "metadata": {
    "lines_to_next_cell": 1,
    "tags": [
     "keep"
    ]
   },
   "outputs": [],
   "source": [
    "from typing import Callable"
   ]
  },
  {
   "cell_type": "code",
   "execution_count": null,
   "id": "ed1cd025d6937b1a",
   "metadata": {},
   "outputs": [],
   "source": [
    "def print_truthy_elements(a_list: list, fun: Callable):\n",
    "    for x in a_list:\n",
    "        if fun(x):\n",
    "            print(x)"
   ]
  },
  {
   "cell_type": "code",
   "execution_count": null,
   "id": "bcafa717e88afce6",
   "metadata": {},
   "outputs": [],
   "source": [
    "print_truthy_elements(example_values, greater_than_2)"
   ]
  },
  {
   "cell_type": "code",
   "execution_count": null,
   "id": "6987f0d5758f2958",
   "metadata": {},
   "outputs": [],
   "source": [
    "print_truthy_elements(example_values, less_than_10)"
   ]
  },
  {
   "cell_type": "markdown",
   "id": "4f6d6b5d89e4177f",
   "metadata": {
    "lang": "en",
    "slideshow": {
     "slide_type": "slide"
    }
   },
   "source": [
    "## Closures\n",
    "\n",
    "In Python it is possible to define functions inside other functions. The inner\n",
    "functions can access the variables of the outer function."
   ]
  },
  {
   "cell_type": "code",
   "execution_count": null,
   "id": "c9b6a8c79305cad5",
   "metadata": {
    "lines_to_next_cell": 1,
    "tags": [
     "keep"
    ]
   },
   "outputs": [],
   "source": [
    "from random import randint"
   ]
  },
  {
   "cell_type": "code",
   "execution_count": null,
   "id": "6b7e7459d3ffa032",
   "metadata": {},
   "outputs": [],
   "source": [
    "def generate_random_value():\n",
    "    return randint(1, 4)"
   ]
  },
  {
   "cell_type": "code",
   "execution_count": null,
   "id": "9112c2294adc3e38",
   "metadata": {},
   "outputs": [],
   "source": [
    "generate_random_value()"
   ]
  },
  {
   "cell_type": "code",
   "execution_count": null,
   "id": "ccb3593d",
   "metadata": {
    "slideshow": {
     "slide_type": "subslide"
    }
   },
   "outputs": [],
   "source": [
    "from dis import dis"
   ]
  },
  {
   "cell_type": "code",
   "execution_count": null,
   "id": "375233c9e526f047",
   "metadata": {},
   "outputs": [],
   "source": [
    "dis(generate_random_value)"
   ]
  },
  {
   "cell_type": "code",
   "execution_count": null,
   "id": "5637e2564e679b79",
   "metadata": {
    "slideshow": {
     "slide_type": "subslide"
    }
   },
   "outputs": [],
   "source": [
    "def make_and_call_nested_function():\n",
    "    def return_random_value():\n",
    "        return randint(1, 4)\n",
    "\n",
    "    return return_random_value()"
   ]
  },
  {
   "cell_type": "code",
   "execution_count": null,
   "id": "7c7783608266d38d",
   "metadata": {},
   "outputs": [],
   "source": [
    "make_and_call_nested_function()"
   ]
  },
  {
   "cell_type": "code",
   "execution_count": null,
   "id": "027e7d69c0ca59ad",
   "metadata": {
    "lines_to_next_cell": 1
   },
   "outputs": [],
   "source": [
    "dis(make_and_call_nested_function)"
   ]
  },
  {
   "cell_type": "code",
   "execution_count": null,
   "id": "95e2e34270bcad17",
   "metadata": {
    "slideshow": {
     "slide_type": "subslide"
    }
   },
   "outputs": [],
   "source": [
    "def make_and_return_nested_function():\n",
    "    def return_random_value():\n",
    "        return randint(1, 4)\n",
    "\n",
    "    return return_random_value"
   ]
  },
  {
   "cell_type": "code",
   "execution_count": null,
   "id": "519dab54d8e0d4dd",
   "metadata": {},
   "outputs": [],
   "source": [
    "my_fun = make_and_return_nested_function()\n",
    "my_fun"
   ]
  },
  {
   "cell_type": "code",
   "execution_count": null,
   "id": "a5055073a14375f7",
   "metadata": {},
   "outputs": [],
   "source": [
    "my_fun()"
   ]
  },
  {
   "cell_type": "code",
   "execution_count": null,
   "id": "b8e08fedf8805142",
   "metadata": {
    "lines_to_next_cell": 1
   },
   "outputs": [],
   "source": [
    "dis(make_and_return_nested_function)"
   ]
  },
  {
   "cell_type": "code",
   "execution_count": null,
   "id": "40609b4d81a32a13",
   "metadata": {
    "slideshow": {
     "slide_type": "subslide"
    }
   },
   "outputs": [],
   "source": [
    "def make_closure_1():\n",
    "    local_value = randint(1, 4)\n",
    "\n",
    "    def return_local_value():\n",
    "        return local_value\n",
    "\n",
    "    return return_local_value"
   ]
  },
  {
   "cell_type": "code",
   "execution_count": null,
   "id": "807686b183614292",
   "metadata": {},
   "outputs": [],
   "source": [
    "my_closure_1 = make_closure_1()\n",
    "my_closure_1"
   ]
  },
  {
   "cell_type": "code",
   "execution_count": null,
   "id": "31dc98e358d93cc6",
   "metadata": {},
   "outputs": [],
   "source": [
    "my_closure_1()"
   ]
  },
  {
   "cell_type": "code",
   "execution_count": null,
   "id": "0cf539b58b4c97fe",
   "metadata": {},
   "outputs": [],
   "source": [
    "your_closure_1 = make_closure_1()\n",
    "your_closure_1"
   ]
  },
  {
   "cell_type": "code",
   "execution_count": null,
   "id": "c133227590153070",
   "metadata": {},
   "outputs": [],
   "source": [
    "your_closure_1()"
   ]
  },
  {
   "cell_type": "code",
   "execution_count": null,
   "id": "8d0866285a1a9cf7",
   "metadata": {},
   "outputs": [],
   "source": [
    "dis(make_closure_1)"
   ]
  },
  {
   "cell_type": "code",
   "execution_count": null,
   "id": "735f9f8edb09dc12",
   "metadata": {
    "slideshow": {
     "slide_type": "subslide"
    }
   },
   "outputs": [],
   "source": [
    "def make_closure_2():\n",
    "    local_value = randint(1, 10)\n",
    "\n",
    "    def return_local_value():\n",
    "        return local_value\n",
    "\n",
    "    def inc_local_value():\n",
    "        nonlocal local_value\n",
    "        local_value += 1\n",
    "\n",
    "    return return_local_value, inc_local_value"
   ]
  },
  {
   "cell_type": "code",
   "execution_count": null,
   "id": "97932a235e5a57a6",
   "metadata": {
    "slideshow": {
     "slide_type": "subslide"
    }
   },
   "outputs": [],
   "source": [
    "get_value_1, inc_value_1 = make_closure_2()\n",
    "get_value_2, inc_value_2 = make_closure_2()\n",
    "get_value_1(), get_value_2()"
   ]
  },
  {
   "cell_type": "code",
   "execution_count": null,
   "id": "9a10ef522a1452c4",
   "metadata": {},
   "outputs": [],
   "source": [
    "get_value_1(), get_value_2()"
   ]
  },
  {
   "cell_type": "code",
   "execution_count": null,
   "id": "3179f0b8bdffa92a",
   "metadata": {
    "lines_to_next_cell": 2
   },
   "outputs": [],
   "source": [
    "inc_value_1()\n",
    "get_value_1(), get_value_2()"
   ]
  },
  {
   "cell_type": "code",
   "execution_count": null,
   "id": "743acc73d7878bb8",
   "metadata": {},
   "outputs": [],
   "source": [
    "inc_value_2()\n",
    "get_value_1(), get_value_2()"
   ]
  },
  {
   "cell_type": "code",
   "execution_count": null,
   "id": "edd6b1c290cc09a1",
   "metadata": {
    "slideshow": {
     "slide_type": "subslide"
    }
   },
   "outputs": [],
   "source": [
    "dis(make_closure_2)"
   ]
  },
  {
   "cell_type": "markdown",
   "id": "ef5614b114bfae62",
   "metadata": {
    "lang": "en",
    "lines_to_next_cell": 2,
    "slideshow": {
     "slide_type": "subslide"
    }
   },
   "source": [
    "\n",
    "## Mini-workshop \"mean computation\"\n",
    "\n",
    "Write a function `make_mean_fun()` that returns two closures\n",
    "\n",
    "- a function `add_value(new_value: int)` that appends `new_value` to a list\n",
    "  stored in a local variable `values` of `make_mean_fun()`\n",
    "- a function `compute_mean()` that return the mean value of all values\n",
    "  previously stored in `values`.\n",
    "\n",
    "Do you have to use `nonlocal` to access `value`? Why, or why not?\n",
    "\n",
    "Ensure that your implementation satisfies the provided test cases."
   ]
  },
  {
   "cell_type": "code",
   "execution_count": null,
   "id": "fdb56fef4578a147",
   "metadata": {
    "lines_to_next_cell": 1
   },
   "outputs": [],
   "source": [
    "def make_mean_fun():\n",
    "    values: list[int] = []\n",
    "\n",
    "    def add_value(new_value: int):\n",
    "        values.append(new_value)\n",
    "\n",
    "    def compute_mean():\n",
    "        return sum(values) / len(values)\n",
    "\n",
    "    return add_value, compute_mean"
   ]
  },
  {
   "cell_type": "markdown",
   "id": "5656a511a7429269",
   "metadata": {
    "lang": "en"
   },
   "source": [
    "\n",
    "Test cases:"
   ]
  },
  {
   "cell_type": "code",
   "execution_count": null,
   "id": "300355c49d51822e",
   "metadata": {
    "tags": [
     "keep"
    ]
   },
   "outputs": [],
   "source": [
    "add_value_1, compute_mean_1 = make_mean_fun()\n",
    "add_value_2, compute_mean_2 = make_mean_fun()"
   ]
  },
  {
   "cell_type": "code",
   "execution_count": null,
   "id": "b54dbb27269a3eb3",
   "metadata": {
    "tags": [
     "keep"
    ]
   },
   "outputs": [],
   "source": [
    "for i in range(10):\n",
    "    add_value_1(i)\n",
    "\n",
    "for i in range(2, 21, 4):\n",
    "    add_value_2(i)"
   ]
  },
  {
   "cell_type": "code",
   "execution_count": null,
   "id": "13d975ba7379e132",
   "metadata": {
    "tags": [
     "keep"
    ]
   },
   "outputs": [],
   "source": [
    "assert compute_mean_1() == 4.5"
   ]
  },
  {
   "cell_type": "code",
   "execution_count": null,
   "id": "654c0da1680cb517",
   "metadata": {
    "lines_to_next_cell": 1,
    "tags": [
     "keep"
    ]
   },
   "outputs": [],
   "source": [
    "assert compute_mean_2() == 10.0"
   ]
  },
  {
   "cell_type": "markdown",
   "id": "e5ba52a78d2fe51c",
   "metadata": {
    "lang": "en"
   },
   "source": [
    "\n",
    "Write a function `make_mean_fun_2()` that returns closures with similar\n",
    "functionality but stores only the number of added elements and their total\n",
    "sum.\n",
    "\n",
    "Do you have to use `nonlocal` to access the closure variables in this case?\n",
    "Why, or why not?"
   ]
  },
  {
   "cell_type": "code",
   "execution_count": null,
   "id": "12e1a5de74acf033",
   "metadata": {},
   "outputs": [],
   "source": [
    "def make_mean_fun_2():\n",
    "    sum_of_values: int = 0\n",
    "    num_values: int = 0\n",
    "\n",
    "    def add_value(new_value: int):\n",
    "        nonlocal sum_of_values, num_values\n",
    "        sum_of_values += new_value\n",
    "        num_values += 1\n",
    "\n",
    "    def compute_mean():\n",
    "        return sum_of_values / num_values\n",
    "\n",
    "    return add_value, compute_mean"
   ]
  },
  {
   "cell_type": "markdown",
   "id": "3488c48e",
   "metadata": {
    "lang": "en",
    "lines_to_next_cell": 2
   },
   "source": [
    "\n",
    "Test cases:"
   ]
  },
  {
   "cell_type": "code",
   "execution_count": null,
   "id": "678f7837a68fa9e6",
   "metadata": {
    "tags": [
     "keep"
    ]
   },
   "outputs": [],
   "source": [
    "add_value_3, compute_mean_3 = make_mean_fun_2()\n",
    "add_value_4, compute_mean_4 = make_mean_fun_2()"
   ]
  },
  {
   "cell_type": "code",
   "execution_count": null,
   "id": "45fcf56a9ba1337c",
   "metadata": {
    "tags": [
     "keep"
    ]
   },
   "outputs": [],
   "source": [
    "for i in range(10):\n",
    "    add_value_3(i)"
   ]
  },
  {
   "cell_type": "code",
   "execution_count": null,
   "id": "a6c0bf4864fad029",
   "metadata": {
    "tags": [
     "keep"
    ]
   },
   "outputs": [],
   "source": [
    "for i in range(2, 21, 4):\n",
    "    add_value_4(i)"
   ]
  },
  {
   "cell_type": "code",
   "execution_count": null,
   "id": "73952c56fc1ad3f9",
   "metadata": {
    "tags": [
     "keep"
    ]
   },
   "outputs": [],
   "source": [
    "assert compute_mean_3() == 4.5"
   ]
  },
  {
   "cell_type": "code",
   "execution_count": null,
   "id": "971a02985c0d7567",
   "metadata": {
    "tags": [
     "keep"
    ]
   },
   "outputs": [],
   "source": [
    "assert compute_mean_4() == 10.0"
   ]
  },
  {
   "cell_type": "markdown",
   "id": "e27fbb5371bbd934",
   "metadata": {
    "lang": "en",
    "slideshow": {
     "slide_type": "slide"
    }
   },
   "source": [
    "\n",
    "# Anonymous functions\n",
    "\n",
    "For short functions that are only used in a single place it is often\n",
    "inconvenient to provide a named function definition:"
   ]
  },
  {
   "cell_type": "code",
   "execution_count": null,
   "id": "02979cf8",
   "metadata": {
    "slideshow": {
     "slide_type": "subslide"
    },
    "tags": [
     "keep"
    ]
   },
   "outputs": [],
   "source": [
    "example_values = [1, 2, 3, 9, 10]"
   ]
  },
  {
   "cell_type": "code",
   "execution_count": null,
   "id": "7cc28e28",
   "metadata": {
    "tags": [
     "keep"
    ]
   },
   "outputs": [],
   "source": [
    "def greater_than_2(n):\n",
    "    return n > 2"
   ]
  },
  {
   "cell_type": "code",
   "execution_count": null,
   "id": "0c1e5835",
   "metadata": {
    "tags": [
     "keep"
    ]
   },
   "outputs": [],
   "source": [
    "def less_than_10(n):\n",
    "    return n < 10"
   ]
  },
  {
   "cell_type": "code",
   "execution_count": null,
   "id": "f7fb276f",
   "metadata": {
    "lines_to_next_cell": 1,
    "tags": [
     "keep"
    ]
   },
   "outputs": [],
   "source": [
    "from typing import Callable"
   ]
  },
  {
   "cell_type": "code",
   "execution_count": null,
   "id": "928b3379",
   "metadata": {
    "tags": [
     "keep"
    ]
   },
   "outputs": [],
   "source": [
    "def print_truthy_elements(a_list: list, fun: Callable):\n",
    "    for x in a_list:\n",
    "        if fun(x):\n",
    "            print(x)"
   ]
  },
  {
   "cell_type": "code",
   "execution_count": null,
   "id": "8e37a1f4",
   "metadata": {},
   "outputs": [],
   "source": [
    "print_truthy_elements(example_values, greater_than_2)"
   ]
  },
  {
   "cell_type": "code",
   "execution_count": null,
   "id": "fbee26df",
   "metadata": {},
   "outputs": [],
   "source": [
    "print_truthy_elements(example_values, less_than_10)"
   ]
  },
  {
   "cell_type": "markdown",
   "id": "13f3936c18d85884",
   "metadata": {
    "lang": "en",
    "slideshow": {
     "slide_type": "subslide"
    }
   },
   "source": [
    "\n",
    "For these cases Python offers lambda expressions as a syntactically simpler\n",
    "alternative:"
   ]
  },
  {
   "cell_type": "code",
   "execution_count": null,
   "id": "fe65c7ddf87e99d2",
   "metadata": {},
   "outputs": [],
   "source": [
    "print_truthy_elements(example_values, lambda n: n > 2)"
   ]
  },
  {
   "cell_type": "code",
   "execution_count": null,
   "id": "3568db1179da49d2",
   "metadata": {},
   "outputs": [],
   "source": [
    "print_truthy_elements(example_values, lambda n: n < 10)"
   ]
  },
  {
   "cell_type": "code",
   "execution_count": null,
   "id": "a77af561ec0dc522",
   "metadata": {},
   "outputs": [],
   "source": [
    "print_truthy_elements(example_values, lambda n: n % 2 == 0)"
   ]
  },
  {
   "cell_type": "code",
   "execution_count": null,
   "id": "215f1218f9d39ae0",
   "metadata": {},
   "outputs": [],
   "source": [
    "call_with_two_args(lambda x, y: 2 * x + y**2)"
   ]
  },
  {
   "cell_type": "markdown",
   "id": "51ddb7c0de79bf4b",
   "metadata": {
    "lang": "en",
    "slideshow": {
     "slide_type": "subslide"
    }
   },
   "source": [
    "\n",
    "Many functions for sequences work well with lambdas:"
   ]
  },
  {
   "cell_type": "code",
   "execution_count": null,
   "id": "b90e689e27115552",
   "metadata": {},
   "outputs": [],
   "source": [
    "filter(lambda n: n > 2, example_values)"
   ]
  },
  {
   "cell_type": "code",
   "execution_count": null,
   "id": "99b816b7d1edee3f",
   "metadata": {},
   "outputs": [],
   "source": [
    "list(filter(lambda n: n > 2, example_values))"
   ]
  },
  {
   "cell_type": "markdown",
   "id": "30b861f19ced6224",
   "metadata": {
    "lang": "en",
    "lines_to_next_cell": 2,
    "slideshow": {
     "slide_type": "subslide"
    }
   },
   "source": [
    "\n",
    "It is often more \"Pythonic\" to use comprehensions, however."
   ]
  },
  {
   "cell_type": "code",
   "execution_count": null,
   "id": "f34fc629c0083f4e",
   "metadata": {},
   "outputs": [],
   "source": [
    "[n for n in example_values if n > 2]"
   ]
  },
  {
   "cell_type": "code",
   "execution_count": null,
   "id": "4761882930449ef7",
   "metadata": {},
   "outputs": [],
   "source": []
  }
 ],
 "metadata": {
  "kernelspec": {
   "display_name": "Python 3 (ipykernel)",
   "language": "python",
   "name": "python3"
  }
 },
 "nbformat": 4,
 "nbformat_minor": 5
}
