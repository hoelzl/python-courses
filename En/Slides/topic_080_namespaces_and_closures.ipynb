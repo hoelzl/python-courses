{
 "cells": [
  {
   "cell_type": "markdown",
   "id": "9e3f3f93",
   "metadata": {
    "lang": "en",
    "slideshow": {
     "slide_type": "slide"
    }
   },
   "source": [
    "<img src=\"img/python-logo-notext.svg\"\n",
    "     style=\"display:block;margin:auto;width:10%\"/>\n",
    "<br>\n",
    "<div style=\"text-align:center; font-size:200%;\"><b>Namespaces and Closures</b></div>\n",
    "<br/>\n",
    "<div style=\"text-align:center;\">Dr. Matthias Hölzl</div>"
   ]
  },
  {
   "cell_type": "markdown",
   "id": "05ac2f5c",
   "metadata": {
    "lang": "en",
    "slideshow": {
     "slide_type": "slide"
    }
   },
   "source": [
    "# Namespaces\n",
    "\n",
    "Variables and function names exist in a *namespace*.\n",
    "\n",
    "- Global variables and function names are in the global namespace.\n",
    "- Names imported with `import` exist in the imported namespace.\n",
    "- Names defined within a function are in that function's namespace.\n",
    "    - parameters\n",
    "    - local variables\n",
    "\n",
    "A function's namespace \"disappears\" at the end of the body."
   ]
  },
  {
   "cell_type": "code",
   "execution_count": null,
   "id": "ed84c7fd",
   "metadata": {
    "slideshow": {
     "slide_type": "subslide"
    },
    "tags": [
     "keep"
    ]
   },
   "outputs": [],
   "source": [
    "# Ohne Angabe der Namensräume, siehe nächste Folie\n",
    "# fmt: off\n",
    "a = 1\n",
    "\n",
    "def f(x):\n",
    "    # print(a) # Was passiert, wenn diese Zeile einkommentiert wird?\n",
    "    a = x + 1\n",
    "    print(a)\n",
    "\n",
    "f(2)\n",
    "print(a)\n",
    "# print(x)\n",
    "# fmt: on"
   ]
  },
  {
   "cell_type": "code",
   "execution_count": null,
   "id": "19a138c6",
   "metadata": {
    "slideshow": {
     "slide_type": "subslide"
    },
    "tags": [
     "keep"
    ]
   },
   "outputs": [],
   "source": [
    "# fmt: off\n",
    "a = 1         # Globaler Namespace\n",
    "\n",
    "def f(x):     # Namespace von f - x ist im globalen Namespace *nicht* sichtbar\n",
    "    a = x + 1 # Namespace von f - a ist im globalen Namespace *nicht* sichtbar\n",
    "    print(a)  # Greift auf a aus dem Namespace von f zu\n",
    "\n",
    "f(2)\n",
    "print(a)      # Greift auf a aus dem globalen Namespace zu\n",
    "# print(x)    # Fehler: x ist im Namespace von f\n",
    "# fmt: on"
   ]
  },
  {
   "cell_type": "code",
   "execution_count": null,
   "id": "c603ddaf",
   "metadata": {
    "slideshow": {
     "slide_type": "subslide"
    },
    "tags": [
     "keep"
    ]
   },
   "outputs": [],
   "source": [
    "# fmt: off\n",
    "a = 1\n",
    "\n",
    "def f2(x):\n",
    "    global a\n",
    "    a = x + 1\n",
    "    print(a)\n",
    "\n",
    "f2(2)\n",
    "print(a)\n",
    "a = 5\n",
    "print(a)\n",
    "# fmt: on"
   ]
  },
  {
   "cell_type": "code",
   "execution_count": null,
   "id": "663c689b",
   "metadata": {},
   "outputs": [],
   "source": [
    "from dis import dis"
   ]
  },
  {
   "cell_type": "code",
   "execution_count": null,
   "id": "ecb271a6",
   "metadata": {},
   "outputs": [],
   "source": [
    "dis(f)"
   ]
  },
  {
   "cell_type": "code",
   "execution_count": null,
   "id": "e2db2a51",
   "metadata": {},
   "outputs": [],
   "source": [
    "dis(f2)"
   ]
  },
  {
   "cell_type": "code",
   "execution_count": null,
   "id": "58b948f7",
   "metadata": {
    "lines_to_next_cell": 1
   },
   "outputs": [],
   "source": [
    "# fmt: off\n",
    "a = 1\n",
    "\n",
    "def f_broken():\n",
    "    # noinspection PyUnresolvedReferences\n",
    "    print(a)\n",
    "    a = 2\n",
    "# fmt: on"
   ]
  },
  {
   "cell_type": "code",
   "execution_count": null,
   "id": "9501eca1",
   "metadata": {},
   "outputs": [],
   "source": [
    "# f_broken()"
   ]
  },
  {
   "cell_type": "code",
   "execution_count": null,
   "id": "846f9c96",
   "metadata": {},
   "outputs": [],
   "source": [
    "dis(f_broken)"
   ]
  },
  {
   "cell_type": "markdown",
   "id": "ff20f27d",
   "metadata": {
    "lang": "en",
    "slideshow": {
     "slide_type": "subslide"
    }
   },
   "source": [
    "\n",
    "*Note:* In Python bodies of `if` and `for` statements do not introduce a\n",
    "nested namespaces; variables defined in these bodies belong to the surrounding\n",
    "namespace."
   ]
  },
  {
   "cell_type": "code",
   "execution_count": null,
   "id": "e6b4d4a0",
   "metadata": {},
   "outputs": [],
   "source": [
    "if True:\n",
    "    x = 123"
   ]
  },
  {
   "cell_type": "code",
   "execution_count": null,
   "id": "8ab7d280",
   "metadata": {},
   "outputs": [],
   "source": [
    "print(x)"
   ]
  },
  {
   "cell_type": "code",
   "execution_count": null,
   "id": "d9a65b2a",
   "metadata": {},
   "outputs": [],
   "source": [
    "for my_index in range(3):\n",
    "    y = my_index"
   ]
  },
  {
   "cell_type": "code",
   "execution_count": null,
   "id": "c4538986",
   "metadata": {},
   "outputs": [],
   "source": [
    "print(my_index)\n",
    "print(y)"
   ]
  },
  {
   "cell_type": "markdown",
   "id": "5093f4c4",
   "metadata": {
    "lang": "en",
    "slideshow": {
     "slide_type": "slide"
    }
   },
   "source": [
    "\n",
    "# Functions\n",
    "\n",
    "In Python functions are first class objects, i.e., they can be referenced by\n",
    "variables, passed as arguments to functions, etc.\n",
    "\n",
    "Functions have type `Callable`."
   ]
  },
  {
   "cell_type": "code",
   "execution_count": null,
   "id": "77b27ad6",
   "metadata": {},
   "outputs": [],
   "source": [
    "print(open.__name__)"
   ]
  },
  {
   "cell_type": "code",
   "execution_count": null,
   "id": "417b828d",
   "metadata": {},
   "outputs": [],
   "source": [
    "from typing import Callable"
   ]
  },
  {
   "cell_type": "code",
   "execution_count": null,
   "id": "ce5a704d",
   "metadata": {
    "lines_to_next_cell": 1
   },
   "outputs": [],
   "source": [
    "isinstance(list, Callable)"
   ]
  },
  {
   "cell_type": "code",
   "execution_count": null,
   "id": "c9db37ca",
   "metadata": {
    "slideshow": {
     "slide_type": "subslide"
    }
   },
   "outputs": [],
   "source": [
    "def call_with_two_args(fun):\n",
    "    print(f\"Calling function {fun.__name__!r}\")\n",
    "    result = fun(2, 3)\n",
    "    print(f\"Result is {result}\")\n",
    "    return result"
   ]
  },
  {
   "cell_type": "code",
   "execution_count": null,
   "id": "401fa5e9",
   "metadata": {},
   "outputs": [],
   "source": [
    "call_with_two_args(pow)"
   ]
  },
  {
   "cell_type": "code",
   "execution_count": null,
   "id": "041307f0",
   "metadata": {},
   "outputs": [],
   "source": [
    "import operator\n",
    "\n",
    "call_with_two_args(operator.add)"
   ]
  },
  {
   "cell_type": "code",
   "execution_count": null,
   "id": "dfe5f9e6",
   "metadata": {},
   "outputs": [],
   "source": [
    "call_with_two_args(operator.lt)"
   ]
  },
  {
   "cell_type": "code",
   "execution_count": null,
   "id": "6c5f0bbd",
   "metadata": {},
   "outputs": [],
   "source": [
    "def print_and_add(x, y):\n",
    "    print(f\"x = {x}, y = {y}\")\n",
    "    return x + y"
   ]
  },
  {
   "cell_type": "code",
   "execution_count": null,
   "id": "4e4efd56",
   "metadata": {},
   "outputs": [],
   "source": [
    "call_with_two_args(print_and_add)"
   ]
  },
  {
   "cell_type": "markdown",
   "id": "da01ff24",
   "metadata": {
    "lang": "en",
    "slideshow": {
     "slide_type": "subslide"
    }
   },
   "source": [
    "\n",
    "## Mini-workshop \"print truthy elements\"\n",
    "\n",
    "Write a function `print_truthy_elements(a_list: list, fun: Callable)` that\n",
    "prints each element `x` of `a_list` for which `fun(x)` returns a true value.\n",
    "\n",
    "Check the output for the list `example_values` and the functions\n",
    "`greater_than_2()` and `less_than_10()`."
   ]
  },
  {
   "cell_type": "code",
   "execution_count": null,
   "id": "b373f503",
   "metadata": {
    "lines_to_next_cell": 1,
    "tags": [
     "keep"
    ]
   },
   "outputs": [],
   "source": [
    "example_values = [1, 2, 3, 9, 10]"
   ]
  },
  {
   "cell_type": "code",
   "execution_count": null,
   "id": "c8fe6592",
   "metadata": {
    "tags": [
     "keep"
    ]
   },
   "outputs": [],
   "source": [
    "def greater_than_2(n):\n",
    "    return n > 2"
   ]
  },
  {
   "cell_type": "code",
   "execution_count": null,
   "id": "6f0411ca",
   "metadata": {
    "tags": [
     "keep"
    ]
   },
   "outputs": [],
   "source": [
    "def less_than_10(n):\n",
    "    return n < 10"
   ]
  },
  {
   "cell_type": "code",
   "execution_count": null,
   "id": "76e0fe40",
   "metadata": {
    "lines_to_next_cell": 1,
    "tags": [
     "keep"
    ]
   },
   "outputs": [],
   "source": [
    "from typing import Callable"
   ]
  },
  {
   "cell_type": "code",
   "execution_count": null,
   "id": "d78b4d81",
   "metadata": {},
   "outputs": [],
   "source": [
    "def print_truthy_elements(a_list: list, fun: Callable):\n",
    "    for x in a_list:\n",
    "        if fun(x):\n",
    "            print(x)"
   ]
  },
  {
   "cell_type": "code",
   "execution_count": null,
   "id": "b8c7b7fb",
   "metadata": {},
   "outputs": [],
   "source": [
    "print_truthy_elements(example_values, greater_than_2)"
   ]
  },
  {
   "cell_type": "code",
   "execution_count": null,
   "id": "cec3e426",
   "metadata": {},
   "outputs": [],
   "source": [
    "print_truthy_elements(example_values, less_than_10)"
   ]
  },
  {
   "cell_type": "markdown",
   "id": "3fa0f0fc",
   "metadata": {
    "lang": "en",
    "slideshow": {
     "slide_type": "slide"
    }
   },
   "source": [
    "## Closures\n",
    "\n",
    "In Python it is possible to define functions inside other functions. The inner\n",
    "functions can access the variables of the outer function."
   ]
  },
  {
   "cell_type": "code",
   "execution_count": null,
   "id": "7c5d2a14",
   "metadata": {
    "lines_to_next_cell": 1,
    "tags": [
     "keep"
    ]
   },
   "outputs": [],
   "source": [
    "from random import randint"
   ]
  },
  {
   "cell_type": "code",
   "execution_count": null,
   "id": "63ea8916",
   "metadata": {},
   "outputs": [],
   "source": [
    "def generate_random_value():\n",
    "    return randint(1, 4)"
   ]
  },
  {
   "cell_type": "code",
   "execution_count": null,
   "id": "1a909e68",
   "metadata": {},
   "outputs": [],
   "source": [
    "generate_random_value()"
   ]
  },
  {
   "cell_type": "code",
   "execution_count": null,
   "id": "282be49c",
   "metadata": {
    "slideshow": {
     "slide_type": "subslide"
    }
   },
   "outputs": [],
   "source": [
    "from dis import dis"
   ]
  },
  {
   "cell_type": "code",
   "execution_count": null,
   "id": "62efa7b9",
   "metadata": {},
   "outputs": [],
   "source": [
    "dis(generate_random_value)"
   ]
  },
  {
   "cell_type": "code",
   "execution_count": null,
   "id": "ec06534c",
   "metadata": {
    "slideshow": {
     "slide_type": "subslide"
    }
   },
   "outputs": [],
   "source": [
    "def make_and_call_nested_function():\n",
    "    def return_random_value():\n",
    "        return randint(1, 4)\n",
    "\n",
    "    return return_random_value()"
   ]
  },
  {
   "cell_type": "code",
   "execution_count": null,
   "id": "e11eac2c",
   "metadata": {},
   "outputs": [],
   "source": [
    "make_and_call_nested_function()"
   ]
  },
  {
   "cell_type": "code",
   "execution_count": null,
   "id": "3b6c6c3d",
   "metadata": {
    "lines_to_next_cell": 1
   },
   "outputs": [],
   "source": [
    "dis(make_and_call_nested_function)"
   ]
  },
  {
   "cell_type": "code",
   "execution_count": null,
   "id": "98eb8911",
   "metadata": {
    "slideshow": {
     "slide_type": "subslide"
    }
   },
   "outputs": [],
   "source": [
    "def make_and_return_nested_function():\n",
    "    def return_random_value():\n",
    "        return randint(1, 4)\n",
    "\n",
    "    return return_random_value"
   ]
  },
  {
   "cell_type": "code",
   "execution_count": null,
   "id": "a346ae18",
   "metadata": {},
   "outputs": [],
   "source": [
    "my_fun = make_and_return_nested_function()\n",
    "my_fun"
   ]
  },
  {
   "cell_type": "code",
   "execution_count": null,
   "id": "5dd04e7a",
   "metadata": {},
   "outputs": [],
   "source": [
    "my_fun()"
   ]
  },
  {
   "cell_type": "code",
   "execution_count": null,
   "id": "d43f5149",
   "metadata": {
    "lines_to_next_cell": 1
   },
   "outputs": [],
   "source": [
    "dis(make_and_return_nested_function)"
   ]
  },
  {
   "cell_type": "code",
   "execution_count": null,
   "id": "000300c8",
   "metadata": {
    "slideshow": {
     "slide_type": "subslide"
    }
   },
   "outputs": [],
   "source": [
    "def make_closure_1():\n",
    "    local_value = randint(1, 4)\n",
    "\n",
    "    def return_local_value():\n",
    "        return local_value\n",
    "\n",
    "    return return_local_value"
   ]
  },
  {
   "cell_type": "code",
   "execution_count": null,
   "id": "06c829b5",
   "metadata": {},
   "outputs": [],
   "source": [
    "my_closure_1 = make_closure_1()\n",
    "my_closure_1"
   ]
  },
  {
   "cell_type": "code",
   "execution_count": null,
   "id": "fedae38b",
   "metadata": {},
   "outputs": [],
   "source": [
    "my_closure_1()"
   ]
  },
  {
   "cell_type": "code",
   "execution_count": null,
   "id": "02b7d0c0",
   "metadata": {},
   "outputs": [],
   "source": [
    "your_closure_1 = make_closure_1()\n",
    "your_closure_1"
   ]
  },
  {
   "cell_type": "code",
   "execution_count": null,
   "id": "71515f0d",
   "metadata": {},
   "outputs": [],
   "source": [
    "your_closure_1()"
   ]
  },
  {
   "cell_type": "code",
   "execution_count": null,
   "id": "8f6b5568",
   "metadata": {},
   "outputs": [],
   "source": [
    "dis(make_closure_1)"
   ]
  },
  {
   "cell_type": "code",
   "execution_count": null,
   "id": "3820a54b",
   "metadata": {
    "slideshow": {
     "slide_type": "subslide"
    }
   },
   "outputs": [],
   "source": [
    "def make_closure_2():\n",
    "    local_value = randint(1, 10)\n",
    "\n",
    "    def return_local_value():\n",
    "        return local_value\n",
    "\n",
    "    def inc_local_value():\n",
    "        nonlocal local_value\n",
    "        local_value += 1\n",
    "\n",
    "    return return_local_value, inc_local_value"
   ]
  },
  {
   "cell_type": "code",
   "execution_count": null,
   "id": "51f0b49e",
   "metadata": {
    "slideshow": {
     "slide_type": "subslide"
    }
   },
   "outputs": [],
   "source": [
    "get_value_1, inc_value_1 = make_closure_2()\n",
    "get_value_2, inc_value_2 = make_closure_2()\n",
    "get_value_1(), get_value_2()"
   ]
  },
  {
   "cell_type": "code",
   "execution_count": null,
   "id": "e642bee7",
   "metadata": {},
   "outputs": [],
   "source": [
    "get_value_1(), get_value_2()"
   ]
  },
  {
   "cell_type": "code",
   "execution_count": null,
   "id": "2ba816f0",
   "metadata": {
    "lines_to_next_cell": 2
   },
   "outputs": [],
   "source": [
    "inc_value_1()\n",
    "get_value_1(), get_value_2()"
   ]
  },
  {
   "cell_type": "code",
   "execution_count": null,
   "id": "74814b91",
   "metadata": {},
   "outputs": [],
   "source": [
    "inc_value_2()\n",
    "get_value_1(), get_value_2()"
   ]
  },
  {
   "cell_type": "code",
   "execution_count": null,
   "id": "a8459ec5",
   "metadata": {
    "slideshow": {
     "slide_type": "subslide"
    }
   },
   "outputs": [],
   "source": [
    "dis(make_closure_2)"
   ]
  },
  {
   "cell_type": "markdown",
   "id": "2cb85723",
   "metadata": {
    "lang": "en",
    "lines_to_next_cell": 2,
    "slideshow": {
     "slide_type": "subslide"
    }
   },
   "source": [
    "\n",
    "## Mini-workshop \"mean computation\"\n",
    "\n",
    "Write a function `make_mean_fun()` that returns two closures\n",
    "\n",
    "- a function `add_value(new_value: int)` that appends `new_value` to a list\n",
    "  stored in a local variable `values` of `make_mean_fun()`\n",
    "- a function `compute_mean()` that return the mean value of all values\n",
    "  previously stored in `values`.\n",
    "\n",
    "Do you have to use `nonlocal` to access `value`? Why, or why not?\n",
    "\n",
    "Ensure that your implementation satisfies the provided test cases."
   ]
  },
  {
   "cell_type": "code",
   "execution_count": null,
   "id": "1bcab3dd",
   "metadata": {
    "lines_to_next_cell": 1
   },
   "outputs": [],
   "source": [
    "def make_mean_fun():\n",
    "    values: list[int] = []\n",
    "\n",
    "    def add_value(new_value: int):\n",
    "        values.append(new_value)\n",
    "\n",
    "    def compute_mean():\n",
    "        return sum(values) / len(values)\n",
    "\n",
    "    return add_value, compute_mean"
   ]
  },
  {
   "cell_type": "markdown",
   "id": "7e3e857e",
   "metadata": {
    "lang": "en"
   },
   "source": [
    "\n",
    "Test cases:"
   ]
  },
  {
   "cell_type": "code",
   "execution_count": null,
   "id": "6c9347f2",
   "metadata": {
    "tags": [
     "keep"
    ]
   },
   "outputs": [],
   "source": [
    "add_value_1, compute_mean_1 = make_mean_fun()\n",
    "add_value_2, compute_mean_2 = make_mean_fun()"
   ]
  },
  {
   "cell_type": "code",
   "execution_count": null,
   "id": "bb23ed16",
   "metadata": {
    "tags": [
     "keep"
    ]
   },
   "outputs": [],
   "source": [
    "for i in range(10):\n",
    "    add_value_1(i)\n",
    "\n",
    "for i in range(2, 21, 4):\n",
    "    add_value_2(i)"
   ]
  },
  {
   "cell_type": "code",
   "execution_count": null,
   "id": "22bf526b",
   "metadata": {
    "tags": [
     "keep"
    ]
   },
   "outputs": [],
   "source": [
    "assert compute_mean_1() == 4.5"
   ]
  },
  {
   "cell_type": "code",
   "execution_count": null,
   "id": "f0d0da84",
   "metadata": {
    "lines_to_next_cell": 1,
    "tags": [
     "keep"
    ]
   },
   "outputs": [],
   "source": [
    "assert compute_mean_2() == 10.0"
   ]
  },
  {
   "cell_type": "markdown",
   "id": "2f50d131",
   "metadata": {
    "lang": "en"
   },
   "source": [
    "\n",
    "Write a function `make_mean_fun_2()` that returns closures with similar\n",
    "functionality but stores only the number of added elements and their total\n",
    "sum.\n",
    "\n",
    "Do you have to use `nonlocal` to access the closure variables in this case?\n",
    "Why, or why not?"
   ]
  },
  {
   "cell_type": "code",
   "execution_count": null,
   "id": "8563478d",
   "metadata": {},
   "outputs": [],
   "source": [
    "def make_mean_fun_2():\n",
    "    sum_of_values: int = 0\n",
    "    num_values: int = 0\n",
    "\n",
    "    def add_value(new_value: int):\n",
    "        nonlocal sum_of_values, num_values\n",
    "        sum_of_values += new_value\n",
    "        num_values += 1\n",
    "\n",
    "    def compute_mean():\n",
    "        return sum_of_values / num_values\n",
    "\n",
    "    return add_value, compute_mean"
   ]
  },
  {
   "cell_type": "markdown",
   "id": "496323f2",
   "metadata": {
    "lang": "en",
    "lines_to_next_cell": 2
   },
   "source": [
    "\n",
    "Test cases:"
   ]
  },
  {
   "cell_type": "code",
   "execution_count": null,
   "id": "1a943963",
   "metadata": {
    "tags": [
     "keep"
    ]
   },
   "outputs": [],
   "source": [
    "add_value_3, compute_mean_3 = make_mean_fun_2()\n",
    "add_value_4, compute_mean_4 = make_mean_fun_2()"
   ]
  },
  {
   "cell_type": "code",
   "execution_count": null,
   "id": "b8b65799",
   "metadata": {
    "tags": [
     "keep"
    ]
   },
   "outputs": [],
   "source": [
    "for i in range(10):\n",
    "    add_value_3(i)"
   ]
  },
  {
   "cell_type": "code",
   "execution_count": null,
   "id": "9439d728",
   "metadata": {
    "tags": [
     "keep"
    ]
   },
   "outputs": [],
   "source": [
    "for i in range(2, 21, 4):\n",
    "    add_value_4(i)"
   ]
  },
  {
   "cell_type": "code",
   "execution_count": null,
   "id": "fb72226d",
   "metadata": {
    "tags": [
     "keep"
    ]
   },
   "outputs": [],
   "source": [
    "assert compute_mean_3() == 4.5"
   ]
  },
  {
   "cell_type": "code",
   "execution_count": null,
   "id": "7ff2d58c",
   "metadata": {
    "tags": [
     "keep"
    ]
   },
   "outputs": [],
   "source": [
    "assert compute_mean_4() == 10.0"
   ]
  },
  {
   "cell_type": "markdown",
   "id": "d834e32c",
   "metadata": {
    "lang": "en",
    "slideshow": {
     "slide_type": "slide"
    }
   },
   "source": [
    "\n",
    "# Anonymous functions\n",
    "\n",
    "For short functions that are only used in a single place it is often\n",
    "inconvenient to provide a named function definition:"
   ]
  },
  {
   "cell_type": "code",
   "execution_count": null,
   "id": "8edc7e5f",
   "metadata": {
    "slideshow": {
     "slide_type": "subslide"
    },
    "tags": [
     "keep"
    ]
   },
   "outputs": [],
   "source": [
    "example_values = [1, 2, 3, 9, 10]"
   ]
  },
  {
   "cell_type": "code",
   "execution_count": null,
   "id": "0dd87b34",
   "metadata": {
    "tags": [
     "keep"
    ]
   },
   "outputs": [],
   "source": [
    "def greater_than_2(n):\n",
    "    return n > 2"
   ]
  },
  {
   "cell_type": "code",
   "execution_count": null,
   "id": "8e938eed",
   "metadata": {
    "tags": [
     "keep"
    ]
   },
   "outputs": [],
   "source": [
    "def less_than_10(n):\n",
    "    return n < 10"
   ]
  },
  {
   "cell_type": "code",
   "execution_count": null,
   "id": "4326c558",
   "metadata": {
    "lines_to_next_cell": 1,
    "tags": [
     "keep"
    ]
   },
   "outputs": [],
   "source": [
    "from typing import Callable"
   ]
  },
  {
   "cell_type": "code",
   "execution_count": null,
   "id": "43ed7d70",
   "metadata": {
    "tags": [
     "keep"
    ]
   },
   "outputs": [],
   "source": [
    "def print_truthy_elements(a_list: list, fun: Callable):\n",
    "    for x in a_list:\n",
    "        if fun(x):\n",
    "            print(x)"
   ]
  },
  {
   "cell_type": "code",
   "execution_count": null,
   "id": "8c3733cf",
   "metadata": {},
   "outputs": [],
   "source": [
    "print_truthy_elements(example_values, greater_than_2)"
   ]
  },
  {
   "cell_type": "code",
   "execution_count": null,
   "id": "12ff0b69",
   "metadata": {},
   "outputs": [],
   "source": [
    "print_truthy_elements(example_values, less_than_10)"
   ]
  },
  {
   "cell_type": "markdown",
   "id": "4e216076",
   "metadata": {
    "lang": "en",
    "slideshow": {
     "slide_type": "subslide"
    }
   },
   "source": [
    "\n",
    "For these cases Python offers lambda expressions as a syntactically simpler\n",
    "alternative:"
   ]
  },
  {
   "cell_type": "code",
   "execution_count": null,
   "id": "0387ada1",
   "metadata": {},
   "outputs": [],
   "source": [
    "print_truthy_elements(example_values, lambda n: n > 2)"
   ]
  },
  {
   "cell_type": "code",
   "execution_count": null,
   "id": "0246e92c",
   "metadata": {},
   "outputs": [],
   "source": [
    "print_truthy_elements(example_values, lambda n: n < 10)"
   ]
  },
  {
   "cell_type": "code",
   "execution_count": null,
   "id": "265e0c11",
   "metadata": {},
   "outputs": [],
   "source": [
    "print_truthy_elements(example_values, lambda n: n % 2 == 0)"
   ]
  },
  {
   "cell_type": "code",
   "execution_count": null,
   "id": "ac999ced",
   "metadata": {},
   "outputs": [],
   "source": [
    "call_with_two_args(lambda x, y: 2 * x + y**2)"
   ]
  },
  {
   "cell_type": "markdown",
   "id": "5f8e2774",
   "metadata": {
    "lang": "en",
    "slideshow": {
     "slide_type": "subslide"
    }
   },
   "source": [
    "\n",
    "Many functions for sequences work well with lambdas:"
   ]
  },
  {
   "cell_type": "code",
   "execution_count": null,
   "id": "61f25e2a",
   "metadata": {},
   "outputs": [],
   "source": [
    "filter(lambda n: n > 2, example_values)"
   ]
  },
  {
   "cell_type": "code",
   "execution_count": null,
   "id": "b931d0bb",
   "metadata": {},
   "outputs": [],
   "source": [
    "list(filter(lambda n: n > 2, example_values))"
   ]
  },
  {
   "cell_type": "markdown",
   "id": "e176ce29",
   "metadata": {
    "lang": "en",
    "lines_to_next_cell": 2,
    "slideshow": {
     "slide_type": "subslide"
    }
   },
   "source": [
    "\n",
    "It is often more \"Pythonic\" to use comprehensions, however."
   ]
  },
  {
   "cell_type": "code",
   "execution_count": null,
   "id": "41e865d4",
   "metadata": {},
   "outputs": [],
   "source": [
    "[n for n in example_values if n > 2]"
   ]
  },
  {
   "cell_type": "code",
   "execution_count": null,
   "id": "53f7fa8f",
   "metadata": {},
   "outputs": [],
   "source": []
  }
 ],
 "metadata": {
  "kernelspec": {
   "display_name": "Python 3 (ipykernel)",
   "language": "python",
   "name": "python3"
  }
 },
 "nbformat": 4,
 "nbformat_minor": 5
}
