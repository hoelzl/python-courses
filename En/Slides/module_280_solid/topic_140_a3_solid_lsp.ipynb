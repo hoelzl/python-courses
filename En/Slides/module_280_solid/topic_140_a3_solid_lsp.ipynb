{
 "cells": [
  {
   "cell_type": "markdown",
   "id": "5e63fe30dea3d94b",
   "metadata": {
    "lang": "en",
    "lines_to_next_cell": 2,
    "slideshow": {
     "slide_type": "slide"
    }
   },
   "source": [
    "<img src=\"../img/python-logo-no-text.png\"\n",
    "     style=\"display:block;margin:auto;width:10%\"/>\n",
    "<br>\n",
    "<div style=\"text-align:center; font-size:200%;\">\n",
    "  <b>SOLID: Liskov Substitution Principle</b>\n",
    "</div>\n",
    "<br/>\n",
    "<div style=\"text-align:center;\">Dr. Matthias Hölzl</div>\n",
    "<br/>\n",
    "<!-- <div style=\"text-align:center;\">module_280_solid/topic_140_a3_solid_lsp</div> -->"
   ]
  },
  {
   "cell_type": "markdown",
   "id": "2740595859222e0b",
   "metadata": {
    "lang": "en",
    "slideshow": {
     "slide_type": "slide"
    }
   },
   "source": [
    "\n",
    "# SOLID: Liskov Substitution Principle\n",
    "\n",
    "It should always be possible to substitute an object of a subclass for an\n",
    "object of its parent class."
   ]
  },
  {
   "cell_type": "markdown",
   "id": "c5f5bf43bb994ef7",
   "metadata": {
    "lang": "en",
    "slideshow": {
     "slide_type": "subslide"
    }
   },
   "source": [
    "\n",
    "## LSP Violation"
   ]
  },
  {
   "cell_type": "code",
   "execution_count": null,
   "id": "3f5203df18900b5a",
   "metadata": {
    "lines_to_next_cell": 1,
    "tags": [
     "keep"
    ]
   },
   "outputs": [],
   "source": [
    "from dataclasses import dataclass"
   ]
  },
  {
   "cell_type": "code",
   "execution_count": null,
   "id": "73572a18d97901b7",
   "metadata": {
    "tags": [
     "keep"
    ]
   },
   "outputs": [],
   "source": [
    "@dataclass\n",
    "class Rectangle:\n",
    "    length: float\n",
    "    width: float\n",
    "\n",
    "    def area(self):\n",
    "        return self.length * self.width"
   ]
  },
  {
   "cell_type": "code",
   "execution_count": null,
   "id": "018fd305739d5b8f",
   "metadata": {
    "tags": [
     "keep"
    ]
   },
   "outputs": [],
   "source": [
    "class Square(Rectangle):\n",
    "    def __init__(self, length, width):\n",
    "        super().__init__(length, length)\n",
    "\n",
    "    @property\n",
    "    def length(self):\n",
    "        return self.__dict__[\"length\"]\n",
    "\n",
    "    @length.setter\n",
    "    def length(self, new_value):\n",
    "        self.__dict__[\"length\"] = new_value\n",
    "        self.__dict__[\"width\"] = new_value\n",
    "\n",
    "    @property\n",
    "    def width(self):\n",
    "        return self.__dict__[\"length\"]\n",
    "\n",
    "    @width.setter\n",
    "    def width(self, new_value):\n",
    "        self.__dict__[\"length\"] = new_value\n",
    "        self.__dict__[\"width\"] = new_value"
   ]
  },
  {
   "cell_type": "code",
   "execution_count": null,
   "id": "b3bed72481bbb07f",
   "metadata": {
    "lines_to_next_cell": 2,
    "tags": [
     "keep"
    ]
   },
   "outputs": [],
   "source": [
    "my_rect = Rectangle(3, 4)\n",
    "print(f\"Area is {my_rect.area()}\")\n",
    "my_rect.length = 10\n",
    "my_rect.width = 12\n",
    "print(f\"After setting values: {my_rect}\")\n",
    "print(f\"Area is now {my_rect.area()}\")"
   ]
  },
  {
   "cell_type": "code",
   "execution_count": null,
   "id": "dd96aba5f19fa166",
   "metadata": {
    "tags": [
     "keep"
    ]
   },
   "outputs": [],
   "source": [
    "my_square = Square(3, 4)\n",
    "print(f\"Area is {my_square.area()}\")\n",
    "my_square.length = 10\n",
    "my_square.width = 12\n",
    "print(f\"After setting values: {my_square}\")\n",
    "print(f\"Area is now {my_square.area()}\")"
   ]
  },
  {
   "cell_type": "code",
   "execution_count": null,
   "id": "6b4e03423667dbb7",
   "metadata": {},
   "outputs": [],
   "source": []
  }
 ],
 "metadata": {},
 "nbformat": 4,
 "nbformat_minor": 5
}
