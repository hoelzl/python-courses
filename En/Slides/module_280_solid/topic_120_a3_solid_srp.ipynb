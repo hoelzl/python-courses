{
 "cells": [
  {
   "cell_type": "markdown",
   "id": "4ca74eda85634e2e",
   "metadata": {
    "lang": "en",
    "lines_to_next_cell": 2,
    "slideshow": {
     "slide_type": "slide"
    }
   },
   "source": [
    "<img src=\"../img/python-logo-no-text.png\"\n",
    "     style=\"display:block;margin:auto;width:10%\"/>\n",
    "<br>\n",
    "<div style=\"text-align:center; font-size:200%;\">\n",
    "  <b>SOLID: Single Responsibility Principle</b>\n",
    "</div>\n",
    "<br/>\n",
    "<div style=\"text-align:center;\">Dr. Matthias Hölzl</div>\n",
    "<br/>\n",
    "<!-- <div style=\"text-align:center;\">module_280_solid/topic_120_a3_solid_srp</div> -->"
   ]
  },
  {
   "cell_type": "markdown",
   "id": "d39bf50370f99420",
   "metadata": {
    "lang": "en",
    "lines_to_next_cell": 2,
    "slideshow": {
     "slide_type": "slide"
    }
   },
   "source": [
    "\n",
    "# SOLID: Single Responsibility Principle\n",
    "\n",
    "What do you think of the following code?"
   ]
  },
  {
   "cell_type": "code",
   "execution_count": null,
   "id": "723929ddcb3cf8ac",
   "metadata": {
    "tags": [
     "keep"
    ]
   },
   "outputs": [],
   "source": [
    "from typing import NamedTuple"
   ]
  },
  {
   "cell_type": "code",
   "execution_count": null,
   "id": "d3b8b59469e32ce4",
   "metadata": {
    "tags": [
     "keep"
    ]
   },
   "outputs": [],
   "source": [
    "class Point2D(NamedTuple):\n",
    "    x: float\n",
    "    y: float\n",
    "\n",
    "    def move(self, dx: float, dy: float) -> \"Point2D\":\n",
    "        return Point2D(self.x + dx, self.y + dy)"
   ]
  },
  {
   "cell_type": "code",
   "execution_count": null,
   "id": "5441502f42877f5a",
   "metadata": {
    "tags": [
     "keep"
    ]
   },
   "outputs": [],
   "source": [
    "class Figure2d(NamedTuple):\n",
    "    pivot: Point2D\n",
    "    sprite: list[int]\n",
    "    health: float\n",
    "    health_bar: object  # In reality a widget...\n",
    "    database: object  # The connection to the DB\n",
    "\n",
    "    def move(self, dx: float, dy: float) -> None:\n",
    "        ...\n",
    "\n",
    "    def is_player_avatar(self) -> bool:\n",
    "        # Check whether the figure is the player's avatar...\n",
    "        return True\n",
    "\n",
    "    def update_gui(self):\n",
    "        # Update the health bar widget.\n",
    "        ...\n",
    "\n",
    "    def save_to_db(self) -> None:\n",
    "        # Write the figure data to the database.\n",
    "        ..."
   ]
  },
  {
   "cell_type": "code",
   "execution_count": null,
   "id": "f211aa84366dbde7",
   "metadata": {},
   "outputs": [],
   "source": [
    "class GameEditor:\n",
    "    def edit_figure(self, figure: Figure2d):\n",
    "        # Edit the figure...\n",
    "        figure.save_to_db()"
   ]
  },
  {
   "cell_type": "code",
   "execution_count": null,
   "id": "8c301f891bc5ab9c",
   "metadata": {
    "lines_to_next_cell": 2
   },
   "outputs": [],
   "source": [
    "class Game(NamedTuple):\n",
    "    player_avatar: Figure2d\n",
    "\n",
    "    def run_game_loop(self):\n",
    "        # Do lots of things...\n",
    "        self.player_avatar.update_gui()"
   ]
  },
  {
   "cell_type": "markdown",
   "id": "4ddb79d024ae7af6",
   "metadata": {
    "lang": "en",
    "lines_to_next_cell": 2,
    "slideshow": {
     "slide_type": "subslide"
    }
   },
   "source": [
    "\n",
    "## Single-Responsibility Principle\n",
    "\n",
    "- For each class there should only be a single reason to change\n",
    "- The name is not quite correct: SRP does not state that each class may only\n",
    "  have a single responsibility"
   ]
  },
  {
   "cell_type": "markdown",
   "id": "cd8ad058631d15c5",
   "metadata": {
    "lang": "en",
    "lines_to_next_cell": 2,
    "slideshow": {
     "slide_type": "subslide"
    }
   },
   "source": [
    "\n",
    "## Single Responsibility?\n",
    "\n",
    "<img src=\"img/book_01.png\"\n",
    "     style=\"display:block;margin:auto;width:35%\"/>\n"
   ]
  },
  {
   "cell_type": "markdown",
   "id": "754ce5d0cbd2d80b",
   "metadata": {
    "lang": "en",
    "slideshow": {
     "slide_type": "subslide"
    }
   },
   "source": [
    "\n",
    "## Violation of SRP\n",
    "\n",
    "<img src=\"img/book_02.png\"\n",
    "     style=\"display:block;margin:auto;width:60%\"/>\n"
   ]
  },
  {
   "cell_type": "code",
   "execution_count": null,
   "id": "706bb60c2cffb5d8",
   "metadata": {
    "slideshow": {
     "slide_type": "subslide"
    },
    "tags": [
     "keep"
    ]
   },
   "outputs": [],
   "source": [
    "from dataclasses import dataclass  # noqa: #402"
   ]
  },
  {
   "cell_type": "code",
   "execution_count": null,
   "id": "f252361437734855",
   "metadata": {
    "lines_to_next_cell": 2,
    "tags": [
     "keep"
    ]
   },
   "outputs": [],
   "source": [
    "@dataclass\n",
    "class Book:\n",
    "    title: str\n",
    "    author: str\n",
    "    pages: int\n",
    "\n",
    "    def print(self):\n",
    "        # Lots of code that handles the printer\n",
    "        print(\"Printing to printer.\")\n",
    "\n",
    "    def save(self):\n",
    "        # Lots of code that handles the database\n",
    "        print(\"Saving to database.\")"
   ]
  },
  {
   "cell_type": "markdown",
   "id": "15cae13cf3e76806",
   "metadata": {
    "lang": "en",
    "lines_to_next_cell": 2,
    "slideshow": {
     "slide_type": "subslide"
    }
   },
   "source": [
    "\n",
    "## Resolution of the SRP violation (version 1)\n",
    "\n",
    "<img src=\"img/book_resolution_1.png\"\n",
    "     style=\"display:block;margin:auto;width:50%\"/>"
   ]
  },
  {
   "cell_type": "markdown",
   "id": "14f93baf789e3898",
   "metadata": {
    "lang": "en",
    "lines_to_next_cell": 2,
    "slideshow": {
     "slide_type": "subslide"
    }
   },
   "source": [
    "\n",
    "## Resolution of the SRP violation (version 2)\n",
    "\n",
    "<img src=\"img/book_resolution_2.png\"\n",
    "     style=\"display:block;margin:auto;width:80%\"/>"
   ]
  },
  {
   "cell_type": "markdown",
   "id": "e2e1858bb0212bf2",
   "metadata": {
    "lang": "en",
    "slideshow": {
     "slide_type": "subslide"
    }
   },
   "source": [
    "\n",
    "## Comparison\n",
    "\n",
    "<div>\n",
    "<img src=\"img/book_resolution_1.png\"\n",
    "     style=\"float:left;padding:5px;width:40%\"/>\n",
    "<img src=\"img/book_resolution_2.png\"\n",
    "     style=\"float:right;padding:5px;width:50%\"/>\n",
    "</div>"
   ]
  },
  {
   "cell_type": "markdown",
   "id": "084f6581c70fbe22",
   "metadata": {
    "lang": "en",
    "slideshow": {
     "slide_type": "subslide"
    }
   },
   "source": [
    "\n",
    "## Workshop: Employee\n",
    "\n",
    "You have the following implementation of a personnel management system that\n",
    "contains several SRP violations. Implement a version that no longer has them."
   ]
  },
  {
   "cell_type": "markdown",
   "id": "83a2bdc22a2974c1",
   "metadata": {},
   "source": [
    "<img src=\"img/employee_01.png\"\n",
    "     style=\"display:block;margin:auto;width:40%\"/>"
   ]
  },
  {
   "cell_type": "code",
   "execution_count": null,
   "id": "70f9987ea3d29da2",
   "metadata": {
    "lines_to_next_cell": 1,
    "tags": [
     "keep"
    ]
   },
   "outputs": [],
   "source": [
    "from enum import IntEnum"
   ]
  },
  {
   "cell_type": "code",
   "execution_count": null,
   "id": "eae7e08b6683f24d",
   "metadata": {
    "lines_to_next_cell": 0,
    "tags": [
     "keep"
    ]
   },
   "outputs": [],
   "source": [
    "class EmployeeType(IntEnum):\n",
    "    REGULAR = 0\n",
    "    HOURED = 1\n",
    "    COMMISSIONED = 2"
   ]
  },
  {
   "cell_type": "code",
   "execution_count": null,
   "id": "3f5203df18900b5a",
   "metadata": {
    "lines_to_next_cell": 1,
    "tags": [
     "keep"
    ]
   },
   "outputs": [],
   "source": [
    "from dataclasses import dataclass"
   ]
  },
  {
   "cell_type": "code",
   "execution_count": null,
   "id": "f4a1299053db3459",
   "metadata": {
    "lines_to_next_cell": 0,
    "tags": [
     "keep"
    ]
   },
   "outputs": [],
   "source": [
    "@dataclass\n",
    "class Project:\n",
    "    name: str\n",
    "    assets: float"
   ]
  },
  {
   "cell_type": "code",
   "execution_count": null,
   "id": "b3eeeb962f6479a0",
   "metadata": {
    "tags": [
     "keep"
    ]
   },
   "outputs": [],
   "source": [
    "from augurdb import AugurDatabase"
   ]
  },
  {
   "cell_type": "code",
   "execution_count": null,
   "id": "5be223d97bdb6f30",
   "metadata": {
    "lines_to_next_cell": 0,
    "tags": [
     "keep"
    ]
   },
   "outputs": [],
   "source": [
    "@dataclass\n",
    "class EmployeeV0:\n",
    "    id: int\n",
    "    name: str\n",
    "    salary: float\n",
    "    overtime: int\n",
    "    employee_type: EmployeeType\n",
    "    project: Project\n",
    "    database: AugurDatabase\n",
    "\n",
    "    def calculate_pay(self) -> float:\n",
    "        if self.employee_type == EmployeeType.REGULAR:\n",
    "            return self.salary + 60.0 * self.overtime\n",
    "        elif self.employee_type == EmployeeType.COMMISSIONED:\n",
    "            return self.project.assets * 0.1\n",
    "        elif self.employee_type == EmployeeType.HOURED:\n",
    "            return 50.0 * self.overtime\n",
    "        raise ValueError(f\"{self.employee_type} is not valid.\")\n",
    "\n",
    "    def report_hours(self) -> int:\n",
    "        if self.employee_type == EmployeeType.REGULAR:\n",
    "            return 40 + self.overtime\n",
    "        elif self.employee_type == EmployeeType.COMMISSIONED:\n",
    "            # Commissioned employees always work 40 hours\n",
    "            return 40\n",
    "        elif self.employee_type == EmployeeType.HOURED:\n",
    "            # We use overtime for the billed hours\n",
    "            return self.overtime\n",
    "        raise ValueError(f\"{self.employee_type} is not valid.\")\n",
    "\n",
    "    def print_report(self) -> None:\n",
    "        print(f\"{self.name} worked {self.report_hours()} hours.\")\n",
    "\n",
    "    def save_employee(self) -> None:\n",
    "        self.database.start_transaction()\n",
    "        self.database.store_field(self.id, \"name\", self.name)\n",
    "        self.database.store_field(self.id, \"salary\", self.salary)\n",
    "        self.database.store_field(self.id, \"overtime\", self.overtime)\n",
    "        self.database.store_field(self.id, \"employee_type\", self.employee_type)\n",
    "        self.database.store_field(self.id, \"project\", self.project)\n",
    "        self.database.commit_transaction()"
   ]
  },
  {
   "cell_type": "code",
   "execution_count": null,
   "id": "afd95262372158e8",
   "metadata": {
    "tags": [
     "keep"
    ]
   },
   "outputs": [],
   "source": [
    "from pprint import pprint"
   ]
  },
  {
   "cell_type": "code",
   "execution_count": null,
   "id": "5f7927cebdf30846",
   "metadata": {
    "tags": [
     "keep"
    ]
   },
   "outputs": [],
   "source": [
    "p1 = Project(name=\"Project 1\", assets=10_000.0)\n",
    "p2: Project = Project(name=\"Project 2\", assets=12_000.0)"
   ]
  },
  {
   "cell_type": "code",
   "execution_count": null,
   "id": "8e35dbb6c607a87b",
   "metadata": {
    "tags": [
     "keep"
    ]
   },
   "outputs": [],
   "source": [
    "db = AugurDatabase()"
   ]
  },
  {
   "cell_type": "code",
   "execution_count": null,
   "id": "51eada49fe7f4a1d",
   "metadata": {
    "tags": [
     "keep"
    ]
   },
   "outputs": [],
   "source": [
    "e1 = EmployeeV0(\n",
    "    id=123,\n",
    "    name=\"Joe Random\",\n",
    "    salary=1000.0,\n",
    "    overtime=5,\n",
    "    employee_type=EmployeeType.REGULAR,\n",
    "    project=p1,\n",
    "    database=db,\n",
    ")"
   ]
  },
  {
   "cell_type": "code",
   "execution_count": null,
   "id": "383d3bd68160bc57",
   "metadata": {
    "tags": [
     "keep"
    ]
   },
   "outputs": [],
   "source": [
    "e2 = EmployeeV0(\n",
    "    id=124,\n",
    "    name=\"Jane Ransom\",\n",
    "    salary=1500.0,\n",
    "    overtime=43,\n",
    "    employee_type=EmployeeType.HOURED,\n",
    "    project=p1,\n",
    "    database=db,\n",
    ")"
   ]
  },
  {
   "cell_type": "code",
   "execution_count": null,
   "id": "9b6cf61f07d6dfdc",
   "metadata": {
    "tags": [
     "keep"
    ]
   },
   "outputs": [],
   "source": [
    "e3 = EmployeeV0(\n",
    "    id=125,\n",
    "    name=\"Jill Chance\",\n",
    "    salary=2500.0,\n",
    "    overtime=2,\n",
    "    employee_type=EmployeeType.COMMISSIONED,\n",
    "    project=p2,\n",
    "    database=db,\n",
    ")"
   ]
  },
  {
   "cell_type": "code",
   "execution_count": null,
   "id": "7d17df194f01d550",
   "metadata": {
    "tags": [
     "keep"
    ]
   },
   "outputs": [],
   "source": [
    "employees = [e1, e2, e3]"
   ]
  },
  {
   "cell_type": "code",
   "execution_count": null,
   "id": "5f5ed2a387ae04f6",
   "metadata": {
    "tags": [
     "keep"
    ]
   },
   "outputs": [],
   "source": [
    "for e in employees:\n",
    "    print(\"=\" * 35)\n",
    "    print(f\"{e.name} has a salary of {e.calculate_pay():.2f}\")\n",
    "    e.print_report()\n",
    "    e.save_employee()\n",
    "print(\"=\" * 35)"
   ]
  },
  {
   "cell_type": "code",
   "execution_count": null,
   "id": "2936142550a2790b",
   "metadata": {
    "lines_to_next_cell": 0
   },
   "outputs": [],
   "source": [
    "pprint(db.records)"
   ]
  },
  {
   "cell_type": "code",
   "execution_count": null,
   "id": "b8b0c3400903c40a",
   "metadata": {},
   "outputs": [],
   "source": [
    "class PaymentCalculator:\n",
    "    def calculate_pay(self, employee: \"EmployeeV1\") -> float:\n",
    "        employee_type = employee.employee_type\n",
    "        if employee_type == EmployeeType.REGULAR:\n",
    "            return employee.salary + 60.0 * employee.overtime\n",
    "        elif employee_type == EmployeeType.COMMISSIONED:\n",
    "            return employee.project.assets * 0.1\n",
    "        elif employee_type == EmployeeType.HOURED:\n",
    "            return 50.0 * employee.overtime\n",
    "        raise ValueError(f\"{employee_type} is not valid.\")"
   ]
  },
  {
   "cell_type": "code",
   "execution_count": null,
   "id": "063dd874e39b1251",
   "metadata": {
    "lines_to_next_cell": 1
   },
   "outputs": [],
   "source": [
    "class HourReporter:\n",
    "    def report_hours(self, employee: \"EmployeeV1\") -> int:\n",
    "        employee_type = employee.employee_type\n",
    "        if employee_type == EmployeeType.REGULAR:\n",
    "            return 40 + employee.overtime\n",
    "        elif employee_type == EmployeeType.COMMISSIONED:\n",
    "            # Commissioned employees always work 40 hours\n",
    "            return 40\n",
    "        elif employee_type == EmployeeType.HOURED:\n",
    "            # We use overtime for the billed hours\n",
    "            return employee.overtime\n",
    "        raise ValueError(f\"{employee_type} is not valid.\")"
   ]
  },
  {
   "cell_type": "code",
   "execution_count": null,
   "id": "74db976009be58a1",
   "metadata": {
    "lines_to_next_cell": 1
   },
   "outputs": [],
   "source": [
    "class ReportPrinter:\n",
    "    def print_report(self, employee: \"EmployeeV1\") -> None:\n",
    "        print(f\"{employee.name} worked {employee.report_hours()} hours.\")"
   ]
  },
  {
   "cell_type": "code",
   "execution_count": null,
   "id": "3f1cf073c8ac4271",
   "metadata": {
    "lines_to_next_cell": 1
   },
   "outputs": [],
   "source": [
    "@dataclass\n",
    "class EmployeeDao:\n",
    "    database: AugurDatabase\n",
    "\n",
    "    def save_employee(self, employee: \"EmployeeV1\") -> None:\n",
    "        self.database.start_transaction()\n",
    "        self.database.store_field(employee.id, \"name\", employee.name)\n",
    "        self.database.store_field(employee.id, \"salary\", employee.salary)\n",
    "        self.database.store_field(employee.id, \"overtime\", employee.overtime)\n",
    "        self.database.store_field(employee.id, \"employee_type\", employee.employee_type)\n",
    "        self.database.store_field(employee.id, \"project\", employee.project)\n",
    "        self.database.commit_transaction()"
   ]
  },
  {
   "cell_type": "code",
   "execution_count": null,
   "id": "d991b9cadf1c4e6a",
   "metadata": {
    "lines_to_next_cell": 0
   },
   "outputs": [],
   "source": [
    "@dataclass\n",
    "class EmployeeV1:\n",
    "    id: int\n",
    "    name: str\n",
    "    salary: float\n",
    "    overtime: int\n",
    "    employee_type: EmployeeType\n",
    "    project: Project\n",
    "    payment_calculator: PaymentCalculator\n",
    "    hour_reporter: HourReporter\n",
    "    report_printer: ReportPrinter\n",
    "    dao: EmployeeDao\n",
    "\n",
    "    def calculate_pay(self):\n",
    "        return self.payment_calculator.calculate_pay(self)\n",
    "\n",
    "    def report_hours(self):\n",
    "        return self.hour_reporter.report_hours(self)\n",
    "\n",
    "    def print_report(self):\n",
    "        return self.report_printer.print_report(self)\n",
    "\n",
    "    def save_employee(self):\n",
    "        return self.dao.save_employee(self)"
   ]
  },
  {
   "cell_type": "code",
   "execution_count": null,
   "id": "c78d7eeaf531209e",
   "metadata": {},
   "outputs": [],
   "source": [
    "p1 = Project(name=\"Project 1\", assets=10_000.0)\n",
    "p2: Project = Project(name=\"Project 2\", assets=12_000.0)"
   ]
  },
  {
   "cell_type": "code",
   "execution_count": null,
   "id": "e6f47fd38d12f064",
   "metadata": {},
   "outputs": [],
   "source": [
    "db = AugurDatabase()"
   ]
  },
  {
   "cell_type": "code",
   "execution_count": null,
   "id": "0492ee64178bef36",
   "metadata": {},
   "outputs": [],
   "source": [
    "default_payment_calculator = PaymentCalculator()\n",
    "default_hour_reporter = HourReporter()\n",
    "default_report_printer = ReportPrinter()\n",
    "default_employee_dao = EmployeeDao(db)"
   ]
  },
  {
   "cell_type": "code",
   "execution_count": null,
   "id": "e5d37e8312d2722f",
   "metadata": {},
   "outputs": [],
   "source": [
    "e1 = EmployeeV1(\n",
    "    id=123,\n",
    "    name=\"Joe Random\",\n",
    "    salary=1000.0,\n",
    "    overtime=5,\n",
    "    employee_type=EmployeeType.REGULAR,\n",
    "    project=p1,\n",
    "    payment_calculator=default_payment_calculator,\n",
    "    hour_reporter=default_hour_reporter,\n",
    "    report_printer=default_report_printer,\n",
    "    dao=default_employee_dao,\n",
    ")"
   ]
  },
  {
   "cell_type": "code",
   "execution_count": null,
   "id": "643a345844caaf69",
   "metadata": {},
   "outputs": [],
   "source": [
    "e2 = EmployeeV1(\n",
    "    id=124,\n",
    "    name=\"Jane Ransom\",\n",
    "    salary=1500.0,\n",
    "    overtime=43,\n",
    "    employee_type=EmployeeType.HOURED,\n",
    "    project=p1,\n",
    "    payment_calculator=default_payment_calculator,\n",
    "    hour_reporter=default_hour_reporter,\n",
    "    report_printer=default_report_printer,\n",
    "    dao=default_employee_dao,\n",
    ")"
   ]
  },
  {
   "cell_type": "code",
   "execution_count": null,
   "id": "8554e0927be5552b",
   "metadata": {},
   "outputs": [],
   "source": [
    "e3 = EmployeeV1(\n",
    "    id=125,\n",
    "    name=\"Jill Chance\",\n",
    "    salary=2500.0,\n",
    "    overtime=2,\n",
    "    employee_type=EmployeeType.COMMISSIONED,\n",
    "    project=p2,\n",
    "    payment_calculator=default_payment_calculator,\n",
    "    hour_reporter=default_hour_reporter,\n",
    "    report_printer=default_report_printer,\n",
    "    dao=default_employee_dao,\n",
    ")"
   ]
  },
  {
   "cell_type": "code",
   "execution_count": null,
   "id": "d577ad5939a0fdd4",
   "metadata": {},
   "outputs": [],
   "source": [
    "employees = [e1, e2, e3]"
   ]
  },
  {
   "cell_type": "code",
   "execution_count": null,
   "id": "a1d39812ed00b276",
   "metadata": {},
   "outputs": [],
   "source": [
    "for e in employees:\n",
    "    print(\"=\" * 35)\n",
    "    print(f\"{e.name} has a salary of {e.calculate_pay():.2f}\")\n",
    "    e.print_report()\n",
    "    e.save_employee()\n",
    "print(\"=\" * 35)"
   ]
  },
  {
   "cell_type": "code",
   "execution_count": null,
   "id": "61f17701ffa24b88",
   "metadata": {},
   "outputs": [],
   "source": [
    "pprint(db.records)"
   ]
  }
 ],
 "metadata": {},
 "nbformat": 4,
 "nbformat_minor": 5
}
