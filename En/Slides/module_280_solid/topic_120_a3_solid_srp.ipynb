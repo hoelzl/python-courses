{
 "cells": [
  {
   "cell_type": "markdown",
   "id": "c7daff7ccd065772",
   "metadata": {
    "lang": "en",
    "slideshow": {
     "slide_type": "slide"
    }
   },
   "source": [
    "<img src=\"../../img/python-logo-no-text.svg\"\n",
    "     style=\"display:block;margin:auto;width:10%\"/>\n",
    "<br>\n",
    "<div style=\"text-align:center; font-size:200%;\">\n",
    "  <b>SOLID: Single Responsibility Principle</b>\n",
    "</div>\n",
    "<br/>\n",
    "<div style=\"text-align:center;\">Dr. Matthias Hölzl</div>\n",
    "<br/>\n",
    "<div style=\"text-align:center;\">module_280_solid/topic_120_a3_solid_srp</div>"
   ]
  },
  {
   "cell_type": "markdown",
   "id": "d39bf50370f99420",
   "metadata": {
    "lang": "en",
    "lines_to_next_cell": 2,
    "slideshow": {
     "slide_type": "slide"
    }
   },
   "source": [
    "\n",
    "# SOLID: Single Responsibility Principle\n",
    "\n",
    "What do you think of the following code?"
   ]
  },
  {
   "cell_type": "code",
   "execution_count": null,
   "id": "723929ddcb3cf8ac",
   "metadata": {
    "tags": [
     "keep"
    ]
   },
   "outputs": [],
   "source": [
    "from typing import NamedTuple"
   ]
  },
  {
   "cell_type": "code",
   "execution_count": null,
   "id": "d3b8b59469e32ce4",
   "metadata": {
    "tags": [
     "keep"
    ]
   },
   "outputs": [],
   "source": [
    "class Point2D(NamedTuple):\n",
    "    x: float\n",
    "    y: float\n",
    "\n",
    "    def move(self, dx: float, dy: float) -> \"Point2D\":\n",
    "        return Point2D(self.x + dx, self.y + dy)"
   ]
  },
  {
   "cell_type": "code",
   "execution_count": null,
   "id": "5441502f42877f5a",
   "metadata": {
    "tags": [
     "keep"
    ]
   },
   "outputs": [],
   "source": [
    "class Figure2d(NamedTuple):\n",
    "    pivot: Point2D\n",
    "    sprite: list[int]\n",
    "    health: float\n",
    "    health_bar: object  # In reality a widget...\n",
    "    database: object  # The connection to the DB\n",
    "\n",
    "    def move(self, dx: float, dy: float) -> None:\n",
    "        ...\n",
    "\n",
    "    def is_player_avatar(self) -> bool:\n",
    "        # Check whether the figure is the player's avatar...\n",
    "        return True\n",
    "\n",
    "    def update_gui(self):\n",
    "        # Update the health bar widget.\n",
    "        ...\n",
    "\n",
    "    def save_to_db(self) -> None:\n",
    "        # Write the figure data to the database.\n",
    "        ..."
   ]
  },
  {
   "cell_type": "code",
   "execution_count": null,
   "id": "f211aa84366dbde7",
   "metadata": {},
   "outputs": [],
   "source": [
    "class GameEditor:\n",
    "    def edit_figure(self, figure: Figure2d):\n",
    "        # Edit the figure...\n",
    "        figure.save_to_db()"
   ]
  },
  {
   "cell_type": "code",
   "execution_count": null,
   "id": "8c301f891bc5ab9c",
   "metadata": {
    "lines_to_next_cell": 2
   },
   "outputs": [],
   "source": [
    "class Game(NamedTuple):\n",
    "    player_avatar: Figure2d\n",
    "\n",
    "    def run_game_loop(self):\n",
    "        # Do lots of things...\n",
    "        self.player_avatar.update_gui()"
   ]
  },
  {
   "cell_type": "markdown",
   "id": "4ddb79d024ae7af6",
   "metadata": {
    "lang": "en",
    "lines_to_next_cell": 2,
    "slideshow": {
     "slide_type": "subslide"
    }
   },
   "source": [
    "\n",
    "## Single-Responsibility Principle\n",
    "\n",
    "- For each class there should only be a single reason to change\n",
    "- The name is not quite correct: SRP does not state that each class may only\n",
    "  have a single responsibility"
   ]
  },
  {
   "cell_type": "markdown",
   "id": "cd8ad058631d15c5",
   "metadata": {
    "lang": "en",
    "lines_to_next_cell": 2,
    "slideshow": {
     "slide_type": "subslide"
    }
   },
   "source": [
    "\n",
    "## Single Responsibility?\n",
    "\n",
    "<img src=\"img/book_01.png\"\n",
    "     style=\"display:block;margin:auto;width:35%\"/>\n"
   ]
  },
  {
   "cell_type": "markdown",
   "id": "754ce5d0cbd2d80b",
   "metadata": {
    "lang": "en",
    "slideshow": {
     "slide_type": "subslide"
    }
   },
   "source": [
    "\n",
    "## Violation of SRP\n",
    "\n",
    "<img src=\"img/book_02.png\"\n",
    "     style=\"display:block;margin:auto;width:60%\"/>\n"
   ]
  },
  {
   "cell_type": "code",
   "execution_count": null,
   "id": "706bb60c2cffb5d8",
   "metadata": {
    "slideshow": {
     "slide_type": "subslide"
    },
    "tags": [
     "keep"
    ]
   },
   "outputs": [],
   "source": [
    "from dataclasses import dataclass  # noqa: #402"
   ]
  },
  {
   "cell_type": "code",
   "execution_count": null,
   "id": "f252361437734855",
   "metadata": {
    "tags": [
     "keep"
    ]
   },
   "outputs": [],
   "source": [
    "@dataclass\n",
    "class Book:\n",
    "    title: str\n",
    "    author: str\n",
    "    pages: int\n",
    "\n",
    "    def print(self):\n",
    "        # Lots of code that handles the printer\n",
    "        print(\"Printing to printer.\")\n",
    "\n",
    "    def save(self):\n",
    "        # Lots of code that handles the database\n",
    "        print(\"Saving to database.\")"
   ]
  },
  {
   "cell_type": "markdown",
   "id": "15cae13cf3e76806",
   "metadata": {
    "lang": "en",
    "lines_to_next_cell": 2,
    "slideshow": {
     "slide_type": "subslide"
    }
   },
   "source": [
    "\n",
    "## Resolution of the SRP violation (version 1)\n",
    "\n",
    "<img src=\"img/book_resolution_1.png\"\n",
    "     style=\"display:block;margin:auto;width:50%\"/>"
   ]
  },
  {
   "cell_type": "markdown",
   "id": "14f93baf789e3898",
   "metadata": {
    "lang": "en",
    "lines_to_next_cell": 2,
    "slideshow": {
     "slide_type": "subslide"
    }
   },
   "source": [
    "\n",
    "## Resolution of the SRP violation (version 2)\n",
    "\n",
    "<img src=\"img/book_resolution_2.png\"\n",
    "     style=\"display:block;margin:auto;width:80%\"/>"
   ]
  },
  {
   "cell_type": "markdown",
   "id": "e2e1858bb0212bf2",
   "metadata": {
    "lang": "en",
    "slideshow": {
     "slide_type": "subslide"
    }
   },
   "source": [
    "\n",
    "## Comparison\n",
    "\n",
    "<div>\n",
    "<img src=\"img/book_resolution_1.png\"\n",
    "     style=\"float:left;padding:5px;width:40%\"/>\n",
    "<img src=\"img/book_resolution_2.png\"\n",
    "     style=\"float:right;padding:5px;width:50%\"/>\n",
    "</div>"
   ]
  },
  {
   "cell_type": "markdown",
   "id": "8d40dc7e32d820bf",
   "metadata": {
    "lang": "en",
    "slideshow": {
     "slide_type": "subslide"
    }
   },
   "source": [
    "\n",
    "## Mini workshop: Employee\n",
    "\n",
    "You have the following implementation of a personnel management system that\n",
    "contains several SRP violations. Implement a version that no longer has them."
   ]
  },
  {
   "cell_type": "markdown",
   "id": "83a2bdc22a2974c1",
   "metadata": {},
   "source": [
    "<img src=\"img/employee_01.png\"\n",
    "     style=\"display:block;margin:auto;width:40%\"/>"
   ]
  },
  {
   "cell_type": "code",
   "execution_count": null,
   "id": "13978bec487569f9",
   "metadata": {
    "tags": [
     "keep"
    ]
   },
   "outputs": [],
   "source": [
    "from dataclasses import dataclass  # noqa: E402\n",
    "from enum import IntEnum  # noqa: E402"
   ]
  },
  {
   "cell_type": "code",
   "execution_count": null,
   "id": "eae7e08b6683f24d",
   "metadata": {
    "tags": [
     "keep"
    ]
   },
   "outputs": [],
   "source": [
    "class EmployeeType(IntEnum):\n",
    "    REGULAR = 0\n",
    "    HOURED = 1\n",
    "    COMMISSIONED = 2"
   ]
  },
  {
   "cell_type": "code",
   "execution_count": null,
   "id": "f4a1299053db3459",
   "metadata": {
    "tags": [
     "keep"
    ]
   },
   "outputs": [],
   "source": [
    "@dataclass\n",
    "class Project:\n",
    "    name: str\n",
    "    assets: float"
   ]
  },
  {
   "cell_type": "code",
   "execution_count": null,
   "id": "58f9f62560a74730",
   "metadata": {
    "tags": [
     "keep"
    ]
   },
   "outputs": [],
   "source": [
    "@dataclass\n",
    "class AugurDatabase:\n",
    "    def start_transaction(self):\n",
    "        pass\n",
    "\n",
    "    def commit_transaction(self):\n",
    "        pass\n",
    "\n",
    "    def rollback_transaction(self):\n",
    "        pass\n",
    "\n",
    "    def store_field(self, obj_id, name, value):\n",
    "        pass"
   ]
  },
  {
   "cell_type": "code",
   "execution_count": null,
   "id": "c96be0503cf96a8a",
   "metadata": {
    "lines_to_next_cell": 2,
    "tags": [
     "keep"
    ]
   },
   "outputs": [],
   "source": [
    "@dataclass\n",
    "class Employee:\n",
    "    id: int\n",
    "    name: str\n",
    "    salary: float\n",
    "    overtime: int\n",
    "    employee_type: EmployeeType\n",
    "    project: Project\n",
    "    database: AugurDatabase\n",
    "\n",
    "    def calculate_pay(self) -> float:\n",
    "        if self.employee_type == EmployeeType.REGULAR:\n",
    "            return self.salary + 60.0 * self.overtime\n",
    "        elif self.employee_type == EmployeeType.COMMISSIONED:\n",
    "            return self.project.assets * 0.1\n",
    "        elif self.employee_type == EmployeeType.HOURED:\n",
    "            return 50.0 * self.overtime\n",
    "        raise ValueError(f\"{self.employee_type} is not valid.\")\n",
    "\n",
    "    def report_hours(self) -> int:\n",
    "        if self.employee_type == EmployeeType.REGULAR:\n",
    "            return 40 + self.overtime\n",
    "        elif self.employee_type == EmployeeType.COMMISSIONED:\n",
    "            # Commissioned employees always work 40 hours\n",
    "            return 40\n",
    "        elif self.employee_type == EmployeeType.HOURED:\n",
    "            # We use overtime for the billed hours\n",
    "            return self.overtime\n",
    "        raise ValueError(f\"{self.employee_type} is not valid.\")\n",
    "\n",
    "    def print_report(self) -> None:\n",
    "        print(f\"{self.name} worked {self.report_hours()} hours.\")\n",
    "\n",
    "    def save_employee(self) -> None:\n",
    "        self.database.start_transaction()\n",
    "        self.database.store_field(self.id, \"name\", self.name)\n",
    "        self.database.store_field(self.id, \"salary\", self.salary)\n",
    "        self.database.store_field(self.id, \"overtime\", self.overtime)\n",
    "        self.database.store_field(self.id, \"employee_type\", self.employee_type)\n",
    "        self.database.store_field(self.id, \"project\", self.project)\n",
    "        self.database.store_field(self.id, \"database\", self.database)\n",
    "        self.database.commit_transaction()"
   ]
  },
  {
   "cell_type": "code",
   "execution_count": null,
   "id": "6b4e03423667dbb7",
   "metadata": {},
   "outputs": [],
   "source": []
  },
  {
   "cell_type": "code",
   "execution_count": null,
   "id": "b01c4828a65d0124",
   "metadata": {},
   "outputs": [],
   "source": []
  },
  {
   "cell_type": "code",
   "execution_count": null,
   "id": "5d8ccf2ef3830edd",
   "metadata": {},
   "outputs": [],
   "source": []
  },
  {
   "cell_type": "code",
   "execution_count": null,
   "id": "47a8858dd56efa0f",
   "metadata": {},
   "outputs": [],
   "source": []
  },
  {
   "cell_type": "code",
   "execution_count": null,
   "id": "bdd0649c6173e20c",
   "metadata": {},
   "outputs": [],
   "source": []
  },
  {
   "cell_type": "code",
   "execution_count": null,
   "id": "a45dd53667cf3a47",
   "metadata": {},
   "outputs": [],
   "source": []
  }
 ],
 "metadata": {},
 "nbformat": 4,
 "nbformat_minor": 5
}
