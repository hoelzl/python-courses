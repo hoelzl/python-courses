{
 "cells": [
  {
   "cell_type": "markdown",
   "id": "ba6a61503bac03b6",
   "metadata": {
    "lang": "en",
    "lines_to_next_cell": 2,
    "slideshow": {
     "slide_type": "slide"
    }
   },
   "source": [
    "<img src=\"../img/python-logo-no-text.png\"\n",
    "     style=\"display:block;margin:auto;width:10%\"/>\n",
    "<br>\n",
    "<div style=\"text-align:center; font-size:200%;\">\n",
    "  <b>Clean Code: Comments and Documentation</b>\n",
    "</div>\n",
    "<br/>\n",
    "<div style=\"text-align:center;\">Dr. Matthias Hölzl</div>\n",
    "<br/>\n",
    "<!-- <div style=\"text-align:center;\">module_230_clean_code/topic_150_a3_comments_and_docs</div> -->"
   ]
  },
  {
   "cell_type": "markdown",
   "id": "41a4e929a3550a99",
   "metadata": {
    "lang": "en",
    "slideshow": {
     "slide_type": "slide"
    }
   },
   "source": [
    "\n",
    "# Clean Code: Comments and Documentation"
   ]
  },
  {
   "cell_type": "markdown",
   "id": "a76a79afe1336a4e",
   "metadata": {
    "lang": "en",
    "slideshow": {
     "slide_type": "subslide"
    }
   },
   "source": [
    "\n",
    "## Docstrings\n",
    "\n",
    "From [PEP-257](https://peps.python.org/pep-0257/):\n",
    "\n",
    "A docstring is a string literal that occurs as the first statement in a\n",
    "module, function, class, or method definition. Such a docstring becomes the\n",
    "`__doc__` special attribute of that object.\n",
    "\n",
    "All modules should normally have docstrings, and all functions and classes\n",
    "exported by a module should also have docstrings. Public methods (including\n",
    "the `__init__` constructor) should also have docstrings. A package may be\n",
    "documented in the module docstring of the `__init__.py` file in the package\n",
    "directory."
   ]
  },
  {
   "cell_type": "markdown",
   "id": "4238a1d1ebe1b897",
   "metadata": {
    "lang": "en",
    "slideshow": {
     "slide_type": "subslide"
    }
   },
   "source": [
    "\n",
    "## Docstring conventions\n",
    "\n",
    "- One-line docstrings\n",
    "  - Use triple quotes\n",
    "  - No blank line before or after\n",
    "  - A phrase ending in a period\n",
    "  - Written as a command: \"Do this\", \"Return that value\"\n",
    "  - Is not the function's signature (can be obtained by introspection)\n",
    "  - More information in\n",
    "    [PEP-257](https://peps.python.org/pep-0257/#one-line-docstrings)"
   ]
  },
  {
   "cell_type": "markdown",
   "id": "5abad8ea192e7730",
   "metadata": {
    "lang": "en",
    "lines_to_next_cell": 2,
    "slideshow": {
     "slide_type": "subslide"
    }
   },
   "source": [
    "\n",
    "## Docstring conventions\n",
    "\n",
    "- Multi-line docstrings\n",
    "  - Summary line just like a one-line docstring\n",
    "  - Summary line is followed by a blank line\n",
    "  - Then there is a more elaborate description, possibly including doctests\n",
    "  - The docstring is followed by a blank line\n",
    "  - More information in\n",
    "    [PEP-257](https://peps.python.org/pep-0257/#multi-line-docstrings)"
   ]
  },
  {
   "cell_type": "markdown",
   "id": "07b7e33a59367a04",
   "metadata": {
    "lang": "en",
    "slideshow": {
     "slide_type": "subslide"
    }
   },
   "source": [
    "\n",
    "## Comments\n",
    "\n",
    "- Comments compensate for our failure to express ourselves in code\n",
    "- If possible, express yourself in code, not comments!\n",
    "  - Whenever you want to write a comment, check that you cannot do it in code\n",
    "  - In particular, write assertions or doctests if possible\n",
    "  - Use explanatory variables"
   ]
  },
  {
   "cell_type": "code",
   "execution_count": null,
   "id": "9a1c75dc72473c97",
   "metadata": {
    "tags": [
     "keep"
    ]
   },
   "outputs": [],
   "source": [
    "def add(x, y):\n",
    "    \"\"\"Compute the sum of two numbers.\n",
    "\n",
    "    >>> add(1, 2)\n",
    "    3\n",
    "    >>> add(0, -2)\n",
    "    -2\n",
    "    \"\"\"\n",
    "    return x + y"
   ]
  },
  {
   "cell_type": "code",
   "execution_count": null,
   "id": "409430483001b057",
   "metadata": {
    "tags": [
     "keep"
    ]
   },
   "outputs": [],
   "source": [
    "days_of_work = 4"
   ]
  },
  {
   "cell_type": "code",
   "execution_count": null,
   "id": "96aec1b7c1867825",
   "metadata": {
    "tags": [
     "keep"
    ]
   },
   "outputs": [],
   "source": [
    "# Multiply the seconds in a day times the days of work.\n",
    "duration_in_seconds = 60 * 60 * 24 * days_of_work"
   ]
  },
  {
   "cell_type": "code",
   "execution_count": null,
   "id": "a62c674b38c7ff6f",
   "metadata": {
    "lines_to_next_cell": 2,
    "tags": [
     "keep"
    ]
   },
   "outputs": [],
   "source": [
    "SECONDS_PER_DAY = 60 * 60 * 24\n",
    "duration_in_seconds = SECONDS_PER_DAY * days_of_work"
   ]
  },
  {
   "cell_type": "markdown",
   "id": "f2ad5a24b0e3ee7c",
   "metadata": {
    "lang": "en",
    "slideshow": {
     "slide_type": "subslide"
    }
   },
   "source": [
    "\n",
    "## How comments fail\n",
    "\n",
    "- Comments are difficult to maintain\n",
    "- Therefore, they often lie\n",
    "- They don’t get changed when code gets updated\n",
    "- They don’t get moved when code gets moved"
   ]
  },
  {
   "cell_type": "code",
   "execution_count": null,
   "id": "40e475f3bc0f6740",
   "metadata": {},
   "outputs": [],
   "source": [
    "# ```python\n",
    "# # Check to see if the employee is eligible for full benefits\n",
    "# if (employee.flags & HOURLY_FLAG) and (employee.age > 65):\n",
    "#     ...\n",
    "# ```\n",
    "#\n",
    "# versus\n",
    "#\n",
    "# ```\n",
    "# if employee.is_eligible_for_full_benefits():\n",
    "#     ...\n",
    "# ```"
   ]
  },
  {
   "cell_type": "markdown",
   "id": "77955ce03a07c7a4",
   "metadata": {
    "lang": "en",
    "lines_to_next_cell": 2,
    "slideshow": {
     "slide_type": "subslide"
    }
   },
   "source": [
    "\n",
    "## PEP-8 Guidelines for Comments\n",
    "\n",
    "Follow [PEP-8](https://peps.python.org/pep-0008/#comments) guidelines for\n",
    "comments:\n",
    "\n",
    "- Keep comments up-to-date when the code changes\n",
    "- Comments should be complete sentences.\n",
    "  - First word is capitalized, unless it is an identifier\n",
    "  - Identifiers should never be altered\n",
    "  - Use two spaces after a sentence-ending period in multi-sentence comments\n",
    "- Ensure that comments are clear and easily understandable\n",
    "- Python coders from non-English speaking countries: please write your\n",
    "  comments in English, unless you are 120% sure that the code will never be\n",
    "  read by people who don’t speak your language."
   ]
  },
  {
   "cell_type": "markdown",
   "id": "d6624d05c8caeea0",
   "metadata": {
    "lang": "en",
    "slideshow": {
     "slide_type": "subslide"
    }
   },
   "source": [
    "\n",
    "## Good Comments\n",
    "\n",
    "Comments are good if they\n",
    "\n",
    "- are legally required\n",
    "- explain concepts that cannot be expressed in code\n",
    "- explain the intent of the code\n",
    "- explain code that you cannot clean up (e.g., a published interface)\n",
    "- document published interfaces (e.g., doxygen)\n",
    "- are `TODO`` comments (if used sparingly)\n",
    "- are used for amplification (\"This is very important, because...\")"
   ]
  },
  {
   "cell_type": "markdown",
   "id": "6ea6ab6bab77998b",
   "metadata": {
    "lang": "en",
    "slideshow": {
     "slide_type": "subslide"
    }
   },
   "source": [
    "\n",
    "## Bad Comments\n",
    "\n",
    "- Unclear comments (mumbling)\n",
    "\n",
    "Suppose that the following comment is in fact correct. What does it tell us?"
   ]
  },
  {
   "cell_type": "code",
   "execution_count": null,
   "id": "d8d0fff027edd79e",
   "metadata": {
    "tags": [
     "keep"
    ]
   },
   "outputs": [],
   "source": [
    "try:\n",
    "    with open(\"my-app.cfg\", mode=\"r\", encoding=\"utf-8\"):\n",
    "        ...\n",
    "except FileNotFoundError:\n",
    "    # Somebody else has already loaded the defaults.\n",
    "    pass"
   ]
  },
  {
   "cell_type": "markdown",
   "id": "5ef4e9cf1d5d1b26",
   "metadata": {
    "lang": "en"
   },
   "source": [
    "\n",
    "- Redundant comments (takes longer to read than the code without being clearer)"
   ]
  },
  {
   "cell_type": "code",
   "execution_count": null,
   "id": "dbf8ec319d726792",
   "metadata": {
    "tags": [
     "keep"
    ]
   },
   "outputs": [],
   "source": [
    "def read_and_apply_configuration(file):\n",
    "    ..."
   ]
  },
  {
   "cell_type": "code",
   "execution_count": null,
   "id": "7aa2c58be223320d",
   "metadata": {
    "tags": [
     "keep"
    ]
   },
   "outputs": [],
   "source": [
    "# Read the configuration from file `my-app.cfg`. The file has to be readable and\n",
    "# in UTF-8 encoding. If the file cannot be found we simply ignore the attempt.\n",
    "# If the file is indeed found, we read it and apply the configuration to the\n",
    "# system.\n",
    "try:\n",
    "    with open(\"my-app.cfg\", mode=\"r\", encoding=\"utf-8\") as file:\n",
    "        read_and_apply_configuration(file)\n",
    "except FileNotFoundError:\n",
    "    pass"
   ]
  },
  {
   "cell_type": "markdown",
   "id": "2d06626c260955ae",
   "metadata": {
    "lang": "en"
   },
   "source": [
    "\n",
    "- Misleading comments"
   ]
  },
  {
   "cell_type": "code",
   "execution_count": null,
   "id": "bab668537b177522",
   "metadata": {
    "tags": [
     "keep"
    ]
   },
   "outputs": [],
   "source": [
    "# Return a new list that is the concatenation of the elements in `list_1` and\n",
    "# `list_2`.\n",
    "def concatenate_lists(list_1, list_2):\n",
    "    if not list_1:\n",
    "        return list_2\n",
    "    elif not list_2:\n",
    "        return list_1\n",
    "    else:\n",
    "        return list_1 + list_2"
   ]
  },
  {
   "cell_type": "code",
   "execution_count": null,
   "id": "ae4059dcfe6c8c0f",
   "metadata": {
    "tags": [
     "keep"
    ]
   },
   "outputs": [],
   "source": [
    "assert concatenate_lists([1, 2], [3, 4]) == [1, 2, 3, 4]"
   ]
  },
  {
   "cell_type": "markdown",
   "id": "c6d2151a41ac37d5",
   "metadata": {
    "lang": "en"
   },
   "source": [
    "\n",
    "Based on the comment you wouldn't expect the following behavior:"
   ]
  },
  {
   "cell_type": "code",
   "execution_count": null,
   "id": "2fe8fba0ca82b978",
   "metadata": {
    "tags": [
     "keep"
    ]
   },
   "outputs": [],
   "source": [
    "x = [1, 2]\n",
    "assert concatenate_lists(x, []) is x\n",
    "assert concatenate_lists([], x) is x"
   ]
  },
  {
   "cell_type": "markdown",
   "id": "41237100dacfa8a9",
   "metadata": {
    "lang": "en",
    "lines_to_next_cell": 2
   },
   "source": [
    "\n",
    "- Mandated comments (by coding guidelines, not law)\n",
    "- Journal comments (history of the file)"
   ]
  },
  {
   "cell_type": "code",
   "execution_count": null,
   "id": "d6fbdc29133bfc9f",
   "metadata": {
    "lines_to_next_cell": 2,
    "tags": [
     "keep"
    ]
   },
   "outputs": [],
   "source": [
    "# file: widget.py\n",
    "#\n",
    "# Changes made to the file:\n",
    "#\n",
    "# 2022-08-10: Added a frobnicator as proposed by Jane\n",
    "# 2022-08-11: Twiddled the frobnicator's parameters\n",
    "# 2022-08-12: Further tweaks to the frobnicator settings\n",
    "# 2022-08-13: Added flux compensation to the frobnicator\n",
    "# 2022-08-14: Improved flux compensation\n",
    "# 2022-09-03: Revisited flux compensation after discussion with Joe\n",
    "#\n",
    "class Frobnicator:\n",
    "    pass"
   ]
  },
  {
   "cell_type": "markdown",
   "id": "6a24fcd389e0ea5a",
   "metadata": {
    "lang": "en",
    "lines_to_next_cell": 2
   },
   "source": [
    "\n",
    "- Noise comments"
   ]
  },
  {
   "cell_type": "code",
   "execution_count": null,
   "id": "4a45f147067d08a4",
   "metadata": {
    "tags": [
     "keep"
    ]
   },
   "outputs": [],
   "source": [
    "class FluxCompensator:\n",
    "    # The `__init__()` method of the flux compensator.\n",
    "    def __init__(self) -> None:\n",
    "        ..."
   ]
  },
  {
   "cell_type": "code",
   "execution_count": null,
   "id": "367970cc7a01e091",
   "metadata": {
    "lines_to_next_cell": 2,
    "tags": [
     "keep"
    ]
   },
   "outputs": [],
   "source": [
    "# Hourly wage in US$\n",
    "HOURLY_WAGE_IN_USD = 80"
   ]
  },
  {
   "cell_type": "markdown",
   "id": "a251860031d76d01",
   "metadata": {
    "lang": "en",
    "lines_to_next_cell": 2
   },
   "source": [
    "\n",
    "- Position Markers"
   ]
  },
  {
   "cell_type": "code",
   "execution_count": null,
   "id": "d7156487083d1482",
   "metadata": {
    "tags": [
     "keep"
    ]
   },
   "outputs": [],
   "source": [
    "class MyVeryLargeClass:\n",
    "    ####################################################\n",
    "    # Initialization Methods\n",
    "    ####################################################\n",
    "    def init(self):\n",
    "        ...\n",
    "\n",
    "    def init_in_another_way(self):\n",
    "        ...\n",
    "\n",
    "    ####################################################\n",
    "    # Computations\n",
    "    ####################################################\n",
    "    def compute_this(self):\n",
    "        ...\n",
    "\n",
    "    def compute_that(self):\n",
    "        ...\n",
    "\n",
    "    ####################################################\n",
    "    # State Updates\n",
    "    ####################################################\n",
    "    def set_some_state(self, x):\n",
    "        ..."
   ]
  },
  {
   "cell_type": "markdown",
   "id": "25f706b889784581",
   "metadata": {
    "lang": "en"
   },
   "source": [
    "\n",
    "- Attributions and bylines"
   ]
  },
  {
   "cell_type": "code",
   "execution_count": null,
   "id": "faeafb33b19f5225",
   "metadata": {
    "tags": [
     "keep"
    ]
   },
   "outputs": [],
   "source": [
    "# Added by Jack <jack@example.org> on 2018-03-12\n",
    "def some_function(x, y):\n",
    "    return x + y"
   ]
  },
  {
   "cell_type": "markdown",
   "id": "a9fcbdf63bb9822f",
   "metadata": {
    "lang": "en"
   },
   "source": [
    "\n",
    "- Commented-out code\n",
    "  - Has a tendency to never get deleted\n",
    "  - Unclear why it is there: was it meant to be deleted or commented back in?\n",
    "  - Rely on the source control system and delete the code"
   ]
  },
  {
   "cell_type": "code",
   "execution_count": null,
   "id": "f072eadad325749f",
   "metadata": {
    "tags": [
     "keep"
    ]
   },
   "outputs": [],
   "source": [
    "# def some_function(x, y):\n",
    "#     return x + y"
   ]
  },
  {
   "cell_type": "code",
   "execution_count": null,
   "id": "5e8da40db31012b8",
   "metadata": {
    "lines_to_next_cell": 2,
    "tags": [
     "keep"
    ]
   },
   "outputs": [],
   "source": [
    "def some_other_function(x, y):\n",
    "    # z = x + y\n",
    "    # return z\n",
    "    return 123"
   ]
  },
  {
   "cell_type": "markdown",
   "id": "31e069f4ac42f377",
   "metadata": {
    "lang": "en"
   },
   "source": [
    "\n",
    "- HTML-Comments\n",
    "\n",
    "In Python, markup in comments is either written in Markdown or in\n",
    "reStructuredCode (RST):"
   ]
  },
  {
   "cell_type": "code",
   "execution_count": null,
   "id": "fd815cc95a63c4b0",
   "metadata": {
    "lines_to_next_cell": 2,
    "tags": [
     "keep"
    ]
   },
   "outputs": [],
   "source": [
    "# <p><strong>Important:</strong></p>\n",
    "# <ul>\n",
    "#   <li>\n",
    "#     Don&#39;t use <code>frobnicator_1</code> to tweak\n",
    "#     <code>flux_compensator_2</code> because they are not\n",
    "#     coherent!\n",
    "#   </li>\n",
    "#   <li>\n",
    "#     Make sure that <code>fuzzbox_2</code> is turned to\n",
    "#     at least 11 before plugging in the guitar.\n",
    "#   </li>\n",
    "# </ul>"
   ]
  },
  {
   "cell_type": "code",
   "execution_count": null,
   "id": "30b278fa2bbb95fb",
   "metadata": {
    "tags": [
     "keep"
    ]
   },
   "outputs": [],
   "source": [
    "# **Important:**\n",
    "#\n",
    "# - Don't use `frobnicator_1` to tweak `flux_compensator_2` because they are not\n",
    "#   coherent!\n",
    "# - Make sure that `fuzzbox_2` is turned to at least 11 before plugging in the\n",
    "#   guitar."
   ]
  },
  {
   "cell_type": "markdown",
   "id": "fb80e007490ca5d5",
   "metadata": {
    "lang": "en"
   },
   "source": [
    "\n",
    "- Non-local information"
   ]
  },
  {
   "cell_type": "code",
   "execution_count": null,
   "id": "190781acd2dd66d1",
   "metadata": {
    "tags": [
     "keep"
    ]
   },
   "outputs": [],
   "source": [
    "# This is set to its correct value by `frob_foo()` in file `frobnicator.py`.\n",
    "foo = 123"
   ]
  },
  {
   "cell_type": "markdown",
   "id": "1f92e4284decb12a",
   "metadata": {
    "lang": "en"
   },
   "source": [
    "\n",
    "- Too much information"
   ]
  },
  {
   "cell_type": "code",
   "execution_count": null,
   "id": "4bbb0ef19bb38bd2",
   "metadata": {
    "tags": [
     "keep"
    ]
   },
   "outputs": [],
   "source": [
    "\n",
    "# Implement protocol handling according to ABC Standard 212-3.\n",
    "#\n",
    "# This was first proposed by Steve in a meeting in 2013, but at the time we had\n",
    "# no compatible implementation of the support libraries available. We therefore\n",
    "# shelved the discussion until Tina brought the topic up in the famous all-hands\n",
    "# meeting of October 2019. There were some initial problems, but we finally\n",
    "# succeeded in getting a running implementation working in 2021. This contains a\n",
    "# bug that is still present in the current code base that causes the system to\n",
    "# crash when talking to a client that implements variant /4 of the protocol.\n",
    "# Finally, in early 2022 we also adapted this implementation for the XYZ device\n",
    "# series."
   ]
  },
  {
   "cell_type": "markdown",
   "id": "5f7e9f697f64818e",
   "metadata": {
    "lang": "en"
   },
   "source": [
    "\n",
    "- Unobvious connection to the code"
   ]
  },
  {
   "cell_type": "code",
   "execution_count": null,
   "id": "c2ac471470ef4355",
   "metadata": {
    "tags": [
     "keep"
    ]
   },
   "outputs": [],
   "source": [
    "# Adjust for target endianness and buffer size\n",
    "foo = max((foo + 7) * 2, 256)"
   ]
  }
 ],
 "metadata": {},
 "nbformat": 4,
 "nbformat_minor": 5
}
