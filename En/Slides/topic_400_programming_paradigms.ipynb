{
 "cells": [
  {
   "cell_type": "markdown",
   "id": "78315425",
   "metadata": {
    "lang": "en",
    "slideshow": {
     "slide_type": "slide"
    }
   },
   "source": [
    "<img src=\"img/python-logo-notext.svg\"\n",
    "     style=\"display:block;margin:auto;width:10%\"/>\n",
    "<br>\n",
    "<div style=\"text-align:center; font-size:200%;\"><b>Programming paradigms</b></div>\n",
    "<br/>\n",
    "<div style=\"text-align:center;\">Dr. Matthias Hölzl</div>"
   ]
  },
  {
   "cell_type": "markdown",
   "id": "483a2ce0",
   "metadata": {
    "lang": "en",
    "slideshow": {
     "slide_type": "slide"
    }
   },
   "source": [
    "# Programming paradigms\n",
    "- Procedural\n",
    "- Functional (?)\n",
    "- Object oriented"
   ]
  },
  {
   "cell_type": "code",
   "execution_count": null,
   "id": "eaa43e65",
   "metadata": {
    "slideshow": {
     "slide_type": "slide"
    }
   },
   "outputs": [],
   "source": [
    "def add(x, y):\n",
    "    return x + y"
   ]
  },
  {
   "cell_type": "code",
   "execution_count": null,
   "id": "e6d35963",
   "metadata": {},
   "outputs": [],
   "source": [
    "add(2, 3)"
   ]
  },
  {
   "cell_type": "code",
   "execution_count": null,
   "id": "9ec9ec09",
   "metadata": {},
   "outputs": [],
   "source": [
    "accu = 0"
   ]
  },
  {
   "cell_type": "code",
   "execution_count": null,
   "id": "c7ab1b2c",
   "metadata": {
    "slideshow": {
     "slide_type": "slide"
    }
   },
   "outputs": [],
   "source": [
    "def inc(x):\n",
    "    global accu\n",
    "    accu += x"
   ]
  },
  {
   "cell_type": "code",
   "execution_count": null,
   "id": "f646f833",
   "metadata": {},
   "outputs": [],
   "source": [
    "def disp():\n",
    "    print(f\"Accumulator is {accu}.\")"
   ]
  },
  {
   "cell_type": "code",
   "execution_count": null,
   "id": "9d1ec3ec",
   "metadata": {},
   "outputs": [],
   "source": [
    "disp()\n",
    "inc(2)\n",
    "inc(3)\n",
    "disp()"
   ]
  },
  {
   "cell_type": "code",
   "execution_count": null,
   "id": "0e33d647",
   "metadata": {
    "slideshow": {
     "slide_type": "slide"
    }
   },
   "outputs": [],
   "source": [
    "def ntimes(n, f, x):\n",
    "    if n <= 0:\n",
    "        return x\n",
    "    else:\n",
    "        return ntimes(n - 1, f, f(x))"
   ]
  },
  {
   "cell_type": "code",
   "execution_count": null,
   "id": "bec5f87c",
   "metadata": {},
   "outputs": [],
   "source": [
    "ntimes(10, lambda x: x * 2, 1)"
   ]
  },
  {
   "cell_type": "code",
   "execution_count": null,
   "id": "0e093cc7",
   "metadata": {
    "slideshow": {
     "slide_type": "slide"
    }
   },
   "outputs": [],
   "source": [
    "from pathlib import Path\n",
    "\n",
    "path = Path(\"./some_file.txt\")"
   ]
  },
  {
   "cell_type": "code",
   "execution_count": null,
   "id": "11c54049",
   "metadata": {},
   "outputs": [],
   "source": [
    "path.with_suffix(\".md\").absolute()"
   ]
  }
 ],
 "metadata": {
  "kernelspec": {
   "display_name": "Python 3 (ipykernel)",
   "language": "python",
   "name": "python3"
  }
 },
 "nbformat": 4,
 "nbformat_minor": 5
}
