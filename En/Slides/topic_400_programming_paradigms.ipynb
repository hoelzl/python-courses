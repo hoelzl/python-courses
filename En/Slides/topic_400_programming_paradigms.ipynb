{
 "cells": [
  {
   "cell_type": "markdown",
   "id": "2661067f",
   "metadata": {
    "lang": "en",
    "slideshow": {
     "slide_type": "slide"
    }
   },
   "source": [
    "<img src=\"img/python-logo-notext.svg\"\n",
    "     style=\"display:block;margin:auto;width:10%\"/>\n",
    "<br>\n",
    "<div style=\"text-align:center; font-size:200%;\"><b>Programming paradigms</b></div>\n",
    "<br/>\n",
    "<div style=\"text-align:center;\">Dr. Matthias Hölzl</div>"
   ]
  },
  {
   "cell_type": "markdown",
   "id": "ed1e57e3",
   "metadata": {
    "lang": "en",
    "slideshow": {
     "slide_type": "slide"
    }
   },
   "source": [
    "# Programming paradigms\n",
    "- Procedural\n",
    "- Functional (?)\n",
    "- Object oriented"
   ]
  },
  {
   "cell_type": "code",
   "execution_count": null,
   "id": "8273004a",
   "metadata": {
    "slideshow": {
     "slide_type": "slide"
    }
   },
   "outputs": [],
   "source": [
    "def add(x, y):\n",
    "    return x + y"
   ]
  },
  {
   "cell_type": "code",
   "execution_count": null,
   "id": "3d442cc1",
   "metadata": {},
   "outputs": [],
   "source": [
    "add(2, 3)"
   ]
  },
  {
   "cell_type": "code",
   "execution_count": null,
   "id": "c28191dd",
   "metadata": {},
   "outputs": [],
   "source": [
    "accu = 0"
   ]
  },
  {
   "cell_type": "code",
   "execution_count": null,
   "id": "12159ead",
   "metadata": {
    "slideshow": {
     "slide_type": "slide"
    }
   },
   "outputs": [],
   "source": [
    "def inc(x):\n",
    "    global accu\n",
    "    accu += x"
   ]
  },
  {
   "cell_type": "code",
   "execution_count": null,
   "id": "2b290f41",
   "metadata": {},
   "outputs": [],
   "source": [
    "def disp():\n",
    "    print(f\"Accumulator is {accu}.\")"
   ]
  },
  {
   "cell_type": "code",
   "execution_count": null,
   "id": "6c71e0d1",
   "metadata": {},
   "outputs": [],
   "source": [
    "disp()\n",
    "inc(2)\n",
    "inc(3)\n",
    "disp()"
   ]
  },
  {
   "cell_type": "code",
   "execution_count": null,
   "id": "c2989e8a",
   "metadata": {
    "slideshow": {
     "slide_type": "slide"
    }
   },
   "outputs": [],
   "source": [
    "def ntimes(n, f, x):\n",
    "    if n <= 0:\n",
    "        return x\n",
    "    else:\n",
    "        return ntimes(n - 1, f, f(x))"
   ]
  },
  {
   "cell_type": "code",
   "execution_count": null,
   "id": "bdc39fbf",
   "metadata": {},
   "outputs": [],
   "source": [
    "ntimes(10, lambda x: x * 2, 1)"
   ]
  },
  {
   "cell_type": "code",
   "execution_count": null,
   "id": "2913db35",
   "metadata": {
    "slideshow": {
     "slide_type": "slide"
    }
   },
   "outputs": [],
   "source": [
    "from pathlib import Path\n",
    "\n",
    "path = Path(\"./some_file.txt\")"
   ]
  },
  {
   "cell_type": "code",
   "execution_count": null,
   "id": "d1bc44f2",
   "metadata": {},
   "outputs": [],
   "source": [
    "path.with_suffix(\".md\").absolute()"
   ]
  }
 ],
 "metadata": {
  "kernelspec": {
   "display_name": "Python 3 (ipykernel)",
   "language": "python",
   "name": "python3"
  }
 },
 "nbformat": 4,
 "nbformat_minor": 5
}
