{
 "cells": [
  {
   "cell_type": "markdown",
   "id": "5c9461e4e556fb85",
   "metadata": {
    "lang": "en"
   },
   "source": [
    "# Playground\n",
    "\n",
    "An empty notebook for experiments and small examples."
   ]
  },
  {
   "cell_type": "code",
   "execution_count": null,
   "id": "6b4e03423667dbb7",
   "metadata": {
    "tags": [
     "keep"
    ]
   },
   "outputs": [],
   "source": []
  }
 ],
 "metadata": {},
 "nbformat": 4,
 "nbformat_minor": 5
}
