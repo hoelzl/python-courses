{
 "cells": [
  {
   "cell_type": "markdown",
   "id": "13d71ee7",
   "metadata": {
    "lang": "en",
    "slideshow": {
     "slide_type": "slide"
    }
   },
   "source": [
    "<img src=\"img/python-logo-notext.svg\"\n",
    "     style=\"display:block;margin:auto;width:10%\"/>\n",
    "<br>\n",
    "<div style=\"text-align:center; font-size:200%;\"><b>Introduction to Python: Part 1</b></div>\n",
    "<br/>\n",
    "<div style=\"text-align:center;\">Dr. Matthias Hölzl</div>"
   ]
  },
  {
   "cell_type": "markdown",
   "id": "259d8c82",
   "metadata": {
    "lang": "en",
    "slideshow": {
     "slide_type": "slide"
    }
   },
   "source": [
    "# Parts of a program\n",
    "\n",
    "We want to write a program that outputs\n",
    "\n",
    "```\n",
    "Hello world!\n",
    "```\n",
    "\n",
    "on the screen.\n",
    "\n",
    "What do we need for this?"
   ]
  },
  {
   "cell_type": "markdown",
   "id": "411b4815",
   "metadata": {
    "lang": "en",
    "slideshow": {
     "slide_type": "subslide"
    }
   },
   "source": [
    "What do we need for this?\n",
    "\n",
    "- Data\n",
    "    - the text `Hello, world!`\n",
    "- Instructions\n",
    "    - *Output the following text on the screen*\n",
    "- Comments\n",
    "    - Notes for the programmer, are ignored by Python"
   ]
  },
  {
   "cell_type": "markdown",
   "id": "149e59cb",
   "metadata": {
    "lang": "en",
    "slideshow": {
     "slide_type": "subslide"
    }
   },
   "source": [
    "## Comments\n",
    "\n",
    "- `#` followed by any text\n",
    "- to the end of the line"
   ]
  },
  {
   "cell_type": "code",
   "execution_count": null,
   "id": "09f0c51d",
   "metadata": {
    "lines_to_next_cell": 2,
    "tags": [
     "keep"
    ]
   },
   "outputs": [],
   "source": [
    "# Das ist ein Kommentar.\n",
    "# Alle Zeilen in dieser Zelle werden\n",
    "# von Python ignoriert."
   ]
  },
  {
   "cell_type": "markdown",
   "id": "df860f3d",
   "metadata": {
    "lang": "en",
    "slideshow": {
     "slide_type": "subslide"
    }
   },
   "source": [
    "# Data\n",
    "\n",
    "- Numbers: `123`, `3.141592`\n",
    "- Text (strings): `'This is a text'`, `\"Hello, world!\"`"
   ]
  },
  {
   "cell_type": "code",
   "execution_count": null,
   "id": "12fc5f50",
   "metadata": {
    "slideshow": {
     "slide_type": "subslide"
    }
   },
   "outputs": [],
   "source": [
    "123"
   ]
  },
  {
   "cell_type": "code",
   "execution_count": null,
   "id": "87809c8b",
   "metadata": {},
   "outputs": [],
   "source": [
    "3.141592"
   ]
  },
  {
   "cell_type": "code",
   "execution_count": null,
   "id": "38b005a8",
   "metadata": {
    "slideshow": {
     "slide_type": "subslide"
    }
   },
   "outputs": [],
   "source": [
    "\"Das ist ein Text\""
   ]
  },
  {
   "cell_type": "code",
   "execution_count": null,
   "id": "60e02e90",
   "metadata": {},
   "outputs": [],
   "source": [
    "\"Hello, world!\""
   ]
  },
  {
   "cell_type": "code",
   "execution_count": null,
   "id": "8cd059c9",
   "metadata": {},
   "outputs": [],
   "source": [
    "\"\"\"Auch ein Text. (Another text.)\n",
    "Der über mehrere Zeilen geht. (Spanning multiple lines.)\"\"\""
   ]
  },
  {
   "cell_type": "markdown",
   "id": "1292ec93",
   "metadata": {
    "lang": "en",
    "slideshow": {
     "slide_type": "subslide"
    }
   },
   "source": [
    "Displaying values with the `print()` function\n",
    "To display values ​​you can use the `print()` function:\n",
    "\n",
    "`print(...)` prints the values between the trailing parens on the screen."
   ]
  },
  {
   "cell_type": "code",
   "execution_count": null,
   "id": "304d5df6",
   "metadata": {},
   "outputs": [],
   "source": [
    "print(123)"
   ]
  },
  {
   "cell_type": "code",
   "execution_count": null,
   "id": "4b20712e",
   "metadata": {
    "slideshow": {
     "slide_type": "subslide"
    }
   },
   "outputs": [],
   "source": [
    "print(\"Hello, world!\")"
   ]
  },
  {
   "cell_type": "markdown",
   "id": "7d281728",
   "metadata": {
    "lang": "en",
    "slideshow": {
     "slide_type": "slide"
    }
   },
   "source": [
    "## Excursion: displaying values in Jupyter notebooks\n",
    "\n",
    "- Jupyter notebooks print the last value of each cell on the screen\n",
    "- That doesn't happen in \"normal\" Python programs!\n",
    "  - At least when they are executed as programs\n",
    "  - The interactive interpreter behaves similar to notebooks"
   ]
  },
  {
   "cell_type": "code",
   "execution_count": null,
   "id": "ab6a1a63",
   "metadata": {
    "slideshow": {
     "slide_type": "subslide"
    }
   },
   "outputs": [],
   "source": [
    "123"
   ]
  },
  {
   "cell_type": "markdown",
   "id": "e9973d19",
   "metadata": {
    "lang": "en"
   },
   "source": [
    "To prevent the output of the last value of a cell in Jupyter\n",
    "you can end the line with a semicolon:"
   ]
  },
  {
   "cell_type": "code",
   "execution_count": null,
   "id": "5b1dc222",
   "metadata": {},
   "outputs": [],
   "source": [
    "123"
   ]
  },
  {
   "cell_type": "code",
   "execution_count": null,
   "id": "34c5004f",
   "metadata": {},
   "outputs": [],
   "source": [
    "# fmt: off\n",
    "123;\n",
    "# fmt: on"
   ]
  },
  {
   "cell_type": "markdown",
   "id": "d47a1e1e",
   "metadata": {
    "lang": "en",
    "slideshow": {
     "slide_type": "subslide"
    }
   },
   "source": [
    "## Mini workshop\n",
    "\n",
    "- Notebook `workshop_050_introduction_part1`\n",
    "- Section \"Introduction\""
   ]
  },
  {
   "cell_type": "markdown",
   "id": "64e8a7ae",
   "metadata": {
    "lang": "en",
    "slideshow": {
     "slide_type": "slide"
    }
   },
   "source": [
    "## Back to the `print()` function\n",
    "\n",
    "Multiple arguments can be passed to a `print()` function call:\n",
    "- The arguments are separated by commas\n",
    "- All arguments are printed on one line, with spaces between arguments."
   ]
  },
  {
   "cell_type": "code",
   "execution_count": null,
   "id": "5bee4bc0",
   "metadata": {},
   "outputs": [],
   "source": [
    "print(\"Der Wert von 1 + 1 ist\", 1 + 1, \".\")"
   ]
  },
  {
   "cell_type": "markdown",
   "id": "46176afd",
   "metadata": {
    "lang": "en",
    "slideshow": {
     "slide_type": "subslide"
    }
   },
   "source": [
    "By supplying a *named argument* `sep=''`, the spaces in the output are suppressed:"
   ]
  },
  {
   "cell_type": "code",
   "execution_count": null,
   "id": "110b7af3",
   "metadata": {},
   "outputs": [],
   "source": [
    "print(\"Der Wert von 1 + 1 ist\", 1 + 1, \".\", sep=\"\")"
   ]
  },
  {
   "cell_type": "markdown",
   "id": "432b4557",
   "metadata": {
    "lang": "en",
    "slideshow": {
     "slide_type": "subslide"
    }
   },
   "source": [
    "Any other strings are also allowed as the value of the `sep` argument:"
   ]
  },
  {
   "cell_type": "code",
   "execution_count": null,
   "id": "9bc10741",
   "metadata": {},
   "outputs": [],
   "source": [
    "# CSV (don't do this!)\n",
    "print(1, 3, 7.5, 2, sep=\",\")"
   ]
  },
  {
   "cell_type": "code",
   "execution_count": null,
   "id": "cec5154d",
   "metadata": {},
   "outputs": [],
   "source": [
    "# Uh, oh\n",
    "print(1, 3, 7.5, 2, \"who, me?\", sep=\",\")"
   ]
  },
  {
   "cell_type": "markdown",
   "id": "83f01364",
   "metadata": {
    "lang": "en",
    "slideshow": {
     "slide_type": "slide"
    }
   },
   "source": [
    "# Numbers and maths\n",
    "\n",
    "- Integers: `1`, `837`, `-12`\n",
    "- Floating point numbers: `0.5`, `123.4`, `-0.01`\n",
    "- Arithmetic operations:\n",
    "    - Addition: `+`\n",
    "    - Subtraction: `-`\n",
    "    - Multiplication: `*`\n",
    "    - Division: `/`"
   ]
  },
  {
   "cell_type": "markdown",
   "id": "d55f82ac",
   "metadata": {
    "lang": "en",
    "slideshow": {
     "slide_type": "subslide"
    }
   },
   "source": [
    "## Python as pocket calculator"
   ]
  },
  {
   "cell_type": "code",
   "execution_count": null,
   "id": "c900e068",
   "metadata": {},
   "outputs": [],
   "source": [
    "17 + 4"
   ]
  },
  {
   "cell_type": "code",
   "execution_count": null,
   "id": "43689fa2",
   "metadata": {},
   "outputs": [],
   "source": [
    "1 + 4 * 4 + (3 - 1) * (1 + 1)"
   ]
  },
  {
   "cell_type": "markdown",
   "id": "475b33e0",
   "metadata": {
    "lang": "en",
    "slideshow": {
     "slide_type": "subslide"
    }
   },
   "source": [
    "## Different types of numbers\n",
    "\n",
    "- Python distinguishes integers and floating point numbers:\n",
    "    - `1` is an integer (`int`)\n",
    "    - `1.0` is a floating point number (`float`)\n",
    "- With `type(...)` you can get the type of the argument:"
   ]
  },
  {
   "cell_type": "code",
   "execution_count": null,
   "id": "fedc1512",
   "metadata": {
    "slideshow": {
     "slide_type": "subslide"
    }
   },
   "outputs": [],
   "source": [
    "type(1)"
   ]
  },
  {
   "cell_type": "code",
   "execution_count": null,
   "id": "2d4a4b9f",
   "metadata": {},
   "outputs": [],
   "source": [
    "type(1.0)"
   ]
  },
  {
   "cell_type": "code",
   "execution_count": null,
   "id": "5e0655b9",
   "metadata": {},
   "outputs": [],
   "source": [
    "type(\"1\")"
   ]
  },
  {
   "cell_type": "markdown",
   "id": "f53f5521",
   "metadata": {
    "lang": "en",
    "slideshow": {
     "slide_type": "subslide"
    }
   },
   "source": [
    "Integers in Python have no (practically relevant) upper limit:"
   ]
  },
  {
   "cell_type": "code",
   "execution_count": null,
   "id": "97e5527e",
   "metadata": {},
   "outputs": [],
   "source": [
    "10000000000000000000000000000000000000000000000000 + 500"
   ]
  },
  {
   "cell_type": "code",
   "execution_count": null,
   "id": "187b9283",
   "metadata": {},
   "outputs": [],
   "source": [
    "type(10000000000000000000000000000000000000000000000000)"
   ]
  },
  {
   "cell_type": "markdown",
   "id": "7452d80e",
   "metadata": {
    "lang": "en",
    "slideshow": {
     "slide_type": "subslide"
    }
   },
   "source": [
    "## Mini workshop\n",
    "\n",
    "- Notebook `workshop_050_introduction_part1`\n",
    "- Section \"Numbers and mathematics\""
   ]
  },
  {
   "cell_type": "markdown",
   "id": "b21b6834",
   "metadata": {
    "lang": "en",
    "slideshow": {
     "slide_type": "slide"
    }
   },
   "source": [
    "## Arithmetic operations\n",
    "\n",
    "| Operator | Operation            |\n",
    "|:--------:|:---------------------|\n",
    "| +        | Sum                  |\n",
    "| -        | Difference           |\n",
    "| *        | Multiplication       |\n",
    "| /        | Division             |\n",
    "| **       | Power                |\n",
    "| %        | Modulo, Remainder    |\n",
    "| //       | Integer division     |"
   ]
  },
  {
   "cell_type": "markdown",
   "id": "d2e974e0",
   "metadata": {
    "lang": "en",
    "slideshow": {
     "slide_type": "subslide"
    }
   },
   "source": [
    "### Division"
   ]
  },
  {
   "cell_type": "code",
   "execution_count": null,
   "id": "40dc1b41",
   "metadata": {},
   "outputs": [],
   "source": [
    "4 / 2"
   ]
  },
  {
   "cell_type": "code",
   "execution_count": null,
   "id": "59ffc0ec",
   "metadata": {},
   "outputs": [],
   "source": [
    "20 / 7"
   ]
  },
  {
   "cell_type": "code",
   "execution_count": null,
   "id": "917cd95d",
   "metadata": {
    "slideshow": {
     "slide_type": "subslide"
    }
   },
   "outputs": [],
   "source": [
    "# // und % können zur Division mit Rest verwendet werden:\n",
    "20 // 7  # Wie oft geht 7 in 20?"
   ]
  },
  {
   "cell_type": "code",
   "execution_count": null,
   "id": "d15da01c",
   "metadata": {},
   "outputs": [],
   "source": [
    "20 % 7  # Welcher Rest bleibt dabei?"
   ]
  },
  {
   "cell_type": "code",
   "execution_count": null,
   "id": "36afdf34",
   "metadata": {},
   "outputs": [],
   "source": [
    "(20 // 7) * 7 + (20 % 7)"
   ]
  },
  {
   "cell_type": "markdown",
   "id": "9c88d301",
   "metadata": {
    "lang": "en",
    "slideshow": {
     "slide_type": "subslide"
    }
   },
   "source": [
    "`/` is left-associative (just like `//`, `%`, `+`, `-`, `*`)"
   ]
  },
  {
   "cell_type": "code",
   "execution_count": null,
   "id": "48d88a58",
   "metadata": {},
   "outputs": [],
   "source": [
    "20 / 5 / 2"
   ]
  },
  {
   "cell_type": "code",
   "execution_count": null,
   "id": "3446ef12",
   "metadata": {},
   "outputs": [],
   "source": [
    "# Besser:\n",
    "(20 / 5) / 2"
   ]
  },
  {
   "cell_type": "code",
   "execution_count": null,
   "id": "adb12aa4",
   "metadata": {},
   "outputs": [],
   "source": [
    "20 / (5 / 2)"
   ]
  },
  {
   "cell_type": "markdown",
   "id": "5ec429a5",
   "metadata": {
    "lang": "en",
    "slideshow": {
     "slide_type": "subslide"
    }
   },
   "source": [
    "### Exponentiation (power)"
   ]
  },
  {
   "cell_type": "code",
   "execution_count": null,
   "id": "fc4ba3f6",
   "metadata": {},
   "outputs": [],
   "source": [
    "2**3"
   ]
  },
  {
   "cell_type": "code",
   "execution_count": null,
   "id": "8c79f81c",
   "metadata": {},
   "outputs": [],
   "source": [
    "2 * 2 * 2"
   ]
  },
  {
   "cell_type": "code",
   "execution_count": null,
   "id": "2b3a29d8",
   "metadata": {},
   "outputs": [],
   "source": [
    "2**4"
   ]
  },
  {
   "cell_type": "code",
   "execution_count": null,
   "id": "4e65846e",
   "metadata": {},
   "outputs": [],
   "source": [
    "2 * 2 * 2 * 2"
   ]
  },
  {
   "cell_type": "markdown",
   "id": "a2ec9c3c",
   "metadata": {
    "lang": "en",
    "slideshow": {
     "slide_type": "subslide"
    }
   },
   "source": [
    "`**` is right-associative\n",
    "\n",
    "$2^{(2^3)} = 2^8 = 256 \\qquad$\n",
    "$(2^2)^3 = 4^3 = 64$"
   ]
  },
  {
   "cell_type": "code",
   "execution_count": null,
   "id": "770db8ee",
   "metadata": {},
   "outputs": [],
   "source": [
    "2**2**3"
   ]
  },
  {
   "cell_type": "code",
   "execution_count": null,
   "id": "dcdc4be0",
   "metadata": {},
   "outputs": [],
   "source": [
    "2 ** (2**3)"
   ]
  },
  {
   "cell_type": "code",
   "execution_count": null,
   "id": "94febbc7",
   "metadata": {},
   "outputs": [],
   "source": [
    "(2**2) ** 3"
   ]
  },
  {
   "cell_type": "markdown",
   "id": "56825646",
   "metadata": {
    "lang": "en",
    "slideshow": {
     "slide_type": "subslide"
    }
   },
   "source": [
    "The `**` operator can also be used to extract roots:\n",
    "\n",
    "$\\sqrt{4} = 4^{1/2} = 2$\n",
    "$\\sqrt{9} = 9^{1/2} = 3$\n",
    "$\\sqrt{2} = 2^{1/2} \\approx 1.4142$"
   ]
  },
  {
   "cell_type": "code",
   "execution_count": null,
   "id": "a6d7af7e",
   "metadata": {},
   "outputs": [],
   "source": [
    "4**0.5"
   ]
  },
  {
   "cell_type": "code",
   "execution_count": null,
   "id": "48bc358d",
   "metadata": {},
   "outputs": [],
   "source": [
    "9**0.5"
   ]
  },
  {
   "cell_type": "code",
   "execution_count": null,
   "id": "a8c15f02",
   "metadata": {},
   "outputs": [],
   "source": [
    "2**0.5"
   ]
  },
  {
   "cell_type": "markdown",
   "id": "c65a03f7",
   "metadata": {
    "lang": "en",
    "slideshow": {
     "slide_type": "slide"
    }
   },
   "source": [
    "# Variables\n",
    "\n",
    "We want to build a fence around our new property.\n",
    "\n",
    "<img src=\"img/fence.svg\" style=\"display:block;margin:auto;width:50%\"/>"
   ]
  },
  {
   "cell_type": "markdown",
   "id": "19157b4d",
   "metadata": {
    "lang": "en"
   },
   "source": [
    "<img src=\"img/fence.svg\" style=\"vertical-align:top;overflow:auto;float:right;width:25%\"/>\n",
    "\n",
    "The measured lengths are:\n",
    "- Birkenweg: 20m\n",
    "- Fichtengasse: 30m\n",
    "\n",
    "How long does our fence have to be?"
   ]
  },
  {
   "cell_type": "code",
   "execution_count": null,
   "id": "30b153fd",
   "metadata": {},
   "outputs": [],
   "source": [
    "20 + 30 + (20**2 + 30**2) ** 0.5"
   ]
  },
  {
   "cell_type": "markdown",
   "id": "8ce87039",
   "metadata": {
    "lang": "en",
    "slideshow": {
     "slide_type": "subslide"
    }
   },
   "source": [
    "<img src=\"img/fence.svg\" style=\"vertical-align:top;overflow:auto;float:right;width:25%\"/>\n",
    "\n",
    "It is not clear what the numbers in the preceding expression mean. Can we do better?"
   ]
  },
  {
   "cell_type": "code",
   "execution_count": null,
   "id": "5d3f76a4",
   "metadata": {},
   "outputs": [],
   "source": [
    "länge_birkenweg = 20\n",
    "länge_fichtengasse = 30\n",
    "länge_hauptstr = (länge_birkenweg**2 + länge_fichtengasse**2) ** 0.5\n",
    "länge_gesamt = länge_birkenweg + länge_fichtengasse + länge_hauptstr\n",
    "ergebniss = länge_gesamt"
   ]
  },
  {
   "cell_type": "markdown",
   "id": "637c356b",
   "metadata": {
    "lang": "en",
    "slideshow": {
     "slide_type": "slide"
    }
   },
   "source": [
    "## More detailed description of variables\n",
    "\n",
    "<img src=\"img/variables-01.svg\" style=\"float:right;margin:auto;width:50%\"/>\n",
    "\n",
    "A *variable* is\n",
    "- a <span style=\"color:red;\">\"reference\"</span> to an \"object\"\n",
    "- which has a <span style=\"color:red;\">name</span>.\n",
    "\n",
    "<span style=\"color:blue;\">An object </span> can be referenced by<span style=\"color:blue;\"> several variables </span>!"
   ]
  },
  {
   "cell_type": "markdown",
   "id": "a7ffda35",
   "metadata": {
    "lang": "en",
    "slideshow": {
     "slide_type": "subslide"
    }
   },
   "source": [
    "<img src=\"img/variables-01.svg\" style=\"float:right;margin:auto;width:50%\"/>\n",
    "\n",
    "A variable is\n",
    "- generated by `name = value`\n",
    "- read by `name`\n",
    "- changed by `name=value`\n",
    "\n",
    "Creating and changing variable <br/>\n",
    "are *statements*."
   ]
  },
  {
   "cell_type": "code",
   "execution_count": null,
   "id": "50fc201f",
   "metadata": {
    "incorrectly_encoded_metadata": "{\"slideshow\": {\"slide_type\": \"subslide\"}} tags=[\"code-along\"] tags=[\"keep\"]"
   },
   "outputs": [],
   "source": [
    "länge_birkenweg = 20\n",
    "print(länge_birkenweg)\n",
    "länge_birkenweg = 25\n",
    "print(länge_birkenweg)"
   ]
  },
  {
   "cell_type": "markdown",
   "id": "08004043",
   "metadata": {
    "lang": "en",
    "slideshow": {
     "slide_type": "slide"
    }
   },
   "source": [
    "## Properties of variables in Python\n",
    "\n",
    "- A variable can store values of any data type\n",
    "    - There are no `int` variables, etc.\n",
    "    - Anather way of saying this: Python is dynamically typed\n",
    "- Variables must be created before they are used\n",
    "- You can assign new values to variables\n",
    "    - The *old value* of the variable can be used on the right hand side:<br/> `jobs = jobs + 1`"
   ]
  },
  {
   "cell_type": "code",
   "execution_count": null,
   "id": "0751522f",
   "metadata": {
    "incorrectly_encoded_metadata": "{\"slideshow\": {\"slide_type\": \"subslide\"}} tags=[\"code-along\"] tags=[\"keep\"]"
   },
   "outputs": [],
   "source": [
    "x = \"Hallo!\"\n",
    "print(x)\n",
    "x = 123\n",
    "print(x)\n",
    "x = x + 1\n",
    "print(x)\n",
    "x += 1\n",
    "print(x)"
   ]
  },
  {
   "cell_type": "code",
   "execution_count": null,
   "id": "1dd7867c",
   "metadata": {
    "incorrectly_encoded_metadata": "{\"slideshow\": {\"slide_type\": \"subslide\"}} tags=[\"code-along\"] tags=[\"keep\"]",
    "lines_to_next_cell": 2
   },
   "outputs": [],
   "source": [
    "# print(diese_variable_gibt_es_nicht)"
   ]
  },
  {
   "cell_type": "code",
   "execution_count": null,
   "id": "2416a50a",
   "metadata": {
    "lines_to_next_cell": 2
   },
   "outputs": [],
   "source": [
    "# nonono = nonono + 1"
   ]
  },
  {
   "cell_type": "markdown",
   "id": "41b32659",
   "metadata": {
    "lang": "en",
    "slideshow": {
     "slide_type": "slide"
    }
   },
   "source": [
    "## Variable names in Python\n",
    "\n",
    "- Begin with a letter or underscore `_`\n",
    "    - Umlauts also count as letters\n",
    "- Can contain digits, letters and underscores `_`\n",
    "- May contain many other Unicode characters\n",
    "    - But it's usually better to avoid them...\n",
    "- A distinction is made between upper and lower case\n",
    "    - `A` is a different variable than `a`"
   ]
  },
  {
   "cell_type": "markdown",
   "id": "89326901",
   "metadata": {
    "lang": "en",
    "slideshow": {
     "slide_type": "subslide"
    }
   },
   "source": [
    "### Style\n",
    "\n",
    "- Variable names are written in lower case\n",
    "    - Except constant variables: `CONSTANT_VAR`\n",
    "- Components are separated by underscores `_`\n",
    "    - This style is called snake case\n",
    "- Variables that start and end with two underscores\n",
    "  typically have a special meaning (*dunders*):\n",
    "    - `__class__`, `__name__`\n",
    "    - Normal user-defined variables should not be dunders"
   ]
  },
  {
   "cell_type": "code",
   "execution_count": null,
   "id": "a9e9197c",
   "metadata": {
    "slideshow": {
     "slide_type": "subslide"
    }
   },
   "outputs": [],
   "source": [
    "print(__name__)\n",
    "print(type(__name__))"
   ]
  },
  {
   "cell_type": "code",
   "execution_count": null,
   "id": "add9fdd6",
   "metadata": {},
   "outputs": [],
   "source": [
    "# Bitte nicht nachmachen, obwohl es möglich ist/ Don't do this:\n",
    "__my_var__ = 123"
   ]
  },
  {
   "cell_type": "code",
   "execution_count": null,
   "id": "f97d1917",
   "metadata": {},
   "outputs": [],
   "source": [
    "__my_var__"
   ]
  },
  {
   "cell_type": "markdown",
   "id": "fb5d4e15",
   "metadata": {
    "lang": "en",
    "slideshow": {
     "slide_type": "subslide"
    }
   },
   "source": [
    "- Sometimes \"private\" variables are written with a leading underscore: `_my_var`\n",
    "    - This is particularly common in older code (for global variables)\n",
    "    - There are more conventions for classes\n",
    "- Most Python projects follow the conventions in\n",
    "  [PEP 8](https://www.python.org/dev/peps/pep-0008/#naming-conventions)"
   ]
  },
  {
   "cell_type": "code",
   "execution_count": null,
   "id": "f482a27d",
   "metadata": {},
   "outputs": [],
   "source": [
    "_my_var = 234"
   ]
  },
  {
   "cell_type": "code",
   "execution_count": null,
   "id": "d0350b36",
   "metadata": {},
   "outputs": [],
   "source": [
    "_my_var"
   ]
  },
  {
   "cell_type": "code",
   "execution_count": null,
   "id": "978baac2",
   "metadata": {
    "slideshow": {
     "slide_type": "subslide"
    },
    "tags": [
     "keep"
    ]
   },
   "outputs": [],
   "source": [
    "variable_1 = 123\n",
    "VARIABLE_1 = 234\n",
    "Variable_1 = 345\n",
    "variablE_1 = 456"
   ]
  },
  {
   "cell_type": "code",
   "execution_count": null,
   "id": "369e51e2",
   "metadata": {
    "tags": [
     "keep"
    ]
   },
   "outputs": [],
   "source": [
    "print(variable_1)\n",
    "print(VARIABLE_1)\n",
    "print(Variable_1)\n",
    "print(variablE_1)"
   ]
  },
  {
   "cell_type": "code",
   "execution_count": null,
   "id": "b1fa3bf5",
   "metadata": {
    "incorrectly_encoded_metadata": "{\"slideshow\": {\"slide_type\": \"subslide\"}} tags=[\"code-along\"] tags=[\"keep\"]"
   },
   "outputs": [],
   "source": [
    "_my_var = 1\n",
    "print(_my_var)\n",
    "_my_var = _my_var + 5\n",
    "print(_my_var)"
   ]
  },
  {
   "cell_type": "code",
   "execution_count": null,
   "id": "837dac58",
   "metadata": {
    "slideshow": {
     "slide_type": "subslide"
    },
    "tags": [
     "keep"
    ]
   },
   "outputs": [],
   "source": [
    "größenmaßstäbe_der_fußgängerübergänge = 0.3\n",
    "größenmaßstäbe_der_fußgängerübergänge"
   ]
  },
  {
   "cell_type": "code",
   "execution_count": null,
   "id": "bcb72330",
   "metadata": {
    "lines_to_next_cell": 2,
    "tags": [
     "keep"
    ]
   },
   "outputs": [],
   "source": [
    "# me@foo = 1"
   ]
  },
  {
   "cell_type": "code",
   "execution_count": null,
   "id": "0b81e89f",
   "metadata": {
    "lines_to_next_cell": 2,
    "slideshow": {
     "slide_type": "subslide"
    },
    "tags": [
     "keep"
    ]
   },
   "outputs": [],
   "source": [
    "α = 0.2\n",
    "β = 0.7\n",
    "γ = α**2 + 3 * β**2\n",
    "print(γ)\n",
    "αβγ = α * β * γ\n",
    "print(αβγ)\n",
    "Σ = 1 + 2 + 3\n",
    "print(Σ)\n",
    "# ∑ = 1 + 2 + 3 # Unzulässig!"
   ]
  },
  {
   "cell_type": "markdown",
   "id": "3433e592",
   "metadata": {
    "lang": "en",
    "slideshow": {
     "slide_type": "subslide"
    }
   },
   "source": [
    "## Mini workshop\n",
    "\n",
    "- Notebook `workshop_050_introduction_part1`\n",
    "- Section \"Pirates\""
   ]
  },
  {
   "cell_type": "markdown",
   "id": "b989b8ad",
   "metadata": {
    "lang": "en",
    "slideshow": {
     "slide_type": "slide"
    }
   },
   "source": [
    "## Assignment to multiple variables\n",
    "\n",
    "In Python, multiple variables can be defined (or assigned values) at the same time:"
   ]
  },
  {
   "cell_type": "code",
   "execution_count": null,
   "id": "27c0b7da",
   "metadata": {},
   "outputs": [],
   "source": [
    "a, b = 1, 2\n",
    "print(a)\n",
    "print(b)"
   ]
  },
  {
   "cell_type": "markdown",
   "id": "d054bef6",
   "metadata": {
    "lang": "en",
    "slideshow": {
     "slide_type": "slide"
    }
   },
   "source": [
    "# Functions\n",
    "\n",
    "We want to start a company for fencing triangular plots of land.\n",
    "\n",
    "For each property bordered by streets $A$, $B$ and $C$ we calculate:"
   ]
  },
  {
   "cell_type": "code",
   "execution_count": null,
   "id": "a8bc9c5f",
   "metadata": {
    "tags": [
     "keep"
    ]
   },
   "outputs": [],
   "source": [
    "länge_a = 10  # Beispielwert\n",
    "länge_b = 40  # Beispielwert\n",
    "länge_c = (länge_a**2 + länge_b**2) ** 0.5\n",
    "länge_gesamt = länge_a + länge_b + länge_c\n",
    "print(länge_gesamt)"
   ]
  },
  {
   "cell_type": "markdown",
   "id": "b4e8d1bd",
   "metadata": {
    "lang": "en"
   },
   "source": [
    "Can we make this a little more elegant?"
   ]
  },
  {
   "cell_type": "markdown",
   "id": "7d1fb971",
   "metadata": {
    "lang": "en",
    "slideshow": {
     "slide_type": "subslide"
    }
   },
   "source": [
    "## Pythagorean theorem\n",
    "\n",
    "We always calculate the length of $C$ from $A$ and $B$ according to the theorem of\n",
    "Pythagoras: $C = \\sqrt{A^2 + B^2}$.\n",
    "\n",
    "We can express this in Python using a *function*:"
   ]
  },
  {
   "cell_type": "code",
   "execution_count": null,
   "id": "1f8983d4",
   "metadata": {
    "slideshow": {
     "slide_type": "subslide"
    }
   },
   "outputs": [],
   "source": [
    "def pythagoras(a, b):\n",
    "    c = (a**2 + b**2) ** 0.5\n",
    "    return c"
   ]
  },
  {
   "cell_type": "code",
   "execution_count": null,
   "id": "c8739c5f",
   "metadata": {},
   "outputs": [],
   "source": [
    "pythagoras(3, 4)"
   ]
  },
  {
   "cell_type": "code",
   "execution_count": null,
   "id": "e36260ed",
   "metadata": {
    "lines_to_next_cell": 2
   },
   "outputs": [],
   "source": [
    "pythagoras(1, 1)"
   ]
  },
  {
   "cell_type": "markdown",
   "id": "60ecd5d5",
   "metadata": {
    "lang": "en",
    "lines_to_next_cell": 2,
    "slideshow": {
     "slide_type": "slide"
    }
   },
   "source": [
    "## Function definition\n",
    "- Keyword `def`\n",
    "- Function name\n",
    "- Function parameters, in brackets; colon\n",
    "- Body of the function, indented one tab\n",
    "- In the body, the parameters can be used like variables\n",
    "- Keyword `return`\n",
    "    - Exits the function\n",
    "    - Determines which value is returned"
   ]
  },
  {
   "cell_type": "markdown",
   "id": "802ab92f",
   "metadata": {
    "lang": "en",
    "slideshow": {
     "slide_type": "slide"
    }
   },
   "source": [
    "## Function call\n",
    "\n",
    "- Function name\n",
    "- Arguments of the call, in brackets\n",
    "- One argument for each parameter"
   ]
  },
  {
   "cell_type": "code",
   "execution_count": null,
   "id": "d5120969",
   "metadata": {
    "lines_to_next_cell": 2
   },
   "outputs": [],
   "source": [
    "pythagoras(3, 4)"
   ]
  },
  {
   "cell_type": "markdown",
   "id": "36a6eb22",
   "metadata": {
    "lang": "en",
    "slideshow": {
     "slide_type": "subslide"
    }
   },
   "source": [
    "### Mini workshop\n",
    "\n",
    "Write a function `greeting(name)` that prints a greeting in the form\n",
    "\"Hello *name*!\" to the screen, e.g.\n",
    "```python\n",
    ">>> greeting(\"Max\")\n",
    "Hi Max!\n",
    ">>>\n",
    "```"
   ]
  },
  {
   "cell_type": "code",
   "execution_count": null,
   "id": "e9190304",
   "metadata": {},
   "outputs": [],
   "source": [
    "def greeting(name):\n",
    "    print(\"Hallo \", name, \"!\", sep=\"\")"
   ]
  },
  {
   "cell_type": "code",
   "execution_count": null,
   "id": "9e6fe827",
   "metadata": {
    "lines_to_next_cell": 1
   },
   "outputs": [],
   "source": [
    "greeting(\"Max\")"
   ]
  },
  {
   "cell_type": "markdown",
   "id": "b227e7ec",
   "metadata": {
    "lang": "en",
    "slideshow": {
     "slide_type": "subslide"
    }
   },
   "source": [
    "## Back to fences\n",
    "\n",
    "- So far we have calculated the length of the third side of our property.\n",
    "- We still need a function that calculates the total length:"
   ]
  },
  {
   "cell_type": "code",
   "execution_count": null,
   "id": "98b17288",
   "metadata": {},
   "outputs": [],
   "source": [
    "def gesamtlänge(x, y):\n",
    "    z = pythagoras(x, y)\n",
    "    länge = x + y + z\n",
    "    return länge"
   ]
  },
  {
   "cell_type": "markdown",
   "id": "a1763552",
   "metadata": {
    "lang": "en",
    "slideshow": {
     "slide_type": "subslide"
    }
   },
   "source": [
    "With this we can simplify our problem:"
   ]
  },
  {
   "cell_type": "code",
   "execution_count": null,
   "id": "db3d0ccc",
   "metadata": {},
   "outputs": [],
   "source": [
    "länge_a = 10  # Beispielwert\n",
    "länge_b = 40  # Beispielwert\n",
    "print(gesamtlänge(länge_a, länge_b))"
   ]
  },
  {
   "cell_type": "markdown",
   "id": "93db9c75",
   "metadata": {
    "lang": "en",
    "slideshow": {
     "slide_type": "subslide"
    }
   },
   "source": [
    "## Mini workshop\n",
    "\n",
    "- Notebook `workshop_050_introduction_part1`\n",
    "- Section \"Donations\""
   ]
  },
  {
   "cell_type": "markdown",
   "id": "93696778",
   "metadata": {
    "lang": "en",
    "slideshow": {
     "slide_type": "slide"
    }
   },
   "source": [
    "## Importing modules\n",
    "\n",
    "Much of Python's functionality is not implemented in the interpreter itself\n",
    "but rather provided by external modules (and packages). With the `import`\n",
    "statement you can make this functionality available:"
   ]
  },
  {
   "cell_type": "code",
   "execution_count": null,
   "id": "992bd8b9",
   "metadata": {},
   "outputs": [],
   "source": [
    "import math"
   ]
  },
  {
   "cell_type": "markdown",
   "id": "60869876",
   "metadata": {
    "lang": "en",
    "slideshow": {
     "slide_type": "subslide"
    }
   },
   "source": [
    "The functions from the `math` module can then be accessed with the syntax `math.floor`:"
   ]
  },
  {
   "cell_type": "code",
   "execution_count": null,
   "id": "d64bc2c3",
   "metadata": {},
   "outputs": [],
   "source": [
    "math.floor(2.5)"
   ]
  },
  {
   "cell_type": "code",
   "execution_count": null,
   "id": "1e10b0df",
   "metadata": {},
   "outputs": [],
   "source": [
    "math.floor(2.9)"
   ]
  },
  {
   "cell_type": "markdown",
   "id": "5710e418",
   "metadata": {
    "lang": "en",
    "slideshow": {
     "slide_type": "subslide"
    }
   },
   "source": [
    "The `pythagoras` function is available from the `math` module under the name `hypot`:"
   ]
  },
  {
   "cell_type": "code",
   "execution_count": null,
   "id": "b9495e5d",
   "metadata": {},
   "outputs": [],
   "source": [
    "math.hypot(3, 4)"
   ]
  },
  {
   "cell_type": "markdown",
   "id": "41be7182",
   "metadata": {
    "lang": "en",
    "slideshow": {
     "slide_type": "subslide"
    }
   },
   "source": [
    "This allows us to write the `total_length` function without the helper function `pythagoras`:"
   ]
  },
  {
   "cell_type": "code",
   "execution_count": null,
   "id": "a48e034f",
   "metadata": {},
   "outputs": [],
   "source": [
    "def gesamtlänge(x, y):\n",
    "    z = math.hypot(x, y)\n",
    "    länge = x + y + z\n",
    "    return länge"
   ]
  },
  {
   "cell_type": "code",
   "execution_count": null,
   "id": "c186769f",
   "metadata": {},
   "outputs": [],
   "source": [
    "gesamtlänge(3, 4)"
   ]
  },
  {
   "cell_type": "markdown",
   "id": "e01d274c",
   "metadata": {
    "lang": "en",
    "slideshow": {
     "slide_type": "slide"
    }
   },
   "source": [
    "## Other types of numbers\n",
    "\n",
    "Python offers other kinds of numbers for special applications\n",
    "\n",
    "- Decimal numbers with any precision\n",
    "- Complex numbers\n",
    "- Fixed size integers (e.g. with `numpy`)\n",
    "- Floating point numbers with different sizes (`numpy`)"
   ]
  },
  {
   "cell_type": "code",
   "execution_count": null,
   "id": "dbfb7ff8",
   "metadata": {
    "slideshow": {
     "slide_type": "subslide"
    }
   },
   "outputs": [],
   "source": [
    "1.1 * 100"
   ]
  },
  {
   "cell_type": "code",
   "execution_count": null,
   "id": "cb283c59",
   "metadata": {},
   "outputs": [],
   "source": [
    "import decimal\n",
    "\n",
    "decimal.Decimal(\"1.1\") * 100"
   ]
  },
  {
   "cell_type": "code",
   "execution_count": null,
   "id": "ebc2f735",
   "metadata": {
    "slideshow": {
     "slide_type": "subslide"
    }
   },
   "outputs": [],
   "source": [
    "(1 + 1j) * (1 + 1j)"
   ]
  },
  {
   "cell_type": "code",
   "execution_count": null,
   "id": "ceb40099",
   "metadata": {},
   "outputs": [],
   "source": [
    "1j * 1j"
   ]
  },
  {
   "cell_type": "markdown",
   "id": "a456da4b",
   "metadata": {
    "lang": "en",
    "slideshow": {
     "slide_type": "slide"
    }
   },
   "source": [
    "## Functions without arguments\n",
    "\n",
    "- A function can also be defined without formal parameters.\n",
    "- The parentheses must be used in the definition and in calls."
   ]
  },
  {
   "cell_type": "code",
   "execution_count": null,
   "id": "08ff90d6",
   "metadata": {
    "slideshow": {
     "slide_type": "subslide"
    }
   },
   "outputs": [],
   "source": [
    "def null():\n",
    "    return 0"
   ]
  },
  {
   "cell_type": "code",
   "execution_count": null,
   "id": "10f69900",
   "metadata": {},
   "outputs": [],
   "source": [
    "null()"
   ]
  },
  {
   "cell_type": "code",
   "execution_count": null,
   "id": "ecae0d1e",
   "metadata": {},
   "outputs": [],
   "source": [
    "# Fehler: 'Aufruf' ohne Klammern\n",
    "null"
   ]
  },
  {
   "cell_type": "code",
   "execution_count": null,
   "id": "117971a0",
   "metadata": {
    "lines_to_next_cell": 2
   },
   "outputs": [],
   "source": [
    "# Fehler: 'Aufruf' ohne Klammern\n",
    "# plus_eins(null)"
   ]
  },
  {
   "cell_type": "markdown",
   "id": "4c8a49a4",
   "metadata": {
    "lang": "en",
    "slideshow": {
     "slide_type": "slide"
    }
   },
   "source": [
    "# Functions with side effects\n",
    "\n",
    "Functions can\n",
    "\n",
    "- Calculate values: `sumofsquares(3, 4)`\n",
    "- Have side effects: `print(\"Hans\")`"
   ]
  },
  {
   "cell_type": "code",
   "execution_count": null,
   "id": "72dc9995",
   "metadata": {},
   "outputs": [],
   "source": [
    "type(print(\"Hans\"))"
   ]
  },
  {
   "cell_type": "markdown",
   "id": "a41c2388",
   "metadata": {
    "lang": "en",
    "slideshow": {
     "slide_type": "subslide"
    }
   },
   "source": [
    "### The value `None`\n",
    "\n",
    "The return value of the `print()` function is the special value `None`.\n",
    "- Jupyter doesn't print `None` as a cell's value:"
   ]
  },
  {
   "cell_type": "code",
   "execution_count": null,
   "id": "05f21a48",
   "metadata": {},
   "outputs": [],
   "source": [
    "None"
   ]
  },
  {
   "cell_type": "code",
   "execution_count": null,
   "id": "9f744e60",
   "metadata": {},
   "outputs": [],
   "source": [
    "print(None)"
   ]
  },
  {
   "cell_type": "code",
   "execution_count": null,
   "id": "f32d2a3a",
   "metadata": {},
   "outputs": [],
   "source": [
    "print(print(\"Hans\"))"
   ]
  },
  {
   "cell_type": "markdown",
   "id": "8a012e80",
   "metadata": {
    "lang": "en",
    "slideshow": {
     "slide_type": "subslide"
    }
   },
   "source": [
    "- Functions can have side effects\n",
    "    - E.g. by calling `print`\n",
    "- These are executed when a function call is evaluated\n",
    "- Even functions with side effects return a value\n",
    "    - Often this is the special value `None`\n",
    "    - If a function returns `None` we don't need an explicit `return` statement"
   ]
  },
  {
   "cell_type": "code",
   "execution_count": null,
   "id": "de12d3ab",
   "metadata": {
    "slideshow": {
     "slide_type": "subslide"
    }
   },
   "outputs": [],
   "source": [
    "def say_hello():\n",
    "    print(\"Hello, world!\")\n",
    "    print(\"Today is a great day!\")"
   ]
  },
  {
   "cell_type": "code",
   "execution_count": null,
   "id": "cf09ce43",
   "metadata": {},
   "outputs": [],
   "source": [
    "say_hello()"
   ]
  },
  {
   "cell_type": "markdown",
   "id": "3a85d73e",
   "metadata": {
    "lang": "en",
    "slideshow": {
     "slide_type": "subslide"
    }
   },
   "source": [
    "## Mini workshop\n",
    "\n",
    "- Notebook `workshop_050_introduction_part1`\n",
    "- Section \"Pirates, Part 2\""
   ]
  },
  {
   "cell_type": "markdown",
   "id": "f9fa17cc",
   "metadata": {
    "lang": "en",
    "slideshow": {
     "slide_type": "slide"
    }
   },
   "source": [
    "## Default arguments\n",
    "\n",
    "Function parameters can have a default value.\n",
    "- The default value is given with the syntax `parameter=value`\n",
    "- If the corresponding argument is not passed, the default value is used\n",
    "- If a parameter has a default value, all values ​​to the right of it must also have one"
   ]
  },
  {
   "cell_type": "code",
   "execution_count": null,
   "id": "7acaa828",
   "metadata": {
    "slideshow": {
     "slide_type": "subslide"
    }
   },
   "outputs": [],
   "source": [
    "def add_weighted(a, b=0, c=0):\n",
    "    return a + 2 * b + 3 * c"
   ]
  },
  {
   "cell_type": "code",
   "execution_count": null,
   "id": "9d18ff50",
   "metadata": {},
   "outputs": [],
   "source": [
    "print(add_weighted(2))\n",
    "print(add_weighted(2, 3))\n",
    "print(add_weighted(2, 3, 4))"
   ]
  },
  {
   "cell_type": "markdown",
   "id": "429b498a",
   "metadata": {
    "lang": "en",
    "slideshow": {
     "slide_type": "slide"
    }
   },
   "source": [
    "## Be careful with variable default arguments"
   ]
  },
  {
   "cell_type": "code",
   "execution_count": null,
   "id": "bf43cf3d",
   "metadata": {},
   "outputs": [],
   "source": [
    "def append_value(value, my_list=[]):\n",
    "    my_list.append(value)\n",
    "    return my_list"
   ]
  },
  {
   "cell_type": "code",
   "execution_count": null,
   "id": "d91dc21a",
   "metadata": {},
   "outputs": [],
   "source": [
    "append_value(1)"
   ]
  },
  {
   "cell_type": "code",
   "execution_count": null,
   "id": "9b42d7b7",
   "metadata": {},
   "outputs": [],
   "source": [
    "append_value(2)"
   ]
  },
  {
   "cell_type": "markdown",
   "id": "9fc063b3",
   "metadata": {
    "lang": "en",
    "slideshow": {
     "slide_type": "slide"
    }
   },
   "source": [
    "Solution: use `Null` as argument, create a new list in each call"
   ]
  },
  {
   "cell_type": "code",
   "execution_count": null,
   "id": "c955039c",
   "metadata": {},
   "outputs": [],
   "source": [
    "def append_value(value, my_list=None):\n",
    "    if my_list is None:\n",
    "        my_list = []\n",
    "    my_list.append(value)\n",
    "    return my_list"
   ]
  },
  {
   "cell_type": "code",
   "execution_count": null,
   "id": "7818bad9",
   "metadata": {},
   "outputs": [],
   "source": [
    "append_value(1)"
   ]
  },
  {
   "cell_type": "code",
   "execution_count": null,
   "id": "9caea812",
   "metadata": {},
   "outputs": [],
   "source": [
    "append_value(2)"
   ]
  },
  {
   "cell_type": "markdown",
   "id": "7230d1bd",
   "metadata": {
    "lang": "en",
    "slideshow": {
     "slide_type": "slide"
    }
   },
   "source": [
    "## Calls with named arguments\n",
    "\n",
    "When calling a function, the parameter name can be specified in the form `parameter=value`.\n",
    "- The appropriate value is then substituted for the named parameter\n",
    "- If all parameters are named, the call becomes independent of the parameter order"
   ]
  },
  {
   "cell_type": "code",
   "execution_count": null,
   "id": "8e1d80ed",
   "metadata": {
    "slideshow": {
     "slide_type": "subslide"
    }
   },
   "outputs": [],
   "source": [
    "def say_hi(person, greeting=\"Hi\"):\n",
    "    print(greeting, \" \", person, \"!\", sep=\"\")"
   ]
  },
  {
   "cell_type": "code",
   "execution_count": null,
   "id": "1df8eef8",
   "metadata": {},
   "outputs": [],
   "source": [
    "say_hi(\"Jill\")\n",
    "say_hi(\"Jack\", \"Good morning\")"
   ]
  },
  {
   "cell_type": "code",
   "execution_count": null,
   "id": "4cfd246f",
   "metadata": {},
   "outputs": [],
   "source": [
    "say_hi(greeting=\"Heya\", person=\"Betty\")"
   ]
  },
  {
   "cell_type": "code",
   "execution_count": null,
   "id": "a3425910",
   "metadata": {
    "slideshow": {
     "slide_type": "subslide"
    }
   },
   "outputs": [],
   "source": [
    "def add_weighted(a, b=0, c=0):\n",
    "    return a + 2 * b + 3 * c"
   ]
  },
  {
   "cell_type": "code",
   "execution_count": null,
   "id": "40b73cc0",
   "metadata": {
    "slideshow": {
     "slide_type": "subslide"
    }
   },
   "outputs": [],
   "source": [
    "add_weighted(c=2, a=1)"
   ]
  },
  {
   "cell_type": "code",
   "execution_count": null,
   "id": "96b395d3",
   "metadata": {},
   "outputs": [],
   "source": [
    "add_weighted(5, c=7)"
   ]
  },
  {
   "cell_type": "markdown",
   "id": "fedf6da6",
   "metadata": {
    "lang": "en",
    "slideshow": {
     "slide_type": "slide"
    }
   },
   "source": [
    "## Type annotations\n",
    "\n",
    "Python allows the types of function arguments and the return type to be specified:"
   ]
  },
  {
   "cell_type": "code",
   "execution_count": null,
   "id": "39eff5f3",
   "metadata": {},
   "outputs": [],
   "source": [
    "def mult(a: int, b: float) -> float:\n",
    "    return a * b"
   ]
  },
  {
   "cell_type": "code",
   "execution_count": null,
   "id": "8ab72ecc",
   "metadata": {},
   "outputs": [],
   "source": [
    "mult(3, 2.0)"
   ]
  },
  {
   "cell_type": "markdown",
   "id": "3480fcf2",
   "metadata": {
    "lang": "en",
    "slideshow": {
     "slide_type": "subslide"
    }
   },
   "source": [
    "Type annotations are for documentation only and are ignored by Python:"
   ]
  },
  {
   "cell_type": "code",
   "execution_count": null,
   "id": "7214eec9",
   "metadata": {},
   "outputs": [],
   "source": [
    "mult(\"a\", 3)"
   ]
  },
  {
   "cell_type": "markdown",
   "id": "9f8cdcad",
   "metadata": {
    "lang": "en",
    "slideshow": {
     "slide_type": "subslide"
    }
   },
   "source": [
    "Type annotations can contain parametric types, optional types, etc.\n",
    "(*Note:* in older Python versions, `list` cannot take type parameters.)"
   ]
  },
  {
   "cell_type": "code",
   "execution_count": null,
   "id": "050fd774",
   "metadata": {},
   "outputs": [],
   "source": [
    "from typing import Optional\n",
    "\n",
    "\n",
    "def my_append(lhs: list[int], rhs: Optional[int]):\n",
    "    # What exactly does this mean?\n",
    "    if rhs:\n",
    "        lhs.append(rhs)"
   ]
  },
  {
   "cell_type": "code",
   "execution_count": null,
   "id": "e61fcc11",
   "metadata": {
    "slideshow": {
     "slide_type": "subslide"
    }
   },
   "outputs": [],
   "source": [
    "my_list = [1, 2, 3]\n",
    "my_append(my_list, None)\n",
    "my_list"
   ]
  },
  {
   "cell_type": "code",
   "execution_count": null,
   "id": "6c8d35c4",
   "metadata": {},
   "outputs": [],
   "source": [
    "my_append(my_list, 4)\n",
    "my_list"
   ]
  },
  {
   "cell_type": "markdown",
   "id": "e8060fd8",
   "metadata": {
    "lang": "en",
    "slideshow": {
     "slide_type": "slide"
    }
   },
   "source": [
    "## Docstrings\n",
    "\n",
    "Any function in Python can be documented using a string literal as a\n",
    "first element in the body. Most often, a `\"\"\"` string is used for this:"
   ]
  },
  {
   "cell_type": "code",
   "execution_count": null,
   "id": "2bc07fb9",
   "metadata": {
    "incorrectly_encoded_metadata": "{\"slideshow\": {\"slide_type\": \"subslide\"}} tags=[\"code-along\"] tags=[\"keep\"]"
   },
   "outputs": [],
   "source": [
    "def my_fun(x):\n",
    "    \"\"\"\n",
    "    Zeigt dem Benutzer den Wert von x an\n",
    "\n",
    "    Verwendung:\n",
    "    >>> my_fun(123)\n",
    "    \"\"\"\n",
    "    print(\"Das Argument x hat den Wert\", x)"
   ]
  },
  {
   "cell_type": "code",
   "execution_count": null,
   "id": "a79c1dd2",
   "metadata": {},
   "outputs": [],
   "source": [
    "my_fun(123)"
   ]
  },
  {
   "cell_type": "markdown",
   "id": "26094e61",
   "metadata": {
    "lang": "en",
    "slideshow": {
     "slide_type": "subslide"
    }
   },
   "source": [
    "Conventions for docstrings can be found in\n",
    "[PEP 257](https://www.python.org/dev/peps/pep-0257/)."
   ]
  },
  {
   "cell_type": "markdown",
   "id": "def09529",
   "metadata": {
    "lang": "en",
    "slideshow": {
     "slide_type": "subslide"
    }
   },
   "source": [
    "The docstring of a function can be output with `help()`:"
   ]
  },
  {
   "cell_type": "code",
   "execution_count": null,
   "id": "9887dd59",
   "metadata": {},
   "outputs": [],
   "source": [
    "help(my_fun)"
   ]
  },
  {
   "cell_type": "markdown",
   "id": "ab3e1fad",
   "metadata": {
    "lang": "en",
    "slideshow": {
     "slide_type": "subslide"
    }
   },
   "source": [
    "In Jupyter, a function's docstring can be displayed by preceeding or following it with a question mark:"
   ]
  },
  {
   "cell_type": "code",
   "execution_count": null,
   "id": "830fbdaf",
   "metadata": {
    "lines_to_next_cell": 2
   },
   "outputs": [],
   "source": [
    "# ?my_fun"
   ]
  },
  {
   "cell_type": "code",
   "execution_count": null,
   "id": "fa1b923a",
   "metadata": {
    "lines_to_next_cell": 2
   },
   "outputs": [],
   "source": [
    "# my_fun?"
   ]
  },
  {
   "cell_type": "markdown",
   "id": "3b19a293",
   "metadata": {
    "lang": "en",
    "slideshow": {
     "slide_type": "subslide"
    }
   },
   "source": [
    "Shift-Tab is often used instead:"
   ]
  },
  {
   "cell_type": "code",
   "execution_count": null,
   "id": "edae4df8",
   "metadata": {},
   "outputs": [],
   "source": [
    "my_fun"
   ]
  },
  {
   "cell_type": "markdown",
   "id": "bf6b104b",
   "metadata": {
    "lang": "en",
    "slideshow": {
     "slide_type": "subslide"
    }
   },
   "source": [
    "For functions with long docstrings, you can switch to the detailed display form by pressing `Shift-Tab` twice:"
   ]
  },
  {
   "cell_type": "code",
   "execution_count": null,
   "id": "fda3cd0c",
   "metadata": {},
   "outputs": [],
   "source": [
    "my_fun"
   ]
  },
  {
   "cell_type": "code",
   "execution_count": null,
   "id": "ed952b44",
   "metadata": {},
   "outputs": [],
   "source": [
    "print"
   ]
  },
  {
   "cell_type": "markdown",
   "id": "7f962cec",
   "metadata": {
    "lang": "en",
    "slideshow": {
     "slide_type": "subslide"
    }
   },
   "source": [
    "## Signature\n",
    "\n",
    "The number, names, default values (and possibly types) of a function's arguments and its return type are called its *signature*.\n",
    "\n",
    "Among other things, Jupyter displays the signature of a function when you type `Shift-Tab`:"
   ]
  },
  {
   "cell_type": "code",
   "execution_count": null,
   "id": "84ac90d7",
   "metadata": {},
   "outputs": [],
   "source": [
    "# Shift-Tab zum Anzeigen der Signatur:\n",
    "say_hi"
   ]
  },
  {
   "cell_type": "code",
   "execution_count": null,
   "id": "75c1b832",
   "metadata": {},
   "outputs": [],
   "source": [
    "def add_ints(m: int, n: int) -> int:\n",
    "    return m + n"
   ]
  },
  {
   "cell_type": "code",
   "execution_count": null,
   "id": "997d9acc",
   "metadata": {},
   "outputs": [],
   "source": [
    "add_ints"
   ]
  }
 ],
 "metadata": {
  "kernelspec": {
   "display_name": "Python 3 (ipykernel)",
   "language": "python",
   "name": "python3"
  }
 },
 "nbformat": 4,
 "nbformat_minor": 5
}
