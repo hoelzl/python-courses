{
 "cells": [
  {
   "cell_type": "markdown",
   "id": "2c9464fa687189a2",
   "metadata": {
    "lang": "en",
    "lines_to_next_cell": 2,
    "slideshow": {
     "slide_type": "slide"
    }
   },
   "source": [
    "<img src=\"img/python-logo-no-text.svg\"\n",
    "     style=\"display:block;margin:auto;width:10%\"/>\n",
    "<br>\n",
    "<div style=\"text-align:center; font-size:200%;\"><b>Introduction to Python: Part 2</b></div>\n",
    "<br/>\n",
    "<div style=\"text-align:center;\">Dr. Matthias Hölzl</div>"
   ]
  },
  {
   "cell_type": "markdown",
   "id": "4eb32e1776d697f9",
   "metadata": {
    "lang": "en"
   },
   "source": [
    "# `if` statements\n",
    "\n",
    "- We want to write a program that determines if a number is a lucky number or not:\n",
    "    - 7 is a lucky number\n",
    "    - all other numbers are not.\n",
    "- We need the `if` statement for this:"
   ]
  },
  {
   "cell_type": "code",
   "execution_count": null,
   "id": "bf96b3b3e53c6fed",
   "metadata": {
    "lang": "en",
    "lines_to_next_cell": 1,
    "slideshow": {
     "slide_type": "subslide"
    }
   },
   "outputs": [],
   "source": [
    "def is_lucky_number(number):\n",
    "    if number == 7:\n",
    "        print(\"lucky number\")\n",
    "    else:\n",
    "        print(\"not a lucky number\")"
   ]
  },
  {
   "cell_type": "code",
   "execution_count": null,
   "id": "682c8e9481b9f4f0",
   "metadata": {
    "lang": "en"
   },
   "outputs": [],
   "source": [
    "is_lucky_number(1)"
   ]
  },
  {
   "cell_type": "code",
   "execution_count": null,
   "id": "ec828a90a041fd85",
   "metadata": {
    "lang": "en"
   },
   "outputs": [],
   "source": [
    "is_lucky_number(7)"
   ]
  },
  {
   "cell_type": "code",
   "execution_count": null,
   "id": "1d7e83611b1f83bd",
   "metadata": {
    "lang": "en",
    "lines_to_next_cell": 1,
    "slideshow": {
     "slide_type": "subslide"
    },
    "tags": [
     "keep"
    ]
   },
   "outputs": [],
   "source": [
    "def is_lucky_number_1(number):\n",
    "    print(\"Is\", number, \"a lucky number?\")\n",
    "\n",
    "    if number == 7:\n",
    "        print(\"Yes!\")\n",
    "    else:\n",
    "        print(\"Unfortunately no.\")\n",
    "\n",
    "    print(\"We wish you all the best.\")"
   ]
  },
  {
   "cell_type": "code",
   "execution_count": null,
   "id": "b41e4fed6adbbcbf",
   "metadata": {
    "lang": "en",
    "tags": [
     "keep"
    ]
   },
   "outputs": [],
   "source": [
    "is_lucky_number_1(1)"
   ]
  },
  {
   "cell_type": "code",
   "execution_count": null,
   "id": "79a838925b0eb4a4",
   "metadata": {
    "lang": "en",
    "tags": [
     "keep"
    ]
   },
   "outputs": [],
   "source": [
    "is_lucky_number_1(7)"
   ]
  },
  {
   "cell_type": "code",
   "execution_count": null,
   "id": "cdbe0cedbcd047d3",
   "metadata": {
    "lang": "en",
    "slideshow": {
     "slide_type": "subslide"
    },
    "tags": [
     "keep"
    ]
   },
   "outputs": [],
   "source": [
    "def is_lucky_number_2(number):\n",
    "    if number == 7:\n",
    "        print(number, \"is a lucky number!\")\n",
    "        print(\"You must be having a great day!\")\n",
    "    else:\n",
    "        print(number, \"is unfortunately not a lucky number.\")\n",
    "        print(\"Maybe you should stay in bed today.\")\n",
    "        print(\"We wish you all the best anyway.\")"
   ]
  },
  {
   "cell_type": "code",
   "execution_count": null,
   "id": "6290abbb7f1f632c",
   "metadata": {
    "lang": "en",
    "tags": [
     "keep"
    ]
   },
   "outputs": [],
   "source": [
    "is_lucky_number_2(1)"
   ]
  },
  {
   "cell_type": "code",
   "execution_count": null,
   "id": "c5d4a5386cd2a421",
   "metadata": {
    "lang": "en",
    "tags": [
     "keep"
    ]
   },
   "outputs": [],
   "source": [
    "is_lucky_number_2(7)"
   ]
  },
  {
   "cell_type": "markdown",
   "id": "4d881d1e84d83550",
   "metadata": {
    "lang": "en",
    "slideshow": {
     "slide_type": "subslide"
    }
   },
   "source": [
    "## Workshop\n",
    "\n",
    "- Notebook `workshop_060_introduction_part2`\n",
    "- Section \"Of legal age\"\n",
    "\n",
    "## Bonus Workshop\n",
    "- Section \"Shortened output\""
   ]
  },
  {
   "cell_type": "code",
   "execution_count": null,
   "id": "c4e64e1d851bfe88",
   "metadata": {
    "lang": "en",
    "slideshow": {
     "slide_type": "subslide"
    },
    "tags": [
     "keep"
    ]
   },
   "outputs": [],
   "source": [
    "def one_sided_if(number):\n",
    "    print(\"Before\")\n",
    "\n",
    "    if number == 7:\n",
    "        print(number, \"is a lucky number\")\n",
    "        print(\"Congratulations!\")\n",
    "\n",
    "    print(\"After\")"
   ]
  },
  {
   "cell_type": "code",
   "execution_count": null,
   "id": "d4aaae450325098c",
   "metadata": {
    "lang": "en",
    "tags": [
     "keep"
    ]
   },
   "outputs": [],
   "source": [
    "one_sided_if(1)"
   ]
  },
  {
   "cell_type": "code",
   "execution_count": null,
   "id": "497c04f90cc649b9",
   "metadata": {
    "lang": "en",
    "tags": [
     "keep"
    ]
   },
   "outputs": [],
   "source": [
    "one_sided_if(7)"
   ]
  },
  {
   "cell_type": "markdown",
   "id": "381905cd1b81ea78",
   "metadata": {
    "lang": "en",
    "slideshow": {
     "slide_type": "slide"
    }
   },
   "source": [
    "# Lists"
   ]
  },
  {
   "cell_type": "code",
   "execution_count": null,
   "id": "ede5099715438626",
   "metadata": {
    "lang": "en",
    "tags": [
     "keep"
    ]
   },
   "outputs": [],
   "source": [
    "shopping_cart = [\"oatmeal\", \"coffee beans\", \"orange marmalade\"]"
   ]
  },
  {
   "cell_type": "markdown",
   "id": "8b2528e7cb23a1d9",
   "metadata": {
    "lang": "en"
   },
   "source": [
    "The type of lists is `list`."
   ]
  },
  {
   "cell_type": "code",
   "execution_count": null,
   "id": "2a9af4cdc984d948",
   "metadata": {
    "lang": "en"
   },
   "outputs": [],
   "source": [
    "type(shopping_cart)"
   ]
  },
  {
   "cell_type": "markdown",
   "id": "afbe204ebfdc991c",
   "metadata": {
    "lang": "en",
    "slideshow": {
     "slide_type": "slide"
    }
   },
   "source": [
    "## Creating lists\n",
    "\n",
    "- Lists are created by enclosing their elements in square brackets.\n",
    "- The elements of a list can be any Python values.\n",
    "- A list can contain elements of different types."
   ]
  },
  {
   "cell_type": "code",
   "execution_count": null,
   "id": "989470ddeac11170",
   "metadata": {
    "slideshow": {
     "slide_type": "subslide"
    },
    "tags": [
     "keep"
    ]
   },
   "outputs": [],
   "source": [
    "list_1 = [1, 2, 3, 4, 5]\n",
    "list_2 = [\"string1\", \"another string\"]"
   ]
  },
  {
   "cell_type": "code",
   "execution_count": null,
   "id": "3793651ccf47b049",
   "metadata": {},
   "outputs": [],
   "source": [
    "print(list_1)"
   ]
  },
  {
   "cell_type": "code",
   "execution_count": null,
   "id": "1e8add9c4493e0e8",
   "metadata": {},
   "outputs": [],
   "source": [
    "print(list_2)"
   ]
  },
  {
   "cell_type": "code",
   "execution_count": null,
   "id": "e8a7db1e16be01bb",
   "metadata": {
    "slideshow": {
     "slide_type": "subslide"
    }
   },
   "outputs": [],
   "source": [
    "list_3 = []\n",
    "list_4 = [1, 0.4, \"ein String\", True, None]"
   ]
  },
  {
   "cell_type": "code",
   "execution_count": null,
   "id": "ba1ef5ccb59e66c9",
   "metadata": {},
   "outputs": [],
   "source": [
    "print(list_3)"
   ]
  },
  {
   "cell_type": "code",
   "execution_count": null,
   "id": "1893d382c4d49f30",
   "metadata": {},
   "outputs": [],
   "source": [
    "print(list_4)"
   ]
  },
  {
   "cell_type": "markdown",
   "id": "c6b6772e0d8f5237",
   "metadata": {
    "lang": "en",
    "slideshow": {
     "slide_type": "subslide"
    }
   },
   "source": [
    "The elements of a list do not have to be literals, it can also contain values of variables or expressions:"
   ]
  },
  {
   "cell_type": "code",
   "execution_count": null,
   "id": "7007044de6d2f427",
   "metadata": {
    "lang": "en",
    "tags": [
     "keep"
    ]
   },
   "outputs": [],
   "source": [
    "product_1 = \"oatmeal\"\n",
    "product_2 = \"coffee beans\"\n",
    "product_3 = \"orange marmalade\"\n",
    "shoopping_cart = [product_1, product_2, product_3, \"strawberry jam\"]\n",
    "shopping_cart"
   ]
  },
  {
   "cell_type": "markdown",
   "id": "707fe3146112f0c2",
   "metadata": {
    "lang": "en",
    "slideshow": {
     "slide_type": "subslide"
    }
   },
   "source": [
    "Once a list has been created, it has no connection to the variables that were\n",
    "used in its construction:"
   ]
  },
  {
   "cell_type": "code",
   "execution_count": null,
   "id": "ef7a0bfa8664ddf8",
   "metadata": {
    "lang": "en"
   },
   "outputs": [],
   "source": [
    "product_1 = \"spelled flakes\"\n",
    "product_2 = \"teabag\"\n",
    "shopping_cart"
   ]
  },
  {
   "cell_type": "markdown",
   "id": "dc531321dc0aa64c",
   "metadata": {
    "lang": "en",
    "slideshow": {
     "slide_type": "subslide"
    }
   },
   "source": [
    "The `list()` function can be used to convert some other data types into lists.\n",
    "\n",
    "At the moment we only know lists and strings as possible argument types:"
   ]
  },
  {
   "cell_type": "code",
   "execution_count": null,
   "id": "9a82f17cf5390062",
   "metadata": {},
   "outputs": [],
   "source": [
    "list(\"abc\")"
   ]
  },
  {
   "cell_type": "code",
   "execution_count": null,
   "id": "4996b624cd5eb488",
   "metadata": {},
   "outputs": [],
   "source": [
    "list([1, 2, 3])"
   ]
  },
  {
   "cell_type": "markdown",
   "id": "6f42e6f75eca9e19",
   "metadata": {
    "lang": "en",
    "slideshow": {
     "slide_type": "slide"
    }
   },
   "source": [
    "## Accessing list items"
   ]
  },
  {
   "cell_type": "code",
   "execution_count": null,
   "id": "8bcac64b0d48623d",
   "metadata": {
    "tags": [
     "keep"
    ]
   },
   "outputs": [],
   "source": [
    "number_list = [0, 1, 2, 3]"
   ]
  },
  {
   "cell_type": "code",
   "execution_count": null,
   "id": "c616ad27d92ceb47",
   "metadata": {},
   "outputs": [],
   "source": [
    "number_list[0]"
   ]
  },
  {
   "cell_type": "code",
   "execution_count": null,
   "id": "feed8f247849e588",
   "metadata": {},
   "outputs": [],
   "source": [
    "number_list[3]"
   ]
  },
  {
   "cell_type": "code",
   "execution_count": null,
   "id": "10de12dc38bb19b7",
   "metadata": {},
   "outputs": [],
   "source": [
    "number_list[-1]"
   ]
  },
  {
   "cell_type": "markdown",
   "id": "0437441b2b662dd2",
   "metadata": {
    "lang": "en",
    "slideshow": {
     "slide_type": "slide"
    }
   },
   "source": [
    "## Length of a list"
   ]
  },
  {
   "cell_type": "code",
   "execution_count": null,
   "id": "c19594ca6019f0c6",
   "metadata": {
    "tags": [
     "keep"
    ]
   },
   "outputs": [],
   "source": [
    "number_list"
   ]
  },
  {
   "cell_type": "code",
   "execution_count": null,
   "id": "c6bd257925eae5c2",
   "metadata": {},
   "outputs": [],
   "source": [
    "len(number_list)"
   ]
  },
  {
   "cell_type": "markdown",
   "id": "eb31dfb07ff76132",
   "metadata": {
    "lang": "en",
    "slideshow": {
     "slide_type": "slide"
    }
   },
   "source": [
    "## Modification of list entries"
   ]
  },
  {
   "cell_type": "code",
   "execution_count": null,
   "id": "dfe2ee2d847e8ed4",
   "metadata": {},
   "outputs": [],
   "source": [
    "number_list[1] = 10\n",
    "number_list"
   ]
  },
  {
   "cell_type": "markdown",
   "id": "5440177ea46d61d7",
   "metadata": {
    "lang": "en",
    "slideshow": {
     "slide_type": "slide"
    }
   },
   "source": [
    "## Inserting and deleting items\n",
    "\n",
    "If possible elements should be inserted at the end of a list"
   ]
  },
  {
   "cell_type": "code",
   "execution_count": null,
   "id": "af5447886bc37f39",
   "metadata": {},
   "outputs": [],
   "source": [
    "number_list.append(40)\n",
    "number_list"
   ]
  },
  {
   "cell_type": "code",
   "execution_count": null,
   "id": "9080b22b1861f0e3",
   "metadata": {},
   "outputs": [],
   "source": [
    "number_list.extend([50, 60])\n",
    "number_list"
   ]
  },
  {
   "cell_type": "code",
   "execution_count": null,
   "id": "196710fb084dd841",
   "metadata": {},
   "outputs": [],
   "source": [
    "number_list.pop()\n",
    "number_list"
   ]
  },
  {
   "cell_type": "code",
   "execution_count": null,
   "id": "b5347029af23fcb0",
   "metadata": {},
   "outputs": [],
   "source": [
    "number_list.insert(1, 9)\n",
    "number_list"
   ]
  },
  {
   "cell_type": "code",
   "execution_count": null,
   "id": "bc2818571edddd74",
   "metadata": {},
   "outputs": [],
   "source": [
    "number_list.pop(1)\n",
    "number_list"
   ]
  },
  {
   "cell_type": "code",
   "execution_count": null,
   "id": "50645d90916ee0b0",
   "metadata": {},
   "outputs": [],
   "source": [
    "del number_list[1]\n",
    "number_list"
   ]
  },
  {
   "cell_type": "markdown",
   "id": "32135f6f2902569b",
   "metadata": {
    "lang": "en",
    "lines_to_next_cell": 2,
    "slideshow": {
     "slide_type": "subslide"
    }
   },
   "source": [
    "## Mini workshop\n",
    "\n",
    "- Notebook `workshop_100_lists_part2`\n",
    "- Section Colors"
   ]
  },
  {
   "cell_type": "markdown",
   "id": "ba1b7c1021425eab",
   "metadata": {
    "lang": "en",
    "slideshow": {
     "slide_type": "slide"
    }
   },
   "source": [
    "## Iteration over lists\n",
    "\n",
    "In Python, you can iterate over lists using the `for` loop.\n",
    "\n",
    "The `for` loop corresponds to the range-based for from C++,\n",
    "`for-in`/`for-of` from JavaScript or the `for-each` loop\n",
    "from Java, not the classic `for` loop\n",
    "from C, C++ or Java."
   ]
  },
  {
   "cell_type": "code",
   "execution_count": null,
   "id": "f55a67a623582985",
   "metadata": {
    "slideshow": {
     "slide_type": "subslide"
    },
    "tags": [
     "keep"
    ]
   },
   "outputs": [],
   "source": [
    "number_list = [0, 1, 2, 3, 4]\n",
    "number_list"
   ]
  },
  {
   "cell_type": "code",
   "execution_count": null,
   "id": "86725ba16f3b49aa",
   "metadata": {},
   "outputs": [],
   "source": [
    "for number in number_list:\n",
    "    print(\"Number is:\", number)"
   ]
  },
  {
   "cell_type": "markdown",
   "id": "edadc7d30604d659",
   "metadata": {
    "lang": "en",
    "slideshow": {
     "slide_type": "subslide"
    }
   },
   "source": [
    "## Syntax of `for` loops\n",
    "\n",
    "```pythons\n",
    "for <element-var> in <liste>:\n",
    "    <rumpf>\n",
    "```"
   ]
  },
  {
   "cell_type": "markdown",
   "id": "54f4718d251a575a",
   "metadata": {
    "lang": "en",
    "slideshow": {
     "slide_type": "subslide"
    }
   },
   "source": [
    "## Workshop\n",
    "\n",
    "- Notebook `workshop_060_introduction_part2`\n",
    "- Section \"Shopping list\""
   ]
  },
  {
   "cell_type": "code",
   "execution_count": null,
   "id": "5d2aab269572e436",
   "metadata": {
    "tags": [
     "keep"
    ]
   },
   "outputs": [],
   "source": []
  }
 ],
 "metadata": {
  "kernelspec": {
   "display_name": "Python 3 (ipykernel)",
   "language": "python",
   "name": "python3"
  }
 },
 "nbformat": 4,
 "nbformat_minor": 5
}
