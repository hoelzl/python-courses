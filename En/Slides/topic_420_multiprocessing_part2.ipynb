{
 "cells": [
  {
   "cell_type": "markdown",
   "id": "e58c28ea",
   "metadata": {
    "lang": "en",
    "slideshow": {
     "slide_type": "slide"
    }
   },
   "source": [
    "<img src=\"img/python-logo-notext.svg\"\n",
    "     style=\"display:block;margin:auto;width:10%\"/>\n",
    "<br>\n",
    "<div style=\"text-align:center; font-size:200%;\"><b>Multiprocessing (Part 2)</b></div>\n",
    "<br/>\n",
    "<div style=\"text-align:center;\">Dr. Matthias Hölzl</div>"
   ]
  },
  {
   "cell_type": "markdown",
   "id": "13653229",
   "metadata": {
    "lang": "en",
    "slideshow": {
     "slide_type": "slide"
    }
   },
   "source": [
    "## Synchronizing Multiple Processes"
   ]
  },
  {
   "cell_type": "code",
   "execution_count": null,
   "id": "96ce470d",
   "metadata": {},
   "outputs": [],
   "source": [
    "import multiprocessing\n",
    "\n",
    "\n",
    "def say_hi(lock, name):\n",
    "    from time import sleep\n",
    "    from random import random\n",
    "    sleep(random())\n",
    "    with lock:\n",
    "        print(f\"Hello, {name}!\")"
   ]
  },
  {
   "cell_type": "code",
   "execution_count": null,
   "id": "21a66be9",
   "metadata": {},
   "outputs": [],
   "source": [
    "from multiprocessing import Lock, Process\n",
    "\n",
    "if __name__ == \"__main__\":\n",
    "    _lock = Lock()\n",
    "    processes = []\n",
    "    for _name in [\"Joe\", \"Jack\", \"Jill\", \"Jane\", \"Steve\", \"Sheila\"]:\n",
    "        processes.append(Process(target=say_hi, args=(_lock, _name)))\n",
    "    for process in processes:\n",
    "        print(f\"Starting {process}.\")\n",
    "        process.start()\n",
    "    for process in processes:\n",
    "        print(f\"Joining {process}.\")\n",
    "        process.join()\n",
    "    print(\"Done.\")"
   ]
  },
  {
   "cell_type": "code",
   "execution_count": null,
   "id": "3162a6ab",
   "metadata": {},
   "outputs": [],
   "source": [
    "def server(barrier):\n",
    "    barrier.wait()\n",
    "    print(\"Server is serving\")\n",
    "    print(\"Server is still serving\")\n",
    "    print(\"Server is serving even more data\")"
   ]
  },
  {
   "cell_type": "code",
   "execution_count": null,
   "id": "4e12ddb9",
   "metadata": {},
   "outputs": [],
   "source": [
    "def client(barrier):\n",
    "    barrier.wait()\n",
    "    print(\"Client is accessing server\")\n",
    "    print(\"Client is still accessing server\")\n",
    "    print(\"Client is taking really long to access the server\")"
   ]
  },
  {
   "cell_type": "code",
   "execution_count": null,
   "id": "fb9b9ad9",
   "metadata": {},
   "outputs": [],
   "source": [
    "from multiprocessing import Barrier, Process\n",
    "\n",
    "\n",
    "def run_tasks(task1, task2):\n",
    "    barrier = Barrier(2)\n",
    "    print(\"Starting Processes...\", flush=True)\n",
    "\n",
    "    process1 = Process(target=task1, args=(barrier,))\n",
    "    process1.start()\n",
    "\n",
    "    process2 = Process(target=task2, args=(barrier,))\n",
    "    process2.start()\n",
    "\n",
    "    process1.join()\n",
    "    process2.join()"
   ]
  },
  {
   "cell_type": "code",
   "execution_count": null,
   "id": "d63a6de5",
   "metadata": {},
   "outputs": [],
   "source": [
    "if __name__ == \"__main__\":\n",
    "    print(\"Server and client:\")\n",
    "    run_tasks(server, client)"
   ]
  },
  {
   "cell_type": "code",
   "execution_count": null,
   "id": "cd323d7d",
   "metadata": {},
   "outputs": [],
   "source": [
    "if __name__ == \"__main__\":\n",
    "    print(\"\\nClient and Server:\")\n",
    "    run_tasks(client, server)"
   ]
  }
 ],
 "metadata": {
  "kernelspec": {
   "display_name": "Python 3 (ipykernel)",
   "language": "python",
   "name": "python3"
  }
 },
 "nbformat": 4,
 "nbformat_minor": 5
}
