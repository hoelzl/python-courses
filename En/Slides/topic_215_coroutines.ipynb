{
 "cells": [
  {
   "cell_type": "markdown",
   "id": "234654bf",
   "metadata": {
    "lang": "en",
    "lines_to_next_cell": 2,
    "slideshow": {
     "slide_type": "slide"
    }
   },
   "source": [
    "<img src=\"img/python-logo-notext.svg\"\n",
    "     style=\"display:block;margin:auto;width:10%\"/>\n",
    "<br>\n",
    "<div style=\"text-align:center; font-size:200%;\"><b>Generator functions and coroutines</b></div>\n",
    "<br/>\n",
    "<div style=\"text-align:center;\">Dr. Matthias Hölzl</div>"
   ]
  },
  {
   "cell_type": "markdown",
   "id": "0de27c50",
   "metadata": {
    "lang": "en",
    "slideshow": {
     "slide_type": "slide"
    }
   },
   "source": [
    "## Generator functions\n",
    "\n",
    "More complex cases can no longer be covered by generator expressions.\n",
    "\n",
    "- Generator that generates all numbers (no upper limit)\n",
    "- Generator that modifies an iterable (e.g. executes multiple times, takes a fixed number of elements)\n",
    "\n",
    "For these cases there are generator functions."
   ]
  },
  {
   "cell_type": "markdown",
   "id": "45af49ec",
   "metadata": {
    "lang": "en",
    "slideshow": {
     "slide_type": "subslide"
    }
   },
   "source": [
    "\n",
    "By using the `yield` keyword a function can \"return multiple times.\" A\n",
    "function that uses `yield` in its body is called a generator function. Simply\n",
    "calling a generator function will not evaluate the function body, instead it\n",
    "will return a *generator* that can return multiple times:"
   ]
  },
  {
   "cell_type": "code",
   "execution_count": null,
   "id": "24f66789",
   "metadata": {},
   "outputs": [],
   "source": [
    "def integers(start=0):\n",
    "    n = start\n",
    "    while True:\n",
    "        yield n\n",
    "        n += 1"
   ]
  },
  {
   "cell_type": "code",
   "execution_count": null,
   "id": "55481eb0",
   "metadata": {},
   "outputs": [],
   "source": [
    "gen = integers()\n",
    "print(repr(gen))\n",
    "print(repr(iter(gen)))"
   ]
  },
  {
   "cell_type": "code",
   "execution_count": null,
   "id": "1eca3404",
   "metadata": {
    "slideshow": {
     "slide_type": "subslide"
    }
   },
   "outputs": [],
   "source": [
    "gen = integers()"
   ]
  },
  {
   "cell_type": "code",
   "execution_count": null,
   "id": "4ed7ae97",
   "metadata": {},
   "outputs": [],
   "source": [
    "next(gen)"
   ]
  },
  {
   "cell_type": "code",
   "execution_count": null,
   "id": "223694bf",
   "metadata": {},
   "outputs": [],
   "source": [
    "next(gen)"
   ]
  },
  {
   "cell_type": "code",
   "execution_count": null,
   "id": "73b99df5",
   "metadata": {
    "slideshow": {
     "slide_type": "subslide"
    }
   },
   "outputs": [],
   "source": [
    "for i in integers():\n",
    "    if i > 3:\n",
    "        break\n",
    "    print(i, end=\" \")"
   ]
  },
  {
   "cell_type": "markdown",
   "id": "689c2da2",
   "metadata": {
    "lang": "en",
    "slideshow": {
     "slide_type": "subslide"
    }
   },
   "source": [
    "\n",
    "## Mini-Workshop\n",
    "\n",
    "Write a generator function `one_based_range(n)` that simulates `range(n)` when\n",
    "used with a single argument but iterates from 1 to `n` inclusive."
   ]
  },
  {
   "cell_type": "code",
   "execution_count": null,
   "id": "5460e819",
   "metadata": {},
   "outputs": [],
   "source": [
    "def one_based_range(n):\n",
    "\tfor i in range(1, n+1):\n",
    "\t\tyield i"
   ]
  },
  {
   "cell_type": "code",
   "execution_count": null,
   "id": "286bd015",
   "metadata": {
    "lines_to_next_cell": 1,
    "tags": [
     "keep"
    ]
   },
   "outputs": [],
   "source": [
    "assert [num for num in one_based_range(4)] == [1, 2, 3, 4]"
   ]
  },
  {
   "cell_type": "markdown",
   "id": "b0ce99ea",
   "metadata": {
    "lang": "en"
   },
   "source": [
    "\n",
    "Write a generator function `inclusive_range()` that simulates the complete\n",
    "functionality of `range()` (i.e., being able to be called with one, two or\n",
    "three arguments) but includes its upper limit.\n",
    "\n",
    "Ensure that your implementation satisfies the provided test cases."
   ]
  },
  {
   "cell_type": "code",
   "execution_count": null,
   "id": "8b76963e",
   "metadata": {},
   "outputs": [],
   "source": [
    "def inclusive_range(m, n=None, step=1):\n",
    "\tif n is None:\n",
    "\t\tassert step == 1, \"Cannot specify step when no upper bound is specified.\"\n",
    "\t\tn = m\n",
    "\t\tm = 1\n",
    "\tfor i in range(m, n + 1, step):\n",
    "\t\tyield i"
   ]
  },
  {
   "cell_type": "code",
   "execution_count": null,
   "id": "144d072a",
   "metadata": {
    "tags": [
     "keep"
    ]
   },
   "outputs": [],
   "source": [
    "assert [num for num in inclusive_range(3)] == [1, 2, 3]"
   ]
  },
  {
   "cell_type": "code",
   "execution_count": null,
   "id": "f795ef7b",
   "metadata": {
    "tags": [
     "keep"
    ]
   },
   "outputs": [],
   "source": [
    "assert [num for num in inclusive_range(2, 4)] == [2, 3, 4]"
   ]
  },
  {
   "cell_type": "code",
   "execution_count": null,
   "id": "fb75eec5",
   "metadata": {
    "tags": [
     "keep"
    ]
   },
   "outputs": [],
   "source": [
    "assert [num for num in inclusive_range(2, 2)] == [2]"
   ]
  },
  {
   "cell_type": "code",
   "execution_count": null,
   "id": "d7151911",
   "metadata": {
    "tags": [
     "keep"
    ]
   },
   "outputs": [],
   "source": [
    "assert [num for num in inclusive_range(2, 1)] == []"
   ]
  },
  {
   "cell_type": "code",
   "execution_count": null,
   "id": "2fa070a0",
   "metadata": {
    "lines_to_next_cell": 1,
    "tags": [
     "keep"
    ]
   },
   "outputs": [],
   "source": [
    "assert [num for num in inclusive_range(2, 6, 2)] == [2, 4, 6]"
   ]
  },
  {
   "cell_type": "markdown",
   "id": "1b20004a",
   "metadata": {
    "lang": "en",
    "slideshow": {
     "slide_type": "subslide"
    }
   },
   "source": [
    "\n",
    "We can use generator functions to write functions that process iterators. For\n",
    "example, the `take()` generator function takes a fixed number of values from\n",
    "an iterator:"
   ]
  },
  {
   "cell_type": "code",
   "execution_count": null,
   "id": "fc535f69",
   "metadata": {},
   "outputs": [],
   "source": [
    "def take(n, it):\n",
    "    for i in range(n):\n",
    "        yield next(it)"
   ]
  },
  {
   "cell_type": "code",
   "execution_count": null,
   "id": "1eef3506",
   "metadata": {
    "lines_to_next_cell": 1
   },
   "outputs": [],
   "source": [
    "list(take(3, integers()))"
   ]
  },
  {
   "cell_type": "markdown",
   "id": "d9e04a1f",
   "metadata": {
    "lang": "en",
    "slideshow": {
     "slide_type": "subslide"
    }
   },
   "source": [
    "\n",
    "Note that `drop()` function,  that removes the first `n` elements from an\n",
    "iterator is not a generator function but a regular function:"
   ]
  },
  {
   "cell_type": "code",
   "execution_count": null,
   "id": "3a7fdfe8",
   "metadata": {},
   "outputs": [],
   "source": [
    "def drop(n, it):\n",
    "    for i in range(n):\n",
    "        next(it)\n",
    "    return it"
   ]
  },
  {
   "cell_type": "code",
   "execution_count": null,
   "id": "9805a58b",
   "metadata": {
    "lines_to_next_cell": 1
   },
   "outputs": [],
   "source": [
    "list(take(3, drop(2, integers())))"
   ]
  },
  {
   "cell_type": "markdown",
   "id": "531c806f",
   "metadata": {
    "lang": "en",
    "slideshow": {
     "slide_type": "subslide"
    }
   },
   "source": [
    "\n",
    "Using generator function we can also define more complex iteration operations:"
   ]
  },
  {
   "cell_type": "code",
   "execution_count": null,
   "id": "610d71e0",
   "metadata": {},
   "outputs": [],
   "source": [
    "def repeat_n_times(n, it):\n",
    "    for _ in range(n):\n",
    "        for elt in it:\n",
    "            yield elt"
   ]
  },
  {
   "cell_type": "code",
   "execution_count": null,
   "id": "ab98443f",
   "metadata": {},
   "outputs": [],
   "source": [
    "for num in repeat_n_times(3, range(5)):\n",
    "    print(num, end=\" \")"
   ]
  },
  {
   "cell_type": "markdown",
   "id": "c15834e3",
   "metadata": {
    "lang": "en",
    "slideshow": {
     "slide_type": "slide"
    }
   },
   "source": [
    "\n",
    "# Coroutines\n",
    "\n",
    "`yield` can also be used to return a value to the site where it is invoked. In\n",
    "this case we also use the term *coroutine* for the generator.\n",
    "\n",
    "Coroutines are useful building blocks for features such as cooperative\n",
    "multitasking or event-based programming.\n",
    "\n",
    "To start a coroutine `c` we call the method `c.send(None)`. To send subsequent\n",
    "values we use `c.send(value)`."
   ]
  },
  {
   "cell_type": "code",
   "execution_count": null,
   "id": "7efa4124",
   "metadata": {
    "slideshow": {
     "slide_type": "subslide"
    }
   },
   "outputs": [],
   "source": [
    "def my_coroutine(n):\n",
    "    for i in range(n):\n",
    "        x = yield\n",
    "        print(x)"
   ]
  },
  {
   "cell_type": "code",
   "execution_count": null,
   "id": "d1c56d25",
   "metadata": {},
   "outputs": [],
   "source": [
    "c = my_coroutine(3)\n",
    "print(c)"
   ]
  },
  {
   "cell_type": "code",
   "execution_count": null,
   "id": "fae5bbd1",
   "metadata": {},
   "outputs": [],
   "source": [
    "c.send(None)"
   ]
  },
  {
   "cell_type": "code",
   "execution_count": null,
   "id": "dcc15e19",
   "metadata": {},
   "outputs": [],
   "source": [
    "c.send(10)"
   ]
  },
  {
   "cell_type": "code",
   "execution_count": null,
   "id": "92281d3d",
   "metadata": {},
   "outputs": [],
   "source": [
    "c.send(20)"
   ]
  },
  {
   "cell_type": "code",
   "execution_count": null,
   "id": "4a926162",
   "metadata": {
    "lines_to_next_cell": 1
   },
   "outputs": [],
   "source": [
    "c.send(30)"
   ]
  },
  {
   "cell_type": "code",
   "execution_count": null,
   "id": "c91febcc",
   "metadata": {
    "slideshow": {
     "slide_type": "subslide"
    }
   },
   "outputs": [],
   "source": [
    "def your_coroutine(n):\n",
    "    for i in range(1, n+1):\n",
    "        x = yield(i)\n",
    "        print(\"your_coroutine:\", x)"
   ]
  },
  {
   "cell_type": "code",
   "execution_count": null,
   "id": "21d702f8",
   "metadata": {},
   "outputs": [],
   "source": [
    "c = your_coroutine(3)"
   ]
  },
  {
   "cell_type": "code",
   "execution_count": null,
   "id": "93c3b208",
   "metadata": {},
   "outputs": [],
   "source": [
    "_x = c.send(None)\n",
    "print(\"top level:\", _x)"
   ]
  },
  {
   "cell_type": "code",
   "execution_count": null,
   "id": "0a59f385",
   "metadata": {},
   "outputs": [],
   "source": [
    "try:\n",
    "\twhile True:\n",
    "\t\t_x = c.send(_x * 10)\n",
    "\t\tprint(\"top level:\", _x)\n",
    "except StopIteration:\n",
    "\tprint(\"Done.\")"
   ]
  },
  {
   "cell_type": "code",
   "execution_count": null,
   "id": "925b0960",
   "metadata": {},
   "outputs": [],
   "source": []
  }
 ],
 "metadata": {
  "kernelspec": {
   "display_name": "Python 3 (ipykernel)",
   "language": "python",
   "name": "python3"
  }
 },
 "nbformat": 4,
 "nbformat_minor": 5
}
