{
 "cells": [
  {
   "cell_type": "markdown",
   "id": "e75d28a9",
   "metadata": {
    "lang": "en",
    "lines_to_next_cell": 2,
    "slideshow": {
     "slide_type": "slide"
    }
   },
   "source": [
    "<img src=\"img/python-logo-notext.svg\"\n",
    "     style=\"display:block;margin:auto;width:10%\"/>\n",
    "<br>\n",
    "<div style=\"text-align:center; font-size:200%;\"><b>Exceptions and handling errors</b></div>\n",
    "<br/>\n",
    "<div style=\"text-align:center;\">Dr. Matthias Hölzl</div>"
   ]
  },
  {
   "cell_type": "markdown",
   "id": "7b735a08",
   "metadata": {
    "lang": "en",
    "slideshow": {
     "slide_type": "slide"
    }
   },
   "source": [
    "# Error handling\n",
    "\n",
    "We want to write a function `int_sqrt(n: int) -> int` that calculates the\n",
    "\"integer square root\":\n",
    "- If `n` is a square number, i.e. has the form `m * m`, then `m` should\n",
    "  be returned.\n",
    "- What do we do if `n` is not a square number?\n",
    "\n",
    "Some attempted solutions:"
   ]
  },
  {
   "cell_type": "code",
   "execution_count": null,
   "id": "3c94c2c7",
   "metadata": {},
   "outputs": [],
   "source": [
    "from typing import Tuple"
   ]
  },
  {
   "cell_type": "code",
   "execution_count": null,
   "id": "c1365e3d",
   "metadata": {},
   "outputs": [],
   "source": [
    "def int_sqrt_with_pair(n: int) -> Tuple[int, bool]:\n",
    "    for m in range(n + 1):\n",
    "        if m * m == n:\n",
    "            return m, True\n",
    "    return 0, False"
   ]
  },
  {
   "cell_type": "code",
   "execution_count": null,
   "id": "351fa896",
   "metadata": {
    "lines_to_next_cell": 2
   },
   "outputs": [],
   "source": [
    "int_sqrt_with_pair(9)"
   ]
  },
  {
   "cell_type": "code",
   "execution_count": null,
   "id": "5b731755",
   "metadata": {
    "lines_to_next_cell": 2
   },
   "outputs": [],
   "source": [
    "int_sqrt_with_pair(8)"
   ]
  },
  {
   "cell_type": "code",
   "execution_count": null,
   "id": "580fe337",
   "metadata": {
    "lines_to_next_cell": 2
   },
   "outputs": [],
   "source": [
    "int_sqrt_with_pair(0)"
   ]
  },
  {
   "cell_type": "code",
   "execution_count": null,
   "id": "0f9fde04",
   "metadata": {},
   "outputs": [],
   "source": [
    "int_sqrt_with_pair(1)"
   ]
  },
  {
   "cell_type": "code",
   "execution_count": null,
   "id": "e86531b3",
   "metadata": {
    "slideshow": {
     "slide_type": "subslide"
    }
   },
   "outputs": [],
   "source": [
    "def print_int_sqrt_1(n):\n",
    "    root, is_valid = int_sqrt_with_pair(8)\n",
    "    print(f\"The root of {n} is {root}.\")\n",
    "\n",
    "\n",
    "print_int_sqrt_1(8)"
   ]
  },
  {
   "cell_type": "code",
   "execution_count": null,
   "id": "1750418e",
   "metadata": {},
   "outputs": [],
   "source": [
    "def int_sqrt_with_negative_value(n: int) -> int:\n",
    "    for m in range(n + 1):\n",
    "        if m * m == n:\n",
    "            return m\n",
    "    return -1"
   ]
  },
  {
   "cell_type": "code",
   "execution_count": null,
   "id": "40d17c7d",
   "metadata": {
    "lines_to_next_cell": 2
   },
   "outputs": [],
   "source": [
    "int_sqrt_with_negative_value(9)"
   ]
  },
  {
   "cell_type": "code",
   "execution_count": null,
   "id": "9c11a62a",
   "metadata": {},
   "outputs": [],
   "source": [
    "int_sqrt_with_negative_value(8)"
   ]
  },
  {
   "cell_type": "code",
   "execution_count": null,
   "id": "6549cc4d",
   "metadata": {
    "slideshow": {
     "slide_type": "subslide"
    }
   },
   "outputs": [],
   "source": [
    "def print_int_sqrt_2(n):\n",
    "    root = int_sqrt_with_negative_value(8)\n",
    "    print(f\"The root of {n} is {root}.\")\n",
    "\n",
    "\n",
    "print_int_sqrt_2(8)"
   ]
  },
  {
   "cell_type": "code",
   "execution_count": null,
   "id": "ceff4498",
   "metadata": {},
   "outputs": [],
   "source": [
    "def print_int_sqrt_2_better(n):\n",
    "    root = int_sqrt_with_negative_value(8)\n",
    "    if root < 0:\n",
    "        print(f\"{n} does not have a root!\")\n",
    "    else:\n",
    "        print(f\"The root of {n} is {root}.\")\n",
    "\n",
    "\n",
    "print_int_sqrt_2_better(8)"
   ]
  },
  {
   "cell_type": "markdown",
   "id": "74180957",
   "metadata": {
    "lang": "en",
    "slideshow": {
     "slide_type": "subslide"
    }
   },
   "source": [
    "Both approaches have several problems:\n",
    " - Error handling is optional. If it is not carried out, the computation proceeds with\n",
    "   an incorrect value.\n",
    " - If the caller cannot handle the error itself, the error must be passed through (possibly)\n",
    "   multiple levels of function calls. That leads to\n",
    "   confusing code because the \"interesting\" path is intermingled with code to\n",
    "   handle errors.\n",
    "\n",
    " A better solution:"
   ]
  },
  {
   "cell_type": "code",
   "execution_count": null,
   "id": "219bec8e",
   "metadata": {
    "slideshow": {
     "slide_type": "subslide"
    }
   },
   "outputs": [],
   "source": [
    "def int_sqrt(n: int) -> int:\n",
    "    for m in range(n + 1):\n",
    "        if m * m == n:\n",
    "            return m\n",
    "    raise ValueError(f\"{n} is not a square number.\")"
   ]
  },
  {
   "cell_type": "code",
   "execution_count": null,
   "id": "bc6db71b",
   "metadata": {
    "lines_to_next_cell": 2
   },
   "outputs": [],
   "source": [
    "int_sqrt(9)"
   ]
  },
  {
   "cell_type": "code",
   "execution_count": null,
   "id": "eebdf5cd",
   "metadata": {
    "lines_to_next_cell": 2
   },
   "outputs": [],
   "source": [
    "int_sqrt(0)"
   ]
  },
  {
   "cell_type": "code",
   "execution_count": null,
   "id": "5c33f854",
   "metadata": {
    "lines_to_next_cell": 2
   },
   "outputs": [],
   "source": [
    "int_sqrt(1)"
   ]
  },
  {
   "cell_type": "code",
   "execution_count": null,
   "id": "cf886b87",
   "metadata": {
    "lines_to_next_cell": 2
   },
   "outputs": [],
   "source": [
    "# int_sqrt(8)"
   ]
  },
  {
   "cell_type": "code",
   "execution_count": null,
   "id": "a31b006c",
   "metadata": {
    "lines_to_next_cell": 2,
    "slideshow": {
     "slide_type": "subslide"
    }
   },
   "outputs": [],
   "source": [
    "def print_int_sqrt(n):\n",
    "    root = int_sqrt(n)\n",
    "    print(f\"The root of {n} is {root}.\")"
   ]
  },
  {
   "cell_type": "code",
   "execution_count": null,
   "id": "30d40209",
   "metadata": {
    "lines_to_next_cell": 2
   },
   "outputs": [],
   "source": [
    "# print_int_sqrt(8)"
   ]
  },
  {
   "cell_type": "code",
   "execution_count": null,
   "id": "bf32d407",
   "metadata": {},
   "outputs": [],
   "source": [
    "def print_int_sqrt_no_error(n):\n",
    "    try:\n",
    "        root = int_sqrt(n)\n",
    "        print(f\"The root of {n} is {root}.\")\n",
    "    except ValueError as err:\n",
    "        print(str(err))"
   ]
  },
  {
   "cell_type": "code",
   "execution_count": null,
   "id": "f8a1eb06",
   "metadata": {
    "lines_to_next_cell": 2
   },
   "outputs": [],
   "source": [
    "print_int_sqrt_no_error(9)"
   ]
  },
  {
   "cell_type": "code",
   "execution_count": null,
   "id": "fb174e18",
   "metadata": {},
   "outputs": [],
   "source": [
    "print_int_sqrt_no_error(8)"
   ]
  },
  {
   "cell_type": "code",
   "execution_count": null,
   "id": "54243d2e",
   "metadata": {
    "slideshow": {
     "slide_type": "subslide"
    }
   },
   "outputs": [],
   "source": [
    "def print_int_sqrt_no_error_2(n):\n",
    "    try:\n",
    "        root = int_sqrt(n)\n",
    "        print(f\"The root of {n} is {root}.\")\n",
    "    except ValueError:\n",
    "        print(f\"{n} does not have a root!\")\n",
    "    finally:\n",
    "        print(\"And that's all there is to say about this topic.\")"
   ]
  },
  {
   "cell_type": "code",
   "execution_count": null,
   "id": "556c8c44",
   "metadata": {
    "lines_to_next_cell": 2
   },
   "outputs": [],
   "source": [
    "print_int_sqrt_no_error_2(9)"
   ]
  },
  {
   "cell_type": "code",
   "execution_count": null,
   "id": "0929f2e3",
   "metadata": {},
   "outputs": [],
   "source": [
    "print_int_sqrt_no_error_2(8)"
   ]
  },
  {
   "cell_type": "markdown",
   "id": "06d59866",
   "metadata": {
    "lang": "en",
    "slideshow": {
     "slide_type": "subslide"
    }
   },
   "source": [
    "## Error classes\n",
    "\n",
    "In Python, there are many predefined classes that signal different types of error:\n",
    "- `Exception`: Base class of all exceptions that can be handled\n",
    "- `ArithmeticError`: Base class of all errors in arithmetic operations:\n",
    "  - OverflowError\n",
    "  - Zero Division Error\n",
    "- `LookupError`: base class when an invalid index for a data structure\n",
    "  has been used\n",
    "- `AssertionError`: error class used by `assert`\n",
    "- `EOFError`: Error when `intput()` unexpectedly reaches the end of a file\n",
    "- ...\n",
    "\n",
    "The list of error classes defined in the standard library is\n",
    "[here](https://docs.python.org/3/library/exceptions.html)."
   ]
  },
  {
   "cell_type": "code",
   "execution_count": null,
   "id": "2f400b4a",
   "metadata": {
    "slideshow": {
     "slide_type": "subslide"
    }
   },
   "outputs": [],
   "source": [
    "class NoRootError(ValueError):\n",
    "    pass"
   ]
  },
  {
   "cell_type": "code",
   "execution_count": null,
   "id": "7bcce731",
   "metadata": {
    "lines_to_next_cell": 2
   },
   "outputs": [],
   "source": [
    "try:\n",
    "    raise ValueError(\"ValueError\")\n",
    "    # raise NoRootError(\"This is a NoRootError.\")\n",
    "except NoRootError as error:\n",
    "    print(f\"Case 1: {error}\")\n",
    "except ValueError as error:\n",
    "    print(f\"Case 2: {error}\")"
   ]
  },
  {
   "cell_type": "code",
   "execution_count": null,
   "id": "18ca5bd4",
   "metadata": {},
   "outputs": [],
   "source": [
    "my_var = 1\n",
    "assert my_var == 1"
   ]
  },
  {
   "cell_type": "code",
   "execution_count": null,
   "id": "77d251c0",
   "metadata": {},
   "outputs": [],
   "source": [
    "def raise_and_handle_error():\n",
    "    print(\"rahe() before\")\n",
    "    try:\n",
    "        raise ValueError(\"ValueError was raised.\")\n",
    "        # raise NoRootError(\"Found no root.\")\n",
    "        # raise TypeError(\"Bad type\")\n",
    "    except NoRootError as error:\n",
    "        print(f\"Case NoRootError: {error}\")\n",
    "    except ValueError as error:\n",
    "        print(f\"Case ValueError: {error}\")\n",
    "    print(\"rahe() after\")"
   ]
  },
  {
   "cell_type": "code",
   "execution_count": null,
   "id": "a31eb032",
   "metadata": {
    "tags": [
     "keep"
    ]
   },
   "outputs": [],
   "source": [
    "def f2():\n",
    "    print(\"f2() before\")\n",
    "    raise_and_handle_error()\n",
    "    print(\"f2() after\")"
   ]
  },
  {
   "cell_type": "code",
   "execution_count": null,
   "id": "2d8be9ef",
   "metadata": {
    "tags": [
     "keep"
    ]
   },
   "outputs": [],
   "source": [
    "def f1():\n",
    "    print(\"f1() before\")\n",
    "    try:\n",
    "        f2()\n",
    "    except Exception as error:\n",
    "        print(f\"Case Exception: {error}\")\n",
    "    print(\"f1() after\")        "
   ]
  },
  {
   "cell_type": "code",
   "execution_count": null,
   "id": "ebb98d52",
   "metadata": {
    "tags": [
     "keep"
    ]
   },
   "outputs": [],
   "source": [
    "f1()"
   ]
  },
  {
   "cell_type": "code",
   "execution_count": null,
   "id": "a440bcba",
   "metadata": {
    "tags": [
     "keep"
    ]
   },
   "outputs": [],
   "source": []
  },
  {
   "cell_type": "markdown",
   "id": "4ed419c0",
   "metadata": {
    "lang": "en"
   },
   "source": [
    "## Mini workshop\n",
    "\n",
    "- Notebook `workshop_190_inheritance`\n",
    "- Section \"Bank Account\""
   ]
  },
  {
   "cell_type": "markdown",
   "id": "5874d709",
   "metadata": {
    "lang": "en",
    "slideshow": {
     "slide_type": "subslide"
    }
   },
   "source": [
    "## Mini workshop\n",
    "\n",
    " - Notebook `workshop_090_control_structures`\n",
    " - Section \"Rock Paper Scissors\""
   ]
  },
  {
   "cell_type": "markdown",
   "id": "02421de1",
   "metadata": {
    "lang": "en",
    "slideshow": {
     "slide_type": "subslide"
    }
   },
   "source": [
    "## Mini workshop\n",
    "\n",
    "- Notebook `topic_900_othellite`\n",
    "- `compute_linear_index()`"
   ]
  }
 ],
 "metadata": {
  "kernelspec": {
   "display_name": "Python 3 (ipykernel)",
   "language": "python",
   "name": "python3"
  }
 },
 "nbformat": 4,
 "nbformat_minor": 5
}
