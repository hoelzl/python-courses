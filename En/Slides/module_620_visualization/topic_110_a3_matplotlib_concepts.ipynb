{
 "cells": [
  {
   "cell_type": "markdown",
   "id": "cfcc17a869d7bad2",
   "metadata": {
    "lang": "en",
    "lines_to_next_cell": 2,
    "slideshow": {
     "slide_type": "slide"
    }
   },
   "source": [
    "<img src=\"../../img/python-logo-no-text.svg\"\n",
    "     style=\"display:block;margin:auto;width:10%\"/>\n",
    "<br>\n",
    "<div style=\"text-align:center; font-size:200%;\">\n",
    "  <b>Matplotlib Concepts</b>\n",
    "</div>\n",
    "<br/>\n",
    "<div style=\"text-align:center;\">Dr. Matthias Hölzl</div>\n",
    "<br/>\n",
    "<div style=\"text-align:center;\">module_620_visualization/topic_110_a3_matplotlib_concepts</div>"
   ]
  },
  {
   "cell_type": "markdown",
   "id": "7489aad079963d4f",
   "metadata": {
    "lang": "en",
    "slideshow": {
     "slide_type": "slide"
    }
   },
   "source": [
    "\n",
    "Matplotlib concepts\n",
    "\n",
    "Matplotlib has two different interaction styles:\n",
    "\n",
    "- Automatic management of figures with pyplot\n",
    "- Object-oriented interface"
   ]
  },
  {
   "cell_type": "code",
   "execution_count": null,
   "id": "142ec8d49d2ccf86",
   "metadata": {},
   "outputs": [],
   "source": [
    "import matplotlib as mpl\n",
    "import matplotlib.pyplot as plt\n",
    "import numpy as np"
   ]
  },
  {
   "cell_type": "code",
   "execution_count": null,
   "id": "8f7bb042891dfb86",
   "metadata": {},
   "outputs": [],
   "source": [
    "xs = np.linspace(0.0, 10.0, 200)\n",
    "ys1 = np.sin(xs)\n",
    "ys2 = np.cos(xs / 2.0) * np.sin(xs * 1.5)"
   ]
  },
  {
   "cell_type": "code",
   "execution_count": null,
   "id": "522e962c857cb53c",
   "metadata": {},
   "outputs": [],
   "source": [
    "plt.figure(figsize=(8, 4))\n",
    "plt.plot(xs, ys1, label=\"sin(x)\")\n",
    "plt.plot(xs, ys2, label=\"cos(x/2) $\\cdot$ sin(1.5x)\")\n",
    "plt.xlabel(\"x axis\")\n",
    "plt.ylabel(\"y axis\")\n",
    "plt.title(\"PyPlot Plot\")\n",
    "plt.legend()\n",
    "plt.show()"
   ]
  },
  {
   "cell_type": "code",
   "execution_count": null,
   "id": "5e52094db05a16f3",
   "metadata": {},
   "outputs": [],
   "source": [
    "fig, ax = plt.subplots(figsize=(8, 4))\n",
    "ax.plot(xs, ys1, label=\"sin(x)\")\n",
    "ax.plot(xs, ys2, label=\"cos(x/2) $\\cdot$ sin(1.5x)\")\n",
    "ax.set_xlabel(\"x axis\")\n",
    "ax.set_ylabel(\"y axis\")\n",
    "ax.set_title(\"Object Oriented Plot\")\n",
    "ax.legend()\n",
    "plt.show()"
   ]
  },
  {
   "cell_type": "code",
   "execution_count": null,
   "id": "5f4036fee56fe3b3",
   "metadata": {},
   "outputs": [],
   "source": [
    "fig, (ax1, ax2) = plt.subplots(ncols=2, figsize=(16, 4))\n",
    "fig.tight_layout()\n",
    "ax1.plot(xs, ys1, label=\"sin(x)\")\n",
    "ax1.plot(xs, ys2, label=\"cos(x/2) $\\cdot$ sin(1.5x)\")\n",
    "ax1.set_title(\"First plot\")\n",
    "ax1.legend()\n",
    "ax2.plot(xs, xs, label=\"$x$\")\n",
    "ax2.plot(xs, xs**2, label=\"$x^2$\")\n",
    "ax2.set_title(\"Second plot\")\n",
    "ax2.legend()\n",
    "plt.show()"
   ]
  },
  {
   "cell_type": "markdown",
   "id": "302e811e7faf98e4",
   "metadata": {},
   "source": [
    "\n",
    "<img src=\"img/numpy-anatomy.webp\"\n",
    "     style=\"display:block;margin:auto;width:50%\"/>\n",
    "\n",
    "[Image source](https://matplotlib.org/stable/tutorials/introductory/usage.html)"
   ]
  },
  {
   "cell_type": "code",
   "execution_count": null,
   "id": "6b4e03423667dbb7",
   "metadata": {},
   "outputs": [],
   "source": []
  }
 ],
 "metadata": {
  "kernelspec": {
   "display_name": "Python 3 (ipykernel)",
   "language": "python",
   "name": "python3"
  }
 },
 "nbformat": 4,
 "nbformat_minor": 5
}
