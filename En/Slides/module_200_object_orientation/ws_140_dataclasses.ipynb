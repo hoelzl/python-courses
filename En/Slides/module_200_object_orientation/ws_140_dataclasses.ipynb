{
 "cells": [
  {
   "cell_type": "markdown",
   "id": "e521e20fc3fcae82",
   "metadata": {
    "lang": "en"
   },
   "source": [
    "# Shopping List\n",
    "\n",
    "In this workshop we want to define a shopping list, that can manage planned\n",
    "purchases. A shopping list should consist of items that contain a product and\n",
    "the required quantity of the product.\n",
    "\n",
    "Both the shopping list itself and the entries should be represented as\n",
    "user-defined data types.\n",
    "\n",
    "First define a class `ShoppingListItem` that has attributes `product: str` and\n",
    "`amount: str`. To do this, use the `@dataclass` decorator"
   ]
  },
  {
   "cell_type": "code",
   "execution_count": null,
   "id": "a41657b8316a8a5d",
   "metadata": {},
   "outputs": [],
   "source": [
    "from dataclasses import dataclass\n",
    "\n",
    "@dataclass\n",
    "class ShoppingListItem:\n",
    "    product: str\n",
    "    amount: str = \"1\""
   ]
  },
  {
   "cell_type": "markdown",
   "id": "b48a293bcabcb5eb",
   "metadata": {
    "lang": "en"
   },
   "source": [
    "Create a shopping list item that represents 500g of coffee:"
   ]
  },
  {
   "cell_type": "code",
   "execution_count": null,
   "id": "62ee411c48c216f1",
   "metadata": {},
   "outputs": [],
   "source": [
    "ShoppingListItem(\"Kaffee\", \"500g\")"
   ]
  },
  {
   "cell_type": "markdown",
   "id": "e788a1fae006bf57",
   "metadata": {
    "lang": "en"
   },
   "source": [
    "Define a class `ShoppingList` containing a list of `ShoppingListItem` instances:\n",
    "\n",
    "- Use the `@dataclass` decorator\n",
    "- The class has an attribute `items` of type `list` (or `list[ShoppingListItem]` if\n",
    "  you are using Python 3.9 or newer), initialized with an empty list.\n",
    "- The method `add_item(self, item: ShoppingListItem)` adds a `ShoppingListItem` to the shopping list.\n",
    "\n",
    "Implement a\n",
    "[`__str__()` method](https://docs.python.org/3/reference/datamodel.html#object.__str<_>_),\n",
    "so the following program:\n",
    "\n",
    "```python\n",
    "my_shopping_list = ShoppingList([ShoppingListItem('Tea', '2 packets'),\n",
    "                                 ShoppingListItem('Coffee', '1 packet')])\n",
    "print(str(my_shopping_list))\n",
    "print(repr(my_shopping_list))\n",
    "```\n",
    "\n",
    "Produces the following output:\n",
    "\n",
    "```\n",
    "Shopping List\n",
    "  Tea, (2 packets)\n",
    "  Coffee, (1 packet)\n",
    "\n",
    "ShoppingList(items=[ShoppingListItem(product='Tea', amount='2 packets'), ShoppingListItem(product='Coffee', amount='1 packet')])\n",
    "```\n",
    "\n",
    "Implement a method `__len__()` that returns the length of the shopping list, and a method `__getitem__()` that allows access to items via their numeric index."
   ]
  },
  {
   "cell_type": "code",
   "execution_count": null,
   "id": "2b44cea4d484fd19",
   "metadata": {},
   "outputs": [],
   "source": [
    "from dataclasses import field\n",
    "\n",
    "@dataclass\n",
    "class ShoppingList:\n",
    "    items: list[ShoppingListItem] = field(default_factory=list)\n",
    "\n",
    "    def __str__(self):\n",
    "        result = \"Einkaufsliste\\n\"\n",
    "        for item in self.items:\n",
    "            result += f\"  {item.product}, ({item.amount})\\n\"\n",
    "        return result\n",
    "\n",
    "    def __len__(self):\n",
    "        return len(self.items)\n",
    "\n",
    "    def __getitem__(self, n):\n",
    "        return self.items[n]\n",
    "\n",
    "    def add_item(self, item):\n",
    "        self.items.append(item)"
   ]
  },
  {
   "cell_type": "markdown",
   "id": "eb9a30745bebf5a0",
   "metadata": {
    "lang": "en"
   },
   "source": [
    "Define a variable `my_shopping_list` containing a shopping list representing the following items:\n",
    "\n",
    "- 2 packets of tea,\n",
    "- 1 packet of coffee\n",
    "\n",
    "Check that `str()` and `repr()` behave as specified above."
   ]
  },
  {
   "cell_type": "code",
   "execution_count": null,
   "id": "b128e0a8eb673c3f",
   "metadata": {},
   "outputs": [],
   "source": [
    "meine_einkaufsliste = ShoppingList([ShoppingListItem(\"Tee\", \"2 Pakete\"), ShoppingListItem(\"Kaffee\", \"1 Paket\")])\n",
    "print(str(meine_einkaufsliste))\n",
    "print(repr(meine_einkaufsliste))"
   ]
  },
  {
   "cell_type": "markdown",
   "id": "0e9d9de383d69865",
   "metadata": {
    "lang": "en"
   },
   "source": [
    "Print out `my_shopping_list`. Does the output look as expected?"
   ]
  },
  {
   "cell_type": "code",
   "execution_count": null,
   "id": "54256a0e4df51a90",
   "metadata": {},
   "outputs": [],
   "source": [
    "print(meine_einkaufsliste)"
   ]
  },
  {
   "cell_type": "markdown",
   "id": "9ae976e698d59a0a",
   "metadata": {
    "lang": "en"
   },
   "source": [
    "Determine the length of `my_shopping_list` is and its first and second item."
   ]
  },
  {
   "cell_type": "code",
   "execution_count": null,
   "id": "98bdb20be623022a",
   "metadata": {},
   "outputs": [],
   "source": [
    "print(len(meine_einkaufsliste))\n",
    "print(meine_einkaufsliste[0])\n",
    "print(meine_einkaufsliste[1])"
   ]
  },
  {
   "cell_type": "markdown",
   "id": "52b39c932e5e10b0",
   "metadata": {
    "lang": "en"
   },
   "source": [
    "What is the effect of the following expression?\n",
    "```python\n",
    "  for item in my_shopping_list:\n",
    "      print(item)\n",
    "```"
   ]
  },
  {
   "cell_type": "code",
   "execution_count": null,
   "id": "ace4af269fec4cfd",
   "metadata": {},
   "outputs": [],
   "source": [
    "for item in meine_einkaufsliste:\n",
    "    print(item)"
   ]
  },
  {
   "cell_type": "markdown",
   "id": "e2ce5586a2008127",
   "metadata": {
    "lang": "en"
   },
   "source": [
    "Extend the definition of the `ShoppingList` class so that the indexing operator `[]` can also be called with a string argument, and returns the shopping list item with the appropriate `product` attribute if such an item exists, or `None` if no such item exists.\n",
    "\n",
    "Verify that the new implementation of the indexing operators works for boths integer and string arguments.\n",
    "\n",
    "*Hint:* You can use the `isinstance()` function to check whether an object is a string:"
   ]
  },
  {
   "cell_type": "code",
   "execution_count": null,
   "id": "1a8a9f29b88e3f5c",
   "metadata": {},
   "outputs": [],
   "source": [
    "print(isinstance(\"abc\", str))\n",
    "print(isinstance(123, str))"
   ]
  },
  {
   "cell_type": "code",
   "execution_count": null,
   "id": "95efe4296bc141ff",
   "metadata": {},
   "outputs": [],
   "source": [
    "@dataclass\n",
    "class ShoppingList:\n",
    "    items: list[ShoppingListItem] = field(default_factory=list)\n",
    "\n",
    "    def __str__(self):\n",
    "        result = \"Einkaufsliste\\n\"\n",
    "        for item in self.items:\n",
    "            result += f\"  {item.product}, ({item.amount})\\n\"\n",
    "        return result\n",
    "\n",
    "    def __len__(self):\n",
    "        return len(self.items)\n",
    "\n",
    "    def __getitem__(self, n):\n",
    "        if isinstance(n, str):\n",
    "            return self.find_product(n)\n",
    "        return self.items[n]\n",
    "\n",
    "    def find_product(self, product):\n",
    "        for item in self.items:\n",
    "            if item.product == product:\n",
    "                return item\n",
    "        return None\n",
    "\n",
    "    def add_item(self, item):\n",
    "        self.items.append(item)"
   ]
  },
  {
   "cell_type": "code",
   "execution_count": null,
   "id": "f6c9cd0eeeae8571",
   "metadata": {},
   "outputs": [],
   "source": [
    "meine_einkaufsliste = ShoppingList([ShoppingListItem(\"Tee\", \"2 Pakete\"), ShoppingListItem(\"Kaffee\", \"1 Paket\")])\n",
    "print(meine_einkaufsliste[0])\n",
    "print(meine_einkaufsliste[\"Tee\"])\n",
    "print(meine_einkaufsliste[\"Marmelade\"])"
   ]
  },
  {
   "cell_type": "markdown",
   "id": "f9892c1a9718a4d5",
   "metadata": {
    "lang": "en"
   },
   "source": [
    "Add 250g butter and 1 loaf of bread to the shopping list\n",
    "`my_shopping_list`."
   ]
  },
  {
   "cell_type": "code",
   "execution_count": null,
   "id": "2f00c0a4c7414b62",
   "metadata": {},
   "outputs": [],
   "source": [
    "meine_einkaufsliste.add_item(ShoppingListItem(\"Butter\", \"250g\"))\n",
    "meine_einkaufsliste.add_item(ShoppingListItem(\"Brot\", \"1 Laib\"))\n",
    "meine_einkaufsliste"
   ]
  },
  {
   "cell_type": "markdown",
   "id": "431baeec8beb01df",
   "metadata": {
    "lang": "en"
   },
   "source": [
    "Print out the shopping list again."
   ]
  },
  {
   "cell_type": "code",
   "execution_count": null,
   "id": "31693517ecf7c5ee",
   "metadata": {},
   "outputs": [],
   "source": [
    "print(meine_einkaufsliste)"
   ]
  },
  {
   "cell_type": "markdown",
   "id": "b8e1dce9a9492993",
   "metadata": {
    "lang": "en"
   },
   "source": [
    "What happens when you add `butter` and `bread` to the shopping list again?"
   ]
  },
  {
   "cell_type": "code",
   "execution_count": null,
   "id": "617a11e712607cab",
   "metadata": {},
   "outputs": [],
   "source": [
    "meine_einkaufsliste.add_item(ShoppingListItem(\"Butter\", \"250g\"))\n",
    "meine_einkaufsliste.add_item(ShoppingListItem(\"Brot\", \"1 Laib\"))\n",
    "print(meine_einkaufsliste)"
   ]
  },
  {
   "cell_type": "markdown",
   "id": "e01aa6cebf4f6716",
   "metadata": {
    "lang": "en"
   },
   "source": [
    "*Discussion:* How could we improve the behavior of the class?"
   ]
  }
 ],
 "metadata": {
  "kernelspec": {
   "display_name": "Python 3 (ipykernel)",
   "language": "python",
   "name": "python3"
  },
  "language_info": {
   "codemirror_mode": {
    "name": "ipython",
    "version": 3
   },
   "file_extension": ".py",
   "mimetype": "text/x-python",
   "name": "python",
   "nbconvert_exporter": "python",
   "pygments_lexer": "ipython3",
   "version": "3.10.6"
  }
 },
 "nbformat": 4,
 "nbformat_minor": 5
}
