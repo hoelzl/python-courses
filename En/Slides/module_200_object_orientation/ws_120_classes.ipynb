{
 "cells": [
  {
   "cell_type": "markdown",
   "id": "8a1e57e582ab8b39",
   "metadata": {
    "lang": "en",
    "lines_to_next_cell": 2
   },
   "source": [
    "# Motor Vehicles (Part 1)\n",
    "\n",
    "Define a class `MotorVehicle` whose instances describe motor vehicles.\n",
    "Every car should have attributes `manufacturer` and `license_plate`."
   ]
  },
  {
   "cell_type": "code",
   "execution_count": null,
   "id": "90b15c7a42d2ba2b",
   "metadata": {
    "lang": "en"
   },
   "outputs": [],
   "source": [
    "class MotorVehicle:  # type: ignore\n",
    "    def __init__(self, manufacturer, license_plate):\n",
    "        self.manufacturer = manufacturer\n",
    "        self.license_plate = license_plate"
   ]
  },
  {
   "cell_type": "markdown",
   "id": "142f2565a4f33bcd",
   "metadata": {
    "lang": "en"
   },
   "source": [
    "Create two motor vehicles:\n",
    "- a BMW with license plate \"M-BW 123\"\n",
    "- a VW with license plate \"WOB-VW 246\"\n",
    "and store them in variables `bmw` and `vw`"
   ]
  },
  {
   "cell_type": "code",
   "execution_count": null,
   "id": "60f7539534c5f293",
   "metadata": {
    "lang": "en"
   },
   "outputs": [],
   "source": [
    "bmw_en = MotorVehicle(\"BMW\", \"M-BW 123\")\n",
    "vw_en = MotorVehicle(\"VW\", \"WOB-VW 246\")"
   ]
  },
  {
   "cell_type": "markdown",
   "id": "a186321bc9db75d8",
   "metadata": {
    "lang": "en"
   },
   "source": [
    "Create a new instance of `MotorVehicle` with manufacturer BMW and registration number\n",
    "\"M-BW 123\" and store it in a variable `bmw2`."
   ]
  },
  {
   "cell_type": "code",
   "execution_count": null,
   "id": "8e9fa7a82c08a712",
   "metadata": {
    "lang": "en"
   },
   "outputs": [],
   "source": [
    "bmw2_en = MotorVehicle(\"BMW\", \"M-BW 123\")"
   ]
  },
  {
   "cell_type": "markdown",
   "id": "c26f1192b777fc4b",
   "metadata": {
    "lang": "en"
   },
   "source": [
    "\n",
    "How can you determine whether `bmw` and `bmw2` (or `bmw` and `vw`) describe\n",
    "the same vehicle?"
   ]
  },
  {
   "cell_type": "code",
   "execution_count": null,
   "id": "f9b926668b3f0bf1",
   "metadata": {
    "lang": "en"
   },
   "outputs": [],
   "source": [
    "(\n",
    "    bmw_en.manufacturer == vw_en.manufacturer\n",
    "    and bmw_en.license_plate == vw_en.license_plate\n",
    ")  # type: ignore"
   ]
  },
  {
   "cell_type": "code",
   "execution_count": null,
   "id": "04f91d89a28ce363",
   "metadata": {
    "lang": "en"
   },
   "outputs": [],
   "source": [
    "(\n",
    "    bmw_en.manufacturer == bmw2_en.manufacturer\n",
    "    and bmw_en.license_plate == bmw2_en.license_plate\n",
    ")  # type: ignore"
   ]
  },
  {
   "cell_type": "markdown",
   "id": "3d6cbe682b078954",
   "metadata": {
    "lang": "en"
   },
   "source": [
    "# Motor Vehicles (Part 2)\n",
    "\n",
    "Extend the `MotorVehicle` class with a method\n",
    "`change_registration(self, new_license_plate)`,\n",
    "which changes the vehicle's license plate."
   ]
  },
  {
   "cell_type": "code",
   "execution_count": null,
   "id": "1a3faf464971c208",
   "metadata": {
    "lang": "en"
   },
   "outputs": [],
   "source": [
    "class MotorVehicle:  # type: ignore\n",
    "    def __init__(self, manufacturer, license_plate):\n",
    "        self.manufacturer = manufacturer\n",
    "        self.license_plate = license_plate\n",
    "\n",
    "    def change_registration(self, new_license_plate):\n",
    "        self.license_plate = new_license_plate"
   ]
  },
  {
   "cell_type": "markdown",
   "id": "57a95656b76710d4",
   "metadata": {
    "lang": "en"
   },
   "source": [
    "Create new instances of `bmw`, `bmw2` and `vw` as above:"
   ]
  },
  {
   "cell_type": "code",
   "execution_count": null,
   "id": "84ad0f575493d292",
   "metadata": {
    "lang": "en"
   },
   "outputs": [],
   "source": [
    "bmw_en = MotorVehicle(\"BMW\", \"M-BW 123\")\n",
    "bmw2_en = MotorVehicle(\"BMW\", \"M-BW 123\")\n",
    "vw_en = MotorVehicle(\"VW\", \"WOB-VW 246\")"
   ]
  },
  {
   "cell_type": "markdown",
   "id": "3acbdd589a815622",
   "metadata": {
    "lang": "en"
   },
   "source": [
    "\n",
    "Change the registration of the VW generated above so that it has the new\n",
    "license plate  \"BGL-A 9\". How can you tell if changing the registration\n",
    "resulted in the change you wanted?"
   ]
  },
  {
   "cell_type": "code",
   "execution_count": null,
   "id": "fab47f7cf02171be",
   "metadata": {
    "lang": "en"
   },
   "outputs": [],
   "source": [
    "vw_en.change_registration(\"BGL-A 9\")"
   ]
  },
  {
   "cell_type": "code",
   "execution_count": null,
   "id": "4ee7206bd92f247a",
   "metadata": {
    "lang": "en"
   },
   "outputs": [],
   "source": [
    "assert vw_en.license_plate == \"BGL-A 9\" and vw_en.manufacturer == \"VW\""
   ]
  },
  {
   "cell_type": "markdown",
   "id": "4b3f24ed2cba911a",
   "metadata": {
    "lang": "en"
   },
   "source": [
    "\n",
    "Change the registration of the BMW saved in `bmw` (to the new registration\n",
    "number \"F-B 21\"). Does the change affect the car saved in `bmw2`?"
   ]
  },
  {
   "cell_type": "code",
   "execution_count": null,
   "id": "6a12f8ea4e5e7634",
   "metadata": {
    "lang": "en"
   },
   "outputs": [],
   "source": [
    "bmw_en.change_registration(\"F-B 21\")\n",
    "print(\"Registration bmw:\", bmw_en.license_plate)\n",
    "print(\"Registration bmw2:\", bmw2_en.license_plate)"
   ]
  },
  {
   "cell_type": "markdown",
   "id": "5a6bf6a8721f0fae",
   "metadata": {
    "lang": "en",
    "lines_to_next_cell": 2
   },
   "source": [
    "# Motor Vehicles (Part 3)\n",
    "\n",
    "Enhance the `MotorVehicle` class by implementing\n",
    "- a `__repr__()` method that returns a string representation of the vehicle in\n",
    "  a suitable form and\n",
    "- a `__eq__()` method that checks for value equality.\n",
    "\n",
    " Repeat the above examples with the new class."
   ]
  },
  {
   "cell_type": "code",
   "execution_count": null,
   "id": "f502dce593f80585",
   "metadata": {
    "lang": "en"
   },
   "outputs": [],
   "source": [
    "class MotorVehicle:\n",
    "    def __init__(self, manufacturer, license_plate):\n",
    "        self.manufacturer = manufacturer\n",
    "        self.license_plate = license_plate\n",
    "\n",
    "    def change_registration(self, new_license_plate):\n",
    "        self.license_plate = new_license_plate\n",
    "\n",
    "    def __repr__(self):\n",
    "        return f\"MotorVehicle({self.manufacturer!r}, {self.license_plate!r})\"\n",
    "\n",
    "    def __eq__(self, rhs):\n",
    "        if isinstance(rhs, MotorVehicle):\n",
    "            return (\n",
    "                self.manufacturer == rhs.manufacturer\n",
    "                and self.license_plate == rhs.license_plate\n",
    "            )\n",
    "        return False"
   ]
  },
  {
   "cell_type": "code",
   "execution_count": null,
   "id": "48d6688b4d3580c9",
   "metadata": {
    "lang": "en"
   },
   "outputs": [],
   "source": [
    "bmw_en = MotorVehicle(\"BMW\", \"M-BW 123\")\n",
    "bmw_en  # type: ignore"
   ]
  },
  {
   "cell_type": "code",
   "execution_count": null,
   "id": "c7e628d697f2faf0",
   "metadata": {
    "lang": "en"
   },
   "outputs": [],
   "source": [
    "bmw2_en = MotorVehicle(\"BMW\", \"M-BW 123\")\n",
    "bmw2_en  # type: ignore"
   ]
  },
  {
   "cell_type": "code",
   "execution_count": null,
   "id": "1de506e1f9cfbb39",
   "metadata": {
    "lang": "en"
   },
   "outputs": [],
   "source": [
    "bmw_en == bmw2_en  # type: ignore"
   ]
  },
  {
   "cell_type": "code",
   "execution_count": null,
   "id": "4f5e483ab514167d",
   "metadata": {
    "lang": "en"
   },
   "outputs": [],
   "source": [
    "vw_en = MotorVehicle(\"VW\", \"WOB-VW 246\")\n",
    "vw_en  # type: ignore"
   ]
  },
  {
   "cell_type": "code",
   "execution_count": null,
   "id": "d38d5d457463d713",
   "metadata": {
    "lang": "en"
   },
   "outputs": [],
   "source": [
    "bmw_en.change_registration(\"F-B 21\")\n",
    "bmw_en  # type: ignore"
   ]
  },
  {
   "cell_type": "code",
   "execution_count": null,
   "id": "adb59fda63c675a6",
   "metadata": {
    "lang": "en"
   },
   "outputs": [],
   "source": [
    "bmw_en == bmw2_en  # type: ignore"
   ]
  }
 ],
 "metadata": {},
 "nbformat": 4,
 "nbformat_minor": 5
}
