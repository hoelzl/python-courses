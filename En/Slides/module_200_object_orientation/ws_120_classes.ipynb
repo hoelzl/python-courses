{
 "cells": [
  {
   "cell_type": "markdown",
   "id": "8a1e57e582ab8b39",
   "metadata": {
    "lang": "en",
    "lines_to_next_cell": 2
   },
   "source": [
    "# Motor Vehicles (Part 1)\n",
    "\n",
    "Define a class `MotorVehicle` whose instances describe motor vehicles.\n",
    "Every car should have attributes `manufacturer` and `license_plate`."
   ]
  },
  {
   "cell_type": "code",
   "execution_count": null,
   "id": "90b15c7a42d2ba2b",
   "metadata": {
    "lang": "en"
   },
   "outputs": [],
   "source": [
    "class MotorVehicle:  # type: ignore\n",
    "    def __init__(self, manufacturer, license_plate):\n",
    "        self.manufacturer = manufacturer\n",
    "        self.license_plate = license_plate"
   ]
  },
  {
   "cell_type": "markdown",
   "id": "142f2565a4f33bcd",
   "metadata": {
    "lang": "en"
   },
   "source": [
    "Create two motor vehicles:\n",
    "- a BMW with license plate \"M-BW 123\"\n",
    "- a VW with license plate \"WOB-VW 246\"\n",
    "and store them in variables `bmw` and `vw`"
   ]
  },
  {
   "cell_type": "code",
   "execution_count": null,
   "id": "60f7539534c5f293",
   "metadata": {
    "lang": "en"
   },
   "outputs": [],
   "source": [
    "bmw_en = MotorVehicle(\"BMW\", \"M-BW 123\")\n",
    "vw_en = MotorVehicle(\"VW\", \"WOB-VW 246\")"
   ]
  },
  {
   "cell_type": "markdown",
   "id": "a186321bc9db75d8",
   "metadata": {
    "lang": "en"
   },
   "source": [
    "Create a new instance of `MotorVehicle` with manufacturer BMW and registration number\n",
    "\"M-BW 123\" and store it in a variable `bmw2`."
   ]
  },
  {
   "cell_type": "code",
   "execution_count": null,
   "id": "8e9fa7a82c08a712",
   "metadata": {
    "lang": "en"
   },
   "outputs": [],
   "source": [
    "bmw2_en = MotorVehicle(\"BMW\", \"M-BW 123\")"
   ]
  },
  {
   "cell_type": "markdown",
   "id": "c26f1192b777fc4b",
   "metadata": {
    "lang": "en"
   },
   "source": [
    "\n",
    "How can you determine whether `bmw` and `bmw2` (or `bmw` and `vw`) describe\n",
    "the same vehicle?"
   ]
  },
  {
   "cell_type": "code",
   "execution_count": null,
   "id": "f9b926668b3f0bf1",
   "metadata": {
    "lang": "en"
   },
   "outputs": [],
   "source": [
    "(\n",
    "    bmw_en.manufacturer == vw_en.manufacturer\n",
    "    and bmw_en.license_plate == vw_en.license_plate\n",
    ")  # type: ignore"
   ]
  },
  {
   "cell_type": "code",
   "execution_count": null,
   "id": "04f91d89a28ce363",
   "metadata": {
    "lang": "en"
   },
   "outputs": [],
   "source": [
    "(\n",
    "    bmw_en.manufacturer == bmw2_en.manufacturer\n",
    "    and bmw_en.license_plate == bmw2_en.license_plate\n",
    ")  # type: ignore"
   ]
  },
  {
   "cell_type": "markdown",
   "id": "3d6cbe682b078954",
   "metadata": {
    "lang": "en"
   },
   "source": [
    "# Motor Vehicles (Part 2)\n",
    "\n",
    "Extend the `MotorVehicle` class with a method\n",
    "`change_registration(self, new_license_plate)`,\n",
    "which changes the vehicle's license plate."
   ]
  },
  {
   "cell_type": "code",
   "execution_count": null,
   "id": "1a3faf464971c208",
   "metadata": {
    "lang": "en"
   },
   "outputs": [],
   "source": [
    "class MotorVehicle:  # type: ignore\n",
    "    def __init__(self, manufacturer, license_plate):\n",
    "        self.manufacturer = manufacturer\n",
    "        self.license_plate = license_plate\n",
    "\n",
    "    def change_registration(self, new_license_plate):\n",
    "        self.license_plate = new_license_plate"
   ]
  },
  {
   "cell_type": "markdown",
   "id": "57a95656b76710d4",
   "metadata": {
    "lang": "en"
   },
   "source": [
    "Create new instances of `bmw`, `bmw2` and `vw` as above:"
   ]
  },
  {
   "cell_type": "code",
   "execution_count": null,
   "id": "84ad0f575493d292",
   "metadata": {
    "lang": "en"
   },
   "outputs": [],
   "source": [
    "bmw_en = MotorVehicle(\"BMW\", \"M-BW 123\")\n",
    "bmw2_en = MotorVehicle(\"BMW\", \"M-BW 123\")\n",
    "vw_en = MotorVehicle(\"VW\", \"WOB-VW 246\")"
   ]
  },
  {
   "cell_type": "markdown",
   "id": "3acbdd589a815622",
   "metadata": {
    "lang": "en"
   },
   "source": [
    "\n",
    "Change the registration of the VW generated above so that it has the new\n",
    "license plate  \"BGL-A 9\". How can you tell if changing the registration\n",
    "resulted in the change you wanted?"
   ]
  },
  {
   "cell_type": "code",
   "execution_count": null,
   "id": "fab47f7cf02171be",
   "metadata": {
    "lang": "en"
   },
   "outputs": [],
   "source": [
    "vw_en.change_registration(\"BGL-A 9\")"
   ]
  },
  {
   "cell_type": "code",
   "execution_count": null,
   "id": "4ee7206bd92f247a",
   "metadata": {
    "lang": "en"
   },
   "outputs": [],
   "source": [
    "assert vw_en.license_plate == \"BGL-A 9\" and vw_en.manufacturer == \"VW\""
   ]
  },
  {
   "cell_type": "markdown",
   "id": "4b3f24ed2cba911a",
   "metadata": {
    "lang": "en"
   },
   "source": [
    "\n",
    "Change the registration of the BMW saved in `bmw` (to the new registration\n",
    "number \"F-B 21\"). Does the change affect the car saved in `bmw2`?"
   ]
  },
  {
   "cell_type": "code",
   "execution_count": null,
   "id": "6a12f8ea4e5e7634",
   "metadata": {
    "lang": "en"
   },
   "outputs": [],
   "source": [
    "bmw_en.change_registration(\"F-B 21\")\n",
    "print(\"Registration bmw:\", bmw_en.license_plate)\n",
    "print(\"Registration bmw2:\", bmw2_en.license_plate)"
   ]
  },
  {
   "cell_type": "markdown",
   "id": "5a6bf6a8721f0fae",
   "metadata": {
    "lang": "en",
    "lines_to_next_cell": 2
   },
   "source": [
    "# Motor Vehicles (Part 3)\n",
    "\n",
    "Enhance the `MotorVehicle` class by implementing\n",
    "- a `__repr__()` method that returns a string representation of the vehicle in\n",
    "  a suitable form and\n",
    "- a `__eq__()` method that checks for value equality.\n",
    "\n",
    " Repeat the above examples with the new class."
   ]
  },
  {
   "cell_type": "code",
   "execution_count": 27,
   "id": "96f58b0ca75f627b",
   "metadata": {
    "lang": "en"
   },
   "outputs": [],
   "source": [
    "class MotorVehicle:\n",
    "    def __init__(self, manufacturer, license_plate):\n",
    "        self.manufacturer = manufacturer\n",
    "        self.license_plate = license_plate\n",
    "\n",
    "    def change_registration(self, new_license_plate):\n",
    "        self.license_plate = new_license_plate\n",
    "\n",
    "    def __repr__(self):\n",
    "        return f\"MotorVehicle({self.manufacturer!r}, {self.license_plate!r}, id={hex(id(self))})\"\n",
    "    \n",
    "    def print_with_name(self, name):\n",
    "        print(f\"{name}: {self!r}\")\n",
    "    \n",
    "    def __eq__(self, rhs):\n",
    "        if isinstance(rhs, MotorVehicle):\n",
    "            return self.manufacturer == rhs.manufacturer and self.license_plate == rhs.license_plate\n",
    "        return False"
   ]
  },
  {
   "cell_type": "code",
   "execution_count": 28,
   "id": "0c0caac82654f948",
   "metadata": {
    "lang": "en"
   },
   "outputs": [
    {
     "data": {
      "text/plain": [
       "MotorVehicle('BMW', 'M-BW 123', id=0x7f63fd32b5e0)"
      ]
     },
     "execution_count": 28,
     "metadata": {},
     "output_type": "execute_result"
    }
   ],
   "source": [
    "bmw_en = MotorVehicle(\"BMW\", \"M-BW 123\")\n",
    "bmw_en  # type: ignore"
   ]
  },
  {
   "cell_type": "code",
   "execution_count": 43,
   "id": "4fe5c8e8",
   "metadata": {},
   "outputs": [
    {
     "name": "stdout",
     "output_type": "stream",
     "text": [
      "bmw_en: MotorVehicle('BMW', 'M-BW 123', id=0x7f63fd32b5e0)\n"
     ]
    }
   ],
   "source": [
    "bmw_en.print_with_name(\"bmw_en\")"
   ]
  },
  {
   "cell_type": "code",
   "execution_count": 45,
   "id": "a73ff0b7",
   "metadata": {},
   "outputs": [
    {
     "data": {
      "text/plain": [
       "{'manufacturer': 'BMW', 'license_plate': 'M-BW 123'}"
      ]
     },
     "execution_count": 45,
     "metadata": {},
     "output_type": "execute_result"
    }
   ],
   "source": [
    "bmw_en.__dict__"
   ]
  },
  {
   "cell_type": "code",
   "execution_count": 32,
   "id": "1258dacc",
   "metadata": {},
   "outputs": [],
   "source": [
    "import ctypes"
   ]
  },
  {
   "cell_type": "code",
   "execution_count": 34,
   "id": "c599d8b1",
   "metadata": {},
   "outputs": [],
   "source": [
    "import inspect"
   ]
  },
  {
   "cell_type": "code",
   "execution_count": 38,
   "id": "b639a3e1",
   "metadata": {},
   "outputs": [
    {
     "data": {
      "text/plain": [
       "('inspect', 'currentframe', 'f_code', 'co_names')"
      ]
     },
     "execution_count": 38,
     "metadata": {},
     "output_type": "execute_result"
    }
   ],
   "source": [
    "inspect.currentframe().f_code.co_names"
   ]
  },
  {
   "cell_type": "code",
   "execution_count": 39,
   "id": "67657f00",
   "metadata": {},
   "outputs": [],
   "source": [
    "my_vehicles = {}"
   ]
  },
  {
   "cell_type": "code",
   "execution_count": 41,
   "id": "04b945e1",
   "metadata": {},
   "outputs": [],
   "source": [
    "my_vehicles[\"bmw\"] = MotorVehicle(\"BMW\", \"XXX\")"
   ]
  },
  {
   "cell_type": "code",
   "execution_count": 42,
   "id": "9b25aef3",
   "metadata": {},
   "outputs": [
    {
     "name": "stdout",
     "output_type": "stream",
     "text": [
      "bmw MotorVehicle('BMW', 'XXX', id=0x7f63fc24c730)\n"
     ]
    }
   ],
   "source": [
    "for name, vehicle in my_vehicles.items():\n",
    "    print(name, vehicle)"
   ]
  },
  {
   "cell_type": "code",
   "execution_count": 11,
   "id": "f9ae2b7db82b5af5",
   "metadata": {
    "lang": "en"
   },
   "outputs": [
    {
     "data": {
      "text/plain": [
       "MotorVehicle('BMW', 'M-BW 123')"
      ]
     },
     "execution_count": 11,
     "metadata": {},
     "output_type": "execute_result"
    }
   ],
   "source": [
    "bmw2_en = MotorVehicle(\"BMW\", \"M-BW 123\")\n",
    "bmw2_en  # type: ignore"
   ]
  },
  {
   "cell_type": "code",
   "execution_count": 13,
   "id": "87593f8c",
   "metadata": {},
   "outputs": [
    {
     "data": {
      "text/plain": [
       "True"
      ]
     },
     "execution_count": 13,
     "metadata": {},
     "output_type": "execute_result"
    }
   ],
   "source": [
    "bmw_en == bmw2_en"
   ]
  },
  {
   "cell_type": "code",
   "execution_count": 14,
   "id": "86bd08c489d331ff",
   "metadata": {
    "lang": "en"
   },
   "outputs": [
    {
     "data": {
      "text/plain": [
       "MotorVehicle('VW', 'WOB-VW 246')"
      ]
     },
     "execution_count": 14,
     "metadata": {},
     "output_type": "execute_result"
    }
   ],
   "source": [
    "vw_en = MotorVehicle(\"VW\", \"WOB-VW 246\")\n",
    "vw_en  # type: ignore"
   ]
  },
  {
   "cell_type": "code",
   "execution_count": 15,
   "id": "eef2202d32482c42",
   "metadata": {
    "lang": "en"
   },
   "outputs": [
    {
     "data": {
      "text/plain": [
       "MotorVehicle('BMW', 'F-B 21')"
      ]
     },
     "execution_count": 15,
     "metadata": {},
     "output_type": "execute_result"
    }
   ],
   "source": [
    "bmw_en.change_registration(\"F-B 21\")\n",
    "bmw_en  # type: ignore"
   ]
  },
  {
   "cell_type": "code",
   "execution_count": 16,
   "id": "f10677fa77cf8a13",
   "metadata": {},
   "outputs": [
    {
     "data": {
      "text/plain": [
       "False"
      ]
     },
     "execution_count": 16,
     "metadata": {},
     "output_type": "execute_result"
    }
   ],
   "source": [
    "bmw_en == bmw2_en"
   ]
  }
 ],
 "metadata": {
  "kernelspec": {
   "display_name": "Python 3 (ipykernel)",
   "language": "python",
   "name": "python3"
  },
  "language_info": {
   "codemirror_mode": {
    "name": "ipython",
    "version": 3
   },
   "file_extension": ".py",
   "mimetype": "text/x-python",
   "name": "python",
   "nbconvert_exporter": "python",
   "pygments_lexer": "ipython3",
   "version": "3.10.6"
  }
 },
 "nbformat": 4,
 "nbformat_minor": 5
}
