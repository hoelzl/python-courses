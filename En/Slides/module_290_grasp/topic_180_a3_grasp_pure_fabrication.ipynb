{
 "cells": [
  {
   "cell_type": "markdown",
   "id": "4d33d5711cc66d5c",
   "metadata": {
    "lang": "en",
    "lines_to_next_cell": 2,
    "slideshow": {
     "slide_type": "slide"
    }
   },
   "source": [
    "<img src=\"../img/python-logo-no-text.png\"\n",
    "     style=\"display:block;margin:auto;width:10%\"/>\n",
    "<br>\n",
    "<div style=\"text-align:center; font-size:200%;\">\n",
    "  <b>GRASP: Pure Fabrication</b>\n",
    "</div>\n",
    "<br/>\n",
    "<div style=\"text-align:center;\">Dr. Matthias Hölzl</div>\n",
    "<br/>\n",
    "<!-- <div style=\"text-align:center;\">module_290_grasp/topic_180_a3_grasp_pure_fabrication</div> -->"
   ]
  },
  {
   "cell_type": "markdown",
   "id": "ab1f860afb0abd80",
   "metadata": {
    "lang": "en",
    "slideshow": {
     "slide_type": "slide"
    }
   },
   "source": [
    "\n",
    "# GRASP: Pure Fabrication"
   ]
  }
 ],
 "metadata": {},
 "nbformat": 4,
 "nbformat_minor": 5
}
