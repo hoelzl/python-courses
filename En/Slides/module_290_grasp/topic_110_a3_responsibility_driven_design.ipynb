{
 "cells": [
  {
   "cell_type": "markdown",
   "id": "e563b2850239bc43",
   "metadata": {
    "lang": "en",
    "lines_to_next_cell": 2,
    "slideshow": {
     "slide_type": "slide"
    }
   },
   "source": [
    "<img src=\"../img/python-logo-no-text.png\"\n",
    "     style=\"display:block;margin:auto;width:10%\"/>\n",
    "<br>\n",
    "<div style=\"text-align:center; font-size:200%;\">\n",
    "  <b>Responsibility-Driven Design (RDD)</b>\n",
    "</div>\n",
    "<br/>\n",
    "<div style=\"text-align:center;\">Dr. Matthias Hölzl</div>\n",
    "<br/>\n",
    "<!-- <div style=\"text-align:center;\">module_290_grasp/topic_110_a3_responsibility_driven_design</div> -->"
   ]
  },
  {
   "cell_type": "markdown",
   "id": "b2c54f5320b1ae20",
   "metadata": {
    "lang": "en",
    "slideshow": {
     "slide_type": "slide"
    }
   },
   "source": [
    "\n",
    "# Responsibility-Driven Design (RDD)"
   ]
  }
 ],
 "metadata": {},
 "nbformat": 4,
 "nbformat_minor": 5
}
