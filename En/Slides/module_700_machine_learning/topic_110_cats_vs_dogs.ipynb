{
 "cells": [
  {
   "cell_type": "markdown",
   "id": "29f8250bec6b2e11",
   "metadata": {
    "lang": "en",
    "lines_to_next_cell": 2,
    "slideshow": {
     "slide_type": "slide"
    }
   },
   "source": [
    "<img src=\"../img/python-logo-no-text.png\"\n",
    "     style=\"display:block;margin:auto;width:10%\"/>\n",
    "<br>\n",
    "<div style=\"text-align:center; font-size:200%;\">\n",
    "  <b>Cats vs. Dogs with FastAI</b>\n",
    "</div>\n",
    "<br/>\n",
    "<div style=\"text-align:center;\">Dr. Matthias Hölzl</div>\n",
    "<br/>\n",
    "<!-- <div style=\"text-align:center;\">module_700_machine_learning/topic_110_cats_vs_dogs</div> -->"
   ]
  },
  {
   "cell_type": "code",
   "execution_count": null,
   "id": "1261d8b341a2f1bb",
   "metadata": {},
   "outputs": [],
   "source": [
    "from fastai.vision.all import *"
   ]
  },
  {
   "cell_type": "code",
   "execution_count": null,
   "id": "337d32b461ab097f",
   "metadata": {
    "lines_to_next_cell": 1
   },
   "outputs": [],
   "source": [
    "path = untar_data(URLs.PETS) / \"images\"\n",
    "path"
   ]
  },
  {
   "cell_type": "code",
   "execution_count": null,
   "id": "db3f4eafdc8d264e",
   "metadata": {},
   "outputs": [],
   "source": [
    "def is_cat(x):\n",
    "    return x[0].isupper()"
   ]
  },
  {
   "cell_type": "code",
   "execution_count": null,
   "id": "b39fa59a49545135",
   "metadata": {},
   "outputs": [],
   "source": [
    "def create_dls():\n",
    "    return ImageDataLoaders.from_name_func(\n",
    "        path,\n",
    "        get_image_files(path),\n",
    "        valid_pct=0.2,\n",
    "        seed=42,\n",
    "        label_func=is_cat,\n",
    "        item_tfms=Resize(224),\n",
    "    )"
   ]
  },
  {
   "cell_type": "code",
   "execution_count": null,
   "id": "f90fdb7726cce8f9",
   "metadata": {},
   "outputs": [],
   "source": [
    "dls = create_dls()\n",
    "dls.show_batch()"
   ]
  },
  {
   "cell_type": "code",
   "execution_count": null,
   "id": "a010289c8aba5eef",
   "metadata": {},
   "outputs": [],
   "source": [
    "learn = cnn_learner(dls, resnet34, metrics=error_rate)\n",
    "learn.dls = create_dls()"
   ]
  },
  {
   "cell_type": "code",
   "execution_count": null,
   "id": "040f18791e37ba59",
   "metadata": {},
   "outputs": [],
   "source": [
    "learn.fine_tune(1)"
   ]
  },
  {
   "cell_type": "code",
   "execution_count": null,
   "id": "11255a6f2db8c0fd",
   "metadata": {},
   "outputs": [],
   "source": [
    "learn.show_results()"
   ]
  },
  {
   "cell_type": "code",
   "execution_count": null,
   "id": "6b4e03423667dbb7",
   "metadata": {
    "tags": [
     "keep"
    ]
   },
   "outputs": [],
   "source": []
  }
 ],
 "metadata": {
  "kernelspec": {
   "display_name": "Python 3 (ipykernel)",
   "language": "python",
   "name": "python3"
  }
 },
 "nbformat": 4,
 "nbformat_minor": 5
}
