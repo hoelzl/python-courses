{
 "cells": [
  {
   "cell_type": "markdown",
   "id": "250ddd9fb7195042",
   "metadata": {
    "lang": "en",
    "slideshow": {
     "slide_type": "slide"
    }
   },
   "source": [
    "<img src=\"img/python-logo-no-text.svg\"\n",
    "     style=\"display:block;margin:auto;width:10%\"/>\n",
    "<br>\n",
    "<div style=\"text-align:center; font-size:200%;\"><b>Structured Data and XML</b></div>\n",
    "<br/>\n",
    "<div style=\"text-align:center;\">Dr. Matthias Hölzl</div>"
   ]
  },
  {
   "cell_type": "markdown",
   "id": "662d7006ff00e641",
   "metadata": {
    "lang": "en",
    "slideshow": {
     "slide_type": "slide"
    }
   },
   "source": [
    "## The XML Package\n",
    "\n",
    "See the [Python documentation](https://docs.python.org/3/library/xml.etree.elementtree.html#module-xml.etree.ElementTree)"
   ]
  },
  {
   "cell_type": "code",
   "execution_count": null,
   "id": "76aa9531ebba72f2",
   "metadata": {},
   "outputs": [],
   "source": [
    "from xml.etree import ElementTree\n",
    "from tempfile import NamedTemporaryFile\n",
    "import os"
   ]
  },
  {
   "cell_type": "code",
   "execution_count": null,
   "id": "47a4c6fbb0d1f50c",
   "metadata": {},
   "outputs": [],
   "source": [
    "xml_data = \"\"\"\\\n",
    "<?xml version=\"1.0\"?>\n",
    "<data>\n",
    "    <country name=\"Liechtenstein\">\n",
    "        <rank>1</rank>\n",
    "        <year>2008</year>\n",
    "        <gdppc>141100</gdppc>\n",
    "        <neighbor name=\"Austria\" direction=\"E\"/>\n",
    "        <neighbor name=\"Switzerland\" direction=\"W\"/>\n",
    "    </country>\n",
    "    <country name=\"Singapore\">\n",
    "        <rank>4</rank>\n",
    "        <year>2011</year>\n",
    "        <gdppc>59900</gdppc>\n",
    "        <neighbor name=\"Malaysia\" direction=\"N\"/>\n",
    "    </country>\n",
    "    <country name=\"Panama\">\n",
    "        <rank>68</rank>\n",
    "        <year>2011</year>\n",
    "        <gdppc>13600</gdppc>\n",
    "        <neighbor name=\"Costa Rica\" direction=\"W\"/>\n",
    "        <neighbor name=\"Colombia\" direction=\"E\"/>\n",
    "    </country>\n",
    "</data>\n",
    "\"\"\""
   ]
  },
  {
   "cell_type": "code",
   "execution_count": null,
   "id": "5f34bd36ed7cf1f7",
   "metadata": {},
   "outputs": [],
   "source": [
    "xml_file = NamedTemporaryFile(mode=\"w\", delete=False)\n",
    "xml_file.write(xml_data)\n",
    "xml_file.close()"
   ]
  },
  {
   "cell_type": "code",
   "execution_count": null,
   "id": "c251e69b7ae76296",
   "metadata": {},
   "outputs": [],
   "source": [
    "tree = ElementTree.parse(xml_file.name)"
   ]
  },
  {
   "cell_type": "code",
   "execution_count": null,
   "id": "c863432e11150049",
   "metadata": {
    "tags": [
     "keep"
    ]
   },
   "outputs": [],
   "source": [
    "os.remove(xml_file.name)"
   ]
  },
  {
   "cell_type": "code",
   "execution_count": null,
   "id": "659220d3e9490e3e",
   "metadata": {},
   "outputs": [],
   "source": [
    "tree"
   ]
  },
  {
   "cell_type": "code",
   "execution_count": null,
   "id": "bcc14f11c79d61e4",
   "metadata": {},
   "outputs": [],
   "source": [
    "root = tree.getroot()\n",
    "root"
   ]
  },
  {
   "cell_type": "code",
   "execution_count": null,
   "id": "8439c7f43445da8f",
   "metadata": {},
   "outputs": [],
   "source": [
    "root.tag"
   ]
  },
  {
   "cell_type": "code",
   "execution_count": null,
   "id": "1f3a812b0c360388",
   "metadata": {},
   "outputs": [],
   "source": [
    "root.attrib"
   ]
  },
  {
   "cell_type": "code",
   "execution_count": null,
   "id": "5d084464d08c05d2",
   "metadata": {},
   "outputs": [],
   "source": [
    "for child in root:\n",
    "    print(child.tag, child.attrib)"
   ]
  },
  {
   "cell_type": "code",
   "execution_count": null,
   "id": "469d6a852b7a6189",
   "metadata": {},
   "outputs": [],
   "source": [
    "root[0]"
   ]
  },
  {
   "cell_type": "code",
   "execution_count": null,
   "id": "b1c6ed162d4aa927",
   "metadata": {},
   "outputs": [],
   "source": [
    "root[0][1]"
   ]
  },
  {
   "cell_type": "code",
   "execution_count": null,
   "id": "527691ffe6ef8692",
   "metadata": {},
   "outputs": [],
   "source": [
    "root[0][1].text"
   ]
  },
  {
   "cell_type": "markdown",
   "id": "0a942a4d2719b858",
   "metadata": {
    "lang": "en"
   },
   "source": [
    "## LXML\n",
    "\n",
    "[LXML](https://lxml.de/index.html) is an alternative with (possibly) higher performance."
   ]
  },
  {
   "cell_type": "code",
   "execution_count": null,
   "id": "7c2529e00882133b",
   "metadata": {
    "tags": [
     "keep"
    ]
   },
   "outputs": [],
   "source": []
  }
 ],
 "metadata": {
  "kernelspec": {
   "display_name": "Python 3 (ipykernel)",
   "language": "python",
   "name": "python3"
  }
 },
 "nbformat": 4,
 "nbformat_minor": 5
}
