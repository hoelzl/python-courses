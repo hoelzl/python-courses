{
 "cells": [
  {
   "cell_type": "markdown",
   "id": "40cf11be",
   "metadata": {
    "lang": "en",
    "slideshow": {
     "slide_type": "slide"
    }
   },
   "source": [
    "<img src=\"img/python-logo-notext.svg\"\n",
    "     style=\"display:block;margin:auto;width:10%\"/>\n",
    "<br>\n",
    "<div style=\"text-align:center; font-size:200%;\"><b>Multiprocessing (Part 1)</b></div>\n",
    "<br/>\n",
    "<div style=\"text-align:center;\">Dr. Matthias Hölzl</div>"
   ]
  },
  {
   "cell_type": "markdown",
   "id": "016a30a3",
   "metadata": {
    "lang": "en",
    "slideshow": {
     "slide_type": "slide"
    }
   },
   "source": [
    "\n",
    "# Multiprocessing\n",
    "\n",
    "With multiprocessing, several Python interpreters are executed in parallel. Therefore,\n",
    "multiple processor cores can be used, since the various processes are not synchronized\n",
    "by a GIL. However, sharing data between processes becomes more difficult (and\n",
    "potentially a performance bottleneck)."
   ]
  },
  {
   "cell_type": "markdown",
   "id": "c41b07e1",
   "metadata": {
    "lang": "en",
    "slideshow": {
     "slide_type": "slide"
    }
   },
   "source": [
    "\n",
    "There are a number of pitfalls with multiprocessing; the [Programming\n",
    "Guidelines](https://docs.python.org/3/library/multiprocessing.html#programming-guidelines)\n",
    "in the Python documentation are helpful for avoiding them."
   ]
  },
  {
   "cell_type": "code",
   "execution_count": null,
   "id": "b164b3a0",
   "metadata": {},
   "outputs": [],
   "source": [
    "from os import getpid\n",
    "from multiprocessing import Process\n",
    "\n",
    "\n",
    "def print_message(task_id):\n",
    "    print(f\"Hello, from task {task_id}. PID is {getpid()}.\", flush=True)"
   ]
  },
  {
   "cell_type": "code",
   "execution_count": null,
   "id": "0fb499f1",
   "metadata": {},
   "outputs": [],
   "source": [
    "from threading import Thread\n",
    "\n",
    "\n",
    "def run_threads():\n",
    "    threads = [Thread(target=print_message, args=(i,)) for i in range(5)]\n",
    "    for thread in threads:\n",
    "        thread.start()\n",
    "    for thread in threads:\n",
    "        thread.join()"
   ]
  },
  {
   "cell_type": "code",
   "execution_count": null,
   "id": "73283ff9",
   "metadata": {},
   "outputs": [],
   "source": [
    "if __name__ == \"__main__\":\n",
    "    run_threads()"
   ]
  },
  {
   "cell_type": "code",
   "execution_count": null,
   "id": "635b51a9",
   "metadata": {},
   "outputs": [],
   "source": [
    "def run_processes():\n",
    "    processes = [Process(target=print_message, args=(i,)) for i in range(5)]\n",
    "    for process in processes:\n",
    "        process.start()\n",
    "    for process in processes:\n",
    "        process.join()"
   ]
  },
  {
   "cell_type": "code",
   "execution_count": null,
   "id": "fe5effd0",
   "metadata": {},
   "outputs": [],
   "source": [
    "if __name__ == \"__main__\":\n",
    "    run_processes()"
   ]
  },
  {
   "cell_type": "code",
   "execution_count": null,
   "id": "d58bf5c5",
   "metadata": {},
   "outputs": [],
   "source": []
  }
 ],
 "metadata": {
  "kernelspec": {
   "display_name": "Python 3 (ipykernel)",
   "language": "python",
   "name": "python3"
  }
 },
 "nbformat": 4,
 "nbformat_minor": 5
}
