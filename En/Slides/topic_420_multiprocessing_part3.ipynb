{
 "cells": [
  {
   "cell_type": "markdown",
   "id": "197aa3c3",
   "metadata": {
    "lang": "en",
    "slideshow": {
     "slide_type": "slide"
    }
   },
   "source": [
    "<img src=\"img/python-logo-notext.svg\"\n",
    "     style=\"display:block;margin:auto;width:10%\"/>\n",
    "<br>\n",
    "<div style=\"text-align:center; font-size:200%;\"><b>Multiprocessing (Part 3)</b></div>\n",
    "<br/>\n",
    "<div style=\"text-align:center;\">Dr. Matthias Hölzl</div>"
   ]
  },
  {
   "cell_type": "code",
   "execution_count": null,
   "id": "6da29a0b",
   "metadata": {},
   "outputs": [],
   "source": [
    "def perform_computation(x):\n",
    "    return 2 * x ** 2 + 1"
   ]
  },
  {
   "cell_type": "code",
   "execution_count": null,
   "id": "6fa85cd8",
   "metadata": {},
   "outputs": [],
   "source": [
    "if __name__ == \"__main__\":\n",
    "    print(\"List comprehension:\")\n",
    "    print([perform_computation(x) for x in [1, 2, 3]])"
   ]
  },
  {
   "cell_type": "code",
   "execution_count": null,
   "id": "19a9513d",
   "metadata": {},
   "outputs": [],
   "source": [
    "if __name__ == \"__main__\":\n",
    "    print(\"Map\")\n",
    "    print(list(map(perform_computation, [1, 2, 3])))"
   ]
  },
  {
   "cell_type": "code",
   "execution_count": null,
   "id": "751d52f1",
   "metadata": {},
   "outputs": [],
   "source": [
    "from multiprocessing import Pool"
   ]
  },
  {
   "cell_type": "code",
   "execution_count": null,
   "id": "64463500",
   "metadata": {},
   "outputs": [],
   "source": [
    "if __name__ == \"__main__\":\n",
    "    print(\"Map with process pool\")\n",
    "    with Pool(processes=4) as p:\n",
    "        print(p.map(perform_computation, [1, 2, 3]))"
   ]
  }
 ],
 "metadata": {
  "kernelspec": {
   "display_name": "Python 3 (ipykernel)",
   "language": "python",
   "name": "python3"
  }
 },
 "nbformat": 4,
 "nbformat_minor": 5
}
