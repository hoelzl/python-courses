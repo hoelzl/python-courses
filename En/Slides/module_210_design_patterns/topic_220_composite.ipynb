{
 "cells": [
  {
   "cell_type": "markdown",
   "id": "f55bb49c8f08c0cc",
   "metadata": {
    "lang": "en",
    "lines_to_next_cell": 2,
    "slideshow": {
     "slide_type": "slide"
    }
   },
   "source": [
    "<img src=\"../img/python-logo-no-text.png\"\n",
    "     style=\"display:block;margin:auto;width:10%\"/>\n",
    "<br>\n",
    "<div style=\"text-align:center; font-size:200%;\">\n",
    "  <b>Composite</b>\n",
    "</div>\n",
    "<br/>\n",
    "<div style=\"text-align:center;\">Dr. Matthias Hölzl</div>\n",
    "<br/>\n",
    "<!-- <div style=\"text-align:center;\">module_210_design_patterns/topic_220_composite</div> -->"
   ]
  },
  {
   "cell_type": "markdown",
   "id": "950216df4562123f",
   "metadata": {
    "lang": "en",
    "lines_to_next_cell": 0,
    "slideshow": {
     "slide_type": "slide"
    }
   },
   "source": [
    "\n",
    "# Composite\n",
    "\n"
   ]
  }
 ],
 "metadata": {},
 "nbformat": 4,
 "nbformat_minor": 5
}
