{
 "cells": [
  {
   "cell_type": "code",
   "execution_count": null,
   "id": "c246775ae2a597f0",
   "metadata": {},
   "outputs": [],
   "source": [
    "import os"
   ]
  },
  {
   "cell_type": "markdown",
   "id": "e8be65a381169ac9",
   "metadata": {
    "lang": "en",
    "lines_to_next_cell": 2,
    "slideshow": {
     "slide_type": "slide"
    }
   },
   "source": [
    "<img src=\"../../img/python-logo-no-text.svg\"\n",
    "     style=\"display:block;margin:auto;width:10%\"/>\n",
    "<br>\n",
    "<div style=\"text-align:center; font-size:200%;\">\n",
    "  <b>Dynamic Code Execution</b>\n",
    "</div>\n",
    "<br/>\n",
    "<div style=\"text-align:center;\">Dr. Matthias Hölzl</div>\n",
    "<br/>\n",
    "<div style=\"text-align:center;\">module_220_advanced_topics/topic_200_dynamic_code_execution</div>"
   ]
  },
  {
   "cell_type": "markdown",
   "id": "d73bc401f0b44793",
   "metadata": {
    "lang": "en",
    "slideshow": {
     "slide_type": "slide"
    }
   },
   "source": [
    "\n",
    "# Dynamic Code Execution"
   ]
  },
  {
   "cell_type": "markdown",
   "id": "6989497a98ff262f",
   "metadata": {
    "lang": "en"
   },
   "source": [
    "Dynamic access to attributes"
   ]
  },
  {
   "cell_type": "code",
   "execution_count": null,
   "id": "3f5203df18900b5a",
   "metadata": {},
   "outputs": [],
   "source": [
    "from dataclasses import dataclass"
   ]
  },
  {
   "cell_type": "code",
   "execution_count": null,
   "id": "b969f8536a0fcc26",
   "metadata": {},
   "outputs": [],
   "source": [
    "@dataclass\n",
    "class MyClass:\n",
    "    x: int"
   ]
  },
  {
   "cell_type": "code",
   "execution_count": null,
   "id": "669b68507da8985c",
   "metadata": {},
   "outputs": [],
   "source": [
    "my_obj = MyClass(1, 2)\n",
    "my_obj.x"
   ]
  },
  {
   "cell_type": "code",
   "execution_count": null,
   "id": "892ce3545adeba20",
   "metadata": {},
   "outputs": [],
   "source": [
    "hasattr(my_obj, \"x\")"
   ]
  },
  {
   "cell_type": "code",
   "execution_count": null,
   "id": "a2f9234c9679f50e",
   "metadata": {},
   "outputs": [],
   "source": [
    "getattr(my_obj, \"x\")"
   ]
  },
  {
   "cell_type": "code",
   "execution_count": null,
   "id": "bca6ea08165c119f",
   "metadata": {},
   "outputs": [],
   "source": [
    "hasattr(my_obj, \"z\")"
   ]
  },
  {
   "cell_type": "markdown",
   "id": "221710b8af6eeb1a",
   "metadata": {
    "lang": "en"
   },
   "source": [
    "# Dynamically created classes"
   ]
  },
  {
   "cell_type": "code",
   "execution_count": null,
   "id": "fae881d88280c4b8",
   "metadata": {},
   "outputs": [],
   "source": [
    "class Bar:\n",
    "    pass"
   ]
  },
  {
   "cell_type": "code",
   "execution_count": null,
   "id": "b9de86d7c8e2b6a0",
   "metadata": {},
   "outputs": [],
   "source": [
    "my_bar = Bar()\n",
    "my_bar"
   ]
  },
  {
   "cell_type": "code",
   "execution_count": null,
   "id": "ef592bca36111b80",
   "metadata": {},
   "outputs": [],
   "source": [
    "type(my_bar).mro()"
   ]
  },
  {
   "cell_type": "code",
   "execution_count": null,
   "id": "8735b7fb5ac5857f",
   "metadata": {},
   "outputs": [],
   "source": [
    "Foo = type(\"Foo\", (object,), {})"
   ]
  },
  {
   "cell_type": "code",
   "execution_count": null,
   "id": "8cde547ed4c60b79",
   "metadata": {},
   "outputs": [],
   "source": [
    "my_foo = Foo()\n",
    "my_foo"
   ]
  },
  {
   "cell_type": "code",
   "execution_count": null,
   "id": "c5a1947a86286dcf",
   "metadata": {},
   "outputs": [],
   "source": [
    "type(my_foo).mro()"
   ]
  },
  {
   "cell_type": "code",
   "execution_count": null,
   "id": "bd28110bf000c99f",
   "metadata": {},
   "outputs": [],
   "source": [
    "def make_class(name):\n",
    "    def __init__(self, **kwargs):\n",
    "        self.__dict__.update(kwargs)\n",
    "\n",
    "    def __repr__(self):\n",
    "        slot_value_repr = \", \".join(\n",
    "            f\"{slot}={value!r}\" for slot, value in self.__dict__.items()\n",
    "        )\n",
    "        return f\"{type(self).__name__}({slot_value_repr})\"\n",
    "\n",
    "    class_attributes = dict(__init__=__init__, __repr__=__repr__)\n",
    "\n",
    "    return type(name, (object,), class_attributes)"
   ]
  },
  {
   "cell_type": "code",
   "execution_count": null,
   "id": "f92ece177f268d99",
   "metadata": {},
   "outputs": [],
   "source": [
    "MyClass1 = make_class(\"MyClass1\")"
   ]
  },
  {
   "cell_type": "code",
   "execution_count": null,
   "id": "13115d67c1877d22",
   "metadata": {},
   "outputs": [],
   "source": [
    "my_obj = MyClass1()\n",
    "my_obj"
   ]
  },
  {
   "cell_type": "code",
   "execution_count": null,
   "id": "dbcb1ae3c363e7fe",
   "metadata": {},
   "outputs": [],
   "source": [
    "MyClass2 = make_class(\"MyClass2\")"
   ]
  },
  {
   "cell_type": "code",
   "execution_count": null,
   "id": "bca633ceaaa8ee34",
   "metadata": {
    "lines_to_next_cell": 2
   },
   "outputs": [],
   "source": [
    "my_obj = MyClass2(x=1, y=2)\n",
    "my_obj"
   ]
  },
  {
   "cell_type": "markdown",
   "id": "7cf2e08c0215008f",
   "metadata": {
    "lang": "en",
    "slideshow": {
     "slide_type": "subslide"
    }
   },
   "source": [
    "\n",
    "## Mini-workshop \"Programmatic Definition of Classes\"\n",
    "\n",
    "Write a function `make_classes(specs: list)` that takes a list of class names and\n",
    "returns a list of corresponding classes whose constructor takes two arguments,\n",
    "initializing `x` and `y` attributes of the object. The resulting classes should have a\n",
    "`__repr__()` method that represents them in a human-readable form and a `move(dx, dy)\n",
    "method that moves `x` and `y` by `dx` and `dy`, respectively."
   ]
  },
  {
   "cell_type": "code",
   "execution_count": null,
   "id": "16b575d788b7a861",
   "metadata": {},
   "outputs": [],
   "source": [
    "def make_classes(names):\n",
    "    def make_one_class(name):\n",
    "        def __init__(self, x, y):\n",
    "            self.x = x\n",
    "            self.y = y\n",
    "\n",
    "        def __repr__(self):\n",
    "            return f\"{type(self).__name__}(x={self.x!r},y={self.y!r})\"\n",
    "\n",
    "        def move(self, dx, dy):\n",
    "            self.x += dx\n",
    "            self.y += dy\n",
    "\n",
    "        class_attributes = dict(__init__=__init__, __repr__=__repr__, move=move)\n",
    "\n",
    "        return type(name, (object,), class_attributes)\n",
    "\n",
    "    return [make_one_class(name) for name in names]"
   ]
  },
  {
   "cell_type": "code",
   "execution_count": null,
   "id": "77430cc14091aeab",
   "metadata": {
    "tags": [
     "keep"
    ]
   },
   "outputs": [],
   "source": [
    "C1, C2, C3 = make_classes([\"C1\", \"C2\", \"C3\"])"
   ]
  },
  {
   "cell_type": "code",
   "execution_count": null,
   "id": "ac6c298069ae608c",
   "metadata": {
    "tags": [
     "keep"
    ]
   },
   "outputs": [],
   "source": [
    "c1 = C1(1, 2)\n",
    "assert c1.__repr__() == \"C1(x=1,y=2)\"\n",
    "c1.move(3, 4)\n",
    "assert c1.__repr__() == \"C1(x=4,y=6)\""
   ]
  },
  {
   "cell_type": "code",
   "execution_count": null,
   "id": "fd9944abed53c526",
   "metadata": {
    "tags": [
     "keep"
    ]
   },
   "outputs": [],
   "source": [
    "c2 = C2(4, 5)\n",
    "assert c2.__repr__() == \"C2(x=4,y=5)\"\n",
    "c2.move(-1, -1)\n",
    "assert c2.__repr__() == \"C2(x=3,y=4)\""
   ]
  },
  {
   "cell_type": "code",
   "execution_count": null,
   "id": "d10ae6b2e3489a21",
   "metadata": {
    "tags": [
     "keep"
    ]
   },
   "outputs": [],
   "source": [
    "c3 = C3(11, 22)\n",
    "assert c3.__repr__() == \"C3(x=11,y=22)\"\n",
    "c3.move(0, 0)\n",
    "assert c3.__repr__() == \"C3(x=11,y=22)\""
   ]
  },
  {
   "cell_type": "markdown",
   "id": "10af630ac08383a9",
   "metadata": {
    "lang": "en",
    "slideshow": {
     "slide_type": "slide"
    }
   },
   "source": [
    "Dynamic code execution"
   ]
  },
  {
   "cell_type": "code",
   "execution_count": null,
   "id": "cce61fcbe952f987",
   "metadata": {},
   "outputs": [],
   "source": [
    "eval(\"1 + 2\")"
   ]
  },
  {
   "cell_type": "code",
   "execution_count": null,
   "id": "9fb0093d75bc9a5f",
   "metadata": {},
   "outputs": [],
   "source": [
    "x = 1\n",
    "eval(\"x + 1\")"
   ]
  },
  {
   "cell_type": "code",
   "execution_count": null,
   "id": "499de702cd7583da",
   "metadata": {},
   "outputs": [],
   "source": [
    "def f(x, y):\n",
    "    return 10 * x + y"
   ]
  },
  {
   "cell_type": "code",
   "execution_count": null,
   "id": "6df49a0199371dce",
   "metadata": {},
   "outputs": [],
   "source": [
    "eval(\"f(2, 3)\")"
   ]
  },
  {
   "cell_type": "code",
   "execution_count": null,
   "id": "779d4867b21c5d52",
   "metadata": {},
   "outputs": [],
   "source": [
    "# eval(\"f(2, 3)\", {})"
   ]
  },
  {
   "cell_type": "code",
   "execution_count": null,
   "id": "115481b89b39c9dc",
   "metadata": {},
   "outputs": [],
   "source": [
    "eval(\"g(2, 3)\", {\"g\": f})"
   ]
  },
  {
   "cell_type": "code",
   "execution_count": null,
   "id": "71cc873c97f17765",
   "metadata": {},
   "outputs": [],
   "source": [
    "eval(\"g.__name__\", {\"g\": f})"
   ]
  },
  {
   "cell_type": "code",
   "execution_count": null,
   "id": "88b01ea65df5b51d",
   "metadata": {},
   "outputs": [],
   "source": [
    "my_src = \"\"\"\n",
    "def my_fun(x):\n",
    "    print(f\"my_fun({x})\")\n",
    "    return x ** 3\n",
    "\"\"\""
   ]
  },
  {
   "cell_type": "code",
   "execution_count": null,
   "id": "48f166c04fe898e1",
   "metadata": {},
   "outputs": [],
   "source": [
    "exec(my_src)"
   ]
  },
  {
   "cell_type": "code",
   "execution_count": null,
   "id": "a61ff7d81c0c6170",
   "metadata": {},
   "outputs": [],
   "source": [
    "my_fun(2)"
   ]
  },
  {
   "cell_type": "code",
   "execution_count": null,
   "id": "b528bc47906a6c60",
   "metadata": {},
   "outputs": [],
   "source": [
    "def build_power_fun(name, power):\n",
    "    return f\"def {name}(n):\\n    return n ** {power}\\n\""
   ]
  },
  {
   "cell_type": "code",
   "execution_count": null,
   "id": "8caf2e36a398408f",
   "metadata": {},
   "outputs": [],
   "source": [
    "exec(build_power_fun(\"a_square\", 2))"
   ]
  },
  {
   "cell_type": "code",
   "execution_count": null,
   "id": "37e0d283c7237514",
   "metadata": {},
   "outputs": [],
   "source": [
    "a_square(4)"
   ]
  },
  {
   "cell_type": "code",
   "execution_count": null,
   "id": "1ad477b0a7f27f58",
   "metadata": {},
   "outputs": [],
   "source": [
    "my_globals = {}\n",
    "exec(build_power_fun(\"pow10\", 10), my_globals)"
   ]
  },
  {
   "cell_type": "code",
   "execution_count": null,
   "id": "55094800b4db2d07",
   "metadata": {},
   "outputs": [],
   "source": [
    "# pow10(2)"
   ]
  },
  {
   "cell_type": "code",
   "execution_count": null,
   "id": "d5ea512d772a2bac",
   "metadata": {},
   "outputs": [],
   "source": [
    "my_globals.get(\"pow10\")"
   ]
  },
  {
   "cell_type": "code",
   "execution_count": null,
   "id": "0fc0d8e0429b53bd",
   "metadata": {},
   "outputs": [],
   "source": [
    "my_globals[\"pow10\"](2)"
   ]
  },
  {
   "cell_type": "code",
   "execution_count": null,
   "id": "ac3bdf3bb30c63f8",
   "metadata": {},
   "outputs": [],
   "source": [
    "# math.pow(2, 10)"
   ]
  },
  {
   "cell_type": "code",
   "execution_count": null,
   "id": "2d021fd0e607c97a",
   "metadata": {},
   "outputs": [],
   "source": [
    "exec(\"import math\")"
   ]
  },
  {
   "cell_type": "code",
   "execution_count": null,
   "id": "2d57ee419036751d",
   "metadata": {},
   "outputs": [],
   "source": [
    "math.pow(2, 10)"
   ]
  },
  {
   "cell_type": "code",
   "execution_count": null,
   "id": "28232a20dd4a0591",
   "metadata": {},
   "outputs": [],
   "source": [
    "my_code = compile(build_power_fun(\"foo\", 3), \"<string>\", \"exec\")"
   ]
  },
  {
   "cell_type": "code",
   "execution_count": null,
   "id": "6a10e16af694e82d",
   "metadata": {},
   "outputs": [],
   "source": [
    "exec(my_code)"
   ]
  },
  {
   "cell_type": "code",
   "execution_count": null,
   "id": "d0e5128e5af8afb2",
   "metadata": {},
   "outputs": [],
   "source": [
    "foo(2)"
   ]
  },
  {
   "cell_type": "markdown",
   "id": "5d93cdd099d0f719",
   "metadata": {
    "lang": "en",
    "slideshow": {
     "slide_type": "subslide"
    }
   },
   "source": [
    "\n",
    "## Mini-workshop \"Executable Configuration\"\n",
    "\n",
    "Write a function `process_config(path)` that reads in a file from `path` and\n",
    "executes the code in the file."
   ]
  },
  {
   "cell_type": "code",
   "execution_count": null,
   "id": "c67f2bd1ef2f1109",
   "metadata": {
    "lines_to_next_cell": 2
   },
   "outputs": [],
   "source": [
    "def process_config(path):\n",
    "    with open(path, \"r\", encoding=\"utf-8\") as file:\n",
    "        src = file.read()\n",
    "    exec(src)"
   ]
  },
  {
   "cell_type": "code",
   "execution_count": null,
   "id": "94aac3c27676948f",
   "metadata": {},
   "outputs": [],
   "source": [
    "# from pathlib import Path\n",
    "# process_config(Path.home() / \"Tmp/my_config.py\")"
   ]
  },
  {
   "cell_type": "code",
   "execution_count": null,
   "id": "6b4e03423667dbb7",
   "metadata": {},
   "outputs": [],
   "source": []
  }
 ],
 "metadata": {},
 "nbformat": 4,
 "nbformat_minor": 5
}
