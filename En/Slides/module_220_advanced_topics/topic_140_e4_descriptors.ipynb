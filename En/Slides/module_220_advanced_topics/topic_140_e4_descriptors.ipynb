{
 "cells": [
  {
   "cell_type": "markdown",
   "id": "f03dfc51a10249fc",
   "metadata": {
    "lang": "en",
    "slideshow": {
     "slide_type": "slide"
    }
   },
   "source": [
    "<img src=\"../../img/python-logo-no-text.svg\"\n",
    "     style=\"display:block;margin:auto;width:10%\"/>\n",
    "<br>\n",
    "<div style=\"text-align:center; font-size:200%;\">\n",
    "  <b>Attribute access and descriptors</b>\n",
    "</div>\n",
    "<br/>\n",
    "<div style=\"text-align:center;\">Dr. Matthias Hölzl</div>\n",
    "<br/>\n",
    "<div style=\"text-align:center;\">module_220_advanced_topics/topic_140_e4_descriptors</div>"
   ]
  },
  {
   "cell_type": "markdown",
   "id": "574c9dab1c4103a6",
   "metadata": {
    "lang": "en",
    "slideshow": {
     "slide_type": "slide"
    }
   },
   "source": [
    "\n",
    "## For experts: access to attributes\n",
    "\n",
    "Python allows us to modify access to attributes in several places and thereby\n",
    "control the behavior of objects."
   ]
  },
  {
   "cell_type": "code",
   "execution_count": null,
   "id": "ae8c9738bedad7a3",
   "metadata": {},
   "outputs": [],
   "source": [
    "class FortyTwo:\n",
    "    def __get__(self, instance, objtype=None):\n",
    "        return 42"
   ]
  },
  {
   "cell_type": "code",
   "execution_count": null,
   "id": "fba0a13d45b45f96",
   "metadata": {},
   "outputs": [],
   "source": [
    "class MyClass:\n",
    "    question = \"???\"\n",
    "    answer = FortyTwo()\n",
    "\n",
    "    def answer_question(self):\n",
    "        print(f\"The answer to {self.question} is {self.answer}.\")"
   ]
  },
  {
   "cell_type": "code",
   "execution_count": null,
   "id": "43a354d894bc3618",
   "metadata": {},
   "outputs": [],
   "source": [
    "my_obj = MyClass()\n",
    "my_obj.answer_question()"
   ]
  },
  {
   "cell_type": "code",
   "execution_count": null,
   "id": "9f8a056b3c86b7b4",
   "metadata": {},
   "outputs": [],
   "source": [
    "my_obj.question = \"the ultimate question of life, the universe and everything\"\n",
    "my_obj.answer_question()"
   ]
  },
  {
   "cell_type": "code",
   "execution_count": null,
   "id": "890ff575a605059e",
   "metadata": {},
   "outputs": [],
   "source": [
    "my_obj.answer = \"unknown\"\n",
    "my_obj.answer_question()"
   ]
  },
  {
   "cell_type": "code",
   "execution_count": null,
   "id": "efeab2f9badd647f",
   "metadata": {},
   "outputs": [],
   "source": [
    "# noinspection PyRedeclaration\n",
    "class FortyTwo:\n",
    "    def __get__(self, instance, objtype=None):\n",
    "        return 42\n",
    "\n",
    "    def __set__(self, instance, value):\n",
    "        print(\"Don't try to change the facts!\")"
   ]
  },
  {
   "cell_type": "code",
   "execution_count": null,
   "id": "57e543307104ba9c",
   "metadata": {},
   "outputs": [],
   "source": [
    "class MyClass:\n",
    "    question = \"???\"\n",
    "    answer = FortyTwo()\n",
    "\n",
    "    def answer_question(self):\n",
    "        print(f\"The answer to {self.question} is {self.answer}.\")"
   ]
  },
  {
   "cell_type": "code",
   "execution_count": null,
   "id": "c1a8ac6a51d02eed",
   "metadata": {},
   "outputs": [],
   "source": [
    "my_obj = MyClass()\n",
    "my_obj.answer_question()"
   ]
  },
  {
   "cell_type": "code",
   "execution_count": null,
   "id": "fd6b91665d516925",
   "metadata": {},
   "outputs": [],
   "source": [
    "my_obj.question = \"the ultimate question of life, the universe and everything\"\n",
    "my_obj.answer_question()"
   ]
  },
  {
   "cell_type": "code",
   "execution_count": null,
   "id": "cb1dc07ef5c9d799",
   "metadata": {},
   "outputs": [],
   "source": [
    "my_obj.answer = \"unknown\"\n",
    "my_obj.answer_question()"
   ]
  },
  {
   "cell_type": "markdown",
   "id": "aa9d8a513e4a53bd",
   "metadata": {
    "lang": "en"
   },
   "source": [
    "## Attributes of classes\n",
    "\n",
    " When accessing `C.name`, Python does the following:\n",
    "\n",
    " - If `name` is a key in `C.__dict__`:\n",
    "   - `v=C.__dict__['name']`\n",
    "   - If `v` is a descriptor (i.e., `type(v).__get__` is defined:\n",
    "     - Result is `type(v).__get__(v, None, C)`\n",
    "   - If `v` is not a descriptor:\n",
    "     - Result is `v`\n",
    " - If `name` is not a key in `C.__dict__`:\n",
    "   - The base classes of `C` are traversed in Method Resolution Order and\n",
    "     this procedure is performed for each class"
   ]
  },
  {
   "cell_type": "markdown",
   "id": "bbeedc8b97803b3f",
   "metadata": {
    "lang": "en",
    "slideshow": {
     "slide_type": "subslide"
    }
   },
   "source": [
    "## Attributes of instances\n",
    "\n",
    " When accessing `object.name`, Python does the following:\n",
    "\n",
    " - If `name` is an overriding descriptor `v` in `C` or one of the\n",
    "   Base classes of `C` is (`type(v)` has methods `__get__()` and\n",
    "   `__set__()`):\n",
    "   - The result is `type(v).__get__(v, object, C)`\n",
    " - Else, if `name` is a key in `object.__dict__` :\n",
    "   - The result is `object.__dict__['name']`\n",
    " - Otherwise, `object.name` delegates the search to the class, as above\n",
    "   described\n",
    "   - If this finds a descriptor `v`, then the result is\n",
    "     `type(v).__get__(v, object, C)`\n",
    "   - If a value `v` is found that is not a descriptor, then `v`\n",
    "     returned\n",
    " - If no value is found and `C.__getattr__` is defined, then\n",
    "   `C.__getattr__(object, 'name')` is called to get the value\n",
    " - Otherwise an `AttributeError` exception will be thrown\n",
    "\n",
    " This process can be overridden by the `__getattribute__` method."
   ]
  },
  {
   "cell_type": "code",
   "execution_count": null,
   "id": "8d07fa89b1b765f1",
   "metadata": {
    "slideshow": {
     "slide_type": "subslide"
    }
   },
   "outputs": [],
   "source": [
    "class LoggingDescriptor:\n",
    "    def __init__(self, name):\n",
    "        self.name = name\n",
    "\n",
    "    def __get__(self, instance, owner):\n",
    "        print(f\"__get__({self}, {instance}, {owner})\")\n",
    "        print(f\"  __dict__ == {instance.__dict__}\")\n",
    "        return instance.__dict__.get(self.name, \"nothing\")"
   ]
  },
  {
   "cell_type": "code",
   "execution_count": null,
   "id": "a4fc9a9f9dc01d7b",
   "metadata": {},
   "outputs": [],
   "source": [
    "class OverridingLoggingDescriptor(LoggingDescriptor):\n",
    "    def __set__(self, instance, value):\n",
    "        print(f\"__set__({self}, {instance}, {value}\")\n",
    "        instance.__dict__[self.name] = value"
   ]
  },
  {
   "cell_type": "code",
   "execution_count": null,
   "id": "d31f6eced5845b2c",
   "metadata": {},
   "outputs": [],
   "source": [
    "class YourClass:\n",
    "    f = LoggingDescriptor(\"f\")\n",
    "    g = OverridingLoggingDescriptor(\"g\")"
   ]
  },
  {
   "cell_type": "code",
   "execution_count": null,
   "id": "1cc8ba8db77b8e50",
   "metadata": {
    "slideshow": {
     "slide_type": "subslide"
    }
   },
   "outputs": [],
   "source": [
    "yc = YourClass()\n",
    "print(yc.f, yc.g)"
   ]
  },
  {
   "cell_type": "code",
   "execution_count": null,
   "id": "5ffaae68b3c7e142",
   "metadata": {},
   "outputs": [],
   "source": [
    "yc.f = 234\n",
    "yc.g = 345"
   ]
  },
  {
   "cell_type": "code",
   "execution_count": null,
   "id": "44ddccacd10a52bf",
   "metadata": {},
   "outputs": [],
   "source": [
    "print(yc.f, yc.g)"
   ]
  },
  {
   "cell_type": "code",
   "execution_count": null,
   "id": "a240658a1e86338d",
   "metadata": {},
   "outputs": [],
   "source": [
    "class MyClass:\n",
    "    def g(self, x):\n",
    "        print(self, x)\n",
    "\n",
    "\n",
    "def f(x, y):\n",
    "    print(x, y)"
   ]
  },
  {
   "cell_type": "code",
   "execution_count": null,
   "id": "57b01d1646f9e5c5",
   "metadata": {},
   "outputs": [],
   "source": [
    "mc = MyClass()\n",
    "print(mc.__class__)"
   ]
  },
  {
   "cell_type": "code",
   "execution_count": null,
   "id": "9af7f51a4a0304ab",
   "metadata": {},
   "outputs": [],
   "source": [
    "print(MyClass.g)\n",
    "print(mc.g.__qualname__)\n",
    "print(mc.g.__get__)"
   ]
  },
  {
   "cell_type": "code",
   "execution_count": null,
   "id": "bf6365e360df49a9",
   "metadata": {},
   "outputs": [],
   "source": [
    "print(f.__get__)"
   ]
  },
  {
   "cell_type": "code",
   "execution_count": null,
   "id": "743e62e837254faa",
   "metadata": {},
   "outputs": [],
   "source": [
    "bound_f = f.__get__(mc, MyClass)\n",
    "bound_g = mc.g\n",
    "print(bound_f)\n",
    "print(bound_g)"
   ]
  },
  {
   "cell_type": "code",
   "execution_count": null,
   "id": "ec74063a00afccc8",
   "metadata": {},
   "outputs": [],
   "source": [
    "bound_f(3)\n",
    "bound_g(3)\n",
    "mc.g(3)"
   ]
  },
  {
   "cell_type": "code",
   "execution_count": null,
   "id": "573c7ce5d0bd63eb",
   "metadata": {},
   "outputs": [],
   "source": [
    "MyClass.f = f\n",
    "mc.f(3)\n",
    "mc.g(3)"
   ]
  }
 ],
 "metadata": {
  "kernelspec": {
   "display_name": "Python 3 (ipykernel)",
   "language": "python",
   "name": "python3"
  }
 },
 "nbformat": 4,
 "nbformat_minor": 5
}
