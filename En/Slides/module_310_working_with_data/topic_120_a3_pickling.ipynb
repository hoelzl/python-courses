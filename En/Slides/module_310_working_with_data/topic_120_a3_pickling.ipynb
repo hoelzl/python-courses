{
 "cells": [
  {
   "cell_type": "markdown",
   "id": "d1eea8d31350824f",
   "metadata": {
    "lang": "en",
    "lines_to_next_cell": 2,
    "slideshow": {
     "slide_type": "slide"
    }
   },
   "source": [
    "<img src=\"../img/python-logo-no-text.png\"\n",
    "     style=\"display:block;margin:auto;width:10%\"/>\n",
    "<br>\n",
    "<div style=\"text-align:center; font-size:200%;\">\n",
    "  <b>Pickling</b>\n",
    "</div>\n",
    "<br/>\n",
    "<div style=\"text-align:center;\">Dr. Matthias Hölzl</div>\n",
    "<br/>\n",
    "<!-- <div style=\"text-align:center;\">module_310_working_with_data/topic_120_a3_pickling</div> -->"
   ]
  },
  {
   "cell_type": "markdown",
   "id": "0b8085e5cc033c52",
   "metadata": {
    "lang": "en"
   },
   "source": [
    "## Pickle\n",
    "\n",
    "The `pickle` module provides a way to easily store and load Python objects."
   ]
  },
  {
   "cell_type": "code",
   "execution_count": null,
   "id": "03caf002545446d9",
   "metadata": {},
   "outputs": [],
   "source": [
    "import pickle\n",
    "from pprint import pprint"
   ]
  },
  {
   "cell_type": "code",
   "execution_count": null,
   "id": "2e96e6e2316355f4",
   "metadata": {
    "lines_to_next_cell": 2
   },
   "outputs": [],
   "source": [
    "my_list = [1, 2, 3, 4]\n",
    "my_other_list = [3, 4, 5]\n",
    "my_dict = {1: my_list, 2: my_other_list, 3: \"a string\", 4: [\"some list\"]}"
   ]
  },
  {
   "cell_type": "code",
   "execution_count": null,
   "id": "45e63591f9c33511",
   "metadata": {
    "lines_to_next_cell": 2
   },
   "outputs": [],
   "source": [
    "pprint(my_dict)"
   ]
  },
  {
   "cell_type": "code",
   "execution_count": null,
   "id": "4023fe977aa65fda",
   "metadata": {},
   "outputs": [],
   "source": [
    "my_pickle = pickle.dumps(my_dict)\n",
    "pprint(my_pickle)"
   ]
  },
  {
   "cell_type": "code",
   "execution_count": null,
   "id": "4f94a458b3574eef",
   "metadata": {},
   "outputs": [],
   "source": [
    "restored_pickle = pickle.loads(my_pickle)"
   ]
  },
  {
   "cell_type": "code",
   "execution_count": null,
   "id": "17f27a839a0a0e21",
   "metadata": {},
   "outputs": [],
   "source": [
    "pprint(restored_pickle)"
   ]
  },
  {
   "cell_type": "code",
   "execution_count": null,
   "id": "4841e6681c41bb3d",
   "metadata": {},
   "outputs": [],
   "source": [
    "my_dict == restored_pickle"
   ]
  },
  {
   "cell_type": "code",
   "execution_count": null,
   "id": "d22ffa1784c3af51",
   "metadata": {
    "tags": [
     "keep"
    ]
   },
   "outputs": [],
   "source": [
    "my_dict is restored_pickle"
   ]
  },
  {
   "cell_type": "code",
   "execution_count": null,
   "id": "f375320c4aa6a51b",
   "metadata": {
    "tags": [
     "keep"
    ]
   },
   "outputs": [],
   "source": [
    "my_list.append(my_other_list)\n",
    "my_other_list.append(my_list)"
   ]
  },
  {
   "cell_type": "code",
   "execution_count": null,
   "id": "5029e97fd9ef3aa8",
   "metadata": {
    "lines_to_next_cell": 2,
    "tags": [
     "keep"
    ]
   },
   "outputs": [],
   "source": [
    "pprint(my_list)"
   ]
  },
  {
   "cell_type": "code",
   "execution_count": null,
   "id": "f373d6080edf821a",
   "metadata": {
    "tags": [
     "keep"
    ]
   },
   "outputs": [],
   "source": [
    "pprint(my_dict)"
   ]
  },
  {
   "cell_type": "code",
   "execution_count": null,
   "id": "1e9aec418eadcc22",
   "metadata": {
    "tags": [
     "keep"
    ]
   },
   "outputs": [],
   "source": [
    "my_pickle = pickle.dumps(my_dict)\n",
    "restored_pickle = pickle.loads(my_pickle)"
   ]
  },
  {
   "cell_type": "code",
   "execution_count": null,
   "id": "2dc7918b50d1818d",
   "metadata": {
    "tags": [
     "keep"
    ]
   },
   "outputs": [],
   "source": [
    "pprint(restored_pickle)"
   ]
  },
  {
   "cell_type": "code",
   "execution_count": null,
   "id": "b09478f4834570a0",
   "metadata": {
    "tags": [
     "keep"
    ]
   },
   "outputs": [],
   "source": [
    "# Don't try this...\n",
    "# my_dict == restored_pickle"
   ]
  }
 ],
 "metadata": {
  "kernelspec": {
   "display_name": "Python 3 (ipykernel)",
   "language": "python",
   "name": "python3"
  }
 },
 "nbformat": 4,
 "nbformat_minor": 5
}
