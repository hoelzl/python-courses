{
 "cells": [
  {
   "cell_type": "markdown",
   "id": "1bc1caf1",
   "metadata": {
    "lang": "en",
    "slideshow": {
     "slide_type": "slide"
    }
   },
   "source": [
    "<img src=\"img/python-logo-notext.svg\"\n",
    "     style=\"display:block;margin:auto;width:10%\"/>\n",
    "<br>\n",
    "<div style=\"text-align:center; font-size:200%;\"><b>Concurrency</b></div>\n",
    "<br/>\n",
    "<div style=\"text-align:center;\">Dr. Matthias Hölzl</div>"
   ]
  },
  {
   "cell_type": "markdown",
   "id": "8ab26fde",
   "metadata": {
    "lang": "en",
    "slideshow": {
     "slide_type": "slide"
    }
   },
   "source": [
    "\n",
    "\n",
    "# Concurrency\n",
    "\n",
    "Definition by Leslie Lamport (in *Time, Clocks, and the Ordering of Events*, 1976):\n",
    "\n",
    "<blockquote>\n",
    "Two events are concurrent if neither can causally affect the other.\n",
    "<blockquote>\n",
    "\n",
    "I.e., concurrent events can be executed in any order."
   ]
  },
  {
   "cell_type": "markdown",
   "id": "344c17dd",
   "metadata": {
    "lang": "en",
    "slideshow": {
     "slide_type": "subslide"
    }
   },
   "source": [
    "\n",
    "When is concurrency useful?\n",
    "\n",
    "- To reduce latency and increase throughput\n",
    "- To take advantage of multiple processor cores\n",
    "- To perform background activities"
   ]
  },
  {
   "cell_type": "markdown",
   "id": "2d7a0c18",
   "metadata": {
    "lang": "en",
    "lines_to_next_cell": 2,
    "slideshow": {
     "slide_type": "subslide"
    }
   },
   "source": [
    "\n",
    "How can concurrency be realized?\n",
    "\n",
    "- Interleaving (time slices)\n",
    "- Asynchronous processing (special case of interleaving)\n",
    "- Parallel processing"
   ]
  },
  {
   "cell_type": "markdown",
   "id": "d253f512",
   "metadata": {
    "lang": "en",
    "slideshow": {
     "slide_type": "subslide"
    }
   },
   "source": [
    "\n",
    "How can concurrency be realized?\n",
    "\n",
    "- Interleaving (time slices): Coroutines, ...\n",
    "- Asynchronous processing (special case of interleaving): event loops, async, ...\n",
    "- Parallel processing: threads, processes, futures, ...\n",
    "\n",
    "But: In Python, threads usually cause interleaving rather than real parallel\n",
    "processing!"
   ]
  },
  {
   "cell_type": "markdown",
   "id": "1d86bdad",
   "metadata": {
    "lang": "en",
    "lines_to_next_cell": 2,
    "slideshow": {
     "slide_type": "subslide"
    }
   },
   "source": [
    "\n",
    "## Threads\n",
    "\n",
    "Threads are encapsulated by the `threading.Thread` class:\n"
   ]
  },
  {
   "cell_type": "markdown",
   "id": "dcbfd4f6",
   "metadata": {
    "lang": "en",
    "lines_to_next_cell": 2,
    "slideshow": {
     "slide_type": "subslide"
    }
   },
   "source": [
    "\n",
    "### Background Processing"
   ]
  },
  {
   "cell_type": "code",
   "execution_count": null,
   "id": "5e5f00b4",
   "metadata": {},
   "outputs": [],
   "source": [
    "def wait_and_print():\n",
    "    from time import sleep\n",
    "    print(\"Starting...\")\n",
    "    sleep(10)\n",
    "    print(\"Stopping...\")"
   ]
  },
  {
   "cell_type": "code",
   "execution_count": null,
   "id": "865b5975",
   "metadata": {},
   "outputs": [],
   "source": [
    "from threading import Thread\n",
    "\n",
    "my_thread = Thread(target=wait_and_print)"
   ]
  },
  {
   "cell_type": "code",
   "execution_count": null,
   "id": "8dc1e3be",
   "metadata": {},
   "outputs": [],
   "source": [
    "my_thread.start()"
   ]
  },
  {
   "cell_type": "code",
   "execution_count": null,
   "id": "fa8a5ff9",
   "metadata": {},
   "outputs": [],
   "source": [
    "print(\"Hello, from main Thread!\")\n",
    "print(\"My thread is alive:\", my_thread.is_alive())"
   ]
  },
  {
   "cell_type": "code",
   "execution_count": null,
   "id": "166b70eb",
   "metadata": {},
   "outputs": [],
   "source": [
    "my_thread.join()\n",
    "print(\"This should run only after my_thread is done.\")\n",
    "print(\"My thread is alive:\", my_thread.is_alive())"
   ]
  },
  {
   "cell_type": "markdown",
   "id": "7f7461cb",
   "metadata": {
    "lang": "en",
    "slideshow": {
     "slide_type": "subslide"
    }
   },
   "source": [
    "\n",
    "### Reducing latency and increasing throughput"
   ]
  },
  {
   "cell_type": "code",
   "execution_count": null,
   "id": "cbc85923",
   "metadata": {},
   "outputs": [],
   "source": [
    "from time import sleep\n",
    "from random import random\n",
    "import timeit\n",
    "\n",
    "\n",
    "def simulate_processing_time(delta_time=0.1):\n",
    "    sleep(random() * delta_time + delta_time)"
   ]
  },
  {
   "cell_type": "code",
   "execution_count": null,
   "id": "d85283cb",
   "metadata": {},
   "outputs": [],
   "source": [
    "def process_request(data, results, delta_time=0.1):\n",
    "    simulate_processing_time(delta_time)\n",
    "    # Is this correct?\n",
    "    results.append(f\"->{data}\")"
   ]
  },
  {
   "cell_type": "code",
   "execution_count": null,
   "id": "a45b5151",
   "metadata": {},
   "outputs": [],
   "source": [
    "def process_requests_sequentially(num_requests):\n",
    "    results = []\n",
    "    for i in range(num_requests):\n",
    "        process_request(i, results)\n",
    "    return results"
   ]
  },
  {
   "cell_type": "code",
   "execution_count": null,
   "id": "b4641c33",
   "metadata": {},
   "outputs": [],
   "source": [
    "process_requests_sequentially(5)"
   ]
  },
  {
   "cell_type": "code",
   "execution_count": null,
   "id": "d4f55641",
   "metadata": {},
   "outputs": [],
   "source": [
    "timeit.timeit(lambda: process_requests_sequentially(5), globals=globals(), number=10)"
   ]
  },
  {
   "cell_type": "code",
   "execution_count": null,
   "id": "aa2cb051",
   "metadata": {},
   "outputs": [],
   "source": [
    "timeit.timeit(lambda: process_requests_sequentially(10), globals=globals(), number=10)"
   ]
  },
  {
   "cell_type": "code",
   "execution_count": null,
   "id": "956be079",
   "metadata": {},
   "outputs": [],
   "source": [
    "from threading import Thread\n",
    "\n",
    "\n",
    "def process_requests_concurrently(num_requests):\n",
    "    results = []\n",
    "    threads = []\n",
    "    for i in range(num_requests):\n",
    "        thread = Thread(target=lambda: process_request(i, results))\n",
    "        threads.append(thread)\n",
    "        thread.start()\n",
    "    for thread in threads:\n",
    "        thread.join()\n",
    "    return results"
   ]
  },
  {
   "cell_type": "code",
   "execution_count": null,
   "id": "22aad02d",
   "metadata": {},
   "outputs": [],
   "source": [
    "process_requests_concurrently(5)"
   ]
  },
  {
   "cell_type": "code",
   "execution_count": null,
   "id": "4c149586",
   "metadata": {},
   "outputs": [],
   "source": [
    "timeit.timeit(lambda: process_requests_concurrently(5), globals=globals(), number=10)"
   ]
  },
  {
   "cell_type": "code",
   "execution_count": null,
   "id": "45d9268f",
   "metadata": {},
   "outputs": [],
   "source": [
    "timeit.timeit(lambda: process_requests_concurrently(10), globals=globals(), number=10)"
   ]
  },
  {
   "cell_type": "code",
   "execution_count": null,
   "id": "d47b683c",
   "metadata": {},
   "outputs": [],
   "source": [
    "timeit.timeit(lambda: process_requests_concurrently(100), globals=globals(), number=10)"
   ]
  },
  {
   "cell_type": "code",
   "execution_count": null,
   "id": "6ebb6f68",
   "metadata": {},
   "outputs": [],
   "source": [
    "class MyThread(Thread):\n",
    "    # Note `run()`is overridden, not `start()`!\n",
    "    def run(self) -> None:\n",
    "        # noinspection PyUnresolvedReferences\n",
    "        process_request(*self._args, **self._kwargs)"
   ]
  },
  {
   "cell_type": "code",
   "execution_count": null,
   "id": "43d77917",
   "metadata": {},
   "outputs": [],
   "source": [
    "def process_requests_concurrently_2(num_requests):\n",
    "    results = []\n",
    "    threads = [MyThread(args=(i, results)) for i in range(num_requests)]\n",
    "    for thread in threads:\n",
    "        thread.start()\n",
    "    for thread in threads:\n",
    "        thread.join()\n",
    "    return results"
   ]
  },
  {
   "cell_type": "code",
   "execution_count": null,
   "id": "0cd04f34",
   "metadata": {},
   "outputs": [],
   "source": [
    "process_requests_concurrently_2(5)"
   ]
  },
  {
   "cell_type": "code",
   "execution_count": null,
   "id": "73c66cf5",
   "metadata": {},
   "outputs": [],
   "source": [
    "timeit.timeit(lambda: process_requests_concurrently_2(5), globals=globals(), number=10)"
   ]
  },
  {
   "cell_type": "code",
   "execution_count": null,
   "id": "0244c189",
   "metadata": {},
   "outputs": [],
   "source": [
    "timeit.timeit(lambda: process_requests_concurrently_2(10), globals=globals(), number=10)"
   ]
  },
  {
   "cell_type": "code",
   "execution_count": null,
   "id": "b8aa85c8",
   "metadata": {},
   "outputs": [],
   "source": [
    "timeit.timeit(lambda: process_requests_concurrently_2(100), globals=globals(),\n",
    "              number=10)"
   ]
  },
  {
   "cell_type": "markdown",
   "id": "bd98ed85",
   "metadata": {
    "lang": "en",
    "slideshow": {
     "slide_type": "subslide"
    }
   },
   "source": [
    "\n",
    "### Multiple Threads and the GIL"
   ]
  },
  {
   "cell_type": "code",
   "execution_count": null,
   "id": "721081ef",
   "metadata": {},
   "outputs": [],
   "source": [
    "def perform_computation(data, results, num_iterations=1_000_000):\n",
    "    result = 0\n",
    "    for i in range(num_iterations):\n",
    "        result += 1\n",
    "    results.append(f\"->{data}: {result}\")"
   ]
  },
  {
   "cell_type": "code",
   "execution_count": null,
   "id": "ea52b5ca",
   "metadata": {},
   "outputs": [],
   "source": [
    "def perform_computations_sequentially(num_requests):\n",
    "    results = []\n",
    "    for i in range(num_requests):\n",
    "        perform_computation(i, results)\n",
    "    return results"
   ]
  },
  {
   "cell_type": "code",
   "execution_count": null,
   "id": "849f84b2",
   "metadata": {},
   "outputs": [],
   "source": [
    "perform_computations_sequentially(5)"
   ]
  },
  {
   "cell_type": "code",
   "execution_count": null,
   "id": "6661233d",
   "metadata": {},
   "outputs": [],
   "source": [
    "timeit.timeit(lambda: perform_computations_sequentially(5), globals=globals(),\n",
    "              number=10)"
   ]
  },
  {
   "cell_type": "code",
   "execution_count": null,
   "id": "e88ab7f2",
   "metadata": {},
   "outputs": [],
   "source": [
    "timeit.timeit(lambda: perform_computations_sequentially(10), globals=globals(),\n",
    "              number=10)"
   ]
  },
  {
   "cell_type": "code",
   "execution_count": null,
   "id": "27355047",
   "metadata": {},
   "outputs": [],
   "source": [
    "def perform_computations_concurrently(num_requests):\n",
    "    results = []\n",
    "    threads = []\n",
    "    for i in range(num_requests):\n",
    "        thread = Thread(target=lambda: perform_computation(i, results))\n",
    "        threads.append(thread)\n",
    "        thread.start()\n",
    "    for thread in threads:\n",
    "        thread.join()\n",
    "    return results"
   ]
  },
  {
   "cell_type": "code",
   "execution_count": null,
   "id": "d5b746aa",
   "metadata": {},
   "outputs": [],
   "source": [
    "perform_computations_concurrently(5)"
   ]
  },
  {
   "cell_type": "code",
   "execution_count": null,
   "id": "6cfd963a",
   "metadata": {},
   "outputs": [],
   "source": [
    "timeit.timeit(lambda: perform_computations_concurrently(5), globals=globals(),\n",
    "              number=10)"
   ]
  },
  {
   "cell_type": "code",
   "execution_count": null,
   "id": "32d5697f",
   "metadata": {
    "lines_to_next_cell": 2
   },
   "outputs": [],
   "source": [
    "timeit.timeit(lambda: perform_computations_concurrently(10), globals=globals(),\n",
    "              number=10)"
   ]
  },
  {
   "cell_type": "markdown",
   "id": "8b60248a",
   "metadata": {
    "lang": "en",
    "lines_to_next_cell": 2,
    "slideshow": {
     "slide_type": "subslide"
    }
   },
   "source": [
    "\n",
    "In Python, only *one* Python thread is running at a time, all other threads exist but\n",
    "\"wait their turn\". Therefore, multithreading only brings advantages when, for example,\n",
    "you are waiting for input/output operations, not when multiple calculations are to be\n",
    "accelerated!"
   ]
  },
  {
   "cell_type": "markdown",
   "id": "bd492bea",
   "metadata": {
    "lang": "en",
    "lines_to_next_cell": 2,
    "slideshow": {
     "slide_type": "subslide"
    }
   },
   "source": [
    "## Workshop\n",
    "\n",
    "- Notebook `workshop_410_concurrency`\n",
    "- Section \"Parallel Requests\""
   ]
  },
  {
   "cell_type": "markdown",
   "id": "a7344610",
   "metadata": {
    "lang": "en",
    "slideshow": {
     "slide_type": "subslide"
    }
   },
   "source": [
    "\n",
    "### Synchronizing Threads\n",
    "\n",
    "Concurrent programming leads to problems that do not exist in sequential programs:"
   ]
  },
  {
   "cell_type": "code",
   "execution_count": null,
   "id": "3b32c6fc",
   "metadata": {},
   "outputs": [],
   "source": [
    "def add_ones():\n",
    "    global _result\n",
    "    for i in range(10_000):\n",
    "        tmp = _result + 1\n",
    "        # if random() > 0.99:\n",
    "        #     simulate_processing_time(0)\n",
    "        _result = tmp"
   ]
  },
  {
   "cell_type": "code",
   "execution_count": null,
   "id": "6bc1a225",
   "metadata": {},
   "outputs": [],
   "source": [
    "from threading import Thread\n",
    "\n",
    "_result = 0\n",
    "_threads = [Thread(target=add_ones) for _ in range(100)]\n",
    "for _thread in _threads:\n",
    "    _thread.start()\n",
    "for _thread in _threads:\n",
    "    _thread.join()\n",
    "print(f\"\\n_result = {_result}\")"
   ]
  },
  {
   "cell_type": "code",
   "execution_count": null,
   "id": "0a1149cb",
   "metadata": {},
   "outputs": [],
   "source": [
    "def append_one():\n",
    "    global _result_list\n",
    "    for i in range(100_000):\n",
    "        _result_list.append(1)"
   ]
  },
  {
   "cell_type": "code",
   "execution_count": null,
   "id": "1ebaf300",
   "metadata": {},
   "outputs": [],
   "source": [
    "from threading import Thread\n",
    "\n",
    "_result_list = []\n",
    "_threads = [Thread(target=append_one) for _ in range(100)]\n",
    "for _thread in _threads:\n",
    "    _thread.start()\n",
    "for _thread in _threads:\n",
    "    _thread.join()\n",
    "print(f\"\\nLength of _result_list: {len(_result_list)}\")"
   ]
  },
  {
   "cell_type": "markdown",
   "id": "c59626e1",
   "metadata": {
    "lang": "en",
    "slideshow": {
     "slide_type": "subslide"
    }
   },
   "source": [
    "\n",
    "#### Barriers\n",
    "\n",
    "A Barrier can be used to synchronize a fixed number of threads:"
   ]
  },
  {
   "cell_type": "code",
   "execution_count": null,
   "id": "388ae149",
   "metadata": {},
   "outputs": [],
   "source": [
    "from threading import Barrier, Thread\n",
    "\n",
    "_barrier = Barrier(2, timeout=5)"
   ]
  },
  {
   "cell_type": "code",
   "execution_count": null,
   "id": "9f0cd5bc",
   "metadata": {},
   "outputs": [],
   "source": [
    "def server1():\n",
    "    print(\"Server is starting!\")\n",
    "    simulate_processing_time(1.0)\n",
    "    print(\"Server started up!\")\n",
    "    _barrier.wait()\n",
    "    print(\"Server is serving!\")"
   ]
  },
  {
   "cell_type": "code",
   "execution_count": null,
   "id": "ed8367b4",
   "metadata": {},
   "outputs": [],
   "source": [
    "def client1():\n",
    "    print(\"Client is starting!\")\n",
    "    _barrier.wait()\n",
    "    print(\"Client is accessing server!\")"
   ]
  },
  {
   "cell_type": "code",
   "execution_count": null,
   "id": "fcd2185f",
   "metadata": {},
   "outputs": [],
   "source": [
    "_c = Thread(target=client1)\n",
    "_c.start()"
   ]
  },
  {
   "cell_type": "code",
   "execution_count": null,
   "id": "177e0403",
   "metadata": {},
   "outputs": [],
   "source": [
    "_s = Thread(target=server1)\n",
    "_s.start()"
   ]
  },
  {
   "cell_type": "code",
   "execution_count": null,
   "id": "07203d99",
   "metadata": {},
   "outputs": [],
   "source": [
    "_c.join()\n",
    "_s.join()"
   ]
  },
  {
   "cell_type": "code",
   "execution_count": null,
   "id": "6b60f0b4",
   "metadata": {},
   "outputs": [],
   "source": [
    "_s = Thread(target=server1)\n",
    "_s.start()"
   ]
  },
  {
   "cell_type": "code",
   "execution_count": null,
   "id": "d30d13d1",
   "metadata": {},
   "outputs": [],
   "source": [
    "_c = Thread(target=client1)\n",
    "_c.start()"
   ]
  },
  {
   "cell_type": "code",
   "execution_count": null,
   "id": "22ae13c1",
   "metadata": {},
   "outputs": [],
   "source": [
    "_s.join()\n",
    "_c.join()"
   ]
  },
  {
   "cell_type": "markdown",
   "id": "9c1a17d8",
   "metadata": {
    "lang": "en",
    "slideshow": {
     "slide_type": "subslide"
    }
   },
   "source": [
    "\n",
    "#### Locks\n",
    "\n",
    "Locks are a low-level synchronization mechanism that can be used to enforce that only\n",
    "a single thread can use a resource:"
   ]
  },
  {
   "cell_type": "code",
   "execution_count": null,
   "id": "8eaae00f",
   "metadata": {},
   "outputs": [],
   "source": [
    "from threading import Lock, Thread\n",
    "\n",
    "_result_lock = Lock()"
   ]
  },
  {
   "cell_type": "code",
   "execution_count": null,
   "id": "9e9b915f",
   "metadata": {},
   "outputs": [],
   "source": [
    "def add_ones_locked():\n",
    "    global _result\n",
    "    for i in range(10_000):\n",
    "        with _result_lock:\n",
    "            tmp = _result + 1\n",
    "            if random() > 0.99:\n",
    "                simulate_processing_time(0)\n",
    "            _result = tmp"
   ]
  },
  {
   "cell_type": "code",
   "execution_count": null,
   "id": "6b25f25c",
   "metadata": {},
   "outputs": [],
   "source": [
    "_result = 0\n",
    "_threads = [Thread(target=add_ones_locked) for _ in range(100)]\n",
    "for _thread in _threads:\n",
    "    _thread.start()\n",
    "for _thread in _threads:\n",
    "    _thread.join()\n",
    "print(f\"\\n_result = {_result}\")"
   ]
  },
  {
   "cell_type": "code",
   "execution_count": null,
   "id": "f4bd824e",
   "metadata": {},
   "outputs": [],
   "source": [
    "def server2():\n",
    "    _barrier.wait()\n",
    "    print(\"Server is serving\")\n",
    "    print(\"Server is still serving\")\n",
    "    print(\"Server is serving even more data\")"
   ]
  },
  {
   "cell_type": "code",
   "execution_count": null,
   "id": "af7375c4",
   "metadata": {},
   "outputs": [],
   "source": [
    "def client2():\n",
    "    _barrier.wait()\n",
    "    print(\"Client is accessing server\")\n",
    "    print(\"Client is still accessing server\")\n",
    "    print(\"Client is taking really long to access the server\")"
   ]
  },
  {
   "cell_type": "code",
   "execution_count": null,
   "id": "237804e4",
   "metadata": {},
   "outputs": [],
   "source": [
    "def run_tasks(task1, task2):\n",
    "    thread1 = Thread(target=task2)\n",
    "    thread1.start()\n",
    "\n",
    "    thread2 = Thread(target=task1)\n",
    "    thread2.start()\n",
    "\n",
    "    thread1.join()\n",
    "    thread2.join()"
   ]
  },
  {
   "cell_type": "code",
   "execution_count": null,
   "id": "50d07270",
   "metadata": {},
   "outputs": [],
   "source": [
    "run_tasks(server2, client2)"
   ]
  },
  {
   "cell_type": "code",
   "execution_count": null,
   "id": "f39cd61e",
   "metadata": {},
   "outputs": [],
   "source": [
    "from threading import Lock\n",
    "\n",
    "_print_lock = Lock()"
   ]
  },
  {
   "cell_type": "code",
   "execution_count": null,
   "id": "614c3890",
   "metadata": {},
   "outputs": [],
   "source": [
    "def server3():\n",
    "    _barrier.wait()\n",
    "    try:\n",
    "        _print_lock.acquire()\n",
    "        simulate_processing_time()\n",
    "        print(\"Server is serving\")\n",
    "        print(\"Server is still serving\")\n",
    "        print(\"Server is serving even more data\")\n",
    "    finally:\n",
    "        _print_lock.release()"
   ]
  },
  {
   "cell_type": "code",
   "execution_count": null,
   "id": "a5711179",
   "metadata": {},
   "outputs": [],
   "source": [
    "def client3():\n",
    "    _barrier.wait()\n",
    "    if _print_lock.acquire(blocking=False):\n",
    "        print(\"Client is accessing server\")\n",
    "        print(\"Client is still accessing server\")\n",
    "        print(\"Client is taking really long to access the server\")\n",
    "        _print_lock.release()\n",
    "    else:\n",
    "        print(\"WARNING: Could not acquire lock!!!\")"
   ]
  },
  {
   "cell_type": "code",
   "execution_count": null,
   "id": "ed841a1b",
   "metadata": {},
   "outputs": [],
   "source": [
    "run_tasks(server3, client3)"
   ]
  },
  {
   "cell_type": "code",
   "execution_count": null,
   "id": "c96cc9ac",
   "metadata": {},
   "outputs": [],
   "source": [
    "run_tasks(client3, server3)"
   ]
  },
  {
   "cell_type": "code",
   "execution_count": null,
   "id": "e8d462c0",
   "metadata": {},
   "outputs": [],
   "source": [
    "def server4():\n",
    "    _barrier.wait()\n",
    "    with _print_lock:\n",
    "        print(\"Server is serving\")\n",
    "        print(\"Server is still serving\")\n",
    "        print(\"Server is serving even more data\")"
   ]
  },
  {
   "cell_type": "code",
   "execution_count": null,
   "id": "4a6f8979",
   "metadata": {},
   "outputs": [],
   "source": [
    "def client4():\n",
    "    _barrier.wait()\n",
    "    with _print_lock:\n",
    "        print(\"Client is accessing server\")\n",
    "        print(\"Client is still accessing server\")\n",
    "        print(\"Client is taking really long to access the server\")"
   ]
  },
  {
   "cell_type": "code",
   "execution_count": null,
   "id": "ffa600f7",
   "metadata": {},
   "outputs": [],
   "source": [
    "run_tasks(server4, client4)"
   ]
  },
  {
   "cell_type": "code",
   "execution_count": null,
   "id": "db9170a5",
   "metadata": {},
   "outputs": [],
   "source": [
    "run_tasks(client4, server4)"
   ]
  },
  {
   "cell_type": "markdown",
   "id": "8c2c9c77",
   "metadata": {
    "lang": "en",
    "slideshow": {
     "slide_type": "subslide"
    }
   },
   "source": [
    "\n",
    "#### Condition Variables\n",
    "\n",
    "Condition variables are a synchronization mechanism that is based on locks but\n",
    "provides an additional way to coordinate threads: `wait()` and  `notify()` (or\n",
    "`notify_all()`):\n",
    "\n",
    "Typically, condition variables are used when multiple threads share a common state\n",
    "and need to synchronize reading and writing the state:\n",
    "\n",
    "- Threads that want to read the state use `wait()` or `wait_for()` to wait until\n",
    "  the desired state is reached\n",
    "- Threads that write the state use `notify()` or `notify_all()` to notify any\n",
    "  waiting threads about the change"
   ]
  },
  {
   "cell_type": "code",
   "execution_count": null,
   "id": "ced784f8",
   "metadata": {},
   "outputs": [],
   "source": [
    "from threading import Condition, Thread"
   ]
  },
  {
   "cell_type": "code",
   "execution_count": null,
   "id": "c28bd6dd",
   "metadata": {},
   "outputs": [],
   "source": [
    "def consumer(consumer_id, cv, items):\n",
    "    print(f\"Consumer {consumer_id} started...\", flush=True)\n",
    "    with cv:\n",
    "        print(f\"Consumer {consumer_id} waiting...\", flush=True)\n",
    "        wait_succeeded = True\n",
    "        while True:\n",
    "            while not items and wait_succeeded:\n",
    "                wait_succeeded = cv.wait(timeout=1.0)\n",
    "            if not wait_succeeded:\n",
    "                print(f\"Consumer {consumer_id} timed out...\", flush=True)\n",
    "                break\n",
    "            print(f\"Consumer {consumer_id} starts consuming...\", flush=True)\n",
    "            item = items.pop()\n",
    "            simulate_processing_time(0.1)\n",
    "            print(f\"Consumer {consumer_id} ends consuming item {item}...\", flush=True)"
   ]
  },
  {
   "cell_type": "code",
   "execution_count": null,
   "id": "d54a165f",
   "metadata": {},
   "outputs": [],
   "source": [
    "def producer(producer_id, cv, num_items, items):\n",
    "    from random import randint\n",
    "    print(f\"Producer {producer_id} started...\", flush=True)\n",
    "    for _ in range(num_items):\n",
    "        with cv:\n",
    "            item = randint(100, 999)\n",
    "            print(f\"Producer {producer_id} is producing item {item}\", flush=True)\n",
    "            items.append(item)\n",
    "            cv.notify()\n",
    "            simulate_processing_time(0.05)"
   ]
  },
  {
   "cell_type": "code",
   "execution_count": null,
   "id": "0858fb01",
   "metadata": {},
   "outputs": [],
   "source": [
    "def run_producer_consumer(num_items, num_producers=1, num_consumers=1):\n",
    "    threads = []\n",
    "    items = []\n",
    "    cv = Condition()\n",
    "    for i in range(num_consumers):\n",
    "        threads.append(Thread(target=consumer, args=(i + 1, cv, items)))\n",
    "    for i in range(num_producers):\n",
    "        threads.append(Thread(target=producer, args=(i + 1, cv, num_items, items)))\n",
    "    for thread in threads:\n",
    "        thread.start()\n",
    "    for thread in threads:\n",
    "        thread.join()"
   ]
  },
  {
   "cell_type": "code",
   "execution_count": null,
   "id": "6bb6436b",
   "metadata": {},
   "outputs": [],
   "source": [
    "run_producer_consumer(2)"
   ]
  },
  {
   "cell_type": "code",
   "execution_count": null,
   "id": "37a3c6e8",
   "metadata": {},
   "outputs": [],
   "source": [
    "run_producer_consumer(6, num_producers=1, num_consumers=3)"
   ]
  },
  {
   "cell_type": "code",
   "execution_count": null,
   "id": "346ab047",
   "metadata": {
    "lines_to_next_cell": 2
   },
   "outputs": [],
   "source": [
    "run_producer_consumer(4, num_producers=3, num_consumers=4)"
   ]
  },
  {
   "cell_type": "code",
   "execution_count": null,
   "id": "305b1ea7",
   "metadata": {},
   "outputs": [],
   "source": [
    "from queue import Queue, Empty"
   ]
  },
  {
   "cell_type": "code",
   "execution_count": null,
   "id": "37210328",
   "metadata": {},
   "outputs": [],
   "source": [
    "def producer(producer_id, q, num_items):\n",
    "    print(f\"Producer {producer_id} started...\")\n",
    "    for i in range(num_items):\n",
    "        print(f\"Producer {producer_id} produced item {producer_id}/{i}...\")\n",
    "        q.put(f\"Item {producer_id}/{i}\")\n",
    "        simulate_processing_time(0.1)"
   ]
  },
  {
   "cell_type": "code",
   "execution_count": null,
   "id": "f7a6e37f",
   "metadata": {},
   "outputs": [],
   "source": [
    "def consumer(consumer_id, q, timeout=1.0):\n",
    "    print(f\"Consumer {consumer_id} started...\")\n",
    "    try:\n",
    "        while True:\n",
    "            item = q.get(block=True, timeout=timeout)\n",
    "            print(f\"Consumer {consumer_id} starting processing of item {item}...\")\n",
    "            simulate_processing_time(0.2)\n",
    "            print(f\"Consumer {consumer_id} done processing item {item}...\")\n",
    "    except Empty:\n",
    "        print(f\"Consumer {consumer_id} timed out...\")"
   ]
  },
  {
   "cell_type": "code",
   "execution_count": null,
   "id": "bb070e0c",
   "metadata": {},
   "outputs": [],
   "source": [
    "from threading import Thread\n",
    "def run_producer_consumer_queue(num_items, num_producers=1, num_consumers=1):\n",
    "    processes = []\n",
    "    q = Queue()\n",
    "    for i in range(num_consumers):\n",
    "        processes.append(Thread(target=consumer, args=(i + 1, q)))\n",
    "    for i in range(num_producers):\n",
    "        processes.append(Thread(target=producer, args=(i + 1, q, num_items)))\n",
    "    for process in processes:\n",
    "        process.start()\n",
    "    for process in processes:\n",
    "        process.join()"
   ]
  },
  {
   "cell_type": "code",
   "execution_count": null,
   "id": "97d7c82f",
   "metadata": {},
   "outputs": [],
   "source": [
    "run_producer_consumer_queue(4)"
   ]
  },
  {
   "cell_type": "code",
   "execution_count": null,
   "id": "eb939c01",
   "metadata": {},
   "outputs": [],
   "source": [
    "run_producer_consumer_queue(6, num_producers=1, num_consumers=3)"
   ]
  },
  {
   "cell_type": "code",
   "execution_count": null,
   "id": "1ceacf68",
   "metadata": {},
   "outputs": [],
   "source": [
    "run_producer_consumer_queue(2, num_producers=4, num_consumers=3)"
   ]
  }
 ],
 "metadata": {
  "kernelspec": {
   "display_name": "Python 3 (ipykernel)",
   "language": "python",
   "name": "python3"
  }
 },
 "nbformat": 4,
 "nbformat_minor": 5
}
