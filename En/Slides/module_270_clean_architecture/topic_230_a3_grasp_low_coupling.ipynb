{
 "cells": [
  {
   "cell_type": "markdown",
   "id": "f5db294ea14a1c2a",
   "metadata": {
    "lang": "en",
    "lines_to_next_cell": 2,
    "slideshow": {
     "slide_type": "slide"
    }
   },
   "source": [
    "<img src=\"../img/python-logo-no-text.png\"\n",
    "     style=\"display:block;margin:auto;width:10%\"/>\n",
    "<br>\n",
    "<div style=\"text-align:center; font-size:200%;\">\n",
    "  <b>GRASP: Low Coupling</b>\n",
    "</div>\n",
    "<br/>\n",
    "<div style=\"text-align:center;\">Dr. Matthias Hölzl</div>\n",
    "<br/>\n",
    "<!-- <div style=\"text-align:center;\">module_270_clean_architecture/topic_230_a3_grasp_low_coupling</div> -->"
   ]
  },
  {
   "cell_type": "markdown",
   "id": "0210c214d1aa5a8c",
   "metadata": {
    "lang": "en",
    "slideshow": {
     "slide_type": "slide"
    }
   },
   "source": [
    "\n",
    "# GRASP: Low Coupling"
   ]
  }
 ],
 "metadata": {},
 "nbformat": 4,
 "nbformat_minor": 5
}
