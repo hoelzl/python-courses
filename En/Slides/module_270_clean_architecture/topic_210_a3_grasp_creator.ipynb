{
 "cells": [
  {
   "cell_type": "markdown",
   "id": "7abf3cedb2f1d57b",
   "metadata": {
    "lang": "en",
    "slideshow": {
     "slide_type": "slide"
    }
   },
   "source": [
    "<img src=\"../../img/python-logo-no-text.svg\"\n",
    "     style=\"display:block;margin:auto;width:10%\"/>\n",
    "<br>\n",
    "<div style=\"text-align:center; font-size:200%;\">\n",
    "  <b>GRASP: Creator</b>\n",
    "</div>\n",
    "<br/>\n",
    "<div style=\"text-align:center;\">Dr. Matthias Hölzl</div>\n",
    "<br/>\n",
    "<div style=\"text-align:center;\">module_270_clean_architecture/topic_210_a3_grasp_creator</div>"
   ]
  },
  {
   "cell_type": "markdown",
   "id": "52ddd72402d4b1a3",
   "metadata": {
    "lang": "en",
    "slideshow": {
     "slide_type": "slide"
    }
   },
   "source": [
    "\n",
    "# GRASP: Creator"
   ]
  }
 ],
 "metadata": {},
 "nbformat": 4,
 "nbformat_minor": 5
}
