{
 "cells": [
  {
   "cell_type": "markdown",
   "id": "d9b1b846",
   "metadata": {
    "lang": "en",
    "lines_to_next_cell": 2,
    "slideshow": {
     "slide_type": "slide"
    }
   },
   "source": [
    "<img src=\"img/python-logo-notext.svg\"\n",
    "     style=\"display:block;margin:auto;width:10%\"/>\n",
    "<br>\n",
    "<div style=\"text-align:center; font-size:200%;\"><b>Object orientation part 1: Classes</b></div>\n",
    "<br/>\n",
    "<div style=\"text-align:center;\">Dr. Matthias Hölzl</div>"
   ]
  },
  {
   "cell_type": "markdown",
   "id": "9407bbdf",
   "metadata": {
    "lang": "en",
    "slideshow": {
     "slide_type": "slide"
    }
   },
   "source": [
    "## Properties\n",
    "\n",
    "How can we create class for points that allows us to access its position both via`x` and\n",
    "`y` coordinates, as well as using radius and angle?"
   ]
  },
  {
   "cell_type": "code",
   "execution_count": null,
   "id": "80d08c26",
   "metadata": {},
   "outputs": [],
   "source": [
    "import math\n",
    "\n",
    "\n",
    "class GeoPointV0:\n",
    "    def __init__(self, x=0, y=0):\n",
    "        self.x = x\n",
    "        self.y = y\n",
    "\n",
    "    def get_radius(self):\n",
    "        return math.hypot(self.x, self.y)\n",
    "\n",
    "    def get_angle(self):\n",
    "        return math.atan2(self.y, self.x)\n",
    "\n",
    "    def __repr__(self):\n",
    "        return f\"GeoPointV0({self.x:.1f}, {self.y:.1f}, r={self.get_radius():.2f}, θ={self.get_angle():.2f})\""
   ]
  },
  {
   "cell_type": "code",
   "execution_count": null,
   "id": "fddaf40f",
   "metadata": {
    "slideshow": {
     "slide_type": "subslide"
    }
   },
   "outputs": [],
   "source": [
    "p = GeoPointV0()\n",
    "p"
   ]
  },
  {
   "cell_type": "code",
   "execution_count": null,
   "id": "fadc7347",
   "metadata": {
    "tags": [
     "keep"
    ]
   },
   "outputs": [],
   "source": [
    "assert p.x == 0.0\n",
    "assert p.y == 0.0\n",
    "assert p.get_radius() == 0.0\n",
    "assert p.get_angle() == 0.0"
   ]
  },
  {
   "cell_type": "code",
   "execution_count": null,
   "id": "5b2ae53b",
   "metadata": {},
   "outputs": [],
   "source": [
    "p = GeoPointV0(1.0, 0.0)\n",
    "p"
   ]
  },
  {
   "cell_type": "code",
   "execution_count": null,
   "id": "adb354af",
   "metadata": {
    "tags": [
     "keep"
    ]
   },
   "outputs": [],
   "source": [
    "assert p.x == 1.0\n",
    "assert p.y == 0.0\n",
    "assert p.get_radius() == 1.0\n",
    "assert p.get_angle() == 0.0"
   ]
  },
  {
   "cell_type": "code",
   "execution_count": null,
   "id": "cfab6223",
   "metadata": {},
   "outputs": [],
   "source": [
    "p = GeoPointV0(0.0, 2.0)\n",
    "p"
   ]
  },
  {
   "cell_type": "code",
   "execution_count": null,
   "id": "434241d2",
   "metadata": {
    "tags": [
     "keep"
    ]
   },
   "outputs": [],
   "source": [
    "from math import isclose, pi\n",
    "\n",
    "assert p.x == 0.0\n",
    "assert p.y == 2.0\n",
    "assert p.get_radius() == 2.0\n",
    "assert isclose(p.get_angle(), pi / 2)"
   ]
  },
  {
   "cell_type": "markdown",
   "id": "9119ad97",
   "metadata": {
    "lang": "en",
    "slideshow": {
     "slide_type": "subslide"
    }
   },
   "source": [
    "It is inconvenient that the attributes `x`\n",
    "and `y` of `GeoPointV0` must be treated differently than `radius` and `angle`:"
   ]
  },
  {
   "cell_type": "code",
   "execution_count": null,
   "id": "f070fba4",
   "metadata": {},
   "outputs": [],
   "source": [
    "p = GeoPointV0(1.0, 1.0)\n",
    "print(p.x, p.y, p.get_radius(), p.get_angle())"
   ]
  },
  {
   "cell_type": "code",
   "execution_count": null,
   "id": "211ef263",
   "metadata": {
    "slideshow": {
     "slide_type": "subslide"
    }
   },
   "outputs": [],
   "source": [
    "import math\n",
    "\n",
    "\n",
    "class GeoPointV1:\n",
    "    def __init__(self, x=0, y=0):\n",
    "        self.x = x\n",
    "        self.y = y\n",
    "\n",
    "    @property\n",
    "    def radius(self):\n",
    "        return (self.x**2 + self.y**2) ** 0.5\n",
    "\n",
    "    @property\n",
    "    def angle(self):\n",
    "        return math.atan2(self.y, self.x)\n",
    "\n",
    "    def __repr__(self):\n",
    "        return f\"GeoPointV1({self.x:.1f}, {self.y:.1f}, r={self.radius:.2f}, θ={self.angle:.2f})\""
   ]
  },
  {
   "cell_type": "code",
   "execution_count": null,
   "id": "943ab397",
   "metadata": {
    "slideshow": {
     "slide_type": "subslide"
    }
   },
   "outputs": [],
   "source": [
    "p = GeoPointV1()\n",
    "p"
   ]
  },
  {
   "cell_type": "code",
   "execution_count": null,
   "id": "e74fd999",
   "metadata": {
    "tags": [
     "keep"
    ]
   },
   "outputs": [],
   "source": [
    "assert p.x == 0.0\n",
    "assert p.y == 0.0\n",
    "assert p.radius == 0.0\n",
    "assert p.angle == 0.0"
   ]
  },
  {
   "cell_type": "code",
   "execution_count": null,
   "id": "77278c02",
   "metadata": {},
   "outputs": [],
   "source": [
    "p = GeoPointV1(1.0, 0.0)\n",
    "p"
   ]
  },
  {
   "cell_type": "code",
   "execution_count": null,
   "id": "2e25da30",
   "metadata": {
    "tags": [
     "keep"
    ]
   },
   "outputs": [],
   "source": [
    "assert p.x == 1.0\n",
    "assert p.y == 0.0\n",
    "assert p.radius == 1.0\n",
    "assert p.angle == 0.0"
   ]
  },
  {
   "cell_type": "code",
   "execution_count": null,
   "id": "ed5d0813",
   "metadata": {},
   "outputs": [],
   "source": [
    "p = GeoPointV1(0.0, 2.0)\n",
    "p"
   ]
  },
  {
   "cell_type": "code",
   "execution_count": null,
   "id": "e6ece552",
   "metadata": {
    "tags": [
     "keep"
    ]
   },
   "outputs": [],
   "source": [
    "from math import isclose, pi\n",
    "\n",
    "assert p.x == 0.0\n",
    "assert p.y == 2.0\n",
    "assert p.radius == 2.0\n",
    "assert isclose(p.angle, pi / 2)"
   ]
  },
  {
   "cell_type": "code",
   "execution_count": null,
   "id": "d3ef5d68",
   "metadata": {},
   "outputs": [],
   "source": [
    "GeoPointV1(1.0, 0.0)"
   ]
  },
  {
   "cell_type": "code",
   "execution_count": null,
   "id": "672b53f5",
   "metadata": {},
   "outputs": [],
   "source": [
    "GeoPointV1(0.0, 2.0)"
   ]
  },
  {
   "cell_type": "code",
   "execution_count": null,
   "id": "a6f00ecb",
   "metadata": {},
   "outputs": [],
   "source": [
    "p = GeoPointV1(1.0, 1.0)\n",
    "print(p.x, p.y, p.radius, p.angle)"
   ]
  },
  {
   "cell_type": "markdown",
   "id": "36ae33c0",
   "metadata": {
    "lang": "en",
    "slideshow": {
     "slide_type": "subslide"
    }
   },
   "source": [
    "## Setters for properties:\n",
    "\n",
    "Properties can also be modified:"
   ]
  },
  {
   "cell_type": "code",
   "execution_count": null,
   "id": "9b230124",
   "metadata": {},
   "outputs": [],
   "source": [
    "import math\n",
    "\n",
    "\n",
    "class GeoPointV2:\n",
    "    def __init__(self, x=0, y=0):\n",
    "        self.x = x\n",
    "        self.y = y\n",
    "\n",
    "    @property\n",
    "    def radius(self):\n",
    "        return (self.x**2 + self.y**2) ** 0.5\n",
    "\n",
    "    @radius.setter\n",
    "    def radius(self, new_radius):\n",
    "        old_radius = self.radius\n",
    "        # Check for `old_radius == 0`...\n",
    "        self.x *= new_radius / old_radius\n",
    "        self.y *= new_radius / old_radius\n",
    "\n",
    "    @property\n",
    "    def angle(self):\n",
    "        return math.atan2(self.y, self.x)\n",
    "\n",
    "    def __repr__(self):\n",
    "        return f\"GeoPointV1({self.x:.1f}, {self.y:.1f}, r={self.radius:.2f}, θ={self.angle:.2f})\""
   ]
  },
  {
   "cell_type": "code",
   "execution_count": null,
   "id": "31f05b84",
   "metadata": {},
   "outputs": [],
   "source": [
    "p = GeoPointV2(3.0, 4.0)\n",
    "print(\"Original point:  \", p)\n",
    "p.radius = 10.0\n",
    "print(\"Set radius to 10:\", p)"
   ]
  },
  {
   "cell_type": "code",
   "execution_count": null,
   "id": "d162b09d",
   "metadata": {
    "lines_to_next_cell": 2,
    "tags": [
     "keep"
    ]
   },
   "outputs": [],
   "source": [
    "assert p.radius == 10.0"
   ]
  },
  {
   "cell_type": "markdown",
   "id": "35d1df8c",
   "metadata": {
    "lang": "en",
    "slideshow": {
     "slide_type": "subslide"
    }
   },
   "source": [
    "## Class methods and factories\n",
    "\n",
    "A factory is a function (or class) used to build object instances. Class\n",
    "methods are a powerful feature of Python that is useful for implementing\n",
    "factories.\n",
    "\n",
    "Class methods are methods typically called on a class (as opposed to an\n",
    "object). In contrast to static methods (which receive no information about the\n",
    "class they are called on) they are passed a class object as argument that can\n",
    "be used to perform operations that depend on the class (such as creating\n",
    "instances)."
   ]
  },
  {
   "cell_type": "code",
   "execution_count": null,
   "id": "f6c83e15",
   "metadata": {
    "lines_to_next_cell": 1
   },
   "outputs": [],
   "source": [
    "from dataclasses import dataclass"
   ]
  },
  {
   "cell_type": "code",
   "execution_count": null,
   "id": "3a5e557f",
   "metadata": {
    "lines_to_next_cell": 1
   },
   "outputs": [],
   "source": [
    "@dataclass\n",
    "class Color:\n",
    "    r: float = 0.0\n",
    "    g: float = 0.0\n",
    "    b: float = 0.0\n",
    "    color_table = {\n",
    "        \"white\": (1.0, 1.0, 1.0),\n",
    "        \"red\": (1.0, 0.0, 0.0),\n",
    "        \"green\": (0.0, 1.0, 0.0),\n",
    "        \"blue\": (0.0, 0.0, 1.0)\n",
    "    }\n",
    "\n",
    "    @classmethod\n",
    "    def from_string(cls, color):\n",
    "        return cls(*cls.color_table.get(color, (0.0, 0.0, 0.0)))\n",
    "    \n",
    "    @classmethod\n",
    "    def from_unsigned(cls, r, g, b):\n",
    "        return cls(r/255, g/255, b/255)"
   ]
  },
  {
   "cell_type": "code",
   "execution_count": null,
   "id": "5dc4b4e2",
   "metadata": {},
   "outputs": [],
   "source": [
    "Color(0.5, 0.5, 0.5)"
   ]
  },
  {
   "cell_type": "code",
   "execution_count": null,
   "id": "b4e8c529",
   "metadata": {},
   "outputs": [],
   "source": [
    "Color.from_string(\"red\")"
   ]
  },
  {
   "cell_type": "code",
   "execution_count": null,
   "id": "7a1a30fe",
   "metadata": {
    "lines_to_next_cell": 1
   },
   "outputs": [],
   "source": [
    "Color.from_unsigned(255, 0, 0)"
   ]
  },
  {
   "cell_type": "markdown",
   "id": "6b8eed5d",
   "metadata": {
    "lang": "en",
    "slideshow": {
     "slide_type": "subslide"
    }
   },
   "source": [
    "\n",
    "If the constructor arguments of a subclass are compatible with the superclass,\n",
    "the class methods of the superclass can directly be used as factories for the\n",
    "subclass."
   ]
  },
  {
   "cell_type": "code",
   "execution_count": null,
   "id": "5c65031a",
   "metadata": {
    "lines_to_next_cell": 1
   },
   "outputs": [],
   "source": [
    "@dataclass\n",
    "class AlphaColor(Color):\n",
    "    alpha: float = 1.0"
   ]
  },
  {
   "cell_type": "code",
   "execution_count": null,
   "id": "e78d4218",
   "metadata": {},
   "outputs": [],
   "source": [
    "AlphaColor(0.5, 0.5, 0.5)"
   ]
  },
  {
   "cell_type": "code",
   "execution_count": null,
   "id": "647dae10",
   "metadata": {},
   "outputs": [],
   "source": [
    "AlphaColor.from_string(\"red\")"
   ]
  },
  {
   "cell_type": "code",
   "execution_count": null,
   "id": "718948f3",
   "metadata": {
    "lines_to_next_cell": 1
   },
   "outputs": [],
   "source": [
    "AlphaColor.from_unsigned(255, 0, 0)"
   ]
  },
  {
   "cell_type": "markdown",
   "id": "72927e5c",
   "metadata": {
    "lang": "en",
    "slideshow": {
     "slide_type": "subslide"
    }
   },
   "source": [
    "## Attributes of classes\n",
    "\n",
    "Most attributes are defined at the instance level, i.e.,\n",
    "each object has its own values for the attributes. But sometimes it\n",
    "makes sense to define attributes on the class level as well:"
   ]
  },
  {
   "cell_type": "code",
   "execution_count": null,
   "id": "438f3923",
   "metadata": {},
   "outputs": [],
   "source": [
    "class CountedAdder:\n",
    "    # Attribut der Klasse, wird von allen Instanzen geteilt\n",
    "    num_counters = 0\n",
    "\n",
    "    def __init__(self, value):\n",
    "        CountedAdder.num_counters += 1\n",
    "        # Instanzvariable (-attribut): Jede Instanz hat eigene Werte dafür\n",
    "        self.value = value\n",
    "\n",
    "    def describe(self):\n",
    "        print(\n",
    "            f\"One of {CountedAdder.num_counters} adders. \"\n",
    "            f\"This one adds {self.value} to its argument.\"\n",
    "        )\n",
    "\n",
    "    def add(self, n):\n",
    "        return self.value + n"
   ]
  },
  {
   "cell_type": "code",
   "execution_count": null,
   "id": "f5557b9c",
   "metadata": {},
   "outputs": [],
   "source": [
    "print(CountedAdder.num_counters)\n",
    "a1 = CountedAdder(10)\n",
    "print(CountedAdder.num_counters)\n",
    "a2 = CountedAdder(20)\n",
    "print(CountedAdder.num_counters)"
   ]
  },
  {
   "cell_type": "code",
   "execution_count": null,
   "id": "e013767d",
   "metadata": {},
   "outputs": [],
   "source": [
    "print(a1.add(1))\n",
    "print(a2.add(2))"
   ]
  },
  {
   "cell_type": "code",
   "execution_count": null,
   "id": "99542c43",
   "metadata": {},
   "outputs": [],
   "source": [
    "a1.describe()\n",
    "a2.describe()"
   ]
  },
  {
   "cell_type": "code",
   "execution_count": null,
   "id": "bef4d48f",
   "metadata": {},
   "outputs": [],
   "source": [
    "print(CountedAdder.num_counters)\n",
    "print(a1.num_counters)\n",
    "print(a2.num_counters)"
   ]
  },
  {
   "cell_type": "code",
   "execution_count": null,
   "id": "a1cc0fd3",
   "metadata": {
    "lines_to_next_cell": 2
   },
   "outputs": [],
   "source": [
    "print(CountedAdder.add)\n",
    "print(a1.add)\n",
    "print(a2.add)"
   ]
  },
  {
   "cell_type": "markdown",
   "id": "9938f8a8",
   "metadata": {
    "lang": "en"
   },
   "source": [
    "### Inheritance"
   ]
  },
  {
   "cell_type": "code",
   "execution_count": null,
   "id": "aff9f185",
   "metadata": {},
   "outputs": [],
   "source": [
    "class LoggingAdder(CountedAdder):\n",
    "    def add(self, n):\n",
    "        print(f\"Adding {self.value} to {n}\")\n",
    "        return self.value + n"
   ]
  },
  {
   "cell_type": "code",
   "execution_count": null,
   "id": "5f46e47f",
   "metadata": {},
   "outputs": [],
   "source": [
    "a3 = LoggingAdder(30)\n",
    "print(a3.add(3))\n",
    "print(a3.num_counters)"
   ]
  },
  {
   "cell_type": "code",
   "execution_count": null,
   "id": "bee1409d",
   "metadata": {},
   "outputs": [],
   "source": [
    "a1.describe()\n",
    "a2.describe()\n",
    "a3.describe()"
   ]
  },
  {
   "cell_type": "code",
   "execution_count": null,
   "id": "14507b7f",
   "metadata": {},
   "outputs": [],
   "source": [
    "# Method Resolution Order:\n",
    "LoggingAdder.mro()"
   ]
  },
  {
   "cell_type": "code",
   "execution_count": null,
   "id": "7ce4ffc7",
   "metadata": {},
   "outputs": [],
   "source": [
    "print(CountedAdder.add)\n",
    "print(a1.add)\n",
    "print(a2.add)\n",
    "print(LoggingAdder.add)\n",
    "print(a3.add)"
   ]
  },
  {
   "cell_type": "code",
   "execution_count": null,
   "id": "4d21103a",
   "metadata": {},
   "outputs": [],
   "source": [
    "print(CountedAdder.add)\n",
    "print(a1.add.__func__)\n",
    "print(a2.add.__func__)\n",
    "print(LoggingAdder.add)\n",
    "print(a3.add.__func__)"
   ]
  },
  {
   "cell_type": "code",
   "execution_count": null,
   "id": "a2924c11",
   "metadata": {},
   "outputs": [],
   "source": [
    "a1.__dict__[\"value\"] = 15"
   ]
  },
  {
   "cell_type": "code",
   "execution_count": null,
   "id": "db8220d9",
   "metadata": {},
   "outputs": [],
   "source": [
    "a1.add(0)"
   ]
  },
  {
   "cell_type": "code",
   "execution_count": null,
   "id": "e75d551d",
   "metadata": {},
   "outputs": [],
   "source": [
    "LoggingAdder.__dict__"
   ]
  },
  {
   "cell_type": "markdown",
   "id": "10f067c0",
   "metadata": {
    "lang": "en",
    "slideshow": {
     "slide_type": "slide"
    }
   },
   "source": [
    "## For experts: access to attributes\n",
    "\n",
    "Python allows us to modify access to attributes in several places."
   ]
  },
  {
   "cell_type": "markdown",
   "id": "8ef506a8",
   "metadata": {
    "lang": "en"
   },
   "source": [
    "## Attributes of classes\n",
    "\n",
    " When accessing `C.name`, Python does the following:\n",
    "\n",
    " - If `name` is a key in `C.__dict__`:\n",
    "   - `v=C.__dict__['name']`\n",
    "   - If `v` is a descriptor (i.e., `type(v).__get__` is defined:\n",
    "     - Result is `type(v).__get__(v, None, C)`\n",
    "   - If `v` is not a descriptor:\n",
    "     - Result is `v`\n",
    " - If `name` is not a key in `C.__dict__`:\n",
    "   - The base classes of `C` are traversed in Method Resolution Order and\n",
    "     this procedure is performed for each class"
   ]
  },
  {
   "cell_type": "markdown",
   "id": "a227d280",
   "metadata": {
    "lang": "en",
    "slideshow": {
     "slide_type": "subslide"
    }
   },
   "source": [
    "## Attributes of instances\n",
    "\n",
    " When accessing `object.name`, Python does the following:\n",
    "\n",
    " - If `name` is an overriding descriptor `v` in `C` or one of the\n",
    "   Base classes of `C` is (`type(v)` has methods `__get__()` and\n",
    "   `__set__()`:\n",
    "   - The result is `type(v).__get__(v, object, C)`\n",
    " - Else, if `name` is a key in `object.__dict__` :\n",
    "   - The result is `object.__dict__['name']`\n",
    " - Otherwise, `object.name` delegates the search to the class, as above\n",
    "   described\n",
    "   - If this finds a descriptor `v`, then the result is\n",
    "     `type(v).__get__(v, object, C)`\n",
    "   - If a value `v` is found that is not a descriptor, then `v`\n",
    "     returned\n",
    " - If no value is found and `C.__getattr__` is defined, then\n",
    "   `C.__getattr__(object, 'name')` is called to get the value\n",
    " - Otherwise an `AttributeError` exception will be thrown\n",
    "\n",
    " This process can be overridden by the `__getattribute__` method."
   ]
  },
  {
   "cell_type": "code",
   "execution_count": null,
   "id": "c6437d2a",
   "metadata": {
    "slideshow": {
     "slide_type": "subslide"
    }
   },
   "outputs": [],
   "source": [
    "class LoggingDescriptor:\n",
    "    def __init__(self, name):\n",
    "        self.name = name\n",
    "\n",
    "    def __get__(self, instance, owner):\n",
    "        print(f\"__get__({self}, {instance}, {owner})\")\n",
    "        print(f\"  __dict__ == {instance.__dict__}\")\n",
    "        return instance.__dict__.get(self.name, \"nothing\")"
   ]
  },
  {
   "cell_type": "code",
   "execution_count": null,
   "id": "f136cee0",
   "metadata": {},
   "outputs": [],
   "source": [
    "class OverridingLoggingDescriptor(LoggingDescriptor):\n",
    "    def __set__(self, instance, value):\n",
    "        print(f\"__set__({self}, {instance}, {value}\")\n",
    "        instance.__dict__[self.name] = value"
   ]
  },
  {
   "cell_type": "code",
   "execution_count": null,
   "id": "c70d5a52",
   "metadata": {},
   "outputs": [],
   "source": [
    "class YourClass:\n",
    "    f = LoggingDescriptor(\"f\")\n",
    "    g = OverridingLoggingDescriptor(\"g\")"
   ]
  },
  {
   "cell_type": "code",
   "execution_count": null,
   "id": "554aa970",
   "metadata": {
    "slideshow": {
     "slide_type": "subslide"
    }
   },
   "outputs": [],
   "source": [
    "yc = YourClass()\n",
    "print(yc.f, yc.g)"
   ]
  },
  {
   "cell_type": "code",
   "execution_count": null,
   "id": "c1e1d2b0",
   "metadata": {},
   "outputs": [],
   "source": [
    "yc.f = 234\n",
    "yc.g = 345"
   ]
  },
  {
   "cell_type": "code",
   "execution_count": null,
   "id": "7a172eee",
   "metadata": {},
   "outputs": [],
   "source": [
    "print(yc.f, yc.g)"
   ]
  },
  {
   "cell_type": "code",
   "execution_count": null,
   "id": "3dbd8bd7",
   "metadata": {},
   "outputs": [],
   "source": [
    "class MyClass:\n",
    "    def g(self, x):\n",
    "        print(self, x)\n",
    "\n",
    "\n",
    "def f(x, y):\n",
    "    print(x, y)"
   ]
  },
  {
   "cell_type": "code",
   "execution_count": null,
   "id": "f67206c9",
   "metadata": {},
   "outputs": [],
   "source": [
    "mc = MyClass()\n",
    "print(mc.__class__)"
   ]
  },
  {
   "cell_type": "code",
   "execution_count": null,
   "id": "b2dc2b56",
   "metadata": {},
   "outputs": [],
   "source": [
    "print(MyClass.g)\n",
    "print(mc.g.__qualname__)\n",
    "print(mc.g.__get__)"
   ]
  },
  {
   "cell_type": "code",
   "execution_count": null,
   "id": "fe40e77b",
   "metadata": {},
   "outputs": [],
   "source": [
    "print(f.__get__)"
   ]
  },
  {
   "cell_type": "code",
   "execution_count": null,
   "id": "1dd21168",
   "metadata": {},
   "outputs": [],
   "source": [
    "bound_f = f.__get__(mc, MyClass)\n",
    "bound_g = mc.g\n",
    "print(bound_f)\n",
    "print(bound_g)"
   ]
  },
  {
   "cell_type": "code",
   "execution_count": null,
   "id": "6a11c19b",
   "metadata": {},
   "outputs": [],
   "source": [
    "bound_f(3)\n",
    "bound_g(3)\n",
    "mc.g(3)"
   ]
  }
 ],
 "metadata": {
  "kernelspec": {
   "display_name": "Python 3 (ipykernel)",
   "language": "python",
   "name": "python3"
  }
 },
 "nbformat": 4,
 "nbformat_minor": 5
}
